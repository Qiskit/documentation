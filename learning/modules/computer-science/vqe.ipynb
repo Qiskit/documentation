{
 "cells": [
  {
   "cell_type": "markdown",
   "id": "a0f72a8b-e261-472c-b2a6-4bf24e1c3629",
   "metadata": {},
   "source": [
    "{/* cspell:ignore verticalalignment horizontalalignment  xytext arrowprops preparable ansätze Marov Aspuru Guzik Hartrees ansä */}"
   ]
  },
  {
   "cell_type": "markdown",
   "id": "9b7d19f6-b31f-4a36-92df-9593b494aca7",
   "metadata": {},
   "source": [
    "# Variational Quantum Eigensolver (VQE)\n",
    "\n",
    "For this module, students must have a working Python environment, and the latest versions of the following packages installed:\n",
    "- `qiskit`\n",
    "- `qiskit_ibm_runtime`\n",
    "- `qiskit-aer`\n",
    "- `qiskit.visualization`\n",
    "- `numpy`\n",
    "- `pylatexenc`\n",
    "\n",
    "To set up and install these packages, see the [Install Qiskit](/docs/guides/install-qiskit) guide. To run jobs on real quantum computers, students will need to set up an IBM Cloud account, following the steps in the [Set up your IBM Cloud account](/docs/guides/cloud-setup) guide.\n",
    "\n",
    "*This module has been tested and used approximately 8 minutes of QPU time. This is an estimate, and your actual usage may vary.*"
   ]
  },
  {
   "cell_type": "code",
   "execution_count": null,
   "id": "92d61ec1-d179-4f0f-856a-63fa50622f44",
   "metadata": {},
   "outputs": [],
   "source": [
    "# Uncomment and modify this line as needed to install dependencies\n",
    "#!pip install 'qiskit>=2.1.0' 'qiskit-ibm-runtime>=0.40.1' 'qiskit-aer>=0.17.0' 'numpy' 'pylatexenc'"
   ]
  },
  {
   "cell_type": "markdown",
   "id": "503b34cd-1c45-4342-b6d8-e853ef9edf3c",
   "metadata": {},
   "source": [
    "## Introduction\n",
    "\n",
    "Since the development of the quantum mechanical model in the early 20th century, scientists have understood that electrons do not follow fixed paths around an atom's nucleus but rather exist in regions of probability called orbitals. These orbitals correspond to specific, discrete energy levels that electrons can occupy. Electrons naturally reside in the lowest available energy levels, known as the ground state. However, if an electron absorbs sufficient energy, it can jump to a higher energy level, entering an excited state. This excited state is temporary, and the electron will eventually return to a lower energy level, releasing the absorbed energy, often in the form of light. This fundamental process of energy absorption and emission is crucial to understanding how atoms interact and form bonds.\n",
    "\n",
    "When atoms come together to form molecules, their atomic orbitals combine to form molecular orbitals. The arrangement and energy levels of electrons within these molecular orbitals dictate the properties of the resulting molecule and the strength of the chemical bonds. For instance, in the formation of a hydrogen molecule ($H_2$) from two individual hydrogen atoms, the electron from each atom occupies atomic orbitals. As the atoms approach each other, these atomic orbitals overlap and combine to form new molecular orbitals—one with lower energy (a bonding orbital) and one with higher energy (an anti-bonding orbital). The two electrons, one from each hydrogen atom, will preferentially occupy the lower-energy bonding orbital, leading to the formation of a stable covalent bond that holds the $H_2$ molecule together. The energy difference between the separated atoms and the formed molecule, particularly the energy of the electrons in the molecular orbitals, determines the stability and properties of the bond.\n",
    "\n",
    "In the following sections, we will delve into this process of molecular formation, focusing specifically on the $H_2$ molecule. We will use a real quantum computer, combined with classical optimization techniques, to investigate the energy of this simple yet fundamental process. This experiment will provide a practical demonstration of how quantum computation can be applied to solve problems in computational chemistry, offering insights into the crucial role of electron energy."
   ]
  },
  {
   "cell_type": "markdown",
   "id": "5fd6876b-fb75-4862-8cd8-4adc5ddeff40",
   "metadata": {},
   "source": [
    "## VQE - A variational quantum algorithm for eigenvalue problems\n",
    "\n",
    "### Approximation techniques for chemistry - variational principle and the basis set\n",
    "\n",
    "Erwin Schrödinger's contributions to quantum mechanics go beyond introducing a new electronic model; fundamentally, he established wave mechanics by developing the famous time-dependent Schrödinger equation:\n",
    "\n",
    "$$\n",
    "i\\hbar \\frac{d}{dt}|\\psi\\rangle = \\hat{H}|\\psi\\rangle\n",
    "$$\n",
    "\n",
    "Here, $\\hat{H}$ is the Hamiltonian operator, which represents the total energy of the system, and $|\\psi\\rangle$ is the wave function that contains all the information about the system’s quantum state. (Note: $\\frac{d}{dt}$ is the total time derivative, and we do not explicitly include the energy eigenvalue $E$ here.)\n",
    "\n",
    "However, in many practical applications — such as determining the allowed energy levels of atoms and molecules — we instead use the time-independent Schrödinger equation (energy eigenvalue equation), which is derived from the time-dependent form by assuming a stationary state. A stationary state is a quantum state in which the probability density of finding a particle at a given point in space does not change over time.\n",
    "\n",
    "$$ \\hat{H}|\\psi\\rangle = E|\\psi\\rangle $$\n",
    "\n",
    "In this form, $E$ represents the energy eigenvalue corresponding to the quantum state $|\\psi\\rangle$. The Hamiltonian includes various energy contributions, such as the kinetic energy of electrons and nuclei, the attractive forces between electrons and nuclei, and the repulsive forces between electrons.\n",
    "\n",
    "Solving the energy eigenvalue equation allows us to calculate the quantized energy levels of atomic and molecular systems. However, for molecules, solving it exactly is extremely difficult because the wave function $\\Psi$, which describes the spatial distribution of electrons, is highly complex and high-dimensional.\n",
    "\n",
    "As a result, scientists use approximation techniques to obtain practical and accurate solutions. In this work, we will focus on two key methods:\n",
    "\n",
    "\n",
    "1. Variational principle\n",
    "\n",
    "    This method approximates the wave function and adjusts it to get as close as possible to the target energy, usually the ground state energy of the system. The key idea behind the variational principle is simple:\n",
    "\n",
    "    - If we guess a wave function $\\Psi_\\text{trial}$ (a \"trial function\"), the energy calculated from it will always be equal to or higher than the ground state energy ($E_0$) of the system.\n",
    "    $$E_\\text{approx} = \\frac{\\langle \\Psi_\\text{trial}|\\hat{H}|\\Psi_\\text{trial}\\rangle}{\\langle \\Psi_\\text{trial}|\\Psi_\\text{trial}\\rangle} \\geq E_0$$\n",
    "    - By adjusting parameters $\\theta$ in the trial function, $|\\Psi_\\text{trial}(\\theta)\\rangle$, we can get a better and better approximation of the ground state energy.\n",
    "    - Its accuracy heavily depends on the choice of the trial wave function $\\Psi_\\text{trial}$. A poorly-chosen trial function may lead to an energy estimate that is far from accurate.\n",
    "\n",
    "2. Basis set approximation\n",
    "\n",
    "    The second approximation method comes in the stage of constructing the wave function — the basis set approach. In quantum chemistry, solving the Schrödinger equation exactly for molecules is impossible. Instead, we approximate the complex, multi-electron wave function by building it up from simpler, predefined mathematical functions. A **basis set** is essentially a collection of these known mathematical functions, typically centered on the atoms in the molecule, that are used as building blocks to represent the shape and behavior of the electrons in the system. Think of it like trying to recreate a detailed sculpture using only a collection of standard LEGO bricks – the more types and sizes of bricks you have (the larger the basis set), the more accurately you can approximate the original shape.\n",
    "\n",
    "    These basis functions are often inspired by the analytical solutions for simple systems like the hydrogen atom, taking forms like Gaussian or Slater-type functions, though they are still approximations. Instead of working with the theoretically \"exact\" but intractable full molecular orbitals, we express them as a linear combination (a sum with coefficients) of these basis functions. This method is known as the Linear Combination of Atomic Orbitals (LCAO) approach when the basis functions resemble atomic orbitals. By optimizing the coefficients in this linear combination, we can find the best possible approximate wave function and energy within the limitations of the chosen basis set.\n",
    "    - The more functions included in the basis set, the better the approximation, but this comes at the cost of higher computational effort.\n",
    "    - A small basis set provides a rough estimate, while a large basis set gives more precise results at the expense of requiring significantly more computational resources.\n",
    "\n",
    "To summarize, to make calculations feasible and reduce computational cost, we use the variational principle by approximating the wave function, which reduces the computational complexity and allows for iterative optimization to minimize energy. Meanwhile, the basis set approach simplifies calculations by representing atomic orbitals as a combination of predefined functions, rather than solving for a continuous wave function directly.\n",
    "\n",
    "\n",
    "#### Check your understanding\n",
    "Consider the trial wave function $\\Psi_\\text{trial}(\\alpha,x) = Ae^{- \\alpha x^2}$ where $A$ is a normalization constant and $\\alpha$ is an adjustable parameter.\n",
    "\n",
    "<details>\n",
    "<summary>\n",
    "\n",
    "(a) Normalize the trial wave function by determining $A$ such that\n",
    "\n",
    "$$ \\int_{-\\infty}^{\\infty} |\\Psi_\\text{trial}|^2 dx = 1 $$.\n",
    "\n",
     "(b) Compute the expectation value of the Hamiltonian $\\hat{H}$ given by:\n",
    "\n",
    "$$ \\hat{H} = -\\frac{\\hbar^2}{2m} \\frac{d^2}{dx^2} + V(x)$$\n",
    "where $V(x)  = \\frac{1}{2}m\\omega^2x^2$, which corresponds to a simple harmonic oscillator potential.\n",
    "\n",
    "(c) Use the variational principle to find the optimal $\\alpha$ by minimizing $E_\\text{approx}(\\alpha)$\n",
    "\n",
    "</summary>\n",
    "\n",
    "__Answer:__\n",
    "\n",
    "\n",
    "(a) To normalize given trial wave function:\n",
    "\n",
    "$$ \\int_{-\\infty}^{\\infty} |\\Psi_\\text{trial}|^2 dx = \\int_{-\\infty}^{\\infty} A^2 e^{-2 \\alpha x^2} dx = 1 $$\n",
    "\n",
    "Use the Gaussian integral:\n",
    "\n",
    "$$ \\int_{-\\infty}^{\\infty} e^{-a x^2} dx = \\sqrt{\\frac{\\pi}{a}} \\text{,   for } a>0$$\n",
    "\n",
    "set $a = 2\\alpha$ then get:\n",
    "$$A^2\\sqrt{\\frac{\\pi}{a}} = 1$$\n",
    "$$\\therefore A = (\\frac{2\\alpha}{\\pi})^{1/4}$$\n",
    "\n",
    "(b) The Hamiltonian for a harmonic oscillator is:\n",
    "\n",
    "$$ \\hat{H} = -\\frac{\\hbar^2}{2m} \\frac{d^2}{dx^2} + \\frac{1}{2} m \\omega^2 x^2 $$\n",
    "\n",
    "- Kinetic energy expectation value\n",
    "\n",
    "$$ \\langle T \\rangle = -\\frac{\\hbar^2}{2m} \\int_{-\\infty}^{\\infty} \\Psi_\\text{trial}^* \\frac{d^2}{dx^2} \\Psi_\\text{trial} dx $$\n",
    "\n",
    "Taking the second derivative:\n",
    "\n",
    "$$\n",
    "\\frac{d}{dx} \\Psi_\\text{trial} = -2\\alpha x A e^{-\\alpha x^2}\n",
    "$$\n",
    "\n",
    "$$\n",
    "\\frac{d^2}{dx^2} \\Psi_\\text{trial} = A e^{-\\alpha x^2} (4\\alpha^2 x^2 - 2\\alpha)\n",
    "$$\n",
    "\n",
    "Thus:\n",
    "\n",
    "$$\n",
    "T = -\\frac{\\hbar^2}{2m} \\int_{-\\infty}^{\\infty} A^2 e^{-2\\alpha x^2} (4\\alpha^2 x^2 - 2\\alpha) dx\n",
    "$$\n",
    "\n",
    "Using standard Gaussian integral results:\n",
    "\n",
    "$$\n",
    "\\langle T \\rangle = \\frac{\\hbar^2 \\alpha}{2m}\n",
    "$$\n",
    "\n",
    "- Potential energy expectation value\n",
    "$$\n",
    "\\langle V \\rangle = \\frac{1}{2} m \\omega^2 \\int_{-\\infty}^{\\infty} x^2 |\\Psi_\\text{trial}|^2 dx\n",
    "$$\n",
    "\n",
    "Using:\n",
    "\n",
    "$$\n",
    "\\int_{-\\infty}^{\\infty} x^2 e^{-a x^2} dx = \\frac{\\sqrt{\\pi}}{2a^{3/2}}\n",
    "$$\n",
    "\n",
    "we get:\n",
    "\n",
    "$$\n",
    "\\langle V \\rangle = \\frac{m \\omega^2}{4\\alpha}\n",
    "$$\n",
    "\n",
    "- Total energy expectation value\n",
    "$$\n",
    "\\therefore E_\\text{approx}(\\alpha) = \\frac{\\hbar^2 \\alpha}{2m} + \\frac{m \\omega^2}{4\\alpha}\n",
    "$$\n",
    "\n",
    "\n",
    "\n",
    "(c) Optimize $ \\alpha $ for minimum energy\n",
    "\n",
    "Differentiate:\n",
    "\n",
    "$$\n",
    "\\frac{d}{d\\alpha} \\left( \\frac{\\hbar^2 \\alpha}{2m} + \\frac{m \\omega^2}{4\\alpha} \\right) = 0\n",
    "$$\n",
    "\n",
    "Solving:\n",
    "\n",
    "$$\n",
    "\\frac{\\hbar^2}{2m} - \\frac{m \\omega^2}{4\\alpha^2} = 0\n",
    "$$\n",
    "\n",
    "$$\n",
    "\\alpha_\\text{opt} = \\frac{m\\omega}{2\\hbar}\n",
    "$$\n",
    "\n",
    "Substituting $ \\alpha_\\text{opt} $ into $ E_\\text{approx} $:\n",
    "\n",
    "$$\n",
    "\\therefore E_\\text{approx} = \\frac{\\hbar \\omega}{2}\n",
    "$$\n",
    "\n",
    "which matches the exact quantum harmonic oscillator ground state energy.\n",
    "\n",
    "</details>"
   ]
  },
  {
   "cell_type": "markdown",
   "id": "66eee0e2-0928-42c1-a353-6a183b92ad1a",
   "metadata": {},
   "source": [
    "### VQE (Variational Quantum Eigensolver)\n",
    "\n",
    "The variational quantum eigensolver (VQE) is the main method that we will use to explore the $H+H = H_2$ process, and here, we will take a look at what VQE is and how it works. But let's first pause and look at one very important thing through the check-in question.\n",
    "\n",
    "#### Check your understanding\n",
    "<details>\n",
    "<summary>\n",
    "\n",
    "If we already have that many strategies for chemistry problems, then why do we need a quantum computer? And what's the purpose of using both quantum and classical computers together?\n",
    "\n",
    "</summary>\n",
    "\n",
    "__Answer:__\n",
    "\n",
    "\n",
    "Quantum computing has a chance to revolutionize chemistry by tackling problems classical computers struggle with due to the exponential scaling of quantum states. Richard Feynman famously noted that to simulate nature, computations must also be quantum [ref 1].\n",
    "\n",
    "For example, simulating caffeine with the simplest basis set (STO-3G) would require $10^{48}$ bits, much larger than the total number of stars in the observable universe ($10^{24}$) [ref 2]. A quantum computer can describe the electronic orbitals of caffeine with 160 qubits.\n",
    "\n",
    "Quantum computers naturally process quantum interactions using superposition and entanglement, which provide a promising way of enabling accurate molecular simulations. Further, we can combine the advantages of both quantum computers (electron simulation) and classical computers (data pre/post-processing, algorithm process management, optimization, and so on). These are expected to enhance materials discovery, drug design, and reaction predictions, reducing costly trial-and-error experiments. [ref 3][ref 4]\n",
    "\n",
    "If you want to know why quantum computers are needed for chemistry problems and why to use both quantum and classical computing resources, check out the following articles:\n",
    "\n",
    "- [Emerging quantum computing algorithms for quantum chemistry](https://arxiv.org/abs/2109.02873)\n",
    "- [Chemistry Beyond Exact Solutions on a Quantum-Centric Supercomputer](https://arxiv.org/html/2405.05068v1)\n",
    "- [Quantum-centric supercomputing for materials science: A perspective on challenges and future directions](https://www.sciencedirect.com/science/article/pii/S0167739X24002012)\n",
    "\n",
    "</details>\n",
    "\n",
    "\n",
    "\n",
    "\n",
    "Now let's go back to VQE.\n",
    "\n",
    "VQE combines the power of quantum computers with classical computers, fundamentally using variational principles to get the ground state energy of the system. To understand VQE, first break it down into three parts:\n",
    "\n",
    "![VQE workflow](/learning/images/modules/computer-science/vqe/vqe.avif)\n",
    "\n",
    "\n",
    "#### (Quantum) Observable: The molecular Hamiltonian (energy of a molecule)\n",
    "\n",
    "In VQE, the molecular/atomic Hamiltonian is an observable, meaning we can measure its value through an experiment. Our goal is to find the lowest possible energy (the ground state energy) of the molecule. To do this, we use a trial quantum state, generated by a parameterized quantum circuit (ansatz). We measure the observable and optimize the quantum state until we reach the lowest possible energy.\n",
    "\n",
    "The basis set used for the molecular Hamiltonian determines the number of qubits required and directly affects the accuracy of VQE. Choosing the right basis set is crucial for balancing efficiency and precision. To simplify calculations without changing the basis set, we can use strategies like imposing __symmetry__ and __active space reduction__. Many molecules have symmetrical shapes (like a butterfly or snowflake), meaning some parts behave the same way. Instead of calculating everything separately, we can focus only on unique parts, saving quantum resources, thus leveraging symmetry. In active space reduction, we consider only the important orbitals, as not all electrons significantly impact molecular energy. Electrons close to the nucleus remain mostly unchanged, while others influence bonding. By applying these methods, we can make VQE more efficient while maintaining accuracy.\n",
    "\n",
    "Once we obtain a molecular Hamiltonian using the proper basis set and strategies above, we need to transform this Hamiltonian into one suitable for quantum computers. Mapping problems to Pauli operators can be quite complicated. This is especially true in quantum chemistry, which works with indistinguishable particles (electrons), since qubits are distinguishable. We will not go into the details of the mappings here, but we refer you to the following resources. A general discussion of mapping a problem to quantum operators can be found in [Quantum computing in practice](/learning/courses/quantum-computing-in-practice/index). A more detailed discussion on mapping chemistry problems into quantum operators can be found in [Quantum chemistry with VQE](/learning/courses/quantum-chem-with-vqe/index).\n",
    "\n",
    "For this module, we will provide you with the appropriate (one-qubit) Hamiltonians for $H$ and $H_2$ so we can focus on using the quantum computer. These one-qubit Hamiltonians are prepared by using the so-called [STO-6G](https://en.wikipedia.org/wiki/STO-nG_basis_sets) basis set and the [Jordan-Wigner mapping](https://en.wikipedia.org/wiki/Jordan%E2%80%93Wigner_transformation), which is the most straightforward mapping with the simplest physical interpretation, because it maps the occupation of one spin-orbital to the occupation of one qubit. Also, we used a [qubit reduction technique by using a symmetry of the Hamiltonian](https://arxiv.org/abs/1701.08213), which uses the patterns in how spin occupations behave to reduce the number of qubits. For the $H_2$ molecule, we assume the distance between the two hydrogen atoms is `0.735` $\\mathring A$.\n",
    "\n",
    "#### (Quantum) Ansatz: The trial wave function (How to build a trivial quantum state with a quantum circuit)\n",
    "\n",
    "For VQE, the ansatz (plural: ansätze) consists of two key components. The first is __initial state preparation__, which sets up the qubit's state by applying quantum gates with no variational parameter. The second component is the __parameterized quantum circuit__, a special quantum circuit with adjustable parameters, similar to dials on a radio. These parameters will be used for the last part — the classical optimizer — to help us reach the best possible ground state.\n",
    "\n",
    "In the variational principle section, we learned that the quality of the trial state affects the quality of the results of the variational algorithm. This means that choosing a good ansatz is important in VQE. Once again, this is a rich and complex topic. We will not cover the different types of ansatz or their origins here. If you're interested in learning more about parameterized quantum circuits and ansatz, you can explore the [Ansatz and variational form](/learning/courses/variational-algorithm-design/ansaetze-and-variational-forms) lesson from the [Variational algorithm design course](/learning/courses/variational-algorithm-design/index), which provides detailed explanations and examples of ansätze.\n",
    "\n",
    "Since we are going to use a one-qubit Hamiltonian in this module, we need a one-qubit parameterized quantum circuit as an ansatz. We will see three types of one-qubit ansätze in the following section. We will compare them and discuss key considerations in selecting an ansatz."
   ]
  },
  {
   "cell_type": "markdown",
   "id": "33d600a1-7ca4-4324-a3e9-a56d5599b900",
   "metadata": {},
   "source": [
    "#### (Classical) Optimizer: fine-tuning the quantum circuit\n",
    "\n",
    "Once the quantum computer measures the energy of the observable from the ansatz, the parameters of the ansatz and the energy value are sent to the classical optimizer for tuning. This optimization process is performed on a classical computer, typically using general-purpose scientific packages like SciPy.\n",
    "\n",
    "The classical optimizer treats the measured energy as a cost function. In optimization problems, a cost function (also sometimes called an objective function) is a mathematical function that measures how \"good\" a particular solution is. The goal of the optimizer is to find the set of parameters that minimizes this cost function. In the context of finding the ground state energy of a molecule, the energy itself serves as the cost function – we want to find the parameters for our quantum circuit (our \"solution\") that yield the lowest possible energy. The classical optimizer uses this measured energy value (the cost) and determines the next set of optimized parameters for the quantum ansatz. These updated parameters are then sent back to the quantum circuit, and the process is repeated iteratively. With each iteration, the classical optimizer adjusts the parameters to try and reduce the energy (minimize the cost function) until a predefined convergence criterion is met, ideally ensuring that the lowest possible energy (corresponding to the ground state of the molecule for that bond distance and basis set) is found.\n",
    "\n",
    "There are many optimization strategies provided by scientific packages like SciPy. You can find more in the [Optimization loops](/learning/courses/variational-algorithm-design/optimization-loops) lesson of the [Variational algorithm design](/learning/courses/variational-algorithm-design/index) course. Here we will use COBYLA (Constrained Optimization BY Linear Approximations), an optimization algorithm suitable for complicated energy landscapes. In particular, COBYLA does not attempt to calculate a gradient of the function being studied; this is called a gradient-free optimizer. Imagine you are trying to find the highest peak in a mountain range with your eyes closed. Since you can’t see the whole landscape, you take small steps in different directions, while checking if you’re going up or down. COBYLA works in a similar way — it moves through the parameter space, testing different values, gradually improving the result until it finds the best one.\n",
    "\n",
    "Now you are ready to carry out a VQE calculation. To that end, try the check-in question below, which recaps the overall process."
   ]
  },
  {
   "cell_type": "markdown",
   "id": "ecdc951b-023f-461f-b05b-d972b1c3f95a",
   "metadata": {},
   "source": [
    "#### Check your understanding\n",
    "Fill in the blanks with the correct terms to complete the summary of the VQE process.\n",
    "<details>\n",
    "<summary>\n",
    "\n",
    "VQE is a variational quantum algorithm, which combines the power of (1) ________ and classical computing, used to find the (2) __________ of a molecule. The process begins by defining the (3) __________, which represents the total energy of the system and acts as the observable in quantum measurements. Next, we prepare an (4) __________, a quantum circuit with adjustable parameters that represents the trial wave function of the molecule. These parameters are optimized using a (5) __________, a classical algorithm that adjusts parameters iteratively to minimize the measured energy. In the discussion above we used the (6) __________ optimizer, which refines the ansatz parameters without needing derivative calculations. The process continues until we reach (7) __________, meaning we have found the lowest possible energy of the molecule.\n",
    "\n",
    "Word Bank:\n",
    "\n",
    "- classical optimizer\n",
    "- ground state energy\n",
    "- hardware-efficient\n",
    "- ansatz\n",
    "- molecular Hamiltonian\n",
    "- COBYLA\n",
    "- quantum computing\n",
    "- convergence\n",
    "\n",
    "</summary>\n",
    "\n",
    "__Answer:__\n",
    "\n",
    "\n",
    "1 → quantum computing\n",
    "\n",
    "2 → ground state energy\n",
    "\n",
    "3 → molecular Hamiltonian\n",
    "\n",
    "4 → ansatz\n",
    "\n",
    "5 → classical optimizer\n",
    "\n",
    "6 → COBYLA\n",
    "\n",
    "7 → convergence\n",
    "\n",
    "</details>"
   ]
  },
  {
   "cell_type": "markdown",
   "id": "e25e11f8-9961-4bd1-8b75-a3eb954b99a6",
   "metadata": {},
   "source": [
    "## Compute the ground state energy of a hydrogen atom with VQE\n",
    "\n",
    "Now, let's use what we've learned to compute the ground state energy of a hydrogen atom. Throughout the module, we will use a framework for quantum computing known as \"Qiskit patterns\", which breaks down workflows into the following steps:\n",
    "\n",
    "- Step 1: Map classical inputs to a quantum problem\n",
    "- Step 2: Optimize problem for quantum execution\n",
    "- Step 3: Execute using Qiskit Runtime primitives\n",
    "- Step 4: Post-processing and classical analysis\n",
    "\n",
    "![Qiskit pattern](/learning/images/modules/computer-science/vqe/patterns.svg)\n",
    "\n",
    "We will generally follow these steps, though we may not always explicitly label them.\n",
    "\n",
    "Let's start by loading some necessary packages, including Qiskit Runtime primitives. We will also select the least busy quantum computer available to us.\n",
    "\n",
    "There is code below for saving your credentials upon first use. Be sure to delete this information from the notebook after saving it to your environment, so that your credentials are not accidentally shared when you share the notebook. See [Set up your IBM Cloud account](/docs/guides/cloud-setup#3-connect-qiskit-with-your-service-instance) and [Initialize the service in an untrusted environment](/docs/guides/cloud-setup-untrusted) for more guidance."
   ]
  },
  {
   "cell_type": "code",
   "execution_count": null,
   "id": "31b7daec-b3f8-4cc4-8790-c650a3385ede",
   "metadata": {},
   "outputs": [
    {
     "name": "stdout",
     "output_type": "stream",
     "text": [
      "ibm_brisbane\n"
     ]
    }
   ],
   "source": [
    "# Load the Qiskit Runtime service\n",
    "from qiskit_ibm_runtime import QiskitRuntimeService\n",
    "\n",
    "# Load the Runtime primitive and session\n",
    "from qiskit_ibm_runtime import EstimatorV2 as Estimator\n",
    "\n",
    "# Syntax for first saving your token.  Delete these lines after saving your credentials.\n",
    "# QiskitRuntimeService.save_account(channel='ibm_quantum_platform', instance = '<MY_IBM_INSTANCE_CRN>', token='<MY_IBM_QUANTUM_TOKEN>', overwrite=True, set_as_default=True)\n",
    "# service = QiskitRuntimeService(channel='ibm_quantum_platform')\n",
    "\n",
    "# Load saved credentials\n",
    "service = QiskitRuntimeService()\n",
    "\n",
    "# Use the least busy backend, or uncomment the loading of a specific backend like \"ibm_brisbane\".\n",
    "backend = service.least_busy(operational=True, simulator=False, min_num_qubits=127)\n",
    "# backend = service.backend(\"ibm_brisbane\")\n",
    "print(backend.name)"
   ]
  },
  {
   "cell_type": "markdown",
   "id": "ee973a48-eae5-4a28-b79a-8c7706d7d6de",
   "metadata": {},
   "source": [
    "The cell below will allow you to switch between using the simulator or real hardware throughout the notebook. We recommend running it now:"
   ]
  },
  {
   "cell_type": "code",
   "execution_count": 5,
   "id": "df8c77dd-2d83-4380-a3f8-cda96852f5ba",
   "metadata": {},
   "outputs": [],
   "source": [
    "# Load the Aer simulator and generate a noise model based on the currently-selected backend.\n",
    "from qiskit_aer import AerSimulator\n",
    "from qiskit_aer.noise import NoiseModel\n",
    "\n",
    "# Alternatively, load a fake backend with generic properties and define a simulator.\n",
    "\n",
    "\n",
    "noise_model = NoiseModel.from_backend(backend)\n",
    "\n",
    "# Define a simulator using Aer, and use it in Sampler.\n",
    "backend_sim = AerSimulator(noise_model=noise_model)"
   ]
  },
  {
   "cell_type": "markdown",
   "id": "bd917292-9f42-47a2-a1b4-c79a887366ac",
   "metadata": {},
   "source": [
    "### Step 1: Map the problem to quantum circuits and operators\n",
    "\n",
    "We start our VQE calculation by defining the Hamiltonian for the hydrogen molecule ($H_2$) at a specific bond distance. This Hamiltonian represents the total energy of the system in terms of qubit operators, having been produced and mapped from the molecular system using a standard procedure: 1) employing the **STO-6G basis set** (a specific collection of mathematical functions used to approximate the electron orbitals), 2) applying the **Jordan-Wigner mapping** (a technique to translate fermionic operators describing electrons into qubit operators), and 3) performing **qubit reduction** using symmetries of the Hamiltonian to simplify the problem.\n",
    "\n",
    "As we previously explained, the computed ground state energies depend heavily on the basis set selection and the molecular geometry (like bond distance). For this specific configuration and after these transformations, the resulting qubit Hamiltonian is relatively simple:\n",
    "\n",
    "$$\\hat{H} = -0.2355 I + 0.2355 Z$$\n",
    "\n",
    "Here, $I$ represents the identity operator and $Z$ represents the Pauli-Z operator, acting on a single qubit. The coefficients are derived from the integrals calculated using the STO-6G basis set at this particular bond distance with proper transformation.\n",
    "\n",
    "With this Hamiltonian defined, we can now use VQE to compute its ground state energy. It is useful to compare our calculated ground state energy to expected values. For a single, isolated hydrogen atom (H), the ground state energy is exactly -0.5 Hartree (in the absence of relativistic effects). Let us compute the exact ground state energy of *our specific qubit Hamiltonian* as defined above and compare it to relevant known values."
   ]
  },
  {
   "cell_type": "code",
   "execution_count": 6,
   "id": "e2fd8736-9efd-499d-986f-d2d6c9cfb1b3",
   "metadata": {},
   "outputs": [
    {
     "name": "stdout",
     "output_type": "stream",
     "text": [
      "The exact ground state energy of the Hamiltonian is  -0.471 hartree\n"
     ]
    }
   ],
   "source": [
    "from qiskit.quantum_info import SparsePauliOp\n",
    "import numpy as np\n",
    "\n",
    "# Qubit Hamiltonian of the hydrogen atom generated by using STO-3G basis set and parity mapping\n",
    "Hamiltonian = SparsePauliOp.from_list([(\"I\", -0.2355), (\"Z\", 0.2355)])\n",
    "\n",
    "# exact ground state energy of Hamiltonian\n",
    "\n",
    "A = np.array(Hamiltonian)\n",
    "eigenvalues, eigenvectors = np.linalg.eig(A)\n",
    "print(\n",
    "    \"The exact ground state energy of the Hamiltonian is \",\n",
    "    min(eigenvalues).real,\n",
    "    \"hartree\",\n",
    ")\n",
    "h = min(eigenvalues.real)"
   ]
  },
  {
   "cell_type": "markdown",
   "id": "3f49bde2-0b3a-4292-8fe5-9fccc1a92d97",
   "metadata": {},
   "source": [
    "Next, we need a parameterized quantum circuit, called an ansatz, to prepare a trial wave function $\\Psi_\\text{trial}$ for the ground state. The goal is to find the parameters $\\theta$ that minimize the energy expectation value $\\langle\\psi(\\theta)|\\hat{H}|\\psi(\\theta)\\rangle$. The choice of ansatz is crucial because it determines the set of possible quantum states that our circuit can prepare. A \"good\" ansatz is one that is flexible enough to represent a state very close to the true ground state of the Hamiltonian we are studying, but not so complex that it requires too many parameters or too deep a circuit for current quantum computers.\n",
    "\n",
    "Here, we will try three different one-qubit ansätze to see which one provides better \"coverage\" of the possible quantum states a single qubit can be in. The \"coverage\" refers to the range of quantum states that the ansatz circuit can produce by varying its parameters.\n",
    "\n",
    "We will use three simple ansätze based on different combinations of single-qubit rotational gates:\n",
    "\n",
    "- One **1-axis rotational gate ansatz:** This ansatz uses rotations around only a single axis ($R_x(\\theta)$). On the Bloch sphere, this corresponds to moving only along a specific circle. This is the least flexible and covers a limited set of states.\n",
    "- Two **2-axis rotational gate ansätze:** These ansätze combines rotations around two different axes ($R_x(\\theta_1) R_z(\\theta_2)$ and $R_x(\\theta_1) R_z(\\theta_2) R_x(\\theta_3)$). This allows us to reach a larger portion of the Bloch sphere, compared to a single-axis rotation.\n",
    "\n",
    "\n",
    "By comparing the VQE results obtained with these three ansätze, we can see how the flexibility and state-space coverage of the ansatz impact our ability to find the true ground state energy of our simplified Hamiltonian. A more flexible ansatz has the *potential* to find a better approximation, but it might also be harder for the classical optimizer."
   ]
  },
  {
   "cell_type": "code",
   "execution_count": 7,
   "id": "ad8c76f1-c626-431c-acf6-104cdef9b08a",
   "metadata": {},
   "outputs": [
    {
     "data": {
      "text/plain": [
       "<qiskit.circuit.instructionset.InstructionSet at 0x1059def80>"
      ]
     },
     "execution_count": 7,
     "metadata": {},
     "output_type": "execute_result"
    }
   ],
   "source": [
    "from qiskit import QuantumCircuit\n",
    "from qiskit.circuit import Parameter\n",
    "from qiskit.quantum_info import Statevector, DensityMatrix, Pauli\n",
    "\n",
    "theta = Parameter(\"θ\")\n",
    "phi = Parameter(\"φ\")\n",
    "lam = Parameter(\"λ\")\n",
    "\n",
    "ansatz1 = QuantumCircuit(1)\n",
    "ansatz1.rx(theta, 0)\n",
    "\n",
    "ansatz2 = QuantumCircuit(1)\n",
    "ansatz2.rx(theta, 0)\n",
    "ansatz2.rz(phi, 0)\n",
    "\n",
    "ansatz3 = QuantumCircuit(1)\n",
    "ansatz3.rx(theta, 0)\n",
    "ansatz3.rz(phi, 0)\n",
    "ansatz3.rx(lam, 0)"
   ]
  },
  {
   "cell_type": "markdown",
   "id": "0fd84a57-f179-46aa-95b1-b1bd67d57722",
   "metadata": {},
   "source": [
    "Now, let's generate 5000 random numbers for each parameter and plot the distribution of random quantum states, generated by the three ansätze with these random parameters. You can think of these parameters like rotations around different axes on a spherical surface. To see the distribution of quantum state, we will use [the Bloch Sphere](https://en.wikipedia.org/wiki/Bloch_sphere), a three-dimensional sphere that shows the state of a single qubit. Any point on the sphere represents a possible state of the qubit, where the north and south poles are like the classical \"0\" and \"1\", but the qubit can also be anywhere in between, showing special quantum properties like superposition. First, prepare the necessary functions to plot the 3D Bloch sphere and prepare 5000 random parameters."
   ]
  },
  {
   "cell_type": "code",
   "execution_count": 8,
   "id": "f31bc003-a001-4b83-9ada-856b7efb7088",
   "metadata": {},
   "outputs": [],
   "source": [
    "import matplotlib.pyplot as plt\n",
    "\n",
    "\n",
    "def plot_bloch(bloch_vectors):\n",
    "    # Extract X, Y, Z coordinates for 3D projection\n",
    "    X_coords = bloch_vectors[:, 0]\n",
    "    Z_coords = bloch_vectors[:, 2]\n",
    "\n",
    "    # Compute Y coordinates from X and Z to approximate the full Bloch sphere projection\n",
    "    Y_coords = bloch_vectors[:, 1]\n",
    "\n",
    "    # Create 3D plot\n",
    "    fig = plt.figure(figsize=(8, 8))\n",
    "    ax = fig.add_subplot(111, projection=\"3d\")\n",
    "    ax.scatter(X_coords, Y_coords, Z_coords, color=\"blue\", alpha=0.6)\n",
    "\n",
    "    # Labels and title\n",
    "    ax.set_xlabel(\"X\")\n",
    "    ax.set_ylabel(\"Y\")\n",
    "    ax.set_zlabel(\"Z\")\n",
    "    ax.set_title(\"Parameterized 1-Qubit Circuit on 3D Bloch Sphere\")\n",
    "\n",
    "    # Set axis limits and make them equal\n",
    "    ax.set_xlim([-1, 1])\n",
    "    ax.set_ylim([-1, 1])\n",
    "    ax.set_zlim([-1, 1])\n",
    "\n",
    "    # Ensure equal aspect ratio for all axes\n",
    "    ax.set_box_aspect([1, 1, 1])  # Equal scaling for x, y, z axes\n",
    "\n",
    "    # Show grid\n",
    "    ax.grid(True)\n",
    "\n",
    "    plt.show()\n",
    "\n",
    "\n",
    "num_samples = 5000  # Number of random states\n",
    "theta_vals = np.random.uniform(0, 2 * np.pi, num_samples)\n",
    "phi_vals = np.random.uniform(0, 2 * np.pi, num_samples)\n",
    "lam_vals = np.random.uniform(0, 2 * np.pi, num_samples)"
   ]
  },
  {
   "cell_type": "markdown",
   "id": "2c568da7-683f-4ff7-a05e-b05bb6993575",
   "metadata": {},
   "source": [
    "Let's see how our first ansatz works."
   ]
  },
  {
   "cell_type": "code",
   "execution_count": 9,
   "id": "f7d886a0-d410-418d-a7a3-81a9134cbfd0",
   "metadata": {},
   "outputs": [
    {
     "data": {
      "text/plain": [
       "<Image src=\"/learning/images/modules/computer-science/vqe/extracted-outputs/f7d886a0-d410-418d-a7a3-81a9134cbfd0-0.avif\" alt=\"Output of the previous code cell\" />"
      ]
     },
     "metadata": {},
     "output_type": "display_data"
    }
   ],
   "source": [
    "# List to store Bloch Sphere XZ coordinates\n",
    "bloch_vectors = []\n",
    "\n",
    "# Generate quantum states and extract Bloch vectors\n",
    "for i in range(num_samples):\n",
    "    # Create a circuit and bind parameters\n",
    "    qc = ansatz1\n",
    "    bound_qc = qc.assign_parameters({theta: theta_vals[i]})  # , lam: lam_vals[i]})\n",
    "    state = Statevector.from_instruction(bound_qc)\n",
    "    rho = DensityMatrix(state)\n",
    "\n",
    "    X = rho.expectation_value(Pauli(\"X\")).real\n",
    "    Y = rho.expectation_value(Pauli(\"Y\")).real\n",
    "    Z = rho.expectation_value(Pauli(\"Z\")).real\n",
    "    bloch_vectors.append([X, Y, Z])  # Store X, Z components\n",
    "\n",
    "# Convert to a numpy array for plotting\n",
    "bloch_vectors = np.array(bloch_vectors)\n",
    "\n",
    "plot_bloch(bloch_vectors)"
   ]
  },
  {
   "cell_type": "markdown",
   "id": "f2debfbc-e7de-4bcf-b317-e284c25ae7cf",
   "metadata": {},
   "source": [
    "We can see our first ansatz returns a ring-shaped distributed quantum states of the Bloch sphere. This makes sense, because we have only given the ansatz a single rotational parameter. It can therefore only produce states rotated around one axis. Starting from the point $(0,0,1)$ and rotating around one axis will always yield a ring. Then let's check our second ansatz, which has two orthogonal rotational gates - Rx and Rz."
   ]
  },
  {
   "cell_type": "code",
   "execution_count": 10,
   "id": "607e4c0f-cb14-4036-901b-021cc8e11b79",
   "metadata": {},
   "outputs": [
    {
     "data": {
      "text/plain": [
       "<Image src=\"/learning/images/modules/computer-science/vqe/extracted-outputs/607e4c0f-cb14-4036-901b-021cc8e11b79-0.avif\" alt=\"Output of the previous code cell\" />"
      ]
     },
     "metadata": {},
     "output_type": "display_data"
    }
   ],
   "source": [
    "bloch_vectors = []\n",
    "\n",
    "# Generate quantum states and extract Bloch vectors\n",
    "for i in range(num_samples):\n",
    "    # Create circuit and bind parameters\n",
    "    qc = ansatz2\n",
    "    bound_qc = qc.assign_parameters(\n",
    "        {theta: theta_vals[i], phi: phi_vals[i]}\n",
    "    )  # , lam: lam_vals[i]})\n",
    "    state = Statevector.from_instruction(bound_qc)\n",
    "    rho = DensityMatrix(state)\n",
    "\n",
    "    X = rho.expectation_value(Pauli(\"X\")).real\n",
    "    Y = rho.expectation_value(Pauli(\"Y\")).real\n",
    "    Z = rho.expectation_value(Pauli(\"Z\")).real\n",
    "    bloch_vectors.append([X, Y, Z])  # Store X, Z components\n",
    "\n",
    "# Convert to numpy array for plotting\n",
    "bloch_vectors = np.array(bloch_vectors)\n",
    "\n",
    "plot_bloch(bloch_vectors)"
   ]
  },
  {
   "cell_type": "markdown",
   "id": "af3532b6-a796-41ec-be14-055ed50de01a",
   "metadata": {},
   "source": [
    "Here, we can see that our second ansatz covers a larger portion of the Bloch sphere - but note that the dots are more concentrated around the poles and more spread out around the equator. Now it is time to check our last ansatz."
   ]
  },
  {
   "cell_type": "code",
   "execution_count": 11,
   "id": "21ff021a-7cfe-4ba9-a827-edac71c0871c",
   "metadata": {},
   "outputs": [
    {
     "data": {
      "text/plain": [
       "<Image src=\"/learning/images/modules/computer-science/vqe/extracted-outputs/21ff021a-7cfe-4ba9-a827-edac71c0871c-0.avif\" alt=\"Output of the previous code cell\" />"
      ]
     },
     "metadata": {},
     "output_type": "display_data"
    }
   ],
   "source": [
    "bloch_vectors = []\n",
    "\n",
    "# Generate quantum states and extract Bloch vectors\n",
    "for i in range(num_samples):\n",
    "    # Create circuit and bind parameters\n",
    "    qc = ansatz3\n",
    "    bound_qc = qc.assign_parameters(\n",
    "        {theta: theta_vals[i], phi: phi_vals[i], lam: lam_vals[i]}\n",
    "    )\n",
    "    state = Statevector.from_instruction(bound_qc)\n",
    "    rho = DensityMatrix(state)\n",
    "\n",
    "    X = rho.expectation_value(Pauli(\"X\")).real\n",
    "    Y = rho.expectation_value(Pauli(\"Y\")).real\n",
    "    Z = rho.expectation_value(Pauli(\"Z\")).real\n",
    "    bloch_vectors.append([X, Y, Z])  # Store X, Z components\n",
    "\n",
    "# Convert to numpy array for plotting\n",
    "bloch_vectors = np.array(bloch_vectors)\n",
    "\n",
    "plot_bloch(bloch_vectors)"
   ]
  },
  {
   "cell_type": "markdown",
   "id": "12f25b20-cd07-402a-bb16-af32337bbaaa",
   "metadata": {},
   "source": [
    "Here you can see more evenly distributed quantum states generated by our last ansatz.\n",
    "\n",
    "As mentioned, the best thing to do is to gain knowledge about the ground state you're seeking and use an ansatz that is well-suited to probe states close to that ground state. For example, if we knew that our ground state was near a pole, we might select ansatz 2. For simplicity, we will stick with ansatz 3, which uniformly probes the entire Bloch sphere.\n",
    "\n",
    "Now that we have selected our ansatz, let's draw the circuit."
   ]
  },
  {
   "cell_type": "code",
   "execution_count": null,
   "id": "20221e72-51dc-49d9-8a09-9b64de7f535f",
   "metadata": {},
   "outputs": [
    {
     "name": "stdout",
     "output_type": "stream",
     "text": [
      "This circuit has  3 parameters\n"
     ]
    },
    {
     "data": {
      "text/plain": [
       "<Image src=\"/learning/images/modules/computer-science/vqe/extracted-outputs/20221e72-51dc-49d9-8a09-9b64de7f535f-1.avif\" alt=\"Output of the previous code cell\" />"
      ]
     },
     "execution_count": 12,
     "metadata": {},
     "output_type": "execute_result"
    }
   ],
   "source": [
    "# Pre-defined ansatz circuit and operator class for Hamiltonian\n",
    "\n",
    "ansatz = ansatz3\n",
    "\n",
    "num_params = ansatz.num_parameters\n",
    "print(\"This circuit has \", num_params, \"parameters\")\n",
    "\n",
    "ansatz.draw(\"mpl\", style=\"iqp\")"
   ]
  },
  {
   "cell_type": "markdown",
   "id": "56165439-e82f-45b3-af95-0ce5e9db0413",
   "metadata": {},
   "source": [
    "### Step 2: Optimize for target hardware\n",
    "\n",
    "When running a calculation on a real quantum computer, we don't just care about the logic of the quantum circuit. We also care about things like what operations can be performed by that particular quantum computer, and where on the quantum computer are the qubits we are using. Are they right next to each other? Are they far apart? Therefore, the next step is to rewrite our circuit using gates that are natural for the quantum computer we'll use, and taking qubit layout into account. This can be done by `transpilation` - after this process, you can see our simple ansatz converted into a different set of gates, and our abstract qubits will be mapped into physical qubits on a real quantum computer."
   ]
  },
  {
   "cell_type": "code",
   "execution_count": 13,
   "id": "b5e08232-d651-4df4-bcb7-533513144eff",
   "metadata": {},
   "outputs": [
    {
     "name": "stdout",
     "output_type": "stream",
     "text": [
      "Backend: {config.backend_name}\n",
      "Native gates:  ['ecr', 'id', 'delay', 'measure', 'reset', 'rz', 'sx', 'x'] ,\n"
     ]
    },
    {
     "data": {
      "text/plain": [
       "<Image src=\"/learning/images/modules/computer-science/vqe/extracted-outputs/b5e08232-d651-4df4-bcb7-533513144eff-1.avif\" alt=\"Output of the previous code cell\" />"
      ]
     },
     "execution_count": 13,
     "metadata": {},
     "output_type": "execute_result"
    }
   ],
   "source": [
    "from qiskit.transpiler.preset_passmanagers import generate_preset_pass_manager\n",
    "\n",
    "config = backend.configuration()\n",
    "\n",
    "print(\"Backend: {config.backend_name}\")\n",
    "print(\"Native gates: \", config.supported_instructions, \",\")\n",
    "\n",
    "\n",
    "target = backend.target\n",
    "\n",
    "pm = generate_preset_pass_manager(target=target, optimization_level=3)\n",
    "\n",
    "ansatz_isa = pm.run(ansatz)\n",
    "\n",
    "ansatz_isa.draw(output=\"mpl\", idle_wires=False, style=\"iqp\")"
   ]
  },
  {
   "cell_type": "markdown",
   "id": "49b145fe-3688-499f-bb19-e971e3e318df",
   "metadata": {},
   "source": [
    "You can see the `rx, rz` gates of our ansatz were converted into a series of `rz, sx` gates, which are the native gates of our backend. Also, you can see our `q0` is now mapped into the fifth physical qubit. We also need to map our Hamiltonian according to these changes, as in the following code:"
   ]
  },
  {
   "cell_type": "code",
   "execution_count": 14,
   "id": "9818a6d5-5e29-43b1-a50c-6b9f13b22f8b",
   "metadata": {},
   "outputs": [],
   "source": [
    "Hamiltonian_isa = Hamiltonian.apply_layout(layout=ansatz_isa.layout)"
   ]
  },
  {
   "cell_type": "markdown",
   "id": "6df8a5f6-918e-4f6f-9209-8d9ccc37da12",
   "metadata": {},
   "source": [
    "### Step 3: Execute on target hardware\n",
    "\n",
    "Now it is time to run our VQE on a real QPU. For this, first we need a cost function for the optimization process, which evaluates the expectation value of the Hamiltonian with a quantum state, generated by the ansatz. Don't worry! You don't need to code everything by yourself. We prepared a function for this, and all you need to do is run the cell below."
   ]
  },
  {
   "cell_type": "code",
   "execution_count": 15,
   "id": "345e6082-fb8b-495d-b2d6-add527b99b02",
   "metadata": {},
   "outputs": [],
   "source": [
    "def cost_func(params, ansatz, hamiltonian, estimator):\n",
    "    \"\"\"Return estimate of energy from estimator\n",
    "\n",
    "    Parameters:\n",
    "        params (ndarray): Array of ansatz parameters\n",
    "        ansatz (QuantumCircuit): Parameterized ansatz circuit\n",
    "        hamiltonian (SparsePauliOp): Operator representation of Hamiltonian\n",
    "        estimator (EstimatorV2): Estimator primitive instance\n",
    "        cost_history_dict: Dictionary for storing intermediate results\n",
    "\n",
    "    Returns:\n",
    "        float: Energy estimate\n",
    "    \"\"\"\n",
    "    pub = (ansatz, [hamiltonian], [params])\n",
    "    result = estimator.run(pubs=[pub]).result()\n",
    "    energy = result[0].data.evs[0]\n",
    "\n",
    "    cost_history_dict[\"iters\"] += 1\n",
    "    cost_history_dict[\"prev_vector\"] = params\n",
    "    cost_history_dict[\"cost_history\"].append(energy)\n",
    "    print(f\"Iters. done: {cost_history_dict['iters']} [Current cost: {energy}]\")\n",
    "\n",
    "    return energy"
   ]
  },
  {
   "cell_type": "markdown",
   "id": "3bac78ad-71d7-433d-a7bd-100e22e1e995",
   "metadata": {},
   "source": [
    "Finally, we prepare initial parameters for our ansatz and its optimization process. You can simply use all zeroes or random values. We have selected initial parameters below, but feel free to comment or uncomment lines in the cell to sample parameters randomly, uniformly from 0 to $2\\pi$."
   ]
  },
  {
   "cell_type": "code",
   "execution_count": 16,
   "id": "76247d6c-8fc8-4e79-853e-2f1aadae3db1",
   "metadata": {},
   "outputs": [],
   "source": [
    "# x0 = np.random.uniform(0, 2*pi, 3)\n",
    "x0 = [1, 1, 0]"
   ]
  },
  {
   "cell_type": "code",
   "execution_count": 17,
   "id": "1e336b9d-602a-4ce6-b433-5f223035aad7",
   "metadata": {},
   "outputs": [
    {
     "name": "stdout",
     "output_type": "stream",
     "text": [
      "Iters. done: 1 [Current cost: -0.3361517318448143]\n",
      "Iters. done: 2 [Current cost: -0.4682546422099432]\n",
      "Iters. done: 3 [Current cost: -0.38985802144149584]\n",
      "Iters. done: 4 [Current cost: -0.38319217316749354]\n",
      "Iters. done: 5 [Current cost: -0.4628720756579032]\n",
      "Iters. done: 6 [Current cost: -0.4683301936226905]\n",
      "Iters. done: 7 [Current cost: -0.45480498699294747]\n",
      "Iters. done: 8 [Current cost: -0.4690533242050814]\n",
      "Iters. done: 9 [Current cost: -0.465867415110354]\n",
      "Iters. done: 10 [Current cost: -0.4606882723137227]\n"
     ]
    }
   ],
   "source": [
    "# QPU Est. 2min for ibm_brisbane\n",
    "\n",
    "from scipy.optimize import minimize\n",
    "from qiskit_ibm_rumtime import Batch\n",
    "\n",
    "batch = Batch(backend=backend)\n",
    "\n",
    "cost_history_dict = {\n",
    "    \"prev_vector\": None,\n",
    "    \"iters\": 0,\n",
    "    \"cost_history\": [],\n",
    "}\n",
    "estimator = Estimator(mode=batch)\n",
    "estimator.options.default_shots = 10000\n",
    "\n",
    "res = minimize(\n",
    "    cost_func,\n",
    "    x0,\n",
    "    args=(ansatz_isa, Hamiltonian_isa, estimator),\n",
    "    method=\"cobyla\",\n",
    "    options={\"maxiter\": 10, \"tol\": 0.01},\n",
    ")\n",
    "\n",
    "batch.close()"
   ]
  },
  {
   "cell_type": "code",
   "execution_count": 19,
   "id": "25cbd507-cfa9-4886-a925-082f280d64e0",
   "metadata": {},
   "outputs": [
    {
     "name": "stdout",
     "output_type": "stream",
     "text": [
      "The reference ground state energy is  (-0.471+0j)\n",
      "The computed ground state energy is  -0.4690533242050814\n"
     ]
    }
   ],
   "source": [
    "h_vqe = res.fun\n",
    "print(\"The reference ground state energy is \", min(eigenvalues))\n",
    "print(\"The computed ground state energy is \", h_vqe)"
   ]
  },
  {
   "cell_type": "markdown",
   "id": "14a36a51-39e2-4909-9f62-b2719930c9c0",
   "metadata": {},
   "source": [
    "Congratulations! You have just finished your first quantum chemistry experiment successfully. We can see a difference between the exact ground state energy of the Hamiltonian and ours, but because we used a default error mitigation technique (which corrects readout errors), the difference is minor. This is a very good start!\n",
    "\n",
    "Note: You can get a better result by setting a level of error mitigation using [`resilience_level`](/docs/guides/configure-error-mitigation). The default value is 1, and if you set a higher value, it will use more QPU time but will return a better result."
   ]
  },
  {
   "cell_type": "markdown",
   "id": "32512841-7756-4fbd-8474-3fe57f62376d",
   "metadata": {},
   "source": [
    "### Step 4: Post-process\n",
    "\n",
    "It is time to take a look at how our classical optimizer worked. Run the cell below and see the convergence pattern."
   ]
  },
  {
   "cell_type": "code",
   "execution_count": 20,
   "id": "bee036cf-1255-4b4c-881b-cae6e903e09a",
   "metadata": {},
   "outputs": [
    {
     "data": {
      "text/plain": [
       "<Image src=\"/learning/images/modules/computer-science/vqe/extracted-outputs/bee036cf-1255-4b4c-881b-cae6e903e09a-0.avif\" alt=\"Output of the previous code cell\" />"
      ]
     },
     "metadata": {},
     "output_type": "display_data"
    }
   ],
   "source": [
    "fig, ax = plt.subplots()\n",
    "x = np.linspace(0, 10, 10)\n",
    "\n",
    "# Define the constant function\n",
    "y_constant = np.full_like(x, h)\n",
    "ax.plot(\n",
    "    range(cost_history_dict[\"iters\"]), cost_history_dict[\"cost_history\"], label=\"VQE\"\n",
    ")\n",
    "ax.set_xlabel(\"Iterations\")\n",
    "ax.set_ylabel(\"Cost (Hartree)\")\n",
    "ax.plot(y_constant, label=\"Target\")\n",
    "plt.legend()\n",
    "plt.draw()"
   ]
  },
  {
   "cell_type": "markdown",
   "id": "c66da37c-b940-4059-8a7a-ec5804ab1170",
   "metadata": {},
   "source": [
    "We started with a fairly good initial value, such that we obtained a good final value in just 10 steps. You can see big and small peaks, and this is the typical feature of the COBYLA optimizer - it searches the space as if it cannot see the landscape and adjusts step sizes with each measurement."
   ]
  },
  {
   "cell_type": "markdown",
   "id": "3a58e5c6-f14d-47e8-9aea-e9cd3e9eadf4",
   "metadata": {},
   "source": [
    "#### Check your understanding\n",
    "<details>\n",
    "<summary>\n",
    "\n",
    "What is your observation? Which part of the above process is open to improvement in order to obtain results closer to the theoretical values, or closer to the precise ground state energy of the Hamiltonian? What are some things to consider for this?\n",
    "\n",
    "</summary>\n",
    "\n",
    "__Answer:__\n",
    "\n",
    "\n",
    "The first thing to consider is the change in the set of bases used in calculating the Hamiltonian of molecules. As mentioned earlier, the ground state energy of the H atom is -0.5 Hartree, as is well known, and the STO-6G basis we have chosen is not enough to accurately derive this value.\n",
    "\n",
    "Choosing a more complex kind of basis increases the number of qubits used by the Hamiltonian; therefore, we need to select a more complex and suitable ansatz for chemistry problems.\n",
    "\n",
    "The next to be optimized is the management of noise in the QPU. More advanced error mitigation techniques yield better results but may take longer to use. Also, consider how the `shot_number` affects the results.\n",
    "\n",
    "Finally, better convergence performance can also be achieved by trying different optimizers.\n",
    "\n",
    "</details>"
   ]
  },
  {
   "cell_type": "markdown",
   "id": "1eb2128e-f8fd-4696-9733-0dc5838d43df",
   "metadata": {},
   "source": [
    "## Compute the ground state energy of the hydrogen molecule with VQE\n",
    "\n",
    "Now that we have looked at the overall process of VQE using $H$ atoms, we will now calculate the ground state energy of the $H_2$ molecule more quickly."
   ]
  },
  {
   "cell_type": "markdown",
   "id": "800829f1-5b5e-4719-b168-e3f98e48648b",
   "metadata": {},
   "source": [
    "### Step 1: Map the problem to quantum circuits and operators\n",
    "\n",
    "Here we also provide you with a one-qubit Hamiltonian that uses the STO-6G basis and the Jordan-Wigner transformation, with qubit reduction by using a symmetry of the Hamiltonian. Note that we used an atomic distance between two hydrogen atoms of `0.735` $\\mathring A$.\n",
    "\n",
    "Unlike the calculation of a single hydrogen atom ($H$), in order to calculate the ground state of a hydrogen molecule($H_2$), we must also consider the repulsive force acting between the nuclei of the two hydrogen atoms, in addition to the energy associated with the electronic orbitals. In this step, we will give this value as a constant, and we will actually calculate this value in the check-in problem.\n",
    "$$\\hat{H} = -1.04886 I + -0.79674 Z + 0.18122 X$$"
   ]
  },
  {
   "cell_type": "code",
   "execution_count": 21,
   "id": "6b51fe64-3126-4529-a4b4-d7dc71b67ce4",
   "metadata": {},
   "outputs": [
    {
     "name": "stdout",
     "output_type": "stream",
     "text": [
      "Electronic ground state energy (Hartree):  -1.8659468547627318\n",
      "Nuclear repulsion energy (Hartree):  0.71997\n",
      "Total ground state energy (Hartree):  -1.1459768547627318\n"
     ]
    }
   ],
   "source": [
    "h2_hamiltonian = SparsePauliOp.from_list(\n",
    "    [(\"I\", -1.04886087), (\"Z\", -0.7967368), (\"X\", 0.18121804)]\n",
    ")\n",
    "\n",
    "# exact ground state energy of hamiltonian\n",
    "nuclear_repulsion = 0.71997\n",
    "A = np.array(h2_hamiltonian)\n",
    "eigenvalues, eigenvectors = np.linalg.eig(A)\n",
    "print(\"Electronic ground state energy (Hartree): \", min(eigenvalues).real)\n",
    "print(\"Nuclear repulsion energy (Hartree): \", nuclear_repulsion)\n",
    "print(\n",
    "    \"Total ground state energy (Hartree): \", min(eigenvalues).real + nuclear_repulsion\n",
    ")\n",
    "h2 = min(eigenvalues).real + nuclear_repulsion"
   ]
  },
  {
   "cell_type": "markdown",
   "id": "a55fbfd5-b0c5-4eaa-ad0e-e5247e185bbf",
   "metadata": {},
   "source": [
    "### Step 2: Optimize for target hardware\n",
    "\n",
    "Since the number of qubits used by the previous VQE and Hamiltonian is the same as the backend to be used for execution, we will use the existing ansatz and its optimized form."
   ]
  },
  {
   "cell_type": "code",
   "execution_count": 22,
   "id": "d05b7a81-d1a0-482f-ada8-02ee17eb1d43",
   "metadata": {},
   "outputs": [],
   "source": [
    "h2_hamiltonian_isa = h2_hamiltonian.apply_layout(layout=ansatz_isa.layout)"
   ]
  },
  {
   "cell_type": "markdown",
   "id": "bbdfc83d-8d6f-4717-8ab5-10afea1bafe5",
   "metadata": {},
   "source": [
    "### Step 3: Execute on target hardware\n",
    "\n",
    "Now it's time to do the calculations on the actual QPU. Almost everything is the same, but we will use the appropriate initial point to fit the Hamiltonian. Also, at an iterative part, some of the settings of the `Estimator`, which is used to calculate the Hamiltonian's expectations for the ansatz in the QPU, will be set slightly differently from the previous calculations. We will discuss this change further in a check-in question."
   ]
  },
  {
   "cell_type": "code",
   "execution_count": 23,
   "id": "d439a9ff-9af1-433c-84ff-04c440e5d83a",
   "metadata": {},
   "outputs": [],
   "source": [
    "x0 = [2, 0, 0]"
   ]
  },
  {
   "cell_type": "code",
   "execution_count": 45,
   "id": "804a24f1-cd5d-405b-9589-57ff8e9c4aed",
   "metadata": {},
   "outputs": [
    {
     "name": "stdout",
     "output_type": "stream",
     "text": [
      "Iters. done: 1 [Current cost: -0.710621837568328]\n",
      "Iters. done: 2 [Current cost: -0.2603208441168329]\n",
      "Iters. done: 3 [Current cost: -0.25548711201326424]\n",
      "Iters. done: 4 [Current cost: -0.581129450619904]\n",
      "Iters. done: 5 [Current cost: -1.722920997605439]\n",
      "Iters. done: 6 [Current cost: -1.6633324849371915]\n",
      "Iters. done: 7 [Current cost: -1.8066989598929164]\n",
      "Iters. done: 8 [Current cost: -1.8051093803839542]\n",
      "Iters. done: 9 [Current cost: -1.802692217571555]\n",
      "Iters. done: 10 [Current cost: -1.8233585485263144]\n",
      "Iters. done: 11 [Current cost: -1.6904116652617205]\n",
      "Iters. done: 12 [Current cost: -1.8245120321245392]\n",
      "Iters. done: 13 [Current cost: -1.6837021361383608]\n",
      "Iters. done: 14 [Current cost: -1.8166632606115467]\n",
      "Iters. done: 15 [Current cost: -1.863446212658907]\n"
     ]
    }
   ],
   "source": [
    "# QPU time 4min for ibm_brisbane\n",
    "batch = Batch(backend=backend)\n",
    "\n",
    "cost_history_dict = {\n",
    "    \"prev_vector\": None,\n",
    "    \"iters\": 0,\n",
    "    \"cost_history\": [],\n",
    "}\n",
    "estimator = Estimator(mode=batch)\n",
    "estimator.options.default_shots = 10000\n",
    "\n",
    "res = minimize(\n",
    "    cost_func,\n",
    "    x0,\n",
    "    args=(ansatz_isa, h2_hamiltonian_isa, estimator),\n",
    "    method=\"cobyla\",\n",
    "    options={\"maxiter\": 15},\n",
    ")\n",
    "\n",
    "batch.close()"
   ]
  },
  {
   "cell_type": "code",
   "execution_count": 46,
   "id": "01ef5662-6b35-4888-a3d5-f4c13923bc00",
   "metadata": {},
   "outputs": [
    {
     "name": "stdout",
     "output_type": "stream",
     "text": [
      "The reference ground state energy is  -1.1459768547627318\n",
      "The computed ground state energy is  -1.143476212658907\n"
     ]
    }
   ],
   "source": [
    "h2_vqe = res.fun + nuclear_repulsion\n",
    "print(\n",
    "    \"The reference ground state energy is \", min(eigenvalues).real + nuclear_repulsion\n",
    ")\n",
    "print(\"The computed ground state energy is \", h2_vqe)"
   ]
  },
  {
   "cell_type": "markdown",
   "id": "44d2604b-15bd-4246-8424-651b3c7eca1e",
   "metadata": {},
   "source": [
    "Despite VQE theoretically providing an upper bound to the true ground state energy, practical implementations on real or noisy simulated quantum hardware, as well as approximations made in preparing the Hamiltonian (like basis sets or qubit reduction), can introduce errors that sometimes result in a measured energy slightly lower than the exact theoretical value or a specific numerical reference. Although there are some errors, the results seem to be satisfactory, especially given the small number of steps. Now, let's finish this VQE calculation by looking at how the optimizer worked."
   ]
  },
  {
   "cell_type": "markdown",
   "id": "d80f18d8-dc3d-4429-aad0-132ef3ec952a",
   "metadata": {},
   "source": [
    "### Step 4: Post-process"
   ]
  },
  {
   "cell_type": "code",
   "execution_count": 52,
   "id": "4b82b644-e030-4983-9fd3-83c3e9dbf307",
   "metadata": {},
   "outputs": [
    {
     "data": {
      "text/plain": [
       "<Image src=\"/learning/images/modules/computer-science/vqe/extracted-outputs/4b82b644-e030-4983-9fd3-83c3e9dbf307-0.avif\" alt=\"Output of the previous code cell\" />"
      ]
     },
     "metadata": {},
     "output_type": "display_data"
    }
   ],
   "source": [
    "fig, ax = plt.subplots()\n",
    "x = np.linspace(0, 5, 15)\n",
    "\n",
    "# Define the constant function\n",
    "y_constant = np.full_like(x, min(eigenvalues))\n",
    "ax.plot(\n",
    "    range(cost_history_dict[\"iters\"]), cost_history_dict[\"cost_history\"], label=\"VQE\"\n",
    ")\n",
    "ax.set_xlabel(\"Iterations\")\n",
    "ax.set_ylabel(\"Cost (Hartree)\")\n",
    "ax.plot(y_constant, label=\"Target\")\n",
    "plt.legend()\n",
    "plt.draw()"
   ]
  },
  {
   "cell_type": "markdown",
   "id": "8df49f7e-3d8a-405c-b4e5-f8b36b383d92",
   "metadata": {},
   "source": [
    "#### Check your understanding\n",
    "Let's compute the nuclear repulsion energy of $H_2$ molecule, which we included as a constant value (0.71997 Hartree).\n",
    "\n",
    "![H2 molecule](/learning/images/modules/computer-science/vqe/h2.avif)\n",
    "\n",
    "<details>\n",
    "<summary>\n",
    "\n",
    "Please use [Coulomb's law](https://en.wikipedia.org/wiki/Coulomb%27s_law) and use [atomic unit](https://en.wikipedia.org/wiki/Atomic_units) to make sure you get the value in `Hartree`.\n",
    "\n",
    "</summary>\n",
    "\n",
    "__Answer:__\n",
    "\n",
    "\n",
    "Since both hydrogen nuclei are positively charged, they repel each other due to electrostatic force. This repulsion is described by Coulomb's law:\n",
    "\n",
    "$$E_{repulsive} = \\frac{e^2}{4\\pi\\epsilon_0R}$$,\n",
    "\n",
    "where $e$ is a charge of proton, $\\epsilon_0$ is a vacuum permittivity, and $R$ is the distance between the two nuclei, measured in meters or Bohr radii in unit of joules(J).\n",
    "\n",
    "To compute this energy in Hartrees, we need to convert the above equation into the Atomic Unit (AU) system. In AU, $e^2 = 1$, $4\\pi\\epsilon_0=1$ and Bohr radius ($a_0$) is 1 and becomes the fundamental length scale in AU. With these simplifications, Coulomb's law reduces to:\n",
    "\n",
    "$$E_{repulsion} = \\frac{1}{R}$$,\n",
    "\n",
    "where $R$ must be measured in Bohr radii ($a_0$).\n",
    "\n",
    "To convert the given nuclear separation in $\\r{A}$ into $a_0$, we need this conversion relation:\n",
    "\n",
    "$$1\\r{A} = 1.88973 a_0$$\n",
    "\n",
    "so $0.735\\r{A}$ becomes $0.735 * 1.88973 = 1.38895 a_0$.\n",
    "\n",
    "Therefore, the nuclear repulsion energy of a given $H_2$ is\n",
    "\n",
    "$$E_{repulsion} = \\frac{1}{R} = \\frac{1}{1.38895} = 0.71997 Hartree$$\n",
    "\n",
    "</details>"
   ]
  },
  {
   "cell_type": "markdown",
   "id": "f87ca3b2-f889-4e1f-9688-5c91c9fcd4d9",
   "metadata": {},
   "source": [
    "## Compute reaction energy of $H + H = H_2$\n",
    "\n",
    "Now let's use what we've obtained from quantum computation! You've used VQE, a variational quantum algorithm, to calculate the ground state energy of the $H$ atom and of the $H_2$ molecule. What's left is to use the calculated values to calculate the reaction energy of the $H+H=H_2$ process.\n",
    "\n",
    "Reaction energy is the energy change that happens when substances react to form new substances. Imagine you’re building something: sometimes you need to put energy into it (like stacking blocks), and sometimes energy is released (like a ball rolling downhill). In chemistry, reactions either absorb energy (endothermic) or release energy (exothermic).\n",
    "\n",
    "The reaction energy of $H+H = H_2$ process can be compute by the following formula:\n",
    "\n",
    "$E_{reaction} = E_{H_2} - (E_H + E_H)$\n",
    "\n",
    "By running the cell below, let's see this visually. Here we will use the exact ground state value of each Hamiltonian, and we'll compare the reaction energy of the exact solution and VQE results."
   ]
  },
  {
   "cell_type": "code",
   "execution_count": 53,
   "id": "87e1e660-ae81-43f4-adbe-a229b9d9c889",
   "metadata": {},
   "outputs": [
    {
     "data": {
      "text/plain": [
       "<Image src=\"/learning/images/modules/computer-science/vqe/extracted-outputs/87e1e660-ae81-43f4-adbe-a229b9d9c889-0.avif\" alt=\"Output of the previous code cell\" />"
      ]
     },
     "metadata": {},
     "output_type": "display_data"
    }
   ],
   "source": [
    "# Theoretical values\n",
    "E_H_theo = h.real\n",
    "E_H2_theo = h2\n",
    "\n",
    "# Experimental values\n",
    "E_H_exp = h_vqe\n",
    "E_H2_exp = h2_vqe\n",
    "\n",
    "# Calculate reaction energies\n",
    "E_reaction_theo = E_H2_theo - (2 * E_H_theo)\n",
    "E_reaction_exp = E_H2_exp - (2 * E_H_exp)\n",
    "\n",
    "# Set up the plot\n",
    "fig, ax = plt.subplots(figsize=(8, 6))\n",
    "ax.set_xlim(0, 3)\n",
    "ax.set_ylim(-1.16, -0.93)  # Adjust y-axis range to highlight differences\n",
    "ax.set_xticks([])\n",
    "ax.set_ylabel(\"Energy (Hartree)\")\n",
    "ax.set_title(\"H + H → H₂ Reaction Energy Diagram\")\n",
    "\n",
    "# Plot theoretical energy levels\n",
    "ax.hlines(\n",
    "    y=2 * E_H_theo, xmin=0.5, xmax=1.3, linewidth=2, color=\"r\", label=\"2H (Exact)\"\n",
    ")\n",
    "ax.hlines(y=E_H2_theo, xmin=1.3, xmax=2, linewidth=2, color=\"b\", label=\"H₂ (Exact)\")\n",
    "\n",
    "# Plot experimental energy levels\n",
    "ax.hlines(\n",
    "    y=2 * E_H_exp,\n",
    "    xmin=0.5,\n",
    "    xmax=1.5,\n",
    "    linewidth=2,\n",
    "    color=\"r\",\n",
    "    linestyle=\"dashed\",\n",
    "    label=\"2H (VQE)\",\n",
    ")\n",
    "ax.hlines(\n",
    "    y=E_H2_exp,\n",
    "    xmin=1.5,\n",
    "    xmax=2.5,\n",
    "    linewidth=2,\n",
    "    color=\"b\",\n",
    "    linestyle=\"dashed\",\n",
    "    label=\"H₂ (VQE)\",\n",
    ")\n",
    "\n",
    "# Add labels\n",
    "ax.text(\n",
    "    1,\n",
    "    2 * E_H_theo,\n",
    "    f\"2H: {2*E_H_theo:.4f}\",\n",
    "    verticalalignment=\"top\",\n",
    "    horizontalalignment=\"left\",\n",
    ")\n",
    "ax.text(\n",
    "    2,\n",
    "    E_H2_theo,\n",
    "    f\"H₂: {E_H2_theo:.4f}\",\n",
    "    verticalalignment=\"top\",\n",
    "    horizontalalignment=\"left\",\n",
    ")\n",
    "ax.text(\n",
    "    1,\n",
    "    2 * E_H_exp,\n",
    "    f\"2H_VQE: {2*E_H_exp:.4f}\",\n",
    "    verticalalignment=\"bottom\",\n",
    "    horizontalalignment=\"right\",\n",
    ")\n",
    "ax.text(\n",
    "    2,\n",
    "    E_H2_exp,\n",
    "    f\"H₂_VQE: {E_H2_exp:.4f}\",\n",
    "    verticalalignment=\"bottom\",\n",
    "    horizontalalignment=\"right\",\n",
    ")\n",
    "\n",
    "# Add arrows for reaction energy with ΔE label in the middle\n",
    "mid_y_theo = (2 * E_H_theo + E_H2_theo) / 2\n",
    "mid_y_exp = (2 * E_H_exp + E_H2_exp) / 2\n",
    "ax.annotate(\n",
    "    \"\",\n",
    "    xy=(1.3, E_H2_theo),\n",
    "    xytext=(1.3, 2 * E_H_theo),\n",
    "    arrowprops=dict(arrowstyle=\"<->\", color=\"g\"),\n",
    ")\n",
    "ax.text(\n",
    "    1.35, mid_y_theo, f\"ΔE: {E_reaction_theo:.4f}\", color=\"g\", verticalalignment=\"top\"\n",
    ")\n",
    "\n",
    "ax.annotate(\n",
    "    \"\",\n",
    "    xy=(1.5, E_H2_exp),\n",
    "    xytext=(1.5, 2 * E_H_exp),\n",
    "    arrowprops=dict(arrowstyle=\"<->\", color=\"g\", linestyle=\"dashed\"),\n",
    ")\n",
    "ax.text(\n",
    "    1.55,\n",
    "    mid_y_exp,\n",
    "    f\"ΔE_VQE: {E_reaction_exp:.4f}\",\n",
    "    color=\"g\",\n",
    "    verticalalignment=\"center\",\n",
    ")\n",
    "\n",
    "# Add legend\n",
    "ax.legend()\n",
    "\n",
    "plt.show()"
   ]
  },
  {
   "cell_type": "markdown",
   "id": "8c01f4ab-469e-49b0-8184-3e216c6f0db6",
   "metadata": {},
   "source": [
    "As shown in the figure, although there are some errors, the exact ground state energy of Hamiltonians and the reaction energy calculated using the VQE results are similar, close to -0.2 Hartree.\n",
    "\n",
    "It should be noted here that the reaction energy of this process has a negative value, which means that the energy is released through the process, and the resulting molecule has a lower energy than two single atoms."
   ]
  },
  {
   "cell_type": "markdown",
   "id": "fe9933c3-6bc8-45c0-ac2f-a811ce06fd11",
   "metadata": {},
   "source": [
    "6. Conclusion\n",
    "\n",
    "Let's summarize what we've learned so far.\n",
    "\n",
    "We first looked at two important approximation techniques needed to solve quantum chemistry problems: the variational principle and basis set choices, which are both fundamental to VQE. We explored the variational principle by hand, calculating the ground state energy of the simple harmonic oscillator.\n",
    "\n",
    "Next, we explored VQE, a widely-used algorithm for calculating the ground state energy of a quantum system. We ran code to calculate the ground state energies for atomic hydrogen ($H$) and the hydrogen molecule ($H_2$). In particular, we learned that it is necessary to obtain the appropriate molecular Hamiltonian for the system and to transform it into a form executable on a quantum computer. We also saw that the ansatz, a parameterized quantum circuit, is needed to prepare trial quantum states within VQE, and we discussed the importance of choosing an appropriate ansatz circuit structure. We also learned that VQE relies on an iterative optimization process using a classical computer, guiding the quantum circuit to find the lowest energy state, and saw how the convergence of this process is monitored.\n",
    "\n",
    "Finally, we used the computed ground state energies of $H$ and $H_2$ obtained through VQE to calculate the reaction energy for the process $H + H \\rightarrow H_2$.\n",
    "\n",
    "VQE is a powerful near-term quantum algorithm, but it's important to be aware of its limitations. The performance of VQE heavily depends on the choice of the ansatz – finding an efficiently preparable ansatz that can accurately represent the true ground state becomes increasingly challenging for larger, more complex molecules. Furthermore, current quantum hardware is susceptible to noise, which can impact the accuracy of VQE results, particularly for deeper circuits or larger numbers of qubits. Despite these challenges, VQE serves as a foundational algorithm, and ongoing research is exploring more sophisticated variational methods and error mitigation techniques to push the boundaries of what is possible in quantum chemistry on near-term quantum computers. For instance, algorithms like Sample-based Quantum Diagonalization (SQD) are being developed, which leverage samples obtained from quantum circuits combined with classical diagonalization in a subspace to improve energy estimation and address some of the limitations faced by VQE, particularly regarding measurement efficiency and noise robustness."
   ]
  },
  {
   "cell_type": "markdown",
   "id": "7c138233-3f2c-430d-aba1-e63c91e22037",
   "metadata": {},
   "source": [
    "## Review and questions\n",
    "\n",
    "### Critical concepts:\n",
    "\n",
    "- Variational quantum algorithm is a computing paradigm in which a classical computer and a quantum computer work together to solve a problem.\n",
    "- In VQE, we start with a Hamiltonian of our system and map it onto qubits for execution on the quantum computer. We select a parameterized quantum circuit, an ansatz, and make repeated measurements, varying the parameters of the ansatz, until the lowest energy value is reached. The search through parameter space is done using a classical optimizer. To achieve good results, it is necessary to select a good ansatz and an appropriate optimizer.\n",
    "- Reaction energy is the total energy change in a chemical reaction, determined by the difference between the energy of the reactants and the products.\n",
    "\n",
    "\n",
    "### True/false\n",
    "1. The variational principle states that the expectation value of the energy for any trial wave function is always greater than or equal to the true ground state energy.\n",
    "2. A basis set is a collection of functions used to approximate quantum wave functions.\n",
    "3. VQE is a quantum algorithm used to exactly solve the Schrödinger equation for a given Hamiltonian.\n",
    "4. In VQE, a parameterized quantum circuit (an ansatz) is used to prepare trial wave functions.\n",
    "5. The choice of optimizer in VQE (for example, COBYLA, SPSA, or ADAM) does not impact the quality of the result.\n",
    "6. Qiskit's `Estimator` is used to directly compute expectation values of Hamiltonians in VQE.\n",
    "\n",
    "\n",
    "### Multiple-choice questions:\n",
    "\n",
    "1. What is the purpose of the Hamiltonian in VQE?\n",
    "\n",
    "- A) To generate random quantum states\n",
    "- B) To determine the energy of quantum states\n",
    "- C) To optimize quantum circuits\n",
    "- D) To create entanglement\n",
    "\n",
    "2. What is the primary objective of the VQE algorithm?\n",
    "\n",
    "- A) To find the ground state energy of a Hamiltonian\n",
    "- B) To create entanglement between qubits\n",
    "- C) To perform Grover's search\n",
    "- D) To break the RSA encryption\n",
    "\n",
    "3. How many quantum states are generated in this notebook to compare the ansätze?\n",
    "- A) 100\n",
    "- B) 1000\n",
    "- C) 5000\n",
    "- D) 10,000\n",
    "\n",
    "4. Why is a classical optimizer required in VQE?\n",
    "- A) To perform quantum measurements\n",
    "- B) Update ansatz parameters to minimize energy\n",
    "- C) To entangle qubits\n",
    "- D) To generate quantum randomness\n",
    "\n",
    "5. Why is the ansatz designed to be parameterized?\n",
    "- A) To allow quantum state preparation\n",
    "- B) To allow a wide space of quantum states to be searched\n",
    "- C) To reduce circuit complexity\n",
    "- D) To measure eigenvalues directly\n",
    "\n",
    "6. Which of the following is the most correct statement about choosing a good ansatz?\n",
    "- A) An ansatz must produce states evenly distributed over the Bloch sphere, or it will fail.\n",
    "- B) An ansatz should be tailored to your system to make sure it can generate states close to the ground state.\n",
    "- C) An ansatz should produce random states using its variational parameters.\n",
    "- D) A better ansatz always has more variational parameters."
   ]
  },
  {
   "cell_type": "markdown",
   "id": "feca40cc-dcdb-4f3d-adf6-1bf74153355e",
   "metadata": {},
   "source": [
    "## (Optional) Appendix: Optimizer overhead by ansatz complexity\n",
    "\n",
    "VQE faces several well-known challenges[ref 6], and the following are related to what we have learned above.\n",
    "\n",
    "1. Ansatz selection challenges\n",
    "There is an inherent challenge in selecting the right variational ansatz. Chemistry-inspired ansätze (like UCCSD) provide physical accuracy but require deep circuits, while hardware-efficient ansätze have shallower circuits but may lack physical interpretability. Also, many ansätze introduce excessive variational parameters that contribute little to improving accuracy but significantly increase optimization difficulty.\n",
    "\n",
    "2. Optimization difficulties\n",
    "The optimization landscape of VQE can have regions where gradients vanish exponentially (barren plateaus), making it difficult for classical optimizers to update the variational parameters efficiently. For this, researchers have tried to use different types of optimizers - gradient-based and gradient-free, but both face challenges. Gradient-based optimizers suffer from barren plateaus, while gradient-free methods require a large number of function evaluations.\n",
    "\n",
    "One more well-known challenge is optimizer overhead, which is related to the scale of the problem. The quantum circuits required for VQE grow in depth and complexity as the problem size increases; this typically also increases the number of parameters to optimize. The optimization process becomes intractable as the number of parameters increases, leading to slow convergence and difficulties in finding the optimal solution.\n",
    "\n",
    "Here we will take a look at these challenges by using VQE for a $H_2$ molecule, with two different types of ansätze.\n",
    "\n",
    "(Note: This can take more QPU time, so feel free to use a noisy simulator for this if you don't have enough time.)"
   ]
  },
  {
   "cell_type": "code",
   "execution_count": 54,
   "id": "1d3b72d7-77de-4328-b43f-06b0d6fc8f2d",
   "metadata": {},
   "outputs": [],
   "source": [
    "from qiskit.circuit import ParameterVector\n",
    "\n",
    "num_iter = 4\n",
    "alpha = ParameterVector(\"alpha\", 3)\n",
    "beta = ParameterVector(\"beta\", 3 * num_iter)\n",
    "\n",
    "# step1: Map problem to quantum circuits and operators\n",
    "hamiltonian = SparsePauliOp.from_list(\n",
    "    [(\"I\", -1.04886087), (\"Z\", -0.7967368), (\"X\", 0.18121804)]\n",
    ")\n",
    "\n",
    "ansatz_1 = ansatz3\n",
    "ansatz_2 = QuantumCircuit(1)\n",
    "for i in range(num_iter):\n",
    "    ansatz_2.rx(beta[i * 3 + 0], 0)\n",
    "    ansatz_2.rz(beta[i * 3 + 1], 0)\n",
    "    ansatz_2.rx(beta[i * 3 + 2], 0)"
   ]
  },
  {
   "cell_type": "code",
   "execution_count": 55,
   "id": "faf0cf47-e48d-44aa-8119-af56c2ba94df",
   "metadata": {},
   "outputs": [
    {
     "data": {
      "text/plain": [
       "<Image src=\"/learning/images/modules/computer-science/vqe/extracted-outputs/faf0cf47-e48d-44aa-8119-af56c2ba94df-0.avif\" alt=\"Output of the previous code cell\" />"
      ]
     },
     "execution_count": 55,
     "metadata": {},
     "output_type": "execute_result"
    }
   ],
   "source": [
    "ansatz_1.draw(\"mpl\")"
   ]
  },
  {
   "cell_type": "code",
   "execution_count": 56,
   "id": "0edacb57-b03d-4850-8698-9b8d9f1338c4",
   "metadata": {},
   "outputs": [
    {
     "data": {
      "text/plain": [
       "<Image src=\"/learning/images/modules/computer-science/vqe/extracted-outputs/0edacb57-b03d-4850-8698-9b8d9f1338c4-0.avif\" alt=\"Output of the previous code cell\" />"
      ]
     },
     "execution_count": 56,
     "metadata": {},
     "output_type": "execute_result"
    }
   ],
   "source": [
    "ansatz_2.draw(\"mpl\")"
   ]
  },
  {
   "cell_type": "code",
   "execution_count": 57,
   "id": "90f931ef-d3e5-4f81-9a99-9d9ff1879a94",
   "metadata": {},
   "outputs": [],
   "source": [
    "# Step 2: Optimize for target hardware\n",
    "\n",
    "target = backend.target\n",
    "pm = generate_preset_pass_manager(target=target, optimization_level=3)\n",
    "\n",
    "ansatz_isa_1 = pm.run(ansatz_1)\n",
    "ansatz_isa_2 = pm.run(ansatz_2)\n",
    "hamiltonian_isa_1 = hamiltonian.apply_layout(layout=ansatz_isa_1.layout)\n",
    "hamiltonian_isa_2 = hamiltonian.apply_layout(layout=ansatz_isa_2.layout)"
   ]
  },
  {
   "cell_type": "markdown",
   "id": "4e130d75-8aef-41f7-81af-0b1911fbf44f",
   "metadata": {},
   "source": [
    "Now let's run a VQE with an initial point made of all ones, with a maximum of 50 steps, and compare the convergence of both runs."
   ]
  },
  {
   "cell_type": "code",
   "execution_count": 60,
   "id": "fec342c6-2072-4159-ae8c-47d053e48b8e",
   "metadata": {},
   "outputs": [
    {
     "name": "stdout",
     "output_type": "stream",
     "text": [
      "Iters. done: 1 [Current cost: -0.8782202668652658]\n",
      "Iters. done: 2 [Current cost: -0.43473160695469165]\n",
      "Iters. done: 3 [Current cost: -0.4076372093159749]\n",
      "Iters. done: 4 [Current cost: -1.3587839859772106]\n",
      "Iters. done: 5 [Current cost: -1.774529906754082]\n",
      "Iters. done: 6 [Current cost: -1.541934983115727]\n",
      "Iters. done: 7 [Current cost: -1.2732403113465345]\n",
      "Iters. done: 8 [Current cost: -1.820842221085785]\n",
      "Iters. done: 9 [Current cost: -1.8065762857059005]\n",
      "Iters. done: 10 [Current cost: -1.8126394095981146]\n",
      "Iters. done: 11 [Current cost: -1.8205831886180421]\n",
      "Iters. done: 12 [Current cost: -1.8086715778994924]\n",
      "Iters. done: 13 [Current cost: -1.8307676638629322]\n",
      "Iters. done: 14 [Current cost: -1.8177328827556327]\n",
      "Iters. done: 15 [Current cost: -1.8179426218088064]\n",
      "Iters. done: 16 [Current cost: -1.8109239667991088]\n",
      "Iters. done: 17 [Current cost: -1.824271872489647]\n",
      "Iters. done: 18 [Current cost: -1.813167587671394]\n",
      "Iters. done: 19 [Current cost: -1.824647343397313]\n",
      "Iters. done: 20 [Current cost: -1.8219785311686143]\n"
     ]
    }
   ],
   "source": [
    "# QPU time 4m for ibm_brisbane\n",
    "# Step 3: Execute on target hardware\n",
    "\n",
    "from scipy.optimize import minimize\n",
    "\n",
    "x0 = np.ones(ansatz_1.num_parameters)\n",
    "\n",
    "batch = Batch(backend=backend)\n",
    "\n",
    "\n",
    "cost_history_dict = {\n",
    "    \"prev_vector\": None,\n",
    "    \"iters\": 0,\n",
    "    \"cost_history\": [],\n",
    "}\n",
    "estimator = Estimator(mode=batch)\n",
    "estimator.options.default_shots = 2048\n",
    "\n",
    "res = minimize(\n",
    "    cost_func,\n",
    "    x0,\n",
    "    args=(ansatz_isa_1, hamiltonian_isa_1, estimator),\n",
    "    method=\"cobyla\",\n",
    "    options={\"maxiter\": 20},\n",
    ")\n",
    "\n",
    "batch.close()"
   ]
  },
  {
   "cell_type": "code",
   "execution_count": 61,
   "id": "1501ec51-1787-41fa-9076-be21e1a32c6c",
   "metadata": {},
   "outputs": [],
   "source": [
    "# Save Cost_history as a new list\n",
    "ansatz_1_history = cost_history_dict[\"cost_history\"]"
   ]
  },
  {
   "cell_type": "code",
   "execution_count": 62,
   "id": "1dc3c980-e300-44e2-8244-99e897280927",
   "metadata": {},
   "outputs": [
    {
     "name": "stdout",
     "output_type": "stream",
     "text": [
      "Iters. done: 1 [Current cost: -0.738191173881188]\n",
      "Iters. done: 2 [Current cost: -0.42636037194506304]\n",
      "Iters. done: 3 [Current cost: -1.3503788613797374]\n",
      "Iters. done: 4 [Current cost: -0.9109204349776897]\n",
      "Iters. done: 5 [Current cost: -0.9060873157510835]\n",
      "Iters. done: 6 [Current cost: -0.7735065414083984]\n",
      "Iters. done: 7 [Current cost: -1.586889197437709]\n",
      "Iters. done: 8 [Current cost: -1.659215191584943]\n",
      "Iters. done: 9 [Current cost: -1.245445981794618]\n",
      "Iters. done: 10 [Current cost: -1.1608385766138023]\n",
      "Iters. done: 11 [Current cost: -1.1551733876027737]\n",
      "Iters. done: 12 [Current cost: -1.8143337768286332]\n",
      "Iters. done: 13 [Current cost: -1.2510951563756598]\n",
      "Iters. done: 14 [Current cost: -1.6918311531865413]\n",
      "Iters. done: 15 [Current cost: -1.8163783305531838]\n",
      "Iters. done: 16 [Current cost: -1.8434877732947152]\n",
      "Iters. done: 17 [Current cost: -1.8461898233304472]\n",
      "Iters. done: 18 [Current cost: -1.0346471214915485]\n",
      "Iters. done: 19 [Current cost: -1.8322518854150687]\n",
      "Iters. done: 20 [Current cost: -1.717144678705999]\n"
     ]
    }
   ],
   "source": [
    "# QPU time 4m for ibm_brisbane\n",
    "\n",
    "x0 = np.ones(ansatz_2.num_parameters)\n",
    "\n",
    "batch = Batch(backend=backend)\n",
    "\n",
    "\n",
    "cost_history_dict = {\n",
    "    \"prev_vector\": None,\n",
    "    \"iters\": 0,\n",
    "    \"cost_history\": [],\n",
    "}\n",
    "estimator = Estimator(mode=batch)\n",
    "estimator.options.default_shots = 2048\n",
    "\n",
    "res = minimize(\n",
    "    cost_func,\n",
    "    x0,\n",
    "    args=(ansatz_isa_2, hamiltonian_isa_2, estimator),\n",
    "    method=\"cobyla\",\n",
    "    options={\"maxiter\": 20},\n",
    ")\n",
    "\n",
    "batch.close()"
   ]
  },
  {
   "cell_type": "code",
   "execution_count": 63,
   "id": "6fc06b8e-d9f5-4157-afa9-5edea7cc938e",
   "metadata": {},
   "outputs": [],
   "source": [
    "ansatz_2_history = cost_history_dict[\"cost_history\"]"
   ]
  },
  {
   "cell_type": "code",
   "execution_count": 64,
   "id": "fb572c33-f3be-4ea8-959c-0891c9da947a",
   "metadata": {},
   "outputs": [
    {
     "data": {
      "text/plain": [
       "<Image src=\"/learning/images/modules/computer-science/vqe/extracted-outputs/fb572c33-f3be-4ea8-959c-0891c9da947a-0.avif\" alt=\"Output of the previous code cell\" />"
      ]
     },
     "metadata": {},
     "output_type": "display_data"
    }
   ],
   "source": [
    "fig, ax = plt.subplots()\n",
    "\n",
    "# Define the constant function)\n",
    "ax.plot(\n",
    "    range(cost_history_dict[\"iters\"]),\n",
    "    ansatz_1_history,\n",
    "    label=\"Ansatz with 3 parameters\",\n",
    ")\n",
    "ax.plot(\n",
    "    range(cost_history_dict[\"iters\"]),\n",
    "    ansatz_2_history,\n",
    "    label=\"Ansatz with 12 parameters\",\n",
    ")\n",
    "ax.set_xlabel(\"Iterations\")\n",
    "ax.set_ylabel(\"Cost (Hartree)\")\n",
    "plt.legend()\n",
    "plt.draw()"
   ]
  },
  {
   "cell_type": "markdown",
   "id": "aaacc2f9-1d98-402b-99df-4c1653cbd38a",
   "metadata": {},
   "source": [
    "The graph above clearly demonstrates that the optimization process of the ansatz with more variables takes more time to get to stable convergence.\n",
    "\n",
    "Rather than relying on simple single-qubit circuits and a straightforward ansatz, the complexity of optimization increases when larger quantum circuits and more complex structured ansätze are required. This highlights a well-known challenge in VQEs: the overhead of the optimizer.\n",
    "\n",
    "Researchers continue to develop various advanced methodologies that can use quantum computers for chemistry problems. You can access a variety of educational materials at [IBM Quantum Learning](https://quantum.cloud.ibm.com/learning/en)."
   ]
  },
  {
   "cell_type": "markdown",
   "id": "52433704-8f52-4e57-8e64-989d36ac2f9f",
   "metadata": {},
   "source": [
    "## References\n",
    "\n",
    "- [[ref 1](https://link.springer.com/article/10.1007/BF02650179) ] Richard P. Feynman, Simulating Physics with Computers, International Journal of Theoretical Physics, 1982.\n",
    "- [ref 2] Marov, M.Y. (2015). The Structure of the Universe. In: The Fundamentals of Modern Astrophysics. Springer, New York, NY.\n",
    "- [[ref 3](https://www.ibm.com/quantum/blog/photoresists-quantum-chemistry-jsr)] How to solve difficult chemical engineering problems with quantum computing, IBM Research Blog, 2023.\n",
    "- [[ref 4](https://ieeexplore.ieee.org/document/8585034)] Y. Cao, J. Romero and A. Aspuru-Guzik, \"Potential of quantum computing for drug discovery,\" in IBM Journal of Research and Development, vol. 62, no. 6, pp. 6:1-6:20, 1 Nov.-Dec. 2018\n",
    "- [[ref 5](https://journals.aps.org/rmp/abstract/10.1103/RevModPhys.32.170)] Present State of Molecular Structure Calculation, REv. Mod. Phys. 32, 170, 1960\n",
    "- [[ref 6](https://jmsh.springeropen.com/articles/10.1186/s41313-021-00032-6)] Fedorov, D.A., Peng, B., Govind, N. et al. VQE method: a short survey and recent developments. Mater Theory 6, 2 (2022)"
   ]
  }
 ],
 "metadata": {
  "description": "Learn what is a variational quantum eigensolver and compute the activation energy of H+H=H2 reaction with this.",
  "kernelspec": {
   "display_name": "Python 3",
   "language": "python",
   "name": "python3"
  },
  "language_info": {
   "codemirror_mode": {
    "name": "ipython",
    "version": 3
   },
   "file_extension": ".py",
   "mimetype": "text/x-python",
   "name": "python",
   "nbconvert_exporter": "python",
   "pygments_lexer": "ipython3",
   "version": "3"
  },
  "title": "Variational Quantum Eigensolver",
  "in_page_toc_max_heading_level": 2,
  "in_page_toc_min_heading_level": 2,
  "widgets": {
   "application/vnd.jupyter.widget-state+json": {
    "state": {},
    "version_major": 2,
    "version_minor": 0
   }
  }
 },
 "nbformat": 4,
 "nbformat_minor": 4
}
