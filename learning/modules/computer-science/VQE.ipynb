{
 "cells": [
  {
   "cell_type": "markdown",
   "id": "bbfafdf3-cac9-48ba-905c-453e36ca4293",
   "metadata": {},
   "source": [
    "{/* cspell:ignore verticalalignment horizontalalignment  xytext arrowprops preparable ansatzs Marov Aspuru Guzik */}"
   ]
  },
  {
   "cell_type": "markdown",
   "id": "729c16a8-a1e6-4ccf-8a9d-87e13d1cdd65",
   "metadata": {},
   "source": [
    "# Variational Quantum Eigensolver (VQE)\n",
    "\n",
    "For this module, students must have a working Python environment with the following packages installed with their latest version:\n",
    "- `qiskit`\n",
    "- `qiskit_ibm_runtime`\n",
    "- `qiskit-aer`\n",
    "- `qiskit.visualization`\n",
    "\n",
    "To set up and install these packages, see the [Install Qiskit](/docs/guides/install-qiskit) guide. To run jobs on real quantum computers, students will need an account with IBM Quantum by following the steps in the [Set up your IBM Cloud account](/docs/guides/cloud-setup) guide.\n",
    "\n",
    "*This module has been tested and used for approximately 8 minutes of QPU time. This is an estimate, and your actual usage may vary.*"
   ]
  },
  {
   "cell_type": "markdown",
   "id": "96f8db5c-13e9-458a-85d1-e078672e4fd1",
   "metadata": {},
   "source": [
    "## 1. Introduction\n",
    "\n",
    "Since the development of the quantum mechanical model in the early 20th century, scientists have understood that electrons do not follow fixed paths around an atom's nucleus but rather exist in regions of probability called orbitals. These orbitals correspond to specific, discrete energy levels that electrons can occupy. Electrons naturally reside in the lowest available energy levels, known as the ground state. However, if an electron absorbs sufficient energy, it can jump to a higher energy level, entering an excited state. This excited state is temporary, and the electron will eventually return to a lower energy level, releasing the absorbed energy, often in the form of light. This fundamental process of energy absorption and emission is crucial to understanding how atoms interact and form bonds.\n",
    "\n",
    "When atoms come together to form molecules, their atomic orbitals combine to form molecular orbitals. The arrangement and energy levels of electrons within these molecular orbitals dictate the properties of the resulting molecule and the strength of the chemical bonds. For instance, in the formation of a hydrogen molecule ($H_2$) from two individual hydrogen atoms, the electron from each atom occupies atomic orbitals. As the atoms approach each other, these atomic orbitals overlap and combine to form new molecular orbitals—one with lower energy (a bonding orbital) and one with higher energy (an anti-bonding orbital). The two electrons, one from each hydrogen atom, will preferentially occupy the lower-energy bonding orbital, leading to the formation of a stable covalent bond that holds the $H_2$ molecule together. The energy difference between the separated atoms and the formed molecule, particularly the energy of the electrons in the molecular orbitals, determines the stability and properties of the bond.\n",
    "\n",
    "In the following sections, we will delve into this process of molecular formation, focusing specifically on the $H_2$ molecule. We will use a real quantum computer, combined with classical optimization techniques, to investigate the energy of this simple yet fundamental process. This experiment will provide a practical demonstration of how quantum computation can be applied to solve problems in computational chemistry, offering insights into the crucial role of electron energy."
   ]
  },
  {
   "cell_type": "markdown",
   "id": "296526c5-fc25-41a5-83b9-1eeb15326588",
   "metadata": {},
   "source": [
    "## 2. VQE - A Variational Quantum Algorithm for Eigenvalue problem\n",
    "\n",
    "### Approximation techniques for chemistry - Variational Principle and the basis set\n",
    "\n",
    "Erwin Schrödinger's contributions to quantum mechanics go beyond introducing a new electronic model; fundamentally, he established wave mechanics by developing the famous time-dependent Schrödinger equation:\n",
    "\n",
    "$$\n",
    "i\\hbar \\frac{d}{dt}|\\psi\\rangle = \\hat{H}|\\psi\\rangle\n",
    "$$\n",
    "\n",
    "Here, $\\hat{H}$ is the Hamiltonian operator, which represents the total energy of the system, and $|\\psi\\rangle$ is the wave function that contains all the information about the system’s quantum state. (Note: $\\frac{d}{dt}$ is the total time derivative, and we do not explicitly include the energy eigenvalue $E$ here.)\n",
    "\n",
    "However, in many practical applications—such as determining the allowed energy levels of atoms and molecules—we instead use the time-independent Schrödinger equation (energy eigenvalue equation), which is derived from the time-dependent form by assuming a stationary state. A stationary state is a quantum state in which the probability density of finding a particle at a given point in space does not change over time.\n",
    "\n",
    "$$ \\hat{H}|\\psi\\rangle = E|\\psi\\rangle $$\n",
    "\n",
    "In this form, $E$ represents the energy eigenvalue corresponding to the quantum state $|\\psi\\rangle$. The Hamiltonian includes various energy contributions, such as the kinetic energy of electrons and nuclei, the attractive forces between electrons and nuclei, and the repulsive forces between electrons.\n",
    "\n",
    "Solving the energy eigenvalue equation allows us to calculate the quantized energy levels of atomic and molecular systems. However, for molecules, solving it exactly is extremely difficult because the wave function $\\Psi$, which describes the spatial distribution of electrons, is highly complex and high-dimensional.\n",
    "\n",
    "As a result, scientists use approximation techniques to obtain practical and accurate solutions. In this work, we will focus on two key methods:\n",
    "\n",
    "\n",
    "1. Variational Principle\n",
    "\n",
    "This method approximates the wave function and adjusts it to get as close as possible to the target energy, usually the ground state energy of the system. The key idea behind the variational principle is simple:\n",
    "\n",
    "- If we guess a wave function $\\Psi_\\text{trial}$ (a \"trial function\"), the energy calculated from it will always be equal to or higher than the ground state energy ($E_0$) of the system.\n",
    "$$E_\\text{approx} = \\frac{\\langle \\Psi_\\text{trial}|\\hat{H}|\\Psi_\\text{trial}\\rangle}{\\langle \\Psi_\\text{trial}|\\Psi_\\text{trial}\\rangle} \\geq E_0$$\n",
    "- By adjusting parameters $\\theta$ in the trial function, $|\\Psi_\\text{trial}(\\theta)\\rangle$, we can get a better and better approximation of the ground state energy.\n",
    "- Its accuracy heavily depends on the choice of the trial wave function $\\Psi_\\text{trial}$. A poorly-chosen trial function may lead to an energy estimate that is far from accurate.\n",
    "\n",
    "2. Basis Set Approximation\n",
    "\n",
    "The second approximation method comes in the stage of constructing the wave function—the basis set approach. In quantum chemistry, solving the Schrödinger equation exactly for molecules is impossible. Instead, we approximate the complex, multi-electron wave function by building it up from simpler, predefined mathematical functions. A **basis set** is essentially a collection of these known mathematical functions, typically centered on the atoms in the molecule, that are used as building blocks to represent the shape and behavior of the electrons in the system. Think of it like trying to recreate a detailed sculpture using only a collection of standard LEGO bricks – the more types and sizes of bricks you have (the larger the basis set), the more accurately you can approximate the original shape.\n",
    "\n",
    "These basis functions are often inspired by the analytical solutions for simple systems like the hydrogen atom, taking forms like Gaussian or Slater-type functions, though they are still approximations. Instead of working with the theoretically \"exact\" but intractable full molecular orbitals, we express them as a linear combination (a sum with coefficients) of these basis functions. This method is known as the Linear Combination of Atomic Orbitals (LCAO) approach when the basis functions resemble atomic orbitals. By optimizing the coefficients in this linear combination, we can find the best possible approximate wave function and energy within the limitations of the chosen basis set.\n",
    "- The more functions included in the basis set, the better the approximation, but this comes at the cost of higher computational effort.\n",
    "- A small basis set provides a rough estimate, while a large basis set gives more precise results at the expense of requiring significantly more computational resources.\n",
    "\n",
    "To summarize, to make calculations feasible and reduce computational cost, we use the variational principle by approximating the wave function, which reduces the computational complexity and allows for iterative optimization to minimize energy. Meanwhile, the basis set approach simplifies calculations by representing atomic orbitals as a combination of predefined functions, rather than solving for a continuous wave function directly.\n",
    "\n",
    "\n",
    "#### Check your understanding\n",
    "Consider the trial wave function $\\Psi_\\text{trial}(\\alpha,x) = Ae^{- \\alpha x^2}$ where $A$ is a normalization constant and $\\alpha$ is an adjustable parameter.\n",
    "\n",
    "<details>\n",
    "<summary>\n",
    "\n",
    "a. Normalize the trial wave function by determining $A$ such that\n",
    "\n",
    "$$ \\int_{-\\infty}^{\\infty} |\\Psi_\\text{trial}|^2 dx = 1 $$\n",
    "\n",
    "b. Compute the expectation value of the Hamiltonian $\\hat{H}$ given by:\n",
    "\n",
    "$$ \\hat{H} = -\\frac{\\hbar^2}{2m} \\frac{d^2}{dx^2} + V(x)$$\n",
    "where $V(x)  = \\frac{1}{2}m\\omega^2x^2$, which corresponds to a simple harmonic oscillator potential.\n",
    "\n",
    "c. Use the variational principle to find the optimal $\\alpha$ by minimizing $E_\\text{approx}(\\alpha)$\n",
    "\n",
    "</summary>\n",
    "\n",
    "__Answer:__\n",
    "\n",
    "\n",
    "(a) To normalize given trial wave function:\n",
    "\n",
    "$$ \\int_{-\\infty}^{\\infty} |\\Psi_\\text{trial}|^2 dx = \\int_{-\\infty}^{\\infty} A^2 e^{-2 \\alpha x^2} dx = 1 $$\n",
    "\n",
    "Use the Gaussian integral:\n",
    "\n",
    "$$ \\int_{-\\infty}^{\\infty} e^{-a x^2} dx = \\sqrt{\\frac{\\pi}{a}} \\text{,   for } a>0$$\n",
    "\n",
    "set $a = 2\\alpha$ then get:\n",
    "$$A^2\\sqrt{\\frac{\\pi}{a}} = 1$$\n",
    "$$\\therefore A = (\\frac{2\\alpha}{\\pi})^{1/4}$$\n",
    "\n",
    "(b) The Hamiltonian for a harmonic oscillator is:\n",
    "\n",
    "$$ \\hat{H} = -\\frac{\\hbar^2}{2m} \\frac{d^2}{dx^2} + \\frac{1}{2} m \\omega^2 x^2 $$\n",
    "\n",
    "- Kinetic Energy Expectation Value\n",
    "$$ \\langle T \\rangle = -\\frac{\\hbar^2}{2m} \\int_{-\\infty}^{\\infty} \\Psi_\\text{trial}^* \\frac{d^2}{dx^2} \\Psi_\\text{trial} dx $$\n",
    "\n",
    "Taking the second derivative:\n",
    "\n",
    "$$\n",
    "\\frac{d}{dx} \\Psi_\\text{trial} = -2\\alpha x A e^{-\\alpha x^2}\n",
    "$$\n",
    "\n",
    "$$\n",
    "\\frac{d^2}{dx^2} \\Psi_\\text{trial} = A e^{-\\alpha x^2} (4\\alpha^2 x^2 - 2\\alpha)\n",
    "$$\n",
    "\n",
    "Thus:\n",
    "\n",
    "$$\n",
    "T = -\\frac{\\hbar^2}{2m} \\int_{-\\infty}^{\\infty} A^2 e^{-2\\alpha x^2} (4\\alpha^2 x^2 - 2\\alpha) dx\n",
    "$$\n",
    "\n",
    "Using standard Gaussian integral results:\n",
    "\n",
    "$$\n",
    "\\langle T \\rangle = \\frac{\\hbar^2 \\alpha}{2m}\n",
    "$$\n",
    "\n",
    "- Potential Energy Expectation Value\n",
    "$$\n",
    "\\langle V \\rangle = \\frac{1}{2} m \\omega^2 \\int_{-\\infty}^{\\infty} x^2 |\\Psi_\\text{trial}|^2 dx\n",
    "$$\n",
    "\n",
    "Using:\n",
    "\n",
    "$$\n",
    "\\int_{-\\infty}^{\\infty} x^2 e^{-a x^2} dx = \\frac{\\sqrt{\\pi}}{2a^{3/2}}\n",
    "$$\n",
    "\n",
    "we get:\n",
    "\n",
    "$$\n",
    "\\langle V \\rangle = \\frac{m \\omega^2}{4\\alpha}\n",
    "$$\n",
    "\n",
    "- Total Energy Expectation Value\n",
    "$$\n",
    "\\therefore E_\\text{approx}(\\alpha) = \\frac{\\hbar^2 \\alpha}{2m} + \\frac{m \\omega^2}{4\\alpha}\n",
    "$$\n",
    "\n",
    "\n",
    "\n",
    "(c) Optimize $ \\alpha $ for Minimum Energy\n",
    "Differentiate:\n",
    "\n",
    "$$\n",
    "\\frac{d}{d\\alpha} \\left( \\frac{\\hbar^2 \\alpha}{2m} + \\frac{m \\omega^2}{4\\alpha} \\right) = 0\n",
    "$$\n",
    "\n",
    "Solving:\n",
    "\n",
    "$$\n",
    "\\frac{\\hbar^2}{2m} - \\frac{m \\omega^2}{4\\alpha^2} = 0\n",
    "$$\n",
    "\n",
    "$$\n",
    "\\alpha_\\text{opt} = \\frac{m\\omega}{2\\hbar}\n",
    "$$\n",
    "\n",
    "Substituting $ \\alpha_\\text{opt} $ into $ E_\\text{approx} $:\n",
    "\n",
    "$$\n",
    "\\therefore E_\\text{approx} = \\frac{\\hbar \\omega}{2}\n",
    "$$\n",
    "\n",
    "which matches the exact quantum harmonic oscillator ground-state energy.\n",
    "\n",
    "</details>"
   ]
  },
  {
   "cell_type": "markdown",
   "id": "6035ac9e-fa4b-4aaf-83af-713d5e34000f",
   "metadata": {},
   "source": [
    "### VQE (Variational Quantum Eigensolver)\n",
    "\n",
    "The variational quantum eigensolver (VQE) is the main method that we will use to explore the $H+H = H_2$ process, and here, we will take a look at what VQE is and how it works. But let's first pause and look at one very important thing through the check-in question.\n",
    "\n",
    "#### Check your understanding\n",
    "<details>\n",
    "<summary>\n",
    "\n",
    "If we already have that many strategies for chemistry problems, then why do we need a quantum computer? And what's the purpose of using both quantum and classical computers together?\n",
    "\n",
    "</summary>\n",
    "\n",
    "__Answer:__\n",
    "\n",
    "\n",
    "Quantum computing has a chance to revolutionize chemistry by tackling problems classical computers struggle with due to the exponential scaling of quantum states. Richard Feynman famously noted that to simulate nature, computations must also be quantum [ref 1].\n",
    "\n",
    "For example, simulating caffeine with a simplest basis set(STO-3G) would require $10^{48}$ bits, much larger than the total number of stars in the observable universe ($10^{24}$) [ref 2]. A quantum computer can describe the electronic orbitals of caffeine with 160 qubits.\n",
    "\n",
    "Quantum computers naturally process quantum interactions using superposition and entanglement, which provide a promising way of enabling accurate molecular simulations. Further, we can combine the advantages of both quantum computers (electron simulation) and classical computers (data pre/post processing, algorithm process management, optimization, etc). These are expected to enhance materials discovery, drug design, and reaction predictions, reducing costly trial-and-error experiments. [ref 3][ref 4]\n",
    "\n",
    "If you want to know why quantum computers are needed for chemistry problems and why use both quantum and classical computing resources, check out the following resources:\n",
    "\n",
    "- [Emerging quantum computing algorithms for quantum chemistry](https://arxiv.org/abs/2109.02873)\n",
    "- [Chemistry Beyond Exact Solutions on a Quantum-Centric Supercomputer](https://arxiv.org/html/2405.05068v1)\n",
    "- [Quantum-centric supercomputing for materials science: A perspective on challenges and future directions](https://www.sciencedirect.com/science/article/pii/S0167739X24002012)\n",
    "\n",
    "</details>\n",
    "\n",
    "\n",
    "\n",
    "\n",
    "Now let's go back to VQE.\n",
    "\n",
    "VQE combines the power of quantum computers with classical computers, fundamentally using variational principles to get the ground state energy of the system. To understand VQE, first break it down into three parts:\n",
    "\n",
    "![VQE workflow](/learning/images/modules/computer-science/vqe/vqe.avif)\n",
    "\n",
    "\n",
    "#### (Quantum) Observable: The Molecular Hamiltonian (Energy of a Molecule)\n",
    "\n",
    "In VQE, the molecular/atomic Hamiltonian is an observable, meaning we can measure its value through experiment. Our goal is to find the lowest possible energy (the ground state energy) of the molecule. To do this, we use a trial quantum state, generated by a parameterized quantum circuit (ansatz). We measure the observable and optimize the quantum state until we reach the lowest possible energy.\n",
    "\n",
    "The basis set used for the molecular Hamiltonian determines the number of qubits required and directly affects the accuracy of VQE. Choosing the right basis set is crucial for balancing efficiency and precision. To simplify calculations without changing the basis set, we can use strategies like imposing __symmetry__ and __active space reduction__. Many molecules have symmetrical shapes (like a butterfly or snowflake), meaning some parts behave the same way. Instead of calculating everything separately, we can focus only on unique parts, saving quantum resources, thus leveraging symmetry. In active space reduction, we consider only the important orbitals, as not all electrons significantly impact molecular energy. Electrons close to the nucleus remain mostly unchanged, while others influence bonding. By applying these methods, we can make VQE more efficient while maintaining accuracy.\n",
    "\n",
    "Once we obtain a molecular Hamiltonian using the proper basis set and strategies above, we need to transform this Hamiltonian into one suitable for quantum computers. Mapping problems to Pauli operators can be quite complicated. This is especially true in quantum chemistry, which works with indistinguishable particles (electrons), since qubits are distinguishable. We will not go into the details of the mappings here, but we refer you to the following resources. A general discussion of mapping a problem to quantum operators can be found in [Quantum Computing in Practice](/learning/courses/quantum-computing-in-practice/index). A more detailed discussion on mapping chemistry problems into quantum operators can be found in [Quantum Chemistry with VQE](/learning/courses/quantum-chem-with-vqe/index).\n",
    "\n",
    "For this module, we will provide you with the appropriate (one-qubit) Hamiltonians for $H$ and $H_2$ so we can focus on using the quantum computer. These one-qubit Hamiltonians are prepared by using the so-called [STO-6g](https://en.wikipedia.org/wiki/STO-nG_basis_sets) basis set and used [Jordan-Wigner mapping](https://en.wikipedia.org/wiki/Jordan%E2%80%93Wigner_transformation), which is the most straightforward mapping with the simplest physical interpretation, because it maps the occupation of one spin-orbital to the occupation of one qubit. Also, we used [qubit reduction technique by using a symmetry of the Hamiltonian](https://arxiv.org/abs/1701.08213), which uses the patterns in how spin occupations behave to reduce the number of qubits. For the $H_2$ molecule, we assume the distance between the two hydrogen atoms is `0.735` $\\mathring A$.\n",
    "\n",
    "#### (Quantum) Ansatz: The Trial Wave Function (How to build a trivial quantum state with a Quantum Circuit)\n",
    "\n",
    "For VQE, the ansatz consists of two key components. The first is __initial state preparation__, which sets up the qubit's state by applying quantum gates with no variational parameter. The second component is the __parameterized quantum circuit__, a special quantum circuit with adjustable parameters, similar to dials on a radio. These parameters will be used for the last part — the classical optimizer — to help us reach the best possible ground state.\n",
    "\n",
    "In the variational principle section, we learned that the quality of the trial state affects the quality of the results of the variational algorithm. This means that choosing a good ansatz is important in VQE. Once again, this is a rich and complex topic. We will not cover the different types of ansatz or their origins here. If you're interested in learning more about parameterized quantum circuits and ansatz, you can explore the following resources: [Ansatz and variational form](/learning/courses/variational-algorithm-design/ansaetze-and-variational-forms) of [Variational algorithm design course](/learning/courses/variational-algorithm-design/index), which provides detailed explanations and examples of ansatz.\n",
    "\n",
    "Since we are going to use a one-qubit Hamiltonian in this module, we need a one-qubit parameterized quantum circuit as an ansatz. We will see 3 types of one-qubit ansatz in the following section. We will compare them and discuss key considerations in selecting an ansatz."
   ]
  },
  {
   "cell_type": "markdown",
   "id": "afe9ec34-324f-4014-92b8-3ad4022195e3",
   "metadata": {},
   "source": [
    "#### (Classical) Optimizer: Fine-Tuning the Quantum Circuit\n",
    "\n",
    "Once the quantum computer measures the energy of the observable from the ansatz, the parameters of the ansatz and the energy value are sent to the classical optimizer for tuning. This optimization process is performed on a classical computer, typically using general-purpose scientific packages like SciPy.\n",
    "\n",
    "The classical optimizer treats the measured energy as a cost function. In optimization problems, a cost function (also sometimes called an objective function) is a mathematical function that measures how \"good\" a particular solution is. The goal of the optimizer is to find the set of parameters that minimizes this cost function. In the context of finding the ground state energy of a molecule, the energy itself serves as the cost function – we want to find the parameters for our quantum circuit (our \"solution\") that yield the lowest possible energy. The classical optimizer uses this measured energy value (the cost) and determines the next set of optimized parameters for the quantum ansatz. These updated parameters are then sent back to the quantum circuit, and the process is repeated iteratively. With each iteration, the classical optimizer adjusts the parameters to try and reduce the energy (minimize the cost function) until a predefined convergence criterion is met, ideally ensuring that the lowest possible energy (corresponding to the ground state of the molecule for that bond distance and basis set) is found.\n",
    "\n",
    "There are many optimization strategies provided by scientific packages like SciPy. You can find more in the [Optimization Loops](/learning/courses/variational-algorithm-design/optimization-loops) lesson of the [Variational Algorithm Design](/learning/courses/variational-algorithm-design/index) course. Here we will use COBYLA (Constrained Optimization BY Linear Approximations), an optimization algorithm suitable for complicated energy landscapes. In particular, COBYLA does not attempt to calculate a gradient of the function being studied; this is called a gradient-free optimizer. Imagine you are trying to find the highest peak in a mountain range with your eyes closed. Since you can’t see the whole landscape, you take small steps in different directions, while checking if you’re going up or down. COBYLA works in a similar way — it moves through the parameter space, testing different values, gradually improving the result until it finds the best one.\n",
    "\n",
    "Now you are ready to carry out a VQE calculation. To that end, try the check-in question below which recaps the overall process."
   ]
  },
  {
   "cell_type": "markdown",
   "id": "2b7b5c7a-2a50-4e02-9f7f-e19166fc7d67",
   "metadata": {},
   "source": [
    "#### Check your understanding\n",
    "Fill in the blanks with the correct terms to complete the summary of the Variational Quantum Eigensolver (VQE) process.\n",
    "<details>\n",
    "<summary>\n",
    "\n",
    "VQE is a Variational Quantum Algorithm, which combines the power of (1) ________ and classical computing, used to find the (2) __________ of a molecule. The process begins by defining the (3) __________, which represents the total energy of the system and acts as the observable in quantum measurements. Next, we prepare an (4) __________, a quantum circuit with adjustable parameters that represents the trial wave function of the molecule. These parameters are optimized using a (5) __________, a classical algorithm that adjusts parameters iteratively to minimize the measured energy. In the discussion above we used the (6) __________ optimizer, which refines the ansatz parameters without needing derivative calculations. The process continues until we reach (7) __________, meaning we have found the lowest possible energy of the molecule.\n",
    "\n",
    "Word Bank:\n",
    "\n",
    "- classical optimizer\n",
    "- ground state energy\n",
    "- hardware efficient\n",
    "- ansatz\n",
    "- molecular Hamiltonian\n",
    "- COBYLA\n",
    "- quantum computing\n",
    "- convergence\n",
    "\n",
    "</summary>\n",
    "\n",
    "__Answer:__\n",
    "\n",
    "\n",
    "1 → quantum computing\n",
    "\n",
    "2 → ground state energy\n",
    "\n",
    "3 → molecular Hamiltonian\n",
    "\n",
    "4 → ansatz\n",
    "\n",
    "5 → classical optimizer\n",
    "\n",
    "6 → COBYLA\n",
    "\n",
    "7 → convergence\n",
    "\n",
    "</details>"
   ]
  },
  {
   "cell_type": "markdown",
   "id": "243a29bd-ce2b-4311-8a08-001e032f3a61",
   "metadata": {},
   "source": [
    "## 3. Compute the ground state energy of hydrogen atom with VQE\n",
    "\n",
    "Now, let's use what we've learned to compute the ground state energy of a hydrogen atom. Throughout the module, we will use a framework for quantum computing known as \"Qiskit patterns\", which breaks workflows into the following steps:\n",
    "\n",
    "- Step 1: Map classical inputs to a quantum problem\n",
    "- Step 2: Optimize problem for quantum execution\n",
    "- Step 3: Execute using Qiskit Runtime Primitives\n",
    "- Step 4: Post-processing and classical analysis\n",
    "\n",
    "![Qiskit Pattern](/learning/images/modules/computer-science/vqe/patterns.svg)\n",
    "\n",
    "/learning/images/modules/computer-science/vqe/vqe.avif\n",
    "We will generally follow these steps, though we may not always explicitly label them.\n",
    "\n",
    "Let's start by loading some necessary packages including Runtime primitives. We will also select the least busy quantum computer available to us."
   ]
  },
  {
   "cell_type": "code",
   "execution_count": null,
   "id": "8cb70bc4-b515-451e-b8d3-ab73e71500c0",
   "metadata": {},
   "outputs": [],
   "source": [
    "# Load the Qiskit Runtime service\n",
    "from qiskit_ibm_runtime import QiskitRuntimeService\n",
    "from qiskit_ibm_runtime import Batch, EstimatorV2 as Estimator\n",
    "\n",
    "import warnings\n",
    "\n",
    "warnings.filterwarnings(\"ignore\")\n",
    "\n",
    "# Syntax for first saving your token\n",
    "QiskitRuntimeService.save_account(\n",
    "    channel=\"ibm_quantum_platform\",\n",
    "    token=\"your_token\",\n",
    "    instance=\"your_crn\",\n",
    "    overwrite=True,\n",
    ")\n",
    "\n",
    "# Syntax to load specific account\n",
    "# service = QiskitRuntimeService(\n",
    "#    channel='your_channel',\n",
    "#    instance='your_hub/your_group/your_project',\n",
    "#    token='your token here'\n",
    "# )\n",
    "\n",
    "# Load saved credentials\n",
    "service = QiskitRuntimeService()\n",
    "\n",
    "\n",
    "# Use the least busy backend\n",
    "backend = service.least_busy()\n",
    "# backend = service.backend('ibm_torino')\n",
    "print(backend.name)"
   ]
  },
  {
   "cell_type": "markdown",
   "id": "a727a68e-4e70-41cb-af26-51d686cdb268",
   "metadata": {},
   "source": [
    "If a student exhausts their available quantum computing time during the lesson, the lines below can be un-commented and used to set up a simulator that partly mimics the noise behavior of the quantum computer selected above."
   ]
  },
  {
   "cell_type": "code",
   "execution_count": 6,
   "id": "47b16a5d-f396-4f77-8421-7c41a4151dd5",
   "metadata": {},
   "outputs": [],
   "source": [
    "# Use a local simulator\n",
    "# from qiskit_aer import AerSimulator\n",
    "\n",
    "# Generate a simulator that mimics the real quantum system\n",
    "# backend_sim = AerSimulator.from_backend(backend)\n",
    "\n",
    "# Use a noise-free mode\n",
    "# backend_sim = AerSimulator()"
   ]
  },
  {
   "cell_type": "markdown",
   "id": "217cc547-cbae-4c7c-85c4-b0697b2aad03",
   "metadata": {},
   "source": [
    "### Step 1: Map the problem to quantum circuits and operators\n",
    "\n",
    "We start our VQE calculation by defining the Hamiltonian for the hydrogen molecule ($H_2$) at a specific bond distance. This Hamiltonian represents the total energy of the system in terms of qubit operators, having been produced and mapped from the molecular system using a standard procedure: 1) employing the **STO-6G basis set** (a specific collection of mathematical functions used to approximate the electron orbitals), 2) applying the **Jordan-Wigner mapping** (a technique to translate fermionic operators describing electrons into qubit operators), and 3) performing **qubit reduction** using symmetries of the Hamiltonian to simplify the problem.\n",
    "\n",
    "As we previously explained, the computed ground state energies depend heavily on the basis set selection and the molecular geometry (like bond distance). For this specific configuration and after these transformations, the resulting qubit Hamiltonian is relatively simple:\n",
    "\n",
    "$$\\hat{H} = -0.2355 I + 0.2355 Z$$\n",
    "\n",
    "Here, $I$ represents the Identity operator and $Z$ represents the Pauli-Z operator, acting on a single qubit. The coefficients are derived from the integrals calculated using the STO-6G basis set at this particular bond distance with proper transformation.\n",
    "\n",
    "With this Hamiltonian defined, we can now use VQE to compute its ground state energy. It is useful to compare our calculated ground state energy to expected values. For a single, isolated hydrogen atom (H), the ground state energy is exactly -0.5 Hartree (in the absence of relativistic effects, etc.). Let us compute the exact ground state energy of *our specific qubit Hamiltonian* as defined above and compare it to relevant known values."
   ]
  },
  {
   "cell_type": "code",
   "execution_count": 19,
   "id": "485f8007-b44a-4614-b5ff-01f0a767e9fb",
   "metadata": {},
   "outputs": [
    {
     "name": "stdout",
     "output_type": "stream",
     "text": [
      "The exact ground state energy of the Hamiltonian is  -0.471 hartree\n"
     ]
    }
   ],
   "source": [
    "from qiskit.quantum_info import SparsePauliOp\n",
    "import numpy as np\n",
    "\n",
    "# Qubit Hamiltonian of the hydrogen atom generated by using STO-3G basis set and parity mapping\n",
    "Hamiltonian = SparsePauliOp.from_list([(\"I\", -0.2355), (\"Z\", 0.2355)])\n",
    "\n",
    "# exact ground state energy of Hamiltonian\n",
    "\n",
    "A = np.array(Hamiltonian)\n",
    "eigenvalues, eigenvectors = np.linalg.eig(A)\n",
    "print(\n",
    "    \"The exact ground state energy of the Hamiltonian is \",\n",
    "    min(eigenvalues).real,\n",
    "    \"hartree\",\n",
    ")\n",
    "h = min(eigenvalues.real)"
   ]
  },
  {
   "cell_type": "markdown",
   "id": "4c6d0052-0831-4c31-923a-59c79934d37c",
   "metadata": {},
   "source": [
    "Next, we need a parameterized quantum circuit, called an ansatz, to prepare a trial wavefunction $\\Psi_\\text{trial}$ for the ground state. The goal is to find the parameters $\\theta$ that minimize the energy expectation value $\\langle\\psi(\\theta)|\\hat{H}|\\psi(\\theta)\\rangle$. The choice of ansatz is crucial because it determines the set of possible quantum states that our circuit can prepare. A \"good\" ansatz is one that is flexible enough to represent a state very close to the true ground state of the Hamiltonian we are studying, but not so complex that it requires too many parameters or too deep a circuit for current quantum computers.\n",
    "\n",
    "Here, we will try 3 different one-qubit ansats to see which one provides better \"coverage\" of the possible quantum states a single qubit can be in. The \"coverage\" refers to the range of quantum states that the ansatz circuit can produce by varying its parameters.\n",
    "\n",
    "We will use three simple ansätze based on different combinations of single-qubit rotational gates:\n",
    "\n",
    "1.  **1-axis rotational gate ansatz:** This ansatz uses rotations around only a single axis ($R_x(\\theta)$). On the Bloch sphere, this corresponds to moving only along a specific circle. This is the least flexible and covers a limited set of states.\n",
    "2.  **2-axis rotational gates ansatz:** This ansatz combines rotations around two different axes ($R_x(\\theta_1) R_z(\\theta_2)$ and $R_x(\\theta_1) R_z(\\theta_2) R_x(\\theta_3)$). This allows us to reach a larger portion of the Bloch sphere compared to a single-axis rotation.\n",
    "\n",
    "\n",
    "By comparing the VQE results obtained with these three ansats, we can see how the flexibility and state-space coverage of the ansatz impact our ability to find the true ground state energy of our simplified Hamiltonian. A more flexible ansatz has the *potential* to find a better approximation, but it might also be harder for the classical optimizer."
   ]
  },
  {
   "cell_type": "code",
   "execution_count": 31,
   "id": "76869770-2515-467a-a85a-dd05c15a1b27",
   "metadata": {},
   "outputs": [
    {
     "data": {
      "text/plain": [
       "<qiskit.circuit.instructionset.InstructionSet at 0x122abc250>"
      ]
     },
     "execution_count": 31,
     "metadata": {},
     "output_type": "execute_result"
    }
   ],
   "source": [
    "from qiskit import QuantumCircuit\n",
    "from qiskit.circuit import Parameter\n",
    "from qiskit.quantum_info import Statevector, DensityMatrix, Pauli\n",
    "\n",
    "theta = Parameter(\"θ\")\n",
    "phi = Parameter(\"φ\")\n",
    "lam = Parameter(\"λ\")\n",
    "\n",
    "ansatz1 = QuantumCircuit(1)\n",
    "ansatz1.rx(theta, 0)\n",
    "\n",
    "ansatz2 = QuantumCircuit(1)\n",
    "ansatz2.rx(theta, 0)\n",
    "ansatz2.rz(phi, 0)\n",
    "\n",
    "ansatz3 = QuantumCircuit(1)\n",
    "ansatz3.rx(theta, 0)\n",
    "ansatz3.rz(phi, 0)\n",
    "ansatz3.rx(lam, 0)"
   ]
  },
  {
   "cell_type": "markdown",
   "id": "4ca43144-59b2-4c4a-b10b-0910fc55f7fa",
   "metadata": {},
   "source": [
    "Now, let's generate 5000 random numbers for each parameter and plot the distribution of random quantum states, generated by the three ansatzs with these random parameters. You can think of these parameters like rotations around different axes on a spherical surface. To see the distribution of quantum state, we will use [the Bloch Sphere](https://en.wikipedia.org/wiki/Bloch_sphere), a 3D sphere that shows the state of a single qubit. Any point on the sphere represents a possible state of the qubit, where the north and south poles are like the classical \"0\" and \"1\", but the qubit can also be anywhere in between, showing special quantum properties like superposition. First, prepare the necessary functions to plot the 3D Bloch Sphere and prepare 5000 random parameters."
   ]
  },
  {
   "cell_type": "code",
   "execution_count": 32,
   "id": "2615f653-cc77-4031-8257-7ed1c7f06064",
   "metadata": {},
   "outputs": [],
   "source": [
    "import matplotlib.pyplot as plt\n",
    "\n",
    "\n",
    "def plot_bloch(bloch_vectors):\n",
    "    # Extract X, Y, Z coordinates for 3D projection\n",
    "    X_coords = bloch_vectors[:, 0]\n",
    "    Z_coords = bloch_vectors[:, 2]\n",
    "\n",
    "    # Compute Y coordinates from X and Z to approximate the full Bloch sphere projection\n",
    "    Y_coords = bloch_vectors[:, 1]\n",
    "\n",
    "    # Create 3D plot\n",
    "    fig = plt.figure(figsize=(8, 8))\n",
    "    ax = fig.add_subplot(111, projection=\"3d\")\n",
    "    ax.scatter(X_coords, Y_coords, Z_coords, color=\"blue\", alpha=0.6)\n",
    "\n",
    "    # Labels and title\n",
    "    ax.set_xlabel(\"X\")\n",
    "    ax.set_ylabel(\"Y\")\n",
    "    ax.set_zlabel(\"Z\")\n",
    "    ax.set_title(\"Parameterized 1-Qubit Circuit on 3D Bloch Sphere\")\n",
    "\n",
    "    # Set axis limits and make them equal\n",
    "    ax.set_xlim([-1, 1])\n",
    "    ax.set_ylim([-1, 1])\n",
    "    ax.set_zlim([-1, 1])\n",
    "\n",
    "    # Ensure equal aspect ratio for all axes\n",
    "    ax.set_box_aspect([1, 1, 1])  # Equal scaling for x, y, z axes\n",
    "\n",
    "    # Show grid\n",
    "    ax.grid(True)\n",
    "\n",
    "    plt.show()\n",
    "\n",
    "\n",
    "num_samples = 5000  # Number of random states\n",
    "theta_vals = np.random.uniform(0, 2 * np.pi, num_samples)\n",
    "phi_vals = np.random.uniform(0, 2 * np.pi, num_samples)\n",
    "lam_vals = np.random.uniform(0, 2 * np.pi, num_samples)"
   ]
  },
  {
   "cell_type": "markdown",
   "id": "2cf32add-e38c-44ae-9ca1-e5de3d861308",
   "metadata": {},
   "source": [
    "Let's see how our first ansatz works."
   ]
  },
  {
   "cell_type": "code",
   "execution_count": 33,
   "id": "63e9d587-1a30-421f-bca7-f335ad7e4d83",
   "metadata": {},
   "outputs": [
    {
     "data": {
      "text/plain": [
       "<Image src=\"/learning/images/modules/computer-science/VQE/extracted-outputs/63e9d587-1a30-421f-bca7-f335ad7e4d83-0.avif\" alt=\"Output of the previous code cell\" />"
      ]
     },
     "metadata": {},
     "output_type": "display_data"
    }
   ],
   "source": [
    "# List to store Bloch Sphere XZ coordinates\n",
    "bloch_vectors = []\n",
    "\n",
    "# Generate quantum states and extract Bloch vectors\n",
    "for i in range(num_samples):\n",
    "    # Create a circuit and bind parameters\n",
    "    qc = ansatz1\n",
    "    bound_qc = qc.assign_parameters({theta: theta_vals[i]})  # , lam: lam_vals[i]})\n",
    "    state = Statevector.from_instruction(bound_qc)\n",
    "    rho = DensityMatrix(state)\n",
    "\n",
    "    X = rho.expectation_value(Pauli(\"X\")).real\n",
    "    Y = rho.expectation_value(Pauli(\"Y\")).real\n",
    "    Z = rho.expectation_value(Pauli(\"Z\")).real\n",
    "    bloch_vectors.append([X, Y, Z])  # Store X, Z components\n",
    "\n",
    "# Convert to a numpy array for plotting\n",
    "bloch_vectors = np.array(bloch_vectors)\n",
    "\n",
    "plot_bloch(bloch_vectors)"
   ]
  },
  {
   "cell_type": "markdown",
   "id": "98452c6a-eb67-4e5d-bbe4-1a6e57fa7475",
   "metadata": {},
   "source": [
    "We can see our first ansatz returns a ring-shaped distributed quantum states of the Bloch sphere. This makes sense, because we have only given the ansatz a single rotational parameter. So it can only produce states rotated around one axis. Starting from the point $(0,0,1)$ and rotating around one axis will always yield a ring. Then let's check our second ansatz, which has two orthogonal rotational gates - Rx and Rz."
   ]
  },
  {
   "cell_type": "code",
   "execution_count": 34,
   "id": "b2d0858c-71d4-4283-b2d1-324944029704",
   "metadata": {},
   "outputs": [
    {
     "data": {
      "text/plain": [
       "<Image src=\"/learning/images/modules/computer-science/VQE/extracted-outputs/b2d0858c-71d4-4283-b2d1-324944029704-0.avif\" alt=\"Output of the previous code cell\" />"
      ]
     },
     "metadata": {},
     "output_type": "display_data"
    }
   ],
   "source": [
    "bloch_vectors = []\n",
    "\n",
    "# Generate quantum states and extract Bloch vectors\n",
    "for i in range(num_samples):\n",
    "    # Create circuit and bind parameters\n",
    "    qc = ansatz2\n",
    "    bound_qc = qc.assign_parameters(\n",
    "        {theta: theta_vals[i], phi: phi_vals[i]}\n",
    "    )  # , lam: lam_vals[i]})\n",
    "    state = Statevector.from_instruction(bound_qc)\n",
    "    rho = DensityMatrix(state)\n",
    "\n",
    "    X = rho.expectation_value(Pauli(\"X\")).real\n",
    "    Y = rho.expectation_value(Pauli(\"Y\")).real\n",
    "    Z = rho.expectation_value(Pauli(\"Z\")).real\n",
    "    bloch_vectors.append([X, Y, Z])  # Store X, Z components\n",
    "\n",
    "# Convert to numpy array for plotting\n",
    "bloch_vectors = np.array(bloch_vectors)\n",
    "\n",
    "plot_bloch(bloch_vectors)"
   ]
  },
  {
   "cell_type": "markdown",
   "id": "e2d1783b-93a1-474f-a648-8de330305ded",
   "metadata": {},
   "source": [
    "Here, we can see that our second ansatz covers a larger portion of the Bloch sphere. But note that the dots are more concentrated around the poles and more spread out around the equator. Now it is time to check our last ansatz."
   ]
  },
  {
   "cell_type": "code",
   "execution_count": 35,
   "id": "56020984-827a-4b63-9525-2535779b724a",
   "metadata": {},
   "outputs": [
    {
     "data": {
      "text/plain": [
       "<Image src=\"/learning/images/modules/computer-science/VQE/extracted-outputs/56020984-827a-4b63-9525-2535779b724a-0.avif\" alt=\"Output of the previous code cell\" />"
      ]
     },
     "metadata": {},
     "output_type": "display_data"
    }
   ],
   "source": [
    "bloch_vectors = []\n",
    "\n",
    "# Generate quantum states and extract Bloch vectors\n",
    "for i in range(num_samples):\n",
    "    # Create circuit and bind parameters\n",
    "    qc = ansatz3\n",
    "    bound_qc = qc.assign_parameters(\n",
    "        {theta: theta_vals[i], phi: phi_vals[i], lam: lam_vals[i]}\n",
    "    )\n",
    "    state = Statevector.from_instruction(bound_qc)\n",
    "    rho = DensityMatrix(state)\n",
    "\n",
    "    X = rho.expectation_value(Pauli(\"X\")).real\n",
    "    Y = rho.expectation_value(Pauli(\"Y\")).real\n",
    "    Z = rho.expectation_value(Pauli(\"Z\")).real\n",
    "    bloch_vectors.append([X, Y, Z])  # Store X, Z components\n",
    "\n",
    "# Convert to numpy array for plotting\n",
    "bloch_vectors = np.array(bloch_vectors)\n",
    "\n",
    "plot_bloch(bloch_vectors)"
   ]
  },
  {
   "cell_type": "markdown",
   "id": "735cb5a8-bd96-4c52-bbf4-d6683d88f2c8",
   "metadata": {},
   "source": [
    "Here you can see more evenly distributed quantum states generated by our last ansatz.\n",
    "\n",
    "As mentioned, the best thing to do is to gain knowledge about the ground state you're seeking and use an ansatz that is well-suited to probe states close to that ground state. For example, if we knew that our ground state was near a pole, we might select ansatz 2. For simplicity, we will stick with ansatz 3, which uniformly probes the entire Bloch sphere.\n",
    "\n",
    "As we selected our anstaz, let's draw the circuit."
   ]
  },
  {
   "cell_type": "code",
   "execution_count": 25,
   "id": "1ccfa7d6-2c8e-4130-9cf9-fbd84ebb6911",
   "metadata": {},
   "outputs": [
    {
     "name": "stdout",
     "output_type": "stream",
     "text": [
      "This circuit has  3 parameters\n"
     ]
    },
    {
     "data": {
      "text/plain": [
       "<Image src=\"/learning/images/modules/computer-science/VQE/extracted-outputs/1ccfa7d6-2c8e-4130-9cf9-fbd84ebb6911-1.avif\" alt=\"Output of the previous code cell\" />"
      ]
     },
     "execution_count": 25,
     "metadata": {},
     "output_type": "execute_result"
    }
   ],
   "source": [
    "# Pre-defined ansatz circuit and operator class for Hamiltonian\n",
    "\n",
    "ansatz = ansatz3\n",
    "\n",
    "num_params = ansatz.num_parameters\n",
    "print(\"This circuit has \", num_params, \"parameters\")\n",
    "\n",
    "ansatz.draw(\"mpl\", style=\"iqp\")"
   ]
  },
  {
   "cell_type": "markdown",
   "id": "c457f422-f012-4529-8d20-82fd619a72c0",
   "metadata": {},
   "source": [
    "### Step 2: Optimize for target hardware\n",
    "\n",
    "When running a calculation on a real quantum computer. We don't just care about the logic of the quantum circuit. We also care about things like what operations can be performed by that particular quantum computer, and where on the quantum computer are the qubits we are using? Are they right next to each other? Are they far apart? So the next step is to rewrite our circuit using gates that are natural for the quantum computer we'll use, and taking qubit layout into account. This can be done by `Transpilation` and after this process, you can see our simple ansatz converted into a different set of gates and our abstract qubits are mapped into physical qubits on a real quantum computer."
   ]
  },
  {
   "cell_type": "code",
   "execution_count": 26,
   "id": "1f6fe383-52f0-4da1-b88b-62371788bf36",
   "metadata": {},
   "outputs": [
    {
     "name": "stdout",
     "output_type": "stream",
     "text": [
      "Backend: alt_brisbane\n",
      "Native gates:  ['ecr', 'id', 'delay', 'measure', 'reset', 'rz', 'sx', 'x'] ,\n"
     ]
    },
    {
     "data": {
      "text/plain": [
       "<Image src=\"/learning/images/modules/computer-science/VQE/extracted-outputs/1f6fe383-52f0-4da1-b88b-62371788bf36-1.avif\" alt=\"Output of the previous code cell\" />"
      ]
     },
     "execution_count": 26,
     "metadata": {},
     "output_type": "execute_result"
    }
   ],
   "source": [
    "from qiskit.transpiler.preset_passmanagers import generate_preset_pass_manager\n",
    "\n",
    "config = backend.configuration()\n",
    "\n",
    "print(\"Backend: {config.backend_name}\")\n",
    "print(\"Native gates: \", config.supported_instructions, \",\")\n",
    "\n",
    "\n",
    "target = backend.target\n",
    "\n",
    "pm = generate_preset_pass_manager(target=target, optimization_level=3)\n",
    "\n",
    "ansatz_isa = pm.run(ansatz)\n",
    "\n",
    "ansatz_isa.draw(output=\"mpl\", idle_wires=False, style=\"iqp\")"
   ]
  },
  {
   "cell_type": "markdown",
   "id": "2db0e5bc-ee0c-400f-aeae-de83dbc60593",
   "metadata": {},
   "source": [
    "You can see `Rx, Rz` gates of our ansatz converted into a series of `rz, sx` gates, which are the native gates of our backend. Also, you can see our `q0` is now mapped into the 5th physical qubit. We also need to map our Hamiltonian according to these changes, and the code below is for that."
   ]
  },
  {
   "cell_type": "code",
   "execution_count": 27,
   "id": "8d59ad88-be40-459e-ac2a-aca044678a65",
   "metadata": {},
   "outputs": [],
   "source": [
    "Hamiltonian_isa = Hamiltonian.apply_layout(layout=ansatz_isa.layout)"
   ]
  },
  {
   "cell_type": "markdown",
   "id": "2b120642-a4a0-4d26-80f0-09d9240ae5f5",
   "metadata": {},
   "source": [
    "### Step 3: Execute on target hardware\n",
    "\n",
    "Now it is time to run our VQE on a real QPU. For this, first we need a cost function for the optimization process, which evaluates the expectation value of the Hamiltonian with a quantum state, generated by the ansatz. Don't worry! You don't need to code everything by yourself. We prepared a function for this, and what you need to do is only run the cell below."
   ]
  },
  {
   "cell_type": "code",
   "execution_count": 28,
   "id": "2ca74f18-d73e-4cac-9a9b-6af277c6f471",
   "metadata": {},
   "outputs": [],
   "source": [
    "def cost_func(params, ansatz, hamiltonian, estimator):\n",
    "    \"\"\"Return estimate of energy from estimator\n",
    "\n",
    "    Parameters:\n",
    "        params (ndarray): Array of ansatz parameters\n",
    "        ansatz (QuantumCircuit): Parameterized ansatz circuit\n",
    "        hamiltonian (SparsePauliOp): Operator representation of Hamiltonian\n",
    "        estimator (EstimatorV2): Estimator primitive instance\n",
    "        cost_history_dict: Dictionary for storing intermediate results\n",
    "\n",
    "    Returns:\n",
    "        float: Energy estimate\n",
    "    \"\"\"\n",
    "    pub = (ansatz, [hamiltonian], [params])\n",
    "    result = estimator.run(pubs=[pub]).result()\n",
    "    energy = result[0].data.evs[0]\n",
    "\n",
    "    cost_history_dict[\"iters\"] += 1\n",
    "    cost_history_dict[\"prev_vector\"] = params\n",
    "    cost_history_dict[\"cost_history\"].append(energy)\n",
    "    print(f\"Iters. done: {cost_history_dict['iters']} [Current cost: {energy}]\")\n",
    "\n",
    "    return energy"
   ]
  },
  {
   "cell_type": "markdown",
   "id": "a34bdd79-6852-43e5-82cd-68aa41a12c4d",
   "metadata": {},
   "source": [
    "Finally, we prepare initial parameters for our ansatz and its optimization process. You can simply use all zeros or random values. We have selected initial parameters below, but feel free to comment/uncomment lines in the cell to sample parameters randomly, uniformly from 0 to $2\\pi$."
   ]
  },
  {
   "cell_type": "code",
   "execution_count": 29,
   "id": "c02d2cab-c41b-4a91-bc0e-152fdd5bde6a",
   "metadata": {},
   "outputs": [],
   "source": [
    "# x0 = np.random.uniform(0, 2*pi, 3)\n",
    "x0 = [1, 1, 0]"
   ]
  },
  {
   "cell_type": "code",
   "execution_count": 30,
   "id": "06d33de2-c946-41ad-8894-224915c91f75",
   "metadata": {},
   "outputs": [
    {
     "name": "stdout",
     "output_type": "stream",
     "text": [
      "Iters. done: 1 [Current cost: -0.33130223411063126]\n",
      "Iters. done: 2 [Current cost: -0.46903503889837284]\n",
      "Iters. done: 3 [Current cost: -0.3843256317762884]\n",
      "Iters. done: 4 [Current cost: -0.38702913645772535]\n",
      "Iters. done: 5 [Current cost: -0.46290856664591057]\n",
      "Iters. done: 6 [Current cost: -0.46687121608104987]\n",
      "Iters. done: 7 [Current cost: -0.44640604445093013]\n",
      "Iters. done: 8 [Current cost: -0.46905969886454046]\n",
      "Iters. done: 9 [Current cost: -0.4626522458832399]\n",
      "Iters. done: 10 [Current cost: -0.46423069409410433]\n"
     ]
    }
   ],
   "source": [
    "# QPU Est. 2min\n",
    "\n",
    "from scipy.optimize import minimize\n",
    "\n",
    "# This required 13 min, 20 s QPU time on ibm_cusco, 28 min total time.\n",
    "with Batch(backend=backend) as batch:\n",
    "    cost_history_dict = {\n",
    "        \"prev_vector\": None,\n",
    "        \"iters\": 0,\n",
    "        \"cost_history\": [],\n",
    "    }\n",
    "    estimator = Estimator(mode=batch)\n",
    "    estimator.options.default_shots = 10000\n",
    "\n",
    "    res = minimize(\n",
    "        cost_func,\n",
    "        x0,\n",
    "        args=(ansatz_isa, Hamiltonian_isa, estimator),\n",
    "        method=\"cobyla\",\n",
    "        options={\"maxiter\": 10, \"tol\": 0.01},\n",
    "    )\n",
    "batch.close()"
   ]
  },
  {
   "cell_type": "code",
   "execution_count": 36,
   "id": "0393c18b-bf17-408d-be2c-64767034fb24",
   "metadata": {},
   "outputs": [
    {
     "name": "stdout",
     "output_type": "stream",
     "text": [
      "The reference ground state energy is  (-0.471+0j)\n",
      "The computed ground state energy is  -0.46905969886454046\n"
     ]
    }
   ],
   "source": [
    "h_vqe = res.fun\n",
    "print(\"The reference ground state energy is \", min(eigenvalues))\n",
    "print(\"The computed ground state energy is \", h_vqe)"
   ]
  },
  {
   "cell_type": "markdown",
   "id": "db933e65-f903-4f67-bad7-f729022ad727",
   "metadata": {},
   "source": [
    "Congratulations! You have just finished your first quantum chemistry experiment successfully. We can see some difference between the exact ground state energy of the Hamiltonian and ours. But because we used a default error mitigation technique, which corrects readout errors, the difference is minor. This is a very good start!\n",
    "\n",
    "Note: You can get a better result by setting a level of error mitigation using [resilience_level](https://docs.quantum.ibm.com/guides/configure-error-mitigation). The default value is 1, and if you set a higher value, it will use more QPU time but will return a better result."
   ]
  },
  {
   "cell_type": "markdown",
   "id": "0ef586bc-3482-47d9-955f-8b931a6c2610",
   "metadata": {},
   "source": [
    "### Step 4: Post-process\n",
    "\n",
    "It is time to take a look at how our classical optimizer worked. Run the cell below and see the convergence pattern."
   ]
  },
  {
   "cell_type": "code",
   "execution_count": 37,
   "id": "27be8a5e-3734-488e-88bb-5dc1904505dd",
   "metadata": {},
   "outputs": [
    {
     "data": {
      "text/plain": [
       "<Image src=\"/learning/images/modules/computer-science/VQE/extracted-outputs/27be8a5e-3734-488e-88bb-5dc1904505dd-0.avif\" alt=\"Output of the previous code cell\" />"
      ]
     },
     "metadata": {},
     "output_type": "display_data"
    }
   ],
   "source": [
    "fig, ax = plt.subplots()\n",
    "x = np.linspace(0, 10, 10)\n",
    "\n",
    "# Define the constant function\n",
    "y_constant = np.full_like(x, h)\n",
    "ax.plot(\n",
    "    range(cost_history_dict[\"iters\"]), cost_history_dict[\"cost_history\"], label=\"VQE\"\n",
    ")\n",
    "ax.set_xlabel(\"Iterations\")\n",
    "ax.set_ylabel(\"Cost (Hartree)\")\n",
    "ax.plot(y_constant, label=\"Target\")\n",
    "plt.legend()\n",
    "plt.draw()"
   ]
  },
  {
   "cell_type": "markdown",
   "id": "1de257e1-5f0e-4146-a9d7-d997bd9739e4",
   "metadata": {},
   "source": [
    "We started with a fairly good initial value, such that we obtained a good final value in just 10 steps. You can see big and small peaks, and this is the typical feature of the Cobyla optimizer - it searches the space as if it cannot see the landscape and adjusts step sizes with each measurement."
   ]
  },
  {
   "cell_type": "markdown",
   "id": "e6295044-92e2-426a-beee-9647cf89923c",
   "metadata": {},
   "source": [
    "#### Check your understanding\n",
    "<details>\n",
    "<summary>\n",
    "\n",
    "What is your observation? Which part of the above process is open to improvement in order to obtain results closer to the theoretical values, or closer to the precise ground state energy of the Hamiltonian? What are some things to consider for this?\n",
    "\n",
    "</summary>\n",
    "\n",
    "__Answer:__\n",
    "\n",
    "\n",
    "The first thing to consider is the change in the set of bases used in calculating the Hamiltonian of molecules. As mentioned earlier, the ground state energy of the H atom is -0.5 Hartree, as is well known, and the sto-6g basis we have chosen is not enough to accurately derive this value.\n",
    "\n",
    "Choosing a more complex kind of basis increases the number of qubits used by the Hamiltonian; therefore, we need to select a more complex and suitable ansatz for chemical problems.\n",
    "\n",
    "The next to be optimized is the management of noise in the QPU. More advanced error mitigation techniques yield better results but may take longer to use. Also, consider how the shot_number affects the results.\n",
    "\n",
    "Finally, better convergence performance can also be achieved by trying different optimizers.\n",
    "\n",
    "</details>"
   ]
  },
  {
   "cell_type": "markdown",
   "id": "e33b3881-1231-4dcb-8328-3f501cbd88b5",
   "metadata": {},
   "source": [
    "## 4. Compute the ground state energy of the hydrogen molecule with VQE\n",
    "\n",
    "Now that we have looked at the overall process of VQE using H atoms, we will now calculate the ground state energy of the H2 molecule more quickly."
   ]
  },
  {
   "cell_type": "markdown",
   "id": "7761fd63-5572-495f-9eca-445af06a19c2",
   "metadata": {},
   "source": [
    "### Step 1: Map the problem to quantum circuits and operators\n",
    "\n",
    "Here we also provide you with a one-qubit Hamiltonian that uses the sto6g basis and the Jordan-Wigner transformation, with qubit reduction by using a symmetry of the Hamiltonian. Note that we used an atomic distance between two hydrogen atoms of `0.735` $\\mathring A$.\n",
    "\n",
    "Unlike the calculation of a single hydrogen atom ($H$), in order to calculate the ground state of a hydrogen molecule($H_2$), in addition to the energy associated with the electronic orbitals, the repulsive force acting between the nuclei of the two hydrogen atoms must be considered. In this step, we will give this value as a constant, and we will actually calculate this value in the check-in problem.\n",
    "$$\\hat{H} = -1.04886 I + -0.79674 Z + 0.18122 X$$"
   ]
  },
  {
   "cell_type": "code",
   "execution_count": 38,
   "id": "2053ac8d-c3ad-4f6c-891d-4cf2a82e4dd1",
   "metadata": {},
   "outputs": [
    {
     "name": "stdout",
     "output_type": "stream",
     "text": [
      "Electronic ground state energy (Hartree):  -1.8659468547627318\n",
      "Nuclear repulsion energy (Hartree):  0.71997\n",
      "Total ground state energy (Hartree):  -1.1459768547627318\n"
     ]
    }
   ],
   "source": [
    "h2_hamiltonian = SparsePauliOp.from_list(\n",
    "    [(\"I\", -1.04886087), (\"Z\", -0.7967368), (\"X\", 0.18121804)]\n",
    ")\n",
    "\n",
    "# exact ground state energy of hamiltonian\n",
    "nuclear_repulsion = 0.71997\n",
    "A = np.array(h2_hamiltonian)\n",
    "eigenvalues, eigenvectors = np.linalg.eig(A)\n",
    "print(\"Electronic ground state energy (Hartree): \", min(eigenvalues).real)\n",
    "print(\"Nuclear repulsion energy (Hartree): \", nuclear_repulsion)\n",
    "print(\n",
    "    \"Total ground state energy (Hartree): \", min(eigenvalues).real + nuclear_repulsion\n",
    ")\n",
    "h2 = min(eigenvalues).real + nuclear_repulsion"
   ]
  },
  {
   "cell_type": "markdown",
   "id": "b5518c08-91ea-4ef4-b00a-a15e7a4538a5",
   "metadata": {},
   "source": [
    "### Step 2: Optimize for target hardware\n",
    "\n",
    "Since the number of qubits used by the previous VQE and Hamiltonian is the same as the backend to be used for execution, we will use the existing ansatz and its optimized form."
   ]
  },
  {
   "cell_type": "code",
   "execution_count": 39,
   "id": "3bdcd179-9b1b-4227-b055-726646ab1da8",
   "metadata": {},
   "outputs": [],
   "source": [
    "h2_hamiltonian_isa = h2_hamiltonian.apply_layout(layout=ansatz_isa.layout)"
   ]
  },
  {
   "cell_type": "markdown",
   "id": "62e322c6-49b6-4845-b63f-89295f22b35c",
   "metadata": {},
   "source": [
    "### Step 3: Execute on target hardware\n",
    "\n",
    "Now it's time to do the calculations on the actual QPU. Almost everything is the same, but we will use the appropriate initial point to fit the Hamiltonian. Also, at an iterative part, some of the settings of the `Estimator`, which is used to calculate the Hamiltonian's expectations for the ansatz in the QPU, will be set slightly differently from the previous calculations. We will discuss this change further in a check-in question."
   ]
  },
  {
   "cell_type": "code",
   "execution_count": 40,
   "id": "8ccb227f-ea0e-4b1d-860a-bd1f9df4bcac",
   "metadata": {},
   "outputs": [],
   "source": [
    "x0 = [2, 0, 0]"
   ]
  },
  {
   "cell_type": "code",
   "execution_count": null,
   "id": "bf3f9d55-5b74-48e3-808b-5ccc5697c751",
   "metadata": {},
   "outputs": [
    {
     "name": "stdout",
     "output_type": "stream",
     "text": [
      "Iters. done: 1 [Current cost: -0.7176913764581435]\n",
      "Iters. done: 2 [Current cost: -0.2679485318437069]\n",
      "Iters. done: 3 [Current cost: -0.261355588588013]\n",
      "Iters. done: 4 [Current cost: -0.5646902548943955]\n",
      "Iters. done: 5 [Current cost: -1.7076559176345654]\n",
      "Iters. done: 6 [Current cost: -1.6619278079063782]\n"
     ]
    }
   ],
   "source": [
    "# QPU Est: 4m\n",
    "\n",
    "with Batch(backend=backend) as batch:\n",
    "    cost_history_dict = {\n",
    "        \"prev_vector\": None,\n",
    "        \"iters\": 0,\n",
    "        \"cost_history\": [],\n",
    "    }\n",
    "    estimator = Estimator(mode=batch)\n",
    "    estimator.options.default_shots = 10000\n",
    "\n",
    "    res = minimize(\n",
    "        cost_func,\n",
    "        x0,\n",
    "        args=(ansatz_isa, h2_hamiltonian_isa, estimator),\n",
    "        method=\"cobyla\",\n",
    "        options={\"maxiter\": 15},\n",
    "    )\n",
    "batch.close()"
   ]
  },
  {
   "cell_type": "code",
   "execution_count": 42,
   "id": "6507e3df-cdb6-4b11-9cf8-76d64b5579b6",
   "metadata": {},
   "outputs": [
    {
     "name": "stdout",
     "output_type": "stream",
     "text": [
      "The reference ground state energy is  -1.1459768547627318\n",
      "The computed ground state energy is  -1.136831161640272\n"
     ]
    }
   ],
   "source": [
    "h2_vqe = res.fun + nuclear_repulsion\n",
    "print(\n",
    "    \"The reference ground state energy is \", min(eigenvalues).real + nuclear_repulsion\n",
    ")\n",
    "print(\"The computed ground state energy is \", h2_vqe)"
   ]
  },
  {
   "cell_type": "markdown",
   "id": "7a117dc5-57ab-451e-9391-7867656cd596",
   "metadata": {},
   "source": [
    "Despite VQE theoretically providing an upper bound to the true ground state energy, practical implementations on real or noisy simulated quantum hardware, as well as approximations made in preparing the Hamiltonian (like basis sets or qubit reduction), can introduce errors that sometimes result in a measured energy slightly lower than the exact theoretical value or a specific numerical reference. Although there are some errors, the results seem to be satisfactory, especially given the small number of steps. Now, let's wrap up this VQE calculation by looking at how the optimizer worked."
   ]
  },
  {
   "cell_type": "markdown",
   "id": "46d0352c-6987-4a21-a265-3ef0f19f8581",
   "metadata": {},
   "source": [
    "### Step 4: Post-process"
   ]
  },
  {
   "cell_type": "code",
   "execution_count": 43,
   "id": "62839a45-f7d7-460c-a193-ec0bff4df1d2",
   "metadata": {},
   "outputs": [
    {
     "data": {
      "text/plain": [
       "<Image src=\"/learning/images/modules/computer-science/VQE/extracted-outputs/62839a45-f7d7-460c-a193-ec0bff4df1d2-0.avif\" alt=\"Output of the previous code cell\" />"
      ]
     },
     "metadata": {},
     "output_type": "display_data"
    }
   ],
   "source": [
    "fig, ax = plt.subplots()\n",
    "x = np.linspace(0, 10, 15)\n",
    "\n",
    "# Define the constant function\n",
    "y_constant = np.full_like(x, min(eigenvalues))\n",
    "ax.plot(\n",
    "    range(cost_history_dict[\"iters\"]), cost_history_dict[\"cost_history\"], label=\"VQE\"\n",
    ")\n",
    "ax.set_xlabel(\"Iterations\")\n",
    "ax.set_ylabel(\"Cost (Hartree)\")\n",
    "ax.plot(y_constant, label=\"Target\")\n",
    "plt.legend()\n",
    "plt.draw()"
   ]
  },
  {
   "cell_type": "markdown",
   "id": "70cb7a79-7c47-4eca-a3c6-06241c5c22e7",
   "metadata": {},
   "source": [
    "#### Check your understanding\n",
    "Let's compute the nuclear repulsion energy of $H_2$ molecule which we included as a constant value (0.71997 Hartree).\n",
    "\n",
    "![H2 Molecule](/learning/images/modules/computer-science/vqe/h2.avif)\n",
    "\n",
    "<details>\n",
    "<summary>\n",
    "\n",
    "Please use [Coulomb's law](https://en.wikipedia.org/wiki/Coulomb%27s_law) and use [atomic unit](https://en.wikipedia.org/wiki/Atomic_units) to make sure you get the value in `Hartree`.\n",
    "\n",
    "</summary>\n",
    "\n",
    "__Answer:__\n",
    "\n",
    "\n",
    "Since both hydrogen nuclei are positively charged, they repel each other due to electrostatic force. This repulsion is described by Coulomb's law:\n",
    "\n",
    "$$E_{repulsive} = \\frac{e^2}{4\\pi\\epsilon_0R}$$\n",
    "\n",
    "where $e$ is a charge of proton, $\\epsilon_0$ is a vacuum permittivity, $R$ is the distance between the two nuclei, measured in meters or Bohr radii in unit of joules(J).\n",
    "\n",
    "To compute this energy in Hartrees, we need to convert above equation into Atomic Unit (AU) system. In the atomic unit system, $e^2 = 1$, $4\\pi\\epsilon_0=1$ and Bohr radius ($a_0$) is 1 and becomes the fundamental length scale in AU. With these simplifications, Coulomb's law reduced to:\n",
    "\n",
    "$$E_{repulsion} = \\frac{1}{R}$$\n",
    "\n",
    "where $R$ must be measured in Bohr radii ($a_0$)\n",
    "\n",
    "To convert given nuclear separation in $\\r{A}$ into $a_0$, we need this conversion relation:\n",
    "\n",
    "$$1\\r{A} = 1.88973 a_0$$\n",
    "\n",
    "so $0.735\\r{A}$ becomes $0.735 * 1.88973 = 1.38895 a_0$.\n",
    "\n",
    "Therefore, the nuclear repulsion energy of a given $H2$ is\n",
    "\n",
    "$$E_{repulsion} = \\frac{1}{R} = \\frac{1}{1.38895} = 0.71997 Hartree$$\n",
    "\n",
    "</details>"
   ]
  },
  {
   "cell_type": "markdown",
   "id": "d3befb06-8b07-4449-8fcd-67aabd22d540",
   "metadata": {},
   "source": [
    "## 5. Compute reaction energy of $H + H = H_2$\n",
    "\n",
    "Now let's use what we've obtained from quantum computation! You've used VQE, a variational quantum algorithm, to calculate the ground state energy of the $H$ atom and of the $H_2$ molecule. What's left is to use the calculated values to calculate the reaction energy of the $H+H=H_2$ process.\n",
    "\n",
    "Reaction energy is the energy change that happens when substances react to form new substances. Imagine you’re building something: sometimes you need to put energy into it (like stacking blocks), and sometimes energy is released (like a ball rolling downhill). In chemistry, reactions either absorb energy (endothermic) or release energy (exothermic).\n",
    "\n",
    "The reaction energy of $H+H = H_2$ process can be compute by below formula:\n",
    "\n",
    "$E_{reaction} = E_{H_2} - (E_H + E_H)$\n",
    "\n",
    "By running the cell below, let's see this visually. Here we will use the exact ground state value of each Hamiltonian and will compare the reaction energy of exact solution and VQE results."
   ]
  },
  {
   "cell_type": "code",
   "execution_count": 44,
   "id": "44b1a205-9006-4a95-8aa3-7450c055515f",
   "metadata": {},
   "outputs": [
    {
     "data": {
      "text/plain": [
       "<Image src=\"/learning/images/modules/computer-science/VQE/extracted-outputs/44b1a205-9006-4a95-8aa3-7450c055515f-0.avif\" alt=\"Output of the previous code cell\" />"
      ]
     },
     "metadata": {},
     "output_type": "display_data"
    }
   ],
   "source": [
    "# Theoretical values\n",
    "E_H_theo = h.real\n",
    "E_H2_theo = h2\n",
    "\n",
    "# Experimental values\n",
    "E_H_exp = h_vqe\n",
    "E_H2_exp = h2_vqe\n",
    "\n",
    "# Calculate reaction energies\n",
    "E_reaction_theo = E_H2_theo - (2 * E_H_theo)\n",
    "E_reaction_exp = E_H2_exp - (2 * E_H_exp)\n",
    "\n",
    "# Set up the plot\n",
    "fig, ax = plt.subplots(figsize=(8, 6))\n",
    "ax.set_xlim(0, 3)\n",
    "ax.set_ylim(-1.16, -0.93)  # Adjust y-axis range to highlight differences\n",
    "ax.set_xticks([])\n",
    "ax.set_ylabel(\"Energy (Hartree)\")\n",
    "ax.set_title(\"H + H → H₂ Reaction Energy Diagram\")\n",
    "\n",
    "# Plot theoretical energy levels\n",
    "ax.hlines(\n",
    "    y=2 * E_H_theo, xmin=0.5, xmax=1.3, linewidth=2, color=\"r\", label=\"2H (Exact)\"\n",
    ")\n",
    "ax.hlines(y=E_H2_theo, xmin=1.3, xmax=2, linewidth=2, color=\"b\", label=\"H₂ (Exact)\")\n",
    "\n",
    "# Plot experimental energy levels\n",
    "ax.hlines(\n",
    "    y=2 * E_H_exp,\n",
    "    xmin=0.5,\n",
    "    xmax=1.5,\n",
    "    linewidth=2,\n",
    "    color=\"r\",\n",
    "    linestyle=\"dashed\",\n",
    "    label=\"2H (VQE)\",\n",
    ")\n",
    "ax.hlines(\n",
    "    y=E_H2_exp,\n",
    "    xmin=1.5,\n",
    "    xmax=2.5,\n",
    "    linewidth=2,\n",
    "    color=\"b\",\n",
    "    linestyle=\"dashed\",\n",
    "    label=\"H₂ (VQE)\",\n",
    ")\n",
    "\n",
    "# Add labels\n",
    "ax.text(\n",
    "    1,\n",
    "    2 * E_H_theo,\n",
    "    f\"2H: {2*E_H_theo:.4f}\",\n",
    "    verticalalignment=\"top\",\n",
    "    horizontalalignment=\"left\",\n",
    ")\n",
    "ax.text(\n",
    "    2,\n",
    "    E_H2_theo,\n",
    "    f\"H₂: {E_H2_theo:.4f}\",\n",
    "    verticalalignment=\"top\",\n",
    "    horizontalalignment=\"left\",\n",
    ")\n",
    "ax.text(\n",
    "    1,\n",
    "    2 * E_H_exp,\n",
    "    f\"2H_VQE: {2*E_H_exp:.4f}\",\n",
    "    verticalalignment=\"bottom\",\n",
    "    horizontalalignment=\"right\",\n",
    ")\n",
    "ax.text(\n",
    "    2,\n",
    "    E_H2_exp,\n",
    "    f\"H₂_VQE: {E_H2_exp:.4f}\",\n",
    "    verticalalignment=\"bottom\",\n",
    "    horizontalalignment=\"right\",\n",
    ")\n",
    "\n",
    "# Add arrows for reaction energy with ΔE label in the middle\n",
    "mid_y_theo = (2 * E_H_theo + E_H2_theo) / 2\n",
    "mid_y_exp = (2 * E_H_exp + E_H2_exp) / 2\n",
    "ax.annotate(\n",
    "    \"\",\n",
    "    xy=(1.3, E_H2_theo),\n",
    "    xytext=(1.3, 2 * E_H_theo),\n",
    "    arrowprops=dict(arrowstyle=\"<->\", color=\"g\"),\n",
    ")\n",
    "ax.text(\n",
    "    1.35, mid_y_theo, f\"ΔE: {E_reaction_theo:.4f}\", color=\"g\", verticalalignment=\"top\"\n",
    ")\n",
    "\n",
    "ax.annotate(\n",
    "    \"\",\n",
    "    xy=(1.5, E_H2_exp),\n",
    "    xytext=(1.5, 2 * E_H_exp),\n",
    "    arrowprops=dict(arrowstyle=\"<->\", color=\"g\", linestyle=\"dashed\"),\n",
    ")\n",
    "ax.text(\n",
    "    1.55,\n",
    "    mid_y_exp,\n",
    "    f\"ΔE_VQE: {E_reaction_exp:.4f}\",\n",
    "    color=\"g\",\n",
    "    verticalalignment=\"center\",\n",
    ")\n",
    "\n",
    "# Add legend\n",
    "ax.legend()\n",
    "\n",
    "plt.show()"
   ]
  },
  {
   "cell_type": "markdown",
   "id": "88cc82fd-de63-4800-a220-17e953fc7773",
   "metadata": {},
   "source": [
    "As shown in the figure, although there are some errors, the exact ground state energy of Hamiltonians and the reaction energy calculated using the VQE results are similar, approximately -0.2 Hartree.\n",
    "\n",
    "It should be noted here that the reaction energy of this process has a negative value, which means that the energy is released through the process, and the resulting molecule has a lower energy than two single atoms."
   ]
  },
  {
   "cell_type": "markdown",
   "id": "d2963bd6-fb08-4c6a-86fc-688989c60d82",
   "metadata": {},
   "source": [
    "## 6. Conclusion\n",
    "\n",
    "Let's summarize what we've learned so far.\n",
    "\n",
    "We first looked at two important approximation techniques needed to solve quantum chemistry problems: the variational principle and basis set choices, which are both fundamental to VQE. We explored the variational principle by hand, calculating the ground state energy of the simple harmonic oscillator.\n",
    "\n",
    "Next, we dove into VQE, a widely used algorithm for calculating the ground state energy of a quantum system. We ran code to calculate the ground state energies for atomic Hydrogen ($H$) and the Hydrogen molecule ($H_2$). In particular, we learned that it is necessary to obtain the appropriate molecular Hamiltonian for the system and to transform it into a form executable on a quantum computer. We also saw that the ansatz, a parameterized quantum circuit, is needed to prepare trial quantum states within VQE, and we discussed the importance of choosing an appropriate ansatz circuit structure. We also learned that VQE relies on an iterative optimization process using a classical computer, guiding the quantum circuit to find the lowest energy state, and saw how the convergence of this process is monitored.\n",
    "\n",
    "Finally, we used the computed ground state energies of $H$ and $H_2$ obtained via VQE to calculate the reaction energy for the process $H + H \\rightarrow H_2$.\n",
    "\n",
    "VQE is a powerful near-term quantum algorithm, but it's important to be aware of its limitations. The performance of VQE heavily depends on the choice of the ansatz – finding an efficiently preparable ansatz that can accurately represent the true ground state becomes increasingly challenging for larger, more complex molecules. Furthermore, current quantum hardware is susceptible to noise, which can impact the accuracy of VQE results, particularly for deeper circuits or larger numbers of qubits. Despite these challenges, VQE serves as a foundational algorithm, and ongoing research is exploring more sophisticated variational methods and error mitigation techniques to push the boundaries of what is possible in quantum chemistry on near-term quantum computers. For instance, algorithms like Sample-based Quantum Diagonalization (SQD) are being developed, which leverage samples obtained from quantum circuits combined with classical diagonalization in a subspace to improve energy estimation and address some of the limitations faced by VQE, particularly regarding measurement efficiency and noise robustness."
   ]
  },
  {
   "cell_type": "markdown",
   "id": "e8a8232a-693b-4acb-85bc-82fd6b64b003",
   "metadata": {},
   "source": [
    "## 7. Review and questions\n",
    "\n",
    "### Critical concepts:\n",
    "\n",
    "- Variational Quantum Algorithm is a computing paradigm in which a classical computer and a quantum computer work together to solve a problem.\n",
    "- In VQE, we start with a Hamiltonian of our system and map it onto qubits for execution on the quantum computer. We select a parameterized quantum circuit, an ansatz, and make repeated measurements, varying the parameters of the ansatz, until the lowest energy value is reached. The search through parameter space is done using a classical optimizer. To achieve good results, it is necessary to select a good ansatz and an appropriate optimizer.\n",
    "- Reaction energy is the total energy change in a chemical reaction, determined by the difference between the energy of the reactants and the products.\n",
    "\n",
    "\n",
    "### True/false\n",
    "1. The variational principle states that the expectation value of the energy for any trial wavefunction is always greater than or equal to the true ground state energy.\n",
    "2. A basis set is a collection of functions used to approximate quantum wavefunctions.\n",
    "3. VQE is a quantum algorithm used to exactly solve the Schrödinger equation for a given Hamiltonian.\n",
    "4. In VQE, a parameterized quantum circuit (an ansatz) is used to prepare trial wavefunctions.\n",
    "5. The choice of optimizer in VQE (e.g., COBYLA, SPSA, or ADAM) does not impact the quality of the result.\n",
    "6. Qiskit's `Estimator` is used to directly compute expectation values of Hamiltonians in VQE.\n",
    "\n",
    "\n",
    "### Multiple Choice Questions:\n",
    "\n",
    "1. What is the purpose of the Hamiltonian in VQE?\n",
    "\n",
    "- A) To generate random quantum states\n",
    "- B) To determine the energy of quantum states\n",
    "- C) To optimize quantum circuits\n",
    "- D) To create entanglement\n",
    "\n",
    "2. What is the primary objective of the VQE algorithm?\n",
    "\n",
    "- A) To find the ground state energy of a Hamiltonian\n",
    "- B) To create entanglement between qubits\n",
    "- C) To perform Grover's search\n",
    "- D) To break the RSA encryption\n",
    "\n",
    "3. How many quantum states are generated in this notebook to compare the ansatzs?\n",
    "- A) 100\n",
    "- B) 1000\n",
    "- C) 5000\n",
    "- D) 10,000\n",
    "\n",
    "4. Why is a classical optimizer required in VQE?\n",
    "- A) To perform quantum measurements\n",
    "- B) Update ansatz parameters to minimize energy\n",
    "- C) To entangle qubits\n",
    "- D) To generate quantum randomness\n",
    "\n",
    "5. Why is the ansatz designed to be parameterized?\n",
    "- A) To allow quantum state preparation\n",
    "- B) To allow a wide space of quantum states to be searched\n",
    "- C) To reduce circuit complexity\n",
    "- D) To measure eigenvalues directly\n",
    "\n",
    "6. Which of the following is the most correct statement about choosing a good ansatz?\n",
    "- A) An ansatz must produce states evenly distributed over the Bloch sphere, or it will fail.\n",
    "- B) An ansatz should be tailored to your system to make sure it can generate states close to the ground state.\n",
    "- C) An ansatz should produce random states using its variational parameters.\n",
    "- D) A better ansatz always has more variational parameters."
   ]
  },
  {
   "cell_type": "markdown",
   "id": "9c66ee6e-b4c7-4d66-aa5a-a4ba2eeb249c",
   "metadata": {},
   "source": [
    "## (Optional) Appendix: Optimizer overhead by ansatz complexity\n",
    "\n",
    "VQE faces several well-known challenges[ref 6], and the following are related to what we have learned above.\n",
    "\n",
    "1. Ansatz Selection Challenges\n",
    "There is an inherent challenge in selecting the right variational ansatz. Chemistry-inspired ansätze (like UCCSD) provide physical accuracy but require deep circuits, while hardware-efficient ansätze have shallower circuits but may lack physical interpretability. Also, many ansätze introduce excessive variational parameters that contribute little to improving accuracy but significantly increase optimization difficulty.\n",
    "\n",
    "2. Optimization Difficulties\n",
    "The optimization landscape of VQE can have regions where gradients vanish exponentially (barren plateaus), making it difficult for classical optimizers to update the variational parameters efficiently. For this, researchers have tried to use different types of optimizers - gradient-based and gradient-free, but both face challenges. Gradient-based optimizers suffer from barren plateaus, while gradient-free methods require a large number of function evaluations.\n",
    "\n",
    "One more well-known challenge is optimizer overhead, which is related to the scale of the problem. The quantum circuits required for VQE grow in depth and complexity as the problem size increases; this typically also increases the number of parameters to optimize. The optimization process becomes intractable as the number of parameters increases, leading to slow convergence and difficulties in finding the optimal solution.\n",
    "\n",
    "Here we will take a look at these challenges by using VQE for $H_2$ molecule, with a two different type of ansatz.\n",
    "\n",
    "(Note: This can take more QPU time, so feel free to use a noisy simulator for this if you don't have enough time.)"
   ]
  },
  {
   "cell_type": "code",
   "execution_count": null,
   "id": "e1dff56b-4764-4079-b77e-6adf87b25962",
   "metadata": {},
   "outputs": [],
   "source": [
    "from qiskit.circuit import ParameterVector\n",
    "\n",
    "num_iter = 4\n",
    "alpha = ParameterVector(\"alpha\", 3)\n",
    "beta = ParameterVector(\"beta\", 3 * num_iter)\n",
    "\n",
    "# step1: Map problem to quantum circuits and operators\n",
    "hamiltonian = SparsePauliOp.from_list(\n",
    "    [(\"I\", -1.04886087), (\"Z\", -0.7967368), (\"X\", 0.18121804)]\n",
    ")\n",
    "\n",
    "ansatz_1 = ansatz3\n",
    "ansatz_2 = QuantumCircuit(1)\n",
    "for i in range(num_iter):\n",
    "    ansatz_2.rx(beta[i * 3 + 0], 0)\n",
    "    ansatz_2.rz(beta[i * 3 + 1], 0)\n",
    "    ansatz_2.rx(beta[i * 3 + 2], 0)"
   ]
  },
  {
   "cell_type": "code",
   "execution_count": 35,
   "id": "9bc58b52-eec7-4535-a375-014e632550e4",
   "metadata": {},
   "outputs": [
    {
     "data": {
      "text/plain": [
       "<Image src=\"/learning/images/modules/computer-science/VQE/extracted-outputs/9bc58b52-eec7-4535-a375-014e632550e4-0.avif\" alt=\"Output of the previous code cell\" />"
      ]
     },
     "execution_count": 35,
     "metadata": {},
     "output_type": "execute_result"
    }
   ],
   "source": [
    "ansatz_1.draw(\"mpl\")"
   ]
  },
  {
   "cell_type": "code",
   "execution_count": 45,
   "id": "a5a7b2c8-75da-4e7a-807c-2cb024d4fbaf",
   "metadata": {},
   "outputs": [
    {
     "data": {
      "text/plain": [
       "<Image src=\"/learning/images/modules/computer-science/VQE/extracted-outputs/a5a7b2c8-75da-4e7a-807c-2cb024d4fbaf-0.avif\" alt=\"Output of the previous code cell\" />"
      ]
     },
     "execution_count": 45,
     "metadata": {},
     "output_type": "execute_result"
    }
   ],
   "source": [
    "ansatz_2.draw(\"mpl\")"
   ]
  },
  {
   "cell_type": "code",
   "execution_count": 46,
   "id": "9eaceb97-f042-4379-ac5f-e974595278d0",
   "metadata": {},
   "outputs": [],
   "source": [
    "# Step 2: Optimize for target hardware\n",
    "\n",
    "target = backend.target\n",
    "pm = generate_preset_pass_manager(target=target, optimization_level=3)\n",
    "\n",
    "ansatz_isa_1 = pm.run(ansatz_1)\n",
    "ansatz_isa_2 = pm.run(ansatz_2)\n",
    "hamiltonian_isa_1 = hamiltonian.apply_layout(layout=ansatz_isa_1.layout)\n",
    "hamiltonian_isa_2 = hamiltonian.apply_layout(layout=ansatz_isa_2.layout)"
   ]
  },
  {
   "cell_type": "markdown",
   "id": "32fca67b-a339-4b0f-9b9b-47a7dc4e6a99",
   "metadata": {},
   "source": [
    "Now let's run a VQE with an initial point made of all ones, with maximum 50 steps and compare the convergence of both runs."
   ]
  },
  {
   "cell_type": "code",
   "execution_count": 50,
   "id": "c259783d-6c43-460d-9d95-e02883ca123d",
   "metadata": {},
   "outputs": [
    {
     "name": "stdout",
     "output_type": "stream",
     "text": [
      "Iters. done: 1 [Current cost: -0.850228820208]\n",
      "Iters. done: 2 [Current cost: -0.42408650275199994]\n",
      "Iters. done: 3 [Current cost: -0.41994907457599995]\n",
      "Iters. done: 4 [Current cost: -1.3682458663039998]\n",
      "Iters. done: 5 [Current cost: -1.768108728736]\n",
      "Iters. done: 6 [Current cost: -1.4651230553999999]\n",
      "Iters. done: 7 [Current cost: -1.285345480016]\n",
      "Iters. done: 8 [Current cost: -1.806756324328]\n",
      "Iters. done: 9 [Current cost: -1.7857874891119998]\n",
      "Iters. done: 10 [Current cost: -1.7947303216479997]\n",
      "Iters. done: 11 [Current cost: -1.791162695784]\n",
      "Iters. done: 12 [Current cost: -1.796205672104]\n",
      "Iters. done: 13 [Current cost: -1.80736997536]\n",
      "Iters. done: 14 [Current cost: -1.8137401074639998]\n",
      "Iters. done: 15 [Current cost: -1.8141287722560002]\n",
      "Iters. done: 16 [Current cost: -1.8127815061600001]\n",
      "Iters. done: 17 [Current cost: -1.8250168501600001]\n",
      "Iters. done: 18 [Current cost: -1.813146405704]\n",
      "Iters. done: 19 [Current cost: -1.827580158272]\n",
      "Iters. done: 20 [Current cost: -1.8299347476399999]\n",
      "Iters. done: 21 [Current cost: -1.836095538424]\n",
      "Iters. done: 22 [Current cost: -1.833444125016]\n",
      "Iters. done: 23 [Current cost: -1.834232741488]\n",
      "Iters. done: 24 [Current cost: -1.82495437784]\n",
      "Iters. done: 25 [Current cost: -1.829226116136]\n",
      "Iters. done: 26 [Current cost: -1.834007159512]\n",
      "Iters. done: 27 [Current cost: -1.827950092104]\n",
      "Iters. done: 28 [Current cost: -1.8308852017760002]\n",
      "Iters. done: 29 [Current cost: -1.8363854872879999]\n",
      "Iters. done: 30 [Current cost: -1.828740576304]\n"
     ]
    }
   ],
   "source": [
    "# Step 3: Execute on target hardware\n",
    "\n",
    "from scipy.optimize import minimize\n",
    "\n",
    "x0 = np.ones(ansatz_1.num_parameters)\n",
    "with Batch(backend=backend) as batch:\n",
    "    cost_history_dict = {\n",
    "        \"prev_vector\": None,\n",
    "        \"iters\": 0,\n",
    "        \"cost_history\": [],\n",
    "    }\n",
    "    estimator = Estimator(mode=batch)\n",
    "    estimator.options.default_shots = 10000\n",
    "\n",
    "    res = minimize(\n",
    "        cost_func,\n",
    "        x0,\n",
    "        args=(ansatz_isa_1, hamiltonian_isa_1, estimator),\n",
    "        method=\"cobyla\",\n",
    "        options={\"maxiter\": 30},\n",
    "    )\n",
    "batch.close()"
   ]
  },
  {
   "cell_type": "code",
   "execution_count": 51,
   "id": "cb51f0b5-674b-4f53-bc72-06d0260913e1",
   "metadata": {},
   "outputs": [],
   "source": [
    "# Save Cost_history as a new list\n",
    "ansatz_1_history = cost_history_dict[\"cost_history\"]"
   ]
  },
  {
   "cell_type": "code",
   "execution_count": 52,
   "id": "ed42ae6f-43a0-4f7b-90e6-78284170a227",
   "metadata": {},
   "outputs": [
    {
     "name": "stdout",
     "output_type": "stream",
     "text": [
      "Iters. done: 1 [Current cost: -0.773770860104]\n",
      "Iters. done: 2 [Current cost: -0.4355157713119999]\n",
      "Iters. done: 3 [Current cost: -1.32877522468]\n",
      "Iters. done: 4 [Current cost: -0.906956534048]\n",
      "Iters. done: 5 [Current cost: -0.90345213728]\n",
      "Iters. done: 6 [Current cost: -0.7421270506]\n",
      "Iters. done: 7 [Current cost: -1.542036886408]\n",
      "Iters. done: 8 [Current cost: -1.634120172752]\n",
      "Iters. done: 9 [Current cost: -1.253717181232]\n",
      "Iters. done: 10 [Current cost: -1.1493776517039997]\n",
      "Iters. done: 11 [Current cost: -1.157504367064]\n",
      "Iters. done: 12 [Current cost: -1.802518774032]\n",
      "Iters. done: 13 [Current cost: -1.240463146552]\n",
      "Iters. done: 14 [Current cost: -1.677600405008]\n",
      "Iters. done: 15 [Current cost: -1.808202333192]\n",
      "Iters. done: 16 [Current cost: -1.8412513888800002]\n",
      "Iters. done: 17 [Current cost: -1.845389412792]\n",
      "Iters. done: 18 [Current cost: -0.9245632471599999]\n",
      "Iters. done: 19 [Current cost: -1.81372795644]\n",
      "Iters. done: 20 [Current cost: -1.5842268022239998]\n",
      "Iters. done: 21 [Current cost: -1.644233926592]\n",
      "Iters. done: 22 [Current cost: -1.792061937648]\n",
      "Iters. done: 23 [Current cost: -1.836853380272]\n",
      "Iters. done: 24 [Current cost: -1.7943809328240001]\n",
      "Iters. done: 25 [Current cost: -1.8108553190880001]\n",
      "Iters. done: 26 [Current cost: -1.741742574608]\n",
      "Iters. done: 27 [Current cost: -1.835478586632]\n",
      "Iters. done: 28 [Current cost: -1.6501411784159998]\n",
      "Iters. done: 29 [Current cost: -1.789729734176]\n",
      "Iters. done: 30 [Current cost: -1.8304958875680002]\n"
     ]
    }
   ],
   "source": [
    "x0 = np.ones(ansatz_2.num_parameters)\n",
    "with Batch(backend=backend) as batch:\n",
    "    cost_history_dict = {\n",
    "        \"prev_vector\": None,\n",
    "        \"iters\": 0,\n",
    "        \"cost_history\": [],\n",
    "    }\n",
    "    estimator = Estimator(mode=batch)\n",
    "    estimator.options.default_shots = 10000\n",
    "\n",
    "    res = minimize(\n",
    "        cost_func,\n",
    "        x0,\n",
    "        args=(ansatz_isa_2, hamiltonian_isa_2, estimator),\n",
    "        method=\"cobyla\",\n",
    "        options={\"maxiter\": 30},\n",
    "    )\n",
    "batch.close()"
   ]
  },
  {
   "cell_type": "code",
   "execution_count": 53,
   "id": "e45ea4f0-07f7-428f-ac62-76b14dbcb7ae",
   "metadata": {},
   "outputs": [],
   "source": [
    "ansatz_2_history = cost_history_dict[\"cost_history\"]"
   ]
  },
  {
   "cell_type": "code",
   "execution_count": null,
   "id": "23fcc051-87f8-4443-b74f-f20aae7b3830",
   "metadata": {},
   "outputs": [
    {
     "data": {
      "text/plain": [
       "<Image src=\"/learning/images/modules/computer-science/VQE/extracted-outputs/23fcc051-87f8-4443-b74f-f20aae7b3830-0.avif\" alt=\"Output of the previous code cell\" />"
      ]
     },
     "metadata": {},
     "output_type": "display_data"
    }
   ],
   "source": [
    "fig, ax = plt.subplots()\n",
    "\n",
    "# Define the constant function)\n",
    "ax.plot(\n",
    "    range(cost_history_dict[\"iters\"]),\n",
    "    ansatz_1_history,\n",
    "    label=\"Ansatz with 3 parameters\",\n",
    ")\n",
    "ax.plot(\n",
    "    range(cost_history_dict[\"iters\"]),\n",
    "    ansatz_2_history,\n",
    "    label=\"Ansatz with 12 parameters\",\n",
    ")\n",
    "ax.set_xlabel(\"Iterations\")\n",
    "ax.set_ylabel(\"Cost (Hartree)\")\n",
    "plt.legend()\n",
    "plt.draw()"
   ]
  },
  {
   "cell_type": "markdown",
   "id": "a9369d90-ff2e-4706-8ee7-0869fdf47f96",
   "metadata": {},
   "source": [
    "The graph above clearly demonstrates that the optimization process of the ansatz with more variables takes more time.\n",
    "\n",
    "Rather than relying on simple 1-qubit circuits and a straightforward Ansatz, the complexity of optimization increases when larger quantum circuits and more complex structured Ansatz are required. This highlights a well-known challenge in Variational Quantum Eigensolvers (VQE): the overhead of the optimizer.\n",
    "\n",
    "Researchers continue to develop various advanced methodologies that can use quantum computers for chemistry problems. You can access a variety of educational materials at [IBM Quantum Learning](https://quantum.cloud.ibm.com/learning/en)."
   ]
  },
  {
   "cell_type": "markdown",
   "id": "e2d31ba6-ba38-4eaa-866c-86fcce27684e",
   "metadata": {},
   "source": [
    "## References\n",
    "\n",
    "- [[ref 1](https://link.springer.com/article/10.1007/BF02650179) ] Richard P. Feynman, Simulating Physics with Computers, International Journal of Theoretical Physics, 1982.\n",
    "- [ref 2] Marov, M.Y. (2015). The Structure of the Universe. In: The Fundamentals of Modern Astrophysics. Springer, New York, NY.\n",
    "- [[ref 3](https://www.ibm.com/quantum/blog/photoresists-quantum-chemistry-jsr)] How to solve difficult chemical engineering problems with quantum computing, IBM Research Blog, 2023.\n",
    "- [[ref 4](https://ieeexplore.ieee.org/document/8585034)] Y. Cao, J. Romero and A. Aspuru-Guzik, \"Potential of quantum computing for drug discovery,\" in IBM Journal of Research and Development, vol. 62, no. 6, pp. 6:1-6:20, 1 Nov.-Dec. 2018\n",
    "- [[ref 5](https://journals.aps.org/rmp/abstract/10.1103/RevModPhys.32.170)] Present State of Molecular Structure Calculation, REv. Mod. Phys. 32, 170, 1960\n",
    "- [[ref 6](https://jmsh.springeropen.com/articles/10.1186/s41313-021-00032-6)] Fedorov, D.A., Peng, B., Govind, N. et al. VQE method: a short survey and recent developments. Mater Theory 6, 2 (2022)"
   ]
  }
 ],
 "metadata": {
  "description": "Learn what is a variational quantum eigensolver and compute the activation energy of H+H=H2 reaction with this.",
  "kernelspec": {
   "display_name": "Python 3",
   "language": "python",
   "name": "python3"
  },
  "language_info": {
   "codemirror_mode": {
    "name": "ipython",
    "version": 3
   },
   "file_extension": ".py",
   "mimetype": "text/x-python",
   "name": "python",
   "nbconvert_exporter": "python",
   "pygments_lexer": "ipython3",
   "version": "3"
  },
  "title": "Variational Quantum Eigensolver",
  "widgets": {
   "application/vnd.jupyter.widget-state+json": {
    "state": {},
    "version_major": 2,
    "version_minor": 0
   }
  }
 },
 "nbformat": 4,
 "nbformat_minor": 4
}
