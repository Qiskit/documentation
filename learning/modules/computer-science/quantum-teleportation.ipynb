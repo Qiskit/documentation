{
 "cells": [
  {
   "cell_type": "markdown",
   "id": "3e8391e9-be00-46b0-81a9-5474ae778663",
   "metadata": {},
   "source": [
    "# Quantum teleportation\n",
    "\n",
    "For this Qiskit in Classrooms module, students must have a working Python environment with the following packages installed:\n",
    "- `qiskit` v1.3 or newer\n",
    "- `qiskit-ibm-runtime` v0.29.0 or newer\n",
    "- `qiskit-aer` v15.0 or newer\n",
    "- `qiskit.visualization`\n",
    "\n",
    "To set up and install the packages above, see the [Install Qiskit](/docs/guides/install-qiskit) guide.\n",
    "In order to run jobs on real quantum computers, students will need to set up an account with IBM Quantum&reg; by following the steps in the [Set up your IBM Cloud account](/docs/guides/cloud-setup) guide."
   ]
  },
  {
   "cell_type": "markdown",
   "id": "404ed202-a761-4e82-a480-ce59d4b04adf",
   "metadata": {},
   "source": [
    "-------\n",
    "\n",
    "Click the image below to watch the module walkthrough by Dr. Katie McCormick.\n",
    "\n",
    "\n",
    "<ImageLink\n",
    "  title=\"How Quantum Teleportation Really Works\"\n",
    "  alt=\"YT thumbnail\"\n",
    "  href=\"https://youtu.be/jxqnzltpDdE?si=UVL58hFOOWe2Q9qI\"\n",
    "  src=\"/learning/images/modules/computer-science/quantum-teleportation/YT-thumb.avif\"\n",
    "/>"
   ]
  },
  {
   "cell_type": "markdown",
   "id": "a200b899-0c56-4f69-a7ba-0ca4d83e47cd",
   "metadata": {},
   "source": [
    "## Introduction and background\n",
    "\n",
    "Quantum teleportation is a technique in quantum physics that allows the transfer of quantum information from one location to another without physically moving particles. Unlike the sci-fi concept of teleportation, this process doesn't involve transporting matter. Instead, it relies on the principle of quantum entanglement, where two particles become linked regardless of distance. Through a series of precise measurements and classical communication, the quantum state of one particle can be recreated in another particle at a distant location, effectively \"teleporting\" the quantum information. In this module, we'll see how this works mathematically, and then we will implement quantum teleportation on a real quantum computer. The introduction here will be brief; for more background on quantum information, and more explanation about teleportation, we recommend John Watrous's course on the [Basics of quantum information](/learning/courses/basics-of-quantum-information), and in particular the section on [Teleportation.](/learning/courses/basics-of-quantum-information/entanglement-in-action/quantum-teleportation)\n",
    "\n",
    "Classical bits can be in states 0 or 1. Quantum bits (qubits) can be in quantum states denoted $|0\\rangle$ and $|1\\rangle$ and also linear combinations of these states, called \"superpositions\", such as $|\\psi\\rangle = \\alpha_0|0\\rangle +\\alpha_1|1\\rangle$, with $\\alpha_0,\\alpha_1 \\in \\mathbb{C},$ and $|\\alpha_0|^2+|\\alpha_1|^2 = 1.$ Although the states can exist in this superposition, a measurement of the state will \"collapse\" it into either the $|0\\rangle$ or $|1\\rangle$ states. The parameters $a$ and $b$ are related to the probability of each measurement outcome according to\n",
    "\n",
    "$$\n",
    "P_0 = |\\alpha_0|^2\n",
    "$$\n",
    "\n",
    "$$\n",
    "P_1 = |\\alpha_1|^2\n",
    "$$\n",
    "\n",
    "Hence the constraint that $|\\alpha_0|^2+|\\alpha_1|^2 = 1.$\n",
    "\n",
    "Another key feature is that quantum bits can be \"entangled\", which means that the measurement of one qubit can affect the outcome of the measurement of another, entangled qubit. Understanding how entanglement is different from simple classical correlations is a bit tricky. Let's first explain our notation. Call two qubits belonging to friend 0 (Alice) and friend 1 (Bob), and each in the $|0\\rangle$ state\n",
    "\n",
    "$$\n",
    "|0\\rangle_B|0\\rangle_A\n",
    "$$\n",
    "\n",
    "or\n",
    "\n",
    "$$\n",
    "|0\\rangle_1|0\\rangle_0\n",
    "$$\n",
    "\n",
    "sometimes shortened to simply\n",
    "\n",
    "$$\n",
    "|00\\rangle\n",
    "$$\n",
    "\n",
    "Note that the lowest-numbered (or lettered) qubit is furthest to the right. This is a convention called \"little-endian\" notation, used throughout Qiskit.\n",
    "If the two-qubit state of the friends is $|00\\rangle,$ and they measure the state of their respective qubits, they will each find a 0. Similarly if the qubits were in the state $|11\\rangle,$ each of their measurements would yield a 1. That is no different from the classical case. However, in quantum computing, we can combine this with superposition to obtain states like\n",
    "\n",
    "$$\n",
    "\\frac{1}{\\sqrt{2}}(|00\\rangle+|11\\rangle)\n",
    "$$\n",
    "\n",
    "In a state like this, whether Alice and Bob have qubits in the state 0 or 1 is not yet known, not even yet determined by nature, and yet we know they will measure the same state for their qubit. For example, if Bob measures his qubit to be in the state $|0\\rangle,$ the only way for that to happen is if the measurement has collapsed the two-qubit state to one of the two possible states, specifically to $|00\\rangle.$ That leaves Alice's qubit also in the $|0\\rangle$ state.\n",
    "\n",
    "The entangled of qubits in this way does not require that the qubits remain physically close to one another. In other words, we could entangle qubits, then separate them by a large distance, and use their entanglement to send information. An entangled state like the one above is a basic unit of entanglement, and is sometimes referred to as an \"e-bit\", a single bit of entanglement. These e-bits can be thought of as resources in quantum communication, since each e-bit shared between distant partners can be used, as we outline here, to move information from one location to another.\n",
    "\n",
    "The first thought for many people learning about this for the first time is about violating relativity: can we use this to send information faster than light? By all means, keep questioning and probing scientific rules, but unfortunately this won't allow us to send information faster than light, for reasons that will become clear through the course of this module. Spoiler: amazingly it is NOT due to the speed at which this collapse propagates, which does appear to happen faster than light [[1]](https://www.nature.com/articles/nature15759)."
   ]
  },
  {
   "cell_type": "markdown",
   "id": "4ce474e6-cea7-4327-9742-9e1a7dd468b0",
   "metadata": {},
   "source": [
    "We start with two collaborators Alice and Bob, who are initially in the same location and can work together on the same qubits. These collaborators will entangle their qubits. Then they will move apart to two different geographic locations, bringing their respective qubits with them. Alice will then obtain quantum information on a new qubit Q. We make no assumptions about the information on Q. The state of Q could be a secret unknown to Alice; it could be unknown to all people. But Alice is given the task of transferring the information on Q to Bob. She will do this using quantum teleportation.\n",
    "\n",
    "To accomplish this, we will need to know some quantum operations or \"gates\"."
   ]
  },
  {
   "cell_type": "markdown",
   "id": "03fe38b1-66fe-4c50-8403-d8c64197b5c6",
   "metadata": {},
   "source": [
    "## Quantum operators (gates)\n",
    "\n",
    "Feel free to skip this section if you are already familiar with quantum gates. If you want to understand these gates better, check out [Basics of quantum information](/learning/courses/basics-of-quantum-information), especially the first two lessons, on IBM Quantum Learning.\n",
    "\n",
    "For this teleportation protocol we will primarily use two types of quantum gates: the Hadamard gate, the CNOT gate. A few others will play a lesser role: the $X$ gate, $Z$ gate, and the SWAP gate.\n",
    "\n",
    "This module can be completed with very limited linear algebra background, but sometimes visualizing quantum mechanical gates using matrices and vectors can be helpful. So we present here the matrix/vector forms of quantum gates/states, as well.\n",
    "\n",
    "The states we have already presented are chosen (partly by convention and partly by constraints) to have vector forms:\n",
    "$$\n",
    "|0\\rangle = \\begin{pmatrix}1 \\\\ 0\\end{pmatrix}\n",
    "$$\n",
    "\n",
    "$$\n",
    "|1\\rangle = \\begin{pmatrix}0 \\\\ 1\\end{pmatrix}\n",
    "$$\n",
    "\n",
    "In this way, an arbitrary state $|\\psi\\rangle = a|0\\rangle+b|1\\rangle$ can be written as\n",
    "$$\n",
    "|\\psi\\rangle =\\begin{pmatrix}a \\\\ b\\end{pmatrix}\n",
    "$$\n",
    "\n",
    "There is some choice in how to extend the notation to multiple-qubit states, but the choice below is quite standard:\n",
    "\n",
    "$$\n",
    "|00\\rangle = \\begin{pmatrix}1 \\\\ 0 \\\\ 0 \\\\ 0\\end{pmatrix},|01\\rangle = \\begin{pmatrix}0 \\\\ 1 \\\\ 0 \\\\ 0\\end{pmatrix},\n",
    "|10\\rangle = \\begin{pmatrix}0 \\\\ 0 \\\\ 1 \\\\0\\end{pmatrix},|11\\rangle = \\begin{pmatrix}0 \\\\ 0 \\\\ 0 \\\\ 1\\end{pmatrix}.\n",
    "$$\n",
    "\n",
    "With this choice of vector notation in mind, we can introduce our needed quantum gates, their effects on quantum states, and their matrix forms.\n",
    "\n",
    "__H Hadamard Gate:__ Creates a superposition state. Single-qubit gate.\n",
    "$$\n",
    "H|0\\rangle = \\frac{1}{2}\\left(|0\\rangle+|1\\rangle\\right),\n",
    "$$\n",
    "\n",
    "$$\n",
    "H|1\\rangle = \\frac{1}{2}\\left(|0\\rangle-|1\\rangle\\right)\n",
    "$$\n",
    "\n",
    "$$\n",
    "H=\\frac{1}{2}\\begin{pmatrix} 1 & 1 \\\\ 1 & -1 \\end{pmatrix}\n",
    "$$\n",
    "\n",
    "A circuit with a Hadamard gate is made as follows:"
   ]
  },
  {
   "cell_type": "code",
   "execution_count": 1,
   "id": "a66b8ef2-6660-45b8-97bd-dbc98db49857",
   "metadata": {},
   "outputs": [
    {
     "data": {
      "text/plain": [
       "<Image src=\"/learning/images/modules/computer-science/quantum-teleportation/extracted-outputs/a67dda0c-36ec-4562-8dca-8a8d1438e4f1-0.avif\" alt=\"Output of the previous code cell\" />"
      ]
     },
     "execution_count": 1,
     "metadata": {},
     "output_type": "execute_result"
    }
   ],
   "source": [
    "from qiskit import QuantumCircuit\n",
    "\n",
    "qc = QuantumCircuit(1)\n",
    "qc.h(0)\n",
    "qc.draw(\"mpl\")"
   ]
  },
  {
   "cell_type": "markdown",
   "id": "19b06d0f-0811-48aa-bf5d-a575f7b63876",
   "metadata": {},
   "source": [
    "__CNOT Controlled-NOT Gate:__ This gate uses two qubits: a control and a target. Checks the state of a control qubit which is not changed. But if the control qubit is in the state $|1\\rangle$, the gate changes the state of the target qubit; if the state of the control qubit is $|0\\rangle$ no change is made at all. In the notation below, assume the qubit $A$ (right-most qubit) is the control, and qubit $B$ (the left-most qubit) is the target. Below, the notation used is $CNOT(q_{control},q_{target})|BA\\rangle.$\n",
    "\n",
    "$$\n",
    "CNOT(A,B)|00\\rangle = |00\\rangle, \\\\ CNOT(A,B)|01\\rangle = |11\\rangle, \\\\ CNOT(A,B)|10\\rangle = |10\\rangle, \\\\ CNOT(A,B)|11\\rangle = |01\\rangle\n",
    "$$\n",
    "\n",
    "You may sometimes see CNOT written with the order of the control and target simply implied. But there is no such ambiguity in code or in circuit diagrams.\n",
    "\n",
    "$$\n",
    "CNOT=\\begin{pmatrix} 1 & 0 & 0 & 0 \\\\ 0 & 0 & 0 & 1 \\\\ 0 & 0 & 1 & 0 \\\\ 0 & 1 & 0 & 0\\end{pmatrix}\n",
    "$$\n",
    "\n",
    "A CNOT gate looks a bit different in a circuit, since it requires two qubits. This is how it is implemented:"
   ]
  },
  {
   "cell_type": "code",
   "execution_count": 2,
   "id": "df5acfc1-feb8-4008-8e51-d9709352edde",
   "metadata": {},
   "outputs": [
    {
     "data": {
      "text/plain": [
       "<Image src=\"/learning/images/modules/computer-science/quantum-teleportation/extracted-outputs/4dff96ee-d782-43e7-bcb9-1b3134245919-0.avif\" alt=\"Output of the previous code cell\" />"
      ]
     },
     "execution_count": 2,
     "metadata": {},
     "output_type": "execute_result"
    }
   ],
   "source": [
    "qc = QuantumCircuit(2)\n",
    "qc.cx(0, 1)\n",
    "qc.draw(\"mpl\")"
   ]
  },
  {
   "cell_type": "markdown",
   "id": "131d90c7-6ef3-4c32-a01b-52da9f8e0e83",
   "metadata": {},
   "source": [
    "### Check-in question\n",
    "\n",
    "Most gates have the same matrix form in Qiskit as everywhere else. But the CNOT gate acts on two qubits, and so suddenly ordering conventions of qubits becomes an issue. Texts that order qubits $|q_0,q_1,...\\rangle$ will show a different matrix form for their CNOT gates. Verify by explicit matrix multiplication that the CNOT matrix above has the correct action on the state $|01\\rangle.$\n",
    "\n",
    "<details>\n",
    "<summary>\n",
    "\n",
    "<b>Answer:</b>\n",
    "\n",
    "</summary>\n",
    "\n",
    "\n",
    "$$CNOT|01\\rangle =\\begin{pmatrix} 1 & 0 & 0 & 0 \\\\ 0 & 0 & 0 & 1 \\\\ 0 & 0 & 1 & 0 \\\\ 0 & 1 & 0 & 0\\end{pmatrix}\\begin{pmatrix}0 \\\\ 1 \\\\ 0 \\\\0\\end{pmatrix} = \\begin{pmatrix}0 \\\\ 0 \\\\ 0 \\\\1\\end{pmatrix} = |11\\rangle$$\n",
    "\n",
    "\n",
    "</details>"
   ]
  },
  {
   "cell_type": "markdown",
   "id": "2c1a61f3-770a-443e-8e01-26fc1106f92b",
   "metadata": {},
   "source": [
    "**$X$ Gate**: Equivalent to a NOT operation. Single-qubit gate.\n",
    "\n",
    "$$\n",
    "X|0\\rangle = |1\\rangle,\\\\X|1\\rangle=|0\\rangle\n",
    "$$\n",
    "\n",
    "$$\n",
    "X=\\begin{pmatrix} 0 & 1 \\\\ 1 & 0 \\end{pmatrix}\n",
    "$$\n",
    "\n",
    "In Qiskit, creating a circuit with an $X$ gate looks like this:"
   ]
  },
  {
   "cell_type": "code",
   "execution_count": 3,
   "id": "5a23a576-385b-4a7c-899d-67ef4bb0bfed",
   "metadata": {},
   "outputs": [
    {
     "data": {
      "text/plain": [
       "<Image src=\"/learning/images/modules/computer-science/quantum-teleportation/extracted-outputs/d095e9d9-167b-4929-894f-5a6c14d9fa03-0.avif\" alt=\"Output of the previous code cell\" />"
      ]
     },
     "execution_count": 3,
     "metadata": {},
     "output_type": "execute_result"
    }
   ],
   "source": [
    "qc = QuantumCircuit(1)\n",
    "qc.x(0)\n",
    "qc.draw(\"mpl\")"
   ]
  },
  {
   "cell_type": "markdown",
   "id": "81eaa9dc-740a-4a99-8950-fc7724c6440b",
   "metadata": {},
   "source": [
    "**$Z$ Gate**: Adds a \"phase\" to a state (a prefactor, which in the cases of the Z eigenstates $|0\\rangle$ and $|1\\rangle$ either a 1, or -1, respectively). Single-qubit gate.\n",
    "\n",
    "$$\n",
    "Z|0\\rangle = |0\\rangle,\\\\Z|1\\rangle=-|1\\rangle\n",
    "$$\n",
    "\n",
    "$$\n",
    "Z=\\begin{pmatrix} 1 & 0 \\\\ 0 & -1 \\end{pmatrix}\n",
    "$$\n",
    "\n",
    "In Qiskit, creating a circuit with an $Z$ gate looks like this:"
   ]
  },
  {
   "cell_type": "code",
   "execution_count": 4,
   "id": "653b2420-eaa8-41ef-8262-3a9efa638cd3",
   "metadata": {},
   "outputs": [
    {
     "data": {
      "text/plain": [
       "<Image src=\"/learning/images/modules/computer-science/quantum-teleportation/extracted-outputs/75098261-68c0-43df-b5b2-71018ab380f5-0.avif\" alt=\"Output of the previous code cell\" />"
      ]
     },
     "execution_count": 4,
     "metadata": {},
     "output_type": "execute_result"
    }
   ],
   "source": [
    "qc = QuantumCircuit(1)\n",
    "qc.z(0)\n",
    "qc.draw(\"mpl\")"
   ]
  },
  {
   "cell_type": "markdown",
   "id": "476c82d2-4c58-4c25-8f0d-646cd4afb757",
   "metadata": {},
   "source": [
    "## Theory\n",
    "\n",
    "Let's lay out the protocol for quantum teleportation using math. Then, in the next section, we'll realize this setup using a quantum computer.\n",
    "\n",
    "__Alice and Bob entangle their qubits:__ Initially, Alice's qubit and Bob's qubit are each, separately in the $|0\\rangle$ state (a fine assumption and also the correct initialization for IBM&reg; quantum computers). We can write this as $|0\\rangle_B|0\\rangle_A$ or simply as $|00\\rangle$. Let's calculate what happens when Alice and Bob act with the Hadamard gate on Alice's qubit, and then a CNOT gate with Alice's qubit as the control and Bob's as the target:\n",
    "\n",
    "$$\n",
    "\\begin{aligned}\n",
    "CNOT(A,B)H_A |0\\rangle_B|0\\rangle_A &= CNOT(A,B)|0\\rangle_B\\frac{1}{\\sqrt{2}}\\left(|0\\rangle_A+|1\\rangle_A\\right)\\\\\n",
    "&=\\frac{1}{\\sqrt{2}}\\left(CNOT(A,B)|0\\rangle_B|0\\rangle_A+CNOT(A,B)|0\\rangle_B|1\\rangle_A\\right)\\\\\n",
    "&=\\frac{1}{\\sqrt{2}}\\left(|0\\rangle_B|0\\rangle_A+|1\\rangle_B|1\\rangle_A\\right)\n",
    "\\end{aligned}\n",
    "$$\n",
    "\n",
    "Note that now Alice's and Bob's qubits are entangled. Although it is not yet determined by nature whether both their qubits are in the $|0\\rangle$ state or the $|1\\rangle$ state, it is known that their qubits are in the same state."
   ]
  },
  {
   "cell_type": "markdown",
   "id": "b51aed85-2976-4c46-a1d8-07dba8af78fe",
   "metadata": {},
   "source": [
    "__Alice and Bob separate:__ The two friends move their qubits to new locations, possibly very far apart. This comes with a lot of caveats: it is not trivial to move quantum information without disturbing it. But it can be moved, and indeed you will move it in this module. But keep in mind as a caveat that we expect to encounter some errors when we move quantum information around a lot.\n",
    "\n",
    "__Q is introduced:__ The secret state is prepared on qubit Q:\n",
    "\n",
    "$$\n",
    "|\\psi\\rangle_Q = \\alpha_0 |0\\rangle_Q + \\alpha_1 |1\\rangle_Q\n",
    "$$\n",
    "\n",
    "At this point Q is simply adjacent to Alice's qubit (A). There has been no entanglement, so the quantum state of the three qubits together can be written as:\n",
    "\n",
    "$$\n",
    "|\\psi\\rangle_{AB}|\\psi\\rangle_Q = \\frac{1}{\\sqrt{2}}\\left(|0\\rangle_B|0\\rangle_A+|1\\rangle_B|1\\rangle_A\\right)\\left(\\alpha_0 |0\\rangle_Q + \\alpha_1 |1\\rangle_Q\\right).\n",
    "$$\n",
    "\n",
    "The goal is to move the information on Q from Alice's location to the location of Bob. At this point, we are not making any claims or requirements about secrecy or speed of information transfer. We are simply exploring how information can move from Alice to Bob."
   ]
  },
  {
   "cell_type": "markdown",
   "id": "cd8f8dab-601f-42b6-8b1e-027568f8726c",
   "metadata": {},
   "source": [
    "Because the information begins on Q, we will assume Q is assigned the lowest number in qubit numbers, such that little endian notation causes Q to be the right-most qubit in the math below.\n",
    "\n",
    "__Alice entangles qubits A and Q:__ Alice now operates with a CNOT gate with her own qubit as the control and Q as the target, then applies a Hadamard gate to Q.  Let's calculate the three-qubit state after that operation:\n",
    "\n",
    "$$\n",
    "\\begin{aligned}\n",
    "H_Q CNOT(A,Q)|\\psi\\rangle_{AB}|\\psi\\rangle_Q &= H_Q CNOT(A,Q)\\frac{1}{\\sqrt{2}}\\left(|0\\rangle_B|0\\rangle_A+|1\\rangle_B|1\\rangle_A\\right)\\left(\\alpha_0 |0\\rangle_Q + \\alpha_1 |1\\rangle_Q\\right)\\\\\n",
    "&= H_Q CNOT(A,Q)\\frac{1}{\\sqrt{2}}\\left(\\left(\\alpha_0 |0\\rangle_B|0\\rangle_A|0\\rangle_Q + \\alpha_1 |0\\rangle_B|0\\rangle_A|1\\rangle_Q\\right)+\\left(\\alpha_0 |1\\rangle_B|1\\rangle_A|0\\rangle_Q + \\alpha_1 |1\\rangle_B|1\\rangle_A|1\\rangle_Q\\right)\\right)\\\\\n",
    "&= H_Q \\frac{1}{\\sqrt{2}}\\left(\\alpha_0 |0\\rangle_B|0\\rangle_A|0\\rangle_Q + \\alpha_1 |0\\rangle_B|1\\rangle_A|1\\rangle_Q+\\alpha_0 |1\\rangle_B|1\\rangle_A|0\\rangle_Q + \\alpha_1 |1\\rangle_B|0\\rangle_A|1\\rangle_Q\\right)\\\\\n",
    "&= \\frac{1}{2}\\left(\\alpha_0 |0\\rangle_B|0\\rangle_A|0\\rangle_Q + \\alpha_0 |0\\rangle_B|0\\rangle_A|1\\rangle_Q + \\alpha_1 |0\\rangle_B|1\\rangle_A|0\\rangle_Q-\\alpha_1 |0\\rangle_B|1\\rangle_A|1\\rangle_Q\\right)\\\\\n",
    "&+\\frac{1}{2}\\left(\\alpha_0 |1\\rangle_B|1\\rangle_A|0\\rangle_Q + \\alpha_0 |1\\rangle_B|1\\rangle_A|1\\rangle_Q + \\alpha_1 |1\\rangle_B|0\\rangle_A|0\\rangle_Q - \\alpha_1 |1\\rangle_B|0\\rangle_A|1\\rangle_Q\\right)\n",
    "\\end{aligned}\n",
    "$$"
   ]
  },
  {
   "cell_type": "markdown",
   "id": "78aaf4c7-2775-483e-91cd-11d400793776",
   "metadata": {},
   "source": [
    "Because A and Q are in the same location, let us group the terms above according to the outcomes of measurements on qubits A and Q:\n",
    "$$\n",
    "\\begin{aligned}\n",
    "|\\psi\\rangle = \\frac{1}{2}\\left((\\alpha_0 |0\\rangle_B+\\alpha_1 |1\\rangle_B)|0\\rangle_A|0\\rangle_Q +  (\\alpha_0 |0\\rangle_B-\\alpha_1 |1\\rangle_B)|0\\rangle_A|1\\rangle_Q + (\\alpha_1 |0\\rangle_B+\\alpha_0 |1\\rangle_B)|1\\rangle_A|0\\rangle_Q+ (-\\alpha_1 |0\\rangle_B+\\alpha_0 |1\\rangle_B)|1\\rangle_A|1\\rangle_Q \\right)\\\\\n",
    "\\end{aligned}\n",
    "$$\n",
    "\n",
    "### Check-in question\n",
    "\n",
    "Given the expression above for the states of all three qubits, what is the probability that a measurement of qubits A and Q yields $|0\\rangle_A|0\\rangle_Q?$\n",
    "\n",
    "<details>\n",
    "<summary>\n",
    "\n",
    "<b>Answer:</b>\n",
    "\n",
    "</summary>\n",
    "\n",
    "25%. To see this, recall that Bob's state must be normalized, so\n",
    "$$ |_A \\langle0|_Q\\langle0| \\frac{1}{2} |0\\rangle_A|0\\rangle_Q (\\alpha_0 |0\\rangle_B+\\alpha_1 |1\\rangle_B)|^2 = \\frac{1}{4}|(\\alpha_0 |0\\rangle_B+\\alpha_1 |1\\rangle_B)|^2 = \\frac{1}{4}$$\n",
    "\n",
    "</details>"
   ]
  },
  {
   "cell_type": "markdown",
   "id": "8df3034b-9807-487b-a046-e689061cb026",
   "metadata": {},
   "source": [
    "Now, Alice can measure qubits A and Q . She cannot control the outcome of that measurement, since quantum measurements are probabilistic. So when she measures, there are 4 possible outcomes and all 4 are equally likely: $|0\\rangle_A|0\\rangle_Q,$ $|0\\rangle_A|1\\rangle_Q,$ $|1\\rangle_A|0\\rangle_Q,$ and $|1\\rangle_A|1\\rangle_Q.$ Note that each outcome has different implications for Bob's qubit. For example, if Alice finds her qubits to be in $|0\\rangle_A|0\\rangle_Q,$ that has collapsed the entire, 3-qubit quantum state to $(\\alpha_0|0\\rangle_B+\\alpha_1|1\\rangle_B)|0\\rangle_A|0\\rangle_Q.$ Other measurement outcomes for Alice yield different states for Bob. These are collected together in the table below."
   ]
  },
  {
   "cell_type": "markdown",
   "id": "99e01c8f-e6e1-4679-8e48-1e33a1b78e63",
   "metadata": {},
   "source": [
    "| Alice outcome | Bob's state  | Instruction to Bob| Result |\n",
    "| ----------- | ----------------------------------------------------------------------------------------------------------------------------------------------------------------------------------------------------------------------------------------------------------------------------------------------------------------------------------------------------------------- | ---------------------------------- | -------------------------|\n",
    "| $ \\vert 0\\rangle_A \\vert 0\\rangle_Q$ |     $\\alpha_0\\vert 0\\rangle_B+\\alpha_1\\vert 1\\rangle_B$        |        None           | $\\alpha_0\\vert 0\\rangle_B+\\alpha_1\\vert 1\\rangle_B$|\n",
    "| $ \\vert 0\\rangle_A \\vert 1\\rangle_Q$ |     $\\alpha_0\\vert 0\\rangle_B-\\alpha_1\\vert 1\\rangle_B$        |        $Z$           |  $\\alpha_0\\vert 0\\rangle_B+\\alpha_1\\vert 1\\rangle_B$|\n",
    "| $ \\vert 1\\rangle_A \\vert 0\\rangle_Q$ |     $\\alpha_1\\vert 0\\rangle_B+\\alpha_0\\vert 1\\rangle_B$       |        $X$           |  $\\alpha_0\\vert 0\\rangle_B+\\alpha_1\\vert 1\\rangle_B$|\n",
    "| $ \\vert 1\\rangle_A \\vert 1\\rangle_Q$ |     $-\\alpha_1\\vert 0\\rangle_B+\\alpha_0\\vert 1\\rangle_B$       |        $X$ then $Z$           | $\\alpha_0\\vert 0\\rangle_B+\\alpha_1\\vert 1\\rangle_B$|"
   ]
  },
  {
   "cell_type": "markdown",
   "id": "ff32d084-31ea-4408-b3cb-b5bebb845a3b",
   "metadata": {},
   "source": [
    "For all the possible measurement outcomes on Alice's qubits, Bob's qubit is left in a state vaguely resembling the secret state originally on Q. In the case where Alice measures $|0\\rangle_C|0\\rangle_A$ (the first row of the table), Bob's qubit is left in exactly the secret state! In the other cases, there is something off about the state. The coefficients ($\\alpha$'s) are swapped, or there is a \"-\" sign where there should be a \"+\" sign, or both. In order to modify Bob's qubit to make it exactly equal to the secret state, Alice must call Bob (use some means of classical communication) and tell Bob to perform additional operations on his qubit, as outlined in the table. For example, in the third row the coefficients are swapped. If Alice calls Bob and tells him to apply an $X$ gate to his qubit, it changes a $|0\\rangle$ to a $|1\\rangle$ and vice-versa, and out comes the secret state.\n",
    "\n",
    "It should now be clear why we can't use this setup to send information faster than light. We might get lucky and measure $|0\\rangle_A|0\\rangle_Q,$ meaning Bob has exactly the secret state, instantly. But Bob doesn't know that until we call him and tell him \"We measured $|0\\rangle_A|0\\rangle_Q$, so you don't have to do anything.\"\n",
    "\n",
    "In the thought experiment, the qubits are often physically separated and taken to a new location. IBM quantum computers use solid-state qubits on a chip that can't be separated. So instead of moving Alice and Bob to different locations, we will separate the information on the chip itself by using so-called \"swap gates\" to move the information from one qubit to another."
   ]
  },
  {
   "cell_type": "markdown",
   "id": "efa0afed-97e7-42fd-a06d-7c095e703537",
   "metadata": {},
   "source": [
    "## Experiment 1: Basic teleportation\n",
    "\n",
    "IBM Quantum recommends tackling quantum computing problems using a framework we call \"Qiskit patterns\". It consists of the following steps.\n",
    "- Step 1: Map your problem to a quantum circuit\n",
    "- Step 2: Optimize your circuit for running on real quantum hardware\n",
    "- Step 3: Execute your job on IBM quantum computers using Runtime Primitives\n",
    "- Step 4: Post-process the results\n",
    "\n",
    "### Step 1: Map your problem to a quantum circuit\n",
    "\n",
    "All the math we did above was outlining step 1. We will implement it now, building our quantum circuit using Qiskit! We start creating a quantum circuit with three qubits, and entangling the two qubits of Alice and Bob. We will take these to be qubits 1 and 2, and we will reserve qubit 0 for the secret state."
   ]
  },
  {
   "cell_type": "code",
   "execution_count": null,
   "id": "6e3e0d07-b52f-4e17-9233-0a00065f2d77",
   "metadata": {},
   "outputs": [
    {
     "data": {
      "text/plain": [
       "<Image src=\"/learning/images/modules/computer-science/quantum-teleportation/extracted-outputs/8fa24fa3-6fec-4444-b91a-380d51e76dc8-0.avif\" alt=\"Output of the previous code cell\" />"
      ]
     },
     "execution_count": 17,
     "metadata": {},
     "output_type": "execute_result"
    }
   ],
   "source": [
    "# Step 1: Map your problem to a quantum circuit\n",
    "\n",
    "# Import some general packages\n",
    "from qiskit import ClassicalRegister, QuantumCircuit, QuantumRegister\n",
    "import numpy as np\n",
    "\n",
    "# Define registers\n",
    "secret = QuantumRegister(1, \"Q\")\n",
    "Alice = QuantumRegister(1, \"A\")\n",
    "Bob = QuantumRegister(1, \"B\")\n",
    "\n",
    "cr = ClassicalRegister(3, \"c\")\n",
    "\n",
    "qc = QuantumCircuit(secret, Alice, Bob, cr)\n",
    "\n",
    "# We entangle Alice's and Bob's qubits as in our work above. We apply a Hadamard gate and then a CNOT gate.\n",
    "# Note that the second argument in the CNOT gate is the target.\n",
    "qc.h(Alice)\n",
    "qc.cx(Alice, Bob)\n",
    "\n",
    "# Inserting a barrier changes nothing about the logic. It just allows us to force gates to be positioned in \"layers\".\n",
    "qc.barrier()\n",
    "\n",
    "# Now we will use random variables to create the secret state. Don't worry about the \"u\" gate and the details.\n",
    "np.random.seed(42)  # fixing seed for repeatability\n",
    "theta = np.random.uniform(0.0, 1.0) * np.pi  # from 0 to pi\n",
    "varphi = np.random.uniform(0.0, 2.0) * np.pi  # from 0 to 2*pi\n",
    "\n",
    "# Assign the secret state to the qubit on the other side of Alice's (qubit 0), labeled Q\n",
    "qc.u(theta, varphi, 0.0, secret)\n",
    "qc.barrier()\n",
    "\n",
    "# Now entangle Q and Alice's qubits as in the discussion above.\n",
    "qc.cx(secret, Alice)\n",
    "qc.h(secret)\n",
    "qc.barrier()\n",
    "\n",
    "# Now Alice measures her qubits, and stores the outcomes in the \"classical registers\" cr[]\n",
    "qc.measure(Alice, cr[1])\n",
    "qc.measure(secret, cr[0])\n",
    "\n",
    "# Now we insert some conditional logic. If Alice measures Q in a \"1\" we need a Z gate, and if Alice measures A in a \"1\" we need an X gate (see the table).\n",
    "with qc.if_test((cr[1], 1)):\n",
    "    qc.x(Bob)\n",
    "with qc.if_test((cr[0], 1)):\n",
    "    qc.z(Bob)\n",
    "\n",
    "qc.draw(output=\"mpl\")"
   ]
  },
  {
   "cell_type": "markdown",
   "id": "2802dfbf-e3cb-4bd8-80cd-83ec972c7bd9",
   "metadata": {},
   "source": [
    "That's all we have to do to get Alice's state teleported to Bob. However, recall that when we measure a quantum state $\\alpha_0 |0\\rangle+\\alpha_1|1\\rangle$ we find either $|0\\rangle$ or $|1\\rangle.$ So at the end of all this, Bob definitely has Alice's secret state, but we can't easily verify this with a measurement. In order for a measurement to tell us that we did this correctly, we have to do a trick. We had an operator labeled \"U\" for \"unitary\" which we used to prepare Alice's secret state. We can apply the inverse of U at the end of our circuit. If U mapped Alice's $|0\\rangle$ state into $\\alpha_0 |0\\rangle+\\alpha_1|1\\rangle$, then the inverse of U will map Bob's $\\alpha_0 |0\\rangle+\\alpha_1|1\\rangle$ back to $|0\\rangle.$ So this last part wouldn't necessarily be done if the goal were just to move quantum information. This is only done for us to check ourselves."
   ]
  },
  {
   "cell_type": "code",
   "execution_count": 18,
   "id": "dac9d281-6c57-4e70-9a61-74efa5d4bdc2",
   "metadata": {},
   "outputs": [
    {
     "data": {
      "text/plain": [
       "<Image src=\"/learning/images/modules/computer-science/quantum-teleportation/extracted-outputs/e86d983e-8bed-47a5-86d8-88cb679e78f9-0.avif\" alt=\"Output of the previous code cell\" />"
      ]
     },
     "execution_count": 18,
     "metadata": {},
     "output_type": "execute_result"
    }
   ],
   "source": [
    "# Add the inverse of U and measure Bob's qubit.\n",
    "qc.barrier()\n",
    "\n",
    "qc.u(theta, varphi, 0.0, Bob).inverse()  # inverse of u(theta,varphi,0.0)\n",
    "qc.measure(Bob, cr[2])  # add measurement gate\n",
    "\n",
    "qc.draw(output=\"mpl\")"
   ]
  },
  {
   "cell_type": "markdown",
   "id": "bd6643de-e67f-44f6-b83d-d7ea9f314eb8",
   "metadata": {},
   "source": [
    "So if we've done this correctly, our measurement on Bob's qubit should yield a $|0\\rangle$ state. Of course, these measurements are probabilistic. So if there is even a small chance of measuring Bob's qubit to be in the $|1\\rangle$ state, then a single measurement could result in $|1\\rangle.$ We would really want to make many measurements to be assured that the probability of $|0\\rangle$ is quite high.\n",
    "\n",
    "### Step 2: Optimize problem for quantum execution\n",
    "\n",
    "This step takes the operations we want to perform and expresses them in terms of the functionality of a specific quantum computer. It also maps our problem onto the layout of the quantum computer.\n",
    "\n",
    "We will start by loading several packages that are required to communicate with IBM quantum computers. We must also select a backend on which to run. We can either choose the least busy backend, or select a specific backend whose properties we know."
   ]
  },
  {
   "cell_type": "code",
   "execution_count": null,
   "id": "8f24b6b9-db1b-4077-8660-e355e377807e",
   "metadata": {},
   "outputs": [
    {
     "name": "stdout",
     "output_type": "stream",
     "text": [
      "ibm_brisbane\n"
     ]
    }
   ],
   "source": [
    "# Load the Qiskit Runtime service\n",
    "from qiskit_ibm_runtime import QiskitRuntimeService\n",
    "\n",
    "service = QiskitRuntimeService()\n",
    "\n",
    "# Use the least busy backend, or uncomment the loading of a specific backend like \"ibm_brisbane\".\n",
    "backend = service.least_busy(operational=True, simulator=False, min_num_qubits=127)\n",
    "# backend = service.backend(\"ibm_brisbane\")\n",
    "print(backend.name)"
   ]
  },
  {
   "cell_type": "markdown",
   "id": "6074a3b9-54c3-4c52-90ee-f308bd96de76",
   "metadata": {},
   "source": [
    "Now we must \"transpile\" the quantum circuit. This involves many sub-steps and is a fascinating topic. Just to give an example of a sub-step: not all quantum computers can directly implement all logical gates in Qiskit. We must write the gates from our circuit in terms of gates the quantum computer can implement. We can carry out that process, and others, using a preset pass manager. Setting ```optimization = 3``` (the highest level of optimization) ensures that the mapping from our abstract quantum circuit to the instructions given to the quantum computer is as efficient as our pre-processing can get it."
   ]
  },
  {
   "cell_type": "code",
   "execution_count": 21,
   "id": "c533d4a7-c53c-4048-bf99-46e06ad9cb95",
   "metadata": {},
   "outputs": [],
   "source": [
    "# Step 2: Transpile\n",
    "from qiskit.transpiler.preset_passmanagers import generate_preset_pass_manager\n",
    "\n",
    "target = backend.target\n",
    "pm = generate_preset_pass_manager(target=target, optimization_level=3)\n",
    "qc_isa = pm.run(qc)"
   ]
  },
  {
   "cell_type": "markdown",
   "id": "85f3e53c-f910-4427-a977-f6e24798542c",
   "metadata": {},
   "source": [
    "A \"Sampler\" is a primitive designed to sample possible states resulting from a quantum circuit, and collect statistics on what states might be measured and with what probability. We import the Qiskit Runtime Sampler here:"
   ]
  },
  {
   "cell_type": "code",
   "execution_count": 22,
   "id": "d3292506-1486-48cd-bf1e-696135572eab",
   "metadata": {},
   "outputs": [],
   "source": [
    "# Load the Runtime primitive and session\n",
    "from qiskit_ibm_runtime import SamplerV2 as Sampler\n",
    "\n",
    "sampler = Sampler(mode=backend)"
   ]
  },
  {
   "cell_type": "markdown",
   "id": "5ea27bf8-2dbf-4d68-8375-e40e89b71341",
   "metadata": {},
   "source": [
    "Not all computations on a quantum computer can be reasonably simulated on classical computers. This simple teleportation definitely can be, but it isn't at all surprising that we can classically save information in one place or another. We strongly recommend carrying out these calculations using a real IBM quantum computer. But in case you have exhausted your free monthly use, or if something must be completed in class and can't wait in the queue, this module can be completed using a simulator. To do this, simply run the cell below and uncomment the associated lines in the \"Execute\" steps."
   ]
  },
  {
   "cell_type": "code",
   "execution_count": null,
   "id": "2332b984-cff6-4022-b7fa-f100d35a2719",
   "metadata": {},
   "outputs": [],
   "source": [
    "# Load the backend sampler\n",
    "from qiskit.primitives import BackendSamplerV2\n",
    "\n",
    "# Load the Aer simulator and generate a noise model based on the currently-selected backend.\n",
    "from qiskit_aer import AerSimulator\n",
    "from qiskit_aer.noise import NoiseModel\n",
    "\n",
    "from qiskit.providers.fake_provider import GenericBackendV2\n",
    "\n",
    "\n",
    "noise_model = NoiseModel.from_backend(backend)\n",
    "\n",
    "# Define a simulator using Aer, and use it in Sampler.\n",
    "backend_sim = AerSimulator(noise_model=noise_model)\n",
    "sampler_sim = BackendSamplerV2(backend=backend_sim)\n",
    "\n",
    "# Alternatively, load a fake backend with generic properties and define a simulator.\n",
    "backend_gen = GenericBackendV2(num_qubits=18)\n",
    "sampler_gen = BackendSamplerV2(backend=backend_gen)"
   ]
  },
  {
   "cell_type": "markdown",
   "id": "bff5bb04-fc2d-45f4-ab26-98fe9a5a0b5c",
   "metadata": {},
   "source": [
    "### Step 3: Execute\n",
    "\n",
    "Use the sampler to run your job, with the circuit as an argument."
   ]
  },
  {
   "cell_type": "code",
   "execution_count": 24,
   "id": "cbf63f9a-5b93-4bbd-b527-f3892e2188bd",
   "metadata": {},
   "outputs": [],
   "source": [
    "job = sampler.run([qc_isa])\n",
    "# job = sampler_sim.run([qc_isa])\n",
    "res = job.result()\n",
    "counts = res[0].data.c.get_counts()\n",
    "\n",
    "# job = sampler_gen.run([qc_isa])\n",
    "# res=job.result()\n",
    "# counts=res[0].data.c.get_counts()"
   ]
  },
  {
   "cell_type": "markdown",
   "id": "a6a68d85-486a-401a-8336-805713eafd57",
   "metadata": {},
   "source": [
    "### Step 4: Post-processing and analysis\n",
    "\n",
    "Let's plot the results and interpret them."
   ]
  },
  {
   "cell_type": "code",
   "execution_count": 25,
   "id": "47488ddf-9357-41e4-a0fb-45616bee307c",
   "metadata": {},
   "outputs": [
    {
     "data": {
      "text/plain": [
       "<Image src=\"/learning/images/modules/computer-science/quantum-teleportation/extracted-outputs/43171e1f-1b21-4512-9db4-8dd074c9b573-0.avif\" alt=\"Output of the previous code cell\" />"
      ]
     },
     "execution_count": 25,
     "metadata": {},
     "output_type": "execute_result"
    }
   ],
   "source": [
    "# This required 5 s to run on ibm_torino on 10-28-24\n",
    "from qiskit.visualization import plot_histogram\n",
    "\n",
    "plot_histogram(counts)"
   ]
  },
  {
   "cell_type": "markdown",
   "id": "12dcb4f6-d105-41f0-8800-87f291ce1aeb",
   "metadata": {},
   "source": [
    "### Check-in question\n",
    "\n",
    "Which of the states above indicate successful teleportation, and how can you tell?\n",
    "\n",
    "<details>\n",
    "<summary>\n",
    "\n",
    "<b>Answer:</b>\n",
    "\n",
    "</summary>\n",
    "\n",
    "The states $|000\\rangle,$ $|001\\rangle,$ $|010\\rangle,$ $|011\\rangle$ are all consistent with successful teleportation. This is because we added a gate to undo the initial preparation of the secret state. If the secret state was successfully teleported to Bob's qubit, that additional gate should return Bob's qubit to the $|0\\rangle$ state. So any state above with Bob's qubit (qubit 0, also measured to the 0th component of the classical register, and hence the highest/right-most) in the $|0\\rangle$ state indicates success.\n",
    "\n",
    "\n",
    "</details>\n",
    "\n",
    "This plot is showing all measurement outcomes for the three qubits, over 5,000 trials or \"shots\". We pointed out earlier that Alice would measure all possible states for qubits A and Q with equal likelihood. We assigned qubits 0-2 in the circuit to Q, A, and B, in that order. In little-endian notation, Bob's qubit is the left-most/lowest. So the four bars on the left correspond to Bob's qubit being $|0\\rangle$, and the other two qubits being in all possible combinations with roughly equal probability. Note that almost all (usually \\~95%) of measurements yield Bob's qubit in the $|0\\rangle$ state, meaning our setup was successful! There are a handful of shots (\\~5%) that yielded Bob's qubit in the $|1\\rangle$ state. That should not logically be possible. However, all modern quantum computers suffer from noise and errors to a much greater extent than classical computers. And quantum error correction is still an emerging field."
   ]
  },
  {
   "cell_type": "markdown",
   "id": "cd75b04b-2d2d-4d87-b6cc-b0fed440d912",
   "metadata": {},
   "source": [
    "## 5. Experiment 2: Teleporting across a processor\n",
    "\n",
    "Arguably, the most interesting part of quantum teleportation is that a quantum state can be teleported over long distances instantly (though the classical communication of extra gates is not instant). As already stated, we can't break qubits off the processor and move them around. But we can move the information from one qubit to another, until the qubits involved in teleportation are on opposite sides of the processor. Let us repeat the steps we took above, but now we will make a larger circuit with enough qubits to span the processor.\n",
    "\n",
    "### 5.1. Step 1: Map your problem to a quantum circuit\n",
    "\n",
    "This time, the qubits corresponding to Alice and Bob will change. So we will not name a single qubit \"A\" and another \"B\". Rather, we will number the qubits and use variables to represent the current position of the information on qubits belonging to Alice and Bob. All other steps except the swap gates are as described previously."
   ]
  },
  {
   "cell_type": "code",
   "execution_count": 26,
   "id": "7d7742fa-e9a2-4ca0-9d9b-f29d73e07cd9",
   "metadata": {},
   "outputs": [
    {
     "data": {
      "text/plain": [
       "<Image src=\"/learning/images/modules/computer-science/quantum-teleportation/extracted-outputs/7b518811-e7d5-48f7-9dbf-3dd661e25847-0.avif\" alt=\"Output of the previous code cell\" />"
      ]
     },
     "execution_count": 26,
     "metadata": {},
     "output_type": "execute_result"
    }
   ],
   "source": [
    "# Step 1: Map\n",
    "\n",
    "# Define registers\n",
    "qr = QuantumRegister(13, \"q\")\n",
    "\n",
    "qc = QuantumCircuit(qr, cr)\n",
    "\n",
    "# Define registers\n",
    "secret = QuantumRegister(1, \"Q\")\n",
    "ebitsa = QuantumRegister(6, \"A\")\n",
    "ebitsb = QuantumRegister(6, \"B\")\n",
    "# q = ClassicalRegister(1, \"q meas\")\n",
    "# a = ClassicalRegister(1, \"a\")\n",
    "# b = ClassicalRegister(1, \"b\")\n",
    "cr = ClassicalRegister(3, \"c\")\n",
    "qc = QuantumCircuit(secret, ebitsa, ebitsb, cr)\n",
    "\n",
    "# We'll start Alice in the middle of the circuit, then move information outward in both directions.\n",
    "Alice = 5\n",
    "Bob = 0\n",
    "qc.h(ebitsa[Alice])\n",
    "qc.cx(ebitsa[Alice], ebitsb[Bob])\n",
    "\n",
    "# Starting with Bob and Alice in the center, we swap their information onto adjacent qubits, until the information is on distant qubits.\n",
    "\n",
    "for n in range(Alice):\n",
    "    qc.swap(ebitsb[Bob], ebitsb[Bob + 1])\n",
    "    qc.swap(ebitsa[Alice], ebitsa[Alice - 1])\n",
    "    Alice = Alice - 1\n",
    "    Bob = Bob + 1\n",
    "\n",
    "qc.barrier()\n",
    "\n",
    "# Create a random state for Alice (qubit zero)\n",
    "np.random.seed(42)  # fixing seed for repeatability\n",
    "# theta = np.random.uniform(0.0, 1.0) * np.pi    #from 0 to pi\n",
    "theta = 0.3\n",
    "varphi = np.random.uniform(0.0, 2.0) * np.pi  # from 0 to 2*pi\n",
    "\n",
    "\n",
    "qc.u(theta, varphi, 0.0, secret)\n",
    "\n",
    "# Entangle Alice's two qubits\n",
    "qc.cx(secret, ebitsa[Alice])\n",
    "qc.h(secret)\n",
    "\n",
    "qc.barrier()\n",
    "\n",
    "# Make measurements of Alice's qubits and store the results in the classical register.\n",
    "qc.measure(ebitsa[Alice], cr[1])\n",
    "qc.measure(secret, cr[0])\n",
    "\n",
    "# Send instructions to Bob's qubits based on the outcome of Alice's measurements.\n",
    "with qc.if_test((cr[1], 1)):\n",
    "    qc.x(ebitsb[Bob])\n",
    "with qc.if_test((cr[0], 1)):\n",
    "    qc.z(ebitsb[Bob])\n",
    "\n",
    "qc.barrier()\n",
    "\n",
    "# Invert the preparation we did for Carl's qubit so we can check whether we did this correctly.\n",
    "qc.u(theta, varphi, 0.0, ebitsb[Bob]).inverse()  # inverse of u(theta,varphi,0.0)\n",
    "qc.measure(ebitsb[Bob], cr[2])  # add measurement gate\n",
    "\n",
    "qc.draw(\"mpl\")"
   ]
  },
  {
   "cell_type": "markdown",
   "id": "5174ffeb-28d4-49d4-9693-5271e026b026",
   "metadata": {},
   "source": [
    "You can see in the circuit diagram that the logical steps are the same. The only difference is that we used the swap gates to bring Alice's qubit's state from qubit 6 ($A_5$) up to qubit 1 ($A_0$), right next to Q. And we used swap gates to bring Bob's initial state from qubit 7 ($B_0$) down to qubit 12 ($B_5$). Note that the state on qubit 12 is not even related to Q's secret state until measurements are made on the distant qubits 0 and 1, and the state on qubit 12 is not equal to the secret state until after the conditional $X$ and $Z$ gates are applied.\n",
    "\n",
    "### 5.2.  Step 2: Optimize your circuit\n",
    "\n",
    "Normally, when we use the pass manager to transpile and optimize our circuits, it makes sense to set ```optimization_level = 3```, because we want our circuits to be as efficient as possible. In this case, there is no computational reason for us to transfer states from qubits 6 and 7 over to qubits 1 and 12. That was just something we did to demonstrate teleportation over a distance. If we ask the pass manager to optimize our circuit, it will realize there is no logical reason for these swap gates, and it will remove them and carry out the gate operations on adjacent qubits. So for this special case, we use ```optimization_level = 0```."
   ]
  },
  {
   "cell_type": "code",
   "execution_count": 27,
   "id": "d7865560-a8a6-4abb-af8d-6a86ecc76bff",
   "metadata": {},
   "outputs": [
    {
     "name": "stdout",
     "output_type": "stream",
     "text": [
      "99\n"
     ]
    }
   ],
   "source": [
    "# Step 2: Transpile\n",
    "from qiskit.transpiler.preset_passmanagers import generate_preset_pass_manager\n",
    "\n",
    "target = backend.target\n",
    "pmzero = generate_preset_pass_manager(target=target, optimization_level=0)\n",
    "\n",
    "qc_isa_zero = pmzero.run(qc)\n",
    "\n",
    "print(qc_isa_zero.depth())"
   ]
  },
  {
   "cell_type": "markdown",
   "id": "38c1dc99-e5e0-4969-b7a0-cdc1e4e6bedd",
   "metadata": {},
   "source": [
    "We can visualize where on the quantum processor these qubits are using the ```plot_circuit_layout``` function."
   ]
  },
  {
   "cell_type": "markdown",
   "id": "6a74e5a5-d32f-41a5-adf8-29174a0d5e8a",
   "metadata": {},
   "source": [
    "### 5.3 Step 3: Run\n",
    "\n",
    "As before, we recommend running on real IBM quantum computers. If your monthly free usage has been reached, feel free to uncomment the simulator cells to run on a simulator."
   ]
  },
  {
   "cell_type": "code",
   "execution_count": 28,
   "id": "5536d98a-480b-4193-8c63-2ef77d1aeda0",
   "metadata": {},
   "outputs": [],
   "source": [
    "# This required 5 s to run on ibm_torino on 10-28-24\n",
    "job = sampler.run([qc_isa_zero])\n",
    "# job = sampler_sim.run([qc_isa_zero])\n",
    "counts = job.result()[0].data.c.get_counts()"
   ]
  },
  {
   "cell_type": "code",
   "execution_count": 29,
   "id": "13b6375b-73c7-436d-bf1c-98de45ef4056",
   "metadata": {},
   "outputs": [
    {
     "data": {
      "text/plain": [
       "<Image src=\"/learning/images/modules/computer-science/quantum-teleportation/extracted-outputs/1ac2828c-a7bb-4476-857e-5d837e73e5ed-0.avif\" alt=\"Output of the previous code cell\" />"
      ]
     },
     "execution_count": 29,
     "metadata": {},
     "output_type": "execute_result"
    }
   ],
   "source": [
    "from qiskit.visualization import plot_histogram\n",
    "\n",
    "plot_histogram(counts)"
   ]
  },
  {
   "cell_type": "markdown",
   "id": "49ed3ba0-3482-4ad5-84c3-f8fba80d8668",
   "metadata": {},
   "source": [
    "### 5.4. Step 4: Classical post-processing\n",
    "\n",
    "Again we see that the probabilities for the possible outcomes for Alice's qubits are fairly uniform. There is a strong preference for finding Bob's qubit in $|0\\rangle$ after inverting the secret code, meaning there is a strong probability that we correctly teleported the secret state across the processor from Q to Bob (qubits 0 to 12). However, we note that there is now about a higher chance of *not* measuring $|0\\rangle$ for Bob. This is an important lesson in quantum computing: the more gates you have, especially multi-qubit gates like swap gates, the more noise and errors you will encounter."
   ]
  },
  {
   "cell_type": "markdown",
   "id": "ede2724d-536b-472a-b4bd-b1276b5b851d",
   "metadata": {},
   "source": [
    "## 6. Review and questions\n",
    "\n",
    "### Critical concepts\n",
    "\n",
    "- Qubits can be entangled, meaning a measurement of one qubit affects or even determines the state of another qubit.\n",
    "- Entanglement differs from classical correlations; for example, qubits A and B could be in a superposition of states like $\\alpha_0|00\\rangle+\\alpha_1|11\\rangle.$ The state of A or B could be undetermined by nature, and yet A and B could still be guaranteed to be in the same state.\n",
    "- Through a combination of entanglements and measurements, we can transfer a state (which can store information) from one qubit to another. This transfer can even be done over long distances, and this is called quantum teleportation.\n",
    "- Quantum teleportation relies on quantum measurements, which are probabilistic. Thus, classical communication can be necessary to tweak the teleported states. This prevents quantum teleportation from moving information faster than light. Quantum teleportation does not violate relativity or causality.\n",
    "- Modern quantum computers are more susceptible to noise and errors than classical computers. Expect a few percent error.\n",
    "- The more gates you add in sequence (especially 2-qubit gates) the more errors and noise you can expect.\n",
    "\n",
    "\n",
    "### True/False questions\n",
    "\n",
    "1. T/F Quantum teleportation can be used to send information faster than light.\n",
    "2. T/F Modern evidence suggests that the collapse of a quantum state propagates faster than light.\n",
    "3. T/F In Qiskit, qubits are ordered in states with the lowest-numbered qubit on the right, as in $|q_3,q_2,q_1, q_0\\rangle$\n",
    "\n",
    "\n",
    "### MC questions\n",
    "\n",
    "1. Qubits A and B are entangled, then separated by a great distance $d$. Qubit A is measured. Which statement is correct about the speed at which the state of qubit B is affected?\n",
    "\n",
    "- a. Qubit B is affected instantly, within experimental tolerance, in experiments run so far.\n",
    "- b. Qubit B is affected after a time $d/c$, meaning the quantum state \"collapses\" at approximately the speed of light, within experimental tolerance.\n",
    "- c. Qubit B is affected only after classical communication has occurred, meaning it happens in a time longer than $d/c$.\n",
    "- d. None of the above\n",
    "\n",
    "2. Recall that measurement probability is related to amplitudes in quantum states. For example, if a qubit is initially in the state $\\alpha_0|0\\rangle+\\alpha_1 |1\\rangle,$ the probability of measuring the state $|0\\rangle$ is $|\\alpha_0|^2.$ Not all sets of measurements will exactly match these probabilities, due to finite sampling (just as flipping a coin might yield heads twice in a row). The measurement histogram below could correspond to which of the following quantum states? Select the best option.\n",
    "\n",
    "![entangled_teleportation_fig](/learning/images/modules/computer-science/quantum-teleportation/entangled_teleportation_fig.avif)\n",
    "\n",
    "- a. $|0\\rangle$\n",
    "- b. $\\frac{1}{\\sqrt{2}}\\left(|0\\rangle-|1\\rangle\\right)$\n",
    "- c. $\\frac{1}{\\sqrt{2}}\\left(|0\\rangle+|1\\rangle\\right)$\n",
    "- d. $\\frac{4}{5}|0\\rangle+\\frac{3}{5}|1\\rangle$\n",
    "- e. $\\frac{3}{5}|0\\rangle+\\frac{4}{5}|1\\rangle$\n",
    "\n",
    "\n",
    "3. Which of the following states show(s) qubits A and B entangled? Select all that apply.\n",
    "- a. $\\frac{1}{\\sqrt{2}}\\left(|0\\rangle_B|0\\rangle_A+|1\\rangle_B|1\\rangle_A\\right)$\n",
    "- b. $\\frac{4}{5}|0\\rangle_B|0\\rangle_A+\\frac{3}{5}|1\\rangle_B|1\\rangle_A$\n",
    "- c. $\\frac{1}{\\sqrt{2}}\\left(|0\\rangle_B|1\\rangle_A-|1\\rangle_B|0\\rangle_A\\right)$\n",
    "- d. $\\frac{1}{\\sqrt{2}}\\left(|0\\rangle_B|0\\rangle_A+|1\\rangle_B|0\\rangle_A\\right)$\n",
    "- e. $|0\\rangle_B|0\\rangle_A$\n",
    "\n",
    "4. In this module, we prepared an entangled state: $\\frac{1}{\\sqrt{2}}\\left(|0\\rangle_B|0\\rangle_A+|1\\rangle_B|1\\rangle_A\\right).$ But there are many other entangled states one could use for a similar protocol. Which of the states below could yield a 2-qubit measurement histogram like the following? Select the best response.\n",
    "\n",
    "![entangled_teleportation_fig_0110](/learning/images/modules/computer-science/quantum-teleportation/entangled_teleportation_fig_0110.avif)\n",
    "\n",
    "- a. $\\frac{1}{\\sqrt{2}}\\left(|0\\rangle_B|0\\rangle_A+|1\\rangle_B|1\\rangle_A\\right)$\n",
    "- b. $\\frac{4}{5}|0\\rangle_B|0\\rangle_A+\\frac{3}{5}|1\\rangle_B|1\\rangle_A$\n",
    "- c. $\\frac{1}{\\sqrt{2}}\\left(|0\\rangle_B|1\\rangle_A-|1\\rangle_B|0\\rangle_A\\right)$\n",
    "- d. $\\frac{4}{5}|0\\rangle_B|1\\rangle_A+\\frac{3}{5}|1\\rangle_B|0\\rangle_A$\n",
    "- e. $|0\\rangle_B|0\\rangle_A$\n",
    "\n",
    "### Discussion questions\n",
    "\n",
    "1. Describe the quantum teleportation protocol, from start to finish, to your partner/group. See if they have anything to add, or if they have questions.\n",
    "\n",
    "2. Is there anything unique about the initial entangled state between Alice and Bob: $\\frac{1}{\\sqrt{2}}\\left(|0\\rangle_B|0\\rangle_A+|1\\rangle_B|1\\rangle_A\\right)?$ If so, what is unique about it? If not, what other entangled states could we have used?"
   ]
  }
 ],
 "metadata": {
  "description": "Explore how quantum teleportation transfers a quantum state from one location to another using the principles of quantum entanglement.",
  "kernelspec": {
   "display_name": "Python 3",
   "language": "python",
   "name": "python3"
  },
  "language_info": {
   "codemirror_mode": {
    "name": "ipython",
    "version": 3
   },
   "file_extension": ".py",
   "mimetype": "text/x-python",
   "name": "python",
   "nbconvert_exporter": "python",
   "pygments_lexer": "ipython3",
   "version": "3"
  },
  "title": "Quantum Teleportation",
  "widgets": {
   "application/vnd.jupyter.widget-state+json": {
    "state": {},
    "version_major": 2,
    "version_minor": 0
   }
  }
 },
 "nbformat": 4,
 "nbformat_minor": 4
}
