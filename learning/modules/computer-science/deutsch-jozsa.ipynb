{
 "cells": [
  {
   "cell_type": "markdown",
   "id": "bfa8f443",
   "metadata": {},
   "source": [
    "{/* cspell:ignore blackbox  Hadamards  couterintuitive */}"
   ]
  },
  {
   "cell_type": "markdown",
   "id": "e761a401-3dd0-4c3c-9333-0d89da48fb34",
   "metadata": {},
   "source": [
    "# The Deutsch-Jozsa algorithm\n",
    "\n",
    "For this Qiskit in Classrooms module, students must have a working Python environment with the following packages installed:\n",
    "- `qiskit` v2.1.0 or newer\n",
    "- `qiskit-ibm-runtime` v0.40.1 or newer\n",
    "- `qiskit-aer` v0.17.0 or newer\n",
    "- `qiskit.visualization`\n",
    "\n",
    "To set up and install the packages above, see the [Install Qiskit](/docs/guides/install-qiskit) guide.\n",
    "In order to run jobs on real quantum computers, students will need to set up an account with IBM Quantum&reg; by following the steps in the [Set up your IBM Cloud account](/docs/guides/cloud-setup) guide.\n",
    "\n",
    "This module was tested and used four seconds of QPU time. This is an estimate only. Your actual usage may vary."
   ]
  },
  {
   "cell_type": "markdown",
   "id": "026f7f82-ac54-413d-8158-e58461bc2afd",
   "metadata": {},
   "source": [
    "Watch the module walkthrough by Dr. Katie McCormick below, or click [here](https://youtu.be/QcK0GK7DUh8?si=8e0Lmjgylxmgl2y7) to watch it on YouTube.\n",
    "\n",
    "-------\n",
    "\n",
    "\n",
    "<IBMVideo id=\"134413695\" title=\"Katie McCormick introduces one of the first quantum algorithms developed: the Deutsch algorithm and its extension, the Deutsch-Jozsa algorithm.\"/>"
   ]
  },
  {
   "cell_type": "markdown",
   "id": "34b2aac3-848f-46b4-8c95-8236b6ad7f8e",
   "metadata": {},
   "source": [
    "## 1. Intro\n",
    "\n",
    "In the early 1980's, quantum physicists and computer scientists had a vague notion that quantum mechanics could be harnessed to make computations that were far more powerful than classical computers can make. Their reasoning was this: it's difficult for a classical computer to simulate quantum systems, but a *quantum* computer should be able to do it more efficiently. And if a quantum computer could simulate quantum systems more efficiently, perhaps there were other tasks that it could perform more efficiently than a classical computer.\n",
    "\n",
    "The logic was sound, but the details remained to be worked out. This began in 1985, when David Deutsch described the first \"universal quantum computer.\" In this same paper, he provided the first example problem for which a quantum computer could solve something more efficiently than a classical computer could. This first toy example is now known as \"Deutsch's algorithm.\" The improvement in Deutsch's algorithm was modest, but Deutsch worked with Richard Jozsa a few years later to further widen the gap between classical and quantum computers.\n",
    "\n",
    "These algorithms — Deutsch's, and the Deutsch-Jozsa extension — are not particularly useful, but they are still really important for a few reasons:\n",
    "\n",
    "1. Historically, they were some of the first quantum algorithms that were demonstrated to beat their classical counterparts. Understanding them can help us understand how the community's thinking on quantum computing has evolved over time.\n",
    "2. They can help us understand some aspects of the answer to a surprisingly subtle question: What gives quantum computing its power? Sometimes, quantum computers are compared to giant, exponentially-scaling parallel processors. But this isn't quite right. While a piece of the answer to this question lies in so-called \"quantum parallelism,\" extracting as much information as possible in a single run is a subtle art. The Deutsch and Deutsch-Jozsa algorithms show how this can be done.\n",
    "\n",
    "In this module, we'll learn about Deutsch's algorithm, the Deutsch-Jozsa algorithm, and what they teach us about the power of quantum computing."
   ]
  },
  {
   "cell_type": "markdown",
   "id": "096da154-5663-4f46-8d9e-b6f163260706",
   "metadata": {},
   "source": [
    "## 2. Quantum parallelism and its limits\n",
    "\n",
    "Part of the power of quantum computing is derived from \"quantum parallelism.\" which is essentially the ability to perform operations on multiple inputs at the same time, since the qubit input states could be in a superposition of multiple classically allowed states. HOWEVER, while a quantum circuit might be able to evaluate multiple input states at once, extracting all of that information in one go is impossible.\n",
    "\n",
    "To see what I mean here, let's say we have a bit, $x$ and some function applied to that bit, $f(x)$. There are four possible binary functions taking a single bit to another single bit:\n",
    "\n",
    "| $x$    |  $f_1(x)$ | $f_2(x)$ | $f_3(x)$ | $f_4(x)$ |\n",
    "| ----------- | ------- |-------| -------- | ------- |\n",
    "| 0  | 0   | 0  | 1   | 1 |\n",
    "| 1  | 0   | 1  | 0 | 1 |\n",
    "\n",
    "We'd like to find out which of these functions (1-4) our $f(x)$ is. Classically, we would need to run the function twice — once for $x=0$, once for $x=1$. But let's see if we can do better with a quantum circuit. We can learn about the function with the following gate:\n",
    "\n",
    "![quantum_parallelism](/learning/images/modules/computer-science/deutsch-jozsa/quantum-parallelism.avif)\n",
    "\n",
    "Here, the $U_f$ gate computes $f(x)$, where $x$ is the state of qubit 0, and applies that to qubit 1. So, the resulting state, $|x\\rangle|y\\oplus f(x)\\rangle$, simply becomes $|x\\rangle|f(x)\\rangle$ when $|y\\rangle = |0\\rangle$. This contains all the information we need to know the function $f(x)$: qubit 0 tells us what $x$ is, and qubit 1 tells us what $f(x)$ is. So, if we initialize $|x\\rangle = \\frac{1}{\\sqrt{2}}(|0\\rangle+|1\\rangle)$, then the final state of both qubits will be: $|y\\rangle|x\\rangle = \\frac{1}{\\sqrt{2}}(|f(0)\\rangle|0\\rangle+|f(1)\\rangle|1\\rangle)$. But how do we access that information?\n",
    "\n",
    "### 2.1. Try it on Qiskit:\n",
    "\n",
    "Using Qiskit we'll randomly select one of the four possible functions above and run the circuit. Then your task is to use the measurements of the quantum circuit to learn the function in as few runs as possible.\n",
    "\n",
    "In this first experiment and throughout the module, we will use a framework for quantum computing known as \"Qiskit patterns\", which breaks workflows into the following steps:\n",
    "\n",
    "- Step 1: Map classical inputs to a quantum problem\n",
    "- Step 2: Optimize problem for quantum execution\n",
    "- Step 3: Execute using Qiskit Runtime Primitives\n",
    "- Step 4: Post-processing and classical analysis\n",
    "\n",
    "First, let's start by loading some necessary packages, including Runtime primitives. We will also select the least-busy quantum computer available to us."
   ]
  },
  {
   "cell_type": "code",
   "execution_count": 1,
   "id": "6ccc7364-7b6b-45f5-94b8-b1274006ee2f",
   "metadata": {},
   "outputs": [
    {
     "name": "stdout",
     "output_type": "stream",
     "text": [
      "ibm_brisbane\n"
     ]
    }
   ],
   "source": [
    "# Load the Qiskit Runtime service\n",
    "from qiskit_ibm_runtime import QiskitRuntimeService\n",
    "\n",
    "# Load the Runtime primitive and session\n",
    "from qiskit_ibm_runtime import SamplerV2 as Sampler\n",
    "\n",
    "\n",
    "service = QiskitRuntimeService(channel=\"ibm_quantum_platform\")\n",
    "\n",
    "# Use the least busy backend, or uncomment the loading of a specific backend like \"ibm_brisbane\".\n",
    "# backend = service.least_busy(operational=True, simulator=False, min_num_qubits = 127)\n",
    "backend = service.backend(\"ibm_brisbane\")\n",
    "print(backend.name)\n",
    "\n",
    "\n",
    "sampler = Sampler(mode=backend)"
   ]
  },
  {
   "cell_type": "markdown",
   "id": "9912a7c5-ce2b-4eaa-abe7-82ebd4e494c8",
   "metadata": {},
   "source": [
    "The cell below will allow you to switch between using the simulator or real hardware throughout the notebook. We recommend running it now:"
   ]
  },
  {
   "cell_type": "code",
   "execution_count": 2,
   "id": "29468e63-ce36-4eb7-95b4-176788a97e54",
   "metadata": {},
   "outputs": [],
   "source": [
    "# Load the backend sampler\n",
    "from qiskit.primitives import BackendSamplerV2\n",
    "\n",
    "# Load the Aer simulator and generate a noise model based on the currently-selected backend.\n",
    "from qiskit_aer import AerSimulator\n",
    "from qiskit_aer.noise import NoiseModel\n",
    "\n",
    "# Alternatively, load a fake backend with generic properties and define a simulator.\n",
    "from qiskit.providers.fake_provider import GenericBackendV2\n",
    "\n",
    "\n",
    "noise_model = NoiseModel.from_backend(backend)\n",
    "\n",
    "# Define a simulator using Aer, and use it in Sampler.\n",
    "backend_sim = AerSimulator(noise_model=noise_model)\n",
    "sampler_sim = BackendSamplerV2(backend=backend_sim)\n",
    "\n",
    "\n",
    "backend_gen = GenericBackendV2(num_qubits=18)\n",
    "sampler_gen = BackendSamplerV2(backend=backend_gen)"
   ]
  },
  {
   "cell_type": "markdown",
   "id": "19e9b62f-6e1c-43a1-bdda-75766b1ff7d3",
   "metadata": {},
   "source": [
    "Now that we've loaded the necessary packages, we can proceed with the Qiskit patterns workflow. In the mapping step below, we first make function that selects among the four possible functions taking a single bit to another single bit."
   ]
  },
  {
   "cell_type": "code",
   "execution_count": 3,
   "id": "5e67183b-42b9-44c2-bd4b-b5e2d192a796",
   "metadata": {},
   "outputs": [
    {
     "data": {
      "text/plain": [
       "<Image src=\"/learning/images/modules/computer-science/deutsch-jozsa/extracted-outputs/5e67183b-42b9-44c2-bd4b-b5e2d192a796-0.avif\" alt=\"Output of the previous code cell\" />"
      ]
     },
     "execution_count": 3,
     "metadata": {},
     "output_type": "execute_result"
    }
   ],
   "source": [
    "# Step 1: Map\n",
    "\n",
    "from qiskit import QuantumCircuit\n",
    "\n",
    "qc = QuantumCircuit(2)\n",
    "\n",
    "\n",
    "def twobit_function(case: int):\n",
    "    \"\"\"\n",
    "    Generate a valid two-bit function as a `QuantumCircuit`.\n",
    "    \"\"\"\n",
    "    if case not in [1, 2, 3, 4]:\n",
    "        raise ValueError(\"`case` must be 1, 2, 3, or 4.\")\n",
    "\n",
    "    f = QuantumCircuit(2)\n",
    "    if case in [2, 3]:\n",
    "        f.cx(0, 1)\n",
    "    if case in [3, 4]:\n",
    "        f.x(1)\n",
    "    return f\n",
    "\n",
    "\n",
    "# first, convert oracle circuit (above) to a single gate for drawing purposes. otherwise, the circuit is too large to display\n",
    "# blackbox = twobit_function(2).to_gate()  # you may edit the number inside \"twobit_function()\" to select among the four valid functions\n",
    "# blackbox.label = \"$U_f$\"\n",
    "\n",
    "qc.h(0)\n",
    "qc.barrier()\n",
    "qc.compose(twobit_function(2), inplace=True)\n",
    "qc.measure_all()\n",
    "\n",
    "\n",
    "qc.draw(\"mpl\")"
   ]
  },
  {
   "cell_type": "markdown",
   "id": "5cf08592-f32e-4ae8-ad69-afb160e43ab4",
   "metadata": {},
   "source": [
    "In the above circuit, the Hadamard gate \"H\" takes qubit 0, which is initially in the state $|0\\rangle$, to the superposition state $\\frac{1}{\\sqrt{2}}(|0\\rangle+|1\\rangle)$. Then, $U_f$ evaluates the function $f(x)$ and applies that to qubit 1.\n",
    "\n",
    "Next we need to optimize and transpile the circuit to be run on the quantum computer:"
   ]
  },
  {
   "cell_type": "code",
   "execution_count": 4,
   "id": "d8d77417-0295-4f20-aff6-b2a007d5d02f",
   "metadata": {},
   "outputs": [],
   "source": [
    "# Step 2: Transpile\n",
    "from qiskit.transpiler.preset_passmanagers import generate_preset_pass_manager\n",
    "\n",
    "target = backend.target\n",
    "pm = generate_preset_pass_manager(target=target, optimization_level=3)\n",
    "\n",
    "qc_isa = pm.run(qc)"
   ]
  },
  {
   "cell_type": "markdown",
   "id": "51e7b705-a4b8-460a-aa5a-6122c84f9b2f",
   "metadata": {},
   "source": [
    "Finally, we execute our transpiled circuit on the quantum computer and visualize our results:"
   ]
  },
  {
   "cell_type": "code",
   "execution_count": 5,
   "id": "0495256b-2a80-422e-9adf-2fef1c039a6d",
   "metadata": {},
   "outputs": [],
   "source": [
    "# Step 3: Run the job on a real quantum computer\n",
    "\n",
    "job = sampler.run([qc_isa], shots=1)\n",
    "# job = sampler_sim.run([qc_isa],shots=1) # uncomment this line to run on simulator instead\n",
    "res = job.result()\n",
    "counts = res[0].data.meas.get_counts()\n",
    "\n",
    "# job = sampler_gen.run([qc_isa],shots=1)\n",
    "# res=job.result()\n",
    "# counts=res[0].data.c.get_counts()"
   ]
  },
  {
   "cell_type": "code",
   "execution_count": 6,
   "id": "6d2904cc-c730-4dca-a167-438018230299",
   "metadata": {},
   "outputs": [
    {
     "data": {
      "text/plain": [
       "<Image src=\"/learning/images/modules/computer-science/deutsch-jozsa/extracted-outputs/6d2904cc-c730-4dca-a167-438018230299-0.avif\" alt=\"Output of the previous code cell\" />"
      ]
     },
     "execution_count": 6,
     "metadata": {},
     "output_type": "execute_result"
    }
   ],
   "source": [
    "# Step 4: Visualize and analyze results\n",
    "\n",
    "## Analysis\n",
    "from qiskit.visualization import plot_histogram\n",
    "\n",
    "plot_histogram(counts)"
   ]
  },
  {
   "cell_type": "markdown",
   "id": "47710bb8-372c-4949-9468-bd2480c4ae5b",
   "metadata": {},
   "source": [
    "The above is a histogram of our results. Depending on the number of shots you chose to run the circuit in step 3 above, you could see one or two bars, representing the measured states of the two qubits in each shot. As always with Qiskit and in this notebook, we use \"little endian\" notation, meaning the states of qubits 0 through n are written in ascending order from right to left, so qubit 0 is always farthest right.\n",
    "\n",
    "So, because qubit 0 was in a superposition state, the circuit evaluated the function for *both* $x=0$ and $x=1$ *at the same time* — something classical computers cannot do! But the catch comes when we want to learn about the function $f(x)$ — when we measure the qubits, we collapse their state. If you select \"shots = 1\" to only run the circuit once, you will only see one bar in the histogram above, and your information about the function will be incomplete.\n",
    "\n",
    "#### Check your understanding\n",
    "Read the question(s) below, think about your answer, then click the triangle to reveal the solution.\n",
    "<details>\n",
    "<summary>\n",
    "\n",
    "How many times must we run the above algorithm to learn the function $f(x)$? Is this any better than the classical case? Would you rather have a classical or quantum computer to solve this problem?\n",
    "\n",
    "</summary>\n",
    "\n",
    "__Answer:__\n",
    "\n",
    "\n",
    "Since the measurement will collapse the superposition and return only one value, we need to run the circuit *at least* twice to return both outputs of the function $f(0)$ and $f(1)$. Best case, this performs as well as the classical case, where we compute both $f(0)$ and $f(1)$ in the first two queries. But there's a chance that we'll need to run it more than two times, since the final measurement is probabilistic and might return the same $f(x)$ value the first two times. I would rather have a classical computer in this case.\n",
    "\n",
    "</details>\n",
    "\n",
    "\n",
    "So, while quantum parallelism can be powerful when used in the right way, it is not correct to say that a quantum computer works just like a massive, classical parallel processor. The act of measurement collapses the quantum states, so we can only ever access a single output of the computation."
   ]
  },
  {
   "cell_type": "markdown",
   "id": "cda50fdf-c354-4021-9b5a-c8cde5cc5edd",
   "metadata": {},
   "source": [
    "## 3. Deutsch's Algorithm\n",
    "\n",
    "While quantum parallelism alone doesn't give us an advantage over classical computers, we can pair this with another quantum phenomena, interference, to achieve a speed-up. The algorithm now known as \"Deutsch's algorithm\" is the first example of an algorithm that accomplishes this.\n",
    "\n",
    "### 3.1. The Problem\n",
    "\n",
    "Here was the problem:\n",
    "\n",
    "Given an input bit, $x = \\{0,1\\}$, and an input function $f(x) = \\{0,1\\}$, determine whether the function is *balanced* or *constant*. That is, if it's balanced, then the output of the function is 0 half the time and 1 the other half the time. If it's constant, then the output of the function is either always 0 or always 1. Recall the table of four possible functions taking a single bit to another a single bit:\n",
    "\n",
    "\n",
    "| $x$    |  $f_1(x)$ | $f_2(x)$ | $f_3(x)$ | $f_4(x)$ |\n",
    "| ----------- | ------- |-------| -------- | ------- |\n",
    "| 0  | 0   | 0  | 1   | 1 |\n",
    "| 1  | 0   | 1  | 0 | 1 |\n",
    "\n",
    "The first and the last functions, $f_1(x)$ and $f_4(x)$, are constant, while the middle two functions, $f_2(x)$ and $f_3(x)$, are balanced."
   ]
  },
  {
   "cell_type": "markdown",
   "id": "a34f1c24-0ed5-4458-8d4e-5957c691cadb",
   "metadata": {},
   "source": [
    "### 3.2 The Algorithm\n",
    "\n",
    "The way Deutsch approached this problem was through the \"query model.\" In the query model, the input function ($f_i(x)$ above) is contained in a \"black box\" — we don't have direct access to its contents, but we can query the black box and it will give us the output of the function. We sometimes say that an \"oracle\" provides this information. See [Lesson 1: Quantum Query Algorithms](/learning/courses/fundamentals-of-quantum-algorithms/quantum-query-algorithms/introduction) of the Fundamentals of Quantum Algorithms course for more on the query model.\n",
    "\n",
    "To determine whether a quantum algorithm is more efficient than a classical algorithm in the query model, we can simply compare the number of queries we need to make of the black box in each case. In the classical case, in order to know if the function contained in the black box were balanced or constant, we would need to query the box two times to get both $f(0)$ and $f(1)$.\n",
    "\n",
    "In Deutsch's quantum algorithm, though, he found a way to get the information with only one query! He made one adjustment to the \"quantum parallelism\" circuit above, so that he prepared a superposition state on *both* qubits, instead of only on qubit 0. Then the two outputs of the function, $f(0)$ and $f(1)$ interfered to return 0 if they were either both 0 or both 1 (the function was constant), and returned 1 if they were different (the function was balanced). In this way, Deutsch could differentiate between a constant and a balanced function with a single query.\n",
    "\n",
    "Here's a circuit diagram of Deutsch's algorithm:\n",
    "\n",
    "![Circuit diagram of Deutsch's algorithm](/learning/images/modules/computer-science/deutsch-jozsa/Deutsch_algo.avif)\n",
    "\n",
    "To understand how this algorithm works, let's look at the quantum states of the qubits at the three points noted on the diagram above. Try to work out the states for yourself before clicking to view the answers:\n",
    "\n",
    "\n",
    "#### Check your understanding\n",
    "Read the questions below, think about your answers, then click the triangles to reveal the solutions.\n",
    "<details>\n",
    "<summary>\n",
    "\n",
    "What is the state $|\\pi_1\\rangle$?\n",
    "\n",
    "</summary>\n",
    "\n",
    "__Answer:__\n",
    "\n",
    "Applying a Hadamard transforms the state $|0\\rangle$ to $\\frac{1}{\\sqrt{2}}(|0\\rangle+|1\\rangle)$ and the state $|1\\rangle$ to  $\\frac{1}{\\sqrt{2}}(|0\\rangle-|1\\rangle)$. So, the full state becomes: $|\\pi_1\\rangle = [\\frac{|0\\rangle-|1\\rangle}{\\sqrt{2}}][\\frac{|0\\rangle+|1\\rangle}{\\sqrt{2}}]$\n",
    "\n",
    "</details>\n",
    "\n",
    "<details>\n",
    "<summary>\n",
    "\n",
    "What is the state $|\\pi_2\\rangle$?\n",
    "\n",
    "</summary>\n",
    "\n",
    "__Answer:__\n",
    "\n",
    "\n",
    "Before we apply $U_f$, remember what it does. It will change the state of qubit 1 based on the state of qubit 0. So, it makes sense to factor the state of qubit 0 out: $|\\pi_1\\rangle = \\frac{1}{2} (|0\\rangle-|1\\rangle)|0\\rangle+\\frac{1}{2}(|0\\rangle-|1\\rangle)|1\\rangle$. Then, if $f(0)=f(1)$, the two terms will transform in the same way and the relative sign between the two terms remains positive, but if $f(0)\\neq f(1)$, then that means the second term will pick up a minus sign relative to the first term, changing the state of qubit 0 from $\\frac{1}{\\sqrt{2}}(|0\\rangle+|1\\rangle)$ to $\\frac{1}{\\sqrt{2}}(|0\\rangle-|1\\rangle)$. So:\n",
    "$$\n",
    "|\\pi_2\\rangle = \\begin{cases}\n",
    "\\pm[\\frac{|0\\rangle-|1\\rangle}{\\sqrt{2}}][\\frac{|0\\rangle+|1\\rangle}{\\sqrt{2}}] & \\text{if} & f(0) = f(1) \\\\\n",
    "\\pm[\\frac{|0\\rangle-|1\\rangle}{\\sqrt{2}}][\\frac{|0\\rangle-|1\\rangle}{\\sqrt{2}}] &\\text{if} & f(0) \\neq f(1) \\\\\n",
    "\\end{cases}\n",
    "$$\n",
    "\n",
    "</details>\n",
    "\n",
    "<details>\n",
    "<summary>\n",
    "\n",
    "What is the state $|\\pi_3\\rangle$?\n",
    "\n",
    "</summary>\n",
    "\n",
    "__Answer:__\n",
    "\n",
    "Now, the state of qubit 0 is either $\\frac{1}{\\sqrt{2}}(|0\\rangle+|1\\rangle)$ or $\\frac{1}{\\sqrt{2}}(|0\\rangle-|1\\rangle)$, depending on the function. Applying the Hadamard will yield either $|0\\rangle$ or $|1\\rangle$, respectively.\n",
    "\n",
    "$$\n",
    "|\\pi_3\\rangle = \\begin{cases}\n",
    "\\pm[\\frac{|0\\rangle-|1\\rangle}{\\sqrt{2}}]|0\\rangle & \\text{if} & f(0) = f(1) \\\\\n",
    "\\pm[\\frac{|0\\rangle-|1\\rangle}{\\sqrt{2}}]|1\\rangle &\\text{if} & f(0) \\neq f(1) \\\\\n",
    "\\end{cases}\n",
    "$$\n",
    "\n",
    "</details>\n",
    "\n",
    "\n",
    "Looking through your answers for the above questions, note that something a bit surprising happens. Although $U_f$ does nothing explicitly to the state of qubit 0, because it changes qubit 1 based on the state of qubit 0, it can happen that this causes a phase shift in qubit 0. This is known as the \"phase-kickback\" phenomenon, and is discussed in more detail in [Lesson 1: Quantum Query Algorithms](/learning/courses/fundamentals-of-quantum-algorithms/quantum-query-algorithms/introduction) of the Fundamentals of Quantum Algorithms course.\n",
    "\n",
    "Now that we understand how this algorithm works, let's implement it with Qiskit."
   ]
  },
  {
   "cell_type": "code",
   "execution_count": 7,
   "id": "4d9129df-f2ef-4f94-9508-21ed986fd823",
   "metadata": {},
   "outputs": [
    {
     "data": {
      "text/plain": [
       "<Image src=\"/learning/images/modules/computer-science/deutsch-jozsa/extracted-outputs/4d9129df-f2ef-4f94-9508-21ed986fd823-0.avif\" alt=\"Output of the previous code cell\" />"
      ]
     },
     "execution_count": 7,
     "metadata": {},
     "output_type": "execute_result"
    }
   ],
   "source": [
    "## Deutsch's algorithm:\n",
    "\n",
    "## Step 1: Map the problem\n",
    "\n",
    "# first, convert oracle circuit (above) to a single gate for drawing purposes. otherwise, the circuit is too large to display\n",
    "blackbox = twobit_function(\n",
    "    3\n",
    ").to_gate()  # you may edit the number (1-4) inside \"twobit_function()\" to select among the four valid functions\n",
    "blackbox.label = \"$U_f$\"\n",
    "\n",
    "\n",
    "qc_deutsch = QuantumCircuit(2, 1)\n",
    "\n",
    "qc_deutsch.x(1)\n",
    "qc_deutsch.h(range(2))\n",
    "\n",
    "qc_deutsch.barrier()\n",
    "qc_deutsch.compose(twobit_function(2), inplace=True)\n",
    "qc_deutsch.barrier()\n",
    "\n",
    "qc_deutsch.h(0)\n",
    "qc_deutsch.measure(0, 0)\n",
    "\n",
    "qc_deutsch.draw(\"mpl\")"
   ]
  },
  {
   "cell_type": "code",
   "execution_count": 8,
   "id": "ef0196b4-d4f0-4581-96f8-97893e652ee8",
   "metadata": {},
   "outputs": [],
   "source": [
    "# Step 2: Transpile\n",
    "from qiskit.transpiler.preset_passmanagers import generate_preset_pass_manager\n",
    "\n",
    "target = backend.target\n",
    "pm = generate_preset_pass_manager(target=target, optimization_level=3)\n",
    "\n",
    "qc_isa = pm.run(qc_deutsch)"
   ]
  },
  {
   "cell_type": "code",
   "execution_count": 9,
   "id": "51ad01d0-fa90-4e80-a55d-e55e146e2065",
   "metadata": {},
   "outputs": [],
   "source": [
    "# Step 3: Run the job on a real quantum computer\n",
    "\n",
    "job = sampler.run([qc_isa], shots=1)\n",
    "# job = sampler_sim.run([qc_isa],shots=1) # uncomment this line to run on simulator instead\n",
    "res = job.result()\n",
    "counts = res[0].data.c.get_counts()\n",
    "\n",
    "# job = sampler_gen.run([qc_isa],shots=1)\n",
    "# res=job.result()\n",
    "# counts=res[0].data.c.get_counts()"
   ]
  },
  {
   "cell_type": "code",
   "execution_count": 10,
   "id": "5465d833-49e0-4779-94a3-0adb18f6aa76",
   "metadata": {},
   "outputs": [
    {
     "name": "stdout",
     "output_type": "stream",
     "text": [
      "{'1': 1}\n",
      "balanced\n"
     ]
    }
   ],
   "source": [
    "# Step 4: Visualize and analyze results\n",
    "\n",
    "## Analysis\n",
    "print(counts)\n",
    "if \"1\" in counts:\n",
    "    print(\"balanced\")\n",
    "else:\n",
    "    print(\"constant\")"
   ]
  },
  {
   "cell_type": "markdown",
   "id": "82f6da25-0f9c-47b3-aa24-02482f008383",
   "metadata": {},
   "source": [
    "## 4. The Deutsch-Jozsa algorithm\n",
    "\n",
    "Deutsch's algorithm was an important first step in demonstrating how a quantum computer might be more efficient than a classical computer, but it was only a modest improvement: it required just one query, compared to two in the classical case. In 1992, Deutsch and his colleague, Richard Jozsa, extended the original two-qubit algorithm to more qubits. The problem remained the same: determine whether a function is *balanced* or *constant*. But this time, the function goes from $n$ bits to a single bit. Either the function returns 0 and 1 an equal number of times (it's *balanced*) or the function returns always 1 or always 0 (it's *constant*).\n",
    "\n",
    "Here's a circuit diagram of the algorithm:\n",
    "\n",
    "![DJ_algo.png](/learning/images/modules/computer-science/deutsch-jozsa/DJ_algo.avif)\n",
    "\n",
    "This algorithm works in the same way as Deutsch's algorithm: the phase-kickback allows one to read out the state of qubit 0 to determine whether the function is constant or balanced. It's a bit trickier to see than for the two-qubit Deutsch's algorithm case, since the states will include sums over the $n$ qubits, and so working out those states will be left as an optional exercise for you at the end of the module. The algorithm will return a bitstring of all 0's if the function is constant, and a bitstring containing at least one 1 if the function is balanced.\n",
    "\n",
    "To see how the algorithm works in Qiskit, first, we need to generate our oracle: the random function that is guaranteed to be either constant or balanced. The code below will generate a balanced function 50% of the time, and a constant function 50% of the time. Don't worry if you don't entirely follow the code — it's complicated and not necessary for our understanding of the quantum algorithm."
   ]
  },
  {
   "cell_type": "code",
   "execution_count": 11,
   "id": "ca2a51c0-3e62-4536-b891-0834e325a3d6",
   "metadata": {},
   "outputs": [
    {
     "data": {
      "text/plain": [
       "<Image src=\"/learning/images/modules/computer-science/deutsch-jozsa/extracted-outputs/ca2a51c0-3e62-4536-b891-0834e325a3d6-0.avif\" alt=\"Output of the previous code cell\" />"
      ]
     },
     "metadata": {},
     "output_type": "display_data"
    }
   ],
   "source": [
    "from qiskit import QuantumCircuit\n",
    "import numpy as np\n",
    "\n",
    "\n",
    "def dj_function(num_qubits):\n",
    "    \"\"\"\n",
    "    Create a random Deutsch-Jozsa function.\n",
    "    \"\"\"\n",
    "\n",
    "    qc_dj = QuantumCircuit(num_qubits + 1)\n",
    "    if np.random.randint(0, 2):\n",
    "        # Flip output qubits with 50% chance\n",
    "        qc_dj.x(num_qubits)\n",
    "    if np.random.randint(0, 2):\n",
    "        # return constant circuit with 50% chance.\n",
    "        return qc_dj\n",
    "\n",
    "    # If the \"if\" statement above was \"TRUE\" then we've returned the constant\n",
    "    # function and the function is complete. If not, we proceed in creating our\n",
    "    # balanced function. Everything below is to produce the balanced function:\n",
    "\n",
    "    # select half of all possible states at random:\n",
    "    on_states = np.random.choice(\n",
    "        range(2**num_qubits),  # numbers to sample from\n",
    "        2**num_qubits // 2,  # number of samples\n",
    "        replace=False,  # makes sure states are only sampled once\n",
    "    )\n",
    "\n",
    "    def add_cx(qc_dj, bit_string):\n",
    "        for qubit, bit in enumerate(reversed(bit_string)):\n",
    "            if bit == \"1\":\n",
    "                qc_dj.x(qubit)\n",
    "        return qc_dj\n",
    "\n",
    "    for state in on_states:\n",
    "        # qc_dj.barrier()  # Barriers are added to help visualize how the functions are created. They can safely be removed.\n",
    "        qc_dj = add_cx(qc_dj, f\"{state:0b}\")\n",
    "        qc_dj.mcx(list(range(num_qubits)), num_qubits)\n",
    "        qc_dj = add_cx(qc_dj, f\"{state:0b}\")\n",
    "\n",
    "    # qc_dj.barrier()\n",
    "\n",
    "    return qc_dj\n",
    "\n",
    "\n",
    "n = 3  # number of input qubits\n",
    "\n",
    "oracle = dj_function(n)\n",
    "\n",
    "display(oracle.draw(\"mpl\"))"
   ]
  },
  {
   "cell_type": "markdown",
   "id": "78096e00-a29b-418c-a620-726675c2a792",
   "metadata": {},
   "source": [
    "This is the oracle function, which is either balanced or constant. Can you see by looking at it whether the output on the last qubit depends on the values put in for the first $n$ qubits? If the output for the last qubit depends on the first $n$ qubits, can you tell if that dependent output is balanced or not?\n",
    "\n",
    "We can tell whether the function is balanced or constant by looking at the above circuit, but remember, for the sake of this problem, we think of this function as a \"black box.\" We can't peek into the box to look at the circuit diagram. Instead, we need to query the box.\n",
    "\n",
    "To query the box, we use the Deutsch-Jozsa algorithm and determine whether the function is constant or balanced:"
   ]
  },
  {
   "cell_type": "code",
   "execution_count": 12,
   "id": "fe7ee688-f052-4a7e-bcc7-a14bea57e5c6",
   "metadata": {},
   "outputs": [
    {
     "data": {
      "text/plain": [
       "<Image src=\"/learning/images/modules/computer-science/deutsch-jozsa/extracted-outputs/fe7ee688-f052-4a7e-bcc7-a14bea57e5c6-0.avif\" alt=\"Output of the previous code cell\" />"
      ]
     },
     "execution_count": 12,
     "metadata": {},
     "output_type": "execute_result"
    }
   ],
   "source": [
    "blackbox = oracle.to_gate()\n",
    "blackbox.label = \"$U_f$\"\n",
    "\n",
    "\n",
    "qc_dj = QuantumCircuit(n + 1, n)\n",
    "qc_dj.x(n)\n",
    "qc_dj.h(range(n + 1))\n",
    "qc_dj.barrier()\n",
    "qc_dj.compose(blackbox, inplace=True)\n",
    "qc_dj.barrier()\n",
    "qc_dj.h(range(n))\n",
    "qc_dj.measure(range(n), range(n))\n",
    "\n",
    "qc_dj.decompose().decompose()\n",
    "\n",
    "\n",
    "qc_dj.draw(\"mpl\")"
   ]
  },
  {
   "cell_type": "code",
   "execution_count": 13,
   "id": "bf3aedfa-7454-424e-85cb-c446a8918417",
   "metadata": {},
   "outputs": [
    {
     "data": {
      "text/plain": [
       "<Image src=\"/learning/images/modules/computer-science/deutsch-jozsa/extracted-outputs/bf3aedfa-7454-424e-85cb-c446a8918417-0.avif\" alt=\"Output of the previous code cell\" />"
      ]
     },
     "execution_count": 13,
     "metadata": {},
     "output_type": "execute_result"
    }
   ],
   "source": [
    "# Step 1: Map the problem\n",
    "\n",
    "qc_dj = QuantumCircuit(n + 1, n)\n",
    "qc_dj.x(n)\n",
    "qc_dj.h(range(n + 1))\n",
    "qc_dj.barrier()\n",
    "qc_dj.compose(oracle, inplace=True)\n",
    "qc_dj.barrier()\n",
    "qc_dj.h(range(n))\n",
    "qc_dj.measure(range(n), range(n))\n",
    "\n",
    "qc_dj.decompose().decompose()\n",
    "\n",
    "\n",
    "qc_dj.draw(\"mpl\")"
   ]
  },
  {
   "cell_type": "code",
   "execution_count": 14,
   "id": "5497c1aa-c427-419b-b22c-a0c2fa0c4028",
   "metadata": {},
   "outputs": [],
   "source": [
    "# Step 2: Transpile\n",
    "from qiskit.transpiler.preset_passmanagers import generate_preset_pass_manager\n",
    "\n",
    "target = backend.target\n",
    "pm = generate_preset_pass_manager(target=target, optimization_level=3)\n",
    "\n",
    "qc_isa = pm.run(qc_dj)"
   ]
  },
  {
   "cell_type": "code",
   "execution_count": 15,
   "id": "974f3db9-1b55-414c-9fe4-d891cf22f78f",
   "metadata": {},
   "outputs": [],
   "source": [
    "# Step 3: Run the job on a real quantum computer\n",
    "\n",
    "job = sampler.run([qc_isa], shots=1)\n",
    "# job = sampler_sim.run([qc_isa],shots=1) # uncomment this line to run on simulator instead\n",
    "res = job.result()\n",
    "counts = res[0].data.c.get_counts()\n",
    "\n",
    "# job = sampler_gen.run([qc_isa],shots=1)\n",
    "# res=job.result()\n",
    "# counts=res[0].data.c.get_counts()"
   ]
  },
  {
   "cell_type": "code",
   "execution_count": 16,
   "id": "39af76b4-f380-4a61-82a4-1e9203c20408",
   "metadata": {},
   "outputs": [
    {
     "name": "stdout",
     "output_type": "stream",
     "text": [
      "{'110': 1}\n",
      "balanced\n"
     ]
    }
   ],
   "source": [
    "# Step 4: Visualize and analyze results\n",
    "\n",
    "## Analysis\n",
    "print(counts)\n",
    "\n",
    "if (\n",
    "    \"0\" * n in counts\n",
    "):  # The D-J algorithm returns all zeroes if the function was constant\n",
    "    print(\"constant\")\n",
    "else:\n",
    "    print(\"balanced\")  # anything other than all zeroes means the function is balanced."
   ]
  },
  {
   "cell_type": "markdown",
   "id": "c601a252-d1d4-4def-b9a4-d05494d34899",
   "metadata": {},
   "source": [
    "Above, the first line of the output is the bitstring of measurement outcomes. The second line outputs whether the bitstring implies that the function was balanced or constant. If the bitstring contained all zeroes, then it was constant; if not, it was balanced. So, with just a single run of the above quantum circuit, we can determine whether the function is constant or balanced!\n",
    "\n",
    "#### Check your understanding\n",
    "Read the questions below, think about your answers, then click the triangles to reveal the solutions.\n",
    "\n",
    "<details>\n",
    "<summary>\n",
    "\n",
    "How many queries would it take a classical computer to determine with 100% certainty whether a function were constant or balanced? Remember, classically, a single query only allows you to apply the function to a single bitstring.\n",
    "\n",
    "</summary>\n",
    "\n",
    "__Answer:__\n",
    "\n",
    "There are $2^n$ possible bitstrings to check, and in the worst case, you would need to test $2^n/2+1$ of these. For example, if the function were constant, and you kept measuring \"1\" as the output of the function, then you couldn't be certain that it was truly constant until you checked over half of the results. Before then, you might have just been very unlucky to keep measuring \"1\" on a balanced function. It's like flipping a coin over and over and it landing heads every time. It's unlikely, but not impossible.\n",
    "\n",
    "</details>\n",
    "\n",
    "<details>\n",
    "<summary>\n",
    "\n",
    "How would your above answer change if you just had to just measure until one outcome (balanced or constant) is more likely than the other? How many queries would it take in this case?\n",
    "\n",
    "</summary>\n",
    "\n",
    "__Answer:__\n",
    "\n",
    "In this case, you could just measure twice. If the two measurements are different, you know the function is balanced. If the two measurements are the same, then it could be balanced, or it could be constant. The probability that it's balanced with this set of measurements is: $\\frac{1}{2}\\frac{2^n /2 - 1}{2^n-1}$. This is less than 1/2, so it's more likely that the function is constant in this case.\n",
    "\n",
    "</details>\n",
    "\n",
    "So, the Deutsch-Jozsa algorithm demonstrated an exponential speed-up over a *deterministic* classical algorithm (one that returns the answer with 100% certainty), but no significant speed-up over a *probabilistic* one (one that returns a result that is *likely* to be the correct answer)."
   ]
  },
  {
   "cell_type": "markdown",
   "id": "37d8d1b5-1593-480e-afb9-cdae1debb8ea",
   "metadata": {},
   "source": [
    "### 4.1. The Bernstein - Vazirani problem\n",
    "\n",
    "In 1997, Ethan Bernstein and Umesh Vazirani used the Deutsch-Jozsa algorithm to solve a more specific, restricted problem compared to the Deutsch-Jozsa problem. Rather than simply try to distinguish between two different classes of functions, as in the D-J case, Bernstein and Vazirani used the Deutsch-Jozsa algorithm to actually learn a string encoded in a function. Here's the problem:\n",
    "\n",
    "The function $f:\\{0,1\\}^n \\rightarrow \\{0,1\\}$ still takes an $n$-bit string and outputs a single bit. But now, instead of promising that the function is balanced or constant, we're now promised that the function is the dot product between the input string $x$ and some secret $n$-bit string $s$, modulo 2. (This dot product modulo 2 is called the \"binary dot product.\") The problem is to figure out what the secret, $n$-bit string is.\n",
    "\n",
    "Written another way, we're given a black-box function $f: {0,1}^n \\rightarrow {0,1}$ that satisfies $f(x) = s \\cdot x$ for some string $s$, and we want to learn the string $s$.\n",
    "\n",
    "\n",
    "Let's take a look at how the D-J algorithm solves this problem:\n",
    "\n",
    "1. First, a Hadamard gate is applied to the $n$ input qubits, and a NOT gate plus a Hadamard is applied to the output qubit, making the state:\n",
    "\n",
    "$$\n",
    "|\\Psi\\rangle = |-\\rangle_{n} \\otimes |+\\rangle_{n-1} \\otimes |+\\rangle_{n-2} \\otimes ... \\otimes |+\\rangle_0\n",
    "$$\n",
    "\n",
    "   The state of qubits 1 through $n$ can be written more simply as a sum over all $2^n$ the $n$-qubit basis states $|00...00\\rangle, |00...01\\rangle, |000...11\\rangle, ..., |111...11\\rangle$. We call the set of these basis states $\\Sigma^n$. (See [Fundamentals of Quantum Algorithms](/learning/courses/fundamentals-of-quantum-algorithms/quantum-query-algorithms/deutsch-jozsa-algorithm) for more details.)\n",
    "\n",
    "$$\n",
    "|\\Psi\\rangle = |-\\rangle \\otimes \\frac{1}{\\sqrt{2^n}}\\sum\\limits_{x \\in \\Sigma^n}{|x\\rangle}\n",
    "$$\n",
    "\n",
    "2. Next, the $U_f$ gate is applied to the qubits. This gate will take the first n qubits as input (which are now in an equal superposition of all possible n-bit strings) and applies the function $f(x)=s \\cdot x$ to the output qubit, so that this qubit is now in the state: $ |- \\oplus f(x)\\rangle$. Thanks to the phase kickback mechanism, the state of this qubit remains unchanged, but some of the terms in the input qubit state pick up a minus sign:\n",
    "\n",
    "$$\n",
    "|\\Psi\\rangle = |-\\rangle \\otimes \\frac{1}{\\sqrt{2^n}}\\sum\\limits_{x \\in \\Sigma^n}{(-1)^{f(x)}|x\\rangle}\n",
    "$$\n",
    "\n",
    "3. Now, the next set of Hadamards are applied to qubits 0 through $n-1$. Keeping track of the minus signs in this case can be tricky. It's helpful to know that applying a layer of Hadamards to $n$ qubits in a standard basis state $|x\\rangle$ can be written as:\n",
    "\n",
    "$$\n",
    "H^{\\otimes n} |x\\rangle = \\frac{1}{\\sqrt{2^n}}\\sum\\limits_{y \\in \\Sigma^n}{(-1)^{x \\cdot y}|y\\rangle}\n",
    "$$\n",
    "\n",
    "So the state becomes:\n",
    "\n",
    "$$\n",
    "|\\Psi\\rangle = |-\\rangle \\otimes \\frac{1}{2^n}\\sum\\limits_{x \\in \\Sigma^n}\\sum\\limits_{y \\in \\Sigma^n}{(-1)^{(s \\cdot x) + (x \\cdot y)}|y\\rangle}\n",
    "$$\n",
    "\n",
    "4. Next step is to measure the first $n$ bits. But what will we measure? It turns out that the state above simplifies to:  $|\\Psi\\rangle = |-\\rangle \\otimes |s\\rangle$, but that's far from obvious. If you'd like to follow through the math, see John Watrous' [Fundamentals of Quantum Algorithms](/learning/courses/fundamentals-of-quantum-algorithms/quantum-query-algorithms/deutsch-jozsa-algorithm#the-bernstein-vazirani-problem) course. The point is, though, that the phase kickback mechanism leads to the input qubits being in the state $|s\\rangle$. So, to find out what the secret string $s$ was, you simply need to measure the qubits!\n",
    "\n",
    "\n",
    "#### Check your understanding\n",
    "Read the questions below, think about your answers, then click the triangles to reveal the solutions.\n",
    "\n",
    "<details>\n",
    "<summary>\n",
    "\n",
    "Verify that the state from Step 3 above is indeed the state $|s\\rangle$ for the special case of $n=1$.\n",
    "\n",
    "</summary>\n",
    "\n",
    "__Answer:__\n",
    "\n",
    "When you explicitly write out the two summations, you should get a state with four terms (let's omit the output state $|-\\rangle$ for this):\n",
    "\n",
    "$$\n",
    "|\\Psi\\rangle = \\frac{1}{2}[|0\\rangle + (-1)^s |0\\rangle + |1\\rangle + (-1)^{(s+1)} |1\\rangle]\n",
    "$$\n",
    "\n",
    "If $s=0$, then the first two terms add constructively and the last two terms cancel, leaving us with $|\\Psi\\rangle = |0\\rangle$. If $s=1$, then the last two terms add constructively and the first two terms cancel, leaving us with $|\\Psi\\rangle = |1\\rangle$. So, in either case, $|\\Psi\\rangle = |s\\rangle$. Hopefully this simplest case gives you a sense for how the general case with $n$ qubits works: all terms that are not $|s\\rangle$ interfere away, leaving just the state $|s\\rangle$.\n",
    "\n",
    "</details>\n",
    "\n",
    "<details>\n",
    "<summary>\n",
    "How can the same algorithm solve both the Bernstein-Vazirani and Deutsch-Jozsa problems? To make sense of this, think about Bernstein-Vazirani functions, which are of the form $f(x) = s \\cdot x$. Are these functions also Deutsch-Jozsa functions? That is, determine whether functions of this form satisfy the Deutsch-Jozsa problem promise: that they're either *constant* or *balanced*. How does this help us understand how the same algorithm solves two different problems?\n",
    "\n",
    "</summary>\n",
    "\n",
    "__Answer:__\n",
    "\n",
    "Every Bernstein-Vazirani function of the form $f(x) = s \\cdot x$ also satisfies the Deutsch-Jozsa problem promise: if s=00...00, then the function is constant (always returns 0 for every string x). If s is any other string, then the function is balanced. So, applying the Deutsch-Jozsa algorithm to one of these functions simultaneously solves both problems! It returns the string, and if that string is 00...00 then we know it's constant; if there's at least one \"1\" in the string, we know it's balanced.\n",
    "\n",
    "</details>\n",
    "\n",
    "We can also verify that this algorithm successfully solves the Bernstein-Vazirani problem by testing it experimentally. First, we create the B-V function that lives inside the black box:"
   ]
  },
  {
   "cell_type": "code",
   "execution_count": 17,
   "id": "45449a26-0bd0-4244-87be-3309937955b9",
   "metadata": {},
   "outputs": [
    {
     "data": {
      "text/plain": [
       "<Image src=\"/learning/images/modules/computer-science/deutsch-jozsa/extracted-outputs/45449a26-0bd0-4244-87be-3309937955b9-0.avif\" alt=\"Output of the previous code cell\" />"
      ]
     },
     "metadata": {},
     "output_type": "display_data"
    }
   ],
   "source": [
    "# Step 1: Map the problem\n",
    "\n",
    "\n",
    "def bv_function(s):\n",
    "    \"\"\"\n",
    "    Create a Bernstein-Vazirani function from a string of 1s and 0s.\n",
    "    \"\"\"\n",
    "    qc = QuantumCircuit(len(s) + 1)\n",
    "    for index, bit in enumerate(reversed(s)):\n",
    "        if bit == \"1\":\n",
    "            qc.cx(index, len(s))\n",
    "    return qc\n",
    "\n",
    "\n",
    "display(bv_function(\"1000\").draw(\"mpl\"))"
   ]
  },
  {
   "cell_type": "code",
   "execution_count": 18,
   "id": "0cf6f2bc-3b5e-46d2-ab82-1a190e77c42b",
   "metadata": {},
   "outputs": [
    {
     "data": {
      "text/plain": [
       "<Image src=\"/learning/images/modules/computer-science/deutsch-jozsa/extracted-outputs/0cf6f2bc-3b5e-46d2-ab82-1a190e77c42b-0.avif\" alt=\"Output of the previous code cell\" />"
      ]
     },
     "execution_count": 18,
     "metadata": {},
     "output_type": "execute_result"
    }
   ],
   "source": [
    "string = \"1000\"  # secret string that we'll pretend we don't know or have access to\n",
    "n = len(string)\n",
    "\n",
    "qc = QuantumCircuit(n + 1, n)\n",
    "qc.x(n)\n",
    "qc.h(range(n + 1))\n",
    "qc.barrier()\n",
    "# qc.compose(oracle, inplace = True)\n",
    "qc.compose(bv_function(string), inplace=True)\n",
    "qc.barrier()\n",
    "qc.h(range(n))\n",
    "qc.measure(range(n), range(n))\n",
    "\n",
    "qc.draw(\"mpl\")"
   ]
  },
  {
   "cell_type": "code",
   "execution_count": 19,
   "id": "5d225a6e-e3d0-4c08-8aeb-f03337bfffc4",
   "metadata": {},
   "outputs": [],
   "source": [
    "# Step 2: Transpile\n",
    "from qiskit.transpiler.preset_passmanagers import generate_preset_pass_manager\n",
    "\n",
    "target = backend.target\n",
    "pm = generate_preset_pass_manager(target=target, optimization_level=3)\n",
    "\n",
    "qc_isa = pm.run(qc)"
   ]
  },
  {
   "cell_type": "code",
   "execution_count": 20,
   "id": "8fef6a65-227a-4f27-af3e-348513e1cd33",
   "metadata": {},
   "outputs": [],
   "source": [
    "# Step 3: Run the job on a real quantum computer\n",
    "\n",
    "job = sampler.run([qc_isa], shots=1)\n",
    "# job = sampler_sim.run([qc_isa],shots=1) # uncomment this line to run on simulator instead\n",
    "res = job.result()\n",
    "counts = res[0].data.c.get_counts()\n",
    "\n",
    "# job = sampler_gen.run([qc_isa],shots=1)\n",
    "# res=job.result()\n",
    "# counts=res[0].data.c.get_counts()"
   ]
  },
  {
   "cell_type": "code",
   "execution_count": 21,
   "id": "ec576787-d9ba-4406-b799-9c0de21a8088",
   "metadata": {},
   "outputs": [
    {
     "name": "stdout",
     "output_type": "stream",
     "text": [
      "{'0000': 1}\n"
     ]
    }
   ],
   "source": [
    "# Step 4: Visualize and analyze results\n",
    "\n",
    "## Analysis\n",
    "print(counts)"
   ]
  },
  {
   "cell_type": "markdown",
   "id": "46ff0418-570d-4e78-be36-f403aeccc392",
   "metadata": {},
   "source": [
    "So, with just a single query, the Deutsch-Jozsa algorithm will return the string $s$ used in the function: $f(x)=x \\cdot s$ when we apply it to the Bernstein-Vazirani problem. With a classical algorithm, one would need $n$ queries to solve the same problem.\n",
    "\n",
    "## 5. Conclusion\n",
    "\n",
    "We hope that by examining these simple examples, we've given you a better intuition for how quantum computers are able to harness superposition, entanglement, and interference to achieve their power over classical computers.\n",
    "\n",
    "The Deutsch-Jozsa algorithm has huge historical importance because it was the first to demonstrate any speedup over a classical algorithm, but it was only a polynomial speedup. The Deutsch-Jozsa algorithm is just the beginning of the story.\n",
    "\n",
    "After they used the algorithm to solve their problem, Bernstein and Vazirani used this as the basis for a more complicated, recursive problem called the *recursive Fourier sampling problem*. Their solution offered a super-polynomial speedup over classical algorithms. And even before Bernstein and Vazirani, Peter Shor had already come up with his famous algorithm that enabled quantum computers to factor large numbers exponentially faster than any classical algorithm could. These results, collectively showed the exciting promise of future quantum computer, and spurred physicists and engineers to make this future a reality."
   ]
  },
  {
   "cell_type": "markdown",
   "id": "c76273ac-ad3c-4c82-94e8-213e887dc7b7",
   "metadata": {},
   "source": [
    "## 6. Review and questions\n",
    "\n",
    "### Critical concepts\n",
    "- the Deutsch and Deutsch-Jozsa algorithms use quantum parallelism combined with interference to find an answer to a problem faster than a classical computer can.\n",
    "- the phase kickback mechanism is a couterintuitive quantum phenomena that transfers operations on one qubit to the phase of another qubit. The Deutsch and Deutsch-Jozsa algorithms utilize this mechanism.\n",
    "- The Deutsch-Jozsa algorithm offers a polynomial speedup over any deterministic classical algorithm.\n",
    "- The Deutsch-Jozsa algorithm can be applied to a different problem, called the Bernstein-Vazirani problem, to find a hidden string encoded in a function.\n",
    "\n",
    "### True/false\n",
    "1. T/F Deutsch's algorithm is a special case of the Deutsch-Jozsa algorithm where the input is a single qubit.\n",
    "2. T/F The Deutsch and Deutsch-Jozsa algorithms use quantum superposition and interference to achieve their efficiency.\n",
    "4. T/F The Deutsch-Jozsa algorithm requires multiple function evaluations to determine if a function is constant or balanced.\n",
    "5. T/F The \"Bernstein-Vazirani algorithm\" is actually the same as the Deutsch-Jozsa algorithm, applied to a different problem.\n",
    "6. T/F The Bernstein-Vazirani algorithm can find multiple secret strings simultaneously.\n",
    "\n",
    "\n",
    "\n",
    "### Short answer\n",
    "\n",
    "1. How long would it take a classical algorithm to solve the Deutsch-Jozsa problem in the worst case?\n",
    "\n",
    "2. How long would it take a classical algorithm to solve the Bernstein-Vazirani problem? What speedup does the DJ algorithm offer in this case?\n",
    "\n",
    "3. Describe the phase-kickback mechanism and how it works to solve the Deutsch-Jozsa and Bernstein-Vazirani problems.\n",
    "\n",
    "### Challenge problem\n",
    "1. The Deutsch-Jozsa algorithm: Recall that you had a question above asking you to work out the intermediate qubit states $\\pi_1$, and $\\pi_2$ of the Deutsch's algorithm. Do the same for the intermediate $n+1$-qubit states $\\pi_1$, and $\\pi_2$ of the Deutsch-Jozsa algorithm, for the specific case that $n=2$. Then, verify that $\\pi_3 = |-\\rangle \\otimes \\sum\\limits_{x_0...x_n}(-1)^{f(x_0...x_n)}|x_0 ... x_n\\rangle$, again, for the specific case that $n=2$."
   ]
  }
 ],
 "metadata": {
  "description": "Learn how the Deutsch-Jozsa algorithm uses quantum parallelism and interference to achieve an exponential speedup over classical algorithms.",
  "kernelspec": {
   "display_name": "Python 3",
   "language": "python",
   "name": "python3"
  },
  "language_info": {
   "codemirror_mode": {
    "name": "ipython",
    "version": 3
   },
   "file_extension": ".py",
   "mimetype": "text/x-python",
   "name": "python",
   "nbconvert_exporter": "python",
   "pygments_lexer": "ipython3",
   "version": "3"
  },
  "title": "The Deutsch-Jozsa Algorithm",
  "widgets": {
   "application/vnd.jupyter.widget-state+json": {
    "state": {},
    "version_major": 2,
    "version_minor": 0
   }
  }
 },
 "nbformat": 4,
 "nbformat_minor": 5
}
