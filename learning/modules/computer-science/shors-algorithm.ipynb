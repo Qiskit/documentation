{
 "cells": [
  {
   "cell_type": "markdown",
   "id": "78090c95-8fea-4731-a74a-515150e4f899",
   "metadata": {},
   "source": [
    "{/* cspell:ignore checkmark */}"
   ]
  },
  {
   "cell_type": "markdown",
   "id": "64abf08d-8e69-41f9-b802-8c0fbbc37555",
   "metadata": {},
   "source": [
    "# Shor's algorithm"
   ]
  },
  {
   "cell_type": "markdown",
   "id": "c257cbc3-7730-40cc-a240-19e57033d582",
   "metadata": {},
   "source": [
    "For this Qiskit in Classrooms module, students must have a working Python environment with the following packages installed:\n",
    "- `qiskit` v2.1.0 or newer\n",
    "- `qiskit-ibm-runtime` v0.40.1 or newer\n",
    "- `qiskit-aer` v0.17.0 or newer\n",
    "- `qiskit.visualization`\n",
    "- `numpy`\n",
    "- `pylatexenc`\n",
    "\n",
    "\n",
    "To set up and install the packages above, see the [Install Qiskit](/docs/guides/install-qiskit) guide.\n",
    "In order to run jobs on real quantum computers, students will need to set up an account with IBM Quantum&reg; by following the steps in the [Set up your IBM Cloud account](/docs/guides/cloud-setup) guide.\n",
    "\n",
    "This module was tested and used three seconds of QPU time. This is an estimate only. Your actual usage may vary."
   ]
  },
  {
   "cell_type": "code",
   "execution_count": null,
   "id": "500d10c9-17ca-4787-90e0-4c57bf86c80d",
   "metadata": {},
   "outputs": [],
   "source": [
    "# Uncomment and modify this line as needed to install dependencies\n",
    "#!pip install 'qiskit>=2.1.0' 'qiskit-ibm-runtime>=0.40.1' 'qiskit-aer>=0.17.0' 'numpy' 'pylatexenc'"
   ]
  },
  {
   "attachments": {},
   "cell_type": "markdown",
   "id": "72231ac3-5b60-4bcb-a072-0c2ecdd176aa",
   "metadata": {
    "jp-MarkdownHeadingCollapsed": true
   },
   "source": [
    "## Intro\n",
    "\n",
    "In the early 1990s, there was growing excitement around the potential of quantum computers to solve problems that were hard for classical computers. A few talented computer scientists had devised algorithms that demonstrated the power of quantum computing for some niche, contrived problems, but nobody had found a single, \"killer app\" of quantum computing that was sure to revolutionize the field. That was, until 1994, when Peter Shor came up with what is now called Shor's algorithm for factoring large numbers.\n",
    "\n",
    "It was well known at the time that finding the prime factors of a large number was extremely difficult for a classical computer. In fact, internet security protocols relied on this difficulty. Shor found a way to find these factors exponentially more efficiently by offloading some of the more challenging steps onto a theoretical, future quantum computer.\n",
    "\n",
    "In this module, we will explore Shor's algorithm. First, we'll give a bit more context to the algorithm, formalizing the problem it solves and explaining the relevance to cyber security. Next, we'll give a primer on modular mathematics and how to apply it to the factoring problem, showing how factoring reduces to another problem called \"order-finding.\" We'll show how the Quantum Fourier Transform and Quantum Phase Estimation that we learned about in a previous module come into play, and how to use them to solve the order-finding problem.\n",
    "\n",
    "Finally, we'll run Shor's algorithm on a real quantum computer! Keep in mind, though, that this algorithm will really only be useful when we have a large, fault-tolerant quantum computer, which is still some years away. So, we'll just factor a small number to demonstrate how the algorithm works."
   ]
  },
  {
   "cell_type": "markdown",
   "id": "22a38013-7bd5-46db-9a44-e89d66c2d06b",
   "metadata": {},
   "source": [
    "## The factoring problem\n",
    "\n",
    "The goal of the factoring problem is to find the prime factors of a number $N$. For some numbers $N$, this is pretty easy. For example, if $N$ is even, one of its prime factors will be 2. If $N$ is a prime power, meaning $N=p^k$ for some prime number $p$, it is also fairly easy to find $p$: we just approximate the $k$th root of $N$ and look for nearby primes that could be $p$.\n",
    "\n",
    "Where classical computers struggle, though, is when $N$ is odd and *not* a prime power. This is the case Shor's algorithm deals with. The algorithm finds two factors $p$ and $q$ such that $N=pq$. It can be applied recursively until all factors are prime. In the next sections we'll see how this problem is tackled.\n",
    "\n",
    "### Relevance to cyber security\n",
    "\n",
    "Many cryptographic schemes have been built based on the fact that factoring large numbers is hard, including one that is commonly used today, called RSA. In RSA, a public key is created by multiplying two large prime numbers together to get $N = p\\cdot q$. Then, anyone can use this public key to encrypt data. But only somebody with the private key, $p$ and $q$, can decrypt that data.\n",
    "\n",
    "If $N$ were easy to factor, then anyone would be able to determine what $p$ and $q$ are and break the encryption. But it's not. This is a famously difficult problem. In fact, the prime factors of a number called RSA1024, which is 1024 binary digits and 309 decimal digits long, has still not been found, despite a \\$100,000 prize being offered for its factoring way back in 1991."
   ]
  },
  {
   "cell_type": "markdown",
   "id": "01a0c5d4-922b-47af-8a8b-d87df8d520b0",
   "metadata": {},
   "source": [
    "## Shor's solution\n",
    "\n",
    "In 1994, Peter Shor realized that a quantum computer could factor a large number exponentially more efficiently than a classical computer could. His insight relied on the relationship between this factoring problem and *modular arithmetic*. We'll go through a brief primer on modular arithmetic, then we'll see how we can use this to factor $N$.\n",
    "\n",
    "### Modular arithmetic\n",
    "\n",
    "Modular arithmetic is a system of counting that is cyclic, meaning that while counting starts in the usual way, with integers 0, 1, 2, etc., at some point, after a period $N$, the counting starts over again. Let's see how this works with an example. Say our period is 5. Then, as we're counting, where we would normally hit 5, we instead start over at 0:\n",
    "\n",
    "$$0, 1, 2, 3, 4, 0, 1, 2, 3, 4, 0, 1, 2, ...$$\n",
    "\n",
    "This is because in the \"modulo-5\" world, 5 is equivalent to 0. We say that $5\\bmod 5 \\ = 0$. In fact, all multiples of 5 will be equivalent to $0\\bmod 5$.\n",
    "\n",
    "\n",
    "#### Check your understanding\n",
    "Read the question(s) below, think about your answer, then click the triangle to reveal the solution.\n",
    "<details>\n",
    "<summary>\n",
    "\n",
    "Use modular arithmetic to solve the following problem:\n",
    "\n",
    "You depart on a long, transcontinental train ride at 8 AM. The train ride is 60 hours long. What time is it when you arrive?\n",
    "\n",
    "</summary>\n",
    "\n",
    "__Answer:__\n",
    "\n",
    "\n",
    "The period is 24, since there are 24 hours in a day. So, this problem can be written in modular arithmetic as:\n",
    "\n",
    "$$ (8+60)\\text{mod}(24) = 20 $$\n",
    "\n",
    "So, you would arrive at your destination at 20:00, or 8 PM.\n",
    "\n",
    "</details>\n",
    "\n",
    "\n",
    "#### $\\mathbb{Z}_N$ and $\\mathbb{Z}_N^*$\n",
    "\n",
    "It's often useful to introduce two sets, $\\mathbb{Z}_N$ and $\\mathbb{Z}_N^*$. $\\mathbb{Z}_N$ is simply the set of numbers that exist in a \"modulo-$N$\" world. For example, when we were counting modulo-5, the set would be $\\mathbb{Z}_5=\\{0,1,2,3,4\\}$. Another example: $\\mathbb{Z}_{15} = \\{0,1,2,3,4,5,6,7,8,9,10,11,12,13,14\\}$. We can perform addition and multiplication (modulo $N$) on the elements in $\\mathbb{Z}_N$, and the result of each of these operations also is an element in $\\mathbb{Z}_N$, making $\\mathbb{Z}_N$ a mathematical object called a *ring*.\n",
    "\n",
    "There's a special subset of $\\mathbb{Z}_N$ that is of particular interest to us for Shor's algorithm. That is the subset of numbers in $\\mathbb{Z}_N$ such that the greatest common divisor between each element and $N$ is 1, so each element is \"co-prime\" to $N$. If we take the set of these numbers along with the modular multiplication operation, then this forms another mathematical object, called a *group*. We call this group $\\mathbb{Z}_N^*$. Turns out that with $\\mathbb{Z}_N^*$ (and finite groups in general), if we pick any element $a \\in \\mathbb{Z}_N^*$, and repeatedly multiply $a$ to itself, we'll always eventually get the number $1$. The minimum number of times one must multiply $a$ to itself in order to get $1$ is called the **order** of $a$. This fact will be very important to our discussion of how to factor numbers below.\n",
    "\n",
    "#### Check your understanding\n",
    "Read the question(s) below, think about your answer, then click the triangle to reveal the solution.\n",
    "\n",
    "<details>\n",
    "<summary>\n",
    "\n",
    "What is $\\mathbb{Z}_{15}^*$?\n",
    "\n",
    "</summary>\n",
    "\n",
    "__Answer:__\n",
    "\n",
    "$\\mathbb{Z}_{15}^* = \\{1,2,4,7,8,11,13,14\\} $\n",
    "\n",
    "We excluded the following numbers:\n",
    "\n",
    "$$\n",
    "\\begin{aligned}\n",
    "3: GCD(3,15)=3 \\\\\n",
    "5: GCD(5,15)=5 \\\\\n",
    "6: GCD(6,15)=3 \\\\\n",
    "9: GCD(9,15)=3 \\\\\n",
    "10: GCD(10,15)=5 \\\\\n",
    "12: GCD(12,15)=3 \\\\\n",
    "\\end{aligned}\n",
    "$$\n",
    "\n",
    "\n",
    "</details>\n",
    "\n",
    "<details>\n",
    "<summary>\n",
    "\n",
    "\n",
    "What is the order of each of the elements in $\\mathbb{Z}_{15}^*$?\n",
    "\n",
    "</summary>\n",
    "\n",
    "__Answer:__\n",
    "\n",
    "The order $r$ is the lowest number such that $a^r\\text{mod}(15)=1$ for each element $a$.\n",
    "\n",
    "$$\n",
    "\\begin{aligned}\n",
    "1^1\\text{mod}(15) = 1, r=1 \\\\\n",
    "2^4\\text{mod}(15) = 1, r=4 \\\\\n",
    "4^2\\text{mod}(15) = 1, r=2 \\\\\n",
    "7^4\\text{mod}(15) = 1, r=4 \\\\\n",
    "8^4\\text{mod}(15) = 1, r=4 \\\\\n",
    "11^2\\text{mod}(15) = 1, r=2 \\\\\n",
    "13^4\\text{mod}(15) = 1, r=4 \\\\\n",
    "14^2\\text{mod}(15) = 1, r=2 \\\\\n",
    "\\end{aligned}\n",
    "$$\n",
    "\n",
    "Note that, while we were able to find the order of the numbers in $\\mathbb{Z}_{15}^*$, this is NOT an easy task in general, for larger $N$. This is the crux of the factoring problem and why we need a quantum computer. We'll see why as we work through the rest of the notebook.\n",
    "\n",
    "\n",
    "</details>"
   ]
  },
  {
   "cell_type": "markdown",
   "id": "c19d2032-3c40-48ee-823b-607b1ed8b4f0",
   "metadata": {},
   "source": [
    "### Applying modular arithmetic to the factoring problem:\n",
    "\n",
    "The key to finding factors $p$ and $q$ such that $N=pq$ comes down to finding some *other* integer $x$ such that\n",
    "\n",
    "$$ x^2 \\equiv 1 \\bmod N $$ and $$x \\not\\equiv \\pm 1 \\bmod N.$$\n",
    "\n",
    "How does finding $x$ help us find the factors $p$ and $q$? Let's go through the argument now. Since $ x^2 \\equiv 1 \\bmod N $, that means that $x^2 - 1 \\equiv 0 \\bmod N $. In other words, $x^2 - 1$ is a multiple of $N$. So, for some integer $l$,\n",
    "\n",
    "$$ x^2 - 1 = l N $$\n",
    "\n",
    "We can factor $ x^2 - 1 $ to get:\n",
    "\n",
    "$$ (x+1)(x-1) = l N $$\n",
    "\n",
    "From our initial assumptions we know that $x \\not\\equiv \\pm 1 \\bmod N$, so $N$ doesn't divide evenly into either $x+1$ or $x-1$. Instead, the factor $p$ must divide into $x-1$ (but not $x+1$) and $q$ must divide into $x+1$ (but not $x-1$), or vice-versa. Therefore, if we compute the greatest common divisors (GCDs) between $N$ and both $x-1$ and $x+1$, that will give us the factors $p$ and $q$. Calculating the GCD between two numbers is a classically easy task that can be accomplished, for example, using [Euclid's algorithm](https://en.wikipedia.org/wiki/Euclidean_algorithm).\n",
    "\n",
    "\n",
    "#### Check your understanding\n",
    "Read the question(s) below, think about your answer, then click the triangle to reveal the solution.\n",
    "\n",
    "<details>\n",
    "<summary>\n",
    "\n",
    "It might be tricky to understand each step of logic above, so try working through it with an example. Use $N=15$ and $x=11$. First, verify that $ x^2 \\equiv 1 \\text{mod}(N) $ and $x \\not\\equiv \\pm 1 \\bmod N$. Then continue to verify each step. Finally, calculate $\\text{GCD}(11\\pm1,15)$ and verify that they are the factors of $15$.\n",
    "\n",
    "</summary>\n",
    "\n",
    "__Answer:__\n",
    "\n",
    "$11^2 = 121$, which is $15*8 + 1$, so $11^2\\bmod 15 = 1$. $\\checkmark$\n",
    "\n",
    "$ 11 - 1 = 10$, which is not equivalent to $0\\bmod 15$. $\\checkmark$\n",
    "\n",
    "$ 11 + 1 = 12$, which is not equivalent to $0\\bmod 15$. $\\checkmark$\n",
    "\n",
    "Now, we know that $ (x+1)(x-1) = l N $ for some integer $l$. This is verified when we plug in $x$ and $N$: $ (12)(10) = l 15 $ when $l = 8$. $\\checkmark$\n",
    "\n",
    "Now, we need to calculate $\\text{GCD}(12,15)$ and $\\text{GCD}(10,15)$.\n",
    "\n",
    "$$\n",
    "\\begin{aligned}\n",
    "\\text{GCD}(12,15) = 3 \\\\\n",
    "\\text{GCD}(10,15) = 5\n",
    "\\end{aligned}\n",
    "$$\n",
    "\n",
    "So, we found our factors of $15$!\n",
    "</details>\n",
    "\n",
    "\n",
    "\n",
    "### The algorithm:\n",
    "\n",
    "So, now that we've seen how finding some integer $x$ such that $x^2 \\equiv 1\\bmod N$ helps us to factor $N$, we can go through Shor's algorithm. It essentially boils down to finding $x$:\n",
    "\n",
    "1. **Pick a random integer**\n",
    "Choose a random integer $a$ such that $1 < a < N$.\n",
    "- Compute $\\text{GCD}(a, N)$ classically.\n",
    "  - If $\\text{GCD}(a, N) > 1$, you've already found a factor. Stop.\n",
    "  - Otherwise, continue.\n",
    "\n",
    "2. **Find order $r$ of $a$ modulo $N$**\n",
    "Find the smallest positive integer $r$ that satisfies $a^r \\equiv 1 \\pmod N$.\n",
    "\n",
    "3. **Check if the order is even**\n",
    "- If $r$ is odd, go back to step 1 and pick a new $a$.\n",
    "- If $r$ is even, continue to step 4.\n",
    "\n",
    "4. **Compute $x = a^{r/2} \\bmod N$**\n",
    "- Check that $x \\not\\equiv 1 \\pmod N$ and $x \\not\\equiv -1 \\pmod N$.\n",
    "  - If $x \\equiv \\pm 1 \\pmod N$, go back to step 1 and pick a new $a$.\n",
    "- Otherwise, compute the gcds to extract the factors:\n",
    "\n",
    "$$\n",
    "p = \\text{GCD}(x-1, N), \\quad q = \\text{GCD}(x+1, N)\n",
    "$$\n",
    "\n",
    "These will be nontrivial factors of $N$.\n",
    "\n",
    "5. **Recursively factor if needed**\n",
    "- If $p$ and/or $q$ are not prime, apply the algorithm recursively to factor them completely.\n",
    "- Once all factors are prime, the factoring is complete.\n",
    "\n",
    "Based on this procedure, it might not be obvious why a quantum computer is needed to complete this task. It's necessary because step 2, finding the order of $a$ modulo $N$, is classically a very difficult problem. The complexity scales exponentially in the number $N$. But with a quantum computer, we just have to make use of Quantum Phase Estimation to solve it. Step 4, finding the GCD of two integers, is actually a pretty easy thing to do classically. So, the only step that actually needs the power of a quantum computer is the order-finding step. We say that the factoring problem \"reduces\" to the order-finding problem."
   ]
  },
  {
   "attachments": {},
   "cell_type": "markdown",
   "id": "d4771244-0604-4b2e-bd99-a52280456f43",
   "metadata": {},
   "source": [
    "### The hard part: order finding\n",
    "\n",
    "Now, we'll go through how we can use a quantum computer in order finding. First, let's clarify what we mean by \"order.\" Of course, I already told you what the order means mat\n",
    "hematically: it's the first non-zero integer $r$ such that $a^r = 1 \\pmod N.$ But let's see if we can gain a little more intuition into this concept.\n",
    "\n",
    "For small enough $N$, we can just determine the order by calculating each power of $a$, taking the modulus $N$ of that number, then stopping when we find the power $r$ that satisfies $a^r = 1 \\text{mod}(N)$. That's what we did with our example, $N=15$, above. Let's take a look at some graphs of these modular powers for some sample values of $a$ and $N$:\n",
    "\n",
    "![Value of a to the power of k modulo N versus the power k, where a=2 and N=15. We see that as k increases, a repeating pattern emerges, showing that a^k modulo N is periodic in k. ](/learning/images/modules/computer-science/shors-algorithm/a2n15.avif)\n",
    "\n",
    "![Value of a to the power of k modulo N versus the power k, where a=5 and N=21. We see that as k increases, a repeating pattern emerges, showing that a^k modulo N is periodic in k. ](/learning/images/modules/computer-science/shors-algorithm/a5n21.avif)\n",
    "\n",
    "Notice anything? These are periodic functions! And the order $r$ is the same as the period! **So, order-finding is equivalent to period-finding.**\n",
    "\n",
    "Quantum computers are very well suited to finding the period of functions. For this, we can use an algorithmic subroutine called Quantum Phase Estimation. We discussed QPE and its relationship to the Quantum Fourier Transform in the previous module. For a detailed refresher, go to the QFT module or John Watrous' lesson on [Quantum Phase Estimation](https://learning.quantum.ibm.com/course/fundamentals-of-quantum-algorithms/phase-estimation-and-factoring#factoring-by-order-finding) in his Quantum Algorithms course. But we'll go through the gist of the procedure now:\n",
    "\n",
    "In Quantum Phase Estimation (QPE), we start with a unitary $U$ and an eigenstate of that unitary $|\\psi\\rangle$. Then, we use QPE to approximate the corresponding eigenvalue, which, since the operator is unitary, will be of the form $e^{2\\pi i \\theta}$. So, finding the eigenvalue is equivalent to finding the value of $\\theta$ in the periodic function. The circuit looks like this:\n",
    "\n",
    "![Circuit diagram of the Quantum phase estimation procedure. The top m control qubits are prepared in superpositions with Hadamard gates, then controlled-unitary gates are applied to the bottom qubits, which are in an eigenstate of the unitary. Finally, an invers quantum Fourier transform is applied to the top qubits and they are measured.](/learning/images/modules/computer-science/shors-algorithm/QPE.avif)\n",
    "\n",
    "where the number of control qubits (the top $m$ qubits in the figure above) determines the precision of the approximation.\n",
    "\n",
    "\n",
    "In Shor’s algorithm, we use QPE on the unitary operator $M_a$:\n",
    "\n",
    "$$ M_a|y\\rangle \\equiv |ay \\mod N \\rangle .$$\n",
    "\n",
    "Here, $|y\\rangle$ denotes a computational basis state of the multi-qubit register, where the binary value of the qubits corresponds to the integer $y$. For instance, if $N=15$ and $y = 2$, then $|y\\rangle$ is represented by the four-qubit basis state $|0010\\rangle$, since four qubits are required to encode numbers up to 15. (If this concept is unfamiliar, see the introductory Qiskit in classrooms module for a refresher on binary encoding of quantum states.)\n",
    "\n",
    "Now, we need to figure out an eigenstate of this unitary. If we started in the state $|1\\rangle$, we can see that each successive application of $U$ will multiply the state of our register by $a \\pmod N$, and after $r$ applications we will arrive at the state $|1\\rangle$ again. For example with $a = 3$ and $N = 35$:\n",
    "\n",
    "$$\n",
    "\\begin{aligned}\n",
    "M_3|1\\rangle &= |3\\rangle & \\\\\n",
    "M_3^2|1\\rangle &= |9\\rangle \\\\\n",
    "M_3^3|1\\rangle &= |27\\rangle \\\\\n",
    "& \\vdots \\\\\n",
    "M_3^{(r-1)}|1\\rangle &= |12\\rangle \\\\\n",
    "M_3^r|1\\rangle &= |1\\rangle\n",
    "\\end{aligned}\n",
    "$$\n",
    "\n",
    "\n",
    "So superpositions of the states in this cycle ($|\\psi_j\\rangle$) of the form:\n",
    "\n",
    "$$|\\psi_j\\rangle = \\tfrac{1}{\\sqrt{r}}\\sum_{k=0}^{r-1}{e^{\\frac{2 \\pi i j k}{r}} |a^k \\rangle} $$\n",
    "\n",
    "are all eigenstates of $M_a$. (There are more eigenstates than just these. But we only care about the ones of the form above.)\n",
    "\n",
    "\n",
    "\n",
    "#### Check your understanding\n",
    "Read the question(s) below, think about your answer, then click the triangle to reveal the solution.\n",
    "\n",
    "<details>\n",
    "<summary>\n",
    "\n",
    "Find an eigenstate of the unitary corresponding to $a=2$ and $N = 15$.\n",
    "\n",
    "</summary>\n",
    "\n",
    "__Answer:__\n",
    "\n",
    "\n",
    "$$\n",
    "\\begin{aligned}\n",
    "M_2|1\\rangle &= |2\\rangle & \\\\\n",
    "M_2^2|1\\rangle &= |4\\rangle \\\\\n",
    "M_2^3|1\\rangle &= |8\\rangle \\\\\n",
    "M_2^4|1\\rangle &= |1\\rangle \\\\\n",
    "\\end{aligned}\n",
    "$$\n",
    "\n",
    "So, the order $r=4$. The eigenstates we're interested in will be an equal superposition of all of the states that were cycled through above, with various phases:\n",
    "\n",
    "$$\n",
    "\\begin{aligned}\n",
    "|\\psi_0\\rangle &= \\frac{1}{2}(|1\\rangle+|2\\rangle+|4\\rangle+|8\\rangle) \\\\\n",
    "|\\psi_1\\rangle &= \\frac{1}{2}(e^{2 \\pi i \\frac{0}{4}}|1\\rangle+e^{2 \\pi i \\frac{1}{4}}|2\\rangle+e^{2 \\pi i \\frac{2}{4}}|4\\rangle+e^{2 \\pi i \\frac{3}{4}}|8\\rangle) \\\\\n",
    "&= \\frac{1}{2}(|1\\rangle+i|2\\rangle-|4\\rangle-i|8\\rangle) \\\\\n",
    "|\\psi_2\\rangle &= \\frac{1}{2}(e^{2 \\pi i \\frac{0}{4}}|1\\rangle+e^{2 \\pi i \\frac{2}{4}}|2\\rangle+e^{2 \\pi i \\frac{4}{4}}|4\\rangle+e^{2 \\pi i \\frac{6}{4}}|8\\rangle) \\\\\n",
    "&= \\frac{1}{2}(|1\\rangle-|2\\rangle+|4\\rangle-|8\\rangle) \\\\\n",
    "|\\psi_3\\rangle &= \\frac{1}{2}(e^{2 \\pi i \\frac{0}{4}}|1\\rangle+e^{2 \\pi i \\frac{3}{4}}|2\\rangle+e^{2 \\pi i \\frac{6}{4}}|4\\rangle+e^{2 \\pi i \\frac{9}{4}}|8\\rangle) \\\\\n",
    "&= \\frac{1}{2}(|1\\rangle-i|2\\rangle-|4\\rangle+i|8\\rangle) \\\\\n",
    "\\end{aligned}\n",
    "$$\n",
    "\n",
    "</details>\n",
    "\n",
    "So, say we were able to initialize our qubit state into one of these eigenstates (spoiler — we're not. Or, at least not easily. We'll explain why and what we can do instead shortly). Then we could use QPE to estimate the corresponding eigenvalue, $\\omega_j = e^{2 \\pi i \\theta_j}$ where $\\theta_j = \\frac{j}{r}$. Then, we'll be able to determine the order $r$ by the simple equation:\n",
    "\n",
    "$$r = \\frac{j}{\\theta_j}.$$\n",
    "\n",
    "But remember, I said that QPE *estimates* $\\theta_j$ — it doesn't give us an exact value. We need the estimate to be good enough to differentiate between $r$ and $r+1$. The more control qubits $m$, we have, the better the estimate will be. In the problems at the end of the lesson, you'll be asked to determine the minimum $m$ needed to factor a number $N$.\n",
    "\n",
    "Now, we have to reconcile a problem. All of the above explanation of how to find $r$ begins with preparing the eigenstate $|\\psi_j\\rangle = \\tfrac{1}{\\sqrt{r}}\\sum_{k=0}^{r-1}{e^{\\frac{2 \\pi i j k}{r}} |a^k \\rangle}$. But we don't know how to do that without already knowing what $r$ is. The logic is circular. We need a way to estimate the eigenvalue *without* initializing the eigenstate.\n",
    "\n",
    "Instead of starting with an eigenstate of $M_a$, we can prepare the initial state into the $n$-qubit state corresponding to $|1\\rangle$ in binary (i.e. $|000...01\\rangle$). Although this state itself is obviously not an eigenstate of $M_a$, it is a superposition over all of the eigenstates $|\\psi_k\\rangle$:\n",
    "\n",
    "$$ |1\\rangle = \\frac{1}{\\sqrt{r}} \\sum\\limits_{k=0}^{r-1}{|\\psi_k\\rangle} $$\n",
    "\n",
    "\n",
    "\n",
    "#### Check your understanding\n",
    "Read the question(s) below, think about your answer, then click the triangle to reveal the solution.\n",
    "\n",
    "<details>\n",
    "<summary>\n",
    "\n",
    "Verify that $|1\\rangle$ is equivalent to the superposition over the eigenstates you found for $N=15$ and $a=2$ in the previous check-in question.\n",
    "\n",
    "</summary>\n",
    "\n",
    "__Answer:__\n",
    "\n",
    "\n",
    "The four eigenstates were:\n",
    "\n",
    "$$\n",
    "\\begin{aligned}\n",
    "|\\psi_0\\rangle &= \\frac{1}{2}(|1\\rangle+|2\\rangle+|4\\rangle+|8\\rangle) \\\\\n",
    "|\\psi_1\\rangle &= \\frac{1}{2}(|1\\rangle+i|2\\rangle-|4\\rangle-i|8\\rangle) \\\\\n",
    "|\\psi_2\\rangle &= \\frac{1}{2}(|1\\rangle-|2\\rangle+|4\\rangle-|8\\rangle) \\\\\n",
    "|\\psi_3\\rangle &= \\frac{1}{2}(|1\\rangle-i|2\\rangle-|4\\rangle+i|8\\rangle) \\\\\n",
    "\\end{aligned}\n",
    "$$\n",
    "\n",
    "So,\n",
    "\n",
    "$$\n",
    "\\begin{aligned}\n",
    "\\frac{1}{\\sqrt{r}} \\sum\\limits_{k=0}^{r-1}{|\\psi_k\\rangle} &= \\frac{1}{2}(|\\psi_0\\rangle + |\\psi_1\\rangle + |\\psi_2\\rangle + |\\psi_3\\rangle ) \\\\\n",
    "&= \\frac{1}{4}(|1\\rangle+|2\\rangle+|4\\rangle+|8\\rangle+|1\\rangle+i|2\\rangle-|4\\rangle-i|8\\rangle+|1\\rangle-|2\\rangle+|4\\rangle-|8\\rangle + |1\\rangle-i|2\\rangle-|4\\rangle+i|8\\rangle) \\\\\n",
    "&= \\frac{1}{4}(4|1\\rangle) = |1\\rangle\n",
    "\\end{aligned}\n",
    "$$\n",
    "\n",
    "</details>\n",
    "\n",
    "\n",
    "How does this let us find the order $r$? Since the starting state is a superposition over all of the eigenstates of the form listed above, then the QPE algorithm simultaneously estimates each of the $\\theta_k$ corresponding to these eigenstates. So, the measurement of the $m$ control qubits at the end will yield an approximation to the value $k/r$ where $k \\in \\{0,1,2,...,r-1\\}$ is one of the eigenvalues randomly chosen. If we repeat this circuit a few times and get a few samples with different values of $k$, we will quickly be able to deduce $r$."
   ]
  },
  {
   "cell_type": "markdown",
   "id": "099389d1-1370-472c-af29-a642532beff4",
   "metadata": {},
   "source": [
    "## Implementing in Qiskit\n",
    "\n",
    "As we mentioned earlier, our hardware isn't at the point where we can factor huge numbers like RSA1024. We'll just factor a small number to demonstrate how the algorithm works. For this demo, we will use a simplified version of the code presented in the [Shor's algorithm tutorial](/docs/tutorials/shors-algorithm). If you want more details, please visit the tutorial.\n",
    "\n",
    "\n",
    "We'll run the algorithm using our standard framework for solving quantum problems, called the Qiskit patterns framework. This consists of four steps:\n",
    "\n",
    "1. Mapping your problem to a quantum circuit\n",
    "2. Optimizing the circuit to be run on quantum hardware\n",
    "3. Executing your circuit on the quantum computer\n",
    "4. Post-processing the measurements\n",
    "\n",
    "### 1. Mapping\n",
    "\n",
    "Let's factor $N=15$, selecting $a=2$ to be our co-prime integer.\n",
    "\n",
    "First, we need to construct the circuit that will implement the modular multiplication unitary, $M_a$. This is actually the trickiest part of the whole implementation, and can be very computationally expensive, depending on how it's done. For this, we'll cheat a little bit: We know that we're starting in the state $|1\\rangle$, and from an earlier check-in question,\n",
    "\n",
    "$$\n",
    "\\begin{aligned}\n",
    "M_2|1\\rangle &= |2\\rangle & \\\\\n",
    "M_2|2\\rangle &= |4\\rangle \\\\\n",
    "M_2|4\\rangle &= |8\\rangle \\\\\n",
    "M_2|8\\rangle &= |1\\rangle \\\\\n",
    "\\end{aligned}\n",
    "$$\n",
    "\n",
    "So, we will construct a unitary that does the correct operations on these four states, but leaves all other states alone. This is cheating because we're using our knowledge of the order of $2\\bmod 15$ to simplify the unitary. If we were actually trying to factor a number whose factors were unknown to us, we wouldn't be able to do this.\n",
    "\n",
    "#### Check your understanding\n",
    "Read the question(s) below, think about your answer, then click the triangle to reveal the solution.\n",
    "\n",
    "<details>\n",
    "<summary>\n",
    "\n",
    "With your knowledge of how the $M_2$ operator transforms the states above, construct the operator from a series of SWAP gates, which exchange the states of two qubits. (Hint: writing each state $|i\\rangle$ in binary will help.)\n",
    "\n",
    "</summary>\n",
    "\n",
    "__Answer:__\n",
    "\n",
    "Let's rewrite the action of $M_2$ on the states in binary:\n",
    "\n",
    "$$\n",
    "\\begin{aligned}\n",
    "M_2|0001\\rangle &= |0010\\rangle \\\\\n",
    "M_2|0010\\rangle &= |0100\\rangle \\\\\n",
    "M_2|0100\\rangle &= |1000\\rangle \\\\\n",
    "M_2|1000\\rangle &= |0001\\rangle \\\\\n",
    "\\end{aligned}\n",
    "$$\n",
    "\n",
    "Each of these actions can be accomplished with a simple SWAP. $M_2|0001\\rangle$ is achieved by swapping the states of qubit $0$ and $1$. $M_2|0010\\rangle$ is achieved by swapping the states of qubit $1$ and $2$. And so on. So, we can deconstruct the $M_2$ matrix into the following series of SWAP gates:\n",
    "\n",
    "$$\n",
    "M_2 = SWAP(0,1)SWAP(1,2)SWAP(2,3)\n",
    "$$\n",
    "\n",
    "Remembering that operators act right to left, let's check that this has the effect that we want on each of the states:\n",
    "\n",
    "$$\n",
    "\\begin{aligned}\n",
    "M_2|0001\\rangle &= SWAP(0,1)SWAP(1,2)SWAP(2,3)|0001\\rangle \\\\\n",
    "&= SWAP(0,1)SWAP(1,2)|0001\\rangle \\\\\n",
    "&= SWAP(0,1)|0001\\rangle \\\\\n",
    "&=|0010\\rangle  \\checkmark \\\\\n",
    "M_2|0010\\rangle &= SWAP(0,1)SWAP(1,2)SWAP(2,3)|0010\\rangle \\\\\n",
    "&= SWAP(0,1)SWAP(1,2)|0010\\rangle \\\\\n",
    "&= SWAP(0,1)|0100\\rangle \\\\\n",
    "&=|0100\\rangle  \\checkmark \\\\\n",
    "M_2|0100\\rangle &= SWAP(0,1)SWAP(1,2)SWAP(2,3)|0100\\rangle \\\\\n",
    "&= SWAP(0,1)SWAP(1,2)|1000\\rangle \\\\\n",
    "&= SWAP(0,1)|1000\\rangle \\\\\n",
    "&=|1000\\rangle  \\checkmark \\\\\n",
    "M_2|1000\\rangle &= SWAP(0,1)SWAP(1,2)SWAP(2,3)|1000\\rangle \\\\\n",
    "&= SWAP(0,1)SWAP(1,2)|0100\\rangle \\\\\n",
    "&= SWAP(0,1)|0010\\rangle \\\\\n",
    "&=|0001\\rangle  \\checkmark \\\\\n",
    "\\end{aligned}\n",
    "$$\n",
    "</details>\n",
    "\n",
    "\n",
    "We can now code the circuit that is equivalent to this operator in Qiskit.\n",
    "\n",
    "First, we import the necessary packages:"
   ]
  },
  {
   "cell_type": "code",
   "execution_count": 29,
   "id": "95c8d21b-d2e6-45c3-a2d2-a7288db4171f",
   "metadata": {},
   "outputs": [],
   "source": [
    "# Import necessary packages\n",
    "\n",
    "import numpy as np\n",
    "from fractions import Fraction\n",
    "from math import floor, gcd, log\n",
    "\n",
    "from qiskit import QuantumCircuit, QuantumRegister, ClassicalRegister\n",
    "from qiskit.circuit.library import QFTGate\n",
    "from qiskit.transpiler import generate_preset_pass_manager\n",
    "from qiskit.visualization import plot_histogram\n",
    "\n",
    "from qiskit_ibm_runtime import QiskitRuntimeService\n",
    "from qiskit_ibm_runtime import SamplerV2 as Sampler"
   ]
  },
  {
   "cell_type": "markdown",
   "id": "f8d46443-d3d3-4d27-8026-27974f5d6702",
   "metadata": {},
   "source": [
    "Then, we make the $M_2$ operator:"
   ]
  },
  {
   "cell_type": "code",
   "execution_count": 30,
   "id": "1396a7ff-718a-4169-9c63-85ae218b58a4",
   "metadata": {},
   "outputs": [],
   "source": [
    "def M2mod15():\n",
    "    \"\"\"\n",
    "    M2 (mod 15)\n",
    "    \"\"\"\n",
    "    b = 2\n",
    "    U = QuantumCircuit(4)\n",
    "\n",
    "    U.swap(2, 3)\n",
    "    U.swap(1, 2)\n",
    "    U.swap(0, 1)\n",
    "\n",
    "    U = U.to_gate()\n",
    "    U.name = f\"M_{b}\"\n",
    "\n",
    "    return U"
   ]
  },
  {
   "cell_type": "code",
   "execution_count": 31,
   "id": "e7521fba-fe3e-45bc-b9ce-fe876bddad33",
   "metadata": {},
   "outputs": [
    {
     "data": {
      "text/plain": [
       "<Image src=\"/learning/images/modules/computer-science/shors-algorithm/extracted-outputs/e7521fba-fe3e-45bc-b9ce-fe876bddad33-0.avif\" alt=\"Output of the previous code cell\" />"
      ]
     },
     "execution_count": 31,
     "metadata": {},
     "output_type": "execute_result"
    }
   ],
   "source": [
    "# Get the M2 operator\n",
    "M2 = M2mod15()\n",
    "\n",
    "# Add it to a circuit and plot\n",
    "circ = QuantumCircuit(4)\n",
    "circ.compose(M2, inplace=True)\n",
    "circ.decompose(reps=2).draw(output=\"mpl\", fold=-1)"
   ]
  },
  {
   "cell_type": "markdown",
   "id": "6f1e1a5d-bd34-4379-9237-d91ecba9d435",
   "metadata": {},
   "source": [
    "The QPE algorithm uses a controlled-$U$ gate. So, now that we have an $M_2$ circuit, we need to make it a *controlled*-$M_2$ circuit:"
   ]
  },
  {
   "cell_type": "code",
   "execution_count": 32,
   "id": "36d1020c-c0af-4211-bd50-be865d057f75",
   "metadata": {},
   "outputs": [],
   "source": [
    "def controlled_M2mod15():\n",
    "    \"\"\"\n",
    "    Controlled M2 (mod 15)\n",
    "    \"\"\"\n",
    "    b = 2\n",
    "    U = QuantumCircuit(4)\n",
    "\n",
    "    U.swap(2, 3)\n",
    "    U.swap(1, 2)\n",
    "    U.swap(0, 1)\n",
    "\n",
    "    U = U.to_gate()\n",
    "    U.name = f\"M_{b}\"\n",
    "    c_U = U.control()\n",
    "\n",
    "    return c_U"
   ]
  },
  {
   "cell_type": "code",
   "execution_count": 33,
   "id": "5bf4f10d-5d52-406d-b62d-ad4a8d366c02",
   "metadata": {},
   "outputs": [
    {
     "data": {
      "text/plain": [
       "<Image src=\"/learning/images/modules/computer-science/shors-algorithm/extracted-outputs/5bf4f10d-5d52-406d-b62d-ad4a8d366c02-0.avif\" alt=\"Output of the previous code cell\" />"
      ]
     },
     "execution_count": 33,
     "metadata": {},
     "output_type": "execute_result"
    }
   ],
   "source": [
    "# Get the controlled-M2 operator\n",
    "controlled_M2 = controlled_M2mod15()\n",
    "\n",
    "# Add it to a circuit and plot\n",
    "circ = QuantumCircuit(5)\n",
    "circ.compose(controlled_M2, inplace=True)\n",
    "circ.decompose(reps=1).draw(output=\"mpl\", fold=-1)"
   ]
  },
  {
   "cell_type": "markdown",
   "id": "fd98c560-530f-424f-b8f8-0f9fe9615c5e",
   "metadata": {},
   "source": [
    "So, now we have our controlled-$U$ gate. But in order to run the Quantum Phase Estimation algorithm, we'll need controlled-$U^2$, controlled-$U^4$, up to controlled-$U^{2^{m-1}}$, where $m$ is the number of qubits used to estimate the phase. The more qubits, the more precise the phase estimation will be. We'll use $m=8$ control qubits for our phase estimation procedure. So, we need:\n",
    "\n",
    "$$\n",
    "M_{a^{2^k}}|y\\rangle \\equiv |a^{2^k} y \\bmod N \\rangle\n",
    "$$\n",
    "\n",
    "where the index $k$, with $0 \\le k \\le m-1 = 7$, corresponds to the control qubit. Now let's calculate $a^{2^k}\\bmod N $ for each value of $k$:"
   ]
  },
  {
   "cell_type": "code",
   "execution_count": 34,
   "id": "1463f000-c7ab-4e09-b111-5cb3d279e06b",
   "metadata": {},
   "outputs": [],
   "source": [
    "def a2kmodN(a, k, N):\n",
    "    \"\"\"Compute a^{2^k} (mod N) by repeated squaring\"\"\"\n",
    "    for _ in range(k):\n",
    "        a = int(np.mod(a**2, N))\n",
    "    return a"
   ]
  },
  {
   "cell_type": "code",
   "execution_count": 35,
   "id": "ac0f44f1-e5fa-46b8-a1d2-5255ed63e3b9",
   "metadata": {},
   "outputs": [
    {
     "name": "stdout",
     "output_type": "stream",
     "text": [
      "[2, 4, 1, 1, 1, 1, 1, 1]\n"
     ]
    }
   ],
   "source": [
    "k_list = range(8)\n",
    "b_list = [a2kmodN(2, k, 15) for k in k_list]\n",
    "\n",
    "print(b_list)"
   ]
  },
  {
   "cell_type": "markdown",
   "id": "a2654cb9-a2ad-4947-8441-a1e2799501b8",
   "metadata": {},
   "source": [
    "Since $a^{2^k} \\bmod N = 1$ for $k \\ge 2$, all of the corresponding operators ($M_8$ and up) are equivalent to the identity. So, we only need to construct one more matrix, $M_4.$\n",
    "\n",
    "**Note:** This simplification only works here because the order of $2 \\bmod 15 $ is $4$. Once $k=2$ (so $2^k = 4$), every subsequent power of the operator is the identity. In general, for larger numbers $N$ or different choices of $a$, you cannot skip constructing the higher powers. This is one reason why this is considered a *toy example*: the small numbers allow shortcuts that wouldn’t work for larger cases."
   ]
  },
  {
   "cell_type": "code",
   "execution_count": 36,
   "id": "29bc2fb5-511d-4593-8c48-7b1c7c7eeed0",
   "metadata": {},
   "outputs": [],
   "source": [
    "def M4mod15():\n",
    "    \"\"\"\n",
    "    M4 (mod 15)\n",
    "    \"\"\"\n",
    "    b = 4\n",
    "    U = QuantumCircuit(4)\n",
    "\n",
    "    U.swap(1, 3)\n",
    "    U.swap(0, 2)\n",
    "\n",
    "    U = U.to_gate()\n",
    "    U.name = f\"M_{b}\"\n",
    "\n",
    "    return U"
   ]
  },
  {
   "cell_type": "code",
   "execution_count": 37,
   "id": "ea4fc641-e97c-400d-a761-5f67a0b7d65e",
   "metadata": {},
   "outputs": [
    {
     "data": {
      "text/plain": [
       "<Image src=\"/learning/images/modules/computer-science/shors-algorithm/extracted-outputs/ea4fc641-e97c-400d-a761-5f67a0b7d65e-0.avif\" alt=\"Output of the previous code cell\" />"
      ]
     },
     "execution_count": 37,
     "metadata": {},
     "output_type": "execute_result"
    }
   ],
   "source": [
    "# Get the M4 operator\n",
    "M4 = M4mod15()\n",
    "\n",
    "# Add it to a circuit and plot\n",
    "circ = QuantumCircuit(4)\n",
    "circ.compose(M4, inplace=True)\n",
    "circ.decompose(reps=2).draw(output=\"mpl\", fold=-1)"
   ]
  },
  {
   "cell_type": "markdown",
   "id": "f6712a0c-a695-4c1d-a99a-a9fd67a95c92",
   "metadata": {},
   "source": [
    "And as before, we make it a *controlled*-$M_4$ operator:"
   ]
  },
  {
   "cell_type": "code",
   "execution_count": 38,
   "id": "c8ec99c7-5e03-4623-b6f7-22dae558de04",
   "metadata": {},
   "outputs": [],
   "source": [
    "def controlled_M4mod15():\n",
    "    \"\"\"\n",
    "    Controlled M4 (mod 15)\n",
    "    \"\"\"\n",
    "    b = 4\n",
    "    U = QuantumCircuit(4)\n",
    "\n",
    "    U.swap(1, 3)\n",
    "    U.swap(0, 2)\n",
    "\n",
    "    U = U.to_gate()\n",
    "    U.name = f\"M_{b}\"\n",
    "    c_U = U.control()\n",
    "\n",
    "    return c_U"
   ]
  },
  {
   "cell_type": "code",
   "execution_count": 39,
   "id": "37caf888-276e-4f19-a0d0-59517c5ee44e",
   "metadata": {},
   "outputs": [
    {
     "data": {
      "text/plain": [
       "<Image src=\"/learning/images/modules/computer-science/shors-algorithm/extracted-outputs/37caf888-276e-4f19-a0d0-59517c5ee44e-0.avif\" alt=\"Output of the previous code cell\" />"
      ]
     },
     "execution_count": 39,
     "metadata": {},
     "output_type": "execute_result"
    }
   ],
   "source": [
    "# Get the controlled-M4 operator\n",
    "controlled_M4 = controlled_M4mod15()\n",
    "\n",
    "# Add it to a circuit and plot\n",
    "circ = QuantumCircuit(5)\n",
    "circ.compose(controlled_M4, inplace=True)\n",
    "circ.decompose(reps=1).draw(output=\"mpl\", fold=-1)"
   ]
  },
  {
   "cell_type": "markdown",
   "id": "db3f989d-ef17-48af-99c6-aae08eb59001",
   "metadata": {},
   "source": [
    "Now, we can put it all together to find the order of $2\\bmod 15$ with a quantum circuit via phase estimation:"
   ]
  },
  {
   "cell_type": "code",
   "execution_count": 48,
   "id": "d1b111c8-1a12-420b-bbc2-4ecdd1ac5a97",
   "metadata": {},
   "outputs": [
    {
     "data": {
      "text/plain": [
       "<Image src=\"/learning/images/modules/computer-science/shors-algorithm/extracted-outputs/d1b111c8-1a12-420b-bbc2-4ecdd1ac5a97-0.avif\" alt=\"Output of the previous code cell\" />"
      ]
     },
     "execution_count": 48,
     "metadata": {},
     "output_type": "execute_result"
    }
   ],
   "source": [
    "# Order finding problem for N = 15 with a = 2\n",
    "N = 15\n",
    "a = 2\n",
    "\n",
    "# Number of qubits\n",
    "num_target = floor(log(N - 1, 2)) + 1  # for modular exponentiation operators\n",
    "num_control = 2 * num_target  # for enough precision of estimation\n",
    "\n",
    "# List of M_b operators in order\n",
    "k_list = range(num_control)\n",
    "b_list = [a2kmodN(2, k, 15) for k in k_list]\n",
    "\n",
    "# Initialize the circuit\n",
    "control = QuantumRegister(num_control, name=\"C\")\n",
    "target = QuantumRegister(num_target, name=\"T\")\n",
    "output = ClassicalRegister(num_control, name=\"out\")\n",
    "circuit = QuantumCircuit(control, target, output)\n",
    "\n",
    "# Initialize the target register to the state |1>\n",
    "circuit.x(num_control)\n",
    "\n",
    "# Add the Hadamard gates and controlled versions of the\n",
    "# multiplication gates\n",
    "for k, qubit in enumerate(control):\n",
    "    circuit.h(k)\n",
    "    b = b_list[k]\n",
    "    if b == 2:\n",
    "        circuit.compose(\n",
    "            M2mod15().control(), qubits=[qubit] + list(target), inplace=True\n",
    "        )\n",
    "    elif b == 4:\n",
    "        circuit.compose(\n",
    "            M4mod15().control(), qubits=[qubit] + list(target), inplace=True\n",
    "        )\n",
    "    else:\n",
    "        continue  # M1 is the identity operator\n",
    "\n",
    "# Apply the inverse QFT to the control register\n",
    "circuit.compose(QFTGate(num_control).inverse(), qubits=control, inplace=True)\n",
    "\n",
    "# Measure the control register\n",
    "circuit.measure(control, output)\n",
    "\n",
    "circuit.draw(\"mpl\", fold=-1)"
   ]
  },
  {
   "cell_type": "markdown",
   "id": "b3659616-39b4-4544-8def-54012b40dbfa",
   "metadata": {},
   "source": [
    "### 2. Optimizing\n",
    "\n",
    "Now that we've mapped our circuit, the next step is to optimize it to be run on a particular quantum computer. First we need to load the backend."
   ]
  },
  {
   "cell_type": "code",
   "execution_count": 49,
   "id": "92b92fd3-0dca-43db-a304-0a933f293d8f",
   "metadata": {},
   "outputs": [],
   "source": [
    "service = QiskitRuntimeService()\n",
    "\n",
    "backend = service.backend(\"ibm_marrakesh\")"
   ]
  },
  {
   "cell_type": "markdown",
   "id": "a4e27bee-66de-4ffc-b1e3-40a458840e7a",
   "metadata": {},
   "source": [
    "If you don't have time available on your account or want to use a simulator for any reason, you can run the cell below to set up a simulator that will mimic the quantum device we selected above:"
   ]
  },
  {
   "cell_type": "code",
   "execution_count": 50,
   "id": "4aa86bd6-1240-49cb-aad0-c3dbc64602c5",
   "metadata": {},
   "outputs": [
    {
     "name": "stdout",
     "output_type": "stream",
     "text": [
      "2q-depth: 188\n",
      "2q-size: 281\n",
      "Operator counts: OrderedDict({'sx': 548, 'rz': 380, 'cz': 281, 'measure': 8, 'x': 6})\n"
     ]
    },
    {
     "data": {
      "text/plain": [
       "<Image src=\"/learning/images/modules/computer-science/shors-algorithm/extracted-outputs/4aa86bd6-1240-49cb-aad0-c3dbc64602c5-1.avif\" alt=\"Output of the previous code cell\" />"
      ]
     },
     "execution_count": 50,
     "metadata": {},
     "output_type": "execute_result"
    }
   ],
   "source": [
    "pm = generate_preset_pass_manager(optimization_level=2, backend=backend)\n",
    "\n",
    "transpiled_circuit = pm.run(circuit)\n",
    "\n",
    "print(f\"2q-depth: {transpiled_circuit.depth(lambda x: x.operation.num_qubits==2)}\")\n",
    "print(f\"2q-size: {transpiled_circuit.size(lambda x: x.operation.num_qubits==2)}\")\n",
    "print(f\"Operator counts: {transpiled_circuit.count_ops()}\")\n",
    "transpiled_circuit.draw(output=\"mpl\", fold=-1, style=\"clifford\", idle_wires=False)"
   ]
  },
  {
   "cell_type": "markdown",
   "id": "b0425c46-2f2e-436f-9d37-a29fbc3a0006",
   "metadata": {},
   "source": [
    "### 3. Executing"
   ]
  },
  {
   "cell_type": "code",
   "execution_count": 51,
   "id": "6ee53841-d7e0-4a23-a3eb-bed31465374f",
   "metadata": {},
   "outputs": [],
   "source": [
    "# Sampler primitive to obtain the probability distribution\n",
    "sampler = Sampler(backend)\n",
    "\n",
    "# Turn on dynamical decoupling with sequence XpXm\n",
    "sampler.options.dynamical_decoupling.enable = True\n",
    "sampler.options.dynamical_decoupling.sequence_type = \"XpXm\"\n",
    "# Enable gate twirling\n",
    "sampler.options.twirling.enable_gates = True\n",
    "\n",
    "pub = transpiled_circuit\n",
    "job = sampler.run([pub], shots=1024)"
   ]
  },
  {
   "cell_type": "code",
   "execution_count": 52,
   "id": "7fb6178e-76bd-4067-9607-1d7e0ac051f3",
   "metadata": {},
   "outputs": [],
   "source": [
    "result = job.result()[0]\n",
    "counts = result.data[\"out\"].get_counts()"
   ]
  },
  {
   "cell_type": "code",
   "execution_count": 53,
   "id": "6744e165-6929-46c6-9cad-55e78fe21f07",
   "metadata": {},
   "outputs": [
    {
     "data": {
      "text/plain": [
       "<Image src=\"/learning/images/modules/computer-science/shors-algorithm/extracted-outputs/6744e165-6929-46c6-9cad-55e78fe21f07-0.avif\" alt=\"Output of the previous code cell\" />"
      ]
     },
     "execution_count": 53,
     "metadata": {},
     "output_type": "execute_result"
    }
   ],
   "source": [
    "plot_histogram(counts, figsize=(35, 5))"
   ]
  },
  {
   "cell_type": "markdown",
   "id": "2eae47e9-1161-44e5-9e00-7b0d225bcf5f",
   "metadata": {},
   "source": [
    "We see four clear peaks at `00000000`, `01000000`, `10000000`, and `11000000`, with some counts in other bitstrings due to noise in the quantum computer. We'll ignore these and keep only the dominant four by imposing a threshold: only counts above this threshold are considered a true signal above the noise."
   ]
  },
  {
   "cell_type": "code",
   "execution_count": null,
   "id": "948f404b-a2a9-4645-a034-31b696ba24b7",
   "metadata": {},
   "outputs": [],
   "source": [
    "# Dictionary of bitstrings and their counts to keep\n",
    "counts_keep = {}\n",
    "# Threshold to filter\n",
    "threshold = np.max(list(counts.values())) / 2\n",
    "\n",
    "for key, value in counts.items():\n",
    "    if value > threshold:\n",
    "        counts_keep[key] = value\n",
    "\n",
    "print(counts_keep)"
   ]
  },
  {
   "cell_type": "markdown",
   "id": "f9bac651-2d89-4b4e-9930-ea585a4c042e",
   "metadata": {},
   "source": [
    "### 4. Post-processing\n",
    "\n",
    "For Shor's algorithm, quite a lot of the algorithm is performed classically. So, we'll put the rest of it in the \"post-processing\" step, after we've gotten our measurements from the quantum computer. Each of the measurements above can be converted into integers, which, after we divide by $2^m$, are our approximations for $\\frac{k}{r}$, where $k$ is random each time."
   ]
  },
  {
   "cell_type": "code",
   "execution_count": 55,
   "id": "aad78e69-adb8-416f-bc68-c2086f900bef",
   "metadata": {},
   "outputs": [
    {
     "name": "stdout",
     "output_type": "stream",
     "text": [
      "\n",
      "ATTEMPT 0:\n",
      "Phase: theta = 0.0\n",
      "Order of 2 modulo 15 estimated as: r = 1\n",
      "\n",
      "ATTEMPT 1:\n",
      "Phase: theta = 0.75\n",
      "Order of 2 modulo 15 estimated as: r = 4\n",
      "*** Non-trivial factor found: 3 ***\n"
     ]
    }
   ],
   "source": [
    "a = 2\n",
    "N = 15\n",
    "\n",
    "FACTOR_FOUND = False\n",
    "num_attempt = 0\n",
    "\n",
    "while not FACTOR_FOUND:\n",
    "    print(f\"\\nATTEMPT {num_attempt}:\")\n",
    "    # Here, we get the bitstring by iterating over outcomes\n",
    "    # of a previous hardware run with multiple shots.\n",
    "    # Instead, we can also perform a single-shot measurement\n",
    "    # here in the loop.\n",
    "    bitstring = list(counts_keep.keys())[num_attempt]\n",
    "    num_attempt += 1\n",
    "    # Find the phase from measurement\n",
    "    decimal = int(bitstring, 2)\n",
    "    phase = decimal / (2**num_control)  # phase = k / r\n",
    "    print(f\"Phase: theta = {phase}\")\n",
    "\n",
    "    # Guess the order from phase\n",
    "    frac = Fraction(phase).limit_denominator(N)\n",
    "    r = frac.denominator  # order = r\n",
    "    print(f\"Order of {a} modulo {N} estimated as: r = {r}\")\n",
    "\n",
    "    if phase != 0:\n",
    "        # Guesses for factors are gcd(a^{r / 2} ± 1, 15)\n",
    "        if r % 2 == 0:\n",
    "            x = pow(a, r // 2, N) - 1\n",
    "            d = gcd(x, N)\n",
    "            if d > 1:\n",
    "                FACTOR_FOUND = True\n",
    "                print(f\"*** Non-trivial factor found: {x} ***\")"
   ]
  },
  {
   "cell_type": "markdown",
   "id": "c88c65c3-2dfb-47fd-bef9-59f02440f418",
   "metadata": {},
   "source": [
    "## Conclusion:\n",
    "\n",
    "After going through the module, you may be struck with a new appreciation of the brilliance of Peter Shor to have come up with such a clever algorithm. But hopefully you've also reached a new level of understanding of its deceptive simplicity. Although the algorithm may seem impressively (or intimidatingly) complex, if you break it down into each step of logic and go through it slowly, you, too, will be able to run Shor's algorithm.\n",
    "\n",
    "While we're far from using this algorithm to factor numbers like RSA1024, our quantum computers are getting better every day, and once a threshold called *fault-tolerance* is reached, then algorithms such as these will be soon to follow. It's an exciting time to be learning about quantum computing!"
   ]
  },
  {
   "cell_type": "markdown",
   "id": "9f1e3bb2-9732-406f-9f17-862178724285",
   "metadata": {},
   "source": [
    "## Problems:\n",
    "\n",
    "### Critical concepts:\n",
    "\n",
    "\n",
    "### True/False:\n",
    "1. T/F The efficiency of Shor's algorithm threatens the security of RSA encryption.\n",
    "2. T/F Shor's algorithm can be executed efficiently on any modern-day quantum computer.\n",
    "3. T/F Shor’s algorithm uses quantum phase estimation (QPE) as a key subroutine.\n",
    "4. T/F The classical part of Shor’s algorithm involves calculating the greatest common divisor (GCD).\n",
    "5. T/F Shor’s algorithm only works for factoring even numbers.\n",
    "6. T/F A successful run of Shor’s algorithm always guarantees the correct factors.\n",
    "\n",
    "### Short answer:\n",
    "1. Why is Shor’s algorithm considered a potential future threat to RSA encryption?\n",
    "2. Why is finding the period, or order, of a modular exponential function helpful for factoring a number in Shor’s algorithm?\n",
    "\n",
    "\n",
    "### Challenge problems:\n",
    "1. How many control qubits $m$ do we need for a given number $N$ that we're trying to factor to obtain the precision in the the QPE needed to find the correct value of the order $r$?\n",
    "\n",
    "2. Following the procedure we outlined here to factor 15, now try to factor 21."
   ]
  }
 ],
 "metadata": {
  "description": "Learn how to use Shor's algorithm to factor composite numbers.",
  "in_page_toc_max_heading_level": 2,
  "in_page_toc_min_heading_level": 2,
  "kernelspec": {
   "display_name": "Python 3",
   "language": "python",
   "name": "python3"
  },
  "language_info": {
   "codemirror_mode": {
    "name": "ipython",
    "version": 3
   },
   "file_extension": ".py",
   "mimetype": "text/x-python",
   "name": "python",
   "nbconvert_exporter": "python",
   "pygments_lexer": "ipython3",
   "version": "3"
  },
  "title": "Shor's algorithm",
  "widgets": {
   "application/vnd.jupyter.widget-state+json": {
    "state": {},
    "version_major": 2,
    "version_minor": 0
   }
  }
 },
 "nbformat": 4,
 "nbformat_minor": 5
}
