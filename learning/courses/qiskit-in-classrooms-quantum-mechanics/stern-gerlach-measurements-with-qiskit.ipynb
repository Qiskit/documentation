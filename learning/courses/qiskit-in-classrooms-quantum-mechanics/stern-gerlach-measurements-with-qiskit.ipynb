{
 "cells": [
  {
   "cell_type": "markdown",
   "metadata": {},
   "source": [
    "{/* cspell:ignore nabla uparrow downarrow */}\n",
    "\n",
    "# The Stern-Gerlach experiment using quantum computers"
   ]
  },
  {
   "cell_type": "markdown",
   "id": "c62ae6e1-7d47-4437-b350-232635b36b58",
   "metadata": {},
   "source": [
    "For this Qiskit in Classroom module, students must have a working python environment with the following packages installed:\n",
    "- qiskit v $\\geq$ 1.3\n",
    "- qiskit_ibm_runtime v $\\geq$ 0.29.0\n",
    "- qiskit-aer v $\\geq$ 15.0\n",
    "- qiskit.visualization\n",
    "\n",
    "To set up and install the packages above, see the guidance on IBM Quantum's [Documentation page](https://docs.quantum.ibm.com/guides/install-qiskit).\n",
    "In order to run jobs on real quantum computers, students will need to set up an account with IBM Quantum. This can be done by following the steps outlined on [Documentation here](https://docs.quantum.ibm.com/guides/setup-channel)."
   ]
  },
  {
   "cell_type": "markdown",
   "id": "1c12614f-5e0b-4110-acc0-f258ddba353b",
   "metadata": {},
   "source": [
    "## The experiment\n",
    "In the early 1900's, evidence of quantized behavior on atomic scales was mounting. Many successful interpretations of data like Max Planck's explanation of the ultraviolet catastrophe, and experiments like the one by Otto Stern and Walther Gerlach were critical in convincing the world that a system of quantum mechanics was necessary, and that certain physical phenomena are quantized. In the case of the Stern-Gerlach experiment (conceived by Stern in 1921 and carried out by Stern and Gerlach in 1922), the goal was to check for the quantization of angular momentum in atoms.\n",
    "\n",
    "Around that same time a prevalent model for the atom was Bohr-Sommerfeld model, which was an extension to the Bohr model, and like the Bohr model, it predicted that electrons existing in certain quantized orbits similar to planets orbiting the sun.\n",
    "\n",
    "![Diagram of Bohr-Sommerfeld model. A central dot represents the nucleus of an atom. Circles or ellipses around that point represent atomic orbitals, looking very much like planetary orbits around the sun. Higher-energy orbits are farther from the nucleus.](/learning/images/courses/qiskit-in-classrooms-quantum-mechanics/stern-gerlach-measurements-with-qiskit/sg-device.avif)\n",
    "\n",
    "Although ultimately this treatment would turn out to be insufficient to explain quantum mechanical behavior of the atom, broadly, it did predict many observed phenomenon, like the discrete spectral lines of atoms. The quantized orbits of electrons with specific energies corresponds to quantized values of angular momentum. It is this orbital angular momentum that Stern and Gerlach sought to observe in their experiment, though the experiment applies to any type of quantized angular momentum, including spin. You may often hear of the Stern-Gerlach experiment applied to spins. The focus of the original experiment was on orbital angular momentum simply because George Uhlenbeck and Samuel Goudsmit would not theorize the existence of spin until 1925.\n",
    "\n",
    "Regardless of the type of angular momentum, a charge with angular momentum has a magnetic moment. In the classical treatment of orbital motion, one would expect a particle of charge $q$, mass $m$ and angular momentum $\\vec{L}$ to have a magnetic moment $\\mu$ given by\n",
    "\n",
    "$$\\vec{\\mu} = \\frac{q}{2m}\\vec{L}$$\n",
    "\n",
    "It turns out that almost the same formula holds for quantum mechanical angular momentum, with the caveat of adding a numerical ratio related to the type of angular momentum, called the g-factor $g$. When combining different types of angular momentum, or generalizing to an arbitrary type, one often sees $\\vec{J}$ used instead of $\\vec{L}$, so we write:\n",
    "\n",
    "$$\\vec{\\mu} = \\frac{gq}{2m}\\vec{J}$$\n",
    "\n",
    "For classical objects $g=1$. For electrons, $g\\approx 2$, and there are many values for various nuclei and subatomic particles. The main point here is that quantized angular momentum means a quantized magnetic moment!\n",
    "\n",
    "This magnetic momentum will experience a torque in a magnetic field:\n",
    "\n",
    "$$\\vec{\\tau}=\\vec{\\mu}\\times \\vec{B}$$\n",
    "\n",
    "And it will experience a force in a magnetic field with a non-zero gradient:\n",
    "\n",
    "$$\\vec{F} = \\nabla(\\vec{\\mu}\\cdot\\vec{B})$$\n",
    "\n",
    "We will often consider the above expression one component at a time, so it may be convenient to think of its $z$-component:\n",
    "\n",
    "$$F_z = \\mu_z \\frac{dB_z}{dz}$$\n",
    "\n",
    "Combining expressions, we can obtain\n",
    "\n",
    "$$F_z = \\frac{gq}{2m} \\frac{dB_z}{dz} J_z$$\n",
    "\n",
    "Stern and Gerlach did not know about the $g$ factor, but even with it in the expression, we have a force equal to several known or measurable constants times an angular momentum. So using a magnetic field with a known gradient, and measuring the deflection of a particle as it passes through the field, we should get information about the angular momentum. This is the crux of the Stern Gerlach experiment.\n",
    "\n",
    "![Silver atoms travelling through an inhomogeneous magnetic field, and being deflected up or down depending on their spin. Classically, we would expect a continuous distribution on the screen, but in the experiment we see two distinct points.](/learning/images/courses/qiskit-in-classrooms-quantum-mechanics/stern-gerlach-measurements-with-qiskit/sg-device.avif)\n",
    "\n",
    "\n",
    "Fig. Stern–Gerlach experiment[1]: Silver atoms travelling through an inhomogeneous magnetic field, and being deflected up or down depending on their spin. Classically, we would expect a continuous distribution on the screen, but in the experiment we see two distinct points.\n",
    "\n",
    "Neutral silver atoms were heated in an oven. As a beam of silver atoms streamed from the oven, beam collimators were used to select only atoms travelling near the center of the inhomogeneous magnetic field. Of course, some atoms deviate a bit to the left or right, and experience a weaker gradient in the field, or no gradient at all. So, we are not overly concerned with the behavior of atoms far to the left or right. We are interested in what happens to the atoms that travel down the center of the channel, where the magnetic field gradient will yield a force deflecting the atoms in the $z$-direction only.\n",
    "\n",
    "## What should we expect, classically?\n",
    "\n",
    "How would these atoms behave if they were exactly like bulky, classical magnets? You can do the experiment. Imagine firing tiny neodymium magnets past a large, powerful magnet. The orientation of the tiny magnets is random. But as they pass the large magnet, they quickly re-orient themselves to align with the field, and become attracted to the large magnet. The vast majority of tiny magnets are deflected toward the large magnet. The very astute observer might question, \"What about energy conservation?\"\n",
    "\n",
    "Indeed, a magnetic moment in an external magnetic field has a potential energy associated with it:\n",
    "\n",
    "$$U = -\\vec{\\mu}\\cdot \\vec{B} = -\\mu B \\cos(\\theta)$$\n",
    "\n",
    "So, if a magnetic moment were to rotate in the external magnetic field, there would be a change in energy given by:\n",
    "\n",
    "$$\\Delta U = U_f - U_i = -\\mu B (\\cos(\\theta_f) - \\cos(\\theta_i)).$$\n",
    "\n",
    "In the special case of a small magnet perfectly anti-aligned with the external field flipping over and aligning with it, this would correspond to a decrease in potential energy:\n",
    "\n",
    "$$\\Delta U = U_f - U_i = -\\mu B (\\cos(0) - \\cos(\\pi)) = -2\\mu B.$$\n",
    "\n",
    "So where does that energy go? A classical magnet like a small neodymium refrigerator magnet has many particles and can dissipate almost any quantity of energy as heat. The initial and final angles between the magnetic moment and the external magnetic field could be anything, and at least the initial orientation would be random. So a different amount of energy would be dissipated as heat for each tiny magnet. But classically this is no problem, since an ensemble of classical particles can dissipate any amount of energy as heat.\n",
    "\n",
    "## What should we expect applying classical thinking to atomic scales?\n",
    "\n",
    "At the very least this is not the same for atomic-scale magnets, because there are fewer particles in play, fewer degrees of freedom through which energy may be dissipated. The proposals of early quantum mechanics suggested further that the energy that can be absorbed by an individual particle, such as the electron, would be quantized, meaning an electron could only absorb a few specific amounts of energy. Since the random initial orientations would require the dissipation of random amounts of energy, this should not be possible for a system with quantized energy levels. The excess energy could not be dissipated as heat. So what would happen instead?\n",
    "\n",
    "\n",
    "### Check-in question\n",
    "\n",
    "Explain what you think would happen in a situation like that described above. That is, you have an atomically small magnet that cannot dissipate any energy as heat. So, any initial magnetic potential energy must remain in the system. Yet, a torque is applied by an external magnetic field, which attempts to rotate the small magnet to align with the external field. What happens?\n",
    "\n",
    "<details>\n",
    "<summary>Answer:</summary>\n",
    "\n",
    "The tiny magnetic moment would rotate toward alignment with the external field. But when it momentarily aligns, it would have rotational kinetic energy that would keep it rotating past the field and back out of alignment. This behavior can even be seen in large classical magnets. But in those classical systems, the oscillation of the small magnetic moment eventually stops as energy is dissipated into heat. But in a system with no such dissipative mechanism, the oscillation should continue indefinitely.\n",
    "\n",
    "</details>\n",
    "\n",
    "### Check-in question\n",
    "\n",
    "Given the behavior expected in the answer above, what distribution of magnetic particles would you expect to see on the screen?\n",
    "\n",
    "<details>\n",
    "<summary>Answer:</summary>\n",
    "\n",
    "A smooth distribution from some maximum deflection toward the stronger side of the magnetic field (those particles that happened to start out aligned with the external field) to some maximum deflection toward the weaker side of the field (those particles that started out anti-aligned with the external field), and every deflection in between, corresponding to every initial orientation between those extrema.\n",
    "\n",
    "![Diagram of a beam of particles passing through a magnet. They are deflected to varying degrees along the direction of the magnetic field. So when they strike a distant screen they form a line.](/learning/images/courses/qiskit-in-classrooms-quantum-mechanics/stern-gerlach-measurements-with-qiskit/sg-classical.avif)\n",
    "\n",
    "</details>\n",
    "\n",
    "## What would quantum mechanics predict?\n",
    "\n",
    "Perhaps the strangest of all possibilities would be the following: What if the angular momentum of the electron were quantized, but also its projection on some axis were also quantized? The quantization of angular momentum as a magnitude is interesting, but one might try to argue through it using classical intuition, the way planetary orbits settled into fixed paths that don't cross each other, having only certain allowed angular momenta. But what if that angular momentum vector could only point exactly along $z$ or exactly opposite $z$, but not have any other component along $z$? What if then when measured along a different direction, the vector could only point entirely along $x$ or entirely opposite $x$, and nothing in between? That would be strange in a way that confounds all classical intuition.\n",
    "\n",
    "### Check-in question\n",
    "\n",
    "What sort of distribution of particles on a screen would you expect to find in this last case, where the projection of angular momentum along the direction of the field is quantized? Feel free to consider only particles that pass perfectly through the center of the device, or include those that veer slightly off center to where the gradient is weaker. Just be explicit.\n",
    "\n",
    "<details>\n",
    "<summary>Answer:</summary>\n",
    "\n",
    "The particles in the center of the device would experience a single inhomogeneous field and would all be measured to have one of two orientations to their magnetic moments. So, they would either be deflected maximally with the gradient or maximally against the gradient, and nothing in between. Of course, off to either side, where the gradient is weaker, the deflection would be smaller. At very large lateral positions, they may be entirely outside the gradient, and there could be just a single region of undeflected particles.\n",
    "\n",
    "![Diagram of a beam of particles being deflected either up or down, striking one of two dots on a screen, with no particles in between these two maxima](/learning/images/courses/qiskit-in-classrooms-quantum-mechanics/stern-gerlach-measurements-with-qiskit/sg-qm.avif)\n",
    "\n",
    "</details>"
   ]
  },
  {
   "cell_type": "markdown",
   "id": "d7fa03af-f0d0-4af0-852e-a1e53ca19b44",
   "metadata": {},
   "source": [
    "## How will qubits help us test this?\n",
    "\n",
    "Most quantum computers use \"qubits\" - the quantum analogs of classical bits. More specifically, they are designed to be two-level systems, analogous to the \"on\"/\"off\" states of classical bits. Quantum computing paradigms do exist which make use of three-level systems (so called \"qutrits\") or many-level systems (called \"qudits\"). But most work is concentrated on qubits. In particular, IBM Quantum Computers use what are called fixed-frequency transmon qubits. These are quite a bit different from orbital or spin angular momentum of atoms. But like the spin of an electron, IBM qubits are quantum mechanical systems that can interact with light and on which measurements can be made. In fact, one often finds analogies made between states of quantum mechanical spin and computational states of a qubit. For example, one often sees the \"spin-up\" state associated with the computational 0 state, and \"spin-down\" associated with the computational 1 state:\n",
    "\n",
    "$$|\\uparrow\\rangle \\sim |0\\rangle$$\n",
    "$$|\\downarrow \\rangle \\sim |1\\rangle$$\n",
    "\n",
    "We can use these similarities to observe quantum mechanical behavior in IBM Quantum Computers that mimics the quantum mechanical behavior of orbital or spin angular momentum in atoms. We will make similar observations using linear combinations of these states that allow us to extend the discussion to angular momentum along any direction."
   ]
  },
  {
   "cell_type": "markdown",
   "id": "c872c202-2be0-4eaa-9288-f8a6ac5dafa2",
   "metadata": {},
   "source": [
    "## First experiment: A single measurement\n",
    "\n",
    "In this first experiment and throughout the module, we will use a framework for quantum computing known as \"Qiskit patterns\", which breaks workflows into the following steps:\n",
    "\n",
    "- Step 1: Map classical inputs to a quantum problem\n",
    "- Step 2: Optimize problem for quantum execution\n",
    "- Step 3: Execute using Qiskit Runtime Primitives\n",
    "- Step 4: Post-processing and classical analysis\n",
    "\n",
    "We will generally follow these steps, though we may not always explicitly label them.\n",
    "\n",
    "### Step 1: Map classical inputs to a quantum problem\n",
    "\n",
    "Here, the classical inputs are orientations of a spin prior to measurement in a Stern Gerlach device. Don't worry too much about the exact nature of the quantum state prior to measurement. That is the subject of a different Qiskit Classrooms module, on Bell's theorem.\n",
    "\n",
    "Note that IBM quantum computers measure states along the $z$ axis. So this first experiment will be very much like the Stern Gerlach experiment with the magnetic field gradient along $z$. We will see how to change the system to measure along different directions, later.\n",
    "\n",
    "Let's begin by making the analog of a spin state, that is, some mixture of $|\\uparrow\\rangle$ and $|\\downarrow\\rangle$ or equivalently of $|0\\rangle$ and $|1\\rangle$. We have proposed some initial values. But feel free to play with other values or even random values."
   ]
  },
  {
   "cell_type": "code",
   "execution_count": 14,
   "id": "e9641118-1c0a-44e0-a364-3ac677b68b53",
   "metadata": {},
   "outputs": [
    {
     "name": "stdout",
     "output_type": "stream",
     "text": [
      "0.7877509768659391 0.6159938298771821\n"
     ]
    }
   ],
   "source": [
    "import random\n",
    "from numpy import pi\n",
    "import numpy as np\n",
    "\n",
    "# Use these lines to choose your own arbitrary state vector and normalize it.\n",
    "# a = 2\n",
    "# b = (1+1j)\n",
    "# norm = np.sqrt(a*np.conjugate(a)+b*np.conjugate(b))\n",
    "# a = a/norm\n",
    "# b = b/norm\n",
    "# print(a,b)\n",
    "\n",
    "# Use these lines if you would rather look at at random spin orientations.\n",
    "a = random.random()\n",
    "b = random.random()\n",
    "norm = np.sqrt(a * np.conjugate(a) + b * np.conjugate(b))\n",
    "a = a / norm\n",
    "b = b / norm\n",
    "print(a, b)"
   ]
  },
  {
   "cell_type": "markdown",
   "id": "9d6959cc-0c6c-419b-8608-a15e543afb84",
   "metadata": {},
   "source": [
    "Now we will use the angles above as parameters in a quantum circuit. We are considering only one particle at a time, so we will use only one qubit in our circuit, and we will require only one classical register."
   ]
  },
  {
   "cell_type": "code",
   "execution_count": 15,
   "id": "8574d5f4-0e08-4a15-b75e-adb87c8b4bbb",
   "metadata": {},
   "outputs": [
    {
     "data": {
      "image/png": "[encoded data removed]",
      "text/plain": [
       "<Figure size 352.675x200.667 with 1 Axes>"
      ]
     },
     "execution_count": 15,
     "metadata": {},
     "output_type": "execute_result"
    }
   ],
   "source": [
    "from qiskit.circuit import QuantumRegister, ClassicalRegister, QuantumCircuit, Parameter\n",
    "\n",
    "# Define registers\n",
    "qr = QuantumRegister(1, \"q\")\n",
    "cr = ClassicalRegister(1, \"c\")\n",
    "qc = QuantumCircuit(qr, cr)\n",
    "\n",
    "# Initialize the quantum state\n",
    "qc.initialize([a, b])\n",
    "qc.measure(0, 0)\n",
    "qc.draw(\"mpl\")"
   ]
  },
  {
   "cell_type": "markdown",
   "id": "9d4339a9-b505-4acd-abb1-2cb0007d05e3",
   "metadata": {},
   "source": [
    "### Step 2: Optimize problem for quantum execution\n",
    "\n",
    "To run our experiment on a real quantum computer, we need to load Qiskit Runtime Service, and select a quantum computer (or a \"backend\"). Below, we simply select the least busy quantum computer available to us."
   ]
  },
  {
   "cell_type": "code",
   "execution_count": null,
   "id": "261acf3b-2a20-4b93-97fd-c2551ab57b46",
   "metadata": {},
   "outputs": [],
   "source": [
    "# Load the Qiskit Runtime service\n",
    "from qiskit_ibm_runtime import QiskitRuntimeService\n",
    "\n",
    "\n",
    "# Syntax for first saving your token\n",
    "# QiskitRuntimeService.save_account(channel=\"ibm_quantum\", token=\"<MY_IBM_QUANTUM_TOKEN>\", overwrite=True, set_as_default=True)\n",
    "# service = QiskitRuntimeService(channel='ibm_quantum')\n",
    "\n",
    "# Syntax for specifying a channel and instance (if your organization has one for you.\n",
    "service = QiskitRuntimeService(channel=\"ibm_quantum\", instance=\"ibm-q/open/main\")"
   ]
  },
  {
   "cell_type": "code",
   "execution_count": null,
   "id": "0ef85527-b8ad-43e8-8829-97ddfbe099a9",
   "metadata": {},
   "outputs": [],
   "source": [
    "# Load the Runtime primitive and session\n",
    "from qiskit_ibm_runtime import Session, SamplerV2 as Sampler\n",
    "\n",
    "# Use the least busy backend\n",
    "# backend = service.least_busy(operational=True, simulator=False, min_num_qubits = 127)\n",
    "backend = service.least_busy()\n",
    "print(backend.name)"
   ]
  },
  {
   "cell_type": "markdown",
   "id": "f4c5ef88-a223-45d4-9916-aafc65332ee0",
   "metadata": {},
   "source": [
    "We now must transpiled the circuit, meaning we must map our circuit onto the base gates available to our chosen quantum computer, and we want to optimize our circuit for running on that quantum computer."
   ]
  },
  {
   "cell_type": "code",
   "execution_count": 17,
   "id": "db23de08-c34a-4303-b905-14a3de8485a9",
   "metadata": {},
   "outputs": [],
   "source": [
    "# Transpile the circuit and optimize for running on the quantum computer selected\n",
    "from qiskit.transpiler.preset_passmanagers import generate_preset_pass_manager\n",
    "\n",
    "pm = generate_preset_pass_manager(optimization_level=3, backend=backend)\n",
    "qc_ibm = pm.run(qc)"
   ]
  },
  {
   "cell_type": "markdown",
   "id": "1e7cdeb6-f3b8-424d-8661-606a4d10d9b9",
   "metadata": {},
   "source": [
    "### Step 3: Execute using Qiskit Runtime Primitives\n",
    "\n",
    "Now we want to run this on a real quantum computer. All the necessary syntax for that is in the code block below. If you have exhausted your allotted time on real quantum computers, or if you are without an internet connection, you can uncomment the next code block, which will run the code on a local simulator."
   ]
  },
  {
   "cell_type": "code",
   "execution_count": 5,
   "id": "b4cd3173-f1e0-424e-874b-3d106c057662",
   "metadata": {},
   "outputs": [],
   "source": [
    "# Specify that we want to use only a single shot, to represent a single measurement of a spin in a SG device.\n",
    "num_shots = 1\n",
    "\n",
    "# Evaluate the problem using a QPU via Qiskit IBM Runtime\n",
    "with Session(backend=backend) as session:\n",
    "    sampler = Sampler(mode=session)\n",
    "    dist = sampler.run([qc_ibm], shots=num_shots).result()\n",
    "session.close()\n",
    "counts = dist[0].data.c.get_counts()"
   ]
  },
  {
   "cell_type": "markdown",
   "id": "ebebebe3-2602-4ba4-88b1-ebc3a026523a",
   "metadata": {},
   "source": [
    "Use the code below if you are unable to run the experiment on a real quantum computer."
   ]
  },
  {
   "cell_type": "code",
   "execution_count": null,
   "id": "e8182062-3e3a-46be-a686-5d9ab639429c",
   "metadata": {},
   "outputs": [],
   "source": [
    "# This uses a local simulator\n",
    "# from qiskit_aer import AerSimulator\n",
    "\n",
    "# This generates a simulator that mimics the real quantum system\n",
    "# backend_sim = AerSimulator.from_backend(backend)\n",
    "\n",
    "# Import an estimator, this time from qiskit (we import from Runtime for real hardware)\n",
    "# from qiskit.primitives import BackendSampler\n",
    "# sampler = BackendSampler(backend = backend_sim)\n",
    "\n",
    "# num_shots = 1\n",
    "\n",
    "# This runs the job\n",
    "# dist = sampler.run([qc_ibm], shots = num_shots).result()\n",
    "\n",
    "# This selects measurement counts for the 0th circuit, which in this case is the only circuit\n",
    "# counts=dist[0].data.c.get_counts()"
   ]
  },
  {
   "cell_type": "markdown",
   "id": "981a55d9-3b7a-4a7d-b6b3-c5941c436400",
   "metadata": {},
   "source": [
    "### Step 4: Post-processing and classical analysis\n",
    "\n",
    "For this very simple experiment, classical analysis just consists of visualizing the experimental outcome."
   ]
  },
  {
   "cell_type": "code",
   "execution_count": null,
   "id": "d96c952c-c669-48ef-acf7-e237c4d2d6ac",
   "metadata": {},
   "outputs": [
    {
     "name": "stdout",
     "output_type": "stream",
     "text": [
      "counts =  {'1': 1}\n"
     ]
    },
    {
     "data": {
      "image/png": "[encoded data removed]",
      "text/plain": [
       "<Figure size 640x480 with 1 Axes>"
      ]
     },
     "execution_count": 6,
     "metadata": {},
     "output_type": "execute_result"
    }
   ],
   "source": [
    "from qiskit.visualization import plot_histogram\n",
    "\n",
    "print(\"counts = \", counts)\n",
    "plot_histogram(counts)"
   ]
  },
  {
   "cell_type": "markdown",
   "id": "dc725e3e-d3f0-419e-bfdf-604c31d10ea3",
   "metadata": {},
   "source": [
    "We made one measurement and obtained \"0\". This is no surprise for us. We know we are using a quantum computer composed of qubits and we're very accustomed to classical bits returning a 0 or a 1. But keep in mind: this is the quantum computing analog of the experiments done with particles with magnetic moments. If we had expected an even spread between 0 and +1, it might indeed have surprised us that we obtained one extremum on our first measurement. It is this surprising quantization of results in the Stern Gerlach experiment that led us to a better understanding of nature, and that in turn helped us eventually build quantum computers.\n",
    "\n",
    "Let's see what happens when we make an ensemble of measurements."
   ]
  },
  {
   "cell_type": "markdown",
   "id": "56ccadf6-f1b1-41f9-a963-a2cb0d3b6940",
   "metadata": {},
   "source": [
    "# Second experiment: Measuring many particles"
   ]
  },
  {
   "cell_type": "markdown",
   "id": "a53508e9-9977-4567-9d82-411490fe2c88",
   "metadata": {},
   "source": [
    "To gather statistics on many such measurements, we don't need to repeat steps 1 & 2. We can simply increase the number of shots in our experiment. Feel free to play with the number of shots in the instance of step 3 below."
   ]
  },
  {
   "cell_type": "code",
   "execution_count": null,
   "id": "46bc8bf0-892f-495c-b214-63da8d033268",
   "metadata": {},
   "outputs": [],
   "source": [
    "from qiskit_ibm_runtime import Session, SamplerV2 as Sampler\n",
    "\n",
    "num_shots = 100\n",
    "\n",
    "# Evaluate the problem using a QPU via Qiskit IBM Runtime\n",
    "with Session(backend=backend) as session:\n",
    "    sampler = Sampler(mode=session)\n",
    "    dist = sampler.run([qc_ibm], shots=num_shots).result()\n",
    "session.close()\n",
    "counts = dist[0].data.c.get_counts()"
   ]
  },
  {
   "cell_type": "markdown",
   "id": "ec5e9836-d44e-4004-9991-3f6af0cc9d8d",
   "metadata": {},
   "source": [
    "As before, if you are unable to run on a real quantum computer, uncomment the block above from the first experiment, and simply change ```num_shots = 1``` to ```num_shots = 100``` or more."
   ]
  },
  {
   "cell_type": "code",
   "execution_count": 8,
   "id": "c5657e06-dc9b-4bf6-992a-85445c907f03",
   "metadata": {},
   "outputs": [
    {
     "data": {
      "image/png": "[encoded data removed]",
      "text/plain": [
       "<Figure size 640x480 with 1 Axes>"
      ]
     },
     "execution_count": 8,
     "metadata": {},
     "output_type": "execute_result"
    }
   ],
   "source": [
    "plot_histogram(counts)"
   ]
  },
  {
   "cell_type": "markdown",
   "id": "52925a39-75f8-482d-899d-f7629540877a",
   "metadata": {},
   "source": [
    "We see that we sometimes measure 0 and sometimes measure 1. Note that we never measure anything else! You could change the number of shots, and notice that the probability of measuring 0 or 1 seems to be fairly consistent between different runs with different numbers of shots. So, something about the preparation of the state seems to be determining the probability of measurement outcomes, although any one measurement could yield either 0 or 1."
   ]
  },
  {
   "cell_type": "markdown",
   "id": "a9823515-210a-4d00-b990-43c361f0c727",
   "metadata": {},
   "source": [
    "## Third experiment: Random spins in an oven\n",
    "\n",
    "In the Stern Gerlach experiment, the researchers didn't get to specify an angle at which an angular momentum vector would emerge from the oven. The orientations were random (or something even more mysterious! See the Qiskit Classroom module on Bell's theorem). A reasonable analog of that experiment would be for us to randomly initialize the states of our qubit and make measurements many times.\n",
    "\n",
    "### Step 1: Map classical inputs to a quantum problem\n",
    "\n",
    "The circuit we want to construct is the same as before. The only difference is that this time, we will construct the circuit using gates with free parameters $\\theta$ and $\\phi$. Numerical values for those parameters will then be assigned for each new run."
   ]
  },
  {
   "cell_type": "code",
   "execution_count": 18,
   "id": "b286f4f5-8cc0-4cae-9c89-45ab334428a2",
   "metadata": {},
   "outputs": [
    {
     "name": "stderr",
     "output_type": "stream",
     "text": [
      "<>:4: SyntaxWarning: invalid escape sequence '\\p'\n",
      "<>:4: SyntaxWarning: invalid escape sequence '\\p'\n",
      "/tmp/ipykernel_1754/2671281646.py:4: SyntaxWarning: invalid escape sequence '\\p'\n",
      "  phi = Parameter(\"$\\phi$\")\n"
     ]
    },
    {
     "data": {
      "image/png": "[encoded data removed]",
      "text/plain": [
       "<Figure size 352.675x200.667 with 1 Axes>"
      ]
     },
     "execution_count": 18,
     "metadata": {},
     "output_type": "execute_result"
    }
   ],
   "source": [
    "# from qiskit.circuit import QuantumCircuit, Parameter\n",
    "\n",
    "theta = Parameter(\"θ\")\n",
    "phi = Parameter(\"$\\phi$\")\n",
    "\n",
    "# Define registers\n",
    "qr = QuantumRegister(1, \"q\")\n",
    "cr = ClassicalRegister(1, \"c\")\n",
    "qc = QuantumCircuit(qr, cr)\n",
    "\n",
    "# Add rotation gates for rotating the state of qubit 0 to random orientations\n",
    "qc.rx(theta, 0)\n",
    "qc.rz(phi, 0)\n",
    "qc.measure(0, 0)\n",
    "\n",
    "qc.draw(\"mpl\")"
   ]
  },
  {
   "cell_type": "markdown",
   "id": "c854c016-34ee-45ed-9636-518f339180af",
   "metadata": {},
   "source": [
    "Running a quantum circuit for only a single shot and doing so for many random configurations is an unusual workflow for a quantum computer. It can certainly be done, but for simplicity, we will use a local simulator here."
   ]
  },
  {
   "cell_type": "code",
   "execution_count": null,
   "id": "d9f17100-35a3-4a04-b236-7e8a9b447664",
   "metadata": {},
   "outputs": [],
   "source": [
    "# Use a local simulator\n",
    "\n",
    "from qiskit_aer import AerSimulator\n",
    "\n",
    "# Import an estimator, this time from qiskit (we will import from Runtime for real hardware)\n",
    "from qiskit.primitives import BackendSamplerV2\n",
    "\n",
    "# Generate a simulator that mimics the real quantum system\n",
    "backend_sim = AerSimulator.from_backend(backend)\n",
    "\n",
    "sampler = BackendSamplerV2(backend=backend_sim)"
   ]
  },
  {
   "cell_type": "code",
   "execution_count": 42,
   "id": "b1fcf4fc-2c55-43e5-84f7-f08d591b55fb",
   "metadata": {},
   "outputs": [],
   "source": [
    "# A list to store the accumulated probabilities of the two possible measurement outcomes.\n",
    "probslist = {\"0\": 0.0, \"1\": 0.0}\n",
    "\n",
    "# Choose how many \"particles\"/measurements\n",
    "measurements = 100\n",
    "num_shots = 1\n",
    "\n",
    "for i in range(measurements):\n",
    "    # Assign a random orientation for each measurement\n",
    "    phi = random.random() * 2 * pi\n",
    "    theta = random.random() * 2 * pi\n",
    "\n",
    "    angles = [phi, theta]\n",
    "    circuit = qc.assign_parameters(angles)\n",
    "    qc_ibm = pm.run(circuit)\n",
    "\n",
    "    # Run the circuit\n",
    "    # job = sampler.run([circuit],num_shots = 1)\n",
    "    dist = sampler.run([qc_ibm], shots=num_shots).result()\n",
    "\n",
    "    # Update the list of probabilities\n",
    "    zeroterm = dist[0].data.c.get_counts().get(\"0\") or 0\n",
    "    oneterm = dist[0].data.c.get_counts().get(\"1\") or 0\n",
    "    probslist.update({\"0\": probslist.get(\"0\") + zeroterm})\n",
    "    probslist.update({\"1\": probslist.get(\"1\") + oneterm})\n",
    "\n",
    "probslist.update({\"0\": probslist.get(\"0\") / measurements})\n",
    "probslist.update({\"1\": probslist.get(\"1\") / measurements})\n",
    "# print(probslist)"
   ]
  },
  {
   "cell_type": "code",
   "execution_count": null,
   "id": "e105c253-2be9-41f0-8335-225f8b4aba46",
   "metadata": {},
   "outputs": [
    {
     "data": {
      "image/png": "[encoded data removed]",
      "text/plain": [
       "<Figure size 640x480 with 1 Axes>"
      ]
     },
     "execution_count": 44,
     "metadata": {},
     "output_type": "execute_result"
    }
   ],
   "source": [
    "plot_histogram(probslist)"
   ]
  },
  {
   "cell_type": "markdown",
   "id": "3f6f1f6c-d03b-4650-908f-99ed75f04d32",
   "metadata": {},
   "source": [
    "So we see that the random initial state of the qubits (corresponding to random orientations of the angular momentum in a Stern Gerlach experiment) yield similar numbers of 0 and 1 states (like similar numbers of spin up and spin down states). This is exactly what the original Stern Gerlach experiment showed."
   ]
  },
  {
   "cell_type": "markdown",
   "id": "a19872c6-ad95-448f-bcc8-c6da4f8468e2",
   "metadata": {},
   "source": [
    "## Fourth experiment: Repeated measurements\n",
    "\n",
    "When a qubit starts in a random state, we see there is a roughly 50-50 chance of measuring one extremum over the other. But what happens to the qubit's state (or the particle's angular momentum) after the measurement? To answer that, we'll need to define a circuit that allows us to make multiple measurements of the same qubits. Let us define a circuit that we can use to investigate this. We will want to allow for the possibility of measuring both states $|0\\rangle$ and $|1\\rangle$, so we need something to rotate the qubit's initial state away from the default $|0\\rangle$ state. In this case, we will use a hadamard gate $H$, since $H|0\\rangle = \\frac{1}{\\sqrt{2}}(|0\\rangle+|1\\rangle)$. Note that, by default, both of these measurements will be along $z$."
   ]
  },
  {
   "cell_type": "code",
   "execution_count": 46,
   "id": "43ffc9e9-e821-41ed-b531-2ec1d7220813",
   "metadata": {},
   "outputs": [],
   "source": [
    "from qiskit import QuantumCircuit\n",
    "\n",
    "# Define registers\n",
    "qr = QuantumRegister(1, \"q\")\n",
    "cr = ClassicalRegister(2, \"c\")\n",
    "qc = QuantumCircuit(qr, cr)\n",
    "\n",
    "# Initialize the qubit to be a mixture of 0 and 1 states.\n",
    "qc.h(0)\n",
    "\n",
    "# Add a first measurement\n",
    "qc.measure(0, 0)\n",
    "qc.barrier()\n",
    "\n",
    "# Add a second measurement\n",
    "qc.measure(0, 1)\n",
    "\n",
    "qc.draw(\"mpl\")\n",
    "\n",
    "qc_ibm = pm.run(qc)"
   ]
  },
  {
   "cell_type": "code",
   "execution_count": 52,
   "id": "6dd0c1d5-d6f5-42e6-9981-d9f390effdfd",
   "metadata": {},
   "outputs": [
    {
     "name": "stdout",
     "output_type": "stream",
     "text": [
      "{'11': 509, '00': 474, '01': 7, '10': 10}\n"
     ]
    }
   ],
   "source": [
    "# Step 3: Run the job\n",
    "\n",
    "# job = sampler.run([qc])\n",
    "num_shots = 1000\n",
    "dist = sampler.run([qc_ibm], shots=num_shots).result()\n",
    "counts = dist[0].data.c.get_counts()\n",
    "print(counts)"
   ]
  },
  {
   "cell_type": "code",
   "execution_count": 53,
   "id": "5b364217-5df3-4ad9-ba1e-66ef76d52207",
   "metadata": {},
   "outputs": [
    {
     "data": {
      "image/png": "[encoded data removed]",
      "text/plain": [
       "<Figure size 640x480 with 1 Axes>"
      ]
     },
     "execution_count": 53,
     "metadata": {},
     "output_type": "execute_result"
    }
   ],
   "source": [
    "# Step 4: Post-process\n",
    "plot_histogram(counts)"
   ]
  },
  {
   "cell_type": "markdown",
   "id": "def9bc02-11de-494a-a865-8d24929d4e58",
   "metadata": {},
   "source": [
    "In the figure above, the bins are labelled \"00\", \"01\" and so on. Here, these numbers refer to \"2nd outcome, 1st outcome\". So \"00\" means both measurements yielded the $|0\\rangle$ state, and \"01\" means the first measurement yielded $|1\\rangle$, and the second yielded $|0\\rangle$. The vast majority of qubits were either measured to be in $|0\\rangle$ twice, or measured to be $|1\\rangle$ twice. It was very rare for qubits to be measured in one state and then measured to be in another state, and the few cases in which that happened (~1%) are due to noise. In this case that noise has been simulated in keeping with the behavior of the real quantum system. This observed correlation between successive measurements is also observed in Stern-Gerlach-type measurements of particles with spin angular momentum. If a particle is measured to be \"spin-up\", a subsequent measurement shortly after that will once again yield \"spin-up\" (up to some small variation due to noise).\n",
    "\n",
    "This may seem trivial. After all, if a qubit is measured to be in one state, and then I measure it again, quickly, why wouldn't it still be in that state? But if we really latch on to this subtlety, it may help us select some mathematical tools to describe this phenomenon."
   ]
  },
  {
   "cell_type": "markdown",
   "id": "0a0e7363-2492-4f67-9bd1-65241fc07c0c",
   "metadata": {},
   "source": [
    "## Analysis of experiments thus far\n",
    "\n",
    "Let's collect a few observations from our experiments so far:\n",
    "- The measurement of a quantum mechanical system will only yield one of a set of \"allowed values\". For two-level systems like qubits or spin-1/2 particles, a measurement will only yield one of the binary outcomes.\n",
    "- When we randomly initialize the state of our binary system (like spin-1/2 particles emerging from an oven), either of the binary measurement outcomes is possible.\n",
    "- Once a measurement is made and the state of the system is known, repeating the measurement of the same physical observable does not change the state! That is, if we obtain the 0 state once, when we measure again it is still in the 0 state (up to some minor noise in the system ~0.1% to 1%).\n",
    "\n",
    "Take explicit notice that we have not yet addressed the probabilistic nature of quantum mechanics, nor said anything about \"collapsing\" the state to an eigenstate. Using only the observations above, it might be tempting to look for a mathematical operation $O$ that leaves some special set of quantum mechanical states $|\\psi\\rangle$ unchanged up to perhaps a constant: $O|\\psi\\rangle = c|\\psi \\rangle$, since measuring along $z$ twice yields the same result. Ultimately, that search will fail to describe all the behaviors we will see. But it can describe some things, so we will pursue it a bit longer.\n",
    "\n",
    "There does exist such an operation. Matrix operation on some vectors changes the vectors, and matrix operation on other vectors (eigenvectors) leaves the vector unchanged up to a constant. Take for example the matrix $M$ and the vector $|v\\rangle$ where\n",
    "$$M= \\begin{pmatrix} 1 & 2 \\\\ 2 & 1\\end{pmatrix}$$\n",
    "and\n",
    "$$|v\\rangle = \\begin{pmatrix} 1\\\\1 \\end{pmatrix}$$\n",
    "Note that\n",
    "$$M|v\\rangle= \\begin{pmatrix} 1 & 2 \\\\ 2 & 1\\end{pmatrix}\\begin{pmatrix} 1\\\\1 \\end{pmatrix} = \\begin{pmatrix} 1*1+2*1\\\\2*1+1*1 \\end{pmatrix} = \\begin{pmatrix} 3\\\\3 \\end{pmatrix} = 3|v\\rangle$$\n",
    "But for other vectors, say $|v'\\rangle = \\begin{pmatrix} 1\\\\2\\end{pmatrix}$, we have\n",
    "$$M|v'\\rangle= \\begin{pmatrix} 1 & 2 \\\\ 2 & 1\\end{pmatrix}\\begin{pmatrix} 1\\\\2 \\end{pmatrix} = \\begin{pmatrix} 1*1+2*2\\\\2*1+1*2 \\end{pmatrix} = \\begin{pmatrix} 5\\\\4 \\end{pmatrix} \\neq c|v'\\rangle$$\n",
    "We might try to describe the spin of a particle using a matrix, and we might try to describe the states of the particles after measurement using a vector, called a \"state vector\". It is not at all obvious what values should go into such a matrix or state vector, but the only property we have from the measurements so far that we could use to label states would be the probability of measuring 0 or 1 (\"spin-up\" or \"spin-down\" in the context of spin-1/2 particles). We should consider that the entries in the state vectors should be related to this probability (exactly the probability, \"probability amplitude\" - meaning we square the entry to obtain the probability, etc.). But at this point, we're not sure if the entries in these matrices should be strictly real, complex, or what. To be safe, let's attempt to develop a framework in which the vectors and matrices satisfy the following:\n",
    "- The matrix operators are connected to experiment as much as possible. For example, we could associate the eigenvalues of a spin matrix with the experimentally observed spin projections.\n",
    "- The state vectors should be connected to probability in the following way: If a particle is in the state vector $|A\\rangle$, the probability that a subsequent measurement will find the particle in the state $|B\\rangle$ is $P_{AB}\\equiv |\\langle A| B \\rangle|^2$.\n",
    "\n",
    "This gives us a ton of freedom in developing our first matrices. For example, we could naively try\n",
    "\n",
    "$$|0\\rangle \\sim |\\uparrow\\rangle \\sim \\begin{pmatrix} 1 \\\\0 \\end{pmatrix}$$\n",
    "\n",
    "Here the $|0\\rangle \\sim |\\uparrow\\rangle$ means that there are states in quantum computers and in spin-1/2 systems that are very similar and are often mapped to each other. They are obviously not exactly the same, since they refer to different systems. But the algebra describing these two-state systems could conform to the same rules (spoiler alert: they do!). Note that this random choice already has one nice attribute. Note that\n",
    "\n",
    "$$P_{00} = |\\langle 0| 0 \\rangle|^2 = \\vert \\begin{pmatrix} 1 & 0\\end{pmatrix} \\begin{pmatrix} 1 \\\\ 0\\end{pmatrix}\\vert ^2 = |1|^2 = 1$$\n",
    "\n",
    "That is, if a particle is already in the state $|0\\rangle$, the probability that a subsequent measurement will also yield $|0\\rangle$ is 1 (barring effects from noise). This is excellent, because we have already seen that once a state is in the 0 or \"spin-up\" state, it remains there upon subsequent measurement. The probability above should indeed be 100%.\n",
    "\n",
    "### Check-in question\n",
    "\n",
    "Why is\n",
    "\n",
    "$$|0\\rangle = \\begin{pmatrix} 1 \\\\0 \\end{pmatrix}$$\n",
    "\n",
    "a better choice than, say,\n",
    "\n",
    "$$|0\\rangle = \\begin{pmatrix} 2 \\\\0 \\end{pmatrix}?$$\n",
    "\n",
    "<details>\n",
    "<summary>Answer:</summary>\n",
    "\n",
    "Our attempt to associate the probability of a measurement with the inner product squared means we need the magnitude of each vector to be 1. That is, $|\\langle v|v\\rangle|^2 = 1$ for all $|v\\rangle$, since the probability of a thing in state $|v\\rangle$ being in state $|v\\rangle$ is 100%. This is known as the \"normalization condition\".\n",
    "</details>\n",
    "\n",
    "### Check-in question\n",
    "\n",
    "Why is\n",
    "\n",
    "$$|0\\rangle = \\begin{pmatrix} 1 \\\\0 \\end{pmatrix}$$\n",
    "\n",
    "a better choice than, say,\n",
    "\n",
    "$$|0\\rangle = \\begin{pmatrix} 0 \\\\1 \\end{pmatrix}?$$\n",
    "\n",
    "<details>\n",
    "<summary>Answer:</summary>\n",
    "\n",
    "It is not. There is no reason why we need to initially choose $|0\\rangle = \\begin{pmatrix} 1 \\\\0 \\end{pmatrix}$. Rather, it is a convention. However, once we make that choice, it does impose certain constraints on subsequent choices. See below.\n",
    "</details>\n",
    "\n",
    "Recall that in the experiments above, we found that a qubit initially in a the state $|0\\rangle$ remained in that state upon subsequent measurement. The same is true of $|1\\rangle$. This means that a qubit that is in $|0\\rangle$ has zero probability of being measured in the state $|1\\rangle$ (barring the effects of noise). Our required connection between inner products and probabilities of measurements then tells us that\n",
    "\n",
    "$$P_{01} = P_{10}=0$$\n",
    "\n",
    "Without loss of generality, we can write the state vector $|1\\rangle = \\begin{pmatrix} a \\\\ b \\end{pmatrix}$. Then we can write\n",
    "\n",
    "$$P_{01} = |\\langle 0| 1 \\rangle|^2 = \\vert \\begin{pmatrix} 1 & 0\\end{pmatrix} \\begin{pmatrix} a \\\\ b\\end{pmatrix}\\vert ^2 = |a|^2 = 0$$\n",
    "\n",
    "The requirement that $P_{11} = 1$, the so-called \"normalization condition\" tells us that $|b|^2=1$. This by itself really only limits us to $b=e^{i\\phi}$ for $\\phi \\in \\mathbb{R}$. It turns out there are other reasons for choosing $b=1$ that are beyond this introduction to the topic. For now, let it suffice that $b=1$ is one acceptable solution.\n",
    "\n",
    "We have come quite far in our analysis. Choosing a form for our state vectors allows us to construct a matrix that describes something about the physical phenomena at work here. In particular, because the original Stern-Gerlach experiment measured a splitting of trajectories based on spin angular momentum components along the $z$ axis, we would like an operator that describes exactly that: $S_z$. Another key connection to the experiment is that from the deflection amount, travel time, and known magnetic field strength, we can determine the magnitude of the $z$ component of spin. Although this requires a lot of assumptions about the precision of the experimental setup, here we will simply reiterate that the measured z-components of spin angular momentum are $\\pm \\hbar/2$.\n",
    "\n",
    "Then we are seeking a matrix with real eigenvalues (satisfied by Hermitian matrices) with eigenvalues corresponding to these experimentally-observed spin components. Without loss of generality, we can write $S_z = \\begin{pmatrix} s_{11} & s_{12} \\\\ s_{21} & s_{22}\\end{pmatrix}$, and we can require:\n",
    "\n",
    "$$S_z |\\uparrow\\rangle = \\begin{pmatrix} s_{11} & s_{12} \\\\ s_{21} & s_{22}\\end{pmatrix}\\begin{pmatrix}1 \\\\0\\end{pmatrix} = \\begin{pmatrix} s_{11} \\\\ s_{21} \\end{pmatrix} \\overset{!}{=} \\frac{\\hbar}{2} \\begin{pmatrix}1 \\\\0\\end{pmatrix} \\rightarrow s_{11} = \\hbar/2,s_{21}=0$$\n",
    "$$S_z |\\downarrow\\rangle = \\begin{pmatrix} s_{11} & s_{12} \\\\ s_{21} & s_{22}\\end{pmatrix}\\begin{pmatrix}0 \\\\1\\end{pmatrix} = \\begin{pmatrix} s_{12} \\\\ s_{22} \\end{pmatrix} \\overset{!}{=} -\\frac{\\hbar}{2} \\begin{pmatrix}0 \\\\1\\end{pmatrix} \\rightarrow s_{12} = 0, s_{22}=-\\hbar/2$$\n",
    "\n",
    "Combining, and pulling out the overall factor of $\\hbar/2$, we have\n",
    "\n",
    "$$ S_z = \\frac{\\hbar}{2} \\begin{pmatrix} 1 & 0 \\\\ 0 & -1\\end{pmatrix}. $$"
   ]
  },
  {
   "cell_type": "markdown",
   "id": "fcd3a764-aeab-403d-b388-98c608f55743",
   "metadata": {},
   "source": [
    "This is the well-known spin-z operator found in all quantum mechanics textbooks. One often sees this with the $\\hbar/2$ removed, in which case it is the \"Pauli-z\" operator, typically denoted $\\sigma_z$:\n",
    "\n",
    "$$\\sigma_z = \\begin{pmatrix} 1 & 0 \\\\ 0 & -1\\end{pmatrix}. $$\n",
    "\n",
    "This is useful, since this Pauli operator (and related matrices) can describe many physical systems involving two levels or two possible outcomes of measurement, including states of transmon qubits in a quantum computer.\n",
    "\n",
    "Before we turn to other operators and states related to this one, we must address one fact that a lot of people get wrong. __Operator action is not the same as measurement.__ In one sense, you might say, \"Of course not! One happens on paper as part of a mathematical calculation, and the other happens in a lab on physical systems.\" Yes, that's true, but it's more than that. Making a measurement of the $z$-component of spin will always yield a \"spin-up\" or \"spin-down\" state, regardless of the initial state of the system. We saw this with the quantum computing analogs $|0\\rangle$ and $|1\\rangle$. We initialized states to be in hundreds of random orientations, and measurements always yielded either $|0\\rangle$ or $|1\\rangle$. This is known as measurement \"collapsing the state\" to an eigenstate. This does not happen when you apply a matrix to a state. Try the questions below to explore this.\n",
    "\n",
    "### Check-in question\n",
    "\n",
    "Suppose you start with a particle in a spin state\n",
    "\n",
    "$$|\\psi\\rangle = \\begin{pmatrix}\\sqrt{3/5} \\\\ \\sqrt{2/5}\\end{pmatrix}.$$\n",
    "\n",
    "(a) What do you get if you act with the $S_z$ operator on this state vector? (b) What do you obtain if you make a single measurement of the $z$ component of spin of this particle? (c) What do you get if you prepare many particles identical to this state and make thousands of measurements of the $z$ component of the spin?\n",
    "<details>\n",
    "<summary>Answers:</summary>\n",
    "\n",
    "(a) You get\n",
    "\n",
    "$$S_z |\\psi\\rangle = \\frac{\\hbar}{2} \\begin{pmatrix} 1 & 0 \\\\ 0 & -1\\end{pmatrix} \\begin{pmatrix}\\sqrt{3/5} \\\\ \\sqrt{2/5}\\end{pmatrix}$$\n",
    "$$= \\frac{\\hbar}{2} \\begin{pmatrix}\\sqrt{3/5} \\\\ -\\sqrt{2/5}\\end{pmatrix}.$$\n",
    "\n",
    "That's it. There is no experimental outcome. You just apply the matrix to the vector and you got a slightly different vector which now has a new \"-\" sign, and no longer has a magnitude of 1, since it has a prefactor $\\hbar/2$.\n",
    "\n",
    "(b) You will either obtain $|\\uparrow\\rangle$ or $|\\downarrow\\rangle$. This corresponds to observing a projection of spin on the $z$ axis of either $\\hbar/2$ or $-\\hbar/2$, respectively. We can also determine the probability of each outcome, since\n",
    "$$P_{\\uparrow\\psi}=|\\langle \\uparrow|\\psi\\rangle|^2 = \\vert \\begin{pmatrix}1 & 0\\end{pmatrix} \\begin{pmatrix}\\sqrt{3/5} \\\\ \\sqrt{2/5}\\end{pmatrix}\\vert^2 = |\\sqrt{3/5}|^2 = \\frac{3}{5}$$\n",
    "$$P_{\\downarrow\\psi}=|\\langle \\downarrow|\\psi\\rangle|^2 = \\vert \\begin{pmatrix}0 & 1\\end{pmatrix} \\begin{pmatrix}\\sqrt{3/5} \\\\ \\sqrt{2/5}\\end{pmatrix}\\vert^2 = |\\sqrt{2/5}|^2 = \\frac{2}{5}$$\n",
    "So while the spin-up state is 20% more likely, either outcome is possible, and we will only obtain one of these two states.\n",
    "\n",
    "(c) Roughly 60% of the measurements will yield spin-up particles, and roughly 40% of the measurements will yield spin-down particles, according to the measurement probabilities calculated in part (b).\n",
    "\n",
    "</details>\n",
    "\n",
    "### Check-in question\n",
    "\n",
    "Verify the answers to parts (b) and (c) of the previous question by using the analogy between spin-up states of an atom and qubit states:\n",
    "\n",
    "$$|\\uparrow\\rangle\\sim|0\\rangle.$$\n",
    "\n",
    "Code quantum circuits to create the desired initial state, and then use either real hardware or a simulator to check the outcomes of a single measurement, and from an ensemble of hundreds or even thousands of measurements.\n",
    "\n",
    "<details>\n",
    "<summary>Answer:</summary>\n",
    "\n",
    "```#Use the backend sampler for part (b) because it allows us to use a single shot.\n",
    "from qiskit_aer import AerSimulator\n",
    "backend_sim = AerSimulator.from_backend(backend)\n",
    "from qiskit.primitives import BackendSampler\n",
    "sampler = BackendSampler(backend = backend_sim)\n",
    "\n",
    "#Create a quantum circuit to initialize the state.\n",
    "import math\n",
    "psi = [math.sqrt(3/5),math.sqrt(2/5)]\n",
    "qc = QuantumCircuit(1,1)\n",
    "qc.initialize(psi, [0])\n",
    "\n",
    "#Add measurement to the circuit\n",
    "qc.measure(0,0)\n",
    "qc.draw('mpl')\n",
    "\n",
    "#Set num_shots =1 for part (b) and num_shots = 1000 or more for part (c).\n",
    "num_shots = 1000\n",
    "\n",
    "#Run the job and print the result. You should obtain only 0 or 1 in part (b) for a single shot.\n",
    "#You should obtain a probability distribution with approximately 60% 0 and 40% 1 in part (c)\n",
    "\n",
    "dist = sampler.run([qc_ibm], shots = num_shots).result()\n",
    "counts=dist[0].data.c.get_counts()\n",
    "print(counts)```\n",
    "\n",
    "#You should obtain {0: 599, 1: 401} or something equivalently close to the 60%-40% distribution predicted."
   ]
  },
  {
   "cell_type": "markdown",
   "id": "4c871b05-f0bc-423a-b200-ef99bf278eb5",
   "metadata": {},
   "source": [
    "## Fifth experiment: Measuring different observables\n",
    "\n",
    "So far we have only made measurements along the z axis. In a Stern-Gerlach experiment, if we wanted to measure along, say, the x-axis we would simply orient the inhomogeneous magnetic field to point along the $x$ axis, and look for deflections along $x$ on the screen. IBM Quantum Computers, however, are designed to make measurements along only one axis ($z$). To measure a state along $x$ we must perform a \"change of basis\". This means we must perform an operation that takes states along $x$ in the Bloch sphere to $z$, and vice-versa. There are a few ways of implementing this, but the preferred way is a Hadamard gate:\n",
    "$$\n",
    "H=\\frac{1}{\\sqrt{2}}\\begin{pmatrix}1 & 1 \\\\ 1 & -1\\end{pmatrix}\n",
    "$$\n",
    "\n",
    "### Check-in question:\n",
    "\n",
    "Show that $H|0\\rangle = |+\\rangle_x$ and that $H|+\\rangle_x = |0\\rangle$\n",
    "\n",
    "<details>\n",
    "<summary>Answer:</summary>\n",
    "\n",
    "$$H|0\\rangle = \\frac{1}{\\sqrt{2}}\\begin{pmatrix}1 & 1 \\\\ 1 & -1\\end{pmatrix}\\begin{pmatrix}1 \\\\ 0\\end{pmatrix} = \\frac{1}{\\sqrt{2}}\\begin{pmatrix}1 \\\\ 1\\end{pmatrix} = |+\\rangle_x$$\n",
    "$$H|+\\rangle_x = \\frac{1}{\\sqrt(2)}\\begin{pmatrix}1 & 1 \\\\ 1 & -1\\end{pmatrix}\\frac{1}{\\sqrt{2}}\\begin{pmatrix}1 \\\\ 1\\end{pmatrix} = \\frac{1}{2}\\begin{pmatrix}2 \\\\ 0\\end{pmatrix} = \\begin{pmatrix}1 \\\\ 0\\end{pmatrix} = |0\\rangle$$\n",
    "\n",
    "</details>\n",
    "\n",
    "### Check-in question:\n",
    "\n",
    "Show that $H|1\\rangle = |-\\rangle_x$ and that $H|-\\rangle_x = |1\\rangle$\n",
    "\n",
    "<details>\n",
    "<summary>Answer:</summary>\n",
    "\n",
    "$$H|1\\rangle = \\frac{1}{\\sqrt{2}}\\begin{pmatrix}1 & 1 \\\\ 1 & -1\\end{pmatrix}\\begin{pmatrix}0 \\\\ 1\\end{pmatrix} = \\frac{1}{\\sqrt{2}}\\begin{pmatrix}1 \\\\ -1\\end{pmatrix} = |-\\rangle_x$$\n",
    "$$H|-\\rangle_x = \\frac{1}{\\sqrt(2)}\\begin{pmatrix}1 & 1 \\\\ 1 & -1\\end{pmatrix}\\frac{1}{\\sqrt{2}}\\begin{pmatrix}1 \\\\ -1\\end{pmatrix} = \\frac{1}{2}\\begin{pmatrix}0 \\\\ 2\\end{pmatrix} = \\begin{pmatrix}0 \\\\ 1\\end{pmatrix} = |1\\rangle$$\n",
    "\n",
    "</details>"
   ]
  },
  {
   "cell_type": "code",
   "execution_count": 54,
   "id": "a582ba58-1621-4828-8ebb-3a8d63199e9e",
   "metadata": {},
   "outputs": [
    {
     "data": {
      "image/png": "[encoded data removed]",
      "text/plain": [
       "<Figure size 269.064x200.667 with 1 Axes>"
      ]
     },
     "execution_count": 54,
     "metadata": {},
     "output_type": "execute_result"
    }
   ],
   "source": [
    "# Define registers\n",
    "qr = QuantumRegister(1, \"q\")\n",
    "cr = ClassicalRegister(1, \"c\")\n",
    "qc = QuantumCircuit(qr, cr)\n",
    "\n",
    "# Add a hadamard gate to rotate into the x-basis\n",
    "qc.h(0)\n",
    "qc.measure(0, 0)\n",
    "\n",
    "qc.draw(\"mpl\")"
   ]
  },
  {
   "cell_type": "markdown",
   "id": "95ee1e18-3c4c-468a-a21e-fd19e034192b",
   "metadata": {},
   "source": [
    "This circuit rotates our system so that measurements (along $z$) tell us about the $x$ characteristics prior to the rotation. We already know that the quantum computer initializes states to $|0\\rangle$ which corresponds to $|\\uparrow\\rangle$. Let's see what happens when we measure the projection of spin along $x$ for a state initially in $|\\uparrow\\rangle$."
   ]
  },
  {
   "cell_type": "code",
   "execution_count": 55,
   "id": "f36273f4-7a2c-4abe-8252-287abcb5634d",
   "metadata": {},
   "outputs": [
    {
     "name": "stdout",
     "output_type": "stream",
     "text": [
      "{'1': 5061, '0': 4939}\n"
     ]
    }
   ],
   "source": [
    "from qiskit.primitives import StatevectorSampler as Sampler\n",
    "\n",
    "sampler = Sampler()\n",
    "\n",
    "job = sampler.run([qc], shots=10000)\n",
    "print(job.result()[0].data.c.get_counts())"
   ]
  },
  {
   "cell_type": "markdown",
   "id": "8943360c-dcb8-4b1c-bc39-00ddc77dd5e5",
   "metadata": {},
   "source": [
    "This shows us that for a qubit initially in $|0\\rangle$ (or equivalently, a spin in the $|\\uparrow\\rangle$) the probability of measuring a projection along $+x$ or $-x$ is about 50-50. In some ways, this makes perfect sense. After all, if something were pointing along the z direction, it would have no particular preference for $\\pm x$. We might expect the same to be true, if we start with the state $|1\\rangle$ (or $|\\downarrow\\rangle$). Let's check:"
   ]
  },
  {
   "cell_type": "code",
   "execution_count": 56,
   "id": "a3ce36c2-5680-4548-a923-3ef5b2fcf942",
   "metadata": {},
   "outputs": [
    {
     "data": {
      "image/png": "[encoded data removed]",
      "text/plain": [
       "<Figure size 352.675x200.667 with 1 Axes>"
      ]
     },
     "execution_count": 56,
     "metadata": {},
     "output_type": "execute_result"
    }
   ],
   "source": [
    "# Define registers\n",
    "qr = QuantumRegister(1, \"q\")\n",
    "cr = ClassicalRegister(1, \"c\")\n",
    "qc = QuantumCircuit(qr, cr)\n",
    "\n",
    "# Add a NOT gate and hadamard gate. Measure.\n",
    "qc.x(0)\n",
    "qc.h(0)\n",
    "qc.measure(0, 0)\n",
    "\n",
    "qc.draw(\"mpl\")"
   ]
  },
  {
   "cell_type": "code",
   "execution_count": 57,
   "id": "574a6752-9294-4655-abaf-b0c6ce9368fe",
   "metadata": {},
   "outputs": [
    {
     "name": "stdout",
     "output_type": "stream",
     "text": [
      "{'1': 5025, '0': 4975}\n"
     ]
    }
   ],
   "source": [
    "from qiskit.primitives import StatevectorSampler as Sampler\n",
    "\n",
    "sampler = Sampler()\n",
    "\n",
    "job = sampler.run([qc], shots=10000)\n",
    "print(job.result()[0].data.c.get_counts())"
   ]
  },
  {
   "cell_type": "markdown",
   "id": "65c46b91-b4cc-43c3-a4dd-f86c2a1effc4",
   "metadata": {},
   "source": [
    "Yes! Again, we find a 50-50 probability of measuring a projections along $\\pm x$. In analogy with measurements along $z$, we might further suspect that a particle that collapses into a state definitely along $+x$ might have zero probability of subsequently being measured along $-x$. Let's check:"
   ]
  },
  {
   "cell_type": "code",
   "execution_count": 58,
   "id": "d73e638d-1fcc-48af-ae03-61f1e60da6d0",
   "metadata": {},
   "outputs": [
    {
     "data": {
      "image/png": "[encoded data removed]",
      "text/plain": [
       "<Figure size 436.286x200.667 with 1 Axes>"
      ]
     },
     "execution_count": 58,
     "metadata": {},
     "output_type": "execute_result"
    }
   ],
   "source": [
    "from qiskit import QuantumCircuit\n",
    "\n",
    "# Define registers\n",
    "qr = QuantumRegister(1, \"q\")\n",
    "cr = ClassicalRegister(2, \"c\")\n",
    "qc = QuantumCircuit(qr, cr)\n",
    "\n",
    "# Rotate into x-basis using a Hadamard gate, then make two measurements in succession\n",
    "qc.h(0)\n",
    "qc.measure(0, 0)\n",
    "qc.barrier()\n",
    "qc.measure(0, 1)\n",
    "\n",
    "qc.draw(\"mpl\")"
   ]
  },
  {
   "cell_type": "code",
   "execution_count": 59,
   "id": "18cb2742-38f8-4370-84dc-86aa033a7ad2",
   "metadata": {},
   "outputs": [
    {
     "name": "stdout",
     "output_type": "stream",
     "text": [
      "{'00': 526, '11': 498}\n"
     ]
    },
    {
     "data": {
      "image/png": "[encoded data removed]",
      "text/plain": [
       "<Figure size 640x480 with 1 Axes>"
      ]
     },
     "execution_count": 59,
     "metadata": {},
     "output_type": "execute_result"
    }
   ],
   "source": [
    "job = sampler.run([qc])\n",
    "print(job.result()[0].data.c.get_counts())\n",
    "plot_histogram(job.result()[0].data.c.get_counts())"
   ]
  },
  {
   "cell_type": "markdown",
   "id": "ea6b75aa-d382-4eed-8739-a4990ad02439",
   "metadata": {},
   "source": [
    "As expected, we obtain results in which the projection is along $+x$, and then later is again along $+x$, and we have results in which the projection is initially along $-x$ and is later along $-x$ once again. We do not see cases where the projection switches from $+x$ to $-x$ or vice-versa. We can collect our observations and use them to develop further operators in matrix forms, and further state vectors.\n",
    "\n",
    "We know:\n",
    "- States with definite projections along $+z$ or $-z$ have a 50% chance of being found to have a projection along $+x$ and 50% chance of having a projection along $-x$.\n",
    "- States with a definite projection along $+x$ have zero chance of later being found to have a projection along $-x$, and vice-versa.\n",
    "\n",
    "We can use these results to construct states with a definite, positive projection along $x$ (which we call $|+x\\rangle$), and those with definite, negative projection along $x$ (which we call $|-x\\rangle$). From those states, we can construct the matrix corresponding to $S_x$, exactly as we did for $S_z$. We leave these as exercises to the learner. Similarly, one can construct experiments making measurements along the $y$ axis, determine vectors for $|+y\\rangle$ and $|-y\\rangle$, and finally obtain an expression for $S_y$.\n",
    "\n",
    "Collecting all these vectors and matrices together, we have\n",
    "\n",
    "\\begin{aligned}\n",
    "|+x\\rangle &= \\frac{1}{\\sqrt{2}}\\begin{pmatrix}1 \\\\ 1\\end{pmatrix} & \\:  & |-x\\rangle &=& \\frac{1}{\\sqrt{2}}\\begin{pmatrix}1 \\\\ -1\\end{pmatrix} & \\: &S_x &=& \\frac{\\hbar}{2} \\begin{pmatrix} 0 & 1 \\\\ 1 & 0\\end{pmatrix}\\\\\n",
    "|+y\\rangle &= \\frac{1}{\\sqrt{2}}\\begin{pmatrix}1 \\\\ i\\end{pmatrix} & \\:  & |-y\\rangle &=& \\frac{1}{\\sqrt{2}}\\begin{pmatrix}1 \\\\ -i\\end{pmatrix} & \\: &S_y &=& \\frac{\\hbar}{2} \\begin{pmatrix} 0 & -i \\\\ i & 0\\end{pmatrix}\\\\\n",
    "|+z\\rangle &= \\begin{pmatrix}1 \\\\ 0\\end{pmatrix} & \\:  &|-z\\rangle &=& \\begin{pmatrix}0 \\\\ 1\\end{pmatrix} & \\: &S_z &=& \\frac{\\hbar}{2} \\begin{pmatrix} 1 & 0 \\\\ 0 & 1\\end{pmatrix}\\\\\n",
    "\\end{aligned}"
   ]
  },
  {
   "cell_type": "markdown",
   "id": "41d64357-c85d-4328-9e73-3d353c6b2602",
   "metadata": {},
   "source": [
    "## Questions\n",
    "\n",
    "### Critical concepts:\n",
    "\n",
    "- For spin-1/2 particle, a measurement of the projection of spin on some axis can only yield one of two outcomes, often called \"up\" and \"down\".\n",
    "- Qubits can only be measured in one of two states, often referred to as $|0\\rangle$ and $|1\\rangle$.\n",
    "- We can model the Stern Gerlach experiment on spin-1/2 particles using qubits in a quantum computer.\n",
    "- Repeated measurements of the same physical observable of the same particle/qubit will yield the same result (unless the system is perturbed by noise).\n",
    "- We can use results from the Stern Gerlach experiment or from the analogous experiments with quantum computers to derive a system of state vectors and matrix operators that describe quantum mechanical spin.\n",
    "\n",
    "### T/F questions:\n",
    "\n",
    "1. T/F Starting from experimental observations, the only valid choice for a vector to represent $|\\uparrow\\rangle$ is $\\begin{pmatrix}1 \\\\ 0\\end{pmatrix}$\n",
    "2. T/F If $|\\uparrow\\rangle = \\begin{pmatrix}1 \\\\ 0\\end{pmatrix}$, the only choice for $|\\downarrow\\rangle$ is $\\begin{pmatrix}0 \\\\ 1\\end{pmatrix}$ (up to a global phase).\n",
    "3. T/F A particle measured to be in the state $|0\\rangle$ will continue to be found in the state $|0\\rangle$ upon subsequent measurements along $z$.\n",
    "4. T/F A particle measured to be in the state $|0\\rangle$ will continue to be found in the state $|0\\rangle$ upon subsequent measurements along $x$.\n",
    "5. T/F A particle measured to be in the state $|0\\rangle$ will always be found in the state $|+\\rangle_x$ upon subsequent measurements along $x$.\n",
    "\n",
    "### MC questions:\n",
    "\n",
    "1. A particle initially in $|\\uparrow\\rangle$ has what probability of being measured in the state $|+x\\rangle$?\n",
    "    - a. 0%\n",
    "    - b. 25%\n",
    "    - c. 50%\n",
    "    - d. 71%\n",
    "    - e. 100%\n",
    "\n",
    "2. A particle initially in $|\\uparrow\\rangle$ has what probability of being measured in the state $|\\downarrow\\rangle$?\n",
    "    - a. 0%\n",
    "    - b. 25%\n",
    "    - c. 50%\n",
    "    - d. 71%\n",
    "    - e. 100%\n",
    "\n",
    "2. The state $|\\uparrow\\rangle$ of a spin-1/2 particle is most commonly associated with what quantum computing state?\n",
    "    - a. $|+\\rangle$\n",
    "    - b. $|-\\rangle$\n",
    "    - c. $|0\\rangle$\n",
    "    - d. $|1\\rangle$\n",
    "    - e. None of the above\n",
    "\n",
    "\n",
    "### Discussion questions:\n",
    "\n",
    "1. Three friends are discussing quantum measurements and operators. Friend A says, \"Making a measurement along $z$ and acting with the operator $\\sigma_z$ are the same thing.\" Friend B says, \"Well, they are different procedures, but they have the same result.\" Friend C says, \"They are totally different; they even have different effects on most states.\" With whom do you agree and why?\n",
    "\n",
    "### Free response problems:\n",
    "\n",
    "1. Given the experimental observations and proposed syntax:\n",
    "\n",
    "$$P_{\\uparrow+x}=\\vert \\begin{pmatrix}1 & 0\\end{pmatrix}\\begin{pmatrix}a \\\\ b\\end{pmatrix}\\vert^2 = |a|^2 =\\frac{1}{2} $$\n",
    "$$P_{\\downarrow+x}=\\vert \\begin{pmatrix}0 & 1\\end{pmatrix}\\begin{pmatrix}a \\\\ b\\end{pmatrix}\\vert^2 = |b|^2 =\\frac{1}{2} $$\n",
    "\n",
    "show that up to a global phase\n",
    "\n",
    "$$|+\\rangle_x = \\frac{1}{\\sqrt{2}}\\begin{pmatrix}1 \\\\ e^{i\\alpha}\\end{pmatrix}$$\n",
    "\n",
    "Choose $\\alpha = 0$ to obtain the standard result.\n",
    "\n",
    "2. Given the experimental observations and proposed syntax:\n",
    "\n",
    "$$P_{\\uparrow-x}=\\vert \\begin{pmatrix}1 & 0\\end{pmatrix}\\begin{pmatrix}a \\\\ b\\end{pmatrix}\\vert^2 = |a|^2 =\\frac{1}{2} $$\n",
    "$$P_{\\downarrow-x}=\\vert \\begin{pmatrix}0 & 1\\end{pmatrix}\\begin{pmatrix}a \\\\ b\\end{pmatrix}\\vert^2 = |b|^2 =\\frac{1}{2} $$\n",
    "\n",
    "And using the result from challenge problem 3:\n",
    "\n",
    "$$P_{+x-x}=\\vert \\frac{1}{\\sqrt{2}}\\begin{pmatrix}1 & 1\\end{pmatrix}\\begin{pmatrix}c \\\\ d\\end{pmatrix}\\vert^2 = \\frac{1}{2}|c+d|^2 =0 $$\n",
    "\n",
    "show that up to a global phase\n",
    "\n",
    "$$|+\\rangle_x = \\frac{1}{\\sqrt{2}}\\begin{pmatrix}1 \\\\ -1\\end{pmatrix}$$"
   ]
  },
  {
   "cell_type": "markdown",
   "id": "d1073541-90dd-49f3-b000-2b3eda9d3ddc",
   "metadata": {},
   "source": [
    "## Acknowledgements\n",
    "\n",
    "[1] By Tatoute - Own work, CC BY-SA 4.0, https://commons.wikimedia.org/w/index.php?curid=34095239"
   ]
  }
 ],
 "metadata": {
  "description": "Review the historical Sterg-Gerlack experiment and make analogous measurements using a real quantum computer.",
  "kernelspec": {
   "display_name": "Python 3",
   "language": "python",
   "name": "python3"
  },
  "language_info": {
   "codemirror_mode": {
    "name": "ipython",
    "version": 3
   },
   "file_extension": ".py",
   "mimetype": "text/x-python",
   "name": "python",
   "nbconvert_exporter": "python",
   "pygments_lexer": "ipython3",
   "version": "3"
  },
  "title": "Stern-Gerlach measurements with Qiskit"
 },
 "nbformat": 4,
 "nbformat_minor": 4
}
