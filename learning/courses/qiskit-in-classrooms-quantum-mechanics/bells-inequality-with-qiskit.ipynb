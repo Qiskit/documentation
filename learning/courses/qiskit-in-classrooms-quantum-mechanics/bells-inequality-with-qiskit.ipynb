{
 "cells": [
  {
   "cell_type": "markdown",
   "metadata": {},
   "source": [
    "{/* cspell:ignore Gott würfelt nicht outcoming Rihanna Rihanna's Marshman */}\n",
    "\n",
    "# The Nature of Quantum States: Hidden Variables vs Bell's Inequality"
   ]
  },
  {
   "cell_type": "markdown",
   "id": "2f32da4b-8765-40b7-9df3-3c00c410e607",
   "metadata": {},
   "source": [
    "For this Qiskit in Classrooms module, students must have a working python environment with the following packages installed:\n",
    "- qiskit v $\\geq$ 1.3\n",
    "- qiskit_ibm_runtime v $\\geq$ 0.29.0\n",
    "- qiskit-aer v $\\geq$ 15.0\n",
    "- qiskit.visualization\n",
    "\n",
    "To set up and install the packages above, see the guidance on IBM Quantum's [Documentation page](https://docs.quantum.ibm.com/guides/install-qiskit).\n",
    "In order to run jobs on real quantum computers, students will need to set up an account with IBM Quantum. This can be done by following the steps outlined on [Documentation here](https://docs.quantum.ibm.com/guides/setup-channel)."
   ]
  },
  {
   "cell_type": "markdown",
   "id": "b6c9ec60-3541-4caf-bd6c-c8ae4072322e",
   "metadata": {},
   "source": [
    "## The Problem\n",
    "\n",
    "In many calculations throughout quantum mechanics, you start with a known state of a system, and that state is typically known through a measurement. Today we want to answer the question, “What can you say about a particle's state prior to any measurement?” An obvious corollary is, “How can we know, if we're not allowed to measure?”\n",
    "\n",
    "This question dates back to the early days of quantum mechanics. Pioneers in the field fell into factions with Einstein and many others saying that a particle is simply in some unknown state prior to measurement.  Others, notably Max Born, and later Niels Bohr made a more radical claim, saying the state of a particle was truly undetermined by nature prior to measurement, not merely unknown to humans. Measurement then probabilistically collapses the particle into a definite state. Einstein, dissatisfied with this explanation, famously quipped at this, \"Gott würfelt nicht,\" which roughly translates into \"God does not play dice.\"\n",
    "\n",
    "For decades after this disagreement emerged, many thought it might never be answered, or that it was a matter of perspective. Then, in 1964, John Bell, a physicist from Northern Ireland, wrote a paper in which he explored the statistics of certain experiments that could answer this question definitively. He showed that in a particular test, one arrives at one set of statistics from defined (but unknown) quantum states, and a different set of statistics from quantum states undetermined by nature.\n",
    "\n",
    "At that time of Bell's paper, experimental tests of the statistics involved were inaccessible to all but researchers at the very forefront of physics. But today, IBM Quantum has made it possible for students all over the world to use real quantum devices, remotely over the cloud, and for free, to explore the nature of quantum states. This is what you will do today."
   ]
  },
  {
   "cell_type": "markdown",
   "id": "c093caad-e79f-44e1-9ea9-4ce2559123e4",
   "metadata": {},
   "source": [
    "## Setup of the Thought Experiment: Entanglement of Spin\n",
    "\n",
    "There are processes in which a particle with no spin decays into two particles that each have spin. Since spin is a kind of angular momentum, the law of conservation of angular momentum would suggest that the two outcoming particles must have spins exactly anti-aligned. Indeed this is experimentally observed.\n",
    "\n",
    "An example: a neutral pi meson sometimes decays into a positron and an electron:\n",
    "$$\\pi^0\\rightarrow e^+ + e^-$$\n",
    "Don’t worry if you don’t know what those particles are, and don't worry if you know them so well that you know this decay type is relatively unlikely. Just know that if one of the outcoming particles is spin up, the other must be spin down, and vice versa. Of course, there is nothing special about \"up\" and \"down\"; the same antialignment is observed if measurements are made along what we often call $x$ or $y$. This decay is a compelling context for us to consider, because we can sidestep questions about what measurements took place in the past; the positron and electron didn't even exist until the moment of decay.\n",
    "\n",
    "We can let $\\pi^0$ mesons decay and watch the deflection of the outcoming particles under the influence of an inhomogeneous magnetic field. An inhomogeneous field used to deflect spins is often called a Stern Gerlach device, after the researchers who first used it to (accidentally) gather evidence of the existence of quantum mechanical spin. Note that the story here is more complicated than the original experiment since the electron and positron are also charged (unlike the silver atoms in the Stern Gerlach experiment). But we know how charged particles move in a magnetic field, and we can subtract out that effect. In what follows, we will assume the deflections used in our calculations are due to the spin of the particles and not the charge. Consequently, for our purposes it doesn't matter which observer gets the positron and which gets the electron. The experimental setup is something like this:\n",
    "\n",
    "![A diagram of the setup of an EPR experiment. A source sends out one particle to the left and one to the right. They each pass through a Stern-Gerlach device, an inhomogeneous magnetic field and measuring screen.](/learning/images/courses/qiskit-in-classrooms-quantum-mechanics/bells-inequality-with-qiskit/epr-pic.avif)\n",
    "\n",
    "As the meson decays, an electron is kicked out in one direction, and a positron in the other. Each of these two particles will travel through an inhomogeneous magnetic field, causing it to be deflected either in the direction of the magnetic field, or opposite the magnetic field.\n",
    "\n",
    "If we have a source of many mesons, we can collect statistics on this. If an observer on the left and one on the right (call them Lucas and Rihanna, respectively) always measure along the same axis, these statistics will not be very interesting: every time one measures up, the other measures down; every time one measures into the page, the other will measure out of the page, and so on. However, if the players are free to measure the spin along any direction they like, we may find something more interesting.\n",
    "\n",
    "The experiment described above, in which particles fly off with spin angular momentum that is measured by two observers was initially proposed by Einstein, Podolsky, and Rosen (EPR) in [this paper](https://journals.aps.org/pr/pdf/10.1103/PhysRev.47.777)., and this is sometimes referred to as an \"EPR experiment\"."
   ]
  },
  {
   "cell_type": "markdown",
   "id": "661ce70d-e65f-4fbb-b8fa-8dfcc97f1759",
   "metadata": {},
   "source": [
    "## Our Options\n",
    "\n",
    "Let us restate the two historical viewpoints, for clarity:\n",
    "\n",
    "__Option 1__ (Einstein): The two spins (the electron and positron) are determined, in the sense that the outcome of any measurement along any axis is pre-determined by nature, even if we don't know what it is. One might think of this as the spins having some real, well-defined orientation in space, which is not known to us, but which exists. Or one might think of this as a set of information or instructions that determine outcomes of measurements along $x$, $y$, $z$, or anything in between. Measuring the spin of the positron (say along z) forces it to orient and align in the z or -z direction. This has no causal influence on the electron spin, although we know the electron spin started out opposite the positron spin, so if the positron spin is measured to be along +z, the electron spin is measured along -z. Other than the initial condition of instructions that conserve angular momentum (the spins being anti-aligned), there is no connection between the two spins. This option is sometimes called \"hidden variables\", as in: the projections along different axes are determined, but are hidden from us.\n",
    "\n",
    "__Option 2__ (Born): The spins are both undetermined in their initial states… not merely unknown, but ill-defined physically, with no definite orientation or instructions on experimental outcomes, until they are measured. Measuring the positron spin “collapses” the space of all possibilities down to a single determined state, either along the +z or -z axes. This measurement of the positron forces the electron spin to also collapse into a well-defined projection along z, exactly opposite the positron’s. This effect occurs spread out across the space between the positron and electron. This has been called \"spooky action at a distance”, but one might less-dramatically call it \"non-local physics\".\n",
    "\n",
    "### Check-in question:\n",
    "\n",
    "It would be great to distinguish between the Einstein and Born options experimentally. What are some experiments that would yield the same results regardless of which option is true? Can you think of an experiment that would yield different results for the two options? **Note** It would be very impressive if you could come up with an experiment that would yield different results for Einstein's and Born's options; it took humans decades to come up with one.\n",
    "\n",
    "<details>\n",
    "<summary>Answer:</summary>\n",
    "\n",
    "Sticking with the experiment described so far (that is, no net spin with the positron and electron anti-aligned), measurement of both spins along $\\pm x$, $\\pm y$, or $\\pm z$ would always yield opposite signs due to conservation of angular momentum, independent of which option is correct. Measuring one particle's spin (say, the electron) along one direction (say, $+z$) means the spin of the other particle, the positron, would be measured along $-z$. If instead you measure the spin of the positron along the $x$ direction, it will be equally likely to come out $+x$ or $-x$. This could be because that's what the hidden instructions say (Einstein's option 1) or because the probability distribution of the positron's spin updates after the measurement of the electron spin, and the new probability distribution is consistent with a 50-50 split between $\\pm x$ (Born's option 2). These points are explained in more detail below.\n",
    "\n",
    "The answer is only slightly different if you consider a decay of a particle with spin-1, such that the two emerging particles (like the positron and electron) must have their spins aligned, rather than anti-aligned. If one is measured along $+y$, a measurement of the other particle along the $y$ axis must also yield $+y$, and so on. As before, this could result from either option.\n",
    "\n",
    "The rest of this lesson is devoted to an experiment that can distinguish between Einstein and Born's options, and so we won't go into much detail here. However, part of the trick is measuring the two particles along different directions (like $x$ and $z$, or even some direction between the traditional Cartesian axes). The rest comes from carefully considering the precise probability of obtaining different outcomes given the predictions of quantum mechanics and those of classical information as in hidden variables.\n",
    "\n",
    "</details>\n",
    "\n",
    "In either option, if the two observers, Lucas and Rihanna, measure along the same axis, we would expect them to obtain anti-aligned spins, regardless of which option is true. To see why, consider the diagrams below.\n",
    "\n",
    "![Three diagrams. First there is a diagram of two spin vectors oriented in opposite directions, lying on a diagonal between the x and z axes. Next, when a measurement is made along z, one friend obtains a spin along negative z, and the other along positive z. Finally, the situation is shown for measurements along the x axis, in which case one measures a spin along negative x, and the other along positive x.](/learning/images/courses/qiskit-in-classrooms-quantum-mechanics/bells-inequality-with-qiskit/hidden-var-meas.avif)\n",
    "\n",
    "The figure above shows Einstein's option. The directions of the spins are opposite and determined. If we measure along the $z$ axis, one will be along $+z$, and one along $-z$. We have no reason to assume that the positron would be along $+z$, and the electron along $-z$; the image merely shows that the spins will be measured to be in opposite directions. In fact, a given spin need not actually have a component of its spin along the direction eventually measured, in the case of Einstein's option. The weakest statement of Einstein's option is that there is some set of instructions that are stored in the spin that determine what the measurements outcomes will be when measured along any axis. We don't need to picture that these instructions are in the form of a simple vector (see diagram below); we'll return to this, later.\n",
    "\n",
    "![Three diagrams. The first one no longer shows well-defined vector directions, but instead has a list of rules that determine the measurement outcomes. The second and third diagrams are the same as in the previous picture, showing measurements along positive/negative z, and along positive/negative x.](/learning/images/courses/qiskit-in-classrooms-quantum-mechanics/bells-inequality-with-qiskit/hidden-var-instructions.avif)\n",
    "\n",
    "The figure below shows Born's option, in which the directions of the positron and electron spins are smeared out in a distribution of probability and have no definite direction. Don't read too much into the shape of the distribution. Each spin could actually have a non-zero probability of pointing in any direction as long as they are opposite each other; we have simply drawn them as fractions of the circle so we can visually distinguish them for discussion. Note that in the case of Born's option, it is still true that angular momentum must be conserved. So if one wave of probability is \"collapsed\" such that the spin points along $+z$, the other will point along $-z$ and be deflected in the opposite direction. The options appear identical.\n",
    "\n",
    "![A diagram showing a blur of possible directions for a spin vector, followed by the same outcomes of measurement as in previous images.](/learning/images/courses/qiskit-in-classrooms-quantum-mechanics/bells-inequality-with-qiskit/hidden-var-prob-dist.avif)\n",
    "\n",
    "But what happens when observers L and R can measure along any of three axes, with each pair 120 degrees apart, as shown in Figures 4 & 5. Each observer can decide at random along what axis they will measure the spin (a, b, or c). The two do not need to measure along the same axis. When each observer measures, they might find a positive projection on their axis of choice, or they might find a negative projection. For example, Lucas and Rihanna might measure +a and -b or +b and +c. Note that if they happen to choose to measure along the same axis, then they MUST obtain opposite signs in their projections: +a and -a, +b and -b, or +c and -c; they cannot both find, for example +a. In the next section, we will work through how to calculate the probability of Lucas and Rihanna getting the same sign on their measured axes (++ or --) and opposite signs (+-) or (-+).\n",
    "\n",
    "![A diagram showing two initial spin vectors, followed by possible measurements along three lines, a, b, and c, each having a positive and negative direction. Because these axes are not mutually perpendicular, Lucas and Rihanna will not measure spins in opposite directions unless they happen to choose to measure along the same axes.](/learning/images/courses/qiskit-in-classrooms-quantum-mechanics/bells-inequality-with-qiskit/hidden-var-meas-3.avif)\n",
    "\n",
    "The two figures above illustrate possible hidden-variables interpretations in this new, three-axis measurement scenario. That is, either the spins are already determined, as vectors, or a set of physical instructions exists somehow embedded in the system such that the outcomes of all possible measurements are pre-determined, even if they are unknowable to experimenters prior to measurement. The alternative is illustrated below. Some probability distribution of outcomes exists, and this distribution can tell us some things about the likelihood of different measurement outcomes, but the outcomes are undetermined by nature prior to measurement.\n",
    "\n",
    "![A blurred out probability distribution is shown once again, now with the three new axes a, b, and c. This comes with different measurement probabilities along the various directions.](/learning/images/courses/qiskit-in-classrooms-quantum-mechanics/bells-inequality-with-qiskit/hidden-var-prob-dist-meas-3.avif)\n",
    "\n",
    "We can ask ourselves, “How often should the two players find the same sign of the spin’s projection?” That is, we are not even recording along which axis they chose to measure; we are simply recording whether they found the same sign or a different sign. It is not obvious whether Einstein's and Born's options will yield the same result in this more complicated measurement scheme. But it should be clear from Figures 4 and 5 that it is $possible$ for there to be a difference. For the case shown in Einstein's option, a measurement of the projection of the $e+$ spin on axis $a$ will definitely yield $+a$, and the projection of the $e-$ spin on axis $b$ will yield $-b$ (barely). But in Born's option, the possibilities are wide open. It is true that angular momentum is still conserved. But since the two magnetic fields are not oriented in along the same axis, we force the particles into a situation where they must collapse onto different axes (through interactions with the field). In the next section, we will use quantum mechanics to determine what the probabilities should be, given Born's option, that Lucas and Rihanna obtain the same sign on their measured axes (++ or --), and the probabilities that they will obtain opposite signs (+- or -+)."
   ]
  },
  {
   "cell_type": "markdown",
   "id": "be883ea2-9ade-4b5d-bcbd-ba09d9a80b4c",
   "metadata": {},
   "source": [
    "## What does Einstein's option (hidden variables) predict?\n",
    "\n",
    "If Einstein's option is true, then any given pair of $e+$ and $e-$ will have a set of vector components to their spins. For example, the electron might have components $(+\\hat{a},-\\hat{b}, +\\hat{c})$, in which case the positron must have components $(-\\hat{a},+\\hat{b}, -\\hat{c})$. We are only specifying here the sign of the projection on each axis, not the magnitude. Imagine we allow a very large number $N$ of such decays to take place, and we collect measurements to populate the table below.\n",
    "\n",
    "| Population  | Particle 1                                     | Particle 2                     |\n",
    "|-------------|------------------------------------------------|--------------------------------|\n",
    "| $N_1$       | $(+\\hat{a},+\\hat{b},+\\hat{c})$                 | $(-\\hat{a},-\\hat{b},-\\hat{c})$ |\n",
    "| $N_2$       | $(+\\hat{a},+\\hat{b},-\\hat{c})$                 | $(-\\hat{a},-\\hat{b},+\\hat{c})$ |\n",
    "| $N_3$       | $(+\\hat{a},-\\hat{b},+\\hat{c})$                 | $(-\\hat{a},+\\hat{b},-\\hat{c})$ |\n",
    "| $N_4$       | $(+\\hat{a},-\\hat{b},-\\hat{c})$                 | $(-\\hat{a},+\\hat{b},+\\hat{c})$ |\n",
    "| $N_5$       | $(-\\hat{a},+\\hat{b},+\\hat{c})$                 | $(+\\hat{a},-\\hat{b},-\\hat{c})$ |\n",
    "| $N_6$       | $(-\\hat{a},+\\hat{b},-\\hat{c})$                 | $(+\\hat{a},-\\hat{b},+\\hat{c})$ |\n",
    "| $N_7$       | $(-\\hat{a},-\\hat{b},+\\hat{c})$                 | $(+\\hat{a},+\\hat{b},-\\hat{c})$ |\n",
    "| $N_8$       | $(-\\hat{a},-\\hat{b},-\\hat{c})$                 | $(+\\hat{a},+\\hat{b},+\\hat{c})$ |\n",
    "\n",
    "For each case in the table above, there are 9 possible choices for Lucas's and Rihanna's axes: $aa$, $ab$, $ac$, $ba$, $bb$, $bc$, $ca$, $cb$, and $cc$. Reading from this table, the probability of the two observers measuring the same sign for rows 1 and 8 are zero. For rows 2-7, there are 4 ways to obtain the same sign, which we will show only for row 2:\n",
    "\n",
    "Same signs: $ac$, $bc$, $ca$, $cb$\n",
    "Opposite signs: $aa$, $ab$, $ba$, $bb$, $cc$\n",
    "\n",
    "So if Einstein's option is the correct interpretation of quantum states, the total probability summed over all possible populations, of Lucas and Rihanna obtaining the same sign of spin projection on their randomly chosen axes would be:\n",
    "$$ P_\\text{same}=\\frac{1}{\\sum_i{N_i}} \\frac{4}{9} (N_2+N_3+N_4+N_5+N_6+N_7)\\leq \\frac{4}{9}$$\n",
    "Where equality holds only if $N_1=N_8=0$.\n",
    "\n",
    "### Check-in question\n",
    "\n",
    "For row 2 of the chart above, we listed all the possible ways for Lucas and Rihanna to obtain the same sign for their measurements, and all the ways they could obtain different signs. Repeat this for the third row.\n",
    "\n",
    "<details>\n",
    "<summary> Answer:</summary>\n",
    "\n",
    "Same signs: $ab$, $ba$, $bc$, $cb$\n",
    "\n",
    "Opposite signs: $aa$, $ac$, $bb$, $ca$, $cc$\n",
    "\n",
    "</details>\n",
    "\n",
    "### Check-in question\n",
    "\n",
    "The table above refers to \"populations\", meaning that we do not know how many of each type of instructions nature produces, if the hidden-variables treatment is correct. Show that no matter what the distribution of $N_1$ through $N_8$, the probability of obtaining the same sign from measurements is always less than or equal to 4/9.\n",
    "\n",
    "<details>\n",
    "<summary>Answer:</summary>\n",
    "\n",
    "Let us start by assuming a constant number of total measurement trials, such that $\\sum_i{N_i} = N_{tot}$ is constant. Note that in the special case where $N_1=N_8=0$, the expression reduces to\n",
    "\n",
    "$$ P_{same}=\\frac{1}{N_2+N_3+N_4+N_5+N_6+N_7} \\times \\frac{4}{9} \\times (N_2+N_3+N_4+N_5+N_6+N_7) = \\frac{1}{N_{tot}} \\times \\frac{4}{9} \\times N_{tot}= \\frac{4}{9}$$\n",
    "\n",
    "Now suppose that either $N_1 \\neq 0$ or $N_8 \\neq 0$. Then\n",
    "\n",
    "$$ P_{same}=\\frac{1}{N'_1+N'_2+N'_3+N'_4+N'_5+N'_6+N'_7+N'_8} \\times \\frac{4}{9} \\times (N'_2+N'_3+N'_4+N'_5+N'_6+N'_7) = \\frac{4}{9}$$\n",
    "\n",
    "The sum of all trials, $N_tot$, is still the same as before. But since $N'_1$ or $N'_8$ has increased from 0, the sum of $N'_2$ through $N'_7$ must be lower than before. In particular, the sum of $N'_2$ through $N'_7$ is less than $N_{tot}$. Thus\n",
    "\n",
    "$$ P_{same}=\\frac{1}{N_{tot}} \\times \\frac{4}{9} \\times (N'_2+N'_3+N'_4+N'_5+N'_6+N'_7) < \\frac{4}{9}$$\n",
    "\n",
    "Combining all possible cases, we have $P_{same} \\leq \\frac{4}{9}$.\n",
    "\n",
    "</details>"
   ]
  },
  {
   "cell_type": "markdown",
   "id": "5073347c-b577-4ca1-9c35-7d8e1046d14e",
   "metadata": {},
   "source": [
    "### Generalization\n",
    "\n",
    "In the treatment above, we considered measurements along specific axes. Of course, one could make measurements along any axis. Let us call the two spin vectors of two particles $\\vec{a}$ and $\\vec{b}$. Let $\\lambda$ be some hidden variable such that a state of the two-particle system corresponds to a well-defined value of $lambda$. Let $\\rho(\\lambda)$ be the probability density in $\\lambda$.  Finally, we choose the symbols $A(\\vec{a},\\lambda)$ and $B(\\vec{b},\\lambda)$ to be the pre-determined outcome of a measurement performed on either particle (A or B), given the spin vectors and the hidden variable. Critically, note that $A$ is independent of $\\vec{b}$ and $B$ is independent of $\\vec{a}$. One could now pose any number of questions related to correlations between measurements on A and B. In particular, one could ask about the expectation value given by\n",
    "\n",
    "$$E(\\vec{a},\\vec{b})\\equiv\\int{d\\lambda \\rho(\\lambda)A(\\vec{a},\\lambda)B(\\vec{b},\\lambda)}$$\n",
    "\n",
    "Given some standard assumptions on these values, like $A(\\vec{a},\\lambda)\\leq 1$, $B(\\vec{b},\\lambda)\\leq 1$, and normalization over $\\rho(\\lambda)$, one can show that correlations between the two particles obey the relation\n",
    "\n",
    "$$|E(\\vec{a},\\vec{b})-E(\\vec{a},\\vec{d})|+|E(\\vec{c},\\vec{d})+E(\\vec{c},\\vec{b})|\\leq 2,$$\n",
    "\n",
    "where $\\vec{a}$ and $\\vec{b}$ are the spin states of your system and $\\vec{c}$ and $\\vec{d}$ are reference spin states (any other possible spin states of the system). This is one of a whole class of inequalities known now as \"Bell inequalities\". We won't use this general form here. Instead, we will focus on one specific experimental setup, so that we can map that setup onto a quantum circuit."
   ]
  },
  {
   "cell_type": "markdown",
   "id": "1a04ec85-f57a-4855-b99d-8d55947cde98",
   "metadata": {},
   "source": [
    "## What does Born's option (non-deterministic quantum mechanics) predict?\n",
    "\n",
    "Lucas will pick some axis and find the spin of one particle to be in either the positive or negative direction. Whatever he obtains, let us orient our axes such that the $z$ axis is that direction. Then we can write the initial state after the decay of the meson and before any measurement as\n",
    "$$|\\psi \\rangle =\\frac{1}{\\sqrt{2}}(|+\\rangle_L|-\\rangle_R-|-\\rangle_L|+\\rangle_R)$$\n",
    "Rihanna will measure her particle's spin along some other direction at an angle $\\theta$ relative to Lucas's. The spin operator along some arbitrary direction $\\hat{n}$ is given by\n",
    "$$\\hat{S}_{\\hat{n}}=\\frac{\\hbar}{2}\\begin{bmatrix} \\cos(\\theta) & \\sin(\\theta) e^{-i\\phi} \\\\ \\sin(\\theta) e^{i\\phi} & -\\cos(\\theta) \\end{bmatrix}$$\n",
    "The eigenstates of this operator are\n",
    "$$|+\\rangle_{\\hat{n}}=\\cos(\\theta/2)|0\\rangle+\\sin(\\theta/2)e^{i\\phi}|1\\rangle \\\\ |-\\rangle_{\\hat{n}}=\\sin(\\theta/2)|0\\rangle-\\cos(\\theta/2)e^{i\\phi}|1\\rangle$$\n",
    "\n",
    "### Check-in question\n",
    "\n",
    "Verify that $|+\\rangle_{\\hat{n}}$ is an eigenstate of the operator $\\hat{S}_{\\hat{n}}$ above, and find the eigenvalue.\n",
    "<details>\n",
    "<summary>Answer:</summary>\n",
    "\n",
    "$$\n",
    "\\hat{S}_{\\hat{n}}|+\\rangle_{\\hat{n}}=\\frac{\\hbar}{2}\\begin{bmatrix} \\cos(\\theta) & \\sin(\\theta) e^{-i\\phi} \\\\ \\sin(\\theta) e^{i\\phi} & -\\cos(\\theta) \\end{bmatrix} \\begin{bmatrix} \\cos(\\theta/2) \\\\ \\sin(\\theta/2)e^{i\\phi}\\end{bmatrix}\n",
    "$$\n",
    "$$\n",
    "=\\frac{\\hbar}{2}\\begin{bmatrix} \\cos(\\theta)\\cos(\\theta/2) + \\sin(\\theta)\\sin(\\theta/2)e^{i\\phi} e^{-i\\phi} \\\\ \\cos(\\theta/2)\\sin(\\theta) e^{i\\phi} -\\cos(\\theta)\\sin(\\theta/2)e^{i\\phi} \\end{bmatrix}\n",
    "$$\n",
    "Using $\\cos(\\theta)=\\cos^2(\\theta/2)-\\sin^2(\\theta/2)$ and $\\sin(\\theta)=2\\cos(\\theta/2)\\sin(\\theta/2)$, we have\n",
    "$$\n",
    "=\\frac{\\hbar}{2}\\begin{bmatrix} \\left(\\cos(\\theta) + 2\\sin^2(\\theta/2)\\right) \\cos(\\theta/2) \\\\ \\left(2\\cos^2(\\theta/2) -\\cos^2(\\theta/2)+\\sin^2(\\theta/2)\\right)\\sin(\\theta/2)e^{i\\phi} \\end{bmatrix}\n",
    "$$\n",
    "$$\n",
    "=\\frac{\\hbar}{2}\\begin{bmatrix} \\left(\\cos^2(\\theta/2)-\\sin^2(\\theta/2) + 2\\sin^2(\\theta/2)\\right) \\cos(\\theta/2) \\\\ \\left(2\\cos^2(\\theta/2) -\\cos^2(\\theta/2)+\\sin^2(\\theta/2)\\right)\\sin(\\theta/2)e^{i\\phi} \\end{bmatrix}\n",
    "$$\n",
    "$$\n",
    "=\\frac{\\hbar}{2}\\begin{bmatrix} \\cos(\\theta/2) \\\\ \\sin(\\theta/2)e^{i\\phi} \\end{bmatrix}\n",
    "$$\n",
    "This demonstrates that $|+\\rangle_{\\hat{n}}$ is an eigenstate and the corresponding eigenvalue is $\\frac{\\hbar}{2}$.\n",
    "</details>\n",
    "\n",
    "The probability of Lucas measuring a spin to be in the positive direction along the axis he chose $|+\\rangle$ $and$ that Rihanna also measures a positive spin along her chosen direction $|+\\rangle_{\\hat{n}}$ is\n",
    "$$P_{++}=\\left|\\left(_L\\langle+|_{R,\\hat{n}}\\langle+|\\right)|\\psi\\rangle\\right|^2$$\n",
    "$$P_{++}=\\left|  \\left(_L\\langle+|_R\\left(\\cos(\\theta/2)\\langle+|+\\sin(\\theta/2)e^{-i\\phi}\\langle-|\\right)\\right)  \\frac{1}{\\sqrt{2}}\\left(|+\\rangle_L|-\\rangle_R-|-\\rangle_L|+\\rangle_R\\right)    \\right|^2$$\n",
    "$$P_{++}=\\frac{1}{2}\\left|  \\left(_L\\langle+|_R\\left(\\cos(\\theta/2)\\langle+|+\\sin(\\theta/2)e^{-i\\phi}\\langle-|\\right)\\right)  \\left(|+\\rangle_L|-\\rangle_R\\right)    \\right|^2$$\n",
    "$$P_{++}=\\frac{1}{2}\\left|  \\left(\\sin(\\theta/2)e^{-i\\phi}\\vphantom{p}_R\\langle-|\\right) |-\\rangle_R    \\right|^2$$\n",
    "$$P_{++}=\\frac{1}{2}\\sin^2(\\theta/2)$$\n",
    "\n",
    "### Check-in question\n",
    "\n",
    "Do the same for $P_{--}$. Verify that it also equals $\\frac{1}{2}\\sin^2(\\theta).$\n",
    "<details>\n",
    "<summary>Answer:</summary>\n",
    "\n",
    "Key:\n",
    "$$P_{--}=\\left|\\left(_L\\langle-|_{R,\\hat{-n}}\\langle+|\\right)|\\psi\\rangle\\right|^2$$\n",
    "$$P_{--}=\\left|  \\left(_L\\langle-|_R\\left(\\sin(\\theta/2)\\langle+|-\\cos(\\theta/2)e^{-i\\phi}\\langle-|\\right)\\right)  \\frac{1}{\\sqrt{2}}\\left(|+\\rangle_L|-\\rangle_R-|-\\rangle_L|+\\rangle_R\\right)    \\right|^2$$\n",
    "$$P_{--}=\\frac{1}{2}\\left|  \\left(_L\\langle-|_R\\left(\\sin(\\theta/2)\\langle+|-\\cos(\\theta/2)e^{-i\\phi}\\langle-|\\right)\\right)  \\left(-|-\\rangle_L|+\\rangle_R\\right)    \\right|^2$$\n",
    "$$P_{--}=\\frac{1}{2}\\left|  \\left(\\sin(\\theta/2) \\vphantom{p}_R\\langle+|\\right) |+\\rangle_R    \\right|^2$$\n",
    "$$P_{--}=\\frac{1}{2}\\sin^2(\\theta/2)$$\n",
    "\n",
    "</details>\n",
    "\n",
    "Adding these results, we find that the probability of the signs of the two measured axes are the same $P_{\\text{same}}=\\sin^2(\\theta/2)$.\n",
    "\n",
    "### Check-in question\n",
    "\n",
    "What could you do to check the math of this result? To be clear, we're not asking you to verify yet that it matches nature, just to make sure nothing went wrong in all the math.\n",
    "\n",
    "<details>\n",
    "<summary>Answer:</summary>\n",
    "\n",
    "(1) Do the same calculation for $P_{\\text{diff}}=\\cos^2(\\theta/2)$ to verify the conservation of probability.\n",
    "\n",
    "(2) Check a known case. Insert $\\theta = 0$. Then $P_{\\text{same}}$ corresponds to the two observers each measuring their spin along the same axis, which would violate conservation of angular momentum. So you would expect that probability to be zero, and indeed inserting $\\theta = 0$ yields $\\sin^2(0/2) = 0$.\n",
    "\n",
    "(3) Check a different known case. Try $\\theta = \\pi$. What should you obtain. Careful of that $\\frac{1}{2}$.\n",
    "</details>\n",
    "\n",
    "\n",
    "We were specifically sketching the case where axes are at $120\\deg$ relative to each other. Remember, whatever direction ($\\pm a$, $\\pm b$, or $\\pm c$) Lucas obtains, we call that $z$. Then Rihanna randomly chooses to measure along either $\\pm a$, $\\pm b$, or $\\pm c$. If her choice is the same as Lucas's (up to a sign), then they are both measuring along $z$, and the probability of Rihanna also measuring $+z$ is zero. This should happen 1/3 of the time, since Rihanna's choice of axis is independent of Lucas's choice. For any other choice, Rihanna will be measuring along an axis either $120\\deg = 2\\pi/3$ radians from $z$ (1/3 of the time) or $240\\deg = 4\\pi/3$ radians from $z$ (1/3 of the time). And of course, along either of those axes, the spin could be measured to be in the positive or negative direction. This gives us a total probability of Lucas and Rihanna obtaining the same sign:\n",
    "\n",
    "$$P_{\\text{same}} = \\frac{1}{3}\\left(   0 + \\sin^2(\\pi/3) + \\sin^2(2\\pi/3)     \\right) = \\frac{1}{3}\\left(   0 + \\frac{3}{4} + \\frac{3}{4}     \\right) = \\frac{1}{2}$$"
   ]
  },
  {
   "cell_type": "markdown",
   "id": "0d6a47a5-9b7b-4cc1-b25a-9a4064dc8a86",
   "metadata": {},
   "source": [
    "## Wow\n",
    "\n",
    "We just showed that\n",
    "\n",
    "$$(P_\\text{same})_\\text{max, Einstein}<(P_\\text{same})_\\text{max, Born}.$$\n",
    "\n",
    "Let's take a step back.\n",
    "\n",
    "Einstein's and Born's options seemed like they would always yield the same results, since they only differed in their description of what happens prior to measurement. And yet, assuming there were instructions that pre-determined the sign of the spin measurement along certain axes, we obtained a constraint on the probability for the measurements to yield the same sign $(P_{\\text{same}})_\\text{Einstein}\\leq\\frac{4}{9}$. Then we assumed probability distributions as in quantum mechanics... and obtained a different value for $(P_{\\text{same}})_\\text{Born}=\\frac{1}{2}$. The prediction from quantum mechanics is higher than that allowed by the hidden variables treatment. So we can actually do an experiment and discover whether quantum mechanical states are determined by nature prior to measurement, or if they are truly in a probabilistic superposition of possible states.\n",
    "\n",
    "This experiment has been done many times using many different physical systems, often photons. There are many subtle considerations, such as biases in measurement, the timing(simultaneity) of measurements, and many others. Over the decades, concerns about these subtleties have been steadily eroded. Tests are still implemented, as we learn more about reality, but there is now broad agreement that the answer you'll obtain here, using IBM Quantum Computers, is correct."
   ]
  },
  {
   "cell_type": "markdown",
   "id": "2b7fc3cd-61d4-4447-8c12-0ae77d21dc48",
   "metadata": {},
   "source": [
    "## Test using real quantum computers!\n",
    "\n",
    "In keeping with our treatment above, let us define the direction of Lucas's measurement to be $+z$. This was convenient even in the algebraic approach, but it is especially convenient for quantum computation, since what is typically measured is the qubit's projection along $z$.\n",
    "We want to make a quantum circuit that gives us the same probability conditions as those above for $P_{++}$. We are free to orient our plane such that $\\phi=0$, and we obtain\n",
    "$$P_{++}=\\left|  \\left(_L\\langle+|_R\\left(\\cos(\\theta/2)\\langle+|+\\sin(\\theta/2)\\langle-|\\right)\\right)  \\frac{1}{\\sqrt{2}}\\left(|+\\rangle_L|-\\rangle_R-|-\\rangle_L|+\\rangle_R\\right)    \\right|^2$$\n",
    "We need to know a few things about IBM Quantum Systems, to guide our discussion. Firstly, qubits start out initialized in the $|0\\rangle = |+\\rangle_z$ state. As mentioned, before, when measurements are made, they are along the $z$ axis. So the goal is to determine what operators we can insert between the measurement basis states $\\langle 0|\\langle 0|$ and the initial states of the qubits $|0\\rangle |0\\rangle$ to obtain the complicated expression above. For that, we'll need to review some basic gates in quantum computing.\n",
    "\n",
    "$X$ Gate: Equivalent to a NOT operation. Single-qubit gate.\n",
    "$$X|0\\rangle = |1\\rangle,\\\\X|1\\rangle=|0\\rangle$$\n",
    "$$X=\\begin{bmatrix} 0 & 1 \\\\ 1 & 0 \\end{bmatrix}$$\n",
    "\n",
    "In Qiskit, creating a circuit with an $X$ gate looks like this:"
   ]
  },
  {
   "cell_type": "code",
   "execution_count": 6,
   "id": "557a5320-cb55-48dd-8721-30a7bde5ed32",
   "metadata": {},
   "outputs": [
    {
     "data": {
      "image/png": "[encoded data removed]",
      "text/plain": [
       "<Figure size 185.453x117.056 with 1 Axes>"
      ]
     },
     "execution_count": 6,
     "metadata": {},
     "output_type": "execute_result"
    }
   ],
   "source": [
    "from qiskit import QuantumCircuit\n",
    "\n",
    "qc = QuantumCircuit(1)\n",
    "qc.x(0)\n",
    "qc.draw(\"mpl\")"
   ]
  },
  {
   "cell_type": "markdown",
   "id": "9fd9e765-d641-4f87-8bd8-eabe388c9209",
   "metadata": {},
   "source": [
    "$H$ Hadamard Gate: Creates a superposition state. Single-qubit gate.\n",
    "$$H|0\\rangle = \\frac{1}{2}\\left(|0\\rangle+|1\\rangle\\right),$$\n",
    "$$H|1\\rangle = \\frac{1}{2}\\left(|0\\rangle-|1\\rangle\\right)$$\n",
    "$$H=\\frac{1}{2}\\begin{bmatrix} 1 & 1 \\\\ 1 & -1 \\end{bmatrix}$$\n",
    "\n",
    "A circuit with a Hadamard gate is made as follows:"
   ]
  },
  {
   "cell_type": "code",
   "execution_count": 2,
   "id": "b6dca98f-ffec-47f4-ab76-90463a5b5e84",
   "metadata": {},
   "outputs": [
    {
     "data": {
      "image/png": "[encoded data removed]",
      "text/plain": [
       "<Figure size 185.453x117.056 with 1 Axes>"
      ]
     },
     "execution_count": 2,
     "metadata": {},
     "output_type": "execute_result"
    }
   ],
   "source": [
    "qc = QuantumCircuit(1)\n",
    "qc.h(0)\n",
    "qc.draw(\"mpl\")"
   ]
  },
  {
   "cell_type": "markdown",
   "id": "8888558d-0327-4b0e-80f4-eb8653fdc77a",
   "metadata": {},
   "source": [
    "CNOT Controlled-NOT Gate: This gate uses two qubits: a control and a target. Checks the state of a control qubit which is not changed. But if the control qubit is in the state $|1\\rangle$, the gate changes the state of the target qubit; if the state of the control qubit is $|0\\rangle$ no change is made at all. In the notation below, assume the first qubit is the control, and the second is the target.\n",
    "$$CNOT|00\\rangle = |00\\rangle, \\\\ CNOT|01\\rangle = |01\\rangle \\\\ CNOT|10\\rangle = |11\\rangle \\\\ CNOT|11\\rangle = |10\\rangle$$\n",
    "\n",
    "A CNOT gate looks a bit different in a circuit, since it requires two qubits. This is how it is implemented:"
   ]
  },
  {
   "cell_type": "code",
   "execution_count": 3,
   "id": "5d3521f0-c03b-4252-87d1-bbddac680ef6",
   "metadata": {},
   "outputs": [
    {
     "data": {
      "image/png": "[encoded data removed]",
      "text/plain": [
       "<Figure size 203.683x200.667 with 1 Axes>"
      ]
     },
     "execution_count": 3,
     "metadata": {},
     "output_type": "execute_result"
    }
   ],
   "source": [
    "qc = QuantumCircuit(2)\n",
    "qc.cx(0, 1)\n",
    "qc.draw(\"mpl\")"
   ]
  },
  {
   "cell_type": "markdown",
   "id": "3ac65fd3-c901-4017-966d-d1ce337f12cb",
   "metadata": {},
   "source": [
    "Note that the first qubit listed in `qc.cx(0,1)` is the control, and the second is the target. Diagrammatically, the target is the one with the \"+\" sign or cross on it.\n",
    "\n",
    "$R_y(\\theta)$ Rotation Y Gate: Rotates the state about the y-axis. This is a single-qubit gate.\n",
    "$$R_y(\\theta)|0\\rangle = \\cos(\\theta/2)|0\\rangle+\\sin(\\theta/2)|1\\rangle,\\\\R_y(\\theta)|0\\rangle = -\\sin(\\theta/2)|0\\rangle+\\cos(\\theta/2)|1\\rangle$$\n",
    "$$R_y(\\theta)=\\begin{bmatrix} \\cos(\\theta/2) & -\\sin(\\theta/2) \\\\ \\sin(\\theta/2) & \\cos(\\theta/2) \\end{bmatrix}$$\n",
    "\n",
    "Finally, rotation gates are implemented by specifying the type of gate, the amount of the rotation, and the qubit on which the gate is placed, in that order:"
   ]
  },
  {
   "cell_type": "code",
   "execution_count": null,
   "id": "134a6eb8-7450-45de-86c7-771558924658",
   "metadata": {},
   "outputs": [
    {
     "data": {
      "image/png": "[encoded data removed]",
      "text/plain": [
       "<Figure size 203.683x200.667 with 1 Axes>"
      ]
     },
     "execution_count": 4,
     "metadata": {},
     "output_type": "execute_result"
    }
   ],
   "source": [
    "from np import pi\n",
    "\n",
    "qc = QuantumCircuit(2)\n",
    "qc.ry(pi / 2, 0)\n",
    "qc.draw(\"mpl\")"
   ]
  },
  {
   "cell_type": "markdown",
   "id": "30397874-2f38-4cbf-b52c-8dcd77e81ed6",
   "metadata": {},
   "source": [
    "The name of the gate `ry` specifies the axis about which the rotation occurs. The first argument $\\pi/2$ refers to the amount of the rotation, and the second argument specifies the qubit on which the gate is to be placed.\n",
    "\n",
    "### Check-in question\n",
    "\n",
    "<details>\n",
    "<summary>Using the syntax introduced or refreshed above, make any quantum circuit involving four different types of quantum gates. </summary>\n",
    "\n",
    "Answer:\n",
    "\n",
    "There are, of course, infinitely many possibilities. Here is one example:\n",
    "\n",
    "`qc=QuantumCircuit(2)`\n",
    "\n",
    "`qc.ry(pi/2,0)`\n",
    "\n",
    "`qc.cx(1,0)`\n",
    "\n",
    "`qc.x(1)`\n",
    "\n",
    "`qc.h(0)`\n",
    "\n",
    "`qc.cx(0,1)`\n",
    "\n",
    "`qc.draw(\"mpl\")`\n",
    "\n",
    "</details>"
   ]
  },
  {
   "cell_type": "markdown",
   "id": "cfa19e79-a72c-4cb8-9d09-68882a11b402",
   "metadata": {},
   "source": [
    "## From physical experiment to quantum circuits\n",
    "\n",
    "From the operations of these gates, we can see, for example, that the kets in the expressions for $P_{++}$:\n",
    "$$\\frac{1}{\\sqrt{2}}\\left(|+\\rangle_L|-\\rangle_R-|-\\rangle_L|+\\rangle_R\\right)$$\n",
    "are likely to involve a Hadamard gate to get the superposition, and a CNOT gate to create the entanglement.\n",
    "\n",
    "We will now use the H, X, and CNOT gates to turn $|0\\rangle_L|0\\rangle_R$ into $\\frac{1}{\\sqrt{2}}\\left(|+\\rangle_L|-\\rangle_R-|-\\rangle_L|+\\rangle_R\\right)$:\n",
    "\n",
    "$$\\frac{1}{\\sqrt{2}}\\left(|0\\rangle_L|1\\rangle_R-|1\\rangle_L|0\\rangle_R\\right)$$\n",
    "$$\\frac{1}{\\sqrt{2}}CNOT_{LR}\\left(|0\\rangle_L|1\\rangle_R-|1\\rangle_L|1\\rangle_R\\right)$$\n",
    "Here $CNOT_{LR}$ means a CNOT gate using L as the control and R as the target. We can now factor out the R part of the state:\n",
    "$$\\text{CNOT}_{LR}\\frac{1}{\\sqrt{2}}\\left(|0\\rangle_L-|1\\rangle_L\\right)|1\\rangle_R$$\n",
    "$$\\text{CNOT}_{LR} H_L|1\\rangle_L|1\\rangle_R$$\n",
    "$$\\text{CNOT}_{LR} H_L X_L X_R|0\\rangle_L|0\\rangle_R$$\n",
    "\n",
    "Now we have written the ket entirely as quantum gates operating on the default starting state of the qubits.\n",
    "\n",
    "Now we can use the $R_y(\\theta)$ acting on $\\vphantom{p}_L\\langle 0|_R\\langle 1|$ to obtain the bra in the expression for $P_{++}$.\n",
    "\n",
    "$$\\vphantom{p}_L\\langle0|_R\\left(\\cos(\\theta/2)\\langle0|+\\sin(\\theta/2)\\langle1|\\right)$$\n",
    "$$\\vphantom{p}_L\\langle0|_R\\left(|0\\rangle \\cos(\\theta/2)+|1\\rangle \\sin(\\theta/2)\\right)^{\\dagger}$$\n",
    "$$\\vphantom{p}_L\\langle0|\\left(R_{y,R}(\\theta)|0\\rangle_R\\right)^{\\dagger}$$\n",
    "$$\\vphantom{p}_L\\langle0|_R\\langle0|R_{y,R}(-\\theta)$$\n",
    "\n",
    "Combining these results, we can write the probability $P_{++}$ as\n",
    "\n",
    "$$p_{++}=\\left|\\vphantom{p}_L\\langle0|_R\\langle0|R_{y,R}(-\\theta)\\text{CNOT}_{LR} H_L X_L X_R|0\\rangle_L|0\\rangle_R\\right|^2$$\n",
    "\n",
    "This gives us explicit instructions for how to construct our quantum circuit. We will apply X, H, CNOT and $R_y$ gates to qubits representing the quantum states of particles measured by Lucas and Rihanna, and make measurements to obtain the probability.\n",
    "\n",
    "IBM Quantum recommends tackling quantum computing problems using a framework we call Qiskit Patterns. It consists of the following steps.\n",
    "- Step 1: Map your problem to a quantum circuit\n",
    "- Step 2: Optimize your circuit for running on real quantum hardware\n",
    "- Step 3: Execute your job on IBM quantum computers using Runtime Primitives\n",
    "- Step 4: Post-process the results\n",
    "\n",
    "Basically all the work we did above was step 1. Let's build the resulting circuit using Qiskit!"
   ]
  },
  {
   "cell_type": "markdown",
   "id": "9b2e5175-cf0d-49b3-858a-009cc892a794",
   "metadata": {},
   "source": [
    "### Step 1: Mapping our results to a quantum circuit"
   ]
  },
  {
   "cell_type": "code",
   "execution_count": null,
   "id": "6fbd769d-bc47-4857-9ca7-884f1b2bbd3b",
   "metadata": {},
   "outputs": [],
   "source": [
    "# We'll begin by importing qiskit and a visualization module so that we can plot a histogram of our results.\n",
    "\n",
    "from qiskit.visualization import plot_histogram"
   ]
  },
  {
   "cell_type": "code",
   "execution_count": 6,
   "id": "2e24a789-7b2a-4d19-a10c-9c202ada9f9c",
   "metadata": {},
   "outputs": [],
   "source": [
    "# Trig functions are in radians by default, so we will need the number pi\n",
    "from numpy import pi"
   ]
  },
  {
   "cell_type": "markdown",
   "id": "e017cb53-45da-48e7-b5c6-f225978fad72",
   "metadata": {},
   "source": [
    "Remember that 1/3 of the time Rihanna's axis of choice will be $2\\pi/3$ radians from Lucas's, 1/3 of the time it will be $4 \\pi/3$ radians from Lucas's, and 1/3 of the time, they will choose the same axis. So we actually need to make 3 quantum circuits for these 3 cases, and add up the results. We'll carefully explain the first one, and the last two we will simply state."
   ]
  },
  {
   "cell_type": "code",
   "execution_count": 7,
   "id": "0ccef389-e7f0-406b-801f-d5558cee8d8f",
   "metadata": {},
   "outputs": [
    {
     "data": {
      "image/png": "[encoded data removed]",
      "text/plain": [
       "<Figure size 621.739x284.278 with 1 Axes>"
      ]
     },
     "execution_count": 7,
     "metadata": {},
     "output_type": "execute_result"
    }
   ],
   "source": [
    "# We start by declaring our first quantum circuit, and giving it two qubits (the first \"2\") and two classical bits for storing outputs (the second \"2\")\n",
    "# Define registers\n",
    "from qiskit import ClassicalRegister, QuantumRegister\n",
    "\n",
    "qr = QuantumRegister(2, \"q\")\n",
    "cr = ClassicalRegister(2, \"c\")\n",
    "qc1 = QuantumCircuit(qr, cr)\n",
    "\n",
    "# We know from our analysis above that we need an X gate acting on each of the qubits (L and R)\n",
    "qc1.x([0, 1])\n",
    "# We need a Hadamard gate acting on Lucas's qubit, which we're calling the 0th qubit.\n",
    "qc1.h(0)\n",
    "# The controlled-NOT gate uses the 0th qubit (Lucas's) as the control and the 1st qubit (Rihanna's) as the target.\n",
    "qc1.cx(0, 1)\n",
    "# The rotation gate acts on the 1st qubit (Rihanna's) and has an argument of -2 pi/3\n",
    "qc1.ry(-2 * pi / 3, 1)\n",
    "# Finally, we want to measure all the qubits in the circuit to obtain measurement probabilities, and store the results in the classical bits.\n",
    "qc1.measure([0, 1], [0, 1])\n",
    "# Now we can draw the first of the three circuits that will check Bell's inequality for us.\n",
    "qc1.draw(output=\"mpl\")"
   ]
  },
  {
   "cell_type": "markdown",
   "id": "d476150a-8d33-49a7-8d33-e9049fcc223b",
   "metadata": {},
   "source": [
    "The code below quickly constructs all three circuits in a more streamlined way. Note that the only difference between the three circuits is how far we rotate the two qubits about the $y$ axis."
   ]
  },
  {
   "cell_type": "code",
   "execution_count": 8,
   "id": "dc58dcdf-6e27-4ba0-bb5d-aaa7189d94e8",
   "metadata": {},
   "outputs": [],
   "source": [
    "qcs = [QuantumCircuit(2, 2), QuantumCircuit(2, 2), QuantumCircuit(2, 2)]\n",
    "for i in range(0, len(qcs)):\n",
    "    qcs[i].x([0, 1])\n",
    "    qcs[i].h(0)\n",
    "    qcs[i].cx(0, 1)\n",
    "\n",
    "qcs[0].ry(-2 * pi / 3, 1)\n",
    "qcs[1].ry(-4 * pi / 3, 1)\n",
    "qcs[2].ry(-2 * pi / 3, 1)\n",
    "qcs[2].ry(-4 * pi / 3, 1)\n",
    "\n",
    "for i in range(0, len(qcs)):\n",
    "    qcs[i].barrier()\n",
    "    qcs[i].measure([0, 1], [0, 1])\n",
    "\n",
    "counts_list = [None] * len(qcs)"
   ]
  },
  {
   "cell_type": "code",
   "execution_count": 9,
   "id": "c5c98277-f4cc-4aa8-b566-2750cba1cd0b",
   "metadata": {},
   "outputs": [
    {
     "data": {
      "image/png": "[encoded data removed]",
      "text/plain": [
       "<Figure size 705.35x284.278 with 1 Axes>"
      ]
     },
     "execution_count": 9,
     "metadata": {},
     "output_type": "execute_result"
    }
   ],
   "source": [
    "qcs[0].draw(output=\"mpl\")"
   ]
  },
  {
   "cell_type": "markdown",
   "id": "170b95b6-b6d0-45c3-9c6b-bfda2559e27f",
   "metadata": {},
   "source": [
    "Now we will use a Qiskit primitive called the StatevectorSampler. A sampler is a primitive designed to sample all the possible states of a system and return probabilities (or in some cases, quasiprobabilities) of obtaining each state. We can specify a number of \"shots\", and look at the \"counts\" for each state."
   ]
  },
  {
   "cell_type": "code",
   "execution_count": 10,
   "id": "1deb01de-15db-4525-ab6b-d1d4fa6ddfa8",
   "metadata": {},
   "outputs": [],
   "source": [
    "from qiskit.primitives import StatevectorSampler\n",
    "\n",
    "sampler = StatevectorSampler()\n",
    "\n",
    "# Start a job that will return shots for all 100 parameter value sets.\n",
    "for i in range(0, len(qcs)):\n",
    "    pub = qcs[i]\n",
    "    job = sampler.run([pub], shots=10000)\n",
    "    # Extract the result for the 0th pub (this example only has one pub).\n",
    "    result = job.result()\n",
    "    data_pub = result[0].data\n",
    "    counts = data_pub.c.get_counts()\n",
    "    counts_list[i] = counts\n",
    "#    plot_histogram(counts)"
   ]
  },
  {
   "cell_type": "markdown",
   "id": "fe6fd2d1-4a25-4161-8f4d-ba46658a46fc",
   "metadata": {},
   "source": [
    "If we look at the counts from each circuit, we see that two of them were basically identical, and the third was quite different."
   ]
  },
  {
   "cell_type": "code",
   "execution_count": 11,
   "id": "3fdac120-3936-4d42-9a08-4b7633c369b0",
   "metadata": {},
   "outputs": [
    {
     "data": {
      "image/png": "[encoded data removed]",
      "text/plain": [
       "<Figure size 640x480 with 1 Axes>"
      ]
     },
     "execution_count": 11,
     "metadata": {},
     "output_type": "execute_result"
    }
   ],
   "source": [
    "plot_histogram(counts_list)"
   ]
  },
  {
   "cell_type": "markdown",
   "id": "141a251c-41fc-4efe-91ef-e058d0ed0da4",
   "metadata": {},
   "source": [
    "Let us make a list of the possible outcomes and add up all the counts of each state from each of the three circuits to obtain overall probabilities."
   ]
  },
  {
   "cell_type": "code",
   "execution_count": null,
   "id": "6df9fff3-8ec2-4c2c-9ea3-792c13e992e0",
   "metadata": {},
   "outputs": [],
   "source": [
    "outcomes = (\"00\", \"01\", \"10\", \"11\")\n",
    "\n",
    "# Here we convert \"None\"s into 0's so that we can sum.\n",
    "\n",
    "for i in range(0, len(qcs)):\n",
    "    for j in range(0, len(outcomes)):\n",
    "        if counts_list[i].get(outcomes[j]) is None:\n",
    "            counts_list[i].update({outcomes[j]: 0})\n",
    "\n",
    "# Here we create a dictionary that holds all the outcomes and sums over their appearances in each of the circuits.\n",
    "\n",
    "total_counts = {}\n",
    "for i in range(0, len(outcomes)):\n",
    "    total_counts[outcomes[i]] = sum(\n",
    "        counts_list[j].get(outcomes[i]) for j in range(0, len(qcs))\n",
    "    )"
   ]
  },
  {
   "cell_type": "markdown",
   "id": "7650377d-fbf4-4b96-b31d-3ae249e5e687",
   "metadata": {},
   "source": [
    "Now we can print out the total counts for each outcome, and plot the histogram."
   ]
  },
  {
   "cell_type": "code",
   "execution_count": 13,
   "id": "f95d3d32-9b1c-492b-ae04-9e49943738fa",
   "metadata": {},
   "outputs": [
    {
     "name": "stdout",
     "output_type": "stream",
     "text": [
      "{'00': 7399, '01': 7463, '10': 7451, '11': 7687}\n"
     ]
    },
    {
     "data": {
      "image/png": "[encoded data removed]",
      "text/plain": [
       "<Figure size 640x480 with 1 Axes>"
      ]
     },
     "execution_count": 13,
     "metadata": {},
     "output_type": "execute_result"
    }
   ],
   "source": [
    "print(total_counts)\n",
    "plot_histogram(total_counts)"
   ]
  },
  {
   "cell_type": "markdown",
   "id": "c9e4ce97-fc91-404b-9191-b9c3e5948de7",
   "metadata": {},
   "source": [
    "### Check-in question\n",
    "\n",
    "Is the above picture consistent with the outcomes predicted by hidden variables and determinism? Or is it consistent with probabilistic (and non-local) quantum mechanics?\n",
    "\n",
    "<details>\n",
    "<summary>Answer:</summary>\n",
    "\n",
    "It is consistent with probabilistic and non-local quantum mechanics. The hidden variables treatment predicted that the probability of obtaining the same sign was less than or equal to 4/9. Quantum mechanics predicted a probability of 50%. The histogram above describes a probability of 00 or 11 equal to 49.97%. This is very close to the prediction of probabilistic quantum mechanics, but most importantly, it is greater than the allowed range in the hidden-variables treatment.\n",
    "\n",
    "</details>\n",
    "\n",
    "### Check-in question\n",
    "\n",
    "Does this prove anything about nature?\n",
    "\n",
    "<details>\n",
    "<summary>Answer:</summary>\n",
    "\n",
    "No! We were using a simulator! That is a computer programmed to behave according to the laws of probabilistic quantum mechanics. If we propose a rule, and then program a computer to follow that rule, its ability to follow the rule is not proof that the rule is correct! The only way to prove this is to use a real quantum computer!\n",
    "\n",
    "</details>"
   ]
  },
  {
   "cell_type": "markdown",
   "id": "227cae3a-d29c-49a8-b21a-d6840ca27a0a",
   "metadata": {},
   "source": [
    "### Step 2: Optimizing your quantum circuit for running on real hardware\n",
    "\n",
    "Although we initially used a simulator to debug our code, we really want to run on real hardware. After all, a simulator is just pretending to be quantum mechanical, based on the equations above. If the simulator told us those equations were correct, that wouldn't do much to convince us. We want a real quantum computer to tell us what's happening! So we'll select the quantum computer we want to use. Sometimes it might be important to pick a specific device that has properties you want, but often we simply want to use whatever device is least busy."
   ]
  },
  {
   "cell_type": "code",
   "execution_count": null,
   "id": "8c5242b6-1388-4567-a390-2523fe6faf90",
   "metadata": {},
   "outputs": [],
   "source": [
    "from qiskit_ibm_runtime import QiskitRuntimeService\n",
    "\n",
    "# Syntax for first saving your token\n",
    "# QiskitRuntimeService.save_account(channel=\"ibm_quantum\", token=\"<MY_IBM_QUANTUM_TOKEN>\", overwrite=True, set_as_default=True)\n",
    "# service = QiskitRuntimeService(channel='ibm_quantum')\n",
    "\n",
    "# Load saved credentials\n",
    "service = QiskitRuntimeService()\n",
    "\n",
    "backend = service.least_busy(\n",
    "    operational=True, min_num_qubits=qcs[0].num_qubits, simulator=False\n",
    ")"
   ]
  },
  {
   "cell_type": "code",
   "execution_count": null,
   "id": "6719ab2d-533f-4039-bc59-d82c3f63ccf0",
   "metadata": {},
   "outputs": [],
   "source": [
    "from qiskit.transpiler.preset_passmanagers import generate_preset_pass_manager\n",
    "\n",
    "target = backend.target\n",
    "pm = generate_preset_pass_manager(target=target, optimization_level=3)\n",
    "\n",
    "qcs_isa = qcs\n",
    "\n",
    "for i in range(0, len(qcs)):\n",
    "    qcs_isa[i] = pm.run(qcs[i])\n",
    "    qcs_isa[i].draw(output=\"mpl\", idle_wires=False, style=\"iqp\")"
   ]
  },
  {
   "cell_type": "code",
   "execution_count": 16,
   "id": "56cd26ec-2330-48e6-8930-1ce11aeb0b1c",
   "metadata": {},
   "outputs": [
    {
     "data": {
      "image/png": "[encoded data removed]",
      "text/plain": [
       "<Figure size 1379.77x284.278 with 1 Axes>"
      ]
     },
     "execution_count": 16,
     "metadata": {},
     "output_type": "execute_result"
    }
   ],
   "source": [
    "qcs_isa[2].draw(output=\"mpl\", idle_wires=False, style=\"iqp\")"
   ]
  },
  {
   "cell_type": "markdown",
   "id": "9d0417f2-b76d-408c-888e-c4c5f60ca7c6",
   "metadata": {},
   "source": [
    "### Step 3: Execute your job on IBM quantum computers using Runtime Primitives\n",
    "\n",
    "Now that we have optimized our circuits to run on real quantum hardware, and debugged our code using simulators, we are ready to gather statistics from a real quantum computer, and settle the disagreement between Einstein and Born."
   ]
  },
  {
   "cell_type": "code",
   "execution_count": null,
   "id": "5b1a6cdb-37e9-4756-b128-df4c8e23618b",
   "metadata": {},
   "outputs": [],
   "source": [
    "from qiskit_ibm_runtime import Session, SamplerV2 as Sampler\n",
    "# sampler.options.default_shots = 1000\n",
    "\n",
    "# Start a job that will return shots for all 100 parameter value sets.\n",
    "result_list = [None] * len(qcs)\n",
    "real_counts_list = [None] * len(qcs)\n",
    "with Session(backend=backend) as session:\n",
    "    sampler = Sampler(mode=session)\n",
    "\n",
    "    for i in range(0, len(qcs)):\n",
    "        # Define the primitive unified bloc (pub)\n",
    "        pub = qcs[i]\n",
    "        job = sampler.run([pub], shots=10000)\n",
    "        # Extract the result for the 0th pub (this example only has one pub).\n",
    "        result_list[i] = job.result()\n",
    "        data_pub = result_list[i][0].data\n",
    "        counts = data_pub.c.get_counts()\n",
    "        real_counts_list[i] = counts\n",
    "    #   plot_histogram(counts)"
   ]
  },
  {
   "cell_type": "code",
   "execution_count": null,
   "id": "d4e3b6ec-7d2d-40be-885f-785ffede4653",
   "metadata": {},
   "outputs": [
    {
     "name": "stdout",
     "output_type": "stream",
     "text": [
      "{'00': 7422, '01': 7762, '10': 7261, '11': 7555}\n"
     ]
    },
    {
     "data": {
      "image/png": "[encoded data removed]",
      "text/plain": [
       "<Figure size 640x480 with 1 Axes>"
      ]
     },
     "execution_count": 26,
     "metadata": {},
     "output_type": "execute_result"
    }
   ],
   "source": [
    "outcomes = (\"00\", \"01\", \"10\", \"11\")\n",
    "\n",
    "# Here we convert \"None\"s into 0's so that we can sum.\n",
    "\n",
    "for i in range(0, len(qcs)):\n",
    "    for j in range(0, len(outcomes)):\n",
    "        if real_counts_list[i].get(outcomes[j]) is None:\n",
    "            real_counts_list[i].update({outcomes[j]: 0})\n",
    "\n",
    "# Here we create a dictionary that holds all the outcomes and sums over their appearances in each of the circuits.\n",
    "\n",
    "real_total_counts = {}\n",
    "for i in range(0, len(outcomes)):\n",
    "    real_total_counts[outcomes[i]] = sum(\n",
    "        real_counts_list[j].get(outcomes[i]) for j in range(0, len(qcs))\n",
    "    )\n",
    "\n",
    "print(real_total_counts)\n",
    "plot_histogram(real_total_counts)"
   ]
  },
  {
   "cell_type": "code",
   "execution_count": 27,
   "id": "dfba6a4f-f252-42a8-b331-053c515dd0fc",
   "metadata": {},
   "outputs": [],
   "source": [
    "# This syntax allows you to run the job on a simulator, in case you have exhausted your allotted time on real IBM quantum computers.\n",
    "# But we strongly advise running this on real quantum computers, since this is meant to be a check of the behavior of real quantum systems.\n",
    "# from qiskit.primitives import BackendSamplerV2\n",
    "\n",
    "# data_pubs = (result0[0].data,result1[0].data,result2[0].data)\n",
    "# counts = (data_pubs[0].c.get_counts(),data_pubs[1].c.get_counts(),data_pubs[2].c.get_counts())\n",
    "# plot_histogram(counts)"
   ]
  },
  {
   "cell_type": "markdown",
   "id": "4938e7a7-73a5-49e0-9efc-e9d10d8771e5",
   "metadata": {},
   "source": [
    "### Step 4: Post-processing and analysis\n",
    "\n",
    "Let’s take a step back and recap: Using a hidden-variables treatment, and the 3 offset axes, we obtained a constraint on the probability for the measurements to yield the same sign $P_{same,hv} =4/9$. Then we assumed probability distributions as in quantum mechanics and obtained a __different value__ for that probability: $P_{same,gm} = 1/2$. The prediction from quantum mechanics is higher than that allowed by the hidden variables treatment. So it can be experimentally known whether quantum mechanical states are determined by nature prior to measurement, or if they are truly in a probabilistic superposition of possible states.\n",
    "\n",
    "We engineered our quantum circuits such that there are four possible outcomes corresponding to Lucas and Rihanna measuring one sign of the spin projection or the other: 00, 01, 10, and 11. In the cases of 00 and 11, Lucas and Rihanna measure the same sign, and in the cases of 01 and 10, they measure opposite signs. We see that to a very good approximation, the chance of Lucas and Rihanna getting the same sign are about 50%, definitely greater than $4/9$. This means that there is no set of hidden variables that can account for that distribution of probabilities, and the hidden-variables treatment is not compatible with experiment.\n",
    "\n",
    "There are different interpretations of quantum mechanical experimental results, and there are many subtleties to experimental setups that are revisited every so often. But so far the principles of quantum mechanics and the probabilistic interpretation of quantum states have accurately described the results. Max Born seems to have been correct.\n",
    "\n",
    "Let's take just one more moment to reflect on the significance of this. Two particles emerge from a decay event, and the two particles travel in different directions, possibly for a long time. Their spins are not in any well-defined state, and they carry no hidden-variable instructions with them to determine the outcomes of future measurements. But a measurement of one (along, say $+z$) necessarily determines the outcome of an experiment on the other particle's spin along the $z$ direction (it must be $-z$). This means that something about the physics of one particle is determined by what is done to the other particle, possibly far away. This is one situation that has led people to refer to reality as being \"non-local\".\n",
    "\n",
    "Two particles like those we've been describing are somehow \"connected\" in the sense that measurements on one can influence the other. We refer to such particles as being \"entangled\". Entanglement is more than just correlations. For example, we could construct a classical machine that spits out a magnet to one side with its north end up and a magnet to the other side with its north end down. Such magnets could be perfectly anti-correlated. But a measurement of one would do nothing to the other. In quantum mechanical entanglement, particle A could be in an undefined state (or a mixture of many states), and we can pin it down to a defined state through measurements on a totally different particle (say, B). Nothing like that exists in the classical world.\n",
    "\n",
    "This often brings up a whole new world of questions and possibilities. Some of the ideas it conjures are real, like using entanglement to compute, as in quantum computers! Some are deceptively appealing, but turn out to fail, like trying to use entanglement to send information faster than light. We encourage you ask all the questions occurring to you, and read about how others have investigated these phenomena. There is a whole world of quantum mechanics out there to explore, but here are just a few resources you might check out:\n",
    "\n",
    "IBM Quantum courses:\n",
    "- [Quantum computing in practice](https://learning.quantum.ibm.com/course/quantum-computing-in-practice)\n",
    "- [Basics of Quantum Information](https://learning.quantum.ibm.com/course/basics-of-quantum-information)\n",
    "\n",
    "Interesting quantum mechanics papers:\n",
    "- [Einstein Podolsky and Rosen paradox](https://cds.cern.ch/record/405662/files/PhysRev.47.777.pdf)\n",
    "- [John Bell's original paper from 1964](https://cds.cern.ch/record/111654/files/vol1p195-200_001.pdf)\n",
    "- [2019 paper on catching and reversing a \"quantum jump\" mid-transition](https://www.nature.com/articles/s41586-019-1287-z)\n",
    "\n",
    "Some quantum mechanics instructional resources:\n",
    "- [Quantum I course materials](https://www.colorado.edu/sei/departments/physics/activities/courses/quantum-i-course-materials) from the University of Colorado.\n",
    "\n",
    "Some quantum mechanics educational research:\n",
    "- [Review of student difficulties in upper-level quantum mechanics](https://journals.aps.org/prper/pdf/10.1103/PhysRevSTPER.11.020117) by C. Singh and E. Marshman"
   ]
  },
  {
   "cell_type": "markdown",
   "id": "24eaf563-cc5b-46b0-820a-93211a39c1c5",
   "metadata": {},
   "source": [
    "### Critical concepts:\n",
    "\n",
    "- There was a historical disagreement about whether quantum states were merely unknown or undetermined by nature prior to measurement, whether quantum mechanics is deterministic or probabilistic.\n",
    "- Hidden variables and therefore local realism are not consistent with observations of quantum mechanics. That is, the correlations observed in quantum mechanics cannot be explained by well-defined variables that are simply unknown to us.\n",
    "- Quantum mechanics is probabilistic.\n",
    "- Entanglement is real and observable.\n",
    "- Entanglement is not just correlations.\n",
    "- We can map real world scenarios to quantum computers.\n",
    "- Hidden variables refers to quantities specified by nature, but unknown to humans; they do not exist in this context.\n",
    "\n",
    "## Questions\n",
    "\n",
    "### T/F Questions:\n",
    "\n",
    "1. T/F Albert Einstein argued that quantum mechanics was incomplete, as a theory, because it only described probabilities of outcomes, and not the underlying mechanism that determined those outcomes.\n",
    "2. T/F \"Hidden variables\" refers to the idea that two quantum mechanical particles can be entangled.\n",
    "3. T/F Any two correlated systems are quantum mechanically entangled.\n",
    "4. T/F Quantum mechanical entanglement is important for getting math right, but you can't see it in an experiment.\n",
    "5. T/F In most cases, quantum mechanics can't tell you an exact outcome of an experiment, only the probabilities that certain outcomes will be measured.\n",
    "6. T/F In quantum mechanics, under certain conditions, the state of particle A can be affected by the state of particle B, even if particles A and B are not in contact and do not exchange any particles.\n",
    "7. T/F We can map real world experiments onto quantum circuits.\n",
    "\n",
    "### MC Questions:\n",
    "\n",
    "1. Suppose a spin-0 particle decays into two spin-1/2 particles A and B. A measurement is made on particle A that reveals its spin has a projection along $+z$. Particle B now\n",
    "    - a. definitely has a spin projection along $-z$\n",
    "    - b. definitely has a spin projection along $-x$\n",
    "    - c. definitely has a spin projection along $-y$\n",
    "    - d. definitely has a negative spin projection along any axis measured.\n",
    "\n",
    "2. A spin-0 particle decays into two spin-1/2 particles A and B. If particle A is measured to have a projection along $+z$, which of the following projections are possible for a measurement of particle B? Circle all that apply.\n",
    "    - a. $+x$\n",
    "    - b. $-x$\n",
    "    - c. $+y$\n",
    "    - d. $-y$\n",
    "    - e. $+z$\n",
    "    - f. $-z$\n",
    "\n",
    "3. Suppose a spin-0 particle decays into two spin-1/2 particles A and B. What best describes the state of particle A prior to any measurement.\n",
    "    - a. The spin of particle A is along $+z$.\n",
    "    - b. The spin of particle A is along $-z$.\n",
    "    - c. The spin of particle A is along $+x$.\n",
    "    - d. The spin of particle A is defined along some directions, but not others.\n",
    "    - e. The spin orientation of particle A is undetermined by nature prior to any measurements.\n",
    "\n",
    "4. Which of the following is/are true of the Hadamard gate? Select all that apply.\n",
    "    - a. $H|0\\rangle = \\frac{1}{\\sqrt{2}}(|0\\rangle+|1\\rangle)$\n",
    "    - b. $H|0\\rangle = \\frac{1}{\\sqrt{2}}(|0\\rangle-|1\\rangle)$\n",
    "    - c. $H \\frac{1}{\\sqrt{2}}(|0\\rangle-|1\\rangle)=|0\\rangle$\n",
    "    - d. $H \\frac{1}{\\sqrt{2}}(|0\\rangle+|1\\rangle)=|0\\rangle$\n",
    "\n",
    "5. Which of the following is/are true of the X gate? Select all that apply.\n",
    "    - a. $X|0\\rangle = |1\\rangle$\n",
    "    - b. $X|0\\rangle = \\frac{1}{\\sqrt{2}}(|0\\rangle-|1\\rangle)$\n",
    "    - c. $X|0\\rangle = -|0\\rangle$\n",
    "    - d. $X|1\\rangle = |0\\rangle$\n",
    "    - e. $X\\frac{1}{\\sqrt{2}}(|0\\rangle-|1\\rangle)=X\\frac{1}{\\sqrt{2}}(|1\\rangle-|0\\rangle)$\n",
    "\n",
    "6. Which of the following is a two-qubit gate?\n",
    "    - a. X\n",
    "    - b. $R_y(\\theta)$\n",
    "    - c. H\n",
    "    - d. CNOT\n",
    "\n",
    "7. Suppose a qubit is in the $|0\\rangle$ state. What is the probability of measuring it to be in the $1\\rangle$ state?\n",
    "    - a. Exactly 100% on a noise-free simulator, near 100% on a real quantum computer\n",
    "    - b. Near 100% on a noise-free simulator, exactly 100% on a real quantum computer\n",
    "    - c. Exactly 0% on a noise-free simulator, near 0% on a real quantum computer\n",
    "    - d. Near 0% on a noise-free simulator, exactly 0% on a real quantum computer\n",
    "\n",
    "### Discussion Questions:\n",
    "\n",
    "1. Friends A, B, and C are discussing results from this lab, related to Bell's Inequality. Specifically, they are looking at the image that shows the quantum mechanical probability of measuring the same sign along axes is greater than that allowed by a hidden-variables treatment: $(P_\\text{same})_\\text{max,QM}>(P_\\text{same})_\\text{max,HV}$. Friend A says, \"This means that we didn't know the spin states prior to a measurement.\" Friend B says, \"No, it's more than that. This means the spins are not already pointing in a particular direction, prior to measurement. Although, the spin state might somehow be determined or stored somehow\" Friend C says, \"No, it's even more than that. This means the future spin state wasn't even decided by nature prior to measurement.\" With whom do you agree, and why?\n",
    "\n",
    "2. Explain how quantum mechanical phenomena like entanglement indicate that reality is non-local.\n",
    "\n",
    "3. What additional experiments would you like to do to convince yourself of the results obtained here?\n",
    "\n",
    "4. Could Bell's inequality only be explored with 3 equally-spaced axes $a$, $b$, and $c$? Could it be done with any other number of axes? What would this look like? Would it still yield a difference in probabilities predicted by hidden variables vs. probabilistic quantum mechanics?"
   ]
  }
 ],
 "metadata": {
  "description": "Learn what measurement statistics are predicted by hidden variables and by quantum mechanics, and check which is correct using a real quantum computer.",
  "kernelspec": {
   "display_name": "Python 3",
   "language": "python",
   "name": "python3"
  },
  "language_info": {
   "codemirror_mode": {
    "name": "ipython",
    "version": 3
   },
   "file_extension": ".py",
   "mimetype": "text/x-python",
   "name": "python",
   "nbconvert_exporter": "python",
   "pygments_lexer": "ipython3",
   "version": "3.11.12"
  },
  "title": "Bell's inequality with Qiskit"
 },
 "nbformat": 4,
 "nbformat_minor": 2
}
