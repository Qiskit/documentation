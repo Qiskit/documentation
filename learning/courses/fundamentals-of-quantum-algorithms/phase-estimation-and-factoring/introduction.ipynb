{
 "cells": [
  {
   "cell_type": "markdown",
   "id": "e2df0850",
   "metadata": {},
   "source": [
    "{/* cspell:ignore autoplay */}\n",
    "{/* cspell:ignore allowfullscreen */}\n",
    "\n",
    "# Introduction\n",
    "\n",
    "In this lesson, we'll discuss the phase estimation problem and how to solve it with a quantum computer.\n",
    "We'll then use this solution to obtain\n",
    "<DefinitionTooltip definition=\"In addition to his integer factorization algorithm, Peter Shor also discovered an efficient quantum algorithm for the different but related problem of computing discrete logarithms. The two algorithms appeared in the same paper, first published as a conference paper in 1994 and then as a journal paper in 1997.\">Shor's algorithm</DefinitionTooltip> — an efficient quantum algorithm for the integer factorization problem.\n",
    "Along the way, we'll encounter the quantum Fourier transform, and we'll see how it can be implemented efficiently by a quantum circuit.\n",
    "\n",
    "## Lesson video\n",
    "\n",
    "Click on the following image to access the lesson video.\n",
    "\n",
    "  <ImageLink\n",
    "    title=\"Phase Estimation and Factoring | Understanding Quantum Information & Computation | Lesson 07\"\n",
    "    alt=\"Video thumbnail\"\n",
    "    href=\"https://youtu.be/4nT0BTUxhJY?list=PLOFEBzvs-VvqKKMXX4vbi4EB1uaErFMSO\"\n",
    "    src=\"/learning/images/courses/fundamentals-of-quantum-algorithms/phase-estimation-and-factoring/introduction/07-A.avif\"\n",
    "  />"
   ]
  }
 ],
 "metadata": {
  "description": "A free IBM course on quantum information and computation",
  "kernelspec": {
   "display_name": "Python 3",
   "language": "python",
   "name": "python3"
  },
  "language_info": {
   "codemirror_mode": {
    "name": "ipython",
    "version": 3
   },
   "file_extension": ".py",
   "mimetype": "text/x-python",
   "name": "python",
   "nbconvert_exporter": "python",
   "pygments_lexer": "ipython3",
   "version": "3"
  },
  "title": "Introduction"
 },
 "nbformat": 4,
 "nbformat_minor": 5
}
