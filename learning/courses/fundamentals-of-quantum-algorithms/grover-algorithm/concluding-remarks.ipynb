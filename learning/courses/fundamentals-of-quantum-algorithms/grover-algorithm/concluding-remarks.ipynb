{
 "cells": [
  {
   "cell_type": "markdown",
   "id": "d58b1afa",
   "metadata": {},
   "source": [
    "# Concluding remarks\n",
    "\n",
    "Within the query model, Grover's algorithm is *asymptotically optimal*.\n",
    "What this means is that it's not possible to come up with a query algorithm for solving the *Search* problem,\n",
    "or even the *Unique search* problem specifically, that uses asymptotically less than $O(\\sqrt{N})$ queries in the worst case.\n",
    "This is something that has been proved rigorously in multiple ways.\n",
    "\n",
    "Interestingly, this was known even before Grover's algorithm was discovered — Grover's algorithm matched an already-known lower bound.\n",
    "\n",
    "Grover's algorithm is also broadly applicable, in the sense that the square-root speed-up that it offers can be obtained in a variety of different settings.\n",
    "For example, sometimes it's possible to use Grover's algorithm in conjunction with another algorithm to get an improvement.\n",
    "Grover's algorithm is also quite commonly used as a subroutine inside of other quantum algorithms to obtain speed-ups.\n",
    "\n",
    "Finally, the technique used in Grover's algorithm, where two reflections are composed and iterated to rotate a quantum state vector, can be generalized.\n",
    "An example is a technique known as *amplitude amplification*, where a process similar to Grover's algorithm can be applied to another quantum algorithm to boost its success probability quadratically faster than what is possible classically.\n",
    "Amplitude amplification has broad applications in quantum algorithms.\n",
    "\n",
    "So, although Grover's algorithm may not lead to a practical quantum advantage for searching any time soon, it is a fundamentally important quantum algorithm, and it is representative of a more general technique that finds many applications in quantum algorithms."
   ]
  }
 ],
 "metadata": {
  "description": "A free IBM course on quantum information and computation",
  "kernelspec": {
   "display_name": "Python 3",
   "language": "python",
   "name": "python3"
  },
  "language_info": {
   "codemirror_mode": {
    "name": "ipython",
    "version": 3
   },
   "file_extension": ".py",
   "mimetype": "text/x-python",
   "name": "python",
   "nbconvert_exporter": "python",
   "pygments_lexer": "ipython3",
   "version": "3"
  },
  "title": "Concluding remarks"
 },
 "nbformat": 4,
 "nbformat_minor": 5
}
