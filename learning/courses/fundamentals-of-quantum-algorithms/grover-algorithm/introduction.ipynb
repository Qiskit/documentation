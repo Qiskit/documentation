{
 "cells": [
  {
   "cell_type": "markdown",
   "id": "62741c3a",
   "metadata": {},
   "source": [
    "{/* cspell:ignore autoplay */}\n",
    "{/* cspell:ignore allowfullscreen */}\n",
    "\n",
    "# Introduction\n",
    "\n",
    "Grover's algorithm is a quantum algorithm for so-called *unstructured search* problems that offers a *quadratic* improvement over classical algorithms.\n",
    "What this means is that Grover's algorithm requires a number of operations on the order of the *square-root* of the number of operations required to solve unstructured search classically — which is equivalent to saying that classical algorithms for unstructured search must have a cost at least on the order of the *square* of the cost of Grover's algorithm.\n",
    "\n",
    "Grover's algorithm, together with its extensions and underlying methodology, turn out to be broadly applicable, leading to a quadratic advantage for many interesting computational tasks that may not initially look like unstructured search problems on the surface.\n",
    "\n",
    "While the broad applicability of Grover's searching technique is compelling, it should be acknowledged here at the start of the lesson that the quadratic advantage it offers seems unlikely to lead to a practical advantage of quantum over classical computing any time soon.\n",
    "Classical computing hardware is currently so much more advanced than quantum computing hardware that the quadratic quantum over classical advantage offered by Grover's algorithm is certain to be washed away by the staggering clock speeds of modern classical computers for any unstructured search problem that could feasibly be run on the quantum computers of today.\n",
    "\n",
    "As quantum computing technology advances, however, Grover's algorithm may have potential.\n",
    "Indeed, some of the most important and impactful classical algorithms ever discovered, including the fast Fourier transform and fast sorting (e.g., quicksort and merge sort), offer slightly less than a quadratic advantage over naive approaches to the problems they solve.\n",
    "The key difference here, of course, is that an entirely new technology (meaning quantum computing) is required to run Grover's algorithm.\n",
    "While this technology is still very much in its infancy in comparison to classical computing, we should not be so quick to underestimate the potential of technological advances that could allow a quadratic advantage of quantum over classical computing to one day offer tangible practical benefits.\n",
    "\n",
    "## Lesson video\n",
    "\n",
    "<iframe src=\"https://video.ibm.com/embed/recorded/134056243?showtitle=false\" loading=\"lazy\" width=\"800\" height=\"450\" title=\"YouTube video player\" frameborder=\"0\" allow=\"accelerometer; autoplay; clipboard-write; encrypted-media; gyroscope; picture-in-picture; web-share\" allowfullscreen>\n",
    "</iframe>\n",
    "\n",
    "Access the [YouTube video](https://youtu.be/hnpjC8WQVrQ?list=PLOFEBzvs-VvqKKMXX4vbi4EB1uaErFMSO) for this lesson."
   ]
  }
 ],
 "metadata": {
  "description": "A free IBM course on quantum information and computation",
  "kernelspec": {
   "display_name": "Python 3",
   "language": "python",
   "name": "python3"
  },
  "language_info": {
   "codemirror_mode": {
    "name": "ipython",
    "version": 3
   },
   "file_extension": ".py",
   "mimetype": "text/x-python",
   "name": "python",
   "nbconvert_exporter": "python",
   "pygments_lexer": "ipython3",
   "version": "3"
  },
  "title": "Introduction"
 },
 "nbformat": 4,
 "nbformat_minor": 5
}
