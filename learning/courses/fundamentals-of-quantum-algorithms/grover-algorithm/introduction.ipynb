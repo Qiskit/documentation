{
 "cells": [
  {
   "cell_type": "markdown",
   "id": "62741c3a",
   "metadata": {},
   "source": [
    "{/* cspell:ignore autoplay */}\n",
    "{/* cspell:ignore allowfullscreen */}\n",
    "\n",
    "# Introduction\n",
    "\n",
    "Grover's algorithm is a quantum algorithm for so-called *unstructured search* problems that offers a *quadratic* improvement over classical algorithms.\n",
    "What this means is that Grover's algorithm requires a number of operations on the order of the *square-root* of the number of operations required to solve unstructured search classically — which is equivalent to saying that classical algorithms for unstructured search must have a cost at least on the order of the *square* of the cost of Grover's algorithm.\n",
    "\n",
    "Grover's algorithm, together with its extensions and underlying methodology, turn out to be broadly applicable, leading to a quadratic advantage for many interesting computational tasks that may not initially look like unstructured search problems on the surface.\n",
    "\n",
    "While the broad applicability of Grover's searching technique is compelling, it should be acknowledged here at the start of the lesson that the quadratic advantage it offers seems unlikely to lead to a practical advantage of quantum over classical computing any time soon.\n",
    "Classical computing hardware is much more advanced than quantum computing hardware — and the quadratic quantum over classical advantage offered by Grover's algorithm is sure to be washed away by the staggering clock speeds of modern classical computers for any unstructured search problem that could feasibly be run any time soon.\n",
    "\n",
    "As quantum computing technology advances, however, Grover's algorithm could have potential.\n",
    "Indeed, some of the most important and impactful classical algorithms ever discovered, including the fast Fourier transform and fast sorting (e.g., quicksort and merge sort), offer slightly less than a quadratic advantage over naive approaches to the problems they solve.\n",
    "The key difference here, of course, is that an entirely new technology (meaning quantum computing) is required to run Grover's algorithm.\n",
    "While this technology is still very much in its infancy in comparison to classical computing, we should not be so quick to underestimate the potential of technological advances that could allow a quadratic advantage of quantum over classical computing to one day offer tangible practical benefits.\n",
    "\n",
    "## Lesson video\n",
    "\n",
    "In the following video, John Watrous steps you through the content in this lesson on Grover's algorithm. Alternatively, you can open the [YouTube video](https://youtu.be/hnpjC8WQVrQ?list=PLOFEBzvs-VvqKKMXX4vbi4EB1uaErFMSO) for this lesson in a separate window. [Download the slides](https://ibm.box.com/shared/static/03clwlnuz7ygbrctbrm7xofngf5f0urs.pdf) for this lesson.\n",
    "\n",
    "<IBMVideo id=\"134056243\" title=\"In this video, John Watrous begins with a refresher of the unstructured search problem. He then demonstrates how Grover's algorithm solves this problem. Finally, he addresses the optimization of this algorithm, such as by choosing the number of iterations. \"/>"
   ]
  }
 ],
 "metadata": {
  "description": "A free IBM course on quantum information and computation",
  "kernelspec": {
   "display_name": "Python 3",
   "language": "python",
   "name": "python3"
  },
  "language_info": {
   "codemirror_mode": {
    "name": "ipython",
    "version": 3
   },
   "file_extension": ".py",
   "mimetype": "text/x-python",
   "name": "python",
   "nbconvert_exporter": "python",
   "pygments_lexer": "ipython3",
   "version": "3"
  },
  "title": "Introduction"
 },
 "nbformat": 4,
 "nbformat_minor": 5
}
