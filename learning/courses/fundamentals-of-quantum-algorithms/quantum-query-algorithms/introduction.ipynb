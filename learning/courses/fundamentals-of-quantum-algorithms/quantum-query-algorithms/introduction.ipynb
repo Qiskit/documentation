{
 "cells": [
  {
   "cell_type": "markdown",
   "id": "b94c6bd4",
   "metadata": {},
   "source": [
    "{/* cspell:ignore autoplay */}\n",
    "{/* cspell:ignore allowfullscreen */}\n",
    "\n",
    "# Introduction\n",
    "\n",
    "In this first lesson of the course, we'll formulate a simple algorithmic framework — known as the *query model* — and explore the advantages that quantum computers offer within this framework.\n",
    "\n",
    "The query model of computation is like a petri dish for quantum algorithmic ideas.\n",
    "It's rigid and unnatural in the sense that it doesn't accurately represent the sorts of computational problems we generally care about in practice, but it has nevertheless proved to be incredibly useful as a tool for developing quantum algorithmic techniques.\n",
    "This includes the ones that power the most well-known quantum algorithms, such as Shor's algorithm for integer factorization.\n",
    "The query model also happens to be a very useful framework for *explaining* quantum algorithmic techniques.\n",
    "\n",
    "After introducing the query model itself, we'll discuss the very first quantum algorithm that was discovered, which is *Deutsch's algorithm,* along with an extension of Deutsch's algorithm known as the *Deutsch-Jozsa algorithm*.\n",
    "These algorithms demonstrate quantifiable advantages of quantum over classical computers within the context of the query model.\n",
    "We'll then discuss a quantum algorithm known as *Simon's algorithm,* which offers a more robust and satisfying advantage of quantum over classical computations, for reasons that will be explained when we get to it.\n",
    "\n",
    "## Lesson video\n",
    "\n",
    "\n",
    "  <ImageLink\n",
    "    title=\"Quantum Query Algorithms | Understanding Quantum Information & Computation | Lesson 05\"\n",
    "    alt=\"Video thumbnail\"\n",
    "    href=\"https://youtu.be/2wticzHE1vs?list=PLOFEBzvs-VvqKKMXX4vbi4EB1uaErFMSO\"\n",
    "    src=\"/learning/images/courses/fundamentals-of-quantum-algorithms/quantum-query-algorithms/introduction/youtube-thumbnail.avif\"\n",
    "  />"
   ]
  }
 ],
 "metadata": {
  "description": "A free IBM course on quantum information and computation",
  "kernelspec": {
   "display_name": "Python 3",
   "language": "python",
   "name": "python3"
  },
  "language_info": {
   "codemirror_mode": {
    "name": "ipython",
    "version": 3
   },
   "file_extension": ".py",
   "mimetype": "text/x-python",
   "name": "python",
   "nbconvert_exporter": "python",
   "pygments_lexer": "ipython3",
   "version": "3"
  },
  "title": "Introduction"
 },
 "nbformat": 4,
 "nbformat_minor": 5
}
