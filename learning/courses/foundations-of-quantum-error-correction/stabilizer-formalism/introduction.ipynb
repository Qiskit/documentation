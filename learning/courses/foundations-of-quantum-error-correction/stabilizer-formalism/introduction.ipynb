{
 "cells": [
  {
   "cell_type": "markdown",
   "id": "4876a7c0",
   "metadata": {},
   "source": [
    "# Introduction\n",
    "\n",
    "In the previous lesson, we took a first look at quantum error correction, focusing specifically on the 9-qubit Shor code.\n",
    "In this lesson, we'll introduce the *stabilizer formalism*, which is a mathematical framework through which a broad class of quantum error correcting codes, known as *stabilizer codes*, can be specified and analyzed.\n",
    "This includes the 9-qubit Shor code along with many other examples, including codes that seem likely to be well-suited to real-world quantum devices.\n",
    "Not every quantum error correcting code is a stabilizer code, but many are, including every example that we'll see in this course.\n",
    "\n",
    "The lesson begins with a short discussion of Pauli matrices, and tensor products of Pauli matrices more generally, which can represent not only operations on qubits, but also measurements of qubits — in which case they're typically referred to as *observables*.\n",
    "We'll then go back and take a second look at the repetition code and see how it can be described in terms of Pauli matrix observables.\n",
    "This will both inform and lead into a general discussion of stabilizer codes, including several examples, basic properties of stabilizer codes, and how the fundamental tasks of encoding, detecting errors, and correcting those errors can be performed.\n",
    "\n",
    "## Lesson video\n",
    "\n",
    "In the following video, John Watrous steps you through the content in this lesson on stabilizer formalism. Alternatively, you can open the [YouTube video](https://youtu.be/3ib2JP_LeIU?list=PLOFEBzvs-VvqKKMXX4vbi4EB1uaErFMSO) for this lesson in a separate window.\n",
    "\n",
    "<IBMVideo id=\"134212334\" title=\"In this video, John Watrous introduces stabilizer codes. Pauli operations and observables are reviewed.\"/>"
   ]
  }
 ],
 "metadata": {
  "description": "A free IBM course on quantum information and computation",
  "kernelspec": {
   "display_name": "Python 3",
   "language": "python",
   "name": "python3"
  },
  "language_info": {
   "codemirror_mode": {
    "name": "ipython",
    "version": 3
   },
   "file_extension": ".py",
   "mimetype": "text/x-python",
   "name": "python",
   "nbconvert_exporter": "python",
   "pygments_lexer": "ipython3",
   "version": "3"
  },
  "title": "Introduction"
 },
 "nbformat": 4,
 "nbformat_minor": 5
}
