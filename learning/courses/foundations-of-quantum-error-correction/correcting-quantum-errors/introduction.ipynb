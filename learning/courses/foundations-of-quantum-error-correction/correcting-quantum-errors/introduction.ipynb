{
 "cells": [
  {
   "cell_type": "markdown",
   "id": "62d79c12",
   "metadata": {},
   "source": [
    "{/* cspell:ignore autoplay */}\n",
    "{/* cspell:ignore allowfullscreen */}\n",
    "\n",
    "# Introduction\n",
    "\n",
    "Quantum computing has the potential to enable efficient solutions to computational tasks for which efficient classical algorithms are not known, and possibly don't exist.\n",
    "There are, however, very significant challenges that must be overcome before we can reliably implement the sorts of large-scale quantum computations we hope will one day be possible.\n",
    "\n",
    "The heart of the matter is that quantum information is extremely fragile — you can literally ruin it just by looking at it.\n",
    "For this reason, to correctly operate, quantum computers need to isolate the quantum information they store from the environment around them to an extreme degree.\n",
    "But, at the same time, quantum computers must provide very precise control over this quantum information, including proper initialization, accurate and reliable unitary operations, and the ability to perform measurements so that the results of the computation can be obtained.\n",
    "There's clearly some tension between these requirements, and in the early days of quantum computing some viewed that the fragility of quantum information, and its susceptibility to both inaccuracies and environmental noise, would ultimately make quantum computing impossible.\n",
    "\n",
    "Today, there's little doubt that building an accurate and reliable large-scale quantum computer is a monumental challenge.\n",
    "But, we have a key tool to help us in this endeavor — quantum error correction — which leads most people who are knowledgeable about the field to be optimistic about large-scale quantum computing one day becoming a reality.\n",
    "\n",
    "We'll study quantum error correction in this course, with a focus on the fundamentals.\n",
    "In this lesson, we'll take a first look at quantum error correction, including the very first quantum error correcting code discovered — the *9-qubit Shor code* — and we'll also discuss a foundational concept in quantum error correction known as the *discretization of errors*.\n",
    "\n",
    "## Lesson video\n",
    "\n",
    "Click on the following image to access the lesson video.\n",
    "\n",
    "<ImageLink\n",
    "  title=\"Correcting Quantum Errors | Understanding Quantum Information & Computation | Lesson 13\"\n",
    "  alt=\"Video thumbnail\"\n",
    "  href=\"https://youtu.be/OoQSdcKAIZc?list=PLOFEBzvs-VvqKKMXX4vbi4EB1uaErFMSO\"\n",
    "  src=\"/learning/images/courses/foundations-of-quantum-error-correction/correcting-quantum-errors/introduction/13-A.avif\"\n",
    "/>"
   ]
  }
 ],
 "metadata": {
  "description": "A free IBM course on quantum information and computation",
  "kernelspec": {
   "display_name": "Python 3",
   "language": "python",
   "name": "python3"
  },
  "language_info": {
   "codemirror_mode": {
    "name": "ipython",
    "version": 3
   },
   "file_extension": ".py",
   "mimetype": "text/x-python",
   "name": "python",
   "nbconvert_exporter": "python",
   "pygments_lexer": "ipython3",
   "version": "3"
  },
  "title": "Introduction"
 },
 "nbformat": 4,
 "nbformat_minor": 5
}
