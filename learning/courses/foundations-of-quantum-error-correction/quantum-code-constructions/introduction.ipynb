{
 "cells": [
  {
   "cell_type": "markdown",
   "id": "6dffed1f",
   "metadata": {},
   "source": [
    "# Introduction\n",
    "\n",
    "We've seen a few examples of quantum error correcting codes in previous lessons of this course, including the 9-qubit Shor code, the 7-qubit Steane code, and the 5-qubit code.\n",
    "These codes are undoubtedly interesting and represent a natural place to begin an exploration of quantum error correction, but a problem with them is that they can only tolerate a very low error rate.\n",
    "Correcting an error on one qubit out of five, seven, or nine isn't bad, but in all likelihood we're going to need to be able to tolerate a lot more errors than that to make large-scale quantum computing a reality.\n",
    "\n",
    "In this lesson, we'll take a first look at some more sophisticated quantum error correcting code constructions, including codes that can tolerate a much higher error rate than the ones we've seen so far, and that are viewed as promising candidates for practical quantum error correction.\n",
    "\n",
    "We'll begin with a class of quantum error correcting codes known as *CSS codes*, named for Robert Calderbank, Peter Shor, and Andrew Steane, who first discovered them.\n",
    "The CSS code construction allows one to take certain *pairs* of classical error correcting codes and combine them into a single quantum error correcting code.\n",
    "\n",
    "The second part of the lesson is on a code known as the *toric code*.\n",
    "This is a fundamental (and truly beautiful) example of a quantum error correcting code that can tolerate relatively high error rates.\n",
    "In fact, the toric code isn't a single example of a quantum error correcting code, but rather it's an infinite family of codes, one for each positive integer greater than one.\n",
    "\n",
    "Finally, in the last part of the lesson, we'll briefly discuss a couple of other families of quantum codes, including *surface codes* (which are closely connected to the toric code) and *color codes*.\n",
    "\n",
    "## Lesson video\n",
    "\n",
    "In the following video, John Watrous steps you through the content in this lesson on quantum code constructions. Alternatively, you can open the [YouTube video](https://youtu.be/9TCIOm8gcVQ?list=PLOFEBzvs-VvqKKMXX4vbi4EB1uaErFMSO) for this lesson in a separate window. [Download the slides](https://ibm.box.com/shared/static/9gpegrj4bkz31i4qcw1uluhlsjfk42vt.pdf) for this lesson.\n",
    "\n",
    "<IBMVideo id=\"134313287\" title=\"In this video, John Watrous discusses CSS codes, Toric codes, and other code families relevant to error correction.\"/>"
   ]
  }
 ],
 "metadata": {
  "description": "A free IBM course on quantum information and computation",
  "kernelspec": {
   "display_name": "Python 3",
   "language": "python",
   "name": "python3"
  },
  "language_info": {
   "codemirror_mode": {
    "name": "ipython",
    "version": 3
   },
   "file_extension": ".py",
   "mimetype": "text/x-python",
   "name": "python",
   "nbconvert_exporter": "python",
   "pygments_lexer": "ipython3",
   "version": "3"
  },
  "title": "Introduction"
 },
 "nbformat": 4,
 "nbformat_minor": 5
}
