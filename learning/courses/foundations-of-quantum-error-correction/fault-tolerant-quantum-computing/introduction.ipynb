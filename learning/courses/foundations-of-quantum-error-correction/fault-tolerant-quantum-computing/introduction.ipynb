{
 "cells": [
  {
   "cell_type": "markdown",
   "id": "68abe899",
   "metadata": {},
   "source": [
    "# Introduction\n",
    "\n",
    "In the previous lessons of this course, we've seen several examples of quantum error correcting codes, which can detect and allow for the correction of errors — so long as not too many qubits are affected.\n",
    "If we want to use error correction for quantum *computing*, however, there are still many issues to be reckoned with.\n",
    "This includes the reality that, not only is quantum information fragile and susceptible to noise, but the quantum gates, measurements, and state initializations used to implement quantum computations will themselves be imperfect.\n",
    "\n",
    "For instance, if we wish to perform error correction on one or more qubits that have been encoded using a quantum error correcting code, then this must be done using gates and measurements that might not work correctly — which means not only failing to detect or correct errors, but possibly introducing new errors.\n",
    "\n",
    "In addition, the actual computations we're interested in performing must be implemented, again with gates that aren't perfect.\n",
    "But, we certainly can't risk decoding qubits for the sake of performing these computations, and then re-encoding once we're done, because errors might strike when the protection of a quantum error correcting code is absent.\n",
    "This means that quantum gates must somehow be performed on *logical* qubits that never go without the protection of a quantum error correcting code.\n",
    "\n",
    "This all presents a major challenge.\n",
    "But it is known that, as long as the level of noise falls below a certain *threshold value*, it is possible in theory to perform arbitrarily large quantum computations reliably using noisy hardware.\n",
    "We'll discuss this critically important fact, which is known as the *threshold theorem*, toward the end of the lesson.\n",
    "\n",
    "The lesson starts with a basic framework for fault-tolerant quantum computing, including a short discussion of noise models and a general methodology for fault-tolerant implementations of quantum circuits.\n",
    "We'll then move on to the issue of *error propagation* in fault-tolerant quantum circuits and how to control it.\n",
    "In particular, we'll discuss *transversal* implementations of gates, which offer a very simple way to control error propagation — though there is a fundamental limitation that prevents us from using this method exclusively — and we'll also take a look at a different methodology involving so-called *magic states*, which offers a different path to controlling error propagation in fault-tolerant quantum circuits.\n",
    "\n",
    "And finally, the lesson concludes with a high-level discussion of the threshold theorem, which states that arbitrarily large quantum circuits can be implemented reliably, so long as the error rate for all of the components involved falls below a certain finite threshold value.\n",
    "This threshold value depends on the error correcting code that is used, as well as the specific choices that are made for fault-tolerant implementations of gates and measurements, but critically it does *not* depend on the size of the quantum circuit being implemented.\n",
    "\n",
    "## Lesson video\n",
    "\n",
    "<ImageLink\n",
    "  title=\"Fault Tolerant Quantum Computation | Understanding Quantum Information & Computation | Lesson 16\"\n",
    "  alt=\"Video thumbnail\"\n",
    "  href=\"https://youtu.be/aeaqXh2XXMk?list=PLOFEBzvs-VvqKKMXX4vbi4EB1uaErFMSO\"\n",
    "  src=\"/learning/images/courses/foundations-of-quantum-error-correction/fault-tolerant-quantum-computing/introduction/youtube-thumbnail.avif\"\n",
    "/>"
   ]
  }
 ],
 "metadata": {
  "description": "A free IBM course on quantum information and computation",
  "kernelspec": {
   "display_name": "Python 3",
   "language": "python",
   "name": "python3"
  },
  "language_info": {
   "codemirror_mode": {
    "name": "ipython",
    "version": 3
   },
   "file_extension": ".py",
   "mimetype": "text/x-python",
   "name": "python",
   "nbconvert_exporter": "python",
   "pygments_lexer": "ipython3",
   "version": "3"
  },
  "title": "Introduction"
 },
 "nbformat": 4,
 "nbformat_minor": 5
}
