{
 "cells": [
  {
   "attachments": {},
   "cell_type": "markdown",
   "id": "7dc25056-2c3c-435a-a827-1930f8bb768f",
   "metadata": {
    "gloss": {
     "ansatz": {
      "text": "Combination of a reference operator and a variational form, to describe the search space that we're exploring.",
      "title": "Ansatz"
     },
     "variational": {
      "text": "Layers of parameterized gates that are repeated a certain number of times, and the parameters of the gates are optimized during the algorithm to minimize the cost function.",
      "title": "Variational form"
     }
    }
   },
   "source": [
    "{/* cspell:ignore ZZII IZZI ZIIZ IZIZ IIZZ ansä */}\n",
    "\n",
    "# Ansaetze and variational forms\n",
    "\n",
    "At the heart of all variational algorithms lies the key idea of analyzing the differences between states, which are conveniently related through some well-behaved mapping (e.g., continuous, differentiable) from a set of parameters or variables — hence the name.\n",
    "\n",
    "First, we'll explore how to construct parameterized circuits by hand. We'll use these circuits to define a [variational form][variational] that represents a collection of parameterized states for our variational algorithm to explore. Then, we'll construct our [ansatz][ansatz] by applying this variational form to our reference state.\n",
    "\n",
    "We'll also explore how to trade off speed versus accuracy while exploring this search space.\n",
    "\n",
    "![A diagram showing key components of the ansatz discussion, including heuristic ansaetze and problem-specific ansaetze.](/learning/images/courses/variational-algorithm-design/ansaetze-and-variational-forms/ansatz-workflow.svg)\n",
    "\n",
    "[variational]: #definition-tooltip \"Layers of parameterized gates that are repeated a certain number of times, and the parameters of the gates are optimized during the algorithm to minimize the cost function..\"\n",
    "\n",
    "[ansatz]: #definition-tooltip \"Combination of a reference operator and a variational form, to describe the search space that we're exploring.\""
   ]
  },
  {
   "attachments": {},
   "cell_type": "markdown",
   "id": "5ebac8e8-6451-46e5-8a01-099f84296a17",
   "metadata": {},
   "source": [
    "## Parameterized Quantum Circuits\n",
    "\n",
    "Variational algorithms operate by exploring and comparing a range of quantum states $|\\psi(\\vec{\\theta})\\rangle$, which depend on a finite set of $k$ parameters $\\vec{\\theta} = (\\theta^0, \\ldots, \\theta^{k-1})$. These states can be prepared using a parametrized quantum circuit, where gates are defined with tunable parameters. It is possible to create this parametrized circuit without binding specific angles yet:"
   ]
  },
  {
   "cell_type": "code",
   "execution_count": 1,
   "id": "4c564fab-ed65-4949-b27f-658b0f1ed621",
   "metadata": {},
   "outputs": [
    {
     "data": {
      "text/plain": [
       "<Image src=\"/learning/images/courses/variational-algorithm-design/ansaetze-and-variational-forms/extracted-outputs/4c564fab-ed65-4949-b27f-658b0f1ed621-0.avif\" alt=\"Output of the previous code cell\" />"
      ]
     },
     "execution_count": 1,
     "metadata": {},
     "output_type": "execute_result"
    }
   ],
   "source": [
    "from qiskit.circuit import QuantumCircuit, Parameter\n",
    "\n",
    "theta = Parameter(\"θ\")\n",
    "\n",
    "qc = QuantumCircuit(3)\n",
    "qc.rx(theta, 0)\n",
    "qc.cx(0, 1)\n",
    "qc.x(2)\n",
    "\n",
    "qc.draw(\"mpl\")"
   ]
  },
  {
   "cell_type": "code",
   "execution_count": 2,
   "id": "4096d161-2916-472b-8abc-d4a6b78955cf",
   "metadata": {},
   "outputs": [
    {
     "data": {
      "text/plain": [
       "<Image src=\"/learning/images/courses/variational-algorithm-design/ansaetze-and-variational-forms/extracted-outputs/4096d161-2916-472b-8abc-d4a6b78955cf-0.avif\" alt=\"Output of the previous code cell\" />"
      ]
     },
     "metadata": {},
     "output_type": "display_data"
    },
    {
     "data": {
      "text/plain": [
       "<Image src=\"/learning/images/courses/variational-algorithm-design/ansaetze-and-variational-forms/extracted-outputs/4096d161-2916-472b-8abc-d4a6b78955cf-1.avif\" alt=\"Output of the previous code cell\" />"
      ]
     },
     "metadata": {},
     "output_type": "display_data"
    }
   ],
   "source": [
    "from math import pi\n",
    "\n",
    "angle_list = [pi / 3, pi / 2]\n",
    "circuits = [qc.assign_parameters({theta: angle}) for angle in angle_list]\n",
    "\n",
    "for circuit in circuits:\n",
    "    display(circuit.draw(\"mpl\"))"
   ]
  },
  {
   "attachments": {},
   "cell_type": "markdown",
   "id": "f01221c4-f7ee-496a-a664-4b3abc0748c2",
   "metadata": {},
   "source": [
    "## Variational Form and Ansatz\n",
    "\n",
    "To iteratively optimize from a reference state $|\\rho\\rangle$ to a target state $|\\psi(\\vec\\theta)\\rangle$, we need to define a variational form $U_V(\\vec{\\theta})$ that represents a collection of parametrized states for our variational algorithm to explore:\n",
    "\n",
    "$$\n",
    "\\begin{aligned}\n",
    "|0\\rangle \\xrightarrow{U_R} U_R|0\\rangle\n",
    "\n",
    "& = |\\rho\\rangle \\xrightarrow{U_V(\\vec{\\theta})} U_A(\\vec{\\theta})|0\\rangle \\\\[1mm]\n",
    "\n",
    "& = U_V(\\vec{\\theta})U_R|0\\rangle \\\\[1mm]\n",
    "\n",
    "& = U_V(\\vec{\\theta})|\\rho\\rangle \\\\[1mm]\n",
    "\n",
    "& = |\\psi(\\vec{\\theta})\\rangle \\\\[1mm]\n",
    "\n",
    "\\end{aligned}\n",
    "$$\n",
    "\n",
    "Note that the parametrized state depends on both the reference state $|\\rho\\rangle$, which does not depend on any parameters, and the variational form $U_V(\\vec{\\theta})$, which always depends on parameters. We refer to the combination of these two halves as an ansatz: $U_A(\\vec\\theta) := U_V(\\vec\\theta)U_R$.\n",
    "\n",
    "As we construct our ansatz to represent a collection of parametrized states for our variational algorithm to explore, we realize an important issue: dimensionality. An $n$-qubit system (i.e., Hilbert space) has a vast number of distinct quantum states in the configuration space. We would require an unwieldy number of parameters to fully explore it. Quantitatively, its dimensionality is $D = 2^{2n}$. To make matters worse, the runtime complexity of search algorithms, and others alike, grows exponentially with this dimensionality, a phenomenon often referred to in the literature as the curse of dimensionality.\n",
    "\n",
    "To counter this setback, it is common practice to impose some reasonable constraints on the variational form such that only the most relevant states are explored. Finding an efficient truncated ansatz is an active area of research, but we'll cover two common designs."
   ]
  },
  {
   "attachments": {},
   "cell_type": "markdown",
   "id": "6d6caf9e-4eb0-4ae1-b9be-6fcfacd23b39",
   "metadata": {},
   "source": [
    "## Heuristic ansaetze and trade-offs\n",
    "\n",
    "If you do not have any information about your particular problem that can help restrict the dimensionality, you can try an arbitrary family of parameterized circuits with fewer than $2^{2n}$ parameters. However, there are some trade-offs to consider:\n",
    "\n",
    "- **Speed**: By reducing the search space, the algorithm can run faster.\n",
    "- **Accuracy**: Reducing the space could risk excluding the actual solution to the problem, leading to suboptimal solutions.\n",
    "- **Noise**: Deeper circuits are affected by noise, so we need to experiment with our ansatz's connectivity, gates, and gate fidelity.\n",
    "\n",
    "There is a fundamental trade-off between quality (or even solvability) and speed: the more parameters, the more likely you are to find a precise result, but the longer it will take to run the algorithm."
   ]
  },
  {
   "attachments": {},
   "cell_type": "markdown",
   "id": "136b5311-f52b-47a0-a7d2-3f1255b0270e",
   "metadata": {},
   "source": [
    "### N-local circuits\n",
    "\n",
    "One of the most widely used examples of heuristic ansaetze is the [N-local circuits](/docs/api/qiskit/qiskit.circuit.library.NLocal), for a few reasons:\n",
    "\n",
    "- **Efficient implementation**: The N-local ansatz is typically composed of simple, local gates that can be implemented efficiently on a quantum computer, using a small number of physical qubits. This makes it easier to construct and optimize quantum circuits.\n",
    "- **Captures important correlations**: The N-local ansatz can capture important correlations between the qubits in a quantum system, even with a small number of gates. This is because the local gates can act on neighboring qubits and create entanglement between them, which can be important for simulating complex quantum systems.\n",
    "\n",
    "These circuits consist of rotation and entanglement layers that are repeated alternatively one or more times as follows:\n",
    "\n",
    "- Each layer is formed by gates of size at most $N$, where $N$ has to be lower than the number of qubits.\n",
    "- For a rotation layer, the gates are stacked on top of each other. We can use standard rotation operations, such as [`RX`](/docs/api/qiskit/qiskit.circuit.library.RXGate) or [`CRZ`](/docs/api/qiskit/qiskit.circuit.library.CRZGate).\n",
    "- For an entanglement layer, we can use gates like [`Toffoli` gates](/docs/api/qiskit/qiskit.circuit.library.CCXGate) or [`CX`](/docs/api/qiskit/qiskit.circuit.library.CXGate) with an entanglement strategy.\n",
    "- Both types of layers can be parameterized or not, but at least one of them needs to contain parameters. Otherwise, without at least one parameter, there wouldn't be any variations!\n",
    "- Optionally, an extra rotation layer is added to the end of the circuit.\n",
    "\n",
    "For example, let's create a five-qubit [`NLocal`](/docs/api/qiskit/qiskit.circuit.library.NLocal) circuit with rotation blocks formed by [`RX`](/docs/api/qiskit/qiskit.circuit.library.RXGate) and [`CRZ`](/docs/api/qiskit/qiskit.circuit.library.CRZGate) gates, entanglement blocks formed by [`Toffoli` gates](/docs/api/qiskit/qiskit.circuit.library.CCXGate) that act on qubits $[0,1,2]$, $[0,2,3]$, $[4,2,1]$ and $[3,1,0]$ and $2$ repetitions of each layer."
   ]
  },
  {
   "cell_type": "code",
   "execution_count": 3,
   "id": "c28d7b53-fbd7-42f5-a619-5a6b0b44e9fc",
   "metadata": {},
   "outputs": [
    {
     "data": {
      "text/plain": [
       "<Image src=\"/learning/images/courses/variational-algorithm-design/ansaetze-and-variational-forms/extracted-outputs/c28d7b53-fbd7-42f5-a619-5a6b0b44e9fc-0.avif\" alt=\"Output of the previous code cell\" />"
      ]
     },
     "execution_count": 3,
     "metadata": {},
     "output_type": "execute_result"
    }
   ],
   "source": [
    "from qiskit.circuit.library import NLocal, CCXGate, CRZGate, RXGate\n",
    "from qiskit.circuit import Parameter\n",
    "\n",
    "theta = Parameter(\"θ\")\n",
    "ansatz = NLocal(\n",
    "    num_qubits=5,\n",
    "    rotation_blocks=[RXGate(theta), CRZGate(theta)],\n",
    "    entanglement_blocks=CCXGate(),\n",
    "    entanglement=[[0, 1, 2], [0, 2, 3], [4, 2, 1], [3, 1, 0]],\n",
    "    reps=2,\n",
    "    insert_barriers=True,\n",
    ")\n",
    "ansatz.decompose().draw(\"mpl\")"
   ]
  },
  {
   "attachments": {},
   "cell_type": "markdown",
   "id": "d293b8cc-1512-4a65-a3f7-94a979d1736b",
   "metadata": {},
   "source": [
    "In the above example, the largest gate is the Toffoli gate, which acts on three qubits, making the circuit $3$-local. The most commonly used type of $N$-local circuits are [$2$-local](/docs/api/qiskit/qiskit.circuit.library.TwoLocal) circuits with single-qubit rotation gates and $2$-qubit entanglement gates.\n",
    "\n",
    "Let's create a $2$-local circuit using Qiskit's [`TwoLocal`](/docs/api/qiskit/qiskit.circuit.library.TwoLocal) class. The syntax is the same as `NLocal`, but there are some differences. For instance, most gates, such as `RX`, `RZ`, and `CNOT`, can be passed as strings without importing the gates or creating a `Parameter` instance."
   ]
  },
  {
   "cell_type": "code",
   "execution_count": 4,
   "id": "c48521ee-db12-449e-af9f-7d8ec0fa7890",
   "metadata": {},
   "outputs": [
    {
     "data": {
      "text/plain": [
       "<Image src=\"/learning/images/courses/variational-algorithm-design/ansaetze-and-variational-forms/extracted-outputs/c48521ee-db12-449e-af9f-7d8ec0fa7890-0.avif\" alt=\"Output of the previous code cell\" />"
      ]
     },
     "execution_count": 4,
     "metadata": {},
     "output_type": "execute_result"
    }
   ],
   "source": [
    "from qiskit.circuit.library import TwoLocal\n",
    "\n",
    "ansatz = TwoLocal(\n",
    "    num_qubits=5,\n",
    "    rotation_blocks=[\"rx\", \"rz\"],\n",
    "    entanglement_blocks=\"cx\",\n",
    "    entanglement=\"linear\",\n",
    "    reps=2,\n",
    "    insert_barriers=True,\n",
    ")\n",
    "ansatz.decompose().draw(\"mpl\")"
   ]
  },
  {
   "attachments": {},
   "cell_type": "markdown",
   "id": "a6e80571-9bb4-4e33-9581-2c48cad1a566",
   "metadata": {},
   "source": [
    "In this case, we used the linear entanglement distribution, where each qubit is entangled with the next. To learn about other strategies, refer to the [`TwoLocal` documentation](/docs/api/qiskit/qiskit.circuit.library.TwoLocal)."
   ]
  },
  {
   "attachments": {},
   "cell_type": "markdown",
   "id": "65d39e58-e54b-4ea3-95bf-ee68d9b89832",
   "metadata": {},
   "source": [
    "### EfficientSU2\n",
    "\n",
    "[`EfficientSU2`](/docs/api/qiskit/qiskit.circuit.library.EfficientSU2) is a hardware-efficient circuit that consists of layers of single-qubit operations spanning SU(2) and `CX` entanglements. This is a heuristic pattern that can be used to prepare trial wave functions for variational quantum algorithms or as a classification circuit for machine learning."
   ]
  },
  {
   "cell_type": "code",
   "execution_count": 5,
   "id": "5abc6f15-d7f5-466a-9659-78a11a2c5270",
   "metadata": {},
   "outputs": [
    {
     "data": {
      "text/plain": [
       "<Image src=\"/learning/images/courses/variational-algorithm-design/ansaetze-and-variational-forms/extracted-outputs/5abc6f15-d7f5-466a-9659-78a11a2c5270-0.avif\" alt=\"Output of the previous code cell\" />"
      ]
     },
     "execution_count": 5,
     "metadata": {},
     "output_type": "execute_result"
    }
   ],
   "source": [
    "from qiskit.circuit.library import EfficientSU2\n",
    "\n",
    "ansatz = EfficientSU2(4, su2_gates=[\"rx\", \"y\"], entanglement=\"linear\", reps=1)\n",
    "ansatz.decompose().draw(\"mpl\")"
   ]
  },
  {
   "attachments": {},
   "cell_type": "markdown",
   "id": "14d01a25-2e2a-47e5-9c50-910599c59502",
   "metadata": {},
   "source": [
    "## Problem-specific ansaetze\n",
    "\n",
    "While heuristic and hardware efficient ansaetze help us to solve a problem in a naive way, we can use problem-specific knowledge to restrict our circuit search space to a specific type. This will help us to gain speed without losing accuracy in our search process."
   ]
  },
  {
   "attachments": {},
   "cell_type": "markdown",
   "id": "ae376a5f-004c-44af-a6ba-4e4419e350c3",
   "metadata": {},
   "source": [
    "### Optimization\n",
    "\n",
    "In a max-cut problem, we want to partition nodes of a graph in a way that maximizes the number of edges between nodes in differing groups. The desired max-cut partition for the graph below is clear: the 0th-node on the left should be separated from the rest of the nodes on the right by a cut."
   ]
  },
  {
   "cell_type": "code",
   "execution_count": 6,
   "id": "ef9a5e1d-f70a-4f59-9112-2d8f71b253ba",
   "metadata": {},
   "outputs": [
    {
     "data": {
      "text/plain": [
       "<Image src=\"/learning/images/courses/variational-algorithm-design/ansaetze-and-variational-forms/extracted-outputs/ef9a5e1d-f70a-4f59-9112-2d8f71b253ba-0.avif\" alt=\"Output of the previous code cell\" />"
      ]
     },
     "metadata": {},
     "output_type": "display_data"
    }
   ],
   "source": [
    "import rustworkx as rx\n",
    "from rustworkx.visualization import mpl_draw\n",
    "\n",
    "n = 4\n",
    "G = rx.PyGraph()\n",
    "G.add_nodes_from(range(n))\n",
    "# The edge syntax is (start, end, weight)\n",
    "edges = [(0, 1, 1.0), (0, 2, 1.0), (0, 3, 1.0), (1, 2, 1.0), (2, 3, 1.0)]\n",
    "G.add_edges_from(edges)\n",
    "\n",
    "mpl_draw(\n",
    "    G, pos=rx.shell_layout(G), with_labels=True, edge_labels=str, node_color=\"#1192E8\"\n",
    ")"
   ]
  },
  {
   "cell_type": "markdown",
   "id": "65d72527-77b1-4eb4-93e5-762a5f55b838",
   "metadata": {},
   "source": [
    "To utilize QAOA algorithm for a max-cut problem, we require a Pauli Hamiltonian that encodes the cost in a manner such that the minimum expectation value of the operator corresponds to the maximum number of edges between the nodes in two different groups.\n",
    "\n",
    "For this simple example, the operator is a linear combination of terms with Z operators on nodes connected by an edge (recall that the 0th qubit is farthest right): $ZZII + IZZI + ZIIZ + IZIZ + IIZZ$. Once the operator is constructed, the ansatz for the QAOA algorithm can easily be built by using the `QAOAAnsatz` circuit from the Qiskit circuit library."
   ]
  },
  {
   "cell_type": "code",
   "execution_count": 7,
   "id": "69599589-689e-4e0f-8135-937aedd9430d",
   "metadata": {},
   "outputs": [
    {
     "data": {
      "text/plain": [
       "<Image src=\"/learning/images/courses/variational-algorithm-design/ansaetze-and-variational-forms/extracted-outputs/69599589-689e-4e0f-8135-937aedd9430d-0.avif\" alt=\"Output of the previous code cell\" />"
      ]
     },
     "execution_count": 7,
     "metadata": {},
     "output_type": "execute_result"
    }
   ],
   "source": [
    "# Pre-defined ansatz circuit, operator class and visualization tools\n",
    "from qiskit.circuit.library import QAOAAnsatz\n",
    "from qiskit.quantum_info import SparsePauliOp\n",
    "\n",
    "# Problem to Hamiltonian operator\n",
    "hamiltonian = SparsePauliOp.from_list(\n",
    "    [(\"ZZII\", 1), (\"IZZI\", 1), (\"ZIIZ\", 1), (\"IZIZ\", 1), (\"IIZZ\", 1)]\n",
    ")\n",
    "# QAOA ansatz circuit\n",
    "ansatz = QAOAAnsatz(hamiltonian, reps=2)\n",
    "# Draw\n",
    "ansatz.decompose(reps=3).draw(\"mpl\")"
   ]
  },
  {
   "cell_type": "markdown",
   "id": "23728bd9-ac92-4e3a-a886-2238fc5287ad",
   "metadata": {},
   "source": [
    "The previous image illustrates the ansatz in basic gates for clarity. However, it can be expressed in multiple levels of decomposition by changing the `reps` argument or by drawing the circuit without the decompose method. For example, the following representation directly shows the QAOA structure with the default reps value, which is `reps=1`."
   ]
  },
  {
   "cell_type": "code",
   "execution_count": 8,
   "id": "9724a36b-aae6-4d98-aad2-1090f0e1a941",
   "metadata": {},
   "outputs": [
    {
     "data": {
      "text/plain": [
       "<Image src=\"/learning/images/courses/variational-algorithm-design/ansaetze-and-variational-forms/extracted-outputs/9724a36b-aae6-4d98-aad2-1090f0e1a941-0.avif\" alt=\"Output of the previous code cell\" />"
      ]
     },
     "execution_count": 8,
     "metadata": {},
     "output_type": "execute_result"
    }
   ],
   "source": [
    "ansatz.decompose(reps=2).draw(\"mpl\")"
   ]
  },
  {
   "attachments": {},
   "cell_type": "markdown",
   "id": "6a8aa7fc-3f80-46b2-b520-b6006d75a404",
   "metadata": {},
   "source": [
    "### Quantum Machine Learning\n",
    "\n",
    "In machine learning, a common application is the classification of data into two or more categories. This involves encoding a datapoint into a feature map that maps classical feature vectors into the quantum Hilbert space. Constructing quantum feature maps based on parameterized quantum circuits that are hard to simulate classically is an important step towards obtaining a potential advantage over classical machine learning approaches and is an active area of current research.\n",
    "\n",
    "The ZZFeatureMap can be used to create a parameterized circuit. We can pass in our data points to the feature map ($x$) and a separate variational form to pass in weights as parameters ($\\theta$)."
   ]
  },
  {
   "cell_type": "code",
   "execution_count": 9,
   "id": "9d3a813b-40cf-4399-b912-714893987c30",
   "metadata": {},
   "outputs": [
    {
     "data": {
      "text/plain": [
       "<Image src=\"/learning/images/courses/variational-algorithm-design/ansaetze-and-variational-forms/extracted-outputs/9d3a813b-40cf-4399-b912-714893987c30-0.avif\" alt=\"Output of the previous code cell\" />"
      ]
     },
     "execution_count": 9,
     "metadata": {},
     "output_type": "execute_result"
    }
   ],
   "source": [
    "from qiskit.circuit.library import ZZFeatureMap, TwoLocal\n",
    "\n",
    "data = [0.1, 0.2]\n",
    "\n",
    "zz_feature_map_reference = ZZFeatureMap(feature_dimension=2, reps=2)\n",
    "zz_feature_map_reference = zz_feature_map_reference.assign_parameters(data)\n",
    "\n",
    "variation_form = TwoLocal(2, [\"ry\", \"rz\"], \"cz\", reps=2)\n",
    "vqc_ansatz = zz_feature_map_reference.compose(variation_form)\n",
    "vqc_ansatz.decompose().draw(\"mpl\")"
   ]
  },
  {
   "attachments": {},
   "cell_type": "markdown",
   "id": "4a1b37bd-8de9-479b-8453-1d8942492731",
   "metadata": {},
   "source": [
    "## Summary\n",
    "\n",
    "With this lesson, you learned how to define your search space with a variational form:\n",
    "\n",
    "- Prepare states with a _parametrized_ quantum circuit, where gates are defined with tunable parameters\n",
    "- How to construct ansaetze that tradeoff speed vs accuracy\n",
    "- Heuristic ansaetze\n",
    "- Problem-specific ansaetze\n",
    "\n",
    "Our high-level variational workload looks as follows:\n",
    "\n",
    "![A circuit diagram showing two unitaries: one preparing the reference state and another preparing the ansatz.](/learning/images/courses/variational-algorithm-design/ansaetze-and-variational-forms/ansatz-circuit.svg)\n",
    "\n",
    "For each variational parameter $\\vec\\theta$, a different quantum state will be produced. To find the optimal parameters, we need to define a problem-specific *cost function* to iteratively update our ansatz's parameters."
   ]
  }
 ],
 "metadata": {
  "description": "This lesson explains what an ansatz is and how it differs from the reference state. Examples of ansaetze are given.",
  "kernelspec": {
   "display_name": "Python 3",
   "language": "python",
   "name": "python3"
  },
  "language_info": {
   "codemirror_mode": {
    "name": "ipython",
    "version": 3
   },
   "file_extension": ".py",
   "mimetype": "text/x-python",
   "name": "python",
   "nbconvert_exporter": "python",
   "pygments_lexer": "ipython3",
   "version": "3"
  },
  "title": "ansaetze and variational forms"
 },
 "nbformat": 4,
 "nbformat_minor": 2
}
