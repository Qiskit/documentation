{
 "cells": [
  {
   "attachments": {},
   "cell_type": "markdown",
   "id": "2a246d14-ed2b-4573-bf97-939c3628b3bb",
   "metadata": {},
   "source": [
    "# Optimization loops\n",
    "\n",
    "During this lesson, we will learn how to use an *optimizer* to iteratively explore the parameterized quantum states of our ansatz:\n",
    "\n",
    "- Bootstrap an optimization loop\n",
    "- Understand trade-offs while using local and global optimizers\n",
    "- Explore barren plateaus and how to avoid them\n",
    "\n",
    "At a high level, optimizers are central to exploring our search space. The optimizer uses cost function evaluations to select the next set of parameters in a variational loop, and repeats the process until it reaches a stable state. At this stage, an optimal set of parameter values $\\vec\\theta^*$ is returned.\n",
    "\n",
    "![A diagram of some important factors in optimization, including barren plateaus, gradient vs gradient-free optimizers, and bootstrapping.](/learning/images/courses/variational-algorithm-design/optimization-loops/optimization-workflow.svg)"
   ]
  },
  {
   "cell_type": "markdown",
   "id": "110421e7-0d2a-4653-a195-1925c809ca61",
   "metadata": {},
   "source": [
    "## Local and Global Optimizers\n",
    "\n",
    "We'll first set up our problem before exploring each optimizer class. We will start with a circuit containing eight variational parameters:"
   ]
  },
  {
   "cell_type": "code",
   "execution_count": 1,
   "id": "15cf7810-1d25-4c54-aff0-91d3a0c51cec",
   "metadata": {},
   "outputs": [
    {
     "data": {
      "text/plain": [
       "<Image src=\"/learning/images/courses/variational-algorithm-design/optimization-loops/extracted-outputs/15cf7810-1d25-4c54-aff0-91d3a0c51cec-0.avif\" alt=\"Output of the previous code cell\" />"
      ]
     },
     "execution_count": 1,
     "metadata": {},
     "output_type": "execute_result"
    }
   ],
   "source": [
    "from qiskit import QuantumCircuit\n",
    "from qiskit.quantum_info import SparsePauliOp\n",
    "from qiskit.circuit.library import TwoLocal\n",
    "import numpy as np\n",
    "\n",
    "theta_list = (2 * np.pi * np.random.rand(1, 8)).tolist()\n",
    "observable = SparsePauliOp.from_list([(\"XX\", 1), (\"YY\", -3)])\n",
    "\n",
    "reference_circuit = QuantumCircuit(2)\n",
    "reference_circuit.x(0)\n",
    "\n",
    "variational_form = TwoLocal(\n",
    "    2,\n",
    "    rotation_blocks=[\"rz\", \"ry\"],\n",
    "    entanglement_blocks=\"cx\",\n",
    "    entanglement=\"linear\",\n",
    "    reps=1,\n",
    ")\n",
    "ansatz = reference_circuit.compose(variational_form)\n",
    "\n",
    "ansatz.decompose().draw(\"mpl\")"
   ]
  },
  {
   "cell_type": "code",
   "execution_count": 2,
   "id": "950569c0-4e8f-49b5-b118-7cd227bd5ce1",
   "metadata": {},
   "outputs": [],
   "source": [
    "def cost_func_vqe(params, ansatz, hamiltonian, estimator):\n",
    "    \"\"\"Return estimate of energy from estimator\n",
    "\n",
    "    Parameters:\n",
    "        params (ndarray): Array of ansatz parameters\n",
    "        ansatz (QuantumCircuit): Parameterized ansatz circuit\n",
    "        hamiltonian (SparsePauliOp): Operator representation of Hamiltonian\n",
    "        estimator (Estimator): Estimator primitive instance\n",
    "\n",
    "    Returns:\n",
    "        float: Energy estimate\n",
    "    \"\"\"\n",
    "    pub = (ansatz, hamiltonian, params)\n",
    "    cost = estimator.run([pub]).result()[0].data.evs\n",
    "    return cost"
   ]
  },
  {
   "cell_type": "code",
   "execution_count": 3,
   "id": "f536ee50-373f-4873-b258-66c5c07c65c5",
   "metadata": {},
   "outputs": [],
   "source": [
    "from qiskit.primitives import StatevectorEstimator\n",
    "\n",
    "estimator = StatevectorEstimator()"
   ]
  },
  {
   "cell_type": "markdown",
   "id": "c9dcec4d-5b84-4731-8b5a-cb8a0f7572d5",
   "metadata": {},
   "source": [
    "### Local Optimizers\n",
    "\n",
    "Local optimizers search for a point that minimizes the cost function starting at an initial point(s) $C(\\vec{\\theta_0})$ and move to different points based on what they observe in the region they are currently evaluating on successive iterations. This implies that the convergence of these algorithms will usually be fast, but can be heavily dependent on the initial point. Local optimizers are unable to see beyond the region where they are evaluating and can be especially vulnerable to local minima, reporting convergence when they find one and ignoring other states with more favorable evaluations."
   ]
  },
  {
   "cell_type": "code",
   "execution_count": 4,
   "id": "447df742-13bd-4d4a-a364-41d34380cbc9",
   "metadata": {},
   "outputs": [
    {
     "data": {
      "text/plain": [
       " message: Optimization terminated successfully\n",
       " success: True\n",
       "  status: 0\n",
       "     fun: -3.9999999964520634\n",
       "       x: [ 1.000e+00  1.000e+00 -1.571e+00 -4.556e-05 -1.207e+00\n",
       "           -1.935e+00  4.079e-01 -4.079e-01]\n",
       "     nit: 12\n",
       "     jac: [ 0.000e+00  0.000e+00 -7.957e-04  2.543e-04  1.381e-03\n",
       "            1.381e-03  5.430e-04  5.431e-04]\n",
       "    nfev: 112\n",
       "    njev: 12"
      ]
     },
     "execution_count": 4,
     "metadata": {},
     "output_type": "execute_result"
    }
   ],
   "source": [
    "# SciPy minimizer routine\n",
    "from scipy.optimize import minimize\n",
    "\n",
    "x0 = np.ones(8)\n",
    "\n",
    "result = minimize(\n",
    "    cost_func_vqe, x0, args=(ansatz, observable, estimator), method=\"SLSQP\"\n",
    ")\n",
    "\n",
    "result"
   ]
  },
  {
   "cell_type": "markdown",
   "id": "25fee3f4-9d3e-45ce-a104-dfde5e132b2b",
   "metadata": {},
   "source": [
    "### Global optimizers\n",
    "\n",
    "Global optimizers search for the point that minimizes the cost function over several regions of its domain (i.e., non-local), evaluating it iteratively (i.e., at iteration $i$) over a set of parameter vectors $\\Theta_i := \\\\{ {\\vec\\theta_{i,j} | j \\in \\mathcal{J}_\\text{opt}^i} \\\\}$ determined by the optimizer. This makes them less susceptible to local minima and somewhat independent of initialization, but also significantly slower to converge to a proposed solution."
   ]
  },
  {
   "cell_type": "markdown",
   "id": "8d794038-8e75-4649-a978-a9e832ebed60",
   "metadata": {},
   "source": [
    "### Bootstrapping Optimization\n",
    "\n",
    "*Bootstrapping*, or setting the initial value for parameters $\\vec\\theta$ based on a prior optimization, can help our optimizer converge on a solution faster. We refer to this as the initial point $\\vec\\theta_0$, and $|\\psi(\\vec\\theta_0)\\rangle = U_V(\\vec\\theta_0)|\\rho\\rangle$ as the initial state. This initial state differs from our reference state $|\\rho\\rangle$, as the former focuses on initial parameters set during our optimization loop, while the latter focuses on using known \"reference\" solutions. They may coincide if $U_V(\\vec\\theta_0) \\equiv I$ (i.e., the identity operation).\n",
    "\n",
    "When local optimizers converge to non-optimal local minima, we can try bootstrapping the optimization globally and refine the convergence locally. While this requires setting up two variational workloads, it allows the optimizer to find a more optimal solution than the local optimizer alone."
   ]
  },
  {
   "attachments": {},
   "cell_type": "markdown",
   "id": "07ba982e-9280-4e15-9d8c-4b6460b1deea",
   "metadata": {
    "gloss": {
     "hyperparameter": {
      "text": "A hyperparameter is a parameter that we use to control our algorithm. The ‘hyper’ distinguishes it from the parameters (θ) that our algorithm is trying to find.",
      "title": "Hyperparameter"
     },
     "local-minimum": {
      "text": "A local minimum is the lowest point of the function, for a small range of values of theta. In contrast, a global minimum is <i>the</i> lowest point, anywhere in our function (i.e. for any value of theta). <a href='https://en.wikipedia.org/wiki/Maxima_and_minima'>Read more</a>.",
      "title": "Local minimum"
     }
    }
   },
   "source": [
    "## Gradient-Based and Gradient-Free Optimizers\n",
    "\n",
    "### Gradient-Based\n",
    "\n",
    "For our cost function $C(\\vec\\theta)$, if we have access to the gradient of the function $\\vec{\\nabla} C(\\vec\\theta)$ starting from an initial point, the simplest way to minimize the function is to update the parameters towards the direction of steepest descent of the function. That is, we update the parameters as $\\vec\\theta_{n+1} = \\vec\\theta_n - \\eta \\vec{\\nabla} C(\\vec\\theta)$, where $\\eta$ is the learning rate - a small, positive [hyperparameter][hyperparameter] that controls the size of the update. We continue doing this until we converge to a [local minimum][local-minimum] of the cost function, $C({\\vec\\theta^*})$.\n",
    "\n",
    "[hyperparameter]: #definition-tooltip \"A hyperparameter is a parameter that we use to control our algorithm. The 'hyper' distinguishes it from the parameters (θ) that our algorithm is trying to find.\"\n",
    "\n",
    "[local-minimum]: #definition-tooltip \"A local minimum is the lowest point of the function, for a small range of values of theta. In contrast, a global minimum is the lowest point, anywhere in our function (i.e. for any value of θ).\""
   ]
  },
  {
   "attachments": {},
   "cell_type": "markdown",
   "id": "0897260d-f3f8-4caa-8a79-f258e41f8e21",
   "metadata": {},
   "source": [
    "We can use this cost function and an optimizer to calculate optimal parameters"
   ]
  },
  {
   "cell_type": "code",
   "execution_count": 5,
   "id": "aad81101-3c19-4946-8453-3db9df3369c0",
   "metadata": {},
   "outputs": [
    {
     "data": {
      "text/plain": [
       "  message: Optimization terminated successfully.\n",
       "  success: True\n",
       "   status: 0\n",
       "      fun: -3.9999999999997025\n",
       "        x: [ 1.000e+00  1.000e+00  1.571e+00  3.220e-07  2.009e-01\n",
       "            -2.009e-01  6.342e-01 -6.342e-01]\n",
       "      nit: 14\n",
       "      jac: [-1.192e-07 -2.980e-08  8.345e-07  1.103e-06  5.960e-08\n",
       "             0.000e+00 -5.960e-08  2.980e-08]\n",
       " hess_inv: [[ 1.000e+00  1.872e-10 ...  5.077e-05  3.847e-05]\n",
       "            [ 1.872e-10  1.000e+00 ... -5.208e-05 -4.060e-05]\n",
       "            ...\n",
       "            [ 5.077e-05 -5.208e-05 ...  7.243e-01 -2.604e-01]\n",
       "            [ 3.847e-05 -4.060e-05 ... -2.604e-01  8.179e-01]]\n",
       "     nfev: 144\n",
       "     njev: 16"
      ]
     },
     "execution_count": 5,
     "metadata": {},
     "output_type": "execute_result"
    }
   ],
   "source": [
    "# SciPy minimizer routine\n",
    "from scipy.optimize import minimize\n",
    "\n",
    "x0 = np.ones(8)\n",
    "\n",
    "result = minimize(\n",
    "    cost_func_vqe, x0, args=(ansatz, observable, estimator), method=\"BFGS\"\n",
    ")\n",
    "\n",
    "result"
   ]
  },
  {
   "attachments": {},
   "cell_type": "markdown",
   "id": "0f7d55f8-e3a2-4223-b456-17b39a81f524",
   "metadata": {},
   "source": [
    "The main disadvantages of this type of optimization are the convergence speed, which can be very slow, and there is no guarantee to achieve the optimal solution.\n",
    "\n",
    "![graph of f(theta) against theta, multiple dots show different states of a gradient descent algorithm finding the minimum of a curve.](/learning/images/courses/variational-algorithm-design/optimization-loops/optimization-gradient-descent.svg)\n",
    "\n",
    "### Gradient-Free\n",
    "\n",
    "Gradient-free optimization algorithms do not require gradient information and can be useful in situations where computing the gradient is difficult, expensive, or too noisy. They also tend to be more robust in finding global optima, whereas gradient-based methods tend to converge to local optima. We'll explore a few instances where a gradient-free optimizer can help avoid barren plateaus. However, gradient-free methods require higher computational resources, especially for problems with high-dimensional search spaces.\n",
    "\n",
    "Here's an example that uses the [`COBYLA`](https://docs.scipy.org/doc/scipy/reference/optimize.minimize-cobyla.html#optimize-minimize-cobyla) optimizer instead:"
   ]
  },
  {
   "cell_type": "code",
   "execution_count": 6,
   "id": "c749695b-3124-47d8-8a23-10c9d5965a7f",
   "metadata": {},
   "outputs": [
    {
     "data": {
      "text/plain": [
       " message: Optimization terminated successfully.\n",
       " success: True\n",
       "  status: 1\n",
       "     fun: -3.999999973369678\n",
       "       x: [ 1.631e+00  1.492e+00  1.571e+00  3.142e+00  1.375e+00\n",
       "           -1.767e+00  1.484e+00  1.658e+00]\n",
       "    nfev: 137\n",
       "   maxcv: 0.0"
      ]
     },
     "execution_count": 6,
     "metadata": {},
     "output_type": "execute_result"
    }
   ],
   "source": [
    "# SciPy minimizer routine\n",
    "from scipy.optimize import minimize\n",
    "\n",
    "x0 = np.ones(8)\n",
    "\n",
    "result = minimize(\n",
    "    cost_func_vqe, x0, args=(ansatz, observable, estimator), method=\"COBYLA\"\n",
    ")\n",
    "\n",
    "result"
   ]
  },
  {
   "attachments": {},
   "cell_type": "markdown",
   "id": "396d0617-9f20-48cb-b57c-30dfa54293ff",
   "metadata": {
    "gloss": {
     "barren-plateaus": {
      "text": "When gradients of parametrized quantum circuits become exponentially small with respect to the number of qubits, making optimization difficult and potentially impossible.",
      "title": "Barren Plateaus"
     }
    }
   },
   "source": [
    "## Barren Plateaus\n",
    "\n",
    "In fact, the cost landscape can be quite complicated, as shown by the hills and valleys in the example below. The optimization method navigates us around the cost landscape, searching for the minimum, as shown by the black points and lines. We can see that two of the three searches end up in a local minimum of the landscape, rather than a global one.\n",
    "\n",
    "![A complicated curved manifold with many peaks and troughs.](/learning/images/courses/variational-algorithm-design/optimization-loops/optimization-loss-landscape.svg)\n",
    "\n",
    "\n",
    "Regardless of the type of optimization method used, if the cost landscape is relatively flat, it can be challenging for the method to determine the appropriate direction to search. This scenario is referred to as a [barren plateau][barren-plateaus], where the cost landscape becomes progressively flatter (and thus more challenging to determine the direction to the minimum). For a broad range of parameterized quantum circuits, the probability that the gradient along any reasonable direction is non-zero to some fixed precision decreases exponentially as the number of qubits increases.\n",
    "\n",
    "![A diagram of a geographic plateau compared to a slope of a mountain, to explain why a gradient helps us find a minimum and a plateau hinders our efforts.](/learning/images/courses/variational-algorithm-design/optimization-loops/optimization-barren-plateaus.svg)\n",
    "\n",
    "While this area is still under active research, we have a few recommendations to improve optimization performance:\n",
    "\n",
    "- **Bootstrapping** can help the optimization loop avoid getting stuck in a parameter space where the gradient is small.\n",
    "- **Experimenting with hardware-efficient ansatz**: Since we're using a noisy quantum system as a black-box oracle, the quality of those evaluations can affect the optimizer's performance. Using hardware-efficient ansatz, such as [`EfficientSU2`](/docs/api/qiskit/qiskit.circuit.library.EfficientSU2), may avoid producing exponentially small gradients.\n",
    "- **Experimenting with error suppression and error mitigation**:  the Qiskit Runtime primitives provide a simple interface to experiment with various values for `optimization_level` and `resilience_setting`, respectively. This can reduce the impact of noise and make the optimization process more efficient.\n",
    "- **Experimenting with gradient-free optimizers**: Unlike gradient-based optimization algorithms, optimizers such as `COBYLA` do not rely on gradient information to optimize the parameters and are therefore less likely to be affected by the barren plateau.\n",
    "\n",
    "[barren-plateaus]: #definition-tooltip \"When gradients of parametrized quantum circuits become exponentially small with respect to the number of qubits, making optimization difficult and potentially impossible.\""
   ]
  },
  {
   "attachments": {},
   "cell_type": "markdown",
   "id": "182110bc-f952-4460-8048-d1df961ba860",
   "metadata": {},
   "source": [
    "## Summary\n",
    "\n",
    "With this lesson, you learned how to define your optimization loop:\n",
    "\n",
    "- Bootstrap an optimization loop\n",
    "- Understand trade-offs while using local and global optimizers\n",
    "- Explore barren plateaus and how to avoid them\n",
    "\n",
    "Our high-level variational workload is complete:\n",
    "\n",
    "![A quantum circuit now with both a unitary to prepare the reference state, and a second unitary to vary the state using variational parameters.](/learning/images/courses/variational-algorithm-design/optimization-loops/optimization-circuit.svg)\n",
    "\n",
    "Next, we'll explore specific variational algorithms with this framework in mind."
   ]
  }
 ],
 "metadata": {
  "description": "This lesson walks through the use of classical optimization loops to feed parameters into quantum calculations.",
  "kernelspec": {
   "display_name": "Python 3",
   "language": "python",
   "name": "python3"
  },
  "language_info": {
   "codemirror_mode": {
    "name": "ipython",
    "version": 3
   },
   "file_extension": ".py",
   "mimetype": "text/x-python",
   "name": "python",
   "nbconvert_exporter": "python",
   "pygments_lexer": "ipython3",
   "version": "3"
  },
  "title": "Optimization loops"
 },
 "nbformat": 4,
 "nbformat_minor": 2
}
