{
 "cells": [
  {
   "attachments": {},
   "cell_type": "markdown",
   "id": "da8ce695-8435-4099-b0fd-ade7b298f540",
   "metadata": {},
   "source": [
    "{/* cspell:ignore nbsp eigenbasis expvals IIZZ IZIZ IZZI ZIIZ ZZII */}\n",
    "\n",
    "# Cost functions\n",
    "\n",
    "During this lesson, we'll learn how to evaluate a *cost function*:\n",
    "\n",
    "- First, we'll learn about [Qiskit Runtime primitives](/docs/guides/primitives)\n",
    "- Define a *cost function* $C(\\vec\\theta)$. This is a problem-specific function that defines the problem's goal for the optimizer to minimize (or maximize)\n",
    "- Defining a measurement strategy with the Qiskit Runtime primitives to optimize speed versus accuracy\n",
    "\n",
    "&nbsp;\n",
    "\n",
    "![A diagram showing key components of a cost function including using primitives like estimator and sampler.](/learning/images/courses/variational-algorithm-design/cost-functions/cost-function-workflow.svg)"
   ]
  },
  {
   "attachments": {},
   "cell_type": "markdown",
   "id": "4a9b79a9-c040-43d3-a4cf-314277e30eea",
   "metadata": {
    "gloss": {
     "primitives": {
      "text": "Basic and fundamental operations or data type. Qiskit has the Sampler and Estimator primitives to serve as building blocks to easily construct complex workloads, like variational algorithms.",
      "title": "Primitives"
     }
    }
   },
   "source": [
    "## Primitives\n",
    "\n",
    "All physical systems, whether classical or quantum, can exist in different states. For example, a car on a road can have a certain mass, position, speed, or acceleration that characterize its state. Similarly, quantum systems can also have different configurations or states, but they differ from classical systems in how we deal with measurements and state evolution. This leads to unique properties such as *superposition* and *entanglement* that are exclusive to quantum mechanics. Just like we can describe a car's state using physical properties like speed or acceleration, we can also describe the state of a quantum system using *observables*, which are mathematical objects.\n",
    "\n",
    "In quantum mechanics, states are represented by normalized complex column vectors, or *kets* ($|\\psi\\rangle$), and observables are hermitian linear operators ($\\hat{H}=\\hat{H}^{\\dagger}$) that act on the kets. An eigenvector ($|\\lambda\\rangle$) of an observable is known as an *eigenstate*. Measuring an observable for one of its eigenstates ($|\\lambda\\rangle$) will give us the corresponding eigenvalue ($\\lambda$) as readout.\n",
    "\n",
    "\n",
    "If you're wondering how to measure a quantum system and what you can measure, Qiskit offers two [primitives][primitives] that can help:\n",
    "\n",
    "* `Sampler`: Given a quantum state $|\\psi\\rangle$, this primitive obtains the probability of each possible computational basis state.\n",
    "* `Estimator`: Given a quantum observable $\\hat{H}$ and a state $|\\psi\\rangle$, this primitive computes the expected value of $\\hat{H}$.\n",
    "\n",
    "[primitives]: #definition-tooltip \"Basic and fundamental operations or data type. Qiskit has the Sampler and Estimator primitives to serve as building blocks to easily construct complex algorithmic workloads.\""
   ]
  },
  {
   "attachments": {},
   "cell_type": "markdown",
   "id": "00aa7dfa-34f1-440e-bbdb-19b6e6a1aff8",
   "metadata": {},
   "source": [
    "### The Sampler primitive\n",
    "\n",
    "The `Sampler` primitive calculates the probability of obtaining each possible state $|k\\rangle$ from the computational basis, given a quantum circuit that prepares the state $|\\psi\\rangle$. It calculates\n",
    "\n",
    "$$\n",
    "p_k = |\\langle k | \\psi \\rangle|^2 \\quad \\forall k \\in \\mathbb{Z}_2^n \\equiv \\{0,1,\\cdots,2^n-1\\},\n",
    "$$\n",
    "\n",
    "Where $n$ is the number of qubits, and $k$ the integer representation of any possible output binary string $\\{0,1\\}^n$ (that is, integers base $2$).\n",
    "\n",
    "\n",
    "The Qiskit Runtime [`Sampler`](/docs/api/qiskit-ibm-runtime/sampler-v2) runs the circuit multiple times on a quantum device, performing measurements on each run, and reconstructing the probability distribution from the recovered bitstrings. The more runs (or *shots*) it performs, the more accurate the results will be, but this requires more time and quantum resources.\n",
    "\n",
    "\n",
    "However, since the number of possible outputs grows exponentially with the number of qubits $n$ (that is, $2^n$), the number of shots will need to grow exponentially as well in order to capture a _dense_ probability distribution. Therefore, `Sampler` is only efficient for *sparse* probability distributions; where the target state $|\\psi\\rangle$ must be expressible as a linear combination of the computational basis states, with the number of terms growing at most polynomially with the number of qubits:\n",
    "\n",
    "$$\n",
    "|\\psi\\rangle = \\sum^{\\text{Poly}(n)}_k w_k |k\\rangle.\n",
    "$$\n",
    "\n",
    "\n",
    "The `Sampler` can also be configured to retrieve probabilities from a subsection of the circuit, representing a subset of the total possible states."
   ]
  },
  {
   "attachments": {},
   "cell_type": "markdown",
   "id": "96a74b2b-6aa0-4ef1-a8d1-448b591429e4",
   "metadata": {
    "gloss": {
     "pauli": {
      "text": "Set of matrices commonly used in quantum computing to represent and manipulate quantum states, consisting of the identity matrix and the three Pauli matrices (X, Y, and Z).",
      "title": "Pauli Operators"
     }
    }
   },
   "source": [
    "### The Estimator primitive\n",
    "\n",
    "\n",
    "The `Estimator` primitive calculates the expectation value of an observable $\\hat{H}$ for a quantum state $|\\psi\\rangle$; where the observable probabilities can be expressed as $p_\\lambda = |\\langle\\lambda|\\psi\\rangle|^2$, being $|\\lambda\\rangle$ the eigenstates of the observable $\\hat{H}$. The expectation value is then defined as the average of all possible outcomes $\\lambda$ (that is, the eigenvalues of the observable) of a measurement of the state $|\\psi\\rangle$, weighted by the corresponding probabilities:\n",
    "\n",
    "$$\n",
    "\\langle\\hat{H}\\rangle_\\psi := \\sum_\\lambda p_\\lambda \\lambda = \\langle \\psi | \\hat{H} | \\psi \\rangle\n",
    "$$\n",
    "\n",
    "\n",
    "However, calculating the expectation value of an observable is not always possible, as we often don't know its eigenbasis. The Qiskit Runtime [`Estimator`](/docs/api/qiskit-ibm-runtime/estimator-v2) uses a complex algebraic process to estimate the expectation value on a real quantum device by breaking down the observable into a combination of other observables whose eigenbasis we do know.\n",
    "\n",
    "In simpler terms, `Estimator` breaks down any observable that it doesn't know how to measure into simpler, measurable observables called [Pauli operators][pauli].\n",
    "\n",
    "[pauli]: #definition-tooltip \"Set of matrices commonly used in quantum computing to represent and manipulate quantum states, consisting of the identity matrix and the three Pauli matrices (X, Y, and Z).\""
   ]
  },
  {
   "attachments": {},
   "cell_type": "markdown",
   "id": "6dcabf55-4462-4cf9-b6e4-e7860fd25b31",
   "metadata": {},
   "source": [
    "Any operator can be expressed as a combination of $4^n$ Pauli operators.\n",
    "\n",
    "$$\n",
    "\\hat{P}_k :=\n",
    "\\sigma_{k_{n-1}}\\otimes \\cdots \\otimes \\sigma_{k_0} \\quad\n",
    "\\forall k \\in \\mathbb{Z}_4^n \\equiv \\{0,1,\\cdots,4^n-1\\}, \\\\\n",
    "$$\n",
    "\n",
    "such that\n",
    "\n",
    "$$\n",
    "\\hat{H} = \\sum^{4^n-1}_{k=0} w_k \\hat{P}_k\n",
    "$$\n",
    "\n",
    "where $n$ is the number of qubits, $k \\equiv k_{n-1} \\cdots k_0$ for $k_l \\in \\mathbb{Z}_4 \\equiv \\{0, 1, 2, 3\\}$ (that is, integers base $4$), and $(\\sigma_0, \\sigma_1, \\sigma_2, \\sigma_3) := (I, X, Y, Z)$.\n",
    "\n",
    "After performing this decomposition, `Estimator` derives a new circuit $V_k|\\psi\\rangle$ for each observable $\\hat{P}_k$ (from the original circuit), to effectively *diagonalize* the Pauli observable in the computational basis and measure it. We can easily measure Pauli observables because we know $V_k$ ahead of time, which is not the case generally for other observables.\n",
    "\n",
    "For each $\\hat{P}_{k}$, the `Estimator` runs the corresponding circuit on a quantum device multiple times, measures the output state in the computational basis, and calculates the probability $p_{kj}$ of obtaining each possible output $j$. It then looks for the eigenvalue $\\lambda_{kj}$ of $P_k$ corresponding to each output $j$, multiplies by $w_k$, and adds all the results together to obtain the expected value of the observable $\\hat{H}$ for the given state $|\\psi\\rangle$.\n",
    "\n",
    "$$\n",
    "\\langle\\hat{H}\\rangle_\\psi =\n",
    "\\sum_{k=0}^{4^n-1} w_k \\sum_{j=0}^{2^n-1}p_{kj} \\lambda_{kj},\n",
    "$$"
   ]
  },
  {
   "attachments": {},
   "cell_type": "markdown",
   "id": "dcffb899-ef2d-4dca-b2a7-11c197d45ed0",
   "metadata": {
    "gloss": {
     "sampling": {
      "text": "The process of taking several measurements of one or several things.",
      "title": "Sampling"
     }
    }
   },
   "source": [
    "Since calculating the expectation value of $4^n$ Paulis is impractical (that is, exponentially growing), `Estimator` can only be efficient when a large amount of $w_k$ are zero (that is, *sparse* Pauli decomposition instead of *dense*). Formally we say that, for this computation to be *efficiently solvable*, the number of non-zero terms has to grow at most polynomially with the number of qubits $n$: $\\hat{H} = \\sum^{\\text{Poly}(n)}_k w_k \\hat{P}_k.$\n",
    "\n",
    "The reader may notice the implicit assumption that probability [sampling][sampling] also needs to be efficient as explained for `Sampler`, which means\n",
    "\n",
    "$$\n",
    "\\langle\\hat{H}\\rangle_\\psi =\n",
    "\\sum_{k}^{\\text{Poly}(n)} w_k \\sum_{j}^{\\text{Poly}(n)}p_{kj} \\lambda_{kj}.\n",
    "$$\n",
    "\n",
    "[sampling]: #definition-tooltip \"The process of taking several measurements of one or several things.\""
   ]
  },
  {
   "attachments": {},
   "cell_type": "markdown",
   "id": "c1547f3e-3c05-46d9-be5a-3e7e4141dc92",
   "metadata": {},
   "source": [
    "### Guided example to calculate expectation values\n",
    "\n",
    "Let's assume the single-qubit state $|+\\rangle := H|0\\rangle = \\frac{1}{\\sqrt{2}}(|0\\rangle + |1\\rangle)$, and observable\n",
    "\n",
    "$$\n",
    "\\begin{aligned}\n",
    "\\hat{H}\n",
    "& = \\begin{pmatrix}\n",
    "-1 & 2 \\\\\n",
    "2 & 1 \\\\\n",
    "\\end{pmatrix}\\\\[1mm]\n",
    "& = 2X - Z\n",
    "\n",
    "\\end{aligned}\n",
    "$$\n",
    "\n",
    "with the following theoretical expectation value $\\langle\\hat{H}\\rangle_+ = \\langle+|\\hat{H}|+\\rangle = 2.$\n",
    "\n",
    "Since we do not know how to measure this observable, we cannot compute its expectation value directly, and we need to re-express it as $\\langle\\hat{H}\\rangle_+ = 2\\langle X \\rangle_+ - \\langle Z \\rangle_+ $. Which can be shown to evaluate to the same result by virtue of noting that $\\langle+|X|+\\rangle = 1$, and $\\langle+|Z|+\\rangle = 0$.\n",
    "\n",
    "Let see how to compute $\\langle X \\rangle_+$ and $\\langle Z \\rangle_+$ directly. Since $X$ and $Z$ do not commute (that is, they don't share the same eigenbasis), they cannot be measured simultaneously, therefore we need the auxiliary circuits:"
   ]
  },
  {
   "cell_type": "code",
   "execution_count": 1,
   "id": "7c32e970-f9cb-48ec-a60b-2dccb0744141",
   "metadata": {},
   "outputs": [
    {
     "data": {
      "text/plain": [
       "<Image src=\"/learning/images/courses/variational-algorithm-design/cost-functions/extracted-outputs/7c32e970-f9cb-48ec-a60b-2dccb0744141-0.avif\" alt=\"Output of the previous code cell\" />"
      ]
     },
     "execution_count": 1,
     "metadata": {},
     "output_type": "execute_result"
    }
   ],
   "source": [
    "from qiskit import QuantumCircuit\n",
    "from qiskit.quantum_info import SparsePauliOp\n",
    "\n",
    "# The following code will work for any other initial single-qubit state and observable\n",
    "original_circuit = QuantumCircuit(1)\n",
    "original_circuit.h(0)\n",
    "\n",
    "H = SparsePauliOp([\"X\", \"Z\"], [2, -1])\n",
    "\n",
    "aux_circuits = []\n",
    "for pauli in H.paulis:\n",
    "    aux_circ = original_circuit.copy()\n",
    "    aux_circ.barrier()\n",
    "    if str(pauli) == \"X\":\n",
    "        aux_circ.h(0)\n",
    "    elif str(pauli) == \"Y\":\n",
    "        aux_circ.sdg(0)\n",
    "        aux_circ.h(0)\n",
    "    else:\n",
    "        aux_circ.id(0)\n",
    "    aux_circ.measure_all()\n",
    "    aux_circuits.append(aux_circ)\n",
    "\n",
    "original_circuit.draw(\"mpl\")"
   ]
  },
  {
   "cell_type": "code",
   "execution_count": 2,
   "id": "ec3cf7af-66b2-4ea9-94d7-6ec6ba2bfc5e",
   "metadata": {},
   "outputs": [
    {
     "data": {
      "text/plain": [
       "<Image src=\"/learning/images/courses/variational-algorithm-design/cost-functions/extracted-outputs/ec3cf7af-66b2-4ea9-94d7-6ec6ba2bfc5e-0.avif\" alt=\"Output of the previous code cell\" />"
      ]
     },
     "execution_count": 2,
     "metadata": {},
     "output_type": "execute_result"
    }
   ],
   "source": [
    "# Auxiliary circuit for X\n",
    "aux_circuits[0].draw(\"mpl\")"
   ]
  },
  {
   "cell_type": "code",
   "execution_count": 3,
   "id": "678d3bd0-d8fd-4767-b0a6-77cae945810a",
   "metadata": {},
   "outputs": [
    {
     "data": {
      "text/plain": [
       "<Image src=\"/learning/images/courses/variational-algorithm-design/cost-functions/extracted-outputs/678d3bd0-d8fd-4767-b0a6-77cae945810a-0.avif\" alt=\"Output of the previous code cell\" />"
      ]
     },
     "execution_count": 3,
     "metadata": {},
     "output_type": "execute_result"
    }
   ],
   "source": [
    "# Auxiliary circuit for Z\n",
    "aux_circuits[1].draw(\"mpl\")"
   ]
  },
  {
   "attachments": {},
   "cell_type": "markdown",
   "id": "beef97f0-c968-4a3f-9b7b-fed39b88cbe3",
   "metadata": {},
   "source": [
    "We can now carry out the computation manually using `Sampler` and check the results on `Estimator`:"
   ]
  },
  {
   "cell_type": "code",
   "execution_count": 4,
   "id": "d59dffe0-85cb-4849-8421-03bbcc9668df",
   "metadata": {},
   "outputs": [
    {
     "name": "stdout",
     "output_type": "stream",
     "text": [
      "Sampler results:\n",
      "  >> Expected value of X: 1.00000\n",
      "  >> Expected value of Z: -0.00300\n",
      "  >> Total expected value: 2.00300\n",
      "Estimator results:\n",
      "  >> Expected value of X: 1.00000\n",
      "  >> Expected value of Z: 0.00000\n",
      "  >> Total expected value: 2.00000\n"
     ]
    }
   ],
   "source": [
    "from qiskit.primitives import StatevectorSampler, StatevectorEstimator\n",
    "from qiskit.result import QuasiDistribution\n",
    "from qiskit.circuit.library import IGate, ZGate, XGate\n",
    "import numpy as np\n",
    "\n",
    "\n",
    "## SAMPLER\n",
    "shots = 10000\n",
    "sampler = StatevectorSampler()\n",
    "job = sampler.run(aux_circuits, shots=shots)\n",
    "data_pub = job.result()[1].data\n",
    "bitstrings = data_pub.meas.get_bitstrings()\n",
    "counts = data_pub.meas.get_counts()\n",
    "quasi_dist = QuasiDistribution(\n",
    "    {outcome: freq / shots for outcome, freq in counts.items()}\n",
    ")\n",
    "\n",
    "expvals = []\n",
    "for pauli in H.paulis:\n",
    "    val = 0\n",
    "\n",
    "    if str(pauli) == \"I\":\n",
    "        Lambda = IGate().to_matrix().real\n",
    "\n",
    "    if str(pauli) == \"X\":\n",
    "        Lambda = XGate().to_matrix().real\n",
    "        val += Lambda[0][1] * quasi_dist.get(1)\n",
    "        val += Lambda[1][0] * quasi_dist.get(0)\n",
    "\n",
    "    if str(pauli) == \"Y\":\n",
    "        Lambda = XGate().to_matrix().real\n",
    "        val += Lambda[0][1] * 1.0j * quasi_dist.get(1)\n",
    "        val += Lambda[1][0] * -1.0j * quasi_dist.get(0)\n",
    "\n",
    "    if str(pauli) == \"Z\":\n",
    "        Lambda = ZGate().to_matrix().real\n",
    "        val += Lambda[0][0] * quasi_dist.get(0)\n",
    "        val += Lambda[1][1] * quasi_dist.get(1)\n",
    "\n",
    "    expvals.append(val)\n",
    "\n",
    "print(\"Sampler results:\")\n",
    "for pauli, expval in zip(H.paulis, expvals):\n",
    "    print(f\"  >> Expected value of {str(pauli)}: {expval:.5f}\")\n",
    "\n",
    "total_expval = np.sum(H.coeffs * expvals).real\n",
    "print(f\"  >> Total expected value: {total_expval:.5f}\")\n",
    "\n",
    "## ESTIMATOR\n",
    "observables = [\n",
    "    *H.paulis,\n",
    "    H,\n",
    "]  # Note: run for individual Paulis as well as full observable H\n",
    "\n",
    "estimator = StatevectorEstimator()\n",
    "job = estimator.run([(original_circuit, observables)])\n",
    "estimator_expvals = job.result()[0].data.evs\n",
    "\n",
    "print(\"Estimator results:\")\n",
    "for obs, expval in zip(observables, estimator_expvals):\n",
    "    if obs is not H:\n",
    "        print(f\"  >> Expected value of {str(obs)}: {expval:.5f}\")\n",
    "    else:\n",
    "        print(f\"  >> Total expected value: {expval:.5f}\")"
   ]
  },
  {
   "attachments": {},
   "cell_type": "markdown",
   "id": "44f13c37-50e3-426c-90cb-f730a81e20d1",
   "metadata": {},
   "source": [
    "### Mathematical rigor (optional)\n",
    "\n",
    "Expressing $|\\psi\\rangle$ with respect to the basis of eigenstates of $\\hat{H}$, $|\\psi\\rangle = \\sum_\\lambda a_\\lambda |\\lambda\\rangle$, it follows:\n",
    "\n",
    "$$\n",
    "\\begin{aligned}\n",
    "\\langle \\psi | \\hat{H} | \\psi \\rangle\n",
    "& = \\bigg(\\sum_{\\lambda'}a^*_{\\lambda'} \\langle \\lambda'|\\bigg) \\hat{H}\n",
    "  \\bigg(\\sum_{\\lambda} a_\\lambda | \\lambda\\rangle\\bigg)\\\\[1mm]\n",
    "\n",
    "& = \\sum_{\\lambda}\\sum_{\\lambda'} a^*_{\\lambda'}a_{\\lambda}\n",
    "  \\langle \\lambda'|\\hat{H}| \\lambda\\rangle\\\\[1mm]\n",
    "\n",
    "& = \\sum_{\\lambda}\\sum_{\\lambda'} a^*_{\\lambda'}a_{\\lambda} \\lambda\n",
    "\\langle \\lambda'| \\lambda\\rangle\\\\[1mm]\n",
    "\n",
    "& = \\sum_{\\lambda}\\sum_{\\lambda'} a^*_{\\lambda'}a_{\\lambda} \\lambda\n",
    "\\cdot \\delta_{\\lambda, \\lambda'}\\\\[1mm]\n",
    "\n",
    "& = \\sum_\\lambda |a_\\lambda|^2 \\lambda\\\\[1mm]\n",
    "\n",
    "& = \\sum_\\lambda p_\\lambda \\lambda\\\\[1mm]\n",
    "\n",
    "\\end{aligned}\n",
    "$$"
   ]
  },
  {
   "attachments": {},
   "cell_type": "markdown",
   "id": "6a3bea3d-a2f6-4033-85f9-9a10c5d5c64c",
   "metadata": {
    "gloss": {
     "hermitian": {
      "text": "A hermitian is a square matrix that is equal to its own conjugate transpose, or a linear operator that is self-adjoint.",
      "title": "Hermitian"
     }
    }
   },
   "source": [
    "Since we do not know the eigenvalues or eigenstates of the target observable $\\hat{H}$, first we need to consider its diagonalization. Given that $\\hat{H}$ is [hermitian][hermitian], there exists a unitary transformation $V$ such that $\\hat{H}=V^\\dagger \\Lambda V,$ where $\\Lambda$ is the diagonal eigenvalue matrix, so $\\langle j | \\Lambda | k \\rangle = 0$ if $j\\neq k$, and $\\langle j | \\Lambda | j \\rangle = \\lambda_j$.\n",
    "\n",
    "This implies that the expected value can be rewritten as:\n",
    "\n",
    "$$\n",
    "\\begin{aligned}\n",
    "\\langle\\psi|\\hat{H}|\\psi\\rangle\n",
    "& = \\langle\\psi|V^\\dagger \\Lambda V|\\psi\\rangle\\\\[1mm]\n",
    "\n",
    "& = \\langle\\psi|V^\\dagger \\bigg(\\sum_{j=0}^{2^n-1} |j\\rangle\n",
    "\\langle j|\\bigg) \\Lambda \\bigg(\\sum_{k=0}^{2^n-1} |k\\rangle \\langle k|\\bigg) V|\\psi\\rangle\\\\[1mm]\n",
    "\n",
    "& = \\sum_{j=0}^{2^n-1} \\sum_{k=0}^{2^n-1}\\langle\\psi|V^\\dagger |j\\rangle\n",
    "\\langle j| \\Lambda  |k\\rangle \\langle k| V|\\psi\\rangle\\\\[1mm]\n",
    "\n",
    "& = \\sum_{j=0}^{2^n-1}\\langle\\psi|V^\\dagger |j\\rangle\n",
    "\\langle j| \\Lambda  |j\\rangle \\langle j| V|\\psi\\rangle\\\\[1mm]\n",
    "\n",
    "& = \\sum_{j=0}^{2^n-1}|\\langle j| V|\\psi\\rangle|^2 \\lambda_j\\\\[1mm]\n",
    "\n",
    "\\end{aligned}\n",
    "$$\n",
    "\n",
    "Given that if a system is in the state $|\\phi\\rangle = V |\\psi\\rangle$ the probability of measuring $| j\\rangle$ is $p_j = |\\langle j|\\phi \\rangle|^2$, the above expected value can be expressed as:\n",
    "\n",
    "$$\n",
    "\\langle\\psi|\\hat{H}|\\psi\\rangle =\n",
    "\\sum_{j=0}^{2^n-1} p_j \\lambda_j.\n",
    "$$\n",
    "\n",
    "It is very important to note that the probabilities are taken from the state $V |\\psi\\rangle$ instead of $|\\psi\\rangle$. This is why the matrix $V$ is absolutely necessary.\n",
    "\n",
    "[hermitian]: #definition-tooltip \"A hermitian is a square matrix that is equal to its own conjugate transpose, or a linear operator that is self-adjoint.\""
   ]
  },
  {
   "attachments": {},
   "cell_type": "markdown",
   "id": "c21a9a05-6e07-45dc-a090-4414dfdf2521",
   "metadata": {},
   "source": [
    "You might be wondering how to obtain the matrix $V$ and the eigenvalues $\\Lambda$. If you already had the eigenvalues, then there would be no need to use a quantum computer since the goal of variational algorithms is to find these eigenvalues of $\\hat{H}$.\n",
    "\n",
    "Fortunately, there is a way around that: any $2^n \\times 2^n$ matrix can be written as a linear combination of $4^n$ tensor products of $n$ Pauli matrices and identities, all of which are both hermitian and unitary with known $V$ and $\\Lambda$. This is what Runtime's `Estimator` does internally by decomposing any [`Operator`](/docs/api/qiskit/qiskit.quantum_info.Operator) object into a [`SparsePauliOp`](/docs/api/qiskit/qiskit.quantum_info.SparsePauliOp).\n",
    "\n",
    "Here are the Operators that can be used:\n",
    "\n",
    "$$\n",
    "\\begin{array}{c|c|c|c}\n",
    "  \\text{Operator} & \\sigma & V & \\Lambda \\\\[1mm]\n",
    "  \\hline\n",
    "  I & \\sigma_0 = \\begin{pmatrix} 1 & 0 \\\\ 0 & 1 \\end{pmatrix} & V_0 = I & \\Lambda_0 = I = \\begin{pmatrix} 1 & 0 \\\\ 0 & 1 \\end{pmatrix} \\\\[4mm]\n",
    "\n",
    "  X & \\sigma_1 = \\begin{pmatrix} 0 & 1 \\\\ 1 & 0 \\end{pmatrix} & V_1 = H =\\frac{1}{\\sqrt{2}} \\begin{pmatrix} 1 & 1 \\\\ 1 & -1 \\end{pmatrix} & \\Lambda_1 = \\sigma_3 = \\begin{pmatrix} 1 & 0 \\\\ 0 & -1 \\end{pmatrix} \\\\[4mm]\n",
    "\n",
    "  Y & \\sigma_2 = \\begin{pmatrix} 0 & -i \\\\ i & 0 \\end{pmatrix} & V_2 = HS^\\dagger  =\\frac{1}{\\sqrt{2}} \\begin{pmatrix} 1 & 1 \\\\ 1 & -1 \\end{pmatrix}\\cdot  \\begin{pmatrix} 1 & 0 \\\\ 0 & -i \\end{pmatrix} = \\frac{1}{\\sqrt{2}} \\begin{pmatrix} 1 & -i \\\\ 1 & i \\end{pmatrix}\\quad & \\Lambda_2 = \\sigma_3 = \\begin{pmatrix} 1 & 0 \\\\ 0 & -1 \\end{pmatrix} \\\\[4mm]\n",
    "\n",
    "  Z & \\sigma_3 = \\begin{pmatrix} 1 & 0 \\\\ 0 & -1 \\end{pmatrix} & V_3 = I & \\Lambda_3 = \\sigma_3 = \\begin{pmatrix} 1 & 0 \\\\ 0 & -1 \\end{pmatrix}\n",
    "\\end{array}\n",
    "$$"
   ]
  },
  {
   "attachments": {},
   "cell_type": "markdown",
   "id": "9e1c0933-5fbe-466d-9114-92d66d21785f",
   "metadata": {},
   "source": [
    "So let's rewrite $\\hat{H}$ with respect to the Paulis and identities:\n",
    "\n",
    "$$\n",
    "\\hat{H} =\n",
    "\\sum_{k_{n-1}=0}^3...\n",
    "\\sum_{k_0=0}^3 w_{k_{n-1}...k_0}\n",
    "\\sigma_{k_{n-1}}\\otimes ... \\otimes \\sigma_{k_0} = \\sum_{k=0}^{4^n-1} w_k \\hat{P}_k,\n",
    "$$\n",
    "\n",
    "where $k = \\sum_{l=0}^{n-1} 4^l k_l \\equiv k_{n-1}...k_0$ for $k_{n-1},...,k_0\\in \\{0,1,2,3\\}$ (that is, base $4$), and $\\hat{P}_{k} := \\sigma_{k_{n-1}}\\otimes ... \\otimes \\sigma_{k_0}$:\n",
    "\n",
    "$$\n",
    "\\begin{aligned}\n",
    "\\langle\\psi|\\hat{H}|\\psi\\rangle\n",
    "& = \\sum_{k=0}^{4^n-1} w_k\n",
    "\\sum_{j=0}^{2^n-1}|\\langle j| V_k|\\psi\\rangle|^2 \\langle j| \\Lambda_k |j\\rangle \\\\[1mm]\n",
    "\n",
    "& = \\sum_{k=0}^{4^n-1} w_k \\sum_{j=0}^{2^n-1}p_{kj} \\lambda_{kj}, \\\\[1mm]\n",
    "\n",
    "\n",
    "\\end{aligned}\n",
    "$$\n",
    "\n",
    "\n",
    "where $V_k := V_{k_{n-1}}\\otimes ... \\otimes V_{k_0}$ and $\\Lambda_k := \\Lambda_{k_{n-1}}\\otimes ... \\otimes \\Lambda_{k_0}$, such that: $\\hat{P_k}=V_k^\\dagger \\Lambda_k V_k.$"
   ]
  },
  {
   "attachments": {},
   "cell_type": "markdown",
   "id": "42f771a0-486d-4a5f-9df1-a1720d7bf252",
   "metadata": {
    "gloss": {
     "oracle": {
      "text": " A hypothetical device or software component that performs a specific function, but the internal workings of which are unknown. A user is only aware of the inputs and outputs of the black box, and has no knowledge of how the black box processes the inputs to produce the outputs.",
      "title": "Black-box oracle"
     }
    }
   },
   "source": [
    "## Cost functions\n",
    "\n",
    "In general, cost functions are used to describe the goal of a problem and how well a trial state is performing with respect to that goal. This definition can be applied to various examples in chemistry, machine learning, finance, optimization, and so on.\n",
    "\n",
    "Let's consider a simple example of finding the ground state of a system. Our objective is to minimize the expectation value of the observable representing energy (Hamiltonian $\\hat{\\mathcal{H}}$):\n",
    "\n",
    "$$\n",
    "\\min_{\\vec\\theta} \\langle\\psi(\\vec\\theta)|\\hat{\\mathcal{H}}|\\psi(\\vec\\theta)\\rangle\n",
    "$$\n",
    "\n",
    "We can use the `Estimator` to evaluate the expectation value and pass this value to an optimizer to minimize. If the optimization is successful, it will return a set of optimal parameter values $\\vec\\theta^*$, from which we will be able to construct the proposed solution state $|\\psi(\\vec\\theta^*)\\rangle$ and compute the observed expectation value as $C(\\vec\\theta^*)$.\n",
    "\n",
    "Notice how we will only be able to minimize the cost function for the limited set of states that we are considering. This leads us to two separate possibilities:\n",
    "\n",
    "- **Our ansatz does not define the solution state across the search space**: If this is the case, our optimizer will never find the solution, and we need to experiment with other ansatzes that might be able to represent our search space more accurately.\n",
    "- **Our optimizer is unable to find this valid solution**: Optimization can be globally defined and locally defined. We'll explore what this means in the later section.\n",
    "\n",
    "All in all, we will be performing a classical optimization loop but relying on the evaluation of the cost function to a quantum computer. From this perspective, one could think of the optimization as a purely classical endeavor where we call some [black-box quantum oracle][oracle] each time the optimizer needs to evaluate the cost function.\n",
    "\n",
    "[oracle]: #definition-tooltip \"A hypothetical device or software component that performs a specific function, but the internal workings of which are unknown. A user is only aware of the inputs and outputs of the black box, and has no knowledge of how the black box processes the inputs to produce the outputs.\""
   ]
  },
  {
   "cell_type": "code",
   "execution_count": null,
   "id": "650faaab-b964-4587-a39f-d6cc80b225b2",
   "metadata": {},
   "outputs": [],
   "source": [
    "def cost_func_vqe(params, circuit, hamiltonian, estimator):\n",
    "    \"\"\"Return estimate of energy from estimator\n",
    "\n",
    "    Parameters:\n",
    "        params (ndarray): Array of ansatz parameters\n",
    "        ansatz (QuantumCircuit): Parameterized ansatz circuit\n",
    "        hamiltonian (SparsePauliOp): Operator representation of Hamiltonian\n",
    "        estimator (Estimator): Estimator primitive instance\n",
    "\n",
    "    Returns:\n",
    "        float: Energy estimate\n",
    "    \"\"\"\n",
    "    pub = (circuit, hamiltonian, params)\n",
    "    cost = estimator.run([pub]).result()[0].data.evs\n",
    "    return cost"
   ]
  },
  {
   "cell_type": "code",
   "execution_count": null,
   "id": "a01a54f2-da16-4008-b422-fa7ded531f67",
   "metadata": {},
   "outputs": [
    {
     "data": {
      "text/plain": [
       "<Image src=\"/learning/images/courses/variational-algorithm-design/cost-functions/extracted-outputs/a01a54f2-da16-4008-b422-fa7ded531f67-0.avif\" alt=\"Output of the previous code cell\" />"
      ]
     },
     "execution_count": 6,
     "metadata": {},
     "output_type": "execute_result"
    }
   ],
   "source": [
    "from qiskit.circuit.library import TwoLocal\n",
    "\n",
    "observable = SparsePauliOp.from_list([(\"XX\", 1), (\"YY\", -3)])\n",
    "\n",
    "reference_circuit = QuantumCircuit(2)\n",
    "reference_circuit.x(0)\n",
    "\n",
    "variational_form = TwoLocal(\n",
    "    2,\n",
    "    rotation_blocks=[\"rz\", \"ry\"],\n",
    "    entanglement_blocks=\"cx\",\n",
    "    entanglement=\"linear\",\n",
    "    reps=1,\n",
    ")\n",
    "ansatz = reference_circuit.compose(variational_form)\n",
    "\n",
    "theta_list = (2 * np.pi * np.random.rand(1, 8)).tolist()\n",
    "ansatz.decompose().draw(\"mpl\")"
   ]
  },
  {
   "cell_type": "markdown",
   "id": "7357e05e-f68a-4cd5-bf0d-77eab963a86d",
   "metadata": {},
   "source": [
    "We will first carry this out using a simulator: the StatevectorEstimator. This is usually advisable for debugging, but we will immediately follow the debugging run with a calculation on real quantum hardware. Increasingly, problems of interest are no longer classically simulable without state-of-the-art supercomputing facilities."
   ]
  },
  {
   "cell_type": "code",
   "execution_count": 7,
   "id": "883bcb28-15d0-4046-a654-f43d9480a642",
   "metadata": {},
   "outputs": [
    {
     "name": "stdout",
     "output_type": "stream",
     "text": [
      "[-0.58744589]\n"
     ]
    }
   ],
   "source": [
    "estimator = StatevectorEstimator()\n",
    "cost = cost_func_vqe(theta_list, ansatz, observable, estimator)\n",
    "print(cost)"
   ]
  },
  {
   "cell_type": "markdown",
   "id": "1a94eba3-146d-4eee-970d-9a966d1e15f3",
   "metadata": {},
   "source": [
    "We will now proceed with running on a real quantum computer. Note the syntax changes. The steps involving the pass_manager will be discussed further in the next example. One step of particular importance in variational algorithms is the use of a Qiskit Runtime session. Starting a session allows you to run multiple iterations of a variational algorithm without waiting in a new queue each time parameters are updated. This is important if queue times are long and/or many iterations are needed. Only partners in the IBM Quantum&reg; Network can use Runtime sessions. If you do not have access to sessions, you can reduce the number of iterations you submit at a given time, and save the most recent parameters for use in future runs. If you submit too many iterations or encounter queue times that are too long, you may encounter error code 1217, which refers to long delays between job submissions."
   ]
  },
  {
   "cell_type": "code",
   "execution_count": null,
   "id": "e4ca4722-46ab-418f-8a1f-740a65e92eb9",
   "metadata": {},
   "outputs": [],
   "source": [
    "# Estimated usage: < 1 min. Benchmarked at 7 seconds on ibm_osaka, 5-23-24\n",
    "# Load necessary packages:\n",
    "\n",
    "from qiskit_ibm_runtime import (\n",
    "    QiskitRuntimeService,\n",
    "    Session,\n",
    "    EstimatorOptions,\n",
    "    EstimatorV2 as Estimator,\n",
    ")\n",
    "from qiskit.transpiler.preset_passmanagers import generate_preset_pass_manager\n",
    "\n",
    "# Select the least busy backend:\n",
    "\n",
    "service = QiskitRuntimeService()\n",
    "backend = service.least_busy(\n",
    "    operational=True, min_num_qubits=ansatz.num_qubits, simulator=False\n",
    ")\n",
    "# Or get a specific backend:\n",
    "# backend = service.backend(\"ibm_cusco\")\n",
    "\n",
    "# Use a pass manager to transpile the circuit and observable for the specific backend being used:\n",
    "\n",
    "pm = generate_preset_pass_manager(backend=backend, optimization_level=1)\n",
    "isa_ansatz = pm.run(ansatz)\n",
    "isa_observable = observable.apply_layout(layout=isa_ansatz.layout)\n",
    "\n",
    "\n",
    "# Set estimator options\n",
    "estimator_options = EstimatorOptions(resilience_level=1, default_shots=10_000)\n",
    "\n",
    "# Open a Runtime session:\n",
    "\n",
    "with Session(backend=backend) as session:\n",
    "    estimator = Estimator(mode=session, options=estimator_options)\n",
    "    cost = cost_func_vqe(theta_list, isa_ansatz, isa_observable, estimator)\n",
    "\n",
    "session.close()\n",
    "print(cost)"
   ]
  },
  {
   "cell_type": "markdown",
   "id": "95dc0e83-46ce-4839-91c3-af550aef9ddf",
   "metadata": {},
   "source": [
    "Note that the values obtained from the two calculations above are very similar. Techniques for improving results will be discussed further below."
   ]
  },
  {
   "attachments": {},
   "cell_type": "markdown",
   "id": "7f3951a3-47ad-4ddb-90a0-2218b1e11d15",
   "metadata": {},
   "source": [
    "### Example mapping to non-physical systems\n",
    "\n",
    "The maximum cut (Max-Cut) problem is a combinatorial optimization problem that involves dividing the vertices of a graph into two disjoint sets such that the number of edges between the two sets is maximized. More formally, given an undirected graph $G=(V,E)$, where $V$ is the set of vertices and $E$ is the set of edges, the Max-Cut problem asks to partition the vertices into two disjoint subsets, $S$ and $T$, such that the number of edges with one endpoint in $S$ and the other in $T$ is maximized.\n",
    "\n",
    "We can apply Max-Cut to solve a various problems including: clustering, network design, phase transitions, and so on. We'll start by creating a problem graph:"
   ]
  },
  {
   "cell_type": "code",
   "execution_count": 16,
   "id": "739ca7a0-fae3-4389-a8de-7ae93c13b9e1",
   "metadata": {},
   "outputs": [
    {
     "data": {
      "text/plain": [
       "<Image src=\"/learning/images/courses/variational-algorithm-design/cost-functions/extracted-outputs/739ca7a0-fae3-4389-a8de-7ae93c13b9e1-0.avif\" alt=\"Output of the previous code cell\" />"
      ]
     },
     "metadata": {},
     "output_type": "display_data"
    }
   ],
   "source": [
    "import rustworkx as rx\n",
    "from rustworkx.visualization import mpl_draw\n",
    "\n",
    "n = 4\n",
    "G = rx.PyGraph()\n",
    "G.add_nodes_from(range(n))\n",
    "# The edge syntax is (start, end, weight)\n",
    "edges = [(0, 1, 1.0), (0, 2, 1.0), (0, 3, 1.0), (1, 2, 1.0), (2, 3, 1.0)]\n",
    "G.add_edges_from(edges)\n",
    "\n",
    "mpl_draw(\n",
    "    G, pos=rx.shell_layout(G), with_labels=True, edge_labels=str, node_color=\"#1192E8\"\n",
    ")"
   ]
  },
  {
   "attachments": {},
   "cell_type": "markdown",
   "id": "3246e173-b1a8-48c2-bce8-f80a1524bcfb",
   "metadata": {},
   "source": [
    "This problem can be expressed as a binary optimization problem. For each node $0 \\leq i < n$, where $n$ is the number of nodes of the graph (in this case $n=4$), we will consider the binary variable $x_i$. This variable will have the value $1$ if node $i$ is one of the groups that we'll label $1$ and $0$ if it's in the other group, that we'll label as $0$. We will also denote as $w_{ij}$ (element $(i,j)$ of the adjacency matrix $w$) the weight of the edge that goes from node $i$ to node $j$. Because the graph is undirected, $w_{ij}=w_{ji}$. Then we can formulate our problem as maximizing the following cost function:\n",
    "\n",
    "$$\n",
    "\\begin{aligned}\n",
    "C(\\vec{x})\n",
    "& =\\sum_{i,j=0}^n w_{ij} x_i(1-x_j)\\\\[1mm]\n",
    "\n",
    "& = \\sum_{i,j=0}^n w_{ij} x_i - \\sum_{i,j=0}^n w_{ij} x_ix_j\\\\[1mm]\n",
    "\n",
    "& = \\sum_{i,j=0}^n w_{ij} x_i - \\sum_{i=0}^n \\sum_{j=0}^i 2w_{ij} x_ix_j\n",
    "\\end{aligned}\n",
    "$$\n",
    "\n",
    "\n",
    "To solve this problem with a quantum computer, we are going to express the cost function as the expected value of an observable. However, the observables that Qiskit admits natively consist of Pauli operators, that have eigenvalues $1$ and $-1$ instead of $0$ and $1$. That's why we are going to make the following change of variable:\n",
    "\n",
    "Where $\\vec{x}=(x_0,x_1,\\cdots ,x_{n-1})$. We can use the adjacency matrix $w$ to comfortably access the weights of all the edge. This will be used to obtain our cost function:\n",
    "\n",
    "$$\n",
    "z_i = 1-2x_i \\rightarrow x_i = \\frac{1-z_i}{2}\n",
    "$$\n",
    "\n",
    "This implies that:\n",
    "\n",
    "$$\n",
    "\\begin{array}{lcl} x_i=0 & \\rightarrow & z_i=1 \\\\ x_i=1 & \\rightarrow & z_i=-1.\\end{array}\n",
    "$$\n",
    "\n",
    "So the new cost function we want to maximize is:\n",
    "\n",
    "$$\n",
    "\\begin{aligned}\n",
    "C(\\vec{z})\n",
    "& = \\sum_{i,j=0}^n w_{ij} \\bigg(\\frac{1-z_i}{2}\\bigg)\\bigg(1-\\frac{1-z_j}{2}\\bigg)\\\\[1mm]\n",
    "\n",
    "& = \\sum_{i,j=0}^n \\frac{w_{ij}}{4} - \\sum_{i,j=0}^n \\frac{w_{ij}}{4} z_iz_j\\\\[1mm]\n",
    "\n",
    "& = \\sum_{i=0}^n \\sum_{j=0}^i \\frac{w_{ij}}{2} -  \\sum_{i=0}^n \\sum_{j=0}^i \\frac{w_{ij}}{2} z_iz_j\n",
    "\\end{aligned}\n",
    "$$\n",
    "\n",
    "Moreover, the natural tendency of a quantum computer is to find minima (usually the lowest energy) instead of maxima so instead of maximizing $C(\\vec{z})$ we are going to minimize:\n",
    "\n",
    "$$\n",
    "-C(\\vec{z}) =  \\sum_{i=0}^n \\sum_{j=0}^i \\frac{w_{ij}}{2} z_iz_j -  \\sum_{i=0}^n \\sum_{j=0}^i \\frac{w_{ij}}{2}\n",
    "$$\n",
    "\n",
    "Now that we have a cost function to minimize whose variables can have the values $-1$ and $1$, we can make the following analogy with the Pauli $Z$:\n",
    "\n",
    "$$\n",
    "z_i \\equiv Z_i = \\overbrace{I}^{n-1}\\otimes ... \\otimes \\overbrace{Z}^{i} \\otimes ... \\otimes \\overbrace{I}^{0}\n",
    "$$\n",
    "\n",
    "In other words, the variable $z_i$ will be equivalent to a $Z$ gate acting on qubit $i$. Moreover:\n",
    "\n",
    "$$\n",
    "Z_i|x_{n-1}\\cdots x_0\\rangle = z_i|x_{n-1}\\cdots x_0\\rangle \\rightarrow \\langle x_{n-1}\\cdots x_0 |Z_i|x_{n-1}\\cdots x_0\\rangle = z_i\n",
    "$$\n",
    "\n",
    "Then the observable we are going to consider is:\n",
    "\n",
    "$$\n",
    "\\hat{H} = \\sum_{i=0}^n \\sum_{j=0}^i \\frac{w_{ij}}{2} Z_iZ_j\n",
    "$$\n",
    "\n",
    "to which we will have to add the independent term afterwards:\n",
    "\n",
    "$$\n",
    "\\texttt{offset} = - \\sum_{i=0}^n \\sum_{j=0}^i \\frac{w_{ij}}{2}\n",
    "$$"
   ]
  },
  {
   "cell_type": "markdown",
   "id": "83c86ba1-8b9d-4222-bb7e-637e6f29e5cd",
   "metadata": {},
   "source": [
    "The operator is a linear combination of terms with Z operators on nodes connected by an edge (recall that the 0th qubit is farthest right): $IIZZ + IZIZ + IZZI + ZIIZ + ZZII$. Once the operator is constructed, the ansatz for the QAOA algorithm can easily be built by using the `QAOAAnsatz` circuit from the Qiskit circuit library."
   ]
  },
  {
   "cell_type": "code",
   "execution_count": 17,
   "id": "29398315-3baf-4363-88fc-69b6438e4afa",
   "metadata": {},
   "outputs": [
    {
     "data": {
      "text/plain": [
       "<Image src=\"/learning/images/courses/variational-algorithm-design/cost-functions/extracted-outputs/29398315-3baf-4363-88fc-69b6438e4afa-0.avif\" alt=\"Output of the previous code cell\" />"
      ]
     },
     "execution_count": 17,
     "metadata": {},
     "output_type": "execute_result"
    }
   ],
   "source": [
    "from qiskit.circuit.library import QAOAAnsatz\n",
    "from qiskit.quantum_info import SparsePauliOp\n",
    "\n",
    "hamiltonian = SparsePauliOp.from_list(\n",
    "    [(\"IIZZ\", 1), (\"IZIZ\", 1), (\"IZZI\", 1), (\"ZIIZ\", 1), (\"ZZII\", 1)]\n",
    ")\n",
    "\n",
    "\n",
    "ansatz = QAOAAnsatz(hamiltonian, reps=2)\n",
    "# Draw\n",
    "ansatz.decompose(reps=3).draw(\"mpl\")"
   ]
  },
  {
   "cell_type": "code",
   "execution_count": 18,
   "id": "91d02379-9da6-426b-a5f0-d1fb75a891ee",
   "metadata": {},
   "outputs": [
    {
     "name": "stdout",
     "output_type": "stream",
     "text": [
      "Offset: -2.5\n"
     ]
    }
   ],
   "source": [
    "# Sum the weights, and divide by 2\n",
    "\n",
    "offset = -sum(edge[2] for edge in edges) / 2\n",
    "print(f\"\"\"Offset: {offset}\"\"\")"
   ]
  },
  {
   "cell_type": "markdown",
   "id": "84a98a08-00e4-4b05-a3f0-de29a7e73a60",
   "metadata": {},
   "source": [
    "With the Runtime Estimator directly taking a Hamiltonian and parameterized ansatz, and returning the necessary energy, The cost function for a QAOA instance is quite simple:"
   ]
  },
  {
   "cell_type": "code",
   "execution_count": 19,
   "id": "73ac80dd-87cf-4a43-b19b-e89a4782a44a",
   "metadata": {},
   "outputs": [],
   "source": [
    "def cost_func(params, ansatz, hamiltonian, estimator):\n",
    "    \"\"\"Return estimate of energy from estimator\n",
    "\n",
    "    Parameters:\n",
    "        params (ndarray): Array of ansatz parameters\n",
    "        ansatz (QuantumCircuit): Parameterized ansatz circuit\n",
    "        hamiltonian (SparsePauliOp): Operator representation of Hamiltonian\n",
    "        estimator (Estimator): Estimator primitive instance\n",
    "\n",
    "    Returns:\n",
    "        float: Energy estimate\n",
    "    \"\"\"\n",
    "    pub = (ansatz, hamiltonian, params)\n",
    "    cost = estimator.run([pub]).result()[0].data.evs\n",
    "    #    cost = estimator.run(ansatz, hamiltonian, parameter_values=params).result().values[0]\n",
    "    return cost"
   ]
  },
  {
   "cell_type": "code",
   "execution_count": 20,
   "id": "fc6af87b-a838-43b8-96ce-0af790fe0172",
   "metadata": {},
   "outputs": [
    {
     "name": "stdout",
     "output_type": "stream",
     "text": [
      "1.473098768180865\n"
     ]
    }
   ],
   "source": [
    "import numpy as np\n",
    "\n",
    "x0 = 2 * np.pi * np.random.rand(ansatz.num_parameters)\n",
    "\n",
    "estimator = StatevectorEstimator()\n",
    "cost = cost_func_vqe(x0, ansatz, hamiltonian, estimator)\n",
    "print(cost)"
   ]
  },
  {
   "cell_type": "code",
   "execution_count": 23,
   "id": "389b7e86-cd61-4184-96c3-ae91b8ad59f5",
   "metadata": {},
   "outputs": [
    {
     "name": "stdout",
     "output_type": "stream",
     "text": [
      "1.1120776913677988\n"
     ]
    }
   ],
   "source": [
    "# Estimated usage: < 1 min, benchmarked at 6 seconds on ibm_osaka, 5-23-24\n",
    "# Load some necessary packages:\n",
    "\n",
    "from qiskit_ibm_runtime import QiskitRuntimeService\n",
    "from qiskit_ibm_runtime import Session, EstimatorV2 as Estimator\n",
    "\n",
    "# Select the least busy backend:\n",
    "\n",
    "backend = service.least_busy(\n",
    "    operational=True, min_num_qubits=ansatz.num_qubits, simulator=False\n",
    ")\n",
    "\n",
    "# Or get a specific backend:\n",
    "# backend = service.backend(\"ibm_cusco\")\n",
    "\n",
    "# Use a pass manager to transpile the circuit and observable for the specific backend being used:\n",
    "\n",
    "pm = generate_preset_pass_manager(backend=backend, optimization_level=1)\n",
    "isa_ansatz = pm.run(ansatz)\n",
    "isa_hamiltonian = hamiltonian.apply_layout(layout=isa_ansatz.layout)\n",
    "\n",
    "# Set estimator options\n",
    "estimator_options = EstimatorOptions(resilience_level=1, default_shots=10_000)\n",
    "\n",
    "# Open a Runtime session:\n",
    "\n",
    "with Session(backend=backend) as session:\n",
    "    estimator = Estimator(mode=session, options=estimator_options)\n",
    "    cost = cost_func_vqe(x0, isa_ansatz, isa_hamiltonian, estimator)\n",
    "\n",
    "# Close session after done\n",
    "session.close()\n",
    "print(cost)"
   ]
  },
  {
   "attachments": {},
   "cell_type": "markdown",
   "id": "16c94186-366c-4ac4-8745-4e7da283f8da",
   "metadata": {},
   "source": [
    "We will revisit this example in Applications to explore how to leverage an optimizer to iterate through the search space. Generally speaking, this includes:\n",
    "\n",
    "- Leveraging an optimizer to find optimal parameters\n",
    "- Binding optimal parameters to the ansatz to find the eigenvalues\n",
    "- Translating the eigenvalues to our problem definition"
   ]
  },
  {
   "attachments": {},
   "cell_type": "markdown",
   "id": "d14d5800-24c1-4e4b-b692-9bdb9ef4440f",
   "metadata": {},
   "source": [
    "## Measurement strategy: speed versus accuracy\n",
    "\n",
    "As mentioned, we are using a noisy quantum computer as a *black-box oracle*, where noise can make the retrieved values non-deterministic, leading to random fluctuations which, in turn, will harm — or even completely prevent — convergence of certain optimizers to a proposed solution. This is a general problem that we must address as we incrementally explore quantum utility and progress towards quantum advantage:\n",
    "\n",
    "![A graph showing how simulation cost varies with circuit complexity. Using a classical computer it grows exponentially. With quantum error mitigation, there should be a crossover at which that becomes advantageous. Quantum error correction allows for linear growth of the simulation cost and will certainly lead to advantage.](/learning/images/courses/variational-algorithm-design/cost-functions/cost-function-path-to-quantum-advantage.svg)\n",
    "\n",
    "We can use Qiskit Runtime Primitive's error suppression and error mitigation options to address noise and maximize the utility of today's quantum computers."
   ]
  },
  {
   "attachments": {},
   "cell_type": "markdown",
   "id": "f23f0d82-d4f9-4485-aad3-cd2f8fd19b4f",
   "metadata": {
    "gloss": {
     "overhead": {
      "text": "Extra costs introduced by new techniques, relative to a base implementation.",
      "title": "Overhead"
     }
    }
   },
   "source": [
    "### Error Suppression\n",
    "\n",
    "[Error suppression](/docs/guides/configure-error-suppression) refers to techniques used to optimize and transform a circuit during compilation in order to minimize errors. This is a basic error handling technique that usually results in some classical pre-processing [overhead][overhead] to the overall runtime. The overhead includes transpiling circuits to run on quantum hardware by:\n",
    "\n",
    "- Expressing the circuit using the native gates available on a quantum system\n",
    "- Mapping the virtual qubits to physical qubits\n",
    "- Adding SWAPs based on connectivity requirements\n",
    "- Optimizing 1Q and 2Q gates\n",
    "- Adding dynamical decoupling to idle qubits to prevent the effects of decoherence.\n",
    "\n",
    "\n",
    "Primitives allow for the use of error suppression techniques by setting the `optimization_level` option and selecting advanced transpilation options. In a later course, we will delve into different circuit construction methods to improve results, but for most cases, we recommend setting `optimization_level=3`.\n",
    "\n",
    "[overhead]: #definition-tooltip \"Extra costs introduced by new techniques, relative to a base implementation.\"\n",
    "\n",
    "We will visualize the value of increasing optimization in the transpilation process by looking at an example circuit with a simple ideal behavior."
   ]
  },
  {
   "cell_type": "code",
   "execution_count": 24,
   "id": "9e0bf552-32b0-477e-9ac3-4ab643c30623",
   "metadata": {},
   "outputs": [
    {
     "data": {
      "text/plain": [
       "<Image src=\"/learning/images/courses/variational-algorithm-design/cost-functions/extracted-outputs/9e0bf552-32b0-477e-9ac3-4ab643c30623-0.avif\" alt=\"Output of the previous code cell\" />"
      ]
     },
     "execution_count": 24,
     "metadata": {},
     "output_type": "execute_result"
    }
   ],
   "source": [
    "from qiskit.circuit import Parameter, QuantumCircuit\n",
    "from qiskit.quantum_info import SparsePauliOp\n",
    "\n",
    "theta = Parameter(\"theta\")\n",
    "\n",
    "qc = QuantumCircuit(2)\n",
    "qc.x(1)\n",
    "qc.h(0)\n",
    "qc.cp(theta, 0, 1)\n",
    "qc.h(0)\n",
    "observables = SparsePauliOp.from_list([(\"ZZ\", 1)])\n",
    "\n",
    "qc.draw(\"mpl\")"
   ]
  },
  {
   "cell_type": "markdown",
   "id": "1c2b0408-e004-4a04-8aa5-cf519744082b",
   "metadata": {},
   "source": [
    "The circuit above can yield sinusoidal expectation values of the observable given, provided we insert phases spanning an appropriate interval, such as $[0,2\\pi]$."
   ]
  },
  {
   "cell_type": "code",
   "execution_count": 25,
   "id": "99b23f88-ddcb-45dc-a86d-3d48ff990319",
   "metadata": {},
   "outputs": [],
   "source": [
    "## Setup phases\n",
    "import numpy as np\n",
    "\n",
    "phases = np.linspace(0, 2 * np.pi, 50)\n",
    "\n",
    "# phases need to be expressed as a list of lists in order to work\n",
    "individual_phases = [[phase] for phase in phases]"
   ]
  },
  {
   "cell_type": "markdown",
   "id": "ca040383-9c8c-4a38-8e40-bad1b26c6085",
   "metadata": {},
   "source": [
    "We can use a simulator to show the usefulness of an optimized transpilation. We will return below to using real hardware to demonstrate the usefulness of error mitigation. We will use QiskitRuntimeService to get a real backend (in this case, ibm_sherbrooke), and use AerSimulator to simulate that backend, including its noise behavior."
   ]
  },
  {
   "cell_type": "code",
   "execution_count": 26,
   "id": "6f0e6f32-02f7-471f-a9f3-f30d22f8cca4",
   "metadata": {},
   "outputs": [],
   "source": [
    "from qiskit_ibm_runtime import QiskitRuntimeService\n",
    "from qiskit_aer import AerSimulator\n",
    "\n",
    "# get a real backend from the runtime service\n",
    "service = QiskitRuntimeService()\n",
    "backend = service.backend(\"ibm_sherbrooke\")\n",
    "\n",
    "# generate a simulator that mimics the real quantum system with the latest calibration results\n",
    "backend_sim = AerSimulator.from_backend(backend)"
   ]
  },
  {
   "cell_type": "markdown",
   "id": "38df43e8-b11e-4671-b8fb-7a2eb74f648a",
   "metadata": {},
   "source": [
    "We can now use a pass manager to transpile the circuit into the \"instruction set architecture\" or ISA of the backend. This is a new requirement in Qiskit Runtime: all circuits submitted to a backend must conform to the constraints of the backend’s target, meaning they must be written in terms of the backend's ISA — that is, the set of instructions the device can understand and execute. These target constraints are defined by factors like the device’s native basis gates, its qubit connectivity, and - when relevant - its pulse and other instruction timing specifications.\n",
    "\n",
    "Note that in the present case, we will do this twice: once with optimization_level = 0, and once with it set to 3. Each time we will use the Estimator primitive to estimate the expectation values of the observable at different values of phase."
   ]
  },
  {
   "cell_type": "code",
   "execution_count": null,
   "id": "4dc699cd-0bb4-4b48-adcc-0bbe99218a26",
   "metadata": {},
   "outputs": [],
   "source": [
    "# Import estimator and specify that we are using the simulated backend:\n",
    "\n",
    "from qiskit_ibm_runtime import EstimatorV2 as Estimator\n",
    "\n",
    "estimator = Estimator(mode=backend_sim)\n",
    "\n",
    "circuit = qc"
   ]
  },
  {
   "cell_type": "code",
   "execution_count": null,
   "id": "7990eb62-879d-4beb-b452-f3d86b164d11",
   "metadata": {},
   "outputs": [],
   "source": [
    "# Use a pass manager to transpile the circuit and observable for the backend being simulated.\n",
    "# Start with no optimization:\n",
    "\n",
    "from qiskit.transpiler.preset_passmanagers import generate_preset_pass_manager\n",
    "\n",
    "pm = generate_preset_pass_manager(backend=backend_sim, optimization_level=0)\n",
    "isa_circuit = pm.run(circuit)\n",
    "isa_observables = observables.apply_layout(layout=isa_circuit.layout)\n",
    "\n",
    "noisy_exp_values = []\n",
    "pub = (isa_circuit, isa_observables, [individual_phases])\n",
    "cost = estimator.run([pub]).result()[0].data.evs\n",
    "noisy_exp_values = cost[0]\n",
    "\n",
    "# Repeat above steps, but now with optimization = 3:\n",
    "\n",
    "exp_values_with_opt_es = []\n",
    "pm = generate_preset_pass_manager(backend=backend_sim, optimization_level=3)\n",
    "isa_circuit = pm.run(circuit)\n",
    "isa_observables = observables.apply_layout(layout=isa_circuit.layout)\n",
    "\n",
    "pub = (isa_circuit, isa_observables, [individual_phases])\n",
    "cost = estimator.run([pub]).result()[0].data.evs\n",
    "exp_values_with_opt_es = cost[0]"
   ]
  },
  {
   "cell_type": "markdown",
   "id": "0cc8d4ea-81ef-4146-b8ed-9c7edae72be3",
   "metadata": {},
   "source": [
    "Finally, we can plot the results, and we see that the precision of the calculation was fairly good even without optimization, but it definitely improved by increasing optimization to level 3. Note that in deeper, more complicated circuits, the difference between optimization levels of 0 and 3 are likely to be more significant. This is a very simple circuit used as a toy model."
   ]
  },
  {
   "cell_type": "code",
   "execution_count": 29,
   "id": "f3d3f805-f8d0-474d-9a88-2d1f164639b0",
   "metadata": {},
   "outputs": [
    {
     "data": {
      "text/plain": [
       "<Image src=\"/learning/images/courses/variational-algorithm-design/cost-functions/extracted-outputs/f3d3f805-f8d0-474d-9a88-2d1f164639b0-0.avif\" alt=\"Output of the previous code cell\" />"
      ]
     },
     "metadata": {},
     "output_type": "display_data"
    }
   ],
   "source": [
    "import matplotlib.pyplot as plt\n",
    "\n",
    "plt.plot(phases, noisy_exp_values, \"o\", label=\"opt=0\")\n",
    "plt.plot(phases, exp_values_with_opt_es, \"o\", label=\"opt=3\")\n",
    "plt.plot(phases, 2 * np.sin(phases / 2) ** 2 - 1, label=\"ideal\")\n",
    "plt.ylabel(\"Expectation\")\n",
    "plt.legend()\n",
    "plt.show()"
   ]
  },
  {
   "attachments": {},
   "cell_type": "markdown",
   "id": "2394d082-2278-48cf-95b0-3363ed723ec1",
   "metadata": {
    "gloss": {
     "bias": {
      "text": "A systematic drift in the measured quantities, usually caused by errors.",
      "title": "Bias"
     }
    }
   },
   "source": [
    "### Error Mitigation\n",
    "\n",
    "[Error mitigation](/docs/guides/configure-error-mitigation) refers to techniques that allow users to reduce circuit errors by modeling the device noise at the time of execution. Typically, this results in quantum pre-processing overhead related to model training and classical post-processing overhead to mitigate errors in the raw results by using the generated model.\n",
    "\n",
    "The Qiskit Runtime primitive's `resilience_level` option specifies the amount of resilience to build against errors. Higher levels generate more accurate results at the expense of longer processing times due to quantum sampling overhead. Resilience levels can be used to configure the trade-off between cost and accuracy when applying error mitigation to your primitive query.\n",
    "\n",
    "When implementing any error mitigation technique, we expect the [bias][bias] in our results to be reduced with respect to the previous, unmitigated bias. In some cases, the bias may even disappear. However, this comes at a cost. As we reduce the bias in our estimated quantities, the statistical variability will increase (that is, variance), which we can account for by further increasing the number of shots per circuit in our sampling process. This will introduce overhead beyond that needed to reduce the bias, so it is not done by default. We can easily opt-in to this behavior by adjusting the number of shots per circuit in options.executions.shots, as shown in the example below.\n",
    "\n",
    "![A diagram showing broader or narrowing distributions as in the bias/variance tradeoff.](/learning/images/courses/variational-algorithm-design/cost-functions/cost-function-bias-variance-trade-off.svg)\n",
    "\n",
    "For this course, we will explore these error mitigation models at a high level to illustrate the error mitigation that Qiskit Runtime primitives can perform without requiring full implementation details.\n",
    "\n",
    "\n",
    "### Twirled readout error extinction (T-REx)\n",
    "\n",
    "Twirled readout error extinction (T-REx) uses a technique known as Pauli twirling to reduce the noise introduced during the process of quantum measurement. This technique assumes no specific form of noise, which makes it very general and effective.\n",
    "\n",
    "Overall workflow:\n",
    "\n",
    "1. Acquire data for the zero state with randomized bit flips (Pauli X before measurement)\n",
    "2. Acquire data for the desired (noisy) state with randomized bit flips (Pauli X before measurement)\n",
    "3. Compute the special function for each data set, and divide.\n",
    "\n",
    "&nbsp;\n",
    "\n",
    "![A diagram showing measurement and calibration circuits for T-REX.](/learning/images/courses/variational-algorithm-design/cost-functions/cost-function-trex-data-collection.svg)\n",
    "\n",
    "We can set this with `options.resilience_level = 1`, demonstrated in the example below.\n",
    "\n",
    "### Zero noise extrapolation\n",
    "\n",
    "Zero noise extrapolation (ZNE) works by first amplifying the noise in the circuit that is preparing the desired quantum state, obtaining measurements for several different levels of noise, and using those measurements to infer the noiseless result.\n",
    "\n",
    "Overall workflow:\n",
    "\n",
    "1. Amplify circuit noise for several noise factors\n",
    "2. Run every noise amplified circuit\n",
    "3. Extrapolate back to the zero noise limit\n",
    "\n",
    "&nbsp;\n",
    "\n",
    "![A diagram showing steps in ZNE. Noise is artificially amplified by different factors. Then the values are extrapolated to what they should be at zero noise.](/learning/images/courses/variational-algorithm-design/cost-functions/cost-function-zne-stages.svg)\n",
    "\n",
    "We can set this with `options.resilience_level = 2`. We can optimize this further by exploring a variety of `noise_factors`, `noise_amplifiers`, and `extrapolators`, but this is outside the scope of this course. We encourage you to experiment with these [options as described here](/docs/guides/configure-error-mitigation).\n",
    "\n",
    "Each method comes with its own associated overhead: a trade-off between the number of quantum computations needed (time) and the accuracy of our results:\n",
    "\n",
    "$$\n",
    "\\begin{array}{c|c|c|c}\n",
    "  \\text{Methods} & R=1 \\text{, T-REx} & R=2 \\text{, ZNE} \\\\[1mm]\n",
    "  \\hline\n",
    "  \\text{Assumptions} & \\text{None} & \\text{Ability to scale noise} \\\\[1mm]\n",
    "  \\text{Qubit overhead} & 1 & 1 \\\\[1mm]\n",
    "  \\text{Sampling overhead} & 2 & N_{\\text{noise-factors}} \\\\[1mm]\n",
    "  \\text{Bias} & 0 & \\mathcal{O}(\\lambda^{N_{\\text{noise-factors}}}) \\\\[1mm]\n",
    "\\end{array}\n",
    "$$\n",
    "\n",
    "[bias]: #definition-tooltip \"A systematic drift in the measured quantities, usually caused by errors.\""
   ]
  },
  {
   "attachments": {},
   "cell_type": "markdown",
   "id": "8b46120f-5312-4450-bf51-13be198428fa",
   "metadata": {},
   "source": [
    "### Using Qiskit Runtime's mitigation and suppression options\n",
    "\n",
    "Here's how to calculate an expectation value while using error mitigation and suppression in Qiskit Runtime. We can make use of precisely the same circuit and observable as before, but this time keeping the optimization level fixed at level 2, and now tuning the _resilience_ or the error mitigation technique(s) being used. This error mitigation process occurs multiple times throughout an optimization loop.\n",
    "\n",
    "We perform this part on real hardware, since error mitigation is not available on simulators."
   ]
  },
  {
   "cell_type": "code",
   "execution_count": null,
   "id": "57a6b723-6e73-4693-95bf-f0782a8eb854",
   "metadata": {},
   "outputs": [],
   "source": [
    "# Estimated usage: 8 minutes, benchmarked on ibm_sherbrooke, 5-23-24\n",
    "\n",
    "from qiskit_ibm_runtime import QiskitRuntimeService\n",
    "from qiskit_ibm_runtime import (\n",
    "    Session,\n",
    "    EstimatorOptions,\n",
    "    EstimatorV2 as Estimator,\n",
    ")\n",
    "\n",
    "# We select the least busy backend\n",
    "\n",
    "# Select the least busy backend\n",
    "# backend = service.least_busy(\n",
    "#    operational=True, min_num_qubits=ansatz.num_qubits, simulator=False\n",
    "# )\n",
    "\n",
    "# Or use a specific backend\n",
    "backend = service.backend(\"ibm_cusco\")\n",
    "\n",
    "# Initialize some variables to save the results from different runs:\n",
    "\n",
    "exp_values_with_em0_es = []\n",
    "exp_values_with_em1_es = []\n",
    "exp_values_with_em2_es = []\n",
    "\n",
    "# Use a pass manager to optimize the circuit and observables for the backend chosen:\n",
    "\n",
    "pm = generate_preset_pass_manager(backend=backend, optimization_level=2)\n",
    "isa_circuit = pm.run(circuit)\n",
    "isa_observables = observables.apply_layout(layout=isa_circuit.layout)\n",
    "\n",
    "# Open a session and run with no error mitigation:\n",
    "\n",
    "estimator_options = EstimatorOptions(resilience_level=0, default_shots=10_000)\n",
    "\n",
    "with Session(backend=backend) as session:\n",
    "    estimator = Estimator(mode=session, options=estimator_options)\n",
    "\n",
    "    pub = (isa_circuit, isa_observables, [individual_phases])\n",
    "    cost = estimator.run([pub]).result()[0].data.evs\n",
    "\n",
    "session.close()\n",
    "\n",
    "exp_values_with_em0_es = cost[0]\n",
    "\n",
    "# Open a session and run with resilience = 1:\n",
    "\n",
    "estimator_options = EstimatorOptions(resilience_level=1, default_shots=10_000)\n",
    "\n",
    "with Session(backend=backend) as session:\n",
    "    estimator = Estimator(mode=session, options=estimator_options)\n",
    "\n",
    "    pub = (isa_circuit, isa_observables, [individual_phases])\n",
    "    cost = estimator.run([pub]).result()[0].data.evs\n",
    "\n",
    "session.close()\n",
    "\n",
    "exp_values_with_em1_es = cost[0]\n",
    "\n",
    "# Open a session and run with resilience = 2:\n",
    "\n",
    "estimator_options = EstimatorOptions(resilience_level=2, default_shots=10_000)\n",
    "\n",
    "with Session(backend=backend) as session:\n",
    "    estimator = Estimator(mode=session, options=estimator_options)\n",
    "\n",
    "    pub = (isa_circuit, isa_observables, [individual_phases])\n",
    "    cost = estimator.run([pub]).result()[0].data.evs\n",
    "\n",
    "session.close()\n",
    "\n",
    "exp_values_with_em2_es = cost[0]"
   ]
  },
  {
   "cell_type": "markdown",
   "id": "48215ea6-3045-4880-8671-265e2fb33e5e",
   "metadata": {},
   "source": [
    "As before, we can plot the resulting expectation values as a function of phase angle for the three levels of error mitigation used. With great difficulty, one can see that error mitigation improves the results slightly. Again, this effect is much more pronounced in deeper, more complicated circuits."
   ]
  },
  {
   "cell_type": "code",
   "execution_count": 93,
   "id": "474f1a1a-ee90-468d-9390-fdb455aeb142",
   "metadata": {},
   "outputs": [
    {
     "data": {
      "text/plain": [
       "<Image src=\"/learning/images/courses/variational-algorithm-design/cost-functions/extracted-outputs/474f1a1a-ee90-468d-9390-fdb455aeb142-0.avif\" alt=\"Output of the previous code cell\" />"
      ]
     },
     "metadata": {},
     "output_type": "display_data"
    }
   ],
   "source": [
    "import matplotlib.pyplot as plt\n",
    "\n",
    "plt.plot(phases, exp_values_with_em0_es, \"o\", label=\"unmitigated\")\n",
    "plt.plot(phases, exp_values_with_em1_es, \"o\", label=\"resil = 1\")\n",
    "plt.plot(phases, exp_values_with_em2_es, \"o\", label=\"resil = 2\")\n",
    "plt.plot(phases, 2 * np.sin(phases / 2) ** 2 - 1, label=\"ideal\")\n",
    "plt.ylabel(\"Expectation\")\n",
    "plt.legend()\n",
    "plt.show()"
   ]
  },
  {
   "attachments": {},
   "cell_type": "markdown",
   "id": "1e683c07-96f3-47d5-8981-8d3aeb8be81f",
   "metadata": {},
   "source": [
    "## Summary\n",
    "\n",
    "With this lesson, you learned how to create a cost function:\n",
    "\n",
    "- Create a cost function\n",
    "- How to leverage Qiskit Runtime primitives to mitigate and suppression noise\n",
    "- How to define a measurement strategy to optimize speed vs accuracy\n",
    "\n",
    "Here's our high-level variational workload:\n",
    "\n",
    "![A diagram showing the quantum circuit with unitaries preparing the reference state and variational state, followed by measurements. These are used to evaluate the cost function.](/learning/images/courses/variational-algorithm-design/cost-functions/cost-function-circuit.svg)\n",
    "\n",
    "Our cost function runs during every iteration of the optimization loop. The next lesson will explore how the classical optimizer uses our cost function evaluation to select new parameters."
   ]
  },
  {
   "cell_type": "code",
   "execution_count": 9,
   "id": "2751c16d-a9c1-407b-ab88-a9dcf768bc2e",
   "metadata": {},
   "outputs": [
    {
     "name": "stdout",
     "output_type": "stream",
     "text": [
      "1.1.0\n",
      "0.23.0\n"
     ]
    }
   ],
   "source": [
    "import qiskit\n",
    "import qiskit_ibm_runtime\n",
    "\n",
    "print(qiskit.version.get_version_info())\n",
    "print(qiskit_ibm_runtime.version.get_version_info())"
   ]
  }
 ],
 "metadata": {
  "description": "This lesson explains what a cost function is, how it is used in variational algorithms, and how it can differ from the Hamiltonian.",
  "kernelspec": {
   "display_name": "Python 3",
   "language": "python",
   "name": "python3"
  },
  "language_info": {
   "codemirror_mode": {
    "name": "ipython",
    "version": 3
   },
   "file_extension": ".py",
   "mimetype": "text/x-python",
   "name": "python",
   "nbconvert_exporter": "python",
   "pygments_lexer": "ipython3",
   "version": "3"
  },
  "title": "Cost functions"
 },
 "nbformat": 4,
 "nbformat_minor": 2
}
