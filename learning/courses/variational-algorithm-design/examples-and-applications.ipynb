{
 "cells": [
  {
   "attachments": {},
   "cell_type": "markdown",
   "id": "b45c3fbc-3d24-4da0-88a4-8db2150aba7c",
   "metadata": {},
   "source": [
    "{/* cspell:ignore disp eigvalsh realbackend IIZZ IZIZ IZZI ZIIZ ZZII */}\n",
    "\n",
    "# Examples and applications\n",
    "\n",
    "During this lesson, we'll explore some variational algorithm examples and how to apply them:\n",
    "\n",
    "- How to write a custom variational algorithm\n",
    "- How to apply a variational algorithm to find minimum eigenvalues\n",
    "- How to utilize variational algorithms to solve application use cases\n",
    "\n",
    "Note that the Qiskit patterns framework can be applied to all the problems we introduce here. However, to avoid repetition, we will only explicitly call out the framework steps in one example case, run on real hardware."
   ]
  },
  {
   "attachments": {},
   "cell_type": "markdown",
   "id": "8b7f0c00-af07-4043-8af3-0b3d514f1a32",
   "metadata": {},
   "source": [
    "## Problem definitions\n",
    "\n",
    "Imagine that we want to use a variational algorithm to find the eigenvalue of the following observable:\n",
    "\n",
    "$$\n",
    "\\hat{O}_1 = 2 II - 2 XX + 3 YY - 3 ZZ,\n",
    "$$\n",
    "\n",
    "This observable has the following eigenvalues:\n",
    "\n",
    "$$\n",
    "\\left\\{\n",
    "\\begin{array}{c}\n",
    "\\lambda_0 = -6 \\\\\n",
    "\\lambda_1 = 4 \\\\\n",
    "\\lambda_2 = 4 \\\\\n",
    "\\lambda_3 = 6\n",
    "\\end{array}\n",
    "\\right\\}\n",
    "$$\n",
    "\n",
    "And eigenstates:\n",
    "\n",
    "$$\n",
    "\\left\\{\n",
    "\\begin{array}{c}\n",
    "|\\phi_0\\rangle = \\frac{1}{\\sqrt{2}}(|00\\rangle + |11\\rangle)\\\\\n",
    "|\\phi_1\\rangle = \\frac{1}{\\sqrt{2}}(|00\\rangle - |11\\rangle)\\\\\n",
    "|\\phi_2\\rangle = \\frac{1}{\\sqrt{2}}(|01\\rangle - |10\\rangle)\\\\\n",
    "|\\phi_3\\rangle = \\frac{1}{\\sqrt{2}}(|01\\rangle + |10\\rangle)\n",
    "\\end{array}\n",
    "\\right\\}\n",
    "$$"
   ]
  },
  {
   "cell_type": "code",
   "execution_count": 22,
   "id": "1cb9f137-3cb0-45dd-a49a-61d0be119c68",
   "metadata": {},
   "outputs": [],
   "source": [
    "from qiskit.quantum_info import SparsePauliOp\n",
    "\n",
    "observable_1 = SparsePauliOp.from_list([(\"II\", 2), (\"XX\", -2), (\"YY\", 3), (\"ZZ\", -3)])"
   ]
  },
  {
   "attachments": {},
   "cell_type": "markdown",
   "id": "297600c7-8f3d-4070-b066-b2a0496f7f9c",
   "metadata": {},
   "source": [
    "## Custom VQE\n",
    "\n",
    "We'll first explore how to construct a VQE instance manually to find the lowest eigenvalue for $\\hat{O}_1$. This will incorporate a variety of techniques that we have covered throughout this course."
   ]
  },
  {
   "cell_type": "code",
   "execution_count": 23,
   "id": "36120a96-c625-49d7-9ad3-ca70bfb08346",
   "metadata": {},
   "outputs": [],
   "source": [
    "def cost_func_vqe(params, ansatz, hamiltonian, estimator):\n",
    "    \"\"\"Return estimate of energy from estimator\n",
    "\n",
    "    Parameters:\n",
    "        params (ndarray): Array of ansatz parameters\n",
    "        ansatz (QuantumCircuit): Parameterized ansatz circuit\n",
    "        hamiltonian (SparsePauliOp): Operator representation of Hamiltonian\n",
    "        estimator (Estimator): Estimator primitive instance\n",
    "\n",
    "    Returns:\n",
    "        float: Energy estimate\n",
    "    \"\"\"\n",
    "    pub = (ansatz, hamiltonian, params)\n",
    "    cost = estimator.run([pub]).result()[0].data.evs\n",
    "\n",
    "    return cost"
   ]
  },
  {
   "cell_type": "code",
   "execution_count": 24,
   "id": "57c071aa-e8ab-4b39-b5db-773016da2550",
   "metadata": {},
   "outputs": [
    {
     "data": {
      "image/png": "[encoded data removed]",
      "text/plain": [
       "<Figure size 621.739x200.667 with 1 Axes>"
      ]
     },
     "execution_count": 24,
     "metadata": {},
     "output_type": "execute_result"
    }
   ],
   "source": [
    "from qiskit.circuit.library.n_local import n_local\n",
    "from qiskit import QuantumCircuit\n",
    "\n",
    "reference_circuit = QuantumCircuit(2)\n",
    "reference_circuit.x(0)\n",
    "\n",
    "variational_form = n_local(\n",
    "    num_qubits=2,\n",
    "    rotation_blocks=[\"rz\", \"ry\"],\n",
    "    entanglement_blocks=\"cx\",\n",
    "    entanglement=\"linear\",\n",
    "    reps=1,\n",
    ")\n",
    "\n",
    "raw_ansatz = reference_circuit.compose(variational_form)\n",
    "raw_ansatz.decompose().draw(\"mpl\")\n",
    "\n",
    "\n",
    "#from qiskit.circuit.library import TwoLocal\n",
    "#from qiskit import QuantumCircuit\n",
    "\n",
    "#import numpy as np\n",
    "\n",
    "#reference_circuit = QuantumCircuit(2)\n",
    "#reference_circuit.x(0)\n",
    "\n",
    "#variational_form = TwoLocal(\n",
    "#    2,\n",
    "#    rotation_blocks=[\"rz\", \"ry\"],\n",
    "#    entanglement_blocks=\"cx\",\n",
    "#    entanglement=\"linear\",\n",
    "#    reps=1,\n",
    "#)\n",
    "#raw_ansatz = reference_circuit.compose(variational_form)\n",
    "\n",
    "#raw_ansatz.decompose().draw(\"mpl\")"
   ]
  },
  {
   "cell_type": "markdown",
   "id": "4a138028-d14c-4146-921e-476698102568",
   "metadata": {},
   "source": [
    "We will start debugging on local simulators."
   ]
  },
  {
   "cell_type": "code",
   "execution_count": 25,
   "id": "2f7c0fab-d6c2-4c90-b122-a5a90976bdaf",
   "metadata": {},
   "outputs": [],
   "source": [
    "from qiskit.primitives import StatevectorEstimator as Estimator\n",
    "from qiskit.primitives import StatevectorSampler as Sampler\n",
    "\n",
    "estimator = Estimator()\n",
    "sampler = Sampler()"
   ]
  },
  {
   "cell_type": "markdown",
   "id": "824c57f9-8bf0-478a-99fd-3f89a48a1aff",
   "metadata": {},
   "source": [
    "We now set an initial set of parameters:"
   ]
  },
  {
   "cell_type": "code",
   "execution_count": 26,
   "id": "cd0e029d-0807-4387-aef0-96ea5866c063",
   "metadata": {},
   "outputs": [
    {
     "name": "stdout",
     "output_type": "stream",
     "text": [
      "[1. 1. 1. 1. 1. 1. 1. 1.]\n"
     ]
    }
   ],
   "source": [
    "x0 = np.ones(raw_ansatz.num_parameters)\n",
    "print(x0)"
   ]
  },
  {
   "attachments": {},
   "cell_type": "markdown",
   "id": "0d70046a-16ac-48b4-9a0d-5afe3b65af09",
   "metadata": {},
   "source": [
    "We can minimize this cost function to calculate optimal parameters"
   ]
  },
  {
   "cell_type": "code",
   "execution_count": 27,
   "id": "25df1d56-ad05-43a8-b2cb-60b16105f6e4",
   "metadata": {},
   "outputs": [
    {
     "name": "stdout",
     "output_type": "stream",
     "text": [
      "Return from COBYLA because the trust region radius reaches its lower bound.\n",
      "Number of function values = 103   Least value of F = -5.999999998357189\n",
      "The corresponding X is:\n",
      "[2.27483579e+00 8.37593091e-01 1.57080508e+00 5.82932911e-06\n",
      " 2.49973063e+00 6.41884255e-01 6.33686904e-01 6.33688223e-01]\n",
      "\n"
     ]
    }
   ],
   "source": [
    "# SciPy minimizer routine\n",
    "from scipy.optimize import minimize\n",
    "import time\n",
    "\n",
    "start_time = time.time()\n",
    "\n",
    "result = minimize(\n",
    "    cost_func_vqe,\n",
    "    x0,\n",
    "    args=(raw_ansatz, observable_1, estimator),\n",
    "    method=\"COBYLA\",\n",
    "    options={\"maxiter\": 1000, \"disp\": True},\n",
    ")\n",
    "\n",
    "end_time = time.time()\n",
    "execution_time = end_time - start_time"
   ]
  },
  {
   "cell_type": "code",
   "execution_count": 28,
   "id": "fbf9450b-acfb-43bd-88b3-cfe4633b54ae",
   "metadata": {},
   "outputs": [
    {
     "data": {
      "text/plain": [
       " message: Return from COBYLA because the trust region radius reaches its lower bound.\n",
       " success: True\n",
       "  status: 0\n",
       "     fun: -5.999999998357189\n",
       "       x: [ 2.275e+00  8.376e-01  1.571e+00  5.829e-06  2.500e+00\n",
       "            6.419e-01  6.337e-01  6.337e-01]\n",
       "    nfev: 103\n",
       "   maxcv: 0.0"
      ]
     },
     "execution_count": 28,
     "metadata": {},
     "output_type": "execute_result"
    }
   ],
   "source": [
    "result"
   ]
  },
  {
   "cell_type": "markdown",
   "id": "a3bcf55d-cfee-415f-85c9-5923dd3e4513",
   "metadata": {},
   "source": [
    "Because this toy problem uses only two qubits, we can check this by using NumPy's linear algebra eigensolver."
   ]
  },
  {
   "cell_type": "code",
   "execution_count": 29,
   "id": "e99d0559-c392-4023-93be-7e0ea0361f5b",
   "metadata": {},
   "outputs": [
    {
     "name": "stdout",
     "output_type": "stream",
     "text": [
      "Number of iterations: 103\n",
      "Time (s): 0.4394676685333252\n",
      "Percent error: 2.74e-08\n"
     ]
    }
   ],
   "source": [
    "from numpy.linalg import eigvalsh\n",
    "\n",
    "solution_eigenvalue = min(eigvalsh(observable_1.to_matrix()))\n",
    "\n",
    "print(f\"\"\"Number of iterations: {result.nfev}\"\"\")\n",
    "print(f\"\"\"Time (s): {execution_time}\"\"\")\n",
    "\n",
    "print(\n",
    "    f\"Percent error: {100*abs((result.fun - solution_eigenvalue)/solution_eigenvalue):.2e}\"\n",
    ")"
   ]
  },
  {
   "attachments": {},
   "cell_type": "markdown",
   "id": "17f4f2b7-3721-4708-969d-3f07dc74d2f1",
   "metadata": {},
   "source": [
    "As you can see, the result is extremely close to the ideal."
   ]
  },
  {
   "cell_type": "markdown",
   "id": "f795f1dc-dd4b-478a-84d0-4a981a3187cf",
   "metadata": {},
   "source": [
    "## Experimenting to improve speed and accuracy"
   ]
  },
  {
   "cell_type": "markdown",
   "id": "68de1e76-a6d8-4585-83ec-9bb57747dbf7",
   "metadata": {},
   "source": [
    "### Add reference state\n",
    "\n",
    "In the previous example we have not used any reference operator $U_R$. Now let us think about how the ideal eigenstate $\\frac{1}{\\sqrt{2}}(|00\\rangle + |11\\rangle)$ can be obtained. Consider the following circuit."
   ]
  },
  {
   "cell_type": "code",
   "execution_count": 30,
   "id": "55b26ae7-ad26-4b54-b4f3-2004bb2db0c9",
   "metadata": {},
   "outputs": [
    {
     "data": {
      "image/png": "[encoded data removed]",
      "text/plain": [
       "<Figure size 287.294x200.667 with 1 Axes>"
      ]
     },
     "execution_count": 30,
     "metadata": {},
     "output_type": "execute_result"
    }
   ],
   "source": [
    "from qiskit import QuantumCircuit\n",
    "\n",
    "ideal_qc = QuantumCircuit(2)\n",
    "ideal_qc.h(0)\n",
    "ideal_qc.cx(0, 1)\n",
    "\n",
    "ideal_qc.draw(\"mpl\")"
   ]
  },
  {
   "cell_type": "markdown",
   "id": "e5368863-cf78-4f07-93bf-3a215aae5476",
   "metadata": {},
   "source": [
    "We can quickly check that this circuit gives us the desired state."
   ]
  },
  {
   "cell_type": "code",
   "execution_count": 31,
   "id": "2595ad2a-bea2-4770-8f77-f38eb0c07815",
   "metadata": {},
   "outputs": [
    {
     "name": "stdout",
     "output_type": "stream",
     "text": [
      "Statevector([0.70710678+0.j, 0.        +0.j, 0.        +0.j,\n",
      "             0.70710678+0.j],\n",
      "            dims=(2, 2))\n"
     ]
    }
   ],
   "source": [
    "from qiskit.quantum_info import Statevector\n",
    "\n",
    "Statevector(ideal_qc)"
   ]
  },
  {
   "attachments": {},
   "cell_type": "markdown",
   "id": "b075a92d-4162-4cb1-bb4f-ab9feea67f61",
   "metadata": {},
   "source": [
    "Now that we have seen how a circuit preparing the solution state looks like, it seems reasonable to use a Hadamard gate as a reference circuit, so that the full ansatz becomes:"
   ]
  },
  {
   "cell_type": "code",
   "execution_count": 32,
   "id": "14e04c7a-e81f-41e1-b0cf-790954581be9",
   "metadata": {},
   "outputs": [
    {
     "data": {
      "image/png": "[encoded data removed]",
      "text/plain": [
       "<Figure size 788.961x200.667 with 1 Axes>"
      ]
     },
     "execution_count": 32,
     "metadata": {},
     "output_type": "execute_result"
    }
   ],
   "source": [
    "reference = QuantumCircuit(2)\n",
    "reference.h(0)\n",
    "reference.cx(0, 1)\n",
    "# Include barrier to separate reference from variational form\n",
    "reference.barrier()\n",
    "\n",
    "ref_ansatz = variational_form.decompose().compose(reference, front=True)\n",
    "\n",
    "ref_ansatz.draw(\"mpl\")"
   ]
  },
  {
   "cell_type": "markdown",
   "id": "d032410e-eb2e-4410-859c-7c5f8ef8c2db",
   "metadata": {},
   "source": [
    "For this new circuit, the ideal solution could be reached with all the parameters set to $0$, so this confirms that the choice of reference circuit is reasonable.\n",
    "\n",
    "Now let us compare the number of cost function evaluations, optimizer iterations and time taken with those of the previous attempt."
   ]
  },
  {
   "cell_type": "code",
   "execution_count": 33,
   "id": "968dedc7-4073-4014-b807-8451a50c0f13",
   "metadata": {},
   "outputs": [],
   "source": [
    "import time\n",
    "\n",
    "start_time = time.time()\n",
    "\n",
    "ref_result = minimize(\n",
    "    cost_func_vqe, x0, args=(ref_ansatz, observable_1, estimator), method=\"COBYLA\"\n",
    ")\n",
    "\n",
    "end_time = time.time()\n",
    "execution_time = end_time - start_time"
   ]
  },
  {
   "cell_type": "markdown",
   "id": "20f61d98-86ef-4e9a-a85e-fa333309508c",
   "metadata": {},
   "source": [
    "Using our optimal parameters to calculate the minimum eigenvalue:"
   ]
  },
  {
   "cell_type": "code",
   "execution_count": 34,
   "id": "241a5b4d-b5cf-41c9-a8d2-4ebf65b47a5e",
   "metadata": {},
   "outputs": [
    {
     "name": "stdout",
     "output_type": "stream",
     "text": [
      "-5.999999996759607\n"
     ]
    }
   ],
   "source": [
    "experimental_min_eigenvalue_ref = cost_func_vqe(\n",
    "    ref_result.x, ref_ansatz, observable_1, estimator\n",
    ")\n",
    "print(experimental_min_eigenvalue_ref)"
   ]
  },
  {
   "cell_type": "code",
   "execution_count": 35,
   "id": "878ff8e1-f1d7-47c2-acda-d2541ac0b3cd",
   "metadata": {},
   "outputs": [
    {
     "name": "stdout",
     "output_type": "stream",
     "text": [
      "ADDED REFERENCE STATE:\n",
      "Number of iterations: 127\n",
      "Time (s): 0.5620882511138916\n",
      "Percent error: 5.40e-08\n"
     ]
    }
   ],
   "source": [
    "print(\"ADDED REFERENCE STATE:\")\n",
    "print(f\"\"\"Number of iterations: {ref_result.nfev}\"\"\")\n",
    "print(f\"\"\"Time (s): {execution_time}\"\"\")\n",
    "print(\n",
    "    f\"Percent error: {100*abs((experimental_min_eigenvalue_ref - solution_eigenvalue)/solution_eigenvalue):.2e}\"\n",
    ")"
   ]
  },
  {
   "cell_type": "markdown",
   "id": "28048443-9890-4168-bb19-cf95f999b6c2",
   "metadata": {},
   "source": [
    "Depending on your specific system, this may or may not result in an improvement in speed or accuracy in this very small scale example. The point is that starting with physically-motivated reference states becomes increasingly important in improving speed and accuracy as problems scale."
   ]
  },
  {
   "cell_type": "markdown",
   "id": "41cdb430-27a3-4a28-92f1-d73ad6ed0dc5",
   "metadata": {},
   "source": [
    "### Change the initial point"
   ]
  },
  {
   "cell_type": "markdown",
   "id": "f528cb99-dcab-4f76-ad38-00ddf4d75f50",
   "metadata": {},
   "source": [
    "Now that we have seen the effect of adding the reference state, we will go into what happens when we choose different initial points $\\vec{\\theta_0}$. In particular we will use $\\vec{\\theta_0}=(0,0,0,0,6,0,0,0)$ and $\\vec{\\theta_0}=(6,6,6,6,6,6,6,6,6)$.\n",
    "\n",
    "Remember that, as discussed when the reference state was introduced, the ideal solution would be found when all the parameters are $0$, so the first initial point should give fewer evaluations."
   ]
  },
  {
   "cell_type": "code",
   "execution_count": 36,
   "id": "9ef75002-f058-4946-a38d-564775a7268f",
   "metadata": {},
   "outputs": [],
   "source": [
    "import time\n",
    "\n",
    "start_time = time.time()\n",
    "\n",
    "x0 = [0, 0, 0, 0, 6, 0, 0, 0]\n",
    "\n",
    "x0_1_result = minimize(\n",
    "    cost_func_vqe, x0, args=(raw_ansatz, observable_1, estimator), method=\"COBYLA\"\n",
    ")\n",
    "\n",
    "end_time = time.time()\n",
    "execution_time = end_time - start_time"
   ]
  },
  {
   "cell_type": "code",
   "execution_count": 37,
   "id": "f52592f3-0af5-4f58-84ce-d1e9960d8dc2",
   "metadata": {},
   "outputs": [
    {
     "name": "stdout",
     "output_type": "stream",
     "text": [
      "INITIAL POINT 1:\n",
      "Number of iterations: 108\n",
      "Time (s): 0.4492197036743164\n"
     ]
    }
   ],
   "source": [
    "print(\"INITIAL POINT 1:\")\n",
    "print(f\"\"\"Number of iterations: {x0_1_result.nfev}\"\"\")\n",
    "print(f\"\"\"Time (s): {execution_time}\"\"\")"
   ]
  },
  {
   "cell_type": "markdown",
   "id": "a8bfac60-cb21-4661-a412-ce8a41f25597",
   "metadata": {},
   "source": [
    "Adjusting initial point to $\\vec{\\theta_0}=(6,6,6,6,6,6,6,6,6)$:"
   ]
  },
  {
   "cell_type": "code",
   "execution_count": 38,
   "id": "c33df46e-bd4b-490d-8704-750e271724ff",
   "metadata": {},
   "outputs": [],
   "source": [
    "import time\n",
    "\n",
    "start_time = time.time()\n",
    "\n",
    "x0 = 6 * np.ones(raw_ansatz.num_parameters)\n",
    "\n",
    "x0_2_result = minimize(\n",
    "    cost_func_vqe, x0, args=(raw_ansatz, observable_1, estimator), method=\"COBYLA\"\n",
    ")\n",
    "\n",
    "end_time = time.time()\n",
    "execution_time = end_time - start_time"
   ]
  },
  {
   "cell_type": "code",
   "execution_count": 39,
   "id": "a04e7171-26c3-4b38-afa7-bfe4e1b95600",
   "metadata": {},
   "outputs": [
    {
     "name": "stdout",
     "output_type": "stream",
     "text": [
      "INITIAL POINT 2:\n",
      "Number of iterations: 107\n",
      "Time (s): 0.40889453887939453\n"
     ]
    }
   ],
   "source": [
    "print(\"INITIAL POINT 2:\")\n",
    "print(f\"\"\"Number of iterations: {x0_2_result.nfev}\"\"\")\n",
    "print(f\"\"\"Time (s): {execution_time}\"\"\")"
   ]
  },
  {
   "cell_type": "markdown",
   "id": "6b842e53-bfa2-48ec-8ae9-54e3be0efaab",
   "metadata": {},
   "source": [
    "By experimenting with different initial points, you might be able to achieve convergence faster and with fewer function evaluations."
   ]
  },
  {
   "cell_type": "markdown",
   "id": "9fd53a82-758c-4081-8fef-3b0bb109f0db",
   "metadata": {},
   "source": [
    "### Experimenting with different optimizers\n",
    "\n",
    "We can adjust the optimizer using SciPy `minimize`'s `method` argument, with more options [found here](https://docs.scipy.org/doc/scipy/reference/generated/scipy.optimize.minimize.html). We originally used a constrained minimizer (`COBYLA`). In this example, we'll explore using an unconstrained minimizer (`BFGS`) instead"
   ]
  },
  {
   "cell_type": "code",
   "execution_count": 40,
   "id": "7e21aa4c-67b1-46db-8d32-d216f7ea8f40",
   "metadata": {},
   "outputs": [],
   "source": [
    "import time\n",
    "\n",
    "start_time = time.time()\n",
    "\n",
    "result = minimize(\n",
    "    cost_func_vqe, x0, args=(raw_ansatz, observable_1, estimator), method=\"BFGS\"\n",
    ")\n",
    "\n",
    "end_time = time.time()\n",
    "execution_time = end_time - start_time"
   ]
  },
  {
   "cell_type": "code",
   "execution_count": 41,
   "id": "063f98c5-a281-47c9-978d-438ddb35b556",
   "metadata": {},
   "outputs": [
    {
     "name": "stdout",
     "output_type": "stream",
     "text": [
      "CHANGED TO BFGS OPTIMIZER:\n",
      "Number of iterations: 117\n",
      "Time (s): 0.31656408309936523\n"
     ]
    }
   ],
   "source": [
    "print(\"CHANGED TO BFGS OPTIMIZER:\")\n",
    "print(f\"\"\"Number of iterations: {result.nfev}\"\"\")\n",
    "print(f\"\"\"Time (s): {execution_time}\"\"\")"
   ]
  },
  {
   "cell_type": "markdown",
   "id": "4eb3e4e4-ae77-4098-95cc-2d29ea04301b",
   "metadata": {},
   "source": [
    "## VQD example"
   ]
  },
  {
   "cell_type": "markdown",
   "id": "a0f974f7-cf29-4d30-93a7-da9ee8689c2e",
   "metadata": {},
   "source": [
    "Here we implement the Qiskit patterns framework, explicitly."
   ]
  },
  {
   "attachments": {},
   "cell_type": "markdown",
   "id": "3ef8f695-9694-4ccc-9fba-c24ba312a066",
   "metadata": {},
   "source": [
    "### Step 1: Map classical inputs to a quantum problem\n",
    "\n",
    "Now instead of looking for only the lowest eigenvalue of our observables, we will look for all $4$, (where $k=4$).\n",
    "\n",
    "Remember that the cost functions of VQD are:\n",
    "\n",
    "$$\n",
    "C_{l}(\\vec{\\theta}) :=\n",
    "\\langle \\psi(\\vec{\\theta}) | \\hat{H} | \\psi(\\vec{\\theta})\\rangle +\n",
    "\\sum_{j=0}^{l-1}\\beta_j |\\langle \\psi(\\vec{\\theta})| \\psi(\\vec{\\theta^j})\\rangle  |^2\n",
    "\\quad \\forall l\\in\\{1,\\cdots,k\\}=\\{1,\\cdots,4\\}\n",
    "$$\n",
    "\n",
    "This is particularly important because a vector $\\vec{\\beta}=(\\beta_0,\\cdots,\\beta_{k-1})$ (in this case $(\\beta_0, \\beta_1, \\beta_2, \\beta_3)$) must be passed as an argument when we define the `VQD` object.\n",
    "\n",
    "Also, in Qiskit's implementation of VQD, instead of considering the effective observables described in the previous notebook, the fidelities $|\\langle \\psi(\\vec{\\theta})| \\psi(\\vec{\\theta^j})\\rangle  |^2$ are calculated directly via the `ComputeUncompute` algorithm, that leverages a `Sampler` primitive to sample the probability of obtaining $|0\\rangle$ for the circuit\n",
    "$U_A^\\dagger(\\vec{\\theta})U_A(\\vec{\\theta^j})$. This works precisely because this probability is\n",
    "\n",
    "$$\n",
    "\\begin{aligned}\n",
    "\n",
    "p_0\n",
    "\n",
    "& = |\\langle 0|U_A^\\dagger(\\vec{\\theta})U_A(\\vec{\\theta^j})|0\\rangle|^2 \\\\[1mm]\n",
    "\n",
    "& = |\\big(\\langle 0|U_A^\\dagger(\\vec{\\theta})\\big)\\big(U_A(\\vec{\\theta^j})|0\\rangle\\big)|^2 \\\\[1mm]\n",
    "\n",
    "& = |\\langle \\psi(\\vec{\\theta}) |\\psi(\\vec{\\theta^j}) \\rangle|^2 \\\\[1mm]\n",
    "\n",
    "\\end{aligned}\n",
    "$$"
   ]
  },
  {
   "cell_type": "code",
   "execution_count": 42,
   "id": "e4d59381-43ff-4322-a6f2-df55cef18536",
   "metadata": {},
   "outputs": [
    {
     "data": {
      "image/png": "[encoded data removed]",
      "text/plain": [
       "<Figure size 705.35x200.667 with 1 Axes>"
      ]
     },
     "execution_count": 42,
     "metadata": {},
     "output_type": "execute_result"
    }
   ],
   "source": [
    "from qiskit.circuit.library import TwoLocal\n",
    "\n",
    "ansatz = n_local(\n",
    "    num_qubits=2,\n",
    "    rotation_blocks=[\"ry\", \"rz\"],\n",
    "    entanglement_blocks=\"cz\",\n",
    "#    entanglement=\"linear\",\n",
    "    reps=1,\n",
    ")\n",
    "\n",
    "#ansatz = TwoLocal(2, rotation_blocks=[\"ry\", \"rz\"], entanglement_blocks=\"cz\", reps=1)\n",
    "\n",
    "ansatz.decompose().draw(\"mpl\")"
   ]
  },
  {
   "attachments": {},
   "cell_type": "markdown",
   "id": "f49e35ed-2a4b-48bb-a060-f6fea16d7e7d",
   "metadata": {},
   "source": [
    "Let's start by examining the following observable:\n",
    "\n",
    "$$\n",
    "\\hat{O}_2 := 2 II - 3 XX + 2 YY - 4 ZZ\n",
    "$$\n",
    "\n",
    "This observable has the following eigenvalues:\n",
    "\n",
    "$$\n",
    "\\left\\{\n",
    "\\begin{array}{c}\n",
    "\\lambda_0 = -7 \\\\\n",
    "\\lambda_1 = 3\\\\\n",
    "\\lambda_2 = 5 \\\\\n",
    "\\lambda_3 = 7\n",
    "\\end{array}\n",
    "\\right\\}\n",
    "$$\n",
    "\n",
    "And eigenstates:\n",
    "\n",
    "$$\n",
    "\\left\\{\n",
    "\\begin{array}{c}\n",
    "|\\phi_0\\rangle = \\frac{1}{\\sqrt{2}}(|00\\rangle + |11\\rangle)\\\\\n",
    "|\\phi_1\\rangle = \\frac{1}{\\sqrt{2}}(|00\\rangle - |11\\rangle)\\\\\n",
    "|\\phi_2\\rangle = \\frac{1}{\\sqrt{2}}(|01\\rangle + |10\\rangle)\\\\\n",
    "|\\phi_3\\rangle = \\frac{1}{\\sqrt{2}}(|01\\rangle - |10\\rangle)\n",
    "\\end{array}\n",
    "\\right\\}\n",
    "$$"
   ]
  },
  {
   "cell_type": "code",
   "execution_count": 43,
   "id": "917749d0-c396-4045-9df7-a61ece924485",
   "metadata": {},
   "outputs": [],
   "source": [
    "from qiskit.quantum_info import SparsePauliOp\n",
    "\n",
    "observable_2 = SparsePauliOp.from_list([(\"II\", 2), (\"XX\", -3), (\"YY\", 2), (\"ZZ\", -4)])"
   ]
  },
  {
   "cell_type": "markdown",
   "id": "17bbde42-da64-44c3-9257-8c2ed4c48667",
   "metadata": {},
   "source": [
    "We'll be using the following function to calculate the overlap penalty. Note that this is still part of mapping the problem to quantum circuits. However, as discussed in the previous lesson, this function calculates the overlap between a current variational circuit and the optimized circuit from a previous, lower-energy/cost state obtained. The new circuit being generated also has to be transpiled to run on real hardware. We have seen this function before, used on a simulator. Here, we must already consider the transpiling and related optimization for when we use a real backend, hence the lines around `if realbackend == 1`. This is mixing a bit of step 2, but we will call out step 2 explicitly later."
   ]
  },
  {
   "cell_type": "code",
   "execution_count": 44,
   "id": "9999ed16-2b59-4dfb-8313-17dde10dcbf1",
   "metadata": {},
   "outputs": [],
   "source": [
    "import numpy as np\n",
    "from qiskit.transpiler.preset_passmanagers import generate_preset_pass_manager\n",
    "\n",
    "\n",
    "def calculate_overlaps(\n",
    "    ansatz, prev_circuits, parameters, sampler, realbackend, backend\n",
    "):\n",
    "    def create_fidelity_circuit(circuit_1, circuit_2):\n",
    "        if len(circuit_1.clbits) > 0:\n",
    "            circuit_1.remove_final_measurements()\n",
    "        if len(circuit_2.clbits) > 0:\n",
    "            circuit_2.remove_final_measurements()\n",
    "\n",
    "        circuit = circuit_1.compose(circuit_2.inverse())\n",
    "        circuit.measure_all()\n",
    "        return circuit\n",
    "\n",
    "    overlaps = []\n",
    "\n",
    "    for prev_circuit in prev_circuits:\n",
    "        fidelity_circuit = create_fidelity_circuit(ansatz, prev_circuit)\n",
    "        if realbackend == 1:\n",
    "            pm = generate_preset_pass_manager(backend=backend, optimization_level=3)\n",
    "            fidelity_circuit = pm.run(fidelity_circuit)\n",
    "        sampler_job = sampler.run([(fidelity_circuit, parameters)])\n",
    "        meas_data = sampler_job.result()[0].data.meas\n",
    "\n",
    "        counts_0 = meas_data.get_int_counts().get(0, 0)\n",
    "        shots = meas_data.num_shots\n",
    "        overlap = counts_0 / shots\n",
    "        overlaps.append(overlap)\n",
    "\n",
    "    return np.array(overlaps)"
   ]
  },
  {
   "cell_type": "markdown",
   "id": "5321dc7f-f546-4223-8de3-fe29008ec8d2",
   "metadata": {},
   "source": [
    "Now we add VQD's cost function. Note that compared to the previous lesson, we now have two additional arguments (`realbackend` and `backend`) to help us with transpilation when we use real backends."
   ]
  },
  {
   "cell_type": "code",
   "execution_count": 45,
   "id": "07ce634a-9921-42e8-be37-74fbf1631b97",
   "metadata": {},
   "outputs": [],
   "source": [
    "def cost_func_vqd(\n",
    "    parameters,\n",
    "    ansatz,\n",
    "    prev_states,\n",
    "    step,\n",
    "    betas,\n",
    "    estimator,\n",
    "    sampler,\n",
    "    hamiltonian,\n",
    "    realbackend,\n",
    "    backend,\n",
    "):\n",
    "    estimator_job = estimator.run([(ansatz, hamiltonian, [parameters])])\n",
    "\n",
    "    total_cost = 0\n",
    "\n",
    "    if step > 1:\n",
    "        overlaps = calculate_overlaps(\n",
    "            ansatz, prev_states, parameters, sampler, realbackend, backend\n",
    "        )\n",
    "        total_cost = np.sum(\n",
    "            [np.real(betas[state] * overlap) for state, overlap in enumerate(overlaps)]\n",
    "        )\n",
    "\n",
    "    estimator_result = estimator_job.result()[0]\n",
    "\n",
    "    value = estimator_result.data.evs[0] + total_cost\n",
    "\n",
    "    return value"
   ]
  },
  {
   "cell_type": "markdown",
   "id": "722f238d-2789-47a3-9998-267b74f9e481",
   "metadata": {},
   "source": [
    "Once again, we will use simulators for debugging, and then move on to real hardware."
   ]
  },
  {
   "cell_type": "code",
   "execution_count": 46,
   "id": "c6f418c0-4cab-4334-96ed-14f26162ffcc",
   "metadata": {},
   "outputs": [],
   "source": [
    "from qiskit.primitives import StatevectorSampler\n",
    "from qiskit.primitives import StatevectorEstimator\n",
    "\n",
    "sampler = StatevectorSampler(default_shots=4092)\n",
    "estimator = StatevectorEstimator()"
   ]
  },
  {
   "cell_type": "markdown",
   "id": "1cdb7151-2408-4f70-8381-af70255b7c34",
   "metadata": {},
   "source": [
    "Here we introduce the number of states we wish to calculate, the penalties, and a set of initial parameters, x0."
   ]
  },
  {
   "cell_type": "code",
   "execution_count": 47,
   "id": "b6c71453-4466-4fdf-8442-82483d16ff8d",
   "metadata": {},
   "outputs": [],
   "source": [
    "from qiskit.quantum_info import SparsePauliOp\n",
    "import numpy as np\n",
    "\n",
    "k = 4\n",
    "betas = [50, 60, 40]\n",
    "x0 = np.ones(8)"
   ]
  },
  {
   "cell_type": "markdown",
   "id": "60152310-abcb-439d-ae51-5627797fe821",
   "metadata": {},
   "source": [
    "We will now test the algorithm using simulators:"
   ]
  },
  {
   "cell_type": "code",
   "execution_count": 48,
   "id": "0c846737-4766-454f-a5a0-d09bc04cf5c2",
   "metadata": {},
   "outputs": [
    {
     "name": "stdout",
     "output_type": "stream",
     "text": [
      " message: Return from COBYLA because the trust region radius reaches its lower bound.\n",
      " success: True\n",
      "  status: 0\n",
      "     fun: -6.9999999999996\n",
      "       x: [ 1.571e+00  1.571e+00  2.519e+00  2.100e+00  1.242e+00\n",
      "            6.935e-01  2.298e+00  1.991e+00]\n",
      "    nfev: 151\n",
      "   maxcv: 0.0\n",
      " message: Return from COBYLA because the trust region radius reaches its lower bound.\n",
      " success: True\n",
      "  status: 0\n",
      "     fun: 3.698974255258432\n",
      "       x: [ 1.269e+00  1.109e+00  1.080e+00  1.200e+00  1.094e+00\n",
      "            1.163e+00  9.752e-01  9.519e-01]\n",
      "    nfev: 103\n",
      "   maxcv: 0.0\n",
      " message: Return from COBYLA because the trust region radius reaches its lower bound.\n",
      " success: True\n",
      "  status: 0\n",
      "     fun: 4.731320121938101\n",
      "       x: [ 1.533e+00  2.451e+00  2.526e+00  2.406e+00  1.968e+00\n",
      "            2.105e+00  8.537e-01  8.442e-01]\n",
      "    nfev: 110\n",
      "   maxcv: 0.0\n",
      " message: Return from COBYLA because the trust region radius reaches its lower bound.\n",
      " success: True\n",
      "  status: 0\n",
      "     fun: 7.008239313655201\n",
      "       x: [ 4.150e+00  2.120e+00  3.495e+00  7.262e-01  1.953e+00\n",
      "           -1.982e-01  3.263e-01  2.563e+00]\n",
      "    nfev: 126\n",
      "   maxcv: 0.0\n"
     ]
    }
   ],
   "source": [
    "from scipy.optimize import minimize\n",
    "\n",
    "prev_states = []\n",
    "prev_opt_parameters = []\n",
    "eigenvalues = []\n",
    "\n",
    "realbackend = 0\n",
    "\n",
    "for step in range(1, k + 1):\n",
    "    if step > 1:\n",
    "        prev_states.append(ansatz.assign_parameters(prev_opt_parameters))\n",
    "\n",
    "    result = minimize(\n",
    "        cost_func_vqd,\n",
    "        x0,\n",
    "        args=(\n",
    "            ansatz,\n",
    "            prev_states,\n",
    "            step,\n",
    "            betas,\n",
    "            estimator,\n",
    "            sampler,\n",
    "            observable_2,\n",
    "            realbackend,\n",
    "            None,\n",
    "        ),\n",
    "        method=\"COBYLA\",\n",
    "        options={\"maxiter\": 200, \"tol\": 0.000001},\n",
    "    )\n",
    "    print(result)\n",
    "\n",
    "    prev_opt_parameters = result.x\n",
    "    eigenvalues.append(result.fun)"
   ]
  },
  {
   "cell_type": "code",
   "execution_count": 49,
   "id": "91546335-2f0f-4e05-bb92-62c49f67a005",
   "metadata": {},
   "outputs": [
    {
     "data": {
      "text/plain": [
       "[np.float64(-6.9999999999996),\n",
       " np.float64(3.698974255258432),\n",
       " np.float64(4.731320121938101),\n",
       " np.float64(7.008239313655201)]"
      ]
     },
     "execution_count": 49,
     "metadata": {},
     "output_type": "execute_result"
    }
   ],
   "source": [
    "eigenvalues"
   ]
  },
  {
   "cell_type": "markdown",
   "id": "14d995bd-e486-48cc-b73d-b2ca042dce07",
   "metadata": {},
   "source": [
    "These results are fairly close to the expected ones except for approximation error and global phase. We could adjust the tolerance on the classical optimizer and/or the penalties for statevector overlap to obtain more precise values."
   ]
  },
  {
   "cell_type": "code",
   "execution_count": 50,
   "id": "6e18fcde-09b2-45a0-a04b-3ee7a6e9bde6",
   "metadata": {},
   "outputs": [
    {
     "name": "stdout",
     "output_type": "stream",
     "text": [
      "Percent error: 5.71e-14\n",
      "Percent error: 2.33e-01\n",
      "Percent error: 5.37e-02\n",
      "Percent error: 1.18e-03\n"
     ]
    }
   ],
   "source": [
    "solution_eigenvalues = [-7, 3, 5, 7]\n",
    "\n",
    "for index, experimental_eigenvalue in enumerate(eigenvalues):\n",
    "    solution_eigenvalue = solution_eigenvalues[index]\n",
    "\n",
    "    print(\n",
    "        f\"Percent error: {abs((experimental_eigenvalue - solution_eigenvalue)/solution_eigenvalue):.2e}\"\n",
    "    )"
   ]
  },
  {
   "attachments": {},
   "cell_type": "markdown",
   "id": "13fc804e-6248-4738-9187-dbebfc2fbfd6",
   "metadata": {},
   "source": [
    "### Change betas"
   ]
  },
  {
   "attachments": {},
   "cell_type": "markdown",
   "id": "36b1bee9-e6f2-4978-be4f-509f67d7f5da",
   "metadata": {},
   "source": [
    "As mentioned in the previous lesson, the values of $\\vec{\\beta}$ should be bigger than the difference between eigenvalues. Let us see what happens when they do not satisfy that condition with $\\hat{O}_2$\n",
    "\n",
    "$$\n",
    "\\hat{O}_2 = 2 II - 3 XX + 2 YY - 4 ZZ\n",
    "$$\n",
    "\n",
    "with eigenvalues\n",
    "\n",
    "$$\n",
    "\\left\\{\n",
    "\\begin{array}{c}\n",
    "\\lambda_0 = -7 \\\\\n",
    "\\lambda_1 = 3\\\\\n",
    "\\lambda_2 = 5 \\\\\n",
    "\\lambda_3 = 7\n",
    "\\end{array}\n",
    "\\right\\}\n",
    "$$"
   ]
  },
  {
   "cell_type": "code",
   "execution_count": 51,
   "id": "91f7f00a-b843-4b8d-98a6-836d41643f7a",
   "metadata": {},
   "outputs": [],
   "source": [
    "from qiskit.quantum_info import SparsePauliOp\n",
    "\n",
    "k = 4\n",
    "betas = np.ones(3)\n",
    "x0 = np.zeros(8)"
   ]
  },
  {
   "cell_type": "code",
   "execution_count": 52,
   "id": "011f21d7-358b-4f8f-ac3e-fd348e486c9e",
   "metadata": {},
   "outputs": [
    {
     "name": "stdout",
     "output_type": "stream",
     "text": [
      " message: Return from COBYLA because the trust region radius reaches its lower bound.\n",
      " success: True\n",
      "  status: 0\n",
      "     fun: -6.999916534745094\n",
      "       x: [ 1.568e+00 -1.569e+00  1.385e-01  1.398e-01 -7.972e-01\n",
      "            7.835e-01 -2.375e-01  4.539e-02]\n",
      "    nfev: 125\n",
      "   maxcv: 0.0\n",
      " message: Return from COBYLA because the trust region radius reaches its lower bound.\n",
      " success: True\n",
      "  status: 0\n",
      "     fun: -1.515139929812874\n",
      "       x: [-5.317e-04 -2.514e-03  1.016e+00  9.998e-01  3.890e-04\n",
      "            1.772e-04  1.568e-04  8.497e-04]\n",
      "    nfev: 35\n",
      "   maxcv: 0.0\n",
      " message: Return from COBYLA because the trust region radius reaches its lower bound.\n",
      " success: True\n",
      "  status: 0\n",
      "     fun: -0.509948114293115\n",
      "       x: [-3.796e-03  8.853e-03  3.015e-04  9.997e-01  6.271e-04\n",
      "           -2.554e-03  1.017e-04  2.766e-04]\n",
      "    nfev: 37\n",
      "   maxcv: 0.0\n",
      " message: Return from COBYLA because the trust region radius reaches its lower bound.\n",
      " success: True\n",
      "  status: 0\n",
      "     fun: 0.4914672235935682\n",
      "       x: [-7.178e-03 -8.652e-03  1.125e+00 -5.428e-02 -1.586e-03\n",
      "            2.031e-03 -3.462e-03  5.734e-03]\n",
      "    nfev: 35\n",
      "   maxcv: 0.0\n"
     ]
    }
   ],
   "source": [
    "from scipy.optimize import minimize\n",
    "\n",
    "prev_states = []\n",
    "prev_opt_parameters = []\n",
    "eigenvalues = []\n",
    "\n",
    "realbackend = 0\n",
    "\n",
    "for step in range(1, k + 1):\n",
    "    if step > 1:\n",
    "        prev_states.append(ansatz.assign_parameters(prev_opt_parameters))\n",
    "\n",
    "    result = minimize(\n",
    "        cost_func_vqd,\n",
    "        x0,\n",
    "        args=(\n",
    "            ansatz,\n",
    "            prev_states,\n",
    "            step,\n",
    "            betas,\n",
    "            estimator,\n",
    "            sampler,\n",
    "            observable_2,\n",
    "            realbackend,\n",
    "            None,\n",
    "        ),\n",
    "        method=\"COBYLA\",\n",
    "        options={\"tol\": 0.01, \"maxiter\": 200},\n",
    "    )\n",
    "    print(result)\n",
    "\n",
    "    prev_opt_parameters = result.x\n",
    "    eigenvalues.append(result.fun)"
   ]
  },
  {
   "cell_type": "code",
   "execution_count": 53,
   "id": "b7076fc6-0929-4032-a4a3-b50ba39a59a2",
   "metadata": {},
   "outputs": [
    {
     "name": "stdout",
     "output_type": "stream",
     "text": [
      "Percent error: 1.19e-05\n",
      "Percent error: 1.51e+00\n",
      "Percent error: 1.10e+00\n",
      "Percent error: 9.30e-01\n"
     ]
    }
   ],
   "source": [
    "solution_eigenvalues = [-7, 3, 5, 7]\n",
    "\n",
    "for index, experimental_eigenvalue in enumerate(eigenvalues):\n",
    "    solution_eigenvalue = solution_eigenvalues[index]\n",
    "\n",
    "    print(\n",
    "        f\"Percent error: {abs((experimental_eigenvalue - solution_eigenvalue)/solution_eigenvalue):.2e}\"\n",
    "    )"
   ]
  },
  {
   "attachments": {},
   "cell_type": "markdown",
   "id": "a47a9ce5-b591-4550-bd39-2fffb699b832",
   "metadata": {},
   "source": [
    "This time, the optimizer returns the same state $|\\phi_0\\rangle = \\frac{1}{\\sqrt{2}}(|00\\rangle + |11\\rangle)$ as a proposed solution to all eigenstates: which is clearly wrong. This happens because the betas were too small to penalize the minimum eigenstate in the successive cost functions. Therefore, it was not excluded from the effective search space in later iterations of the algorithm, and always chosen as the best possible solution.\n",
    "\n",
    "We recommend experimenting with the values of $\\vec{\\beta}$, and ensuring they are bigger than the difference between eigenvalues."
   ]
  },
  {
   "cell_type": "markdown",
   "id": "6978f795-f949-4b10-9420-6d64bc907b4a",
   "metadata": {},
   "source": [
    "### Step 2: Optimize problem for quantum execution\n",
    "\n",
    "To run this on real hardware, we must optimize the quantum circuits for our quantum computer of choice. For our purposes here, we will simply use the least busy backend."
   ]
  },
  {
   "cell_type": "code",
   "execution_count": null,
   "id": "e9b485a5-8446-4667-af29-81a2a30d9fee",
   "metadata": {},
   "outputs": [
    {
     "name": "stdout",
     "output_type": "stream",
     "text": [
      "<IBMBackend('ibm_brisbane')>\n"
     ]
    }
   ],
   "source": [
    "from qiskit_ibm_runtime import SamplerV2 as Sampler\n",
    "from qiskit_ibm_runtime import EstimatorV2 as Estimator\n",
    "from qiskit_ibm_runtime import Session, EstimatorOptions\n",
    "from qiskit_ibm_runtime import QiskitRuntimeService\n",
    "\n",
    "\n",
    "service = QiskitRuntimeService()\n",
    "backend = service.least_busy(operational=True, simulator=False)\n",
    "# Or use a specific backend\n",
    "# backend = service.backend(\"ibm_brisbane\")\n",
    "print(backend)"
   ]
  },
  {
   "cell_type": "markdown",
   "id": "12f03728-656d-45cc-a1c5-5366ec301304",
   "metadata": {},
   "source": [
    "We will transpile our circuit using a preset pass manager and optimization level 3."
   ]
  },
  {
   "cell_type": "code",
   "execution_count": 42,
   "id": "ba4a98a3-159b-4863-84bd-298be5b6d091",
   "metadata": {},
   "outputs": [],
   "source": [
    "pm = generate_preset_pass_manager(backend=backend, optimization_level=3)\n",
    "isa_ansatz = pm.run(ansatz)\n",
    "isa_observable = observable_2.apply_layout(layout=isa_ansatz.layout)"
   ]
  },
  {
   "cell_type": "markdown",
   "id": "a29f9139-3c91-424f-97d2-80b31cce5d91",
   "metadata": {},
   "source": [
    "### Step 3: Execute using Qiskit primitives\n",
    "\n",
    "Taking care to reset our betas to sufficiently high values, we can now run our calculation on real quantum hardware."
   ]
  },
  {
   "cell_type": "code",
   "execution_count": null,
   "id": "3e373e99-19d9-4fb2-b26e-208f1a2b7c9b",
   "metadata": {},
   "outputs": [],
   "source": [
    "# Estimated compute resource usage: 25 minutes. Benchmarked at 24 min, 30 sec on an Eagle r3 processor on 5-30-24\n",
    "\n",
    "k = 2\n",
    "betas = [30, 50, 80]\n",
    "x0 = np.zeros(8)\n",
    "\n",
    "real_prev_states = []\n",
    "real_prev_opt_parameters = []\n",
    "real_eigenvalues = []\n",
    "\n",
    "realbackend = 1\n",
    "\n",
    "estimator_options = EstimatorOptions(resilience_level=1, default_shots=10_000)\n",
    "\n",
    "with Session(backend=backend) as session:\n",
    "    estimator = Estimator(mode=session, options=estimator_options)\n",
    "    sampler = Sampler(mode=session)\n",
    "\n",
    "    for step in range(1, k + 1):\n",
    "        if step > 1:\n",
    "            real_prev_states.append(isa_ansatz.assign_parameters(prev_opt_parameters))\n",
    "\n",
    "        result = minimize(\n",
    "            cost_func_vqd,\n",
    "            x0,\n",
    "            args=(\n",
    "                isa_ansatz,\n",
    "                real_prev_states,\n",
    "                step,\n",
    "                betas,\n",
    "                estimator,\n",
    "                sampler,\n",
    "                isa_observable,\n",
    "                realbackend,\n",
    "                backend,\n",
    "            ),\n",
    "            method=\"COBYLA\",\n",
    "            options={\"maxiter\": 200},\n",
    "        )\n",
    "        print(result)\n",
    "\n",
    "        real_prev_opt_parameters = result.x\n",
    "        real_eigenvalues.append(result.fun)\n",
    "\n",
    "session.close()\n",
    "print(real_eigenvalues)"
   ]
  },
  {
   "cell_type": "markdown",
   "id": "f8e976c0-5d73-4244-b4be-4808925a3e40",
   "metadata": {},
   "source": [
    "### Step 4: Post-process, return result in classical format\n",
    "\n",
    "Our output is structurally similar to what has been discussed in previous lessons and examples. But there is something problematic in the results above, from which we can derive a cautionary message for the context of excited states. To limit computing time used on this learning example, we set a maximum number of iterations for classical optimizer that was potentially too low: 200 iterations. A previous calculation above, on a simulator, failed to converge in 200 iterations. Here, ours did converge... but to what tolerance? We have not specified a tolerance for COBYLA to consider itself \"converged\". A glance at the function value and comparison with previous runs tells us that COBYLA was not close to converging to the precision we require.\n",
    "\n",
    "There is another issue: the energy of the first excited state appears to be lower than the energy of the ground state! See if you can explain how this could happen. Hint: it is related to the convergence point we just addressed. This behavior is explained in detail below after VQD is applied to the H2 molecule."
   ]
  },
  {
   "attachments": {},
   "cell_type": "markdown",
   "id": "4b6857c6-09fe-44ca-ba9f-822eb9ee5ad8",
   "metadata": {},
   "source": [
    "## Quantum chemistry: ground state and excited energy solver\n",
    "\n",
    "Our objective is to minimize the expectation value of the observable representing energy (Hamiltonian $\\hat{\\mathcal{H}}$):\n",
    "\n",
    "$$\n",
    "\\min_{\\vec\\theta} \\langle\\psi(\\vec\\theta)|\\hat{\\mathcal{H}}|\\psi(\\vec\\theta)\\rangle\n",
    "$$"
   ]
  },
  {
   "cell_type": "code",
   "execution_count": 54,
   "id": "de006d72-db04-49d4-806b-89bd1e5b9947",
   "metadata": {},
   "outputs": [
    {
     "data": {
      "image/png": "[encoded data removed]",
      "text/plain": [
       "<Figure size 1039.79x200.667 with 1 Axes>"
      ]
     },
     "execution_count": 54,
     "metadata": {},
     "output_type": "execute_result"
    }
   ],
   "source": [
    "from qiskit.quantum_info import SparsePauliOp\n",
    "from qiskit.circuit.library import efficient_su2\n",
    "\n",
    "H2_op = SparsePauliOp.from_list(\n",
    "    [\n",
    "        (\"II\", -1.052373245772859),\n",
    "        (\"IZ\", 0.39793742484318045),\n",
    "        (\"ZI\", -0.39793742484318045),\n",
    "        (\"ZZ\", -0.01128010425623538),\n",
    "        (\"XX\", 0.18093119978423156),\n",
    "    ]\n",
    ")\n",
    "\n",
    "chem_ansatz = efficient_su2(H2_op.num_qubits)\n",
    "\n",
    "chem_ansatz.decompose().draw(\"mpl\")"
   ]
  },
  {
   "cell_type": "code",
   "execution_count": 45,
   "id": "1e67cecd-cb3d-4593-a9e8-1058e816c9ae",
   "metadata": {},
   "outputs": [],
   "source": [
    "from qiskit.circuit.library import TwoLocal\n",
    "from qiskit import QuantumCircuit\n",
    "\n",
    "\n",
    "def cost_func_vqe(params, ansatz, hamiltonian, estimator):\n",
    "    \"\"\"Return estimate of energy from estimator\n",
    "\n",
    "    Parameters:\n",
    "        params (ndarray): Array of ansatz parameters\n",
    "        ansatz (QuantumCircuit): Parameterized ansatz circuit\n",
    "        hamiltonian (SparsePauliOp): Operator representation of Hamiltonian\n",
    "        estimator (Estimator): Estimator primitive instance\n",
    "\n",
    "    Returns:\n",
    "        float: Energy estimate\n",
    "    \"\"\"\n",
    "    pub = (ansatz, hamiltonian, params)\n",
    "    cost = estimator.run([pub]).result()[0].data.evs\n",
    "    #    cost = estimator.run(ansatz, hamiltonian, parameter_values=params).result().values[0]\n",
    "    return cost"
   ]
  },
  {
   "cell_type": "markdown",
   "id": "21b278c0-719c-4240-ae6e-f21360cb21f5",
   "metadata": {},
   "source": [
    "We now set an initial set of parameters:"
   ]
  },
  {
   "cell_type": "code",
   "execution_count": 46,
   "id": "d6a2f152-6642-4b66-aa34-951d86973f8c",
   "metadata": {},
   "outputs": [],
   "source": [
    "import numpy as np\n",
    "\n",
    "x0 = np.ones(chem_ansatz.num_parameters)"
   ]
  },
  {
   "cell_type": "markdown",
   "id": "1ad424a9-4c4c-4c36-8408-2fc76318eeb9",
   "metadata": {},
   "source": [
    "We can minimize this cost function to calculate optimal parameters, and we can check our code first by using a local simulator."
   ]
  },
  {
   "cell_type": "code",
   "execution_count": 47,
   "id": "69785252-e337-404a-8fbf-ae2a5a875525",
   "metadata": {},
   "outputs": [],
   "source": [
    "from qiskit.primitives import StatevectorEstimator as Estimator\n",
    "from qiskit.primitives import StatevectorSampler as Sampler\n",
    "\n",
    "estimator = Estimator()\n",
    "sampler = Sampler()"
   ]
  },
  {
   "cell_type": "code",
   "execution_count": 48,
   "id": "79fd09b2-d886-4281-9381-b802b4d2f7a7",
   "metadata": {},
   "outputs": [
    {
     "data": {
      "text/plain": [
       " message: Optimization terminated successfully.\n",
       " success: True\n",
       "  status: 1\n",
       "     fun: -1.857275029048451\n",
       "       x: [ 7.326e-01  1.354e+00 ...  1.040e+00  1.508e+00]\n",
       "    nfev: 242\n",
       "   maxcv: 0.0"
      ]
     },
     "execution_count": 48,
     "metadata": {},
     "output_type": "execute_result"
    }
   ],
   "source": [
    "# SciPy minimizer routine\n",
    "from scipy.optimize import minimize\n",
    "import time\n",
    "\n",
    "start_time = time.time()\n",
    "\n",
    "result = minimize(\n",
    "    cost_func_vqe, x0, args=(chem_ansatz, H2_op, estimator), method=\"COBYLA\"\n",
    ")\n",
    "\n",
    "end_time = time.time()\n",
    "execution_time = end_time - start_time\n",
    "\n",
    "result"
   ]
  },
  {
   "cell_type": "markdown",
   "id": "0b2beab7-816d-438b-8502-5e7f9d65ae1d",
   "metadata": {},
   "source": [
    "The minimum value of the cost function (-1.857...) is the ground state energy of the H2 molecule, in units of hartrees."
   ]
  },
  {
   "attachments": {},
   "cell_type": "markdown",
   "id": "54a8a55c-6aa4-4e7c-a999-d3e468079571",
   "metadata": {},
   "source": [
    "### Excited States\n",
    "\n",
    "We can also leverage VQD to solve for $k=2$ total states (the ground state and the first excited state)."
   ]
  },
  {
   "cell_type": "code",
   "execution_count": 49,
   "id": "678ed2ab-c572-43a8-9a87-26cb0c470b68",
   "metadata": {},
   "outputs": [],
   "source": [
    "from qiskit.quantum_info import SparsePauliOp\n",
    "import numpy as np\n",
    "\n",
    "k = 2\n",
    "betas = [33, 33]\n",
    "# x0 = np.zeros(ansatz.num_parameters)\n",
    "x0 = [\n",
    "    1.164e00,\n",
    "    -2.438e-01,\n",
    "    9.358e-04,\n",
    "    6.745e-02,\n",
    "    1.990e00,\n",
    "    9.810e-02,\n",
    "    6.154e-01,\n",
    "    5.454e-01,\n",
    "]"
   ]
  },
  {
   "cell_type": "markdown",
   "id": "760ebdc7-596c-4781-824a-3b7972cdba53",
   "metadata": {},
   "source": [
    "We'll add our overlap calculation:"
   ]
  },
  {
   "cell_type": "code",
   "execution_count": 50,
   "id": "d755f8b7-9aab-4c74-84ff-80f62a9b3c23",
   "metadata": {},
   "outputs": [
    {
     "name": "stdout",
     "output_type": "stream",
     "text": [
      " message: Optimization terminated successfully.\n",
      " success: True\n",
      "  status: 1\n",
      "     fun: -1.8572671093941977\n",
      "       x: [ 1.164e+00 -2.437e-01  2.118e-03  6.448e-02  1.990e+00\n",
      "            9.870e-02  6.167e-01  5.476e-01]\n",
      "    nfev: 58\n",
      "   maxcv: 0.0\n",
      " message: Optimization terminated successfully.\n",
      " success: True\n",
      "  status: 1\n",
      "     fun: -1.0322873777662176\n",
      "       x: [ 3.205e+00  1.502e+00  1.699e+00 -1.107e-02  3.086e+00\n",
      "            1.530e+00  4.445e-02  7.013e-02]\n",
      "    nfev: 99\n",
      "   maxcv: 0.0\n"
     ]
    }
   ],
   "source": [
    "from scipy.optimize import minimize\n",
    "\n",
    "prev_states = []\n",
    "prev_opt_parameters = []\n",
    "eigenvalues = []\n",
    "\n",
    "realbackend = 0\n",
    "\n",
    "for step in range(1, k + 1):\n",
    "    if step > 1:\n",
    "        prev_states.append(ansatz.assign_parameters(prev_opt_parameters))\n",
    "\n",
    "    result = minimize(\n",
    "        cost_func_vqd,\n",
    "        x0,\n",
    "        args=(\n",
    "            ansatz,\n",
    "            prev_states,\n",
    "            step,\n",
    "            betas,\n",
    "            estimator,\n",
    "            sampler,\n",
    "            H2_op,\n",
    "            realbackend,\n",
    "            None,\n",
    "        ),\n",
    "        method=\"COBYLA\",\n",
    "        options={\"tol\": 0.001, \"maxiter\": 2000},\n",
    "    )\n",
    "    print(result)\n",
    "\n",
    "    prev_opt_parameters = result.x\n",
    "    eigenvalues.append(result.fun)"
   ]
  },
  {
   "cell_type": "code",
   "execution_count": 51,
   "id": "212c3e80-1b5e-4155-a3d3-d3bf12c2e97a",
   "metadata": {},
   "outputs": [
    {
     "data": {
      "text/plain": [
       "[-1.8572671093941977, -1.0322873777662176]"
      ]
     },
     "execution_count": 51,
     "metadata": {},
     "output_type": "execute_result"
    }
   ],
   "source": [
    "eigenvalues"
   ]
  },
  {
   "cell_type": "markdown",
   "id": "deec3d64-7f91-4623-8236-63a7de6aa6e6",
   "metadata": {},
   "source": [
    "### Real hardware and a final cautionary message\n",
    "\n",
    "To run this on real hardware, we must optimize the quantum circuits for our quantum computer of choice. For our purposes here, we will simply use the least busy backend."
   ]
  },
  {
   "cell_type": "code",
   "execution_count": null,
   "id": "5fdaae83-47cf-40ab-95d9-d1ff048ed825",
   "metadata": {},
   "outputs": [],
   "source": [
    "from qiskit_ibm_runtime import SamplerV2 as Sampler\n",
    "from qiskit_ibm_runtime import EstimatorV2 as Estimator\n",
    "from qiskit_ibm_runtime import Session, EstimatorOptions\n",
    "from qiskit_ibm_runtime import QiskitRuntimeService\n",
    "\n",
    "\n",
    "service = QiskitRuntimeService()\n",
    "backend = service.least_busy(operational=True, simulator=False)"
   ]
  },
  {
   "cell_type": "markdown",
   "id": "ad33ec78-d495-48f2-b64f-6042d5319da6",
   "metadata": {},
   "source": [
    "We will use a preset pass manager for transpilation, and we will maximally optimize our circuit using optimization level 3."
   ]
  },
  {
   "cell_type": "code",
   "execution_count": 52,
   "id": "9733e0b3-fc05-4c5b-b29a-1ba197106fad",
   "metadata": {},
   "outputs": [],
   "source": [
    "from qiskit.transpiler.preset_passmanagers import generate_preset_pass_manager\n",
    "\n",
    "pm = generate_preset_pass_manager(backend=backend, optimization_level=3)\n",
    "isa_ansatz = pm.run(ansatz)\n",
    "isa_observable = H2_op.apply_layout(layout=isa_ansatz.layout)"
   ]
  },
  {
   "cell_type": "markdown",
   "id": "262a1b78-a9bc-4850-bef8-60e290f2f2e0",
   "metadata": {},
   "source": [
    "Because VQD is highly iterative, we will carry out all steps inside a Runtime session, such that our jobs will only be queued at the beginning, and not between every parameter update. Nothing else changes about the syntax for the cost function or estimator."
   ]
  },
  {
   "cell_type": "code",
   "execution_count": 56,
   "id": "12843daa-4b84-408d-ae46-f72d24509ae1",
   "metadata": {},
   "outputs": [],
   "source": [
    "x0 = [\n",
    "    1.306e00,\n",
    "    -2.284e-01,\n",
    "    6.913e-02,\n",
    "    -2.530e-02,\n",
    "    1.849e00,\n",
    "    7.433e-02,\n",
    "    6.366e-01,\n",
    "    5.600e-01,\n",
    "]"
   ]
  },
  {
   "cell_type": "code",
   "execution_count": null,
   "id": "cd8e07fd-5968-4741-919e-4d9c46d58de5",
   "metadata": {},
   "outputs": [],
   "source": [
    "# Estimated hardware usage: 20 min benchmarked on an Eagle r3 processor on 5-30-24\n",
    "\n",
    "real_prev_states = []\n",
    "real_prev_opt_parameters = []\n",
    "real_eigenvalues = []\n",
    "\n",
    "realbackend = 1\n",
    "\n",
    "estimator_options = EstimatorOptions(resilience_level=1, default_shots=4096)\n",
    "\n",
    "with Session(backend=backend) as session:\n",
    "    estimator = Estimator(mode=session)\n",
    "    sampler = Sampler(mode=session)\n",
    "\n",
    "    for step in range(1, k + 1):\n",
    "        if step > 1:\n",
    "            real_prev_states.append(\n",
    "                isa_ansatz.assign_parameters(real_prev_opt_parameters)\n",
    "            )\n",
    "\n",
    "        result = minimize(\n",
    "            cost_func_vqd,\n",
    "            x0,\n",
    "            args=(\n",
    "                isa_ansatz,\n",
    "                real_prev_states,\n",
    "                step,\n",
    "                betas,\n",
    "                estimator,\n",
    "                sampler,\n",
    "                isa_observable,\n",
    "                realbackend,\n",
    "                backend,\n",
    "            ),\n",
    "            method=\"COBYLA\",\n",
    "            options={\"tol\": 0.001, \"maxiter\": 300},\n",
    "        )\n",
    "        print(result)\n",
    "\n",
    "        real_prev_opt_parameters = result.x\n",
    "        real_eigenvalues.append(result.fun)\n",
    "\n",
    "session.close()\n",
    "print(real_eigenvalues)"
   ]
  },
  {
   "cell_type": "markdown",
   "id": "4c5985c2-86af-4969-b0aa-1932502e58e6",
   "metadata": {},
   "source": [
    "The ground state energy obtained (-1.83 hartrees) is not too far from the correct value (-1.85 hartrees). However, the excited state energy is quite a bit off. This is similar to the erroneous behavior we saw earlier in this lesson. The energy reported for the excited state is nearly the same as that for the ground state. In the previous case, we even saw an excited state energy that was _lower_ than the reported ground state energy.\n",
    "\n",
    "It is not possible for a variational calculation to yield an energy that is lower than the true ground state energy. In the earlier instance, the ground state energy we obtained was not very close to the true ground state. Since we did not obtain the true ground state energy in that case, there is no contradiction. In the present case, the ground state energy was fairly close to the correct value, and yet the excited state energy seems strangely close to that same value.\n",
    "\n",
    "To understand better how this happened, recall that the way we find an excited state is by requiring that the variational state be orthogonal to the ground state (using the overlap circuits and penalty terms). If we fail to obtain an accurate ground state energy (or are off by a few percent), then we also fail to obtain an accurate ground state vector! So when we require that the excited state be orthogonal to the first state we found, we were not imposing orthogonality with the true ground state, but rather with some approximation of it (sometimes a poor approximation of it). Thus, the excited state was not forced to be orthogonal to the true ground state, and our energy estimates for the excited states were actually quite close to the ground state energy.\n",
    "\n",
    "This will always be a concern in VQD. But in principle, this can be corrected by increasing the maximum number of iterations for the classical optimizer, imposing lower tolerance for the classical optimizer, and possibly also trying a different ansatz if we are habitually missing the true ground state. As we have seen, one may also need to modify the overlap penalties (betas). But that is really a separate issue. No penalty for overlap will keep you away from the true ground state, if you haven't found a very good estimate of the true ground state for the overlap circuit."
   ]
  },
  {
   "attachments": {},
   "cell_type": "markdown",
   "id": "af2202c6-2d1b-4213-a244-1dc1e34e5e34",
   "metadata": {},
   "source": [
    "## Optimization: Max-Cut\n",
    "\n",
    "The maximum cut (Max-Cut) problem is a combinatorial optimization problem that involves dividing the vertices of a graph into two disjoint sets such that the number of edges between the two sets is maximized. More formally, given an undirected graph $G=(V,E)$, where $V$ is the set of vertices and $E$ is the set of edges, the Max-Cut problem asks to partition the vertices into two disjoint subsets, $S$ and $T$, such that the number of edges with one endpoint in $S$ and the other in $T$ is maximized.\n",
    "\n",
    "We can apply Max-Cut to solve a various problems, such as clustering, network design, and phase transitions. We'll start by creating a problem graph:"
   ]
  },
  {
   "cell_type": "code",
   "execution_count": 58,
   "id": "3eb71b79-a988-4807-aa88-7fb25a78a236",
   "metadata": {},
   "outputs": [
    {
     "data": {
      "text/plain": [
       "<Image src=\"/learning/images/courses/variational-algorithm-design/examples-and-applications/extracted-outputs/3eb71b79-a988-4807-aa88-7fb25a78a236-0.avif\" alt=\"Output of the previous code cell\" />"
      ]
     },
     "metadata": {},
     "output_type": "display_data"
    }
   ],
   "source": [
    "import rustworkx as rx\n",
    "from rustworkx.visualization import mpl_draw\n",
    "\n",
    "n = 4\n",
    "G = rx.PyGraph()\n",
    "G.add_nodes_from(range(n))\n",
    "# The edge syntax is (start, end, weight)\n",
    "edges = [(0, 1, 1.0), (0, 2, 1.0), (0, 3, 1.0), (1, 2, 1.0), (2, 3, 1.0)]\n",
    "G.add_edges_from(edges)\n",
    "\n",
    "mpl_draw(\n",
    "    G, pos=rx.shell_layout(G), with_labels=True, edge_labels=str, node_color=\"#1192E8\"\n",
    ")"
   ]
  },
  {
   "cell_type": "markdown",
   "id": "8771ec8d-9913-4e25-94dd-96dc57c9675d",
   "metadata": {},
   "source": [
    "This problem can be expressed as a binary optimization problem. For each node $0 \\leq i < n$, where $n$ is the number of nodes of the graph (in this case $n=4$), we will consider the binary variable $x_i$. This variable will have the value $1$ if node $i$ is one of the groups that we'll label $1$ and $0$ if it's in the other group, that we'll label as $0$. We will also denote as $w_{ij}$ (element $(i,j)$ of the adjacency matrix $w$) the weight of the edge that goes from node $i$ to node $j$. Because the graph is undirected, $w_{ij}=w_{ji}$. Then we can formulate our problem as maximizing the following cost function:\n",
    "\n",
    "$$\n",
    "\\begin{aligned}\n",
    "C(\\vec{x})\n",
    "& =\\sum_{i,j=0}^n w_{ij} x_i(1-x_j)\\\\[1mm]\n",
    "\n",
    "& = \\sum_{i,j=0}^n w_{ij} x_i - \\sum_{i,j=0}^n w_{ij} x_ix_j\\\\[1mm]\n",
    "\n",
    "& = \\sum_{i,j=0}^n w_{ij} x_i - \\sum_{i=0}^n \\sum_{j=0}^i 2w_{ij} x_ix_j\n",
    "\\end{aligned}\n",
    "$$\n",
    "\n",
    "\n",
    "To solve this problem with a quantum computer, we are going to express the cost function as the expected value of an observable. However, the observables that Qiskit admits natively consist of Pauli operators, that have eigenvalues $1$ and $-1$ instead of $0$ and $1$. That's why we are going to make the following change of variable:\n",
    "\n",
    "Where $\\vec{x}=(x_0,x_1,\\cdots ,x_{n-1})$. We can use the adjacency matrix $w$ to comfortably access the weights of all the edge. This will be used to obtain our cost function:\n",
    "\n",
    "$$\n",
    "z_i = 1-2x_i \\rightarrow x_i = \\frac{1-z_i}{2}\n",
    "$$\n",
    "\n",
    "This implies that:\n",
    "\n",
    "$$\n",
    "\\begin{array}{lcl} x_i=0 & \\rightarrow & z_i=1 \\\\ x_i=1 & \\rightarrow & z_i=-1.\\end{array}\n",
    "$$\n",
    "\n",
    "So the new cost function we want to maximize is:\n",
    "\n",
    "$$\n",
    "\\begin{aligned}\n",
    "C(\\vec{z})\n",
    "& = \\sum_{i,j=0}^n w_{ij} \\bigg(\\frac{1-z_i}{2}\\bigg)\\bigg(1-\\frac{1-z_j}{2}\\bigg)\\\\[1mm]\n",
    "\n",
    "& = \\sum_{i,j=0}^n \\frac{w_{ij}}{4} - \\sum_{i,j=0}^n \\frac{w_{ij}}{4} z_iz_j\\\\[1mm]\n",
    "\n",
    "& = \\sum_{i=0}^n \\sum_{j=0}^i \\frac{w_{ij}}{2} -  \\sum_{i=0}^n \\sum_{j=0}^i \\frac{w_{ij}}{2} z_iz_j\n",
    "\\end{aligned}\n",
    "$$\n",
    "\n",
    "Moreover, the natural tendency of a quantum computer is to find minima (usually the lowest energy) instead of maxima so instead of maximizing $C(\\vec{z})$ we are going to minimize:\n",
    "\n",
    "$$\n",
    "-C(\\vec{z}) =  \\sum_{i=0}^n \\sum_{j=0}^i \\frac{w_{ij}}{2} z_iz_j -  \\sum_{i=0}^n \\sum_{j=0}^i \\frac{w_{ij}}{2}\n",
    "$$\n",
    "\n",
    "Now that we have a cost function to minimize whose variables can have the values $-1$ and $1$, we can make the following analogy with the Pauli $Z$:\n",
    "\n",
    "$$\n",
    "z_i \\equiv Z_i = \\overbrace{I}^{n-1}\\otimes ... \\otimes \\overbrace{Z}^{i} \\otimes ... \\otimes \\overbrace{I}^{0}\n",
    "$$\n",
    "\n",
    "In other words, the variable $z_i$ will be equivalent to a $Z$ gate acting on qubit $i$. Moreover:\n",
    "\n",
    "$$\n",
    "Z_i|x_{n-1}\\cdots x_0\\rangle = z_i|x_{n-1}\\cdots x_0\\rangle \\rightarrow \\langle x_{n-1}\\cdots x_0 |Z_i|x_{n-1}\\cdots x_0\\rangle = z_i\n",
    "$$\n",
    "\n",
    "Then the observable we are going to consider is:\n",
    "\n",
    "$$\n",
    "\\hat{H} = \\sum_{i=0}^n \\sum_{j=0}^i \\frac{w_{ij}}{2} Z_iZ_j\n",
    "$$\n",
    "\n",
    "to which we will have to add the independent term afterwards:\n",
    "\n",
    "$$\n",
    "\\texttt{offset} = - \\sum_{i=0}^n \\sum_{j=0}^i \\frac{w_{ij}}{2}\n",
    "$$"
   ]
  },
  {
   "cell_type": "markdown",
   "id": "84bbf27e-6def-4ce0-b563-ae5ae2fcfe34",
   "metadata": {},
   "source": [
    "The operator is a linear combination of terms with Z operators on nodes connected by an edge (recall that the 0th qubit is farthest right): $IIZZ + IZIZ + IZZI + ZIIZ + ZZII$. Once the operator is constructed, the ansatz for the QAOA algorithm can easily be built by using the `QAOAAnsatz` circuit from the Qiskit circuit library."
   ]
  },
  {
   "cell_type": "code",
   "execution_count": 59,
   "id": "d28c4262-a080-4fe4-9427-762326184cd8",
   "metadata": {},
   "outputs": [
    {
     "data": {
      "text/plain": [
       "<Image src=\"/learning/images/courses/variational-algorithm-design/examples-and-applications/extracted-outputs/d28c4262-a080-4fe4-9427-762326184cd8-0.avif\" alt=\"Output of the previous code cell\" />"
      ]
     },
     "execution_count": 59,
     "metadata": {},
     "output_type": "execute_result"
    }
   ],
   "source": [
    "from qiskit.circuit.library import QAOAAnsatz\n",
    "from qiskit.quantum_info import SparsePauliOp\n",
    "\n",
    "max_hamiltonian = SparsePauliOp.from_list(\n",
    "    [(\"IIZZ\", 1), (\"IZIZ\", 1), (\"IZZI\", 1), (\"ZIIZ\", 1), (\"ZZII\", 1)]\n",
    ")\n",
    "\n",
    "\n",
    "max_ansatz = QAOAAnsatz(max_hamiltonian, reps=2)\n",
    "# Draw\n",
    "max_ansatz.decompose(reps=3).draw(\"mpl\")"
   ]
  },
  {
   "cell_type": "code",
   "execution_count": 60,
   "id": "1d3f4fc4-6804-40fd-a470-ddd2c09a94d4",
   "metadata": {},
   "outputs": [
    {
     "name": "stdout",
     "output_type": "stream",
     "text": [
      "Offset: -2.5\n"
     ]
    }
   ],
   "source": [
    "# Sum the weights, and divide by 2\n",
    "\n",
    "offset = -sum(edge[2] for edge in edges) / 2\n",
    "print(f\"\"\"Offset: {offset}\"\"\")"
   ]
  },
  {
   "cell_type": "code",
   "execution_count": 61,
   "id": "d6bf5f9c-5277-4833-8864-1e0277c1b6c1",
   "metadata": {},
   "outputs": [],
   "source": [
    "def cost_func(params, ansatz, hamiltonian, estimator):\n",
    "    \"\"\"Return estimate of energy from estimator\n",
    "\n",
    "    Parameters:\n",
    "        params (ndarray): Array of ansatz parameters\n",
    "        ansatz (QuantumCircuit): Parameterized ansatz circuit\n",
    "        hamiltonian (SparsePauliOp): Operator representation of Hamiltonian\n",
    "        estimator (Estimator): Estimator primitive instance\n",
    "\n",
    "    Returns:\n",
    "        float: Energy estimate\n",
    "    \"\"\"\n",
    "    pub = (ansatz, hamiltonian, params)\n",
    "    cost = estimator.run([pub]).result()[0].data.evs\n",
    "    #    cost = estimator.run(ansatz, hamiltonian, parameter_values=params).result().values[0]\n",
    "    return cost"
   ]
  },
  {
   "cell_type": "code",
   "execution_count": 71,
   "id": "159e0521-4870-4e8d-829a-317d6dafce79",
   "metadata": {},
   "outputs": [],
   "source": [
    "from qiskit.primitives import StatevectorEstimator as Estimator\n",
    "from qiskit.primitives import StatevectorSampler as Sampler\n",
    "\n",
    "estimator = Estimator()\n",
    "sampler = Sampler()"
   ]
  },
  {
   "cell_type": "markdown",
   "id": "6ca87213-311a-46bd-b2c5-814e2c8ffe27",
   "metadata": {},
   "source": [
    "We now set an initial set of random parameters:"
   ]
  },
  {
   "cell_type": "code",
   "execution_count": 72,
   "id": "babd595f-a1b0-4513-9a97-3b23428b83f6",
   "metadata": {},
   "outputs": [
    {
     "name": "stdout",
     "output_type": "stream",
     "text": [
      "[6.0252949  0.58448176 2.15785731 1.13646074]\n"
     ]
    }
   ],
   "source": [
    "import numpy as np\n",
    "\n",
    "x0 = 2 * np.pi * np.random.rand(max_ansatz.num_parameters)\n",
    "print(x0)"
   ]
  },
  {
   "cell_type": "markdown",
   "id": "3447ab1d-e2c1-4d8d-98f6-ee231f3bbc7a",
   "metadata": {},
   "source": [
    "Any classical optimizer can be used to minimize the cost function. On a real quantum system, an optimizer designed for non-smooth cost function landscapes usually does better. Here we use the [COBYLA routine](https://docs.scipy.org/doc/scipy/reference/optimize.minimize-cobyla.html#optimize-minimize-cobyla) from SciPy via the minimize function.\n",
    "\n",
    "Because we are iteratively executing many calls to Runtime, we make use of a session to execute all calls within a single block. Moreover, for QAOA, the solution is encoded in the output distribution of the ansatz circuit bound with the optimal parameters from the minimization. Therefore, we will need a Sampler primitive, and will instantiate it with the same session"
   ]
  },
  {
   "cell_type": "markdown",
   "id": "ecc3e775-4e9a-4a4b-ab78-ed53d690b64b",
   "metadata": {},
   "source": [
    "And run our minimization routine:"
   ]
  },
  {
   "cell_type": "code",
   "execution_count": 73,
   "id": "03c79980-1510-4a11-83aa-797111c02187",
   "metadata": {},
   "outputs": [],
   "source": [
    "result = minimize(\n",
    "    cost_func, x0, args=(max_ansatz, max_hamiltonian, estimator), method=\"COBYLA\"\n",
    ")"
   ]
  },
  {
   "cell_type": "code",
   "execution_count": 74,
   "id": "3be090d4-4adb-4943-931b-5f603df663a1",
   "metadata": {},
   "outputs": [
    {
     "name": "stdout",
     "output_type": "stream",
     "text": [
      " message: Optimization terminated successfully.\n",
      " success: True\n",
      "  status: 1\n",
      "     fun: -2.585287311689236\n",
      "       x: [ 7.332e+00  3.904e-01  2.045e+00  1.028e+00]\n",
      "    nfev: 80\n",
      "   maxcv: 0.0\n"
     ]
    }
   ],
   "source": [
    "print(result)"
   ]
  },
  {
   "cell_type": "markdown",
   "id": "c2e3ae85-7eb1-4c41-9ab8-0a38008374c1",
   "metadata": {},
   "source": [
    "The solution vector of parameter angles (`x`), when plugged into the ansatz circuit, yields the graph partitioning that we were looking for."
   ]
  },
  {
   "cell_type": "code",
   "execution_count": 75,
   "id": "141b2c86-3902-46f0-bb67-46f4565c3975",
   "metadata": {},
   "outputs": [
    {
     "name": "stdout",
     "output_type": "stream",
     "text": [
      "Eigenvalue: -2.585287311689236\n",
      "Max-Cut Objective: -5.085287311689235\n"
     ]
    }
   ],
   "source": [
    "eigenvalue = cost_func(result.x, max_ansatz, max_hamiltonian, estimator)\n",
    "print(f\"\"\"Eigenvalue: {eigenvalue}\"\"\")\n",
    "print(f\"\"\"Max-Cut Objective: {eigenvalue + offset}\"\"\")"
   ]
  },
  {
   "cell_type": "code",
   "execution_count": 76,
   "id": "b882490f-745a-4b07-ae94-bb3673316ce6",
   "metadata": {},
   "outputs": [],
   "source": [
    "from qiskit.result import QuasiDistribution\n",
    "from qiskit.primitives import StatevectorSampler\n",
    "\n",
    "sampler = StatevectorSampler()\n",
    "\n",
    "# Assign solution parameters to ansatz\n",
    "qc = max_ansatz.assign_parameters(result.x)\n",
    "\n",
    "# Add measurements to our circuit\n",
    "qc.measure_all()\n",
    "\n",
    "# Sample ansatz at optimal parameters\n",
    "# samp_dist = sampler.run(qc).result().quasi_dists[0]\n",
    "\n",
    "shots = 1024\n",
    "job = sampler.run([qc], shots=shots)"
   ]
  },
  {
   "cell_type": "code",
   "execution_count": 77,
   "id": "686ee28e-9327-40d1-8d7c-3ec527160f01",
   "metadata": {},
   "outputs": [
    {
     "data": {
      "text/plain": [
       "<Image src=\"/learning/images/courses/variational-algorithm-design/examples-and-applications/extracted-outputs/686ee28e-9327-40d1-8d7c-3ec527160f01-0.avif\" alt=\"Output of the previous code cell\" />"
      ]
     },
     "execution_count": 77,
     "metadata": {},
     "output_type": "execute_result"
    }
   ],
   "source": [
    "qc.decompose().draw(\"mpl\")"
   ]
  },
  {
   "cell_type": "code",
   "execution_count": 78,
   "id": "c2e4ebb9-530a-4b72-acb1-1356634dc7a5",
   "metadata": {},
   "outputs": [],
   "source": [
    "data_pub = job.result()[0].data\n",
    "bitstrings = data_pub.meas.get_bitstrings()\n",
    "counts = data_pub.meas.get_counts()\n",
    "quasi_dist = QuasiDistribution(\n",
    "    {outcome: freq / shots for outcome, freq in counts.items()}\n",
    ")\n",
    "probabilities = quasi_dist\n",
    "\n",
    "# Close the session since we are now done with it\n",
    "# session.close()"
   ]
  },
  {
   "cell_type": "code",
   "execution_count": 79,
   "id": "13a4c371-fd40-4ce3-b737-268d4a4c9c2c",
   "metadata": {},
   "outputs": [
    {
     "data": {
      "text/plain": [
       "<Image src=\"/learning/images/courses/variational-algorithm-design/examples-and-applications/extracted-outputs/13a4c371-fd40-4ce3-b737-268d4a4c9c2c-0.avif\" alt=\"Output of the previous code cell\" />"
      ]
     },
     "execution_count": 79,
     "metadata": {},
     "output_type": "execute_result"
    }
   ],
   "source": [
    "from qiskit.visualization import plot_distribution\n",
    "\n",
    "plot_distribution(counts)"
   ]
  },
  {
   "cell_type": "code",
   "execution_count": 80,
   "id": "4238cc64-6910-43d2-889e-6322bf2864eb",
   "metadata": {},
   "outputs": [
    {
     "data": {
      "text/plain": [
       "<Image src=\"/learning/images/courses/variational-algorithm-design/examples-and-applications/extracted-outputs/4238cc64-6910-43d2-889e-6322bf2864eb-0.avif\" alt=\"Output of the previous code cell\" />"
      ]
     },
     "metadata": {},
     "output_type": "display_data"
    }
   ],
   "source": [
    "binary_string = max(counts.items(), key=lambda kv: kv[1])[0]\n",
    "x = np.asarray([int(y) for y in reversed(list(binary_string))])\n",
    "\n",
    "colors = [\"r\" if x[i] == 0 else \"c\" for i in range(n)]\n",
    "mpl_draw(\n",
    "    G, pos=rx.shell_layout(G), with_labels=True, edge_labels=str, node_color=colors\n",
    ")"
   ]
  },
  {
   "attachments": {},
   "cell_type": "markdown",
   "id": "761b55e2-2e6b-4d00-ad1a-b0d3d546881e",
   "metadata": {},
   "source": [
    "## Summary\n",
    "\n",
    "With this lesson, you have learned:\n",
    "\n",
    "- How to write a custom variational algorithm\n",
    "- How to apply a variational algorithm to find minimum eigenvalues\n",
    "- How to utilize variational algorithms to solve application use cases\n",
    "\n",
    "Proceed to the final lesson to take your assessment and earn your badge!"
   ]
  }
 ],
 "metadata": {
  "description": "Here we describe how variational quantum algorithms can be applied to chemistry problems, Max-Cut, and more!",
  "kernelspec": {
   "display_name": "Python 3",
   "language": "python",
   "name": "python3"
  },
  "language_info": {
   "codemirror_mode": {
    "name": "ipython",
    "version": 3
   },
   "file_extension": ".py",
   "mimetype": "text/x-python",
   "name": "python",
   "nbconvert_exporter": "python",
   "pygments_lexer": "ipython3",
   "version": "3"
  },
  "title": "Examples and applications"
 },
 "nbformat": 4,
 "nbformat_minor": 2
}
