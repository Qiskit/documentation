{
 "cells": [
  {
   "cell_type": "markdown",
   "id": "271bca1f-08dd-47ef-b659-8243070cb087",
   "metadata": {
    "gloss": {
     "computational-basis-state": {
      "text": "Also known as Z-basis states, these are the states we measure when we measure in the Z (or 'computational') basis. These are the states with labels like |00〉 and |00110100〉. IBM systems always measure in the Z-basis.",
      "title": "computational basis state"
     },
     "features": {
      "text": "A feature is a property of the things we're trying to learn about that we can assign a number to. If we were learning something about cats, the features might be \"height\" or \"age\" or \"propensity to consume treats\".",
      "title": "features"
     },
     "unitary": {
      "text": "A unitary operation is a reversible operation that preserves the norm (i.e. makes sure our probabilities always sum to 1). <a href='https://en.wikipedia.org/wiki/Unitary_matrix'>Read more</a>.",
      "title": "unitary"
     }
    }
   },
   "source": [
    "{/* cspell:ignore QDAs */}\n",
    "\n",
    "# Introduction\n",
    "\n",
    "## Overview and motivation\n",
    "\n",
    "Welcome to Quantum Diagonalization Algorithms!\n",
    "\n",
    "The world is filled with problems of critical importance to humans that can be cast as matrix diagonalization problems. This spans fields from finance to physics, and applies to systems as different as chemical binding sites and distribution networks. Even other problem-solving methods such as machine learning leverage the power of matrices. Advances in classical computing have made it possible to diagonalize matrices of mind-boggling size. But there are still problems that exceed the limits of exact classical diagonalization algorithms.\n",
    "\n",
    "Quantum diagonalization algorithms (QDAs) leverage the power of quantum computers in conjunction with classical approaches. This means different things for different algorithms. In some cases, the algorithm uses the quantum computer to estimate matrix expectation values and uses classical computers to run variational optimization algorithms. This is true, for example, for the variational quantum eigensolver (VQE). In other cases, quantum measurements are used to identify suitable subspaces in which to project our matrix of interest, and the diagonalization of the projected matrix is done entirely classically. This describes sampling-based quantum diagonalization methods (SQD), some of the most exciting methods in the current era of quantum computing.\n",
    "\n",
    "This course provides an overview of several approaches to quantum diagonalization. We provide some background to the classical methods that are used, or that motivated the quantum algorithms, and we step through the implementation of the quantum algorithms on real quantum computers. There is substantial discussion of what factors determine the scaling of approaches using classical and quantum algorithms. This is critical to determining whether your problem benefits from a particular quantum algorithm. By connecting abstract mathematical approaches with cutting-edge quantum hardware, the curriculum empowers participants to navigate the rapidly evolving landscape of quantum computational techniques."
   ]
  },
  {
   "cell_type": "markdown",
   "id": "7913e482-4037-40a2-8073-7408cdb918c4",
   "metadata": {},
   "source": [
    "## Course learning goals\n",
    "\n",
    "Through completing this course, you can expect to build the following core skills and competencies. Learners will be able to:\n",
    "\n",
    "1. Identify several industry applications of diagonalization of large matrices.\n",
    "\n",
    "2. Identify several classical diagonalization approaches and their quantum counterparts.\n",
    "\n",
    "3. Explain what factors determine the efficiency of QDAs.\n",
    "\n",
    "4. Identify several relative strengths and weaknesses of common QDAs.\n",
    "\n",
    "5. Implement QDAs using Qiskit Runtime primitives and following Qiskit patterns.\n",
    "\n",
    "6. Identify problem types most amenable to QDAs.\n",
    "\n",
    "7. Adjust an example problem to their own problem of interest.\n",
    "\n",
    "8. Know the constraints of implementing QDAs on quantum computers before large-scale fault tolerance."
   ]
  },
  {
   "cell_type": "markdown",
   "id": "dfb913a5-bb9c-4a36-a357-466dec9bc25f",
   "metadata": {},
   "source": [
    "## Course structure\n",
    "\n",
    "This course is made up of several lessons. Each lesson has several check-in questions throughout the text, so you can practice new skills or check your understanding as you go. These are not required.\n",
    "\n",
    "At the end of the course, there is a 20-item quiz. You must score at least 70% on this quiz in order to obtain your Quantum Diagonalization Algorithms badge, via Credly. If you score at least 70%, your badge will be automatically emailed to you, shortly thereafter. There is a limit to the number of times this quiz can be taken. See the quiz for further details.\n",
    "\n",
    "The course structure is as follows:\n",
    "\n",
    "- Lesson 0: Introduction and overview\n",
    "- Lesson 1: Variational quantum eigensolver\n",
    "- Lesson 2: Krylov quantum diagonalization\n",
    "- Lesson 3: Sample-based quantum diagonalization\n",
    "- Lesson 4: SQD application\n",
    "- Lesson 5: Sample-based Krylov quantum diagonalization\n",
    "- Exam for badge"
   ]
  }
 ],
 "metadata": {
  "description": "A brief introduction to the quantum diagonalization algorithms course.",
  "kernelspec": {
   "display_name": "Python 3",
   "language": "python",
   "name": "python3"
  },
  "language_info": {
   "codemirror_mode": {
    "name": "ipython",
    "version": 3
   },
   "file_extension": ".py",
   "mimetype": "text/x-python",
   "name": "python",
   "nbconvert_exporter": "python",
   "pygments_lexer": "ipython3",
   "version": "3"
  },
  "title": "QDA Introduction"
 },
 "nbformat": 4,
 "nbformat_minor": 4
}
