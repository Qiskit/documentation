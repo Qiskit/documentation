{
 "cells": [
  {
   "cell_type": "markdown",
   "id": "19b42e0f-baa1-4920-89a0-f5e8bbb2e12d",
   "metadata": {},
   "source": [
    "{/* cspell:ignore nonrepudiation, Diffie, cryptosystems, ECDH, ciphertext, Rivest, Shamir, modexp, coprime, Nino, Diaz, Ciphertext, ciphertexts, Adleman, primality, primalitytest, totient, congrel, multinv, exteuc, intrep, semsec, Coprime, varphi, modinv, kems, Fernet, OAEP, HKDF, urandom, hkdf, Prehashed, primefactor, superpoly, subexponential, subexp, gnfs, Oded, Regev, Ragavan, Vaikuntanathan, Seyoon, Ragavanm, Vinod, Regev’s, polylogarithmic, polyalg, GNFS, Ekerå, counterparty’s, ECDLP, cofactor, Larasati, counterparty's */}"
   ]
  },
  {
   "attachments": {},
   "cell_type": "markdown",
   "id": "8f00d4c1-6c59-43ab-a731-b1232406551d",
   "metadata": {},
   "source": [
    "# Asymmetric key cryptography\n",
    "\n",
    "In this lesson we will look at asymmetric key cryptography which forms the basis of many secure network interactions today.\n",
    "\n",
    "By the end of the lesson we will have covered:\n",
    " - What asymmetric key cryptography is\n",
    " - Usage of asymmetric key cryptography, including key exchange and digital signatures\n",
    " - Security of asymmetric key cryptography in general\n",
    " - Further details on RSA, DSA and Elliptic Curves algorithms and security\n",
    " - Some Python code examples showing how the algorithms work in practice\n",
    " - Threats to these algorithms from both classical and quantum computers"
   ]
  },
  {
   "attachments": {},
   "cell_type": "markdown",
   "id": "24b3d39a-6b6a-424d-8c14-411acf4beb7a",
   "metadata": {},
   "source": [
    "## Introduction to asymmetric key cryptography\n",
    "\n",
    "As we learned in the last lesson, symmetric key cryptography is very fast and efficient for protecting information, but it has a few limitations:\n",
    "\n",
    "1. As the number of parties wishing to exchange secure information increases, the numbers of keys required grows combinatorially. It provides no mechanism to securely distribute these keys between senders and receivers.\n",
    "2. There is no provision for [*non-repudiation*][nonrepudiation]. Any party is able to decrypt, or encrypt, messages with no way to guarantee a message was received or where it originated\n",
    "\n",
    "The solution to both these problems is provided by *asymmetric key cryptography* (AKC), also known as [*public key cryptography*][59] (PKC), which therefore forms a cornerstone of modern digital security.\n",
    "\n",
    "Asymmetric key cryptography (AKC) involves the use of a pair of keys – one public, one private. The public and private keys are cryptographically linked and typically generated at the same time as a *key pair* using a specialized mathematical algorithm. The public key, as suggested by its name, is then meant to be freely distributed, while the private key is kept secret by the party generating the key pair. Security of communications employing asymmetric key pairs is assured as long as the private key remains confidential.\n",
    "\n",
    "![Figure 1. Asymmetric Key Encryption](/learning/images/courses/quantum-safe-cryptography/asymmetric-key-cryptography/akc.avif)\n",
    "\n",
    "*Figure 1. Asymmetric Key Encryption*\n",
    "\n",
    "AKC offers several useful functions, such as:\n",
    "\n",
    "1. **Encryption and decryption** to enable **confidentiality** of communications.\n",
    "2. **Digital signatures** to ensure **authenticity**, **integrity**, and **non-repudiation**.\n",
    "3. **Secure key exchange** to facilitate subsequent use of symmetric cryptosystems.\n",
    "\n",
    "In modern applications, AKC is primarily used for digital signatures and secure key exchange. In this lesson, we introduce these two key functions, and then we discuss several variations of cryptographic protocols for these functions.\n",
    "\n",
    "[nonrepudiation]: #definition-tooltip \"Non-repudiation refers to the ability to prove that a specific party has sent a message. In symmetric key cryptography, since the same key is used for both encryption and decryption, it is not possible to determine which party has created a particular ciphertext. In contrast, asymmetric key cryptography provides non-repudiation through the use of digital signatures.\"\n",
    "[59]: #definition-tooltip \"Reference: Public-key cryptography,Wikipedia. Jul. 2023. Accessed: Jul. 10, 2023. [link](https://en.wikipedia.org/w/index.php?title=Public-key_cryptography&oldid=1163952916)\""
   ]
  },
  {
   "attachments": {},
   "cell_type": "markdown",
   "id": "88e9780c-a3d2-45bf-800a-c5c999caebd1",
   "metadata": {},
   "source": [
    "## Key exchange with asymmetric key cryptography\n",
    "\n",
    "One of the fundamental problems in cryptography is securely [exchanging keys][60]. For example, if two parties want to use symmetric encryption, both parties need the same key to encrypt and decrypt messages. But how do they securely exchange the key? Asymmetric key cryptography addresses this through interactive and non-interactive key exchange mechanisms.\n",
    "\n",
    "[60]: #definition-tooltip \"Reference: Key exchange,Wikipedia. Jan. 2023. Accessed: Jul. 10, 2023. [link](https://en.wikipedia.org/w/index.php?title=Key_exchange&oldid=1134576107)\""
   ]
  },
  {
   "cell_type": "markdown",
   "id": "9f081971-a6e0-4129-bfe9-27ae64b232c7",
   "metadata": {},
   "source": [
    "### Interactive key exchange\n",
    "\n",
    "An interactive *key exchange protocol* refers to a method where two parties collaborate to create a *shared secret* key over an insecure communication channel. This shared secret key can then be used for symmetric encryption and decryption tasks.\n",
    "\n",
    "The most well known among such protocols is the [Diffie-Hellman algorithm][62] (DH), which was devised specifically to facilitate key exchange. In this protocol, each party generates a pair of keys (public and private) and broadcasts their public key. Then each party uses their own private key and the other party's public key to generate a shared secret key. DH employs the principles of modular arithmetic to ensure both parties end up with the same shared secret even though each party has access only to the other party's public key.\n",
    "\n",
    "Modern cryptosystems based on [elliptic curve cryptography][33] (ECC) extend this concept with the [elliptic curve Diffie-Hellman)][63] (ECDH) key exchange. ECDH works similarly to DH but utilizes the properties of elliptic curves, resulting in a more secure and efficient system.\n",
    "\n",
    "![Figure 2. Key Exchange Protocol](/learning/images/courses/quantum-safe-cryptography/asymmetric-key-cryptography/kep_akc.avif)\n",
    "\n",
    "*Figure 2. Key Exchange Protocol*\n",
    "\n",
    "[62]: #definition-tooltip \"Reference: Diffie–Hellman key exchange,Wikipedia. Jul. 2023. Accessed: Jul. 10,2023. [link](https://en.wikipedia.org/w/index.php?title=Diffie%E2%80%93Hellman_key_exchange&oldid=1163912552)\"\n",
    "[63]: #definition-tooltip \"Reference: Elliptic-curve Diffie–Hellman,Wikipedia.Jun. 2023. Accessed: Jul. 10, 2023. [link](https://en.wikipedia.org/w/index.php?title=Elliptic-curve_Diffie%E2%80%93Hellman&oldid=1160050860)\"\n",
    "[33]: #definition-tooltip \"Reference: Elliptic-curve cryptography,Wikipedia. Jun. 2023. Accessed: Jun. 20, 2023. [link](https://en.wikipedia.org/w/index.php?title=Elliptic-curve_cryptography&oldid=1160709993)\""
   ]
  },
  {
   "cell_type": "markdown",
   "id": "21967b0c-1260-492e-abd0-3dcabb768716",
   "metadata": {},
   "source": [
    "### Non-interactive key exchange\n",
    "\n",
    "Unlike key exchange protocols like DH and ECDH, which are interactive, requiring back-and-forth communication to decide the symmetric key, AKC also provides for non-interactive ways to establish a shared secret key. In such schemes, one party generates a pair of keys (public and private) and shares the public key with the other party. This second party then generates a random symmetric key, encrypts it with the received public key, and sends it back to the first party. The first party uses their private key to decrypt the received message, thereby obtaining the shared symmetric key. This scheme is non-interactive in that the symmetric key is determined by one party and simply communicated securely to the other party in encrypted form.\n",
    "\n",
    "An important consideration in non-interactive key exchange has to do with the length differential in bits between the symmetric key the parties wish to exchange and recommended message sizes in AKC. Typically, modern symmetric keys are in the range of 128-256 bits long, while asymmetric key cryptosystems such as RSA work with message sizes around 1024-4096 bits long. Therefore, when using AKC to transmit a symmetric key, for security it must nevertheless be encoded into a longer 1024-4096 bit message. This can be achieved via two approaches:\n",
    "\n",
    "- **Padding-based key exchange:** In this approach, the shorter (128-256 bit) symmetric key is generated first and then an agreed-upon reversible padding scheme such as [OAEP][71] is used to embed it into a longer (1024-4096 bit) message. This longer message is encrypted using AKC and broadcasted as [ciphertext][ciphertext]. The recipient first decrypts the ciphertext and then removes the padding to extract the shorter symmetric key.\n",
    "\n",
    "[ciphertext]: #definition-tooltip \"The unreadable output of the encryption algorithm.\"\n",
    "\n",
    "- **Key [encapsulation][Encapsulation] mechanisms (KEMs):** With [KEM-based][61] key exchange, a random, long (1024-4096 bit) plain text message is first generated, from which a shorter (128-256 bit) symmetric key can be extracted using an agreed-upon [key derivation function][101] (KDF). The longer plain text is encrypted using AKC and broadcasted to the recipient as ciphertext. The recipient decodes the ciphertext using their private key and then uses the KDF to extract the shorter (128-256 bit) symmetric key. Popular cryptosystems such as [RSA][66], with their ability to directly encrypt data, can be used to implement KEMs.\n",
    "\n",
    "![Figure 3. Key Encapsulation Mechanism](/learning/images/courses/quantum-safe-cryptography/asymmetric-key-cryptography/kem_akc.avif)\n",
    "\n",
    "*Figure 3. Key Encapsulation Mechanism*\n",
    "\n",
    "[rsa]: #definition-tooltip \"A public-key cryptosystem named after Ron Rivest, Adi Shamir, and Leonard Adleman. Developed in 1977.\"\n",
    "[61]: #definition-tooltip \"Reference: Key encapsulation mechanism,Wikipedia. Sep. 2022. Accessed: Jul. 10, 2023. [link](https://en.wikipedia.org/w/index.php?title=Key_encapsulation_mechanism&oldid=1110687965)\"\n",
    "[71]: #definition-tooltip \"Reference: Optimal asymmetric encryption padding,Wikipedia. Jul. 2023. Accessed: Jul. 11, 2023. [link](https://en.wikipedia.org/w/index.php?title=Optimal_asymmetric_encryption_padding&oldid=1163481577)\"\n",
    "[66]: #definition-tooltip \"Reference: RSA(cryptosystem),Wikipedia. Jul. 2023. Accessed: Jul. 10, 2023. [link](https://en.wikipedia.org/w/index.php?title=RSA_(cryptosystem)&oldid=1163962255)\"\n",
    "[Encapsulation]: #definition-tooltip \"The process of combining data, such as a message or a file, with cryptographic techniques to create a secure unit; the goal is to predict integrity of the data while it is being stored or transmitted.\"\n",
    "[101]: #definition-tooltip \"Reference: Key derivation function,Wikipedia. Jul. 2023. Accessed: Aug. 04, 2023. [link](https://en.wikipedia.org/w/index.php?title=Key_derivation_function&oldid=1165650237)\""
   ]
  },
  {
   "attachments": {},
   "cell_type": "markdown",
   "id": "0e7f5c76-d6db-4121-84b6-d6fa1c49b3e0",
   "metadata": {},
   "source": [
    "## Digital signatures with asymmetric key cryptography\n",
    "\n",
    "[*Digital signatures*][49] are another powerful application of asymmetric key cryptography. They provide authentication, integrity, and nonrepudiation enabled by the fact that within AKC, entities possess unique private keys. The basic idea underlying signature protocols is that senders of secure messages will additionally *digitally sign* the messages using their unique private key. The receiver will then verify the digital signature using the public key of the sender. Within AKC, digital signatures can be implemented by using algorithms specifically designed for that purpose or by using generic cryptosystems.\n",
    "\n",
    "![Figure 4. Digital signatures with asymmetric key cryptography](/learning/images/courses/quantum-safe-cryptography/asymmetric-key-cryptography/dig_sig_akc.avif)\n",
    "\n",
    "*Figure 4. Digital signatures  with asymmetric key cryptography*\n",
    "\n",
    "### Dedicated digital signature algorithms\n",
    "\n",
    "Currently, the US Federal Information Processing Standard (FIPS) for digital signatures is a dedicated scheme simply titled the [*Digital Signature Algorithm*][28] (DSA). Somewhat similarly to the Diffie-Hellman protocol, the DSA uses the algebraic properties of the [modular exponential][modexp] and [multiplicative inverses][Multiplicative] for signature generation and verification.\n",
    "\n",
    "The [elliptic curve digital signature algorithm][64] (ECDSA) is an ECC variant of DSA, providing the same functionality but with significantly shorter keys. This results in improved efficiency, making it a popular choice for systems with [resource constraints][65].\n",
    "\n",
    "Both DSA and ECDSA will be illustrated in more detail later.\n",
    "\n",
    "### Digital signature schemes using generic cryptosystems\n",
    "\n",
    "In addition to dedicated algorithms, digital signatures can also be generated using generic asymmetric cryptosystems, such as [RSA][66].\n",
    "\n",
    "RSA, which will be discussed in detail in a later section, also exploits modular multiplicative inverses and [modular exponentiation][Modular] as fundamental operations but combines them in a different sequence than DSA. In RSA, the signer typically creates a hash of the message and then encrypts the hash with their private key, creating the digital signature. Any party can then verify this signature by decrypting it with the signer's public key and comparing it with the hashed message.\n",
    "\n",
    "[modexp]: #definition-tooltip \"modular exponentiation is the remainder when an integer is raised to a power (exponent) and then divided by a number (modulus). For example $x^e mod m$ .\"\n",
    "[Modular]: #definition-tooltip \"Used to efficiently compute large powers of a number modulo another number; by repeatedly reducing the result modulo  during the computation, modular exponentiation prevents the intermediate results from becoming extremely large, which can help in managing and performing calculations with large numbers efficiently.\"\n",
    "[Multiplicative]: #definition-tooltip \"The set of integers modulo a prime number, where the group operation is modular multiplication. Elements in the multiplicative group are chosen in such a way that they are coprime to the modulus, ensuring that each element has a unique multiplicative inverse within the group.\"\n",
    "[rsa]: #definition-tooltip \"A public-key cryptosystem named after Ron Rivest, Adi Shamir, and Leonard Adleman. Developed in 1977.\"\n",
    "[66]: #definition-tooltip \"Reference: RSA(cryptosystem),Wikipedia. Jul. 2023. Accessed: Jul. 10, 2023. [link](https://en.wikipedia.org/w/index.php?title=RSA_(cryptosystem)&oldid=1163962255)\"\n",
    "[28]: #definition-tooltip \"Reference: Digital Signature Algorithm,Wikipedia. Apr. 2023. Accessed:Jun. 20, 2023. [link](https://en.wikipedia.org/w/index.php?title=Digital_Signature_Algorithm&oldid=1148950522)\"\n",
    "[64]: #definition-tooltip \"Reference: Elliptic Curve Digital Signature Algorithm,Wikipedia. Jun. 2023. Accessed:Jul. 10, 2023. [link](https://en.wikipedia.org/w/index.php?title=Elliptic_Curve_Digital_Signature_Algorithm&oldid=1162097661)\"\n",
    "[49]: #definition-tooltip \"Reference: Digital signature,Wikipedia. Jun. 2023. Accessed: Jun. 27, 2023. [link](https://en.wikipedia.org/w/index.php?title=Digital_signature&oldid=1161173191)\"\n",
    "[65]: #definition-tooltip \"Reference: C.A. Lara-Nino, A. Diaz-Perez, and M. Morales-Sandoval,“Elliptic Curve Lightweight Cryptography: A Survey,”IEEE Access, vol.6, pp. 72514–72550, 2018, [link](https://doi.org/10.1109/ACCESS.2018.2881444)\""
   ]
  },
  {
   "attachments": {},
   "cell_type": "markdown",
   "id": "4f97da04-c219-4a06-8aca-f5ac91646869",
   "metadata": {},
   "source": [
    "## Applications of asymmetric key cryptography\n",
    "\n",
    "[Asymmetric key cryptography][59] is [ubiquitous][Ubiquitous] in modern digital technology applications. The basic functionalities of AKC described above form the building blocks of many higher-level application protocols, including:\n",
    "\n",
    "1. **Internet communication:** Secure communication over the internet, such as HTTPS, relies heavily on asymmetric key cryptography. The Transport Layer Security (TLS) and its predecessor, Secure Sockets Layer (SSL), use asymmetric key cryptography during the initial handshake process to establish a symmetric key, which is then used for the rest of the communication session.\n",
    "\n",
    "2. **Authentication:** Asymmetric key cryptography is used to create digital signatures, allowing an entity to authenticate a digital document or message as coming from a specific sender. This is used in many scenarios, from verifying software updates to legally binding digital contracts.\n",
    "\n",
    "3. **Email encryption:** Email encryption protocols such as PGP (Pretty Good Privacy) and its open-source alternative GPG (GNU Privacy Guard) use asymmetric key cryptography to ensure that only the intended recipient can read the email content.\n",
    "\n",
    "4. **Secure shell (SSH):** SSH is a protocol for secure remote login and other secure network services over an insecure network. It uses asymmetric key cryptography to authenticate the server to the client and, optionally, the client to the server.\n",
    "\n",
    "5. **VPN (virtual private network):** Asymmetric key encryption is used to establish secure connections in VPNs, ensuring secure communication over public networks.\n",
    "\n",
    "6. **Blockchain and cryptocurrencies:** Blockchain technologies, including Bitcoin and Ethereum, use asymmetric key cryptography. For example, the ownership of Bitcoin is established through digital signatures using asymmetric key cryptography.\n",
    "\n",
    "7. **Certificate authorities:** Asymmetric key cryptography is used by certificate authorities (CAs) to issue and sign digital certificates, which are used in TLS communication, code signing, email encryption, and more. A digital certificate binds a public key to a specific entity (for example, a person or server).\n",
    "\n",
    "![Figure 5. Issuing and signing digital certificates using asymmetric key cryptography](/learning/images/courses/quantum-safe-cryptography/asymmetric-key-cryptography/ca_akc.avif)\n",
    "\n",
    "*Figure 5. Issuing and signing digital certificates using asymmetric key cryptography*\n",
    "\n",
    "[Ubiquitous]: #definition-tooltip \"Something that is present or found everywhere, or something that is widespread and commonly encountered.\"\n",
    "[59]: #definition-tooltip \"Reference: Public-key cryptography,Wikipedia. Jul. 2023. Accessed: Jul. 10, 2023. [link](https://en.wikipedia.org/w/index.php?title=Public-key_cryptography&oldid=1163952916)\""
   ]
  },
  {
   "attachments": {},
   "cell_type": "markdown",
   "id": "915529ef-0c30-46c2-8235-c041c24aabfb",
   "metadata": {},
   "source": [
    "## Security of asymmetric key cryptography\n",
    "\n",
    "Several cryptographic notions come together to enable secure asymmetric key cryptography, including:\n",
    "\n",
    "**Private key secrecy**: The most basic security requirement of AKC is that the private key remains secret. However, since the private key must be mathematically linked to the public key, private key secrecy also requires that it be computationally infeasible to derive the private key from knowledge of the public key. Key generation schemes within AKC rely on computationally hard mathematical problems to facilitate this requirement.\n",
    "\n",
    "**Trapdoor functionality** In AKC, the encryption and decryption operations involve different complementary keys from a single-key pair. Ciphertext generated by encryption using one of the keys (for example the public key) must be inscrutable to third parties while being easily decryptable by the holder of the complementary key (in this case the private key). In other words, encryption should resemble a [*trapdoor one-way function*][67] such that third parties cannot invert the operation and recover the plain text but the private key provides a secret *trapdoor* that enables easy inversion. Popular AKC algorithms use modular exponentiation to set up trapdoor one-way function behavior.\n",
    "\n",
    "**Randomness**: The key generation process should also exploit randomness to ensure that keys are unpredictable, as any pattern or predictability in key generation could be exploited by an attacker. Randomness is also used for padding during encryption to generate semantically secure ciphertexts and within digital signature schemes to produce unique signatures even when the same message is signed multiple times. For this reason, the use of strong random number generators is an important part of AKC.\n",
    "\n",
    "**Large key size**: As in the case of SKC, large key sizes ensure protection against brute force attacks. However, since large key sizes also increase the computational cost of the encryption and decryption process, an optimal solution needs to balance security and efficiency considerations. The following table shows typical key sizes for various asymmetric key cryptography protocols and applications:\n",
    "\n",
    "| Protocol | Typical Key Sizes (in bits)         | Application                    |\n",
    "|----------|-------------------------------------|--------------------------------|\n",
    "| RSA      | 1024 (deprecated), 2048, 3072, 4096 | Encryption, digital signatures |\n",
    "| DSA      | 1024 (deprecated), 2048, 3072       | Digital signatures             |\n",
    "| DH       | 2048, 3072, 4096                    | Key exchange                   |\n",
    "| ECDH     | 224, 256, 384, 521                  | Key exchange                   |\n",
    "| ECDSA    | 224, 256, 384, 521                  | Digital signatures             |\n",
    "\n",
    "**Public key infrastructure**: In AKC, the private keys must be kept secret by the owners while the public keys are shared. There needs to be a secure mechanism to manage and distribute these public keys between users. *Public key infrastructure* (PKI) provides a way to do this using *digital certificates*. A digital certificate provides proof of identity of the owner of the public key and is issued by a trusted authority like a certificate authority(which is part of a PKI). Hence, PKI plays an integral part in the security of modern application using AKC by enabling large-scale key management (by creating, managing, distributing and revoking digital certificates).\n",
    "\n",
    "### Security risks to asymmetric key cryptography\n",
    "As outlined in the above table, modern asymmetric key algorithms such as RSA typically employ much larger key sizes than commonly used symmetric key counterparts such as AES-128. Even the ECC-based protocols (ECDH and ECDSA) that have smaller key sizes employ a minimum of at least 224 bits for keys. This in turn implies that a brute force attack involving an exhaustive search of the private key space to identify the correct key is computationally intractable in the foreseeable future. This remains true even if quantum computers were to be deployed for this task. Therefore, attacks against AKC usually focus on exploiting other potential weaknesses of specific cryptosystems. Some well-documented attack modes target:\n",
    "\n",
    "1. **Algorithmic weakness** by using sophisticated mathematical and computational means to undermine the hardness assumptions used to formulate asymmetric key algorithms. For example, the security of RSA is predicated on the difficulty of factoring large prime numbers, and recent computational advances have [enabled successful factoring of 829-bit RSA keys][68]. Therefore, 1024-bit RSA is currently deprecated. As will be discussed later, the primary risk posed by quantum computers to AKC also falls into this category.\n",
    "\n",
    "2. **Imperfect randomness**, which can lead to weakness in the key generation process. For example, if the random number generator used to create the keys is flawed and generates keys that are not truly random, an attacker might be able to predict the keys.\n",
    "\n",
    "3. **Implementation flaws** such as errors in the implementation of cryptographic algorithms that inadvertently reveal information about the keys. For example, incorrect padding can potentially reveal details about keys.\n",
    "\n",
    "4. **Side channels** that refer to information leakage from the physical system that performs the cryptography. Such leaks could be in the form of timing information, power consumption, or even sound, which can be exploited in a so-called [*side-channel attack*][69]. For example, analyzing how long cryptographic operations take to execute could reveal the number of '1's in a binary key. This seemingly innocent leakage significantly narrows the search space, unveiling potential solutions to problems that initially seemed insurmountable.\n",
    "\n",
    "5. **Key exchange** by intercepting keys while they are being exchanged, such as within a [*man-in-the-middle* attack][70] (MITM). The DH protocol is susceptible to MITM attacks if additional authentication steps are not incorporated.\n",
    "\n",
    "6. **Key storage** by aiming to steal keys from poorly secured storage. This includes physical attacks such as manipulation or theft of storage devices.\n",
    "\n",
    "Securing asymmetric key cryptosystems against the variety of attacks that are possible is therefore a significant task involving mathematical, hardware, software, logistical, and legal considerations.\n",
    "\n",
    "[67]: #definition-tooltip \"Reference: Trapdoor function,”Wikipedia. Jul. 2023. Accessed: Jul. 10, 2023. [link](https://en.wikipedia.org/w/index.php?title=Trapdoor_function&oldid=1163913265)\"\n",
    "[70]: #definition-tooltip \"Reference: Man-in-the-middle attack,”Wikipedia. Jul. 2023. Accessed: Jul. 10, 2023. [link](https://en.wikipedia.org/w/index.php?title=Man-in-the-middle_attack&oldid=1164741355)\"\n",
    "[69]: #definition-tooltip \"Reference: Side-channel attack,”Wikipedia. Jun. 2023. Accessed: Jul. 10, 2023. [link](https://en.wikipedia.org/w/index.php?title=Side-channel_attack&oldid=1162235564)\"\n",
    "[68]: #definition-tooltip \"Reference: RSA Factoring Challenge,”Wikipedia. Jul. 2023. Accessed:Jul. 10, 2023. [link](https://en.wikipedia.org/w/index.php?title=RSA_Factoring_Challenge&oldid=1163481797)\""
   ]
  },
  {
   "attachments": {},
   "cell_type": "markdown",
   "id": "477611e4-f03b-40b4-b440-997d84e227ca",
   "metadata": {},
   "source": [
    "## RSA\n",
    "\n",
    "The [RSA (Rivest-Shamir-Adleman)][7] algorithm is one of the first public key cryptosystems and is widely used for secure data transmission. It is a versatile cryptosystem in that it provides the necessary operations to enable encryption, decryption, digital signatures, and key exchange within a common framework.\n",
    "\n",
    "In this section, we will illustrate asymmetric key cryptography (AKC) using RSA through simple examples.\n",
    "\n",
    "We will use the standard scenario of two parties, Alice and Bob, who wish to communicate securely using AKC.\n",
    "\n",
    "### The RSA algorithm\n",
    "\n",
    "The basic RSA algorithm involves four operations: key generation, key distribution, encryption, and decryption:\n",
    "\n",
    "[7]: #definition-tooltip \"Reference: R.L. Rivest, A. Shamir, and L. Adleman,“A method for obtaining digital signatures and public-key cryptosystems,”Communications of the ACM, vol. 21, no. 2, pp. 120–126, Feb.1978,[link](https://dl.acm.org/doi/10.1145/359340.359342)\""
   ]
  },
  {
   "attachments": {},
   "cell_type": "markdown",
   "id": "8d2d319c-1e33-4a67-84c5-06761b5c18ad",
   "metadata": {},
   "source": [
    "1. **Key generation:**\n",
    "\n",
    "   Public and private keys are generated based on mathematical principles around [prime numbers][prime], where calculating them is easy, but the reverse is hard.\n",
    "\n",
    "   We'll refer to these:\n",
    "    - Public key: $(e, n)$\n",
    "    - Private key: $(d, n)$\n",
    "\n",
    "   Note that $n$ is common to both public key and private key, and is known as the modulus. We will need to use this later.\n",
    "\n",
    "   <details>\n",
    "\n",
    "   <summary>\n",
    "\n",
    "   Mathematical detail\n",
    "\n",
    "   </summary>\n",
    "\n",
    "   - Choose two distinct prime numbers, $p$ and $q$.\n",
    "     - chosen at random (for security).\n",
    "     - They should be similar in magnitude, but differ in length by a few digits, to make factoring harder.\n",
    "     - Prime numbers can be efficiently chosen using a [primality test][primalitytest].\n",
    "   - Compute $n = p*q$.\n",
    "     - $n$ is the modulus for both the public and private keys.\n",
    "   - Compute the [totient][totient] [$φ$][phi]$(n) = (p-1)*(q-1)$.\n",
    "     - The totient is meant to be kept secret and typically discarded after key generation.\n",
    "   - Choose an integer $e$ such that $1 < e < $[$φ$][phi]$(n)$ and [$gcd$][gcd]$(e, $[$φ$][phi]$(n)) = 1$.\n",
    "     - i.e. $e$ and [$φ$][phi]$(n)$ should be [coprime][coprime].\n",
    "     - This number $e$ forms the public key [exponent][exponent] and is typically chosen as a small number for computational efficiency.\n",
    "     - The prime number $65537 = 2^{16} + 1$ is often used.\n",
    "     - Compute $d$ to satisfy the [congruence relation][congrel] $d*e ≡ 1 ($[$mod$][modulus][$φ$][phi]$(n))$.\n",
    "       - That is, $d$ is the [multiplicative inverse][multinv] of $e$ modulo [$φ$][phi]$(n)$.\n",
    "       - This is more efficiently computed using the [extended Euclidean algorithm][exteuc].\n",
    "       - This number $d$ is the private key [exponent][exponent].\n",
    "   - The public key consists of $(e, n)$, and the private key is $(d, n)$.\n",
    "\n",
    "   </details>\n",
    "\n",
    "[coprime]: #definition-tooltip \"Two numbers that have a greatest common divisor of 1. For example, 3 and 13 are coprime because only 1 can divide both of them.\"\n",
    "[congrel]: #definition-tooltip \"Consistency, or equivalence ie. all behaving in the same way.\"\n",
    "[exteuc]: #definition-tooltip \"An efficient way of calculating the greatest common divisor of two whole numbers. It improves on the original Euclidean algorithm.\"\n",
    "[exponent]: #definition-tooltip \"The number of times a number is multiplied by itself.\"\n",
    "[gcd]: #definition-tooltip \"Greatest Common Divisor - the largest positive whole number that can divide two or more of the given whole numbers.\"\n",
    "[modulus]: #definition-tooltip \"The modulus is the remainder left over after dividing by the value specified. modulo is the operation of doing this.\"\n",
    "[multinv]: #definition-tooltip \"Also known as reciprocal, a number, which when multiplied by the number given, results in a value of 1.\"\n",
    "[phi]: #definition-tooltip \"The greek symbol, phi, often used to indicate Euler's totient.\"\n",
    "[primalitytest]: #definition-tooltip \"An algorithm to determine whether a given number is prime. This is relatively easy computationally compared to factorization.\"\n",
    "[prime]: #definition-tooltip \"A positive, whole number, that can only be divided by 1 or itself.\"\n",
    "[totient]: #definition-tooltip \"The totient is a number, or numbers, that are not greater than the given number, and are relatively prime to it, having no factors in common.\""
   ]
  },
  {
   "attachments": {},
   "cell_type": "markdown",
   "id": "fd9699fd-d69b-4d26-b46d-5e2da902c0ef",
   "metadata": {},
   "source": [
    "2. **Key distribution:**\n",
    "\n",
    "   - The public key $(e, n)$ is made public to those who may wish to send a message\n",
    "   - The private key $(d, n)$ is kept secret."
   ]
  },
  {
   "attachments": {},
   "cell_type": "markdown",
   "id": "bf51a591-0db9-401d-a233-4e8558eacfa5",
   "metadata": {},
   "source": [
    "3. **Encryption:**\n",
    "\n",
    "   - Alice wishes to send a message $M$ to Bob. In this case a simple integer\n",
    "   - Alice uses Bob's public key $(e, n)$ to encrypt the message into ciphertext $C$\n",
    "\n",
    "\n",
    "   <details>\n",
    "\n",
    "   <summary>\n",
    "\n",
    "   Mathematical detail\n",
    "\n",
    "   </summary>\n",
    "\n",
    "   - $M$ is an [integer][intrep] $0 ≤ M < n$.\n",
    "   - $C ≡ M^e (mod n)$, where $C$ is the ciphertext.\n",
    "\n",
    "   </details>\n",
    "\n",
    "   [intrep]: #definition-tooltip \"We consider an integer in this example as the simplest case. Any message can be converted into an integer based representation.\""
   ]
  },
  {
   "attachments": {},
   "cell_type": "markdown",
   "id": "0dd1f9b3-85b4-4fb1-84e0-a254e2f47ea9",
   "metadata": {},
   "source": [
    "4. **Decryption:**\n",
    "\n",
    "   - Bob receives the ciphertext $C$\n",
    "   - Bob uses his private key $(d, n)$ to decrypt the message back into message $M$\n",
    "\n",
    "\n",
    "   <details>\n",
    "\n",
    "   <summary>\n",
    "\n",
    "   Mathematical detail\n",
    "\n",
    "   </summary>\n",
    "\n",
    "   - $M ≡ C^d (mod n)$.\n",
    "\n",
    "   </details>"
   ]
  },
  {
   "attachments": {},
   "cell_type": "markdown",
   "id": "a765b247-347c-4e57-ae69-1ca4460e83af",
   "metadata": {},
   "source": [
    "This is the basic outline of RSA. In practice, [more sophisticated padding schemes][71] are applied to the plain text $M$ before encryption to ensure that equal plain texts result in different ciphertexts. This prevents a range of possible attacks against naive implementations of RSA and enables [semantic security][semsec].\n",
    "\n",
    "[semsec]: #definition-tooltip \"With only the ciphertext, and any relevant public information (such as public key for asymmetric key cryptography), and adversary cannot retrieve even partial information from the plaintext.\"\n",
    "[71]: #definition-tooltip \"Reference: Optimal asymmetric encryption padding,Wikipedia. Jul. 2023. Accessed: Jul. 11, 2023. [link](https://en.wikipedia.org/w/index.php?title=Optimal_asymmetric_encryption_padding&oldid=1163481577)\""
   ]
  },
  {
   "attachments": {},
   "cell_type": "markdown",
   "id": "297d3348-cc0a-4008-b8af-5022926ba075",
   "metadata": {},
   "source": [
    "### Illustration of RSA in Python\n",
    "\n",
    "In the following code cells, we illustrate a simple example of the RSA algorithm using small integers and then demonstrate practical key distribution and digital signature applications using Python libraries implementing RSA.\n",
    "\n",
    "> Note: In this section we will show the math calculations in detail as part of the Python code\n",
    "\n",
    "#### RSA key generation\n",
    "\n",
    "Let's step through a simple instance of the RSA algorithm employing small prime numbers.\n",
    "\n",
    "We will need to be able to compute the [greatest common divisor][gcd] of two integers, as it will be needed to test whether two integers are [coprime][Coprime].\n",
    "\n",
    "We will explain one simple way to calculate this, but it is much more efficient with larger integers to use the `math.gcd` python function.\n",
    "\n",
    "[coprime]: #definition-tooltip \"Two numbers that have a greatest common divisor of 1. For example, 3 and 13 are coprime because only 1 can divide both of them.\"\n",
    "[gcd]: #definition-tooltip \"Greatest Common Divisor - the largest positive whole number that can divide two or more of the given whole numbers.\""
   ]
  },
  {
   "cell_type": "code",
   "execution_count": null,
   "id": "1271ecbd-a28c-4f32-8170-742b114de813",
   "metadata": {},
   "outputs": [],
   "source": [
    "import math\n",
    "\n",
    "\n",
    "# Example function to compute the gcd (greatest common divisor)\n",
    "def gcd(a, b):\n",
    "    if b == 0:\n",
    "        return a\n",
    "    else:\n",
    "        return gcd(b, a % b)\n",
    "\n",
    "\n",
    "# let's calculate some examples using algorithm\n",
    "n1 = gcd(50, 10)\n",
    "n2 = gcd(99, 33)\n",
    "n3 = gcd(59, 9)\n",
    "\n",
    "# do the same with the python library call\n",
    "\n",
    "m1 = math.gcd(50, 10)\n",
    "m2 = math.gcd(99, 33)\n",
    "m3 = math.gcd(59, 9)\n",
    "\n",
    "# Confirm they are the same\n",
    "assert n1 == m1\n",
    "assert n2 == m2\n",
    "assert n3 == m3\n",
    "\n",
    "# They are - print out the values for explanation\n",
    "print(\"gcd(50,10) =\", m1)\n",
    "print(\"gcd(99,33) =\", m2)\n",
    "print(\"gcd(59,9) =\", m3)"
   ]
  },
  {
   "attachments": {},
   "cell_type": "markdown",
   "id": "e71a09cc-dec8-43ff-b718-a3ef48964f2f",
   "metadata": {},
   "source": [
    "The first phase of the RSA workflow is key generation. This is initiated by choosing two prime numbers, which are meant to be kept secret by the entity generating the keys."
   ]
  },
  {
   "cell_type": "code",
   "execution_count": null,
   "id": "f3b3d377-36b4-4ef8-b31b-ebf409455530",
   "metadata": {},
   "outputs": [],
   "source": [
    "# Choosing two prime numbers and keep them secret\n",
    "p = 13\n",
    "q = 19\n",
    "print(\"The secret prime numbers p and q are:\", p, q)"
   ]
  },
  {
   "attachments": {},
   "cell_type": "markdown",
   "id": "11c13f16-614c-4235-a97a-3c147441c162",
   "metadata": {},
   "source": [
    "Next, the [modulus][modulus] $n$, which is simply the product of the two chosen primes, is computed. This modulus will be published as part of the public key.\n",
    "\n",
    "[modulus]: #definition-tooltip \"The modulus is the remainder left over after dividing by the value specified. modulo is the operation of doing this.\""
   ]
  },
  {
   "cell_type": "code",
   "execution_count": null,
   "id": "3bd695c3-cc01-4b23-8a18-ddee37332807",
   "metadata": {},
   "outputs": [],
   "source": [
    "# Calculate n which is the modulus for both the public and private keys\n",
    "n = p * q\n",
    "print(\"modulus n (p*q)=\", n)"
   ]
  },
  {
   "attachments": {},
   "cell_type": "markdown",
   "id": "af82b459-060d-41c1-9cca-7fe47d94489f",
   "metadata": {},
   "source": [
    "The Euler [totient][totient] function [$\\varphi(n)$][phi] is computed next, as it is needed for the [modular multiplicative inverse][modinv] operation used to determine the keys in RSA. $phi$ is also kept secret and typically discarded after key generation.\n",
    "\n",
    "[modinv]: #definition-tooltip \"Given an integer $a$, and modulus $m$, the remainder from ax/m is 1. This is only the case for coprimes.\"\n",
    "[phi]: #definition-tooltip \"The greek symbol, phi, often used to indicate Euler's totient.\"\n",
    "[totient]: #definition-tooltip \"The totient is a number, or numbers, that are not greater than the given number, and are relatively prime to it, having no factors in common.\""
   ]
  },
  {
   "cell_type": "code",
   "execution_count": null,
   "id": "194587d4-c5e7-4db2-b956-d53acdeec698",
   "metadata": {},
   "outputs": [],
   "source": [
    "# Compute Euler's totient function, φ(n) and keep it secret\n",
    "phi = (p - 1) * (q - 1)\n",
    "print(\"The secret Euler's function (totient) [phi(n)]:\", phi)"
   ]
  },
  {
   "attachments": {},
   "cell_type": "markdown",
   "id": "f6af228b-7065-4cc6-bb05-f84fdfda17c4",
   "metadata": {},
   "source": [
    "We are now ready to calculate the public and private keys. In RSA, each of these is specified by a tuple of two integers. The first entry in each tuple is a distinct integer, and the second entry is the modulus $n$ that is common to both keys.\n",
    "\n",
    "The first entry in the public key can be any integer greater than 1 that is coprime to $phi$. Two integers are coprime if their [greatest common divisor][gcd] is 1. So we use the `math.gcd` function find an integer $e$ coprime to $phi$.\n",
    "\n",
    "[gcd]: #definition-tooltip \"Greatest Common Divisor - the largest positive whole number that can divide two or more of the given whole numbers.\""
   ]
  },
  {
   "cell_type": "code",
   "execution_count": null,
   "id": "8ca9a7fa-422b-4ce9-82fe-cc7c13193000",
   "metadata": {},
   "outputs": [],
   "source": [
    "# Choose an integer e such that e and φ(n) are coprime\n",
    "e = 2\n",
    "while e < phi:\n",
    "    if math.gcd(e, phi) == 1:\n",
    "        break\n",
    "    else:\n",
    "        e += 1\n",
    "print(\"Public Key (e):\", e)"
   ]
  },
  {
   "attachments": {},
   "cell_type": "markdown",
   "id": "30b1652e-37fb-425e-bc57-645bfc588226",
   "metadata": {},
   "source": [
    "The private key requires an integer $d$, which is the [multiplicative inverse][multinv] of $e$ modulo $phi$; that is, it satisfies the [congruency relation][congrel] $d*e\\equiv 1 \\pmod{\\varphi(n)}$. For this simple illustration where we are dealing with small integers, we can just loop over the positive integers to locate a suitable $d$. In realistic settings, the computationally efficient [extended Euclidean algorithm][exteuc] is used for this purpose.\n",
    "\n",
    "[congrel]: #definition-tooltip \"Consistency, or equivalence ie. all behaving in the same way.\"\n",
    "[exteuc]: #definition-tooltip \"An efficient way of calculating the greatest common divisor of two whole numbers. It improves on the original Euclidean algorithm.\"\n",
    "[multinv]: #definition-tooltip \"Also known as reciprocal, a number, which when multiplied by the number given, results in a value of 1.\""
   ]
  },
  {
   "cell_type": "code",
   "execution_count": null,
   "id": "f06a3674-573c-494b-9fae-c521a1e48441",
   "metadata": {},
   "outputs": [],
   "source": [
    "# Compute a value for d such that (d * e) % φ(n) = 1\n",
    "d = 1\n",
    "while True:\n",
    "    if (d * e) % phi == 1:\n",
    "        break\n",
    "    else:\n",
    "        d += 1\n",
    "print(\"Private Key (d):\", d)"
   ]
  },
  {
   "attachments": {},
   "cell_type": "markdown",
   "id": "d324a6b3-f955-48e7-be1b-1390d14529d9",
   "metadata": {},
   "source": [
    "We now form the tuples $(e, n), (d, n)$, which form the public and private keys respectively. The public key is then published, while the private key is kept secret."
   ]
  },
  {
   "cell_type": "code",
   "execution_count": null,
   "id": "363c54ea-1058-4960-909c-fcd10d7fb6c3",
   "metadata": {},
   "outputs": [],
   "source": [
    "# Public and Private Key pair\n",
    "public = (e, n)\n",
    "private = (d, n)\n",
    "\n",
    "print(f\"The Public key is {public} and Private Key is {private}\")"
   ]
  },
  {
   "attachments": {},
   "cell_type": "markdown",
   "id": "951c8871-ab61-46d4-bb79-3dcde66c1312",
   "metadata": {},
   "source": [
    "Encryption and decryption in RSA use the [modular exponentiation operation][72]. Further, the public and private keys are complementary in that either can be used to encrypt a message that the other can then decrypt.\n",
    "\n",
    "Here we illustrate the case where the public key $(e,n)$ is used for encryption and the private key $(d, n)$ is used for decryption by defining a Python function for each operation.\n",
    "\n",
    "We then encrypt and decrypt an integer message $msg$.\n",
    "\n",
    "[72]: #definition-tooltip \"Reference: Modular exponentiation,”Wikipedia. Jun. 2023. Accessed: Jul. 11, 2023. [link](https://en.wikipedia.org/w/index.php?title=Modular_exponentiation&oldid=1160764843)\""
   ]
  },
  {
   "cell_type": "code",
   "execution_count": null,
   "id": "e4965786-538b-481e-8bff-7c3e1e4f87b0",
   "metadata": {},
   "outputs": [],
   "source": [
    "# Encryption function\n",
    "def encrypt(plain_text):\n",
    "    return (plain_text**e) % n\n",
    "\n",
    "\n",
    "# Decryption function\n",
    "def decrypt(cipher_text):\n",
    "    return (cipher_text**d) % n\n",
    "\n",
    "\n",
    "# Simple message to encode\n",
    "msg = 9\n",
    "\n",
    "# encrypt then decrypt\n",
    "enc_msg = encrypt(msg)\n",
    "dec_msg = decrypt(enc_msg)\n",
    "\n",
    "print(\"Original Message:\", msg)\n",
    "print(\"Encrypted Message:\", enc_msg)\n",
    "print(\"Decrypted Message:\", dec_msg)"
   ]
  },
  {
   "attachments": {},
   "cell_type": "markdown",
   "id": "1ae6b258-a18d-469f-a2fd-771eb598d46b",
   "metadata": {},
   "source": [
    "While the small integers used above are useful to easily outline the core ideas in the RSA algorithm, in real applications RSA requires the use of very large integers. For example, 2048-bit RSA involves the use of a [modulus][modulus] $n$ that is 2048 bits long, the decimal integer equivalents of which are around 10$^616$. These truly enormous numbers are necessary for the practical security of RSA.\n",
    "\n",
    "[modulus]: #definition-tooltip \"The modulus is the remainder left over after dividing by the value specified. modulo is the operation of doing this.\""
   ]
  },
  {
   "attachments": {},
   "cell_type": "markdown",
   "id": "0eaa302d-959e-47c0-9818-907ba77f93d5",
   "metadata": {},
   "source": [
    "#### Symmetric key exchange with RSA\n",
    "As discussed previously, [AKC][akc] enables two parties who wish to communicate to securely establish a *shared secret*, which can be used, for instance, as the secret key for subsequent symmetric encryption of bulk plain text.\n",
    "\n",
    "[akc]: #definition-tooltip \"Asynchronous key encryption.\"\n",
    "\n",
    "Let us consider the following scenario. Alice and Bob want to use [SKC][skc] to encrypt and decrypt messages. However, before this process can be initialized, they need to agree on a common secret key. One option is for one party — say, Alice — to generate a secret key and then securely transmit it to Bob. To achieve this secure transfer, Alice decides to use RSA as the [key encapsulation mechanism][kem] (KEM).\n",
    "\n",
    "This involves the following steps:\n",
    "\n",
    "- First, Alice generates a random symmetric key, which she intends to share with Bob.\n",
    "- Then, Bob generates an asymmetric key pair and makes his public key available on a suitable channel.\n",
    "- Next, Alice uses Bob's public key to encrypt the symmetric key, thus encapsulating it in a ciphertext.\n",
    "- Then, Alice broadcasts the ciphertext over a reliable but not necessarily secure channel.\n",
    "- Finally, Bob receives the ciphertext and decrypts it using his private key. He now has access to the symmetric key generated by Alice.\n",
    "\n",
    "![Figure 1. Symmetric key exchange with RSA](/learning/images/courses/quantum-safe-cryptography/asymmetric-key-cryptography/key_exchange_rsa.avif)\n",
    "\n",
    "*Figure 1. Symmetric key exchange with RSA*\n",
    "\n",
    "##### Padding-based key-exchange example in Python\n",
    "A practical workflow utilizing RSA for padding-based non-interactive key exchange is now illustrated using the ``cryptography`` Python library.\n",
    "\n",
    "Import necessary modules from the ``cryptography`` Python library. If needed, this library can be installed using the command ``pip install cryptography``.\n",
    "\n",
    "Alice then generates a random secret key, which she intends to transmit to Bob.\n",
    "\n",
    "[kem]: #definition-tooltip \"Key encapsulation mechanism. Secures a symmetric key by use of asymmetric key encryption. A simple approach is to encrypt a random symmetric key using a public key, but more advanced & secure kems are available, and new ones continually developed.\"\n",
    "[skc]: #definition-tooltip \"Symmetric key encryption.\""
   ]
  },
  {
   "cell_type": "code",
   "execution_count": null,
   "id": "aa43e3a6-0a3b-43e1-8107-681cc213f8c2",
   "metadata": {},
   "outputs": [],
   "source": [
    "# pip install cryptography\n",
    "from cryptography.hazmat.primitives import serialization\n",
    "from cryptography.hazmat.primitives.asymmetric import rsa, padding\n",
    "from cryptography.fernet import Fernet\n",
    "from cryptography.hazmat.primitives import hashes\n",
    "\n",
    "symmetric_key = Fernet.generate_key()\n",
    "print(f\"\\nSymmetric key generated by Alice: {symmetric_key}\")"
   ]
  },
  {
   "attachments": {},
   "cell_type": "markdown",
   "id": "fb85d765-ed84-48c9-aa6e-e66045b56d88",
   "metadata": {},
   "source": [
    "Using the ``rsa`` module from the ``cryptography`` library, Bob generates a key pair and then broadcasts his public key. Any one can intercept the public key and read off the public numbers $(e,n)$ that form the key."
   ]
  },
  {
   "cell_type": "code",
   "execution_count": null,
   "id": "ba720fa7-4e64-4512-a8cc-7d91890a234c",
   "metadata": {},
   "outputs": [],
   "source": [
    "# Bob generates a 2048-bit RSA key pair\n",
    "bob_private_key = rsa.generate_private_key(public_exponent=65537, key_size=2048)\n",
    "bob_public_key = bob_private_key.public_key()\n",
    "print(f\"Public key broadcast by Bob: {bob_public_key}\")\n",
    "print(f\"\\nPublic numbers in Bobs' public key: {bob_public_key.public_numbers()}\")"
   ]
  },
  {
   "attachments": {},
   "cell_type": "markdown",
   "id": "26e79459-a342-441a-8796-45238e6497b8",
   "metadata": {},
   "source": [
    "At this point, we assume Alice has received the public key broadcast by Bob. Alice's ``symmetric_key`` above can now be encrypted using Bob's public key to produce the ciphertext. In a realistic setting, Alice will also use additional [padding][padding] methods such as [OAEP][71] to ensure [semantic security][semsec] for her communications with Bob.\n",
    "\n",
    "[padding]: #definition-tooltip \"The addition of data to the beginning, middle, or end of a message. Often used in block ciphers to fill out blocks with insufficient data up to the required size.\"\n",
    "[semsec]: #definition-tooltip \"With only the ciphertext, and any relevant public information (such as public key for asymmetric key cryptography), and adversary cannot retrieve even partial information from the plaintext.\"\n",
    "[71]: #definition-tooltip \"Reference: Optimal asymmetric encryption padding,Wikipedia. Jul. 2023. Accessed: Jul. 11, 2023. [link](https://en.wikipedia.org/w/index.php?title=Optimal_asymmetric_encryption_padding&oldid=1163481577)\""
   ]
  },
  {
   "cell_type": "code",
   "execution_count": null,
   "id": "a658b769-c9f9-4f89-bccf-fa5d6df7129a",
   "metadata": {},
   "outputs": [],
   "source": [
    "# Encryption\n",
    "ciphertext = bob_public_key.encrypt(\n",
    "    symmetric_key,\n",
    "    padding.OAEP(\n",
    "        mgf=padding.MGF1(algorithm=hashes.SHA256()),\n",
    "        algorithm=hashes.SHA256(),\n",
    "        label=None,\n",
    "    ),\n",
    ")\n",
    "\n",
    "print(\"Ciphertext:\", ciphertext)"
   ]
  },
  {
   "attachments": {},
   "cell_type": "markdown",
   "id": "e484d511-a0b2-48f4-bd16-fcb8f04507aa",
   "metadata": {},
   "source": [
    "Alice then broadcasts the ciphertext over an open channel, confident that only Bob with the corresponding private key will be able to decrypt it. We assume Bob has received the ciphertext and can now decrypt it using his confidential private key."
   ]
  },
  {
   "cell_type": "code",
   "execution_count": null,
   "id": "36985020-926b-4d9b-b2ea-dbc18f5a1778",
   "metadata": {},
   "outputs": [],
   "source": [
    "# Bob decrypts ciphertext to access the symmetric key\n",
    "decrypted_symmetric_key = bob_private_key.decrypt(\n",
    "    ciphertext,\n",
    "    padding.OAEP(\n",
    "        mgf=padding.MGF1(algorithm=hashes.SHA256()),\n",
    "        algorithm=hashes.SHA256(),\n",
    "        label=None,\n",
    "    ),\n",
    ")\n",
    "\n",
    "print(\"Decrypted key:\", decrypted_symmetric_key)\n",
    "assert decrypted_symmetric_key == symmetric_key"
   ]
  },
  {
   "attachments": {},
   "cell_type": "markdown",
   "id": "4ba282d0-d9d3-4083-aa24-2a38c73583a7",
   "metadata": {},
   "source": [
    "At this point, Alice and Bob both have access to the secret symmetric key, which they can use for [SKC][skc] applications.\n",
    "\n",
    "[skc]: #definition-tooltip \"Symmetric key encryption.\""
   ]
  },
  {
   "attachments": {},
   "cell_type": "markdown",
   "id": "ba9f62a9-cb02-4fe9-83d7-ced7cd916f9d",
   "metadata": {},
   "source": [
    "##### Simulating a Key Encapsulation Mechanism with RSA in Python\n",
    "In the following workflow, we illustrate the use of RSA to simulate a Key Encapsulation Mechanism (KEM) whereby a sufficiently long random secret message is securely exchanged and subsequently converted into a shared-secret of the appropriate length using a KDF.\n",
    "\n",
    "Once again Alice and Bob want to establish a shared secret non-interactively and Alice is the party that decides which secret to use.\n",
    "\n",
    "We start by importing some necessary Python libraries.\n",
    "\n",
    "Bob then generates his RSA key pair and broadcasts his public key."
   ]
  },
  {
   "cell_type": "code",
   "execution_count": null,
   "id": "1dcd5bed-0f61-4595-a426-0565629661e8",
   "metadata": {},
   "outputs": [],
   "source": [
    "from cryptography.hazmat.primitives.asymmetric import rsa, padding\n",
    "from cryptography.hazmat.primitives.kdf.hkdf import HKDF\n",
    "from cryptography.hazmat.primitives import hashes\n",
    "from os import urandom\n",
    "\n",
    "# Bob's RSA key pair\n",
    "private_key_Bob = rsa.generate_private_key(public_exponent=65537, key_size=2048)\n",
    "public_key_Bob = private_key_Bob.public_key()\n",
    "\n",
    "print(\"Bob's private and public keys created\")"
   ]
  },
  {
   "attachments": {},
   "cell_type": "markdown",
   "id": "4bb2fe86-cc7c-4a48-a79b-0ea998dc8036",
   "metadata": {},
   "source": [
    "Alice first generates a long random secret from which the shared secret will be eventually derived. In a pure [KEM][61], the long secret will be a random element from the algebraic structure underlying the cryptosystem. In the case of 2048-bit RSA, this would be a random integer modulo the 2048-bit RSA modulus. As such a pure KEM does not require additional padding but in this example we are only simulating a KEM using RSA and the `cryptography` library requires the use of padding when encrypting with RSA. So we will use a somewhat shorter long secret which nevertheless is much longer than a standard 256-bit AES key.\n",
    "\n",
    "[61]: #definition-tooltip \"Reference: Key encapsulation mechanism,Wikipedia. Sep. 2022. Accessed: Jul. 10, 2023. [link](https://en.wikipedia.org/w/index.php?title=Key_encapsulation_mechanism&oldid=1110687965)\""
   ]
  },
  {
   "cell_type": "code",
   "execution_count": null,
   "id": "83a786d0-c0a4-4442-9771-6a3d92f2ee02",
   "metadata": {},
   "outputs": [],
   "source": [
    "Alice_long_secret = urandom(160)  # A 160 byte or 1280 bit random message\n",
    "print(\"Alice's secret created\")"
   ]
  },
  {
   "attachments": {},
   "cell_type": "markdown",
   "id": "bc8356ca-443a-4239-aa00-3cb27c9d69be",
   "metadata": {},
   "source": [
    "Next Alice encrypts the long secret using Bob's public key and the encrypted secret is communicated to Bob."
   ]
  },
  {
   "cell_type": "code",
   "execution_count": null,
   "id": "0c88cd97-464c-492f-a4ed-95d18a32ecd8",
   "metadata": {},
   "outputs": [],
   "source": [
    "Alice_encrypted_secret = public_key_Bob.encrypt(\n",
    "    Alice_long_secret,\n",
    "    padding.OAEP(\n",
    "        mgf=padding.MGF1(algorithm=hashes.SHA256()),\n",
    "        algorithm=hashes.SHA256(),\n",
    "        label=None,\n",
    "    ),\n",
    ")\n",
    "print(\"Alice's secret encrypted\")"
   ]
  },
  {
   "attachments": {},
   "cell_type": "markdown",
   "id": "8d6b0921-39ad-4acb-82cb-f18411cbab9c",
   "metadata": {},
   "source": [
    "Bob decrypt's the encrypted secret received from Alice using his private key."
   ]
  },
  {
   "cell_type": "code",
   "execution_count": null,
   "id": "c96cd5c7-14ca-40b7-b8bf-0911a239c820",
   "metadata": {},
   "outputs": [],
   "source": [
    "Bob_decrypted_secret = private_key_Bob.decrypt(\n",
    "    Alice_encrypted_secret,\n",
    "    padding.OAEP(\n",
    "        mgf=padding.MGF1(algorithm=hashes.SHA256()),\n",
    "        algorithm=hashes.SHA256(),\n",
    "        label=None,\n",
    "    ),\n",
    ")\n",
    "\n",
    "assert Alice_long_secret == Bob_decrypted_secret, \"Secrets do not match!\"\n",
    "\n",
    "# if we get here they match\n",
    "print(\"Secrets match\")"
   ]
  },
  {
   "attachments": {},
   "cell_type": "markdown",
   "id": "f14540de-abb5-48db-b10b-c5ab14a3fea6",
   "metadata": {},
   "source": [
    "Finally both Alice and Bob separately apply an agreed upon [Key Derivation Function][101] (KDF) on the long secret to derive the symmetric key.\n",
    "\n",
    "Note that the process involves a hashing protocol and the use of a random [*salt*][salt] which ensures uniqueness and unpredictability of the shared symmetric key in case the long secret is ever reused (not recommended). However the *salt* itself does not have to be secret and once it is randomly generated, say by Alice in this example, it can be broadcasted to Bob alongside the encrypted long secret.\n",
    "\n",
    "We will assume therefore that both Alice and Bob have access to the same random *salt*.\n",
    "\n",
    "[salt]: #definition-tooltip \"Regarding password hashing,the idea that salt enhances/makes a food unique is the same idea of how adding salt in this context makes our password unique, distinctive, and hard to reproduce.\"\n",
    "[101]: #definition-tooltip \"Reference: Key derivation function,Wikipedia. Jul. 2023. Accessed: Aug. 04, 2023. [link](https://en.wikipedia.org/w/index.php?title=Key_derivation_function&oldid=1165650237)\""
   ]
  },
  {
   "cell_type": "code",
   "execution_count": null,
   "id": "c5e92a33-2ba6-440b-93b3-59612a4aeaff",
   "metadata": {},
   "outputs": [],
   "source": [
    "def key_derivation_function(secret, salt):\n",
    "    hkdf = HKDF(\n",
    "        algorithm=hashes.SHA256(),\n",
    "        length=32,  # Desired key length\n",
    "        salt=salt,\n",
    "        info=None,\n",
    "        backend=None,\n",
    "    )\n",
    "    return hkdf.derive(secret)\n",
    "\n",
    "\n",
    "common_salt = urandom(16)  # Random salt accessible to both Alice and Bob\n",
    "\n",
    "symmetric_key_Alice = key_derivation_function(Alice_long_secret, common_salt)\n",
    "symmetric_key_Bob = key_derivation_function(Bob_decrypted_secret, common_salt)\n",
    "\n",
    "assert symmetric_key_Alice == symmetric_key_Bob, \"Derived keys do not match!\"\n",
    "print(\n",
    "    f\"A symmetric key of length {len(symmetric_key_Alice)*8} bits was successfully derived by both Alice and Bob!\"\n",
    ")"
   ]
  },
  {
   "attachments": {},
   "cell_type": "markdown",
   "id": "aa2e3da1-7a2e-4357-b853-167f821d65b0",
   "metadata": {},
   "source": [
    "#### Digital signatures with RSA\n",
    "We will now extend the above confidential communication scenario with Alice and Bob to one that also includes validation with the help of a [digital signature][49].\n",
    "\n",
    "As before, Alice will confidentially send a message encapsulating a symmetric key to Bob, but she will also digitally sign the message so that Bob, upon receiving the message, can verify that it was Alice who originated it and that the contents of the message were not tampered with during transmission.\n",
    "\n",
    "More generally, it is desirable to enable validation without compromising confidentiality whereby any interested party is able to verify the [integrity][integrity], [authenticity][authenticity], and establish non-repudiation with respect to a given communication, even if that party does not have access to the actual plain text message.\n",
    "\n",
    "We will consider this general setting which then involves the following steps:\n",
    "\n",
    "- First, both Bob and Alice make their public keys available over an open channel.\n",
    "- Then, Alice encrypts the plain text using Bob's public key, creating a ciphertext.\n",
    "- Next, Alice creates a hash of the ciphertext with a *hash function* and further encrypts the resulting hashed ciphertext using her private key. This encrypted hash is the *signature*.\n",
    "- Then, Alice then transmits both the ciphertext and the signature over an open channel.\n",
    "- Then, Bob uses Alice's public key to decrypt the signature, revealing the hashed ciphertext.\n",
    "- Next, since Bob also has access to the ciphertext itself, he uses the same hash function used by Alice to recreate a second instance of the hashed ciphertext. If the latter matches the one obtained by decrypting Alice's signature, then the message is validated, even though the ciphertext itself has not yet been decrypted.\n",
    "- Finally, Bob, having validated the message, decrypts the ciphertext using his own private key.\n",
    "\n",
    "![Figure 2. Digital signatures with RSA](/learning/images/courses/quantum-safe-cryptography/asymmetric-key-cryptography/dig_sig_rsa.avif)\n",
    "\n",
    "*Figure 2. Digital signatures with RSA*\n",
    "\n",
    "This workflow for a digital signature is illustrated next.\n",
    "\n",
    "We once again import some useful modules from the ``cryptography`` library.\n",
    "\n",
    "\n",
    "[authenticity]: #definition-tooltip \"Authenticity is the proof that a message is from the source it claims to be from.\"\n",
    "[integrity]: #definition-tooltip \"Integrity is maintained when a message is protected against unauthorized change.\"\n",
    "[49]: #definition-tooltip \"Reference: Digital signature,Wikipedia. Jun. 2023. Accessed: Jun. 27, 2023. [link](https://en.wikipedia.org/w/index.php?title=Digital_signature&oldid=1161173191)\""
   ]
  },
  {
   "attachments": {},
   "cell_type": "markdown",
   "id": "4ab081be-3d1d-4513-80b6-df0fe69afbd0",
   "metadata": {},
   "source": [
    "As before, Alice intends to securely send a symmetric key to Bob, but she also wishes to digitally sign it. In this case, we need public keys for both Alice and Bob. Therefore, the first step is for both Alice and Bob to create their own key pair using RSA and broadcast their own public key to the world."
   ]
  },
  {
   "cell_type": "code",
   "execution_count": null,
   "id": "bb0cb967-c809-42fe-b4fb-ebaca4abb111",
   "metadata": {},
   "outputs": [],
   "source": [
    "from cryptography.hazmat.primitives import hashes\n",
    "from cryptography.hazmat.primitives.asymmetric import padding, rsa\n",
    "from cryptography.hazmat.primitives.asymmetric.utils import Prehashed\n",
    "\n",
    "# Generate keys for Bob\n",
    "bob_private_key = rsa.generate_private_key(public_exponent=65537, key_size=2048)\n",
    "bob_public_key = bob_private_key.public_key()\n",
    "\n",
    "# Generate keys for Alice\n",
    "alice_private_key = rsa.generate_private_key(public_exponent=65537, key_size=2048)\n",
    "alice_public_key = alice_private_key.public_key()\n",
    "\n",
    "print(\"Private and Public keys generated for Bob and Alice.\")"
   ]
  },
  {
   "attachments": {},
   "cell_type": "markdown",
   "id": "5cae7a5e-abd6-47e4-88c5-552406de55ff",
   "metadata": {},
   "source": [
    "In the next step, as before, Alice uses Bob's public key to encrypt the symmetric key and prepares the ciphertext."
   ]
  },
  {
   "cell_type": "code",
   "execution_count": null,
   "id": "96f5f405-718b-4c83-b7c4-53a77030dc24",
   "metadata": {},
   "outputs": [],
   "source": [
    "# Alice encrypts the message using Bob's public key\n",
    "ciphertext = bob_public_key.encrypt(\n",
    "    symmetric_key,\n",
    "    padding.OAEP(\n",
    "        mgf=padding.MGF1(algorithm=hashes.SHA256()),\n",
    "        algorithm=hashes.SHA256(),\n",
    "        label=None,\n",
    "    ),\n",
    ")\n",
    "\n",
    "print(\"ciphertext of symmetric key: \", ciphertext)"
   ]
  },
  {
   "attachments": {},
   "cell_type": "markdown",
   "id": "3e43436f-41f9-4bd5-9a66-4271d3f6e15c",
   "metadata": {},
   "source": [
    "At this stage, instead of just broadcasting the ciphertext, Alice intends to attach a digital signature to it so that she can prove to Bob that she was the sender of the message. This is done in two steps:\n",
    "\n",
    "1. Create a hash of the ciphertext using a hashing algorithm.\n",
    "2. Encrypt the hash using Alice's private key, which amounts to a signature."
   ]
  },
  {
   "cell_type": "code",
   "execution_count": null,
   "id": "da5af4fc-db08-4262-b1b6-4cdf799e8d69",
   "metadata": {},
   "outputs": [],
   "source": [
    "# Alice signs the ciphertext using her private key\n",
    "digest = hashes.Hash(hashes.SHA256())\n",
    "digest.update(ciphertext)\n",
    "hash_to_sign = digest.finalize()\n",
    "\n",
    "signature = alice_private_key.sign(\n",
    "    hash_to_sign,\n",
    "    padding.PSS(mgf=padding.MGF1(hashes.SHA256()), salt_length=padding.PSS.MAX_LENGTH),\n",
    "    Prehashed(hashes.SHA256()),\n",
    ")\n",
    "\n",
    "print(\"signature: \", signature)"
   ]
  },
  {
   "attachments": {},
   "cell_type": "markdown",
   "id": "07ee5026-4ee6-46e7-b8dc-ff704b1edd9c",
   "metadata": {},
   "source": [
    "Alice then broadcasts the ciphertext and the signature over a network so that Bob is able to intercept both of them."
   ]
  },
  {
   "cell_type": "code",
   "execution_count": null,
   "id": "b58e4efa-984d-4db1-84cb-d1e34f825b14",
   "metadata": {},
   "outputs": [],
   "source": [
    "# Bob receives the ciphertext and signature\n",
    "received_ciphertext = ciphertext\n",
    "received_signature = signature\n",
    "\n",
    "# Send signature and ciphertext here\n",
    "print(\"Sending ciphertext and signature.....\")"
   ]
  },
  {
   "attachments": {},
   "cell_type": "markdown",
   "id": "d19c3a48-32db-400f-8a97-0c0a12ef4053",
   "metadata": {},
   "source": [
    "On Bob's side, the first task is to verify the [integrity][integrity] and [authenticity][authenticity] of the ciphertext. To do this, Bob creates a hash of the received ciphertext using the same hashing algorithm used by Alice.\n",
    "\n",
    "[authenticity]: #definition-tooltip \"Authenticity is the proof that a message is from the source it claims to be from.\"\n",
    "[integrity]: #definition-tooltip \"Integrity is maintained when a message is protected against unauthorized change.\""
   ]
  },
  {
   "cell_type": "code",
   "execution_count": null,
   "id": "09fd99c2-472c-41e3-aa1e-f1e160f641e0",
   "metadata": {},
   "outputs": [],
   "source": [
    "# Bob creates a hash of the ciphertext using the same algorithm used by Alice\n",
    "digest = hashes.Hash(hashes.SHA256())\n",
    "digest.update(received_ciphertext)\n",
    "hash_to_verify = digest.finalize()\n",
    "\n",
    "print(\"hash to verify: \", hash_to_verify)"
   ]
  },
  {
   "attachments": {},
   "cell_type": "markdown",
   "id": "f573e002-7901-43b9-90f1-2a53fa3ee9a2",
   "metadata": {},
   "source": [
    "Then, Bob decrypts the received signature using Alice's public key. Because Alice used her private key to create the signature, Bob is able to decrypt it using Alice's public key. The decrypted signature is nothing but a hash of the ciphertext created on Alice's end. If the hash created by Bob matches the decrypted signature, then Bob has verified that the ciphertext he received has not been tampered with and that it was Alice who signed the ciphertext.\n",
    "\n",
    "In the Python code below, these operations are combined into a useful utility function called ``verify`` provided by an object associated with Alice's public key."
   ]
  },
  {
   "cell_type": "code",
   "execution_count": null,
   "id": "3b90a31c-d4bb-4950-8e8d-d57d6f778028",
   "metadata": {},
   "outputs": [],
   "source": [
    "from cryptography.exceptions import InvalidSignature\n",
    "\n",
    "\n",
    "def is_signature_valid(public_key, signature, data_hash):\n",
    "    try:\n",
    "        public_key.verify(\n",
    "            signature,\n",
    "            data_hash,\n",
    "            padding.PSS(\n",
    "                mgf=padding.MGF1(hashes.SHA256()), salt_length=padding.PSS.MAX_LENGTH\n",
    "            ),\n",
    "            Prehashed(hashes.SHA256()),\n",
    "        )\n",
    "        return True\n",
    "    except InvalidSignature:\n",
    "        return False\n",
    "\n",
    "\n",
    "if is_signature_valid(alice_public_key, received_signature, hash_to_verify):\n",
    "    print(\"The signature is valid.\")\n",
    "else:\n",
    "    print(\"The signature is not valid.\")"
   ]
  },
  {
   "attachments": {},
   "cell_type": "markdown",
   "id": "1267bda4-1659-4aab-8401-a1e240977941",
   "metadata": {},
   "source": [
    "Having verified the [integrity][integrity] and [authenticity][authenticity] of the received ciphertext, Bob can then decrypt it using his private key because Alice created the ciphertext using Bob's public key.\n",
    "\n",
    "[authenticity]: #definition-tooltip \"Authenticity is the proof that a message is from the source it claims to be from.\"\n",
    "[integrity]: #definition-tooltip \"Integrity is maintained when a message is protected against unauthorized change.\""
   ]
  },
  {
   "cell_type": "code",
   "execution_count": null,
   "id": "d733a450-ab2b-4a90-b237-06da6132db66",
   "metadata": {},
   "outputs": [],
   "source": [
    "# Bob decrypts the message using his private key\n",
    "decrypted_message = bob_private_key.decrypt(\n",
    "    received_ciphertext,\n",
    "    padding.OAEP(\n",
    "        mgf=padding.MGF1(algorithm=hashes.SHA256()),\n",
    "        algorithm=hashes.SHA256(),\n",
    "        label=None,\n",
    "    ),\n",
    ")\n",
    "\n",
    "print(\"Decrypted message:\", decrypted_message.decode())"
   ]
  },
  {
   "attachments": {},
   "cell_type": "markdown",
   "id": "54d56a0a-c68c-4fe9-8123-176615aca73a",
   "metadata": {},
   "source": [
    "In the above digital signature scenario, any party — not just Bob — can verify that Alice is the sender of the ciphertext because everyone can access Alice's public key, the ciphertext, and the digital signature. Furthermore, after sending the ciphertext and the signature, Alice cannot later deny having done so because the signature can be decrypted to a meaningful hash using only her public key. This establishes [non-repudiation][nonrepudiation].\n",
    "\n",
    "By enabling secure key distribution and supporting non-repudiation, public key cryptography establishes a strong foundation for secure digital communication.\n",
    "\n",
    "[nonrepudiation]: #definition-tooltip \"Non-repudiation refers to the ability to prove that a specific party has sent a message. In symmetric key cryptography, since the same key is used for both encryption and decryption, it is not possible to determine which party has created a particular ciphertext. In contrast, asymmetric key cryptography provides non-repudiation through the use of digital signatures.\""
   ]
  },
  {
   "attachments": {},
   "cell_type": "markdown",
   "id": "97f45c36-a024-4ad9-b025-3854e10654de",
   "metadata": {},
   "source": [
    "## Breaking RSA\n",
    "\n",
    "The utility and security of the [RSA][rsa] algorithm outlined above rests on two mathematical assumptions:\n",
    "\n",
    "1. Finding the [modular multiplicative inverse][modinv] $d$ given that access only to $(e, n)$ is computationally infeasible.\n",
    "\n",
    "2. In the RSA setting, the modular exponentiation operation behaves like a [one-way trapdoor function][trapdoor]. When used for encryption, it yields ciphertext that is inscrutable, and without access to the private key, inverting the operation to recover the plain text from the ciphertext is not feasible. However, with access to the private key, which acts as a trapdoor, the ciphertext can be easily decrypted.\n",
    "\n",
    "The most prominent attack on the [RSA][rsa] algorithm aims to undermine assumption 1 by efficiently recovering the private key number $d$ via factorizing the [modulus][modulus] $n$. As will be illustrated below, it is easy to recover $d$ if one has access to either the [prime factors][primefactor] $p$ and $q$ of $n$ or the totient [$φ$][phi]$(n)$. Recall that $p$, $q$, and [$φ$][phi]$(n)$ are kept secret during key generation and discarded after. A third party that recovers this information using a classical or quantum computer essentially uncovers the private key, breaking RSA. Thus, prime factorization is the key computational primitive necessary for breaking RSA.\n",
    "\n",
    "[modinv]: #definition-tooltip \"Given an integer $a$, and modulus $m$, the remainder from ax/m is 1. This is only the case for coprimes.\"\n",
    "[modulus]: #definition-tooltip \"The modulus is the remainder left over after dividing by the value specified. modulo is the operation of doing this.\"\n",
    "[phi]: #definition-tooltip \"The greek symbol, phi, often used to indicate Euler's totient.\"\n",
    "[primefactor]: #definition-tooltip \"prime factors of a number n, are those primes that are multiplied together to make n.\"\n",
    "[rsa]: #definition-tooltip \"A public-key cryptosystem named after Ron Rivest, Adi Shamir, and Leonard Adleman. Developed in 1977.\"\n",
    "[trapdoor]: #definition-tooltip \"A one-way function where it is easy to compute an output from the inputs, but hard to determine the inputs from the output.\""
   ]
  },
  {
   "attachments": {},
   "cell_type": "markdown",
   "id": "80cbdd40-5892-42a4-a5b3-e13da1e655cc",
   "metadata": {},
   "source": [
    "### Classical computing and RSA\n",
    "\n",
    "Prime factorization of large integers is known to exhibit [super-polynomial][superpoly] or [subexponential][subexp] scaling on classical computers. The best-known classical algorithm for factoring integers larger than $10^{100}$ is the *[general number field sieve][gnfs]* [(GNFS)][73].\n",
    "\n",
    "<details>\n",
    "\n",
    "<summary>\n",
    "\n",
    "Mathematical detail\n",
    "\n",
    "</summary>\n",
    "\n",
    "$L_n[\\frac{1}{3}, (\\frac{64}{9})^{(\\frac{1}{3})}] = e^{[((\\frac{64}{9})^{(\\frac{1}{3})} + o(1)) (log(n))^{\\frac{1}{3}}(log(log(n))^{\\frac{2}{3}})]}$\n",
    "\n",
    "as a function of the integer $n$ to be factorized.\n",
    "\n",
    "This scaling is super-polynomial in the number of bits required to represent $n$.\n",
    "\n",
    "Therefore, prime factorization is considered inefficient on classical computers.\n",
    "\n",
    "</details>\n",
    "\n",
    "At present, the [largest integers factored on classical hardware][68] are in the range of 829 bits or 250 decimal digits. Given the exponential growth in classical computing power that has been witnessed over the last several decades, 1024-bit RSA is no longer considered secure in the near term and is now deprecated. Nevertheless, in the foreseeable future, factoring 2048-bit integers whose magnitude are in the range of $10^{617}$ is at present considered infeasible on classical systems, suggesting continued viability. The advent of quantum computers, however, voids this assessment.\n",
    "\n",
    "[subexp]: #definition-tooltip \"Scaling slower than exponential. For example polynomial and linear scaling.\"\n",
    "[superpoly]: #definition-tooltip \"growing faster than a polynomial, for example an exponential function.\"\n",
    "[68]: #definition-tooltip \"Reference: RSA Factoring Challenge,”Wikipedia. Jul. 2023. Accessed:Jul. 10, 2023. [link](https://en.wikipedia.org/w/index.php?title=RSA_Factoring_Challenge&oldid=1163481797)\"\n",
    "[73]: #definition-tooltip \"Reference: “General number field sieve,”Wikipedia. Apr. 2023. Accessed: Jul. 11, 2023. [Online].Available:[link](https://en.wikipedia.org/w/index.php?title=General_number_field_sieve&oldid=1151781536)\"\n",
    "[gnfs]: #definition-tooltip \"General Number Field Sieve - An efficient classical algorithm for factoring large integers.\""
   ]
  },
  {
   "attachments": {},
   "cell_type": "markdown",
   "id": "06920f9e-6912-4bb4-869c-d998c81921fd",
   "metadata": {},
   "source": [
    "### Shor's quantum algorithm and RSA\n",
    "\n",
    "Probably the most well-known quantum algorithm today is [Shor's algorithm][shor] for finding the prime factors of integers. When [introduced by Peter Shor in 1994][6], it was recognized as the first quantum algorithm that offered a [super-polynomial speedup][superpoly] relative to classical algorithms on a problem of great practical importance, namely prime factorization.\n",
    "\n",
    "Shor's algorithm can factor primes with $O(n^2)$ where $n$ is the number of bits.\n",
    "\n",
    "[shor]: #definition-tooltip \"A quantum algorithm which can find prime factors efficiently. Developed by the mathematician, Peter Shor, in 1994.\"\n",
    "[superpoly]: #definition-tooltip \"growing faster than a polynomial, for example an exponential function.\"\n",
    "[6]: #definition-tooltip \"Reference: P.W. Shor,“Algorithms for quantum computation: Discrete logarithms and factoring,”in Proceedings 35th Annual Symposium on Foundations of Computer Science, Nov. 1994, pp. 124–134. [link](https://doi.org/10.1109/SFCS.1994.365700).\""
   ]
  },
  {
   "cell_type": "markdown",
   "id": "9c34e60f-2da7-4824-8e64-04a0bb488a72",
   "metadata": {},
   "source": [
    "<details>\n",
    "\n",
    "<summary>\n",
    "\n",
    "Mathematical explanation of Shor's algorithm\n",
    "\n",
    "</summary>\n",
    "\n",
    "In the context of [RSA][rsa], [Shor's algorithm][shor] works by exploiting the [periodicity][period] of the [modular exponential function][modexp] $f(x) = a^x (mod~n)$ and provides a quantum [period][period]-finding primitive that enables efficient prime factorization of the [modulus][modulus] $n$.\n",
    "\n",
    "A simplified high-level outline of Shor's overall scheme for breaking RSA is as follows:\n",
    "\n",
    "1. Given the modulus $n$, which is published as part of the public key, choose a number $a$ coprime to $n$ i.e., $gcd(a,n) = 1$. Since we know that $n = p*q$ has exactly two prime factors $(p, q)$, almost any number less than $n$ that we pick at random is likely to be coprime to $n$.\n",
    "\n",
    "2. Having chosen $a$, find the exponent $r$ such that $a^r \\equiv 1 (mod~n)$. This implies $a^r - 1 \\equiv 0 (mod~n)$. The existence of an [exponent][exponent] $r$ such that the above [congruence][congrel] holds is guaranteed by the [periodicity property][period] of [modular exponentiation][modexp].\n",
    "\n",
    "3. If $r$ is even, $a^r - 1 \\equiv 0 (mod~n) \\implies (a^{r/2} - 1) (a^{r/2} + 1) =  \\gamma*n$ for some integer $\\gamma$. The left-hand side of this latter equality must contain $p$ and $q$ as two of its prime factors since the right-hand side does. If $r$ is odd, go back to step 1 and try a different choice for $a$.\n",
    "\n",
    "4. Use the [extended Euclid algorithm][exteuc] for finding $gcd((a^{r/2} - 1), n)$ or $gcd((a^{r/2} + 1), n)$. The computed [GCD][gcd] is very likely to identify one of the prime factors $p$ or $q$. Divide $n$ with this prime factor to recover the other.\n",
    "\n",
    "5. Once $p, q$ are known, use the steps from the original RSA algorithm for reconstructing the totient $\\phi(n)$ and generating the private key number $d$ as the [modular inverse][modinv] of the known public key number $e$.\n",
    "\n",
    "</details>\n",
    "\n",
    "[congrel]: #definition-tooltip \"Consistency, or equivalence ie. all behaving in the same way.\"\n",
    "[exponent]: #definition-tooltip \"The number of times a number is multiplied by itself.\"\n",
    "[exteuc]: #definition-tooltip \"An efficient way of calculating the greatest common divisor of two whole numbers. It improves on the original Euclidean algorithm.\"\n",
    "[gcd]: #definition-tooltip \"Greatest Common Divisor - the largest positive whole number that can divide two or more of the given whole numbers.\"\n",
    "[modexp]: #definition-tooltip \"modular exponentiation is the remainder when an integer is raised to a power (exponent) and then divided by a number (modulus). For example $x^e mod m$ .\"\n",
    "[modinv]: #definition-tooltip \"Given an integer $a$, and modulus $m$, the remainder from ax/m is 1. This is only the case for coprimes.\"\n",
    "[modulus]: #definition-tooltip \"The modulus is the remainder left over after dividing by the value specified. modulo is the operation of doing this.\"\n",
    "[period]: #definition-tooltip \"The interval at which a function repeats itself.\"\n",
    "[rsa]: #definition-tooltip \"A public-key cryptosystem named after Ron Rivest, Adi Shamir, and Leonard Adleman. Developed in 1977.\"\n",
    "[shor]: #definition-tooltip \"A quantum algorithm which can find prime factors efficiently. Developed by the mathematician, Peter Shor, in 1994.\""
   ]
  },
  {
   "cell_type": "markdown",
   "id": "a2182923-8b36-41ec-b7d7-9048608bd65f",
   "metadata": {},
   "source": [
    "In August 2023 Oded Regev [published an improvement][301] on Shor's original using a multi-dimensional approach resulting in $O(n^{1.5})$. There continues to be further research including by [Ragavan and Vaikuntanathan][302] in this area which may improve time, cost, or number of qubits needed. Whilst we cannot say when running such algorithms against real-world RSA encryption truly becomes viable, it is becoming closer all the time.\n",
    "\n",
    "[301]: #definition-tooltip \"Reference: Oded Regev,“An Efficient Quantum Factoring Algorithm.” arXiv, Aug 2023. [link](https://doi.org/10.48550/arXiv.2308.06572)\"\n",
    "[302]: #definition-tooltip \"Reference: Seyoon Ragavanm and Vinod Vaikuntanathan,“Optimizing Space in Regev’s Factoring Algorithm.” arXiv, Oct 2023. [link](https://doi.org/10.48550/arXiv.2310.00899)\""
   ]
  },
  {
   "attachments": {},
   "cell_type": "markdown",
   "id": "88969e58-f287-4797-9fc8-ac60ca59002e",
   "metadata": {},
   "source": [
    "#### Python example demonstrating breaking RSA encryption\n",
    "\n",
    "In the following code cells, we illustrate an example of finding a private key given only the public key. This will use brute-force classical computation, but shows how Shor's algorithm could be used - including large keys.\n",
    "\n",
    "> Note: In this section we will show the math calculations in detail as part of the Python code\n",
    "\n",
    "In the example, we have a public key $(5, 247)$, and we will recover the private key.\n",
    "\n",
    "**Step 1:** The first step is to pick a number coprime to 247. Almost any number we guess will do the job. Let's pick 6."
   ]
  },
  {
   "cell_type": "code",
   "execution_count": null,
   "id": "000f327d-7f76-47eb-83c1-127aea4fad25",
   "metadata": {},
   "outputs": [],
   "source": [
    "n = 247  # the modulus\n",
    "e = 5  # public key number\n",
    "a = 6  # an integer coprime to n\n",
    "assert gcd(a, n) == 1\n",
    "print(f\"Checked {n} and {a} are coprime\")"
   ]
  },
  {
   "attachments": {},
   "cell_type": "markdown",
   "id": "1f992fae-2be5-4fd2-8d77-a89b902dd157",
   "metadata": {},
   "source": [
    "**Step 2:** Next we need to find the [period][period] $r$ such that $6^r \\equiv 1 (mod~247)$. In this example, we compute $r$ classically using brute force, but we could also use Shor's algorithm on a quantum computer using [Qiskit][qiskit].\n",
    "\n",
    "[period]: #definition-tooltip \"The interval at which a function repeats itself.\"\n",
    "[qiskit]: #definition-tooltip \"An open-source SDK for working with quantum algorithms and computers. Developed by IBM.\""
   ]
  },
  {
   "cell_type": "code",
   "execution_count": null,
   "id": "cbc925cb-8d4d-41e8-8821-3222cf305b19",
   "metadata": {},
   "outputs": [],
   "source": [
    "r = 0\n",
    "rem = 100\n",
    "while rem != 1:\n",
    "    r += 1\n",
    "    rem = (a**r) % n\n",
    "\n",
    "print(f\"period r is: {r}\")\n",
    "assert a**r % n == 1\n",
    "\n",
    "print(f\"Checked {a}^{r} mod {n} is 1\")"
   ]
  },
  {
   "attachments": {},
   "cell_type": "markdown",
   "id": "05a74e48-b5ec-42de-8b51-b363ef721141",
   "metadata": {},
   "source": [
    "**Step 3:** Since the [period][period] $r = 36$ is even, we can compute $f1 = (a^{r/2}-1), f2=(a^{r/2}+1)$.\n",
    "\n",
    "[period]: #definition-tooltip \"The interval at which a function repeats itself.\""
   ]
  },
  {
   "cell_type": "code",
   "execution_count": null,
   "id": "bd773c77-45df-458c-9401-3f3ee0267b34",
   "metadata": {},
   "outputs": [],
   "source": [
    "# explicitly use as integer\n",
    "f1 = int(a ** (r / 2) - 1)\n",
    "f2 = int(a ** (r / 2) + 1)\n",
    "\n",
    "print(f\"f1 = {f1}\")\n",
    "print(f\"f2 = {f2}\")"
   ]
  },
  {
   "attachments": {},
   "cell_type": "markdown",
   "id": "592fd0f1-cf82-4aaf-ab3e-5dca789ebe28",
   "metadata": {},
   "source": [
    "**Step 4:** Find the [GCD][gcd] of either of those factors with $n$. Simply divide $n$ with the prime factor already found to obtain the second prime factor.\n",
    "\n",
    "[gcd]: #definition-tooltip \"Greatest Common Divisor - the largest positive whole number that can divide two or more of the given whole numbers.\""
   ]
  },
  {
   "cell_type": "code",
   "execution_count": null,
   "id": "85e5bd52-a485-410b-8620-5a1d518ec605",
   "metadata": {},
   "outputs": [],
   "source": [
    "q_found = gcd(f1, n)\n",
    "print(f\"One possible prime factor of n ({n}) is: {q_found}\")\n",
    "\n",
    "# explicit int (to avoid floating point)\n",
    "p_found = int(n / q_found)\n",
    "print(f\"The second prime factor of n ({n}) is: {p_found}\")\n",
    "\n",
    "assert n == p_found * q_found"
   ]
  },
  {
   "attachments": {},
   "cell_type": "markdown",
   "id": "76f9d3a2-ed2a-45bf-9c3f-ad72ca517ddc",
   "metadata": {},
   "source": [
    "**Step 5:** Having recovered the prime factors of $n = 247$ as $p_{found}=13$ and $q_{found}=19$, we compute the totient $\\phi_{found} = (p_{found}-1)*(q_{found}-1)$.\n",
    "\n",
    "The private key is the [modular inverse][modinv] of the public key number $e=5$.\n",
    "\n",
    "[modinv]: #definition-tooltip \"Given an integer $a$, and modulus $m$, the remainder from ax/m is 1. This is only the case for coprimes.\""
   ]
  },
  {
   "cell_type": "code",
   "execution_count": null,
   "id": "79a621f6-21a0-46da-830b-477f7218c9ef",
   "metadata": {},
   "outputs": [],
   "source": [
    "# Compute the totient\n",
    "phi_found = (p_found - 1) * (q_found - 1)\n",
    "print(f\"The totient is: {phi_found}\")\n",
    "\n",
    "# Recover the private key number d_found by satisfying (d_found * e) % phi_found = 1\n",
    "d_found = 1\n",
    "while True:\n",
    "    if (d_found * e) % phi_found == 1:\n",
    "        break\n",
    "    else:\n",
    "        d_found += 1\n",
    "print(\"Private Key number:\", d_found)"
   ]
  },
  {
   "attachments": {},
   "cell_type": "markdown",
   "id": "b9238d24-5998-4e94-8420-8c9ac90bb6f3",
   "metadata": {},
   "source": [
    "In the above scheme, step 2 is the crucial [period][period]-finding operation for which [Shor's algorithm][76] uses two fundamental quantum primitives, namely the *[quantum Fourier transform][qft]* and *[quantum phase estimation][qpe]*. For a detailed explanation of the quantum aspects of Shor's algorithm, see the Phase estimation and factoring lesson in the [Fundamentals of Quantum Algorithms](https://learning.quantum-computing.ibm.com/course/fundamentals-of-quantum-algorithms). Steps 1 and 3 through 5 involve relatively inexpensive operations that can be easily carried out on classical computers.\n",
    "\n",
    "Optionally, here's a detailed visual walkthrough of implementing [Shor's algorithm](https://www.youtube.com/watch?v=EdJ7RoWcU48&t=325s).\n",
    "\n",
    "On quantum computers, Shor's algorithm can exhibit [polylogarithmic scaling][polyalg] as favorable as $O((log~n)^2 (log~log~n))$ in terms of the modulus $n$, or [polynomial scaling][poly] in terms of the number of bits needed to represent $n$. This is a [super-polynomial speedup][superpoly] compared to the classical [GNFS algorithm][gnfs].\n",
    "\n",
    "[Recent resource estimates][39] indicate that based on certain assumptions made regarding the hardware configuration, a few tens of thousands to several million [qubits][qubit] will be necessary to break 2048-bit RSA using Shor's algorithm. It is not inconceivable that quantum computers with several tens of thousands of qubits will become available over the next several years, making the lower end of the resource estimate accessible.\n",
    "\n",
    "[gnfs]: #definition-tooltip \"General Number Field Sieve - An efficient classical algorithm for factoring large integers.\"\n",
    "[period]: #definition-tooltip \"The interval at which a function repeats itself.\"\n",
    "[poly]: #definition-tooltip \"Scales relative to a power, for example n^3. Grows quicker than linear scaling, but slower than exponential.\"\n",
    "[polyalg]: #definition-tooltip \"An algorithm which scales similar to logarithmic scaling, i.e. efficiently compared to the size of data. A binary search is a simple example.\"\n",
    "[qft]: #definition-tooltip \"A quantum algorithm that can be used to find periodic patterns. Named after the fourier transform in classical physics which can split a signal into a set of sine waves.\"\n",
    "[qpe]: #definition-tooltip \"A quantum algorithm used to estimate phase in qubits, named after phase estimation in classical physics.\"\n",
    "[qubit]: #definition-tooltip \"A quantum bit, the equivalent of a bit in classical computing. A qubit behaves very differently since it can be in superposition, (imagine a combination of states), but once measured the superposition collapses, and the result will be 0 or 1.\"\n",
    "[superpoly]: #definition-tooltip \"growing faster than a polynomial, for example an exponential function.\"\n",
    "[39]: #definition-tooltip \"Reference: C.Gidney and M. Ekerå,“How to factor 2048 bit RSA integers in 8 hours using 20 million noisy qubits,”Quantum, vol. 5, p. 433, Apr. 2021, [link](https://quantum-journal.org/papers/q-2021-04-15-433/)\"\n",
    "[76]: #definition-tooltip \"Reference: “Shor’s algorithm,”Wikipedia. Jul. 2023. Accessed: Jul. 11, 2023. [link](https://en.wikipedia.org/w/index.php?title=Shor%27s_algorithm&oldid=1164409434)\""
   ]
  },
  {
   "attachments": {},
   "cell_type": "markdown",
   "id": "1b2563fa-5a60-4da7-80c5-3a2ca48550c3",
   "metadata": {},
   "source": [
    "## Diffie-Hellman key exchange and the Digital Signature Algorithm\n",
    "\n",
    "In the previous section, we discussed the RSA cryptosystem, whose security is based on the computational hardness of prime factorization. Here, we will discuss two popular asymmetric key cryptographic protocols, [*Diffie-Hellman* key exchange][62] (DH) and the [*Digital Signature Algorithm*][28] (DSA), both of which are based on a different mathematical problem, namely the discrete logarithm problem (DLP).\n",
    "\n",
    "[62]: #definition-tooltip \"Reference: Diffie–Hellman key exchange,Wikipedia. Jul. 2023. Accessed: Jul. 10,2023. [link](https://en.wikipedia.org/w/index.php?title=Diffie%E2%80%93Hellman_key_exchange&oldid=1163912552)\"\n",
    "[28]: #definition-tooltip \"Reference: Digital Signature Algorithm,Wikipedia. Apr. 2023. Accessed:Jun. 20, 2023. [link](https://en.wikipedia.org/w/index.php?title=Digital_Signature_Algorithm&oldid=1148950522)\""
   ]
  },
  {
   "attachments": {},
   "cell_type": "markdown",
   "id": "c9bc9793-e3e0-4a78-83af-b105e76ba5be",
   "metadata": {},
   "source": [
    "### The discrete logarithm problem\n",
    "\n",
    "In the following equation we need to find $a$ given only $e$,$M$,$c$\n",
    "\n",
    "$a^e$ $mod$ $M = c$\n",
    "\n",
    "This is believed to be difficult with classic computers due to the use of modulo arithmetic, and therefore is a good mathematical basis for an encryption algorithm.\n",
    "\n",
    "This is known as the [discrete logarithm problem][77] (DLP).\n",
    "\n",
    "### Mathematical details of the discrete logarithm problem\n",
    "\n",
    "The DLP is typically framed in the context of [cyclic groups][Cyclic] and is stated as follows.\n",
    "\n",
    "Consider a [cyclic group][78] $G$ generated by a group element $g \\in G$ and given an arbitrary element $h \\in G$, find an integer $k$ such that $h = g^{k}$.\n",
    "\n",
    "Here the integer $k \\equiv log_{g}h$ is the discrete logarithm. The cyclic property of $G$ guarantees that for every $h$, a valid integer $k$ exists.\n",
    "\n",
    "For cryptography, the DLP on the [multiplicative group][Multiplicative] of integers modulo a prime number $p$ denoted $(\\mathbb{Z}_p)^{\\times}$ turns out to be useful. The elements of $(\\mathbb{Z}_p)^{\\times}$ are congruence classes labeled by integers modulo $p$ that are coprime to $p$.\n",
    "\n",
    "For example:\n",
    "\n",
    "$(\\mathbb{Z}_5)^{\\times} = \\{[1],[2],[3],[4]\\}~\\mathrm{and}~(\\mathbb{Z}_7)^{\\times} = \\{[1],[2],[3],[4],[5],[6]\\} $\n",
    "\n",
    "The operation of multiplication $(\\times)$ on these groups is simply ordinary integer multiplication followed by reduction modulo $p$ and exponentiation by an integer $k$ is just repeated multiplication $k$ times and reduction modulo $p$.\n",
    "\n",
    "Let's illustrate an instance of the DLP on $(\\mathbb{Z}_7)^{\\times}$.\n",
    "\n",
    "This multiplicative group has two generators ${[3],[5]}$ also known as primitive roots. We will use $[5]$ as the generator; that is, generate every element of $(\\mathbb{Z}_7)^{\\times}$ using successive integer powers of 5.\n",
    "\n",
    "```python\n",
    "#Generate elements of (Z_7)^{x} using generator [5].\n",
    "g = 5\n",
    "p = 7\n",
    "print(f\"Using generator {g}\")\n",
    "for k in range(3*p):\n",
    "    print(f\"{g}**{k} mod {p} ≡ {(g**k)%7}\")\n",
    "```\n",
    "\n",
    "We see that in modulo 7 arithmetic, raising 5 to successive integer powers yields every element of $(\\mathbb{Z}_7)^{\\times}$ exactly once before the cycle repeats indefinitely with a period $p-1 =6$.\n",
    "\n",
    "So the DLP on $(\\mathbb{Z}_7)^{\\times}$ with generator [5] is:\n",
    "\n",
    "$ \\mathrm{Given}~h \\in (\\mathbb{Z}_7)^{\\times} \\mathrm{, find~} k \\mathrm{~such~that~} 5^{k} \\equiv h~(mod~7)$.\n",
    "\n",
    "From the above Python cell output we see that:\n",
    "\n",
    "$h = 2 \\implies k=4 \\mathrm{~or~}  4 = log_5(2) (mod~7)$\n",
    "\n",
    "$h = 6 \\implies k=3 \\mathrm{~or~}  3 = log_5(6) (mod~7)$\n",
    "\n",
    "\n",
    "In ordinary real number arithmetic, exponentiation is a [monotonic][Monotonic], function and finding the logarithm of any number to any base is computationally easy. In contrast, as is apparent from the simple $(\\mathbb{Z}_7)^{\\times}$ example above, modular exponentiation is non-monotonic, and even though it is periodic with period $p-1$, it is otherwise highly nontrivial. So computing its inverse, the discrete logarithm turns out to be inefficient for large $p$ on classical computers.\n",
    "\n",
    "This observation underpins both Diffie-Hellman (DH) key exchange and the Digital Signature Algorithm (DSA), which are discussed in the next section.\n",
    "\n",
    "The DLP can be extended to cyclic subgroups as follows:\n",
    "\n",
    "-   Consider $(\\mathbb{Z}_p)^{\\times}$ defined above and an element $g \\in (\\mathbb{Z}_p)^{\\times}$ of prime order $r$ i.e., $g^r \\equiv 1 (~mod~p)$.\n",
    "-   The set of integer powers of $g$: $\\{g^k~(mod~p) | 1 \\le k \\le r\\} = \\langle g \\rangle$ is a cyclic subgroup of $(\\mathbb{Z}_p)^{\\times}$ with group order $r$.\n",
    "-   A DLP can be specified on $\\langle g \\rangle$ by choosing a $h \\in \\\\langle g \\rangle$ and asking for $1 \\le a \\le r$ such that $ g^a~(mod~p) = h$\n",
    "\n",
    "[Monotonic]: #definition-tooltip \"a behavior or relationship that consistently moves in a single direction without reversals; for example in a monotonically increasing function, values consistently increase.\"\n",
    "[Cyclic]: #definition-tooltip \"Group where all elements are generated by repeatedly applying a single element, known as a generator. This process creates a cycle of elements that closes upon itself.\"\n",
    "[Multiplicative]: #definition-tooltip \"The set of integers modulo a prime number, where the group operation is modular multiplication. Elements in the multiplicative group are chosen in such a way that they are coprime to the modulus, ensuring that each element has a unique multiplicative inverse within the group.\"\n",
    "[77]: #definition-tooltip \"Reference: “Discrete logarithm,”Wikipedia. Jun. 2023. Accessed: Jul. 11, 2023. [link](https://en.wikipedia.org/w/index.php?title=Discrete_logarithm&oldid=1161792952)\"\n",
    "[78]: #definition-tooltip \"Reference: “Cyclic group,”Wikipedia. Apr. 2023. Accessed: Jul. 11, 2023. [link](https://en.wikipedia.org/w/index.php?title=Cyclic_group&oldid=1150017831)\""
   ]
  },
  {
   "attachments": {},
   "cell_type": "markdown",
   "id": "67c92910-9a62-4792-accd-38456c0c717a",
   "metadata": {},
   "source": [
    "### Diffie-Hellman key exchange\n",
    "\n",
    "In 1976, [Whitfield Diffie and Martin Hellman proposed a key exchange protocol][79] to enable the creation of a shared secret key over insecure communication channels. The secret key could then be used by parties sharing it for symmetric encryption. The algorithm relies on the DLP.\n",
    "\n",
    "![Figure 1. Diffie-Hellman key exchange](/learning/images/courses/quantum-safe-cryptography/asymmetric-key-cryptography/key_exchange_dh.avif)\n",
    "\n",
    "*Figure 1. Diffie-Hellman key exchange*\n",
    "\n",
    "\n",
    "<details>\n",
    "\n",
    "<summary>\n",
    "\n",
    "Mathematical details of Diffie-Hellman key exchange\n",
    "\n",
    "</summary>\n",
    "With Alice and Bob being the two parties communicating, the protocol works as follows:\n",
    "\n",
    "- First, Alice and Bob agree on a large prime number $p$ and a primitive root or generator $a$.\n",
    "- Then, Alice chooses a secret exponent $k_A$ randomly with $1 \\le k_A \\le p-2$ and calculates $h_A = a^{k_A}~(mod~p)$. $k_A, h_A$ are Alice's  private and public keys respectively.\n",
    "- Next, Bob chooses a secret exponent $k_B$ randomly with  $1 \\le k_B \\le p-2$ and calculates $h_B = a^{k_B}~(mod~p)$. $k_B, h_B$ are Bob's  private and public keys respectively.\n",
    "- Then, Alice sends Bob $h_A$ and Bob sends Alice $h_B$ over a reliable but not necessarily secure channel.\n",
    "- Then, Alice then uses the $h_B$ she received to compute the shared secret key $ \\kappa = h_B^{k_A}~(mod~p)$.\n",
    "- Finally, Bob meanwhile uses the $h_A$ he received to compute the shared secret key $ \\kappa = h_A^{k_B}~(mod~p)$.\n",
    "\n",
    "With this protocol,\n",
    "\n",
    "- Alice and Bob are guaranteed to end up with the same secret key $\\kappa$ because $h_B^{k_A}~(mod~p) = (a^{k_B})^{k_A}~(mod~p) = a^{k_A k_B}~(mod~p) = (a^{k_A})^{k_B}~(mod~p) = h_A^{k_B}~(mod~p) $.\n",
    "- A third party that intercepts $h_A$ or $h_B$ cannot construct the secret key $\\kappa$ because they do not have access to $k_B$ or $k_A$ respectively.\n",
    "- Extracting $k_A$ or $k_B$ using the public information $a$, $p$, $h_A$ and $h_B$ is computationally hard as it is equivalent to solving the DLP on $(\\mathbb{Z}_p)^{\\times}$.\n",
    "\n",
    "</details>\n",
    "\n",
    "[79]: #definition-tooltip \"Reference: W.Diffie and M. Hellman,“New directions in cryptography,”IEEE Transactions on Information Theory, vol. 22, no. 6, pp.644–654, Nov. 1976, [link][https://doi.org/10.1109/TIT.1976.1055638)\""
   ]
  },
  {
   "attachments": {},
   "cell_type": "markdown",
   "id": "db0d15cc-ce7a-4d6d-a004-06433a3fbe0b",
   "metadata": {},
   "source": [
    "#### Illustration of the Diffie-Hellman protocol in Python\n",
    "\n",
    "Let's look at a simple example of the DH protocol in Python using small prime numbers:\n",
    "\n",
    "> Note: In this section we will show the math calculations in detail as part of the Python code\n",
    "\n",
    "**Step 1:** Alice and Bob agree on a prime $p$ and a primitive root $a$. Let's choose $p=11, a=7$."
   ]
  },
  {
   "cell_type": "code",
   "execution_count": null,
   "id": "f33776bd-eb5b-4837-8618-e90723814a34",
   "metadata": {},
   "outputs": [],
   "source": [
    "# Step 1: Choose a prime `p` and a primitive root `a`\n",
    "p = 11\n",
    "a = 7\n",
    "\n",
    "print(f\"prime: {p}\")\n",
    "print(f\"primitive root: {a}\")"
   ]
  },
  {
   "attachments": {},
   "cell_type": "markdown",
   "id": "cde6cef8-9e36-4ae5-be60-ee6eeb142509",
   "metadata": {},
   "source": [
    "**Steps 2, 3:** Alice chooses a secret exponent $k_A$ and calculates $h_A = a^{k_A}~(mod~p)$. Similarly, Bob chooses a secret exponent $k_B$ and calculates $h_B = a^{k_B}~(mod~p)$."
   ]
  },
  {
   "cell_type": "code",
   "execution_count": null,
   "id": "87ada662-c219-43fd-b055-a2ca864b1847",
   "metadata": {},
   "outputs": [],
   "source": [
    "k_A = 4  # Alice's private key\n",
    "h_A = (a ** (k_A)) % p  # Alice's public key\n",
    "\n",
    "print(f\"Alice's private key is {k_A} and public key is {h_A}\")\n",
    "\n",
    "k_B = 8  # Bob's private key\n",
    "h_B = (a ** (k_B)) % p  # Bob's public key\n",
    "\n",
    "print(f\"Bob's private key is {k_B} and public key is {h_B}\")"
   ]
  },
  {
   "attachments": {},
   "cell_type": "markdown",
   "id": "ed9ea42d-99a4-4e65-bca8-aa88d5929877",
   "metadata": {},
   "source": [
    "**Step 4:** The two parties broadcast their public keys $h_A$ and $h_B$.\n",
    "\n",
    "**Steps 5, 6:** Each party combines their private key with the other party's public key to create the shared secret key."
   ]
  },
  {
   "cell_type": "code",
   "execution_count": null,
   "id": "03a37936-f41b-4ccf-b53d-cef1339f8391",
   "metadata": {},
   "outputs": [],
   "source": [
    "secret_key_alice = h_B**k_A % p\n",
    "secret_key_bob = h_A**k_B % p\n",
    "assert secret_key_alice == secret_key_bob\n",
    "print(f\"The shared secret key is: {secret_key_bob}\")"
   ]
  },
  {
   "attachments": {},
   "cell_type": "markdown",
   "id": "8ae2614a-a11e-4ef0-836b-6f85034dffa2",
   "metadata": {},
   "source": [
    "Alice and Bob can now use the shared secret key for symmetric encryption."
   ]
  },
  {
   "attachments": {},
   "cell_type": "markdown",
   "id": "cfbe921f-8a38-4d7b-8b86-ac27ad7a6e88",
   "metadata": {},
   "source": [
    "#### Security of Diffie-Hellman key exchange\n",
    "\n",
    "As noted above, the security of DH is predicated on the computational difficulty of solving the DLP with large primes $p$. In typical applications, NIST recommends 2048- or 3072-bit prime integers for DH key exchange, which is considered sufficiently secure against attempts to solve the DLP using classical computers.\n",
    "\n",
    "**Man-in-the-middle (MITM) attacks**: The fact that DH is an interactive scheme where the shared secret depends on combining one party's private key with the other party's public key makes it vulnerable to a so-called *Man-in-the-middle (MITM)* attack.\n",
    "\n",
    "<details>\n",
    "\n",
    "<summary>\n",
    "\n",
    "Mathematical details of DH security and MITM attacks\n",
    "\n",
    "</summary>\n",
    "\n",
    "In this scenario, a third party — say, Eve — intercepts the public keys $h_A, h_B$ during transmission and substitutes her own public key $h_E$ for each of $h_A$ and $h_B$ before forwarding them along to Bob and Alice, respectively.\n",
    "\n",
    "Then, instead of using $h_B$ to create her shared secret, Alice will use $h_E$ while thinking that she is using Bob's public key. Similarly, instead of using $h_A$ to create his shared secret, Bob will use $h_E$ while thinking that he is using Alice's public key.\n",
    "\n",
    "Because $h_E$ was used to create Alice's (Bob's) shared secret, plain text encrypted by Alice (Bob) can be decrypted by Eve.\n",
    "\n",
    "Thus, DH key exchange is typically used in conjunction with a digital signature algorithm to ensure that each party uses an authenticated public key for creating their shared secret.\n",
    "\n",
    "</details>"
   ]
  },
  {
   "attachments": {},
   "cell_type": "markdown",
   "id": "564a029c-18d1-409a-97db-9bfeb7048afd",
   "metadata": {},
   "source": [
    "### The Digital Signature Algorithm (DSA)\n",
    "\n",
    "Even though generic cryptosystems like [RSA][66] provide digital signature functionality, in 1994 NIST adopted a specialized signature scheme based on modular exponentiation and the discrete logarithm problem as the federal standard for digital signatures. This scheme, which came to be known simply as the [*Digital Signature Algorithm*][28] (DSA), involves four distinct phases:\n",
    "\n",
    "\n",
    "[66]: #definition-tooltip \"Reference: RSA(cryptosystem),Wikipedia. Jul. 2023. Accessed: Jul. 10, 2023. [link](https://en.wikipedia.org/w/index.php?title=RSA_(cryptosystem)&oldid=1163962255)\"\n",
    "[28]: #definition-tooltip \"Reference: Digital Signature Algorithm,Wikipedia. Apr. 2023. Accessed:Jun. 20, 2023. [link](https://en.wikipedia.org/w/index.php?title=Digital_Signature_Algorithm&oldid=1148950522)\""
   ]
  },
  {
   "attachments": {},
   "cell_type": "markdown",
   "id": "dbb0cb8d-2f73-450f-adbb-35354219315f",
   "metadata": {},
   "source": [
    "1. **Key generation**:\n",
    "\n",
    "   DSA keys are generated from:\n",
    "     - 2 primes that meet certain rules\n",
    "       -   $p$ - typically 256 bits (we'll call this length $N$)\n",
    "       -   $q$ - typically 3072 bits (we'll call this length $L$)\n",
    "     - A cryptographic hash function that will convert from strings of length $L$ to $N$\n",
    "     - An additional Parameters $g$ (see details below)\n",
    "\n",
    "   From this we choose a random number $x$ as private key, and are able to calculate a public key $y$\n",
    "\n",
    "   <details>\n",
    "\n",
    "   <summary>\n",
    "\n",
    "   Mathematical details of key generation\n",
    "\n",
    "   </summary>\n",
    "\n",
    "   - **Parameter generation:** Mathematically, DSA involves a cyclic subgroup of $(\\mathbb{Z}_p)^{\\times}$ generated by an element $g$ of prime order q < p. The first step in the DSA is therefore to select two primes p, q to set up the necessary mathematical structures.\n",
    "\n",
    "     - Choose an $N$-bit prime $q$.\n",
    "     - Choose an $L$-bit prime $p$ such that $p-1$ is a multiple of $q$. The choice of $p$ specifies the group $(\\mathbb{Z}_p)^{\\times}$\n",
    "     - Pick an integer $1 < h < p-1$ at random and compute $g = h^{(p-1)/q}~mod~p$. If $g=1$ which happens rarely, try another h.\n",
    "     - Verify that $g^q~mod~p = 1$. g is thus a generator of a cyclic subgroup $\\langle g \\rangle$ of $(\\mathbb{Z}_p)^{\\times}$ of prime order q.\n",
    "\n",
    "     The parameters $(q, p, g)$ specify an instance of the algorithm and are public information. Typically, $ N \\sim 256$ and $L \\sim 3072$ in realistic applications.\n",
    "\n",
    "     The protocol also requires a cryptographic hash function $H : \\{0,1\\}^L \\rightarrow \\{0, 1\\}^N$ that maps binary $L$-bit strings to $N$-bit strings, for example, SHA-256.\n",
    "\n",
    "   - **Key-pair generation:** The signer needs to generate a key pair on their end.\n",
    "\n",
    "     - Choose a random secret integer $ x \\in \\{1,2...q-1\\}$. $x$ is the private key.\n",
    "     - Generate $ y = g^{x}~mod~p$. $y$ is the signer's public key.\n",
    "\n",
    "   </details>"
   ]
  },
  {
   "attachments": {},
   "cell_type": "markdown",
   "id": "d444c6cf-bbf6-4c8f-895a-e0d2c481dfb8",
   "metadata": {},
   "source": [
    "2. **Key distribution:**\n",
    "\n",
    "   The following information is shared with anyone who wishes to validate a signature\n",
    "   - The parameters used $(p,q,g)$ which describe the algorithm\n",
    "   - The hash function $H$\n",
    "   - the public key $y$"
   ]
  },
  {
   "attachments": {},
   "cell_type": "markdown",
   "id": "0cca51b2-b84f-4264-bcec-d108ddffe5da",
   "metadata": {},
   "source": [
    "1. **Signing:**\n",
    "\n",
    "   - The signer can now sign a message $m$. The resulting signature is $(r,s)$\n",
    "   - The message and signature are both now sent to the recipient\n",
    "\n",
    "   <details>\n",
    "\n",
    "   <summary>\n",
    "\n",
    "   Mathematical details of signing a message\n",
    "\n",
    "   </summary>\n",
    "\n",
    "   The signer signs a message $m$ as follows:\n",
    "\n",
    "   - Choose a secret integer k at random from $\\{1,2...q-1\\}$\n",
    "   - Compute $r = (g^k~mod~p)~mod~q$. In the rare instance when $r=0$, try another random k.\n",
    "   - Compute $s = (k^{-1} (H(m) + xr))~mod~q$. In a rare instances if $s=0$, try another random k.\n",
    "   - The signature is the tuple $(r, s)$.\n",
    "   - The signer transmits the message $m$ as well as the signature $(r,s)$ to the verifier.\n",
    "\n",
    "   Because both $r, s$ are integers, modulo $q$ the signature size is on the order of $N$-bits and not the longer $L$-bits.\n",
    "\n",
    "   </details>"
   ]
  },
  {
   "attachments": {},
   "cell_type": "markdown",
   "id": "66ba7b24-c392-444c-b5a4-033a9493837e",
   "metadata": {},
   "source": [
    "2. **Verification:**\n",
    "\n",
    "   The recipient now wishes to verify the authenticity of the sender.\n",
    "   They have access to the public information $(q, p, g, H, y, (r,s), m)$\n",
    "   They can execute a calculation which proves that the sender had access to the private key $x$\n",
    "\n",
    "   and seeks to ascertain that the signer is someone with access to the private key $x$.\n",
    "\n",
    "   <details>\n",
    "\n",
    "   <summary>\n",
    "\n",
    "   Mathematical details of DSA verification scheme\n",
    "\n",
    "   </summary>\n",
    "\n",
    "   - Verify that $0 \\lt r \\lt q$ and $0 \\lt s \\lt q$, i.e., $r, s$ are valid modulo~q integers.\n",
    "   - Compute $w = s^{-1}~mod~q$.\n",
    "   - Compute $u_1 = H(m)w~mod~q$.\n",
    "   - Compute $u_2 = rw~mod~q$.\n",
    "   - Compute $v = (g^{u_1}y^{u_2}~mod~p)~mod~q$.\n",
    "   - The signature is verified if $v = r$.\n",
    "\n",
    "   For legitimate signatures, the correctness of the DSA algorithm is easily demonstrated as follows:\n",
    "\n",
    "   - On the signer's end: $s = (k^{-1} (H(m) + xr))~mod~q \\implies k = ((H(m) + xr)s^{-1})~mod~q $\n",
    "   - Considering the right-hand side of the latter equality, a verifier can compute $s^{-1}, H(m)$ because $s, q, m, H$ are public information.\n",
    "   - Thus, the verifier computes $w = s^{-1}~mod~q$ and $u_1 = H(m)w~mod~q = H(m)s^{-1}~mod~q$.\n",
    "   - The verifier also computes $u_2 = rw~mod~q = rs^{-1}~mod~q$ as $r$ is also public.\n",
    "   - Note that $k = (u_1 + xu_2)~mod~q$.\n",
    "   - However, a verifier does not have access to $x$ as it is the signer's private key, so $k$ itself cannot be directly computed.  - The scheme instead relies on the fact that even as the verifier cannot compute $k$, with a legitimate signer, the verifier should instead be able to re-compute $(g^k~mod~p)~mod~q = r$ with the help of the signer's public key $y = g^{x}~mod~p$.\n",
    "   - So, the verifier computes $v = (g^{u_1}y^{u_2}~mod~p)~mod~q = (g^{u_1}g^{xu_2}~mod~p)mod~q = (g^{u_1+xu_2}~mod~p)mod~q = (g^k~mod~p)mod~q$.\n",
    "   - The last equality follows because $g$ has order $q$ and establishes $v = r$ for valid signatures.\n",
    "\n",
    "   </details>"
   ]
  },
  {
   "attachments": {},
   "cell_type": "markdown",
   "id": "5a8da1e0-53d1-4f3e-ad50-57b9da6eeb4d",
   "metadata": {},
   "source": [
    "### Illustration of the DSA in Python"
   ]
  },
  {
   "attachments": {},
   "cell_type": "markdown",
   "id": "55086196-8a33-4ffd-b9c1-50c96ec31bcd",
   "metadata": {},
   "source": [
    "In this example, we'll use small primes to illustrate the DSA process in a scenario where Alice sends a signed message to Bob. We'll use small integers in this example. A real-world scenario would employ much larger primes on the order of 2048-3072 bits.\n",
    "\n",
    "> You can try rerunning this example with different values to see how the algorithm behaves, but ensure you start running from the first cell in this section.\n",
    "\n",
    "We start by importing necessary libraries and choosing our parameters."
   ]
  },
  {
   "cell_type": "markdown",
   "id": "0e4238f9-a042-41a9-9193-8d64bbd8ec72",
   "metadata": {},
   "source": [
    "The integer parameters $p$, $q$, $g$ are public information, and satisfy the following rules:\n",
    "\n",
    "- $p$, $q$ are both prime\n",
    "- $(p-1) \\mod\\ q = 0$\n",
    "- $g \\ge 2$\n",
    "- $g \\le (p-2)$\n",
    "- $g^{(p-1)/q} \\mod\\ p \\neq 1$"
   ]
  },
  {
   "cell_type": "code",
   "execution_count": null,
   "id": "f2c802d0-1f1e-4734-bf7c-a7988c6315dc",
   "metadata": {},
   "outputs": [],
   "source": [
    "from random import randint\n",
    "\n",
    "# parameter generation: select the primes q, p and generator g:\n",
    "# EXPERIMENT with the values, they must meet certain rules\n",
    "# this example code does not verify p,q are prime\n",
    "\n",
    "q = 11\n",
    "p = 23\n",
    "g = 4\n",
    "\n",
    "assert (p - 1) % q == 0\n",
    "assert g >= 2\n",
    "assert g <= (p - 2)\n",
    "assert (pow(g, (p - 1) / q) % p) != 1\n",
    "\n",
    "print(f\"Public information is good: q={p}, p={q}, g={g}\")"
   ]
  },
  {
   "attachments": {},
   "cell_type": "markdown",
   "id": "5bf3ba9b-c44f-4fdf-b242-367fcdc8d9bd",
   "metadata": {},
   "source": [
    "Next the signer, Alice, generates her private key.\n",
    "\n",
    "The private key, k (`alice-private-key` in the python code) must satisfy:\n",
    " - $k \\ge 2$\n",
    " - $k \\le (q-1)$"
   ]
  },
  {
   "cell_type": "code",
   "execution_count": null,
   "id": "859a781e-6fc2-4fdd-a930-4b609a470b53",
   "metadata": {},
   "outputs": [],
   "source": [
    "# Alice chooses an integer randomly from {2..q-1}\n",
    "# EXPERIMENT with the values\n",
    "\n",
    "alice_private_key = randint(2, q - 1)\n",
    "# alice_private_key =\n",
    "\n",
    "assert alice_private_key >= 2\n",
    "assert alice_private_key <= (q - 1)\n",
    "\n",
    "print(f\"Alice's private key is {alice_private_key}\")"
   ]
  },
  {
   "attachments": {},
   "cell_type": "markdown",
   "id": "9a559220-5e13-4f62-a19f-1ad5b7e65da3",
   "metadata": {},
   "source": [
    "Alice keeps her private key secret.\n",
    "\n",
    "Next, Alice computes her public key using modular exponentiation. Inverting this step to recover the private key is an instance of the DLP, so difficult to compute on classical computers where large primes are used.\n",
    "\n",
    "From the math explanation above, we know is this can be calculated using the formula:\n",
    "\n",
    "$y = g^{x} \\mod\\ p$"
   ]
  },
  {
   "cell_type": "code",
   "execution_count": null,
   "id": "54d4d2e2-6000-4d96-bb67-b6faa4194f54",
   "metadata": {},
   "outputs": [],
   "source": [
    "alice_public_key = pow(g, alice_private_key, p)\n",
    "# Alternatively can use (g ** alice_private_key) % p\n",
    "\n",
    "print(f\"Alice's public key is {alice_public_key}\")"
   ]
  },
  {
   "attachments": {},
   "cell_type": "markdown",
   "id": "eca29da8-6a70-4867-8479-357e9a8f7f17",
   "metadata": {},
   "source": [
    "As usual, Alice makes her public key available over a not-necessarily secret channel.\n",
    "\n",
    "Now Alice can sign a message.\n",
    "\n",
    "For the digital signature scheme, we need to generate a hash $H(m)$ of the message $m$ to be signed.\n",
    "\n",
    "Let's assume Alice and Bob agree to use a particular hashing algorithm with hash length $N$ equal to the number of bits in $q$. In this simple example, we will bound the outputs of our mock hash function by $q$. The hash function here is trivial, simply generating a random integer."
   ]
  },
  {
   "cell_type": "code",
   "execution_count": null,
   "id": "3a88329c-3ff5-4eac-9b12-22684ebe23c6",
   "metadata": {},
   "outputs": [],
   "source": [
    "hash_dict = {}\n",
    "\n",
    "\n",
    "def mock_hash_func(input_message):\n",
    "    print(input_message)\n",
    "    if input_message not in hash_dict:\n",
    "        hash_dict[input_message] = randint(1, q)\n",
    "    return hash_dict[input_message]\n",
    "\n",
    "\n",
    "alice_message = \"Inspection tomorrow!\"\n",
    "alice_hash = mock_hash_func(alice_message)  # In reality, you'd use a hash function\n",
    "print(f\"Alice's message hash is: {alice_hash}\")"
   ]
  },
  {
   "attachments": {},
   "cell_type": "markdown",
   "id": "3e1b0457-4fc2-4b4f-a5bb-ff57222bdd5d",
   "metadata": {},
   "source": [
    "Next, Alice needs to generate a random per-message secret number $k$ as well as its multiplicative inverse modulo $q$ to compute the signature.\n",
    "\n",
    "A simple brute-force algorithm can be used to compute the modular inverse. However it's better to use one of the built-in Python function `pow` as shown below"
   ]
  },
  {
   "cell_type": "code",
   "execution_count": null,
   "id": "80110083-b511-4290-84ee-00d52ab9497c",
   "metadata": {},
   "outputs": [],
   "source": [
    "# brute-force implementation to find modular inverse\n",
    "def modular_inverse(k, q):\n",
    "    for i in range(0, q):\n",
    "        if (k * i) % q == 1:\n",
    "            return i\n",
    "    print(f\"error! no inverse found! for {k},{q}\")\n",
    "    return 0\n",
    "\n",
    "\n",
    "# Let's compare this algorithm with the standard python 'pow' function\n",
    "\n",
    "n1 = modular_inverse(3, 7)\n",
    "n2 = modular_inverse(4, 11)\n",
    "n3 = modular_inverse(7, 5)\n",
    "m1 = pow(3, -1, 7)\n",
    "m2 = pow(4, -1, 11)\n",
    "m3 = pow(7, -1, 5)\n",
    "\n",
    "assert n1 == m1\n",
    "assert n2 == m2\n",
    "# assert(n3==m3)\n",
    "\n",
    "print(f\"modular_inverse(3,7) = {m1}\")\n",
    "print(f\"modular_inverse(4,11) = {m2}\")\n",
    "print(f\"modular_inverse(7,5) = {m3}\")\n",
    "\n",
    "\n",
    "# Some numbers don't have modular inverses - our function throws an error\n",
    "n4 = modular_inverse(2, 6)\n",
    "\n",
    "# The python library will throw an exception, which must be caught\n",
    "if math.gcd(2, 6) == 1:\n",
    "    m4 = pow(2, -1, 6)\n",
    "else:\n",
    "    print(\"Exception from pow() - no modular inverse found!\")"
   ]
  },
  {
   "cell_type": "markdown",
   "id": "8b2d066e-a3f0-4813-8611-0d3b4dd2b736",
   "metadata": {},
   "source": [
    "Alice can now compute the signature.\n",
    "\n",
    "- $r = (g^{k} \\mod p) \\mod\\ q$\n",
    "- $s = (k^{-1} (H(m) + xr)) \\mod q$\n",
    "\n",
    "Note that there are some particular conditions that will require us to choose a different value for $k$ in the case where either $r$ or $s$ compute to $0$. In this case we will generate a new value and repeat."
   ]
  },
  {
   "cell_type": "code",
   "execution_count": null,
   "id": "92a4a9e5-ffc4-4181-9e64-b93506be1550",
   "metadata": {},
   "outputs": [],
   "source": [
    "# Start an infinite loop; we will 'break' out of it once a valid signature is found.\n",
    "while True:\n",
    "    k = randint(1, q - 1)  # Should be different for every message\n",
    "    print(\"Using random k =\", k)\n",
    "\n",
    "    r = pow(g, k, p) % q\n",
    "    # If r is 0, the value is invalid. Try again with a new k.\n",
    "    if r == 0:\n",
    "        print(f\"{k} is not a good random value to use to calculate r. Trying another k\")\n",
    "        continue\n",
    "\n",
    "    s = (pow(k, -1, q) * (alice_hash + alice_private_key * r)) % q\n",
    "    # If s is 0, the value is also invalid. Try again with a new k.\n",
    "    if s == 0:\n",
    "        print(f\"{k} is not a good random value to use to calculate s. Trying another k\")\n",
    "        continue\n",
    "\n",
    "    # If we've reached this point, both r and s are valid. Break the loop.\n",
    "    signature = (r, s)\n",
    "    print(f\"Alice's signature is : {(r,s)}\")\n",
    "    break\n",
    "\n",
    "# After the loop, the valid r and s values can be used here.\n",
    "# print(f\"Generated Signature -> r: {r}, s: {s}\")"
   ]
  },
  {
   "attachments": {},
   "cell_type": "markdown",
   "id": "815a17be-ac5b-4083-badf-0a21e9100b11",
   "metadata": {},
   "source": [
    "Alice broadcasts the message and her signature to the receiver or verifier, Bob.\n",
    "\n",
    "Bob has previously intercepted Alice's public key and can now verify the signature to authenticate her message.\n",
    "\n",
    "To do so, he performs some checks, and then re-generates a hash of Alice's broadcast message and computes the auxiliary quantities $w, u_1, u_2$ and $v$.\n",
    "- $0 < r < q$\n",
    "- $0 < s < q$\n",
    "- $w = s^{-1} \\mod\\ q$\n",
    "- $u_{1} = H(m) . w \\mod\\ q$\n",
    "- $u_{2} = r . w \\mod\\ q$\n",
    "- $v = (g^{u1}y^{u2} \\mod\\ p) \\mod\\ q$\n",
    "\n",
    "\n",
    "Finally, Bob checks if $v$ equals $r$. If they are equal, then the signature is verified."
   ]
  },
  {
   "cell_type": "code",
   "execution_count": null,
   "id": "25d6d3e7-0a2c-485f-8fee-44cf06180d32",
   "metadata": {},
   "outputs": [],
   "source": [
    "# Bob re-generates message hash using Alice's broadcast message\n",
    "bob_hash = mock_hash_func(alice_message)\n",
    "\n",
    "# Bob computes auxiliary quantities w (using modular inverse), u1, u2 and v\n",
    "w = (pow(s, -1, q)) % q\n",
    "u1 = (bob_hash * w) % q\n",
    "u2 = (r * w) % q\n",
    "v = ((g**u1 * alice_public_key**u2) % p) % q\n",
    "\n",
    "if v == r:\n",
    "    print(\"Signature is valid!\")\n",
    "else:\n",
    "    print(\"Signature is invalid!\")"
   ]
  },
  {
   "attachments": {},
   "cell_type": "markdown",
   "id": "0e5c9e31-9178-4368-8012-89d47ab23f08",
   "metadata": {},
   "source": [
    "### Security of the DSA\n",
    "\n",
    "With classical computing, the security of the DSA can be influenced by several factors:\n",
    "\n",
    "1. **Key size**: As always, key size provides basic protection against brute force attacks. Modern applications that use DSA use key sizes of at least 2048 bits.\n",
    "\n",
    "2. **Quality of $k$**: In DSA, each signature needs a unique, random, and secret $k$ value (see above). The uniqueness, entropy, and secrecy of $k$ are critical, and weakness in any of these aspects could lead to the private key $x$ being compromised. The random number generators used for generating $k$ need to be secure themselves.\n",
    "\n",
    "3. **Hash function strength**: Since DSA uses a hash function as part of the signature generation and verification process, a weak hash function could compromise the security of the digital signature. For example, the use of SHA-1 with DSA is deprecated and SHA-2 or higher is recommended.\n",
    "\n",
    "In addition to these, robust DSA implementation should also guard against other types of attacks that target asymmetric key cryptography as previously outlined."
   ]
  },
  {
   "attachments": {},
   "cell_type": "markdown",
   "id": "39fea831-2457-4bcc-8554-04126b82bc7d",
   "metadata": {},
   "source": [
    "### Authenticated key exchange with Diffie-Hellman and DSA\n",
    "\n",
    "Modern network security protocols, such as [Transport Layer Security (TLS)][127] and many others, involve combining the functionalities of key exchange and authentication. In the context of Diffie-Hellman, authentication is needed to guard against MITM attacks. In the following code cells, we illustrate an example where Alice and Bob perform an authenticated key exchange by combining the Diffie-Hellman and DSA protocols. For this, we will use the `cryptography` Python library.\n",
    "\n",
    "![Figure 2. Authenticated key exchange with Diffie-Hellman and DSA](/learning/images/courses/quantum-safe-cryptography/asymmetric-key-cryptography/auth_key_exchange.avif)\n",
    "\n",
    "*Figure 2. Authenticated key exchange with Diffie-Hellman and DSA*\n",
    "\n",
    "[127]: #definition-tooltip \"Reference: “Transport Layer Security,”Wikipedia. May 2023. Accessed:May 18, 2023. [link](https://en.wikipedia.org/w/index.php?title=Transport_Layer_Security&oldid=1155601531)\""
   ]
  },
  {
   "attachments": {},
   "cell_type": "markdown",
   "id": "475aaca8-fb3b-464f-810a-546c110aa84c",
   "metadata": {},
   "source": [
    "First, Alice and Bob agree on a set of DH parameters and generate a set of DH public-private key pairs."
   ]
  },
  {
   "cell_type": "code",
   "execution_count": null,
   "id": "9d643a66-1ccb-4a7a-a9dd-de9399840335",
   "metadata": {},
   "outputs": [],
   "source": [
    "# import necessary library modules\n",
    "from cryptography.hazmat.primitives import hashes\n",
    "from cryptography.hazmat.primitives.asymmetric import dh, dsa\n",
    "\n",
    "# Generate DH parameters\n",
    "parameters = dh.generate_parameters(generator=2, key_size=2048)\n",
    "\n",
    "# Generate Alice's DH private key and public key\n",
    "alice_dh_private_key = parameters.generate_private_key()\n",
    "alice_dh_public_key = alice_dh_private_key.public_key()\n",
    "\n",
    "# Generate Bob's DH private key and public key\n",
    "bob_dh_private_key = parameters.generate_private_key()\n",
    "bob_dh_public_key = bob_dh_private_key.public_key()\n",
    "\n",
    "print(\"Public and private keys generated for Bob and Alice\")"
   ]
  },
  {
   "attachments": {},
   "cell_type": "markdown",
   "id": "a2264943-3391-4ced-8923-5cac3311eb27",
   "metadata": {},
   "source": [
    "The DH public keys are broadcast. Next, both Alice and Bob each generate a separate key pair for use with DSA. These keys will in turn be used to sign the DH public keys to be exchanged."
   ]
  },
  {
   "cell_type": "code",
   "execution_count": null,
   "id": "f2d37eac-3002-49ed-bc41-2fc008ad27f9",
   "metadata": {},
   "outputs": [],
   "source": [
    "# Generate DSA keys for Alice and Bob\n",
    "alice_dsa_private_key = dsa.generate_private_key(key_size=2048)\n",
    "alice_dsa_public_key = alice_dsa_private_key.public_key()\n",
    "bob_dsa_private_key = dsa.generate_private_key(key_size=2048)\n",
    "bob_dsa_public_key = bob_dsa_private_key.public_key()\n",
    "\n",
    "print(\"Additional key pair generated for signing\")"
   ]
  },
  {
   "attachments": {},
   "cell_type": "markdown",
   "id": "5724b61c-ba51-4a95-a0f1-4066e6b5a333",
   "metadata": {},
   "source": [
    "Alice signs her DH public key using her DSA private key."
   ]
  },
  {
   "cell_type": "code",
   "execution_count": null,
   "id": "9a63ad05-4963-4da8-93b8-ca2e3c9bcd54",
   "metadata": {},
   "outputs": [],
   "source": [
    "# Alice signs\n",
    "alice_public_bytes = alice_dh_public_key.public_bytes(\n",
    "    encoding=serialization.Encoding.PEM,\n",
    "    format=serialization.PublicFormat.SubjectPublicKeyInfo,\n",
    ")\n",
    "alice_signature = alice_dsa_private_key.sign(alice_public_bytes, hashes.SHA256())\n",
    "\n",
    "print(\"Alice signed public key\")"
   ]
  },
  {
   "attachments": {},
   "cell_type": "markdown",
   "id": "a9c66464-e8e1-4327-833e-39a83e01b0d2",
   "metadata": {},
   "source": [
    "Similarly, Bob signs his DH public key using his DSA private key."
   ]
  },
  {
   "cell_type": "code",
   "execution_count": null,
   "id": "5fa7c787-2f6e-4fb5-b95f-21683d71f12f",
   "metadata": {},
   "outputs": [],
   "source": [
    "bob_public_bytes = bob_dh_public_key.public_bytes(\n",
    "    encoding=serialization.Encoding.PEM,\n",
    "    format=serialization.PublicFormat.SubjectPublicKeyInfo,\n",
    ")\n",
    "bob_signature = bob_dsa_private_key.sign(bob_public_bytes, hashes.SHA256())\n",
    "\n",
    "print(\"Bob signed public key\")"
   ]
  },
  {
   "attachments": {},
   "cell_type": "markdown",
   "id": "f7e9bf35-aa76-4d33-bb73-95649b5c46bf",
   "metadata": {},
   "source": [
    "The DH public keys and corresponding signatures are now broadcast by both Alice and Bob. Having received their counterparty's public key and signature, each party then verifies the signature is valid. This way, a MITM attack can be prevented, as Alice, for instance, knows that Bob's DH public key was indeed signed by Bob and vice versa."
   ]
  },
  {
   "cell_type": "code",
   "execution_count": null,
   "id": "71d668ec-a4c6-4e28-a498-699c514250bd",
   "metadata": {},
   "outputs": [],
   "source": [
    "# Alice and Bob verify each other's DH public keys using DSA public keys\n",
    "# An InvalidSignature exception will occur if they are not valid\n",
    "alice_dsa_public_key.verify(alice_signature, alice_public_bytes, hashes.SHA256())\n",
    "bob_dsa_public_key.verify(bob_signature, bob_public_bytes, hashes.SHA256())\n",
    "\n",
    "print(\"Signatures are valid\")"
   ]
  },
  {
   "attachments": {},
   "cell_type": "markdown",
   "id": "90ea2311-b98e-479f-a361-7cabca27cf89",
   "metadata": {},
   "source": [
    "Following signature verification, Alice and Bob generate the shared secret, which completes the key exchange."
   ]
  },
  {
   "cell_type": "code",
   "execution_count": null,
   "id": "718b2f03-4eac-4696-84ea-01d825a68d33",
   "metadata": {},
   "outputs": [],
   "source": [
    "# Perform key exchange\n",
    "alice_shared_key = alice_dh_private_key.exchange(bob_dh_public_key)\n",
    "bob_shared_key = bob_dh_private_key.exchange(alice_dh_public_key)\n",
    "\n",
    "print(\"Shared secrets generated\")"
   ]
  },
  {
   "attachments": {},
   "cell_type": "markdown",
   "id": "a1dc9eed-618d-472a-b052-2fcd6ae7fccb",
   "metadata": {},
   "source": [
    "Optionally, for additional security, Alice and Bob can use a specialized key derivation function such as *HKDF* to generate a more secure symmetric key from their shared secret using *key stretching* techniques."
   ]
  },
  {
   "cell_type": "code",
   "execution_count": null,
   "id": "be6cdae2-908f-4547-a406-f1dabee6c512",
   "metadata": {},
   "outputs": [],
   "source": [
    "# Derive a shared symmetric key using key-stretching\n",
    "def derive_key(shared_key):\n",
    "    return HKDF(\n",
    "        algorithm=hashes.SHA256(),\n",
    "        length=32,\n",
    "        salt=None,\n",
    "        info=None,\n",
    "    ).derive(shared_key)\n",
    "\n",
    "\n",
    "alice_symmetric_key = derive_key(alice_shared_key)\n",
    "bob_symmetric_key = derive_key(bob_shared_key)\n",
    "\n",
    "assert alice_symmetric_key == bob_symmetric_key\n",
    "print(\"Keys checked to be the same\")"
   ]
  },
  {
   "attachments": {},
   "cell_type": "markdown",
   "id": "5f8cf910-32e2-4c03-8027-c1e79ba5ecf9",
   "metadata": {},
   "source": [
    "## Breaking Diffie-Hellman and DSA\n",
    "\n",
    "Both the [Diffie-Hellman][62] (DH) and [DSA][28] protocols involve the generation of public keys of the form $ y = g^{x}~mod~p$, where the private key $x$ is the discrete logarithm.\n",
    "\n",
    "An attacker who can solve an instance of the DLP can expose the private key of one of the two parties and, by combining it with the public key of the second party, get access to the shared secret. In the case of DSA, an attacker who can solve the DLP can recover the signer's private key, voiding the basic premise of a digital signature.\n",
    "\n",
    "On classical computing systems, the DLP is believed not to have a polynomial-time solution. But as shown by Peter Shor in his [original 1994 paper][6], Shor's algorithm also solves the DLP in polynomial-time on quantum computers.\n",
    "\n",
    "[62]: #definition-tooltip \"Reference: Diffie–Hellman key exchange,Wikipedia. Jul. 2023. Accessed: Jul. 10,2023. [link](https://en.wikipedia.org/w/index.php?title=Diffie%E2%80%93Hellman_key_exchange&oldid=1163912552)\"\n",
    "[28]: #definition-tooltip \"Reference: Digital Signature Algorithm,Wikipedia. Apr. 2023. Accessed:Jun. 20, 2023. [link](https://en.wikipedia.org/w/index.php?title=Digital_Signature_Algorithm&oldid=1148950522)\"\n",
    "[6]: #definition-tooltip \"Reference: P.W. Shor,“Algorithms for quantum computation: Discrete logarithms and factoring,”in Proceedings 35th Annual Symposium on Foundations of Computer Science, Nov. 1994, pp. 124–134. [link](https://doi.org/10.1109/SFCS.1994.365700).\""
   ]
  },
  {
   "attachments": {},
   "cell_type": "markdown",
   "id": "cf506d41-c8f1-4dab-bdf0-a993c81b9459",
   "metadata": {},
   "source": [
    "### Shor's algorithm and the discrete logarithm problem\n",
    "\n",
    "Shor's algorithm is able to solve the discrete logarithm problem in polynomial time. It primarily achieves its efficiency by using quantum algorithms which can find the period of a function which depends on the input to the problem - which is then combined with more conventional operations.\n",
    "\n",
    "<details>\n",
    "\n",
    "<summary>\n",
    "\n",
    "Mathematical details of Shor's algorithm\n",
    "\n",
    "</summary>\n",
    "\n",
    "Shor's algorithm provides an efficient solution to the DLP by mapping it to a more general problem in group theory known as the [hidden subgroup problem][80] (HSP).\n",
    "\n",
    "In the HSP, one is given an algebraic group $G$ and a function $f: G \\rightarrow X$  from $G$ to some set $X$ such that $f$ is constant on each coset of some subgroup $H$ of $G$ (and distinct on different cosets). Then, the task is to determine $H$. It is known that quantum computers can solve the HSP on finite Abelian groups in time polynomial in $log~|G|$ where $|G|$ is the group order.\n",
    "\n",
    "In the case of the integer DLP discussed in this lesson, the mapping to the HSP is as follows:\n",
    "\n",
    "- Let $p$ be a prime and consider the DLP given by $ y = g^r~mod~p$ where $g$ is a generator of $(\\mathbb{Z}_p)^{\\times}$. Since $g^{p-1} \\equiv 1~mod~p$, $g$ has order $p-1$.\n",
    "- Choose $G = \\mathbb{Z}_{p-1} \\times \\mathbb{Z}_{p-1}$ where $\\mathbb{Z}_{p-1}$ is the group of integers modulo $(p-1)$.\n",
    "- Choose $f : G \\rightarrow (\\mathbb{Z}_p)^{\\times}$ given as $f(a, b) = g^a y^{-b}~mod~p \\equiv g^{a-rb}~mod~p$ .\n",
    "- The kernel of $f$ is then the subgroup $H_0 = \\langle (r, 1) \\rangle = \\{(a,b) \\in G | f(a,b) \\equiv 1~mod~p\\} = \\{ (a, b) \\in G | a - rb \\equiv 0~mod~(p-1)\\}$.\n",
    "- $f$ is constant on the cosets $(\\delta, 0) + H_0$ and \"hides\" the subgroup $H_0$ setting up an HSP.\n",
    "\n",
    "Given the above, Shor's quantum algorithm for the integer DLP uses a quantum oracle to evaluate the function $f$ on a state representing a uniform superposition over $G$, and then uses the [quantum Fourier transform][qft] and measurements with [phase estimation][qpe] to produce quantum states that allow for the identification of the generator $(r, 1)$ of $H_0$. From this, $r$, the discrete logarithm of interest, can be extracted.\n",
    "\n",
    "</details>\n",
    "\n",
    "[Shor's original paper][6] has a detailed description of the algorithm.\n",
    "\n",
    "[qft]: #definition-tooltip \"A quantum algorithm that can be used to find periodic patterns. Named after the fourier transform in classical physics which can split a signal into a set of sine waves.\"\n",
    "[qpe]: #definition-tooltip \"A quantum algorithm used to estimate phase in qubits, named after phase estimation in classical physics.\"\n",
    "[6]: #definition-tooltip \"Reference: P.W. Shor,“Algorithms for quantum computation: Discrete logarithms and factoring,”in Proceedings 35th Annual Symposium on Foundations of Computer Science, Nov. 1994, pp. 124–134. [link](https://doi.org/10.1109/SFCS.1994.365700).\"\n",
    "[80]: #definition-tooltip \"Reference: “Hidden subgroup problem,”Wikipedia. May 2023. Accessed: Jul. 12, 2023. [link](https://en.wikipedia.org/w/index.php?title=Hidden_subgroup_problem)\""
   ]
  },
  {
   "attachments": {},
   "cell_type": "markdown",
   "id": "b3b62d77-2c58-4f39-aa50-97d519a18434",
   "metadata": {},
   "source": [
    "## Elliptic curve cryptography\n",
    "\n",
    "[*Elliptic curve cryptography (ECC)*][33], based on the mathematics of [*elliptic curves*][82], offers a powerful approach to asymmetric key cryptography. ECC is known to provide a similar level of security as methods such as RSA but with shorter keys, making it more efficient and particularly well suited to systems with limited resources, such as embedded systems and mobile devices, where the [storage and computational savings of smaller key sizes are highly desirable][65].\n",
    "\n",
    "[33]: #definition-tooltip \"Reference: Elliptic-curve cryptography,Wikipedia. Jun. 2023. Accessed: Jun. 20, 2023. [link](https://en.wikipedia.org/w/index.php?title=Elliptic-curve_cryptography&oldid=1160709993)\"\n",
    "[65]: #definition-tooltip \"Reference: C.A. Lara-Nino, A. Diaz-Perez, and M. Morales-Sandoval,“Elliptic Curve Lightweight Cryptography: A Survey,”IEEE Access, vol.6, pp. 72514–72550, 2018, [link](https://doi.org/10.1109/ACCESS.2018.2881444)\"\n",
    "[82]: #definition-tooltip \"Reference: “Elliptic curve,”Wikipedia. Jul. 2023. Accessed: Jul. 12, 2023. [link](https://en.wikipedia.org/w/index.php?title=Elliptic_curve&oldid=1164567664)\""
   ]
  },
  {
   "attachments": {},
   "cell_type": "markdown",
   "id": "a8e5646b-9459-4086-a566-322bac53fa63",
   "metadata": {},
   "source": [
    "### Basic principles of elliptic curve cryptography\n",
    "\n",
    "An elliptic curve is typically of the form $y^2 = x^3 + ax + b$ with a few interesting properties.\n",
    "* It is horizontally symmetric. So for any point $(x,y)$ on the curve, it's reflection $(x,-y)$ is also on the curve\n",
    "* Any non-vertical strain line will only intersect the curve at a maximum of three points\n",
    "\n",
    "![Figure 1. Operations of addition and point doubling on an elliptic curve. Facet 1 defines <b>P + Q = -R</b>. Facet 2 illustrates point doubling <b>2Q = -P</b>. Facet 3 defines the additive inverse of a point as its reflection about the x-axis i.e, <b>P = -Q</b> ](/learning/images/courses/quantum-safe-cryptography/asymmetric-key-cryptography/ECCfig.avif)\n",
    "\n",
    "*Figure 1. Operations of addition and point doubling on an elliptic curve. Facet 1 defines <b>P + Q = -R</b>. Facet 2 illustrates point doubling <b>2Q = -P</b>. Facet 3 defines the additive inverse of a point as its reflection about the x-axis i.e, <b>P = -Q</b>*\n",
    "\n",
    "Elliptic curve cryptography makes use of applying a series of arithmetic operations to points on the curve. Each effectively navigates to a new point on the curve. This is a simple process to follow in one direction, and with shorter key sizes is more efficient than other algorithms like RSA, but trying to reverse this is very difficult, hence its application to cryptography.\n",
    "\n",
    "<details>\n",
    "\n",
    "<summary>\n",
    "\n",
    "Mathematical principles of elliptic curve cryptography\n",
    "\n",
    "</summary>\n",
    "\n",
    "An [elliptic curve][82] over an algebraic field $K$ is defined by a mathematical equation, typically in the form $y^2 = x^3 + ax + b$ with the coefficients $a, b \\in K$ and describes points $(x, y) \\in K \\otimes K$ with the additional requirement that the curve have no kinks or self-intersections.\n",
    "\n",
    "\n",
    "The properties of elliptic curves allow for operations of \"addition\" and \"scalar multiplication\" to be defined involving points on the curve.\n",
    "\n",
    "\n",
    "**Addition**: If $P$ and $Q$ are two points on an elliptic curve, then $P + Q$ describes a unique third point identified as follows: Draw the line that intersects $P$ and $Q$ and find the third point, $R$, at which the line intersects the curve again. We then define $P + Q =  −R$, the point opposite $R$ reflected through the $x$-axis (see figure below) . When the line through $P, Q$ does not intersect the curve at any finite $(x, y)$, we say it intersects the curve at the point at infinity $\\mathbf{O}$.\n",
    "\n",
    "\n",
    "Elliptic curve addition satisfies algebraic **group** properties with the point at infinity as the additive identity.\n",
    "\n",
    "\n",
    "**Doubling and scalar multiplication:** The operation of point doubling which corresponds to scalar multiplication by $2$ is obtained by setting $P = Q$ in the addition operation and graphically involves the tangent line at $P$. General scalar multiplication by an integer $n$ defined as $nP =  P + P + ...~n$ times is obtained by repeated doubling and addition.\n",
    "\n",
    "</details>\n",
    "\n",
    "[82]: #definition-tooltip \"Reference: “Elliptic curve,”Wikipedia. Jul. 2023. Accessed: Jul. 12, 2023. [link](https://en.wikipedia.org/w/index.php?title=Elliptic_curve&oldid=1164567664)\""
   ]
  },
  {
   "attachments": {},
   "cell_type": "markdown",
   "id": "16b3b894-1119-452e-8f35-2a448282c24b",
   "metadata": {},
   "source": [
    "### Elliptic curve discrete logarithm problem\n",
    "\n",
    "The elliptic curve discrete logarithm problem (ECDLP) has many similarities to the discrete logarithm problem discussed previously, being based around the challenges of finding factors.\n",
    "\n",
    "The operation of [scalar multiplication on elliptic curves][34] allows for the definition of the [elliptic curve discrete logarithm problem][33]:\n",
    "\n",
    "Given points $P, Q$ on an elliptic curve such that $Q = nP$, determine $n$.\n",
    "\n",
    "This problem is known to be intractable on classical computers for large $n$ and provides a basis for cryptographic security.\n",
    "\n",
    "<details>\n",
    "\n",
    "<summary>\n",
    "\n",
    "Mathematical description of ECDLP\n",
    "\n",
    "</summary>\n",
    "\n",
    "Elliptic curve cryptography is primarily based on the ECDLP formulated on certain algebraic **finite fields**. In 1999, NIST recommended ten finite fields for use in ECC. These are:\n",
    "\n",
    " - Five **prime fields** $\\mathbb {F} _{p}$ for primes $p$ of size $\\{192, 224, 256, 384, 521\\}$ bits.\n",
    " - Five **binary fields** $\\mathbb {F} _{2^{n}}$ for $n \\in \\{163, 233, 283, 409, 571\\}$.\n",
    "\n",
    "With the above setup, an ECC-based asymmetric key cryptosystem in the case of **prime fields** may be specified as follows:\n",
    "\n",
    "- Choose a $p$ from the NIST-recommended list of values to specify $\\mathbb {F} _{p}$.\n",
    "- Select parameters $a, b$ of the elliptic curve.\n",
    "- Choose a **base point** $G$ which \"generates\" a cyclic subgroup on the curve with order $n$; that is, the smallest integer such that $nG = \\mathbf{O}$.\n",
    "- Calculate the **cofactor** $h = |E(\\mathbb {F} _{p})|/n$ where $|E(\\mathbb {F} _{p})|$ is the number of points on the curve. $h$ is typically a small integer.\n",
    "- The **domain parameters** $(p, a, b, G, n, h)$ allow the specification of asymmetric keys in this way:\n",
    "\n",
    "    - The private key is a randomly chosen integer $d$ with as many bits as in the prime $p$. It should be kept secret.\n",
    "    - The public key is the result of \"multiplying\" the base point $G$ by the private key $d$. This is typically denoted as $Q = dG$.\n",
    "\n",
    "Recovering $d$ is equivalent to solving the ECDLP, which is assumed to be intractable for large $d$. The ECDLP therefore forms the basis for key exchange and digital signature schemes in direct analogy with the Diffie-Hellman and DSA schemes defined over $(\\mathbb{Z}_p)^{\\times}$ discussed previously.\n",
    "\n",
    "</details>\n",
    "\n",
    "[33]: #definition-tooltip \"Reference: Elliptic-curve cryptography,Wikipedia. Jun. 2023. Accessed: Jun. 20, 2023. [link](https://en.wikipedia.org/w/index.php?title=Elliptic-curve_cryptography&oldid=1160709993)\"\n",
    "[34]: #definition-tooltip \"Reference: “Elliptic curve point multiplication,”Wikipedia. Mar. 2023. Accessed: Jun.20, 2023. [link](https://en.wikipedia.org/w/index.php?title=Elliptic_curve_point_multiplication&oldid=1145917191)\""
   ]
  },
  {
   "attachments": {},
   "cell_type": "markdown",
   "id": "05a34d2b-bd3b-4985-aaa4-b01630ba73de",
   "metadata": {},
   "source": [
    "### Key exchange with ECC\n",
    "\n",
    "One of the primary uses of ECC is in the key exchange protocol known as [elliptic curve Diffie-Hellman][63] (ECDH). In ECDH, each party generates a private-public key pair and then exchanges public keys. Each party then uses their own private key and the other party's public key to compute a shared secret, which can be used as the key for symmetric encryption.\n",
    "\n",
    "While it's relatively easy to perform point addition on an elliptic curve and derive a public key from a private key, it's computationally infeasible to reverse the process and derive a private key from a public key. This \"one-way\" behavior provides the security of the ECDH key exchange.\n",
    "\n",
    "Here, we will illustrate an example of how one might perform an ECDH key exchange using Python and the library `cryptography`.\n",
    "\n",
    "[63]: #definition-tooltip \"Reference: Elliptic-curve Diffie–Hellman,Wikipedia.Jun. 2023. Accessed: Jul. 10, 2023. [link](https://en.wikipedia.org/w/index.php?title=Elliptic-curve_Diffie%E2%80%93Hellman&oldid=1160050860)\""
   ]
  },
  {
   "cell_type": "code",
   "execution_count": null,
   "id": "37dbfe40-5dd6-4f07-b116-1b5d5dd87261",
   "metadata": {},
   "outputs": [],
   "source": [
    "from cryptography.hazmat.primitives.asymmetric import ec\n",
    "from cryptography.hazmat.primitives import hashes\n",
    "\n",
    "# Each party generates a private key\n",
    "private_key1 = ec.generate_private_key(ec.SECP384R1())\n",
    "private_key2 = ec.generate_private_key(ec.SECP384R1())\n",
    "\n",
    "# They exchange public keys\n",
    "public_key1 = private_key1.public_key()\n",
    "public_key2 = private_key2.public_key()\n",
    "\n",
    "# Each party uses their own private key and the other party's public key\n",
    "# to derive the shared secret\n",
    "shared_key1 = private_key1.exchange(ec.ECDH(), public_key2)\n",
    "shared_key2 = private_key2.exchange(ec.ECDH(), public_key1)\n",
    "\n",
    "# The shared secrets are the same\n",
    "assert shared_key1 == shared_key2\n",
    "print(\"Keys checked to be the same\")"
   ]
  },
  {
   "attachments": {},
   "cell_type": "markdown",
   "id": "436b2e15-6d28-427f-8796-122050cb555e",
   "metadata": {},
   "source": [
    "### Digital signatures with ECC\n",
    "\n",
    "ECC can also be used to generate digital signatures using the [Elliptic Curve Digital Signature Algorithm][64] (ECDSA). In ECDSA, the signer creates a signature using their private key, and others can verify the signature using the signer's public key. Just like with ECDH, the security of ECDSA relies on the ECDLP. It's computationally infeasible for someone to forge a signature without access to the signer's private key.\n",
    "\n",
    "The following is an example of a simple sign-and-verify transaction using ECDSA with Python and `cryptography`.\n",
    "\n",
    "[64]: #definition-tooltip \"Reference: Elliptic Curve Digital Signature Algorithm,Wikipedia. Jun. 2023. Accessed:Jul. 10, 2023. [link](https://en.wikipedia.org/w/index.php?title=Elliptic_Curve_Digital_Signature_Algorithm&oldid=1162097661)\""
   ]
  },
  {
   "cell_type": "code",
   "execution_count": null,
   "id": "659bafbc-30b7-4f69-99a5-22d0b62869c8",
   "metadata": {},
   "outputs": [],
   "source": [
    "from cryptography.hazmat.primitives import hashes\n",
    "from cryptography.hazmat.primitives.asymmetric import ec\n",
    "\n",
    "# Generate a private key for use in the signature\n",
    "private_key = ec.generate_private_key(ec.SECP384R1())\n",
    "\n",
    "message = b\"A message to be signed\"\n",
    "\n",
    "# Sign the message\n",
    "signature = private_key.sign(message, ec.ECDSA(hashes.SHA256()))\n",
    "\n",
    "# Anyone can verify the signature with the public key\n",
    "public_key = private_key.public_key()\n",
    "\n",
    "\n",
    "def check_ecdsa_signature(public_key, signature, message):\n",
    "    try:\n",
    "        public_key.verify(signature, message, ec.ECDSA(hashes.SHA256()))\n",
    "        return True\n",
    "    except InvalidSignature:\n",
    "        return False\n",
    "\n",
    "\n",
    "if check_ecdsa_signature(public_key, signature, message):\n",
    "    print(\"The signature is valid.\")\n",
    "else:\n",
    "    print(\"The signature is invalid.\")"
   ]
  },
  {
   "attachments": {},
   "cell_type": "markdown",
   "id": "136f5e1c-5802-4d81-8f45-a631db2deb97",
   "metadata": {},
   "source": [
    "In the above code, if one modifies the message after it has been signed, the verification will fail, providing a guarantee of authenticity and integrity for the message."
   ]
  },
  {
   "attachments": {},
   "cell_type": "markdown",
   "id": "1ae2bd69-9658-49dd-a231-e79326013d64",
   "metadata": {},
   "source": [
    "### Breaking ECDH and ECDSA\n",
    "\n",
    "In an analogous way to the integer discrete logarithm problem, the ECDLP turns out to be hard on classical computers but has an efficient solution on quantum computers once again via Shor's algorithm. We refer you to recent literature for a discussion related to [generalizing Shor's algorithm to the ECDLP case][41].\n",
    "\n",
    "[41]: #definition-tooltip \"Reference: H.T. Larasati and H. Kim,“Quantum Cryptanalysis Landscape of Shor’s Algorithm for Elliptic Curve Discrete Logarithm Problem,”in Information Security Applications, H. Kim, Ed., in Lecture Notes in Computer Science. Cham: Springer International Publishing, 2021, pp.91–104. [link](https://doi.org/10.1007/978-3-030-89432-0_8)\""
   ]
  },
  {
   "attachments": {},
   "cell_type": "markdown",
   "id": "eae6c9c8-9389-498c-a260-04071e22769c",
   "metadata": {},
   "source": [
    "## Summary\n",
    "\n",
    "In this lesson, we started by looking at the main characteristics of asymmetric key cryptography (AKC) and discussed basic security considerations that underpin asymmetric cryptosystems. In particular, we introduced the two main applications of AKC — namely, key exchange and digital signatures — both of which are essential components of modern internet-based communication.\n",
    "\n",
    "We then looked at the RSA cryptosystem, which since the 1970s, has proven to be of immense value for securing modern digital communications by enabling key exchange and digital signatures within a simple and versatile framework. The cryptographic security of RSA with respect to classical computing is based on the hardness of factoring large integers and requires key sizes in the range of 2048 bits to assure the integers used in practical applications are large enough to resist factorization.\n",
    "\n",
    "We then looked at Diffie-Hellman (DH) key exchange and the Digital Signature Algorithm (DSA). The security of these schemes is predicated on the integer discrete logarithm (DLP) problem, the private key being computationally hard to extract given the public key, with no polynomial time solution on classical computers. Use of random and unique keys affords additional security against attacks. Both the integer finite field and elliptic curve variants of the DH and DSA protocols currently find widespread use across many modern digital communications protocols such as [*TLS*][127], [*SSH*][81], and so on.\n",
    "\n",
    "Finally we looked at Elliptic curve cryptography. With its efficient key size and strong security properties, it currently represents an excellent choice for many cryptographic applications, from key exchange to digital signatures.\n",
    "\n",
    "All of these algorithms have exposure to attack from quantum algorithms, since solutions can be developed to solve the mathematical problems which acted as a premise in their design. One such example is Shor's algorithm. Therefore they will need to be replaced by quantum-safe asymmetric cryptosystems which are more resilient to attack from quantum - as well as being as safe with classical algorithms. The mathematical problems they rely on can be solved efficiently by quantum computers, necessitating the development of quantum-safe asymmetric cryptosystems that can withstand quantum attacks while maintaining classical security.\n",
    "\n",
    "A future lesson will look at quantum-safe cryptosystems and discuss the required approach to maintain cryptographic security.\n",
    "\n",
    "[127]: #definition-tooltip \"Reference: “Transport Layer Security,”Wikipedia. May 2023. Accessed:May 18, 2023. [link](https://en.wikipedia.org/w/index.php?title=Transport_Layer_Security&oldid=1155601531)\"\n",
    "[81]: #definition-tooltip \"Reference: “SecureShell,”Wikipedia. Jun. 2023. Accessed: Jul. 12, 2023. [link](https://en.wikipedia.org/w/index.php?title=Secure_Shell&oldid=1158549718)\""
   ]
  }
 ],
 "metadata": {
  "description": "In this lesson we will look at asymmetric key cryptography which forms the basis of many secure network interactions today.",
  "kernelspec": {
   "display_name": "Python 3",
   "language": "python",
   "name": "python3"
  },
  "language_info": {
   "codemirror_mode": {
    "name": "ipython",
    "version": 3
   },
   "file_extension": ".py",
   "mimetype": "text/x-python",
   "name": "python",
   "nbconvert_exporter": "python",
   "pygments_lexer": "ipython3",
   "version": "3"
  },
  "title": "Asymmetric key cryptography",
  "widgets": {
   "application/vnd.jupyter.widget-state+json": {
    "state": {},
    "version_major": 2,
    "version_minor": 0
   }
  }
 },
 "nbformat": 4,
 "nbformat_minor": 4
}
