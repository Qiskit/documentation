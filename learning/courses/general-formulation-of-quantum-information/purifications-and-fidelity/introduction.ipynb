{
 "cells": [
  {
   "cell_type": "markdown",
   "id": "e2725f9c",
   "metadata": {},
   "source": [
    "{/* cspell:ignore autoplay */}\n",
    "{/* cspell:ignore allowfullscreen */}\n",
    "{/* cspell:ignore referrerpolicy */}\n",
    "\n",
    "# Introduction\n",
    "\n",
    "This lesson is centered around a fundamentally important concept in the theory of quantum information, which is that of a *purification* of a state.\n",
    "A purification of a quantum state, represented by a density matrix $\\rho,$ is a pure state of a larger compound system that leaves us with $\\rho$ when the rest of the compound system is traced out.\n",
    "As we'll see, *every* state $\\rho$ has a purification, provided that the portion of the compound system that gets traced out is large enough.\n",
    "\n",
    "It's both common and useful to consider purifications of states when reasoning about them.\n",
    "Intuitively speaking, quantum state vectors are simpler mathematical objects than density matrices, and we can often conclude interesting things about density matrices by thinking about them as representing parts of larger systems whose states are pure — and therefore simpler (at least in some regards).\n",
    "This is an example of a *dilation* in mathematics, where something relatively complicated is obtained by restricting or reducing something larger yet simpler.\n",
    "\n",
    "The lesson also discusses the *fidelity* between two quantum states, which is a value that quantifies the similarity between the states.\n",
    "We'll see how fidelity is defined by a mathematical formula and discuss how it connects to the notion of a purification through *Uhlmann's theorem*.\n",
    "\n",
    "## Lesson video\n",
    "\n",
    "In the following video, John Watrous steps you through the content in this lesson on purification and fidelity. Alternatively, you can open the [YouTube video](https://www.youtube.com/watch?v=jemWEdnJTnI&list=PLOFEBzvs-VvqKKMXX4vbi4EB1uaErFMSO&index=14) for this lesson in a separate window. [Download the slides](https://ibm.box.com/shared/static/wt8dkrbjdft267ouym92rg53cimodr4c.pdf) for this lesson.\n",
    "\n",
    "<IBMVideo id=\"134063424\" title=\"In this video, John Watrous discusses purification of a quantum state and a state's fidelity.\"/>"
   ]
  }
 ],
 "metadata": {
  "description": "A free IBM course on quantum information and computation",
  "kernelspec": {
   "display_name": "Python 3",
   "language": "python",
   "name": "python3"
  },
  "language_info": {
   "codemirror_mode": {
    "name": "ipython",
    "version": 3
   },
   "file_extension": ".py",
   "mimetype": "text/x-python",
   "name": "python",
   "nbconvert_exporter": "python",
   "pygments_lexer": "ipython3",
   "version": "3"
  },
  "title": "Introduction"
 },
 "nbformat": 4,
 "nbformat_minor": 5
}
