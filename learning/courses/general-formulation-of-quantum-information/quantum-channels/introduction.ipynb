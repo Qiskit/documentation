{
 "cells": [
  {
   "cell_type": "markdown",
   "id": "27efc116",
   "metadata": {},
   "source": [
    "{/* cspell:ignore autoplay */}\n",
    "{/* cspell:ignore allowfullscreen */}\n",
    "{/* cspell:ignore referrerpolicy */}\n",
    "\n",
    "# Introduction\n",
    "\n",
    "In the general formulation of quantum information, operations on quantum states are represented by a special class of mappings called *channels*.\n",
    "This includes useful operations, such as ones corresponding to unitary gates and circuits, as well as operations we deem as noise and would prefer to avoid.\n",
    "We can also describe measurements as channels, which we'll do in the next lesson.\n",
    "In short, any <DefinitionTooltip definition=\"A discrete-time change refers to one occurring between two distinct moments in time, as opposed to a continuous process that can be described over infinitesimally small time periods.\">discrete-time</DefinitionTooltip> change in states that is physically realizable (in an idealized sense) can be described by a channel.\n",
    "\n",
    "The term *channel* comes to us from information theory, which (among other things) studies the information-carrying capacities of noisy *communication channels*.\n",
    "In this context, a quantum channel could specify the quantum state that's received when a given quantum state is sent, perhaps through a quantum network of some sort.\n",
    "It should be understood, however, that the terminology merely reflects this historical motivation and is used in a more general way.\n",
    "Indeed, we can describe a wide variety of things (such as complicated quantum computations) as channels, even though they have nothing to do with communication and would be unlikely to arise naturally in such a setting.\n",
    "\n",
    "\n",
    "We'll begin the lesson with a discussion of some basic aspects of channels, along with a small selection of examples.\n",
    "Then we'll move on to three different ways to represent channels in mathematical terms later in the lesson.\n",
    "We'll see that, although these representations are different, they all offer equivalent mathematical characterizations of channels.\n",
    "\n",
    "## Lesson video\n",
    "\n",
    "Click on the following image to access the lesson video.\n",
    "\n",
    "  <ImageLink\n",
    "    title=\"Quantum Channels | Understanding Quantum Information & Computation | Lesson 10\"\n",
    "    alt=\"Video thumbnail\"\n",
    "    href=\"https://youtu.be/cMl-xIDSmXI?list=PLOFEBzvs-VvqKKMXX4vbi4EB1uaErFMSO\"\n",
    "    src=\"/learning/images/courses/general-formulation-of-quantum-information/quantum-channels/introduction/10-A.avif\"\n",
    "  />"
   ]
  }
 ],
 "metadata": {
  "description": "A free IBM course on quantum information and computation",
  "kernelspec": {
   "display_name": "Python 3",
   "language": "python",
   "name": "python3"
  },
  "language_info": {
   "codemirror_mode": {
    "name": "ipython",
    "version": 3
   },
   "file_extension": ".py",
   "mimetype": "text/x-python",
   "name": "python",
   "nbconvert_exporter": "python",
   "pygments_lexer": "ipython3",
   "version": "3"
  },
  "title": "Introduction"
 },
 "nbformat": 4,
 "nbformat_minor": 5
}
