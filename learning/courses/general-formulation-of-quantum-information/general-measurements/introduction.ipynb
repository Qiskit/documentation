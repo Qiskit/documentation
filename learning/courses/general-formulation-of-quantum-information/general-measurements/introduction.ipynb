{
 "cells": [
  {
   "cell_type": "markdown",
   "id": "70cf03df",
   "metadata": {},
   "source": [
    "{/* cspell:ignore autoplay */}\n",
    "{/* cspell:ignore allowfullscreen */}\n",
    "{/* cspell:ignore referrerpolicy */}\n",
    "\n",
    "# Introduction\n",
    "\n",
    "Measurements provide an interface between quantum and classical information.\n",
    "When a measurement is performed on a system in a quantum state, classical information is extracted, revealing something about that quantum state — and generally changing or destroying it in the process.\n",
    "In the simplified formulation of quantum information (as presented in the *Basics of quantum information* course), we typically limit our attention to *projective measurements*, including the simplest type of measurement: *standard basis measurements*.\n",
    "The concept of a measurement, however, can be generalized beyond projective measurements.\n",
    "\n",
    "In this lesson we'll consider measurements in greater generality.\n",
    "We'll discuss a few different ways that general measurements can be described in mathematical terms, and we'll connect them to concepts discussed previously in the course.\n",
    "\n",
    "We'll also take a look at a couple of notions connected with measurements, namely *quantum state discrimination* and *quantum state tomography*.\n",
    "Quantum state discrimination refers to a situation that arises commonly in quantum computing and cryptography, where a system is prepared in one of a known collection of states, and the goal is to determine, by means of a measurement, which state was prepared.\n",
    "For quantum state tomography, on the other hand, many independent copies of a single, unknown quantum state are made available, and the goal is to reconstruct a density matrix description of that state by performing measurements on the copies.\n",
    "\n",
    "## Lesson video\n",
    "\n",
    "In the following video, John Watrous steps you through the content in this lesson on general measurements. Alternatively, you can open the [YouTube video](https://www.youtube.com/watch?v=Xi9YTYzQErY&list=PLOFEBzvs-VvqKKMXX4vbi4EB1uaErFMSO&index=13) for this lesson in a separate window. [Download the slides](https://ibm.box.com/shared/static/plp9gokjjpvktdsclrex0pg3q2n8f3op.pdf) for this lesson.\n",
    "\n",
    "<IBMVideo id=\"134063423\" title=\"In this video, John Watrous discusses mathematical formulations of measurements. He discusses Naimark's theorem. Finally he describes quantum state discrimination and tomography. \"/>"
   ]
  }
 ],
 "metadata": {
  "description": "A free IBM course on quantum information and computation",
  "kernelspec": {
   "display_name": "Python 3",
   "language": "python",
   "name": "python3"
  },
  "language_info": {
   "codemirror_mode": {
    "name": "ipython",
    "version": 3
   },
   "file_extension": ".py",
   "mimetype": "text/x-python",
   "name": "python",
   "nbconvert_exporter": "python",
   "pygments_lexer": "ipython3",
   "version": "3"
  },
  "title": "Introduction"
 },
 "nbformat": 4,
 "nbformat_minor": 5
}
