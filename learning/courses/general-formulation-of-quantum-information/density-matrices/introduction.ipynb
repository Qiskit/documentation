{
 "cells": [
  {
   "cell_type": "markdown",
   "id": "bc4aac8b",
   "metadata": {},
   "source": [
    "{/* cspell:ignore autoplay */}\n",
    "{/* cspell:ignore allowfullscreen */}\n",
    "{/* cspell:ignore referrerpolicy */}\n",
    "\n",
    "# Introduction\n",
    "\n",
    "Before beginning, please complete this short [pre-course survey](https://your.feedback.ibm.com/jfe/form/SV_a64TTfW8cUM9Mc6), which is important to help improve our content offerings and user experience.\n",
    "\n",
    "In the \"Basics of quantum information\" course, we discussed a framework for quantum information in which quantum states are represented by quantum state vectors, operations are represented by unitary matrices, and so on.\n",
    "We then used this framework in the \"Fundamentals of quantum algorithms\" course to describe and analyze quantum algorithms.\n",
    "\n",
    "There are actually two common mathematical descriptions of quantum information, with the one introduced in \"Basics of quantum information\" being the simpler of the two. For this reason we'll refer to it as the *simplified formulation of quantum information.*\n",
    "\n",
    "In this lesson, we'll begin our exploration of the second description, which is the *general formulation of quantum information.*\n",
    "It is, naturally, consistent with the simplified formulation, but offers noteworthy advantages.\n",
    "For instance, it can be used to describe uncertainty in quantum states and model the effects of noise on quantum computations.\n",
    "It provides the foundation for quantum information theory, quantum cryptography, and other topics connected with quantum information, and it also happens to be quite beautiful from a mathematical perspective.\n",
    "\n",
    "In the general formulation of quantum information, quantum states are not represented by vectors like in the simplified formulation, but instead are represented by a special class of matrices called *density matrices*. Here are a few key points that motivate their use.\n",
    "\n",
    " - Density matrices can represent a broader class of quantum states than quantum state vectors. This includes states that arise in practical settings, such as states of quantum systems that have been subjected to noise, as well as random choices of quantum states.\n",
    "\n",
    " - Density matrices allow us to describe states of isolated parts of systems, such as the state of one system that happens to be entangled with another system that we wish to ignore. This isn't easily done in the simplified formulation of quantum information.\n",
    "\n",
    " - Classical (probabilistic) states can also be represented by density matrices, specifically ones that are <DefinitionTooltip definition=\"A square matrix is diagonal when all of its off-diagonal entries are zero.\" align=\"top-left\">diagonal.</DefinitionTooltip> This is important because it allows quantum and classical information to be described together within a single mathematical framework, with classical information essentially being a special case of quantum information.\n",
    "\n",
    "At first glance, it may seem peculiar that quantum states are represented by matrices, which more typically represent actions or operations, as opposed to states. For example, unitary matrices describe quantum operations in the simplified formulation of quantum information and stochastic matrices describe probabilistic operations in the context of classical information.\n",
    "In contrast, although density matrices are indeed matrices, they represent states — not actions or operations.\n",
    "\n",
    "Despite this, the fact that density matrices can (like all matrices) be associated with linear mappings is a critically important aspect of them.\n",
    "For example, the *eigenvalues* of density matrices describe the randomness or uncertainty inherent to the states they represent.\n",
    "\n",
    "## Lesson video\n",
    "\n",
    "In the following video, John Watrous steps you through the content in this lesson on density matrices. Alternatively, you can open the [YouTube video](https://www.youtube.com/watch?v=CeK9ry8G8HQ&list=PLOFEBzvs-VvqKKMXX4vbi4EB1uaErFMSO&index=11) for this lesson in a separate window. [Download the slides](https://ibm.box.com/shared/static/eoddc2njf8dyays2ju54gn8il5j5pxv9.pdf) for this lesson.\n",
    "\n",
    "<IBMVideo id=\"134056231\" title=\"In this video, John Watrous walks you through the basics of density matrices. He then extends the discussion to combinations of density matrices and multiple systems.\"/>"
   ]
  }
 ],
 "metadata": {
  "description": "A free IBM course on quantum information and computation",
  "kernelspec": {
   "display_name": "Python 3",
   "language": "python",
   "name": "python3"
  },
  "language_info": {
   "codemirror_mode": {
    "name": "ipython",
    "version": 3
   },
   "file_extension": ".py",
   "mimetype": "text/x-python",
   "name": "python",
   "nbconvert_exporter": "python",
   "pygments_lexer": "ipython3",
   "version": "3"
  },
  "title": "Introduction"
 },
 "nbformat": 4,
 "nbformat_minor": 5
}
