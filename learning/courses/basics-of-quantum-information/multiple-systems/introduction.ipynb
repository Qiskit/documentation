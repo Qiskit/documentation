{
 "cells": [
  {
   "cell_type": "markdown",
   "id": "bd96d8f0",
   "metadata": {},
   "source": [
    "# Introduction\n",
    "\n",
    "This lesson focuses on the basics of quantum information in the context of *multiple* systems.\n",
    "This context arises both commonly and naturally in information processing, classical and quantum;\n",
    "information-carrying systems are typically constructed from collections of smaller systems, such as bits or qubits.\n",
    "\n",
    "A simple, yet critically important idea to keep in mind going into this lesson is that we can always choose to view multiple systems *together* as if they form a single, compound system — to which the discussion in the previous lesson applies.\n",
    "Indeed, this idea very directly leads to a description of how quantum states, measurements, and operations work for multiple systems.\n",
    "\n",
    "There is, however, more to understanding multiple quantum systems than simply recognizing that they may be viewed collectively as single systems.\n",
    "For instance, we may have multiple quantum systems that are collectively in a particular quantum state, and then choose to measure some but not all of the individual systems.\n",
    "In general, this will affect the state of the systems that were not measured, and it is important to understand exactly how when analyzing quantum algorithms and protocols.\n",
    "An understanding of the sorts of *correlations* among multiple systems — and particularly a type of correlation known as *entanglement* — is also important in quantum information and computation."
   ]
  }
 ],
 "metadata": {
  "description": "A free IBM course on quantum information and computation",
  "title": "Introduction",
  "kernelspec": {
   "display_name": "Python 3",
   "language": "python",
   "name": "python3"
  },
  "language_info": {
   "codemirror_mode": {
    "name": "ipython",
    "version": 3
   },
   "file_extension": ".py",
   "mimetype": "text/x-python",
   "name": "python",
   "nbconvert_exporter": "python",
   "pygments_lexer": "ipython3",
   "version": "3"
  }
 },
 "nbformat": 4,
 "nbformat_minor": 5
}
