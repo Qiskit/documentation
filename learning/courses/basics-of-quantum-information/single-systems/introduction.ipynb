{
 "cells": [
  {
   "cell_type": "markdown",
   "id": "872e3485",
   "metadata": {},
   "source": [
    "# Introduction\n",
    "\n",
    "Before we begin, please take a moment to complete our [pre-course survey](https://your.feedback.ibm.com/jfe/form/SV_1RB2olXRTPUUmLc), which is important to help improve our content offerings and user experience.\n",
    "\n",
    "In the following video, John Watrous steps you through the content in this lesson on single systems. Alternatively, you can open the [YouTube video](https://youtu.be/3-c4xJa7Flk?list=PLOFEBzvs-VvqKKMXX4vbi4EB1uaErFMSO) for this lesson in a separate window.\n",
    "\n",
    "<IBMVideo id=\"134056207\" title=\"In this video, John Watrous describes classical and quantum state vectors. He introduces some critical notation for quantum states and operators, including unitary matrices for operations on qubit systems.\"/>\n",
    "\n",
    "This lesson introduces the basic framework of <DefinitionTooltip definition=\"Quantum information is both a concept and a framework for modeling and describing information in quantum systems. While it is based on and motivated by quantum physics, the physical details can largely be abstracted away, leaving a mathematical framework that is applicable to a variety of specific physical systems.\">quantum information</DefinitionTooltip>, including the description of quantum states as vectors with complex number entries, measurements that allow classical information to be extracted from quantum states, and operations on quantum states that are described by unitary matrices.\n",
    "\n",
    "We will restrict our attention in this lesson to the comparatively simple setting in which a *single system* is considered in isolation.\n",
    "In the next lesson, we'll expand our view to *multiple systems,* which can interact with one another and be correlated."
   ]
  }
 ],
 "metadata": {
  "description": "A free IBM course on quantum information and computation",
  "kernelspec": {
   "display_name": "Python 3",
   "language": "python",
   "name": "python3"
  },
  "language_info": {
   "codemirror_mode": {
    "name": "ipython",
    "version": 3
   },
   "file_extension": ".py",
   "mimetype": "text/x-python",
   "name": "python",
   "nbconvert_exporter": "python",
   "pygments_lexer": "ipython3",
   "version": "3"
  },
  "title": "Introduction"
 },
 "nbformat": 4,
 "nbformat_minor": 5
}
