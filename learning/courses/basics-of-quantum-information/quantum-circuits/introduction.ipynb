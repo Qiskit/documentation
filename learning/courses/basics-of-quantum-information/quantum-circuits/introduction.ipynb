{
 "cells": [
  {
   "cell_type": "markdown",
   "id": "f75f172e",
   "metadata": {},
   "source": [
    "# Introduction\n",
    "\n",
    "\n",
    "In the following video, John Watrous steps you through the content in this lesson on quantum circuits. Alternatively, you can open the [YouTube video](https://youtu.be/30U2DTfIrOU?list=PLOFEBzvs-VvqKKMXX4vbi4EB1uaErFMSO) for this lesson in a separate window. [Download the slides](https://ibm.box.com/shared/static/zsd4694uko51kzcohdvbp6ncgl9u9ys3.pdf) for this lesson.\n",
    "\n",
    "<IBMVideo id=\"134056224\" title=\"In this video, John Watrous describes introduces quantum circuits. He demonstrates how circuits represent quantum operations and builds the connection with matrix operations.\"/>\n",
    "\n",
    "This lesson introduces the *quantum circuit* model of computation, which provides a standard way to describe quantum computations.\n",
    "\n",
    "The lesson also introduces a few important mathematical concepts, including *inner products* between vectors, the notions of *orthogonality* and *orthonormality*, and *projections* and *projective measurements*, which generalize standard basis measurements.\n",
    "Through these concepts, we'll derive fundamental limitations on quantum information, including the *no-cloning theorem* and the impossibility to perfectly discriminate non-orthogonal quantum states."
   ]
  }
 ],
 "metadata": {
  "description": "A free IBM course on quantum information and computation",
  "kernelspec": {
   "display_name": "Python 3",
   "language": "python",
   "name": "python3"
  },
  "language_info": {
   "codemirror_mode": {
    "name": "ipython",
    "version": 3
   },
   "file_extension": ".py",
   "mimetype": "text/x-python",
   "name": "python",
   "nbconvert_exporter": "python",
   "pygments_lexer": "ipython3",
   "version": "3"
  },
  "title": "Introduction"
 },
 "nbformat": 4,
 "nbformat_minor": 5
}
