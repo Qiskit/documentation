{
 "cells": [
  {
   "attachments": {},
   "cell_type": "markdown",
   "id": "3c04b800-57be-4a4e-affe-81318bbeb4e6",
   "metadata": {
    "tags": []
   },
   "source": [
    "{/* cspell:ignore Lipinska autoplay Tilly Ardle webkitallowfullscreen allowfullscreen frameborder referrerpolicy */}\n",
    "\n",
    "# The ansatz\n",
    "\n",
    "Watch as Victoria Lipinska explains what an ansatz is and why we care about it in the context of a variational quantum eigensolver (VQE).\n",
    "\n",
    "<IBMVideo id=\"132414879\" title=\"Victoria Lipinska describes the variational circuit or ansatz that we need in every VQE instance. She explains the relationship between the ansatz and the reference state, and hints at the need for a classical optimizer.\"/>\n",
    "\n",
    "### References\n",
    "\n",
    "The following articles are referenced in the above video.\n",
    "* [The theory of variational hybrid quantum-classical algorithms, McClean, et al.](https://iopscience.iop.org/article/10.1088/1367-2630/18/2/023023/meta)\n",
    "* [Quantum Chemistry in the Age of Quantum Computing, Cao, et al.](https://arxiv.org/pdf/1812.09976.pdf)\n",
    "* [Noisy intermediate-scale quantum (NISQ) algorithms, Bharti, et al.](https://arxiv.org/pdf/2101.08448.pdf)\n",
    "* [The Variational Quantum Eigensolver: A review of methods and best practices, Tilly, et al.](https://arxiv.org/abs/2111.05176)\n",
    "* [Hardware-efficient Variational Quantum Eigensolver for Small Molecules and Quantum Magnets, Kandala, et al.](https://arxiv.org/pdf/1704.05018.pdf)\n",
    "* [Quantum computational chemistry, McArdle, et al.](https://arxiv.org/pdf/1808.10402.pdf)"
   ]
  },
  {
   "cell_type": "markdown",
   "id": "3b7bb3dc",
   "metadata": {},
   "source": [
    "## Ansatz code\n",
    "\n",
    "In the previous lesson you created a __Hamiltonian__ that describes the energy of your molecule of interest, and mapped it to a format useful for a quantum computer. The VQE uses a _variational circuit_ to prepare quantum states. We then use those states to determine the expectation value of the Hamiltonian (the energy). Parameters in the variational circuit are varied until the calculation converges on a minimum expectation value. In the quantum chemistry context, this should be the ground state energy. This lesson focuses on the variational circuit, also called the __ansatz__ (a German word meaning \"approach\" or \"method\").\n",
    "In this lesson you will learn\n",
    "- the set of pre-made ansaetze available in the circuit library\n",
    "- How to specify or modify the features of an ansatz\n",
    "- How to build your own ansatz\n",
    "- examples of good and bad ansaetze\n",
    "\n",
    "The Qiskit circuit library has many categories of circuits that can be used as an ansatz. Here, we will restrict our discussion to two-local circuits (circuits consisting of gates that act on, at most, two qubits at a time). __EfficientSU2__ is a commonly-used ansatz.\n",
    "\n",
    "An EfficientSU2 circuit consists of layers of single qubit operations spanned by SU(2) (special unity group of degree 2, like Pauli rotation gates) and CX entanglements. This is a heuristic pattern that can be useful in variational quantum algorithms like VQE and classification circuits in quantum machine learning (QML).\n",
    "\n",
    "We'll start with a four-qubit example EfficientSU2 circuit with two types of SU(2) gates, say rx and ry. We also specify an entanglement scheme and the number of repetitions. If you simply `.draw()` the circuits, you will get a fairly abstract representation. A more comprehensible circuit diagram is obtained by using `.decompose().draw()`, and here we will use `output = \"mpl\"'."
   ]
  },
  {
   "cell_type": "code",
   "execution_count": 46,
   "id": "6028e7e8-7f4e-45d1-b08b-c8d4e567c1a3",
   "metadata": {},
   "outputs": [
    {
     "name": "stdout",
     "output_type": "stream",
     "text": [
      "     ┌────────────────────────────────────────────────────────┐\n",
      "q_0: ┤0                                                       ├\n",
      "     │                                                        │\n",
      "q_1: ┤1                                                       ├\n",
      "     │  EfficientSU2(θ[0],θ[1],θ[2],θ[3],θ[4],θ[5],θ[6],θ[7]) │\n",
      "q_2: ┤2                                                       ├\n",
      "     │                                                        │\n",
      "q_3: ┤3                                                       ├\n",
      "     └────────────────────────────────────────────────────────┘\n"
     ]
    },
    {
     "data": {
      "text/plain": [
       "<Image src=\"/learning/images/courses/quantum-chem-with-vqe/ansatz/extracted-outputs/6028e7e8-7f4e-45d1-b08b-c8d4e567c1a3-1.avif\" alt=\"Output of the previous code cell\" />"
      ]
     },
     "execution_count": 46,
     "metadata": {},
     "output_type": "execute_result"
    }
   ],
   "source": [
    "from qiskit.circuit.library import EfficientSU2\n",
    "\n",
    "SU2_ansatz = EfficientSU2(4, su2_gates=[\"rx\", \"y\"], entanglement=\"linear\", reps=1)\n",
    "print(SU2_ansatz.draw())\n",
    "SU2_ansatz.decompose().draw(output=\"mpl\")"
   ]
  },
  {
   "cell_type": "markdown",
   "id": "cf87d8ee",
   "metadata": {},
   "source": [
    "The SU(2) gates appear at the beginning and end with the order and elements as specified in su2_gates = [...]. The entanglement scheme `linear` means that the CX gates step through the numbered qubits, entangling 0 & 1, then 1 & 2, and so on, down a diagonal line in the circuit. As you might expect, setting `reps = 2` simply adds an entanglement layer and an ending SU(2) layer. Settings `reps = n` corresponds to `n` entanglement layers, with SU(2) layers between them and on each end."
   ]
  },
  {
   "cell_type": "code",
   "execution_count": 47,
   "id": "e7eb387b-8766-4f3c-a0cc-f07b4b6d5e85",
   "metadata": {},
   "outputs": [
    {
     "data": {
      "text/plain": [
       "<Image src=\"/learning/images/courses/quantum-chem-with-vqe/ansatz/extracted-outputs/e7eb387b-8766-4f3c-a0cc-f07b4b6d5e85-0.avif\" alt=\"Output of the previous code cell\" />"
      ]
     },
     "execution_count": 47,
     "metadata": {},
     "output_type": "execute_result"
    }
   ],
   "source": [
    "SU2_ansatz2 = EfficientSU2(4, su2_gates=[\"rx\", \"y\", \"z\"], entanglement=\"linear\", reps=2)\n",
    "SU2_ansatz2.decompose().draw(output=\"mpl\")"
   ]
  },
  {
   "cell_type": "markdown",
   "id": "61cae6e6",
   "metadata": {},
   "source": [
    "There are several other entanglement schemes. Two worth noting are `circular` and `full`. Circular entanglement is identical to linear entanglement, but with an additional CX gate entangling the first and last qubit. The full entanglement scheme includes a CX gate between every pair of qubits. Note that for an N-qubit circuit, this is $N(N-1)/2$  $CX$ gates, and can become computationally expensive."
   ]
  },
  {
   "cell_type": "code",
   "execution_count": 48,
   "id": "b2cc6b8a-c6e8-456f-ac0c-1f8b33ef964b",
   "metadata": {},
   "outputs": [
    {
     "data": {
      "text/plain": [
       "<Image src=\"/learning/images/courses/quantum-chem-with-vqe/ansatz/extracted-outputs/b2cc6b8a-c6e8-456f-ac0c-1f8b33ef964b-0.avif\" alt=\"Output of the previous code cell\" />"
      ]
     },
     "execution_count": 48,
     "metadata": {},
     "output_type": "execute_result"
    }
   ],
   "source": [
    "SU2_ansatz3 = EfficientSU2(\n",
    "    4, su2_gates=[\"rx\", \"y\", \"z\"], entanglement=\"circular\", reps=1\n",
    ")\n",
    "SU2_ansatz3.decompose().draw(output=\"mpl\")"
   ]
  },
  {
   "cell_type": "code",
   "execution_count": 49,
   "id": "60f394ba-f338-4be9-83b4-18767c813886",
   "metadata": {},
   "outputs": [
    {
     "data": {
      "text/plain": [
       "<Image src=\"/learning/images/courses/quantum-chem-with-vqe/ansatz/extracted-outputs/60f394ba-f338-4be9-83b4-18767c813886-0.avif\" alt=\"Output of the previous code cell\" />"
      ]
     },
     "execution_count": 49,
     "metadata": {},
     "output_type": "execute_result"
    }
   ],
   "source": [
    "SU2_ansatz4 = EfficientSU2(4, su2_gates=[\"rx\", \"y\", \"z\"], entanglement=\"full\", reps=1)\n",
    "SU2_ansatz4.decompose().draw(output=\"mpl\")"
   ]
  },
  {
   "cell_type": "markdown",
   "id": "7a958757",
   "metadata": {},
   "source": [
    "You can monitor your circuit depths by using `.depth()`, but note that, just as in the visualization, it is important to `.decompose()` first. Otherwise, the `.depth()` will count the entire ansatz as a single circuit element."
   ]
  },
  {
   "cell_type": "code",
   "execution_count": 50,
   "id": "b2570edd-8903-4468-b7ef-ba11415e3785",
   "metadata": {},
   "outputs": [
    {
     "name": "stdout",
     "output_type": "stream",
     "text": [
      "11\n",
      "1\n"
     ]
    }
   ],
   "source": [
    "print(SU2_ansatz4.decompose().depth())\n",
    "print(SU2_ansatz4.depth())"
   ]
  },
  {
   "cell_type": "markdown",
   "id": "79c2c9fd",
   "metadata": {},
   "source": [
    "A generalization of the EfficientSU2 is the TwoLocal circuit. The TwoLocal also contains SU(2) blocks (or rotation blocks) and entanglement blocks. Here, we are free to specify the type of entanglement gates we want to use, for example CRX gates. In this example, all gates accept a parameter, but that need not be the case. One could use Y rotation gates and CX entanglement gates, for example."
   ]
  },
  {
   "cell_type": "code",
   "execution_count": 55,
   "id": "fdb6071a-7f29-4214-960c-93c304e64a6a",
   "metadata": {},
   "outputs": [
    {
     "data": {
      "text/plain": [
       "<Image src=\"/learning/images/courses/quantum-chem-with-vqe/ansatz/extracted-outputs/fdb6071a-7f29-4214-960c-93c304e64a6a-0.avif\" alt=\"Output of the previous code cell\" />"
      ]
     },
     "execution_count": 55,
     "metadata": {},
     "output_type": "execute_result"
    }
   ],
   "source": [
    "from qiskit.circuit.library import TwoLocal\n",
    "\n",
    "rotation_blocks = [\"ry\"]\n",
    "entanglement_blocks = [\"crx\"]\n",
    "two_ansatz = TwoLocal(\n",
    "    4, rotation_blocks, entanglement_blocks, \"linear\", insert_barriers=True, reps=2\n",
    ")\n",
    "two_ansatz.decompose().draw(output=\"mpl\")"
   ]
  },
  {
   "cell_type": "markdown",
   "id": "29687857",
   "metadata": {},
   "source": [
    "The last ansatz we will discuss by name is the PauliTwoDesign. This circuit contains an initial rotation of $RY(pi/4)$, and rotation layers contain single qubit Pauli rotations, where the axis is chosen uniformly at random to be X, Y, or Z. The entanglement layers are composed of pairwise CZ gates with a total depth of two. Note the difference in entanglement (and total circuit) depth between this PauliTwoDesign and, for example, the EfficientSU2."
   ]
  },
  {
   "cell_type": "code",
   "execution_count": 58,
   "id": "1cff47db-5ee5-4e58-ac99-cbc2af9801c7",
   "metadata": {},
   "outputs": [
    {
     "data": {
      "text/plain": [
       "<Image src=\"/learning/images/courses/quantum-chem-with-vqe/ansatz/extracted-outputs/1cff47db-5ee5-4e58-ac99-cbc2af9801c7-0.avif\" alt=\"Output of the previous code cell\" />"
      ]
     },
     "execution_count": 58,
     "metadata": {},
     "output_type": "execute_result"
    }
   ],
   "source": [
    "from qiskit.circuit.library import PauliTwoDesign\n",
    "\n",
    "PtwoD_ansatz = PauliTwoDesign(5, reps=1, seed=10599, insert_barriers=True)\n",
    "PtwoD_ansatz.decompose().draw(output=\"mpl\")"
   ]
  },
  {
   "cell_type": "markdown",
   "id": "1db0af4a",
   "metadata": {},
   "source": [
    "These pre-made variational circuits are useful heuristics both in terms of achieving a desired level of entanglement and in limiting circuit depth. But there is nothing magical about them. You are free to make your own variational circuit. Indeed that may be advantageous in cases where you know something about the entanglement of the target state of your system.\n",
    "\n",
    "To make your own ansatz, you simply construct a quantum circuit with some subset of gates being functions of elements of a parameter vector (\"theta\" in the three-qubit example below)."
   ]
  },
  {
   "cell_type": "code",
   "execution_count": null,
   "id": "1e7ad487-fc57-4c76-abb2-6279695fab5f",
   "metadata": {},
   "outputs": [
    {
     "name": "stdout",
     "output_type": "stream",
     "text": [
      "9\n"
     ]
    },
    {
     "data": {
      "text/plain": [
       "<Image src=\"/learning/images/courses/quantum-chem-with-vqe/ansatz/extracted-outputs/1e7ad487-fc57-4c76-abb2-6279695fab5f-1.avif\" alt=\"Output of the previous code cell\" />"
      ]
     },
     "execution_count": 60,
     "metadata": {},
     "output_type": "execute_result"
    }
   ],
   "source": [
    "from qiskit import QuantumCircuit\n",
    "from qiskit.circuit import ParameterVector\n",
    "\n",
    "n = 3\n",
    "\n",
    "theta = ParameterVector(\"θ\", length=n)\n",
    "qc = QuantumCircuit(n)\n",
    "qc.h(0)\n",
    "qc.h(2)\n",
    "for i in range(n - 1):\n",
    "    qc.cx(i, i + 1)\n",
    "qc.cz(0, n - 1)\n",
    "qc.barrier()\n",
    "for i in range(n):\n",
    "    qc.ry(theta[i], i)\n",
    "qc.barrier()\n",
    "qc.cz(0, n - 1)\n",
    "for i in reversed(range(n - 1)):\n",
    "    qc.cx(i, i + 1)\n",
    "qc.h(0)\n",
    "qc.h(1)\n",
    "own_ansatz = qc\n",
    "print(own_ansatz.depth())\n",
    "qc.draw(\"mpl\")"
   ]
  },
  {
   "cell_type": "markdown",
   "id": "ffd6d7de",
   "metadata": {},
   "source": [
    "Generally, selecting the best ansatz is an art; the best ansatz is whatever ansatz helps you reach your target in the fewest optimization steps. It is easier to identify ansaetze that are likely to be bad. For example, greater circuit depth tends to result in accumulation of errors. Error mitigation can help with this, but it is a good practice to keep the circuit depth as low as is reasonable. But don't skip entanglement that is necessary. You might have a target state that requires a full entanglement scheme. Two examples are shown below that are likely to be poor choices for fairly obvious reasons. Choosing a good ansatz will be revisited in later sections in the context of convergence tests.\n",
    "\n",
    "This first circuit is likely to be a poor choice because the last qubit is not entangled with the others at all. Indeed there is no computationally meaningful action on the last qubit. In all likelihood, the last qubit should either be entangled with the others or removed from the calculation."
   ]
  },
  {
   "cell_type": "code",
   "execution_count": null,
   "id": "f8ef9c33",
   "metadata": {},
   "outputs": [
    {
     "name": "stdout",
     "output_type": "stream",
     "text": [
      "9\n"
     ]
    },
    {
     "data": {
      "text/plain": [
       "<Image src=\"/learning/images/courses/quantum-chem-with-vqe/ansatz/extracted-outputs/f8ef9c33-1.avif\" alt=\"Output of the previous code cell\" />"
      ]
     },
     "execution_count": 63,
     "metadata": {},
     "output_type": "execute_result"
    }
   ],
   "source": [
    "n = 4\n",
    "\n",
    "theta = ParameterVector(\"θ\", length=n)\n",
    "qc = QuantumCircuit(n)\n",
    "qc.h(0)\n",
    "qc.h(2)\n",
    "for i in range(n - 2):\n",
    "    qc.cx(i, i + 1)\n",
    "qc.cz(0, n - 2)\n",
    "qc.barrier()\n",
    "for i in range(n):\n",
    "    qc.ry(theta[i], i)\n",
    "qc.barrier()\n",
    "qc.cz(0, n - 2)\n",
    "for i in reversed(range(n - 2)):\n",
    "    qc.cx(i, i + 1)\n",
    "qc.h(0)\n",
    "qc.h(1)\n",
    "own_ansatz2 = qc\n",
    "print(own_ansatz2.depth())\n",
    "qc.draw(\"mpl\")"
   ]
  },
  {
   "cell_type": "markdown",
   "id": "ab9f9a74",
   "metadata": {},
   "source": [
    "This last circuit is likely a poor choice, because the gate depth is very high, and repeating the entanglement layer four times is not likely to yield a substantially better match to the target state than two or three repetitions."
   ]
  },
  {
   "cell_type": "code",
   "execution_count": 66,
   "id": "73627a8d",
   "metadata": {},
   "outputs": [
    {
     "name": "stdout",
     "output_type": "stream",
     "text": [
      "24\n"
     ]
    },
    {
     "data": {
      "text/plain": [
       "<Image src=\"/learning/images/courses/quantum-chem-with-vqe/ansatz/extracted-outputs/73627a8d-1.avif\" alt=\"Output of the previous code cell\" />"
      ]
     },
     "execution_count": 66,
     "metadata": {},
     "output_type": "execute_result"
    }
   ],
   "source": [
    "SU2_ansatz_long = EfficientSU2(\n",
    "    4, su2_gates=[\"rx\", \"y\", \"z\"], entanglement=\"linear\", reps=4\n",
    ")\n",
    "print(SU2_ansatz_long.decompose().depth())\n",
    "SU2_ansatz_long.decompose().draw(output=\"mpl\")"
   ]
  },
  {
   "cell_type": "markdown",
   "id": "3eea1998",
   "metadata": {},
   "source": [
    "These circuits are not \"complete\" in the sense that there are still unknown and variable parameters to be inserted into many of the gates. Those parameters are chosen by making successive guesses, and updating parameters to lower the expectation value of the cost function (in the chemistry context, typically the ground state energy). In one, or even a few dimensions, this is trivial. But the circuit above has 20 variational parameters, meaning that finding the target state with the minimal energy means searching a 20-dimensional state (another reason not to include unnecessary circuit gates). This is where classical optimizing algorithms come into play, and that is the subject of the next lesson."
   ]
  }
 ],
 "metadata": {
  "description": "This lesson describes a variational quantum circuit called an ansatz. Both pre-built and custom-built circuits are explored.",
  "kernelspec": {
   "display_name": "Python 3",
   "language": "python",
   "name": "python3"
  },
  "language_info": {
   "codemirror_mode": {
    "name": "ipython",
    "version": 3
   },
   "file_extension": ".py",
   "mimetype": "text/x-python",
   "name": "python",
   "nbconvert_exporter": "python",
   "pygments_lexer": "ipython3",
   "version": "3"
  },
  "title": "Ansatz",
  "widgets": {
   "application/vnd.jupyter.widget-state+json": {
    "state": {},
    "version_major": 2,
    "version_minor": 0
   }
  }
 },
 "nbformat": 4,
 "nbformat_minor": 5
}
