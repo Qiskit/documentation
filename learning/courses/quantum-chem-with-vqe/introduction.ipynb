{
 "cells": [
  {
   "cell_type": "markdown",
   "id": "6ea5f310",
   "metadata": {},
   "source": [
    "{/* cspell:ignore Lipinska allowfullscreen webkitallowfullscreen mozallowfullscreen oallowfullscreen msallowfullscreen referrerpolicy Fedorov */}\n",
    "\n",
    "# Introduction\n",
    "\n",
    "Before beginning, please complete this short [pre-course survey](https://your.feedback.ibm.com/jfe/form/SV_ePXDhFWwqj4Q0HY), which is important to help improve our content offerings and user experience.\n",
    "\n",
    "This course is a focused introduction to the variational quantum eigensolver (VQE), including the application of VQE to chemistry. The course is intended for technical practitioners of quantum computing who are interested in applying quantum computing to chemical, biochemical, or biophysical problems. This course covers important elements of a VQE calculation, including these:\n",
    "\n",
    "* Hamiltonian\n",
    "* Ansatz\n",
    "* Classical optimizer\n",
    "\n",
    "All these elements are brought together to build VQE calculations on Qiskit Runtime Primitives, primarily Estimator. For information about primitives see the [documentation](/docs/guides/primitives). In setting up a VQE calculation, we will follow the standard Qiskit patterns framework:\n",
    "\n",
    "* Map classical inputs to a quantum problem\n",
    "* Optimize problem for quantum execution\n",
    "* Execute using Qiskit Runtime primitives\n",
    "* Post-process, return result in classical format\n",
    "\n",
    "Some explanation of the framework will be found throughout this course, but for a complete explanation with examples of Qiskit patterns, see [this documentation](/docs/guides/intro-to-patterns).\n",
    "\n",
    "We recommend planning to devote approximately 6-10 hours to the completion of this course. The videos and reading are likely to take two hours to complete. The remaining time is for executing and modifying code cells, completing quiz questions, and reading linked documentation.\n",
    "\n",
    "IBM Quantum&reg; has other upskilling offerings related to VQE. If you are already familiar with the components of VQE and simply wish to put it into practice, see our tutorial: [Variational Quantum Eigensolver](/docs/tutorials/variational-quantum-eigensolver).\n",
    "\n",
    "## Overview of VQE\n",
    "\n",
    "Let's begin our study of VQE by watching this overview video, presented by the IBM Quantum Americas Lead for Quantum Innovation Centers, Dr. Victoria Lipinska.\n",
    "\n",
    "You will learn what VQE is, what it can do, and why it is likely to be useful in the near-term over other quantum computing algorithms.\n",
    "\n",
    "<IBMVideo id=\"132414895\" title=\"Victoria Lipinska gives an overview of VQE, what it can do, and why it is likely to be useful in the near-term.\"/>\n",
    "\n",
    "**References**\n",
    "\n",
    "The following articles are referenced in the above video.\n",
    "* [Medium blog post explaining VQE](https://towardsdatascience.com/the-variational-quantum-eigensolver-explained-adcbc9659c3a)\n",
    "* [What problem does a variational quantum eigensolver solve?](https://pyqml.medium.com/what-problem-does-a-variational-quantum-eigensolver-solve-3b91c47af23b)\n",
    "* [The comprehensive guide to the variational quantum eigensolver](https://pyqml.medium.com/the-comprehensive-guide-to-the-variational-quantum-eigensolver-ee6775e8279e)\n",
    "* [Examples of problems solved with VQE](https://medium.com/qiskit/the-variational-quantum-eigensolver-43f7718c2747)\n",
    "* [VQE method: a short survey and recent developments, Fedorov, et al.](https://materialstheory.springeropen.com/articles/10.1186/s41313-021-00032-6)"
   ]
  }
 ],
 "metadata": {
  "description": "A brief introduction to the course structure, intended audience, and to the variational quantum eigensolver.",
  "kernelspec": {
   "display_name": "Python 3",
   "language": "python",
   "name": "python3"
  },
  "language_info": {
   "codemirror_mode": {
    "name": "ipython",
    "version": 3
   },
   "file_extension": ".py",
   "mimetype": "text/x-python",
   "name": "python",
   "nbconvert_exporter": "python",
   "pygments_lexer": "ipython3",
   "version": "3"
  },
  "title": "Introduction"
 },
 "nbformat": 4,
 "nbformat_minor": 5
}
