{
 "cells": [
  {
   "cell_type": "markdown",
   "id": "de193554-b271-4295-95e4-8904f0f6ee8a",
   "metadata": {},
   "source": [
    "{/* cspell:ignore webkitallowfullscreen allowfullscreen frameborder referrerpolicy Lipinska Pellow Jarman Tilly Ardle Expressibility Arrasmith mcscf chmax Dmax vmax */}\n",
    "\n",
    "# Classical Optimizers\n",
    "\n",
    "## What is an optimizer?\n",
    "\n",
    "Victoria Lipinska tells us about classical optimizers, and how they function as part of VQE.\n",
    "\n",
    "You will hear about a few example optimizers and how they perform in the presence and absence of noise.\n",
    "\n",
    "<iframe width=\"690\" height=\"390\" src=\"https://video.ibm.com/embed/recorded/132414916\"></iframe>\n",
    "\n",
    "**References**\n",
    "\n",
    "- [A Comparison of Various Classical Optimizers for a Variational Quantum Linear Solver, Pellow-Jarman, et al.](https://arxiv.org/pdf/2106.08682.pdf)\n",
    "- [The Variational Quantum Eigensolver: A review of methods and best practices, Tilly, et al.](https://arxiv.org/abs/2111.05176)\n",
    "- [Quantum computational chemistry, McArdle, et al.](https://arxiv.org/pdf/1808.10402.pdf)\n",
    "- [Barren plateaus in quantum neural network training landscapes, McClean, et al.](https://arxiv.org/pdf/1803.11173.pdf)\n",
    "- [Connecting Ansatz Expressibility to Gradient Magnitudes and Barren Plateaus, Holmes, et al.](https://journals.aps.org/prxquantum/pdf/10.1103/PRXQuantum.3.010313)\n",
    "- [Effect of barren plateaus on gradient-free optimization, Arrasmith, et al.](https://arxiv.org/pdf/2011.12245.pdf)"
   ]
  },
  {
   "cell_type": "markdown",
   "id": "346d8a5f-9430-4a97-88ba-6ce6b408559e",
   "metadata": {},
   "source": [
    "## Coding a classical optimizer\n",
    "\n",
    "In the previous lessons you learned to make a Hamiltonian suitable for use on a quantum computer, and learned how to make a variational circuit. You also learned that the variational circuit (or ansatz) contains parameters to be varied, and the optimal choice of parameters is what yields the lowest possible cost function or energy. Thus our problem is reduced to searching parameter space for the optimal set. Most of the work in classical optimizers has been done for us, as excellent optimizers are available from any number of sources.\n",
    "\n",
    "In this lesson you will learn\n",
    "- how classical optimizers fit into a VQE calculation\n",
    "- what classical optimizers are available from SciPy\n",
    "- what optimizers are __not__ yet available through SciPy and how to supplement in the meantime using qiskit.algorithms\n",
    "- what options are available for these optimizers and the significance for quantum computing\n",
    "\n",
    "[SciPy](https://scipy.org/) is a free, open-source Python library with packages relevant to many areas of scientific computing, optimization among them. In particular, SciPy has an optimization package that includes [minimize](https://docs.scipy.org/doc/scipy/reference/generated/scipy.optimize.minimize.html):\n",
    "\n",
    "```from scipy.optimize import minimize```"
   ]
  },
  {
   "cell_type": "markdown",
   "id": "5f8afd6d-5596-46e3-b5fc-de282d0b53f0",
   "metadata": {},
   "source": [
    "This minimize function has several arguments, and in the context of quantum chemistry, they will be\n",
    "- the cost function (cost_func). This is related to the Hamiltonian, but also includes some complexities such as the determination of the expectation value using Estimator, and in the case of excited state calculations may include orthogonality conditions.\n",
    "- an initial state (x0) for the system, often the Hartree Fock state\n",
    "- other arguments, including arguments of the cost function itself\n",
    "- the method set to the classical optimizer you select\n",
    "- options for the classical optimizer (not to be confused with Session options discussed in the next section)\n",
    "\n",
    "An example syntax is shown below. We restrict our discussion here to the last two arguments.\n",
    "\n",
    "\n",
    "```minimize(\n",
    "    cost_func,\n",
    "    x0,\n",
    "    args=(ansatz, hamiltonian, estimator),\n",
    "    method=\"cobyla\",\n",
    "    options={\"maxiter\": 200})\n",
    "```"
   ]
  },
  {
   "cell_type": "code",
   "execution_count": null,
   "id": "0a5d39bd-8c26-404f-8057-c29e3af70df4",
   "metadata": {},
   "outputs": [],
   "source": [
    "from qiskit.quantum_info import SparsePauliOp\n",
    "import numpy as np\n",
    "\n",
    "\n",
    "def cholesky(V, eps):\n",
    "    # see https://arxiv.org/pdf/1711.02242.pdf section B2\n",
    "    # see https://arxiv.org/abs/1808.02625\n",
    "    # see https://arxiv.org/abs/2104.08957\n",
    "    no = V.shape[0]\n",
    "    chmax, ng = 20 * no, 0\n",
    "    W = V.reshape(no**2, no**2)\n",
    "    L = np.zeros((no**2, chmax))\n",
    "    Dmax = np.diagonal(W).copy()\n",
    "    nu_max = np.argmax(Dmax)\n",
    "    vmax = Dmax[nu_max]\n",
    "    while vmax > eps:\n",
    "        L[:, ng] = W[:, nu_max]\n",
    "        if ng > 0:\n",
    "            L[:, ng] -= np.dot(L[:, 0:ng], (L.T)[0:ng, nu_max])\n",
    "        L[:, ng] /= np.sqrt(vmax)\n",
    "        Dmax[: no**2] -= L[: no**2, ng] ** 2\n",
    "        ng += 1\n",
    "        nu_max = np.argmax(Dmax)\n",
    "        vmax = Dmax[nu_max]\n",
    "    L = L[:, :ng].reshape((no, no, ng))\n",
    "    print(\n",
    "        \"accuracy of Cholesky decomposition \",\n",
    "        np.abs(np.einsum(\"prg,qsg->prqs\", L, L) - V).max(),\n",
    "    )\n",
    "    return L, ng\n",
    "\n",
    "\n",
    "def identity(n):\n",
    "    return SparsePauliOp.from_list([(\"I\" * n, 1)])\n",
    "\n",
    "\n",
    "def creators_destructors(n, mapping=\"jordan_wigner\"):\n",
    "    c_list = []\n",
    "    if mapping == \"jordan_wigner\":\n",
    "        for p in range(n):\n",
    "            if p == 0:\n",
    "                ell, r = \"I\" * (n - 1), \"\"\n",
    "            elif p == n - 1:\n",
    "                ell, r = \"\", \"Z\" * (n - 1)\n",
    "            else:\n",
    "                ell, r = \"I\" * (n - p - 1), \"Z\" * p\n",
    "            cp = SparsePauliOp.from_list([(ell + \"X\" + r, 0.5), (ell + \"Y\" + r, -0.5j)])\n",
    "            c_list.append(cp)\n",
    "    else:\n",
    "        raise ValueError(\"Unsupported mapping.\")\n",
    "    d_list = [cp.adjoint() for cp in c_list]\n",
    "    return c_list, d_list"
   ]
  },
  {
   "cell_type": "markdown",
   "id": "40e25b54-7927-4dbb-a26f-1c6b33f7f349",
   "metadata": {},
   "source": [
    "Now to define our Hamiltonian, we will use PySCF exactly as in the previous example, but now we will include a variable \"x\" to play the role of our interatomic distance. This will return the core energy, single-electron energy, and two-electron energies as before."
   ]
  }
 ],
 "metadata": {
  "description": "In this lesson we vary the geometry of a simple molecule, minimizing the energy at each step.",
  "kernelspec": {
   "display_name": "Python 3",
   "language": "python",
   "name": "python3"
  },
  "language_info": {
   "codemirror_mode": {
    "name": "ipython",
    "version": 3
   },
   "file_extension": ".py",
   "mimetype": "text/x-python",
   "name": "python",
   "nbconvert_exporter": "python",
   "pygments_lexer": "ipython3",
   "version": "3"
  },
  "title": "Molecular geometry"
 },
 "nbformat": 4,
 "nbformat_minor": 2
}
