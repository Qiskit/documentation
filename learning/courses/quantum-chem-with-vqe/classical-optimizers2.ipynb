{
 "cells": [
  {
   "cell_type": "markdown",
   "id": "de193554-b271-4295-95e4-8904f0f6ee8a",
   "metadata": {},
   "source": [
    "{/* cspell:ignore webkitallowfullscreen allowfullscreen frameborder referrerpolicy Lipinska Pellow Jarman Tilly Ardle Expressibility Arrasmith mcscf chmax Dmax vmax */}\n",
    "\n",
    "# Classical Optimizers\n",
    "\n",
    "## What is an optimizer?\n",
    "\n",
    "Victoria Lipinska tells us about classical optimizers, and how they function as part of VQE.\n",
    "\n",
    "You will hear about a few example optimizers and how they perform in the presence and absence of noise.\n",
    "\n",
    "<iframe width=\"690\" height=\"390\" src=\"https://video.ibm.com/embed/recorded/132414916\"></iframe>\n",
    "\n",
    "**References**\n",
    "\n",
    "- [A Comparison of Various Classical Optimizers for a Variational Quantum Linear Solver, Pellow-Jarman, et al.](https://arxiv.org/pdf/2106.08682.pdf)\n",
    "- [The Variational Quantum Eigensolver: A review of methods and best practices, Tilly, et al.](https://arxiv.org/abs/2111.05176)\n",
    "- [Quantum computational chemistry, McArdle, et al.](https://arxiv.org/pdf/1808.10402.pdf)\n",
    "- [Barren plateaus in quantum neural network training landscapes, McClean, et al.](https://arxiv.org/pdf/1803.11173.pdf)\n",
    "- [Connecting Ansatz Expressibility to Gradient Magnitudes and Barren Plateaus, Holmes, et al.](https://journals.aps.org/prxquantum/pdf/10.1103/PRXQuantum.3.010313)\n",
    "- [Effect of barren plateaus on gradient-free optimization, Arrasmith, et al.](https://arxiv.org/pdf/2011.12245.pdf)"
   ]
  },
  {
   "cell_type": "code",
   "execution_count": null,
   "id": "0a5d39bd-8c26-404f-8057-c29e3af70df4",
   "metadata": {},
   "outputs": [],
   "source": [
    "from qiskit.quantum_info import SparsePauliOp\n",
    "import matplotlib.pyplot as plt\n",
    "import numpy as np\n",
    "\n",
    "\n",
    "def cholesky(V, eps):\n",
    "    # see https://arxiv.org/pdf/1711.02242.pdf section B2\n",
    "    # see https://arxiv.org/abs/1808.02625\n",
    "    # see https://arxiv.org/abs/2104.08957\n",
    "    no = V.shape[0]\n",
    "    chmax, ng = 20 * no, 0\n",
    "    W = V.reshape(no**2, no**2)\n",
    "    L = np.zeros((no**2, chmax))\n",
    "    Dmax = np.diagonal(W).copy()\n",
    "    nu_max = np.argmax(Dmax)\n",
    "    vmax = Dmax[nu_max]\n",
    "    while vmax > eps:\n",
    "        L[:, ng] = W[:, nu_max]\n",
    "        if ng > 0:\n",
    "            L[:, ng] -= np.dot(L[:, 0:ng], (L.T)[0:ng, nu_max])\n",
    "        L[:, ng] /= np.sqrt(vmax)\n",
    "        Dmax[: no**2] -= L[: no**2, ng] ** 2\n",
    "        ng += 1\n",
    "        nu_max = np.argmax(Dmax)\n",
    "        vmax = Dmax[nu_max]\n",
    "    L = L[:, :ng].reshape((no, no, ng))\n",
    "    print(\n",
    "        \"accuracy of Cholesky decomposition \",\n",
    "        np.abs(np.einsum(\"prg,qsg->prqs\", L, L) - V).max(),\n",
    "    )\n",
    "    return L, ng\n",
    "\n",
    "\n",
    "def identity(n):\n",
    "    return SparsePauliOp.from_list([(\"I\" * n, 1)])\n",
    "\n",
    "\n",
    "def creators_destructors(n, mapping=\"jordan_wigner\"):\n",
    "    c_list = []\n",
    "    if mapping == \"jordan_wigner\":\n",
    "        for p in range(n):\n",
    "            if p == 0:\n",
    "                ell, r = \"I\" * (n - 1), \"\"\n",
    "            elif p == n - 1:\n",
    "                ell, r = \"\", \"Z\" * (n - 1)\n",
    "            else:\n",
    "                ell, r = \"I\" * (n - p - 1), \"Z\" * p\n",
    "            cp = SparsePauliOp.from_list([(ell + \"X\" + r, 0.5), (ell + \"Y\" + r, -0.5j)])\n",
    "            c_list.append(cp)\n",
    "    else:\n",
    "        raise ValueError(\"Unsupported mapping.\")\n",
    "    d_list = [cp.adjoint() for cp in c_list]\n",
    "    return c_list, d_list"
   ]
  },
  {
   "cell_type": "markdown",
   "id": "40e25b54-7927-4dbb-a26f-1c6b33f7f349",
   "metadata": {},
   "source": [
    "Now to define our Hamiltonian, we will use PySCF exactly as in the previous example, but now we will include a variable \"x\" to play the role of our interatomic distance. This will return the core energy, single-electron energy, and two-electron energies as before."
   ]
  }
 ],
 "metadata": {
  "description": "In this lesson we vary the geometry of a simple molecule, minimizing the energy at each step.",
  "kernelspec": {
   "display_name": "Python 3",
   "language": "python",
   "name": "python3"
  },
  "language_info": {
   "codemirror_mode": {
    "name": "ipython",
    "version": 3
   },
   "file_extension": ".py",
   "mimetype": "text/x-python",
   "name": "python",
   "nbconvert_exporter": "python",
   "pygments_lexer": "ipython3",
   "version": "3"
  },
  "title": "Molecular geometry"
 },
 "nbformat": 4,
 "nbformat_minor": 2
}
