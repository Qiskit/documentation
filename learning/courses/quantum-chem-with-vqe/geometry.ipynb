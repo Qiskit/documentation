{
 "cells": [
  {
   "cell_type": "markdown",
   "id": "de193554-b271-4295-95e4-8904f0f6ee8a",
   "metadata": {},
   "source": [
    "{/* cspell:ignore mcscf chmax Dmax vmax ecore ncas Excp disp */}\n",
    "\n",
    "# Determining a molecular geometry\n",
    "\n",
    "In the previous section, we implemented VQE to determine the ground state energy of a molecule. That is a valid use of quantum computing, but even more useful would be to determine the structure of a molecule.\n",
    "\n",
    "It is recommended that you run this code in your own Python environment. The code is provided in this [notebook](https://learning-api.quantum.ibm.com/assets/1ff59c06-3e8a-4e81-9d9b-c649d1d41ade.ipynb).\n",
    "\n",
    "## Step 1: Map classical inputs to a quantum problem\n",
    "\n",
    "Remaining with our basic example of diatomic hydrogen, the only geometric parameter to vary is the bond length. To accomplish this, we proceed as before, but using a variable in our initial molecule construction (a bond length, *x*, in the argument). This is a fairly simple change, but it does require that the variable be included in functions throughout the process, since it starts in the fermionic Hamiltonian construction and propagates through the mapping and finally to the cost function.\n",
    "\n",
    "First, we load some of the packages we used before and define the Cholesky function."
   ]
  },
  {
   "cell_type": "code",
   "execution_count": null,
   "id": "0a5d39bd-8c26-404f-8057-c29e3af70df4",
   "metadata": {},
   "outputs": [],
   "source": [
    "from qiskit.quantum_info import SparsePauliOp\n",
    "import matplotlib.pyplot as plt\n",
    "import numpy as np\n",
    "\n",
    "#!pip install pyscf==2.4.0\n",
    "from pyscf import ao2mo, gto, mcscf, scf\n",
    "\n",
    "\n",
    "def cholesky(V, eps):\n",
    "    # see https://arxiv.org/pdf/1711.02242.pdf section B2\n",
    "    # see https://arxiv.org/abs/1808.02625\n",
    "    # see https://arxiv.org/abs/2104.08957\n",
    "    no = V.shape[0]\n",
    "    chmax, ng = 20 * no, 0\n",
    "    W = V.reshape(no**2, no**2)\n",
    "    L = np.zeros((no**2, chmax))\n",
    "    Dmax = np.diagonal(W).copy()\n",
    "    nu_max = np.argmax(Dmax)\n",
    "    vmax = Dmax[nu_max]\n",
    "    while vmax > eps:\n",
    "        L[:, ng] = W[:, nu_max]\n",
    "        if ng > 0:\n",
    "            L[:, ng] -= np.dot(L[:, 0:ng], (L.T)[0:ng, nu_max])\n",
    "        L[:, ng] /= np.sqrt(vmax)\n",
    "        Dmax[: no**2] -= L[: no**2, ng] ** 2\n",
    "        ng += 1\n",
    "        nu_max = np.argmax(Dmax)\n",
    "        vmax = Dmax[nu_max]\n",
    "    L = L[:, :ng].reshape((no, no, ng))\n",
    "    print(\n",
    "        \"accuracy of Cholesky decomposition \",\n",
    "        np.abs(np.einsum(\"prg,qsg->prqs\", L, L) - V).max(),\n",
    "    )\n",
    "    return L, ng\n",
    "\n",
    "\n",
    "def identity(n):\n",
    "    return SparsePauliOp.from_list([(\"I\" * n, 1)])\n",
    "\n",
    "\n",
    "def creators_destructors(n, mapping=\"jordan_wigner\"):\n",
    "    c_list = []\n",
    "    if mapping == \"jordan_wigner\":\n",
    "        for p in range(n):\n",
    "            if p == 0:\n",
    "                ell, r = \"I\" * (n - 1), \"\"\n",
    "            elif p == n - 1:\n",
    "                ell, r = \"\", \"Z\" * (n - 1)\n",
    "            else:\n",
    "                ell, r = \"I\" * (n - p - 1), \"Z\" * p\n",
    "            cp = SparsePauliOp.from_list([(ell + \"X\" + r, 0.5), (ell + \"Y\" + r, -0.5j)])\n",
    "            c_list.append(cp)\n",
    "    else:\n",
    "        raise ValueError(\"Unsupported mapping.\")\n",
    "    d_list = [cp.adjoint() for cp in c_list]\n",
    "    return c_list, d_list"
   ]
  },
  {
   "cell_type": "markdown",
   "id": "40e25b54-7927-4dbb-a26f-1c6b33f7f349",
   "metadata": {},
   "source": [
    "Now to define our Hamiltonian, we will use PySCF exactly as in the previous example, but now we will include a variable, `x`, to play the role of our interatomic distance. This will return the core energy, single-electron energy, and two-electron energies as before."
   ]
  },
  {
   "cell_type": "code",
   "execution_count": null,
   "id": "dbd10d0c-feb1-4a86-9bd9-b61101a08b95",
   "metadata": {},
   "outputs": [],
   "source": [
    "def ham_terms(x: float):\n",
    "    distance = x\n",
    "    a = distance / 2\n",
    "    mol = gto.Mole()\n",
    "    mol.build(\n",
    "        verbose=0,\n",
    "        atom=[\n",
    "            [\"H\", (0, 0, -a)],\n",
    "            [\"H\", (0, 0, a)],\n",
    "        ],\n",
    "        basis=\"sto-6g\",\n",
    "        spin=0,\n",
    "        charge=0,\n",
    "        symmetry=\"Dooh\",\n",
    "    )\n",
    "\n",
    "    mf = scf.RHF(mol)\n",
    "    mx = mcscf.CASCI(mf, ncas=2, nelecas=(1, 1))\n",
    "\n",
    "    # Other variables that might come in handy:\n",
    "    # active_space = range(mol.nelectron // 2 - 1, mol.nelectron // 2 + 1)\n",
    "    #    E1 = mf.kernel()\n",
    "    # mo = mx.sort_mo(active_space, base=0)\n",
    "    #    E2 = mx.kernel(mo)[:2]\n",
    "\n",
    "    h1e, ecore = mx.get_h1eff()\n",
    "    h2e = ao2mo.restore(1, mx.get_h2eff(), mx.ncas)\n",
    "    return ecore, h1e, h2e"
   ]
  },
  {
   "cell_type": "markdown",
   "id": "db49a702-e60e-4c9b-8ff2-94aa2ada022c",
   "metadata": {},
   "source": [
    "Recall that the construction above is making a fermionic Hamiltonian based on the atomic species, geometry, and electronic orbitals. Below, we map this fermionic Hamiltonian onto Pauli operators. This `build_hamiltonian` function will also include a geometric variable as an argument."
   ]
  },
  {
   "cell_type": "code",
   "execution_count": 3,
   "id": "84e6a56b-eaea-4c0a-8502-567cfc5140a2",
   "metadata": {},
   "outputs": [],
   "source": [
    "def build_hamiltonian(distx: float) -> SparsePauliOp:\n",
    "    ecore = ham_terms(distx)[0]\n",
    "    h1e = ham_terms(distx)[1]\n",
    "    h2e = ham_terms(distx)[2]\n",
    "\n",
    "    ncas, _ = h1e.shape\n",
    "\n",
    "    C, D = creators_destructors(2 * ncas, mapping=\"jordan_wigner\")\n",
    "    Exc = []\n",
    "    for p in range(ncas):\n",
    "        Excp = [C[p] @ D[p] + C[ncas + p] @ D[ncas + p]]\n",
    "        for r in range(p + 1, ncas):\n",
    "            Excp.append(\n",
    "                C[p] @ D[r]\n",
    "                + C[ncas + p] @ D[ncas + r]\n",
    "                + C[r] @ D[p]\n",
    "                + C[ncas + r] @ D[ncas + p]\n",
    "            )\n",
    "        Exc.append(Excp)\n",
    "\n",
    "    # low-rank decomposition of the Hamiltonian\n",
    "    Lop, ng = cholesky(h2e, 1e-6)\n",
    "    t1e = h1e - 0.5 * np.einsum(\"pxxr->pr\", h2e)\n",
    "\n",
    "    H = ecore * identity(2 * ncas)\n",
    "    # one-body term\n",
    "    for p in range(ncas):\n",
    "        for r in range(p, ncas):\n",
    "            H += t1e[p, r] * Exc[p][r - p]\n",
    "    # two-body term\n",
    "    for g in range(ng):\n",
    "        Lg = 0 * identity(2 * ncas)\n",
    "        for p in range(ncas):\n",
    "            for r in range(p, ncas):\n",
    "                Lg += Lop[p, r, g] * Exc[p][r - p]\n",
    "        H += 0.5 * Lg @ Lg\n",
    "\n",
    "    return H.chop().simplify()"
   ]
  },
  {
   "cell_type": "markdown",
   "id": "ffcb2569-f832-4fa9-a8bb-d7626c2a233d",
   "metadata": {},
   "source": [
    "We will load the remaining packages for running VQE itself, such as the EfficientSU2 ansatz, and Scipy minimizers:"
   ]
  },
  {
   "cell_type": "code",
   "execution_count": 4,
   "id": "5f8dd8e0-6dfb-4be7-af15-1591f569201c",
   "metadata": {},
   "outputs": [],
   "source": [
    "# General imports\n",
    "\n",
    "# Pre-defined ansatz circuit and operator class for Hamiltonian\n",
    "from qiskit.circuit.library import EfficientSU2\n",
    "from qiskit.quantum_info import SparsePauliOp\n",
    "\n",
    "# SciPy minimizer routine\n",
    "from scipy.optimize import minimize\n",
    "\n",
    "# Plotting functions\n",
    "\n",
    "# Qiskit Runtime tools\n",
    "from qiskit_ibm_runtime import QiskitRuntimeService\n",
    "\n",
    "service = QiskitRuntimeService(channel=\"ibm_quantum\")"
   ]
  },
  {
   "cell_type": "markdown",
   "id": "f94c1680-9c2a-4585-a63e-a49da4eb02f3",
   "metadata": {},
   "source": [
    "We will again define the cost function, but this always took a fully-built and mapped Hamiltonian as an argument, so nothing changes about this function."
   ]
  },
  {
   "cell_type": "code",
   "execution_count": 5,
   "id": "0a80ad8c-a9cb-4cab-835d-f65131b99c87",
   "metadata": {},
   "outputs": [],
   "source": [
    "def cost_func(params, ansatz, H, estimator):\n",
    "    pub = (ansatz, [H], [params])\n",
    "    result = estimator.run(pubs=[pub]).result()\n",
    "    energy = result[0].data.evs[0]\n",
    "    return energy\n",
    "\n",
    "\n",
    "# def cost_func_sim(params, ansatz, H, estimator):\n",
    "#    energy = estimator.run(ansatz, H, parameter_values=params).result().values[0]\n",
    "#    return energy"
   ]
  },
  {
   "cell_type": "markdown",
   "id": "a068e645-8dfb-4e9c-b1b1-7dd936808188",
   "metadata": {},
   "source": [
    "## Step 2: Optimize problem for quantum execution\n",
    "\n",
    "Because the Hamiltonian will change with each new geometry, the transpiling of the operator will change at each step. We can nevertheless define a general pass manager to be applied at each step, specific to the hardware we want to use.\n",
    "\n",
    "Here we will use the least busy backend available. We will use that backend as a model for our AerSimulator, allowing our simulator to mimic, for example, the noise behavior of the real backend. These noise models are not perfect, but they may help you know what to expect from real hardware."
   ]
  },
  {
   "cell_type": "code",
   "execution_count": null,
   "id": "1619502e-2d84-4bc7-b578-0ff291ee62a3",
   "metadata": {},
   "outputs": [
    {
     "name": "stdout",
     "output_type": "stream",
     "text": [
      "<IBMBackend('ibm_cusco')>\n"
     ]
    }
   ],
   "source": [
    "# Here, we select the least busy backend available:\n",
    "backend = service.least_busy(operational=True, simulator=False)\n",
    "print(backend)\n",
    "# Or to select a specific real backend use the line below, and substitute 'ibmq_kolkata' for your chosen device.\n",
    "# backend = service.get_backend('ibmq_kolkata')"
   ]
  },
  {
   "cell_type": "code",
   "execution_count": null,
   "id": "e67fc84a-431b-4efd-937f-49c8b7ac3abb",
   "metadata": {},
   "outputs": [],
   "source": [
    "# To run on a simulator:\n",
    "# -----------\n",
    "from qiskit_aer import AerSimulator\n",
    "\n",
    "backend_sim = AerSimulator.from_backend(backend)\n",
    "\n",
    "# To simulate without noise use below, with non-isa ansatz and Hamiltonian:\n",
    "# from qiskit.primitives import StatevectorEstimator as Estimator\n",
    "# estimator = Estimator()"
   ]
  },
  {
   "cell_type": "markdown",
   "id": "0636c55f-f46f-46ca-acaf-72bcc2f5f663",
   "metadata": {},
   "source": [
    "We import the pass manager and related packages to help us optimize our circuit. This step, and the one above it, are independent of the Hamiltonian, and so are unchanged from the previous lesson."
   ]
  },
  {
   "cell_type": "code",
   "execution_count": 15,
   "id": "8202332e-69ca-4049-af27-e98a77f15a5d",
   "metadata": {},
   "outputs": [],
   "source": [
    "from qiskit.transpiler import PassManager\n",
    "from qiskit.transpiler.preset_passmanagers import generate_preset_pass_manager\n",
    "from qiskit.transpiler.passes import (\n",
    "    ALAPScheduleAnalysis,\n",
    "    PadDynamicalDecoupling,\n",
    "    ConstrainedReschedule,\n",
    ")\n",
    "from qiskit.circuit.library import XGate\n",
    "\n",
    "target = backend.target\n",
    "pm = generate_preset_pass_manager(target=target, optimization_level=3)\n",
    "pm.scheduling = PassManager(\n",
    "    [\n",
    "        ALAPScheduleAnalysis(target=target),\n",
    "        ConstrainedReschedule(target.acquire_alignment, target.pulse_alignment),\n",
    "        PadDynamicalDecoupling(\n",
    "            target=target,\n",
    "            dd_sequence=[XGate(), XGate()],\n",
    "            pulse_alignment=target.pulse_alignment,\n",
    "        ),\n",
    "    ]\n",
    ")"
   ]
  },
  {
   "cell_type": "markdown",
   "id": "4932ef5e-3c81-46a1-92cb-3082399734a0",
   "metadata": {},
   "source": [
    "## Step 3: Execute using Qiskit primitives.\n",
    "\n",
    "In the code block below, we set up an array to store our outputs from each step in our interatomic distance $x$. We have chosen the range of $x$ based on our knowledge of the experimental value for the equilibrium bond length: 0.74 Angstrom. We will run this first on a simulator, and will thus be importing our estimator (BackendEstimator) from `qiskit.primitives`. For each geometry step, we build the Hamiltonian and allow a certain number of optimization steps (here 500) using the optimizer \"cobyla\". At each geometry step, we store both the total energy and the electronic energy. Because of the high number of optimizer steps, this may take an hour or more. You may wish to modify the inputs below to reduce the required time."
   ]
  },
  {
   "cell_type": "code",
   "execution_count": null,
   "id": "4c41a221-8a02-4932-882b-5afcc98d1d8d",
   "metadata": {},
   "outputs": [],
   "source": [
    "from qiskit.primitives import BackendEstimatorV2\n",
    "\n",
    "estimator = BackendEstimatorV2(backend=backend_sim)\n",
    "\n",
    "distances_sim = np.arange(0.3, 1.3, 0.1)\n",
    "vqe_energies_sim = []\n",
    "vqe_elec_energies_sim = []\n",
    "\n",
    "for dist in distances_sim:\n",
    "    xx = dist\n",
    "\n",
    "    # Random initial state and EfficientSU2 ansatz\n",
    "    H = build_hamiltonian(xx)\n",
    "    ansatz = EfficientSU2(H.num_qubits)\n",
    "    ansatz_isa = pm.run(ansatz)\n",
    "    x0 = 2 * np.pi * np.random.random(ansatz_isa.num_parameters)\n",
    "    H_isa = H.apply_layout(ansatz_isa.layout)\n",
    "    nuclear_repulsion = ham_terms(xx)[0]\n",
    "\n",
    "    res = minimize(\n",
    "        cost_func,\n",
    "        x0,\n",
    "        args=(ansatz_isa, H_isa, estimator),\n",
    "        method=\"cobyla\",\n",
    "        options={\"maxiter\": 20, \"disp\": True},\n",
    "    )\n",
    "\n",
    "    # Note this returns the total energy, and we are often interested in the electronic energy\n",
    "    tot_energy = getattr(res, \"fun\")\n",
    "    electron_energy = getattr(res, \"fun\") - nuclear_repulsion\n",
    "    print(electron_energy)\n",
    "    vqe_energies_sim.append(tot_energy)\n",
    "    vqe_elec_energies_sim.append(electron_energy)\n",
    "\n",
    "    # Print all results\n",
    "    print(res)\n",
    "\n",
    "print(\"All energies have been calculated\")"
   ]
  },
  {
   "cell_type": "code",
   "execution_count": 9,
   "id": "bc6164ca-6909-4780-8009-6dc274c66268",
   "metadata": {},
   "outputs": [
    {
     "data": {
      "text/plain": [
       "0.3"
      ]
     },
     "execution_count": 9,
     "metadata": {},
     "output_type": "execute_result"
    }
   ],
   "source": [
    "xx"
   ]
  },
  {
   "cell_type": "markdown",
   "id": "633a2a89-950f-4d13-a56e-6adc079245ea",
   "metadata": {},
   "source": [
    "The results of this output are discussed below in the post-processing section; for now, simply note that the simulation was successful. Now you are ready to run on real hardware. We will set the resilience to `1`, indicating that TREX error mitigation will be used. Now that we are working with real hardware, we will use Qiskit Runtime, and Runtime primitives. Note that both the for loop related to geometry and also the multiple variational trials are inside the session.\n",
    "\n",
    "Because there are costs and time limits associated with real hardware runs, we have reduced the number of geometry steps and optimizer steps below. Please tailor these steps according to your precision goals and time limits."
   ]
  },
  {
   "cell_type": "code",
   "execution_count": null,
   "id": "b09744f5-87a9-4744-b495-cf993e5ffcb3",
   "metadata": {},
   "outputs": [],
   "source": [
    "# To continue running on real hardware use\n",
    "from qiskit_ibm_runtime import Session\n",
    "from qiskit_ibm_runtime import EstimatorV2 as Estimator\n",
    "from qiskit_ibm_runtime import EstimatorOptions\n",
    "\n",
    "estimator_options = EstimatorOptions(resilience_level=1, default_shots=2000)\n",
    "\n",
    "distances = np.arange(0.5, 0.9, 0.1)\n",
    "vqe_energies = []\n",
    "vqe_elec_energies = []\n",
    "\n",
    "with Session(backend=backend) as session:\n",
    "    estimator = Estimator(mode=session, options=estimator_options)\n",
    "\n",
    "    for dist in distances:\n",
    "        xx = dist\n",
    "\n",
    "        # Random initial state and EfficientSU2 ansatz\n",
    "\n",
    "        H = build_hamiltonian(xx)\n",
    "        ansatz = EfficientSU2(H.num_qubits)\n",
    "        ansatz_isa = pm.run(ansatz)\n",
    "        H_isa = H.apply_layout(ansatz_isa.layout)\n",
    "        nuclear_repulsion = ham_terms(xx)[0]\n",
    "        x0 = 2 * np.pi * np.random.random(ansatz_isa.num_parameters)\n",
    "\n",
    "        res = minimize(\n",
    "            cost_func,\n",
    "            x0,\n",
    "            args=(ansatz_isa, H_isa, estimator),\n",
    "            method=\"cobyla\",\n",
    "            options={\"maxiter\": 50, \"disp\": True},\n",
    "        )\n",
    "\n",
    "        # Note this returns the total energy, and we are often interested in the electronic energy\n",
    "        tot_energy = getattr(res, \"fun\")\n",
    "        electron_energy = getattr(res, \"fun\") - nuclear_repulsion\n",
    "        print(electron_energy)\n",
    "        vqe_energies.append(tot_energy)\n",
    "        vqe_elec_energies.append(electron_energy)\n",
    "\n",
    "        # Print all results\n",
    "        print(res)\n",
    "\n",
    "print(\"All energies have been calculated\")"
   ]
  },
  {
   "cell_type": "markdown",
   "id": "5b6f1491-88bd-4fb1-a1fe-2e29ffa33f17",
   "metadata": {},
   "source": [
    "## Step 4: Post-processing\n",
    "\n",
    "For both the simulator and real hardware, we can plot the ground state energies calculated for each inter-atomic distance and see where the lowest energy is achieved. That should be the inter-atomic distance found in nature, and indeed it is close. A smoother curve might be obtained by trying other ansaetze, optimizers, and running the calculation multiple times at each geometry step and averaging over several random initial conditions."
   ]
  },
  {
   "cell_type": "code",
   "execution_count": 14,
   "id": "e81f3ead-27ac-415e-a9f2-64a51d4b7aa3",
   "metadata": {},
   "outputs": [
    {
     "data": {
      "text/plain": [
       "<Image src=\"/learning/images/courses/quantum-chem-with-vqe/geometry/extracted-outputs/e81f3ead-27ac-415e-a9f2-64a51d4b7aa3-0.avif\" alt=\"Output of the previous code cell\" />"
      ]
     },
     "metadata": {},
     "output_type": "display_data"
    }
   ],
   "source": [
    "# Here we can plot the results from this simulation.\n",
    "plt.plot(distances_sim, vqe_energies_sim, label=\"VQE Energy\")\n",
    "plt.xlabel(\"Atomic distance (Angstrom)\")\n",
    "plt.ylabel(\"Energy\")\n",
    "plt.legend()\n",
    "plt.show()"
   ]
  },
  {
   "cell_type": "markdown",
   "id": "1efe0d76-3c6c-4369-9ace-fc890084e676",
   "metadata": {},
   "source": [
    "Note that simply increasing the number of optimization steps is not likely to improve the results from the simulator, since all optimizations actually converged to the required tolerance in fewer than the maximum number of iterations.\n",
    "\n",
    "The results from the real hardware are comparable, aside from a slightly different range of values sampled."
   ]
  },
  {
   "cell_type": "code",
   "execution_count": 65,
   "id": "de8f53cf-9547-4578-b6cb-20d2b5602ee0",
   "metadata": {},
   "outputs": [
    {
     "data": {
      "text/plain": [
       "<Image src=\"/learning/images/courses/quantum-chem-with-vqe/geometry/extracted-outputs/de8f53cf-9547-4578-b6cb-20d2b5602ee0-0.avif\" alt=\"Output of the previous code cell\" />"
      ]
     },
     "metadata": {},
     "output_type": "display_data"
    }
   ],
   "source": [
    "plt.plot(distances, vqe_energies, label=\"VQE Energy\")\n",
    "plt.xlabel(\"Atomic distance (Angstrom)\")\n",
    "plt.ylabel(\"Energy\")\n",
    "plt.legend()\n",
    "plt.show()"
   ]
  },
  {
   "cell_type": "markdown",
   "id": "7e732366-425a-40e4-b6f2-d26f11f7d86b",
   "metadata": {},
   "source": [
    "In addition to expecting an H2 bond length of 0.74 Angstrom, the total energy should be -1.17 Hartrees. We see that the real hardware results came closer to these values than the simulator. This is likely because noise was present (or simulated) in both cases, but only in the case of real hardware was error mitigation employed.\n",
    "\n",
    "### Closing\n",
    "\n",
    "This concludes our course on VQE for quantum chemistry. If you are interested in understanding some of the underlying information theory used in quantum computing, check out John Watrous's course on the [Basics of Quantum Information](/learning/courses/basics-of-quantum-information/index). For an additional short-form example of a VQE workflow, see our [Variational Quantum Eigensolver tutorial](/docs/tutorials/variational-quantum-eigensolver). Or browse the [tutorials](/docs/tutorials) and [courses](/learning/index) to find more educational materials about the latest technology in quantum computing.\n",
    "\n",
    "Don't forget to take this course's exam. A score of 80% or higher will earn you a Credly badge, which will automatically be emailed to you. Thank you for being a part of the IBM Quantum Network!"
   ]
  },
  {
   "cell_type": "code",
   "execution_count": 1,
   "id": "0ac6d249-d210-479d-a792-c8b4e94b8b88",
   "metadata": {},
   "outputs": [
    {
     "name": "stdout",
     "output_type": "stream",
     "text": [
      "1.3.2\n",
      "0.35.0\n"
     ]
    }
   ],
   "source": [
    "import qiskit\n",
    "import qiskit_ibm_runtime\n",
    "\n",
    "print(qiskit.version.get_version_info())\n",
    "print(qiskit_ibm_runtime.version.get_version_info())"
   ]
  }
 ],
 "metadata": {
  "description": "In this lesson we vary the geometry of a simple molecule, minimizing the energy at each step.",
  "kernelspec": {
   "display_name": "Python 3",
   "language": "python",
   "name": "python3"
  },
  "language_info": {
   "codemirror_mode": {
    "name": "ipython",
    "version": 3
   },
   "file_extension": ".py",
   "mimetype": "text/x-python",
   "name": "python",
   "nbconvert_exporter": "python",
   "pygments_lexer": "ipython3",
   "version": "3"
  },
  "title": "Molecular geometry"
 },
 "nbformat": 4,
 "nbformat_minor": 2
}
