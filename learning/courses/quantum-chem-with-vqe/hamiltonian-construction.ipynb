{
 "cells": [
  {
   "cell_type": "markdown",
   "id": "f502c3c3-d0be-4be4-afab-2d569f171f98",
   "metadata": {},
   "source": [
    "{/* cspell:ignore Lipinska mcscf chmax Dmax vmax ecore ncas Excp disp antisymmetry Coov irrep IIZZ ZZII workstreams openfermion webkitallowfullscreen allowfullscreen frameborder referrerpolicy Kassal Tranter Ardle Seeley */}\n",
    "\n",
    "# Hamiltonians for Quantum Chemistry\n",
    "\n",
    "Let's begin with a brief overview of the role Hamiltonians play in VQE.\n",
    "\n",
    "## The Hamiltonian in VQE Overview\n",
    "\n",
    "Dr. Victoria Lipinska walks us through Hamiltonians and how to map them for use in quantum computing.\n",
    "\n",
    "<IBMVideo id=\"132414924\" title=\"Victoria Lipinska reminds us what a Hamiltonian is and how it is used in VQE. In particular, she describes the need for mapping a fermionic Hamiltonian that governs indistinguishable fermions to a qubit Hamiltonian.\"/>\n",
    "\n",
    "### References\n",
    "\n",
    "The following articles are referenced in the above video.\n",
    "* [Quantum Algorithms for Fermionic Simulations, Ortiz, et al.](https://arxiv.org/pdf/cond-mat/0012334.pdf)\n",
    "* [Simulating Chemistry using Quantum Computers, Kassal et al.](https://arxiv.org/pdf/1007.2648.pdf)\n",
    "* [A Comparison of the Bravyi–Kitaev and Jordan–Wigner Transformations for the Quantum Simulation of Quantum Chemistry, Tranter, et al.](https://pubs.acs.org/doi/full/10.1021/acs.jctc.8b00450)\n",
    "* [Quantum Chemistry in the Age of Quantum Computing, Cao, et al.](https://arxiv.org/pdf/1812.09976.pdf)\n",
    "* [Quantum computational chemistry, McArdle, et al.](https://arxiv.org/pdf/1808.10402.pdf)\n",
    "* [The Bravyi-Kitaev transformation for quantum computation of electronic structure, Seeley, et al., McArdle, et al.](https://arxiv.org/pdf/1812.09976.pdf)\n",
    "\n",
    "## Preparing Hamiltonians for Quantum Chemistry\n",
    "\n",
    "A good first step in applying quantum computing to a chemistry problem is defining a Hamiltonian for the system of interest. Here, we will restrict the discussion to quantum chemistry Hamiltonians, as those Hamiltonians require some mapping specific to systems of identical fermions.\n",
    "\n",
    "As someone working in quantum chemistry, you probably already have your favorite software for modeling molecules, which can generate a Hamiltonian that describes your system of interest. Here, we will use code built solely on PySCF, numpy, and Qiskit. But the process of Hamiltonian preparation transfers to prepackaged solutions as well. The only difference between this approach and other software will be minor syntax differences; some of these are addressed in the \"Third-party software\" subsection to facilitate integration of existing workflows.\n",
    "\n",
    "Generating a quantum chemistry Hamiltonian for use on IBM Quantum&reg; QPUs involves the following steps:\n",
    "\n",
    "1. Define your molecule (geometry, spin, active space, and so on)\n",
    "2. Generate the fermionic Hamiltonian (creation and annihilation operators)\n",
    "3. Map from the fermionic Hamiltonian to a bosonic operator (in this context, using Pauli operators)\n",
    "4. If using third-party software: Handle any syntax mismatches between the generating software and Qiskit\n",
    "\n",
    "The fermionic Hamiltonian is written in terms of fermionic operators, and in particular, takes into account that electrons are indistinguishable fermions. That means they obey completely different statistics from distinguishable, bosonic qubits. Hence the mapping process.\n",
    "\n",
    "Those of you already familiar with these processes can likely skip this section."
   ]
  },
  {
   "cell_type": "markdown",
   "id": "28e3a254-be8c-4bca-a467-3a92d0ddb1ae",
   "metadata": {},
   "source": [
    "Goal:\n",
    "\n",
    "The end goal is to obtain a Hamiltonian of the form:"
   ]
  },
  {
   "cell_type": "code",
   "execution_count": 1,
   "id": "b802fd0d-40d5-45f1-9cdc-4ae4c5914d82",
   "metadata": {},
   "outputs": [
    {
     "name": "stdout",
     "output_type": "stream",
     "text": [
      "[(1, 'XX'), (1, 'YY'), (1, 'ZZ')]\n"
     ]
    }
   ],
   "source": [
    "H = [(1, \"XX\"), (1, \"YY\"), (1, \"ZZ\")]\n",
    "print(H)"
   ]
  },
  {
   "cell_type": "markdown",
   "id": "dac88e28-2554-4370-90c8-06c4e1042255",
   "metadata": {},
   "source": [
    "Or"
   ]
  },
  {
   "cell_type": "code",
   "execution_count": 2,
   "id": "3375bd43-b53d-479e-93f5-7ec37d9e6a34",
   "metadata": {},
   "outputs": [
    {
     "name": "stdout",
     "output_type": "stream",
     "text": [
      "SparsePauliOp(['XX', 'YY', 'ZZ'],\n",
      "              coeffs=[1.+0.j, 1.+0.j, 1.+0.j])\n"
     ]
    }
   ],
   "source": [
    "from qiskit.quantum_info import SparsePauliOp\n",
    "\n",
    "H = SparsePauliOp([\"XX\", \"YY\", \"ZZ\"], coeffs=[1.0 + 0.0j, 1.0 + 0.0j, 1.0 + 0.0j])\n",
    "print(H)"
   ]
  },
  {
   "cell_type": "markdown",
   "id": "f92e93d1-270d-4c0c-a3bb-353b790222a7",
   "metadata": {},
   "source": [
    "We'll start by importing some packages:"
   ]
  },
  {
   "cell_type": "code",
   "execution_count": 3,
   "id": "f8833e31-77e6-446b-9d3c-1e394fbe1661",
   "metadata": {},
   "outputs": [],
   "source": [
    "import numpy as np\n",
    "from pyscf import ao2mo, gto, mcscf, scf"
   ]
  },
  {
   "cell_type": "markdown",
   "id": "88603887-e5bc-4905-b8e6-ee78b8473d7d",
   "metadata": {},
   "source": [
    "1. Define your molecule\n",
    "\n",
    "Here we will specify attributes of the molecule of interest. In this example, we've chosen diatomic hydrogen (because the resulting Hamiltonians are short enough to display)."
   ]
  },
  {
   "cell_type": "markdown",
   "id": "2d55595c-45f2-4e90-a3d1-22b6ee51ccc6",
   "metadata": {},
   "source": [
    "The Python-based Simulations of Chemistry Framework ([PySCF](https://pyscf.org/)) has a wide collection of electronic structure modules that can be used to, among other things, generate molecular Hamiltonians suitable for quantum computation. The [PySCF Quickstart](https://pyscf.org/quickstart.html) guide is an excellent resource for a full description of all the variables and functionality. We will give only the most cursory overview, since this will already be familiar to many of you. To understand these better, visit [PySCF.](https://pyscf.org/)\n",
    "Briefly:\n",
    "\n",
    "__distance__ can be used for diatomic molecules, or simply specify Cartesian coordinates for each atom. Distances are in units of Angstrom.\n",
    "\n",
    "__gto__ generates gaussian-type orbitals.\n",
    "\n",
    "__basis__ refers to the functions used to model molecular orbitals. Here 'sto-6g' is a common minimal basis, named for fitting Slater-Type Orbitals using 6 primitive Gaussian orbitals.\n",
    "\n",
    "__spin__ an integer value indicating the number of unpaired electrons (equal to $2S$). Note that some software uses multiplicity instead ($2S+1$).\n",
    "\n",
    "__charge__ the charge of the molecule.\n",
    "\n",
    "__symmetry__ - the point symmetry group of the molecule, either specified with a string or automatically detected by setting \"symmetry = True\". Here \"Dooh\" is the appropriate symmetry group for diatomic molecules with two of the same atom species."
   ]
  },
  {
   "cell_type": "code",
   "execution_count": 4,
   "id": "dc4d672b-e73a-4822-b158-b17736d9a197",
   "metadata": {},
   "outputs": [
    {
     "data": {
      "text/plain": [
       "<pyscf.gto.mole.Mole at 0x7fc718f07610>"
      ]
     },
     "execution_count": 4,
     "metadata": {},
     "output_type": "execute_result"
    }
   ],
   "source": [
    "distance = 0.735\n",
    "a = distance / 2\n",
    "mol = gto.Mole()\n",
    "mol.build(\n",
    "    verbose=0,\n",
    "    atom=[\n",
    "        [\"H\", (0, 0, -a)],\n",
    "        [\"H\", (0, 0, a)],\n",
    "    ],\n",
    "    basis=\"sto-6g\",\n",
    "    spin=0,\n",
    "    charge=0,\n",
    "    symmetry=\"Dooh\",\n",
    ")"
   ]
  },
  {
   "cell_type": "markdown",
   "id": "2da25c9c-f517-497d-8668-70629e817e3a",
   "metadata": {},
   "source": [
    "Keep in mind that one can describe total energy (which includes nuclear repulsion energy as well as electronic), total electronic orbital energy, or the energy of some subset of electronic orbitals (with the complementary subset frozen). In the specific case of $\\text{H}_2$, note the different energies below, and note that the total energy less the nuclear repulsion energy does in fact yield the electronic energy:"
   ]
  },
  {
   "cell_type": "code",
   "execution_count": 5,
   "id": "a22e88c6-ef7d-4089-9461-28ed70ebae13",
   "metadata": {},
   "outputs": [
    {
     "name": "stdout",
     "output_type": "stream",
     "text": [
      "0.7199689944489797 -1.8455976628764188 -1.125628668427439 -1.8455976628764188\n"
     ]
    }
   ],
   "source": [
    "mf = scf.RHF(mol)\n",
    "mf.scf()\n",
    "\n",
    "print(\n",
    "    mf.energy_nuc(),\n",
    "    mf.energy_elec()[0],\n",
    "    mf.energy_tot(),\n",
    "    mf.energy_tot() - mol.energy_nuc(),\n",
    ")"
   ]
  },
  {
   "cell_type": "code",
   "execution_count": 6,
   "id": "7e1a23ba-d2ac-4961-8c29-8be7e1163c9e",
   "metadata": {},
   "outputs": [],
   "source": [
    "active_space = range(mol.nelectron // 2 - 1, mol.nelectron // 2 + 1)"
   ]
  },
  {
   "cell_type": "markdown",
   "id": "5ee2e242-6508-4a0d-87a7-b7faa897f36d",
   "metadata": {},
   "source": [
    "2. Generate fermionic Hamiltonian\n",
    "\n",
    "__scf__ refers to a wide range of self-consistent field methods.\n",
    "\n",
    "__rhf__ as in __mf__ = scf.RHF(mol) in mf is a solver that uses the Restricted Hartree Fock calculation. The kernel of this (E, below) is the total energy, including nuclear repulsion and molecular orbitals.\n",
    "\n",
    "__mcscf__ is a multi-configuration self-consistent fields package.\n",
    "\n",
    "__ao2mo__ is a transformation from atomic orbitals to molecular orbitals.\n",
    "\n",
    "We also use the following variables:\n",
    "\n",
    "__ncas__: number of orbitals in the complete active space\n",
    "\n",
    "__nelecas__: number of electrons in the complete active space"
   ]
  },
  {
   "cell_type": "code",
   "execution_count": 7,
   "id": "e58fe57a-8135-429d-bd53-2ad4f0a93806",
   "metadata": {},
   "outputs": [],
   "source": [
    "E1 = mf.kernel()\n",
    "mx = mcscf.CASCI(mf, ncas=2, nelecas=(1, 1))\n",
    "mo = mx.sort_mo(active_space, base=0)\n",
    "E2 = mx.kernel(mo)[:2]"
   ]
  },
  {
   "cell_type": "markdown",
   "id": "d77b6abe-a0c3-467e-9551-14bdad6b0fd0",
   "metadata": {},
   "source": [
    "We want a Hamiltonian, and this is often separated into energy of an electronic core (ecore, not involved in minimization), single-electron operators (h1e), and two-electron energies (h2e). These are explicitly extracted below in the last two lines."
   ]
  },
  {
   "cell_type": "code",
   "execution_count": 8,
   "id": "1025a53a-7414-47f3-9b78-10acb03615d4",
   "metadata": {},
   "outputs": [],
   "source": [
    "h1e, ecore = mx.get_h1eff()\n",
    "h2e = ao2mo.restore(1, mx.get_h2eff(), mx.ncas)"
   ]
  },
  {
   "cell_type": "markdown",
   "id": "928d72cf-212f-4f85-9d81-a7ffb33d6db8",
   "metadata": {},
   "source": [
    "These Hamiltonians are currently fermionic (creation and annihilation) operators, applicable to systems of (indistinguishable) fermions, and correspondingly subject to antisymmetry under exchange. This results in different statics than would apply to a distinguishable or bosonic system. To run calculations on IBM Quantum QPUs, we require a bosonic operator describing the energy. The result of such a mapping is conventionally written in terms of Pauli operators, since they are both Hermitian and unitary. There are several mappings one can use. One of the simplest is the Jordan Wigner transformation.\n",
    "\n",
    "3. Mapping the Hamiltonian\n",
    "\n",
    "It should be noted that there are many tools available for mapping a chemical Hamiltonian to one suitable for running on a quantum computer. Here, we implement the Jordan Wigner mapping directly using only PySCF, numpy, and Qiskit. We comment below on syntax considerations for other solutions."
   ]
  },
  {
   "cell_type": "markdown",
   "id": "f90c2756-8155-4417-89e9-f248ae76895c",
   "metadata": {},
   "source": [
    "The Cholesky function helps us obtain a low-rank decomposition of the two-electron terms in the Hamiltonian."
   ]
  },
  {
   "cell_type": "code",
   "execution_count": 9,
   "id": "af2deda9-75e3-464f-a4e3-489e00631e92",
   "metadata": {},
   "outputs": [],
   "source": [
    "def cholesky(V, eps):\n",
    "    # see https://arxiv.org/pdf/1711.02242.pdf section B2\n",
    "    # see https://arxiv.org/abs/1808.02625\n",
    "    # see https://arxiv.org/abs/2104.08957\n",
    "    no = V.shape[0]\n",
    "    chmax, ng = 20 * no, 0\n",
    "    W = V.reshape(no**2, no**2)\n",
    "    L = np.zeros((no**2, chmax))\n",
    "    Dmax = np.diagonal(W).copy()\n",
    "    nu_max = np.argmax(Dmax)\n",
    "    vmax = Dmax[nu_max]\n",
    "    while vmax > eps:\n",
    "        L[:, ng] = W[:, nu_max]\n",
    "        if ng > 0:\n",
    "            L[:, ng] -= np.dot(L[:, 0:ng], (L.T)[0:ng, nu_max])\n",
    "        L[:, ng] /= np.sqrt(vmax)\n",
    "        Dmax[: no**2] -= L[: no**2, ng] ** 2\n",
    "        ng += 1\n",
    "        nu_max = np.argmax(Dmax)\n",
    "        vmax = Dmax[nu_max]\n",
    "    L = L[:, :ng].reshape((no, no, ng))\n",
    "    print(\n",
    "        \"accuracy of Cholesky decomposition \",\n",
    "        np.abs(np.einsum(\"prg,qsg->prqs\", L, L) - V).max(),\n",
    "    )\n",
    "    return L, ng"
   ]
  },
  {
   "cell_type": "markdown",
   "id": "a6fae700-aac9-445d-97f5-4274ede58428",
   "metadata": {},
   "source": [
    "The functions `identity` and `creators_destructors` replace creation and annihilation operators in the fermionic Hamiltonian with Pauli operators; `creators_destructors` uses the Jordan-Wigner mapping."
   ]
  },
  {
   "cell_type": "code",
   "execution_count": 10,
   "id": "b6c0a6a7-94e8-448d-b911-858bc79e6242",
   "metadata": {},
   "outputs": [],
   "source": [
    "def identity(n):\n",
    "    return SparsePauliOp.from_list([(\"I\" * n, 1)])\n",
    "\n",
    "\n",
    "def creators_destructors(n, mapping=\"jordan_wigner\"):\n",
    "    c_list = []\n",
    "    if mapping == \"jordan_wigner\":\n",
    "        for p in range(n):\n",
    "            if p == 0:\n",
    "                ell, r = \"I\" * (n - 1), \"\"\n",
    "            elif p == n - 1:\n",
    "                ell, r = \"\", \"Z\" * (n - 1)\n",
    "            else:\n",
    "                ell, r = \"I\" * (n - p - 1), \"Z\" * p\n",
    "            cp = SparsePauliOp.from_list([(ell + \"X\" + r, 0.5), (ell + \"Y\" + r, 0.5j)])\n",
    "            c_list.append(cp)\n",
    "    else:\n",
    "        raise ValueError(\"Unsupported mapping.\")\n",
    "    d_list = [cp.adjoint() for cp in c_list]\n",
    "    return c_list, d_list"
   ]
  },
  {
   "cell_type": "markdown",
   "id": "04d51259-2188-4c62-9171-c78f74873dd8",
   "metadata": {},
   "source": [
    "Finally, `build_hamiltonian` uses the `cholesky`, `identity`, and `creators_destructors` functions to create the final Hamiltonian suitable for running on a quantum computer."
   ]
  },
  {
   "cell_type": "code",
   "execution_count": 11,
   "id": "6eeb704d-202c-4c54-8f1a-a2d98f99342e",
   "metadata": {},
   "outputs": [],
   "source": [
    "def build_hamiltonian(ecore: float, h1e: np.ndarray, h2e: np.ndarray) -> SparsePauliOp:\n",
    "    ncas, _ = h1e.shape\n",
    "\n",
    "    C, D = creators_destructors(2 * ncas, mapping=\"jordan_wigner\")\n",
    "    Exc = []\n",
    "    for p in range(ncas):\n",
    "        Excp = [C[p] @ D[p] + C[ncas + p] @ D[ncas + p]]\n",
    "        for r in range(p + 1, ncas):\n",
    "            Excp.append(\n",
    "                C[p] @ D[r]\n",
    "                + C[ncas + p] @ D[ncas + r]\n",
    "                + C[r] @ D[p]\n",
    "                + C[ncas + r] @ D[ncas + p]\n",
    "            )\n",
    "        Exc.append(Excp)\n",
    "\n",
    "    # low-rank decomposition of the Hamiltonian\n",
    "    Lop, ng = cholesky(h2e, 1e-6)\n",
    "    t1e = h1e - 0.5 * np.einsum(\"pxxr->pr\", h2e)\n",
    "\n",
    "    H = ecore * identity(2 * ncas)\n",
    "    # one-body term\n",
    "    for p in range(ncas):\n",
    "        for r in range(p, ncas):\n",
    "            H += t1e[p, r] * Exc[p][r - p]\n",
    "    # two-body term\n",
    "    for g in range(ng):\n",
    "        Lg = 0 * identity(2 * ncas)\n",
    "        for p in range(ncas):\n",
    "            for r in range(p, ncas):\n",
    "                Lg += Lop[p, r, g] * Exc[p][r - p]\n",
    "        H += 0.5 * Lg @ Lg\n",
    "\n",
    "    return H.chop().simplify()"
   ]
  },
  {
   "cell_type": "markdown",
   "id": "1912f38d-73ee-4d9f-a89b-a3f08b7f65a0",
   "metadata": {},
   "source": [
    "Finally, we use `build_hamiltonian` to construct our qubit Hamiltonian from Pauli operators by using the Jordan-Wigner transformation. This also gives us the accuracy of the Cholesky decomposition we used."
   ]
  },
  {
   "cell_type": "code",
   "execution_count": 12,
   "id": "4e951f66-6632-4f07-973e-6c505a1b7a87",
   "metadata": {},
   "outputs": [
    {
     "name": "stdout",
     "output_type": "stream",
     "text": [
      "accuracy of Cholesky decomposition  2.220446049250313e-16\n",
      "SparsePauliOp(['IIII', 'IIIZ', 'IZII', 'IIZI', 'ZIII', 'IZIZ', 'IIZZ', 'ZIIZ', 'IZZI', 'ZZII', 'ZIZI', 'YYYY', 'XXYY', 'YYXX', 'XXXX'],\n",
      "              coeffs=[-0.09820182+0.j, -0.1740751 +0.j, -0.1740751 +0.j,  0.2242933 +0.j,\n",
      "  0.2242933 +0.j,  0.16891402+0.j,  0.1210099 +0.j,  0.16631441+0.j,\n",
      "  0.16631441+0.j,  0.1210099 +0.j,  0.17504456+0.j,  0.04530451+0.j,\n",
      "  0.04530451+0.j,  0.04530451+0.j,  0.04530451+0.j])\n"
     ]
    }
   ],
   "source": [
    "H = build_hamiltonian(ecore, h1e, h2e)\n",
    "print(H)"
   ]
  },
  {
   "cell_type": "markdown",
   "id": "b211c7f6-7ef4-444d-84f9-bfe4b80dda5a",
   "metadata": {},
   "source": [
    "This [example molecule notebook](https://ibm.box.com/shared/static/59c2kjqefvjy5wy5lct099thr4y0ry8c.zip) shows the setup and Hamiltonians for several molecules of varying complexity; with a little modification, this should enable you to examine most small molecules.\n",
    "\n",
    "Let's just briefly note two important points to consider when constructing the fermionic operators for a molecule. As the molecule type changes, the symmetry will change. Similarly, the number of orbitals with various symmetries, like the cylindrically symmetric \"A1\", will change. These changes are evident even with the simple extension to LiH, as seen here:"
   ]
  },
  {
   "cell_type": "code",
   "execution_count": 13,
   "id": "400658f1-ce74-460d-8bd6-f78c715982e1",
   "metadata": {},
   "outputs": [],
   "source": [
    "distance = 1.56\n",
    "mol = gto.Mole()\n",
    "mol.build(\n",
    "    verbose=0,\n",
    "    atom=[[\"Li\", (0, 0, 0)], [\"H\", (0, 0, distance)]],\n",
    "    basis=\"sto-6g\",\n",
    "    spin=0,\n",
    "    charge=0,\n",
    "    symmetry=\"Coov\",\n",
    ")\n",
    "mf = scf.RHF(mol)\n",
    "E1 = mf.kernel()\n",
    "\n",
    "# %% ----------------------------------------------------------------------------------------------\n",
    "\n",
    "mx = mcscf.CASCI(mf, ncas=5, nelecas=(1, 1))\n",
    "cas_space_symmetry = {\"A1\": 3, \"E1x\": 1, \"E1y\": 1}\n",
    "mo = mcscf.sort_mo_by_irrep(mx, mf.mo_coeff, cas_space_symmetry)\n",
    "E2 = mx.kernel(mo)[:2]\n",
    "h1e, ecore = mx.get_h1eff()\n",
    "h2e = ao2mo.restore(1, mx.get_h2eff(), mx.ncas)"
   ]
  },
  {
   "cell_type": "markdown",
   "id": "a7c91a40-c0ee-47ab-a33f-9adfd9f2bd18",
   "metadata": {},
   "source": [
    "It is also worth noting that one can quickly lose intuition for the final resulting Hamiltonian. The Hamiltonian for LiH (using the Jordan-Wigner mapper) already consists of 276 terms."
   ]
  },
  {
   "cell_type": "code",
   "execution_count": 14,
   "id": "d3269648-538e-41a5-b343-f75e3ffadb28",
   "metadata": {},
   "outputs": [
    {
     "name": "stdout",
     "output_type": "stream",
     "text": [
      "accuracy of Cholesky decomposition  1.1102230246251565e-16\n"
     ]
    },
    {
     "data": {
      "text/plain": [
       "276"
      ]
     },
     "execution_count": 14,
     "metadata": {},
     "output_type": "execute_result"
    }
   ],
   "source": [
    "len(build_hamiltonian(ecore, h1e, h2e))"
   ]
  },
  {
   "cell_type": "markdown",
   "id": "aee74cff-d3b4-46db-b511-e4f9686b56de",
   "metadata": {},
   "source": [
    "When in doubt regarding symmetries, one can also generate some symmetry information for the molecule by setting `symmetry = True` and `verbose = 4`:"
   ]
  },
  {
   "cell_type": "code",
   "execution_count": 15,
   "id": "29fa8e0b-9481-4ab6-841d-e2ba0a076986",
   "metadata": {},
   "outputs": [
    {
     "name": "stdout",
     "output_type": "stream",
     "text": [
      "System: uname_result(system='Linux', node='IBM-R912JTRT', release='5.10.102.1-microsoft-standard-WSL2', version='#1 SMP Wed Mar 2 00:30:59 UTC 2022', machine='x86_64')  Threads 16\n",
      "Python 3.11.12 (main, May 16 2025, 02:33:32) [GCC 11.4.0]\n",
      "numpy 2.3.1  scipy 1.16.0  h5py 3.14.0\n",
      "Date: Mon Jun 30 12:56:55 2025\n",
      "PySCF version 2.9.0\n",
      "PySCF path  /home/porter284/.pyenv/versions/3.11.12/lib/python3.11/site-packages/pyscf\n",
      "\n",
      "[CONFIG] conf_file None\n",
      "[INPUT] verbose = 4\n",
      "[INPUT] num. atoms = 2\n",
      "[INPUT] num. electrons = 4\n",
      "[INPUT] charge = 0\n",
      "[INPUT] spin (= nelec alpha-beta = 2S) = 0\n",
      "[INPUT] symmetry True subgroup None\n",
      "[INPUT] Mole.unit = angstrom\n",
      "[INPUT] Symbol           X                Y                Z      unit          X                Y                Z       unit  Magmom\n",
      "[INPUT]  1 Li     0.000000000000   0.000000000000   0.000000000000 AA    0.000000000000   0.000000000000   0.000000000000 Bohr   0.0\n",
      "[INPUT]  2 H      0.000000000000   0.000000000000   1.560000000000 AA    0.000000000000   0.000000000000   2.947972754321 Bohr   0.0\n",
      "\n",
      "nuclear repulsion = 1.01764848253846\n",
      "point group symmetry = Coov\n",
      "symmetry origin: [0.         0.         0.73699319]\n",
      "symmetry axis x: [1. 0. 0.]\n",
      "symmetry axis y: [0. 1. 0.]\n",
      "symmetry axis z: [0. 0. 1.]\n",
      "num. orbitals of irrep A1 = 4\n",
      "num. orbitals of irrep E1x = 1\n",
      "num. orbitals of irrep E1y = 1\n",
      "number of shells = 4\n",
      "number of NR pGTOs = 36\n",
      "number of NR cGTOs = 6\n",
      "basis = sto-6g\n",
      "ecp = {}\n",
      "CPU time:         9.85\n"
     ]
    },
    {
     "data": {
      "text/plain": [
       "<pyscf.gto.mole.Mole at 0x7fc719f94850>"
      ]
     },
     "execution_count": 15,
     "metadata": {},
     "output_type": "execute_result"
    }
   ],
   "source": [
    "distance = 1.56\n",
    "mol = gto.Mole()\n",
    "mol.build(\n",
    "    verbose=4,\n",
    "    atom=[[\"Li\", (0, 0, 0)], [\"H\", (0, 0, distance)]],\n",
    "    basis=\"sto-6g\",\n",
    "    spin=0,\n",
    "    charge=0,\n",
    "    symmetry=True,\n",
    ")"
   ]
  },
  {
   "cell_type": "markdown",
   "id": "18c6b81d-cb14-479f-888c-3d598473d7da",
   "metadata": {},
   "source": [
    "Among other useful information, this returns both `point group symmetry = Coov` and also the number of orbitals in each irreducible representation.\n",
    "\n",
    "```\n",
    "point group symmetry = Coov\n",
    "num. orbitals of irrep A1 = 4\n",
    "num. orbitals of irrep E1x = 1\n",
    "num. orbitals of irrep E1y = 1\n",
    "number of shells = 4\n",
    "```\n",
    "\n",
    "This does not necessarily tell you how many orbitals you want included in your active space, but it helps you see what orbitals are present and their symmetries.\n",
    "\n",
    "Specifying symmetry and orbitals is often helpful, but you can also specify the number of orbitals you want to include. Consider the case of ethene, below. Using `verbose = 4`, we can print the symmetries of the various orbitals:"
   ]
  },
  {
   "cell_type": "code",
   "execution_count": 16,
   "id": "555442e7-e883-4465-9278-5312cd8d1fd0",
   "metadata": {},
   "outputs": [
    {
     "name": "stdout",
     "output_type": "stream",
     "text": [
      "System: uname_result(system='Linux', node='IBM-R912JTRT', release='5.10.102.1-microsoft-standard-WSL2', version='#1 SMP Wed Mar 2 00:30:59 UTC 2022', machine='x86_64')  Threads 16\n",
      "Python 3.11.12 (main, May 16 2025, 02:33:32) [GCC 11.4.0]\n",
      "numpy 2.3.1  scipy 1.16.0  h5py 3.14.0\n",
      "Date: Mon Jun 30 12:57:07 2025\n",
      "PySCF version 2.9.0\n",
      "PySCF path  /home/porter284/.pyenv/versions/3.11.12/lib/python3.11/site-packages/pyscf\n",
      "\n",
      "[CONFIG] conf_file None\n",
      "[INPUT] verbose = 4\n",
      "[INPUT] num. atoms = 6\n",
      "[INPUT] num. electrons = 16\n",
      "[INPUT] charge = 0\n",
      "[INPUT] spin (= nelec alpha-beta = 2S) = 0\n",
      "[INPUT] symmetry True subgroup None\n",
      "[INPUT] Mole.unit = angstrom\n",
      "[INPUT] Symbol           X                Y                Z      unit          X                Y                Z       unit  Magmom\n",
      "[INPUT]  1 C      0.000000000000   0.000000000000   1.000000000000 AA    0.000000000000   0.000000000000   1.889726124565 Bohr   0.0\n",
      "[INPUT]  2 C      0.000000000000   0.000000000000  -1.000000000000 AA    0.000000000000   0.000000000000  -1.889726124565 Bohr   0.0\n",
      "[INPUT]  3 H      0.000000000000   1.000000000000   1.000000000000 AA    0.000000000000   1.889726124565   1.889726124565 Bohr   0.0\n",
      "[INPUT]  4 H      0.000000000000  -1.000000000000   1.000000000000 AA    0.000000000000  -1.889726124565   1.889726124565 Bohr   0.0\n",
      "[INPUT]  5 H      0.000000000000   1.000000000000  -1.000000000000 AA    0.000000000000   1.889726124565  -1.889726124565 Bohr   0.0\n",
      "[INPUT]  6 H      0.000000000000  -1.000000000000  -1.000000000000 AA    0.000000000000  -1.889726124565  -1.889726124565 Bohr   0.0\n",
      "\n",
      "nuclear repulsion = 29.3377079104231\n",
      "point group symmetry = D2h\n",
      "symmetry origin: [0. 0. 0.]\n",
      "symmetry axis x: [0. 1. 0.]\n",
      "symmetry axis y: [1. 0. 0.]\n",
      "symmetry axis z: [-0. -0. -1.]\n",
      "num. orbitals of irrep Ag = 4\n",
      "num. orbitals of irrep B2g = 2\n",
      "num. orbitals of irrep B3g = 1\n",
      "num. orbitals of irrep B1u = 4\n",
      "num. orbitals of irrep B2u = 1\n",
      "num. orbitals of irrep B3u = 2\n",
      "number of shells = 10\n",
      "number of NR pGTOs = 84\n",
      "number of NR cGTOs = 14\n",
      "basis = sto-6g\n",
      "ecp = {}\n",
      "CPU time:         9.92\n"
     ]
    },
    {
     "data": {
      "text/plain": [
       "<pyscf.gto.mole.Mole at 0x7fc719fa9290>"
      ]
     },
     "execution_count": 16,
     "metadata": {},
     "output_type": "execute_result"
    }
   ],
   "source": [
    "# Replace these variables with correct distances:\n",
    "a = 1\n",
    "b = 1\n",
    "c = 1\n",
    "\n",
    "# Build\n",
    "mol = gto.Mole()\n",
    "mol.build(\n",
    "    verbose=4,\n",
    "    atom=[\n",
    "        [\"C\", (0, 0, a)],\n",
    "        [\"C\", (0, 0, -a)],\n",
    "        [\"H\", (0, c, b)],\n",
    "        [\"H\", (0, -c, b)],\n",
    "        [\"H\", (0, c, -b)],\n",
    "        [\"H\", (0, -c, -b)],\n",
    "    ],\n",
    "    basis=\"sto-6g\",\n",
    "    spin=0,\n",
    "    charge=0,\n",
    "    symmetry=True,\n",
    ")"
   ]
  },
  {
   "cell_type": "markdown",
   "id": "7bd49628-dab3-4a1d-800b-32bc107cf242",
   "metadata": {},
   "source": [
    "We obtain:\n",
    "\n",
    "num. orbitals of irrep Ag = 4\n",
    "\n",
    "num. orbitals of irrep B2g = 2\n",
    "\n",
    "num. orbitals of irrep B3g = 1\n",
    "\n",
    "num. orbitals of irrep B1u = 4\n",
    "\n",
    "num. orbitals of irrep B2u = 1\n",
    "\n",
    "num. orbitals of irrep B3u = 2\n",
    "\n",
    "But rather than specifying all the orbitals by symmetry, we can simply write:"
   ]
  },
  {
   "cell_type": "code",
   "execution_count": 17,
   "id": "55448849-e0a0-489b-9edb-86bad0dad75b",
   "metadata": {},
   "outputs": [],
   "source": [
    "active_space = range(mol.nelectron // 2 - 2, mol.nelectron // 2 + 2)"
   ]
  },
  {
   "cell_type": "markdown",
   "id": "160aa2e7-2d7e-4de9-8069-7acdd9f824e2",
   "metadata": {},
   "source": [
    "In this approach, we take several orbitals near the filling level (valence and unoccupied). Here, 5 orbitals have been selected for inclusion in the active space (the 6th though 10th)."
   ]
  },
  {
   "cell_type": "code",
   "execution_count": 18,
   "id": "e8b42f17-9d8a-4564-8c6c-b1d0130690fb",
   "metadata": {},
   "outputs": [
    {
     "name": "stdout",
     "output_type": "stream",
     "text": [
      "6 10\n"
     ]
    }
   ],
   "source": [
    "print(\n",
    "    mol.nelectron // 2 - 2,\n",
    "    mol.nelectron // 2 + 2,\n",
    ")"
   ]
  },
  {
   "cell_type": "markdown",
   "id": "0b5b7cc0-0520-4626-8ffb-684f9154cb1c",
   "metadata": {},
   "source": [
    "4. Third-Party Software\n",
    "\n",
    "There are several software packages developed for quantum chemistry, some offering multiple mappers and tools for restricting active spaces. The steps described above are general and apply to third-party software as well. But this other software may return Hamiltonians in a format that is not accepted by Qiskit. For example, some software returns Hamiltonians of the form:\n",
    "\n",
    "`H = -0.042 [] + -0.045 [X0 X1 Y2 Y3] + ... + 0.178 [Z0] + ... + 0.176 [Z2 Z3] + -0.243 [Z3]`"
   ]
  },
  {
   "cell_type": "markdown",
   "id": "8fa9546f-1cb2-4e4d-816f-8ee630b7e133",
   "metadata": {},
   "source": [
    "Note in particular that the gates are numbered, and identity operators are not shown. This is in contrast to Hamiltonians used in Qiskit, which would write the term `[Z2 Z3]` as `ZZII` (qubits 0 and 1 being acting on by the identity operator, qubits 2 and 3 being acted on by the Z operator, ordered with qubit 0 furthest to the right).\n",
    "\n",
    "To accommodate any existing workstreams you have, the code block below converts from one syntax to the other. The function `convert_openfermion_to_qiskit` takes as its arguments a Hamiltonian generated in OpenFermion or Tangelo (and already mapped onto Pauli operators using any available mapper), and the number of qubits needed for the molecule."
   ]
  },
  {
   "cell_type": "code",
   "execution_count": 19,
   "id": "435e8271-b48e-4e89-9166-91c9cc6f4563",
   "metadata": {},
   "outputs": [],
   "source": [
    "from openfermion import QubitOperator\n",
    "from qiskit.quantum_info import SparsePauliOp\n",
    "\n",
    "\n",
    "def convert_openfermion_to_qiskit(\n",
    "    openfermion_operator: QubitOperator, num_qubits: int\n",
    ") -> SparsePauliOp:\n",
    "    terms = openfermion_operator.terms\n",
    "\n",
    "    labels = []\n",
    "    coefficients = []\n",
    "\n",
    "    for term, constant in terms.items():\n",
    "        # Default set to identity\n",
    "        operator = list(\"I\" * num_qubits)\n",
    "\n",
    "        # Iterate through PauliSum and replace I with Pauli\n",
    "        for index, pauli in term:\n",
    "            operator[index] = pauli\n",
    "        label = \"\".join(operator)\n",
    "        labels.append(label)\n",
    "        coefficients.append(constant)\n",
    "\n",
    "    return SparsePauliOp(labels, coefficients)"
   ]
  },
  {
   "cell_type": "markdown",
   "id": "0fe58207-451d-4bfa-8f2d-8969b1a48cfa",
   "metadata": {},
   "source": [
    "Further, [this Python notebook](https://ibm.box.com/s/fh3xele1e7k0nrgd1imivvq52hy3wz9c) contains complete sample code for migrating Hamiltonians from other software workflows into Qiskit, including the conversion above.\n",
    "\n",
    "You should now have an arsenal of tools for obtaining the Hamiltonian you need to perform quantum chemistry calculations on IBM&reg; quantum computers."
   ]
  }
 ],
 "metadata": {
  "description": "The construction and mapping of Hamiltonians for quantum chemical applications are reviewed. Use use a custom Jordan-Wigner mapper and leverage PySCF.",
  "kernelspec": {
   "display_name": "Python 3",
   "language": "python",
   "name": "python3"
  },
  "language_info": {
   "codemirror_mode": {
    "name": "ipython",
    "version": 3
   },
   "file_extension": ".py",
   "mimetype": "text/x-python",
   "name": "python",
   "nbconvert_exporter": "python",
   "pygments_lexer": "ipython3",
   "version": "3"
  },
  "title": "Hamiltonians"
 },
 "nbformat": 4,
 "nbformat_minor": 2
}
