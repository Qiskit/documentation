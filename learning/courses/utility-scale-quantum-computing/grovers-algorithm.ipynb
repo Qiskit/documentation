{
 "cells": [
  {
   "cell_type": "markdown",
   "id": "52b561f0-ca7b-4c48-801e-ec0323c1a9e8",
   "metadata": {},
   "source": [
    "# Quantum algorithms: Grover Search and applications\n",
    "\n",
    "<Admonition type=\"note\">\n",
    "\n",
    "Atsushi Matsuo (May 10, 2024)\n",
    "\n",
    "PDFs of lecture notes will be available soon. Note that some code snippets may become deprecated since these are static images.\n",
    "\n",
    "*Approximate QPU time to run this experiment is 2 seconds.*\n",
    "\n",
    "</Admonition>\n",
    "\n",
    "\n",
    "## 1. Introduction to Grover's algorithm\n",
    "This notebook is the fourth in a series of lectures on the Path to Utility in Quantum Computing. In this notebook, we will learn about Grover's algorithm.\n",
    "\n",
    "Grover's algorithm is one of the most well-known quantum algorithms due to its quadratic speedup over classical search methods. In classical computing, searching an unsorted database of $N$ items requires $O(N)$ time complexity, meaning that in the worst case, one might have to examine each item individually. However, Grover's algorithm allows us to achieve this search in $O(\\sqrt{N})$ time, leveraging the principles of quantum mechanics to identify the target item more efficiently.\n",
    "\n",
    "The algorithm uses amplitude amplification, a process that increases the probability amplitude of the correct answer state in a quantum superposition, allowing it to be measured with higher probability. This speedup makes Grover's algorithm valuable in various applications beyond simple database search, especially when the dataset size is large. Detailed explanations of the algorithm is provided in the [Grover's algorithm notebook](/learning/courses/fundamentals-of-quantum-algorithms/grover-algorithm/introduction).\n",
    "\n",
    "\n",
    "### The Basic Structure of Grover's Algorithm\n",
    "\n",
    "Grover's algorithm comprises four main components:\n",
    "1. **Initialization**: Setting up the superposition over all possible states.\n",
    "2. **Oracle**: Applying an oracle function that marks the target state by flipping its phase.\n",
    "3. **Diffusion Operator**: Applying a series of operations to amplify the probability of the marked state.\n",
    "\n",
    "Each of these steps plays a critical role in making the algorithm work efficiently. Detailed explanations for each step are provided later."
   ]
  },
  {
   "cell_type": "markdown",
   "id": "a7e988cb-7412-4fde-9d04-a2e5ce380291",
   "metadata": {},
   "source": [
    "## 2. Implementing Grover's Algorithm\n",
    "\n",
    "### 2.1 Preparation\n",
    "Import the necessary libraries and set up the environment for running the quantum circuit."
   ]
  },
  {
   "cell_type": "code",
   "execution_count": 1,
   "id": "3f4b286c-f36e-4b33-a7bf-84f76ee9bf50",
   "metadata": {},
   "outputs": [],
   "source": [
    "%config InlineBackend.figure_format = 'svg' # Makes the images look nice"
   ]
  },
  {
   "cell_type": "code",
   "execution_count": 2,
   "id": "0d9aef29-e9f7-41a6-9dcc-70d4026a9c3e",
   "metadata": {},
   "outputs": [],
   "source": [
    "# importing Qiskit\n",
    "from qiskit import QuantumCircuit, ClassicalRegister, QuantumRegister\n",
    "\n",
    "# import basic plot tools\n",
    "from qiskit.visualization import plot_histogram"
   ]
  },
  {
   "cell_type": "markdown",
   "id": "d04e9ed4-3de7-43d7-932e-df4d5c6dd468",
   "metadata": {},
   "source": [
    "### Step 1: Map problem to quantum circuits and operators\n",
    "\n",
    "Consider a list of 4 elements, where our goal is to identify the index of an element that meets a specific condition. For instance, we want to find the index of the element equal to 2. In this example, the quantum state $|01\\rangle$ represents the index of the element that satisfies this condition, as it points to the position where the value 2 is located."
   ]
  },
  {
   "cell_type": "markdown",
   "id": "0dcc1d65-ba42-48e1-8758-2acdb00ca588",
   "metadata": {},
   "source": [
    "### Step 2: Optimize for target hardware"
   ]
  },
  {
   "cell_type": "markdown",
   "id": "78e8a990-6e61-4342-8b04-d39b5650664d",
   "metadata": {},
   "source": [
    "### 1: Initialization\n",
    "\n",
    "In the initialization step, we create a superposition of all possible states. This is achieved by applying a Hadamard gate to each qubit in an n-qubit register, which will result in an equal superposition of $2^n$ states. Mathematically, this can be represented as:\n",
    "\n",
    "$$\n",
    "\\frac{1}{\\sqrt{N}} \\sum_{x=0}^{N-1} |x\\rangle\n",
    "$$\n",
    "\n",
    "where $N = 2^n$ is the total number of possible states. We also change the state of the ancilla bit to $|-\\rangle$."
   ]
  },
  {
   "cell_type": "code",
   "execution_count": 3,
   "id": "1ef67cc1-51b4-46f5-acd8-65382500234a",
   "metadata": {},
   "outputs": [],
   "source": [
    "def initialization(circuit):\n",
    "    # Initialization\n",
    "    n = circuit.num_qubits\n",
    "    # For input qubits\n",
    "    for qubit in range(n - 1):\n",
    "        circuit.h(qubit)\n",
    "    # For the ancilla bit\n",
    "    circuit.x(n - 1)\n",
    "    circuit.h(n - 1)\n",
    "    circuit.barrier()\n",
    "    return circuit"
   ]
  },
  {
   "cell_type": "code",
   "execution_count": 4,
   "id": "852b1b8c-688f-4d55-bcf3-91cfd7ef02c5",
   "metadata": {
    "scrolled": true
   },
   "outputs": [
    {
     "data": {
      "text/plain": [
       "<Image src=\"/learning/images/courses/utility-scale-quantum-computing/grovers-algorithm/extracted-outputs/852b1b8c-688f-4d55-bcf3-91cfd7ef02c5-0.svg\" alt=\"Output of the previous code cell\" />"
      ]
     },
     "execution_count": 4,
     "metadata": {},
     "output_type": "execute_result"
    }
   ],
   "source": [
    "n = 2\n",
    "qr = QuantumRegister(n, \"q\")\n",
    "anc = QuantumRegister(1, \"ancillary\")\n",
    "initialization_circuit = QuantumCircuit(qr, anc)\n",
    "\n",
    "initialization(initialization_circuit)\n",
    "initialization_circuit.draw(output=\"mpl\", idle_wires=False)"
   ]
  },
  {
   "cell_type": "markdown",
   "id": "60942cc5-c116-43b0-8fdd-14af9f5b7804",
   "metadata": {},
   "source": [
    "### 2: Oracle\n",
    "\n",
    "The oracle is a key part of Grover's algorithm. It marks the target state by applying a phase shift, typically flipping the sign of the amplitude associated with that state. The oracle is often problem-specific and constructed based on the criteria for identifying the target state. In mathematical terms, the oracle applies the following transformation:\n",
    "\n",
    "$\n",
    "f(x) =\n",
    "\\begin{cases}\n",
    "1, & \\text{if } x = x_{\\text{target}} \\\\\n",
    "0, & \\text{otherwise}\n",
    "\\end{cases}\n",
    "$\n",
    "\n",
    "This phase flip is achieved by applying a negative sign to the amplitude of the target state via phase kickback."
   ]
  },
  {
   "cell_type": "code",
   "execution_count": 5,
   "id": "212c4ba3-284b-43e8-bdbe-a16b9bcee341",
   "metadata": {},
   "outputs": [],
   "source": [
    "def oracle(circuit):\n",
    "    circuit.x(1)\n",
    "    circuit.ccx(0, 1, 2)\n",
    "    circuit.x(1)\n",
    "    circuit.barrier()"
   ]
  },
  {
   "cell_type": "code",
   "execution_count": 6,
   "id": "e9e331a6-d696-4b95-99ca-56bec2519e25",
   "metadata": {},
   "outputs": [
    {
     "data": {
      "text/plain": [
       "<Image src=\"/learning/images/courses/utility-scale-quantum-computing/grovers-algorithm/extracted-outputs/e9e331a6-d696-4b95-99ca-56bec2519e25-0.svg\" alt=\"Output of the previous code cell\" />"
      ]
     },
     "execution_count": 6,
     "metadata": {},
     "output_type": "execute_result"
    }
   ],
   "source": [
    "n = 2\n",
    "qr = QuantumRegister(n, \"q\")\n",
    "anc = QuantumRegister(1, \"ancillary\")\n",
    "oracle_circuit = QuantumCircuit(qr, anc)\n",
    "\n",
    "oracle(oracle_circuit)\n",
    "oracle_circuit.draw(output=\"mpl\", idle_wires=False)"
   ]
  },
  {
   "cell_type": "markdown",
   "id": "38f8f3bb-e78f-45b0-b3f3-84c31bb47bb8",
   "metadata": {},
   "source": [
    "### 3: Diffusion Operator\n",
    "\n",
    "The amplitude amplification process is what differentiates Grover's algorithm from a classical search. After the oracle has marked the target state, we apply a series of operations that increase the amplitude of this marked state, making it more likely to be observed upon measurement. This process is achieved through the **Diffusion operator**, which effectively performs an inversion about the average amplitude. The mathematical operation is as follows:\n",
    "\n",
    "$\n",
    "D = 2|\\psi\\rangle\\langle\\psi| - I\n",
    "$\n",
    "\n",
    "where $D$ is the diffusion operator, $I$ is the identity matrix, and $|\\psi\\rangle$ is the equal superposition state. The combination of the oracle and the diffusion operator is applied approximately $\\sqrt{N}$ times to achieve maximum probability for measuring the marked state."
   ]
  },
  {
   "cell_type": "code",
   "execution_count": 7,
   "id": "8f2047d7-aae2-436a-994a-78065eb0ea6e",
   "metadata": {},
   "outputs": [],
   "source": [
    "def diffusion(circuit):\n",
    "    input_qubits = circuit.num_qubits - 1\n",
    "    circuit.h(range(0, input_qubits))\n",
    "    circuit.x(range(0, input_qubits))\n",
    "    circuit.h(input_qubits - 1)\n",
    "    circuit.mcx([i for i in range(0, input_qubits - 1)], input_qubits - 1)\n",
    "    circuit.h(input_qubits - 1)\n",
    "    circuit.x(range(0, input_qubits))\n",
    "    circuit.h(range(0, input_qubits))\n",
    "    circuit.barrier()"
   ]
  },
  {
   "cell_type": "code",
   "execution_count": 8,
   "id": "42661bfd-5abd-40e7-9ca2-10356c54fc7f",
   "metadata": {},
   "outputs": [
    {
     "data": {
      "text/plain": [
       "<Image src=\"/learning/images/courses/utility-scale-quantum-computing/grovers-algorithm/extracted-outputs/42661bfd-5abd-40e7-9ca2-10356c54fc7f-0.svg\" alt=\"Output of the previous code cell\" />"
      ]
     },
     "execution_count": 8,
     "metadata": {},
     "output_type": "execute_result"
    }
   ],
   "source": [
    "n = 2\n",
    "qr = QuantumRegister(n, \"q\")\n",
    "anc = QuantumRegister(1, \"ancillary\")\n",
    "diffusion_circuit = QuantumCircuit(qr, anc)\n",
    "\n",
    "diffusion(diffusion_circuit)\n",
    "diffusion_circuit.draw(output=\"mpl\", idle_wires=False)"
   ]
  },
  {
   "cell_type": "markdown",
   "id": "247e549b-51ba-4cf0-b54a-dd1ffb4d2be2",
   "metadata": {},
   "source": [
    "### 2.2 A 2-qubit Grover search example."
   ]
  },
  {
   "cell_type": "code",
   "execution_count": 9,
   "id": "ba81c65f-a1fb-46b3-aaed-308e75ecd762",
   "metadata": {},
   "outputs": [],
   "source": [
    "n = 2\n",
    "qr = QuantumRegister(n, \"q\")\n",
    "anc = QuantumRegister(1, \"ancillary\")\n",
    "meas = ClassicalRegister(3, \"meas\")\n",
    "grover_circuit = QuantumCircuit(qr, anc, meas)"
   ]
  },
  {
   "cell_type": "code",
   "execution_count": 10,
   "id": "e7fbafd4-b787-4d8c-b740-ab4968b88267",
   "metadata": {},
   "outputs": [],
   "source": [
    "# the number of iterations\n",
    "num_iterations = 1"
   ]
  },
  {
   "cell_type": "code",
   "execution_count": 11,
   "id": "720d3fa7-a293-45c4-8566-493618381a52",
   "metadata": {},
   "outputs": [
    {
     "data": {
      "text/plain": [
       "<Image src=\"/learning/images/courses/utility-scale-quantum-computing/grovers-algorithm/extracted-outputs/720d3fa7-a293-45c4-8566-493618381a52-0.svg\" alt=\"Output of the previous code cell\" />"
      ]
     },
     "execution_count": 11,
     "metadata": {},
     "output_type": "execute_result"
    }
   ],
   "source": [
    "# Let's do Grover search\n",
    "initialization(grover_circuit)\n",
    "\n",
    "for i in range(0, num_iterations):\n",
    "    oracle(grover_circuit)\n",
    "    diffusion(grover_circuit)\n",
    "\n",
    "# Clear the ancilla bit\n",
    "grover_circuit.h(n)\n",
    "grover_circuit.x(n)\n",
    "grover_circuit.measure_all(add_bits=False)\n",
    "\n",
    "grover_circuit.draw(output=\"mpl\", idle_wires=False)"
   ]
  },
  {
   "cell_type": "markdown",
   "id": "ab23ed2a-0d1b-45b2-92e3-4f9ded5e3eff",
   "metadata": {},
   "source": [
    "### 2.3 Experiment with Simulators\n",
    "### Step 3: Executing the circuit."
   ]
  },
  {
   "cell_type": "code",
   "execution_count": 12,
   "id": "a8e78531-fb9d-4626-9394-6eda2ae91c52",
   "metadata": {},
   "outputs": [],
   "source": [
    "from qiskit_aer import AerSimulator\n",
    "from qiskit_ibm_runtime import Sampler\n",
    "from qiskit.transpiler.preset_passmanagers import generate_preset_pass_manager\n",
    "\n",
    "# Define backend\n",
    "backend = AerSimulator()\n",
    "\n",
    "# Transpile to backend\n",
    "pm = generate_preset_pass_manager(backend=backend, optimization_level=1)\n",
    "isa_qc = pm.run(grover_circuit)\n",
    "\n",
    "# Run the job\n",
    "sampler = Sampler(mode=backend)\n",
    "job = sampler.run([isa_qc])\n",
    "result = job.result()"
   ]
  },
  {
   "cell_type": "markdown",
   "id": "d4f5af3c-fd74-4d90-8fdb-1ee9cc969513",
   "metadata": {},
   "source": [
    "### Step 4: Post-processing the results."
   ]
  },
  {
   "cell_type": "code",
   "execution_count": 13,
   "id": "394fb643-f19a-47e5-be57-02a5bfe0d231",
   "metadata": {},
   "outputs": [
    {
     "name": "stdout",
     "output_type": "stream",
     "text": [
      "{'001': 1024}\n"
     ]
    },
    {
     "data": {
      "text/plain": [
       "<Image src=\"/learning/images/courses/utility-scale-quantum-computing/grovers-algorithm/extracted-outputs/394fb643-f19a-47e5-be57-02a5bfe0d231-1.svg\" alt=\"Output of the previous code cell\" />"
      ]
     },
     "execution_count": 13,
     "metadata": {},
     "output_type": "execute_result"
    }
   ],
   "source": [
    "# Print the results\n",
    "counts = result[0].data.meas.get_counts()\n",
    "print(counts)\n",
    "\n",
    "# Plot the counts in a histogram\n",
    "plot_histogram(counts)"
   ]
  },
  {
   "cell_type": "markdown",
   "id": "b115c94a-59c2-4378-a056-0c90cf5d681e",
   "metadata": {},
   "source": [
    "We got the correct answer $|01\\rangle$. Note that be careful with the order of qubits"
   ]
  },
  {
   "cell_type": "markdown",
   "id": "673040a9-d1ac-4fd7-92d5-6592c8977375",
   "metadata": {},
   "source": [
    "## 3. Experiment with Real Devices"
   ]
  },
  {
   "cell_type": "markdown",
   "id": "192b529d-647a-452e-8a51-804fd8bf7f0b",
   "metadata": {},
   "source": [
    "### Step 2: Optimize for target hardware"
   ]
  },
  {
   "cell_type": "code",
   "execution_count": null,
   "id": "899a3af2-c454-44f5-8a82-18b055b673a6",
   "metadata": {},
   "outputs": [],
   "source": [
    "from qiskit_ibm_runtime import QiskitRuntimeService\n",
    "\n",
    "service = QiskitRuntimeService(channel=\"ibm_cloud\")\n",
    "real_backend = service.backend(\"ibm_kyiv\")"
   ]
  },
  {
   "cell_type": "code",
   "execution_count": null,
   "id": "2f7ce88b-af9e-4a0e-aee6-673bb6d836ca",
   "metadata": {},
   "outputs": [],
   "source": [
    "# You can also identify the least busy device\n",
    "\n",
    "real_backend = service.least_busy(simulator=False, operational=True)\n",
    "print(\"The least busy device is \", real_backend)"
   ]
  },
  {
   "cell_type": "code",
   "execution_count": 19,
   "id": "c0c698e1-0708-4715-a005-853248a79874",
   "metadata": {},
   "outputs": [
    {
     "data": {
      "text/plain": [
       "<Image src=\"/learning/images/courses/utility-scale-quantum-computing/grovers-algorithm/extracted-outputs/c0c698e1-0708-4715-a005-853248a79874-0.svg\" alt=\"Output of the previous code cell\" />"
      ]
     },
     "execution_count": 19,
     "metadata": {},
     "output_type": "execute_result"
    }
   ],
   "source": [
    "# Transpile the circuit into basis gates executable on the hardware\n",
    "from qiskit.transpiler.preset_passmanagers import generate_preset_pass_manager\n",
    "\n",
    "pm = generate_preset_pass_manager(backend=real_backend, optimization_level=1)\n",
    "target_circuit = pm.run(grover_circuit)\n",
    "\n",
    "target_circuit.draw(output=\"mpl\", idle_wires=False)"
   ]
  },
  {
   "cell_type": "markdown",
   "id": "f9e2539b-9f50-4349-9613-9c3cf559d18c",
   "metadata": {},
   "source": [
    "By transpiling the circuit, it was converted to a circuit using the native basis gates of the device."
   ]
  },
  {
   "cell_type": "markdown",
   "id": "697b0789-6d25-4674-bf7d-f2a36676e092",
   "metadata": {},
   "source": [
    "### Step 3: Executing the circuit."
   ]
  },
  {
   "cell_type": "code",
   "execution_count": null,
   "id": "540a63fe-5983-4f3c-a887-6b1e9f2e79f9",
   "metadata": {},
   "outputs": [
    {
     "name": "stdout",
     "output_type": "stream",
     "text": [
      "job id: cw69csv19rzg0080yfkg\n"
     ]
    }
   ],
   "source": [
    "sampler = Sampler(real_backend)\n",
    "job_real = sampler.run([target_circuit])\n",
    "job_id = job_real.job_id()\n",
    "print(\"job id:\", job_id)"
   ]
  },
  {
   "cell_type": "code",
   "execution_count": 21,
   "id": "cae77939-e328-48ae-90b4-3c9efba7f7b5",
   "metadata": {},
   "outputs": [
    {
     "data": {
      "text/plain": [
       "'QUEUED'"
      ]
     },
     "execution_count": 21,
     "metadata": {},
     "output_type": "execute_result"
    }
   ],
   "source": [
    "# Check the job status\n",
    "job_real.status()"
   ]
  },
  {
   "cell_type": "code",
   "execution_count": null,
   "id": "822f8be4-884c-46e1-af3f-071668ecf023",
   "metadata": {},
   "outputs": [
    {
     "data": {
      "text/plain": [
       "'DONE'"
      ]
     },
     "execution_count": 22,
     "metadata": {},
     "output_type": "execute_result"
    }
   ],
   "source": [
    "# If the Notebook session got disconnected you can also check your job status by running the following code\n",
    "job_real = service.job(job_id)  # Input your job-id between the quotations\n",
    "job_real.status()"
   ]
  },
  {
   "cell_type": "code",
   "execution_count": 26,
   "id": "1c4c7fe4-52fd-49ab-ada0-85dcae87f514",
   "metadata": {},
   "outputs": [
    {
     "name": "stdout",
     "output_type": "stream",
     "text": [
      "{'101': 540, '001': 2253, '011': 476, '000': 251, '110': 105, '100': 100, '010': 168, '111': 203}\n"
     ]
    }
   ],
   "source": [
    "# Execute after job has successfully run\n",
    "result_real = job_real.result()\n",
    "print(result_real[0].data.meas.get_counts())"
   ]
  },
  {
   "cell_type": "markdown",
   "id": "3006e82c-476c-4dcd-b2d2-af14b72df990",
   "metadata": {},
   "source": [
    "### Step 4: Post-processing the results."
   ]
  },
  {
   "cell_type": "code",
   "execution_count": 27,
   "id": "6c425810-eaec-4d61-a76e-34583664542d",
   "metadata": {},
   "outputs": [
    {
     "data": {
      "text/plain": [
       "<Image src=\"/learning/images/courses/utility-scale-quantum-computing/grovers-algorithm/extracted-outputs/6c425810-eaec-4d61-a76e-34583664542d-0.svg\" alt=\"Output of the previous code cell\" />"
      ]
     },
     "execution_count": 27,
     "metadata": {},
     "output_type": "execute_result"
    }
   ],
   "source": [
    "plot_histogram(result_real[0].data.meas.get_counts())"
   ]
  },
  {
   "cell_type": "markdown",
   "id": "a2875c8d-877b-4199-990a-c4dd61a3de9f",
   "metadata": {},
   "source": [
    "## 4. A 3-qubit Grover Search\n",
    "\n",
    "Now, let's try a 3-qubit Grover search example."
   ]
  },
  {
   "cell_type": "code",
   "execution_count": 45,
   "id": "294426ce-c2c1-4922-9d64-8404fc276415",
   "metadata": {},
   "outputs": [],
   "source": [
    "n = 3\n",
    "qr = QuantumRegister(n, \"q\")\n",
    "anc = QuantumRegister(1, \"ancilla\")\n",
    "grover_circuit = QuantumCircuit(qr, anc)"
   ]
  },
  {
   "cell_type": "code",
   "execution_count": 46,
   "id": "e9687fee-a32a-40ca-ba60-a213adaa3832",
   "metadata": {},
   "outputs": [],
   "source": [
    "# the number of iterations\n",
    "num_iterations = 2"
   ]
  },
  {
   "cell_type": "code",
   "execution_count": 47,
   "id": "fd14dde4-15c9-4aff-b8ae-a18c2ec9d3bb",
   "metadata": {},
   "outputs": [],
   "source": [
    "def oracle(circuit):\n",
    "    circuit.mcx([0, 1, 2], 3)\n",
    "    circuit.barrier()"
   ]
  },
  {
   "cell_type": "markdown",
   "id": "a2ad7966-ac11-49ef-83ae-5a8e91f165f3",
   "metadata": {},
   "source": [
    "This time, $|111\\rangle$ is the \"good\" state."
   ]
  },
  {
   "cell_type": "code",
   "execution_count": 48,
   "id": "eab82e12-1450-47cf-94e0-e631c463575e",
   "metadata": {},
   "outputs": [
    {
     "data": {
      "text/plain": [
       "<Image src=\"/learning/images/courses/utility-scale-quantum-computing/grovers-algorithm/extracted-outputs/eab82e12-1450-47cf-94e0-e631c463575e-0.svg\" alt=\"Output of the previous code cell\" />"
      ]
     },
     "execution_count": 48,
     "metadata": {},
     "output_type": "execute_result"
    }
   ],
   "source": [
    "# Let's do Grover search\n",
    "initialization(grover_circuit)\n",
    "\n",
    "for i in range(0, num_iterations):\n",
    "    oracle(grover_circuit)\n",
    "    diffusion(grover_circuit)\n",
    "\n",
    "# Clear the ancilla bit\n",
    "grover_circuit.h(n)\n",
    "grover_circuit.x(n)\n",
    "\n",
    "\n",
    "grover_circuit.draw(output=\"mpl\", idle_wires=False)"
   ]
  },
  {
   "cell_type": "code",
   "execution_count": 49,
   "id": "21f8e416-9574-4883-b6a5-f7b38908706d",
   "metadata": {},
   "outputs": [
    {
     "name": "stdout",
     "output_type": "stream",
     "text": [
      "{'0111': 977, '0100': 11, '0001': 8, '0000': 8, '0011': 5, '0010': 12, '0110': 3}\n"
     ]
    },
    {
     "data": {
      "text/plain": [
       "<Image src=\"/learning/images/courses/utility-scale-quantum-computing/grovers-algorithm/extracted-outputs/21f8e416-9574-4883-b6a5-f7b38908706d-1.svg\" alt=\"Output of the previous code cell\" />"
      ]
     },
     "execution_count": 49,
     "metadata": {},
     "output_type": "execute_result"
    }
   ],
   "source": [
    "grover_circuit.measure_all()\n",
    "\n",
    "# Define backend\n",
    "backend = AerSimulator()\n",
    "\n",
    "# Transpile to backend\n",
    "pm = generate_preset_pass_manager(backend=backend, optimization_level=1)\n",
    "isa_qc = pm.run(grover_circuit)\n",
    "\n",
    "# Run the job\n",
    "sampler = Sampler(backend)\n",
    "job = sampler.run([isa_qc], shots=1024)\n",
    "result = job.result()\n",
    "\n",
    "# Print the results\n",
    "counts = result[0].data.meas.get_counts()\n",
    "print(counts)\n",
    "\n",
    "# Plot the counts in a histogram\n",
    "plot_histogram(counts)"
   ]
  },
  {
   "cell_type": "markdown",
   "id": "70ebbf9a-55f0-496b-9e4f-5b97ff514cc0",
   "metadata": {},
   "source": [
    "$|0111\\rangle$ is observed with the highest probability, as expected. Note that two iterations are optimal in this case. However, the probability of obtaining the correct answer is not 100%, which is usual in Grover's search."
   ]
  },
  {
   "cell_type": "markdown",
   "id": "ae3f55ba-623f-42e7-be48-6e91c02b4f0b",
   "metadata": {},
   "source": [
    "#### What happens if we iterate 3 times?\n",
    "\n",
    "Now, let's try iterating 3 times."
   ]
  },
  {
   "cell_type": "code",
   "execution_count": 50,
   "id": "cba0be83-8490-49d0-894d-e0c8843502c1",
   "metadata": {},
   "outputs": [],
   "source": [
    "n = 3\n",
    "qr = QuantumRegister(n, \"q\")\n",
    "anc = QuantumRegister(1, \"ancillary\")\n",
    "grover_circuit = QuantumCircuit(qr, anc)"
   ]
  },
  {
   "cell_type": "code",
   "execution_count": 51,
   "id": "fb210c9b-6385-403e-a262-5cd86ee8ef1e",
   "metadata": {},
   "outputs": [],
   "source": [
    "# the number of iterations\n",
    "num_iterations = 3"
   ]
  },
  {
   "cell_type": "code",
   "execution_count": 52,
   "id": "31b2963c-d1af-4f7f-8e61-5c81f37e19c1",
   "metadata": {},
   "outputs": [
    {
     "data": {
      "text/plain": [
       "<Image src=\"/learning/images/courses/utility-scale-quantum-computing/grovers-algorithm/extracted-outputs/31b2963c-d1af-4f7f-8e61-5c81f37e19c1-0.svg\" alt=\"Output of the previous code cell\" />"
      ]
     },
     "execution_count": 52,
     "metadata": {},
     "output_type": "execute_result"
    }
   ],
   "source": [
    "# Let's do Grover search\n",
    "initialization(grover_circuit)\n",
    "\n",
    "for i in range(0, num_iterations):\n",
    "    oracle(grover_circuit)\n",
    "    diffusion(grover_circuit)\n",
    "\n",
    "# Clear the ancilla bit\n",
    "grover_circuit.h(n)\n",
    "grover_circuit.x(n)\n",
    "\n",
    "\n",
    "grover_circuit.draw(output=\"mpl\", idle_wires=False, fold=-1, scale=0.5)"
   ]
  },
  {
   "cell_type": "code",
   "execution_count": 53,
   "id": "17361c99-50c4-4a47-8d26-4c7a97bce3bf",
   "metadata": {},
   "outputs": [
    {
     "name": "stdout",
     "output_type": "stream",
     "text": [
      "{'0010': 88, '0001': 103, '0000': 94, '0111': 334, '0100': 112, '0110': 106, '0101': 99, '0011': 88}\n"
     ]
    },
    {
     "data": {
      "text/plain": [
       "<Image src=\"/learning/images/courses/utility-scale-quantum-computing/grovers-algorithm/extracted-outputs/17361c99-50c4-4a47-8d26-4c7a97bce3bf-1.svg\" alt=\"Output of the previous code cell\" />"
      ]
     },
     "execution_count": 53,
     "metadata": {},
     "output_type": "execute_result"
    }
   ],
   "source": [
    "grover_circuit.measure_all()\n",
    "\n",
    "# Define backend\n",
    "backend = AerSimulator()\n",
    "\n",
    "# Transpile to backend\n",
    "pm = generate_preset_pass_manager(backend=backend, optimization_level=1)\n",
    "isa_qc = pm.run(grover_circuit)\n",
    "\n",
    "# Run the job\n",
    "sampler = Sampler(backend)\n",
    "job = sampler.run([isa_qc], shots=1024)\n",
    "result = job.result()\n",
    "\n",
    "# Print the results\n",
    "counts = result[0].data.meas.get_counts()\n",
    "print(counts)\n",
    "\n",
    "# Plot the counts in a histogram\n",
    "plot_histogram(counts)"
   ]
  },
  {
   "cell_type": "markdown",
   "id": "0970b628-72b3-4a3a-8d7e-2b8df41cc6bc",
   "metadata": {},
   "source": [
    "$|0111\\rangle$ is still observed with the highest probability, though the probability of obtaining the correct answer has slightly decreased."
   ]
  },
  {
   "cell_type": "markdown",
   "id": "cbbb18fe-0bbe-49be-a230-4228bc98f19c",
   "metadata": {},
   "source": [
    "#### How about 4 times?\n",
    "\n",
    "Now, let's try iterating 4 times."
   ]
  },
  {
   "cell_type": "code",
   "execution_count": 54,
   "id": "3fa91ca1-e7b0-4e56-9859-0e97070019d1",
   "metadata": {},
   "outputs": [],
   "source": [
    "n = 3\n",
    "qr = QuantumRegister(n, \"q\")\n",
    "anc = QuantumRegister(1, \"ancillary\")\n",
    "grover_circuit = QuantumCircuit(qr, anc)"
   ]
  },
  {
   "cell_type": "code",
   "execution_count": 55,
   "id": "0c1d4a36-ca5e-4a96-9ea6-cbc673918d5f",
   "metadata": {},
   "outputs": [],
   "source": [
    "# the number of iterations\n",
    "num_iterations = 4"
   ]
  },
  {
   "cell_type": "code",
   "execution_count": 56,
   "id": "7297a8bd-3ace-481e-9631-6559c468b8e4",
   "metadata": {},
   "outputs": [
    {
     "data": {
      "text/plain": [
       "<Image src=\"/learning/images/courses/utility-scale-quantum-computing/grovers-algorithm/extracted-outputs/7297a8bd-3ace-481e-9631-6559c468b8e4-0.svg\" alt=\"Output of the previous code cell\" />"
      ]
     },
     "execution_count": 56,
     "metadata": {},
     "output_type": "execute_result"
    }
   ],
   "source": [
    "# Let's do Grover search\n",
    "initialization(grover_circuit)\n",
    "\n",
    "for i in range(0, num_iterations):\n",
    "    oracle(grover_circuit)\n",
    "    diffusion(grover_circuit)\n",
    "\n",
    "# Clear the ancilla bit\n",
    "grover_circuit.h(n)\n",
    "grover_circuit.x(n)\n",
    "\n",
    "\n",
    "grover_circuit.draw(output=\"mpl\", idle_wires=False, fold=-1, scale=0.5)"
   ]
  },
  {
   "cell_type": "code",
   "execution_count": 57,
   "id": "65017ef5-503f-47a4-83d8-92605521329f",
   "metadata": {},
   "outputs": [
    {
     "name": "stdout",
     "output_type": "stream",
     "text": [
      "{'0110': 127, '0000': 135, '0001': 150, '0101': 164, '0010': 153, '0011': 131, '0100': 150, '0111': 14}\n"
     ]
    },
    {
     "data": {
      "text/plain": [
       "<Image src=\"/learning/images/courses/utility-scale-quantum-computing/grovers-algorithm/extracted-outputs/65017ef5-503f-47a4-83d8-92605521329f-1.svg\" alt=\"Output of the previous code cell\" />"
      ]
     },
     "execution_count": 57,
     "metadata": {},
     "output_type": "execute_result"
    }
   ],
   "source": [
    "grover_circuit.measure_all()\n",
    "\n",
    "# Define backend\n",
    "backend = AerSimulator()\n",
    "\n",
    "# Transpile to backend\n",
    "pm = generate_preset_pass_manager(backend=backend, optimization_level=1)\n",
    "isa_qc = pm.run(grover_circuit)\n",
    "\n",
    "# Run the job\n",
    "sampler = Sampler(backend)\n",
    "job = sampler.run([isa_qc])\n",
    "result = job.result()\n",
    "\n",
    "# Print the results\n",
    "counts = result[0].data.meas.get_counts()\n",
    "print(counts)\n",
    "\n",
    "# Plot the counts in a histogram\n",
    "plot_histogram(counts)"
   ]
  },
  {
   "cell_type": "markdown",
   "id": "54c7b13c-9ded-4e33-a65e-b42876fc178d",
   "metadata": {},
   "source": [
    "$|0111\\rangle$ is observed with the lowest probability, and the probability of obtaining the correct answer has decreased further.\n",
    "This demonstrates the importance of choosing the optimal number of iterations for Grover's algorithm to achieve the best results."
   ]
  },
  {
   "cell_type": "code",
   "execution_count": 1,
   "id": "cfb211be-cdf6-494c-b4f0-071cf06bc00f",
   "metadata": {},
   "outputs": [
    {
     "data": {
      "text/plain": [
       "'2.0.2'"
      ]
     },
     "execution_count": 1,
     "metadata": {},
     "output_type": "execute_result"
    }
   ],
   "source": [
    "# See the version of Qiskit\n",
    "import qiskit\n",
    "\n",
    "qiskit.__version__"
   ]
  }
 ],
 "metadata": {
  "description": "This notebook is the fourth in a series of modules. In this notebook, we will learn about Grover's algorithm.",
  "kernelspec": {
   "display_name": "Python 3",
   "language": "python",
   "name": "python3"
  },
  "language_info": {
   "codemirror_mode": {
    "name": "ipython",
    "version": 3
   },
   "file_extension": ".py",
   "mimetype": "text/x-python",
   "name": "python",
   "nbconvert_exporter": "python",
   "pygments_lexer": "ipython3",
   "version": "3"
  },
  "title": "Grover algorithm",
  "widgets": {
   "application/vnd.jupyter.widget-state+json": {
    "state": {},
    "version_major": 2,
    "version_minor": 0
   }
  }
 },
 "nbformat": 4,
 "nbformat_minor": 5
}