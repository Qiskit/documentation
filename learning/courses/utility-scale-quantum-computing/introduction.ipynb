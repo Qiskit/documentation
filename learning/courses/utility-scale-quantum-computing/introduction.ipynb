{
 "cells": [
  {
   "cell_type": "markdown",
   "id": "716e3f51-e2a8-4bab-baac-48cefc5e5761",
   "metadata": {},
   "source": [
    "# Introduction\n",
    "\n",
    "Welcome to utility-scale quantum computing!\n",
    "\n",
    "This course is based on a live course held at the University of Tokyo in 2024. Each lesson consists of a PDF that was used in a lecture context, and a computational lab activity. In some cases, the labs are sparse and merely show a workflow and the explanation is in the associated PDF. In other cases, the labs contain detailed explanations and mathematical motivation.\n",
    "\n",
    "**Lessons 2-6** cover famous algorithms like Grover's and quantum phase estimation. These are undeniably important to our understanding of the potential power of quantum computing, but they are mostly tangential to the utility-scale calculation to which we are building. If you are new to quantum computing, you should definitely work through these. If you have substantial experience in quantum computing, nothing new is added in these lessons that is specific to the utility-scale calculation at hand.\n",
    "\n",
    "**Lessons 7-8** review quantum and classical simulation. The lesson on classical simulation was written by Professor Yoshiaki Kawase of the University of Tokyo, and is hosted externally on GitHub.\n",
    "\n",
    "**Lesson 9** focuses on modern quantum computing hardware.\n",
    "\n",
    "Beginning in **lesson 10**, we cover topics that are of special importance in the context of a utility-scale calculation. Understanding circuit optimization (**lesson 10**) and mitigation of errors (**lesson 11**) is critical to achieving good results at this scale. The utility-scale calculation itself begins in **lesson 12** and concludes in **lesson 14**.\n",
    "\n",
    "Good-faith estimates of required QPU time have been provided at the top of each lesson, but your calculations may vary slightly. There is no quiz or badge associated with this course.\n",
    "\n",
    "We hope these instructional assets are useful to you and your students in achieving useful quantum computing.\n",
    "\n",
    "(PDFs of lecture notes will be available soon.)"
   ]
  }
 ],
 "metadata": {
  "description": "This course is based on a live course held at the University of Tokyo in 2024, full of utility scale examples.",
  "kernelspec": {
   "display_name": "Python 3",
   "language": "python",
   "name": "python3"
  },
  "language_info": {
   "codemirror_mode": {
    "name": "ipython",
    "version": 3
   },
   "file_extension": ".py",
   "mimetype": "text/x-python",
   "name": "python",
   "nbconvert_exporter": "python",
   "pygments_lexer": "ipython3",
   "version": "3"
  },
  "title": "Introduction",
  "widgets": {
   "application/vnd.jupyter.widget-state+json": {
    "state": {},
    "version_major": 2,
    "version_minor": 0
   }
  }
 },
 "nbformat": 4,
 "nbformat_minor": 5
}