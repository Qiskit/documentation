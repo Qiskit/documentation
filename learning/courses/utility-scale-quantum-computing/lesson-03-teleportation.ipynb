{
 "cells": [
  {
   "cell_type": "markdown",
   "id": "f167e07a-d30f-4325-9b00-546f9ce6dcd7",
   "metadata": {
    "slideshow": {
     "slide_type": "slide"
    }
   },
   "source": [
    "# 3. Quantum Teleportation and Superdense Coding\n",
    "\n",
    "\n",
    "<Admonition type=\"note\">\n",
    "\n",
    "Kifumi Numata (Apr 26, 2024)\n",
    "\n",
    "PDFs of lecture notes will be available soon and please note that some code snippets may become deprecated since these are static images.\n",
    "\n",
    "*Approximate QPU time to run this experiment is 10 seconds.*\n",
    "\n",
    "</Admonition>"
   ]
  },
  {
   "cell_type": "markdown",
   "id": "19164bfe-624a-4b04-8c97-ae3512ca5349",
   "metadata": {},
   "source": [
    "## 1. Introduction\n",
    "\n",
    "To solve any utility scale quantum problem, we will need to move information around on a quantum computer from one qubit to another. There are well-known protocols for doing this, but some of the most foundational were cast in the context of sending information between distant parties. Throughout this lesson, we will sometimes use language consistent with this context, such as \"distant friends sending information\". But keep in mind that these protocols have broader significance in quantum computing. In this lesson we consider the following quantum communication protocols:\n",
    "- **Quantum teleportation**\n",
    "    Using a shared entangled state (sometimes called an e-bit) to send an unknown quantum state to a distant friend, requiring supplemental classical communication.\n",
    "- **Quantum superdense coding**\n",
    "    How to send 2 bits of information by sending a single qubit to a distant friend (again using prior shared entangled qubits).\n",
    "\n",
    "For more background relevant to these topics, we recommend lesson 4 in Basics of Quantum Information on [Entanglement in Action](https://learning.quantum.ibm.com/course/basics-of-quantum-information/entanglement-in-action).\n",
    "\n",
    "In the above description, an \"unknown quantum state\" simply refers to a state of the form described in the previous lesson:\n",
    "$$\n",
    "|\\psi\\rangle =\\alpha|0\\rangle+\\beta|1\\rangle\n",
    "$$\n",
    "where $\\alpha$ and $\\beta$ are complex numbers such that $|\\alpha|^2+|\\beta|^2 = 1$.  This allows us to write the quantum state as\n",
    "$$\n",
    "|\\psi\\rangle =\\cos\\frac{\\theta}{2}|0\\rangle+e^{i\\varphi}\\sin\\frac{\\theta}{2}|1\\rangle=\n",
    "\\left(\n",
    "\\begin{matrix}\n",
    "\\cos\\frac{\\theta}{2}\\\\\n",
    "e^{i\\varphi}\\sin\\frac{\\theta}{2}\n",
    "\\end{matrix}\n",
    "\\right)\n",
    "$$\n",
    "Since we want to be able to transfer the information in any random quantum state, generating such a state is where we will begin this lesson."
   ]
  },
  {
   "cell_type": "markdown",
   "id": "22f8e004-ba30-4032-a29a-e544fb1bf138",
   "metadata": {},
   "source": [
    "## 2. Density matrices\n",
    "\n",
    "We can also write the quantum state $|\\psi \\rangle$ as its density matrix. This form is useful for denoting probabilistic mixture\n",
    "of pure quantum states. In the case of a single qubit, we can write\n",
    "\n",
    "$$\n",
    "|\\psi \\rangle \\langle \\psi| \\equiv  \\rho = \\left(\n",
    "\\begin{pmatrix}\n",
    "\\cos\\frac{\\theta}{2}\\\\\n",
    "e^{i\\varphi}\\sin\\frac{\\theta}{2}\n",
    "\\end{pmatrix}\n",
    "\\right)\n",
    "\\left(\n",
    "\\begin{pmatrix}\n",
    "\\cos\\frac{\\theta}{2} & e^{-i\\varphi}\\sin\\frac{\\theta}{2}\n",
    "\\end{pmatrix}\n",
    "\\right)\n",
    "=\\frac{1}{2}\\left(\\begin{pmatrix}\n",
    "1+\\cos\\theta & e^{-i\\varphi}\\sin\\theta\\\\\n",
    "e^{-i\\varphi}\\sin\\theta & 1-\\cos\\theta\n",
    "\\end{pmatrix}\\right)\n",
    "$$\n",
    "\n",
    "Note that the density matrix $\\rho$ is a linear summation of Pauli matrices, as below,\n",
    "\n",
    "$$\n",
    "\\rho = \\frac{1}{2}\\bigl( \\textbf{I} + (\\sin{\\theta}\\cos{\\varphi})\\textbf{X}+  (\\sin{\\theta}\\sin{\\varphi})\\textbf{Y} +  (\\cos{\\theta})\\textbf{Z} \\bigr)\n",
    "$$\n",
    "\n",
    "Or, in general,\n",
    "\n",
    "$$\n",
    "\\rho = \\frac{1}{2}(\\textbf{I} + r_{x}\\textbf{X}+ r_{y}\\textbf{Y} + r_{z}\\textbf{Z})\n",
    "$$\n",
    "\n",
    "where\n",
    "$r_{x}^2+r_{y}^2+r_{z}^2=1$.\n",
    "\n",
    "And, the Bloch vector is $\\textbf{r} = (r_{x}, r_{y}, r_{z})$.\n",
    "\n",
    "Now, let's make an arbitrary quantum state using random numbers."
   ]
  },
  {
   "cell_type": "code",
   "execution_count": 1,
   "id": "574386fb-2b46-4972-80cf-2ad219b51bfd",
   "metadata": {},
   "outputs": [
    {
     "name": "stdout",
     "output_type": "stream",
     "text": [
      "theta=1.3101132663588946 ,varphi=4.525932273597346\n",
      "(rx, ry, rz) = (-0.1791150283307452, -0.9494670044331133, 0.2577405946274022)\n"
     ]
    }
   ],
   "source": [
    "import numpy as np\n",
    "\n",
    "# create a random 1-qubit state from a random (theta, varphi) to define r vector\n",
    "np.random.seed(1)  # fixing seed for repeatability\n",
    "\n",
    "theta = np.random.uniform(0.0, 1.0) * np.pi  # from 0 to pi\n",
    "varphi = np.random.uniform(0.0, 2.0) * np.pi  # from 0 to 2*pi\n",
    "\n",
    "\n",
    "def get_r_vec(theta, varphi):\n",
    "    rx = np.sin(theta) * np.cos(varphi)\n",
    "    ry = np.sin(theta) * np.sin(varphi)\n",
    "    rz = np.cos(theta)\n",
    "    return (rx, ry, rz)\n",
    "\n",
    "\n",
    "# get r vector\n",
    "rx, ry, rz = get_r_vec(theta, varphi)\n",
    "\n",
    "print(\"theta=\" + str(theta), \",varphi=\" + str(varphi))\n",
    "print(\"(rx, ry, rz) = (\" + str(rx) + \", \" + str(ry) + \", \" + str(rz) + \")\")"
   ]
  },
  {
   "cell_type": "markdown",
   "id": "32d2a448-f43d-4fa2-94e1-df81f42c1318",
   "metadata": {},
   "source": [
    "We can show this bloch vector on the Bloch sphere."
   ]
  },
  {
   "cell_type": "code",
   "execution_count": 2,
   "id": "5c6bc313-f529-40bb-97c8-4c1eabeeda6c",
   "metadata": {},
   "outputs": [
    {
     "data": {
      "text/plain": [
       "<Image src=\"/learning/images/courses/utility-scale-quantum-computing/lesson-03-teleportation/extracted-outputs/2e4d869d-5d0d-4c4b-8cf9-e8e05b423a00-0.avif\" alt=\"Output of the previous code cell\" />"
      ]
     },
     "execution_count": 2,
     "metadata": {},
     "output_type": "execute_result"
    }
   ],
   "source": [
    "from qiskit.visualization import plot_bloch_vector\n",
    "\n",
    "r = [rx, ry, rz]\n",
    "plot_bloch_vector(r)"
   ]
  },
  {
   "attachments": {},
   "cell_type": "markdown",
   "id": "43c11e7e-93df-45ed-b175-4b71b4780acf",
   "metadata": {},
   "source": [
    "## 3. Quantum state tomography\n",
    "\n",
    "If you just measure the quantum state in the computational basis ($|0 \\rangle$ and  $|1 \\rangle$), the phase information (the complex number information) will be lost. But if we have many copies of $|\\psi \\rangle$ by repeating the preparation process (we can't clone states, but we can repeat preparation processes), we can estimate the value of $r_{x}, r_{y}, r_{z}$ by performing *quantum state tomography* for density matrix $\\rho$. Given the form:\n",
    "\n",
    "$$\n",
    "\\rho = \\frac{1}{2}(\\textbf{I} + r_{x}\\textbf{X}+ r_{y}\\textbf{Y} + r_{z}\\textbf{Z})\n",
    "$$\n",
    "\n",
    "it holds that\n",
    "\n",
    "$$\n",
    "Tr(\\textbf{X} \\rho) =  r_{x}, \\quad Tr(\\textbf{Y} \\rho) =  r_{y}, \\quad Tr(\\textbf{Z} \\rho) =  r_{z}\n",
    "$$\n",
    "\n",
    "In $r_{z}$ case,\n",
    "\n",
    "$$\n",
    "Tr(\\textbf{Z} \\rho) =  \\langle 0|\\textbf{Z} \\rho|0 \\rangle +  \\langle 1|\\textbf{Z} \\rho|1 \\rangle\n",
    "$$\n",
    "$$\n",
    "= \\langle 0|(|0 \\rangle\\langle 0|-|1 \\rangle\\langle 1|) \\rho|0 \\rangle +\\langle 1|(|0 \\rangle\\langle 0|-|1 \\rangle\\langle 1|) \\rho|1 \\rangle\n",
    "$$\n",
    "$$\n",
    "=\\langle 0|\\rho|0 \\rangle- \\langle 1| \\rho|1 \\rangle\n",
    "$$\n",
    "$$\n",
    "=\\langle 0|\\psi\\rangle\\langle \\psi|0 \\rangle -  \\langle 1| \\psi\\rangle\\langle \\psi|1 \\rangle\n",
    "$$\n",
    "$$\n",
    "=|\\alpha|^2-|\\beta|^2\n",
    "$$\n",
    "\n",
    "The last transformation of the equation is for $|\\psi \\rangle  =\\alpha|0\\rangle+\\beta|1\\rangle$. Therefore, we can obtain $r_{z}$ by  Probability of $|0 \\rangle$  - Probability of $|1 \\rangle$.\n",
    "\n",
    "### Estimate $r_z$ value\n",
    "\n",
    "In order to estimate $r_z$, we create a quantum state and measure it. We then repeat the preparation and measurement many times. Finally we use the statistics of the measurement to estimate the probabilities above and thus estimate $r_z$.\n",
    "\n",
    "For creating the random quantum state, we will use the general unitary gate $U$ with the parameters; $ \\theta, \\varphi$. (Please refer to [U-gate](https://qiskit.org/documentation/stubs/qiskit.circuit.library.UGate.html) for more information.)"
   ]
  },
  {
   "cell_type": "code",
   "execution_count": 3,
   "id": "0ae5980a-c611-4cb4-95ad-cc2806824c4e",
   "metadata": {},
   "outputs": [
    {
     "data": {
      "text/plain": [
       "<Image src=\"/learning/images/courses/utility-scale-quantum-computing/lesson-03-teleportation/extracted-outputs/b1327267-f2fe-4a61-91d9-328c672b557e-0.avif\" alt=\"Output of the previous code cell\" />"
      ]
     },
     "execution_count": 3,
     "metadata": {},
     "output_type": "execute_result"
    }
   ],
   "source": [
    "from qiskit import QuantumCircuit\n",
    "\n",
    "# create a 1-qubit quantum state psi from theta, varphi parameters\n",
    "qc = QuantumCircuit(1, 1)\n",
    "qc.u(theta, varphi, 0.0, 0)\n",
    "\n",
    "# measure in computational basis\n",
    "qc.measure(0, 0)\n",
    "\n",
    "qc.draw(output=\"mpl\")"
   ]
  },
  {
   "cell_type": "markdown",
   "id": "d9125597-0fc1-4784-a9a7-34b5c81c994f",
   "metadata": {},
   "source": [
    "Using the `AerSimulator`, we will measure it in the computational basis to estimate $r_z$."
   ]
  },
  {
   "cell_type": "code",
   "execution_count": 4,
   "id": "77cc485a-019e-4d0d-b269-0b67cebdf218",
   "metadata": {},
   "outputs": [
    {
     "name": "stdout",
     "output_type": "stream",
     "text": [
      "{'1': 375, '0': 625}\n"
     ]
    },
    {
     "data": {
      "text/plain": [
       "<Image src=\"/learning/images/courses/utility-scale-quantum-computing/lesson-03-teleportation/extracted-outputs/6d5006d5-6eac-4015-be9d-bd5f01e046b7-1.avif\" alt=\"Output of the previous code cell\" />"
      ]
     },
     "execution_count": 4,
     "metadata": {},
     "output_type": "execute_result"
    }
   ],
   "source": [
    "# see if the expected value of measuring in the computational basis\n",
    "# approaches the limit of rz\n",
    "from qiskit_aer import AerSimulator\n",
    "from qiskit.transpiler.preset_passmanagers import generate_preset_pass_manager\n",
    "from qiskit_ibm_runtime import Sampler\n",
    "from qiskit.visualization import plot_histogram\n",
    "\n",
    "# Define backend\n",
    "backend = AerSimulator()\n",
    "nshots = 1000  # or 10000\n",
    "# nshots = 10000\n",
    "\n",
    "# Transpile to backend\n",
    "pm = generate_preset_pass_manager(backend=backend, optimization_level=1)\n",
    "isa_qc = pm.run(qc)\n",
    "\n",
    "# Run the job\n",
    "sampler = Sampler(mode=backend)\n",
    "job = sampler.run([isa_qc], shots=nshots)\n",
    "result = job.result()\n",
    "\n",
    "# Extract counts data\n",
    "counts = result[0].data.c.get_counts()\n",
    "print(counts)\n",
    "\n",
    "# Plot the counts in a histogram\n",
    "\n",
    "plot_histogram(counts)"
   ]
  },
  {
   "cell_type": "code",
   "execution_count": 5,
   "id": "42fd8ba1-91ce-4d97-a39d-be6acc37e8bf",
   "metadata": {},
   "outputs": [
    {
     "name": "stdout",
     "output_type": "stream",
     "text": [
      "rz =  0.2577405946274022  and approx of rz =  0.25\n"
     ]
    }
   ],
   "source": [
    "rz_approx = (counts[\"0\"] - counts[\"1\"]) / nshots\n",
    "\n",
    "print(\"rz = \", rz, \" and approx of rz = \", rz_approx)"
   ]
  },
  {
   "cell_type": "markdown",
   "id": "877ceb84-13df-450a-976e-6d559febb498",
   "metadata": {},
   "source": [
    "Using the quantum state tomography method, we estimated the $r_z$ value. In this case, since we chose a parameter for the \"random\" state, we know the value of $r_z$ and can check our work. But by its very nature, utility-scale work is not always so trivial to check. We will discuss more about checking quantum results later in this course. For now, simply note that our estimation was reasonably accurate."
   ]
  },
  {
   "cell_type": "markdown",
   "id": "86429330-2e33-4662-821c-46ad0684b8eb",
   "metadata": {},
   "source": [
    "### Exercise 1: Estimate $r_x$ value\n",
    "Recall that IBM quantum computers measure along the $z$-axis (sometimes stated \"in the $z$ basis\" or \"in the computational basis\"). However, by using rotations before the measurement, we can measure the quantum state's projection on the x-axis, also. To be more precise, if we rotate our system such that things that did point along $x$ now point along $z$, then we can keep the same measurement hardware along $z$, but learn about the state that was just along $x$ a moment ago. This is how most quantum computers (and all IBM quantum comptuers) perform measurements along multiple axes.\n",
    "\n",
    "With this understanding, try writing code to estimate the value of $r_x,$ using quantum state tomography.\n",
    "\n",
    "__Solution__:"
   ]
  },
  {
   "cell_type": "code",
   "execution_count": 6,
   "id": "57b87a3c-e14c-48af-8a35-43c8557c9648",
   "metadata": {},
   "outputs": [
    {
     "data": {
      "text/plain": [
       "<Image src=\"/learning/images/courses/utility-scale-quantum-computing/lesson-03-teleportation/extracted-outputs/fcecbe31-9196-4804-8afa-e23e313880df-0.avif\" alt=\"Output of the previous code cell\" />"
      ]
     },
     "execution_count": 6,
     "metadata": {},
     "output_type": "execute_result"
    }
   ],
   "source": [
    "# create a 1-qubit quantum state psi from theta, varphi parameters\n",
    "qc = QuantumCircuit(1, 1)\n",
    "qc.u(theta, varphi, 0.0, 0)\n",
    "\n",
    "qc.h(0)\n",
    "qc.measure(0, 0)\n",
    "\n",
    "qc.draw(output=\"mpl\")"
   ]
  },
  {
   "cell_type": "code",
   "execution_count": 7,
   "id": "c527b25d-a948-459d-93ab-bff6e397ada8",
   "metadata": {},
   "outputs": [
    {
     "name": "stdout",
     "output_type": "stream",
     "text": [
      "{'1': 5925, '0': 4075}\n"
     ]
    },
    {
     "data": {
      "text/plain": [
       "<Image src=\"/learning/images/courses/utility-scale-quantum-computing/lesson-03-teleportation/extracted-outputs/c876f970-cd7a-43d6-8c65-b0298daa8b0b-1.avif\" alt=\"Output of the previous code cell\" />"
      ]
     },
     "execution_count": 7,
     "metadata": {},
     "output_type": "execute_result"
    }
   ],
   "source": [
    "# Define backend\n",
    "backend = AerSimulator()\n",
    "nshots = 10000\n",
    "\n",
    "# Transpile to backend\n",
    "pm = generate_preset_pass_manager(backend=backend, optimization_level=1)\n",
    "isa_qc = pm.run(qc)\n",
    "\n",
    "# Run the job\n",
    "sampler = Sampler(mode=backend)\n",
    "job = sampler.run([isa_qc], shots=nshots)\n",
    "result = job.result()\n",
    "\n",
    "# Extract counts data\n",
    "counts = result[0].data.c.get_counts()\n",
    "print(counts)\n",
    "\n",
    "# Plot the counts in a histogram\n",
    "plot_histogram(counts)"
   ]
  },
  {
   "cell_type": "code",
   "execution_count": 8,
   "id": "dd2be304-3a9d-4458-a4ea-a9786c2c82ac",
   "metadata": {},
   "outputs": [
    {
     "name": "stdout",
     "output_type": "stream",
     "text": [
      "rx =  -0.1791150283307452  and approx of rx =  -0.185\n"
     ]
    }
   ],
   "source": [
    "rx_approx = (counts[\"0\"] - counts[\"1\"]) / nshots\n",
    "\n",
    "print(\"rx = \", rx, \" and approx of rx = \", rx_approx)"
   ]
  },
  {
   "cell_type": "markdown",
   "id": "d7fdc676-1328-42ab-a966-71419d7d950f",
   "metadata": {},
   "source": [
    "### Exercise 2: Estimate $r_y$ value\n",
    "Using the same logical arguments as before, we can rotate the system prior to measurement to learn about the $r_y$.\n",
    "Try writing code yourself to estimate the value of $r_y$ using the quantum state tomography. You could start with the previous example, but make different rotations. (For more information about the various gates used, including ```sdg``` please refer [this](https://docs.quantum.ibm.com/api/qiskit/qiskit.circuit.QuantumCircuit#sdg).)\n",
    "\n",
    "__Solution__:"
   ]
  },
  {
   "cell_type": "code",
   "execution_count": 9,
   "id": "dce9e7a6-2a05-4548-8faf-e36d6286f7b4",
   "metadata": {},
   "outputs": [
    {
     "data": {
      "text/plain": [
       "<Image src=\"/learning/images/courses/utility-scale-quantum-computing/lesson-03-teleportation/extracted-outputs/aad8d350-6ecd-436f-8cc2-46de5a72b1f2-0.avif\" alt=\"Output of the previous code cell\" />"
      ]
     },
     "execution_count": 9,
     "metadata": {},
     "output_type": "execute_result"
    }
   ],
   "source": [
    "# create a 1-qubit quantum state psi from theta, varphi parameters\n",
    "qc = QuantumCircuit(1, 1)\n",
    "qc.u(theta, varphi, 0.0, 0)\n",
    "\n",
    "qc.sdg(0)\n",
    "qc.h(0)\n",
    "qc.measure(0, 0)\n",
    "\n",
    "qc.draw(output=\"mpl\")"
   ]
  },
  {
   "cell_type": "code",
   "execution_count": 10,
   "id": "be3bc912-7234-44d9-969f-b1722c24575f",
   "metadata": {},
   "outputs": [
    {
     "name": "stdout",
     "output_type": "stream",
     "text": [
      "{'1': 9759, '0': 241}\n"
     ]
    },
    {
     "data": {
      "text/plain": [
       "<Image src=\"/learning/images/courses/utility-scale-quantum-computing/lesson-03-teleportation/extracted-outputs/0c8397a3-f9bc-42c5-b872-caec6dc4396b-1.avif\" alt=\"Output of the previous code cell\" />"
      ]
     },
     "execution_count": 10,
     "metadata": {},
     "output_type": "execute_result"
    }
   ],
   "source": [
    "# Define backend\n",
    "backend = AerSimulator()\n",
    "nshots = 10000\n",
    "\n",
    "# Transpile to backend\n",
    "pm = generate_preset_pass_manager(backend=backend, optimization_level=1)\n",
    "isa_qc = pm.run(qc)\n",
    "\n",
    "# Run the job\n",
    "sampler = Sampler(mode=backend)\n",
    "job = sampler.run([isa_qc], shots=nshots)\n",
    "result = job.result()\n",
    "\n",
    "# Extract counts data\n",
    "counts = result[0].data.c.get_counts()\n",
    "print(counts)\n",
    "\n",
    "# Plot the counts in a histogram\n",
    "plot_histogram(counts)"
   ]
  },
  {
   "cell_type": "code",
   "execution_count": 11,
   "id": "d67d5d72-44ef-474a-92e6-99d93fc4fcc6",
   "metadata": {},
   "outputs": [
    {
     "name": "stdout",
     "output_type": "stream",
     "text": [
      "ry =  -0.9494670044331133  and approx of ry =  -0.9518\n"
     ]
    }
   ],
   "source": [
    "ry_approx = (counts[\"0\"] - counts[\"1\"]) / nshots\n",
    "\n",
    "print(\"ry = \", ry, \" and approx of ry = \", ry_approx)"
   ]
  },
  {
   "cell_type": "markdown",
   "id": "505b1bec-1e47-4f07-b294-1a150d8069c1",
   "metadata": {},
   "source": [
    "We have now estimated all components of $\\vec{r}$ and can write out the full vector."
   ]
  },
  {
   "cell_type": "code",
   "execution_count": 12,
   "id": "8f8b6658-6d87-48ab-a3c5-86b4decb4efb",
   "metadata": {},
   "outputs": [
    {
     "name": "stdout",
     "output_type": "stream",
     "text": [
      "Estimated vector is ( -0.185 , -0.9518 , 0.25 ).\n",
      "Original random vector was (-0.1791150283307452, -0.9494670044331133, 0.2577405946274022).\n"
     ]
    }
   ],
   "source": [
    "print(\"Estimated vector is (\", rx_approx, \",\", ry_approx, \",\", rz_approx, \").\")\n",
    "print(\"Original random vector was (\" + str(rx) + \", \" + str(ry) + \", \" + str(rz) + \").\")"
   ]
  },
  {
   "cell_type": "markdown",
   "id": "02be768a-ffe3-45a5-b0a3-7d6031999ae4",
   "metadata": {},
   "source": [
    "You obtained the estimation of the original random vector fairly accurately using this quantum sate tomography method."
   ]
  },
  {
   "cell_type": "markdown",
   "id": "09ee1683-024d-46f1-bb2d-10f74bcb44ac",
   "metadata": {},
   "source": [
    "## 4. Quantum teleportation\n",
    "\n",
    "Let us consider the situation when a character Alice wants to send an unknown quantum state $|\\psi \\rangle$ to her friend Bob, who is far away. Assume they can only communicate with classical communication (like using email or a phone). Alice cannot copy the quantum state (due to the no-cloning theorem). If she repeated the same preparation process many times, she could build up statistics as we just did. But what if there is only a single unknown state? This state might have emerged from a physical process you want to study. Or it could be part of a larger quantum computation. In that case, how could Alice send the state to Bob? She can, if she and Bob share a valuable quantum resource: a shared entangled state, like the Bell state introduced in the previous lesson: $\\frac {|00\\rangle + |11\\rangle}{\\sqrt 2}.$ You may sometimes also see this referred to as an \"EPR pair\" or an \"e-bit\" (a fundamental unit of entanglement). If Alice shares such an entangled state with Bob, she can *teleport* the unknown quantum state to Bob by performing a series of quantum operations and sending him two bits of classical information.\n",
    "\n",
    "### 4.1 The protocol of Quantum teleportation\n",
    "**Assumption**: Alice has an unknown quantum state $|\\psi \\rangle$ to be sent to Bob. Alice and Bob shares a 2-qubit entangled state, or e-bit, each having one of the qubits physically at their location.\n",
    "\n",
    "Here we outline the procedure without explanation. These will be implemented in detail below.\n",
    "1. Alice entangles $|\\psi \\rangle$  with her part of the e-bit using the CNOT gate.\n",
    "2. Alice applies a Hadamard gate to $|\\psi \\rangle$, and measures both her qubits in the computational basis.\n",
    "3. Alice sends Bob her measurement results (either “00”, “01”, “10”, or “11”)\n",
    "4. Bob performs a *correction* operator based on Alice’s 2-bit of information on his part of the e-bit pair.\n",
    "    - If “00”, Bob does nothing\n",
    "    - If “01”, Bob applies X gate\n",
    "    - If “10”, Bob applies Z gate\n",
    "    - If “11”, Bob applies iY = ZX gate\n",
    "5. Bob's part of the e-bit becomes $|\\psi \\rangle$.\n",
    "\n",
    "This is also worked out in more detail in [Basics of Quantum Information](https://learning.quantum.ibm.com/course/basics-of-quantum-information/entanglement-in-action#teleportation). But the situation will become more clear as we instantiate this in Qiskit."
   ]
  },
  {
   "cell_type": "markdown",
   "id": "4a87a017-32a9-4e2a-a67b-b422542eb154",
   "metadata": {},
   "source": [
    "### 4.2 Quantum circuit simulating the quantum teleportation\n",
    "\n",
    "As always, we will apply the Qiskit patterns framework. This subsection will focus on mapping only.\n",
    "\n",
    "### Step 1: Map problem to quantum circuits and operators\n",
    "\n",
    "To describe the scenario above, we need a circuit with three qubits: two for the entangled pair shared by Alice and Bob, and one for the unknown quantum state $|\\psi\\rangle$."
   ]
  },
  {
   "cell_type": "code",
   "execution_count": 56,
   "id": "a23a0c69-3735-467e-a474-d74fbba30184",
   "metadata": {},
   "outputs": [],
   "source": [
    "from qiskit import QuantumCircuit\n",
    "import numpy as np"
   ]
  },
  {
   "cell_type": "code",
   "execution_count": 14,
   "id": "e1e058ab-b88d-46e5-8b12-b3c878fad02f",
   "metadata": {},
   "outputs": [
    {
     "data": {
      "text/plain": [
       "<Image src=\"/learning/images/courses/utility-scale-quantum-computing/lesson-03-teleportation/extracted-outputs/0e231d46-e185-42c7-a7f6-33b784f4a8f2-0.avif\" alt=\"Output of the previous code cell\" />"
      ]
     },
     "execution_count": 14,
     "metadata": {},
     "output_type": "execute_result"
    }
   ],
   "source": [
    "# create 3-qubits circuit\n",
    "qc = QuantumCircuit(3, 3)\n",
    "\n",
    "qc.draw(output=\"mpl\")"
   ]
  },
  {
   "cell_type": "markdown",
   "id": "f6dcd62b-ba34-4309-a96c-4db8dc802b16",
   "metadata": {},
   "source": [
    "At the start, Alice has an unknown quantum state $|\\psi \\rangle.$ We will create this using the $U$ gate."
   ]
  },
  {
   "cell_type": "code",
   "execution_count": 15,
   "id": "197e3da6-a201-4852-8d8d-baba02caf91d",
   "metadata": {},
   "outputs": [
    {
     "data": {
      "text/plain": [
       "<Image src=\"/learning/images/courses/utility-scale-quantum-computing/lesson-03-teleportation/extracted-outputs/6625f333-131f-4ecb-ae09-c256d6589a61-0.avif\" alt=\"Output of the previous code cell\" />"
      ]
     },
     "execution_count": 15,
     "metadata": {},
     "output_type": "execute_result"
    }
   ],
   "source": [
    "# Create the unknown quantum state using the u-gate. Alice has this.\n",
    "qc.u(theta, varphi, 0.0, 0)\n",
    "qc.barrier()  # for visual separation\n",
    "\n",
    "qc.draw(output=\"mpl\")"
   ]
  },
  {
   "cell_type": "markdown",
   "id": "e005c615-c5b5-4620-90d6-ea357eb4e1b4",
   "metadata": {},
   "source": [
    "We can visualize the state we've created, but only because we know what parameters were used in the $U$ gate. If this state had emerged from a complicated quantum process, the state would not be knowable without running the process to create the state many times, and collecting statistics as in tomography."
   ]
  },
  {
   "cell_type": "code",
   "execution_count": 16,
   "id": "39330a8b-2bb7-40ba-9259-4d2fef5d47af",
   "metadata": {},
   "outputs": [
    {
     "data": {
      "text/plain": [
       "<Image src=\"/learning/images/courses/utility-scale-quantum-computing/lesson-03-teleportation/extracted-outputs/7e13315a-cc23-4068-96f8-742edfe9b43f-0.avif\" alt=\"Output of the previous code cell\" />"
      ]
     },
     "execution_count": 16,
     "metadata": {},
     "output_type": "execute_result"
    }
   ],
   "source": [
    "# show the quantum state on bloch sphere\n",
    "from qiskit.quantum_info import Statevector\n",
    "from qiskit.visualization import plot_bloch_multivector\n",
    "\n",
    "out_vector = Statevector(qc)\n",
    "\n",
    "\n",
    "plot_bloch_multivector(out_vector)"
   ]
  },
  {
   "cell_type": "markdown",
   "id": "3337863e-54e0-4800-8e63-0f6bd7314830",
   "metadata": {},
   "source": [
    "Before this protocol even begins, we assume Alice and Bob have a shared entangled pair. If Alice and Bob are truly in different locations, they might have set up the shared state *before* the unknown state $|\\psi\\rangle$ was ever created. Because those things are happening on different qubits, there order here won't matter, and this order is convenient for visualization."
   ]
  },
  {
   "cell_type": "code",
   "execution_count": 17,
   "id": "b908d665-8bb3-4e5d-8408-8e25756beb4a",
   "metadata": {},
   "outputs": [
    {
     "data": {
      "text/plain": [
       "<Image src=\"/learning/images/courses/utility-scale-quantum-computing/lesson-03-teleportation/extracted-outputs/965285c8-de03-4649-8c86-e40730dd7977-0.avif\" alt=\"Output of the previous code cell\" />"
      ]
     },
     "execution_count": 17,
     "metadata": {},
     "output_type": "execute_result"
    }
   ],
   "source": [
    "# Alice and Bob are together in the same place and set up an entangled pair.\n",
    "qc.h(1)\n",
    "qc.cx(1, 2)\n",
    "qc.barrier()  # for visual separation.\n",
    "# We can consider that Alice and Bob may move their qubits to different physical locations, now.\n",
    "\n",
    "qc.draw(output=\"mpl\")"
   ]
  },
  {
   "cell_type": "markdown",
   "id": "365e312f-ae06-4cf9-b264-17e40ff3d0cf",
   "metadata": {},
   "source": [
    "Next, Alice entangles $|\\psi \\rangle$ with her part of the shared e-bit, using the $CX$ gate & $H$ gate, and measures them in the computational basis."
   ]
  },
  {
   "cell_type": "code",
   "execution_count": 18,
   "id": "c97d6e0f-311e-4632-acc5-5fd62e575617",
   "metadata": {},
   "outputs": [
    {
     "data": {
      "text/plain": [
       "<Image src=\"/learning/images/courses/utility-scale-quantum-computing/lesson-03-teleportation/extracted-outputs/ef9bf28c-24de-47dd-9855-546c69239a09-0.avif\" alt=\"Output of the previous code cell\" />"
      ]
     },
     "execution_count": 18,
     "metadata": {},
     "output_type": "execute_result"
    }
   ],
   "source": [
    "# Alice entangles the unknown state with her part of the e-bit, using the CNOT gate & H gate.\n",
    "qc.cx(0, 1)\n",
    "qc.h(0)\n",
    "qc.barrier()\n",
    "\n",
    "# Alice measures the two qubits.\n",
    "qc.measure(0, 0)\n",
    "qc.measure(1, 1)\n",
    "\n",
    "qc.draw(output=\"mpl\")"
   ]
  },
  {
   "cell_type": "markdown",
   "id": "5013828b-cf78-4fd8-8084-69c9efb416be",
   "metadata": {},
   "source": [
    "Alice sends Bob her measurement results (either “00”, “01”, “10”, or “11”), and Bob performs a correction operator based on Alice’s 2 bits of information on his part of the shared e-bit. Then, Bob's becomes $|\\psi \\rangle$."
   ]
  },
  {
   "cell_type": "code",
   "execution_count": 19,
   "id": "b2af8c09-2120-45a7-b40d-887ac44b64ea",
   "metadata": {},
   "outputs": [
    {
     "data": {
      "text/plain": [
       "<Image src=\"/learning/images/courses/utility-scale-quantum-computing/lesson-03-teleportation/extracted-outputs/65c88c15-bf2c-4673-a404-9569f5eefc5d-0.avif\" alt=\"Output of the previous code cell\" />"
      ]
     },
     "execution_count": 19,
     "metadata": {},
     "output_type": "execute_result"
    }
   ],
   "source": [
    "# Alice sent the results to Bob. Bob applies correction\n",
    "with qc.if_test((0, 1)):\n",
    "    qc.z(2)\n",
    "with qc.if_test((1, 1)):\n",
    "    qc.x(2)\n",
    "qc.barrier()\n",
    "\n",
    "qc.draw(output=\"mpl\")"
   ]
  },
  {
   "cell_type": "markdown",
   "id": "ce5f5b83-ba6a-4e57-ab8a-14ecd70fe996",
   "metadata": {},
   "source": [
    "You have completed a quantum teleportation circuit! Let's see the output state of this circuit using the statevector simulator."
   ]
  },
  {
   "cell_type": "code",
   "execution_count": 20,
   "id": "6262ae7a-b509-4451-814b-dd5effa1729e",
   "metadata": {},
   "outputs": [
    {
     "data": {
      "text/plain": [
       "<Image src=\"/learning/images/courses/utility-scale-quantum-computing/lesson-03-teleportation/extracted-outputs/31a43d9b-ab5c-4ff7-b804-4298a6cb406f-0.avif\" alt=\"Output of the previous code cell\" />"
      ]
     },
     "execution_count": 20,
     "metadata": {},
     "output_type": "execute_result"
    }
   ],
   "source": [
    "from qiskit_aer import StatevectorSimulator\n",
    "\n",
    "backend = StatevectorSimulator()\n",
    "out_vector = backend.run(qc, shots=1).result().get_statevector()  # set shots = 1\n",
    "\n",
    "plot_bloch_multivector(out_vector)"
   ]
  },
  {
   "cell_type": "markdown",
   "id": "d3e9c84a-f592-43e7-a8a8-b5d2f0c7688d",
   "metadata": {},
   "source": [
    "You can see that the quantum state created by the $U$-gate of qubit 0 (the qubit originally holding the secret state) has been transferred to qubit 2 (Bob's qubit).\n",
    "\n",
    "You can run above cell a few times to make sure. You may notice that the qubits 0 & 1 change states, but qubit 2 is always in the state $|\\psi\\rangle $."
   ]
  },
  {
   "cell_type": "markdown",
   "id": "1db1b152-b413-43ce-a1c7-5fe523a52068",
   "metadata": {},
   "source": [
    "### 4.3 Execute it and confirm the result by applying U inverse.\n",
    "\n",
    "Above, we checked visually that the teleported state looked correct. Another way to check if the quantum state has been teleported correctly, is to apply the inverse of the $U$ gate on Bob's qubit so that we can measure '0'. That is, since $U^{-1}U$ is the identity, if Bob's qubit is in the state created from $U|0\\rangle,$ then applying the inverse should yield $U^{-1}U|0\\rangle=|0\\rangle.$"
   ]
  },
  {
   "cell_type": "code",
   "execution_count": 21,
   "id": "225d34f5-20f3-4bb2-b682-6d386e0fe486",
   "metadata": {},
   "outputs": [
    {
     "data": {
      "text/plain": [
       "<Image src=\"/learning/images/courses/utility-scale-quantum-computing/lesson-03-teleportation/extracted-outputs/2f2995e4-057b-43ea-982b-626d282ec741-0.avif\" alt=\"Output of the previous code cell\" />"
      ]
     },
     "execution_count": 21,
     "metadata": {},
     "output_type": "execute_result"
    }
   ],
   "source": [
    "# Apply the inverse of u-gate to measure |0>\n",
    "qc.u(theta, varphi, 0.0, 2).inverse()  # inverse of u(theta,varphi,0.0)\n",
    "qc.measure(2, 2)  # add measurement gate\n",
    "\n",
    "qc.draw(output=\"mpl\")"
   ]
  },
  {
   "cell_type": "markdown",
   "id": "1d1130c0-485a-422d-a402-f817d75e1a2e",
   "metadata": {},
   "source": [
    "We will execute the circuit first using the AerSimulator, before moving on to a real quantum comptuer."
   ]
  },
  {
   "cell_type": "code",
   "execution_count": 22,
   "id": "720a7d4e-fbcc-4446-8cc0-a114bc24f84c",
   "metadata": {},
   "outputs": [
    {
     "name": "stdout",
     "output_type": "stream",
     "text": [
      "{'011': 2510, '010': 2417, '000': 2635, '001': 2438}\n"
     ]
    },
    {
     "data": {
      "text/plain": [
       "<Image src=\"/learning/images/courses/utility-scale-quantum-computing/lesson-03-teleportation/extracted-outputs/8632bc47-259c-43fd-8817-589e87a3c9ad-1.avif\" alt=\"Output of the previous code cell\" />"
      ]
     },
     "execution_count": 22,
     "metadata": {},
     "output_type": "execute_result"
    }
   ],
   "source": [
    "from qiskit_aer import AerSimulator\n",
    "from qiskit.transpiler.preset_passmanagers import generate_preset_pass_manager\n",
    "from qiskit_ibm_runtime import Sampler\n",
    "from qiskit.visualization import plot_histogram\n",
    "\n",
    "# Define backend\n",
    "backend = AerSimulator()\n",
    "\n",
    "# Transpile to backend\n",
    "pm = generate_preset_pass_manager(backend=backend, optimization_level=1)\n",
    "isa_qc = pm.run(qc)\n",
    "\n",
    "# Run the job\n",
    "sampler = Sampler(mode=backend)\n",
    "job = sampler.run([isa_qc], shots=nshots)\n",
    "result = job.result()\n",
    "\n",
    "# Extract counts data\n",
    "counts = result[0].data.c.get_counts()\n",
    "print(counts)\n",
    "\n",
    "# Plot the counts in a histogram\n",
    "plot_histogram(counts)"
   ]
  },
  {
   "cell_type": "markdown",
   "id": "257d1e07-d0c9-4b2a-8efe-d124ef7bdf56",
   "metadata": {},
   "source": [
    "Recall that in little endian notation, qubit 2 is the left-most (or bottom-most, in the column labels) qubit. Note that the left/bottom-most qubit in the column labels is a 0 for all possible outcomes. This shows we have a 100% chance of measuring $q_2$ in the state $|0\\rangle $. This is the expected result, and indicates the teleportation protocol has worked properly."
   ]
  },
  {
   "cell_type": "markdown",
   "id": "5467d8f5-8045-4470-984b-8b0487b99f5b",
   "metadata": {},
   "source": [
    "### 4.4 Teleportation on a real quantum computer\n",
    "\n",
    "\n",
    "Next, we will perform teleportation on a real quantum computer. Using the dynamic circuit function, we can operate mid-circuit using measurement outcomes, implementing in real-time the conditionals operations in the teleportation circuit. For solving problems with real quantum computers, we will follow the 4 steps of Qiskit Patterns.\n",
    "\n",
    "    1. Map problem to quantum circuits and operators\n",
    "    2. Optimize for target hardware\n",
    "    3. Execute on target hardware\n",
    "    4. Post-process the results"
   ]
  },
  {
   "cell_type": "markdown",
   "id": "b2cfecfa-58f7-4686-b270-cacac825bbcd",
   "metadata": {},
   "source": [
    "### Exercise 3: Build the teleportation circuit\n",
    "\n",
    "Try building the whole teleportation circuit from scratch to test your understanding. Scroll back up if you need a reminder.\n",
    "\n",
    "__Solution__:"
   ]
  },
  {
   "cell_type": "code",
   "execution_count": 23,
   "id": "9748d546-2477-42bf-a496-8d8885142534",
   "metadata": {},
   "outputs": [
    {
     "data": {
      "text/plain": [
       "<Image src=\"/learning/images/courses/utility-scale-quantum-computing/lesson-03-teleportation/extracted-outputs/d419e3fb-662f-4971-957e-66d2b85aadeb-0.avif\" alt=\"Output of the previous code cell\" />"
      ]
     },
     "execution_count": 23,
     "metadata": {},
     "output_type": "execute_result"
    }
   ],
   "source": [
    "# Step 1: Map problem to quantum circuits and operators\n",
    "# Create the circuit with 3-qubits and 1-bit\n",
    "qc = QuantumCircuit(3, 3)\n",
    "\n",
    "# Alice creates an unknown quantum state using the u-gate.\n",
    "qc.u(theta, varphi, 0.0, 0)\n",
    "qc.barrier()  # for visual separation\n",
    "\n",
    "# Eve creates EPR pair and sends q1 to Alice and q2 to Bob\n",
    "##your code goes here##\n",
    "qc.h(1)\n",
    "qc.cx(1, 2)\n",
    "qc.barrier()\n",
    "\n",
    "# Alice entangles the unknown state with her EPR part, using the CNOT gate & H gate.\n",
    "##your code goes here##\n",
    "qc.cx(0, 1)\n",
    "qc.h(0)\n",
    "qc.barrier()\n",
    "\n",
    "# Alice measures the two qubits.\n",
    "##your code goes here##\n",
    "qc.measure(0, 0)\n",
    "qc.measure(1, 1)\n",
    "\n",
    "# Alice sent the results to Bob. Now, Bob applies correction\n",
    "##your code goes here##\n",
    "with qc.if_test((0, 1)):\n",
    "    qc.z(2)\n",
    "with qc.if_test((1, 1)):\n",
    "    qc.x(2)\n",
    "qc.barrier()\n",
    "\n",
    "# Apply the inverse of u-gate to measure |0>\n",
    "qc.u(theta, varphi, 0.0, 2).inverse()\n",
    "qc.measure(2, 2)\n",
    "\n",
    "qc.draw(output=\"mpl\")"
   ]
  },
  {
   "cell_type": "markdown",
   "id": "3014766a-b814-49e5-8df3-24ddbbc0c87d",
   "metadata": {},
   "source": [
    "As a reminder, applying the inverse of the $U$ gate is just so we can verify the expected behavior. It isn't part of sending the state to Bob, and we would not use that inverse $U$ gate if the only goal was to transfer quantum information.\n",
    "\n",
    "### Step 2: Optimize for target hardware\n",
    "\n",
    "To run on hardware, import `QiskitRuntimeService` and load the saved credential for IBM quantum channel. And, select the backend with the fewest number of jobs in the queue."
   ]
  },
  {
   "cell_type": "code",
   "execution_count": null,
   "id": "f3ee8f97-ba8b-4988-a4b5-e08a7b855bc5",
   "metadata": {},
   "outputs": [
    {
     "data": {
      "text/plain": [
       "[<IBMBackend('ibm_brisbane')>,\n",
       " <IBMBackend('ibm_sherbrooke')>,\n",
       " <IBMBackend('ibm_torino')>]"
      ]
     },
     "execution_count": 25,
     "metadata": {},
     "output_type": "execute_result"
    }
   ],
   "source": [
    "from qiskit_ibm_runtime import QiskitRuntimeService\n",
    "\n",
    "# If this is your first time running your circuit on a real device,\n",
    "# make sure you copy your API Token from [IBM Quantum Platform](https://quantum.cloud.ibm.com/)\n",
    "# QiskitRuntimeService.save_account(token='<your_token>', overwrite=True)\n",
    "\n",
    "service = QiskitRuntimeService(channel=\"ibm_cloud\")\n",
    "service.backends()"
   ]
  },
  {
   "cell_type": "code",
   "execution_count": 26,
   "id": "aa7930ab-c4c4-4640-8e6a-2d6dda532581",
   "metadata": {},
   "outputs": [
    {
     "name": "stdout",
     "output_type": "stream",
     "text": [
      "The least busy device is  <IBMBackend('ibm_sherbrooke')>\n"
     ]
    }
   ],
   "source": [
    "# You can also identify the least busy device\n",
    "backend = service.least_busy(operational=True)\n",
    "print(\"The least busy device is \", backend)"
   ]
  },
  {
   "cell_type": "code",
   "execution_count": null,
   "id": "30175f82-8999-4ac0-a9fe-530d10c68b53",
   "metadata": {},
   "outputs": [],
   "source": [
    "# You can specify the device\n",
    "# backend = service.backend('ibm_sherbrooke')"
   ]
  },
  {
   "cell_type": "markdown",
   "id": "e07dc91b-88fa-4640-8d78-6ed1f1d5306b",
   "metadata": {},
   "source": [
    "Let's see the coupling map of the device which you selected."
   ]
  },
  {
   "cell_type": "code",
   "execution_count": 27,
   "id": "7f80abef-082e-478a-8140-a28ba5ceff12",
   "metadata": {},
   "outputs": [
    {
     "data": {
      "text/plain": [
       "<Image src=\"/learning/images/courses/utility-scale-quantum-computing/lesson-03-teleportation/extracted-outputs/65e620f7-3449-4b16-ac48-63e3dfd0ffd5-0.avif\" alt=\"Output of the previous code cell\" />"
      ]
     },
     "execution_count": 27,
     "metadata": {},
     "output_type": "execute_result"
    }
   ],
   "source": [
    "from qiskit.visualization import plot_gate_map\n",
    "\n",
    "plot_gate_map(backend)"
   ]
  },
  {
   "cell_type": "markdown",
   "id": "25e5b1bb-30b5-4a51-995c-38a7488a5a30",
   "metadata": {},
   "source": [
    "Different devices may have different coupling maps. And each device has some qubits and couplers that are more performant than others. Finally, different quantum computers may have different *native gates* (gates the hardware can execute). Transpiling the circuit rewrites the abstract quantum circuit using gates the target quantum computer can execute, and selects the optimal mapping to physical qubits (among other things). Transpilation is a rich and complicated topic. For more on transpilation, see this [documentation](https://docs.quantum.ibm.com/api/qiskit/transpiler#overview)."
   ]
  },
  {
   "cell_type": "code",
   "execution_count": 29,
   "id": "66489652-dcad-4eed-b2ef-803d7f38565b",
   "metadata": {},
   "outputs": [
    {
     "data": {
      "text/plain": [
       "<Image src=\"/learning/images/courses/utility-scale-quantum-computing/lesson-03-teleportation/extracted-outputs/281ec254-0bd2-4596-bb5b-c6b4ddeaccc8-0.avif\" alt=\"Output of the previous code cell\" />"
      ]
     },
     "execution_count": 29,
     "metadata": {},
     "output_type": "execute_result"
    }
   ],
   "source": [
    "# Step 2: Optimize for target hardware\n",
    "# Transpile the circuit into basis gates executable on the hardware\n",
    "from qiskit.transpiler.preset_passmanagers import generate_preset_pass_manager\n",
    "\n",
    "pm = generate_preset_pass_manager(backend=backend, optimization_level=2)\n",
    "qc_compiled = pm.run(qc)\n",
    "\n",
    "qc_compiled.draw(\"mpl\", idle_wires=False, fold=-1)"
   ]
  },
  {
   "cell_type": "markdown",
   "id": "a8bd16aa-9cce-4dfe-a9e9-44a66c6f1e3d",
   "metadata": {},
   "source": [
    "### Step 3: Executing the circuit.\n",
    "\n",
    "Using the `Sampler` runtime primitive, we will execute the target circuit."
   ]
  },
  {
   "cell_type": "code",
   "execution_count": 30,
   "id": "d7d31646-69a7-48a6-bd65-17e59ffa41b2",
   "metadata": {},
   "outputs": [
    {
     "name": "stdout",
     "output_type": "stream",
     "text": [
      "job id: d13nkhpn2txg008jt0d0\n"
     ]
    }
   ],
   "source": [
    "# Step 3: Execute the target circuit\n",
    "sampler = Sampler(backend)\n",
    "job = sampler.run([qc_compiled])\n",
    "job_id = job.job_id()\n",
    "print(\"job id:\", job_id)"
   ]
  },
  {
   "cell_type": "code",
   "execution_count": 32,
   "id": "12c63177-5f30-4c12-90c1-559c14f98a4c",
   "metadata": {},
   "outputs": [
    {
     "data": {
      "text/plain": [
       "'DONE'"
      ]
     },
     "execution_count": 32,
     "metadata": {},
     "output_type": "execute_result"
    }
   ],
   "source": [
    "# Check the job status\n",
    "job.status()"
   ]
  },
  {
   "cell_type": "markdown",
   "id": "431350f5-52d9-4d57-b4ca-70fba3fe7be3",
   "metadata": {},
   "source": [
    "You can also check the job status from your IBM Quantum Dashboard：https://quantum.cloud.ibm.com/workloads"
   ]
  },
  {
   "cell_type": "code",
   "execution_count": null,
   "id": "fb0fe3d6-4e68-492a-b980-412b0210ee37",
   "metadata": {},
   "outputs": [
    {
     "data": {
      "text/plain": [
       "'DONE'"
      ]
     },
     "execution_count": 36,
     "metadata": {},
     "output_type": "execute_result"
    }
   ],
   "source": [
    "# If the Notebook session got disconnected you can also check your job status by running the following code\n",
    "from qiskit_ibm_runtime import QiskitRuntimeService\n",
    "\n",
    "service = QiskitRuntimeService(channel=\"ibm_cloud\")\n",
    "job_real = service.job(job.job_id())  # Input your job-id between the quotations\n",
    "job_real.status()"
   ]
  },
  {
   "cell_type": "markdown",
   "id": "cf3ba13c-de92-49c5-aa02-96bdc1cee770",
   "metadata": {},
   "source": [
    "If you see `'DONE'` is displayed, you can get the result by executing below cell."
   ]
  },
  {
   "cell_type": "code",
   "execution_count": 37,
   "id": "a081c8a9-8ad3-412f-81ae-4811ada4654c",
   "metadata": {},
   "outputs": [
    {
     "name": "stdout",
     "output_type": "stream",
     "text": [
      "{'001': 992, '110': 430, '011': 579, '010': 605, '111': 402, '000': 925, '100': 57, '101': 106}\n"
     ]
    }
   ],
   "source": [
    "# Execute after 'DONE' is displayed\n",
    "result_real = job_real.result()\n",
    "print(result_real[0].data.c.get_counts())"
   ]
  },
  {
   "cell_type": "markdown",
   "id": "000ffd2e-cc0d-4a5f-8c83-4210ce7acbd5",
   "metadata": {},
   "source": [
    "### Step 4: Post-process the results"
   ]
  },
  {
   "cell_type": "code",
   "execution_count": 38,
   "id": "04daf889-6bd9-44df-b03c-4b19c90e8104",
   "metadata": {},
   "outputs": [
    {
     "data": {
      "text/plain": [
       "<Image src=\"/learning/images/courses/utility-scale-quantum-computing/lesson-03-teleportation/extracted-outputs/bb9a4b57-90cf-40c0-bb16-dbeeab8fc885-0.avif\" alt=\"Output of the previous code cell\" />"
      ]
     },
     "execution_count": 38,
     "metadata": {},
     "output_type": "execute_result"
    }
   ],
   "source": [
    "# Step 4: Post-process the results\n",
    "from qiskit.visualization import plot_histogram\n",
    "\n",
    "plot_histogram(result_real[0].data.c.get_counts())"
   ]
  },
  {
   "cell_type": "markdown",
   "id": "75e3e423-eb69-4965-b407-5e23ad93833f",
   "metadata": {},
   "source": [
    "You can interpret the results above directly. Or, using `marginal_count`, you can trace out Bob's results on qubit 2."
   ]
  },
  {
   "cell_type": "code",
   "execution_count": 39,
   "id": "6b754ea1-d0f0-4ed5-a21f-e2987407c202",
   "metadata": {},
   "outputs": [
    {
     "data": {
      "text/plain": [
       "<Image src=\"/learning/images/courses/utility-scale-quantum-computing/lesson-03-teleportation/extracted-outputs/8285fa62-22c3-4be7-afbf-8697dcb16266-0.avif\" alt=\"Output of the previous code cell\" />"
      ]
     },
     "execution_count": 39,
     "metadata": {},
     "output_type": "execute_result"
    }
   ],
   "source": [
    "# trace out Bob's results on qubit 2\n",
    "from qiskit.result import marginal_counts\n",
    "\n",
    "bobs_qubit = 2\n",
    "real_counts = result_real[0].data.c.get_counts()\n",
    "bobs_counts = marginal_counts(real_counts, [bobs_qubit])\n",
    "plot_histogram(bobs_counts)"
   ]
  },
  {
   "cell_type": "markdown",
   "id": "f356b45c-eea3-4d5f-9de9-75cb3ddc9c26",
   "metadata": {},
   "source": [
    "As we see here, there are a few results in which we measured $|1 \\rangle$. These are due to noise and errors. In particular, Dynamic Circuits tend to have a higher error rate because of the time-consuming measurement in the middle of the circuit."
   ]
  },
  {
   "cell_type": "markdown",
   "id": "55dee765-3937-4309-a2e5-bd205a1c69e0",
   "metadata": {},
   "source": [
    "### 4.5 Key takeaways on quantum teleportation\n",
    "\n",
    "We can transport a quantum state to a distant friend by sharing a pair of entangled qubits (an e-bit).\n",
    "\n",
    "1. Can quantum teleportation send the quantum state faster than light?\n",
    "\tNo. Because Alice has to tell Bob the measurement results in a classical way.\n",
    "\n",
    "2. Would quantum teleportation break the \"no cloning theorem\", which forbids copying of a quantum state?\n",
    "\tNo. Because the original quantum state given to Alice on one of her qubits was lost in measurement. It collapsed to a $|0\\rangle$ or $|1\\rangle$."
   ]
  },
  {
   "cell_type": "markdown",
   "id": "9bc0970e-ff8e-4c90-8be0-8734c11ac5ee",
   "metadata": {},
   "source": [
    "## 5. Superdense coding\n",
    "\n",
    "Almost the same setup can be used for a different purpose. Suppose Alice wants to send Bob two bits of classical information, but she has no means of classical communication with Bob. She does, however, share an entangled pair with Bob and she is allowed to send her qubit to Bob's location. Notice the contrast with the quantum teleportation protocol. In teleportation, classical communication _was_ available to the friends, and the goal was to send a quantum state. Here, classical communication is not accessible and they use the transfer of a qubit to share 2 bits of classical information."
   ]
  },
  {
   "cell_type": "markdown",
   "id": "ac24d5ff-e479-484e-a80f-7ea911396f6f",
   "metadata": {},
   "source": [
    "### 5.1 The protocol of superdense coding\n",
    "\n",
    "**Assumption**: Alice has 2 bits of information, say, $a_1a_2 \\in \\{00, 01, 10, 11\\}$. Alice and Bob share an entangled pair (e-bit), but they cannot communicate classically.\n",
    "\n",
    "1. Alice performs one of the following operations on her part of e-bit.\n",
    "    - If $a_1a_2 = 00$, she does nothing\n",
    "    - If $a_1a_2 = 01$, she applies Z gate\n",
    "    - If $a_1a_2 = 10$, she applies X gate\n",
    "    - If $a_1a_2 = 11$, she applies Z gate and X gate.\n",
    "2. Alice sends her part of the e-bit to Bob's location.\n",
    "3. Bob applies a CNOT gate with the qubit from Alice as control and his qubit as target, then applies H gate to the qubit from Alice, and measures the two qubits. The possible starting states and results of Bob's operations are:\n",
    "$$\n",
    "\\frac {|00\\rangle + |11\\rangle}{\\sqrt 2} \\rightarrow CX_{01}\\otimes H_0 \\rightarrow |00\\rangle\n",
    "$$\n",
    "$$\n",
    "\\frac {|00\\rangle - |11\\rangle}{\\sqrt 2} \\rightarrow CX_{01}\\otimes H_0 \\rightarrow |01\\rangle\n",
    "$$\n",
    "$$\n",
    "\\frac {|10\\rangle + |01\\rangle}{\\sqrt 2} \\rightarrow CX_{01}\\otimes H_0 \\rightarrow |10\\rangle\n",
    "$$\n",
    "$$\n",
    "\\frac {|10\\rangle - |01\\rangle}{\\sqrt 2} \\rightarrow CX_{01}\\otimes H_0 \\rightarrow -|11\\rangle\n",
    "$$\n",
    "\n",
    "Please note that a negative sign of $-|11\\rangle$ is global phase, so it is not measurable."
   ]
  },
  {
   "cell_type": "markdown",
   "id": "eb932d53-d421-4059-b582-fb78bc010eed",
   "metadata": {},
   "source": [
    "### 5.2 Quantum circuit simulating the superdense coding\n",
    "\n",
    "Based on the protocol of superdense coding, you can build the superdense coding circuit as below. Please try to change the message, `msg`, which Alice wants to transform to Bob."
   ]
  },
  {
   "cell_type": "code",
   "execution_count": 40,
   "id": "b00b2b8b-da97-4ae0-b868-eaaadf1cb083",
   "metadata": {},
   "outputs": [],
   "source": [
    "from qiskit import QuantumCircuit"
   ]
  },
  {
   "cell_type": "markdown",
   "id": "eb49dcba-64e0-4cca-a8e6-2a18b352966a",
   "metadata": {},
   "source": [
    "Qiskit pattern steps are identified in the code comments."
   ]
  },
  {
   "cell_type": "code",
   "execution_count": null,
   "id": "cd0b6788-4334-45ad-9f21-0bb3c38a3643",
   "metadata": {},
   "outputs": [
    {
     "data": {
      "text/plain": [
       "<Image src=\"/learning/images/courses/utility-scale-quantum-computing/lesson-03-teleportation/extracted-outputs/041f79eb-c516-4b54-ae23-b06bffd36336-0.avif\" alt=\"Output of the previous code cell\" />"
      ]
     },
     "execution_count": 41,
     "metadata": {},
     "output_type": "execute_result"
    }
   ],
   "source": [
    "# Step 1: Map problem to quantum circuits and operators\n",
    "# Create 2-qubits circuit\n",
    "qc = QuantumCircuit(2, 2)\n",
    "\n",
    "# Eve creates EPR pair and send q0 to Alice and q1 to Bob\n",
    "qc.h(0)\n",
    "qc.cx(0, 1)\n",
    "qc.barrier()\n",
    "\n",
    "# set message which Alice wants to transform to Bob\n",
    "msg = \"11\"  # You can change the message\n",
    "\n",
    "if msg == \"00\":\n",
    "    pass\n",
    "elif msg == \"10\":\n",
    "    qc.x(0)\n",
    "elif msg == \"01\":\n",
    "    qc.z(0)\n",
    "elif msg == \"11\":\n",
    "    qc.z(0)\n",
    "    qc.x(0)\n",
    "\n",
    "qc.barrier()\n",
    "# Bob receives EPR qubit from Alice and performs unitary operations\n",
    "qc.cx(0, 1)\n",
    "qc.h(0)\n",
    "qc.barrier()\n",
    "\n",
    "# Bob measures q0 and q1\n",
    "qc.measure(0, 0)\n",
    "qc.measure(1, 1)\n",
    "\n",
    "qc.draw(output=\"mpl\")"
   ]
  },
  {
   "cell_type": "code",
   "execution_count": 42,
   "id": "2732f46b-a235-486b-a7b0-5a9a12d312a6",
   "metadata": {},
   "outputs": [
    {
     "name": "stdout",
     "output_type": "stream",
     "text": [
      "{'11': 1000}\n"
     ]
    }
   ],
   "source": [
    "# We will execute on a simulator first\n",
    "from qiskit_aer import AerSimulator\n",
    "from qiskit.transpiler.preset_passmanagers import generate_preset_pass_manager\n",
    "from qiskit_ibm_runtime import Sampler\n",
    "\n",
    "# Define backend\n",
    "backend = AerSimulator()\n",
    "shots = 1000\n",
    "\n",
    "# Transpile to backend\n",
    "pm = generate_preset_pass_manager(backend=backend, optimization_level=1)\n",
    "isa_qc = pm.run(qc)\n",
    "\n",
    "# Run the job\n",
    "sampler = Sampler(mode=backend)\n",
    "job_sim = sampler.run([isa_qc], shots=shots)\n",
    "result_sim = job_sim.result()\n",
    "\n",
    "# Extract counts data\n",
    "counts = result_sim[0].data.c.get_counts()\n",
    "print(counts)"
   ]
  },
  {
   "cell_type": "code",
   "execution_count": 43,
   "id": "242822e7-8b83-420a-ae63-e9f173956a07",
   "metadata": {},
   "outputs": [
    {
     "data": {
      "text/plain": [
       "<Image src=\"/learning/images/courses/utility-scale-quantum-computing/lesson-03-teleportation/extracted-outputs/3286dbd8-c2f6-44d3-8ca2-8b852d9ec7cc-0.avif\" alt=\"Output of the previous code cell\" />"
      ]
     },
     "execution_count": 43,
     "metadata": {},
     "output_type": "execute_result"
    }
   ],
   "source": [
    "# Visualize the results\n",
    "from qiskit.visualization import plot_histogram\n",
    "\n",
    "plot_histogram(counts)"
   ]
  },
  {
   "cell_type": "markdown",
   "id": "23fdddbf-200c-4f5c-91d4-d87026210b36",
   "metadata": {},
   "source": [
    "You can see that Bob received the message which Alice wanted to send to him.\n",
    "\n",
    "Next, let's try it with a real quantum computer."
   ]
  },
  {
   "cell_type": "code",
   "execution_count": null,
   "id": "ef83351a-4bc7-4a8e-815d-7a5c71461ee6",
   "metadata": {},
   "outputs": [
    {
     "name": "stdout",
     "output_type": "stream",
     "text": [
      "The least busy device is  <IBMBackend('ibm_sherbrooke')>\n"
     ]
    }
   ],
   "source": [
    "from qiskit_ibm_runtime import QiskitRuntimeService\n",
    "\n",
    "service = QiskitRuntimeService(channel=\"ibm_cloud\")\n",
    "backend = service.least_busy(operational=True)\n",
    "print(\"The least busy device is \", backend)"
   ]
  },
  {
   "cell_type": "code",
   "execution_count": 45,
   "id": "3e039fd4-ffdb-433e-a3e7-fd37690e41b9",
   "metadata": {},
   "outputs": [
    {
     "data": {
      "text/plain": [
       "<Image src=\"/learning/images/courses/utility-scale-quantum-computing/lesson-03-teleportation/extracted-outputs/020f7f7d-2888-42af-b447-9f6266437584-0.avif\" alt=\"Output of the previous code cell\" />"
      ]
     },
     "execution_count": 45,
     "metadata": {},
     "output_type": "execute_result"
    }
   ],
   "source": [
    "# Step 1 was already completed before the simulator job above.\n",
    "# Step 2: Optimize for target hardware\n",
    "# Transpile the circuit into basis gates executable on the hardware\n",
    "pm = generate_preset_pass_manager(backend=backend, optimization_level=2)\n",
    "qc_compiled = pm.run(qc)\n",
    "\n",
    "qc_compiled.draw(\"mpl\", idle_wires=False)"
   ]
  },
  {
   "cell_type": "code",
   "execution_count": 46,
   "id": "3ccdc9ab-b69b-496b-b8e0-c3050eec8552",
   "metadata": {},
   "outputs": [
    {
     "name": "stdout",
     "output_type": "stream",
     "text": [
      "job id: d13nnyq3grvg008j0zag\n"
     ]
    }
   ],
   "source": [
    "# Step 3:Execute the target circuit\n",
    "sampler = Sampler(backend)\n",
    "job = sampler.run([qc_compiled])\n",
    "job_id = job.job_id()\n",
    "print(\"job id:\", job_id)"
   ]
  },
  {
   "cell_type": "code",
   "execution_count": 49,
   "id": "4eb1a2c4-8cd9-4269-9473-6023ca8d5206",
   "metadata": {},
   "outputs": [
    {
     "data": {
      "text/plain": [
       "'DONE'"
      ]
     },
     "execution_count": 49,
     "metadata": {},
     "output_type": "execute_result"
    }
   ],
   "source": [
    "# Check the job status\n",
    "job.status()"
   ]
  },
  {
   "cell_type": "code",
   "execution_count": null,
   "id": "321efc44-e021-44a9-82c2-632b1a45a589",
   "metadata": {},
   "outputs": [
    {
     "data": {
      "text/plain": [
       "'DONE'"
      ]
     },
     "execution_count": 52,
     "metadata": {},
     "output_type": "execute_result"
    }
   ],
   "source": [
    "# If the Notebook session got disconnected you can also check your job status by running the following code\n",
    "# from qiskit_ibm_runtime import QiskitRuntimeService\n",
    "# service = QiskitRuntimeService(channel=\"ibm_cloud\")\n",
    "job = service.job(job_id)  # Input your job-id between the quotations\n",
    "job.status()"
   ]
  },
  {
   "cell_type": "code",
   "execution_count": 53,
   "id": "9acf60ae-a7ba-4410-a2e9-69b13699b972",
   "metadata": {},
   "outputs": [
    {
     "name": "stdout",
     "output_type": "stream",
     "text": [
      "{'11': 3942, '01': 107, '10': 41, '00': 6}\n"
     ]
    }
   ],
   "source": [
    "# Execute after job has successfully run\n",
    "real_result = job.result()\n",
    "print(real_result[0].data.c.get_counts())"
   ]
  },
  {
   "cell_type": "code",
   "execution_count": 54,
   "id": "fb9813a0-e4d4-454c-ad07-001f30ed2af8",
   "metadata": {},
   "outputs": [
    {
     "data": {
      "text/plain": [
       "<Image src=\"/learning/images/courses/utility-scale-quantum-computing/lesson-03-teleportation/extracted-outputs/ca900a63-57e2-45c0-b930-3952a9359c6a-0.avif\" alt=\"Output of the previous code cell\" />"
      ]
     },
     "execution_count": 54,
     "metadata": {},
     "output_type": "execute_result"
    }
   ],
   "source": [
    "# Step 4: Postprocess the results\n",
    "from qiskit.visualization import plot_histogram\n",
    "\n",
    "plot_histogram(real_result[0].data.c.get_counts())"
   ]
  },
  {
   "cell_type": "markdown",
   "id": "42e58b86-72dd-4a5f-a1c5-86cd692da2d2",
   "metadata": {},
   "source": [
    "The result is what we expected. Note that superdense coding on a real quantum computer showed fewer errors than in the case of quantum teleportation on a real quantum computer. One reason for this may be that quantum teleportation uses dynamic circuits and superdense coding does not. We will learn more about errors in quantum circuits in later lessons."
   ]
  },
  {
   "cell_type": "markdown",
   "id": "a99f65d4-2973-4b8d-9f29-36e54da839c6",
   "metadata": {},
   "source": [
    "## 6. Summary\n",
    "\n",
    "In this session, we have implemented two quantum protocols. Although the scenarios for both involving distant friends are somewhat removed from quantum computing on a single QPU, they have applications in quantum computing, and help us understand the transfer of quantum information better.\n",
    "\n",
    "- **Quantum teleportation**: Although we cannot copy quantum states, we can teleport unknown quantum state by having shared entanglement.\n",
    "- **Quantum superdense coding**: A shared entangled pair, and transfer of 1 qubit enable the communication of 2 bits of classical information."
   ]
  },
  {
   "cell_type": "code",
   "execution_count": 55,
   "id": "41e9dd8f-0ab1-4f77-a1b5-7a4a1a2bf749",
   "metadata": {},
   "outputs": [
    {
     "data": {
      "text/plain": [
       "'2.0.2'"
      ]
     },
     "execution_count": 55,
     "metadata": {},
     "output_type": "execute_result"
    }
   ],
   "source": [
    "# See the version of Qiskit\n",
    "import qiskit\n",
    "\n",
    "qiskit.__version__"
   ]
  }
 ],
 "metadata": {
  "description": "Throughout this lesson, you will learn about how to move quantum imformation from one to another by quantum teleportation",
  "kernelspec": {
   "display_name": "Python 3",
   "language": "python",
   "name": "python3"
  },
  "language_info": {
   "codemirror_mode": {
    "name": "ipython",
    "version": 3
   },
   "file_extension": ".py",
   "mimetype": "text/x-python",
   "name": "python",
   "nbconvert_exporter": "python",
   "pygments_lexer": "ipython3",
   "version": "3"
  },
  "title": "Teleportation",
  "widgets": {
   "application/vnd.jupyter.widget-state+json": {
    "state": {},
    "version_major": 2,
    "version_minor": 0
   }
  }
 },
 "nbformat": 4,
 "nbformat_minor": 4
}
