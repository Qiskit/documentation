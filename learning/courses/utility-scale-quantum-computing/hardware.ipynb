{
 "cells": [
  {
   "cell_type": "markdown",
   "id": "8fe3ca32",
   "metadata": {},
   "source": [
    "# Hardware\n",
    "\n",
    "<Admonition type=\"note\">\n",
    "\n",
    "Masao Tokunari and Tamiya Onodera (14 June 2024)\n",
    "\n",
    " This course is based on a live course delivered at the University of Tokyo. PDFs of lecture notes will be available soon. Note that some code snippets may become deprecated since these are static images.\n",
    "\n",
    "</Admonition>"
   ]
  },
  {
   "cell_type": "markdown",
   "id": "e0cf0747",
   "metadata": {},
   "source": [
    "## 1. Introduction\n",
    "\n",
    "This lesson explores modern quantum computing hardware.\n",
    "\n",
    "We will start by verifying some versions and importing some relevant packages."
   ]
  },
  {
   "cell_type": "code",
   "execution_count": 1,
   "id": "798d0ab4-34f5-4c64-83f0-02ef5149e6f3",
   "metadata": {},
   "outputs": [],
   "source": [
    "import statistics\n",
    "\n",
    "from qiskit_ibm_runtime import QiskitRuntimeService"
   ]
  },
  {
   "cell_type": "markdown",
   "id": "2cc2f2a3-947f-439b-b683-911539f1e6f2",
   "metadata": {},
   "source": [
    "## 2. Backend and Target\n",
    "\n",
    "Qiskit provides an API to obtain the information, both static and dynamic, about a quantum device. We use a Backend instance to interface with a device, which includes a Target instance, an abstract machine model that summarizes the pertinent features such as its instruction set architecture (ISA) and any properties or constraints associated with it.\n",
    "Let us use these backend instances to get some of the information you see on [device cards](https://quantum.ibm.com/services/resources)\n",
    "at IBM Quantum&reg; Platform.   To begin with, we create a Backend instance for a device of interest.  In the following, we pick \"ibm_kyoto\" , \"ibm_kawasaki\" or the least-busy Eagle machine. Your access to QPUs might differ; simply update the backend name accordingly."
   ]
  },
  {
   "cell_type": "code",
   "execution_count": null,
   "id": "b92ad1bf-6ad4-420c-8a3a-5bfc488d5923",
   "metadata": {},
   "outputs": [
    {
     "data": {
      "text/plain": [
       "'ibm_strasbourg'"
      ]
     },
     "execution_count": 5,
     "metadata": {},
     "output_type": "execute_result"
    }
   ],
   "source": [
    "service = QiskitRuntimeService()\n",
    "# backend = service.backend(\"ibm_kawasaki\") # an Eagle, if you have access to ibm_kawasaki\n",
    "# backend = service.backend(\"ibm_kyoto\") # an Eagle\n",
    "backend = service.least_busy(\n",
    "    operational=True, simulator=False, min_num_qubits=127\n",
    ")  # Eagle\n",
    "backend.name"
   ]
  },
  {
   "cell_type": "markdown",
   "id": "c082da02-fcc5-4506-b4fe-9015e99e63dc",
   "metadata": {},
   "source": [
    "We start with some basic (static) information about the device."
   ]
  },
  {
   "cell_type": "code",
   "execution_count": 6,
   "id": "33c39786-d44a-47bb-8245-72eb6b97e394",
   "metadata": {},
   "outputs": [
    {
     "name": "stdout",
     "output_type": "stream",
     "text": [
      "\n",
      "ibm_strasbourg, 127 qubits\n",
      "processor type = {'family': 'Eagle', 'revision': 3} \n",
      "basis gates = ['ecr', 'id', 'rz', 'sx', 'x']\n",
      "\n"
     ]
    }
   ],
   "source": [
    "print(\n",
    "    f\"\"\"\n",
    "{backend.name}, {backend.num_qubits} qubits\n",
    "processor type = {backend.processor_type}\n",
    "basis gates = {backend.basis_gates}\n",
    "\"\"\"\n",
    ")"
   ]
  },
  {
   "cell_type": "markdown",
   "id": "31675447-1a26-4168-a038-09cc7535e037",
   "metadata": {},
   "source": [
    "### 2.1 Exercise\n",
    "\n",
    "Try to get the basic information about a Heron device, \"ibm_strasbourg\". Try this on your own, but code has been added below for you to check yourself."
   ]
  },
  {
   "cell_type": "code",
   "execution_count": null,
   "id": "f29afd7e-af40-4cd5-bc0e-a864663a616d",
   "metadata": {},
   "outputs": [
    {
     "name": "stdout",
     "output_type": "stream",
     "text": [
      "\n",
      "ibm_strasbourg, 133 qubits\n",
      "processor type = {'family': 'Heron', 'revision': '1'} \n",
      "basis gates = ['cz', 'id', 'rz', 'sx', 'x']\n",
      "\n"
     ]
    }
   ],
   "source": [
    "a_heron = service.backend(\"ibm_strasbourg\")  # a Heron\n",
    "\n",
    "# your code here\n",
    "print(\n",
    "    f\"\"\"\n",
    "{backend.name}, {a_heron.num_qubits} qubits\n",
    "processor type = {a_heron.processor_type}\n",
    "basis gates = {a_heron.basis_gates}\n",
    "\"\"\"\n",
    ")"
   ]
  },
  {
   "cell_type": "markdown",
   "id": "08fef064-3fc6-4c27-9288-a2e3aa7f5d08",
   "metadata": {},
   "source": [
    "### 2.2 Coupling map\n",
    "\n",
    "We now draw the coupling map of the device. As you can see, nodes are qubits which are numbered. Edges indicate pairs to which you can directly apply the 2-qubit entangling gate.  The topology is called a \"heavy-hex lattice\"."
   ]
  },
  {
   "cell_type": "code",
   "execution_count": 8,
   "id": "51b87458-a5e8-4e77-a34d-39fe425a5f01",
   "metadata": {},
   "outputs": [
    {
     "data": {
      "text/plain": [
       "<Image src=\"/learning/images/courses/utility-scale-quantum-computing/hardware/extracted-outputs/51b87458-a5e8-4e77-a34d-39fe425a5f01-0.avif\" alt=\"Output of the previous code cell\" />"
      ]
     },
     "execution_count": 8,
     "metadata": {},
     "output_type": "execute_result"
    }
   ],
   "source": [
    "# This function requires that Graphviz is installed. If you need to install Graphviz you can refer to:\n",
    "# https://graphviz.org/download/#executable-packages for instructions.\n",
    "try:\n",
    "    fig = backend.coupling_map.draw()\n",
    "except RuntimeError as ex:\n",
    "    print(ex)\n",
    "fig"
   ]
  },
  {
   "cell_type": "markdown",
   "id": "881a5350-282c-4a89-b9e2-ac6bf61c6571",
   "metadata": {},
   "source": [
    "## 3. Qubit properties\n",
    "\n",
    "The Eagle device has 127 qubits.   Let us obtain the properties of some of them."
   ]
  },
  {
   "cell_type": "code",
   "execution_count": 9,
   "id": "9bcb9ce2-5ea8-487b-a7ac-a2956e8cbc34",
   "metadata": {},
   "outputs": [
    {
     "name": "stdout",
     "output_type": "stream",
     "text": [
      "0: QubitProperties(t1=0.000183686508736532, t2=0.00023613944465408068, frequency=4832100227.116953)\n",
      "1: QubitProperties(t1=0.00048794378526038294, t2=9.007098375327869e-05, frequency=4736264354.075363)\n",
      "2: QubitProperties(t1=0.00021247781834456527, t2=7.81037910324034e-05, frequency=4859349851.150393)\n",
      "3: QubitProperties(t1=0.0002936462084765663, t2=0.00011400214529510604, frequency=4679749549.503852)\n",
      "4: QubitProperties(t1=0.00044229440258559125, t2=0.0003181648356339447, frequency=4845872064.050596)\n"
     ]
    }
   ],
   "source": [
    "for qn in range(backend.num_qubits):\n",
    "    if qn >= 5:\n",
    "        break\n",
    "    print(f\"{qn}: {backend.qubit_properties(qn)}\")"
   ]
  },
  {
   "cell_type": "markdown",
   "id": "be601762",
   "metadata": {},
   "source": [
    "Let us calculate the median of T1 times of the qubits.   Please compare the result to the one shown for the device on IBM Quantum Platfrom."
   ]
  },
  {
   "cell_type": "code",
   "execution_count": 10,
   "id": "e8f398b2",
   "metadata": {},
   "outputs": [
    {
     "data": {
      "text/plain": [
       "'Median T1: 285.43 μs'"
      ]
     },
     "execution_count": 10,
     "metadata": {},
     "output_type": "execute_result"
    }
   ],
   "source": [
    "t1s = [backend.qubit_properties(qq).t1 for qq in range(backend.num_qubits)]\n",
    "f\"Median T1: {(statistics.median(t1s)*10**6):.2f} \\u03bcs\""
   ]
  },
  {
   "cell_type": "markdown",
   "id": "01695904-2cb2-4f1d-9396-82cc94429d81",
   "metadata": {},
   "source": [
    "### 3.1 Exercise\n",
    "\n",
    "Pease calculate the median of T2 times of the qubits. Try this on your own, but code has been added below for you to check yourself."
   ]
  },
  {
   "cell_type": "code",
   "execution_count": 11,
   "id": "49fbe7a4-3dea-442f-ae3f-e82df93d406a",
   "metadata": {},
   "outputs": [
    {
     "data": {
      "text/plain": [
       "'Median T2: 173.10 μs'"
      ]
     },
     "execution_count": 11,
     "metadata": {},
     "output_type": "execute_result"
    }
   ],
   "source": [
    "# Your code here\n",
    "\n",
    "t2s = [backend.qubit_properties(qq).t2 for qq in range(backend.num_qubits)]\n",
    "f\"Median T2: {(statistics.median(t2s)*10**6):.2f} \\u03bcs\""
   ]
  },
  {
   "cell_type": "markdown",
   "id": "7bdf8873-359e-4b03-98af-ede989a4a96d",
   "metadata": {},
   "source": [
    "###  3.2 Gate and readout errors\n",
    "\n",
    "We now turn to gate errors. To begin with, we study the data structure of the target instance. It is a dictionary whose keys are operation names."
   ]
  },
  {
   "cell_type": "code",
   "execution_count": 12,
   "id": "c9188662",
   "metadata": {},
   "outputs": [
    {
     "data": {
      "text/plain": [
       "dict_keys(['measure', 'id', 'sx', 'delay', 'x', 'for_loop', 'rz', 'if_else', 'ecr', 'reset', 'switch_case'])"
      ]
     },
     "execution_count": 12,
     "metadata": {},
     "output_type": "execute_result"
    }
   ],
   "source": [
    "target = backend.target\n",
    "target.keys()"
   ]
  },
  {
   "cell_type": "markdown",
   "id": "46e3a8ac-65dc-4973-bd72-820676727f4e",
   "metadata": {},
   "source": [
    "Its values are also dictionaries.  Let us look at some of the items of the value (dictionary) for the 'sx' operation."
   ]
  },
  {
   "cell_type": "code",
   "execution_count": 13,
   "id": "c9b30ede-c00f-4e18-bb72-3bfc06e6afa5",
   "metadata": {},
   "outputs": [
    {
     "name": "stdout",
     "output_type": "stream",
     "text": [
      "0 (0,) InstructionProperties(duration=6e-08, error=0.0007401311759115297)\n",
      "1 (1,) InstructionProperties(duration=6e-08, error=0.0003163759907528654)\n",
      "2 (2,) InstructionProperties(duration=6e-08, error=0.0003183859004638003)\n",
      "3 (3,) InstructionProperties(duration=6e-08, error=0.00042235914178831863)\n",
      "4 (4,) InstructionProperties(duration=6e-08, error=0.011163151923589715)\n"
     ]
    }
   ],
   "source": [
    "for i, qq in enumerate(target[\"sx\"]):\n",
    "    if i >= 5:\n",
    "        break\n",
    "    print(i, qq, target[\"sx\"][qq])"
   ]
  },
  {
   "cell_type": "markdown",
   "id": "5a322b40-bbf0-4b54-a151-9ba52f7bffe1",
   "metadata": {},
   "source": [
    "Let us do the same for the 'ecr' and 'measure' operations."
   ]
  },
  {
   "cell_type": "code",
   "execution_count": 14,
   "id": "f9cac843-4789-4ca3-84bd-0a4c165820a9",
   "metadata": {},
   "outputs": [
    {
     "name": "stdout",
     "output_type": "stream",
     "text": [
      "0 (0, 14) InstructionProperties(duration=6.6e-07, error=0.01486295709788732)\n",
      "1 (1, 0) InstructionProperties(duration=6.6e-07, error=0.015201590794522601)\n",
      "2 (2, 1) InstructionProperties(duration=6.6e-07, error=0.00697838102630724)\n",
      "3 (2, 3) InstructionProperties(duration=6.6e-07, error=0.008075067943986797)\n",
      "4 (3, 4) InstructionProperties(duration=6.6e-07, error=0.0630164507876913)\n"
     ]
    }
   ],
   "source": [
    "for i, edge in enumerate(target[\"ecr\"]):\n",
    "    if i >= 5:\n",
    "        break\n",
    "    print(i, edge, target[\"ecr\"][edge])"
   ]
  },
  {
   "cell_type": "code",
   "execution_count": 15,
   "id": "af36138a",
   "metadata": {},
   "outputs": [
    {
     "name": "stdout",
     "output_type": "stream",
     "text": [
      "0 (0,) InstructionProperties(duration=1.6e-06, error=0.0078125)\n",
      "1 (1,) InstructionProperties(duration=1.6e-06, error=0.155029296875)\n",
      "2 (2,) InstructionProperties(duration=1.6e-06, error=0.057373046875)\n",
      "3 (3,) InstructionProperties(duration=1.6e-06, error=0.02880859375)\n",
      "4 (4,) InstructionProperties(duration=1.6e-06, error=0.01318359375)\n"
     ]
    }
   ],
   "source": [
    "for i, qq in enumerate(target[\"measure\"]):\n",
    "    if i >= 5:\n",
    "        break\n",
    "    print(i, qq, target[\"measure\"][qq])"
   ]
  },
  {
   "cell_type": "markdown",
   "id": "5d0c106a-3641-42ed-9230-7dc6dbd47252",
   "metadata": {},
   "source": [
    "As you can see, the errors of readout tend to be larger than those of the 2-qubit operation, which in turn tend to be larger than the 1-qubit operation.\n",
    "\n",
    "Having understood the data structures, we are ready to calculate the median errors for the 'sx' and the 'ecr' gates. Again, please compare the results with the ones shown for the device at the IBM Quantum Platfrom."
   ]
  },
  {
   "cell_type": "code",
   "execution_count": 16,
   "id": "b239d726",
   "metadata": {},
   "outputs": [
    {
     "data": {
      "text/plain": [
       "'Median SX error: 2.277e-04'"
      ]
     },
     "execution_count": 16,
     "metadata": {},
     "output_type": "execute_result"
    }
   ],
   "source": [
    "sx_errors = [inst_prop.error for inst_prop in target[\"sx\"].values()]\n",
    "f\"Median SX error: {(statistics.median(sx_errors)):.3e}\""
   ]
  },
  {
   "cell_type": "code",
   "execution_count": 17,
   "id": "8003f34b",
   "metadata": {},
   "outputs": [
    {
     "data": {
      "text/plain": [
       "'Median ECR error: 6.895e-03'"
      ]
     },
     "execution_count": 17,
     "metadata": {},
     "output_type": "execute_result"
    }
   ],
   "source": [
    "ecr_errors = [inst_prop.error for inst_prop in target[\"ecr\"].values()]\n",
    "f\"Median ECR error: {(statistics.median(ecr_errors)):.3e}\""
   ]
  },
  {
   "cell_type": "markdown",
   "id": "695ee4bd",
   "metadata": {},
   "source": [
    "## 4. Appendix"
   ]
  },
  {
   "cell_type": "markdown",
   "id": "b538e8b5",
   "metadata": {},
   "source": [
    "A popular feature of Qiskit is its visualization capability. It includes circuit visualizers, state and distribution visualizers, and target visualizer.   You already used the first two in the previous jupyter notebooks.   Let us use some capabilities of the target visualizer."
   ]
  },
  {
   "cell_type": "code",
   "execution_count": 22,
   "id": "97fead46",
   "metadata": {},
   "outputs": [
    {
     "data": {
      "text/plain": [
       "<Image src=\"/learning/images/courses/utility-scale-quantum-computing/hardware/extracted-outputs/97fead46-0.avif\" alt=\"Output of the previous code cell\" />"
      ]
     },
     "execution_count": 22,
     "metadata": {},
     "output_type": "execute_result"
    }
   ],
   "source": [
    "from qiskit.visualization import plot_gate_map\n",
    "\n",
    "plot_gate_map(backend, font_size=14)"
   ]
  },
  {
   "cell_type": "code",
   "execution_count": 23,
   "id": "c9e05530",
   "metadata": {},
   "outputs": [
    {
     "data": {
      "text/plain": [
       "<Image src=\"/learning/images/courses/utility-scale-quantum-computing/hardware/extracted-outputs/c9e05530-0.avif\" alt=\"Output of the previous code cell\" />"
      ]
     },
     "execution_count": 23,
     "metadata": {},
     "output_type": "execute_result"
    }
   ],
   "source": [
    "from qiskit.visualization import plot_error_map\n",
    "\n",
    "plot_error_map(backend)"
   ]
  },
  {
   "cell_type": "code",
   "execution_count": 24,
   "id": "22a48124-e6b4-4144-bee1-f01fa4c7ccbb",
   "metadata": {},
   "outputs": [
    {
     "data": {
      "text/plain": [
       "'2.0.2'"
      ]
     },
     "execution_count": 24,
     "metadata": {},
     "output_type": "execute_result"
    }
   ],
   "source": [
    "# Check Qiskit version\n",
    "import qiskit\n",
    "\n",
    "qiskit.__version__"
   ]
  }
 ],
 "metadata": {
  "description": "This lesson explores modern quantum computing hardware. It is based on a live course delivered at the University of Tokyo.",
  "kernelspec": {
   "display_name": "Python 3",
   "language": "python",
   "name": "python3"
  },
  "language_info": {
   "codemirror_mode": {
    "name": "ipython",
    "version": 3
   },
   "file_extension": ".py",
   "mimetype": "text/x-python",
   "name": "python",
   "nbconvert_exporter": "python",
   "pygments_lexer": "ipython3",
   "version": "3"
  },
  "title": "Hardware",
  "widgets": {
   "application/vnd.jupyter.widget-state+json": {
    "state": {},
    "version_major": 2,
    "version_minor": 0
   }
  }
 },
 "nbformat": 4,
 "nbformat_minor": 5
}