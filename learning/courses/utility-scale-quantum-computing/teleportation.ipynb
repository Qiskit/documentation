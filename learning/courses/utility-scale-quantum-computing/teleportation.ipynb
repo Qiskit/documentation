{
 "cells": [
  {
   "cell_type": "markdown",
   "id": "dff1c53f-6f45-44cc-b725-95ae93474789",
   "metadata": {
    "slideshow": {
     "slide_type": "slide"
    }
   },
   "source": [
    "{/* cspell:ignore nshots */}\n",
    "\n",
    "# Quantum teleportation and superdense coding\n",
    "\n",
    "\n",
    "<Admonition type=\"note\">\n",
    "\n",
    "Kifumi Numata (26 Apr 2024)\n",
    "\n",
    "[Download the pdf](https://ibm.box.com/shared/static/ws8x00xu0pksjzixyyspxzrilvt36iff.zip) of the original lecture. Note that some code snippets might become deprecated since these are static images.\n",
    "\n",
    "*Approximate QPU time to run this experiment is 10 seconds.*\n",
    "\n",
    "</Admonition>"
   ]
  },
  {
   "cell_type": "markdown",
   "id": "72ad29d7-df08-4ef1-a337-95c1b60c7935",
   "metadata": {},
   "source": [
    "## 1. Introduction\n",
    "\n",
    "To solve any utility-scale quantum problem, we will need to move information around on a quantum computer from one qubit to another. There are well-known protocols for doing this, but some of the most foundational were cast in the context of sending information between distant parties. Throughout this lesson, we will sometimes use language consistent with this context, such as \"distant friends sending information\". But keep in mind that these protocols have broader significance in quantum computing. In this lesson we consider the following quantum communication protocols:\n",
    "- **Quantum teleportation**\n",
    "    Using a shared entangled state (sometimes called an e-bit) to send an unknown quantum state to a distant friend, requiring supplemental classical communication.\n",
    "- **Quantum superdense coding**\n",
    "    How to send two bits of information by sending a single qubit to a distant friend (again using prior shared entangled qubits).\n",
    "\n",
    "For more background relevant to these topics, we recommend lesson 4 in Basics of Quantum Information on [Entanglement in action](/learning/courses/basics-of-quantum-information/entanglement-in-action/introduction).\n",
    "\n",
    "In the above description, an \"unknown quantum state\" simply refers to a state of the form described in the previous lesson:\n",
    "$$\n",
    "|\\psi\\rangle =\\alpha|0\\rangle+\\beta|1\\rangle\n",
    "$$\n",
    "where $\\alpha$ and $\\beta$ are complex numbers such that $|\\alpha|^2+|\\beta|^2 = 1$.  This allows us to write the quantum state as\n",
    "$$\n",
    "|\\psi\\rangle =\\cos\\frac{\\theta}{2}|0\\rangle+e^{i\\varphi}\\sin\\frac{\\theta}{2}|1\\rangle=\n",
    "\\left(\n",
    "\\begin{matrix}\n",
    "\\cos\\frac{\\theta}{2}\\\\\n",
    "e^{i\\varphi}\\sin\\frac{\\theta}{2}\n",
    "\\end{matrix}\n",
    "\\right)\n",
    "$$\n",
    "Since we want to be able to transfer the information in any random quantum state, generating such a state is where we will begin this lesson."
   ]
  },
  {
   "cell_type": "markdown",
   "id": "b0880998-6f81-4a5e-8a89-30edb8cdc40c",
   "metadata": {},
   "source": [
    "## 2. Density matrices\n",
    "\n",
    "We can also write the quantum state $|\\psi \\rangle$ as its density matrix. This form is useful for denoting probabilistic mixture\n",
    "of pure quantum states. In the case of a single qubit, we can write\n",
    "\n",
    "$$\n",
    "|\\psi \\rangle \\langle \\psi| \\equiv  \\rho = \\left(\n",
    "\\begin{pmatrix}\n",
    "\\cos\\frac{\\theta}{2}\\\\\n",
    "e^{i\\varphi}\\sin\\frac{\\theta}{2}\n",
    "\\end{pmatrix}\n",
    "\\right)\n",
    "\\left(\n",
    "\\begin{pmatrix}\n",
    "\\cos\\frac{\\theta}{2} & e^{-i\\varphi}\\sin\\frac{\\theta}{2}\n",
    "\\end{pmatrix}\n",
    "\\right)\n",
    "=\\frac{1}{2}\\left(\\begin{pmatrix}\n",
    "1+\\cos\\theta & e^{-i\\varphi}\\sin\\theta\\\\\n",
    "e^{-i\\varphi}\\sin\\theta & 1-\\cos\\theta\n",
    "\\end{pmatrix}\\right)\n",
    "$$\n",
    "\n",
    "Note that the density matrix $\\rho$ is a linear summation of Pauli matrices, as below,\n",
    "\n",
    "$$\n",
    "\\rho = \\frac{1}{2}\\bigl( \\textbf{I} + (\\sin{\\theta}\\cos{\\varphi})\\textbf{X}+  (\\sin{\\theta}\\sin{\\varphi})\\textbf{Y} +  (\\cos{\\theta})\\textbf{Z} \\bigr)\n",
    "$$\n",
    "\n",
    "Or, in general,\n",
    "\n",
    "$$\n",
    "\\rho = \\frac{1}{2}(\\textbf{I} + r_{x}\\textbf{X}+ r_{y}\\textbf{Y} + r_{z}\\textbf{Z})\n",
    "$$\n",
    "\n",
    "where\n",
    "$r_{x}^2+r_{y}^2+r_{z}^2=1$.\n",
    "\n",
    "And, the Bloch vector is $\\textbf{r} = (r_{x}, r_{y}, r_{z})$.\n",
    "\n",
    "Now, let's make an arbitrary quantum state using random numbers."
   ]
  },
  {
   "cell_type": "code",
   "execution_count": 1,
   "id": "6a70a1af-16a1-4499-910f-5427231cd676",
   "metadata": {},
   "outputs": [
    {
     "name": "stdout",
     "output_type": "stream",
     "text": [
      "theta=1.3101132663588946 ,varphi=4.525932273597346\n",
      "(rx, ry, rz) = (-0.1791150283307452, -0.9494670044331133, 0.2577405946274022)\n"
     ]
    }
   ],
   "source": [
    "import numpy as np\n",
    "\n",
    "# create a random 1-qubit state from a random (theta, varphi) to define r vector\n",
    "np.random.seed(1)  # fixing seed for repeatibility\n",
    "\n",
    "theta = np.random.uniform(0.0, 1.0) * np.pi  # from 0 to pi\n",
    "varphi = np.random.uniform(0.0, 2.0) * np.pi  # from 0 to 2*pi\n",
    "\n",
    "\n",
    "def get_r_vec(theta, varphi):\n",
    "    rx = np.sin(theta) * np.cos(varphi)\n",
    "    ry = np.sin(theta) * np.sin(varphi)\n",
    "    rz = np.cos(theta)\n",
    "    return (rx, ry, rz)\n",
    "\n",
    "\n",
    "# get r vector\n",
    "rx, ry, rz = get_r_vec(theta, varphi)\n",
    "\n",
    "print(\"theta=\" + str(theta), \",varphi=\" + str(varphi))\n",
    "print(\"(rx, ry, rz) = (\" + str(rx) + \", \" + str(ry) + \", \" + str(rz) + \")\")"
   ]
  },
  {
   "cell_type": "markdown",
   "id": "70ca84c8-b097-438e-aa4c-ba396cb8fe74",
   "metadata": {},
   "source": [
    "We can show this Bloch vector on the Bloch sphere."
   ]
  },
  {
   "cell_type": "code",
   "execution_count": 2,
   "id": "1ae3f71f-859e-4515-bea8-3945fe2fc1d4",
   "metadata": {},
   "outputs": [
    {
     "data": {
      "text/plain": [
       "<Image src=\"/learning/images/courses/utility-scale-quantum-computing/teleportation/extracted-outputs/2e4d869d-5d0d-4c4b-8cf9-e8e05b423a00-0.avif\" alt=\"Output of the previous code cell\" />"
      ]
     },
     "execution_count": 2,
     "metadata": {},
     "output_type": "execute_result"
    }
   ],
   "source": [
    "from qiskit.visualization import plot_bloch_vector\n",
    "\n",
    "r = [rx, ry, rz]\n",
    "plot_bloch_vector(r)"
   ]
  },
  {
   "attachments": {},
   "cell_type": "markdown",
   "id": "dceecaec-cb4f-4797-820a-eaa51e797cd7",
   "metadata": {},
   "source": [
    "## 3. Quantum state tomography\n",
    "\n",
    "If you only measure the quantum state in the computational basis ($|0 \\rangle$ and  $|1 \\rangle$), the phase information (the complex number information) will be lost. But if we have many copies of $|\\psi \\rangle$ by repeating the preparation process (we can't clone states, but we can repeat preparation processes), we can estimate the value of $r_{x}, r_{y}, r_{z}$ by performing *quantum state tomography* for density matrix $\\rho$. Given the form:\n",
    "\n",
    "$$\n",
    "\\rho = \\frac{1}{2}(\\textbf{I} + r_{x}\\textbf{X}+ r_{y}\\textbf{Y} + r_{z}\\textbf{Z})\n",
    "$$\n",
    "\n",
    "it holds that\n",
    "\n",
    "$$\n",
    "Tr(\\textbf{X} \\rho) =  r_{x}, \\quad Tr(\\textbf{Y} \\rho) =  r_{y}, \\quad Tr(\\textbf{Z} \\rho) =  r_{z}\n",
    "$$\n",
    "\n",
    "In $r_{z}$ case,\n",
    "\n",
    "$$\n",
    "Tr(\\textbf{Z} \\rho) =  \\langle 0|\\textbf{Z} \\rho|0 \\rangle +  \\langle 1|\\textbf{Z} \\rho|1 \\rangle\n",
    "$$\n",
    "$$\n",
    "= \\langle 0|(|0 \\rangle\\langle 0|-|1 \\rangle\\langle 1|) \\rho|0 \\rangle +\\langle 1|(|0 \\rangle\\langle 0|-|1 \\rangle\\langle 1|) \\rho|1 \\rangle\n",
    "$$\n",
    "$$\n",
    "=\\langle 0|\\rho|0 \\rangle- \\langle 1| \\rho|1 \\rangle\n",
    "$$\n",
    "$$\n",
    "=\\langle 0|\\psi\\rangle\\langle \\psi|0 \\rangle -  \\langle 1| \\psi\\rangle\\langle \\psi|1 \\rangle\n",
    "$$\n",
    "$$\n",
    "=|\\alpha|^2-|\\beta|^2\n",
    "$$\n",
    "\n",
    "The last transformation of the equation is for $|\\psi \\rangle  =\\alpha|0\\rangle+\\beta|1\\rangle$. Therefore, we can obtain $r_{z}$ by probability of $|0 \\rangle$  - Probability of $|1 \\rangle$.\n",
    "\n",
    "### Estimate $r_z$ value\n",
    "\n",
    "In order to estimate $r_z$, we create a quantum state and measure it. We then repeat the preparation and measurement many times. Finally we use the statistics of the measurement to estimate the probabilities above and thus estimate $r_z$.\n",
    "\n",
    "For creating the random quantum state, we will use the general unitary gate $U$ with the parameters $ \\theta, \\varphi$. (Refer to [U-gate](/docs/api/qiskit/qiskit.circuit.library.UGate) for more information.)"
   ]
  },
  {
   "cell_type": "code",
   "execution_count": 3,
   "id": "7efb343a-56f6-4aef-a068-4c89767572e3",
   "metadata": {},
   "outputs": [
    {
     "data": {
      "text/plain": [
       "<Image src=\"/learning/images/courses/utility-scale-quantum-computing/teleportation/extracted-outputs/b1327267-f2fe-4a61-91d9-328c672b557e-0.avif\" alt=\"Output of the previous code cell\" />"
      ]
     },
     "execution_count": 3,
     "metadata": {},
     "output_type": "execute_result"
    }
   ],
   "source": [
    "from qiskit import QuantumCircuit\n",
    "\n",
    "# create a 1-qubit quantum state psi from theta, varphi parameters\n",
    "qc = QuantumCircuit(1, 1)\n",
    "qc.u(theta, varphi, 0.0, 0)\n",
    "\n",
    "# measure in computational basis\n",
    "qc.measure(0, 0)\n",
    "\n",
    "qc.draw(output=\"mpl\")"
   ]
  },
  {
   "cell_type": "markdown",
   "id": "bea0a2d7-f018-4578-850c-9800f409fc0e",
   "metadata": {},
   "source": [
    "Using the `AerSimulator`, we will measure it in the computational basis to estimate $r_z$."
   ]
  },
  {
   "cell_type": "code",
   "execution_count": 4,
   "id": "284f455c-0281-4d9e-9a03-4da1cb94a177",
   "metadata": {},
   "outputs": [
    {
     "name": "stdout",
     "output_type": "stream",
     "text": [
      "{'1': 375, '0': 625}\n"
     ]
    },
    {
     "data": {
      "text/plain": [
       "<Image src=\"/learning/images/courses/utility-scale-quantum-computing/teleportation/extracted-outputs/6d5006d5-6eac-4015-be9d-bd5f01e046b7-1.avif\" alt=\"Output of the previous code cell\" />"
      ]
     },
     "execution_count": 4,
     "metadata": {},
     "output_type": "execute_result"
    }
   ],
   "source": [
    "# see if the expected value of measuring in the computational basis\n",
    "# approaches the limit of rz\n",
    "from qiskit_aer import AerSimulator\n",
    "from qiskit.transpiler.preset_passmanagers import generate_preset_pass_manager\n",
    "from qiskit_ibm_runtime import Sampler\n",
    "from qiskit.visualization import plot_histogram\n",
    "\n",
    "# Define backend\n",
    "backend = AerSimulator()\n",
    "nshots = 1000  # or 10000\n",
    "# nshots = 10000\n",
    "\n",
    "# Transpile to backend\n",
    "pm = generate_preset_pass_manager(backend=backend, optimization_level=1)\n",
    "isa_qc = pm.run(qc)\n",
    "\n",
    "# Run the job\n",
    "sampler = Sampler(mode=backend)\n",
    "job = sampler.run([isa_qc], shots=nshots)\n",
    "result = job.result()\n",
    "\n",
    "# Extract counts data\n",
    "counts = result[0].data.c.get_counts()\n",
    "print(counts)\n",
    "\n",
    "# Plot the counts in a histogram\n",
    "\n",
    "plot_histogram(counts)"
   ]
  },
  {
   "cell_type": "code",
   "execution_count": 5,
   "id": "448b940d-6778-4faf-9c37-52d2f583da81",
   "metadata": {},
   "outputs": [
    {
     "name": "stdout",
     "output_type": "stream",
     "text": [
      "rz =  0.2577405946274022  and approx of rz =  0.25\n"
     ]
    }
   ],
   "source": [
    "rz_approx = (counts[\"0\"] - counts[\"1\"]) / nshots\n",
    "\n",
    "print(\"rz = \", rz, \" and approx of rz = \", rz_approx)"
   ]
  },
  {
   "cell_type": "markdown",
   "id": "f3f70b33-f607-4715-95eb-a62abfbc63d6",
   "metadata": {},
   "source": [
    "Using the quantum state tomography method, we estimated the $r_z$ value. In this case, since we chose a parameter for the \"random\" state, we know the value of $r_z$ and can check our work. But by its very nature, utility-scale work is not always so trivial to check. We will discuss more about checking quantum results later in this course. For now, simply note that our estimation was reasonably accurate."
   ]
  },
  {
   "cell_type": "markdown",
   "id": "eb20e79d-9d60-4d06-b927-d6bc33ee7ff5",
   "metadata": {},
   "source": [
    "### Exercise 1: Estimate $r_x$ value\n",
    "Recall that IBM&reg; quantum computers measure along the $z$-axis (sometimes stated \"in the $z$ basis\" or \"in the computational basis\"). However, by using rotations before the measurement, we can measure the quantum state's projection on the x-axis, also. To be more precise, if we rotate our system such that things that did point along $x$ now point along $z$, then we can keep the same measurement hardware along $z$, but learn about the state that was just along $x$ a moment ago. This is how most quantum computers (and all IBM quantum computers) perform measurements along multiple axes.\n",
    "\n",
    "With this understanding, try writing code to estimate the value of $r_x,$ using quantum state tomography.\n",
    "\n",
    "__Solution__:"
   ]
  },
  {
   "cell_type": "code",
   "execution_count": 6,
   "id": "c588cd02-8468-4008-a9b9-381354ec279c",
   "metadata": {},
   "outputs": [
    {
     "data": {
      "text/plain": [
       "<Image src=\"/learning/images/courses/utility-scale-quantum-computing/teleportation/extracted-outputs/fcecbe31-9196-4804-8afa-e23e313880df-0.avif\" alt=\"Output of the previous code cell\" />"
      ]
     },
     "execution_count": 6,
     "metadata": {},
     "output_type": "execute_result"
    }
   ],
   "source": [
    "# create a 1-qubit quantum state psi from theta, varphi parameters\n",
    "qc = QuantumCircuit(1, 1)\n",
    "qc.u(theta, varphi, 0.0, 0)\n",
    "\n",
    "qc.h(0)\n",
    "qc.measure(0, 0)\n",
    "\n",
    "qc.draw(output=\"mpl\")"
   ]
  },
  {
   "cell_type": "code",
   "execution_count": 7,
   "id": "5d52d55b-d565-4f1c-83ef-5626dce5622d",
   "metadata": {},
   "outputs": [
    {
     "name": "stdout",
     "output_type": "stream",
     "text": [
      "{'1': 5925, '0': 4075}\n"
     ]
    },
    {
     "data": {
      "text/plain": [
       "<Image src=\"/learning/images/courses/utility-scale-quantum-computing/teleportation/extracted-outputs/c876f970-cd7a-43d6-8c65-b0298daa8b0b-1.avif\" alt=\"Output of the previous code cell\" />"
      ]
     },
     "execution_count": 7,
     "metadata": {},
     "output_type": "execute_result"
    }
   ],
   "source": [
    "# Define backend\n",
    "backend = AerSimulator()\n",
    "nshots = 10000\n",
    "\n",
    "# Transpile to backend\n",
    "pm = generate_preset_pass_manager(backend=backend, optimization_level=1)\n",
    "isa_qc = pm.run(qc)\n",
    "\n",
    "# Run the job\n",
    "sampler = Sampler(mode=backend)\n",
    "job = sampler.run([isa_qc], shots=nshots)\n",
    "result = job.result()\n",
    "\n",
    "# Extract counts data\n",
    "counts = result[0].data.c.get_counts()\n",
    "print(counts)\n",
    "\n",
    "# Plot the counts in a histogram\n",
    "plot_histogram(counts)"
   ]
  },
  {
   "cell_type": "code",
   "execution_count": 8,
   "id": "5790312b-4578-423b-babd-354d9045f9c9",
   "metadata": {},
   "outputs": [
    {
     "name": "stdout",
     "output_type": "stream",
     "text": [
      "rx =  -0.1791150283307452  and approx of rx =  -0.185\n"
     ]
    }
   ],
   "source": [
    "rx_approx = (counts[\"0\"] - counts[\"1\"]) / nshots\n",
    "\n",
    "print(\"rx = \", rx, \" and approx of rx = \", rx_approx)"
   ]
  },
  {
   "cell_type": "markdown",
   "id": "be59e531-2445-45a0-b585-e19289b4fea4",
   "metadata": {},
   "source": [
    "### Exercise 2: Estimate $r_y$ value\n",
    "Using the same logical arguments as before, we can rotate the system prior to measurement to learn about the $r_y$.\n",
    "Try writing code yourself to estimate the value of $r_y$ using the quantum state tomography. You could start with the previous example, but make different rotations. (For more information about the various gates used, including ```sdg```, refer [to the API reference.](/docs/api/qiskit/qiskit.circuit.library.SdgGate))\n",
    "\n",
    "__Solution__:"
   ]
  },
  {
   "cell_type": "code",
   "execution_count": 9,
   "id": "69e9d298-1073-4b93-8598-c21711fce33b",
   "metadata": {},
   "outputs": [
    {
     "data": {
      "text/plain": [
       "<Image src=\"/learning/images/courses/utility-scale-quantum-computing/teleportation/extracted-outputs/aad8d350-6ecd-436f-8cc2-46de5a72b1f2-0.avif\" alt=\"Output of the previous code cell\" />"
      ]
     },
     "execution_count": 9,
     "metadata": {},
     "output_type": "execute_result"
    }
   ],
   "source": [
    "# create a 1-qubit quantum state psi from theta, varphi parameters\n",
    "qc = QuantumCircuit(1, 1)\n",
    "qc.u(theta, varphi, 0.0, 0)\n",
    "\n",
    "qc.sdg(0)\n",
    "qc.h(0)\n",
    "qc.measure(0, 0)\n",
    "\n",
    "qc.draw(output=\"mpl\")"
   ]
  },
  {
   "cell_type": "code",
   "execution_count": 10,
   "id": "6f2656fb-dde7-489c-ad40-d0f5f24f48a3",
   "metadata": {},
   "outputs": [
    {
     "name": "stdout",
     "output_type": "stream",
     "text": [
      "{'1': 9759, '0': 241}\n"
     ]
    },
    {
     "data": {
      "text/plain": [
       "<Image src=\"/learning/images/courses/utility-scale-quantum-computing/teleportation/extracted-outputs/0c8397a3-f9bc-42c5-b872-caec6dc4396b-1.avif\" alt=\"Output of the previous code cell\" />"
      ]
     },
     "execution_count": 10,
     "metadata": {},
     "output_type": "execute_result"
    }
   ],
   "source": [
    "# Define backend\n",
    "backend = AerSimulator()\n",
    "nshots = 10000\n",
    "\n",
    "# Transpile to backend\n",
    "pm = generate_preset_pass_manager(backend=backend, optimization_level=1)\n",
    "isa_qc = pm.run(qc)\n",
    "\n",
    "# Run the job\n",
    "sampler = Sampler(mode=backend)\n",
    "job = sampler.run([isa_qc], shots=nshots)\n",
    "result = job.result()\n",
    "\n",
    "# Extract counts data\n",
    "counts = result[0].data.c.get_counts()\n",
    "print(counts)\n",
    "\n",
    "# Plot the counts in a histogram\n",
    "plot_histogram(counts)"
   ]
  },
  {
   "cell_type": "code",
   "execution_count": 11,
   "id": "c2f537b4-9f7d-4c6d-b1ef-adc125a0cbe7",
   "metadata": {},
   "outputs": [
    {
     "name": "stdout",
     "output_type": "stream",
     "text": [
      "ry =  -0.9494670044331133  and approx of ry =  -0.9518\n"
     ]
    }
   ],
   "source": [
    "ry_approx = (counts[\"0\"] - counts[\"1\"]) / nshots\n",
    "\n",
    "print(\"ry = \", ry, \" and approx of ry = \", ry_approx)"
   ]
  },
  {
   "cell_type": "markdown",
   "id": "46175f37-0988-43c6-9217-1d16fa1c5de7",
   "metadata": {},
   "source": [
    "We have now estimated all components of $\\vec{r}$ and can write out the full vector."
   ]
  },
  {
   "cell_type": "code",
   "execution_count": 12,
   "id": "fc539459-44c3-4ce3-8260-1924b999596c",
   "metadata": {},
   "outputs": [
    {
     "name": "stdout",
     "output_type": "stream",
     "text": [
      "Estimated vector is ( -0.185 , -0.9518 , 0.25 ).\n",
      "Original random vector was (-0.1791150283307452, -0.9494670044331133, 0.2577405946274022).\n"
     ]
    }
   ],
   "source": [
    "print(\"Estimated vector is (\", rx_approx, \",\", ry_approx, \",\", rz_approx, \").\")\n",
    "print(\"Original random vector was (\" + str(rx) + \", \" + str(ry) + \", \" + str(rz) + \").\")"
   ]
  },
  {
   "cell_type": "markdown",
   "id": "64c95009-dd20-497b-95cd-1f5620d785d7",
   "metadata": {},
   "source": [
    "You obtained the estimation of the original random vector fairly accurately using this quantum state tomography method."
   ]
  },
  {
   "cell_type": "markdown",
   "id": "f37ac1a6-c48e-47cb-a2fa-40329d184100",
   "metadata": {},
   "source": [
    "## 4. Quantum teleportation\n",
    "\n",
    "Let us consider the situation when a character Alice wants to send an unknown quantum state $|\\psi \\rangle$ to her friend Bob, who is far away. Assume they can only communicate with classical communication (like using email or a phone). Alice cannot copy the quantum state (due to the no-cloning theorem). If she repeated the same preparation process many times, she could build up statistics as we just did. But what if there is only a single unknown state? This state might have emerged from a physical process you want to study. Or it could be part of a larger quantum computation. In that case, how could Alice send the state to Bob? She can, if she and Bob share a valuable quantum resource: a shared entangled state, like the Bell state introduced in the previous lesson: $\\frac {|00\\rangle + |11\\rangle}{\\sqrt 2}.$ You might sometimes also see this referred to as an \"EPR pair\" or an \"e-bit\" (a fundamental unit of entanglement). If Alice shares such an entangled state with Bob, she can *teleport* the unknown quantum state to Bob by performing a series of quantum operations and sending him two bits of classical information.\n",
    "\n",
    "### 4.1 The protocol of Quantum teleportation\n",
    "**Assumption**: Alice has an unknown quantum state $|\\psi \\rangle$ to be sent to Bob. Alice and Bob shares a 2-qubit entangled state, or e-bit, each having one of the qubits physically at their location.\n",
    "\n",
    "Here we outline the procedure without explanation. These will be implemented in detail below.\n",
    "1. Alice entangles $|\\psi \\rangle$  with her part of the e-bit using the CNOT gate.\n",
    "2. Alice applies a Hadamard gate to $|\\psi \\rangle$, and measures both her qubits in the computational basis.\n",
    "3. Alice sends Bob her measurement results (either “00”, “01”, “10”, or “11”)\n",
    "4. Bob performs a *correction* operator based on Alice’s two-bit of information on his part of the e-bit pair.\n",
    "    - If “00”, Bob does nothing\n",
    "    - If “01”, Bob applies X gate\n",
    "    - If “10”, Bob applies Z gate\n",
    "    - If “11”, Bob applies iY = ZX gate\n",
    "5. Bob's part of the e-bit becomes $|\\psi \\rangle$.\n",
    "\n",
    "This is also worked out in more detail in [Basics of Quantum Information](/learning/courses/basics-of-quantum-information/entanglement-in-action/introduction). But the situation will become more clear as we instantiate this in Qiskit."
   ]
  },
  {
   "cell_type": "markdown",
   "id": "ab3e777f-7db8-457b-b90c-957b6c4055f4",
   "metadata": {},
   "source": [
    "### 4.2 Quantum circuit simulating the quantum teleportation\n",
    "\n",
    "As always, we will apply the Qiskit patterns framework. This subsection will focus on mapping only.\n",
    "\n",
    "### Step 1: Map problem to quantum circuits and operators\n",
    "\n",
    "To describe the scenario above, we need a circuit with three qubits: two for the entangled pair shared by Alice and Bob, and one for the unknown quantum state $|\\psi\\rangle$."
   ]
  },
  {
   "cell_type": "code",
   "execution_count": 56,
   "id": "47692345-76c7-43bd-ad10-2e12293dbed0",
   "metadata": {},
   "outputs": [],
   "source": [
    "from qiskit import QuantumCircuit\n",
    "import numpy as np"
   ]
  },
  {
   "cell_type": "code",
   "execution_count": 14,
   "id": "52bc0117-2009-45eb-b18e-f2e49ba8c708",
   "metadata": {},
   "outputs": [
    {
     "data": {
      "text/plain": [
       "<Image src=\"/learning/images/courses/utility-scale-quantum-computing/teleportation/extracted-outputs/0e231d46-e185-42c7-a7f6-33b784f4a8f2-0.avif\" alt=\"Output of the previous code cell\" />"
      ]
     },
     "execution_count": 14,
     "metadata": {},
     "output_type": "execute_result"
    }
   ],
   "source": [
    "# create 3-qubits circuit\n",
    "qc = QuantumCircuit(3, 3)\n",
    "\n",
    "qc.draw(output=\"mpl\")"
   ]
  },
  {
   "cell_type": "markdown",
   "id": "fe9f1bdf-06d3-4282-91d3-100278e25351",
   "metadata": {},
   "source": [
    "At the start, Alice has an unknown quantum state $|\\psi \\rangle.$ We will create this using the $U$ gate."
   ]
  },
  {
   "cell_type": "code",
   "execution_count": 15,
   "id": "b597a613-12b5-48db-9d07-a490853fcd07",
   "metadata": {},
   "outputs": [
    {
     "data": {
      "text/plain": [
       "<Image src=\"/learning/images/courses/utility-scale-quantum-computing/teleportation/extracted-outputs/6625f333-131f-4ecb-ae09-c256d6589a61-0.avif\" alt=\"Output of the previous code cell\" />"
      ]
     },
     "execution_count": 15,
     "metadata": {},
     "output_type": "execute_result"
    }
   ],
   "source": [
    "# Create the unknown quantum state using the u-gate. Alice has this.\n",
    "qc.u(theta, varphi, 0.0, 0)\n",
    "qc.barrier()  # for visual separation\n",
    "\n",
    "qc.draw(output=\"mpl\")"
   ]
  },
  {
   "cell_type": "markdown",
   "id": "379ddc02-ed29-423a-94eb-a545574ef386",
   "metadata": {},
   "source": [
    "We can visualize the state we've created, but only because we know what parameters were used in the $U$ gate. If this state had emerged from a complicated quantum process, the state would not be knowable without running the process to create the state many times, and collecting statistics as in tomography."
   ]
  },
  {
   "cell_type": "code",
   "execution_count": 16,
   "id": "d4a00147-de30-457a-a4e8-0d351fb8a0f9",
   "metadata": {},
   "outputs": [
    {
     "data": {
      "text/plain": [
       "<Image src=\"/learning/images/courses/utility-scale-quantum-computing/teleportation/extracted-outputs/7e13315a-cc23-4068-96f8-742edfe9b43f-0.avif\" alt=\"Output of the previous code cell\" />"
      ]
     },
     "execution_count": 16,
     "metadata": {},
     "output_type": "execute_result"
    }
   ],
   "source": [
    "# show the quantum state on bloch sphere\n",
    "from qiskit.quantum_info import Statevector\n",
    "from qiskit.visualization import plot_bloch_multivector\n",
    "\n",
    "out_vector = Statevector(qc)\n",
    "\n",
    "\n",
    "plot_bloch_multivector(out_vector)"
   ]
  },
  {
   "cell_type": "markdown",
   "id": "df1e58f4-c678-49d6-a7dc-fe0af47da2ab",
   "metadata": {},
   "source": [
    "Before this protocol even begins, we assume Alice and Bob have a shared entangled pair. If Alice and Bob are truly in different locations, they might have set up the shared state *before* the unknown state $|\\psi\\rangle$ was ever created. Because those things are happening on different qubits, there order here won't matter, and this order is convenient for visualization."
   ]
  },
  {
   "cell_type": "code",
   "execution_count": 17,
   "id": "6de6ff3d-e728-4432-a7c5-b6d5b7616f14",
   "metadata": {},
   "outputs": [
    {
     "data": {
      "text/plain": [
       "<Image src=\"/learning/images/courses/utility-scale-quantum-computing/teleportation/extracted-outputs/965285c8-de03-4649-8c86-e40730dd7977-0.avif\" alt=\"Output of the previous code cell\" />"
      ]
     },
     "execution_count": 17,
     "metadata": {},
     "output_type": "execute_result"
    }
   ],
   "source": [
    "# Alice and Bob are together in the same place and set up an entangled pair.\n",
    "qc.h(1)\n",
    "qc.cx(1, 2)\n",
    "qc.barrier()  # for visual separation.\n",
    "# We can consider that Alice and Bob might move their qubits to different physical locations, now.\n",
    "\n",
    "qc.draw(output=\"mpl\")"
   ]
  },
  {
   "cell_type": "markdown",
   "id": "61512866-dd0b-4985-8ee3-5601921cfa24",
   "metadata": {},
   "source": [
    "Next, Alice entangles $|\\psi \\rangle$ with her part of the shared e-bit, using the $CX$ gate and $H$ gate, and measures them in the computational basis."
   ]
  },
  {
   "cell_type": "code",
   "execution_count": null,
   "id": "1281b988-183b-43bf-b338-9eb63e0b1b8d",
   "metadata": {},
   "outputs": [
    {
     "data": {
      "text/plain": [
       "<Image src=\"/learning/images/courses/utility-scale-quantum-computing/teleportation/extracted-outputs/ef9bf28c-24de-47dd-9855-546c69239a09-0.avif\" alt=\"Output of the previous code cell\" />"
      ]
     },
     "execution_count": 18,
     "metadata": {},
     "output_type": "execute_result"
    }
   ],
   "source": [
    "# Alice entangles the unknown state with her part of the e-bit, using the CNOT gate and H gate.\n",
    "qc.cx(0, 1)\n",
    "qc.h(0)\n",
    "qc.barrier()\n",
    "\n",
    "# Alice measures the two qubits.\n",
    "qc.measure(0, 0)\n",
    "qc.measure(1, 1)\n",
    "\n",
    "qc.draw(output=\"mpl\")"
   ]
  },
  {
   "cell_type": "markdown",
   "id": "daf20da0-7d1d-454f-87c8-132ff402c1f5",
   "metadata": {},
   "source": [
    "Alice sends Bob her measurement results (either “00”, “01”, “10”, or “11”), and Bob performs a correction operator based on Alice’s two bits of information on his part of the shared e-bit. Then, Bob's becomes $|\\psi \\rangle$."
   ]
  },
  {
   "cell_type": "code",
   "execution_count": 19,
   "id": "2de8ec3e-a77b-4c8c-b589-877205b6df80",
   "metadata": {},
   "outputs": [
    {
     "data": {
      "text/plain": [
       "<Image src=\"/learning/images/courses/utility-scale-quantum-computing/teleportation/extracted-outputs/65c88c15-bf2c-4673-a404-9569f5eefc5d-0.avif\" alt=\"Output of the previous code cell\" />"
      ]
     },
     "execution_count": 19,
     "metadata": {},
     "output_type": "execute_result"
    }
   ],
   "source": [
    "# Alice sent the results to Bob. Bob applies correction\n",
    "with qc.if_test((0, 1)):\n",
    "    qc.z(2)\n",
    "with qc.if_test((1, 1)):\n",
    "    qc.x(2)\n",
    "qc.barrier()\n",
    "\n",
    "qc.draw(output=\"mpl\")"
   ]
  },
  {
   "cell_type": "markdown",
   "id": "512a1559-3b94-4888-b70b-bc621f6882c7",
   "metadata": {},
   "source": [
    "You have completed a quantum teleportation circuit! Let's see the output state of this circuit using the statevector simulator."
   ]
  },
  {
   "cell_type": "code",
   "execution_count": 20,
   "id": "f265fc08-0275-4032-8fc0-3578b05abec9",
   "metadata": {},
   "outputs": [
    {
     "data": {
      "text/plain": [
       "<Image src=\"/learning/images/courses/utility-scale-quantum-computing/teleportation/extracted-outputs/31a43d9b-ab5c-4ff7-b804-4298a6cb406f-0.avif\" alt=\"Output of the previous code cell\" />"
      ]
     },
     "execution_count": 20,
     "metadata": {},
     "output_type": "execute_result"
    }
   ],
   "source": [
    "from qiskit_aer import StatevectorSimulator\n",
    "\n",
    "backend = StatevectorSimulator()\n",
    "out_vector = backend.run(qc, shots=1).result().get_statevector()  # set shots = 1\n",
    "\n",
    "plot_bloch_multivector(out_vector)"
   ]
  },
  {
   "cell_type": "markdown",
   "id": "8800546b-6afe-4b20-b8ad-3750e957ba45",
   "metadata": {},
   "source": [
    "You can see that the quantum state created by the $U$-gate of qubit 0 (the qubit originally holding the secret state) has been transferred to qubit 2 (Bob's qubit).\n",
    "\n",
    "You can run above cell a few times to make sure. You might notice that the qubits 0 and 1 change states, but qubit 2 is always in the state $|\\psi\\rangle $."
   ]
  },
  {
   "cell_type": "markdown",
   "id": "dd90f2ae-3a57-4f87-a230-aad61709d795",
   "metadata": {},
   "source": [
    "### 4.3 Execute it and confirm the result by applying U inverse\n",
    "\n",
    "Above, we checked visually that the teleported state looked correct. Another way to check if the quantum state has been teleported correctly, is to apply the inverse of the $U$ gate on Bob's qubit so that we can measure '0'. That is, since $U^{-1}U$ is the identity, if Bob's qubit is in the state created from $U|0\\rangle,$ then applying the inverse should yield $U^{-1}U|0\\rangle=|0\\rangle.$"
   ]
  },
  {
   "cell_type": "code",
   "execution_count": 21,
   "id": "2fed8e6b-0fa2-4341-b71f-a5f63d7899bd",
   "metadata": {},
   "outputs": [
    {
     "data": {
      "text/plain": [
       "<Image src=\"/learning/images/courses/utility-scale-quantum-computing/teleportation/extracted-outputs/2f2995e4-057b-43ea-982b-626d282ec741-0.avif\" alt=\"Output of the previous code cell\" />"
      ]
     },
     "execution_count": 21,
     "metadata": {},
     "output_type": "execute_result"
    }
   ],
   "source": [
    "# Apply the inverse of u-gate to measure |0>\n",
    "qc.u(theta, varphi, 0.0, 2).inverse()  # inverse of u(theta,varphi,0.0)\n",
    "qc.measure(2, 2)  # add measurement gate\n",
    "\n",
    "qc.draw(output=\"mpl\")"
   ]
  },
  {
   "cell_type": "markdown",
   "id": "0474b50d-f0d3-4e4a-96de-d8152b5607bd",
   "metadata": {},
   "source": [
    "We will execute the circuit first using the AerSimulator, before moving on to a real quantum comptuer."
   ]
  },
  {
   "cell_type": "code",
   "execution_count": 22,
   "id": "bff4ac5d-3d47-4d99-856e-bd31181464f9",
   "metadata": {},
   "outputs": [
    {
     "name": "stdout",
     "output_type": "stream",
     "text": [
      "{'011': 2510, '010': 2417, '000': 2635, '001': 2438}\n"
     ]
    },
    {
     "data": {
      "text/plain": [
       "<Image src=\"/learning/images/courses/utility-scale-quantum-computing/teleportation/extracted-outputs/8632bc47-259c-43fd-8817-589e87a3c9ad-1.avif\" alt=\"Output of the previous code cell\" />"
      ]
     },
     "execution_count": 22,
     "metadata": {},
     "output_type": "execute_result"
    }
   ],
   "source": [
    "from qiskit_aer import AerSimulator\n",
    "from qiskit.transpiler.preset_passmanagers import generate_preset_pass_manager\n",
    "from qiskit_ibm_runtime import Sampler\n",
    "from qiskit.visualization import plot_histogram\n",
    "\n",
    "# Define backend\n",
    "backend = AerSimulator()\n",
    "\n",
    "# Transpile to backend\n",
    "pm = generate_preset_pass_manager(backend=backend, optimization_level=1)\n",
    "isa_qc = pm.run(qc)\n",
    "\n",
    "# Run the job\n",
    "sampler = Sampler(mode=backend)\n",
    "job = sampler.run([isa_qc], shots=nshots)\n",
    "result = job.result()\n",
    "\n",
    "# Extract counts data\n",
    "counts = result[0].data.c.get_counts()\n",
    "print(counts)\n",
    "\n",
    "# Plot the counts in a histogram\n",
    "plot_histogram(counts)"
   ]
  },
  {
   "cell_type": "markdown",
   "id": "8d8d0125-0353-4ab9-9c36-09be6b37443d",
   "metadata": {},
   "source": [
    "Recall that in little endian notation, qubit 2 is the left-most (or bottom-most, in the column labels) qubit. Note that the left- and bottom-most qubit in the column labels is a 0 for all possible outcomes. This shows we have a 100% chance of measuring $q_2$ in the state $|0\\rangle $. This is the expected result, and indicates the teleportation protocol has worked properly."
   ]
  },
  {
   "cell_type": "markdown",
   "id": "efb5b496-b5b0-40d4-b615-507bbdcbae98",
   "metadata": {},
   "source": [
    "### 4.4 Teleportation on a real quantum computer\n",
    "\n",
    "\n",
    "Next, we will perform teleportation on a real quantum computer. Using the dynamic circuit function, we can operate mid-circuit using measurement outcomes, implementing in real-time the conditionals operations in the teleportation circuit. For solving problems with real quantum computers, we will follow the four steps of Qiskit patterns.\n",
    "\n",
    "    1. Map problem to quantum circuits and operators\n",
    "    2. Optimize for target hardware\n",
    "    3. Execute on target hardware\n",
    "    4. Post-process the results"
   ]
  },
  {
   "cell_type": "markdown",
   "id": "3d0c7ba0-8195-44bb-9de9-850e3b42db00",
   "metadata": {},
   "source": [
    "### Exercise 3: Build the teleportation circuit\n",
    "\n",
    "Try building the whole teleportation circuit from scratch to test your understanding. Scroll back up if you need a reminder.\n",
    "\n",
    "__Solution__:"
   ]
  },
  {
   "cell_type": "code",
   "execution_count": null,
   "id": "f35290c5-f14f-4768-b0cf-ae753dbbd1d0",
   "metadata": {},
   "outputs": [
    {
     "data": {
      "text/plain": [
       "<Image src=\"/learning/images/courses/utility-scale-quantum-computing/teleportation/extracted-outputs/d419e3fb-662f-4971-957e-66d2b85aadeb-0.avif\" alt=\"Output of the previous code cell\" />"
      ]
     },
     "execution_count": 23,
     "metadata": {},
     "output_type": "execute_result"
    }
   ],
   "source": [
    "# Step 1: Map problem to quantum circuits and operators\n",
    "# Create the circuit with 3-qubits and 1-bit\n",
    "qc = QuantumCircuit(3, 3)\n",
    "\n",
    "# Alice creates an unknown quantum state using the u-gate.\n",
    "qc.u(theta, varphi, 0.0, 0)\n",
    "qc.barrier()  # for visual separation\n",
    "\n",
    "# Eve creates EPR pair and sends q1 to Alice and q2 to Bob\n",
    "##your code goes here##\n",
    "qc.h(1)\n",
    "qc.cx(1, 2)\n",
    "qc.barrier()\n",
    "\n",
    "# Alice entangles the unknown state with her EPR part, using the CNOT gate and H gate.\n",
    "##your code goes here##\n",
    "qc.cx(0, 1)\n",
    "qc.h(0)\n",
    "qc.barrier()\n",
    "\n",
    "# Alice measures the two qubits.\n",
    "##your code goes here##\n",
    "qc.measure(0, 0)\n",
    "qc.measure(1, 1)\n",
    "\n",
    "# Alice sent the results to Bob. Now, Bob applies correction\n",
    "##your code goes here##\n",
    "with qc.if_test((0, 1)):\n",
    "    qc.z(2)\n",
    "with qc.if_test((1, 1)):\n",
    "    qc.x(2)\n",
    "qc.barrier()\n",
    "\n",
    "# Apply the inverse of u-gate to measure |0>\n",
    "qc.u(theta, varphi, 0.0, 2).inverse()\n",
    "qc.measure(2, 2)\n",
    "\n",
    "qc.draw(output=\"mpl\")"
   ]
  },
  {
   "cell_type": "markdown",
   "id": "53cb0711-2d1b-4c46-9ce0-af72f00ce030",
   "metadata": {},
   "source": [
    "As a reminder, applying the inverse of the $U$ gate is just so we can verify the expected behavior. It isn't part of sending the state to Bob, and we would not use that inverse $U$ gate if the only goal was to transfer quantum information.\n",
    "\n",
    "### Step 2: Optimize for target hardware\n",
    "\n",
    "To run on hardware, import `QiskitRuntimeService` and load your saved credentials. Select the backend with the fewest number of jobs in the queue."
   ]
  },
  {
   "cell_type": "code",
   "execution_count": null,
   "id": "1236f91b-adbf-4c15-bedc-e8778a018a5f",
   "metadata": {},
   "outputs": [
    {
     "data": {
      "text/plain": [
       "[<IBMBackend('ibm_brisbane')>,\n",
       " <IBMBackend('ibm_sherbrooke')>,\n",
       " <IBMBackend('ibm_torino')>]"
      ]
     },
     "execution_count": 25,
     "metadata": {},
     "output_type": "execute_result"
    }
   ],
   "source": [
    "from qiskit_ibm_runtime import QiskitRuntimeService\n",
    "\n",
    "service = QiskitRuntimeService()\n",
    "service.backends()"
   ]
  },
  {
   "cell_type": "code",
   "execution_count": 26,
   "id": "ad63605f-8e84-41c9-a40e-90a566cf4406",
   "metadata": {},
   "outputs": [
    {
     "name": "stdout",
     "output_type": "stream",
     "text": [
      "The least busy device is  <IBMBackend('ibm_sherbrooke')>\n"
     ]
    }
   ],
   "source": [
    "# You can also identify the least busy device\n",
    "backend = service.least_busy(operational=True)\n",
    "print(\"The least busy device is \", backend)"
   ]
  },
  {
   "cell_type": "code",
   "execution_count": null,
   "id": "23b925f7-477e-42ff-bf92-077b304e7bdd",
   "metadata": {},
   "outputs": [],
   "source": [
    "# You can specify the device\n",
    "# backend = service.backend('ibm_sherbrooke')"
   ]
  },
  {
   "cell_type": "markdown",
   "id": "7974c87f-bc4a-4329-b5d6-2fe91227c6e6",
   "metadata": {},
   "source": [
    "Let's see the coupling map of the device that you selected."
   ]
  },
  {
   "cell_type": "code",
   "execution_count": 27,
   "id": "bfccaa7e-78fe-4ca4-8c37-e9f64be924d3",
   "metadata": {},
   "outputs": [
    {
     "data": {
      "text/plain": [
       "<Image src=\"/learning/images/courses/utility-scale-quantum-computing/teleportation/extracted-outputs/65e620f7-3449-4b16-ac48-63e3dfd0ffd5-0.avif\" alt=\"Output of the previous code cell\" />"
      ]
     },
     "execution_count": 27,
     "metadata": {},
     "output_type": "execute_result"
    }
   ],
   "source": [
    "from qiskit.visualization import plot_gate_map\n",
    "\n",
    "plot_gate_map(backend)"
   ]
  },
  {
   "cell_type": "markdown",
   "id": "940be0f5-ca1a-4d8f-9ae8-866d1b58190e",
   "metadata": {},
   "source": [
    "Different devices might have different coupling maps, and each device has some qubits and couplers that are more performant than others. Finally, different quantum computers might have different *native gates* (gates the hardware can execute). Transpiling the circuit rewrites the abstract quantum circuit using gates the target quantum computer can execute, and selects the optimal mapping to physical qubits (among other things). Transpilation is a rich and complicated topic. For more on transpilation, see the [API reference.](/docs/api/qiskit/transpiler#overview)"
   ]
  },
  {
   "cell_type": "code",
   "execution_count": 29,
   "id": "524768df-1070-4f51-b9ec-6b8672551fb5",
   "metadata": {},
   "outputs": [
    {
     "data": {
      "text/plain": [
       "<Image src=\"/learning/images/courses/utility-scale-quantum-computing/teleportation/extracted-outputs/281ec254-0bd2-4596-bb5b-c6b4ddeaccc8-0.avif\" alt=\"Output of the previous code cell\" />"
      ]
     },
     "execution_count": 29,
     "metadata": {},
     "output_type": "execute_result"
    }
   ],
   "source": [
    "# Step 2: Optimize for target hardware\n",
    "# Transpile the circuit into basis gates executable on the hardware\n",
    "from qiskit.transpiler.preset_passmanagers import generate_preset_pass_manager\n",
    "\n",
    "pm = generate_preset_pass_manager(backend=backend, optimization_level=2)\n",
    "qc_compiled = pm.run(qc)\n",
    "\n",
    "qc_compiled.draw(\"mpl\", idle_wires=False, fold=-1)"
   ]
  },
  {
   "cell_type": "markdown",
   "id": "3d27becd-577c-4366-a35c-583387b831b5",
   "metadata": {},
   "source": [
    "### Step 3: Execute the circuit.\n",
    "\n",
    "Using the `Sampler` Runtime primitive, we will execute the target circuit."
   ]
  },
  {
   "cell_type": "code",
   "execution_count": 30,
   "id": "f172d44a-7e5a-4433-8700-07c61e41fd13",
   "metadata": {},
   "outputs": [
    {
     "name": "stdout",
     "output_type": "stream",
     "text": [
      "job id: d13nkhpn2txg008jt0d0\n"
     ]
    }
   ],
   "source": [
    "# Step 3: Execute the target circuit\n",
    "sampler = Sampler(backend)\n",
    "job = sampler.run([qc_compiled])\n",
    "job_id = job.job_id()\n",
    "print(\"job id:\", job_id)"
   ]
  },
  {
   "cell_type": "code",
   "execution_count": 32,
   "id": "43ab9cc3-0412-434d-a3f1-008c8e6d0e5a",
   "metadata": {},
   "outputs": [
    {
     "data": {
      "text/plain": [
       "'DONE'"
      ]
     },
     "execution_count": 32,
     "metadata": {},
     "output_type": "execute_result"
    }
   ],
   "source": [
    "# Check the job status\n",
    "job.status()"
   ]
  },
  {
   "cell_type": "markdown",
   "id": "9b3dbd44-61df-4838-9bdc-d36d6fba5881",
   "metadata": {},
   "source": [
    "You can also check the job status from your [IBM Quantum&reg; dashboard.](https://quantum.cloud.ibm.com/workloads)"
   ]
  },
  {
   "cell_type": "code",
   "execution_count": null,
   "id": "8f791c0d-5788-4ad1-bd15-5f6314d48a73",
   "metadata": {},
   "outputs": [
    {
     "data": {
      "text/plain": [
       "'DONE'"
      ]
     },
     "execution_count": 36,
     "metadata": {},
     "output_type": "execute_result"
    }
   ],
   "source": [
    "# If the Notebook session got disconnected you can also check your job status by running the following code\n",
    "from qiskit_ibm_runtime import QiskitRuntimeService\n",
    "\n",
    "service = QiskitRuntimeService()\n",
    "job_real = service.job(job.job_id())  # Input your job-id between the quotations\n",
    "job_real.status()"
   ]
  },
  {
   "cell_type": "markdown",
   "id": "d6e53566-db3b-4ba8-bd7c-1c1365380268",
   "metadata": {},
   "source": [
    "If you see `'DONE'` is displayed, you can get the result by executing below cell."
   ]
  },
  {
   "cell_type": "code",
   "execution_count": 37,
   "id": "dc075997-a531-4d9f-8d9f-3c44a4e261f1",
   "metadata": {},
   "outputs": [
    {
     "name": "stdout",
     "output_type": "stream",
     "text": [
      "{'001': 992, '110': 430, '011': 579, '010': 605, '111': 402, '000': 925, '100': 57, '101': 106}\n"
     ]
    }
   ],
   "source": [
    "# Execute after 'DONE' is displayed\n",
    "result_real = job_real.result()\n",
    "print(result_real[0].data.c.get_counts())"
   ]
  },
  {
   "cell_type": "markdown",
   "id": "c43db6d1-8572-4f52-9b2d-80104b0311d0",
   "metadata": {},
   "source": [
    "### Step 4: Post-process the results"
   ]
  },
  {
   "cell_type": "code",
   "execution_count": 38,
   "id": "0f89e380-48ff-4d76-a3da-4af78e86912d",
   "metadata": {},
   "outputs": [
    {
     "data": {
      "text/plain": [
       "<Image src=\"/learning/images/courses/utility-scale-quantum-computing/teleportation/extracted-outputs/bb9a4b57-90cf-40c0-bb16-dbeeab8fc885-0.avif\" alt=\"Output of the previous code cell\" />"
      ]
     },
     "execution_count": 38,
     "metadata": {},
     "output_type": "execute_result"
    }
   ],
   "source": [
    "# Step 4: Post-process the results\n",
    "from qiskit.visualization import plot_histogram\n",
    "\n",
    "plot_histogram(result_real[0].data.c.get_counts())"
   ]
  },
  {
   "cell_type": "markdown",
   "id": "909ec2a4-ebb3-4d56-8d0b-8a167465bf0b",
   "metadata": {},
   "source": [
    "You can interpret the results above directly. Or, using `marginal_count`, you can trace out Bob's results on qubit 2."
   ]
  },
  {
   "cell_type": "code",
   "execution_count": 39,
   "id": "eb20ac6f-2a96-43af-b070-cd7eae6d3f8e",
   "metadata": {},
   "outputs": [
    {
     "data": {
      "text/plain": [
       "<Image src=\"/learning/images/courses/utility-scale-quantum-computing/teleportation/extracted-outputs/8285fa62-22c3-4be7-afbf-8697dcb16266-0.avif\" alt=\"Output of the previous code cell\" />"
      ]
     },
     "execution_count": 39,
     "metadata": {},
     "output_type": "execute_result"
    }
   ],
   "source": [
    "# trace out Bob's results on qubit 2\n",
    "from qiskit.result import marginal_counts\n",
    "\n",
    "bobs_qubit = 2\n",
    "real_counts = result_real[0].data.c.get_counts()\n",
    "bobs_counts = marginal_counts(real_counts, [bobs_qubit])\n",
    "plot_histogram(bobs_counts)"
   ]
  },
  {
   "cell_type": "markdown",
   "id": "a9db1801-a5b6-443a-adff-fcd25b0f6591",
   "metadata": {},
   "source": [
    "As we see here, there are a few results in which we measured $|1 \\rangle$. These are due to noise and errors. In particular, dynamic circuits tend to have a higher error rate because of the time-consuming measurement in the middle of the circuit."
   ]
  },
  {
   "cell_type": "markdown",
   "id": "729bfcae-5cd1-46e5-8b0c-230c63b09fe0",
   "metadata": {},
   "source": [
    "### 4.5 Key takeaways on quantum teleportation\n",
    "\n",
    "We can transport a quantum state to a distant friend by sharing a pair of entangled qubits (an e-bit).\n",
    "\n",
    "1. Can quantum teleportation send the quantum state faster than light?\n",
    "\tNo, because Alice has to tell Bob the measurement results in a classical way.\n",
    "\n",
    "2. Would quantum teleportation break the \"no cloning theorem\", which forbids copying of a quantum state?\n",
    "\tNo, because the original quantum state given to Alice on one of her qubits was lost in measurement. It collapsed to a $|0\\rangle$ or $|1\\rangle$."
   ]
  },
  {
   "cell_type": "markdown",
   "id": "869349fa-5593-442e-9390-5f20e5af8f46",
   "metadata": {},
   "source": [
    "## 5. Superdense coding\n",
    "\n",
    "Almost the same setup can be used for a different purpose. Suppose Alice wants to send Bob two bits of classical information, but she has no means of classical communication with Bob. She does, however, share an entangled pair with Bob and she is allowed to send her qubit to Bob's location. Notice the contrast with the quantum teleportation protocol. In teleportation, classical communication _was_ available to the friends, and the goal was to send a quantum state. Here, classical communication is not accessible and they use the transfer of a qubit to share two bits of classical information."
   ]
  },
  {
   "cell_type": "markdown",
   "id": "53401dfc-f81b-4706-93de-07970e594021",
   "metadata": {},
   "source": [
    "### 5.1 The protocol of superdense coding\n",
    "\n",
    "**Assumption**: Alice has two bits of information, say, $a_1a_2 \\in \\{00, 01, 10, 11\\}$. Alice and Bob share an entangled pair (e-bit), but they cannot communicate classically.\n",
    "\n",
    "1. Alice performs one of the following operations on her part of e-bit.\n",
    "    - If $a_1a_2 = 00$, she does nothing\n",
    "    - If $a_1a_2 = 01$, she applies Z gate\n",
    "    - If $a_1a_2 = 10$, she applies X gate\n",
    "    - If $a_1a_2 = 11$, she applies Z gate and X gate.\n",
    "2. Alice sends her part of the e-bit to Bob's location.\n",
    "3. Bob applies a CNOT gate with the qubit from Alice as control and his qubit as target, then applies H gate to the qubit from Alice, and measures the two qubits. The possible starting states and results of Bob's operations are:\n",
    "$$\n",
    "\\frac {|00\\rangle + |11\\rangle}{\\sqrt 2} \\rightarrow CX_{01}\\otimes H_0 \\rightarrow |00\\rangle\n",
    "$$\n",
    "$$\n",
    "\\frac {|00\\rangle - |11\\rangle}{\\sqrt 2} \\rightarrow CX_{01}\\otimes H_0 \\rightarrow |01\\rangle\n",
    "$$\n",
    "$$\n",
    "\\frac {|10\\rangle + |01\\rangle}{\\sqrt 2} \\rightarrow CX_{01}\\otimes H_0 \\rightarrow |10\\rangle\n",
    "$$\n",
    "$$\n",
    "\\frac {|10\\rangle - |01\\rangle}{\\sqrt 2} \\rightarrow CX_{01}\\otimes H_0 \\rightarrow -|11\\rangle\n",
    "$$\n",
    "\n",
    "Note that a negative sign of $-|11\\rangle$ is global phase, so it is not measurable."
   ]
  },
  {
   "cell_type": "markdown",
   "id": "820767fd-1f07-4426-8bb1-1db270c53009",
   "metadata": {},
   "source": [
    "### 5.2 Quantum circuit simulating the superdense coding\n",
    "\n",
    "Based on the protocol of superdense coding, you can build the superdense coding circuit as below. Try to change the message, `msg`, which Alice wants to transform to Bob."
   ]
  },
  {
   "cell_type": "code",
   "execution_count": 40,
   "id": "440c4e7d-a93c-4098-a5ce-bc2c4cc1dce7",
   "metadata": {},
   "outputs": [],
   "source": [
    "from qiskit import QuantumCircuit"
   ]
  },
  {
   "cell_type": "markdown",
   "id": "020a35a6-83f1-4bb9-8076-d7f0c2d6a5d0",
   "metadata": {},
   "source": [
    "Qiskit pattern steps are identified in the code comments."
   ]
  },
  {
   "cell_type": "code",
   "execution_count": null,
   "id": "998cc84b-86d9-4d0a-89e8-30ac38e4ba0b",
   "metadata": {},
   "outputs": [
    {
     "data": {
      "text/plain": [
       "<Image src=\"/learning/images/courses/utility-scale-quantum-computing/teleportation/extracted-outputs/041f79eb-c516-4b54-ae23-b06bffd36336-0.avif\" alt=\"Output of the previous code cell\" />"
      ]
     },
     "execution_count": 41,
     "metadata": {},
     "output_type": "execute_result"
    }
   ],
   "source": [
    "# Step 1: Map problem to quantum circuits and operators\n",
    "# Create 2-qubits circuit\n",
    "qc = QuantumCircuit(2, 2)\n",
    "\n",
    "# Eve creates EPR pair and send q0 to Alice and q1 to Bob\n",
    "qc.h(0)\n",
    "qc.cx(0, 1)\n",
    "qc.barrier()\n",
    "\n",
    "# set message which Alice wants to transform to Bob\n",
    "msg = \"11\"  # You can change the message\n",
    "\n",
    "if msg == \"00\":\n",
    "    pass\n",
    "elif msg == \"10\":\n",
    "    qc.x(0)\n",
    "elif msg == \"01\":\n",
    "    qc.z(0)\n",
    "elif msg == \"11\":\n",
    "    qc.z(0)\n",
    "    qc.x(0)\n",
    "\n",
    "qc.barrier()\n",
    "# Bob receives EPR qubit from Alice and performs unitary operations\n",
    "qc.cx(0, 1)\n",
    "qc.h(0)\n",
    "qc.barrier()\n",
    "\n",
    "# Bob measures q0 and q1\n",
    "qc.measure(0, 0)\n",
    "qc.measure(1, 1)\n",
    "\n",
    "qc.draw(output=\"mpl\")"
   ]
  },
  {
   "cell_type": "code",
   "execution_count": 42,
   "id": "41838ac1-0eab-4f83-860b-2bf2a0732243",
   "metadata": {},
   "outputs": [
    {
     "name": "stdout",
     "output_type": "stream",
     "text": [
      "{'11': 1000}\n"
     ]
    }
   ],
   "source": [
    "# We will execute on a simulator first\n",
    "from qiskit_aer import AerSimulator\n",
    "from qiskit.transpiler.preset_passmanagers import generate_preset_pass_manager\n",
    "from qiskit_ibm_runtime import Sampler\n",
    "\n",
    "# Define backend\n",
    "backend = AerSimulator()\n",
    "shots = 1000\n",
    "\n",
    "# Transpile to backend\n",
    "pm = generate_preset_pass_manager(backend=backend, optimization_level=1)\n",
    "isa_qc = pm.run(qc)\n",
    "\n",
    "# Run the job\n",
    "sampler = Sampler(mode=backend)\n",
    "job_sim = sampler.run([isa_qc], shots=shots)\n",
    "result_sim = job_sim.result()\n",
    "\n",
    "# Extract counts data\n",
    "counts = result_sim[0].data.c.get_counts()\n",
    "print(counts)"
   ]
  },
  {
   "cell_type": "code",
   "execution_count": 43,
   "id": "db2c0b52-0643-4185-8082-453c03ff59f3",
   "metadata": {},
   "outputs": [
    {
     "data": {
      "text/plain": [
       "<Image src=\"/learning/images/courses/utility-scale-quantum-computing/teleportation/extracted-outputs/3286dbd8-c2f6-44d3-8ca2-8b852d9ec7cc-0.avif\" alt=\"Output of the previous code cell\" />"
      ]
     },
     "execution_count": 43,
     "metadata": {},
     "output_type": "execute_result"
    }
   ],
   "source": [
    "# Visualize the results\n",
    "from qiskit.visualization import plot_histogram\n",
    "\n",
    "plot_histogram(counts)"
   ]
  },
  {
   "cell_type": "markdown",
   "id": "c14acbcd-6da5-416d-a2c0-aabe68e83872",
   "metadata": {},
   "source": [
    "You can see that Bob received the message that Alice wanted to send to him.\n",
    "\n",
    "Next, let's try it with a real quantum computer."
   ]
  },
  {
   "cell_type": "code",
   "execution_count": null,
   "id": "c7d49410-a62f-4aa1-8d89-27fd92ca4609",
   "metadata": {},
   "outputs": [
    {
     "name": "stdout",
     "output_type": "stream",
     "text": [
      "The least busy device is  <IBMBackend('ibm_sherbrooke')>\n"
     ]
    }
   ],
   "source": [
    "from qiskit_ibm_runtime import QiskitRuntimeService\n",
    "\n",
    "service = QiskitRuntimeService()\n",
    "backend = service.least_busy(operational=True)\n",
    "print(\"The least busy device is \", backend)"
   ]
  },
  {
   "cell_type": "code",
   "execution_count": 45,
   "id": "ec22b1d6-37d3-4e0e-833f-e2fd9af45015",
   "metadata": {},
   "outputs": [
    {
     "data": {
      "text/plain": [
       "<Image src=\"/learning/images/courses/utility-scale-quantum-computing/teleportation/extracted-outputs/020f7f7d-2888-42af-b447-9f6266437584-0.avif\" alt=\"Output of the previous code cell\" />"
      ]
     },
     "execution_count": 45,
     "metadata": {},
     "output_type": "execute_result"
    }
   ],
   "source": [
    "# Step 1 was already completed before the simulator job above.\n",
    "# Step 2: Optimize for target hardware\n",
    "# Transpile the circuit into basis gates executable on the hardware\n",
    "pm = generate_preset_pass_manager(backend=backend, optimization_level=2)\n",
    "qc_compiled = pm.run(qc)\n",
    "\n",
    "qc_compiled.draw(\"mpl\", idle_wires=False)"
   ]
  },
  {
   "cell_type": "code",
   "execution_count": 46,
   "id": "971b28e1-b76a-4485-946a-8a2107998380",
   "metadata": {},
   "outputs": [
    {
     "name": "stdout",
     "output_type": "stream",
     "text": [
      "job id: d13nnyq3grvg008j0zag\n"
     ]
    }
   ],
   "source": [
    "# Step 3:Execute the target circuit\n",
    "sampler = Sampler(backend)\n",
    "job = sampler.run([qc_compiled])\n",
    "job_id = job.job_id()\n",
    "print(\"job id:\", job_id)"
   ]
  },
  {
   "cell_type": "code",
   "execution_count": 49,
   "id": "391fda7a-7cfd-4ccc-8f59-9e1453f7b3b0",
   "metadata": {},
   "outputs": [
    {
     "data": {
      "text/plain": [
       "'DONE'"
      ]
     },
     "execution_count": 49,
     "metadata": {},
     "output_type": "execute_result"
    }
   ],
   "source": [
    "# Check the job status\n",
    "job.status()"
   ]
  },
  {
   "cell_type": "code",
   "execution_count": null,
   "id": "81e4c3ab-70d4-486c-934e-feb032330b8c",
   "metadata": {},
   "outputs": [
    {
     "data": {
      "text/plain": [
       "'DONE'"
      ]
     },
     "execution_count": 52,
     "metadata": {},
     "output_type": "execute_result"
    }
   ],
   "source": [
    "# If the Notebook session got disconnected you can also check your job status by running the following code\n",
    "# from qiskit_ibm_runtime import QiskitRuntimeService\n",
    "# service = QiskitRuntimeService()\n",
    "job = service.job(job_id)  # Input your job-id between the quotations\n",
    "job.status()"
   ]
  },
  {
   "cell_type": "code",
   "execution_count": 53,
   "id": "0b797f05-55bc-4d6e-85cd-4ccfb5048416",
   "metadata": {},
   "outputs": [
    {
     "name": "stdout",
     "output_type": "stream",
     "text": [
      "{'11': 3942, '01': 107, '10': 41, '00': 6}\n"
     ]
    }
   ],
   "source": [
    "# Execute after job has successfully run\n",
    "real_result = job.result()\n",
    "print(real_result[0].data.c.get_counts())"
   ]
  },
  {
   "cell_type": "code",
   "execution_count": null,
   "id": "072c6e01-3744-47ba-bbc5-0d0eebb80f03",
   "metadata": {},
   "outputs": [
    {
     "data": {
      "text/plain": [
       "<Image src=\"/learning/images/courses/utility-scale-quantum-computing/teleportation/extracted-outputs/ca900a63-57e2-45c0-b930-3952a9359c6a-0.avif\" alt=\"Output of the previous code cell\" />"
      ]
     },
     "execution_count": 54,
     "metadata": {},
     "output_type": "execute_result"
    }
   ],
   "source": [
    "# Step 4: post-process the results\n",
    "from qiskit.visualization import plot_histogram\n",
    "\n",
    "plot_histogram(real_result[0].data.c.get_counts())"
   ]
  },
  {
   "cell_type": "markdown",
   "id": "03938e24-ae13-4272-b8ac-672d9d88c429",
   "metadata": {},
   "source": [
    "The result is what we expected. Note that superdense coding on a real quantum computer showed fewer errors than in the case of quantum teleportation on a real quantum computer. One reason for this might be that quantum teleportation uses dynamic circuits, and superdense coding does not. We will learn more about errors in quantum circuits in later lessons."
   ]
  },
  {
   "cell_type": "markdown",
   "id": "c6a1c499-962a-4d5e-81b0-b7df2082c44c",
   "metadata": {},
   "source": [
    "## 6. Summary\n",
    "\n",
    "In this session, we have implemented two quantum protocols. Although the scenarios for both involving distant friends are somewhat removed from quantum computing on a single QPU, they have applications in quantum computing, and help us understand the transfer of quantum information better.\n",
    "\n",
    "- **Quantum teleportation**: Although we cannot copy quantum states, we can teleport unknown quantum states by having shared entanglement.\n",
    "- **Quantum superdense coding**: A shared entangled pair, and transfer of one qubit, enable the communication of two bits of classical information."
   ]
  },
  {
   "cell_type": "code",
   "execution_count": 55,
   "id": "13f6ebcf-e4a8-4427-b951-7549fca9c350",
   "metadata": {},
   "outputs": [
    {
     "data": {
      "text/plain": [
       "'2.0.2'"
      ]
     },
     "execution_count": 55,
     "metadata": {},
     "output_type": "execute_result"
    }
   ],
   "source": [
    "# See the version of Qiskit\n",
    "import qiskit\n",
    "\n",
    "qiskit.__version__"
   ]
  }
 ],
 "metadata": {
  "description": "Throughout this lesson, you will learn about how to move quantum imformation from one to another by quantum teleportation",
  "kernelspec": {
   "display_name": "Python 3",
   "language": "python",
   "name": "python3"
  },
  "language_info": {
   "codemirror_mode": {
    "name": "ipython",
    "version": 3
   },
   "file_extension": ".py",
   "mimetype": "text/x-python",
   "name": "python",
   "nbconvert_exporter": "python",
   "pygments_lexer": "ipython3",
   "version": "3"
  },
  "title": "Teleportation",
  "widgets": {
   "application/vnd.jupyter.widget-state+json": {
    "state": {},
    "version_major": 2,
    "version_minor": 0
   }
  }
 },
 "nbformat": 4,
 "nbformat_minor": 4
}
