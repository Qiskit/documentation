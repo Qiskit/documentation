{
 "cells": [
  {
   "cell_type": "code",
   "execution_count": 8,
   "id": "993765f0-ea6b-405c-bc85-d3d1a7a07096",
   "metadata": {},
   "outputs": [],
   "source": [
    "  from qiskit_ibm_runtime import QiskitRuntimeService\n",
    "  service = QiskitRuntimeService.save_account(\n",
    "    token=token, # Your token is confidential.\n",
    "    # Do not share your key in public code.\n",
    "    instance=\"crn:v1:bluemix:public:quantum-computing:us-east:a/0c948648d03644309c478e42933a2db9:e51702e8-1d09-4af6-8f07-324073b86a34::\",\n",
    "    name=\"open\", # Optionally name this set of account credentials.\n",
    "    set_as_default=True, # Optionally set these as your default credentials.\n",
    "    overwrite=True\n",
    "  )"
   ]
  },
  {
   "cell_type": "code",
   "execution_count": 10,
   "id": "236b9060-3488-460b-9c61-e89d1b4abbf1",
   "metadata": {},
   "outputs": [
    {
     "name": "stdout",
     "output_type": "stream",
     "text": [
      "[]\n"
     ]
    }
   ],
   "source": [
    "print(service.instances())"
   ]
  },
  {
   "cell_type": "code",
   "execution_count": 14,
   "id": "ac1df417-149c-4399-832d-4b31b9e6af1d",
   "metadata": {},
   "outputs": [
    {
     "data": {
      "text/plain": [
       "[]"
      ]
     },
     "execution_count": 14,
     "metadata": {},
     "output_type": "execute_result"
    }
   ],
   "source": [
    "service.instances()"
   ]
  },
  {
   "cell_type": "code",
   "execution_count": 16,
   "id": "47e07def-a069-4445-9022-34f3dead4ae7",
   "metadata": {},
   "outputs": [],
   "source": [
    "service = QiskitRuntimeService(instance=\"crn:v1:bluemix:public:quantum-computing:us-east:a/0c948648d03644309c478e42933a2db9:e51702e8-1d09-4af6-8f07-324073b86a34::\")\n",
    "backend1 = service.backend(\"ibm_brisbane\")"
   ]
  },
  {
   "cell_type": "code",
   "execution_count": 17,
   "id": "9a9a2eea-622a-49f9-a841-1bb46eb0b252",
   "metadata": {},
   "outputs": [],
   "source": [
    "from qiskit_ibm_runtime import SamplerV2 as sampler"
   ]
  },
  {
   "cell_type": "code",
   "execution_count": 19,
   "id": "1e2bd227-ebc5-4987-951d-511a0d141dcc",
   "metadata": {},
   "outputs": [],
   "source": [
    "sampler1 = sampler(mode=backend1)"
   ]
  },
  {
   "cell_type": "code",
   "execution_count": 20,
   "id": "0017763b-63b3-4c75-a25a-3bce92a2f3c6",
   "metadata": {},
   "outputs": [
    {
     "ename": "IBMInputValueError",
     "evalue": "\"The 'instance' keyword is only supported for ``ibm_quantum`` runtime.\"",
     "output_type": "error",
     "traceback": [
      "\u001b[1;31m---------------------------------------------------------------------------\u001b[0m",
      "\u001b[1;31mIBMInputValueError\u001b[0m                        Traceback (most recent call last)",
      "Cell \u001b[1;32mIn[20], line 1\u001b[0m\n\u001b[1;32m----> 1\u001b[0m backend2 \u001b[38;5;241m=\u001b[39m \u001b[43mservice\u001b[49m\u001b[38;5;241;43m.\u001b[39;49m\u001b[43mbackend\u001b[49m\u001b[43m(\u001b[49m\u001b[38;5;124;43m\"\u001b[39;49m\u001b[38;5;124;43mibm_torino\u001b[39;49m\u001b[38;5;124;43m\"\u001b[39;49m\u001b[43m,\u001b[49m\u001b[43m \u001b[49m\u001b[43minstance\u001b[49m\u001b[38;5;241;43m=\u001b[39;49m\u001b[38;5;124;43m\"\u001b[39;49m\u001b[38;5;124;43mcrn:v1:bluemix:public:quantum-computing:us-east:a/0c948648d03644309c478e42933a2db9:e51702e8-1d09-4af6-8f07-324073b86a34::\u001b[39;49m\u001b[38;5;124;43m\"\u001b[39;49m\u001b[43m)\u001b[49m\n",
      "File \u001b[1;32mC:\\1docs\\.venv\\Lib\\site-packages\\qiskit_ibm_runtime\\qiskit_runtime_service.py:760\u001b[0m, in \u001b[0;36mQiskitRuntimeService.backend\u001b[1;34m(self, name, instance, use_fractional_gates)\u001b[0m\n\u001b[0;32m    728\u001b[0m \u001b[38;5;28;01mdef\u001b[39;00m\u001b[38;5;250m \u001b[39m\u001b[38;5;21mbackend\u001b[39m(\n\u001b[0;32m    729\u001b[0m     \u001b[38;5;28mself\u001b[39m,\n\u001b[0;32m    730\u001b[0m     name: \u001b[38;5;28mstr\u001b[39m,\n\u001b[0;32m    731\u001b[0m     instance: Optional[\u001b[38;5;28mstr\u001b[39m] \u001b[38;5;241m=\u001b[39m \u001b[38;5;28;01mNone\u001b[39;00m,\n\u001b[0;32m    732\u001b[0m     use_fractional_gates: Optional[\u001b[38;5;28mbool\u001b[39m] \u001b[38;5;241m=\u001b[39m \u001b[38;5;28;01mFalse\u001b[39;00m,\n\u001b[0;32m    733\u001b[0m ) \u001b[38;5;241m-\u001b[39m\u001b[38;5;241m>\u001b[39m Backend:\n\u001b[0;32m    734\u001b[0m \u001b[38;5;250m    \u001b[39m\u001b[38;5;124;03m\"\"\"Return a single backend matching the specified filtering.\u001b[39;00m\n\u001b[0;32m    735\u001b[0m \n\u001b[0;32m    736\u001b[0m \u001b[38;5;124;03m    Args:\u001b[39;00m\n\u001b[1;32m   (...)\u001b[0m\n\u001b[0;32m    758\u001b[0m \u001b[38;5;124;03m        QiskitBackendNotFoundError: if no backend could be found.\u001b[39;00m\n\u001b[0;32m    759\u001b[0m \u001b[38;5;124;03m    \"\"\"\u001b[39;00m\n\u001b[1;32m--> 760\u001b[0m     backends \u001b[38;5;241m=\u001b[39m \u001b[38;5;28;43mself\u001b[39;49m\u001b[38;5;241;43m.\u001b[39;49m\u001b[43mbackends\u001b[49m\u001b[43m(\u001b[49m\u001b[43mname\u001b[49m\u001b[43m,\u001b[49m\u001b[43m \u001b[49m\u001b[43minstance\u001b[49m\u001b[38;5;241;43m=\u001b[39;49m\u001b[43minstance\u001b[49m\u001b[43m,\u001b[49m\u001b[43m \u001b[49m\u001b[43muse_fractional_gates\u001b[49m\u001b[38;5;241;43m=\u001b[39;49m\u001b[43muse_fractional_gates\u001b[49m\u001b[43m)\u001b[49m\n\u001b[0;32m    761\u001b[0m     \u001b[38;5;28;01mif\u001b[39;00m \u001b[38;5;129;01mnot\u001b[39;00m backends:\n\u001b[0;32m    762\u001b[0m         cloud_msg_url \u001b[38;5;241m=\u001b[39m \u001b[38;5;124m\"\u001b[39m\u001b[38;5;124m\"\u001b[39m\n",
      "File \u001b[1;32mC:\\1docs\\.venv\\Lib\\site-packages\\qiskit_ibm_runtime\\qiskit_runtime_service.py:519\u001b[0m, in \u001b[0;36mQiskitRuntimeService.backends\u001b[1;34m(self, name, min_num_qubits, instance, dynamic_circuits, filters, use_fractional_gates, **kwargs)\u001b[0m\n\u001b[0;32m    517\u001b[0m \u001b[38;5;28;01melse\u001b[39;00m:\n\u001b[0;32m    518\u001b[0m     \u001b[38;5;28;01mif\u001b[39;00m instance:\n\u001b[1;32m--> 519\u001b[0m         \u001b[38;5;28;01mraise\u001b[39;00m IBMInputValueError(\n\u001b[0;32m    520\u001b[0m             \u001b[38;5;124m\"\u001b[39m\u001b[38;5;124mThe \u001b[39m\u001b[38;5;124m'\u001b[39m\u001b[38;5;124minstance\u001b[39m\u001b[38;5;124m'\u001b[39m\u001b[38;5;124m keyword is only supported for ``ibm_quantum`` runtime.\u001b[39m\u001b[38;5;124m\"\u001b[39m\n\u001b[0;32m    521\u001b[0m         )\n\u001b[0;32m    522\u001b[0m     \u001b[38;5;28;01mfor\u001b[39;00m backend_name \u001b[38;5;129;01min\u001b[39;00m \u001b[38;5;28mself\u001b[39m\u001b[38;5;241m.\u001b[39m_backend_allowed_list:\n\u001b[0;32m    523\u001b[0m         \u001b[38;5;28;01mif\u001b[39;00m backend \u001b[38;5;241m:=\u001b[39m \u001b[38;5;28mself\u001b[39m\u001b[38;5;241m.\u001b[39m_create_backend_obj(\n\u001b[0;32m    524\u001b[0m             backend_name,\n\u001b[0;32m    525\u001b[0m             instance\u001b[38;5;241m=\u001b[39m\u001b[38;5;28mself\u001b[39m\u001b[38;5;241m.\u001b[39m_account\u001b[38;5;241m.\u001b[39minstance,\n\u001b[0;32m    526\u001b[0m             use_fractional_gates\u001b[38;5;241m=\u001b[39muse_fractional_gates,\n\u001b[0;32m    527\u001b[0m         ):\n",
      "\u001b[1;31mIBMInputValueError\u001b[0m: \"The 'instance' keyword is only supported for ``ibm_quantum`` runtime.\""
     ]
    }
   ],
   "source": [
    "backend2 = service.backend(\"ibm_torino\", instance=\"crn:v1:bluemix:public:quantum-computing:us-east:a/0c948648d03644309c478e42933a2db9:e51702e8-1d09-4af6-8f07-324073b86a34::\")"
   ]
  },
  {
   "cell_type": "code",
   "execution_count": null,
   "id": "680fd968-925b-4283-920d-0eedb2c70e0e",
   "metadata": {},
   "outputs": [],
   "source": []
  }
 ],
 "metadata": {
  "kernelspec": {
   "display_name": "Python 3 (ipykernel)",
   "language": "python",
   "name": "python3"
  },
  "language_info": {
   "codemirror_mode": {
    "name": "ipython",
    "version": 3
   },
   "file_extension": ".py",
   "mimetype": "text/x-python",
   "name": "python",
   "nbconvert_exporter": "python",
   "pygments_lexer": "ipython3",
   "version": "3.12.2"
  }
 },
 "nbformat": 4,
 "nbformat_minor": 5
}
