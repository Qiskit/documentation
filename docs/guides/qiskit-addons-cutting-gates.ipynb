{
 "cells": [
  {
   "cell_type": "markdown",
   "id": "8fd79758-2771-41ce-b17e-e8bfdf5b1023",
   "metadata": {},
   "source": [
    "# Get started with circuit cutting using gate cuts"
   ]
  },
  {
   "cell_type": "markdown",
   "id": "091552e5",
   "metadata": {
    "tags": [
     "version-info"
    ]
   },
   "source": [
    "<details>\n",
    "<summary><b>Package versions</b></summary>\n",
    "\n",
    "The code on this page was developed using the following requirements.\n",
    "We recommend using these versions or newer.\n",
    "\n",
    "```\n",
    "qiskit[all]~=2.0.0\n",
    "qiskit-ibm-runtime~=0.37.0\n",
    "qiskit-aer~=0.17\n",
    "qiskit-addon-cutting~=0.10.0\n",
    "```\n",
    "</details>"
   ]
  },
  {
   "cell_type": "markdown",
   "id": "d6a15cd2",
   "metadata": {},
   "source": [
    "This guide demonstrates two working examples of gate cuts with the `qiskit-addon-cutting` package. The first example shows how to reduce circuit depth (the number of circuit instructions) by cutting entangling gates on non-adjacent qubits that would otherwise incur a SWAP overhead when transpiled to hardware. The second example covers how to use gate cutting to reduce the circuit width (the number of qubits) by splitting a circuit into several circuits with fewer qubits.\n",
    "\n",
    "Both examples will use the [`efficient_su2`](/docs/api/qiskit/qiskit.circuit.library.efficient_su2) ansatz and reconstructs the same observable."
   ]
  },
  {
   "cell_type": "markdown",
   "id": "e58752cf-2628-4c99-805b-4d82055b547a",
   "metadata": {},
   "source": [
    "## Gate cutting to reduce circuit depth\n",
    "\n",
    "The following workflow reduces a circuit's depth by cutting distant gates, avoiding a large series of SWAP gates that would otherwise be introduced.\n",
    "\n",
    "Start with the [`efficient_su2`](/docs/api/qiskit/qiskit.circuit.library.efficient_su2) ansatz, with \"circular\" entanglement to introduce distant gates."
   ]
  },
  {
   "cell_type": "code",
   "execution_count": 1,
   "id": "1551c440-c158-478a-a8fe-86df834c59bd",
   "metadata": {},
   "outputs": [
    {
     "name": "stdout",
     "output_type": "stream",
     "text": [
      "Observable: SparsePauliOp(['ZZII', 'IZZI', 'IIZZ', 'XIXI', 'ZIZZ', 'IXIX'],\n",
      "              coeffs=[ 1.+0.j,  1.+0.j, -1.+0.j,  1.+0.j,  1.+0.j,  1.+0.j])\n"
     ]
    },
    {
     "data": {
      "text/plain": [
       "<Image src=\"/docs/images/guides/qiskit-addons-cutting-gates/extracted-outputs/1551c440-c158-478a-a8fe-86df834c59bd-1.svg\" alt=\"Output of the previous code cell\" />"
      ]
     },
     "execution_count": 1,
     "metadata": {},
     "output_type": "execute_result"
    }
   ],
   "source": [
    "import numpy as np\n",
    "from qiskit.circuit.library import efficient_su2\n",
    "from qiskit.quantum_info import SparsePauliOp\n",
    "from qiskit.transpiler import generate_preset_pass_manager\n",
    "from qiskit_ibm_runtime.fake_provider import FakeManilaV2\n",
    "from qiskit_ibm_runtime import SamplerV2, Batch\n",
    "from qiskit_aer.primitives import EstimatorV2\n",
    "from qiskit_addon_cutting import (\n",
    "    cut_gates,\n",
    "    partition_problem,\n",
    "    generate_cutting_experiments,\n",
    "    reconstruct_expectation_values,\n",
    ")\n",
    "\n",
    "circuit = efficient_su2(num_qubits=4, entanglement=\"circular\")\n",
    "circuit.assign_parameters([0.4] * len(circuit.parameters), inplace=True)\n",
    "\n",
    "\n",
    "observable = SparsePauliOp([\"ZZII\", \"IZZI\", \"-IIZZ\", \"XIXI\", \"ZIZZ\", \"IXIX\"])\n",
    "print(f\"Observable: {observable}\")\n",
    "circuit.draw(\"mpl\", scale=0.8)"
   ]
  },
  {
   "cell_type": "markdown",
   "id": "87b8819b-75d7-4a9e-b91a-00b6155fda9a",
   "metadata": {},
   "source": [
    "Each of the [`CNOT`](/docs/api/qiskit/qiskit.circuit.library.CXGate) gates between qubits $q_0$ and $q_3$ introduce two SWAP gates after transpilation (assuming the qubits are connected in a straight line). To avoid this increase in depth, you can replace these distant gates with [`TwoQubitQPDGate`s](/docs/api/qiskit-addon-cutting/qpd-two-qubit-qpd-gate) using the [`cut_gates()`](/docs/api/qiskit-addon-cutting/qiskit-addon-cutting#cut_gates) method.  This function also returns a list of [`QPDBasis`](../api/qiskit-addon-cutting/qpd-qpd-basis) instances - one for each decomposition."
   ]
  },
  {
   "cell_type": "code",
   "execution_count": 2,
   "id": "66dc0a14-ab51-4190-9cda-1c0373e91b9e",
   "metadata": {},
   "outputs": [
    {
     "data": {
      "text/plain": [
       "<Image src=\"/docs/images/guides/qiskit-addons-cutting-gates/extracted-outputs/66dc0a14-ab51-4190-9cda-1c0373e91b9e-0.svg\" alt=\"Output of the previous code cell\" />"
      ]
     },
     "execution_count": 2,
     "metadata": {},
     "output_type": "execute_result"
    }
   ],
   "source": [
    "# Find the indices of the distant gates\n",
    "cut_indices = [\n",
    "    i\n",
    "    for i, instruction in enumerate(circuit.data)\n",
    "    if {circuit.find_bit(q)[0] for q in instruction.qubits} == {0, 3}\n",
    "]\n",
    "\n",
    "# Decompose distant CNOTs into TwoQubitQPDGate instances\n",
    "qpd_circuit, bases = cut_gates(circuit, cut_indices)\n",
    "\n",
    "qpd_circuit.draw(\"mpl\", scale=0.8)"
   ]
  },
  {
   "cell_type": "markdown",
   "id": "e9871e55-59f8-48e2-a9ca-2645dcb7d2bf",
   "metadata": {},
   "source": [
    "Now that the cut gate instructions have been added, the subexperiments will have a smaller depth after transpilation than the original circuit. The code snippet below generates the subexperiments using the [`generate_cutting_experiments`](/docs/api/qiskit-addon-cutting/qiskit-addon-cutting#generate_cutting_experiments), which ingests the circuit and observable to reconstruct.\n",
    "\n",
    "<Admonition type=\"note\" title=\"Note about the number of samples\">\n",
    "    The `num_samples` argument specifies how many samples to draw from the quasi-probability distribution and determines the accuracy of the coefficients used for the reconstruction. Passing infinity (`np.inf`) will ensure all coefficients are calculated exactly. Read the API docs on [generating weights](/docs/api/qiskit-addon-cutting/qpd#generate_qpd_weights) and [generating cutting experiments](/docs/api/qiskit-addon-cutting/qiskit-addon-cutting#generate_cutting_experiments) for more information.\n",
    "</Admonition>\n",
    "\n",
    "Once the subexperiments are generated, you can then transpile them and use the `Sampler` primitive to sample the distribution and reconstruct the estimated expectation values. The following code block generates, transpiles, and executes the subexperiments. It then reconstructs the results and compares them to the exact expectation value."
   ]
  },
  {
   "cell_type": "code",
   "execution_count": 3,
   "id": "682d5724-d8bc-40e6-b42e-9224a600fe7a",
   "metadata": {},
   "outputs": [
    {
     "name": "stdout",
     "output_type": "stream",
     "text": [
      "Reconstructed expectation value: 0.39204915\n",
      "Exact expectation value: 0.50497603\n",
      "Error in estimation: -0.11292688\n",
      "Relative error in estimation: -0.22362819\n"
     ]
    }
   ],
   "source": [
    "# Generate the subexperiments and sampling coefficients\n",
    "subexperiments, coefficients = generate_cutting_experiments(\n",
    "    circuits=qpd_circuit, observables=observable.paulis, num_samples=np.inf\n",
    ")\n",
    "\n",
    "# Set a backend to use and transpile the subexperiments\n",
    "backend = FakeManilaV2()\n",
    "pass_manager = generate_preset_pass_manager(\n",
    "    optimization_level=1, backend=backend\n",
    ")\n",
    "isa_subexperiments = pass_manager.run(subexperiments)\n",
    "\n",
    "# Set up the Qiskit Runtime Sampler primitive, submit the subexperiments, and retrieve the results\n",
    "sampler = SamplerV2(backend)\n",
    "job = sampler.run(isa_subexperiments, shots=4096 * 3)\n",
    "results = job.result()\n",
    "\n",
    "\n",
    "# Reconstruct the results\n",
    "reconstructed_expval_terms = reconstruct_expectation_values(\n",
    "    results,\n",
    "    coefficients,\n",
    "    observable.paulis,\n",
    ")\n",
    "\n",
    "# Apply the coefficients of the original observable\n",
    "reconstructed_expval = np.dot(reconstructed_expval_terms, observable.coeffs)\n",
    "\n",
    "estimator = EstimatorV2()\n",
    "exact_expval = (\n",
    "    estimator.run([(circuit, observable, [0.4] * len(circuit.parameters))])\n",
    "    .result()[0]\n",
    "    .data.evs\n",
    ")\n",
    "print(\n",
    "    f\"Reconstructed expectation value: {np.real(np.round(reconstructed_expval, 8))}\"\n",
    ")\n",
    "print(f\"Exact expectation value: {np.round(exact_expval, 8)}\")\n",
    "print(\n",
    "    f\"Error in estimation: {np.real(np.round(reconstructed_expval-exact_expval, 8))}\"\n",
    ")\n",
    "print(\n",
    "    f\"Relative error in estimation: {np.real(np.round((reconstructed_expval-exact_expval) / exact_expval, 8))}\"\n",
    ")"
   ]
  },
  {
   "cell_type": "markdown",
   "id": "64f44348-3ad1-4bf4-9a3a-cf0d73ca3431",
   "metadata": {},
   "source": [
    "<Admonition type=\"caution\" title=\"Note about observable coefficients\">\n",
    "    To accurately reconstruct the expectation value, the coefficients of the original observable (which are different from the coefficients in the output of `generate_cutting_experiments()`) must be applied to the output of the reconstruction, since this information was lost when the cutting experiments were generated or when the observable was expanded.\n",
    "\n",
    "    Typically these coefficients can be applied through `numpy.dot()` as shown above.\n",
    "</Admonition>"
   ]
  },
  {
   "cell_type": "markdown",
   "id": "1eaf95b7-7c95-4c65-9ab6-d2654bc2b988",
   "metadata": {},
   "source": [
    "## Gate cutting to reduce circuit width\n",
    "\n",
    "This section demonstrates using gate cutting to reduce circuit width. Start with the same [`efficient_su2`](/docs/api/qiskit/qiskit.circuit.library.efficient_su2) but use \"linear\" entanglement."
   ]
  },
  {
   "cell_type": "code",
   "execution_count": 4,
   "id": "64010a14-8360-47e2-bb77-af9b2e0dbbfc",
   "metadata": {},
   "outputs": [
    {
     "name": "stdout",
     "output_type": "stream",
     "text": [
      "Observable: SparsePauliOp(['ZZII', 'IZZI', 'IIZZ', 'XIXI', 'ZIZZ', 'IXIX'],\n",
      "              coeffs=[ 1.+0.j,  1.+0.j, -1.+0.j,  1.+0.j,  1.+0.j,  1.+0.j])\n"
     ]
    },
    {
     "data": {
      "text/plain": [
       "<Image src=\"/docs/images/guides/qiskit-addons-cutting-gates/extracted-outputs/64010a14-8360-47e2-bb77-af9b2e0dbbfc-1.svg\" alt=\"Output of the previous code cell\" />"
      ]
     },
     "execution_count": 4,
     "metadata": {},
     "output_type": "execute_result"
    }
   ],
   "source": [
    "qc = efficient_su2(4, entanglement=\"linear\", reps=2)\n",
    "qc.assign_parameters([0.4] * len(qc.parameters), inplace=True)\n",
    "\n",
    "\n",
    "observable = SparsePauliOp([\"ZZII\", \"IZZI\", \"-IIZZ\", \"XIXI\", \"ZIZZ\", \"IXIX\"])\n",
    "print(f\"Observable: {observable}\")\n",
    "\n",
    "qc.draw(\"mpl\", scale=0.8)"
   ]
  },
  {
   "cell_type": "markdown",
   "id": "65ddc1d5-b0c6-45e9-88e1-6df2616e3f96",
   "metadata": {},
   "source": [
    "Then generate the *subcircuits* and *subobservables* you'll execute using the [`partition_problem()`](/docs/api/qiskit-addon-cutting/qiskit-addon-cutting#partition_problem) function. This function takes in the circuit, observable, and an optional partitioning scheme and returns the cut circuits and observables in the form of a dictionary.\n",
    "\n",
    "The partitioning is defined by a label string of the form `\"AABB\"` where each label in this string corresponds to the qubit in the same index of the `circuit` argument. Qubits sharing a common partition label are grouped together, and any non-local gates that span more than one partition will be cut.\n",
    "\n",
    "<Admonition type=\"information\" title=\"Note\">\n",
    "   The `observables` kwarg to `partition_problem` is of type [`PauliList`](/docs/api/qiskit/qiskit.quantum_info.PauliList). Observable term coefficients and phases are ignored during decomposition of the problem and execution of the subexperiments. They may be re-applied during reconstruction of the expectation value.\n",
    "</Admonition>"
   ]
  },
  {
   "cell_type": "code",
   "execution_count": 5,
   "id": "a5454265-3785-4a54-b423-baf7815b97ec",
   "metadata": {},
   "outputs": [
    {
     "name": "stdout",
     "output_type": "stream",
     "text": [
      "Sampling overhead: 81.0\n",
      "Subobservables: {'A': PauliList(['II', 'ZI', 'ZZ', 'XI', 'ZZ', 'IX']), 'B': PauliList(['ZZ', 'IZ', 'II', 'XI', 'ZI', 'IX'])}\n"
     ]
    },
    {
     "data": {
      "text/plain": [
       "<Image src=\"/docs/images/guides/qiskit-addons-cutting-gates/extracted-outputs/a5454265-3785-4a54-b423-baf7815b97ec-1.svg\" alt=\"Output of the previous code cell\" />"
      ]
     },
     "execution_count": 5,
     "metadata": {},
     "output_type": "execute_result"
    }
   ],
   "source": [
    "partitioned_problem = partition_problem(\n",
    "    circuit=qc, partition_labels=\"AABB\", observables=observable.paulis\n",
    ")\n",
    "subcircuits = partitioned_problem.subcircuits\n",
    "subobservables = partitioned_problem.subobservables\n",
    "bases = partitioned_problem.bases\n",
    "\n",
    "\n",
    "print(f\"Sampling overhead: {np.prod([basis.overhead for basis in bases])}\")\n",
    "print(f\"Subobservables: {subobservables}\")\n",
    "subcircuits[\"A\"].draw(\"mpl\", scale=0.8)"
   ]
  },
  {
   "cell_type": "code",
   "execution_count": 6,
   "id": "1c527720-0d06-48a1-88b6-9ff95a77a068",
   "metadata": {},
   "outputs": [
    {
     "data": {
      "text/plain": [
       "<Image src=\"/docs/images/guides/qiskit-addons-cutting-gates/extracted-outputs/1c527720-0d06-48a1-88b6-9ff95a77a068-0.svg\" alt=\"Output of the previous code cell\" />"
      ]
     },
     "execution_count": 6,
     "metadata": {},
     "output_type": "execute_result"
    }
   ],
   "source": [
    "subcircuits[\"B\"].draw(\"mpl\", scale=0.8)"
   ]
  },
  {
   "cell_type": "markdown",
   "id": "8a03df45-252b-424f-9fe0-9748084f14c3",
   "metadata": {},
   "source": [
    "The next step is then to use the subcircuits and subobservables to generate the *subexperiments* to be executed on a QPU using the [`generate_cutting_experiments`](/docs/api/qiskit-addon-cutting/qiskit-addon-cutting#generate_cutting_experiments) method.\n",
    "\n",
    "To estimate the expectation value of the full-sized circuit, many subexperiments are generated from the decomposed gates' joint quasi-probability distribution and then executed on one or more QPUs. The number of samples to be taken from this distribution is controlled by the `num_samples` argument.\n",
    "\n",
    "The following code block generates the subexperiments and executes them using the `Sampler` primitive on a local simulator. (To run these on a QPU, change the `backend` to your chosen QPU resource.)"
   ]
  },
  {
   "cell_type": "code",
   "execution_count": 7,
   "id": "1be6d145-4a18-4c41-bf59-d9b24d2ce024",
   "metadata": {},
   "outputs": [],
   "source": [
    "subexperiments, coefficients = generate_cutting_experiments(\n",
    "    circuits=subcircuits, observables=subobservables, num_samples=np.inf\n",
    ")\n",
    "\n",
    "# Set a backend to use and transpile the subexperiments\n",
    "backend = FakeManilaV2()\n",
    "pass_manager = generate_preset_pass_manager(\n",
    "    optimization_level=1, backend=backend\n",
    ")\n",
    "isa_subexperiments = {\n",
    "    label: pass_manager.run(partition_subexpts)\n",
    "    for label, partition_subexpts in subexperiments.items()\n",
    "}\n",
    "\n",
    "# Submit each partition's subexperiments to the Qiskit Runtime Sampler\n",
    "# primitive, in a single batch so that the jobs will run back-to-back.\n",
    "with Batch(backend=backend) as batch:\n",
    "    sampler = SamplerV2(mode=batch)\n",
    "    jobs = {\n",
    "        label: sampler.run(subsystem_subexpts, shots=4096 * 3)\n",
    "        for label, subsystem_subexpts in isa_subexperiments.items()\n",
    "    }\n",
    "\n",
    "# Retrieve results\n",
    "results = {label: job.result() for label, job in jobs.items()}"
   ]
  },
  {
   "cell_type": "markdown",
   "id": "64e762ad-0660-4c78-8ea7-fb9d226357d7",
   "metadata": {},
   "source": [
    "Lastly, the expectation value of the full circuit is reconstructed using the [`reconstruct_expectation_values`](/docs/api/qiskit-addon-cutting/qiskit-addon-cutting#reconstruct_expectation_values) method.\n",
    "\n",
    "The code block below reconstructs the results and compares them with the exact expectation value."
   ]
  },
  {
   "cell_type": "code",
   "execution_count": 8,
   "id": "b3cf1b65-df16-4bd4-a083-f65cec6c49dc",
   "metadata": {},
   "outputs": [
    {
     "name": "stdout",
     "output_type": "stream",
     "text": [
      "Reconstructed expectation value: 0.56828649\n",
      "Exact expectation value: 0.56254612\n",
      "Error in estimation: 0.00574037\n",
      "Relative error in estimation: 0.01020426\n"
     ]
    }
   ],
   "source": [
    "# Get expectation values for each observable term\n",
    "reconstructed_expval_terms = reconstruct_expectation_values(\n",
    "    results,\n",
    "    coefficients,\n",
    "    subobservables,\n",
    ")\n",
    "\n",
    "# Reconstruct final expectation value\n",
    "reconstructed_expval = np.dot(reconstructed_expval_terms, observable.coeffs)\n",
    "\n",
    "\n",
    "estimator = EstimatorV2()\n",
    "exact_expval = (\n",
    "    estimator.run([(qc, observable, [0.4] * len(qc.parameters))])\n",
    "    .result()[0]\n",
    "    .data.evs\n",
    ")\n",
    "print(\n",
    "    f\"Reconstructed expectation value: {np.real(np.round(reconstructed_expval, 8))}\"\n",
    ")\n",
    "print(f\"Exact expectation value: {np.round(exact_expval, 8)}\")\n",
    "print(\n",
    "    f\"Error in estimation: {np.real(np.round(reconstructed_expval-exact_expval, 8))}\"\n",
    ")\n",
    "print(\n",
    "    f\"Relative error in estimation: {np.real(np.round((reconstructed_expval-exact_expval) / exact_expval, 8))}\"\n",
    ")"
   ]
  },
  {
   "cell_type": "markdown",
   "id": "faf4620d-6782-4fce-a99b-9e1d01f29951",
   "metadata": {},
   "source": [
    "## Next steps\n",
    "\n",
    "<Admonition type=\"tip\" title=\"Recommendations\">\n",
    "    - Read the [Get started with circuit cutting using wire cuts](/docs/guides/qiskit-addons-cutting-wires) guide.\n",
    "    - Read the arXiv paper on [circuit knitting with classical communication.](https://ieeexplore.ieee.org/document/10236453)\n",
    "</Admonition>"
   ]
  }
 ],
 "metadata": {
  "description": "Two worked examples of gate cutting using the circuit cutting addon to get started with the package",
  "kernelspec": {
   "display_name": "Python 3",
   "language": "python",
   "name": "python3"
  },
  "language_info": {
   "codemirror_mode": {
    "name": "ipython",
    "version": 3
   },
   "file_extension": ".py",
   "mimetype": "text/x-python",
   "name": "python",
   "nbconvert_exporter": "python",
   "pygments_lexer": "ipython3",
   "version": "3"
  },
  "title": "Get started with gate cutting"
 },
 "nbformat": 4,
 "nbformat_minor": 2
}
