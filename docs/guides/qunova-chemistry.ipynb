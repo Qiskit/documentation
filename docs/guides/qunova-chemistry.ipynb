{
 "cells": [
  {
   "cell_type": "markdown",
   "id": "f7d9993f",
   "metadata": {},
   "source": [
    "{/* cspell:ignore ccsd, ffsim, pvdz, Qunova, HI-VQE, AVAS, Dooh, pyscf, nucmod, GTO's, lucj, pseudopotential, pseudopotentials, magmom, Jastrow, multireference */}"
   ]
  },
  {
   "cell_type": "code",
   "execution_count": 1,
   "id": "613c4d93",
   "metadata": {
    "tags": [
     "remove-cell"
    ]
   },
   "outputs": [],
   "source": [
    "# This cell is hidden from users\n",
    "from qiskit_ibm_runtime import QiskitRuntimeService\n",
    "\n",
    "service = QiskitRuntimeService()\n",
    "instance = service.active_account()[\"instance\"]\n",
    "backend_name = service.least_busy(operational=True, min_num_qubits=16).name"
   ]
  },
  {
   "cell_type": "markdown",
   "id": "dde95705",
   "metadata": {},
   "source": [
    "# HI-VQE Chemistry - A Qiskit Function by Qunova Computing\n",
    "\n",
    "<Admonition type=\"note\">\n",
    "  <LegacyContent>\n",
    "This documentation is relevant to IBM Quantum&reg; Platform Classic. If you need the newer version, go to the new [IBM Quantum Platform documentation.](https://quantum.cloud.ibm.com/docs/guides/qunova-chemistry)\n",
    "</LegacyContent>\n",
    "<CloudContent>\n",
    "This documentation is relevant to the new IBM Quantum&reg; Platform. If you need the previous version, return to the [IBM Quantum Platform Classic documentation.](https://docs.quantum.ibm.com/guides/qunova-chemistry)\n",
    "</CloudContent>\n",
    "\n",
    "  Qiskit Functions are an experimental feature available only to IBM Quantum&reg; Premium Plan users. They are in preview release status and subject to change.\n",
    "</Admonition>"
   ]
  },
  {
   "cell_type": "markdown",
   "id": "bbfca10c",
   "metadata": {
    "tags": [
     "version-info"
    ]
   },
   "source": []
  },
  {
   "cell_type": "markdown",
   "id": "e3498f9b",
   "metadata": {},
   "source": [
    "## Overview\n",
    "\n",
    "In quantum chemistry, the electronic structure problem focuses on finding the solutions to the electronic Schrödinger equation - the quantum wave functions describing the behavior of the system's electrons. These wave functions are vectors of complex amplitudes, with each amplitude corresponding to the contribution of a possible electron configuration.\n",
    "\n",
    "The ground state is the lowest energy wave function of the system and has a special importance in the study of molecular systems. The most accurate approach for computing the ground state considers all possible electron configurations, but this becomes intractable for larger systems since the number of configurations grows exponentially with system size.\n",
    "\n",
    "The Handover Iterative Variational Quantum Eigensolver (HI-VQE) is an innovative hybrid quantum-classical method for accurately estimating the ground state of molecular systems. It integrates quantum hardware with classical computing, using quantum processors to efficiently explore candidate electron configurations and calculating the resulting wave function on classical computers. By generating compact yet chemically accurate wave functions, HI-VQE enhances research and discovery in quantum chemistry and materials science.\n",
    "\n",
    "![Image showing an overview of Qunova's HI-VQE algorithm](/images/guides/qunova-chemistry/overview.avif)\n",
    "\n",
    "HI-VQE reduces the computational complexity of the electronic structure problem by efficiently estimating the ground state with high accuracy. It focuses on a carefully selected subset of the most relevant electron configurations, optimizing both accuracy and efficiency.\n",
    "\n",
    "Combining the strengths of both classical and quantum computers, HI-VQE iteratively refines and improves the current estimate wave function. Its unique subspace construction techniques help make configuration selection more efficient, so that users have greater computational control and improved accuracy in quantum chemistry simulations.\n",
    "\n",
    "If you would like to learn about the algorithm in more depth, you can [read the associated research paper](https://arxiv.org/abs/2503.06292)."
   ]
  },
  {
   "cell_type": "markdown",
   "id": "5f761442",
   "metadata": {},
   "source": [
    "## Description\n",
    "\n",
    "The number of electron configurations for a molecular system grows exponentially with system size. However, for certain electronic states, such as the ground state, it is common that only a small fraction of configurations significantly contribute to the state’s energy. Selected configuration interaction (SCI) methods exploit this sparsity to reduce computational costs by identifying and focusing on the most relevant configurations. This subset of configurations is referred to as a subspace.\n",
    "\n",
    "HI-VQE leverages the inherent efficiency of quantum computers for representing molecular systems to aid the subspace search. It integrates classical and quantum subroutines to solve the electronic structure problem with high accuracy. Unlike existing quantum SCI methods, HI-VQE combines variational training, iterative subspace construction, and pre-diagonalization configuration screening to enhance efficiency by reducing quantum measurements, iterations, and classical diagonalization costs. HI-VQE can therefore be applied to larger molecular systems which require more qubits, and reduces the cost to solve a problem of a given size to the same degree of accuracy.\n",
    "\n",
    "![Image showing a detailed description of each step in Qunova's HI-VQE algorithm.](/images/guides/qunova-chemistry/description.avif)\n",
    "\n",
    "To compute a system's ground state, HI-VQE first uses the classical chemistry package PySCF to generate a molecular representation from user-provided inputs, such as the molecular geometry and other molecular information. It then enters a hybrid quantum-classical optimization loop, iteratively refining a subspace to optimally represent the ground state while minimizing the number of configurations included. The loop continues until convergence criteria, such as subspace size or energy stability, are met, after which the computed ground state wave function and energy are output. These results can be used to construct accurate potential energy surfaces and perform further analysis of the system.\n",
    "\n",
    "The optimization loop focuses on adjusting a quantum circuit’s parameters to generate a high-quality subspace. HI-VQE offers three quantum circuit options: [`excitation_preserving`](/api/qiskit/qiskit.circuit.library.excitation_preserving), [efficient_su2](/api/qiskit/qiskit.circuit.library.efficient_su2), and [LUCJ](https://qiskit-community.github.io/ffsim/dev/explanations/lucj.html#The-local-unitary-cluster-Jastrow-(LUCJ)-ansatz). The optimization is initialized close to the Hartree-Fock reference state due to its general suitability. The circuit is then executed on a quantum device and configurations are sampled from the resulting quantum state before being returned as binary strings. Due to quantum device noise, some sampled configurations may be physically invalid, failing to conserve electron number or spin. HI-VQE addresses this using the configuration recovery process from the [qiskit-addon-sqd](/guides/qiskit-addons-sqd#sample-based-quantum-diagonalization-sqd-overview) package, so that users can either correct invalid configurations or discard them.\n",
    "\n",
    "The valid configurations then undergo an optional screening step to remove those predicted to contribute minimally. This reduces the dimension of the subspace, thereby lowering the cost of the diagonalization step. If the screening is enabled, then a preliminary subspace Hamiltonian is constructed from the valid configurations and a diagonalization is performed with very loose termination critieria. Though the accuracy of the resulting amplitudes for each configuration is low, it is effective for predicting which configurations to leave out of the subspace this iteration, and it is fast to compute.\n",
    "\n",
    "The selected configurations are added to the subspace, and the system's Hamiltonian is projected into this subspace. The subspace updates iteratively, preserving the most relevant configurations across iterations. This approach contrasts with alternative methods because the quantum circuit does not need to approximate the full ground state at each step.\n",
    "\n",
    "Next, the subspace Hamiltonian is classically diagonalized to obtain the lowest eigenvalue and its corresponding eigenvector, representing an approximation of the ground state and its energy. As the subspace quality improves through iterations, the computed ground state better approximates the true ground state. An additional screening step can be performed at this point to remove any configurations from the subspace that don't have a substantial contribution to the computed ground state. This step ensures that the subspace carried into the next iteration is as compact as possible. This is evaluated based on the amplitudes that are returned by the diagonalization, as these represent each configuration's importance contribution to the computed ground state.\n",
    "\n",
    "A convergence check then determines whether further training would improve results. If so, then an optional classical expansion step is performed, the quantum circuit parameters are updated to further minimize the computed energy, and the process repeats. The classical expansion step generates additional configurations for the subspace, supplementing the configurations sampled from the quantum device. It first identifies the configuration with the largest amplitude in the diagonalization results, before generating new configurations with single and double excitations from the identified configuration. The desired number of these configurations are then added to the subspace.\n",
    "\n",
    "Once it is determined that the iterations have converged, HI-VQE returns the computed ground state (in the form of the states in the subspace and their amplitudes in the ground state wave function), its energy, and an energy variance measure that gives an indication of whether the computed state forms an eigenstate of the system's Hamiltonian.\n",
    "\n",
    "Users are able to decide the quantum circuit used and the number of shots taken for each quantum circuit, as well as control the subspace size or enable the classical generation of additional configurations to assist the quantum generated configurations. In this way users can tailor the behavior of HI-VQE to suit their desired applications."
   ]
  },
  {
   "cell_type": "markdown",
   "id": "73390a19",
   "metadata": {},
   "source": [
    "## Get started\n",
    "\n",
    "First, [request access to the function](https://forms.office.com/r/zN3hvMTqJ1).\n",
    "<LegacyContent>\n",
    "Then, authenticate using your [IBM Quantum&reg; API key](http://quantum.ibm.com/) and select the Qiskit Function as follows:\n",
    "</LegacyContent>\n",
    "<CloudContent>\n",
    "Then, authenticate using your [IBM Quantum&reg; API key](http://quantum.cloud.ibm.com/) and select the Qiskit Function as follows:\n",
    "</CloudContent>"
   ]
  },
  {
   "cell_type": "code",
   "execution_count": 2,
   "id": "95a715d2",
   "metadata": {},
   "outputs": [],
   "source": [
    "import reprlib\n",
    "from qiskit_ibm_catalog import QiskitFunctionsCatalog\n",
    "\n",
    "catalog = QiskitFunctionsCatalog()\n",
    "function = catalog.load(\"qunova/hivqe-chemistry\")"
   ]
  },
  {
   "cell_type": "markdown",
   "id": "0d852d96",
   "metadata": {},
   "source": [
    "## Inputs\n",
    "\n",
    "See the following table for all input parameters the function accepts. The subsequent [Molecule options](#molecule-options) and [HI-VQE options](#hi-vqe-options) sections go into more details about those arguments."
   ]
  },
  {
   "cell_type": "markdown",
   "id": "d35f5938",
   "metadata": {},
   "source": [
    "<LegacyContent>\n",
    "| Name                   | Type                                                           | Description                                                                                                                                                                                                                                                                                                 | Required | Default                                                                  | Example                                                                                   |\n",
    "|------------------------|----------------------------------------------------------------|-------------------------------------------------------------------------------------------------------------------------------------------------------------------------------------------------------------------------------------------------------------------------------------------------------------|----------|--------------------------------------------------------------------------|-------------------------------------------------------------------------------------------|\n",
    "| geometry               | Union[List[List[Union[str, Tuple[float, float, float]]]], str] | This can be either a string or structured lists containing atom and coordinate pairs. If this is given as a string, it must be a molecule geometry in Cartesian Coordinate Format. If this is given as a list, it should be given as a list of lists that each contain an atom string and coordinate tuple. | Yes      | N/A                                                                      | `[['O', (0, 0, 0)], ['H', (0, 1, 0)], ['H', (0, 0, 1)]]` or `\"O 0 0 0; H 0 1 0; H 0 0 1\"` |\n",
    "| backend\\_name          | str                                                            | Name of the backend to make the query.                                                                                                                                                                                                                                                                      | Yes      | N/A                                                                      | `ibm_fez`                                                                                 |\n",
    "| instance               | str                                                            | The instance to use in that format.                                                                                                                                                                                                                                                                | No       | One is randomly picked if your account has access to multiple instances. | `hub1/group1/project1`                                                                    |\n",
    "| max\\_states            | int                                                            | The maximum subspace dimension for the diagonalization. Fewer states will be used if the number is not a perfect square.                                                                                                                                                                                                                                                    | Yes      | N/A                                                                      | `100`                                                                                     |\n",
    "| max\\_expansion\\_states | int                                                            | The maximum number of classically-generated CI states to be included in each iteration.                                                                                                                                                                                                                     | Yes      | N/A                                                                      | `10`                                                                                      |\n",
    "| molecule_options                | dict                                                           | Options related to the molecule used as input to HI-VQE. See the [Molecule options](#molecule-options) section for more details.                                                                                                                                                                                                                                                | No       | See the [Molecule options](#molecule-options) section for details.                                 | `{\"basis\": \"sto3g\", \"unit\": \"angstrom\" }`                               |\n",
    "| hivqe_options                | dict                                                           | Options controlling the behavior of the HI-VQE algorithm. See the [HI-VQE options](#hi-vqe-options) section for more details.                                                                                                                                                                                                                                                | No       | See the [HI-VQE options](#hi-vqe-options) section for details.                                 | `{\"shots\": 10_000, \"max_iter\": 10 }`                               |\n",
    "</LegacyContent>\n",
    "<CloudContent>\n",
    "| Name                   | Type                                                           | Description                                                                                                                                                                                                                                                                                                 | Required | Default                                                                  | Example                                                                                   |\n",
    "|------------------------|----------------------------------------------------------------|-------------------------------------------------------------------------------------------------------------------------------------------------------------------------------------------------------------------------------------------------------------------------------------------------------------|----------|--------------------------------------------------------------------------|-------------------------------------------------------------------------------------------|\n",
    "| geometry               | Union[List[List[Union[str, Tuple[float, float, float]]]], str] | This can be either a string or structured lists containing atom and coordinate pairs. If this is given as a string, it must be a molecule geometry in Cartesian Coordinate Format. If this is given as a list, it should be given as a list of lists that each contain an atom string and coordinate tuple. | Yes      | N/A                                                                      | `[['O', (0, 0, 0)], ['H', (0, 1, 0)], ['H', (0, 0, 1)]]` or `\"O 0 0 0; H 0 1 0; H 0 0 1\"` |\n",
    "| backend\\_name          | str                                                            | Name of the backend to make the query.                                                                                                                                                                                                                                                                      | Yes      | N/A                                                                      | `ibm_fez`                                                                                 |\n",
    "| instance               | str                                                            | The instance to use in that format.                                                                                                                                                                                                                                                                | No       | One is randomly picked if your account has access to multiple instances. | `CRN`                                                                    |\n",
    "| max\\_states            | int                                                            | The maximum subspace dimension for the diagonalization. Fewer states will be used if the number is not a perfect square.                                                                                                                                                                                                                                                    | Yes      | N/A                                                                      | `100`                                                                                     |\n",
    "| max\\_expansion\\_states | int                                                            | The maximum number of classically-generated CI states to be included in each iteration.                                                                                                                                                                                                                     | Yes      | N/A                                                                      | `10`                                                                                      |\n",
    "| molecule_options                | dict                                                           | Options related to the molecule used as input to HI-VQE. See the [Molecule options](#molecule-options) section for more details.                                                                                                                                                                                                                                                | No       | See the [Molecule options](#molecule-options) section for details.                                 | `{\"basis\": \"sto3g\", \"unit\": \"angstrom\" }`                               |\n",
    "| hivqe_options                | dict                                                           | Options controlling the behavior of the HI-VQE algorithm. See the [HI-VQE options](#hi-vqe-options) section for more details.                                                                                                                                                                                                                                                | No       | See the [HI-VQE options](#hi-vqe-options) section for details.                                 | `{\"shots\": 10_000, \"max_iter\": 10 }`                               |\n",
    "</CloudContent>"
   ]
  },
  {
   "cell_type": "markdown",
   "id": "83d29a81-939c-438c-8a92-27548639be01",
   "metadata": {},
   "source": [
    "### Molecule options\n",
    "\n",
    "The following table details all keys and values that can be set in the `molecule_options` dictionary, as well as their data types and default values. All keys are optional.\n",
    "\n",
    "| Key                               | Value type                          | Default Value                    | Valid range                                                                                                                                                    | Explanation                                                                                                                                                                                                                                                                                                                                                                                                                                                                                                                            |\n",
    "|:----------------------------------|:-----------------------------------:|:--------------------------------:|:---------------------------------------------------------------------------------------------------------------------------------------------------------------|:----------------------------------------------------------------------------------------------------------------------------------------------------------------------------------------------------------------------------------------------------------------------------------------------------------------------------------------------------------------------------------------------------------------------------------------------------------------------------------------------------------------------------------------|\n",
    "| `\"charge\"`                        | `int`                               | `0`                              | Various                                                                                                                                                        | An integer specifying the total net charge of the molecular system. The default value is 0; however, it can be any integer.                                                                                                                                                                                                                                                                                                                                                                                                              |\n",
    "| `\"basis\"`                         | `str`                               | `'sto-3g'`                       | Various                                                                                                                                                        | A string specifying the basis type; these are passed to pyscf. (eg: `\"sto-3g\"`, `\"3-21g\"`, `\"6-31g\"`, `\"cc-pvdz\"`)                                                                                                                                                                                                                                                                                                                                                                                                                      |\n",
    "| `\"active_orbitals\"`               | `List[int]`                         | Every orbital index.             | The spatial orbital indices valid for the problem.                                                                                                             | A list of active orbital indices in the interval [0, n) where n is the number of qubits used in the problem. If this is specified, then the frozen_orbitals argument must also be specified.                                                                                                                                                                                                                                                                                                                                            |\n",
    "| `\"frozen_orbitals\"`               | `List[int]`                         | No indices.                      | The spatial orbital indices valid for the problem, excluding active orbitals.                                                                                  | A list of frozen orbital indices in the same range as active_orbitals. If specified, then active_orbitals must also be specified. Note that only occupied orbitals should be frozen as the number of active electrons is reduced by 2 for every occupied orbital that is frozen.                                                                                                                                                                                                                                                        |\n",
    "| `\"orbital_coeffs\"`                | `List[List[float]]`                 | Hartree-Fock molecular orbitals. | Various.                                                                                                                                                       | The coefficients for the spatial orbitals used in the calculation of the electronic repulsion integrals for the system. Some valid examples are Hartree-Fock molecular orbitals, natural orbitals, and AVAS orbitals.                                                                                                                                                                                                                                                                                                                   |\n",
    "| `\"symmetry\"`                      | `Union[str, bool]`                  | `False`                          | `True` or `False`                                                                                                                                              | Used to invoke point group symmetry for the initial molecular calculations to construct the symmetry adapted orbital basis. These symmetry-adapted orbitals are used as basis functions for the following SCF calculations. The default value is False; if set to True, then it will be invoked and arbitrary point groups will automatically be detected and used. If a particular symmetry is assigned, for example, symmetry = “Dooh”, then an error will be raised if the molecular geometry is not subject to this required symmetry. |\n",
    "| `\"symmetry_subgroup\"`             | `Optional[str]`                     | `None`                           | See [pyscf documentation](https://pyscf.org/pyscf_api_docs/pyscf.gto.html#pyscf.gto.mole.MoleBase.build).                                                      | Can be used to generate a subgroup of the detected symmetry. This has no effect when symmetry is specified using the symmetry keyword argument.                                                                                                                                                                                                                                                                                                                                                                                         |\n",
    "| `\"unit\"`                          | `str`                               | `\"angstrom\"`                     | See [pyscf documentation](https://pyscf.org/pyscf_api_docs/pyscf.gto.html#pyscf.gto.mole.MoleBase.build).                                                      | Specifies the measurement unit to use for atomic coordinates and distances. The default is to use angstrom units.                                                                                                                                                                                                                                                                                                                                                                                                                       |\n",
    "| `\"nucmod\"`                        | `Optional[Union[dict, str]]`        | `None`                           | See [pyscf documentation](https://pyscf.org/pyscf_api_docs/pyscf.gto.html#pyscf.gto.mole.MoleBase.build).                                                      | Specifies the nuclear model to be used. By default it uses the point nuclear model, and other values enable Gaussian nuclear model. If a function is given, it will be used with the Gaussian nuclear model to generate the nuclear charge distribution value 'zeta'.                                                                                                                                                                                                                                                                   |\n",
    "| `\"pseudo\"`                        | `Optional[Union[dict, str]]`        | `None`                           | See [pyscf documentation](https://pyscf.org/pyscf_api_docs/pyscf.gto.html#pyscf.gto.mole.MoleBase.build).                                                      | Specifies the pseudopotential for the atoms in the molecule. This is None by default, indicating that no pseudopotentials are applied and all electrons are explicitly included in the calculations.                                                                                                                                                                                                                                                                                                                                                |\n",
    "| `\"cart\"`                          | `bool`                              | `False`                          | See [pyscf documentation](https://pyscf.org/pyscf_api_docs/pyscf.gto.html#pyscf.gto.mole.MoleBase.build).                                                      | Specifies whether to use cartesian GTOs as the angular momentum basis functions in the calculation. The default value of False will use spherical GTOs.                                                                                                                                                                                                                                                                                                                                                                               |\n",
    "| `\"magmom\"`                        | `Optional[List[Union[int, float]]]` | `None`                           | See [pyscf documentation](https://pyscf.org/pyscf_api_docs/pyscf.gto.html#pyscf.gto.mole.MoleBase.build).                                                      | Sets the colinear spin magnetic moment of each atom. By default, this is None and each atom is initialized with a spin of zero.                                                                                                                                                                                                                                                                                                                                                                                                         |\n",
    "| `\"avas_aolabels\"`                 | `Optional[List[str]]`               | `None`                           | i.e. [\"H 1s\", \"O 2p\"] for H2O                                                                                                                                                             | This defines Atomic Orbital to be included in AVAS scheme. See [AVAS documentation](https://arxiv.org/abs/1701.07862) .                                                                                                                                                                                                                                                                                                                                                                                                                                                                                                                                         |\n",
    "| `\"avas_threshold\"`                | `float`                             | `0.2`                            |  Between 0.0 and 2.0                                                                                                                                                      |  This specifies the cutoff value used to determine which Atomic Orbitals (AOs) are retained in the active space.                                                                                                                                                                                                                                                                                                                                                                                                                                                                                                                                                      |\n",
    "| `\"noons_level\"`                   | `Optional[str]`                     | `None`                           | `\"mp2\"` or `\"ccsd\"`                                                                                                                                            | This defines the theoretical approach for preparing natural orbitals and selecting active orbitals based on the Natural Orbital Occupation Numbers (NOONs) scheme. See [NOONs documentation](https://doi.org/10.1063/5.0042147). Both the active and frozen orbital indices must be provided to control the number of orbitals (and the number of qubits).                                                                                                                                                                                                                                                                                                                                                                                                                                                                                                                                             |"
   ]
  },
  {
   "cell_type": "markdown",
   "id": "85e5c30a",
   "metadata": {},
   "source": [
    "### HI-VQE options\n",
    "\n",
    "The following table details all keys and values that can be set in the `hivqe_options` dictionary, as well as their data types and default values. All keys are optional.\n",
    "\n",
    "| Key                               | Value type                          | Default Value                    | Valid range                                                                                                                                                    | Explanation                                                                                                                                                                                                                                                                                                                                                                                                                                                                                                                            |\n",
    "|:----------------------------------|:-----------------------------------:|:--------------------------------:|:---------------------------------------------------------------------------------------------------------------------------------------------------------------|:----------------------------------------------------------------------------------------------------------------------------------------------------------------------------------------------------------------------------------------------------------------------------------------------------------------------------------------------------------------------------------------------------------------------------------------------------------------------------------------------------------------------------------------|\n",
    "| `\"shots\"`                         | `int`                               | `1_000`                          | Between 1 and 10 000.                                                                                                                                          | Number of shots to use on the quantum device per iteration.                                                                                                                                                                                                                                                                                                                                                                                                                                                                             |\n",
    "| `\"max_iter\"`                      | `int`                               | `25`                             | Between 1 and 50.                                                                                                                                              | The maximum number of iterations to run to optimize the ansatz. The algorithm may use fewer iterations if convergence is achieved early.                                                                                                                                                                                                                                                                                                                                                                                                 |\n",
    "| `\"initial_basis_states\"`          | `List[str]`                         | The Hartree-Fock state.          | Binary strings with the number of bits matching the required number of qubits for the problem.                                                                 | Can be used to restart the algorithm with classical states from a previous result.                                                                                                                                                                                                                                                                                                                                                                                                                                                      |\n",
    "| `\"ansatz\"`                        | `str`                               | `\"epa\"`                          | `\"epa\"`, `\"hea\"`, or `\"lucj\"`                                                                                                                                  | This specifies the quantum ansatz to optimize to generate new states. `\"epa\"` selects the excitation-preserving ansatz. `\"hea\"` selects the hardware-efficient ansatz. `\"lucj\"` selects the local unitary cluster Jastrow ansatz.                                                                                                                                                                                                                                                                                                       |\n",
    "| `\"convergence_count\"`             | `int`                               | `3`                              | At least 2.                                                                                                                                                    | The number of iterations without significant change of the computed energy that should elapse before the algorithm is deemed to have converged.                                                                                                                                                                                                                                                                                                                                                                                         |\n",
    "| `\"convergence_abstol\"`            | `float`                             | `1e-4`                           | More than 0 and at most 1.                                                                                                                                     | The magnitude of change in computed energy that is considered significant for the purposes of convergence checks.                                                                                                                                                                                                                                                                                                                                                                                                                       |\n",
    "| `\"reset_convergence_count\"`       | `bool`                              | `True`                           | `True` or `False`                                                                                                                                              | If `True`, the `convergence_count` iterations must occur without an interrupting significant change to qualify as converging. If `False`, then the algorithm will stop after `convergence_count` if insignificant changes have occurred at any iterations during the optimization process.                                                                                                                                                                                                                                                 |\n",
    "| `\"configuration_recovery\"`        | `bool`                              | `True`                           | `True` or `False`.                                                                                                                                             | Whether or not to use configuration recovery from the `qiskit-addon-sqd` package. If True, invalid states sampled from the quantum device are corrected classically. If False, they are discarded.                                                                                                                                                                                                                                                                                                                                      |\n",
    "| `\"ansatz_entanglement\"`           | `str`                               | `\"circular\"`                     | Any one of `\"linear\"`, `\"reverse_linear\"`, `\"pairwise\"`, `\"circular\"`, `\"full\"`, or `\"sca\"`. If using the `\"lucj\"` ansatz, `\"lucj_default\"` is also an option. | This specifies the entanglement scheme that should be used within the quantum circuit, following common Qiskit and [ffsim conventions for the LUCJ ansatz](https://qiskit-community.github.io/ffsim/dev/how-to-guides/lucj.html#How-to-simulate-the-local-unitary-cluster-Jastrow-(LUCJ)-ansatz).                                                                                                                                                                                                                                       |\n",
    "| `\"ansatz_reps\"`                   | `int`                               | `2`                              | Greater than 0.                                                                                                                                                | The number of repetitions of each layer in the quantum circuit.                                                                                                                                                                                                                                                                                                                                                                                                                                                                         |\n",
    "| `\"amplitude_screening_tolerance\"` | `Union[float,int]`                  | `0`                              | At least 0, and less than 1.                                                                                                                                   | The tolerance for deciding which states should be screened out of the subspace after diagonalization. It specifies the inclusion threshold for the subspace states based on their computed amplitudes.                                                                                                                                                                                                                                                                                                                                  |\n",
    "| `\"overlap_screening_tolerance\"`   | `float`                             | `1e-2`                           | Between `1e-4` and `1e-1`, inclusive.                                                                                                                          | The tolerance for predicting which states should be screened out of the subspace prior to diagonalization. It controls the accuracy of the predicted amplitudes for each state, with a smaller value resulting in more accurate predictions.                                                                                                                                                                                                                                                                                            |"
   ]
  },
  {
   "cell_type": "markdown",
   "id": "e04f26ba",
   "metadata": {},
   "source": [
    "## Outputs\n",
    "\n",
    "The function returns a dictionary with four keys and values. The keys and values are documented in the following table:\n",
    "\n",
    "| Key             | Value Type    | Explanation                                                                                                               |\n",
    "|:----------------|---------------|---------------------------------------------------------------------------------------------------------------------------|\n",
    "| `\"energy\"`      | `float`       | The approximate ground state energy of the molecule.                                                                      |\n",
    "| `\"states\"`      | `List[str]`   | The selected determinants that form the subspace used to solve for the energy. They are in alternating alpha-beta format. |\n",
    "| `\"eigenvector\"` | `List[float]` | The eigenvector corresponding to the ground state of the subspace composed of `\"states\"`.                                 |\n",
    "| `\"energy_variance\"` | `float` | The energy variance of the ground state of the subspace composed of `\"states\"`, giving an indication of the quality of the solution. This value is non-negative and a lower value means that the ground state of the subspace more closely approximates an eigenstate of the system's Hamiltonian. |\n",
    "| `\"energy_history\"` | `List[float]` | The energies computed each iteration during the hybrid optimization process, in the same order that they were computed. Two energies are computed per iteration as part of the SPSA optimization process. |"
   ]
  },
  {
   "cell_type": "markdown",
   "id": "c3e0cc98",
   "metadata": {},
   "source": [
    "## Example\n",
    "\n",
    "The first example shows how to compute the ground state energy for an NH3 molecule using the HI-VQE algorithm."
   ]
  },
  {
   "cell_type": "markdown",
   "id": "b03aa968",
   "metadata": {},
   "source": [
    "#### Define the molecular geometry and options\n",
    "\n",
    "The molecular geometry of NH3 is provided with Cartesian coordinates separated with \";\" for each atom."
   ]
  },
  {
   "cell_type": "code",
   "execution_count": 3,
   "id": "970dadd1",
   "metadata": {},
   "outputs": [],
   "source": [
    "# Define the molecule geometry\n",
    "geometry = \"\"\"\n",
    "N         -0.85188       -0.02741        0.03141;\n",
    "H          0.16545        0.00593       -0.01648;\n",
    "H         -1.16348       -0.39357       -0.86702;\n",
    "H         -1.16348        0.94228        0.06281;\n",
    "\"\"\""
   ]
  },
  {
   "cell_type": "markdown",
   "id": "64429e13",
   "metadata": {},
   "source": [
    "Additional options can be defined and provided for molecular system in the following dictionary format."
   ]
  },
  {
   "cell_type": "code",
   "execution_count": 4,
   "id": "0f9e9a3c",
   "metadata": {},
   "outputs": [],
   "source": [
    "# Configure some options for the job.\n",
    "molecule_options = {\"basis\": \"sto3g\"}\n",
    "hivqe_options = {\"shots\": 100, \"max_iter\": 20}"
   ]
  },
  {
   "cell_type": "markdown",
   "id": "bf180336",
   "metadata": {},
   "source": [
    "Execute the function with geometry and option inputs."
   ]
  },
  {
   "cell_type": "code",
   "execution_count": 5,
   "id": "fdebf7f0",
   "metadata": {},
   "outputs": [],
   "source": [
    "# Run HI-VQE\n",
    "job = function.run(\n",
    "    geometry=geometry,\n",
    "    # `backend_name` is the name of a backend with at least 16 qubits, for example, \"ibm_marrakesh\".\n",
    "    backend_name=backend_name,\n",
    "    # `instance` is your authenticated instance string, for example, \"ibm-q/open/main\" for the open plan\n",
    "    instance=instance,\n",
    "    max_states=2000,\n",
    "    max_expansion_states=10,\n",
    "    molecule_options=molecule_options,\n",
    "    hivqe_options=hivqe_options,\n",
    ")"
   ]
  },
  {
   "cell_type": "markdown",
   "id": "75e46808-1638-4f14-bfe4-ea3eba2f738b",
   "metadata": {},
   "source": [
    "It is a good idea to print the Function job ID so that it can be provided in support requests if something goes wrong."
   ]
  },
  {
   "cell_type": "code",
   "execution_count": 6,
   "id": "87585ede-2ec4-467a-a269-514f59026602",
   "metadata": {},
   "outputs": [
    {
     "name": "stdout",
     "output_type": "stream",
     "text": [
      "Job ID: 128ee399-7cfc-4be2-91e9-c4abd22b97c7\n"
     ]
    }
   ],
   "source": [
    "print(\"Job ID:\", job.job_id)"
   ]
  },
  {
   "cell_type": "markdown",
   "id": "608cf736",
   "metadata": {},
   "source": [
    "This example then utilizes 16 qubits with 8 orbitals of sto3g basis for an NH3 molecule."
   ]
  },
  {
   "cell_type": "markdown",
   "id": "ad1c9bcb",
   "metadata": {},
   "source": [
    "Check your Qiskit Function workload's [status](/guides/functions#check-job-status) or return [results](/guides/functions#retrieve-results) as follows:"
   ]
  },
  {
   "cell_type": "code",
   "execution_count": 7,
   "id": "b442c581",
   "metadata": {},
   "outputs": [
    {
     "name": "stdout",
     "output_type": "stream",
     "text": [
      "QUEUED\n"
     ]
    }
   ],
   "source": [
    "print(job.status())"
   ]
  },
  {
   "cell_type": "markdown",
   "id": "aef704b8",
   "metadata": {},
   "source": [
    "After the job is completed, the results can be obtained with `result()` instance."
   ]
  },
  {
   "cell_type": "code",
   "execution_count": 8,
   "id": "f447e506",
   "metadata": {},
   "outputs": [
    {
     "name": "stdout",
     "output_type": "stream",
     "text": [
      "{'eigenvector': [0.9824200343205695, 0.009520846167419264, 6.365368845740147e-08, 3.6832123006425615e-07, 0.0012869941182066654, 2.3403891050875465e-05, ...], 'energy': -55.521146537970466, 'energy_history': [-55.52091922342852, -55.52113695367561, -55.521146537970466, -55.52114653864798, -55.521146537970466, -55.521146537970466, ...], 'energy_variance': 9.788555455342562e-12, ...}\n"
     ]
    }
   ],
   "source": [
    "result = job.result()\n",
    "\n",
    "# Output can be long, so we display a shortened representation\n",
    "shortened_result = reprlib.repr(result)\n",
    "print(shortened_result)"
   ]
  },
  {
   "cell_type": "markdown",
   "id": "2b6fb05c",
   "metadata": {},
   "source": [
    "To access the ground state energy, use the \"energy\" key. The \"eigenvector\" key provides the CI coefficients with corresponding bitstring notation of electron configuration stored with \"states\" of the results."
   ]
  },
  {
   "cell_type": "code",
   "execution_count": 10,
   "id": "28cd677c",
   "metadata": {},
   "outputs": [
    {
     "name": "stdout",
     "output_type": "stream",
     "text": [
      "|Exact Energy - HI-VQE Energy|: 0.0014967336596782843 mHa\n",
      "Sampled Number of States: 1936\n"
     ]
    }
   ],
   "source": [
    "fci_energy = -55.521148034704126  # the exact energy using FCI method\n",
    "hivqe_energy = result[\"energy\"]\n",
    "print(\n",
    "    f\"|Exact Energy - HI-VQE Energy|: {abs(fci_energy - hivqe_energy) * 1000} mHa\"\n",
    ")\n",
    "print(f\"Sampled Number of States: {len(result['states'])}\")"
   ]
  },
  {
   "cell_type": "markdown",
   "id": "68f11ef7",
   "metadata": {},
   "source": [
    "Output:\n",
    "\n",
    "|Exact Energy - HI-VQE Energy|: 0.077237504 mHa\n",
    "Sampled Number of States: 1936"
   ]
  },
  {
   "cell_type": "markdown",
   "id": "4af252f6",
   "metadata": {},
   "source": [
    "## Performance\n",
    "\n",
    "This section shows the demonstrated benchmark calculations of HI-VQE with a 24-qubit case for Li2S, a 40-qubit case for an N2 molecule, and a 44-qubit case for an FeP-NO system."
   ]
  },
  {
   "cell_type": "markdown",
   "id": "54d8f446",
   "metadata": {},
   "source": [
    "#### Dissociation potential energy surface curve for an Li2S molecule with 24 qubits\n",
    "\n",
    "The PES curve is shown with the FCI reference and initial guess from RHF, together with the energy error from the FCI reference.\n",
    "\n",
    "![Image showing that HI-VQE produces solutions within chemical accuracy of a classical reference PES curve for the Li2S system.](/images/guides/qunova-chemistry/Li2S_PES.avif)\n",
    "\n",
    "The calculations have been conducted with the following geometries and options."
   ]
  },
  {
   "cell_type": "code",
   "execution_count": 11,
   "id": "294a02cfa0c3",
   "metadata": {
    "tags": [
     "remove-cell"
    ]
   },
   "outputs": [],
   "source": [
    "# This cell is hidden from users\n",
    "backend_name = service.least_busy(operational=True, min_num_qubits=38).name"
   ]
  },
  {
   "cell_type": "code",
   "execution_count": 12,
   "id": "8c998f54",
   "metadata": {},
   "outputs": [],
   "source": [
    "# Define Li2S geometries\n",
    "Li2S_geoms = {\n",
    "    \"Li2S_1.51\": \"S        -1.239044    0.671232   -0.030374;Li       -1.506327    0.432403   -1.498949;Li       -0.899996    0.973348    1.826768;\",\n",
    "    \"Li2S_2.40\": \"S        -1.741432    0.680397    0.346702;Li       -0.529307    0.488006   -1.729343;Li       -1.284307    0.989409    2.177209;\",\n",
    "    \"Li2S_3.80\": \"S        -2.707255    0.674298    0.909161;Li        0.079218    0.552012   -1.671656;Li       -0.927010    0.931502    1.557063;\",\n",
    "}\n",
    "\n",
    "# Configure some options for the job.\n",
    "molecule_options = {\n",
    "    \"basis\": \"sto3g\",\n",
    "}\n",
    "hivqe_options = {\n",
    "    \"shots\": 100,\n",
    "    \"max_iter\": 20,\n",
    "}\n",
    "\n",
    "results = []\n",
    "for geom in [\"Li2S_1.51\", \"Li2S_2.40\", \"Li2S_3.80\"]:\n",
    "    # Run HI-VQE\n",
    "    job = function.run(\n",
    "        geometry=Li2S_geoms[geom],\n",
    "        backend_name=backend_name,  # can use any device with at least 38 qubits\n",
    "        instance=instance,\n",
    "        max_states=2000,\n",
    "        max_expansion_states=10,\n",
    "        molecule_options=molecule_options,\n",
    "        hivqe_options=hivqe_options,\n",
    "    )\n",
    "    results.append(job.result())"
   ]
  },
  {
   "cell_type": "markdown",
   "id": "81129f0f",
   "metadata": {},
   "source": [
    "The red dots represent the HI-VQE calculation results for six different geometries, and three geometries corresponding to 1.51, 2.40, and 3.80 Angstrom are provided as input in the above cell."
   ]
  },
  {
   "cell_type": "markdown",
   "id": "4d8d6cad",
   "metadata": {},
   "source": [
    "#### Dissociation PES curve for an N2 molecule with 40 qubits\n",
    "\n",
    "The nitrogen molecule has been identified as a multireference system with large correlation energy contributions beyond the Hartree-Fock state. We conducted a benchmark calculation for the N2 molecule with cc-pvdz basis, (20o,14e) using the homo-lumo active orbital selection. The complete active space (CAS) number to represent this problem is 6,009,350,400. It is not possible to obtain the eigenvalue problem solution (for energy and electronic structure) with this number of states using a powerful desktop (16cpu/64GB). With HI-VQE, users can efficiently search the subspace of CAS states to find chemically accurate results while saving computation resources significantly. The following plots show the PES curve of 40 qubits HI-VQE calculation of the N2 molecule dissociation.\n",
    "\n",
    "![Image showing that HI-VQE produces solutions within chemical accuracy of a classical reference PES curve for the N2 system.](/images/guides/qunova-chemistry/N2_PES_40qubits.avif)"
   ]
  },
  {
   "cell_type": "markdown",
   "id": "e84bc625",
   "metadata": {},
   "source": [
    "#### Dissociation PES curve for five-coordinated iron(II)-porphyrin with an NO system with 44 qubits\n",
    "\n",
    "Another interesting chemical system is an iron(II)-porphyrin (FeP) complex with a coordinated nitric oxide (NO) ligand, which represents a biologically relevant metalloporphyrin system that plays crucial roles in various physiological processes. In this example, HI-VQE has been utilized to estimate the accurate potential energy surface curve of the intermolecular interaction between FeP and NO (ground state energy for differently separated geometries). The combined system has 450 orbitals and 202 electrons (450o,202e) with 6-31g(d) basis in total. The homo-lumo active orbital selection was utilized to calculate the smaller case from the real case with (22o,22e). From the following benchmark results, we were able to achieve the chemical accuracy (>&nbsp;1.6 mHa) with a state-of-the-art classical computer chemistry calculation of CASCI(DMRG) (22o,22e) reference.\n",
    "\n",
    "![Image showing that HI-VQE produces solutions within chemical accuracy of a classical reference PES curve for the FeP-NO system.](/images/guides/qunova-chemistry/fepno_44qubits.avif)"
   ]
  },
  {
   "cell_type": "markdown",
   "id": "b34fe075",
   "metadata": {},
   "source": [
    "## Benchmarks\n",
    "\n",
    "- Exact matrix size is the number of determinants for exact solution, such as FCI and CASCI.\n",
    "- HI-VQE calculation samples and calculates the subspace of it (as in, HI-VQE matrix size).\n",
    "- Total time includes QPU runtime and Qiskit Function runs with CPU.\n",
    "- Accuracy is estimated from the energy difference from exact solution.\n",
    "\n",
    "|   Chemical system  | Number of qubits | Exact matrix size |  HI-VQE matrix size  | E(diff) from exact (mHa) | Number of iteration | Total time    | QPU runtime usage |\n",
    "| ------------------ | ---------------- | ----------------- | ------------------- | ------------------------ | ------------------- | ------------- | ----------------- |\n",
    "|  $NH_3$ (8o,10e)   |  16              |  3136             |  1936               |  0.08                    |  6                  | 37 s          | 34 s              |\n",
    "|  $Li_2S$ (10o,10e) |  20              |  63504            |  3969               |  0.60                    |  5                  | 250 s         | 50 s              |\n",
    "|  $NH_3$ (15o,10e)  |  30              |  9018009          |  49729              |  0.90                    |  5                  | 354 s         | 54 s              |\n",
    "|  $N_2$ (16o,14e)   |  32              |  130873600        |  1798281            |  1.10                    |  9                  | 6531 s        | 121 s             |\n",
    "|  $3H_2O$ (18o,24e) |  36              |  344622096        |  399424             |  0.90                    |  24                 | 5174 s        | 130 s             |\n",
    "|  $N_2$ (20o,14e)   |  40              |  6009350400       |  9012004            |  1.20                    |  21                 | 46547 s       | 258 s             |"
   ]
  },
  {
   "cell_type": "markdown",
   "id": "04236c83",
   "metadata": {},
   "source": [
    "## Fetch error messages\n",
    "\n",
    "If your workload fails, the status will be `ERROR` and calling `job.result()` will raise an exception:"
   ]
  },
  {
   "cell_type": "code",
   "execution_count": 13,
   "id": "90c6de7c",
   "metadata": {
    "editable": true,
    "slideshow": {
     "slide_type": ""
    },
    "tags": [
     "raises-exception"
    ]
   },
   "outputs": [
    {
     "ename": "QiskitServerlessException",
     "evalue": "{\"message\": \"An unexpected error occurred during job execution. Please make sure that your inputs are valid. If you are still experiencing problems, you can contact the Qunova Computing support service at qiskit.support@qunovacomputing.com and provide the Function job ID of this job for more assistance.\", \"status\": \"failure\"}",
     "output_type": "error",
     "traceback": [
      "\u001b[0;31m---------------------------------------------------------------------------\u001b[0m",
      "\u001b[0;31mQiskitServerlessException\u001b[0m                 Traceback (most recent call last)",
      "Cell \u001b[0;32mIn[13], line 11\u001b[0m\n\u001b[1;32m      1\u001b[0m job \u001b[38;5;241m=\u001b[39m function\u001b[38;5;241m.\u001b[39mrun(\n\u001b[1;32m      2\u001b[0m     geometry\u001b[38;5;241m=\u001b[39m\u001b[38;5;124m\"\u001b[39m\u001b[38;5;124minvalid-geometry\u001b[39m\u001b[38;5;124m\"\u001b[39m,  \u001b[38;5;66;03m# This will cause an error\u001b[39;00m\n\u001b[1;32m      3\u001b[0m     backend_name\u001b[38;5;241m=\u001b[39mbackend_name,\n\u001b[0;32m   (...)\u001b[0m\n\u001b[1;32m      8\u001b[0m     hivqe_options\u001b[38;5;241m=\u001b[39mhivqe_options,\n\u001b[1;32m      9\u001b[0m )\n\u001b[0;32m---> 11\u001b[0m \u001b[43mjob\u001b[49m\u001b[38;5;241;43m.\u001b[39;49m\u001b[43mresult\u001b[49m\u001b[43m(\u001b[49m\u001b[43m)\u001b[49m\n",
      "File \u001b[0;32m~/Documents/documentation/.tox/py311/lib/python3.11/site-packages/qiskit_serverless/core/job.py:191\u001b[0m, in \u001b[0;36mJob.result\u001b[0;34m(self, wait, cadence, verbose, maxwait)\u001b[0m\n\u001b[1;32m    188\u001b[0m results \u001b[38;5;241m=\u001b[39m \u001b[38;5;28mself\u001b[39m\u001b[38;5;241m.\u001b[39m_job_service\u001b[38;5;241m.\u001b[39mresult(\u001b[38;5;28mself\u001b[39m\u001b[38;5;241m.\u001b[39mjob_id)\n\u001b[1;32m    190\u001b[0m \u001b[38;5;28;01mif\u001b[39;00m \u001b[38;5;28mself\u001b[39m\u001b[38;5;241m.\u001b[39mstatus() \u001b[38;5;241m==\u001b[39m \u001b[38;5;124m\"\u001b[39m\u001b[38;5;124mERROR\u001b[39m\u001b[38;5;124m\"\u001b[39m:\n\u001b[0;32m--> 191\u001b[0m     \u001b[38;5;28;01mraise\u001b[39;00m QiskitServerlessException(results)\n\u001b[1;32m    193\u001b[0m \u001b[38;5;28;01mif\u001b[39;00m \u001b[38;5;28misinstance\u001b[39m(results, \u001b[38;5;28mstr\u001b[39m):\n\u001b[1;32m    194\u001b[0m     \u001b[38;5;28;01mtry\u001b[39;00m:\n",
      "\u001b[0;31mQiskitServerlessException\u001b[0m: {\"message\": \"An unexpected error occurred during job execution. Please make sure that your inputs are valid. If you are still experiencing problems, you can contact the Qunova Computing support service at qiskit.support@qunovacomputing.com and provide the Function job ID of this job for more assistance.\", \"status\": \"failure\"}"
     ]
    }
   ],
   "source": [
    "job = function.run(\n",
    "    geometry=\"invalid-geometry\",  # This will cause an error\n",
    "    backend_name=backend_name,\n",
    "    instance=instance,\n",
    "    max_states=2000,\n",
    "    max_expansion_states=15,\n",
    "    molecule_options=molecule_options,\n",
    "    hivqe_options=hivqe_options,\n",
    ")\n",
    "\n",
    "job.result()"
   ]
  },
  {
   "cell_type": "code",
   "execution_count": 14,
   "id": "0b8de82f-3c5a-4024-8e3a-ef8efa83cfb9",
   "metadata": {},
   "outputs": [
    {
     "data": {
      "text/plain": [
       "'ERROR'"
      ]
     },
     "execution_count": 14,
     "metadata": {},
     "output_type": "execute_result"
    }
   ],
   "source": [
    "job.status()"
   ]
  },
  {
   "cell_type": "markdown",
   "id": "e9ec2e67",
   "metadata": {},
   "source": [
    "## Get support\n",
    "\n",
    "You can send an email to [qiskit.support@qunovacomputing.com](mailto:qiskit.support@qunovacomputing.com) for help with this function.\n",
    "\n",
    "If you want help with troubleshooting a specific error, please provide the Function job ID of the job that encountered the error."
   ]
  },
  {
   "cell_type": "markdown",
   "id": "5a6a25c8",
   "metadata": {},
   "source": [
    "## Next steps\n",
    "\n",
    "<Admonition type=\"tip\" title=\"Recommendations\">\n",
    "- Read [the associated research paper](https://arxiv.org/abs/2503.06292).\n",
    "- Request access to the function by filling in [this form](https://forms.office.com/r/zN3hvMTqJ1).\n",
    "- Try the [Compute dissociation PES curve for FeP-NO with HI-VQE](https://learning.quantum.ibm.com/tutorial/qunova-hivqe) tutorial.\n",
    "</Admonition>"
   ]
  }
 ],
 "metadata": {
  "description": "Documentation for Qunova Computing's HI-VQE Qiskit Function. It can be used to solve for the ground state and ground state energy of chemical systems.",
  "kernelspec": {
   "display_name": "Python 3",
   "language": "python",
   "name": "python3"
  },
  "language_info": {
   "codemirror_mode": {
    "name": "ipython",
    "version": 3
   },
   "file_extension": ".py",
   "mimetype": "text/x-python",
   "name": "python",
   "nbconvert_exporter": "python",
   "pygments_lexer": "ipython3",
   "version": "3"
  },
  "title": "HI-VQE Chemistry - A Qiskit Function by Qunova Computing"
 },
 "nbformat": 4,
 "nbformat_minor": 5
}
