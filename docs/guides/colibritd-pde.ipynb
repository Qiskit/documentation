{
 "cells": [
  {
   "cell_type": "markdown",
   "id": "f7d9993f",
   "metadata": {},
   "source": [
    "{/* cspell:ignore CMAES, Hypoelastic, edgecolor, royalblue, rstride, cstride */}"
   ]
  },
  {
   "cell_type": "markdown",
   "id": "2f87f5f0",
   "metadata": {},
   "source": [
    "# QUICK-PDE: A Qiskit Function by ColibriTD\n",
    "\n",
    "<Admonition type=\"note\">\n",
    "  Qiskit Functions are an experimental feature available to IBM Quantum&reg; Premium Plan and Flex Plan users. They are in preview release status and subject to change.\n",
    "</Admonition>"
   ]
  },
  {
   "cell_type": "markdown",
   "id": "3a01cc47",
   "metadata": {
    "tags": [
     "version-info"
    ]
   },
   "source": []
  },
  {
   "cell_type": "markdown",
   "id": "dde95705",
   "metadata": {},
   "source": [
    "## Overview\n",
    "\n",
    "The Partial Differential Equation (PDE) solver presented here is part of our Quantum Innovative Computing Kit (QUICK) platform (QUICK-PDE), and is packaged as a Qiskit Function. With the QUICK-PDE function, you can solve domain-specific partial differential equations on IBM Quantum QPUs. This function is based on the algorithm described in [ColibriTD's H-DES description paper.](https://arxiv.org/abs/2410.01130) This algorithm can solve complex multi-physics problems, starting with Computational Fluid Dynamics (CFD) and Materials Deformation (MD), and other use cases coming soon.\n",
    "\n",
    "To tackle the differential equations, the trial solutions are encoded as linear combinations of orthogonal functions (typically Chebyshev polynomials, and more specifically $2^n$ of them where $n$ is the number of qubits encoding your function), parametrized by the angles of a Variable Quantum Circuit (VQC). The ansatz generates a state encoding the function, which is evaluated by observables whose combinations allow for evaluating the function at all points. You can then evaluate the loss function in which the differential equations are encoded, and fine-tune the angles in a hybrid loop, as shown in the following. The trial solutions get gradually closer to the actual solutions until you reach a satisfactory result.\n",
    "\n",
    "![Workflow of the QUICK-PDE function](/docs/images/guides/colibritd-equation-solver/diagram.svg)\n",
    "\n",
    "In addition to this hybrid loop, you can also chain together different optimizers. This is useful when you want a global optimizer to find a good set of angles, and then a more fine-tuned optimizer to follow a gradient to the best set of neighboring angles. In the case of computational fluid dynamics (CFD), the default optimization sequence produces the best results - but in the case of material deformation (MD), while the default provides good results, you can configure it further for problem-specific benefits.\n",
    "\n",
    "Note for each variable of the function, we specify number of qubits (which you can play with). By stacking 10 identical circuits and evaluating the 10 identical observables on different qubits throughout one big circuit, you can noise-mitigate within the CMA optimization process, relying on the noise learner method, and significantly reduce the number of shots needed."
   ]
  },
  {
   "cell_type": "markdown",
   "id": "e2817b13",
   "metadata": {},
   "source": [
    "## Input/output\n",
    "\n",
    "### Computational Fluid Dynamics\n",
    "\n",
    "The inviscid Burgers' equation, models flowing non-viscous fluids as follows:\n",
    "\n",
    "$$\\frac{\\partial u}{\\partial t} + u\\frac{\\partial u}{\\partial x} = 0,$$\n",
    "\n",
    "$u$ represents the fluid speed field. This use-case has a temporal boundary condition: you can select the initial condition and then allow the system to relax. Currently, the only accepted initial conditions are linear functions: $ax + b$.\n",
    "\n",
    "The arguments for CFD's differential equations are on a fixed grid, as follows:\n",
    "\n",
    "> $t$ is between 0 and 0.95 with 30 sample points. $x$ is between 0 and 0.95 with a step size of 0.2375.\n",
    "\n",
    "### Material Deformation\n",
    "\n",
    "This use case focuses on hypoelastic deformation with the one-dimensional tensile test, in which a bar fixed in space is pulled at its other extremity. We describe the problem as follows:\n",
    "\n",
    "$$u' - \\frac{\\sigma}{3K} - \\frac{2}{\\sqrt{3}}\\epsilon_0\\left(\\frac{\\sigma'}{\\sigma_0\\sqrt{3}}\\right)^n = 0$$\n",
    "\n",
    "$$\\sigma' - b = 0,$$\n",
    "\n",
    "$K$ represents the bulk modulus of the material being stretched, $n$ the exponent of a power law, $b$ the force per unit mass, $\\epsilon_0$ the proportional stress limit, $\\sigma_0$ the proportional strain limit, $u$ the stress function, and $\\sigma$ the strain function.\n",
    "\n",
    "The considered bar is of unitary length. This use-case has a boundary condition for surface stress $t$, or the amount of work needed to stretch the bar.\n",
    "\n",
    "The arguments for MD's differential equations are on a fixed grid, as follows:\n",
    "\n",
    "> $x$ is between 0 and 1 with a step size of 0.04."
   ]
  },
  {
   "cell_type": "markdown",
   "id": "d2fb670d",
   "metadata": {},
   "source": [
    "### Input\n",
    "\n",
    "In order to run the QUICK-PDE Qiskit Function, you can adjust the following parameters:\n",
    "\n",
    "| Name              | Type                                                 | Description                                                                                                                                                                                                                                                                     | Use-case specific | Example                  |\n",
    "| ----------------- | ---------------------------------------------------- | ------------------------------------------------------------------------------------------------------------------------------------------------------------------------------------------------------------------------------------------------------------------------------- | ----------------- | ------------------------ |\n",
    "| use_case          | `Literal[\"MD\", \"CFD\"]`                               | Toggle to select the system of differential equations to solve                                                                                                                                                                                                                  | No                | `\"CFD\"`                  |\n",
    "| parameters        | `dict[str, Any]`                                     | Parameters of the differential equation (see the next table for more detail)                                                                                                                                                                                              | No                | `{\"a\": 1.0, \"b\": 1.0}`   |\n",
    "| nb_qubits         | `Optional[dict[str, dict[str, int]]]`                | Number of qubits per function and per variable. Optimized values are chosen by the function, but if you want to try to find a better combination, you can override the default values                                                                         | No                | `{\"u\": {\"x\": 1, \"t\":3}}` |\n",
    "| depth             | `Optional[dict[str, int]]`                           | Depth of ansatz per function. Optimized values are chosen by the function, but if you want to try to find a better combination, you can override the default values                                                                                           | No                | `{\"u\": 4}`               |\n",
    "| optimizer         | `Optional[list[str]]`                                | Optimizers to be used, either \"CMAES\" from the [`cma` python library](https://github.com/CMA-ES/pycma) or one of the [optimizers of scipy](https://docs.scipy.org/doc/scipy/reference/generated/scipy.optimize.minimize.html)                                                   | MD                | `\"SLSQP\"`                |\n",
    "| shots             | `Optional[list[int]]`                                | Number of shots used to run each circuit. Since several optimization steps are needed, the length of the list must be equal to the number of optimizers used (4 in the case of CFD). Defaults to `[50_000] * nb_optimizers` for MD and `[5_00, 2_000, 5_000, 10_000]` for CFD | No                | `[15_000, 30_000]`       |\n",
    "| optimizer_options | `Optional[dict[str, Any]]`                           | Options to pass to the optimizer. The details of this input depends on the optimizer used; for specifics, refer to the documentation of the optimizer used                                                                                              | MD                | `{\"maxiter\": 50 }`       |\n",
    "| initialization    | `Optional[Literal[\"RANDOM\", \"PHYSICALLY_INFORMED\"]]` | Whether to start with random angles or smartly chosen angles. Beware that smartly chosen angles may not work in 100% of the cases. Defaults to `\"PHYSICALLY_INFORMED\"`.                                                                                                         | No                | `\"RANDOM\"`               |\n",
    "| backend_name      | `Optional[str]`                                      | The backend name to use.                                                                                                                                                                                                              | No                | `\"ibm_torino\"`           |\n",
    "| mode              | `Optional[Literal[\"job\", \"session\", \"batch\"]]`        | The execution mode to use. Defaults to `\"job\"`.                                                                                                                                                                                                                                       | No                | `\"job\"`                  |\n",
    "\n",
    "The parameters of the differential equation (physical parameters and boundary condition) should follow the given format:\n",
    "\n",
    "| Use case | Key         | Value type | Description                              | Example |\n",
    "| -------- | ----------- | ---------- | ---------------------------------------- | ------- |\n",
    "| CFD      | `a`         | `float`    | Coefficient of the initial values of $u$ | `1.0`   |\n",
    "| CFD      | `b`         | `float`    | Offset of the initial values of $u$      | `1.0`   |\n",
    "| MD       | `t`         | `float`    | surface stress                           | `12.0`  |\n",
    "| MD       | `K`         | `float`    | bulk modulus                             | `100.0` |\n",
    "| MD       | `n`         | `int`      | power law                                | `4.0`   |\n",
    "| MD       | `b`         | `float`    | force per unit mass                      | `10.0`  |\n",
    "| MD       | `epsilon_0` | `float`    | proportional stress limit                | `0.1`   |\n",
    "| MD       | `sigma_0`   | `float`    | proportional strain limit                | `5.0`   |"
   ]
  },
  {
   "cell_type": "markdown",
   "id": "43dc063b",
   "metadata": {},
   "source": [
    "### Output\n",
    "\n",
    "The output is a dictionary with the list of sample points, as well as the values of the functions at each of these points:"
   ]
  },
  {
   "cell_type": "code",
   "execution_count": null,
   "id": "dca2a0aa",
   "metadata": {
    "tags": [
     "hidden"
    ]
   },
   "outputs": [],
   "source": [
    "from numpy import array"
   ]
  },
  {
   "cell_type": "code",
   "execution_count": null,
   "id": "d994f253",
   "metadata": {},
   "outputs": [],
   "source": [
    "solution = {\n",
    "    \"functions\": {\n",
    "        \"u\": array(\n",
    "            [\n",
    "                [0.01, 0.1, 1],\n",
    "                [0.02, 0.2, 2],\n",
    "                [0.03, 0.3, 3],\n",
    "                [0.04, 0.4, 4],\n",
    "            ]\n",
    "        ),\n",
    "    },\n",
    "    \"samples\": {\n",
    "        \"t\": array([0.1, 0.2, 0.3, 0.4]),\n",
    "        \"x\": array([0.5, 0.6, 0.7]),\n",
    "    },\n",
    "}"
   ]
  },
  {
   "cell_type": "markdown",
   "id": "b4daa59f",
   "metadata": {},
   "source": [
    "The shape of a solution array depends on the variables' samples:"
   ]
  },
  {
   "cell_type": "code",
   "execution_count": null,
   "id": "0079cb33",
   "metadata": {},
   "outputs": [],
   "source": [
    "assert len(solution[\"functions\"][\"u\"].shape) == len(solution[\"samples\"])\n",
    "for col_size, samples in zip(\n",
    "    solution[\"functions\"][\"u\"].shape, solution[\"samples\"].values()\n",
    "):\n",
    "    assert col_size == len(samples)"
   ]
  },
  {
   "cell_type": "markdown",
   "id": "9d1746db",
   "metadata": {},
   "source": [
    "The mapping between the function variables' sample points and the solution array's dimension is done in alphanumeric order of the variable's name. For example, if the variables are `\"t\"` and `\"x\"`, a row of `solution[\"functions\"][\"u\"]` represents the values of the solution for a fixed `\"t\"`, and a column of `solution[\"functions\"][\"u\"]` represents the values of the solution for a fixed `\"x\"`.\n",
    "\n",
    "The following is an example of how to get the value of the function for a specific set of coordinate:"
   ]
  },
  {
   "cell_type": "code",
   "execution_count": null,
   "id": "e92606aa",
   "metadata": {},
   "outputs": [],
   "source": [
    "# u(t=0.2, x=0.7) == 2\n",
    "assert solution[\"samples\"][\"t\"][1] == 0.2\n",
    "assert solution[\"samples\"][\"x\"][2] == 0.7\n",
    "assert solution[\"functions\"][\"u\"][1, 2] == 2"
   ]
  },
  {
   "cell_type": "markdown",
   "id": "b34fe075",
   "metadata": {},
   "source": [
    "## Benchmarks\n",
    "\n",
    "The following table presents statistics on various runs of our function.\n",
    "\n",
    "| Example                      | Number of qubits | Initialization        | Error     | Total time (min) | Runtime usage (min) |\n",
    "| ---------------------------- | ---------------- | --------------------- | --------- | ---------------- | ------------------- |\n",
    "| Inviscid Burgers' equation   | 50               | `PHYSICALLY_INFORMED` | $10^{-2}$ | 66               | 25                  |\n",
    "| Hypoelastic 1D tensile test  | 18               | `RANDOM`              | $10^{-2}$ | 123              | 100                 |"
   ]
  },
  {
   "cell_type": "markdown",
   "id": "73390a19",
   "metadata": {},
   "source": [
    "## Get started\n",
    "\n",
    "Fill out the [form to request access to the QUICK-PDE function.](https://forms.office.com/e/kJzViZNVa4) Then, authenticate using your [API key](http://quantum.cloud.ibm.com/) and select the function as follows:"
   ]
  },
  {
   "cell_type": "code",
   "execution_count": null,
   "id": "95a715d2",
   "metadata": {},
   "outputs": [],
   "source": [
    "from qiskit_ibm_catalog import QiskitFunctionsCatalog\n",
    "\n",
    "catalog = QiskitFunctionsCatalog(\n",
    "    channel=\"ibm_cloud / ibm_quantum / ibm_quantum_platform\",\n",
    "    instance=\"USER_CRN / HGP\",\n",
    "    token=\"USER_API_KEY / IQP_API_TOKEN\",\n",
    ")\n",
    "\n",
    "quick = catalog.load(\"colibritd/quick-pde\")"
   ]
  },
  {
   "cell_type": "markdown",
   "id": "e8837f5f",
   "metadata": {},
   "source": [
    "## Examples\n",
    "\n",
    "To get started, try one of the following examples:"
   ]
  },
  {
   "cell_type": "markdown",
   "id": "446ac943",
   "metadata": {},
   "source": [
    "### Computational Fluid Dynamics (CFD)\n",
    "\n",
    "When initial conditions are set to $u(0,x) = x$, the results are as follows:"
   ]
  },
  {
   "cell_type": "code",
   "execution_count": null,
   "id": "d56e1440",
   "metadata": {},
   "outputs": [],
   "source": [
    "# launch the simulation with initial conditions u(0,x) = a*x + b\n",
    "job = quick.run(use_case=\"cfd\", physical_parameters={\"a\": 1.0, \"b\": 0.0})"
   ]
  },
  {
   "cell_type": "markdown",
   "id": "03998691",
   "metadata": {},
   "source": [
    "Check your Qiskit Function workload's [status](/docs/guides/functions#check-job-status) or return [results](/docs/guides/functions#retrieve-results) as follows:"
   ]
  },
  {
   "cell_type": "code",
   "execution_count": null,
   "id": "856fe992",
   "metadata": {},
   "outputs": [
    {
     "data": {
      "text/plain": [
       "'QUEUED'"
      ]
     },
     "execution_count": 4,
     "metadata": {},
     "output_type": "execute_result"
    }
   ],
   "source": [
    "print(job.status())\n",
    "solution = job.result()"
   ]
  },
  {
   "cell_type": "code",
   "execution_count": null,
   "id": "c42aba9b",
   "metadata": {},
   "outputs": [
    {
     "data": {
      "text/plain": [
       "<Image src=\"/docs/images/guides/colibritd-pde/extracted-outputs/c42aba9b-0.avif\" alt=\"Output of the previous code cell\" />"
      ]
     },
     "metadata": {},
     "output_type": "display_data"
    }
   ],
   "source": [
    "import numpy as np\n",
    "import matplotlib.pyplot as plt\n",
    "\n",
    "_ = plt.figure()\n",
    "ax = plt.axes(projection=\"3d\")\n",
    "\n",
    "# plot the solution using the 3d plotting capabilities of pyplot\n",
    "t, x = np.meshgrid(solution[\"samples\"][\"t\"], solution[\"samples\"][\"x\"])\n",
    "ax.plot_surface(\n",
    "    t,\n",
    "    x,\n",
    "    solution[\"functions\"][\"u\"],\n",
    "    edgecolor=\"royalblue\",\n",
    "    lw=0.25,\n",
    "    rstride=26,\n",
    "    cstride=26,\n",
    "    alpha=0.3,\n",
    ")\n",
    "ax.scatter(t, x, solution[\"functions\"][\"u\"], marker=\".\")\n",
    "ax.set(xlabel=\"t\", ylabel=\"x\", zlabel=\"u(t,x)\")\n",
    "\n",
    "plt.show()"
   ]
  },
  {
   "cell_type": "markdown",
   "id": "dbbd4509",
   "metadata": {},
   "source": [
    "### Material Deformation\n",
    "\n",
    "The material deformation use case requires the physical parameters of your material and the applied force, as follows:"
   ]
  },
  {
   "cell_type": "code",
   "execution_count": null,
   "id": "a568e325",
   "metadata": {},
   "outputs": [
    {
     "data": {
      "text/plain": [
       "<Image src=\"/docs/images/guides/colibritd-pde/extracted-outputs/a568e325-0.avif\" alt=\"Output of the previous code cell\" />"
      ]
     },
     "metadata": {},
     "output_type": "display_data"
    }
   ],
   "source": [
    "import matplotlib.pyplot as plt\n",
    "\n",
    "# select the properties of your material\n",
    "job = quick.run(\n",
    "    use_case=\"md\",\n",
    "    physical_parameters={\n",
    "        \"t\": 12.0,\n",
    "        \"K\": 100.0,\n",
    "        \"n\": 4.0,\n",
    "        \"b\": 10.0,\n",
    "        \"epsilon_0\": 0.1,\n",
    "        \"sigma_0\": 5.0,\n",
    "    },\n",
    ")\n",
    "\n",
    "# plot the result\n",
    "solution = job.result()\n",
    "\n",
    "_ = plt.figure()\n",
    "stress_plot = plt.subplot(211)\n",
    "plt.plot(solution[\"samples\"][\"x\"], solution[\"functions\"][\"u\"])\n",
    "strain_plot = plt.subplot(212)\n",
    "plt.plot(solution[\"samples\"][\"x\"], solution[\"functions\"][\"sigma\"])\n",
    "\n",
    "plt.show()"
   ]
  },
  {
   "cell_type": "markdown",
   "id": "04236c83",
   "metadata": {},
   "source": [
    "## Fetch error messages\n",
    "\n",
    "If your workload status is `ERROR`, use `job.error_message()` to fetch the error message to help debug, as follows:"
   ]
  },
  {
   "cell_type": "code",
   "execution_count": null,
   "id": "90c6de7c",
   "metadata": {},
   "outputs": [
    {
     "name": "stdout",
     "output_type": "stream",
     "text": [
      "{\"error\": [\"qiskit.exceptions.QiskitError: 'Unknown argument \\\"physical_params\\\", did you make a typo? -- https://docs.quantum.ibm.com/errors#1804'\\n\"]}\n",
      "___\n",
      "qiskit.exceptions.QiskitError: 'Unknown argument \"physical_params\", did you make a typo? -- https://docs.quantum.ibm.com/errors#1804'\n",
      "\n"
     ]
    }
   ],
   "source": [
    "job = quick.run(use_case=\"mdf\", physical_params={})\n",
    "\n",
    "print(job.error_message())\n",
    "\n",
    "\n",
    "# or write a wrapper around it for a more human readable version\n",
    "def pprint_error(job):\n",
    "    print(\"\".join(eval(job.error_message())[\"error\"]))\n",
    "\n",
    "\n",
    "print(\"___\")\n",
    "pprint_error(job)"
   ]
  },
  {
   "cell_type": "markdown",
   "id": "e9ec2e67",
   "metadata": {},
   "source": [
    "## Get support\n",
    "\n",
    "For support, contact qiskit-function-support@colibtitd.com."
   ]
  },
  {
   "cell_type": "markdown",
   "id": "5a6a25c8",
   "metadata": {},
   "source": [
    "## Next steps\n",
    "\n",
    "<Admonition type=\"tip\" title=\"Recommendations\">\n",
    "- Fill out the form to [request access to the QUICK-PDE function.](https://forms.office.com/e/kJzViZNVa4)\n",
    "- Try modeling a flowing non-viscous fluid using QUICK-PDE in the [tutorial](/docs/tutorials/colibritd-pde).\n",
    "</Admonition>"
   ]
  }
 ],
 "metadata": {
  "description": "The QUICK-PDE function solves domain-specific partial differential equations using ColibriTD's H-DES algorithm, which can solve complex multi-physics problems.",
  "kernelspec": {
   "display_name": "Python 3",
   "language": "python",
   "name": "python3"
  },
  "language_info": {
   "codemirror_mode": {
    "name": "ipython",
    "version": 3
   },
   "file_extension": ".py",
   "mimetype": "text/x-python",
   "name": "python",
   "nbconvert_exporter": "python",
   "pygments_lexer": "ipython3",
   "version": "3"
  },
  "title": "QUICK-PDE - A Qiskit Function by ColibriTD"
 },
 "nbformat": 4,
 "nbformat_minor": 5
}
