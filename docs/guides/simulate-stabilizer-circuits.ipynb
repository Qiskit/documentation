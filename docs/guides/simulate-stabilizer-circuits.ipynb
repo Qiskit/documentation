{
 "cells": [
  {
   "cell_type": "markdown",
   "id": "e6d26387-f218-4f62-80c4-792103129b99",
   "metadata": {},
   "source": [
    "# Efficient simulation of stabilizer circuits with Qiskit Aer primitives"
   ]
  },
  {
   "cell_type": "markdown",
   "id": "f1bcbbdb-965d-41f0-88dd-bb42834b35b9",
   "metadata": {
    "tags": [
     "version-info"
    ]
   },
   "source": [
    "<details>\n",
    "<summary><b>Package versions</b></summary>\n",
    "\n",
    "The code on this page was developed using the following requirements.\n",
    "We recommend using these versions or newer.\n",
    "\n",
    "```\n",
    "qiskit[all]~=2.0.0\n",
    "qiskit-aer~=0.17\n",
    "```\n",
    "</details>"
   ]
  },
  {
   "cell_type": "markdown",
   "id": "386709ed-183b-4759-bb1b-56cdedf80539",
   "metadata": {},
   "source": [
    "This page shows how to use Qiskit Aer primitives to efficiently simulate stabilizer circuits, including those subject to Pauli noise.\n",
    "\n",
    "Stabilizer circuits, also known as Clifford circuits, are an important restricted class of quantum circuits that can be efficiently simulated classically. There are several equivalent ways to define stabilizer circuits. One definition is that a stabilizer circuit is a quantum circuit that consists solely of the following gates:\n",
    "\n",
    "- [CX](../api/qiskit/qiskit.circuit.library.CXGate)\n",
    "- [Hadamard](../api/qiskit/qiskit.circuit.library.HGate)\n",
    "- [S](../api/qiskit/qiskit.circuit.library.SGate)\n",
    "- [Measurement](../api/qiskit/circuit#qiskit.circuit.Measure)\n",
    "\n",
    "Note that using Hadamard and S, we can construct any Pauli rotation gate ([$R_x$](/docs/api/qiskit/qiskit.circuit.library.RXGate), [$R_y$](/docs/api/qiskit/qiskit.circuit.library.RYGate), and [$R_z$](/docs/api/qiskit/qiskit.circuit.library.RZGate)) that has an angle contained in the set $\\{0, \\frac{\\pi}{2}, \\pi, \\frac{3\\pi}{2}\\}$ (up to global phase), so we can include these gates in the definition as well.\n",
    "\n",
    "Stabilizer circuits are important to the study of quantum error correction. Their classical simulability also makes them useful for verifying the output of quantum computers. For example, suppose you want to execute a quantum circuit that uses 100 qubits on a quantum computer. How do you know that the quantum computer is behaving correctly? A quantum circuit on 100 qubits is beyond the reach of brute-force classical simulation. By modifying your circuit so that it becomes a stabilizer circuit, you can run circuits on the quantum computer that have a similar structure to your desired circuit, but which you can simulate on a classical computer. By checking the output of the quantum computer on the stabilizer circuits, you can gain confidence that it is behaving correctly on the non-stabilizer circuits as well. See [*Evidence for the utility of quantum computing before fault tolerance*](https://www.nature.com/articles/s41586-023-06096-3) for an example of this idea in practice.\n",
    "\n",
    "\n",
    "[Exact and noisy simulation with Qiskit Aer primitives](simulate-with-qiskit-aer) shows how to use [Qiskit Aer](https://qiskit.org/ecosystem/aer/) to perform exact and noisy simulations of generic quantum circuits. Consider the example circuit used in that article, an 8-qubit circuit built using [efficient_su2](../api/qiskit/qiskit.circuit.library.efficient_su2):"
   ]
  },
  {
   "cell_type": "code",
   "execution_count": 1,
   "id": "2d26ac3e-2a6a-4d73-900f-470200a63154",
   "metadata": {},
   "outputs": [
    {
     "data": {
      "text/plain": [
       "<Image src=\"/docs/images/guides/simulate-stabilizer-circuits/extracted-outputs/2d26ac3e-2a6a-4d73-900f-470200a63154-0.svg\" alt=\"Output of the previous code cell\" />"
      ]
     },
     "execution_count": 1,
     "metadata": {},
     "output_type": "execute_result"
    }
   ],
   "source": [
    "from qiskit.circuit.library import efficient_su2\n",
    "\n",
    "n_qubits = 8\n",
    "circuit = efficient_su2(n_qubits)\n",
    "circuit.draw(\"mpl\")"
   ]
  },
  {
   "cell_type": "markdown",
   "id": "9f72e683-a828-456d-a5d4-910758cc9add",
   "metadata": {},
   "source": [
    "Using Qiskit Aer, we were able to simulate this circuit easily. However, suppose we set the number of qubits to 500:"
   ]
  },
  {
   "cell_type": "code",
   "execution_count": 2,
   "id": "43c8277f-3f0d-4d31-a1c2-e4c541083f5d",
   "metadata": {},
   "outputs": [],
   "source": [
    "n_qubits = 500\n",
    "circuit = efficient_su2(n_qubits)\n",
    "# don't try to draw the circuit because it's too large"
   ]
  },
  {
   "cell_type": "markdown",
   "id": "ecd975b0-2ec0-4a99-a0f6-790d43af19fb",
   "metadata": {},
   "source": [
    "Because the cost of simulating quantum circuits scales exponentially with the number of qubits, such a large circuit would generally exceed the capabilities of even a high-performance simulator like Qiskit Aer. Classical simulation of generic quantum circuits becomes infeasible when the number of qubits exceeds roughly 50 to 100 qubits. However, note that the efficient_su2 circuit is parameterized by angles on $R_y$ and $R_z$ gates. If all of these angles are contained in the set $\\{0, \\frac{\\pi}{2}, \\pi, \\frac{3\\pi}{2}\\}$, then the circuit is a stabilizer circuit, and it can be efficiently simulated!\n",
    "\n",
    "In the following cell, we run the circuit with the Sampler primitive backed by the stabilizer circuit simulator, using parameters chosen randomly such that the circuit is guaranteed to be a stabilizer circuit."
   ]
  },
  {
   "cell_type": "code",
   "execution_count": 3,
   "id": "2210bbe3-1a89-48fe-a4ea-f3c9b1cd37d0",
   "metadata": {},
   "outputs": [],
   "source": [
    "import numpy as np\n",
    "from qiskit.transpiler import generate_preset_pass_manager\n",
    "from qiskit_aer import AerSimulator\n",
    "from qiskit_aer.primitives import SamplerV2 as Sampler\n",
    "\n",
    "measured_circuit = circuit.copy()\n",
    "measured_circuit.measure_all()\n",
    "\n",
    "rng = np.random.default_rng(1234)\n",
    "params = rng.choice(\n",
    "    [0, np.pi / 2, np.pi, 3 * np.pi / 2],\n",
    "    size=circuit.num_parameters,\n",
    ")\n",
    "\n",
    "# Initialize a Sampler backed by the stabilizer circuit simulator\n",
    "exact_sampler = Sampler(\n",
    "    options=dict(backend_options=dict(method=\"stabilizer\"))\n",
    ")\n",
    "# The circuit needs to be transpiled to the AerSimulator target\n",
    "pass_manager = generate_preset_pass_manager(\n",
    "    1, AerSimulator(method=\"stabilizer\")\n",
    ")\n",
    "isa_circuit = pass_manager.run(measured_circuit)\n",
    "pub = (isa_circuit, params)\n",
    "job = exact_sampler.run([pub])\n",
    "result = job.result()\n",
    "pub_result = result[0]\n",
    "counts = pub_result.data.meas.get_counts()"
   ]
  },
  {
   "cell_type": "markdown",
   "id": "445694b0-3e5b-4fc2-a610-f86674065045",
   "metadata": {},
   "source": [
    "The stabilizer circuit simulator also supports noisy simulation, but only for a restricted class of noise models. Specifically, any quantum noise must be characterized by a [Pauli error](https://qiskit.org/ecosystem/aer/stubs/qiskit_aer.noise.pauli_error.html#qiskit_aer.noise.pauli_error) channel. [Depolarizing error](https://qiskit.org/ecosystem/aer/stubs/qiskit_aer.noise.depolarizing_error.html) falls into this category, so it can be simulated too. Classical noise channels like [readout error](https://qiskit.org/ecosystem/aer/stubs/qiskit_aer.noise.ReadoutError.html) can also be simulated.\n",
    "\n",
    "The following code cell runs the same simulation as before, but this time specifying a noise model that adds depolarizing error of 2% to each CX gate, as well as readout error that flips each measured bit with 5% probability."
   ]
  },
  {
   "cell_type": "code",
   "execution_count": 4,
   "id": "71dd8d78-6efd-4c4e-900a-1d73deafe46e",
   "metadata": {},
   "outputs": [],
   "source": [
    "from qiskit_aer.noise import NoiseModel, depolarizing_error, ReadoutError\n",
    "\n",
    "noise_model = NoiseModel()\n",
    "cx_depolarizing_prob = 0.02\n",
    "bit_flip_prob = 0.05\n",
    "noise_model.add_all_qubit_quantum_error(\n",
    "    depolarizing_error(cx_depolarizing_prob, 2), [\"cx\"]\n",
    ")\n",
    "noise_model.add_all_qubit_readout_error(\n",
    "    ReadoutError(\n",
    "        [\n",
    "            [1 - bit_flip_prob, bit_flip_prob],\n",
    "            [bit_flip_prob, 1 - bit_flip_prob],\n",
    "        ]\n",
    "    )\n",
    ")\n",
    "\n",
    "noisy_sampler = Sampler(\n",
    "    options=dict(\n",
    "        backend_options=dict(method=\"stabilizer\", noise_model=noise_model)\n",
    "    )\n",
    ")\n",
    "job = noisy_sampler.run([pub])\n",
    "result = job.result()\n",
    "pub_result = result[0]\n",
    "counts = pub_result.data.meas.get_counts()"
   ]
  },
  {
   "cell_type": "markdown",
   "id": "01b3e796-bd06-419f-a2fc-55c8603f662f",
   "metadata": {},
   "source": [
    "Now, let's use the Estimator primitive backed by the stabilizer simulator to compute the expectation value of the observable $ZZ \\cdots Z$. Due to the special structure of stabilizer circuits, the result is very likely to be 0."
   ]
  },
  {
   "cell_type": "code",
   "execution_count": 5,
   "id": "57fb0674-5bd2-44b0-a28e-e73deff455cf",
   "metadata": {},
   "outputs": [
    {
     "data": {
      "text/plain": [
       "0.0"
      ]
     },
     "execution_count": 5,
     "metadata": {},
     "output_type": "execute_result"
    }
   ],
   "source": [
    "from qiskit.quantum_info import SparsePauliOp\n",
    "from qiskit_aer.primitives import EstimatorV2 as Estimator\n",
    "\n",
    "observable = SparsePauliOp(\"Z\" * n_qubits)\n",
    "\n",
    "exact_estimator = Estimator(\n",
    "    options=dict(backend_options=dict(method=\"stabilizer\")),\n",
    ")\n",
    "isa_circuit = pass_manager.run(circuit)\n",
    "pub = (isa_circuit, observable, params)\n",
    "job = exact_estimator.run([pub])\n",
    "result = job.result()\n",
    "pub_result = result[0]\n",
    "exact_value = float(pub_result.data.evs)\n",
    "exact_value"
   ]
  },
  {
   "cell_type": "markdown",
   "id": "9d5e6593-06f0-4e1b-a4f0-7b640a74f6c5",
   "metadata": {},
   "source": [
    "## Next steps\n",
    "\n",
    "<Admonition type=\"tip\" title=\"Recommendations\">\n",
    "  - To simulate circuits with Qiskit Aer, see [Exact and noisy simulation with Qiskit Aer primitives](./simulate-with-qiskit-sdk-primitives).\n",
    "  - Review the [Qiskit Aer](https://qiskit.org/ecosystem/aer/) documentation.\n",
    "</Admonition>"
   ]
  }
 ],
 "metadata": {
  "description": "How to efficiently simulate stabilizer circuits using Qiskit Aer primitives.",
  "kernelspec": {
   "display_name": "Python 3",
   "language": "python",
   "name": "python3"
  },
  "language_info": {
   "codemirror_mode": {
    "name": "ipython",
    "version": 3
   },
   "file_extension": ".py",
   "mimetype": "text/x-python",
   "name": "python",
   "nbconvert_exporter": "python",
   "pygments_lexer": "ipython3",
   "version": "3"
  },
  "title": "Efficient simulation of stabilizer circuits with Qiskit Aer primitives"
 },
 "nbformat": 4,
 "nbformat_minor": 4
}
