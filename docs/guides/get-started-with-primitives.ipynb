{
 "cells": [
  {
   "cell_type": "markdown",
   "id": "8a3313d3-c8f5-494d-9fc1-4159796d4335",
   "metadata": {},
   "source": [
    "# Get started with primitives\n",
    "\n",
    "<LegacyContent>\n",
    "<Admonition type=\"note\">\n",
    "* This documentation is relevant to IBM Quantum&reg; Platform Classic. If you need the newer version, go to the new [IBM Quantum Platform documentation.](https://quantum.cloud.ibm.com/docs/guides/get-started-with-primitives)\n",
    " * While this documentation uses the primitives from Qiskit Runtime, which allow you to use IBM&reg; backends, the primitives can be run on any provider by using the [backend primitives](#backend) instead.  Additionally, you can use the *reference* primitives to run on a local statevector simulator.  See [Exact simulation with Qiskit primitives](/guides/simulate-with-qiskit-sdk-primitives) for details.\n",
    "</Admonition>\n",
    "</LegacyContent>\n",
    "<CloudContent>\n",
    "<Admonition type=\"note\">\n",
    "* This documentation is relevant to the new IBM Quantum&reg; Platform. If you need the previous version, return to the [IBM Quantum Platform Classic documentation.](https://docs.quantum.ibm.com/guides/get-started-with-primitives)\n",
    "* While this documentation uses the primitives from Qiskit Runtime, which allow you to use IBM&reg; backends, the primitives can be run on any provider by using the [backend primitives](#backend) instead.  Additionally, you can use the *reference* primitives to run on a local statevector simulator.  See [Exact simulation with Qiskit primitives](/guides/simulate-with-qiskit-sdk-primitives) for details.\n",
    "</Admonition>\n",
    "</CloudContent>\n",
    "\n",
    "The steps in this topic describe how to set up primitives, explore the options you can use to configure them, and invoke them in a program.\n",
    "\n",
    "<Admonition type=\"note\" title=\"Using Fractional Gates\">\n",
    "    To use the newly supported [fractional gates](./fractional-gates), set `use_fractional_gates=True` when requesting a backend from a `QiskitRuntimeService` instance. For example:\n",
    "    ```python\n",
    "    service = QiskitRuntimeService()\n",
    "    fractional_gate_backend = service.least_busy(use_fractional_gates=True)\n",
    "    ```\n",
    "\n",
    "    Note that this is an experimental feature and might change in the future.\n",
    "</Admonition>"
   ]
  },
  {
   "cell_type": "markdown",
   "id": "df6e2c9a-daa8-4d40-85cf-3afdffd597b1",
   "metadata": {},
   "source": [
    "<span id=\"start-estimator\"></span>\n",
    "## Get started with Estimator\n",
    "\n",
    "{/*Verified the v2 examples 2/29/24 - updated 10/29/24*/}\n",
    "\n",
    "### 1. Initialize the account\n",
    "\n",
    "Because Qiskit Runtime Estimator is a managed service, you first need to initialize your account. You can then select the QPU you want to use to calculate the expectation value.\n",
    "\n",
    "Follow the steps in the [Install and set up topic](install-qiskit) if you don't already have an account."
   ]
  },
  {
   "cell_type": "code",
   "execution_count": null,
   "id": "dbd3ecf7-8d27-444c-a74c-e83da6cd2718",
   "metadata": {},
   "outputs": [],
   "source": [
    "from qiskit_ibm_runtime import QiskitRuntimeService\n",
    "\n",
    "service = QiskitRuntimeService()\n",
    "backend = service.least_busy(\n",
    "    operational=True, simulator=False, min_num_qubits=127\n",
    ")\n",
    "\n",
    "print(backend.name)"
   ]
  },
  {
   "cell_type": "markdown",
   "id": "d645615e-bf76-48c6-a3f2-e1327330c4cb",
   "metadata": {},
   "source": [
    "### 2. Create a circuit and an observable\n",
    "\n",
    "You need at least one circuit and one observable as inputs to the Estimator primitive."
   ]
  },
  {
   "cell_type": "code",
   "execution_count": null,
   "id": "4e36a987-6737-409e-bafa-c6ba4b10119a",
   "metadata": {},
   "outputs": [],
   "source": [
    "from qiskit.circuit.library import QAOAAnsatz\n",
    "from qiskit.quantum_info import SparsePauliOp\n",
    "\n",
    "entanglement = [tuple(edge) for edge in backend.coupling_map.get_edges()]\n",
    "observable = SparsePauliOp.from_sparse_list(\n",
    "    [(\"ZZ\", [i, j], 0.5) for i, j in entanglement],\n",
    "    num_qubits=backend.num_qubits,\n",
    ")\n",
    "circuit = QAOAAnsatz(observable, reps=2)\n",
    "# the circuit is parametrized, so we will define the parameter values for execution\n",
    "param_values = [0.1, 0.2, 0.3, 0.4]\n",
    "\n",
    "print(f\">>> Observable: {observable.paulis}\")"
   ]
  },
  {
   "cell_type": "markdown",
   "id": "52f932e6-9774-4847-a7c2-51d5eba5e8b9",
   "metadata": {},
   "source": [
    "The circuit and observable need to be transformed to only use instructions supported by the QPU (referred to as *instruction set architecture (ISA)* circuits). We'll use the transpiler to do this."
   ]
  },
  {
   "cell_type": "code",
   "execution_count": null,
   "id": "dc9e53b9-ee88-4e8e-a562-3d18ad1fdddc",
   "metadata": {},
   "outputs": [],
   "source": [
    "from qiskit.transpiler import generate_preset_pass_manager\n",
    "\n",
    "pm = generate_preset_pass_manager(optimization_level=1, backend=backend)\n",
    "isa_circuit = pm.run(circuit)\n",
    "isa_observable = observable.apply_layout(isa_circuit.layout)\n",
    "print(f\">>> Circuit ops (ISA): {isa_circuit.count_ops()}\")"
   ]
  },
  {
   "cell_type": "markdown",
   "id": "99090992-bc33-4f4c-9b7e-f24e430dda7c",
   "metadata": {},
   "source": [
    "### 3. Initialize Qiskit Runtime Estimator\n",
    "\n",
    "When you initialize the Estimator, use the `mode` parameter to specify the mode you want it to run in.  Possible values are `batch`, `session`, or `backend` objects for batch, session, and job execution mode, respectively. For more information, see [Introduction to Qiskit Runtime execution modes.](execution-modes)"
   ]
  },
  {
   "cell_type": "code",
   "execution_count": null,
   "id": "fb2a2241-b2ce-4635-ae64-450f87aba66f",
   "metadata": {},
   "outputs": [],
   "source": [
    "from qiskit_ibm_runtime import EstimatorV2 as Estimator\n",
    "\n",
    "estimator = Estimator(mode=backend)"
   ]
  },
  {
   "cell_type": "markdown",
   "id": "84be9ea0-ff02-4c93-84e6-f135ab5d01d0",
   "metadata": {},
   "source": [
    "### 4. Invoke the Estimator and get results\n",
    "\n",
    "Next, invoke the `run()` method to calculate expectation values for the input circuits and observables. The circuit, observable, and optional parameter value sets are input as *primitive unified bloc* (PUB) tuples."
   ]
  },
  {
   "cell_type": "code",
   "execution_count": null,
   "id": "cd4aec24-2b30-40cb-9e19-558c96204b9b",
   "metadata": {},
   "outputs": [],
   "source": [
    "job = estimator.run([(isa_circuit, isa_observable, param_values)])\n",
    "print(f\">>> Job ID: {job.job_id()}\")\n",
    "print(f\">>> Job Status: {job.status()}\")"
   ]
  },
  {
   "cell_type": "code",
   "execution_count": null,
   "id": "87eb1b90-13d2-4a08-a825-b1650ef60572",
   "metadata": {},
   "outputs": [],
   "source": [
    "result = job.result()\n",
    "print(f\">>> {result}\")\n",
    "print(f\"  > Expectation value: {result[0].data.evs}\")\n",
    "print(f\"  > Metadata: {result[0].metadata}\")"
   ]
  },
  {
   "cell_type": "markdown",
   "id": "145ed101-4a62-4d9c-8fdc-f81e60395ccb",
   "metadata": {},
   "source": [
    "<span id=\"start-sampler\"></span>\n",
    "## Get started with Sampler\n",
    "\n",
    "### 1. Initialize the account\n",
    "\n",
    "Because Qiskit Runtime Sampler is a managed service, you first need to initialize your account. You can then select the QPU you want to use to calculate the expectation value.\n",
    "\n",
    "Follow the steps in the [Install and set up topic](install-qiskit) if you don't already have an account set up."
   ]
  },
  {
   "cell_type": "code",
   "execution_count": null,
   "id": "b787ef29-3d08-46c6-8e10-4906202e8964",
   "metadata": {},
   "outputs": [],
   "source": [
    "from qiskit_ibm_runtime import QiskitRuntimeService\n",
    "\n",
    "service = QiskitRuntimeService()\n",
    "backend = service.least_busy(\n",
    "    operational=True, simulator=False, min_num_qubits=127\n",
    ")"
   ]
  },
  {
   "cell_type": "markdown",
   "id": "f12847fa-43eb-4a83-8711-0b4b737b76ae",
   "metadata": {},
   "source": [
    "### 2. Create a circuit\n",
    "\n",
    "You need at least one circuit as the input to the Sampler primitive."
   ]
  },
  {
   "cell_type": "code",
   "execution_count": null,
   "id": "08561f08-9767-4611-9d29-fae2911dc6fa",
   "metadata": {},
   "outputs": [],
   "source": [
    "import numpy as np\n",
    "from qiskit.circuit.library import EfficientSU2\n",
    "\n",
    "circuit = EfficientSU2(127, entanglement=\"linear\", flatten=True)\n",
    "circuit.measure_all()\n",
    "# The circuit is parametrized, so we will define the parameter values for execution\n",
    "param_values = np.random.rand(circuit.num_parameters)"
   ]
  },
  {
   "cell_type": "markdown",
   "id": "eaf9bb06-f53c-4482-8c52-523fe9f2ff88",
   "metadata": {},
   "source": [
    "Use the transpiler to get an ISA circuit."
   ]
  },
  {
   "cell_type": "code",
   "execution_count": null,
   "id": "88512fb3-bb55-46a0-b954-a5da67277d3f",
   "metadata": {},
   "outputs": [],
   "source": [
    "from qiskit.transpiler import generate_preset_pass_manager\n",
    "\n",
    "pm = generate_preset_pass_manager(optimization_level=1, backend=backend)\n",
    "isa_circuit = pm.run(circuit)\n",
    "print(f\">>> Circuit ops (ISA): {isa_circuit.count_ops()}\")"
   ]
  },
  {
   "cell_type": "markdown",
   "id": "de82cee0-ddb0-4b09-a407-fe76e7fb1534",
   "metadata": {},
   "source": [
    "### 3. Initialize the Qiskit Runtime Sampler\n",
    "\n",
    "When you initialize the Sampler, use the `mode` parameter to specify the mode you want it to run in.  Possible values are `batch`, `session`, or `backend` objects for batch, session, and job execution mode, respectively. For more information, see [Introduction to Qiskit Runtime execution modes.](execution-modes) <CloudContent>Note that Open Plan users cannot submit session jobs.</CloudContent>"
   ]
  },
  {
   "cell_type": "code",
   "execution_count": null,
   "id": "5c25ef75-2436-40de-a1e8-54170199f91a",
   "metadata": {},
   "outputs": [],
   "source": [
    "from qiskit_ibm_runtime import SamplerV2 as Sampler\n",
    "\n",
    "sampler = Sampler(mode=backend)"
   ]
  },
  {
   "cell_type": "markdown",
   "id": "6c17e68f-9566-4770-9049-2f89bb7bac16",
   "metadata": {},
   "source": [
    "### 4. Invoke the Sampler and get results\n",
    "\n",
    "Next, invoke the `run()` method to generate the output. The circuit and optional parameter value sets are input as *primitive unified bloc* (PUB) tuples."
   ]
  },
  {
   "cell_type": "code",
   "execution_count": null,
   "id": "a89b3bbb-2c53-490e-ad9e-ede2918c779f",
   "metadata": {},
   "outputs": [],
   "source": [
    "job = sampler.run([(isa_circuit, param_values)])\n",
    "print(f\">>> Job ID: {job.job_id()}\")\n",
    "print(f\">>> Job Status: {job.status()}\")"
   ]
  },
  {
   "cell_type": "code",
   "execution_count": null,
   "id": "a3516d62-2cb2-4763-8bde-7d05a01dc1a9",
   "metadata": {},
   "outputs": [],
   "source": [
    "result = job.result()\n",
    "\n",
    "# Get results for the first (and only) PUB\n",
    "pub_result = result[0]\n",
    "print(\n",
    "    f\"Counts for the 'meas' output register: {pub_result.data.meas.get_counts()}\"\n",
    ")"
   ]
  },
  {
   "cell_type": "markdown",
   "id": "4b078dd6-4ffd-4fb0-8e8c-c69f48d0b673",
   "metadata": {},
   "source": [
    "<span id=\"backend\"></span>\n",
    "## Get started with the backend primitives\n",
    "\n",
    "Unlike provider-specific primitives, backend primitives are generic implementations that can be used with an arbitrary\n",
    "`backend` object, as long as it implements the [`Backend`](/api/qiskit/qiskit.providers.Backend) interface.\n",
    "\n",
    "- The Sampler primitive can be run with any provider by using [`qiskit.primitives.BackendSamplerV2`](/api/qiskit/qiskit.primitives.BackendSamplerV2).\n",
    "- The Estimator primitive can be run with any provider by using [`qiskit.primitives.BackendEstimatorV2`](../api/qiskit/qiskit.primitives.BackendEstimatorV2).\n",
    "\n",
    "Some providers implement primitives natively.  See the [Qiskit Ecosystem page](https://qiskit.github.io/ecosystem#provider) for details."
   ]
  },
  {
   "cell_type": "markdown",
   "id": "b5309fd1-1b72-4cff-af4c-63287e539611",
   "metadata": {},
   "source": [
    "### Example: BackendEstimator\n",
    "\n",
    "```python\n",
    "from qiskit.primitives import BackendEstimatorV2\n",
    "from <some_qiskit_provider> import QiskitProvider\n",
    "\n",
    "provider = QiskitProvider()\n",
    "backend = provider.get_backend('backend_name')\n",
    "estimator = BackendEstimatorV2(backend)\n",
    "```\n",
    "\n",
    "### Example: BackendSampler\n",
    "\n",
    "```python\n",
    "from qiskit.primitives import BackendSamplerV2\n",
    "from <some_qiskit_provider> import QiskitProvider\n",
    "\n",
    "provider = QiskitProvider()\n",
    "backend = provider.get_backend('backend_name')\n",
    "sampler = BackendSamplerV2(backend)\n",
    "```"
   ]
  },
  {
   "cell_type": "markdown",
   "id": "1cd6f101-8c3d-4d6d-83f4-712ae1f148f6",
   "metadata": {},
   "source": [
    "### Similarities and differences between backend and Runtime primitives\n",
    "\n",
    "- The inputs to and outputs from [`qiskit.primitives.BackendSamplerV2`](/api/qiskit/qiskit.primitives.BackendSamplerV2) and [`qiskit.primitives.BackendEstimatorV2`](../api/qiskit/qiskit.primitives.BackendEstimatorV2)\n",
    "follow the same PUB format as the primitives in Qiskit Runtime. See [Primitive inputs and outputs](primitive-input-output) for details.\n",
    "However, there can be differences in the fields of the returned metadata.\n",
    "\n",
    "- The [`qiskit.primitives.BackendEstimatorV2`](/api/qiskit/qiskit.primitives.BackendEstimatorV2) class offers no measurement or gate error mitigation implementations out-of-the-box, as\n",
    "backend primitives are designed to run locally in the user's machine.\n",
    "\n",
    "- The [`qiskit.primitives.BackendSamplerV2`](/api/qiskit/qiskit.primitives.BackendSamplerV2) class requires a backend that supports the `memory` option.\n",
    "\n",
    "- The backend primitive interfaces expose custom [`SamplerV2`](/api/qiskit/qiskit.primitives.BackendSamplerV2) and [`EstimatorV2`](/api/qiskit/qiskit.primitives.BackendEstimatorV2) `Options` that are different from the Runtime implementations."
   ]
  },
  {
   "cell_type": "markdown",
   "id": "478bf08c-0a2e-4bc4-8f25-121fd2280a94",
   "metadata": {},
   "source": [
    "## Next steps\n",
    "\n",
    "<Admonition type=\"tip\" title=\"Recommendations\">\n",
    "    - Learn how to [test locally](local-testing-mode) before running on quantum computers.\n",
    "    - Review detailed [primitives examples.](primitives-examples)\n",
    "    - Practice with primitives by working through the [Cost function lesson](https://learning.quantum.ibm.com/course/variational-algorithm-design/cost-functions#primitives) in IBM Quantum Learning.\n",
    "    - Learn how to transpile locally in the [Transpile](transpile/) section.\n",
    "    - Try the [Submit pre-transpiled circuits](https://learning.quantum.ibm.com/tutorial/submitting-user-transpiled-circuits-using-primitives) tutorial.\n",
    "    - Learn how to [use the primitive options.](runtime-options-overview)\n",
    "    - View the API for [Sampler](/api/qiskit-ibm-runtime/options-sampler-options) and [Estimator](/api/qiskit-ibm-runtime/options-estimator-options) options.\n",
    "    - Read [Migrate to V2 primitives](/migration-guides/v2-primitives).\n",
    "</Admonition>"
   ]
  }
 ],
 "metadata": {
  "description": "How to use the Estimator and Sampler primitives in Qiskit Runtime.",
  "kernelspec": {
   "display_name": "Python 3",
   "language": "python",
   "name": "python3"
  },
  "language_info": {
   "codemirror_mode": {
    "name": "ipython",
    "version": 3
   },
   "file_extension": ".py",
   "mimetype": "text/x-python",
   "name": "python",
   "nbconvert_exporter": "python",
   "pygments_lexer": "ipython3",
   "version": "3"
  },
  "title": "Get started with primitives"
 },
 "nbformat": 4,
 "nbformat_minor": 4
}