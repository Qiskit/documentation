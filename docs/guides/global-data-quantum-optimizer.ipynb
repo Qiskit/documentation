{
 "cells": [
  {
   "cell_type": "markdown",
   "id": "7b51ae77-8333-41c8-b6e1-90f2155a7cb7",
   "metadata": {},
   "source": [
    "# Quantum Portfolio Optimizer: A Qiskit Function by Global Data Quantum\n",
    "\n",
    "{/* cspell:ignore rebalance, GBPJPY, TMBMKDE  */}"
   ]
  },
  {
   "cell_type": "code",
   "execution_count": null,
   "id": "a95af5a5-933c-4f11-a841-65483946a528",
   "metadata": {
    "tags": [
     "version-info"
    ]
   },
   "outputs": [],
   "source": []
  },
  {
   "cell_type": "markdown",
   "id": "0466d79d-52b1-4ae4-bdbe-94357784cf7f",
   "metadata": {},
   "source": [
    "<Admonition type=\"note\">\n",
    "Qiskit Functions are an experimental feature available only to IBM Quantum&reg; Premium Plan and Flex Plan users. They are in preview release status and subject to change.\n",
    "</Admonition>"
   ]
  },
  {
   "cell_type": "markdown",
   "id": "f350e597-000e-4c64-8e5d-c5b95851d26c",
   "metadata": {},
   "source": [
    "# Overview\n",
    "\n",
    "The Quantum Portfolio Optimizer is a Qiskit Function that tackles the dynamic portfolio optimization problem, a standard problem in finance that aims to rebalance periodic investments across a set of assets, to maximize returns and minimize risks. By deploying cutting-edge quantum optimization techniques, this function simplifies the process so that users, with no expertise in quantum computing, can benefit from its advantages in finding optimal investment trajectories. Ideal for portfolio managers, researchers in quantitative finance, and individual investors, this tool enables back-testing of trading strategies in portfolio optimization."
   ]
  },
  {
   "cell_type": "markdown",
   "id": "977a893a-9bbe-47f9-b4be-d9f6b8d27a72",
   "metadata": {},
   "source": [
    "# Function description"
   ]
  },
  {
   "cell_type": "markdown",
   "id": "9038f89a-7452-45bf-a96c-8a5ba8b061d0",
   "metadata": {},
   "source": [
    "The Quantum Portfolio Optimizer function uses the Variational Quantum Eigensolver (VQE) algorithm to solve a Quadratic Unconstrained Binary Optimization (QUBO) problem, addressing dynamic portfolio optimization problems. Users simply need to provide the asset price data and define the investment constraint, then the function runs the quantum optimization process that returns a set of optimized investment trajectories.\n",
    "\n",
    "The process consists of four main stages. First, the input data is mapped to a quantum-compatible problem, constructing the QUBO of the dynamic portfolio optimization problem, and transforming it into a quantum operator (Ising Hamiltonian). Next, the input problem and the VQE algorithm are adapted to be run in the quantum hardware. The VQE algorithm is then run on the quantum hardware, and finally, the results are post-processed to provide the optimal investment trajectories. The system also includes a noise-aware ([SQD](/docs/guides/qiskit-addons-sqd)-based) post-processing to maximize the quality of the output.\n",
    "\n",
    "This Qiskit Function is based on the [published manuscript](https://arxiv.org/abs/2412.19150) by Global Data Quantum."
   ]
  },
  {
   "cell_type": "markdown",
   "id": "3667fa72-ebef-476a-94a1-553389889623",
   "metadata": {},
   "source": [
    "![Visualization of the workflow of the function](/docs/images/guides/global-data-quantum-optimizer/function_workflow.svg)"
   ]
  },
  {
   "cell_type": "markdown",
   "id": "0c7edd74-d0b6-499e-9247-f6c9f318cb00",
   "metadata": {},
   "source": [
    "# Input"
   ]
  },
  {
   "cell_type": "markdown",
   "id": "d16980d3-420d-47bc-88bf-8a7f9e63a185",
   "metadata": {},
   "source": [
    "The input arguments of the function are described in the following table. The assets data and other problem specifications must be provided; additionally, the VQE settings can be included to customize the optimization process."
   ]
  },
  {
   "cell_type": "markdown",
   "id": "1ef8951a-8155-43fa-a30b-39b858f3557a",
   "metadata": {},
   "source": [
    "| **Name**               | **Type**           | **Description**                                          | **Required** | **Default**                          | **Example**                              |\n",
    "|------------------------|--------------------|----------------------------------------------------------|--------------|--------------------------------------|------------------------------------------|\n",
    "| assets                 | json               | Dictionary with the asset prices                         | Yes          | -                                    | -                                        |\n",
    "| qubo_settings          | json               | Settings of the QUBO                                     | Yes          | -                                    | See the examples in the table below     |\n",
    "| ansatz_settings        | json               | Settings of the ansatz                                   | No           | `None`                                | See the examples in the table below.     |\n",
    "| optimizer_settings     | json               | Settings of the optimizer                                | No           | `None`                                | See the examples in the table below.     |\n",
    "| backend                | str                | The QPU backend name                                     | No           |  -    | `\"ibm_torino\"`                           |\n",
    "| previous_session_id    | list of str        | List of session IDs to retrieve data from previous runs[(*)](#1-note) | No           | Empty list                           | `[\"session_id_1\", \"session_id_2\"]`      |\n",
    "| apply_postprocess      | bool               | Apply noise-aware SQD post-processing                      | No           | `True`                                | `True`                                   |\n",
    "| tags                   | list of strings    | List of tags to identify the experiment                  | No           | Empty list                           | `[\"optimization\", \"quantum_computing\"]`  |"
   ]
  },
  {
   "cell_type": "markdown",
   "id": "68f2eddb-8fc5-4f22-9cc6-f2486f8bf994",
   "metadata": {},
   "source": [
    "<span id=\"1-note\"></span>\n",
    "*To resume an execution or retrieve jobs that were processed in one or more previous sessions, the list of session IDs must be passed in the `previous_session_id` parameter. This is particularly useful in cases where an optimization task failed to complete due to any error in the process, and execution needs to finish. To achieve this, you must provide the same arguments used in the initial execution, along with the `previous_session_id` list as described."
   ]
  },
  {
   "cell_type": "markdown",
   "id": "5955caa0-aa5f-41fe-8c57-7b141f9f3295",
   "metadata": {},
   "source": [
    "<Admonition type=\"caution\" title=\"Warning\">\n",
    "Loading data for previous sessions (for resuming an optimization) can take up to one hour.\n",
    "</Admonition>"
   ]
  },
  {
   "cell_type": "markdown",
   "id": "0a46e6d8-ae0d-4ca9-8a8e-bc16bf2158d0",
   "metadata": {},
   "source": [
    "## `assets`"
   ]
  },
  {
   "cell_type": "markdown",
   "id": "43979903-9dfe-46b4-a07a-66edc83a28a0",
   "metadata": {},
   "source": [
    "The data must be structured as a JSON object that stores information about the closing prices of financial assets on specific dates. The format is as follows:\n",
    "\n",
    "- Primary key (string): The name or ticker symbol of the financial asset (for example, \"8801.T\").\n",
    "- Secondary key (string): The date in YYYY-MM-DD format.\n",
    "- Value (number): The closing price of the asset on the specified date. Prices can be entered either normalized or non-normalized.\n",
    "\n",
    "*Note that all dictionaries must have the same secondary key (dates). If a specific asset lacks a date that others have, the data must be filled to ensure consistency. For example, this can be done by using the last tracked closing price of that asset.*"
   ]
  },
  {
   "cell_type": "markdown",
   "id": "986757b0-3b97-4000-a55d-0be9277f14b5",
   "metadata": {},
   "source": [
    "### Example"
   ]
  },
  {
   "cell_type": "markdown",
   "id": "49b580df-15a1-41f4-ba1b-08389fc95e20",
   "metadata": {},
   "source": [
    "``` py\n",
    "{\n",
    "    \"8801.T\": {\n",
    "        \"2023-01-01\": 2374.0,\n",
    "        \"2023-01-02\": 2374.0,\n",
    "        \"2023-01-03\": 2374.0,\n",
    "        \"2023-01-04\": 2356.5,\n",
    "        ...\n",
    "    },\n",
    "    \"AAPL\": {\n",
    "        \"2023-01-01\": 145.2,\n",
    "        \"2023-01-02\": 146.5,\n",
    "        \"2023-01-03\": 147.3,\n",
    "        \"2023-01-04\": 148.1,\n",
    "        ...\n",
    "    },\n",
    "    ...\n",
    "}\n",
    "```"
   ]
  },
  {
   "cell_type": "markdown",
   "id": "6039b443-075d-4d8d-b16e-b5029d144968",
   "metadata": {},
   "source": [
    "```py\n",
    "{\n",
    "    \"asset_name\": {\n",
    "        \"date\": closing_value,\n",
    "        ...\n",
    "    },\n",
    "    ...\n",
    "}\n",
    "```\n",
    "\n",
    "<Admonition type=\"note\" title=\"Note\">\n",
    "The asset data must contain, at least, the closing prices at ``(nt+1) * dt`` (see the [`qubo_settings`](#qubo_settings) input section) time stamps (for example, days).\n",
    "</Admonition>"
   ]
  },
  {
   "cell_type": "markdown",
   "id": "53e47475-c017-4b2f-89de-5a5da486c5c3",
   "metadata": {},
   "source": [
    "## `qubo_settings`"
   ]
  },
  {
   "cell_type": "markdown",
   "id": "8e839d93-12a2-4ecf-a51f-326273996692",
   "metadata": {},
   "source": [
    "The next table describes the keys of the `qubo_settings` dictionary. Build the dictionary specifying the number of time steps `nt`, the number of resolution qubits `nq`, and the `max_investment` - or change other default values."
   ]
  },
  {
   "cell_type": "markdown",
   "id": "a585e9b7-045a-4e47-8b27-0bbec832a0c3",
   "metadata": {},
   "source": [
    "| Name                | Type    | Description                                                                 | Required | Default | Example |\n",
    "|---------------------|---------|-----------------------------------------------------------------------------|----------|---------|---------|\n",
    "| nt                  | int     | Number of time steps                                                         | Yes      | -       | 4       |\n",
    "| nq                  | int     | Number of resolution qubits                                                                | Yes      | -       | 4       |\n",
    "| max_investment      | float   | Maximum number of invested currency units across all assets                           | Yes      | -       | 10      |\n",
    "| dt*                  | int     | Time window considered in each time step. The unit matches the time intervals between the keys in the asset data                                                 | No       | 30      | -       |\n",
    "| risk_aversion       | float     | Risk aversion coefficient                                   | No       | 1000    | -       |\n",
    "| transaction_fee     | float     | Transaction fee coefficient                                                 | No       | 0.01   | -       |\n",
    "| restriction_coeff   | float   | Lagrange multiplier used to enforce the problem constraint within the QUBO formulation | No       | 1       | -       |"
   ]
  },
  {
   "cell_type": "markdown",
   "id": "c30acc07-d4ef-4600-9009-016f8d82031a",
   "metadata": {},
   "source": [
    "## `ansatz_settings`"
   ]
  },
  {
   "cell_type": "markdown",
   "id": "3ec7aed8-67f2-4a66-b3e1-383df41369f0",
   "metadata": {},
   "source": [
    "To modify the default options, create a dictionary for the `ansatz_settings` parameter with the following keys. By default, the ansatz is set to `\"real_amplitudes\"`, and both extra options (see the following table) are set to `False`."
   ]
  },
  {
   "cell_type": "markdown",
   "id": "caed8a8d-d100-4668-a071-b23ba8208411",
   "metadata": {},
   "source": [
    "| Name                  | Type     | Description                                                                 | Required | Default |\n",
    "|-----------------------|----------|-----------------------------------------------------------------------------|----------|---------|\n",
    "| ansatz[*](#single-star)                | str      | Ansatz to be used                                             | No      | `\"real_amplitudes\"` |\n",
    "| multiple_passmanager[**](#double-star)  | bool     |Enables multiple passmanager subroutine (not available for Tailored ansatz) | No       | `False`   |\n",
    "| dd_enable   | bool     | Adds dynamical decoupling                                    | No       | `False`   |\n",
    "\n",
    "<span id=\"single-star\"></span>\n",
    "\\* Available ansatzes\n",
    "- `real_amplitudes`\n",
    "- `cyclic`\n",
    "- `optimized_real_amplitudes`\n",
    "- `tailored` (Only for `ibm_torino` backend, 7 assets, 4 time steps, and 4 resolution qubits)\n",
    "\n",
    "<span id=\"double-star\"></span>\n",
    "** If ``multiple_passmanager`` is set to ``False``, the function uses the default Qiskit pass manager with `optimization_level=3`. If set to ``True``, the ``multiple_passmanager`` subroutine compares three pass managers: the previous default Qiskit pass manager, a pass manager mapping qubits over the QPU first neighbors chain, and the [AI transpiler](/docs/guides/ai-transpiler-passes) services. Then, the pass manager with the estimated lower cumulative error is selected."
   ]
  },
  {
   "cell_type": "markdown",
   "id": "e0d2938e-8702-4ec5-b055-49662bc3a65f",
   "metadata": {},
   "source": [
    "## `optimizer_settings`"
   ]
  },
  {
   "cell_type": "markdown",
   "id": "1b3ce694-54b1-439f-894b-52e0a1719ab5",
   "metadata": {},
   "source": [
    "This parameter is a dictionary with some tunable options of the optimizing process."
   ]
  },
  {
   "cell_type": "markdown",
   "id": "a97540d8-fe32-4bb5-945b-66ddb7a782a9",
   "metadata": {},
   "source": [
    "| Name               | Type   | Description                                     | Required | Default               |\n",
    "|--------------------|--------|-------------------------------------------------|----------|-----------------------|\n",
    "| primitive_options  | json   | Settings of the primitive               | No      | -                     |\n",
    "| optimizer          | str    | Selected classical optimizer                            | No       | `\"differential_evolution\"` |\n",
    "| optimizer_options  | json   | Configuration of the optimizer                  | No       | -                     |"
   ]
  },
  {
   "cell_type": "markdown",
   "id": "45cdbd2b-4342-4573-ab3c-cb412e1ad188",
   "metadata": {},
   "source": [
    "<Admonition type=\"note\" title=\"Note\">\n",
    "Currently, the only optimizer option available is `\"differential_evolution\"`.\n",
    "</Admonition>\n",
    "\n",
    "Under `primitive_options` and `optimizer_options` keys we set dictionaries with the following parameters:"
   ]
  },
  {
   "cell_type": "markdown",
   "id": "ab3f6489-8527-4ebc-a1b5-eef2f84f9a8d",
   "metadata": {},
   "source": [
    "### `primitive_options`"
   ]
  },
  {
   "cell_type": "markdown",
   "id": "df67ff79-a444-4f80-85af-ce8fa5a902f4",
   "metadata": {},
   "source": [
    "| Name              | Type   | Description                                | Required | Default                    | Example                    |\n",
    "|-------------------|--------|--------------------------------------------|----------|----------------------------|----------------------------|\n",
    "| sampler_shots     | int    | Number of shots of the Sampler.            | No       | 100000                     | -                          |\n",
    "| estimator_shots   | int    | Number of shots of the Estimator.          | No       | 25000                      | -                          |\n",
    "| estimator_precision | float | Desired precision of the expected value. If specified, the precision will be used instead of the `estimator_shots`. | No | `None` | 0.015625 · (1 / sqrt(4096)) |\n",
    "| max_time          | int or str | Maximum amount of time a runtime session can remain open before being forcibly closed. Can be given in seconds (int) or as a string, like `\"2h 30m 40s\"`. Must be less than the system-imposed maximum. | No | `None` | `\"1h 15m\"`                |"
   ]
  },
  {
   "cell_type": "markdown",
   "id": "1c04b902-b3c2-48fe-9886-9b4a832f947d",
   "metadata": {},
   "source": [
    "### `optimizer_options`"
   ]
  },
  {
   "cell_type": "markdown",
   "id": "aae55a4c-bd68-4135-8504-68586ed3a1a8",
   "metadata": {},
   "source": [
    "| Name              | Type     | Description                              | Required | Default       |\n",
    "|-------------------|----------|------------------------------------------|----------|---------------|\n",
    "| num_generations   | int      | Number of generations                    | No       | 20            |\n",
    "| population_size   | int      | Size of the population                    | No       | 20            |\n",
    "| mutation_range    | list   | Maximum and minimum mutation factor              | No       | [0, 0.25]     |\n",
    "| recombination     | float      | Recombination factor                     | No       | 0.4           |\n",
    "| max_parallel_jobs | int      | Maximum number of QPU jobs executed in parallel  | No       | 3             |\n",
    "| max_batchsize | int      | Maximum batch size  | No       | 200     |"
   ]
  },
  {
   "cell_type": "markdown",
   "id": "15c3f52d-66c0-4a56-967a-acb8b9abf074",
   "metadata": {},
   "source": [
    "<Admonition type=\"note\" title=\"Note\">\n",
    "\n",
    "- The number of generations evaluated by the differential evolution is `num_generations` + 1 since the initial population is included.\n",
    "- The total number of circuits is calculated as `(num_generations + 1) * population_size`.\n",
    "- Using a larger population size and more generations generally improves the quality of the optimization results. However, it is not recommended to exceed a population size of 120 and a number of generations greater than 20 (for example, ``120 * 21 = 2520`` total circuits), as this would generate an excessive number of circuits, which can be computationally expensive and time-consuming to process.\n",
    "\n",
    "- The function allows you to resume previous optimization, and it is always possible to increase the number of generations (by providing the same input except for `previous_session_id` and an increased ``num_generations``).\n",
    "</Admonition>"
   ]
  },
  {
   "cell_type": "markdown",
   "id": "3edd8398-8c60-429f-b84e-b768e77d0990",
   "metadata": {},
   "source": [
    "<Admonition type=\"note\" title=\"Note\">\n",
    "Ensure compliance with Qiskit Runtime job limits.\n",
    "\n",
    "- Sampler: `sampler_shots <= 10_000_000`.\n",
    "- Estimator: `max_batchsize * estimator_shots * observable_size <= 10_000_000` (for this function, all the terms of the observable commute, so `observable_size=1`).\n",
    "\n",
    "See the [Job limits](/docs/guides/job-limits) guide for more information.\n",
    "</Admonition>"
   ]
  },
  {
   "cell_type": "markdown",
   "id": "330372f2-9684-4d72-bf0f-f3d1a6bc6070",
   "metadata": {},
   "source": [
    "# Output\n",
    "\n",
    "The function returns two dictionaries: `\"result\"` dictionary, containing the best optimization results, including the optimal solution and its associated minimum objective cost; and `\"metadata\"`, with data from all results obtained during the optimization process, along with their respective metrics.\n",
    "\n",
    "The first dictionary focuses on the best-performing solution, while the second provides detailed information about all solutions, including states, objective costs, and other relevant metrics.\n",
    "\n",
    "## Output dictionaries:\n",
    "\n",
    "| **Name**    | **Type**                     | **Description**                                                                 | **Example**  |\n",
    "|-------------|------------------------------|---------------------------------------------------------------------------------|--------------|\n",
    "| result      | dict[str, dict[str, float]]  | Contains the investment strategy over time, with each time-stamp mapping to asset-specific investment weights (each weight is the investment amount normalized by the total investment amount). | `{'time_1': {'asset_1': 0.2, 'asset_2': 0.3, ...}, ...}` |\n",
    "| metadata    | dict[str, Any]               | Data generated during the analysis, including solutions, costs, and metrics.    | See examples below |"
   ]
  },
  {
   "cell_type": "markdown",
   "id": "a1fbda1a-bc50-42a1-9ecb-810dc822d352",
   "metadata": {},
   "source": [
    "### Description of the `metadata` dictionary\n",
    "\n",
    "| **Name**                 | **Type**              | **Description**                                                                                     | **Example**                  |\n",
    "|--------------------------|-----------------------|-----------------------------------------------------------------------------------------------------|------------------------------|\n",
    "| session_id               | str                   | Unique identifier for the IBM Quantum session.                          | `\"d0h30qjvpqf00084fgw0\"`        |\n",
    "| all_samples_metrics | dict                 | Dictionary containing various metrics for each postprocessed sample, such as costs or constraints. | See description below        |\n",
    "| sampler_counts           | dict[str, int]        | Dictionary where keys are bitstring representations of sampled solutions and values are their counts. | `{\"101010\": 3, \"111000\": 1}` |\n",
    "| asset_order              | list[str]             | List with the corresponding investment order of assets at each time step within the investment strategies. | `[\"Asset_0\", \"Asset_1\", \"Asset_3\"]`     |\n",
    "| QUBO                     | list[list[float]]     | QUBO matrix of the problem.                                                                         | `[[-6.96e-01, 5.81e-01, -1.26e-02, 0.00e+00], ...]`     |\n",
    "| resource_summary           | dict[str, dict[str, float]] | Summary of CPU and QPU usage times (in seconds) across different stages of the process.                | `{'RUNNING: EXECUTING_QPU': {'CPU_TIME': 412.84, 'QPU_TIME': 87.22}, ...}` |"
   ]
  },
  {
   "cell_type": "markdown",
   "id": "67978284-fcfd-407f-88c5-b4b0bfedd9fd",
   "metadata": {},
   "source": [
    "### Description of the `all_samples_metrics` dictionary\n",
    "\n",
    "| **Name**                | **Type**       | **Description**                                                                                          | **Example**                  |\n",
    "|-------------------------|----------------|----------------------------------------------------------------------------------------------------------|------------------------------|\n",
    "| states                  | list[list]     | List of output states measured by the Sampler (in little-endian order – opposite to Sampler order).     | `[[0, 1, 0, 1, 0, 1], [0, 0, 0, 1, 1, 1]]` |\n",
    "| counts                  | list[int]      | Number of occurrences associated with the same index state in the `states` list.                         | `[3, 5]`                      |\n",
    "| investment_trajectories | list[list]     | State converted into an investment trajectory.                                                           | `[[1, 2, 2], [1, 2, 1]]`      |\n",
    "| objective_costs         | list[float]    | Value of the objective function associated with the same index state.                                    | `[1.25, 0.98]`                |\n",
    "| sharpe_ratios            | list[float]    | Sharpe ratio value associated with the same index investment trajectory.                                 | `[1.1, 0.7]`                  |\n",
    "| returns                 | list[float]    | Return value associated with the same index investment trajectory.                                       | `[0.15, 0.10]`                |\n",
    "| restriction_breaches      | list[float]    | Proportion of the maximum deviation from the restriction throughout the trajectory (aligned with `states`). | `[0.0, 0.25]`             |\n",
    "| transaction_costs       | list[float]    | Transaction cost associated with each investment trajectory with same index as in the `states` list.        | `[0.02, 0.01]`                |"
   ]
  },
  {
   "cell_type": "markdown",
   "id": "32a1bfa7-0e6d-4e64-9169-3b285597cfe1",
   "metadata": {},
   "source": [
    "# Get started"
   ]
  },
  {
   "cell_type": "markdown",
   "id": "5028c729-6223-4108-bc1e-1c9d95a56bd6",
   "metadata": {},
   "source": [
    "Authenticate using your [API key](https://quantum.cloud.ibm.com/) and select the Qiskit Function as follows:"
   ]
  },
  {
   "cell_type": "code",
   "execution_count": null,
   "id": "b0a820cb-a3e1-4156-a156-0da2e9db9640",
   "metadata": {},
   "outputs": [],
   "source": [
    "from qiskit_ibm_catalog import QiskitFunctionsCatalog\n",
    "\n",
    "\n",
    "catalog = QiskitFunctionsCatalog(\n",
    "    channel=\"ibm_cloud / ibm_quantum / ibm_quantum_platform\",\n",
    "    instance=\"USER_CRN / HGP\",\n",
    "    token=\"USER_API_KEY / IQP_API_TOKEN\",\n",
    ")\n",
    "\n",
    "# Access function\n",
    "dpo_solver = catalog.load(\"gdq/quantum_portfolio_optimizer\")"
   ]
  },
  {
   "cell_type": "markdown",
   "id": "0503669b-15e6-4533-b4ef-7f6c9e7d9f4f",
   "metadata": {},
   "source": [
    "## Example: Dynamic portfolio optimization with seven assets"
   ]
  },
  {
   "cell_type": "markdown",
   "id": "298a6e60-52cd-491c-8777-cdd3038ab490",
   "metadata": {},
   "source": [
    "This example demonstrates how to execute the dynamic portfolio optimization (DPO) function and adjust its settings for optimal performance. It includes detailed steps for fine-tuning the parameters to achieve the desired outcomes.\n",
    "\n",
    "This case involves seven assets, four time steps, and four resolution qubits, resulting in a total requirement of 112 qubits."
   ]
  },
  {
   "cell_type": "markdown",
   "id": "736b0557-f4bf-43ad-a8e3-f1b871f67398",
   "metadata": {},
   "source": [
    "### 1. Read the assets included in the portfolio."
   ]
  },
  {
   "cell_type": "markdown",
   "id": "276c3f55-f75b-4320-807b-007a3881bdaa",
   "metadata": {},
   "source": [
    "If all the assets in the portfolio are stored in a folder at a specific path, you can load them into a `pandas.DataFrame` and convert it to a `dict` format object using the following function."
   ]
  },
  {
   "cell_type": "code",
   "execution_count": null,
   "id": "c961d730-8a65-4a2b-b312-1006af8565ca",
   "metadata": {},
   "outputs": [],
   "source": [
    "import os\n",
    "import glob\n",
    "import pandas as pd\n",
    "\n",
    "\n",
    "def read_and_join_csv(file_pattern):\n",
    "    \"\"\"\n",
    "    Reads multiple CSV files matching the file pattern and combines them into a single DataFrame.\n",
    "\n",
    "    Parameters:\n",
    "    file_pattern (str): The pattern to match CSV files.\n",
    "\n",
    "    Returns:\n",
    "    pd.DataFrame: Combined DataFrame with data from all CSV files.\n",
    "    \"\"\"\n",
    "    # Find all files matching the pattern\n",
    "    csv_files = glob.glob(file_pattern)\n",
    "    # Get the base file names without the .csv extension\n",
    "    file_names = [os.path.basename(f).replace(\".csv\", \"\") for f in csv_files]\n",
    "    # Read each CSV file into a DataFrame and set the first column as the index\n",
    "    df_list = [pd.read_csv(f).set_index(\"Unnamed: 0\") for f in csv_files]\n",
    "\n",
    "    # Rename columns in each DataFrame to the base file names\n",
    "    for df, name in zip(df_list, file_names):\n",
    "        df.columns = [name]\n",
    "\n",
    "    # Combine all DataFrames into one by merging them side by side\n",
    "    combined_df = pd.concat(df_list, axis=1)\n",
    "    return combined_df\n",
    "\n",
    "\n",
    "file_pattern = \"route/to/folder/with/assets/data/*.csv\"\n",
    "assets = read_and_join_csv(file_pattern).to_dict()"
   ]
  },
  {
   "cell_type": "markdown",
   "id": "29b4f417-c61d-4c6f-9779-15e052b90076",
   "metadata": {},
   "source": [
    "For this example, we have used the assets [8801.T](https://finance.yahoo.com/quote/8801.T), [CLF](https://finance.yahoo.com/quote/CLF), [GBPJPY](https://finance.yahoo.com/quote/GBPJPY), [ITX.MC](https://finance.yahoo.com/quote/ITX.MC), [META](https://finance.yahoo.com/quote/META), [TMBMKDE-10Y](https://finance.yahoo.com/quote/TMBMKDE-10Y), and [XS2239553048](https://finance.yahoo.com/quote/XS2239553048). The following figure illustrates the data used in this example, showing the daily closing price evolution of the assets from 1 January to 1 September in 2023.\n",
    "\n",
    "In this example, to ensure uniformity across dates, we have filled non-trading days with the closing price from the previous available date. We apply this step because the selected assets come from different markets with varying trading days, making it essential to standardize the dataset for consistency."
   ]
  },
  {
   "cell_type": "markdown",
   "id": "fb8b3592-5c1c-4dde-b635-a8b46e66f500",
   "metadata": {},
   "source": [
    "![Visualization of the historical data of the assets](/docs/images/guides/global-data-quantum-optimizer/assets.avif)"
   ]
  },
  {
   "cell_type": "markdown",
   "id": "708bf084-29bb-4201-a904-acefb2c85af8",
   "metadata": {},
   "source": [
    "### 2. Define the problem."
   ]
  },
  {
   "cell_type": "markdown",
   "id": "d6f9c0f2-48be-48a4-bef4-b98f5f85b8b1",
   "metadata": {},
   "source": [
    "Define the specifications of the problem by configuring the parameters in the `qubo_settings` dictionary."
   ]
  },
  {
   "cell_type": "code",
   "execution_count": null,
   "id": "b92835c1-eb14-429e-ba22-846ee849764c",
   "metadata": {},
   "outputs": [],
   "source": [
    "qubo_settings = {\n",
    "    \"nt\": 4,\n",
    "    \"nq\": 4,\n",
    "    \"dt\": 30,\n",
    "    \"max_investment\": 25,\n",
    "    \"risk_aversion\": 1000.0,\n",
    "    \"transaction_fee\": 0.01,\n",
    "    \"restriction_coeff\": 1.0,\n",
    "}"
   ]
  },
  {
   "cell_type": "markdown",
   "id": "98da8a80-2f9b-4b62-abfe-364a1dc712f4",
   "metadata": {},
   "source": [
    "### 3. Define the optimizer and ansatz settings. (Optional)"
   ]
  },
  {
   "cell_type": "markdown",
   "id": "526df9d9-d52c-4a81-89ca-ff047eda5eb5",
   "metadata": {},
   "source": [
    "Optionally define specific requirements for the optimization process, including the selection of the optimizer and its parameters, as well as the specification of the primitive and its configurations.\n",
    "\n",
    "For the Tailored Ansatz, the chosen population size was based on previous experiments showing that this value yields stable and efficient optimization.\n",
    "\n",
    "In the case of the Real Amplitudes Ansatz, you can follow a linear relationship between the ``population_size`` and the number of qubits in the circuit. As an approximated rule of thumb, it is recommended to use a **minimum** ``population_size ~ 0.8 * n_qubits`` for the `real_amplitudes` ansatz.\n",
    "\n",
    "It is expected that the Optimized Real Amplitudes will have a better optimization performance than the Real Amplitudes ansatz. However, the number of variables to optimize in this ansatz increases much faster than in the Real Amplitudes case (see the [manuscript](https://arxiv.org/pdf/2412.19150)). Thus, for large problems, the Optimized Real Amplitudes requires more circuit executions. The Optimized Real Amplitudes is likely to be useful for problems requiring up to 100 qubits, but it is recommended to be mindful when setting the ``population_size`` parameters. As an example of this scale-up in ``population_size``, the previous table shows that for an 84-qubit problem, the Optimize Real Amplitudes requires 120 ``population_size``, while for a 56-qubit problem, a ``population_size`` of 40 is enough."
   ]
  },
  {
   "cell_type": "code",
   "execution_count": null,
   "id": "1ad03fde-4c78-4ec3-a027-cf0e2599d857",
   "metadata": {},
   "outputs": [],
   "source": [
    "optimizer_settings = {\n",
    "    \"de_optimizer_settings\": {\n",
    "        \"num_generations\": 20,\n",
    "        \"population_size\": 90,\n",
    "        \"recombination\": 0.4,\n",
    "        \"max_parallel_jobs\": 5,\n",
    "        \"max_batchsize\": 4,\n",
    "        \"mutation_range\": [0.0, 0.25],\n",
    "    },\n",
    "    \"optimizer\": \"differential_evolution\",\n",
    "    \"primitive_settings\": {\n",
    "        \"estimator_shots\": 25_000,\n",
    "        \"estimator_precision\": None,\n",
    "        \"sampler_shots\": 100_000,\n",
    "    },\n",
    "}"
   ]
  },
  {
   "cell_type": "markdown",
   "id": "253955cb-87cd-4e39-a0fa-21c457db0106",
   "metadata": {},
   "source": [
    "It is also possible to choose a specific ansatz. The following uses the ``'Tailored'`` ansatz."
   ]
  },
  {
   "cell_type": "code",
   "execution_count": null,
   "id": "9fa3c8be-c755-49e7-8c3e-322e5da7c802",
   "metadata": {},
   "outputs": [],
   "source": [
    "ansatz_settings = {\n",
    "    \"ansatz\": \"tailored\",\n",
    "    \"multiple_passmanager\": False,\n",
    "}"
   ]
  },
  {
   "cell_type": "markdown",
   "id": "6e7b6809-aca0-4d04-bb99-c258e758a0b4",
   "metadata": {},
   "source": [
    "### 4. Run the problem."
   ]
  },
  {
   "cell_type": "code",
   "execution_count": null,
   "id": "09553772-82e9-4d42-bc8f-f75f20c7d355",
   "metadata": {},
   "outputs": [],
   "source": [
    "dpo_job = dpo_solver.run(\n",
    "    assets=assets,\n",
    "    qubo_settings=qubo_settings,\n",
    "    optimizer_settings=optimizer_settings,\n",
    "    ansatz_settings=ansatz_settings,\n",
    "    backend_name=\"<backend name>\",\n",
    "    previous_session_id=[],\n",
    "    apply_postprocess=True,\n",
    ")"
   ]
  },
  {
   "cell_type": "markdown",
   "id": "f6890c97-0c0e-4750-bc31-114e7dc830e0",
   "metadata": {},
   "source": [
    "### 5. Retrieve results."
   ]
  },
  {
   "cell_type": "markdown",
   "id": "fe8cfc2e-3305-4a33-89cc-a73fb64ada69",
   "metadata": {},
   "source": [
    "As mentioned in the [Output](#output) section, the function returns a dictionary with the investment trajectories ordered from lowest to highest according to their objective function value. This set of results allows for the identification of the trajectory with the lowest cost and its corresponding investment evaluations. Additionally, it provides for the analysis of different trajectories, facilitating the selection of those that best align with specific needs or objectives. This flexibility ensures that choices can be tailored to suit a variety of preferences or scenarios."
   ]
  },
  {
   "cell_type": "markdown",
   "id": "eb7eeefd-935c-4c7e-8ea0-f2ef07498641",
   "metadata": {},
   "source": [
    "Begin by presenting the resulting strategy that achieved the lowest objective cost found during the process."
   ]
  },
  {
   "cell_type": "code",
   "execution_count": null,
   "id": "c1bc72c1-d5a1-4834-9737-f573b8f0f4d6",
   "metadata": {},
   "outputs": [
    {
     "data": {
      "text/plain": [
       "{'time_step_0': {'8801.T': 0.11764705882352941,\n",
       "  'ITX.MC': 0.20588235294117646,\n",
       "  'META': 0.38235294117647056,\n",
       "  'GBPJPY=X': 0.058823529411764705,\n",
       "  'TMBMKDE-10Y': 0.0,\n",
       "  'CLF': 0.058823529411764705,\n",
       "  'XS2239553048': 0.17647058823529413},\n",
       " 'time_step_1': {'8801.T': 0.11428571428571428,\n",
       "  'ITX.MC': 0.14285714285714285,\n",
       "  'META': 0.2,\n",
       "  'GBPJPY=X': 0.02857142857142857,\n",
       "  'TMBMKDE-10Y': 0.42857142857142855,\n",
       "  'CLF': 0.0,\n",
       "  'XS2239553048': 0.08571428571428572},\n",
       " 'time_step_2': {'8801.T': 0.0,\n",
       "  'ITX.MC': 0.09375,\n",
       "  'META': 0.3125,\n",
       "  'GBPJPY=X': 0.34375,\n",
       "  'TMBMKDE-10Y': 0.0,\n",
       "  'CLF': 0.0,\n",
       "  'XS2239553048': 0.25},\n",
       " 'time_step_3': {'8801.T': 0.3939393939393939,\n",
       "  'ITX.MC': 0.09090909090909091,\n",
       "  'META': 0.12121212121212122,\n",
       "  'GBPJPY=X': 0.18181818181818182,\n",
       "  'TMBMKDE-10Y': 0.0,\n",
       "  'CLF': 0.0,\n",
       "  'XS2239553048': 0.21212121212121213}}"
      ]
     },
     "execution_count": 6,
     "metadata": {},
     "output_type": "execute_result"
    }
   ],
   "source": [
    "# Get the results of the job\n",
    "dpo_result = dpo_job.result()\n",
    "\n",
    "# Show the solution strategy\n",
    "dpo_result[\"result\"]"
   ]
  },
  {
   "cell_type": "markdown",
   "id": "043ab9f6-c50c-4387-9de1-fe4de3491980",
   "metadata": {},
   "source": [
    "Afterwards, using the metadata, you can access the results of all the sampled strategies. You can thereby further analyze the alternative trajectories returned by the optimizer. To do this, read the dictionary stored in `dpo_result['metadata']['all_postprocessed_samples']`, which contains not only additional information about the optimal strategy, but also details of the other candidate strategies evaluated during the optimization.\n",
    "\n",
    "The following example shows how to read this information using `pandas` to extract key metrics associated with the optimal strategy. These include the binary solution state, Restriction Deviation, Sharpe Ratio, and the corresponding investment return."
   ]
  },
  {
   "cell_type": "code",
   "execution_count": null,
   "id": "6d79bf57-3f68-4981-aa66-7a0cf17c4155",
   "metadata": {},
   "outputs": [
    {
     "name": "stdout",
     "output_type": "stream",
     "text": [
      "Minimum Objective Cost Found: -3.78\n",
      "Best Solution:\n",
      "  - State: [0, 0, 1, 0, 1, 1, 1, 0, 1, 0, 1, 1, 0, 1, 0, 0, 0, 0, 0, 0, 0, 1, 0, 0, 0, 1, 1, 0, 0, 0, 1, 0, 1, 0, 1, 0, 1, 1, 1, 0, 1, 0, 0, 0, 1, 1, 1, 1, 0, 0, 0, 0, 1, 1, 0, 0, 0, 0, 0, 0, 1, 1, 0, 0, 0, 1, 0, 1, 1, 1, 0, 1, 0, 0, 0, 0, 0, 0, 0, 0, 0, 0, 0, 1, 1, 0, 1, 1, 1, 1, 0, 0, 0, 0, 1, 0, 0, 1, 1, 0, 0, 0, 0, 0, 0, 0, 0, 0, 1, 1, 1, 0]\n",
      "  - Restriction Deviation: 40.0\n",
      "  - Sharpe Ratio: 24.82\n",
      "  - Return: 0.46\n"
     ]
    }
   ],
   "source": [
    "# Convert metadata to a DataFrame\n",
    "df = pd.DataFrame(dpo_result[\"metadata\"][\"all_samples_metrics\"])\n",
    "\n",
    "# Find the minimum objective cost\n",
    "min_cost = df[\"objective_costs\"].min()\n",
    "print(f\"Minimum Objective Cost Found: {min_cost:.2f}\")\n",
    "\n",
    "# Extract the row with the lowest cost\n",
    "best_row = df[df[\"objective_costs\"] == min_cost].iloc[0]\n",
    "\n",
    "# Display the results associated with the best solution\n",
    "print(\"Best Solution:\")\n",
    "print(f\"  - State: {best_row['states']}\")\n",
    "print(f\"  - Restriction Deviation: {best_row['rest_breaches']}%\")\n",
    "print(f\"  - Sharpe Ratio: {best_row['sharpe_ratios']:.2f}\")\n",
    "print(f\"  - Return: {best_row['returns']}\")"
   ]
  },
  {
   "cell_type": "markdown",
   "id": "51797701-c647-4b1a-b863-be743d359ffe",
   "metadata": {},
   "source": [
    "### 6. Performance analysis"
   ]
  },
  {
   "cell_type": "markdown",
   "id": "f595acfc-e26b-44fd-8c1c-8b1bc81611aa",
   "metadata": {},
   "source": [
    "Last, analyze the performance of your optimization application. Specifically, compare your results, obtained in the previous example, against a random baseline to assess the effectiveness of our approach. If the quantum algorithm demonstrably and consistently produces results with lower cost values, it indicates an effective optimization process.\n",
    "\n",
    "The figure presents the probability distributions of the objective costs. To generate these distributions, take the list of objective costs from the function result and count the occurrences of each cost value (values rounded to the second decimal place). Then, update the count column accordingly by joining counts of identical rounded values. Note that, for better visual comparison, the occurrence counts have been normalized so that each distribution is displayed between 0 and 1."
   ]
  },
  {
   "cell_type": "markdown",
   "id": "560912e7-6722-4f06-87b1-83fd4ac2073f",
   "metadata": {},
   "source": [
    "![Visualization of the solution of the optimization](/docs/images/guides/global-data-quantum-optimizer/cost_distribution.avif)"
   ]
  },
  {
   "cell_type": "markdown",
   "id": "0bd0704d-83a0-4b29-b3aa-cb1eddef412d",
   "metadata": {},
   "source": [
    "As shown in the figure (blue solid line), the cost distribution for our Variational Quantum Eigensolver (post-processed with SQD) approach is sharply concentrated at lower objective cost values, indicating good optimization performance. In contrast, the noisy baseline exhibits a broader distribution, centered around higher cost values. The gray dashed vertical line represents the mean value of the random distribution, further highlighting the consistency of the function in returning optimized investment strategies. For an additional comparison, the black dashed line in the figure corresponds to the solution obtained with the Gurobi optimizer (free version). All these results are further explored in the benchmarks below for the \"Mixed Assets\" example evaluated with the \"Tailored\" ansatz."
   ]
  },
  {
   "cell_type": "markdown",
   "id": "de293919-a802-4ebe-95e3-173083268741",
   "metadata": {},
   "source": [
    "# Benchmarks"
   ]
  },
  {
   "cell_type": "markdown",
   "id": "bb44f36c-de99-44ed-921b-003ec3030e86",
   "metadata": {},
   "source": [
    "This function was tested under different configurations of resolution qubits, ansatz circuits, and groupings of assets from various sectors: a mix of different assets (Set 1), oil derivatives (Set 2), and IBEX35 (Set 3). See more details in the following table.\n",
    "\n",
    "| Set       | Date       | Assets                                                                 |\n",
    "|-----------|------------|------------------------------------------------------------------------|\n",
    "| **Set 1** | 01/01/2023 | 8801.T, CL=F, GBPJPY=X, ITX.MC, META, TMBMKDE-10Y, XS2239553048         |\n",
    "| **Set 2** | 01/06/2023 | CL=F, BZ=F, HO=F, NG=F, XOM, RB=F, 2222.SR                               |\n",
    "| **Set 3** | 01/11/2022 | ACS.MC, ITX.MC, FER.MC, ELE.MC, SCYR.MC, AENA.MC, AMS.MC                |\n",
    "\n",
    "Two key metrics were used to evaluate solution quality.\n",
    "1. The objective cost, which measures optimization efficiency by comparing the cost function value from each experiment with results from Gurobi (free version).\n",
    "2. The Sharpe ratio, which captures the risk-adjusted return of each portfolio, offering insight into the financial performance of the solutions.\n",
    "\n",
    "Together, these metrics benchmark both computational and financial aspects of the quantum-generated portfolios.\n",
    "\n",
    "\n",
    "| Example             | Qubits | Ansatz                  | Depth | Runtime Usage (s) | Total usage (s) | Objective cost | Sharpe | Gurobi objective cost | Gurobi Sharpe |\n",
    "|-------------------------------|--------|-------------------------------|--------|-------------------|------------------|----------------|--------|------------------------|----------------|\n",
    "| Mixed Assets (Set 1, 4 time steps, 4-bit)   | 112    | Tailored                      | 83     | 12735             | 13095            | -3.78          | 24.82  | -4.25                  | 24.71          |\n",
    "| Mixed Assets (Set 1,4 time steps, 4 time steps, 4-bit)   | 112    | Real Amplitudes               | 359    | 11739             | 11903            | -3.39          | 23.64  | -4.25                  | 24.71          |\n",
    "| Oil Derivatives (Set 2, 4 time steps, 3-bit)| 84     | Optimized Real Amplitudes     | 78     | 6180              | 6350             | -3.73          | 19.13  | -4.19                  | 21.71          |\n",
    "| IBEX35 (Set 3, 4 time steps, 2-bit)         | 56     | Optimized Real Amplitudes     | 96     | 3314              | 3523             | -3.67          | 14.48  | -4.11                  | 16.44          |\n",
    "\n",
    "\n",
    "\n",
    "Results show that the quantum optimizer, with problem-specific ansatzes, effectively identifies efficient investment strategies across various portfolio types."
   ]
  },
  {
   "cell_type": "markdown",
   "id": "2db3bd86-393e-4e88-851c-fd496f956aed",
   "metadata": {},
   "source": [
    "Below we detail both the population size and the number of generations specified in the `optimizer_options` dictionary. All other parameters were set to their default values.\n",
    "\n",
    "| **Example**                | ``population_size`` | ``num_generations``   |\n",
    "|----------------------------|----------------------|----------------------|\n",
    "| Mixed Assets Portfolio     | 90                   | 20                   |\n",
    "| Mixed Assets Portfolio     | 92                   | 20                   |\n",
    "| Oil Derivatives Portfolio  | 120                  | 20                   |\n",
    "| IBEX35 Portfolio           | 40                   | 20                   |\n",
    "\n",
    "The number of generations was set to 20, as this value was found to be sufficient to reach convergence. Additionally, the default values for the optimizer's internal parameters were left unchanged, as they consistently provided good performance and are generally recommended by the literature and implementation guidelines."
   ]
  },
  {
   "cell_type": "markdown",
   "id": "021187a8-c6f9-4f31-89f8-32dbb85ec5f6",
   "metadata": {},
   "source": [
    "# Get support\n",
    "If you need help, you can send an email to qpo.support@globaldataquantum.com. In your message, provide the function job ID."
   ]
  },
  {
   "cell_type": "markdown",
   "id": "0a6148bb-1b04-4ad8-bbaf-3cba2b41b037",
   "metadata": {},
   "source": [
    "## Next steps\n",
    "\n",
    "<Admonition type=\"note\" title=\"Recommendations\">\n",
    "*   Read [the associated research paper](https://arxiv.org/pdf/2412.19150).\n",
    "*   Request access to the function by filling in [this form](https://www.globaldataquantum.com/en/quantum-portfolio-optimizer/#form).\n",
    "*   Try the [Dynamic Portfolio Optimization](/docs/tutorials/global-data-quantum-optimizer) tutorial.\n",
    "</Admonition>"
   ]
  }
 ],
 "metadata": {
  "description": "A Qiskit Function to solve Dynamic Portfolio Optimization problems using a fine-tuned implementation of the VQE.",
  "kernelspec": {
   "display_name": "Python 3",
   "language": "python",
   "name": "python3"
  },
  "language_info": {
   "codemirror_mode": {
    "name": "ipython",
    "version": 3
   },
   "file_extension": ".py",
   "mimetype": "text/x-python",
   "name": "python",
   "nbconvert_exporter": "python",
   "pygments_lexer": "ipython3",
   "version": "3"
  },
  "title": "Quantum Portfolio Optimizer - A Qiskit Function by Global Data Quantum"
 },
 "nbformat": 4,
 "nbformat_minor": 2
}
