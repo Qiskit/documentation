{
 "cells": [
  {
   "cell_type": "markdown",
   "id": "0d234a52-9654-4ee1-bb23-f6705154c3b0",
   "metadata": {},
   "source": [
    "## Get started with Multi-product formulas (MPFs)"
   ]
  },
  {
   "cell_type": "markdown",
   "id": "c39cd6cd-bb4e-4e04-9f46-1e65ddf27047",
   "metadata": {
    "tags": [
     "version-info"
    ]
   },
   "source": [
    "<details>\n",
    "<summary><b>Package versions</b></summary>\n",
    "\n",
    "The code on this page was developed using the following requirements.\n",
    "We recommend using these versions or newer.\n",
    "\n",
    "```\n",
    "qiskit[all]~=2.0.0\n",
    "qiskit-addon-utils~=0.1.0\n",
    "qiskit-addon-mpf~=0.3.0\n",
    "scipy~=1.15.2\n",
    "```\n",
    "</details>"
   ]
  },
  {
   "cell_type": "markdown",
   "id": "c8a99273-cf77-4f24-999e-9779c6c0c6b9",
   "metadata": {},
   "source": [
    "This guide demonstrates how to use the `qiskit-addon-mpf` package, using the time evolution of an Ising model as an example. With this package, you can build a Multi-Product Formula (MPF) that can achieve lower Trotter error on observable measurements. The tools provided allow you to determine the weights of a chosen MPF, which can then be used to recombine the estimated expectation values from several time evolution circuits, each with a different number of Trotter steps.\n",
    "\n",
    "Begin by considering the Hamiltonian of an Ising model with 10 sites:\n",
    "\n",
    "$$ H_{\\text{Ising}} = \\sum_{i=1}^9 J_{i,(i+1)}Z_iZ_{i+1} + \\sum_{i=1}^{10} h_i X_i $$\n",
    "\n",
    "where $J_{i,(i+1)}$ is the coupling strength and $h_i$ is an external magnetic field strength. To set up the problem, the observable to measure will be the total magnetization of the system\n",
    "\n",
    "$$ \\langle M \\rangle = \\sum_{i=1}^{10} \\langle Z_i \\rangle. $$\n",
    "\n",
    "The code snippet below prepares the Hamiltonian of the Ising chain using the `qiskit-addon-utils` package, and defines the observable that will be measured."
   ]
  },
  {
   "cell_type": "code",
   "execution_count": 1,
   "id": "ef8405ef-e112-48e0-98a4-65343da2b7fd",
   "metadata": {},
   "outputs": [
    {
     "name": "stdout",
     "output_type": "stream",
     "text": [
      "Hamiltonian:\n",
      " SparsePauliOp(['IIIIIIIZZI', 'IIIIIZZIII', 'IIIZZIIIII', 'IZZIIIIIII', 'IIIIIIIIZZ', 'IIIIIIZZII', 'IIIIZZIIII', 'IIZZIIIIII', 'ZZIIIIIIII', 'IIIIIIIIIX', 'IIIIIIIIXI', 'IIIIIIIXII', 'IIIIIIXIII', 'IIIIIXIIII', 'IIIIXIIIII', 'IIIXIIIIII', 'IIXIIIIIII', 'IXIIIIIIII', 'XIIIIIIIII'],\n",
      "              coeffs=[1. +0.j, 1. +0.j, 1. +0.j, 1. +0.j, 1. +0.j, 1. +0.j, 1. +0.j, 1. +0.j,\n",
      " 1. +0.j, 0.4+0.j, 0.4+0.j, 0.4+0.j, 0.4+0.j, 0.4+0.j, 0.4+0.j, 0.4+0.j,\n",
      " 0.4+0.j, 0.4+0.j, 0.4+0.j])\n",
      "\n",
      "Observable:\n",
      " SparsePauliOp(['IIIIIIIIIZ', 'IIIIIIIIZI', 'IIIIIIIZII', 'IIIIIIZIII', 'IIIIIZIIII', 'IIIIZIIIII', 'IIIZIIIIII', 'IIZIIIIIII', 'IZIIIIIIII', 'ZIIIIIIIII'],\n",
      "              coeffs=[0.05+0.j, 0.05+0.j, 0.05+0.j, 0.05+0.j, 0.05+0.j, 0.05+0.j, 0.05+0.j,\n",
      " 0.05+0.j, 0.05+0.j, 0.05+0.j])\n"
     ]
    }
   ],
   "source": [
    "from qiskit.transpiler import CouplingMap\n",
    "from qiskit.synthesis import SuzukiTrotter\n",
    "from qiskit.quantum_info import SparsePauliOp\n",
    "from qiskit.primitives import StatevectorEstimator\n",
    "from qiskit.providers.fake_provider import GenericBackendV2\n",
    "from qiskit.transpiler import generate_preset_pass_manager\n",
    "from qiskit_addon_utils.problem_generators import (\n",
    "    generate_xyz_hamiltonian,\n",
    "    generate_time_evolution_circuit,\n",
    ")\n",
    "from qiskit_addon_mpf.costs import (\n",
    "    setup_exact_problem,\n",
    "    setup_sum_of_squares_problem,\n",
    ")\n",
    "from qiskit_addon_mpf.static import setup_static_lse\n",
    "\n",
    "from scipy.linalg import expm\n",
    "import numpy as np\n",
    "\n",
    "# Generate some coupling map to use for this example\n",
    "coupling_map = CouplingMap.from_line(10, bidirectional=False)\n",
    "\n",
    "# Get a qubit operator describing the Ising field model\n",
    "hamiltonian = generate_xyz_hamiltonian(\n",
    "    coupling_map,\n",
    "    coupling_constants=(0.0, 0.0, 1.0),\n",
    "    ext_magnetic_field=(0.4, 0.0, 0.0),\n",
    ")\n",
    "print(f\"Hamiltonian:\\n {hamiltonian}\\n\")\n",
    "\n",
    "L = coupling_map.size()\n",
    "observable = SparsePauliOp.from_sparse_list(\n",
    "    [(\"Z\", [i], 1 / L / 2) for i in range(L)], num_qubits=L\n",
    ")\n",
    "print(f\"Observable:\\n {observable}\")"
   ]
  },
  {
   "cell_type": "markdown",
   "id": "e4ab867e-9d04-49f5-891a-a01e0ddc98d7",
   "metadata": {},
   "source": [
    "Next you prepare the MPF. The first choice to make is whether the coefficients will be static (time-independent) or dynamic; this tutorial uses a static MPF. The next choice to make is the set of $k_j$ values. This determines how many terms will be in the MPF, as well as how many Trotter steps each term uses to simulate the time evolution. The choice of $k_j$ values is heuristic, so you need to obtain your own set of \"good\" $k_j$ values. Read guidelines on finding a good set of values at the end of the [getting started page](/docs/guides/qiskit-addons-mpf#determine-mpf-coefficients).\n",
    "\n",
    "Then, once the $k_j$ values are determined, you can prepare the system of equations, $Ax=b$, to solve can be prepared. The matrix $A$ is also determined by the product formula to use. The choices here are its *order*, which is set to $2$ in this example, as well as whether or not the product formula should be *symmetric*, which is set to `True` for this example. The code snippet below selects a total time to evolve the system, the $k_j$ values to use, and the set of equations to solve using the [`qiskit_addon_mpf.static.setup_static_lse`](../api/qiskit-addon-mpf/static) method."
   ]
  },
  {
   "cell_type": "code",
   "execution_count": 2,
   "id": "a90e83b3-7314-4dd2-9f9a-86fd2d5e81ca",
   "metadata": {},
   "outputs": [
    {
     "name": "stdout",
     "output_type": "stream",
     "text": [
      "LSE(A=array([[1.00000000e+00, 1.00000000e+00, 1.00000000e+00],\n",
      "       [1.56250000e-02, 6.94444444e-03, 2.77008310e-03],\n",
      "       [2.44140625e-04, 4.82253086e-05, 7.67336039e-06]]), b=array([1., 0., 0.]))\n"
     ]
    }
   ],
   "source": [
    "time = 8.0\n",
    "trotter_steps = (8, 12, 19)\n",
    "\n",
    "lse = setup_static_lse(trotter_steps, order=2, symmetric=True)\n",
    "print(lse)"
   ]
  },
  {
   "cell_type": "markdown",
   "id": "0e01627b-27b8-4308-9023-4b006d73c9a5",
   "metadata": {},
   "source": [
    "Once the linear system of equations has been instantiated, it can be solved either exactly or through an approximate model using a sum of squares (or the Frobenius norm for dynamic coefficients; see the [API reference](../api/qiskit-addon-mpf/costs) for more information). The choice to use an approximate model typically arises when the norm of the coefficients for the chosen set of $k_j$ values is deemed too high and a different set of $k_j$ values cannot be chosen. This guide demonstrates both to compare the results."
   ]
  },
  {
   "cell_type": "code",
   "execution_count": 3,
   "id": "d2f308be-2c13-475c-b9a7-390883a620bc",
   "metadata": {},
   "outputs": [
    {
     "name": "stdout",
     "output_type": "stream",
     "text": [
      "Exact solution: [ 0.17239057 -1.19447005  2.02207947]\n",
      "Approximate solution: [-0.40454257  0.57553173  0.8290123 ]\n"
     ]
    }
   ],
   "source": [
    "model_exact, coeffs_exact = setup_exact_problem(lse)\n",
    "model_approx, coeffs_approx = setup_sum_of_squares_problem(\n",
    "    lse, max_l1_norm=3.0\n",
    ")\n",
    "model_exact.solve()\n",
    "model_approx.solve()\n",
    "print(f\"Exact solution: {coeffs_exact.value}\")\n",
    "print(f\"Approximate solution: {coeffs_approx.value}\")"
   ]
  },
  {
   "cell_type": "markdown",
   "id": "c0706fcd-cf2e-473b-8d5f-11e469f6883b",
   "metadata": {},
   "source": [
    "<Admonition type=\"note\">\n",
    "\n",
    "The `LSE` object also possesses an `LSE.solve()` method, which will solve the system of equations exactly. The reason that `setup_exact_problem()` is used in this guide is to demonstrate the interface provided by the other approximate methods.\n",
    "\n",
    "</Admonition>\n",
    "\n",
    "## Set up and execute Trotter circuits\n",
    "\n",
    "Now that the coefficients $x_j$ have been obtained, the last step is to generate the time evolution circuits for the order and chosen set of steps $k_j$ of the MPF. The `qiskit-addon-utils` package can accelerate this process."
   ]
  },
  {
   "cell_type": "code",
   "execution_count": 4,
   "id": "320332c1-d80e-4597-9eca-bc5e09fa9c58",
   "metadata": {},
   "outputs": [],
   "source": [
    "circuits = []\n",
    "for k in trotter_steps:\n",
    "    circ = generate_time_evolution_circuit(\n",
    "        hamiltonian,\n",
    "        synthesis=SuzukiTrotter(order=2, reps=k),\n",
    "        time=time,\n",
    "    )\n",
    "    circuits.append(circ)"
   ]
  },
  {
   "cell_type": "code",
   "execution_count": 5,
   "id": "6edb8bb0-30ee-416e-9804-84372ca091cf",
   "metadata": {},
   "outputs": [
    {
     "data": {
      "text/plain": [
       "<Image src=\"/docs/images/guides/qiskit-addons-mpf-get-started/extracted-outputs/6edb8bb0-30ee-416e-9804-84372ca091cf-0.svg\" alt=\"Output of the previous code cell\" />"
      ]
     },
     "execution_count": 5,
     "metadata": {},
     "output_type": "execute_result"
    }
   ],
   "source": [
    "circuits[0].draw(\"mpl\", fold=-1)"
   ]
  },
  {
   "cell_type": "code",
   "execution_count": 6,
   "id": "b2360c04-d2f8-4cfb-86c6-b05e71b9b708",
   "metadata": {},
   "outputs": [
    {
     "data": {
      "text/plain": [
       "<Image src=\"/docs/images/guides/qiskit-addons-mpf-get-started/extracted-outputs/b2360c04-d2f8-4cfb-86c6-b05e71b9b708-0.svg\" alt=\"Output of the previous code cell\" />"
      ]
     },
     "execution_count": 6,
     "metadata": {},
     "output_type": "execute_result"
    }
   ],
   "source": [
    "circuits[1].draw(\"mpl\", fold=-1)"
   ]
  },
  {
   "cell_type": "code",
   "execution_count": 7,
   "id": "2fbbe105-269e-4fb1-88b1-b0ba5acee229",
   "metadata": {},
   "outputs": [
    {
     "data": {
      "text/plain": [
       "<Image src=\"/docs/images/guides/qiskit-addons-mpf-get-started/extracted-outputs/2fbbe105-269e-4fb1-88b1-b0ba5acee229-0.svg\" alt=\"Output of the previous code cell\" />"
      ]
     },
     "execution_count": 7,
     "metadata": {},
     "output_type": "execute_result"
    }
   ],
   "source": [
    "circuits[2].draw(\"mpl\", fold=-1)"
   ]
  },
  {
   "cell_type": "markdown",
   "id": "b4eed205-0eee-477f-9b5e-a322779376e4",
   "metadata": {},
   "source": [
    "Once these circuits have been constructed, you can then transpile and execute them using a QPU. For this example, we'll just use one of the noise-free simulators to demonstrate how the Trotter error is reduced."
   ]
  },
  {
   "cell_type": "code",
   "execution_count": 8,
   "id": "519129e7-c3b7-40bb-880f-f670eb5ebf82",
   "metadata": {},
   "outputs": [
    {
     "name": "stdout",
     "output_type": "stream",
     "text": [
      "[array(0.23799162), array(0.35754312), array(0.38649906)]\n"
     ]
    }
   ],
   "source": [
    "backend = GenericBackendV2(num_qubits=10)\n",
    "transpiler = generate_preset_pass_manager(\n",
    "    optimization_level=2, backend=backend\n",
    ")\n",
    "\n",
    "transpiled_circuits = [transpiler.run(circ) for circ in circuits]\n",
    "\n",
    "\n",
    "estimator = StatevectorEstimator()\n",
    "job = estimator.run([(circ, observable) for circ in transpiled_circuits])\n",
    "result = job.result()\n",
    "\n",
    "mpf_evs = [res.data.evs for res in result]\n",
    "print(mpf_evs)"
   ]
  },
  {
   "cell_type": "markdown",
   "id": "451861d9-10df-4ad7-b2ac-c956f9ef4458",
   "metadata": {},
   "source": [
    "## Reconstruct results\n",
    "\n",
    "Now that the circuits have been executed, reconstructing the results is fairly straightforward. As mentioned in the [MPF overview](./qiskit-addons-mpf#theoretical-background) page, our observable is reconstructed through the weighted sum\n",
    "\n",
    "$$ \\langle M \\rangle = \\sum_j x_j \\langle M_j \\rangle. $$\n",
    "\n",
    "where $x_j$ are the coefficients we found and $\\langle M_j \\rangle$ is the estimation of the observable $\\sum_i \\langle Z_i \\rangle$ for each circuit. We can then compare the results we obtained with the exact value using the `scipy.linalg` package."
   ]
  },
  {
   "cell_type": "code",
   "execution_count": 9,
   "id": "58b3f6f2-a953-4591-8450-2217ba9dd717",
   "metadata": {},
   "outputs": [
    {
     "name": "stdout",
     "output_type": "stream",
     "text": [
      "Exact value: 0.4006024248789992\n",
      "PF with 19 steps: 0.38649906199774275\n",
      "MPF using exact solution: 0.39548478559799194\n",
      "MPF using approximate solution: 0.4299121425348995\n"
     ]
    }
   ],
   "source": [
    "exp_H = expm(-1j * time * hamiltonian.to_matrix())\n",
    "initial_state = np.zeros(exp_H.shape[0])\n",
    "initial_state[0] = 1.0\n",
    "\n",
    "time_evolved_state = exp_H @ initial_state\n",
    "exact_obs = (\n",
    "    time_evolved_state.conj() @ observable.to_matrix() @ time_evolved_state\n",
    ")\n",
    "\n",
    "\n",
    "# Print out the different observable measurements\n",
    "print(f\"Exact value: {exact_obs.real}\")\n",
    "print(f\"PF with 19 steps: {mpf_evs[-1]}\")\n",
    "print(f\"MPF using exact solution: {mpf_evs @ coeffs_exact.value}\")\n",
    "print(f\"MPF using approximate solution: {mpf_evs @ coeffs_approx.value}\")"
   ]
  },
  {
   "cell_type": "markdown",
   "id": "61847af1-981e-4ee5-a475-08d5067456c5",
   "metadata": {},
   "source": [
    "Here you can see that the MPF has reduced the Trotter error compared to the one obtained with just a single PF with $k_j=19$. However, the approximate model resulted in an expectation value that is worse than the exact model. This demonstrates the importance of using tight convergence criteria on the approximate model and finding a \"good\" set of $k_j$ values."
   ]
  }
 ],
 "metadata": {
  "description": "Get started using the MPF addon using the time evolution of an Ising chain as an example",
  "kernelspec": {
   "display_name": "Python 3",
   "language": "python",
   "name": "python3"
  },
  "language_info": {
   "codemirror_mode": {
    "name": "ipython",
    "version": 3
   },
   "file_extension": ".py",
   "mimetype": "text/x-python",
   "name": "python",
   "nbconvert_exporter": "python",
   "pygments_lexer": "ipython3",
   "version": "3"
  },
  "title": "Getting started with multi-product formulas (MPF)"
 },
 "nbformat": 4,
 "nbformat_minor": 2
}
