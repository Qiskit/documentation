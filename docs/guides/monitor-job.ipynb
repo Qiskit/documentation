{
 "cells": [
  {
   "cell_type": "markdown",
   "id": "810fe365-8557-46b0-97e7-324b08a1c6e2",
   "metadata": {},
   "source": [
    "# Monitor or cancel a job\n",
    "<LegacyContent>\n",
    "<Admonition type=\"note\">\n",
    "This documentation is relevant to IBM Quantum&reg; Platform Classic. If you need the newer version, go to the new [IBM Quantum Platform documentation.](https://quantum.cloud.ibm.com/docs/guides/monitor-job)\n",
    "</Admonition>\n",
    "</LegacyContent>\n",
    "<CloudContent>\n",
    "<Admonition type=\"note\">\n",
    "This documentation is relevant to the new IBM Quantum&reg; Platform. If you need the previous version, return to the [IBM Quantum Platform Classic documentation.](https://docs.quantum.ibm.com/guides/monitor-job)\n",
    "</Admonition>\n",
    "</CloudContent>\n",
    "<LegacyContent>\n",
    "Jobs are listed on the Workloads page for your quantum service channel:\n",
    "\n",
    "*   IBM Cloud&reg; channel: From the IBM Cloud console quantum [Instances page](https://cloud.ibm.com/quantum/instances), click the name of your instance, then click the Jobs tab.\n",
    "*   IBM Quantum&reg; channel: In IBM Quantum Platform, open the [Workloads page](https://quantum.ibm.com/workloads).\n",
    "</LegacyContent>\n",
    "<CloudContent>\n",
    "View a list of your workloads on the [Workloads page](https://quantum.cloud.ibm.com/workloads).\n",
    "</CloudContent>\n",
    "## Monitor a job\n",
    "\n",
    "Use the job instance to check the job status or retrieve the results by calling the appropriate command:\n",
    "\n",
    "|                               |                                                                                                                                                                                                              |\n",
    "| ----------------------------- | ------------------------------------------------------------------------------------------------------------------------------------------------------------------------------------------------------------ |\n",
    "| job.result()                  | Review job results immediately after the job completes. Job results are available after the job completes. Therefore, job.result() is a blocking call until the job completes.                               |\n",
    "| job.job\\_id()                 | Return the ID that uniquely identifies that job. Retrieving the job results at a later time requires the job ID. Therefore, it is recommended that you save the IDs of jobs you might want to retrieve later. |\n",
    "| job.status()                  | Check the job status.                                                                                                                                                                                        |\n",
    "| job = service.job(\\<job\\_id>) | Retrieve a job you previously submitted. This call requires the job ID.                                                                                                                                      |\n",
    "\n",
    "<span id=\"retrieve-later\"></span>\n",
    "## Retrieve job results at a later time\n",
    "\n",
    "Call `service.job(\\<job\\_id>)` to retrieve a job you previously submitted. If you don't have the job ID, or if you want to retrieve multiple jobs at once; including jobs from retired QPUs (quantum processing units), call `service.jobs()` with optional filters instead. See [QiskitRuntimeService.jobs](../api/qiskit-ibm-runtime/qiskit-runtime-service#jobs).\n",
    "\n",
    "<Admonition type=\"note\" title=\"Deprecated provider packages\">\n",
    "  `service.jobs()` also returns jobs run from the deprecated `qiskit-ibm-provider` package. Jobs submitted by the older (also deprecated) `qiskit-ibmq-provider` package are no longer available.\n",
    "</Admonition>\n",
    "\n",
    "### Example\n",
    "\n",
    "This example returns the 10 most recent runtime jobs that were run on `my_backend`:"
   ]
  },
  {
   "cell_type": "markdown",
   "id": "c67f78c5-a199-456a-a9e3-35c518b28f50",
   "metadata": {
    "tags": [
     "version-info"
    ]
   },
   "source": []
  },
  {
   "cell_type": "code",
   "execution_count": null,
   "id": "ee0318b6-0bfd-4f0b-b980-4e233a2d5d7b",
   "metadata": {
    "tags": [
     "remove-cell"
    ]
   },
   "outputs": [],
   "source": [
    "# This cell is hidden from users\n",
    "from qiskit import QuantumCircuit\n",
    "from qiskit.circuit import Parameter\n",
    "from qiskit.transpiler import generate_preset_pass_manager\n",
    "\n",
    "from qiskit_ibm_runtime import QiskitRuntimeService, SamplerV2\n",
    "import numpy as np\n",
    "\n",
    "\n",
    "my_backend = \"ibm_torino\"\n",
    "service = QiskitRuntimeService()\n",
    "# backend = service.backend(my_backend)\n",
    "backend = service.least_busy()\n",
    "\n",
    "# Define two circuits, each with one parameter with two parameters.\n",
    "circuit = QuantumCircuit(2)\n",
    "circuit.h(0)\n",
    "circuit.cx(0, 1)\n",
    "circuit.ry(Parameter(\"a\"), 0)\n",
    "circuit.cx(0, 1)\n",
    "circuit.h(0)\n",
    "circuit.measure_all()\n",
    "\n",
    "\n",
    "pm = generate_preset_pass_manager(optimization_level=1, backend=backend)\n",
    "transpiled_circuit = pm.run(circuit)\n",
    "\n",
    "params = np.random.uniform(size=(2, 3)).T\n",
    "\n",
    "sampler_pub = (transpiled_circuit, params)\n",
    "\n",
    "# Instantiate the new estimator object, then run the transpiled circuit\n",
    "# using the set of parameters and observables.\n",
    "sampler = SamplerV2(mode=backend)\n",
    "job = sampler.run([sampler_pub], shots=4)\n",
    "print(job.job_id())"
   ]
  },
  {
   "cell_type": "code",
   "execution_count": 92,
   "id": "03946d0d-aeac-45d7-9e8e-6af38e40e758",
   "metadata": {},
   "outputs": [
    {
     "name": "stdout",
     "output_type": "stream",
     "text": [
      "ExecutionSpans([DoubleSliceSpan(<start='2025-05-13 21:09:41', stop='2025-05-13 21:09:42', size=24>)])\n"
     ]
    }
   ],
   "source": [
    "result = job.result()\n",
    "\n",
    "\n",
    "spans = job.result().metadata[\"execution\"][\"execution_spans\"]\n",
    "print(spans)"
   ]
  },
  {
   "cell_type": "code",
   "execution_count": 90,
   "id": "897d35cb-140a-4587-a687-97982a01d846",
   "metadata": {},
   "outputs": [
    {
     "data": {
      "text/plain": [
       "array([[0.59989399, 0.01375162, 0.16726117],\n",
       "       [0.01981301, 0.42679907, 0.88858636]])"
      ]
     },
     "execution_count": 90,
     "metadata": {},
     "output_type": "execute_result"
    }
   ],
   "source": [
    "params = np.random.uniform(size=(2, 3))\n",
    "params"
   ]
  },
  {
   "cell_type": "code",
   "execution_count": 93,
   "id": "38176ecc-64fe-4dbb-a9fa-bd0ca2942920",
   "metadata": {},
   "outputs": [
    {
     "data": {
      "text/plain": [
       "array([[[ True,  True,  True,  True],\n",
       "        [ True,  True,  True,  True]],\n",
       "\n",
       "       [[ True,  True,  True,  True],\n",
       "        [ True,  True,  True,  True]],\n",
       "\n",
       "       [[ True,  True,  True,  True],\n",
       "        [ True,  True,  True,  True]]])"
      ]
     },
     "execution_count": 93,
     "metadata": {},
     "output_type": "execute_result"
    }
   ],
   "source": [
    "mask = spans[0].mask(0)\n",
    "mask"
   ]
  },
  {
   "cell_type": "code",
   "execution_count": null,
   "id": "4415838a-04da-4a8e-8fed-4c062d186ec7",
   "metadata": {},
   "outputs": [],
   "source": [
    "from qiskit_ibm_runtime import QiskitRuntimeService\n",
    "\n",
    "# Initialize the account first.\n",
    "service = QiskitRuntimeService()\n",
    "# Use `limit` to retrieve a specific number of jobs. The default `limit` is 10.\n",
    "service.jobs(backend_name=my_backend)"
   ]
  },
  {
   "cell_type": "markdown",
   "id": "59195a9f-8df8-46f7-9ea0-c3a9b8eb3cac",
   "metadata": {},
   "source": [
    "## Cancel a job\n",
    "\n",
    "You can cancel a job from the IBM Quantum Platform dashboard either on the Workloads page or the details page for a specific workload. On the Workloads page, click the overflow menu at the end of the row for that workload, and select Cancel. If you are on the details page for a specific workload, use the Actions dropdown at the top of the page, and select Cancel.\n",
    "\n",
    "In Qiskit, use `job.cancel()` to cancel a job.\n",
    "\n",
    "<span id=\"execution-spans\"></span>\n",
    "## View Sampler execution spans\n",
    "\n",
    "The results of [`SamplerV2`](/docs/api/qiskit-ibm-runtime/sampler-v2) jobs executed in Qiskit Runtime contain execution timing information in their metadata.\n",
    "This timing information can be used to place upper and lower timestamp bounds on when particular shots were executed on the QPU.\n",
    "Shots are grouped into [`ExecutionSpan`](/docs/api/qiskit-ibm-runtime/execution-span-execution-span) objects, each of which indicates a start time, a stop time, and a specification of which shots were collected in the span.\n",
    "\n",
    "An execution span specifies which data was executed during its window by providing an [`ExecutionSpan.mask`](/docs/api/qiskit-ibm-runtime/execution-span-execution-span#mask) method. This method, given any [Primitive Unified Block (PUB)](/docs/guides/primitive-input-output) index, returns a boolean mask that is `True` for all shots executed during its window. PUBs are indexed by the order in which they were given to the Sampler run call. If, for example, a PUB has shape `(2, 3)` and was run with four shots, then the mask's shape is `(2, 3, 4)`. See the [execution_span](/docs/api/qiskit-ibm-runtime/execution-span) API page for full details.\n",
    "\n",
    "Example:"
   ]
  },
  {
   "cell_type": "markdown",
   "id": "ae2820bc-c762-4d2e-944c-58cbc253acbe",
   "metadata": {},
   "source": [
    "To view execution span information, review the metadata of the result returned by `SamplerV2`, which comes in the form of an `ExecutionSpans` object. This object is a list-like container containing subclass instances of `ExecutionSpan`s such as `SliceSpan`:"
   ]
  },
  {
   "cell_type": "code",
   "execution_count": null,
   "id": "e025fe52-f626-4ecc-bd1d-d559a6fe9cc8",
   "metadata": {},
   "outputs": [],
   "source": [
    "from qiskit.primitives import BitArray\n",
    "\n",
    "# Get the mask of the 1st PUB for the 0th span.\n",
    "mask = spans[0].mask(0)\n",
    "\n",
    "# Decide whether the 0th shot of parameter set (1, 2) occurred in this span.\n",
    "in_this_span = mask[1, 2, 0]\n",
    "\n",
    "# Create a new bit array containing only the PUB-1 data collected during this span.\n",
    "bits = result[1].data.meas\n",
    "filtered_data = BitArray(bits.array[mask], bits.num_bits)"
   ]
  },
  {
   "cell_type": "markdown",
   "id": "40538c83-3ef9-426d-9a98-6c102cf56de0",
   "metadata": {},
   "source": [
    "Execution spans can be filtered to include information pertaining to specific PUBs, selected by their indices:"
   ]
  },
  {
   "cell_type": "code",
   "execution_count": null,
   "id": "71234371-5b93-42e3-add9-ce4133f9afc4",
   "metadata": {},
   "outputs": [],
   "source": [
    "# take the subset of spans that reference data in PUBs 0 or 2\n",
    "spans.filter_by_pub([0, 2])"
   ]
  },
  {
   "cell_type": "markdown",
   "id": "c02c3b66-f131-4d47-9321-d60924bd531c",
   "metadata": {},
   "source": [
    "View global information about the collection of execution spans:"
   ]
  },
  {
   "cell_type": "code",
   "execution_count": null,
   "id": "f2c25fbb-581d-4847-a098-99f409b79fad",
   "metadata": {},
   "outputs": [],
   "source": [
    "print(\"Number of execution spans:\", len(spans))\n",
    "print(\"  Start of the first span:\", spans.start)\n",
    "print(\"     End of the last span:\", spans.stop)\n",
    "print(\"       Total duration (s):\", spans.duration)"
   ]
  },
  {
   "cell_type": "markdown",
   "id": "f4b459b3-a79f-42a3-8853-1359fc966b8b",
   "metadata": {},
   "source": [
    "Extract and inspect a particular span:"
   ]
  },
  {
   "cell_type": "code",
   "execution_count": null,
   "id": "2321f876-3c5e-4d1d-906e-d4cad55866f2",
   "metadata": {},
   "outputs": [],
   "source": [
    "spans.sort()\n",
    "print(\" Start of first span:\", spans[0].start)\n",
    "print(\"   End of first span:\", spans[0].stop)\n",
    "print(\"#shots in first span:\", spans[0].size)"
   ]
  },
  {
   "cell_type": "markdown",
   "id": "c2abeb3d-4e4a-4c90-be59-16ec0e1be783",
   "metadata": {},
   "source": [
    "<Admonition type=\"note\">\n",
    "It is possible for time windows specified by distinct execution spans to overlap. This is not because a QPU was performing multiple executions at once, but is instead an artifact of certain classical processing that might happen concurrently with quantum execution. The guarantee being made is that the referenced data definitely occurred in the reported execution span, but not necessarily that the limits of the time window are as tight as possible.\n",
    "</Admonition>\n",
    "\n",
    "## Next steps\n",
    "\n",
    "<Admonition type=\"tip\" title=\"Recommendations\">\n",
    "    - Try the [Grover's algorithm](https://learning.quantum.ibm.com/tutorial/grovers-algorithm) tutorial.\n",
    "    - [Migrate from qiskit_ibm_provider](/docs/migration-guides/qiskit-runtime-from-ibm-provider)\n",
    "</Admonition>"
   ]
  }
 ],
 "metadata": {
  "description": "How to monitor or cancel a job submitted to IBM Quantum Platform or IBM Quantum on IBM Cloud",
  "kernelspec": {
   "display_name": "Python 3",
   "language": "python",
   "name": "python3"
  },
  "language_info": {
   "codemirror_mode": {
    "name": "ipython",
    "version": 3
   },
   "file_extension": ".py",
   "mimetype": "text/x-python",
   "name": "python",
   "nbconvert_exporter": "python",
   "pygments_lexer": "ipython3",
   "version": "3"
  },
  "title": "Monitor or cancel a job"
 },
 "nbformat": 4,
 "nbformat_minor": 4
}
