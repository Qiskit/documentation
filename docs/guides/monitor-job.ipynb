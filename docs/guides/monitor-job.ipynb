{
 "cells": [
  {
   "cell_type": "markdown",
   "id": "810fe365-8557-46b0-97e7-324b08a1c6e2",
   "metadata": {},
   "source": [
    "# Monitor or cancel a job\n",
    "<LegacyContent>\n",
    "<Admonition type=\"note\">\n",
    "This documentation is relevant to IBM Quantum&reg; Platform Classic. If you need the newer version, go to the new [IBM Quantum Platform documentation.](https://quantum.cloud.ibm.com/docs/guides/monitor-job)\n",
    "</Admonition>\n",
    "</LegacyContent>\n",
    "<CloudContent>\n",
    "<Admonition type=\"note\">\n",
    "This documentation is relevant to the new IBM Quantum&reg; Platform. If you need the previous version, return to the [IBM Quantum Platform Classic documentation.](https://docs.quantum.ibm.com/guides/monitor-job)\n",
    "</Admonition>\n",
    "</CloudContent>\n",
    "<LegacyContent>\n",
    "Jobs are listed on the Workloads page for your quantum service channel:\n",
    "\n",
    "*   IBM Cloud&reg; channel: From the IBM Cloud console quantum [Instances page](https://cloud.ibm.com/quantum/instances), click the name of your instance, then click the Jobs tab.\n",
    "*   IBM Quantum&reg; channel: In IBM Quantum Platform, open the [Workloads page](https://quantum.ibm.com/workloads).\n",
    "</LegacyContent>\n",
    "<CloudContent>\n",
    "View a list of your workloads on the [Workloads page](https://quantum.cloud.ibm.com/workloads).\n",
    "</CloudContent>\n",
    "## Monitor a job\n",
    "\n",
    "Use the job instance to check the job status or retrieve the results by calling the appropriate command:\n",
    "\n",
    "|                               |                                                                                                                                                                                                              |\n",
    "| ----------------------------- | ------------------------------------------------------------------------------------------------------------------------------------------------------------------------------------------------------------ |\n",
    "| job.result()                  | Review job results immediately after the job completes. Job results are available after the job completes. Therefore, job.result() is a blocking call until the job completes.                               |\n",
    "| job.job\\_id()                 | Return the ID that uniquely identifies that job. Retrieving the job results at a later time requires the job ID. Therefore, it is recommended that you save the IDs of jobs you might want to retrieve later. |\n",
    "| job.status()                  | Check the job status.                                                                                                                                                                                        |\n",
    "| job = service.job(\\<job\\_id>) | Retrieve a job you previously submitted. This call requires the job ID.                                                                                                                                      |\n",
    "\n",
    "<span id=\"retrieve-later\"></span>\n",
    "## Retrieve job results at a later time\n",
    "\n",
    "Call `service.job(\\<job\\_id>)` to retrieve a job you previously submitted. If you donâ€™t have the job ID, or if you want to retrieve multiple jobs at once; including jobs from retired QPUs (quantum processing units), call `service.jobs()` with optional filters instead. See [QiskitRuntimeService.jobs](../api/qiskit-ibm-runtime/qiskit-runtime-service#jobs).\n",
    "\n",
    "<Admonition type=\"note\" title=\"Deprecated provider packages\">\n",
    "  `service.jobs()` also returns jobs run from the deprecated `qiskit-ibm-provider` package. Jobs submitted by the older (also deprecated) `qiskit-ibmq-provider` package are no longer available.\n",
    "</Admonition>\n",
    "\n",
    "### Example\n",
    "\n",
    "This example returns the 10 most recent runtime jobs that were run on `my_backend`:"
   ]
  },
  {
   "cell_type": "code",
   "execution_count": 88,
   "id": "ee0318b6-0bfd-4f0b-b980-4e233a2d5d7b",
   "metadata": {
    "tags": [
     "remove-cell"
    ]
   },
   "outputs": [
    {
     "name": "stdout",
     "output_type": "stream",
     "text": [
      "d0hra01rim5s73ap6nc0\n"
     ]
    }
   ],
   "source": [
    "# This cell is hidden from users\n",
    "from qiskit import QuantumCircuit\n",
    "from qiskit.circuit import Parameter\n",
    "from qiskit.transpiler import generate_preset_pass_manager\n",
    "from qiskit_ibm_runtime import QiskitRuntimeService, SamplerV2\n",
    "import numpy as np\n",
    "\n",
    "\n",
    "my_backend = \"ibm_torino\"\n",
    "service = QiskitRuntimeService()\n",
    "# backend = service.backend(my_backend)\n",
    "backend = service.least_busy()\n",
    "\n",
    "# Define two circuits, each with one parameter with two parameters.\n",
    "circuit = QuantumCircuit(2)\n",
    "circuit.h(0)\n",
    "circuit.cx(0, 1)\n",
    "circuit.ry(Parameter(\"a\"), 0)\n",
    "circuit.cx(0, 1)\n",
    "circuit.h(0)\n",
    "circuit.measure_all()\n",
    "\n",
    "\n",
    "pm = generate_preset_pass_manager(optimization_level=1, backend=backend)\n",
    "transpiled_circuit = pm.run(circuit)\n",
    "\n",
    "params = np.random.uniform(size=(2, 3)).T\n",
    "\n",
    "sampler_pub = (transpiled_circuit, params)\n",
    "\n",
    "# Instantiate the new estimator object, then run the transpiled circuit\n",
    "# using the set of parameters and observables.\n",
    "sampler = SamplerV2(mode=backend)\n",
    "job = sampler.run([sampler_pub], shots=4)\n",
    "print(job.job_id())"
   ]
  },
  {
   "cell_type": "code",
   "execution_count": null,
   "id": "ba0ac91d-b44d-4b29-92cd-93b3346a60f3",
   "metadata": {},
   "outputs": [],
   "source": [
    "# This cell is hidden from users\n",
    "from qiskit import QuantumCircuit\n",
    "from qiskit.circuit import Parameter\n",
    "from qiskit.transpiler import generate_preset_pass_manager\n",
    "from qiskit_ibm_runtime import QiskitRuntimeService, SamplerV2\n",
    "import numpy as np\n",
    "\n",
    "service = QiskitRuntimeService()\n",
    "job = service.job(\"d0hra01rim5s73ap6nc0\")"
   ]
  },
  {
   "cell_type": "code",
   "execution_count": 101,
   "id": "7096a5a8-6152-4ebf-b859-5d8ef7723aac",
   "metadata": {},
   "outputs": [
    {
     "ename": "ModuleNotFoundError",
     "evalue": "The plotly Python package is required for visualization. Install all qiskit-ibm-runtime visualization dependencies with pip install 'qiskit-ibm-runtime[visualization]'.",
     "output_type": "error",
     "traceback": [
      "\u001b[0;31m---------------------------------------------------------------------------\u001b[0m",
      "\u001b[0;31mModuleNotFoundError\u001b[0m                       Traceback (most recent call last)",
      "File \u001b[0;32m~/.pyenv/versions/3.12.8/envs/qiskit-documentation-3.12/lib/python3.12/site-packages/qiskit_ibm_runtime/visualization/utils.py:39\u001b[0m, in \u001b[0;36mplotly_module\u001b[0;34m(submodule)\u001b[0m\n\u001b[1;32m     38\u001b[0m \u001b[38;5;28;01mtry\u001b[39;00m:\n\u001b[0;32m---> 39\u001b[0m     \u001b[38;5;28;01mreturn\u001b[39;00m \u001b[43mimportlib\u001b[49m\u001b[38;5;241;43m.\u001b[39;49m\u001b[43mimport_module\u001b[49m\u001b[43m(\u001b[49m\u001b[43msubmodule\u001b[49m\u001b[43m,\u001b[49m\u001b[43m \u001b[49m\u001b[38;5;124;43m\"\u001b[39;49m\u001b[38;5;124;43mplotly\u001b[39;49m\u001b[38;5;124;43m\"\u001b[39;49m\u001b[43m)\u001b[49m\n\u001b[1;32m     40\u001b[0m \u001b[38;5;28;01mexcept\u001b[39;00m (\u001b[38;5;167;01mModuleNotFoundError\u001b[39;00m, \u001b[38;5;167;01mImportError\u001b[39;00m) \u001b[38;5;28;01mas\u001b[39;00m ex:\n",
      "File \u001b[0;32m~/.pyenv/versions/3.12.8/lib/python3.12/importlib/__init__.py:90\u001b[0m, in \u001b[0;36mimport_module\u001b[0;34m(name, package)\u001b[0m\n\u001b[1;32m     89\u001b[0m         level \u001b[38;5;241m+\u001b[39m\u001b[38;5;241m=\u001b[39m \u001b[38;5;241m1\u001b[39m\n\u001b[0;32m---> 90\u001b[0m \u001b[38;5;28;01mreturn\u001b[39;00m \u001b[43m_bootstrap\u001b[49m\u001b[38;5;241;43m.\u001b[39;49m\u001b[43m_gcd_import\u001b[49m\u001b[43m(\u001b[49m\u001b[43mname\u001b[49m\u001b[43m[\u001b[49m\u001b[43mlevel\u001b[49m\u001b[43m:\u001b[49m\u001b[43m]\u001b[49m\u001b[43m,\u001b[49m\u001b[43m \u001b[49m\u001b[43mpackage\u001b[49m\u001b[43m,\u001b[49m\u001b[43m \u001b[49m\u001b[43mlevel\u001b[49m\u001b[43m)\u001b[49m\n",
      "File \u001b[0;32m<frozen importlib._bootstrap>:1387\u001b[0m, in \u001b[0;36m_gcd_import\u001b[0;34m(name, package, level)\u001b[0m\n",
      "File \u001b[0;32m<frozen importlib._bootstrap>:1360\u001b[0m, in \u001b[0;36m_find_and_load\u001b[0;34m(name, import_)\u001b[0m\n",
      "File \u001b[0;32m<frozen importlib._bootstrap>:1310\u001b[0m, in \u001b[0;36m_find_and_load_unlocked\u001b[0;34m(name, import_)\u001b[0m\n",
      "File \u001b[0;32m<frozen importlib._bootstrap>:488\u001b[0m, in \u001b[0;36m_call_with_frames_removed\u001b[0;34m(f, *args, **kwds)\u001b[0m\n",
      "File \u001b[0;32m<frozen importlib._bootstrap>:1387\u001b[0m, in \u001b[0;36m_gcd_import\u001b[0;34m(name, package, level)\u001b[0m\n",
      "File \u001b[0;32m<frozen importlib._bootstrap>:1360\u001b[0m, in \u001b[0;36m_find_and_load\u001b[0;34m(name, import_)\u001b[0m\n",
      "File \u001b[0;32m<frozen importlib._bootstrap>:1324\u001b[0m, in \u001b[0;36m_find_and_load_unlocked\u001b[0;34m(name, import_)\u001b[0m\n",
      "\u001b[0;31mModuleNotFoundError\u001b[0m: No module named 'plotly'",
      "\nThe above exception was the direct cause of the following exception:\n",
      "\u001b[0;31mModuleNotFoundError\u001b[0m                       Traceback (most recent call last)",
      "Cell \u001b[0;32mIn[101], line 3\u001b[0m\n\u001b[1;32m      1\u001b[0m \u001b[38;5;28;01mfrom\u001b[39;00m\u001b[38;5;250m \u001b[39m\u001b[38;5;21;01mqiskit_ibm_runtime\u001b[39;00m\u001b[38;5;21;01m.\u001b[39;00m\u001b[38;5;21;01mvisualization\u001b[39;00m\u001b[38;5;250m \u001b[39m\u001b[38;5;28;01mimport\u001b[39;00m draw_execution_spans\n\u001b[0;32m----> 3\u001b[0m \u001b[43mdraw_execution_spans\u001b[49m\u001b[43m(\u001b[49m\u001b[43mspans\u001b[49m\u001b[43m)\u001b[49m\n",
      "File \u001b[0;32m~/.pyenv/versions/3.12.8/envs/qiskit-documentation-3.12/lib/python3.12/site-packages/qiskit_ibm_runtime/visualization/draw_execution_spans.py:74\u001b[0m, in \u001b[0;36mdraw_execution_spans\u001b[0;34m(names, common_start, normalize_y, line_width, show_legend, *spans)\u001b[0m\n\u001b[1;32m     51\u001b[0m \u001b[38;5;28;01mdef\u001b[39;00m\u001b[38;5;250m \u001b[39m\u001b[38;5;21mdraw_execution_spans\u001b[39m(\n\u001b[1;32m     52\u001b[0m     \u001b[38;5;241m*\u001b[39mspans: ExecutionSpans,\n\u001b[1;32m     53\u001b[0m     names: \u001b[38;5;28mstr\u001b[39m \u001b[38;5;241m|\u001b[39m Iterable[\u001b[38;5;28mstr\u001b[39m] \u001b[38;5;241m|\u001b[39m \u001b[38;5;28;01mNone\u001b[39;00m \u001b[38;5;241m=\u001b[39m \u001b[38;5;28;01mNone\u001b[39;00m,\n\u001b[0;32m   (...)\u001b[0m\n\u001b[1;32m     57\u001b[0m     show_legend: \u001b[38;5;28mbool\u001b[39m \u001b[38;5;241m=\u001b[39m \u001b[38;5;28;01mNone\u001b[39;00m,\n\u001b[1;32m     58\u001b[0m ) \u001b[38;5;241m-\u001b[39m\u001b[38;5;241m>\u001b[39m PlotlyFigure:\n\u001b[1;32m     59\u001b[0m \u001b[38;5;250m    \u001b[39m\u001b[38;5;124;03m\"\"\"Draw one or more :class:`~.ExecutionSpans` on a bar plot.\u001b[39;00m\n\u001b[1;32m     60\u001b[0m \n\u001b[1;32m     61\u001b[0m \u001b[38;5;124;03m    Args:\u001b[39;00m\n\u001b[0;32m   (...)\u001b[0m\n\u001b[1;32m     72\u001b[0m \u001b[38;5;124;03m        A plotly figure.\u001b[39;00m\n\u001b[1;32m     73\u001b[0m \u001b[38;5;124;03m    \"\"\"\u001b[39;00m\n\u001b[0;32m---> 74\u001b[0m     go \u001b[38;5;241m=\u001b[39m \u001b[43mplotly_module\u001b[49m\u001b[43m(\u001b[49m\u001b[38;5;124;43m\"\u001b[39;49m\u001b[38;5;124;43m.graph_objects\u001b[39;49m\u001b[38;5;124;43m\"\u001b[39;49m\u001b[43m)\u001b[49m\n\u001b[1;32m     75\u001b[0m     colors \u001b[38;5;241m=\u001b[39m plotly_module(\u001b[38;5;124m\"\u001b[39m\u001b[38;5;124m.colors\u001b[39m\u001b[38;5;124m\"\u001b[39m)\u001b[38;5;241m.\u001b[39mqualitative\u001b[38;5;241m.\u001b[39mPlotly\n\u001b[1;32m     77\u001b[0m     fig \u001b[38;5;241m=\u001b[39m go\u001b[38;5;241m.\u001b[39mFigure()\n",
      "File \u001b[0;32m~/.pyenv/versions/3.12.8/envs/qiskit-documentation-3.12/lib/python3.12/site-packages/qiskit_ibm_runtime/visualization/utils.py:41\u001b[0m, in \u001b[0;36mplotly_module\u001b[0;34m(submodule)\u001b[0m\n\u001b[1;32m     39\u001b[0m     \u001b[38;5;28;01mreturn\u001b[39;00m importlib\u001b[38;5;241m.\u001b[39mimport_module(submodule, \u001b[38;5;124m\"\u001b[39m\u001b[38;5;124mplotly\u001b[39m\u001b[38;5;124m\"\u001b[39m)\n\u001b[1;32m     40\u001b[0m \u001b[38;5;28;01mexcept\u001b[39;00m (\u001b[38;5;167;01mModuleNotFoundError\u001b[39;00m, \u001b[38;5;167;01mImportError\u001b[39;00m) \u001b[38;5;28;01mas\u001b[39;00m ex:\n\u001b[0;32m---> 41\u001b[0m     \u001b[38;5;28;01mraise\u001b[39;00m \u001b[38;5;167;01mModuleNotFoundError\u001b[39;00m(\n\u001b[1;32m     42\u001b[0m         \u001b[38;5;124m\"\u001b[39m\u001b[38;5;124mThe plotly Python package is required for visualization. \u001b[39m\u001b[38;5;124m\"\u001b[39m\n\u001b[1;32m     43\u001b[0m         \u001b[38;5;124m\"\u001b[39m\u001b[38;5;124mInstall all qiskit-ibm-runtime visualization dependencies with \u001b[39m\u001b[38;5;124m\"\u001b[39m\n\u001b[1;32m     44\u001b[0m         \u001b[38;5;124m\"\u001b[39m\u001b[38;5;124mpip install \u001b[39m\u001b[38;5;124m'\u001b[39m\u001b[38;5;124mqiskit-ibm-runtime[visualization]\u001b[39m\u001b[38;5;124m'\u001b[39m\u001b[38;5;124m.\u001b[39m\u001b[38;5;124m\"\u001b[39m\n\u001b[1;32m     45\u001b[0m     ) \u001b[38;5;28;01mfrom\u001b[39;00m\u001b[38;5;250m \u001b[39m\u001b[38;5;21;01mex\u001b[39;00m\n",
      "\u001b[0;31mModuleNotFoundError\u001b[0m: The plotly Python package is required for visualization. Install all qiskit-ibm-runtime visualization dependencies with pip install 'qiskit-ibm-runtime[visualization]'."
     ]
    }
   ],
   "source": [
    "from qiskit_ibm_runtime.visualization import draw_execution_spans\n",
    "\n",
    "draw_execution_spans(spans)"
   ]
  },
  {
   "cell_type": "code",
   "execution_count": 92,
   "id": "03946d0d-aeac-45d7-9e8e-6af38e40e758",
   "metadata": {},
   "outputs": [
    {
     "name": "stdout",
     "output_type": "stream",
     "text": [
      "ExecutionSpans([DoubleSliceSpan(<start='2025-05-13 21:09:41', stop='2025-05-13 21:09:42', size=24>)])\n"
     ]
    }
   ],
   "source": [
    "result = job.result()\n",
    "\n",
    "\n",
    "spans = job.result().metadata[\"execution\"][\"execution_spans\"]\n",
    "print(spans)"
   ]
  },
  {
   "cell_type": "code",
   "execution_count": 90,
   "id": "897d35cb-140a-4587-a687-97982a01d846",
   "metadata": {},
   "outputs": [
    {
     "data": {
      "text/plain": [
       "array([[0.59989399, 0.01375162, 0.16726117],\n",
       "       [0.01981301, 0.42679907, 0.88858636]])"
      ]
     },
     "execution_count": 90,
     "metadata": {},
     "output_type": "execute_result"
    }
   ],
   "source": [
    "params = np.random.uniform(size=(2, 3))\n",
    "params"
   ]
  },
  {
   "cell_type": "code",
   "execution_count": 93,
   "id": "38176ecc-64fe-4dbb-a9fa-bd0ca2942920",
   "metadata": {},
   "outputs": [
    {
     "data": {
      "text/plain": [
       "array([[[ True,  True,  True,  True],\n",
       "        [ True,  True,  True,  True]],\n",
       "\n",
       "       [[ True,  True,  True,  True],\n",
       "        [ True,  True,  True,  True]],\n",
       "\n",
       "       [[ True,  True,  True,  True],\n",
       "        [ True,  True,  True,  True]]])"
      ]
     },
     "execution_count": 93,
     "metadata": {},
     "output_type": "execute_result"
    }
   ],
   "source": [
    "mask = spans[0].mask(0)\n",
    "mask"
   ]
  },
  {
   "cell_type": "code",
   "execution_count": null,
   "id": "4415838a-04da-4a8e-8fed-4c062d186ec7",
   "metadata": {},
   "outputs": [],
   "source": [
    "from qiskit_ibm_runtime import QiskitRuntimeService\n",
    "\n",
    "# Initialize the account first.\n",
    "service = QiskitRuntimeService()\n",
    "# Use `limit` to retrieve a specific number of jobs. The default `limit` is 10.\n",
    "service.jobs(backend_name=my_backend)"
   ]
  },
  {
   "cell_type": "markdown",
   "id": "59195a9f-8df8-46f7-9ea0-c3a9b8eb3cac",
   "metadata": {},
   "source": [
    "## Cancel a job\n",
    "\n",
    "You can cancel a job from the IBM Quantum Platform dashboard either on the Workloads page or the details page for a specific workload. On the Workloads page, click the overflow menu at the end of the row for that workload, and select Cancel. If you are on the details page for a specific workload, use the Actions dropdown at the top of the page, and select Cancel.\n",
    "\n",
    "In Qiskit, use `job.cancel()` to cancel a job.\n",
    "\n",
    "<span id=\"execution-spans\"></span>\n",
    "## View Sampler execution spans\n",
    "\n",
    "The results of [`SamplerV2`](/docs/api/qiskit-ibm-runtime/sampler-v2) jobs executed in Qiskit Runtime contain execution timing information in their metadata.\n",
    "This timing information can be used to place upper and lower timestamp bounds on when particular shots were executed on the QPU.\n",
    "Shots are grouped into [`ExecutionSpan`](/docs/api/qiskit-ibm-runtime/execution-span-execution-span) objects, each of which indicates a start time, a stop time, and a specification of which shots were collected in the span.\n",
    "\n",
    "An execution span specifies which data was executed during its window by providing an [`ExecutionSpan.mask`](/docs/api/qiskit-ibm-runtime/execution-span-execution-span#mask) method. This method, given any [Primitive Unified Block (PUB)](/docs/guides/primitive-input-output) index, returns a boolean mask that is `True` for all shots executed during its window. PUBs are indexed by the order in which they were given to the Sampler run call. If, for example, a PUB has shape `(2, 3)` and was run with four shots, then the mask's shape is `(2, 3, 4)`. See the [execution_span](/docs/api/qiskit-ibm-runtime/execution-span) API page for full details.\n",
    "\n",
    "Example:"
   ]
  },
  {
   "cell_type": "markdown",
   "id": "ae2820bc-c762-4d2e-944c-58cbc253acbe",
   "metadata": {},
   "source": [
    "To view execution span information, review the metadata of the result returned by `SamplerV2`, which comes in the form of an `ExecutionSpans` object. This object is a list-like container containing subclass instances of `ExecutionSpan`s such as `SliceSpan`:"
   ]
  },
  {
   "cell_type": "code",
   "execution_count": 94,
   "id": "e025fe52-f626-4ecc-bd1d-d559a6fe9cc8",
   "metadata": {},
   "outputs": [
    {
     "ename": "IndexError",
     "evalue": "index 2 is out of bounds for axis 1 with size 2",
     "output_type": "error",
     "traceback": [
      "\u001b[0;31m---------------------------------------------------------------------------\u001b[0m",
      "\u001b[0;31mIndexError\u001b[0m                                Traceback (most recent call last)",
      "Cell \u001b[0;32mIn[94], line 5\u001b[0m\n\u001b[1;32m      2\u001b[0m mask \u001b[38;5;241m=\u001b[39m spans[\u001b[38;5;241m0\u001b[39m]\u001b[38;5;241m.\u001b[39mmask(\u001b[38;5;241m0\u001b[39m)\n\u001b[1;32m      4\u001b[0m \u001b[38;5;66;03m# Decide whether the 0th shot of parameter set (1, 2) occurred in this span.\u001b[39;00m\n\u001b[0;32m----> 5\u001b[0m in_this_span \u001b[38;5;241m=\u001b[39m \u001b[43mmask\u001b[49m\u001b[43m[\u001b[49m\u001b[38;5;241;43m1\u001b[39;49m\u001b[43m,\u001b[49m\u001b[43m \u001b[49m\u001b[38;5;241;43m2\u001b[39;49m\u001b[43m,\u001b[49m\u001b[43m \u001b[49m\u001b[38;5;241;43m0\u001b[39;49m\u001b[43m]\u001b[49m\n\u001b[1;32m      7\u001b[0m \u001b[38;5;66;03m# Create a new bit array containing only the PUB-1 data collected during this span.\u001b[39;00m\n\u001b[1;32m      8\u001b[0m bits \u001b[38;5;241m=\u001b[39m pub_results[\u001b[38;5;241m1\u001b[39m]\u001b[38;5;241m.\u001b[39mdata\u001b[38;5;241m.\u001b[39mmeas\n",
      "\u001b[0;31mIndexError\u001b[0m: index 2 is out of bounds for axis 1 with size 2"
     ]
    }
   ],
   "source": [
    "# Get the mask of the 1st PUB for the 0th span.\n",
    "mask = spans[0].mask(0)\n",
    "\n",
    "# Decide whether the 0th shot of parameter set (1, 2) occurred in this span.\n",
    "in_this_span = mask[1, 2, 0]\n",
    "\n",
    "# Create a new bit array containing only the PUB-1 data collected during this span.\n",
    "bits = pub_results[1].data.meas\n",
    "filtered_data = BitArray(bits.array[mask], bits.num_bits)"
   ]
  },
  {
   "cell_type": "markdown",
   "id": "40538c83-3ef9-426d-9a98-6c102cf56de0",
   "metadata": {},
   "source": [
    "Execution spans can be filtered to include information pertaining to specific PUBs, selected by their indices:"
   ]
  },
  {
   "cell_type": "code",
   "execution_count": null,
   "id": "71234371-5b93-42e3-add9-ce4133f9afc4",
   "metadata": {},
   "outputs": [],
   "source": [
    "# take the subset of spans that reference data in PUBs 0 or 2\n",
    "spans.filter_by_pub([0, 2])"
   ]
  },
  {
   "cell_type": "markdown",
   "id": "c02c3b66-f131-4d47-9321-d60924bd531c",
   "metadata": {},
   "source": [
    "View global information about the collection of execution spans:"
   ]
  },
  {
   "cell_type": "code",
   "execution_count": null,
   "id": "f2c25fbb-581d-4847-a098-99f409b79fad",
   "metadata": {},
   "outputs": [],
   "source": [
    "print(\"Number of execution spans:\", len(spans))\n",
    "print(\"  Start of the first span:\", spans.start)\n",
    "print(\"     End of the last span:\", spans.stop)\n",
    "print(\"       Total duration (s):\", spans.duration)"
   ]
  },
  {
   "cell_type": "markdown",
   "id": "f4b459b3-a79f-42a3-8853-1359fc966b8b",
   "metadata": {},
   "source": [
    "Extract and inspect a particular span:"
   ]
  },
  {
   "cell_type": "code",
   "execution_count": null,
   "id": "2321f876-3c5e-4d1d-906e-d4cad55866f2",
   "metadata": {},
   "outputs": [],
   "source": [
    "spans.sort()\n",
    "print(\" Start of first span:\", spans[0].start)\n",
    "print(\"   End of first span:\", spans[0].stop)\n",
    "print(\"#shots in first span:\", spans[0].size)"
   ]
  },
  {
   "cell_type": "markdown",
   "id": "c2abeb3d-4e4a-4c90-be59-16ec0e1be783",
   "metadata": {},
   "source": [
    "<Admonition type=\"note\">\n",
    "It is possible for time windows specified by distinct execution spans to overlap. This is not because a QPU was performing multiple executions at once, but is instead an artifact of certain classical processing that might happen concurrently with quantum execution. The guarantee being made is that the referenced data definitely occurred in the reported execution span, but not necessarily that the limits of the time window are as tight as possible.\n",
    "</Admonition>\n",
    "\n",
    "## Next steps\n",
    "\n",
    "<Admonition type=\"tip\" title=\"Recommendations\">\n",
    "    - Try the [Grover's algorithm](https://learning.quantum.ibm.com/tutorial/grovers-algorithm) tutorial.\n",
    "    - [Migrate from qiskit_ibm_provider](/docs/migration-guides/qiskit-runtime-from-ibm-provider)\n",
    "</Admonition>"
   ]
  }
 ],
 "metadata": {
  "description": "How to monitor or cancel a job submitted to IBM Quantum Platform or IBM Quantum on IBM Cloud",
  "kernelspec": {
   "display_name": "Python 3",
   "language": "python",
   "name": "python3"
  },
  "language_info": {
   "codemirror_mode": {
    "name": "ipython",
    "version": 3
   },
   "file_extension": ".py",
   "mimetype": "text/x-python",
   "name": "python",
   "nbconvert_exporter": "python",
   "pygments_lexer": "ipython3",
   "version": "3"
  },
  "title": "Monitor or cancel a job"
 },
 "nbformat": 4,
 "nbformat_minor": 4
}
