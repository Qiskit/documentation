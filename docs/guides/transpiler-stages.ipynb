{
 "cells": [
  {
   "cell_type": "markdown",
   "id": "f2f7c189-f44e-41f8-a854-105b3bc49397",
   "metadata": {},
   "source": [
    "# Transpiler stages"
   ]
  },
  {
   "cell_type": "markdown",
   "id": "ad073954-5ac3-4291-bbef-5ae4b9db1da9",
   "metadata": {
    "tags": [
     "version-info"
    ]
   },
   "source": [
    "<details>\n",
    "<summary><b>Package versions</b></summary>\n",
    "\n",
    "The code on this page was developed using the following requirements.\n",
    "We recommend using these versions or newer.\n",
    "\n",
    "```\n",
    "qiskit[all]~=2.0.0\n",
    "qiskit-ibm-runtime~=0.37.0\n",
    "```\n",
    "</details>"
   ]
  },
  {
   "cell_type": "markdown",
   "id": "e7ea0c93-e691-4130-b614-187346a9e149",
   "metadata": {},
   "source": [
    "This page describes the stages of prebuilt transpilation pipeline in the Qiskit SDK. There are six stages:\n",
    "\n",
    "1. `init`\n",
    "2. `layout`\n",
    "3. `routing`\n",
    "4. `translation`\n",
    "5. `optimization`\n",
    "6. `scheduling`\n",
    "\n",
    "The [`generate_preset_pass_manager`](/docs/api/qiskit/qiskit.transpiler.generate_preset_pass_manager#qiskit.transpiler.generate_preset_pass_manager) function creates a preset [staged pass manager](/docs/api/qiskit/qiskit.transpiler.StagedPassManager) composed of these stages. The specific passes that make up each stage depends on the arguments passed to `generate_preset_pass_manager`. The `optimization_level` is a positional argument that must be specified; it is an integer that can be 0, 1, 2, or 3. Higher values indicate heavier but more costly optimization (see [Transpilation defaults and configuration options](defaults-and-configuration-options)).\n",
    "\n",
    "The recommended way to transpile a circuit is to create a preset staged pass manager and then run that pass manager on the circuit, as described in [Transpile with pass managers](transpile-with-pass-managers). However, a simpler but less customizable alternative is to use the [`transpile`](/docs/api/qiskit/compiler#qiskit.compiler.transpile) function. This function accepts the circuit directly as an argument. As with `generate_preset_pass_manager`, the specific transpiler passes used depend on the arguments, such as `optimization_level`, passed to `transpile`. In fact, internally the `transpile` function calls `generate_preset_pass_manager` to create a preset staged pass manager and runs it on the circuit."
   ]
  },
  {
   "cell_type": "markdown",
   "id": "b17ff66d-44f9-4b61-b7d1-0833dd3cb258",
   "metadata": {},
   "source": [
    "## Init stage\n",
    "\n",
    "This first stage does very little by default and is primarily useful if you want to include your own initial optimizations.  Because most layout and routing algorithms are only designed to work with single- and two-qubit gates, this stage is also used to translate any gates that operate on more than two qubits, into gates that only operate on one or two qubits.\n",
    "\n",
    "For more information about implementing your own initial optimizations for this stage, see the section on plugins and customizing pass managers."
   ]
  },
  {
   "cell_type": "markdown",
   "id": "895275e3-913c-482f-aaaa-0232865ba5f6",
   "metadata": {},
   "source": [
    "## Layout stage\n",
    "The next stage involves the layout or connectivity of the backend a circuit will be sent to.  In general, quantum circuits are abstract entities whose qubits are \"virtual\" or \"logical\" representations of actual qubits used in computations.  To execute a sequence of gates, a one-to-one mapping from the \"virtual\" qubits to the \"physical\" qubits in an actual quantum device is necessary.  This mapping is stored as a `Layout` object and is part of the constraints defined within a backend's [instruction set architecture (ISA)](./transpile#instruction-set-architecture).\n",
    "\n",
    "\n",
    "![This image illustrates qubits being mapped from the wire representation to a diagram that represents how the qubits are connected on the QPU.](/docs/images/guides/transpiler-stages/layout-mapping.avif \"Qubit mapping\")\n",
    "\n",
    "The choice of mapping is extremely important for minimizing the number of SWAP operations needed to map the input circuit onto the device topology and ensure the most well-calibrated qubits are used.  Due to the importance of this stage, the preset pass managers try a few different methods to find the best layout.  Typically this involves two steps: first, try to find a \"perfect\" layout (a layout that does not require any SWAP operations), and then, a heuristic pass that tries to find the best layout to use if a perfect layout cannot be found.  There are two `Passes` typically used for this first step:\n",
    "\n",
    "- `TrivialLayout`: Naively maps each virtual qubit to the same numbered physical qubit on the device (i.e., [`0`,`1`,`1`,`3`] -> [`0`,`1`,`1`,`3`]).  This is historical behavior only used in `optimzation_level=1` to try to find a perfect layout.  If it fails, `VF2Layout` is tried next.\n",
    "- `VF2Layout`: This is an `AnalysisPass` that selects an ideal layout by treating this stage as a subgraph isomorphism problem, solved by the VF2++ algorithm.  If more than one layout is found, a scoring heuristic is run to select the mapping with the lowest average error.\n",
    "\n",
    "Then for the heuristic stage, two passes are used by default:\n",
    "\n",
    "- `DenseLayout`: Finds the sub-graph of the device with the greatest connectivity and that has the same number of qubits as the circuit  (used for optimization level 1 if there are control flow operations (such as IfElseOp) present in the circuit).\n",
    "- `SabreLayout`: This pass selects a layout by starting from an initial random layout and repeatedly running the `SabreSwap` algorithm.  This pass is only used in optimization levels 1, 2, and 3 if a perfect layout isn't found via the `VF2Layout` pass.  For more details on this algorithm, refer to the paper [arXiv:1809.02573.](https://arxiv.org/abs/1809.02573)"
   ]
  },
  {
   "cell_type": "markdown",
   "id": "4d34dc67-5c9e-4b74-b8ee-06f336599621",
   "metadata": {},
   "source": [
    "## Routing stage\n",
    "\n",
    "In order to implement a two-qubit gate between qubits that are not directly connected on a quantum device, one or more SWAP gates must be inserted into the circuit to move the qubit states around until they are adjacent on the device gate map.  Each SWAP gate represents an expensive and noisy operation to perform.  Thus, finding the minimum number of SWAP gates needed to map a circuit onto a given device is an important step in the transpilation process.  For efficiency, this stage is typically computed alongside the Layout stage by default, but they are logically distinct from one another.  The *Layout* stage selects the hardware qubits to be used, while the *Routing* stage inserts the appropriate amount of SWAP gates in order to execute the circuits using the selected layout.\n",
    "\n",
    "However, finding the optimal SWAP mapping is hard.  In fact, it is an NP-hard problem, and is thus prohibitively expensive to compute for all but the smallest quantum devices and input circuits.  To work around this, Qiskit uses a stochastic heuristic algorithm called `SabreSwap` to compute a good, but not necessarily optimal, SWAP mapping. The use of a stochastic method means that the circuits generated are not guaranteed to be the same over repeated runs.  Indeed, running the same circuit repeatedly results in a distribution of circuit depths and gate counts at the output.  It is for this reason that many users choose to run the routing function (or the entire `StagedPassManager`) many times and select the lowest-depth circuits from the distribution of outputs.\n",
    "\n",
    "For example, let's take a 15-qubit GHZ circuit executed 100 times, using a “bad” (disconnected) `initial_layout`."
   ]
  },
  {
   "cell_type": "code",
   "execution_count": 1,
   "id": "358cfb50-02fc-48f2-a4ec-657837e0c304",
   "metadata": {
    "tags": []
   },
   "outputs": [
    {
     "data": {
      "text/plain": [
       "Text(0, 0.5, 'Counts')"
      ]
     },
     "execution_count": 1,
     "metadata": {},
     "output_type": "execute_result"
    },
    {
     "data": {
      "text/plain": [
       "<Image src=\"/docs/images/guides/transpiler-stages/extracted-outputs/358cfb50-02fc-48f2-a4ec-657837e0c304-1.svg\" alt=\"Output of the previous code cell\" />"
      ]
     },
     "metadata": {},
     "output_type": "display_data"
    }
   ],
   "source": [
    "import matplotlib.pyplot as plt\n",
    "from qiskit import QuantumCircuit\n",
    "from qiskit_ibm_runtime.fake_provider import FakeAuckland, FakeWashingtonV2\n",
    "from qiskit.transpiler import generate_preset_pass_manager\n",
    "\n",
    "backend = FakeAuckland()\n",
    "\n",
    "ghz = QuantumCircuit(15)\n",
    "ghz.h(0)\n",
    "ghz.cx(0, range(1, 15))\n",
    "\n",
    "depths = []\n",
    "for seed in range(100):\n",
    "    pass_manager = generate_preset_pass_manager(\n",
    "        optimization_level=1,\n",
    "        backend=backend,\n",
    "        layout_method=\"trivial\",  # Fixed layout mapped in circuit order\n",
    "        seed_transpiler=seed,  # For reproducible results\n",
    "    )\n",
    "    depths.append(pass_manager.run(ghz).depth())\n",
    "\n",
    "plt.figure(figsize=(8, 6))\n",
    "plt.hist(depths, align=\"left\", color=\"#AC557C\")\n",
    "plt.xlabel(\"Depth\", fontsize=14)\n",
    "plt.ylabel(\"Counts\", fontsize=14)"
   ]
  },
  {
   "cell_type": "markdown",
   "id": "558e3bea-431e-4ff1-ac4b-54cfb1eeb9e4",
   "metadata": {},
   "source": [
    "This wide distribution demonstrates how difficult it is for the SWAP mapper to compute the best mapping.  To gain some insight, let's look at both the circuit being executed as well as the qubits that were chosen on the hardware."
   ]
  },
  {
   "cell_type": "code",
   "execution_count": 2,
   "id": "bb3b8c1f-69fd-4e0c-9b78-9ee67f3361bb",
   "metadata": {},
   "outputs": [
    {
     "data": {
      "text/plain": [
       "<Image src=\"/docs/images/guides/transpiler-stages/extracted-outputs/bb3b8c1f-69fd-4e0c-9b78-9ee67f3361bb-0.svg\" alt=\"Output of the previous code cell\" />"
      ]
     },
     "execution_count": 2,
     "metadata": {},
     "output_type": "execute_result"
    }
   ],
   "source": [
    "ghz.draw(\"mpl\", idle_wires=False)"
   ]
  },
  {
   "cell_type": "code",
   "execution_count": 3,
   "id": "e4cd49ef-5b3e-4ee0-82f8-c83e1f0ae755",
   "metadata": {},
   "outputs": [
    {
     "data": {
      "text/plain": [
       "<Image src=\"/docs/images/guides/transpiler-stages/extracted-outputs/e4cd49ef-5b3e-4ee0-82f8-c83e1f0ae755-0.svg\" alt=\"Output of the previous code cell\" />"
      ]
     },
     "execution_count": 3,
     "metadata": {},
     "output_type": "execute_result"
    }
   ],
   "source": [
    "from qiskit.visualization import plot_circuit_layout\n",
    "\n",
    "# Plot the hardware graph and indicate which hardware qubits were chosen to run the circuit\n",
    "transpiled_circ = pass_manager.run(ghz)\n",
    "plot_circuit_layout(transpiled_circ, backend)"
   ]
  },
  {
   "cell_type": "markdown",
   "id": "f88a25c8-2449-47de-a8e3-05726b33f35f",
   "metadata": {},
   "source": [
    "As you can see, this circuit has to execute a two-qubit gate between qubits 0 and 14, which are very far apart on the connectivity graph.  Running this circuit thus requires inserting SWAP gates to execute all of the two-qubit gates using the `SabreSwap` pass.\n",
    "\n",
    "Note also that the `SabreSwap` algorithm is different from the larger `SabreLayout` method in the previous stage.  By default, `SabreLayout` runs both layout and routing, and returns the transformed circuit.  This is done for a few particular technical reasons specified in the pass's [API reference page](../api/qiskit/qiskit.transpiler.passes.SabreLayout)."
   ]
  },
  {
   "cell_type": "markdown",
   "id": "87ea7bc5-15d6-4723-a0a0-a72b641fb467",
   "metadata": {},
   "source": [
    "## Translation stage\n",
    "\n",
    "When writing a quantum circuit, you are free to use any quantum gate (unitary operation) that you like, along with a collection of non-gate operations such as qubit measurement or reset instructions.  However, most quantum devices only natively support a handful of quantum gate and non-gate operations.  These native gates are part of the definition of a target's [ISA](./transpile#instruction-set-architecture) and this stage of the preset `PassManagers`  translates (or *unrolls*) the gates specified in a circuit to the native basis gates of a specified backend.  This is an important step, as it allows the circuit to be executed by the backend, but typically leads to an increase in the depth and number of gates.\n",
    "\n",
    "Two special cases are especially important to highlight, and help illustrate what this stage does.\n",
    "\n",
    "1. If a SWAP gate is not a native gate to the target backend, this requires three CNOT gates:"
   ]
  },
  {
   "cell_type": "code",
   "execution_count": 4,
   "id": "31fcf8b6-4f3a-460e-90fd-446813bd4f28",
   "metadata": {
    "tags": []
   },
   "outputs": [
    {
     "name": "stdout",
     "output_type": "stream",
     "text": [
      "native gates:['cx', 'delay', 'for_loop', 'id', 'if_else', 'measure', 'reset', 'rz', 'switch_case', 'sx', 'x']\n"
     ]
    },
    {
     "data": {
      "text/plain": [
       "<Image src=\"/docs/images/guides/transpiler-stages/extracted-outputs/31fcf8b6-4f3a-460e-90fd-446813bd4f28-1.svg\" alt=\"Output of the previous code cell\" />"
      ]
     },
     "execution_count": 4,
     "metadata": {},
     "output_type": "execute_result"
    }
   ],
   "source": [
    "print(\"native gates:\" + str(sorted(backend.operation_names)))\n",
    "qc = QuantumCircuit(2)\n",
    "qc.swap(0, 1)\n",
    "qc.decompose().draw(\"mpl\")"
   ]
  },
  {
   "cell_type": "markdown",
   "id": "fa86c03c-f290-472a-9350-83a885ae3c6a",
   "metadata": {},
   "source": [
    "As a product of three CNOT gates, a SWAP is an expensive operation to perform on noisy quantum devices.  However, such operations are usually necessary for embedding a circuit into the limited gate connectivities of many devices.  Thus, minimizing the number of SWAP gates in a circuit is a primary goal in the transpilation process.\n",
    "\n",
    "2. A Toffoli, or controlled-controlled-not gate (`ccx`), is a three-qubit gate.  Given that our basis gate set includes only single- and two-qubit gates, this operation must be decomposed.  However, it is quite costly:"
   ]
  },
  {
   "cell_type": "code",
   "execution_count": 5,
   "id": "8a2c1913-3324-44b0-859e-d7fd348161c3",
   "metadata": {},
   "outputs": [
    {
     "data": {
      "text/plain": [
       "<Image src=\"/docs/images/guides/transpiler-stages/extracted-outputs/8a2c1913-3324-44b0-859e-d7fd348161c3-0.svg\" alt=\"Output of the previous code cell\" />"
      ]
     },
     "execution_count": 5,
     "metadata": {},
     "output_type": "execute_result"
    }
   ],
   "source": [
    "qc = QuantumCircuit(3)\n",
    "qc.ccx(0, 1, 2)\n",
    "qc.decompose().draw(\"mpl\")"
   ]
  },
  {
   "cell_type": "markdown",
   "id": "6c6a13b1-b843-4f74-b712-61b6de99c17f",
   "metadata": {},
   "source": [
    "For every Toffoli gate in a quantum circuit, the hardware may execute up to six CNOT gates and a handful of single-qubit gates.  This example demonstrates that any algorithm making use of multiple Toffoli gates will end up as a circuit with large depth and will therefore be appreciably affected by noise."
   ]
  },
  {
   "cell_type": "markdown",
   "id": "3832f808-4612-497b-8d50-c76d6da49eb0",
   "metadata": {},
   "source": [
    "## Optimization stage\n",
    "\n",
    "This stage centers around decomposing quantum circuits into the basis gate set of the target device, and must fight against the increased depth from the layout and routing stages.  Fortunately, there are many routines for optimizing circuits by either combining or eliminating gates.  In some cases, these methods are so effective that the output circuits have lower depth than the inputs, even after layout and routing to the hardware topology.  In other cases, not much can be done, and the computation may be difficult to perform on noisy devices.  This stage is where the various optimization levels begin to differ.\n",
    "\n",
    "- For `optimization_level=1`, this stage prepares [`Optimize1qGatesDecomposition`](../api/qiskit/qiskit.transpiler.passes.Optimize1qGatesDecomposition) and [`CXCancellation`](/docs/api/qiskit/1.4/qiskit.transpiler.passes.CXCancellation), which combine chains of single-qubit gates and cancel any back-to-back CNOT gates.\n",
    "- For `optimization_level=2`, this stage uses the [`CommutativeCancellation`](../api/qiskit/qiskit.transpiler.passes.CommutativeCancellation) pass instead of `CXCancellation`, which removes redundant gates by exploiting commutation relations.\n",
    "- For `optimization_level=3`, this stage prepares the following passes:\n",
    "  - [`Collect2qBlocks`](../api/qiskit/qiskit.transpiler.passes.Collect2qBlocks)\n",
    "  - [`ConsolidateBlocks`](../api/qiskit/qiskit.transpiler.passes.ConsolidateBlocks)\n",
    "  - [`UnitarySynthesis`](../api/qiskit/qiskit.transpiler.passes.UnitarySynthesis)\n",
    "  - [`Optimize1qGateDecomposition`](../api/qiskit/qiskit.transpiler.passes.Optimize1qGatesDecomposition)\n",
    "  - [`CommutativeCancellation`](../api/qiskit/qiskit.transpiler.passes.CommutativeCancellation)\n",
    "\n",
    "\n",
    "Additionally, this stage also executes a few final checks to make sure that all instructions in the circuit are composed of the basis gates available on the target backend.\n",
    "\n",
    "The example below using a GHZ state demonstrates the effects of different optimization level settings on circuit depth and gate count.\n",
    "\n",
    "<Admonition type=\"note\">\n",
    "  The transpilation output varies due to the stochastic SWAP mapper. Therefore, the numbers below will likely change each time you run the code.\n",
    "</Admonition>\n",
    "\n",
    "![15-qubit GHZ state](/docs/images/guides/transpiler-stages/transpiler-11.avif \"15-qubit GHZ state before transpilation\")\n",
    "\n",
    "The following code constructs a 15-qubit GHZ state and compares the `optimization_levels` of transpilation in terms of resulting circuit depth, gate counts, and multi-qubit gate counts."
   ]
  },
  {
   "cell_type": "code",
   "execution_count": 6,
   "id": "2507de9c-1b94-4d56-b5a6-0b2bb1719a80",
   "metadata": {
    "tags": []
   },
   "outputs": [
    {
     "data": {
      "text/plain": [
       "<Image src=\"/docs/images/guides/transpiler-stages/extracted-outputs/2507de9c-1b94-4d56-b5a6-0b2bb1719a80-0.svg\" alt=\"Output of the previous code cell\" />"
      ]
     },
     "metadata": {},
     "output_type": "display_data"
    }
   ],
   "source": [
    "ghz = QuantumCircuit(15)\n",
    "ghz.h(0)\n",
    "ghz.cx(0, range(1, 15))\n",
    "\n",
    "depths = []\n",
    "gate_counts = []\n",
    "multiqubit_gate_counts = []\n",
    "levels = [str(x) for x in range(4)]\n",
    "for level in range(4):\n",
    "    pass_manager = generate_preset_pass_manager(\n",
    "        optimization_level=level,\n",
    "        backend=backend,\n",
    "        seed_transpiler=1234,\n",
    "    )\n",
    "    circ = pass_manager.run(ghz)\n",
    "    depths.append(circ.depth())\n",
    "    gate_counts.append(sum(circ.count_ops().values()))\n",
    "    multiqubit_gate_counts.append(circ.count_ops()[\"cx\"])\n",
    "\n",
    "fig, (ax1, ax2) = plt.subplots(2, 1)\n",
    "ax1.bar(levels, depths, label=\"Depth\")\n",
    "ax1.set_xlabel(\"Optimization Level\")\n",
    "ax1.set_ylabel(\"Depth\")\n",
    "ax1.set_title(\"Output Circuit Depth\")\n",
    "ax2.bar(levels, gate_counts, label=\"Number of Circuit Operations\")\n",
    "ax2.bar(levels, multiqubit_gate_counts, label=\"Number of CX gates\")\n",
    "ax2.set_xlabel(\"Optimization Level\")\n",
    "ax2.set_ylabel(\"Number of gates\")\n",
    "ax2.legend()\n",
    "ax2.set_title(\"Number of output circuit gates\")\n",
    "fig.tight_layout()\n",
    "plt.show()"
   ]
  },
  {
   "cell_type": "markdown",
   "id": "997073d0-0d92-40a8-8152-2ffc2e45884f",
   "metadata": {},
   "source": [
    "## Scheduling\n",
    "\n",
    "This last stage is only run if it is explicitly called for (similar to the Init stage) and does not run by default (though a method can be specified by setting the `scheduling_method` argument when calling `generate_preset_pass_manager`).  The scheduling stage is typically used once the circuit has been translated to the target basis, mapped to the device, and optimized.  These passes focus on accounting for all the idle time in a circuit.  At a high level, the scheduling pass can be thought of as explicitly inserting delay instructions to account for the idle time between gate executions and to inspect how long the circuit will be running on the backend.\n",
    "\n",
    "Here is an example:"
   ]
  },
  {
   "cell_type": "code",
   "execution_count": 7,
   "id": "4339deb5-4947-493b-8940-e68c91311631",
   "metadata": {},
   "outputs": [
    {
     "data": {
      "text/plain": [
       "<Image src=\"/docs/images/guides/transpiler-stages/extracted-outputs/4339deb5-4947-493b-8940-e68c91311631-0.svg\" alt=\"Output of the previous code cell\" />"
      ]
     },
     "execution_count": 7,
     "metadata": {},
     "output_type": "execute_result"
    }
   ],
   "source": [
    "ghz = QuantumCircuit(5)\n",
    "ghz.h(0)\n",
    "ghz.cx(0, range(1, 5))\n",
    "\n",
    "\n",
    "# Use fake pulse-enabled backend\n",
    "backend = FakeWashingtonV2()\n",
    "\n",
    "# Run with optimization level 3 and 'asap' scheduling pass\n",
    "pass_manager = generate_preset_pass_manager(\n",
    "    optimization_level=3,\n",
    "    backend=backend,\n",
    "    scheduling_method=\"asap\",\n",
    "    seed_transpiler=1234,\n",
    ")\n",
    "\n",
    "\n",
    "circ = pass_manager.run(ghz, backend)\n",
    "circ.draw(output=\"mpl\", idle_wires=False)"
   ]
  },
  {
   "cell_type": "markdown",
   "id": "98748e38-8d7a-40b5-9376-9dae7c192ef0",
   "metadata": {},
   "source": [
    "![Circuit with delay instructions](/docs/images/guides/transpiler-stages/transpiler-16.avif)\n",
    "\n",
    "The transpiler inserted `Delay` instructions to account for idle time on each qubit. To get a better idea of the timing of the circuit we can also look at it with the `timeline.draw()` function:\n",
    "\n",
    "![timeline.draw() view of the same circuit](/docs/images/guides/transpiler-stages/transpiler-17.avif)"
   ]
  },
  {
   "cell_type": "markdown",
   "id": "b4c40470-e0cf-4b55-bb51-5ef39bd3dd52",
   "metadata": {},
   "source": [
    "Scheduling a circuit involves two parts: analysis and constraint mapping, followed by a padding pass.  The first part requires running a scheduling analysis pass (by default this is [`ALAPSchedulingAnalysis`](../api/qiskit/qiskit.transpiler.passes.ALAPScheduleAnalysis)), which analyzes the circuit and records the start time of each instruction in the circuit into a schedule.  Once the circuit has an initial schedule, additional passes can be run to account for any timing constraints on the target backend.  Finally, a padding pass such as [`PadDelay`](../api/qiskit/qiskit.transpiler.passes.PadDelay) or [`PadDynamicalDecoupling`](../api/qiskit/qiskit.transpiler.passes.PadDynamicalDecoupling) can be executed."
   ]
  },
  {
   "cell_type": "markdown",
   "id": "bdba6aa3-18fd-4eda-8bcf-adc1c172438c",
   "metadata": {},
   "source": [
    "## Next steps\n",
    "\n",
    "<Admonition type=\"tip\" title=\"Recommendations\">\n",
    "    - To learn how to use the `generate_preset_passmanager` function, start with the [Transpilation default settings and configuration options](defaults-and-configuration-options) topic.\n",
    "    - Continue learning about transpilation with the [Transpiler with pass managers](transpile-with-pass-managers) topic.\n",
    "    - Try the [Submit transpiled circuits](https://learning.quantum.ibm.com/tutorial/submit-transpiled-circuits) tutorial.\n",
    "    - See the [Transpile API documentation.](https://docs.quantum-computing.ibm.com/api/qiskit/transpiler)\n",
    "</Admonition>"
   ]
  }
 ],
 "metadata": {
  "celltoolbar": "Raw Cell Format",
  "description": "The default stages of the quantum circuit transpilation pipeline in Qiskit.",
  "kernelspec": {
   "display_name": "Python 3",
   "language": "python",
   "name": "python3"
  },
  "language_info": {
   "codemirror_mode": {
    "name": "ipython",
    "version": 3
   },
   "file_extension": ".py",
   "mimetype": "text/x-python",
   "name": "python",
   "nbconvert_exporter": "python",
   "pygments_lexer": "ipython3",
   "version": "3"
  },
  "title": "Transpiler stages",
  "widgets": {
   "application/vnd.jupyter.widget-state+json": {
    "state": {},
    "version_major": 2,
    "version_minor": 0
   }
  }
 },
 "nbformat": 4,
 "nbformat_minor": 4
}
