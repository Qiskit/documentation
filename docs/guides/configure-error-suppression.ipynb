{
 "cells": [
  {
   "cell_type": "markdown",
   "id": "aa4fa466-c51d-42b4-8cc5-4870b03b0a4d",
   "metadata": {},
   "source": [
    "# Configure error suppression"
   ]
  },
  {
   "cell_type": "markdown",
   "id": "053b2221-0541-4867-b258-070f0a3e043f",
   "metadata": {
    "tags": [
     "version-info"
    ]
   },
   "source": []
  },
  {
   "cell_type": "markdown",
   "id": "3f005a97-45db-4442-ab0c-ca6c986d54f8",
   "metadata": {},
   "source": [
    "Error suppression refers to techniques where you use knowledge about the undesirable effects to introduce customization that can anticipate and avoid the potential impacts of those effects. These techniques often consist of altering or adding control signals to ensure that the quantum processor returns the desired results.  This typically results in quantum pre-processing overhead; therefore, it is important to achieve a balance between perfecting your results and ensuring that your job completes in a reasonable amount of time.\n",
    "\n",
    "Primitives support a number of error suppression techniques, including [dynamical decoupling](/docs/api/qiskit-ibm-runtime/options-dynamical-decoupling-options#dynamicaldecouplingoptions) and [Pauli twirling](/docs/api/qiskit-ibm-runtime/options-twirling-options). See [Error mitigation and suppression techniques](error-mitigation-and-suppression-techniques) for an explanation of each. When using primitives, you can turn on or off individual methods. See the [Advanced error suppression options](#transpilation-table) section for details.\n",
    "\n",
    "Estimator employs error suppression and mitigation by default. If you don't want any processing done to your input circuits, follow the instructions in the [Turn off all error mitigation and error suppression](specify-runtime-options#no-error-mitigation) section.\n",
    "\n",
    "<span id=\"transpilation-table\"></span>\n",
    "## Advanced error suppression options\n",
    "\n",
    "In the primitives, you can explicitly enable and disable individual error mitigation and suppression methods, such as dynamical decoupling.\n",
    "\n",
    "<Admonition type = \"note\" title = \"Notes\">\n",
    "- Not all options are available for both primitives.   See the [available options](runtime-options-overview#options-table) table for the list of available options.\n",
    "- Not all methods work together on all types of circuits.  See the [feature compatibility](runtime-options-overview#options-compatibility-table) table for details.\n",
    "</Admonition>"
   ]
  },
  {
   "cell_type": "code",
   "execution_count": 1,
   "id": "149509bf-86ff-4bf5-8b20-662e2e85b769",
   "metadata": {},
   "outputs": [
    {
     "name": "stdout",
     "output_type": "stream",
     "text": [
      ">>> dynamical decoupling sequence to use: XpXm\n"
     ]
    }
   ],
   "source": [
    "from qiskit_ibm_runtime import QiskitRuntimeService\n",
    "from qiskit_ibm_runtime import SamplerV2 as Sampler\n",
    "\n",
    "service = QiskitRuntimeService()\n",
    "backend = service.least_busy(operational=True, simulator=False)\n",
    "\n",
    "sampler = Sampler(backend)\n",
    "\n",
    "# Turn on dynamical decoupling with sequence XpXm.\n",
    "sampler.options.dynamical_decoupling.enable = True\n",
    "sampler.options.dynamical_decoupling.sequence_type = \"XpXm\"\n",
    "\n",
    "print(\n",
    "    f\">>> dynamical decoupling sequence to use: {sampler.options.dynamical_decoupling.sequence_type}\"\n",
    ")"
   ]
  },
  {
   "cell_type": "markdown",
   "id": "b53daba1-f54d-4063-bf42-3304ab1fdb60",
   "metadata": {},
   "source": [
    "<CodeAssistantAdmonition\n",
    "  tagLine=\"Can't remember the right attributes? Try asking Qiskit Code Assistant.\"\n",
    "  prompts={[\n",
    "    \"# Enable dynamic decoupling for sampler with the 'XpXm' sequence type\"\n",
    "  ]}\n",
    "/>\n",
    "\n",
    "## Turn off all error suppression\n",
    "\n",
    "For instructions to turn off all error suppression, see the [Turn off all error suppression and mitigation](specify-runtime-options#no-error-mitigation) section.\n",
    "\n",
    "## Next steps\n",
    "\n",
    "<Admonition type=\"tip\" title=\"Recommendations\">\n",
    "    - Learn more about [error mitigation and error suppression techniques.](error-mitigation-and-suppression-techniques)\n",
    "    - [Configure error mitigation.](configure-error-mitigation)\n",
    "    - Explore other [options.](runtime-options-overview)\n",
    "    - Decide what [execution mode](execution-modes) to run your job in.\n",
    "</Admonition>"
   ]
  }
 ],
 "metadata": {
  "description": "How to configure error suppression in Qiskit Runtime. (Former title - Runtime compilation)",
  "kernelspec": {
   "display_name": "Python 3",
   "language": "python",
   "name": "python3"
  },
  "language_info": {
   "codemirror_mode": {
    "name": "ipython",
    "version": 3
   },
   "file_extension": ".py",
   "mimetype": "text/x-python",
   "name": "python",
   "nbconvert_exporter": "python",
   "pygments_lexer": "ipython3",
   "version": "3"
  },
  "title": "Configure error suppression"
 },
 "nbformat": 4,
 "nbformat_minor": 4
}
