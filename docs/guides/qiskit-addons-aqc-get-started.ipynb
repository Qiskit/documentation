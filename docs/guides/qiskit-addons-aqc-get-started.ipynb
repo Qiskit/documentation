{
 "cells": [
  {
   "cell_type": "markdown",
   "id": "ceff06e5-ea87-4526-a726-c9345f55e592",
   "metadata": {},
   "source": [
    "# Getting started with Approximate quantum compilation with tensor networks (AQC-Tensor)"
   ]
  },
  {
   "cell_type": "markdown",
   "id": "cb4ff5eb",
   "metadata": {
    "tags": [
     "version-info"
    ]
   },
   "source": [
    "<details>\n",
    "<summary><b>Package versions</b></summary>\n",
    "\n",
    "The code on this page was developed using the following requirements.\n",
    "We recommend using these versions or newer.\n",
    "\n",
    "```\n",
    "qiskit[all]~=2.0.0\n",
    "qiskit-aer~=0.17\n",
    "qiskit-addon-utils~=0.1.0\n",
    "qiskit-addon-aqc-tensor~=0.2.0\n",
    "scipy~=1.15.2\n",
    "```\n",
    "</details>"
   ]
  },
  {
   "cell_type": "markdown",
   "id": "d8d85b16",
   "metadata": {},
   "source": [
    "This guide demonstrates a simple working example to get started with AQC-Tensor. In this example, you will take a Trotter circuit which simulates the evolution of a transverse field Ising model and use the AQC-Tensor method to reduce the resulting circuit depth. In addition, this example requires the `qiskit-addon-utils` package for the problem generator, `qiskit-aer` for the tensor-network simulation, and `scipy` for the parameter optimization.\n",
    "\n",
    "To begin, recall that the Hamiltonian of the transverse field Ising model has the form\n",
    "\n",
    "$$ \\mathcal{H}_{Ising} = \\sum_{i=1}^N J_{i,(i+1)}Z_iZ_{i+1} + h_i X_i $$\n",
    "\n",
    "where we'll assume periodic boundary conditions which imply that for $i=10$ we obtain $i+1=11\\rightarrow 1$ and $J$ is the coupling strength between two sites and $h$ is the strength of the external magnetic field.\n",
    "\n",
    "The following code snippet will generate the Hamiltonian of a 10-site Ising chain with periodic boundary conditions."
   ]
  },
  {
   "cell_type": "code",
   "execution_count": 1,
   "id": "8b610d5a-c551-4b53-a37a-a2161d361a47",
   "metadata": {},
   "outputs": [],
   "source": [
    "from qiskit.transpiler import CouplingMap\n",
    "from qiskit_addon_utils.problem_generators import generate_xyz_hamiltonian\n",
    "from qiskit.synthesis import SuzukiTrotter\n",
    "from qiskit_addon_utils.problem_generators import (\n",
    "    generate_time_evolution_circuit,\n",
    ")\n",
    "from qiskit_addon_aqc_tensor import generate_ansatz_from_circuit\n",
    "from qiskit_addon_aqc_tensor.simulation import tensornetwork_from_circuit\n",
    "from qiskit_addon_aqc_tensor.simulation import compute_overlap\n",
    "from qiskit_addon_aqc_tensor.objective import MaximizeStateFidelity\n",
    "from qiskit_aer import AerSimulator\n",
    "from scipy.optimize import OptimizeResult, minimize\n",
    "\n",
    "\n",
    "# Generate some coupling map to use for this example\n",
    "coupling_map = CouplingMap.from_heavy_hex(3, bidirectional=False)\n",
    "\n",
    "# Choose a 10-qubit circle on this coupling map\n",
    "reduced_coupling_map = coupling_map.reduce(\n",
    "    [0, 13, 1, 14, 10, 16, 4, 15, 3, 9]\n",
    ")\n",
    "\n",
    "# Get a qubit operator describing the Ising field model\n",
    "hamiltonian = generate_xyz_hamiltonian(\n",
    "    reduced_coupling_map,\n",
    "    coupling_constants=(0.0, 0.0, 1.0),\n",
    "    ext_magnetic_field=(0.4, 0.0, 0.0),\n",
    ")"
   ]
  },
  {
   "cell_type": "markdown",
   "id": "559638bb-33b4-4a9c-b9d1-fac58a622119",
   "metadata": {},
   "source": [
    "## Split the time evolution into two pieces for classical and quantum execution\n",
    "\n",
    "The overall goal of this example is to simulate time evolution of the model Hamiltonian. We do so here by Trotter evolution, which will be split into two portions.\n",
    "\n",
    "1. An initial portion which is simulable using matrix product states (MPS). This will be what is 'compiled' using AQC-Tensor.\n",
    "2. A subsequent portion which will be executed on quantum hardware.\n",
    "\n",
    "We'll choose to evolve the system up to time $t_f=5$ and use AQC-Tensor to compress the time evolution up to time $t=4$, then evolve using ordinary Trotter steps up to time $t_f$.\n",
    "\n",
    "From here we will next generate two circuits, one which will be compressed using AQC-Tensor and one which will be executed on a QPU. For the first circuit, since this will be simulated classically using matrix product states, we will use a generous number of layers to minimize Trotter error. Meanwhile the second circuit simulating time evolution from $t_i=4$ to $t_f=5$ will use much fewer layers in order to minimize depth."
   ]
  },
  {
   "cell_type": "code",
   "execution_count": 2,
   "id": "3081dca8-24cd-4995-bd99-cd94d71d1b99",
   "metadata": {},
   "outputs": [],
   "source": [
    "# Generate circuit to be compressed\n",
    "aqc_evolution_time = 4.0\n",
    "aqc_target_num_trotter_steps = 45\n",
    "\n",
    "aqc_target_circuit = generate_time_evolution_circuit(\n",
    "    hamiltonian,\n",
    "    synthesis=SuzukiTrotter(reps=aqc_target_num_trotter_steps),\n",
    "    time=aqc_evolution_time,\n",
    ")\n",
    "\n",
    "# Generate circuit to execute on hardware\n",
    "subsequent_evolution_time = 1.0\n",
    "subsequent_num_trotter_steps = 5\n",
    "\n",
    "subsequent_circuit = generate_time_evolution_circuit(\n",
    "    hamiltonian,\n",
    "    synthesis=SuzukiTrotter(reps=subsequent_num_trotter_steps),\n",
    "    time=subsequent_evolution_time,\n",
    ")"
   ]
  },
  {
   "cell_type": "markdown",
   "id": "fbfa7baa-6f73-434d-84a6-8940a8a0e43f",
   "metadata": {},
   "source": [
    "For comparison purposes, we will also generate a third circuit. One which evolves until $t=4$, but which has the same number of layers as the second circuit evolving from $t_i=4$ to $t_f=5$. This is the circuit we *would have* executed has we not used the AQC-Tensor technique. We'll call this the *comparison* circuit for now."
   ]
  },
  {
   "cell_type": "code",
   "execution_count": 3,
   "id": "a8a27d6f-6013-424d-b640-4d3d7311cee3",
   "metadata": {},
   "outputs": [],
   "source": [
    "aqc_comparison_num_trotter_steps = int(\n",
    "    subsequent_num_trotter_steps\n",
    "    / subsequent_evolution_time\n",
    "    * aqc_evolution_time\n",
    ")\n",
    "aqc_comparison_num_trotter_steps\n",
    "\n",
    "comparison_circuit = generate_time_evolution_circuit(\n",
    "    hamiltonian,\n",
    "    synthesis=SuzukiTrotter(reps=aqc_comparison_num_trotter_steps),\n",
    "    time=aqc_evolution_time,\n",
    ")"
   ]
  },
  {
   "cell_type": "markdown",
   "id": "df4e1487-79e3-4af8-b66c-ea610db99259",
   "metadata": {},
   "source": [
    "## Generate ansatz and construct MPS simulation\n",
    "\n",
    "Next we will generate the ansatz we will optimize. It will evolve to the same evolution time as our first circuit (from $t_i=0$ to $t_f=4$), but with fewer Trotter steps.\n",
    "\n",
    "Once the circuit has been generated, we then pass it to AQC-Tensor's `generate_ansatz_from_circuit()` function which analyzes the two-qubit connectivity and returns two things. First is a generated ansatz circuit with the same two-qubit connectivity, and the second is a set of parameters which, when plugged into the ansatz, yield the input circuit."
   ]
  },
  {
   "cell_type": "code",
   "execution_count": 4,
   "id": "e08edb92-da1f-4131-85f5-f89006f7a2dd",
   "metadata": {},
   "outputs": [
    {
     "data": {
      "text/plain": [
       "<Image src=\"/docs/images/guides/qiskit-addons-aqc-get-started/extracted-outputs/e08edb92-da1f-4131-85f5-f89006f7a2dd-0.svg\" alt=\"Output of the previous code cell\" />"
      ]
     },
     "execution_count": 4,
     "metadata": {},
     "output_type": "execute_result"
    }
   ],
   "source": [
    "aqc_ansatz_num_trotter_steps = 5\n",
    "\n",
    "aqc_good_circuit = generate_time_evolution_circuit(\n",
    "    hamiltonian,\n",
    "    synthesis=SuzukiTrotter(reps=aqc_ansatz_num_trotter_steps),\n",
    "    time=aqc_evolution_time,\n",
    ")\n",
    "\n",
    "aqc_ansatz, aqc_initial_parameters = generate_ansatz_from_circuit(\n",
    "    aqc_good_circuit, qubits_initially_zero=True\n",
    ")\n",
    "aqc_ansatz.draw(\"mpl\", fold=-1)"
   ]
  },
  {
   "cell_type": "markdown",
   "id": "ec70cdcb-1257-449f-9a21-620c980f2492",
   "metadata": {},
   "source": [
    "Next we will build the MPS representation of the state to be approximated by AQC. We will also calculate the fidelity $|\\langle\\psi_1 | \\psi_2 \\rangle |^2$ between the state prepared by the comparison circuit vs the one circuit which generates the target state (which used more Trotter steps)."
   ]
  },
  {
   "cell_type": "code",
   "execution_count": 5,
   "id": "dad8e00c-eed1-4f17-8760-4d9590eb34c0",
   "metadata": {},
   "outputs": [
    {
     "name": "stdout",
     "output_type": "stream",
     "text": [
      "Comparison fidelity: 0.9997111919739693\n"
     ]
    }
   ],
   "source": [
    "# Generate MPS simulator settings and obtain the MPS representation of the target state\n",
    "simulator_settings = AerSimulator(\n",
    "    method=\"matrix_product_state\",\n",
    "    matrix_product_state_max_bond_dimension=100,\n",
    ")\n",
    "aqc_target_mps = tensornetwork_from_circuit(\n",
    "    aqc_target_circuit, simulator_settings\n",
    ")\n",
    "\n",
    "\n",
    "# Compute the fidelity between the MPS representation of the target state and the state produced by the comparison circuit\n",
    "comparison_mps = tensornetwork_from_circuit(\n",
    "    comparison_circuit, simulator_settings\n",
    ")\n",
    "comparison_fidelity = (\n",
    "    abs(compute_overlap(comparison_mps, aqc_target_mps)) ** 2\n",
    ")\n",
    "print(f\"Comparison fidelity: {comparison_fidelity}\")"
   ]
  },
  {
   "cell_type": "markdown",
   "id": "31f51c71-4066-4554-8101-c5c829b95fdc",
   "metadata": {},
   "source": [
    "## Optimize the parameters of the ansatz using the MPS\n",
    "\n",
    "Lastly, we will optimize the ansatz circuit such that it produces the target state better than our `comparison_fidelity`. The cost function to minimize will be the `MaximizeStateFidelity` and will be optimized using scipy's L-BFGS optimizer."
   ]
  },
  {
   "cell_type": "code",
   "execution_count": 6,
   "id": "4b784b22-d6b3-408c-bce4-58b351b24fed",
   "metadata": {},
   "outputs": [
    {
     "name": "stdout",
     "output_type": "stream",
     "text": [
      "Intermediate result: Fidelity 0.95084365\n"
     ]
    },
    {
     "name": "stdout",
     "output_type": "stream",
     "text": [
      "Intermediate result: Fidelity 0.98409893\n"
     ]
    },
    {
     "name": "stdout",
     "output_type": "stream",
     "text": [
      "Intermediate result: Fidelity 0.99142033\n"
     ]
    },
    {
     "name": "stdout",
     "output_type": "stream",
     "text": [
      "Intermediate result: Fidelity 0.99521405\n"
     ]
    },
    {
     "name": "stdout",
     "output_type": "stream",
     "text": [
      "Intermediate result: Fidelity 0.99566673\n"
     ]
    },
    {
     "name": "stdout",
     "output_type": "stream",
     "text": [
      "Intermediate result: Fidelity 0.99650054\n"
     ]
    },
    {
     "name": "stdout",
     "output_type": "stream",
     "text": [
      "Intermediate result: Fidelity 0.99683487\n"
     ]
    },
    {
     "name": "stdout",
     "output_type": "stream",
     "text": [
      "Intermediate result: Fidelity 0.99720426\n"
     ]
    },
    {
     "name": "stdout",
     "output_type": "stream",
     "text": [
      "Intermediate result: Fidelity 0.99761726\n"
     ]
    },
    {
     "name": "stdout",
     "output_type": "stream",
     "text": [
      "Intermediate result: Fidelity 0.99809073\n"
     ]
    },
    {
     "name": "stdout",
     "output_type": "stream",
     "text": [
      "Intermediate result: Fidelity 0.99838244\n"
     ]
    },
    {
     "name": "stdout",
     "output_type": "stream",
     "text": [
      "Intermediate result: Fidelity 0.99861841\n"
     ]
    },
    {
     "name": "stdout",
     "output_type": "stream",
     "text": [
      "Intermediate result: Fidelity 0.99874617\n"
     ]
    },
    {
     "name": "stdout",
     "output_type": "stream",
     "text": [
      "Intermediate result: Fidelity 0.99892696\n"
     ]
    },
    {
     "name": "stdout",
     "output_type": "stream",
     "text": [
      "Intermediate result: Fidelity 0.99908129\n"
     ]
    },
    {
     "name": "stdout",
     "output_type": "stream",
     "text": [
      "Intermediate result: Fidelity 0.99917737\n"
     ]
    },
    {
     "name": "stdout",
     "output_type": "stream",
     "text": [
      "Intermediate result: Fidelity 0.99925456\n"
     ]
    },
    {
     "name": "stdout",
     "output_type": "stream",
     "text": [
      "Intermediate result: Fidelity 0.99933134\n"
     ]
    },
    {
     "name": "stdout",
     "output_type": "stream",
     "text": [
      "Intermediate result: Fidelity 0.99947173\n"
     ]
    },
    {
     "name": "stdout",
     "output_type": "stream",
     "text": [
      "Intermediate result: Fidelity 0.99956469\n"
     ]
    },
    {
     "name": "stdout",
     "output_type": "stream",
     "text": [
      "Intermediate result: Fidelity 0.99964488\n"
     ]
    },
    {
     "name": "stdout",
     "output_type": "stream",
     "text": [
      "Intermediate result: Fidelity 0.99967419\n"
     ]
    },
    {
     "name": "stdout",
     "output_type": "stream",
     "text": [
      "Intermediate result: Fidelity 0.99968821\n"
     ]
    },
    {
     "name": "stdout",
     "output_type": "stream",
     "text": [
      "Intermediate result: Fidelity 0.9997448\n",
      "Done after 24 iterations.\n"
     ]
    }
   ],
   "source": [
    "objective = MaximizeStateFidelity(\n",
    "    aqc_target_mps, aqc_ansatz, simulator_settings\n",
    ")\n",
    "\n",
    "stopping_point = 1 - comparison_fidelity\n",
    "\n",
    "\n",
    "def callback(intermediate_result: OptimizeResult):\n",
    "    print(f\"Intermediate result: Fidelity {1 - intermediate_result.fun:.8}\")\n",
    "    if intermediate_result.fun < stopping_point:\n",
    "        # Good enough for now\n",
    "        raise StopIteration\n",
    "\n",
    "\n",
    "result = minimize(\n",
    "    objective,\n",
    "    aqc_initial_parameters,\n",
    "    method=\"L-BFGS-B\",\n",
    "    jac=True,\n",
    "    options={\"maxiter\": 100},\n",
    "    callback=callback,\n",
    ")\n",
    "if (\n",
    "    result.status\n",
    "    not in (\n",
    "        0,\n",
    "        1,\n",
    "        99,\n",
    "    )\n",
    "):  # 0 => success; 1 => max iterations reached; 99 => early termination via StopIteration\n",
    "    raise RuntimeError(\n",
    "        f\"Optimization failed: {result.message} (status={result.status})\"\n",
    "    )\n",
    "\n",
    "print(f\"Done after {result.nit} iterations.\")\n",
    "aqc_final_parameters = result.x"
   ]
  },
  {
   "cell_type": "markdown",
   "id": "d1322051-28d4-4fde-aa8e-6da467badb92",
   "metadata": {},
   "source": [
    "At this point we have a set of parameters which generate the target state with a higher fidelity than what the comparison circuit would have produced without using AQC. With these optimal parameters, the compressed circuit now has less Trotter error *and* less depth than the original circuit.\n",
    "\n",
    "As a final step, the following code snippet builds the full time evolution circuit which can be passed to a transpiler pipeline and executed on quantum hardware."
   ]
  },
  {
   "cell_type": "code",
   "execution_count": 7,
   "id": "45abbabe-0289-4a09-aa99-89f70bdc535d",
   "metadata": {},
   "outputs": [
    {
     "data": {
      "text/plain": [
       "<Image src=\"/docs/images/guides/qiskit-addons-aqc-get-started/extracted-outputs/45abbabe-0289-4a09-aa99-89f70bdc535d-0.svg\" alt=\"Output of the previous code cell\" />"
      ]
     },
     "execution_count": 7,
     "metadata": {},
     "output_type": "execute_result"
    }
   ],
   "source": [
    "final_circuit = aqc_ansatz.assign_parameters(aqc_final_parameters)\n",
    "final_circuit.compose(subsequent_circuit, inplace=True)\n",
    "final_circuit.draw(\"mpl\", fold=-1)"
   ]
  },
  {
   "cell_type": "markdown",
   "id": "b5c547d1-2103-4716-8da2-cd2b24f1f9c1",
   "metadata": {},
   "source": [
    "## Next steps\n",
    "\n",
    "<Admonition type=\"tip\" title=\"Recommendations\">\n",
    "    - Read through the [AQC-Tensor tutorial](https://learning.quantum.ibm.com/tutorial/improved-trotterized-time-evolution-with-approximate-quantum-compilation)\n",
    "</Admonition>"
   ]
  }
 ],
 "metadata": {
  "description": "Example workflow to compress circuits using approximate quantum compilation",
  "kernelspec": {
   "display_name": "Python 3",
   "language": "python",
   "name": "python3"
  },
  "language_info": {
   "codemirror_mode": {
    "name": "ipython",
    "version": 3
   },
   "file_extension": ".py",
   "mimetype": "text/x-python",
   "name": "python",
   "nbconvert_exporter": "python",
   "pygments_lexer": "ipython3",
   "version": "3"
  },
  "title": "Get started with AQC-Tensor"
 },
 "nbformat": 4,
 "nbformat_minor": 2
}
