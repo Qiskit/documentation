{
 "cells": [
  {
   "cell_type": "markdown",
   "id": "4d6203af-01d0-4362-a44c-66c2128e63d1",
   "metadata": {},
   "source": [
    "# Classical feedforward and control flow"
   ]
  },
  {
   "cell_type": "markdown",
   "id": "e64d4278-879b-4319-9fbe-85a64327bcac",
   "metadata": {
    "tags": [
     "version-info"
    ]
   },
   "source": [
    "<details>\n",
    "<summary><b>Package versions</b></summary>\n",
    "\n",
    "The code on this page was developed using the following requirements.\n",
    "We recommend using these versions or newer.\n",
    "\n",
    "```\n",
    "qiskit[all]~=2.1.1\n",
    "```\n",
    "</details>"
   ]
  },
  {
   "cell_type": "markdown",
   "id": "67b2704d-aa3d-4e39-b417-536093be274e",
   "metadata": {},
   "source": [
    "<Admonition type=\"note\">\n",
    "Dynamic circuit support on Qiskit Runtime is only available through early access. Users interested in participating in this early access should [contact support.](/docs/support#get-help-with-qiskit-and-ibm-quantum-platform)\n",
    "</Admonition>\n",
    "\n",
    "Dynamic circuits are powerful tools with which your can measure qubits in the middle of a quantum circuit execution and then perform classical logic operations within the circuit, based on the outcome of those mid-circuit measurements.  This process is also known as _classical feedforward_. While these are early days of understanding how best to take advantage of dynamic circuits, the quantum research community has already identified a number of use cases, such as the following:\n",
    "\n",
    "* Efficient quantum state preparation, such as [GHZ state,](https://journals.aps.org/prxquantum/abstract/10.1103/PRXQuantum.5.030339) [W-state,](https://arxiv.org/abs/2403.07604) (for more information about W-state, also refer to [\"State preparation by shallow circuits using feed forward\"](https://arxiv.org/abs/2307.14840)) and a broad class of [matrix product states](https://arxiv.org/abs/2404.16083)\n",
    "* [Efficient long-range entanglement](https://journals.aps.org/prxquantum/abstract/10.1103/PRXQuantum.5.030339) between qubits on the same chip by using shallow circuits\n",
    "* Efficient [sampling of IQP-like circuits](https://arxiv.org/pdf/2505.04705)\n",
    "\n",
    "These improvements brought by dynamic circuits, however, come with trade-offs. Mid-circuit measurements and classical operations typically have longer execution time than two-qubit gates, and this increase in time might negate the benefits of reduced circuit depth. Therefore, reducing the length of mid-circuit measurement is a focus area of improvement as IBM Quantum&reg; releases the [new version](/announcements/product-updates/2025-03-03-new-version-dynamic-circuits) of dynamic circuits.\n",
    "\n",
    "The [OpenQASM 3 specification](https://openqasm.com/language/classical.html#looping-and-branching) defines a number of control-flow structures, but Qiskit Runtime currently only supports the conditional `if` statement. In Qiskit SDK, this corresponds to the [if_test](/docs/api/qiskit/qiskit.circuit.QuantumCircuit#if_test) method on [QuantumCircuit.](/docs/api/qiskit/qiskit.circuit.QuantumCircuit) This method returns a [context manager](https://docs.python.org/3/reference/datamodel.html#with-statement-context-managers) and is typically used in a `with` statement. This guide describes how to use this conditional statement."
   ]
  },
  {
   "cell_type": "markdown",
   "id": "0767b203-ad69-428f-b8c1-50ceab758b35",
   "metadata": {},
   "source": [
    "## `if` statement\n",
    "\n",
    "The `if` statement is used to conditionally perform operations based on the value of a classical bit or register.\n",
    "\n",
    "In the example below, we apply a Hadamard gate to a qubit and measure it. If the result is 1, then we apply an X gate on the qubit, which has the effect of flipping it back to the 0 state. We then measure the qubit again. The resulting measurement outcome should be 0 with 100% probability."
   ]
  },
  {
   "cell_type": "code",
   "execution_count": 1,
   "id": "008f85d9-5b48-4e84-b250-846b07901607",
   "metadata": {},
   "outputs": [
    {
     "data": {
      "text/plain": [
       "<Image src=\"/docs/images/guides/classical-feedforward-and-control-flow/extracted-outputs/008f85d9-5b48-4e84-b250-846b07901607-0.svg\" alt=\"Output of the previous code cell\" />"
      ]
     },
     "execution_count": 1,
     "metadata": {},
     "output_type": "execute_result"
    }
   ],
   "source": [
    "from qiskit.circuit import QuantumCircuit, QuantumRegister, ClassicalRegister\n",
    "\n",
    "qubits = QuantumRegister(1)\n",
    "clbits = ClassicalRegister(1)\n",
    "circuit = QuantumCircuit(qubits, clbits)\n",
    "(q0,) = qubits\n",
    "(c0,) = clbits\n",
    "\n",
    "circuit.h(q0)\n",
    "circuit.measure(q0, c0)\n",
    "with circuit.if_test((c0, 1)):\n",
    "    circuit.x(q0)\n",
    "circuit.measure(q0, c0)\n",
    "circuit.draw(\"mpl\")\n",
    "\n",
    "# example output counts: {'0': 1024}"
   ]
  },
  {
   "cell_type": "markdown",
   "id": "fdc99e4d-fcd0-4397-b6da-2e36a51f90a8",
   "metadata": {},
   "source": [
    "The `with` statement can be given an assignment target which is itself a context manager that can be stored and subsequently used to create an else block, which is executed whenever the contents of the `if` block are *not* executed.\n",
    "\n",
    "In the example below, we initialize registers with two qubits and two classical bits. We apply a Hadamard gate to the first qubit and measure it. If the result is 1, then we apply a Hadamard gate on the second qubit; otherwise, we apply an X gate on the second qubit. Finally, we measure the second qubit as well."
   ]
  },
  {
   "cell_type": "code",
   "execution_count": 2,
   "id": "5b22ae93-27d1-4a0c-89e2-9f88383039d6",
   "metadata": {},
   "outputs": [
    {
     "data": {
      "text/plain": [
       "<Image src=\"/docs/images/guides/classical-feedforward-and-control-flow/extracted-outputs/5b22ae93-27d1-4a0c-89e2-9f88383039d6-0.svg\" alt=\"Output of the previous code cell\" />"
      ]
     },
     "execution_count": 2,
     "metadata": {},
     "output_type": "execute_result"
    }
   ],
   "source": [
    "qubits = QuantumRegister(2)\n",
    "clbits = ClassicalRegister(2)\n",
    "circuit = QuantumCircuit(qubits, clbits)\n",
    "(q0, q1) = qubits\n",
    "(c0, c1) = clbits\n",
    "\n",
    "circuit.h(q0)\n",
    "circuit.measure(q0, c0)\n",
    "with circuit.if_test((c0, 1)) as else_:\n",
    "    circuit.h(q1)\n",
    "with else_:\n",
    "    circuit.x(q1)\n",
    "circuit.measure(q1, c1)\n",
    "\n",
    "circuit.draw(\"mpl\")\n",
    "\n",
    "# example output counts: {'01': 260, '11': 272, '10': 492}"
   ]
  },
  {
   "cell_type": "markdown",
   "id": "d70a3dec-33fe-4a2f-942e-592770c4868e",
   "metadata": {},
   "source": [
    "In addition to conditioning on a single classical bit, it's also possible to condition on the value of a classical register composed of multiple bits.\n",
    "\n",
    "In the example below, we apply Hadamard gates to two qubits and measure them. If the result is `01`, that is, the first qubit is 1 and the second qubit is 0, then we apply an X gate to a third qubit. Finally, we measure the third qubit. Note that for clarity, we chose to specify the state of the third classical bit, which is 0, in the `if` condition. In the circuit drawing, the condition is indicated by the circles on the classical bits being conditioned on. A black circle indicates conditioning on 1, while a white circle indicates conditioning on 0."
   ]
  },
  {
   "cell_type": "code",
   "execution_count": 3,
   "id": "15ac9465-c61f-4de1-81e8-e4edfafb07b4",
   "metadata": {},
   "outputs": [
    {
     "data": {
      "text/plain": [
       "<Image src=\"/docs/images/guides/classical-feedforward-and-control-flow/extracted-outputs/15ac9465-c61f-4de1-81e8-e4edfafb07b4-0.svg\" alt=\"Output of the previous code cell\" />"
      ]
     },
     "execution_count": 3,
     "metadata": {},
     "output_type": "execute_result"
    }
   ],
   "source": [
    "qubits = QuantumRegister(3)\n",
    "clbits = ClassicalRegister(3)\n",
    "circuit = QuantumCircuit(qubits, clbits)\n",
    "(q0, q1, q2) = qubits\n",
    "(c0, c1, c2) = clbits\n",
    "\n",
    "circuit.h([q0, q1])\n",
    "circuit.measure(q0, c0)\n",
    "circuit.measure(q1, c1)\n",
    "with circuit.if_test((clbits, 0b001)):\n",
    "    circuit.x(q2)\n",
    "circuit.measure(q2, c2)\n",
    "\n",
    "circuit.draw(\"mpl\")\n",
    "\n",
    "# example output counts: {'101': 269, '011': 260, '000': 252, '010': 243}"
   ]
  },
  {
   "cell_type": "markdown",
   "id": "86219c0c-4b81-405d-8cb9-3fbe00353832",
   "metadata": {},
   "source": [
    "## Classical expressions\n",
    "\n",
    "The Qiskit classical expression module [`qiskit.circuit.classical`](/docs/api/qiskit/circuit_classical) contains an exploratory representation of runtime operations on classical values during circuit execution. Due to hardware limitations, only `QuantumCircuit.if_test()`  conditions are currently supported.\n",
    "\n",
    "The following example shows that you can use the calculation of the parity to create an n-qubit GHZ state using dynamic circuits. First, generate $n/2$ Bell pairs on adjacent qubits. Then, glue these pairs together using a layer of CNOT gates in between pairs. You then measure the target qubit of all prior CNOT gates and reset each measured qubit to the state $\\vert 0 \\rangle$. You apply $X$ to every unmeasured site for which the parity of all preceding bits is odd. Finally, CNOT gates are applied to the measured qubits to re-establish the entanglement lost in the measurement.\n",
    "\n",
    "\n",
    "In the parity calculation, the first element of the constructed expression involves lifting the Python object `mr[0]`to a [`Value`](/docs/api/qiskit/circuit_classical#value)  node. This is not necessary for `mr[1]` and the possible following classical register, as they are inputs to `expr.bit_xor`, and any necessary lifting is done automatically in these cases. Such expressions can be built up in loops and other constructs."
   ]
  },
  {
   "cell_type": "code",
   "execution_count": 4,
   "id": "42454b75-8e80-4e22-9d3b-ec85746e0550",
   "metadata": {},
   "outputs": [],
   "source": [
    "from qiskit import QuantumCircuit, QuantumRegister, ClassicalRegister\n",
    "from qiskit.circuit.classical import expr\n",
    "\n",
    "num_qubits = 8\n",
    "if num_qubits % 2 or num_qubits < 4:\n",
    "    raise ValueError(\"num_qubits must be an even integer ≥ 4\")\n",
    "meas_qubits = list(range(2, num_qubits, 2))  # qubits to measure and reset\n",
    "\n",
    "qr = QuantumRegister(num_qubits, \"qr\")\n",
    "mr = ClassicalRegister(len(meas_qubits), \"m\")\n",
    "qc = QuantumCircuit(qr, mr)\n",
    "\n",
    "# Create local Bell pairs\n",
    "qc.reset(qr)\n",
    "qc.h(qr[::2])\n",
    "for ctrl in range(0, num_qubits, 2):\n",
    "    qc.cx(qr[ctrl], qr[ctrl + 1])\n",
    "\n",
    "# Glue neighboring pairs\n",
    "for ctrl in range(1, num_qubits - 1, 2):\n",
    "    qc.cx(qr[ctrl], qr[ctrl + 1])\n",
    "\n",
    "# Measure boundary qubits between pairs,reset to 0\n",
    "for k, q in enumerate(meas_qubits):\n",
    "    qc.measure(qr[q], mr[k])\n",
    "    qc.reset(qr[q])\n",
    "\n",
    "# Parity-conditioned X corrections\n",
    "# Each non-measured qubit gets flipped iff the parity (XOR) of all\n",
    "# preceding measurement bits is 1\n",
    "for tgt in range(num_qubits):\n",
    "    if tgt in meas_qubits:  # skip measured qubits\n",
    "        continue\n",
    "    # all measurement registers whose physical qubit index < tgt\n",
    "    left_bits = [k for k, q in enumerate(meas_qubits) if q < tgt]\n",
    "    if not left_bits:  # skip if list empty\n",
    "        continue\n",
    "\n",
    "    # build XOR-parity expression\n",
    "    parity = expr.lift(mr[left_bits[0]])  # lift the first bit to Value\n",
    "    for k in left_bits[1:]:\n",
    "        parity = expr.bit_xor(\n",
    "            mr[k], parity\n",
    "        )  # calculate parity with all other bits\n",
    "    with qc.if_test(parity):  # Add X if parity is 1\n",
    "        qc.x(qr[tgt])\n",
    "\n",
    "# Re-entangle measured qubits\n",
    "for ctrl in range(1, num_qubits - 1, 2):\n",
    "    qc.cx(qr[ctrl], qr[ctrl + 1])"
   ]
  },
  {
   "cell_type": "code",
   "execution_count": 5,
   "id": "3bdb923d-c466-4743-99b1-d46fda9660ef",
   "metadata": {},
   "outputs": [
    {
     "data": {
      "text/plain": [
       "<Image src=\"/docs/images/guides/classical-feedforward-and-control-flow/extracted-outputs/3bdb923d-c466-4743-99b1-d46fda9660ef-0.svg\" alt=\"Output of the previous code cell\" />"
      ]
     },
     "execution_count": 5,
     "metadata": {},
     "output_type": "execute_result"
    }
   ],
   "source": [
    "qc.draw(output=\"mpl\", style=\"iqp\", idle_wires=False, fold=-1)"
   ]
  },
  {
   "cell_type": "markdown",
   "id": "0378a45f-7a28-48bc-993d-0e4308d38bfc",
   "metadata": {},
   "source": [
    "## Qiskit Runtime limitations\n",
    "\n",
    "Be aware of the following constraints when running dynamic circuits in Qiskit Runtime.  Note that as new features and improvements are added throughout 2025, some of these limitations will be lifted.\n",
    "\n",
    "- Due to the limited physical memory on control electronics, there is also a limit on the number of `if` statements and size of their operands. This limit is a function of the number of broadcasts and the number of broadcasted bits in a job (not a circuit).\n",
    "\n",
    "   When processing an `if` condition, measurement data needs to be transferred to the control logic to make that evaluation. A broadcast is a transfer of unique classical data, and broadcasted bits is the number of classical bits being transferred. Consider the following:\n",
    "\n",
    "   ```python\n",
    "   c0 = ClassicalRegister(3)\n",
    "   c1 = ClassicalRegister(5)\n",
    "   ...\n",
    "   with circuit.if_test((c0, 1)) ...\n",
    "   with circuit.if_test((c0, 3)) ...\n",
    "   with circuit.if_test((c1[2], 1)) ...\n",
    "   ```\n",
    "   In the previous code example, the first two `if_test`s on `c0` are considered one broadcast because the content of `c0` did not change, and thus does not need to be re-broadcasted. The `if_test` on `c1` is a second broadcast. The first one broadcasts all three bits in `c0` and the second broadcasts just one bit, making a total of four broadcasted bits.\n",
    "\n",
    "   Currently, if you broadcast 60 bits each time, then the job can have approximately 300 broadcasts. If you broadcast just one bit each time, however, then the job can have 2400 broadcasts.\n",
    "- Limitations on classical registers:\n",
    "      - The operand used in an `if_test` statement must be 32 or fewer bits. Thus, if you are comparing an entire `ClassicalRegister`, the size of that `ClassicalRegister` must be 32 or fewer bits. If you are comparing just a single bit from a `ClassicalRegister`, however, that `ClassicalRegister` can be of any size (since the operand is only one bit).\n",
    "\n",
    "         For example, the \"invalid\" code block does not work because `cr` is more than 32 bits.  You can, however, use a classical register wider than 32 bits if you are testing only one bit, as shown in the \"valid\" code block.\n",
    "\n",
    "         <Tabs>\n",
    "         <TabItem value=\"Invalid\" label=\"Invalid\">\n",
    "            ```python\n",
    "               cr = ClassicalRegister(50)\n",
    "               qr = QuantumRegister(50)\n",
    "               circuit = QuantumCircuit(qr, cr)\n",
    "               ...\n",
    "               circ.measure(qr, cr)\n",
    "               with circ.if_test((cr, 15)):\n",
    "                  ...\n",
    "            ```\n",
    "         </TabItem>\n",
    "         <TabItem value=\"Valid\" label=\"Valid\">\n",
    "            ```python\n",
    "               cr = ClassicalRegister(50)\n",
    "               qr = QuantumRegister(50)\n",
    "               circuit = QuantumCircuit(qr, cr)\n",
    "               ...\n",
    "               circ.measure(qr, cr)\n",
    "               with circ.if_test((cr[5], 1)):\n",
    "                  ...\n",
    "            ```\n",
    "         </TabItem>\n",
    "         </Tabs>\n",
    "      -  Qiskit Runtime cannot _broadcast_ (a bit is broadcasted if it's used in an `if_test` statement) more than 60 bits at a time. You can explicitly ensure that you are working with different broadcasts by adding barriers.\n",
    "\n",
    "         <Tabs>\n",
    "         <TabItem value=\"Invalid\" label=\"Invalid\">\n",
    "            The following code block does not work because it contains 64 broadcasted bits:\n",
    "                  ```python\n",
    "                     cr1 = ClassicalRegister(32)\n",
    "                     cr2 = ClassicalRegister(32)\n",
    "                     qr = QuantumRegister(64)\n",
    "                     circuit = QuantumCircuit(qr, cr1, cr2)\n",
    "                     ...\n",
    "                     circ.measure(qr[0:32], cr1)\n",
    "                     circ.measure(qr[32:], cr2)\n",
    "                     with circ.if_test((cr1, 32)):  # 32 bits are broadcasted here\n",
    "                     ...\n",
    "                     with circ.if_test((cr2, 32)):  # Another 32 bits are broadcasted here, exceeding the limit!\n",
    "                        ...\n",
    "                  ```\n",
    "         </TabItem>\n",
    "         <TabItem value=\"Valid\" label=\"Valid\">\n",
    "            ```python\n",
    "               cr1 = ClassicalRegister(32)\n",
    "               cr2 = ClassicalRegister(32)\n",
    "               qr = QuantumRegister(64)\n",
    "               ...\n",
    "               circ.measure(qr[0:32], cr1)\n",
    "               with circ.if_test((cr1, 32)):\n",
    "                  ...\n",
    "               circ.barrier()\n",
    "               circ.measure(qr[32:], cr2)\n",
    "               with circ.if_test((cr2, 32)):\n",
    "                  ...\n",
    "            ```\n",
    "         </TabItem>\n",
    "         </Tabs>\n",
    "\n",
    "- Nested conditionals are not allowed. For example, the following code block will not work because it has an `if_test` inside another `if_test`:\n",
    "   <Tabs>\n",
    "    <TabItem value=\"Invalid\" label=\"Invalid\">\n",
    "        ```python\n",
    "           c1 = ClassicalRegister(1, \"c1\")\n",
    "           c2 = ClassicalRegister(2, \"c2\")\n",
    "           ...\n",
    "           with circ.if_test((c1, 1)):\n",
    "            with circ.if_test(c2, 1)):\n",
    "             ...\n",
    "        ```\n",
    "     </TabItem>\n",
    "     <TabItem value=\"Valid\" label=\"Valid\">\n",
    "        ```python\n",
    "        cr = ClassicalRegister(2)\n",
    "        ...\n",
    "        with circuit.if_test((cr, 0b11)):\n",
    "          ...\n",
    "        ```\n",
    "     </TabItem>\n",
    "    </Tabs>\n",
    "\n",
    "- Having `reset` or measurements inside conditionals is not supported.\n",
    "- Arithmetic operations are not supported.\n",
    "- See the [OpenQASM 3 feature table](/docs/guides/qasm-feature-table) to determine which OpenQASM 3 features are supported on Qiskit and Qiskit Runtime.\n",
    "- When OpenQASM 3 (instead of `QuantumCircuit`) is used as the input format to pass circuits to Qiskit Runtime primitives, only instructions that can be loaded into Qiskit are supported. Classical operations, for example, are not supported because they cannot be loaded into Qiskit. See [Import an OpenQASM 3 program into Qiskit](/docs/guides/interoperate-qiskit-qasm3#import-an-openqasm-3-program-into-qiskit) for more information on loading an OpenQASM 3 program into Qiskit."
   ]
  },
  {
   "cell_type": "markdown",
   "id": "6aa76130-acc1-4479-8a54-edab6a133e7c",
   "metadata": {},
   "source": [
    "## Next steps\n",
    "\n",
    "<Admonition type=\"tip\" title=\"Recommendations\">\n",
    "- Learn about [Deferred timing resolution using stretch.](/docs/guides/stretch)\n",
    "- Review the [circuit library API](/docs/api/qiskit/circuit_library) reference.\n",
    "</Admonition>"
   ]
  }
 ],
 "metadata": {
  "description": "Use Qiskit for classical feedforward and control flow, otherwise referred to as dynamic circuits",
  "kernelspec": {
   "display_name": "Python 3",
   "language": "python",
   "name": "python3"
  },
  "language_info": {
   "codemirror_mode": {
    "name": "ipython",
    "version": 3
   },
   "file_extension": ".py",
   "mimetype": "text/x-python",
   "name": "python",
   "nbconvert_exporter": "python",
   "pygments_lexer": "ipython3",
   "version": "3"
  },
  "title": "Classical feedforward and control flow (dynamic circuits)"
 },
 "nbformat": 4,
 "nbformat_minor": 2
}
