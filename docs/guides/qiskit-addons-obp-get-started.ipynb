{
 "cells": [
  {
   "cell_type": "markdown",
   "id": "2d697463-4d74-4761-b1d7-da8cea7cc308",
   "metadata": {},
   "source": [
    "# Get started with OBP"
   ]
  },
  {
   "cell_type": "markdown",
   "id": "62bcbefd",
   "metadata": {
    "tags": [
     "version-info"
    ]
   },
   "source": []
  },
  {
   "cell_type": "markdown",
   "id": "0b6244bb",
   "metadata": {},
   "source": [
    "When you prepare a quantum workload with operator backpropagation (OBP), first you must make a selection of \"circuit slices\", and second, you should specify a truncation threshold or \"error budget\" to remove terms with small coefficients in the backpropagated operator as well as set an upper bound to the overall size of the backpropagated operator. During backpropagation, the number of terms in the operator of an $N$-qubit circuit will approach $4^N$ quickly in the worst-case scenario. This guide demonstrates the steps involved in applying OBP to a quantum workload.\n",
    "\n",
    "The main component of the `qiskit-addons-obp` package is the `backpropagate()` function. It ingests arguments for the final observable to reconstruct, a set of circuit slices to compute classically, and, optionally, a `TruncationErrorBudget` or `OperatorBudget` to provide constraints on the truncation that is done. Once these are specified, the classically computed backpropagated operator $O'$ is calculated iteratively by applying the gates from each slice, $s$, in the following way:\n",
    "\n",
    "$$ O'^{(s)} = \\mathcal{U}_{S-s+1}^\\dagger O'^{(s-1)} \\mathcal{U}_{S-s+1} $$\n",
    "\n",
    "where $S$ is the total number of slices and $\\mathcal{U}_{s}$ represents a single slice of the circuit. This example uses the `qiskit-addons-utils` package to prepare the circuit slices as well as generate the example circuit.\n",
    "\n",
    "\n",
    "To begin, consider the time evolution of a Heisenberg XYZ chain. This Hamiltonian has the form\n",
    "\n",
    "$$ \\hat{H} = \\sum_{(j,k)} \\left( J_xX_jX_k + J_yY_jY_k + J_z Z_jZ_k \\right) + \\sum_{j} \\left(h_xX_j + h_yY_j + h_zZ_j\\right)$$\n",
    "\n",
    "and the expectation value to measure will be $\\langle Z_0 \\rangle$.\n",
    "\n",
    "The following code snippet generates the Hamiltonian in the form of a `SparsePauliOp` by using the `qiskit_addons_utils.problem_generators` module and a `CouplingMap`. Set the coupling constants to $J_x=\\pi/8$, $J_y=\\pi/4$, $J_z=\\pi/2$ and external magnetic fields to $h_x=\\pi/3$, $h_y=\\pi/6$, $h_z=\\pi/9$, and then generate a circuit that models its time evolution."
   ]
  },
  {
   "cell_type": "code",
   "execution_count": 1,
   "id": "5b4fd077-2d8f-46e8-9631-40cadbe07879",
   "metadata": {},
   "outputs": [
    {
     "data": {
      "text/plain": [
       "<Image src=\"/docs/images/guides/qiskit-addons-obp-get-started/extracted-outputs/5b4fd077-2d8f-46e8-9631-40cadbe07879-0.svg\" alt=\"Output of the previous code cell\" />"
      ]
     },
     "execution_count": 1,
     "metadata": {},
     "output_type": "execute_result"
    }
   ],
   "source": [
    "import numpy as np\n",
    "from qiskit.transpiler import CouplingMap\n",
    "from qiskit.synthesis import LieTrotter\n",
    "from qiskit.transpiler import generate_preset_pass_manager\n",
    "from qiskit_ibm_runtime import QiskitRuntimeService, EstimatorV2\n",
    "from qiskit_ibm_runtime.fake_provider import FakeMelbourneV2\n",
    "from qiskit.primitives import StatevectorEstimator\n",
    "from qiskit.quantum_info import SparsePauliOp\n",
    "from qiskit_addon_utils.problem_generators import (\n",
    "    generate_time_evolution_circuit,\n",
    "    generate_xyz_hamiltonian,\n",
    ")\n",
    "from qiskit_addon_utils.slicing import slice_by_gate_types\n",
    "from qiskit_addon_obp.utils.simplify import OperatorBudget\n",
    "from qiskit_addon_obp.utils.truncating import setup_budget\n",
    "from qiskit_addon_obp import backpropagate\n",
    "from qiskit_addon_utils.slicing import combine_slices\n",
    "\n",
    "\n",
    "coupling_map = CouplingMap.from_heavy_hex(3, bidirectional=False)\n",
    "\n",
    "# Choose a 10-qubit linear chain on this coupling map\n",
    "reduced_coupling_map = coupling_map.reduce(\n",
    "    [0, 13, 1, 14, 10, 16, 5, 12, 8, 18]\n",
    ")\n",
    "\n",
    "# Get a qubit operator describing the Heisenberg XYZ model\n",
    "hamiltonian = generate_xyz_hamiltonian(\n",
    "    reduced_coupling_map,\n",
    "    coupling_constants=(np.pi / 8, np.pi / 4, np.pi / 2),\n",
    "    ext_magnetic_field=(np.pi / 3, np.pi / 6, np.pi / 9),\n",
    ")\n",
    "\n",
    "# we evolve for some time\n",
    "circuit = generate_time_evolution_circuit(\n",
    "    hamiltonian, synthesis=LieTrotter(reps=2), time=0.2\n",
    ")\n",
    "\n",
    "circuit.draw(\"mpl\")"
   ]
  },
  {
   "cell_type": "markdown",
   "id": "f6bcccef-263d-4cf2-81b3-141b99ffc860",
   "metadata": {},
   "source": [
    "### Prepare inputs to backpropagate\n",
    "\n",
    "Next, generate the circuit slices for backpropagation. In general, the choice of how to slice can have an impact on how well backpropagation performs for a given problem. Here, group gates of the same type into slices using the `qiskit_addons_utils.slice_by_gate_types` function."
   ]
  },
  {
   "cell_type": "code",
   "execution_count": 2,
   "id": "af6efa03-22bd-4aa4-b17e-3e3f87cd0584",
   "metadata": {},
   "outputs": [
    {
     "name": "stdout",
     "output_type": "stream",
     "text": [
      "Separated the circuit into 18 slices.\n"
     ]
    }
   ],
   "source": [
    "slices = slice_by_gate_types(circuit)\n",
    "print(f\"Separated the circuit into {len(slices)} slices.\")"
   ]
  },
  {
   "cell_type": "markdown",
   "id": "10279a97-597d-44a0-b350-7a85cc58bf48",
   "metadata": {},
   "source": [
    "Once the slices have been generated, specify an `OperatorBudget` to provide the `backpropagate()` function with a condition to stop backpropagating the operator and prevent the classical overhead from growing further. You can also specify a truncation error budget for each slice wherein Pauli terms with small coefficients will be truncated from each slice until the error budget is filled. Any leftover budget will then be added to the following slice's budget.\n",
    "\n",
    "Here, specify that backpropagation should stop when the number of qubit-wise commuting Pauli groups in the operator grows past $8$, and allocate an error budget of $0.005$ for each slice."
   ]
  },
  {
   "cell_type": "code",
   "execution_count": 3,
   "id": "5b853133-40e4-4549-9751-76cc03e87595",
   "metadata": {},
   "outputs": [],
   "source": [
    "op_budget = OperatorBudget(max_qwc_groups=8)\n",
    "truncation_error_budget = setup_budget(max_error_per_slice=0.005)"
   ]
  },
  {
   "cell_type": "markdown",
   "id": "5488b302-2df5-4715-9af1-19c615d215c6",
   "metadata": {},
   "source": [
    "### Backpropagate slices\n",
    "\n",
    "In this step you will define the final observable to measure and run the backpropagation across each slice. The `backpropagate()` function returns three outputs: the backpropagated observable, the remaining circuit slices that were not backpropagated (and which should be run on quantum hardware), and metadata about the backpropagation.\n",
    "\n",
    "Note that both the `OperatorBudget` and the `TruncationErrorBudget` are optional parameters for the `backpropagate()` method. In general, the best choice for both should be heuristically chosen and requires some amount of experimentation. In this example we will backpropagate both with and without a `TruncationErrorBudget`.\n",
    "\n",
    "<Admonition title=\"Note\" type=\"note\">\n",
    "  By default, `backpropagate()` uses the $L_1$ norm of the truncated coefficients to bound the total error incurred from truncation, but other $L_p$ can be used if you would like to modify how the truncation error is calculated.\n",
    "</Admonition>"
   ]
  },
  {
   "cell_type": "code",
   "execution_count": 4,
   "id": "edb18b6e-8cca-4081-9909-baca7e82bf37",
   "metadata": {},
   "outputs": [
    {
     "name": "stdout",
     "output_type": "stream",
     "text": [
      "Backpropagated 7 slices.\n",
      "New observable has 18 terms, which can be combined into 8 groups.\n",
      "After truncation, the error in our observable is bounded by 0.000e+00\n",
      "Note that backpropagating one more slice would result in 27 terms across 12 groups.\n"
     ]
    }
   ],
   "source": [
    "# Specify a single-qubit observable\n",
    "observable = SparsePauliOp(\"IIIIIIIIIZ\")\n",
    "\n",
    "# Backpropagate without the truncation error budget\n",
    "backpropagated_observable, remaining_slices, metadata = backpropagate(\n",
    "    observable,\n",
    "    slices,\n",
    "    operator_budget=op_budget,\n",
    ")\n",
    "\n",
    "# Recombine the slices remaining after backpropagation\n",
    "bp_circuit = combine_slices(remaining_slices, include_barriers=True)\n",
    "\n",
    "print(f\"Backpropagated {metadata.num_backpropagated_slices} slices.\")\n",
    "print(\n",
    "    f\"New observable has {len(backpropagated_observable.paulis)} terms, which can be combined into \"\n",
    "    f\"{len(backpropagated_observable.group_commuting(qubit_wise=True))} groups.\\n\"\n",
    "    f\"After truncation, the error in our observable is bounded by {metadata.accumulated_error(0):.3e}\"\n",
    ")\n",
    "print(\n",
    "    f\"Note that backpropagating one more slice would result in {metadata.backpropagation_history[-1].num_paulis[0]} terms \"\n",
    "    f\"across {metadata.backpropagation_history[-1].num_qwc_groups} groups.\"\n",
    ")"
   ]
  },
  {
   "cell_type": "code",
   "execution_count": 5,
   "id": "243681df-1234-4b83-9139-16b2b8c88308",
   "metadata": {},
   "outputs": [
    {
     "name": "stdout",
     "output_type": "stream",
     "text": [
      "The remaining circuit after backpropagation without truncation looks as follows:\n"
     ]
    },
    {
     "data": {
      "text/plain": [
       "<Image src=\"/docs/images/guides/qiskit-addons-obp-get-started/extracted-outputs/243681df-1234-4b83-9139-16b2b8c88308-1.svg\" alt=\"Output of the previous code cell\" />"
      ]
     },
     "execution_count": 5,
     "metadata": {},
     "output_type": "execute_result"
    }
   ],
   "source": [
    "print(\n",
    "    \"The remaining circuit after backpropagation without truncation looks as follows:\"\n",
    ")\n",
    "bp_circuit.draw(\"mpl\", scale=0.6)"
   ]
  },
  {
   "cell_type": "markdown",
   "id": "bf66b2c0-ecd5-4657-9962-2d6dae8c63c0",
   "metadata": {},
   "source": [
    "The below code snippets backpropagates the circuit *with* a truncation error budget."
   ]
  },
  {
   "cell_type": "code",
   "execution_count": 6,
   "id": "b1ea2012-21e2-4cb4-bc7f-f528bbb8a9cb",
   "metadata": {},
   "outputs": [
    {
     "name": "stdout",
     "output_type": "stream",
     "text": [
      "Backpropagated 10 slices.\n",
      "New observable has 19 terms, which can be combined into 8 groups.\n",
      "After truncation, the error in our observable is bounded by 4.933e-02\n",
      "Note that backpropagating one more slice would result in 27 terms across 13 groups.\n"
     ]
    }
   ],
   "source": [
    "# Backpropagate *with* the truncation error budget\n",
    "backpropagated_observable_trunc, remaining_slices_trunc, metadata_trunc = (\n",
    "    backpropagate(\n",
    "        observable,\n",
    "        slices,\n",
    "        operator_budget=op_budget,\n",
    "        truncation_error_budget=truncation_error_budget,\n",
    "    )\n",
    ")\n",
    "\n",
    "# Recombine the slices remaining after backpropagation\n",
    "bp_circuit_trunc = combine_slices(\n",
    "    remaining_slices_trunc, include_barriers=True\n",
    ")\n",
    "\n",
    "print(f\"Backpropagated {metadata_trunc.num_backpropagated_slices} slices.\")\n",
    "print(\n",
    "    f\"New observable has {len(backpropagated_observable_trunc.paulis)} terms, which can be combined into \"\n",
    "    f\"{len(backpropagated_observable_trunc.group_commuting(qubit_wise=True))} groups.\\n\"\n",
    "    f\"After truncation, the error in our observable is bounded by {metadata_trunc.accumulated_error(0):.3e}\"\n",
    ")\n",
    "print(\n",
    "    f\"Note that backpropagating one more slice would result in {metadata_trunc.backpropagation_history[-1].num_paulis[0]} terms \"\n",
    "    f\"across {metadata_trunc.backpropagation_history[-1].num_qwc_groups} groups.\"\n",
    ")"
   ]
  },
  {
   "cell_type": "code",
   "execution_count": 7,
   "id": "ab852775-229d-4652-9456-56c4dc8e628c",
   "metadata": {},
   "outputs": [
    {
     "name": "stdout",
     "output_type": "stream",
     "text": [
      "The remaining circuit after backpropagation with truncation looks as follows:\n"
     ]
    },
    {
     "data": {
      "text/plain": [
       "<Image src=\"/docs/images/guides/qiskit-addons-obp-get-started/extracted-outputs/ab852775-229d-4652-9456-56c4dc8e628c-1.svg\" alt=\"Output of the previous code cell\" />"
      ]
     },
     "execution_count": 7,
     "metadata": {},
     "output_type": "execute_result"
    }
   ],
   "source": [
    "print(\n",
    "    \"The remaining circuit after backpropagation with truncation looks as follows:\"\n",
    ")\n",
    "bp_circuit_trunc.draw(\"mpl\", scale=0.6)"
   ]
  },
  {
   "cell_type": "markdown",
   "id": "aeb9995a-5530-4dbb-82f7-dca6abd798f0",
   "metadata": {},
   "source": [
    "### Transpile and execute quantum workload\n",
    "\n",
    "Now that you have backpropagated the operator, you can execute the remaining portion of the circuit on a QPU. The quantum workload, using the Estimator, should include the `bp_circuit_trunc` circuit and must measure the backpropagated operator `backpropagated_observable`\n",
    "\n",
    "To demonstrate the effectiveness of OBP on its own, the following code snippet transpiles both the original and backpropagated circuit (with and without truncation) and simulates the circuits classically using the `StatevectorEstimator`."
   ]
  },
  {
   "cell_type": "code",
   "execution_count": 8,
   "id": "a04ff4e3-4a8c-4844-bcac-c4557c7e24fe",
   "metadata": {},
   "outputs": [
    {
     "name": "stdout",
     "output_type": "stream",
     "text": [
      "Exact expectation value: 0.8854160687717517\n",
      "Backpropagated expectation value without truncation: 0.885416068771756\n",
      "Backpropagated expectation value with truncation: 0.8850236647156069\n",
      "    - Expected Error for truncated observable: 4.933e-02\n",
      "    - Observed Error for truncated observable: 3.924e-04\n"
     ]
    }
   ],
   "source": [
    "# Specify a backend and a pass manager for transpilation\n",
    "backend = FakeMelbourneV2()\n",
    "# pm = generate_preset_pass_manager(backend=backend, optimization_level=1)\n",
    "\n",
    "\n",
    "pm = generate_preset_pass_manager(backend=backend, optimization_level=3)\n",
    "\n",
    "# Transpile original experiment\n",
    "circuit_isa = pm.run(circuit)\n",
    "observable_isa = observable.apply_layout(circuit_isa.layout)\n",
    "\n",
    "# Transpile backpropagated experiment without truncation\n",
    "bp_circuit_isa = pm.run(bp_circuit)\n",
    "bp_obs_isa = backpropagated_observable.apply_layout(bp_circuit_isa.layout)\n",
    "\n",
    "# Transpile the backpropagated experiment with truncated observable terms\n",
    "bp_circuit_trunc_isa = pm.run(bp_circuit_trunc)\n",
    "bp_obs_trunc_isa = backpropagated_observable_trunc.apply_layout(\n",
    "    bp_circuit_trunc_isa.layout\n",
    ")\n",
    "\n",
    "\n",
    "estimator = StatevectorEstimator()\n",
    "\n",
    "# Run the experiments using the exact statevector estimator\n",
    "result_exact = (\n",
    "    estimator.run([(circuit, observable)]).result()[0].data.evs.item()\n",
    ")\n",
    "\n",
    "result_bp = (\n",
    "    estimator.run([(bp_circuit_isa, bp_obs_isa)]).result()[0].data.evs.item()\n",
    ")\n",
    "result_bp_trunc = (\n",
    "    estimator.run([(bp_circuit_trunc_isa, bp_obs_trunc_isa)])\n",
    "    .result()[0]\n",
    "    .data.evs.item()\n",
    ")\n",
    "\n",
    "print(f\"Exact expectation value: {result_exact}\")\n",
    "print(f\"Backpropagated expectation value without truncation: {result_bp}\")\n",
    "print(f\"Backpropagated expectation value with truncation: {result_bp_trunc}\")\n",
    "print(\n",
    "    f\"    - Expected Error for truncated observable: {metadata_trunc.accumulated_error(0):.3e}\"\n",
    ")\n",
    "print(\n",
    "    f\"    - Observed Error for truncated observable: {abs(result_exact - result_bp_trunc):.3e}\"\n",
    ")"
   ]
  },
  {
   "cell_type": "markdown",
   "id": "bdccc683-0fc3-4ce2-975b-3ff495247c66",
   "metadata": {},
   "source": [
    "Lastly the following code snippet will transpile and execute the backpropagated circuit on a QPU (both with and without truncation)."
   ]
  },
  {
   "cell_type": "code",
   "execution_count": 9,
   "id": "fb918a29-acb5-491a-8d7e-58fccd159a6a",
   "metadata": {},
   "outputs": [
    {
     "name": "stdout",
     "output_type": "stream",
     "text": [
      "Exact expectation value: 0.8854160687717517\n",
      "Backpropagated expectation value without truncation: 0.8607281593588844\n",
      "Backpropagated expectation value with truncation: 0.8393389416453781\n",
      "    - Observed Error for observable without truncation: 2.469e-02\n",
      "    - Observed Error for truncated observable: 4.608e-02\n"
     ]
    }
   ],
   "source": [
    "# Specify a backend and a pass manager for transpilation\n",
    "service = QiskitRuntimeService()\n",
    "backend = service.least_busy()\n",
    "pm = generate_preset_pass_manager(backend=backend, optimization_level=3)\n",
    "\n",
    "# Transpile backpropagated experiment without truncation\n",
    "bp_circuit_isa = pm.run(bp_circuit)\n",
    "bp_obs_isa = backpropagated_observable.apply_layout(bp_circuit_isa.layout)\n",
    "\n",
    "# Transpile the backpropagated experiment with truncated observable terms\n",
    "bp_circuit_trunc_isa = pm.run(bp_circuit_trunc)\n",
    "bp_obs_trunc_isa = backpropagated_observable_trunc.apply_layout(\n",
    "    bp_circuit_trunc_isa.layout\n",
    ")\n",
    "\n",
    "# Run the experiments using Estimator primitive\n",
    "estimator = EstimatorV2(mode=backend)\n",
    "\n",
    "result_bp_qpu = (\n",
    "    estimator.run([(bp_circuit_isa, bp_obs_isa)]).result()[0].data.evs.item()\n",
    ")\n",
    "\n",
    "result_bp_trunc_qpu = (\n",
    "    estimator.run([(bp_circuit_trunc_isa, bp_obs_trunc_isa)])\n",
    "    .result()[0]\n",
    "    .data.evs.item()\n",
    ")\n",
    "\n",
    "print(f\"Exact expectation value: {result_exact}\")\n",
    "print(f\"Backpropagated expectation value without truncation: {result_bp_qpu}\")\n",
    "print(\n",
    "    f\"Backpropagated expectation value with truncation: {result_bp_trunc_qpu}\"\n",
    ")\n",
    "print(\n",
    "    f\"    - Observed Error for observable without truncation: {abs(result_exact - result_bp_qpu):.3e}\"\n",
    ")\n",
    "print(\n",
    "    f\"    - Observed Error for truncated observable: {abs(result_exact - result_bp_trunc_qpu):.3e}\"\n",
    ")"
   ]
  },
  {
   "cell_type": "markdown",
   "id": "a56ecccf-d412-42bc-8bee-3a0e2f51ce2c",
   "metadata": {},
   "source": [
    "## Next steps\n",
    "\n",
    "<Admonition type=\"tip\" title=\"Recommendations\">\n",
    "    - Read through the [OBP tutorial](https://learning.quantum.ibm.com/tutorial/improving-estimation-of-expectation-values-with-operator-backpropagation) on the IBM Quantum Learning Platform.\n",
    "</Admonition>"
   ]
  }
 ],
 "metadata": {
  "description": "Get started using the operator backpropagation Qiskit addon (OBP)",
  "kernelspec": {
   "display_name": "Python 3",
   "language": "python",
   "name": "python3"
  },
  "language_info": {
   "codemirror_mode": {
    "name": "ipython",
    "version": 3
   },
   "file_extension": ".py",
   "mimetype": "text/x-python",
   "name": "python",
   "nbconvert_exporter": "python",
   "pygments_lexer": "ipython3",
   "version": "3"
  },
  "title": "Get started with OBP"
 },
 "nbformat": 4,
 "nbformat_minor": 4
}
