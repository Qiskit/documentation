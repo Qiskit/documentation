{
 "cells": [
  {
   "cell_type": "markdown",
   "id": "3fdd7eec-a38a-4835-9fbc-9e15b09c17d2",
   "metadata": {},
   "source": [
    "# Workload usage"
   ]
  },
  {
   "cell_type": "markdown",
   "id": "720c96d9-4903-4eea-ae7a-19c34208150b",
   "metadata": {
    "tags": [
     "version-info"
    ]
   },
   "source": []
  },
  {
   "cell_type": "markdown",
   "id": "46a0a6e0-dee7-4ac9-91b2-399e7a51623f",
   "metadata": {},
   "source": [
    "<span id=\"usage\"></span>\n",
    "Usage is a measurement of the amount of time the QPU is locked for your workload, and it is calculated differently, depending on which execution mode you're using.\n",
    "\n",
    "* Session usage is the time from when the first job starts until the session goes inactive, is closed, or when its last job completes, whichever happens last. It includes both classical and quantum time (time spent by the QPU complex to process your job).\n",
    "* Batch usage is the sum of quantum time of all jobs in the batch.\n",
    "* Single job usage is the quantum time the job uses in processing.\n",
    "\n",
    "The reported usage is the time a QPU is locked for your workload. Failed or canceled jobs count toward your usage in certain circumstances - see the [Failed and canceled jobs](#failed-job) section for details.\n",
    "\n",
    "For paid plan users, usage determines how much the workload costs. See [Manage cost](/docs/guides/manage-cost) for details.\n",
    "\n",
    "<span id=\"failed-job\"></span>\n",
    "## Usage for failed and canceled jobs\n",
    "When a job is failed or canceled, the reported usage is as follows:\n",
    "\n",
    "* Job or batch mode: The reported usage is the time the QPU was locked for executing your workload until the time it failed or was canceled. Therefore, if the failure or cancellation occurred before the lock, the reported usage is zero. Otherwise, the workload's reported usage is the amount of usage before the workload failed or was canceled. Thus, some failed jobs do not appear in your reported usage and others do.\n",
    "\n",
    "* Session mode: The reported usage is the wall-clock time from when the first job started executing in the session until the session terminates, regardless of the number of jobs that fail or are canceled.\n",
    "\n",
    "<span id=\"view-usage\"></span>\n",
    "## Determine a workload's actual usage\n",
    "\n",
    "After a workload has completed, there are several ways to view its actual usage:\n",
    "\n",
    "- Run [`batch.usage()`](/docs/api/qiskit-ibm-runtime/batch#usage) or [`session.usage()`](/docs/api/qiskit-ibm-runtime/session#usage) in `qiskit-ibm-runtime` 0.30 or later.  If using an older version of `qiskit-ibm-runtime` (>= 0.23 and < 0.30), the usage can be still be found in `session.details()[\"usage_time\"]` and `batch.details()[\"usage_time\"]`.\n",
    "- Use [`GET /sessions/{id}`](/docs/api/qiskit-ibm-runtime/tags/sessions#tags__sessions__operations__GetSessionDetailsExtendedController_getSessionDetails) to see usage for a specific batch or session.\n",
    "- Use [`GET /jobs/{id}`](/docs/api/qiskit-ibm-runtime/tags/jobs#tags__jobs__operations__GetJobByIdController_getJobById) to see usage for a single job.\n",
    "\n",
    "<span id=\"instance-usage\"></span>\n",
    "## View instance usage\n",
    "\n",
    "You can view an instance's usage on the [Instances](https://quantum.cloud.ibm.com/instances) page, or, for those with the proper authority, the [Analytics](https://quantum.cloud.ibm.com/analytics) page.  Note that the pages might show different usage numbers because they calculate usage differently.\n",
    "\n",
    "The Instances page shows real-time usage for the last 28 days (rolling), up to the current time on the current day.  The Analytics page usage is re-calculated hourly and includes the last 28 full days; that is, it shows usage from 00:00 28 days ago to today, at the top of the hour.\n",
    "\n",
    "## Estimate usage before submitting a job\n",
    "\n",
    "While getting an accurate local estimation is complicated by the extra operations done for error suppression and mitigation, you can use this baseline formula to get an approximation of estimated usage:\n",
    "\n",
    "`<per sub-job overhead> + (rep_delay + <circuit length>) * <num executions>`\n",
    "\n",
    "- `<per sub-job overhead>` is an overhead of approximately 2s per sub-job. This includes operations such as loading the payload into control electronics. Your primitive job may be divided into multiple sub-jobs if it is too large for the execution engine to process all at once.\n",
    "- `rep_delay` is a [user-customizable](/docs/api/qiskit-ibm-runtime/options-execution-options-v2#rep_delay) option, and the default is given by `backend.default_rep_delay`, which is 250 microseconds on most IBM Quantum backends. Note that lowering `rep_delay` decreases the total QPU execution time, but at the expense of increased state preparation error rate; see the [Dynamic repetition rate execution](/docs/guides/repetition-rate-execution) guide for more information.\n",
    "- `<circuit length>` is the total instruction length. Each instruction takes different amount of time on the QPU, so the total length varies from circuit to circuit. A measurement, for example, can take 56 times longer than an `x` gate. `backend.target[<instruction>][<qubit>].duration` can be used to find the exact duration for each instruction. A typical circuit length is likely between 50-100 microseconds. If you are using error suppression or mitigation techniques with the primitives, extra instructions might be inserted into your circuit, which would increase the total circuit length.\n",
    "- `<num executions>` is the total number of circuits times the number of shots, where the circuits are those generated after PUB elements are broadcasted. If you are using error-mitigation techniques with the primitives, extra circuits can be run as part of the mitigation process, which would increase the total number of executions. Advanced error-mitigation techniques such as PEA and PEC come with much higher overhead because they require running circuits for noise learning.\n",
    "\n",
    "If you aren't using any advanced error-mitigation techniques or custom `rep_delay`, you can use `2+0.00035*<num executions>` as a quick formula.\n",
    "\n",
    "## Next steps\n",
    "\n",
    "<Admonition type=\"tip\" title=\"Recommendations\">\n",
    "    - Review these tips: [Minimize job run time](minimize-time).\n",
    "    - Set the [Maximum execution time](max-execution-time).\n",
    "    - Learn how to transpile locally in the [Transpile](./transpile/) section.\n",
    "    - Try the [Compare transpiler settings](/docs/tutorials/circuit-transpilation-settings) tutorial.\n",
    "</Admonition>"
   ]
  }
 ],
 "metadata": {
  "description": "Explains what usage is and how to estimate how long a job that uses a primitive will take to run",
  "kernelspec": {
   "display_name": "Python 3",
   "language": "python",
   "name": "python3"
  },
  "language_info": {
   "codemirror_mode": {
    "name": "ipython",
    "version": 3
   },
   "file_extension": ".py",
   "mimetype": "text/x-python",
   "name": "python",
   "nbconvert_exporter": "python",
   "pygments_lexer": "ipython3",
   "version": "3"
  },
  "title": "Workload usage"
 },
 "nbformat": 4,
 "nbformat_minor": 4
}
