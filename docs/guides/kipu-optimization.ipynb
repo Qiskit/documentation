{
 "cells": [
  {
   "cell_type": "markdown",
   "id": "f7d9993f",
   "metadata": {},
   "source": [
    "{/* cspell:ignore Kipu  */}"
   ]
  },
  {
   "cell_type": "markdown",
   "id": "dde95705",
   "metadata": {},
   "source": [
    "# [FUNCTION NAME, TASK BASED] - A Qiskit Function by Kipu Quantum\n",
    "\n",
    "<Admonition type=\"note\">\n",
    "  Qiskit Functions are an experimental feature available only to IBM Quantum™ Premium Plan users. They are in preview release status and subject to change.\n",
    "</Admonition>\n",
    "\n",
    "## Overview\n",
    "\n",
    "High-level description of the function. Who is this built for? What can this function be used to solve?\n",
    "\n",
    "[Image that presents a high level overview of the function, steps / performance / etc]"
   ]
  },
  {
   "cell_type": "markdown",
   "id": "5f761442",
   "metadata": {},
   "source": [
    "## Description\n",
    "\n",
    "Detailed, in-depth description of what the function does.\n",
    "\n",
    "[Function name] is used to solve ____________ types of problems....\n",
    "\n",
    "\n",
    "Note: For concepts/explanations already covered elsewhere in IBM Quantum Platform documentation, link out to that documentation rather than duplicate here."
   ]
  },
  {
   "cell_type": "markdown",
   "id": "73390a19",
   "metadata": {},
   "source": [
    "## Get started\n",
    "\n",
    "Authenticate using your [IBM Quantum&trade; Platform API token](http://quantum.ibm.com/), and select the Qiskit Function as follows:"
   ]
  },
  {
   "cell_type": "code",
   "execution_count": null,
   "id": "0e4fd124",
   "metadata": {
     "tags": [
       "remove-cell"
     ]
   },
   "outputs": [],
   "source": [
    "# ruff: noqa: F821"
   ]
  },
  {
   "cell_type": "code",
   "execution_count": null,
   "id": "95a715d2",
   "metadata": {},
   "outputs": [],
   "source": [
    "from qiskit_ibm_catalog import QiskitFunctionsCatalog\n",
    "\n",
    "catalog = QiskitFunctionsCatalog()\n",
    "function = catalog.load(\"ibm/circuit-function\")"
   ]
  },
  {
   "cell_type": "markdown",
   "id": "b34fe075",
   "metadata": {},
   "source": [
    "## Benchmarks\n",
    "\n",
    " **Guidelines**:\n",
    "\n",
    "- Speed-based benchmarks should be realizable, which means wall clock time from function being involved to results being delivered (not including queue time)\n",
    "- Cost should be the total Qiskit Runtime bill and not ideal extrapolations. This includes all jobs and sessions created\n",
    "- We want you to emphasize the specific nontrivial use cases where your function is particularly excellent (low-weight observables, high depth, and so forth)\n",
    "- Scale and accuracy-based metrics should map to representative workloads users can try and experience for themselves\n",
    "\n",
    "\n",
    "\n",
    "\n",
    "| Example    | Number of qubits | Classical scale (for application functions) | Accuracy | Total time | Runtime usage |\n",
    "| ---------  | ---------------- | -------------------------- | -------- | ---------- | ------------- |\n",
    "| Example 1  | 100              | 10000                      | 100%     | 150 s      | 12 s          |\n",
    "| Example 2  | 102              | 100000                     | 98%      | 200 s      | 16 s          |\n",
    "| Example 3  | 127              | 1000000                    | 96%      | 300 s      | 60 s          |\n",
    "\n",
    "\n",
    "Please add the workload configurations for users to review."
   ]
  },
  {
   "cell_type": "markdown",
   "id": "e8837f5f",
   "metadata": {},
   "source": [
    "## Example\n",
    "\n",
    "Walkthrough of a common use-case as an example.\n",
    "\n",
    " To get started, try the basic example:"
   ]
  },
  {
   "cell_type": "code",
   "execution_count": null,
   "id": "d56e1440",
   "metadata": {},
   "outputs": [],
   "source": [
    "# Use code comments to explain what is happening in each step.\n",
    "job = function.run(argument_1=\"hello\", argument_2=\"world\")"
   ]
  },
  {
   "cell_type": "markdown",
   "id": "03998691",
   "metadata": {},
   "source": [
    "Check your Qiskit Function workload's [status](/guides/functions#check-job-status) or return [results](/guides/functions#retrieve-results) as follows:"
   ]
  },
  {
   "cell_type": "code",
   "execution_count": null,
   "id": "856fe992",
   "metadata": {},
   "outputs": [],
   "source": [
    "print(job.status())\n",
    "result = job.result()"
   ]
  },
  {
   "cell_type": "markdown",
   "id": "e2817b13",
   "metadata": {},
   "source": [
    "## Inputs\n",
    "\n",
    "See the following table for all input parameters the IBM Circuit function accepts. The subsequent [Options](#options) section goes into more details about the available `options`."
   ]
  },
  {
   "cell_type": "markdown",
   "id": "d2fb670d",
   "metadata": {},
   "source": [
    "(replace)\n",
    "\n",
    "| Name          | Type                        | Description                                                                                                                                                                                                                                                                                     | Required | Default                                                                  | Example                                   |\n",
    "| ------------- | --------------------------- | ----------------------------------------------------------------------------------------------------------------------------------------------------------------------------------------------------------------------------------------------------------------------------------------------- | -------- | ------------------------------------------------------------------------ | ----------------------------------------- |\n",
    "| backend\\_name | str                         | Name of the backend to make the query.                                                                                                                                                                                                                                                          | Yes      | N/A                                                                      | `ibm_fez`                                 |\n",
    "| pubs          | Iterable\\[EstimatorPubLike] | An iterable of abstract PUB-like (primitive unified bloc) objects, such as tuples `(circuit, observables)` or `(circuit, observables, parameter_values)`. See [Overview of PUBs](/guides/primitive-input-output#overview-of-pubs) for more information. The circuits can be abstract (non-ISA). | Yes      | N/A                                                                      | (circuit, observables, parameter\\_values) |\n",
    "| options       | dict                        | Input options. See the **Options** section for more details.                                                                                                                                                                                                                                    | No       | See the **Options** section for details.                                 | `{\"optimization_level\": 3}`               |\n",
    "| instance      | str                         | The hub/group/project to use in that format.                                                                                                                                                                                                                                                    | No       | One is randomly picked if your account has access to multiple instances. | `hub1/group1/project1`                    |"
   ]
  },
  {
   "cell_type": "markdown",
   "id": "43dc063b",
   "metadata": {},
   "source": [
    "### Options\n",
    "\n",
    "#### Structure\n",
    "\n",
    "\n",
    "\n",
    "#### Defaults"
   ]
  },
  {
   "cell_type": "code",
   "execution_count": null,
   "id": "e92606aa",
   "metadata": {},
   "outputs": [],
   "source": [
    "# Snippet of options being set\n",
    "options = {\"mitigation_level\": 2}\n",
    "\n",
    "job = function.run(backend_name=backend.name, param1=\"a\", options=options)"
   ]
  },
  {
   "cell_type": "markdown",
   "id": "c9eaf19a",
   "metadata": {},
   "source": [
    "## Outputs\n",
    "\n",
    "What is output datatype? Describe components if nested"
   ]
  },
  {
   "cell_type": "markdown",
   "id": "04236c83",
   "metadata": {},
   "source": [
    "## Fetching error messages\n",
    "\n",
    "If your workload status is `ERROR`, use `job.result()` to fetch the error message to help debug as follows:"
   ]
  },
  {
   "cell_type": "code",
   "execution_count": null,
   "id": "90c6de7c",
   "metadata": {},
   "outputs": [],
   "source": [
    "job = function.run(\n",
    "    backend_name=\"bad_backend_name\", pubs=pubs, options=options\n",
    ")\n",
    "\n",
    "print(job.result())"
   ]
  },
  {
   "cell_type": "markdown",
   "id": "e9ec2e67",
   "metadata": {},
   "source": [
    "## Get support\n",
    "\n",
    "Link to contact information for support questions."
   ]
  },
  {
   "cell_type": "markdown",
   "id": "5a6a25c8",
   "metadata": {},
   "source": [
    "## Next steps\n",
    "\n",
    "[Links to relevant tutorials]"
   ]
  }
 ],
 "metadata": {
  "description": "TODO add description of 50-150 characters. This is used for SEO",
  "kernelspec": {
   "display_name": "Python 3",
   "language": "python",
   "name": "python3"
  },
  "language_info": {
   "codemirror_mode": {
    "name": "ipython",
    "version": 3
   },
   "file_extension": ".py",
   "mimetype": "text/x-python",
   "name": "python",
   "nbconvert_exporter": "python",
   "pygments_lexer": "ipython3",
   "version": "3"
  },
  "title": "Optimization - A Qiskit Function by Kipu Quantum"
 },
 "nbformat": 4,
 "nbformat_minor": 5
}
