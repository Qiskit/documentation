{
 "cells": [
  {
   "cell_type": "markdown",
   "id": "ad8a25cb-326a-4e5e-9e04-6ab1f02a2bc3",
   "metadata": {},
   "source": [
    "# Hardware considerations and limitations for classical feedforward and control flow"
   ]
  },
  {
   "cell_type": "markdown",
   "id": "8515bf71-f79c-47f6-a5ef-5314361bf80b",
   "metadata": {
    "tags": [
     "version-info"
    ]
   },
   "source": [
    "<details>\n",
    "<summary><b>Package versions</b></summary>\n",
    "\n",
    "The code on this page was developed using the following requirements.\n",
    "We recommend using these versions or newer.\n",
    "\n",
    "```\n",
    "\n",
    "```\n",
    "</details>"
   ]
  },
  {
   "cell_type": "markdown",
   "id": "b3d504a0-ce8a-4bfb-aa0a-304c3360e81f",
   "metadata": {},
   "source": [
    "[Classical feedforward and control flow](/docs/guides/classical-feedforward-and-control-flow) shows how to use Qiskit to build circuits that involve classical feedforward and control flow, also known as dynamic circuits. When actually running such circuits on quantum hardware, there are several considerations and limitations to be aware of. Many of these limitations exist because the underlying technology supporting these features is in an early stage of development, and we hope to be able to address them in the future.\n",
    "\n",
    "\n",
    "## Memory limits and latency in control hardware\n",
    "\n",
    "![Diagram showing control hardware architecture](/docs/images/guides/dynamic-circuits-considerations/rta-architecture.avif)\n",
    "\n",
    "Running circuits on quantum processors involves not only the qubits themselves, but also a system of classical electronics and computers to generate and receive waveforms and orchestrate the control logic. When a job is submitted to the IBM Quantum&reg; service, it is processed into multiple classical programs that must be distributed between two kinds of units: central controllers and qubit controllers (see diagram above). A job may fail if it exceeds certain limitations of these controllers. There are two kinds of limitations to be aware of:\n",
    "\n",
    "- **Limited working memory**. This primarily affects the central controllers, and jobs will fail if they cause this memory limit to be exceeded.\n",
    "- **Latency caused by classical computation**. Running circuits that use classical feedforward and control flow involves performing classical computation during the course of the circuit execution. Due to the limited coherence time of qubits, there is a limited time budget for performing these computations. A job may fail at compile time if the compilation detects that the classical computation overhead is too large.\n",
    "\n",
    "The memory requirements and classical latencies of a job are affected by the following factors:\n",
    "\n",
    "- **Number of circuits**. When multiple circuits are submitted in a single job, they become concatenated into a single large circuit, with qubit initialization operations between them. Qubit initialization is implemented as a conditional reset on all qubits used in the large circuit.\n",
    "  - Central controller: Memory usage scales proportionally with the number of circuits.\n",
    "- **Amount of control flow**.\n",
    "  - Central controller: Memory usage scales proportionally with the number of control flow decisions.\n",
    "  - Qubit controller: A control flow construct with too many or too large logic branches may not be realizable.\n",
    "- **Resets**.\n",
    "  - Central controller: Memory usage scales proportionally with the number of resets.\n",
    "- **Measurements**.\n",
    "  - Central controller: Memory usage scales proportionally with the number of measurements used by the central controller for control flow.\n",
    "<span id=\"buffer-overflow\"></span>\n",
    "- **Buffer overflow error**. One of the most common limitations users can encounter when executing dynamic circuits is a buffer overflow during measurement result collection. The measurement buffer on the control system can only store a limited number of measurement results. If the circuit performs many measurements in rapid succession, the buffer might fill before the control system has time to stream the results to the host, causing a job failure.\n",
    "\n",
    "  If you encounter the error `\"RuntimeJobFailureError: unable to retrieve job result. A buffer overflow occurred during result collection...\"`, try these strategies to mitigate this issue:\n",
    "  - **Increase `rep_delay` (delay between shots):** This adds time between shots, giving the control system more time to offload measurement results to the host and clear the buffer. This is the most direct fix and does not impact shot quality, though it will increase total job execution time.\n",
    "  - **Insert `qc.delay()` after measurements:** Add a delay instruction between measurements within a circuit to give the system time to stream results and prevent the buffer from filling.\n",
    "  **Note:** this approach increases the circuit duration, which might reduce shot quality due to qubit decoherence.\n",
    "\n",
    "  For more information, see the [Dynamic repetition rate execution](/docs/guides/repetition-rate-execution) guide."
   ]
  }
 ],
 "metadata": {
  "description": "Article on hardware considerations and limitations for classical feedforward and control flow",
  "kernelspec": {
   "display_name": "Python 3",
   "language": "python",
   "name": "python3"
  },
  "language_info": {
   "codemirror_mode": {
    "name": "ipython",
    "version": 3
   },
   "file_extension": ".py",
   "mimetype": "text/x-python",
   "name": "python",
   "nbconvert_exporter": "python",
   "pygments_lexer": "ipython3",
   "version": "3"
  },
  "title": "Hardware considerations and limitations for classical feedforward and control flow"
 },
 "nbformat": 4,
 "nbformat_minor": 2
}
