{
 "cells": [
  {
   "cell_type": "markdown",
   "id": "ad8a25cb-326a-4e5e-9e04-6ab1f02a2bc3",
   "metadata": {},
   "source": [
    "# Hardware considerations and limitations for classical feedforward and control flow"
   ]
  },
  {
   "cell_type": "markdown",
   "id": "8515bf71-f79c-47f6-a5ef-5314361bf80b",
   "metadata": {
    "tags": [
     "version-info"
    ]
   },
   "source": [
    "<details>\n",
    "<summary><b>Package versions</b></summary>\n",
    "\n",
    "The code on this page was developed using the following requirements.\n",
    "We recommend using these versions or newer.\n",
    "\n",
    "```\n",
    "qiskit[all]~=1.3.1\n",
    "qiskit-ibm-runtime~=0.34.0\n",
    "qiskit-aer~=0.15.1\n",
    "qiskit-serverless~=0.18.1\n",
    "qiskit-ibm-catalog~=0.2\n",
    "qiskit-addon-sqd~=0.8.1\n",
    "qiskit-addon-utils~=0.1.0\n",
    "qiskit-addon-mpf~=0.2.0\n",
    "qiskit-addon-aqc-tensor~=0.1.2\n",
    "qiskit-addon-obp~=0.1.0\n",
    "scipy~=1.15.0\n",
    "pyscf~=2.8.0\n",
    "```\n",
    "</details>"
   ]
  },
  {
   "cell_type": "markdown",
   "id": "b3d504a0-ce8a-4bfb-aa0a-304c3360e81f",
   "metadata": {},
   "source": [
    "[Classical feedforward and control flow](./classical-feedforward-and-control-flow) shows how to use Qiskit to build circuits that involve classical feedforward and control flow, also known as dynamic circuits. When actually running such circuits on quantum hardware, there are several considerations and limitations to be aware of. Many of these limitations exist because the underlying technology supporting these features is in an early stage of development, and we hope to be able to address them in the future.\n",
    "\n",
    "\n",
    "## Memory limits and latency in control hardware\n",
    "\n",
    "![Diagram showing control hardware architecture](/images/guides/rta-architecture.avif)\n",
    "\n",
    "Running circuits on quantum processors involves not only the qubits themselves, but also a system of classical electronics and computers to generate and receive waveforms and orchestrate the control logic. When a job is submitted to the IBM Quantum&trade; service, it is processed into multiple classical programs that must be distributed between two kinds of units: central controllers and qubit controllers (see diagram above). A job may fail if it exceeds certain limitations of these controllers. There are two kinds of limitations to be aware of:\n",
    "\n",
    "- **Limited working memory**. This primarily affects the central controllers, and jobs will fail if they cause this memory limit to be exceeded.\n",
    "- **Latency caused by classical computation**. Running circuits that use classical feedforward and control flow involves performing classical computation during the course of the circuit execution. Due to the limited coherence time of qubits, there is a limited time budget for performing these computations. A job may fail at compile time if the compilation detects that the classical computation overhead is too large.\n",
    "\n",
    "The memory requirements and classical latencies of a job are affected by the following factors:\n",
    "\n",
    "- **Number of circuits**. When multiple circuits are submitted in a single job, they become concatenated into a single large circuit, with qubit initialization operations between them. Qubit initialization is implemented as a conditional reset on all qubits used in the large circuit.\n",
    "  - Central controller: Memory usage scales proportionally with the number of circuits.\n",
    "- **Amount of control flow**.\n",
    "  - Central controller: Memory usage scales proportionally with the number of control flow decisions.\n",
    "  - Qubit controller: A control flow construct with too many or too large logic branches may not be realizable.\n",
    "- **Resets**.\n",
    "  - Central controller: Memory usage scales proportionally with the number of resets.\n",
    "- **Measurements**.\n",
    "  - Central controller: Memory usage scales proportionally with the number of measurements used by the central controller for control flow."
   ]
  }
 ],
 "metadata": {
  "description": "Article on hardware considerations and limitations for classical feedforward and control flow",
  "kernelspec": {
   "display_name": "Python 3",
   "language": "python",
   "name": "python3"
  },
  "language_info": {
   "codemirror_mode": {
    "name": "ipython",
    "version": 3
   },
   "file_extension": ".py",
   "mimetype": "text/x-python",
   "name": "python",
   "nbconvert_exporter": "python",
   "pygments_lexer": "ipython3",
   "version": "3"
  },
  "title": "Hardware considerations and limitations for classical feedforward and control flow"
 },
 "nbformat": 4,
 "nbformat_minor": 2
}
