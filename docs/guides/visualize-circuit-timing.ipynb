{
 "cells": [
  {
   "cell_type": "markdown",
   "id": "31a875db-78f9-4928-aef2-ca1daa0f499d",
   "metadata": {},
   "source": [
    "{/* cspell:ignore mactex, backgroundcolor, lightgreen */}"
   ]
  },
  {
   "cell_type": "markdown",
   "id": "622fdd94-3083-4770-b83b-78eab1482cbf",
   "metadata": {},
   "source": [
    "# Visualize circuit timing"
   ]
  },
  {
   "cell_type": "markdown",
   "id": "d776691c-74bb-48f3-bf7c-c7ec4afb7006",
   "metadata": {
    "tags": [
     "version-info"
    ]
   },
   "source": [
    "<details>\n",
    "<summary><b>Package versions</b></summary>\n",
    "\n",
    "The code on this page was developed using the following requirements.\n",
    "We recommend using these versions or newer.\n",
    "\n",
    "```\n",
    "qiskit[all]~=2.1.1\n",
    "```\n",
    "</details>"
   ]
  },
  {
   "cell_type": "markdown",
   "id": "14514a7d-eed5-4035-b3bb-4dbd26d687ac",
   "metadata": {},
   "source": [
    "In addition to [visualizing instructions on a circuit](/docs/guides/visualize-circuits) you might want to use the Qiskit [`timeline_drawer`](/docs/api/qiskit/qiskit.visualization.timeline_drawer) method, which lets you visualize a circuit's scheduling. This visualization could help you to quickly spot idling time on qubits, for example.\n",
    "\n",
    "<Admonition type=\"note\" title=\"Notes\">\n",
    "- This is an experimental function. It is in preview release status and is therefore subject to change.\n",
    "- This function only applies to Sampler jobs.\n",
    "</Admonition>\n",
    "\n",
    "## Examples\n",
    "\n",
    "To visualize a scheduled circuit program, you can call this function with a set of control arguments. Most of the  output image's appearance can be modified by a stylesheet, but this is not required.\n",
    "\n",
    "### Draw with the default stylesheet"
   ]
  },
  {
   "cell_type": "code",
   "execution_count": 1,
   "id": "92beeddc-939a-4e65-b8ed-1ca5872178de",
   "metadata": {},
   "outputs": [
    {
     "data": {
      "text/plain": [
       "<Image src=\"/docs/images/guides/visualize-circuit-timing/extracted-outputs/92beeddc-939a-4e65-b8ed-1ca5872178de-0.avif\" alt=\"Output of the previous code cell\" />"
      ]
     },
     "execution_count": 1,
     "metadata": {},
     "output_type": "execute_result"
    }
   ],
   "source": [
    "from qiskit import QuantumCircuit\n",
    "from qiskit.visualization.timeline import draw\n",
    "from qiskit.providers.fake_provider import GenericBackendV2\n",
    "from qiskit.transpiler import generate_preset_pass_manager\n",
    "\n",
    "qc = QuantumCircuit(2)\n",
    "qc.h(0)\n",
    "qc.cx(0, 1)\n",
    "\n",
    "backend = GenericBackendV2(5)\n",
    "\n",
    "pm = generate_preset_pass_manager(backend=backend, optimization_level=1)\n",
    "isa_circuit = pm.run(qc)\n",
    "\n",
    "draw(isa_circuit, target=backend.target)"
   ]
  },
  {
   "cell_type": "markdown",
   "id": "ac0c0444-34cd-47c0-a172-f00b0e791262",
   "metadata": {},
   "source": [
    "### Draw with a stylesheet suited for program debugging"
   ]
  },
  {
   "cell_type": "code",
   "execution_count": 2,
   "id": "b79e9e41-a2c8-439c-abd4-00671c5f835b",
   "metadata": {},
   "outputs": [
    {
     "data": {
      "text/plain": [
       "<Image src=\"/docs/images/guides/visualize-circuit-timing/extracted-outputs/b79e9e41-a2c8-439c-abd4-00671c5f835b-0.avif\" alt=\"Output of the previous code cell\" />"
      ]
     },
     "execution_count": 2,
     "metadata": {},
     "output_type": "execute_result"
    }
   ],
   "source": [
    "from qiskit import QuantumCircuit\n",
    "from qiskit.visualization.timeline import draw, IQXDebugging\n",
    "from qiskit.providers.fake_provider import GenericBackendV2\n",
    "from qiskit.transpiler import generate_preset_pass_manager\n",
    "\n",
    "qc = QuantumCircuit(2)\n",
    "qc.h(0)\n",
    "qc.cx(0, 1)\n",
    "qc.measure_all()\n",
    "\n",
    "backend = GenericBackendV2(5)\n",
    "pm = generate_preset_pass_manager(backend=backend, optimization_level=1)\n",
    "isa_circuit = pm.run(qc)\n",
    "draw(isa_circuit, style=IQXDebugging(), target=backend.target)"
   ]
  },
  {
   "cell_type": "markdown",
   "id": "cfe73ed3-c05b-49ff-94a0-442eeecfb490",
   "metadata": {},
   "source": [
    "You can create custom generator or layout functions and update an existing stylesheet with the custom functions. This way, you can control the most of the appearance of the output image without modifying the codebase of the scheduled circuit drawer.  See the [`timeline_drawer`](/docs/api/qiskit/qiskit.visualization.timeline_drawer) API reference for more examples."
   ]
  },
  {
   "cell_type": "markdown",
   "id": "2a544d46-5580-4e56-9325-82240294ec0d",
   "metadata": {},
   "source": [
    "## Qiskit Runtime support\n",
    "\n",
    "While the timeline drawer built in to Qiskit is useful for static circuits, it might not accurately reflect the timing of [dynamic circuits](/docs/guides/classical-feedforward-and-control-flow) because of implicit operations such as broadcasting and branch determination. As part of dynamic circuit support, Qiskit Runtime returns the accurate circuit timing information inside the job results when requested."
   ]
  },
  {
   "cell_type": "markdown",
   "id": "5ad8cba5-ff09-4534-914a-f0b680fcb187",
   "metadata": {},
   "source": [
    "### Enable timing data retrieval\n",
    "\n",
    "To enable timing data retrieval, set the experimental `scheduler_timing` flag to `True` when running the primitive job."
   ]
  },
  {
   "cell_type": "code",
   "execution_count": 3,
   "id": "81a39dbb-7f85-441b-b445-9a7bb3179cbd",
   "metadata": {
    "tags": [
     "ignore-warnings"
    ]
   },
   "outputs": [
    {
     "name": "stderr",
     "output_type": "stream",
     "text": [
      "management.get:WARNING:2025-10-14 10:43:38,973: Loading default saved account\n"
     ]
    }
   ],
   "source": [
    "from qiskit_ibm_runtime import QiskitRuntimeService, SamplerV2\n",
    "\n",
    "service = QiskitRuntimeService()\n",
    "backend = service.least_busy(operational=True, simulator=False)\n",
    "\n",
    "pm = generate_preset_pass_manager(backend=backend, optimization_level=1)\n",
    "isa_circuit = pm.run(qc)\n",
    "\n",
    "sampler = SamplerV2(backend)\n",
    "sampler.options.experimental = {\n",
    "    \"execution\": {\n",
    "        \"scheduler_timing\": True,\n",
    "    },\n",
    "}\n",
    "\n",
    "sampler_job = sampler.run([isa_circuit])"
   ]
  },
  {
   "cell_type": "markdown",
   "id": "a6e8bd44-8ace-4c3e-aafd-b3d0213ef3dd",
   "metadata": {},
   "source": [
    "### Access the circuit timing data\n",
    "\n",
    "When requested, the circuit timing data is returned in the job result metadata, under `[\"compilation\"][\"scheduler_timing\"][\"timing\"]`. This field contains the raw timing information. To display the timing information, use the built-in visualization tool to display it, as described in the following section.\n",
    "\n",
    "Use the following code to access the circuit timing data:"
   ]
  },
  {
   "cell_type": "code",
   "execution_count": 4,
   "id": "83b2268f-d805-4b9a-b110-34ec6c83960d",
   "metadata": {},
   "outputs": [],
   "source": [
    "job_result = sampler_job.result()\n",
    "circuit_schedule = job_result[0].metadata[\"compilation\"][\"scheduler_timing\"]\n",
    "circuit_schedule_timing = circuit_schedule[\"timing\"]"
   ]
  },
  {
   "cell_type": "markdown",
   "id": "39143ae7-50a9-47e4-9b49-65fc297caab7",
   "metadata": {},
   "source": [
    "#### Understand the raw timing data\n",
    "\n",
    "While visualizing the circuit timing data by using the `draw_circuit_schedule_timing` method is the most common use case, it might be useful to understand the structure of the raw timing data returned. This could help you, for example, to extract information programmatically.\n",
    "\n",
    "The timing data returned in `[\"compilation\"][\"scheduler_timing\"][\"timing\"]` is a list of strings. Each string represents a single instruction on some channel and is comma separated into the following data types:\n",
    "\n",
    "- `Branch` - Determines whether the instruction is in a control flow (then / else) or a main branch\n",
    "- `Instruction` - The gate and the qubit to operate on\n",
    "- `Channel` - The channel that is being assigned with the instruction (Qubit x / AWGRx_y / ...). Arbitrary Wave Generator Readout (AWGR) is used for readout channels communication for measuring qubits, as opposed to drive channels, which are for driving the qubits. The `X` and `Y` arguments correspond to the readout instrument ID and the qubit number, respectively.\n",
    "- `T0` - The instruction start time within the complete schedule\n",
    "- `Duration` - The instruction's duration\n",
    "- `Pulse` - The type of pulse operation being used\n",
    "\n",
    "\n",
    "Example:\n",
    "\n",
    "```python\n",
    "main,barrier,Qubit 0,7,0,barrier # A barrier on the main branch on qubit 0 at time 7 with 0 duration\n",
    "main,reset_0,Qubit 0,7,64,play # A reset instruction on the main branch on qubit 0 at time 7 with duration 64 and a play operation\n",
    "...\n",
    "```"
   ]
  },
  {
   "cell_type": "markdown",
   "id": "13d2728d-8b4a-40c5-9f55-7b80f4131382",
   "metadata": {},
   "source": [
    "### Visualize the timings\n",
    "\n",
    "To visualize the timings, you first need to convert the result metadata to `fig` by using the `draw_circuit_schedule_timing` (**link to API reference when available**) method. This method returns a `plotly` figure, which you can display directly, save to a file, or both.  For more information about the `plotly` commands to use, see [`fig.show()`](https://plotly.com/python-api-reference/generated/plotly.io.show.html) and  [`fig.write_image(\"<path.format>\")`.](https://plotly.com/python-api-reference/generated/plotly.io.write_image.html)"
   ]
  },
  {
   "cell_type": "code",
   "execution_count": 5,
   "id": "3db65271-27c4-486a-a2be-0a4202d56c09",
   "metadata": {},
   "outputs": [
    {
     "data": {
      "application/vnd.plotly.v1+json": {
       "config": {
        "plotlyServerURL": "https://plot.ly"
       },
       "data": [
        {
         "fill": "toself",
         "fillcolor": "#AB63FA",
         "hoverinfo": "x+text",
         "legendgroup": "measure",
         "line": {
          "color": "black"
         },
         "marker": {
          "size": 0.01
         },
         "mode": "lines+markers",
         "name": "measure",
         "showlegend": true,
         "text": "Instruction: measure_1<br>Pulse: capture<br>Start: 22528<br>Finish: 24128<br>Duration: 1600",
         "type": "scatter",
         "x": [
          22528,
          23328,
          24128,
          24128,
          23328,
          22528,
          22528,
          null
         ],
         "y": [
          -0.4,
          -0.4,
          -0.4,
          0.4,
          0.4,
          0.4,
          -0.4,
          null
         ]
        },
        {
         "fill": "toself",
         "fillcolor": "#AB63FA",
         "hoverinfo": "x+text",
         "legendgroup": "measure",
         "line": {
          "color": "black"
         },
         "marker": {
          "size": 0.01
         },
         "mode": "lines+markers",
         "name": "measure",
         "showlegend": false,
         "text": "Instruction: measure_0<br>Pulse: capture<br>Start: 22528<br>Finish: 24128<br>Duration: 1600",
         "type": "scatter",
         "x": [
          22528,
          23328,
          24128,
          24128,
          23328,
          22528,
          22528,
          null
         ],
         "y": [
          0.6,
          0.6,
          0.6,
          1.4,
          1.4,
          1.4,
          0.6,
          null
         ]
        },
        {
         "fill": "toself",
         "fillcolor": "#AB63FA",
         "hoverinfo": "x+text",
         "legendgroup": "measure",
         "line": {
          "color": "black"
         },
         "marker": {
          "size": 0.01
         },
         "mode": "lines+markers",
         "name": "measure",
         "showlegend": false,
         "text": "Instruction: measure_0<br>Pulse: play<br>Start: 21640<br>Finish: 23080<br>Duration: 1440",
         "type": "scatter",
         "x": [
          21640,
          22360,
          23080,
          23080,
          22360,
          21640,
          21640,
          null
         ],
         "y": [
          1.6,
          1.6,
          1.6,
          2.4,
          2.4,
          2.4,
          1.6,
          null
         ]
        },
        {
         "fill": "toself",
         "fillcolor": "#EF553B",
         "hoverinfo": "x+text",
         "legendgroup": "barrier",
         "line": {
          "color": "black"
         },
         "marker": {
          "size": 0.01
         },
         "mode": "lines+markers",
         "name": "barrier",
         "showlegend": true,
         "text": "Instruction: barrier<br>Pulse: barrier<br>Start: 21640<br>Finish: 21640<br>Duration: 0",
         "type": "scatter",
         "x": [
          21640,
          21640,
          21640,
          21640,
          21640,
          21640,
          21640,
          null
         ],
         "y": [
          1.6,
          1.6,
          1.6,
          2.4,
          2.4,
          2.4,
          1.6,
          null
         ]
        },
        {
         "fill": "toself",
         "fillcolor": "#19D3F3",
         "hoverinfo": "x+text",
         "legendgroup": "sx",
         "line": {
          "color": "black"
         },
         "marker": {
          "size": 0.01
         },
         "mode": "lines+markers",
         "name": "sx",
         "showlegend": true,
         "text": "Instruction: sx_0<br>Pulse: play<br>Start: 21520<br>Finish: 21640<br>Duration: 120",
         "type": "scatter",
         "x": [
          21520,
          21580,
          21640,
          21640,
          21580,
          21520,
          21520,
          null
         ],
         "y": [
          1.6,
          1.6,
          1.6,
          2.4,
          2.4,
          2.4,
          1.6,
          null
         ]
        },
        {
         "fill": "toself",
         "fillcolor": "#00CC96",
         "hoverinfo": "x+text",
         "legendgroup": "ecr",
         "line": {
          "color": "black"
         },
         "marker": {
          "size": 0.01
         },
         "mode": "lines+markers",
         "name": "ecr",
         "showlegend": true,
         "text": "Instruction: ecr_1_0<br>Pulse: play<br>Start: 20920<br>Finish: 21520<br>Duration: 600",
         "type": "scatter",
         "x": [
          20920,
          21220,
          21520,
          21520,
          21220,
          20920,
          20920,
          null
         ],
         "y": [
          1.6,
          1.6,
          1.6,
          2.4,
          2.4,
          2.4,
          1.6,
          null
         ]
        },
        {
         "fill": "toself",
         "fillcolor": "#00CC96",
         "hoverinfo": "x+text",
         "legendgroup": "ecr",
         "line": {
          "color": "black"
         },
         "marker": {
          "size": 0.01
         },
         "mode": "lines+markers",
         "name": "ecr",
         "showlegend": false,
         "text": "Instruction: ecr_1_0<br>Pulse: play<br>Start: 20200<br>Finish: 20800<br>Duration: 600",
         "type": "scatter",
         "x": [
          20200,
          20500,
          20800,
          20800,
          20500,
          20200,
          20200,
          null
         ],
         "y": [
          1.6,
          1.6,
          1.6,
          2.4,
          2.4,
          2.4,
          1.6,
          null
         ]
        },
        {
         "fill": "toself",
         "fillcolor": "#EF553B",
         "hoverinfo": "x+text",
         "legendgroup": "barrier",
         "line": {
          "color": "black"
         },
         "marker": {
          "size": 0.01
         },
         "mode": "lines+markers",
         "name": "barrier",
         "showlegend": false,
         "text": "Instruction: barrier<br>Pulse: barrier<br>Start: 0<br>Finish: 0<br>Duration: 0",
         "type": "scatter",
         "x": [
          0,
          0,
          0,
          0,
          0,
          0,
          0,
          null
         ],
         "y": [
          1.6,
          1.6,
          1.6,
          2.4,
          2.4,
          2.4,
          1.6,
          null
         ]
        },
        {
         "fill": "toself",
         "fillcolor": "#636EFA",
         "hoverinfo": "x+text",
         "legendgroup": "INIT",
         "line": {
          "color": "black"
         },
         "marker": {
          "size": 0.01
         },
         "mode": "lines+markers",
         "name": "INIT",
         "showlegend": true,
         "text": "Instruction: INIT_0<br>Pulse: play<br>Start: 80<br>Finish: 20080<br>Duration: 20000",
         "type": "scatter",
         "x": [
          80,
          10080,
          20080,
          20080,
          10080,
          80,
          80,
          null
         ],
         "y": [
          1.6,
          1.6,
          1.6,
          2.4,
          2.4,
          2.4,
          1.6,
          null
         ]
        },
        {
         "fill": "toself",
         "fillcolor": "#636EFA",
         "hoverinfo": "x+text",
         "legendgroup": "INIT",
         "line": {
          "color": "black"
         },
         "marker": {
          "size": 0.01
         },
         "mode": "lines+markers",
         "name": "INIT",
         "showlegend": false,
         "text": "Instruction: INIT_0<br>Pulse: play<br>Start: 72<br>Finish: 20072<br>Duration: 20000",
         "type": "scatter",
         "x": [
          72,
          10072,
          20072,
          20072,
          10072,
          72,
          72,
          null
         ],
         "y": [
          1.6,
          1.6,
          1.6,
          2.4,
          2.4,
          2.4,
          1.6,
          null
         ]
        },
        {
         "fill": "toself",
         "fillcolor": "#EF553B",
         "hoverinfo": "x+text",
         "legendgroup": "barrier",
         "line": {
          "color": "black"
         },
         "marker": {
          "size": 0.01
         },
         "mode": "lines+markers",
         "name": "barrier",
         "showlegend": false,
         "text": "Instruction: barrier<br>Pulse: barrier<br>Start: 20080<br>Finish: 20080<br>Duration: 0",
         "type": "scatter",
         "x": [
          20080,
          20080,
          20080,
          20080,
          20080,
          20080,
          20080,
          null
         ],
         "y": [
          1.6,
          1.6,
          1.6,
          2.4,
          2.4,
          2.4,
          1.6,
          null
         ]
        },
        {
         "fill": "toself",
         "fillcolor": "#19D3F3",
         "hoverinfo": "x+text",
         "legendgroup": "sx",
         "line": {
          "color": "black"
         },
         "marker": {
          "size": 0.01
         },
         "mode": "lines+markers",
         "name": "sx",
         "showlegend": false,
         "text": "Instruction: sx_0<br>Pulse: play<br>Start: 20080<br>Finish: 20200<br>Duration: 120",
         "type": "scatter",
         "x": [
          20080,
          20140,
          20200,
          20200,
          20140,
          20080,
          20080,
          null
         ],
         "y": [
          1.6,
          1.6,
          1.6,
          2.4,
          2.4,
          2.4,
          1.6,
          null
         ]
        },
        {
         "fill": "toself",
         "fillcolor": "#EF553B",
         "hoverinfo": "x+text",
         "legendgroup": "barrier",
         "line": {
          "color": "black"
         },
         "marker": {
          "size": 0.01
         },
         "mode": "lines+markers",
         "name": "barrier",
         "showlegend": false,
         "text": "Instruction: barrier<br>Pulse: barrier<br>Start: 20080<br>Finish: 20080<br>Duration: 0",
         "type": "scatter",
         "x": [
          20080,
          20080,
          20080,
          20080,
          20080,
          20080,
          20080,
          null
         ],
         "y": [
          2.6,
          2.6,
          2.6,
          3.4,
          3.4,
          3.4,
          2.6,
          null
         ]
        },
        {
         "fill": "toself",
         "fillcolor": "#19D3F3",
         "hoverinfo": "x+text",
         "legendgroup": "sx",
         "line": {
          "color": "black"
         },
         "marker": {
          "size": 0.01
         },
         "mode": "lines+markers",
         "name": "sx",
         "showlegend": false,
         "text": "Instruction: sx_1<br>Pulse: play<br>Start: 21520<br>Finish: 21640<br>Duration: 120",
         "type": "scatter",
         "x": [
          21520,
          21580,
          21640,
          21640,
          21580,
          21520,
          21520,
          null
         ],
         "y": [
          2.6,
          2.6,
          2.6,
          3.4,
          3.4,
          3.4,
          2.6,
          null
         ]
        },
        {
         "fill": "toself",
         "fillcolor": "#636EFA",
         "hoverinfo": "x+text",
         "legendgroup": "INIT",
         "line": {
          "color": "black"
         },
         "marker": {
          "size": 0.01
         },
         "mode": "lines+markers",
         "name": "INIT",
         "showlegend": false,
         "text": "Instruction: INIT_1<br>Pulse: play<br>Start: 72<br>Finish: 20072<br>Duration: 20000",
         "type": "scatter",
         "x": [
          72,
          10072,
          20072,
          20072,
          10072,
          72,
          72,
          null
         ],
         "y": [
          2.6,
          2.6,
          2.6,
          3.4,
          3.4,
          3.4,
          2.6,
          null
         ]
        },
        {
         "fill": "toself",
         "fillcolor": "#636EFA",
         "hoverinfo": "x+text",
         "legendgroup": "INIT",
         "line": {
          "color": "black"
         },
         "marker": {
          "size": 0.01
         },
         "mode": "lines+markers",
         "name": "INIT",
         "showlegend": false,
         "text": "Instruction: INIT_1<br>Pulse: play<br>Start: 80<br>Finish: 20080<br>Duration: 20000",
         "type": "scatter",
         "x": [
          80,
          10080,
          20080,
          20080,
          10080,
          80,
          80,
          null
         ],
         "y": [
          2.6,
          2.6,
          2.6,
          3.4,
          3.4,
          3.4,
          2.6,
          null
         ]
        },
        {
         "fill": "toself",
         "fillcolor": "#EF553B",
         "hoverinfo": "x+text",
         "legendgroup": "barrier",
         "line": {
          "color": "black"
         },
         "marker": {
          "size": 0.01
         },
         "mode": "lines+markers",
         "name": "barrier",
         "showlegend": false,
         "text": "Instruction: barrier<br>Pulse: barrier<br>Start: 21640<br>Finish: 21640<br>Duration: 0",
         "type": "scatter",
         "x": [
          21640,
          21640,
          21640,
          21640,
          21640,
          21640,
          21640,
          null
         ],
         "y": [
          2.6,
          2.6,
          2.6,
          3.4,
          3.4,
          3.4,
          2.6,
          null
         ]
        },
        {
         "fill": "toself",
         "fillcolor": "#EF553B",
         "hoverinfo": "x+text",
         "legendgroup": "barrier",
         "line": {
          "color": "black"
         },
         "marker": {
          "size": 0.01
         },
         "mode": "lines+markers",
         "name": "barrier",
         "showlegend": false,
         "text": "Instruction: barrier<br>Pulse: barrier<br>Start: 0<br>Finish: 0<br>Duration: 0",
         "type": "scatter",
         "x": [
          0,
          0,
          0,
          0,
          0,
          0,
          0,
          null
         ],
         "y": [
          2.6,
          2.6,
          2.6,
          3.4,
          3.4,
          3.4,
          2.6,
          null
         ]
        },
        {
         "fill": "toself",
         "fillcolor": "#00CC96",
         "hoverinfo": "x+text",
         "legendgroup": "ecr",
         "line": {
          "color": "black"
         },
         "marker": {
          "size": 0.01
         },
         "mode": "lines+markers",
         "name": "ecr",
         "showlegend": false,
         "text": "Instruction: ecr_1_0<br>Pulse: play<br>Start: 20800<br>Finish: 20920<br>Duration: 120",
         "type": "scatter",
         "x": [
          20800,
          20860,
          20920,
          20920,
          20860,
          20800,
          20800,
          null
         ],
         "y": [
          2.6,
          2.6,
          2.6,
          3.4,
          3.4,
          3.4,
          2.6,
          null
         ]
        },
        {
         "fill": "toself",
         "fillcolor": "#19D3F3",
         "hoverinfo": "x+text",
         "legendgroup": "sx",
         "line": {
          "color": "black"
         },
         "marker": {
          "size": 0.01
         },
         "mode": "lines+markers",
         "name": "sx",
         "showlegend": false,
         "text": "Instruction: sx_1<br>Pulse: play<br>Start: 20080<br>Finish: 20200<br>Duration: 120",
         "type": "scatter",
         "x": [
          20080,
          20140,
          20200,
          20200,
          20140,
          20080,
          20080,
          null
         ],
         "y": [
          2.6,
          2.6,
          2.6,
          3.4,
          3.4,
          3.4,
          2.6,
          null
         ]
        },
        {
         "fill": "toself",
         "fillcolor": "#AB63FA",
         "hoverinfo": "x+text",
         "legendgroup": "measure",
         "line": {
          "color": "black"
         },
         "marker": {
          "size": 0.01
         },
         "mode": "lines+markers",
         "name": "measure",
         "showlegend": false,
         "text": "Instruction: measure_1<br>Pulse: play<br>Start: 21640<br>Finish: 23080<br>Duration: 1440",
         "type": "scatter",
         "x": [
          21640,
          22360,
          23080,
          23080,
          22360,
          21640,
          21640,
          null
         ],
         "y": [
          2.6,
          2.6,
          2.6,
          3.4,
          3.4,
          3.4,
          2.6,
          null
         ]
        },
        {
         "fill": "toself",
         "fillcolor": "#00CC96",
         "hoverinfo": "x+text",
         "legendgroup": "ecr",
         "line": {
          "color": "black"
         },
         "marker": {
          "size": 0.01
         },
         "mode": "lines+markers",
         "name": "ecr",
         "showlegend": false,
         "text": "Instruction: ecr_1_0<br>Pulse: play<br>Start: 20200<br>Finish: 20800<br>Duration: 600",
         "type": "scatter",
         "x": [
          20200,
          20500,
          20800,
          20800,
          20500,
          20200,
          20200,
          null
         ],
         "y": [
          2.6,
          2.6,
          2.6,
          3.4,
          3.4,
          3.4,
          2.6,
          null
         ]
        },
        {
         "fill": "toself",
         "fillcolor": "#00CC96",
         "hoverinfo": "x+text",
         "legendgroup": "ecr",
         "line": {
          "color": "black"
         },
         "marker": {
          "size": 0.01
         },
         "mode": "lines+markers",
         "name": "ecr",
         "showlegend": false,
         "text": "Instruction: ecr_1_0<br>Pulse: play<br>Start: 20920<br>Finish: 21520<br>Duration: 600",
         "type": "scatter",
         "x": [
          20920,
          21220,
          21520,
          21520,
          21220,
          20920,
          20920,
          null
         ],
         "y": [
          2.6,
          2.6,
          2.6,
          3.4,
          3.4,
          3.4,
          2.6,
          null
         ]
        },
        {
         "fill": "toself",
         "fillcolor": "#FFA15A",
         "hoverinfo": "x+text",
         "legendgroup": "rz",
         "line": {
          "color": "black"
         },
         "marker": {
          "size": 0.01
         },
         "mode": "lines+markers",
         "name": "rz",
         "showlegend": true,
         "text": "Instruction: rz_1<br>Pulse: shift_phase<br>Start: 21640<br>Finish: 21640<br>Duration: 0",
         "type": "scatter",
         "x": [
          21640,
          21641,
          21640,
          21639,
          21640,
          null
         ],
         "y": [
          1.8,
          2,
          2.2,
          2,
          1.8,
          null
         ]
        },
        {
         "fill": "toself",
         "fillcolor": "#19D3F3",
         "hoverinfo": "x+text",
         "legendgroup": "sx",
         "line": {
          "color": "black"
         },
         "marker": {
          "size": 0.01
         },
         "mode": "lines+markers",
         "name": "sx",
         "showlegend": false,
         "text": "Instruction: sx_1<br>Pulse: shift_phase<br>Start: 21640<br>Finish: 21640<br>Duration: 0",
         "type": "scatter",
         "x": [
          21640,
          21641,
          21640,
          21639,
          21640,
          null
         ],
         "y": [
          1.8,
          2,
          2.2,
          2,
          1.8,
          null
         ]
        },
        {
         "fill": "toself",
         "fillcolor": "#FFA15A",
         "hoverinfo": "x+text",
         "legendgroup": "rz",
         "line": {
          "color": "black"
         },
         "marker": {
          "size": 0.01
         },
         "mode": "lines+markers",
         "name": "rz",
         "showlegend": false,
         "text": "Instruction: rz_1<br>Pulse: shift_phase<br>Start: 21520<br>Finish: 21520<br>Duration: 0",
         "type": "scatter",
         "x": [
          21520,
          21521,
          21520,
          21519,
          21520,
          null
         ],
         "y": [
          1.8,
          2,
          2.2,
          2,
          1.8,
          null
         ]
        },
        {
         "fill": "toself",
         "fillcolor": "#FFA15A",
         "hoverinfo": "x+text",
         "legendgroup": "rz",
         "line": {
          "color": "black"
         },
         "marker": {
          "size": 0.01
         },
         "mode": "lines+markers",
         "name": "rz",
         "showlegend": false,
         "text": "Instruction: rz_0<br>Pulse: shift_phase<br>Start: 21640<br>Finish: 21640<br>Duration: 0",
         "type": "scatter",
         "x": [
          21640,
          21641,
          21640,
          21639,
          21640,
          null
         ],
         "y": [
          1.8,
          2,
          2.2,
          2,
          1.8,
          null
         ]
        },
        {
         "fill": "toself",
         "fillcolor": "#19D3F3",
         "hoverinfo": "x+text",
         "legendgroup": "sx",
         "line": {
          "color": "black"
         },
         "marker": {
          "size": 0.01
         },
         "mode": "lines+markers",
         "name": "sx",
         "showlegend": false,
         "text": "Instruction: sx_0<br>Pulse: shift_phase<br>Start: 21640<br>Finish: 21640<br>Duration: 0",
         "type": "scatter",
         "x": [
          21640,
          21641,
          21640,
          21639,
          21640,
          null
         ],
         "y": [
          1.8,
          2,
          2.2,
          2,
          1.8,
          null
         ]
        },
        {
         "fill": "toself",
         "fillcolor": "#FFA15A",
         "hoverinfo": "x+text",
         "legendgroup": "rz",
         "line": {
          "color": "black"
         },
         "marker": {
          "size": 0.01
         },
         "mode": "lines+markers",
         "name": "rz",
         "showlegend": false,
         "text": "Instruction: rz_0<br>Pulse: shift_phase<br>Start: 21520<br>Finish: 21520<br>Duration: 0",
         "type": "scatter",
         "x": [
          21520,
          21521,
          21520,
          21519,
          21520,
          null
         ],
         "y": [
          1.8,
          2,
          2.2,
          2,
          1.8,
          null
         ]
        },
        {
         "fill": "toself",
         "fillcolor": "#FFA15A",
         "hoverinfo": "x+text",
         "legendgroup": "rz",
         "line": {
          "color": "black"
         },
         "marker": {
          "size": 0.01
         },
         "mode": "lines+markers",
         "name": "rz",
         "showlegend": false,
         "text": "Instruction: rz_1<br>Pulse: shift_phase<br>Start: 20200<br>Finish: 20200<br>Duration: 0",
         "type": "scatter",
         "x": [
          20200,
          20201,
          20200,
          20199,
          20200,
          null
         ],
         "y": [
          1.8,
          2,
          2.2,
          2,
          1.8,
          null
         ]
        },
        {
         "fill": "toself",
         "fillcolor": "#19D3F3",
         "hoverinfo": "x+text",
         "legendgroup": "sx",
         "line": {
          "color": "black"
         },
         "marker": {
          "size": 0.01
         },
         "mode": "lines+markers",
         "name": "sx",
         "showlegend": false,
         "text": "Instruction: sx_1<br>Pulse: shift_phase<br>Start: 20200<br>Finish: 20200<br>Duration: 0",
         "type": "scatter",
         "x": [
          20200,
          20201,
          20200,
          20199,
          20200,
          null
         ],
         "y": [
          1.8,
          2,
          2.2,
          2,
          1.8,
          null
         ]
        },
        {
         "fill": "toself",
         "fillcolor": "#FFA15A",
         "hoverinfo": "x+text",
         "legendgroup": "rz",
         "line": {
          "color": "black"
         },
         "marker": {
          "size": 0.01
         },
         "mode": "lines+markers",
         "name": "rz",
         "showlegend": false,
         "text": "Instruction: rz_1<br>Pulse: shift_phase<br>Start: 20080<br>Finish: 20080<br>Duration: 0",
         "type": "scatter",
         "x": [
          20080,
          20081,
          20080,
          20079,
          20080,
          null
         ],
         "y": [
          1.8,
          2,
          2.2,
          2,
          1.8,
          null
         ]
        },
        {
         "fill": "toself",
         "fillcolor": "#FFA15A",
         "hoverinfo": "x+text",
         "legendgroup": "rz",
         "line": {
          "color": "black"
         },
         "marker": {
          "size": 0.01
         },
         "mode": "lines+markers",
         "name": "rz",
         "showlegend": false,
         "text": "Instruction: rz_0<br>Pulse: shift_phase<br>Start: 20080<br>Finish: 20080<br>Duration: 0",
         "type": "scatter",
         "x": [
          20080,
          20081,
          20080,
          20079,
          20080,
          null
         ],
         "y": [
          1.8,
          2,
          2.2,
          2,
          1.8,
          null
         ]
        },
        {
         "fill": "toself",
         "fillcolor": "#19D3F3",
         "hoverinfo": "x+text",
         "legendgroup": "sx",
         "line": {
          "color": "black"
         },
         "marker": {
          "size": 0.01
         },
         "mode": "lines+markers",
         "name": "sx",
         "showlegend": false,
         "text": "Instruction: sx_0<br>Pulse: shift_phase<br>Start: 20200<br>Finish: 20200<br>Duration: 0",
         "type": "scatter",
         "x": [
          20200,
          20201,
          20200,
          20199,
          20200,
          null
         ],
         "y": [
          1.8,
          2,
          2.2,
          2,
          1.8,
          null
         ]
        },
        {
         "fill": "toself",
         "fillcolor": "#FFA15A",
         "hoverinfo": "x+text",
         "legendgroup": "rz",
         "line": {
          "color": "black"
         },
         "marker": {
          "size": 0.01
         },
         "mode": "lines+markers",
         "name": "rz",
         "showlegend": false,
         "text": "Instruction: rz_0<br>Pulse: shift_phase<br>Start: 20080<br>Finish: 20080<br>Duration: 0",
         "type": "scatter",
         "x": [
          20080,
          20081,
          20080,
          20079,
          20080,
          null
         ],
         "y": [
          2.8,
          3,
          3.2,
          3,
          2.8,
          null
         ]
        },
        {
         "fill": "toself",
         "fillcolor": "#FFA15A",
         "hoverinfo": "x+text",
         "legendgroup": "rz",
         "line": {
          "color": "black"
         },
         "marker": {
          "size": 0.01
         },
         "mode": "lines+markers",
         "name": "rz",
         "showlegend": false,
         "text": "Instruction: rz_1<br>Pulse: shift_phase<br>Start: 21520<br>Finish: 21520<br>Duration: 0",
         "type": "scatter",
         "x": [
          21520,
          21521,
          21520,
          21519,
          21520,
          null
         ],
         "y": [
          2.8,
          3,
          3.2,
          3,
          2.8,
          null
         ]
        },
        {
         "fill": "toself",
         "fillcolor": "#FFA15A",
         "hoverinfo": "x+text",
         "legendgroup": "rz",
         "line": {
          "color": "black"
         },
         "marker": {
          "size": 0.01
         },
         "mode": "lines+markers",
         "name": "rz",
         "showlegend": false,
         "text": "Instruction: rz_0<br>Pulse: shift_phase<br>Start: 21640<br>Finish: 21640<br>Duration: 0",
         "type": "scatter",
         "x": [
          21640,
          21641,
          21640,
          21639,
          21640,
          null
         ],
         "y": [
          2.8,
          3,
          3.2,
          3,
          2.8,
          null
         ]
        },
        {
         "fill": "toself",
         "fillcolor": "#FFA15A",
         "hoverinfo": "x+text",
         "legendgroup": "rz",
         "line": {
          "color": "black"
         },
         "marker": {
          "size": 0.01
         },
         "mode": "lines+markers",
         "name": "rz",
         "showlegend": false,
         "text": "Instruction: rz_1<br>Pulse: shift_phase<br>Start: 21640<br>Finish: 21640<br>Duration: 0",
         "type": "scatter",
         "x": [
          21640,
          21641,
          21640,
          21639,
          21640,
          null
         ],
         "y": [
          2.8,
          3,
          3.2,
          3,
          2.8,
          null
         ]
        },
        {
         "fill": "toself",
         "fillcolor": "#19D3F3",
         "hoverinfo": "x+text",
         "legendgroup": "sx",
         "line": {
          "color": "black"
         },
         "marker": {
          "size": 0.01
         },
         "mode": "lines+markers",
         "name": "sx",
         "showlegend": false,
         "text": "Instruction: sx_1<br>Pulse: shift_phase<br>Start: 21640<br>Finish: 21640<br>Duration: 0",
         "type": "scatter",
         "x": [
          21640,
          21641,
          21640,
          21639,
          21640,
          null
         ],
         "y": [
          2.8,
          3,
          3.2,
          3,
          2.8,
          null
         ]
        },
        {
         "fill": "toself",
         "fillcolor": "#FFA15A",
         "hoverinfo": "x+text",
         "legendgroup": "rz",
         "line": {
          "color": "black"
         },
         "marker": {
          "size": 0.01
         },
         "mode": "lines+markers",
         "name": "rz",
         "showlegend": false,
         "text": "Instruction: rz_1<br>Pulse: shift_phase<br>Start: 20080<br>Finish: 20080<br>Duration: 0",
         "type": "scatter",
         "x": [
          20080,
          20081,
          20080,
          20079,
          20080,
          null
         ],
         "y": [
          2.8,
          3,
          3.2,
          3,
          2.8,
          null
         ]
        },
        {
         "fill": "toself",
         "fillcolor": "#19D3F3",
         "hoverinfo": "x+text",
         "legendgroup": "sx",
         "line": {
          "color": "black"
         },
         "marker": {
          "size": 0.01
         },
         "mode": "lines+markers",
         "name": "sx",
         "showlegend": false,
         "text": "Instruction: sx_0<br>Pulse: shift_phase<br>Start: 21640<br>Finish: 21640<br>Duration: 0",
         "type": "scatter",
         "x": [
          21640,
          21641,
          21640,
          21639,
          21640,
          null
         ],
         "y": [
          2.8,
          3,
          3.2,
          3,
          2.8,
          null
         ]
        },
        {
         "fill": "toself",
         "fillcolor": "#19D3F3",
         "hoverinfo": "x+text",
         "legendgroup": "sx",
         "line": {
          "color": "black"
         },
         "marker": {
          "size": 0.01
         },
         "mode": "lines+markers",
         "name": "sx",
         "showlegend": false,
         "text": "Instruction: sx_1<br>Pulse: shift_phase<br>Start: 20200<br>Finish: 20200<br>Duration: 0",
         "type": "scatter",
         "x": [
          20200,
          20201,
          20200,
          20199,
          20200,
          null
         ],
         "y": [
          2.8,
          3,
          3.2,
          3,
          2.8,
          null
         ]
        },
        {
         "fill": "toself",
         "fillcolor": "#FFA15A",
         "hoverinfo": "x+text",
         "legendgroup": "rz",
         "line": {
          "color": "black"
         },
         "marker": {
          "size": 0.01
         },
         "mode": "lines+markers",
         "name": "rz",
         "showlegend": false,
         "text": "Instruction: rz_1<br>Pulse: shift_phase<br>Start: 20200<br>Finish: 20200<br>Duration: 0",
         "type": "scatter",
         "x": [
          20200,
          20201,
          20200,
          20199,
          20200,
          null
         ],
         "y": [
          2.8,
          3,
          3.2,
          3,
          2.8,
          null
         ]
        },
        {
         "fill": "toself",
         "fillcolor": "#19D3F3",
         "hoverinfo": "x+text",
         "legendgroup": "sx",
         "line": {
          "color": "black"
         },
         "marker": {
          "size": 0.01
         },
         "mode": "lines+markers",
         "name": "sx",
         "showlegend": false,
         "text": "Instruction: sx_0<br>Pulse: shift_phase<br>Start: 20200<br>Finish: 20200<br>Duration: 0",
         "type": "scatter",
         "x": [
          20200,
          20201,
          20200,
          20199,
          20200,
          null
         ],
         "y": [
          2.8,
          3,
          3.2,
          3,
          2.8,
          null
         ]
        },
        {
         "fill": "toself",
         "fillcolor": "#FFA15A",
         "hoverinfo": "x+text",
         "legendgroup": "rz",
         "line": {
          "color": "black"
         },
         "marker": {
          "size": 0.01
         },
         "mode": "lines+markers",
         "name": "rz",
         "showlegend": false,
         "text": "Instruction: rz_0<br>Pulse: shift_phase<br>Start: 21520<br>Finish: 21520<br>Duration: 0",
         "type": "scatter",
         "x": [
          21520,
          21521,
          21520,
          21519,
          21520,
          null
         ],
         "y": [
          2.8,
          3,
          3.2,
          3,
          2.8,
          null
         ]
        },
        {
         "fill": "toself",
         "fillcolor": "#19D3F3",
         "hoverinfo": "x+text",
         "legendgroup": "sx",
         "line": {
          "color": "black"
         },
         "marker": {
          "size": 0.01
         },
         "mode": "lines+markers",
         "name": "sx",
         "showlegend": false,
         "text": "Instruction: sx_0<br>Pulse: shift_phase<br>Start: 21640<br>Finish: 21640<br>Duration: 0",
         "type": "scatter",
         "x": [
          21640,
          21641,
          21640,
          21639,
          21640,
          null
         ],
         "y": [
          3.8,
          4,
          4.2,
          4,
          3.8,
          null
         ]
        },
        {
         "fill": "toself",
         "fillcolor": "#19D3F3",
         "hoverinfo": "x+text",
         "legendgroup": "sx",
         "line": {
          "color": "black"
         },
         "marker": {
          "size": 0.01
         },
         "mode": "lines+markers",
         "name": "sx",
         "showlegend": false,
         "text": "Instruction: sx_0<br>Pulse: shift_phase<br>Start: 20200<br>Finish: 20200<br>Duration: 0",
         "type": "scatter",
         "x": [
          20200,
          20201,
          20200,
          20199,
          20200,
          null
         ],
         "y": [
          3.8,
          4,
          4.2,
          4,
          3.8,
          null
         ]
        },
        {
         "fill": "toself",
         "fillcolor": "#FFA15A",
         "hoverinfo": "x+text",
         "legendgroup": "rz",
         "line": {
          "color": "black"
         },
         "marker": {
          "size": 0.01
         },
         "mode": "lines+markers",
         "name": "rz",
         "showlegend": false,
         "text": "Instruction: rz_0<br>Pulse: shift_phase<br>Start: 21520<br>Finish: 21520<br>Duration: 0",
         "type": "scatter",
         "x": [
          21520,
          21521,
          21520,
          21519,
          21520,
          null
         ],
         "y": [
          3.8,
          4,
          4.2,
          4,
          3.8,
          null
         ]
        },
        {
         "fill": "toself",
         "fillcolor": "#FFA15A",
         "hoverinfo": "x+text",
         "legendgroup": "rz",
         "line": {
          "color": "black"
         },
         "marker": {
          "size": 0.01
         },
         "mode": "lines+markers",
         "name": "rz",
         "showlegend": false,
         "text": "Instruction: rz_0<br>Pulse: shift_phase<br>Start: 21640<br>Finish: 21640<br>Duration: 0",
         "type": "scatter",
         "x": [
          21640,
          21641,
          21640,
          21639,
          21640,
          null
         ],
         "y": [
          3.8,
          4,
          4.2,
          4,
          3.8,
          null
         ]
        },
        {
         "fill": "toself",
         "fillcolor": "#FFA15A",
         "hoverinfo": "x+text",
         "legendgroup": "rz",
         "line": {
          "color": "black"
         },
         "marker": {
          "size": 0.01
         },
         "mode": "lines+markers",
         "name": "rz",
         "showlegend": false,
         "text": "Instruction: rz_0<br>Pulse: shift_phase<br>Start: 20080<br>Finish: 20080<br>Duration: 0",
         "type": "scatter",
         "x": [
          20080,
          20081,
          20080,
          20079,
          20080,
          null
         ],
         "y": [
          3.8,
          4,
          4.2,
          4,
          3.8,
          null
         ]
        },
        {
         "fill": "toself",
         "fillcolor": "#19D3F3",
         "hoverinfo": "x+text",
         "legendgroup": "sx",
         "line": {
          "color": "black"
         },
         "marker": {
          "size": 0.01
         },
         "mode": "lines+markers",
         "name": "sx",
         "showlegend": false,
         "text": "Instruction: sx_1<br>Pulse: shift_phase<br>Start: 21640<br>Finish: 21640<br>Duration: 0",
         "type": "scatter",
         "x": [
          21640,
          21641,
          21640,
          21639,
          21640,
          null
         ],
         "y": [
          4.8,
          5,
          5.2,
          5,
          4.8,
          null
         ]
        },
        {
         "fill": "toself",
         "fillcolor": "#FFA15A",
         "hoverinfo": "x+text",
         "legendgroup": "rz",
         "line": {
          "color": "black"
         },
         "marker": {
          "size": 0.01
         },
         "mode": "lines+markers",
         "name": "rz",
         "showlegend": false,
         "text": "Instruction: rz_1<br>Pulse: shift_phase<br>Start: 21520<br>Finish: 21520<br>Duration: 0",
         "type": "scatter",
         "x": [
          21520,
          21521,
          21520,
          21519,
          21520,
          null
         ],
         "y": [
          4.8,
          5,
          5.2,
          5,
          4.8,
          null
         ]
        },
        {
         "fill": "toself",
         "fillcolor": "#FFA15A",
         "hoverinfo": "x+text",
         "legendgroup": "rz",
         "line": {
          "color": "black"
         },
         "marker": {
          "size": 0.01
         },
         "mode": "lines+markers",
         "name": "rz",
         "showlegend": false,
         "text": "Instruction: rz_1<br>Pulse: shift_phase<br>Start: 21640<br>Finish: 21640<br>Duration: 0",
         "type": "scatter",
         "x": [
          21640,
          21641,
          21640,
          21639,
          21640,
          null
         ],
         "y": [
          4.8,
          5,
          5.2,
          5,
          4.8,
          null
         ]
        },
        {
         "fill": "toself",
         "fillcolor": "#FFA15A",
         "hoverinfo": "x+text",
         "legendgroup": "rz",
         "line": {
          "color": "black"
         },
         "marker": {
          "size": 0.01
         },
         "mode": "lines+markers",
         "name": "rz",
         "showlegend": false,
         "text": "Instruction: rz_1<br>Pulse: shift_phase<br>Start: 20200<br>Finish: 20200<br>Duration: 0",
         "type": "scatter",
         "x": [
          20200,
          20201,
          20200,
          20199,
          20200,
          null
         ],
         "y": [
          4.8,
          5,
          5.2,
          5,
          4.8,
          null
         ]
        },
        {
         "fill": "toself",
         "fillcolor": "#19D3F3",
         "hoverinfo": "x+text",
         "legendgroup": "sx",
         "line": {
          "color": "black"
         },
         "marker": {
          "size": 0.01
         },
         "mode": "lines+markers",
         "name": "sx",
         "showlegend": false,
         "text": "Instruction: sx_1<br>Pulse: shift_phase<br>Start: 20200<br>Finish: 20200<br>Duration: 0",
         "type": "scatter",
         "x": [
          20200,
          20201,
          20200,
          20199,
          20200,
          null
         ],
         "y": [
          4.8,
          5,
          5.2,
          5,
          4.8,
          null
         ]
        },
        {
         "fill": "toself",
         "fillcolor": "#FFA15A",
         "hoverinfo": "x+text",
         "legendgroup": "rz",
         "line": {
          "color": "black"
         },
         "marker": {
          "size": 0.01
         },
         "mode": "lines+markers",
         "name": "rz",
         "showlegend": false,
         "text": "Instruction: rz_1<br>Pulse: shift_phase<br>Start: 20080<br>Finish: 20080<br>Duration: 0",
         "type": "scatter",
         "x": [
          20080,
          20081,
          20080,
          20079,
          20080,
          null
         ],
         "y": [
          4.8,
          5,
          5.2,
          5,
          4.8,
          null
         ]
        }
       ],
       "layout": {
        "annotations": [
         {
          "font": {
           "color": "black",
           "size": 10
          },
          "showarrow": false,
          "text": "measure_capture",
          "textangle": 0,
          "x": 23328,
          "y": 0
         },
         {
          "font": {
           "color": "black",
           "size": 10
          },
          "showarrow": false,
          "text": "measure_capture",
          "textangle": 0,
          "x": 23328,
          "y": 1
         },
         {
          "font": {
           "color": "black",
           "size": 10
          },
          "showarrow": false,
          "text": "measure_play",
          "textangle": 0,
          "x": 22360,
          "y": 2
         },
         {
          "font": {
           "color": "black",
           "size": 10
          },
          "showarrow": false,
          "text": "",
          "textangle": 0,
          "x": 21640,
          "y": 2
         },
         {
          "font": {
           "color": "black",
           "size": 10
          },
          "showarrow": false,
          "text": "sx_play",
          "textangle": 0,
          "x": 21580,
          "y": 2
         },
         {
          "font": {
           "color": "black",
           "size": 10
          },
          "showarrow": false,
          "text": "ecr_play",
          "textangle": 0,
          "x": 21220,
          "y": 2
         },
         {
          "font": {
           "color": "black",
           "size": 10
          },
          "showarrow": false,
          "text": "ecr_play",
          "textangle": 0,
          "x": 20500,
          "y": 2
         },
         {
          "font": {
           "color": "black",
           "size": 10
          },
          "showarrow": false,
          "text": "",
          "textangle": 0,
          "x": 0,
          "y": 2
         },
         {
          "font": {
           "color": "black",
           "size": 10
          },
          "showarrow": false,
          "text": "INIT_play",
          "textangle": 0,
          "x": 10080,
          "y": 2
         },
         {
          "font": {
           "color": "black",
           "size": 10
          },
          "showarrow": false,
          "text": "INIT_play",
          "textangle": 0,
          "x": 10072,
          "y": 2
         },
         {
          "font": {
           "color": "black",
           "size": 10
          },
          "showarrow": false,
          "text": "",
          "textangle": 0,
          "x": 20080,
          "y": 2
         },
         {
          "font": {
           "color": "black",
           "size": 10
          },
          "showarrow": false,
          "text": "sx_play",
          "textangle": 0,
          "x": 20140,
          "y": 2
         },
         {
          "font": {
           "color": "black",
           "size": 10
          },
          "showarrow": false,
          "text": "",
          "textangle": 0,
          "x": 20080,
          "y": 3
         },
         {
          "font": {
           "color": "black",
           "size": 10
          },
          "showarrow": false,
          "text": "sx_play",
          "textangle": 0,
          "x": 21580,
          "y": 3
         },
         {
          "font": {
           "color": "black",
           "size": 10
          },
          "showarrow": false,
          "text": "INIT_play",
          "textangle": 0,
          "x": 10072,
          "y": 3
         },
         {
          "font": {
           "color": "black",
           "size": 10
          },
          "showarrow": false,
          "text": "INIT_play",
          "textangle": 0,
          "x": 10080,
          "y": 3
         },
         {
          "font": {
           "color": "black",
           "size": 10
          },
          "showarrow": false,
          "text": "",
          "textangle": 0,
          "x": 21640,
          "y": 3
         },
         {
          "font": {
           "color": "black",
           "size": 10
          },
          "showarrow": false,
          "text": "",
          "textangle": 0,
          "x": 0,
          "y": 3
         },
         {
          "font": {
           "color": "black",
           "size": 10
          },
          "showarrow": false,
          "text": "ecr_play",
          "textangle": 0,
          "x": 20860,
          "y": 3
         },
         {
          "font": {
           "color": "black",
           "size": 10
          },
          "showarrow": false,
          "text": "sx_play",
          "textangle": 0,
          "x": 20140,
          "y": 3
         },
         {
          "font": {
           "color": "black",
           "size": 10
          },
          "showarrow": false,
          "text": "measure_play",
          "textangle": 0,
          "x": 22360,
          "y": 3
         },
         {
          "font": {
           "color": "black",
           "size": 10
          },
          "showarrow": false,
          "text": "ecr_play",
          "textangle": 0,
          "x": 20500,
          "y": 3
         },
         {
          "font": {
           "color": "black",
           "size": 10
          },
          "showarrow": false,
          "text": "ecr_play",
          "textangle": 0,
          "x": 21220,
          "y": 3
         },
         {
          "font": {
           "color": "black",
           "size": 10
          },
          "showarrow": true,
          "text": "rz_shift_phase",
          "textangle": 0,
          "x": 21640,
          "y": 2
         },
         {
          "font": {
           "color": "black",
           "size": 10
          },
          "showarrow": true,
          "text": "sx_shift_phase",
          "textangle": 0,
          "x": 21640,
          "y": 2
         },
         {
          "font": {
           "color": "black",
           "size": 10
          },
          "showarrow": true,
          "text": "rz_shift_phase",
          "textangle": 0,
          "x": 21520,
          "y": 2
         },
         {
          "font": {
           "color": "black",
           "size": 10
          },
          "showarrow": true,
          "text": "rz_shift_phase",
          "textangle": 0,
          "x": 21640,
          "y": 2
         },
         {
          "font": {
           "color": "black",
           "size": 10
          },
          "showarrow": true,
          "text": "sx_shift_phase",
          "textangle": 0,
          "x": 21640,
          "y": 2
         },
         {
          "font": {
           "color": "black",
           "size": 10
          },
          "showarrow": true,
          "text": "rz_shift_phase",
          "textangle": 0,
          "x": 21520,
          "y": 2
         },
         {
          "font": {
           "color": "black",
           "size": 10
          },
          "showarrow": true,
          "text": "rz_shift_phase",
          "textangle": 0,
          "x": 20200,
          "y": 2
         },
         {
          "font": {
           "color": "black",
           "size": 10
          },
          "showarrow": true,
          "text": "sx_shift_phase",
          "textangle": 0,
          "x": 20200,
          "y": 2
         },
         {
          "font": {
           "color": "black",
           "size": 10
          },
          "showarrow": true,
          "text": "rz_shift_phase",
          "textangle": 0,
          "x": 20080,
          "y": 2
         },
         {
          "font": {
           "color": "black",
           "size": 10
          },
          "showarrow": true,
          "text": "rz_shift_phase",
          "textangle": 0,
          "x": 20080,
          "y": 2
         },
         {
          "font": {
           "color": "black",
           "size": 10
          },
          "showarrow": true,
          "text": "sx_shift_phase",
          "textangle": 0,
          "x": 20200,
          "y": 2
         },
         {
          "font": {
           "color": "black",
           "size": 10
          },
          "showarrow": true,
          "text": "rz_shift_phase",
          "textangle": 0,
          "x": 20080,
          "y": 3
         },
         {
          "font": {
           "color": "black",
           "size": 10
          },
          "showarrow": true,
          "text": "rz_shift_phase",
          "textangle": 0,
          "x": 21520,
          "y": 3
         },
         {
          "font": {
           "color": "black",
           "size": 10
          },
          "showarrow": true,
          "text": "rz_shift_phase",
          "textangle": 0,
          "x": 21640,
          "y": 3
         },
         {
          "font": {
           "color": "black",
           "size": 10
          },
          "showarrow": true,
          "text": "rz_shift_phase",
          "textangle": 0,
          "x": 21640,
          "y": 3
         },
         {
          "font": {
           "color": "black",
           "size": 10
          },
          "showarrow": true,
          "text": "sx_shift_phase",
          "textangle": 0,
          "x": 21640,
          "y": 3
         },
         {
          "font": {
           "color": "black",
           "size": 10
          },
          "showarrow": true,
          "text": "rz_shift_phase",
          "textangle": 0,
          "x": 20080,
          "y": 3
         },
         {
          "font": {
           "color": "black",
           "size": 10
          },
          "showarrow": true,
          "text": "sx_shift_phase",
          "textangle": 0,
          "x": 21640,
          "y": 3
         },
         {
          "font": {
           "color": "black",
           "size": 10
          },
          "showarrow": true,
          "text": "sx_shift_phase",
          "textangle": 0,
          "x": 20200,
          "y": 3
         },
         {
          "font": {
           "color": "black",
           "size": 10
          },
          "showarrow": true,
          "text": "rz_shift_phase",
          "textangle": 0,
          "x": 20200,
          "y": 3
         },
         {
          "font": {
           "color": "black",
           "size": 10
          },
          "showarrow": true,
          "text": "sx_shift_phase",
          "textangle": 0,
          "x": 20200,
          "y": 3
         },
         {
          "font": {
           "color": "black",
           "size": 10
          },
          "showarrow": true,
          "text": "rz_shift_phase",
          "textangle": 0,
          "x": 21520,
          "y": 3
         },
         {
          "font": {
           "color": "black",
           "size": 10
          },
          "showarrow": true,
          "text": "sx_shift_phase",
          "textangle": 0,
          "x": 21640,
          "y": 4
         },
         {
          "font": {
           "color": "black",
           "size": 10
          },
          "showarrow": true,
          "text": "sx_shift_phase",
          "textangle": 0,
          "x": 20200,
          "y": 4
         },
         {
          "font": {
           "color": "black",
           "size": 10
          },
          "showarrow": true,
          "text": "rz_shift_phase",
          "textangle": 0,
          "x": 21520,
          "y": 4
         },
         {
          "font": {
           "color": "black",
           "size": 10
          },
          "showarrow": true,
          "text": "rz_shift_phase",
          "textangle": 0,
          "x": 21640,
          "y": 4
         },
         {
          "font": {
           "color": "black",
           "size": 10
          },
          "showarrow": true,
          "text": "rz_shift_phase",
          "textangle": 0,
          "x": 20080,
          "y": 4
         },
         {
          "font": {
           "color": "black",
           "size": 10
          },
          "showarrow": true,
          "text": "sx_shift_phase",
          "textangle": 0,
          "x": 21640,
          "y": 5
         },
         {
          "font": {
           "color": "black",
           "size": 10
          },
          "showarrow": true,
          "text": "rz_shift_phase",
          "textangle": 0,
          "x": 21520,
          "y": 5
         },
         {
          "font": {
           "color": "black",
           "size": 10
          },
          "showarrow": true,
          "text": "rz_shift_phase",
          "textangle": 0,
          "x": 21640,
          "y": 5
         },
         {
          "font": {
           "color": "black",
           "size": 10
          },
          "showarrow": true,
          "text": "rz_shift_phase",
          "textangle": 0,
          "x": 20200,
          "y": 5
         },
         {
          "font": {
           "color": "black",
           "size": 10
          },
          "showarrow": true,
          "text": "sx_shift_phase",
          "textangle": 0,
          "x": 20200,
          "y": 5
         },
         {
          "font": {
           "color": "black",
           "size": 10
          },
          "showarrow": true,
          "text": "rz_shift_phase",
          "textangle": 0,
          "x": 20080,
          "y": 5
         }
        ],
        "height": 560,
        "paper_bgcolor": "rgba(255,255,255,1)",
        "plot_bgcolor": "rgba(255,255,255,1)",
        "template": {
         "data": {
          "bar": [
           {
            "error_x": {
             "color": "#2a3f5f"
            },
            "error_y": {
             "color": "#2a3f5f"
            },
            "marker": {
             "line": {
              "color": "#E5ECF6",
              "width": 0.5
             },
             "pattern": {
              "fillmode": "overlay",
              "size": 10,
              "solidity": 0.2
             }
            },
            "type": "bar"
           }
          ],
          "barpolar": [
           {
            "marker": {
             "line": {
              "color": "#E5ECF6",
              "width": 0.5
             },
             "pattern": {
              "fillmode": "overlay",
              "size": 10,
              "solidity": 0.2
             }
            },
            "type": "barpolar"
           }
          ],
          "carpet": [
           {
            "aaxis": {
             "endlinecolor": "#2a3f5f",
             "gridcolor": "white",
             "linecolor": "white",
             "minorgridcolor": "white",
             "startlinecolor": "#2a3f5f"
            },
            "baxis": {
             "endlinecolor": "#2a3f5f",
             "gridcolor": "white",
             "linecolor": "white",
             "minorgridcolor": "white",
             "startlinecolor": "#2a3f5f"
            },
            "type": "carpet"
           }
          ],
          "choropleth": [
           {
            "colorbar": {
             "outlinewidth": 0,
             "ticks": ""
            },
            "type": "choropleth"
           }
          ],
          "contour": [
           {
            "colorbar": {
             "outlinewidth": 0,
             "ticks": ""
            },
            "colorscale": [
             [
              0,
              "#0d0887"
             ],
             [
              0.1111111111111111,
              "#46039f"
             ],
             [
              0.2222222222222222,
              "#7201a8"
             ],
             [
              0.3333333333333333,
              "#9c179e"
             ],
             [
              0.4444444444444444,
              "#bd3786"
             ],
             [
              0.5555555555555556,
              "#d8576b"
             ],
             [
              0.6666666666666666,
              "#ed7953"
             ],
             [
              0.7777777777777778,
              "#fb9f3a"
             ],
             [
              0.8888888888888888,
              "#fdca26"
             ],
             [
              1,
              "#f0f921"
             ]
            ],
            "type": "contour"
           }
          ],
          "contourcarpet": [
           {
            "colorbar": {
             "outlinewidth": 0,
             "ticks": ""
            },
            "type": "contourcarpet"
           }
          ],
          "heatmap": [
           {
            "colorbar": {
             "outlinewidth": 0,
             "ticks": ""
            },
            "colorscale": [
             [
              0,
              "#0d0887"
             ],
             [
              0.1111111111111111,
              "#46039f"
             ],
             [
              0.2222222222222222,
              "#7201a8"
             ],
             [
              0.3333333333333333,
              "#9c179e"
             ],
             [
              0.4444444444444444,
              "#bd3786"
             ],
             [
              0.5555555555555556,
              "#d8576b"
             ],
             [
              0.6666666666666666,
              "#ed7953"
             ],
             [
              0.7777777777777778,
              "#fb9f3a"
             ],
             [
              0.8888888888888888,
              "#fdca26"
             ],
             [
              1,
              "#f0f921"
             ]
            ],
            "type": "heatmap"
           }
          ],
          "histogram": [
           {
            "marker": {
             "pattern": {
              "fillmode": "overlay",
              "size": 10,
              "solidity": 0.2
             }
            },
            "type": "histogram"
           }
          ],
          "histogram2d": [
           {
            "colorbar": {
             "outlinewidth": 0,
             "ticks": ""
            },
            "colorscale": [
             [
              0,
              "#0d0887"
             ],
             [
              0.1111111111111111,
              "#46039f"
             ],
             [
              0.2222222222222222,
              "#7201a8"
             ],
             [
              0.3333333333333333,
              "#9c179e"
             ],
             [
              0.4444444444444444,
              "#bd3786"
             ],
             [
              0.5555555555555556,
              "#d8576b"
             ],
             [
              0.6666666666666666,
              "#ed7953"
             ],
             [
              0.7777777777777778,
              "#fb9f3a"
             ],
             [
              0.8888888888888888,
              "#fdca26"
             ],
             [
              1,
              "#f0f921"
             ]
            ],
            "type": "histogram2d"
           }
          ],
          "histogram2dcontour": [
           {
            "colorbar": {
             "outlinewidth": 0,
             "ticks": ""
            },
            "colorscale": [
             [
              0,
              "#0d0887"
             ],
             [
              0.1111111111111111,
              "#46039f"
             ],
             [
              0.2222222222222222,
              "#7201a8"
             ],
             [
              0.3333333333333333,
              "#9c179e"
             ],
             [
              0.4444444444444444,
              "#bd3786"
             ],
             [
              0.5555555555555556,
              "#d8576b"
             ],
             [
              0.6666666666666666,
              "#ed7953"
             ],
             [
              0.7777777777777778,
              "#fb9f3a"
             ],
             [
              0.8888888888888888,
              "#fdca26"
             ],
             [
              1,
              "#f0f921"
             ]
            ],
            "type": "histogram2dcontour"
           }
          ],
          "mesh3d": [
           {
            "colorbar": {
             "outlinewidth": 0,
             "ticks": ""
            },
            "type": "mesh3d"
           }
          ],
          "parcoords": [
           {
            "line": {
             "colorbar": {
              "outlinewidth": 0,
              "ticks": ""
             }
            },
            "type": "parcoords"
           }
          ],
          "pie": [
           {
            "automargin": true,
            "type": "pie"
           }
          ],
          "scatter": [
           {
            "fillpattern": {
             "fillmode": "overlay",
             "size": 10,
             "solidity": 0.2
            },
            "type": "scatter"
           }
          ],
          "scatter3d": [
           {
            "line": {
             "colorbar": {
              "outlinewidth": 0,
              "ticks": ""
             }
            },
            "marker": {
             "colorbar": {
              "outlinewidth": 0,
              "ticks": ""
             }
            },
            "type": "scatter3d"
           }
          ],
          "scattercarpet": [
           {
            "marker": {
             "colorbar": {
              "outlinewidth": 0,
              "ticks": ""
             }
            },
            "type": "scattercarpet"
           }
          ],
          "scattergeo": [
           {
            "marker": {
             "colorbar": {
              "outlinewidth": 0,
              "ticks": ""
             }
            },
            "type": "scattergeo"
           }
          ],
          "scattergl": [
           {
            "marker": {
             "colorbar": {
              "outlinewidth": 0,
              "ticks": ""
             }
            },
            "type": "scattergl"
           }
          ],
          "scattermap": [
           {
            "marker": {
             "colorbar": {
              "outlinewidth": 0,
              "ticks": ""
             }
            },
            "type": "scattermap"
           }
          ],
          "scattermapbox": [
           {
            "marker": {
             "colorbar": {
              "outlinewidth": 0,
              "ticks": ""
             }
            },
            "type": "scattermapbox"
           }
          ],
          "scatterpolar": [
           {
            "marker": {
             "colorbar": {
              "outlinewidth": 0,
              "ticks": ""
             }
            },
            "type": "scatterpolar"
           }
          ],
          "scatterpolargl": [
           {
            "marker": {
             "colorbar": {
              "outlinewidth": 0,
              "ticks": ""
             }
            },
            "type": "scatterpolargl"
           }
          ],
          "scatterternary": [
           {
            "marker": {
             "colorbar": {
              "outlinewidth": 0,
              "ticks": ""
             }
            },
            "type": "scatterternary"
           }
          ],
          "surface": [
           {
            "colorbar": {
             "outlinewidth": 0,
             "ticks": ""
            },
            "colorscale": [
             [
              0,
              "#0d0887"
             ],
             [
              0.1111111111111111,
              "#46039f"
             ],
             [
              0.2222222222222222,
              "#7201a8"
             ],
             [
              0.3333333333333333,
              "#9c179e"
             ],
             [
              0.4444444444444444,
              "#bd3786"
             ],
             [
              0.5555555555555556,
              "#d8576b"
             ],
             [
              0.6666666666666666,
              "#ed7953"
             ],
             [
              0.7777777777777778,
              "#fb9f3a"
             ],
             [
              0.8888888888888888,
              "#fdca26"
             ],
             [
              1,
              "#f0f921"
             ]
            ],
            "type": "surface"
           }
          ],
          "table": [
           {
            "cells": {
             "fill": {
              "color": "#EBF0F8"
             },
             "line": {
              "color": "white"
             }
            },
            "header": {
             "fill": {
              "color": "#C8D4E3"
             },
             "line": {
              "color": "white"
             }
            },
            "type": "table"
           }
          ]
         },
         "layout": {
          "annotationdefaults": {
           "arrowcolor": "#2a3f5f",
           "arrowhead": 0,
           "arrowwidth": 1
          },
          "autotypenumbers": "strict",
          "coloraxis": {
           "colorbar": {
            "outlinewidth": 0,
            "ticks": ""
           }
          },
          "colorscale": {
           "diverging": [
            [
             0,
             "#8e0152"
            ],
            [
             0.1,
             "#c51b7d"
            ],
            [
             0.2,
             "#de77ae"
            ],
            [
             0.3,
             "#f1b6da"
            ],
            [
             0.4,
             "#fde0ef"
            ],
            [
             0.5,
             "#f7f7f7"
            ],
            [
             0.6,
             "#e6f5d0"
            ],
            [
             0.7,
             "#b8e186"
            ],
            [
             0.8,
             "#7fbc41"
            ],
            [
             0.9,
             "#4d9221"
            ],
            [
             1,
             "#276419"
            ]
           ],
           "sequential": [
            [
             0,
             "#0d0887"
            ],
            [
             0.1111111111111111,
             "#46039f"
            ],
            [
             0.2222222222222222,
             "#7201a8"
            ],
            [
             0.3333333333333333,
             "#9c179e"
            ],
            [
             0.4444444444444444,
             "#bd3786"
            ],
            [
             0.5555555555555556,
             "#d8576b"
            ],
            [
             0.6666666666666666,
             "#ed7953"
            ],
            [
             0.7777777777777778,
             "#fb9f3a"
            ],
            [
             0.8888888888888888,
             "#fdca26"
            ],
            [
             1,
             "#f0f921"
            ]
           ],
           "sequentialminus": [
            [
             0,
             "#0d0887"
            ],
            [
             0.1111111111111111,
             "#46039f"
            ],
            [
             0.2222222222222222,
             "#7201a8"
            ],
            [
             0.3333333333333333,
             "#9c179e"
            ],
            [
             0.4444444444444444,
             "#bd3786"
            ],
            [
             0.5555555555555556,
             "#d8576b"
            ],
            [
             0.6666666666666666,
             "#ed7953"
            ],
            [
             0.7777777777777778,
             "#fb9f3a"
            ],
            [
             0.8888888888888888,
             "#fdca26"
            ],
            [
             1,
             "#f0f921"
            ]
           ]
          },
          "colorway": [
           "#636efa",
           "#EF553B",
           "#00cc96",
           "#ab63fa",
           "#FFA15A",
           "#19d3f3",
           "#FF6692",
           "#B6E880",
           "#FF97FF",
           "#FECB52"
          ],
          "font": {
           "color": "#2a3f5f"
          },
          "geo": {
           "bgcolor": "white",
           "lakecolor": "white",
           "landcolor": "#E5ECF6",
           "showlakes": true,
           "showland": true,
           "subunitcolor": "white"
          },
          "hoverlabel": {
           "align": "left"
          },
          "hovermode": "closest",
          "mapbox": {
           "style": "light"
          },
          "paper_bgcolor": "white",
          "plot_bgcolor": "#E5ECF6",
          "polar": {
           "angularaxis": {
            "gridcolor": "white",
            "linecolor": "white",
            "ticks": ""
           },
           "bgcolor": "#E5ECF6",
           "radialaxis": {
            "gridcolor": "white",
            "linecolor": "white",
            "ticks": ""
           }
          },
          "scene": {
           "xaxis": {
            "backgroundcolor": "#E5ECF6",
            "gridcolor": "white",
            "gridwidth": 2,
            "linecolor": "white",
            "showbackground": true,
            "ticks": "",
            "zerolinecolor": "white"
           },
           "yaxis": {
            "backgroundcolor": "#E5ECF6",
            "gridcolor": "white",
            "gridwidth": 2,
            "linecolor": "white",
            "showbackground": true,
            "ticks": "",
            "zerolinecolor": "white"
           },
           "zaxis": {
            "backgroundcolor": "#E5ECF6",
            "gridcolor": "white",
            "gridwidth": 2,
            "linecolor": "white",
            "showbackground": true,
            "ticks": "",
            "zerolinecolor": "white"
           }
          },
          "shapedefaults": {
           "line": {
            "color": "#2a3f5f"
           }
          },
          "ternary": {
           "aaxis": {
            "gridcolor": "white",
            "linecolor": "white",
            "ticks": ""
           },
           "baxis": {
            "gridcolor": "white",
            "linecolor": "white",
            "ticks": ""
           },
           "bgcolor": "#E5ECF6",
           "caxis": {
            "gridcolor": "white",
            "linecolor": "white",
            "ticks": ""
           }
          },
          "title": {
           "x": 0.05
          },
          "xaxis": {
           "automargin": true,
           "gridcolor": "white",
           "linecolor": "white",
           "ticks": "",
           "title": {
            "standoff": 15
           },
           "zerolinecolor": "white",
           "zerolinewidth": 2
          },
          "yaxis": {
           "automargin": true,
           "gridcolor": "white",
           "linecolor": "white",
           "ticks": "",
           "title": {
            "standoff": 15
           },
           "zerolinecolor": "white",
           "zerolinewidth": 2
          }
         }
        },
        "title": {
         "font": {
          "size": 20
         },
         "text": "Payload Schedule",
         "x": 0.5
        },
        "updatemenus": [
         {
          "buttons": [
           {
            "args": [
             {
              "annotations": [
               {
                "font": {
                 "color": "black",
                 "size": 10
                },
                "showarrow": false,
                "text": "measure_capture",
                "textangle": 0,
                "x": 23328,
                "y": 0
               },
               {
                "font": {
                 "color": "black",
                 "size": 10
                },
                "showarrow": false,
                "text": "measure_capture",
                "textangle": 0,
                "x": 23328,
                "y": 1
               },
               {
                "font": {
                 "color": "black",
                 "size": 10
                },
                "showarrow": false,
                "text": "measure_play",
                "textangle": 0,
                "x": 22360,
                "y": 2
               },
               {
                "font": {
                 "color": "black",
                 "size": 10
                },
                "showarrow": false,
                "text": "",
                "textangle": 0,
                "x": 21640,
                "y": 2
               },
               {
                "font": {
                 "color": "black",
                 "size": 10
                },
                "showarrow": false,
                "text": "sx_play",
                "textangle": 0,
                "x": 21580,
                "y": 2
               },
               {
                "font": {
                 "color": "black",
                 "size": 10
                },
                "showarrow": false,
                "text": "ecr_play",
                "textangle": 0,
                "x": 21220,
                "y": 2
               },
               {
                "font": {
                 "color": "black",
                 "size": 10
                },
                "showarrow": false,
                "text": "ecr_play",
                "textangle": 0,
                "x": 20500,
                "y": 2
               },
               {
                "font": {
                 "color": "black",
                 "size": 10
                },
                "showarrow": false,
                "text": "",
                "textangle": 0,
                "x": 0,
                "y": 2
               },
               {
                "font": {
                 "color": "black",
                 "size": 10
                },
                "showarrow": false,
                "text": "INIT_play",
                "textangle": 0,
                "x": 10080,
                "y": 2
               },
               {
                "font": {
                 "color": "black",
                 "size": 10
                },
                "showarrow": false,
                "text": "INIT_play",
                "textangle": 0,
                "x": 10072,
                "y": 2
               },
               {
                "font": {
                 "color": "black",
                 "size": 10
                },
                "showarrow": false,
                "text": "",
                "textangle": 0,
                "x": 20080,
                "y": 2
               },
               {
                "font": {
                 "color": "black",
                 "size": 10
                },
                "showarrow": false,
                "text": "sx_play",
                "textangle": 0,
                "x": 20140,
                "y": 2
               },
               {
                "font": {
                 "color": "black",
                 "size": 10
                },
                "showarrow": false,
                "text": "",
                "textangle": 0,
                "x": 20080,
                "y": 3
               },
               {
                "font": {
                 "color": "black",
                 "size": 10
                },
                "showarrow": false,
                "text": "sx_play",
                "textangle": 0,
                "x": 21580,
                "y": 3
               },
               {
                "font": {
                 "color": "black",
                 "size": 10
                },
                "showarrow": false,
                "text": "INIT_play",
                "textangle": 0,
                "x": 10072,
                "y": 3
               },
               {
                "font": {
                 "color": "black",
                 "size": 10
                },
                "showarrow": false,
                "text": "INIT_play",
                "textangle": 0,
                "x": 10080,
                "y": 3
               },
               {
                "font": {
                 "color": "black",
                 "size": 10
                },
                "showarrow": false,
                "text": "",
                "textangle": 0,
                "x": 21640,
                "y": 3
               },
               {
                "font": {
                 "color": "black",
                 "size": 10
                },
                "showarrow": false,
                "text": "",
                "textangle": 0,
                "x": 0,
                "y": 3
               },
               {
                "font": {
                 "color": "black",
                 "size": 10
                },
                "showarrow": false,
                "text": "ecr_play",
                "textangle": 0,
                "x": 20860,
                "y": 3
               },
               {
                "font": {
                 "color": "black",
                 "size": 10
                },
                "showarrow": false,
                "text": "sx_play",
                "textangle": 0,
                "x": 20140,
                "y": 3
               },
               {
                "font": {
                 "color": "black",
                 "size": 10
                },
                "showarrow": false,
                "text": "measure_play",
                "textangle": 0,
                "x": 22360,
                "y": 3
               },
               {
                "font": {
                 "color": "black",
                 "size": 10
                },
                "showarrow": false,
                "text": "ecr_play",
                "textangle": 0,
                "x": 20500,
                "y": 3
               },
               {
                "font": {
                 "color": "black",
                 "size": 10
                },
                "showarrow": false,
                "text": "ecr_play",
                "textangle": 0,
                "x": 21220,
                "y": 3
               },
               {
                "font": {
                 "color": "black",
                 "size": 10
                },
                "showarrow": true,
                "text": "rz_shift_phase",
                "textangle": 0,
                "x": 21640,
                "y": 2
               },
               {
                "font": {
                 "color": "black",
                 "size": 10
                },
                "showarrow": true,
                "text": "sx_shift_phase",
                "textangle": 0,
                "x": 21640,
                "y": 2
               },
               {
                "font": {
                 "color": "black",
                 "size": 10
                },
                "showarrow": true,
                "text": "rz_shift_phase",
                "textangle": 0,
                "x": 21520,
                "y": 2
               },
               {
                "font": {
                 "color": "black",
                 "size": 10
                },
                "showarrow": true,
                "text": "rz_shift_phase",
                "textangle": 0,
                "x": 21640,
                "y": 2
               },
               {
                "font": {
                 "color": "black",
                 "size": 10
                },
                "showarrow": true,
                "text": "sx_shift_phase",
                "textangle": 0,
                "x": 21640,
                "y": 2
               },
               {
                "font": {
                 "color": "black",
                 "size": 10
                },
                "showarrow": true,
                "text": "rz_shift_phase",
                "textangle": 0,
                "x": 21520,
                "y": 2
               },
               {
                "font": {
                 "color": "black",
                 "size": 10
                },
                "showarrow": true,
                "text": "rz_shift_phase",
                "textangle": 0,
                "x": 20200,
                "y": 2
               },
               {
                "font": {
                 "color": "black",
                 "size": 10
                },
                "showarrow": true,
                "text": "sx_shift_phase",
                "textangle": 0,
                "x": 20200,
                "y": 2
               },
               {
                "font": {
                 "color": "black",
                 "size": 10
                },
                "showarrow": true,
                "text": "rz_shift_phase",
                "textangle": 0,
                "x": 20080,
                "y": 2
               },
               {
                "font": {
                 "color": "black",
                 "size": 10
                },
                "showarrow": true,
                "text": "rz_shift_phase",
                "textangle": 0,
                "x": 20080,
                "y": 2
               },
               {
                "font": {
                 "color": "black",
                 "size": 10
                },
                "showarrow": true,
                "text": "sx_shift_phase",
                "textangle": 0,
                "x": 20200,
                "y": 2
               },
               {
                "font": {
                 "color": "black",
                 "size": 10
                },
                "showarrow": true,
                "text": "rz_shift_phase",
                "textangle": 0,
                "x": 20080,
                "y": 3
               },
               {
                "font": {
                 "color": "black",
                 "size": 10
                },
                "showarrow": true,
                "text": "rz_shift_phase",
                "textangle": 0,
                "x": 21520,
                "y": 3
               },
               {
                "font": {
                 "color": "black",
                 "size": 10
                },
                "showarrow": true,
                "text": "rz_shift_phase",
                "textangle": 0,
                "x": 21640,
                "y": 3
               },
               {
                "font": {
                 "color": "black",
                 "size": 10
                },
                "showarrow": true,
                "text": "rz_shift_phase",
                "textangle": 0,
                "x": 21640,
                "y": 3
               },
               {
                "font": {
                 "color": "black",
                 "size": 10
                },
                "showarrow": true,
                "text": "sx_shift_phase",
                "textangle": 0,
                "x": 21640,
                "y": 3
               },
               {
                "font": {
                 "color": "black",
                 "size": 10
                },
                "showarrow": true,
                "text": "rz_shift_phase",
                "textangle": 0,
                "x": 20080,
                "y": 3
               },
               {
                "font": {
                 "color": "black",
                 "size": 10
                },
                "showarrow": true,
                "text": "sx_shift_phase",
                "textangle": 0,
                "x": 21640,
                "y": 3
               },
               {
                "font": {
                 "color": "black",
                 "size": 10
                },
                "showarrow": true,
                "text": "sx_shift_phase",
                "textangle": 0,
                "x": 20200,
                "y": 3
               },
               {
                "font": {
                 "color": "black",
                 "size": 10
                },
                "showarrow": true,
                "text": "rz_shift_phase",
                "textangle": 0,
                "x": 20200,
                "y": 3
               },
               {
                "font": {
                 "color": "black",
                 "size": 10
                },
                "showarrow": true,
                "text": "sx_shift_phase",
                "textangle": 0,
                "x": 20200,
                "y": 3
               },
               {
                "font": {
                 "color": "black",
                 "size": 10
                },
                "showarrow": true,
                "text": "rz_shift_phase",
                "textangle": 0,
                "x": 21520,
                "y": 3
               },
               {
                "font": {
                 "color": "black",
                 "size": 10
                },
                "showarrow": true,
                "text": "sx_shift_phase",
                "textangle": 0,
                "x": 21640,
                "y": 4
               },
               {
                "font": {
                 "color": "black",
                 "size": 10
                },
                "showarrow": true,
                "text": "sx_shift_phase",
                "textangle": 0,
                "x": 20200,
                "y": 4
               },
               {
                "font": {
                 "color": "black",
                 "size": 10
                },
                "showarrow": true,
                "text": "rz_shift_phase",
                "textangle": 0,
                "x": 21520,
                "y": 4
               },
               {
                "font": {
                 "color": "black",
                 "size": 10
                },
                "showarrow": true,
                "text": "rz_shift_phase",
                "textangle": 0,
                "x": 21640,
                "y": 4
               },
               {
                "font": {
                 "color": "black",
                 "size": 10
                },
                "showarrow": true,
                "text": "rz_shift_phase",
                "textangle": 0,
                "x": 20080,
                "y": 4
               },
               {
                "font": {
                 "color": "black",
                 "size": 10
                },
                "showarrow": true,
                "text": "sx_shift_phase",
                "textangle": 0,
                "x": 21640,
                "y": 5
               },
               {
                "font": {
                 "color": "black",
                 "size": 10
                },
                "showarrow": true,
                "text": "rz_shift_phase",
                "textangle": 0,
                "x": 21520,
                "y": 5
               },
               {
                "font": {
                 "color": "black",
                 "size": 10
                },
                "showarrow": true,
                "text": "rz_shift_phase",
                "textangle": 0,
                "x": 21640,
                "y": 5
               },
               {
                "font": {
                 "color": "black",
                 "size": 10
                },
                "showarrow": true,
                "text": "rz_shift_phase",
                "textangle": 0,
                "x": 20200,
                "y": 5
               },
               {
                "font": {
                 "color": "black",
                 "size": 10
                },
                "showarrow": true,
                "text": "sx_shift_phase",
                "textangle": 0,
                "x": 20200,
                "y": 5
               },
               {
                "font": {
                 "color": "black",
                 "size": 10
                },
                "showarrow": true,
                "text": "rz_shift_phase",
                "textangle": 0,
                "x": 20080,
                "y": 5
               }
              ]
             }
            ],
            "label": "Show Annotations",
            "method": "relayout"
           },
           {
            "args": [
             {
              "annotations": []
             }
            ],
            "label": "Hide Annotations",
            "method": "relayout"
           }
          ],
          "direction": "down",
          "pad": {
           "r": 10,
           "t": 10
          },
          "showactive": true,
          "type": "dropdown",
          "x": 0,
          "xanchor": "left",
          "y": 1.1,
          "yanchor": "top"
         }
        ],
        "width": 1000,
        "xaxis": {
         "linecolor": "black",
         "linewidth": 1,
         "mirror": true,
         "range": [
          0,
          24129
         ],
         "rangeslider": {
          "visible": true
         },
         "showline": true,
         "title": {
          "text": "Cycles"
         },
         "type": "linear"
        },
        "yaxis": {
         "gridcolor": "rgba(38,38,38,0.15)",
         "linecolor": "black",
         "linewidth": 1,
         "mirror": true,
         "showline": true,
         "tickmode": "array",
         "ticktext": [
          "AWGRC_8",
          "AWGRM_4",
          "Qubit 0",
          "Qubit 1",
          "Qubit 14",
          "Qubit 2"
         ],
         "tickvals": [
          0,
          1,
          2,
          3,
          4,
          5
         ],
         "title": {
          "text": "Channels"
         }
        }
       }
      }
     },
     "metadata": {},
     "output_type": "display_data"
    }
   ],
   "source": [
    "from qiskit_ibm_runtime.visualization import draw_circuit_schedule_timing\n",
    "\n",
    "# Create a figure from the metadata\n",
    "fig = draw_circuit_schedule_timing(\n",
    "    circuit_schedule=circuit_schedule_timing,\n",
    "    included_channels=None,\n",
    "    filter_readout_channels=False,\n",
    "    filter_barriers=False,\n",
    "    width=1000,\n",
    ")\n",
    "\n",
    "# Display the figure\n",
    "fig.show()\n",
    "\n",
    "# Save to a file\n",
    "# fig.write_html(\"scheduler_timing.html\")"
   ]
  },
  {
   "cell_type": "markdown",
   "id": "36ab6869-c670-48ad-9879-130bc1d75a1d",
   "metadata": {},
   "source": [
    "#### Understand the generated figure\n",
    "\n",
    "The image of the circuit timing data output by `draw_circuit_schedule_timing` conveys the following information:\n",
    "\n",
    "- X axis is time in units of _dt_ seconds,  where 1 dt = 1 scheduling cycle.\n",
    "- Y axis is the channel (think of channels as instruments that emit pulses).\n",
    "    - `Receive channel` is the only channel that isn't an instrument by itself. It is an instruction played on all channels that are part of a communication procedure with the hub at that time.\n",
    "    - `Qubit x` is the drive channel for qubit x.\n",
    "    - `AWGRx_y` (arbitrary wave generator readout) is used for readout channels communication for measuring qubits. The x and y arguments correspond to the readout instrument ID and the qubit number, respectively.\n",
    "    - `Hub` controls broadcasting.\n",
    "\n",
    "Additionally, each instruction has the format of *X_Y*, where *X* is the name of the instruction and *Y* is the pulse type. A `play` type applies control pulses, and a `capture` records the qubit's state."
   ]
  },
  {
   "cell_type": "markdown",
   "id": "2f5fbffa-2b15-41e1-a4fd-f6f12cf53aba",
   "metadata": {},
   "source": [
    "### End-to-end example\n",
    "\n",
    "This example shows you how to enable the option, get it from the metadata, display it, and save it to a file.\n",
    "\n",
    "First, set up the environment, define the circuits and convert them to ISA circuits, and define and run the jobs."
   ]
  },
  {
   "cell_type": "code",
   "execution_count": 6,
   "id": "ee31bf04-bd3c-4df4-bf4b-aee56b9fd272",
   "metadata": {
    "tags": [
     "ignore-warnings"
    ]
   },
   "outputs": [
    {
     "name": "stderr",
     "output_type": "stream",
     "text": [
      "management.get:WARNING:2025-10-14 10:44:05,138: Loading default saved account\n"
     ]
    },
    {
     "name": "stdout",
     "output_type": "stream",
     "text": [
      ">>>  Job ID:    d3n6vluemfdc73b0tm1g (RUNNING)\n",
      ">>>  Job:      d3n6vluemfdc73b0tm1g finished with:\n",
      "PrimitiveResult([SamplerPubResult(data=DataBin(meas=BitArray(<shape=(), num_shots=4096, num_bits=2>)), metadata={'circuit_metadata': {}, 'compilation': {'scheduler_timing': {'timing': 'main,barrier,Qubit 0,0,0,barrier\\nmain,barrier,Qubit 1,0,0,barrier\\nmain,INIT_0,Qubit 0,80,20000,play\\nmain,INIT_0,Qubit 0,72,20000,play\\nmain,INIT_1,Qubit 1,80,20000,play\\nmain,INIT_1,Qubit 1,72,20000,play\\nmain,barrier,Qubit 0,20080,0,barrier\\nmain,barrier,Qubit 1,20080,0,barrier\\nmain,rz_0,Qubit 1,20080,0,shift_phase\\nmain,rz_0,Qubit 14,20080,0,shift_phase\\nmain,rz_0,Qubit 0,20080,0,shift_phase\\nmain,sx_0,Qubit 0,20080,120,play\\nmain,sx_0,Qubit 1,20200,0,shift_phase\\nmain,sx_0,Qubit 14,20200,0,shift_phase\\nmain,sx_0,Qubit 0,20200,0,shift_phase\\nmain,rz_1,Qubit 2,20080,0,shift_phase\\nmain,rz_1,Qubit 1,20080,0,shift_phase\\nmain,rz_1,Qubit 0,20080,0,shift_phase\\nmain,sx_1,Qubit 1,20080,120,play\\nmain,sx_1,Qubit 2,20200,0,shift_phase\\nmain,sx_1,Qubit 1,20200,0,shift_phase\\nmain,sx_1,Qubit 0,20200,0,shift_phase\\nmain,rz_1,Qubit 2,20200,0,shift_phase\\nmain,rz_1,Qubit 1,20200,0,shift_phase\\nmain,rz_1,Qubit 0,20200,0,shift_phase\\nmain,ecr_1_0,Qubit 0,20200,600,play\\nmain,ecr_1_0,Qubit 1,20200,600,play\\nmain,ecr_1_0,Qubit 1,20800,120,play\\nmain,ecr_1_0,Qubit 0,20920,600,play\\nmain,ecr_1_0,Qubit 1,20920,600,play\\nmain,rz_0,Qubit 1,21520,0,shift_phase\\nmain,rz_0,Qubit 14,21520,0,shift_phase\\nmain,rz_0,Qubit 0,21520,0,shift_phase\\nmain,sx_0,Qubit 0,21520,120,play\\nmain,sx_0,Qubit 1,21640,0,shift_phase\\nmain,sx_0,Qubit 14,21640,0,shift_phase\\nmain,sx_0,Qubit 0,21640,0,shift_phase\\nmain,rz_0,Qubit 1,21640,0,shift_phase\\nmain,rz_0,Qubit 14,21640,0,shift_phase\\nmain,rz_0,Qubit 0,21640,0,shift_phase\\nmain,rz_1,Qubit 2,21520,0,shift_phase\\nmain,rz_1,Qubit 1,21520,0,shift_phase\\nmain,rz_1,Qubit 0,21520,0,shift_phase\\nmain,sx_1,Qubit 1,21520,120,play\\nmain,sx_1,Qubit 2,21640,0,shift_phase\\nmain,sx_1,Qubit 1,21640,0,shift_phase\\nmain,sx_1,Qubit 0,21640,0,shift_phase\\nmain,rz_1,Qubit 2,21640,0,shift_phase\\nmain,rz_1,Qubit 1,21640,0,shift_phase\\nmain,rz_1,Qubit 0,21640,0,shift_phase\\nmain,barrier,Qubit 0,21640,0,barrier\\nmain,barrier,Qubit 1,21640,0,barrier\\nmain,measure_0,Qubit 0,21640,1440,play\\nmain,measure_0,AWGRM_4,22528,1600,capture\\nmain,measure_1,Qubit 1,21640,1440,play\\nmain,measure_1,AWGRC_8,22528,1600,capture\\n', 'circuit_duration': 24840}, 'stretch_values': None}})], metadata={'execution': {'execution_spans': ExecutionSpans([DoubleSliceSpan(<start='2025-10-14 15:44:25', stop='2025-10-14 15:44:26', size=4096>)])}, 'version': 2})\n"
     ]
    }
   ],
   "source": [
    "from qiskit_ibm_runtime import SamplerV2\n",
    "from qiskit.circuit import QuantumCircuit\n",
    "\n",
    "service = QiskitRuntimeService()\n",
    "backend = service.least_busy(operational=True, simulator=False)\n",
    "\n",
    "# Create a Bell circuit\n",
    "qc = QuantumCircuit(2)\n",
    "qc.h(0)\n",
    "qc.cx(0, 1)\n",
    "qc.measure_all()\n",
    "\n",
    "qc.draw()\n",
    "\n",
    "# Convert to an ISA circuit for the given backend\n",
    "\n",
    "pm = generate_preset_pass_manager(backend=backend, optimization_level=1)\n",
    "isa_circuit = pm.run(qc)\n",
    "\n",
    "# Generate samplers for backend targets\n",
    "sampler = SamplerV2(backend)\n",
    "sampler.options.experimental = {\"execution\": {\"scheduler_timing\": True}}\n",
    "\n",
    "# Submit jobs\n",
    "sampler_job = sampler.run([isa_circuit])\n",
    "\n",
    "print(\n",
    "    f\">>> {' Job ID:':<10}  {sampler_job.job_id()} ({sampler_job.status()})\"\n",
    ")\n",
    "\n",
    "result = sampler_job.result()\n",
    "print(f\">>> {' Job:':<10} {sampler_job.job_id()} finished with:\\n{result}\")"
   ]
  },
  {
   "cell_type": "markdown",
   "id": "f90603c9-e1e6-4b01-85ef-de7d372142ec",
   "metadata": {},
   "source": [
    "Next, get the circuit schedule timing:"
   ]
  },
  {
   "cell_type": "code",
   "execution_count": 7,
   "id": "606e4885-dbde-4dce-8271-2440fe3bbc21",
   "metadata": {},
   "outputs": [
    {
     "data": {
      "text/plain": [
       "'main,barrier,Qubit 0,0,0,barrier\\nmain,barrier,Qubit 1,0,0,barrier\\nmain,INIT_0,Qubit 0,80,20000,play\\nmain,INIT_0,Qubit 0,72,20000,play\\nmain,INIT_1,Qubit 1,80,20000,play\\nmain,INIT_1,Qubit 1,72,20000,play\\nmain,barrier,Qubit 0,20080,0,barrier\\nmain,barrier,Qubit 1,20080,0,barrier\\nmain,rz_0,Qubit 1,20080,0,shift_phase\\nmain,rz_0,Qubit 14,20080,0,shift_phase\\nmain,rz_0,Qubit 0,20080,0,shift_phase\\nmain,sx_0,Qubit 0,20080,120,play\\nmain,sx_0,Qubit 1,20200,0,shift_phase\\nmain,sx_0,Qubit 14,20200,0,shift_phase\\nmain,sx_0,Qubit 0,20200,0,shift_phase\\nmain,rz_1,Qubit 2,20080,0,shift_phase\\nmain,rz_1,Qubit 1,20080,0,shift_phase\\nmain,rz_1,Qubit 0,20080,0,shift_phase\\nmain,sx_1,Qubit 1,20080,120,play\\nmain,sx_1,Qubit 2,20200,0,shift_phase\\nmain,sx_1,Qubit 1,20200,0,shift_phase\\nmain,sx_1,Qubit 0,20200,0,shift_phase\\nmain,rz_1,Qubit 2,20200,0,shift_phase\\nmain,rz_1,Qubit 1,20200,0,shift_phase\\nmain,rz_1,Qubit 0,20200,0,shift_phase\\nmain,ecr_1_0,Qubit 0,20200,600,play\\nmain,ecr_1_0,Qubit 1,20200,600,play\\nmain,ecr_1_0,Qubit 1,20800,120,play\\nmain,ecr_1_0,Qubit 0,20920,600,play\\nmain,ecr_1_0,Qubit 1,20920,600,play\\nmain,rz_0,Qubit 1,21520,0,shift_phase\\nmain,rz_0,Qubit 14,21520,0,shift_phase\\nmain,rz_0,Qubit 0,21520,0,shift_phase\\nmain,sx_0,Qubit 0,21520,120,play\\nmain,sx_0,Qubit 1,21640,0,shift_phase\\nmain,sx_0,Qubit 14,21640,0,shift_phase\\nmain,sx_0,Qubit 0,21640,0,shift_phase\\nmain,rz_0,Qubit 1,21640,0,shift_phase\\nmain,rz_0,Qubit 14,21640,0,shift_phase\\nmain,rz_0,Qubit 0,21640,0,shift_phase\\nmain,rz_1,Qubit 2,21520,0,shift_phase\\nmain,rz_1,Qubit 1,21520,0,shift_phase\\nmain,rz_1,Qubit 0,21520,0,shift_phase\\nmain,sx_1,Qubit 1,21520,120,play\\nmain,sx_1,Qubit 2,21640,0,shift_phase\\nmain,sx_1,Qubit 1,21640,0,shift_phase\\nmain,sx_1,Qubit 0,21640,0,shift_phase\\nmain,rz_1,Qubit 2,21640,0,shift_phase\\nmain,rz_1,Qubit 1,21640,0,shift_phase\\nmain,rz_1,Qubit 0,21640,0,shift_phase\\nmain,barrier,Qubit 0,21640,0,barrier\\nmain,barrier,Qubit 1,21640,0,barrier\\nmain,measure_0,Qubit 0,21640,1440,play\\nmain,measure_0,AWGRM_4,22528,1600,capture\\nmain,measure_1,Qubit 1,21640,1440,play\\nmain,measure_1,AWGRC_8,22528,1600,capture\\n'"
      ]
     },
     "execution_count": 7,
     "metadata": {},
     "output_type": "execute_result"
    }
   ],
   "source": [
    "# Get the circuit schedule timing\n",
    "result[0].metadata[\"compilation\"][\"scheduler_timing\"][\"timing\"]"
   ]
  },
  {
   "cell_type": "markdown",
   "id": "29e6d85d-babe-49ec-b78f-12fc03dd9401",
   "metadata": {},
   "source": [
    "Finally, you can visualize and save the timing:"
   ]
  },
  {
   "cell_type": "code",
   "execution_count": 8,
   "id": "96e53d33-469b-4df6-8e50-845d5dca7d6b",
   "metadata": {},
   "outputs": [
    {
     "data": {
      "application/vnd.plotly.v1+json": {
       "config": {
        "plotlyServerURL": "https://plot.ly"
       },
       "data": [
        {
         "fill": "toself",
         "fillcolor": "#AB63FA",
         "hoverinfo": "x+text",
         "legendgroup": "measure",
         "line": {
          "color": "black"
         },
         "marker": {
          "size": 0.01
         },
         "mode": "lines+markers",
         "name": "measure",
         "showlegend": true,
         "text": "Instruction: measure_1<br>Pulse: capture<br>Start: 22528<br>Finish: 24128<br>Duration: 1600",
         "type": "scatter",
         "x": [
          22528,
          23328,
          24128,
          24128,
          23328,
          22528,
          22528,
          null
         ],
         "y": [
          -0.4,
          -0.4,
          -0.4,
          0.4,
          0.4,
          0.4,
          -0.4,
          null
         ]
        },
        {
         "fill": "toself",
         "fillcolor": "#AB63FA",
         "hoverinfo": "x+text",
         "legendgroup": "measure",
         "line": {
          "color": "black"
         },
         "marker": {
          "size": 0.01
         },
         "mode": "lines+markers",
         "name": "measure",
         "showlegend": false,
         "text": "Instruction: measure_0<br>Pulse: capture<br>Start: 22528<br>Finish: 24128<br>Duration: 1600",
         "type": "scatter",
         "x": [
          22528,
          23328,
          24128,
          24128,
          23328,
          22528,
          22528,
          null
         ],
         "y": [
          0.6,
          0.6,
          0.6,
          1.4,
          1.4,
          1.4,
          0.6,
          null
         ]
        },
        {
         "fill": "toself",
         "fillcolor": "#AB63FA",
         "hoverinfo": "x+text",
         "legendgroup": "measure",
         "line": {
          "color": "black"
         },
         "marker": {
          "size": 0.01
         },
         "mode": "lines+markers",
         "name": "measure",
         "showlegend": false,
         "text": "Instruction: measure_0<br>Pulse: play<br>Start: 21640<br>Finish: 23080<br>Duration: 1440",
         "type": "scatter",
         "x": [
          21640,
          22360,
          23080,
          23080,
          22360,
          21640,
          21640,
          null
         ],
         "y": [
          1.6,
          1.6,
          1.6,
          2.4,
          2.4,
          2.4,
          1.6,
          null
         ]
        },
        {
         "fill": "toself",
         "fillcolor": "#EF553B",
         "hoverinfo": "x+text",
         "legendgroup": "barrier",
         "line": {
          "color": "black"
         },
         "marker": {
          "size": 0.01
         },
         "mode": "lines+markers",
         "name": "barrier",
         "showlegend": true,
         "text": "Instruction: barrier<br>Pulse: barrier<br>Start: 21640<br>Finish: 21640<br>Duration: 0",
         "type": "scatter",
         "x": [
          21640,
          21640,
          21640,
          21640,
          21640,
          21640,
          21640,
          null
         ],
         "y": [
          1.6,
          1.6,
          1.6,
          2.4,
          2.4,
          2.4,
          1.6,
          null
         ]
        },
        {
         "fill": "toself",
         "fillcolor": "#19D3F3",
         "hoverinfo": "x+text",
         "legendgroup": "sx",
         "line": {
          "color": "black"
         },
         "marker": {
          "size": 0.01
         },
         "mode": "lines+markers",
         "name": "sx",
         "showlegend": true,
         "text": "Instruction: sx_0<br>Pulse: play<br>Start: 21520<br>Finish: 21640<br>Duration: 120",
         "type": "scatter",
         "x": [
          21520,
          21580,
          21640,
          21640,
          21580,
          21520,
          21520,
          null
         ],
         "y": [
          1.6,
          1.6,
          1.6,
          2.4,
          2.4,
          2.4,
          1.6,
          null
         ]
        },
        {
         "fill": "toself",
         "fillcolor": "#00CC96",
         "hoverinfo": "x+text",
         "legendgroup": "ecr",
         "line": {
          "color": "black"
         },
         "marker": {
          "size": 0.01
         },
         "mode": "lines+markers",
         "name": "ecr",
         "showlegend": true,
         "text": "Instruction: ecr_1_0<br>Pulse: play<br>Start: 20920<br>Finish: 21520<br>Duration: 600",
         "type": "scatter",
         "x": [
          20920,
          21220,
          21520,
          21520,
          21220,
          20920,
          20920,
          null
         ],
         "y": [
          1.6,
          1.6,
          1.6,
          2.4,
          2.4,
          2.4,
          1.6,
          null
         ]
        },
        {
         "fill": "toself",
         "fillcolor": "#00CC96",
         "hoverinfo": "x+text",
         "legendgroup": "ecr",
         "line": {
          "color": "black"
         },
         "marker": {
          "size": 0.01
         },
         "mode": "lines+markers",
         "name": "ecr",
         "showlegend": false,
         "text": "Instruction: ecr_1_0<br>Pulse: play<br>Start: 20200<br>Finish: 20800<br>Duration: 600",
         "type": "scatter",
         "x": [
          20200,
          20500,
          20800,
          20800,
          20500,
          20200,
          20200,
          null
         ],
         "y": [
          1.6,
          1.6,
          1.6,
          2.4,
          2.4,
          2.4,
          1.6,
          null
         ]
        },
        {
         "fill": "toself",
         "fillcolor": "#EF553B",
         "hoverinfo": "x+text",
         "legendgroup": "barrier",
         "line": {
          "color": "black"
         },
         "marker": {
          "size": 0.01
         },
         "mode": "lines+markers",
         "name": "barrier",
         "showlegend": false,
         "text": "Instruction: barrier<br>Pulse: barrier<br>Start: 0<br>Finish: 0<br>Duration: 0",
         "type": "scatter",
         "x": [
          0,
          0,
          0,
          0,
          0,
          0,
          0,
          null
         ],
         "y": [
          1.6,
          1.6,
          1.6,
          2.4,
          2.4,
          2.4,
          1.6,
          null
         ]
        },
        {
         "fill": "toself",
         "fillcolor": "#636EFA",
         "hoverinfo": "x+text",
         "legendgroup": "INIT",
         "line": {
          "color": "black"
         },
         "marker": {
          "size": 0.01
         },
         "mode": "lines+markers",
         "name": "INIT",
         "showlegend": true,
         "text": "Instruction: INIT_0<br>Pulse: play<br>Start: 80<br>Finish: 20080<br>Duration: 20000",
         "type": "scatter",
         "x": [
          80,
          10080,
          20080,
          20080,
          10080,
          80,
          80,
          null
         ],
         "y": [
          1.6,
          1.6,
          1.6,
          2.4,
          2.4,
          2.4,
          1.6,
          null
         ]
        },
        {
         "fill": "toself",
         "fillcolor": "#636EFA",
         "hoverinfo": "x+text",
         "legendgroup": "INIT",
         "line": {
          "color": "black"
         },
         "marker": {
          "size": 0.01
         },
         "mode": "lines+markers",
         "name": "INIT",
         "showlegend": false,
         "text": "Instruction: INIT_0<br>Pulse: play<br>Start: 72<br>Finish: 20072<br>Duration: 20000",
         "type": "scatter",
         "x": [
          72,
          10072,
          20072,
          20072,
          10072,
          72,
          72,
          null
         ],
         "y": [
          1.6,
          1.6,
          1.6,
          2.4,
          2.4,
          2.4,
          1.6,
          null
         ]
        },
        {
         "fill": "toself",
         "fillcolor": "#EF553B",
         "hoverinfo": "x+text",
         "legendgroup": "barrier",
         "line": {
          "color": "black"
         },
         "marker": {
          "size": 0.01
         },
         "mode": "lines+markers",
         "name": "barrier",
         "showlegend": false,
         "text": "Instruction: barrier<br>Pulse: barrier<br>Start: 20080<br>Finish: 20080<br>Duration: 0",
         "type": "scatter",
         "x": [
          20080,
          20080,
          20080,
          20080,
          20080,
          20080,
          20080,
          null
         ],
         "y": [
          1.6,
          1.6,
          1.6,
          2.4,
          2.4,
          2.4,
          1.6,
          null
         ]
        },
        {
         "fill": "toself",
         "fillcolor": "#19D3F3",
         "hoverinfo": "x+text",
         "legendgroup": "sx",
         "line": {
          "color": "black"
         },
         "marker": {
          "size": 0.01
         },
         "mode": "lines+markers",
         "name": "sx",
         "showlegend": false,
         "text": "Instruction: sx_0<br>Pulse: play<br>Start: 20080<br>Finish: 20200<br>Duration: 120",
         "type": "scatter",
         "x": [
          20080,
          20140,
          20200,
          20200,
          20140,
          20080,
          20080,
          null
         ],
         "y": [
          1.6,
          1.6,
          1.6,
          2.4,
          2.4,
          2.4,
          1.6,
          null
         ]
        },
        {
         "fill": "toself",
         "fillcolor": "#EF553B",
         "hoverinfo": "x+text",
         "legendgroup": "barrier",
         "line": {
          "color": "black"
         },
         "marker": {
          "size": 0.01
         },
         "mode": "lines+markers",
         "name": "barrier",
         "showlegend": false,
         "text": "Instruction: barrier<br>Pulse: barrier<br>Start: 20080<br>Finish: 20080<br>Duration: 0",
         "type": "scatter",
         "x": [
          20080,
          20080,
          20080,
          20080,
          20080,
          20080,
          20080,
          null
         ],
         "y": [
          2.6,
          2.6,
          2.6,
          3.4,
          3.4,
          3.4,
          2.6,
          null
         ]
        },
        {
         "fill": "toself",
         "fillcolor": "#19D3F3",
         "hoverinfo": "x+text",
         "legendgroup": "sx",
         "line": {
          "color": "black"
         },
         "marker": {
          "size": 0.01
         },
         "mode": "lines+markers",
         "name": "sx",
         "showlegend": false,
         "text": "Instruction: sx_1<br>Pulse: play<br>Start: 21520<br>Finish: 21640<br>Duration: 120",
         "type": "scatter",
         "x": [
          21520,
          21580,
          21640,
          21640,
          21580,
          21520,
          21520,
          null
         ],
         "y": [
          2.6,
          2.6,
          2.6,
          3.4,
          3.4,
          3.4,
          2.6,
          null
         ]
        },
        {
         "fill": "toself",
         "fillcolor": "#636EFA",
         "hoverinfo": "x+text",
         "legendgroup": "INIT",
         "line": {
          "color": "black"
         },
         "marker": {
          "size": 0.01
         },
         "mode": "lines+markers",
         "name": "INIT",
         "showlegend": false,
         "text": "Instruction: INIT_1<br>Pulse: play<br>Start: 72<br>Finish: 20072<br>Duration: 20000",
         "type": "scatter",
         "x": [
          72,
          10072,
          20072,
          20072,
          10072,
          72,
          72,
          null
         ],
         "y": [
          2.6,
          2.6,
          2.6,
          3.4,
          3.4,
          3.4,
          2.6,
          null
         ]
        },
        {
         "fill": "toself",
         "fillcolor": "#636EFA",
         "hoverinfo": "x+text",
         "legendgroup": "INIT",
         "line": {
          "color": "black"
         },
         "marker": {
          "size": 0.01
         },
         "mode": "lines+markers",
         "name": "INIT",
         "showlegend": false,
         "text": "Instruction: INIT_1<br>Pulse: play<br>Start: 80<br>Finish: 20080<br>Duration: 20000",
         "type": "scatter",
         "x": [
          80,
          10080,
          20080,
          20080,
          10080,
          80,
          80,
          null
         ],
         "y": [
          2.6,
          2.6,
          2.6,
          3.4,
          3.4,
          3.4,
          2.6,
          null
         ]
        },
        {
         "fill": "toself",
         "fillcolor": "#EF553B",
         "hoverinfo": "x+text",
         "legendgroup": "barrier",
         "line": {
          "color": "black"
         },
         "marker": {
          "size": 0.01
         },
         "mode": "lines+markers",
         "name": "barrier",
         "showlegend": false,
         "text": "Instruction: barrier<br>Pulse: barrier<br>Start: 21640<br>Finish: 21640<br>Duration: 0",
         "type": "scatter",
         "x": [
          21640,
          21640,
          21640,
          21640,
          21640,
          21640,
          21640,
          null
         ],
         "y": [
          2.6,
          2.6,
          2.6,
          3.4,
          3.4,
          3.4,
          2.6,
          null
         ]
        },
        {
         "fill": "toself",
         "fillcolor": "#EF553B",
         "hoverinfo": "x+text",
         "legendgroup": "barrier",
         "line": {
          "color": "black"
         },
         "marker": {
          "size": 0.01
         },
         "mode": "lines+markers",
         "name": "barrier",
         "showlegend": false,
         "text": "Instruction: barrier<br>Pulse: barrier<br>Start: 0<br>Finish: 0<br>Duration: 0",
         "type": "scatter",
         "x": [
          0,
          0,
          0,
          0,
          0,
          0,
          0,
          null
         ],
         "y": [
          2.6,
          2.6,
          2.6,
          3.4,
          3.4,
          3.4,
          2.6,
          null
         ]
        },
        {
         "fill": "toself",
         "fillcolor": "#00CC96",
         "hoverinfo": "x+text",
         "legendgroup": "ecr",
         "line": {
          "color": "black"
         },
         "marker": {
          "size": 0.01
         },
         "mode": "lines+markers",
         "name": "ecr",
         "showlegend": false,
         "text": "Instruction: ecr_1_0<br>Pulse: play<br>Start: 20800<br>Finish: 20920<br>Duration: 120",
         "type": "scatter",
         "x": [
          20800,
          20860,
          20920,
          20920,
          20860,
          20800,
          20800,
          null
         ],
         "y": [
          2.6,
          2.6,
          2.6,
          3.4,
          3.4,
          3.4,
          2.6,
          null
         ]
        },
        {
         "fill": "toself",
         "fillcolor": "#19D3F3",
         "hoverinfo": "x+text",
         "legendgroup": "sx",
         "line": {
          "color": "black"
         },
         "marker": {
          "size": 0.01
         },
         "mode": "lines+markers",
         "name": "sx",
         "showlegend": false,
         "text": "Instruction: sx_1<br>Pulse: play<br>Start: 20080<br>Finish: 20200<br>Duration: 120",
         "type": "scatter",
         "x": [
          20080,
          20140,
          20200,
          20200,
          20140,
          20080,
          20080,
          null
         ],
         "y": [
          2.6,
          2.6,
          2.6,
          3.4,
          3.4,
          3.4,
          2.6,
          null
         ]
        },
        {
         "fill": "toself",
         "fillcolor": "#AB63FA",
         "hoverinfo": "x+text",
         "legendgroup": "measure",
         "line": {
          "color": "black"
         },
         "marker": {
          "size": 0.01
         },
         "mode": "lines+markers",
         "name": "measure",
         "showlegend": false,
         "text": "Instruction: measure_1<br>Pulse: play<br>Start: 21640<br>Finish: 23080<br>Duration: 1440",
         "type": "scatter",
         "x": [
          21640,
          22360,
          23080,
          23080,
          22360,
          21640,
          21640,
          null
         ],
         "y": [
          2.6,
          2.6,
          2.6,
          3.4,
          3.4,
          3.4,
          2.6,
          null
         ]
        },
        {
         "fill": "toself",
         "fillcolor": "#00CC96",
         "hoverinfo": "x+text",
         "legendgroup": "ecr",
         "line": {
          "color": "black"
         },
         "marker": {
          "size": 0.01
         },
         "mode": "lines+markers",
         "name": "ecr",
         "showlegend": false,
         "text": "Instruction: ecr_1_0<br>Pulse: play<br>Start: 20200<br>Finish: 20800<br>Duration: 600",
         "type": "scatter",
         "x": [
          20200,
          20500,
          20800,
          20800,
          20500,
          20200,
          20200,
          null
         ],
         "y": [
          2.6,
          2.6,
          2.6,
          3.4,
          3.4,
          3.4,
          2.6,
          null
         ]
        },
        {
         "fill": "toself",
         "fillcolor": "#00CC96",
         "hoverinfo": "x+text",
         "legendgroup": "ecr",
         "line": {
          "color": "black"
         },
         "marker": {
          "size": 0.01
         },
         "mode": "lines+markers",
         "name": "ecr",
         "showlegend": false,
         "text": "Instruction: ecr_1_0<br>Pulse: play<br>Start: 20920<br>Finish: 21520<br>Duration: 600",
         "type": "scatter",
         "x": [
          20920,
          21220,
          21520,
          21520,
          21220,
          20920,
          20920,
          null
         ],
         "y": [
          2.6,
          2.6,
          2.6,
          3.4,
          3.4,
          3.4,
          2.6,
          null
         ]
        },
        {
         "fill": "toself",
         "fillcolor": "#FFA15A",
         "hoverinfo": "x+text",
         "legendgroup": "rz",
         "line": {
          "color": "black"
         },
         "marker": {
          "size": 0.01
         },
         "mode": "lines+markers",
         "name": "rz",
         "showlegend": true,
         "text": "Instruction: rz_1<br>Pulse: shift_phase<br>Start: 21640<br>Finish: 21640<br>Duration: 0",
         "type": "scatter",
         "x": [
          21640,
          21641,
          21640,
          21639,
          21640,
          null
         ],
         "y": [
          1.8,
          2,
          2.2,
          2,
          1.8,
          null
         ]
        },
        {
         "fill": "toself",
         "fillcolor": "#19D3F3",
         "hoverinfo": "x+text",
         "legendgroup": "sx",
         "line": {
          "color": "black"
         },
         "marker": {
          "size": 0.01
         },
         "mode": "lines+markers",
         "name": "sx",
         "showlegend": false,
         "text": "Instruction: sx_1<br>Pulse: shift_phase<br>Start: 21640<br>Finish: 21640<br>Duration: 0",
         "type": "scatter",
         "x": [
          21640,
          21641,
          21640,
          21639,
          21640,
          null
         ],
         "y": [
          1.8,
          2,
          2.2,
          2,
          1.8,
          null
         ]
        },
        {
         "fill": "toself",
         "fillcolor": "#FFA15A",
         "hoverinfo": "x+text",
         "legendgroup": "rz",
         "line": {
          "color": "black"
         },
         "marker": {
          "size": 0.01
         },
         "mode": "lines+markers",
         "name": "rz",
         "showlegend": false,
         "text": "Instruction: rz_1<br>Pulse: shift_phase<br>Start: 21520<br>Finish: 21520<br>Duration: 0",
         "type": "scatter",
         "x": [
          21520,
          21521,
          21520,
          21519,
          21520,
          null
         ],
         "y": [
          1.8,
          2,
          2.2,
          2,
          1.8,
          null
         ]
        },
        {
         "fill": "toself",
         "fillcolor": "#FFA15A",
         "hoverinfo": "x+text",
         "legendgroup": "rz",
         "line": {
          "color": "black"
         },
         "marker": {
          "size": 0.01
         },
         "mode": "lines+markers",
         "name": "rz",
         "showlegend": false,
         "text": "Instruction: rz_0<br>Pulse: shift_phase<br>Start: 21640<br>Finish: 21640<br>Duration: 0",
         "type": "scatter",
         "x": [
          21640,
          21641,
          21640,
          21639,
          21640,
          null
         ],
         "y": [
          1.8,
          2,
          2.2,
          2,
          1.8,
          null
         ]
        },
        {
         "fill": "toself",
         "fillcolor": "#19D3F3",
         "hoverinfo": "x+text",
         "legendgroup": "sx",
         "line": {
          "color": "black"
         },
         "marker": {
          "size": 0.01
         },
         "mode": "lines+markers",
         "name": "sx",
         "showlegend": false,
         "text": "Instruction: sx_0<br>Pulse: shift_phase<br>Start: 21640<br>Finish: 21640<br>Duration: 0",
         "type": "scatter",
         "x": [
          21640,
          21641,
          21640,
          21639,
          21640,
          null
         ],
         "y": [
          1.8,
          2,
          2.2,
          2,
          1.8,
          null
         ]
        },
        {
         "fill": "toself",
         "fillcolor": "#FFA15A",
         "hoverinfo": "x+text",
         "legendgroup": "rz",
         "line": {
          "color": "black"
         },
         "marker": {
          "size": 0.01
         },
         "mode": "lines+markers",
         "name": "rz",
         "showlegend": false,
         "text": "Instruction: rz_0<br>Pulse: shift_phase<br>Start: 21520<br>Finish: 21520<br>Duration: 0",
         "type": "scatter",
         "x": [
          21520,
          21521,
          21520,
          21519,
          21520,
          null
         ],
         "y": [
          1.8,
          2,
          2.2,
          2,
          1.8,
          null
         ]
        },
        {
         "fill": "toself",
         "fillcolor": "#FFA15A",
         "hoverinfo": "x+text",
         "legendgroup": "rz",
         "line": {
          "color": "black"
         },
         "marker": {
          "size": 0.01
         },
         "mode": "lines+markers",
         "name": "rz",
         "showlegend": false,
         "text": "Instruction: rz_1<br>Pulse: shift_phase<br>Start: 20200<br>Finish: 20200<br>Duration: 0",
         "type": "scatter",
         "x": [
          20200,
          20201,
          20200,
          20199,
          20200,
          null
         ],
         "y": [
          1.8,
          2,
          2.2,
          2,
          1.8,
          null
         ]
        },
        {
         "fill": "toself",
         "fillcolor": "#19D3F3",
         "hoverinfo": "x+text",
         "legendgroup": "sx",
         "line": {
          "color": "black"
         },
         "marker": {
          "size": 0.01
         },
         "mode": "lines+markers",
         "name": "sx",
         "showlegend": false,
         "text": "Instruction: sx_1<br>Pulse: shift_phase<br>Start: 20200<br>Finish: 20200<br>Duration: 0",
         "type": "scatter",
         "x": [
          20200,
          20201,
          20200,
          20199,
          20200,
          null
         ],
         "y": [
          1.8,
          2,
          2.2,
          2,
          1.8,
          null
         ]
        },
        {
         "fill": "toself",
         "fillcolor": "#FFA15A",
         "hoverinfo": "x+text",
         "legendgroup": "rz",
         "line": {
          "color": "black"
         },
         "marker": {
          "size": 0.01
         },
         "mode": "lines+markers",
         "name": "rz",
         "showlegend": false,
         "text": "Instruction: rz_1<br>Pulse: shift_phase<br>Start: 20080<br>Finish: 20080<br>Duration: 0",
         "type": "scatter",
         "x": [
          20080,
          20081,
          20080,
          20079,
          20080,
          null
         ],
         "y": [
          1.8,
          2,
          2.2,
          2,
          1.8,
          null
         ]
        },
        {
         "fill": "toself",
         "fillcolor": "#FFA15A",
         "hoverinfo": "x+text",
         "legendgroup": "rz",
         "line": {
          "color": "black"
         },
         "marker": {
          "size": 0.01
         },
         "mode": "lines+markers",
         "name": "rz",
         "showlegend": false,
         "text": "Instruction: rz_0<br>Pulse: shift_phase<br>Start: 20080<br>Finish: 20080<br>Duration: 0",
         "type": "scatter",
         "x": [
          20080,
          20081,
          20080,
          20079,
          20080,
          null
         ],
         "y": [
          1.8,
          2,
          2.2,
          2,
          1.8,
          null
         ]
        },
        {
         "fill": "toself",
         "fillcolor": "#19D3F3",
         "hoverinfo": "x+text",
         "legendgroup": "sx",
         "line": {
          "color": "black"
         },
         "marker": {
          "size": 0.01
         },
         "mode": "lines+markers",
         "name": "sx",
         "showlegend": false,
         "text": "Instruction: sx_0<br>Pulse: shift_phase<br>Start: 20200<br>Finish: 20200<br>Duration: 0",
         "type": "scatter",
         "x": [
          20200,
          20201,
          20200,
          20199,
          20200,
          null
         ],
         "y": [
          1.8,
          2,
          2.2,
          2,
          1.8,
          null
         ]
        },
        {
         "fill": "toself",
         "fillcolor": "#FFA15A",
         "hoverinfo": "x+text",
         "legendgroup": "rz",
         "line": {
          "color": "black"
         },
         "marker": {
          "size": 0.01
         },
         "mode": "lines+markers",
         "name": "rz",
         "showlegend": false,
         "text": "Instruction: rz_0<br>Pulse: shift_phase<br>Start: 20080<br>Finish: 20080<br>Duration: 0",
         "type": "scatter",
         "x": [
          20080,
          20081,
          20080,
          20079,
          20080,
          null
         ],
         "y": [
          2.8,
          3,
          3.2,
          3,
          2.8,
          null
         ]
        },
        {
         "fill": "toself",
         "fillcolor": "#FFA15A",
         "hoverinfo": "x+text",
         "legendgroup": "rz",
         "line": {
          "color": "black"
         },
         "marker": {
          "size": 0.01
         },
         "mode": "lines+markers",
         "name": "rz",
         "showlegend": false,
         "text": "Instruction: rz_1<br>Pulse: shift_phase<br>Start: 21520<br>Finish: 21520<br>Duration: 0",
         "type": "scatter",
         "x": [
          21520,
          21521,
          21520,
          21519,
          21520,
          null
         ],
         "y": [
          2.8,
          3,
          3.2,
          3,
          2.8,
          null
         ]
        },
        {
         "fill": "toself",
         "fillcolor": "#FFA15A",
         "hoverinfo": "x+text",
         "legendgroup": "rz",
         "line": {
          "color": "black"
         },
         "marker": {
          "size": 0.01
         },
         "mode": "lines+markers",
         "name": "rz",
         "showlegend": false,
         "text": "Instruction: rz_0<br>Pulse: shift_phase<br>Start: 21640<br>Finish: 21640<br>Duration: 0",
         "type": "scatter",
         "x": [
          21640,
          21641,
          21640,
          21639,
          21640,
          null
         ],
         "y": [
          2.8,
          3,
          3.2,
          3,
          2.8,
          null
         ]
        },
        {
         "fill": "toself",
         "fillcolor": "#FFA15A",
         "hoverinfo": "x+text",
         "legendgroup": "rz",
         "line": {
          "color": "black"
         },
         "marker": {
          "size": 0.01
         },
         "mode": "lines+markers",
         "name": "rz",
         "showlegend": false,
         "text": "Instruction: rz_1<br>Pulse: shift_phase<br>Start: 21640<br>Finish: 21640<br>Duration: 0",
         "type": "scatter",
         "x": [
          21640,
          21641,
          21640,
          21639,
          21640,
          null
         ],
         "y": [
          2.8,
          3,
          3.2,
          3,
          2.8,
          null
         ]
        },
        {
         "fill": "toself",
         "fillcolor": "#19D3F3",
         "hoverinfo": "x+text",
         "legendgroup": "sx",
         "line": {
          "color": "black"
         },
         "marker": {
          "size": 0.01
         },
         "mode": "lines+markers",
         "name": "sx",
         "showlegend": false,
         "text": "Instruction: sx_1<br>Pulse: shift_phase<br>Start: 21640<br>Finish: 21640<br>Duration: 0",
         "type": "scatter",
         "x": [
          21640,
          21641,
          21640,
          21639,
          21640,
          null
         ],
         "y": [
          2.8,
          3,
          3.2,
          3,
          2.8,
          null
         ]
        },
        {
         "fill": "toself",
         "fillcolor": "#FFA15A",
         "hoverinfo": "x+text",
         "legendgroup": "rz",
         "line": {
          "color": "black"
         },
         "marker": {
          "size": 0.01
         },
         "mode": "lines+markers",
         "name": "rz",
         "showlegend": false,
         "text": "Instruction: rz_1<br>Pulse: shift_phase<br>Start: 20080<br>Finish: 20080<br>Duration: 0",
         "type": "scatter",
         "x": [
          20080,
          20081,
          20080,
          20079,
          20080,
          null
         ],
         "y": [
          2.8,
          3,
          3.2,
          3,
          2.8,
          null
         ]
        },
        {
         "fill": "toself",
         "fillcolor": "#19D3F3",
         "hoverinfo": "x+text",
         "legendgroup": "sx",
         "line": {
          "color": "black"
         },
         "marker": {
          "size": 0.01
         },
         "mode": "lines+markers",
         "name": "sx",
         "showlegend": false,
         "text": "Instruction: sx_0<br>Pulse: shift_phase<br>Start: 21640<br>Finish: 21640<br>Duration: 0",
         "type": "scatter",
         "x": [
          21640,
          21641,
          21640,
          21639,
          21640,
          null
         ],
         "y": [
          2.8,
          3,
          3.2,
          3,
          2.8,
          null
         ]
        },
        {
         "fill": "toself",
         "fillcolor": "#19D3F3",
         "hoverinfo": "x+text",
         "legendgroup": "sx",
         "line": {
          "color": "black"
         },
         "marker": {
          "size": 0.01
         },
         "mode": "lines+markers",
         "name": "sx",
         "showlegend": false,
         "text": "Instruction: sx_1<br>Pulse: shift_phase<br>Start: 20200<br>Finish: 20200<br>Duration: 0",
         "type": "scatter",
         "x": [
          20200,
          20201,
          20200,
          20199,
          20200,
          null
         ],
         "y": [
          2.8,
          3,
          3.2,
          3,
          2.8,
          null
         ]
        },
        {
         "fill": "toself",
         "fillcolor": "#FFA15A",
         "hoverinfo": "x+text",
         "legendgroup": "rz",
         "line": {
          "color": "black"
         },
         "marker": {
          "size": 0.01
         },
         "mode": "lines+markers",
         "name": "rz",
         "showlegend": false,
         "text": "Instruction: rz_1<br>Pulse: shift_phase<br>Start: 20200<br>Finish: 20200<br>Duration: 0",
         "type": "scatter",
         "x": [
          20200,
          20201,
          20200,
          20199,
          20200,
          null
         ],
         "y": [
          2.8,
          3,
          3.2,
          3,
          2.8,
          null
         ]
        },
        {
         "fill": "toself",
         "fillcolor": "#19D3F3",
         "hoverinfo": "x+text",
         "legendgroup": "sx",
         "line": {
          "color": "black"
         },
         "marker": {
          "size": 0.01
         },
         "mode": "lines+markers",
         "name": "sx",
         "showlegend": false,
         "text": "Instruction: sx_0<br>Pulse: shift_phase<br>Start: 20200<br>Finish: 20200<br>Duration: 0",
         "type": "scatter",
         "x": [
          20200,
          20201,
          20200,
          20199,
          20200,
          null
         ],
         "y": [
          2.8,
          3,
          3.2,
          3,
          2.8,
          null
         ]
        },
        {
         "fill": "toself",
         "fillcolor": "#FFA15A",
         "hoverinfo": "x+text",
         "legendgroup": "rz",
         "line": {
          "color": "black"
         },
         "marker": {
          "size": 0.01
         },
         "mode": "lines+markers",
         "name": "rz",
         "showlegend": false,
         "text": "Instruction: rz_0<br>Pulse: shift_phase<br>Start: 21520<br>Finish: 21520<br>Duration: 0",
         "type": "scatter",
         "x": [
          21520,
          21521,
          21520,
          21519,
          21520,
          null
         ],
         "y": [
          2.8,
          3,
          3.2,
          3,
          2.8,
          null
         ]
        },
        {
         "fill": "toself",
         "fillcolor": "#19D3F3",
         "hoverinfo": "x+text",
         "legendgroup": "sx",
         "line": {
          "color": "black"
         },
         "marker": {
          "size": 0.01
         },
         "mode": "lines+markers",
         "name": "sx",
         "showlegend": false,
         "text": "Instruction: sx_0<br>Pulse: shift_phase<br>Start: 21640<br>Finish: 21640<br>Duration: 0",
         "type": "scatter",
         "x": [
          21640,
          21641,
          21640,
          21639,
          21640,
          null
         ],
         "y": [
          3.8,
          4,
          4.2,
          4,
          3.8,
          null
         ]
        },
        {
         "fill": "toself",
         "fillcolor": "#19D3F3",
         "hoverinfo": "x+text",
         "legendgroup": "sx",
         "line": {
          "color": "black"
         },
         "marker": {
          "size": 0.01
         },
         "mode": "lines+markers",
         "name": "sx",
         "showlegend": false,
         "text": "Instruction: sx_0<br>Pulse: shift_phase<br>Start: 20200<br>Finish: 20200<br>Duration: 0",
         "type": "scatter",
         "x": [
          20200,
          20201,
          20200,
          20199,
          20200,
          null
         ],
         "y": [
          3.8,
          4,
          4.2,
          4,
          3.8,
          null
         ]
        },
        {
         "fill": "toself",
         "fillcolor": "#FFA15A",
         "hoverinfo": "x+text",
         "legendgroup": "rz",
         "line": {
          "color": "black"
         },
         "marker": {
          "size": 0.01
         },
         "mode": "lines+markers",
         "name": "rz",
         "showlegend": false,
         "text": "Instruction: rz_0<br>Pulse: shift_phase<br>Start: 21520<br>Finish: 21520<br>Duration: 0",
         "type": "scatter",
         "x": [
          21520,
          21521,
          21520,
          21519,
          21520,
          null
         ],
         "y": [
          3.8,
          4,
          4.2,
          4,
          3.8,
          null
         ]
        },
        {
         "fill": "toself",
         "fillcolor": "#FFA15A",
         "hoverinfo": "x+text",
         "legendgroup": "rz",
         "line": {
          "color": "black"
         },
         "marker": {
          "size": 0.01
         },
         "mode": "lines+markers",
         "name": "rz",
         "showlegend": false,
         "text": "Instruction: rz_0<br>Pulse: shift_phase<br>Start: 21640<br>Finish: 21640<br>Duration: 0",
         "type": "scatter",
         "x": [
          21640,
          21641,
          21640,
          21639,
          21640,
          null
         ],
         "y": [
          3.8,
          4,
          4.2,
          4,
          3.8,
          null
         ]
        },
        {
         "fill": "toself",
         "fillcolor": "#FFA15A",
         "hoverinfo": "x+text",
         "legendgroup": "rz",
         "line": {
          "color": "black"
         },
         "marker": {
          "size": 0.01
         },
         "mode": "lines+markers",
         "name": "rz",
         "showlegend": false,
         "text": "Instruction: rz_0<br>Pulse: shift_phase<br>Start: 20080<br>Finish: 20080<br>Duration: 0",
         "type": "scatter",
         "x": [
          20080,
          20081,
          20080,
          20079,
          20080,
          null
         ],
         "y": [
          3.8,
          4,
          4.2,
          4,
          3.8,
          null
         ]
        },
        {
         "fill": "toself",
         "fillcolor": "#19D3F3",
         "hoverinfo": "x+text",
         "legendgroup": "sx",
         "line": {
          "color": "black"
         },
         "marker": {
          "size": 0.01
         },
         "mode": "lines+markers",
         "name": "sx",
         "showlegend": false,
         "text": "Instruction: sx_1<br>Pulse: shift_phase<br>Start: 21640<br>Finish: 21640<br>Duration: 0",
         "type": "scatter",
         "x": [
          21640,
          21641,
          21640,
          21639,
          21640,
          null
         ],
         "y": [
          4.8,
          5,
          5.2,
          5,
          4.8,
          null
         ]
        },
        {
         "fill": "toself",
         "fillcolor": "#FFA15A",
         "hoverinfo": "x+text",
         "legendgroup": "rz",
         "line": {
          "color": "black"
         },
         "marker": {
          "size": 0.01
         },
         "mode": "lines+markers",
         "name": "rz",
         "showlegend": false,
         "text": "Instruction: rz_1<br>Pulse: shift_phase<br>Start: 21520<br>Finish: 21520<br>Duration: 0",
         "type": "scatter",
         "x": [
          21520,
          21521,
          21520,
          21519,
          21520,
          null
         ],
         "y": [
          4.8,
          5,
          5.2,
          5,
          4.8,
          null
         ]
        },
        {
         "fill": "toself",
         "fillcolor": "#FFA15A",
         "hoverinfo": "x+text",
         "legendgroup": "rz",
         "line": {
          "color": "black"
         },
         "marker": {
          "size": 0.01
         },
         "mode": "lines+markers",
         "name": "rz",
         "showlegend": false,
         "text": "Instruction: rz_1<br>Pulse: shift_phase<br>Start: 21640<br>Finish: 21640<br>Duration: 0",
         "type": "scatter",
         "x": [
          21640,
          21641,
          21640,
          21639,
          21640,
          null
         ],
         "y": [
          4.8,
          5,
          5.2,
          5,
          4.8,
          null
         ]
        },
        {
         "fill": "toself",
         "fillcolor": "#FFA15A",
         "hoverinfo": "x+text",
         "legendgroup": "rz",
         "line": {
          "color": "black"
         },
         "marker": {
          "size": 0.01
         },
         "mode": "lines+markers",
         "name": "rz",
         "showlegend": false,
         "text": "Instruction: rz_1<br>Pulse: shift_phase<br>Start: 20200<br>Finish: 20200<br>Duration: 0",
         "type": "scatter",
         "x": [
          20200,
          20201,
          20200,
          20199,
          20200,
          null
         ],
         "y": [
          4.8,
          5,
          5.2,
          5,
          4.8,
          null
         ]
        },
        {
         "fill": "toself",
         "fillcolor": "#19D3F3",
         "hoverinfo": "x+text",
         "legendgroup": "sx",
         "line": {
          "color": "black"
         },
         "marker": {
          "size": 0.01
         },
         "mode": "lines+markers",
         "name": "sx",
         "showlegend": false,
         "text": "Instruction: sx_1<br>Pulse: shift_phase<br>Start: 20200<br>Finish: 20200<br>Duration: 0",
         "type": "scatter",
         "x": [
          20200,
          20201,
          20200,
          20199,
          20200,
          null
         ],
         "y": [
          4.8,
          5,
          5.2,
          5,
          4.8,
          null
         ]
        },
        {
         "fill": "toself",
         "fillcolor": "#FFA15A",
         "hoverinfo": "x+text",
         "legendgroup": "rz",
         "line": {
          "color": "black"
         },
         "marker": {
          "size": 0.01
         },
         "mode": "lines+markers",
         "name": "rz",
         "showlegend": false,
         "text": "Instruction: rz_1<br>Pulse: shift_phase<br>Start: 20080<br>Finish: 20080<br>Duration: 0",
         "type": "scatter",
         "x": [
          20080,
          20081,
          20080,
          20079,
          20080,
          null
         ],
         "y": [
          4.8,
          5,
          5.2,
          5,
          4.8,
          null
         ]
        }
       ],
       "layout": {
        "annotations": [
         {
          "font": {
           "color": "black",
           "size": 10
          },
          "showarrow": false,
          "text": "measure_capture",
          "textangle": 0,
          "x": 23328,
          "y": 0
         },
         {
          "font": {
           "color": "black",
           "size": 10
          },
          "showarrow": false,
          "text": "measure_capture",
          "textangle": 0,
          "x": 23328,
          "y": 1
         },
         {
          "font": {
           "color": "black",
           "size": 10
          },
          "showarrow": false,
          "text": "measure_play",
          "textangle": 0,
          "x": 22360,
          "y": 2
         },
         {
          "font": {
           "color": "black",
           "size": 10
          },
          "showarrow": false,
          "text": "",
          "textangle": 0,
          "x": 21640,
          "y": 2
         },
         {
          "font": {
           "color": "black",
           "size": 10
          },
          "showarrow": false,
          "text": "sx_play",
          "textangle": 0,
          "x": 21580,
          "y": 2
         },
         {
          "font": {
           "color": "black",
           "size": 10
          },
          "showarrow": false,
          "text": "ecr_play",
          "textangle": 0,
          "x": 21220,
          "y": 2
         },
         {
          "font": {
           "color": "black",
           "size": 10
          },
          "showarrow": false,
          "text": "ecr_play",
          "textangle": 0,
          "x": 20500,
          "y": 2
         },
         {
          "font": {
           "color": "black",
           "size": 10
          },
          "showarrow": false,
          "text": "",
          "textangle": 0,
          "x": 0,
          "y": 2
         },
         {
          "font": {
           "color": "black",
           "size": 10
          },
          "showarrow": false,
          "text": "INIT_play",
          "textangle": 0,
          "x": 10080,
          "y": 2
         },
         {
          "font": {
           "color": "black",
           "size": 10
          },
          "showarrow": false,
          "text": "INIT_play",
          "textangle": 0,
          "x": 10072,
          "y": 2
         },
         {
          "font": {
           "color": "black",
           "size": 10
          },
          "showarrow": false,
          "text": "",
          "textangle": 0,
          "x": 20080,
          "y": 2
         },
         {
          "font": {
           "color": "black",
           "size": 10
          },
          "showarrow": false,
          "text": "sx_play",
          "textangle": 0,
          "x": 20140,
          "y": 2
         },
         {
          "font": {
           "color": "black",
           "size": 10
          },
          "showarrow": false,
          "text": "",
          "textangle": 0,
          "x": 20080,
          "y": 3
         },
         {
          "font": {
           "color": "black",
           "size": 10
          },
          "showarrow": false,
          "text": "sx_play",
          "textangle": 0,
          "x": 21580,
          "y": 3
         },
         {
          "font": {
           "color": "black",
           "size": 10
          },
          "showarrow": false,
          "text": "INIT_play",
          "textangle": 0,
          "x": 10072,
          "y": 3
         },
         {
          "font": {
           "color": "black",
           "size": 10
          },
          "showarrow": false,
          "text": "INIT_play",
          "textangle": 0,
          "x": 10080,
          "y": 3
         },
         {
          "font": {
           "color": "black",
           "size": 10
          },
          "showarrow": false,
          "text": "",
          "textangle": 0,
          "x": 21640,
          "y": 3
         },
         {
          "font": {
           "color": "black",
           "size": 10
          },
          "showarrow": false,
          "text": "",
          "textangle": 0,
          "x": 0,
          "y": 3
         },
         {
          "font": {
           "color": "black",
           "size": 10
          },
          "showarrow": false,
          "text": "ecr_play",
          "textangle": 0,
          "x": 20860,
          "y": 3
         },
         {
          "font": {
           "color": "black",
           "size": 10
          },
          "showarrow": false,
          "text": "sx_play",
          "textangle": 0,
          "x": 20140,
          "y": 3
         },
         {
          "font": {
           "color": "black",
           "size": 10
          },
          "showarrow": false,
          "text": "measure_play",
          "textangle": 0,
          "x": 22360,
          "y": 3
         },
         {
          "font": {
           "color": "black",
           "size": 10
          },
          "showarrow": false,
          "text": "ecr_play",
          "textangle": 0,
          "x": 20500,
          "y": 3
         },
         {
          "font": {
           "color": "black",
           "size": 10
          },
          "showarrow": false,
          "text": "ecr_play",
          "textangle": 0,
          "x": 21220,
          "y": 3
         },
         {
          "font": {
           "color": "black",
           "size": 10
          },
          "showarrow": true,
          "text": "rz_shift_phase",
          "textangle": 0,
          "x": 21640,
          "y": 2
         },
         {
          "font": {
           "color": "black",
           "size": 10
          },
          "showarrow": true,
          "text": "sx_shift_phase",
          "textangle": 0,
          "x": 21640,
          "y": 2
         },
         {
          "font": {
           "color": "black",
           "size": 10
          },
          "showarrow": true,
          "text": "rz_shift_phase",
          "textangle": 0,
          "x": 21520,
          "y": 2
         },
         {
          "font": {
           "color": "black",
           "size": 10
          },
          "showarrow": true,
          "text": "rz_shift_phase",
          "textangle": 0,
          "x": 21640,
          "y": 2
         },
         {
          "font": {
           "color": "black",
           "size": 10
          },
          "showarrow": true,
          "text": "sx_shift_phase",
          "textangle": 0,
          "x": 21640,
          "y": 2
         },
         {
          "font": {
           "color": "black",
           "size": 10
          },
          "showarrow": true,
          "text": "rz_shift_phase",
          "textangle": 0,
          "x": 21520,
          "y": 2
         },
         {
          "font": {
           "color": "black",
           "size": 10
          },
          "showarrow": true,
          "text": "rz_shift_phase",
          "textangle": 0,
          "x": 20200,
          "y": 2
         },
         {
          "font": {
           "color": "black",
           "size": 10
          },
          "showarrow": true,
          "text": "sx_shift_phase",
          "textangle": 0,
          "x": 20200,
          "y": 2
         },
         {
          "font": {
           "color": "black",
           "size": 10
          },
          "showarrow": true,
          "text": "rz_shift_phase",
          "textangle": 0,
          "x": 20080,
          "y": 2
         },
         {
          "font": {
           "color": "black",
           "size": 10
          },
          "showarrow": true,
          "text": "rz_shift_phase",
          "textangle": 0,
          "x": 20080,
          "y": 2
         },
         {
          "font": {
           "color": "black",
           "size": 10
          },
          "showarrow": true,
          "text": "sx_shift_phase",
          "textangle": 0,
          "x": 20200,
          "y": 2
         },
         {
          "font": {
           "color": "black",
           "size": 10
          },
          "showarrow": true,
          "text": "rz_shift_phase",
          "textangle": 0,
          "x": 20080,
          "y": 3
         },
         {
          "font": {
           "color": "black",
           "size": 10
          },
          "showarrow": true,
          "text": "rz_shift_phase",
          "textangle": 0,
          "x": 21520,
          "y": 3
         },
         {
          "font": {
           "color": "black",
           "size": 10
          },
          "showarrow": true,
          "text": "rz_shift_phase",
          "textangle": 0,
          "x": 21640,
          "y": 3
         },
         {
          "font": {
           "color": "black",
           "size": 10
          },
          "showarrow": true,
          "text": "rz_shift_phase",
          "textangle": 0,
          "x": 21640,
          "y": 3
         },
         {
          "font": {
           "color": "black",
           "size": 10
          },
          "showarrow": true,
          "text": "sx_shift_phase",
          "textangle": 0,
          "x": 21640,
          "y": 3
         },
         {
          "font": {
           "color": "black",
           "size": 10
          },
          "showarrow": true,
          "text": "rz_shift_phase",
          "textangle": 0,
          "x": 20080,
          "y": 3
         },
         {
          "font": {
           "color": "black",
           "size": 10
          },
          "showarrow": true,
          "text": "sx_shift_phase",
          "textangle": 0,
          "x": 21640,
          "y": 3
         },
         {
          "font": {
           "color": "black",
           "size": 10
          },
          "showarrow": true,
          "text": "sx_shift_phase",
          "textangle": 0,
          "x": 20200,
          "y": 3
         },
         {
          "font": {
           "color": "black",
           "size": 10
          },
          "showarrow": true,
          "text": "rz_shift_phase",
          "textangle": 0,
          "x": 20200,
          "y": 3
         },
         {
          "font": {
           "color": "black",
           "size": 10
          },
          "showarrow": true,
          "text": "sx_shift_phase",
          "textangle": 0,
          "x": 20200,
          "y": 3
         },
         {
          "font": {
           "color": "black",
           "size": 10
          },
          "showarrow": true,
          "text": "rz_shift_phase",
          "textangle": 0,
          "x": 21520,
          "y": 3
         },
         {
          "font": {
           "color": "black",
           "size": 10
          },
          "showarrow": true,
          "text": "sx_shift_phase",
          "textangle": 0,
          "x": 21640,
          "y": 4
         },
         {
          "font": {
           "color": "black",
           "size": 10
          },
          "showarrow": true,
          "text": "sx_shift_phase",
          "textangle": 0,
          "x": 20200,
          "y": 4
         },
         {
          "font": {
           "color": "black",
           "size": 10
          },
          "showarrow": true,
          "text": "rz_shift_phase",
          "textangle": 0,
          "x": 21520,
          "y": 4
         },
         {
          "font": {
           "color": "black",
           "size": 10
          },
          "showarrow": true,
          "text": "rz_shift_phase",
          "textangle": 0,
          "x": 21640,
          "y": 4
         },
         {
          "font": {
           "color": "black",
           "size": 10
          },
          "showarrow": true,
          "text": "rz_shift_phase",
          "textangle": 0,
          "x": 20080,
          "y": 4
         },
         {
          "font": {
           "color": "black",
           "size": 10
          },
          "showarrow": true,
          "text": "sx_shift_phase",
          "textangle": 0,
          "x": 21640,
          "y": 5
         },
         {
          "font": {
           "color": "black",
           "size": 10
          },
          "showarrow": true,
          "text": "rz_shift_phase",
          "textangle": 0,
          "x": 21520,
          "y": 5
         },
         {
          "font": {
           "color": "black",
           "size": 10
          },
          "showarrow": true,
          "text": "rz_shift_phase",
          "textangle": 0,
          "x": 21640,
          "y": 5
         },
         {
          "font": {
           "color": "black",
           "size": 10
          },
          "showarrow": true,
          "text": "rz_shift_phase",
          "textangle": 0,
          "x": 20200,
          "y": 5
         },
         {
          "font": {
           "color": "black",
           "size": 10
          },
          "showarrow": true,
          "text": "sx_shift_phase",
          "textangle": 0,
          "x": 20200,
          "y": 5
         },
         {
          "font": {
           "color": "black",
           "size": 10
          },
          "showarrow": true,
          "text": "rz_shift_phase",
          "textangle": 0,
          "x": 20080,
          "y": 5
         }
        ],
        "height": 560,
        "paper_bgcolor": "rgba(255,255,255,1)",
        "plot_bgcolor": "rgba(255,255,255,1)",
        "template": {
         "data": {
          "bar": [
           {
            "error_x": {
             "color": "#2a3f5f"
            },
            "error_y": {
             "color": "#2a3f5f"
            },
            "marker": {
             "line": {
              "color": "#E5ECF6",
              "width": 0.5
             },
             "pattern": {
              "fillmode": "overlay",
              "size": 10,
              "solidity": 0.2
             }
            },
            "type": "bar"
           }
          ],
          "barpolar": [
           {
            "marker": {
             "line": {
              "color": "#E5ECF6",
              "width": 0.5
             },
             "pattern": {
              "fillmode": "overlay",
              "size": 10,
              "solidity": 0.2
             }
            },
            "type": "barpolar"
           }
          ],
          "carpet": [
           {
            "aaxis": {
             "endlinecolor": "#2a3f5f",
             "gridcolor": "white",
             "linecolor": "white",
             "minorgridcolor": "white",
             "startlinecolor": "#2a3f5f"
            },
            "baxis": {
             "endlinecolor": "#2a3f5f",
             "gridcolor": "white",
             "linecolor": "white",
             "minorgridcolor": "white",
             "startlinecolor": "#2a3f5f"
            },
            "type": "carpet"
           }
          ],
          "choropleth": [
           {
            "colorbar": {
             "outlinewidth": 0,
             "ticks": ""
            },
            "type": "choropleth"
           }
          ],
          "contour": [
           {
            "colorbar": {
             "outlinewidth": 0,
             "ticks": ""
            },
            "colorscale": [
             [
              0,
              "#0d0887"
             ],
             [
              0.1111111111111111,
              "#46039f"
             ],
             [
              0.2222222222222222,
              "#7201a8"
             ],
             [
              0.3333333333333333,
              "#9c179e"
             ],
             [
              0.4444444444444444,
              "#bd3786"
             ],
             [
              0.5555555555555556,
              "#d8576b"
             ],
             [
              0.6666666666666666,
              "#ed7953"
             ],
             [
              0.7777777777777778,
              "#fb9f3a"
             ],
             [
              0.8888888888888888,
              "#fdca26"
             ],
             [
              1,
              "#f0f921"
             ]
            ],
            "type": "contour"
           }
          ],
          "contourcarpet": [
           {
            "colorbar": {
             "outlinewidth": 0,
             "ticks": ""
            },
            "type": "contourcarpet"
           }
          ],
          "heatmap": [
           {
            "colorbar": {
             "outlinewidth": 0,
             "ticks": ""
            },
            "colorscale": [
             [
              0,
              "#0d0887"
             ],
             [
              0.1111111111111111,
              "#46039f"
             ],
             [
              0.2222222222222222,
              "#7201a8"
             ],
             [
              0.3333333333333333,
              "#9c179e"
             ],
             [
              0.4444444444444444,
              "#bd3786"
             ],
             [
              0.5555555555555556,
              "#d8576b"
             ],
             [
              0.6666666666666666,
              "#ed7953"
             ],
             [
              0.7777777777777778,
              "#fb9f3a"
             ],
             [
              0.8888888888888888,
              "#fdca26"
             ],
             [
              1,
              "#f0f921"
             ]
            ],
            "type": "heatmap"
           }
          ],
          "histogram": [
           {
            "marker": {
             "pattern": {
              "fillmode": "overlay",
              "size": 10,
              "solidity": 0.2
             }
            },
            "type": "histogram"
           }
          ],
          "histogram2d": [
           {
            "colorbar": {
             "outlinewidth": 0,
             "ticks": ""
            },
            "colorscale": [
             [
              0,
              "#0d0887"
             ],
             [
              0.1111111111111111,
              "#46039f"
             ],
             [
              0.2222222222222222,
              "#7201a8"
             ],
             [
              0.3333333333333333,
              "#9c179e"
             ],
             [
              0.4444444444444444,
              "#bd3786"
             ],
             [
              0.5555555555555556,
              "#d8576b"
             ],
             [
              0.6666666666666666,
              "#ed7953"
             ],
             [
              0.7777777777777778,
              "#fb9f3a"
             ],
             [
              0.8888888888888888,
              "#fdca26"
             ],
             [
              1,
              "#f0f921"
             ]
            ],
            "type": "histogram2d"
           }
          ],
          "histogram2dcontour": [
           {
            "colorbar": {
             "outlinewidth": 0,
             "ticks": ""
            },
            "colorscale": [
             [
              0,
              "#0d0887"
             ],
             [
              0.1111111111111111,
              "#46039f"
             ],
             [
              0.2222222222222222,
              "#7201a8"
             ],
             [
              0.3333333333333333,
              "#9c179e"
             ],
             [
              0.4444444444444444,
              "#bd3786"
             ],
             [
              0.5555555555555556,
              "#d8576b"
             ],
             [
              0.6666666666666666,
              "#ed7953"
             ],
             [
              0.7777777777777778,
              "#fb9f3a"
             ],
             [
              0.8888888888888888,
              "#fdca26"
             ],
             [
              1,
              "#f0f921"
             ]
            ],
            "type": "histogram2dcontour"
           }
          ],
          "mesh3d": [
           {
            "colorbar": {
             "outlinewidth": 0,
             "ticks": ""
            },
            "type": "mesh3d"
           }
          ],
          "parcoords": [
           {
            "line": {
             "colorbar": {
              "outlinewidth": 0,
              "ticks": ""
             }
            },
            "type": "parcoords"
           }
          ],
          "pie": [
           {
            "automargin": true,
            "type": "pie"
           }
          ],
          "scatter": [
           {
            "fillpattern": {
             "fillmode": "overlay",
             "size": 10,
             "solidity": 0.2
            },
            "type": "scatter"
           }
          ],
          "scatter3d": [
           {
            "line": {
             "colorbar": {
              "outlinewidth": 0,
              "ticks": ""
             }
            },
            "marker": {
             "colorbar": {
              "outlinewidth": 0,
              "ticks": ""
             }
            },
            "type": "scatter3d"
           }
          ],
          "scattercarpet": [
           {
            "marker": {
             "colorbar": {
              "outlinewidth": 0,
              "ticks": ""
             }
            },
            "type": "scattercarpet"
           }
          ],
          "scattergeo": [
           {
            "marker": {
             "colorbar": {
              "outlinewidth": 0,
              "ticks": ""
             }
            },
            "type": "scattergeo"
           }
          ],
          "scattergl": [
           {
            "marker": {
             "colorbar": {
              "outlinewidth": 0,
              "ticks": ""
             }
            },
            "type": "scattergl"
           }
          ],
          "scattermap": [
           {
            "marker": {
             "colorbar": {
              "outlinewidth": 0,
              "ticks": ""
             }
            },
            "type": "scattermap"
           }
          ],
          "scattermapbox": [
           {
            "marker": {
             "colorbar": {
              "outlinewidth": 0,
              "ticks": ""
             }
            },
            "type": "scattermapbox"
           }
          ],
          "scatterpolar": [
           {
            "marker": {
             "colorbar": {
              "outlinewidth": 0,
              "ticks": ""
             }
            },
            "type": "scatterpolar"
           }
          ],
          "scatterpolargl": [
           {
            "marker": {
             "colorbar": {
              "outlinewidth": 0,
              "ticks": ""
             }
            },
            "type": "scatterpolargl"
           }
          ],
          "scatterternary": [
           {
            "marker": {
             "colorbar": {
              "outlinewidth": 0,
              "ticks": ""
             }
            },
            "type": "scatterternary"
           }
          ],
          "surface": [
           {
            "colorbar": {
             "outlinewidth": 0,
             "ticks": ""
            },
            "colorscale": [
             [
              0,
              "#0d0887"
             ],
             [
              0.1111111111111111,
              "#46039f"
             ],
             [
              0.2222222222222222,
              "#7201a8"
             ],
             [
              0.3333333333333333,
              "#9c179e"
             ],
             [
              0.4444444444444444,
              "#bd3786"
             ],
             [
              0.5555555555555556,
              "#d8576b"
             ],
             [
              0.6666666666666666,
              "#ed7953"
             ],
             [
              0.7777777777777778,
              "#fb9f3a"
             ],
             [
              0.8888888888888888,
              "#fdca26"
             ],
             [
              1,
              "#f0f921"
             ]
            ],
            "type": "surface"
           }
          ],
          "table": [
           {
            "cells": {
             "fill": {
              "color": "#EBF0F8"
             },
             "line": {
              "color": "white"
             }
            },
            "header": {
             "fill": {
              "color": "#C8D4E3"
             },
             "line": {
              "color": "white"
             }
            },
            "type": "table"
           }
          ]
         },
         "layout": {
          "annotationdefaults": {
           "arrowcolor": "#2a3f5f",
           "arrowhead": 0,
           "arrowwidth": 1
          },
          "autotypenumbers": "strict",
          "coloraxis": {
           "colorbar": {
            "outlinewidth": 0,
            "ticks": ""
           }
          },
          "colorscale": {
           "diverging": [
            [
             0,
             "#8e0152"
            ],
            [
             0.1,
             "#c51b7d"
            ],
            [
             0.2,
             "#de77ae"
            ],
            [
             0.3,
             "#f1b6da"
            ],
            [
             0.4,
             "#fde0ef"
            ],
            [
             0.5,
             "#f7f7f7"
            ],
            [
             0.6,
             "#e6f5d0"
            ],
            [
             0.7,
             "#b8e186"
            ],
            [
             0.8,
             "#7fbc41"
            ],
            [
             0.9,
             "#4d9221"
            ],
            [
             1,
             "#276419"
            ]
           ],
           "sequential": [
            [
             0,
             "#0d0887"
            ],
            [
             0.1111111111111111,
             "#46039f"
            ],
            [
             0.2222222222222222,
             "#7201a8"
            ],
            [
             0.3333333333333333,
             "#9c179e"
            ],
            [
             0.4444444444444444,
             "#bd3786"
            ],
            [
             0.5555555555555556,
             "#d8576b"
            ],
            [
             0.6666666666666666,
             "#ed7953"
            ],
            [
             0.7777777777777778,
             "#fb9f3a"
            ],
            [
             0.8888888888888888,
             "#fdca26"
            ],
            [
             1,
             "#f0f921"
            ]
           ],
           "sequentialminus": [
            [
             0,
             "#0d0887"
            ],
            [
             0.1111111111111111,
             "#46039f"
            ],
            [
             0.2222222222222222,
             "#7201a8"
            ],
            [
             0.3333333333333333,
             "#9c179e"
            ],
            [
             0.4444444444444444,
             "#bd3786"
            ],
            [
             0.5555555555555556,
             "#d8576b"
            ],
            [
             0.6666666666666666,
             "#ed7953"
            ],
            [
             0.7777777777777778,
             "#fb9f3a"
            ],
            [
             0.8888888888888888,
             "#fdca26"
            ],
            [
             1,
             "#f0f921"
            ]
           ]
          },
          "colorway": [
           "#636efa",
           "#EF553B",
           "#00cc96",
           "#ab63fa",
           "#FFA15A",
           "#19d3f3",
           "#FF6692",
           "#B6E880",
           "#FF97FF",
           "#FECB52"
          ],
          "font": {
           "color": "#2a3f5f"
          },
          "geo": {
           "bgcolor": "white",
           "lakecolor": "white",
           "landcolor": "#E5ECF6",
           "showlakes": true,
           "showland": true,
           "subunitcolor": "white"
          },
          "hoverlabel": {
           "align": "left"
          },
          "hovermode": "closest",
          "mapbox": {
           "style": "light"
          },
          "paper_bgcolor": "white",
          "plot_bgcolor": "#E5ECF6",
          "polar": {
           "angularaxis": {
            "gridcolor": "white",
            "linecolor": "white",
            "ticks": ""
           },
           "bgcolor": "#E5ECF6",
           "radialaxis": {
            "gridcolor": "white",
            "linecolor": "white",
            "ticks": ""
           }
          },
          "scene": {
           "xaxis": {
            "backgroundcolor": "#E5ECF6",
            "gridcolor": "white",
            "gridwidth": 2,
            "linecolor": "white",
            "showbackground": true,
            "ticks": "",
            "zerolinecolor": "white"
           },
           "yaxis": {
            "backgroundcolor": "#E5ECF6",
            "gridcolor": "white",
            "gridwidth": 2,
            "linecolor": "white",
            "showbackground": true,
            "ticks": "",
            "zerolinecolor": "white"
           },
           "zaxis": {
            "backgroundcolor": "#E5ECF6",
            "gridcolor": "white",
            "gridwidth": 2,
            "linecolor": "white",
            "showbackground": true,
            "ticks": "",
            "zerolinecolor": "white"
           }
          },
          "shapedefaults": {
           "line": {
            "color": "#2a3f5f"
           }
          },
          "ternary": {
           "aaxis": {
            "gridcolor": "white",
            "linecolor": "white",
            "ticks": ""
           },
           "baxis": {
            "gridcolor": "white",
            "linecolor": "white",
            "ticks": ""
           },
           "bgcolor": "#E5ECF6",
           "caxis": {
            "gridcolor": "white",
            "linecolor": "white",
            "ticks": ""
           }
          },
          "title": {
           "x": 0.05
          },
          "xaxis": {
           "automargin": true,
           "gridcolor": "white",
           "linecolor": "white",
           "ticks": "",
           "title": {
            "standoff": 15
           },
           "zerolinecolor": "white",
           "zerolinewidth": 2
          },
          "yaxis": {
           "automargin": true,
           "gridcolor": "white",
           "linecolor": "white",
           "ticks": "",
           "title": {
            "standoff": 15
           },
           "zerolinecolor": "white",
           "zerolinewidth": 2
          }
         }
        },
        "title": {
         "font": {
          "size": 20
         },
         "text": "Payload Schedule",
         "x": 0.5
        },
        "updatemenus": [
         {
          "buttons": [
           {
            "args": [
             {
              "annotations": [
               {
                "font": {
                 "color": "black",
                 "size": 10
                },
                "showarrow": false,
                "text": "measure_capture",
                "textangle": 0,
                "x": 23328,
                "y": 0
               },
               {
                "font": {
                 "color": "black",
                 "size": 10
                },
                "showarrow": false,
                "text": "measure_capture",
                "textangle": 0,
                "x": 23328,
                "y": 1
               },
               {
                "font": {
                 "color": "black",
                 "size": 10
                },
                "showarrow": false,
                "text": "measure_play",
                "textangle": 0,
                "x": 22360,
                "y": 2
               },
               {
                "font": {
                 "color": "black",
                 "size": 10
                },
                "showarrow": false,
                "text": "",
                "textangle": 0,
                "x": 21640,
                "y": 2
               },
               {
                "font": {
                 "color": "black",
                 "size": 10
                },
                "showarrow": false,
                "text": "sx_play",
                "textangle": 0,
                "x": 21580,
                "y": 2
               },
               {
                "font": {
                 "color": "black",
                 "size": 10
                },
                "showarrow": false,
                "text": "ecr_play",
                "textangle": 0,
                "x": 21220,
                "y": 2
               },
               {
                "font": {
                 "color": "black",
                 "size": 10
                },
                "showarrow": false,
                "text": "ecr_play",
                "textangle": 0,
                "x": 20500,
                "y": 2
               },
               {
                "font": {
                 "color": "black",
                 "size": 10
                },
                "showarrow": false,
                "text": "",
                "textangle": 0,
                "x": 0,
                "y": 2
               },
               {
                "font": {
                 "color": "black",
                 "size": 10
                },
                "showarrow": false,
                "text": "INIT_play",
                "textangle": 0,
                "x": 10080,
                "y": 2
               },
               {
                "font": {
                 "color": "black",
                 "size": 10
                },
                "showarrow": false,
                "text": "INIT_play",
                "textangle": 0,
                "x": 10072,
                "y": 2
               },
               {
                "font": {
                 "color": "black",
                 "size": 10
                },
                "showarrow": false,
                "text": "",
                "textangle": 0,
                "x": 20080,
                "y": 2
               },
               {
                "font": {
                 "color": "black",
                 "size": 10
                },
                "showarrow": false,
                "text": "sx_play",
                "textangle": 0,
                "x": 20140,
                "y": 2
               },
               {
                "font": {
                 "color": "black",
                 "size": 10
                },
                "showarrow": false,
                "text": "",
                "textangle": 0,
                "x": 20080,
                "y": 3
               },
               {
                "font": {
                 "color": "black",
                 "size": 10
                },
                "showarrow": false,
                "text": "sx_play",
                "textangle": 0,
                "x": 21580,
                "y": 3
               },
               {
                "font": {
                 "color": "black",
                 "size": 10
                },
                "showarrow": false,
                "text": "INIT_play",
                "textangle": 0,
                "x": 10072,
                "y": 3
               },
               {
                "font": {
                 "color": "black",
                 "size": 10
                },
                "showarrow": false,
                "text": "INIT_play",
                "textangle": 0,
                "x": 10080,
                "y": 3
               },
               {
                "font": {
                 "color": "black",
                 "size": 10
                },
                "showarrow": false,
                "text": "",
                "textangle": 0,
                "x": 21640,
                "y": 3
               },
               {
                "font": {
                 "color": "black",
                 "size": 10
                },
                "showarrow": false,
                "text": "",
                "textangle": 0,
                "x": 0,
                "y": 3
               },
               {
                "font": {
                 "color": "black",
                 "size": 10
                },
                "showarrow": false,
                "text": "ecr_play",
                "textangle": 0,
                "x": 20860,
                "y": 3
               },
               {
                "font": {
                 "color": "black",
                 "size": 10
                },
                "showarrow": false,
                "text": "sx_play",
                "textangle": 0,
                "x": 20140,
                "y": 3
               },
               {
                "font": {
                 "color": "black",
                 "size": 10
                },
                "showarrow": false,
                "text": "measure_play",
                "textangle": 0,
                "x": 22360,
                "y": 3
               },
               {
                "font": {
                 "color": "black",
                 "size": 10
                },
                "showarrow": false,
                "text": "ecr_play",
                "textangle": 0,
                "x": 20500,
                "y": 3
               },
               {
                "font": {
                 "color": "black",
                 "size": 10
                },
                "showarrow": false,
                "text": "ecr_play",
                "textangle": 0,
                "x": 21220,
                "y": 3
               },
               {
                "font": {
                 "color": "black",
                 "size": 10
                },
                "showarrow": true,
                "text": "rz_shift_phase",
                "textangle": 0,
                "x": 21640,
                "y": 2
               },
               {
                "font": {
                 "color": "black",
                 "size": 10
                },
                "showarrow": true,
                "text": "sx_shift_phase",
                "textangle": 0,
                "x": 21640,
                "y": 2
               },
               {
                "font": {
                 "color": "black",
                 "size": 10
                },
                "showarrow": true,
                "text": "rz_shift_phase",
                "textangle": 0,
                "x": 21520,
                "y": 2
               },
               {
                "font": {
                 "color": "black",
                 "size": 10
                },
                "showarrow": true,
                "text": "rz_shift_phase",
                "textangle": 0,
                "x": 21640,
                "y": 2
               },
               {
                "font": {
                 "color": "black",
                 "size": 10
                },
                "showarrow": true,
                "text": "sx_shift_phase",
                "textangle": 0,
                "x": 21640,
                "y": 2
               },
               {
                "font": {
                 "color": "black",
                 "size": 10
                },
                "showarrow": true,
                "text": "rz_shift_phase",
                "textangle": 0,
                "x": 21520,
                "y": 2
               },
               {
                "font": {
                 "color": "black",
                 "size": 10
                },
                "showarrow": true,
                "text": "rz_shift_phase",
                "textangle": 0,
                "x": 20200,
                "y": 2
               },
               {
                "font": {
                 "color": "black",
                 "size": 10
                },
                "showarrow": true,
                "text": "sx_shift_phase",
                "textangle": 0,
                "x": 20200,
                "y": 2
               },
               {
                "font": {
                 "color": "black",
                 "size": 10
                },
                "showarrow": true,
                "text": "rz_shift_phase",
                "textangle": 0,
                "x": 20080,
                "y": 2
               },
               {
                "font": {
                 "color": "black",
                 "size": 10
                },
                "showarrow": true,
                "text": "rz_shift_phase",
                "textangle": 0,
                "x": 20080,
                "y": 2
               },
               {
                "font": {
                 "color": "black",
                 "size": 10
                },
                "showarrow": true,
                "text": "sx_shift_phase",
                "textangle": 0,
                "x": 20200,
                "y": 2
               },
               {
                "font": {
                 "color": "black",
                 "size": 10
                },
                "showarrow": true,
                "text": "rz_shift_phase",
                "textangle": 0,
                "x": 20080,
                "y": 3
               },
               {
                "font": {
                 "color": "black",
                 "size": 10
                },
                "showarrow": true,
                "text": "rz_shift_phase",
                "textangle": 0,
                "x": 21520,
                "y": 3
               },
               {
                "font": {
                 "color": "black",
                 "size": 10
                },
                "showarrow": true,
                "text": "rz_shift_phase",
                "textangle": 0,
                "x": 21640,
                "y": 3
               },
               {
                "font": {
                 "color": "black",
                 "size": 10
                },
                "showarrow": true,
                "text": "rz_shift_phase",
                "textangle": 0,
                "x": 21640,
                "y": 3
               },
               {
                "font": {
                 "color": "black",
                 "size": 10
                },
                "showarrow": true,
                "text": "sx_shift_phase",
                "textangle": 0,
                "x": 21640,
                "y": 3
               },
               {
                "font": {
                 "color": "black",
                 "size": 10
                },
                "showarrow": true,
                "text": "rz_shift_phase",
                "textangle": 0,
                "x": 20080,
                "y": 3
               },
               {
                "font": {
                 "color": "black",
                 "size": 10
                },
                "showarrow": true,
                "text": "sx_shift_phase",
                "textangle": 0,
                "x": 21640,
                "y": 3
               },
               {
                "font": {
                 "color": "black",
                 "size": 10
                },
                "showarrow": true,
                "text": "sx_shift_phase",
                "textangle": 0,
                "x": 20200,
                "y": 3
               },
               {
                "font": {
                 "color": "black",
                 "size": 10
                },
                "showarrow": true,
                "text": "rz_shift_phase",
                "textangle": 0,
                "x": 20200,
                "y": 3
               },
               {
                "font": {
                 "color": "black",
                 "size": 10
                },
                "showarrow": true,
                "text": "sx_shift_phase",
                "textangle": 0,
                "x": 20200,
                "y": 3
               },
               {
                "font": {
                 "color": "black",
                 "size": 10
                },
                "showarrow": true,
                "text": "rz_shift_phase",
                "textangle": 0,
                "x": 21520,
                "y": 3
               },
               {
                "font": {
                 "color": "black",
                 "size": 10
                },
                "showarrow": true,
                "text": "sx_shift_phase",
                "textangle": 0,
                "x": 21640,
                "y": 4
               },
               {
                "font": {
                 "color": "black",
                 "size": 10
                },
                "showarrow": true,
                "text": "sx_shift_phase",
                "textangle": 0,
                "x": 20200,
                "y": 4
               },
               {
                "font": {
                 "color": "black",
                 "size": 10
                },
                "showarrow": true,
                "text": "rz_shift_phase",
                "textangle": 0,
                "x": 21520,
                "y": 4
               },
               {
                "font": {
                 "color": "black",
                 "size": 10
                },
                "showarrow": true,
                "text": "rz_shift_phase",
                "textangle": 0,
                "x": 21640,
                "y": 4
               },
               {
                "font": {
                 "color": "black",
                 "size": 10
                },
                "showarrow": true,
                "text": "rz_shift_phase",
                "textangle": 0,
                "x": 20080,
                "y": 4
               },
               {
                "font": {
                 "color": "black",
                 "size": 10
                },
                "showarrow": true,
                "text": "sx_shift_phase",
                "textangle": 0,
                "x": 21640,
                "y": 5
               },
               {
                "font": {
                 "color": "black",
                 "size": 10
                },
                "showarrow": true,
                "text": "rz_shift_phase",
                "textangle": 0,
                "x": 21520,
                "y": 5
               },
               {
                "font": {
                 "color": "black",
                 "size": 10
                },
                "showarrow": true,
                "text": "rz_shift_phase",
                "textangle": 0,
                "x": 21640,
                "y": 5
               },
               {
                "font": {
                 "color": "black",
                 "size": 10
                },
                "showarrow": true,
                "text": "rz_shift_phase",
                "textangle": 0,
                "x": 20200,
                "y": 5
               },
               {
                "font": {
                 "color": "black",
                 "size": 10
                },
                "showarrow": true,
                "text": "sx_shift_phase",
                "textangle": 0,
                "x": 20200,
                "y": 5
               },
               {
                "font": {
                 "color": "black",
                 "size": 10
                },
                "showarrow": true,
                "text": "rz_shift_phase",
                "textangle": 0,
                "x": 20080,
                "y": 5
               }
              ]
             }
            ],
            "label": "Show Annotations",
            "method": "relayout"
           },
           {
            "args": [
             {
              "annotations": []
             }
            ],
            "label": "Hide Annotations",
            "method": "relayout"
           }
          ],
          "direction": "down",
          "pad": {
           "r": 10,
           "t": 10
          },
          "showactive": true,
          "type": "dropdown",
          "x": 0,
          "xanchor": "left",
          "y": 1.1,
          "yanchor": "top"
         }
        ],
        "width": 1000,
        "xaxis": {
         "linecolor": "black",
         "linewidth": 1,
         "mirror": true,
         "range": [
          0,
          24129
         ],
         "rangeslider": {
          "visible": true
         },
         "showline": true,
         "title": {
          "text": "Cycles"
         },
         "type": "linear"
        },
        "yaxis": {
         "gridcolor": "rgba(38,38,38,0.15)",
         "linecolor": "black",
         "linewidth": 1,
         "mirror": true,
         "showline": true,
         "tickmode": "array",
         "ticktext": [
          "AWGRC_8",
          "AWGRM_4",
          "Qubit 0",
          "Qubit 1",
          "Qubit 14",
          "Qubit 2"
         ],
         "tickvals": [
          0,
          1,
          2,
          3,
          4,
          5
         ],
         "title": {
          "text": "Channels"
         }
        }
       }
      },
      "text/plain": [
       "<Image src=\"/docs/images/guides/visualize-circuit-timing/extracted-outputs/96e53d33-469b-4df6-8e50-845d5dca7d6b-0.avif\" alt=\"Output of the previous code cell\" />"
      ]
     },
     "metadata": {},
     "output_type": "display_data"
    }
   ],
   "source": [
    "from qiskit_ibm_runtime.visualization import draw_circuit_schedule_timing\n",
    "\n",
    "circuit_schedule = result[0].metadata[\"compilation\"][\"scheduler_timing\"][\n",
    "    \"timing\"\n",
    "]\n",
    "fig = draw_circuit_schedule_timing(\n",
    "    circuit_schedule=circuit_schedule,\n",
    "    included_channels=None,\n",
    "    filter_readout_channels=False,\n",
    "    filter_barriers=False,\n",
    "    width=1000,\n",
    ")\n",
    "\n",
    "# Display the figure\n",
    "fig.show()"
   ]
  },
  {
   "cell_type": "markdown",
   "id": "d917bd6a-e159-4eda-8c3a-c82eec97c0ce",
   "metadata": {},
   "source": [
    "## Next steps\n",
    "\n",
    "<Admonition type=\"tip\" title=\"Recommendations\">\n",
    "  - [Classical feedforward and control flow](/docs/guides/classical-feedforward-and-control-flow) (dynamic circuits)\n",
    "  - [Visualize circuits](/docs/guides/Visualize circuits)\n",
    "</Admonition>"
   ]
  }
 ],
 "metadata": {
  "description": "Visualize scheduling on a circuit by using the Qiskit timeline_drawer method.",
  "kernelspec": {
   "display_name": "Python 3",
   "language": "python",
   "name": "python3"
  },
  "language_info": {
   "codemirror_mode": {
    "name": "ipython",
    "version": 3
   },
   "file_extension": ".py",
   "mimetype": "text/x-python",
   "name": "python",
   "nbconvert_exporter": "python",
   "pygments_lexer": "ipython3",
   "version": "3"
  },
  "title": "Visualize circuit timing"
 },
 "nbformat": 4,
 "nbformat_minor": 4
}
