{
 "cells": [
  {
   "cell_type": "markdown",
   "id": "0af88701-d9bc-47f2-8ceb-2ae51f567934",
   "metadata": {},
   "source": [
    "{/* cspell:ignore mactex, backgroundcolor, lightgreen */}"
   ]
  },
  {
   "cell_type": "markdown",
   "id": "8d75dc24-b8d2-45f8-830b-48e45f794a31",
   "metadata": {},
   "source": [
    "# Visualize circuit timing"
   ]
  },
  {
   "cell_type": "markdown",
   "id": "7ea76afb-aecf-4ea2-b173-5d5e7e7d68ec",
   "metadata": {
    "tags": [
     "version-info"
    ]
   },
   "source": [
    "<details>\n",
    "<summary><b>Package versions</b></summary>\n",
    "\n",
    "The code on this page was developed using the following requirements.\n",
    "We recommend using these versions or newer.\n",
    "\n",
    "```\n",
    "qiskit[all]~=2.1.1\n",
    "```\n",
    "</details>"
   ]
  },
  {
   "cell_type": "markdown",
   "metadata": {},
   "source": [
    "In addition to [visualizing instructions on a circuit](/docs/guidesvisualize-circuits) you might want to use the Qiskit [`timeline_drawer`](/docs/api/qiskit/qiskit.visualization.timeline_drawer) method, which lets you visualize a circuit's scheduling. This visualization could help you to quickly spot idling time on qubits, for example. \n",
    "\n",
    "## Examples\n",
    "\n",
    "To visualize a scheduled circuit program, you can call this function with a set of control arguments. Most of the  output image's appearance can be modified by a stylesheet, but this is not required.\n",
    "\n",
    "### Draw with the default stylesheet"
   ]
  },
  {
   "cell_type": "code",
   "execution_count": null,
   "metadata": {},
   "outputs": [],
   "source": [
    "from qiskit import QuantumCircuit, transpile\n",
    "from qiskit.visualization.timeline import draw\n",
    "from qiskit.providers.fake_provider import GenericBackendV2\n",
    "\n",
    "qc = QuantumCircuit(2)\n",
    "qc.h(0)\n",
    "qc.cx(0,1)\n",
    "\n",
    "backend = GenericBackendV2(5)\n",
    "\n",
    "qc = transpile(qc, backend, scheduling_method='alap', layout_method='trivial')\n",
    "draw(qc, target=backend.target)"
   ]
  },
  {
   "cell_type": "markdown",
   "metadata": {},
   "source": [
    "### Draw with a simple stylesheet"
   ]
  },
  {
   "cell_type": "code",
   "execution_count": null,
   "metadata": {},
   "outputs": [],
   "source": [
    "from qiskit import QuantumCircuit, transpile\n",
    "from qiskit.visualization.timeline import draw, IQXSimple\n",
    "from qiskit.providers.fake_provider import GenericBackendV2\n",
    "\n",
    "qc = QuantumCircuit(2)\n",
    "qc.h(0)\n",
    "qc.cx(0,1)\n",
    "\n",
    "backend = GenericBackendV2(5)\n",
    "\n",
    "qc = transpile(qc, backend, scheduling_method='alap', layout_method='trivial')\n",
    "draw(qc, style=IQXSimple(), target=backend.target)"
   ]
  },
  {
   "cell_type": "markdown",
   "metadata": {},
   "source": [
    "### Draw with a stylesheet suited for program debugging"
   ]
  },
  {
   "cell_type": "code",
   "execution_count": null,
   "metadata": {},
   "outputs": [],
   "source": [
    "from qiskit import QuantumCircuit, transpile\n",
    "from qiskit.visualization.timeline import draw, IQXDebugging\n",
    "from qiskit.providers.fake_provider import GenericBackendV2\n",
    "\n",
    "qc = QuantumCircuit(2)\n",
    "qc.h(0)\n",
    "qc.cx(0,1)\n",
    "\n",
    "backend = GenericBackendV2(5)\n",
    "qc = transpile(qc, backend, scheduling_method='alap', layout_method='trivial')\n",
    "draw(qc, style=IQXDebugging(), target=backend.target)"
   ]
  },
  {
   "cell_type": "markdown",
   "metadata": {},
   "source": [
    "### Draw with a modified stylesheet\n",
    "\n",
    "You can customize some parts of a preset stylesheet when you call it."
   ]
  },
  {
   "cell_type": "code",
   "execution_count": null,
   "metadata": {},
   "outputs": [],
   "source": [
    "my_style = {\n",
    "    'formatter.general.fig_width': 16,\n",
    "    'formatter.general.fig_unit_height': 1\n",
    "}\n",
    "style = IQXStandard(**my_style)\n",
    "\n",
    "# draw\n",
    "draw(qc, style=style)"
   ]
  },
  {
   "cell_type": "markdown",
   "metadata": {},
   "source": [
    "Similarly, you can create custom generator or layout functions and update an existing stylesheet with the custom functions. This way, you can control the most of the appearance of the output image without modifying the codebase of the scheduled circuit drawer."
   ]
  },
  {
   "cell_type": "markdown",
   "metadata": {},
   "source": [
    "## Qiskit Runtime support\n",
    "\n",
    "While the timeline drawer built in to Qiskit is useful for static circuits, it might not accurately reflect the timing of [dynamic circuits](/docs/guides/classical-feedforward-and-control-flow) due to implicit operations such as broadcasting and branch determination. As part of dynamic circuits support, Qiskit Runtime returns the accurate circuit timing information inside the job results when requested. "
   ]
  },
  {
   "cell_type": "markdown",
   "id": "0761df2f-183f-48e3-9070-766a9920c2b9",
   "metadata": {},
   "source": [
    "## Next steps\n",
    "\n",
    "<Admonition type=\"tip\" title=\"Recommendations\">\n",
    "  -  Related information\n",
    "</Admonition>"
   ]
  }
 ],
 "metadata": {
  "description": "Visualize scheduling on a circuit by using the Qiskit timeline_drawer method.",
  "kernelspec": {
   "display_name": "Python 3",
   "language": "python",
   "name": "python3"
  },
  "language_info": {
   "codemirror_mode": {
    "name": "ipython",
    "version": 3
   },
   "file_extension": ".py",
   "mimetype": "text/x-python",
   "name": "python",
   "nbconvert_exporter": "python",
   "pygments_lexer": "ipython3",
   "version": "3"
  },
  "title": "Visualize circuit timing"
 },
 "nbformat": 4,
 "nbformat_minor": 4
}
