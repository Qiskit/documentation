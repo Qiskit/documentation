{
 "cells": [
  {
   "cell_type": "markdown",
   "id": "0af88701-d9bc-47f2-8ceb-2ae51f567934",
   "metadata": {},
   "source": [
    "{/* cspell:ignore mactex, backgroundcolor, lightgreen */}"
   ]
  },
  {
   "cell_type": "markdown",
   "id": "8d75dc24-b8d2-45f8-830b-48e45f794a31",
   "metadata": {},
   "source": [
    "# Visualize circuit timing"
   ]
  },
  {
   "cell_type": "markdown",
   "id": "7ea76afb-aecf-4ea2-b173-5d5e7e7d68ec",
   "metadata": {
    "tags": [
     "version-info"
    ]
   },
   "source": [
    "<details>\n",
    "<summary><b>Package versions</b></summary>\n",
    "\n",
    "The code on this page was developed using the following requirements.\n",
    "We recommend using these versions or newer.\n",
    "\n",
    "```\n",
    "qiskit[all]~=2.1.1\n",
    "```\n",
    "</details>"
   ]
  },
  {
   "cell_type": "markdown",
   "id": "0c5a21eb-3af2-4d00-be04-53525ab5ac19",
   "metadata": {},
   "source": [
    "In addition to [visualizing instructions on a circuit](/docs/guides/visualize-circuits) you might want to use the Qiskit [`timeline_drawer`](/docs/api/qiskit/qiskit.visualization.timeline_drawer) method, which lets you visualize a circuit's scheduling. This visualization could help you to quickly spot idling time on qubits, for example.\n",
    "\n",
    "## Examples\n",
    "\n",
    "To visualize a scheduled circuit program, you can call this function with a set of control arguments. Most of the  output image's appearance can be modified by a stylesheet, but this is not required.\n",
    "\n",
    "### Draw with the default stylesheet"
   ]
  },
  {
   "cell_type": "code",
   "execution_count": null,
   "id": "59ded42f-f090-4be3-a519-ca77f289de62",
   "metadata": {},
   "outputs": [],
   "source": [
    "from qiskit import QuantumCircuit, transpile\n",
    "from qiskit.visualization.timeline import draw\n",
    "from qiskit.providers.fake_provider import GenericBackendV2\n",
    "\n",
    "qc = QuantumCircuit(2)\n",
    "qc.h(0)\n",
    "qc.cx(0, 1)\n",
    "\n",
    "backend = GenericBackendV2(5)\n",
    "\n",
    "qc = transpile(qc, backend, scheduling_method=\"alap\", layout_method=\"trivial\")\n",
    "draw(qc, target=backend.target)"
   ]
  },
  {
   "cell_type": "markdown",
   "id": "5bdb1520-3760-4e7f-833b-69fed26a770a",
   "metadata": {},
   "source": [
    "### Draw with a simple stylesheet"
   ]
  },
  {
   "cell_type": "code",
   "execution_count": null,
   "id": "d003cdda-f348-431f-8d86-0f1f24136019",
   "metadata": {},
   "outputs": [],
   "source": [
    "from qiskit import QuantumCircuit, transpile\n",
    "from qiskit.visualization.timeline import draw, IQXSimple\n",
    "from qiskit.providers.fake_provider import GenericBackendV2\n",
    "\n",
    "qc = QuantumCircuit(2)\n",
    "qc.h(0)\n",
    "qc.cx(0, 1)\n",
    "\n",
    "backend = GenericBackendV2(5)\n",
    "\n",
    "qc = transpile(qc, backend, scheduling_method=\"alap\", layout_method=\"trivial\")\n",
    "draw(qc, style=IQXSimple(), target=backend.target)"
   ]
  },
  {
   "cell_type": "markdown",
   "id": "0761da5b-517c-4ca6-805c-b8f6e91a1e05",
   "metadata": {},
   "source": [
    "### Draw with a stylesheet suited for program debugging"
   ]
  },
  {
   "cell_type": "code",
   "execution_count": null,
   "id": "928f58dd-e144-48cf-900d-468f47bee9b1",
   "metadata": {},
   "outputs": [],
   "source": [
    "from qiskit import QuantumCircuit, transpile\n",
    "from qiskit.visualization.timeline import draw, IQXDebugging\n",
    "from qiskit.providers.fake_provider import GenericBackendV2\n",
    "\n",
    "qc = QuantumCircuit(2)\n",
    "qc.h(0)\n",
    "qc.cx(0, 1)\n",
    "\n",
    "backend = GenericBackendV2(5)\n",
    "qc = transpile(qc, backend, scheduling_method=\"alap\", layout_method=\"trivial\")\n",
    "draw(qc, style=IQXDebugging(), target=backend.target)"
   ]
  },
  {
   "cell_type": "markdown",
   "id": "2a5578e5-0124-473a-a13f-4a4b2b466b1c",
   "metadata": {},
   "source": [
    "### Draw with a modified stylesheet\n",
    "\n",
    "You can customize some parts of a preset stylesheet when you call it."
   ]
  },
  {
   "cell_type": "code",
   "execution_count": null,
   "id": "82e06dc4-6f2f-4852-b2cc-3ee7a9b8234b",
   "metadata": {},
   "outputs": [],
   "source": [
    "from qiskit.visualization.timeline import draw, IQXStandard\n",
    "\n",
    "my_style = {\n",
    "    \"formatter.general.fig_width\": 16,\n",
    "    \"formatter.general.fig_unit_height\": 1,\n",
    "}\n",
    "style = IQXStandard(**my_style)\n",
    "\n",
    "# draw\n",
    "draw(qc, style=style)"
   ]
  },
  {
   "cell_type": "markdown",
   "id": "539fe309-5b11-4d00-b826-d92c21c0925c",
   "metadata": {},
   "source": [
    "Similarly, you can create custom generator or layout functions and update an existing stylesheet with the custom functions. This way, you can control the most of the appearance of the output image without modifying the codebase of the scheduled circuit drawer."
   ]
  },
  {
   "cell_type": "markdown",
   "id": "fd59c92f-a37f-4f4f-9cc0-86f4023bf645",
   "metadata": {},
   "source": [
    "## Qiskit Runtime support\n",
    "\n",
    "While the timeline drawer built in to Qiskit is useful for static circuits, it might not accurately reflect the timing of [dynamic circuits](/docs/guides/classical-feedforward-and-control-flow) because of implicit operations such as broadcasting and branch determination. As part of dynamic circuit support, Qiskit Runtime returns the accurate circuit timing information inside the job results when requested."
   ]
  },
  {
   "cell_type": "markdown",
   "id": "8265326c-148f-4915-8e53-126916d0c8ec",
   "metadata": {},
   "source": [
    "### Enable timing data retrieval\n",
    "\n",
    "To enable timing data retrieval, set the `scheduler_timing` flag to `True` when running the primitive job:\n",
    "\n",
    "```python\n",
    "sampler = SamplerV2(backend)\n",
    "sampler.options.experimental = {\n",
    "    \"execution\": {\n",
    "        \"scheduler_timing\": True,\n",
    "    },\n",
    "}\n",
    "```"
   ]
  },
  {
   "cell_type": "markdown",
   "id": "2b03c0a0-9bad-428b-8e1b-c2153729a45b",
   "metadata": {},
   "source": [
    "### Access the circuit schedule data\n",
    "\n",
    "Access the circuit's schedule data from the job's result metadata as follows.\n",
    "\n",
    "```python\n",
    "job_result: SamplerPubResult = job.result()\n",
    "    circuit_schedule = job_result[0].metadata[\"compilation\"][\"scheduler_timing\"]\n",
    "    circuit_schedule_timing = circuit_schedule[\"timing\"]\n",
    "```\n",
    "\n",
    "All of the data is returned under `compilation`. Therefore, you use that option, along the `timing` sub-argument to access specific data."
   ]
  },
  {
   "cell_type": "markdown",
   "id": "e5a2081a-3037-44cc-8fca-a4d106297bf0",
   "metadata": {},
   "source": [
    "### Visualize the timings\n",
    "\n",
    "You can display the output figure, save it to a file, or both.\n",
    "\n",
    "- Run [`fig.show()`](https://plotly.com/python-api-reference/generated/plotly.io.show.html) display the figure.\n",
    "- Run [`fig.write_image(\"<path.format>\")`](https://plotly.com/python-api-reference/generated/plotly.io.write_image.html) download the figure.  For example: `fig.write_html(\"scheduler_timing.html\")` or `fig.write_image(\"scheduler_timing.png\")`."
   ]
  },
  {
   "cell_type": "markdown",
   "id": "af8884d1-d833-4d98-8d71-35a48420b93c",
   "metadata": {},
   "source": [
    "### Arguments\n",
    "\n",
    "The following arguments are used with timing visualizations.\n",
    "\n",
    "- `compilation` - Used to retrieve values from circuit-timing related feature flags, in the format `result[0].metadata[\"compilation\"][<feature-flag-name>]`.\n",
    "- `timing` - Used to retrieve circuit timing data after it has been retrieved from the metadata."
   ]
  },
  {
   "cell_type": "markdown",
   "id": "b43cb163-421b-448b-940b-38b5bbd3a696",
   "metadata": {},
   "source": [
    "### Understand the `circuit_schedule` input\n",
    "\n",
    "The output from the job (input to `circuit_schedule`) is a list of strings, where each string represents a single instruction on some channel.\n",
    "\n",
    "The instruction data is comma separated into `Branch`, `Instruction`, `Channel`, `T0`, `Duration`, and `Pulse` data types.\n",
    "\n",
    "- `Branch` - Determines whether the instruction is in a control flow (then / else) or a main branch\n",
    "- `Instruction` - The gate and the qubit to operate on\n",
    "- `Channel` - The channel that is being assigned with the instruction (Qubit x / AWGRx_y / ...). Arbitrary Wave Generator Readout (AWGR) is used for readout channels communication for measuring qubits, as opposed to drive channels, which are for driving the qubits. The `X` and `Y` arguments correspond to the readout instrument ID and the qubit number, respectively.\n",
    "- `T0` - The instruction start time within the complete schedule\n",
    "- `Duration` - The instruction's duration\n",
    "- `Pulse` - The type of pulse operation being used\n",
    "\n",
    "\n",
    "Example:\n",
    "\n",
    "```python\n",
    "main,barrier,Qubit 0,7,0,barrier # A barrier on the main branch on qubit 0 at time 7 with 0 duration\n",
    "main,reset_0,Qubit 0,7,64,play # A reset instruction on the main branch on qubit 0 at time 7 with duration 64 and a play operation\n",
    "...\n",
    "```"
   ]
  },
  {
   "cell_type": "markdown",
   "id": "4c3181fd-e4fa-40c2-85ee-a51780c525cf",
   "metadata": {},
   "source": [
    "### End-to-end example\n",
    "\n",
    "This example shows you how to enable the option, get it from the metadata, display it, and save it to a file.\n",
    "\n",
    "First, set up the environment, define and transpile the circuits, and define and run the jobs."
   ]
  },
  {
   "cell_type": "code",
   "execution_count": null,
   "id": "f7d05263-a9d3-4fe8-aeba-5973c9d45f87",
   "metadata": {},
   "outputs": [],
   "source": [
    "from qiskit_ibm_runtime import QiskitRuntimeService, SamplerV2\n",
    "from qiskit.circuit import QuantumCircuit\n",
    "from qiskit import transpile\n",
    "\n",
    "\n",
    "service = QiskitRuntimeService()\n",
    "backend = service.least_busy(operational=True, simulator=False)\n",
    "\n",
    "# Create a Bell circuit\n",
    "qc = QuantumCircuit(2)\n",
    "qc.h(0)\n",
    "qc.cx(0, 1)\n",
    "qc.measure_all()\n",
    "\n",
    "qc.draw()\n",
    "\n",
    "# Transpile the circuit for the given backend\n",
    "transpiled_circuits = []\n",
    "transpiled_circuit = transpile(qc, backend)\n",
    "transpiled_circuits.append(transpiled_circuit)\n",
    "\n",
    "# Generate samplers for backend targets\n",
    "sampler = SamplerV2(backend)\n",
    "sampler.options.experimental = {\n",
    "    \"execution\": {\"scheduler_timing\": True},\n",
    "}\n",
    "\n",
    "# Submit jobs\n",
    "sampler_job = sampler.run(transpiled_circuits)\n",
    "\n",
    "print(\n",
    "    f\">>> {' Job ID:':<10}  {sampler_job.job_id()} ({sampler_job.status()})\"\n",
    ")\n",
    "\n",
    "result = sampler_job.result()\n",
    "print(f\">>> {' Job:':<10} {sampler_job.job_id()} finished with:\\n{result}\")"
   ]
  },
  {
   "cell_type": "markdown",
   "id": "936f6572-6915-4e9d-b027-e07d83096e63",
   "metadata": {},
   "source": [
    "Next, get the circuit schedule timing:"
   ]
  },
  {
   "cell_type": "code",
   "execution_count": null,
   "id": "43d70c4c-71eb-437d-b543-6994f7244a4a",
   "metadata": {},
   "outputs": [],
   "source": [
    "# Get the circuit schedule timing\n",
    "result[0].metadata[\"compilation\"][\"scheduler_timing\"][\"timing\"]"
   ]
  },
  {
   "cell_type": "markdown",
   "id": "19387aa6-0503-48cb-84e7-31e4d6675cb5",
   "metadata": {},
   "source": [
    "Finally, you can visualize and save the timing:"
   ]
  },
  {
   "cell_type": "code",
   "execution_count": null,
   "id": "ab2fabf7-b069-4d2d-918c-dbf1e3da599c",
   "metadata": {},
   "outputs": [],
   "source": [
    "from qiskit_ibm_runtime.visualization import draw_circuit_schedule_timing\n",
    "\n",
    "circuit_schedule = (\n",
    "    result[0]\n",
    "    .metadata[\"compilation\"][\"scheduler_timing\"][\"timing\"]\n",
    "    .split(\"\\n\")\n",
    ")\n",
    "fig = draw_circuit_schedule_timing(\n",
    "    circuit_schedule=circuit_schedule,\n",
    "    included_channels=None,\n",
    "    filter_readout_channels=False,\n",
    "    filter_barriers=False,\n",
    "    width=1000,\n",
    ")\n",
    "fig.show()"
   ]
  },
  {
   "cell_type": "markdown",
   "id": "0761df2f-183f-48e3-9070-766a9920c2b9",
   "metadata": {},
   "source": [
    "## Next steps\n",
    "\n",
    "<Admonition type=\"tip\" title=\"Recommendations\">\n",
    "  -  Related information\n",
    "</Admonition>"
   ]
  }
 ],
 "metadata": {
  "description": "Visualize scheduling on a circuit by using the Qiskit timeline_drawer method.",
  "kernelspec": {
   "display_name": "Python 3",
   "language": "python",
   "name": "python3"
  },
  "language_info": {
   "codemirror_mode": {
    "name": "ipython",
    "version": 3
   },
   "file_extension": ".py",
   "mimetype": "text/x-python",
   "name": "python",
   "nbconvert_exporter": "python",
   "pygments_lexer": "ipython3",
   "version": "3"
  },
  "title": "Visualize circuit timing"
 },
 "nbformat": 4,
 "nbformat_minor": 4
}
