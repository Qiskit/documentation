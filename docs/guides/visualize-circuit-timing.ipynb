{
 "cells": [
  {
   "cell_type": "markdown",
   "metadata": {},
   "source": [
    "{/* cspell:ignore mactex, backgroundcolor, lightgreen */}\n",
    "\n",
    "# Visualize circuit timing"
   ]
  },
  {
   "cell_type": "markdown",
   "metadata": {},
   "source": [
    "<details>\n",
    "<summary><b>Package versions</b></summary>\n",
    "\n",
    "The code on this page was developed using the following requirements.\n",
    "We recommend using these versions or newer.\n",
    "\n",
    "```\n",
    "qiskit[all]~=2.1.1\n",
    "qiskit-ibm-runtime~=0.43.0\n",
    "```\n",
    "</details>"
   ]
  },
  {
   "cell_type": "markdown",
   "metadata": {},
   "source": [
    "In addition to [visualizing instructions on a circuit](/docs/guides/visualize-circuits) you might want to use the Qiskit [`timeline_drawer`](/docs/api/qiskit/qiskit.visualization.timeline_drawer) method, which lets you visualize a circuit's scheduling. This visualization could help you to quickly spot idling time on qubits, for example.\n",
    "\n",
    "<Admonition type=\"note\" title=\"Notes\">\n",
    "- This is an experimental function. It is in preview release status and is therefore subject to change.\n",
    "- This function only applies to Sampler jobs.\n",
    "</Admonition>\n",
    "\n",
    "## Examples\n",
    "\n",
    "To visualize a scheduled circuit program, you can call this function with a set of control arguments. Most of the  output image's appearance can be modified by a stylesheet, but this is not required.\n",
    "\n",
    "### Draw with the default stylesheet"
   ]
  },
  {
   "cell_type": "code",
   "execution_count": null,
   "metadata": {
    "vscode": {
     "languageId": "plaintext"
    }
   },
   "outputs": [],
   "source": [
    "from qiskit import QuantumCircuit\n",
    "from qiskit.visualization.timeline import draw\n",
    "from qiskit.providers.fake_provider import GenericBackendV2\n",
    "from qiskit.transpiler import generate_preset_pass_manager\n",
    "\n",
    "qc = QuantumCircuit(2)\n",
    "qc.h(0)\n",
    "qc.cx(0, 1)\n",
    "\n",
    "backend = GenericBackendV2(5)\n",
    "\n",
    "pm = generate_preset_pass_manager(backend=backend, optimization_level=1)\n",
    "isa_circuit = pm.run(qc)\n",
    "\n",
    "draw(isa_circuit, target=backend.target)"
   ]
  },
  {
   "cell_type": "markdown",
   "metadata": {},
   "source": [
    "### Draw with a stylesheet suited for program debugging"
   ]
  },
  {
   "cell_type": "code",
   "execution_count": null,
   "metadata": {
    "vscode": {
     "languageId": "plaintext"
    }
   },
   "outputs": [],
   "source": [
    "from qiskit import QuantumCircuit\n",
    "from qiskit.visualization.timeline import draw, IQXDebugging\n",
    "from qiskit.providers.fake_provider import GenericBackendV2\n",
    "from qiskit.transpiler import generate_preset_pass_manager\n",
    "\n",
    "qc = QuantumCircuit(2)\n",
    "qc.h(0)\n",
    "qc.cx(0, 1)\n",
    "qc.measure_all()\n",
    "\n",
    "backend = GenericBackendV2(5)\n",
    "pm = generate_preset_pass_manager(backend=backend, optimization_level=1)\n",
    "isa_circuit = pm.run(qc)\n",
    "draw(isa_circuit, style=IQXDebugging(), target=backend.target)"
   ]
  },
  {
   "cell_type": "markdown",
   "metadata": {},
   "source": [
    "You can create custom generator or layout functions and update an existing stylesheet with the custom functions. This way, you can control the most of the appearance of the output image without modifying the codebase of the scheduled circuit drawer.  See the [`timeline_drawer`](/docs/api/qiskit/qiskit.visualization.timeline_drawer) API reference for more examples."
   ]
  },
  {
   "cell_type": "markdown",
   "metadata": {},
   "source": [
    "## Qiskit Runtime support\n",
    "\n",
    "While the timeline drawer built in to Qiskit is useful for static circuits, it might not accurately reflect the timing of [dynamic circuits](/docs/guides/classical-feedforward-and-control-flow) because of implicit operations such as broadcasting and branch determination. As part of dynamic circuit support, Qiskit Runtime returns the accurate circuit timing information inside the job results when requested."
   ]
  },
  {
   "cell_type": "markdown",
   "metadata": {},
   "source": [
    "### Enable timing data retrieval\n",
    "\n",
    "To enable timing data retrieval, set the experimental `scheduler_timing` flag to `True` when running the primitive job."
   ]
  },
  {
   "cell_type": "code",
   "execution_count": null,
   "metadata": {
    "vscode": {
     "languageId": "plaintext"
    }
   },
   "outputs": [],
   "source": [
    "from qiskit_ibm_runtime import QiskitRuntimeService, SamplerV2\n",
    "\n",
    "service = QiskitRuntimeService()\n",
    "backend = service.least_busy(operational=True, simulator=False)\n",
    "\n",
    "pm = generate_preset_pass_manager(backend=backend, optimization_level=1)\n",
    "isa_circuit = pm.run(qc)\n",
    "\n",
    "sampler = SamplerV2(backend)\n",
    "sampler.options.experimental = {\n",
    "    \"execution\": {\n",
    "        \"scheduler_timing\": True,\n",
    "    },\n",
    "}\n",
    "\n",
    "sampler_job = sampler.run([isa_circuit])"
   ]
  },
  {
   "cell_type": "markdown",
   "metadata": {},
   "source": [
    "### Access the circuit timing data\n",
    "\n",
    "When requested, the circuit timing data is returned in the job result metadata, under `[\"compilation\"][\"scheduler_timing\"][\"timing\"]`. This field contains the raw timing information. To display the timing information, use the built-in visualization tool to display it, as described in the following section.\n",
    "\n",
    "Use the following code to access the circuit timing data:"
   ]
  },
  {
   "cell_type": "code",
   "execution_count": null,
   "metadata": {
    "vscode": {
     "languageId": "plaintext"
    }
   },
   "outputs": [],
   "source": [
    "job_result = sampler_job.result()\n",
    "circuit_schedule = job_result[0].metadata[\"compilation\"][\"scheduler_timing\"]\n",
    "circuit_schedule_timing = circuit_schedule[\"timing\"]"
   ]
  },
  {
   "cell_type": "markdown",
   "metadata": {},
   "source": [
    "#### Understand the raw timing data\n",
    "\n",
    "While visualizing the circuit timing data by using the `draw_circuit_schedule_timing` method is the most common use case, it might be useful to understand the structure of the raw timing data returned. This could help you, for example, to extract information programmatically.\n",
    "\n",
    "The timing data returned in `[\"compilation\"][\"scheduler_timing\"][\"timing\"]` is a list of strings. Each string represents a single instruction on some channel and is comma separated into the following data types:\n",
    "\n",
    "- `Branch` - Determines whether the instruction is in a control flow (then / else) or a main branch\n",
    "- `Instruction` - The gate and the qubit to operate on\n",
    "- `Channel` - The channel that is being assigned with the instruction (Qubit x / AWGRx_y / ...). Arbitrary waveform generator readout (AWGR) is used for readout channels communication for measuring qubits, as opposed to drive channels, which are for driving the qubits. The `X` and `Y` arguments correspond to the readout instrument ID and the qubit number, respectively.\n",
    "- `T0` - The instruction start time within the complete schedule\n",
    "- `Duration` - The instruction's duration\n",
    "- `Pulse` - The type of pulse operation being used\n",
    "\n",
    "\n",
    "Example:\n",
    "\n",
    "```python\n",
    "main,barrier,Qubit 0,7,0,barrier # A barrier on the main branch on qubit 0 at time 7 with 0 duration\n",
    "main,reset_0,Qubit 0,7,64,play # A reset instruction on the main branch on qubit 0 at time 7 with duration 64 and a play operation\n",
    "...\n",
    "```"
   ]
  },
  {
   "cell_type": "markdown",
   "metadata": {},
   "source": [
    "### Visualize the timings\n",
    "\n",
    "To visualize the timings, you first need to convert the result metadata to `fig` by using the `draw_circuit_schedule_timing` (**link to API reference when available**) method. This method returns a `plotly` figure, which you can display directly, save to a file, or both.  For more information about the `plotly` commands to use, see [`fig.show()`](https://plotly.com/python-api-reference/generated/plotly.io.show.html) and  [`fig.write_image(\"<path.format>\")`.](https://plotly.com/python-api-reference/generated/plotly.io.write_image.html)"
   ]
  },
  {
   "cell_type": "code",
   "execution_count": null,
   "metadata": {
    "vscode": {
     "languageId": "plaintext"
    }
   },
   "outputs": [],
   "source": [
    "from qiskit_ibm_runtime.visualization import draw_circuit_schedule_timing\n",
    "\n",
    "# Create a figure from the metadata\n",
    "fig = draw_circuit_schedule_timing(\n",
    "    circuit_schedule=circuit_schedule_timing,\n",
    "    included_channels=None,\n",
    "    filter_readout_channels=False,\n",
    "    filter_barriers=False,\n",
    "    width=1000,\n",
    ")\n",
    "\n",
    "# Display the figure\n",
    "fig.show()\n",
    "\n",
    "# Save to a file\n",
    "# fig.write_html(\"scheduler_timing.html\")"
   ]
  },
  {
   "cell_type": "markdown",
   "metadata": {},
   "source": [
    "#### Understand the generated figure\n",
    "\n",
    "The image of the circuit timing data output by `draw_circuit_schedule_timing` conveys the following information:\n",
    "\n",
    "- X axis is time in units of _dt_ seconds,  where 1 dt = 1 scheduling cycle.\n",
    "- Y axis is the channel (think of channels as instruments that emit pulses).\n",
    "    - `Receive channel` is the only channel that isn't an instrument by itself. It is an instruction played on all channels that are part of a communication procedure with the hub at that time.\n",
    "    - `Qubit x` is the drive channel for qubit x.\n",
    "    - `AWGRx_y` (arbitrary waveform generator readout) is used for readout channels communication for measuring qubits. The x and y arguments correspond to the readout instrument ID and the qubit number, respectively.\n",
    "    - `Hub` controls broadcasting.\n",
    "\n",
    "Additionally, each instruction has the format of *X_Y*, where *X* is the name of the instruction and *Y* is the pulse type. A `play` type applies control pulses, and a `capture` records the qubit's state. You can also hover over each instruction to get more details. For example, the following figure shows a control pulse for the X gate applied to qubit 10 at 1161 dt:\n",
    "\n",
    "![Hovering over the output shows information such as the start, finish, and duration.](/docs/images/guides/visualize-circuit-timing/hover.svg 'Hovering over the figure for more details')"
   ]
  },
  {
   "cell_type": "markdown",
   "metadata": {},
   "source": [
    "### End-to-end example\n",
    "\n",
    "This example shows you how to enable the option, get it from the metadata, display it, and save it to a file.\n",
    "\n",
    "First, set up the environment, define the circuits and convert them to ISA circuits, and define and run the jobs."
   ]
  },
  {
   "cell_type": "code",
   "execution_count": null,
   "metadata": {
    "vscode": {
     "languageId": "plaintext"
    }
   },
   "outputs": [],
   "source": [
    "from qiskit_ibm_runtime import SamplerV2\n",
    "from qiskit.circuit import QuantumCircuit\n",
    "\n",
    "service = QiskitRuntimeService()\n",
    "backend = service.least_busy(operational=True, simulator=False)\n",
    "\n",
    "# Create a Bell circuit\n",
    "qc = QuantumCircuit(2)\n",
    "qc.h(0)\n",
    "qc.cx(0, 1)\n",
    "qc.measure_all()\n",
    "\n",
    "qc.draw()\n",
    "\n",
    "# Convert to an ISA circuit for the given backend\n",
    "\n",
    "pm = generate_preset_pass_manager(backend=backend, optimization_level=1)\n",
    "isa_circuit = pm.run(qc)\n",
    "\n",
    "# Generate samplers for backend targets\n",
    "sampler = SamplerV2(backend)\n",
    "sampler.options.experimental = {\"execution\": {\"scheduler_timing\": True}}\n",
    "\n",
    "# Submit jobs\n",
    "sampler_job = sampler.run([isa_circuit])\n",
    "\n",
    "print(\n",
    "    f\">>> {' Job ID:':<10}  {sampler_job.job_id()} ({sampler_job.status()})\"\n",
    ")"
   ]
  },
  {
   "cell_type": "markdown",
   "metadata": {},
   "source": [
    "Next, get the circuit schedule timing:"
   ]
  },
  {
   "cell_type": "code",
   "execution_count": null,
   "metadata": {
    "vscode": {
     "languageId": "plaintext"
    }
   },
   "outputs": [],
   "source": [
    "# Get the circuit schedule timing\n",
    "result[0].metadata[\"compilation\"][\"scheduler_timing\"][\"timing\"]"
   ]
  },
  {
   "cell_type": "markdown",
   "metadata": {},
   "source": [
    "Finally, you can visualize and save the timing:"
   ]
  },
  {
   "cell_type": "code",
   "execution_count": null,
   "metadata": {
    "vscode": {
     "languageId": "plaintext"
    }
   },
   "outputs": [],
   "source": [
    "from qiskit_ibm_runtime.visualization import draw_circuit_schedule_timing\n",
    "\n",
    "circuit_schedule = result[0].metadata[\"compilation\"][\"scheduler_timing\"][\n",
    "    \"timing\"\n",
    "]\n",
    "fig = draw_circuit_schedule_timing(\n",
    "    circuit_schedule=circuit_schedule,\n",
    "    included_channels=None,\n",
    "    filter_readout_channels=False,\n",
    "    filter_barriers=False,\n",
    "    width=1000,\n",
    ")\n",
    "\n",
    "# Display the figure\n",
    "fig.show()"
   ]
  },
  {
   "cell_type": "markdown",
   "metadata": {},
   "source": [
    "## Next steps\n",
    "\n",
    "<Admonition type=\"tip\" title=\"Recommendations\">\n",
    "  - [Classical feedforward and control flow](/docs/guides/classical-feedforward-and-control-flow) (dynamic circuits)\n",
    "  - [Visualize circuits](/docs/guides/Visualize circuits)\n",
    "</Admonition>"
   ]
  }
 ],
 "metadata": {
  "description": "Visualize the timing of generated circuits by generating a figure that you can view, download, or both.",
  "title": "Visualize circuit timing",
  "language_info": {
   "name": "python"
  }
 },
 "nbformat": 4,
 "nbformat_minor": 5
}
