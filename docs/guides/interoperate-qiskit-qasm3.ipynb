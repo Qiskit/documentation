{
 "cells": [
  {
   "cell_type": "markdown",
   "id": "d518f5b4-a19b-4419-b615-59caae67c080",
   "metadata": {},
   "source": [
    "# OpenQASM 3 and the Qiskit SDK"
   ]
  },
  {
   "cell_type": "markdown",
   "id": "a86fc5a5-cc81-40e8-96ab-54841218f619",
   "metadata": {
    "tags": [
     "version-info"
    ]
   },
   "source": []
  },
  {
   "cell_type": "markdown",
   "id": "232070ea-8685-4638-ba9d-7b52a123fd2e",
   "metadata": {},
   "source": [
    "The Qiskit SDK provides some tools for converting between OpenQASM representations of quantum programs, and the QuantumCircuit class. Note these tools are still in an exploratory phase of development and will continue to evolve as Qiskit's support for dynamic circuit capabilities expressed by OpenQASM 3 increases.\n",
    "\n",
    "<Admonition type=\"note\">\n",
    "This function is still in the exploratory phase.  Therefore, it is likely that the syntax and capabilities will evolve.\n",
    "</Admonition>\n",
    "\n",
    "## Import an OpenQASM 3 program into Qiskit\n",
    "\n",
    "You must install the package `qiskit_qasm3_import ` to use this function. Install using the following command.\n",
    "\n",
    "```bash\n",
    "pip install qiskit-qasm3-import\n",
    "```\n",
    "\n",
    "Currently two high-level functions are available for importing from OpenQASM 3 into Qiskit. These functions are `load()`, which takes a file name, and `loads()`, which takes the program itself as a string:\n",
    "\n",
    "```python\n",
    "import qiskit.qasm3\n",
    "qiskit.qasm3.load(file_name)\n",
    "qiskit.qasm3.loads(program_string)\n",
    "```"
   ]
  },
  {
   "cell_type": "markdown",
   "id": "d3adad38-7523-427e-a358-b7068423f59c",
   "metadata": {},
   "source": [
    "In this example, we define a quantum program using OpenQASM 3, and use `loads()` to directly convert it into a QuantumCircuit:"
   ]
  },
  {
   "cell_type": "code",
   "execution_count": 10,
   "id": "e805197c-51fb-4216-8d24-ae26633d29bc",
   "metadata": {},
   "outputs": [
    {
     "data": {
      "text/plain": [
       "<Image src=\"/docs/images/guides/interoperate-qiskit-qasm3/extracted-outputs/e805197c-51fb-4216-8d24-ae26633d29bc-0.avif\" alt=\"Output of the previous code cell\" />"
      ]
     },
     "execution_count": 10,
     "metadata": {},
     "output_type": "execute_result"
    }
   ],
   "source": [
    "import qiskit.qasm3\n",
    "\n",
    "program = \"\"\"\n",
    "    OPENQASM 3.0;\n",
    "    include \"stdgates.inc\";\n",
    "\n",
    "    input float[64] a;\n",
    "    qubit[3] q;\n",
    "    bit[2] mid;\n",
    "    bit[3] out;\n",
    "\n",
    "    let aliased = q[0:1];\n",
    "\n",
    "    gate my_gate(a) c, t {\n",
    "      gphase(a / 2);\n",
    "      ry(a) c;\n",
    "      cx c, t;\n",
    "    }\n",
    "    gate my_phase(a) c {\n",
    "      ctrl @ inv @ gphase(a) c;\n",
    "    }\n",
    "\n",
    "    my_gate(a * 2) aliased[0], q[{1, 2}][0];\n",
    "    measure q[0] -> mid[0];\n",
    "    measure q[1] -> mid[1];\n",
    "\n",
    "    while (mid == \"00\") {\n",
    "      reset q[0];\n",
    "      reset q[1];\n",
    "      my_gate(a) q[0], q[1];\n",
    "      my_phase(a - pi/2) q[1];\n",
    "      mid[0] = measure q[0];\n",
    "      mid[1] = measure q[1];\n",
    "    }\n",
    "\n",
    "    if (mid[0]) {\n",
    "      let inner_alias = q[{0, 1}];\n",
    "      reset inner_alias;\n",
    "    }\n",
    "\n",
    "    out = measure q;\n",
    "\"\"\"\n",
    "circuit = qiskit.qasm3.loads(program)\n",
    "circuit.draw(\"mpl\")"
   ]
  },
  {
   "cell_type": "markdown",
   "id": "a81fcee5-a89c-4e6d-8a9d-53c7da1e6c0d",
   "metadata": {},
   "source": [
    "## Export to OpenQASM 3\n",
    "\n",
    "You can export Qiskit code to OpenQASM 3 with `dumps()`, which exports to a string, or `dump()`, which exports to a file.\n",
    "\n",
    "### Example with `dumps()`"
   ]
  },
  {
   "cell_type": "code",
   "execution_count": 7,
   "id": "68e8d8b2-468b-4a70-903a-679355f9b7ee",
   "metadata": {},
   "outputs": [
    {
     "data": {
      "text/plain": [
       "'OPENQASM 3.0;\\ninclude \"stdgates.inc\";\\nbit[2] meas;\\nqubit[2] q;\\nh q[0];\\ncx q[0], q[1];\\nbarrier q[0], q[1];\\nmeas[0] = measure q[0];\\nmeas[1] = measure q[1];\\n'"
      ]
     },
     "execution_count": 7,
     "metadata": {},
     "output_type": "execute_result"
    }
   ],
   "source": [
    "from qiskit import QuantumCircuit\n",
    "from qiskit.qasm3 import dumps\n",
    "\n",
    "qc = QuantumCircuit(2)\n",
    "qc.h(0)\n",
    "qc.cx(0, 1)\n",
    "qc.measure_all()\n",
    "\n",
    "dumps(qc)"
   ]
  },
  {
   "cell_type": "markdown",
   "id": "b7a54ec7-c08d-4390-8ce8-b5008c8312d3",
   "metadata": {},
   "source": [
    "### Example with `dump()`"
   ]
  },
  {
   "cell_type": "code",
   "execution_count": 3,
   "id": "cc93cc6f-08e0-420f-8fb4-64620a53dc5a",
   "metadata": {},
   "outputs": [],
   "source": [
    "from qiskit import QuantumCircuit\n",
    "from qiskit.qasm3 import dump\n",
    "\n",
    "qc = QuantumCircuit(2)\n",
    "qc.h(0)\n",
    "qc.cx(0, 1)\n",
    "qc.measure_all()\n",
    "\n",
    "f = open(\"my_file.txt\", \"w\")\n",
    "dump(qc, f)\n",
    "f.close()"
   ]
  },
  {
   "cell_type": "markdown",
   "id": "ef8e59ee-2889-4b73-9fe6-30d5e69f7164",
   "metadata": {},
   "source": [
    "For more information, see the [Exporting to OpenQASM 3](/docs/api/qiskit/qasm3#exporting-to-openqasm-3) section of the API reference.\n",
    "\n",
    "\n",
    "## Next steps\n",
    "\n",
    "<Admonition type=\"tip\" title=\"Recommendations\">\n",
    "    - Learn how to generate OpenQASM code in the [Explore gates and circuits with the Quantum Composer](https://learning.quantum.ibm.com/tutorial/explore-gates-and-circuits-with-the-quantum-composer) tutorial.\n",
    "    - Review the [OpenQASM 3 Qiskit API](/docs/api/qiskit/qasm3) reference.\n",
    "    - Visit the [Verify your program](./debugging-tools) topic.\n",
    "    - Review the [OpenQASM Live Specification](https://openqasm.com/).\n",
    "</Admonition>"
   ]
  }
 ],
 "metadata": {
  "description": "How to convert code between OpenQASM 3 and the Qiskit SDK.",
  "kernelspec": {
   "display_name": "Python 3",
   "language": "python",
   "name": "python3"
  },
  "language_info": {
   "codemirror_mode": {
    "name": "ipython",
    "version": 3
   },
   "file_extension": ".py",
   "mimetype": "text/x-python",
   "name": "python",
   "nbconvert_exporter": "python",
   "pygments_lexer": "ipython3",
   "version": "3"
  },
  "title": "OpenQASM 3 and the Qiskit SDK"
 },
 "nbformat": 4,
 "nbformat_minor": 4
}
