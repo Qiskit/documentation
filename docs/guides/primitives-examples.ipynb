{
 "cells": [
  {
   "cell_type": "markdown",
   "id": "915d2c66-aed3-47f1-a405-144348514dd3",
   "metadata": {},
   "source": [
    "# Primitives examples\n",
    "\n",
    "The examples in this section illustrate some common ways to use primitives. Before running these examples, follow the instructions in [Install and set up.](install-qiskit)\n",
    "\n",
    "<Admonition type=\"note\">\n",
    "    These examples all use the primitives from Qiskit Runtime, but you could use the base primitives instead.\n",
    "</Admonition>\n",
    "\n",
    "## Estimator examples\n",
    "\n",
    "Efficiently calculate and interpret expectation values of the quantum operators required for many algorithms with Estimator. Explore uses in molecular modeling, machine learning, and complex optimization problems.\n",
    "\n",
    "### Run a single experiment\n",
    "\n",
    "Use Estimator to determine the expectation value of a single circuit-observable pair."
   ]
  },
  {
   "cell_type": "code",
   "execution_count": 1,
   "id": "88d9d34b-2903-48b9-8f3c-398da05b487b",
   "metadata": {},
   "outputs": [
    {
     "name": "stdout",
     "output_type": "stream",
     "text": [
      " > Expectation value: 0.07947019867549669\n",
      " > Metadata: {'shots': 4096, 'target_precision': 0.015625, 'circuit_metadata': {}, 'resilience': {}, 'num_randomizations': 32}\n"
     ]
    }
   ],
   "source": [
    "import numpy as np\n",
    "from qiskit.circuit.library import IQP\n",
    "from qiskit.transpiler.preset_passmanagers import generate_preset_pass_manager\n",
    "from qiskit.quantum_info import SparsePauliOp, random_hermitian\n",
    "from qiskit_ibm_runtime import QiskitRuntimeService, EstimatorV2 as Estimator\n",
    "\n",
    "n_qubits = 50\n",
    "\n",
    "service = QiskitRuntimeService()\n",
    "backend = service.least_busy(\n",
    "    operational=True, simulator=False, min_num_qubits=n_qubits\n",
    ")\n",
    "\n",
    "mat = np.real(random_hermitian(n_qubits, seed=1234))\n",
    "circuit = IQP(mat)\n",
    "observable = SparsePauliOp(\"Z\" * 50)\n",
    "\n",
    "pm = generate_preset_pass_manager(backend=backend, optimization_level=1)\n",
    "isa_circuit = pm.run(circuit)\n",
    "isa_observable = observable.apply_layout(isa_circuit.layout)\n",
    "\n",
    "estimator = Estimator(backend)\n",
    "job = estimator.run([(isa_circuit, isa_observable)])\n",
    "result = job.result()\n",
    "\n",
    "print(f\" > Expectation value: {result[0].data.evs}\")\n",
    "print(f\" > Metadata: {result[0].metadata}\")"
   ]
  },
  {
   "cell_type": "markdown",
   "id": "191eb3ee-b0d7-4710-90d6-1839ab51719e",
   "metadata": {},
   "source": [
    "### Run multiple experiments in a single job\n",
    "\n",
    "Use Estimator to determine the expectation values of multiple circuit-observable pairs."
   ]
  },
  {
   "cell_type": "code",
   "execution_count": 2,
   "id": "6bd60dea-dde5-48a6-9b35-7d90a48692a1",
   "metadata": {},
   "outputs": [
    {
     "name": "stdout",
     "output_type": "stream",
     "text": [
      ">>> Expectation values for PUB 0: -0.13114754098360656\n",
      ">>> Standard errors for PUB 0: 0.2408078900370248\n",
      ">>> Expectation values for PUB 1: -0.07246376811594203\n",
      ">>> Standard errors for PUB 1: 0.23853463493109514\n",
      ">>> Expectation values for PUB 2: -0.0975609756097561\n",
      ">>> Standard errors for PUB 2: 0.310787104232706\n"
     ]
    }
   ],
   "source": [
    "import numpy as np\n",
    "from qiskit.circuit.library import IQP\n",
    "from qiskit.transpiler.preset_passmanagers import generate_preset_pass_manager\n",
    "from qiskit.quantum_info import SparsePauliOp, random_hermitian\n",
    "from qiskit_ibm_runtime import QiskitRuntimeService, EstimatorV2 as Estimator\n",
    "\n",
    "n_qubits = 50\n",
    "\n",
    "service = QiskitRuntimeService()\n",
    "backend = service.least_busy(\n",
    "    operational=True, simulator=False, min_num_qubits=n_qubits\n",
    ")\n",
    "\n",
    "rng = np.random.default_rng()\n",
    "mats = [np.real(random_hermitian(n_qubits, seed=rng)) for _ in range(3)]\n",
    "\n",
    "pubs = []\n",
    "circuits = [IQP(mat) for mat in mats]\n",
    "observables = [\n",
    "    SparsePauliOp(\"X\" * 50),\n",
    "    SparsePauliOp(\"Y\" * 50),\n",
    "    SparsePauliOp(\"Z\" * 50),\n",
    "]\n",
    "\n",
    "# Get ISA circuits\n",
    "pm = generate_preset_pass_manager(optimization_level=1, backend=backend)\n",
    "\n",
    "for qc, obs in zip(circuits, observables):\n",
    "    isa_circuit = pm.run(qc)\n",
    "    isa_obs = obs.apply_layout(isa_circuit.layout)\n",
    "    pubs.append((isa_circuit, isa_obs))\n",
    "\n",
    "estimator = Estimator(backend)\n",
    "job = estimator.run(pubs)\n",
    "job_result = job.result()\n",
    "\n",
    "for idx in range(len(pubs)):\n",
    "    pub_result = job_result[idx]\n",
    "    print(f\">>> Expectation values for PUB {idx}: {pub_result.data.evs}\")\n",
    "    print(f\">>> Standard errors for PUB {idx}: {pub_result.data.stds}\")"
   ]
  },
  {
   "cell_type": "markdown",
   "id": "36995a0d-a912-4a55-8ed5-20525d248237",
   "metadata": {},
   "source": [
    "### Run parameterized circuits\n",
    "\n",
    "Use Estimator to run three experiments in a single job, leveraging parameter values to increase circuit reusability."
   ]
  },
  {
   "cell_type": "code",
   "execution_count": 3,
   "id": "c80000d6-b8fe-419c-9d4c-874190b9b8b7",
   "metadata": {},
   "outputs": [
    {
     "name": "stdout",
     "output_type": "stream",
     "text": [
      ">>> Expectation values: [[ 1.18903536  1.1177276   0.91554577  0.68186252  0.34823386  0.00229101\n",
      "  -0.39892251 -0.72109611 -0.95477936 -1.12030499 -1.19562202 -1.11515021\n",
      "  -0.94991095 -0.67212572 -0.34909299  0.046393    0.38546281  0.71479582\n",
      "   0.97912136  1.1360557   1.17786667]\n",
      " [ 0.04897039  0.40980482  0.7431471   0.97339383  1.11830036  1.1824487\n",
      "   1.09882675  0.93645126  0.65379762  0.34880662 -0.03236055 -0.39204947\n",
      "  -0.71794596 -0.95392023 -1.11744123 -1.17901218 -1.10197689 -0.93272836\n",
      "  -0.64291531 -0.32074172  0.03980634]\n",
      " [-0.02548751 -0.35281589 -0.63432402 -0.8505383  -0.99057642 -1.03926043\n",
      "  -1.0005996  -0.84738816 -0.59251304 -0.30642289  0.01746897  0.34880662\n",
      "   0.63833329  0.86113423  1.01463205  1.01635031  0.99344019  0.84481077\n",
      "   0.61685505  0.31816433 -0.03207417]\n",
      " [ 1.0323874   0.98083962  0.85311569  0.58993565  0.27893074 -0.01918723\n",
      "  -0.35711153 -0.64491995 -0.87058466 -0.99315381 -1.04985636 -0.98742628\n",
      "  -0.82533716 -0.58592638 -0.27549422  0.04209735  0.34508372  0.66267529\n",
      "   0.84481077  1.00747264  1.05816128]]\n",
      ">>> Standard errors: [[0.02880057 0.02740108 0.02242913 0.02115748 0.01685259 0.01330352\n",
      "  0.01519772 0.02115458 0.02450983 0.0269428  0.02851411 0.02708907\n",
      "  0.0248141  0.02067232 0.01559776 0.01538836 0.01647299 0.01980134\n",
      "  0.02537872 0.027293   0.02845196]\n",
      " [0.01502674 0.01639165 0.02051295 0.02517575 0.02695761 0.02876878\n",
      "  0.02708217 0.02363407 0.02055512 0.01468482 0.01459554 0.01489603\n",
      "  0.02189904 0.02396938 0.02722675 0.02837726 0.02711532 0.02378593\n",
      "  0.02007106 0.01819635 0.01393624]\n",
      " [0.01550817 0.01512453 0.01897077 0.02241952 0.02475459 0.02611027\n",
      "  0.02692051 0.02201799 0.01892962 0.0189197  0.01511471 0.01548404\n",
      "  0.02164018 0.02271247 0.02530711 0.02596959 0.02392701 0.02266129\n",
      "  0.02080356 0.0143658  0.01578575]\n",
      " [0.02579093 0.02681785 0.02264966 0.01979808 0.01471271 0.01224418\n",
      "  0.01633205 0.02032791 0.02277559 0.02583102 0.02574086 0.02478286\n",
      "  0.02322314 0.01777863 0.01773095 0.01684972 0.01391072 0.02406257\n",
      "  0.02340545 0.02504539 0.02627261]]\n",
      ">>> Metadata: {'shots': 10016, 'target_precision': 0.01, 'circuit_metadata': {}, 'resilience': {}, 'num_randomizations': 32}\n"
     ]
    }
   ],
   "source": [
    "import numpy as np\n",
    "\n",
    "from qiskit.circuit import QuantumCircuit, Parameter\n",
    "from qiskit.quantum_info import SparsePauliOp\n",
    "from qiskit.transpiler.preset_passmanagers import generate_preset_pass_manager\n",
    "from qiskit_ibm_runtime import QiskitRuntimeService, EstimatorV2 as Estimator\n",
    "\n",
    "service = QiskitRuntimeService()\n",
    "backend = service.least_busy(operational=True, simulator=False)\n",
    "\n",
    "# Step 1: Map classical inputs to a quantum problem\n",
    "theta = Parameter(\"θ\")\n",
    "\n",
    "chsh_circuit = QuantumCircuit(2)\n",
    "chsh_circuit.h(0)\n",
    "chsh_circuit.cx(0, 1)\n",
    "chsh_circuit.ry(theta, 0)\n",
    "\n",
    "number_of_phases = 21\n",
    "phases = np.linspace(0, 2 * np.pi, number_of_phases)\n",
    "individual_phases = [[ph] for ph in phases]\n",
    "\n",
    "ZZ = SparsePauliOp.from_list([(\"ZZ\", 1)])\n",
    "ZX = SparsePauliOp.from_list([(\"ZX\", 1)])\n",
    "XZ = SparsePauliOp.from_list([(\"XZ\", 1)])\n",
    "XX = SparsePauliOp.from_list([(\"XX\", 1)])\n",
    "ops = [ZZ, ZX, XZ, XX]\n",
    "\n",
    "# Step 2: Optimize problem for quantum execution.\n",
    "\n",
    "pm = generate_preset_pass_manager(backend=backend, optimization_level=1)\n",
    "chsh_isa_circuit = pm.run(chsh_circuit)\n",
    "isa_observables = [\n",
    "    operator.apply_layout(chsh_isa_circuit.layout) for operator in ops\n",
    "]\n",
    "\n",
    "# Step 3: Execute using Qiskit primitives.\n",
    "\n",
    "# Reshape observable array for broadcasting\n",
    "reshaped_ops = np.fromiter(isa_observables, dtype=object)\n",
    "reshaped_ops = reshaped_ops.reshape((4, 1))\n",
    "\n",
    "estimator = Estimator(backend, options={\"default_shots\": int(1e4)})\n",
    "job = estimator.run([(chsh_isa_circuit, reshaped_ops, individual_phases)])\n",
    "# Get results for the first (and only) PUB\n",
    "pub_result = job.result()[0]\n",
    "print(f\">>> Expectation values: {pub_result.data.evs}\")\n",
    "print(f\">>> Standard errors: {pub_result.data.stds}\")\n",
    "print(f\">>> Metadata: {pub_result.metadata}\")"
   ]
  },
  {
   "cell_type": "markdown",
   "id": "c7978aa5-da67-4f93-927d-277802ae5437",
   "metadata": {},
   "source": [
    "### Use sessions and advanced options\n",
    "\n",
    "Explore sessions and advanced options to optimize circuit performance on QPUs."
   ]
  },
  {
   "cell_type": "code",
   "execution_count": 4,
   "id": "cbe2bed7-e5c1-4264-ac42-1c267ff1af3b",
   "metadata": {},
   "outputs": [
    {
     "name": "stdout",
     "output_type": "stream",
     "text": [
      " > Expectation value: 0.0\n",
      " > Metadata: {'shots': 4096, 'target_precision': 0.015625, 'circuit_metadata': {}, 'resilience': {}, 'num_randomizations': 32}\n",
      " > Another Expectation value: 0.09574468085106383\n",
      " > More Metadata: {'shots': 4096, 'target_precision': 0.015625, 'circuit_metadata': {}, 'resilience': {}, 'num_randomizations': 32}\n"
     ]
    }
   ],
   "source": [
    "import numpy as np\n",
    "from qiskit.circuit.library import IQP\n",
    "from qiskit.transpiler.preset_passmanagers import generate_preset_pass_manager\n",
    "from qiskit.quantum_info import SparsePauliOp, random_hermitian\n",
    "from qiskit_ibm_runtime import (\n",
    "    QiskitRuntimeService,\n",
    "    Session,\n",
    "    EstimatorV2 as Estimator,\n",
    ")\n",
    "\n",
    "n_qubits = 50\n",
    "\n",
    "service = QiskitRuntimeService()\n",
    "backend = service.least_busy(\n",
    "    operational=True, simulator=False, min_num_qubits=n_qubits\n",
    ")\n",
    "\n",
    "rng = np.random.default_rng(1234)\n",
    "mat = np.real(random_hermitian(n_qubits, seed=rng))\n",
    "circuit = IQP(mat)\n",
    "mat = np.real(random_hermitian(n_qubits, seed=rng))\n",
    "another_circuit = IQP(mat)\n",
    "observable = SparsePauliOp(\"X\" * 50)\n",
    "another_observable = SparsePauliOp(\"Y\" * 50)\n",
    "\n",
    "pm = generate_preset_pass_manager(optimization_level=1, backend=backend)\n",
    "isa_circuit = pm.run(circuit)\n",
    "another_isa_circuit = pm.run(another_circuit)\n",
    "isa_observable = observable.apply_layout(isa_circuit.layout)\n",
    "another_isa_observable = another_observable.apply_layout(\n",
    "    another_isa_circuit.layout\n",
    ")\n",
    "\n",
    "with Session(backend=backend) as session:\n",
    "    estimator = Estimator(mode=session)\n",
    "\n",
    "    estimator.options.resilience_level = 1\n",
    "\n",
    "    job = estimator.run([(isa_circuit, isa_observable)])\n",
    "    another_job = estimator.run(\n",
    "        [(another_isa_circuit, another_isa_observable)]\n",
    "    )\n",
    "    result = job.result()\n",
    "    another_result = another_job.result()\n",
    "\n",
    "    # first job\n",
    "    print(f\" > Expectation value: {result[0].data.evs}\")\n",
    "    print(f\" > Metadata: {result[0].metadata}\")\n",
    "\n",
    "    # second job\n",
    "    print(f\" > Another Expectation value: {another_result[0].data.evs}\")\n",
    "    print(f\" > More Metadata: {another_result[0].metadata}\")"
   ]
  },
  {
   "cell_type": "markdown",
   "id": "3a60b53b-418a-44fe-92d2-b1ba5d967c84",
   "metadata": {},
   "source": [
    "<span id=\"sampler-examples\"></span>\n",
    "## Sampler examples\n",
    "\n",
    "Generate entire error-mitigated quasi-probability distributions sampled from quantum circuit outputs. Leverage Sampler’s capabilities for search and classification algorithms like Grover’s and QVSM.\n",
    "\n",
    "### Run a single experiment\n",
    "\n",
    "Use Sampler to return the measurement outcome as bitstrings or counts of a single circuit."
   ]
  },
  {
   "cell_type": "code",
   "execution_count": 5,
   "id": "012cfeea-3af3-46bb-9e64-15bb052bbcd2",
   "metadata": {
    "scrolled": true
   },
   "outputs": [
    {
     "name": "stdout",
     "output_type": "stream",
     "text": [
      " > First ten results: ['0001011110000100101011000111100101011001010011100111110101110010000010100000011101111100000000001011100011001000000000000001000', '0011011010001001111010000011010010110000000010101100010010010110000000100001001000000000100000110011010101000000000010000000000', '0110000100111111110001001010000000001000100000100000100000000010010000001001000100010001100011110010010010001101000010000001101', '0101000100001110110000101000111010110101000110011000110110100010000001100000011000000000010001000101001100010100000100100000011', '0011111101101100011100111111011100111010100011000001100111010001010100111000011000011101100101111110100001000101001010100111000', '0011010110100100110101100011010010100100100000101110110010000010100010100000000110010000110000000100100001001101010100000000001', '0110010111100000010110000011111001010000000110011000000010110011100011110011010001110000000001100000111000001101000011000000001', '1100000110111000110000010111011100100000100010001000000110010000100000000011001001001001001001100001100000000100001100000000001', '0101100111010110110100111001010101111101100110101000010001010110000101100000010001000000011101110000000010001011001110000100010', '1111100001111101110011001110111101000110000100111010110010110011000011001000011000000000000000010010001000000000011000000001000']\n"
     ]
    }
   ],
   "source": [
    "import numpy as np\n",
    "from qiskit.circuit.library import IQP\n",
    "from qiskit.transpiler.preset_passmanagers import generate_preset_pass_manager\n",
    "from qiskit.quantum_info import random_hermitian\n",
    "from qiskit_ibm_runtime import QiskitRuntimeService, SamplerV2 as Sampler\n",
    "\n",
    "n_qubits = 127\n",
    "\n",
    "service = QiskitRuntimeService()\n",
    "backend = service.least_busy(\n",
    "    operational=True, simulator=False, min_num_qubits=n_qubits\n",
    ")\n",
    "\n",
    "mat = np.real(random_hermitian(n_qubits, seed=1234))\n",
    "circuit = IQP(mat)\n",
    "circuit.measure_all()\n",
    "\n",
    "pm = generate_preset_pass_manager(backend=backend, optimization_level=1)\n",
    "isa_circuit = pm.run(circuit)\n",
    "\n",
    "sampler = Sampler(backend)\n",
    "job = sampler.run([isa_circuit])\n",
    "result = job.result()\n",
    "\n",
    "# Get results for the first (and only) PUB\n",
    "pub_result = result[0]\n",
    "\n",
    "print(f\" > First ten results: {pub_result.data.meas.get_bitstrings()[:10]}\")"
   ]
  },
  {
   "cell_type": "markdown",
   "id": "a5c3d65c-9d14-4b4e-800c-6e3e231e335c",
   "metadata": {},
   "source": [
    "### Run multiple experiments in a single job\n",
    "\n",
    "Use Sampler to return the measurement outcome as bitstrings or counts of multiple circuits in one job."
   ]
  },
  {
   "cell_type": "code",
   "execution_count": 6,
   "id": "b5372b7e-8bc2-4f2e-8f65-03dcd368faeb",
   "metadata": {},
   "outputs": [
    {
     "name": "stdout",
     "output_type": "stream",
     "text": [
      " > First ten results for pub 0: ['0100001000101001011111011111001111001000101000000000011100010010011001010000000010111001001101010001010000100010010011100001111', '0000000111000111001110111011101110011011001101001101000011011010000011001100100010001110001100010010010001001010001101001111001', '1100000010000011010100000111110010110001011010100011110010110010100011011010010100001100001111001000100011110000000001110001100', '0100000000001100010100101110000010000000000111100110010001011111100111000000100000010001100101000000100101101100000011001001100', '0000100111001011101010111001110100001011010011000011011111010110000000001000010010011101101010111000101110001011000101110111000', '1010001011000111110100001100011010111111001101101110001101001100001100011010000100110100001100000001100101010011000010101010110', '1110011101001011110000000000100010010001101000111001011000011000001001010010010111011011111101010000011000011011101011110010101', '1010001001000011001011011111111100010011101111101000110011001010111000001000110000000001100000010000100100100011000001010010101', '0100000000000001100011011101101001001011011100000101100100000011111011010100110110101000110011010010100110010100001000011000101', '1000101011001110010001011111100001001111001010110011000001010100011000000000100110001110011010101011011101100110100010101111001']\n",
      " > First ten results for pub 1: ['0000000001001011111011110111000110000001110110100001100011000010000101101010010100001110110100000101111000000101110001011000001', '0000111100100100001100000001110000111010010000101100000001110001001111000111000011011010010011110010010110010010100001000100010', '0100000110110111010101111010111000101000001010110010010010010100010100101010100111010110101110001101000000100001100000010100000', '1100101010001111000011011101111010001010101100100000010100011011000011000001100000110100111010111101010100100111000000111100001', '0100100010000011010000000100001100010011110001111110000011000001110001001110110111010001110011001000010010100110000000100110100', '1100000100111011000111000011110000110000101010100110001001000110010101010110010111111110111100110111011000000000010100010010011', '0100100011101011010001110110101000001001010100111001001101000011010110010100100011111110101111100111011010100110100000000100001', '1000110001000000011001001111100100111001101011110111000010000011100101000110011111001001010100001111111010100010010000001000110', '0101100000101001000010010011111110010101100011100100011111000010001110100000000100000001101001111010100011100101010000001010000', '0001110101010100010001011010011010110010010001111001000000001000010001000000000011100110111101000110110110000011101000011000000']\n",
      " > First ten results for pub 2: ['0010100001010011110001111011000001101000001111001000110110100000100000100001000011010110000000000101001011001101001000100001000', '1111111111101110100101111001000010001111110000000001100100000111000011110001110000010001011000010011010101001111010000100011100', '0101100010111000001000000000101010110111101000100110111010100001100000000000001001010011010001011101110001111011111100001000000', '1110000111011011111111001101000111100000100101000110000100000100000100000011010001001111000000001001010010110011010000001001011', '1111101011101001101100111001000111100010100101100010001100000010000101110110000101011000001101000110010111001001100010111010100', '0001100111100000111111001010000001101111101000101110101001010101100001001001000010010000000010011001000000000001010001000000001', '0010110111111001101111001111111111001101101000111111101011110101100100001100001010000010001110011100000010010100011000000001101', '0010110000100101110111111000000111101110001001111101001011101000000101001001001001100010000000110001001010100111110000001001110', '1101001101001001110010100101000100110001000000100011101111100100010000110000010101000010001000101110011100001111111001001000111', '1111011010101000001000111101000001000001001000001110010101110010010011100001000010101000000000101011000111000100100010100011001']\n"
     ]
    }
   ],
   "source": [
    "import numpy as np\n",
    "from qiskit.circuit.library import IQP\n",
    "from qiskit.transpiler.preset_passmanagers import generate_preset_pass_manager\n",
    "from qiskit.quantum_info import random_hermitian\n",
    "from qiskit_ibm_runtime import QiskitRuntimeService, SamplerV2 as Sampler\n",
    "\n",
    "n_qubits = 127\n",
    "\n",
    "service = QiskitRuntimeService()\n",
    "backend = service.least_busy(\n",
    "    operational=True, simulator=False, min_num_qubits=n_qubits\n",
    ")\n",
    "\n",
    "rng = np.random.default_rng()\n",
    "mats = [np.real(random_hermitian(n_qubits, seed=rng)) for _ in range(3)]\n",
    "circuits = [IQP(mat) for mat in mats]\n",
    "for circuit in circuits:\n",
    "    circuit.measure_all()\n",
    "\n",
    "pm = generate_preset_pass_manager(backend=backend, optimization_level=1)\n",
    "isa_circuits = pm.run(circuits)\n",
    "\n",
    "sampler = Sampler(backend)\n",
    "job = sampler.run(isa_circuits)\n",
    "result = job.result()\n",
    "\n",
    "for idx, pub_result in enumerate(result):\n",
    "    print(\n",
    "        f\" > First ten results for pub {idx}: {pub_result.data.meas.get_bitstrings()[:10]}\"\n",
    "    )"
   ]
  },
  {
   "cell_type": "markdown",
   "id": "36337791-94ff-4ed5-aa26-808c470eb728",
   "metadata": {},
   "source": [
    "### Run parameterized circuits\n",
    "\n",
    "Run several experiments in a single job, leveraging parameter values to increase circuit reusability."
   ]
  },
  {
   "cell_type": "code",
   "execution_count": 7,
   "id": "ea6c113e-15db-47a1-be34-459e68d1db4e",
   "metadata": {},
   "outputs": [
    {
     "name": "stdout",
     "output_type": "stream",
     "text": [
      " >> First ten results for the meas output register: ['0101000100001110110001010110010110000001001110100101111010101100000011111101000011010010011100001011101110101110110111010001001', '1110111111010000101010110100111110100001000011000000101000011101110000000111100001000000011001110101110001100000011111000001111', '0100110111011011111011000010111111100011100000010011011101011110010010110011101010000110011101111001110101011100001101001010101', '0000010001011011101001001110111101100010001100001011111111111001110001101001100000000010011001110111101111011100010011010000101', '0001001011110111001001101101110110001000000000011010111111001010011111101101001000000100000100110111111101101000100010011110000', '0001101101010111100100001110100111001001011011000011001011010100100000111101010100110010011001101001010111101010010010010111101', '0000100000000111100010000111011000100000000100000101001110000011000000101010100011001000000000111101110111000110100001000101101', '0101011001101111110111110111111010110110100001101011010111101000110011000110010000110100111110101101001100011101011111001110011', '0011011010010010110000111001010011100010000101000011101010111000011101001001100110100101010010100111100010101010010001010011111', '0001000011111111111011100100111000000101101001010001101010011000001100110100110000010001011110001000001000011111000001000110101']\n"
     ]
    }
   ],
   "source": [
    "import numpy as np\n",
    "from qiskit.circuit.library import RealAmplitudes\n",
    "from qiskit.transpiler.preset_passmanagers import generate_preset_pass_manager\n",
    "from qiskit_ibm_runtime import QiskitRuntimeService, SamplerV2 as Sampler\n",
    "\n",
    "n_qubits = 127\n",
    "\n",
    "service = QiskitRuntimeService()\n",
    "backend = service.least_busy(\n",
    "    operational=True, simulator=False, min_num_qubits=n_qubits\n",
    ")\n",
    "\n",
    "# Step 1: Map classical inputs to a quantum problem\n",
    "circuit = RealAmplitudes(num_qubits=n_qubits, reps=2)\n",
    "circuit.measure_all()\n",
    "\n",
    "# Define three sets of parameters for the circuit\n",
    "rng = np.random.default_rng(1234)\n",
    "parameter_values = [\n",
    "    rng.uniform(-np.pi, np.pi, size=circuit.num_parameters) for _ in range(3)\n",
    "]\n",
    "\n",
    "# Step 2: Optimize problem for quantum execution.\n",
    "\n",
    "pm = generate_preset_pass_manager(backend=backend, optimization_level=1)\n",
    "isa_circuit = pm.run(circuit)\n",
    "\n",
    "# Step 3: Execute using Qiskit primitives.\n",
    "sampler = Sampler(backend)\n",
    "job = sampler.run([(isa_circuit, parameter_values)])\n",
    "result = job.result()\n",
    "# Get results for the first (and only) PUB\n",
    "pub_result = result[0]\n",
    "# Get counts from the classical register \"meas\".\n",
    "print(\n",
    "    f\" >> First ten results for the meas output register: {pub_result.data.meas.get_bitstrings()[:10]}\"\n",
    ")"
   ]
  },
  {
   "cell_type": "markdown",
   "id": "1f144ac9-5f64-4aca-8cc4-8cf9362c5666",
   "metadata": {},
   "source": [
    "### Use sessions and advanced options\n",
    "\n",
    "Explore sessions and advanced options to optimize circuit performance on QPUs."
   ]
  },
  {
   "cell_type": "code",
   "execution_count": 8,
   "id": "d6248dcb-2ba9-4a06-a9ef-727db7092093",
   "metadata": {
    "scrolled": true
   },
   "outputs": [
    {
     "name": "stdout",
     "output_type": "stream",
     "text": [
      " > The first ten measurement results of job 1: ['0110000010111000101001010110111001001001001001010100000000001110111100111001010000100100101110110111001001001100001001000010000', '1101000001000111010001110111011110000100111000010001100000000010010010110101010111100000000001000110101010001000000101001010111', '1111101101101000111011001100110010110000001111010000100011000101001010111110000000001010000010010100000110110000101000000010000', '0100100010010100001101000011000000001001000101010010010001011000010110011011000100000101001000110111000101000111101010001100011', '1100101000101001000100001001101000001001100001011001111001001000001000011000000100000000000110100001100010100101011001111010010', '1011100110100100001100010110001001101000010010011001000000001010000010000100100001001100000110000010000010001010001000000010111', '1011100111010001000001111111010000011101100100011001101100110110011100111000000100010101001000010010001001011101100000000110010', '1101001110100110101000111011000101101000100100111001000100011010001100010111100000001101001010100000011000000110001100101000010', '1011101100110010110010100010010101101111101101111000010110011111110100100001000100101000001000011111101100100100101100010010000', '1100010101111011110011110111000000001100101101000001010000010011001010001110011100100110001100000010101100000001100100000000000']\n"
     ]
    }
   ],
   "source": [
    "import numpy as np\n",
    "from qiskit.circuit.library import IQP\n",
    "from qiskit.quantum_info import random_hermitian\n",
    "from qiskit.transpiler.preset_passmanagers import generate_preset_pass_manager\n",
    "from qiskit_ibm_runtime import Session, SamplerV2 as Sampler\n",
    "from qiskit_ibm_runtime import QiskitRuntimeService\n",
    "\n",
    "n_qubits = 127\n",
    "\n",
    "service = QiskitRuntimeService()\n",
    "backend = service.least_busy(\n",
    "    operational=True, simulator=False, min_num_qubits=n_qubits\n",
    ")\n",
    "\n",
    "rng = np.random.default_rng(1234)\n",
    "mat = np.real(random_hermitian(n_qubits, seed=rng))\n",
    "circuit = IQP(mat)\n",
    "circuit.measure_all()\n",
    "mat = np.real(random_hermitian(n_qubits, seed=rng))\n",
    "another_circuit = IQP(mat)\n",
    "another_circuit.measure_all()\n",
    "\n",
    "pm = generate_preset_pass_manager(backend=backend, optimization_level=1)\n",
    "isa_circuit = pm.run(circuit)\n",
    "another_isa_circuit = pm.run(another_circuit)\n",
    "\n",
    "with Session(backend=backend) as session:\n",
    "    sampler = Sampler(mode=session)\n",
    "    job = sampler.run([isa_circuit])\n",
    "    another_job = sampler.run([another_isa_circuit])\n",
    "    result = job.result()\n",
    "    another_result = another_job.result()\n",
    "\n",
    "# first job\n",
    "\n",
    "print(\n",
    "    f\" > The first ten measurement results of job 1: {result[0].data.meas.get_bitstrings()[:10]}\"\n",
    ")"
   ]
  },
  {
   "cell_type": "code",
   "execution_count": 9,
   "id": "e81eb3e4-632a-49da-a926-6e79f8640867",
   "metadata": {},
   "outputs": [
    {
     "name": "stdout",
     "output_type": "stream",
     "text": [
      " > The first ten measurement results of job 2: ['1100111000010111110100001000010100110100110010001110101000100010001010010101010111011011011011100011001100000111100000011100011', '0001101001011011011100011001010011011001101110001001111010010110000110000000010101000010000100000001000000000011100100000000000', '0011000000000001000010110010100100010101100100001001101110000000001001101001010110001001101001001000001001111001101000100101000', '0110011000100000100110001011001000000101100010100011000000001000000000001000100111000001110100011000010000100010000000100110001', '0000011010010111001010001010001101101111100000011111110000110011101011011101010010000001111000111001001000100000000100110000001', '0110100100001100101000100110011100110101000010001001111100111100100001001011000100000111100001010011000000000001111101110001001', '0010111100101001001100100001111101010001001001000110001010000101100000001001000001011000010010000001001000001010101101100000001', '1110111101000111101000000100010100010100110010011000000110110111101110001010010010010111111011000011001000001001101000101100010', '1001010101000101101100000110010000110000001010000011001100000110100011001101110000001001111000000000001101000001100000100001001', '1000100011011111111101001000001101011000111010001001010010011101100101010001001100011100111000000000101100000011110000111111000']\n"
     ]
    }
   ],
   "source": [
    "# second job\n",
    "print(\n",
    "    \" > The first ten measurement results of job 2:\",\n",
    "    another_result[0].data.meas.get_bitstrings()[:10],\n",
    ")"
   ]
  },
  {
   "cell_type": "markdown",
   "id": "9484b7b7-e474-4291-b3ee-ace64f7cf126",
   "metadata": {},
   "source": [
    "## Next steps\n",
    "\n",
    "<Admonition type=\"tip\" title=\"Recommendations\">\n",
    "    - [Specify advanced runtime options.](runtime-options-overview)\n",
    "    - Practice with primitives by working through the [Cost function lesson](https://learning.quantum.ibm.com/course/variational-algorithm-design/cost-functions#primitives) in IBM Quantum Learning.\n",
    "    - Learn how to transpile locally in the [Transpile](./transpile/) section.\n",
    "    - Try the [Submit pre-transpiled circuits](https://learning.quantum.ibm.com/tutorial/submitting-user-transpiled-circuits-using-primitives) tutorial.\n",
    "    - Read [Migrate to V2 primitives](/migration-guides/v2-primitives).\n",
    "    - Understand the [Job limits](/guides/job-limits) when sending a job to an IBM&reg; QPU.\n",
    "</Admonition>"
   ]
  }
 ],
 "metadata": {
  "description": "Practical examples of using primitives in Qiskit Runtime.",
  "kernelspec": {
   "display_name": "Python 3",
   "language": "python",
   "name": "python3"
  },
  "language_info": {
   "codemirror_mode": {
    "name": "ipython",
    "version": 3
   },
   "file_extension": ".py",
   "mimetype": "text/x-python",
   "name": "python",
   "nbconvert_exporter": "python",
   "pygments_lexer": "ipython3",
   "version": "3"
  },
  "title": "Primitives examples"
 },
 "nbformat": 4,
 "nbformat_minor": 4
}
