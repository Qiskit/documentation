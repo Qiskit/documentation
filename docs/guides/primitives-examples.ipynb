{
 "cells": [
  {
   "cell_type": "markdown",
   "id": "1f4a2ec4-3595-4300-8f9e-092b0ef9b444",
   "metadata": {},
   "source": [
    "# Primitives examples"
   ]
  },
  {
   "cell_type": "markdown",
   "id": "b4121e48",
   "metadata": {
    "tags": [
     "version-info"
    ]
   },
   "source": [
    "<details>\n",
    "<summary><b>Package versions</b></summary>\n",
    "\n",
    "The code on this page was developed using the following requirements.\n",
    "We recommend using these versions or newer.\n",
    "\n",
    "```\n",
    "qiskit[all]~=2.1.1\n",
    "qiskit-ibm-runtime~=0.40.1\n",
    "```\n",
    "</details>"
   ]
  },
  {
   "cell_type": "markdown",
   "id": "bae32e60",
   "metadata": {},
   "source": [
    "The examples in this section illustrate some common ways to use primitives. Before running these examples, follow the instructions in [Install and set up.](install-qiskit)\n",
    "\n",
    "<Admonition type=\"note\">\n",
    "    These examples all use the primitives from Qiskit Runtime, but you could use the base primitives instead.\n",
    "</Admonition>\n",
    "\n",
    "## Estimator examples\n",
    "\n",
    "Efficiently calculate and interpret expectation values of the quantum operators required for many algorithms with Estimator. Explore uses in molecular modeling, machine learning, and complex optimization problems.\n",
    "\n",
    "### Run a single experiment\n",
    "\n",
    "Use Estimator to determine the expectation value of a single circuit-observable pair."
   ]
  },
  {
   "cell_type": "code",
   "execution_count": 1,
   "id": "24573866-7cf2-40e1-b61c-a2bdcecb759b",
   "metadata": {},
   "outputs": [
    {
     "name": "stdout",
     "output_type": "stream",
     "text": [
      " > Expectation value: -1.2273972602739727\n",
      " > Metadata: {'shots': 4096, 'target_precision': 0.015625, 'circuit_metadata': {}, 'resilience': {}, 'num_randomizations': 32}\n"
     ]
    }
   ],
   "source": [
    "import numpy as np\n",
    "from qiskit.circuit.library import iqp\n",
    "from qiskit.transpiler import generate_preset_pass_manager\n",
    "from qiskit.quantum_info import SparsePauliOp, random_hermitian\n",
    "from qiskit_ibm_runtime import QiskitRuntimeService, EstimatorV2 as Estimator\n",
    "\n",
    "n_qubits = 50\n",
    "\n",
    "service = QiskitRuntimeService()\n",
    "backend = service.least_busy(\n",
    "    operational=True, simulator=False, min_num_qubits=n_qubits\n",
    ")\n",
    "\n",
    "mat = np.real(random_hermitian(n_qubits, seed=1234))\n",
    "circuit = iqp(mat)\n",
    "observable = SparsePauliOp(\"Z\" * 50)\n",
    "\n",
    "pm = generate_preset_pass_manager(backend=backend, optimization_level=1)\n",
    "isa_circuit = pm.run(circuit)\n",
    "isa_observable = observable.apply_layout(isa_circuit.layout)\n",
    "\n",
    "estimator = Estimator(mode=backend)\n",
    "job = estimator.run([(isa_circuit, isa_observable)])\n",
    "result = job.result()\n",
    "\n",
    "print(f\" > Expectation value: {result[0].data.evs}\")\n",
    "print(f\" > Metadata: {result[0].metadata}\")"
   ]
  },
  {
   "cell_type": "markdown",
   "id": "63769604-ec9e-4ff3-823d-e60f4eb8a877",
   "metadata": {},
   "source": [
    "### Run multiple experiments in a single job\n",
    "\n",
    "Use Estimator to determine the expectation values of multiple circuit-observable pairs."
   ]
  },
  {
   "cell_type": "code",
   "execution_count": 2,
   "id": "bf4668bd-aaaf-4b23-af4b-4df767bd6d1a",
   "metadata": {},
   "outputs": [
    {
     "name": "stdout",
     "output_type": "stream",
     "text": [
      ">>> Expectation values for PUB 0: 0.632688927943761\n",
      ">>> Standard errors for PUB 0: 0.4715564234366815\n",
      ">>> Expectation values for PUB 1: 1.4936708860759493\n",
      ">>> Standard errors for PUB 1: 0.8687961624902536\n",
      ">>> Expectation values for PUB 2: -0.22442244224422442\n",
      ">>> Standard errors for PUB 2: 0.3418113957354878\n"
     ]
    }
   ],
   "source": [
    "import numpy as np\n",
    "from qiskit.circuit.library import iqp\n",
    "from qiskit.transpiler import generate_preset_pass_manager\n",
    "from qiskit.quantum_info import SparsePauliOp, random_hermitian\n",
    "from qiskit_ibm_runtime import QiskitRuntimeService, EstimatorV2 as Estimator\n",
    "\n",
    "n_qubits = 50\n",
    "\n",
    "service = QiskitRuntimeService()\n",
    "backend = service.least_busy(\n",
    "    operational=True, simulator=False, min_num_qubits=n_qubits\n",
    ")\n",
    "\n",
    "rng = np.random.default_rng()\n",
    "mats = [np.real(random_hermitian(n_qubits, seed=rng)) for _ in range(3)]\n",
    "\n",
    "pubs = []\n",
    "circuits = [iqp(mat) for mat in mats]\n",
    "observables = [\n",
    "    SparsePauliOp(\"X\" * 50),\n",
    "    SparsePauliOp(\"Y\" * 50),\n",
    "    SparsePauliOp(\"Z\" * 50),\n",
    "]\n",
    "\n",
    "# Get ISA circuits\n",
    "pm = generate_preset_pass_manager(optimization_level=1, backend=backend)\n",
    "\n",
    "for qc, obs in zip(circuits, observables):\n",
    "    isa_circuit = pm.run(qc)\n",
    "    isa_obs = obs.apply_layout(isa_circuit.layout)\n",
    "    pubs.append((isa_circuit, isa_obs))\n",
    "\n",
    "estimator = Estimator(backend)\n",
    "job = estimator.run(pubs)\n",
    "job_result = job.result()\n",
    "\n",
    "for idx in range(len(pubs)):\n",
    "    pub_result = job_result[idx]\n",
    "    print(f\">>> Expectation values for PUB {idx}: {pub_result.data.evs}\")\n",
    "    print(f\">>> Standard errors for PUB {idx}: {pub_result.data.stds}\")"
   ]
  },
  {
   "cell_type": "markdown",
   "id": "60bf051a-40f8-47a9-b74d-38713bc15210",
   "metadata": {},
   "source": [
    "### Run parameterized circuits\n",
    "\n",
    "Use Estimator to run three experiments in a single job, leveraging parameter values to increase circuit reusability."
   ]
  },
  {
   "cell_type": "code",
   "execution_count": 3,
   "id": "67dc98b8-499c-44d9-ada1-6abc9d6198c0",
   "metadata": {},
   "outputs": [
    {
     "name": "stdout",
     "output_type": "stream",
     "text": [
      ">>> Expectation values: [[ 1.12110668  1.05700003  0.92574852  0.64835817  0.34635816  0.01488732\n",
      "  -0.32752114 -0.65899197 -0.87106039 -1.05213887 -1.11806845 -1.04697388\n",
      "  -0.89870828 -0.65078875 -0.33542053  0.02552113  0.34909257  0.68299399\n",
      "   0.90478474  1.06003826  1.13872841]\n",
      " [-0.01488732  0.36853723  0.66901813  0.92362176  1.08312881  1.13295577\n",
      "   1.072495    0.89323946  0.66111873  0.31020323  0.00243058 -0.3812978\n",
      "  -0.67479077 -0.91450707 -1.06672237 -1.11168816 -1.04545476 -0.91055737\n",
      "  -0.63225555 -0.33147084  0.02673642]\n",
      " [-0.00303823 -0.3256982  -0.62921732 -0.86711069 -1.01051512 -1.05001211\n",
      "  -0.99745074 -0.86619922 -0.63772437 -0.32509055 -0.00121529  0.3509155\n",
      "   0.64805435  0.85951512  0.99866603  1.09193967  0.9956278   0.88351713\n",
      "   0.65868815  0.32478673 -0.01093763]\n",
      " [ 1.07127971  1.0247948   0.86285717  0.60582296  0.3150644   0.01124145\n",
      "  -0.32782496 -0.63468614 -0.87683303 -1.03816301 -1.07948293 -1.0062616\n",
      "  -0.87622538 -0.60977265 -0.307165    0.02673642  0.34362375  0.6553461\n",
      "   0.87014892  1.04272035  1.07917911]]\n",
      ">>> Standard errors: [[0.01253924 0.0122634  0.01577856 0.01848493 0.02023483 0.01722723\n",
      "  0.01776134 0.01650539 0.0187747  0.01294645 0.01319972 0.01127613\n",
      "  0.01551294 0.01537841 0.01902455 0.01929164 0.01986431 0.01640873\n",
      "  0.01447486 0.01293487 0.01222591]\n",
      " [0.01654947 0.01701617 0.01125981 0.01216392 0.01269815 0.01154145\n",
      "  0.01323279 0.0130552  0.01734728 0.02086349 0.02029028 0.01632092\n",
      "  0.0133844  0.01698012 0.0147728  0.01161518 0.01308264 0.01461101\n",
      "  0.01288929 0.01349702 0.01524668]\n",
      " [0.01922717 0.01919171 0.01383514 0.01237039 0.01604762 0.01151867\n",
      "  0.01376047 0.01526369 0.0158208  0.01555094 0.01486406 0.01276511\n",
      "  0.0168856  0.01421787 0.00985009 0.01390061 0.01278118 0.01377256\n",
      "  0.01323859 0.01650903 0.01979647]\n",
      " [0.01369512 0.01196663 0.01371485 0.01203249 0.01555703 0.01519502\n",
      "  0.01481022 0.01373135 0.01326127 0.01170829 0.01157166 0.01215383\n",
      "  0.01454963 0.01404546 0.01514776 0.01702577 0.0136874  0.01178052\n",
      "  0.01480711 0.01169114 0.01164223]]\n",
      ">>> Metadata: {'shots': 10016, 'target_precision': 0.01, 'circuit_metadata': {}, 'resilience': {}, 'num_randomizations': 32}\n"
     ]
    }
   ],
   "source": [
    "import numpy as np\n",
    "\n",
    "from qiskit.circuit import QuantumCircuit, Parameter\n",
    "from qiskit.quantum_info import SparsePauliOp\n",
    "from qiskit.transpiler import generate_preset_pass_manager\n",
    "from qiskit_ibm_runtime import QiskitRuntimeService, EstimatorV2 as Estimator\n",
    "\n",
    "service = QiskitRuntimeService()\n",
    "backend = service.least_busy(operational=True, simulator=False)\n",
    "\n",
    "# Step 1: Map classical inputs to a quantum problem\n",
    "theta = Parameter(\"θ\")\n",
    "\n",
    "chsh_circuit = QuantumCircuit(2)\n",
    "chsh_circuit.h(0)\n",
    "chsh_circuit.cx(0, 1)\n",
    "chsh_circuit.ry(theta, 0)\n",
    "\n",
    "number_of_phases = 21\n",
    "phases = np.linspace(0, 2 * np.pi, number_of_phases)\n",
    "individual_phases = [[ph] for ph in phases]\n",
    "\n",
    "ZZ = SparsePauliOp.from_list([(\"ZZ\", 1)])\n",
    "ZX = SparsePauliOp.from_list([(\"ZX\", 1)])\n",
    "XZ = SparsePauliOp.from_list([(\"XZ\", 1)])\n",
    "XX = SparsePauliOp.from_list([(\"XX\", 1)])\n",
    "ops = [ZZ, ZX, XZ, XX]\n",
    "\n",
    "# Step 2: Optimize problem for quantum execution.\n",
    "\n",
    "pm = generate_preset_pass_manager(backend=backend, optimization_level=1)\n",
    "chsh_isa_circuit = pm.run(chsh_circuit)\n",
    "isa_observables = [\n",
    "    operator.apply_layout(chsh_isa_circuit.layout) for operator in ops\n",
    "]\n",
    "\n",
    "# Step 3: Execute using Qiskit primitives.\n",
    "\n",
    "# Reshape observable array for broadcasting\n",
    "reshaped_ops = np.fromiter(isa_observables, dtype=object)\n",
    "reshaped_ops = reshaped_ops.reshape((4, 1))\n",
    "\n",
    "estimator = Estimator(backend, options={\"default_shots\": int(1e4)})\n",
    "job = estimator.run([(chsh_isa_circuit, reshaped_ops, individual_phases)])\n",
    "# Get results for the first (and only) PUB\n",
    "pub_result = job.result()[0]\n",
    "print(f\">>> Expectation values: {pub_result.data.evs}\")\n",
    "print(f\">>> Standard errors: {pub_result.data.stds}\")\n",
    "print(f\">>> Metadata: {pub_result.metadata}\")"
   ]
  },
  {
   "cell_type": "markdown",
   "id": "793f0ed1-5682-4aa3-a4a0-7baba71650f9",
   "metadata": {},
   "source": [
    "### Use sessions and advanced options\n",
    "\n",
    "Explore sessions and advanced options to optimize circuit performance on QPUs.\n",
    "\n",
    "\n",
    "<Admonition type=\"caution\">\n",
    "The following code block will return an error for Open Plan users because it uses sessions. Open Plan workloads can run only in [job mode](/docs/guides/execution-modes#job-mode) or [batch mode](/docs/guides/execution-modes#batch-mode).\n",
    "</Admonition>"
   ]
  },
  {
   "cell_type": "code",
   "execution_count": 4,
   "id": "d007b547-8546-4ca3-aee6-9a4e3a82598d",
   "metadata": {},
   "outputs": [
    {
     "name": "stdout",
     "output_type": "stream",
     "text": [
      " > Expectation value: 0.5320197044334976\n",
      " > Metadata: {'shots': 4096, 'target_precision': 0.015625, 'circuit_metadata': {}, 'resilience': {}, 'num_randomizations': 32}\n",
      " > Another Expectation value: 0.4233983286908078\n",
      " > More Metadata: {'shots': 4096, 'target_precision': 0.015625, 'circuit_metadata': {}, 'resilience': {}, 'num_randomizations': 32}\n"
     ]
    }
   ],
   "source": [
    "import numpy as np\n",
    "from qiskit.circuit.library import iqp\n",
    "from qiskit.transpiler import generate_preset_pass_manager\n",
    "from qiskit.quantum_info import SparsePauliOp, random_hermitian\n",
    "from qiskit_ibm_runtime import (\n",
    "    QiskitRuntimeService,\n",
    "    Session,\n",
    "    EstimatorV2 as Estimator,\n",
    ")\n",
    "\n",
    "n_qubits = 50\n",
    "\n",
    "service = QiskitRuntimeService()\n",
    "backend = service.least_busy(\n",
    "    operational=True, simulator=False, min_num_qubits=n_qubits\n",
    ")\n",
    "\n",
    "rng = np.random.default_rng(1234)\n",
    "mat = np.real(random_hermitian(n_qubits, seed=rng))\n",
    "circuit = iqp(mat)\n",
    "mat = np.real(random_hermitian(n_qubits, seed=rng))\n",
    "another_circuit = iqp(mat)\n",
    "observable = SparsePauliOp(\"X\" * 50)\n",
    "another_observable = SparsePauliOp(\"Y\" * 50)\n",
    "\n",
    "pm = generate_preset_pass_manager(optimization_level=1, backend=backend)\n",
    "isa_circuit = pm.run(circuit)\n",
    "another_isa_circuit = pm.run(another_circuit)\n",
    "isa_observable = observable.apply_layout(isa_circuit.layout)\n",
    "another_isa_observable = another_observable.apply_layout(\n",
    "    another_isa_circuit.layout\n",
    ")\n",
    "\n",
    "with Session(backend=backend) as session:\n",
    "    estimator = Estimator(mode=session)\n",
    "\n",
    "    estimator.options.resilience_level = 1\n",
    "\n",
    "    job = estimator.run([(isa_circuit, isa_observable)])\n",
    "    another_job = estimator.run(\n",
    "        [(another_isa_circuit, another_isa_observable)]\n",
    "    )\n",
    "    result = job.result()\n",
    "    another_result = another_job.result()\n",
    "\n",
    "    # first job\n",
    "    print(f\" > Expectation value: {result[0].data.evs}\")\n",
    "    print(f\" > Metadata: {result[0].metadata}\")\n",
    "\n",
    "    # second job\n",
    "    print(f\" > Another Expectation value: {another_result[0].data.evs}\")\n",
    "    print(f\" > More Metadata: {another_result[0].metadata}\")"
   ]
  },
  {
   "cell_type": "markdown",
   "id": "12aea3c7-37a1-4a6b-b944-587669aa6611",
   "metadata": {},
   "source": [
    "<span id=\"sampler-examples\"></span>\n",
    "## Sampler examples\n",
    "\n",
    "Generate entire error-mitigated quasi-probability distributions sampled from quantum circuit outputs. Leverage Sampler’s capabilities for search and classification algorithms like Grover’s and QVSM.\n",
    "\n",
    "### Run a single experiment\n",
    "\n",
    "Use Sampler to return the measurement outcome as bitstrings or counts of a single circuit."
   ]
  },
  {
   "cell_type": "code",
   "execution_count": 5,
   "id": "a5a561b3-3819-4f9e-bb64-4c27267e0e96",
   "metadata": {
    "scrolled": true
   },
   "outputs": [
    {
     "name": "stdout",
     "output_type": "stream",
     "text": [
      " > First ten results: ['1111000110000000001000100011110100111100110111010110100110000101100100010001001000100110101000001011101100100000010000100000001', '1100000011100101010000110000110000011011101011000000110001110000110010000011111110111110001000010010110010000010000010001010101', '0100110000010110011101111100000000101100100101101101100101100101000100100000110100100000010010111010100100000000010100100001100', '0111100110110001100111100010001100111110011111000011010100110010100100100000110000000101010010101001100010000100001000100010100', '0010011000100011011111100010110100001011000011111111010101110110111100011000011010111011010100010010110010100001010000000001000', '1111100111010100011100101011101011110000011011101011100001000000110010010001001000000110000000101100000000000010001010110010000', '0001011100011001000011000111111111001000010000010101010000000100100000000000001110001000000010010100000000100001010000000100001', '1110000001100111100011001000101010011100011100000011100000100101011000100001001010000010101100001110111000000000001100100101000', '0011000100111000001010001010110010010100010011010000000100000011100011000000100010010010100000110110101110101100011001001100000', '1101010100011100000100110010111011001000101110101111111010111110111110010000100000010011001010101010110101000010000011100000100']\n"
     ]
    }
   ],
   "source": [
    "import numpy as np\n",
    "from qiskit.circuit.library import iqp\n",
    "from qiskit.transpiler import generate_preset_pass_manager\n",
    "from qiskit.quantum_info import random_hermitian\n",
    "from qiskit_ibm_runtime import QiskitRuntimeService, SamplerV2 as Sampler\n",
    "\n",
    "n_qubits = 127\n",
    "\n",
    "service = QiskitRuntimeService()\n",
    "backend = service.least_busy(\n",
    "    operational=True, simulator=False, min_num_qubits=n_qubits\n",
    ")\n",
    "\n",
    "mat = np.real(random_hermitian(n_qubits, seed=1234))\n",
    "circuit = iqp(mat)\n",
    "circuit.measure_all()\n",
    "\n",
    "pm = generate_preset_pass_manager(backend=backend, optimization_level=1)\n",
    "isa_circuit = pm.run(circuit)\n",
    "\n",
    "sampler = Sampler(backend)\n",
    "job = sampler.run([isa_circuit])\n",
    "result = job.result()\n",
    "\n",
    "# Get results for the first (and only) PUB\n",
    "pub_result = result[0]\n",
    "\n",
    "print(f\" > First ten results: {pub_result.data.meas.get_bitstrings()[:10]}\")"
   ]
  },
  {
   "cell_type": "markdown",
   "id": "c9ea6d3c-b03f-49e2-a8de-d32e58396e02",
   "metadata": {},
   "source": [
    "### Run multiple experiments in a single job\n",
    "\n",
    "Use Sampler to return the measurement outcome as bitstrings or counts of multiple circuits in one job."
   ]
  },
  {
   "cell_type": "code",
   "execution_count": 6,
   "id": "e4534da8-9fe3-402b-8afc-f4bd9fbed497",
   "metadata": {},
   "outputs": [
    {
     "name": "stdout",
     "output_type": "stream",
     "text": [
      " > First ten results for pub 0: ['0110000100100100011011001111011111010000010110000100100000000000100110100100000100000110100110000111010111101100100111100001100', '1100001110110101111110000111000000001010001010111000111000010000111001010100100100111100001100100001110100011101001110111010100', '0101001001001100001001001111010111000111001011000010010110010000100000001001101010101011111010000111000010001000000010100101000', '0011010111001000101011000010100100010100001100001100110000101000001001111001110001110100001110000010100010000000110100000100001', '0000001110010100010000110100110101100110000111100100110010100100000000101000100001011100110101110000110110011011010110000100011', '1111001100001111100101000111000011001100011000100001010010010000001110000001000000111100010110010110000110000010000111110101111', '0111011101101110001001000011101101000100101000100000011000000101111110110110000000010000001101100010011100000011100000101100000', '1101111001001010100001001001110010110011000100001101011011010000000110000010100001000010110010111000100011010000011010100000001', '1000000101011110001001111001101011011010000001100010000000011100111100000101001001010000100010101101110000100100010100001000100', '1100001110000110100000100011110000010100101010000110000110000100110011010100111001010100000100000010111100001000000100000101000']\n",
      " > First ten results for pub 1: ['0101001101100010100101001100111110111001010101110010100000000011000101100100000110010010011111111001000000110100111000000000110', '1000110101110101001100010010000101010101110001000000110100110101000010110000100101000100100000000000111101010101001100100000000', '0110101001100010111111000100011110110000100100100000100010001001001011001110001001000000111001010100000110010101000000001001100', '1101011000010000000110110011001001001000001000010100000010011101011110101011001010001000111111111001001111010101010100000010100', '1001010110100111110010010001010110001100000000100100100110101011101000100000101110001010101010000000001001101101100000011010001', '0001101010000101000010101111001011001100110010100110110101100001010101100000101000010011111010100100100000010100101100111000000', '0101000011110000001000110101001110110010100100011010000001111010011110100100010111001000000100101100001100010010010011100011101', '1111010000000000100010000010000100101101111010001001111011100110101000000010000001001101101000110101001101100001001100111101000', '0100001000100101100000100010011101011100011000011000100000010000101011011010011101101100100010000101001010100010000010100010000', '1100110000110000011110100001100010001111101000111111000100010100101100001010000110110100010000100000001001010000001000101110000']\n",
      " > First ten results for pub 2: ['0000101100110001101110000011011000010000101000011101000110001000110000010000111101110000111000111000001101000100110101000110000', '0101000100000010011000100000011110001101111100101101000101000000000011011100000000010001100000001011000001010011100100010011000', '0001111011000111101011110010110010100100100010001001001000000110001000000011000100011000101000001000010000001101100101100010001', '0000100101011100111001010010101000110000011010100010110010001000000011101101111011000001010011000010001111011000010000010111000', '0001100010101000100111001110000000100000010001010110010101101100011111111000010001000010100000001010100001000000000110110010011', '0011100011101110111011000010111101100100000011000101000010101001000110010011000001001101000010010101101011111000011100010010000', '0011001010000001110110101011000111001101010100010110010000011100001010000001000010001011110000101111001101110110100001000010000', '0010100111110110001000111000001100000101000100001011010011111001010010000110000000010101111001000000011001010001000001011101110', '0110000100101111000100100111101011011001111000000010101101011101001111010010110101010010110010011010101000110100100001010000000', '1011111110010000011010011110001000101000000011001011010010000011111011001100001011101110000010100011000100010000010001000000100']\n"
     ]
    }
   ],
   "source": [
    "import numpy as np\n",
    "from qiskit.circuit.library import iqp\n",
    "from qiskit.transpiler import generate_preset_pass_manager\n",
    "from qiskit.quantum_info import random_hermitian\n",
    "from qiskit_ibm_runtime import QiskitRuntimeService, SamplerV2 as Sampler\n",
    "\n",
    "n_qubits = 127\n",
    "\n",
    "service = QiskitRuntimeService()\n",
    "backend = service.least_busy(\n",
    "    operational=True, simulator=False, min_num_qubits=n_qubits\n",
    ")\n",
    "\n",
    "rng = np.random.default_rng()\n",
    "mats = [np.real(random_hermitian(n_qubits, seed=rng)) for _ in range(3)]\n",
    "circuits = [iqp(mat) for mat in mats]\n",
    "for circuit in circuits:\n",
    "    circuit.measure_all()\n",
    "\n",
    "pm = generate_preset_pass_manager(backend=backend, optimization_level=1)\n",
    "isa_circuits = pm.run(circuits)\n",
    "\n",
    "sampler = Sampler(mode=backend)\n",
    "job = sampler.run(isa_circuits)\n",
    "result = job.result()\n",
    "\n",
    "for idx, pub_result in enumerate(result):\n",
    "    print(\n",
    "        f\" > First ten results for pub {idx}: {pub_result.data.meas.get_bitstrings()[:10]}\"\n",
    "    )"
   ]
  },
  {
   "cell_type": "markdown",
   "id": "e3ce4f13-b772-4ee6-ba9d-d98da633ab5c",
   "metadata": {},
   "source": [
    "### Run parameterized circuits\n",
    "\n",
    "Run several experiments in a single job, leveraging parameter values to increase circuit reusability."
   ]
  },
  {
   "cell_type": "code",
   "execution_count": 7,
   "id": "c63c9cb6-0650-433c-b3d6-dcde06e465e4",
   "metadata": {},
   "outputs": [
    {
     "name": "stdout",
     "output_type": "stream",
     "text": [
      " >> First ten results for the meas output register: ['0111101111010010101000000101100001000111000000111111110011110100101010000100111111011000000010110011001001100001010001110000000', '0001100010111100111010011100110011110000010110101001111010010010000101001000011100100100011111111100001000111010110111100110010', '1000011110100001010011110110100101101001000001100000001010010000110100000011111100000011110000100000000101100001000110011101111', '1100000001100010001010000100011101110000100111010111111111011001001100001010111010110111011111111110110100100101000001001110000', '1100000111001001111001000111100110110001011011011001111000100011100011011111010110010110011000011011100000011110111010111001010', '0101101000100001110110000001101001100001010011000100101000101010101100000100101110011000010001100001011011111000011000010010111', '0001101101111010001100000100110011110010000001110001100100111000011100111110011001001000011101010100011000101010110110010010101', '0101100001011101111010001000011100010010111101000100101010101100100000011110001100111100100111100100101010110110111100010100111', '0000000000001100000001000000111110001110010110000100001100111010010110011111101101100100011111011000001001001111110101111011011', '0001001000001100001111000111100001110101110010011001110000010000010000000010101000000010101011010010101101000110111011001001111']\n"
     ]
    }
   ],
   "source": [
    "import numpy as np\n",
    "from qiskit.circuit.library import real_amplitudes\n",
    "from qiskit.transpiler import generate_preset_pass_manager\n",
    "from qiskit_ibm_runtime import QiskitRuntimeService, SamplerV2 as Sampler\n",
    "\n",
    "n_qubits = 127\n",
    "\n",
    "service = QiskitRuntimeService()\n",
    "backend = service.least_busy(\n",
    "    operational=True, simulator=False, min_num_qubits=n_qubits\n",
    ")\n",
    "\n",
    "# Step 1: Map classical inputs to a quantum problem\n",
    "circuit = real_amplitudes(num_qubits=n_qubits, reps=2)\n",
    "circuit.measure_all()\n",
    "\n",
    "# Define three sets of parameters for the circuit\n",
    "rng = np.random.default_rng(1234)\n",
    "parameter_values = [\n",
    "    rng.uniform(-np.pi, np.pi, size=circuit.num_parameters) for _ in range(3)\n",
    "]\n",
    "\n",
    "# Step 2: Optimize problem for quantum execution.\n",
    "\n",
    "pm = generate_preset_pass_manager(backend=backend, optimization_level=1)\n",
    "isa_circuit = pm.run(circuit)\n",
    "\n",
    "# Step 3: Execute using Qiskit primitives.\n",
    "sampler = Sampler(backend)\n",
    "job = sampler.run([(isa_circuit, parameter_values)])\n",
    "result = job.result()\n",
    "# Get results for the first (and only) PUB\n",
    "pub_result = result[0]\n",
    "# Get counts from the classical register \"meas\".\n",
    "print(\n",
    "    f\" >> First ten results for the meas output register: {pub_result.data.meas.get_bitstrings()[:10]}\"\n",
    ")"
   ]
  },
  {
   "cell_type": "markdown",
   "id": "a8b00d2a-3c5d-4670-9774-d39cdb262552",
   "metadata": {},
   "source": [
    "### Use sessions and advanced options\n",
    "\n",
    "Explore sessions and advanced options to optimize circuit performance on QPUs.\n",
    "\n",
    "\n",
    "<Admonition type=\"caution\">\n",
    "The following code block will return an error for users on the Open Plan, because it uses sessions. Workloads on the Open Plan can run only in [job mode](/docs/guides/execution-modes#job-mode) or [batch mode](/docs/guides/execution-modes#batch-mode).\n",
    "</Admonition>"
   ]
  },
  {
   "cell_type": "code",
   "execution_count": 8,
   "id": "881fdac4-973b-4cef-a3da-c011d326ff54",
   "metadata": {
    "scrolled": true
   },
   "outputs": [
    {
     "name": "stdout",
     "output_type": "stream",
     "text": [
      " > The first ten measurement results of job 1: ['1100001010101000110001010110000010011111111001011100100001110010110010101011001111011100011101100001010011101110000110110000000', '1010100101011011000001000100000110101000111001101000101101001110001000001100000010100000100010111010010000001010111100010011010', '1000111110111000001001010001011010100000101011100010100100011011101000001001101011010100000101011001100001001000100100001000000', '0001111101110011111111011010000100001000000100111011100000111010011010100011110010001110000000110110100000000000000101000011000', '0110010010101100000001011000110110111000111100110011001100010000011000110101111011100111110110101011010011100100000100100100000', '0001111001001011001110011000001100010010111100100010101111110010011010000001111101011011000000000011000000100010100110111101100', '0001101100000000101100111110100110101001001101101000011001001111110100010101100110111101000010010001011010110100100110001010100', '0011001100001011010110011110101110111001000000001000000100101011010010011001011000110110100000100011010000100100101000011101000', '0010101100100001000111101100000010001011101101011101000010100001011010101000111000001001011110100000001101101100000110001010100', '1101000011011110111100000010110111111001110011011101100001101110000010000001101100010100001000010000001100001000000100011011010']\n"
     ]
    }
   ],
   "source": [
    "import numpy as np\n",
    "from qiskit.circuit.library import iqp\n",
    "from qiskit.quantum_info import random_hermitian\n",
    "from qiskit.transpiler import generate_preset_pass_manager\n",
    "from qiskit_ibm_runtime import Session, SamplerV2 as Sampler\n",
    "from qiskit_ibm_runtime import QiskitRuntimeService\n",
    "\n",
    "n_qubits = 127\n",
    "\n",
    "service = QiskitRuntimeService()\n",
    "backend = service.least_busy(\n",
    "    operational=True, simulator=False, min_num_qubits=n_qubits\n",
    ")\n",
    "\n",
    "rng = np.random.default_rng(1234)\n",
    "mat = np.real(random_hermitian(n_qubits, seed=rng))\n",
    "circuit = iqp(mat)\n",
    "circuit.measure_all()\n",
    "mat = np.real(random_hermitian(n_qubits, seed=rng))\n",
    "another_circuit = iqp(mat)\n",
    "another_circuit.measure_all()\n",
    "\n",
    "pm = generate_preset_pass_manager(backend=backend, optimization_level=1)\n",
    "isa_circuit = pm.run(circuit)\n",
    "another_isa_circuit = pm.run(another_circuit)\n",
    "\n",
    "with Session(backend=backend) as session:\n",
    "    sampler = Sampler(mode=session)\n",
    "    job = sampler.run([isa_circuit])\n",
    "    another_job = sampler.run([another_isa_circuit])\n",
    "    result = job.result()\n",
    "    another_result = another_job.result()\n",
    "\n",
    "# first job\n",
    "\n",
    "print(\n",
    "    f\" > The first ten measurement results of job 1: {result[0].data.meas.get_bitstrings()[:10]}\"\n",
    ")"
   ]
  },
  {
   "cell_type": "code",
   "execution_count": 9,
   "id": "40fe2a06-edfc-41a8-9054-7f31ab93a00c",
   "metadata": {},
   "outputs": [
    {
     "name": "stdout",
     "output_type": "stream",
     "text": [
      " > The first ten measurement results of job 2: ['1000111100100101100000101010001010010100100010100100011100100010001000011000000001001111010001111001101100010001101100101001001', '1000000010001000010100100001101100111000010010100111111100110100011000101100000000011100000001000000101001101001100011000111100', '1000001001100011000000110000011001011000000110101111111001110110001011010000000100001010001000101000100111000000110110000010000', '0000101101101000011010001110001111110100011110100001100010110100100110111001000001100110010100001000000000000011000000000011110', '0010111010010101111000100000011101010010000110000011011001001010000000110001000000110001001101000010000110000010001101101011100', '1001001001111001101010001001000000010100000111011110111110100100000010000110001010100000001010100010110011101000101010101001000', '1010111100101011010100001000101110110010010010000110111001110000000000010000000110010010010010001000011010000001010010001000001', '1001010100101001111110111000000010101000100100100101111100000110100000010010010000001000110011100001000100110100100110000000001', '0000011100110011110100100000110110100000110111010111100101110100100000100100010001000110001000000000000101010110101001101000000', '1100011010011001110000011001000110011000001010101011101000100000110100011000000111000110011010101000100101011000100110100000001']\n"
     ]
    }
   ],
   "source": [
    "# second job\n",
    "print(\n",
    "    \" > The first ten measurement results of job 2:\",\n",
    "    another_result[0].data.meas.get_bitstrings()[:10],\n",
    ")"
   ]
  },
  {
   "cell_type": "markdown",
   "id": "551e1894-a12a-4f6c-8347-020fdc9db74e",
   "metadata": {},
   "source": [
    "## Next steps\n",
    "\n",
    "<Admonition type=\"tip\" title=\"Recommendations\">\n",
    "    - [Specify advanced runtime options.](runtime-options-overview)\n",
    "    - Practice with primitives by working through the [Cost function lesson](/learning/courses/variational-algorithm-design/cost-functions) in IBM Quantum Learning.\n",
    "    - Learn how to transpile locally in the [Transpile](./transpile/) section.\n",
    "    - Try the [Compare transpiler settings](/docs/tutorials/circuit-transpilation-settings) tutorial.\n",
    "    - Read [Migrate to V2 primitives](/docs/migration-guides/v2-primitives).\n",
    "    - Understand the [Job limits](/docs/guides/job-limits) when sending a job to an IBM&reg; QPU.\n",
    "</Admonition>"
   ]
  }
 ],
 "metadata": {
  "description": "Practical examples of using primitives in Qiskit Runtime.",
  "kernelspec": {
   "display_name": "Python 3",
   "language": "python",
   "name": "python3"
  },
  "language_info": {
   "codemirror_mode": {
    "name": "ipython",
    "version": 3
   },
   "file_extension": ".py",
   "mimetype": "text/x-python",
   "name": "python",
   "nbconvert_exporter": "python",
   "pygments_lexer": "ipython3",
   "version": "3"
  },
  "title": "Primitives examples"
 },
 "nbformat": 4,
 "nbformat_minor": 4
}
