{
 "cells": [
  {
   "cell_type": "markdown",
   "id": "1f4a2ec4-3595-4300-8f9e-092b0ef9b444",
   "metadata": {},
   "source": [
    "# Primitives examples\n",
    "\n",
    "<LegacyContent>\n",
    "<Admonition type=\"note\">\n",
    "This documentation is relevant to IBM Quantum&reg; Platform Classic. If you need the newer version, go to the new [IBM Quantum Platform documentation.](https://quantum.cloud.ibm.com/docs/guides/primitives-examples)\n",
    "</Admonition>\n",
    "</LegacyContent>\n",
    "<CloudContent>\n",
    "<Admonition type=\"note\">\n",
    "This documentation is relevant to the new IBM Quantum&reg; Platform. If you need the previous version, return to the [IBM Quantum Platform Classic documentation.](https://docs.quantum.ibm.com/guides/primitives-examples)\n",
    "</Admonition>\n",
    "</CloudContent>"
   ]
  },
  {
   "cell_type": "markdown",
   "id": "b4121e48",
   "metadata": {
    "tags": [
     "version-info"
    ]
   },
   "source": [
    "<details>\n",
    "<summary><b>Package versions</b></summary>\n",
    "\n",
    "The code on this page was developed using the following requirements.\n",
    "We recommend using these versions or newer.\n",
    "\n",
    "```\n",
    "qiskit[all]~=2.0.0\n",
    "qiskit-ibm-runtime~=0.37.0\n",
    "```\n",
    "</details>"
   ]
  },
  {
   "cell_type": "markdown",
   "id": "bae32e60",
   "metadata": {},
   "source": [
    "The examples in this section illustrate some common ways to use primitives. Before running these examples, follow the instructions in [Install and set up.](install-qiskit)\n",
    "\n",
    "<Admonition type=\"note\">\n",
    "    These examples all use the primitives from Qiskit Runtime, but you could use the base primitives instead.\n",
    "</Admonition>\n",
    "\n",
    "## Estimator examples\n",
    "\n",
    "Efficiently calculate and interpret expectation values of the quantum operators required for many algorithms with Estimator. Explore uses in molecular modeling, machine learning, and complex optimization problems.\n",
    "\n",
    "### Run a single experiment\n",
    "\n",
    "Use Estimator to determine the expectation value of a single circuit-observable pair."
   ]
  },
  {
   "cell_type": "code",
   "execution_count": 1,
   "id": "24573866-7cf2-40e1-b61c-a2bdcecb759b",
   "metadata": {},
   "outputs": [
    {
     "name": "stdout",
     "output_type": "stream",
     "text": [
      " > Expectation value: -0.22160664819944598\n",
      " > Metadata: {'shots': 4096, 'target_precision': 0.015625, 'circuit_metadata': {}, 'resilience': {}, 'num_randomizations': 32}\n"
     ]
    }
   ],
   "source": [
    "import numpy as np\n",
    "from qiskit.circuit.library import iqp\n",
    "from qiskit.transpiler import generate_preset_pass_manager\n",
    "from qiskit.quantum_info import SparsePauliOp, random_hermitian\n",
    "from qiskit_ibm_runtime import QiskitRuntimeService, EstimatorV2 as Estimator\n",
    "\n",
    "n_qubits = 50\n",
    "\n",
    "service = QiskitRuntimeService()\n",
    "backend = service.least_busy(\n",
    "    operational=True, simulator=False, min_num_qubits=n_qubits\n",
    ")\n",
    "\n",
    "mat = np.real(random_hermitian(n_qubits, seed=1234))\n",
    "circuit = iqp(mat)\n",
    "observable = SparsePauliOp(\"Z\" * 50)\n",
    "\n",
    "pm = generate_preset_pass_manager(backend=backend, optimization_level=1)\n",
    "isa_circuit = pm.run(circuit)\n",
    "isa_observable = observable.apply_layout(isa_circuit.layout)\n",
    "\n",
    "estimator = Estimator(mode=backend)\n",
    "job = estimator.run([(isa_circuit, isa_observable)])\n",
    "result = job.result()\n",
    "\n",
    "print(f\" > Expectation value: {result[0].data.evs}\")\n",
    "print(f\" > Metadata: {result[0].metadata}\")"
   ]
  },
  {
   "cell_type": "markdown",
   "id": "63769604-ec9e-4ff3-823d-e60f4eb8a877",
   "metadata": {},
   "source": [
    "### Run multiple experiments in a single job\n",
    "\n",
    "Use Estimator to determine the expectation values of multiple circuit-observable pairs."
   ]
  },
  {
   "cell_type": "code",
   "execution_count": 2,
   "id": "bf4668bd-aaaf-4b23-af4b-4df767bd6d1a",
   "metadata": {},
   "outputs": [
    {
     "name": "stdout",
     "output_type": "stream",
     "text": [
      ">>> Expectation values for PUB 0: 0.41624365482233505\n",
      ">>> Standard errors for PUB 0: 0.2897573932386406\n",
      ">>> Expectation values for PUB 1: 0.0234375\n",
      ">>> Standard errors for PUB 1: 0.014335857671780467\n",
      ">>> Expectation values for PUB 2: 0.5901639344262295\n",
      ">>> Standard errors for PUB 2: 1.9749006536982647\n"
     ]
    }
   ],
   "source": [
    "import numpy as np\n",
    "from qiskit.circuit.library import iqp\n",
    "from qiskit.transpiler import generate_preset_pass_manager\n",
    "from qiskit.quantum_info import SparsePauliOp, random_hermitian\n",
    "from qiskit_ibm_runtime import QiskitRuntimeService, EstimatorV2 as Estimator\n",
    "\n",
    "n_qubits = 50\n",
    "\n",
    "service = QiskitRuntimeService()\n",
    "backend = service.least_busy(\n",
    "    operational=True, simulator=False, min_num_qubits=n_qubits\n",
    ")\n",
    "\n",
    "rng = np.random.default_rng()\n",
    "mats = [np.real(random_hermitian(n_qubits, seed=rng)) for _ in range(3)]\n",
    "\n",
    "pubs = []\n",
    "circuits = [iqp(mat) for mat in mats]\n",
    "observables = [\n",
    "    SparsePauliOp(\"X\" * 50),\n",
    "    SparsePauliOp(\"Y\" * 50),\n",
    "    SparsePauliOp(\"Z\" * 50),\n",
    "]\n",
    "\n",
    "# Get ISA circuits\n",
    "pm = generate_preset_pass_manager(optimization_level=1, backend=backend)\n",
    "\n",
    "for qc, obs in zip(circuits, observables):\n",
    "    isa_circuit = pm.run(qc)\n",
    "    isa_obs = obs.apply_layout(isa_circuit.layout)\n",
    "    pubs.append((isa_circuit, isa_obs))\n",
    "\n",
    "estimator = Estimator(backend)\n",
    "job = estimator.run(pubs)\n",
    "job_result = job.result()\n",
    "\n",
    "for idx in range(len(pubs)):\n",
    "    pub_result = job_result[idx]\n",
    "    print(f\">>> Expectation values for PUB {idx}: {pub_result.data.evs}\")\n",
    "    print(f\">>> Standard errors for PUB {idx}: {pub_result.data.stds}\")"
   ]
  },
  {
   "cell_type": "markdown",
   "id": "60bf051a-40f8-47a9-b74d-38713bc15210",
   "metadata": {},
   "source": [
    "### Run parameterized circuits\n",
    "\n",
    "Use Estimator to run three experiments in a single job, leveraging parameter values to increase circuit reusability."
   ]
  },
  {
   "cell_type": "code",
   "execution_count": 3,
   "id": "67dc98b8-499c-44d9-ada1-6abc9d6198c0",
   "metadata": {},
   "outputs": [
    {
     "name": "stdout",
     "output_type": "stream",
     "text": [
      ">>> Expectation values: [[ 1.00968373  0.95443304  0.80928676  0.58375525  0.29527418 -0.02332304\n",
      "  -0.32742827 -0.60730472 -0.82083506 -0.95896179 -1.00311705 -0.95103648\n",
      "  -0.80181433 -0.58783112 -0.28417876  0.02196441  0.31135123  0.60798404\n",
      "   0.82174081  0.96462272  1.01172167]\n",
      " [ 0.00656668  0.33218346  0.59688861  0.82740174  0.97005721  1.00674005\n",
      "   0.97051009  0.80747526  0.57628282  0.31293629  0.00158506 -0.3190501\n",
      "  -0.60617254 -0.8307983  -0.95918822 -1.0040228  -0.94650774 -0.79773846\n",
      "  -0.59122768 -0.29844431  0.02037935]\n",
      " [-0.03192765 -0.34327888 -0.62360821 -0.84166729 -0.97503883 -1.02032628\n",
      "  -0.97345377 -0.82015575 -0.59937942 -0.31135123  0.0194736   0.33376852\n",
      "   0.61590934  0.8369121   0.98749288  1.03617689  0.96054685  0.82264656\n",
      "   0.58556675  0.29776499 -0.02626672]\n",
      " [ 1.03300677  0.96892502  0.81925     0.59009549  0.30886042 -0.01766211\n",
      "  -0.3634318  -0.61160703 -0.8405351  -0.98115264 -1.01308029 -0.96484915\n",
      "  -0.81019251 -0.57945294 -0.30297305  0.03192765  0.32063516  0.61613578\n",
      "   0.83442129  0.97685033  1.02213778]]\n",
      ">>> Standard errors: [[0.00557296 0.00838279 0.00914858 0.00973383 0.01110891 0.01137734\n",
      "  0.00910582 0.00920808 0.00869395 0.00675805 0.00618108 0.0061927\n",
      "  0.00838013 0.01160877 0.01204641 0.0123113  0.01212754 0.00942542\n",
      "  0.00995202 0.00532905 0.00534751]\n",
      " [0.01210058 0.00948337 0.0106501  0.00776316 0.0062738  0.00628489\n",
      "  0.00550098 0.01019935 0.00848306 0.0118778  0.01405457 0.01229722\n",
      "  0.0088709  0.00744731 0.00697958 0.00659956 0.0074414  0.00825185\n",
      "  0.00935877 0.01214775 0.00818609]\n",
      " [0.01116428 0.01272399 0.00830152 0.0089544  0.00669305 0.00620148\n",
      "  0.00597167 0.00933997 0.0089281  0.0095224  0.01408822 0.01217052\n",
      "  0.00961909 0.00882004 0.00509072 0.00493369 0.00753361 0.00959663\n",
      "  0.01112365 0.00999101 0.0094661 ]\n",
      " [0.00559941 0.00672198 0.00936943 0.00858415 0.01257845 0.01034183\n",
      "  0.01133023 0.01014273 0.00743543 0.00690005 0.00537545 0.00697801\n",
      "  0.00810314 0.01198859 0.01192294 0.01084276 0.00913499 0.01016847\n",
      "  0.00934096 0.00681302 0.00629026]]\n",
      ">>> Metadata: {'shots': 10016, 'target_precision': 0.01, 'circuit_metadata': {}, 'resilience': {}, 'num_randomizations': 32}\n"
     ]
    }
   ],
   "source": [
    "import numpy as np\n",
    "\n",
    "from qiskit.circuit import QuantumCircuit, Parameter\n",
    "from qiskit.quantum_info import SparsePauliOp\n",
    "from qiskit.transpiler import generate_preset_pass_manager\n",
    "from qiskit_ibm_runtime import QiskitRuntimeService, EstimatorV2 as Estimator\n",
    "\n",
    "service = QiskitRuntimeService()\n",
    "backend = service.least_busy(operational=True, simulator=False)\n",
    "\n",
    "# Step 1: Map classical inputs to a quantum problem\n",
    "theta = Parameter(\"θ\")\n",
    "\n",
    "chsh_circuit = QuantumCircuit(2)\n",
    "chsh_circuit.h(0)\n",
    "chsh_circuit.cx(0, 1)\n",
    "chsh_circuit.ry(theta, 0)\n",
    "\n",
    "number_of_phases = 21\n",
    "phases = np.linspace(0, 2 * np.pi, number_of_phases)\n",
    "individual_phases = [[ph] for ph in phases]\n",
    "\n",
    "ZZ = SparsePauliOp.from_list([(\"ZZ\", 1)])\n",
    "ZX = SparsePauliOp.from_list([(\"ZX\", 1)])\n",
    "XZ = SparsePauliOp.from_list([(\"XZ\", 1)])\n",
    "XX = SparsePauliOp.from_list([(\"XX\", 1)])\n",
    "ops = [ZZ, ZX, XZ, XX]\n",
    "\n",
    "# Step 2: Optimize problem for quantum execution.\n",
    "\n",
    "pm = generate_preset_pass_manager(backend=backend, optimization_level=1)\n",
    "chsh_isa_circuit = pm.run(chsh_circuit)\n",
    "isa_observables = [\n",
    "    operator.apply_layout(chsh_isa_circuit.layout) for operator in ops\n",
    "]\n",
    "\n",
    "# Step 3: Execute using Qiskit primitives.\n",
    "\n",
    "# Reshape observable array for broadcasting\n",
    "reshaped_ops = np.fromiter(isa_observables, dtype=object)\n",
    "reshaped_ops = reshaped_ops.reshape((4, 1))\n",
    "\n",
    "estimator = Estimator(backend, options={\"default_shots\": int(1e4)})\n",
    "job = estimator.run([(chsh_isa_circuit, reshaped_ops, individual_phases)])\n",
    "# Get results for the first (and only) PUB\n",
    "pub_result = job.result()[0]\n",
    "print(f\">>> Expectation values: {pub_result.data.evs}\")\n",
    "print(f\">>> Standard errors: {pub_result.data.stds}\")\n",
    "print(f\">>> Metadata: {pub_result.metadata}\")"
   ]
  },
  {
   "cell_type": "markdown",
   "id": "793f0ed1-5682-4aa3-a4a0-7baba71650f9",
   "metadata": {},
   "source": [
    "### Use sessions and advanced options\n",
    "\n",
    "Explore sessions and advanced options to optimize circuit performance on QPUs.\n",
    "\n",
    "<CloudContent>\n",
    "<Admonition type=\"caution\">\n",
    "The following code block will return an error for Open Plan users because it uses sessions. Open Plan workloads can run only in [job mode](/docs/guides/execution-modes#job-mode) or [batch mode](/docs/guides/execution-modes#batch-mode).\n",
    "</Admonition>\n",
    "</CloudContent>"
   ]
  },
  {
   "cell_type": "code",
   "execution_count": 4,
   "id": "d007b547-8546-4ca3-aee6-9a4e3a82598d",
   "metadata": {},
   "outputs": [
    {
     "name": "stdout",
     "output_type": "stream",
     "text": [
      " > Expectation value: 0.02001953125\n",
      " > Metadata: {'shots': 4096, 'target_precision': 0.015625, 'circuit_metadata': {}, 'resilience': {}, 'num_randomizations': 32}\n",
      " > Another Expectation value: -0.09828872312417727\n",
      " > More Metadata: {'shots': 4096, 'target_precision': 0.015625, 'circuit_metadata': {}, 'resilience': {}, 'num_randomizations': 32}\n"
     ]
    }
   ],
   "source": [
    "import numpy as np\n",
    "from qiskit.circuit.library import iqp\n",
    "from qiskit.transpiler import generate_preset_pass_manager\n",
    "from qiskit.quantum_info import SparsePauliOp, random_hermitian\n",
    "from qiskit_ibm_runtime import (\n",
    "    QiskitRuntimeService,\n",
    "    Session,\n",
    "    EstimatorV2 as Estimator,\n",
    ")\n",
    "\n",
    "n_qubits = 50\n",
    "\n",
    "service = QiskitRuntimeService()\n",
    "backend = service.least_busy(\n",
    "    operational=True, simulator=False, min_num_qubits=n_qubits\n",
    ")\n",
    "\n",
    "rng = np.random.default_rng(1234)\n",
    "mat = np.real(random_hermitian(n_qubits, seed=rng))\n",
    "circuit = iqp(mat)\n",
    "mat = np.real(random_hermitian(n_qubits, seed=rng))\n",
    "another_circuit = iqp(mat)\n",
    "observable = SparsePauliOp(\"X\" * 50)\n",
    "another_observable = SparsePauliOp(\"Y\" * 50)\n",
    "\n",
    "pm = generate_preset_pass_manager(optimization_level=1, backend=backend)\n",
    "isa_circuit = pm.run(circuit)\n",
    "another_isa_circuit = pm.run(another_circuit)\n",
    "isa_observable = observable.apply_layout(isa_circuit.layout)\n",
    "another_isa_observable = another_observable.apply_layout(\n",
    "    another_isa_circuit.layout\n",
    ")\n",
    "\n",
    "with Session(backend=backend) as session:\n",
    "    estimator = Estimator(mode=session)\n",
    "\n",
    "    estimator.options.resilience_level = 1\n",
    "\n",
    "    job = estimator.run([(isa_circuit, isa_observable)])\n",
    "    another_job = estimator.run(\n",
    "        [(another_isa_circuit, another_isa_observable)]\n",
    "    )\n",
    "    result = job.result()\n",
    "    another_result = another_job.result()\n",
    "\n",
    "    # first job\n",
    "    print(f\" > Expectation value: {result[0].data.evs}\")\n",
    "    print(f\" > Metadata: {result[0].metadata}\")\n",
    "\n",
    "    # second job\n",
    "    print(f\" > Another Expectation value: {another_result[0].data.evs}\")\n",
    "    print(f\" > More Metadata: {another_result[0].metadata}\")"
   ]
  },
  {
   "cell_type": "markdown",
   "id": "12aea3c7-37a1-4a6b-b944-587669aa6611",
   "metadata": {},
   "source": [
    "<span id=\"sampler-examples\"></span>\n",
    "## Sampler examples\n",
    "\n",
    "Generate entire error-mitigated quasi-probability distributions sampled from quantum circuit outputs. Leverage Sampler’s capabilities for search and classification algorithms like Grover’s and QVSM.\n",
    "\n",
    "### Run a single experiment\n",
    "\n",
    "Use Sampler to return the measurement outcome as bitstrings or counts of a single circuit."
   ]
  },
  {
   "cell_type": "code",
   "execution_count": 5,
   "id": "a5a561b3-3819-4f9e-bb64-4c27267e0e96",
   "metadata": {
    "scrolled": true
   },
   "outputs": [
    {
     "name": "stdout",
     "output_type": "stream",
     "text": [
      " > First ten results: ['1001010100000000011000010001011001111000010010100010110101001010111111111010010100101100100001001010000100100000011001100001001', '0000110001010100010011101001000010101011001100111010110100100011101111011010000100000000000001101000000111110010111110100000001', '1011111001010011000011111111001000001011011110100111111100101001010111111010010000010011101100111010000111000010001000100000011', '0110001111011001000001001110100010011111010101000110010110000101010001111001000010111000111000001100000001010000001001101000111', '1110110100110011011011101000001001100001001000001001110111100001000001010111100000011100011001101110001010010010001010001010001', '0111111111110001000101000010011100000000001111000011001101101001011001110000000101110000000010100000101100000000011111000000011', '1001010001011001001000101100010111001110000010100110000010100001011100110000010110010000110110110101001010000000011101000000001', '1100110100000000010110101000000011000101000011000111100011111101100111010001010100011100101100000111000011010000011100100000010', '1001110110001101111010110101010011000001010111001010000100110001001001010001110001011010011100001000100101000000010101100000011', '0000111001111001100010010000100000101010110111001101110000001001001100111001110010101000011001000110100101000000000000100100111']\n"
     ]
    }
   ],
   "source": [
    "import numpy as np\n",
    "from qiskit.circuit.library import iqp\n",
    "from qiskit.transpiler import generate_preset_pass_manager\n",
    "from qiskit.quantum_info import random_hermitian\n",
    "from qiskit_ibm_runtime import QiskitRuntimeService, SamplerV2 as Sampler\n",
    "\n",
    "n_qubits = 127\n",
    "\n",
    "service = QiskitRuntimeService()\n",
    "backend = service.least_busy(\n",
    "    operational=True, simulator=False, min_num_qubits=n_qubits\n",
    ")\n",
    "\n",
    "mat = np.real(random_hermitian(n_qubits, seed=1234))\n",
    "circuit = iqp(mat)\n",
    "circuit.measure_all()\n",
    "\n",
    "pm = generate_preset_pass_manager(backend=backend, optimization_level=1)\n",
    "isa_circuit = pm.run(circuit)\n",
    "\n",
    "sampler = Sampler(backend)\n",
    "job = sampler.run([isa_circuit])\n",
    "result = job.result()\n",
    "\n",
    "# Get results for the first (and only) PUB\n",
    "pub_result = result[0]\n",
    "\n",
    "print(f\" > First ten results: {pub_result.data.meas.get_bitstrings()[:10]}\")"
   ]
  },
  {
   "cell_type": "markdown",
   "id": "c9ea6d3c-b03f-49e2-a8de-d32e58396e02",
   "metadata": {},
   "source": [
    "### Run multiple experiments in a single job\n",
    "\n",
    "Use Sampler to return the measurement outcome as bitstrings or counts of multiple circuits in one job."
   ]
  },
  {
   "cell_type": "code",
   "execution_count": 6,
   "id": "e4534da8-9fe3-402b-8afc-f4bd9fbed497",
   "metadata": {},
   "outputs": [
    {
     "name": "stdout",
     "output_type": "stream",
     "text": [
      " > First ten results for pub 0: ['0101000100000101100101100100100010111010011000110001011110011010111000001101000010000110000000010001011001101000100101010010011', '0001110100110010101101010110101101101100000100110110010110110010001110010100000110101100010000010101100000100010100000011110011', '1100010100111010000000110110011001110100100101001011001101010111000101010000110010000110110000000001001010001101101101001110010', '1000010100011011101000100110001111110011010101100000101001011000000101011100100111000100011001001101000000101010101111000010110', '1011011010000111101001000000000101000100010000110000100101010000000101000100010110100110100000010100110001001011001001111000110', '0010001100010010110010010010101100011100100000000010001100011010010100011000001100001110010000110000001000100111001001010100100', '0110000111010010101101110111000111001100000100001001111011011010000100000011011011100111011000011101001000010001000011011100101', '1111000010101011101001110010010110111100100000110110111101001000101000001100010100000110000000110011100011010110100111000000001', '1110110110101010011100111011000001001101111101010001000011011100001000101111110110011011110000110001101010011010000101111011111', '0001010100001100101001010010110110111100000010011011110010100000110100011101010110000010010000010100111001111110010101011110000']\n",
      " > First ten results for pub 1: ['0010110011100110111000011010000000011001001010101110111010000100001011010001001100100100000000111111100000111101110101101100000', '0101001001100101001000101000000011010110101111100000111011001000010010111001101010000111010001100010001000000001110000100000001', '0011100010010010001010011011010010110110001011111010111111001111000000100011111011001001000011110111011000010100010001100110111', '1110110111000000000010011111111111100100011000010000010001000011001011110000011011000111101000110010010100001001000000110100111', '1100000011000000001100000011000000001000111010011101001011001111000011000010000100010000100000100111000000011010000100111010110', '1010001101110100001101010101011001001100100000010110001110011000000000100000001100000010011010010111101000001011100000010100110', '0100100010100100000001000000111111101101001010000101110101110000001010100000001010001011001001100000000100010101011110011100101', '0110110101100100001010110011000011000010001010011000001101001011001001100100001000000100101000000010001001101100100101010111001', '1010001111100110110101101100011010101111110000100110000011100000000101001011000100000001001001100010000000100100010111111110110', '0011000101010110110000101010111011101001101011101000010111111000001011010011110101000111100001100000010000011110000100101010101']\n",
      " > First ten results for pub 2: ['1101101010000101010000010011001100010011101000010001001001010010100100100000101100100111110111101000000111010100010101101011000', '1111101001011110110011001111110000000100101000010001010010111011010110101000000010011001101001010000011010110101000110000000010', '1000100010001011100000111001101100010110011001001011001111010010000100010000110100001101010111001100001001110101000001110011001', '1110110010010001110100111101101010001010100000010000010000100010000000001000010110001100010010001001111001010101100010100001001', '1100110011001100011110010111100100110110110110000000100001011010100010110100011111010001110010000101001010000011100000100101100', '1000001000010011100100010010110001111101000011010110001101110000010011000000001010100101100101100011001001011110100101100010100', '1011101010000010011110101010100010100010101110010111110100110000111110010000011001001100010100000100111000011100000100100011000', '1100111011000100010101110100010010001110001101011001000000010010001110111001011010111101000000000000001011010011000010000011000', '0101100101100001101110010110001100011011011110000000000101111000111010100000011000011100110110101100000000100001000011100110010', '0001111000100001001110010111010100000010100100010101100000000110001000100011101100001100100010001101001010000110100000000100000']\n"
     ]
    }
   ],
   "source": [
    "import numpy as np\n",
    "from qiskit.circuit.library import iqp\n",
    "from qiskit.transpiler import generate_preset_pass_manager\n",
    "from qiskit.quantum_info import random_hermitian\n",
    "from qiskit_ibm_runtime import QiskitRuntimeService, SamplerV2 as Sampler\n",
    "\n",
    "n_qubits = 127\n",
    "\n",
    "service = QiskitRuntimeService()\n",
    "backend = service.least_busy(\n",
    "    operational=True, simulator=False, min_num_qubits=n_qubits\n",
    ")\n",
    "\n",
    "rng = np.random.default_rng()\n",
    "mats = [np.real(random_hermitian(n_qubits, seed=rng)) for _ in range(3)]\n",
    "circuits = [iqp(mat) for mat in mats]\n",
    "for circuit in circuits:\n",
    "    circuit.measure_all()\n",
    "\n",
    "pm = generate_preset_pass_manager(backend=backend, optimization_level=1)\n",
    "isa_circuits = pm.run(circuits)\n",
    "\n",
    "sampler = Sampler(mode=backend)\n",
    "job = sampler.run(isa_circuits)\n",
    "result = job.result()\n",
    "\n",
    "for idx, pub_result in enumerate(result):\n",
    "    print(\n",
    "        f\" > First ten results for pub {idx}: {pub_result.data.meas.get_bitstrings()[:10]}\"\n",
    "    )"
   ]
  },
  {
   "cell_type": "markdown",
   "id": "e3ce4f13-b772-4ee6-ba9d-d98da633ab5c",
   "metadata": {},
   "source": [
    "### Run parameterized circuits\n",
    "\n",
    "Run several experiments in a single job, leveraging parameter values to increase circuit reusability."
   ]
  },
  {
   "cell_type": "code",
   "execution_count": 7,
   "id": "c63c9cb6-0650-433c-b3d6-dcde06e465e4",
   "metadata": {},
   "outputs": [
    {
     "name": "stdout",
     "output_type": "stream",
     "text": [
      " >> First ten results for the meas output register: ['0001100111011010011001101001001111100000000000001010111011101010111010101000000110110000101011111011000100011100110010000101100', '0000111101110101110001001100110110110001100111011111011010011100010011010001001101000010000000111100101100011001100011111110110', '1100011001011001000101010101101011000111011010011110101000101100010011100101011010110100001110100011111100101101000011000100010', '0001001000000011101111010111001011100001101111111010111000111101110111101111101000010011011001101011101001000000001001100000111', '0101110101010101000111110101110001100010001010010111101111111101101000111101101101010000101000001110010001100010100001011010110', '0001110010010011110011100100000110000010111010011001111000011001011101011111011010111010101111011011010000110111111101011110111', '0000110011011101100000000101101011010001011010000001111001101011010100100111011110111001011100011111011011010011001001000101101', '1001001001011011111001111100111111100010111011111100101010001110101000001100101000010001011001100101110101010011001101000001100', '0100101001110100010011010111111010000110100010011010101010101001100001101100110001101010101110011011100101000000111011111100111', '1101010011100111010100110100110111100111111101010000011110111100101011001110101010110110011011001010100100100010000110001000011']\n"
     ]
    }
   ],
   "source": [
    "import numpy as np\n",
    "from qiskit.circuit.library import real_amplitudes\n",
    "from qiskit.transpiler import generate_preset_pass_manager\n",
    "from qiskit_ibm_runtime import QiskitRuntimeService, SamplerV2 as Sampler\n",
    "\n",
    "n_qubits = 127\n",
    "\n",
    "service = QiskitRuntimeService()\n",
    "backend = service.least_busy(\n",
    "    operational=True, simulator=False, min_num_qubits=n_qubits\n",
    ")\n",
    "\n",
    "# Step 1: Map classical inputs to a quantum problem\n",
    "circuit = real_amplitudes(num_qubits=n_qubits, reps=2)\n",
    "circuit.measure_all()\n",
    "\n",
    "# Define three sets of parameters for the circuit\n",
    "rng = np.random.default_rng(1234)\n",
    "parameter_values = [\n",
    "    rng.uniform(-np.pi, np.pi, size=circuit.num_parameters) for _ in range(3)\n",
    "]\n",
    "\n",
    "# Step 2: Optimize problem for quantum execution.\n",
    "\n",
    "pm = generate_preset_pass_manager(backend=backend, optimization_level=1)\n",
    "isa_circuit = pm.run(circuit)\n",
    "\n",
    "# Step 3: Execute using Qiskit primitives.\n",
    "sampler = Sampler(backend)\n",
    "job = sampler.run([(isa_circuit, parameter_values)])\n",
    "result = job.result()\n",
    "# Get results for the first (and only) PUB\n",
    "pub_result = result[0]\n",
    "# Get counts from the classical register \"meas\".\n",
    "print(\n",
    "    f\" >> First ten results for the meas output register: {pub_result.data.meas.get_bitstrings()[:10]}\"\n",
    ")"
   ]
  },
  {
   "cell_type": "markdown",
   "id": "a8b00d2a-3c5d-4670-9774-d39cdb262552",
   "metadata": {},
   "source": [
    "### Use sessions and advanced options\n",
    "\n",
    "Explore sessions and advanced options to optimize circuit performance on QPUs.\n",
    "\n",
    "<CloudContent>\n",
    "<Admonition type=\"caution\">\n",
    "The following code block will return an error for users on the Open Plan, because it uses sessions. Workloads on the Open Plan can run only in [job mode](/docs/guides/execution-modes#job-mode) or [batch mode](/docs/guides/execution-modes#batch-mode).\n",
    "</Admonition>\n",
    "</CloudContent>"
   ]
  },
  {
   "cell_type": "code",
   "execution_count": 8,
   "id": "881fdac4-973b-4cef-a3da-c011d326ff54",
   "metadata": {
    "scrolled": true
   },
   "outputs": [
    {
     "name": "stdout",
     "output_type": "stream",
     "text": [
      " > The first ten measurement results of job 1: ['0111100010110101010101111101110111010110010010110100000011011011100000101110011001011010111000000001111010100000010000100001101', '0000000011110010000000000111010100000110001111000010010101010100101110011111010101111000100010101010010011100001010010000011110', '0011000000000100001110011110000100110011010001001100000111000011111110011001100001000100000010010000010001000001101000001110000', '1000111100000110011010100111111101001101011111101110010000011000100000110001100000001000101100110100011001101000000000011111001', '1110000001111100001101001000011001100010001110000010000110001010000000100111100111111110001010001101110101101001111010001101000', '0010110010000010000100110001010001110001000110111010010000011001101100101000101011110010100000001010000010001101001000110001000', '0011000001110100010101100010010011111010000010001100101110001010000101010000011000011000111001011000000100000000001011101101001', '1110111100000100011010111101001110011001100111110010001100001010000110011000100000111010010000010001111001001000001100001100101', '0010011010001110011001010110111000001010001100000000111011000001001101110101111001011010010110000100001001100100000000011001001', '0001110111010110010011011000011110011010000000101110100111110001000010010001110101010001001111010101010001000101001100011001000']\n"
     ]
    }
   ],
   "source": [
    "import numpy as np\n",
    "from qiskit.circuit.library import iqp\n",
    "from qiskit.quantum_info import random_hermitian\n",
    "from qiskit.transpiler import generate_preset_pass_manager\n",
    "from qiskit_ibm_runtime import Session, SamplerV2 as Sampler\n",
    "from qiskit_ibm_runtime import QiskitRuntimeService\n",
    "\n",
    "n_qubits = 127\n",
    "\n",
    "service = QiskitRuntimeService()\n",
    "backend = service.least_busy(\n",
    "    operational=True, simulator=False, min_num_qubits=n_qubits\n",
    ")\n",
    "\n",
    "rng = np.random.default_rng(1234)\n",
    "mat = np.real(random_hermitian(n_qubits, seed=rng))\n",
    "circuit = iqp(mat)\n",
    "circuit.measure_all()\n",
    "mat = np.real(random_hermitian(n_qubits, seed=rng))\n",
    "another_circuit = iqp(mat)\n",
    "another_circuit.measure_all()\n",
    "\n",
    "pm = generate_preset_pass_manager(backend=backend, optimization_level=1)\n",
    "isa_circuit = pm.run(circuit)\n",
    "another_isa_circuit = pm.run(another_circuit)\n",
    "\n",
    "with Session(backend=backend) as session:\n",
    "    sampler = Sampler(mode=session)\n",
    "    job = sampler.run([isa_circuit])\n",
    "    another_job = sampler.run([another_isa_circuit])\n",
    "    result = job.result()\n",
    "    another_result = another_job.result()\n",
    "\n",
    "# first job\n",
    "\n",
    "print(\n",
    "    f\" > The first ten measurement results of job 1: {result[0].data.meas.get_bitstrings()[:10]}\"\n",
    ")"
   ]
  },
  {
   "cell_type": "code",
   "execution_count": 9,
   "id": "40fe2a06-edfc-41a8-9054-7f31ab93a00c",
   "metadata": {},
   "outputs": [
    {
     "name": "stdout",
     "output_type": "stream",
     "text": [
      " > The first ten measurement results of job 2: ['0000001010111111011011010000100101001110101100110010101110010110100100000010111111000001000110010110111001011010010001100000000', '0011111111011110011110101000001111110101000010010010100010101010000100000011000010011010011111010000001111111111010001100010000', '1010100100111001111100011101111011010101101010010010111010001110110100101010000110111001000000000001000101001000101011111001010', '0011111011100001110110110010010100101110100101000110100111100110100010000011100000001000000010101000101000001100010010000000100', '0100000001000111000000011001000111010110100001000101111000100000110111001000110100101111011110000100110101011010010000110100111', '0110111000000101011110010010010111101010100101110010000010100000111101100011010010101100100011101000000110010000100101110010010', '1001111000011100001110010011101000000001110000111010101001111100100100000001000000110000100010110010010000001011000000100010010', '1011101110111110100101110000001100110110000101101110001101101100010110001000010000000001110110111000001110000001000011010010000', '0011000110101010111111000010110110100000000010111000000010101010110111111101001101100100001011001011110100111010000000010011000', '0100011000100101100001101011101101110111000100001100001001011010100101001101111010100101000000010000110100011110100010100010000']\n"
     ]
    }
   ],
   "source": [
    "# second job\n",
    "print(\n",
    "    \" > The first ten measurement results of job 2:\",\n",
    "    another_result[0].data.meas.get_bitstrings()[:10],\n",
    ")"
   ]
  },
  {
   "cell_type": "markdown",
   "id": "551e1894-a12a-4f6c-8347-020fdc9db74e",
   "metadata": {},
   "source": [
    "## Next steps\n",
    "\n",
    "<Admonition type=\"tip\" title=\"Recommendations\">\n",
    "    - [Specify advanced runtime options.](runtime-options-overview)\n",
    "    - Practice with primitives by working through the [Cost function lesson](https://learning.quantum.ibm.com/course/variational-algorithm-design/cost-functions#primitives) in IBM Quantum Learning.\n",
    "    - Learn how to transpile locally in the [Transpile](./transpile/) section.\n",
    "    - Try the [Submit pre-transpiled circuits](https://learning.quantum.ibm.com/tutorial/submitting-user-transpiled-circuits-using-primitives) tutorial.\n",
    "    - Read [Migrate to V2 primitives](/docs/migration-guides/v2-primitives).\n",
    "    - Understand the [Job limits](/docs/guides/job-limits) when sending a job to an IBM&reg; QPU.\n",
    "</Admonition>"
   ]
  }
 ],
 "metadata": {
  "description": "Practical examples of using primitives in Qiskit Runtime.",
  "kernelspec": {
   "display_name": "Python 3",
   "language": "python",
   "name": "python3"
  },
  "language_info": {
   "codemirror_mode": {
    "name": "ipython",
    "version": 3
   },
   "file_extension": ".py",
   "mimetype": "text/x-python",
   "name": "python",
   "nbconvert_exporter": "python",
   "pygments_lexer": "ipython3",
   "version": "3"
  },
  "title": "Primitives examples"
 },
 "nbformat": 4,
 "nbformat_minor": 4
}
