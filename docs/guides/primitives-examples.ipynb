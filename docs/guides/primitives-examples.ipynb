{
 "cells": [
  {
   "cell_type": "markdown",
   "id": "1f4a2ec4-3595-4300-8f9e-092b0ef9b444",
   "metadata": {},
   "source": [
    "# Primitives examples"
   ]
  },
  {
   "cell_type": "markdown",
   "id": "b4121e48",
   "metadata": {
    "tags": [
     "version-info"
    ]
   },
   "source": [
    "<details>\n",
    "<summary><b>Package versions</b></summary>\n",
    "\n",
    "The code on this page was developed using the following requirements.\n",
    "We recommend using these versions or newer.\n",
    "\n",
    "```\n",
    "qiskit[all]~=2.1.2\n",
    "qiskit-ibm-runtime~=0.40.1\n",
    "```\n",
    "</details>"
   ]
  },
  {
   "cell_type": "markdown",
   "id": "bae32e60",
   "metadata": {},
   "source": [
    "The examples in this section illustrate some common ways to use primitives. Before running these examples, follow the instructions in [Install and set up.](install-qiskit)\n",
    "\n",
    "<Admonition type=\"note\">\n",
    "    These examples all use the primitives from Qiskit Runtime, but you could use the base primitives instead.\n",
    "</Admonition>\n",
    "\n",
    "## Estimator examples\n",
    "\n",
    "Efficiently calculate and interpret expectation values of the quantum operators required for many algorithms with Estimator. Explore uses in molecular modeling, machine learning, and complex optimization problems.\n",
    "\n",
    "### Run a single experiment\n",
    "\n",
    "Use Estimator to determine the expectation value of a single circuit-observable pair."
   ]
  },
  {
   "cell_type": "code",
   "execution_count": 1,
   "id": "24573866-7cf2-40e1-b61c-a2bdcecb759b",
   "metadata": {},
   "outputs": [
    {
     "name": "stdout",
     "output_type": "stream",
     "text": [
      " > Expectation value: 1.1157894736842104\n",
      " > Metadata: {'shots': 4096, 'target_precision': 0.015625, 'circuit_metadata': {}, 'resilience': {}, 'num_randomizations': 32}\n"
     ]
    }
   ],
   "source": [
    "import numpy as np\n",
    "from qiskit.circuit.library import iqp\n",
    "from qiskit.transpiler import generate_preset_pass_manager\n",
    "from qiskit.quantum_info import SparsePauliOp, random_hermitian\n",
    "from qiskit_ibm_runtime import QiskitRuntimeService, EstimatorV2 as Estimator\n",
    "\n",
    "n_qubits = 50\n",
    "\n",
    "service = QiskitRuntimeService()\n",
    "backend = service.least_busy(\n",
    "    operational=True, simulator=False, min_num_qubits=n_qubits\n",
    ")\n",
    "\n",
    "mat = np.real(random_hermitian(n_qubits, seed=1234))\n",
    "circuit = iqp(mat)\n",
    "observable = SparsePauliOp(\"Z\" * 50)\n",
    "\n",
    "pm = generate_preset_pass_manager(backend=backend, optimization_level=1)\n",
    "isa_circuit = pm.run(circuit)\n",
    "isa_observable = observable.apply_layout(isa_circuit.layout)\n",
    "\n",
    "estimator = Estimator(mode=backend)\n",
    "job = estimator.run([(isa_circuit, isa_observable)])\n",
    "result = job.result()\n",
    "\n",
    "print(f\" > Expectation value: {result[0].data.evs}\")\n",
    "print(f\" > Metadata: {result[0].metadata}\")"
   ]
  },
  {
   "cell_type": "markdown",
   "id": "63769604-ec9e-4ff3-823d-e60f4eb8a877",
   "metadata": {},
   "source": [
    "### Run multiple experiments in a single job\n",
    "\n",
    "Use Estimator to determine the expectation values of multiple circuit-observable pairs."
   ]
  },
  {
   "cell_type": "code",
   "execution_count": 2,
   "id": "bf4668bd-aaaf-4b23-af4b-4df767bd6d1a",
   "metadata": {},
   "outputs": [
    {
     "name": "stdout",
     "output_type": "stream",
     "text": [
      ">>> Expectation values for PUB 0: 0.040268456375838924\n",
      ">>> Standard errors for PUB 0: 0.3268466115112744\n",
      ">>> Expectation values for PUB 1: -0.4117647058823529\n",
      ">>> Standard errors for PUB 1: 0.5786499134826362\n",
      ">>> Expectation values for PUB 2: 0.0068359375\n",
      ">>> Standard errors for PUB 2: 0.017671970357055807\n"
     ]
    }
   ],
   "source": [
    "import numpy as np\n",
    "from qiskit.circuit.library import iqp\n",
    "from qiskit.transpiler import generate_preset_pass_manager\n",
    "from qiskit.quantum_info import SparsePauliOp, random_hermitian\n",
    "from qiskit_ibm_runtime import QiskitRuntimeService, EstimatorV2 as Estimator\n",
    "\n",
    "n_qubits = 50\n",
    "\n",
    "service = QiskitRuntimeService()\n",
    "backend = service.least_busy(\n",
    "    operational=True, simulator=False, min_num_qubits=n_qubits\n",
    ")\n",
    "\n",
    "rng = np.random.default_rng()\n",
    "mats = [np.real(random_hermitian(n_qubits, seed=rng)) for _ in range(3)]\n",
    "\n",
    "pubs = []\n",
    "circuits = [iqp(mat) for mat in mats]\n",
    "observables = [\n",
    "    SparsePauliOp(\"X\" * 50),\n",
    "    SparsePauliOp(\"Y\" * 50),\n",
    "    SparsePauliOp(\"Z\" * 50),\n",
    "]\n",
    "\n",
    "# Get ISA circuits\n",
    "pm = generate_preset_pass_manager(optimization_level=1, backend=backend)\n",
    "\n",
    "for qc, obs in zip(circuits, observables):\n",
    "    isa_circuit = pm.run(qc)\n",
    "    isa_obs = obs.apply_layout(isa_circuit.layout)\n",
    "    pubs.append((isa_circuit, isa_obs))\n",
    "\n",
    "estimator = Estimator(backend)\n",
    "job = estimator.run(pubs)\n",
    "job_result = job.result()\n",
    "\n",
    "for idx in range(len(pubs)):\n",
    "    pub_result = job_result[idx]\n",
    "    print(f\">>> Expectation values for PUB {idx}: {pub_result.data.evs}\")\n",
    "    print(f\">>> Standard errors for PUB {idx}: {pub_result.data.stds}\")"
   ]
  },
  {
   "cell_type": "markdown",
   "id": "60bf051a-40f8-47a9-b74d-38713bc15210",
   "metadata": {},
   "source": [
    "### Run parameterized circuits\n",
    "\n",
    "Use Estimator to run three experiments in a single job, leveraging parameter values to increase circuit reusability."
   ]
  },
  {
   "cell_type": "code",
   "execution_count": 3,
   "id": "67dc98b8-499c-44d9-ada1-6abc9d6198c0",
   "metadata": {},
   "outputs": [
    {
     "name": "stdout",
     "output_type": "stream",
     "text": [
      ">>> Expectation values: [[ 1.09605124  1.00696636  0.87733249  0.64939807  0.32408466  0.02396076\n",
      "  -0.34927418 -0.65216277 -0.87456779 -1.02631928 -1.07761988 -1.00696636\n",
      "  -0.85460049 -0.59287525 -0.32807812 -0.00614378  0.34958136  0.66352878\n",
      "   0.89330633  1.04321469  1.0942081 ]\n",
      " [ 0.02396076  0.35019574  0.65492748  0.90037169  1.02816241  1.08376367\n",
      "   1.03676371  0.85367892  0.63557455  0.30596049 -0.01566665 -0.35388201\n",
      "  -0.63833926 -0.91358082 -1.03799247 -1.10526692 -1.01403171 -0.8601299\n",
      "  -0.6398752  -0.32807812  0.02979736]\n",
      " [-0.00522222 -0.3228559  -0.60454844 -0.85214297 -1.02324739 -1.05949572\n",
      "  -0.99682911 -0.84415605 -0.64417585 -0.31394741  0.0086013   0.32377747\n",
      "   0.59502557  0.86074427  1.00696636  1.0628748   1.01249576  0.87917563\n",
      "   0.62697326  0.3114899   0.00368627]\n",
      " [ 1.06840421  0.99682911  0.81958091  0.61007785  0.31794087 -0.03041174\n",
      "  -0.34896699 -0.63035234 -0.88716255 -1.02171144 -1.08038459 -1.02416895\n",
      "  -0.86074427 -0.62267261 -0.31179709  0.00184314  0.3455879   0.62758763\n",
      "   0.86842401  0.99283565  1.06471793]]\n",
      ">>> Standard errors: [[0.01316609 0.0163592  0.0183806  0.01701581 0.02078559 0.01969399\n",
      "  0.01950806 0.01871134 0.0178805  0.01481619 0.0148241  0.01547587\n",
      "  0.0184791  0.01680927 0.0178938  0.01527171 0.02164298 0.01494403\n",
      "  0.01210264 0.01294762 0.01177805]\n",
      " [0.01348882 0.01666683 0.01359666 0.01378942 0.01279895 0.01553397\n",
      "  0.01624345 0.01777807 0.01850993 0.01597052 0.01596447 0.01477498\n",
      "  0.02198491 0.01555108 0.01433927 0.01251512 0.0130752  0.01424706\n",
      "  0.01304265 0.01313058 0.0148292 ]\n",
      " [0.01997198 0.0179628  0.01631153 0.01392154 0.01461166 0.01228223\n",
      "  0.01330489 0.01432457 0.01611024 0.01410209 0.01904953 0.01787569\n",
      "  0.01574613 0.01570375 0.01085226 0.01239771 0.0106196  0.01484556\n",
      "  0.01768463 0.0173983  0.01839934]\n",
      " [0.01295084 0.01279142 0.01284472 0.01565273 0.01792495 0.01774833\n",
      "  0.01394864 0.01486974 0.01240933 0.01383805 0.01471182 0.01419228\n",
      "  0.01582944 0.01502273 0.01482307 0.01343537 0.01529792 0.01218462\n",
      "  0.01448535 0.01473764 0.0141037 ]]\n",
      ">>> Metadata: {'shots': 10016, 'target_precision': 0.01, 'circuit_metadata': {}, 'resilience': {}, 'num_randomizations': 32}\n"
     ]
    }
   ],
   "source": [
    "import numpy as np\n",
    "\n",
    "from qiskit.circuit import QuantumCircuit, Parameter\n",
    "from qiskit.quantum_info import SparsePauliOp\n",
    "from qiskit.transpiler import generate_preset_pass_manager\n",
    "from qiskit_ibm_runtime import QiskitRuntimeService, EstimatorV2 as Estimator\n",
    "\n",
    "service = QiskitRuntimeService()\n",
    "backend = service.least_busy(operational=True, simulator=False)\n",
    "\n",
    "# Step 1: Map classical inputs to a quantum problem\n",
    "theta = Parameter(\"θ\")\n",
    "\n",
    "chsh_circuit = QuantumCircuit(2)\n",
    "chsh_circuit.h(0)\n",
    "chsh_circuit.cx(0, 1)\n",
    "chsh_circuit.ry(theta, 0)\n",
    "\n",
    "number_of_phases = 21\n",
    "phases = np.linspace(0, 2 * np.pi, number_of_phases)\n",
    "individual_phases = [[ph] for ph in phases]\n",
    "\n",
    "ZZ = SparsePauliOp.from_list([(\"ZZ\", 1)])\n",
    "ZX = SparsePauliOp.from_list([(\"ZX\", 1)])\n",
    "XZ = SparsePauliOp.from_list([(\"XZ\", 1)])\n",
    "XX = SparsePauliOp.from_list([(\"XX\", 1)])\n",
    "ops = [ZZ, ZX, XZ, XX]\n",
    "\n",
    "# Step 2: Optimize problem for quantum execution.\n",
    "\n",
    "pm = generate_preset_pass_manager(backend=backend, optimization_level=1)\n",
    "chsh_isa_circuit = pm.run(chsh_circuit)\n",
    "isa_observables = [\n",
    "    operator.apply_layout(chsh_isa_circuit.layout) for operator in ops\n",
    "]\n",
    "\n",
    "# Step 3: Execute using Qiskit primitives.\n",
    "\n",
    "# Reshape observable array for broadcasting\n",
    "reshaped_ops = np.fromiter(isa_observables, dtype=object)\n",
    "reshaped_ops = reshaped_ops.reshape((4, 1))\n",
    "\n",
    "estimator = Estimator(backend, options={\"default_shots\": int(1e4)})\n",
    "job = estimator.run([(chsh_isa_circuit, reshaped_ops, individual_phases)])\n",
    "# Get results for the first (and only) PUB\n",
    "pub_result = job.result()[0]\n",
    "print(f\">>> Expectation values: {pub_result.data.evs}\")\n",
    "print(f\">>> Standard errors: {pub_result.data.stds}\")\n",
    "print(f\">>> Metadata: {pub_result.metadata}\")"
   ]
  },
  {
   "cell_type": "markdown",
   "id": "793f0ed1-5682-4aa3-a4a0-7baba71650f9",
   "metadata": {},
   "source": [
    "### Use sessions and advanced options\n",
    "\n",
    "Explore sessions and advanced options to optimize circuit performance on QPUs.\n",
    "\n",
    "\n",
    "<Admonition type=\"caution\">\n",
    "The following code block will return an error for Open Plan users because it uses sessions. Open Plan workloads can run only in [job mode](/docs/guides/execution-modes#job-mode) or [batch mode](/docs/guides/execution-modes#batch-mode).\n",
    "</Admonition>"
   ]
  },
  {
   "cell_type": "code",
   "execution_count": 4,
   "id": "d007b547-8546-4ca3-aee6-9a4e3a82598d",
   "metadata": {},
   "outputs": [
    {
     "name": "stdout",
     "output_type": "stream",
     "text": [
      " > Expectation value: 0.4332129963898917\n",
      " > Metadata: {'shots': 4096, 'target_precision': 0.015625, 'circuit_metadata': {}, 'resilience': {}, 'num_randomizations': 32}\n",
      " > Another Expectation value: -0.02\n",
      " > More Metadata: {'shots': 4096, 'target_precision': 0.015625, 'circuit_metadata': {}, 'resilience': {}, 'num_randomizations': 32}\n"
     ]
    }
   ],
   "source": [
    "import numpy as np\n",
    "from qiskit.circuit.library import iqp\n",
    "from qiskit.transpiler import generate_preset_pass_manager\n",
    "from qiskit.quantum_info import SparsePauliOp, random_hermitian\n",
    "from qiskit_ibm_runtime import (\n",
    "    QiskitRuntimeService,\n",
    "    Session,\n",
    "    EstimatorV2 as Estimator,\n",
    ")\n",
    "\n",
    "n_qubits = 50\n",
    "\n",
    "service = QiskitRuntimeService()\n",
    "backend = service.least_busy(\n",
    "    operational=True, simulator=False, min_num_qubits=n_qubits\n",
    ")\n",
    "\n",
    "rng = np.random.default_rng(1234)\n",
    "mat = np.real(random_hermitian(n_qubits, seed=rng))\n",
    "circuit = iqp(mat)\n",
    "mat = np.real(random_hermitian(n_qubits, seed=rng))\n",
    "another_circuit = iqp(mat)\n",
    "observable = SparsePauliOp(\"X\" * 50)\n",
    "another_observable = SparsePauliOp(\"Y\" * 50)\n",
    "\n",
    "pm = generate_preset_pass_manager(optimization_level=1, backend=backend)\n",
    "isa_circuit = pm.run(circuit)\n",
    "another_isa_circuit = pm.run(another_circuit)\n",
    "isa_observable = observable.apply_layout(isa_circuit.layout)\n",
    "another_isa_observable = another_observable.apply_layout(\n",
    "    another_isa_circuit.layout\n",
    ")\n",
    "\n",
    "with Session(backend=backend) as session:\n",
    "    estimator = Estimator(mode=session)\n",
    "\n",
    "    estimator.options.resilience_level = 1\n",
    "\n",
    "    job = estimator.run([(isa_circuit, isa_observable)])\n",
    "    another_job = estimator.run(\n",
    "        [(another_isa_circuit, another_isa_observable)]\n",
    "    )\n",
    "    result = job.result()\n",
    "    another_result = another_job.result()\n",
    "\n",
    "    # first job\n",
    "    print(f\" > Expectation value: {result[0].data.evs}\")\n",
    "    print(f\" > Metadata: {result[0].metadata}\")\n",
    "\n",
    "    # second job\n",
    "    print(f\" > Another Expectation value: {another_result[0].data.evs}\")\n",
    "    print(f\" > More Metadata: {another_result[0].metadata}\")"
   ]
  },
  {
   "cell_type": "markdown",
   "id": "12aea3c7-37a1-4a6b-b944-587669aa6611",
   "metadata": {},
   "source": [
    "<span id=\"sampler-examples\"></span>\n",
    "## Sampler examples\n",
    "\n",
    "Generate entire error-mitigated quasi-probability distributions sampled from quantum circuit outputs. Leverage Sampler’s capabilities for search and classification algorithms like Grover’s and QVSM.\n",
    "\n",
    "### Run a single experiment\n",
    "\n",
    "Use Sampler to return the measurement outcome as bitstrings or counts of a single circuit."
   ]
  },
  {
   "cell_type": "code",
   "execution_count": 5,
   "id": "a5a561b3-3819-4f9e-bb64-4c27267e0e96",
   "metadata": {
    "scrolled": true
   },
   "outputs": [
    {
     "name": "stdout",
     "output_type": "stream",
     "text": [
      " > First ten results: ['0011111101111100000000000000010001011101000001101001000100000110001001110111101110001110101110101001111000100010000100001100100', '1101000100001100101100001101010001111000110000100111001000010011010000000011101110110011010110011110110000011011010000110011101', '0010010111000001000001111010110110111001000111000100010111000010001011000100011000000010001100111001011010000110000000001010100', '0111100101011110101100100010000101000001000010000010111101100000110001001111000000110010010000011111010100101011010110101011000', '0100000001010010000001100110100100011111110101110111100110010001011000000100100101001010100101000100011001011100110100010010001', '0011100000001101001010111100010111100100000100000010001010010011000010000000010000110010100100001010011000101100000001010001000', '1001011100010101101011011000000000000000000100000011000111011010010111100010101000111011000100100000010100000000010010011000000', '1001100010100001001011001001000011101010011001010001001000100001010010100010100010100010001100000010111001100111010001110001100', '1111100010000010001110100110010000010000010110010010000010000101001111000010011001000110000000011000000001001101000001100000000', '1010011001010010000100101000101101010000000011000100011101100000110001011110000000111001000001010001101011000100110100000111010']\n"
     ]
    }
   ],
   "source": [
    "import numpy as np\n",
    "from qiskit.circuit.library import iqp\n",
    "from qiskit.transpiler import generate_preset_pass_manager\n",
    "from qiskit.quantum_info import random_hermitian\n",
    "from qiskit_ibm_runtime import QiskitRuntimeService, SamplerV2 as Sampler\n",
    "\n",
    "n_qubits = 127\n",
    "\n",
    "service = QiskitRuntimeService()\n",
    "backend = service.least_busy(\n",
    "    operational=True, simulator=False, min_num_qubits=n_qubits\n",
    ")\n",
    "\n",
    "mat = np.real(random_hermitian(n_qubits, seed=1234))\n",
    "circuit = iqp(mat)\n",
    "circuit.measure_all()\n",
    "\n",
    "pm = generate_preset_pass_manager(backend=backend, optimization_level=1)\n",
    "isa_circuit = pm.run(circuit)\n",
    "\n",
    "sampler = Sampler(backend)\n",
    "job = sampler.run([isa_circuit])\n",
    "result = job.result()\n",
    "\n",
    "# Get results for the first (and only) PUB\n",
    "pub_result = result[0]\n",
    "\n",
    "print(f\" > First ten results: {pub_result.data.meas.get_bitstrings()[:10]}\")"
   ]
  },
  {
   "cell_type": "markdown",
   "id": "c9ea6d3c-b03f-49e2-a8de-d32e58396e02",
   "metadata": {},
   "source": [
    "### Run multiple experiments in a single job\n",
    "\n",
    "Use Sampler to return the measurement outcome as bitstrings or counts of multiple circuits in one job."
   ]
  },
  {
   "cell_type": "code",
   "execution_count": 6,
   "id": "e4534da8-9fe3-402b-8afc-f4bd9fbed497",
   "metadata": {},
   "outputs": [
    {
     "name": "stdout",
     "output_type": "stream",
     "text": [
      " > First ten results for pub 0: ['0111100110011100011001000001111110001000110101111101100001110100110000001110000011010101010010011101011000000000000010100100011', '1010000001100101111100110101000001101100100001111110000111000000000001110000010000001101110001001100010011110001001000000110101', '0011111100100011001001101010110001011010010100101110010000100100110000001101001110001110101001000000100000001000000100100110100', '1110110001110000100111100111001000001101000000000001010100010001010110111000111010000100010111000010001101001011000001100000011', '0100100001110001010100010010001011000001011110100010001111110100110100100100100110000100110111000000110101000001000000100100101', '1010110110110010110110010111111100111100101110100001000000001110011110011100001000000011010011000010110000001000000100010100100', '1100000101000101001011001101001110000011100100000001111000000111010100100010100111010011000000100111010111010100000000101110001', '1100011011100100000100111011010111000110001100001010001010001100111101110011111101000101001001100011010100001100000100100100010', '1011111101001111110001111101101110110001001001101101011100011000101000010010000001010101111000000111001101000001100000011111010', '0010001011011000000000001110001010010101110001010101001010001110111011011001000011000100100010001010000000001000000000100000010']\n",
      " > First ten results for pub 1: ['1100001011111110011001101101100001100001001011101000001100101101010000000110101000000010011000101110101101011000000100010000000', '0100000111001101000110001000001010110001001000010000000011100111001001000010111011011010011011000010101010001010010100011100010', '1000001100111101001011100110010010100000001001100011000001000101000010111010110000100001000111010010110110001101010000010000000', '0000100110000101010001100011001111000111001011001100000000110000111101100111100011001011011100010001001010011010000000000000000', '1011111011111100110100010101111001000000100110100100001111110101110110100100100001100001101000101111100010010110010101000100000', '1000011011001011000000001110011101000001111100101110010000011110101000110001100010100011000100000010000110110110101101000100110', '0000000001010110000011000110100000010001010111011110110010000010010011100101110000100101001111001000010111010000100100110000110', '1100100000000000110110011000101100101001011110000111000000011111100111001100101111001000001100101010000010111011010100100000001', '1110001110011001001100110000010111100011100001011101000100001101000101000010110100000000011010001001111011100001101001110000000', '0001100110111101100110111000101110101010110010101011010011000111101111001100000101100000000011001110110110111011100000010011000']\n",
      " > First ten results for pub 2: ['1011000011010000110100000110010111110111000101011111100000001010010100010010010000000010001101110000010011001100000000110001001', '1001011011011110110010100010011010010001010111100001010100001000101101110101001000000010110100110001000000000000100110101001001', '0100101010111000011000100010111100100000010010101011100011011001110000100010000100100111000001110010001110000010000000000001010', '0001001001111100010101011000001011101001011000110001000011001000011100011111000100010111101000010001111101100000001100110010100', '0101100110000001110010001100000100000100111011000010101110001000000101010010110100110001010100110011000000100100000100010001110', '1010100010101100001001010101110011100000111111100001000001010101100101000001000000110000010100010001001010101100100000000100011', '1111010101100010001001100111000001010101000000110000000010011100001110010000010100001110000010011010001100001001000011000101001', '1101110001000010110000000000010000000010100010110111101011000101000000101101000000000010001001000011001001010001111111110111011', '1100010101000000111010000110111000110001000001001100000001011000010110110011000100000001000000101001001000000010010000100010000', '0100011100000011000100110110111010100101110000010010111010101001000111011101100000100111110100010001001111000000001100010001110']\n"
     ]
    }
   ],
   "source": [
    "import numpy as np\n",
    "from qiskit.circuit.library import iqp\n",
    "from qiskit.transpiler import generate_preset_pass_manager\n",
    "from qiskit.quantum_info import random_hermitian\n",
    "from qiskit_ibm_runtime import QiskitRuntimeService, SamplerV2 as Sampler\n",
    "\n",
    "n_qubits = 127\n",
    "\n",
    "service = QiskitRuntimeService()\n",
    "backend = service.least_busy(\n",
    "    operational=True, simulator=False, min_num_qubits=n_qubits\n",
    ")\n",
    "\n",
    "rng = np.random.default_rng()\n",
    "mats = [np.real(random_hermitian(n_qubits, seed=rng)) for _ in range(3)]\n",
    "circuits = [iqp(mat) for mat in mats]\n",
    "for circuit in circuits:\n",
    "    circuit.measure_all()\n",
    "\n",
    "pm = generate_preset_pass_manager(backend=backend, optimization_level=1)\n",
    "isa_circuits = pm.run(circuits)\n",
    "\n",
    "sampler = Sampler(mode=backend)\n",
    "job = sampler.run(isa_circuits)\n",
    "result = job.result()\n",
    "\n",
    "for idx, pub_result in enumerate(result):\n",
    "    print(\n",
    "        f\" > First ten results for pub {idx}: {pub_result.data.meas.get_bitstrings()[:10]}\"\n",
    "    )"
   ]
  },
  {
   "cell_type": "markdown",
   "id": "e3ce4f13-b772-4ee6-ba9d-d98da633ab5c",
   "metadata": {},
   "source": [
    "### Run parameterized circuits\n",
    "\n",
    "Run several experiments in a single job, leveraging parameter values to increase circuit reusability."
   ]
  },
  {
   "cell_type": "code",
   "execution_count": 7,
   "id": "c63c9cb6-0650-433c-b3d6-dcde06e465e4",
   "metadata": {},
   "outputs": [
    {
     "name": "stdout",
     "output_type": "stream",
     "text": [
      " >> First ten results for the meas output register: ['0000010001111011111010000100100010010010011001110100101110110110000110000000101101100000010100100101011011111101110111001000001', '1100010110110011100001110000110111000011100001110001000001011100111100001101001101010111001101010100010100111101001100110100101', '0000101101011111001000010011110010111110000010011001000100001010010001100111001010100000100000011011110100110100000100011111001', '1111111110110111110010000010001100110000111001110010101100000101110111101100010100010011110010010010001100111111011111000001101', '0010001110111001011011010100011111000010000010101101010000011111010100000100111110000011110001100010101000110011101010010000000', '0001010111010110001000100000101001101011001110100011101111110010000110001001101010100010011100100011011100110011111001101110001', '0000000110010111011001000110011001101110011010000000101000001000101101100111011100110101111010011000100110111100010011100100111', '0000010011111001001011010001010010001010100000100000110100001110011111100001111101111111101001110010100010111100110000010011011', '0010000000100110010000000111000100011001100000111000111001110100010010101001011000110000011110100110110100011101011000110110011', '0110110001001101100100010110010011001000001001011111001001000111110100110110111110001101110111010000110111011000111101010000101']\n"
     ]
    }
   ],
   "source": [
    "import numpy as np\n",
    "from qiskit.circuit.library import real_amplitudes\n",
    "from qiskit.transpiler import generate_preset_pass_manager\n",
    "from qiskit_ibm_runtime import QiskitRuntimeService, SamplerV2 as Sampler\n",
    "\n",
    "n_qubits = 127\n",
    "\n",
    "service = QiskitRuntimeService()\n",
    "backend = service.least_busy(\n",
    "    operational=True, simulator=False, min_num_qubits=n_qubits\n",
    ")\n",
    "\n",
    "# Step 1: Map classical inputs to a quantum problem\n",
    "circuit = real_amplitudes(num_qubits=n_qubits, reps=2)\n",
    "circuit.measure_all()\n",
    "\n",
    "# Define three sets of parameters for the circuit\n",
    "rng = np.random.default_rng(1234)\n",
    "parameter_values = [\n",
    "    rng.uniform(-np.pi, np.pi, size=circuit.num_parameters) for _ in range(3)\n",
    "]\n",
    "\n",
    "# Step 2: Optimize problem for quantum execution.\n",
    "\n",
    "pm = generate_preset_pass_manager(backend=backend, optimization_level=1)\n",
    "isa_circuit = pm.run(circuit)\n",
    "\n",
    "# Step 3: Execute using Qiskit primitives.\n",
    "sampler = Sampler(backend)\n",
    "job = sampler.run([(isa_circuit, parameter_values)])\n",
    "result = job.result()\n",
    "# Get results for the first (and only) PUB\n",
    "pub_result = result[0]\n",
    "# Get counts from the classical register \"meas\".\n",
    "print(\n",
    "    f\" >> First ten results for the meas output register: {pub_result.data.meas.get_bitstrings()[:10]}\"\n",
    ")"
   ]
  },
  {
   "cell_type": "markdown",
   "id": "a8b00d2a-3c5d-4670-9774-d39cdb262552",
   "metadata": {},
   "source": [
    "### Use sessions and advanced options\n",
    "\n",
    "Explore sessions and advanced options to optimize circuit performance on QPUs.\n",
    "\n",
    "\n",
    "<Admonition type=\"caution\">\n",
    "The following code block will return an error for users on the Open Plan, because it uses sessions. Workloads on the Open Plan can run only in [job mode](/docs/guides/execution-modes#job-mode) or [batch mode](/docs/guides/execution-modes#batch-mode).\n",
    "</Admonition>"
   ]
  },
  {
   "cell_type": "code",
   "execution_count": 8,
   "id": "881fdac4-973b-4cef-a3da-c011d326ff54",
   "metadata": {
    "scrolled": true
   },
   "outputs": [
    {
     "name": "stdout",
     "output_type": "stream",
     "text": [
      " > The first ten measurement results of job 1: ['0000001101101110001011000001110110100101110110111011100010001011010101010100000010000110001100011001010111000000000011011111000', '0011011000011011111000100010110011000100010000100001110001001000101111101000100011011101001010110010000110001000000000001100000', '1100100101101111010110011010000110011001000110100010001000010000000010100000000010011000101000010000101110110110001000001011010', '0001101101101010111111010100110101000001100000101100110111011000011001100010110000111101101001111010001111001000100010100010000', '0110100001010000101100000001000101001000110100100000011110001101110101101000101111110100000011010011011110000011101101001001000', '0001101000111101111011001111100111010000100000100100100000100010001101100001010000001001000000001010110001011101010001000101011', '0000011000101111101001111000000011000001000001001010010011010001000001110001100100000100001100000000100000011000101000000100001', '0011100001111100011111010111010011001010110000000000001000111011010110000011000000110101001100001100100010000100110001100000001', '0010000100010101010000011101110001010101010010011011110011110010011000000000110000001110110100101001010000001000000110000000000', '0100001000011010100011000101010111101001100011001110110001000001100001111011000001010100000000001000000011001001110000101001000']\n"
     ]
    }
   ],
   "source": [
    "import numpy as np\n",
    "from qiskit.circuit.library import iqp\n",
    "from qiskit.quantum_info import random_hermitian\n",
    "from qiskit.transpiler import generate_preset_pass_manager\n",
    "from qiskit_ibm_runtime import Session, SamplerV2 as Sampler\n",
    "from qiskit_ibm_runtime import QiskitRuntimeService\n",
    "\n",
    "n_qubits = 127\n",
    "\n",
    "service = QiskitRuntimeService()\n",
    "backend = service.least_busy(\n",
    "    operational=True, simulator=False, min_num_qubits=n_qubits\n",
    ")\n",
    "\n",
    "rng = np.random.default_rng(1234)\n",
    "mat = np.real(random_hermitian(n_qubits, seed=rng))\n",
    "circuit = iqp(mat)\n",
    "circuit.measure_all()\n",
    "mat = np.real(random_hermitian(n_qubits, seed=rng))\n",
    "another_circuit = iqp(mat)\n",
    "another_circuit.measure_all()\n",
    "\n",
    "pm = generate_preset_pass_manager(backend=backend, optimization_level=1)\n",
    "isa_circuit = pm.run(circuit)\n",
    "another_isa_circuit = pm.run(another_circuit)\n",
    "\n",
    "with Session(backend=backend) as session:\n",
    "    sampler = Sampler(mode=session)\n",
    "    job = sampler.run([isa_circuit])\n",
    "    another_job = sampler.run([another_isa_circuit])\n",
    "    result = job.result()\n",
    "    another_result = another_job.result()\n",
    "\n",
    "# first job\n",
    "\n",
    "print(\n",
    "    f\" > The first ten measurement results of job 1: {result[0].data.meas.get_bitstrings()[:10]}\"\n",
    ")"
   ]
  },
  {
   "cell_type": "code",
   "execution_count": 9,
   "id": "40fe2a06-edfc-41a8-9054-7f31ab93a00c",
   "metadata": {},
   "outputs": [
    {
     "name": "stdout",
     "output_type": "stream",
     "text": [
      " > The first ten measurement results of job 2: ['0010101111011011101111111100111100000011011011001000010100100000001000100110000010010000010000100001100010100101111000000000000', '0010000100111001111000001000100100101001000101010110100000100110011101101110010000111001000110100011100010110101001100000011100', '0111110100101100011101111011001110001111111010110010101100000000011001011101010010110000100000110010100000000100001000100100000', '0001010000010100100011111011000100000001001010000000001100010110101101111010111010010011000000111000001011101110111100001110011', '1001011100101101111011010100111111110110110110000101010010010000101111101000100100011111000011010010001101000110100100010101000', '1111110011001000010111010000011101000011010000100100101110100100001010011100101010010000000010010101100010101000100000010000101', '1010101111000100000100000000101001001110101100001110101101111010001101000100100001001010101110010000110110010101011000000011110', '1100111100111000010111000111000010100111110001010000100100110100001001000010010000011000000010010010001001000110010010010001000', '1011110111010101100011001000101100000001000111000011110000001010100111110100011010011010100110000100010111010110001000010011000', '1000010101010010010011000100011110001001110000010100010010010100010000110000101110101100010001000010110001000100100010110001001']\n"
     ]
    }
   ],
   "source": [
    "# second job\n",
    "print(\n",
    "    \" > The first ten measurement results of job 2:\",\n",
    "    another_result[0].data.meas.get_bitstrings()[:10],\n",
    ")"
   ]
  },
  {
   "cell_type": "markdown",
   "id": "551e1894-a12a-4f6c-8347-020fdc9db74e",
   "metadata": {},
   "source": [
    "## Next steps\n",
    "\n",
    "<Admonition type=\"tip\" title=\"Recommendations\">\n",
    "    - [Specify advanced runtime options.](runtime-options-overview)\n",
    "    - Practice with primitives by working through the [Cost function lesson](/learning/courses/variational-algorithm-design/cost-functions) in IBM Quantum Learning.\n",
    "    - Learn how to transpile locally in the [Transpile](./transpile/) section.\n",
    "    - Try the [Compare transpiler settings](/docs/tutorials/circuit-transpilation-settings) tutorial.\n",
    "    - Read [Migrate to V2 primitives](/docs/migration-guides/v2-primitives).\n",
    "    - Understand the [Job limits](/docs/guides/job-limits) when sending a job to an IBM&reg; QPU.\n",
    "</Admonition>"
   ]
  }
 ],
 "metadata": {
  "description": "Practical examples of using primitives in Qiskit Runtime.",
  "kernelspec": {
   "display_name": "Python 3",
   "language": "python",
   "name": "python3"
  },
  "language_info": {
   "codemirror_mode": {
    "name": "ipython",
    "version": 3
   },
   "file_extension": ".py",
   "mimetype": "text/x-python",
   "name": "python",
   "nbconvert_exporter": "python",
   "pygments_lexer": "ipython3",
   "version": "3"
  },
  "title": "Primitives examples"
 },
 "nbformat": 4,
 "nbformat_minor": 4
}
