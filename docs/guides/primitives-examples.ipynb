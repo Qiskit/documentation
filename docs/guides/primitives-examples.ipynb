{
 "cells": [
  {
   "cell_type": "markdown",
   "id": "915d2c66-aed3-47f1-a405-144348514dd3",
   "metadata": {},
   "source": [
    "# Primitives examples\n",
    "\n",
    "The examples in this section illustrate some common ways to use primitives. Before running these examples, follow the instructions in [Install and set up.](install-qiskit)\n",
    "\n",
    "<Admonition type=\"note\">\n",
    "    These examples all use the primitives from Qiskit Runtime, but you could use the base primitives instead.\n",
    "</Admonition>\n",
    "\n",
    "## Estimator examples\n",
    "\n",
    "Efficiently calculate and interpret expectation values of the quantum operators required for many algorithms with Estimator. Explore uses in molecular modeling, machine learning, and complex optimization problems.\n",
    "\n",
    "### Run a single experiment\n",
    "\n",
    "Use Estimator to determine the expectation value of a single circuit-observable pair."
   ]
  },
  {
   "cell_type": "code",
   "execution_count": 1,
   "id": "88d9d34b-2903-48b9-8f3c-398da05b487b",
   "metadata": {},
   "outputs": [
    {
     "name": "stdout",
     "output_type": "stream",
     "text": [
      " > Expectation value: -0.14274631497284718\n",
      " > Metadata: {'shots': 4096, 'target_precision': 0.015625, 'circuit_metadata': {}, 'resilience': {}, 'num_randomizations': 32}\n"
     ]
    }
   ],
   "source": [
    "import numpy as np\n",
    "from qiskit.circuit.library import IQP\n",
    "from qiskit.transpiler.preset_passmanagers import generate_preset_pass_manager\n",
    "from qiskit.quantum_info import SparsePauliOp, random_hermitian\n",
    "from qiskit_ibm_runtime import QiskitRuntimeService, EstimatorV2 as Estimator\n",
    "\n",
    "n_qubits = 50\n",
    "\n",
    "service = QiskitRuntimeService()\n",
    "backend = service.least_busy(\n",
    "    operational=True, simulator=False, min_num_qubits=n_qubits\n",
    ")\n",
    "\n",
    "mat = np.real(random_hermitian(n_qubits, seed=1234))\n",
    "circuit = IQP(mat)\n",
    "observable = SparsePauliOp(\"Z\" * 50)\n",
    "\n",
    "pm = generate_preset_pass_manager(backend=backend, optimization_level=1)\n",
    "isa_circuit = pm.run(circuit)\n",
    "isa_observable = observable.apply_layout(isa_circuit.layout)\n",
    "\n",
    "estimator = Estimator(mode=backend)\n",
    "job = estimator.run([(isa_circuit, isa_observable)])\n",
    "result = job.result()\n",
    "\n",
    "print(f\" > Expectation value: {result[0].data.evs}\")\n",
    "print(f\" > Metadata: {result[0].metadata}\")"
   ]
  },
  {
   "cell_type": "markdown",
   "id": "191eb3ee-b0d7-4710-90d6-1839ab51719e",
   "metadata": {},
   "source": [
    "### Run multiple experiments in a single job\n",
    "\n",
    "Use Estimator to determine the expectation values of multiple circuit-observable pairs."
   ]
  },
  {
   "cell_type": "code",
   "execution_count": 2,
   "id": "6bd60dea-dde5-48a6-9b35-7d90a48692a1",
   "metadata": {},
   "outputs": [
    {
     "name": "stdout",
     "output_type": "stream",
     "text": [
      ">>> Expectation values for PUB 0: 0.3711340206185567\n",
      ">>> Standard errors for PUB 0: 0.16935809977687646\n",
      ">>> Expectation values for PUB 1: -0.026905829596412557\n",
      ">>> Standard errors for PUB 1: 0.21577124738663342\n",
      ">>> Expectation values for PUB 2: 0.005939123979213066\n",
      ">>> Standard errors for PUB 2: 0.2376372001854862\n"
     ]
    }
   ],
   "source": [
    "import numpy as np\n",
    "from qiskit.circuit.library import IQP\n",
    "from qiskit.transpiler.preset_passmanagers import generate_preset_pass_manager\n",
    "from qiskit.quantum_info import SparsePauliOp, random_hermitian\n",
    "from qiskit_ibm_runtime import QiskitRuntimeService, EstimatorV2 as Estimator\n",
    "\n",
    "n_qubits = 50\n",
    "\n",
    "service = QiskitRuntimeService()\n",
    "backend = service.least_busy(\n",
    "    operational=True, simulator=False, min_num_qubits=n_qubits\n",
    ")\n",
    "\n",
    "rng = np.random.default_rng()\n",
    "mats = [np.real(random_hermitian(n_qubits, seed=rng)) for _ in range(3)]\n",
    "\n",
    "pubs = []\n",
    "circuits = [IQP(mat) for mat in mats]\n",
    "observables = [\n",
    "    SparsePauliOp(\"X\" * 50),\n",
    "    SparsePauliOp(\"Y\" * 50),\n",
    "    SparsePauliOp(\"Z\" * 50),\n",
    "]\n",
    "\n",
    "# Get ISA circuits\n",
    "pm = generate_preset_pass_manager(optimization_level=1, backend=backend)\n",
    "\n",
    "for qc, obs in zip(circuits, observables):\n",
    "    isa_circuit = pm.run(qc)\n",
    "    isa_obs = obs.apply_layout(isa_circuit.layout)\n",
    "    pubs.append((isa_circuit, isa_obs))\n",
    "\n",
    "estimator = Estimator(backend)\n",
    "job = estimator.run(pubs)\n",
    "job_result = job.result()\n",
    "\n",
    "for idx in range(len(pubs)):\n",
    "    pub_result = job_result[idx]\n",
    "    print(f\">>> Expectation values for PUB {idx}: {pub_result.data.evs}\")\n",
    "    print(f\">>> Standard errors for PUB {idx}: {pub_result.data.stds}\")"
   ]
  },
  {
   "cell_type": "markdown",
   "id": "36995a0d-a912-4a55-8ed5-20525d248237",
   "metadata": {},
   "source": [
    "### Run parameterized circuits\n",
    "\n",
    "Use Estimator to run three experiments in a single job, leveraging parameter values to increase circuit reusability."
   ]
  },
  {
   "cell_type": "code",
   "execution_count": 3,
   "id": "c80000d6-b8fe-419c-9d4c-874190b9b8b7",
   "metadata": {},
   "outputs": [
    {
     "name": "stdout",
     "output_type": "stream",
     "text": [
      ">>> Expectation values: [[ 0.96674749  0.91218758  0.7620351   0.55371545  0.26626138 -0.02299633\n",
      "  -0.31112676 -0.5864063  -0.80396958 -0.93563482 -0.96562022 -0.91015849\n",
      "  -0.76857327 -0.57671177 -0.27031955  0.03426903  0.31495948  0.58708266\n",
      "   0.78142416  0.92616574  0.97080567]\n",
      " [ 0.0324654   0.33885762  0.58234813  0.79111869  0.91511849  0.96043477\n",
      "   0.91173667  0.78029689  0.54988273  0.30188314 -0.01239998 -0.32871218\n",
      "  -0.57783904 -0.78841324 -0.92233302 -0.97463839 -0.91444212 -0.76293692\n",
      "  -0.55033363 -0.27911227  0.02502541]\n",
      " [-0.03021086 -0.31743947 -0.59745356 -0.81231138 -0.94442753 -0.98681291\n",
      "  -0.92639119 -0.78570779 -0.55777362 -0.29376679  0.02389814  0.3054904\n",
      "   0.58618085  0.79585323  0.94082026  0.99087109  0.9239112   0.7836787\n",
      "   0.54898091  0.31563584 -0.03517085]\n",
      " [ 0.9834311   0.92436211  0.78322779  0.56701724  0.28835589 -0.01803633\n",
      "  -0.32578128 -0.57964268 -0.81253684 -0.93743845 -0.97869656 -0.92796937\n",
      "  -0.78773688 -0.5618318  -0.27279955  0.02209451  0.31608675  0.5888863\n",
      "   0.80644957  0.94104572  0.98072565]]\n",
      ">>> Standard errors: [[0.00791406 0.00871188 0.00724024 0.01042122 0.00984132 0.01407412\n",
      "  0.01317986 0.01034195 0.00942204 0.00669303 0.00780691 0.00782913\n",
      "  0.00949168 0.01017983 0.00944496 0.01014342 0.009834   0.0107141\n",
      "  0.00761763 0.00735764 0.00690999]\n",
      " [0.00980187 0.01107463 0.00605554 0.00946769 0.00848196 0.00776982\n",
      "  0.00890088 0.00838034 0.01070458 0.01096703 0.01238459 0.00950043\n",
      "  0.01047042 0.00654993 0.00791205 0.00661334 0.00745694 0.00788135\n",
      "  0.00881707 0.01137087 0.01066823]\n",
      " [0.01074408 0.01402286 0.00942541 0.00727623 0.00731557 0.00650754\n",
      "  0.00652773 0.00842238 0.00960817 0.00842278 0.01286664 0.01180919\n",
      "  0.01170777 0.00888581 0.00787723 0.00654288 0.00925932 0.00810642\n",
      "  0.00982588 0.00905315 0.00977469]\n",
      " [0.00783091 0.00908129 0.01049534 0.00970178 0.00999575 0.01468407\n",
      "  0.01117928 0.01035533 0.00886018 0.00739843 0.00739633 0.0070779\n",
      "  0.00797502 0.00856601 0.00869433 0.01131312 0.01066891 0.01034812\n",
      "  0.00856659 0.00591355 0.0058556 ]]\n",
      ">>> Metadata: {'shots': 10016, 'target_precision': 0.01, 'circuit_metadata': {}, 'resilience': {}, 'num_randomizations': 32}\n"
     ]
    }
   ],
   "source": [
    "import numpy as np\n",
    "\n",
    "from qiskit.circuit import QuantumCircuit, Parameter\n",
    "from qiskit.quantum_info import SparsePauliOp\n",
    "from qiskit.transpiler.preset_passmanagers import generate_preset_pass_manager\n",
    "from qiskit_ibm_runtime import QiskitRuntimeService, EstimatorV2 as Estimator\n",
    "\n",
    "service = QiskitRuntimeService()\n",
    "backend = service.least_busy(operational=True, simulator=False)\n",
    "\n",
    "# Step 1: Map classical inputs to a quantum problem\n",
    "theta = Parameter(\"θ\")\n",
    "\n",
    "chsh_circuit = QuantumCircuit(2)\n",
    "chsh_circuit.h(0)\n",
    "chsh_circuit.cx(0, 1)\n",
    "chsh_circuit.ry(theta, 0)\n",
    "\n",
    "number_of_phases = 21\n",
    "phases = np.linspace(0, 2 * np.pi, number_of_phases)\n",
    "individual_phases = [[ph] for ph in phases]\n",
    "\n",
    "ZZ = SparsePauliOp.from_list([(\"ZZ\", 1)])\n",
    "ZX = SparsePauliOp.from_list([(\"ZX\", 1)])\n",
    "XZ = SparsePauliOp.from_list([(\"XZ\", 1)])\n",
    "XX = SparsePauliOp.from_list([(\"XX\", 1)])\n",
    "ops = [ZZ, ZX, XZ, XX]\n",
    "\n",
    "# Step 2: Optimize problem for quantum execution.\n",
    "\n",
    "pm = generate_preset_pass_manager(backend=backend, optimization_level=1)\n",
    "chsh_isa_circuit = pm.run(chsh_circuit)\n",
    "isa_observables = [\n",
    "    operator.apply_layout(chsh_isa_circuit.layout) for operator in ops\n",
    "]\n",
    "\n",
    "# Step 3: Execute using Qiskit primitives.\n",
    "\n",
    "# Reshape observable array for broadcasting\n",
    "reshaped_ops = np.fromiter(isa_observables, dtype=object)\n",
    "reshaped_ops = reshaped_ops.reshape((4, 1))\n",
    "\n",
    "estimator = Estimator(backend, options={\"default_shots\": int(1e4)})\n",
    "job = estimator.run([(chsh_isa_circuit, reshaped_ops, individual_phases)])\n",
    "# Get results for the first (and only) PUB\n",
    "pub_result = job.result()[0]\n",
    "print(f\">>> Expectation values: {pub_result.data.evs}\")\n",
    "print(f\">>> Standard errors: {pub_result.data.stds}\")\n",
    "print(f\">>> Metadata: {pub_result.metadata}\")"
   ]
  },
  {
   "cell_type": "markdown",
   "id": "c7978aa5-da67-4f93-927d-277802ae5437",
   "metadata": {},
   "source": [
    "### Use sessions and advanced options\n",
    "\n",
    "Explore sessions and advanced options to optimize circuit performance on QPUs.\n",
    "\n",
    "<CloudContent>\n",
    "<Admonition type=\"caution\">\n",
    "The following code block will return an error for users on the Open Plan, because it uses sessions. Workloads on the Open Plan can run only in [job mode](/guides/execution-modes#job-mode) or [batch mode](/guides/execution-modes#batch-mode).\n",
    "</Admonition>\n",
    "</CloudContent>"
   ]
  },
  {
   "cell_type": "code",
   "execution_count": 4,
   "id": "cbe2bed7-e5c1-4264-ac42-1c267ff1af3b",
   "metadata": {},
   "outputs": [
    {
     "name": "stdout",
     "output_type": "stream",
     "text": [
      " > Expectation value: -0.12389380530973451\n",
      " > Metadata: {'shots': 4096, 'target_precision': 0.015625, 'circuit_metadata': {}, 'resilience': {}, 'num_randomizations': 32}\n",
      " > Another Expectation value: 0.17486338797814208\n",
      " > More Metadata: {'shots': 4096, 'target_precision': 0.015625, 'circuit_metadata': {}, 'resilience': {}, 'num_randomizations': 32}\n"
     ]
    }
   ],
   "source": [
    "import numpy as np\n",
    "from qiskit.circuit.library import IQP\n",
    "from qiskit.transpiler.preset_passmanagers import generate_preset_pass_manager\n",
    "from qiskit.quantum_info import SparsePauliOp, random_hermitian\n",
    "from qiskit_ibm_runtime import (\n",
    "    QiskitRuntimeService,\n",
    "    Session,\n",
    "    EstimatorV2 as Estimator,\n",
    ")\n",
    "\n",
    "n_qubits = 50\n",
    "\n",
    "service = QiskitRuntimeService()\n",
    "backend = service.least_busy(\n",
    "    operational=True, simulator=False, min_num_qubits=n_qubits\n",
    ")\n",
    "\n",
    "rng = np.random.default_rng(1234)\n",
    "mat = np.real(random_hermitian(n_qubits, seed=rng))\n",
    "circuit = IQP(mat)\n",
    "mat = np.real(random_hermitian(n_qubits, seed=rng))\n",
    "another_circuit = IQP(mat)\n",
    "observable = SparsePauliOp(\"X\" * 50)\n",
    "another_observable = SparsePauliOp(\"Y\" * 50)\n",
    "\n",
    "pm = generate_preset_pass_manager(optimization_level=1, backend=backend)\n",
    "isa_circuit = pm.run(circuit)\n",
    "another_isa_circuit = pm.run(another_circuit)\n",
    "isa_observable = observable.apply_layout(isa_circuit.layout)\n",
    "another_isa_observable = another_observable.apply_layout(\n",
    "    another_isa_circuit.layout\n",
    ")\n",
    "\n",
    "with Session(backend=backend) as session:\n",
    "    estimator = Estimator(mode=session)\n",
    "\n",
    "    estimator.options.resilience_level = 1\n",
    "\n",
    "    job = estimator.run([(isa_circuit, isa_observable)])\n",
    "    another_job = estimator.run(\n",
    "        [(another_isa_circuit, another_isa_observable)]\n",
    "    )\n",
    "    result = job.result()\n",
    "    another_result = another_job.result()\n",
    "\n",
    "    # first job\n",
    "    print(f\" > Expectation value: {result[0].data.evs}\")\n",
    "    print(f\" > Metadata: {result[0].metadata}\")\n",
    "\n",
    "    # second job\n",
    "    print(f\" > Another Expectation value: {another_result[0].data.evs}\")\n",
    "    print(f\" > More Metadata: {another_result[0].metadata}\")"
   ]
  },
  {
   "cell_type": "markdown",
   "id": "3a60b53b-418a-44fe-92d2-b1ba5d967c84",
   "metadata": {},
   "source": [
    "<span id=\"sampler-examples\"></span>\n",
    "## Sampler examples\n",
    "\n",
    "Generate entire error-mitigated quasi-probability distributions sampled from quantum circuit outputs. Leverage Sampler’s capabilities for search and classification algorithms like Grover’s and QVSM.\n",
    "\n",
    "### Run a single experiment\n",
    "\n",
    "Use Sampler to return the measurement outcome as bitstrings or counts of a single circuit."
   ]
  },
  {
   "cell_type": "code",
   "execution_count": 5,
   "id": "012cfeea-3af3-46bb-9e64-15bb052bbcd2",
   "metadata": {
    "scrolled": true
   },
   "outputs": [
    {
     "name": "stdout",
     "output_type": "stream",
     "text": [
      " > First ten results: ['1111011100111110101011110111010000101000000000111001100001000100110010110011000010100111001000010001000010100110000110010000001', '0001001010001101100100010100000010001000000100011000001110011101100010010011110101111100111001100010000001001101110010000110101', '1001101011001010001010001000100001000100010011000000100101110010111010010010001001010001000011011010100000001100100110101010001', '0111101000001100010100100110111100011000010001001000111111100010000010010000000001001110001110100010110011001101100000000000101', '0010000001011010000101110101101000001110110100000001100010111110011000010111000010000100011110001001001100000001010011100111101', '0000000111100100011000010011001010000000010111100101000111000000101000111000000011100100000001001101010111000100000000010100100', '0101011101011100101011001110100110001010010110110111111101000000001010000011000011001011011110010011000110101010010101100110101', '1001001001000000011000111011001000110110000100110000100001010010011010100000110001000011100100011011100110000011001010000101100', '0100000011111111001110001001000010100010100101000100001010001000100000011101000010000000001000101111001100011101000100000100000', '0101101111100000000100111000100000100010100111011100111110101001000010000000010100001011010111000001101001010010010101010111000']\n"
     ]
    }
   ],
   "source": [
    "import numpy as np\n",
    "from qiskit.circuit.library import IQP\n",
    "from qiskit.transpiler.preset_passmanagers import generate_preset_pass_manager\n",
    "from qiskit.quantum_info import random_hermitian\n",
    "from qiskit_ibm_runtime import QiskitRuntimeService, SamplerV2 as Sampler\n",
    "\n",
    "n_qubits = 127\n",
    "\n",
    "service = QiskitRuntimeService()\n",
    "backend = service.least_busy(\n",
    "    operational=True, simulator=False, min_num_qubits=n_qubits\n",
    ")\n",
    "\n",
    "mat = np.real(random_hermitian(n_qubits, seed=1234))\n",
    "circuit = IQP(mat)\n",
    "circuit.measure_all()\n",
    "\n",
    "pm = generate_preset_pass_manager(backend=backend, optimization_level=1)\n",
    "isa_circuit = pm.run(circuit)\n",
    "\n",
    "sampler = Sampler(backend)\n",
    "job = sampler.run([isa_circuit])\n",
    "result = job.result()\n",
    "\n",
    "# Get results for the first (and only) PUB\n",
    "pub_result = result[0]\n",
    "\n",
    "print(f\" > First ten results: {pub_result.data.meas.get_bitstrings()[:10]}\")"
   ]
  },
  {
   "cell_type": "markdown",
   "id": "a5c3d65c-9d14-4b4e-800c-6e3e231e335c",
   "metadata": {},
   "source": [
    "### Run multiple experiments in a single job\n",
    "\n",
    "Use Sampler to return the measurement outcome as bitstrings or counts of multiple circuits in one job."
   ]
  },
  {
   "cell_type": "code",
   "execution_count": 6,
   "id": "b5372b7e-8bc2-4f2e-8f65-03dcd368faeb",
   "metadata": {},
   "outputs": [
    {
     "name": "stdout",
     "output_type": "stream",
     "text": [
      " > First ten results for pub 0: ['1101010010001101110000010100000110111011000001011010010000001001101001010011011000011001100110100101110000010000000011000111101', '1111111100001000110101110011100010101100100111000001000010110111111000001000010010000110111011000101101010110001101000110010100', '0010101111001100111101001001010110000111101011000100010000011001000011011100001010001001001110101111010101000010000110110010000', '0011010001001101010110111101000001111101101001001110000000111000011010000100011010001001001111100111110000000000100010111010100', '0011110010101110101001010000010110111111100100100001011011110101110000011100011111100011010011110011101000010100100010110110100', '0100011010100100111100011111010011001100001110000010010011011010110010010110001000100000001010001001111100111100110000010000011', '1111100111101010110001011001100010000000100010011011010010010001000001100001010100111101110100100111001111100000000010000001010', '0010110100000011100100110100100000100011011111110001000001010000011000010000000100101000000110111100111011010000100000100000010', '0000001111100011001110001001011010001000101000000101010010111010100100011010000001100010101010100011011110100000000000101001111', '1100011110111001010101111101010101100010100100001000001110111000000010111100001001100111100010011000100000100010011000000010011']\n",
      " > First ten results for pub 1: ['0001010101000011001001110010001111010100001011000110101110011101100001011000010100010100001000001000100101100100011100010101100', '0011111110000000111010010010100100011111011010101100010000011010010110101111100000110101011011100000010111101010011100000001001', '1110101000100111011101001110000111011010000101000000011100111111111101111001100101111101111010110100100110011000010000000000001', '1011000111111001111000101011000100011001001110001000100000101010101011001010111111000101000010110100000110110110000000010000001', '0011100100011001101001000100000101010001010110100001101010110110000100111100111111000101110110000000001001011100100000000000011', '1001011000010011010001110011110101100001010110001011011000011011001110111000000111100001110110111100000100010100000111000011100', '1100110000111110110111011110100110111011001101010101000000100100010010100011001010101110101010000000000100011110110101011101100', '1000110100011010000101011011110110111001000000010001000010100110001011111001101010101001010010000000100000000001000100001001100', '0000001001000011011100011011101010101011110010000110000100111100100000110000000110100001111000110000100001000010101100001010000', '1010100110101101010010000111110010110000110100010011000000110100001111000001010101111010100010100100000100011000110100000000100']\n",
      " > First ten results for pub 2: ['1011001011110000111101110010011010010001100110111111011001110001000011001001101001000001100001000001010000000001110001010100100', '0001100110000011010101100110101000101110000101000100010001000001010000011100000111010010000100110001000001000001010001000000000', '1000101010100000001000010011101111010011100101101001101010001010011010001001010110000101000010000100100011110000000011010001000', '1100110011011001111000100110010100110011010001101010110110110000000110001100011101110100100110000001011000100100000001101000000', '1110110110000100101011000001001001010000000010101000010010101110111010010000001111001000000000100101010011001000100100011001101', '1011000001111100110000110100000100001001000000100000001011100001100000011011000100010000111011100111101000010101010011011000001', '0000010010010101010101000111001111110101000000001111111010001000000111001001110110011010010110110000011011000000110000000100000', '1000011000001010000100101001110110100110000011001001100110000100000101010100110110001001011011000001001010000101011010011110100', '1110010001110110000110010000010100001101100001101101011010001000000100001100010001110000010100000001010001000000010000001000100', '0010001000101101100111101010000000001010110100100100010110001000001001000100001000011101101100100110100001100011000000000100001']\n"
     ]
    }
   ],
   "source": [
    "import numpy as np\n",
    "from qiskit.circuit.library import IQP\n",
    "from qiskit.transpiler.preset_passmanagers import generate_preset_pass_manager\n",
    "from qiskit.quantum_info import random_hermitian\n",
    "from qiskit_ibm_runtime import QiskitRuntimeService, SamplerV2 as Sampler\n",
    "\n",
    "n_qubits = 127\n",
    "\n",
    "service = QiskitRuntimeService()\n",
    "backend = service.least_busy(\n",
    "    operational=True, simulator=False, min_num_qubits=n_qubits\n",
    ")\n",
    "\n",
    "rng = np.random.default_rng()\n",
    "mats = [np.real(random_hermitian(n_qubits, seed=rng)) for _ in range(3)]\n",
    "circuits = [IQP(mat) for mat in mats]\n",
    "for circuit in circuits:\n",
    "    circuit.measure_all()\n",
    "\n",
    "pm = generate_preset_pass_manager(backend=backend, optimization_level=1)\n",
    "isa_circuits = pm.run(circuits)\n",
    "\n",
    "sampler = Sampler(mode=backend)\n",
    "job = sampler.run(isa_circuits)\n",
    "result = job.result()\n",
    "\n",
    "for idx, pub_result in enumerate(result):\n",
    "    print(\n",
    "        f\" > First ten results for pub {idx}: {pub_result.data.meas.get_bitstrings()[:10]}\"\n",
    "    )"
   ]
  },
  {
   "cell_type": "markdown",
   "id": "36337791-94ff-4ed5-aa26-808c470eb728",
   "metadata": {},
   "source": [
    "### Run parameterized circuits\n",
    "\n",
    "Run several experiments in a single job, leveraging parameter values to increase circuit reusability."
   ]
  },
  {
   "cell_type": "code",
   "execution_count": 7,
   "id": "ea6c113e-15db-47a1-be34-459e68d1db4e",
   "metadata": {},
   "outputs": [
    {
     "name": "stdout",
     "output_type": "stream",
     "text": [
      " >> First ten results for the meas output register: ['0100101011011110111011110111111101011110010110010010011000111111010000001001001100011110000111111100100010000110001010101110101', '0001110111100101010000001101110011000011110000011011100000011111011100010110101110100010111110011011010101101000111010100010101', '0100110001001101110001000111101100100001010010101000100011010001100000010101010111001000101100001001010101110000110111100010010', '1001010001111001011010001110110011000010101111000111000010011011000100101001011001001011000111010011011000111110101110100011110', '0001011010010010010001100101111111100101100110011010001010111011101010110000101001110001011010101101001100100101010101101111101', '0010111000010000100001000101011110010011000111010101101001001010010100010100111010011000110000001011100100011101011001011100101', '0000101001101110100111001111010111101110101111100011101110100111100110001011111011111100100001111111111100100001001101100110001', '0001101011000111011011001101110010100100001000010111001000001101111000001111100111010011110100101000110001010001011111010011001', '0001010111011010110100001100111011100101101100110001001011010110010001110100100001000110011110011000111100000010101100110011111', '0011010011000010101011001100111000100100011101111001101001111111000110001000100010000000000110111001100110111110010011001101100']\n"
     ]
    }
   ],
   "source": [
    "import numpy as np\n",
    "from qiskit.circuit.library import RealAmplitudes\n",
    "from qiskit.transpiler.preset_passmanagers import generate_preset_pass_manager\n",
    "from qiskit_ibm_runtime import QiskitRuntimeService, SamplerV2 as Sampler\n",
    "\n",
    "n_qubits = 127\n",
    "\n",
    "service = QiskitRuntimeService()\n",
    "backend = service.least_busy(\n",
    "    operational=True, simulator=False, min_num_qubits=n_qubits\n",
    ")\n",
    "\n",
    "# Step 1: Map classical inputs to a quantum problem\n",
    "circuit = RealAmplitudes(num_qubits=n_qubits, reps=2)\n",
    "circuit.measure_all()\n",
    "\n",
    "# Define three sets of parameters for the circuit\n",
    "rng = np.random.default_rng(1234)\n",
    "parameter_values = [\n",
    "    rng.uniform(-np.pi, np.pi, size=circuit.num_parameters) for _ in range(3)\n",
    "]\n",
    "\n",
    "# Step 2: Optimize problem for quantum execution.\n",
    "\n",
    "pm = generate_preset_pass_manager(backend=backend, optimization_level=1)\n",
    "isa_circuit = pm.run(circuit)\n",
    "\n",
    "# Step 3: Execute using Qiskit primitives.\n",
    "sampler = Sampler(backend)\n",
    "job = sampler.run([(isa_circuit, parameter_values)])\n",
    "result = job.result()\n",
    "# Get results for the first (and only) PUB\n",
    "pub_result = result[0]\n",
    "# Get counts from the classical register \"meas\".\n",
    "print(\n",
    "    f\" >> First ten results for the meas output register: {pub_result.data.meas.get_bitstrings()[:10]}\"\n",
    ")"
   ]
  },
  {
   "cell_type": "markdown",
   "id": "1f144ac9-5f64-4aca-8cc4-8cf9362c5666",
   "metadata": {},
   "source": [
    "### Use sessions and advanced options\n",
    "\n",
    "Explore sessions and advanced options to optimize circuit performance on QPUs.\n",
    "\n",
    "<CloudContent>\n",
    "<Admonition type=\"caution\">\n",
    "The following code block will return an error for users on the Open Plan, because it uses sessions. Workloads on the Open Plan can run only in [job mode](/guides/execution-modes#job-mode) or [batch mode](/guides/execution-modes#batch-mode).\n",
    "</Admonition>\n",
    "</CloudContent>"
   ]
  },
  {
   "cell_type": "code",
   "execution_count": 8,
   "id": "d6248dcb-2ba9-4a06-a9ef-727db7092093",
   "metadata": {
    "scrolled": true
   },
   "outputs": [
    {
     "name": "stdout",
     "output_type": "stream",
     "text": [
      " > The first ten measurement results of job 1: ['1101101110011111000110011110100110111001011010000011001001100100111101101010010100000000010110000001010000000000000000100111110', '0100011110111011001110110110100010110000111100100100100100100011010000111001110111000001011111100101010100001100110000101010111', '1001011010001000001111010011000101000001001110100110100011000010110100000111010001101010010110100010010110010110101101000010100', '0001010010000000011000111000100011110000101110001111011000100000110110101010110100000000000000101001001100011010011100100010110', '1111110010010101001001100110110000100110111101000000000100110100010010111111000101100011000101101001001110000100101001101101100', '0100001101110000001000010010000111110110111100101000010000100111111101010100100001110010100011000000011000010100001000100010110', '1101011111001011000110010111110100000000010011000001010010010110110010100110110100000010001100010001001000100100100101101000100', '1000010111000010011011101110110001110011101111101010110011000011100010101100000001100011110001100010000000000110100000000000000', '0100100010001010010100011110101100100000100000011000101010000010100011101011000110110100011111011100000000001111011000100110000', '1100010100010011000001011011101101000100000001001010100000000110110010100010000010000011000100001100111100000000100000100010010']\n"
     ]
    }
   ],
   "source": [
    "import numpy as np\n",
    "from qiskit.circuit.library import IQP\n",
    "from qiskit.quantum_info import random_hermitian\n",
    "from qiskit.transpiler.preset_passmanagers import generate_preset_pass_manager\n",
    "from qiskit_ibm_runtime import Session, SamplerV2 as Sampler\n",
    "from qiskit_ibm_runtime import QiskitRuntimeService\n",
    "\n",
    "n_qubits = 127\n",
    "\n",
    "service = QiskitRuntimeService()\n",
    "backend = service.least_busy(\n",
    "    operational=True, simulator=False, min_num_qubits=n_qubits\n",
    ")\n",
    "\n",
    "rng = np.random.default_rng(1234)\n",
    "mat = np.real(random_hermitian(n_qubits, seed=rng))\n",
    "circuit = IQP(mat)\n",
    "circuit.measure_all()\n",
    "mat = np.real(random_hermitian(n_qubits, seed=rng))\n",
    "another_circuit = IQP(mat)\n",
    "another_circuit.measure_all()\n",
    "\n",
    "pm = generate_preset_pass_manager(backend=backend, optimization_level=1)\n",
    "isa_circuit = pm.run(circuit)\n",
    "another_isa_circuit = pm.run(another_circuit)\n",
    "\n",
    "with Session(backend=backend) as session:\n",
    "    sampler = Sampler(mode=session)\n",
    "    job = sampler.run([isa_circuit])\n",
    "    another_job = sampler.run([another_isa_circuit])\n",
    "    result = job.result()\n",
    "    another_result = another_job.result()\n",
    "\n",
    "# first job\n",
    "\n",
    "print(\n",
    "    f\" > The first ten measurement results of job 1: {result[0].data.meas.get_bitstrings()[:10]}\"\n",
    ")"
   ]
  },
  {
   "cell_type": "code",
   "execution_count": 9,
   "id": "e81eb3e4-632a-49da-a926-6e79f8640867",
   "metadata": {},
   "outputs": [
    {
     "name": "stdout",
     "output_type": "stream",
     "text": [
      " > The first ten measurement results of job 2: ['1100110001101000010000010110001000001000111100000100110000000000110100011000100100001100000000011111010010100100100000100000011', '0001001000100001000101101100011110101011010110000000110000000100100101111001111010100000000001001000010110010111100000100000001', '0111000000110000101110101110000101000001001011000100100000000001101100010011110000101110100010010011010010110100111000010000010', '1010101010110101001010000000101000101011000101110101000110110010110010010110100000000110111011111010010100011111110010110000010', '0100101000101001100011011100000010001011100010100110110110100010000010010000001100100010010000110100000101101010000010100000101', '1101110001100011100100011110010100000101001000101000010101010000010111001000011100000111000100010110010111001001100001000000011', '0101001001100101001111100010001101000000011101010101111000000000000000101010011001100010100011100111001101100111100001000100010', '1101110001110011110101000101111100101010111000001010100010100101001110001100100011011010111000011001010101011111010000100000011', '1100100000111010100000010001000010101110101110010101000001000100100000101110110000100011000110010111010111110001111000010000100', '1010100100111001010100000110001010000001110011111010010110000010000111011000110000100011000011110000000101001000110011110000010']\n"
     ]
    }
   ],
   "source": [
    "# second job\n",
    "print(\n",
    "    \" > The first ten measurement results of job 2:\",\n",
    "    another_result[0].data.meas.get_bitstrings()[:10],\n",
    ")"
   ]
  },
  {
   "cell_type": "markdown",
   "id": "9484b7b7-e474-4291-b3ee-ace64f7cf126",
   "metadata": {},
   "source": [
    "## Next steps\n",
    "\n",
    "<Admonition type=\"tip\" title=\"Recommendations\">\n",
    "    - [Specify advanced runtime options.](runtime-options-overview)\n",
    "    - Practice with primitives by working through the [Cost function lesson](https://learning.quantum.ibm.com/course/variational-algorithm-design/cost-functions#primitives) in IBM Quantum Learning.\n",
    "    - Learn how to transpile locally in the [Transpile](./transpile/) section.\n",
    "    - Try the [Submit pre-transpiled circuits](https://learning.quantum.ibm.com/tutorial/submitting-user-transpiled-circuits-using-primitives) tutorial.\n",
    "    - Read [Migrate to V2 primitives](/migration-guides/v2-primitives).\n",
    "    - Understand the [Job limits](/guides/job-limits) when sending a job to an IBM&reg; QPU.\n",
    "</Admonition>"
   ]
  }
 ],
 "metadata": {
  "description": "Practical examples of using primitives in Qiskit Runtime.",
  "kernelspec": {
   "display_name": "Python 3",
   "language": "python",
   "name": "python3"
  },
  "language_info": {
   "codemirror_mode": {
    "name": "ipython",
    "version": 3
   },
   "file_extension": ".py",
   "mimetype": "text/x-python",
   "name": "python",
   "nbconvert_exporter": "python",
   "pygments_lexer": "ipython3",
   "version": "3"
  },
  "title": "Primitives examples"
 },
 "nbformat": 4,
 "nbformat_minor": 4
}
