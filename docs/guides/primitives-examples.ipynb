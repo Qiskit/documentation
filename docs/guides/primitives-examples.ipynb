{
 "cells": [
  {
   "cell_type": "markdown",
   "id": "915d2c66-aed3-47f1-a405-144348514dd3",
   "metadata": {},
   "source": [
    "# Primitives examples\n",
    "\n",
    "The examples in this section illustrate some common ways to use primitives. Before running these examples, follow the instructions in [Install and set up.](install-qiskit)\n",
    "\n",
    "<Admonition type=\"note\">\n",
    "    These examples all use the primitives from Qiskit Runtime, but you could use the base primitives instead.\n",
    "</Admonition>\n",
    "\n",
    "## Estimator examples\n",
    "\n",
    "Efficiently calculate and interpret expectation values of the quantum operators required for many algorithms with Estimator. Explore uses in molecular modeling, machine learning, and complex optimization problems.\n",
    "\n",
    "### Run a single experiment\n",
    "\n",
    "Use Estimator to determine the expectation value of a single circuit-observable pair."
   ]
  },
  {
   "cell_type": "code",
   "execution_count": 1,
   "id": "88d9d34b-2903-48b9-8f3c-398da05b487b",
   "metadata": {},
   "outputs": [
    {
     "name": "stdout",
     "output_type": "stream",
     "text": [
      " > Expectation value: -0.004464285714285714\n",
      " > Metadata: {'shots': 4096, 'target_precision': 0.015625, 'circuit_metadata': {}, 'resilience': {}, 'num_randomizations': 32}\n"
     ]
    }
   ],
   "source": [
    "import numpy as np\n",
    "from qiskit.circuit.library import IQP\n",
    "from qiskit.transpiler.preset_passmanagers import generate_preset_pass_manager\n",
    "from qiskit.quantum_info import SparsePauliOp, random_hermitian\n",
    "from qiskit_ibm_runtime import QiskitRuntimeService, EstimatorV2 as Estimator\n",
    "\n",
    "n_qubits = 50\n",
    "\n",
    "service = QiskitRuntimeService()\n",
    "backend = service.least_busy(\n",
    "    operational=True, simulator=False, min_num_qubits=n_qubits\n",
    ")\n",
    "\n",
    "mat = np.real(random_hermitian(n_qubits, seed=1234))\n",
    "circuit = IQP(mat)\n",
    "observable = SparsePauliOp(\"Z\" * 50)\n",
    "\n",
    "pm = generate_preset_pass_manager(backend=backend, optimization_level=1)\n",
    "isa_circuit = pm.run(circuit)\n",
    "isa_observable = observable.apply_layout(isa_circuit.layout)\n",
    "\n",
    "estimator = Estimator(backend)\n",
    "job = estimator.run([(isa_circuit, isa_observable)])\n",
    "result = job.result()\n",
    "\n",
    "print(f\" > Expectation value: {result[0].data.evs}\")\n",
    "print(f\" > Metadata: {result[0].metadata}\")"
   ]
  },
  {
   "cell_type": "markdown",
   "id": "191eb3ee-b0d7-4710-90d6-1839ab51719e",
   "metadata": {},
   "source": [
    "### Run multiple experiments in a single job\n",
    "\n",
    "Use Estimator to determine the expectation values of multiple circuit-observable pairs."
   ]
  },
  {
   "cell_type": "code",
   "execution_count": 2,
   "id": "6bd60dea-dde5-48a6-9b35-7d90a48692a1",
   "metadata": {},
   "outputs": [
    {
     "name": "stdout",
     "output_type": "stream",
     "text": [
      ">>> Expectation values for PUB 0: -0.6333333333333333\n",
      ">>> Standard errors for PUB 0: 0.7058575315471395\n",
      ">>> Expectation values for PUB 1: -0.3\n",
      ">>> Standard errors for PUB 1: 1.7169576449893864\n",
      ">>> Expectation values for PUB 2: 0.0087890625\n",
      ">>> Standard errors for PUB 2: 0.016871336080016838\n"
     ]
    }
   ],
   "source": [
    "import numpy as np\n",
    "from qiskit.circuit.library import IQP\n",
    "from qiskit.transpiler.preset_passmanagers import generate_preset_pass_manager\n",
    "from qiskit.quantum_info import SparsePauliOp, random_hermitian\n",
    "from qiskit_ibm_runtime import QiskitRuntimeService, EstimatorV2 as Estimator\n",
    "\n",
    "n_qubits = 50\n",
    "\n",
    "service = QiskitRuntimeService()\n",
    "backend = service.least_busy(\n",
    "    operational=True, simulator=False, min_num_qubits=n_qubits\n",
    ")\n",
    "\n",
    "rng = np.random.default_rng()\n",
    "mats = [np.real(random_hermitian(n_qubits, seed=rng)) for _ in range(3)]\n",
    "\n",
    "pubs = []\n",
    "circuits = [IQP(mat) for mat in mats]\n",
    "observables = [\n",
    "    SparsePauliOp(\"X\" * 50),\n",
    "    SparsePauliOp(\"Y\" * 50),\n",
    "    SparsePauliOp(\"Z\" * 50),\n",
    "]\n",
    "\n",
    "# Get ISA circuits\n",
    "pm = generate_preset_pass_manager(optimization_level=1, backend=backend)\n",
    "\n",
    "for qc, obs in zip(circuits, observables):\n",
    "    isa_circuit = pm.run(qc)\n",
    "    isa_obs = obs.apply_layout(isa_circuit.layout)\n",
    "    pubs.append((isa_circuit, isa_obs))\n",
    "\n",
    "estimator = Estimator(backend)\n",
    "job = estimator.run(pubs)\n",
    "job_result = job.result()\n",
    "\n",
    "for idx in range(len(pubs)):\n",
    "    pub_result = job_result[idx]\n",
    "    print(f\">>> Expectation values for PUB {idx}: {pub_result.data.evs}\")\n",
    "    print(f\">>> Standard errors for PUB {idx}: {pub_result.data.stds}\")"
   ]
  },
  {
   "cell_type": "markdown",
   "id": "36995a0d-a912-4a55-8ed5-20525d248237",
   "metadata": {},
   "source": [
    "### Run parameterized circuits\n",
    "\n",
    "Use Estimator to run three experiments in a single job, leveraging parameter values to increase circuit reusability."
   ]
  },
  {
   "cell_type": "code",
   "execution_count": 3,
   "id": "c80000d6-b8fe-419c-9d4c-874190b9b8b7",
   "metadata": {},
   "outputs": [
    {
     "name": "stdout",
     "output_type": "stream",
     "text": [
      ">>> Expectation values: [[ 1.25754065  1.18600782  0.9952536   0.73263992  0.37072952 -0.03331666\n",
      "  -0.41809144 -0.758444   -1.01289183 -1.21540487 -1.2676663  -1.18404802\n",
      "  -0.98284151 -0.69671018 -0.33969929  0.036583    0.4138452   0.78816769\n",
      "   1.0328165   1.1935204   1.25100797]\n",
      " [ 0.01045229  0.40306628  0.76171034  1.03902255  1.20364605  1.23859588\n",
      "   1.1781686   1.00113301  0.71434842  0.38869438 -0.036583   -0.41449846\n",
      "  -0.79306719 -1.02693709 -1.22455062 -1.24970144 -1.18502792 -0.99558023\n",
      "  -0.68952424 -0.37072952  0.03886944]\n",
      " [-0.02090457 -0.41319193 -0.72218763 -0.99002746 -1.16249018 -1.210832\n",
      "  -1.1732691  -0.96716308 -0.69899662 -0.3436189  -0.00653268  0.38738785\n",
      "   0.71990119  0.98316815  1.16608315  1.2320632   1.15105799  0.96552991\n",
      "   0.67155937  0.33283998 -0.03821617]\n",
      " [ 1.2310833   1.15955047  0.95213792  0.67972522  0.35276465 -0.02515081\n",
      "  -0.40437281 -0.74047913 -0.99296716 -1.16412335 -1.210832   -1.14942482\n",
      "  -0.96291684 -0.68397146 -0.34067919  0.05520114  0.41972461  0.73982586\n",
      "   1.01125866  1.16902285  1.22389736]]\n",
      ">>> Standard errors: [[0.03758626 0.03573765 0.02994953 0.02522578 0.02400052 0.01835377\n",
      "  0.02028454 0.02483201 0.03103232 0.0359637  0.03817029 0.03488084\n",
      "  0.03267403 0.02430521 0.0181128  0.01549452 0.02320769 0.02702007\n",
      "  0.03238454 0.03587324 0.03799606]\n",
      " [0.02026931 0.02093486 0.02487431 0.03271959 0.03624089 0.0365741\n",
      "  0.03580082 0.03175469 0.02530497 0.01976501 0.01210867 0.02040326\n",
      "  0.02660265 0.03086687 0.03648925 0.03719285 0.03545698 0.03083852\n",
      "  0.02425545 0.01929924 0.01474945]\n",
      " [0.01464162 0.01923083 0.02523714 0.03125247 0.03621791 0.03631304\n",
      "  0.03667257 0.031345   0.02238998 0.01948082 0.01573219 0.01942533\n",
      "  0.02574047 0.03086534 0.03500999 0.03686424 0.03440225 0.03113381\n",
      "  0.02521833 0.01846814 0.01700825]\n",
      " [0.03690829 0.03495735 0.03099171 0.02724893 0.02235573 0.01711503\n",
      "  0.02236183 0.02510722 0.03319151 0.03542292 0.0364772  0.03568348\n",
      "  0.03025326 0.02381022 0.01789899 0.01922107 0.01716722 0.02546551\n",
      "  0.03309359 0.03534964 0.03729356]]\n",
      ">>> Metadata: {'shots': 10016, 'target_precision': 0.01, 'circuit_metadata': {}, 'resilience': {}, 'num_randomizations': 32}\n"
     ]
    }
   ],
   "source": [
    "import numpy as np\n",
    "\n",
    "from qiskit.circuit import QuantumCircuit, Parameter\n",
    "from qiskit.quantum_info import SparsePauliOp\n",
    "from qiskit.transpiler.preset_passmanagers import generate_preset_pass_manager\n",
    "from qiskit_ibm_runtime import QiskitRuntimeService, EstimatorV2 as Estimator\n",
    "\n",
    "service = QiskitRuntimeService()\n",
    "backend = service.least_busy(operational=True, simulator=False)\n",
    "\n",
    "# Step 1: Map classical inputs to a quantum problem\n",
    "theta = Parameter(\"θ\")\n",
    "\n",
    "chsh_circuit = QuantumCircuit(2)\n",
    "chsh_circuit.h(0)\n",
    "chsh_circuit.cx(0, 1)\n",
    "chsh_circuit.ry(theta, 0)\n",
    "\n",
    "number_of_phases = 21\n",
    "phases = np.linspace(0, 2 * np.pi, number_of_phases)\n",
    "individual_phases = [[ph] for ph in phases]\n",
    "\n",
    "ZZ = SparsePauliOp.from_list([(\"ZZ\", 1)])\n",
    "ZX = SparsePauliOp.from_list([(\"ZX\", 1)])\n",
    "XZ = SparsePauliOp.from_list([(\"XZ\", 1)])\n",
    "XX = SparsePauliOp.from_list([(\"XX\", 1)])\n",
    "ops = [ZZ, ZX, XZ, XX]\n",
    "\n",
    "# Step 2: Optimize problem for quantum execution.\n",
    "\n",
    "pm = generate_preset_pass_manager(backend=backend, optimization_level=1)\n",
    "chsh_isa_circuit = pm.run(chsh_circuit)\n",
    "isa_observables = [\n",
    "    operator.apply_layout(chsh_isa_circuit.layout) for operator in ops\n",
    "]\n",
    "\n",
    "# Step 3: Execute using Qiskit primitives.\n",
    "\n",
    "# Reshape observable array for broadcasting\n",
    "reshaped_ops = np.fromiter(isa_observables, dtype=object)\n",
    "reshaped_ops = reshaped_ops.reshape((4, 1))\n",
    "\n",
    "estimator = Estimator(backend, options={\"default_shots\": int(1e4)})\n",
    "job = estimator.run([(chsh_isa_circuit, reshaped_ops, individual_phases)])\n",
    "# Get results for the first (and only) PUB\n",
    "pub_result = job.result()[0]\n",
    "print(f\">>> Expectation values: {pub_result.data.evs}\")\n",
    "print(f\">>> Standard errors: {pub_result.data.stds}\")\n",
    "print(f\">>> Metadata: {pub_result.metadata}\")"
   ]
  },
  {
   "cell_type": "markdown",
   "id": "c7978aa5-da67-4f93-927d-277802ae5437",
   "metadata": {},
   "source": [
    "### Use sessions and advanced options\n",
    "\n",
    "Explore sessions and advanced options to optimize circuit performance on QPUs."
   ]
  },
  {
   "cell_type": "code",
   "execution_count": 4,
   "id": "cbe2bed7-e5c1-4264-ac42-1c267ff1af3b",
   "metadata": {},
   "outputs": [
    {
     "name": "stdout",
     "output_type": "stream",
     "text": [
      " > Expectation value: 0.022123893805309734\n",
      " > Metadata: {'shots': 4096, 'target_precision': 0.015625, 'circuit_metadata': {}, 'resilience': {}, 'num_randomizations': 32}\n",
      " > Another Expectation value: -0.2032258064516129\n",
      " > More Metadata: {'shots': 4096, 'target_precision': 0.015625, 'circuit_metadata': {}, 'resilience': {}, 'num_randomizations': 32}\n"
     ]
    }
   ],
   "source": [
    "import numpy as np\n",
    "from qiskit.circuit.library import IQP\n",
    "from qiskit.transpiler.preset_passmanagers import generate_preset_pass_manager\n",
    "from qiskit.quantum_info import SparsePauliOp, random_hermitian\n",
    "from qiskit_ibm_runtime import (\n",
    "    QiskitRuntimeService,\n",
    "    Session,\n",
    "    EstimatorV2 as Estimator,\n",
    ")\n",
    "\n",
    "n_qubits = 50\n",
    "\n",
    "service = QiskitRuntimeService()\n",
    "backend = service.least_busy(\n",
    "    operational=True, simulator=False, min_num_qubits=n_qubits\n",
    ")\n",
    "\n",
    "rng = np.random.default_rng(1234)\n",
    "mat = np.real(random_hermitian(n_qubits, seed=rng))\n",
    "circuit = IQP(mat)\n",
    "mat = np.real(random_hermitian(n_qubits, seed=rng))\n",
    "another_circuit = IQP(mat)\n",
    "observable = SparsePauliOp(\"X\" * 50)\n",
    "another_observable = SparsePauliOp(\"Y\" * 50)\n",
    "\n",
    "pm = generate_preset_pass_manager(optimization_level=1, backend=backend)\n",
    "isa_circuit = pm.run(circuit)\n",
    "another_isa_circuit = pm.run(another_circuit)\n",
    "isa_observable = observable.apply_layout(isa_circuit.layout)\n",
    "another_isa_observable = another_observable.apply_layout(\n",
    "    another_isa_circuit.layout\n",
    ")\n",
    "\n",
    "with Session(backend=backend) as session:\n",
    "    estimator = Estimator(mode=session)\n",
    "\n",
    "    estimator.options.resilience_level = 1\n",
    "\n",
    "    job = estimator.run([(isa_circuit, isa_observable)])\n",
    "    another_job = estimator.run(\n",
    "        [(another_isa_circuit, another_isa_observable)]\n",
    "    )\n",
    "    result = job.result()\n",
    "    another_result = another_job.result()\n",
    "\n",
    "    # first job\n",
    "    print(f\" > Expectation value: {result[0].data.evs}\")\n",
    "    print(f\" > Metadata: {result[0].metadata}\")\n",
    "\n",
    "    # second job\n",
    "    print(f\" > Another Expectation value: {another_result[0].data.evs}\")\n",
    "    print(f\" > More Metadata: {another_result[0].metadata}\")"
   ]
  },
  {
   "cell_type": "markdown",
   "id": "3a60b53b-418a-44fe-92d2-b1ba5d967c84",
   "metadata": {},
   "source": [
    "<span id=\"sampler-examples\"></span>\n",
    "## Sampler examples\n",
    "\n",
    "Generate entire error-mitigated quasi-probability distributions sampled from quantum circuit outputs. Leverage Sampler’s capabilities for search and classification algorithms like Grover’s and QVSM.\n",
    "\n",
    "### Run a single experiment\n",
    "\n",
    "Use Sampler to return the measurement outcome as bitstrings or counts of a single circuit."
   ]
  },
  {
   "cell_type": "code",
   "execution_count": 5,
   "id": "012cfeea-3af3-46bb-9e64-15bb052bbcd2",
   "metadata": {
    "scrolled": true
   },
   "outputs": [
    {
     "name": "stdout",
     "output_type": "stream",
     "text": [
      " > First ten results: ['0101010011101011010010000011110001110100001100111011010110110000110000101100001010110001001001110000100101100000110101001001100', '1001101001101111001001100011011100111011010001011111101110101100000000111010010111000001011110110001110000100010101001100011010', '1000110111001010111101100100000011110100010001111001010011011001100000111011011100000101000100010100000000011000110100111100001', '0100011000010100100100001111000110100010000001001110010100001100100000001100000110111000001000111000001010100011110101101110000', '0011101001000001100011100011101011011000000000000100000011100101110100010001000111110001001001010011010010100110100100101100100', '1011011011011101100110011100100011100000001101001010000011011011111100111111011011010110111001001011100011111110001100100010010', '1111111011100111101110011000110110111010010011010110001000001011001011110000010101000000101101010101001001000010111000111011100', '0011100010110001110101001110101000111000001001111000011001100110010101000001011000110010111101110001000001111011001011101001010', '1011000110000010011010011100001010010000011100000110101001110011011000101100001011100100111101010100111111000010011011001111010', '1100101000010001011101001111010000100010000001110001110110101011110000100011000010010111100010000000111001000001000000011010010']\n"
     ]
    }
   ],
   "source": [
    "import numpy as np\n",
    "from qiskit.circuit.library import IQP\n",
    "from qiskit.transpiler.preset_passmanagers import generate_preset_pass_manager\n",
    "from qiskit.quantum_info import random_hermitian\n",
    "from qiskit_ibm_runtime import QiskitRuntimeService, SamplerV2 as Sampler\n",
    "\n",
    "n_qubits = 127\n",
    "\n",
    "service = QiskitRuntimeService()\n",
    "backend = service.least_busy(\n",
    "    operational=True, simulator=False, min_num_qubits=n_qubits\n",
    ")\n",
    "\n",
    "mat = np.real(random_hermitian(n_qubits, seed=1234))\n",
    "circuit = IQP(mat)\n",
    "circuit.measure_all()\n",
    "\n",
    "pm = generate_preset_pass_manager(backend=backend, optimization_level=1)\n",
    "isa_circuit = pm.run(circuit)\n",
    "\n",
    "sampler = Sampler(backend)\n",
    "job = sampler.run([isa_circuit])\n",
    "result = job.result()\n",
    "\n",
    "# Get results for the first (and only) PUB\n",
    "pub_result = result[0]\n",
    "\n",
    "print(f\" > First ten results: {pub_result.data.meas.get_bitstrings()[:10]}\")"
   ]
  },
  {
   "cell_type": "markdown",
   "id": "a5c3d65c-9d14-4b4e-800c-6e3e231e335c",
   "metadata": {},
   "source": [
    "### Run multiple experiments in a single job\n",
    "\n",
    "Use Sampler to return the measurement outcome as bitstrings or counts of multiple circuits in one job."
   ]
  },
  {
   "cell_type": "code",
   "execution_count": 6,
   "id": "b5372b7e-8bc2-4f2e-8f65-03dcd368faeb",
   "metadata": {},
   "outputs": [
    {
     "name": "stdout",
     "output_type": "stream",
     "text": [
      " > First ten results for pub 0: ['0111011100001101010010111110001101010011100011101011111111000100010100001011001100000000111011000010001010101110101100100000000', '1000101011011100010110000010110110010011011000000100110001111100010101010000000110100001010001010010010000110010010010011011010', '0001001001001100010111111100000111101010110101011010001101010101000110110001000110000000010101011101000001010100010101101011010', '0011010111110110010000000000010000101000001001101010100001110110010000011111111101000100010101010100000000111010100110101100001', '0010000111110001111000001100110101000011101000100000101000100110101100000001100010001011000101000001000010110000000010010000100', '0000001011100001000000110111100101000111110010001101000111111010011001110111000010110001010011010001001010000010001101011010000', '1010010010110101010100001110010000010111100010001010101001010011000100001101010100001111111100010110011010100000000011010000100', '0000000110001101010010111111100100110011111101001011101111101000000110011000010011000110010001001000000000100010010000110100011', '0001111000100001010010011100100101010000101110011001001000101011110000001000010110101001000100000011001010110001101000001000000', '1101001000100000010000001111100001010101101000011111100000000110101001001100001011011000101011100110000000011101001000000101110']\n",
      " > First ten results for pub 1: ['1100000011110110000010000001111100001010100010111001011010001111000001010011010001000001010101110100100110101011001100101000011', '1110010110001001111101001101111111011110001111101000101011110000111001010110000011101111010101100100100011101100100010100001111', '0001001010001101000000101101100100000010010001000011010101010000000000010100001011100100001000101011101011001111100111101100001', '1001101001011001010100010100010100101001101000001001111110001101000101001100001000000001000001111100100111101111001000001000011', '1100101011101001111000011101001100000000110001111100011111110010000010111000101001100101000110111100010100001111010100000100101', '0100000100100101001110111101000000100100001110000011000011010011010010000000101101001000000101000011000000010000110100001011111', '1011100001100001100000111001011010000111011010000101000011000011101001010110000011111100001010100001011011001110000000100000110', '0101101011101001011000001111000010101000110111100011111010011011100000010100100000101001100001001101111101001001000010001100011', '1000101010001000011100000111000101111010011111000101100010110100100010001101010001110011000110001001100001000010100110100000001', '1111100001000111010010101001100110001101100101100000110101011110100000100100101001000110000111001000001000000110000000001010101']\n",
      " > First ten results for pub 2: ['1101011011010010010100100000010101010011010110010100110111000000010100110101101101100101001011110000100101100101000000110000110', '0110010111001001011011101110100100101110101010010000101110000100100000001010011001010110010001101100110100010010001000100000000', '1111011010100001011000011100011001101101000110010000110100101000111101000001001100101000010110111011110110000110000011010000000', '0001010000010010011100110111101100110000011110110000000001101011001110010011000000000111100011001000000011110001010111110000111', '1101111010000111101001010011000101000111100100100000000000101100100110000011011100100010100101111000000001101100011000101010001', '1100110010100011000010001011100010110110100000101101101000110000000011010110101111010111100011011010000110110000000000100010101', '0110000111101011111011101111010000111001111100110000110010101111100100001011010001111010101100001100100010001111001000011010100', '1001100010011101011101001000001010010010000100001100100110100100100011011001100100100101000100001001100101000100001010110010100', '1111101010111011101110001101101011000101001000011100110000011100010111010110001100001010010010110000011100110000000000000010011', '0011101001001010010110011101010001111000011110111001101010010000101001111001000100000100011110000010000001111001011000000010010']\n"
     ]
    }
   ],
   "source": [
    "import numpy as np\n",
    "from qiskit.circuit.library import IQP\n",
    "from qiskit.transpiler.preset_passmanagers import generate_preset_pass_manager\n",
    "from qiskit.quantum_info import random_hermitian\n",
    "from qiskit_ibm_runtime import QiskitRuntimeService, SamplerV2 as Sampler\n",
    "\n",
    "n_qubits = 127\n",
    "\n",
    "service = QiskitRuntimeService()\n",
    "backend = service.least_busy(\n",
    "    operational=True, simulator=False, min_num_qubits=n_qubits\n",
    ")\n",
    "\n",
    "rng = np.random.default_rng()\n",
    "mats = [np.real(random_hermitian(n_qubits, seed=rng)) for _ in range(3)]\n",
    "circuits = [IQP(mat) for mat in mats]\n",
    "for circuit in circuits:\n",
    "    circuit.measure_all()\n",
    "\n",
    "pm = generate_preset_pass_manager(backend=backend, optimization_level=1)\n",
    "isa_circuits = pm.run(circuits)\n",
    "\n",
    "sampler = Sampler(backend)\n",
    "job = sampler.run(isa_circuits)\n",
    "result = job.result()\n",
    "\n",
    "for idx, pub_result in enumerate(result):\n",
    "    print(\n",
    "        f\" > First ten results for pub {idx}: {pub_result.data.meas.get_bitstrings()[:10]}\"\n",
    "    )"
   ]
  },
  {
   "cell_type": "markdown",
   "id": "36337791-94ff-4ed5-aa26-808c470eb728",
   "metadata": {},
   "source": [
    "### Run parameterized circuits\n",
    "\n",
    "Run several experiments in a single job, leveraging parameter values to increase circuit reusability."
   ]
  },
  {
   "cell_type": "code",
   "execution_count": 7,
   "id": "ea6c113e-15db-47a1-be34-459e68d1db4e",
   "metadata": {},
   "outputs": [
    {
     "name": "stdout",
     "output_type": "stream",
     "text": [
      " >> First ten results for the meas output register: ['0000010000101001101010010100011100110100010111111110001001001011010010100110111000011101000000101111110001111011111011011000111', '0100011000010011001110001100010011110001111000000100000110100101100000001100101010100000010001000101110101010101001011010000101', '1100111000010011000010000100001111100100110010110000111100011000010010000100001100001110000011000100000001001000010001110110101', '0001101100011010111000100100110111110000110110011110111011101101111100011010010000011100000011100000101001101000000111100110101', '1100010100001101001010010100001100110011100111100011110110010011110101000010111000100000111001101001001111011111111010101000011', '0001100000110111110111100100110110110100001000111001001000000011110011001011100101101110010001111010010001111000100001111000110', '0111001010011111100000010000100111100100001000010011001000011001010100101101110010010000101011011001010001101111000110001011111', '1101000001101111100010011101010111010101010001100001001000111111110001011111001001010000000010011001000000100000011111011100111', '0010101000001110110000010100010111100100000001011010101010001111110000001100101101101010101011010111100001111000111100010000001', '0101001000011011110011100000010011100010100000111000101000001111101000010101101000111111110001000001101100000011110101101100000']\n"
     ]
    }
   ],
   "source": [
    "import numpy as np\n",
    "from qiskit.circuit.library import RealAmplitudes\n",
    "from qiskit.transpiler.preset_passmanagers import generate_preset_pass_manager\n",
    "from qiskit_ibm_runtime import QiskitRuntimeService, SamplerV2 as Sampler\n",
    "\n",
    "n_qubits = 127\n",
    "\n",
    "service = QiskitRuntimeService()\n",
    "backend = service.least_busy(\n",
    "    operational=True, simulator=False, min_num_qubits=n_qubits\n",
    ")\n",
    "\n",
    "# Step 1: Map classical inputs to a quantum problem\n",
    "circuit = RealAmplitudes(num_qubits=n_qubits, reps=2)\n",
    "circuit.measure_all()\n",
    "\n",
    "# Define three sets of parameters for the circuit\n",
    "rng = np.random.default_rng(1234)\n",
    "parameter_values = [\n",
    "    rng.uniform(-np.pi, np.pi, size=circuit.num_parameters) for _ in range(3)\n",
    "]\n",
    "\n",
    "# Step 2: Optimize problem for quantum execution.\n",
    "\n",
    "pm = generate_preset_pass_manager(backend=backend, optimization_level=1)\n",
    "isa_circuit = pm.run(circuit)\n",
    "\n",
    "# Step 3: Execute using Qiskit primitives.\n",
    "sampler = Sampler(backend)\n",
    "job = sampler.run([(isa_circuit, parameter_values)])\n",
    "result = job.result()\n",
    "# Get results for the first (and only) PUB\n",
    "pub_result = result[0]\n",
    "# Get counts from the classical register \"meas\".\n",
    "print(\n",
    "    f\" >> First ten results for the meas output register: {pub_result.data.meas.get_bitstrings()[:10]}\"\n",
    ")"
   ]
  },
  {
   "cell_type": "markdown",
   "id": "1f144ac9-5f64-4aca-8cc4-8cf9362c5666",
   "metadata": {},
   "source": [
    "### Use sessions and advanced options\n",
    "\n",
    "Explore sessions and advanced options to optimize circuit performance on QPUs."
   ]
  },
  {
   "cell_type": "code",
   "execution_count": 8,
   "id": "d6248dcb-2ba9-4a06-a9ef-727db7092093",
   "metadata": {
    "scrolled": true
   },
   "outputs": [
    {
     "name": "stdout",
     "output_type": "stream",
     "text": [
      " > The first ten measurement results of job 1: ['0101011110110000111010110010100000100011111011001101101100100010001010011010000010100010010101010100101010000010010000001001101', '0110011011111110000110100100001110101111001010101100100010000010010001011110000001010000010000001001111001000010010000011000110', '1011110000101101110001011000101001000101100001000111011010010010010110110111000010010000000000100001010110100000100010001000101', '1001010111000010001011101101000101110000000101001010111010110111100000101010010001010001100111110000000010000000000001001101010', '0100110010101000101000010011111000010011101110011111111010010010010010001110000100110001001000010000011110100100000101001001111', '1101101010100010001100000001000000101001000001111100111101111111001000101000001010111010010000010000111011000011100110001001011', '0100011100010010011011100010010010001000111001011111011100011000011111010001000000100001101101011101101111001000010101110001100', '0101011001001001100110101101101110101100001111011111000111000101010011001111011001101000100100011101000101101010000010000001010', '1001011111100101001000001011001111100001110000010100111000000100110111011000100010000001101010000100011110000110010100001001110', '0011000011011010101011000000101110111111000110111111011100001111010011011010100110001000000111010100000000001010000110101100110']\n"
     ]
    }
   ],
   "source": [
    "import numpy as np\n",
    "from qiskit.circuit.library import IQP\n",
    "from qiskit.quantum_info import random_hermitian\n",
    "from qiskit.transpiler.preset_passmanagers import generate_preset_pass_manager\n",
    "from qiskit_ibm_runtime import Session, SamplerV2 as Sampler\n",
    "from qiskit_ibm_runtime import QiskitRuntimeService\n",
    "\n",
    "n_qubits = 127\n",
    "\n",
    "service = QiskitRuntimeService()\n",
    "backend = service.least_busy(\n",
    "    operational=True, simulator=False, min_num_qubits=n_qubits\n",
    ")\n",
    "\n",
    "rng = np.random.default_rng(1234)\n",
    "mat = np.real(random_hermitian(n_qubits, seed=rng))\n",
    "circuit = IQP(mat)\n",
    "circuit.measure_all()\n",
    "mat = np.real(random_hermitian(n_qubits, seed=rng))\n",
    "another_circuit = IQP(mat)\n",
    "another_circuit.measure_all()\n",
    "\n",
    "pm = generate_preset_pass_manager(backend=backend, optimization_level=1)\n",
    "isa_circuit = pm.run(circuit)\n",
    "another_isa_circuit = pm.run(another_circuit)\n",
    "\n",
    "with Session(backend=backend) as session:\n",
    "    sampler = Sampler(mode=session)\n",
    "    job = sampler.run([isa_circuit])\n",
    "    another_job = sampler.run([another_isa_circuit])\n",
    "    result = job.result()\n",
    "    another_result = another_job.result()\n",
    "\n",
    "# first job\n",
    "\n",
    "print(\n",
    "    f\" > The first ten measurement results of job 1: {result[0].data.meas.get_bitstrings()[:10]}\"\n",
    ")"
   ]
  },
  {
   "cell_type": "code",
   "execution_count": 9,
   "id": "e81eb3e4-632a-49da-a926-6e79f8640867",
   "metadata": {},
   "outputs": [
    {
     "name": "stdout",
     "output_type": "stream",
     "text": [
      " > The first ten measurement results of job 2: ['0001110011000000000001100111101100111001111011010001010111110001000011010101001110011101111110011100101100000010100000110001100', '1100001010100100100001001001100000100001000000111001000010100010100000101010100010101100010111000110010101010101001010000011001', '0100111011110010101101111001010000011101010001010000011011000010100001101010001100110000010000001001001010010111100001010010010', '1110000010110110101101111000001101000000110010010000111100110100000100001001001000010100110100100110110101101101000000001001101', '0110011010110111000010010011000001101100010111010010110101100101000100000111100101100010010001000110001011000100001010000101100', '0001010111101101100010101110101111001000010101011000101001101001100101010111000100001000100001001001000110101001101010111000111', '0001101011010101100111111000100011000100010000011000010010000100100101110101011110010100101111100001101101000010101001011011100', '0100100000100010011001001000100001111000011110001010011100100000110011001010011101000000101010011100100000000100000011101110110', '0011101001000111000000111011100101110000111101110001100101110010010010000101000110011100101110001101000101110001100000010100100', '0000011010110100010010101001000001010001011001000000000001100101001101000000111000101010110010001110000000000111100001001010000']\n"
     ]
    }
   ],
   "source": [
    "# second job\n",
    "print(\n",
    "    \" > The first ten measurement results of job 2:\",\n",
    "    another_result[0].data.meas.get_bitstrings()[:10],\n",
    ")"
   ]
  },
  {
   "cell_type": "markdown",
   "id": "9484b7b7-e474-4291-b3ee-ace64f7cf126",
   "metadata": {},
   "source": [
    "## Next steps\n",
    "\n",
    "<Admonition type=\"tip\" title=\"Recommendations\">\n",
    "    - [Specify advanced runtime options.](runtime-options-overview)\n",
    "    - Practice with primitives by working through the [Cost function lesson](https://learning.quantum.ibm.com/course/variational-algorithm-design/cost-functions#primitives) in IBM Quantum Learning.\n",
    "    - Learn how to transpile locally in the [Transpile](./transpile/) section.\n",
    "    - Try the [Submit pre-transpiled circuits](https://learning.quantum.ibm.com/tutorial/submitting-user-transpiled-circuits-using-primitives) tutorial.\n",
    "    - Read [Migrate to V2 primitives](/migration-guides/v2-primitives).\n",
    "    - Understand the [Job limits](/guides/job-limits) when sending a job to an IBM&reg; QPU.\n",
    "</Admonition>"
   ]
  }
 ],
 "metadata": {
  "description": "Practical examples of using primitives in Qiskit Runtime.",
  "kernelspec": {
   "display_name": "Python 3",
   "language": "python",
   "name": "python3"
  },
  "language_info": {
   "codemirror_mode": {
    "name": "ipython",
    "version": 3
   },
   "file_extension": ".py",
   "mimetype": "text/x-python",
   "name": "python",
   "nbconvert_exporter": "python",
   "pygments_lexer": "ipython3",
   "version": "3"
  },
  "title": "Primitives examples"
 },
 "nbformat": 4,
 "nbformat_minor": 4
}
