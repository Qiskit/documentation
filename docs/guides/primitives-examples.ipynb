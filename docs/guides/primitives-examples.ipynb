{
 "cells": [
  {
   "cell_type": "markdown",
   "id": "1f4a2ec4-3595-4300-8f9e-092b0ef9b444",
   "metadata": {},
   "source": [
    "# Primitives examples"
   ]
  },
  {
   "cell_type": "markdown",
   "id": "b4121e48",
   "metadata": {
    "tags": [
     "version-info"
    ]
   },
   "source": [
    "<details>\n",
    "<summary><b>Package versions</b></summary>\n",
    "\n",
    "The code on this page was developed using the following requirements.\n",
    "We recommend using these versions or newer.\n",
    "\n",
    "```\n",
    "qiskit[all]~=2.1.1\n",
    "qiskit-ibm-runtime~=0.40.1\n",
    "```\n",
    "</details>"
   ]
  },
  {
   "cell_type": "markdown",
   "id": "bae32e60",
   "metadata": {},
   "source": [
    "The examples in this section illustrate some common ways to use primitives. Before running these examples, follow the instructions in [Install and set up.](install-qiskit)\n",
    "\n",
    "<Admonition type=\"note\">\n",
    "    These examples all use the primitives from Qiskit Runtime, but you could use the base primitives instead.\n",
    "</Admonition>\n",
    "\n",
    "## Estimator examples\n",
    "\n",
    "Efficiently calculate and interpret expectation values of the quantum operators required for many algorithms with Estimator. Explore uses in molecular modeling, machine learning, and complex optimization problems.\n",
    "\n",
    "### Run a single experiment\n",
    "\n",
    "Use Estimator to determine the expectation value of a single circuit-observable pair."
   ]
  },
  {
   "cell_type": "code",
   "execution_count": 1,
   "id": "24573866-7cf2-40e1-b61c-a2bdcecb759b",
   "metadata": {},
   "outputs": [
    {
     "name": "stdout",
     "output_type": "stream",
     "text": [
      " > Expectation value: -0.07096774193548387\n",
      " > Metadata: {'shots': 4096, 'target_precision': 0.015625, 'circuit_metadata': {}, 'resilience': {}, 'num_randomizations': 32}\n"
     ]
    }
   ],
   "source": [
    "import numpy as np\n",
    "from qiskit.circuit.library import iqp\n",
    "from qiskit.transpiler import generate_preset_pass_manager\n",
    "from qiskit.quantum_info import SparsePauliOp, random_hermitian\n",
    "from qiskit_ibm_runtime import QiskitRuntimeService, EstimatorV2 as Estimator\n",
    "\n",
    "n_qubits = 50\n",
    "\n",
    "service = QiskitRuntimeService()\n",
    "backend = service.least_busy(\n",
    "    operational=True, simulator=False, min_num_qubits=n_qubits\n",
    ")\n",
    "\n",
    "mat = np.real(random_hermitian(n_qubits, seed=1234))\n",
    "circuit = iqp(mat)\n",
    "observable = SparsePauliOp(\"Z\" * 50)\n",
    "\n",
    "pm = generate_preset_pass_manager(backend=backend, optimization_level=1)\n",
    "isa_circuit = pm.run(circuit)\n",
    "isa_observable = observable.apply_layout(isa_circuit.layout)\n",
    "\n",
    "estimator = Estimator(mode=backend)\n",
    "job = estimator.run([(isa_circuit, isa_observable)])\n",
    "result = job.result()\n",
    "\n",
    "print(f\" > Expectation value: {result[0].data.evs}\")\n",
    "print(f\" > Metadata: {result[0].metadata}\")"
   ]
  },
  {
   "cell_type": "markdown",
   "id": "63769604-ec9e-4ff3-823d-e60f4eb8a877",
   "metadata": {},
   "source": [
    "### Run multiple experiments in a single job\n",
    "\n",
    "Use Estimator to determine the expectation values of multiple circuit-observable pairs."
   ]
  },
  {
   "cell_type": "code",
   "execution_count": 2,
   "id": "bf4668bd-aaaf-4b23-af4b-4df767bd6d1a",
   "metadata": {},
   "outputs": [
    {
     "name": "stdout",
     "output_type": "stream",
     "text": [
      ">>> Expectation values for PUB 0: 0.509090909090909\n",
      ">>> Standard errors for PUB 0: 0.8121680697921517\n",
      ">>> Expectation values for PUB 1: 0.11158798283261803\n",
      ">>> Standard errors for PUB 1: 0.2937714076568461\n",
      ">>> Expectation values for PUB 2: -0.3392612859097127\n",
      ">>> Standard errors for PUB 2: 0.2915422114330256\n"
     ]
    }
   ],
   "source": [
    "import numpy as np\n",
    "from qiskit.circuit.library import iqp\n",
    "from qiskit.transpiler import generate_preset_pass_manager\n",
    "from qiskit.quantum_info import SparsePauliOp, random_hermitian\n",
    "from qiskit_ibm_runtime import QiskitRuntimeService, EstimatorV2 as Estimator\n",
    "\n",
    "n_qubits = 50\n",
    "\n",
    "service = QiskitRuntimeService()\n",
    "backend = service.least_busy(\n",
    "    operational=True, simulator=False, min_num_qubits=n_qubits\n",
    ")\n",
    "\n",
    "rng = np.random.default_rng()\n",
    "mats = [np.real(random_hermitian(n_qubits, seed=rng)) for _ in range(3)]\n",
    "\n",
    "pubs = []\n",
    "circuits = [iqp(mat) for mat in mats]\n",
    "observables = [\n",
    "    SparsePauliOp(\"X\" * 50),\n",
    "    SparsePauliOp(\"Y\" * 50),\n",
    "    SparsePauliOp(\"Z\" * 50),\n",
    "]\n",
    "\n",
    "# Get ISA circuits\n",
    "pm = generate_preset_pass_manager(optimization_level=1, backend=backend)\n",
    "\n",
    "for qc, obs in zip(circuits, observables):\n",
    "    isa_circuit = pm.run(qc)\n",
    "    isa_obs = obs.apply_layout(isa_circuit.layout)\n",
    "    pubs.append((isa_circuit, isa_obs))\n",
    "\n",
    "estimator = Estimator(backend)\n",
    "job = estimator.run(pubs)\n",
    "job_result = job.result()\n",
    "\n",
    "for idx in range(len(pubs)):\n",
    "    pub_result = job_result[idx]\n",
    "    print(f\">>> Expectation values for PUB {idx}: {pub_result.data.evs}\")\n",
    "    print(f\">>> Standard errors for PUB {idx}: {pub_result.data.stds}\")"
   ]
  },
  {
   "cell_type": "markdown",
   "id": "60bf051a-40f8-47a9-b74d-38713bc15210",
   "metadata": {},
   "source": [
    "### Run parameterized circuits\n",
    "\n",
    "Use Estimator to run three experiments in a single job, leveraging parameter values to increase circuit reusability."
   ]
  },
  {
   "cell_type": "code",
   "execution_count": 3,
   "id": "67dc98b8-499c-44d9-ada1-6abc9d6198c0",
   "metadata": {},
   "outputs": [
    {
     "name": "stdout",
     "output_type": "stream",
     "text": [
      ">>> Expectation values: [[ 1.01639098e+00  9.63016769e-01  7.88296057e-01  5.61341608e-01\n",
      "   2.88083889e-01 -2.60028213e-02 -3.56740461e-01 -6.22242953e-01\n",
      "  -8.40985985e-01 -9.62560579e-01 -1.01456622e+00 -9.47962504e-01\n",
      "  -7.97876044e-01 -5.71149690e-01 -3.09524812e-01  2.41780619e-02\n",
      "   3.33702874e-01  6.18821529e-01  8.36652181e-01  9.69859617e-01\n",
      "   1.02004050e+00]\n",
      " [ 3.94604219e-02  3.48300949e-01  6.18365339e-01  8.40529795e-01\n",
      "   9.72140566e-01  1.01684717e+00  9.61192010e-01  8.16579828e-01\n",
      "   5.67500171e-01  2.90592933e-01 -3.05647198e-02 -3.31193830e-01\n",
      "  -6.26804851e-01 -8.39389320e-01 -9.63701054e-01 -1.01251337e+00\n",
      "  -9.60051535e-01 -8.02666038e-01 -5.77536348e-01 -2.96295306e-01\n",
      "   3.01085300e-02]\n",
      " [-6.84284772e-04 -3.47616664e-01 -6.34560079e-01 -8.50794067e-01\n",
      "  -9.90160065e-01 -1.03144525e+00 -9.68719142e-01 -8.18404587e-01\n",
      "  -6.08329162e-01 -2.99944825e-01  6.61475280e-03  3.54231417e-01\n",
      "   6.20874383e-01  8.34827422e-01  9.85598167e-01  1.02848001e+00\n",
      "   9.67806763e-01  8.16579828e-01  5.78448727e-01  2.75994858e-01\n",
      "  -2.34937772e-02]\n",
      " [ 1.02962049e+00  9.68034858e-01  8.20913632e-01  5.79133012e-01\n",
      "   2.94926737e-01 -3.37580488e-02 -3.40773816e-01 -6.00802030e-01\n",
      "  -8.43495029e-01 -9.95178153e-01 -1.01912812e+00 -9.68491047e-01\n",
      "  -8.09736980e-01 -6.06276308e-01 -3.05191008e-01  3.62670929e-02\n",
      "   3.56740461e-01  6.12434871e-01  8.45319788e-01  9.84229597e-01\n",
      "   1.02118097e+00]]\n",
      ">>> Standard errors: [[0.00595115 0.00508865 0.00843987 0.00978967 0.01067867 0.01172416\n",
      "  0.01228383 0.00820899 0.00871829 0.00800992 0.00693372 0.00708266\n",
      "  0.01002764 0.01159551 0.0130231  0.00851921 0.0108899  0.00967441\n",
      "  0.00742857 0.00558575 0.00576161]\n",
      " [0.01264847 0.00949588 0.00917453 0.00794592 0.00697786 0.00569674\n",
      "  0.00656374 0.00817565 0.00966    0.01255139 0.00897733 0.01044544\n",
      "  0.00959017 0.0105171  0.00727775 0.00641424 0.00702955 0.00754154\n",
      "  0.00988771 0.00854798 0.00997289]\n",
      " [0.01006651 0.008544   0.01013901 0.00851411 0.00670278 0.00543188\n",
      "  0.00637553 0.00699797 0.00835709 0.01189992 0.00844175 0.00959466\n",
      "  0.00947296 0.00811621 0.0070513  0.00616643 0.00628899 0.00775769\n",
      "  0.0100668  0.01226314 0.01329339]\n",
      " [0.00580384 0.00715893 0.00876749 0.01103421 0.01029785 0.01060998\n",
      "  0.0102456  0.01097566 0.00779237 0.00663169 0.00502441 0.00626576\n",
      "  0.00884914 0.01034657 0.00939776 0.01213028 0.01184394 0.00934017\n",
      "  0.00781088 0.00645326 0.00614667]]\n",
      ">>> Metadata: {'shots': 10016, 'target_precision': 0.01, 'circuit_metadata': {}, 'resilience': {}, 'num_randomizations': 32}\n"
     ]
    }
   ],
   "source": [
    "import numpy as np\n",
    "\n",
    "from qiskit.circuit import QuantumCircuit, Parameter\n",
    "from qiskit.quantum_info import SparsePauliOp\n",
    "from qiskit.transpiler import generate_preset_pass_manager\n",
    "from qiskit_ibm_runtime import QiskitRuntimeService, EstimatorV2 as Estimator\n",
    "\n",
    "service = QiskitRuntimeService()\n",
    "backend = service.least_busy(operational=True, simulator=False)\n",
    "\n",
    "# Step 1: Map classical inputs to a quantum problem\n",
    "theta = Parameter(\"θ\")\n",
    "\n",
    "chsh_circuit = QuantumCircuit(2)\n",
    "chsh_circuit.h(0)\n",
    "chsh_circuit.cx(0, 1)\n",
    "chsh_circuit.ry(theta, 0)\n",
    "\n",
    "number_of_phases = 21\n",
    "phases = np.linspace(0, 2 * np.pi, number_of_phases)\n",
    "individual_phases = [[ph] for ph in phases]\n",
    "\n",
    "ZZ = SparsePauliOp.from_list([(\"ZZ\", 1)])\n",
    "ZX = SparsePauliOp.from_list([(\"ZX\", 1)])\n",
    "XZ = SparsePauliOp.from_list([(\"XZ\", 1)])\n",
    "XX = SparsePauliOp.from_list([(\"XX\", 1)])\n",
    "ops = [ZZ, ZX, XZ, XX]\n",
    "\n",
    "# Step 2: Optimize problem for quantum execution.\n",
    "\n",
    "pm = generate_preset_pass_manager(backend=backend, optimization_level=1)\n",
    "chsh_isa_circuit = pm.run(chsh_circuit)\n",
    "isa_observables = [\n",
    "    operator.apply_layout(chsh_isa_circuit.layout) for operator in ops\n",
    "]\n",
    "\n",
    "# Step 3: Execute using Qiskit primitives.\n",
    "\n",
    "# Reshape observable array for broadcasting\n",
    "reshaped_ops = np.fromiter(isa_observables, dtype=object)\n",
    "reshaped_ops = reshaped_ops.reshape((4, 1))\n",
    "\n",
    "estimator = Estimator(backend, options={\"default_shots\": int(1e4)})\n",
    "job = estimator.run([(chsh_isa_circuit, reshaped_ops, individual_phases)])\n",
    "# Get results for the first (and only) PUB\n",
    "pub_result = job.result()[0]\n",
    "print(f\">>> Expectation values: {pub_result.data.evs}\")\n",
    "print(f\">>> Standard errors: {pub_result.data.stds}\")\n",
    "print(f\">>> Metadata: {pub_result.metadata}\")"
   ]
  },
  {
   "cell_type": "markdown",
   "id": "793f0ed1-5682-4aa3-a4a0-7baba71650f9",
   "metadata": {},
   "source": [
    "### Use sessions and advanced options\n",
    "\n",
    "Explore sessions and advanced options to optimize circuit performance on QPUs.\n",
    "\n",
    "\n",
    "<Admonition type=\"caution\">\n",
    "The following code block will return an error for Open Plan users because it uses sessions. Open Plan workloads can run only in [job mode](/docs/guides/execution-modes#job-mode) or [batch mode](/docs/guides/execution-modes#batch-mode).\n",
    "</Admonition>"
   ]
  },
  {
   "cell_type": "code",
   "execution_count": 4,
   "id": "d007b547-8546-4ca3-aee6-9a4e3a82598d",
   "metadata": {},
   "outputs": [
    {
     "name": "stdout",
     "output_type": "stream",
     "text": [
      " > Expectation value: -0.2519148936170213\n",
      " > Metadata: {'shots': 4096, 'target_precision': 0.015625, 'circuit_metadata': {}, 'resilience': {}, 'num_randomizations': 32}\n",
      " > Another Expectation value: -0.2281508739650414\n",
      " > More Metadata: {'shots': 4096, 'target_precision': 0.015625, 'circuit_metadata': {}, 'resilience': {}, 'num_randomizations': 32}\n"
     ]
    }
   ],
   "source": [
    "import numpy as np\n",
    "from qiskit.circuit.library import iqp\n",
    "from qiskit.transpiler import generate_preset_pass_manager\n",
    "from qiskit.quantum_info import SparsePauliOp, random_hermitian\n",
    "from qiskit_ibm_runtime import (\n",
    "    QiskitRuntimeService,\n",
    "    Session,\n",
    "    EstimatorV2 as Estimator,\n",
    ")\n",
    "\n",
    "n_qubits = 50\n",
    "\n",
    "service = QiskitRuntimeService()\n",
    "backend = service.least_busy(\n",
    "    operational=True, simulator=False, min_num_qubits=n_qubits\n",
    ")\n",
    "\n",
    "rng = np.random.default_rng(1234)\n",
    "mat = np.real(random_hermitian(n_qubits, seed=rng))\n",
    "circuit = iqp(mat)\n",
    "mat = np.real(random_hermitian(n_qubits, seed=rng))\n",
    "another_circuit = iqp(mat)\n",
    "observable = SparsePauliOp(\"X\" * 50)\n",
    "another_observable = SparsePauliOp(\"Y\" * 50)\n",
    "\n",
    "pm = generate_preset_pass_manager(optimization_level=1, backend=backend)\n",
    "isa_circuit = pm.run(circuit)\n",
    "another_isa_circuit = pm.run(another_circuit)\n",
    "isa_observable = observable.apply_layout(isa_circuit.layout)\n",
    "another_isa_observable = another_observable.apply_layout(\n",
    "    another_isa_circuit.layout\n",
    ")\n",
    "\n",
    "with Session(backend=backend) as session:\n",
    "    estimator = Estimator(mode=session)\n",
    "\n",
    "    estimator.options.resilience_level = 1\n",
    "\n",
    "    job = estimator.run([(isa_circuit, isa_observable)])\n",
    "    another_job = estimator.run(\n",
    "        [(another_isa_circuit, another_isa_observable)]\n",
    "    )\n",
    "    result = job.result()\n",
    "    another_result = another_job.result()\n",
    "\n",
    "    # first job\n",
    "    print(f\" > Expectation value: {result[0].data.evs}\")\n",
    "    print(f\" > Metadata: {result[0].metadata}\")\n",
    "\n",
    "    # second job\n",
    "    print(f\" > Another Expectation value: {another_result[0].data.evs}\")\n",
    "    print(f\" > More Metadata: {another_result[0].metadata}\")"
   ]
  },
  {
   "cell_type": "markdown",
   "id": "12aea3c7-37a1-4a6b-b944-587669aa6611",
   "metadata": {},
   "source": [
    "<span id=\"sampler-examples\"></span>\n",
    "## Sampler examples\n",
    "\n",
    "Generate entire error-mitigated quasi-probability distributions sampled from quantum circuit outputs. Leverage Sampler’s capabilities for search and classification algorithms like Grover’s and QVSM.\n",
    "\n",
    "### Run a single experiment\n",
    "\n",
    "Use Sampler to return the measurement outcome as bitstrings or counts of a single circuit."
   ]
  },
  {
   "cell_type": "code",
   "execution_count": 5,
   "id": "a5a561b3-3819-4f9e-bb64-4c27267e0e96",
   "metadata": {
    "scrolled": true
   },
   "outputs": [
    {
     "name": "stdout",
     "output_type": "stream",
     "text": [
      " > First ten results: ['1000111101011101110011101110000100110111000100000101011011010000101110001100110011011001001001000000100011000001011111010000000', '1100010110000101001010101110110011101000001100010111000010000000111010001101001111000000101101110001111011000000010011100110001', '1110011110110101000110101001110100100011101111000011100010000010010010010100100011000000001111100000100000001100011111110000000', '0010101000110000001010111011111010011001111000001101000110000100001010000011111001000001110010011110000000001000110111001000000', '1000001110001100000010111101000001100011111001001101010001100011000100010011000110010000110001100010101010001101100101000010110', '1100101011010001001000010100101001000011110011011011101001100101000001000101000011001001110001110010000011011000010001001010001', '0101011010001011010101010111111011011110111000110000100010000110110000100110100001000000001000110010100001000000010011101010001', '1110001010111011010010010010101011000000010001101110101101000001100010100101110111001111100000000011100010000100000100101010000', '0010111110110101000100100010001001101101111010001110100110001000010100100000000000010010111110110111100010001101011011001000100', '0100100101000111000011011110101001001101101000010001100011100100001000000001100100010101010100100110100000100000001100001000000']\n"
     ]
    }
   ],
   "source": [
    "import numpy as np\n",
    "from qiskit.circuit.library import iqp\n",
    "from qiskit.transpiler import generate_preset_pass_manager\n",
    "from qiskit.quantum_info import random_hermitian\n",
    "from qiskit_ibm_runtime import QiskitRuntimeService, SamplerV2 as Sampler\n",
    "\n",
    "n_qubits = 127\n",
    "\n",
    "service = QiskitRuntimeService()\n",
    "backend = service.least_busy(\n",
    "    operational=True, simulator=False, min_num_qubits=n_qubits\n",
    ")\n",
    "\n",
    "mat = np.real(random_hermitian(n_qubits, seed=1234))\n",
    "circuit = iqp(mat)\n",
    "circuit.measure_all()\n",
    "\n",
    "pm = generate_preset_pass_manager(backend=backend, optimization_level=1)\n",
    "isa_circuit = pm.run(circuit)\n",
    "\n",
    "sampler = Sampler(backend)\n",
    "job = sampler.run([isa_circuit])\n",
    "result = job.result()\n",
    "\n",
    "# Get results for the first (and only) PUB\n",
    "pub_result = result[0]\n",
    "\n",
    "print(f\" > First ten results: {pub_result.data.meas.get_bitstrings()[:10]}\")"
   ]
  },
  {
   "cell_type": "markdown",
   "id": "c9ea6d3c-b03f-49e2-a8de-d32e58396e02",
   "metadata": {},
   "source": [
    "### Run multiple experiments in a single job\n",
    "\n",
    "Use Sampler to return the measurement outcome as bitstrings or counts of multiple circuits in one job."
   ]
  },
  {
   "cell_type": "code",
   "execution_count": 6,
   "id": "e4534da8-9fe3-402b-8afc-f4bd9fbed497",
   "metadata": {},
   "outputs": [
    {
     "name": "stdout",
     "output_type": "stream",
     "text": [
      " > First ten results for pub 0: ['0001101010110001111110100001011110101010011001000010100100000101111000011000110000000101011001000000000001000110101010011100000', '1001100101000111011101000000000111011001010000001100000101000101011111011110001100000000001100101000110000000000000010111000011', '1110000010101100000111010001011110010000111010010011000000011000000101110110110100010100011010000001000101001100001010100000100', '0110011100010110110010010000101100000011000000011000000010001110101011001110000100110011110110010000000100001000101000111000000', '1011011000100010101100001001000000000001110000010111000000000010001100101100010101010010010000000010101010010100000110000010101', '1011011110000110001011001001000001100101110001000111101101000011000111010010111010010100111000111010000001001010000101010100101', '1000000000101011110111010001000101101110010010001000000101001010100001111100110100000101111001100101001000011100000001110100000', '1100010001000011000111110001010111001010000001100110110000000001100000111010110110010001010000000010011101111100101001100000000', '1000010000100101010010011001110101000001100010001101100000000010000001100001101000000110010000000000000110111110100000000000000', '1010100010100101001101010010010100010000010001110110111100000101100100100011110000000101110001010010000000101101100001010000001']\n",
      " > First ten results for pub 1: ['0100001101100010001000010110100001111010001010001101000010101110000011000001001001101101100000110101011011110001001010011100100', '1001111000000010010100100001000010100000011011100111010110100010000001010100010101111100100100111100000001000110100101101000111', '1000110101010000010101000110010001100110101000000110001000100110000111110000010100101100000000000110101011010000100110100110111', '1100110001111010000001111011000001101110001100011000011110000001100101110100010101111000000101111100010110001110101110111101100', '1010100111110010110000110100101111010010011110000100000110000011111011110000000100010000000000010101010010010001000010111011110', '0001101011001110000001011001100100110100001111101101111000101010000111100100010010010000100010011110000010000000101000100011011', '1111011100000000101101000010100001001110101000000001011100101010110000100110010000100011000000101100000010110111010010100010111', '0001011011011000110000001001000101001010000000001010100101010011001010110101000100111001001101001001010011000100100010100001010', '0011011111110010110011111111111000110110101100011000101111000011001010010100000000100000101101111100000010110011110000000010111', '1000000101001111100001101011010001000110101100010000101010001000100011110100000000000101000100111100000001000001000011010110001']\n",
      " > First ten results for pub 2: ['1011111000010100111110101011010010010100001111111100000111110011001110011011100001110110000100101011010111111001110000100000011', '0000000010001100100100011101000000000000100101010011110101101000011000111000011001000111100101011101110011000101000011100100100', '0100010010011111000100101001000011110011101111101100010001100101000000001100011000011100010000001110010010100101010001100101101', '0010001110001000010010000101001011100011001000101111101101011100000010100111011011000011111100000001000111000001000100000011000', '0010111111101000111010010011010000001001100001000010010000101101110000111111010111010010001000000010001111010001000001100000000', '1011110011010001100001001011000011000000110001111001001010100101000110000100011011011110010000001110010100000000100101100100010', '1111011010011001101010010001001010000100101011100011000000011110100100111010100000010001010011100111001000100001101000000100110', '0101010110000001001100101111001101011000100010100001111111111010001001001110001000010011111100001011101111011000001000000101000', '1110011010100111010111111100111010100001000011011000110000101100111110001010010010000110011000101010101001101100000100100000001', '0110001011111100011100001111101101000101001011011001111001101001000001111100010001010100100000101001110100010100001001100000100']\n"
     ]
    }
   ],
   "source": [
    "import numpy as np\n",
    "from qiskit.circuit.library import iqp\n",
    "from qiskit.transpiler import generate_preset_pass_manager\n",
    "from qiskit.quantum_info import random_hermitian\n",
    "from qiskit_ibm_runtime import QiskitRuntimeService, SamplerV2 as Sampler\n",
    "\n",
    "n_qubits = 127\n",
    "\n",
    "service = QiskitRuntimeService()\n",
    "backend = service.least_busy(\n",
    "    operational=True, simulator=False, min_num_qubits=n_qubits\n",
    ")\n",
    "\n",
    "rng = np.random.default_rng()\n",
    "mats = [np.real(random_hermitian(n_qubits, seed=rng)) for _ in range(3)]\n",
    "circuits = [iqp(mat) for mat in mats]\n",
    "for circuit in circuits:\n",
    "    circuit.measure_all()\n",
    "\n",
    "pm = generate_preset_pass_manager(backend=backend, optimization_level=1)\n",
    "isa_circuits = pm.run(circuits)\n",
    "\n",
    "sampler = Sampler(mode=backend)\n",
    "job = sampler.run(isa_circuits)\n",
    "result = job.result()\n",
    "\n",
    "for idx, pub_result in enumerate(result):\n",
    "    print(\n",
    "        f\" > First ten results for pub {idx}: {pub_result.data.meas.get_bitstrings()[:10]}\"\n",
    "    )"
   ]
  },
  {
   "cell_type": "markdown",
   "id": "e3ce4f13-b772-4ee6-ba9d-d98da633ab5c",
   "metadata": {},
   "source": [
    "### Run parameterized circuits\n",
    "\n",
    "Run several experiments in a single job, leveraging parameter values to increase circuit reusability."
   ]
  },
  {
   "cell_type": "code",
   "execution_count": 7,
   "id": "c63c9cb6-0650-433c-b3d6-dcde06e465e4",
   "metadata": {},
   "outputs": [
    {
     "name": "stdout",
     "output_type": "stream",
     "text": [
      " >> First ten results for the meas output register: ['0111011001110111000111100100011110100100100000000011011101001011000101000001100000100001011101000101000001000010011001111101001', '0001100110011111000001101100001111000001010000011011000100011100010100110111011110000110000110100100010001101110100111100110011', '0100000011101011001111001110011111100001110000001101001001110001110000100001101010000111000010110111001100111001111100110010111', '0011100111001011110010101101100110100101011010110010101000110001111001100110111011001001101101111011010011010111101011001010111', '0000111011011100101111101101110110000100000110000111100000111010111000100110101010001100001010100101011000111111110011000100110', '0101110001000101010000100100111010101000001101110111101011011101101100100001100010000110010110011100011000011101011111011100101', '0001001000011111100001100110001110100001101000011101001101111101100110000011100100011011111111010111111101111101101100010101001', '0101000000011011001101110100111010000011011001010111011101111000100001000110101000101010000010001101110001100010110111010001110', '1111010011001011101110101111111111100000100101101000001000011001011011100111011010011100101010111111001101011111110111100101000', '1000100000011111001001001100010111100000011010100001000010111000110100000011011010101101000010011111001001001011001101000001111']\n"
     ]
    }
   ],
   "source": [
    "import numpy as np\n",
    "from qiskit.circuit.library import real_amplitudes\n",
    "from qiskit.transpiler import generate_preset_pass_manager\n",
    "from qiskit_ibm_runtime import QiskitRuntimeService, SamplerV2 as Sampler\n",
    "\n",
    "n_qubits = 127\n",
    "\n",
    "service = QiskitRuntimeService()\n",
    "backend = service.least_busy(\n",
    "    operational=True, simulator=False, min_num_qubits=n_qubits\n",
    ")\n",
    "\n",
    "# Step 1: Map classical inputs to a quantum problem\n",
    "circuit = real_amplitudes(num_qubits=n_qubits, reps=2)\n",
    "circuit.measure_all()\n",
    "\n",
    "# Define three sets of parameters for the circuit\n",
    "rng = np.random.default_rng(1234)\n",
    "parameter_values = [\n",
    "    rng.uniform(-np.pi, np.pi, size=circuit.num_parameters) for _ in range(3)\n",
    "]\n",
    "\n",
    "# Step 2: Optimize problem for quantum execution.\n",
    "\n",
    "pm = generate_preset_pass_manager(backend=backend, optimization_level=1)\n",
    "isa_circuit = pm.run(circuit)\n",
    "\n",
    "# Step 3: Execute using Qiskit primitives.\n",
    "sampler = Sampler(backend)\n",
    "job = sampler.run([(isa_circuit, parameter_values)])\n",
    "result = job.result()\n",
    "# Get results for the first (and only) PUB\n",
    "pub_result = result[0]\n",
    "# Get counts from the classical register \"meas\".\n",
    "print(\n",
    "    f\" >> First ten results for the meas output register: {pub_result.data.meas.get_bitstrings()[:10]}\"\n",
    ")"
   ]
  },
  {
   "cell_type": "markdown",
   "id": "a8b00d2a-3c5d-4670-9774-d39cdb262552",
   "metadata": {},
   "source": [
    "### Use sessions and advanced options\n",
    "\n",
    "Explore sessions and advanced options to optimize circuit performance on QPUs.\n",
    "\n",
    "\n",
    "<Admonition type=\"caution\">\n",
    "The following code block will return an error for users on the Open Plan, because it uses sessions. Workloads on the Open Plan can run only in [job mode](/docs/guides/execution-modes#job-mode) or [batch mode](/docs/guides/execution-modes#batch-mode).\n",
    "</Admonition>"
   ]
  },
  {
   "cell_type": "code",
   "execution_count": 8,
   "id": "881fdac4-973b-4cef-a3da-c011d326ff54",
   "metadata": {
    "scrolled": true
   },
   "outputs": [
    {
     "name": "stdout",
     "output_type": "stream",
     "text": [
      " > The first ten measurement results of job 1: ['0001011001100101000000000000001010100100010111101011000101111101000100000011111100001100011101001001100000101110001010011010100', '0010000101110111111000111000111011000010000100101100101010000101101001010010100000000010001011000100000100100100001011101010011', '1110111010100011100101000101010110100010011001001111100000000100010001110000010101000000101001001001000001011100101011011010100', '1010110000011000001110111111001001001101010010001011000100100000010100011001011100110000101010100000111001101100001001110010100', '0001111101100100000001001000000110100100011111100101001101100110001001010010011100010000000101011000011000011101101011111010100', '0000000110110010010011001101011101000101000101011101111100000101010000010111110100110100110000100101000011000100001010000001000', '0111010111011000011001101111011101001011101000101100000100101110111010100011101110111100101111011001000001010000000010011010001', '1111101100100101011110100100001100100001000011000101000101010111000100010100100000110100000100101000000100010010001000101001100', '1010100011001001010110010001111000100000001101011000100010001000100001000110100001011010100000011000111000100101001010000010100', '1000000001000001010001100110011011101111011000110101001011001101010000010101101100010000100010010011100000110111110011010000100']\n"
     ]
    }
   ],
   "source": [
    "import numpy as np\n",
    "from qiskit.circuit.library import iqp\n",
    "from qiskit.quantum_info import random_hermitian\n",
    "from qiskit.transpiler import generate_preset_pass_manager\n",
    "from qiskit_ibm_runtime import Session, SamplerV2 as Sampler\n",
    "from qiskit_ibm_runtime import QiskitRuntimeService\n",
    "\n",
    "n_qubits = 127\n",
    "\n",
    "service = QiskitRuntimeService()\n",
    "backend = service.least_busy(\n",
    "    operational=True, simulator=False, min_num_qubits=n_qubits\n",
    ")\n",
    "\n",
    "rng = np.random.default_rng(1234)\n",
    "mat = np.real(random_hermitian(n_qubits, seed=rng))\n",
    "circuit = iqp(mat)\n",
    "circuit.measure_all()\n",
    "mat = np.real(random_hermitian(n_qubits, seed=rng))\n",
    "another_circuit = iqp(mat)\n",
    "another_circuit.measure_all()\n",
    "\n",
    "pm = generate_preset_pass_manager(backend=backend, optimization_level=1)\n",
    "isa_circuit = pm.run(circuit)\n",
    "another_isa_circuit = pm.run(another_circuit)\n",
    "\n",
    "with Session(backend=backend) as session:\n",
    "    sampler = Sampler(mode=session)\n",
    "    job = sampler.run([isa_circuit])\n",
    "    another_job = sampler.run([another_isa_circuit])\n",
    "    result = job.result()\n",
    "    another_result = another_job.result()\n",
    "\n",
    "# first job\n",
    "\n",
    "print(\n",
    "    f\" > The first ten measurement results of job 1: {result[0].data.meas.get_bitstrings()[:10]}\"\n",
    ")"
   ]
  },
  {
   "cell_type": "code",
   "execution_count": 9,
   "id": "40fe2a06-edfc-41a8-9054-7f31ab93a00c",
   "metadata": {},
   "outputs": [
    {
     "name": "stdout",
     "output_type": "stream",
     "text": [
      " > The first ten measurement results of job 2: ['1010111100011110101001100111111000111011101010010000000001000010001101110000000100100110010000000001111000000110001100000001100', '1010001110011010011100111000001011111100000111100110011000100000001000000000000000000100101000010000000011010000000101000010000', '0101100100100100101001011000101000011001101100000100011101101010011100001100000000111101010000001101111000010001101111110000001', '1111011001000010100100010000000111000010101000100100001000000000011000100000011010100100101000010101001010010101000010100100000', '1101000010011000000100111100001110010101100100011100011100000100001110001000000111101101100001010100110010000000110111000010001', '0101110000001010001101100000011000101111101100110110000000001000000100000101010110001100110111010111010001000011010100010011000', '0001011101110110000000101001111010010101111110010100101101100010001100001101010101000000110000000101000000100000000010000001110', '0011010001110000000101011100011110011111000101010110111010000010001100100100011010001000010000000000000011100011110110100000000', '0000001001000110111001011001010110100100111000101000110111001000000000010001000100101001010000001001101011000011001000000010000', '0100011101111111010101111001110101110011001111011110010100000010001000001010001010100000010000010000010000001110010001110001001']\n"
     ]
    }
   ],
   "source": [
    "# second job\n",
    "print(\n",
    "    \" > The first ten measurement results of job 2:\",\n",
    "    another_result[0].data.meas.get_bitstrings()[:10],\n",
    ")"
   ]
  },
  {
   "cell_type": "markdown",
   "id": "551e1894-a12a-4f6c-8347-020fdc9db74e",
   "metadata": {},
   "source": [
    "## Next steps\n",
    "\n",
    "<Admonition type=\"tip\" title=\"Recommendations\">\n",
    "    - [Specify advanced runtime options.](runtime-options-overview)\n",
    "    - Practice with primitives by working through the [Cost function lesson](/learning/courses/variational-algorithm-design/cost-functions) in IBM Quantum Learning.\n",
    "    - Learn how to transpile locally in the [Transpile](./transpile/) section.\n",
    "    - Try the [Compare transpiler settings](/docs/tutorials/circuit-transpilation-settings) tutorial.\n",
    "    - Read [Migrate to V2 primitives](/docs/migration-guides/v2-primitives).\n",
    "    - Understand the [Job limits](/docs/guides/job-limits) when sending a job to an IBM&reg; QPU.\n",
    "</Admonition>"
   ]
  }
 ],
 "metadata": {
  "description": "Practical examples of using primitives in Qiskit Runtime.",
  "kernelspec": {
   "display_name": "Python 3",
   "language": "python",
   "name": "python3"
  },
  "language_info": {
   "codemirror_mode": {
    "name": "ipython",
    "version": 3
   },
   "file_extension": ".py",
   "mimetype": "text/x-python",
   "name": "python",
   "nbconvert_exporter": "python",
   "pygments_lexer": "ipython3",
   "version": "3"
  },
  "title": "Primitives examples"
 },
 "nbformat": 4,
 "nbformat_minor": 4
}
