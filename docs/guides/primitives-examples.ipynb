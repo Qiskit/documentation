{
 "cells": [
  {
   "cell_type": "markdown",
   "id": "915d2c66-aed3-47f1-a405-144348514dd3",
   "metadata": {},
   "source": [
    "# Primitives examples\n",
    "\n",
    "The examples in this section illustrate some common ways to use primitives. Before running these examples, follow the instructions in [Install and set up.](install-qiskit)\n",
    "\n",
    "<Admonition type=\"note\">\n",
    "    These examples all use the primitives from Qiskit Runtime, but you could use the base primitives instead.\n",
    "</Admonition>\n",
    "\n",
    "## Estimator examples\n",
    "\n",
    "Efficiently calculate and interpret expectation values of the quantum operators required for many algorithms with Estimator. Explore uses in molecular modeling, machine learning, and complex optimization problems.\n",
    "\n",
    "### Run a single experiment\n",
    "\n",
    "Use Estimator to determine the expectation value of a single circuit-observable pair."
   ]
  },
  {
   "cell_type": "code",
   "execution_count": 1,
   "id": "88d9d34b-2903-48b9-8f3c-398da05b487b",
   "metadata": {},
   "outputs": [
    {
     "name": "stdout",
     "output_type": "stream",
     "text": [
      " > Expectation value: 0.203125\n",
      " > Metadata: {'shots': 4096, 'target_precision': 0.015625, 'circuit_metadata': {}, 'resilience': {}, 'num_randomizations': 32}\n"
     ]
    }
   ],
   "source": [
    "import numpy as np\n",
    "from qiskit.circuit.library import IQP\n",
    "from qiskit.transpiler.preset_passmanagers import generate_preset_pass_manager\n",
    "from qiskit.quantum_info import SparsePauliOp, random_hermitian\n",
    "from qiskit_ibm_runtime import QiskitRuntimeService, EstimatorV2 as Estimator\n",
    "\n",
    "n_qubits = 50\n",
    "\n",
    "service = QiskitRuntimeService()\n",
    "backend = service.least_busy(\n",
    "    operational=True, simulator=False, min_num_qubits=n_qubits\n",
    ")\n",
    "\n",
    "mat = np.real(random_hermitian(n_qubits, seed=1234))\n",
    "circuit = IQP(mat)\n",
    "observable = SparsePauliOp(\"Z\" * 50)\n",
    "\n",
    "pm = generate_preset_pass_manager(backend=backend, optimization_level=1)\n",
    "isa_circuit = pm.run(circuit)\n",
    "isa_observable = observable.apply_layout(isa_circuit.layout)\n",
    "\n",
    "estimator = Estimator(backend)\n",
    "job = estimator.run([(isa_circuit, isa_observable)])\n",
    "result = job.result()\n",
    "\n",
    "print(f\" > Expectation value: {result[0].data.evs}\")\n",
    "print(f\" > Metadata: {result[0].metadata}\")"
   ]
  },
  {
   "cell_type": "markdown",
   "id": "191eb3ee-b0d7-4710-90d6-1839ab51719e",
   "metadata": {},
   "source": [
    "### Run multiple experiments in a single job\n",
    "\n",
    "Use Estimator to determine the expectation values of multiple circuit-observable pairs."
   ]
  },
  {
   "cell_type": "code",
   "execution_count": 2,
   "id": "6bd60dea-dde5-48a6-9b35-7d90a48692a1",
   "metadata": {},
   "outputs": [
    {
     "name": "stdout",
     "output_type": "stream",
     "text": [
      ">>> Expectation values for PUB 0: -0.05204460966542751\n",
      ">>> Standard errors for PUB 0: 0.2668113375877867\n",
      ">>> Expectation values for PUB 1: 0.05411499436302142\n",
      ">>> Standard errors for PUB 1: 0.33785760393082975\n",
      ">>> Expectation values for PUB 2: -0.3070539419087137\n",
      ">>> Standard errors for PUB 2: 0.2560868761970456\n"
     ]
    }
   ],
   "source": [
    "import numpy as np\n",
    "from qiskit.circuit.library import IQP\n",
    "from qiskit.transpiler.preset_passmanagers import generate_preset_pass_manager\n",
    "from qiskit.quantum_info import SparsePauliOp, random_hermitian\n",
    "from qiskit_ibm_runtime import QiskitRuntimeService, EstimatorV2 as Estimator\n",
    "\n",
    "n_qubits = 50\n",
    "\n",
    "service = QiskitRuntimeService()\n",
    "backend = service.least_busy(\n",
    "    operational=True, simulator=False, min_num_qubits=n_qubits\n",
    ")\n",
    "\n",
    "rng = np.random.default_rng()\n",
    "mats = [np.real(random_hermitian(n_qubits, seed=rng)) for _ in range(3)]\n",
    "\n",
    "pubs = []\n",
    "circuits = [IQP(mat) for mat in mats]\n",
    "observables = [\n",
    "    SparsePauliOp(\"X\" * 50),\n",
    "    SparsePauliOp(\"Y\" * 50),\n",
    "    SparsePauliOp(\"Z\" * 50),\n",
    "]\n",
    "\n",
    "# Get ISA circuits\n",
    "pm = generate_preset_pass_manager(optimization_level=1, backend=backend)\n",
    "\n",
    "for qc, obs in zip(circuits, observables):\n",
    "    isa_circuit = pm.run(qc)\n",
    "    isa_obs = obs.apply_layout(isa_circuit.layout)\n",
    "    pubs.append((isa_circuit, isa_obs))\n",
    "\n",
    "estimator = Estimator(backend)\n",
    "job = estimator.run(pubs)\n",
    "job_result = job.result()\n",
    "\n",
    "for idx in range(len(pubs)):\n",
    "    pub_result = job_result[idx]\n",
    "    print(f\">>> Expectation values for PUB {idx}: {pub_result.data.evs}\")\n",
    "    print(f\">>> Standard errors for PUB {idx}: {pub_result.data.stds}\")"
   ]
  },
  {
   "cell_type": "markdown",
   "id": "36995a0d-a912-4a55-8ed5-20525d248237",
   "metadata": {},
   "source": [
    "### Run parameterized circuits\n",
    "\n",
    "Use Estimator to run three experiments in a single job, leveraging parameter values to increase circuit reusability."
   ]
  },
  {
   "cell_type": "code",
   "execution_count": 3,
   "id": "c80000d6-b8fe-419c-9d4c-874190b9b8b7",
   "metadata": {},
   "outputs": [
    {
     "name": "stdout",
     "output_type": "stream",
     "text": [
      ">>> Expectation values: [[ 1.03754483  0.9874777   0.82931695  0.58514344  0.28807852 -0.02413492\n",
      "  -0.34122669 -0.63007548 -0.8352223  -0.97823454 -1.02445035 -0.98285612\n",
      "  -0.83470879 -0.58745423 -0.28063264  0.03928343  0.35971302  0.62750793\n",
      "   0.8408709   0.98670744  1.03395026]\n",
      " [ 0.01232421  0.36279407  0.61287293  0.85755994  0.98824797  1.04113939\n",
      "   0.96411305  0.81468194  0.58283265  0.29090282 -0.03414834 -0.3271052\n",
      "  -0.62571065 -0.83753309 -0.99209928 -1.0275314  -0.96591033 -0.81827651\n",
      "  -0.56203554 -0.30374054  0.02285115]\n",
      " [-0.05828327 -0.33763213 -0.62981872 -0.86089775 -1.01803149 -1.03857184\n",
      "  -0.98876148 -0.8092901  -0.58950827 -0.27061921  0.0372294   0.34584828\n",
      "   0.61852153  0.86372205  0.98927498  1.04190965  0.98362639  0.82520888\n",
      "   0.61287293  0.31709177 -0.03594563]\n",
      " [ 1.04909878  0.9813156   0.82341159  0.58694073  0.31324046 -0.03389159\n",
      "  -0.36228056 -0.63931864 -0.85730319 -1.01161262 -1.04961229 -0.99646411\n",
      "  -0.83291151 -0.59233257 -0.29911896  0.02721597  0.32967274  0.62442688\n",
      "   0.86757336  1.02059903  1.03446377]]\n",
      ">>> Standard errors: [[0.00851195 0.01113794 0.00889384 0.00916447 0.00931058 0.01247851\n",
      "  0.01045525 0.01044504 0.01177496 0.00842728 0.00967627 0.0098564\n",
      "  0.00972096 0.01130413 0.01219797 0.01132906 0.01151567 0.01029773\n",
      "  0.0124097  0.00880554 0.01146103]\n",
      " [0.01106742 0.01205661 0.00954604 0.01026995 0.00914585 0.00874972\n",
      "  0.00921943 0.00985736 0.01024646 0.0105373  0.01434514 0.01028697\n",
      "  0.0136868  0.00905596 0.00782025 0.00896515 0.00994426 0.00945203\n",
      "  0.01375557 0.01249388 0.01418119]\n",
      " [0.01045702 0.01136758 0.00937837 0.01118174 0.0094797  0.00837884\n",
      "  0.00911356 0.01090555 0.01355486 0.01265679 0.01456816 0.00933505\n",
      "  0.01168495 0.01085417 0.0096777  0.00874177 0.00869219 0.01014696\n",
      "  0.01204374 0.01397162 0.01058592]\n",
      " [0.00847585 0.00896486 0.01019136 0.01325726 0.01250259 0.01209705\n",
      "  0.0112487  0.01233089 0.00997884 0.00892021 0.01019677 0.01028874\n",
      "  0.0107326  0.01319687 0.01057311 0.01275297 0.01360162 0.00996369\n",
      "  0.00947689 0.0093054  0.00775118]]\n",
      ">>> Metadata: {'shots': 10016, 'target_precision': 0.01, 'circuit_metadata': {}, 'resilience': {}, 'num_randomizations': 32}\n"
     ]
    }
   ],
   "source": [
    "import numpy as np\n",
    "\n",
    "from qiskit.circuit import QuantumCircuit, Parameter\n",
    "from qiskit.quantum_info import SparsePauliOp\n",
    "from qiskit.transpiler.preset_passmanagers import generate_preset_pass_manager\n",
    "from qiskit_ibm_runtime import QiskitRuntimeService, EstimatorV2 as Estimator\n",
    "\n",
    "service = QiskitRuntimeService()\n",
    "backend = service.least_busy(operational=True, simulator=False)\n",
    "\n",
    "# Step 1: Map classical inputs to a quantum problem\n",
    "theta = Parameter(\"θ\")\n",
    "\n",
    "chsh_circuit = QuantumCircuit(2)\n",
    "chsh_circuit.h(0)\n",
    "chsh_circuit.cx(0, 1)\n",
    "chsh_circuit.ry(theta, 0)\n",
    "\n",
    "number_of_phases = 21\n",
    "phases = np.linspace(0, 2 * np.pi, number_of_phases)\n",
    "individual_phases = [[ph] for ph in phases]\n",
    "\n",
    "ZZ = SparsePauliOp.from_list([(\"ZZ\", 1)])\n",
    "ZX = SparsePauliOp.from_list([(\"ZX\", 1)])\n",
    "XZ = SparsePauliOp.from_list([(\"XZ\", 1)])\n",
    "XX = SparsePauliOp.from_list([(\"XX\", 1)])\n",
    "ops = [ZZ, ZX, XZ, XX]\n",
    "\n",
    "# Step 2: Optimize problem for quantum execution.\n",
    "\n",
    "pm = generate_preset_pass_manager(backend=backend, optimization_level=1)\n",
    "chsh_isa_circuit = pm.run(chsh_circuit)\n",
    "isa_observables = [\n",
    "    operator.apply_layout(chsh_isa_circuit.layout) for operator in ops\n",
    "]\n",
    "\n",
    "# Step 3: Execute using Qiskit primitives.\n",
    "\n",
    "# Reshape observable array for broadcasting\n",
    "reshaped_ops = np.fromiter(isa_observables, dtype=object)\n",
    "reshaped_ops = reshaped_ops.reshape((4, 1))\n",
    "\n",
    "estimator = Estimator(backend, options={\"default_shots\": int(1e4)})\n",
    "job = estimator.run([(chsh_isa_circuit, reshaped_ops, individual_phases)])\n",
    "# Get results for the first (and only) PUB\n",
    "pub_result = job.result()[0]\n",
    "print(f\">>> Expectation values: {pub_result.data.evs}\")\n",
    "print(f\">>> Standard errors: {pub_result.data.stds}\")\n",
    "print(f\">>> Metadata: {pub_result.metadata}\")"
   ]
  },
  {
   "cell_type": "markdown",
   "id": "c7978aa5-da67-4f93-927d-277802ae5437",
   "metadata": {},
   "source": [
    "### Use sessions and advanced options\n",
    "\n",
    "Explore sessions and advanced options to optimize circuit performance on QPUs."
   ]
  },
  {
   "cell_type": "code",
   "execution_count": 4,
   "id": "cbe2bed7-e5c1-4264-ac42-1c267ff1af3b",
   "metadata": {},
   "outputs": [
    {
     "name": "stdout",
     "output_type": "stream",
     "text": [
      " > Expectation value: 0.31654676258992803\n",
      " > Metadata: {'shots': 4096, 'target_precision': 0.015625, 'circuit_metadata': {}, 'resilience': {}, 'num_randomizations': 32}\n",
      " > Another Expectation value: 0.11309157959434542\n",
      " > More Metadata: {'shots': 4096, 'target_precision': 0.015625, 'circuit_metadata': {}, 'resilience': {}, 'num_randomizations': 32}\n"
     ]
    }
   ],
   "source": [
    "import numpy as np\n",
    "from qiskit.circuit.library import IQP\n",
    "from qiskit.transpiler.preset_passmanagers import generate_preset_pass_manager\n",
    "from qiskit.quantum_info import SparsePauliOp, random_hermitian\n",
    "from qiskit_ibm_runtime import (\n",
    "    QiskitRuntimeService,\n",
    "    Session,\n",
    "    EstimatorV2 as Estimator,\n",
    ")\n",
    "\n",
    "n_qubits = 50\n",
    "\n",
    "service = QiskitRuntimeService()\n",
    "backend = service.least_busy(\n",
    "    operational=True, simulator=False, min_num_qubits=n_qubits\n",
    ")\n",
    "\n",
    "rng = np.random.default_rng(1234)\n",
    "mat = np.real(random_hermitian(n_qubits, seed=rng))\n",
    "circuit = IQP(mat)\n",
    "mat = np.real(random_hermitian(n_qubits, seed=rng))\n",
    "another_circuit = IQP(mat)\n",
    "observable = SparsePauliOp(\"X\" * 50)\n",
    "another_observable = SparsePauliOp(\"Y\" * 50)\n",
    "\n",
    "pm = generate_preset_pass_manager(optimization_level=1, backend=backend)\n",
    "isa_circuit = pm.run(circuit)\n",
    "another_isa_circuit = pm.run(another_circuit)\n",
    "isa_observable = observable.apply_layout(isa_circuit.layout)\n",
    "another_isa_observable = another_observable.apply_layout(\n",
    "    another_isa_circuit.layout\n",
    ")\n",
    "\n",
    "with Session(backend=backend) as session:\n",
    "    estimator = Estimator(mode=session)\n",
    "\n",
    "    estimator.options.resilience_level = 1\n",
    "\n",
    "    job = estimator.run([(isa_circuit, isa_observable)])\n",
    "    another_job = estimator.run(\n",
    "        [(another_isa_circuit, another_isa_observable)]\n",
    "    )\n",
    "    result = job.result()\n",
    "    another_result = another_job.result()\n",
    "\n",
    "    # first job\n",
    "    print(f\" > Expectation value: {result[0].data.evs}\")\n",
    "    print(f\" > Metadata: {result[0].metadata}\")\n",
    "\n",
    "    # second job\n",
    "    print(f\" > Another Expectation value: {another_result[0].data.evs}\")\n",
    "    print(f\" > More Metadata: {another_result[0].metadata}\")"
   ]
  },
  {
   "cell_type": "markdown",
   "id": "3a60b53b-418a-44fe-92d2-b1ba5d967c84",
   "metadata": {},
   "source": [
    "<span id=\"sampler-examples\"></span>\n",
    "## Sampler examples\n",
    "\n",
    "Generate entire error-mitigated quasi-probability distributions sampled from quantum circuit outputs. Leverage Sampler’s capabilities for search and classification algorithms like Grover’s and QVSM.\n",
    "\n",
    "### Run a single experiment\n",
    "\n",
    "Use Sampler to return the measurement outcome as bitstrings or counts of a single circuit."
   ]
  },
  {
   "cell_type": "code",
   "execution_count": 5,
   "id": "012cfeea-3af3-46bb-9e64-15bb052bbcd2",
   "metadata": {
    "scrolled": true
   },
   "outputs": [
    {
     "name": "stdout",
     "output_type": "stream",
     "text": [
      " > First ten results: ['1100011000110101011001011000001010110001000100011011101010101101110110010010010011001101110110001011111100010000100011011100001', '0000000010000100000110011001101010000001100010000110001000110100101010000001010011011000110010001001000100000011100000100010010', '0111011100111001000110010111111010000001011010100010010010100001010010010100000000000001010000000001100100001101010110001111011', '1111001001111001010110101100100110110010011110001001000001000010101000101001111100000110110000000010000100001011100101000100001', '0001001100110001011110101111011111101010110000001000100100010001011000001010010100010000000000101011000000000000000101000110001', '0101110010010101001110110000000101101010100010110101000010000000110000000000000111000000100000001100100010000001100101001101101', '0101110001110100000110010100111011000001110000000001011001000110001010110001010010000001000000000010001100001001000100001110110', '1111011010100111011110100000100000001010000001101001101001010010001010001010010011000001111100100110000100111001000100010110011', '1100111111100000010100001100001111000000100001000000011000001001000010001000100010001101010000001010100100001001100001010110001', '1100000000101001000000110000100010100011101000010100110001000010100010010110110011000101111110001010010110001011000010000000001']\n"
     ]
    }
   ],
   "source": [
    "import numpy as np\n",
    "from qiskit.circuit.library import IQP\n",
    "from qiskit.transpiler.preset_passmanagers import generate_preset_pass_manager\n",
    "from qiskit.quantum_info import random_hermitian\n",
    "from qiskit_ibm_runtime import QiskitRuntimeService, SamplerV2 as Sampler\n",
    "\n",
    "n_qubits = 127\n",
    "\n",
    "service = QiskitRuntimeService()\n",
    "backend = service.least_busy(\n",
    "    operational=True, simulator=False, min_num_qubits=n_qubits\n",
    ")\n",
    "\n",
    "mat = np.real(random_hermitian(n_qubits, seed=1234))\n",
    "circuit = IQP(mat)\n",
    "circuit.measure_all()\n",
    "\n",
    "pm = generate_preset_pass_manager(backend=backend, optimization_level=1)\n",
    "isa_circuit = pm.run(circuit)\n",
    "\n",
    "sampler = Sampler(backend)\n",
    "job = sampler.run([isa_circuit])\n",
    "result = job.result()\n",
    "\n",
    "# Get results for the first (and only) PUB\n",
    "pub_result = result[0]\n",
    "\n",
    "print(f\" > First ten results: {pub_result.data.meas.get_bitstrings()[:10]}\")"
   ]
  },
  {
   "cell_type": "markdown",
   "id": "a5c3d65c-9d14-4b4e-800c-6e3e231e335c",
   "metadata": {},
   "source": [
    "### Run multiple experiments in a single job\n",
    "\n",
    "Use Sampler to return the measurement outcome as bitstrings or counts of multiple circuits in one job."
   ]
  },
  {
   "cell_type": "code",
   "execution_count": 6,
   "id": "b5372b7e-8bc2-4f2e-8f65-03dcd368faeb",
   "metadata": {},
   "outputs": [
    {
     "name": "stdout",
     "output_type": "stream",
     "text": [
      " > First ten results for pub 0: ['1101100010110001011100010000111001001010011001000000100001001001010111000010010000011001100000010001111000000000001001011000111', '0101111001010010101001100110011010100010011111000010110111001011111011111010010101100110000110011000001100000001101000101001001', '0001010011010100111010111110010000111111010000000010011001001011101101001011001101000000101001100001000010110000011001000001010', '1000001100011100110000011000010101011110011111000100000101010111000100000110010001010100000000010101001110011000001111011000110', '1100110000001111010100100101001100100101011010011101000010010001100001011001000000100100011001111100010000011000001100000001010', '0100000010100111011011000110011001001111000101011001101011110000011100001110011111100001111100011000100010001000001101001101010', '1000100010100010111100001110101011001111000100001000110100100011001000110101110010011100110100000111000110000100100100000000001', '1101110111010000100000100110101100001111101111000100000011101010000110000000001100011010110010100001010010000000001111011000010', '0001010110010010111111101111000000101110001111001011110000110000001111010100010000010101000001110000011000000001001100001100111', '0001000011111001010101000001000111111110110110010001101111000110000010010010000111110110010101001011011100000000000000011001010']\n",
      " > First ten results for pub 1: ['1011011110100001100010110100100110111110111111010100000110100100010011000000000000111000011001101011010000110000110011110000000', '1011000111110110101010010110000011010110011001101011100100101001001111101010100100000110010000001000100000011101000011010001000', '1011010100011110010100100001011010010110101100010011100011110010001011010000000000111000101001011000000100010000100010110000001', '0001000001001100000010000000110010110010100100010111010110000011100010011100111101101000100100000000000100000101010011010011100', '0011011101000111100010010110101101100101010100001110011110110001011001111110011011110000011000001010010001001001010111100000000', '0111000101010001001110100111001000010100110101001010100100010011001100011000001010001000010000001011100101010111110111101001000', '1011111000111100100100110110000010110101110101101011101111001000000001010110000010101000001000001100100101000000001001100000011', '0000100011011111110011110111000000101000100100101110110000101001100001100110010110010000000001111011111100000001000011010000001', '1110100110101101000010010100001111101001011001101000010011100011101100100111101001011001011000101010100100010110011101000001000', '1010011000111111111011110001000001100101001001000100010111100000000001100010001000001000100101101001010101000001100110000001100']\n",
      " > First ten results for pub 2: ['1010101101110110000001111000001110000101110001000010000001010010111100100001010100100010111100000001100001011011010000000010000', '0000110011000010111111000011000110100001110111100000011011101000010011001100101001101011110000000000110010001000000100000100010', '0010110111000010001001011001011010001011000110011000001001001001101000110000011000110011011101000001000000110011100000110000010', '1100100100000111000111101110000010000001010000011110110100111000000110100010000110000101100100001001000000000111000000111101110', '0011010001010010001000101011100100010100010110001100001101101000110010000011100000011000110101101001001101010001101100100110100', '1101010000110001001010101001000101111110010100011000100011011011011000110100100001000110100000000111101000101100100100001110010', '1100011101010011000010001111010110100111100101001010010110111010001000011110100101100001010000110000001101100011100001100110100', '1111000111001000011110111110111000110001110000100100001101011111110101100101000000100011101111000000010011100110011001111001010', '1010001011000100101101010101111010111110011111011010011001100011010001111001000000011010100000000011100000011100000101100000000', '0101101000100001101011001111101111110111001100011000110111011000000010100011101000001100111100001010000010111011010101001101010']\n"
     ]
    }
   ],
   "source": [
    "import numpy as np\n",
    "from qiskit.circuit.library import IQP\n",
    "from qiskit.transpiler.preset_passmanagers import generate_preset_pass_manager\n",
    "from qiskit.quantum_info import random_hermitian\n",
    "from qiskit_ibm_runtime import QiskitRuntimeService, SamplerV2 as Sampler\n",
    "\n",
    "n_qubits = 127\n",
    "\n",
    "service = QiskitRuntimeService()\n",
    "backend = service.least_busy(\n",
    "    operational=True, simulator=False, min_num_qubits=n_qubits\n",
    ")\n",
    "\n",
    "rng = np.random.default_rng()\n",
    "mats = [np.real(random_hermitian(n_qubits, seed=rng)) for _ in range(3)]\n",
    "circuits = [IQP(mat) for mat in mats]\n",
    "for circuit in circuits:\n",
    "    circuit.measure_all()\n",
    "\n",
    "pm = generate_preset_pass_manager(backend=backend, optimization_level=1)\n",
    "isa_circuits = pm.run(circuits)\n",
    "\n",
    "sampler = Sampler(backend)\n",
    "job = sampler.run(isa_circuits)\n",
    "result = job.result()\n",
    "\n",
    "for idx, pub_result in enumerate(result):\n",
    "    print(\n",
    "        f\" > First ten results for pub {idx}: {pub_result.data.meas.get_bitstrings()[:10]}\"\n",
    "    )"
   ]
  },
  {
   "cell_type": "markdown",
   "id": "36337791-94ff-4ed5-aa26-808c470eb728",
   "metadata": {},
   "source": [
    "### Run parameterized circuits\n",
    "\n",
    "Run several experiments in a single job, leveraging parameter values to increase circuit reusability."
   ]
  },
  {
   "cell_type": "code",
   "execution_count": 7,
   "id": "ea6c113e-15db-47a1-be34-459e68d1db4e",
   "metadata": {},
   "outputs": [
    {
     "name": "stdout",
     "output_type": "stream",
     "text": [
      " >> First ten results for the meas output register: ['1010111011011000100111001100001100100001111110001100110000011010111011111111100100101110111011110101011101011100110010110001011', '0001111011001001100111110100000111010001001010000111100110111101010110111110001110101011010000000100100100010101001001001011000', '0111111001111110010011100100110110100001111000010000001100110011011000111101000111000100001110011000101101101010100110101110110', '0001010111001111111010000100000111000100001100010111101010001001001010101100001000100010111010001000101010101110101011101000101', '0001111011111011111011011110111111000001101101110001110010010110001101100111101000100010010110100011011111000100011100110010101', '1001011010001111100001000101011111000000110001011011101000101110001110101001101100000100100110010000100001010011011000000011101', '1111000011011101110010011110011111000110101101000010010111111010110110100111101010010010000010111000111011100101101010110111101', '1011101001011011111011010100111010000111100100000000010000111110110000001100101111100000010010011100000001100000011110010010101', '0011011010111011100110001000110011110001100100011001010000011011011110101110111010001010011111010100101011010010111001000001111', '1001011011110111111011111100111110000111011001001100011111010011110100011101110101101010011000000110110110000001010111010011111']\n"
     ]
    }
   ],
   "source": [
    "import numpy as np\n",
    "from qiskit.circuit.library import RealAmplitudes\n",
    "from qiskit.transpiler.preset_passmanagers import generate_preset_pass_manager\n",
    "from qiskit_ibm_runtime import QiskitRuntimeService, SamplerV2 as Sampler\n",
    "\n",
    "n_qubits = 127\n",
    "\n",
    "service = QiskitRuntimeService()\n",
    "backend = service.least_busy(\n",
    "    operational=True, simulator=False, min_num_qubits=n_qubits\n",
    ")\n",
    "\n",
    "# Step 1: Map classical inputs to a quantum problem\n",
    "circuit = RealAmplitudes(num_qubits=n_qubits, reps=2)\n",
    "circuit.measure_all()\n",
    "\n",
    "# Define three sets of parameters for the circuit\n",
    "rng = np.random.default_rng(1234)\n",
    "parameter_values = [\n",
    "    rng.uniform(-np.pi, np.pi, size=circuit.num_parameters) for _ in range(3)\n",
    "]\n",
    "\n",
    "# Step 2: Optimize problem for quantum execution.\n",
    "\n",
    "pm = generate_preset_pass_manager(backend=backend, optimization_level=1)\n",
    "isa_circuit = pm.run(circuit)\n",
    "\n",
    "# Step 3: Execute using Qiskit primitives.\n",
    "sampler = Sampler(backend)\n",
    "job = sampler.run([(isa_circuit, parameter_values)])\n",
    "result = job.result()\n",
    "# Get results for the first (and only) PUB\n",
    "pub_result = result[0]\n",
    "# Get counts from the classical register \"meas\".\n",
    "print(\n",
    "    f\" >> First ten results for the meas output register: {pub_result.data.meas.get_bitstrings()[:10]}\"\n",
    ")"
   ]
  },
  {
   "cell_type": "markdown",
   "id": "1f144ac9-5f64-4aca-8cc4-8cf9362c5666",
   "metadata": {},
   "source": [
    "### Use sessions and advanced options\n",
    "\n",
    "Explore sessions and advanced options to optimize circuit performance on QPUs."
   ]
  },
  {
   "cell_type": "code",
   "execution_count": 8,
   "id": "d6248dcb-2ba9-4a06-a9ef-727db7092093",
   "metadata": {
    "scrolled": true
   },
   "outputs": [
    {
     "name": "stdout",
     "output_type": "stream",
     "text": [
      " > The first ten measurement results of job 1: ['1001000100011011011110100110001011110011011110010000111001001100100011000100000100010101110000000100100011000010010011000100001', '0001001100011101000100101100010001110100101111000000011101011001001100110000011001000100010010001110011100100000011000100001001', '1101111010011001010001001010001010011111011010000100101010010000000000000011000001100000100010100000100000100110011100101100010', '1001001101100001010101101100101111000110000010010000000001000001000000100010001000010001100100001000101001000000010110110101001', '1111001000011101111000010010100100101000011101011010010110010101001111100010010001000000100111100100110000100000000000001001011', '0010001100110001001001101001000100101110000101000000001110000100000000110000001100000100000001111010110011000001001000001111011', '0100101000001000010110100110101010110001110011010000001010001000001100010011011100010110101101111100001010100000010100010001000', '0001110000010000001000101110100001000101010011111010011111011100000010110011100101100001100011001000110000111100000000010000010', '1011011010100001001011101001110000000011100010011010011101101101001000010010000000010100010111111100011000100100011110000110110', '1100111101111000100001001001001100000000110000001000000011100000010010110011011001100100010001010000101001000100011011010000010']\n"
     ]
    }
   ],
   "source": [
    "import numpy as np\n",
    "from qiskit.circuit.library import IQP\n",
    "from qiskit.quantum_info import random_hermitian\n",
    "from qiskit.transpiler.preset_passmanagers import generate_preset_pass_manager\n",
    "from qiskit_ibm_runtime import Session, SamplerV2 as Sampler\n",
    "from qiskit_ibm_runtime import QiskitRuntimeService\n",
    "\n",
    "n_qubits = 127\n",
    "\n",
    "service = QiskitRuntimeService()\n",
    "backend = service.least_busy(\n",
    "    operational=True, simulator=False, min_num_qubits=n_qubits\n",
    ")\n",
    "\n",
    "rng = np.random.default_rng(1234)\n",
    "mat = np.real(random_hermitian(n_qubits, seed=rng))\n",
    "circuit = IQP(mat)\n",
    "circuit.measure_all()\n",
    "mat = np.real(random_hermitian(n_qubits, seed=rng))\n",
    "another_circuit = IQP(mat)\n",
    "another_circuit.measure_all()\n",
    "\n",
    "pm = generate_preset_pass_manager(backend=backend, optimization_level=1)\n",
    "isa_circuit = pm.run(circuit)\n",
    "another_isa_circuit = pm.run(another_circuit)\n",
    "\n",
    "with Session(backend=backend) as session:\n",
    "    sampler = Sampler(mode=session)\n",
    "    job = sampler.run([isa_circuit])\n",
    "    another_job = sampler.run([another_isa_circuit])\n",
    "    result = job.result()\n",
    "    another_result = another_job.result()\n",
    "\n",
    "# first job\n",
    "\n",
    "print(\n",
    "    f\" > The first ten measurement results of job 1: {result[0].data.meas.get_bitstrings()[:10]}\"\n",
    ")"
   ]
  },
  {
   "cell_type": "code",
   "execution_count": 9,
   "id": "e81eb3e4-632a-49da-a926-6e79f8640867",
   "metadata": {},
   "outputs": [
    {
     "name": "stdout",
     "output_type": "stream",
     "text": [
      " > The first ten measurement results of job 2: ['1110111101001011110110000010010111011100101110100000011101110010000101100110000000101001011010101001011100000100100100101000101', '0001101001110010011000010000011110001111011100000010100100110100001000010100010000000010001000011010100000100100001100000000110', '1101100000010111110100011011110010010001000100000011110000111110100001100101010001100011100000101010000110000010010110101001100', '0101110101011000110100000100000100100011110110000011011101011100000001111100100001000110011000101011001000111100001100100010000', '1100010100111010101100000011011010000111101100000011100001110100100000011110011101000010100000000001111010010000001000100000110', '1001000001100011001101000100111110111111000100110011111100101010010101010101000000100010101000001011000010000100001000000010011', '0111100000001011001110100110001110010000001100001110101000010110110010110111100010101000001100010011101010110110000110001000100', '0000010000010001101001000000001001001100000000010000101101010000100110110011000100000001000101100001110111100010000010100000000', '0111101100011000111100010111000100110010100100100100100000001010001001101110001100011010111000010011010010101000000000101010101', '0110100001111101100100001000010100010000001001101011111001111000000000100010000000001000001000100001001010001100001100000001110']\n"
     ]
    }
   ],
   "source": [
    "# second job\n",
    "print(\n",
    "    \" > The first ten measurement results of job 2:\",\n",
    "    another_result[0].data.meas.get_bitstrings()[:10],\n",
    ")"
   ]
  },
  {
   "cell_type": "markdown",
   "id": "9484b7b7-e474-4291-b3ee-ace64f7cf126",
   "metadata": {},
   "source": [
    "## Next steps\n",
    "\n",
    "<Admonition type=\"tip\" title=\"Recommendations\">\n",
    "    - [Specify advanced runtime options.](runtime-options-overview)\n",
    "    - Practice with primitives by working through the [Cost function lesson](https://learning.quantum.ibm.com/course/variational-algorithm-design/cost-functions#primitives) in IBM Quantum Learning.\n",
    "    - Learn how to transpile locally in the [Transpile](./transpile/) section.\n",
    "    - Try the [Submit pre-transpiled circuits](https://learning.quantum.ibm.com/tutorial/submitting-user-transpiled-circuits-using-primitives) tutorial.\n",
    "    - Read [Migrate to V2 primitives](/migration-guides/v2-primitives).\n",
    "    - Understand the [Job limits](/guides/job-limits) when sending a job to an IBM&reg; QPU.\n",
    "</Admonition>"
   ]
  }
 ],
 "metadata": {
  "description": "Practical examples of using primitives in Qiskit Runtime.",
  "kernelspec": {
   "display_name": "Python 3",
   "language": "python",
   "name": "python3"
  },
  "language_info": {
   "codemirror_mode": {
    "name": "ipython",
    "version": 3
   },
   "file_extension": ".py",
   "mimetype": "text/x-python",
   "name": "python",
   "nbconvert_exporter": "python",
   "pygments_lexer": "ipython3",
   "version": "3"
  },
  "title": "Primitives examples"
 },
 "nbformat": 4,
 "nbformat_minor": 4
}
