{
 "cells": [
  {
   "cell_type": "markdown",
   "id": "1f4a2ec4-3595-4300-8f9e-092b0ef9b444",
   "metadata": {},
   "source": [
    "# Primitives examples"
   ]
  },
  {
   "cell_type": "markdown",
   "id": "b4121e48",
   "metadata": {
    "tags": [
     "version-info"
    ]
   },
   "source": [
    "<Admonition type=\"note\" title=\"New primitive, now in beta release\">\n",
    "The beta release of a new lower-level primitive, called Executor, is now available. The Executor primitive provides more flexibility when customizing your error mitigation workflow. See the [Executor primitive](/docs/guides/executor) guide for more information.\n",
    "</Admonition>\n",
    "\n",
    "<details>\n",
    "<summary><b>Package versions</b></summary>\n",
    "\n",
    "The code on this page was developed using the following requirements.\n",
    "We recommend using these versions or newer.\n",
    "\n",
    "```\n",
    "qiskit[all]~=2.1.1\n",
    "qiskit-ibm-runtime~=0.40.1\n",
    "```\n",
    "</details>"
   ]
  },
  {
   "cell_type": "markdown",
   "id": "bae32e60",
   "metadata": {},
   "source": [
    "The examples in this section illustrate some common ways to use primitives. Before running these examples, follow the instructions in [Install and set up.](install-qiskit)\n",
    "\n",
    "<Admonition type=\"note\">\n",
    "    These examples all use the primitives from Qiskit Runtime, but you could use the base primitives instead.\n",
    "</Admonition>\n",
    "\n",
    "## Estimator examples\n",
    "\n",
    "Efficiently calculate and interpret expectation values of the quantum operators required for many algorithms with Estimator. Explore uses in molecular modeling, machine learning, and complex optimization problems.\n",
    "\n",
    "### Run a single experiment\n",
    "\n",
    "Use Estimator to determine the expectation value of a single circuit-observable pair."
   ]
  },
  {
   "cell_type": "code",
   "execution_count": 1,
   "id": "24573866-7cf2-40e1-b61c-a2bdcecb759b",
   "metadata": {},
   "outputs": [
    {
     "name": "stdout",
     "output_type": "stream",
     "text": [
      " > Expectation value: -0.00927734375\n",
      " > Metadata: {'shots': 4096, 'target_precision': 0.015625, 'circuit_metadata': {}, 'resilience': {}, 'num_randomizations': 32}\n"
     ]
    }
   ],
   "source": [
    "import numpy as np\n",
    "from qiskit.circuit.library import iqp\n",
    "from qiskit.transpiler import generate_preset_pass_manager\n",
    "from qiskit.quantum_info import SparsePauliOp, random_hermitian\n",
    "from qiskit_ibm_runtime import QiskitRuntimeService, EstimatorV2 as Estimator\n",
    "\n",
    "n_qubits = 50\n",
    "\n",
    "service = QiskitRuntimeService()\n",
    "backend = service.least_busy(\n",
    "    operational=True, simulator=False, min_num_qubits=n_qubits\n",
    ")\n",
    "\n",
    "mat = np.real(random_hermitian(n_qubits, seed=1234))\n",
    "circuit = iqp(mat)\n",
    "observable = SparsePauliOp(\"Z\" * 50)\n",
    "\n",
    "pm = generate_preset_pass_manager(backend=backend, optimization_level=1)\n",
    "isa_circuit = pm.run(circuit)\n",
    "isa_observable = observable.apply_layout(isa_circuit.layout)\n",
    "\n",
    "estimator = Estimator(mode=backend)\n",
    "job = estimator.run([(isa_circuit, isa_observable)])\n",
    "result = job.result()\n",
    "\n",
    "print(f\" > Expectation value: {result[0].data.evs}\")\n",
    "print(f\" > Metadata: {result[0].metadata}\")"
   ]
  },
  {
   "cell_type": "markdown",
   "id": "63769604-ec9e-4ff3-823d-e60f4eb8a877",
   "metadata": {},
   "source": [
    "### Run multiple experiments in a single job\n",
    "\n",
    "Use Estimator to determine the expectation values of multiple circuit-observable pairs."
   ]
  },
  {
   "cell_type": "code",
   "execution_count": 2,
   "id": "bf4668bd-aaaf-4b23-af4b-4df767bd6d1a",
   "metadata": {},
   "outputs": [
    {
     "name": "stdout",
     "output_type": "stream",
     "text": [
      ">>> Expectation values for PUB 0: 0.555205047318612\n",
      ">>> Standard errors for PUB 0: 0.35080163752196364\n",
      ">>> Expectation values for PUB 1: -0.03125\n",
      ">>> Standard errors for PUB 1: 0.014938533731228863\n",
      ">>> Expectation values for PUB 2: 0.00830078125\n",
      ">>> Standard errors for PUB 2: 0.012844384226489189\n"
     ]
    }
   ],
   "source": [
    "import numpy as np\n",
    "from qiskit.circuit.library import iqp\n",
    "from qiskit.transpiler import generate_preset_pass_manager\n",
    "from qiskit.quantum_info import SparsePauliOp, random_hermitian\n",
    "from qiskit_ibm_runtime import QiskitRuntimeService, EstimatorV2 as Estimator\n",
    "\n",
    "n_qubits = 50\n",
    "\n",
    "service = QiskitRuntimeService()\n",
    "backend = service.least_busy(\n",
    "    operational=True, simulator=False, min_num_qubits=n_qubits\n",
    ")\n",
    "\n",
    "rng = np.random.default_rng()\n",
    "mats = [np.real(random_hermitian(n_qubits, seed=rng)) for _ in range(3)]\n",
    "\n",
    "pubs = []\n",
    "circuits = [iqp(mat) for mat in mats]\n",
    "observables = [\n",
    "    SparsePauliOp(\"X\" * 50),\n",
    "    SparsePauliOp(\"Y\" * 50),\n",
    "    SparsePauliOp(\"Z\" * 50),\n",
    "]\n",
    "\n",
    "# Get ISA circuits\n",
    "pm = generate_preset_pass_manager(optimization_level=1, backend=backend)\n",
    "\n",
    "for qc, obs in zip(circuits, observables):\n",
    "    isa_circuit = pm.run(qc)\n",
    "    isa_obs = obs.apply_layout(isa_circuit.layout)\n",
    "    pubs.append((isa_circuit, isa_obs))\n",
    "\n",
    "estimator = Estimator(backend)\n",
    "job = estimator.run(pubs)\n",
    "job_result = job.result()\n",
    "\n",
    "for idx in range(len(pubs)):\n",
    "    pub_result = job_result[idx]\n",
    "    print(f\">>> Expectation values for PUB {idx}: {pub_result.data.evs}\")\n",
    "    print(f\">>> Standard errors for PUB {idx}: {pub_result.data.stds}\")"
   ]
  },
  {
   "cell_type": "markdown",
   "id": "60bf051a-40f8-47a9-b74d-38713bc15210",
   "metadata": {},
   "source": [
    "### Run parameterized circuits\n",
    "\n",
    "Use Estimator to run three experiments in a single job, leveraging parameter values to increase circuit reusability."
   ]
  },
  {
   "cell_type": "code",
   "execution_count": 3,
   "id": "67dc98b8-499c-44d9-ada1-6abc9d6198c0",
   "metadata": {},
   "outputs": [
    {
     "name": "stdout",
     "output_type": "stream",
     "text": [
      ">>> Expectation values: [[ 1.05693147  0.99868228  0.84373945  0.64656596  0.32299173  0.02592089\n",
      "  -0.32182675 -0.62734373 -0.82276974 -0.99198363 -1.04935907 -1.01237084\n",
      "  -0.84140948 -0.59821913 -0.3075557   0.01834849  0.27988734  0.6258875\n",
      "   0.85626302  0.99780855  1.05489275]\n",
      " [ 0.06174414  0.35619377  0.61948009  0.87548526  1.01411832  1.05867894\n",
      "   0.97887756  0.83238086  0.5935592   0.29153717 -0.02446466 -0.3145456\n",
      "  -0.63578986 -0.87111657 -1.03800048 -1.06363012 -1.00305097 -0.84752565\n",
      "  -0.60491779 -0.28775098 -0.00291246]\n",
      " [ 0.0069899  -0.32182675 -0.62297504 -0.83500207 -0.99809979 -1.04207793\n",
      "  -0.97450887 -0.85742801 -0.59618041 -0.32240924 -0.00145623  0.31891429\n",
      "   0.61598514  0.83529332  1.0013035   1.03829173  0.99780855  0.85189434\n",
      "   0.60229658  0.3037695   0.00582492]\n",
      " [ 1.01732202  0.98615871  0.84286571  0.589773    0.30027455 -0.02300843\n",
      "  -0.35910623 -0.62967369 -0.86849535 -1.03392304 -1.06246514 -0.99343986\n",
      "  -0.85247683 -0.62792622 -0.30231327  0.01834849  0.32765167  0.63782858\n",
      "   0.85538929  0.98994491  1.04644661]]\n",
      ">>> Standard errors: [[0.01199362 0.01280078 0.01443276 0.01975125 0.02072258 0.01497792\n",
      "  0.01815791 0.01910384 0.01352349 0.01294982 0.0133318  0.01372632\n",
      "  0.01371835 0.01807609 0.02261308 0.01565188 0.0168866  0.01564104\n",
      "  0.01332394 0.01135376 0.01258181]\n",
      " [0.01393436 0.01567847 0.01584716 0.01229721 0.01226701 0.01229915\n",
      "  0.01338662 0.01455619 0.015278   0.01580782 0.01597277 0.01875346\n",
      "  0.01777418 0.01170346 0.0135563  0.0115341  0.01140549 0.01166157\n",
      "  0.01180226 0.01319664 0.01662624]\n",
      " [0.01742133 0.01778504 0.01376775 0.01380125 0.01197225 0.01182091\n",
      "  0.01094817 0.0152124  0.01895591 0.01575121 0.0175165  0.01555843\n",
      "  0.01407541 0.01458703 0.01255585 0.0110058  0.01145048 0.015131\n",
      "  0.01493793 0.01721593 0.01904827]\n",
      " [0.0109324  0.01155969 0.01280829 0.01501698 0.01792296 0.01569268\n",
      "  0.01295725 0.01376178 0.01353845 0.01017891 0.01309591 0.01299565\n",
      "  0.01465442 0.01359662 0.01538083 0.01764889 0.01522512 0.01328569\n",
      "  0.01380041 0.01162053 0.01117273]]\n",
      ">>> Metadata: {'shots': 10016, 'target_precision': 0.01, 'circuit_metadata': {}, 'resilience': {}, 'num_randomizations': 32}\n"
     ]
    }
   ],
   "source": [
    "import numpy as np\n",
    "\n",
    "from qiskit.circuit import QuantumCircuit, Parameter\n",
    "from qiskit.quantum_info import SparsePauliOp\n",
    "from qiskit.transpiler import generate_preset_pass_manager\n",
    "from qiskit_ibm_runtime import QiskitRuntimeService, EstimatorV2 as Estimator\n",
    "\n",
    "service = QiskitRuntimeService()\n",
    "backend = service.least_busy(operational=True, simulator=False)\n",
    "\n",
    "# Step 1: Map classical inputs to a quantum problem\n",
    "theta = Parameter(\"θ\")\n",
    "\n",
    "chsh_circuit = QuantumCircuit(2)\n",
    "chsh_circuit.h(0)\n",
    "chsh_circuit.cx(0, 1)\n",
    "chsh_circuit.ry(theta, 0)\n",
    "\n",
    "number_of_phases = 21\n",
    "phases = np.linspace(0, 2 * np.pi, number_of_phases)\n",
    "individual_phases = [[ph] for ph in phases]\n",
    "\n",
    "ZZ = SparsePauliOp.from_list([(\"ZZ\", 1)])\n",
    "ZX = SparsePauliOp.from_list([(\"ZX\", 1)])\n",
    "XZ = SparsePauliOp.from_list([(\"XZ\", 1)])\n",
    "XX = SparsePauliOp.from_list([(\"XX\", 1)])\n",
    "ops = [ZZ, ZX, XZ, XX]\n",
    "\n",
    "# Step 2: Optimize problem for quantum execution.\n",
    "\n",
    "pm = generate_preset_pass_manager(backend=backend, optimization_level=1)\n",
    "chsh_isa_circuit = pm.run(chsh_circuit)\n",
    "isa_observables = [\n",
    "    operator.apply_layout(chsh_isa_circuit.layout) for operator in ops\n",
    "]\n",
    "\n",
    "# Step 3: Execute using Qiskit primitives.\n",
    "\n",
    "# Reshape observable array for broadcasting\n",
    "reshaped_ops = np.fromiter(isa_observables, dtype=object)\n",
    "reshaped_ops = reshaped_ops.reshape((4, 1))\n",
    "\n",
    "estimator = Estimator(backend, options={\"default_shots\": int(1e4)})\n",
    "job = estimator.run([(chsh_isa_circuit, reshaped_ops, individual_phases)])\n",
    "# Get results for the first (and only) PUB\n",
    "pub_result = job.result()[0]\n",
    "print(f\">>> Expectation values: {pub_result.data.evs}\")\n",
    "print(f\">>> Standard errors: {pub_result.data.stds}\")\n",
    "print(f\">>> Metadata: {pub_result.metadata}\")"
   ]
  },
  {
   "cell_type": "markdown",
   "id": "793f0ed1-5682-4aa3-a4a0-7baba71650f9",
   "metadata": {},
   "source": [
    "### Use sessions and advanced options\n",
    "\n",
    "Explore sessions and advanced options to optimize circuit performance on QPUs.\n",
    "\n",
    "\n",
    "<Admonition type=\"caution\">\n",
    "The following code block will return an error for Open Plan users because it uses sessions. Open Plan workloads can run only in [job mode](/docs/guides/execution-modes#job-mode) or [batch mode](/docs/guides/execution-modes#batch-mode).\n",
    "</Admonition>"
   ]
  },
  {
   "cell_type": "code",
   "execution_count": 4,
   "id": "d007b547-8546-4ca3-aee6-9a4e3a82598d",
   "metadata": {},
   "outputs": [
    {
     "name": "stdout",
     "output_type": "stream",
     "text": [
      " > Expectation value: -0.01953125\n",
      " > Metadata: {'shots': 4096, 'target_precision': 0.015625, 'circuit_metadata': {}, 'resilience': {}, 'num_randomizations': 32}\n",
      " > Another Expectation value: 0.5092838196286472\n",
      " > More Metadata: {'shots': 4096, 'target_precision': 0.015625, 'circuit_metadata': {}, 'resilience': {}, 'num_randomizations': 32}\n"
     ]
    }
   ],
   "source": [
    "import numpy as np\n",
    "from qiskit.circuit.library import iqp\n",
    "from qiskit.transpiler import generate_preset_pass_manager\n",
    "from qiskit.quantum_info import SparsePauliOp, random_hermitian\n",
    "from qiskit_ibm_runtime import (\n",
    "    QiskitRuntimeService,\n",
    "    Session,\n",
    "    EstimatorV2 as Estimator,\n",
    ")\n",
    "\n",
    "n_qubits = 50\n",
    "\n",
    "service = QiskitRuntimeService()\n",
    "backend = service.least_busy(\n",
    "    operational=True, simulator=False, min_num_qubits=n_qubits\n",
    ")\n",
    "\n",
    "rng = np.random.default_rng(1234)\n",
    "mat = np.real(random_hermitian(n_qubits, seed=rng))\n",
    "circuit = iqp(mat)\n",
    "mat = np.real(random_hermitian(n_qubits, seed=rng))\n",
    "another_circuit = iqp(mat)\n",
    "observable = SparsePauliOp(\"X\" * 50)\n",
    "another_observable = SparsePauliOp(\"Y\" * 50)\n",
    "\n",
    "pm = generate_preset_pass_manager(optimization_level=1, backend=backend)\n",
    "isa_circuit = pm.run(circuit)\n",
    "another_isa_circuit = pm.run(another_circuit)\n",
    "isa_observable = observable.apply_layout(isa_circuit.layout)\n",
    "another_isa_observable = another_observable.apply_layout(\n",
    "    another_isa_circuit.layout\n",
    ")\n",
    "\n",
    "with Session(backend=backend) as session:\n",
    "    estimator = Estimator(mode=session)\n",
    "\n",
    "    estimator.options.resilience_level = 1\n",
    "\n",
    "    job = estimator.run([(isa_circuit, isa_observable)])\n",
    "    another_job = estimator.run(\n",
    "        [(another_isa_circuit, another_isa_observable)]\n",
    "    )\n",
    "    result = job.result()\n",
    "    another_result = another_job.result()\n",
    "\n",
    "    # first job\n",
    "    print(f\" > Expectation value: {result[0].data.evs}\")\n",
    "    print(f\" > Metadata: {result[0].metadata}\")\n",
    "\n",
    "    # second job\n",
    "    print(f\" > Another Expectation value: {another_result[0].data.evs}\")\n",
    "    print(f\" > More Metadata: {another_result[0].metadata}\")"
   ]
  },
  {
   "cell_type": "markdown",
   "id": "12aea3c7-37a1-4a6b-b944-587669aa6611",
   "metadata": {},
   "source": [
    "<span id=\"sampler-examples\"></span>\n",
    "## Sampler examples\n",
    "\n",
    "Generate entire error-mitigated quasi-probability distributions sampled from quantum circuit outputs. Leverage Sampler’s capabilities for search and classification algorithms like Grover’s and QVSM.\n",
    "\n",
    "### Run a single experiment\n",
    "\n",
    "Use Sampler to return the measurement outcome as bitstrings or counts of a single circuit."
   ]
  },
  {
   "cell_type": "code",
   "execution_count": 5,
   "id": "a5a561b3-3819-4f9e-bb64-4c27267e0e96",
   "metadata": {
    "scrolled": true
   },
   "outputs": [
    {
     "name": "stdout",
     "output_type": "stream",
     "text": [
      " > First ten results: ['1000000110001110101110110110000100100001011101110000000110001110110101000110110110100111000100100001000000000100100000010000100', '0010111011101101010000000101101000000001000001100011010101101000100110010000110011001001000100101000000000001000000100000011000', '1011001011001100011010010101000001100001000110101001101011000111000000000011000000000110101110011001001000000010101011101101000', '1010010010110100101101000100100110111000100101001110100100000001000111000010000001101111100010110010001100111101011110110001001', '0001111000011111100011000101010011001100100110101000000110000001000110010001000011111011110001101000111001011001000001001000000', '1111111010111000001110110100100101110101000100010100101010000100101001000100111000111001010101111011000001100010010010001011000', '0101111100101100011111000111110010011111000001111100001111000100100100000011011010001000011000101001110100100010001111110100001', '1001111101000111001000001010000101001100110100100010101011100010110101011010011000111000000001001011000010000010101110100001000', '1111100110101111001010101100000001010111000111001100111000100011110100000011101110100001001010010001100111100000011000000010001', '0110001011001100011010100111001000000100011111111000000001001000100111110000101011000001111010110000111101001010111010000110000']\n"
     ]
    }
   ],
   "source": [
    "import numpy as np\n",
    "from qiskit.circuit.library import iqp\n",
    "from qiskit.transpiler import generate_preset_pass_manager\n",
    "from qiskit.quantum_info import random_hermitian\n",
    "from qiskit_ibm_runtime import QiskitRuntimeService, SamplerV2 as Sampler\n",
    "\n",
    "n_qubits = 127\n",
    "\n",
    "service = QiskitRuntimeService()\n",
    "backend = service.least_busy(\n",
    "    operational=True, simulator=False, min_num_qubits=n_qubits\n",
    ")\n",
    "\n",
    "mat = np.real(random_hermitian(n_qubits, seed=1234))\n",
    "circuit = iqp(mat)\n",
    "circuit.measure_all()\n",
    "\n",
    "pm = generate_preset_pass_manager(backend=backend, optimization_level=1)\n",
    "isa_circuit = pm.run(circuit)\n",
    "\n",
    "sampler = Sampler(backend)\n",
    "job = sampler.run([isa_circuit])\n",
    "result = job.result()\n",
    "\n",
    "# Get results for the first (and only) PUB\n",
    "pub_result = result[0]\n",
    "\n",
    "print(f\" > First ten results: {pub_result.data.meas.get_bitstrings()[:10]}\")"
   ]
  },
  {
   "cell_type": "markdown",
   "id": "c9ea6d3c-b03f-49e2-a8de-d32e58396e02",
   "metadata": {},
   "source": [
    "### Run multiple experiments in a single job\n",
    "\n",
    "Use Sampler to return the measurement outcome as bitstrings or counts of multiple circuits in one job."
   ]
  },
  {
   "cell_type": "code",
   "execution_count": 6,
   "id": "e4534da8-9fe3-402b-8afc-f4bd9fbed497",
   "metadata": {},
   "outputs": [
    {
     "name": "stdout",
     "output_type": "stream",
     "text": [
      " > First ten results for pub 0: ['0010001100100111011101001110011000011101110001011011000100111010110101010110000010011000110000000100010100110100101011110001000', '0100010100010111000110111101000100101000000010011001001110101001100001000111010100100101010010001001011010101010100100110100010', '1110111111001110100000110110101001001001101101001111101010000010000000100100000101010011010111000100000101110110011000011111011', '0110111101110110010100001000100001011011011010010001111111010011010011001101000000101110111001000000001000000001000000000010000', '1000110000110110010001101100100110010101010111001000101101000010101110011100100000100111110100010000001000100110110011010011010', '0000000000011000001011101111100001100010000010100110011111001100000111101111000001001000011010000010000000010101110110101011010', '0000001000111111000001100000011001011101100000110111011011010001100100011011010101110010101000000110000100000100001000000100101', '0110101010101010110101001010100100101011110000110110100011000111000100010001010010000000111011110110001000000100010100000100001', '1010010110001100001000011001110100110101101011110001001110101001111101000111010000110101100110100100001100100110000111000010011', '0010010011011011101011011100100000001100001111100011011010110000010010100000001111101011010000111101100000000100110101011100101']\n",
      " > First ten results for pub 1: ['0101011110100001110000111100011000010011011000011011101001011100001111000000101000101000000100100011111101111000101001010100010', '1001101100001000011101000000100010000010000001000001001100110000001101100101010100001100001010001000000100011000000010000000011', '1011010110010001100110000110110110111100011001110111101100100101001000010000010010001000100010010010000101100011000100110000001', '0000011000111000001000111000000101111101011011010010010101100011000101100011010000111011110111000010000100000010001000001100010', '1000011101110000000000101000110111110000101001000010000000000111011000000100000101100000111101010010001100010010010010110000010', '0010100010001000011010101110011100111111111001000010111010110000101011000001011100100001111000100000001000010101110100000000101', '1011101001101000010011010000011000111000100101000100100010001010000100100011110111111000111000010001101011000001010000100001001', '1100100100100000100011010001001000101110010001100100010000010010000101000010011100001101000011000011000010001000000000100010000', '0000000000101010111100010010111010101001001000100110111010000100001100000010010000001000010100010010000000110001000100110000000', '0001001011110011000110000010110110000010110000000000111110000101010100100001010000000101000010000001001101000100101000000010011']\n",
      " > First ten results for pub 2: ['0101101000011011000101100110010101100100001101101110001100001100101100001111111010100001011100000000000000000110001000011000001', '1111001100111110001010010010100010111111100000000000100111101101011110000010011001001011110001000000111000110100100000000111000', '0010110100000101110101011000000010001001010011010010001101100011010001001010011101011011000000101000010011100011101010101001011', '1111001111011111011010011000000000110111101101101011110010011001100001100000001001110011000001001000010101111000101001001111000', '0111110110001011110000000000101110001100100010100010110100111001001100000010011001010011001011001010000110010111111000100101001', '0011011010001001001100001000010001000000011001100000100110000100000110100101001000010000000000001000000100000001100000110111000', '0010110110110010101010000010110111001000000001011101110000100101010011000100000011000001001000001010100000000000011011100010100', '1100001000100001111000001001010100011000100011101110001000101100010110011101000001000100010000000010010100000001011000000100100', '1010010110001110010001000101110010000011000110001011101100011000000000100110101101000111100011101011001100000011001000100000100', '0110010101001110110110001110001011000100001100100101010000101001000010111100000010100001000000111100000010100010100000100101001']\n"
     ]
    }
   ],
   "source": [
    "import numpy as np\n",
    "from qiskit.circuit.library import iqp\n",
    "from qiskit.transpiler import generate_preset_pass_manager\n",
    "from qiskit.quantum_info import random_hermitian\n",
    "from qiskit_ibm_runtime import QiskitRuntimeService, SamplerV2 as Sampler\n",
    "\n",
    "n_qubits = 127\n",
    "\n",
    "service = QiskitRuntimeService()\n",
    "backend = service.least_busy(\n",
    "    operational=True, simulator=False, min_num_qubits=n_qubits\n",
    ")\n",
    "\n",
    "rng = np.random.default_rng()\n",
    "mats = [np.real(random_hermitian(n_qubits, seed=rng)) for _ in range(3)]\n",
    "circuits = [iqp(mat) for mat in mats]\n",
    "for circuit in circuits:\n",
    "    circuit.measure_all()\n",
    "\n",
    "pm = generate_preset_pass_manager(backend=backend, optimization_level=1)\n",
    "isa_circuits = pm.run(circuits)\n",
    "\n",
    "sampler = Sampler(mode=backend)\n",
    "job = sampler.run(isa_circuits)\n",
    "result = job.result()\n",
    "\n",
    "for idx, pub_result in enumerate(result):\n",
    "    print(\n",
    "        f\" > First ten results for pub {idx}: {pub_result.data.meas.get_bitstrings()[:10]}\"\n",
    "    )"
   ]
  },
  {
   "cell_type": "markdown",
   "id": "e3ce4f13-b772-4ee6-ba9d-d98da633ab5c",
   "metadata": {},
   "source": [
    "### Run parameterized circuits\n",
    "\n",
    "Run several experiments in a single job, leveraging parameter values to increase circuit reusability."
   ]
  },
  {
   "cell_type": "code",
   "execution_count": 7,
   "id": "c63c9cb6-0650-433c-b3d6-dcde06e465e4",
   "metadata": {},
   "outputs": [
    {
     "name": "stdout",
     "output_type": "stream",
     "text": [
      " >> First ten results for the meas output register: ['1001001111110110010110100011011010111110000000010001111011011101111101101100010001000100000000000000010110011000001110001111010', '0010100000010011001001100111001111101101011100111000000100011100000101011111010111000010101001000111110100010111111001010001010', '0100000101100110101110011011001001101100101101000011001100010101001001000011001110000001001001101110100101101001000011001001000', '0000100101001001100110100110110000010000101000101011000000011001111001011101011110001100011000110010011000110011010001011110001', '0010001100111110000100100100011010101000000100000010000100111000001001001000110110001110001110000000110011111110111001001010111', '0001101010011101001010010010110101111010000111110011010011111100000001011100001110000101010000100111111011101000011110010000110', '0001010011001111000010010100001111000110010000010011011010110000111101001101001111001000011010010010011110100011111010111001100', '0000101100001111101000000111100010011100110000100011011001010111011010011001111101000010110000011000000101101011111110010110101', '1001001011111100011111110011010100111010001001010100111000000101110010010110010111010011101000111010110111111000010011000001100', '1010000001001010100011010111000011101010011110011001110111101000000111001101100101001000011100101010000110111101111000010001001']\n"
     ]
    }
   ],
   "source": [
    "import numpy as np\n",
    "from qiskit.circuit.library import real_amplitudes\n",
    "from qiskit.transpiler import generate_preset_pass_manager\n",
    "from qiskit_ibm_runtime import QiskitRuntimeService, SamplerV2 as Sampler\n",
    "\n",
    "n_qubits = 127\n",
    "\n",
    "service = QiskitRuntimeService()\n",
    "backend = service.least_busy(\n",
    "    operational=True, simulator=False, min_num_qubits=n_qubits\n",
    ")\n",
    "\n",
    "# Step 1: Map classical inputs to a quantum problem\n",
    "circuit = real_amplitudes(num_qubits=n_qubits, reps=2)\n",
    "circuit.measure_all()\n",
    "\n",
    "# Define three sets of parameters for the circuit\n",
    "rng = np.random.default_rng(1234)\n",
    "parameter_values = [\n",
    "    rng.uniform(-np.pi, np.pi, size=circuit.num_parameters) for _ in range(3)\n",
    "]\n",
    "\n",
    "# Step 2: Optimize problem for quantum execution.\n",
    "\n",
    "pm = generate_preset_pass_manager(backend=backend, optimization_level=1)\n",
    "isa_circuit = pm.run(circuit)\n",
    "\n",
    "# Step 3: Execute using Qiskit primitives.\n",
    "sampler = Sampler(backend)\n",
    "job = sampler.run([(isa_circuit, parameter_values)])\n",
    "result = job.result()\n",
    "# Get results for the first (and only) PUB\n",
    "pub_result = result[0]\n",
    "# Get counts from the classical register \"meas\".\n",
    "print(\n",
    "    f\" >> First ten results for the meas output register: {pub_result.data.meas.get_bitstrings()[:10]}\"\n",
    ")"
   ]
  },
  {
   "cell_type": "markdown",
   "id": "a8b00d2a-3c5d-4670-9774-d39cdb262552",
   "metadata": {},
   "source": [
    "### Use sessions and advanced options\n",
    "\n",
    "Explore sessions and advanced options to optimize circuit performance on QPUs.\n",
    "\n",
    "\n",
    "<Admonition type=\"caution\">\n",
    "The following code block will return an error for users on the Open Plan, because it uses sessions. Workloads on the Open Plan can run only in [job mode](/docs/guides/execution-modes#job-mode) or [batch mode](/docs/guides/execution-modes#batch-mode).\n",
    "</Admonition>"
   ]
  },
  {
   "cell_type": "code",
   "execution_count": 8,
   "id": "881fdac4-973b-4cef-a3da-c011d326ff54",
   "metadata": {
    "scrolled": true
   },
   "outputs": [
    {
     "name": "stdout",
     "output_type": "stream",
     "text": [
      " > The first ten measurement results of job 1: ['1100111011100000011001111100011001101011101100010101011101010100000100100001110100111011110010100101010101100011000110111100101', '0010101000100100001101111001110010011011011011110000110001000011010010001000000100000110010000010100011100100000001000101100011', '1001100101100001001100110000111000001101010000110010000001000000010111000010110001001001010011110110100100100001110111100110000', '1000110110010100101011101100010111000101110010000000010001000100011111111001001001111010010100010100101000000001111100011000000', '1110010011011101100110001001110001100000001010100110001101000000011000100000001011010001100110110110001001001101000011101100000', '0001100001010001010100110000110000101110110011011000010000000100010101000111010001000001110110100001001000001010100010100000000', '0101011101110100110010010001110010110001110101100010010000100011001010001001101011010000000100111010011011001011010100011110011', '1011010001010000111100111001101100010000101110100100001000101011010110001010111101000100100000000111011010101101111011000101001', '0111000011110101000100111010110110000010110010100110111100011010100110001001000001001100001000101100000011010010010111000100010', '1111010011000101001000101100010010001101110001101010000011110010011111000101000100110100100010001000110010100010001100100010010']\n"
     ]
    }
   ],
   "source": [
    "import numpy as np\n",
    "from qiskit.circuit.library import iqp\n",
    "from qiskit.quantum_info import random_hermitian\n",
    "from qiskit.transpiler import generate_preset_pass_manager\n",
    "from qiskit_ibm_runtime import Session, SamplerV2 as Sampler\n",
    "from qiskit_ibm_runtime import QiskitRuntimeService\n",
    "\n",
    "n_qubits = 127\n",
    "\n",
    "service = QiskitRuntimeService()\n",
    "backend = service.least_busy(\n",
    "    operational=True, simulator=False, min_num_qubits=n_qubits\n",
    ")\n",
    "\n",
    "rng = np.random.default_rng(1234)\n",
    "mat = np.real(random_hermitian(n_qubits, seed=rng))\n",
    "circuit = iqp(mat)\n",
    "circuit.measure_all()\n",
    "mat = np.real(random_hermitian(n_qubits, seed=rng))\n",
    "another_circuit = iqp(mat)\n",
    "another_circuit.measure_all()\n",
    "\n",
    "pm = generate_preset_pass_manager(backend=backend, optimization_level=1)\n",
    "isa_circuit = pm.run(circuit)\n",
    "another_isa_circuit = pm.run(another_circuit)\n",
    "\n",
    "with Session(backend=backend) as session:\n",
    "    sampler = Sampler(mode=session)\n",
    "    job = sampler.run([isa_circuit])\n",
    "    another_job = sampler.run([another_isa_circuit])\n",
    "    result = job.result()\n",
    "    another_result = another_job.result()\n",
    "\n",
    "# first job\n",
    "\n",
    "print(\n",
    "    f\" > The first ten measurement results of job 1: {result[0].data.meas.get_bitstrings()[:10]}\"\n",
    ")"
   ]
  },
  {
   "cell_type": "code",
   "execution_count": 9,
   "id": "40fe2a06-edfc-41a8-9054-7f31ab93a00c",
   "metadata": {},
   "outputs": [
    {
     "name": "stdout",
     "output_type": "stream",
     "text": [
      " > The first ten measurement results of job 2: ['0000000001110000001010110000010110001100001100111100110010100110000001110100000100000001000101000010110011001100000110011101100', '0101011010110011000101010011101100100001111100010001100001110000000101110010001000001101000001110010001111000110000001101011001', '0101110000001000001100011100000000000001110001000001000101110100101111010000010100100000110001000011100100011011101010101000000', '1100100101000011101001101111111010001100011010011000000001000110011000101111101101000001000110000010101100000110100011001001000', '0001101010110110011001101011100001001111000001100010111100110111100010000011100000011010110100101001000001010100011000000101100', '1111100011110100010010000100111000011001100010000011100110010000000011001110000100100101011100001001010011000110001000100000000', '1011010001110001110110101100001110011000001001000001010100010011001100000100110100000010011100010000110100110100000000000101000', '0011010000100000000011100110011001010100000100001011100011010000010110010011000101011111111000000001000001001111100001001100011', '0011000011010101011010101111001110100001011000000010111000000000000010011001011010101000000001000011001101000010101000000011000', '0010000111111000110110000101011110001101011100001001001001000100110010100001001101000010100000010111100100100100000001000100010']\n"
     ]
    }
   ],
   "source": [
    "# second job\n",
    "print(\n",
    "    \" > The first ten measurement results of job 2:\",\n",
    "    another_result[0].data.meas.get_bitstrings()[:10],\n",
    ")"
   ]
  },
  {
   "cell_type": "markdown",
   "id": "551e1894-a12a-4f6c-8347-020fdc9db74e",
   "metadata": {},
   "source": [
    "## Next steps\n",
    "\n",
    "<Admonition type=\"tip\" title=\"Recommendations\">\n",
    "    - [Specify advanced runtime options.](runtime-options-overview)\n",
    "    - Practice with primitives by working through the [Cost function lesson](/learning/courses/variational-algorithm-design/cost-functions) in IBM Quantum Learning.\n",
    "    - Learn how to transpile locally in the [Transpile](./transpile/) section.\n",
    "    - Try the [Compare transpiler settings](/docs/tutorials/circuit-transpilation-settings) tutorial.\n",
    "    - Read [Migrate to V2 primitives](/docs/migration-guides/v2-primitives).\n",
    "    - Understand the [Job limits](/docs/guides/job-limits) when sending a job to an IBM&reg; QPU.\n",
    "</Admonition>"
   ]
  }
 ],
 "metadata": {
  "description": "Practical examples of using primitives in Qiskit Runtime.",
  "kernelspec": {
   "display_name": "Python 3",
   "language": "python",
   "name": "python3"
  },
  "language_info": {
   "codemirror_mode": {
    "name": "ipython",
    "version": 3
   },
   "file_extension": ".py",
   "mimetype": "text/x-python",
   "name": "python",
   "nbconvert_exporter": "python",
   "pygments_lexer": "ipython3",
   "version": "3"
  },
  "title": "Primitives examples"
 },
 "nbformat": 4,
 "nbformat_minor": 4
}
