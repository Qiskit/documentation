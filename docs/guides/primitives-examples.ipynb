{
 "cells": [
  {
   "cell_type": "markdown",
   "id": "1f4a2ec4-3595-4300-8f9e-092b0ef9b444",
   "metadata": {},
   "source": [
    "# Primitives examples"
   ]
  },
  {
   "cell_type": "markdown",
   "id": "b4121e48",
   "metadata": {
    "tags": [
     "version-info"
    ]
   },
   "source": [
    "<details>\n",
    "<summary><b>Package versions</b></summary>\n",
    "\n",
    "The code on this page was developed using the following requirements.\n",
    "We recommend using these versions or newer.\n",
    "\n",
    "```\n",
    "qiskit[all]~=2.1.2\n",
    "qiskit-ibm-runtime~=0.40.1\n",
    "```\n",
    "</details>"
   ]
  },
  {
   "cell_type": "markdown",
   "id": "bae32e60",
   "metadata": {},
   "source": [
    "The examples in this section illustrate some common ways to use primitives. Before running these examples, follow the instructions in [Install and set up.](install-qiskit)\n",
    "\n",
    "<Admonition type=\"note\">\n",
    "    These examples all use the primitives from Qiskit Runtime, but you could use the base primitives instead.\n",
    "</Admonition>\n",
    "\n",
    "## Estimator examples\n",
    "\n",
    "Efficiently calculate and interpret expectation values of the quantum operators required for many algorithms with Estimator. Explore uses in molecular modeling, machine learning, and complex optimization problems.\n",
    "\n",
    "### Run a single experiment\n",
    "\n",
    "Use Estimator to determine the expectation value of a single circuit-observable pair."
   ]
  },
  {
   "cell_type": "code",
   "execution_count": 1,
   "id": "24573866-7cf2-40e1-b61c-a2bdcecb759b",
   "metadata": {},
   "outputs": [
    {
     "name": "stdout",
     "output_type": "stream",
     "text": [
      " > Expectation value: 0.03018867924528302\n",
      " > Metadata: {'shots': 4096, 'target_precision': 0.015625, 'circuit_metadata': {}, 'resilience': {}, 'num_randomizations': 32}\n"
     ]
    }
   ],
   "source": [
    "import numpy as np\n",
    "from qiskit.circuit.library import iqp\n",
    "from qiskit.transpiler import generate_preset_pass_manager\n",
    "from qiskit.quantum_info import SparsePauliOp, random_hermitian\n",
    "from qiskit_ibm_runtime import QiskitRuntimeService, EstimatorV2 as Estimator\n",
    "\n",
    "n_qubits = 50\n",
    "\n",
    "service = QiskitRuntimeService()\n",
    "backend = service.least_busy(\n",
    "    operational=True, simulator=False, min_num_qubits=n_qubits\n",
    ")\n",
    "\n",
    "mat = np.real(random_hermitian(n_qubits, seed=1234))\n",
    "circuit = iqp(mat)\n",
    "observable = SparsePauliOp(\"Z\" * 50)\n",
    "\n",
    "pm = generate_preset_pass_manager(backend=backend, optimization_level=1)\n",
    "isa_circuit = pm.run(circuit)\n",
    "isa_observable = observable.apply_layout(isa_circuit.layout)\n",
    "\n",
    "estimator = Estimator(mode=backend)\n",
    "job = estimator.run([(isa_circuit, isa_observable)])\n",
    "result = job.result()\n",
    "\n",
    "print(f\" > Expectation value: {result[0].data.evs}\")\n",
    "print(f\" > Metadata: {result[0].metadata}\")"
   ]
  },
  {
   "cell_type": "markdown",
   "id": "63769604-ec9e-4ff3-823d-e60f4eb8a877",
   "metadata": {},
   "source": [
    "### Run multiple experiments in a single job\n",
    "\n",
    "Use Estimator to determine the expectation values of multiple circuit-observable pairs."
   ]
  },
  {
   "cell_type": "code",
   "execution_count": 2,
   "id": "bf4668bd-aaaf-4b23-af4b-4df767bd6d1a",
   "metadata": {},
   "outputs": [
    {
     "name": "stdout",
     "output_type": "stream",
     "text": [
      ">>> Expectation values for PUB 0: -0.05126953125\n",
      ">>> Standard errors for PUB 0: 0.01297826165380622\n",
      ">>> Expectation values for PUB 1: -1.1082251082251082\n",
      ">>> Standard errors for PUB 1: 0.9948341146861335\n",
      ">>> Expectation values for PUB 2: -0.00732421875\n",
      ">>> Standard errors for PUB 2: 0.014083920165632261\n"
     ]
    }
   ],
   "source": [
    "import numpy as np\n",
    "from qiskit.circuit.library import iqp\n",
    "from qiskit.transpiler import generate_preset_pass_manager\n",
    "from qiskit.quantum_info import SparsePauliOp, random_hermitian\n",
    "from qiskit_ibm_runtime import QiskitRuntimeService, EstimatorV2 as Estimator\n",
    "\n",
    "n_qubits = 50\n",
    "\n",
    "service = QiskitRuntimeService()\n",
    "backend = service.least_busy(\n",
    "    operational=True, simulator=False, min_num_qubits=n_qubits\n",
    ")\n",
    "\n",
    "rng = np.random.default_rng()\n",
    "mats = [np.real(random_hermitian(n_qubits, seed=rng)) for _ in range(3)]\n",
    "\n",
    "pubs = []\n",
    "circuits = [iqp(mat) for mat in mats]\n",
    "observables = [\n",
    "    SparsePauliOp(\"X\" * 50),\n",
    "    SparsePauliOp(\"Y\" * 50),\n",
    "    SparsePauliOp(\"Z\" * 50),\n",
    "]\n",
    "\n",
    "# Get ISA circuits\n",
    "pm = generate_preset_pass_manager(optimization_level=1, backend=backend)\n",
    "\n",
    "for qc, obs in zip(circuits, observables):\n",
    "    isa_circuit = pm.run(qc)\n",
    "    isa_obs = obs.apply_layout(isa_circuit.layout)\n",
    "    pubs.append((isa_circuit, isa_obs))\n",
    "\n",
    "estimator = Estimator(backend)\n",
    "job = estimator.run(pubs)\n",
    "job_result = job.result()\n",
    "\n",
    "for idx in range(len(pubs)):\n",
    "    pub_result = job_result[idx]\n",
    "    print(f\">>> Expectation values for PUB {idx}: {pub_result.data.evs}\")\n",
    "    print(f\">>> Standard errors for PUB {idx}: {pub_result.data.stds}\")"
   ]
  },
  {
   "cell_type": "markdown",
   "id": "60bf051a-40f8-47a9-b74d-38713bc15210",
   "metadata": {},
   "source": [
    "### Run parameterized circuits\n",
    "\n",
    "Use Estimator to run three experiments in a single job, leveraging parameter values to increase circuit reusability."
   ]
  },
  {
   "cell_type": "code",
   "execution_count": 3,
   "id": "67dc98b8-499c-44d9-ada1-6abc9d6198c0",
   "metadata": {},
   "outputs": [
    {
     "name": "stdout",
     "output_type": "stream",
     "text": [
      ">>> Expectation values: [[ 1.02978188  1.01929225  0.84876085  0.62578131  0.33716665 -0.00239763\n",
      "  -0.32517851 -0.63237479 -0.87333656 -1.00760381 -1.05645551 -1.00940203\n",
      "  -0.85895078 -0.61858842 -0.30809539  0.01288726  0.34765628  0.62817894\n",
      "   0.88112885  1.01719433  1.08642588]\n",
      " [ 0.01798222  0.37133287  0.62698012  0.87423567  1.01030114  1.0636484\n",
      "   1.01779374  0.85625345  0.58502161  0.30090251 -0.02307718 -0.35874532\n",
      "  -0.62787923 -0.860749   -1.01749403 -1.06934277 -1.00400737 -0.84396559\n",
      "  -0.61469227 -0.28202117  0.05244815]\n",
      " [-0.00509496 -0.31588769 -0.63207509 -0.84366589 -0.98692426 -1.05765433\n",
      "  -0.98332781 -0.83887063 -0.60630057 -0.35035362 -0.01138874  0.3086948\n",
      "   0.60300383  0.81309611  0.97103996  1.04326855  0.98752366  0.82058871\n",
      "   0.6167902   0.32427939 -0.01078933]\n",
      " [ 1.03667507  0.96864233  0.81249671  0.56374264  0.28262058 -0.02577452\n",
      "  -0.34016369 -0.62458249 -0.88742263 -0.99531596 -1.03427744 -0.98512603\n",
      "  -0.83797152 -0.60540146 -0.30539806 -0.00239763  0.34495895  0.61798901\n",
      "   0.84786174  1.006405    1.03517655]]\n",
      ">>> Standard errors: [[0.01426305 0.01355535 0.01643355 0.01740522 0.01560074 0.02040628\n",
      "  0.01704554 0.01974427 0.01506442 0.01450393 0.01273745 0.01347557\n",
      "  0.01223988 0.01502968 0.01532275 0.01584832 0.01778999 0.0152877\n",
      "  0.01617276 0.01248101 0.01156035]\n",
      " [0.01389552 0.01568272 0.01599086 0.0138271  0.01180186 0.01117076\n",
      "  0.01345135 0.01652867 0.01765372 0.01557317 0.01950365 0.01984278\n",
      "  0.01604679 0.01279051 0.01256745 0.01459869 0.01380564 0.01261309\n",
      "  0.01489663 0.01610213 0.01333644]\n",
      " [0.017601   0.01963081 0.01750579 0.01185599 0.01419814 0.01289628\n",
      "  0.01219069 0.0148542  0.01638513 0.01806995 0.01814861 0.01764294\n",
      "  0.01578578 0.0136944  0.0148628  0.01288979 0.01473446 0.01729079\n",
      "  0.01812352 0.01704266 0.01816004]\n",
      " [0.01127435 0.01506694 0.01430578 0.01760293 0.01463636 0.01571419\n",
      "  0.01580839 0.00983804 0.01250938 0.01342364 0.01372933 0.01451175\n",
      "  0.01214586 0.01340817 0.01688722 0.01182217 0.01489686 0.01459784\n",
      "  0.01419308 0.0136389  0.01256604]]\n",
      ">>> Metadata: {'shots': 10016, 'target_precision': 0.01, 'circuit_metadata': {}, 'resilience': {}, 'num_randomizations': 32}\n"
     ]
    }
   ],
   "source": [
    "import numpy as np\n",
    "\n",
    "from qiskit.circuit import QuantumCircuit, Parameter\n",
    "from qiskit.quantum_info import SparsePauliOp\n",
    "from qiskit.transpiler import generate_preset_pass_manager\n",
    "from qiskit_ibm_runtime import QiskitRuntimeService, EstimatorV2 as Estimator\n",
    "\n",
    "service = QiskitRuntimeService()\n",
    "backend = service.least_busy(operational=True, simulator=False)\n",
    "\n",
    "# Step 1: Map classical inputs to a quantum problem\n",
    "theta = Parameter(\"θ\")\n",
    "\n",
    "chsh_circuit = QuantumCircuit(2)\n",
    "chsh_circuit.h(0)\n",
    "chsh_circuit.cx(0, 1)\n",
    "chsh_circuit.ry(theta, 0)\n",
    "\n",
    "number_of_phases = 21\n",
    "phases = np.linspace(0, 2 * np.pi, number_of_phases)\n",
    "individual_phases = [[ph] for ph in phases]\n",
    "\n",
    "ZZ = SparsePauliOp.from_list([(\"ZZ\", 1)])\n",
    "ZX = SparsePauliOp.from_list([(\"ZX\", 1)])\n",
    "XZ = SparsePauliOp.from_list([(\"XZ\", 1)])\n",
    "XX = SparsePauliOp.from_list([(\"XX\", 1)])\n",
    "ops = [ZZ, ZX, XZ, XX]\n",
    "\n",
    "# Step 2: Optimize problem for quantum execution.\n",
    "\n",
    "pm = generate_preset_pass_manager(backend=backend, optimization_level=1)\n",
    "chsh_isa_circuit = pm.run(chsh_circuit)\n",
    "isa_observables = [\n",
    "    operator.apply_layout(chsh_isa_circuit.layout) for operator in ops\n",
    "]\n",
    "\n",
    "# Step 3: Execute using Qiskit primitives.\n",
    "\n",
    "# Reshape observable array for broadcasting\n",
    "reshaped_ops = np.fromiter(isa_observables, dtype=object)\n",
    "reshaped_ops = reshaped_ops.reshape((4, 1))\n",
    "\n",
    "estimator = Estimator(backend, options={\"default_shots\": int(1e4)})\n",
    "job = estimator.run([(chsh_isa_circuit, reshaped_ops, individual_phases)])\n",
    "# Get results for the first (and only) PUB\n",
    "pub_result = job.result()[0]\n",
    "print(f\">>> Expectation values: {pub_result.data.evs}\")\n",
    "print(f\">>> Standard errors: {pub_result.data.stds}\")\n",
    "print(f\">>> Metadata: {pub_result.metadata}\")"
   ]
  },
  {
   "cell_type": "markdown",
   "id": "793f0ed1-5682-4aa3-a4a0-7baba71650f9",
   "metadata": {},
   "source": [
    "### Use sessions and advanced options\n",
    "\n",
    "Explore sessions and advanced options to optimize circuit performance on QPUs.\n",
    "\n",
    "\n",
    "<Admonition type=\"caution\">\n",
    "The following code block will return an error for Open Plan users because it uses sessions. Open Plan workloads can run only in [job mode](/docs/guides/execution-modes#job-mode) or [batch mode](/docs/guides/execution-modes#batch-mode).\n",
    "</Admonition>"
   ]
  },
  {
   "cell_type": "code",
   "execution_count": 4,
   "id": "d007b547-8546-4ca3-aee6-9a4e3a82598d",
   "metadata": {},
   "outputs": [
    {
     "name": "stdout",
     "output_type": "stream",
     "text": [
      " > Expectation value: 0.15920398009950248\n",
      " > Metadata: {'shots': 4096, 'target_precision': 0.015625, 'circuit_metadata': {}, 'resilience': {}, 'num_randomizations': 32}\n",
      " > Another Expectation value: 0.03173828125\n",
      " > More Metadata: {'shots': 4096, 'target_precision': 0.015625, 'circuit_metadata': {}, 'resilience': {}, 'num_randomizations': 32}\n"
     ]
    }
   ],
   "source": [
    "import numpy as np\n",
    "from qiskit.circuit.library import iqp\n",
    "from qiskit.transpiler import generate_preset_pass_manager\n",
    "from qiskit.quantum_info import SparsePauliOp, random_hermitian\n",
    "from qiskit_ibm_runtime import (\n",
    "    QiskitRuntimeService,\n",
    "    Session,\n",
    "    EstimatorV2 as Estimator,\n",
    ")\n",
    "\n",
    "n_qubits = 50\n",
    "\n",
    "service = QiskitRuntimeService()\n",
    "backend = service.least_busy(\n",
    "    operational=True, simulator=False, min_num_qubits=n_qubits\n",
    ")\n",
    "\n",
    "rng = np.random.default_rng(1234)\n",
    "mat = np.real(random_hermitian(n_qubits, seed=rng))\n",
    "circuit = iqp(mat)\n",
    "mat = np.real(random_hermitian(n_qubits, seed=rng))\n",
    "another_circuit = iqp(mat)\n",
    "observable = SparsePauliOp(\"X\" * 50)\n",
    "another_observable = SparsePauliOp(\"Y\" * 50)\n",
    "\n",
    "pm = generate_preset_pass_manager(optimization_level=1, backend=backend)\n",
    "isa_circuit = pm.run(circuit)\n",
    "another_isa_circuit = pm.run(another_circuit)\n",
    "isa_observable = observable.apply_layout(isa_circuit.layout)\n",
    "another_isa_observable = another_observable.apply_layout(\n",
    "    another_isa_circuit.layout\n",
    ")\n",
    "\n",
    "with Session(backend=backend) as session:\n",
    "    estimator = Estimator(mode=session)\n",
    "\n",
    "    estimator.options.resilience_level = 1\n",
    "\n",
    "    job = estimator.run([(isa_circuit, isa_observable)])\n",
    "    another_job = estimator.run(\n",
    "        [(another_isa_circuit, another_isa_observable)]\n",
    "    )\n",
    "    result = job.result()\n",
    "    another_result = another_job.result()\n",
    "\n",
    "    # first job\n",
    "    print(f\" > Expectation value: {result[0].data.evs}\")\n",
    "    print(f\" > Metadata: {result[0].metadata}\")\n",
    "\n",
    "    # second job\n",
    "    print(f\" > Another Expectation value: {another_result[0].data.evs}\")\n",
    "    print(f\" > More Metadata: {another_result[0].metadata}\")"
   ]
  },
  {
   "cell_type": "markdown",
   "id": "12aea3c7-37a1-4a6b-b944-587669aa6611",
   "metadata": {},
   "source": [
    "<span id=\"sampler-examples\"></span>\n",
    "## Sampler examples\n",
    "\n",
    "Generate entire error-mitigated quasi-probability distributions sampled from quantum circuit outputs. Leverage Sampler’s capabilities for search and classification algorithms like Grover’s and QVSM.\n",
    "\n",
    "### Run a single experiment\n",
    "\n",
    "Use Sampler to return the measurement outcome as bitstrings or counts of a single circuit."
   ]
  },
  {
   "cell_type": "code",
   "execution_count": 5,
   "id": "a5a561b3-3819-4f9e-bb64-4c27267e0e96",
   "metadata": {
    "scrolled": true
   },
   "outputs": [
    {
     "name": "stdout",
     "output_type": "stream",
     "text": [
      " > First ten results: ['1001010100000000001111101100000111110001110010000001110011000110010110000111100100001101001000000000000000000100100000110000001', '0000110011001011101010110010100000010011010010001010100101011100010101010110101001001000001000001000001101101101101100001010000', '1110011010110000000111110101010011000011100000001100000101001001101011000111000001010110000100000000010001000100000110000000100', '0011011110110101111010111101100111001000010001101001110101101000001101001010001000001000100011101000110001001000000010100111101', '0111010110111100100100010100010110010000100110000100001111110001011010000011000101100000000110010000101010001101011100111000001', '0001101010111001010001110111101010001100000100100100001001011001111100000000010001010001100010000000100111010000001010001000100', '1110011000101100010100000111111011100010001000001001001000101000010001001111000010111000000001111101001000101100001100001010000', '1101001010011111110110000101100010110010110010001100100010010110000000000000000111000001010000000001000011101010000100110100000', '1101111111100101011101101000010000011011110011100001001100101001010001000100011000000010011000100001001100000010001010100010101', '0110000111001000010010100000001011001000000100100100100001100100101000010000100001010010100010000101000101001100101100101000001']\n"
     ]
    }
   ],
   "source": [
    "import numpy as np\n",
    "from qiskit.circuit.library import iqp\n",
    "from qiskit.transpiler import generate_preset_pass_manager\n",
    "from qiskit.quantum_info import random_hermitian\n",
    "from qiskit_ibm_runtime import QiskitRuntimeService, SamplerV2 as Sampler\n",
    "\n",
    "n_qubits = 127\n",
    "\n",
    "service = QiskitRuntimeService()\n",
    "backend = service.least_busy(\n",
    "    operational=True, simulator=False, min_num_qubits=n_qubits\n",
    ")\n",
    "\n",
    "mat = np.real(random_hermitian(n_qubits, seed=1234))\n",
    "circuit = iqp(mat)\n",
    "circuit.measure_all()\n",
    "\n",
    "pm = generate_preset_pass_manager(backend=backend, optimization_level=1)\n",
    "isa_circuit = pm.run(circuit)\n",
    "\n",
    "sampler = Sampler(backend)\n",
    "job = sampler.run([isa_circuit])\n",
    "result = job.result()\n",
    "\n",
    "# Get results for the first (and only) PUB\n",
    "pub_result = result[0]\n",
    "\n",
    "print(f\" > First ten results: {pub_result.data.meas.get_bitstrings()[:10]}\")"
   ]
  },
  {
   "cell_type": "markdown",
   "id": "c9ea6d3c-b03f-49e2-a8de-d32e58396e02",
   "metadata": {},
   "source": [
    "### Run multiple experiments in a single job\n",
    "\n",
    "Use Sampler to return the measurement outcome as bitstrings or counts of multiple circuits in one job."
   ]
  },
  {
   "cell_type": "code",
   "execution_count": 6,
   "id": "e4534da8-9fe3-402b-8afc-f4bd9fbed497",
   "metadata": {},
   "outputs": [
    {
     "name": "stdout",
     "output_type": "stream",
     "text": [
      " > First ten results for pub 0: ['1101100010111001101111010010010011110001001100010110101101100001100101100000001011001110011000111010000001110001000101010000101', '0001000000000101101010111001001000100011010000101111000110010110101001110001000100000000100101000110001000011001010100011111001', '0010000010101110101010110101100111010010111100100110100110001101010001000000100000000111111101100110110100010000001000000110011', '1101011011010111010001011100100101100000100000110011000001110011010100000000000011011000001101000101111001101000110100000001100', '1111101000000001110010011001101100001100001000100101010000001010010110110011001100010000001110110000101001010001001001001000001', '1011001010010001001101101000010100000100100000010110100001011101000101010001100111111000000100000001100011111010100100000000001', '0100010110100110011010010010100000101100101000100111000001110100100100000011100000111111011000001110000001000001100001000001000', '0100001001010110011110010001000111010010011000010010000011000100001000000011000101100000101011110010110100100011101000000001110', '0111101110111100001110010100100100001001100011100100100001000000100101100001000001010000111000100000001010010001111101100010100', '0011001101010101111101010100110011001001101010110111101001111000101111001000110101000101101011110100110001000010101000011100100']\n",
      " > First ten results for pub 1: ['0001000110011111000011110001000010111100000100001100010010000100000001000000000110010001111011000101101100101000000000000100100', '1000101010000011110111100000100010101000011001100110000000011000000000000101100000100101000000010000000010000101010010101011111', '0010001111011011101011000010100000000100101010000100001110001110111000000111000101000011010111000010000111011111100110000010000', '0100101111001110001100101001000000000110001011011100001000011101101101100010000101001011010101110000101000000110100100001001000', '0011100110011100000001010010100010011110000000111001100100010001000000000101000100011111000111111000100010101000110011000001010', '0011010000110011110100111111110000101000001000001001111100000110000011000011101010001011010000111100100000001101000010011100011', '1110001011000011111011101011100010001110111111101101101110100101100101110101111011010101011100110100100010001000010000100111111', '1001110101001011101000001011101010000110011010010000000001101111000011110001100011111001000000000000011001110011000011101000010', '0011100111001010100011010000100001001000001010000100000010101101010011101001110101001000010110100000101001110001001100000000010', '0001100101110000100001010100100010001010111010001100001001100011011111001111110001001011010100000010001010100010101100011000010']\n",
      " > First ten results for pub 2: ['1000101100101001001000010000000000101010100110110010100001111000010000100100100101100100001001001110011001100000010100001000001', '1000000101001101101100011010100101111011100111000000010011000001000010001000000001000000111100110001111100001101100000000010100', '1000101101110000010101010001101001000110011000100010000001100000000000011010011100010000110010100111111100000100000011000111000', '1010100010100101001111110100100000011101010100100010000010001000100100010110101001001100100010101101001000100000000110010011100', '1101100100000100010101111111111000001011101100101010101110010000101101001101100010100110100010011010111100011001001000001011100', '1001101100000100110010011000000110110000111011110100010111000000000001010000001111001000101010100001100010100000100111010001100', '1010010100001111010000010011010100110000110001100111000101111000110000011100100101000110100000100101011101100101010010011011100', '1111110000010111000001111100011001010010010010011000110100000000000001000110100001011111100001101100100110111101010101001001101', '1000111010011100111010100101110000000111100101100110110000000001101000110111110011110000110000000100001011010000001011001001001', '0000101001010111101101010000000010010111010001110100111110011000101010111110111110010000010001000000111000001101010000100101000']\n"
     ]
    }
   ],
   "source": [
    "import numpy as np\n",
    "from qiskit.circuit.library import iqp\n",
    "from qiskit.transpiler import generate_preset_pass_manager\n",
    "from qiskit.quantum_info import random_hermitian\n",
    "from qiskit_ibm_runtime import QiskitRuntimeService, SamplerV2 as Sampler\n",
    "\n",
    "n_qubits = 127\n",
    "\n",
    "service = QiskitRuntimeService()\n",
    "backend = service.least_busy(\n",
    "    operational=True, simulator=False, min_num_qubits=n_qubits\n",
    ")\n",
    "\n",
    "rng = np.random.default_rng()\n",
    "mats = [np.real(random_hermitian(n_qubits, seed=rng)) for _ in range(3)]\n",
    "circuits = [iqp(mat) for mat in mats]\n",
    "for circuit in circuits:\n",
    "    circuit.measure_all()\n",
    "\n",
    "pm = generate_preset_pass_manager(backend=backend, optimization_level=1)\n",
    "isa_circuits = pm.run(circuits)\n",
    "\n",
    "sampler = Sampler(mode=backend)\n",
    "job = sampler.run(isa_circuits)\n",
    "result = job.result()\n",
    "\n",
    "for idx, pub_result in enumerate(result):\n",
    "    print(\n",
    "        f\" > First ten results for pub {idx}: {pub_result.data.meas.get_bitstrings()[:10]}\"\n",
    "    )"
   ]
  },
  {
   "cell_type": "markdown",
   "id": "e3ce4f13-b772-4ee6-ba9d-d98da633ab5c",
   "metadata": {},
   "source": [
    "### Run parameterized circuits\n",
    "\n",
    "Run several experiments in a single job, leveraging parameter values to increase circuit reusability."
   ]
  },
  {
   "cell_type": "code",
   "execution_count": 7,
   "id": "c63c9cb6-0650-433c-b3d6-dcde06e465e4",
   "metadata": {},
   "outputs": [
    {
     "name": "stdout",
     "output_type": "stream",
     "text": [
      " >> First ten results for the meas output register: ['0100101011100111101000011001000111010000010100011001110011110001101010000111110101100100011001100000101011000101111001001011000', '1010000001110001110111000110010011001000111100010001011010001111011001011101011010010000111000010110001011110000011001111100101', '0001001011011001100100011101100001100010000010001101101000111010000111010101011111001000011101110000011010110000001110110101110', '0001000000100101010110001001100000001101110001001001000110111110101111101100110110010000000100001100001111100000011111010111111', '0001010001100001110111000000001110001010011010101110011010001110011000101101010000111101101110000010111011111111110010010001011', '0010010110011010010001000100101011000110010101110110100011100100110010110010101100011111001001110100001111000010111000000000000', '0101010110011110110111000101111011101000001111010101010101110011100000000111010111001000000000000000101001100100110110100001100', '1000010000010000110010011100010000011100001100111011011001101111101001011101010100000010100000100110111010011000011011100010100', '0011010001001001010010001100110001111100010100001011100000101011010000110110101100011011000010110011111110001000010011001001100', '0000100100011010111011000111101011110100101110001111101010010111101010000010000110110000011000011010111010001101001101101101100']\n"
     ]
    }
   ],
   "source": [
    "import numpy as np\n",
    "from qiskit.circuit.library import real_amplitudes\n",
    "from qiskit.transpiler import generate_preset_pass_manager\n",
    "from qiskit_ibm_runtime import QiskitRuntimeService, SamplerV2 as Sampler\n",
    "\n",
    "n_qubits = 127\n",
    "\n",
    "service = QiskitRuntimeService()\n",
    "backend = service.least_busy(\n",
    "    operational=True, simulator=False, min_num_qubits=n_qubits\n",
    ")\n",
    "\n",
    "# Step 1: Map classical inputs to a quantum problem\n",
    "circuit = real_amplitudes(num_qubits=n_qubits, reps=2)\n",
    "circuit.measure_all()\n",
    "\n",
    "# Define three sets of parameters for the circuit\n",
    "rng = np.random.default_rng(1234)\n",
    "parameter_values = [\n",
    "    rng.uniform(-np.pi, np.pi, size=circuit.num_parameters) for _ in range(3)\n",
    "]\n",
    "\n",
    "# Step 2: Optimize problem for quantum execution.\n",
    "\n",
    "pm = generate_preset_pass_manager(backend=backend, optimization_level=1)\n",
    "isa_circuit = pm.run(circuit)\n",
    "\n",
    "# Step 3: Execute using Qiskit primitives.\n",
    "sampler = Sampler(backend)\n",
    "job = sampler.run([(isa_circuit, parameter_values)])\n",
    "result = job.result()\n",
    "# Get results for the first (and only) PUB\n",
    "pub_result = result[0]\n",
    "# Get counts from the classical register \"meas\".\n",
    "print(\n",
    "    f\" >> First ten results for the meas output register: {pub_result.data.meas.get_bitstrings()[:10]}\"\n",
    ")"
   ]
  },
  {
   "cell_type": "markdown",
   "id": "a8b00d2a-3c5d-4670-9774-d39cdb262552",
   "metadata": {},
   "source": [
    "### Use sessions and advanced options\n",
    "\n",
    "Explore sessions and advanced options to optimize circuit performance on QPUs.\n",
    "\n",
    "\n",
    "<Admonition type=\"caution\">\n",
    "The following code block will return an error for users on the Open Plan, because it uses sessions. Workloads on the Open Plan can run only in [job mode](/docs/guides/execution-modes#job-mode) or [batch mode](/docs/guides/execution-modes#batch-mode).\n",
    "</Admonition>"
   ]
  },
  {
   "cell_type": "code",
   "execution_count": 8,
   "id": "881fdac4-973b-4cef-a3da-c011d326ff54",
   "metadata": {
    "scrolled": true
   },
   "outputs": [
    {
     "name": "stdout",
     "output_type": "stream",
     "text": [
      " > The first ten measurement results of job 1: ['1100001100010101011000001100000101011000000001000100110011001010001011010111001000001010001100100111100101100000010100010000101', '0011001000110000111110000101100111101101110101000000100100100000000010100011000000010110100001000100000101010101000100000100011', '1111000010011111001000000100011110001011101101011000010010000011000000011000110000001100100100000100000100101010010001000010011', '1010100001001100000000011110010001110001100010100111100001100000001000010000001000100001100110111100000000101010000101000010101', '0011000110011101111110010000110000001011010011110000100011100001001010010001011100001110101010101101011100010110100100100000010', '0000110001010011000110110110001000110100000110101000000010000110010001011000010100000000000010001100100110110110010001011000101', '1111111100110110000101011111101010101010101110000000001011001110010000000101000010000110001110001000000100100010110000001001010', '0000101000001100110111001011010010001010000011010100000010011000010001101001010000001000100111010010001000001000000000010100010', '1101010001101001110011001000110001011000010100000011100101010110001000001010110111110010101111100001000111100110111101000010010', '0000011011011001110101110000000100101011111001001001100000011001010000000101010100010000010011101111110110000101101100110000100']\n"
     ]
    }
   ],
   "source": [
    "import numpy as np\n",
    "from qiskit.circuit.library import iqp\n",
    "from qiskit.quantum_info import random_hermitian\n",
    "from qiskit.transpiler import generate_preset_pass_manager\n",
    "from qiskit_ibm_runtime import Session, SamplerV2 as Sampler\n",
    "from qiskit_ibm_runtime import QiskitRuntimeService\n",
    "\n",
    "n_qubits = 127\n",
    "\n",
    "service = QiskitRuntimeService()\n",
    "backend = service.least_busy(\n",
    "    operational=True, simulator=False, min_num_qubits=n_qubits\n",
    ")\n",
    "\n",
    "rng = np.random.default_rng(1234)\n",
    "mat = np.real(random_hermitian(n_qubits, seed=rng))\n",
    "circuit = iqp(mat)\n",
    "circuit.measure_all()\n",
    "mat = np.real(random_hermitian(n_qubits, seed=rng))\n",
    "another_circuit = iqp(mat)\n",
    "another_circuit.measure_all()\n",
    "\n",
    "pm = generate_preset_pass_manager(backend=backend, optimization_level=1)\n",
    "isa_circuit = pm.run(circuit)\n",
    "another_isa_circuit = pm.run(another_circuit)\n",
    "\n",
    "with Session(backend=backend) as session:\n",
    "    sampler = Sampler(mode=session)\n",
    "    job = sampler.run([isa_circuit])\n",
    "    another_job = sampler.run([another_isa_circuit])\n",
    "    result = job.result()\n",
    "    another_result = another_job.result()\n",
    "\n",
    "# first job\n",
    "\n",
    "print(\n",
    "    f\" > The first ten measurement results of job 1: {result[0].data.meas.get_bitstrings()[:10]}\"\n",
    ")"
   ]
  },
  {
   "cell_type": "code",
   "execution_count": 9,
   "id": "40fe2a06-edfc-41a8-9054-7f31ab93a00c",
   "metadata": {},
   "outputs": [
    {
     "name": "stdout",
     "output_type": "stream",
     "text": [
      " > The first ten measurement results of job 2: ['0100010010110100010001110010011001101011011100000111000011000000010001010000101100110110100100000101101110110000100001100100000', '0110010010100000001000111010001010000000000000010000011101001000001000101100000000001100011000100000010001001010100100010101000', '0001011110011101101010011111101000101000011110011100010010000010110001001100101001010001110001000010110000000101100010010100001', '0111101111110000110000110010101110110100001100101110000000000010100011101000101011011100010111010000011011110011000010100100010', '0101010001110011101001010011110000110000101100100000111100100010100100101000001101001000111010010100101001101000100000011001001', '0011011010010111110000100111001000010000010001000001011101100010011100010110001100000000001110100000000100000000110000001100000', '1010101011010100010001000000000100000000101100000100001110100001111000000001011010100010011000110000010101101011010000011000000', '1011101011100001010110000100100100110010101010010111010010000000010101000100001000001100100100100011100101001101101000100011101', '1101011010000101101010010011000100000001110010000101011000010001100011000110001000001100010110110101101011100101011110100111011', '1000001010000001011000001010101001000110101001010000100000110010011001011001001010011000001110010010000011001010000000000011010']\n"
     ]
    }
   ],
   "source": [
    "# second job\n",
    "print(\n",
    "    \" > The first ten measurement results of job 2:\",\n",
    "    another_result[0].data.meas.get_bitstrings()[:10],\n",
    ")"
   ]
  },
  {
   "cell_type": "markdown",
   "id": "551e1894-a12a-4f6c-8347-020fdc9db74e",
   "metadata": {},
   "source": [
    "## Next steps\n",
    "\n",
    "<Admonition type=\"tip\" title=\"Recommendations\">\n",
    "    - [Specify advanced runtime options.](runtime-options-overview)\n",
    "    - Practice with primitives by working through the [Cost function lesson](/learning/courses/variational-algorithm-design/cost-functions) in IBM Quantum Learning.\n",
    "    - Learn how to transpile locally in the [Transpile](./transpile/) section.\n",
    "    - Try the [Compare transpiler settings](/docs/tutorials/circuit-transpilation-settings) tutorial.\n",
    "    - Read [Migrate to V2 primitives](/docs/migration-guides/v2-primitives).\n",
    "    - Understand the [Job limits](/docs/guides/job-limits) when sending a job to an IBM&reg; QPU.\n",
    "</Admonition>"
   ]
  }
 ],
 "metadata": {
  "description": "Practical examples of using primitives in Qiskit Runtime.",
  "kernelspec": {
   "display_name": "Python 3",
   "language": "python",
   "name": "python3"
  },
  "language_info": {
   "codemirror_mode": {
    "name": "ipython",
    "version": 3
   },
   "file_extension": ".py",
   "mimetype": "text/x-python",
   "name": "python",
   "nbconvert_exporter": "python",
   "pygments_lexer": "ipython3",
   "version": "3"
  },
  "title": "Primitives examples"
 },
 "nbformat": 4,
 "nbformat_minor": 4
}
