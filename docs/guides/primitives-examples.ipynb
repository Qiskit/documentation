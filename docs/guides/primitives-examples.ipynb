{
 "cells": [
  {
   "cell_type": "markdown",
   "id": "1f4a2ec4-3595-4300-8f9e-092b0ef9b444",
   "metadata": {},
   "source": [
    "# Primitives examples"
   ]
  },
  {
   "cell_type": "markdown",
   "id": "b4121e48",
   "metadata": {
    "tags": [
     "version-info"
    ]
   },
   "source": [
    "<details>\n",
    "<summary><b>Package versions</b></summary>\n",
    "\n",
    "The code on this page was developed using the following requirements.\n",
    "We recommend using these versions or newer.\n",
    "\n",
    "```\n",
    "qiskit[all]~=2.1.1\n",
    "qiskit-ibm-runtime~=0.40.1\n",
    "```\n",
    "</details>"
   ]
  },
  {
   "cell_type": "markdown",
   "id": "bae32e60",
   "metadata": {},
   "source": [
    "The examples in this section illustrate some common ways to use primitives. Before running these examples, follow the instructions in [Install and set up.](install-qiskit)\n",
    "\n",
    "<Admonition type=\"note\">\n",
    "    These examples all use the primitives from Qiskit Runtime, but you could use the base primitives instead.\n",
    "</Admonition>\n",
    "\n",
    "## Estimator examples\n",
    "\n",
    "Efficiently calculate and interpret expectation values of the quantum operators required for many algorithms with Estimator. Explore uses in molecular modeling, machine learning, and complex optimization problems.\n",
    "\n",
    "### Run a single experiment\n",
    "\n",
    "Use Estimator to determine the expectation value of a single circuit-observable pair."
   ]
  },
  {
   "cell_type": "code",
   "execution_count": 1,
   "id": "24573866-7cf2-40e1-b61c-a2bdcecb759b",
   "metadata": {},
   "outputs": [
    {
     "name": "stdout",
     "output_type": "stream",
     "text": [
      " > Expectation value: -0.07726075504828797\n",
      " > Metadata: {'shots': 4096, 'target_precision': 0.015625, 'circuit_metadata': {}, 'resilience': {}, 'num_randomizations': 32}\n"
     ]
    }
   ],
   "source": [
    "import numpy as np\n",
    "from qiskit.circuit.library import iqp\n",
    "from qiskit.transpiler import generate_preset_pass_manager\n",
    "from qiskit.quantum_info import SparsePauliOp, random_hermitian\n",
    "from qiskit_ibm_runtime import QiskitRuntimeService, EstimatorV2 as Estimator\n",
    "\n",
    "n_qubits = 50\n",
    "\n",
    "service = QiskitRuntimeService()\n",
    "backend = service.least_busy(\n",
    "    operational=True, simulator=False, min_num_qubits=n_qubits\n",
    ")\n",
    "\n",
    "mat = np.real(random_hermitian(n_qubits, seed=1234))\n",
    "circuit = iqp(mat)\n",
    "observable = SparsePauliOp(\"Z\" * 50)\n",
    "\n",
    "pm = generate_preset_pass_manager(backend=backend, optimization_level=1)\n",
    "isa_circuit = pm.run(circuit)\n",
    "isa_observable = observable.apply_layout(isa_circuit.layout)\n",
    "\n",
    "estimator = Estimator(mode=backend)\n",
    "job = estimator.run([(isa_circuit, isa_observable)])\n",
    "result = job.result()\n",
    "\n",
    "print(f\" > Expectation value: {result[0].data.evs}\")\n",
    "print(f\" > Metadata: {result[0].metadata}\")"
   ]
  },
  {
   "cell_type": "markdown",
   "id": "63769604-ec9e-4ff3-823d-e60f4eb8a877",
   "metadata": {},
   "source": [
    "### Run multiple experiments in a single job\n",
    "\n",
    "Use Estimator to determine the expectation values of multiple circuit-observable pairs."
   ]
  },
  {
   "cell_type": "code",
   "execution_count": 2,
   "id": "bf4668bd-aaaf-4b23-af4b-4df767bd6d1a",
   "metadata": {},
   "outputs": [
    {
     "name": "stdout",
     "output_type": "stream",
     "text": [
      ">>> Expectation values for PUB 0: 0.39215686274509803\n",
      ">>> Standard errors for PUB 0: 1.559067281414385\n",
      ">>> Expectation values for PUB 1: -1.5286624203821657\n",
      ">>> Standard errors for PUB 1: 1.0211767741997007\n",
      ">>> Expectation values for PUB 2: -0.1100196463654224\n",
      ">>> Standard errors for PUB 2: 0.4386777051903653\n"
     ]
    }
   ],
   "source": [
    "import numpy as np\n",
    "from qiskit.circuit.library import iqp\n",
    "from qiskit.transpiler import generate_preset_pass_manager\n",
    "from qiskit.quantum_info import SparsePauliOp, random_hermitian\n",
    "from qiskit_ibm_runtime import QiskitRuntimeService, EstimatorV2 as Estimator\n",
    "\n",
    "n_qubits = 50\n",
    "\n",
    "service = QiskitRuntimeService()\n",
    "backend = service.least_busy(\n",
    "    operational=True, simulator=False, min_num_qubits=n_qubits\n",
    ")\n",
    "\n",
    "rng = np.random.default_rng()\n",
    "mats = [np.real(random_hermitian(n_qubits, seed=rng)) for _ in range(3)]\n",
    "\n",
    "pubs = []\n",
    "circuits = [iqp(mat) for mat in mats]\n",
    "observables = [\n",
    "    SparsePauliOp(\"X\" * 50),\n",
    "    SparsePauliOp(\"Y\" * 50),\n",
    "    SparsePauliOp(\"Z\" * 50),\n",
    "]\n",
    "\n",
    "# Get ISA circuits\n",
    "pm = generate_preset_pass_manager(optimization_level=1, backend=backend)\n",
    "\n",
    "for qc, obs in zip(circuits, observables):\n",
    "    isa_circuit = pm.run(qc)\n",
    "    isa_obs = obs.apply_layout(isa_circuit.layout)\n",
    "    pubs.append((isa_circuit, isa_obs))\n",
    "\n",
    "estimator = Estimator(backend)\n",
    "job = estimator.run(pubs)\n",
    "job_result = job.result()\n",
    "\n",
    "for idx in range(len(pubs)):\n",
    "    pub_result = job_result[idx]\n",
    "    print(f\">>> Expectation values for PUB {idx}: {pub_result.data.evs}\")\n",
    "    print(f\">>> Standard errors for PUB {idx}: {pub_result.data.stds}\")"
   ]
  },
  {
   "cell_type": "markdown",
   "id": "60bf051a-40f8-47a9-b74d-38713bc15210",
   "metadata": {},
   "source": [
    "### Run parameterized circuits\n",
    "\n",
    "Use Estimator to run three experiments in a single job, leveraging parameter values to increase circuit reusability."
   ]
  },
  {
   "cell_type": "code",
   "execution_count": 3,
   "id": "67dc98b8-499c-44d9-ada1-6abc9d6198c0",
   "metadata": {},
   "outputs": [
    {
     "name": "stdout",
     "output_type": "stream",
     "text": [
      ">>> Expectation values: [[ 1.03579622e+00  1.01783938e+00  8.65063711e-01  6.23928983e-01\n",
      "   3.30633906e-01  2.56526306e-03 -3.20942912e-01 -6.31054714e-01\n",
      "  -8.34280554e-01 -1.00358792e+00 -1.04178183e+00 -9.89621485e-01\n",
      "  -8.45681724e-01 -5.93715885e-01 -3.14672269e-01 -1.99520461e-02\n",
      "   3.26073438e-01  6.17373311e-01  8.56797864e-01  1.00700827e+00\n",
      "   1.06800452e+00]\n",
      " [ 3.70537998e-02  3.35764432e-01  6.22788866e-01  8.76749910e-01\n",
      "   1.01156874e+00  1.04634230e+00  1.00586815e+00  8.30290145e-01\n",
      "   5.84879979e-01  3.10396831e-01 -3.56286537e-02 -3.46880572e-01\n",
      "  -6.28204422e-01 -8.52807454e-01 -1.00985856e+00 -1.05460815e+00\n",
      "  -1.00187774e+00 -8.49387104e-01 -6.01411674e-01 -3.18947708e-01\n",
      "   5.70058459e-04]\n",
      " [ 3.04981275e-02 -3.19802795e-01 -5.99131440e-01 -8.52807454e-01\n",
      "  -9.78790374e-01 -1.04149680e+00 -9.84775988e-01 -8.57652951e-01\n",
      "  -5.84879979e-01 -3.31488994e-01  1.05460815e-02  3.16382445e-01\n",
      "   6.12812843e-01  8.54517630e-01  9.80500549e-01  1.03807645e+00\n",
      "   9.96462186e-01  8.23734473e-01  6.04546996e-01  3.05836363e-01\n",
      "   1.93819876e-02]\n",
      " [ 1.05916862e+00  9.71949672e-01  8.15753655e-01  6.06827229e-01\n",
      "   2.99565720e-01 -2.25173091e-02 -3.39469812e-01 -6.33049919e-01\n",
      "  -8.51667337e-01 -9.91046631e-01 -1.05432312e+00 -9.77080198e-01\n",
      "  -8.38841022e-01 -6.00841616e-01 -3.00420808e-01  4.30394136e-02\n",
      "   3.55716478e-01  6.17373311e-01  8.41406285e-01  9.80500549e-01\n",
      "   1.05004768e+00]]\n",
      ">>> Standard errors: [[0.01022941 0.01409812 0.01631622 0.01197951 0.01582004 0.01734578\n",
      "  0.01324396 0.01516313 0.01414342 0.01310674 0.01147738 0.01363291\n",
      "  0.01112054 0.01100635 0.01662625 0.0163166  0.02113726 0.01470437\n",
      "  0.01496332 0.01101683 0.01200604]\n",
      " [0.01377729 0.01549368 0.01471876 0.01433981 0.01147409 0.01103241\n",
      "  0.01355553 0.01226173 0.01230859 0.01389212 0.01346658 0.01428808\n",
      "  0.01077587 0.01134206 0.01260891 0.01136896 0.01204034 0.01187818\n",
      "  0.0126215  0.01503274 0.01516793]\n",
      " [0.01760406 0.01269496 0.01435024 0.01254599 0.01355691 0.01292297\n",
      "  0.01114145 0.01165017 0.01510608 0.01642581 0.01872376 0.01457246\n",
      "  0.01412905 0.01341596 0.01261457 0.01042156 0.01353511 0.01214415\n",
      "  0.01392831 0.01667707 0.01371594]\n",
      " [0.01294525 0.01547071 0.0120969  0.0124388  0.01176654 0.01521951\n",
      "  0.0118326  0.01287029 0.01233948 0.01080488 0.01098734 0.01188125\n",
      "  0.01307478 0.01438819 0.01439623 0.01591625 0.01442517 0.01182588\n",
      "  0.01235832 0.01049857 0.0104152 ]]\n",
      ">>> Metadata: {'shots': 10016, 'target_precision': 0.01, 'circuit_metadata': {}, 'resilience': {}, 'num_randomizations': 32}\n"
     ]
    }
   ],
   "source": [
    "import numpy as np\n",
    "\n",
    "from qiskit.circuit import QuantumCircuit, Parameter\n",
    "from qiskit.quantum_info import SparsePauliOp\n",
    "from qiskit.transpiler import generate_preset_pass_manager\n",
    "from qiskit_ibm_runtime import QiskitRuntimeService, EstimatorV2 as Estimator\n",
    "\n",
    "service = QiskitRuntimeService()\n",
    "backend = service.least_busy(operational=True, simulator=False)\n",
    "\n",
    "# Step 1: Map classical inputs to a quantum problem\n",
    "theta = Parameter(\"θ\")\n",
    "\n",
    "chsh_circuit = QuantumCircuit(2)\n",
    "chsh_circuit.h(0)\n",
    "chsh_circuit.cx(0, 1)\n",
    "chsh_circuit.ry(theta, 0)\n",
    "\n",
    "number_of_phases = 21\n",
    "phases = np.linspace(0, 2 * np.pi, number_of_phases)\n",
    "individual_phases = [[ph] for ph in phases]\n",
    "\n",
    "ZZ = SparsePauliOp.from_list([(\"ZZ\", 1)])\n",
    "ZX = SparsePauliOp.from_list([(\"ZX\", 1)])\n",
    "XZ = SparsePauliOp.from_list([(\"XZ\", 1)])\n",
    "XX = SparsePauliOp.from_list([(\"XX\", 1)])\n",
    "ops = [ZZ, ZX, XZ, XX]\n",
    "\n",
    "# Step 2: Optimize problem for quantum execution.\n",
    "\n",
    "pm = generate_preset_pass_manager(backend=backend, optimization_level=1)\n",
    "chsh_isa_circuit = pm.run(chsh_circuit)\n",
    "isa_observables = [\n",
    "    operator.apply_layout(chsh_isa_circuit.layout) for operator in ops\n",
    "]\n",
    "\n",
    "# Step 3: Execute using Qiskit primitives.\n",
    "\n",
    "# Reshape observable array for broadcasting\n",
    "reshaped_ops = np.fromiter(isa_observables, dtype=object)\n",
    "reshaped_ops = reshaped_ops.reshape((4, 1))\n",
    "\n",
    "estimator = Estimator(backend, options={\"default_shots\": int(1e4)})\n",
    "job = estimator.run([(chsh_isa_circuit, reshaped_ops, individual_phases)])\n",
    "# Get results for the first (and only) PUB\n",
    "pub_result = job.result()[0]\n",
    "print(f\">>> Expectation values: {pub_result.data.evs}\")\n",
    "print(f\">>> Standard errors: {pub_result.data.stds}\")\n",
    "print(f\">>> Metadata: {pub_result.metadata}\")"
   ]
  },
  {
   "cell_type": "markdown",
   "id": "793f0ed1-5682-4aa3-a4a0-7baba71650f9",
   "metadata": {},
   "source": [
    "### Use sessions and advanced options\n",
    "\n",
    "Explore sessions and advanced options to optimize circuit performance on QPUs.\n",
    "\n",
    "\n",
    "<Admonition type=\"caution\">\n",
    "The following code block will return an error for Open Plan users because it uses sessions. Open Plan workloads can run only in [job mode](/docs/guides/execution-modes#job-mode) or [batch mode](/docs/guides/execution-modes#batch-mode).\n",
    "</Admonition>"
   ]
  },
  {
   "cell_type": "code",
   "execution_count": 4,
   "id": "d007b547-8546-4ca3-aee6-9a4e3a82598d",
   "metadata": {},
   "outputs": [
    {
     "name": "stdout",
     "output_type": "stream",
     "text": [
      " > Expectation value: 0.29971181556195964\n",
      " > Metadata: {'shots': 4096, 'target_precision': 0.015625, 'circuit_metadata': {}, 'resilience': {}, 'num_randomizations': 32}\n",
      " > Another Expectation value: 0.6555183946488294\n",
      " > More Metadata: {'shots': 4096, 'target_precision': 0.015625, 'circuit_metadata': {}, 'resilience': {}, 'num_randomizations': 32}\n"
     ]
    }
   ],
   "source": [
    "import numpy as np\n",
    "from qiskit.circuit.library import iqp\n",
    "from qiskit.transpiler import generate_preset_pass_manager\n",
    "from qiskit.quantum_info import SparsePauliOp, random_hermitian\n",
    "from qiskit_ibm_runtime import (\n",
    "    QiskitRuntimeService,\n",
    "    Session,\n",
    "    EstimatorV2 as Estimator,\n",
    ")\n",
    "\n",
    "n_qubits = 50\n",
    "\n",
    "service = QiskitRuntimeService()\n",
    "backend = service.least_busy(\n",
    "    operational=True, simulator=False, min_num_qubits=n_qubits\n",
    ")\n",
    "\n",
    "rng = np.random.default_rng(1234)\n",
    "mat = np.real(random_hermitian(n_qubits, seed=rng))\n",
    "circuit = iqp(mat)\n",
    "mat = np.real(random_hermitian(n_qubits, seed=rng))\n",
    "another_circuit = iqp(mat)\n",
    "observable = SparsePauliOp(\"X\" * 50)\n",
    "another_observable = SparsePauliOp(\"Y\" * 50)\n",
    "\n",
    "pm = generate_preset_pass_manager(optimization_level=1, backend=backend)\n",
    "isa_circuit = pm.run(circuit)\n",
    "another_isa_circuit = pm.run(another_circuit)\n",
    "isa_observable = observable.apply_layout(isa_circuit.layout)\n",
    "another_isa_observable = another_observable.apply_layout(\n",
    "    another_isa_circuit.layout\n",
    ")\n",
    "\n",
    "with Session(backend=backend) as session:\n",
    "    estimator = Estimator(mode=session)\n",
    "\n",
    "    estimator.options.resilience_level = 1\n",
    "\n",
    "    job = estimator.run([(isa_circuit, isa_observable)])\n",
    "    another_job = estimator.run(\n",
    "        [(another_isa_circuit, another_isa_observable)]\n",
    "    )\n",
    "    result = job.result()\n",
    "    another_result = another_job.result()\n",
    "\n",
    "    # first job\n",
    "    print(f\" > Expectation value: {result[0].data.evs}\")\n",
    "    print(f\" > Metadata: {result[0].metadata}\")\n",
    "\n",
    "    # second job\n",
    "    print(f\" > Another Expectation value: {another_result[0].data.evs}\")\n",
    "    print(f\" > More Metadata: {another_result[0].metadata}\")"
   ]
  },
  {
   "cell_type": "markdown",
   "id": "12aea3c7-37a1-4a6b-b944-587669aa6611",
   "metadata": {},
   "source": [
    "<span id=\"sampler-examples\"></span>\n",
    "## Sampler examples\n",
    "\n",
    "Generate entire error-mitigated quasi-probability distributions sampled from quantum circuit outputs. Leverage Sampler’s capabilities for search and classification algorithms like Grover’s and QVSM.\n",
    "\n",
    "### Run a single experiment\n",
    "\n",
    "Use Sampler to return the measurement outcome as bitstrings or counts of a single circuit."
   ]
  },
  {
   "cell_type": "code",
   "execution_count": 5,
   "id": "a5a561b3-3819-4f9e-bb64-4c27267e0e96",
   "metadata": {
    "scrolled": true
   },
   "outputs": [
    {
     "name": "stdout",
     "output_type": "stream",
     "text": [
      " > First ten results: ['0000000101010101011010011100000011011011100010111100010011011101101000100010001000001101110110010000100101000000000000110100011', '0110101011001000011101000111011011011001100110010011010111100100001111000000110101010000100101101111101100001100011010111000001', '1110011001110111110011010011101110011001100100111000000110100100110010100010110000001100100011010010111000100010011101100101001', '1111010100110110111010000001101101011010010100011001000001011001100111100010010011001100100100100100010100001100000000000001100', '1110001100111101000001011011001010011010000101101011000001100010011001100011000110000100110100000110100010100010000011110000110', '1010000011000100001010010000000110110101000000011100111100000001001011010011111000111010101111000000100110010001010001111101110', '1010110011110000100001011011000111101100010001110000011011111000101101010010110000011000000010000000110001110010011100010100000', '0111111100111011010010011100010010110100100100000010000100110100001011100010101000000001010001000110100000101010000101100010001', '0011100000010101001100100001001100000110101100001011010100010100100000010010110001101001000100111000100000001011001000010101000', '1001111001000001101101001010000111001000100011001011100011010001000000100000010000001000011100000011010000011110001000110101011']\n"
     ]
    }
   ],
   "source": [
    "import numpy as np\n",
    "from qiskit.circuit.library import iqp\n",
    "from qiskit.transpiler import generate_preset_pass_manager\n",
    "from qiskit.quantum_info import random_hermitian\n",
    "from qiskit_ibm_runtime import QiskitRuntimeService, SamplerV2 as Sampler\n",
    "\n",
    "n_qubits = 127\n",
    "\n",
    "service = QiskitRuntimeService()\n",
    "backend = service.least_busy(\n",
    "    operational=True, simulator=False, min_num_qubits=n_qubits\n",
    ")\n",
    "\n",
    "mat = np.real(random_hermitian(n_qubits, seed=1234))\n",
    "circuit = iqp(mat)\n",
    "circuit.measure_all()\n",
    "\n",
    "pm = generate_preset_pass_manager(backend=backend, optimization_level=1)\n",
    "isa_circuit = pm.run(circuit)\n",
    "\n",
    "sampler = Sampler(backend)\n",
    "job = sampler.run([isa_circuit])\n",
    "result = job.result()\n",
    "\n",
    "# Get results for the first (and only) PUB\n",
    "pub_result = result[0]\n",
    "\n",
    "print(f\" > First ten results: {pub_result.data.meas.get_bitstrings()[:10]}\")"
   ]
  },
  {
   "cell_type": "markdown",
   "id": "c9ea6d3c-b03f-49e2-a8de-d32e58396e02",
   "metadata": {},
   "source": [
    "### Run multiple experiments in a single job\n",
    "\n",
    "Use Sampler to return the measurement outcome as bitstrings or counts of multiple circuits in one job."
   ]
  },
  {
   "cell_type": "code",
   "execution_count": 6,
   "id": "e4534da8-9fe3-402b-8afc-f4bd9fbed497",
   "metadata": {},
   "outputs": [
    {
     "name": "stdout",
     "output_type": "stream",
     "text": [
      " > First ten results for pub 0: ['0010100011001010100110011100001100001111101000101101001010100111000001100100000010110100000010000010000000000010001001001000100', '1000100011100100111100000111100100111110110100010111000110100110101000010000101100101111110001001000000000000000000000100000000', '0100000110100101010110011010010001000001010110000000001100100011000000000110111000000001010011000000010110100010000001011001101', '1100011000110011110101010010101000011010010101101100111010010000010011100010011001110001100111000100001011000000001100110010101', '0100000101110000010101000001001010010010101011001101000011000000000111111100011000011010101000110001101000000000010100110101100', '1000000000110111011010000000100010011001011000010100000011100000001011010110100001110001100101111010000100010000000100100100000', '0101100111101001100101110101111110001011100100101101100011001000010111000110111010010000111010001001010100011000000001001100000', '0110000011010100010000000000010000000110100001111101100000001110001000101100001100001010011001011100001000010000000100110110110', '0000110010100110010110101011001100100000000010100010101110000100010000000010010110000001110001000000100000000000000110110010000', '0001111010100101000110110110110100001110011011100011001001100001001000100110100000000000011000000010010001011000000111011000101']\n",
      " > First ten results for pub 1: ['1000011100100001010110010101011000000001001000011100000010000010000010000011011001011111000101011101001010001100110100010001001', '0101011100000100100010110011100101000000100110011011100000010111011011101000011000100010011011110101010111000101001101101100000', '0001011011100001000011010100101001001110111100010001110011000100001110001001010000000000001010010000111001100101001101100001000', '1100011011010010111111110000110011101001101100011000101000001101010100001000000000000000100010100000100111001000000110101100010', '1011010100000110100111111010000001000000110110001100001100100010111100100100011000001001100010101010000010000011010100000010010', '0111001100010111001100101101000010101101001010010100010110011001011111010001000100010111010110100100001100000010011101100101010', '0001011010000001011010011000101110101010111000010101000000000011000011001000111000011001000111011111110111101101001000000001011', '1101011100110101001110011100010100101010001100111101000011101001010101100011010111000001110000101001100000000000100101000000000', '1001100110000101100100000100110110111011110100101001100000111011011010100000100011010010010011001010000111000111010111100011010', '0111110111101100011110110001010100001100100111000010000011011000010011110000000000000000100110001011000001001000000011000000110']\n",
      " > First ten results for pub 2: ['1000100001001000101100001000000011000101111000110001001010001001101011001010011100000001111010001111000000111000100000010100010', '0010011011100000001000100010101000001101010000000000010110101100100101000001010100000001101000000000000111000000000101000010101', '0110101000110010010011001100011010101010011110111000000000100011000100011010001110010010010101001101001011011011000010010011100', '0101000100000010110111011111100110010110111001011011101010011100011010011000010000000001101110011010010000010010111001010001100', '0010100101010000001011011100000100111000011010100100000111000010010010011011001000010011011011000011001000010000100000010010000', '1111010101110000111011010010011011100011101001001000101001001111011011001110001011111111100000000110000010001000001011010011000', '0100010110110010010011010110000101001101101101001000010001100111100001110001000100111100100010001101011111000110000010011000111', '0011011010110001001001000011110111001011000000000000011101010111100000001111011100000000110010101111001110100000111001000010110', '1111000010111001101101010001010101011001000001010010010000001100101110001100000001010110101100010111000000010000000010010000011', '1010011110000110011010101000001010101001110101000000111101010010000000001001010000011001010100111100000100110011110011111001001']\n"
     ]
    }
   ],
   "source": [
    "import numpy as np\n",
    "from qiskit.circuit.library import iqp\n",
    "from qiskit.transpiler import generate_preset_pass_manager\n",
    "from qiskit.quantum_info import random_hermitian\n",
    "from qiskit_ibm_runtime import QiskitRuntimeService, SamplerV2 as Sampler\n",
    "\n",
    "n_qubits = 127\n",
    "\n",
    "service = QiskitRuntimeService()\n",
    "backend = service.least_busy(\n",
    "    operational=True, simulator=False, min_num_qubits=n_qubits\n",
    ")\n",
    "\n",
    "rng = np.random.default_rng()\n",
    "mats = [np.real(random_hermitian(n_qubits, seed=rng)) for _ in range(3)]\n",
    "circuits = [iqp(mat) for mat in mats]\n",
    "for circuit in circuits:\n",
    "    circuit.measure_all()\n",
    "\n",
    "pm = generate_preset_pass_manager(backend=backend, optimization_level=1)\n",
    "isa_circuits = pm.run(circuits)\n",
    "\n",
    "sampler = Sampler(mode=backend)\n",
    "job = sampler.run(isa_circuits)\n",
    "result = job.result()\n",
    "\n",
    "for idx, pub_result in enumerate(result):\n",
    "    print(\n",
    "        f\" > First ten results for pub {idx}: {pub_result.data.meas.get_bitstrings()[:10]}\"\n",
    "    )"
   ]
  },
  {
   "cell_type": "markdown",
   "id": "e3ce4f13-b772-4ee6-ba9d-d98da633ab5c",
   "metadata": {},
   "source": [
    "### Run parameterized circuits\n",
    "\n",
    "Run several experiments in a single job, leveraging parameter values to increase circuit reusability."
   ]
  },
  {
   "cell_type": "code",
   "execution_count": 7,
   "id": "c63c9cb6-0650-433c-b3d6-dcde06e465e4",
   "metadata": {},
   "outputs": [
    {
     "name": "stdout",
     "output_type": "stream",
     "text": [
      " >> First ten results for the meas output register: ['0000000101001011001101011110111111101001110001101011110011101010001011111001010100100011110111110100100000100011010111000111110', '0110001010110001001010010010101110011011000000101011001010000100111110000111011001110011101001111011010111111001010110111101101', '0110100001001110101001100100001111101101101001110011111101110110000111101010000100011111111101100001000111011111101010111101001', '0010000110111001100100001111101110111001011011010010010111100100101010100010011001110110100100110110110000011100011000110000000', '0101000011101110001001011001110010111110110000111011111011001000110011100111000100011101110011010011111010111101010010000010111', '0000110000100001000110101110010110110010000110101101100111001100010100111010100010000010101011010010101111111011100110100010010', '0111000101011000111110001001110111011011000001000011001110011001111100001100111111111000011000010100011111000110011001101101101', '0100110001100000000010001000011010010010001001101110100110101100011000110100111110100011110100111010001101111111111101001001111', '0000001001110001110110011001100010000000011001010100010010000001100001111000010101011011101110000100110100110100100101000100011', '0111001100010100000110111110011010011001010101001011101011001100001011001010001111100110101101101011111000010110010110010111000']\n"
     ]
    }
   ],
   "source": [
    "import numpy as np\n",
    "from qiskit.circuit.library import real_amplitudes\n",
    "from qiskit.transpiler import generate_preset_pass_manager\n",
    "from qiskit_ibm_runtime import QiskitRuntimeService, SamplerV2 as Sampler\n",
    "\n",
    "n_qubits = 127\n",
    "\n",
    "service = QiskitRuntimeService()\n",
    "backend = service.least_busy(\n",
    "    operational=True, simulator=False, min_num_qubits=n_qubits\n",
    ")\n",
    "\n",
    "# Step 1: Map classical inputs to a quantum problem\n",
    "circuit = real_amplitudes(num_qubits=n_qubits, reps=2)\n",
    "circuit.measure_all()\n",
    "\n",
    "# Define three sets of parameters for the circuit\n",
    "rng = np.random.default_rng(1234)\n",
    "parameter_values = [\n",
    "    rng.uniform(-np.pi, np.pi, size=circuit.num_parameters) for _ in range(3)\n",
    "]\n",
    "\n",
    "# Step 2: Optimize problem for quantum execution.\n",
    "\n",
    "pm = generate_preset_pass_manager(backend=backend, optimization_level=1)\n",
    "isa_circuit = pm.run(circuit)\n",
    "\n",
    "# Step 3: Execute using Qiskit primitives.\n",
    "sampler = Sampler(backend)\n",
    "job = sampler.run([(isa_circuit, parameter_values)])\n",
    "result = job.result()\n",
    "# Get results for the first (and only) PUB\n",
    "pub_result = result[0]\n",
    "# Get counts from the classical register \"meas\".\n",
    "print(\n",
    "    f\" >> First ten results for the meas output register: {pub_result.data.meas.get_bitstrings()[:10]}\"\n",
    ")"
   ]
  },
  {
   "cell_type": "markdown",
   "id": "a8b00d2a-3c5d-4670-9774-d39cdb262552",
   "metadata": {},
   "source": [
    "### Use sessions and advanced options\n",
    "\n",
    "Explore sessions and advanced options to optimize circuit performance on QPUs.\n",
    "\n",
    "\n",
    "<Admonition type=\"caution\">\n",
    "The following code block will return an error for users on the Open Plan, because it uses sessions. Workloads on the Open Plan can run only in [job mode](/docs/guides/execution-modes#job-mode) or [batch mode](/docs/guides/execution-modes#batch-mode).\n",
    "</Admonition>"
   ]
  },
  {
   "cell_type": "code",
   "execution_count": 8,
   "id": "881fdac4-973b-4cef-a3da-c011d326ff54",
   "metadata": {
    "scrolled": true
   },
   "outputs": [
    {
     "name": "stdout",
     "output_type": "stream",
     "text": [
      " > The first ten measurement results of job 1: ['1101100011001010001001111000000000100110000101010001101001000000000000100011001101000000110111110010000100001011010111110001011', '0000111100001111000010001100110000100100100100000110100000010101010010110000110100001011010000001000001000100010001101110111001', '0010000100110100101010101100110000001111100000010010000101110011011001000010000111010100101011100000000000000000000010010100011', '0111000101010100000000110000010001001011010100011110100100011000001011100001110010100000001001000001010000001000010001000011010', '0110100010100001000111001011101010000110100000001110000111011001101011101000010101110100000101001011010001001001011110010010101', '0110101010011001100101110010110001001100010000110100010100001001000100001000100110011000011101001001000000010000001000100100110', '0100110000011011000101110000110001001000000001101101010000000011011110101000100011100000001000110000000111011000100100011000100', '0010011111001100100001101001000100001100010000110101100110010000000100100100001110000001000000000100000000000010010101111110001', '1101100010100000111100010100111000111110000110100011000000100000010000100000001011110100001001001100010111100010100010001101000', '1110000010001100101000110110100000001000000011001010101000011011000010000001111100000000011001000000000110001000000000000100100']\n"
     ]
    }
   ],
   "source": [
    "import numpy as np\n",
    "from qiskit.circuit.library import iqp\n",
    "from qiskit.quantum_info import random_hermitian\n",
    "from qiskit.transpiler import generate_preset_pass_manager\n",
    "from qiskit_ibm_runtime import Session, SamplerV2 as Sampler\n",
    "from qiskit_ibm_runtime import QiskitRuntimeService\n",
    "\n",
    "n_qubits = 127\n",
    "\n",
    "service = QiskitRuntimeService()\n",
    "backend = service.least_busy(\n",
    "    operational=True, simulator=False, min_num_qubits=n_qubits\n",
    ")\n",
    "\n",
    "rng = np.random.default_rng(1234)\n",
    "mat = np.real(random_hermitian(n_qubits, seed=rng))\n",
    "circuit = iqp(mat)\n",
    "circuit.measure_all()\n",
    "mat = np.real(random_hermitian(n_qubits, seed=rng))\n",
    "another_circuit = iqp(mat)\n",
    "another_circuit.measure_all()\n",
    "\n",
    "pm = generate_preset_pass_manager(backend=backend, optimization_level=1)\n",
    "isa_circuit = pm.run(circuit)\n",
    "another_isa_circuit = pm.run(another_circuit)\n",
    "\n",
    "with Session(backend=backend) as session:\n",
    "    sampler = Sampler(mode=session)\n",
    "    job = sampler.run([isa_circuit])\n",
    "    another_job = sampler.run([another_isa_circuit])\n",
    "    result = job.result()\n",
    "    another_result = another_job.result()\n",
    "\n",
    "# first job\n",
    "\n",
    "print(\n",
    "    f\" > The first ten measurement results of job 1: {result[0].data.meas.get_bitstrings()[:10]}\"\n",
    ")"
   ]
  },
  {
   "cell_type": "code",
   "execution_count": 9,
   "id": "40fe2a06-edfc-41a8-9054-7f31ab93a00c",
   "metadata": {},
   "outputs": [
    {
     "name": "stdout",
     "output_type": "stream",
     "text": [
      " > The first ten measurement results of job 2: ['0111101011111100111100111010101111100001100000011001000110101100010111001011010000010000010011100010101001010100010010100000001', '0000000011111101111011011011101000111001100100011101010000000000101000001101000010100000011000100000011111011101001110110100100', '0000101000101001101100110101011011110010101010111000000111000110000011010101100011110001000010001010110000101100010010000000010', '0010000001110110101100101110110010000110110000010011000011000010001101000110000010111000100011000011000111010110000010010101010', '1100010001100110011000010000010101110110100110010001010100000000111011001001001000010100001001001011000010100001101110000110101', '1000101010000101010110110010101010110001111110000001010011010000110010101100000011101000000101100000000111000101010000000000100', '0110101001001100000000011110100001011100100110100001100011001000011011011110000000011101000000111010010100000110000111000000110', '0111001100100110110001110100000000101011111101011110001000110000011100100100000010000010000010110000001100000000101010001010111', '0100000000110110011010010000001010101000110110010101100101101110001101010010001000110010010100100010000000001101010100001000000', '1111000011100011010010011100000010110101000001000001000011101000011011011001011111100000110110110000011001101101101101000101110']\n"
     ]
    }
   ],
   "source": [
    "# second job\n",
    "print(\n",
    "    \" > The first ten measurement results of job 2:\",\n",
    "    another_result[0].data.meas.get_bitstrings()[:10],\n",
    ")"
   ]
  },
  {
   "cell_type": "markdown",
   "id": "551e1894-a12a-4f6c-8347-020fdc9db74e",
   "metadata": {},
   "source": [
    "## Next steps\n",
    "\n",
    "<Admonition type=\"tip\" title=\"Recommendations\">\n",
    "    - [Specify advanced runtime options.](runtime-options-overview)\n",
    "    - Practice with primitives by working through the [Cost function lesson](/learning/courses/variational-algorithm-design/cost-functions) in IBM Quantum Learning.\n",
    "    - Learn how to transpile locally in the [Transpile](./transpile/) section.\n",
    "    - Try the [Compare transpiler settings](/docs/tutorials/circuit-transpilation-settings) tutorial.\n",
    "    - Read [Migrate to V2 primitives](/docs/migration-guides/v2-primitives).\n",
    "    - Understand the [Job limits](/docs/guides/job-limits) when sending a job to an IBM&reg; QPU.\n",
    "</Admonition>"
   ]
  }
 ],
 "metadata": {
  "description": "Practical examples of using primitives in Qiskit Runtime.",
  "kernelspec": {
   "display_name": "Python 3",
   "language": "python",
   "name": "python3"
  },
  "language_info": {
   "codemirror_mode": {
    "name": "ipython",
    "version": 3
   },
   "file_extension": ".py",
   "mimetype": "text/x-python",
   "name": "python",
   "nbconvert_exporter": "python",
   "pygments_lexer": "ipython3",
   "version": "3"
  },
  "title": "Primitives examples"
 },
 "nbformat": 4,
 "nbformat_minor": 4
}
