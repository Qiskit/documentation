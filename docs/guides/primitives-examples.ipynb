{
 "cells": [
  {
   "cell_type": "markdown",
   "id": "1f4a2ec4-3595-4300-8f9e-092b0ef9b444",
   "metadata": {},
   "source": [
    "# Primitives examples"
   ]
  },
  {
   "cell_type": "markdown",
   "id": "b4121e48",
   "metadata": {
    "tags": [
     "version-info"
    ]
   },
   "source": [
    "<details>\n",
    "<summary><b>Package versions</b></summary>\n",
    "\n",
    "The code on this page was developed using the following requirements.\n",
    "We recommend using these versions or newer.\n",
    "\n",
    "```\n",
    "qiskit[all]~=2.0.0\n",
    "qiskit-ibm-runtime~=0.37.0\n",
    "```\n",
    "</details>"
   ]
  },
  {
   "cell_type": "markdown",
   "id": "bae32e60",
   "metadata": {},
   "source": [
    "The examples in this section illustrate some common ways to use primitives. Before running these examples, follow the instructions in [Install and set up.](install-qiskit)\n",
    "\n",
    "<Admonition type=\"note\">\n",
    "    These examples all use the primitives from Qiskit Runtime, but you could use the base primitives instead.\n",
    "</Admonition>\n",
    "\n",
    "## Estimator examples\n",
    "\n",
    "Efficiently calculate and interpret expectation values of the quantum operators required for many algorithms with Estimator. Explore uses in molecular modeling, machine learning, and complex optimization problems.\n",
    "\n",
    "### Run a single experiment\n",
    "\n",
    "Use Estimator to determine the expectation value of a single circuit-observable pair."
   ]
  },
  {
   "cell_type": "code",
   "execution_count": 1,
   "id": "24573866-7cf2-40e1-b61c-a2bdcecb759b",
   "metadata": {},
   "outputs": [
    {
     "name": "stdout",
     "output_type": "stream",
     "text": [
      " > Expectation value: 0.00244140625\n",
      " > Metadata: {'shots': 4096, 'target_precision': 0.015625, 'circuit_metadata': {}, 'resilience': {}, 'num_randomizations': 32}\n"
     ]
    }
   ],
   "source": [
    "import numpy as np\n",
    "from qiskit.circuit.library import iqp\n",
    "from qiskit.transpiler import generate_preset_pass_manager\n",
    "from qiskit.quantum_info import SparsePauliOp, random_hermitian\n",
    "from qiskit_ibm_runtime import QiskitRuntimeService, EstimatorV2 as Estimator\n",
    "\n",
    "n_qubits = 50\n",
    "\n",
    "service = QiskitRuntimeService()\n",
    "backend = service.least_busy(\n",
    "    operational=True, simulator=False, min_num_qubits=n_qubits\n",
    ")\n",
    "\n",
    "mat = np.real(random_hermitian(n_qubits, seed=1234))\n",
    "circuit = iqp(mat)\n",
    "observable = SparsePauliOp(\"Z\" * 50)\n",
    "\n",
    "pm = generate_preset_pass_manager(backend=backend, optimization_level=1)\n",
    "isa_circuit = pm.run(circuit)\n",
    "isa_observable = observable.apply_layout(isa_circuit.layout)\n",
    "\n",
    "estimator = Estimator(mode=backend)\n",
    "job = estimator.run([(isa_circuit, isa_observable)])\n",
    "result = job.result()\n",
    "\n",
    "print(f\" > Expectation value: {result[0].data.evs}\")\n",
    "print(f\" > Metadata: {result[0].metadata}\")"
   ]
  },
  {
   "cell_type": "markdown",
   "id": "63769604-ec9e-4ff3-823d-e60f4eb8a877",
   "metadata": {},
   "source": [
    "### Run multiple experiments in a single job\n",
    "\n",
    "Use Estimator to determine the expectation values of multiple circuit-observable pairs."
   ]
  },
  {
   "cell_type": "code",
   "execution_count": 2,
   "id": "bf4668bd-aaaf-4b23-af4b-4df767bd6d1a",
   "metadata": {},
   "outputs": [
    {
     "name": "stdout",
     "output_type": "stream",
     "text": [
      ">>> Expectation values for PUB 0: -0.0982381206620395\n",
      ">>> Standard errors for PUB 0: 0.11803482603014157\n",
      ">>> Expectation values for PUB 1: -0.21715526601520088\n",
      ">>> Standard errors for PUB 1: 0.11472990920538566\n",
      ">>> Expectation values for PUB 2: -0.0713091922005571\n",
      ">>> Standard errors for PUB 2: 0.14959556158968584\n"
     ]
    }
   ],
   "source": [
    "import numpy as np\n",
    "from qiskit.circuit.library import iqp\n",
    "from qiskit.transpiler import generate_preset_pass_manager\n",
    "from qiskit.quantum_info import SparsePauliOp, random_hermitian\n",
    "from qiskit_ibm_runtime import QiskitRuntimeService, EstimatorV2 as Estimator\n",
    "\n",
    "n_qubits = 50\n",
    "\n",
    "service = QiskitRuntimeService()\n",
    "backend = service.least_busy(\n",
    "    operational=True, simulator=False, min_num_qubits=n_qubits\n",
    ")\n",
    "\n",
    "rng = np.random.default_rng()\n",
    "mats = [np.real(random_hermitian(n_qubits, seed=rng)) for _ in range(3)]\n",
    "\n",
    "pubs = []\n",
    "circuits = [iqp(mat) for mat in mats]\n",
    "observables = [\n",
    "    SparsePauliOp(\"X\" * 50),\n",
    "    SparsePauliOp(\"Y\" * 50),\n",
    "    SparsePauliOp(\"Z\" * 50),\n",
    "]\n",
    "\n",
    "# Get ISA circuits\n",
    "pm = generate_preset_pass_manager(optimization_level=1, backend=backend)\n",
    "\n",
    "for qc, obs in zip(circuits, observables):\n",
    "    isa_circuit = pm.run(qc)\n",
    "    isa_obs = obs.apply_layout(isa_circuit.layout)\n",
    "    pubs.append((isa_circuit, isa_obs))\n",
    "\n",
    "estimator = Estimator(backend)\n",
    "job = estimator.run(pubs)\n",
    "job_result = job.result()\n",
    "\n",
    "for idx in range(len(pubs)):\n",
    "    pub_result = job_result[idx]\n",
    "    print(f\">>> Expectation values for PUB {idx}: {pub_result.data.evs}\")\n",
    "    print(f\">>> Standard errors for PUB {idx}: {pub_result.data.stds}\")"
   ]
  },
  {
   "cell_type": "markdown",
   "id": "60bf051a-40f8-47a9-b74d-38713bc15210",
   "metadata": {},
   "source": [
    "### Run parameterized circuits\n",
    "\n",
    "Use Estimator to run three experiments in a single job, leveraging parameter values to increase circuit reusability."
   ]
  },
  {
   "cell_type": "code",
   "execution_count": 3,
   "id": "67dc98b8-499c-44d9-ada1-6abc9d6198c0",
   "metadata": {},
   "outputs": [
    {
     "name": "stdout",
     "output_type": "stream",
     "text": [
      ">>> Expectation values: [[ 1.00806232e+00  9.53459813e-01  8.00697836e-01  5.83121433e-01\n",
      "   3.01564229e-01 -1.56304887e-02 -3.23655320e-01 -6.01044393e-01\n",
      "  -8.11743382e-01 -9.63046513e-01 -1.00702029e+00 -9.51792561e-01\n",
      "  -8.06950032e-01 -5.66240505e-01 -3.12609775e-01  2.70928471e-03\n",
      "   3.26989824e-01  5.83746653e-01  8.07366845e-01  9.59295195e-01\n",
      "   1.00556144e+00]\n",
      " [-8.33626066e-04  3.31783174e-01  5.93958572e-01  8.20704862e-01\n",
      "   9.60337228e-01  1.00264375e+00  9.48666463e-01  8.20288049e-01\n",
      "   5.89582035e-01  3.01355823e-01 -2.93853188e-02 -3.04690327e-01\n",
      "  -5.87914783e-01 -8.17161951e-01 -9.55960691e-01 -1.00660347e+00\n",
      "  -9.47416024e-01 -8.22580520e-01 -5.86872750e-01 -2.98021319e-01\n",
      "   3.43870752e-02]\n",
      " [ 1.41716431e-02 -3.25530979e-01 -5.87706376e-01 -8.06324812e-01\n",
      "  -9.57836350e-01 -1.00827073e+00 -9.60545634e-01 -8.06324812e-01\n",
      "  -5.77494457e-01 -3.11359336e-01  2.08406516e-04  3.12401368e-01\n",
      "   5.90624068e-01  8.19454423e-01  9.56794317e-01  1.01077160e+00\n",
      "   9.56169097e-01  8.12577008e-01  5.75201985e-01  3.08650051e-01\n",
      "   5.83538246e-03]\n",
      " [ 1.00139331e+00  9.55752284e-01  8.14035853e-01  5.82913027e-01\n",
      "   2.96770879e-01 -2.68844406e-02 -3.19070377e-01 -5.83538246e-01\n",
      "  -8.15286292e-01 -9.61379260e-01 -1.00868754e+00 -9.51375748e-01\n",
      "  -7.99030584e-01 -5.68949790e-01 -3.06149173e-01  8.12785414e-03\n",
      "   3.19487190e-01  6.02920052e-01  8.24664586e-01  9.60545634e-01\n",
      "   1.00952117e+00]]\n",
      ">>> Standard errors: [[0.00311208 0.00508365 0.00647103 0.00840685 0.01174898 0.00974896\n",
      "  0.01091211 0.00834711 0.00962923 0.00492703 0.00358335 0.00593983\n",
      "  0.00622735 0.00859241 0.01150893 0.01225657 0.00722145 0.00777653\n",
      "  0.00657977 0.00425561 0.00328146]\n",
      " [0.00946244 0.01107678 0.00814657 0.00634235 0.00371568 0.00301508\n",
      "  0.00470867 0.00627378 0.00990431 0.01071334 0.00863008 0.00938686\n",
      "  0.00752838 0.00712516 0.00430936 0.00288369 0.00384396 0.00637151\n",
      "  0.00849014 0.01035856 0.01121392]\n",
      " [0.01099137 0.00820371 0.00855019 0.00542064 0.00397107 0.00272263\n",
      "  0.0042295  0.00647912 0.01108998 0.00926638 0.0129413  0.00857598\n",
      "  0.00746132 0.00607475 0.00469916 0.00290266 0.00499685 0.00507354\n",
      "  0.00933596 0.01043583 0.010149  ]\n",
      " [0.00336139 0.00426188 0.0073961  0.0091225  0.00763328 0.00923599\n",
      "  0.01051081 0.00992367 0.00857691 0.00483043 0.00299008 0.00472038\n",
      "  0.00778933 0.00786217 0.01109772 0.0093817  0.00989903 0.00990212\n",
      "  0.00641301 0.00401888 0.00311533]]\n",
      ">>> Metadata: {'shots': 10016, 'target_precision': 0.01, 'circuit_metadata': {}, 'resilience': {}, 'num_randomizations': 32}\n"
     ]
    }
   ],
   "source": [
    "import numpy as np\n",
    "\n",
    "from qiskit.circuit import QuantumCircuit, Parameter\n",
    "from qiskit.quantum_info import SparsePauliOp\n",
    "from qiskit.transpiler import generate_preset_pass_manager\n",
    "from qiskit_ibm_runtime import QiskitRuntimeService, EstimatorV2 as Estimator\n",
    "\n",
    "service = QiskitRuntimeService()\n",
    "backend = service.least_busy(operational=True, simulator=False)\n",
    "\n",
    "# Step 1: Map classical inputs to a quantum problem\n",
    "theta = Parameter(\"θ\")\n",
    "\n",
    "chsh_circuit = QuantumCircuit(2)\n",
    "chsh_circuit.h(0)\n",
    "chsh_circuit.cx(0, 1)\n",
    "chsh_circuit.ry(theta, 0)\n",
    "\n",
    "number_of_phases = 21\n",
    "phases = np.linspace(0, 2 * np.pi, number_of_phases)\n",
    "individual_phases = [[ph] for ph in phases]\n",
    "\n",
    "ZZ = SparsePauliOp.from_list([(\"ZZ\", 1)])\n",
    "ZX = SparsePauliOp.from_list([(\"ZX\", 1)])\n",
    "XZ = SparsePauliOp.from_list([(\"XZ\", 1)])\n",
    "XX = SparsePauliOp.from_list([(\"XX\", 1)])\n",
    "ops = [ZZ, ZX, XZ, XX]\n",
    "\n",
    "# Step 2: Optimize problem for quantum execution.\n",
    "\n",
    "pm = generate_preset_pass_manager(backend=backend, optimization_level=1)\n",
    "chsh_isa_circuit = pm.run(chsh_circuit)\n",
    "isa_observables = [\n",
    "    operator.apply_layout(chsh_isa_circuit.layout) for operator in ops\n",
    "]\n",
    "\n",
    "# Step 3: Execute using Qiskit primitives.\n",
    "\n",
    "# Reshape observable array for broadcasting\n",
    "reshaped_ops = np.fromiter(isa_observables, dtype=object)\n",
    "reshaped_ops = reshaped_ops.reshape((4, 1))\n",
    "\n",
    "estimator = Estimator(backend, options={\"default_shots\": int(1e4)})\n",
    "job = estimator.run([(chsh_isa_circuit, reshaped_ops, individual_phases)])\n",
    "# Get results for the first (and only) PUB\n",
    "pub_result = job.result()[0]\n",
    "print(f\">>> Expectation values: {pub_result.data.evs}\")\n",
    "print(f\">>> Standard errors: {pub_result.data.stds}\")\n",
    "print(f\">>> Metadata: {pub_result.metadata}\")"
   ]
  },
  {
   "cell_type": "markdown",
   "id": "793f0ed1-5682-4aa3-a4a0-7baba71650f9",
   "metadata": {},
   "source": [
    "### Use sessions and advanced options\n",
    "\n",
    "Explore sessions and advanced options to optimize circuit performance on QPUs.\n",
    "\n",
    "<CloudContent>\n",
    "<Admonition type=\"caution\">\n",
    "The following code block will return an error for Open Plan users because it uses sessions. Open Plan workloads can run only in [job mode](/docs/guides/execution-modes#job-mode) or [batch mode](/docs/guides/execution-modes#batch-mode).\n",
    "</Admonition>\n",
    "</CloudContent>"
   ]
  },
  {
   "cell_type": "code",
   "execution_count": 4,
   "id": "d007b547-8546-4ca3-aee6-9a4e3a82598d",
   "metadata": {},
   "outputs": [
    {
     "name": "stdout",
     "output_type": "stream",
     "text": [
      " > Expectation value: 0.07855973813420622\n",
      " > Metadata: {'shots': 4096, 'target_precision': 0.015625, 'circuit_metadata': {}, 'resilience': {}, 'num_randomizations': 32}\n",
      " > Another Expectation value: -1.2060301507537687\n",
      " > More Metadata: {'shots': 4096, 'target_precision': 0.015625, 'circuit_metadata': {}, 'resilience': {}, 'num_randomizations': 32}\n"
     ]
    }
   ],
   "source": [
    "import numpy as np\n",
    "from qiskit.circuit.library import iqp\n",
    "from qiskit.transpiler import generate_preset_pass_manager\n",
    "from qiskit.quantum_info import SparsePauliOp, random_hermitian\n",
    "from qiskit_ibm_runtime import (\n",
    "    QiskitRuntimeService,\n",
    "    Session,\n",
    "    EstimatorV2 as Estimator,\n",
    ")\n",
    "\n",
    "n_qubits = 50\n",
    "\n",
    "service = QiskitRuntimeService()\n",
    "backend = service.least_busy(\n",
    "    operational=True, simulator=False, min_num_qubits=n_qubits\n",
    ")\n",
    "\n",
    "rng = np.random.default_rng(1234)\n",
    "mat = np.real(random_hermitian(n_qubits, seed=rng))\n",
    "circuit = iqp(mat)\n",
    "mat = np.real(random_hermitian(n_qubits, seed=rng))\n",
    "another_circuit = iqp(mat)\n",
    "observable = SparsePauliOp(\"X\" * 50)\n",
    "another_observable = SparsePauliOp(\"Y\" * 50)\n",
    "\n",
    "pm = generate_preset_pass_manager(optimization_level=1, backend=backend)\n",
    "isa_circuit = pm.run(circuit)\n",
    "another_isa_circuit = pm.run(another_circuit)\n",
    "isa_observable = observable.apply_layout(isa_circuit.layout)\n",
    "another_isa_observable = another_observable.apply_layout(\n",
    "    another_isa_circuit.layout\n",
    ")\n",
    "\n",
    "with Session(backend=backend) as session:\n",
    "    estimator = Estimator(mode=session)\n",
    "\n",
    "    estimator.options.resilience_level = 1\n",
    "\n",
    "    job = estimator.run([(isa_circuit, isa_observable)])\n",
    "    another_job = estimator.run(\n",
    "        [(another_isa_circuit, another_isa_observable)]\n",
    "    )\n",
    "    result = job.result()\n",
    "    another_result = another_job.result()\n",
    "\n",
    "    # first job\n",
    "    print(f\" > Expectation value: {result[0].data.evs}\")\n",
    "    print(f\" > Metadata: {result[0].metadata}\")\n",
    "\n",
    "    # second job\n",
    "    print(f\" > Another Expectation value: {another_result[0].data.evs}\")\n",
    "    print(f\" > More Metadata: {another_result[0].metadata}\")"
   ]
  },
  {
   "cell_type": "markdown",
   "id": "12aea3c7-37a1-4a6b-b944-587669aa6611",
   "metadata": {},
   "source": [
    "<span id=\"sampler-examples\"></span>\n",
    "## Sampler examples\n",
    "\n",
    "Generate entire error-mitigated quasi-probability distributions sampled from quantum circuit outputs. Leverage Sampler’s capabilities for search and classification algorithms like Grover’s and QVSM.\n",
    "\n",
    "### Run a single experiment\n",
    "\n",
    "Use Sampler to return the measurement outcome as bitstrings or counts of a single circuit."
   ]
  },
  {
   "cell_type": "code",
   "execution_count": 5,
   "id": "a5a561b3-3819-4f9e-bb64-4c27267e0e96",
   "metadata": {
    "scrolled": true
   },
   "outputs": [
    {
     "name": "stdout",
     "output_type": "stream",
     "text": [
      " > First ten results: ['0100100110001010011101100000010001101011110000100110100101100010111010001011100010001100001001100111100000000001100110010010101', '0110010000011100011110011000000001010010010011011100101100001000100111011011000010001100010101011010000010000111100111001001101', '0011000100001101001000100010101010101010110000010000000110101100101110101111011011000100001101010001001001000000111100000110101', '1001010000001101001011000100101111101000001101100010000110010000000010011010010000010000000000011001011100001000100110111010111', '1110101101000110000111101001000010111100110000010100010101000001101000101001000100100100010101010011010101011111110000001000001', '1101110110000110000101001011001111010100010101011111010111110100000010100001011100000000101010010010001000000010000011110011111', '1100100010011100000000001110001001010100000010001000001001010010001110010110100110010000010111010111110010000001000010100001111', '0000001111000001010010001100010000110100000101001110010010011110000100000011001100110100100001000110101101000010011011100110110', '0100110111000110011000001100010101010101010100001101110000010001000100111101110100100001111110000010001001000011000110011011101', '1011101100000100010011001100100110010100100101100010000101100110101110010001010010000000101000011001000000101000111101110010111']\n"
     ]
    }
   ],
   "source": [
    "import numpy as np\n",
    "from qiskit.circuit.library import iqp\n",
    "from qiskit.transpiler import generate_preset_pass_manager\n",
    "from qiskit.quantum_info import random_hermitian\n",
    "from qiskit_ibm_runtime import QiskitRuntimeService, SamplerV2 as Sampler\n",
    "\n",
    "n_qubits = 127\n",
    "\n",
    "service = QiskitRuntimeService()\n",
    "backend = service.least_busy(\n",
    "    operational=True, simulator=False, min_num_qubits=n_qubits\n",
    ")\n",
    "\n",
    "mat = np.real(random_hermitian(n_qubits, seed=1234))\n",
    "circuit = iqp(mat)\n",
    "circuit.measure_all()\n",
    "\n",
    "pm = generate_preset_pass_manager(backend=backend, optimization_level=1)\n",
    "isa_circuit = pm.run(circuit)\n",
    "\n",
    "sampler = Sampler(backend)\n",
    "job = sampler.run([isa_circuit])\n",
    "result = job.result()\n",
    "\n",
    "# Get results for the first (and only) PUB\n",
    "pub_result = result[0]\n",
    "\n",
    "print(f\" > First ten results: {pub_result.data.meas.get_bitstrings()[:10]}\")"
   ]
  },
  {
   "cell_type": "markdown",
   "id": "c9ea6d3c-b03f-49e2-a8de-d32e58396e02",
   "metadata": {},
   "source": [
    "### Run multiple experiments in a single job\n",
    "\n",
    "Use Sampler to return the measurement outcome as bitstrings or counts of multiple circuits in one job."
   ]
  },
  {
   "cell_type": "code",
   "execution_count": 6,
   "id": "e4534da8-9fe3-402b-8afc-f4bd9fbed497",
   "metadata": {},
   "outputs": [
    {
     "name": "stdout",
     "output_type": "stream",
     "text": [
      " > First ten results for pub 0: ['1000100001101110001101010011010111101011111001101101010111110101111110001001011000011011001001010101100001000010100110001010000', '0001110011110110001101010000110000011000100100000111100100100111000010011010110100000111010001101000111100000000000100011101000', '0101000011001100110111100000100110101100110011110100100010100010101000010010001001000111000000010111111010001100010001101111000', '0011010010110101100101011000111010111110100000000111010100000010101010100011111011001010010001100000111001000000110010001001000', '1111100011000010101100000001101001001101001000011010100001010100011000010000000000000111011111111101110101000001010000111011001', '0101111101010111100000110010000000111101100101010010000001010111110011100000000000001010010110111001000000000100111000011100000', '1111000011010100101010001010011111000011000110010001100110100001100001011000010001100011001001110100100101010110110010111010000', '1101000100010100101110101110011011001111100101000000111100000001110001000000000000011100011010111000100010000111100000001011000', '1010000101100001011011001000011100110110110011000011110110000000010001000100100010111110011110110000100000000000110000111000000', '1110101110100110010000000111000111101001110010010100010101000101110011100000100010010000011101111000001101110000010010100111000']\n",
      " > First ten results for pub 1: ['0101011100011011101101010110001000101010000111110000000000001010011000001010101010100111100011011110011000000100001011011000101', '0000010110010010010101100010100100001110101011110001010111000100000011101000100010000110010100111000000001100000000011001001011', '0000110010011010111001000011011100000010000101101000100011000000010010010110101111100101100011001100000010001011110000110000010', '1111001000000000110110000110010010001001001110111010000001011100001100011000011010000100100011101110100110101001100111100000010', '0100111110000010000100011100101110000000011011111100000101100010100000000001010000010000001001100110010001011101001001101000110', '1100011110111010101100100001001011101010001000101010101101000011111100000011111110011110111000100101110110101001000001011000010', '0001101100101011010011110000010100101011111011110111001110110000101111010001101010110111000010100110010011000000000010100010100', '0000010110001011000000111000010000111000010110011000000110100101001000100000101111000100001001001001010101010101001001000001100', '0100001000111110100010111101001100111110111001001001011011110111110101010011011011000010000001100111000000100101100000101100110', '1110111110010000100110110011001000010011011010011001000000000110101000100001000100100000100101010100011001000000011100001000010']\n",
      " > First ten results for pub 2: ['1011100100101010000000011001010110010110000101010001101000111111010010110000110001010000001011110000100000000010011000000001011', '0011100110001011000000101000011101000001010110111100101100100011001000100000001001110100010001100010001000100011000000000000001', '0101111011010110011011010100100111110110011110100111101000010100101000010000011100001110101011110100010100010011010000000101100', '1001000111101000001001110011001100100001000111000101001100111001101100011000010010110001001101000001111001010011011010010011011', '1000100111110100110110111100110110110001001110110111011111111001101100110101001101100100001011010011010000110001011001010000100', '1010100111100011000001100100100111000011111010110100111000001111001110111000111010100100010001000100100110000001011000010010110', '0000110010100000011011110100111111000000100110101001010100100110100101001101010011111011101101100101100110100011011000000010010', '1100010010101011101011101001100001000101001010010100000011000101101010010000010001000000000101110010010100010010011011000110010', '0010001001111010000110011010010110010000110100000011010110110001100000101000000111101101001001010100010011000001000000010010101', '1110100001000101011100000001111010001001111011001011010100101001100000000100000000101100001000011101001100100011000001011001000']\n"
     ]
    }
   ],
   "source": [
    "import numpy as np\n",
    "from qiskit.circuit.library import iqp\n",
    "from qiskit.transpiler import generate_preset_pass_manager\n",
    "from qiskit.quantum_info import random_hermitian\n",
    "from qiskit_ibm_runtime import QiskitRuntimeService, SamplerV2 as Sampler\n",
    "\n",
    "n_qubits = 127\n",
    "\n",
    "service = QiskitRuntimeService()\n",
    "backend = service.least_busy(\n",
    "    operational=True, simulator=False, min_num_qubits=n_qubits\n",
    ")\n",
    "\n",
    "rng = np.random.default_rng()\n",
    "mats = [np.real(random_hermitian(n_qubits, seed=rng)) for _ in range(3)]\n",
    "circuits = [iqp(mat) for mat in mats]\n",
    "for circuit in circuits:\n",
    "    circuit.measure_all()\n",
    "\n",
    "pm = generate_preset_pass_manager(backend=backend, optimization_level=1)\n",
    "isa_circuits = pm.run(circuits)\n",
    "\n",
    "sampler = Sampler(mode=backend)\n",
    "job = sampler.run(isa_circuits)\n",
    "result = job.result()\n",
    "\n",
    "for idx, pub_result in enumerate(result):\n",
    "    print(\n",
    "        f\" > First ten results for pub {idx}: {pub_result.data.meas.get_bitstrings()[:10]}\"\n",
    "    )"
   ]
  },
  {
   "cell_type": "markdown",
   "id": "e3ce4f13-b772-4ee6-ba9d-d98da633ab5c",
   "metadata": {},
   "source": [
    "### Run parameterized circuits\n",
    "\n",
    "Run several experiments in a single job, leveraging parameter values to increase circuit reusability."
   ]
  },
  {
   "cell_type": "code",
   "execution_count": 7,
   "id": "c63c9cb6-0650-433c-b3d6-dcde06e465e4",
   "metadata": {},
   "outputs": [
    {
     "name": "stdout",
     "output_type": "stream",
     "text": [
      " >> First ten results for the meas output register: ['0111110010011111011101000101100001000110011000011110001000100011001011000000100100111010110000110101011000011010101100111000101', '1100110010000001111001010100010000010100000011101100000011000100100000100000110010110001001100000110110101011000111011010001011', '0001101011001001110000110101010100100110000000000101101101001110010000000001100100010001000110111110000000100011001100110001101', '0001010001011101110101100000110010100000101011100111100011000110110100001100101011111111000111000001101111000001100100110100001', '1101011000010111110001001000011011100000011001001111010011001110100000100011001001100001000101100110110000110001010001101110101', '0111100101100101010111000111100001110000111001000110011000101000101110101001010010010000001111010101101001000111010110100000010', '1110011011100110111011000100101110110110100000101000111111101111111011101010111110010000000101100011111111110100010111000110110', '1101110001001101011011001000110011100010101000110011100010111111011011101111101100001101001010000111100000100000011100110100011', '0101011011000101110000001100011000000100101010001011000110111111111001111000111001010111111101110001010101011111111011001010101', '0101110001110101100000100100000101100101011000000001001011111111100100111010011001110011000000100001001010010111110101000010111']\n"
     ]
    }
   ],
   "source": [
    "import numpy as np\n",
    "from qiskit.circuit.library import real_amplitudes\n",
    "from qiskit.transpiler import generate_preset_pass_manager\n",
    "from qiskit_ibm_runtime import QiskitRuntimeService, SamplerV2 as Sampler\n",
    "\n",
    "n_qubits = 127\n",
    "\n",
    "service = QiskitRuntimeService()\n",
    "backend = service.least_busy(\n",
    "    operational=True, simulator=False, min_num_qubits=n_qubits\n",
    ")\n",
    "\n",
    "# Step 1: Map classical inputs to a quantum problem\n",
    "circuit = real_amplitudes(num_qubits=n_qubits, reps=2)\n",
    "circuit.measure_all()\n",
    "\n",
    "# Define three sets of parameters for the circuit\n",
    "rng = np.random.default_rng(1234)\n",
    "parameter_values = [\n",
    "    rng.uniform(-np.pi, np.pi, size=circuit.num_parameters) for _ in range(3)\n",
    "]\n",
    "\n",
    "# Step 2: Optimize problem for quantum execution.\n",
    "\n",
    "pm = generate_preset_pass_manager(backend=backend, optimization_level=1)\n",
    "isa_circuit = pm.run(circuit)\n",
    "\n",
    "# Step 3: Execute using Qiskit primitives.\n",
    "sampler = Sampler(backend)\n",
    "job = sampler.run([(isa_circuit, parameter_values)])\n",
    "result = job.result()\n",
    "# Get results for the first (and only) PUB\n",
    "pub_result = result[0]\n",
    "# Get counts from the classical register \"meas\".\n",
    "print(\n",
    "    f\" >> First ten results for the meas output register: {pub_result.data.meas.get_bitstrings()[:10]}\"\n",
    ")"
   ]
  },
  {
   "cell_type": "markdown",
   "id": "a8b00d2a-3c5d-4670-9774-d39cdb262552",
   "metadata": {},
   "source": [
    "### Use sessions and advanced options\n",
    "\n",
    "Explore sessions and advanced options to optimize circuit performance on QPUs.\n",
    "\n",
    "<CloudContent>\n",
    "<Admonition type=\"caution\">\n",
    "The following code block will return an error for users on the Open Plan, because it uses sessions. Workloads on the Open Plan can run only in [job mode](/docs/guides/execution-modes#job-mode) or [batch mode](/docs/guides/execution-modes#batch-mode).\n",
    "</Admonition>\n",
    "</CloudContent>"
   ]
  },
  {
   "cell_type": "code",
   "execution_count": 8,
   "id": "881fdac4-973b-4cef-a3da-c011d326ff54",
   "metadata": {
    "scrolled": true
   },
   "outputs": [
    {
     "name": "stdout",
     "output_type": "stream",
     "text": [
      " > The first ten measurement results of job 1: ['0010100010000000000000111011000110000010111000101100100100100010100100010001000110111100010100101111000100111101000010100100101', '1010011100010000100011001101111101101011010101100000101101101010110110010000001101110110001010101100100010001000011101010000000', '0010111110111011000000101110101011111010111101010100101101000101111011100100010101010000101110011101010011101110000011000100001', '0001110011001000011001110110100101100000110010110010010000001110011101100100000101010000001111101001111000111010010110001000100', '1100110100000000011110111000001001010010001111010010000010111011001110000111000000111010100101010111010100000110110011100100100', '1101101110001010000000001011000111100011000010100110101001100111001011100000000001011000000010100010010000100010100000110010000', '0011000110000100110010000111101101001100100000001000000100011101101010001010000001001100100101110111110001001100001001100101001', '1010101010001000110100001000010100100101110000111010011100000010001000110111001111010110000101100100110100100100100000010000100', '1101110110110110000000100000111010010100100001000010111101000110000110110110010111000100100000000100010001100110100000001100000', '1001100101111001010110010001011011011000101001111000011100000001111100100010000001001010000001100010100001000100011001110010000']\n"
     ]
    }
   ],
   "source": [
    "import numpy as np\n",
    "from qiskit.circuit.library import iqp\n",
    "from qiskit.quantum_info import random_hermitian\n",
    "from qiskit.transpiler import generate_preset_pass_manager\n",
    "from qiskit_ibm_runtime import Session, SamplerV2 as Sampler\n",
    "from qiskit_ibm_runtime import QiskitRuntimeService\n",
    "\n",
    "n_qubits = 127\n",
    "\n",
    "service = QiskitRuntimeService()\n",
    "backend = service.least_busy(\n",
    "    operational=True, simulator=False, min_num_qubits=n_qubits\n",
    ")\n",
    "\n",
    "rng = np.random.default_rng(1234)\n",
    "mat = np.real(random_hermitian(n_qubits, seed=rng))\n",
    "circuit = iqp(mat)\n",
    "circuit.measure_all()\n",
    "mat = np.real(random_hermitian(n_qubits, seed=rng))\n",
    "another_circuit = iqp(mat)\n",
    "another_circuit.measure_all()\n",
    "\n",
    "pm = generate_preset_pass_manager(backend=backend, optimization_level=1)\n",
    "isa_circuit = pm.run(circuit)\n",
    "another_isa_circuit = pm.run(another_circuit)\n",
    "\n",
    "with Session(backend=backend) as session:\n",
    "    sampler = Sampler(mode=session)\n",
    "    job = sampler.run([isa_circuit])\n",
    "    another_job = sampler.run([another_isa_circuit])\n",
    "    result = job.result()\n",
    "    another_result = another_job.result()\n",
    "\n",
    "# first job\n",
    "\n",
    "print(\n",
    "    f\" > The first ten measurement results of job 1: {result[0].data.meas.get_bitstrings()[:10]}\"\n",
    ")"
   ]
  },
  {
   "cell_type": "code",
   "execution_count": 9,
   "id": "40fe2a06-edfc-41a8-9054-7f31ab93a00c",
   "metadata": {},
   "outputs": [
    {
     "name": "stdout",
     "output_type": "stream",
     "text": [
      " > The first ten measurement results of job 2: ['0001010100111000010100100011001101111100101100101110000110000100101100101011001100001011101001100100000100010000111011001011101', '0001110000000011110000000101000111111000010110111000101110000010011100110000110110001010101001000000011001010010011000001100000', '0001001010000100100101110001111101000101010001011110100010010000100000100011100111001100101110101100010000000010011110110100100', '0001111011111000110000011011010010100000000101111000000010010100010110010111010100101111011010000010000010111000110011110110000', '1001000001010110010100100100101000111010100010010000100010000000000011001100110111001010010000111100010010010001101010000001000', '0010100110111010011011010011000111111100111110011100100010000010100000000101100011010101101010011010101100001100010000110000001', '0000101000010011101001010010011101101100100010111010011110000100110100100110000101000101011001001000001001011000001010010100000', '1000111000001000011100001101101000100101001011010100001110000010010111000000100010100101010000010100010110101010000001101011100', '1011100001011101001100100111000011110000000101100000000000110010011111001100110101011000001100010000111100101010001011001100100', '1100010101011011110001100001000110011101111010111111100100000010100001110000110110001100100000000000010100111101000001110000000']\n"
     ]
    }
   ],
   "source": [
    "# second job\n",
    "print(\n",
    "    \" > The first ten measurement results of job 2:\",\n",
    "    another_result[0].data.meas.get_bitstrings()[:10],\n",
    ")"
   ]
  },
  {
   "cell_type": "markdown",
   "id": "551e1894-a12a-4f6c-8347-020fdc9db74e",
   "metadata": {},
   "source": [
    "## Next steps\n",
    "\n",
    "<Admonition type=\"tip\" title=\"Recommendations\">\n",
    "    - [Specify advanced runtime options.](runtime-options-overview)\n",
    "    - Practice with primitives by working through the [Cost function lesson](/learning/courses/variational-algorithm-design/cost-functions) in IBM Quantum Learning.\n",
    "    - Learn how to transpile locally in the [Transpile](./transpile/) section.\n",
    "    - Try the [Compare transpiler settings](/docs/tutorials/circuit-transpilation-settings) tutorial.\n",
    "    - Read [Migrate to V2 primitives](/docs/migration-guides/v2-primitives).\n",
    "    - Understand the [Job limits](/docs/guides/job-limits) when sending a job to an IBM&reg; QPU.\n",
    "</Admonition>"
   ]
  }
 ],
 "metadata": {
  "description": "Practical examples of using primitives in Qiskit Runtime.",
  "kernelspec": {
   "display_name": "Python 3",
   "language": "python",
   "name": "python3"
  },
  "language_info": {
   "codemirror_mode": {
    "name": "ipython",
    "version": 3
   },
   "file_extension": ".py",
   "mimetype": "text/x-python",
   "name": "python",
   "nbconvert_exporter": "python",
   "pygments_lexer": "ipython3",
   "version": "3"
  },
  "title": "Primitives examples"
 },
 "nbformat": 4,
 "nbformat_minor": 4
}
