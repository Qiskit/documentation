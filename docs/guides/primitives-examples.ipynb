{
 "cells": [
  {
   "cell_type": "markdown",
   "id": "1f4a2ec4-3595-4300-8f9e-092b0ef9b444",
   "metadata": {},
   "source": [
    "# Primitives examples"
   ]
  },
  {
   "cell_type": "markdown",
   "id": "b4121e48",
   "metadata": {
    "tags": [
     "version-info"
    ]
   },
   "source": [
    "<details>\n",
    "<summary><b>Package versions</b></summary>\n",
    "\n",
    "The code on this page was developed using the following requirements.\n",
    "We recommend using these versions or newer.\n",
    "\n",
    "```\n",
    "qiskit[all]~=2.1.1\n",
    "qiskit-ibm-runtime~=0.40.1\n",
    "```\n",
    "</details>"
   ]
  },
  {
   "cell_type": "markdown",
   "id": "bae32e60",
   "metadata": {},
   "source": [
    "The examples in this section illustrate some common ways to use primitives. Before running these examples, follow the instructions in [Install and set up.](install-qiskit)\n",
    "\n",
    "<Admonition type=\"note\">\n",
    "    These examples all use the primitives from Qiskit Runtime, but you could use the base primitives instead.\n",
    "</Admonition>\n",
    "\n",
    "## Estimator examples\n",
    "\n",
    "Efficiently calculate and interpret expectation values of the quantum operators required for many algorithms with Estimator. Explore uses in molecular modeling, machine learning, and complex optimization problems.\n",
    "\n",
    "### Run a single experiment\n",
    "\n",
    "Use Estimator to determine the expectation value of a single circuit-observable pair."
   ]
  },
  {
   "cell_type": "code",
   "execution_count": 1,
   "id": "24573866-7cf2-40e1-b61c-a2bdcecb759b",
   "metadata": {},
   "outputs": [
    {
     "name": "stdout",
     "output_type": "stream",
     "text": [
      " > Expectation value: -0.1980952380952381\n",
      " > Metadata: {'shots': 4096, 'target_precision': 0.015625, 'circuit_metadata': {}, 'resilience': {}, 'num_randomizations': 32}\n"
     ]
    }
   ],
   "source": [
    "import numpy as np\n",
    "from qiskit.circuit.library import iqp\n",
    "from qiskit.transpiler import generate_preset_pass_manager\n",
    "from qiskit.quantum_info import SparsePauliOp, random_hermitian\n",
    "from qiskit_ibm_runtime import QiskitRuntimeService, EstimatorV2 as Estimator\n",
    "\n",
    "n_qubits = 50\n",
    "\n",
    "service = QiskitRuntimeService()\n",
    "backend = service.least_busy(\n",
    "    operational=True, simulator=False, min_num_qubits=n_qubits\n",
    ")\n",
    "\n",
    "mat = np.real(random_hermitian(n_qubits, seed=1234))\n",
    "circuit = iqp(mat)\n",
    "observable = SparsePauliOp(\"Z\" * 50)\n",
    "\n",
    "pm = generate_preset_pass_manager(backend=backend, optimization_level=1)\n",
    "isa_circuit = pm.run(circuit)\n",
    "isa_observable = observable.apply_layout(isa_circuit.layout)\n",
    "\n",
    "estimator = Estimator(mode=backend)\n",
    "job = estimator.run([(isa_circuit, isa_observable)])\n",
    "result = job.result()\n",
    "\n",
    "print(f\" > Expectation value: {result[0].data.evs}\")\n",
    "print(f\" > Metadata: {result[0].metadata}\")"
   ]
  },
  {
   "cell_type": "markdown",
   "id": "63769604-ec9e-4ff3-823d-e60f4eb8a877",
   "metadata": {},
   "source": [
    "### Run multiple experiments in a single job\n",
    "\n",
    "Use Estimator to determine the expectation values of multiple circuit-observable pairs."
   ]
  },
  {
   "cell_type": "code",
   "execution_count": 2,
   "id": "bf4668bd-aaaf-4b23-af4b-4df767bd6d1a",
   "metadata": {},
   "outputs": [
    {
     "name": "stdout",
     "output_type": "stream",
     "text": [
      ">>> Expectation values for PUB 0: -1.4\n",
      ">>> Standard errors for PUB 0: 1.7722556772505693\n",
      ">>> Expectation values for PUB 1: 0.029296875\n",
      ">>> Standard errors for PUB 1: 0.011935455626543277\n",
      ">>> Expectation values for PUB 2: -1.3103448275862069\n",
      ">>> Standard errors for PUB 2: 1.947569832100723\n"
     ]
    }
   ],
   "source": [
    "import numpy as np\n",
    "from qiskit.circuit.library import iqp\n",
    "from qiskit.transpiler import generate_preset_pass_manager\n",
    "from qiskit.quantum_info import SparsePauliOp, random_hermitian\n",
    "from qiskit_ibm_runtime import QiskitRuntimeService, EstimatorV2 as Estimator\n",
    "\n",
    "n_qubits = 50\n",
    "\n",
    "service = QiskitRuntimeService()\n",
    "backend = service.least_busy(\n",
    "    operational=True, simulator=False, min_num_qubits=n_qubits\n",
    ")\n",
    "\n",
    "rng = np.random.default_rng()\n",
    "mats = [np.real(random_hermitian(n_qubits, seed=rng)) for _ in range(3)]\n",
    "\n",
    "pubs = []\n",
    "circuits = [iqp(mat) for mat in mats]\n",
    "observables = [\n",
    "    SparsePauliOp(\"X\" * 50),\n",
    "    SparsePauliOp(\"Y\" * 50),\n",
    "    SparsePauliOp(\"Z\" * 50),\n",
    "]\n",
    "\n",
    "# Get ISA circuits\n",
    "pm = generate_preset_pass_manager(optimization_level=1, backend=backend)\n",
    "\n",
    "for qc, obs in zip(circuits, observables):\n",
    "    isa_circuit = pm.run(qc)\n",
    "    isa_obs = obs.apply_layout(isa_circuit.layout)\n",
    "    pubs.append((isa_circuit, isa_obs))\n",
    "\n",
    "estimator = Estimator(backend)\n",
    "job = estimator.run(pubs)\n",
    "job_result = job.result()\n",
    "\n",
    "for idx in range(len(pubs)):\n",
    "    pub_result = job_result[idx]\n",
    "    print(f\">>> Expectation values for PUB {idx}: {pub_result.data.evs}\")\n",
    "    print(f\">>> Standard errors for PUB {idx}: {pub_result.data.stds}\")"
   ]
  },
  {
   "cell_type": "markdown",
   "id": "60bf051a-40f8-47a9-b74d-38713bc15210",
   "metadata": {},
   "source": [
    "### Run parameterized circuits\n",
    "\n",
    "Use Estimator to run three experiments in a single job, leveraging parameter values to increase circuit reusability."
   ]
  },
  {
   "cell_type": "code",
   "execution_count": 3,
   "id": "67dc98b8-499c-44d9-ada1-6abc9d6198c0",
   "metadata": {},
   "outputs": [
    {
     "name": "stdout",
     "output_type": "stream",
     "text": [
      ">>> Expectation values: [[ 1.07279853  1.0169848   0.88185684  0.62129487  0.32078203 -0.02173798\n",
      "  -0.34398879 -0.62834503 -0.85218744 -1.02197866 -1.06163578 -0.99348429\n",
      "  -0.87069409 -0.61718228 -0.29963157 -0.00323132  0.28876258  0.61042589\n",
      "   0.86011886  1.01639729  1.07602985]\n",
      " [ 0.00176254  0.3695456   0.66741464  0.88655694  1.03020384  1.07191726\n",
      "   1.01463475  0.84278723  0.61277594  0.32988848 -0.01204401 -0.35015768\n",
      "  -0.65830819 -0.87921303 -1.02756003 -1.06251705 -1.01845358 -0.85600627\n",
      "  -0.61013213 -0.31050056  0.00381883]\n",
      " [-0.01733163 -0.32225082 -0.59661933 -0.86599399 -1.01199094 -1.05634817\n",
      "  -1.00376576 -0.83544332 -0.65067052 -0.31784447 -0.00499386  0.31138183\n",
      "   0.62041361  0.83368078  0.99260302  1.04812299  0.98555286  0.87275039\n",
      "   0.62305741  0.30785675  0.01321904]\n",
      " [ 1.03490395  0.98437784  0.84190596  0.59779436  0.29316893 -0.03231321\n",
      "  -0.33370732 -0.63539518 -0.85130617 -1.00846587 -1.05164806 -1.00141571\n",
      "  -0.84190596 -0.59691309 -0.30991305 -0.0067564   0.35221397  0.61600726\n",
      "   0.87421917  0.99348429  1.02697252]]\n",
      ">>> Standard errors: [[0.01302292 0.01083604 0.0175495  0.01687669 0.02065479 0.01943032\n",
      "  0.01854959 0.01679757 0.0137509  0.01359397 0.00856402 0.01473843\n",
      "  0.01289064 0.0138504  0.01826132 0.01938842 0.01244848 0.01312172\n",
      "  0.01361015 0.01181195 0.01086378]\n",
      " [0.01484815 0.01254963 0.01354279 0.01187622 0.01139873 0.01221494\n",
      "  0.01083219 0.01536171 0.01063819 0.01529376 0.01508641 0.01542846\n",
      "  0.01473592 0.01402435 0.01226627 0.01404755 0.01529026 0.01250992\n",
      "  0.01640043 0.01372086 0.01471343]\n",
      " [0.01340168 0.01684489 0.01212444 0.01178061 0.0121186  0.01258341\n",
      "  0.01212366 0.01447738 0.01537888 0.02113918 0.01594147 0.01854025\n",
      "  0.01687114 0.01641633 0.01209186 0.01109417 0.01140418 0.01619883\n",
      "  0.01178437 0.01686741 0.01892118]\n",
      " [0.00958517 0.01375469 0.01222434 0.01244867 0.01239451 0.01794634\n",
      "  0.0143546  0.0156739  0.01387285 0.01139306 0.0131203  0.01113901\n",
      "  0.01455714 0.01380562 0.01986175 0.01559813 0.01570442 0.0160661\n",
      "  0.01285388 0.01225094 0.011008  ]]\n",
      ">>> Metadata: {'shots': 10016, 'target_precision': 0.01, 'circuit_metadata': {}, 'resilience': {}, 'num_randomizations': 32}\n"
     ]
    }
   ],
   "source": [
    "import numpy as np\n",
    "\n",
    "from qiskit.circuit import QuantumCircuit, Parameter\n",
    "from qiskit.quantum_info import SparsePauliOp\n",
    "from qiskit.transpiler import generate_preset_pass_manager\n",
    "from qiskit_ibm_runtime import QiskitRuntimeService, EstimatorV2 as Estimator\n",
    "\n",
    "service = QiskitRuntimeService()\n",
    "backend = service.least_busy(operational=True, simulator=False)\n",
    "\n",
    "# Step 1: Map classical inputs to a quantum problem\n",
    "theta = Parameter(\"θ\")\n",
    "\n",
    "chsh_circuit = QuantumCircuit(2)\n",
    "chsh_circuit.h(0)\n",
    "chsh_circuit.cx(0, 1)\n",
    "chsh_circuit.ry(theta, 0)\n",
    "\n",
    "number_of_phases = 21\n",
    "phases = np.linspace(0, 2 * np.pi, number_of_phases)\n",
    "individual_phases = [[ph] for ph in phases]\n",
    "\n",
    "ZZ = SparsePauliOp.from_list([(\"ZZ\", 1)])\n",
    "ZX = SparsePauliOp.from_list([(\"ZX\", 1)])\n",
    "XZ = SparsePauliOp.from_list([(\"XZ\", 1)])\n",
    "XX = SparsePauliOp.from_list([(\"XX\", 1)])\n",
    "ops = [ZZ, ZX, XZ, XX]\n",
    "\n",
    "# Step 2: Optimize problem for quantum execution.\n",
    "\n",
    "pm = generate_preset_pass_manager(backend=backend, optimization_level=1)\n",
    "chsh_isa_circuit = pm.run(chsh_circuit)\n",
    "isa_observables = [\n",
    "    operator.apply_layout(chsh_isa_circuit.layout) for operator in ops\n",
    "]\n",
    "\n",
    "# Step 3: Execute using Qiskit primitives.\n",
    "\n",
    "# Reshape observable array for broadcasting\n",
    "reshaped_ops = np.fromiter(isa_observables, dtype=object)\n",
    "reshaped_ops = reshaped_ops.reshape((4, 1))\n",
    "\n",
    "estimator = Estimator(backend, options={\"default_shots\": int(1e4)})\n",
    "job = estimator.run([(chsh_isa_circuit, reshaped_ops, individual_phases)])\n",
    "# Get results for the first (and only) PUB\n",
    "pub_result = job.result()[0]\n",
    "print(f\">>> Expectation values: {pub_result.data.evs}\")\n",
    "print(f\">>> Standard errors: {pub_result.data.stds}\")\n",
    "print(f\">>> Metadata: {pub_result.metadata}\")"
   ]
  },
  {
   "cell_type": "markdown",
   "id": "793f0ed1-5682-4aa3-a4a0-7baba71650f9",
   "metadata": {},
   "source": [
    "### Use sessions and advanced options\n",
    "\n",
    "Explore sessions and advanced options to optimize circuit performance on QPUs.\n",
    "\n",
    "\n",
    "<Admonition type=\"caution\">\n",
    "The following code block will return an error for Open Plan users because it uses sessions. Open Plan workloads can run only in [job mode](/docs/guides/execution-modes#job-mode) or [batch mode](/docs/guides/execution-modes#batch-mode).\n",
    "</Admonition>"
   ]
  },
  {
   "cell_type": "code",
   "execution_count": 4,
   "id": "d007b547-8546-4ca3-aee6-9a4e3a82598d",
   "metadata": {},
   "outputs": [
    {
     "name": "stdout",
     "output_type": "stream",
     "text": [
      " > Expectation value: 0.579185520361991\n",
      " > Metadata: {'shots': 4096, 'target_precision': 0.015625, 'circuit_metadata': {}, 'resilience': {}, 'num_randomizations': 32}\n",
      " > Another Expectation value: 0.4346076458752515\n",
      " > More Metadata: {'shots': 4096, 'target_precision': 0.015625, 'circuit_metadata': {}, 'resilience': {}, 'num_randomizations': 32}\n"
     ]
    }
   ],
   "source": [
    "import numpy as np\n",
    "from qiskit.circuit.library import iqp\n",
    "from qiskit.transpiler import generate_preset_pass_manager\n",
    "from qiskit.quantum_info import SparsePauliOp, random_hermitian\n",
    "from qiskit_ibm_runtime import (\n",
    "    QiskitRuntimeService,\n",
    "    Session,\n",
    "    EstimatorV2 as Estimator,\n",
    ")\n",
    "\n",
    "n_qubits = 50\n",
    "\n",
    "service = QiskitRuntimeService()\n",
    "backend = service.least_busy(\n",
    "    operational=True, simulator=False, min_num_qubits=n_qubits\n",
    ")\n",
    "\n",
    "rng = np.random.default_rng(1234)\n",
    "mat = np.real(random_hermitian(n_qubits, seed=rng))\n",
    "circuit = iqp(mat)\n",
    "mat = np.real(random_hermitian(n_qubits, seed=rng))\n",
    "another_circuit = iqp(mat)\n",
    "observable = SparsePauliOp(\"X\" * 50)\n",
    "another_observable = SparsePauliOp(\"Y\" * 50)\n",
    "\n",
    "pm = generate_preset_pass_manager(optimization_level=1, backend=backend)\n",
    "isa_circuit = pm.run(circuit)\n",
    "another_isa_circuit = pm.run(another_circuit)\n",
    "isa_observable = observable.apply_layout(isa_circuit.layout)\n",
    "another_isa_observable = another_observable.apply_layout(\n",
    "    another_isa_circuit.layout\n",
    ")\n",
    "\n",
    "with Session(backend=backend) as session:\n",
    "    estimator = Estimator(mode=session)\n",
    "\n",
    "    estimator.options.resilience_level = 1\n",
    "\n",
    "    job = estimator.run([(isa_circuit, isa_observable)])\n",
    "    another_job = estimator.run(\n",
    "        [(another_isa_circuit, another_isa_observable)]\n",
    "    )\n",
    "    result = job.result()\n",
    "    another_result = another_job.result()\n",
    "\n",
    "    # first job\n",
    "    print(f\" > Expectation value: {result[0].data.evs}\")\n",
    "    print(f\" > Metadata: {result[0].metadata}\")\n",
    "\n",
    "    # second job\n",
    "    print(f\" > Another Expectation value: {another_result[0].data.evs}\")\n",
    "    print(f\" > More Metadata: {another_result[0].metadata}\")"
   ]
  },
  {
   "cell_type": "markdown",
   "id": "12aea3c7-37a1-4a6b-b944-587669aa6611",
   "metadata": {},
   "source": [
    "<span id=\"sampler-examples\"></span>\n",
    "## Sampler examples\n",
    "\n",
    "Generate entire error-mitigated quasi-probability distributions sampled from quantum circuit outputs. Leverage Sampler’s capabilities for search and classification algorithms like Grover’s and QVSM.\n",
    "\n",
    "### Run a single experiment\n",
    "\n",
    "Use Sampler to return the measurement outcome as bitstrings or counts of a single circuit."
   ]
  },
  {
   "cell_type": "code",
   "execution_count": 5,
   "id": "a5a561b3-3819-4f9e-bb64-4c27267e0e96",
   "metadata": {
    "scrolled": true
   },
   "outputs": [
    {
     "name": "stdout",
     "output_type": "stream",
     "text": [
      " > First ten results: ['1001111010100100010000010110010010101101000111010000010011001101010100110100100101000010010000111010010010001000100010000000010', '0110110110011101001000111011010000010000101110000000111011100111100110111000010100011000100000100000111100000001010110000011001', '0001010100110001001100111110000001011011000011110101110011001011000111111100101010000000100011001010010010110001000100100100000', '1011001001100001000010101110110010100101000010011011001100101110100110100010100101000001000110011001110010101101000001001010010', '0110111001010100000010110011000100011001100101000010000000000100100000001000100010001100101000110001010100000101001100001000001', '1011111101010101110110000110001100000001100100000000100011011001001100011101000000101000001000011001110000100010000001100110010', '0010110000010000001100011001110110011111101100011001010111110010000000110100000000000010000001111000000101000000100100111011001', '1101100001101000110101110011010001001010000111010010000000001001101010000111000100111110100001110000000100100011011111101000001', '1000001110100100100010110111111100111110001100110000111001100001100010000001001001100110110000011101010110100100101010001000100', '0101101100000100011110010000010011101001110100011010100100010110010100101000010010100100110000110000000000001100000111000001000']\n"
     ]
    }
   ],
   "source": [
    "import numpy as np\n",
    "from qiskit.circuit.library import iqp\n",
    "from qiskit.transpiler import generate_preset_pass_manager\n",
    "from qiskit.quantum_info import random_hermitian\n",
    "from qiskit_ibm_runtime import QiskitRuntimeService, SamplerV2 as Sampler\n",
    "\n",
    "n_qubits = 127\n",
    "\n",
    "service = QiskitRuntimeService()\n",
    "backend = service.least_busy(\n",
    "    operational=True, simulator=False, min_num_qubits=n_qubits\n",
    ")\n",
    "\n",
    "mat = np.real(random_hermitian(n_qubits, seed=1234))\n",
    "circuit = iqp(mat)\n",
    "circuit.measure_all()\n",
    "\n",
    "pm = generate_preset_pass_manager(backend=backend, optimization_level=1)\n",
    "isa_circuit = pm.run(circuit)\n",
    "\n",
    "sampler = Sampler(backend)\n",
    "job = sampler.run([isa_circuit])\n",
    "result = job.result()\n",
    "\n",
    "# Get results for the first (and only) PUB\n",
    "pub_result = result[0]\n",
    "\n",
    "print(f\" > First ten results: {pub_result.data.meas.get_bitstrings()[:10]}\")"
   ]
  },
  {
   "cell_type": "markdown",
   "id": "c9ea6d3c-b03f-49e2-a8de-d32e58396e02",
   "metadata": {},
   "source": [
    "### Run multiple experiments in a single job\n",
    "\n",
    "Use Sampler to return the measurement outcome as bitstrings or counts of multiple circuits in one job."
   ]
  },
  {
   "cell_type": "code",
   "execution_count": 6,
   "id": "e4534da8-9fe3-402b-8afc-f4bd9fbed497",
   "metadata": {},
   "outputs": [
    {
     "name": "stdout",
     "output_type": "stream",
     "text": [
      " > First ten results for pub 0: ['0000101101000111000011001100100110011101000100000001101011100010000010100011010100110001000010011001000000000011010011000010111', '1100001110110000110000110110000110000011111010111100100101010100001011010100110000100001010011000010101010001110011000000100010', '0100100001001101011100010110101101101101011001010001010010010101100111000000110000011101000101111000010100000111000001010000000', '0100001101111110000000100100100000100001100101110000010000011100101111010110000000111000000010000001100100001100010000101001000', '0010101101110111110011111001000100111010011000101110100100101110000011100100010100011001000010000000000100000100001100110010110', '0110011000110001101111000001100100000110110100000010010001100011010010000100010110100000110000101100000000100000010011010010110', '0010101001100001111001111001000111011100110110000011001000000010100010101001101100011001101101110110000000000110010011000001111', '0010101011011010010000000110000010100110101001111111010000111000000100010010011000011001010000011010100001010010001000001000111', '1100111000111000111111100000000111010011010001010001100000010100001000011011110011001100010100111100010000001010000010110000010', '0010000011010101000011101010000111100010110011001000000111111010000110010111001100000000011001001000110110010001100011100001010']\n",
      " > First ten results for pub 1: ['0011100000001000001111011000111011111101001001010100000010001111000001101100110000100000010001011001011100101010100000000000100', '0110001100101111010001000011000100110001100101000001100110011111100000101001101000001000100100000000001000000000101100100000000', '0000011001111101111101011101110111011001010010010101000001010000111100010001010110000010111000111000000000100001100000010100100', '0011001010011101000100010000000011000000101000100101100111010100010000010000010010001000010111000001000000100001110100000100001', '0110111011011011101000100010111011010101010011100000000010010010001110011010110100010001000001000100111000010010101001100010000', '1010101011000000110000000110011011011100111101100011000101001100110000110010010100100010100011010000110000100101101110100001010', '1111101000011001110000010001001110110110010000100101101111010010101100000100010000001010011000001000000011010010100000110101001', '0100001111011000000000111001000001010111110011110101010001000010011000001101101100010110001011000111101001000101100010110010011', '0100100011100101000010100111000001100111000111010010000001011101100000111101011000100110011000000000000000011100001010100000000', '0000000011100110000001001001101011110101111000100010000111011100000100100000000010000000000000001010101100001000001001100110001']\n",
      " > First ten results for pub 2: ['0011100011100001011100001000001000011000101000111110101110000100011110001100111001111101010000011000100000110111010001011011001', '1010001010110100100101001100000001010011100000001001111100010101000000101001101110111001000000111001001010110100010001000011100', '1011100001000011000100110001011110001110101111110010011000100111001000010000010100010101010111000000101010101011000111110100001', '0010101100110011010011110011010100110101000001010001000110100001000100011101001001100101110100101001001001010000010111101000000', '1000001111100011101000000100001101000000010001110111101010111101000010011001001100111101000101000000100010001100001110000000000', '0001011010100001100001001110001100111010100010100010000100110100110010011100001001100001010010000001101000101100011110000001100', '1010101010110000111111100000110001000010110001100100111010011001010100001010000101000001100000001101011010000000010110001111101', '0111101001001000000100101111011010000110001000010010110110011010000000001010010010000110000010000001011000000010001111110101111', '0001000010111100110000000000000011000110101100101111110110001111010001110100001000011100000010100010101000010010010100100100011', '0101000010000101101101010010010001110000111000000101111000000001100011001101001100010001010011000010011000111001001000001000101']\n"
     ]
    }
   ],
   "source": [
    "import numpy as np\n",
    "from qiskit.circuit.library import iqp\n",
    "from qiskit.transpiler import generate_preset_pass_manager\n",
    "from qiskit.quantum_info import random_hermitian\n",
    "from qiskit_ibm_runtime import QiskitRuntimeService, SamplerV2 as Sampler\n",
    "\n",
    "n_qubits = 127\n",
    "\n",
    "service = QiskitRuntimeService()\n",
    "backend = service.least_busy(\n",
    "    operational=True, simulator=False, min_num_qubits=n_qubits\n",
    ")\n",
    "\n",
    "rng = np.random.default_rng()\n",
    "mats = [np.real(random_hermitian(n_qubits, seed=rng)) for _ in range(3)]\n",
    "circuits = [iqp(mat) for mat in mats]\n",
    "for circuit in circuits:\n",
    "    circuit.measure_all()\n",
    "\n",
    "pm = generate_preset_pass_manager(backend=backend, optimization_level=1)\n",
    "isa_circuits = pm.run(circuits)\n",
    "\n",
    "sampler = Sampler(mode=backend)\n",
    "job = sampler.run(isa_circuits)\n",
    "result = job.result()\n",
    "\n",
    "for idx, pub_result in enumerate(result):\n",
    "    print(\n",
    "        f\" > First ten results for pub {idx}: {pub_result.data.meas.get_bitstrings()[:10]}\"\n",
    "    )"
   ]
  },
  {
   "cell_type": "markdown",
   "id": "e3ce4f13-b772-4ee6-ba9d-d98da633ab5c",
   "metadata": {},
   "source": [
    "### Run parameterized circuits\n",
    "\n",
    "Run several experiments in a single job, leveraging parameter values to increase circuit reusability."
   ]
  },
  {
   "cell_type": "code",
   "execution_count": 7,
   "id": "c63c9cb6-0650-433c-b3d6-dcde06e465e4",
   "metadata": {},
   "outputs": [
    {
     "name": "stdout",
     "output_type": "stream",
     "text": [
      " >> First ten results for the meas output register: ['1001001000111011111011000101100000011101111110111100001010100100100100011010000100000011110100001000001101111101010101011011101', '0001001000001000100010000000110010000000111000011111010100100111001100101111111000001100000101100000001001100010110011011111000', '1110111000001101001001100101100100000011000011000110011100010110100001111111000111101110010101010100001111100110110101001000011', '0100111000110100100100000110110010101001000101110011111010111101101001111001001100011000101001001000001001110100111000010101001', '0000001010001001101000010111110011111000110000001111100010111101101011010111101010001110011000110100001101000001001110001001011', '1000011000001001100000000110110110010100100101110001011110010010010101100100101101001110001000101100011010000010011010001111101', '1011011001110001100000110101110111010110010010110110001111000100110010001100100001010001011010001110111001010010111001010101011', '0011011000111001110110110000101111101000100000000001110000110101110000111001011110111111101011110011010001100001011000100110100', '0111011000001011101111010101010001001101110001110011000010011000000110110110000111000011110101010010110101010101101010000001011', '0011000010001010101100010100100010000110110100001000111011011010000100111110101110100100011011010101011000000000001100101001010']\n"
     ]
    }
   ],
   "source": [
    "import numpy as np\n",
    "from qiskit.circuit.library import real_amplitudes\n",
    "from qiskit.transpiler import generate_preset_pass_manager\n",
    "from qiskit_ibm_runtime import QiskitRuntimeService, SamplerV2 as Sampler\n",
    "\n",
    "n_qubits = 127\n",
    "\n",
    "service = QiskitRuntimeService()\n",
    "backend = service.least_busy(\n",
    "    operational=True, simulator=False, min_num_qubits=n_qubits\n",
    ")\n",
    "\n",
    "# Step 1: Map classical inputs to a quantum problem\n",
    "circuit = real_amplitudes(num_qubits=n_qubits, reps=2)\n",
    "circuit.measure_all()\n",
    "\n",
    "# Define three sets of parameters for the circuit\n",
    "rng = np.random.default_rng(1234)\n",
    "parameter_values = [\n",
    "    rng.uniform(-np.pi, np.pi, size=circuit.num_parameters) for _ in range(3)\n",
    "]\n",
    "\n",
    "# Step 2: Optimize problem for quantum execution.\n",
    "\n",
    "pm = generate_preset_pass_manager(backend=backend, optimization_level=1)\n",
    "isa_circuit = pm.run(circuit)\n",
    "\n",
    "# Step 3: Execute using Qiskit primitives.\n",
    "sampler = Sampler(backend)\n",
    "job = sampler.run([(isa_circuit, parameter_values)])\n",
    "result = job.result()\n",
    "# Get results for the first (and only) PUB\n",
    "pub_result = result[0]\n",
    "# Get counts from the classical register \"meas\".\n",
    "print(\n",
    "    f\" >> First ten results for the meas output register: {pub_result.data.meas.get_bitstrings()[:10]}\"\n",
    ")"
   ]
  },
  {
   "cell_type": "markdown",
   "id": "a8b00d2a-3c5d-4670-9774-d39cdb262552",
   "metadata": {},
   "source": [
    "### Use sessions and advanced options\n",
    "\n",
    "Explore sessions and advanced options to optimize circuit performance on QPUs.\n",
    "\n",
    "\n",
    "<Admonition type=\"caution\">\n",
    "The following code block will return an error for users on the Open Plan, because it uses sessions. Workloads on the Open Plan can run only in [job mode](/docs/guides/execution-modes#job-mode) or [batch mode](/docs/guides/execution-modes#batch-mode).\n",
    "</Admonition>"
   ]
  },
  {
   "cell_type": "code",
   "execution_count": 8,
   "id": "881fdac4-973b-4cef-a3da-c011d326ff54",
   "metadata": {
    "scrolled": true
   },
   "outputs": [
    {
     "name": "stdout",
     "output_type": "stream",
     "text": [
      " > The first ten measurement results of job 1: ['0001100001111110000100111111101000001101010000101100110100010101001111100010010110111000101000100000010000101110000111101100000', '0111001111000011000011011010001101001000000000010110010100101100111011100010010000010100101000110000101010000000110100001000000', '0011101000101000001101101100111101101011011110101100110100000000101010000110000000011100000000111001010010101100000100011000001', '1011001101111010101001110100111100101010000100110111010000010011000001010110010100100101111001110101010001101001000001100001110', '0010000001100010110010101100101101010001010101000100000000011101000000110110000010101000010000000000000111101110000001110000001', '0101111111010110010000111110011101100001000010001110111011111010100110101000000100010000000010001100001101100001000011001101000', '0101010011000000011001011000000111001000110001000111000111000110001011000010010100000100001000101111111010001001001100110101000', '1010001110111001111001010011011111110000110011001010110100001001100000010110001110010110110010111100000000101000100011011100010', '1100000100000101110000011011010110110010010010100000110100001010000000110000010110011101001100100001011001101010100011000100000', '0010010110010100011101011101111010110101110100010001001001000010000000100010011001100000001100001101001101010111000100100100001']\n"
     ]
    }
   ],
   "source": [
    "import numpy as np\n",
    "from qiskit.circuit.library import iqp\n",
    "from qiskit.quantum_info import random_hermitian\n",
    "from qiskit.transpiler import generate_preset_pass_manager\n",
    "from qiskit_ibm_runtime import Session, SamplerV2 as Sampler\n",
    "from qiskit_ibm_runtime import QiskitRuntimeService\n",
    "\n",
    "n_qubits = 127\n",
    "\n",
    "service = QiskitRuntimeService()\n",
    "backend = service.least_busy(\n",
    "    operational=True, simulator=False, min_num_qubits=n_qubits\n",
    ")\n",
    "\n",
    "rng = np.random.default_rng(1234)\n",
    "mat = np.real(random_hermitian(n_qubits, seed=rng))\n",
    "circuit = iqp(mat)\n",
    "circuit.measure_all()\n",
    "mat = np.real(random_hermitian(n_qubits, seed=rng))\n",
    "another_circuit = iqp(mat)\n",
    "another_circuit.measure_all()\n",
    "\n",
    "pm = generate_preset_pass_manager(backend=backend, optimization_level=1)\n",
    "isa_circuit = pm.run(circuit)\n",
    "another_isa_circuit = pm.run(another_circuit)\n",
    "\n",
    "with Session(backend=backend) as session:\n",
    "    sampler = Sampler(mode=session)\n",
    "    job = sampler.run([isa_circuit])\n",
    "    another_job = sampler.run([another_isa_circuit])\n",
    "    result = job.result()\n",
    "    another_result = another_job.result()\n",
    "\n",
    "# first job\n",
    "\n",
    "print(\n",
    "    f\" > The first ten measurement results of job 1: {result[0].data.meas.get_bitstrings()[:10]}\"\n",
    ")"
   ]
  },
  {
   "cell_type": "code",
   "execution_count": 9,
   "id": "40fe2a06-edfc-41a8-9054-7f31ab93a00c",
   "metadata": {},
   "outputs": [
    {
     "name": "stdout",
     "output_type": "stream",
     "text": [
      " > The first ten measurement results of job 2: ['0110000000001100101100000001010100100001110110000011111110000000000000010100101010010101100011100000000000010100010000000000000', '1001000110000010001100110010101101011000000100101100010000110100010001100001010111100010010000000001001110001100001010000000101', '0110011011100000110111000010110011101101001010010000100101010100001101010000101010001100111001010001100001110110000100000000010', '0010110000001011001010011010010010100100101000010110000000110110000100110010010101001000101001010000011101110000010010001101100', '0001100011000000100110101110100101011100101000010010000000100101110000111111001101011011001010111011010100001011000000001010101', '0110110000101111101110000101110000110001101001000010001010000000101101100101001101010010110001001010101101001010101010001011100', '1100111010101010011000010101101110111001000001000101101010000100001001100001100001110011011010011000100000010101100000100001100', '1101000100101100000100011011001011111110110000100011101010100000000100001100000101011010001001100000010100011101100010010001011', '0000010011101101010110110100110101001111010100101000001100110110001101010001101001001000101011100011101100111011001100010000101', '1000000000000011000110110100110110101110000101111000000010010010000101100010100100100000111000000100001100110101000000011100110']\n"
     ]
    }
   ],
   "source": [
    "# second job\n",
    "print(\n",
    "    \" > The first ten measurement results of job 2:\",\n",
    "    another_result[0].data.meas.get_bitstrings()[:10],\n",
    ")"
   ]
  },
  {
   "cell_type": "markdown",
   "id": "551e1894-a12a-4f6c-8347-020fdc9db74e",
   "metadata": {},
   "source": [
    "## Next steps\n",
    "\n",
    "<Admonition type=\"tip\" title=\"Recommendations\">\n",
    "    - [Specify advanced runtime options.](runtime-options-overview)\n",
    "    - Practice with primitives by working through the [Cost function lesson](/learning/courses/variational-algorithm-design/cost-functions) in IBM Quantum Learning.\n",
    "    - Learn how to transpile locally in the [Transpile](./transpile/) section.\n",
    "    - Try the [Compare transpiler settings](/docs/tutorials/circuit-transpilation-settings) tutorial.\n",
    "    - Read [Migrate to V2 primitives](/docs/migration-guides/v2-primitives).\n",
    "    - Understand the [Job limits](/docs/guides/job-limits) when sending a job to an IBM&reg; QPU.\n",
    "</Admonition>"
   ]
  }
 ],
 "metadata": {
  "description": "Practical examples of using primitives in Qiskit Runtime.",
  "kernelspec": {
   "display_name": "Python 3",
   "language": "python",
   "name": "python3"
  },
  "language_info": {
   "codemirror_mode": {
    "name": "ipython",
    "version": 3
   },
   "file_extension": ".py",
   "mimetype": "text/x-python",
   "name": "python",
   "nbconvert_exporter": "python",
   "pygments_lexer": "ipython3",
   "version": "3"
  },
  "title": "Primitives examples"
 },
 "nbformat": 4,
 "nbformat_minor": 4
}
