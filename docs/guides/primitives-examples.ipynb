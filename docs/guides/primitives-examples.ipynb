{
 "cells": [
  {
   "cell_type": "markdown",
   "id": "1f4a2ec4-3595-4300-8f9e-092b0ef9b444",
   "metadata": {},
   "source": [
    "# Primitives examples"
   ]
  },
  {
   "cell_type": "markdown",
   "id": "b4121e48",
   "metadata": {
    "tags": [
     "version-info"
    ]
   },
   "source": [
    "<details>\n",
    "<summary><b>Package versions</b></summary>\n",
    "\n",
    "The code on this page was developed using the following requirements.\n",
    "We recommend using these versions or newer.\n",
    "\n",
    "```\n",
    "qiskit[all]~=2.1.1\n",
    "qiskit-ibm-runtime~=0.40.1\n",
    "```\n",
    "</details>"
   ]
  },
  {
   "cell_type": "markdown",
   "id": "bae32e60",
   "metadata": {},
   "source": [
    "The examples in this section illustrate some common ways to use primitives. Before running these examples, follow the instructions in [Install and set up.](install-qiskit)\n",
    "\n",
    "<Admonition type=\"note\">\n",
    "    These examples all use the primitives from Qiskit Runtime, but you could use the base primitives instead.\n",
    "</Admonition>\n",
    "\n",
    "## Estimator examples\n",
    "\n",
    "Efficiently calculate and interpret expectation values of the quantum operators required for many algorithms with Estimator. Explore uses in molecular modeling, machine learning, and complex optimization problems.\n",
    "\n",
    "### Run a single experiment\n",
    "\n",
    "Use Estimator to determine the expectation value of a single circuit-observable pair."
   ]
  },
  {
   "cell_type": "code",
   "execution_count": 1,
   "id": "24573866-7cf2-40e1-b61c-a2bdcecb759b",
   "metadata": {},
   "outputs": [
    {
     "name": "stdout",
     "output_type": "stream",
     "text": [
      " > Expectation value: -0.40476190476190477\n",
      " > Metadata: {'shots': 4096, 'target_precision': 0.015625, 'circuit_metadata': {}, 'resilience': {}, 'num_randomizations': 32}\n"
     ]
    }
   ],
   "source": [
    "import numpy as np\n",
    "from qiskit.circuit.library import iqp\n",
    "from qiskit.transpiler import generate_preset_pass_manager\n",
    "from qiskit.quantum_info import SparsePauliOp, random_hermitian\n",
    "from qiskit_ibm_runtime import QiskitRuntimeService, EstimatorV2 as Estimator\n",
    "\n",
    "n_qubits = 50\n",
    "\n",
    "service = QiskitRuntimeService()\n",
    "backend = service.least_busy(\n",
    "    operational=True, simulator=False, min_num_qubits=n_qubits\n",
    ")\n",
    "\n",
    "mat = np.real(random_hermitian(n_qubits, seed=1234))\n",
    "circuit = iqp(mat)\n",
    "observable = SparsePauliOp(\"Z\" * 50)\n",
    "\n",
    "pm = generate_preset_pass_manager(backend=backend, optimization_level=1)\n",
    "isa_circuit = pm.run(circuit)\n",
    "isa_observable = observable.apply_layout(isa_circuit.layout)\n",
    "\n",
    "estimator = Estimator(mode=backend)\n",
    "job = estimator.run([(isa_circuit, isa_observable)])\n",
    "result = job.result()\n",
    "\n",
    "print(f\" > Expectation value: {result[0].data.evs}\")\n",
    "print(f\" > Metadata: {result[0].metadata}\")"
   ]
  },
  {
   "cell_type": "markdown",
   "id": "63769604-ec9e-4ff3-823d-e60f4eb8a877",
   "metadata": {},
   "source": [
    "### Run multiple experiments in a single job\n",
    "\n",
    "Use Estimator to determine the expectation values of multiple circuit-observable pairs."
   ]
  },
  {
   "cell_type": "code",
   "execution_count": 2,
   "id": "bf4668bd-aaaf-4b23-af4b-4df767bd6d1a",
   "metadata": {},
   "outputs": [
    {
     "name": "stdout",
     "output_type": "stream",
     "text": [
      ">>> Expectation values for PUB 0: 1.5179487179487179\n",
      ">>> Standard errors for PUB 0: 1.4003575477496304\n",
      ">>> Expectation values for PUB 1: -0.37037037037037035\n",
      ">>> Standard errors for PUB 1: 0.6884950343585293\n",
      ">>> Expectation values for PUB 2: 0.0\n",
      ">>> Standard errors for PUB 2: 1.4619752228373684\n"
     ]
    }
   ],
   "source": [
    "import numpy as np\n",
    "from qiskit.circuit.library import iqp\n",
    "from qiskit.transpiler import generate_preset_pass_manager\n",
    "from qiskit.quantum_info import SparsePauliOp, random_hermitian\n",
    "from qiskit_ibm_runtime import QiskitRuntimeService, EstimatorV2 as Estimator\n",
    "\n",
    "n_qubits = 50\n",
    "\n",
    "service = QiskitRuntimeService()\n",
    "backend = service.least_busy(\n",
    "    operational=True, simulator=False, min_num_qubits=n_qubits\n",
    ")\n",
    "\n",
    "rng = np.random.default_rng()\n",
    "mats = [np.real(random_hermitian(n_qubits, seed=rng)) for _ in range(3)]\n",
    "\n",
    "pubs = []\n",
    "circuits = [iqp(mat) for mat in mats]\n",
    "observables = [\n",
    "    SparsePauliOp(\"X\" * 50),\n",
    "    SparsePauliOp(\"Y\" * 50),\n",
    "    SparsePauliOp(\"Z\" * 50),\n",
    "]\n",
    "\n",
    "# Get ISA circuits\n",
    "pm = generate_preset_pass_manager(optimization_level=1, backend=backend)\n",
    "\n",
    "for qc, obs in zip(circuits, observables):\n",
    "    isa_circuit = pm.run(qc)\n",
    "    isa_obs = obs.apply_layout(isa_circuit.layout)\n",
    "    pubs.append((isa_circuit, isa_obs))\n",
    "\n",
    "estimator = Estimator(backend)\n",
    "job = estimator.run(pubs)\n",
    "job_result = job.result()\n",
    "\n",
    "for idx in range(len(pubs)):\n",
    "    pub_result = job_result[idx]\n",
    "    print(f\">>> Expectation values for PUB {idx}: {pub_result.data.evs}\")\n",
    "    print(f\">>> Standard errors for PUB {idx}: {pub_result.data.stds}\")"
   ]
  },
  {
   "cell_type": "markdown",
   "id": "60bf051a-40f8-47a9-b74d-38713bc15210",
   "metadata": {},
   "source": [
    "### Run parameterized circuits\n",
    "\n",
    "Use Estimator to run three experiments in a single job, leveraging parameter values to increase circuit reusability."
   ]
  },
  {
   "cell_type": "code",
   "execution_count": 3,
   "id": "67dc98b8-499c-44d9-ada1-6abc9d6198c0",
   "metadata": {},
   "outputs": [
    {
     "name": "stdout",
     "output_type": "stream",
     "text": [
      ">>> Expectation values: [[ 1.12918608e+00  1.08133115e+00  9.59000018e-01  7.31768355e-01\n",
      "   4.34814285e-01  8.27161285e-02 -2.39274625e-01 -5.58096177e-01\n",
      "  -8.51564127e-01 -9.99248862e-01 -1.06611899e+00 -1.02428554e+00\n",
      "  -8.78502330e-01 -6.43981506e-01 -3.62873437e-01  9.50760097e-04\n",
      "   3.66676478e-01  6.21163264e-01  8.88643771e-01  1.03189163e+00\n",
      "   1.11650927e+00]\n",
      " [ 9.50760097e-03  3.80937879e-01  6.48418386e-01  8.95932932e-01\n",
      "   1.07626043e+00  1.09178951e+00  1.02523631e+00  8.61705568e-01\n",
      "   5.82815940e-01  2.98855591e-01 -4.24672844e-02 -4.11362202e-01\n",
      "  -7.02611712e-01 -9.27941855e-01 -1.10034635e+00 -1.12760148e+00\n",
      "  -1.08164807e+00 -8.97834452e-01 -6.23064784e-01 -3.18504633e-01\n",
      "   2.78889629e-02]\n",
      " [ 5.51440857e-02 -2.83643429e-01 -5.53659297e-01 -8.11949123e-01\n",
      "  -9.79282900e-01 -1.02270094e+00 -9.97981182e-01 -8.59170208e-01\n",
      "  -6.34473905e-01 -3.85057839e-01 -4.59534047e-02  2.87129549e-01\n",
      "   5.57145417e-01  8.02441522e-01  9.30477215e-01  1.01255950e+00\n",
      "   9.80233660e-01  8.64240929e-01  6.40178466e-01  3.59070397e-01\n",
      "   4.40518845e-02]\n",
      " [ 1.04995607e+00  9.86888981e-01  8.11632203e-01  5.72674499e-01\n",
      "   2.88714150e-01 -3.01074031e-02 -3.27378394e-01 -6.31304705e-01\n",
      "  -8.58853288e-01 -1.00939030e+00 -1.02301786e+00 -9.88473581e-01\n",
      "  -8.36985806e-01 -5.94225061e-01 -2.78572709e-01  3.67627238e-02\n",
      "   3.47661276e-01  6.46833786e-01  8.91812971e-01  1.01858098e+00\n",
      "   1.04932223e+00]]\n",
      ">>> Standard errors: [[0.01502852 0.01698161 0.02002459 0.02488249 0.02878353 0.02891516\n",
      "  0.03399644 0.03124151 0.02550105 0.01827124 0.02048022 0.01517325\n",
      "  0.02171238 0.02368944 0.02652915 0.02639721 0.02638114 0.02467926\n",
      "  0.01774744 0.01481562 0.01610088]\n",
      " [0.01761664 0.0189009  0.01693648 0.01614332 0.01275625 0.01311442\n",
      "  0.01642749 0.01765867 0.02160117 0.01790582 0.0198112  0.02156914\n",
      "  0.01645335 0.01689341 0.01424665 0.01311189 0.01243766 0.01544483\n",
      "  0.01421926 0.01571725 0.01866968]\n",
      " [0.02972514 0.02297419 0.02059297 0.01976156 0.01807414 0.01357199\n",
      "  0.01579011 0.01906311 0.02404768 0.02478145 0.02431407 0.02352675\n",
      "  0.02448941 0.01814679 0.01511145 0.01378665 0.0193495  0.01741964\n",
      "  0.02537469 0.0287372  0.03304963]\n",
      " [0.01212513 0.01348453 0.01434919 0.01658414 0.0154397  0.02027393\n",
      "  0.01797508 0.01791073 0.01471314 0.01496996 0.01513448 0.01254911\n",
      "  0.01564281 0.01880725 0.01686773 0.0165835  0.01575464 0.01682835\n",
      "  0.01401973 0.01313107 0.01311742]]\n",
      ">>> Metadata: {'shots': 10016, 'target_precision': 0.01, 'circuit_metadata': {}, 'resilience': {}, 'num_randomizations': 32}\n"
     ]
    }
   ],
   "source": [
    "import numpy as np\n",
    "\n",
    "from qiskit.circuit import QuantumCircuit, Parameter\n",
    "from qiskit.quantum_info import SparsePauliOp\n",
    "from qiskit.transpiler import generate_preset_pass_manager\n",
    "from qiskit_ibm_runtime import QiskitRuntimeService, EstimatorV2 as Estimator\n",
    "\n",
    "service = QiskitRuntimeService()\n",
    "backend = service.least_busy(operational=True, simulator=False)\n",
    "\n",
    "# Step 1: Map classical inputs to a quantum problem\n",
    "theta = Parameter(\"θ\")\n",
    "\n",
    "chsh_circuit = QuantumCircuit(2)\n",
    "chsh_circuit.h(0)\n",
    "chsh_circuit.cx(0, 1)\n",
    "chsh_circuit.ry(theta, 0)\n",
    "\n",
    "number_of_phases = 21\n",
    "phases = np.linspace(0, 2 * np.pi, number_of_phases)\n",
    "individual_phases = [[ph] for ph in phases]\n",
    "\n",
    "ZZ = SparsePauliOp.from_list([(\"ZZ\", 1)])\n",
    "ZX = SparsePauliOp.from_list([(\"ZX\", 1)])\n",
    "XZ = SparsePauliOp.from_list([(\"XZ\", 1)])\n",
    "XX = SparsePauliOp.from_list([(\"XX\", 1)])\n",
    "ops = [ZZ, ZX, XZ, XX]\n",
    "\n",
    "# Step 2: Optimize problem for quantum execution.\n",
    "\n",
    "pm = generate_preset_pass_manager(backend=backend, optimization_level=1)\n",
    "chsh_isa_circuit = pm.run(chsh_circuit)\n",
    "isa_observables = [\n",
    "    operator.apply_layout(chsh_isa_circuit.layout) for operator in ops\n",
    "]\n",
    "\n",
    "# Step 3: Execute using Qiskit primitives.\n",
    "\n",
    "# Reshape observable array for broadcasting\n",
    "reshaped_ops = np.fromiter(isa_observables, dtype=object)\n",
    "reshaped_ops = reshaped_ops.reshape((4, 1))\n",
    "\n",
    "estimator = Estimator(backend, options={\"default_shots\": int(1e4)})\n",
    "job = estimator.run([(chsh_isa_circuit, reshaped_ops, individual_phases)])\n",
    "# Get results for the first (and only) PUB\n",
    "pub_result = job.result()[0]\n",
    "print(f\">>> Expectation values: {pub_result.data.evs}\")\n",
    "print(f\">>> Standard errors: {pub_result.data.stds}\")\n",
    "print(f\">>> Metadata: {pub_result.metadata}\")"
   ]
  },
  {
   "cell_type": "markdown",
   "id": "793f0ed1-5682-4aa3-a4a0-7baba71650f9",
   "metadata": {},
   "source": [
    "### Use sessions and advanced options\n",
    "\n",
    "Explore sessions and advanced options to optimize circuit performance on QPUs.\n",
    "\n",
    "\n",
    "<Admonition type=\"caution\">\n",
    "The following code block will return an error for Open Plan users because it uses sessions. Open Plan workloads can run only in [job mode](/docs/guides/execution-modes#job-mode) or [batch mode](/docs/guides/execution-modes#batch-mode).\n",
    "</Admonition>"
   ]
  },
  {
   "cell_type": "code",
   "execution_count": 4,
   "id": "d007b547-8546-4ca3-aee6-9a4e3a82598d",
   "metadata": {},
   "outputs": [
    {
     "name": "stdout",
     "output_type": "stream",
     "text": [
      " > Expectation value: -0.3375\n",
      " > Metadata: {'shots': 4096, 'target_precision': 0.015625, 'circuit_metadata': {}, 'resilience': {}, 'num_randomizations': 32}\n",
      " > Another Expectation value: 0.3282937365010799\n",
      " > More Metadata: {'shots': 4096, 'target_precision': 0.015625, 'circuit_metadata': {}, 'resilience': {}, 'num_randomizations': 32}\n"
     ]
    }
   ],
   "source": [
    "import numpy as np\n",
    "from qiskit.circuit.library import iqp\n",
    "from qiskit.transpiler import generate_preset_pass_manager\n",
    "from qiskit.quantum_info import SparsePauliOp, random_hermitian\n",
    "from qiskit_ibm_runtime import (\n",
    "    QiskitRuntimeService,\n",
    "    Session,\n",
    "    EstimatorV2 as Estimator,\n",
    ")\n",
    "\n",
    "n_qubits = 50\n",
    "\n",
    "service = QiskitRuntimeService()\n",
    "backend = service.least_busy(\n",
    "    operational=True, simulator=False, min_num_qubits=n_qubits\n",
    ")\n",
    "\n",
    "rng = np.random.default_rng(1234)\n",
    "mat = np.real(random_hermitian(n_qubits, seed=rng))\n",
    "circuit = iqp(mat)\n",
    "mat = np.real(random_hermitian(n_qubits, seed=rng))\n",
    "another_circuit = iqp(mat)\n",
    "observable = SparsePauliOp(\"X\" * 50)\n",
    "another_observable = SparsePauliOp(\"Y\" * 50)\n",
    "\n",
    "pm = generate_preset_pass_manager(optimization_level=1, backend=backend)\n",
    "isa_circuit = pm.run(circuit)\n",
    "another_isa_circuit = pm.run(another_circuit)\n",
    "isa_observable = observable.apply_layout(isa_circuit.layout)\n",
    "another_isa_observable = another_observable.apply_layout(\n",
    "    another_isa_circuit.layout\n",
    ")\n",
    "\n",
    "with Session(backend=backend) as session:\n",
    "    estimator = Estimator(mode=session)\n",
    "\n",
    "    estimator.options.resilience_level = 1\n",
    "\n",
    "    job = estimator.run([(isa_circuit, isa_observable)])\n",
    "    another_job = estimator.run(\n",
    "        [(another_isa_circuit, another_isa_observable)]\n",
    "    )\n",
    "    result = job.result()\n",
    "    another_result = another_job.result()\n",
    "\n",
    "    # first job\n",
    "    print(f\" > Expectation value: {result[0].data.evs}\")\n",
    "    print(f\" > Metadata: {result[0].metadata}\")\n",
    "\n",
    "    # second job\n",
    "    print(f\" > Another Expectation value: {another_result[0].data.evs}\")\n",
    "    print(f\" > More Metadata: {another_result[0].metadata}\")"
   ]
  },
  {
   "cell_type": "markdown",
   "id": "12aea3c7-37a1-4a6b-b944-587669aa6611",
   "metadata": {},
   "source": [
    "<span id=\"sampler-examples\"></span>\n",
    "## Sampler examples\n",
    "\n",
    "Generate entire error-mitigated quasi-probability distributions sampled from quantum circuit outputs. Leverage Sampler’s capabilities for search and classification algorithms like Grover’s and QVSM.\n",
    "\n",
    "### Run a single experiment\n",
    "\n",
    "Use Sampler to return the measurement outcome as bitstrings or counts of a single circuit."
   ]
  },
  {
   "cell_type": "code",
   "execution_count": 5,
   "id": "a5a561b3-3819-4f9e-bb64-4c27267e0e96",
   "metadata": {
    "scrolled": true
   },
   "outputs": [
    {
     "name": "stdout",
     "output_type": "stream",
     "text": [
      " > First ten results: ['0001011010000111001110000010001111001001010111100100010001100001000100010000110111111011101010000001000010011000100000101010001', '1101000110000000100101110011010001101011000001110100001001111111010001010110100110000010101110100100000100001111110100101011010', '1001010110111010011110000010100101100000001001000011100100000000000000010100000101011100010111001111000000111111000100010100100', '0101011100010100011010100111100000101001001101010000010001110110001001001101100101100101000100100010000100011001100001000100110', '0110100001010110001011011001101001101011000110100011100010010110010001010100000111010000001001101000010000001000011111010100010', '1000101011010010110000100001101100110001110001100010101011101110110000001100001000110111001111101001010011111010110101010011001', '0011000111000000011110110110100110010100101110000000010010010010111101011000000000010110000010100011101001111010010101000101010', '1110111110001000000011000010101100010001010111100000011101001010000001010001110111010100101011000100011010011000011100000101000', '0011101001000100111011100011110011111010001011111000111100011000001000001101111101001111001001000011010010110100111100110100010', '0110000011101011101010011010110000011010010111110000011100110010100000100010110111110010111010000001100000011011011100000111010']\n"
     ]
    }
   ],
   "source": [
    "import numpy as np\n",
    "from qiskit.circuit.library import iqp\n",
    "from qiskit.transpiler import generate_preset_pass_manager\n",
    "from qiskit.quantum_info import random_hermitian\n",
    "from qiskit_ibm_runtime import QiskitRuntimeService, SamplerV2 as Sampler\n",
    "\n",
    "n_qubits = 127\n",
    "\n",
    "service = QiskitRuntimeService()\n",
    "backend = service.least_busy(\n",
    "    operational=True, simulator=False, min_num_qubits=n_qubits\n",
    ")\n",
    "\n",
    "mat = np.real(random_hermitian(n_qubits, seed=1234))\n",
    "circuit = iqp(mat)\n",
    "circuit.measure_all()\n",
    "\n",
    "pm = generate_preset_pass_manager(backend=backend, optimization_level=1)\n",
    "isa_circuit = pm.run(circuit)\n",
    "\n",
    "sampler = Sampler(backend)\n",
    "job = sampler.run([isa_circuit])\n",
    "result = job.result()\n",
    "\n",
    "# Get results for the first (and only) PUB\n",
    "pub_result = result[0]\n",
    "\n",
    "print(f\" > First ten results: {pub_result.data.meas.get_bitstrings()[:10]}\")"
   ]
  },
  {
   "cell_type": "markdown",
   "id": "c9ea6d3c-b03f-49e2-a8de-d32e58396e02",
   "metadata": {},
   "source": [
    "### Run multiple experiments in a single job\n",
    "\n",
    "Use Sampler to return the measurement outcome as bitstrings or counts of multiple circuits in one job."
   ]
  },
  {
   "cell_type": "code",
   "execution_count": 6,
   "id": "e4534da8-9fe3-402b-8afc-f4bd9fbed497",
   "metadata": {},
   "outputs": [
    {
     "name": "stdout",
     "output_type": "stream",
     "text": [
      " > First ten results for pub 0: ['0111001010011001100000010000101110010111110010000000100000001001011101000111000011011100110001110001000100110100001100010001010', '1000110010111000000110100100000011000011000100111000111001010000100100000111010101011111100111101110010010100011011001110001100', '0010101100101001111101010101100010101010000000110010010011100000000101101111001100101000100010100000101000110101000100001000001', '0001100111011011111101100010010110101000100010110000110110111001001110101010111100010110010100011000011110110100011011110010100', '1011000000000000011100001100110101111111010000011100011010001110010001000001001100001100100000000010000110100100001101000001001', '1011100010000100010010100010000111000011001100101100001001101000010010101001101001110001001100111100001010100000100001001011000', '0000101001000101111110101001111101100100100010110000000101100001001001100100100101111010100110100111011100110101001000000010100', '0011001000111100101011001100100111000001010110011101110011101000010001100111001001100000100101100100001100111100111011001010010', '0100010101101110101111010000100111010101010000011010110011100010111101011011100001011101111001101110001010110000110101001000000', '0110100010111000101111100000011101110011110101011010001011011010101101100000001100000100001000111110111010100100101100001011010']\n",
      " > First ten results for pub 1: ['1111100111101011100010011110111110100100101100011111001010100100011111001101110010111100101011101000110011000000010111010011101', '1100101010011010000011001000011000101101111011001010001010000001100010110011001111110100000010100000000100001010000100000110011', '1101010100011010101010110101110101011101101010000010100010001101100011000001100110101000101011000001000000000100100011101001110', '1101001000100011100010111011000111011111111010001011001010010001011010000110100000000010000110000010000000000000101000011000111', '1100110101001010100010110100000110110011111111011000000100001101000111010010101111100011001111100011100000000110000100101001011', '0110001101010000100010110101011001010110110101101010000010000011000010110010001101100001000110000110001100001000101011010001110', '1010010110011011000001100111111101000101111111100000100000011101000011100010100100001011010111010010010001101100100000110101100', '0011101110110111000100100101000010100101110110010000010010110000001010101010001110011111011001000011010100100110100000000001101', '0010101110000000011001100011011000100101110000011010100101000110001010000010101011000101101110000001010101001110000110010100110', '1100011010101101001001001000001100100000110000000110101110010111010010100010001010011011100010010010001110001010000001100100101']\n",
      " > First ten results for pub 2: ['0101110001110001000001001100010110101000111001011111001111100000010000111101001010100010000111000111010001100000000100010010011', '0011101000010110001000100111101110000000100001110110111110101011000100111101011100000100000100001000000000000100101010100010010', '0000110011010100101100000001111100010001000001100100001011010011100100111010101010000000001000100000000000000110000100010001111', '0011010001100010101010110000001011101100110111000000001100100110011001110001000101010010100011111010001010000011101010000000010', '0101100111001011111000001101101000010010111100000001000101001100011000000111000100000110001100101001001001011101101010010001110', '0111110110000000000100111000110100000111000000100000000010001011001001100101001100010100001000000001000100010100100110100011100', '0000011010110110000101111010001100111100100001001110111101010110010001100101001001000010000010110001011110001001000100000000101', '0010000101100011101100010011100000000101100010011001000100000100010010100111011100001010001100001010000011110000000100110000101', '0000010001010010111010001010011100011101001111110011110000000001001101000000101101000011001101001000010010100000000100000001010', '0010000000100100011000011111011000100000000011000100010010000101000001000110111000000010001000001000000110000100000010011000011']\n"
     ]
    }
   ],
   "source": [
    "import numpy as np\n",
    "from qiskit.circuit.library import iqp\n",
    "from qiskit.transpiler import generate_preset_pass_manager\n",
    "from qiskit.quantum_info import random_hermitian\n",
    "from qiskit_ibm_runtime import QiskitRuntimeService, SamplerV2 as Sampler\n",
    "\n",
    "n_qubits = 127\n",
    "\n",
    "service = QiskitRuntimeService()\n",
    "backend = service.least_busy(\n",
    "    operational=True, simulator=False, min_num_qubits=n_qubits\n",
    ")\n",
    "\n",
    "rng = np.random.default_rng()\n",
    "mats = [np.real(random_hermitian(n_qubits, seed=rng)) for _ in range(3)]\n",
    "circuits = [iqp(mat) for mat in mats]\n",
    "for circuit in circuits:\n",
    "    circuit.measure_all()\n",
    "\n",
    "pm = generate_preset_pass_manager(backend=backend, optimization_level=1)\n",
    "isa_circuits = pm.run(circuits)\n",
    "\n",
    "sampler = Sampler(mode=backend)\n",
    "job = sampler.run(isa_circuits)\n",
    "result = job.result()\n",
    "\n",
    "for idx, pub_result in enumerate(result):\n",
    "    print(\n",
    "        f\" > First ten results for pub {idx}: {pub_result.data.meas.get_bitstrings()[:10]}\"\n",
    "    )"
   ]
  },
  {
   "cell_type": "markdown",
   "id": "e3ce4f13-b772-4ee6-ba9d-d98da633ab5c",
   "metadata": {},
   "source": [
    "### Run parameterized circuits\n",
    "\n",
    "Run several experiments in a single job, leveraging parameter values to increase circuit reusability."
   ]
  },
  {
   "cell_type": "code",
   "execution_count": 7,
   "id": "c63c9cb6-0650-433c-b3d6-dcde06e465e4",
   "metadata": {},
   "outputs": [
    {
     "name": "stdout",
     "output_type": "stream",
     "text": [
      " >> First ten results for the meas output register: ['0001110111010000110001101000110001100101110011000100001000011001000110001101011010000110001100101000010000111100110101011000111', '0001111001010111100010001110010010100001111101100001101000000111000001100001101010000011100010111110101100100000010010110000101', '1101011001001101010001000100011011000000010010010011101000101001100101010001001100101100110111101010011001101100100100000001001', '0101001001011101101000000111110010100000111011010000011100001011010110101101100110111101010110010110111001011111000100101001111', '0011000001111111000101101101101110000000110100010001001010111011000110101110100110001010010101100010111000011101111001001110010', '0001111001010001101000100100000111100001100000110011001010101011010011011111010101001010001001001011011001011010101001101101011', '1100100101010111000000101100111010100000000101010110011010011010000010011110100100010101100000110110100011000010010111011110110', '1101111011010110101100000011000010000001001000000011101011111001000110000100101110100010011100110010100001000001111000110001100', '1101010010110100100001100000110001000011111111101101011100111011110001100110101101000011011100000101111010110001001010000110110', '0010011000011101010011110101000111111011110000001001001101100010100001101001011111110010111010001110001001111010101100010111101']\n"
     ]
    }
   ],
   "source": [
    "import numpy as np\n",
    "from qiskit.circuit.library import real_amplitudes\n",
    "from qiskit.transpiler import generate_preset_pass_manager\n",
    "from qiskit_ibm_runtime import QiskitRuntimeService, SamplerV2 as Sampler\n",
    "\n",
    "n_qubits = 127\n",
    "\n",
    "service = QiskitRuntimeService()\n",
    "backend = service.least_busy(\n",
    "    operational=True, simulator=False, min_num_qubits=n_qubits\n",
    ")\n",
    "\n",
    "# Step 1: Map classical inputs to a quantum problem\n",
    "circuit = real_amplitudes(num_qubits=n_qubits, reps=2)\n",
    "circuit.measure_all()\n",
    "\n",
    "# Define three sets of parameters for the circuit\n",
    "rng = np.random.default_rng(1234)\n",
    "parameter_values = [\n",
    "    rng.uniform(-np.pi, np.pi, size=circuit.num_parameters) for _ in range(3)\n",
    "]\n",
    "\n",
    "# Step 2: Optimize problem for quantum execution.\n",
    "\n",
    "pm = generate_preset_pass_manager(backend=backend, optimization_level=1)\n",
    "isa_circuit = pm.run(circuit)\n",
    "\n",
    "# Step 3: Execute using Qiskit primitives.\n",
    "sampler = Sampler(backend)\n",
    "job = sampler.run([(isa_circuit, parameter_values)])\n",
    "result = job.result()\n",
    "# Get results for the first (and only) PUB\n",
    "pub_result = result[0]\n",
    "# Get counts from the classical register \"meas\".\n",
    "print(\n",
    "    f\" >> First ten results for the meas output register: {pub_result.data.meas.get_bitstrings()[:10]}\"\n",
    ")"
   ]
  },
  {
   "cell_type": "markdown",
   "id": "a8b00d2a-3c5d-4670-9774-d39cdb262552",
   "metadata": {},
   "source": [
    "### Use sessions and advanced options\n",
    "\n",
    "Explore sessions and advanced options to optimize circuit performance on QPUs.\n",
    "\n",
    "\n",
    "<Admonition type=\"caution\">\n",
    "The following code block will return an error for users on the Open Plan, because it uses sessions. Workloads on the Open Plan can run only in [job mode](/docs/guides/execution-modes#job-mode) or [batch mode](/docs/guides/execution-modes#batch-mode).\n",
    "</Admonition>"
   ]
  },
  {
   "cell_type": "code",
   "execution_count": 8,
   "id": "881fdac4-973b-4cef-a3da-c011d326ff54",
   "metadata": {
    "scrolled": true
   },
   "outputs": [
    {
     "name": "stdout",
     "output_type": "stream",
     "text": [
      " > The first ten measurement results of job 1: ['0000011001000000100000101100000100000010011100110000011000110010110000001100010010101100101100100000010010101010101001011100110', '1000011010000100001110011010100000011010011101110010000100010110010001110000001010010001001100010000010010111101101000000000000', '0100101100111001000111111000000111000010010110111000000111010010101000100000010001100110000010100101000001011101000101010101010', '0001100000011111011010100000111010001010110111101010010110001000000110010001010100110110101000101001000010101100001101011000010', '0101101000111010010010011001011111000110010111001101001110000100011011110000010000110110000101000001100001110000000000100101001', '1000101101001100011000101011110001110001000010000000111110001000001010100101011001110110000100100001000101100010000000100000000', '1100001000101000001111001111010010010000010110101011001100011010101001110000100110100001001000101001000000001010000000010000000', '0011110100101100001000100111101000110100000001101101001001000100000010001000000010111110001000110001110000000000111101001000111', '0100000000000000000110010000000001000011000010000000100110000100001111011000110111001010101100100000011010001010101101010001001', '1100011100110001000000101110010111011111110100010000000101011000010010010010000010100000011001111000000000001110101110010001101']\n"
     ]
    }
   ],
   "source": [
    "import numpy as np\n",
    "from qiskit.circuit.library import iqp\n",
    "from qiskit.quantum_info import random_hermitian\n",
    "from qiskit.transpiler import generate_preset_pass_manager\n",
    "from qiskit_ibm_runtime import Session, SamplerV2 as Sampler\n",
    "from qiskit_ibm_runtime import QiskitRuntimeService\n",
    "\n",
    "n_qubits = 127\n",
    "\n",
    "service = QiskitRuntimeService()\n",
    "backend = service.least_busy(\n",
    "    operational=True, simulator=False, min_num_qubits=n_qubits\n",
    ")\n",
    "\n",
    "rng = np.random.default_rng(1234)\n",
    "mat = np.real(random_hermitian(n_qubits, seed=rng))\n",
    "circuit = iqp(mat)\n",
    "circuit.measure_all()\n",
    "mat = np.real(random_hermitian(n_qubits, seed=rng))\n",
    "another_circuit = iqp(mat)\n",
    "another_circuit.measure_all()\n",
    "\n",
    "pm = generate_preset_pass_manager(backend=backend, optimization_level=1)\n",
    "isa_circuit = pm.run(circuit)\n",
    "another_isa_circuit = pm.run(another_circuit)\n",
    "\n",
    "with Session(backend=backend) as session:\n",
    "    sampler = Sampler(mode=session)\n",
    "    job = sampler.run([isa_circuit])\n",
    "    another_job = sampler.run([another_isa_circuit])\n",
    "    result = job.result()\n",
    "    another_result = another_job.result()\n",
    "\n",
    "# first job\n",
    "\n",
    "print(\n",
    "    f\" > The first ten measurement results of job 1: {result[0].data.meas.get_bitstrings()[:10]}\"\n",
    ")"
   ]
  },
  {
   "cell_type": "code",
   "execution_count": 9,
   "id": "40fe2a06-edfc-41a8-9054-7f31ab93a00c",
   "metadata": {},
   "outputs": [
    {
     "name": "stdout",
     "output_type": "stream",
     "text": [
      " > The first ten measurement results of job 2: ['0110000010101001011000001100111001111000100001101100010000010010000000010111001000010000100100000100011100111010101101011000001', '1100000010111010100000000000100111011100101101010100101101101100001110101010100011000100100100011001011000101000011000100101100', '1001011010010000111100001100100011110010111111001000001000000010101000100010011001000011100100100111010011001101001000000010011', '0000000110001001001101000001000111011001100001000000101001111010010110100100101101010110101000111111000010011000010000000001001', '1101111101110101110010011000001101110001110110000101000100111110001100110010011000101100110001101000000000110000101011011000010', '0110011111110100101101110100000111001000101001110000111110001000010111100110100011000101110000000001000101011001101000101100011', '1110011001000000101110111001100111001010001000001001001000001000000000101110111001000101010100000001101000111000001000001000000', '1110000011110000101010111000100111000111010000101100011101111100000001110011001010010110110011001111010100010101011000011000000', '1111011110010110000000100100000011110101011000010000110001000010110100000011011101010000101000101110000110110100000000000011000', '1111001110001100111010001000010110001100011010010000110000100110110010100001011001001101100100101011100100010000000101000011000']\n"
     ]
    }
   ],
   "source": [
    "# second job\n",
    "print(\n",
    "    \" > The first ten measurement results of job 2:\",\n",
    "    another_result[0].data.meas.get_bitstrings()[:10],\n",
    ")"
   ]
  },
  {
   "cell_type": "markdown",
   "id": "551e1894-a12a-4f6c-8347-020fdc9db74e",
   "metadata": {},
   "source": [
    "## Next steps\n",
    "\n",
    "<Admonition type=\"tip\" title=\"Recommendations\">\n",
    "    - [Specify advanced runtime options.](runtime-options-overview)\n",
    "    - Practice with primitives by working through the [Cost function lesson](/learning/courses/variational-algorithm-design/cost-functions) in IBM Quantum Learning.\n",
    "    - Learn how to transpile locally in the [Transpile](./transpile/) section.\n",
    "    - Try the [Compare transpiler settings](/docs/tutorials/circuit-transpilation-settings) tutorial.\n",
    "    - Read [Migrate to V2 primitives](/docs/migration-guides/v2-primitives).\n",
    "    - Understand the [Job limits](/docs/guides/job-limits) when sending a job to an IBM&reg; QPU.\n",
    "</Admonition>"
   ]
  }
 ],
 "metadata": {
  "description": "Practical examples of using primitives in Qiskit Runtime.",
  "kernelspec": {
   "display_name": "Python 3",
   "language": "python",
   "name": "python3"
  },
  "language_info": {
   "codemirror_mode": {
    "name": "ipython",
    "version": 3
   },
   "file_extension": ".py",
   "mimetype": "text/x-python",
   "name": "python",
   "nbconvert_exporter": "python",
   "pygments_lexer": "ipython3",
   "version": "3"
  },
  "title": "Primitives examples"
 },
 "nbformat": 4,
 "nbformat_minor": 4
}
