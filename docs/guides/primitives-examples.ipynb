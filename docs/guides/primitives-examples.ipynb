{
 "cells": [
  {
   "cell_type": "markdown",
   "id": "1f4a2ec4-3595-4300-8f9e-092b0ef9b444",
   "metadata": {},
   "source": [
    "# Primitives examples"
   ]
  },
  {
   "cell_type": "markdown",
   "id": "b4121e48",
   "metadata": {
    "tags": [
     "version-info"
    ]
   },
   "source": [
    "<details>\n",
    "<summary><b>Package versions</b></summary>\n",
    "\n",
    "The code on this page was developed using the following requirements.\n",
    "We recommend using these versions or newer.\n",
    "\n",
    "```\n",
    "qiskit[all]~=2.1.0\n",
    "qiskit-ibm-runtime~=0.40.1\n",
    "```\n",
    "</details>"
   ]
  },
  {
   "cell_type": "markdown",
   "id": "bae32e60",
   "metadata": {},
   "source": [
    "The examples in this section illustrate some common ways to use primitives. Before running these examples, follow the instructions in [Install and set up.](install-qiskit)\n",
    "\n",
    "<Admonition type=\"note\">\n",
    "    These examples all use the primitives from Qiskit Runtime, but you could use the base primitives instead.\n",
    "</Admonition>\n",
    "\n",
    "## Estimator examples\n",
    "\n",
    "Efficiently calculate and interpret expectation values of the quantum operators required for many algorithms with Estimator. Explore uses in molecular modeling, machine learning, and complex optimization problems.\n",
    "\n",
    "### Run a single experiment\n",
    "\n",
    "Use Estimator to determine the expectation value of a single circuit-observable pair."
   ]
  },
  {
   "cell_type": "code",
   "execution_count": 1,
   "id": "24573866-7cf2-40e1-b61c-a2bdcecb759b",
   "metadata": {},
   "outputs": [
    {
     "name": "stdout",
     "output_type": "stream",
     "text": [
      " > Expectation value: 0.0\n",
      " > Metadata: {'shots': 4096, 'target_precision': 0.015625, 'circuit_metadata': {}, 'resilience': {}, 'num_randomizations': 32}\n"
     ]
    }
   ],
   "source": [
    "import numpy as np\n",
    "from qiskit.circuit.library import iqp\n",
    "from qiskit.transpiler import generate_preset_pass_manager\n",
    "from qiskit.quantum_info import SparsePauliOp, random_hermitian\n",
    "from qiskit_ibm_runtime import QiskitRuntimeService, EstimatorV2 as Estimator\n",
    "\n",
    "n_qubits = 50\n",
    "\n",
    "service = QiskitRuntimeService()\n",
    "backend = service.least_busy(\n",
    "    operational=True, simulator=False, min_num_qubits=n_qubits\n",
    ")\n",
    "\n",
    "mat = np.real(random_hermitian(n_qubits, seed=1234))\n",
    "circuit = iqp(mat)\n",
    "observable = SparsePauliOp(\"Z\" * 50)\n",
    "\n",
    "pm = generate_preset_pass_manager(backend=backend, optimization_level=1)\n",
    "isa_circuit = pm.run(circuit)\n",
    "isa_observable = observable.apply_layout(isa_circuit.layout)\n",
    "\n",
    "estimator = Estimator(mode=backend)\n",
    "job = estimator.run([(isa_circuit, isa_observable)])\n",
    "result = job.result()\n",
    "\n",
    "print(f\" > Expectation value: {result[0].data.evs}\")\n",
    "print(f\" > Metadata: {result[0].metadata}\")"
   ]
  },
  {
   "cell_type": "markdown",
   "id": "63769604-ec9e-4ff3-823d-e60f4eb8a877",
   "metadata": {},
   "source": [
    "### Run multiple experiments in a single job\n",
    "\n",
    "Use Estimator to determine the expectation values of multiple circuit-observable pairs."
   ]
  },
  {
   "cell_type": "code",
   "execution_count": 2,
   "id": "bf4668bd-aaaf-4b23-af4b-4df767bd6d1a",
   "metadata": {},
   "outputs": [
    {
     "name": "stdout",
     "output_type": "stream",
     "text": [
      ">>> Expectation values for PUB 0: 0.004540295119182747\n",
      ">>> Standard errors for PUB 0: 0.16071434944948873\n",
      ">>> Expectation values for PUB 1: -0.09400123685837972\n",
      ">>> Standard errors for PUB 1: 0.1846419553728691\n",
      ">>> Expectation values for PUB 2: 0.09479649665121072\n",
      ">>> Standard errors for PUB 2: 0.121401747916681\n"
     ]
    }
   ],
   "source": [
    "import numpy as np\n",
    "from qiskit.circuit.library import iqp\n",
    "from qiskit.transpiler import generate_preset_pass_manager\n",
    "from qiskit.quantum_info import SparsePauliOp, random_hermitian\n",
    "from qiskit_ibm_runtime import QiskitRuntimeService, EstimatorV2 as Estimator\n",
    "\n",
    "n_qubits = 50\n",
    "\n",
    "service = QiskitRuntimeService()\n",
    "backend = service.least_busy(\n",
    "    operational=True, simulator=False, min_num_qubits=n_qubits\n",
    ")\n",
    "\n",
    "rng = np.random.default_rng()\n",
    "mats = [np.real(random_hermitian(n_qubits, seed=rng)) for _ in range(3)]\n",
    "\n",
    "pubs = []\n",
    "circuits = [iqp(mat) for mat in mats]\n",
    "observables = [\n",
    "    SparsePauliOp(\"X\" * 50),\n",
    "    SparsePauliOp(\"Y\" * 50),\n",
    "    SparsePauliOp(\"Z\" * 50),\n",
    "]\n",
    "\n",
    "# Get ISA circuits\n",
    "pm = generate_preset_pass_manager(optimization_level=1, backend=backend)\n",
    "\n",
    "for qc, obs in zip(circuits, observables):\n",
    "    isa_circuit = pm.run(qc)\n",
    "    isa_obs = obs.apply_layout(isa_circuit.layout)\n",
    "    pubs.append((isa_circuit, isa_obs))\n",
    "\n",
    "estimator = Estimator(backend)\n",
    "job = estimator.run(pubs)\n",
    "job_result = job.result()\n",
    "\n",
    "for idx in range(len(pubs)):\n",
    "    pub_result = job_result[idx]\n",
    "    print(f\">>> Expectation values for PUB {idx}: {pub_result.data.evs}\")\n",
    "    print(f\">>> Standard errors for PUB {idx}: {pub_result.data.stds}\")"
   ]
  },
  {
   "cell_type": "markdown",
   "id": "60bf051a-40f8-47a9-b74d-38713bc15210",
   "metadata": {},
   "source": [
    "### Run parameterized circuits\n",
    "\n",
    "Use Estimator to run three experiments in a single job, leveraging parameter values to increase circuit reusability."
   ]
  },
  {
   "cell_type": "code",
   "execution_count": 3,
   "id": "67dc98b8-499c-44d9-ada1-6abc9d6198c0",
   "metadata": {},
   "outputs": [
    {
     "name": "stdout",
     "output_type": "stream",
     "text": [
      ">>> Expectation values: [[ 1.00457852  0.94374224  0.79510563  0.57426771  0.29972451 -0.04434586\n",
      "  -0.33693938 -0.61014552 -0.83254333 -0.97070631 -1.00948108 -0.95510726\n",
      "  -0.80669349 -0.57203928 -0.31086669  0.04546007  0.3396135   0.61616229\n",
      "   0.84190276  0.97159768  1.01170951]\n",
      " [ 0.0291925   0.32379161  0.63064712  0.84457688  0.95911845  1.00591558\n",
      "   0.94975902  0.80491074  0.57582762  0.2812285   0.00178275 -0.33003123\n",
      "  -0.60992267 -0.8370002  -0.96825503 -1.00747549 -0.95332451 -0.78374061\n",
      "  -0.58518704 -0.27342898  0.02896966]\n",
      " [-0.01760464 -0.33916781 -0.63599536 -0.82630372 -0.98006573 -1.02040041\n",
      "  -0.95533011 -0.82117832 -0.57605046 -0.27521173  0.02896966  0.33560232\n",
      "   0.62574456  0.83945148  0.9814028   1.02485728  0.95466157  0.81337879\n",
      "   0.5813987   0.28278841 -0.02941534]\n",
      " [ 1.00814402  0.97026062  0.80669349  0.56201132  0.30284432 -0.04189458\n",
      "  -0.34161909 -0.62217907 -0.83321186 -0.97182052 -1.01995472 -0.96669512\n",
      "  -0.8098133  -0.57159359 -0.28969656  0.03186662  0.3498643   0.62017347\n",
      "   0.84591394  0.98630535  1.02953699]]\n",
      ">>> Standard errors: [[0.00584397 0.00649147 0.0068372  0.00681302 0.01297003 0.01153366\n",
      "  0.01075927 0.00911218 0.00839902 0.00640315 0.00581784 0.00605166\n",
      "  0.00820494 0.0103228  0.01068556 0.01332562 0.01072639 0.00873929\n",
      "  0.00838197 0.00564809 0.00579349]\n",
      " [0.01003501 0.00923264 0.00893563 0.00861766 0.0066807  0.00577035\n",
      "  0.00585761 0.00672688 0.01105721 0.01129226 0.01071968 0.0104092\n",
      "  0.00892789 0.00834154 0.00698992 0.00650678 0.00567252 0.00895923\n",
      "  0.00814989 0.01053156 0.00984051]\n",
      " [0.00923932 0.00866866 0.00889112 0.00796799 0.00548921 0.00521082\n",
      "  0.00572338 0.00770967 0.00963788 0.01004563 0.00971353 0.00959745\n",
      "  0.00858761 0.00825353 0.00476273 0.00531987 0.00687202 0.00712288\n",
      "  0.00968782 0.00959077 0.01006905]\n",
      " [0.00541656 0.00577625 0.00769911 0.00822567 0.00990289 0.00979945\n",
      "  0.00995919 0.0097909  0.0076677  0.00627901 0.00584892 0.00761863\n",
      "  0.00738684 0.00970969 0.00976492 0.01156453 0.01064609 0.00945966\n",
      "  0.00685199 0.00610125 0.00579987]]\n",
      ">>> Metadata: {'shots': 10016, 'target_precision': 0.01, 'circuit_metadata': {}, 'resilience': {}, 'num_randomizations': 32}\n"
     ]
    }
   ],
   "source": [
    "import numpy as np\n",
    "\n",
    "from qiskit.circuit import QuantumCircuit, Parameter\n",
    "from qiskit.quantum_info import SparsePauliOp\n",
    "from qiskit.transpiler import generate_preset_pass_manager\n",
    "from qiskit_ibm_runtime import QiskitRuntimeService, EstimatorV2 as Estimator\n",
    "\n",
    "service = QiskitRuntimeService()\n",
    "backend = service.least_busy(operational=True, simulator=False)\n",
    "\n",
    "# Step 1: Map classical inputs to a quantum problem\n",
    "theta = Parameter(\"θ\")\n",
    "\n",
    "chsh_circuit = QuantumCircuit(2)\n",
    "chsh_circuit.h(0)\n",
    "chsh_circuit.cx(0, 1)\n",
    "chsh_circuit.ry(theta, 0)\n",
    "\n",
    "number_of_phases = 21\n",
    "phases = np.linspace(0, 2 * np.pi, number_of_phases)\n",
    "individual_phases = [[ph] for ph in phases]\n",
    "\n",
    "ZZ = SparsePauliOp.from_list([(\"ZZ\", 1)])\n",
    "ZX = SparsePauliOp.from_list([(\"ZX\", 1)])\n",
    "XZ = SparsePauliOp.from_list([(\"XZ\", 1)])\n",
    "XX = SparsePauliOp.from_list([(\"XX\", 1)])\n",
    "ops = [ZZ, ZX, XZ, XX]\n",
    "\n",
    "# Step 2: Optimize problem for quantum execution.\n",
    "\n",
    "pm = generate_preset_pass_manager(backend=backend, optimization_level=1)\n",
    "chsh_isa_circuit = pm.run(chsh_circuit)\n",
    "isa_observables = [\n",
    "    operator.apply_layout(chsh_isa_circuit.layout) for operator in ops\n",
    "]\n",
    "\n",
    "# Step 3: Execute using Qiskit primitives.\n",
    "\n",
    "# Reshape observable array for broadcasting\n",
    "reshaped_ops = np.fromiter(isa_observables, dtype=object)\n",
    "reshaped_ops = reshaped_ops.reshape((4, 1))\n",
    "\n",
    "estimator = Estimator(backend, options={\"default_shots\": int(1e4)})\n",
    "job = estimator.run([(chsh_isa_circuit, reshaped_ops, individual_phases)])\n",
    "# Get results for the first (and only) PUB\n",
    "pub_result = job.result()[0]\n",
    "print(f\">>> Expectation values: {pub_result.data.evs}\")\n",
    "print(f\">>> Standard errors: {pub_result.data.stds}\")\n",
    "print(f\">>> Metadata: {pub_result.metadata}\")"
   ]
  },
  {
   "cell_type": "markdown",
   "id": "793f0ed1-5682-4aa3-a4a0-7baba71650f9",
   "metadata": {},
   "source": [
    "### Use sessions and advanced options\n",
    "\n",
    "Explore sessions and advanced options to optimize circuit performance on QPUs.\n",
    "\n",
    "<CloudContent>\n",
    "<Admonition type=\"caution\">\n",
    "The following code block will return an error for Open Plan users because it uses sessions. Open Plan workloads can run only in [job mode](/docs/guides/execution-modes#job-mode) or [batch mode](/docs/guides/execution-modes#batch-mode).\n",
    "</Admonition>\n",
    "</CloudContent>"
   ]
  },
  {
   "cell_type": "code",
   "execution_count": 4,
   "id": "d007b547-8546-4ca3-aee6-9a4e3a82598d",
   "metadata": {},
   "outputs": [
    {
     "name": "stdout",
     "output_type": "stream",
     "text": [
      " > Expectation value: -0.12609457092819615\n",
      " > Metadata: {'shots': 4096, 'target_precision': 0.015625, 'circuit_metadata': {}, 'resilience': {}, 'num_randomizations': 32}\n",
      " > Another Expectation value: -0.0215633423180593\n",
      " > More Metadata: {'shots': 4096, 'target_precision': 0.015625, 'circuit_metadata': {}, 'resilience': {}, 'num_randomizations': 32}\n"
     ]
    }
   ],
   "source": [
    "import numpy as np\n",
    "from qiskit.circuit.library import iqp\n",
    "from qiskit.transpiler import generate_preset_pass_manager\n",
    "from qiskit.quantum_info import SparsePauliOp, random_hermitian\n",
    "from qiskit_ibm_runtime import (\n",
    "    QiskitRuntimeService,\n",
    "    Session,\n",
    "    EstimatorV2 as Estimator,\n",
    ")\n",
    "\n",
    "n_qubits = 50\n",
    "\n",
    "service = QiskitRuntimeService()\n",
    "backend = service.least_busy(\n",
    "    operational=True, simulator=False, min_num_qubits=n_qubits\n",
    ")\n",
    "\n",
    "rng = np.random.default_rng(1234)\n",
    "mat = np.real(random_hermitian(n_qubits, seed=rng))\n",
    "circuit = iqp(mat)\n",
    "mat = np.real(random_hermitian(n_qubits, seed=rng))\n",
    "another_circuit = iqp(mat)\n",
    "observable = SparsePauliOp(\"X\" * 50)\n",
    "another_observable = SparsePauliOp(\"Y\" * 50)\n",
    "\n",
    "pm = generate_preset_pass_manager(optimization_level=1, backend=backend)\n",
    "isa_circuit = pm.run(circuit)\n",
    "another_isa_circuit = pm.run(another_circuit)\n",
    "isa_observable = observable.apply_layout(isa_circuit.layout)\n",
    "another_isa_observable = another_observable.apply_layout(\n",
    "    another_isa_circuit.layout\n",
    ")\n",
    "\n",
    "with Session(backend=backend) as session:\n",
    "    estimator = Estimator(mode=session)\n",
    "\n",
    "    estimator.options.resilience_level = 1\n",
    "\n",
    "    job = estimator.run([(isa_circuit, isa_observable)])\n",
    "    another_job = estimator.run(\n",
    "        [(another_isa_circuit, another_isa_observable)]\n",
    "    )\n",
    "    result = job.result()\n",
    "    another_result = another_job.result()\n",
    "\n",
    "    # first job\n",
    "    print(f\" > Expectation value: {result[0].data.evs}\")\n",
    "    print(f\" > Metadata: {result[0].metadata}\")\n",
    "\n",
    "    # second job\n",
    "    print(f\" > Another Expectation value: {another_result[0].data.evs}\")\n",
    "    print(f\" > More Metadata: {another_result[0].metadata}\")"
   ]
  },
  {
   "cell_type": "markdown",
   "id": "12aea3c7-37a1-4a6b-b944-587669aa6611",
   "metadata": {},
   "source": [
    "<span id=\"sampler-examples\"></span>\n",
    "## Sampler examples\n",
    "\n",
    "Generate entire error-mitigated quasi-probability distributions sampled from quantum circuit outputs. Leverage Sampler’s capabilities for search and classification algorithms like Grover’s and QVSM.\n",
    "\n",
    "### Run a single experiment\n",
    "\n",
    "Use Sampler to return the measurement outcome as bitstrings or counts of a single circuit."
   ]
  },
  {
   "cell_type": "code",
   "execution_count": 5,
   "id": "a5a561b3-3819-4f9e-bb64-4c27267e0e96",
   "metadata": {
    "scrolled": true
   },
   "outputs": [
    {
     "name": "stdout",
     "output_type": "stream",
     "text": [
      " > First ten results: ['1001100101111110110010010100000000010110111000100100101011110111001110111110011000010101001010101010011001110010000110000011000', '0111101000111010100000011101100101100000000100111110001101001010000011001110110110001110010110111001000100000000001100000010000', '0110111101010100111001011001011101110110101100000101100100101110100100100100100010011000010011111001010010000010100010100000000', '1001011111110110101010000010001100001000001011100001011101101100000000001100100100011100100000101000111110011010000111100000000', '0011010000101001001100111001011001000100001000000100100100001001111100101111100010010010111000011000000100010011000000100010100', '1101110001000110011011110000110001001010001001011111001100100010110000010111001000011100001011011001010000000110001010001001000', '0111111011110000001101001100000000100110000110010111010101000001011010101001011011011101010000100101000001010100000110000000000', '1001101110001000000001010101101101110100000010010011001001101011101011000110001110011101010000000100011111000100000010000010010', '0001100100110101111101000110010111110100101010110001001001001111100101001111011000000110110000011000010111100110010110010001001', '0111100110010001110111111000001010110010101101011110111100000000011011100010110110101010000001010010010100101000100000101010001']\n"
     ]
    }
   ],
   "source": [
    "import numpy as np\n",
    "from qiskit.circuit.library import iqp\n",
    "from qiskit.transpiler import generate_preset_pass_manager\n",
    "from qiskit.quantum_info import random_hermitian\n",
    "from qiskit_ibm_runtime import QiskitRuntimeService, SamplerV2 as Sampler\n",
    "\n",
    "n_qubits = 127\n",
    "\n",
    "service = QiskitRuntimeService()\n",
    "backend = service.least_busy(\n",
    "    operational=True, simulator=False, min_num_qubits=n_qubits\n",
    ")\n",
    "\n",
    "mat = np.real(random_hermitian(n_qubits, seed=1234))\n",
    "circuit = iqp(mat)\n",
    "circuit.measure_all()\n",
    "\n",
    "pm = generate_preset_pass_manager(backend=backend, optimization_level=1)\n",
    "isa_circuit = pm.run(circuit)\n",
    "\n",
    "sampler = Sampler(backend)\n",
    "job = sampler.run([isa_circuit])\n",
    "result = job.result()\n",
    "\n",
    "# Get results for the first (and only) PUB\n",
    "pub_result = result[0]\n",
    "\n",
    "print(f\" > First ten results: {pub_result.data.meas.get_bitstrings()[:10]}\")"
   ]
  },
  {
   "cell_type": "markdown",
   "id": "c9ea6d3c-b03f-49e2-a8de-d32e58396e02",
   "metadata": {},
   "source": [
    "### Run multiple experiments in a single job\n",
    "\n",
    "Use Sampler to return the measurement outcome as bitstrings or counts of multiple circuits in one job."
   ]
  },
  {
   "cell_type": "code",
   "execution_count": 6,
   "id": "e4534da8-9fe3-402b-8afc-f4bd9fbed497",
   "metadata": {},
   "outputs": [
    {
     "name": "stdout",
     "output_type": "stream",
     "text": [
      " > First ten results for pub 0: ['0010110001001111100000011001101111011001001000110001010001111000010111000011101100000100101010011110001101000100001100010001001', '0010101111101110010101000011000011110000101011100011101001100010001111111101010010010100010001011001011101010100011001011001011', '0010110011100111101011001100100001110000101110101101100101110011011101011010000100010010100100001011001110110100111001010001101', '0111111000011100001000100011110011010101010001111000111011100110011000111001111101100101000010011111000000010111011101101000100', '0100001110010001001101001101011011000101001100110000100010101010011010101101001110001000010110010011010101010100010000011000000', '0100111001001100011100000100110100100101100010000010101001101001001010000010000100010010010100000000010100010011110010101000100', '0100011011111100100000001001010000101100110011011111010001000001001011001010101100001010110000011010011100000110100101000000001', '0001110011111111011000010111001101010011011000100100110010000001010011000001100100000110100100010110011100010000000101001000000', '0110011101001011111000111001110100100110010010111110001010110010010000111011001100111110000110001001001010001101110100101000011', '1011100001010001011110011011001111101000010100110101101010011100011001000011100100000100100000000011011000001100110100010000000']\n",
      " > First ten results for pub 1: ['0111111100110010000010001011111101101010001101111010010010001001000111010000000000001000101110001000110000111111001100000000100', '1001001011111000101000011000111000010000100010000110011001010010011010111000000001100011111101010000001011101000011000100010100', '0000000110001110011111010010100001110010111111110011000000001011000100010101110100100110100100001011001010001100111100101011110', '0111101000001010000011110110110100000100111110000001001111001010000101000111100011001010100111111101010000111000000000101000110', '1011110010110000001000010100100111110000010000101111011110000010011010000001000001101001001110000001000100101100011001011111110', '0000010111110100111010101010100010001010100011110011001001010100001001011101111010000001111110101011001100000100011110111010011', '0101010001100111000101111000100000100001101100110101101000100001110010110010110000000100100101100010010000000101100010100101010', '1100110000110001011000101011010010001010101011101100011001001000011111010001000000000010001111101011010000001100000100101001001', '0100000100111000001111111010101100100110100111010100000010111101100001111101100001000000011110010000010000100101010001001100000', '0001110010110000111101000010000001000000010111110111000110110110111101101100000000000001100001000011011010101000101100100100000']\n",
      " > First ten results for pub 2: ['0000011101000100110001101001111010010010000101100110011011000001100100110001010000101000101100011100101010110011000110110001101', '0011111001101100100010111001101001100100000000010010110000110000001001100110001100110100110000010010001011111100100101101000001', '0010001100010111100000100011001010010001101010111100010001110110000111100100111000101100111000111001110101111001101011101000000', '1011001001010010010001001011100100100000000101010100010110000101110100100000110010011011111000110010000101011111101100111011100', '1111110000110001010010100111000101111000001010011100111101101011110101100010110011000011000011111011001100011011101001111000010', '1001110001000001010000100011110001110110010000000100001100000110010000010110001000100001111000000010000100001101000101001011100', '0111111100000100011010010110100111111010001101100000100100010010110001100110000001001110011001011011100011110101110110001000010', '0001110100110110000101000101000010000111000001000110000101000101110101000011110000010110000001011011101010101000101100000010010', '1010011100111000100100111011001100100110010101100000000111000000001011100011010001010110110010110000010110001100001100100010000', '0000011101100111011000010001001010010001000101010000000001011010111101100010010100001101010000011100000100110101010100101000000']\n"
     ]
    }
   ],
   "source": [
    "import numpy as np\n",
    "from qiskit.circuit.library import iqp\n",
    "from qiskit.transpiler import generate_preset_pass_manager\n",
    "from qiskit.quantum_info import random_hermitian\n",
    "from qiskit_ibm_runtime import QiskitRuntimeService, SamplerV2 as Sampler\n",
    "\n",
    "n_qubits = 127\n",
    "\n",
    "service = QiskitRuntimeService()\n",
    "backend = service.least_busy(\n",
    "    operational=True, simulator=False, min_num_qubits=n_qubits\n",
    ")\n",
    "\n",
    "rng = np.random.default_rng()\n",
    "mats = [np.real(random_hermitian(n_qubits, seed=rng)) for _ in range(3)]\n",
    "circuits = [iqp(mat) for mat in mats]\n",
    "for circuit in circuits:\n",
    "    circuit.measure_all()\n",
    "\n",
    "pm = generate_preset_pass_manager(backend=backend, optimization_level=1)\n",
    "isa_circuits = pm.run(circuits)\n",
    "\n",
    "sampler = Sampler(mode=backend)\n",
    "job = sampler.run(isa_circuits)\n",
    "result = job.result()\n",
    "\n",
    "for idx, pub_result in enumerate(result):\n",
    "    print(\n",
    "        f\" > First ten results for pub {idx}: {pub_result.data.meas.get_bitstrings()[:10]}\"\n",
    "    )"
   ]
  },
  {
   "cell_type": "markdown",
   "id": "e3ce4f13-b772-4ee6-ba9d-d98da633ab5c",
   "metadata": {},
   "source": [
    "### Run parameterized circuits\n",
    "\n",
    "Run several experiments in a single job, leveraging parameter values to increase circuit reusability."
   ]
  },
  {
   "cell_type": "code",
   "execution_count": 7,
   "id": "c63c9cb6-0650-433c-b3d6-dcde06e465e4",
   "metadata": {},
   "outputs": [
    {
     "name": "stdout",
     "output_type": "stream",
     "text": [
      " >> First ten results for the meas output register: ['0100100000010000100010000111111011101111110111010001010011001001000000101101100000100111010100110001001110010010011010011100001', '1101011011011011100001100000111101000011110010111101111110111001011110101111000100001010000001010000011111100111011001010000111', '1100010011101111010001011110110010111100001110010011001110011110000110111110101000001110001111101001111101010011000011111110100', '0001111010010100101101100100110111010101101010010001100111011110001111010101101110010001110101011100110100001111011100110000110', '1000010000011011110001000101100111101001100011001001011100101110111000101010101000100000010111101101100111001010011001010001111', '1101110001011111000010001011111011000011100101000011010110011001000100110011101010101100000001101111101010001010110110011010011', '0111010000010110000110100100110111100101111000000001111011111001100011001010101000111010110001101001110011111101110100000100001', '0000010001011111100101010101101110110100101001110111011111011011000001100111011101101100010100110110001000101111011111011110111', '0011111001011011010011001000010011010101100001100011000111101101000101001100010111011011010100011000010101010000010101101000111', '1111011011100011001111100110001101000111000011000011000101011000111000011100111010110010010010110100100001001001010010110111111']\n"
     ]
    }
   ],
   "source": [
    "import numpy as np\n",
    "from qiskit.circuit.library import real_amplitudes\n",
    "from qiskit.transpiler import generate_preset_pass_manager\n",
    "from qiskit_ibm_runtime import QiskitRuntimeService, SamplerV2 as Sampler\n",
    "\n",
    "n_qubits = 127\n",
    "\n",
    "service = QiskitRuntimeService()\n",
    "backend = service.least_busy(\n",
    "    operational=True, simulator=False, min_num_qubits=n_qubits\n",
    ")\n",
    "\n",
    "# Step 1: Map classical inputs to a quantum problem\n",
    "circuit = real_amplitudes(num_qubits=n_qubits, reps=2)\n",
    "circuit.measure_all()\n",
    "\n",
    "# Define three sets of parameters for the circuit\n",
    "rng = np.random.default_rng(1234)\n",
    "parameter_values = [\n",
    "    rng.uniform(-np.pi, np.pi, size=circuit.num_parameters) for _ in range(3)\n",
    "]\n",
    "\n",
    "# Step 2: Optimize problem for quantum execution.\n",
    "\n",
    "pm = generate_preset_pass_manager(backend=backend, optimization_level=1)\n",
    "isa_circuit = pm.run(circuit)\n",
    "\n",
    "# Step 3: Execute using Qiskit primitives.\n",
    "sampler = Sampler(backend)\n",
    "job = sampler.run([(isa_circuit, parameter_values)])\n",
    "result = job.result()\n",
    "# Get results for the first (and only) PUB\n",
    "pub_result = result[0]\n",
    "# Get counts from the classical register \"meas\".\n",
    "print(\n",
    "    f\" >> First ten results for the meas output register: {pub_result.data.meas.get_bitstrings()[:10]}\"\n",
    ")"
   ]
  },
  {
   "cell_type": "markdown",
   "id": "a8b00d2a-3c5d-4670-9774-d39cdb262552",
   "metadata": {},
   "source": [
    "### Use sessions and advanced options\n",
    "\n",
    "Explore sessions and advanced options to optimize circuit performance on QPUs.\n",
    "\n",
    "<CloudContent>\n",
    "<Admonition type=\"caution\">\n",
    "The following code block will return an error for users on the Open Plan, because it uses sessions. Workloads on the Open Plan can run only in [job mode](/docs/guides/execution-modes#job-mode) or [batch mode](/docs/guides/execution-modes#batch-mode).\n",
    "</Admonition>\n",
    "</CloudContent>"
   ]
  },
  {
   "cell_type": "code",
   "execution_count": 8,
   "id": "881fdac4-973b-4cef-a3da-c011d326ff54",
   "metadata": {
    "scrolled": true
   },
   "outputs": [
    {
     "name": "stdout",
     "output_type": "stream",
     "text": [
      " > The first ten measurement results of job 1: ['1000110010100111000100001000110001101010010100100101010101011000010101110000010010100001101000100000101111001100001000100010010', '0001101000101001001010100001011000000000111101110001100111110110111111000101010000100100000000000101100111101110011011100000000', '1000011011001111010011011100110011000100001101101000000101001100011100100110010010100000101101010010100011000010010000001000000', '0001011011110000101001100100100010000000111101001001010100001100000000010000000111100010010011100000100100100000011010010000000', '0101111111111110001010110000000001111000000100110000000100000100000100100010110110010100001010100000001100100011011111101000100', '0110111110001000000101001001110001010000011000010011000111000001100000001111000010001000111010101001000101111110100000000000110', '0111110010011110010001111010010010000010101011010000010101001100101101110000010110100000100000100000100001100101000010110000000', '0111111111010011001000100110000110000000101100101010010101001010111011110100110000000111000001010000101011100101011101011000101', '0111000110001010111010101111100100011011111101100000010110000101100100110100110001101100011010000100100001100111101111101000010', '0011011111110001100100101111010000010000100000111011010100000011000010010110011110000100010010000001000001000110000000000100000']\n"
     ]
    }
   ],
   "source": [
    "import numpy as np\n",
    "from qiskit.circuit.library import iqp\n",
    "from qiskit.quantum_info import random_hermitian\n",
    "from qiskit.transpiler import generate_preset_pass_manager\n",
    "from qiskit_ibm_runtime import Session, SamplerV2 as Sampler\n",
    "from qiskit_ibm_runtime import QiskitRuntimeService\n",
    "\n",
    "n_qubits = 127\n",
    "\n",
    "service = QiskitRuntimeService()\n",
    "backend = service.least_busy(\n",
    "    operational=True, simulator=False, min_num_qubits=n_qubits\n",
    ")\n",
    "\n",
    "rng = np.random.default_rng(1234)\n",
    "mat = np.real(random_hermitian(n_qubits, seed=rng))\n",
    "circuit = iqp(mat)\n",
    "circuit.measure_all()\n",
    "mat = np.real(random_hermitian(n_qubits, seed=rng))\n",
    "another_circuit = iqp(mat)\n",
    "another_circuit.measure_all()\n",
    "\n",
    "pm = generate_preset_pass_manager(backend=backend, optimization_level=1)\n",
    "isa_circuit = pm.run(circuit)\n",
    "another_isa_circuit = pm.run(another_circuit)\n",
    "\n",
    "with Session(backend=backend) as session:\n",
    "    sampler = Sampler(mode=session)\n",
    "    job = sampler.run([isa_circuit])\n",
    "    another_job = sampler.run([another_isa_circuit])\n",
    "    result = job.result()\n",
    "    another_result = another_job.result()\n",
    "\n",
    "# first job\n",
    "\n",
    "print(\n",
    "    f\" > The first ten measurement results of job 1: {result[0].data.meas.get_bitstrings()[:10]}\"\n",
    ")"
   ]
  },
  {
   "cell_type": "code",
   "execution_count": 9,
   "id": "40fe2a06-edfc-41a8-9054-7f31ab93a00c",
   "metadata": {},
   "outputs": [
    {
     "name": "stdout",
     "output_type": "stream",
     "text": [
      " > The first ten measurement results of job 2: ['0001111001010000111111000001001100011111100100000010111010010000100001010011010101010100010001110010100000010101100011011100000', '1010000011010010011000001100110000011000010000001001010010110110100100111001101000111000000011111010011010001000101101000010000', '1100101010001111001100101100000100011011111010101000101010010110111001011110100001001011111101110000010000100110001100011011000', '0110010110011101111100001000110010010011110100101010100000011000101000100010011001000110100100101000011010010000100000101101000', '0000000100000000100000000110000001000101111100101101010111001100110111110110001000110010000011000001000010100110100010100000100', '1111001000001011110100001000000110010000010000111001010000000000100100101101100001000110111000010100000101100000011000011010110', '1001001000011111010101011010000011110011001110100101001111100100100101001001001100000001110010110001000010000000001011001001000', '1111110010001100101111001110010100100001001000111100101101110110001100011100001000100010010001110010111100100000101010110000000', '1001010011101100110010000000000101100011101111011100011110000100000001111110100000110001001000001010011100000100111001001101001', '1000111001010001101110101010110101110001000110110001010110101010011100011100101100100011110111110010000000000000101100001001000']\n"
     ]
    }
   ],
   "source": [
    "# second job\n",
    "print(\n",
    "    \" > The first ten measurement results of job 2:\",\n",
    "    another_result[0].data.meas.get_bitstrings()[:10],\n",
    ")"
   ]
  },
  {
   "cell_type": "markdown",
   "id": "551e1894-a12a-4f6c-8347-020fdc9db74e",
   "metadata": {},
   "source": [
    "## Next steps\n",
    "\n",
    "<Admonition type=\"tip\" title=\"Recommendations\">\n",
    "    - [Specify advanced runtime options.](runtime-options-overview)\n",
    "    - Practice with primitives by working through the [Cost function lesson](/learning/courses/variational-algorithm-design/cost-functions) in IBM Quantum Learning.\n",
    "    - Learn how to transpile locally in the [Transpile](./transpile/) section.\n",
    "    - Try the [Compare transpiler settings](/docs/tutorials/circuit-transpilation-settings) tutorial.\n",
    "    - Read [Migrate to V2 primitives](/docs/migration-guides/v2-primitives).\n",
    "    - Understand the [Job limits](/docs/guides/job-limits) when sending a job to an IBM&reg; QPU.\n",
    "</Admonition>"
   ]
  }
 ],
 "metadata": {
  "description": "Practical examples of using primitives in Qiskit Runtime.",
  "kernelspec": {
   "display_name": "Python 3",
   "language": "python",
   "name": "python3"
  },
  "language_info": {
   "codemirror_mode": {
    "name": "ipython",
    "version": 3
   },
   "file_extension": ".py",
   "mimetype": "text/x-python",
   "name": "python",
   "nbconvert_exporter": "python",
   "pygments_lexer": "ipython3",
   "version": "3"
  },
  "title": "Primitives examples"
 },
 "nbformat": 4,
 "nbformat_minor": 4
}
