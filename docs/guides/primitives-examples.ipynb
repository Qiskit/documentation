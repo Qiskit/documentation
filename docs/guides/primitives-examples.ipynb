{
 "cells": [
  {
   "cell_type": "markdown",
   "id": "1f4a2ec4-3595-4300-8f9e-092b0ef9b444",
   "metadata": {},
   "source": [
    "# Primitives examples\n",
    "\n",
    "<LegacyContent>\n",
    "<Admonition type=\"note\">\n",
    "This documentation is relevant to IBM Quantum&reg; Platform Classic. If you need the newer version, go to the new [IBM Quantum Platform documentation.](https://quantum.cloud.ibm.com/docs/guides/primitives-examples)\n",
    "</Admonition>\n",
    "</LegacyContent>\n",
    "<CloudContent>\n",
    "<Admonition type=\"note\">\n",
    "This documentation is relevant to the new IBM Quantum&reg; Platform. If you need the previous version, return to the [IBM Quantum Platform Classic documentation.](https://docs.quantum.ibm.com/guides/primitives-examples)\n",
    "</Admonition>\n",
    "</CloudContent>\n",
    "\n",
    "The examples in this section illustrate some common ways to use primitives. Before running these examples, follow the instructions in [Install and set up.](install-qiskit)\n",
    "\n",
    "<Admonition type=\"note\">\n",
    "    These examples all use the primitives from Qiskit Runtime, but you could use the base primitives instead.\n",
    "</Admonition>\n",
    "\n",
    "## Estimator examples\n",
    "\n",
    "Efficiently calculate and interpret expectation values of the quantum operators required for many algorithms with Estimator. Explore uses in molecular modeling, machine learning, and complex optimization problems.\n",
    "\n",
    "### Run a single experiment\n",
    "\n",
    "Use Estimator to determine the expectation value of a single circuit-observable pair."
   ]
  },
  {
   "cell_type": "code",
   "execution_count": 1,
   "id": "24573866-7cf2-40e1-b61c-a2bdcecb759b",
   "metadata": {},
   "outputs": [
    {
     "name": "stdout",
     "output_type": "stream",
     "text": [
      " > Expectation value: 0.12873563218390804\n",
      " > Metadata: {'shots': 4096, 'target_precision': 0.015625, 'circuit_metadata': {}, 'resilience': {}, 'num_randomizations': 32}\n"
     ]
    }
   ],
   "source": [
    "import numpy as np\n",
    "from qiskit.circuit.library import iqp\n",
    "from qiskit.transpiler import generate_preset_pass_manager\n",
    "from qiskit.quantum_info import SparsePauliOp, random_hermitian\n",
    "from qiskit_ibm_runtime import QiskitRuntimeService, EstimatorV2 as Estimator\n",
    "\n",
    "n_qubits = 50\n",
    "\n",
    "service = QiskitRuntimeService()\n",
    "backend = service.least_busy(\n",
    "    operational=True, simulator=False, min_num_qubits=n_qubits\n",
    ")\n",
    "\n",
    "mat = np.real(random_hermitian(n_qubits, seed=1234))\n",
    "circuit = iqp(mat)\n",
    "observable = SparsePauliOp(\"Z\" * 50)\n",
    "\n",
    "pm = generate_preset_pass_manager(backend=backend, optimization_level=1)\n",
    "isa_circuit = pm.run(circuit)\n",
    "isa_observable = observable.apply_layout(isa_circuit.layout)\n",
    "\n",
    "estimator = Estimator(mode=backend)\n",
    "job = estimator.run([(isa_circuit, isa_observable)])\n",
    "result = job.result()\n",
    "\n",
    "print(f\" > Expectation value: {result[0].data.evs}\")\n",
    "print(f\" > Metadata: {result[0].metadata}\")"
   ]
  },
  {
   "cell_type": "markdown",
   "id": "63769604-ec9e-4ff3-823d-e60f4eb8a877",
   "metadata": {},
   "source": [
    "### Run multiple experiments in a single job\n",
    "\n",
    "Use Estimator to determine the expectation values of multiple circuit-observable pairs."
   ]
  },
  {
   "cell_type": "code",
   "execution_count": 2,
   "id": "bf4668bd-aaaf-4b23-af4b-4df767bd6d1a",
   "metadata": {},
   "outputs": [
    {
     "name": "stdout",
     "output_type": "stream",
     "text": [
      ">>> Expectation values for PUB 0: 0.004291845493562232\n",
      ">>> Standard errors for PUB 0: 0.13345990798599264\n",
      ">>> Expectation values for PUB 1: 0.19480519480519481\n",
      ">>> Standard errors for PUB 1: 0.16430350456558887\n",
      ">>> Expectation values for PUB 2: 0.12716763005780346\n",
      ">>> Standard errors for PUB 2: 0.11122094161154085\n"
     ]
    }
   ],
   "source": [
    "import numpy as np\n",
    "from qiskit.circuit.library import iqp\n",
    "from qiskit.transpiler import generate_preset_pass_manager\n",
    "from qiskit.quantum_info import SparsePauliOp, random_hermitian\n",
    "from qiskit_ibm_runtime import QiskitRuntimeService, EstimatorV2 as Estimator\n",
    "\n",
    "n_qubits = 50\n",
    "\n",
    "service = QiskitRuntimeService()\n",
    "backend = service.least_busy(\n",
    "    operational=True, simulator=False, min_num_qubits=n_qubits\n",
    ")\n",
    "\n",
    "rng = np.random.default_rng()\n",
    "mats = [np.real(random_hermitian(n_qubits, seed=rng)) for _ in range(3)]\n",
    "\n",
    "pubs = []\n",
    "circuits = [iqp(mat) for mat in mats]\n",
    "observables = [\n",
    "    SparsePauliOp(\"X\" * 50),\n",
    "    SparsePauliOp(\"Y\" * 50),\n",
    "    SparsePauliOp(\"Z\" * 50),\n",
    "]\n",
    "\n",
    "# Get ISA circuits\n",
    "pm = generate_preset_pass_manager(optimization_level=1, backend=backend)\n",
    "\n",
    "for qc, obs in zip(circuits, observables):\n",
    "    isa_circuit = pm.run(qc)\n",
    "    isa_obs = obs.apply_layout(isa_circuit.layout)\n",
    "    pubs.append((isa_circuit, isa_obs))\n",
    "\n",
    "estimator = Estimator(backend)\n",
    "job = estimator.run(pubs)\n",
    "job_result = job.result()\n",
    "\n",
    "for idx in range(len(pubs)):\n",
    "    pub_result = job_result[idx]\n",
    "    print(f\">>> Expectation values for PUB {idx}: {pub_result.data.evs}\")\n",
    "    print(f\">>> Standard errors for PUB {idx}: {pub_result.data.stds}\")"
   ]
  },
  {
   "cell_type": "markdown",
   "id": "60bf051a-40f8-47a9-b74d-38713bc15210",
   "metadata": {},
   "source": [
    "### Run parameterized circuits\n",
    "\n",
    "Use Estimator to run three experiments in a single job, leveraging parameter values to increase circuit reusability."
   ]
  },
  {
   "cell_type": "code",
   "execution_count": 3,
   "id": "67dc98b8-499c-44d9-ada1-6abc9d6198c0",
   "metadata": {},
   "outputs": [
    {
     "name": "stdout",
     "output_type": "stream",
     "text": [
      ">>> Expectation values: [[ 0.95590377  0.89935552  0.74834352  0.53840002  0.30830713 -0.01278294\n",
      "  -0.31329031 -0.57696549 -0.77780928 -0.9119218  -0.95633709 -0.90607198\n",
      "  -0.76285974 -0.55053298 -0.27364154  0.04614857  0.32109007  0.56634915\n",
      "   0.78019254  0.90152212  0.94810401]\n",
      " [ 0.02513256  0.31090705  0.58281531  0.78019254  0.90498868  0.93770434\n",
      "   0.88765588  0.74856018  0.55811607  0.28707446 -0.01668282 -0.31155703\n",
      "  -0.59191503 -0.78084252 -0.90932188 -0.94702071 -0.89913886 -0.75159342\n",
      "  -0.55204959 -0.26800838  0.0227493 ]\n",
      " [-0.00844974 -0.2857745  -0.57934875 -0.81009162 -0.94095423 -0.99598587\n",
      "  -0.94745403 -0.79145886 -0.59148171 -0.29595751  0.02014938  0.30029071\n",
      "   0.58433193  0.79319214  0.94745403  1.00010241  0.95482047  0.82114127\n",
      "   0.59494827  0.31285699  0.02231598]\n",
      " [ 0.99360261  0.95698707  0.79644204  0.58498191  0.31285699 -0.01494954\n",
      "  -0.30960709 -0.58866513 -0.79817532 -0.94767069 -0.99446925 -0.93857098\n",
      "  -0.79687536 -0.58173201 -0.30050737 -0.00346656  0.31242367  0.59646489\n",
      "   0.80077524  0.937921    0.99728583]]\n",
      ">>> Standard errors: [[0.00504786 0.00667333 0.0083812  0.01054676 0.00892241 0.00999279\n",
      "  0.01093261 0.00945601 0.00822911 0.00581692 0.00619395 0.00656985\n",
      "  0.00780291 0.01087981 0.01191748 0.00971464 0.01157613 0.00839637\n",
      "  0.00904054 0.00592417 0.00657023]\n",
      " [0.01012424 0.01076859 0.01062082 0.00853852 0.00666866 0.00508736\n",
      "  0.00588896 0.00884481 0.01001781 0.0077157  0.01115483 0.01139694\n",
      "  0.00783544 0.00782913 0.00734898 0.00544715 0.00642009 0.00692577\n",
      "  0.01048649 0.0125073  0.01216682]\n",
      " [0.01591895 0.01440403 0.00886074 0.00810916 0.00564782 0.00472974\n",
      "  0.00648421 0.00858865 0.00919006 0.01215802 0.01348483 0.01188922\n",
      "  0.01066448 0.00811026 0.00670487 0.00607919 0.00602203 0.0079535\n",
      "  0.01105534 0.01253033 0.01364532]\n",
      " [0.00522985 0.0054188  0.00895048 0.014571   0.00983069 0.01321314\n",
      "  0.01044757 0.00924725 0.0089618  0.00692089 0.00540291 0.00623076\n",
      "  0.00749615 0.00864124 0.01207212 0.01402445 0.01128531 0.00917415\n",
      "  0.00947355 0.00557817 0.00596448]]\n",
      ">>> Metadata: {'shots': 10016, 'target_precision': 0.01, 'circuit_metadata': {}, 'resilience': {}, 'num_randomizations': 32}\n"
     ]
    }
   ],
   "source": [
    "import numpy as np\n",
    "\n",
    "from qiskit.circuit import QuantumCircuit, Parameter\n",
    "from qiskit.quantum_info import SparsePauliOp\n",
    "from qiskit.transpiler import generate_preset_pass_manager\n",
    "from qiskit_ibm_runtime import QiskitRuntimeService, EstimatorV2 as Estimator\n",
    "\n",
    "service = QiskitRuntimeService()\n",
    "backend = service.least_busy(operational=True, simulator=False)\n",
    "\n",
    "# Step 1: Map classical inputs to a quantum problem\n",
    "theta = Parameter(\"θ\")\n",
    "\n",
    "chsh_circuit = QuantumCircuit(2)\n",
    "chsh_circuit.h(0)\n",
    "chsh_circuit.cx(0, 1)\n",
    "chsh_circuit.ry(theta, 0)\n",
    "\n",
    "number_of_phases = 21\n",
    "phases = np.linspace(0, 2 * np.pi, number_of_phases)\n",
    "individual_phases = [[ph] for ph in phases]\n",
    "\n",
    "ZZ = SparsePauliOp.from_list([(\"ZZ\", 1)])\n",
    "ZX = SparsePauliOp.from_list([(\"ZX\", 1)])\n",
    "XZ = SparsePauliOp.from_list([(\"XZ\", 1)])\n",
    "XX = SparsePauliOp.from_list([(\"XX\", 1)])\n",
    "ops = [ZZ, ZX, XZ, XX]\n",
    "\n",
    "# Step 2: Optimize problem for quantum execution.\n",
    "\n",
    "pm = generate_preset_pass_manager(backend=backend, optimization_level=1)\n",
    "chsh_isa_circuit = pm.run(chsh_circuit)\n",
    "isa_observables = [\n",
    "    operator.apply_layout(chsh_isa_circuit.layout) for operator in ops\n",
    "]\n",
    "\n",
    "# Step 3: Execute using Qiskit primitives.\n",
    "\n",
    "# Reshape observable array for broadcasting\n",
    "reshaped_ops = np.fromiter(isa_observables, dtype=object)\n",
    "reshaped_ops = reshaped_ops.reshape((4, 1))\n",
    "\n",
    "estimator = Estimator(backend, options={\"default_shots\": int(1e4)})\n",
    "job = estimator.run([(chsh_isa_circuit, reshaped_ops, individual_phases)])\n",
    "# Get results for the first (and only) PUB\n",
    "pub_result = job.result()[0]\n",
    "print(f\">>> Expectation values: {pub_result.data.evs}\")\n",
    "print(f\">>> Standard errors: {pub_result.data.stds}\")\n",
    "print(f\">>> Metadata: {pub_result.metadata}\")"
   ]
  },
  {
   "cell_type": "markdown",
   "id": "793f0ed1-5682-4aa3-a4a0-7baba71650f9",
   "metadata": {},
   "source": [
    "### Use sessions and advanced options\n",
    "\n",
    "Explore sessions and advanced options to optimize circuit performance on QPUs.\n",
    "\n",
    "<CloudContent>\n",
    "<Admonition type=\"caution\">\n",
    "The following code block will return an error for Open Plan users because it uses sessions. Open Plan workloads can run only in [job mode](/guides/execution-modes#job-mode) or [batch mode](/guides/execution-modes#batch-mode).\n",
    "</Admonition>\n",
    "</CloudContent>"
   ]
  },
  {
   "cell_type": "code",
   "execution_count": 4,
   "id": "d007b547-8546-4ca3-aee6-9a4e3a82598d",
   "metadata": {},
   "outputs": [
    {
     "name": "stdout",
     "output_type": "stream",
     "text": [
      " > Expectation value: -0.11786372007366483\n",
      " > Metadata: {'shots': 4096, 'target_precision': 0.015625, 'circuit_metadata': {}, 'resilience': {}, 'num_randomizations': 32}\n",
      " > Another Expectation value: -0.023054755043227664\n",
      " > More Metadata: {'shots': 4096, 'target_precision': 0.015625, 'circuit_metadata': {}, 'resilience': {}, 'num_randomizations': 32}\n"
     ]
    }
   ],
   "source": [
    "import numpy as np\n",
    "from qiskit.circuit.library import iqp\n",
    "from qiskit.transpiler import generate_preset_pass_manager\n",
    "from qiskit.quantum_info import SparsePauliOp, random_hermitian\n",
    "from qiskit_ibm_runtime import (\n",
    "    QiskitRuntimeService,\n",
    "    Session,\n",
    "    EstimatorV2 as Estimator,\n",
    ")\n",
    "\n",
    "n_qubits = 50\n",
    "\n",
    "service = QiskitRuntimeService()\n",
    "backend = service.least_busy(\n",
    "    operational=True, simulator=False, min_num_qubits=n_qubits\n",
    ")\n",
    "\n",
    "rng = np.random.default_rng(1234)\n",
    "mat = np.real(random_hermitian(n_qubits, seed=rng))\n",
    "circuit = iqp(mat)\n",
    "mat = np.real(random_hermitian(n_qubits, seed=rng))\n",
    "another_circuit = iqp(mat)\n",
    "observable = SparsePauliOp(\"X\" * 50)\n",
    "another_observable = SparsePauliOp(\"Y\" * 50)\n",
    "\n",
    "pm = generate_preset_pass_manager(optimization_level=1, backend=backend)\n",
    "isa_circuit = pm.run(circuit)\n",
    "another_isa_circuit = pm.run(another_circuit)\n",
    "isa_observable = observable.apply_layout(isa_circuit.layout)\n",
    "another_isa_observable = another_observable.apply_layout(\n",
    "    another_isa_circuit.layout\n",
    ")\n",
    "\n",
    "with Session(backend=backend) as session:\n",
    "    estimator = Estimator(mode=session)\n",
    "\n",
    "    estimator.options.resilience_level = 1\n",
    "\n",
    "    job = estimator.run([(isa_circuit, isa_observable)])\n",
    "    another_job = estimator.run(\n",
    "        [(another_isa_circuit, another_isa_observable)]\n",
    "    )\n",
    "    result = job.result()\n",
    "    another_result = another_job.result()\n",
    "\n",
    "    # first job\n",
    "    print(f\" > Expectation value: {result[0].data.evs}\")\n",
    "    print(f\" > Metadata: {result[0].metadata}\")\n",
    "\n",
    "    # second job\n",
    "    print(f\" > Another Expectation value: {another_result[0].data.evs}\")\n",
    "    print(f\" > More Metadata: {another_result[0].metadata}\")"
   ]
  },
  {
   "cell_type": "markdown",
   "id": "12aea3c7-37a1-4a6b-b944-587669aa6611",
   "metadata": {},
   "source": [
    "<span id=\"sampler-examples\"></span>\n",
    "## Sampler examples\n",
    "\n",
    "Generate entire error-mitigated quasi-probability distributions sampled from quantum circuit outputs. Leverage Sampler’s capabilities for search and classification algorithms like Grover’s and QVSM.\n",
    "\n",
    "### Run a single experiment\n",
    "\n",
    "Use Sampler to return the measurement outcome as bitstrings or counts of a single circuit."
   ]
  },
  {
   "cell_type": "code",
   "execution_count": 5,
   "id": "a5a561b3-3819-4f9e-bb64-4c27267e0e96",
   "metadata": {
    "scrolled": true
   },
   "outputs": [
    {
     "name": "stdout",
     "output_type": "stream",
     "text": [
      " > First ten results: ['1000111011000000000111101111001000000000001001000000000010010111000000110000110010010010101010001010010111001000010100000000010', '1011110111000000110111101000000000001000000000001011010000100000111011011001101010000011101101011000001010000010101111000000010', '1000100000000001111001111111111100111100110001110010100000010100011010111011111001001000101001100001111010000000110110011111000', '1110101101110001011110010001000110110110001000101011010011101010000010011001111001001000101001111011101000000011010110110100000', '0110010111111100110000101010010110000100110101011100100110111011010000100011101001000001100001000010010101101000100000010001001', '1000100110011101010000001000000010101100000000000001010000000011000101000011110101010000110100010100111001001001010101111101010', '1000111101110001110100010101010110110100100001100000110000001011101110000001001101001000011101111011001000000110011110000101111', '1000110110111100100000010110111100010010011100011100010010110100011101110011010001000110000010011110010001100000100111101101000', '0100110010101111010001000010011110010110011001101100000010100000010001101110001100011100000000110000001010011000011010010101011', '1101100110101010110001111011001010101010011100001100010000101110001100010001010100111000000101001000001000001000100111010001010']\n"
     ]
    }
   ],
   "source": [
    "import numpy as np\n",
    "from qiskit.circuit.library import iqp\n",
    "from qiskit.transpiler import generate_preset_pass_manager\n",
    "from qiskit.quantum_info import random_hermitian\n",
    "from qiskit_ibm_runtime import QiskitRuntimeService, SamplerV2 as Sampler\n",
    "\n",
    "n_qubits = 127\n",
    "\n",
    "service = QiskitRuntimeService()\n",
    "backend = service.least_busy(\n",
    "    operational=True, simulator=False, min_num_qubits=n_qubits\n",
    ")\n",
    "\n",
    "mat = np.real(random_hermitian(n_qubits, seed=1234))\n",
    "circuit = iqp(mat)\n",
    "circuit.measure_all()\n",
    "\n",
    "pm = generate_preset_pass_manager(backend=backend, optimization_level=1)\n",
    "isa_circuit = pm.run(circuit)\n",
    "\n",
    "sampler = Sampler(backend)\n",
    "job = sampler.run([isa_circuit])\n",
    "result = job.result()\n",
    "\n",
    "# Get results for the first (and only) PUB\n",
    "pub_result = result[0]\n",
    "\n",
    "print(f\" > First ten results: {pub_result.data.meas.get_bitstrings()[:10]}\")"
   ]
  },
  {
   "cell_type": "markdown",
   "id": "c9ea6d3c-b03f-49e2-a8de-d32e58396e02",
   "metadata": {},
   "source": [
    "### Run multiple experiments in a single job\n",
    "\n",
    "Use Sampler to return the measurement outcome as bitstrings or counts of multiple circuits in one job."
   ]
  },
  {
   "cell_type": "code",
   "execution_count": 6,
   "id": "e4534da8-9fe3-402b-8afc-f4bd9fbed497",
   "metadata": {},
   "outputs": [
    {
     "name": "stdout",
     "output_type": "stream",
     "text": [
      " > First ten results for pub 0: ['0011111011001001011010110011000101001010110001100101010100010111100011100111110011000100000100101110000000110001010000000110000', '1001011111010010011001110100000010101111010011111110100111010101000010011001110001011100100101000010110000110111010001010110101', '1000101101001100110100100001110110110111000010110110010000100001100000100101111101010101100010000010011101100000011011010100001', '1110001000010011110010000011000011011010111001110110101101010111010110011011001111110011111110111001100101101011000010000000101', '0010101000010110100100011101001000001000100101000110011110111101000100111110100100110000001001001001011000100000111000000000101', '1111001011010001010011000011111100010100000010000001110111110011110110000100110001101010010010010100000100001101000011000100100', '0111100101000011110011000101101001010100110001110110011100010000011000111110001001101100011010000100011000101001100000011100000', '0001101111001001011000110111000111110100111000110010001101011101000100111111100101010000000000010011110100110101000101010010000', '0011111010000101000010010011101100010010100000101010010010101011100000001110000011111000011001001000011110100000101101000000100', '1011111101011101110000100001000110100110100110001010101101010010000100100001010100011011011011011100101010010111010010010101100']\n",
      " > First ten results for pub 1: ['0001010011011011000101000010100010110010000011101101100101101010001100100110000000100100001000001101100110000100010100001010010', '1010000001001001000001101011100011100011111010100000100010010000110110000010011011101011111001001100010110001100011000110110001', '0011001101101101010000011000001010110001011001101110100101100001111001110001010000000110100010001100001110110000000110010011001', '0100111010101011110000100000101011111011010101101110000011111000111100010100111010010000000000101001111000000000000110000100100', '1001001000111001011011011111011001111000110101010000100110101001100011101000011001001000001001100110011000001101000011000111001', '1010000011001110011100001011010000111000111101001001010010000101100000101111110110100010011011010100011000100100000110111100010', '0100001000100101100011000111000111010001110100100110010101000101000000100010101010010001110100011101000010111100000110011110101', '0011011011011001010100001001000101001000110000100100010111110101111111100101101001011011111010000100111000000000000100010000011', '1101101111111010100000011111010101010101010101100011010000011111010001100001111110011011000000001011110000001001001110011101111', '0100001010101010011001111001000011010000110100100100010110011110000001101010101001110000110101100011010100000001100000001111011']\n",
      " > First ten results for pub 2: ['1001101011100000000001100011010110001010000011000010011011001100110000010001000100110000111110011010000110111110010000000000101', '0001111110001100011000111010010010001010000101000101110010101011001001000110010001010010101101101000111101011111010001010000100', '0011001000110100010000100101110100110100011010001011010101100011100000110001001100101010011010000001101111001000100101100110000', '0010111110110010110001011101010010100110001001000011010100000111111011101100111101111000010110100110110100011010000101000111101', '0001001010100100000100101000001010101000101010101011000101000000110011100110010110000111111000011000001111010001010001011111101', '0010001111001010110101010011100010111111000101101000011001100110011100000100100010100001110001010000000010101001111001000100100', '1001100010110110000000011001111100111010000111001001100001001111010000001010110111101010100000010101110110001101011100111001000', '0010001000011111101001001111010001111111001001101111110100011001110000000000111101001101010001100010001100110011101000101111100', '1000100100000100000110011111111100111000100101000110101011100010001001100010111110001001100010101110001100101011000001101011000', '0011001001110011101000001111100000000001000011001100110110100100010001110010000100011111000000110100011100110011101101001100100']\n"
     ]
    }
   ],
   "source": [
    "import numpy as np\n",
    "from qiskit.circuit.library import iqp\n",
    "from qiskit.transpiler import generate_preset_pass_manager\n",
    "from qiskit.quantum_info import random_hermitian\n",
    "from qiskit_ibm_runtime import QiskitRuntimeService, SamplerV2 as Sampler\n",
    "\n",
    "n_qubits = 127\n",
    "\n",
    "service = QiskitRuntimeService()\n",
    "backend = service.least_busy(\n",
    "    operational=True, simulator=False, min_num_qubits=n_qubits\n",
    ")\n",
    "\n",
    "rng = np.random.default_rng()\n",
    "mats = [np.real(random_hermitian(n_qubits, seed=rng)) for _ in range(3)]\n",
    "circuits = [iqp(mat) for mat in mats]\n",
    "for circuit in circuits:\n",
    "    circuit.measure_all()\n",
    "\n",
    "pm = generate_preset_pass_manager(backend=backend, optimization_level=1)\n",
    "isa_circuits = pm.run(circuits)\n",
    "\n",
    "sampler = Sampler(mode=backend)\n",
    "job = sampler.run(isa_circuits)\n",
    "result = job.result()\n",
    "\n",
    "for idx, pub_result in enumerate(result):\n",
    "    print(\n",
    "        f\" > First ten results for pub {idx}: {pub_result.data.meas.get_bitstrings()[:10]}\"\n",
    "    )"
   ]
  },
  {
   "cell_type": "markdown",
   "id": "e3ce4f13-b772-4ee6-ba9d-d98da633ab5c",
   "metadata": {},
   "source": [
    "### Run parameterized circuits\n",
    "\n",
    "Run several experiments in a single job, leveraging parameter values to increase circuit reusability."
   ]
  },
  {
   "cell_type": "code",
   "execution_count": 7,
   "id": "c63c9cb6-0650-433c-b3d6-dcde06e465e4",
   "metadata": {},
   "outputs": [
    {
     "name": "stdout",
     "output_type": "stream",
     "text": [
      " >> First ten results for the meas output register: ['1101011001110100001010000111010100110000000011110101011111011100000000000001110011000001011111000101111010100111110001110000110', '1101010001110001011111100100110111111000000101000010110110001111000111110001010010000010100101011000000001110100111001111110101', '0111011000010011110010010101100101110001011000110010001101001100100001100111111111010100010101011001110011110100011011010000011', '0001011100011001101010011001111100000000001011110001010000001100000001100111011010011111110101001010011111011011111111010001111', '0000001010010101111010010100101100100001011101111010100110001111110011110101001010000110100111100011010011101011111100001100111', '0100111101001111111010010000100101110110111011010111011111101001010100100111001001000000001001011100111111010111100111110110111', '0010011010011001110010000101110001010000101100111011110111011011111111101000110000101101110001011010111100100000010110011110110', '0101001110010001100111011100110100100001001001000100111111111011010011101101001010011101100011010000011000011010010010000001111', '0001000000010101101011011110111110100000000100011110111111110110000010111100101001111000010000110101110011011000000110100000111', '0111110000110101110011010100111101110001101001000011110111111101100000101110101101101101001001010000000110111101111110010000010']\n"
     ]
    }
   ],
   "source": [
    "import numpy as np\n",
    "from qiskit.circuit.library import real_amplitudes\n",
    "from qiskit.transpiler import generate_preset_pass_manager\n",
    "from qiskit_ibm_runtime import QiskitRuntimeService, SamplerV2 as Sampler\n",
    "\n",
    "n_qubits = 127\n",
    "\n",
    "service = QiskitRuntimeService()\n",
    "backend = service.least_busy(\n",
    "    operational=True, simulator=False, min_num_qubits=n_qubits\n",
    ")\n",
    "\n",
    "# Step 1: Map classical inputs to a quantum problem\n",
    "circuit = real_amplitudes(num_qubits=n_qubits, reps=2)\n",
    "circuit.measure_all()\n",
    "\n",
    "# Define three sets of parameters for the circuit\n",
    "rng = np.random.default_rng(1234)\n",
    "parameter_values = [\n",
    "    rng.uniform(-np.pi, np.pi, size=circuit.num_parameters) for _ in range(3)\n",
    "]\n",
    "\n",
    "# Step 2: Optimize problem for quantum execution.\n",
    "\n",
    "pm = generate_preset_pass_manager(backend=backend, optimization_level=1)\n",
    "isa_circuit = pm.run(circuit)\n",
    "\n",
    "# Step 3: Execute using Qiskit primitives.\n",
    "sampler = Sampler(backend)\n",
    "job = sampler.run([(isa_circuit, parameter_values)])\n",
    "result = job.result()\n",
    "# Get results for the first (and only) PUB\n",
    "pub_result = result[0]\n",
    "# Get counts from the classical register \"meas\".\n",
    "print(\n",
    "    f\" >> First ten results for the meas output register: {pub_result.data.meas.get_bitstrings()[:10]}\"\n",
    ")"
   ]
  },
  {
   "cell_type": "markdown",
   "id": "a8b00d2a-3c5d-4670-9774-d39cdb262552",
   "metadata": {},
   "source": [
    "### Use sessions and advanced options\n",
    "\n",
    "Explore sessions and advanced options to optimize circuit performance on QPUs.\n",
    "\n",
    "<CloudContent>\n",
    "<Admonition type=\"caution\">\n",
    "The following code block will return an error for users on the Open Plan, because it uses sessions. Workloads on the Open Plan can run only in [job mode](/guides/execution-modes#job-mode) or [batch mode](/guides/execution-modes#batch-mode).\n",
    "</Admonition>\n",
    "</CloudContent>"
   ]
  },
  {
   "cell_type": "code",
   "execution_count": 8,
   "id": "881fdac4-973b-4cef-a3da-c011d326ff54",
   "metadata": {
    "scrolled": true
   },
   "outputs": [
    {
     "name": "stdout",
     "output_type": "stream",
     "text": [
      " > The first ten measurement results of job 1: ['1111101010100100100101010011110111111111000100111011010001111000111000100111000111000000000100100001111111101001011101110100100', '0010101001010001001010011000011100101000001100001010101001011000111100111100000101110100101100010010001001110000010000010000111', '1100011101101011101001110110000010101101111110000000110010101100001110110011010101110000110001000010111100110100100111100011010', '0100111001101001100110001100011100110111000000011001101110010001001010011101010001010000011100100000111101111110000111010011111', '0000101010111001000101000000010100110100111100010000001000100000110000101010100010101100110100011100100111010001110001001000000', '0101001011010100001000001001100110010110100001101100000010100100001100101111000000101000010101011010100101110010101000000000001', '0101100101101010000101001100010001101100100100011111001000001000010010100110100111110000011101110100000011111000101001000001010', '1111110000110011000010000101010100111000100110101100011111110100011100001110100000010111101000000000010101110101001111011111101', '0000001011110000011000011000110011000010100110010010001110100100001000101011100101001000100000101010001100111100011001111000001', '0100111010110111100010001000000001101011100000011100101010100110100100000000100001110100011101010001111000011000110010011001011']\n"
     ]
    }
   ],
   "source": [
    "import numpy as np\n",
    "from qiskit.circuit.library import iqp\n",
    "from qiskit.quantum_info import random_hermitian\n",
    "from qiskit.transpiler import generate_preset_pass_manager\n",
    "from qiskit_ibm_runtime import Session, SamplerV2 as Sampler\n",
    "from qiskit_ibm_runtime import QiskitRuntimeService\n",
    "\n",
    "n_qubits = 127\n",
    "\n",
    "service = QiskitRuntimeService()\n",
    "backend = service.least_busy(\n",
    "    operational=True, simulator=False, min_num_qubits=n_qubits\n",
    ")\n",
    "\n",
    "rng = np.random.default_rng(1234)\n",
    "mat = np.real(random_hermitian(n_qubits, seed=rng))\n",
    "circuit = iqp(mat)\n",
    "circuit.measure_all()\n",
    "mat = np.real(random_hermitian(n_qubits, seed=rng))\n",
    "another_circuit = iqp(mat)\n",
    "another_circuit.measure_all()\n",
    "\n",
    "pm = generate_preset_pass_manager(backend=backend, optimization_level=1)\n",
    "isa_circuit = pm.run(circuit)\n",
    "another_isa_circuit = pm.run(another_circuit)\n",
    "\n",
    "with Session(backend=backend) as session:\n",
    "    sampler = Sampler(mode=session)\n",
    "    job = sampler.run([isa_circuit])\n",
    "    another_job = sampler.run([another_isa_circuit])\n",
    "    result = job.result()\n",
    "    another_result = another_job.result()\n",
    "\n",
    "# first job\n",
    "\n",
    "print(\n",
    "    f\" > The first ten measurement results of job 1: {result[0].data.meas.get_bitstrings()[:10]}\"\n",
    ")"
   ]
  },
  {
   "cell_type": "code",
   "execution_count": 9,
   "id": "40fe2a06-edfc-41a8-9054-7f31ab93a00c",
   "metadata": {},
   "outputs": [
    {
     "name": "stdout",
     "output_type": "stream",
     "text": [
      " > The first ten measurement results of job 2: ['0111011100110000011011110000011100100011001010011000100010000001111011001001011110010100100100001000001011001000111111000000000', '0010100000000010101110100010001000111000011101000000000010000000001001001101001111000110001010000000010000001111001011000011100', '1000110001000001100111111001111010001111001110110100110010000101011101010000010000001110110101011000100000000101011010000111010', '0110010100011100011101011011001101000000011010000110101000001100001101010110000101000100000101100000110000011000100000000011101', '0010110111100010011010010000011100111011001100110001100000100100011011110011110110000110000100100111001001101001101110101111000', '1001100010011011000011010010100101101110111110001100011101100011100110111001000111010100010001000001001001111100000011101110000', '0111110000100010110010000011000001000110100010100000101011100010011000010101100000010110001101000000110101001000100001000110000', '0101011100000111100000101100001000001000000010100100001000010000000001000111100101010010101111111001101010010000101110100111000', '0100100110110010000011000000111111001011001010010100000000000000011010011011000100110100011111101101100011110100000000100001010', '0101100101110001000001111000100101011001101011111110111000000011100111001001100101000100000000100000100101010100001101011010100']\n"
     ]
    }
   ],
   "source": [
    "# second job\n",
    "print(\n",
    "    \" > The first ten measurement results of job 2:\",\n",
    "    another_result[0].data.meas.get_bitstrings()[:10],\n",
    ")"
   ]
  },
  {
   "cell_type": "markdown",
   "id": "551e1894-a12a-4f6c-8347-020fdc9db74e",
   "metadata": {},
   "source": [
    "## Next steps\n",
    "\n",
    "<Admonition type=\"tip\" title=\"Recommendations\">\n",
    "    - [Specify advanced runtime options.](runtime-options-overview)\n",
    "    - Practice with primitives by working through the [Cost function lesson](https://learning.quantum.ibm.com/course/variational-algorithm-design/cost-functions#primitives) in IBM Quantum Learning.\n",
    "    - Learn how to transpile locally in the [Transpile](./transpile/) section.\n",
    "    - Try the [Submit pre-transpiled circuits](https://learning.quantum.ibm.com/tutorial/submitting-user-transpiled-circuits-using-primitives) tutorial.\n",
    "    - Read [Migrate to V2 primitives](/migration-guides/v2-primitives).\n",
    "    - Understand the [Job limits](/guides/job-limits) when sending a job to an IBM&reg; QPU.\n",
    "</Admonition>"
   ]
  }
 ],
 "metadata": {
  "description": "Practical examples of using primitives in Qiskit Runtime.",
  "kernelspec": {
   "display_name": "Python 3",
   "language": "python",
   "name": "python3"
  },
  "language_info": {
   "codemirror_mode": {
    "name": "ipython",
    "version": 3
   },
   "file_extension": ".py",
   "mimetype": "text/x-python",
   "name": "python",
   "nbconvert_exporter": "python",
   "pygments_lexer": "ipython3",
   "version": "3"
  },
  "title": "Primitives examples"
 },
 "nbformat": 4,
 "nbformat_minor": 4
}
