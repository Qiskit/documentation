{
 "cells": [
  {
   "cell_type": "markdown",
   "id": "1f4a2ec4-3595-4300-8f9e-092b0ef9b444",
   "metadata": {},
   "source": [
    "# Primitives examples"
   ]
  },
  {
   "cell_type": "markdown",
   "id": "b4121e48",
   "metadata": {
    "tags": [
     "version-info"
    ]
   },
   "source": [
    "<details>\n",
    "<summary><b>Package versions</b></summary>\n",
    "\n",
    "The code on this page was developed using the following requirements.\n",
    "We recommend using these versions or newer.\n",
    "\n",
    "```\n",
    "qiskit[all]~=2.1.1\n",
    "qiskit-ibm-runtime~=0.40.1\n",
    "```\n",
    "</details>"
   ]
  },
  {
   "cell_type": "markdown",
   "id": "bae32e60",
   "metadata": {},
   "source": [
    "The examples in this section illustrate some common ways to use primitives. Before running these examples, follow the instructions in [Install and set up.](install-qiskit)\n",
    "\n",
    "<Admonition type=\"note\">\n",
    "    These examples all use the primitives from Qiskit Runtime, but you could use the base primitives instead.\n",
    "</Admonition>\n",
    "\n",
    "## Estimator examples\n",
    "\n",
    "Efficiently calculate and interpret expectation values of the quantum operators required for many algorithms with Estimator. Explore uses in molecular modeling, machine learning, and complex optimization problems.\n",
    "\n",
    "### Run a single experiment\n",
    "\n",
    "Use Estimator to determine the expectation value of a single circuit-observable pair."
   ]
  },
  {
   "cell_type": "code",
   "execution_count": 1,
   "id": "24573866-7cf2-40e1-b61c-a2bdcecb759b",
   "metadata": {},
   "outputs": [
    {
     "name": "stdout",
     "output_type": "stream",
     "text": [
      " > Expectation value: 0.01904296875\n",
      " > Metadata: {'shots': 4096, 'target_precision': 0.015625, 'circuit_metadata': {}, 'resilience': {}, 'num_randomizations': 32}\n"
     ]
    }
   ],
   "source": [
    "import numpy as np\n",
    "from qiskit.circuit.library import iqp\n",
    "from qiskit.transpiler import generate_preset_pass_manager\n",
    "from qiskit.quantum_info import SparsePauliOp, random_hermitian\n",
    "from qiskit_ibm_runtime import QiskitRuntimeService, EstimatorV2 as Estimator\n",
    "\n",
    "n_qubits = 50\n",
    "\n",
    "service = QiskitRuntimeService()\n",
    "backend = service.least_busy(\n",
    "    operational=True, simulator=False, min_num_qubits=n_qubits\n",
    ")\n",
    "\n",
    "mat = np.real(random_hermitian(n_qubits, seed=1234))\n",
    "circuit = iqp(mat)\n",
    "observable = SparsePauliOp(\"Z\" * 50)\n",
    "\n",
    "pm = generate_preset_pass_manager(backend=backend, optimization_level=1)\n",
    "isa_circuit = pm.run(circuit)\n",
    "isa_observable = observable.apply_layout(isa_circuit.layout)\n",
    "\n",
    "estimator = Estimator(mode=backend)\n",
    "job = estimator.run([(isa_circuit, isa_observable)])\n",
    "result = job.result()\n",
    "\n",
    "print(f\" > Expectation value: {result[0].data.evs}\")\n",
    "print(f\" > Metadata: {result[0].metadata}\")"
   ]
  },
  {
   "cell_type": "markdown",
   "id": "63769604-ec9e-4ff3-823d-e60f4eb8a877",
   "metadata": {},
   "source": [
    "### Run multiple experiments in a single job\n",
    "\n",
    "Use Estimator to determine the expectation values of multiple circuit-observable pairs."
   ]
  },
  {
   "cell_type": "code",
   "execution_count": 2,
   "id": "bf4668bd-aaaf-4b23-af4b-4df767bd6d1a",
   "metadata": {},
   "outputs": [
    {
     "name": "stdout",
     "output_type": "stream",
     "text": [
      ">>> Expectation values for PUB 0: 0.4423963133640553\n",
      ">>> Standard errors for PUB 0: 0.3699949141329328\n",
      ">>> Expectation values for PUB 1: 0.13313161875945537\n",
      ">>> Standard errors for PUB 1: 0.37723006111708396\n",
      ">>> Expectation values for PUB 2: 1.0819672131147542\n",
      ">>> Standard errors for PUB 2: 1.1199392940463067\n"
     ]
    }
   ],
   "source": [
    "import numpy as np\n",
    "from qiskit.circuit.library import iqp\n",
    "from qiskit.transpiler import generate_preset_pass_manager\n",
    "from qiskit.quantum_info import SparsePauliOp, random_hermitian\n",
    "from qiskit_ibm_runtime import QiskitRuntimeService, EstimatorV2 as Estimator\n",
    "\n",
    "n_qubits = 50\n",
    "\n",
    "service = QiskitRuntimeService()\n",
    "backend = service.least_busy(\n",
    "    operational=True, simulator=False, min_num_qubits=n_qubits\n",
    ")\n",
    "\n",
    "rng = np.random.default_rng()\n",
    "mats = [np.real(random_hermitian(n_qubits, seed=rng)) for _ in range(3)]\n",
    "\n",
    "pubs = []\n",
    "circuits = [iqp(mat) for mat in mats]\n",
    "observables = [\n",
    "    SparsePauliOp(\"X\" * 50),\n",
    "    SparsePauliOp(\"Y\" * 50),\n",
    "    SparsePauliOp(\"Z\" * 50),\n",
    "]\n",
    "\n",
    "# Get ISA circuits\n",
    "pm = generate_preset_pass_manager(optimization_level=1, backend=backend)\n",
    "\n",
    "for qc, obs in zip(circuits, observables):\n",
    "    isa_circuit = pm.run(qc)\n",
    "    isa_obs = obs.apply_layout(isa_circuit.layout)\n",
    "    pubs.append((isa_circuit, isa_obs))\n",
    "\n",
    "estimator = Estimator(backend)\n",
    "job = estimator.run(pubs)\n",
    "job_result = job.result()\n",
    "\n",
    "for idx in range(len(pubs)):\n",
    "    pub_result = job_result[idx]\n",
    "    print(f\">>> Expectation values for PUB {idx}: {pub_result.data.evs}\")\n",
    "    print(f\">>> Standard errors for PUB {idx}: {pub_result.data.stds}\")"
   ]
  },
  {
   "cell_type": "markdown",
   "id": "60bf051a-40f8-47a9-b74d-38713bc15210",
   "metadata": {},
   "source": [
    "### Run parameterized circuits\n",
    "\n",
    "Use Estimator to run three experiments in a single job, leveraging parameter values to increase circuit reusability."
   ]
  },
  {
   "cell_type": "code",
   "execution_count": 3,
   "id": "67dc98b8-499c-44d9-ada1-6abc9d6198c0",
   "metadata": {},
   "outputs": [
    {
     "name": "stdout",
     "output_type": "stream",
     "text": [
      ">>> Expectation values: [[ 1.12173088  1.07596426  0.90994809  0.63893791  0.3580565   0.01017036\n",
      "  -0.33472449 -0.64073268 -0.90246988 -1.05831569 -1.11185965 -1.03049677\n",
      "  -0.90097424 -0.67842283 -0.36044952 -0.00687995  0.32934019  0.65419345\n",
      "   0.89588906  1.05053836  1.09630498]\n",
      " [ 0.01256339  0.38049111  0.67573068  0.90815332  1.04395754  1.1166457\n",
      "   1.05741831  0.88302655  0.61919544  0.33083583 -0.05115093 -0.34489485\n",
      "  -0.65718473 -0.91473414 -1.07357123 -1.10438144 -1.04754708 -0.8878126\n",
      "  -0.64462134 -0.27579623  0.00747821]\n",
      " [-0.01675118 -0.33741665 -0.63026319 -0.86089106 -1.01344646 -1.08404072\n",
      "  -1.02271943 -0.87435183 -0.6335536  -0.33861316  0.00448692  0.33532275\n",
      "   0.63325447  0.86836926  1.01165169  1.06100785  1.01374559  0.85131895\n",
      "   0.61799893  0.33622014  0.00927298]\n",
      " [ 1.0657939   1.02271943  0.85371198  0.62487888  0.30929859 -0.02063985\n",
      "  -0.35775737 -0.60782857 -0.88183003 -1.01763425 -1.06728954 -1.02930025\n",
      "  -0.86687362 -0.59406867 -0.31737506  0.01705031  0.36284255  0.6431257\n",
      "   0.8836248   1.03976974  1.06489651]]\n",
      ">>> Standard errors: [[0.01161907 0.01380519 0.01653401 0.01219924 0.01905313 0.01689987\n",
      "  0.0178013  0.01853165 0.01498348 0.01334771 0.01245529 0.01268675\n",
      "  0.01397906 0.01584193 0.01814441 0.0152687  0.01685964 0.01661661\n",
      "  0.01529737 0.01405041 0.01081402]\n",
      " [0.0125168  0.01784126 0.01518343 0.01293346 0.01169403 0.01200731\n",
      "  0.01166759 0.01269396 0.01574779 0.01640663 0.01839901 0.0175862\n",
      "  0.01469532 0.01263766 0.01101617 0.01385395 0.01425654 0.01340566\n",
      "  0.01564226 0.01696653 0.01647241]\n",
      " [0.01632407 0.01669851 0.01530465 0.01583503 0.01228724 0.01285429\n",
      "  0.0146574  0.0132112  0.01838895 0.01646606 0.01582549 0.01650819\n",
      "  0.01647481 0.01328154 0.01282817 0.0123511  0.01383701 0.01296781\n",
      "  0.01311374 0.016437   0.02113888]\n",
      " [0.01086873 0.01476081 0.01668731 0.01629948 0.01731192 0.01306406\n",
      "  0.01573144 0.01599921 0.01345565 0.01189121 0.01243217 0.01176345\n",
      "  0.01762761 0.01438189 0.01109584 0.01439734 0.0143319  0.01323073\n",
      "  0.0109588  0.00961054 0.0119171 ]]\n",
      ">>> Metadata: {'shots': 10016, 'target_precision': 0.01, 'circuit_metadata': {}, 'resilience': {}, 'num_randomizations': 32}\n"
     ]
    }
   ],
   "source": [
    "import numpy as np\n",
    "\n",
    "from qiskit.circuit import QuantumCircuit, Parameter\n",
    "from qiskit.quantum_info import SparsePauliOp\n",
    "from qiskit.transpiler import generate_preset_pass_manager\n",
    "from qiskit_ibm_runtime import QiskitRuntimeService, EstimatorV2 as Estimator\n",
    "\n",
    "service = QiskitRuntimeService()\n",
    "backend = service.least_busy(operational=True, simulator=False)\n",
    "\n",
    "# Step 1: Map classical inputs to a quantum problem\n",
    "theta = Parameter(\"θ\")\n",
    "\n",
    "chsh_circuit = QuantumCircuit(2)\n",
    "chsh_circuit.h(0)\n",
    "chsh_circuit.cx(0, 1)\n",
    "chsh_circuit.ry(theta, 0)\n",
    "\n",
    "number_of_phases = 21\n",
    "phases = np.linspace(0, 2 * np.pi, number_of_phases)\n",
    "individual_phases = [[ph] for ph in phases]\n",
    "\n",
    "ZZ = SparsePauliOp.from_list([(\"ZZ\", 1)])\n",
    "ZX = SparsePauliOp.from_list([(\"ZX\", 1)])\n",
    "XZ = SparsePauliOp.from_list([(\"XZ\", 1)])\n",
    "XX = SparsePauliOp.from_list([(\"XX\", 1)])\n",
    "ops = [ZZ, ZX, XZ, XX]\n",
    "\n",
    "# Step 2: Optimize problem for quantum execution.\n",
    "\n",
    "pm = generate_preset_pass_manager(backend=backend, optimization_level=1)\n",
    "chsh_isa_circuit = pm.run(chsh_circuit)\n",
    "isa_observables = [\n",
    "    operator.apply_layout(chsh_isa_circuit.layout) for operator in ops\n",
    "]\n",
    "\n",
    "# Step 3: Execute using Qiskit primitives.\n",
    "\n",
    "# Reshape observable array for broadcasting\n",
    "reshaped_ops = np.fromiter(isa_observables, dtype=object)\n",
    "reshaped_ops = reshaped_ops.reshape((4, 1))\n",
    "\n",
    "estimator = Estimator(backend, options={\"default_shots\": int(1e4)})\n",
    "job = estimator.run([(chsh_isa_circuit, reshaped_ops, individual_phases)])\n",
    "# Get results for the first (and only) PUB\n",
    "pub_result = job.result()[0]\n",
    "print(f\">>> Expectation values: {pub_result.data.evs}\")\n",
    "print(f\">>> Standard errors: {pub_result.data.stds}\")\n",
    "print(f\">>> Metadata: {pub_result.metadata}\")"
   ]
  },
  {
   "cell_type": "markdown",
   "id": "793f0ed1-5682-4aa3-a4a0-7baba71650f9",
   "metadata": {},
   "source": [
    "### Use sessions and advanced options\n",
    "\n",
    "Explore sessions and advanced options to optimize circuit performance on QPUs.\n",
    "\n",
    "\n",
    "<Admonition type=\"caution\">\n",
    "The following code block will return an error for Open Plan users because it uses sessions. Open Plan workloads can run only in [job mode](/docs/guides/execution-modes#job-mode) or [batch mode](/docs/guides/execution-modes#batch-mode).\n",
    "</Admonition>"
   ]
  },
  {
   "cell_type": "code",
   "execution_count": 4,
   "id": "d007b547-8546-4ca3-aee6-9a4e3a82598d",
   "metadata": {},
   "outputs": [
    {
     "name": "stdout",
     "output_type": "stream",
     "text": [
      " > Expectation value: 0.7420289855072464\n",
      " > Metadata: {'shots': 4096, 'target_precision': 0.015625, 'circuit_metadata': {}, 'resilience': {}, 'num_randomizations': 32}\n",
      " > Another Expectation value: 0.2440087145969499\n",
      " > More Metadata: {'shots': 4096, 'target_precision': 0.015625, 'circuit_metadata': {}, 'resilience': {}, 'num_randomizations': 32}\n"
     ]
    }
   ],
   "source": [
    "import numpy as np\n",
    "from qiskit.circuit.library import iqp\n",
    "from qiskit.transpiler import generate_preset_pass_manager\n",
    "from qiskit.quantum_info import SparsePauliOp, random_hermitian\n",
    "from qiskit_ibm_runtime import (\n",
    "    QiskitRuntimeService,\n",
    "    Session,\n",
    "    EstimatorV2 as Estimator,\n",
    ")\n",
    "\n",
    "n_qubits = 50\n",
    "\n",
    "service = QiskitRuntimeService()\n",
    "backend = service.least_busy(\n",
    "    operational=True, simulator=False, min_num_qubits=n_qubits\n",
    ")\n",
    "\n",
    "rng = np.random.default_rng(1234)\n",
    "mat = np.real(random_hermitian(n_qubits, seed=rng))\n",
    "circuit = iqp(mat)\n",
    "mat = np.real(random_hermitian(n_qubits, seed=rng))\n",
    "another_circuit = iqp(mat)\n",
    "observable = SparsePauliOp(\"X\" * 50)\n",
    "another_observable = SparsePauliOp(\"Y\" * 50)\n",
    "\n",
    "pm = generate_preset_pass_manager(optimization_level=1, backend=backend)\n",
    "isa_circuit = pm.run(circuit)\n",
    "another_isa_circuit = pm.run(another_circuit)\n",
    "isa_observable = observable.apply_layout(isa_circuit.layout)\n",
    "another_isa_observable = another_observable.apply_layout(\n",
    "    another_isa_circuit.layout\n",
    ")\n",
    "\n",
    "with Session(backend=backend) as session:\n",
    "    estimator = Estimator(mode=session)\n",
    "\n",
    "    estimator.options.resilience_level = 1\n",
    "\n",
    "    job = estimator.run([(isa_circuit, isa_observable)])\n",
    "    another_job = estimator.run(\n",
    "        [(another_isa_circuit, another_isa_observable)]\n",
    "    )\n",
    "    result = job.result()\n",
    "    another_result = another_job.result()\n",
    "\n",
    "    # first job\n",
    "    print(f\" > Expectation value: {result[0].data.evs}\")\n",
    "    print(f\" > Metadata: {result[0].metadata}\")\n",
    "\n",
    "    # second job\n",
    "    print(f\" > Another Expectation value: {another_result[0].data.evs}\")\n",
    "    print(f\" > More Metadata: {another_result[0].metadata}\")"
   ]
  },
  {
   "cell_type": "markdown",
   "id": "12aea3c7-37a1-4a6b-b944-587669aa6611",
   "metadata": {},
   "source": [
    "<span id=\"sampler-examples\"></span>\n",
    "## Sampler examples\n",
    "\n",
    "Generate entire error-mitigated quasi-probability distributions sampled from quantum circuit outputs. Leverage Sampler’s capabilities for search and classification algorithms like Grover’s and QVSM.\n",
    "\n",
    "### Run a single experiment\n",
    "\n",
    "Use Sampler to return the measurement outcome as bitstrings or counts of a single circuit."
   ]
  },
  {
   "cell_type": "code",
   "execution_count": 5,
   "id": "a5a561b3-3819-4f9e-bb64-4c27267e0e96",
   "metadata": {
    "scrolled": true
   },
   "outputs": [
    {
     "name": "stdout",
     "output_type": "stream",
     "text": [
      " > First ten results: ['0100111100101110001000000000100000001010010101110000010001000010100100000000000001100110001010011011001000001100001000011001000', '0010100101000001000000011101000010010010010000101000010101101001011100001001110100101000000010010000110000111011000001011011000', '0011111101000000011010011101001001010010000111000000100010110110101110000000110100110000101010000111000000000010000000000110110', '0001100100101001011100000001001111111001010100010001001010010111100000010001101100001100000000101000001000000000000001100010000', '1100101000110101001011111110010011010011100100111010111000011001000101000000011000001110111000010000010011010001000110100011100', '1001100011110001000001000100001010001010000111011110100010110011101000000100010001100101000010000011001110010100010000000011000', '1111000010100111001100010001000000000010110001010010111001000111011111000000110100011111011000000000111010101111001000000100001', '0001001100100000000100100011111100111111100110001000100110011101101001101100000100000010100000110000101000001110100100000101010', '0100001101111010010001001001010000001010110000011110000100000010000101010001101000010011100000000011000000000010001010111000000', '1110010101101100011010101100101100011110110010110000011000001001101110011100000101110100000000000011000000000011100011000010010']\n"
     ]
    }
   ],
   "source": [
    "import numpy as np\n",
    "from qiskit.circuit.library import iqp\n",
    "from qiskit.transpiler import generate_preset_pass_manager\n",
    "from qiskit.quantum_info import random_hermitian\n",
    "from qiskit_ibm_runtime import QiskitRuntimeService, SamplerV2 as Sampler\n",
    "\n",
    "n_qubits = 127\n",
    "\n",
    "service = QiskitRuntimeService()\n",
    "backend = service.least_busy(\n",
    "    operational=True, simulator=False, min_num_qubits=n_qubits\n",
    ")\n",
    "\n",
    "mat = np.real(random_hermitian(n_qubits, seed=1234))\n",
    "circuit = iqp(mat)\n",
    "circuit.measure_all()\n",
    "\n",
    "pm = generate_preset_pass_manager(backend=backend, optimization_level=1)\n",
    "isa_circuit = pm.run(circuit)\n",
    "\n",
    "sampler = Sampler(backend)\n",
    "job = sampler.run([isa_circuit])\n",
    "result = job.result()\n",
    "\n",
    "# Get results for the first (and only) PUB\n",
    "pub_result = result[0]\n",
    "\n",
    "print(f\" > First ten results: {pub_result.data.meas.get_bitstrings()[:10]}\")"
   ]
  },
  {
   "cell_type": "markdown",
   "id": "c9ea6d3c-b03f-49e2-a8de-d32e58396e02",
   "metadata": {},
   "source": [
    "### Run multiple experiments in a single job\n",
    "\n",
    "Use Sampler to return the measurement outcome as bitstrings or counts of multiple circuits in one job."
   ]
  },
  {
   "cell_type": "code",
   "execution_count": 6,
   "id": "e4534da8-9fe3-402b-8afc-f4bd9fbed497",
   "metadata": {},
   "outputs": [
    {
     "name": "stdout",
     "output_type": "stream",
     "text": [
      " > First ten results for pub 0: ['1111000100110000011111011000011111100001000011011010000010111000010100100011110111010010110010011000110011110000001010001010000', '0000010110110000010100010001101100110111000000001011101010100010001000000101010000011000000010001011010111101111100100001100011', '1000100110001001101110001010111000010010111100110000101000010111111011000000110110010110111001011001001010001100000100000000000', '0011110001101010000100010101011111010101011010010010010100110001111011101011000110000000001011010001110100101101000110011111100', '0101010111110000011011101010010110110101101000001100100010111101001001010110111010000000110011010100011011100100010001010100001', '1001000111010001110001111100000110011101011000111110101010010100001010101101001000000111110001000000001110001110110101000010001', '0111111100100001001000111110101100101101100111011011100111000010001000000001011011100011001100110001011001110100010100011001000', '1001100110110011000110111101101100001100010101101000101000000011011010000001111001010001010011000110100000000000011011001110110', '1100100101010001100001111011110101000110000110101011101010000000000000000010001000110000000011000101101011100000101000010010000', '0111001001000001000011110011100100001110011001010001000010111000000101011000000110010010100000011010101001000111000110000010000']\n",
      " > First ten results for pub 1: ['1011100110111001011100100101000001000011001110010001110100010000100000000000111000100001010100000100101000110010100100111000011', '1010000100011111101011110101100111101011010110000010100001101000100000000000100010100000110010001010001101100100100001001001000', '1011000110101000001100000011000001101000000101110100101000101000000000101010101110000100010010000000100001100000000100010010001', '0100001101000000101011011101000000001110000011000111000000100100000010000111010000010111001011000111100010000100010000100000000', '0001000001101001001110011001110000100100000110001000001000010001011000001000100011010010001000000000001010010000000011011000010', '1111001110011010101001111111100011010010001100110011100000100001110110000001010001010111000000001000000111010100101001000000011', '0101010011111010000111010000010010011101001100001010110100000000000001101101001101010100011000100100101000010000010001000000010', '0010000011100010000100111100000000001000001110000110000101001001011000001010011110010011110110000010010000100010110000010011011', '0111010010100100000001111010000100011010010101010111101100111100011001100000100110000001000100000000001000010010000000100000111', '1100110101100111000010001001011001110011111111100100010001101000010101110111100001000011000001000010001001110010100000010011101']\n",
      " > First ten results for pub 2: ['1111010100010010010000110001001111010011110001110010010000001011000011010000010000101010111110101010001000010001110000100100110', '1101100100010101011000111011011010000100011111110000011100100010000100100110000101100110101100011010001101000001000000011100100', '1001100011111111010010011111001010011011100111001011000010111100110011010100100011101000001110110000000000110100001100010101010', '0110010100011111110001010111110110101010000001010001110100111000010001100010000010000010110000000100011000010100100001010001001', '1100000100110110001011110111000110101101110111010110110010000010100000000000000101001100110000101000000001010000001111010100000', '1111101011111100010100111011000100010111010101000011101110101010000110011000100001100011001111110010101000010000011000110100110', '1010100101010011010011101010001101010000011011000011010000111010100101111100100001010000111000111100010110000010110010101001000', '0011111011110101010011010110000011100001010000110111011100010110010000001010010000000001010011000010010000110100100011000001000', '0000110111010111110001011000101100010000000011001000011011100110110001010110001001100110110001001110110001001001001101100110010', '1101010010000110011010010100010001101011000001100001011011110100000010100100101101001001000100000000010000110111000100001010101']\n"
     ]
    }
   ],
   "source": [
    "import numpy as np\n",
    "from qiskit.circuit.library import iqp\n",
    "from qiskit.transpiler import generate_preset_pass_manager\n",
    "from qiskit.quantum_info import random_hermitian\n",
    "from qiskit_ibm_runtime import QiskitRuntimeService, SamplerV2 as Sampler\n",
    "\n",
    "n_qubits = 127\n",
    "\n",
    "service = QiskitRuntimeService()\n",
    "backend = service.least_busy(\n",
    "    operational=True, simulator=False, min_num_qubits=n_qubits\n",
    ")\n",
    "\n",
    "rng = np.random.default_rng()\n",
    "mats = [np.real(random_hermitian(n_qubits, seed=rng)) for _ in range(3)]\n",
    "circuits = [iqp(mat) for mat in mats]\n",
    "for circuit in circuits:\n",
    "    circuit.measure_all()\n",
    "\n",
    "pm = generate_preset_pass_manager(backend=backend, optimization_level=1)\n",
    "isa_circuits = pm.run(circuits)\n",
    "\n",
    "sampler = Sampler(mode=backend)\n",
    "job = sampler.run(isa_circuits)\n",
    "result = job.result()\n",
    "\n",
    "for idx, pub_result in enumerate(result):\n",
    "    print(\n",
    "        f\" > First ten results for pub {idx}: {pub_result.data.meas.get_bitstrings()[:10]}\"\n",
    "    )"
   ]
  },
  {
   "cell_type": "markdown",
   "id": "e3ce4f13-b772-4ee6-ba9d-d98da633ab5c",
   "metadata": {},
   "source": [
    "### Run parameterized circuits\n",
    "\n",
    "Run several experiments in a single job, leveraging parameter values to increase circuit reusability."
   ]
  },
  {
   "cell_type": "code",
   "execution_count": 7,
   "id": "c63c9cb6-0650-433c-b3d6-dcde06e465e4",
   "metadata": {},
   "outputs": [
    {
     "name": "stdout",
     "output_type": "stream",
     "text": [
      " >> First ten results for the meas output register: ['1110100000000110110100001001000001100111000001110111001000100010010010110101010100010100000100110000011001001101111110001000111', '0000001100001111011000001111110010000101110000110011011111101001101001001011011111001110010101111111101100010111111010011001110', '1110100100001000011010011000000100110010000101110011001000001101010001010011011010010100000001101000110100111001110000001011010', '0000011110011111111011101010100000011000010000011100000100100011011000110111001010111101000100000100001001011101010111101101100', '0010101011001101011010100001000000001000000100011101010110100010100001101111000101010100000001010101010011111100001100110000001', '1000100001001001011111100100010011111010110001001010100110000101101011001011111110101110110000000001111001100010111001010000101', '0100111000001101110110001101010001001111010101101111000000101010100000100011000100011011110001101011111101111110100110010110111', '0110100100001000010100011111000100010001010001011100011010010000001110001101101110000010111000000110001010111100011110010011010', '0010101010001000110010010011000000001011100111001001100100110100111100011111100101011000011000010100110110101010111101011101101', '0010011011100101011111011101000011001011110010001000100010111101011111101111010010111100000110010000010111101010100110111110000']\n"
     ]
    }
   ],
   "source": [
    "import numpy as np\n",
    "from qiskit.circuit.library import real_amplitudes\n",
    "from qiskit.transpiler import generate_preset_pass_manager\n",
    "from qiskit_ibm_runtime import QiskitRuntimeService, SamplerV2 as Sampler\n",
    "\n",
    "n_qubits = 127\n",
    "\n",
    "service = QiskitRuntimeService()\n",
    "backend = service.least_busy(\n",
    "    operational=True, simulator=False, min_num_qubits=n_qubits\n",
    ")\n",
    "\n",
    "# Step 1: Map classical inputs to a quantum problem\n",
    "circuit = real_amplitudes(num_qubits=n_qubits, reps=2)\n",
    "circuit.measure_all()\n",
    "\n",
    "# Define three sets of parameters for the circuit\n",
    "rng = np.random.default_rng(1234)\n",
    "parameter_values = [\n",
    "    rng.uniform(-np.pi, np.pi, size=circuit.num_parameters) for _ in range(3)\n",
    "]\n",
    "\n",
    "# Step 2: Optimize problem for quantum execution.\n",
    "\n",
    "pm = generate_preset_pass_manager(backend=backend, optimization_level=1)\n",
    "isa_circuit = pm.run(circuit)\n",
    "\n",
    "# Step 3: Execute using Qiskit primitives.\n",
    "sampler = Sampler(backend)\n",
    "job = sampler.run([(isa_circuit, parameter_values)])\n",
    "result = job.result()\n",
    "# Get results for the first (and only) PUB\n",
    "pub_result = result[0]\n",
    "# Get counts from the classical register \"meas\".\n",
    "print(\n",
    "    f\" >> First ten results for the meas output register: {pub_result.data.meas.get_bitstrings()[:10]}\"\n",
    ")"
   ]
  },
  {
   "cell_type": "markdown",
   "id": "a8b00d2a-3c5d-4670-9774-d39cdb262552",
   "metadata": {},
   "source": [
    "### Use sessions and advanced options\n",
    "\n",
    "Explore sessions and advanced options to optimize circuit performance on QPUs.\n",
    "\n",
    "\n",
    "<Admonition type=\"caution\">\n",
    "The following code block will return an error for users on the Open Plan, because it uses sessions. Workloads on the Open Plan can run only in [job mode](/docs/guides/execution-modes#job-mode) or [batch mode](/docs/guides/execution-modes#batch-mode).\n",
    "</Admonition>"
   ]
  },
  {
   "cell_type": "code",
   "execution_count": 8,
   "id": "881fdac4-973b-4cef-a3da-c011d326ff54",
   "metadata": {
    "scrolled": true
   },
   "outputs": [
    {
     "name": "stdout",
     "output_type": "stream",
     "text": [
      " > The first ten measurement results of job 1: ['0100010110001110000000101000010010100010101000000100110111100100110110000001100001000010011110000000001000000011011010000100100', '1111000010101001010010111110000101101010001010010000000111010100001100010000000110101000101001100011110000001101000001000100001', '0010011000110010000000000010000011101001100110000110101111101010000101101110100100000001100100100000010000001001000000001100100', '0100011011010100000111111101011000001110010101000010100101110110101100001010110010000000000000100100110011001011000001000100001', '0110110110000100010001101010010010101111000101110000010001110110010000000001010110100001000100011011101100001010001000000010000', '0100101001100010001010100000011000000110110001010101000110011000111001000010100010001110101001001001110000010000000000000000100', '0111101000110101000000000011100010100010011001001010010010000001010100100111010010000101100101101000010000001101000110010001011', '0101100100000011001110001100000000001110011001001010011100011110100010100011111001001010010000000110110001000000000100000100010', '1000101100111011111000111000010000100110000001110001001001011011001011110001000100010101000100000000110101101000000000010010000', '0111111110100010000101110001100110001011110001000100011100000111100001011010000001010001101000001011010001101001100001000000101']\n"
     ]
    }
   ],
   "source": [
    "import numpy as np\n",
    "from qiskit.circuit.library import iqp\n",
    "from qiskit.quantum_info import random_hermitian\n",
    "from qiskit.transpiler import generate_preset_pass_manager\n",
    "from qiskit_ibm_runtime import Session, SamplerV2 as Sampler\n",
    "from qiskit_ibm_runtime import QiskitRuntimeService\n",
    "\n",
    "n_qubits = 127\n",
    "\n",
    "service = QiskitRuntimeService()\n",
    "backend = service.least_busy(\n",
    "    operational=True, simulator=False, min_num_qubits=n_qubits\n",
    ")\n",
    "\n",
    "rng = np.random.default_rng(1234)\n",
    "mat = np.real(random_hermitian(n_qubits, seed=rng))\n",
    "circuit = iqp(mat)\n",
    "circuit.measure_all()\n",
    "mat = np.real(random_hermitian(n_qubits, seed=rng))\n",
    "another_circuit = iqp(mat)\n",
    "another_circuit.measure_all()\n",
    "\n",
    "pm = generate_preset_pass_manager(backend=backend, optimization_level=1)\n",
    "isa_circuit = pm.run(circuit)\n",
    "another_isa_circuit = pm.run(another_circuit)\n",
    "\n",
    "with Session(backend=backend) as session:\n",
    "    sampler = Sampler(mode=session)\n",
    "    job = sampler.run([isa_circuit])\n",
    "    another_job = sampler.run([another_isa_circuit])\n",
    "    result = job.result()\n",
    "    another_result = another_job.result()\n",
    "\n",
    "# first job\n",
    "\n",
    "print(\n",
    "    f\" > The first ten measurement results of job 1: {result[0].data.meas.get_bitstrings()[:10]}\"\n",
    ")"
   ]
  },
  {
   "cell_type": "code",
   "execution_count": 9,
   "id": "40fe2a06-edfc-41a8-9054-7f31ab93a00c",
   "metadata": {},
   "outputs": [
    {
     "name": "stdout",
     "output_type": "stream",
     "text": [
      " > The first ten measurement results of job 2: ['0100011001111101001110010100111100010111010010001100110000111110000001100010101111011011001000000101000000111100101000010110000', '1101100101010100000000000100010010000000001011010010110001010100010101000010000000111101010010011110011000000100010010000000000', '1110111000001100000001010001010001000111010011100001111100110000101010110111010010011111011000011001100000100010010000010000000', '0011101111110000100100000000111011001000101100001010110001010100101001000010100000001010100001000110100000001101000100010000010', '0100111001111000100111100101110001000100011010101100100000100100010011000110100010011100001010001000010000001100001010010010100', '0000001101101111110110011001101110110001000001001100010000110110000011000100101110100101011011011010101000001000100000010010001', '0001000001000001011010011101101001000010100011000010010101001100110001010100000001100010000011010000011000000011010000010110000', '1100010011100111101100101110000011000000101000001010010100110000011101111001011110000001010001000110001000101010111101000100000', '1000101110010010001100010100101101100011001111011110010110110110101011100011000000000000000011001100001000110010001000110010000', '0100011001011101101010101111100111000111010101100001010111111000011110101000001010101000111010000001101000000100001000000110001']\n"
     ]
    }
   ],
   "source": [
    "# second job\n",
    "print(\n",
    "    \" > The first ten measurement results of job 2:\",\n",
    "    another_result[0].data.meas.get_bitstrings()[:10],\n",
    ")"
   ]
  },
  {
   "cell_type": "markdown",
   "id": "551e1894-a12a-4f6c-8347-020fdc9db74e",
   "metadata": {},
   "source": [
    "## Next steps\n",
    "\n",
    "<Admonition type=\"tip\" title=\"Recommendations\">\n",
    "    - [Specify advanced runtime options.](runtime-options-overview)\n",
    "    - Practice with primitives by working through the [Cost function lesson](/learning/courses/variational-algorithm-design/cost-functions) in IBM Quantum Learning.\n",
    "    - Learn how to transpile locally in the [Transpile](./transpile/) section.\n",
    "    - Try the [Compare transpiler settings](/docs/tutorials/circuit-transpilation-settings) tutorial.\n",
    "    - Read [Migrate to V2 primitives](/docs/migration-guides/v2-primitives).\n",
    "    - Understand the [Job limits](/docs/guides/job-limits) when sending a job to an IBM&reg; QPU.\n",
    "</Admonition>"
   ]
  }
 ],
 "metadata": {
  "description": "Practical examples of using primitives in Qiskit Runtime.",
  "kernelspec": {
   "display_name": "Python 3",
   "language": "python",
   "name": "python3"
  },
  "language_info": {
   "codemirror_mode": {
    "name": "ipython",
    "version": 3
   },
   "file_extension": ".py",
   "mimetype": "text/x-python",
   "name": "python",
   "nbconvert_exporter": "python",
   "pygments_lexer": "ipython3",
   "version": "3"
  },
  "title": "Primitives examples"
 },
 "nbformat": 4,
 "nbformat_minor": 4
}
