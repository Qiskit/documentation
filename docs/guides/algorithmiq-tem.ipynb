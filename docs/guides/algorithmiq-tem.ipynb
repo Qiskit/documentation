{
 "cells": [
  {
   "cell_type": "markdown",
   "id": "f7d9993f",
   "metadata": {},
   "source": [
    "{/* cspell:ignore POVM, mathbf, Filippov, Lindblad, Leahy, Rossi, García, Pérez  */}"
   ]
  },
  {
   "cell_type": "markdown",
   "id": "dde95705",
   "metadata": {},
   "source": [
    "# Tensor-network error mitigation (TEM): A Qiskit Function by Algorithmiq\n",
    "\n",
    "## Overview\n",
    "\n",
    "The Tensor-network error mitigation (TEM) function computes expectation values of quantum circuits and observables by post-processing noise-induced errors in estimations of physical observables.\n",
    "\n",
    "The method consists of constructing a tensor network representing the inverse of the global noise channel affecting the state of the quantum processor, and then applying the map to informationally complete measurement outcomes obtained from the noisy state.\n",
    "\n",
    "As an advantage, TEM leverages informationally complete measurements to give access to a vast set of mitigated expectation values of observables and has optimal sampling\n",
    "overhead on the quantum hardware [1]. TEM can also be advantageous with respect to purely classical tensor network methods, giving accurate results with a smaller computational cost than a classical-only tensor network approach.\n",
    "\n",
    "See reference [1] for further details.\n",
    "\n",
    "#### References\n",
    "\n",
    "1. S. Filippov, M. Leahy, M. A. C. Rossi, G. García-Pérez, Scalable tensor-network error mitigation for near-term quantum computing, [arXiv:1111.6950](https://arxiv.org/abs/2307.11740) [quant-ph]"
   ]
  },
  {
   "cell_type": "markdown",
   "id": "5f761442",
   "metadata": {},
   "source": [
    "## Function description\n",
    "\n",
    "\n",
    "The TEM function takes a noisy circuit with the noisy layers identified. The circuit is measured with an informationally complete positive operator-valued measure (IC-POVM), and the collected measurement outcomes are processed on a classical computer. This measurement is used to perform the tensor network methods and build a noise-inversion map $\\mathcal{N}^{-1}$. The function applies a map $\\mathcal{M}$ that fully inverts the whole noisy circuit using matrix product operators to represent the noisy layers.\n",
    "\n",
    "![TEM schematics](/images/guides/algorithmiq-tem/tem_scheme.svg \"Error-mitigated estimation of an observable O via post-processing measurement outcomes of the noisy quantum processor. U and N denote an ideal quantum operation and the associated noise map, which can be generally non-local (and extended to grey boxes). D stands for a tensor of operators that are dual to the effects in the IC measurement. The noise mitigation module M is a tensor network that is efficiently contracted from the middle out. The first iteration of the contraction is represented by the dotted purple line, the second one by the dashed line, and the third one by the solid line.\")\n",
    "\n",
    "To mitigate the noise, the algorithm performs a contraction that starts from the middle (where the inverted noisy circuit ends and the ideal circuit starts) and propagates outward by involving two layers on the left side and one layer on the right side at each iteration. Therefore, the noisy circuit output state $\\rho$ is reverted back to $(\\vert 0 \\rangle\\langle0\\vert)^{\\otimes N}$, which in turn is mapped to the ideal noiseless state operator $\\vert\\psi\\rangle\\langle \\psi\\vert$.\n",
    "\n",
    "The noise-mitigated estimation of an observable ${O}$ is then read as\n",
    "$$\n",
    "\\bar{O}_{\\text{n}.\\text{m}} = \\frac{1}{S} \\sum_{\\mathbf{k}} \\text{tr} [\\mathcal{M}(D_{\\mathbf{k}})O] = \\frac{1}{S} \\sum_{\\mathbf{k}} \\text{tr} [D_{\\mathbf{k}}\\mathcal{M}^{\\dagger}(O)],\n",
    "$$\n",
    "where $D\\mathbf{k}$ is the dual operator of the corresponding POVM associated with a measurement shot $\\mathbf{k}$ in a set of $S$ shots.\n",
    "\n",
    "\n",
    "The algorithm is described in further detail in [Filippov et al. (2023)](https://arxiv.org/abs/2307.11740).\n",
    "\n",
    "\n",
    "### Methods\n",
    "\n",
    "#### run\n",
    "\n",
    "`run(pubs,options)`\n",
    "\n",
    "\n",
    "The run() method allows computing the expectation values for a primitive unified bloc (PUB) containing a circuit and a list of observables.\n",
    "\n",
    "**Parameters**\n",
    "Name | Type | Description | Required | Example\n",
    "-- | -- | -- | -- | --\n",
    "pubs | Iterable[EstimatorPubLike] | An iterable of PUB-like (primitive unified bloc) objects, such as tuples `(circuit, observables)` or `(circuit, observables, parameter_values)`. See [Overview of PUBs](/guides/primitive-input-output#overview-of-pubs) for more information. The circuits don’t need to be ISA circuits. | Yes | (circuit, observables, parameter_values)\n",
    "instance | str | The hub/group/project to use in that format. | No | \"hub1/group1/project1\"\n",
    "options | dict | Input options. See `Options` section for more details. | No | \\{\"optimization_level\": 3\\}\n",
    "\n",
    "**Options**\n",
    "\n",
    "A dictionary containing the options for the TEM. The dictionary should contain the following keys:\n",
    "\n",
    "Name | Type | Description  | Example\n",
    "-- | -- | -- | --\n",
    "backend_name | str | Name of the backend to make the query.| \"ibm_fez\"\n",
    "simulate_with_noise_model | bool | A Boolean flag indicating whether to simulate the noisy circuit or not.| False\n",
    "max_bond_dimension | int | The maximum bond dimension to be used for MPOs. | True\n",
    "tem_compression_cutoff | float | The cutoff value to be used for MPOs. | 1e-16\n",
    "num_max_shots | int | The maximum number of shots. | 10_000\n",
    "num_randomizations | int | The number of randomizations to be used for gate twirling. | 32\n",
    "mitigate_readout_error | bool | A Boolean flag indicating whether to perform QDT readout error mitigation or not. | 24\n",
    "num_readout_calibration_shots | int | The number of shots to be used for QDT readout error mitigation. | 1000\n",
    "logging_level | str | The logging level to be used for the TEM runner. | \"INFO\"\n",
    "\n",
    "**Returns**\n",
    "\n",
    "A PubResult containing the TEM mitigated result:\n",
    "\n",
    "\n",
    "Name |Type | Description\n",
    "-- | -- | --\n",
    "data | DataBin | A DataBin containing the TEM mitigated observable and its standard error. The DataBin has the following fields: <ul><li>`observable`: The TEM mitigated observable value.</li><li>`observable_stderr`: The standard error of the TEM mitigated observable.</li></ul>\n",
    "metadadata | dict | A dictionary containing additional results. The dictionary contains the following keys: <ul><li>`\"observable_non_mitigated\"`: The observable value without error mitigation.</li><li>`\"observable_non_mitigated_stderr\"`: The standard error of the result without error mitigation.</li><li>`\"observable_simulated\"`: If its computation is enabled in the TEM options, contains the result obtained by simulating the circuit with the learned noise.</li></ul>"
   ]
  },
  {
   "cell_type": "markdown",
   "id": "73390a19",
   "metadata": {},
   "source": [
    "## Get started\n",
    "\n",
    "Authenticate using your [IBM Quantum&trade; Platform API token](http://quantum.ibm.com/), and select the TEM as follows:"
   ]
  },
  {
   "cell_type": "code",
   "execution_count": 1,
   "id": "95a715d2",
   "metadata": {},
   "outputs": [],
   "source": [
    "from qiskit_ibm_catalog import QiskitFunctionsCatalog\n",
    "\n",
    "tem_function_name = \"algorithmiq/tem\"\n",
    "catalog = QiskitFunctionsCatalog(token = \"<YOUR_IQP_API_TOKEN>\")\n",
    "\n",
    "# Load your function\n",
    "tem = catalog.load(tem_function_name)"
   ]
  },
  {
   "cell_type": "markdown",
   "id": "e8837f5f",
   "metadata": {},
   "source": [
    "## Example\n",
    "\n",
    "\n",
    "The following snippet shows an example where TEM is used to compute the expectation values of an observable given a simple quantum circuit."
   ]
  },
  {
   "cell_type": "code",
   "execution_count": 7,
   "id": "d56e1440",
   "metadata": {},
   "outputs": [],
   "source": [
    "from qiskit import QuantumCircuit\n",
    "from qiskit.quantum_info import SparsePauliOp\n",
    "from qiskit_ibm_runtime import QiskitRuntimeService\n",
    "\n",
    "# Create a quantum circuit\n",
    "qc = QuantumCircuit(3)\n",
    "qc.u(0.4, 0.9, -0.3, 0)\n",
    "qc.u(-0.4, 0.2, 1.3, 1)\n",
    "qc.u(-1.2, -1.2, 0.3, 2)\n",
    "for _ in range(2):\n",
    "    qc.barrier()\n",
    "    qc.cx(0, 1)\n",
    "    qc.cx(2, 1)\n",
    "    qc.barrier()\n",
    "    qc.u(0.4, 0.9, -0.3, 0)\n",
    "    qc.u(-0.4, 0.2, 1.3, 1)\n",
    "    qc.u(-1.2, -1.2, 0.3, 2)\n",
    "\n",
    "# Define the observables\n",
    "observable = SparsePauliOp(\"YXZ\", 1.0)\n",
    "\n",
    "# Define the execution options\n",
    "service = QiskitRuntimeService()\n",
    "backend_name = service.least_busy(operational=True).name\n",
    "instance = \"<IQP_HUB/IQP_GROUP/IQP_PROJECT>\"\n",
    "\n",
    "pub = (qc, observable)\n",
    "options = {\n",
    "    \"backend_name\": backend_name,\n",
    "    \"num_max_shots\": 100,\n",
    "}\n",
    "job = tem.run(instance=instance, pub=pub, options=options)"
   ]
  },
  {
   "cell_type": "markdown",
   "id": "03998691",
   "metadata": {},
   "source": [
    "The following code checks your Qiskit Function workload's status or return results:"
   ]
  },
  {
   "cell_type": "code",
   "execution_count": null,
   "id": "856fe992",
   "metadata": {},
   "outputs": [],
   "source": [
    "print(job.status())\n",
    "result = job.result()"
   ]
  },
  {
   "cell_type": "markdown",
   "id": "e2817b13",
   "metadata": {},
   "source": [
    "## Advanced options\n",
    "\n",
    "You can fine-tune your calculations and get more verbose information by passing additional options to TEM."
   ]
  },
  {
   "cell_type": "code",
   "execution_count": 7,
   "id": "c2ce65e3",
   "metadata": {},
   "outputs": [],
   "source": [
    "import logging\n",
    "\n",
    "options = {\n",
    "        \"backend_name\": backend_name,\n",
    "        \"num_max_shots\": 1_000,\n",
    "        \"simulate_with_noise_model\": True,\n",
    "        \"mitigate_readout_error\": True,\n",
    "        \"num_readout_calibration_shots\": 10_000,\n",
    "        \"logging_level\": logging.WARNING\n",
    "    }\n",
    "\n",
    "\n",
    "job = tem.run(instance = instance, pub = pub, options = options)"
   ]
  },
  {
   "cell_type": "markdown",
   "id": "e9ec2e67",
   "metadata": {},
   "source": [
    "## Get support\n",
    "\n",
    "Reach out to [qiskit_ibm@algorithmiq.fi](mailto:qiskit_ibm@algorithmiq.fi)\n",
    "\n",
    "Be sure to include the following information:\n",
    "- Qiskit Function Job ID (`qiskit-ibm-catalog`), `job.job_id`\n",
    "- A detailed description of the issue\n",
    "- Any relevant error messages or codes\n",
    "- Steps to reproduce the issue"
   ]
  },
  {
   "cell_type": "markdown",
   "id": "5a6a25c8",
   "metadata": {},
   "source": [
    "## Next steps\n",
    "\n",
    "<Admonition type=\"tip\" title=\"Recommendations\">\n",
    "\n",
    "- [Request access to Algorithmiq Tensor-network error mitigation](https://quantum.ibm.com/functions?id=4b1b9d76-c18b-4788-b70b-15125111fbe6)\n",
    "\n",
    "</Admonition>"
   ]
  }
 ],
 "metadata": {
  "description": "Introduction to TEM, a Qiskit Function by Algorithmiq, to compute estimations with software post-processing error mitigation using tensor networks.",
  "kernelspec": {
   "display_name": "Python 3",
   "language": "python",
   "name": "python3"
  },
  "language_info": {
   "codemirror_mode": {
    "name": "ipython",
    "version": 3
   },
   "file_extension": ".py",
   "mimetype": "text/x-python",
   "name": "python",
   "nbconvert_exporter": "python",
   "pygments_lexer": "ipython3",
   "version": "3"
  },
  "title": "Tensor-network error mitigation (TEM) - A Qiskit Function by Algorithmiq"
 },
 "nbformat": 4,
 "nbformat_minor": 5
}
