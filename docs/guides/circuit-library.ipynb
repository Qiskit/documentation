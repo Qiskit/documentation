{
 "cells": [
  {
   "cell_type": "markdown",
   "id": "aea62c4c-1e42-4472-9f1d-e52783e81fc6",
   "metadata": {},
   "source": [
    "# Circuit library"
   ]
  },
  {
   "cell_type": "markdown",
   "id": "14baab34-71a4-4d3c-bdc1-083bb2c32065",
   "metadata": {
    "tags": [
     "version-info"
    ]
   },
   "source": [
    "<details>\n",
    "<summary><b>Package versions</b></summary>\n",
    "\n",
    "The code on this page was developed using the following requirements.\n",
    "We recommend using these versions or newer.\n",
    "\n",
    "```\n",
    "qiskit[all]~=2.0.0\n",
    "```\n",
    "</details>"
   ]
  },
  {
   "attachments": {},
   "cell_type": "markdown",
   "id": "6f257ff9-15c4-48d8-9503-7f0ab16a91b2",
   "metadata": {},
   "source": [
    "The Qiskit SDK includes a library of popular circuits to use as building blocks in your own programs. Using pre-defined circuits saves time researching, writing code, and debugging. The library includes popular circuits in quantum computing, circuits that are difficult to simulate classically, and circuits useful for quantum hardware benchmarking.\n",
    "\n",
    "This page lists the different circuit categories the library provides. For a full list of circuits, see the [circuit library API documentation](/docs/api/qiskit/circuit_library)."
   ]
  },
  {
   "cell_type": "markdown",
   "id": "0b473350",
   "metadata": {},
   "source": [
    "## Standard gates\n",
    "\n",
    "The circuit library also includes standard quantum gates. Some are more fundamental gates (such as the `UGate`), and others are multi-qubit gates that usually need building from single- and two-qubit gates. To add imported gates to your circuit, use the `append` method; the first argument is the gate, and the next argument is a list of qubits to apply the gate to.\n",
    "\n",
    "For example, the following code cell creates a circuit with a Hadamard gate and a multi-controlled-X gate."
   ]
  },
  {
   "cell_type": "code",
   "execution_count": 1,
   "id": "a846a845-7ac5-4c92-b124-d2b90a773ba2",
   "metadata": {},
   "outputs": [
    {
     "data": {
      "text/plain": [
       "<Image src=\"/docs/images/guides/circuit-library/extracted-outputs/a846a845-7ac5-4c92-b124-d2b90a773ba2-0.svg\" alt=\"Output of the previous code cell\" />"
      ]
     },
     "execution_count": 1,
     "metadata": {},
     "output_type": "execute_result"
    }
   ],
   "source": [
    "from qiskit import QuantumCircuit\n",
    "from qiskit.circuit.library import HGate, MCXGate\n",
    "\n",
    "mcx_gate = MCXGate(3)\n",
    "hadamard_gate = HGate()\n",
    "\n",
    "qc = QuantumCircuit(4)\n",
    "qc.append(hadamard_gate, [0])\n",
    "qc.append(mcx_gate, [0, 1, 2, 3])\n",
    "qc.draw(\"mpl\")"
   ]
  },
  {
   "cell_type": "markdown",
   "id": "e5066595",
   "metadata": {},
   "source": [
    "See [Standard gates](/docs/api/qiskit/circuit_library#standard-gates) in the circuit library API documentation.\n",
    "\n",
    "<CodeAssistantAdmonition\n",
    "  tagLine=\"Not sure what your gate's called? Try asking Qiskit Code Assistant.\"\n",
    "  prompts={[\n",
    "    \"# Import a Hadamard gate from the circuit library\",\n",
    "    \"# Import a multi-controlled-X gate\",\n",
    "    \"# Add a controlled-phase gate to the circuit 'qc'\"\n",
    "  ]}\n",
    "/>"
   ]
  },
  {
   "cell_type": "markdown",
   "id": "f1d7c8c9-1b4d-45e1-9cd5-c5d76c2e25ab",
   "metadata": {},
   "source": [
    "## N-local circuits\n",
    "\n",
    "These circuits alternate layers of single-qubit rotation gates with layers of multi-qubit entangling gates.\n",
    "\n",
    "This family of circuits is popular in variational quantum algorithms because they can produce a wide range of quantum states. Variational algorithms adjust the gate parameters to find states that have certain properties (such as states that represent a good solution to an optimization problem). For this purpose, many circuits in the library are **parameterized**, which means you can define them without fixed values.\n",
    "\n",
    "The following code cell imports a `n_local` circuit, in which the entangling gates are two-qubit gates. This circuit interleaves blocks of parameterized single-qubit gates, followed by entangling blocks of two-qubit gates. The following code creates a three-qubit circuit, with single-qubit RX-gates and two-qubit CZ-gates."
   ]
  },
  {
   "cell_type": "code",
   "execution_count": 2,
   "id": "3ccaeb1b-03c6-4dfa-9000-e48db2516303",
   "metadata": {},
   "outputs": [
    {
     "data": {
      "text/plain": [
       "<Image src=\"/docs/images/guides/circuit-library/extracted-outputs/3ccaeb1b-03c6-4dfa-9000-e48db2516303-0.svg\" alt=\"Output of the previous code cell\" />"
      ]
     },
     "execution_count": 2,
     "metadata": {},
     "output_type": "execute_result"
    }
   ],
   "source": [
    "from qiskit.circuit.library import n_local\n",
    "\n",
    "two_local = n_local(3, \"rx\", \"cz\")\n",
    "two_local.draw(\"mpl\")"
   ]
  },
  {
   "cell_type": "markdown",
   "id": "e32e031b-3218-4c1c-af7c-b40ad6c82100",
   "metadata": {},
   "source": [
    "You can get a list-like object of the circuit's parameters from the `parameters` attribute."
   ]
  },
  {
   "cell_type": "code",
   "execution_count": 3,
   "id": "d503e1c8-0ccd-4868-a5dc-4806d00ab54b",
   "metadata": {},
   "outputs": [
    {
     "data": {
      "text/plain": [
       "ParameterView([ParameterVectorElement(θ[0]), ParameterVectorElement(θ[1]), ParameterVectorElement(θ[2]), ParameterVectorElement(θ[3]), ParameterVectorElement(θ[4]), ParameterVectorElement(θ[5]), ParameterVectorElement(θ[6]), ParameterVectorElement(θ[7]), ParameterVectorElement(θ[8]), ParameterVectorElement(θ[9]), ParameterVectorElement(θ[10]), ParameterVectorElement(θ[11])])"
      ]
     },
     "execution_count": 3,
     "metadata": {},
     "output_type": "execute_result"
    }
   ],
   "source": [
    "two_local.parameters"
   ]
  },
  {
   "cell_type": "markdown",
   "id": "555aca2a-a754-4372-8846-22ee4773ece1",
   "metadata": {},
   "source": [
    "You can also use this to assign these parameters to real values using a dictionary of the form `{ Parameter: number }`. To demonstrate, the following code cell assigns each parameter in the circuit to `0`."
   ]
  },
  {
   "cell_type": "code",
   "execution_count": 4,
   "id": "89227b48-12b2-4b1b-9680-55a7fce88a2b",
   "metadata": {},
   "outputs": [
    {
     "data": {
      "text/plain": [
       "<Image src=\"/docs/images/guides/circuit-library/extracted-outputs/89227b48-12b2-4b1b-9680-55a7fce88a2b-0.svg\" alt=\"Output of the previous code cell\" />"
      ]
     },
     "execution_count": 4,
     "metadata": {},
     "output_type": "execute_result"
    }
   ],
   "source": [
    "bound_circuit = two_local.assign_parameters(\n",
    "    {p: 0 for p in two_local.parameters}\n",
    ")\n",
    "bound_circuit.decompose().draw(\"mpl\")"
   ]
  },
  {
   "cell_type": "markdown",
   "id": "78772993-d0da-4651-9211-706e86a59432",
   "metadata": {},
   "source": [
    "For more information, see [N-local gates](/docs/api/qiskit/circuit_library#n-local-circuits) in the circuit library API documentation or take our [Variational algorithm design course](https://learning.quantum.ibm.com/course/variational-algorithm-design)."
   ]
  },
  {
   "cell_type": "markdown",
   "id": "3e463081-bce9-4ee2-9046-97659e9ac847",
   "metadata": {},
   "source": [
    "## Data-encoding circuits\n",
    "\n",
    "These parameterized circuits encode data onto quantum states for processing by quantum machine learning algorithms. Some circuits supported by Qiskit are:\n",
    " - Amplitude encoding, which encodes each number into the amplitude of a basis state. This can store $2^n$ numbers in a single state, but can be costly to implement.\n",
    " - Basis encoding, which encodes an integer $k$ by preparing the corresponding basis state $|k\\rangle$.\n",
    " - Angle encoding, which sets each number in the data as a rotation angle in a parameterized circuit.\n",
    "\n",
    "The best approach depends upon the specifics of your application. On current quantum computers, however, we often use angle-encoding circuits such as the `zz_feature_map`."
   ]
  },
  {
   "cell_type": "code",
   "execution_count": 5,
   "id": "cf8b1efc-57b3-4681-8e6a-d5b8406d092d",
   "metadata": {},
   "outputs": [
    {
     "data": {
      "text/plain": [
       "<Image src=\"/docs/images/guides/circuit-library/extracted-outputs/cf8b1efc-57b3-4681-8e6a-d5b8406d092d-0.svg\" alt=\"Output of the previous code cell\" />"
      ]
     },
     "execution_count": 5,
     "metadata": {},
     "output_type": "execute_result"
    }
   ],
   "source": [
    "from qiskit.circuit.library import zz_feature_map\n",
    "\n",
    "features = [0.2, 0.4, 0.8]\n",
    "feature_map = zz_feature_map(feature_dimension=len(features))\n",
    "\n",
    "encoded = feature_map.assign_parameters(features)\n",
    "encoded.draw(\"mpl\")"
   ]
  },
  {
   "cell_type": "markdown",
   "id": "031bf004-ca80-4cc0-b153-2cd5cd778386",
   "metadata": {},
   "source": [
    "See [Data encoding circuits](/docs/api/qiskit/circuit_library#data-encoding-circuits) in the circuit library API documentation."
   ]
  },
  {
   "cell_type": "markdown",
   "id": "5c5d2735-ef6a-48db-8382-9dc03c9af20a",
   "metadata": {},
   "source": [
    "## Time-evolution circuits\n",
    "\n",
    "These circuits simulate a quantum state evolving in time. Use time-evolution circuits to investigate physical effects such as heat transfer or phase transitions in a system. Time-evolution circuits are also a fundamental building block of chemistry wave functions (such as unitary coupled-cluster trial states) and of the QAOA algorithm we use for optimization problems."
   ]
  },
  {
   "cell_type": "code",
   "execution_count": 6,
   "id": "834794df-86e9-4bea-8efa-5380499e359b",
   "metadata": {},
   "outputs": [
    {
     "data": {
      "text/plain": [
       "<Image src=\"/docs/images/guides/circuit-library/extracted-outputs/834794df-86e9-4bea-8efa-5380499e359b-0.svg\" alt=\"Output of the previous code cell\" />"
      ]
     },
     "execution_count": 6,
     "metadata": {},
     "output_type": "execute_result"
    }
   ],
   "source": [
    "from qiskit.circuit.library import PauliEvolutionGate\n",
    "from qiskit.circuit import QuantumCircuit\n",
    "from qiskit.quantum_info import SparsePauliOp\n",
    "\n",
    "\n",
    "# Prepare an initial state with a Hadamard on the middle qubit\n",
    "state = QuantumCircuit(3)\n",
    "state.h(1)\n",
    "\n",
    "hamiltonian = SparsePauliOp([\"ZZI\", \"IZZ\"])\n",
    "evolution = PauliEvolutionGate(hamiltonian, time=1)\n",
    "\n",
    "# Evolve state by appending the evolution gate\n",
    "state.compose(evolution, inplace=True)\n",
    "\n",
    "state.draw(\"mpl\")"
   ]
  },
  {
   "cell_type": "markdown",
   "id": "e2dad12f-535a-4f42-8ac4-dbfcfb5533cc",
   "metadata": {},
   "source": [
    "Read the [`PauliEvolutionGate` API documentation](/docs/api/qiskit/qiskit.circuit.library.PauliEvolutionGate)."
   ]
  },
  {
   "cell_type": "markdown",
   "id": "0cf7122d-c3fe-41a6-936c-b3770b33f0f1",
   "metadata": {},
   "source": [
    "## Benchmarking and complexity-theory circuits\n",
    "\n",
    "Benchmarking circuits give us a sense of how well our hardware is actually working, and complexity-theory circuits help us understand how difficult the problems we want to solve are.\n",
    "\n",
    "For example, the \"quantum volume\" benchmark measures how accurately a quantum computer executes a type of random quantum circuit. The score of the quantum computer increases with the size of the circuit it can reliably run. This takes into account all aspects of the computer, including qubit count, instruction fidelity, qubit connectivity, and the software stack transpiling and post-processing results. Read more about quantum volume in the original [quantum volume paper](https://arxiv.org/abs/1811.12926).\n",
    "\n",
    "The following code shows an example of a quantum volume circuit built in Qiskit that runs on four qubits (the `unitary` blocks are randomized two-qubit gates)."
   ]
  },
  {
   "cell_type": "code",
   "execution_count": 7,
   "id": "9629a507-8191-409e-b895-fd0833c8fcd7",
   "metadata": {},
   "outputs": [
    {
     "data": {
      "text/plain": [
       "<Image src=\"/docs/images/guides/circuit-library/extracted-outputs/9629a507-8191-409e-b895-fd0833c8fcd7-0.svg\" alt=\"Output of the previous code cell\" />"
      ]
     },
     "execution_count": 7,
     "metadata": {},
     "output_type": "execute_result"
    }
   ],
   "source": [
    "from qiskit.circuit.library import quantum_volume\n",
    "\n",
    "quantum_volume(4).draw(\"mpl\")"
   ]
  },
  {
   "attachments": {},
   "cell_type": "markdown",
   "id": "908e4b4a-5edf-4390-82a0-e755050c2a37",
   "metadata": {},
   "source": [
    "The circuit library also includes circuits believed to be hard to simulate classically, such as instantaneous quantum polynomial (iqp) circuits. These circuits sandwich certain diagonal gates (in the computational basis) between blocks of Hadamard gates.\n",
    "\n",
    "Other circuits include `grover_operator` for use in Grover's algorithm, and the `fourier_checking` circuit for the Fourier checking problem. See these circuits in [Particular quantum circuits](/docs/api/qiskit/circuit_library#particular-quantum-circuits) in the circuit library API documentation."
   ]
  },
  {
   "cell_type": "markdown",
   "id": "58b1a7b8-c173-4de8-957a-ca5d58332073",
   "metadata": {},
   "source": [
    "## Arithmetic circuits\n",
    "\n",
    "Arithmetic operations are classical functions, such as adding integers and bit-wise operations. These may be useful with algorithms such as amplitude estimation for finance applications, and in algorithms like the HHL algorithm, which solves linear systems of equations.\n",
    "\n",
    "As an example, let’s try adding two three-bit numbers using a \"ripple-carry\" circuit to perform in-place addition (`FullAdderGate`). This adder adds two numbers (we'll call them \"A\" and \"B\") and writes the result to the register that held B. In the following example, A=2 and B=3."
   ]
  },
  {
   "cell_type": "code",
   "execution_count": 8,
   "id": "77555a5a-a81c-47b8-a9ae-3015d84adcf5",
   "metadata": {},
   "outputs": [
    {
     "data": {
      "text/plain": [
       "<Image src=\"/docs/images/guides/circuit-library/extracted-outputs/77555a5a-a81c-47b8-a9ae-3015d84adcf5-0.svg\" alt=\"Output of the previous code cell\" />"
      ]
     },
     "execution_count": 8,
     "metadata": {},
     "output_type": "execute_result"
    }
   ],
   "source": [
    "from qiskit.circuit.library import FullAdderGate\n",
    "from qiskit import QuantumCircuit, QuantumRegister, ClassicalRegister\n",
    "\n",
    "adder = FullAdderGate(3)  # Adder of 3-bit numbers\n",
    "\n",
    "# Create the number A=2\n",
    "reg_a = QuantumRegister(3, \"a\")\n",
    "number_a = QuantumCircuit(reg_a)\n",
    "number_a.initialize(2)  # Number 2; |010>\n",
    "\n",
    "# Create the number B=3\n",
    "reg_b = QuantumRegister(3, \"b\")\n",
    "number_b = QuantumCircuit(reg_b)\n",
    "number_b.initialize(3)  # Number 3; |011>\n",
    "\n",
    "# Create a circuit to hold everything, including a classical register for\n",
    "# the result\n",
    "qregs = [\n",
    "    QuantumRegister(1, \"cin\"),\n",
    "    QuantumRegister(3, \"a\"),\n",
    "    QuantumRegister(3, \"b\"),\n",
    "    QuantumRegister(1, \"cout\"),\n",
    "]\n",
    "reg_result = ClassicalRegister(3)\n",
    "circuit = QuantumCircuit(*qregs, reg_result)\n",
    "\n",
    "# Compose number initializers with the adder. Adder stores the result to\n",
    "# register B, so we'll measure those qubits.\n",
    "circuit = (\n",
    "    circuit.compose(number_a, qubits=reg_a)\n",
    "    .compose(number_b, qubits=reg_b)\n",
    "    .compose(adder)\n",
    ")\n",
    "circuit.measure(reg_b, reg_result)\n",
    "circuit.draw(\"mpl\")"
   ]
  },
  {
   "cell_type": "markdown",
   "id": "e8a8deee-ad46-42cd-844e-51d5541c3f65",
   "metadata": {},
   "source": [
    "Simulating the circuit shows that it outputs `5` for all `1024` shots (i.e. is measured with probability `1.0`)."
   ]
  },
  {
   "cell_type": "code",
   "execution_count": 9,
   "id": "ede21ca4-0358-4c83-9af5-63a1c67ae3cb",
   "metadata": {},
   "outputs": [
    {
     "name": "stdout",
     "output_type": "stream",
     "text": [
      "Count data:\n",
      " {5: 1024}\n"
     ]
    }
   ],
   "source": [
    "from qiskit.primitives import StatevectorSampler\n",
    "\n",
    "result = StatevectorSampler().run([circuit]).result()\n",
    "\n",
    "print(f\"Count data:\\n {result[0].data.c0.get_int_counts()}\")"
   ]
  },
  {
   "cell_type": "markdown",
   "id": "cbd99d49-eb5c-4cd5-bac2-528497b8405e",
   "metadata": {},
   "source": [
    "See [Arithmetic](/docs/api/qiskit/circuit_library#arithmetic) in the circuit library API documentation."
   ]
  },
  {
   "cell_type": "markdown",
   "id": "9a900a84-c52f-4a03-b3e9-87c71fa93e88",
   "metadata": {},
   "source": [
    "## Next steps\n",
    "\n",
    "<Admonition type=\"tip\" title=\"Recommendations\">\n",
    "  -  Learn advanced methods for creating circuits in the [Construct circuits](./construct-circuits) topic.\n",
    "  -  See an example of circuits being used in the [Grover's Algorithm](https://learning.quantum.ibm.com/tutorial/grovers-algorithm) tutorial.\n",
    "  -  Review the [circuit library API](/docs/api/qiskit/circuit_library) reference.\n",
    "</Admonition>"
   ]
  }
 ],
 "metadata": {
  "description": "Read more about out-of-the-box circuits provided by the Qiskit circuit library, including N-local, time-evolution and data-encoding circuits",
  "kernelspec": {
   "display_name": "Python 3",
   "language": "python",
   "name": "python3"
  },
  "language_info": {
   "codemirror_mode": {
    "name": "ipython",
    "version": 3
   },
   "file_extension": ".py",
   "mimetype": "text/x-python",
   "name": "python",
   "nbconvert_exporter": "python",
   "pygments_lexer": "ipython3",
   "version": "3"
  },
  "title": "Circuit library"
 },
 "nbformat": 4,
 "nbformat_minor": 5
}
