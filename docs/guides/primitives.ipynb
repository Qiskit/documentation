{
 "cells": [
  {
   "cell_type": "markdown",
   "id": "f560a2bd-78d2-45fd-8f1b-9f0a4c5e178d",
   "metadata": {},
   "source": [
    "# Introduction to primitives"
   ]
  },
  {
   "cell_type": "markdown",
   "id": "7bfc257f-69c5-4fb1-8042-b62efa8cf64e",
   "metadata": {
    "tags": [
     "version-info"
    ]
   },
   "source": []
  },
  {
   "cell_type": "markdown",
   "id": "3ac7f2c2-1541-49f1-9f8f-4c0a8e3a149a",
   "metadata": {},
   "source": [
    "<span id=\"qpu-access-patterns\"></span>\n",
    "## Why did Qiskit introduce primitives?\n",
    "\n",
    "Similar to the early days of classical computers, when developers had to manipulate CPU registers directly, the early interface to QPUs simply returned the raw data from the control electronics.\n",
    "This was not a big issue when QPUs lived in labs and only allowed direct access by researchers.\n",
    "Acknowledging that most developers would not and should not be familiar with distilling such raw data into 0s and 1s, Qiskit introduced `backend.run`, a first abstraction for accessing QPUs in the cloud. This allowed developers\n",
    "to operate on a familiar data format and focus on the bigger picture.\n",
    "\n",
    "As access to QPUs became more widespread, and with more quantum algorithms being developed,\n",
    "again the need for a higher-level abstraction emerged. In response, Qiskit introduced\n",
    "the primitives interface, which is optimized for two core tasks in quantum algorithm development:\n",
    "expectation value estimation (`Estimator`) and circuit sampling (`Sampler`). The goal is once\n",
    "again to help developers to focus more on innovation and less on data conversion. The primitives interface supersedes the `backend.run` interface, since `Sampler` provides the same direct hardware access that was offered by `backend.run`.\n",
    "\n",
    "## What is a primitive?\n",
    "\n",
    "Computing systems are built on multiple layers of abstraction. Abstractions allow you to focus on a\n",
    "particular level of detail relevant to the task at hand. The closer you get to the hardware,\n",
    "the lower the level of abstraction you need (for example, you might\n",
    "want to manipulate electrical signals), and vice versa. The more complex the task you want to perform,\n",
    "the higher-level the abstractions will be (for example, you could be using a programming library to perform\n",
    "algebraic calculations).\n",
    "\n",
    "In this context, a *primitive* is the smallest processing instruction, the simplest building block from which\n",
    "one can create something useful for a given abstraction level.\n",
    "\n",
    "The recent progress in quantum computing has increased the need to work at higher levels of abstraction.\n",
    "As the field moves toward larger quantum processing units (QPUs) and more complex workflows, the focus shifts from interacting with individual\n",
    "qubit signals to viewing quantum devices as systems that perform necessary tasks.\n",
    "\n",
    "The two most common tasks for quantum computers are sampling quantum states and calculating expectation values.\n",
    "These tasks motivated the design of the Qiskit primitives: **Estimator** and **Sampler**.\n",
    "\n",
    "- Estimator computes expectation values of observables with respect to states prepared by quantum circuits.\n",
    "- Sampler samples the output register from quantum circuit execution.\n",
    "\n",
    "In short, the computational model introduced by the Qiskit primitives moves quantum programming one step closer\n",
    "to where classical programming is today, where the focus is less on the hardware details and more on the results\n",
    "you are trying to achieve.\n",
    "\n",
    "## Primitive definition and implementations\n",
    "\n",
    "There are two types of Qiskit primitives: the base classes, and their implementations. The Qiskit primitives are defined by open-source primitive base classes that live in the Qiskit SDK (in the  [`qiskit.primitives`](/docs/api/qiskit/primitives) module). Providers (such as Qiskit Runtime) can use these base classes to derive their own Sampler and Estimator implementations.  Most users will interact with provider implementations, not the base primitives.\n",
    "\n",
    "### Base classes\n",
    "\n",
    "[`BaseEstimatorV2`](/docs/api/qiskit/qiskit.primitives.BaseEstimatorV2) and [`BaseSamplerV2`](/docs/api/qiskit/qiskit.primitives.BaseSamplerV2) - Abstract base classes that define a common interface for implementing primitives. All other classes in the [`qiskit.primitives`](/docs/api/qiskit/primitives) module inherit from these base classes.  Developers should use these if they are interested in creating their own primitives-based execution model for a specific provider. These classes might also be useful for those who want to do highly customized processing and find that the existing primitives implementations are too simple for their needs. General users will not directly use the base classes.\n",
    "\n",
    "<span id=\"implementations\"></span>\n",
    "### Implementations\n",
    "\n",
    "These are implementations of the primitives base classes:\n",
    "\n",
    "- The Qiskit Runtime primitives ([`EstimatorV2`](/docs/api/qiskit-ibm-runtime/estimator-v2) and [`SamplerV2`](/docs/api/qiskit-ibm-runtime/sampler-v2)) provide a more sophisticated implementation (for example, by including error mitigation) as a cloud-based service. This implementation of the base primitives is used to access IBM Quantum&reg; hardware.  They are accessed through IBM Qiskit Runtime.\n",
    "\n",
    "- [`StatevectorEstimator`](/docs/api/qiskit/qiskit.primitives.StatevectorEstimator) and [`StatevectorSampler`](/docs/api/qiskit/qiskit.primitives.StatevectorSampler#statevectorsampler) - Reference implementations of the primitives that use the simulator built into Qiskit. They are built with the Qiskit [`quantum_info`](/docs/api/qiskit/quantum_info#quantum-information) module, producing results based on ideal statevector simulations.  They are accessed through Qiskit.\n",
    "\n",
    "- [`BackendEstimatorV2`](/docs/api/qiskit/qiskit.primitives.BackendEstimatorV2) and [`BackendSamplerV2`](/docs/api/qiskit/qiskit.primitives.BackendSamplerV2) - You can use these classes to “wrap” any quantum computing resource into a primitive. This lets you write primitive-style code for providers that don’t yet have a primitives-based interface. These classes can be used just like the regular Sampler and Estimator, except they should be initialized with an additional `backend` argument for selecting which quantum computer to run on. They are accessed by using Qiskit.\n",
    "\n",
    "## Benefits of Qiskit primitives\n",
    "\n",
    "With primitives, Qiskit users can write quantum code for a specific QPU without having to explicitly\n",
    "manage every detail. Also, because of the additional layer of abstraction, you might be able to more easily\n",
    "access advanced hardware capabilities of a given provider. For example, with Qiskit Runtime primitives,\n",
    "you can take advantage of the latest advancements in error mitigation and suppression by toggling options such as the primitive's [`resilience_level`,](/docs/api/qiskit-ibm-runtime/options-estimator-options#resilience_level) rather than building your own implementation of these techniques.\n",
    "\n",
    "For hardware providers, implementing primitives natively means you can provide your users with a more “out-of-the-box”\n",
    "way to access your hardware features such as advanced post-processing techniques. It is therefore easier for your users to benefit from your hardware's best capabilities.\n",
    "\n",
    "## Primitive details\n",
    "\n",
    "As described previously, all primitives are created from the base classes; therefore, they have the same general structure and usage.  For example, the format of the input for all Estimator primitives is the same.  However, there are differences in implementations that make them unique.\n",
    "\n",
    "<Admonition type=\"note\">\n",
    "Because most users access the Qiskit Runtime primitives, the examples in the rest of this section are based on Qiskit Runtime primitives.\n",
    "</Admonition>\n",
    "\n",
    "<span id=\"estimator\"></span>\n",
    "### Estimator\n",
    "\n",
    "The Estimator primitive computes the expectation values for one or more observables with respect to states prepared by quantum circuits. The circuits can be parametrized, as long as the parameter values are also provided as input to the primitive.\n",
    "\n",
    "The input is an array of [PUBs.](/docs/guides/primitive-input-output#pubs) Each PUB is in the format:\n",
    "\n",
    "(`<single circuit>`, `<one or more observables>`, `<optional one or more parameter values>`, `<optional precision>`),\n",
    "\n",
    "where the optional `parameter values` can be a list or a single parameter.  Different Estimator implementations support various configuration options. If the input contains measurements, they are ignored.\n",
    "\n",
    "The output is a [`PubResult`](/docs/api/qiskit/qiskit.primitives.PubResult#pubresult) that contains the computed expectation values per pair, and their standard errors, in `PubResult` form. Each `PubResult` contains both data and metadata.\n",
    "\n",
    "The Estimator combines elements from observables and parameter values by following NumPy broadcasting rules as described in the [Primitive inputs and outputs](primitive-input-output#broadcasting-rules) topic.\n",
    "\n",
    "Example:"
   ]
  },
  {
   "cell_type": "code",
   "execution_count": 1,
   "id": "0675c86c-4c49-4a35-b5aa-1d692bb8f8df",
   "metadata": {
    "tags": [
     "remove-cell"
    ]
   },
   "outputs": [],
   "source": [
    "# This cell is hidden from users, it creates the circuits and observables to run\n",
    "\n",
    "from qiskit_ibm_runtime import EstimatorV2, SamplerV2, QiskitRuntimeService\n",
    "from qiskit.circuit.random import random_circuit\n",
    "from qiskit.circuit import Parameter\n",
    "from qiskit.quantum_info import SparsePauliOp\n",
    "from qiskit.transpiler import generate_preset_pass_manager\n",
    "import numpy as np\n",
    "\n",
    "service = QiskitRuntimeService()\n",
    "backend = service.least_busy()\n",
    "phi = Parameter(\"phi\")\n",
    "\n",
    "circuit1 = random_circuit(10, 5, seed=12345)\n",
    "circuit1.rzz(phi, 1, 2)\n",
    "observable1 = SparsePauliOp.from_sparse_list(\n",
    "    [(\"ZXYZ\", [1, 2, 3, 4], 1)], num_qubits=10\n",
    ")\n",
    "param_values1 = np.random.uniform(size=5).T\n",
    "\n",
    "circuit2 = random_circuit(10, 5, seed=12345)\n",
    "circuit2.rzz(phi, 1, 2)\n",
    "observable2 = SparsePauliOp.from_sparse_list(\n",
    "    [(\"XZYX\", [1, 2, 3, 4], 1)], num_qubits=10\n",
    ")\n",
    "param_values2 = np.random.uniform(size=5).T\n",
    "\n",
    "shots1 = 164\n",
    "shots2 = 1024\n",
    "\n",
    "pm = generate_preset_pass_manager(optimization_level=1, backend=backend)\n",
    "circuit1 = pm.run(circuit1)\n",
    "circuit2 = pm.run(circuit2)\n",
    "observable1 = observable1.apply_layout(circuit1.layout)\n",
    "observable2 = observable2.apply_layout(circuit2.layout)"
   ]
  },
  {
   "cell_type": "code",
   "execution_count": 2,
   "id": "948051f0-394a-4e51-b9b9-dbe851798586",
   "metadata": {},
   "outputs": [],
   "source": [
    "estimator = EstimatorV2(mode=backend)\n",
    "estimator_job = estimator.run(\n",
    "    [\n",
    "        (circuit1, observable1, param_values1),\n",
    "        (circuit2, observable2, param_values2),\n",
    "    ]\n",
    ")"
   ]
  },
  {
   "cell_type": "markdown",
   "id": "f96316ec-c4fc-433d-87e2-e85bc0ab7598",
   "metadata": {},
   "source": [
    "<span id=\"sampler\"></span>\n",
    "### Sampler\n",
    "\n",
    "The Sampler's core task is sampling the output register from the execution of one or more quantum circuits. The input circuits can be parametrized, as long as the parameter values are also provided as input to the primitive.\n",
    "\n",
    "The input is one or more [PUBs,](/docs/guides/primitive-input-output#pubs) in the format:\n",
    "\n",
    "(`<single circuit>`, `<one or more optional parameter value>`, `<optional shots>`),\n",
    "\n",
    "where there can be multiple `parameter values` items, and each item can be either an array or a single parameter, depending on the chosen circuit. Additionally, the input must contain measurements.\n",
    "\n",
    "The output is counts or per-shot measurements, as [`PubResult`](/docs/api/qiskit/qiskit.primitives.PubResult#pubresult) objects, without weights. The result class, however, has methods to return weighted samples, such as counts. See [Primitive inputs and outputs](primitive-input-output#broadcasting-rules) for full details.\n",
    "\n",
    "Example:"
   ]
  },
  {
   "cell_type": "code",
   "execution_count": 3,
   "id": "cfc0dd58-a0a7-4be6-9ee1-ed78f37b01e5",
   "metadata": {
    "tags": [
     "remove-cell"
    ]
   },
   "outputs": [],
   "source": [
    "# This cell is hidden from users, add measurement instructions to circuits\n",
    "circuit1.measure_active()\n",
    "circuit2.measure_active()"
   ]
  },
  {
   "cell_type": "code",
   "execution_count": 4,
   "id": "940e921c-586b-4b56-a400-aa8bf5592de0",
   "metadata": {},
   "outputs": [],
   "source": [
    "sampler = SamplerV2(mode=backend)\n",
    "sampler_job = sampler.run(\n",
    "    [\n",
    "        (circuit1, param_values1, shots1),\n",
    "        (circuit2, param_values2, shots2),\n",
    "    ]\n",
    ")"
   ]
  },
  {
   "cell_type": "markdown",
   "id": "02dbbc7d-76e7-4a89-8739-ba7f3a5a05b8",
   "metadata": {},
   "source": [
    "## Next steps\n",
    "\n",
    "<Admonition type=\"tip\" title=\"Recommendations\">\n",
    "    - Read [Get started with primitives](get-started-with-primitives) to implement primitives in your work.\n",
    "    - Review detailed [primitives examples.](primitives-examples)\n",
    "    - Practice with primitives by working through the [Cost function lesson](https://learning.quantum.ibm.com/course/variational-algorithm-design/cost-functions#primitives) in IBM Quantum Learning.\n",
    "    - See the [EstimatorV2 API reference](/docs/api/qiskit-ibm-runtime/estimator-v2) and [SamplerV2 API reference](/docs/api/qiskit-ibm-runtime/sampler-v2).\n",
    "    - Read [Migrate to V2 primitives](/docs/migration-guides/v2-primitives).\n",
    "</Admonition>"
   ]
  }
 ],
 "metadata": {
  "description": "Introduction to primitives in Qiskit and Qiskit Runtime, and an explanation of available primitives",
  "kernelspec": {
   "display_name": "Python 3",
   "language": "python",
   "name": "python3"
  },
  "language_info": {
   "codemirror_mode": {
    "name": "ipython",
    "version": 3
   },
   "file_extension": ".py",
   "mimetype": "text/x-python",
   "name": "python",
   "nbconvert_exporter": "python",
   "pygments_lexer": "ipython3",
   "version": "3"
  },
  "title": "Introduction to primitives"
 },
 "nbformat": 4,
 "nbformat_minor": 4
}
