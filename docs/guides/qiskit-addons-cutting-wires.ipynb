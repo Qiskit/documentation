{
 "cells": [
  {
   "cell_type": "markdown",
   "id": "1ce517c0-5dfd-4458-82f6-1a21f248603b",
   "metadata": {},
   "source": [
    "# Get started with circuit cutting using wire cuts"
   ]
  },
  {
   "cell_type": "markdown",
   "id": "fa227c38",
   "metadata": {
    "tags": [
     "version-info"
    ]
   },
   "source": [
    "<details>\n",
    "<summary><b>Package versions</b></summary>\n",
    "\n",
    "The code on this page was developed using the following requirements.\n",
    "We recommend using these versions or newer.\n",
    "\n",
    "```\n",
    "qiskit[all]~=2.0.0\n",
    "qiskit-ibm-runtime~=0.37.0\n",
    "qiskit-aer~=0.17\n",
    "qiskit-addon-cutting~=0.10.0\n",
    "```\n",
    "</details>"
   ]
  },
  {
   "cell_type": "markdown",
   "id": "334ee858",
   "metadata": {},
   "source": [
    "This guide demonstrates a working example of wire cuts with the `qiskit-addon-cutting` package. It covers reconstructing expectation values of a seven-qubit circuit using wire cutting.\n",
    "\n",
    "A wire cut is represented in this package as a two-qubit [`Move`](/docs/api/qiskit-addon-cutting/instructions-move) instruction, which is defined as a reset of the second qubit the instruction acts on, followed by a swap of both qubits. This operation is equivalent to transferring the state of the first qubit to the second qubit, while simultaneously discarding the incoming state of the second qubit.\n",
    "\n",
    "The package is designed to be consistent with the way you must treat wire cuts when acting on physical qubits. For example, a wire cut might take the state of physical qubit $n$ and continue it as a physical qubit $m$ after the cut. You can think of \"instruction cutting\" as a unified framework for considering both wire and gate cuts within the same formalism (since a wire cut is just a cut [`Move`](/docs/api/qiskit-addon-cutting/instructions-move) instruction). Using this framework for wire cutting also allows for qubit re-use, which is explained in the section on [cutting wires manually](#cut-wires-using-the-low-level-move-instruction).\n",
    "\n",
    "The single-qubit [`CutWire`](/docs/api/qiskit-addon-cutting/instructions-cut-wire) instruction acts as a more abstracted, simpler interface for working with wire cuts. It allows you to denote where in the circuit a wire should be cut at a high level and have the circuit cutting addon insert the appropriate [`Move`](/docs/api/qiskit-addon-cutting/instructions-move) instructions for you.\n",
    "\n",
    "The following example demonstrates expectation value reconstruction after wire cutting. You will create a circuit with several non-local gates and define observables to estimate."
   ]
  },
  {
   "cell_type": "code",
   "execution_count": 1,
   "id": "b481ef2d-3912-4eac-9755-335e8f5db886",
   "metadata": {},
   "outputs": [
    {
     "data": {
      "text/plain": [
       "<Image src=\"/docs/images/guides/qiskit-addons-cutting-wires/extracted-outputs/b481ef2d-3912-4eac-9755-335e8f5db886-0.svg\" alt=\"Output of the previous code cell\" />"
      ]
     },
     "execution_count": 1,
     "metadata": {},
     "output_type": "execute_result"
    }
   ],
   "source": [
    "import numpy as np\n",
    "from qiskit import QuantumCircuit\n",
    "from qiskit.transpiler import generate_preset_pass_manager\n",
    "from qiskit.quantum_info import SparsePauliOp\n",
    "from qiskit_ibm_runtime.fake_provider import FakeManilaV2\n",
    "from qiskit_ibm_runtime import SamplerV2, Batch\n",
    "from qiskit_aer.primitives import EstimatorV2\n",
    "\n",
    "from qiskit_addon_cutting.instructions import Move, CutWire\n",
    "from qiskit_addon_cutting import (\n",
    "    partition_problem,\n",
    "    generate_cutting_experiments,\n",
    "    cut_wires,\n",
    "    expand_observables,\n",
    "    reconstruct_expectation_values,\n",
    ")\n",
    "\n",
    "\n",
    "qc_0 = QuantumCircuit(7)\n",
    "for i in range(7):\n",
    "    qc_0.rx(np.pi / 4, i)\n",
    "qc_0.cx(0, 3)\n",
    "qc_0.cx(1, 3)\n",
    "qc_0.cx(2, 3)\n",
    "qc_0.cx(3, 4)\n",
    "qc_0.cx(3, 5)\n",
    "qc_0.cx(3, 6)\n",
    "qc_0.cx(0, 3)\n",
    "qc_0.cx(1, 3)\n",
    "qc_0.cx(2, 3)\n",
    "\n",
    "# Define observable\n",
    "observable = SparsePauliOp([\"ZIIIIII\", \"IIIZIII\", \"IIIIIIZ\"])\n",
    "\n",
    "# Draw circuit\n",
    "qc_0.draw(\"mpl\")"
   ]
  },
  {
   "cell_type": "markdown",
   "id": "d332ed5a-63e9-4862-9498-f86b0147607b",
   "metadata": {},
   "source": [
    "## Cut wires using the high-level `CutWire` instruction\n",
    "\n",
    "Next, make wire cuts using the single-qubit [`CutWire`](/docs/api/qiskit-addon-cutting/instructions-cut-wire) instruction on qubit $q_3$. Once the subexperiments are prepared to be executed, use the [`cut_wires()`](/docs/api/qiskit-addon-cutting/qiskit-addon-cutting#cut_wires) function to transform `CutWire` to [`Move`](/docs/api/qiskit-addon-cutting/instructions-move) instructions on newly allocated qubits."
   ]
  },
  {
   "cell_type": "code",
   "execution_count": 2,
   "id": "9bac1915-316b-49d0-a1a1-145047679530",
   "metadata": {},
   "outputs": [
    {
     "data": {
      "text/plain": [
       "<Image src=\"/docs/images/guides/qiskit-addons-cutting-wires/extracted-outputs/9bac1915-316b-49d0-a1a1-145047679530-0.svg\" alt=\"Output of the previous code cell\" />"
      ]
     },
     "execution_count": 2,
     "metadata": {},
     "output_type": "execute_result"
    }
   ],
   "source": [
    "qc_1 = QuantumCircuit(7)\n",
    "for i in range(7):\n",
    "    qc_1.rx(np.pi / 4, i)\n",
    "qc_1.cx(0, 3)\n",
    "qc_1.cx(1, 3)\n",
    "qc_1.cx(2, 3)\n",
    "qc_1.append(CutWire(), [3])\n",
    "qc_1.cx(3, 4)\n",
    "qc_1.cx(3, 5)\n",
    "qc_1.cx(3, 6)\n",
    "qc_1.append(CutWire(), [3])\n",
    "qc_1.cx(0, 3)\n",
    "qc_1.cx(1, 3)\n",
    "qc_1.cx(2, 3)\n",
    "\n",
    "qc_1.draw(\"mpl\")"
   ]
  },
  {
   "cell_type": "markdown",
   "id": "bcddcde7-9ed3-4718-a17f-1b555c4c2662",
   "metadata": {},
   "source": [
    "<Admonition type=\"info\" title=\"Note about expanding observables\">\n",
    "    When a circuit is expanded through one or more wire cuts, the observable needs to be updated to account for the extra qubits that are introduced. The `qiskit-addon-cutting` package has a convenience function [`expand_observables()`](/docs/api/qiskit-addon-cutting/qiskit-addon-cutting#expand_observables), which takes `PauliList`s and the original and expanded circuits as arguments, and returns a new `PauliList`.\n",
    "\n",
    "    This returned `PauliList` will not contain any information about the original observable's coefficients, but these can be ignored until reconstruction of the final expectation value.\n",
    "</Admonition>"
   ]
  },
  {
   "cell_type": "code",
   "execution_count": 3,
   "id": "d398b397-0167-4db9-97ae-6ea502dc43e3",
   "metadata": {},
   "outputs": [
    {
     "name": "stdout",
     "output_type": "stream",
     "text": [
      "Expanded Observable: ['ZIIIIIIII', 'IIIZIIIII', 'IIIIIIIIZ']\n"
     ]
    },
    {
     "data": {
      "text/plain": [
       "<Image src=\"/docs/images/guides/qiskit-addons-cutting-wires/extracted-outputs/d398b397-0167-4db9-97ae-6ea502dc43e3-1.svg\" alt=\"Output of the previous code cell\" />"
      ]
     },
     "execution_count": 3,
     "metadata": {},
     "output_type": "execute_result"
    }
   ],
   "source": [
    "# Transform CutWire instructions to Move instructions\n",
    "qc_2 = cut_wires(qc_1)\n",
    "\n",
    "# Expand the observable to match the new circuit size\n",
    "expanded_observable = expand_observables(observable.paulis, qc_0, qc_2)\n",
    "print(f\"Expanded Observable: {expanded_observable}\")\n",
    "qc_2.draw(\"mpl\")"
   ]
  },
  {
   "cell_type": "markdown",
   "id": "fcdcb972-beb7-4126-9720-861359aa6ae7",
   "metadata": {},
   "source": [
    "### Partition the circuit and observable\n",
    "\n",
    "Now the problem can be separated into partitions. This is accomplished using the [`partition_problem()`](/docs/api/qiskit-addon-cutting/qiskit-addon-cutting#partition_problem) function with an optional set of partition labels to specify how to separate the circuit. Qubits sharing a common partition label are grouped together, and any non-local gates spanning more than one partition are cut.\n",
    "\n",
    "If no partition labels are provided, then the partitioning will be automatically determined based on the connectivity of the circuit. Read the next section on [cutting wires manually](#cut-wires-using-the-low-level-move-instruction) for more information on including partition labels."
   ]
  },
  {
   "cell_type": "code",
   "execution_count": 4,
   "id": "5fb034f2-da8a-4f4d-ab9b-c990593e04fc",
   "metadata": {},
   "outputs": [
    {
     "name": "stdout",
     "output_type": "stream",
     "text": [
      "Subobservables to measure: \n",
      "{0: PauliList(['IIIII', 'ZIIII', 'IIIIZ']), 1: PauliList(['ZIII', 'IIII', 'IIII'])}\n",
      "\n",
      "Sampling overhead: 256.0\n"
     ]
    },
    {
     "data": {
      "text/plain": [
       "<Image src=\"/docs/images/guides/qiskit-addons-cutting-wires/extracted-outputs/5fb034f2-da8a-4f4d-ab9b-c990593e04fc-1.svg\" alt=\"Output of the previous code cell\" />"
      ]
     },
     "execution_count": 4,
     "metadata": {},
     "output_type": "execute_result"
    }
   ],
   "source": [
    "partitioned_problem = partition_problem(\n",
    "    circuit=qc_2,\n",
    "    observables=expanded_observable,\n",
    ")\n",
    "subcircuits = partitioned_problem.subcircuits\n",
    "subobservables = partitioned_problem.subobservables\n",
    "bases = partitioned_problem.bases\n",
    "\n",
    "print(f\"Subobservables to measure: \\n{subobservables}\\n\")\n",
    "print(f\"Sampling overhead: {np.prod([basis.overhead for basis in bases])}\")\n",
    "subcircuits[0].draw(\"mpl\")"
   ]
  },
  {
   "cell_type": "code",
   "execution_count": 5,
   "id": "d0e86f81-7c7e-4ccf-951c-9cd039135dc9",
   "metadata": {},
   "outputs": [
    {
     "data": {
      "text/plain": [
       "<Image src=\"/docs/images/guides/qiskit-addons-cutting-wires/extracted-outputs/d0e86f81-7c7e-4ccf-951c-9cd039135dc9-0.svg\" alt=\"Output of the previous code cell\" />"
      ]
     },
     "execution_count": 5,
     "metadata": {},
     "output_type": "execute_result"
    }
   ],
   "source": [
    "subcircuits[1].draw(\"mpl\")"
   ]
  },
  {
   "cell_type": "markdown",
   "id": "97c6c48c-30e5-4f43-b44c-23384ca0beff",
   "metadata": {},
   "source": [
    "In this partitioning scheme, you have cut two wires, resulting in a sampling overhead of $4^4$."
   ]
  },
  {
   "cell_type": "markdown",
   "id": "5495f3ad-f4fe-4051-b5fe-67341179a58e",
   "metadata": {},
   "source": [
    "### Generate subexperiments to execute and post-process results\n",
    "\n",
    "To estimate the expectation value of the full-sized circuit, several subexperiments are generated from the decomposed gates' joint quasi-probability distribution and then executed on one (or more) QPUs. The [`generate_cutting_experiments`](/docs/api/qiskit-addon-cutting/qiskit-addon-cutting#generate_cutting_experiments) method does this by ingesting arguments for the `subcircuits` and `subobservables` dictionaries you created above, as well as for the number of samples to take from the distribution.\n",
    "\n",
    "<Admonition type=\"note\" title=\"Note about the number of samples\">\n",
    "    The `num_samples` argument specifies how many samples to draw from the quasi-probability distribution and determines the accuracy of the coefficients used for the reconstruction. Passing infinity (`np.inf`) ensures all coefficients are calculated exactly. Read the API docs on [generating weights](/docs/api/qiskit-addon-cutting/qpd#generate_qpd_weights) and [generating cutting experiments](/docs/api/qiskit-addon-cutting/qiskit-addon-cutting#generate_cutting_experiments) for more information.\n",
    "</Admonition>"
   ]
  },
  {
   "cell_type": "code",
   "execution_count": 6,
   "id": "30257a7a-ad41-46d7-b4d6-c4bfa354ab28",
   "metadata": {},
   "outputs": [],
   "source": [
    "# Generate subexperiments\n",
    "subexperiments, coefficients = generate_cutting_experiments(\n",
    "    circuits=subcircuits, observables=subobservables, num_samples=np.inf\n",
    ")\n",
    "\n",
    "# Set a backend to use and transpile the subexperiments\n",
    "backend = FakeManilaV2()\n",
    "pass_manager = generate_preset_pass_manager(\n",
    "    optimization_level=1, backend=backend\n",
    ")\n",
    "isa_subexperiments = {\n",
    "    label: pass_manager.run(partition_subexpts)\n",
    "    for label, partition_subexpts in subexperiments.items()\n",
    "}\n",
    "\n",
    "# Submit each partition's subexperiments to the Qiskit Runtime Sampler\n",
    "# primitive, in a single batch so that the jobs will run back-to-back.\n",
    "with Batch(backend=backend) as batch:\n",
    "    sampler = SamplerV2(mode=batch)\n",
    "    jobs = {\n",
    "        label: sampler.run(subsystem_subexpts, shots=2**12)\n",
    "        for label, subsystem_subexpts in isa_subexperiments.items()\n",
    "    }\n",
    "    # Retrieve results\n",
    "    results = {label: job.result() for label, job in jobs.items()}"
   ]
  },
  {
   "cell_type": "markdown",
   "id": "890ce542-0a74-451e-a3b2-ced3b35d62b3",
   "metadata": {},
   "source": [
    "Lastly, the expectation value of the full circuit can be reconstructed using the [`reconstruct_expectation_values()`](/docs/api/qiskit-addon-cutting/qiskit-addon-cutting#reconstruct_expectation_values) method.\n",
    "\n",
    "\n",
    "The code block below reconstructs the results and compares them with the exact expectation value."
   ]
  },
  {
   "cell_type": "code",
   "execution_count": 7,
   "id": "55ac9aef-494a-4834-b277-9fc4028137cd",
   "metadata": {},
   "outputs": [
    {
     "name": "stdout",
     "output_type": "stream",
     "text": [
      "Reconstructed expectation value: 1.45018268\n",
      "Exact expectation value: 1.59099026\n",
      "Error in estimation: -0.14080758\n",
      "Relative error in estimation: -0.08850311\n"
     ]
    }
   ],
   "source": [
    "reconstructed_expval_terms = reconstruct_expectation_values(\n",
    "    results,\n",
    "    coefficients,\n",
    "    subobservables,\n",
    ")\n",
    "# Apply the coefficients of the original observable\n",
    "reconstructed_expval = np.dot(reconstructed_expval_terms, observable.coeffs)\n",
    "\n",
    "\n",
    "# Compute the exact expectation value using the `qiskit_aer` package.\n",
    "estimator = EstimatorV2()\n",
    "exact_expval = estimator.run([(qc_0, observable)]).result()[0].data.evs\n",
    "print(\n",
    "    f\"Reconstructed expectation value: {np.real(np.round(reconstructed_expval, 8))}\"\n",
    ")\n",
    "print(f\"Exact expectation value: {np.round(exact_expval, 8)}\")\n",
    "print(\n",
    "    f\"Error in estimation: {np.real(np.round(reconstructed_expval-exact_expval, 8))}\"\n",
    ")\n",
    "print(\n",
    "    f\"Relative error in estimation: {np.real(np.round((reconstructed_expval-exact_expval) / exact_expval, 8))}\"\n",
    ")"
   ]
  },
  {
   "cell_type": "markdown",
   "id": "2a27ea20-4064-4864-8a92-cd6c6cb84fa2",
   "metadata": {},
   "source": [
    "<Admonition type=\"caution\" title=\"Note about observable coefficients\">\n",
    "    To accurately reconstruct the expectation value, the coefficients of the original observable (which are different from the output of `generate_cutting_experiments()`) must be applied to the output of the reconstruction, since this information was lost when the cutting experiments were generated or when the observable was expanded.\n",
    "\n",
    "    Typically these coefficients can be applied through `numpy.dot()` as shown previously.\n",
    "</Admonition>"
   ]
  },
  {
   "cell_type": "markdown",
   "id": "34609068-25a7-4aae-b786-836984d305d2",
   "metadata": {},
   "source": [
    "## Cut wires using the low-level `Move` instruction\n",
    "\n",
    "One limitation of using the higher-level `CutWire` instruction is that it does not allow for qubit re-use. If this is desired for a cutting experiment, you can instead manually place [`Move`](/docs/api/qiskit-addon-cutting/instructions-move) instructions. However, because the `Move` instruction discards the state of the destination qubit, it is important that this qubit does not share any entanglement with the remainder of the system. Otherwise, the reset operation will cause the state of the circuit to partially collapse after the wire cut.\n",
    "\n",
    "The code block below performs a wire cut on qubit $q_3$ for the same example circuit as previously shown. The difference here is that you can reuse a qubit by reversing the `Move` operation where the second wire cut was made (however, this is not always possible and depends on the circuit being cut)."
   ]
  },
  {
   "cell_type": "code",
   "execution_count": 8,
   "id": "15461a2c-85a9-4cb2-a632-b9597ccbc4bd",
   "metadata": {},
   "outputs": [
    {
     "data": {
      "text/plain": [
       "<Image src=\"/docs/images/guides/qiskit-addons-cutting-wires/extracted-outputs/15461a2c-85a9-4cb2-a632-b9597ccbc4bd-0.svg\" alt=\"Output of the previous code cell\" />"
      ]
     },
     "execution_count": 8,
     "metadata": {},
     "output_type": "execute_result"
    }
   ],
   "source": [
    "qc_1 = QuantumCircuit(8)\n",
    "for i in [*range(4), *range(5, 8)]:\n",
    "    qc_1.rx(np.pi / 4, i)\n",
    "qc_1.cx(0, 3)\n",
    "qc_1.cx(1, 3)\n",
    "qc_1.cx(2, 3)\n",
    "qc_1.append(Move(), [3, 4])\n",
    "qc_1.cx(4, 5)\n",
    "qc_1.cx(4, 6)\n",
    "qc_1.cx(4, 7)\n",
    "qc_1.append(Move(), [4, 3])\n",
    "qc_1.cx(0, 3)\n",
    "qc_1.cx(1, 3)\n",
    "qc_1.cx(2, 3)\n",
    "\n",
    "# Expand observable\n",
    "observable_expanded = SparsePauliOp([\"ZIIIIIII\", \"IIIIZIII\", \"IIIIIIIZ\"])\n",
    "qc_1.draw(\"mpl\")"
   ]
  },
  {
   "cell_type": "markdown",
   "id": "7b4f8998-4f30-4e93-84fe-957c658df678",
   "metadata": {},
   "source": [
    "The circuit above can now be partitioned and cutting experiments generated. To explicitly specify how the circuit should be partitioned, you can add partition labels to the `partition_problem()` function. Qubits that share a common partition label are grouped together, and any non-local gates spanning more than one partition are cut. The keys of the dictionary output by `partition_problem()` will match those specified in the label string."
   ]
  },
  {
   "cell_type": "code",
   "execution_count": 9,
   "id": "2139745a-bdc3-40bd-bd6f-d26d2a5b5b14",
   "metadata": {},
   "outputs": [
    {
     "name": "stdout",
     "output_type": "stream",
     "text": [
      "Subobservables to measure: \n",
      "{'A': PauliList(['IIII', 'ZIII', 'IIIZ']), 'B': PauliList(['ZIII', 'IIII', 'IIII'])}\n",
      "\n",
      "Sampling overhead: 256.0\n"
     ]
    },
    {
     "data": {
      "text/plain": [
       "<Image src=\"/docs/images/guides/qiskit-addons-cutting-wires/extracted-outputs/2139745a-bdc3-40bd-bd6f-d26d2a5b5b14-1.svg\" alt=\"Output of the previous code cell\" />"
      ]
     },
     "execution_count": 9,
     "metadata": {},
     "output_type": "execute_result"
    }
   ],
   "source": [
    "partitioned_problem = partition_problem(\n",
    "    circuit=qc_1,\n",
    "    partition_labels=\"AAAABBBB\",\n",
    "    observables=observable_expanded.paulis,\n",
    ")\n",
    "subcircuits = partitioned_problem.subcircuits\n",
    "subobservables = partitioned_problem.subobservables\n",
    "bases = partitioned_problem.bases\n",
    "\n",
    "print(f\"Subobservables to measure: \\n{subobservables}\\n\")\n",
    "print(f\"Sampling overhead: {np.prod([basis.overhead for basis in bases])}\")\n",
    "subcircuits[\"A\"].draw(\"mpl\")"
   ]
  },
  {
   "cell_type": "code",
   "execution_count": 10,
   "id": "4aeb3f1f-a55e-49c4-a7bd-837132429ee1",
   "metadata": {},
   "outputs": [
    {
     "data": {
      "text/plain": [
       "<Image src=\"/docs/images/guides/qiskit-addons-cutting-wires/extracted-outputs/4aeb3f1f-a55e-49c4-a7bd-837132429ee1-0.svg\" alt=\"Output of the previous code cell\" />"
      ]
     },
     "execution_count": 10,
     "metadata": {},
     "output_type": "execute_result"
    }
   ],
   "source": [
    "subcircuits[\"B\"].draw(\"mpl\")"
   ]
  },
  {
   "cell_type": "markdown",
   "id": "cb356463-966f-409f-af7b-eed6506e410f",
   "metadata": {},
   "source": [
    "Now the cutting experiments can be generated and the expectation value reconstructed in the same way as the previous section.\n",
    "\n",
    "## Next steps\n",
    "\n",
    "<Admonition type=\"tip\" title=\"Recommendations\">\n",
    "    - Read the [Get started with circuit cutting using gate cuts](/docs/guides/qiskit-addons-cutting-gates) guide.\n",
    "    - Read the arXiv paper on [optimal wire cutting](https://arxiv.org/abs/2302.03366) to better understand the equivalence between wire cutting and gate cutting.\n",
    "</Admonition>"
   ]
  }
 ],
 "metadata": {
  "description": "A worked example of wire cutting using the circuit cutting addon to get started with the package",
  "kernelspec": {
   "display_name": "Python 3",
   "language": "python",
   "name": "python3"
  },
  "language_info": {
   "codemirror_mode": {
    "name": "ipython",
    "version": 3
   },
   "file_extension": ".py",
   "mimetype": "text/x-python",
   "name": "python",
   "nbconvert_exporter": "python",
   "pygments_lexer": "ipython3",
   "version": "3"
  },
  "title": "Get started with wire cuts"
 },
 "nbformat": 4,
 "nbformat_minor": 2
}
