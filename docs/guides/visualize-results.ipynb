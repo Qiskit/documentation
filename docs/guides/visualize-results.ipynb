{
 "cells": [
  {
   "cell_type": "markdown",
   "id": "2d16e04d-7dee-4e47-b009-bbd50c247fdf",
   "metadata": {},
   "source": [
    "# Visualize results"
   ]
  },
  {
   "cell_type": "markdown",
   "id": "4f548f5a-9fee-498b-b54a-92da5acb2161",
   "metadata": {
    "tags": [
     "version-info"
    ]
   },
   "source": [
    "<details>\n",
    "<summary><b>Package versions</b></summary>\n",
    "\n",
    "The code on this page was developed using the following requirements.\n",
    "We recommend using these versions or newer.\n",
    "\n",
    "```\n",
    "qiskit[all]~=1.3.2\n",
    "qiskit-ibm-runtime~=0.34.0\n",
    "qiskit-aer~=0.15.1\n",
    "qiskit-serverless~=0.18.1\n",
    "qiskit-ibm-catalog~=0.2\n",
    "qiskit-addon-sqd~=0.9.0\n",
    "qiskit-addon-utils~=0.1.0\n",
    "qiskit-addon-mpf~=0.2.0\n",
    "qiskit-addon-aqc-tensor~=0.1.2\n",
    "qiskit-addon-obp~=0.1.0\n",
    "scipy~=1.15.1\n",
    "pyscf~=2.8.0; sys.platform != 'win32'\n",
    "```\n",
    "</details>"
   ]
  },
  {
   "cell_type": "markdown",
   "id": "7373f30c-a034-4abf-9dd9-71d74c8b296e",
   "metadata": {},
   "source": [
    "## Plot histogram <a name='histogram'></a>\n",
    "\n",
    "The `plot_histogram` function visualizes the result of sampling a quantum circuit on a QPU or simulator.\n",
    "\n",
    "<Admonition title=\"Using the output from functions\" type=\"tip\">\n",
    "This function returns a `matplotlib.Figure` object. When the last line of a code cell outputs these objects, Jupyter notebooks display them below the cell. If you call these functions in some other environments or in scripts, you will need to explicitly show or save the outputs.\n",
    "\n",
    "Two options are:\n",
    "- Call `.show()` on the returned object to open the image in a new window (assuming your configured matplotlib backend is interactive).\n",
    "- Call `.savefig(\"out.png\")` to save the figure to `out.png` in the current working directory. The `savefig()` method takes a path so you can adjust the location and filename where you're saving the output. For example, `plot_state_city(psi).savefig(\"out.png\")`.\n",
    "</Admonition>\n",
    "\n",
    "For example, make a two-qubit Bell state:"
   ]
  },
  {
   "cell_type": "code",
   "execution_count": 1,
   "id": "811db4f5-91f4-4781-afae-a42ce75fe12c",
   "metadata": {},
   "outputs": [],
   "source": [
    "from qiskit_aer.primitives import Sampler\n",
    "\n",
    "from qiskit import QuantumCircuit\n",
    "from qiskit.visualization import plot_histogram\n",
    "\n",
    "sampler = Sampler(backend_options={\"seed_simulator\": 1234})"
   ]
  },
  {
   "cell_type": "code",
   "execution_count": 2,
   "id": "88d4c428-decd-41f7-aaf7-1ebafea37249",
   "metadata": {},
   "outputs": [
    {
     "name": "stdout",
     "output_type": "stream",
     "text": [
      "{3: 0.485, 0: 0.515}\n"
     ]
    }
   ],
   "source": [
    "# quantum circuit to make a Bell state\n",
    "bell = QuantumCircuit(2)\n",
    "bell.h(0)\n",
    "bell.cx(0, 1)\n",
    "bell.measure_all()\n",
    "\n",
    "# execute the quantum circuit\n",
    "quasi_dists = sampler.run(bell, shots=1000).result().quasi_dists[0]\n",
    "print(quasi_dists)"
   ]
  },
  {
   "cell_type": "code",
   "execution_count": 3,
   "id": "f217705f-f930-411f-be6e-ea06eb5c877b",
   "metadata": {},
   "outputs": [
    {
     "data": {
      "text/plain": [
       "<Image src=\"/images/extracted-notebook-images/visualize-results/f217705f-f930-411f-be6e-ea06eb5c877b-0.svg\" alt=\"Output from the previous code\" />"
      ]
     },
     "execution_count": 3,
     "metadata": {},
     "output_type": "execute_result"
    }
   ],
   "source": [
    "plot_histogram(quasi_dists)"
   ]
  },
  {
   "cell_type": "markdown",
   "id": "57a1f479-3a5c-4eb4-a550-48c12d8f5c17",
   "metadata": {},
   "source": [
    "### Options when plotting a histogram\n",
    "\n",
    "Use the following options for `plot_histogram` to adjust the output graph.\n",
    "\n",
    "* `legend`: Provides a label for the executions. It takes a list of strings used to label each execution's results. This is mostly useful when plotting multiple execution results in the same histogram\n",
    "* `sort`: Adjusts the order of the bars in the histogram. It can be set to either ascending order with `asc` or descending order with `desc`\n",
    "* `number_to_keep`: Takes an integer for the number of terms to show. The rest are grouped together in a single bar called \"rest\"\n",
    "* `color`: Adjusts the color of the bars; takes a string or a list of strings for the colors to use for the bars for each execution\n",
    "* `bar_labels`: Adjusts whether labels are printed above the bars\n",
    "* `figsize`: Takes a tuple of the size in inches to make the output figure"
   ]
  },
  {
   "cell_type": "code",
   "execution_count": 4,
   "id": "2c67a5f1-20c0-4d95-bfb5-37509862880f",
   "metadata": {},
   "outputs": [
    {
     "data": {
      "text/plain": [
       "<Image src=\"/images/extracted-notebook-images/visualize-results/2c67a5f1-20c0-4d95-bfb5-37509862880f-0.svg\" alt=\"Output from the previous code\" />"
      ]
     },
     "execution_count": 4,
     "metadata": {},
     "output_type": "execute_result"
    }
   ],
   "source": [
    "# Execute two-qubit Bell state again\n",
    "second_quasi_dists = sampler.run(bell, shots=1000).result().quasi_dists[0]\n",
    "\n",
    "# Plot results with custom options\n",
    "plot_histogram(\n",
    "    [quasi_dists, second_quasi_dists],\n",
    "    legend=[\"first\", \"second\"],\n",
    "    sort=\"desc\",\n",
    "    figsize=(15, 12),\n",
    "    color=[\"orange\", \"black\"],\n",
    "    bar_labels=False,\n",
    ")"
   ]
  },
  {
   "cell_type": "markdown",
   "id": "b103e76b-5df8-41e3-b8ad-4d62eb0bc378",
   "metadata": {},
   "source": [
    "## Plotting estimator results\n",
    "\n",
    "Qiskit does not have a built-in function for plotting Estimator results, but you can use Matplotlib's [`bar` plot](https://matplotlib.org/stable/api/_as_gen/matplotlib.pyplot.bar.html) for a quick visualization.\n",
    "\n",
    "To demonstrate, the following cell estimates the expectation values of seven different observables on a quantum state."
   ]
  },
  {
   "cell_type": "code",
   "execution_count": 5,
   "id": "d97cd321-7acf-45a7-bfc3-823e225154c7",
   "metadata": {},
   "outputs": [
    {
     "name": "stdout",
     "output_type": "stream",
     "text": [
      "EstimatorResult(values=array([ 0.46875   ,  0.0390625 ,  0.50390625, -0.03125   , -0.70898438,\n",
      "        0.00390625,  0.74609375]), metadata=[{'shots': 1024, 'variance': 0.7802734375, 'simulator_metadata': [{'time_taken': 0.082658566, 'num_bind_params': 1, 'parallel_state_update': 4, 'parallel_shots': 1, 'required_memory_mb': 1, 'input_qubit_map': [[1, 1], [0, 0]], 'method': 'statevector', 'device': 'CPU', 'num_qubits': 2, 'sample_measure_time': 0.028617122, 'active_input_qubits': [0, 1], 'num_clbits': 2, 'remapped_qubits': False, 'runtime_parameter_bind': False, 'max_memory_mb': 15990, 'noise': 'ideal', 'measure_sampling': True, 'batched_shots_optimization': False, 'fusion': {'applied': False, 'max_fused_qubits': 5, 'threshold': 14, 'enabled': True}}]}, {'shots': 1024, 'variance': 0.99847412109375, 'simulator_metadata': [{'time_taken': 0.09200582, 'num_bind_params': 1, 'parallel_state_update': 4, 'parallel_shots': 1, 'required_memory_mb': 1, 'input_qubit_map': [[1, 1], [0, 0]], 'method': 'statevector', 'device': 'CPU', 'num_qubits': 2, 'sample_measure_time': 0.025795798, 'active_input_qubits': [0, 1], 'num_clbits': 2, 'remapped_qubits': False, 'runtime_parameter_bind': False, 'max_memory_mb': 15990, 'noise': 'ideal', 'measure_sampling': True, 'batched_shots_optimization': False, 'fusion': {'applied': False, 'max_fused_qubits': 5, 'threshold': 14, 'enabled': True}}]}, {'shots': 1024, 'variance': 0.7460784912109375, 'simulator_metadata': [{'time_taken': 0.047332821, 'num_bind_params': 1, 'parallel_state_update': 4, 'parallel_shots': 1, 'required_memory_mb': 1, 'input_qubit_map': [[1, 1], [0, 0]], 'method': 'statevector', 'device': 'CPU', 'num_qubits': 2, 'sample_measure_time': 0.031774214, 'active_input_qubits': [0, 1], 'num_clbits': 2, 'remapped_qubits': False, 'runtime_parameter_bind': False, 'max_memory_mb': 15990, 'noise': 'ideal', 'measure_sampling': True, 'batched_shots_optimization': False, 'fusion': {'applied': False, 'max_fused_qubits': 5, 'threshold': 14, 'enabled': True}}]}, {'shots': 1024, 'variance': 0.9990234375, 'simulator_metadata': [{'time_taken': 0.122783848, 'num_bind_params': 1, 'parallel_state_update': 4, 'parallel_shots': 1, 'required_memory_mb': 1, 'input_qubit_map': [[1, 1], [0, 0]], 'method': 'statevector', 'device': 'CPU', 'num_qubits': 2, 'sample_measure_time': 0.067455826, 'active_input_qubits': [0, 1], 'num_clbits': 2, 'remapped_qubits': False, 'runtime_parameter_bind': False, 'max_memory_mb': 15990, 'noise': 'ideal', 'measure_sampling': True, 'batched_shots_optimization': False, 'fusion': {'applied': False, 'max_fused_qubits': 5, 'threshold': 14, 'enabled': True}}]}, {'shots': 1024, 'variance': 0.4973411560058594, 'simulator_metadata': [{'time_taken': 0.097873248, 'num_bind_params': 1, 'parallel_state_update': 4, 'parallel_shots': 1, 'required_memory_mb': 1, 'input_qubit_map': [[1, 1], [0, 0]], 'method': 'statevector', 'device': 'CPU', 'num_qubits': 2, 'sample_measure_time': 0.034668945, 'active_input_qubits': [0, 1], 'num_clbits': 2, 'remapped_qubits': False, 'runtime_parameter_bind': False, 'max_memory_mb': 15990, 'noise': 'ideal', 'measure_sampling': True, 'batched_shots_optimization': False, 'fusion': {'applied': False, 'max_fused_qubits': 5, 'threshold': 14, 'enabled': True}}]}, {'shots': 1024, 'variance': 0.9999847412109375, 'simulator_metadata': [{'time_taken': 0.068999336, 'num_bind_params': 1, 'parallel_state_update': 4, 'parallel_shots': 1, 'required_memory_mb': 1, 'input_qubit_map': [[1, 1], [0, 0]], 'method': 'statevector', 'device': 'CPU', 'num_qubits': 2, 'sample_measure_time': 0.033417953, 'active_input_qubits': [0, 1], 'num_clbits': 2, 'remapped_qubits': False, 'runtime_parameter_bind': False, 'max_memory_mb': 15990, 'noise': 'ideal', 'measure_sampling': True, 'batched_shots_optimization': False, 'fusion': {'applied': False, 'max_fused_qubits': 5, 'threshold': 14, 'enabled': True}}]}, {'shots': 1024, 'variance': 0.4433441162109375, 'simulator_metadata': [{'time_taken': 0.104764604, 'num_bind_params': 1, 'parallel_state_update': 4, 'parallel_shots': 1, 'required_memory_mb': 1, 'input_qubit_map': [[1, 1], [0, 0]], 'method': 'statevector', 'device': 'CPU', 'num_qubits': 2, 'sample_measure_time': 0.0697916, 'active_input_qubits': [0, 1], 'num_clbits': 2, 'remapped_qubits': False, 'runtime_parameter_bind': False, 'max_memory_mb': 15990, 'noise': 'ideal', 'measure_sampling': True, 'batched_shots_optimization': False, 'fusion': {'applied': False, 'max_fused_qubits': 5, 'threshold': 14, 'enabled': True}}]}])\n"
     ]
    },
    {
     "data": {
      "text/plain": [
       "<BarContainer object of 7 artists>"
      ]
     },
     "execution_count": 5,
     "metadata": {},
     "output_type": "execute_result"
    },
    {
     "data": {
      "text/plain": [
       "<Image src=\"/images/extracted-notebook-images/visualize-results/d97cd321-7acf-45a7-bfc3-823e225154c7-2.svg\" alt=\"Output from the previous code\" />"
      ]
     },
     "metadata": {},
     "output_type": "display_data"
    }
   ],
   "source": [
    "from qiskit import QuantumCircuit\n",
    "from qiskit.quantum_info import SparsePauliOp\n",
    "from qiskit_aer.primitives import Estimator\n",
    "from matplotlib import pyplot as plt\n",
    "\n",
    "# Simple estimation experiment to create results\n",
    "qc = QuantumCircuit(2)\n",
    "qc.h(0)\n",
    "qc.crx(1.5, 0, 1)\n",
    "\n",
    "observables_labels = [\"ZZ\", \"XX\", \"YZ\", \"ZY\", \"XY\", \"XZ\", \"ZX\"]\n",
    "observables = [SparsePauliOp(label) for label in observables_labels]\n",
    "\n",
    "estimator = Estimator(backend_options={\"seed_simulator\": 1234})\n",
    "result = estimator.run([qc] * 7, observables).result()\n",
    "print(result)\n",
    "\n",
    "# Plot using Matplotlib\n",
    "plt.bar(observables_labels, result.values)"
   ]
  },
  {
   "cell_type": "markdown",
   "id": "8f415ec3-19a3-4841-8f32-cd0ec8385f7d",
   "metadata": {},
   "source": [
    "The following cell estimates the [standard error](https://en.wikipedia.org/wiki/Standard_error) from the [variance](https://en.wikipedia.org/wiki/Variance) of each result and adds them as error bars. See the [`bar` plot documentation](https://matplotlib.org/stable/api/_as_gen/matplotlib.pyplot.bar.html) for a full description of the plot."
   ]
  },
  {
   "cell_type": "code",
   "execution_count": 6,
   "id": "4b4b532c-bf79-42bf-bc6a-3877e132c89a",
   "metadata": {},
   "outputs": [
    {
     "data": {
      "text/plain": [
       "Text(0.5, 1.0, 'Expectation values (with standard errors)')"
      ]
     },
     "execution_count": 6,
     "metadata": {},
     "output_type": "execute_result"
    },
    {
     "data": {
      "text/plain": [
       "<Image src=\"/images/extracted-notebook-images/visualize-results/4b4b532c-bf79-42bf-bc6a-3877e132c89a-1.svg\" alt=\"Output from the previous code\" />"
      ]
     },
     "metadata": {},
     "output_type": "display_data"
    }
   ],
   "source": [
    "from math import sqrt\n",
    "\n",
    "standard_error = [\n",
    "    sqrt(exp_data[\"variance\"]) / sqrt(exp_data[\"shots\"])\n",
    "    for exp_data in result.metadata\n",
    "]\n",
    "\n",
    "_, ax = plt.subplots()\n",
    "ax.bar(observables_labels, result.values, yerr=standard_error, capsize=2)\n",
    "ax.set_title(\"Expectation values (with standard errors)\")"
   ]
  }
 ],
 "metadata": {
  "description": "Plot quantum circuit execution results using Qiskit",
  "kernelspec": {
   "display_name": "Python 3",
   "language": "python",
   "name": "python3"
  },
  "language_info": {
   "codemirror_mode": {
    "name": "ipython",
    "version": 3
   },
   "file_extension": ".py",
   "mimetype": "text/x-python",
   "name": "python",
   "nbconvert_exporter": "python",
   "pygments_lexer": "ipython3",
   "version": "3"
  },
  "title": "Visualize results"
 },
 "nbformat": 4,
 "nbformat_minor": 4
}
