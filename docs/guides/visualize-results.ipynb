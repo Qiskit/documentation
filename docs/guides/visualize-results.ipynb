{
 "cells": [
  {
   "cell_type": "markdown",
   "id": "1adb4ac8-f331-485b-89f5-e4ec20a6855f",
   "metadata": {},
   "source": [
    "# Visualize results"
   ]
  },
  {
   "cell_type": "markdown",
   "id": "6efd5b06-c754-4b34-a14d-e404c9e920cb",
   "metadata": {
    "tags": [
     "version-info"
    ]
   },
   "source": [
    "<details>\n",
    "<summary><b>Package versions</b></summary>\n",
    "\n",
    "The code on this page was developed using the following requirements.\n",
    "We recommend using these versions or newer.\n",
    "\n",
    "```\n",
    "qiskit[all]~=2.0.0\n",
    "qiskit-ibm-runtime~=0.37.0\n",
    "```\n",
    "</details>"
   ]
  },
  {
   "cell_type": "markdown",
   "id": "b446771a-caf4-4b59-8e8c-1d115249b818",
   "metadata": {},
   "source": [
    "## Plot histogram <a name='histogram'></a>\n",
    "\n",
    "The `plot_histogram` function visualizes the result of sampling a quantum circuit on a QPU or simulator.\n",
    "\n",
    "<Admonition title=\"Using the output from functions\" type=\"tip\">\n",
    "This function returns a `matplotlib.Figure` object. When the last line of a code cell outputs these objects, Jupyter notebooks display them below the cell. If you call these functions in some other environments or in scripts, you will need to explicitly show or save the outputs.\n",
    "\n",
    "Two options are:\n",
    "- Call `.show()` on the returned object to open the image in a new window (assuming your configured matplotlib backend is interactive).\n",
    "- Call `.savefig(\"out.png\")` to save the figure to `out.png` in the current working directory. The `savefig()` method takes a path so you can adjust the location and filename where you're saving the output. For example, `plot_state_city(psi).savefig(\"out.png\")`.\n",
    "</Admonition>\n",
    "\n",
    "For example, make a two-qubit Bell state:"
   ]
  },
  {
   "cell_type": "code",
   "execution_count": 1,
   "id": "03592c4f-8a0a-4c0b-81f6-658f57d33ee4",
   "metadata": {},
   "outputs": [],
   "source": [
    "from qiskit_ibm_runtime import QiskitRuntimeService, SamplerV2 as Sampler\n",
    "from qiskit.transpiler import generate_preset_pass_manager\n",
    "\n",
    "from qiskit.circuit import QuantumCircuit\n",
    "from qiskit.visualization import plot_histogram\n",
    "\n",
    "service = QiskitRuntimeService()\n",
    "\n",
    "backend = service.least_busy(simulator=False, operational=True)"
   ]
  },
  {
   "cell_type": "code",
   "execution_count": 2,
   "id": "2ff2c2d1-185f-4183-b80a-b5b599411245",
   "metadata": {},
   "outputs": [
    {
     "name": "stdout",
     "output_type": "stream",
     "text": [
      "PrimitiveResult([SamplerPubResult(data=DataBin(meas=BitArray(<shape=(), num_shots=4096, num_bits=2>)), metadata={'circuit_metadata': {}})], metadata={'execution': {'execution_spans': ExecutionSpans([DoubleSliceSpan(<start='2025-05-01 14:39:23', stop='2025-05-01 14:39:25', size=4096>)])}, 'version': 2})\n"
     ]
    }
   ],
   "source": [
    "# Quantum circuit to make a Bell state\n",
    "bell = QuantumCircuit(2)\n",
    "bell.h(0)\n",
    "bell.cx(0, 1)\n",
    "bell.measure_all()\n",
    "\n",
    "pm = generate_preset_pass_manager(backend=backend, optimization_level=1)\n",
    "isa_circuit = pm.run(bell)\n",
    "\n",
    "# execute the quantum circuit\n",
    "sampler = Sampler(backend)\n",
    "job = sampler.run([isa_circuit])\n",
    "result = job.result()\n",
    "\n",
    "print(result)"
   ]
  },
  {
   "cell_type": "code",
   "execution_count": 3,
   "id": "3b41d6da-1bca-4b82-ac84-b5b811b7d430",
   "metadata": {},
   "outputs": [
    {
     "data": {
      "text/plain": [
       "<Image src=\"/docs/images/guides/visualize-results/extracted-outputs/3b41d6da-1bca-4b82-ac84-b5b811b7d430-0.svg\" alt=\"Output of the previous code cell\" />"
      ]
     },
     "execution_count": 3,
     "metadata": {},
     "output_type": "execute_result"
    }
   ],
   "source": [
    "plot_histogram(result[0].data.meas.get_counts())"
   ]
  },
  {
   "cell_type": "markdown",
   "id": "330e0fcb-ce13-4ad2-855e-4e0b8665cf76",
   "metadata": {},
   "source": [
    "### Options when plotting a histogram\n",
    "\n",
    "Use the following options for `plot_histogram` to adjust the output graph.\n",
    "\n",
    "* `legend`: Provides a label for the executions. It takes a list of strings used to label each execution's results. This is mostly useful when plotting multiple execution results in the same histogram\n",
    "* `sort`: Adjusts the order of the bars in the histogram. It can be set to either ascending order with `asc` or descending order with `desc`\n",
    "* `number_to_keep`: Takes an integer for the number of terms to show. The rest are grouped together in a single bar called \"rest\"\n",
    "* `color`: Adjusts the color of the bars; takes a string or a list of strings for the colors to use for the bars for each execution\n",
    "* `bar_labels`: Adjusts whether labels are printed above the bars\n",
    "* `figsize`: Takes a tuple of the size in inches to make the output figure"
   ]
  },
  {
   "cell_type": "code",
   "execution_count": 4,
   "id": "7f456bcc-94a8-4522-9be2-77ea91045c1f",
   "metadata": {},
   "outputs": [
    {
     "data": {
      "text/plain": [
       "<Image src=\"/docs/images/guides/visualize-results/extracted-outputs/7f456bcc-94a8-4522-9be2-77ea91045c1f-0.svg\" alt=\"Output of the previous code cell\" />"
      ]
     },
     "execution_count": 4,
     "metadata": {},
     "output_type": "execute_result"
    }
   ],
   "source": [
    "# Execute two-qubit Bell state again\n",
    "sampler.options.default_shots = 1000\n",
    "\n",
    "job = sampler.run([isa_circuit])\n",
    "second_result = job.result()\n",
    "\n",
    "# Plot results with custom options\n",
    "plot_histogram(\n",
    "    [\n",
    "        result[0].data.meas.get_counts(),\n",
    "        second_result[0].data.meas.get_counts(),\n",
    "    ],\n",
    "    legend=[\"first\", \"second\"],\n",
    "    sort=\"desc\",\n",
    "    figsize=(15, 12),\n",
    "    color=[\"orange\", \"black\"],\n",
    "    bar_labels=False,\n",
    ")"
   ]
  },
  {
   "cell_type": "markdown",
   "id": "2a3d185d-96ce-4a91-890f-b8e3d7f31eb0",
   "metadata": {},
   "source": [
    "## Plotting estimator results\n",
    "\n",
    "Qiskit does not have a built-in function for plotting Estimator results, but you can use Matplotlib's [`bar` plot](https://matplotlib.org/stable/api/_as_gen/matplotlib.pyplot.bar.html) for a quick visualization.\n",
    "\n",
    "To demonstrate, the following cell estimates the expectation values of seven different observables on a quantum state."
   ]
  },
  {
   "cell_type": "code",
   "execution_count": 5,
   "id": "35e07a46-8423-44ff-abad-7c10c72291a5",
   "metadata": {},
   "outputs": [
    {
     "name": "stdout",
     "output_type": "stream",
     "text": [
      "PubResult(data=DataBin(evs=np.ndarray(<shape=(7, 1), dtype=float64>), stds=np.ndarray(<shape=(7, 1), dtype=float64>), ensemble_standard_error=np.ndarray(<shape=(7, 1), dtype=float64>), shape=(7, 1)), metadata={'shots': 4096, 'target_precision': 0.015625, 'circuit_metadata': {}, 'resilience': {}, 'num_randomizations': 32})\n"
     ]
    },
    {
     "data": {
      "text/plain": [
       "<BarContainer object of 7 artists>"
      ]
     },
     "execution_count": 5,
     "metadata": {},
     "output_type": "execute_result"
    },
    {
     "data": {
      "text/plain": [
       "<Image src=\"/docs/images/guides/visualize-results/extracted-outputs/35e07a46-8423-44ff-abad-7c10c72291a5-2.svg\" alt=\"Output of the previous code cell\" />"
      ]
     },
     "metadata": {},
     "output_type": "display_data"
    }
   ],
   "source": [
    "import numpy as np\n",
    "from qiskit import QuantumCircuit\n",
    "from qiskit.quantum_info import SparsePauliOp\n",
    "from qiskit_ibm_runtime import EstimatorV2 as Estimator\n",
    "from qiskit.transpiler import generate_preset_pass_manager\n",
    "from matplotlib import pyplot as plt\n",
    "\n",
    "# Simple estimation experiment to create results\n",
    "qc = QuantumCircuit(2)\n",
    "qc.h(0)\n",
    "qc.crx(1.5, 0, 1)\n",
    "\n",
    "observables_labels = [\"ZZ\", \"XX\", \"YZ\", \"ZY\", \"XY\", \"XZ\", \"ZX\"]\n",
    "observables = [SparsePauliOp(label) for label in observables_labels]\n",
    "\n",
    "service = QiskitRuntimeService()\n",
    "\n",
    "pm = generate_preset_pass_manager(backend=backend, optimization_level=1)\n",
    "isa_circuit = pm.run(qc)\n",
    "isa_observables = [\n",
    "    operator.apply_layout(isa_circuit.layout) for operator in observables\n",
    "]\n",
    "\n",
    "# Reshape observable array for broadcasting\n",
    "reshaped_ops = np.fromiter(isa_observables, dtype=object)\n",
    "reshaped_ops = reshaped_ops.reshape((7, 1))\n",
    "\n",
    "estimator = Estimator(backend)\n",
    "job = estimator.run([(isa_circuit, reshaped_ops)])\n",
    "result = job.result()[0]\n",
    "exp_val = job.result()[0].data.evs\n",
    "print(result)\n",
    "\n",
    "# Since the result array is structured as a 2D array where each element is a\n",
    "# list containing a single value, you need to flatten the array.\n",
    "\n",
    "# Plot using Matplotlib\n",
    "plt.bar(observables_labels, exp_val.flatten())"
   ]
  },
  {
   "cell_type": "markdown",
   "id": "d0e52ff0-96d5-45fb-b5df-38f43fd19ecc",
   "metadata": {},
   "source": [
    "The following cell uses the estimated [standard error](https://en.wikipedia.org/wiki/Standard_error) of each result and adds them as error bars. See the [`bar` plot documentation](https://matplotlib.org/stable/api/_as_gen/matplotlib.pyplot.bar.html) for a full description of the plot."
   ]
  },
  {
   "cell_type": "code",
   "execution_count": 6,
   "id": "6f122049-0b5a-49e8-bde4-d99d91f4b77c",
   "metadata": {},
   "outputs": [
    {
     "data": {
      "text/plain": [
       "Text(0.5, 1.0, 'Expectation values (with standard errors)')"
      ]
     },
     "execution_count": 6,
     "metadata": {},
     "output_type": "execute_result"
    },
    {
     "data": {
      "text/plain": [
       "<Image src=\"/docs/images/guides/visualize-results/extracted-outputs/6f122049-0b5a-49e8-bde4-d99d91f4b77c-1.svg\" alt=\"Output of the previous code cell\" />"
      ]
     },
     "metadata": {},
     "output_type": "display_data"
    }
   ],
   "source": [
    "standard_error = job.result()[0].data.stds\n",
    "\n",
    "_, ax = plt.subplots()\n",
    "ax.bar(\n",
    "    observables_labels,\n",
    "    exp_val.flatten(),\n",
    "    yerr=standard_error.flatten(),\n",
    "    capsize=2,\n",
    ")\n",
    "ax.set_title(\"Expectation values (with standard errors)\")"
   ]
  }
 ],
 "metadata": {
  "description": "Plot quantum circuit execution results using Qiskit",
  "kernelspec": {
   "display_name": "Python 3",
   "language": "python",
   "name": "python3"
  },
  "language_info": {
   "codemirror_mode": {
    "name": "ipython",
    "version": 3
   },
   "file_extension": ".py",
   "mimetype": "text/x-python",
   "name": "python",
   "nbconvert_exporter": "python",
   "pygments_lexer": "ipython3",
   "version": "3"
  },
  "title": "Visualize results"
 },
 "nbformat": 4,
 "nbformat_minor": 4
}
