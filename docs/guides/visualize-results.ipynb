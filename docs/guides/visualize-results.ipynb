{
 "cells": [
  {
   "cell_type": "markdown",
   "id": "1adb4ac8-f331-485b-89f5-e4ec20a6855f",
   "metadata": {},
   "source": [
    "# Visualize results"
   ]
  },
  {
   "cell_type": "markdown",
   "id": "6efd5b06-c754-4b34-a14d-e404c9e920cb",
   "metadata": {
    "tags": [
     "version-info"
    ]
   },
   "source": [
    "<details>\n",
    "<summary><b>Package versions</b></summary>\n",
    "\n",
    "The code on this page was developed using the following requirements.\n",
    "We recommend using these versions or newer.\n",
    "\n",
    "```\n",
    "qiskit[all]~=2.0.0\n",
    "qiskit-ibm-runtime~=0.37.0\n",
    "```\n",
    "</details>"
   ]
  },
  {
   "cell_type": "markdown",
   "id": "b446771a-caf4-4b59-8e8c-1d115249b818",
   "metadata": {},
   "source": [
    "## Plot histogram <a name='histogram'></a>\n",
    "\n",
    "The `plot_histogram` function visualizes the result of sampling a quantum circuit on a QPU or simulator.\n",
    "\n",
    "<Admonition title=\"Using the output from functions\" type=\"tip\">\n",
    "This function returns a `matplotlib.Figure` object. When the last line of a code cell outputs these objects, Jupyter notebooks display them below the cell. If you call these functions in some other environments or in scripts, you will need to explicitly show or save the outputs.\n",
    "\n",
    "Two options are:\n",
    "- Call `.show()` on the returned object to open the image in a new window (assuming your configured matplotlib backend is interactive).\n",
    "- Call `.savefig(\"out.png\")` to save the figure to `out.png` in the current working directory. The `savefig()` method takes a path so you can adjust the location and filename where you're saving the output. For example, `plot_state_city(psi).savefig(\"out.png\")`.\n",
    "</Admonition>\n",
    "\n",
    "For example, make a two-qubit Bell state:"
   ]
  },
  {
   "cell_type": "code",
   "execution_count": 1,
   "id": "03592c4f-8a0a-4c0b-81f6-658f57d33ee4",
   "metadata": {},
   "outputs": [],
   "source": [
    "from qiskit_ibm_runtime import QiskitRuntimeService, SamplerV2 as Sampler\n",
    "from qiskit_ibm_runtime.fake_provider import FakeManilaV2\n",
    "from qiskit.transpiler import generate_preset_pass_manager\n",
    "\n",
    "from qiskit.circuit import QuantumCircuit\n",
    "from qiskit.visualization import plot_histogram\n",
    "\n",
    "backend = FakeManilaV2()"
   ]
  },
  {
   "cell_type": "code",
   "execution_count": 2,
   "id": "2ff2c2d1-185f-4183-b80a-b5b599411245",
   "metadata": {},
   "outputs": [
    {
     "name": "stdout",
     "output_type": "stream",
     "text": [
      "PrimitiveResult([SamplerPubResult(data=DataBin(meas=BitArray(<shape=(), num_shots=1024, num_bits=2>)), metadata={'shots': 1024, 'circuit_metadata': {}})], metadata={'version': 2})\n"
     ]
    }
   ],
   "source": [
    "# Quantum circuit to make a Bell state\n",
    "bell = QuantumCircuit(2)\n",
    "bell.h(0)\n",
    "bell.cx(0, 1)\n",
    "bell.measure_all()\n",
    "\n",
    "pm = generate_preset_pass_manager(backend=backend, optimization_level=1)\n",
    "isa_circuit = pm.run(bell)\n",
    "\n",
    "# execute the quantum circuit\n",
    "sampler = Sampler(backend, options={\"simulator\": {\"seed_simulator\": 123}})\n",
    "job = sampler.run([isa_circuit])\n",
    "result = job.result()\n",
    "\n",
    "print(result)"
   ]
  },
  {
   "cell_type": "code",
   "execution_count": 3,
   "id": "3b41d6da-1bca-4b82-ac84-b5b811b7d430",
   "metadata": {},
   "outputs": [
    {
     "data": {
      "image/svg+xml": [
       "<?xml version=\"1.0\" encoding=\"UTF-8\"?><!DOCTYPE svg  PUBLIC '-//W3C//DTD SVG 1.1//EN'  'http://www.w3.org/Graphics/SVG/1.1/DTD/svg11.dtd'><svg width=\"453.57pt\" height=\"338.21pt\" version=\"1.1\" viewBox=\"0 0 453.57 338.21\" xmlns=\"http://www.w3.org/2000/svg\" xmlns:xlink=\"http://www.w3.org/1999/xlink\"><defs><style type=\"text/css\">*{stroke-linejoin: round; stroke-linecap: butt}</style></defs><path d=\"m0 338.21h453.57v-338.21h-453.57z\" fill=\"#ffffff\"/><path d=\"m50.837 308.74h395.53v-301.54h-395.53z\" fill=\"#ffffff\"/><defs><path id=\"2f761b7aae1\" d=\"m0 0v3.5\" stroke=\"#000000\" stroke-width=\".8\"/></defs><use x=\"94.499278\" y=\"308.743165\" stroke=\"#000000\" stroke-width=\".8\" xlink:href=\"#2f761b7aae1\"/><g transform=\"translate(97.287 330.3) rotate(-70) scale(.1 -.1)\"><defs><path id=\"DejaVuSans-30\" transform=\"scale(.015625)\" d=\"m2034 4250q-487 0-733-480-245-479-245-1442 0-959 245-1439 246-480 733-480 491 0 736 480 246 480 246 1439 0 963-246 1442-245 480-736 480zm0 500q785 0 1199-621 414-620 414-1801 0-1178-414-1799-414-620-1199-620-784 0-1198 620-414 621-414 1799 0 1181 414 1801 414 621 1198 621z\"/></defs><use xlink:href=\"#DejaVuSans-30\"/><use transform=\"translate(63.623)\" xlink:href=\"#DejaVuSans-30\"/></g><use x=\"197.234343\" y=\"308.743165\" stroke=\"#000000\" stroke-width=\".8\" xlink:href=\"#2f761b7aae1\"/><g transform=\"translate(200.02 330.3) rotate(-70) scale(.1 -.1)\"><defs><path id=\"DejaVuSans-31\" transform=\"scale(.015625)\" d=\"m794 531h1031v3560l-1122-225v575l1116 225h631v-4135h1031v-531h-2687v531z\"/></defs><use xlink:href=\"#DejaVuSans-30\"/><use transform=\"translate(63.623)\" xlink:href=\"#DejaVuSans-31\"/></g><use x=\"299.969407\" y=\"308.743165\" stroke=\"#000000\" stroke-width=\".8\" xlink:href=\"#2f761b7aae1\"/><g transform=\"translate(302.76 330.3) rotate(-70) scale(.1 -.1)\"><use xlink:href=\"#DejaVuSans-31\"/><use transform=\"translate(63.623)\" xlink:href=\"#DejaVuSans-30\"/></g><use x=\"402.704472\" y=\"308.743165\" stroke=\"#000000\" stroke-width=\".8\" xlink:href=\"#2f761b7aae1\"/><g transform=\"translate(405.49 330.3) rotate(-70) scale(.1 -.1)\"><use xlink:href=\"#DejaVuSans-31\"/><use transform=\"translate(63.623)\" xlink:href=\"#DejaVuSans-31\"/></g><path d=\"m50.837 308.74h395.53\" clip-path=\"url(#cba0b24379a)\" fill=\"none\" stroke=\"#b0b0b0\" stroke-dasharray=\"2.96,1.28\" stroke-width=\".8\"/><defs><path id=\"d67c96987e0\" d=\"m0 0h-3.5\" stroke=\"#000000\" stroke-width=\".8\"/></defs><use x=\"50.836875\" y=\"308.743165\" stroke=\"#000000\" stroke-width=\".8\" xlink:href=\"#d67c96987e0\"/><g transform=\"translate(37.474 312.54) scale(.1 -.1)\"><use xlink:href=\"#DejaVuSans-30\"/></g><path d=\"m50.837 226.17h395.53\" clip-path=\"url(#cba0b24379a)\" fill=\"none\" stroke=\"#b0b0b0\" stroke-dasharray=\"2.96,1.28\" stroke-width=\".8\"/><use x=\"50.836875\" y=\"226.173843\" stroke=\"#000000\" stroke-width=\".8\" xlink:href=\"#d67c96987e0\"/><g transform=\"translate(24.749 229.97) scale(.1 -.1)\"><defs><path id=\"DejaVuSans-35\" transform=\"scale(.015625)\" d=\"m691 4666h2478v-532h-1900v-1143q137 47 274 70 138 23 276 23 781 0 1237-428 457-428 457-1159 0-753-469-1171-469-417-1322-417-294 0-599 50-304 50-629 150v635q281-153 581-228t634-75q541 0 856 284 316 284 316 772 0 487-316 771-315 285-856 285-253 0-505-56-251-56-513-175v2344z\"/></defs><use xlink:href=\"#DejaVuSans-31\"/><use transform=\"translate(63.623)\" xlink:href=\"#DejaVuSans-35\"/><use transform=\"translate(127.25)\" xlink:href=\"#DejaVuSans-30\"/></g><path d=\"m50.837 143.6h395.53\" clip-path=\"url(#cba0b24379a)\" fill=\"none\" stroke=\"#b0b0b0\" stroke-dasharray=\"2.96,1.28\" stroke-width=\".8\"/><use x=\"50.836875\" y=\"143.604521\" stroke=\"#000000\" stroke-width=\".8\" xlink:href=\"#d67c96987e0\"/><g transform=\"translate(24.749 147.4) scale(.1 -.1)\"><defs><path id=\"DejaVuSans-33\" transform=\"scale(.015625)\" d=\"m2597 2516q453-97 707-404 255-306 255-756 0-690-475-1069-475-378-1350-378-293 0-604 58t-642 174v609q262-153 574-231 313-78 654-78 593 0 904 234t311 681q0 413-289 645-289 233-804 233h-544v519h569q465 0 712 186t247 536q0 359-255 551-254 193-729 193-260 0-557-57-297-56-653-174v562q360 100 674 150t592 50q719 0 1137-327 419-326 419-882 0-388-222-655t-631-370z\"/></defs><use xlink:href=\"#DejaVuSans-33\"/><use transform=\"translate(63.623)\" xlink:href=\"#DejaVuSans-30\"/><use transform=\"translate(127.25)\" xlink:href=\"#DejaVuSans-30\"/></g><path d=\"m50.837 61.035h395.53\" clip-path=\"url(#cba0b24379a)\" fill=\"none\" stroke=\"#b0b0b0\" stroke-dasharray=\"2.96,1.28\" stroke-width=\".8\"/><use x=\"50.836875\" y=\"61.035198\" stroke=\"#000000\" stroke-width=\".8\" xlink:href=\"#d67c96987e0\"/><g transform=\"translate(24.749 64.834) scale(.1 -.1)\"><defs><path id=\"DejaVuSans-34\" transform=\"scale(.015625)\" d=\"m2419 4116-1594-2491h1594v2491zm-166 550h794v-3041h666v-525h-666v-1100h-628v1100h-2106v609l1940 2957z\"/></defs><use xlink:href=\"#DejaVuSans-34\"/><use transform=\"translate(63.623)\" xlink:href=\"#DejaVuSans-35\"/><use transform=\"translate(127.25)\" xlink:href=\"#DejaVuSans-30\"/></g><g transform=\"translate(17.838 178.76) rotate(-90) scale(.14 -.14)\"><defs><path id=\"DejaVuSans-43\" transform=\"scale(.015625)\" d=\"m4122 4306v-665q-319 297-680 443-361 147-767 147-800 0-1225-489t-425-1414q0-922 425-1411t1225-489q406 0 767 147t680 444v-660q-331-225-702-338-370-112-782-112-1060 0-1670 648-609 649-609 1771 0 1125 609 1773 610 649 1670 649 418 0 788-111 371-111 696-333z\"/><path id=\"DejaVuSans-6f\" transform=\"scale(.015625)\" d=\"m1959 3097q-462 0-731-361t-269-989 267-989q268-361 733-361 460 0 728 362 269 363 269 988 0 622-269 986-268 364-728 364zm0 487q750 0 1178-488 429-487 429-1349 0-859-429-1349-428-489-1178-489-753 0-1180 489-426 490-426 1349 0 862 426 1349 427 488 1180 488z\"/><path id=\"DejaVuSans-75\" transform=\"scale(.015625)\" d=\"m544 1381v2119h575v-2097q0-497 193-746 194-248 582-248 465 0 735 297 271 297 271 810v1984h575v-3500h-575v538q-209-319-486-474-276-155-642-155-603 0-916 375-312 375-312 1097zm1447 2203z\"/><path id=\"DejaVuSans-6e\" transform=\"scale(.015625)\" d=\"m3513 2113v-2113h-575v2094q0 497-194 743-194 247-581 247-466 0-735-297-269-296-269-809v-1978h-578v3500h578v-544q207 316 486 472 280 156 646 156 603 0 912-373 310-373 310-1098z\"/><path id=\"DejaVuSans-74\" transform=\"scale(.015625)\" d=\"m1172 4494v-994h1184v-447h-1184v-1900q0-428 117-550t477-122h590v-481h-590q-666 0-919 248-253 249-253 905v1900h-422v447h422v994h578z\"/></defs><use xlink:href=\"#DejaVuSans-43\"/><use transform=\"translate(69.824)\" xlink:href=\"#DejaVuSans-6f\"/><use transform=\"translate(131.01)\" xlink:href=\"#DejaVuSans-75\"/><use transform=\"translate(194.38)\" xlink:href=\"#DejaVuSans-6e\"/><use transform=\"translate(257.76)\" xlink:href=\"#DejaVuSans-74\"/></g><path d=\"m68.816 308.74h51.368v-259.27h-51.368z\" clip-path=\"url(#cba0b24379a)\" fill=\"#1f77b4\"/><path d=\"m171.55 308.74h51.368v-14.862h-51.368z\" clip-path=\"url(#cba0b24379a)\" fill=\"#1f77b4\"/><path d=\"m274.29 308.74h51.368v-15.413h-51.368z\" clip-path=\"url(#cba0b24379a)\" fill=\"#1f77b4\"/><path d=\"m377.02 308.74h51.368v-274.13h-51.368z\" clip-path=\"url(#cba0b24379a)\" fill=\"#1f77b4\"/><path d=\"m50.837 308.74v-301.54\" fill=\"none\" stroke=\"#000000\" stroke-linecap=\"square\" stroke-width=\".8\"/><path d=\"m446.37 308.74v-301.54\" fill=\"none\" stroke=\"#000000\" stroke-linecap=\"square\" stroke-width=\".8\"/><path d=\"m50.837 308.74h395.53\" fill=\"none\" stroke=\"#000000\" stroke-linecap=\"square\" stroke-width=\".8\"/><path d=\"m50.837 7.2h395.53\" fill=\"none\" stroke=\"#000000\" stroke-linecap=\"square\" stroke-width=\".8\"/><g transform=\"translate(84.956 34.432) scale(.1 -.1)\"><defs><path id=\"DejaVuSans-37\" transform=\"scale(.015625)\" d=\"m525 4666h3e3v-269l-1694-4397h-659l1594 4134h-2241v532z\"/></defs><use xlink:href=\"#DejaVuSans-34\"/><use transform=\"translate(63.623)\" xlink:href=\"#DejaVuSans-37\"/><use transform=\"translate(127.25)\" xlink:href=\"#DejaVuSans-31\"/></g><g transform=\"translate(190.87 291.06) scale(.1 -.1)\"><defs><path id=\"DejaVuSans-32\" transform=\"scale(.015625)\" d=\"m1228 531h2203v-531h-2962v531q359 372 979 998 621 627 780 809 303 340 423 576 121 236 121 464 0 372-261 606-261 235-680 235-297 0-627-103-329-103-704-313v638q381 153 712 231 332 78 607 78 725 0 1156-363 431-362 431-968 0-288-108-546-107-257-392-607-78-91-497-524-418-433-1181-1211z\"/></defs><use xlink:href=\"#DejaVuSans-32\"/><use transform=\"translate(63.623)\" xlink:href=\"#DejaVuSans-37\"/></g><g transform=\"translate(293.61 290.48) scale(.1 -.1)\"><defs><path id=\"DejaVuSans-38\" transform=\"scale(.015625)\" d=\"m2034 2216q-450 0-708-241-257-241-257-662 0-422 257-663 258-241 708-241t709 242q260 243 260 662 0 421-258 662-257 241-711 241zm-631 268q-406 100-633 378-226 279-226 679 0 559 398 884 399 325 1092 325 697 0 1094-325t397-884q0-400-227-679-226-278-629-378 456-106 710-416 255-309 255-755 0-679-414-1042-414-362-1186-362-771 0-1186 362-414 363-414 1042 0 446 256 755 257 310 713 416zm-231 997q0-362 226-565 227-203 636-203 407 0 636 203 230 203 230 565 0 363-230 566-229 203-636 203-409 0-636-203-226-203-226-566z\"/></defs><use xlink:href=\"#DejaVuSans-32\"/><use transform=\"translate(63.623)\" xlink:href=\"#DejaVuSans-38\"/></g><g transform=\"translate(393.16 18.827) scale(.1 -.1)\"><defs><path id=\"DejaVuSans-39\" transform=\"scale(.015625)\" d=\"m703 97v575q238-113 481-172 244-59 479-59 625 0 954 420 330 420 377 1277-181-269-460-413-278-144-615-144-700 0-1108 423-408 424-408 1159 0 718 425 1152 425 435 1131 435 810 0 1236-621 427-620 427-1801 0-1103-524-1761-523-658-1407-658-238 0-482 47-243 47-506 141zm1256 1978q425 0 673 290 249 291 249 798 0 503-249 795-248 292-673 292t-673-292-248-795q0-507 248-798 248-290 673-290z\"/></defs><use xlink:href=\"#DejaVuSans-34\"/><use transform=\"translate(63.623)\" xlink:href=\"#DejaVuSans-39\"/><use transform=\"translate(127.25)\" xlink:href=\"#DejaVuSans-38\"/></g><defs><clipPath id=\"cba0b24379a\"><rect x=\"50.837\" y=\"7.2\" width=\"395.53\" height=\"301.54\"/></clipPath></defs></svg>"
      ],
      "text/plain": [
       "<Figure size 640x480 with 1 Axes>"
      ]
     },
     "execution_count": 3,
     "metadata": {},
     "output_type": "execute_result"
    }
   ],
   "source": [
    "plot_histogram(result[0].data.meas.get_counts())"
   ]
  },
  {
   "cell_type": "markdown",
   "id": "330e0fcb-ce13-4ad2-855e-4e0b8665cf76",
   "metadata": {},
   "source": [
    "### Options when plotting a histogram\n",
    "\n",
    "Use the following options for `plot_histogram` to adjust the output graph.\n",
    "\n",
    "* `legend`: Provides a label for the executions. It takes a list of strings used to label each execution's results. This is mostly useful when plotting multiple execution results in the same histogram\n",
    "* `sort`: Adjusts the order of the bars in the histogram. It can be set to either ascending order with `asc` or descending order with `desc`\n",
    "* `number_to_keep`: Takes an integer for the number of terms to show. The rest are grouped together in a single bar called \"rest\"\n",
    "* `color`: Adjusts the color of the bars; takes a string or a list of strings for the colors to use for the bars for each execution\n",
    "* `bar_labels`: Adjusts whether labels are printed above the bars\n",
    "* `figsize`: Takes a tuple of the size in inches to make the output figure"
   ]
  },
  {
   "cell_type": "code",
   "execution_count": 4,
   "id": "7f456bcc-94a8-4522-9be2-77ea91045c1f",
   "metadata": {},
   "outputs": [
    {
     "data": {
      "image/svg+xml": [
       "<?xml version=\"1.0\" encoding=\"UTF-8\"?><!DOCTYPE svg  PUBLIC '-//W3C//DTD SVG 1.1//EN'  'http://www.w3.org/Graphics/SVG/1.1/DTD/svg11.dtd'><svg width=\"1073.9pt\" height=\"856.61pt\" version=\"1.1\" viewBox=\"0 0 1073.9 856.61\" xmlns=\"http://www.w3.org/2000/svg\" xmlns:xlink=\"http://www.w3.org/1999/xlink\"><defs><style type=\"text/css\">*{stroke-linejoin: round; stroke-linecap: butt}</style></defs><path d=\"m0 856.61h1073.9v-856.61h-1073.9z\" fill=\"#ffffff\"/><path d=\"m50.837 827.14h934.81v-819.94h-934.81z\" fill=\"#ffffff\"/><defs><path id=\"e5febe8ed97\" d=\"m0 0v3.5\" stroke=\"#000000\" stroke-width=\".8\"/></defs><use x=\"865.898487\" y=\"827.143165\" stroke=\"#000000\" stroke-width=\".8\" xlink:href=\"#e5febe8ed97\"/><g transform=\"translate(868.69 848.7) rotate(-70) scale(.1 -.1)\"><defs><path id=\"DejaVuSans-30\" transform=\"scale(.015625)\" d=\"m2034 4250q-487 0-733-480-245-479-245-1442 0-959 245-1439 246-480 733-480 491 0 736 480 246 480 246 1439 0 963-246 1442-245 480-736 480zm0 500q785 0 1199-621 414-620 414-1801 0-1178-414-1799-414-620-1199-620-784 0-1198 620-414 621-414 1799 0 1181 414 1801 414 621 1198 621z\"/></defs><use xlink:href=\"#DejaVuSans-30\"/><use transform=\"translate(63.623)\" xlink:href=\"#DejaVuSans-30\"/></g><use x=\"634.127412\" y=\"827.143165\" stroke=\"#000000\" stroke-width=\".8\" xlink:href=\"#e5febe8ed97\"/><g transform=\"translate(636.92 848.7) rotate(-70) scale(.1 -.1)\"><defs><path id=\"DejaVuSans-31\" transform=\"scale(.015625)\" d=\"m794 531h1031v3560l-1122-225v575l1116 225h631v-4135h1031v-531h-2687v531z\"/></defs><use xlink:href=\"#DejaVuSans-30\"/><use transform=\"translate(63.623)\" xlink:href=\"#DejaVuSans-31\"/></g><use x=\"402.356338\" y=\"827.143165\" stroke=\"#000000\" stroke-width=\".8\" xlink:href=\"#e5febe8ed97\"/><g transform=\"translate(405.14 848.7) rotate(-70) scale(.1 -.1)\"><use xlink:href=\"#DejaVuSans-31\"/><use transform=\"translate(63.623)\" xlink:href=\"#DejaVuSans-30\"/></g><use x=\"170.585263\" y=\"827.143165\" stroke=\"#000000\" stroke-width=\".8\" xlink:href=\"#e5febe8ed97\"/><g transform=\"translate(173.37 848.7) rotate(-70) scale(.1 -.1)\"><use xlink:href=\"#DejaVuSans-31\"/><use transform=\"translate(63.623)\" xlink:href=\"#DejaVuSans-31\"/></g><path d=\"m50.837 827.14h934.81\" clip-path=\"url(#6ffb139bae2)\" fill=\"none\" stroke=\"#b0b0b0\" stroke-dasharray=\"2.96,1.28\" stroke-width=\".8\"/><defs><path id=\"4ed74a9f9a8\" d=\"m0 0h-3.5\" stroke=\"#000000\" stroke-width=\".8\"/></defs><use x=\"50.836875\" y=\"827.143165\" stroke=\"#000000\" stroke-width=\".8\" xlink:href=\"#4ed74a9f9a8\"/><g transform=\"translate(37.474 830.94) scale(.1 -.1)\"><use xlink:href=\"#DejaVuSans-30\"/></g><path d=\"m50.837 602.62h934.81\" clip-path=\"url(#6ffb139bae2)\" fill=\"none\" stroke=\"#b0b0b0\" stroke-dasharray=\"2.96,1.28\" stroke-width=\".8\"/><use x=\"50.836875\" y=\"602.624226\" stroke=\"#000000\" stroke-width=\".8\" xlink:href=\"#4ed74a9f9a8\"/><g transform=\"translate(24.749 606.42) scale(.1 -.1)\"><defs><path id=\"DejaVuSans-35\" transform=\"scale(.015625)\" d=\"m691 4666h2478v-532h-1900v-1143q137 47 274 70 138 23 276 23 781 0 1237-428 457-428 457-1159 0-753-469-1171-469-417-1322-417-294 0-599 50-304 50-629 150v635q281-153 581-228t634-75q541 0 856 284 316 284 316 772 0 487-316 771-315 285-856 285-253 0-505-56-251-56-513-175v2344z\"/></defs><use xlink:href=\"#DejaVuSans-31\"/><use transform=\"translate(63.623)\" xlink:href=\"#DejaVuSans-35\"/><use transform=\"translate(127.25)\" xlink:href=\"#DejaVuSans-30\"/></g><path d=\"m50.837 378.11h934.81\" clip-path=\"url(#6ffb139bae2)\" fill=\"none\" stroke=\"#b0b0b0\" stroke-dasharray=\"2.96,1.28\" stroke-width=\".8\"/><use x=\"50.836875\" y=\"378.105287\" stroke=\"#000000\" stroke-width=\".8\" xlink:href=\"#4ed74a9f9a8\"/><g transform=\"translate(24.749 381.9) scale(.1 -.1)\"><defs><path id=\"DejaVuSans-33\" transform=\"scale(.015625)\" d=\"m2597 2516q453-97 707-404 255-306 255-756 0-690-475-1069-475-378-1350-378-293 0-604 58t-642 174v609q262-153 574-231 313-78 654-78 593 0 904 234t311 681q0 413-289 645-289 233-804 233h-544v519h569q465 0 712 186t247 536q0 359-255 551-254 193-729 193-260 0-557-57-297-56-653-174v562q360 100 674 150t592 50q719 0 1137-327 419-326 419-882 0-388-222-655t-631-370z\"/></defs><use xlink:href=\"#DejaVuSans-33\"/><use transform=\"translate(63.623)\" xlink:href=\"#DejaVuSans-30\"/><use transform=\"translate(127.25)\" xlink:href=\"#DejaVuSans-30\"/></g><path d=\"m50.837 153.59h934.81\" clip-path=\"url(#6ffb139bae2)\" fill=\"none\" stroke=\"#b0b0b0\" stroke-dasharray=\"2.96,1.28\" stroke-width=\".8\"/><use x=\"50.836875\" y=\"153.586348\" stroke=\"#000000\" stroke-width=\".8\" xlink:href=\"#4ed74a9f9a8\"/><g transform=\"translate(24.749 157.39) scale(.1 -.1)\"><defs><path id=\"DejaVuSans-34\" transform=\"scale(.015625)\" d=\"m2419 4116-1594-2491h1594v2491zm-166 550h794v-3041h666v-525h-666v-1100h-628v1100h-2106v609l1940 2957z\"/></defs><use xlink:href=\"#DejaVuSans-34\"/><use transform=\"translate(63.623)\" xlink:href=\"#DejaVuSans-35\"/><use transform=\"translate(127.25)\" xlink:href=\"#DejaVuSans-30\"/></g><g transform=\"translate(17.838 437.96) rotate(-90) scale(.14 -.14)\"><defs><path id=\"DejaVuSans-43\" transform=\"scale(.015625)\" d=\"m4122 4306v-665q-319 297-680 443-361 147-767 147-800 0-1225-489t-425-1414q0-922 425-1411t1225-489q406 0 767 147t680 444v-660q-331-225-702-338-370-112-782-112-1060 0-1670 648-609 649-609 1771 0 1125 609 1773 610 649 1670 649 418 0 788-111 371-111 696-333z\"/><path id=\"DejaVuSans-6f\" transform=\"scale(.015625)\" d=\"m1959 3097q-462 0-731-361t-269-989 267-989q268-361 733-361 460 0 728 362 269 363 269 988 0 622-269 986-268 364-728 364zm0 487q750 0 1178-488 429-487 429-1349 0-859-429-1349-428-489-1178-489-753 0-1180 489-426 490-426 1349 0 862 426 1349 427 488 1180 488z\"/><path id=\"DejaVuSans-75\" transform=\"scale(.015625)\" d=\"m544 1381v2119h575v-2097q0-497 193-746 194-248 582-248 465 0 735 297 271 297 271 810v1984h575v-3500h-575v538q-209-319-486-474-276-155-642-155-603 0-916 375-312 375-312 1097zm1447 2203z\"/><path id=\"DejaVuSans-6e\" transform=\"scale(.015625)\" d=\"m3513 2113v-2113h-575v2094q0 497-194 743-194 247-581 247-466 0-735-297-269-296-269-809v-1978h-578v3500h578v-544q207 316 486 472 280 156 646 156 603 0 912-373 310-373 310-1098z\"/><path id=\"DejaVuSans-74\" transform=\"scale(.015625)\" d=\"m1172 4494v-994h1184v-447h-1184v-1900q0-428 117-550t477-122h590v-481h-590q-666 0-919 248-253 249-253 905v1900h-422v447h422v994h578z\"/></defs><use xlink:href=\"#DejaVuSans-43\"/><use transform=\"translate(69.824)\" xlink:href=\"#DejaVuSans-6f\"/><use transform=\"translate(131.01)\" xlink:href=\"#DejaVuSans-75\"/><use transform=\"translate(194.38)\" xlink:href=\"#DejaVuSans-6e\"/><use transform=\"translate(257.76)\" xlink:href=\"#DejaVuSans-74\"/></g><path d=\"m943.16 827.14h-77.257v-704.99h77.257z\" clip-path=\"url(#6ffb139bae2)\" fill=\"#ffa500\"/><path d=\"m711.38 827.14h-77.257v-40.413h77.257z\" clip-path=\"url(#6ffb139bae2)\" fill=\"#ffa500\"/><path d=\"m479.61 827.14h-77.257v-41.91h77.257z\" clip-path=\"url(#6ffb139bae2)\" fill=\"#ffa500\"/><path d=\"m247.84 827.14h-77.257v-745.4h77.257z\" clip-path=\"url(#6ffb139bae2)\" fill=\"#ffa500\"/><path d=\"m865.9 827.14h-77.257v-699h77.257z\" clip-path=\"url(#6ffb139bae2)\"/><path d=\"m634.13 827.14h-77.257v-35.923h77.257z\" clip-path=\"url(#6ffb139bae2)\"/><path d=\"m402.36 827.14h-77.257v-43.407h77.257z\" clip-path=\"url(#6ffb139bae2)\"/><path d=\"m170.59 827.14h-77.257v-718.46h77.257z\" clip-path=\"url(#6ffb139bae2)\"/><path d=\"m50.837 827.14v-819.94\" fill=\"none\" stroke=\"#000000\" stroke-linecap=\"square\" stroke-width=\".8\"/><path d=\"m985.65 827.14v-819.94\" fill=\"none\" stroke=\"#000000\" stroke-linecap=\"square\" stroke-width=\".8\"/><path d=\"m50.837 827.14h934.81\" fill=\"none\" stroke=\"#000000\" stroke-linecap=\"square\" stroke-width=\".8\"/><path d=\"m50.837 7.2h934.81\" fill=\"none\" stroke=\"#000000\" stroke-linecap=\"square\" stroke-width=\".8\"/><path d=\"m996.99 39.556h67.666q2 0 2-2v-28.356q0-2-2-2h-67.666q-2 0-2 2v28.356q0 2 2 2z\" fill=\"#ffffff\" opacity=\".8\" stroke=\"#cccccc\"/><path d=\"m998.99 18.798h20v-7h-20z\" fill=\"#ffa500\"/><g transform=\"translate(1027 18.798) scale(.1 -.1)\"><defs><path id=\"DejaVuSans-66\" transform=\"scale(.015625)\" d=\"m2375 4863v-479h-550q-309 0-430-125-120-125-120-450v-309h947v-447h-947v-3053h-578v3053h-550v447h550v244q0 584 272 851 272 268 862 268h544z\"/><path id=\"DejaVuSans-69\" transform=\"scale(.015625)\" d=\"m603 3500h575v-3500h-575v3500zm0 1363h575v-729h-575v729z\"/><path id=\"DejaVuSans-72\" transform=\"scale(.015625)\" d=\"m2631 2963q-97 56-211 82-114 27-251 27-488 0-749-317t-261-911v-1844h-578v3500h578v-544q182 319 472 473 291 155 707 155 59 0 131-8 72-7 159-23l3-590z\"/><path id=\"DejaVuSans-73\" transform=\"scale(.015625)\" d=\"m2834 3397v-544q-243 125-506 187-262 63-544 63-428 0-642-131t-214-394q0-200 153-314t616-217l197-44q612-131 870-370t258-667q0-488-386-773-386-284-1061-284-281 0-586 55t-642 164v594q319-166 628-249 309-82 613-82 406 0 624 139 219 139 219 392 0 234-158 359-157 125-692 241l-200 47q-534 112-772 345-237 233-237 639 0 494 350 762 350 269 994 269 318 0 599-47 282-46 519-140z\"/></defs><use xlink:href=\"#DejaVuSans-66\"/><use transform=\"translate(35.205)\" xlink:href=\"#DejaVuSans-69\"/><use transform=\"translate(62.988)\" xlink:href=\"#DejaVuSans-72\"/><use transform=\"translate(104.1)\" xlink:href=\"#DejaVuSans-73\"/><use transform=\"translate(156.2)\" xlink:href=\"#DejaVuSans-74\"/></g><path d=\"m998.99 33.477h20v-7h-20z\"/><g transform=\"translate(1027 33.477) scale(.1 -.1)\"><defs><path id=\"DejaVuSans-65\" transform=\"scale(.015625)\" d=\"m3597 1894v-281h-2644q38-594 358-905t892-311q331 0 642 81t618 244v-544q-310-131-635-200t-659-69q-838 0-1327 487-489 488-489 1320 0 859 464 1363 464 505 1252 505 706 0 1117-455 411-454 411-1235zm-575 169q-6 471-264 752-258 282-683 282-481 0-770-272t-333-766l2050 4z\"/><path id=\"DejaVuSans-63\" transform=\"scale(.015625)\" d=\"m3122 3366v-538q-244 135-489 202t-495 67q-560 0-870-355-309-354-309-995t309-996q310-354 870-354 250 0 495 67t489 202v-532q-241-112-499-168-257-57-548-57-791 0-1257 497-465 497-465 1341 0 856 470 1346 471 491 1290 491 265 0 518-55 253-54 491-163z\"/><path id=\"DejaVuSans-64\" transform=\"scale(.015625)\" d=\"m2906 2969v1894h575v-4863h-575v525q-181-312-458-464-276-152-664-152-634 0-1033 506-398 507-398 1332t398 1331q399 506 1033 506 388 0 664-152 277-151 458-463zm-1959-1222q0-634 261-995t717-361 718 361q263 361 263 995t-263 995q-262 361-718 361t-717-361-261-995z\"/></defs><use xlink:href=\"#DejaVuSans-73\"/><use transform=\"translate(52.1)\" xlink:href=\"#DejaVuSans-65\"/><use transform=\"translate(113.62)\" xlink:href=\"#DejaVuSans-63\"/><use transform=\"translate(168.6)\" xlink:href=\"#DejaVuSans-6f\"/><use transform=\"translate(229.79)\" xlink:href=\"#DejaVuSans-6e\"/><use transform=\"translate(293.16)\" xlink:href=\"#DejaVuSans-64\"/></g><defs><clipPath id=\"6ffb139bae2\"><rect x=\"50.837\" y=\"7.2\" width=\"934.81\" height=\"819.94\"/></clipPath></defs></svg>"
      ],
      "text/plain": [
       "<Figure size 1500x1200 with 1 Axes>"
      ]
     },
     "execution_count": 4,
     "metadata": {},
     "output_type": "execute_result"
    }
   ],
   "source": [
    "# Execute two-qubit Bell state again\n",
    "sampler.options.default_shots = 1000\n",
    "\n",
    "job = sampler.run([isa_circuit])\n",
    "second_result = job.result()\n",
    "\n",
    "# Plot results with custom options\n",
    "plot_histogram(\n",
    "    [\n",
    "        result[0].data.meas.get_counts(),\n",
    "        second_result[0].data.meas.get_counts(),\n",
    "    ],\n",
    "    legend=[\"first\", \"second\"],\n",
    "    sort=\"desc\",\n",
    "    figsize=(15, 12),\n",
    "    color=[\"orange\", \"black\"],\n",
    "    bar_labels=False,\n",
    ")"
   ]
  },
  {
   "cell_type": "markdown",
   "id": "2a3d185d-96ce-4a91-890f-b8e3d7f31eb0",
   "metadata": {},
   "source": [
    "## Plotting estimator results\n",
    "\n",
    "Qiskit does not have a built-in function for plotting Estimator results, but you can use Matplotlib's [`bar` plot](https://matplotlib.org/stable/api/_as_gen/matplotlib.pyplot.bar.html) for a quick visualization.\n",
    "\n",
    "To demonstrate, the following cell estimates the expectation values of seven different observables on a quantum state."
   ]
  },
  {
   "cell_type": "code",
   "execution_count": 5,
   "id": "35e07a46-8423-44ff-abad-7c10c72291a5",
   "metadata": {},
   "outputs": [
    {
     "name": "stdout",
     "output_type": "stream",
     "text": [
      "PubResult(data=DataBin(evs=np.ndarray(<shape=(7, 1), dtype=float64>), stds=np.ndarray(<shape=(7, 1), dtype=float64>), shape=(7, 1)), metadata={'target_precision': 0.015625, 'shots': 4096, 'circuit_metadata': {}})\n"
     ]
    },
    {
     "data": {
      "text/plain": [
       "<BarContainer object of 7 artists>"
      ]
     },
     "execution_count": 5,
     "metadata": {},
     "output_type": "execute_result"
    },
    {
     "data": {
      "image/svg+xml": [
       "<?xml version=\"1.0\" encoding=\"UTF-8\"?><!DOCTYPE svg  PUBLIC '-//W3C//DTD SVG 1.1//EN'  'http://www.w3.org/Graphics/SVG/1.1/DTD/svg11.dtd'><svg width=\"402.8pt\" height=\"297.19pt\" version=\"1.1\" viewBox=\"0 0 402.8 297.19\" xmlns=\"http://www.w3.org/2000/svg\" xmlns:xlink=\"http://www.w3.org/1999/xlink\"><defs><style type=\"text/css\">*{stroke-linejoin: round; stroke-linecap: butt}</style></defs><path d=\"m0 297.19h402.8v-297.19h-402.8z\" fill=\"#ffffff\"/><path d=\"m38.483 273.31h357.12v-266.11h-357.12z\" fill=\"#ffffff\"/><path d=\"m54.716 147.51h38.195v-79.235h-38.195z\" clip-path=\"url(#d23bbb623f3)\" fill=\"#1f77b4\"/><path d=\"m102.46 147.51h38.195v-2.2478h-38.195z\" clip-path=\"url(#d23bbb623f3)\" fill=\"#1f77b4\"/><path d=\"m150.2 147.51h38.195v-81.015h-38.195z\" clip-path=\"url(#d23bbb623f3)\" fill=\"#1f77b4\"/><path d=\"m197.95 147.51h38.195v-3.9337h-38.195z\" clip-path=\"url(#d23bbb623f3)\" fill=\"#1f77b4\"/><path d=\"m245.69 147.51h38.195v113.7h-38.195z\" clip-path=\"url(#d23bbb623f3)\" fill=\"#1f77b4\"/><path d=\"m293.43 147.51h38.195v2.9034h-38.195z\" clip-path=\"url(#d23bbb623f3)\" fill=\"#1f77b4\"/><path d=\"m341.18 147.51h38.195v-128.22h-38.195z\" clip-path=\"url(#d23bbb623f3)\" fill=\"#1f77b4\"/><defs><path id=\"53318a56047\" d=\"m0 0v3.5\" stroke=\"#000000\" stroke-width=\".8\"/></defs><use x=\"73.812866\" y=\"273.312\" stroke=\"#000000\" stroke-width=\".8\" xlink:href=\"#53318a56047\"/><g transform=\"translate(66.963 287.91) scale(.1 -.1)\"><defs><path id=\"DejaVuSans-5a\" transform=\"scale(.015625)\" d=\"m359 4666h3666v-482l-2950-3653h3022v-531h-3809v481l2950 3653h-2879v532z\"/></defs><use xlink:href=\"#DejaVuSans-5a\"/><use transform=\"translate(68.506)\" xlink:href=\"#DejaVuSans-5a\"/></g><use x=\"121.556181\" y=\"273.312\" stroke=\"#000000\" stroke-width=\".8\" xlink:href=\"#53318a56047\"/><g transform=\"translate(114.71 287.91) scale(.1 -.1)\"><defs><path id=\"DejaVuSans-58\" transform=\"scale(.015625)\" d=\"m403 4666h678l1160-1735 1165 1735h678l-1500-2241 1600-2425h-678l-1312 1984-1322-1984h-681l1665 2491-1453 2175z\"/></defs><use xlink:href=\"#DejaVuSans-58\"/><use transform=\"translate(68.506)\" xlink:href=\"#DejaVuSans-58\"/></g><use x=\"169.299497\" y=\"273.312\" stroke=\"#000000\" stroke-width=\".8\" xlink:href=\"#53318a56047\"/><g transform=\"translate(162.82 287.91) scale(.1 -.1)\"><defs><path id=\"DejaVuSans-59\" transform=\"scale(.015625)\" d=\"m-13 4666h679l1293-1919 1285 1919h678l-1650-2444v-2222h-634v2222l-1651 2444z\"/></defs><use xlink:href=\"#DejaVuSans-59\"/><use transform=\"translate(61.084)\" xlink:href=\"#DejaVuSans-5a\"/></g><use x=\"217.042813\" y=\"273.312\" stroke=\"#000000\" stroke-width=\".8\" xlink:href=\"#53318a56047\"/><g transform=\"translate(210.56 287.91) scale(.1 -.1)\"><use xlink:href=\"#DejaVuSans-5a\"/><use transform=\"translate(68.506)\" xlink:href=\"#DejaVuSans-59\"/></g><use x=\"264.786128\" y=\"273.312\" stroke=\"#000000\" stroke-width=\".8\" xlink:href=\"#53318a56047\"/><g transform=\"translate(258.31 287.91) scale(.1 -.1)\"><use xlink:href=\"#DejaVuSans-58\"/><use transform=\"translate(68.506)\" xlink:href=\"#DejaVuSans-59\"/></g><use x=\"312.529444\" y=\"273.312\" stroke=\"#000000\" stroke-width=\".8\" xlink:href=\"#53318a56047\"/><g transform=\"translate(305.68 287.91) scale(.1 -.1)\"><use xlink:href=\"#DejaVuSans-58\"/><use transform=\"translate(68.506)\" xlink:href=\"#DejaVuSans-5a\"/></g><use x=\"360.272759\" y=\"273.312\" stroke=\"#000000\" stroke-width=\".8\" xlink:href=\"#53318a56047\"/><g transform=\"translate(353.42 287.91) scale(.1 -.1)\"><use xlink:href=\"#DejaVuSans-5a\"/><use transform=\"translate(68.506)\" xlink:href=\"#DejaVuSans-58\"/></g><defs><path id=\"f96407a53ed\" d=\"m0 0h-3.5\" stroke=\"#000000\" stroke-width=\".8\"/></defs><use x=\"38.482813\" y=\"262.602146\" stroke=\"#000000\" stroke-width=\".8\" xlink:href=\"#f96407a53ed\"/><g transform=\"translate(7.2 266.4) scale(.1 -.1)\"><defs><path id=\"DejaVuSans-2212\" transform=\"scale(.015625)\" d=\"m678 2272h4006v-531h-4006v531z\"/><path id=\"DejaVuSans-30\" transform=\"scale(.015625)\" d=\"m2034 4250q-487 0-733-480-245-479-245-1442 0-959 245-1439 246-480 733-480 491 0 736 480 246 480 246 1439 0 963-246 1442-245 480-736 480zm0 500q785 0 1199-621 414-620 414-1801 0-1178-414-1799-414-620-1199-620-784 0-1198 620-414 621-414 1799 0 1181 414 1801 414 621 1198 621z\"/><path id=\"DejaVuSans-2e\" transform=\"scale(.015625)\" d=\"m684 794h660v-794h-660v794z\"/><path id=\"DejaVuSans-36\" transform=\"scale(.015625)\" d=\"m2113 2584q-425 0-674-291-248-290-248-796 0-503 248-796 249-292 674-292t673 292q248 293 248 796 0 506-248 796-248 291-673 291zm1253 1979v-575q-238 112-480 171-242 60-480 60-625 0-955-422-329-422-376-1275 184 272 462 417 279 145 613 145 703 0 1111-427 408-426 408-1160 0-719-425-1154-425-434-1131-434-810 0-1238 620-428 621-428 1799 0 1106 525 1764t1409 658q238 0 480-47t505-140z\"/></defs><use xlink:href=\"#DejaVuSans-2212\"/><use transform=\"translate(83.789)\" xlink:href=\"#DejaVuSans-30\"/><use transform=\"translate(147.41)\" xlink:href=\"#DejaVuSans-2e\"/><use transform=\"translate(179.2)\" xlink:href=\"#DejaVuSans-36\"/></g><use x=\"38.482813\" y=\"224.23961\" stroke=\"#000000\" stroke-width=\".8\" xlink:href=\"#f96407a53ed\"/><g transform=\"translate(7.2 228.04) scale(.1 -.1)\"><defs><path id=\"DejaVuSans-34\" transform=\"scale(.015625)\" d=\"m2419 4116-1594-2491h1594v2491zm-166 550h794v-3041h666v-525h-666v-1100h-628v1100h-2106v609l1940 2957z\"/></defs><use xlink:href=\"#DejaVuSans-2212\"/><use transform=\"translate(83.789)\" xlink:href=\"#DejaVuSans-30\"/><use transform=\"translate(147.41)\" xlink:href=\"#DejaVuSans-2e\"/><use transform=\"translate(179.2)\" xlink:href=\"#DejaVuSans-34\"/></g><use x=\"38.482813\" y=\"185.877073\" stroke=\"#000000\" stroke-width=\".8\" xlink:href=\"#f96407a53ed\"/><g transform=\"translate(7.2 189.68) scale(.1 -.1)\"><defs><path id=\"DejaVuSans-32\" transform=\"scale(.015625)\" d=\"m1228 531h2203v-531h-2962v531q359 372 979 998 621 627 780 809 303 340 423 576 121 236 121 464 0 372-261 606-261 235-680 235-297 0-627-103-329-103-704-313v638q381 153 712 231 332 78 607 78 725 0 1156-363 431-362 431-968 0-288-108-546-107-257-392-607-78-91-497-524-418-433-1181-1211z\"/></defs><use xlink:href=\"#DejaVuSans-2212\"/><use transform=\"translate(83.789)\" xlink:href=\"#DejaVuSans-30\"/><use transform=\"translate(147.41)\" xlink:href=\"#DejaVuSans-2e\"/><use transform=\"translate(179.2)\" xlink:href=\"#DejaVuSans-32\"/></g><use x=\"38.482813\" y=\"147.514537\" stroke=\"#000000\" stroke-width=\".8\" xlink:href=\"#f96407a53ed\"/><g transform=\"translate(15.58 151.31) scale(.1 -.1)\"><use xlink:href=\"#DejaVuSans-30\"/><use transform=\"translate(63.623)\" xlink:href=\"#DejaVuSans-2e\"/><use transform=\"translate(95.41)\" xlink:href=\"#DejaVuSans-30\"/></g><use x=\"38.482813\" y=\"109.152\" stroke=\"#000000\" stroke-width=\".8\" xlink:href=\"#f96407a53ed\"/><g transform=\"translate(15.58 112.95) scale(.1 -.1)\"><use xlink:href=\"#DejaVuSans-30\"/><use transform=\"translate(63.623)\" xlink:href=\"#DejaVuSans-2e\"/><use transform=\"translate(95.41)\" xlink:href=\"#DejaVuSans-32\"/></g><use x=\"38.482813\" y=\"70.789463\" stroke=\"#000000\" stroke-width=\".8\" xlink:href=\"#f96407a53ed\"/><g transform=\"translate(15.58 74.589) scale(.1 -.1)\"><use xlink:href=\"#DejaVuSans-30\"/><use transform=\"translate(63.623)\" xlink:href=\"#DejaVuSans-2e\"/><use transform=\"translate(95.41)\" xlink:href=\"#DejaVuSans-34\"/></g><use x=\"38.482813\" y=\"32.426927\" stroke=\"#000000\" stroke-width=\".8\" xlink:href=\"#f96407a53ed\"/><g transform=\"translate(15.58 36.226) scale(.1 -.1)\"><use xlink:href=\"#DejaVuSans-30\"/><use transform=\"translate(63.623)\" xlink:href=\"#DejaVuSans-2e\"/><use transform=\"translate(95.41)\" xlink:href=\"#DejaVuSans-36\"/></g><path d=\"m38.483 273.31v-266.11\" fill=\"none\" stroke=\"#000000\" stroke-linecap=\"square\" stroke-width=\".8\"/><path d=\"m395.6 273.31v-266.11\" fill=\"none\" stroke=\"#000000\" stroke-linecap=\"square\" stroke-width=\".8\"/><path d=\"m38.483 273.31h357.12\" fill=\"none\" stroke=\"#000000\" stroke-linecap=\"square\" stroke-width=\".8\"/><path d=\"m38.483 7.2h357.12\" fill=\"none\" stroke=\"#000000\" stroke-linecap=\"square\" stroke-width=\".8\"/><defs><clipPath id=\"d23bbb623f3\"><rect x=\"38.483\" y=\"7.2\" width=\"357.12\" height=\"266.11\"/></clipPath></defs></svg>"
      ],
      "text/plain": [
       "<Figure size 640x480 with 1 Axes>"
      ]
     },
     "metadata": {},
     "output_type": "display_data"
    }
   ],
   "source": [
    "import numpy as np\n",
    "from qiskit import QuantumCircuit\n",
    "from qiskit.quantum_info import SparsePauliOp\n",
    "from qiskit_ibm_runtime import EstimatorV2 as Estimator\n",
    "from qiskit.transpiler import generate_preset_pass_manager\n",
    "from matplotlib import pyplot as plt\n",
    "\n",
    "# Simple estimation experiment to create results\n",
    "qc = QuantumCircuit(2)\n",
    "qc.h(0)\n",
    "qc.crx(1.5, 0, 1)\n",
    "\n",
    "observables_labels = [\"ZZ\", \"XX\", \"YZ\", \"ZY\", \"XY\", \"XZ\", \"ZX\"]\n",
    "observables = [SparsePauliOp(label) for label in observables_labels]\n",
    "\n",
    "service = QiskitRuntimeService()\n",
    "\n",
    "pm = generate_preset_pass_manager(backend=backend, optimization_level=1)\n",
    "isa_circuit = pm.run(qc)\n",
    "isa_observables = [\n",
    "    operator.apply_layout(isa_circuit.layout) for operator in observables\n",
    "]\n",
    "\n",
    "# Reshape observable array for broadcasting\n",
    "reshaped_ops = np.fromiter(isa_observables, dtype=object)\n",
    "reshaped_ops = reshaped_ops.reshape((7, 1))\n",
    "\n",
    "estimator = Estimator(backend)\n",
    "job = estimator.run([(isa_circuit, reshaped_ops)])\n",
    "result = job.result()[0]\n",
    "exp_val = job.result()[0].data.evs\n",
    "print(result)\n",
    "\n",
    "# Since the result array is structured as a 2D array where each element is a\n",
    "# list containing a single value, you need to flatten the array.\n",
    "\n",
    "# Plot using Matplotlib\n",
    "plt.bar(observables_labels, exp_val.flatten())"
   ]
  },
  {
   "cell_type": "markdown",
   "id": "d0e52ff0-96d5-45fb-b5df-38f43fd19ecc",
   "metadata": {},
   "source": [
    "The following cell uses the estimated [standard error](https://en.wikipedia.org/wiki/Standard_error) of each result and adds them as error bars. See the [`bar` plot documentation](https://matplotlib.org/stable/api/_as_gen/matplotlib.pyplot.bar.html) for a full description of the plot."
   ]
  },
  {
   "cell_type": "code",
   "execution_count": 6,
   "id": "6f122049-0b5a-49e8-bde4-d99d91f4b77c",
   "metadata": {},
   "outputs": [
    {
     "data": {
      "text/plain": [
       "Text(0.5, 1.0, 'Expectation values (with standard errors)')"
      ]
     },
     "execution_count": 6,
     "metadata": {},
     "output_type": "execute_result"
    },
    {
     "data": {
      "image/svg+xml": [
       "<?xml version=\"1.0\" encoding=\"UTF-8\"?><!DOCTYPE svg  PUBLIC '-//W3C//DTD SVG 1.1//EN'  'http://www.w3.org/Graphics/SVG/1.1/DTD/svg11.dtd'><svg width=\"402.8pt\" height=\"312.31pt\" version=\"1.1\" viewBox=\"0 0 402.8 312.31\" xmlns=\"http://www.w3.org/2000/svg\" xmlns:xlink=\"http://www.w3.org/1999/xlink\"><defs><style type=\"text/css\">*{stroke-linejoin: round; stroke-linecap: butt}</style></defs><path d=\"m0 312.31h402.8v-312.31h-402.8z\" fill=\"#ffffff\"/><path d=\"m38.483 288.43h357.12v-266.11h-357.12z\" fill=\"#ffffff\"/><path d=\"m54.716 162.41h38.195v-77.743h-38.195z\" clip-path=\"url(#23cfab6fee7)\" fill=\"#1f77b4\"/><path d=\"m102.46 162.41h38.195v-2.2055h-38.195z\" clip-path=\"url(#23cfab6fee7)\" fill=\"#1f77b4\"/><path d=\"m150.2 162.41h38.195v-79.489h-38.195z\" clip-path=\"url(#23cfab6fee7)\" fill=\"#1f77b4\"/><path d=\"m197.95 162.41h38.195v-3.8596h-38.195z\" clip-path=\"url(#23cfab6fee7)\" fill=\"#1f77b4\"/><path d=\"m245.69 162.41h38.195v111.56h-38.195z\" clip-path=\"url(#23cfab6fee7)\" fill=\"#1f77b4\"/><path d=\"m293.43 162.41h38.195v2.8487h-38.195z\" clip-path=\"url(#23cfab6fee7)\" fill=\"#1f77b4\"/><path d=\"m341.18 162.41h38.195v-125.8h-38.195z\" clip-path=\"url(#23cfab6fee7)\" fill=\"#1f77b4\"/><defs><path id=\"73de026717d\" d=\"m0 0v3.5\" stroke=\"#000000\" stroke-width=\".8\"/></defs><use x=\"73.812866\" y=\"288.430125\" stroke=\"#000000\" stroke-width=\".8\" xlink:href=\"#73de026717d\"/><g transform=\"translate(66.963 303.03) scale(.1 -.1)\"><defs><path id=\"DejaVuSans-5a\" transform=\"scale(.015625)\" d=\"m359 4666h3666v-482l-2950-3653h3022v-531h-3809v481l2950 3653h-2879v532z\"/></defs><use xlink:href=\"#DejaVuSans-5a\"/><use transform=\"translate(68.506)\" xlink:href=\"#DejaVuSans-5a\"/></g><use x=\"121.556181\" y=\"288.430125\" stroke=\"#000000\" stroke-width=\".8\" xlink:href=\"#73de026717d\"/><g transform=\"translate(114.71 303.03) scale(.1 -.1)\"><defs><path id=\"DejaVuSans-58\" transform=\"scale(.015625)\" d=\"m403 4666h678l1160-1735 1165 1735h678l-1500-2241 1600-2425h-678l-1312 1984-1322-1984h-681l1665 2491-1453 2175z\"/></defs><use xlink:href=\"#DejaVuSans-58\"/><use transform=\"translate(68.506)\" xlink:href=\"#DejaVuSans-58\"/></g><use x=\"169.299497\" y=\"288.430125\" stroke=\"#000000\" stroke-width=\".8\" xlink:href=\"#73de026717d\"/><g transform=\"translate(162.82 303.03) scale(.1 -.1)\"><defs><path id=\"DejaVuSans-59\" transform=\"scale(.015625)\" d=\"m-13 4666h679l1293-1919 1285 1919h678l-1650-2444v-2222h-634v2222l-1651 2444z\"/></defs><use xlink:href=\"#DejaVuSans-59\"/><use transform=\"translate(61.084)\" xlink:href=\"#DejaVuSans-5a\"/></g><use x=\"217.042813\" y=\"288.430125\" stroke=\"#000000\" stroke-width=\".8\" xlink:href=\"#73de026717d\"/><g transform=\"translate(210.56 303.03) scale(.1 -.1)\"><use xlink:href=\"#DejaVuSans-5a\"/><use transform=\"translate(68.506)\" xlink:href=\"#DejaVuSans-59\"/></g><use x=\"264.786128\" y=\"288.430125\" stroke=\"#000000\" stroke-width=\".8\" xlink:href=\"#73de026717d\"/><g transform=\"translate(258.31 303.03) scale(.1 -.1)\"><use xlink:href=\"#DejaVuSans-58\"/><use transform=\"translate(68.506)\" xlink:href=\"#DejaVuSans-59\"/></g><use x=\"312.529444\" y=\"288.430125\" stroke=\"#000000\" stroke-width=\".8\" xlink:href=\"#73de026717d\"/><g transform=\"translate(305.68 303.03) scale(.1 -.1)\"><use xlink:href=\"#DejaVuSans-58\"/><use transform=\"translate(68.506)\" xlink:href=\"#DejaVuSans-5a\"/></g><use x=\"360.272759\" y=\"288.430125\" stroke=\"#000000\" stroke-width=\".8\" xlink:href=\"#73de026717d\"/><g transform=\"translate(353.42 303.03) scale(.1 -.1)\"><use xlink:href=\"#DejaVuSans-5a\"/><use transform=\"translate(68.506)\" xlink:href=\"#DejaVuSans-58\"/></g><defs><path id=\"a0c317b3c1e\" d=\"m0 0h-3.5\" stroke=\"#000000\" stroke-width=\".8\"/></defs><use x=\"38.482813\" y=\"275.325871\" stroke=\"#000000\" stroke-width=\".8\" xlink:href=\"#a0c317b3c1e\"/><g transform=\"translate(7.2 279.13) scale(.1 -.1)\"><defs><path id=\"DejaVuSans-2212\" transform=\"scale(.015625)\" d=\"m678 2272h4006v-531h-4006v531z\"/><path id=\"DejaVuSans-30\" transform=\"scale(.015625)\" d=\"m2034 4250q-487 0-733-480-245-479-245-1442 0-959 245-1439 246-480 733-480 491 0 736 480 246 480 246 1439 0 963-246 1442-245 480-736 480zm0 500q785 0 1199-621 414-620 414-1801 0-1178-414-1799-414-620-1199-620-784 0-1198 620-414 621-414 1799 0 1181 414 1801 414 621 1198 621z\"/><path id=\"DejaVuSans-2e\" transform=\"scale(.015625)\" d=\"m684 794h660v-794h-660v794z\"/><path id=\"DejaVuSans-36\" transform=\"scale(.015625)\" d=\"m2113 2584q-425 0-674-291-248-290-248-796 0-503 248-796 249-292 674-292t673 292q248 293 248 796 0 506-248 796-248 291-673 291zm1253 1979v-575q-238 112-480 171-242 60-480 60-625 0-955-422-329-422-376-1275 184 272 462 417 279 145 613 145 703 0 1111-427 408-426 408-1160 0-719-425-1154-425-434-1131-434-810 0-1238 620-428 621-428 1799 0 1106 525 1764t1409 658q238 0 480-47t505-140z\"/></defs><use xlink:href=\"#DejaVuSans-2212\"/><use transform=\"translate(83.789)\" xlink:href=\"#DejaVuSans-30\"/><use transform=\"translate(147.41)\" xlink:href=\"#DejaVuSans-2e\"/><use transform=\"translate(179.2)\" xlink:href=\"#DejaVuSans-36\"/></g><use x=\"38.482813\" y=\"237.685708\" stroke=\"#000000\" stroke-width=\".8\" xlink:href=\"#a0c317b3c1e\"/><g transform=\"translate(7.2 241.48) scale(.1 -.1)\"><defs><path id=\"DejaVuSans-34\" transform=\"scale(.015625)\" d=\"m2419 4116-1594-2491h1594v2491zm-166 550h794v-3041h666v-525h-666v-1100h-628v1100h-2106v609l1940 2957z\"/></defs><use xlink:href=\"#DejaVuSans-2212\"/><use transform=\"translate(83.789)\" xlink:href=\"#DejaVuSans-30\"/><use transform=\"translate(147.41)\" xlink:href=\"#DejaVuSans-2e\"/><use transform=\"translate(179.2)\" xlink:href=\"#DejaVuSans-34\"/></g><use x=\"38.482813\" y=\"200.045546\" stroke=\"#000000\" stroke-width=\".8\" xlink:href=\"#a0c317b3c1e\"/><g transform=\"translate(7.2 203.84) scale(.1 -.1)\"><defs><path id=\"DejaVuSans-32\" transform=\"scale(.015625)\" d=\"m1228 531h2203v-531h-2962v531q359 372 979 998 621 627 780 809 303 340 423 576 121 236 121 464 0 372-261 606-261 235-680 235-297 0-627-103-329-103-704-313v638q381 153 712 231 332 78 607 78 725 0 1156-363 431-362 431-968 0-288-108-546-107-257-392-607-78-91-497-524-418-433-1181-1211z\"/></defs><use xlink:href=\"#DejaVuSans-2212\"/><use transform=\"translate(83.789)\" xlink:href=\"#DejaVuSans-30\"/><use transform=\"translate(147.41)\" xlink:href=\"#DejaVuSans-2e\"/><use transform=\"translate(179.2)\" xlink:href=\"#DejaVuSans-32\"/></g><use x=\"38.482813\" y=\"162.405383\" stroke=\"#000000\" stroke-width=\".8\" xlink:href=\"#a0c317b3c1e\"/><g transform=\"translate(15.58 166.2) scale(.1 -.1)\"><use xlink:href=\"#DejaVuSans-30\"/><use transform=\"translate(63.623)\" xlink:href=\"#DejaVuSans-2e\"/><use transform=\"translate(95.41)\" xlink:href=\"#DejaVuSans-30\"/></g><use x=\"38.482813\" y=\"124.765221\" stroke=\"#000000\" stroke-width=\".8\" xlink:href=\"#a0c317b3c1e\"/><g transform=\"translate(15.58 128.56) scale(.1 -.1)\"><use xlink:href=\"#DejaVuSans-30\"/><use transform=\"translate(63.623)\" xlink:href=\"#DejaVuSans-2e\"/><use transform=\"translate(95.41)\" xlink:href=\"#DejaVuSans-32\"/></g><use x=\"38.482813\" y=\"87.125058\" stroke=\"#000000\" stroke-width=\".8\" xlink:href=\"#a0c317b3c1e\"/><g transform=\"translate(15.58 90.924) scale(.1 -.1)\"><use xlink:href=\"#DejaVuSans-30\"/><use transform=\"translate(63.623)\" xlink:href=\"#DejaVuSans-2e\"/><use transform=\"translate(95.41)\" xlink:href=\"#DejaVuSans-34\"/></g><use x=\"38.482813\" y=\"49.484895\" stroke=\"#000000\" stroke-width=\".8\" xlink:href=\"#a0c317b3c1e\"/><g transform=\"translate(15.58 53.284) scale(.1 -.1)\"><use xlink:href=\"#DejaVuSans-30\"/><use transform=\"translate(63.623)\" xlink:href=\"#DejaVuSans-2e\"/><use transform=\"translate(95.41)\" xlink:href=\"#DejaVuSans-36\"/></g><g fill=\"none\" stroke=\"#000000\" stroke-width=\"1.5\"><path d=\"m73.813 87.34v-5.356\" clip-path=\"url(#23cfab6fee7)\"/><path d=\"m121.56 163.14v-5.8809\" clip-path=\"url(#23cfab6fee7)\"/><path d=\"m169.3 85.582v-5.3309\" clip-path=\"url(#23cfab6fee7)\"/><path d=\"m217.04 161.49v-5.88\" clip-path=\"url(#23cfab6fee7)\"/><path d=\"m264.79 276.33v-4.7366\" clip-path=\"url(#23cfab6fee7)\"/><path d=\"m312.53 168.19v-5.8806\" clip-path=\"url(#23cfab6fee7)\"/><path d=\"m360.27 38.788v-4.3742\" clip-path=\"url(#23cfab6fee7)\"/></g><defs><path id=\"87c7c90ed99\" d=\"m2 0h-4\" stroke=\"#000000\"/></defs><g clip-path=\"url(#23cfab6fee7)\" stroke=\"#000000\"><use x=\"73.812866\" y=\"87.340289\" xlink:href=\"#87c7c90ed99\"/><use x=\"121.556181\" y=\"163.140341\" xlink:href=\"#87c7c90ed99\"/><use x=\"169.299497\" y=\"85.581743\" xlink:href=\"#87c7c90ed99\"/><use x=\"217.042813\" y=\"161.485815\" xlink:href=\"#87c7c90ed99\"/><use x=\"264.786128\" y=\"276.334125\" xlink:href=\"#87c7c90ed99\"/><use x=\"312.529444\" y=\"168.194427\" xlink:href=\"#87c7c90ed99\"/><use x=\"360.272759\" y=\"38.788328\" xlink:href=\"#87c7c90ed99\"/></g><g clip-path=\"url(#23cfab6fee7)\" stroke=\"#000000\"><use x=\"73.812866\" y=\"81.984259\" xlink:href=\"#87c7c90ed99\"/><use x=\"121.556181\" y=\"157.259469\" xlink:href=\"#87c7c90ed99\"/><use x=\"169.299497\" y=\"80.250798\" xlink:href=\"#87c7c90ed99\"/><use x=\"217.042813\" y=\"155.605777\" xlink:href=\"#87c7c90ed99\"/><use x=\"264.786128\" y=\"271.597527\" xlink:href=\"#87c7c90ed99\"/><use x=\"312.529444\" y=\"162.313825\" xlink:href=\"#87c7c90ed99\"/><use x=\"360.272759\" y=\"34.414125\" xlink:href=\"#87c7c90ed99\"/></g><path d=\"m38.483 288.43v-266.11\" fill=\"none\" stroke=\"#000000\" stroke-linecap=\"square\" stroke-width=\".8\"/><path d=\"m395.6 288.43v-266.11\" fill=\"none\" stroke=\"#000000\" stroke-linecap=\"square\" stroke-width=\".8\"/><path d=\"m38.483 288.43h357.12\" fill=\"none\" stroke=\"#000000\" stroke-linecap=\"square\" stroke-width=\".8\"/><path d=\"m38.483 22.318h357.12\" fill=\"none\" stroke=\"#000000\" stroke-linecap=\"square\" stroke-width=\".8\"/><g transform=\"translate(92.563 16.318) scale(.12 -.12)\"><defs><path id=\"DejaVuSans-45\" transform=\"scale(.015625)\" d=\"m628 4666h2950v-532h-2319v-1381h2222v-531h-2222v-1691h2375v-531h-3006v4666z\"/><path id=\"DejaVuSans-78\" transform=\"scale(.015625)\" d=\"m3513 3500-1266-1703 1331-1797h-678l-1019 1375-1018-1375h-679l1360 1831-1244 1669h678l928-1247 928 1247h679z\"/><path id=\"DejaVuSans-70\" transform=\"scale(.015625)\" d=\"m1159 525v-1856h-578v4831h578v-531q182 312 458 463 277 152 661 152 638 0 1036-506 399-506 399-1331t-399-1332q-398-506-1036-506-384 0-661 152-276 152-458 464zm1957 1222q0 634-261 995t-717 361q-457 0-718-361t-261-995 261-995 718-361q456 0 717 361t261 995z\"/><path id=\"DejaVuSans-65\" transform=\"scale(.015625)\" d=\"m3597 1894v-281h-2644q38-594 358-905t892-311q331 0 642 81t618 244v-544q-310-131-635-200t-659-69q-838 0-1327 487-489 488-489 1320 0 859 464 1363 464 505 1252 505 706 0 1117-455 411-454 411-1235zm-575 169q-6 471-264 752-258 282-683 282-481 0-770-272t-333-766l2050 4z\"/><path id=\"DejaVuSans-63\" transform=\"scale(.015625)\" d=\"m3122 3366v-538q-244 135-489 202t-495 67q-560 0-870-355-309-354-309-995t309-996q310-354 870-354 250 0 495 67t489 202v-532q-241-112-499-168-257-57-548-57-791 0-1257 497-465 497-465 1341 0 856 470 1346 471 491 1290 491 265 0 518-55 253-54 491-163z\"/><path id=\"DejaVuSans-74\" transform=\"scale(.015625)\" d=\"m1172 4494v-994h1184v-447h-1184v-1900q0-428 117-550t477-122h590v-481h-590q-666 0-919 248-253 249-253 905v1900h-422v447h422v994h578z\"/><path id=\"DejaVuSans-61\" transform=\"scale(.015625)\" d=\"m2194 1759q-697 0-966-159t-269-544q0-306 202-486 202-179 548-179 479 0 768 339t289 901v128h-572zm1147 238v-1997h-575v531q-197-318-491-470t-719-152q-537 0-855 302-317 302-317 808 0 590 395 890 396 300 1180 300h807v57q0 397-261 614t-733 217q-300 0-585-72-284-72-546-216v532q315 122 612 182 297 61 578 61 760 0 1135-394 375-393 375-1193z\"/><path id=\"DejaVuSans-69\" transform=\"scale(.015625)\" d=\"m603 3500h575v-3500h-575v3500zm0 1363h575v-729h-575v729z\"/><path id=\"DejaVuSans-6f\" transform=\"scale(.015625)\" d=\"m1959 3097q-462 0-731-361t-269-989 267-989q268-361 733-361 460 0 728 362 269 363 269 988 0 622-269 986-268 364-728 364zm0 487q750 0 1178-488 429-487 429-1349 0-859-429-1349-428-489-1178-489-753 0-1180 489-426 490-426 1349 0 862 426 1349 427 488 1180 488z\"/><path id=\"DejaVuSans-6e\" transform=\"scale(.015625)\" d=\"m3513 2113v-2113h-575v2094q0 497-194 743-194 247-581 247-466 0-735-297-269-296-269-809v-1978h-578v3500h578v-544q207 316 486 472 280 156 646 156 603 0 912-373 310-373 310-1098z\"/><path id=\"DejaVuSans-76\" transform=\"scale(.015625)\" d=\"m191 3500h609l1094-2937 1094 2937h609l-1313-3500h-781l-1312 3500z\"/><path id=\"DejaVuSans-6c\" transform=\"scale(.015625)\" d=\"m603 4863h575v-4863h-575v4863z\"/><path id=\"DejaVuSans-75\" transform=\"scale(.015625)\" d=\"m544 1381v2119h575v-2097q0-497 193-746 194-248 582-248 465 0 735 297 271 297 271 810v1984h575v-3500h-575v538q-209-319-486-474-276-155-642-155-603 0-916 375-312 375-312 1097zm1447 2203z\"/><path id=\"DejaVuSans-73\" transform=\"scale(.015625)\" d=\"m2834 3397v-544q-243 125-506 187-262 63-544 63-428 0-642-131t-214-394q0-200 153-314t616-217l197-44q612-131 870-370t258-667q0-488-386-773-386-284-1061-284-281 0-586 55t-642 164v594q319-166 628-249 309-82 613-82 406 0 624 139 219 139 219 392 0 234-158 359-157 125-692 241l-200 47q-534 112-772 345-237 233-237 639 0 494 350 762 350 269 994 269 318 0 599-47 282-46 519-140z\"/><path id=\"DejaVuSans-28\" transform=\"scale(.015625)\" d=\"m1984 4856q-418-718-622-1422-203-703-203-1425 0-721 205-1429t620-1424h-500q-468 735-701 1444t-233 1409q0 697 231 1403 232 707 703 1444h500z\"/><path id=\"DejaVuSans-77\" transform=\"scale(.015625)\" d=\"m269 3500h575l719-2731 715 2731h678l719-2731 716 2731h575l-916-3500h-678l-753 2869-756-2869h-679l-915 3500z\"/><path id=\"DejaVuSans-68\" transform=\"scale(.015625)\" d=\"m3513 2113v-2113h-575v2094q0 497-194 743-194 247-581 247-466 0-735-297-269-296-269-809v-1978h-578v4863h578v-1907q207 316 486 472 280 156 646 156 603 0 912-373 310-373 310-1098z\"/><path id=\"DejaVuSans-64\" transform=\"scale(.015625)\" d=\"m2906 2969v1894h575v-4863h-575v525q-181-312-458-464-276-152-664-152-634 0-1033 506-398 507-398 1332t398 1331q399 506 1033 506 388 0 664-152 277-151 458-463zm-1959-1222q0-634 261-995t717-361 718 361q263 361 263 995t-263 995q-262 361-718 361t-717-361-261-995z\"/><path id=\"DejaVuSans-72\" transform=\"scale(.015625)\" d=\"m2631 2963q-97 56-211 82-114 27-251 27-488 0-749-317t-261-911v-1844h-578v3500h578v-544q182 319 472 473 291 155 707 155 59 0 131-8 72-7 159-23l3-590z\"/><path id=\"DejaVuSans-29\" transform=\"scale(.015625)\" d=\"m513 4856h500q468-737 701-1444 233-706 233-1403 0-700-233-1409t-701-1444h-500q415 716 620 1424t205 1429q0 722-205 1425-205 704-620 1422z\"/></defs><use xlink:href=\"#DejaVuSans-45\"/><use transform=\"translate(63.184)\" xlink:href=\"#DejaVuSans-78\"/><use transform=\"translate(122.36)\" xlink:href=\"#DejaVuSans-70\"/><use transform=\"translate(185.84)\" xlink:href=\"#DejaVuSans-65\"/><use transform=\"translate(247.36)\" xlink:href=\"#DejaVuSans-63\"/><use transform=\"translate(302.34)\" xlink:href=\"#DejaVuSans-74\"/><use transform=\"translate(341.55)\" xlink:href=\"#DejaVuSans-61\"/><use transform=\"translate(402.83)\" xlink:href=\"#DejaVuSans-74\"/><use transform=\"translate(442.04)\" xlink:href=\"#DejaVuSans-69\"/><use transform=\"translate(469.82)\" xlink:href=\"#DejaVuSans-6f\"/><use transform=\"translate(531.01)\" xlink:href=\"#DejaVuSans-6e\"/><use transform=\"translate(594.38)\" xlink:href=\"#DejaVuSans-20\"/><use transform=\"translate(626.17)\" xlink:href=\"#DejaVuSans-76\"/><use transform=\"translate(685.35)\" xlink:href=\"#DejaVuSans-61\"/><use transform=\"translate(746.63)\" xlink:href=\"#DejaVuSans-6c\"/><use transform=\"translate(774.41)\" xlink:href=\"#DejaVuSans-75\"/><use transform=\"translate(837.79)\" xlink:href=\"#DejaVuSans-65\"/><use transform=\"translate(899.32)\" xlink:href=\"#DejaVuSans-73\"/><use transform=\"translate(951.42)\" xlink:href=\"#DejaVuSans-20\"/><use transform=\"translate(983.2)\" xlink:href=\"#DejaVuSans-28\"/><use transform=\"translate(1022.2)\" xlink:href=\"#DejaVuSans-77\"/><use transform=\"translate(1104)\" xlink:href=\"#DejaVuSans-69\"/><use transform=\"translate(1131.8)\" xlink:href=\"#DejaVuSans-74\"/><use transform=\"translate(1171)\" xlink:href=\"#DejaVuSans-68\"/><use transform=\"translate(1234.4)\" xlink:href=\"#DejaVuSans-20\"/><use transform=\"translate(1266.2)\" xlink:href=\"#DejaVuSans-73\"/><use transform=\"translate(1318.3)\" xlink:href=\"#DejaVuSans-74\"/><use transform=\"translate(1357.5)\" xlink:href=\"#DejaVuSans-61\"/><use transform=\"translate(1418.8)\" xlink:href=\"#DejaVuSans-6e\"/><use transform=\"translate(1482.1)\" xlink:href=\"#DejaVuSans-64\"/><use transform=\"translate(1545.6)\" xlink:href=\"#DejaVuSans-61\"/><use transform=\"translate(1606.9)\" xlink:href=\"#DejaVuSans-72\"/><use transform=\"translate(1646.2)\" xlink:href=\"#DejaVuSans-64\"/><use transform=\"translate(1709.7)\" xlink:href=\"#DejaVuSans-20\"/><use transform=\"translate(1741.5)\" xlink:href=\"#DejaVuSans-65\"/><use transform=\"translate(1803)\" xlink:href=\"#DejaVuSans-72\"/><use transform=\"translate(1842.4)\" xlink:href=\"#DejaVuSans-72\"/><use transform=\"translate(1881.3)\" xlink:href=\"#DejaVuSans-6f\"/><use transform=\"translate(1942.4)\" xlink:href=\"#DejaVuSans-72\"/><use transform=\"translate(1983.6)\" xlink:href=\"#DejaVuSans-73\"/><use transform=\"translate(2035.7)\" xlink:href=\"#DejaVuSans-29\"/></g><defs><clipPath id=\"23cfab6fee7\"><rect x=\"38.483\" y=\"22.318\" width=\"357.12\" height=\"266.11\"/></clipPath></defs></svg>"
      ],
      "text/plain": [
       "<Figure size 640x480 with 1 Axes>"
      ]
     },
     "metadata": {},
     "output_type": "display_data"
    }
   ],
   "source": [
    "standard_error = job.result()[0].data.stds\n",
    "\n",
    "_, ax = plt.subplots()\n",
    "ax.bar(\n",
    "    observables_labels,\n",
    "    exp_val.flatten(),\n",
    "    yerr=standard_error.flatten(),\n",
    "    capsize=2,\n",
    ")\n",
    "ax.set_title(\"Expectation values (with standard errors)\")"
   ]
  }
 ],
 "metadata": {
  "description": "Plot quantum circuit execution results using Qiskit",
  "kernelspec": {
   "display_name": "Python 3",
   "language": "python",
   "name": "python3"
  },
  "language_info": {
   "codemirror_mode": {
    "name": "ipython",
    "version": 3
   },
   "file_extension": ".py",
   "mimetype": "text/x-python",
   "name": "python",
   "nbconvert_exporter": "python",
   "pygments_lexer": "ipython3",
   "version": "3"
  },
  "title": "Visualize results"
 },
 "nbformat": 4,
 "nbformat_minor": 4
}
