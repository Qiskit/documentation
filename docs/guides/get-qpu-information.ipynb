{
 "cells": [
  {
   "cell_type": "markdown",
   "id": "7644e8cd-faf5-4384-87e0-86ce1a4f9a37",
   "metadata": {},
   "source": [
    "# Get backend information with Qiskit\n",
    "\n",
    "<LegacyContent>\n",
    "<Admonition type=\"note\">\n",
    "This documentation is relevant to IBM Quantum&reg; Platform Classic. If you need the newer version, go to the new [IBM Quantum Platform documentation.]( https://quantum.cloud.ibm.com/docs/guides/get-qpu-information)\n",
    "</Admonition>\n",
    "</LegacyContent>\n",
    "<CloudContent>\n",
    "<Admonition type=\"note\">\n",
    "This documentation is relevant to the new IBM Quantum&reg; Platform. If you need the previous version, return to the [IBM Quantum Platform Classic documentation.](https://docs.quantum.ibm.com/guides/get-qpu-information)\n",
    "</Admonition>\n",
    "</CloudContent>"
   ]
  },
  {
   "cell_type": "markdown",
   "id": "76d54c88-3ff2-4836-b1fd-a266fa461130",
   "metadata": {
    "tags": [
     "version-info"
    ]
   },
   "source": [
    "<details>\n",
    "<summary><b>Package versions</b></summary>\n",
    "\n",
    "The code on this page was developed using the following requirements.\n",
    "We recommend using these versions or newer.\n",
    "\n",
    "```\n",
    "qiskit-ibm-runtime~=0.37.0\n",
    "```\n",
    "</details>"
   ]
  },
  {
   "cell_type": "markdown",
   "id": "039bc58f-530a-4c0b-90ee-c8bb126b34d0",
   "metadata": {},
   "source": [
    "This page explains how to use Qiskit to find information about your available backends."
   ]
  },
  {
   "cell_type": "markdown",
   "id": "5e292f84-986b-4c94-a8c7-d1ede56d0d08",
   "metadata": {},
   "source": [
    "## List backends\n",
    "<LegacyContent>\n",
    "To view the backends you have access to, you can either view a list on the [Compute resources page,](https://quantum.ibm.com/services/resources?tab=yours) or you can use the [`QiskitRuntimeService.backends()`](../api/qiskit-ibm-runtime/qiskit-runtime-service#backends) method. This method returns a list of [`IBMBackend`](../api/qiskit-ibm-runtime/ibm-backend) instances:\n",
    "</LegacyContent>\n",
    "<CloudContent>\n",
    "To view the backends you have access to, you can either view a list on the [Compute resources page,](https://quantum.cloud.ibm.com/computers) or you can use the [`QiskitRuntimeService.backends()`](../api/qiskit-ibm-runtime/qiskit-runtime-service#backends) method. This method returns a list of [`IBMBackend`](../api/qiskit-ibm-runtime/ibm-backend) instances:\n",
    "</CloudContent>"
   ]
  },
  {
   "cell_type": "markdown",
   "id": "bbd100df-d4df-4f3b-9c1d-50c3f19bf2f9",
   "metadata": {},
   "source": [
    "<LegacyContent>\n",
    "To run the following code, be sure you have already authenticated to the service. See [Set up to use IBM Quantum Platform](/docs/guides/setup-channel#set-up-to-use-ibm-quantum-platform) for more details.\n",
    "</LegacyContent>\n",
    "<CloudContent>\n",
    "To run the following code, be sure you have already authenticated to the service. See [Set up your IBM Cloud account](https://quantum.cloud.ibm.com/docs/en/guides/cloud-setup) for more details.\n",
    "</CloudContent>"
   ]
  },
  {
   "cell_type": "code",
   "execution_count": 2,
   "id": "9af5a961-cdfd-49d1-a198-988b2cc231ff",
   "metadata": {},
   "outputs": [
    {
     "data": {
      "text/plain": [
       "[<IBMBackend('ibm_brisbane')>,\n",
       " <IBMBackend('ibm_torino')>]"
      ]
     },
     "execution_count": 2,
     "metadata": {},
     "output_type": "execute_result"
    }
   ],
   "source": [
    "# Initialize your account\n",
    "from qiskit_ibm_runtime import QiskitRuntimeService\n",
    "\n",
    "service = QiskitRuntimeService(channel=\"ibm_quantum\")\n",
    "\n",
    "service.backends()"
   ]
  },
  {
   "cell_type": "markdown",
   "id": "6ae15e28-2542-4029-b2c6-f991d47d34bf",
   "metadata": {},
   "source": [
    "The [`QiskitRuntimeService.backend()`](../api/qiskit-ibm-runtime/qiskit-runtime-service#backend) method (note that this is singular: *backend*) takes the name of the backend as the input parameter and returns an [`IBMBackend`](../api/qiskit-ibm-runtime/ibm-backend) instance representing that particular backend:"
   ]
  },
  {
   "cell_type": "code",
   "execution_count": 2,
   "id": "a7a460ca-1d01-4942-b76c-d79e6581d194",
   "metadata": {},
   "outputs": [
    {
     "data": {
      "text/plain": [
       "<IBMBackend('ibm_brisbane')>"
      ]
     },
     "execution_count": 2,
     "metadata": {},
     "output_type": "execute_result"
    }
   ],
   "source": [
    "service.backend(\"ibm_brisbane\")"
   ]
  },
  {
   "cell_type": "markdown",
   "id": "87ea5116-6303-43e0-979d-f899bf7d4863",
   "metadata": {},
   "source": [
    "## Filter backends\n",
    "\n",
    "You can also filter the available backends by their properties. For more general filters, set the `filters` argument to a function that accepts a backend object and returns `True` if it meets your criteria. Refer to the [API documentation](../api/qiskit-ibm-runtime/qiskit-runtime-service#backends) for more details.\n",
    "\n",
    "The following code returns only backends that fit these criteria:\n",
    "\n",
    "*   Are real quantum devices (`simulator=False`)\n",
    "*   Are currently operational (`operational=True`)\n",
    "*   Have at least 5 qubits (`min_num_qubits=5`)"
   ]
  },
  {
   "cell_type": "code",
   "execution_count": 3,
   "id": "ab782327-38fa-4882-86bf-5ac203638ae9",
   "metadata": {},
   "outputs": [
    {
     "data": {
      "text/plain": [
       "[<IBMBackend('ibm_brisbane')>,\n",
       " <IBMBackend('ibm_torino')>]"
      ]
     },
     "execution_count": 3,
     "metadata": {},
     "output_type": "execute_result"
    }
   ],
   "source": [
    "service.backends(simulator=False, operational=True, min_num_qubits=5)"
   ]
  },
  {
   "cell_type": "markdown",
   "id": "f506e701-5284-48f9-bf94-fc92ff2970e7",
   "metadata": {},
   "source": [
    "Use these keyword arguments to filter by any attribute in backend configuration ([JSON schema](https://github.com/Qiskit/ibm-quantum-schemas/blob/main/schemas/backend_configuration_schema.json)) or status ([JSON schema](https://github.com/Qiskit/ibm-quantum-schemas/blob/main/schemas/backend_status_schema.json)). A similar method is [`QiskitRuntimeService.least_busy()`](../api/qiskit-ibm-runtime/qiskit-runtime-service#least_busy), which takes the same filters as `backends()` but returns the backend that matches the filters and has the least number of jobs pending in the queue:"
   ]
  },
  {
   "cell_type": "code",
   "execution_count": 3,
   "id": "e29239cd-6ad3-49dd-bf9b-7f4265697389",
   "metadata": {},
   "outputs": [
    {
     "data": {
      "text/plain": [
       "<IBMBackend('ibm_brisbane')>"
      ]
     },
     "execution_count": 4,
     "metadata": {},
     "output_type": "execute_result"
    }
   ],
   "source": [
    "service.least_busy(operational=True, min_num_qubits=5)"
   ]
  },
  {
   "cell_type": "markdown",
   "id": "7c21c364-74d0-43ef-a20f-086fa461429d",
   "metadata": {},
   "source": [
    "## Static backend information\n",
    "\n",
    "Some information about a backend does not change regularly, such as its name, version, the number of qubits it has, and the types of features it supports. This information is available as attributes of the `backend` object.\n",
    "\n",
    "The following cell builds a description of a backend."
   ]
  },
  {
   "cell_type": "code",
   "execution_count": 7,
   "id": "352258ac-3c37-42cf-bde9-f1c6891a869b",
   "metadata": {},
   "outputs": [
    {
     "name": "stdout",
     "output_type": "stream",
     "text": [
      "Name: ibm_brisbane\n",
      "Version: 2\n",
      "No. of qubits: 127\n",
      "\n"
     ]
    }
   ],
   "source": [
    "backend = service.backend(\"ibm_brisbane\")\n",
    "\n",
    "print(\n",
    "    f\"Name: {backend.name}\\n\"\n",
    "    f\"Version: {backend.version}\\n\"\n",
    "    f\"No. of qubits: {backend.num_qubits}\\n\"\n",
    ")"
   ]
  },
  {
   "cell_type": "markdown",
   "id": "4e721856-84c0-4378-9929-4e9916e479bc",
   "metadata": {},
   "source": [
    "For a full list of attributes, see the [`IBMBackend` API documentation](/docs/api/qiskit-ibm-runtime/ibm-backend)."
   ]
  },
  {
   "cell_type": "markdown",
   "id": "e77a73d6-8022-4aed-82e9-0c19f6700391",
   "metadata": {},
   "source": [
    "## Dynamic backend information\n",
    "\n",
    "Backends can also have properties that change whenever the backed is calibrated, such as qubit frequency and operation error rates. Backends are usually calibrated every 24 hours, and their properties update after the calibration sequence completes. These properties can be used when optimizing quantum circuits or to construct noise models for a classical simulator.\n",
    "\n",
    "\n",
    "### Qubit properties\n",
    "\n",
    "\n",
    "The `backend.properties().qubit_property()` returns information about the qubits' physical attributes. It contains a dictionary of various properties of the qubit, each paired with its value and the timestamp of the last calibration.\n",
    "\n",
    "- `T1 (Relaxation Time)`: The T1 time represents the average duration a qubit remains in its excited state $|1\\rangle$ before decaying to its ground state $|0\\rangle$ due to energy relaxation. This parameter is used to characterize the qubit's energy relaxation behavior, and is expressed in units of seconds (s).\n",
    "\n",
    "- `T2 (Dephasing Time)`: The T2 time denotes the timescale over which a qubit maintains phase coherence of a superposition between the $|0\\rangle$ and $|1\\rangle$ states. It accounts for both energy relaxation and pure dephasing processes, providing insight into the qubit's coherence properties.\n",
    "\n",
    "- `frequency`: This parameter specifies the resonant frequency of the qubit, indicating the energy difference between the $|0\\rangle$ and $|1\\rangle$ states, expressed in hertz (Hz).\n",
    "\n",
    "- `anharmonicity`: Anharmonicity is the difference in energy between the first and second excited states of the qubit, also expressed in hertz (Hz).\n",
    "\n",
    "- `readout_error`: The readout error quantifies the average probability of incorrectly measuring a qubit's state. It is commonly calculated as the mean of prob_meas0_prep1 and prob_meas1_prep0, providing a single metric for measurement fidelity.\n",
    "\n",
    "- `prob_meas0_prep1`: This parameter indicates the probability of measuring a qubit in the 0 state when it was intended to be prepared in the $|1\\rangle$ state, denoted as $P(0 | 1)$. It reflects errors in state preparation and measurement (SPAM), particularly measurement errors in superconducting qubits.\n",
    "\n",
    "- `prob_meas1_prep0`: Similarly, this parameter represents the probability of measuring a qubit in the 1 state when it was intended to be prepared in the $|0\\rangle$ state, denoted as $P(1 | 0)$. Like prob_meas0_prep1, it reflects SPAM errors, with measurement errors being the predominant contributor in superconducting qubits.\n",
    "\n",
    "- `readout_length`: The readout_length specifies the duration of the readout operation for a qubit. It measures the time from the initiation of the measurement pulse to the completion of signal digitization, after which the system is ready for the next operation. Understanding this parameter is crucial for optimizing circuit execution, especially when incorporating mid-circuit measurements."
   ]
  },
  {
   "cell_type": "code",
   "execution_count": 6,
   "id": "2287792c-3e80-4291-abe6-130ace6bf45d",
   "metadata": {},
   "outputs": [
    {
     "data": {
      "text/plain": [
       "QubitProperties(t1=0.000373804819308844, t2=0.00035501732926633675, frequency=4736289915.805671)"
      ]
     },
     "execution_count": 6,
     "metadata": {},
     "output_type": "execute_result"
    }
   ],
   "source": [
    "# fundamental physical properties of qubit 1\n",
    "backend.qubit_properties(1)"
   ]
  },
  {
   "cell_type": "code",
   "execution_count": 7,
   "id": "66d67ea5-5f50-4eea-a9b7-1ddc6293e844",
   "metadata": {},
   "outputs": [
    {
     "data": {
      "text/plain": [
       "{'T1': (0.0005462183129681861,\n",
       "  datetime.datetime(2025, 6, 4, 18, 41, 14, tzinfo=tzlocal())),\n",
       " 'T2': (0.0003767959201654903,\n",
       "  datetime.datetime(2025, 6, 4, 18, 41, 14, tzinfo=tzlocal())),\n",
       " 'frequency': (4635659902.192823,\n",
       "  datetime.datetime(2025, 6, 4, 19, 20, 41, tzinfo=tzlocal())),\n",
       " 'anharmonicity': (-313276039.4092362,\n",
       "  datetime.datetime(2025, 6, 4, 19, 20, 41, tzinfo=tzlocal())),\n",
       " 'readout_error': (0.005615234375,\n",
       "  datetime.datetime(2025, 6, 4, 19, 20, 41, tzinfo=tzlocal())),\n",
       " 'prob_meas0_prep1': (0.0068359375,\n",
       "  datetime.datetime(2025, 6, 4, 19, 20, 41, tzinfo=tzlocal())),\n",
       " 'prob_meas1_prep0': (0.00439453125,\n",
       "  datetime.datetime(2025, 6, 4, 19, 20, 41, tzinfo=tzlocal())),\n",
       " 'readout_length': (1.216e-06,\n",
       "  datetime.datetime(2025, 6, 4, 19, 20, 41, tzinfo=tzlocal()))}"
      ]
     },
     "execution_count": 7,
     "metadata": {},
     "output_type": "execute_result"
    }
   ],
   "source": [
    "# calibration data with detailed properties of qubit 0\n",
    "backend.properties().qubit_property(0)"
   ]
  },
  {
   "cell_type": "code",
   "execution_count": 8,
   "id": "c112bba3-719a-443c-9e79-ccb955229055",
   "metadata": {},
   "outputs": [
    {
     "name": "stdout",
     "output_type": "stream",
     "text": [
      "Qubit 126 Properties:\n",
      "  T1: 0.0003018540542473072 seconds\n",
      "  T2: 9.515509303172122e-05 seconds\n",
      "  Frequency: 4831245145.564327 Hz\n",
      "  Anharmonicity: -309300543.2479466 Hz\n",
      "  Readout Error: 0.01416015625\n",
      "  P(0 | 1): 0.0166015625\n",
      "  P(1 | 0): 0.01171875\n",
      "  Readout Length: 1.216e-06 seconds\n"
     ]
    }
   ],
   "source": [
    "# Retrieve qubit properties\n",
    "qubit_index = 126  # Replace with your qubit index\n",
    "qubit_props = backend.properties().qubit_property(qubit_index)\n",
    "\n",
    "# Access specific properties\n",
    "t1 = qubit_props.get(\"T1\", (None,))[0]\n",
    "t2 = qubit_props.get(\"T2\", (None,))[0]\n",
    "frequency = qubit_props.get(\"frequency\", (None,))[0]\n",
    "anharmonicity = qubit_props.get(\"anharmonicity\", (None,))[0]\n",
    "readout_error = qubit_props.get(\"readout_error\", (None,))[0]\n",
    "prob_meas0_prep1 = qubit_props.get(\"prob_meas0_prep1\", (None,))[0]\n",
    "prob_meas1_prep0 = qubit_props.get(\"prob_meas1_prep0\", (None,))[0]\n",
    "readout_length = qubit_props.get(\"readout_length\", (None,))[0]\n",
    "\n",
    "print(f\"Qubit {qubit_index} Properties:\")\n",
    "print(f\"  T1: {t1} seconds\")\n",
    "print(f\"  T2: {t2} seconds\")\n",
    "print(f\"  Frequency: {frequency} Hz\")\n",
    "print(f\"  Anharmonicity: {anharmonicity} Hz\")\n",
    "print(f\"  Readout Error: {readout_error}\")\n",
    "print(f\"  P(0 | 1): {prob_meas0_prep1}\")\n",
    "print(f\"  P(1 | 0): {prob_meas1_prep0}\")\n",
    "print(f\"  Readout Length: {readout_length} seconds\")"
   ]
  },
  {
   "cell_type": "markdown",
   "id": "ebf77e68-6baf-46bd-982a-a10d4f8b6869",
   "metadata": {},
   "source": [
    "### Instruction properties\n",
    "\n",
    "The `backend.target` attribute is a `qiskit.transpiler.Target` object: an object that contains all the information needed to transpile a circuit for that backend. This includes instruction errors and durations. For example, the following cell gets the properties for an [`ecr` gate](/docs/api/qiskit/qiskit.circuit.library.ECRGate) acting between qubits 1 and 0."
   ]
  },
  {
   "cell_type": "code",
   "execution_count": 7,
   "id": "093c8544-d9c1-4cf1-a643-df2d14942795",
   "metadata": {},
   "outputs": [
    {
     "data": {
      "text/plain": [
       "InstructionProperties(duration=5.333333333333332e-07, error=0.006190706171161048)"
      ]
     },
     "execution_count": 9,
     "metadata": {},
     "output_type": "execute_result"
    }
   ],
   "source": [
    "backend.target[\"ecr\"][(1, 0)]"
   ]
  },
  {
   "cell_type": "markdown",
   "id": "3fc6cb8a-28e1-4add-af5e-c0f046f63be1",
   "metadata": {},
   "source": [
    "The following cell shows the properties for a measurement operation (including the readout error) on qubit 0."
   ]
  },
  {
   "cell_type": "code",
   "execution_count": 8,
   "id": "daf7753b-9b77-451e-80a6-ea9212be77f6",
   "metadata": {},
   "outputs": [
    {
     "data": {
      "text/plain": [
       "InstructionProperties(duration=1.216e-06, error=0.005615234375)"
      ]
     },
     "execution_count": 10,
     "metadata": {},
     "output_type": "execute_result"
    }
   ],
   "source": [
    "backend.target[\"measure\"][(0,)]"
   ]
  },
  {
   "cell_type": "markdown",
   "id": "db2e6ddb-2636-469a-b0b5-eae864857a1a",
   "metadata": {},
   "source": [
    "## Next steps\n",
    "\n",
    "<Admonition type=\"tip\" title=\"Recommendations\">\n",
    "    - Try the [Grover's algorithm](https://learning.quantum.ibm.com/tutorial/grovers-algorithm) tutorial.\n",
    "    - Review the [QiskitRuntime backend API](/docs/api/qiskit-ibm-runtime/qiskit-runtime-service#backend) reference.\n",
    "</Admonition>"
   ]
  }
 ],
 "metadata": {
  "description": "Find and filter available backends, get configuration and calibration data programmatically.",
  "kernelspec": {
   "display_name": "Python 3",
   "language": "python",
   "name": "python3"
  },
  "language_info": {
   "codemirror_mode": {
    "name": "ipython",
    "version": 3
   },
   "file_extension": ".py",
   "mimetype": "text/x-python",
   "name": "python",
   "nbconvert_exporter": "python",
   "pygments_lexer": "ipython3",
   "version": "3"
  },
  "title": "Get backend information with Qiskit"
 },
 "nbformat": 4,
 "nbformat_minor": 4
}
