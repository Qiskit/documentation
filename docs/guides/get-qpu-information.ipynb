{
 "cells": [
  {
   "cell_type": "markdown",
   "id": "cbac187d-c590-404f-b451-8f4ec2292278",
   "metadata": {},
   "source": [
    "# Get backend information with Qiskit"
   ]
  },
  {
   "cell_type": "markdown",
   "id": "b47b9112-316b-46fd-9b23-e3a8245428fb",
   "metadata": {
    "tags": [
     "version-info"
    ]
   },
   "source": [
    "<details>\n",
    "<summary><b>Package versions</b></summary>\n",
    "\n",
    "The code on this page was developed using the following requirements.\n",
    "We recommend using these versions or newer.\n",
    "\n",
    "```\n",
    "qiskit-ibm-runtime~=0.40.1\n",
    "```\n",
    "</details>"
   ]
  },
  {
   "cell_type": "markdown",
   "id": "c05364ae-48e2-439e-8074-3a053731c744",
   "metadata": {},
   "source": [
    "This page explains how to use Qiskit to find information about your available backends."
   ]
  },
  {
   "cell_type": "markdown",
   "id": "c9aec913-438d-4849-9ee1-ca531264b50e",
   "metadata": {},
   "source": [
    "## List backends\n",
    "\n",
    "To view the backends you have access to, you can either view a list on the [Compute resources page,](https://quantum.cloud.ibm.com/computers) or you can use the [`QiskitRuntimeService.backends()`](../api/qiskit-ibm-runtime/qiskit-runtime-service#backends) method. This method returns a list of [`IBMBackend`](../api/qiskit-ibm-runtime/ibm-backend) instances:"
   ]
  },
  {
   "cell_type": "markdown",
   "id": "61cf3942-2070-4917-90ab-44afdcbde92f",
   "metadata": {},
   "source": [
    "To run the following code, be sure you have already authenticated to the service. See [Set up your IBM Cloud account](/docs/guides/cloud-setup) for more details."
   ]
  },
  {
   "cell_type": "code",
   "execution_count": 1,
   "id": "b169fd5c-5132-47ed-9baf-eecd37f8f668",
   "metadata": {},
   "outputs": [
    {
     "data": {
      "text/plain": [
       "[<IBMBackend('ibm_quebec')>,\n",
       " <IBMBackend('ibm_brisbane')>,\n",
       " <IBMBackend('alt_fez')>,\n",
       " <IBMBackend('alt_kawasaki')>,\n",
       " <IBMBackend('alt_marrakesh')>,\n",
       " <IBMBackend('ibm_torino')>,\n",
       " <IBMBackend('ibm_pinguino1')>,\n",
       " <IBMBackend('ibm_pinguino2')>,\n",
       " <IBMBackend('ibm_pinguino3')>,\n",
       " <IBMBackend('ibmq_dublin')>,\n",
       " <IBMBackend('test_eagle_us-east')>,\n",
       " <IBMBackend('alt_yonsei')>,\n",
       " <IBMBackend('alt_fez2')>,\n",
       " <IBMBackend('ibm_pittsburgh')>,\n",
       " <IBMBackend('alt_pittsburgh')>,\n",
       " <IBMBackend('alt_kingston')>,\n",
       " <IBMBackend('ibm_boston')>]"
      ]
     },
     "execution_count": 1,
     "metadata": {},
     "output_type": "execute_result"
    }
   ],
   "source": [
    "# Initialize your account\n",
    "from qiskit_ibm_runtime import QiskitRuntimeService\n",
    "\n",
    "service = QiskitRuntimeService()\n",
    "\n",
    "service.backends()"
   ]
  },
  {
   "cell_type": "markdown",
   "id": "546f7270-66b9-43eb-a445-731ffa06a33f",
   "metadata": {},
   "source": [
    "The [`QiskitRuntimeService.backend()`](../api/qiskit-ibm-runtime/qiskit-runtime-service#backend) method (note that this is singular: *backend*) takes the name of the backend as the input parameter and returns an [`IBMBackend`](../api/qiskit-ibm-runtime/ibm-backend) instance representing that particular backend:"
   ]
  },
  {
   "cell_type": "code",
   "execution_count": 2,
   "id": "424a7f11-6fd1-4599-a6e7-6fa722234b9a",
   "metadata": {},
   "outputs": [
    {
     "data": {
      "text/plain": [
       "<IBMBackend('ibm_brisbane')>"
      ]
     },
     "execution_count": 2,
     "metadata": {},
     "output_type": "execute_result"
    }
   ],
   "source": [
    "service.backend(\"ibm_brisbane\")"
   ]
  },
  {
   "cell_type": "markdown",
   "id": "2a9fa4a7-4f2a-47ef-be70-b1e100b20d2a",
   "metadata": {},
   "source": [
    "## Filter backends\n",
    "\n",
    "You can also filter the available backends by their properties. For more general filters, set the `filters` argument to a function that accepts a backend object and returns `True` if it meets your criteria. Refer to the [API documentation](../api/qiskit-ibm-runtime/qiskit-runtime-service#backends) for more details.\n",
    "\n",
    "The following code returns only backends that fit these criteria:\n",
    "\n",
    "*   Are real quantum devices (`simulator=False`)\n",
    "*   Are currently operational (`operational=True`)\n",
    "*   Have at least 5 qubits (`min_num_qubits=5`)"
   ]
  },
  {
   "cell_type": "code",
   "execution_count": 3,
   "id": "cc7b0879-feaa-42da-955a-775b456198a1",
   "metadata": {},
   "outputs": [
    {
     "data": {
      "text/plain": [
       "[<IBMBackend('ibm_brisbane')>,\n",
       " <IBMBackend('alt_fez')>,\n",
       " <IBMBackend('alt_kawasaki')>,\n",
       " <IBMBackend('alt_marrakesh')>,\n",
       " <IBMBackend('ibm_torino')>,\n",
       " <IBMBackend('ibm_pinguino1')>,\n",
       " <IBMBackend('ibm_pinguino2')>,\n",
       " <IBMBackend('ibm_pinguino3')>,\n",
       " <IBMBackend('ibmq_dublin')>,\n",
       " <IBMBackend('test_eagle_us-east')>,\n",
       " <IBMBackend('alt_yonsei')>,\n",
       " <IBMBackend('alt_fez2')>,\n",
       " <IBMBackend('ibm_pittsburgh')>,\n",
       " <IBMBackend('alt_pittsburgh')>,\n",
       " <IBMBackend('alt_kingston')>,\n",
       " <IBMBackend('ibm_boston')>]"
      ]
     },
     "execution_count": 3,
     "metadata": {},
     "output_type": "execute_result"
    }
   ],
   "source": [
    "service.backends(simulator=False, operational=True, min_num_qubits=5)"
   ]
  },
  {
   "cell_type": "markdown",
   "id": "37fbdbc1-9f24-491b-8352-e56d767a5acd",
   "metadata": {},
   "source": [
    "Use these keyword arguments to filter by any attribute in backend configuration ([JSON schema](https://github.com/Qiskit/ibm-quantum-schemas/blob/main/schemas/backend_configuration_schema.json)) or status ([JSON schema](https://github.com/Qiskit/ibm-quantum-schemas/blob/main/schemas/backend_status_schema.json)). A similar method is [`QiskitRuntimeService.least_busy()`](../api/qiskit-ibm-runtime/qiskit-runtime-service#least_busy), which takes the same filters as `backends()` but returns the backend that matches the filters and has the least number of jobs pending in the queue:"
   ]
  },
  {
   "cell_type": "code",
   "execution_count": 4,
   "id": "846dfe4b-def3-49c1-9d2a-906fd2dc55de",
   "metadata": {},
   "outputs": [
    {
     "data": {
      "text/plain": [
       "<IBMBackend('ibm_brisbane')>"
      ]
     },
     "execution_count": 4,
     "metadata": {},
     "output_type": "execute_result"
    }
   ],
   "source": [
    "service.least_busy(operational=True, min_num_qubits=5)"
   ]
  },
  {
   "cell_type": "markdown",
   "id": "3b34bb71-b8cf-415f-9901-a5970997ee15",
   "metadata": {},
   "source": [
    "## Static backend information\n",
    "\n",
    "Some information about a backend does not change regularly, such as its name, version, the number of qubits it has, and the types of features it supports. This information is available as attributes of the `backend` object.\n",
    "\n",
    "The following cell builds a description of a backend."
   ]
  },
  {
   "cell_type": "code",
   "execution_count": 5,
   "id": "8d070b69-1b6d-4faa-9a4a-d12aba47d0b7",
   "metadata": {},
   "outputs": [
    {
     "name": "stdout",
     "output_type": "stream",
     "text": [
      "Name: ibm_brisbane\n",
      "Version: 2\n",
      "No. of qubits: 127\n",
      "\n"
     ]
    }
   ],
   "source": [
    "backend = service.backend(\"ibm_brisbane\")\n",
    "\n",
    "print(\n",
    "    f\"Name: {backend.name}\\n\"\n",
    "    f\"Version: {backend.version}\\n\"\n",
    "    f\"No. of qubits: {backend.num_qubits}\\n\"\n",
    ")"
   ]
  },
  {
   "cell_type": "markdown",
   "id": "1fc62b0b-1975-4bdc-a968-fa5bff92a893",
   "metadata": {},
   "source": [
    "For a full list of attributes, see the [`IBMBackend` API documentation](/docs/api/qiskit-ibm-runtime/ibm-backend)."
   ]
  },
  {
   "cell_type": "markdown",
   "id": "48cf020c-24eb-49dd-a417-7196d036b0e8",
   "metadata": {},
   "source": [
    "## Dynamic backend information\n",
    "\n",
    "Backends can also have properties that change whenever the backed is calibrated, such as qubit frequency and operation error rates. Backends are usually calibrated every 24 hours, and their properties update after the calibration sequence completes. These properties can be used when optimizing quantum circuits or to construct noise models for a classical simulator.\n",
    "\n",
    "\n",
    "### Qubit properties\n",
    "\n",
    "\n",
    "The `backend.properties().qubit_property()` returns information about the qubits' physical attributes. It contains a dictionary of various properties of the qubit, each paired with its value and the timestamp of the last calibration.\n",
    "\n",
    "- `T1 (Relaxation Time)`: The T1 time represents the average duration a qubit remains in its excited state $|1\\rangle$ before decaying to its ground state $|0\\rangle$ due to energy relaxation. This parameter is used to characterize the qubit's energy relaxation behavior, and is expressed in units of seconds (s).\n",
    "\n",
    "- `T2 (Dephasing Time)`: The T2 time denotes the timescale over which a qubit maintains phase coherence of a superposition between the $|0\\rangle$ and $|1\\rangle$ states. It accounts for both energy relaxation and pure dephasing processes, providing insight into the qubit's coherence properties.\n",
    "\n",
    "- `frequency`: This parameter specifies the resonant frequency of the qubit, indicating the energy difference between the $|0\\rangle$ and $|1\\rangle$ states, expressed in hertz (Hz).\n",
    "\n",
    "- `anharmonicity`: Anharmonicity is the difference in energy between the first and second excited states of the qubit, also expressed in hertz (Hz).\n",
    "\n",
    "- `readout_error`: The readout error quantifies the average probability of incorrectly measuring a qubit's state. It is commonly calculated as the mean of prob_meas0_prep1 and prob_meas1_prep0, providing a single metric for measurement fidelity.\n",
    "\n",
    "- `prob_meas0_prep1`: This parameter indicates the probability of measuring a qubit in the 0 state when it was intended to be prepared in the $|1\\rangle$ state, denoted as $P(0 | 1)$. It reflects errors in state preparation and measurement (SPAM), particularly measurement errors in superconducting qubits.\n",
    "\n",
    "- `prob_meas1_prep0`: Similarly, this parameter represents the probability of measuring a qubit in the 1 state when it was intended to be prepared in the $|0\\rangle$ state, denoted as $P(1 | 0)$. Like prob_meas0_prep1, it reflects SPAM errors, with measurement errors being the predominant contributor in superconducting qubits.\n",
    "\n",
    "- `readout_length`: The readout_length specifies the duration of the readout operation for a qubit. It measures the time from the initiation of the measurement pulse to the completion of signal digitization, after which the system is ready for the next operation. Understanding this parameter is crucial for optimizing circuit execution, especially when incorporating mid-circuit measurements."
   ]
  },
  {
   "cell_type": "code",
   "execution_count": 6,
   "id": "74b54d1b-7db8-4879-b51f-d307f023c535",
   "metadata": {},
   "outputs": [
    {
     "data": {
      "text/plain": [
       "QubitProperties(t1=0.00034044690147760133, t2=0.0003648612841622815, frequency=4815139873.425788)"
      ]
     },
     "execution_count": 6,
     "metadata": {},
     "output_type": "execute_result"
    }
   ],
   "source": [
    "# fundamental physical properties of qubit 1\n",
    "backend.qubit_properties(1)"
   ]
  },
  {
   "cell_type": "code",
   "execution_count": 7,
   "id": "cdca7a53-9101-48f1-bddc-48c393b56b85",
   "metadata": {},
   "outputs": [
    {
     "data": {
      "text/plain": [
       "{'T1': (0.0002803592228197996,\n",
       "  datetime.datetime(2025, 7, 15, 3, 4, 20, tzinfo=tzlocal())),\n",
       " 'T2': (5.662329248696125e-05,\n",
       "  datetime.datetime(2025, 7, 15, 3, 4, 20, tzinfo=tzlocal())),\n",
       " 'frequency': (4721912456.831854,\n",
       "  datetime.datetime(2025, 7, 15, 6, 31, 21, tzinfo=tzlocal())),\n",
       " 'anharmonicity': (-311978659.73435575,\n",
       "  datetime.datetime(2025, 7, 15, 6, 31, 21, tzinfo=tzlocal())),\n",
       " 'readout_error': (0.025390625,\n",
       "  datetime.datetime(2025, 7, 15, 5, 1, 33, tzinfo=tzlocal())),\n",
       " 'prob_meas0_prep1': (0.01904296875,\n",
       "  datetime.datetime(2025, 7, 15, 5, 1, 33, tzinfo=tzlocal())),\n",
       " 'prob_meas1_prep0': (0.03173828125,\n",
       "  datetime.datetime(2025, 7, 15, 5, 1, 33, tzinfo=tzlocal())),\n",
       " 'readout_length': (1.3e-06,\n",
       "  datetime.datetime(2025, 7, 15, 5, 1, 33, tzinfo=tzlocal()))}"
      ]
     },
     "execution_count": 7,
     "metadata": {},
     "output_type": "execute_result"
    }
   ],
   "source": [
    "# calibration data with detailed properties of qubit 0\n",
    "backend.properties().qubit_property(0)"
   ]
  },
  {
   "cell_type": "code",
   "execution_count": 8,
   "id": "1379efb5-359a-4246-9603-fa5d007f9f8a",
   "metadata": {},
   "outputs": [
    {
     "name": "stdout",
     "output_type": "stream",
     "text": [
      "Qubit 126 Properties:\n",
      "  T1: 0.0002771455439569886 seconds\n",
      "  T2: 1.5956020638468718e-05 seconds\n",
      "  Frequency: 4908225862.316227 Hz\n",
      "  Anharmonicity: -308575726.39301103 Hz\n",
      "  Readout Error: 0.018798828125\n",
      "  P(0 | 1): 0.01904296875\n",
      "  P(1 | 0): 0.0185546875\n",
      "  Readout Length: 1.3e-06 seconds\n"
     ]
    }
   ],
   "source": [
    "# Retrieve qubit properties\n",
    "qubit_index = 126  # Replace with your qubit index\n",
    "qubit_props = backend.properties().qubit_property(qubit_index)\n",
    "\n",
    "# Access specific properties\n",
    "t1 = qubit_props.get(\"T1\", (None,))[0]\n",
    "t2 = qubit_props.get(\"T2\", (None,))[0]\n",
    "frequency = qubit_props.get(\"frequency\", (None,))[0]\n",
    "anharmonicity = qubit_props.get(\"anharmonicity\", (None,))[0]\n",
    "readout_error = qubit_props.get(\"readout_error\", (None,))[0]\n",
    "prob_meas0_prep1 = qubit_props.get(\"prob_meas0_prep1\", (None,))[0]\n",
    "prob_meas1_prep0 = qubit_props.get(\"prob_meas1_prep0\", (None,))[0]\n",
    "readout_length = qubit_props.get(\"readout_length\", (None,))[0]\n",
    "\n",
    "print(f\"Qubit {qubit_index} Properties:\")\n",
    "print(f\"  T1: {t1} seconds\")\n",
    "print(f\"  T2: {t2} seconds\")\n",
    "print(f\"  Frequency: {frequency} Hz\")\n",
    "print(f\"  Anharmonicity: {anharmonicity} Hz\")\n",
    "print(f\"  Readout Error: {readout_error}\")\n",
    "print(f\"  P(0 | 1): {prob_meas0_prep1}\")\n",
    "print(f\"  P(1 | 0): {prob_meas1_prep0}\")\n",
    "print(f\"  Readout Length: {readout_length} seconds\")"
   ]
  },
  {
   "cell_type": "markdown",
   "id": "67525443-070e-4798-99b3-72a599bf96c8",
   "metadata": {},
   "source": [
    "### Instruction properties\n",
    "\n",
    "The `backend.target` attribute is a `qiskit.transpiler.Target` object: an object that contains all the information needed to transpile a circuit for that backend. This includes instruction errors and durations. For example, the following cell gets the properties for an [`ecr` gate](/docs/api/qiskit/qiskit.circuit.library.ECRGate) acting between qubits 1 and 0."
   ]
  },
  {
   "cell_type": "code",
   "execution_count": 9,
   "id": "64fc70f8-d848-45f2-aa25-9af10c315e1b",
   "metadata": {},
   "outputs": [
    {
     "data": {
      "text/plain": [
       "InstructionProperties(duration=6.6e-07, error=0.007180337765994915)"
      ]
     },
     "execution_count": 9,
     "metadata": {},
     "output_type": "execute_result"
    }
   ],
   "source": [
    "backend.target[\"ecr\"][(1, 0)]"
   ]
  },
  {
   "cell_type": "markdown",
   "id": "f89c0fb8-7fe0-46fc-8f8b-fed5b4aba8b7",
   "metadata": {},
   "source": [
    "The following cell shows the properties for a measurement operation (including the readout error) on qubit 0."
   ]
  },
  {
   "cell_type": "code",
   "execution_count": 10,
   "id": "412fec92-7a4b-41ff-b278-48e1bbcdaf3f",
   "metadata": {},
   "outputs": [
    {
     "data": {
      "text/plain": [
       "InstructionProperties(duration=1.3e-06, error=0.025390625)"
      ]
     },
     "execution_count": 10,
     "metadata": {},
     "output_type": "execute_result"
    }
   ],
   "source": [
    "backend.target[\"measure\"][(0,)]"
   ]
  },
  {
   "cell_type": "markdown",
   "id": "89918e29-ee80-4c5e-9d25-c9331fa2f27e",
   "metadata": {},
   "source": [
    "## Next steps\n",
    "\n",
    "<Admonition type=\"tip\" title=\"Recommendations\">\n",
    "    - Try the [Grover's algorithm](/docs/tutorials/grovers-algorithm) tutorial.\n",
    "    - Review the [QiskitRuntime backend API](/docs/api/qiskit-ibm-runtime/qiskit-runtime-service#backend) reference.\n",
    "</Admonition>"
   ]
  }
 ],
 "metadata": {
  "description": "Find and filter available backends, get configuration and calibration data programmatically.",
  "kernelspec": {
   "display_name": "Python 3",
   "language": "python",
   "name": "python3"
  },
  "language_info": {
   "codemirror_mode": {
    "name": "ipython",
    "version": 3
   },
   "file_extension": ".py",
   "mimetype": "text/x-python",
   "name": "python",
   "nbconvert_exporter": "python",
   "pygments_lexer": "ipython3",
   "version": "3"
  },
  "title": "Get backend information with Qiskit"
 },
 "nbformat": 4,
 "nbformat_minor": 4
}
