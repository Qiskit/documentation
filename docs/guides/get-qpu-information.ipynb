{
 "cells": [
  {
   "cell_type": "markdown",
   "id": "95773b45-4aca-44f2-924b-253f63cee7fa",
   "metadata": {},
   "source": [
    "# Get backend information with Qiskit\n",
    "\n",
    "<LegacyContent>\n",
    "<Admonition type=\"note\">\n",
    "This documentation is relevant to IBM Quantum&reg; Platform Classic. If you need the newer version, go to the new [IBM Quantum Platform documentation.]( https://quantum.cloud.ibm.com/docs/guides/get-qpu-information)\n",
    "</Admonition>\n",
    "</LegacyContent>\n",
    "<CloudContent>\n",
    "<Admonition type=\"note\">\n",
    "This documentation is relevant to the new IBM Quantum&reg; Platform. If you need the previous version, return to the [IBM Quantum Platform Classic documentation.](https://docs.quantum.ibm.com/guides/get-qpu-information)\n",
    "</Admonition>\n",
    "</CloudContent>"
   ]
  },
  {
   "cell_type": "markdown",
   "id": "d35cee21-db7c-4641-83e4-c82ec7b45135",
   "metadata": {
    "tags": [
     "version-info"
    ]
   },
   "source": [
    "<details>\n",
    "<summary><b>Package versions</b></summary>\n",
    "\n",
    "The code on this page was developed using the following requirements.\n",
    "We recommend using these versions or newer.\n",
    "\n",
    "```\n",
    "qiskit-ibm-runtime~=0.37.0\n",
    "```\n",
    "</details>"
   ]
  },
  {
   "cell_type": "markdown",
   "id": "3db39b65-9b57-46e1-8829-848de1debb56",
   "metadata": {},
   "source": [
    "This page explains how to use Qiskit to find information about your available backends."
   ]
  },
  {
   "cell_type": "markdown",
   "id": "f8e35982-38b5-4de1-b008-518aadc6ee81",
   "metadata": {},
   "source": [
    "## List backends\n",
    "<LegacyContent>\n",
    "To view the backends you have access to, you can either view a list on the [Compute resources page,](https://quantum.ibm.com/services/resources?tab=yours) or you can use the [`QiskitRuntimeService.backends()`](../api/qiskit-ibm-runtime/qiskit-runtime-service#backends) method. This method returns a list of [`IBMBackend`](../api/qiskit-ibm-runtime/ibm-backend) instances:\n",
    "</LegacyContent>\n",
    "<CloudContent>\n",
    "To view the backends you have access to, you can either view a list on the [Compute resources page,](https://quantum.cloud.ibm.com/computers) or you can use the [`QiskitRuntimeService.backends()`](../api/qiskit-ibm-runtime/qiskit-runtime-service#backends) method. This method returns a list of [`IBMBackend`](../api/qiskit-ibm-runtime/ibm-backend) instances:\n",
    "</CloudContent>"
   ]
  },
  {
   "cell_type": "markdown",
   "id": "4fd7473e-146f-48a3-9330-de76d6be02a0",
   "metadata": {},
   "source": [
    "<LegacyContent>\n",
    "To run the following code, be sure you have already authenticated to the service. See [Set up to use IBM Quantum Platform](/docs/guides/setup-channel#set-up-to-use-ibm-quantum-platform) for more details.\n",
    "</LegacyContent>\n",
    "<CloudContent>\n",
    "To run the following code, be sure you have already authenticated to the service. See [Set up your IBM Cloud account](https://quantum.cloud.ibm.com/docs/en/guides/cloud-setup) for more details.\n",
    "</CloudContent>"
   ]
  },
  {
   "cell_type": "code",
   "execution_count": 1,
   "id": "ab17b0f3-b2ef-4c5f-bce3-76273446a95d",
   "metadata": {
    "scrolled": false
   },
   "outputs": [
    {
     "data": {
      "text/plain": [
       "[<IBMBackend('ibm_brisbane')>, <IBMBackend('ibm_sherbrooke')>]"
      ]
     },
     "execution_count": 1,
     "metadata": {},
     "output_type": "execute_result"
    }
   ],
   "source": [
    "# Initialize your account\n",
    "from qiskit_ibm_runtime import QiskitRuntimeService\n",
    "\n",
    "service = QiskitRuntimeService(channel=\"ibm_quantum\")\n",
    "\n",
    "service.backends()"
   ]
  },
  {
   "cell_type": "markdown",
   "id": "9d5d3dfc-04ef-4786-b478-362c7f5a33f2",
   "metadata": {},
   "source": [
    "The [`QiskitRuntimeService.backend()`](../api/qiskit-ibm-runtime/qiskit-runtime-service#backend) method (note that this is singular: *backend*) takes the name of the backend as the input parameter and returns an [`IBMBackend`](../api/qiskit-ibm-runtime/ibm-backend) instance representing that particular backend:"
   ]
  },
  {
   "cell_type": "code",
   "execution_count": 2,
   "id": "f63fcc81-b92b-4d05-ab00-e57fa4791f12",
   "metadata": {},
   "outputs": [
    {
     "data": {
      "text/plain": [
       "<IBMBackend('ibm_brisbane')>"
      ]
     },
     "execution_count": 2,
     "metadata": {},
     "output_type": "execute_result"
    }
   ],
   "source": [
    "service.backend(\"ibm_brisbane\")"
   ]
  },
  {
   "cell_type": "markdown",
   "id": "ebe4d781-362e-470e-844e-bfbae621cfc9",
   "metadata": {},
   "source": [
    "## Filter backends\n",
    "\n",
    "You can also filter the available backends by their properties. For more general filters, set the `filters` argument to a function that accepts a backend object and returns `True` if it meets your criteria. Refer to the [API documentation](../api/qiskit-ibm-runtime/qiskit-runtime-service#backends) for more details.\n",
    "\n",
    "The following code returns only backends that fit these criteria:\n",
    "\n",
    "*   Are real quantum devices (`simulator=False`)\n",
    "*   Are currently operational (`operational=True`)\n",
    "*   Have at least 5 qubits (`min_num_qubits=5`)"
   ]
  },
  {
   "cell_type": "code",
   "execution_count": 3,
   "id": "ef040a7d-f245-495e-a2ef-1fda69c78ba9",
   "metadata": {},
   "outputs": [
    {
     "data": {
      "text/plain": [
       "[<IBMBackend('ibm_brisbane')>, <IBMBackend('ibm_sherbrooke')>]"
      ]
     },
     "execution_count": 3,
     "metadata": {},
     "output_type": "execute_result"
    }
   ],
   "source": [
    "service.backends(simulator=False, operational=True, min_num_qubits=5)"
   ]
  },
  {
   "cell_type": "markdown",
   "id": "b5c9174e-c4a0-4a3a-8ead-c9738e6681fb",
   "metadata": {},
   "source": [
    "Use these keyword arguments to filter by any attribute in backend configuration ([JSON schema](https://github.com/Qiskit/ibm-quantum-schemas/blob/main/schemas/backend_configuration_schema.json)) or status ([JSON schema](https://github.com/Qiskit/ibm-quantum-schemas/blob/main/schemas/backend_status_schema.json)). A similar method is [`QiskitRuntimeService.least_busy()`](../api/qiskit-ibm-runtime/qiskit-runtime-service#least_busy), which takes the same filters as `backends()` but returns the backend that matches the filters and has the least number of jobs pending in the queue:"
   ]
  },
  {
   "cell_type": "code",
   "execution_count": 4,
   "id": "6d35d7fe-7503-4b7a-b3f7-c8816b029253",
   "metadata": {},
   "outputs": [
    {
     "data": {
      "text/plain": [
       "<IBMBackend('ibm_brisbane')>"
      ]
     },
     "execution_count": 4,
     "metadata": {},
     "output_type": "execute_result"
    }
   ],
   "source": [
    "service.least_busy(operational=True, min_num_qubits=5)"
   ]
  },
  {
   "cell_type": "markdown",
   "id": "a59d71ce-c7fe-4590-8384-8465a1da4ee9",
   "metadata": {},
   "source": [
    "## Static backend information\n",
    "\n",
    "Some information about a backend does not change regularly, such as its name, version, the number of qubits it has, and the types of features it supports. This information is available as attributes of the `backend` object.\n",
    "\n",
    "The following cell builds a description of a backend."
   ]
  },
  {
   "cell_type": "code",
   "execution_count": 5,
   "id": "44e4c978-374c-4b68-9f83-da84423ecae4",
   "metadata": {},
   "outputs": [
    {
     "name": "stdout",
     "output_type": "stream",
     "text": [
      "Name: ibm_sherbrooke\n",
      "Version: 2\n",
      "No. of qubits: 127\n",
      "\n"
     ]
    }
   ],
   "source": [
    "backend = service.backend(\"ibm_sherbrooke\")\n",
    "\n",
    "print(\n",
    "    f\"Name: {backend.name}\\n\"\n",
    "    f\"Version: {backend.version}\\n\"\n",
    "    f\"No. of qubits: {backend.num_qubits}\\n\"\n",
    ")"
   ]
  },
  {
   "cell_type": "markdown",
   "id": "6553364b-6115-419e-9bbe-5b719097cd15",
   "metadata": {},
   "source": [
    "For a full list of attributes, see the [`IBMBackend` API documentation](/docs/api/qiskit-ibm-runtime/ibm-backend)."
   ]
  },
  {
   "cell_type": "markdown",
   "id": "0894bfbe-e8c6-4a8e-8c9b-3a4ccf5b6fc0",
   "metadata": {},
   "source": [
    "## Dynamic backend information\n",
    "\n",
    "Backends can also have properties that change whenever the backed is calibrated, such as qubit frequency and operation error rates. Backends are usually calibrated every 24 hours, and their properties update after the calibration sequence completes. These properties can be used when optimizing quantum circuits or to construct noise models for a classical simulator.\n",
    "\n",
    "\n",
    "### Qubit properties\n",
    "\n",
    "\n",
    "The `backend.properties().qubit_property()` returns information about the qubits' physical attributes. It contains a dictionary of various properties of the qubit, each paired with its value and the timestamp of the last calibration.\n",
    "\n",
    "- `T1 (Relaxation Time)`: The T1 time represents the average duration a qubit remains in its excited state $|1\\rangle$ before decaying to its ground state $|0\\rangle$ due to energy relaxation. This parameter is used to characterize the qubit's energy relaxation behavior, and is expressed in units of seconds (s).\n",
    "\n",
    "- `T2 (Dephasing Time)`: The T2 time denotes the timescale over which a qubit maintains phase coherence of a superposition between the $|0\\rangle$ and $|1\\rangle$ states. It accounts for both energy relaxation and pure dephasing processes, providing insight into the qubit's coherence properties.\n",
    "\n",
    "- `frequency`: This parameter specifies the resonant frequency of the qubit, indicating the energy difference between the $|0\\rangle$ and $|1\\rangle$ states, expressed in hertz (Hz).\n",
    "\n",
    "- `anharmonicity`: Anharmonicity is the difference in energy between the first and second excited states of the qubit, also expressed in hertz (Hz).\n",
    "\n",
    "- `readout_error`: The readout error quantifies the average probability of incorrectly measuring a qubit's state. It is commonly calculated as the mean of prob_meas0_prep1 and prob_meas1_prep0, providing a single metric for measurement fidelity.\n",
    "\n",
    "- `prob_meas0_prep1`: This parameter indicates the probability of measuring a qubit in the 0 state when it was intended to be prepared in the $|1\\rangle$ state, denoted as $P(0 | 1)$. It reflects errors in state preparation and measurement (SPAM), particularly measurement errors in superconducting qubits.\n",
    "\n",
    "- `prob_meas1_prep0`: Similarly, this parameter represents the probability of measuring a qubit in the 1 state when it was intended to be prepared in the $|0\\rangle$ state, denoted as $P(1 | 0)$. Like prob_meas0_prep1, it reflects SPAM errors, with measurement errors being the predominant contributor in superconducting qubits.\n",
    "\n",
    "- `readout_length`: The readout_length specifies the duration of the readout operation for a qubit. It measures the time from the initiation of the measurement pulse to the completion of signal digitization, after which the system is ready for the next operation. Understanding this parameter is crucial for optimizing circuit execution, especially when incorporating mid-circuit measurements."
   ]
  },
  {
   "cell_type": "code",
   "execution_count": 6,
   "id": "1f6dc981-cf88-4b10-9e45-5b42afbdac6d",
   "metadata": {},
   "outputs": [
    {
     "data": {
      "text/plain": [
       "QubitProperties(t1=0.000373804819308844, t2=0.00035501732926633675, frequency=4736289915.805671)"
      ]
     },
     "execution_count": 6,
     "metadata": {},
     "output_type": "execute_result"
    }
   ],
   "source": [
    "# fundamental physical properties of qubit 1\n",
    "backend.qubit_properties(1)"
   ]
  },
  {
   "cell_type": "code",
   "execution_count": 7,
   "id": "66d67ea5-5f50-4eea-a9b7-1ddc6293e844",
   "metadata": {},
   "outputs": [
    {
     "data": {
      "text/plain": [
       "{'T1': (0.0005462183129681861,\n",
       "  datetime.datetime(2025, 6, 4, 18, 41, 14, tzinfo=tzlocal())),\n",
       " 'T2': (0.0003767959201654903,\n",
       "  datetime.datetime(2025, 6, 4, 18, 41, 14, tzinfo=tzlocal())),\n",
       " 'frequency': (4635659902.192823,\n",
       "  datetime.datetime(2025, 6, 4, 19, 20, 41, tzinfo=tzlocal())),\n",
       " 'anharmonicity': (-313276039.4092362,\n",
       "  datetime.datetime(2025, 6, 4, 19, 20, 41, tzinfo=tzlocal())),\n",
       " 'readout_error': (0.005615234375,\n",
       "  datetime.datetime(2025, 6, 4, 19, 20, 41, tzinfo=tzlocal())),\n",
       " 'prob_meas0_prep1': (0.0068359375,\n",
       "  datetime.datetime(2025, 6, 4, 19, 20, 41, tzinfo=tzlocal())),\n",
       " 'prob_meas1_prep0': (0.00439453125,\n",
       "  datetime.datetime(2025, 6, 4, 19, 20, 41, tzinfo=tzlocal())),\n",
       " 'readout_length': (1.216e-06,\n",
       "  datetime.datetime(2025, 6, 4, 19, 20, 41, tzinfo=tzlocal()))}"
      ]
     },
     "execution_count": 7,
     "metadata": {},
     "output_type": "execute_result"
    }
   ],
   "source": [
    "# calibration data with detailed properties of qubit 0\n",
    "backend.properties().qubit_property(0)"
   ]
  },
  {
   "cell_type": "code",
   "execution_count": 8,
   "id": "c112bba3-719a-443c-9e79-ccb955229055",
   "metadata": {},
   "outputs": [
    {
     "name": "stdout",
     "output_type": "stream",
     "text": [
      "Qubit 126 Properties:\n",
      "  T1: 0.0003018540542473072 seconds\n",
      "  T2: 9.515509303172122e-05 seconds\n",
      "  Frequency: 4831245145.564327 Hz\n",
      "  Anharmonicity: -309300543.2479466 Hz\n",
      "  Readout Error: 0.01416015625\n",
      "  P(0 | 1): 0.0166015625\n",
      "  P(1 | 0): 0.01171875\n",
      "  Readout Length: 1.216e-06 seconds\n"
     ]
    }
   ],
   "source": [
    "# Retrieve qubit properties\n",
    "qubit_index = 126  # Replace with your qubit index\n",
    "qubit_props = backend.properties().qubit_property(qubit_index)\n",
    "\n",
    "# Access specific properties\n",
    "t1 = qubit_props.get(\"T1\", (None,))[0]\n",
    "t2 = qubit_props.get(\"T2\", (None,))[0]\n",
    "frequency = qubit_props.get(\"frequency\", (None,))[0]\n",
    "anharmonicity = qubit_props.get(\"anharmonicity\", (None,))[0]\n",
    "readout_error = qubit_props.get(\"readout_error\", (None,))[0]\n",
    "prob_meas0_prep1 = qubit_props.get(\"prob_meas0_prep1\", (None,))[0]\n",
    "prob_meas1_prep0 = qubit_props.get(\"prob_meas1_prep0\", (None,))[0]\n",
    "readout_length = qubit_props.get(\"readout_length\", (None,))[0]\n",
    "\n",
    "print(f\"Qubit {qubit_index} Properties:\")\n",
    "print(f\"  T1: {t1} seconds\")\n",
    "print(f\"  T2: {t2} seconds\")\n",
    "print(f\"  Frequency: {frequency} Hz\")\n",
    "print(f\"  Anharmonicity: {anharmonicity} Hz\")\n",
    "print(f\"  Readout Error: {readout_error}\")\n",
    "print(f\"  P(0 | 1): {prob_meas0_prep1}\")\n",
    "print(f\"  P(1 | 0): {prob_meas1_prep0}\")\n",
    "print(f\"  Readout Length: {readout_length} seconds\")"
   ]
  },
  {
   "cell_type": "markdown",
   "id": "c1c19258-c2e9-44bf-877c-e2524e755b1a",
   "metadata": {},
   "source": [
    "### Instruction properties\n",
    "\n",
    "The `backend.target` attribute is a `qiskit.transpiler.Target` object: an object that contains all the information needed to transpile a circuit for that backend. This includes instruction errors and durations. For example, the following cell gets the properties for an [`ecr` gate](/docs/api/qiskit/qiskit.circuit.library.ECRGate) acting between qubits 1 and 0."
   ]
  },
  {
   "cell_type": "code",
   "execution_count": 9,
   "id": "6a1d1d34-1c42-4b27-9038-b7bc210ea3b5",
   "metadata": {},
   "outputs": [
    {
     "data": {
      "text/plain": [
       "InstructionProperties(duration=5.333333333333332e-07, error=0.006190706171161048)"
      ]
     },
     "execution_count": 9,
     "metadata": {},
     "output_type": "execute_result"
    }
   ],
   "source": [
    "backend.target[\"ecr\"][(1, 0)]"
   ]
  },
  {
   "cell_type": "markdown",
   "id": "1db6f101-7f4e-4dec-9816-7a03960be988",
   "metadata": {},
   "source": [
    "The following cell shows the properties for a measurement operation (including the readout error) on qubit 0."
   ]
  },
  {
   "cell_type": "code",
   "execution_count": 10,
   "id": "c1125d67-1278-4f00-adaa-32028c0a9610",
   "metadata": {},
   "outputs": [
    {
     "data": {
      "text/plain": [
       "InstructionProperties(duration=1.216e-06, error=0.005615234375)"
      ]
     },
     "execution_count": 10,
     "metadata": {},
     "output_type": "execute_result"
    }
   ],
   "source": [
    "backend.target[\"measure\"][(0,)]"
   ]
  },
  {
   "cell_type": "markdown",
   "id": "c90decc4-501e-47ce-8d6d-8eea3390198f",
   "metadata": {},
   "source": [
    "## Next steps\n",
    "\n",
    "<Admonition type=\"tip\" title=\"Recommendations\">\n",
    "    - Try the [Grover's algorithm](https://learning.quantum.ibm.com/tutorial/grovers-algorithm) tutorial.\n",
    "    - Review the [QiskitRuntime backend API](/docs/api/qiskit-ibm-runtime/qiskit-runtime-service#backend) reference.\n",
    "</Admonition>"
   ]
  }
 ],
 "metadata": {
  "description": "Find and filter available backends, get configuration and calibration data programmatically.",
  "kernelspec": {
   "display_name": "Python 3",
   "language": "python",
   "name": "python3"
  },
  "language_info": {
   "codemirror_mode": {
    "name": "ipython",
    "version": 3
   },
   "file_extension": ".py",
   "mimetype": "text/x-python",
   "name": "python",
   "nbconvert_exporter": "python",
   "pygments_lexer": "ipython3",
   "version": "3"
  },
  "title": "Get backend information with Qiskit"
 },
 "nbformat": 4,
 "nbformat_minor": 4
}
