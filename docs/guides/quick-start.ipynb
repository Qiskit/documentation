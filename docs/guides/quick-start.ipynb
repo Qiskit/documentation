{
 "cells": [
  {
   "cell_type": "markdown",
   "id": "2e2023d1",
   "metadata": {},
   "source": [
    "# Quick start"
   ]
  },
  {
   "cell_type": "markdown",
   "id": "a82fbaaa",
   "metadata": {
    "tags": [
     "version-info"
    ]
   },
   "source": []
  },
  {
   "cell_type": "markdown",
   "id": "7bbbdb4b",
   "metadata": {},
   "source": [
    "Build your first quantum circuit in under two minutes, on your local environment - no sign-in or API key necessary.\n",
    "\n",
    "## 1. Install Qiskit\n",
    "\n",
    "Copy and paste the following into your terminal.\n",
    "\n",
    "```shell\n",
    "pip install qiskit qiskit-aer qiskit[visualization]\n",
    "\n",
    "# On a zsh terminal, use this line instead:\n",
    "# pip install qiskit qiskit-aer 'qiskit[visualization]'\n",
    "```"
   ]
  },
  {
   "cell_type": "markdown",
   "id": "174895e6",
   "metadata": {},
   "source": [
    "You now have installed the Qiskit and Qiskit Aer (local simulation) packages, as well as the Qiskit visualization module."
   ]
  },
  {
   "cell_type": "markdown",
   "id": "c8da788c",
   "metadata": {},
   "source": [
    "## 2. Build your circuit\n",
    "\n",
    "Open a Python environment, then copy and paste these seven lines of code, which builds a Bell state (two entangled qubits) in seven lines of Python.\n",
    "Open a Python environment, then copy and paste these seven lines of code, which builds a Bell state (two entangled qubits)."
   ]
  },
  {
   "cell_type": "code",
   "execution_count": 7,
   "id": "86784142",
   "metadata": {},
   "outputs": [
    {
     "name": "stdout",
     "output_type": "stream",
     "text": [
      "{'11': 526, '00': 498}\n"
     ]
    }
   ],
   "source": [
    "from qiskit import QuantumCircuit, transpile\n",
    "from qiskit_aer import AerSimulator\n",
    "\n",
    "qc = QuantumCircuit(2)\n",
    "qc.h(0)\n",
    "qc.cx(0, 1)\n",
    "qc.measure_all()\n",
    "\n",
    "sim = AerSimulator()\n",
    "result = sim.run(transpile(qc, sim), shots=1024).result()\n",
    "print(result.get_counts())"
   ]
  },
  {
   "cell_type": "markdown",
   "id": "9a3180c2-56d7-4224-91fa-13d8cb87d93d",
   "metadata": {},
   "source": [
    "The expected output is a near-even split between '00' and '11'."
   ]
  },
  {
   "cell_type": "markdown",
   "id": "a110ac90",
   "metadata": {},
   "source": [
    "## Visualize your results\n",
    "\n",
    "To get a histogram of your results, add the following code to your program."
   ]
  },
  {
   "cell_type": "code",
   "execution_count": null,
   "id": "dc4ff012",
   "metadata": {},
   "outputs": [
    {
     "data": {
      "text/plain": [
       "<Image src=\"/docs/images/guides/quick-start/extracted-outputs/dc4ff012-0.avif\" alt=\"Output of the previous code cell\" />"
      ]
     },
     "execution_count": 10,
     "metadata": {},
     "output_type": "execute_result"
    }
   ],
   "source": [
    "from qiskit.visualization import plot_histogram\n",
    "\n",
    "counts = result.get_counts()\n",
    "plot_histogram(counts)\n",
    "# Include the next line if you are not using Python in a Jupyter notebook\n",
    "# plt.show()"
   ]
  },
  {
   "cell_type": "markdown",
   "id": "738d4fc4-29c9-46ab-9879-3365e2149d04",
   "metadata": {},
   "source": [
    "This result is a signature of quantum entanglement.\n",
    "\n",
    "Try changing the code to see how it affects the results. For example, add a third qubit by replacing `qc.cx(0, 1)` with `qc.cx(1, 2)`, or include a bit-flip by adding `qc.x(1)`."
   ]
  },
  {
   "cell_type": "markdown",
   "id": "b6062a16",
   "metadata": {},
   "source": [
    "## Next steps\n",
    "\n",
    "<Admonition type=\"tip\" title=\"Recommendations\">\n",
    "- Run a circuit on real quantum hardware in the [Hello world](/docs/tutorials/hello-world) tutorial.\n",
    "- Browse the [IBM Quantum Platform documentation](/docs).\n",
    "- Learn how to apply quantum computing to common use cases in [tutorials.](/docs/tutorials)\n",
    "</Admonition>"
   ]
  }
 ],
 "metadata": {
  "description": "Build and visualize a quantum circuit in under two minutes, no sign-in or API key necessary.",
  "kernelspec": {
   "display_name": "Python 3",
   "language": "python",
   "name": "python3"
  },
  "language_info": {
   "codemirror_mode": {
    "name": "ipython",
    "version": 3
   },
   "file_extension": ".py",
   "mimetype": "text/x-python",
   "name": "python",
   "nbconvert_exporter": "python",
   "pygments_lexer": "ipython3",
   "version": "3"
  },
  "title": "Quick start"
 },
 "nbformat": 4,
 "nbformat_minor": 5
}
