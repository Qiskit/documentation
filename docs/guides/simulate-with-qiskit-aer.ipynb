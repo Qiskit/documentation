{
 "cells": [
  {
   "cell_type": "markdown",
   "id": "4a4b88ed-d21f-4056-9264-0ee8c8ec4b39",
   "metadata": {},
   "source": [
    "# Exact and noisy simulation with Qiskit Aer primitives"
   ]
  },
  {
   "cell_type": "markdown",
   "id": "678b9055-9164-417c-9897-9fde615b97ae",
   "metadata": {
    "tags": [
     "version-info"
    ]
   },
   "source": [
    "<details>\n",
    "<summary><b>Package versions</b></summary>\n",
    "\n",
    "The code on this page was developed using the following requirements.\n",
    "We recommend using these versions or newer.\n",
    "\n",
    "```\n",
    "qiskit[all]~=2.0.0\n",
    "qiskit-aer~=0.17\n",
    "```\n",
    "</details>"
   ]
  },
  {
   "cell_type": "markdown",
   "id": "6a0ae8b1-b413-44ac-9267-fd36345a02df",
   "metadata": {},
   "source": [
    "[Exact simulation with Qiskit primitives](./simulate-with-qiskit-sdk-primitives) demonstrates how to use the reference primitives included with Qiskit to perform exact simulation of quantum circuits. Currently existing quantum processors suffer from errors, or noise, so the results of an exact simulation do not necessarily reflect the results you would expect when running circuits on real hardware. While the reference primitives in Qiskit do not support modeling noise, [Qiskit Aer](https://qiskit.org/ecosystem/aer/) includes implementations of the primitives that do support modeling noise. Qiskit Aer is a high-performance quantum circuit simulator that you can use in place of the reference primitives for better performance and more features. It is part of the [Qiskit Ecosystem](https://qiskit.github.io/ecosystem/). In this article, we demonstrate the use of Qiskit Aer primitives for exact and noisy simulation.\n",
    "\n",
    "<Admonition type=\"note\" title=\"Notes\">\n",
    "- `qiskit-aer` 0.14 or later is required.\n",
    "- While Qiskit Aer primitives implement the primitive interfaces, they do not provide the same options as Qiskit Runtime primitives. Resilience level, for example, is not available with Qiskit Aer primitives.\n",
    "</Admonition>\n",
    "\n",
    "To explore exact and noisy simulation, create an example circuit on eight qubits:"
   ]
  },
  {
   "cell_type": "code",
   "execution_count": 1,
   "id": "df70b5fd-971d-4e7d-a23a-8df037c0fa47",
   "metadata": {},
   "outputs": [
    {
     "data": {
      "text/plain": [
       "<Image src=\"/docs/images/guides/simulate-with-qiskit-aer/extracted-outputs/df70b5fd-971d-4e7d-a23a-8df037c0fa47-0.svg\" alt=\"Output of the previous code cell\" />"
      ]
     },
     "execution_count": 1,
     "metadata": {},
     "output_type": "execute_result"
    }
   ],
   "source": [
    "from qiskit.circuit.library import efficient_su2\n",
    "\n",
    "n_qubits = 8\n",
    "circuit = efficient_su2(n_qubits)\n",
    "circuit.draw(\"mpl\")"
   ]
  },
  {
   "cell_type": "markdown",
   "id": "2074eaf0-746e-4a36-91d9-db9228f96a0d",
   "metadata": {},
   "source": [
    "This circuit contains parameters to represent the rotation angles for $R_y$ and $R_z$ gates. When simulating this circuit, we need to specify explicit values for these parameters. In the next cell, we specify some values for these parameters and use the Estimator primitive from Qiskit Aer to compute the exact expectation value of the observable $ZZ \\cdots Z$."
   ]
  },
  {
   "cell_type": "code",
   "execution_count": 2,
   "id": "40270ca7-1084-4329-aac5-28c87edc3791",
   "metadata": {},
   "outputs": [
    {
     "data": {
      "text/plain": [
       "0.8870140234256602"
      ]
     },
     "execution_count": 2,
     "metadata": {},
     "output_type": "execute_result"
    }
   ],
   "source": [
    "from qiskit.quantum_info import SparsePauliOp\n",
    "from qiskit.transpiler import generate_preset_pass_manager\n",
    "from qiskit_aer import AerSimulator\n",
    "from qiskit_aer.primitives import EstimatorV2 as Estimator\n",
    "\n",
    "observable = SparsePauliOp(\"Z\" * n_qubits)\n",
    "params = [0.1] * circuit.num_parameters\n",
    "\n",
    "exact_estimator = Estimator()\n",
    "# The circuit needs to be transpiled to the AerSimulator target\n",
    "pass_manager = generate_preset_pass_manager(3, AerSimulator())\n",
    "isa_circuit = pass_manager.run(circuit)\n",
    "pub = (isa_circuit, observable, params)\n",
    "job = exact_estimator.run([pub])\n",
    "result = job.result()\n",
    "pub_result = result[0]\n",
    "exact_value = float(pub_result.data.evs)\n",
    "exact_value"
   ]
  },
  {
   "cell_type": "markdown",
   "id": "134d97a2-8420-4931-85b4-324679655e24",
   "metadata": {},
   "source": [
    "Now, let's initialize a noise model that includes depolarizing error of 2% on every CX gate. In practice, the error arising from the two-qubit gates, which are CX gates here, are the dominant source of error when running a circuit. See [Build noise models](./build-noise-models) for an overview of constructing noise models in Qiskit Aer.\n",
    "\n",
    "In the next cell, we construct an Estimator that incorporates this noise model and use it to compute the expectation value of the observable."
   ]
  },
  {
   "cell_type": "code",
   "execution_count": 3,
   "id": "82b2f19a-ba10-46a2-ba1b-89cd27bc0e63",
   "metadata": {},
   "outputs": [
    {
     "data": {
      "text/plain": [
       "0.7247404214143528"
      ]
     },
     "execution_count": 3,
     "metadata": {},
     "output_type": "execute_result"
    }
   ],
   "source": [
    "from qiskit_aer.noise import NoiseModel, depolarizing_error\n",
    "\n",
    "noise_model = NoiseModel()\n",
    "cx_depolarizing_prob = 0.02\n",
    "noise_model.add_all_qubit_quantum_error(\n",
    "    depolarizing_error(cx_depolarizing_prob, 2), [\"cx\"]\n",
    ")\n",
    "\n",
    "noisy_estimator = Estimator(\n",
    "    options=dict(backend_options=dict(noise_model=noise_model))\n",
    ")\n",
    "job = noisy_estimator.run([pub])\n",
    "result = job.result()\n",
    "pub_result = result[0]\n",
    "noisy_value = float(pub_result.data.evs)\n",
    "noisy_value"
   ]
  },
  {
   "cell_type": "markdown",
   "id": "6495f179-3fe6-4971-b023-700b8b2c8cbb",
   "metadata": {},
   "source": [
    "As you can see, the expectation value in the presence of the noise is quite far from the correct value. In practice, you can employ a variety of error mitigation techniques to counter the effects of the noise, but a discussion of these techniques is outside the scope of this article.\n",
    "\n",
    "To get a very rough sense of how the noise affects the final result, consider our noise model, which adds a depolarizing error of 2% to each CX gate. Depolarizing error with probability $p$ is defined as a quantum channel $E$ that has the following action on a density matrix $\\rho$:\n",
    "\n",
    "$$\n",
    "E(\\rho) = (1 - p) \\rho + p\\frac{I}{2^n}\n",
    "$$\n",
    "\n",
    "where $n$ is the number of qubits, in this case, 2. That is, with probability $p$, the state is replaced with the completely mixed state, and the state is preserved with probability $1 - p$. After $m$ applications of the depolarizing channel, the probability of the state being preserved would be $(1 - p)^m$. Therefore, we expect the probability of retaining the correct state at the end of the simulation to go down exponentially with the number of CX gates in our circuit.\n",
    "\n",
    "Let's count the number of CX gates in our circuit and compute $(1 - p)^m$. We call `count_ops` to get a dictionary that maps gate names to counts, and retrieve the entry for the CX gate."
   ]
  },
  {
   "cell_type": "code",
   "execution_count": 4,
   "id": "3c20f7bc-203a-4f40-bb84-7cf3d231d66e",
   "metadata": {},
   "outputs": [
    {
     "data": {
      "text/plain": [
       "0.6542558123199923"
      ]
     },
     "execution_count": 4,
     "metadata": {},
     "output_type": "execute_result"
    }
   ],
   "source": [
    "cx_count = circuit.count_ops()[\"cx\"]\n",
    "(1 - cx_depolarizing_prob) ** cx_count"
   ]
  },
  {
   "cell_type": "markdown",
   "id": "ef506e15-7480-46ba-bce7-aa8f2fa78377",
   "metadata": {},
   "source": [
    "This value, 65%, gives a rough estimate of the probability that our final state is correct. It is a conservative estimate because it does not take into account the initial state of the simulation.\n",
    "\n",
    "The following code cell shows how to use the Sampler primitive from Qiskit Aer to sample from the noisy circuit. We need to add measurements to the circuit before running it with the Sampler primitive."
   ]
  },
  {
   "cell_type": "code",
   "execution_count": 5,
   "id": "76c43aee-d559-4e5b-8228-e5bba3b4499c",
   "metadata": {},
   "outputs": [
    {
     "data": {
      "text/plain": [
       "{'01010000': 1,\n",
       " '00000000': 65,\n",
       " '00000110': 2,\n",
       " '00000010': 3,\n",
       " '01000000': 3,\n",
       " '11000000': 3,\n",
       " '00001100': 4,\n",
       " '10000000': 3,\n",
       " '00101000': 2,\n",
       " '00010100': 1,\n",
       " '00000101': 2,\n",
       " '00000100': 1,\n",
       " '00111100': 1,\n",
       " '00010101': 1,\n",
       " '10100000': 1,\n",
       " '10000110': 1,\n",
       " '11000101': 1,\n",
       " '00001000': 1,\n",
       " '01101100': 1,\n",
       " '00010000': 1,\n",
       " '01001110': 1,\n",
       " '00000011': 1}"
      ]
     },
     "execution_count": 5,
     "metadata": {},
     "output_type": "execute_result"
    }
   ],
   "source": [
    "from qiskit_aer.primitives import SamplerV2 as Sampler\n",
    "\n",
    "measured_circuit = circuit.copy()\n",
    "measured_circuit.measure_all()\n",
    "\n",
    "noisy_sampler = Sampler(\n",
    "    options=dict(backend_options=dict(noise_model=noise_model))\n",
    ")\n",
    "# The circuit needs to be transpiled to the AerSimulator target\n",
    "pass_manager = generate_preset_pass_manager(3, AerSimulator())\n",
    "isa_circuit = pass_manager.run(measured_circuit)\n",
    "pub = (isa_circuit, params, 100)\n",
    "job = noisy_sampler.run([pub])\n",
    "result = job.result()\n",
    "pub_result = result[0]\n",
    "pub_result.data.meas.get_counts()"
   ]
  },
  {
   "cell_type": "markdown",
   "id": "46a8c6b7-3f7c-48e4-9b73-b04a5458ba33",
   "metadata": {},
   "source": [
    "## Next steps\n",
    "\n",
    "<Admonition type=\"tip\" title=\"Recommendations\">\n",
    "  - To simulate small, simple circuits, see [Exact simulation with Qiskit primitives](./simulate-with-qiskit-sdk-primitives).\n",
    "  - Review the [Qiskit Aer](https://qiskit.org/ecosystem/aer/) documentation.\n",
    "  - Learn how to run on a quantum processor in the [Execute on hardware](./execute-on-hardware) step of the Qiskit patterns workflow.\n",
    "</Admonition>"
   ]
  }
 ],
 "metadata": {
  "description": "Learn how to do exact and noisy simulation of quantum programs with Qiskit Aer primitives",
  "kernelspec": {
   "display_name": "Python 3",
   "language": "python",
   "name": "python3"
  },
  "language_info": {
   "codemirror_mode": {
    "name": "ipython",
    "version": 3
   },
   "file_extension": ".py",
   "mimetype": "text/x-python",
   "name": "python",
   "nbconvert_exporter": "python",
   "pygments_lexer": "ipython3",
   "version": "3"
  },
  "title": "Exact and noisy simulation with Qiskit Aer primitives"
 },
 "nbformat": 4,
 "nbformat_minor": 4
}
