{
 "cells": [
  {
   "cell_type": "markdown",
   "id": "dde95705",
   "metadata": {},
   "source": [
    "# QESEM: A Qiskit Function by Qedma\n",
    "\n",
    "<Admonition type=\"note\">\n",
    "Qiskit Functions are an experimental feature available only to IBM Quantum&trade; Premium Plan users. They are in preview release status and subject to change.\n",
    "</Admonition>\n",
    "\n",
    "## Overview\n",
    "\n",
    "While quantum processing units have vastly improved in recent years, errors due to noise and imperfections in existing hardware remain a central challenge for quantum algorithm developers. As the field approaches utility-scale quantum computations that cannot be verified classically, solutions for canceling noise with guaranteed accuracy are becoming increasingly important. To overcome this challenge, Qedma has developed Quantum Error Suppression and Error Mitigation (QESEM), seamlessly integrated on IBM Quantum Platform as a [Qiskit Function](/guides/functions).\n",
    "\n",
    "With QESEM, users can run their quantum circuits on noisy QPUs to obtain highly accurate error-free results with highly efficient QPU-time overheads, close to fundamental bounds. To achieve this, QESEM leverages a suite of propriety methods developed by Qedma, for the characterization and reduction of errors. Error reduction techniques include gate optimization, noise-aware transpilation, error suppression (ES), and unbiased error mitigation (EM). With this combination of these characterization-based methods, users can achieve reliable, error-free results for generic large-volume quantum circuits, unlocking applications that cannot be accomplished otherwise."
   ]
  },
  {
   "cell_type": "markdown",
   "id": "5f761442",
   "metadata": {},
   "source": [
    "## Description\n",
    "\n",
    "You can use the QESEM function by Qedma to easily estimate and execute your circuits with error suppression and mitigation, achieving larger circuit volumes and higher accuracies. To use QESEM, you provide a quantum circuit, a set of observables to measure, a target statistical accuracy for each observable, and a chosen QPU. Before you run the circuit to the target accuracy, you can estimate the required QPU time based on an analytical calculation that does not require circuit execution. Once you are satisfied with the QPU time estimation, you can execute the circuit with QESEM.\n",
    "\n",
    "When you execute a circuit, QESEM runs a device characterization protocol tailored to your circuit, yielding a reliable noise model for the errors occurring in the circuit. Based on the characterization, QESEM first implements noise-aware transpilation to map the input circuit onto a set of physical qubits and gates, which minimizes the noise affecting the target observable. These include the natively available gates (CX/CZ on IBM&reg; devices), as well as additional gates optimized by QESEM, forming QESEM’s extended gate set. QESEM then runs a set of characterization-based ES and EM circuits on the QPU and collects their measurement outcomes. These are then classically post-processed to provide an unbiased expectation value and an error bar for each observable, corresponding to the requested accuracy.\n",
    "\n",
    "![Qedma QESEM overview](/images/guides/qedma-qesem/overview.svg)"
   ]
  },
  {
   "cell_type": "markdown",
   "id": "74823696",
   "metadata": {},
   "source": [
    "## Unique error mitigation features\n",
    "QESEM has been demonstrated to provide high-accuracy results for a variety of quantum applications and on the largest circuit volumes achievable today. QESEM offers the following user-facing features, demonstrated in the benchmarks section below:\n",
    "1.\t**Guaranteed accuracy:** QESEM outputs unbiased estimations for expectation values of observables. Its EM method is equipped with theoretical guarantees, which - together with Qedma’s cutting-edge characterization - ensure the mitigation converges to the noiseless circuit output up to the user-specified accuracy. In contrast to many heuristic EM methods that are prone to systematic errors or biases, QESEM’s guaranteed accuracy is essential for ensuring reliable results in generic quantum circuits and observables.\n",
    "2.\t**Scalability to large QPUs:** QESEM’s QPU time depends on circuit volumes, but is otherwise independent of the number of qubits. Qedma has demonstrated QESEM on the largest quantum devices available today, including the IBM Quantum 127-qubit Eagle and 133-qubit Heron devices.\n",
    "3.\t**Application-agnostic:** QESEM has been demonstrated on a variety of applications, including Hamiltonian simulation, VQE, QAOA, and amplitude estimation. Users can input any quantum circuit and observable to be measured, and obtain accurate error-free results. The only limitations are dictated by the hardware specifications and allocated QPU time, which determine the accessible circuit volumes and output accuracies. In contrast, many error reduction solutions are application-specific or involve uncontrolled heuristics, rendering them inapplicable for generic quantum circuits and applications.\n",
    "4.  **Extended gate set:** QESEM supports fractional-angle gates, and provides Qedma-optimized fractional-angle $Rzz(\\theta)$ gates on IBM Quantum Eagle devices. This extended gate set enables more efficient compilation and unlocks circuit volumes larger by a factor of up to 2 compared to default CX/CZ compilation.\n",
    "5.\t**Multibase observables:** QESEM supports input observables composed of many non-commuting Pauli strings, such as generic Hamiltonians. The choice of measurement bases and the optimization of QPU resource allocation (shots and circuits) is then performed automatically by QESEM to minimize the required QPU time for the requested accuracy. This optimization, which takes into account hardware fidelities and execution rates, enables you to run deeper circuits and obtain higher accuracies."
   ]
  },
  {
   "cell_type": "markdown",
   "id": "8b901258",
   "metadata": {},
   "source": [
    "## Function parameters\n",
    "\n",
    "| Name |  Type | Description | Required | Default |  Example |\n",
    "| -----| ------| ------------| -------- | ------- | -------- |\n",
    "| `instance` | str|  The hub/group/project to use in that format |  No |  N/A | “hub1/group1/project1”  |\n",
    "| `action` | str | The required action: \"estimate_qpu_time\" or \"execute\" |  Yes  | N/A | \"execute\" |\n",
    "| `pubs` | Iterable[EstimatorPubLike] | A pub-like object in the form of (circuit, observables) |  Yes|  N/A |  (circ1, [obs1,obs2,obs3])  |\n",
    "| `precision` | float | The target precision for expectation value estimates of each observable |  Yes|  N/A |  0.03  |\n",
    "| `run_options` | dict | Includes the name of the backend to run on | Yes | N/A  |  `{ backend_name = \"ibm_fez\" }`  |\n",
    "| `custom_options` |dict |  Advanced features: `transpilation_level` and `max_qpu_time` (in seconds)|  No  | `max_qpu_time` = 14400 , `transpilation_level`= 1  | `{ max_qpu_time = 14400, transpilation_level = 0 }` |"
   ]
  },
  {
   "cell_type": "markdown",
   "id": "73390a19",
   "metadata": {},
   "source": [
    "## Get started\n",
    "\n",
    "Authenticate using your [IBM Quantum Platform API token](http://quantum.ibm.com/), and select the Qiskit Function as follows:"
   ]
  },
  {
   "cell_type": "code",
   "execution_count": null,
   "id": "95a715d2",
   "metadata": {},
   "outputs": [],
   "source": [
    "from qiskit_ibm_catalog import QiskitFunctionsCatalog\n",
    "\n",
    "catalog = QiskitFunctionsCatalog(token=\"<YOUR_IQP_API_TOKEN>\")\n",
    "\n",
    "qesem_function  = catalog.load('qedma/qesem')"
   ]
  },
  {
   "cell_type": "markdown",
   "id": "e8837f5f",
   "metadata": {},
   "source": [
    "## Example\n",
    "\n",
    "The QESEM function must get the following parameters to be executed:\n",
    "- action\n",
    "- pubs (circuit, observables)\n",
    "- precision\n",
    "- run_options\n",
    "\n",
    "\n",
    "To get started, try the basic example of estimating QPU time:"
   ]
  },
  {
   "cell_type": "code",
   "execution_count": null,
   "id": "d56e1440",
   "metadata": {},
   "outputs": [],
   "source": [
    "job = qesem_function.run(\n",
    "    action = \"estimate_qpu_time\",\n",
    "    instance = \"hub/group/project\",\n",
    "    pubs = [\n",
    "        (\n",
    "            circ,\n",
    "            [obs1,obs2,obs3]\n",
    "        )\n",
    "    ],\n",
    "    precision = 0.03,\n",
    "    run_options = {\n",
    "        \"backend_name\": \"ibm_brisbane\",\n",
    "    }\n",
    ")"
   ]
  },
  {
   "cell_type": "markdown",
   "id": "2e5869f3",
   "metadata": {},
   "source": [
    "The following example executes a QESEM job:"
   ]
  },
  {
   "cell_type": "code",
   "execution_count": null,
   "id": "e7351d6b",
   "metadata": {},
   "outputs": [],
   "source": [
    "job = qesem_function.run(\n",
    "    action = \"execute\",\n",
    "    instance = \"hub/group/project\",\n",
    "    pubs = [\n",
    "        (\n",
    "            circ,\n",
    "            [obs1,obs2,obs3]\n",
    "        )\n",
    "    ],\n",
    "    precision = 0.03,\n",
    "    run_options = {\n",
    "        \"backend_name\": \"ibm_brisbane\",\n",
    "    }\n",
    ")"
   ]
  },
  {
   "cell_type": "markdown",
   "id": "399b0deb",
   "metadata": {},
   "source": [
    "<Admonition type=\"note\">\n",
    "- The `precision` parameter signifies the acceptable error on the expectation values of the observables in absolute value.  Namely, the QPU runtime for mitigation will be determined to provide output values for all the observables of interest that fall within a `1σ` confidence interval of the target precision. If multiple observables are provided, the mitigation will run until the target precision is reached for each of the input observables.\n",
    "\n",
    "- Currently QESEM supports a single `PUB`.\n",
    "</Admonition>"
   ]
  },
  {
   "cell_type": "markdown",
   "id": "03998691",
   "metadata": {},
   "source": [
    "You can use the familiar Qiskit Serverless APIs to check your Qiskit Function workload's status or return results:"
   ]
  },
  {
   "cell_type": "code",
   "execution_count": null,
   "id": "856fe992",
   "metadata": {},
   "outputs": [],
   "source": [
    "print(job.status())\n",
    "result = job.result()"
   ]
  },
  {
   "cell_type": "markdown",
   "id": "e2817b13",
   "metadata": {},
   "source": [
    "## Custom options\n",
    "\n",
    "Provide the `custom_options` parameter to set additional advanced features for the QESEM function:"
   ]
  },
  {
   "cell_type": "code",
   "execution_count": null,
   "id": "c2ce65e3",
   "metadata": {},
   "outputs": [],
   "source": [
    "# example execute QESEM job\n",
    "job = qesem_function.run(\n",
    "    action = \"execute\",\n",
    "    instance = \"hub/group/project\",\n",
    "    pubs = [\n",
    "        (\n",
    "            bell,\n",
    "            [obs1,obs2,obs3]\n",
    "        )\n",
    "    ],\n",
    "    precision = 0.03,\n",
    "    run_options = {\n",
    "        \"backend_name\": \"ibm_brisbane\",\n",
    "    },\n",
    "    custom_options = {\n",
    "        \"max_qpu_time\": 14400,\n",
    "        \"transpilation_level\": 0\n",
    "    }\n",
    ")"
   ]
  },
  {
   "cell_type": "markdown",
   "id": "bcd50b21",
   "metadata": {},
   "source": [
    "`max_qpu_time`: Allows you to limit the QPU time, specified in seconds, to be used for the entire QESEM process. Since the final QPU time required to reach the target accuracy is determined dynamically during the QESEM job, this parameter enables you to limit the cost of the experiment. If the dynamically-determined QPU time is shorter than the time allocated by the user, this parameter will not affect the experiment. The `max_qpu_time` parameter is particularly useful in cases where the analytical time estimate provided by QESEM before the job starts is too pessimistic and the user wants to initiate a mitigation job anyway. After the time limit it reached, QESEM stops sending new circuits. Circuits that have already been sent continue running (so the total time may surpass the limit by up to 30 minutes), and the user receives the processed results from the circuits that ran up to that point. If you want to apply a QPU time limit shorter than the analytical time estimate, consult with Qedma to obtain an estimate for the accuracy achievable within the time limit.\n",
    "\n",
    "\n",
    "`transpilation_level`: After a circuit is submitted to QESEM, it automatically prepares several alternative circuit transpilations and chooses the one that minimizes QPU time. For instance, alternative transpilations might utilize Qedma-optimized fractional RZZ gates to reduce the circuit depth. Of course, all transpilations are equivalent to the input circuit, in terms of their ideal output.\n",
    "\n",
    "To exert more control over the circuit transpilation, set the transpilation level in the `QesemOptions`. While ‘level 1’ corresponds to the default behavior described above, ‘level 0’ includes only minimal modifications required for high-accuracy output; for example, ‘layerification’ - the organization of circuit operations into ‘layers’ of simultaneous two-qubit gates. Note that automatic hardware-mapping onto high-fidelity qubits is applied in any case.\n",
    "\n",
    "| `transpilation_level` | description |\n",
    "|:-:|:--|\n",
    "| `1` | Default QESEM transpilation. Prepares several alternative transpilations and chooses the one that minimizes QPU time. Barriers may be modified in the layerification step. |\n",
    "| `0` | Minimal transpilation: the mitigated circuit will closely resemble the input circuit structurally. Circuits provided in level 0 should match the device connectivity and should be specified in terms of the following gates: CX, Rzz(α), and standard single-qubit gates (U, x, sx, rz, etc). Barriers will be respected in the layerification step. |\n",
    "\n",
    "<Admonition type=\"note\">\n",
    "Qiskit barriers are typically used to specify the layers of two-qubit gates in quantum circuits. In level 0, QESEM preserves the layers specified by the barriers. In level 1, the layers specified by the barriers are considered as one transpilation alternative when minimizing QPU time.\n",
    "</Admonition>"
   ]
  },
  {
   "cell_type": "markdown",
   "id": "895db40f",
   "metadata": {},
   "source": [
    "## Benchmarks\n",
    "\n",
    "QESEM has been tested on a wide variety of use cases and applications. The following examples can assist you with assessing which types of workloads you can run with QESEM.\n",
    "\n",
    "A key figure of merit for quantifying the hardness of both error mitigation and classical simulation for a given circuit and observable is **active volume**: the number of CNOT gates affecting the observable in the circuit. The active volume depends on the circuit depth and width, on the observable weight, and on the circuit structure, which determines the lightcone of the observable. For further details, see the talk from the [2024 IBM Quantum Summit](https://www.youtube.com/watch?v=Hd-IGvuARfE&t=1730s). QESEM provides particularly large value in the high-volume regime, giving reliable results for generic circuits and observables.\n",
    "\n",
    "![Active volume](/images/guides/qedma-qesem/active_volume.svg)\n",
    "\n",
    "\n",
    "| Application    | Number of qubits | Device | Circuit description | Accuracy | Total time | Runtime usage |\n",
    "| ---------  | ---------------- | ----- | -------------------------- | -------- | ---------- | ------------- |\n",
    "| VQE circuit  | 8              | Eagle (r3) | 21 total layers, 9 measurement bases, 1D chain                    | 98%      | 35 min      | 14 min         |\n",
    "| Kicked Ising   | 28              | Eagle (r3) | 3 unique layers x 3 steps, 2D heavy-hex topology                      | 97%     | 22 min      | 4 min          |\n",
    "| Kicked Ising   | 28              | Eagle (r3) | 3 unique layers x 8 steps, 2D heavy-hex topology                     | 97%      | 116 min      | 23 min          |\n",
    "| Trotterized Hamiltonian simulation   | 40  | Eagle (r3)            | 2 unique layers x 10 Trotter steps, 1D chain                    | 97%      | 3 hours     | 25 min         |\n",
    "| Trotterized Hamiltonian simulation   | 119  | Eagle (r3)           | 3 unique layers x 9 Trotter steps, 2D heavy-hex topology                    | 95%      | 6.5 hours     | 45 min         |\n",
    "| Kicked Ising  | 136             | Heron (r2) | 3 unique layers x 15 steps, 2D heavy-hex topology                    | 99%      | 52 min             | 9 min           |\n",
    "\n",
    "Accuracy is measured here relative to the ideal value of the observable: $\\frac{\\langle O \\rangle_{ideal} - \\epsilon}{\\langle O \\rangle_{ideal}}$, where '$\\epsilon$' is the absolute precision of the mitigation (set by the user input), and $\\langle O \\rangle_{ideal}$ is the observable at the noiseless circuit.\n",
    "'Runtime usage' measures the usage of the benchmark in batch mode (sum over usage of individual jobs), whereas 'total time' measures usage in session mode (experiment wall time), which includes additional classical and communication times. QESEM is available for execution in both modes, so that users can make the best use of their available resources.\n",
    "\n",
    "The 28-qubit Kicked Ising circuits simulate the Discrete Time Quasicrystal studied by Shinjo et al. (see [arXiv 2403.16718](https://arxiv.org/abs/2403.16718) and [Q2B24 Tokyo](https://www.youtube.com/watch?v=tQW6FdLc6zo)) on three connected loops of ibm_kawasaki. The circuit parameters taken here are $(\\theta_x, \\theta_z) = (0.9 \\pi, 0)$, with a ferromagnetic initial state $| \\psi_0 \\rangle = | 0 \\rangle ^{\\otimes n}$. The measured observable is the absolute value of the magnetization $M = |\\frac{1}{28} \\sum_{i=0}^{27} \\langle Z_i \\rangle|$. The utility-scale Kicked Ising experiment was run on the 136 best qubits of ibm_fez; this particular benchmark was run at the Clifford angle $(\\theta_x, \\theta_z) = (\\pi, 0)$, at which the active volume grows slowly with circuit depth, which - together with the high device fidelities - enables high accuracy at a short runtime.\n",
    "\n",
    "Trotterized Hamiltonian simulation circuits are for a Transverse-Field Ising model at fractional angles: $(\\theta_{zz}, \\theta_x) = (\\pi / 4, \\pi /8)$ and $(\\theta_{zz}, \\theta_x) = (\\pi / 6, \\pi / 8)$ correspondingly (see [Q2B24 Tokyo](https://www.youtube.com/watch?v=tQW6FdLc6zo)). The utility-scale circuit was run on the 119 best qubits of ibm_brisbane, whereas the 40-qubit experiment was run on the best available chain. The accuracy is reported for the magnetization; high-accuracy results were obtained for higher-weight observables as well.\n",
    "\n",
    "The VQE circuit was developed together with researchers from the Center for Quantum Technology and Applications at the Deutsches Elektronen-Synchrotron (DESY). The target observable here was a Hamiltonian consisting of a large number of non-commuting Pauli strings, emphasizing QESEM's optimized performance for multi-basis observables. Mitigation was applied to a classically-optimized ansatz; although these results are still unpublished, results of the same quality will be obtained for different circuits with similar structural properties."
   ]
  },
  {
   "cell_type": "markdown",
   "id": "e9ec2e67",
   "metadata": {},
   "source": [
    "## Get support\n",
    "\n",
    "The Qedma support team is here to help! If you encounter any issues or have questions about using the QESEM Qiskit Function, please don't hesitate to reach out. Our knowledgeable and friendly support staff are ready to assist you with any technical concerns or inquiries you may have.\n",
    "\n",
    "You can email us at support@qedma.com for assistance. Please include as much detail as possible about the issue you're experiencing to help us provide a swift and accurate response. You can also contact your dedicated Qedma POC representative via email or phone.\n",
    "\n",
    "To help us assist you more efficiently, please provide the following information when you contact us:\n",
    "\n",
    "- A detailed description of the issue\n",
    "- Any relevant error messages or codes\n",
    "- Steps to reproduce the issue\n",
    "- Your contact information\n",
    "\n",
    "\n",
    "We are committed to providing you with prompt and effective support to ensure you have the best possible experience with our API.\n",
    "\n",
    "We are always looking to improve our product and we welcome your suggestions! If you have ideas on how we can enhance our services or features you'd like to see, please send us your thoughts to support@qedma.com"
   ]
  },
  {
   "cell_type": "markdown",
   "id": "5a6a25c8",
   "metadata": {},
   "source": [
    "## Next steps\n",
    "\n",
    "<Admonition type=\"tip\" title=\"Recommendations\">\n",
    "\n",
    "- [Request access to Qedma QESEM](https://quantum.ibm.com/functions?id=7636f111-b7b8-4a00-b22d-5fcc5c5cb3d0)\n",
    "\n",
    "</Admonition>"
   ]
  }
 ],
 "metadata": {
  "description": "Run quantum circuits on noisy QPUs to obtain highly accurate error-free results with highly efficient QPU-time overheads, close to fundamental bounds.",
  "kernelspec": {
   "display_name": "Python 3",
   "language": "python",
   "name": "python3"
  },
  "language_info": {
   "codemirror_mode": {
    "name": "ipython",
    "version": 3
   },
   "file_extension": ".py",
   "mimetype": "text/x-python",
   "name": "python",
   "nbconvert_exporter": "python",
   "pygments_lexer": "ipython3",
   "version": "3"
  },
  "title": "QESEM - A Qiskit Function by Qedma"
 },
 "nbformat": 4,
 "nbformat_minor": 5
}
