{
 "cells": [
  {
   "cell_type": "markdown",
   "id": "3b140909-ace6-4665-a0bf-f3bb9bd094c0",
   "metadata": {},
   "source": [
    "# Exact simulation with Qiskit SDK primitives"
   ]
  },
  {
   "cell_type": "markdown",
   "id": "26c2809e-c8b4-4e25-996e-c41f72723b1b",
   "metadata": {
    "tags": [
     "version-info"
    ]
   },
   "source": [
    "<details>\n",
    "<summary><b>Package versions</b></summary>\n",
    "\n",
    "The code on this page was developed using the following requirements.\n",
    "We recommend using these versions or newer.\n",
    "\n",
    "```\n",
    "qiskit[all]~=2.1.0rc1\n",
    "```\n",
    "</details>"
   ]
  },
  {
   "cell_type": "markdown",
   "id": "867f73c6-dd57-4755-9bbd-55ffffe7e09e",
   "metadata": {},
   "source": [
    "The reference primitives in the Qiskit SDK perform local statevector simulations. These simulations do not support\n",
    "modeling device noise, but are useful for quickly prototyping algorithms before looking into more advanced simulation\n",
    "techniques ([using Qiskit Aer](./simulate-stabilizer-circuits)) or running on real devices ([Qiskit Runtime primitives](primitives)).\n",
    "\n",
    "The Estimator primitive can compute expectation values of circuits, and the Sampler primitive can sample\n",
    "from output distributions of circuits.\n",
    "\n",
    "The following sections show how to use the reference primitives to run your workflow locally.\n",
    "\n",
    "## Use the reference Estimator\n",
    "\n",
    "The reference implementation of `EstimatorV2` in `qiskit.primitives` that runs on a local statevector\n",
    "simulators is the [`StatevectorEstimator`](../api/qiskit/qiskit.primitives.StatevectorEstimator) class. It can take circuits, observables, and parameters as inputs and returns the locally computed expectation values.\n",
    "\n",
    "The following code prepares the inputs that will be used in the examples that follow. The expected input type for the\n",
    "observables is [`qiskit.quantum_info.SparsePauliOp`](../api/qiskit/qiskit.quantum_info.SparsePauliOp). Note that\n",
    "the circuit in the example is parametrized, but you can also run the Estimator on non-parametrized circuits.\n",
    "\n",
    "<Admonition type=\"note\">\n",
    "  Any circuit passed to an Estimator must **not** include any **measurements**.\n",
    "</Admonition>"
   ]
  },
  {
   "cell_type": "code",
   "execution_count": 1,
   "id": "5b41a52d-8f15-4ce4-b3f6-effd91946d9c",
   "metadata": {},
   "outputs": [
    {
     "data": {
      "image/svg+xml": [
       "<?xml version=\"1.0\" encoding=\"UTF-8\"?><!DOCTYPE svg  PUBLIC '-//W3C//DTD SVG 1.1//EN'  'http://www.w3.org/Graphics/SVG/1.1/DTD/svg11.dtd'><svg width=\"220.03pt\" height=\"125.65pt\" version=\"1.1\" viewBox=\"0 0 220.03 125.65\" xmlns=\"http://www.w3.org/2000/svg\" xmlns:xlink=\"http://www.w3.org/1999/xlink\"><defs><style type=\"text/css\">*{stroke-linejoin: round; stroke-linecap: butt}</style></defs><path d=\"m0 125.65h220.03v-125.65h-220.03z\" fill=\"#ffffff\"/><path d=\"m64.497 44.283h143.7\" clip-path=\"url(#3b79b96a44b)\" fill=\"none\" stroke=\"#000000\" stroke-linecap=\"square\" stroke-width=\"2\"/><path d=\"m64.497 90.637h143.7\" clip-path=\"url(#3b79b96a44b)\" fill=\"none\" stroke=\"#000000\" stroke-linecap=\"square\" stroke-width=\"2\"/><path d=\"m59.862 21.106h-1158.8v139.06h1158.8z\" clip-path=\"url(#3b79b96a44b)\" fill=\"#ffffff\" stroke=\"#ffffff\" stroke-width=\"1.5\"/><path d=\"m182.24 90.637v-46.354\" clip-path=\"url(#3b79b96a44b)\" fill=\"none\" stroke=\"#002d9c\" stroke-linecap=\"square\" stroke-width=\"2\"/><path d=\"m74.463 59.348h30.13v-30.13h-30.13z\" clip-path=\"url(#3b79b96a44b)\" fill=\"#9f1853\" stroke=\"#9f1853\" stroke-width=\"1.5\"/><path d=\"m120.82 59.348h30.13v-30.13h-30.13z\" clip-path=\"url(#3b79b96a44b)\" fill=\"#fa4d56\" stroke=\"#fa4d56\" stroke-width=\"1.5\"/><path d=\"m182.24 48.803c1.1986 0 2.3482-0.4762 3.1958-1.3237 0.84753-0.84753 1.3237-1.9972 1.3237-3.1958 0-1.1986-0.4762-2.3482-1.3237-3.1958-0.84753-0.84753-1.9972-1.3237-3.1958-1.3237s-2.3482 0.4762-3.1958 1.3237c-0.84753 0.84753-1.3237 1.9972-1.3237 3.1958 0 1.1986 0.4762 2.3482 1.3237 3.1958 0.84753 0.84753 1.9972 1.3237 3.1958 1.3237z\" clip-path=\"url(#3b79b96a44b)\" fill=\"#002d9c\" stroke=\"#002d9c\" stroke-width=\"1.5\"/><path d=\"m182.24 101.18c2.7967 0 5.4792-1.1111 7.4568-3.0887 1.9776-1.9776 3.0887-4.6601 3.0887-7.4568 0-2.7967-1.1111-5.4792-3.0887-7.4568-1.9776-1.9776-4.6601-3.0887-7.4568-3.0887s-5.4792 1.1111-7.4568 3.0887c-1.9776 1.9776-3.0887 4.6601-3.0887 7.4568 0 2.7967 1.1111 5.4792 3.0887 7.4568 1.9776 1.9776 4.6601 3.0887 7.4568 3.0887z\" clip-path=\"url(#3b79b96a44b)\" fill=\"#002d9c\" stroke=\"#002d9c\" stroke-width=\"2\"/><path d=\"m182.24 96.663v-12.052\" clip-path=\"url(#3b79b96a44b)\" fill=\"none\" stroke=\"#ffffff\" stroke-linecap=\"square\" stroke-width=\"2\"/><path d=\"m176.21 90.637h12.052\" clip-path=\"url(#3b79b96a44b)\" fill=\"none\" stroke=\"#ffffff\" stroke-linecap=\"square\" stroke-width=\"2\"/><g clip-path=\"url(#3b79b96a44b)\"><g transform=\"translate(37.189 48.734) scale(.1625 -.1625)\"><defs><path id=\"DejaVuSans-Oblique-71\" transform=\"scale(.015625)\" d=\"m2669 525q-231-303-546-460-314-156-695-156-531 0-833 358-301 358-301 986 0 506 186 978t533 847q225 244 517 375t614 131q387 0 637-153t363-462l100 525h578l-934-4813h-579l360 1844zm-1778 813q0-463 193-705 194-242 560-242 544 0 928 520t384 1264q0 450-199 689-198 239-569 239-272 0-504-127-231-126-403-370-181-256-286-600-104-343-104-668z\"/><path id=\"DejaVuSans-30\" transform=\"scale(.015625)\" d=\"m2034 4250q-487 0-733-480-245-479-245-1442 0-959 245-1439 246-480 733-480 491 0 736 480 246 480 246 1439 0 963-246 1442-245 480-736 480zm0 500q785 0 1199-621 414-620 414-1801 0-1178-414-1799-414-620-1199-620-784 0-1198 620-414 621-414 1799 0 1181 414 1801 414 621 1198 621z\"/></defs><use xlink:href=\"#DejaVuSans-Oblique-71\"/><use transform=\"translate(63.477 -16.406) scale(.7)\" xlink:href=\"#DejaVuSans-30\"/></g></g><g clip-path=\"url(#3b79b96a44b)\"><g transform=\"translate(37.189 95.088) scale(.1625 -.1625)\"><defs><path id=\"DejaVuSans-31\" transform=\"scale(.015625)\" d=\"m794 531h1031v3560l-1122-225v575l1116 225h631v-4135h1031v-531h-2687v531z\"/></defs><use xlink:href=\"#DejaVuSans-Oblique-71\"/><use transform=\"translate(63.477 -16.406) scale(.7)\" xlink:href=\"#DejaVuSans-31\"/></g></g><g clip-path=\"url(#3b79b96a44b)\"><g transform=\"translate(78.945 55.53) scale(.08 -.08)\" fill=\"#ffffff\"><defs><path id=\"DejaVuSans-74\" transform=\"scale(.015625)\" d=\"m1172 4494v-994h1184v-447h-1184v-1900q0-428 117-550t477-122h590v-481h-590q-666 0-919 248-253 249-253 905v1900h-422v447h422v994h578z\"/><path id=\"DejaVuSans-68\" transform=\"scale(.015625)\" d=\"m3513 2113v-2113h-575v2094q0 497-194 743-194 247-581 247-466 0-735-297-269-296-269-809v-1978h-578v4863h578v-1907q207 316 486 472 280 156 646 156 603 0 912-373 310-373 310-1098z\"/><path id=\"DejaVuSans-65\" transform=\"scale(.015625)\" d=\"m3597 1894v-281h-2644q38-594 358-905t892-311q331 0 642 81t618 244v-544q-310-131-635-200t-659-69q-838 0-1327 487-489 488-489 1320 0 859 464 1363 464 505 1252 505 706 0 1117-455 411-454 411-1235zm-575 169q-6 471-264 752-258 282-683 282-481 0-770-272t-333-766l2050 4z\"/><path id=\"DejaVuSans-61\" transform=\"scale(.015625)\" d=\"m2194 1759q-697 0-966-159t-269-544q0-306 202-486 202-179 548-179 479 0 768 339t289 901v128h-572zm1147 238v-1997h-575v531q-197-318-491-470t-719-152q-537 0-855 302-317 302-317 808 0 590 395 890 396 300 1180 300h807v57q0 397-261 614t-733 217q-300 0-585-72-284-72-546-216v532q315 122 612 182 297 61 578 61 760 0 1135-394 375-393 375-1193z\"/></defs><use xlink:href=\"#DejaVuSans-74\"/><use transform=\"translate(39.209)\" xlink:href=\"#DejaVuSans-68\"/><use transform=\"translate(102.59)\" xlink:href=\"#DejaVuSans-65\"/><use transform=\"translate(164.11)\" xlink:href=\"#DejaVuSans-74\"/><use transform=\"translate(203.32)\" xlink:href=\"#DejaVuSans-61\"/></g></g><g clip-path=\"url(#3b79b96a44b)\"><g transform=\"translate(81.988 43.351) scale(.13 -.13)\" fill=\"#ffffff\"><defs><path id=\"DejaVuSans-52\" transform=\"scale(.015625)\" d=\"m2841 2188q203-69 395-294t386-619l641-1275h-679l-596 1197q-232 469-449 622t-592 153h-688v-1972h-631v4666h1425q800 0 1194-335 394-334 394-1009 0-441-205-732-205-290-595-402zm-1582 1959v-1656h794q456 0 689 211t233 620-233 617-689 208h-794z\"/><path id=\"DejaVuSans-59\" transform=\"scale(.015625)\" d=\"m-13 4666h679l1293-1919 1285 1919h678l-1650-2444v-2222h-634v2222l-1651 2444z\"/></defs><use transform=\"translate(0 .09375)\" xlink:href=\"#DejaVuSans-52\"/><use transform=\"translate(70.439 -16.312) scale(.7)\" xlink:href=\"#DejaVuSans-59\"/></g></g><g clip-path=\"url(#3b79b96a44b)\"><g transform=\"translate(130.99 47.87) scale(.13 -.13)\"><defs><path id=\"DejaVuSans-48\" transform=\"scale(.015625)\" d=\"m628 4666h631v-1913h2294v1913h631v-4666h-631v2222h-2294v-2222h-631v4666z\"/></defs><use xlink:href=\"#DejaVuSans-48\"/></g></g><defs><clipPath id=\"3b79b96a44b\"><rect x=\"7.2\" y=\"7.2\" width=\"205.63\" height=\"111.25\"/></clipPath></defs></svg>"
      ],
      "text/plain": [
       "<Figure size 370.906x200.667 with 1 Axes>"
      ]
     },
     "execution_count": 1,
     "metadata": {},
     "output_type": "execute_result"
    }
   ],
   "source": [
    "from qiskit import QuantumCircuit\n",
    "from qiskit.circuit import Parameter\n",
    "\n",
    "# circuit for which you want to obtain the expected value\n",
    "circuit = QuantumCircuit(2)\n",
    "circuit.ry(Parameter(\"theta\"), 0)\n",
    "circuit.h(0)\n",
    "circuit.cx(0, 1)\n",
    "circuit.draw(\"mpl\", style=\"iqp\")"
   ]
  },
  {
   "cell_type": "code",
   "execution_count": 2,
   "id": "18658518-304a-49a7-8958-82adef366de6",
   "metadata": {},
   "outputs": [],
   "source": [
    "from qiskit.quantum_info import SparsePauliOp\n",
    "import numpy as np\n",
    "\n",
    "# observable(s) whose expected values you want to compute\n",
    "\n",
    "observable = SparsePauliOp([\"II\", \"XX\", \"YY\", \"ZZ\"], coeffs=[1, 1, -1, 1])\n",
    "\n",
    "# value(s) for the circuit parameter(s)\n",
    "parameter_values = [[0], [np.pi / 6], [np.pi / 2]]"
   ]
  },
  {
   "cell_type": "markdown",
   "id": "4c39904c-d586-41b9-ade0-e6a508ef7c2e",
   "metadata": {},
   "source": [
    "<Admonition type=\"tip\" title=\"Transpile to ISA circuits and observables\">\n",
    "  The Qiskit Runtime primitives workflow requires circuits and observables to be transformed to only use instructions supported by the QPU (referred to as *instruction set architecture (ISA)* circuits and observables). The reference primitives still accept abstract instructions, as they rely on local statevector simulations, but transpiling the circuit might still be beneficial in terms of circuit optimization.\n",
    "\n",
    "  ```python\n",
    "  # Generate a pass manager without providing a backend\n",
    "  from qiskit.transpiler import generate_preset_pass_manager\n",
    "\n",
    "  pm = generate_preset_pass_manager(optimization_level=1)\n",
    "  isa_circuit = pm.run(circuit)\n",
    "  isa_observable = observable.apply_layout(isa_circuit.layout)\n",
    "  ```\n",
    "</Admonition>\n",
    "\n",
    "### Initialize Estimator\n",
    "\n",
    "Instantiate a [`qiskit.primitives.StatevectorEstimator`](../api/qiskit/qiskit.primitives.StatevectorEstimator)."
   ]
  },
  {
   "cell_type": "code",
   "execution_count": 3,
   "id": "56f39026-7874-4f14-8529-b97df373eaf5",
   "metadata": {},
   "outputs": [],
   "source": [
    "from qiskit.primitives import StatevectorEstimator\n",
    "\n",
    "estimator = StatevectorEstimator()"
   ]
  },
  {
   "cell_type": "markdown",
   "id": "9c4c81b1-8b87-450d-9a93-4f209364ee83",
   "metadata": {},
   "source": [
    "### Run and get results\n",
    "\n",
    "This example only uses one circuit (of type [`QuantumCircuit`](../api/qiskit/qiskit.circuit.QuantumCircuit)) and one\n",
    "observable.\n",
    "\n",
    "Run the estimation by calling the [`StatevectorEstimator.run`](../api/qiskit/qiskit.primitives.StatevectorEstimator#run) method, which returns an instance of a [`PrimitiveJob`](/docs/api/qiskit/qiskit.primitives.PrimitiveJob) object. You can get the results from the job (as a [`qiskit.primitives.PrimitiveResult`](../api/qiskit/qiskit.primitives.PrimitiveResult) object)\n",
    "with the [`qiskit.primitives.PrimitiveJob.result`](../api/qiskit/qiskit.primitives.PrimitiveJob#result) method."
   ]
  },
  {
   "cell_type": "code",
   "execution_count": 4,
   "id": "0c424291-abb3-420c-80e1-a09ecbd6c035",
   "metadata": {},
   "outputs": [
    {
     "name": "stdout",
     "output_type": "stream",
     "text": [
      " > Result class: <class 'qiskit.primitives.containers.primitive_result.PrimitiveResult'>\n"
     ]
    }
   ],
   "source": [
    "job = estimator.run([(circuit, observable, parameter_values)])\n",
    "result = job.result()\n",
    "print(f\" > Result class: {type(result)}\")"
   ]
  },
  {
   "cell_type": "markdown",
   "id": "871ce7d6-402c-417f-8a83-805d92fa0298",
   "metadata": {},
   "source": [
    "#### Get the expected value from the result\n",
    "\n",
    "The primitives result outputs an array of [`PubResult`s](/docs/api/qiskit/qiskit.primitives.PubResult#pubresult), where each item of the array is a `PubResult` object that contains in its data the array of evaluations corresponding to every circuit-observable combination in the PUB.\n",
    "\n",
    "To retrieve the expectation values and metadata for the first (and in this case, only) circuit evaluation, we must access the evaluation [`data`](/docs/api/qiskit/qiskit.primitives.PubResult#data) for PUB 0:"
   ]
  },
  {
   "cell_type": "code",
   "execution_count": 5,
   "id": "145b3f62-dfaf-4288-8764-f2ecb90e38a1",
   "metadata": {},
   "outputs": [
    {
     "name": "stdout",
     "output_type": "stream",
     "text": [
      " > Expectation value: [4.         3.73205081 2.        ]\n",
      " > Metadata: {'target_precision': 0.0, 'circuit_metadata': {}}\n"
     ]
    }
   ],
   "source": [
    "print(f\" > Expectation value: {result[0].data.evs}\")\n",
    "print(f\" > Metadata: {result[0].metadata}\")"
   ]
  },
  {
   "cell_type": "markdown",
   "id": "e29ec8cc-2c38-464a-a8b3-8f05b282c807",
   "metadata": {},
   "source": [
    "### Set Estimator run options\n",
    "\n",
    "By default, the reference Estimator performs an exact statevector calculation based on the\n",
    "[`quantum_info.Statevector`](../api/qiskit/qiskit.quantum_info.Statevector) class.\n",
    "However, this can be modified to introduce the effect of the sampling overhead (also known as \"shot noise\").\n",
    "\n",
    "Estimator accepts a `precision` argument that expresses the error bars that the\n",
    "primitive implementation should target for expectation values estimates.  This is the sampling overhead and is defined exclusively in the `.run()` method. This  lets you fine-tune the option all the way to the PUB level."
   ]
  },
  {
   "cell_type": "code",
   "execution_count": 6,
   "id": "04047e7a-23f4-431b-8e3a-11edf035e8fc",
   "metadata": {},
   "outputs": [],
   "source": [
    "# Estimate expectation values for two PUBs, both with 0.05 precision.\n",
    "precise_job = estimator.run(\n",
    "    [(circuit, observable, parameter_values)], precision=0.05\n",
    ")"
   ]
  },
  {
   "cell_type": "markdown",
   "id": "d54f110f-004a-4337-8b4d-7d4287f22be9",
   "metadata": {},
   "source": [
    "For a full example, see the [Primitives examples](primitives-examples#estimator-examples) page.\n",
    "\n",
    "## Use the reference Sampler\n",
    "\n",
    "The reference implementations of `SamplerV2` in `qiskit.primitives` is the [`StatevectorSampler`](../api/qiskit/qiskit.primitives.StatevectorSampler) class. It takes circuits and parameters as inputs and returns the results from sampling from the output probability distributions as a quasi-probability distribution of output states.\n",
    "\n",
    "The following code prepares the inputs used in the examples that follow. Note that\n",
    "these examples run a single parametrized circuit, but you can also run the Sampler\n",
    "on non-parametrized circuits."
   ]
  },
  {
   "cell_type": "code",
   "execution_count": 7,
   "id": "d4c0ac3b-8e5b-4cde-bb26-256324982c2c",
   "metadata": {},
   "outputs": [
    {
     "data": {
      "image/svg+xml": [
       "<?xml version=\"1.0\" encoding=\"UTF-8\"?><!DOCTYPE svg  PUBLIC '-//W3C//DTD SVG 1.1//EN'  'http://www.w3.org/Graphics/SVG/1.1/DTD/svg11.dtd'><svg width=\"336.17pt\" height=\"172pt\" version=\"1.1\" viewBox=\"0 0 336.17 172\" xmlns=\"http://www.w3.org/2000/svg\" xmlns:xlink=\"http://www.w3.org/1999/xlink\"><defs><style type=\"text/css\">*{stroke-linejoin: round; stroke-linecap: butt}</style></defs><path d=\"m0 172h336.17v-172h-336.17z\" fill=\"#ffffff\"/><path d=\"m87.926 44.283h236.41\" clip-path=\"url(#11a5cd5e813)\" fill=\"none\" stroke=\"#000000\" stroke-linecap=\"square\" stroke-width=\"2\"/><path d=\"m87.926 90.637h236.41\" clip-path=\"url(#11a5cd5e813)\" fill=\"none\" stroke=\"#000000\" stroke-linecap=\"square\" stroke-width=\"2\"/><path d=\"m97.197 141.63 4.6354-9.2708\" clip-path=\"url(#11a5cd5e813)\" fill=\"none\" stroke=\"#778899\" stroke-linecap=\"square\" stroke-width=\"1.5\"/><path d=\"m87.926 135.48h236.41\" clip-path=\"url(#11a5cd5e813)\" fill=\"none\" stroke=\"#778899\" stroke-linecap=\"square\" stroke-width=\"2\"/><path d=\"m87.926 138.5h236.41\" clip-path=\"url(#11a5cd5e813)\" fill=\"none\" stroke=\"#778899\" stroke-linecap=\"square\" stroke-width=\"2\"/><path d=\"m245.99 126.45h12.052l-6.026 8.6914z\" clip-path=\"url(#11a5cd5e813)\" fill=\"#778899\"/><path d=\"m292.35 126.45h12.052l-6.026 8.6914z\" clip-path=\"url(#11a5cd5e813)\" fill=\"#778899\"/><path d=\"m83.29 21.106h-1158.8v185.42h1158.8z\" clip-path=\"url(#11a5cd5e813)\" fill=\"#ffffff\" stroke=\"#ffffff\" stroke-width=\"1.5\"/><path d=\"m159.31 90.637v-46.354\" clip-path=\"url(#11a5cd5e813)\" fill=\"none\" stroke=\"#002d9c\" stroke-linecap=\"square\" stroke-width=\"2\"/><path d=\"m253.53 44.283v82.162\" clip-path=\"url(#11a5cd5e813)\" fill=\"none\" stroke=\"#778899\" stroke-linecap=\"square\" stroke-width=\"2\"/><path d=\"m250.51 44.283v82.162\" clip-path=\"url(#11a5cd5e813)\" fill=\"none\" stroke=\"#778899\" stroke-linecap=\"square\" stroke-width=\"2\"/><path d=\"m299.88 90.637v35.808\" clip-path=\"url(#11a5cd5e813)\" fill=\"none\" stroke=\"#778899\" stroke-linecap=\"square\" stroke-width=\"2\"/><path d=\"m296.87 90.637v35.808\" clip-path=\"url(#11a5cd5e813)\" fill=\"none\" stroke=\"#778899\" stroke-linecap=\"square\" stroke-width=\"2\"/><path d=\"m196.63 67.46h18.078v-46.354h-18.078z\" clip-path=\"url(#11a5cd5e813)\" fill=\"#a8a8a8\" opacity=\".6\"/><path d=\"m196.63 113.81h18.078v-46.354h-18.078z\" clip-path=\"url(#11a5cd5e813)\" fill=\"#a8a8a8\" opacity=\".6\"/><path d=\"m97.892 59.348h30.13v-30.13h-30.13z\" clip-path=\"url(#11a5cd5e813)\" fill=\"#fa4d56\" stroke=\"#fa4d56\" stroke-width=\"1.5\"/><path d=\"m159.31 48.803c1.1986 0 2.3482-0.4762 3.1958-1.3237 0.84753-0.84753 1.3237-1.9972 1.3237-3.1958 0-1.1986-0.4762-2.3482-1.3237-3.1958-0.84753-0.84753-1.9972-1.3237-3.1958-1.3237-1.1986 0-2.3482 0.4762-3.1958 1.3237s-1.3237 1.9972-1.3237 3.1958c0 1.1986 0.4762 2.3482 1.3237 3.1958s1.9972 1.3237 3.1958 1.3237z\" clip-path=\"url(#11a5cd5e813)\" fill=\"#002d9c\" stroke=\"#002d9c\" stroke-width=\"1.5\"/><path d=\"m159.31 101.18c2.7967 0 5.4792-1.1111 7.4568-3.0887 1.9776-1.9776 3.0887-4.6601 3.0887-7.4568 0-2.7967-1.1111-5.4792-3.0887-7.4568-1.9776-1.9776-4.6601-3.0887-7.4568-3.0887-2.7967 0-5.4792 1.1111-7.4568 3.0887-1.9776 1.9776-3.0887 4.6601-3.0887 7.4568 0 2.7967 1.1111 5.4792 3.0887 7.4568 1.9776 1.9776 4.6601 3.0887 7.4568 3.0887z\" clip-path=\"url(#11a5cd5e813)\" fill=\"#002d9c\" stroke=\"#002d9c\" stroke-width=\"2\"/><path d=\"m236.95 59.348h30.13v-30.13h-30.13z\" clip-path=\"url(#11a5cd5e813)\" fill=\"#a8a8a8\" stroke=\"#a8a8a8\" stroke-width=\"1.5\"/><path d=\"m262.56 48.803c0-2.7958-1.1118-5.4799-3.0887-7.4568s-4.661-3.0887-7.4568-3.0887c-2.7958 0-5.4799 1.1118-7.4568 3.0887s-3.0887 4.661-3.0887 7.4568\" clip-path=\"url(#11a5cd5e813)\" fill=\"none\" stroke=\"#000000\" stroke-width=\"2\"/><path d=\"m252.02 48.803 10.546-10.546\" clip-path=\"url(#11a5cd5e813)\" fill=\"none\" stroke=\"#000000\" stroke-linecap=\"square\" stroke-width=\"2\"/><path d=\"m283.31 105.7h30.13v-30.13h-30.13z\" clip-path=\"url(#11a5cd5e813)\" fill=\"#a8a8a8\" stroke=\"#a8a8a8\" stroke-width=\"1.5\"/><path d=\"m308.92 95.157c0-2.7958-1.1118-5.4799-3.0887-7.4568s-4.661-3.0887-7.4568-3.0887-5.4799 1.1118-7.4568 3.0887-3.0887 4.661-3.0887 7.4568\" clip-path=\"url(#11a5cd5e813)\" fill=\"none\" stroke=\"#000000\" stroke-width=\"2\"/><path d=\"m298.37 95.157 10.546-10.546\" clip-path=\"url(#11a5cd5e813)\" fill=\"none\" stroke=\"#000000\" stroke-linecap=\"square\" stroke-width=\"2\"/><path d=\"m159.31 96.663v-12.052\" clip-path=\"url(#11a5cd5e813)\" fill=\"none\" stroke=\"#ffffff\" stroke-linecap=\"square\" stroke-width=\"2\"/><path d=\"m153.28 90.637h12.052\" clip-path=\"url(#11a5cd5e813)\" fill=\"none\" stroke=\"#ffffff\" stroke-linecap=\"square\" stroke-width=\"2\"/><g clip-path=\"url(#11a5cd5e813)\"><g transform=\"translate(60.617 48.734) scale(.1625 -.1625)\"><defs><path id=\"DejaVuSans-Oblique-71\" transform=\"scale(.015625)\" d=\"m2669 525q-231-303-546-460-314-156-695-156-531 0-833 358-301 358-301 986 0 506 186 978t533 847q225 244 517 375t614 131q387 0 637-153t363-462l100 525h578l-934-4813h-579l360 1844zm-1778 813q0-463 193-705 194-242 560-242 544 0 928 520t384 1264q0 450-199 689-198 239-569 239-272 0-504-127-231-126-403-370-181-256-286-600-104-343-104-668z\"/><path id=\"DejaVuSans-30\" transform=\"scale(.015625)\" d=\"m2034 4250q-487 0-733-480-245-479-245-1442 0-959 245-1439 246-480 733-480 491 0 736 480 246 480 246 1439 0 963-246 1442-245 480-736 480zm0 500q785 0 1199-621 414-620 414-1801 0-1178-414-1799-414-620-1199-620-784 0-1198 620-414 621-414 1799 0 1181 414 1801 414 621 1198 621z\"/></defs><use xlink:href=\"#DejaVuSans-Oblique-71\"/><use transform=\"translate(63.477 -16.406) scale(.7)\" xlink:href=\"#DejaVuSans-30\"/></g></g><g clip-path=\"url(#11a5cd5e813)\"><g transform=\"translate(60.617 95.088) scale(.1625 -.1625)\"><defs><path id=\"DejaVuSans-31\" transform=\"scale(.015625)\" d=\"m794 531h1031v3560l-1122-225v575l1116 225h631v-4135h1031v-531h-2687v531z\"/></defs><use xlink:href=\"#DejaVuSans-Oblique-71\"/><use transform=\"translate(63.477 -16.406) scale(.7)\" xlink:href=\"#DejaVuSans-31\"/></g></g><g clip-path=\"url(#11a5cd5e813)\"><g transform=\"translate(92.561 130.19) scale(.104 -.104)\"><defs><path id=\"DejaVuSans-32\" transform=\"scale(.015625)\" d=\"m1228 531h2203v-531h-2962v531q359 372 979 998 621 627 780 809 303 340 423 576 121 236 121 464 0 372-261 606-261 235-680 235-297 0-627-103-329-103-704-313v638q381 153 712 231 332 78 607 78 725 0 1156-363 431-362 431-968 0-288-108-546-107-257-392-607-78-91-497-524-418-433-1181-1211z\"/></defs><use xlink:href=\"#DejaVuSans-32\"/></g></g><g clip-path=\"url(#11a5cd5e813)\"><g transform=\"translate(34.404 141.48) scale(.1625 -.1625)\"><defs><path id=\"DejaVuSans-6d\" transform=\"scale(.015625)\" d=\"m3328 2828q216 388 516 572t706 184q547 0 844-383 297-382 297-1088v-2113h-578v2094q0 503-179 746-178 244-543 244-447 0-707-297-259-296-259-809v-1978h-578v2094q0 506-178 748t-550 242q-441 0-701-298-259-298-259-808v-1978h-578v3500h578v-544q197 322 472 475t653 153q382 0 649-194 267-193 395-562z\"/><path id=\"DejaVuSans-65\" transform=\"scale(.015625)\" d=\"m3597 1894v-281h-2644q38-594 358-905t892-311q331 0 642 81t618 244v-544q-310-131-635-200t-659-69q-838 0-1327 487-489 488-489 1320 0 859 464 1363 464 505 1252 505 706 0 1117-455 411-454 411-1235zm-575 169q-6 471-264 752-258 282-683 282-481 0-770-272t-333-766l2050 4z\"/><path id=\"DejaVuSans-61\" transform=\"scale(.015625)\" d=\"m2194 1759q-697 0-966-159t-269-544q0-306 202-486 202-179 548-179 479 0 768 339t289 901v128h-572zm1147 238v-1997h-575v531q-197-318-491-470t-719-152q-537 0-855 302-317 302-317 808 0 590 395 890 396 300 1180 300h807v57q0 397-261 614t-733 217q-300 0-585-72-284-72-546-216v532q315 122 612 182 297 61 578 61 760 0 1135-394 375-393 375-1193z\"/><path id=\"DejaVuSans-73\" transform=\"scale(.015625)\" d=\"m2834 3397v-544q-243 125-506 187-262 63-544 63-428 0-642-131t-214-394q0-200 153-314t616-217l197-44q612-131 870-370t258-667q0-488-386-773-386-284-1061-284-281 0-586 55t-642 164v594q319-166 628-249 309-82 613-82 406 0 624 139 219 139 219 392 0 234-158 359-157 125-692 241l-200 47q-534 112-772 345-237 233-237 639 0 494 350 762 350 269 994 269 318 0 599-47 282-46 519-140z\"/></defs><use xlink:href=\"#DejaVuSans-6d\"/><use transform=\"translate(97.412)\" xlink:href=\"#DejaVuSans-65\"/><use transform=\"translate(158.94)\" xlink:href=\"#DejaVuSans-61\"/><use transform=\"translate(220.21)\" xlink:href=\"#DejaVuSans-73\"/></g></g><g clip-path=\"url(#11a5cd5e813)\"><g transform=\"translate(108.07 47.87) scale(.13 -.13)\"><defs><path id=\"DejaVuSans-48\" transform=\"scale(.015625)\" d=\"m628 4666h631v-1913h2294v1913h631v-4666h-631v2222h-2294v-2222h-631v4666z\"/></defs><use xlink:href=\"#DejaVuSans-48\"/></g></g><path d=\"m205.66 21.106v46.354\" clip-path=\"url(#11a5cd5e813)\" fill=\"none\" stroke=\"#000000\" stroke-dasharray=\"3.7,1.6\"/><path d=\"m205.66 67.46v46.354\" clip-path=\"url(#11a5cd5e813)\" fill=\"none\" stroke=\"#000000\" stroke-dasharray=\"3.7,1.6\"/><g clip-path=\"url(#11a5cd5e813)\"><g transform=\"translate(263.61 130.19) scale(.104 -.104)\"><use xlink:href=\"#DejaVuSans-30\"/></g></g><g clip-path=\"url(#11a5cd5e813)\"><g transform=\"translate(309.96 130.19) scale(.104 -.104)\"><use xlink:href=\"#DejaVuSans-31\"/></g></g><defs><clipPath id=\"11a5cd5e813\"><rect x=\"7.2\" y=\"7.2\" width=\"321.77\" height=\"157.6\"/></clipPath></defs></svg>"
      ],
      "text/plain": [
       "<Figure size 580.387x284.278 with 1 Axes>"
      ]
     },
     "execution_count": 7,
     "metadata": {},
     "output_type": "execute_result"
    }
   ],
   "source": [
    "from qiskit import QuantumCircuit\n",
    "\n",
    "circuit = QuantumCircuit(2)\n",
    "circuit.h(0)\n",
    "circuit.cx(0, 1)\n",
    "circuit.measure_all()\n",
    "circuit.draw(\"mpl\", style=\"iqp\")"
   ]
  },
  {
   "cell_type": "markdown",
   "id": "b34ae490-9efb-45f5-937d-3ce86afa445f",
   "metadata": {},
   "source": [
    "<Admonition type=\"note\">\n",
    "Any quantum circuit passed to a Sampler **must** include measurements.\n",
    "</Admonition>\n",
    "\n",
    "<Admonition type=\"tip\" title=\"Transpile to ISA circuits and observables\">\n",
    "  The Qiskit Runtime primitives workflow requires circuits to be transformed to only use instructions supported by the QPU (referred to as ISA circuits). The reference primitives still accept abstract instructions, as they rely on local statevector simulations, but transpiling the circuit might still be beneficial in terms of circuit optimization.\n",
    "\n",
    "  ```python\n",
    "  # Generate a pass manager without providing a backend\n",
    "  from qiskit.transpiler import generate_preset_pass_manager\n",
    "\n",
    "  pm = generate_preset_pass_manager(optimization_level=1)\n",
    "  isa_circuit = pm.run(qc)\n",
    "  isa_observable = observable.apply_layout(isa_circuit.layout)\n",
    "  ```\n",
    "</Admonition>\n",
    "\n",
    "### Initialize `SamplerV2`\n",
    "\n",
    "Instantiate [`qiskit.primitives.StatevectorSampler`](../api/qiskit/qiskit.primitives.StatevectorSampler):"
   ]
  },
  {
   "cell_type": "code",
   "execution_count": 8,
   "id": "626177e7-f06a-4216-89c8-daf703520457",
   "metadata": {},
   "outputs": [],
   "source": [
    "from qiskit.primitives import StatevectorSampler\n",
    "\n",
    "sampler = StatevectorSampler()"
   ]
  },
  {
   "cell_type": "markdown",
   "id": "626fb8d6-75ae-47b2-ac0b-00acc4ce5afe",
   "metadata": {},
   "source": [
    "### Run and get results"
   ]
  },
  {
   "cell_type": "code",
   "execution_count": 9,
   "id": "19659756-a01d-42ec-8fa7-d7a1bf2303d5",
   "metadata": {},
   "outputs": [
    {
     "name": "stdout",
     "output_type": "stream",
     "text": [
      " > Result class: <class 'qiskit.primitives.containers.sampler_pub_result.SamplerPubResult'>\n"
     ]
    }
   ],
   "source": [
    "# execute 1 circuit with Sampler\n",
    "job = sampler.run([circuit])\n",
    "pub_result = job.result()[0]\n",
    "print(f\" > Result class: {type(pub_result)}\")"
   ]
  },
  {
   "cell_type": "markdown",
   "id": "ee6d88f3-0115-4ea9-a2c5-633906841d9f",
   "metadata": {},
   "source": [
    "Primitives accept multiple PUBs as inputs, and each PUB gets its own result. Therefore, you can run different circuits with various parameter/observable combinations, and retrieve the PUB results:"
   ]
  },
  {
   "cell_type": "code",
   "execution_count": 10,
   "id": "fb91dbfc-0340-4ea6-8d33-95357d7907e3",
   "metadata": {},
   "outputs": [
    {
     "name": "stdout",
     "output_type": "stream",
     "text": [
      " > Result class: <class 'qiskit.primitives.containers.sampler_pub_result.SamplerPubResult'>\n"
     ]
    }
   ],
   "source": [
    "from qiskit.transpiler import generate_preset_pass_manager\n",
    "\n",
    "# create two circuits\n",
    "circuit1 = circuit.copy()\n",
    "circuit2 = circuit.copy()\n",
    "\n",
    "# transpile circuits\n",
    "pm = generate_preset_pass_manager(optimization_level=1)\n",
    "isa_circuit1 = pm.run(circuit1)\n",
    "isa_circuit2 = pm.run(circuit2)\n",
    "# execute 2 circuits using Sampler\n",
    "job = sampler.run([(isa_circuit1), (isa_circuit2)])\n",
    "pub_result_1 = job.result()[0]\n",
    "pub_result_2 = job.result()[1]\n",
    "print(f\" > Result class: {type(pub_result)}\")"
   ]
  },
  {
   "cell_type": "markdown",
   "id": "6e7b2199-3c00-477a-a248-824b442431b5",
   "metadata": {},
   "source": [
    "### Get the probability distribution or measurement outcome\n",
    "\n",
    "Measurement outcome samples are returned as **bitstrings** or **counts**. The bitstrings show the measurement outcomes, preserving the shot order in which they were measured. The Sampler result objects organize data in terms of their input circuits' classical register names, for compatibility with dynamic circuits.\n",
    "\n",
    "<Admonition>\n",
    "The name of the classical register defaults to `\"meas\"`. This name will be used later to access the measurement bitstrings.\n",
    " </Admonition>"
   ]
  },
  {
   "cell_type": "code",
   "execution_count": 11,
   "id": "1dc395b4-5716-44be-9622-7c99df95616b",
   "metadata": {},
   "outputs": [
    {
     "data": {
      "text/html": [
       "<pre style=\"word-wrap: normal;white-space: pre;background: #fff0;line-height: 1.1;font-family: &quot;Courier New&quot;,Courier,monospace\">        ┌───┐      ░ ┌─┐   \n",
       "   q_0: ┤ H ├──■───░─┤M├───\n",
       "        └───┘┌─┴─┐ ░ └╥┘┌─┐\n",
       "   q_1: ─────┤ X ├─░──╫─┤M├\n",
       "             └───┘ ░  ║ └╥┘\n",
       "meas: 2/══════════════╩══╩═\n",
       "                      0  1 </pre>"
      ],
      "text/plain": [
       "        ┌───┐      ░ ┌─┐   \n",
       "   q_0: ┤ H ├──■───░─┤M├───\n",
       "        └───┘┌─┴─┐ ░ └╥┘┌─┐\n",
       "   q_1: ─────┤ X ├─░──╫─┤M├\n",
       "             └───┘ ░  ║ └╥┘\n",
       "meas: 2/══════════════╩══╩═\n",
       "                      0  1 "
      ]
     },
     "execution_count": 11,
     "metadata": {},
     "output_type": "execute_result"
    }
   ],
   "source": [
    "# Define quantum circuit with 2 qubits\n",
    "circuit = QuantumCircuit(2)\n",
    "circuit.h(0)\n",
    "circuit.cx(0, 1)\n",
    "circuit.measure_all()\n",
    "circuit.draw()"
   ]
  },
  {
   "cell_type": "code",
   "execution_count": 12,
   "id": "27a2847b-6553-4c73-9b8a-85ba28725ed8",
   "metadata": {},
   "outputs": [
    {
     "name": "stdout",
     "output_type": "stream",
     "text": [
      "The number of bitstrings is: 1024\n",
      "The counts are: {'11': 541, '00': 483}\n"
     ]
    }
   ],
   "source": [
    "# Transpile circuit\n",
    "pm = generate_preset_pass_manager(optimization_level=1)\n",
    "isa_circuit = pm.run(circuit)\n",
    "# Run using sampler\n",
    "result = sampler.run([circuit]).result()\n",
    "# Access result data for PUB 0\n",
    "data_pub = result[0].data\n",
    "# Access bitstring for the classical register \"meas\"\n",
    "bitstrings = data_pub.meas.get_bitstrings()\n",
    "print(f\"The number of bitstrings is: {len(bitstrings)}\")\n",
    "# Get counts for the classical register \"meas\"\n",
    "counts = data_pub.meas.get_counts()\n",
    "print(f\"The counts are: {counts}\")"
   ]
  },
  {
   "cell_type": "markdown",
   "id": "de705fab-e718-4924-a03f-f19bdf6578d8",
   "metadata": {},
   "source": [
    "### Change run options\n",
    "\n",
    "By default, the reference Sampler performs an exact statevector calculation based on the\n",
    "[`quantum_info.Statevector`](../api/qiskit/qiskit.quantum_info.Statevector) class.\n",
    "However, this can be modified to introduce the effect of the sampling overhead (also known as \"shot noise\"). To help manage this overhead, the Sampler interface accepts a `shots` argument that can be defined at the PUB level.\n",
    "\n",
    "This example assumes you have defined two circuits."
   ]
  },
  {
   "cell_type": "code",
   "execution_count": 13,
   "id": "927faaab-60c0-4b73-bf53-72f7c4c9ad65",
   "metadata": {},
   "outputs": [
    {
     "data": {
      "text/plain": [
       "<qiskit.primitives.primitive_job.PrimitiveJob at 0x7fa7dc00e1d0>"
      ]
     },
     "execution_count": 13,
     "metadata": {},
     "output_type": "execute_result"
    }
   ],
   "source": [
    "# Sample two circuits at 128 shots each.\n",
    "sampler.run([isa_circuit1, isa_circuit2], shots=128)\n",
    "# Sample two circuits at different amounts of shots. The \"None\"s are necessary\n",
    "# as placeholders\n",
    "# for the lack of parameter values in this example.\n",
    "sampler.run([(isa_circuit1, None, 123), (isa_circuit2, None, 456)])"
   ]
  },
  {
   "cell_type": "markdown",
   "id": "1c0e76fe-4b5d-4fd4-9eec-da5332d76cfb",
   "metadata": {},
   "source": [
    "For a full example, see the [Primitives examples](./primitives-examples#sampler-examples) page.\n",
    "## Next steps\n",
    "\n",
    "<Admonition type=\"tip\" title=\"Recommendations\">\n",
    "  - For higher-performance simulation that can handle larger circuits, or to incorporate noise models into your simulation, see [Exact and noisy simulation with Qiskit Aer primitives](simulate-with-qiskit-aer).\n",
    "  - To learn how to use Quantum Composer for simulation, try the [Explore gates and circuits with the Quantum Composer](https://learning.quantum.ibm.com/tutorial/explore-gates-and-circuits-with-the-quantum-composer) tutorial.\n",
    "  - Read the [Qiskit Estimator API](/docs/api/qiskit/1.4/qiskit.primitives.Estimator) reference.\n",
    "  - Read the [Qiskit Sampler API](/docs/api/qiskit/1.4/qiskit.primitives.Sampler) reference.\n",
    "  - Learn how to run on a QPU in the [Run](./execute-on-hardware) step of the Qiskit patterns workflow.\n",
    "  - Read [Migrate to V2 primitives](/docs/migration-guides/v2-primitives).\n",
    "</Admonition>"
   ]
  }
 ],
 "metadata": {
  "description": "How to perform exact simulation of quantum circuits using primitives in Qiskit.",
  "kernelspec": {
   "display_name": "Python 3",
   "language": "python",
   "name": "python3"
  },
  "language_info": {
   "codemirror_mode": {
    "name": "ipython",
    "version": 3
   },
   "file_extension": ".py",
   "mimetype": "text/x-python",
   "name": "python",
   "nbconvert_exporter": "python",
   "pygments_lexer": "ipython3",
   "version": "3"
  },
  "title": "Exact simulation with Qiskit SDK primitives"
 },
 "nbformat": 4,
 "nbformat_minor": 4
}
