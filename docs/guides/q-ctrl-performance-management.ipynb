{
 "cells": [
  {
   "cell_type": "markdown",
   "id": "dde95705",
   "metadata": {},
   "source": [
    "# Performance Management: A Qiskit Function by Q-CTRL Fire Opal\n",
    "\n",
    "\n",
    "<Admonition type=\"note\" title=\"Note\">\n",
    "Qiskit Functions are an experimental feature available only to IBM Quantum&reg; Premium Plan, Flex Plan, and On-Prem (via IBM Quantum Platform API) Plan users. They are in preview release status and subject to change.\n",
    "</Admonition>"
   ]
  },
  {
   "cell_type": "markdown",
   "id": "ace2ed13",
   "metadata": {
    "tags": [
     "version-info"
    ]
   },
   "source": [
    "<details>\n",
    "<summary><b>Package versions</b></summary>\n",
    "\n",
    "The code on this page was developed using the following requirements.\n",
    "We recommend using these versions or newer.\n",
    "\n",
    "```\n",
    "qiskit[all]~=2.1.2\n",
    "qiskit-ibm-runtime~=0.40.1\n",
    "qiskit-ibm-catalog~=0.9.0\n",
    "```\n",
    "</details>"
   ]
  },
  {
   "cell_type": "markdown",
   "id": "c1732b45",
   "metadata": {},
   "source": [
    "## Overview\n",
    "\n",
    "Fire Opal Performance Management makes it simple for anyone to achieve meaningful results from quantum computers at scale without needing to be quantum hardware experts. When running circuits with Fire Opal Performance Management, AI-driven error suppression techniques are automatically applied, enabling the scaling of larger problems with more gates and qubits. This approach reduces the number of shots required to reach the correct answer, with no added overhead — resulting in significant savings in both compute time and cost.\n",
    "\n",
    "Performance Management suppresses errors and increases the probability of getting the correct answer on noisy hardware. In other words, it increases the signal-to-noise ratio. The following image shows how increased accuracy enabled by Performance Management can reduce the need for additional shots in the case of a 10-qubit Quantum Fourier Transform algorithm. With only 30 shots, Q-CTRL reaches the 99% confidence threshold, whereas the default (`QiskitRuntime` Sampler, `optimization_level`=3 and `resilience_level`=1, `ibm_sherbrooke`) requires 170,000 shots. By getting the right answer faster, you save significant compute runtime.\n",
    "\n",
    "![Visualization of the improved runtime](/docs/images/guides/qctrl-performance-management/achieve_more.svg)\n",
    "\n",
    "The Performance Management function can be used with any algorithm, and you can easily use it in place of the standard [Qiskit Runtime primitives](./primitives). Behind the scenes, multiple error suppression techniques work together to prevent errors from happening at runtime. All Fire Opal pipeline methods are pre-configured and algorithm-agnostic, meaning you always get the best performance out of the box.\n",
    "\n",
    "To get access to Performance Management, [contact Q-CTRL](https://form.typeform.com/to/uOAVDnGg?typeform-source=q-ctrl.com)."
   ]
  },
  {
   "cell_type": "markdown",
   "id": "5f761442",
   "metadata": {},
   "source": [
    "## Description\n",
    "\n",
    "Fire Opal Performance Management has two options for execution that are similar to the Qiskit Runtime primitives, so you can easily swap in the Q-CTRL Sampler and Estimator. The general workflow for using the Performance Management function is:\n",
    "1. Define your circuit (and operators in the case of the Estimator).\n",
    "2. Run the circuit.\n",
    "3. Retrieve the results.\n",
    "\n",
    "To reduce hardware noise, Fire Opal employs a range of AI-driven error suppression techniques depicted in the following image. With Fire Opal, the entire pipeline is completely automated with zero need for configuration.\n",
    "\n",
    "Fire Opal's pipeline eliminates the need for additional overhead, such as increased quantum runtime or extra physical qubits. Note that classical processing time remains a factor (refer to the [Benchmarks](#benchmarks) section for estimates, where \"Total time\" reflects both classical and quantum processing). In contrast to error mitigation, which requires overhead in the form of sampling, Fire Opal's error suppression works at both the gate and pulse levels to address various sources of noise and to prevent the likelihood of an error occurring. By preventing errors, the need for expensive post-processing is eliminated.\n",
    "\n",
    "The following image depicts the error suppression methods automated by Fire Opal Performance Management.\n",
    "\n",
    "![Visualization of the error suppression pipeline](/docs/images/guides/qctrl-performance-management/error_suppression.svg)\n",
    "\n",
    "The function offers two primitives, Sampler and Estimator, and the inputs and outputs of both extend the implemented spec for [Qiskit Runtime V2 primitives](/docs/guides/primitive-input-output)."
   ]
  },
  {
   "cell_type": "markdown",
   "id": "64534d1a",
   "metadata": {},
   "source": [
    "## Benchmarks\n",
    "\n",
    "[Published algorithmic benchmarking](https://journals.aps.org/prapplied/abstract/10.1103/PhysRevApplied.20.024034) results demonstrate significant performance improvement across various algorithms, including Bernstein-Vazirani, quantum Fourier transform, Grover’s search, quantum approximate optimization algorithm, and variational quantum eigensolver. The rest of this section provides more details about types of algorithms you can run, as well as the expected performance and runtimes.\n",
    "\n",
    "The following independent studies demonstrate how Q-CTRL's Performance Management enables algorithmic research at record-breaking scale:\n",
    "- [Parametrized Energy-Efficient Quantum Kernels for Network Service Fault Diagnosis](https://arxiv.org/abs/2405.09724v1) - up to 50-qubit quantum kernel learning\n",
    "- [Tensor-based quantum phase difference estimation for large-scale demonstration](https://arxiv.org/abs/2408.04946) - up to 33-qubit quantum phase estimation\n",
    "- [Hierarchical Learning for Quantum ML: Novel Training Technique for Large-Scale Variational Quantum Circuits](https://arxiv.org/abs/2311.12929) - up to 21-qubit quantum data loading\n",
    "\n",
    "The following table provides a rough guide on accuracy and runtimes from prior benchmarking runs on `ibm_fez`. Performance on other devices may vary. The usage time is based on an assumption of 10,000 shots per circuit. The \"Number of qubits\" indicated is not a hard limitation but represents rough thresholds where you can expect extremely consistent solution accuracy. Larger problem sizes have been successfully solved, and testing beyond these limits is encouraged.\n",
    "\n",
    "\n",
    "| Example    | Number of qubits | Accuracy | Measure of accuracy | Total time (s) | Runtime usage (s) | Primitive (Mode) |\n",
    "| ---------  | ---------------- | -------------------------- | -------- | ---------- | ------------- |------------- |\n",
    "| Bernstein–Vazirani  |  50Q    | 100%  | Success Rate (Percentage of runs where the correct answer is the highest count bitstring)     | 10    | 8         | Sampler |\n",
    "| Quantum Fourier Transform | 30Q              | 100% | Success Rate (Percentage of runs where the correct answer is the highest count bitstring)      | 10    | 8        | Sampler |\n",
    "| Quantum Phase Estimation  | 30Q   | 99.9998%  | Accuracy of the angle found: `1- abs(real_angle - angle_found)/pi`  | 10  | 8  | Sampler |\n",
    "| Quantum simulation: Ising model (15 steps) | 20Q  | 99.775%   |  $A$ (defined below)  |  60 (per step)  | 15 (per step)   | Estimator |\n",
    "| Quantum simulation 2: molecular dynamics (20 time points) | 34Q  |  96.78%  |  $A_{mean}$ (defined below)   | 10 (per time point)    | 6 (per time point)  | Estimator |\n",
    "\n",
    "Defining the accuracy of the measurement of an expectation value - the metric $A$ is defined as follows:\n",
    "$$\n",
    "A = 1 - \\frac{|\\epsilon^{ideal} - \\epsilon^{meas}|}{\\epsilon^{ideal}_{max} - \\epsilon^{ideal}_{min}},\n",
    "$$\n",
    "where $ \\epsilon^{ideal} $ = ideal expectation value,  $ \\epsilon^{meas} $ = measured expectation value, $\\epsilon^{ideal}_{max} $ = ideal maximum value, and $\\epsilon^{ideal}_{min}$ = ideal minimum value. $A_{mean}$ is simply the average of the value of $A$ across multiple measurements.\n",
    "\n",
    "This metric is used because it is invariant to global shifts and scaling in the range of attainable values. In other words, regardless of whether you shift the range of possible expectation values higher or lower or increase the spread, the value of $A$ should remain consistent."
   ]
  },
  {
   "cell_type": "markdown",
   "id": "870af0fe",
   "metadata": {},
   "source": [
    "## Get started\n",
    "\n",
    "Fire Opal Performance Management uses Qiskit v`2.0.0`, which is the recommended version. Supported versions are Qiskit >=v`2.0.0`.\n",
    "Authenticate using your [IBM Quantum Platform API key](http://quantum.cloud.ibm.com/), and select the Qiskit Function as follows. (This snippet assumes you've already [saved your account](/docs/guides/functions#install-qiskit-functions-catalog-client) to your local environment.)"
   ]
  },
  {
   "cell_type": "code",
   "execution_count": 1,
   "id": "11af8fb4",
   "metadata": {},
   "outputs": [],
   "source": [
    "from qiskit_ibm_catalog import QiskitFunctionsCatalog\n",
    "\n",
    "catalog = QiskitFunctionsCatalog(channel=\"ibm_quantum_platform\")\n",
    "\n",
    "# Access Function\n",
    "perf_mgmt = catalog.load(\"q-ctrl/performance-management\")"
   ]
  },
  {
   "cell_type": "markdown",
   "id": "2947b5c3",
   "metadata": {},
   "source": [
    "## Estimator primitive"
   ]
  },
  {
   "cell_type": "markdown",
   "id": "df2788d5",
   "metadata": {},
   "source": [
    "### Estimator example\n",
    "\n",
    "Use Fire Opal Performance Management's Estimator primitive to determine the expectation value of a single circuit-observable pair."
   ]
  },
  {
   "cell_type": "markdown",
   "id": "82932760",
   "metadata": {},
   "source": [
    "In addition to the `qiskit-ibm-catalog` and `qiskit` packages, you will also use the `numpy` package to run this example. You can install this package by uncommenting the following cell if you are running this example in a notebook using the IPython kernel."
   ]
  },
  {
   "cell_type": "code",
   "execution_count": 2,
   "id": "70bb93ef",
   "metadata": {},
   "outputs": [],
   "source": [
    "# %pip install numpy"
   ]
  },
  {
   "cell_type": "markdown",
   "id": "02b2a79a",
   "metadata": {},
   "source": [
    "**1. Create the circuit**\n",
    "\n",
    "As an example, generate a random Hermitian operator and an observable to input to the Performance Management function."
   ]
  },
  {
   "cell_type": "code",
   "execution_count": 3,
   "id": "32037218",
   "metadata": {},
   "outputs": [],
   "source": [
    "import numpy as np\n",
    "from qiskit.circuit.library import iqp\n",
    "from qiskit.quantum_info import random_hermitian, SparsePauliOp\n",
    "\n",
    "n_qubits = 50\n",
    "\n",
    "# Generate a random circuit\n",
    "mat = np.real(random_hermitian(n_qubits, seed=1234))\n",
    "circuit = iqp(mat)\n",
    "circuit.measure_all()\n",
    "\n",
    "# Define observables as a string\n",
    "observable = SparsePauliOp(\"Z\" * n_qubits)"
   ]
  },
  {
   "cell_type": "code",
   "execution_count": 4,
   "id": "476fae6a",
   "metadata": {},
   "outputs": [],
   "source": [
    "# Create PUB tuple\n",
    "estimator_pubs = [(circuit, observable)]"
   ]
  },
  {
   "cell_type": "markdown",
   "id": "09e64cd7",
   "metadata": {},
   "source": [
    "**2. Run the circuit**\n",
    "\n",
    "Run the circuit and optionally define the backend and number of shots."
   ]
  },
  {
   "cell_type": "code",
   "execution_count": 5,
   "id": "2b892956",
   "metadata": {
    "tags": [
     "remove-cell"
    ]
   },
   "outputs": [],
   "source": [
    "# This cell is hidden from users\n",
    "from qiskit_ibm_runtime import QiskitRuntimeService\n",
    "\n",
    "service = QiskitRuntimeService()\n",
    "backend_name = service.least_busy().name"
   ]
  },
  {
   "cell_type": "code",
   "execution_count": 6,
   "id": "26952e1f",
   "metadata": {},
   "outputs": [],
   "source": [
    "# Run the circuit using the estimator\n",
    "qctrl_estimator_job = perf_mgmt.run(\n",
    "    primitive=\"estimator\",\n",
    "    pubs=estimator_pubs,\n",
    "    backend_name=backend_name,\n",
    ")"
   ]
  },
  {
   "cell_type": "markdown",
   "id": "c07af9d0",
   "metadata": {},
   "source": [
    "You can use the familiar [Qiskit Serverless APIs](./serverless) to check your Qiskit Function workload's status:"
   ]
  },
  {
   "cell_type": "code",
   "execution_count": 7,
   "id": "2b309861",
   "metadata": {},
   "outputs": [
    {
     "data": {
      "text/plain": [
       "'QUEUED'"
      ]
     },
     "execution_count": 7,
     "metadata": {},
     "output_type": "execute_result"
    }
   ],
   "source": [
    "qctrl_estimator_job.status()"
   ]
  },
  {
   "cell_type": "markdown",
   "id": "23556c8e",
   "metadata": {},
   "source": [
    "**3. Retrieve the result**"
   ]
  },
  {
   "cell_type": "code",
   "execution_count": 8,
   "id": "8be67088",
   "metadata": {},
   "outputs": [],
   "source": [
    "# Retrieve the counts from the result list\n",
    "result = qctrl_estimator_job.result()"
   ]
  },
  {
   "cell_type": "markdown",
   "id": "7375fcad",
   "metadata": {},
   "source": [
    "The results have the same format as an [Estimator result](/docs/guides/primitive-input-output#estimator-output):"
   ]
  },
  {
   "cell_type": "code",
   "execution_count": 9,
   "id": "ef85a036",
   "metadata": {},
   "outputs": [
    {
     "name": "stdout",
     "output_type": "stream",
     "text": [
      "The result of the submitted job had 1 PUB and has a value:\n",
      " PrimitiveResult([PubResult(data=DataBin(evs=0.0125, stds=0.9999218719480037), metadata={'precision': None})], metadata={})\n",
      "\n",
      "The associated PubResult of this job has the following DataBins:\n",
      " DataBin(evs=0.0125, stds=0.9999218719480037)\n",
      "\n",
      "And this DataBin has attributes: dict_keys(['evs', 'stds'])\n",
      "The expectation values measured from this PUB are: \n",
      "0.0125\n"
     ]
    }
   ],
   "source": [
    "print(\n",
    "    f\"The result of the submitted job had {len(result)} PUB and has a value:\\n {result}\\n\"\n",
    ")\n",
    "print(\n",
    "    f\"The associated PubResult of this job has the following DataBins:\\n {result[0].data}\\n\"\n",
    ")\n",
    "print(f\"And this DataBin has attributes: {result[0].data.keys()}\")\n",
    "print(\n",
    "    f\"The expectation values measured from this PUB are: \\n{result[0].data.evs}\"\n",
    ")"
   ]
  },
  {
   "cell_type": "markdown",
   "id": "20cb6ab1",
   "metadata": {},
   "source": [
    "### Estimator inputs\n",
    "<Admonition type=\"caution\">Fire Opal Performance Management accepts abstract circuits, in contrast to the native Qiskit Runtime primitives, which only accept circuits that are written in the target backend’s Instruction Set Architecture (ISA). For best results, do not transpile circuits before submitting via the Performance Management function. </Admonition>\n",
    "\n",
    "| Name  | Type  | Description | Required | Default  | Example |\n",
    "|------|------|----------|----------|-----------|-----------|\n",
    "| pubs       | `QctrlEstimatorPubLike` or `list[QctrlEstimatorPubLike]` | One or more tuples containing the inputs listed under `EstimatorPubLike` components   | Yes   | N/A   | `(circuit, observables, parameter_values)`   |\n",
    "| backend_name| `str`  | The name of the backend | No  |  The least busy backend that your instance has access to | `\"ibm_fez\"` |\n",
    "| options| `dict`  | Input options; see Options section for more details | No  |  See the Options section for details | `{\"default_shots\": 2048}` |\n",
    "\n",
    "**`QctrlEstimatorPubLike` components (derived from the [Qiskit Runtime PUB definition](/docs/guides/primitive-input-output#estimator-pub)):**\n",
    "- A single circuit defined as a `QuantumCircuit` or in OpenQASM 2.0 or 3.0 string format.\n",
    "- One or more observables that specify the expectation values to estimate, in any of the formats denoted in the list \"Supported observables formats\".\n",
    "- (Optional) A collection of parameter values to bind the circuit against, which follow the same [array broadcasting rules](./primitive-input-output#broadcasting-rules) as the `QiskitRuntime` primitives.\n",
    "- (Optional) A target precision for expectation values to estimate.\n",
    "- (Optional) A real number representing the precision, or a dictionary of run options containing the shot count. For example: `{\"shots\": <int>}`.\n",
    "\n",
    "**Supported observables formats:**\n",
    "- Any one of the `ObservablesArrayLike` formats, such as `Pauli`, `SparsePauliOp`, `PauliList`, or `str`\n",
    "- A Pauli string: `\"XY\"`\n",
    "- A dictionary - Pauli strings with coefficients: `{\"XY\": 0.5, \"YZ\": 0.3}`\n",
    "- A list of Pauli strings: `[\"XY\", \"YZ\", \"ZX\"]`\n",
    "- A list of Pauli strings with coefficients: `[(\"XY\", 0.5), (\"YZ\", 0.3)]`\n",
    "- A nested list of Pauli strings: `[[\"XY\", \"YZ\"], [\"ZX\", \"XX\"]]`\n",
    "- A nested list of Pauli strings with coefficients: `[[(\"XY\", 0.1), (\"YZ\", 0.2)], [(\"ZX\", 0.3), (\"XX\", 0.4)]]`\n",
    "\n",
    "**Supported backends:**\n",
    "The following list of backends are currently supported. If your device is not listed, [reach out to Q-CTRL](https://form.typeform.com/to/iuujEAEI?typeform-source=q-ctrl.com) to add support.\n",
    "- ibm_brisbane\n",
    "- ibm_brussels\n",
    "- ibm_cleveland\n",
    "- ibm_fez\n",
    "- ibm_kawasaki\n",
    "- ibm_nazca\n",
    "- ibm_quebec\n",
    "- ibm_rensselaer\n",
    "- ibm_strasbourg\n",
    "- ibm_torino\n",
    "\n",
    "**Options:**\n",
    "| Name   | Type   | Description  | Default |\n",
    "|--------|----------|-----------------------|---------------------|\n",
    "| session_id | `str`  | An existing Qiskit Runtime session ID  | `\"cw4r3je6f0t010870y3g\"` |\n",
    "| default_shots | `int`  | The number of shots to use for each circuit  | `2048` |\n",
    "| default_precision | `float`  | The target precision for expectation values to estimate for each circuit  | `0.015625` |\n",
    "| job_tags | `list[str]` | A list of job tags | `[]`|\n",
    "\n",
    "### Estimator outputs\n",
    "| Name   | Type   | Description  | Example |\n",
    "|--------|---------------------------------|------------------------------------|---------------------|\n",
    "| N/A | `PrimitiveResult`  | The [`PrimitiveResult`](/docs/api/qiskit/qiskit.primitives.PrimitiveResult) corresponding to the list of input PUBs | `PubResult(data=DataBin(evs=[0.1234], stds=[0.1]))` |"
   ]
  },
  {
   "cell_type": "markdown",
   "id": "a78ce8bd",
   "metadata": {},
   "source": [
    "## Sampler primitive"
   ]
  },
  {
   "cell_type": "markdown",
   "id": "b1300f06",
   "metadata": {},
   "source": [
    "### Sampler example\n",
    "\n",
    "Use Fire Opal Performance Management's Sampler primitive to run a Bernstein–Vazirani circuit. This algorithm, used to find a hidden string from the outputs of a black box function, is a common benchmarking algorithm because there is a single correct answer."
   ]
  },
  {
   "cell_type": "markdown",
   "id": "144e48f3",
   "metadata": {},
   "source": [
    "**1. Create the circuit**\n",
    "\n",
    "Define the correct answer to the algorithm, the hidden bitstring, and the Bernstein–Vazirani circuit. You can adjust the width of the circuit by simply changing the `circuit_width`."
   ]
  },
  {
   "cell_type": "code",
   "execution_count": 10,
   "id": "2cd807b1",
   "metadata": {},
   "outputs": [],
   "source": [
    "import qiskit\n",
    "\n",
    "circuit_width = 35\n",
    "hidden_bitstring = \"1\" * circuit_width\n",
    "\n",
    "# Create circuit, reserving one qubit for BV oracle\n",
    "bv_circuit = qiskit.QuantumCircuit(circuit_width + 1, circuit_width)\n",
    "bv_circuit.x(circuit_width)\n",
    "bv_circuit.h(range(circuit_width + 1))\n",
    "for input_qubit, bit in enumerate(reversed(hidden_bitstring)):\n",
    "    if bit == \"1\":\n",
    "        bv_circuit.cx(input_qubit, circuit_width)\n",
    "bv_circuit.barrier()\n",
    "bv_circuit.h(range(circuit_width + 1))\n",
    "bv_circuit.barrier()\n",
    "for input_qubit in range(circuit_width):\n",
    "    bv_circuit.measure(input_qubit, input_qubit)\n",
    "\n",
    "# Create PUB tuple\n",
    "sampler_pubs = [(bv_circuit,)]"
   ]
  },
  {
   "cell_type": "markdown",
   "id": "85d3c00b",
   "metadata": {},
   "source": [
    "**2. Run the circuit**\n",
    "\n",
    "Run the circuit and optionally define the backend and number of shots."
   ]
  },
  {
   "cell_type": "code",
   "execution_count": 11,
   "id": "2595df84",
   "metadata": {},
   "outputs": [],
   "source": [
    "# Run the circuit using the sampler\n",
    "qctrl_sampler_job = perf_mgmt.run(\n",
    "    primitive=\"sampler\",\n",
    "    pubs=sampler_pubs,\n",
    "    backend_name=backend_name,\n",
    ")"
   ]
  },
  {
   "cell_type": "markdown",
   "id": "3c49fbba",
   "metadata": {},
   "source": [
    "Check your Qiskit Function workload's [status](/docs/guides/functions#check-job-status) or return [results](/docs/guides/functions#retrieve-results) as follows:"
   ]
  },
  {
   "cell_type": "code",
   "execution_count": 12,
   "id": "b7acbb7f",
   "metadata": {},
   "outputs": [
    {
     "data": {
      "text/plain": [
       "'QUEUED'"
      ]
     },
     "execution_count": 12,
     "metadata": {},
     "output_type": "execute_result"
    }
   ],
   "source": [
    "qctrl_sampler_job.status()"
   ]
  },
  {
   "cell_type": "markdown",
   "id": "35921605",
   "metadata": {},
   "source": [
    "**3. Retrieve the result**"
   ]
  },
  {
   "cell_type": "code",
   "execution_count": 13,
   "id": "2d4f5f7d",
   "metadata": {},
   "outputs": [],
   "source": [
    "# Retrieve the job results\n",
    "sampler_result = qctrl_sampler_job.result()"
   ]
  },
  {
   "cell_type": "code",
   "execution_count": 14,
   "id": "7a359d99",
   "metadata": {},
   "outputs": [
    {
     "name": "stdout",
     "output_type": "stream",
     "text": [
      "Counts for the meas output register: {'11111111111111111111111111111111111': 423, '11111111111111111111111111111111101': 185, '11111111111011111111111111111111111': 47, '11111111111111110111111111111111111': 41, '11111111111111111111111111111111110': 32, '11111111111111111111111111011111111': 28, '11111111111111111111111111101111111': 27, '11111111111111111111111111110111111': 23, '11111111110111111111111111111111111': 19, '01111111111111111111111111111111111': 16, '11111111111111111111101111111111111': 15, '00111111111111111111111111111111111': 12, '11111111111011111111111111111111101': 12, '11111111111111011111111111111111111': 11, '11111111111111111111111101111111111': 11, '11111111111111111110111111111111111': 10, '11111111111111111111111111011111101': 10, '11111111111111111111111111111011111': 10, '00000000000000000000000000111111111': 9, '11111111111111111111111111110111101': 9, '11111111111111111011111111111111111': 8, '11111111111111111111110111111111111': 8, '11111111111111111111111111111111100': 8, '11011111111111111111111111111111111': 8, '11111111111111111111011111111111111': 8, '11111111111111111111111110111111111': 7, '11111111111111111101111111111111101': 7, '11111111111111111111111111111111011': 7, '00000000000000000000000000000000101': 7, '11111111111111111111111111111110111': 6, '11111111111111111111111111101111101': 6, '00000000000000000000000000000001110': 6, '01111111111111111111111111111111101': 6, '00000000000000000000000000000000011': 6, '11111101111111111111111111111111111': 5, '00000000010111111111111111111111111': 5, '00000000000000000000000000101111111': 5, '00000000000000000000000000000001100': 5, '11111111111111111101111111111111111': 4, '00011111111111111111111111111111111': 4, '11111111111111111111001111111111111': 4, '00000000000000000000000000000001101': 4, '01111111111111111111111110111111111': 4, '11111111111111111111111011111111111': 4, '11111111111111111111111001111111111': 4, '01111111111111110111111111111111111': 4, '10101111111111111111111111111111111': 4, '11111110111011111111111111111111101': 4, '11111111111111111111111111101111110': 4, '11111111111111101111111111111011111': 4, '11111111111111110011111111111111111': 4, '00000000000000001111111111111111111': 3, '11111111111111111111111111100111111': 3, '00000000000000000000000100111111101': 3, '10011111111111111111111111111111111': 3, '00000001110111111111111111111111111': 3, '11111111111111111111101111111111101': 3, '11111111111111111111110111101111111': 3, '11111111111111111111111111111110110': 3, '00000000000000000000000000000001111': 3, '00000000000000000000000000000001011': 3, '00000000000111111111111111111111111': 3, '00000000000011111111111111111111111': 3, '00000000000000000000000000000000001': 3, '00000000000000000000000000000001001': 3, '11110111011111111111111111111111101': 3, '00000000000000000000000000000000111': 3, '11111111111111111111111111111110100': 3, '00000000000000000000000000000001000': 3, '00001111111111111111111111111111111': 3, '11111111101111111111111001111111111': 3, '10111111111111111111111110111111111': 3, '01111111111111011111111111111111111': 3, '00111111111011111111111111111111111': 3, '00000000000000000000000000000000100': 3, '11111110111111111111111011111111111': 3, '11111111111111111111111101111111101': 3, '11111101111111111111110111111111111': 3, '11111111111111111111111111011111110': 3, '11111111110111111110111111111111101': 3, '11111111111111111110011111111111111': 3, '11111111111111011111111111111111110': 3, '11111011111111111111111111111111111': 3, '11111111111111111111111110111111101': 3, '00000000000000000000000000110111111': 3, '00000000111111111111111111111111111': 2, '11111111111111111110111011111111111': 2, '11111111111111111111111111111011110': 2, '11111111111111010111111111111111111': 2, '00000000010011111111111111111111111': 2, '11111110111111111111111111111111011': 2, '11111111111111011111111111111111101': 2, '00000000011111111111111111111111111': 2, '00000000000000000000000010101111111': 2, '11111111111111101111111111111111111': 2, '00000000000000000000010111111111111': 2, '00000000000000000000000011111111111': 2, '00000000000000000000001111111111111': 2, '10000000000000000000000110111111111': 2, '11111110111111110111111111111111110': 2, '00000000000000000010111111111111101': 2, '11111111110111111111101111111111111': 2, '01111110111111111111111111111111110': 2, '00000000000000000001001111111111111': 2, '00000000010001111111111111111011111': 2, '11111111111011111111111111011111101': 2, '11111111111101111111111011111111110': 2, '00000000010111111111111111111111101': 2, '11111111101101111111111111111111111': 2, '00001111111111111111111111111111101': 2, '00000000000000000001011111111111111': 2, '00000000000000000000000000010011011': 2, '00000000001000111111111111111111111': 2, '11111111111111011011111111111111111': 2, '11111111111111111110100111111111101': 2, '00000000000000000010001011111111101': 2, '11111111111111110111111111111110011': 2, '11111111100111111111111111101111111': 2, '11111111110110111111111110111111111': 2, '00000000000000000000000010101111101': 2, '00000000000000000000000000001001101': 2, '00000000000000000000000000100001100': 2, '00000000000001111111111111111111101': 2, '00000000000000000000000011111111101': 2, '10011111111111111111111111111111101': 2, '11110000000011111111111111111111111': 2, '00000001110111111111111111111111101': 2, '00000000010000000000000000000000100': 2, '11111111111111111111111111111011101': 2, '11110111111111111111111111111110011': 2, '11111111111111110011111111111111110': 2, '11111110111111111111111001111111111': 2, '00000000000000000000000010111101111': 2, '01111111110111111111001111111111101': 2, '00000000000000100000010000000001011': 2, '10000001110111111111111011111111101': 2, '11111111111111010011111111110111111': 2, '11111111111111011010111111111101111': 2, '11111111111111000000000000000000101': 2, '00000000000000000001001000000001100': 2, '00000000000000001111111111111111110': 2, '00111111111111111111111111111111100': 2, '00000000000000000000000000000000110': 2, '00000000101000000000000000000000111': 2, '01111111111111111111111100111111111': 2, '11110111111111111111111111011111110': 2, '11111111111011010111111111111111111': 2, '11110111111111111111101111111111101': 2, '10111111111111111111011111111111111': 2, '11111111111111111111011101111111111': 2, '11111111111111110111111101110111101': 2, '11111111111111101111111111111110110': 2, '00000000111111111111111111111111110': 2, '11101111111111110111111111111111111': 2, '11101111111111111111111111111110100': 2, '11101111111111110011111111111111111': 2, '11111111011111111111111111111110111': 2, '01011111111111111111111111111111101': 2, '11111111011111011111111111111111111': 2, '11111111111011111111111111110111111': 2, '11111111111111011111111111111111100': 2, '00000000000000000000000000000000000': 2, '11101111111111111110111111111111111': 2, '01111111111111111111111111101111111': 2, '11111111110111111110011111111111111': 2, '00000001110111110111111111111111111': 2, '11111110111111111111111011111101111': 2, '11110111111111111111111101111111111': 2, '11111111111111111111111011111111101': 2, '11111111111111111110111001111111111': 2, '11111111111111110111001111111111111': 2, '11111111111111111111111111111111001': 2, '11111111111011111111111011111011111': 2, '11101111111111111111110111111111111': 2, '11111111111111111111111111110110111': 2, '11110111111111111111110111111111111': 2, '11101111111111111101111111111111111': 2, '00000000000000000000000000000001010': 2, '11111111111111111111001011111111111': 1, '11111111111110111111111111110111111': 1, '01111111011111111111111111111111111': 1, '01111111111111111110111111111111101': 1, '11111111111111111111111111111101100': 1, '11111111111111110110111111111111101': 1, '11111111111111111111111101101111111': 1, '11111110111111111101111111111111101': 1, '11111111110111110111111111111111101': 1, '00111111111111111111111111110111111': 1, '11111101111111111111111111110111111': 1, '11111111111111111111111110101111111': 1, '11111111111111111111110111011111111': 1, '10111111111111111111111111111111101': 1, '11111111110111111111111101111111111': 1, '11111111111111111111111110111011111': 1, '11111111111111111111111111111110101': 1, '00111111111111111101111111111111111': 1, '01111111111111111111111011111111111': 1, '11111111111111111111111111110111100': 1, '11111110101111111111111111111111111': 1, '11111111111111111110111011111111101': 1, '11111111111111111101111111101111111': 1, '11111111111111101111111111111111110': 1, '11111110111111111111111111111111100': 1, '11101111111111111111111111110111111': 1, '11111111111111111100111111111111101': 1, '11111111111111110111111111111111101': 1, '11111111111111110111111101111111111': 1, '11111111111111111111011111111111101': 1, '11111111111111111111111111101111100': 1, '11111111101111111111111111110111101': 1, '11111111111111111011111111111011111': 1, '01111111111111111111111111111111011': 1, '11111111110111111111011111111111111': 1, '11111111111111011111111111101111111': 1, '11111111111111111111111111100111101': 1, '11111111111111111111111111010111111': 1, '11111110111111110111111111101111111': 1, '11111111111111111101111111111011101': 1, '11111111111111111111111111011101111': 1, '11111101111111111111111011111111111': 1, '11111111111101111111111111111111101': 1, '01111111101111111111111111111111111': 1, '11110110111111111111111111111111101': 1, '00000000000000000000000000000111111': 1, '11111111101111111111111011101111111': 1, '11111111111111111101111011111111100': 1, '00000000000000000000000100111111110': 1, '00000000000100000000000111111111111': 1, '11111111111111111111110011111111111': 1, '11111111111111110111011111101111111': 1, '00000000001000000000000100111111111': 1, '11111110111111111111111011101111101': 1, '11111111110111111111111011110111111': 1, '11111111111111110101111011111111101': 1, '00000000000000000000000110111111111': 1, '11111111111111110111011011111111111': 1, '11111111101111111111111011111111110': 1, '11111111111111111101111111111011011': 1, '10111011111111111111111111111111111': 1, '00000001111111111111111111111111101': 1, '11111111111111111111111010111111110': 1, '11111111111111011011111111111111101': 1, '11111111111111111111111111111111010': 1, '00000000000000010001111111111111111': 1, '00000011111111111111111111111111111': 1, '00011111111111111101111111111111101': 1, '00000000000000000000011111111111101': 1, '11111111111111011101111111110111111': 1, '00000000000000000001000111111111111': 1, '10111111111111111111111011111111111': 1, '00000000000000000000111111111111111': 1, '11011110111111111111111111101111111': 1, '00111111111111111111111011111011111': 1, '00000000001111111111111111111111101': 1, '11111111111111111101101011111111101': 1, '11101111111111111111111011011111111': 1, '00000000001011111111111111111111110': 1, '00000000001000000111111111111111101': 1, '00000000001000000000000001101111101': 1, '11111111101000100011111111111111111': 1, '01110000011111111111111111111111111': 1, '00000001001000000000000000000001101': 1, '00000000000000000000000000001000110': 1, '00000000000000000000000000001111101': 1, '00000001000000001001111111111111101': 1, '00000000000000001111001111111111101': 1, '11111111111111111001111111111111110': 1, '11111111111111111101111011111101101': 1, '00111111111111111111101111111111101': 1, '11011111111111111111110111111111101': 1, '00000000000100000001000111111111111': 1, '10000001111111111111111111111111111': 1, '00000000000000001000111111111111111': 1, '11111111111111110111111111011111100': 1, '00000000010000000000000001111111110': 1, '00000000000000000000000100001000001': 1, '00000000000000001000000110111111111': 1, '11111111111111011110111011111111111': 1, '00000000000000000000000110000000011': 1, '00000000000000111011111111111111101': 1, '00000001111111110111111111111011111': 1, '00000000000010000000000100111111100': 1, '00000000000000000001000001111111111': 1, '11111111111111111010111111111111101': 1, '00000000001000000000000000000000100': 1, '11111111111011111101111111111111110': 1, '01111111111111111101111111111011101': 1, '00000000000000111101111111111111111': 1, '00000111111111111111111110111111111': 1, '11111110111111111101111111011111101': 1, '00000000001000000000000000000001011': 1, '00000000000000100000000110111111111': 1, '11111111111111110101111111111101111': 1, '11111011111111111111111011111011111': 1, '00000000000000000000000000001001111': 1, '10111111111111111111111011111111110': 1, '11111111111111111111111100111111110': 1, '00111111111111111111111111111111001': 1, '00000000000000000001000010100111111': 1, '11110111111111111111111111111001111': 1, '11111011111111111111111101111111110': 1, '11111111111111111010111111011111111': 1, '11110111111111111111111010111111111': 1, '11110111111111111111111111011011111': 1, '11111111101111111111111110111101101': 1, '00111111111111111111111110111111101': 1, '11111111111111110111111000111111101': 1, '00000000000000000001001101110111111': 1, '11111111111100000001111111111111111': 1, '11111111111111011111111111011110111': 1, '00000000000000000001000000101110101': 1, '00000000000000000011110111111111110': 1, '00000000001000000000000001111111111': 1, '00000000000000000000100111111111111': 1, '11101111111111111111000111111111111': 1, '11111111011111111101111111101111111': 1, '11111111111111111101110111111111110': 1, '01110000000111111111111111111111101': 1, '11001110111111111111111111111111111': 1, '00100000010000000000000100111111111': 1, '11111111110111110111111110110111111': 1, '00000001111111111111111111101111111': 1, '11111111111111111111111000101111101': 1, '00000000000000000000010010111111101': 1, '11111110111010111111111110111111111': 1, '11111111111111111011111111110101111': 1, '00000000000000000000000010011001111': 1, '11111111111111010001111111111111111': 1, '00000000000000000000110010111111111': 1, '11110111111111111111111111101011111': 1, '11111111111111011111111100111111111': 1, '11111111111001111111111111111111100': 1, '11111111111101111111111011111111100': 1, '11001111111111111111111111101111101': 1, '11001111111111111111111111111111110': 1, '11111111111111011011101111111111111': 1, '11111111111111111111010111111111110': 1, '01111110111111101111111111111111111': 1, '11111111111110111110111111111011111': 1, '11111111111111111010111111111111011': 1, '11111111111011111111101011111111101': 1, '11111111111111111011110111111111110': 1, '11101110111111111111111011111111101': 1, '11111111111111111011111101111111110': 1, '11110111111011111110111111111111111': 1, '11111111011111111111110011111111101': 1, '00010000000000000000000111111111111': 1, '01111111111011111111111011111111101': 1, '11111111111111101111011110111111111': 1, '00000000000000101111111111111111111': 1, '11111111111111011011111110111111111': 1, '00000000101000001000000000000000111': 1, '11111111110111111011111111111111011': 1, '00000001000111111111111111111111101': 1, '01001111111111111111111111101111111': 1, '11101111111111111011111011111111111': 1, '10001111111111111111111111111111111': 1, '00000000000000000001101111111111111': 1, '11011111010111111111111111111111111': 1, '11111011110111110111111111111111111': 1, '00000000010011111111111111011111111': 1, '11111111111111111111000111111101111': 1, '11100111111111111111111111111111101': 1, '11111111111111111101011111011111101': 1, '11111111111011111011111111111111100': 1, '11111111111101111111111110101111101': 1, '10010000010111111111111111111111111': 1, '11111111111111111111111011000000100': 1, '11111111111111111100111111110111011': 1, '10000001000000001111111111111111111': 1, '00000000000111111111111111101111110': 1, '00000000000000000000000010111111100': 1, '11111110111111111111110101111111111': 1, '11111111101111111110111111111111110': 1, '10000000000000000111111111111111111': 1, '10100000111111111111111111111111111': 1, '10000000011111111111111111111111110': 1, '00000000001010000000011111111111111': 1, '11101110110111111101111111111111110': 1, '00000000101111111101111111111111101': 1, '11111111001111111101111111111111111': 1, '11111110111111011111111111111111011': 1, '00000000000000101111110111111111111': 1, '11111111011111111011111111101111111': 1, '10000000000001000000000000000000100': 1, '10000001000000000000000000010000110': 1, '11110001111111111111111111111111111': 1, '00011111111101111111111111111111110': 1, '00000000000000100100000000000001110': 1, '11111111100111011111111111111111111': 1, '11111110111111111011111101111111111': 1, '11111111111111110111110111111111110': 1, '00000000000101111111111111111111101': 1, '00000000000000000000100100000000001': 1, '10000000000000000000100010111111111': 1, '00000000000000000000000000001000100': 1, '01110111111111111101111111111111101': 1, '10111101111111111101111111111111111': 1, '11111111101111111111111111101101111': 1, '00000000000001000000000001000001011': 1, '11011111111011111111111111111111110': 1, '11111111111111011111101011111111111': 1, '10111111111111110111111111110111111': 1, '11110111111111101111111111101111111': 1, '11111111111111111011111010101111111': 1, '00000000000000010000011111111111111': 1, '00000000000100000000011111111110111': 1, '00000000000100111111111111111111111': 1, '00000001000100000000000000000000011': 1, '11111111101110101111111111111111111': 1, '00000000000100000000000010111111100': 1, '11111111111111111111110001101111101': 1, '00000000000100100000000110111111111': 1, '00000000000001000001000111111111111': 1, '11111111111111011101111111011111111': 1, '11111111111111111110110111111111110': 1, '11111111111111111110111101111111110': 1, '11111111111111110011111111110111100': 1, '00000000010011110011111111111111111': 1, '11001111111111111111110111111111110': 1, '11111111111111101111111110111111110': 1, '11111110111111111111111111011111011': 1, '11011111111111111010111111111111111': 1, '11111111111111001110111111111111111': 1, '00000000001000000000000000111111111': 1, '11111111111111111111111101011011111': 1, '00000000000000000000000000000011010': 1, '11011111110111111111110111111111111': 1, '10101111101111111111111111111111101': 1, '00000000000000000001110111111111111': 1, '00000000010100000000000000000000001': 1, '11111111111111110111111011110111101': 1, '01110000010111111111111111111111101': 1, '00001111111011111111111111111111111': 1, '11111111101111111111011011111111111': 1, '11111111111110111011111111111111101': 1, '11111111111011011110111111111111111': 1, '00000000010001111111111111111111111': 1, '11110111011111111111111111111111110': 1, '00000000000000000000000001111111101': 1, '11111100011111111111111111111111111': 1, '00000001000000010011111111111111111': 1, '11111111111101011111111111111001111': 1, '11111111110101111111111111011111110': 1, '11111111111011101111110111111111111': 1, '00000001001011111111111011111111111': 1, '11101111111001111111111111111111110': 1, '01111011111111111111110111111111101': 1, '00001000000000000000000010111111111': 1, '11111110111111111111011111101111111': 1, '00000000010111111111110111111111101': 1, '11111110111101110111111111101111111': 1, '00000001000000000000000001111111101': 1, '11111111101111011111111111111101111': 1, '10111111111111111011111111111111101': 1, '00001000000000000111111111111111101': 1, '11111111111111111111101111111111000': 1, '00000011010111111111111111111111111': 1, '00000100000000000111111111111111110': 1, '11111111111111011110101111111111111': 1, '01111111110111111111111111111101111': 1, '00000100000000000000000001000001011': 1, '11111111111111111111111001101111101': 1, '01111111111111111111011111111101111': 1, '11111110010111111111111011111111111': 1, '00001000000001111111111111111111111': 1, '01111111111111111110111111110111111': 1, '00000100010010111111111111111111111': 1, '00000000000000000011111111111111101': 1, '11111111010111110011111111111111110': 1, '11011111111111111111111001111111110': 1, '10111111111011111111011111111111101': 1, '00000100000000000000000110111111111': 1, '00000000010111111111101111111101111': 1, '11111111011011110111111101111111111': 1, '00111110111111111111111110111111111': 1, '01000000000000000000000100111111111': 1, '11111111010111111010111111111111111': 1, '11111101111111111111111101111011111': 1, '00000000000000110001001111111111111': 1, '10111111111111111111001111111111101': 1, '11111101111111111110111111111111100': 1, '00000111010111111111111111111111101': 1, '00000001011111111111111111001111111': 1, '00111111111111110111111111111110110': 1, '11101111111111111111100111111111111': 1, '11111111111111111110110111111111100': 1, '11111111111111111110111111111110011': 1, '11111111111111110111111111011111011': 1, '00111111111101111101111111111111111': 1, '01111111111111111110110111111111111': 1, '00000000000000000000000000001000011': 1, '00000000000000000000101000000000101': 1, '11111111111111111111111111011110011': 1, '00000000000000000000100000000000000': 1, '11111111111111111111111110111010101': 1, '00000000001000000000000000101111111': 1, '00000000000000000001111111111111111': 1, '11111111111111011111111100111110111': 1, '11110111111111111111111110111110111': 1, '00000000000000000001110111111110111': 1, '11111111101111110111111111111110101': 1, '00000000000000000000000110000000100': 1, '00000001111111111111111111111100111': 1, '00010000111111111111111111111111110': 1, '00000000000000000000001011111110111': 1, '00011111111111111111111011111111101': 1, '11111111111111110111111111010110111': 1, '00000000000000000000000000000010110': 1, '10001111111111111111111111111110111': 1, '11111111111111111110111101111111001': 1, '11111111111111111111111111010001111': 1, '00011110111111111111111110111111111': 1, '11111111111111111111000111111111101': 1, '11111111111011111111111101111111011': 1, '11111111111111011111111111111100111': 1, '11111011111111111111111111111111000': 1, '11110111111101111111111111111111101': 1, '00111111111111111111111111001111101': 1, '00000000000000101111111110111111110': 1, '01111111111111011111111111110111101': 1, '10101111111111011111111111111111101': 1, '11111101101111111111111110111111111': 1, '11111111101101111111111111011111111': 1, '00011111111111111111101111011111111': 1, '01111111111101111111111111011111101': 1, '11111011011111111111111111011111111': 1, '10111111101111111111111111011111101': 1, '11111111111111111111011001011111111': 1, '00000000100111111111111111011111111': 1, '11111101111111111111111111111100111': 1, '11110111111111110010111111111111111': 1, '00000000000000000001101000000001100': 1, '11111111110111110111110111111111111': 1, '01111111111111111111111101111110111': 1, '11111111111111111111111100011111101': 1, '11111111111111111111111001011111101': 1, '10111111111111110111111101111111111': 1, '11111111111110101111101111111111111': 1, '00000100000000010010000111100111110': 1, '11111110100111111011111111110111111': 1, '00000000000100000100000000101111111': 1, '00000000000100100100000000100001011': 1, '11110000000000000000000000111111100': 1, '11101111101111111011111111111111111': 1, '11111110111011111111001000000001100': 1, '00000000000000100000001111011111111': 1, '11101111111011111111111111111111001': 1, '00000000100111111110111111111101101': 1, '00000000000110000100000000000101110': 1, '00000000101000000000100111111111111': 1, '01010000000000000000000011000000010': 1, '11001011111111111111100010111101011': 1, '00000001101000000001001111111111011': 1, '11010000000100000000001000101111111': 1, '11111111101111111111111011110110111': 1, '11111111100000010010000001111111110': 1, '00100000100111100001111111111111100': 1, '10000000000000000000001111101101110': 1, '00000000000000001000111111111011110': 1, '00000000000000000011111111111110111': 1, '01111111111111111111100111101111111': 1, '11100000000000000100000000100001110': 1, '10000100000100010000000000000001011': 1, '00000100010111010011110111111111101': 1, '11111111110111110111011111011111100': 1, '00000011111111111111111111101111001': 1, '01111111111111110000000000000110101': 1, '11001000000000000001001111011111100': 1, '01110001000000000000010000000000101': 1, '10010001110111111111111111111111101': 1, '01010001111011111111111111110111111': 1, '11111111111111010011011111111111111': 1, '11111111111011111111100111010111111': 1, '01100000000000000001000011111111111': 1, '00000000001000000000111111011111100': 1, '00000000000000010000000001110111111': 1, '01111111111111110111111111111101110': 1, '11111111111011111111001101111111111': 1, '11111111101111111111000001111111010': 1, '11111111000111111111111111111101111': 1, '10111111010111010011111111111111111': 1, '11111111100010000000000000001000011': 1, '11111110101111111101111101111111011': 1, '11111111111111101111011111111111100': 1, '11111111101111111111111111100000111': 1, '00000001110111111110111111111111100': 1, '00000000111111111111111111011111011': 1, '10000000110010011111111111111111111': 1, '11011111110111011111110111111111101': 1, '11111101111111111011111000000111110': 1, '01100100000001000000000000000000001': 1, '11111111111111101111111000000111101': 1, '00000000000000000100000101111011101': 1, '00000000000100000000100000010000110': 1, '00000001101000000001000101111111111': 1, '11111111111111111111001000000000101': 1, '11111111110101111011101111110111111': 1, '11111111111111110111011111111111001': 1, '11111111100000100000000100000000010': 1, '11111111111011111101111101101111111': 1, '11111111100111111111000000000001111': 1, '11110111111011111011111111011110101': 1, '00100001111110111111111111111111111': 1, '11111111001010000001111111111111001': 1, '00100000000000000000000001010000011': 1, '11111111111111111011111001001110111': 1, '01111111111011110101111111111100101': 1, '01111111111110111111011111111101101': 1, '11111111111000111111101111111111110': 1, '10011110110111111111111111111111101': 1, '11011111110111111111111111110001000': 1, '00000000000000101111011111111011110': 1, '11111110111111111101111011111111001': 1, '00001110100000000000000000100001010': 1, '00000000010000010000000100000001000': 1, '11111111111000000011111111111110110': 1, '01110000001000100000000000000001011': 1, '11111111101110100111101111000111111': 1, '11111111101000101011110111111111111': 1, '00000000000000011010111111111100111': 1, '11111111111101111110111101111111100': 1, '00000000000000001111011011111011101': 1, '00000000100101111111111111111111110': 1, '00000110110110000100000000101111111': 1, '11111101101111111111111111111110101': 1, '01111111111011111111111111111011011': 1, '00000000111111011011111111111101101': 1, '00000111100111111111011111111111111': 1, '11111110010111111111111111111111101': 1, '11111011111111111100000000000011011': 1, '00111111110111101111111101111101110': 1, '00000000000000101100000111011111111': 1, '11111111101111011000111111110111111': 1, '00000001000000001110001000000001101': 1, '00000000000011111111111111111111000': 1, '10000000000000000000010000000001101': 1, '11100000010110101111111111111111010': 1, '01111111111111011111111111111101100': 1, '11111111111111010110001000000101011': 1, '11111111111111111110001111111111100': 1, '00000000000000000000111000111111101': 1, '01100001000000000000000110111111111': 1, '00000000000000000000110111111011101': 1, '10010001000000001000000000000011100': 1, '01111111110111111111100111111111110': 1, '00111111110111111111111101111111010': 1, '11111111111101110110010111111111111': 1, '11111111111111111111110111100111110': 1, '00000001000000000000000110001101111': 1, '11111011111011011011111111111111101': 1, '01001000000000000000000000100000000': 1, '10000000000111111100111111111111101': 1, '11111011111101111111111111110111100': 1, '00000000000001000000000000000100101': 1, '11111111111111111101100111111111111': 1, '00000000000000000000000111111111010': 1, '00011111111111110110110111111111111': 1, '01100000000010101110000000000000001': 1, '10110000000000000000000000000000011': 1, '11111111111111111111110100111100110': 1, '11111111111111111100001111100111111': 1, '11111111111111111110000000000001100': 1, '00100000000001000000000100000000010': 1, '00000011000111111111111110111111101': 1, '00001000000000000111111111111111011': 1, '10000000011000001000000000000000000': 1, '11111111111111111111000000001000001': 1, '11111111111111011111111010111110011': 1, '00000000000011111111111111111101010': 1, '10011111110111111100101111111111111': 1, '11111111111111111111000000101111111': 1, '10000000000011011011101111001000000': 1, '01110110111111111011111111111101101': 1, '00000000010110100110111111011111101': 1, '01111111111111111110110111101001101': 1, '11111001111111111011111111111111101': 1, '00000000000100101110111111111111110': 1, '00000001000000000000111111100111111': 1, '10000000000000100000000001100000111': 1, '11111110111110110111111110011111111': 1, '00000000000000000001001111111110110': 1, '00000000010011101111111111111111110': 1, '01111111111111111110100110111111101': 1, '00011111111111111110111111011101101': 1, '11111111111111111110000100111111111': 1, '01011111111111111111001111110111111': 1, '00100000001011111111111111101111111': 1, '11101011110111110111111111111011111': 1, '00001111111110111111111111011111111': 1, '00000001010110010111111111111101111': 1, '11111111111111111011101110111111110': 1, '11111110111110110000000100000000111': 1, '00000001000000101110000001101111111': 1, '10000100000000000000000000111111011': 1, '11111011101000111111111110111111111': 1, '00000111111001110111111111111011111': 1, '01000000010110101101111110101011010': 1, '01001111110111111111111111111111111': 1, '01111110111111111110111111111111001': 1, '00000000010111111110111011111110111': 1, '00000100000000000000000000000011100': 1, '11110111111111111111111001111111000': 1, '11010000000000000000000000000000101': 1, '11111110000000000110111011111101101': 1, '00000000000111011011111111111111110': 1, '11010000000000000000000111111111111': 1, '10011111111111111111111011101111110': 1, '11111111110111110011101011101111111': 1, '01111010001010011001000100000000010': 1, '00001011111011010100111111111011111': 1, '11111111110111111111101111011011111': 1, '10000001000000000000000100000000010': 1, '11111111101101111111111111011111001': 1, '00000000000000000110000111111101111': 1, '00000001001110001011111111111111101': 1, '11100000000000100000000000000001111': 1, '11110000000000000100000000000101111': 1, '10000000000000000000000100000001101': 1, '11110101111111110111111111111111111': 1, '11111110000000000100000000000100000': 1, '00000100000000000011110111111111101': 1, '11111111110000000010000000101011111': 1, '00001000000010001110111101111111111': 1, '01111111010010001110111111111111111': 1, '00000000000010000000000010100001111': 1, '00000000000000000000011001111111111': 1, '11011111111111111111111111010011111': 1, '00000000100110111110000000000100111': 1, '00000000000000100000000000010001100': 1, '00000000000000000001000010011111110': 1, '00000001000111111011111111110111110': 1, '11100000000000000010000000011111011': 1, '11111101011111011111000000000000100': 1, '11111111111011011001111111101011011': 1, '00000000010011111111111100111011110': 1, '00010000000000000000111101101111110': 1, '11111011111111111111111110010000001': 1, '00000000000011001111111111111111111': 1, '11111111101111010000001000011110101': 1, '00000100011001111111111111101111111': 1, '00000000000000000010111111111011001': 1, '11111111111111111111001110010111111': 1, '11000000000000000000000000000100101': 1, '11111111111101111111001111011001100': 1, '11011111101000001000000001011111111': 1, '00101111111111111110110011111101101': 1, '10000001000000000000100000101100110': 1, '00000000000000110111111011111111101': 1, '11011111101111111110111111101101111': 1, '10000101111111111110111111111111101': 1, '01111111111111011111111111111011100': 1, '11101111111101111111111111110111101': 1, '10101011111111111111011111111111111': 1, '11111110111111010111111111011110111': 1, '00000010111111111111110111111101111': 1, '00000000000000000000000010000010111': 1, '01100111111111110111111011111101101': 1, '00000000000000101001000111101111111': 1, '01111111111111101111111101111111110': 1, '00000000010111110111111111101111101': 1, '00101111111111111111101111111101111': 1, '11111111101111101111111111111101000': 1, '11111111111111111111001000000001011': 1, '01011111111110111111110111110111101': 1, '00000000011101111110001010111111101': 1, '11111111000111111111111111111111001': 1, '00000000000000001101111111101111111': 1, '11111011111111011111111111011111111': 1, '00111111100000000000000011101111110': 1, '00000000110111111111111001011111111': 1, '11100000011010111101111111111111111': 1, '11111110111000100111111111111101101': 1, '00000000010000001010111111111111111': 1, '11110111110111111111111111111110101': 1, '11111111011110111111111011011110111': 1, '00100000111111111111101111111111001': 1, '00000001110111111111110001101100110': 1, '00011111110111111011111011111111111': 1, '10111011111011111111111111110110101': 1, '11111111101111110101101111111111101': 1, '00000000000000000000000010101110110': 1, '11101111111111111111000010101111110': 1, '00110100000000000010001111111111111': 1, '10001011111111111110110000000001100': 1, '11111110001100000000000000000000100': 1, '00000100000000100000000001000000100': 1, '00000000000000000000000010000101101': 1, '00000000001000000000001001101111111': 1, '00000000000000001111111111111010111': 1, '10111110101000100101111000000001000': 1, '00001010000010101111111111111111110': 1, '00000000010111111111011111111011101': 1, '00000000000100000000110011111111111': 1, '11111111111011111101111111010111001': 1, '11111011111111111111011111011111111': 1, '00000001111110111111001111111111111': 1, '01111000111011011111111111111110101': 1, '11111001000000000000000000000000111': 1, '00111111111011010011111111111011111': 1, '00000000010001111101111111101111011': 1, '00010000000000000001101101111101111': 1, '11100000000000000000000111111111101': 1, '11111110111111111110011000011101111': 1, '01111111111011011110111100111100111': 1, '00011011111111111111011111111111011': 1, '11111111111011101111111111101110111': 1, '01111110110111111101111101111111100': 1, '11011101101111111111111111111110111': 1, '11110111111111100011111111111111111': 1, '11011110111111110111001111111111001': 1, '11110111101111110111111111111101101': 1, '00000000000100000000000001100101110': 1, '01011100010111111000000000010000011': 1, '11111110111111111111101111111010111': 1, '00000000000000010011111111110111011': 1, '11110111111110110111111111111111100': 1, '00000000000000001000000100000000100': 1, '00000000100000000001000100111111101': 1, '01011111100011111110110111111101111': 1, '11101111011111011111111111101111111': 1, '01111111111111111100111011111111110': 1, '00000000000000001000111011111111101': 1, '10101111111111111100111110011010111': 1, '11111110111111110011111100111111101': 1, '11111111111111011100001101111111101': 1, '00000000000000001111101101111111100': 1, '11111111111111111101111111111101010': 1, '11111111110111111110101111111111110': 1, '00001111100111011011111111101011001': 1, '00100000000000000000001111011111111': 1, '11100000000000000000000000000111111': 1, '00001011111011011110011011111111111': 1, '00000001000000001111001111111111111': 1, '00000000000000100001001111100011111': 1, '00000000000000010000001011111111110': 1, '11111110011111111111011111111111101': 1, '00000000000111111101111111011111101': 1, '00000000000100000001100000000001001': 1, '00000001000000001111111110111111101': 1, '11111111111111111110000000000001111': 1, '00000000100000000010110000101101111': 1, '11111111111111111101001111110111111': 1, '00001111111111111110111011111111111': 1, '11111111000111110111111111110111111': 1, '10000001110111111111111110111111111': 1, '00000000001010000001000111011111011': 1, '00000000000000000000100000000011001': 1, '00010101000111110111111011111111011': 1, '00000000001000001111111111111110111': 1, '01000111100000000110001111111101111': 1, '11111111101011111111111001111101101': 1, '10000000011111111111111111111110100': 1, '01111111111111000000000000000000100': 1, '00100100000000000000000000000000010': 1, '11111111101001111011111111111111111': 1, '10000000000000000000000000101101001': 1, '01111110100111111111101111111101101': 1, '00111111111001011001111111111111111': 1, '00011111111111111111111011100111011': 1, '11111111110111110111111111111110001': 1, '11011111111111111111111111010111011': 1, '00000000000000011010001111111111111': 1, '11111101111111110110110000000011111': 1, '11111001111111111111111111111111010': 1, '11111111111111111110001111111101110': 1, '00000100000000001111000100000011111': 1, '11111111101111111100000000000001011': 1, '11111111111111001111111111110011011': 1, '00000000000110000000000000010000111': 1, '11111111111111011101101110111011011': 1, '11111010101010011111111111111111111': 1, '01111111111111111111011111111001101': 1, '01010000000000010000000100001111110': 1, '11111111111111111000000000000000101': 1, '11111111111010111111110110111111111': 1, '00001111101111111111111011111111101': 1, '11011111111011010011111111111111111': 1, '11111111111111011011111101110111111': 1, '00000000000000001010111111110111111': 1, '11111111100000000000000001110111110': 1, '11101111111111111111011101111111100': 1, '11111000110111110101111111111111101': 1, '01111111101111111111111111100111111': 1, '00001000011001111111111111001011111': 1, '11111111111111111111011110111110101': 1, '00000001000100001011111011111101111': 1, '00111111111111011011111111111111101': 1, '00000000000000101100000110010000111': 1, '00000000010001101110011111111111111': 1, '11111111111111110010000000000001011': 1, '00000000110100111111111110111111111': 1, '11111111110111111101011111111111110': 1, '11111111101111100001111011000000101': 1, '10000001010111101111110111111111111': 1, '11111111111101101111111101101111111': 1, '00001100000000000010000000000000000': 1, '11101111111000000000000000111111011': 1, '01111111111011110111111111101111111': 1, '11111111111111111111111100010101110': 1, '00000001000000000001001111111101111': 1, '00000011010100000000001011111111111': 1, '00000000000000101001001111111111111': 1, '00000100000000000000000000100000110': 1, '11111111111110110111111110101111101': 1, '00000000000000010001101001111111101': 1, '11100000000000000000001111111110110': 1, '00100000000111111111111111101111111': 1, '11111111111001111111101111101111111': 1, '00000000000000100000000000000100100': 1, '00000010111000000000000100000000100': 1, '11111011111111110011110111111111001': 1, '00000000000010000010110000000111101': 1, '00000001000100100101111111011111110': 1, '11111110111111111111100111111011101': 1, '11111111001110000001000000111111100': 1, '11111111101111111111111111111100000': 1, '00000000000111111111110111111001111': 1, '11111111110111011111111111011111111': 1, '10111111111111111011100000000001011': 1, '10000000001111111111111111000111111': 1, '00000000010000001011111111011001111': 1, '10111111011111111111111111111111001': 1, '00000000010001110111111111111111101': 1, '01111101110111010111111111111111111': 1, '00000100100000000000000000000001000': 1, '11111111111111110011111110101111101': 1, '00000000000100100111111111110111100': 1, '10000000000000000000000100010000001': 1, '11100000000000000000011111111111110': 1, '11111111111110101111111111101110100': 1, '01100000000000101110111111111111111': 1, '00000000100000000000000000001000001': 1, '11111110111111010000000000000001001': 1, '00000000000000000100000100000001011': 1, '11011111111001110111111111111111011': 1, '00000010000011111111111011111111111': 1, '11111111000111111111111110111111111': 1, '10111111111111111111011111111111100': 1, '11111111111111000000000001000001011': 1, '00000010000001000000001110111111110': 1, '00000001001100000000111011111111111': 1, '11110000111011100111111111111111111': 1, '10101110011111101111111111111110000': 1, '11111111110011111111111101101111101': 1, '11111011111111111111001111111011111': 1, '00000000100111111011111000101001111': 1, '00000000011111111111101111111111101': 1, '11111111101111101110111000100111101': 1, '00000000000000101000010000100000110': 1, '00010000000000000010000011110111001': 1, '01101111101111111110111110101111111': 1, '00000000000001111111111111110111110': 1, '11111111111111111111100111111011111': 1, '00000000000000000000001100111110010': 1, '11111010101111011011111011011111010': 1, '00100100000100100100000000000001110': 1, '10111111111111011101111110111111111': 1, '11110101111111111111111111011011010': 1, '00000000000000100000000000011111110': 1, '00000000000000001011111111111011111': 1, '00000010000100000010000000101111111': 1, '11111111101110101110111111010001110': 1, '00000000000000000100000100000000110': 1, '00000010000000000001111101111111111': 1, '10011111110111111110111111111101111': 1, '00001111100111111111111111111111110': 1, '01111111111011111111111101101111101': 1, '01111111111111101110111011111111111': 1, '01110000001001111111111111111110101': 1, '00000000000000010000001011111011111': 1, '11011111111111111110001111111111101': 1, '00000111101111111111111011101011101': 1, '11111111111111011111111111000001011': 1, '01110000000100000000000011011010110': 1, '11110000001000000000000000000101010': 1, '11110000000000001000000100000001111': 1, '00000000000000000011100000000100111': 1, '11111111101111111110001111101111111': 1, '11111100000100001000000100111111101': 1, '11111101101101111111111001111111111': 1, '11111111111000100000000111111111111': 1, '00000100000000101100111111110111111': 1, '00000000000000010000000001001111111': 1, '01111110000000000000000011111011111': 1, '11100000000000000000000001111011111': 1, '00000000000000001000001111101101111': 1, '10000011111111111101111111011111111': 1, '11111101111111111111111111011110100': 1, '00000000011100101111001111111111111': 1, '11111111111111101101000111111111111': 1, '11111011111111110110111101110110111': 1, '11111111101111111111000111111111111': 1, '00000000000000000011001100000000110': 1, '11101110011111111110101111111101011': 1, '11111111111110111110111111111101111': 1, '00000000000010101111110111111101111': 1, '10000000000000110000000000111111101': 1, '11111101111111111110110111110111111': 1, '00000000000100000000000000001110101': 1, '11000111111111111110111111111011111': 1, '11110000000000000000110010000101111': 1, '00000000000000000001000000000111110': 1, '00110111111111111110111111111111101': 1, '11111101111111111111111111111001101': 1, '00000000100000000000010001000000101': 1, '11110111110111101101111111111111111': 1, '11111111111010111111111101111111111': 1, '11111111101100000000001111111111111': 1, '00010001000000000010000001111110000': 1, '01111111111110111110111111111111110': 1, '11111111011111110110011110111111111': 1, '00111111111111111111000111111111101': 1, '00000000000100000011101110110101110': 1, '00000001110111111111111011101111101': 1, '10000001010011111111111111111111111': 1, '00000000100011111110111110101111111': 1, '11111111010111110111111001110111111': 1, '11011111110111011111101011110111111': 1, '10000100000000000000000000100111011': 1, '00000000000000000000000001111100110': 1, '00000000000000100000000000111011111': 1, '00000000010111111111110110011111111': 1, '00000000000000010000000000111101111': 1, '11111111100110000000000111111010111': 1, '11111011111111011011110111111111111': 1, '01111111111111111111011111110111111': 1, '00000000000000001100100000000000111': 1, '00000000000000000000010000011000100': 1, '00000000100000000111111110111111111': 1, '00000100000000111111111111111011111': 1, '01001011111111111110101111111111110': 1, '11110001101101111001111111001111111': 1, '11101100111111010011111111111111111': 1, '01111111110011111011111011011111111': 1, '00000000010011101110100000000111111': 1, '11111111100010000000000000000000001': 1, '00000000110011111111111111111111010': 1, '00000001010111011110111111110101111': 1, '01111111111111111111111111010001000': 1, '11100000000000101100000100010000111': 1, '11111111110111111110111110110110010': 1, '11111111111100111111110111111111101': 1, '00000000010111101110111111011111011': 1, '11111111111111101111110001010000100': 1, '11000000000010000000000000000000100': 1, '10001110111011111111111111111111111': 1, '11111010111100111111111111111111111': 1, '11111111111011111111111111110111010': 1, '10001010111111111111111011111110111': 1, '11111111011111111111001111101101100': 1, '10000001111111111111111001111111111': 1, '00000000000000001000100010101111101': 1, '00001001010000000000000111101111101': 1, '00010000000000001111111011111111101': 1, '00111111111111111111111111011110001': 1, '10111111111111110111001111101111100': 1, '00000000000000111111110101111111111': 1, '00000000100100111111111111110111111': 1, '00111111011111111111101111111110101': 1, '11111111101000000001111111111111101': 1, '11111111011111111111110110110111101': 1, '00000010010000101111111111111111101': 1, '00000001000000000110111111110011111': 1, '01001101111111111111111111111111110': 1, '00001100000000100000000000000000011': 1, '00000000111111110011111011111111111': 1, '11111111111111010111011011111011111': 1, '00000001011111111111101111011111111': 1, '00000000000000000001001111111111100': 1, '00000000001101111111111111101100101': 1, '11111111101111111011101111111111111': 1, '11111111100111110111101111111111111': 1, '11111111110111111011000000000000100': 1, '00000000000000011111000000000001100': 1, '00000001101111111111110110111011111': 1, '00010001000000001101111110111111111': 1, '11100000000000000000000010101111111': 1, '10110111101111111111101111111111101': 1, '01000000000000000000000000101111101': 1, '00000101100011111111111111011111111': 1, '11111111111111111111101111011010111': 1, '10011111010111111111111111111100111': 1, '11111111111111111100001110111111111': 1, '00111111111111011010000000101111111': 1, '01011111111111111110111111101110001': 1, '11111100010111111111111111110111111': 1, '11111111111000000001010111111101111': 1, '00000000000000000000001100111011111': 1, '11111110111110011011110111110111110': 1, '11111111111111111111100000111100111': 1, '01111111111111011011111111101011110': 1, '00000000000000000111100111011111110': 1, '11111010111111110110011111111111111': 1, '00100000000000000000000111111011111': 1, '00000010000000000011011001111111101': 1, '11111110101111110110111111111111101': 1, '00100000010000111101111010111011111': 1, '01111111111011110110110110111111101': 1, '01111111101111111010111111111111111': 1, '11111111111111111111111101111000111': 1, '11011101110111111111111011111111111': 1, '00000000110111111111110011111011101': 1, '11100000010011110111111111111011111': 1, '11000000010100111111111111111111111': 1, '01100000000000000000000001001000011': 1, '11111111110111010001111111001011111': 1, '11111111110111001101100100111101111': 1, '00000000000100010001000010010000001': 1, '11111110111111010001111111111111110': 1, '00000000001000001010000000101111101': 1, '10101111111011111111111111111101111': 1, '10000000010111111101111111101111111': 1, '11111111101110011111111111101111111': 1, '11111011111111101010001111111111111': 1, '00000001100100000000000000000001000': 1, '01100000000001010000000000000001100': 1, '00000000000000100000101011111111111': 1, '11111110111110111111111111110111011': 1, '01111111111111111011111111110111111': 1, '11111111010111011111111111111111101': 1, '10111111101001111111100111111111100': 1, '10011000000110000001000000000011101': 1, '10000000000111100001001111111111111': 1, '10000011111111111111011111111111111': 1, '01111011111111111110111111011111100': 1, '11111111110101011011111111011111111': 1, '00000001000000010000101111111111111': 1, '11111011001101110111101111100101111': 1, '00000000000001000111111111011101101': 1, '00000000100000000000111000000001011': 1, '00000000000000001001011111111011111': 1, '00000000000000000000000000010111100': 1, '00000000000000000110000000100001100': 1, '10111111110111010111111011111111111': 1, '11110000000000000011111011110111101': 1, '01110000100000000001011111101111101': 1, '11110110111111101111111011111111100': 1, '01111111010111001101110111101111101': 1, '11111111110011111110111111101111111': 1, '11111111110111111111111110111111010': 1, '11111111110111011011111101011111101': 1, '11111100110110111110111111111111110': 1, '01111101101111111111111111110111111': 1, '10101111111111011111011111111111111': 1, '10000000000000000001000000100001110': 1, '00000000000000001000001100111111111': 1, '00000000010000000011110000100000010': 1, '10000000000000001010000000111111111': 1, '11111111011011110111111111101111101': 1, '11111111111111011011111001110111101': 1, '00100000000000001010111111111111111': 1, '11101111111011100111011111111111110': 1, '00000000010010000000000000000001110': 1, '11110111111101111010111111111101111': 1, '11101110111011111101101111111111000': 1, '01111111110111111111110101111111111': 1, '00000000001000001100000000000001100': 1, '00000000001010000001001011111111111': 1, '00000000000000010011001111101111101': 1, '00001101101100010001111111111111101': 1, '00000110110111111111111111111110101': 1, '00000000111111111110111111111110100': 1, '11111101111101111111111110111111101': 1, '01111101010111111111001110111111111': 1, '11111011101011101101010111101111101': 1, '01110100000000001000110000111111111': 1, '11111111110011111111101011111111111': 1, '00000000000011111111111111111011100': 1, '01100100000100001111111111111111111': 1, '10000000000000111011111111110111101': 1, '00001001010111101111111111111111101': 1, '11001111111111000111111111110111100': 1, '00110110111111111010010111011111111': 1, '00000000000000000010001111111111110': 1, '00000000000000101110101011111111101': 1, '11101111100011111111111101101111111': 1, '00000000011111111110111111111111101': 1, '11111110111111111101000111111101110': 1, '00001111111111110011111011111111111': 1, '11111110110111110110111100111111101': 1, '10010000000101111111111111111110111': 1, '00000111111111111110001001101111111': 1, '00000000000000000100000000001001100': 1, '01111111111111010011111011110111110': 1, '10000100010111111101111111111111101': 1, '01111111111111111111001111010111111': 1, '00000000000000000001010110111111111': 1, '11111111111101111111000111111111100': 1, '00000000011111110111001111111111101': 1, '11111111111100001011111111111110000': 1, '00000000000000000000011111111010110': 1, '00000000000000000000000010010111101': 1, '00000000000000000100000000000101100': 1, '11111111111011111111101111111111010': 1, '11100000010001101111111011110111101': 1, '00000000000000000000000001010000111': 1, '00000000000000001111110111010111101': 1, '00000000110011111111111111110111101': 1, '00000001000000000000100111111011101': 1, '10001111111111110111111111101111101': 1, '00000100000000000000000000000101101': 1, '11000000000000000101111111111111111': 1, '11111111111111111101111011000101111': 1, '00000000000000001010000100011000000': 1, '11111111111101110101001011111111111': 1, '01110000000010000001111011111111111': 1, '00110000000100000001001111111111111': 1, '01110110110011011001111001011111100': 1, '00000000000101111111001111111111111': 1, '00000001111011111111111111111111110': 1, '11111111111111111111111111001011110': 1, '11111111000111111110111111111111011': 1, '01111110111111111110001111111111101': 1, '11111101111111010110101111111101101': 1, '11111111111111010111111111111010000': 1, '11000001000000000000000111110111111': 1, '11111011111111110110000111111111101': 1, '00000000001111111110111000100111111': 1, '11101111111111011110111000111111111': 1, '00000000000000000000110000001000000': 1, '11111111111111111111111011000101001': 1, '11011111111111101111111111110011000': 1, '11111111111000101000000100001001101': 1, '01110001000000000000001111000000010': 1, '00000000000011111101111110111111101': 1, '00010000000000000010000000000000101': 1, '01100101111111111111110111111101111': 1, '10100100000000100001110111011111101': 1, '00000000000000001011000001111111111': 1, '11111111111111111011111010100110111': 1, '11110111111111111111110011111111100': 1, '00000000000000100000000000100000110': 1, '00000011111111111100111110111111111': 1, '00000001001011111111111101111111111': 1, '00000001011111111111111111011111110': 1, '01001111111111110111110111111111101': 1, '00000000000000100100000000000000001': 1, '01111111110111011011111011111111111': 1, '00000001100000000111100000000001101': 1, '01111101110111111110111011111111101': 1, '11001111111001111111110011111111101': 1, '11101111110011110111111111111111101': 1, '00000001010111011111111101111111111': 1, '00011111111111111111111101111101101': 1, '01111111111111011111011111111111101': 1, '00011111110000100000000011111111101': 1, '11111111111111010111111110111111100': 1, '00000000000001011110101111111111111': 1, '11111111100110111111111011111111111': 1, '10111111101111011011111111111011111': 1, '00000000001001000000000000000001001': 1, '11010101001111111111111111111101111': 1, '11111110111111011111111100111111110': 1, '11111111100111111010011110110111111': 1, '11111111111111111101011111111111011': 1, '11111110111111010000001111111111111': 1, '11100000000011111111111011101111110': 1, '10000000000000010000000101101111111': 1, '00000000000100000000001010101111110': 1, '00000000000000000010000000010000110': 1, '00001111011111000000011110111110111': 1, '00000001110111111101111110011111111': 1, '10001110011111101111111000011111111': 1, '10000111111111111111110110010101110': 1, '00010100000111111110111111110101111': 1, '00000001010111111011110011111111010': 1, '11111111111111011111010111111101011': 1, '01111111110111011101111011110101111': 1, '01111111111000001000000000000101111': 1, '00000000000000010000000110111011111': 1, '11111111101011110111011111110111111': 1, '10101111111111001110111111111111111': 1, '10000001000000000000000000100100111': 1, '00000000110011110101111111111111111': 1, '00000001110111111111111111100111110': 1, '00000000101111111101111111011111110': 1, '10000001000000000000000100101110111': 1, '00001000000000000000111111111111101': 1, '00000100000000001101111010000000001': 1, '11111111111111101111101110111111011': 1, '00000000000111101111111111110111101': 1, '01111111111111110100000000000000100': 1, '10111111101001111111111110111111101': 1, '01111111111000000001001111111111101': 1, '11111011111111111101111111110111111': 1, '00001001111111011111111110111111111': 1, '01111100111111010011111111111111111': 1, '11111111111111011011111111110111110': 1, '11111111101010110111111111111110111': 1, '00000001010111111111110111111110111': 1, '11111101110011111111111111111111111': 1, '11111111101110000000011111111111011': 1, '11111111110111111111111101111101110': 1, '11111111111011111111001111111011111': 1, '11111111111111011001111111101111101': 1, '11111111011111111110111111101110111': 1, '11111111111010010111111111101111111': 1, '00000001000000100001001111111111111': 1, '00111111111111111111110011110111101': 1, '00000001000000000100000001111111111': 1, '11011000110100111111111111111111111': 1, '01110000000000000000000010000000010': 1, '11001111111111111111111111011101101': 1, '11110000010111110111111111011111101': 1, '00000111111110101111111111111111111': 1, '10111010010010111111111111111111111': 1, '01111111111111111111110111111011010': 1, '00100001111111110011101100111111111': 1, '00011001110111111110001101111111110': 1, '01000000000000000000000000000101110': 1, '01100000000000000000100001111111111': 1, '11111111111111111011011011111111101': 1, '00000010000000101101111111111011111': 1, '00000000001010111111101111111111111': 1, '00000000000110000000000000000001001': 1, '11111111111111111111000111111110110': 1, '01111111101011110101111111111111111': 1, '01111111101111111101101110111110100': 1, '10000000000000000011000000000000101': 1, '10000001000000000000000000000001110': 1, '11111111101001111111111111101111101': 1, '11111111110011111111111111111111010': 1, '00000000000110000001000000011111111': 1, '01100000000000000000000001000100101': 1, '11101111111111010111111111111011111': 1, '00000000001000000000000010010001111': 1, '00000000000011100111111111011111111': 1, '11100111111111011011111111111111110': 1, '11111111111000111111111110111101111': 1, '00000001110001111111111111011111110': 1, '01000001000111111111111111111111111': 1, '00000000010111101101101111111111111': 1, '00010011111111111110101111111111111': 1, '11111111111111010000000010000001110': 1, '01100001000010101100111111101100101': 1, '00111111111111111100000000000101011': 1, '01111110111101110010111011111011111': 1, '00000111111111111101111111110111110': 1, '11011111111111111111101111011011101': 1, '00000000000000000000001011111011110': 1, '11111111000111111111111111011111111': 1, '00001111110111111111111110111111111': 1, '00010111111111111111111111110111101': 1, '11111111111100111111111011111111101': 1, '00000000011111111101111011111111101': 1, '11111011011111111111111111111111010': 1, '11111110111110111111111111111101110': 1, '00000000111111111111000011000000000': 1, '10111110111111111111111110111111101': 1, '00000000000000000001000000010101011': 1, '11111111111111011111111101101111101': 1, '11111011111111111011111011111111111': 1, '11101110000000000000001000101111111': 1, '00000000001000001110111111111011101': 1, '11011110111111111111110010111111111': 1, '11111110111111110110111111111011101': 1, '01111011111011111110111111111111111': 1, '10111111111101111111111111111101101': 1, '00001011100011111111111111111111111': 1, '11110111110111111111111111110111011': 1, '11110110111011110111111011111110101': 1, '00000111111011111101111111111111111': 1, '11111111000000000000000000111111111': 1, '11111110111111111111011111110111101': 1, '00000000000111110000000000000000111': 1, '10111111111111101110100001111111101': 1, '11111100101001111111111100111111110': 1, '00000001010111110011111111110101111': 1, '00000011000000000000000001000000001': 1, '00000001110000000000000000000000101': 1, '00000001001111111111111111111111111': 1, '11111111111101111111011111101101111': 1, '00000001110111011111111111011101111': 1, '11110000000000101111111011001111111': 1, '00000000000000000011001111001111111': 1, '11111111111111110111111101101011111': 1, '11011111111111111111111111000101111': 1, '00000000001000101111111011111111101': 1, '11111111101010111111101011010000100': 1, '00000111111011111111111011111111110': 1, '11110000111111111111111111111111101': 1, '11111111101011111111111111100111101': 1, '11111111101111111011111111111110101': 1, '11111111111111111110111100100110110': 1, '00001101111111011111111111111101101': 1, '00011101111111111011111111010111111': 1, '00001111111111111110101111110111101': 1, '11111001000101111111111111111111011': 1, '11111001111011110111111111111111101': 1, '00000000000000000010000000101111101': 1, '10001111111111111111111011101111111': 1, '00000000010111101110000000000001100': 1, '11101111111111101101111011110110101': 1, '10000000001000100010111111111111101': 1, '11110000100000000000010000000001111': 1, '00111101111111111111111011011111111': 1, '00110000000000000000000000000111101': 1, '00111011111111111111111110100111111': 1, '11111111111111011110111111011101101': 1, '00000000000100011100001000101110100': 1, '11111111111111111111111001010000001': 1, '00000000010111110111111111111110100': 1, '11110111111110000011111111111011111': 1, '00000111111111010011111011110111111': 1, '00001010111111111111110111111111111': 1, '00100000100000000101000011111111111': 1, '01010000010010000000000010100011111': 1, '11110111110111110111001111011011010': 1, '10010111111111011111111110111101101': 1, '11111111111111111111000011101111111': 1, '11111110001000000000000000000000101': 1, '00000000000000000001000011110111011': 1, '11111111011110110111111111111111101': 1, '00000001011111010000011111111111101': 1, '00000100010010001010111011111111111': 1, '11111111111111111110110000000100101': 1, '11111111111111010101111110111111111': 1, '00000100111111111111111111111001110': 1, '10101111111011111111110111111111111': 1, '00000001111111111010111111111111111': 1, '11111001010011111111111011111111111': 1, '00000000001000000001000100111110101': 1, '00000001110111111111100101101011111': 1, '00000001100000000000001111111111110': 1, '00000000000000110111111111100111101': 1, '00111111111111110111000011111111111': 1, '00000000000000000001001001111111110': 1, '11111111011111111111111100110111111': 1, '00000000000000000100000100111001110': 1, '00000111111111110111111011111111100': 1, '00000000000000001001001111111111101': 1, '00000000010010011111111111111111101': 1, '11111111101011111101111111111011101': 1, '11111111111111111110011011110111111': 1, '01000000000011111111111111001111111': 1, '11111111111010111111111111110011010': 1, '11100000000110000000000001000001100': 1, '00000010010111111111111101011110110': 1, '00000000100000000000100000000100011': 1, '11101111111111011101111111111101111': 1, '00000000000000001000001111111111110': 1, '01111111000000010000010000101011111': 1, '00000000001000000001000000000100100': 1, '10001111111111110011111111111111101': 1, '11111111101011111111001111101111101': 1, '00000001000010000010011111111110110': 1, '11000000000000000000000000011111111': 1, '11111111111111011111011111111110111': 1, '00000000000011111100110111111111101': 1, '00000000000000000000001010111111110': 1, '01000111110011111101111111111111101': 1, '00000000000000000111111110111111100': 1, '00000000000000100100000010111111111': 1, '01110001110011110111111111011111111': 1, '11111010111111111111111111110111101': 1, '01111111011111111101111100111011101': 1, '01110000000010101100000010100111010': 1, '11101111111111111101000001111111101': 1, '11111111101111111111000011111111100': 1, '11100000000000000000000000111111111': 1, '11110101111110111101111111111111111': 1, '00001111111111111110111111111111011': 1, '00010000000000000000000100000111111': 1, '01111010010111111111111111101111111': 1, '11110110111000000001000010101111101': 1, '11110111111111111111110000000001100': 1, '00000000000001000010011111011111111': 1, '11111110111110000000000011011110100': 1, '00000000000000001111111111111011101': 1, '00000000000100000010001111111111111': 1, '10000000000000101000011111011111111': 1, '11111111111011110101101111111111111': 1, '11000000000100100000000000000001111': 1, '11111111011111110111110111111011011': 1, '00000000000110111111111111101111101': 1, '11101111111010000001001111111111110': 1, '11111101000000000011110111111111111': 1, '11111111111111111110011110111111011': 1, '01010011111111111111111111111111111': 1, '00000000000000101111000000111111110': 1, '11111110000000000000000001001101111': 1, '11111101110111111111111110111111111': 1, '00000000010111001111111101101111011': 1, '00000000000110000000001000010001101': 1, '00000000000000100000000001101111001': 1, '11111110111101111111111111110111101': 1, '11111111011111111000111101111111001': 1, '11101110101111101111111111111111101': 1, '11111101101001111111111111111111100': 1, '00000000101001100000000100000000101': 1, '00000000010000001010010000000111111': 1, '01111111111111110111011111111111110': 1, '11110000000000000000110011111111111': 1, '00000000111010101111111111111111101': 1, '11111111111111111011111001101111011': 1, '11101111111011110111111111111001011': 1, '11111111101000000000000010101111101': 1, '11001111101111111111001100101111101': 1, '00000000000110000111111110011111101': 1, '00000000000000000001010100111011111': 1, '11110110111111110111111011111111011': 1, '01111111110010111111111111111111111': 1, '11111111000000000000000000110110111': 1, '11101111101111101111111001011111111': 1, '00000000000100000000000000000100000': 1, '11110000000000000000000000000000100': 1, '00000000011111111100100000000000011': 1, '00111101111110111111111111110111111': 1, '00000000000111111111111111110111110': 1, '00000000000000000000110001101111111': 1, '11111111111100111011111111111111011': 1, '11000000000000000000000110101111111': 1, '00000000000001110111111111101111110': 1, '10000000001111111101111111111101111': 1, '00000000000000101000000000000000101': 1, '11111111111110111011001111011111111': 1, '10000000000000000100000000000001101': 1, '11111111111111111101101101100111111': 1, '11110000000110000001000101111011111': 1, '00000000010010000001001111111111110': 1, '10001100010111011011111111111111110': 1, '00001111111111111111111111101011011': 1, '11111111111001111100100001110111111': 1, '00000110111111111111111111110111111': 1, '00001111111111111110111111011111101': 1, '01100000000000001101111111111111111': 1, '00000000000011000010000001000000101': 1, '10000000010111101111111111111111011': 1, '11111101011111111111111011100111111': 1, '00011111111111111011111011111111110': 1, '11111111111011101110001110111111011': 1, '11111111111111111001000111111111111': 1, '01111111111111011111111111110110111': 1, '11111111111111110000000000000000010': 1, '00000000000000001000010010001111111': 1, '00000000000000101101111111111110111': 1, '00000000000000000010000111110111111': 1, '01111111111011011110111111101111111': 1, '00000000111111000000111111111010111': 1, '00000000000000011000000000000101111': 1, '11100000000000001000000000000001100': 1, '10011111110111101111111011111111110': 1, '11111111111101110111001111111101111': 1, '11111111101101111111111111111001111': 1, '00000000000111111111111111111110100': 1, '10000000000000111111110111101111111': 1, '01111111111001111110111101101111111': 1, '00000001000000011110111111111001111': 1, '00000001010111000001111111101111111': 1, '11111111101000010001111111101110100': 1, '01000001000000001000000110101111101': 1, '00000101111111111111111111000001111': 1, '00001100010010111111111100111111111': 1, '11111111101100010000000010011111110': 1, '11011111111111111111111110110011111': 1, '00000001100000000000000100011111111': 1, '11111111111111010000000010101100001': 1, '11111111000011111111111111101111111': 1, '00000000000101111111111111111101011': 1, '11011110010011111111111111111111111': 1, '00000000000000010111111111011111000': 1, '00000000000111010001111111111101111': 1, '00000001010111011011111111111011111': 1, '11111110111111111011111011111111101': 1, '11110111111111110111111111101111101': 1, '00000000010111111010111111100111111': 1, '11110111111111111111111001101111011': 1, '11111111101011111011111111101111111': 1, '10111111111011111111111111011011111': 1, '10011111111111111110111011011111111': 1, '11111111111011101111011011111111101': 1, '01110111111101110111111111101111110': 1, '11111111011111111111101101111111111': 1, '11111111111111111111001010111101100': 1, '11011010110111111111111111111111111': 1, '10101111111111111111101111111111110': 1, '00000000000010101010000000111111101': 1, '00000010000000000000000111111111110': 1, '01101110111111110111111111111111100': 1, '10101111110111111011011111111111110': 1, '00100000000111011111111111111001111': 1, '01000000000000000001001111111111011': 1, '00100001010111111111111111101011101': 1, '00000000001000000000010111110111111': 1, '11111101101101111111111111111111101': 1, '11111111111111111111110111111111000': 1, '00010000011111111100111101111111101': 1, '01110111101101110111111111111111101': 1, '10100000000000001111111111111011011': 1, '00010000001000000000100010111111111': 1, '11111110111111111101000111111111101': 1, '00000001000000000000001100101111101': 1, '11000000000100000000000110111111111': 1, '11111111111011000000001011011101111': 1, '01110000000000000000000001011111101': 1, '11101111110111111111111111001111101': 1, '11111110111111101101111111101011101': 1, '01000100000000000001001111111011101': 1, '00000000010001111110100110111011111': 1, '11111111110011101111111111111111100': 1, '00000000100000001110111111111111101': 1, '10111111101011111111111111111111110': 1, '11101011111011111111111111111111011': 1, '10011110111101111111111111000001001': 1, '01111111111011111111111111111101101': 1, '11111111111111111111110111000111111': 1, '11110000000000101111111111111111111': 1, '11111101111011100111111111111111111': 1, '10000001000001111110000100011101111': 1, '00000011111111111101111011111111011': 1, '11110111111111111100111111011111111': 1, '00000000000001000001001111011111111': 1, '11111111110111110111111011111110111': 1, '00000000111111111110111111111100111': 1, '11111111001000000100000000111110111': 1, '11111111011111111101111111110111101': 1, '00000000010111111111111011110101111': 1, '00000000000111111111011110111111111': 1, '00000100000000100011111111011011011': 1, '11111011110111001111111111111011111': 1, '10001101111111111111101111111111101': 1, '11101111111101111111111111111011101': 1, '00010111111111111111111010111111101': 1, '11111111111111111111111001000001100': 1, '11111111111111111110111011100001100': 1, '00000001000000000010000001000001000': 1, '10001111111111010000000001000000001': 1, '10111110110011110011111111111111111': 1, '11111111101010111101111111111111110': 1, '11111111110111111111110101110011111': 1, '00000000000000010001001111101011111': 1, '01010000001000010000011111111111111': 1, '10011111111101111111111011111111110': 1, '00000000000100101110000000000101000': 1, '11110000010101011110111111111111101': 1, '11111111101001111011111111101111110': 1, '11111111101110000001000010111111011': 1, '11111111111111111111111110011011010': 1, '11111111110111110101101111101111111': 1, '11111111110111011110111010001111000': 1, '00000000000000000000000000111001111': 1, '11111111101101010000001011111101110': 1, '10000111111011110111111111101111100': 1, '11111110111001010000000110100101111': 1, '11111111110000001111111111111111101': 1, '10000000001000000010001101110111111': 1, '00000000010100001111000010111111111': 1, '11101111111111101111001111111110111': 1, '00000000001000000000000110101111100': 1, '00011110110111111111011111111111101': 1, '01111111111111011111101111111111100': 1, '11111111111111110010000111101111101': 1, '00000001011111110001101111111111110': 1, '00011101111111111111111101111111100': 1, '00001111011111111111111111111111001': 1, '00000001000000111111111111111111110': 1, '11111110100111111111111110111111111': 1, '00001110000000000000100000000010001': 1, '00000001010111110111111111111110101': 1, '11110000000001000111111101111111111': 1, '10000111111111111111111111111000101': 1, '00000001101000000000000101100101111': 1, '01010000000111111111111111101111111': 1, '11111111111110110101111111111111101': 1, '11111111110111111011111101111101101': 1, '00011111110111101111111111111111111': 1, '00000001010001111110111111111101111': 1, '00000111111111111111011111110011111': 1, '11111111111111111110110000001000011': 1, '11111101110111111110101100001111110': 1, '00000000000000000001111111101111001': 1, '01100000000100001111111111101111101': 1, '00000001000000101110000000010101011': 1, '11111111110011111111011111011111011': 1, '00000000000000100001001001101111101': 1, '00000000000000101110111111111111101': 1, '00000000000001101000000110111110111': 1, '00010010000000100011000000000000010': 1, '11111111111111111100101110111101011': 1, '00101111111111011111101111111111111': 1, '10111111110111111111111111111111000': 1, '00000000110001111111111011111111111': 1, '00000000010011011101110111111111110': 1, '11101111000111111111111111001111101': 1, '11110111111101111011001111011111111': 1, '11100000111111001111111101111111111': 1, '10000001000110010000000000000111111': 1, '01111111111111011011011111110111111': 1, '00000000011111111111111111101111101': 1, '00000000010000110000011101111111101': 1, '00000000100000101001110110101111111': 1, '00000001100111111111111111110111111': 1, '00000000000000000010000100000101111': 1, '11111111111011111111001111110111111': 1, '11111100010110000000000000011000010': 1, '00000010000000000000000011101101101': 1, '00000000001000000000000011000000011': 1, '01111111101011111111101111111111111': 1, '11110111100100000101110000000001100': 1, '00001000000000000000000000010000111': 1, '00001011111111111111111111111011111': 1, '11111111111100101111011111110011101': 1, '11111111111101111110110000000000110': 1, '11111110111111111100101111111111111': 1, '00000000000000000000011110110111110': 1, '11111111111111010100111110111011001': 1, '11111011100011111111111110111111111': 1, '11111111111111110111011111011101111': 1, '00000000000000001101011111111111001': 1, '11110111111010111111111011011111111': 1, '11111111111110111101111001111111111': 1, '00000000011101010110011111111111111': 1, '00000001001000001111111111111011111': 1, '00000000000000010000011101111111101': 1, '00000000000000000001000001000101110': 1, '11111111111111111011001111111111110': 1, '10111111111111111110001111111101111': 1, '00011110110001000000000000000111101': 1, '11111111100000000010111111000000101': 1, '11011101111111011011111111111111111': 1, '10111111111111111111011111101011101': 1, '11111111111111101111111111101110011': 1, '11111111010111111111101111110111111': 1, '00000000011111101111111001110011101': 1, '01110000000000001000001010111111011': 1, '00000000011111000000000100111111110': 1, '11100000000000000000000001101111111': 1, '00000000010010111111101111110111110': 1, '11111111100101011111111111011001111': 1, '11101111110111110111111111101111101': 1, '11111110010000111111111101111111111': 1, '11111111111111111110000111111011100': 1, '01101110111101111111111111111111111': 1, '00010000000000101111110111111110111': 1, '01111111101110010000001011111111111': 1, '01100000000001101101111111111111101': 1, '00000001000000000000000100110111111': 1, '00000111111111101111111101111101111': 1, '11111111111111111111111111010111000': 1, '00000000011000001001000000000000001': 1, '00000010000111111101111111111111110': 1, '11111111111111110100011111111011110': 1, '11110101111000111111111101111111111': 1, '11111111100000001000111111111011111': 1, '00000000000000000101110110101101111': 1, '00000000111111101111101111111111111': 1, '11111111111111111111001111000000011': 1, '11111111111111010011111111111011111': 1, '01000000000000000001000111111111101': 1, '00100000011001000000000000000001100': 1, '10010000000000000100100100111111011': 1, '11111111011111111000000100011111011': 1, '00000001000010111111111111100111101': 1, '11111111011101111111111111111101101': 1, '11111111111011111111011101111111110': 1, '11111010111111111111111100111111111': 1, '11111111100111111101111111110111101': 1, '11111001111111111110101111111111111': 1, '11111111111101111111111111111100110': 1, '11111111110011111111111111010111111': 1, '00001110111111010111111111111111111': 1, '00001111111111111111111011111101111': 1, '11111111010111111101111111111111101': 1, '11111111111111010111111001111111111': 1, '11110000011000001101111111111111111': 1, '00000000001101111111111111110111111': 1, '00000001001100001111111111111111111': 1, '00000000010110000000000111111111111': 1, '00000000101000000000000000100001110': 1, '11111011111011110111111111101111111': 1, '11010000010100111111111100100101101': 1, '00000000010011010011000000000011110': 1, '00000000010110010111111111101111011': 1, '00000000000000000000100110111011111': 1, '11111100000000000000000000010111111': 1, '00010000000000001000000001000111001': 1, '01000000010000000000000000010011001': 1, '11111111110111111111001101111111111': 1, '01110000000000000000000101111111110': 1, '11111011111111100111011111111111110': 1, '00000001001111001111111001111111111': 1, '00000000000100010000000000000000100': 1, '11111111111111011111111000101111111': 1, '00000000011010100011011111111110111': 1, '11111111111111111000011111111111111': 1, '00000000111011110111111111111111101': 1, '00000001000000000010000010111111111': 1, '11101110111111110111001111111111111': 1, '00001111110000000000000111111111111': 1, '10001110111111111110111101000001010': 1, '11111110111111111101111111101110111': 1, '11111111011111110111111111001111101': 1, '11110111111111111101111111111100111': 1, '11111110111111011111111111011000111': 1, '01111111111111111110011011110111101': 1, '00000001100000000000000110111111101': 1, '00000000000000000000100000111111011': 1, '11101111101000101111110111111111111': 1, '11111111110111111111100000000000100': 1, '10000001110111111111111111101111101': 1, '11000001110111111111111111111100110': 1, '11111100111111111111001111111011111': 1, '00000001110110111101111111101111110': 1, '00000001010000000000000010111111111': 1, '00000001011111111101110111111111110': 1, '01100000000000000001111111111111111': 1, '01111010111111111111111111111111111': 1, '11011111111111111000000000000000100': 1, '11010011111111111011111110111111111': 1, '10000000000000010000000001100111110': 1, '00011111111111011111111111111111101': 1, '11010101111010111111110101111111111': 1, '00111111110111111111111011111111111': 1, '11111111111011011111111111011101110': 1, '11110111111111110111111111110111101': 1, '10100110111111111111111111111111111': 1, '00100000000000000000000011111100110': 1, '00000000000000000010000001101111111': 1, '01001111111101101111111111111111111': 1, '00000001000000101101111111111111100': 1, '11111111101111111111110000000001100': 1, '00010001000000000000000101111111011': 1, '11111111111111111111111000110111111': 1, '00000000010011010101111111111111011': 1, '00000001010101111111111111011111111': 1, '11111111111110000001111111111110111': 1, '11111011111110111111101111111111111': 1, '11111111101000111111111011110110101': 1, '01101111111011011111111111011111110': 1, '11111111111111111111101001111101111': 1, '11110111011111111111101111111111111': 1, '11111111111101110011011111111111101': 1, '00010100010110000000000000110111101': 1, '11111111111111111111000001001111100': 1, '10101111110011110111111111101111101': 1, '00011111101111111111111001000101100': 1, '00000000000000000000000011110111100': 1, '11111111011111111111011111111111100': 1, '11111111111111110001001011111111111': 1, '00000000001110000000001101111111111': 1, '11111111101110111111111111101111110': 1, '10111111111111111101110111111111111': 1, '00011101111111110111111111111111111': 1, '11111111111110111111111111111110000': 1, '11111111111110011111000111111011110': 1, '11111111110111111111111101111011110': 1, '10111111111101011111001111111111101': 1, '01000000010111101111111111111111101': 1, '11010111111111111111111011111011100': 1, '00000001110111111111110001000000001': 1, '11111111111101111011111111011011111': 1, '00000000010110000011111111111111111': 1, '00000000011111001111111111111100111': 1, '11101110111111010001111111111111111': 1, '00000001000000000010000100111111101': 1, '11111111111111011100011111001111111': 1, '11111111111111010010111111110001111': 1, '00000000110111111101011111111011101': 1, '00000000010000000000000101111111111': 1, '01111111110111011101101011111111111': 1, '11111111111110011111111110101111111': 1, '00110000000000110000000010110111111': 1, '00110000000000000000100000101110110': 1, '11110111111111110101110111111111101': 1, '00100000000000101000000010111111101': 1, '11111111010111010111111111110111101': 1, '00000000000010000110001011111111101': 1, '11111111110111101111111001111111001': 1, '11111111111000000000000010111111111': 1, '11010000010111110110111111111111111': 1, '10111111111111111111111100111111100': 1, '00100001111111111110110111111111111': 1, '01111111100000000001000110111111111': 1, '01100000000000000000000010101111101': 1, '11111110000011111111111111111110100': 1, '11111111111111111110001111111011011': 1, '10101110111111111111111111111101011': 1, '11111110011111111110000111111110101': 1, '00000001010111011011111111111111101': 1, '11111110111001111111111111101111111': 1, '01111111101111011001111110111110001': 1, '11101111111111111101111011111011111': 1, '01100000000000110010000000001001100': 1, '10101111100110111111111111111111101': 1, '11101101111111111111111111011011101': 1, '11111000000000000001001110000000001': 1, '01111111110111101111111111111101101': 1, '11101111110111000011111111111111101': 1, '00000000010110101111001010011111100': 1, '11111111111000101111111111111111101': 1, '01111111111111111101111111110111101': 1, '11101111111011111111011101111111111': 1, '11111111101111011101110101111011101': 1, '00000001010111111111111110011101111': 1, '11111111111001111110101011111111101': 1, '01111111111111111111001111000101010': 1, '11111111111110111111111011110111001': 1, '11001111111111111110111101011111111': 1, '00000011111111111110010000000100110': 1, '11111111111001111101110111111111111': 1, '00000001000001111111110111101111111': 1, '00000001000100000000000001111111111': 1, '11111110101011110000010110111111111': 1, '00000000000010001100001000000111111': 1, '00000000010000000000000000010110110': 1, '01111111101110010001111111111111111': 1, '11111110111001111010000010111111110': 1, '11111111010111111110111111101111011': 1, '00111111101111011111111111111111101': 1, '11111111101111101101111111101111101': 1, '10001111111011110111111111111101101': 1, '11111101111111111111111110101110110': 1, '00001000000000000000000001000001101': 1, '00000000000000000000000011000000000': 1, '11111111101010000000000000110001111': 1, '00100000001000001000001100111111111': 1, '00000000000000000000100000101111101': 1, '11110111110111111011111111011111111': 1, '00011111111110101111111111111111111': 1, '00000000000000000000001111001111111': 1, '01111111011111111111111001111000010': 1, '11111111111111110011111111101110111': 1, '11110111111111111111111111110101101': 1, '00000001010011111111011111110111111': 1, '00100000000000000000000011000001010': 1, '00000000000000100000110111111111011': 1, '00000000010001000010000100111111101': 1, '11111111111111011100000100000001101': 1, '00000000000000000000000011011011111': 1, '00000000000000000000110101000000010': 1, '11111111111111111111000000000000110': 1, '00000001100000000001001111110111101': 1, '11111111111111111011101101111101111': 1, '11111111110011111111101011111111100': 1, '00000000111010111111111010011101111': 1, '00000000001110000000000000100001100': 1, '00001000000000000001000000100001011': 1, '11110100000000000000000000101111111': 1, '10000000000000000001011111110111111': 1, '01110000000000000000100100111011111': 1, '11011111111111111111101111111011111': 1, '11110011011111111111111011111111111': 1, '00000000000101111110111111111011011': 1, '01110001110101111111111111111111111': 1, '11001111111111111101000000000000001': 1, '11010111111111111111111111110101110': 1, '00101111111111101111111111110111111': 1, '01110000000111111111111111110111111': 1, '00000000000000000101111111110111111': 1, '11111111111111111111110000000001110': 1, '00000000000000001111101111101111111': 1, '00000000111111101111101011111111000': 1, '10000000000000010001111011111101111': 1, '00000000001100000011111111111110101': 1, '11011011110101110011110111111111111': 1, '11111111111111011110000111111111101': 1, '01010000000000000010110111101111101': 1, '00000000010000001111111111011111000': 1, '00001111101111111101110111111010001': 1, '00001111111111101111111111110111101': 1, '01011111110111111111111111011111111': 1, '11111111101111111101101111111111000': 1, '11001101011111011011111111111111111': 1, '00000000011111111110110101110111100': 1, '11111111111111111111110111011000011': 1, '11111111111111111111110111111101110': 1, '00000000000000000001001100111111111': 1, '00000000000000000000000000001111110': 1, '10000000000000000000000010101011111': 1, '11101111111111111111011101101111110': 1, '00000000000000000001001111011101111': 1, '00000000000000010000111110100110110': 1, '11110110111111111111101111111111001': 1, '00000000001000000000010010000000001': 1, '10011111111111111010101111111110111': 1, '11011111111111010011111111111110110': 1, '11111111111111111011010111110111011': 1, '11011111111111011111111101111101101': 1, '11010000000100000000101111101111111': 1, '11100111111111111111111111111101111': 1, '11001111001011011111111111111111111': 1, '11111111111011111101011111111111111': 1, '11111111110111110110011111111111110': 1, '11101111101100101011001111111111110': 1, '01010000000001001000000000000000001': 1, '11111000000000000111011111110111110': 1, '00000000010111101110001110111111111': 1, '11111111111000101111111010111111001': 1, '11101111101111110111111111010001100': 1, '11111111111111111111110111001110111': 1, '11111111110111010011011101010111111': 1, '11111111111111111111111000111010111': 1, '11111111101110000000000000111111101': 1, '11111111110111110111110100111111111': 1, '00000000010000101000001000111111110': 1, '00010000000000011110101110111111111': 1, '00000000000000010001000100101111111': 1, '00000000001000000101000000000000100': 1, '00000000010011111101011111111111111': 1, '00000000010111101111111011111111111': 1, '11111111111111111111001111111001010': 1, '11111111111111110110111111111100111': 1, '01000010111111111111011111101101100': 1, '00000100000000000001100010001101111': 1, '11111111111111111111111101100000100': 1, '11011111111110111110000111111111111': 1, '11111111101111101111111001111111100': 1, '10001000000111101111111111111111111': 1, '01111111111111111100000101111111111': 1, '10000000001011111111111111111111101': 1, '00000000000000011100111111111110100': 1, '00010000000000000100000010000000100': 1, '11111111111111111111110011101001111': 1, '10001100000001101011000000111111110': 1, '11111011101010100010000111111111111': 1, '01110100000111111101110111011101111': 1, '11011111111111111111111010110111011': 1, '01110000011111111011111110111111111': 1, '00000000000000100001111111111111110': 1, '11101111010111111111111111111111110': 1, '11101111011111111111111011110111111': 1, '01001110111111111101111111111111110': 1, '00000000000000000001001000000000001': 1, '00000001101000000000000000001000100': 1, '00000001101000000000000000000001000': 1, '11111101111011111111111011111101111': 1, '00000000000000000000000000011001100': 1, '10000111111111111111111111101111110': 1, '11110111111111110111111011100111111': 1, '11111111111111110110110101101111111': 1, '00111111111111111001011111111111101': 1, '00000000001000000010000000000000011': 1, '00001111111111111011111111111101101': 1, '11111111110000000000000010000000101': 1, '11111110010101110000000011111111111': 1, '00000000000000000101111011111111111': 1, '11111111111111111110011110111111110': 1, '11111111101101111110001011111111110': 1, '11111111111111111110111000101111111': 1, '10011111111111111101001111111111111': 1, '00000001010110111111111110111110000': 1, '00000001010111111111101111111111111': 1, '11011111111111111111101101111111101': 1, '00000000000000010111111111111111111': 1, '11111110111111110111111111111110111': 1, '10001111111111111111111111011111111': 1, '11101111111111111111111101111111110': 1, '01111111111011111111111111111111100': 1, '00000001000000000000000110111111111': 1, '11111111110111111111111101111110110': 1, '11111111111011111111111110111111110': 1, '00000000000000000000001000100001101': 1, '01111111111111101111110111111111111': 1, '00000000000000000001110101111111111': 1, '00000000000000101111111100111111110': 1, '11111111111111011100111101111111101': 1, '01111111111111011111111101110111101': 1, '11111111001111111111111101111111111': 1, '01011111111111111111111101111111111': 1, '11110011111111111111111111111111100': 1, '00000011111111111111111101111111111': 1, '11111111111111011111111111111001111': 1, '00000000000000000000000110000001100': 1, '11111101111111110111111111111101101': 1, '11111101111111111111101111101111101': 1, '01111101111011111111111111111111111': 1, '10000000000000000000000000000000001': 1, '00000000100000000000000001101111101': 1, '00000000110111111101111111111111101': 1, '11111111111111010111111111110011111': 1, '00000000010100000000000000000001001': 1, '00000000100000000111111111111011111': 1, '01000000000000000000000010111111111': 1, '10111111111111110110111111111111101': 1, '00000000000000010000000000000000110': 1, '00000000000100000000000000000001111': 1, '11111111111111011101111111111110101': 1, '00000111111111111111111110111111101': 1, '00000001111111111111111111001111111': 1, '00000001110111111111111101111111101': 1, '11111110111111011111111111111110111': 1, '00001111111111011111111111111111100': 1, '01000000111111111111111111111111101': 1, '01010000000000000000000000000000001': 1, '01000000000000000010111111111111111': 1, '00000000000011011111111111111111101': 1, '10001111111111011111111111111111110': 1, '00000111110111111111111111111111101': 1, '01000000000000000001101111111111111': 1, '00000111111111011111011111111111111': 1, '01111111111111011110110111111111111': 1, '00000000100000101111111111111111111': 1, '11111110111111010111111111101111111': 1, '00000000000000100000000011111111101': 1, '11111111111111110111111111111101001': 1, '00000100000000000000000000100001100': 1, '00000000000000100001011111111111111': 1, '11111111111111111111111101101111100': 1, '01111111111111111111010111111111111': 1, '11111111110111111111111110111111001': 1, '00000000000000000011111111111111001': 1, '11111111110011111111111111111011011': 1, '11111111111111111111111110110111001': 1, '00000000000000000000111111111111011': 1, '11101111111111111111111110111111011': 1, '11111101011111111111111111111111011': 1, '00000000000000000000000000001111001': 1, '10000111111111111110111111111111111': 1, '11111111111101101111111111111101111': 1, '11111110111111110010111111111111101': 1, '11111011111111111110111011110111101': 1, '11111011111111110111111111010111111': 1, '11100111111111011111111111110111111': 1, '11111011111110111111110111111111110': 1, '01111011110111111111111111111101111': 1, '11110111111011101111110111111111111': 1, '11111000011111111111111111111111111': 1, '11111111111111111111111110111110110': 1, '00000000100000000000000000000111111': 1, '11011111110111111111111111111111110': 1, '11011110110111111111111111111111110': 1, '11111111111110110111111111111111110': 1, '11111111011111101111111111111101111': 1, '11101111111111011111111111110111111': 1, '01111111111111111111111001101111111': 1, '11101111111110111111111111011111111': 1, '11101111111111011011111111111111101': 1, '00000000000100000001001111111111111': 1, '11111111111111111110111111111001111': 1, '11111111110111111111110011111111111': 1, '11111111111111011100111111111111101': 1, '00000011111111111111111111111111011': 1, '11111111111111111111111111011100111': 1, '11111111111111110011111111011111110': 1, '11111111111011111111011111111110111': 1, '00100000000000000000000100111111111': 1, '00000000000000010001001111111111111': 1, '00000000110111111111111101111111101': 1, '00000000010000000000000010000000100': 1, '00000000001011111111111011111111111': 1, '00000111111111111111011111111111111': 1, '01111111011111111111111111011111111': 1, '00000000010110000000000000000000001': 1, '11111110111011111111111101111111111': 1, '11111111111111110111011011111111101': 1, '00000000000000000010111111111111111': 1, '11111111110111111111111111111101011': 1, '11111011111011111111111111111111110': 1, '11111111010111111111111101111111111': 1, '11111110111110111110111011111111111': 1, '11111111111110110110011111111111111': 1, '10001111111111101111111111111011111': 1, '00000000011111111111111111011111111': 1, '11111111011111111111111101111110111': 1, '00000000000000000010111111111110101': 1, '11111110111111111111110111111111110': 1, '11111110111111111101111101111111101': 1, '00000000000011101111111111111111101': 1, '00000000000000000000001110111111111': 1, '00000000010011111111111111111110111': 1, '11111111111111111111111110101110111': 1, '11111111111110101111111111011111111': 1, '00000000000000111101111111101111111': 1, '11111111111111111100111110111111111': 1, '11111111111111111111101010111111101': 1, '11111111110011110111111111111111111': 1, '00000000111111111111111101111111111': 1, '11111111111111111111011111111011100': 1, '11011111111011111011111111111111111': 1, '00000000101111101111111111111111101': 1, '11001111111111101111111111111111110': 1, '00000000000000000000011111111110111': 1, '00111111111111111111011111111110111': 1, '01111111111111110110011111111111111': 1, '01110000010111101111111111111111111': 1, '00000000000111111111011111111111101': 1, '11111111111011111110111111111111010': 1, '00000001111111111111111111111111111': 1, '00000000011110111111111111111111110': 1, '00000000000000101011111111111111101': 1, '11111111111111111111011111001111111': 1, '00111111111111111111111111101111101': 1, '11101111111111111111111111111110011': 1, '10111101111111111111111111111111111': 1, '10111111111010111111111011111111111': 1, '11111111111011111111011110111111110': 1, '10001111111011111111111111111111110': 1, '11111111101111010111111111111111101': 1, '01111110111111011111111111111111110': 1, '00111111111101111111011111111111111': 1, '00000111111011111111111110111111101': 1, '11111111111011111110111111111110011': 1, '11101110111011111111111111111111111': 1, '11101111110011111111111111111111111': 1, '11011110111011111111111111111111111': 1, '11111111111111010011111111111111110': 1, '00000000000111111111110111111111101': 1, '00000011111011111111111111111111111': 1, '11111111101010111111111111111111111': 1, '11111111111110011101111111110111111': 1, '11111110111111011101111111111111101': 1, '01111111111111110111111111111110110': 1, '01101111111110111111111111111111111': 1, '01111111111111111101111111111001111': 1, '11111111111111111111001111011111101': 1, '00000010000111111111111111111111111': 1, '11101111111111011110111111111111111': 1, '11111111111101111111111111110111110': 1, '11101111111110111111111111111111110': 1, '01000000000001111111111111111111101': 1, '11111111111111111111111101101111001': 1, '00000000000000000001101111111111101': 1, '00000000000000100100000000000001100': 1, '00000000000000010001111111111111101': 1, '11111111111111011111111101111111110': 1, '11111111111111110100111111111111111': 1, '11111110011111111111101111111111111': 1, '00000001000000000000000000010000110': 1, '01110001111111111111111111111111111': 1, '01110111111011111110111111111111111': 1, '11111111111111111111111111001111111': 1, '11111111111111111111001111011111111': 1, '11111111111111111111011110101111111': 1, '11101110110111111111111111111111110': 1, '00000000000000001010000000000001101': 1, '10000000000000000010000000000000001': 1, '00000000001010000010011111111111111': 1, '00000100000011111111111111111111111': 1, '11111111110111111011111111111101111': 1, '00001011111111111111111111111111101': 1, '11101111111111110111111111111111010': 1, '00010000000000000000000000000000001': 1, '10111111111111111111110111111111101': 1, '00000000000000010011111111111111111': 1, '00000000000001000000000000000000100': 1, '10001111111111111111111111111111110': 1, '00000000000000000010100111111111111': 1, '11101111111111111111111111001111111': 1, '00000011111111111111111111111111101': 1, '11101111111111011111111111111001111': 1, '00001101111111111111111111111111101': 1, '11111111111110111111110111111111110': 1, '11101111111111111111111011000000100': 1, '11101111111111110111111111011111111': 1, '00000001111111111111111111111101111': 1, '11111111100111011111111111111111101': 1, '00000000000000000000000000100000001': 1, '01111101111111111111111111101111111': 1, '00000000000000010000000000000001111': 1, '01111111111111111110111111110111011': 1, '11111101011111011111111111111111111': 1, '11101111111111110111011111101111111': 1, '11111111111111110011111111111111101': 1, '00010000000000000000000000000001111': 1, '11111111110111111011111011111111111': 1, '00000000111111111111111111111111101': 1, '11111111110111011111111111111101111': 1, '11111111111111110111111111010111110': 1, '00000000000011111110111111111111110': 1, '00111111111111111101101111111111111': 1, '11111111111111001111111011111111111': 1, '11111111111111111111101111110101111': 1, '11111111101111001111111111111111111': 1, '00000001110111111111111111111110111': 1, '00000000000111111111111111111110111': 1, '11111111011111011111110111111111111': 1, '11111111110111111111111011111111100': 1, '11111011111111110111111111111101111': 1, '10101111111011111111111011111111111': 1, '11011111111111111111111011111011111': 1, '11111111111111111110111111011111010': 1, '11111111111111111001111111101111111': 1, '11111111111011111111110111011111101': 1, '11111111111111111111111111111100011': 1, '11111111111111111110111110111011111': 1, '10111111111011111111111011111111111': 1, '11101111111011111111111111111111110': 1, '01111111101111111111110111111111111': 1, '01101111111011111111111111111111111': 1, '00000000011111111111110111111111111': 1, '00000000000000000000000001000101111': 1, '11101111111111111110111110111111111': 1, '01000000000000000000000000000000100': 1, '11110111111111111111111111111011101': 1, '11111111101011110111111111111111111': 1, '11011111111111111111111111001111111': 1, '00000001101111111111111111111101111': 1, '00000000000000000000000010001001111': 1, '00000000010111111111111111101111110': 1, '11111111111111111011110111101111111': 1, '00000000000000000000110010101111111': 1, '11111111111111010001111111101111111': 1, '11111110111010111111111111111111111': 1, '00000000000000000011111111101111101': 1, '10001111101111111111111111111111101': 1, '11111111101111111111110111110111111': 1, '11111111111111111110110011101111111': 1, '00000000000000010001111111101111111': 1, '10011111111111011111111111111111111': 1, '00000000000000000000000101000001001': 1, '10101111111110111111111111111111101': 1, '11111111110111111010111111111111111': 1, '11111111101111011111111100111111111': 1, '10001111111111111110111111111111111': 1, '11111111111111111111110110111111101': 1, '11111111110111111111111111101110111': 1, '00000000010000000000000011111111111': 1, '11101011111111110111111111111111111': 1, '11111111111111111110101111110111111': 1, '00000001110111011111111111111111111': 1, '11111111111111111111001111101111101': 1, '00000000000000000001000000000000110': 1, '10111101111111111111111111111111110': 1, '11111111111111110111111111110101101': 1, '00000000000000000000000000000101111': 1, '11110111111111111111111111111111001': 1, '00000000000111110111111111111111101': 1, '01111111111111111101111011111111111': 1, '11111111111111111011111111101111110': 1, '11101110111111111101111111111111101': 1, '11110111111111111110111111111011101': 1, '11111110111111111110111111011111011': 1, '00000001111111111110111111111111101': 1, '10011111111111111111110111111111101': 1, '11111111111111111101111111111001111': 1, '11111111111111111110111111110111011': 1, '01001111111111111111111111101111101': 1, '01111111111111110111111110111111101': 1, '11101111111111111110111111011111101': 1, '00000000000000000000000010000000001': 1, '01110000010111111111111111111111111': 1, '00000000000000000000000000101110101': 1, '11111011110111110110111111111111111': 1, '11111111111111110110111000111111101': 1, '11111111111100000000111111111111111': 1, '00000000000000000010110111111111110': 1, '11111111111111011110111111011110111': 1, '00000000000000000000001101110111111': 1, '00111111111111111111111111011111110': 1, '11111111111111110011111101111111111': 1, '11111111111111111111111111011110110': 1, '11111111111111110111111111010111111': 1, '11111111111111111110101111101111101': 1, '11111111111111111111111101110101111': 1, '11111011111111110011111111111111111': 1, '11111110111011111111111111111110101': 1, '00001111111011111110111111111111111': 1, '00000000000000000000000110111111110': 1, '00000000000000000000000110111111101': 1, '00000000000000111011111111111111100': 1, '11111111111111011011111011111111110': 1, '00000000000000000000011111111111100': 1, '00000000000111110111111111111111100': 1, '11111111111111111101111111111011010': 1, '10000001111111111111111111111111110': 1, '11111111111111111111011110101111110': 1, '00000000000000000000000001111111100': 1, '10101111111111111111111110111111110': 1, '11101111111111111110111111111011110': 1, '00000011111111111111111111111111110': 1, '01111111111110111111111111110111111': 1, '00000000100000000000000011111111111': 1, '00000000101111111111111111111111101': 1, '11101111110111111111111101111111111': 1, '11111111110111110111011111111111101': 1, '00000000000000001000000000000001101': 1, '11111111111111111111001111111101101': 1, '11111011111111111110111101111111110': 1, '00111111111111111111111011111111101': 1, '00000000000000000000000000100101111': 1, '11111111111111111111110111110111100': 1, '11111111111111111101111111101101101': 1, '11111111111111111110111011110111101': 1, '01111111111101111111111111101111111': 1, '10001111111111111111111111111111101': 1, '00000000111011111111111111111111111': 1, '11101111111111110110111111111111101': 1, '00000000010011111111111111111111101': 1, '11111111101111111111111111110111110': 1, '01011111111011111111111111111111101': 1, '01111110111111111111111011111101111': 1, '11111111100111101111111111111111111': 1, '11111111110111111111111111111110011': 1, '10011111111111111111110111111111111': 1, '11111111111111111111001111111111101': 1, '00000000000111111111111111101101110': 1, '00000000000100000000000000111111111': 1, '00000000000000111111111111101111111': 1, '11111111111111011111111110111111110': 1, '00001000000000000000000000000000100': 1, '00000000000000000000100000000000101': 1, '11111011111111111111111101111111101': 1, '11110111111111111111111010111111110': 1, '11111111111111110010111011111111101': 1, '11111111111011110111111101111111111': 1, '00111111111111111111111111011111111': 1, '00010000000000000000000000101111111': 1, '00000000000001111111111111111111111': 1, '01110000000011111111111111111111111': 1, '00000000000000000000010000000001000': 1, '11111111111111110010111111111111101': 1, '01111111111101111111111011111111101': 1, '00001111111011111111111011111111111': 1, '11111111101110101111111011111111111': 1, '00000000000010000000000000111111100': 1, '00000001111111110111111011111011111': 1, '00000000010010111111111111111111111': 1, '11111111111111111111101110111111101': 1, '11111111111111111111111111110011011': 1, '00000000000010000000000000000001010': 1, '11111111110110111111101111111111111': 1, '11111111111111010111110111111111111': 1, '11111111101111111111111111100101111': 1, '00000000000011111111111111011111111': 1, '11111111111111011011111111110111101': 1, '11111111110111111111111001111111110': 1, '11111111111111010111101111111111111': 1, '11111111110011111111111111111011111': 1, '11111111111110101111111111111111111': 1, '01110111111111111111111111110111101': 1, '00111111111111111111111111110111001': 1, '00000000000000100111111111111111111': 1, '00111111111111111111101111110111101': 1, '11111111111111011011101111110111111': 1, '10101111101111111111111111110111101': 1, '11111111101111101111111111110111111': 1, '00000000010000000000000001110111110': 1, '00000000000000100000000110110111111': 1, '00000000000000000000111111110111111': 1, '11101111111111111111111111111110101': 1, '11111110110111111111111011111111111': 1, '11111111111111111111111101101111011': 1, '00000000000100000000000011111111111': 1, '00000000000001000000000000111111111': 1, '11111111011111111111111110111111101': 1, '00000000000000000000011111110111101': 1, '10111111111111110111111011111111110': 1, '01111111111111111111111111101011101': 1, '00001111111111111111110111111111111': 1, '11111111100011111111111111111111111': 1, '00000000000000000000111011111111111': 1, '11111111010111111111110111111111111': 1, '11011111110111111111111111111111101': 1, '00000000000000000111001111111111101': 1, '00000001000000000001111111111111101': 1, '01110000000111110111111111111111101': 1, '11111111111111010110111011111111111': 1, '11111111110111111111001111111111101': 1, '00000000000001110111111111111111111': 1, '11111111110111111111111001101111101': 1, '10101111111110111111111111111111111': 1, '00011111111011111111111111111111111': 1, '11110111111111111111111111111001101': 1, '10101111111111111111111111111111101': 1, '11111111111111111111111011101011111': 1, '11111101111111111101111111111111101': 1, '11111111100000100011111111111111111': 1, '11111111101111111100111111111111101': 1, '01111111111011011111111111111111111': 1, '00000001110011111111111111111111111': 1, '11111111111111111111011111111011110': 1, '11101111111111111111000111111101111': 1, '00000000011111111111111111110111111': 1, '11111111111111110111111111111111010': 1, '00000000100000000000000000000001111': 1, '11011111111111111111111101111111101': 1, '11111111111001111111111111111011111': 1, '11111111111111110111111111010111100': 1, '10101111111111111111111110111111111': 1, '11111111111111011011111011111111101': 1, '00000000000000000000010011111111101': 1, '10000000010111111111111111111111111': 1, '10111011111111111111111111111011111': 1, '00000000000000000000000000000111101': 1, '10001111111111111111111111111011111': 1, '11111111111111110011111111111011101': 1, '00000000000000001111110111111111111': 1, '11111111011111111110111011111111111': 1, '00101111111111111111111111111111101': 1, '00000000000000000000000001000000110': 1, '00000000000000000000000100111011110': 1, '11111111110111111111111111110011110': 1, '00000000000010000000001111111111111': 1, '00000000000000000000000000010001001': 1, '00000000000000000000000010000000011': 1, '11111110111111111111101111111111111': 1, '11111111111111111110101111111011101': 1, '00000000000000000000001011111011101': 1, '00000000011111111111111111111111110': 1, '00000000000010000000000010101111111': 1, '00011111111111111101111111111011101': 1, '00000000000000000001000111111011111': 1, '00000000000100000000000111111011111': 1, '01101111111111111111111111111011111': 1, '11111110111101111111111011111111111': 1, '00000000100000000000000000000001011': 1, '00111111111111111111111111111011110': 1, '00100000111111111111111111111111111': 1, '11111111111111001111111111111111101': 1, '11111111111111110111111111110111011': 1, '01111111111111111011111111111111101': 1, '01111111111111111111111011111111110': 1, '11111111111111110111011011101111111': 1, '00011111111111111111101111111111111': 1, '11111111110111111111111111110111110': 1, '00000000000000001000000000101111111': 1, '00111111111111111111111111111110111': 1, '00000000000000000111111111111011111': 1, '11111110111111111111111111111101101': 1, '11111111100111111111111111011111110': 1, '00000000010111111101111111111111101': 1, '10001111110111111111111111111111111': 1, '11111111011111111110011111111111111': 1, '00011111111011111111111111111011111': 1, '11111111110110111110111111111111101': 1, '00000000000000000000001011111111101': 1, '11111111110111111111111011101111111': 1, '00000111111111111111111111111111111': 1, '11111111111111110111001111111111101': 1, '11111111111111111111111111011111010': 1, '00000000000000000000000001101111101': 1, '00100000000000000000000000000001111': 1, '10111111110111111111111111111111101': 1, '00000000000000000111111111111101111': 1, '00000000100111111111111111111111111': 1, '01111111111111111111111111111111010': 1, '11111111111111001110111011111111111': 1, '11111111110111111101111101111111111': 1, '11110111111111111111111101111111110': 1, '01111111111011111111111111110111111': 1, '11111111111111111110111111111111010': 1, '00000000000000000111111111111111101': 1, '11111111111111101111001111111111111': 1, '00000000000000000000001000000001011': 1, '11111110111111111111111111110011111': 1, '11111110111011111111111111110111111': 1, '00000000000000000000010000000000011': 1, '11111111111110111111111111111101101': 1, '11111111111111101111101111111111101': 1, '00000000000000000000000000100001000': 1, '00011111111111111111011111111111111': 1, '11111111111111001111111111111111110': 1, '00001111111111111111111111111111100': 1, '01101111111111111111111111101111111': 1, '11111111110111110111111111110111111': 1, '11111111111111111111111111110001111': 1, '10111111110111111111111111110111101': 1, '11111111111111110111111111110111100': 1, '11111110111111111111111111110111110': 1, '11111111001111011111111111111111111': 1, '11101111111111111110111111111011111': 1, '11111101111111110111111111110111111': 1, '11111111111111111111100111111111101': 1, '11101111111111011111111111111111101': 1, '11111110111111011111111111111111100': 1, '11111111101011111111111111011111101': 1, '11111111111111110110111111111011111': 1, '10111111101111111111111111111111101': 1, '11101111111111111111111111110101111': 1, '00000000000000000001001111101111111': 1, '11111111111111111011111111011111101': 1, '00000001000000000000000000000000000': 1, '11111111111111111111111010101111111': 1, '00000000000010000000000000000000001': 1, '10111111111111111111111111110111101': 1, '00000000000000000111111111111111111': 1, '11101111011111111111111111111111111': 1, '11111111111011111110111111111101111': 1, '00000000000000000000010000000000101': 1, '00000000000000000000000000000011111': 1, '00000000000000000000000000010001000': 1, '00000001110111111111111111111101101': 1, '11111111111111110111111101110111111': 1, '11111111110111110011111111111111110': 1, '11111111111011111111111111001111101': 1, '00000000000000000000001000000001001': 1, '11111111110110111111111111111111101': 1, '00000000000000111111111111111111111': 1, '11111111111011111111111111101111110': 1, '11111111111110111111110111111111111': 1, '11111011011111111111111111111111111': 1, '11111110111111110101111111111111101': 1, '00000000000000000000000010101111100': 1, '11111111111111111111110011111011111': 1, '11111110111111111111111001111101111': 1, '11111111110111111111110111111111101': 1, '11111111101111111111111111011111110': 1, '01111111111111110111101111111111111': 1, '11111111111111111111111110011111101': 1, '00000000010011111110111111111111111': 1, '01111011111111111111111111111111101': 1, '00000000010011111111111111111101111': 1, '11111111111111001111111111111111111': 1, '11111111111111111111111111100110111': 1, '00000000000000000000000110101111111': 1, '00000000000000000000001000000001101': 1, '11111111101101110111111111111111111': 1, '00000000000000000000000001000001011': 1, '11111101111011111111111111111111101': 1, '01110111111111111111111111111111101': 1, '00000000000000000000000010100111111': 1, '00000000000011111111111111111111101': 1, '11111111111111111101111111111110101': 1, '11111111110111111111111111011111110': 1, '00000000000000001111111111111111011': 1, '00000000000000000000000001000001100': 1, '11111111011111111111111111111101111': 1, '00000000111111110111111111111111111': 1, '00000000000000000000000100000001001': 1, '11111111111101111111111111111101111': 1, '01111111111111110110111111111111101': 1, '11111111111111101111111111111110111': 1, '11111111111111111110111011111111011': 1, '11111111110111011111111111111111110': 1, '00000000010011110111111111111111111': 1, '10101111111111111111111111110111111': 1, '00000001000000000000000000000000001': 1, '11111111111111111111111001111111110': 1, '11111111111011111111111111011011101': 1, '11111111111111011011111011111111111': 1, '11111111111111111111111111111110010': 1, '00000000000000000111111111111111110': 1, '10011111110111111111111111111111111': 1, '00000000000011111111111111110111111': 1, '11111101011111111111111111111111111': 1, '00000000000000001111111111111101111': 1, '00000000000000000000000010111111111': 1, '11111111111111111111111101111101101': 1, '11111111111111111111110111111011101': 1, '00000000000111111111111111111111101': 1, '00000001000000000000000000000000100': 1, '00111011111111111111111111111111111': 1, '11111111111111110101111111111011111': 1, '11111111111111111110110111101111111': 1, '00000000000000000000001000101111111': 1, '01111111111111111111110111111111101': 1, '00000000000011111111111111111111110': 1, '11111111111111111111111111110110101': 1, '10011111101111111111111111111111111': 1, '11111111111111110110011111111111111': 1, '10101111111111111111111111101111111': 1, '11111111111111111100111111101111111': 1, '10011111111111111111111111111101111': 1, '01111111111111111111111110111111101': 1, '11111111111111010111111111111101111': 1, '00000000000000000000000000010001011': 1, '11111111110111111111111110111111101': 1, '11110110011111111111111111111111101': 1, '11111111111111011111111110111111111': 1, '11111111101111101111111111111111111': 1, '11111111111111111110011111101111111': 1, '11111111011111111111111111011111101': 1, '00000000000000000000000000101111011': 1, '00000000000111111110111111111111111': 1, '11111111111011111111111111111011111': 1, '00000000010001111111111011111011111': 1, '11111111111111111111101111111110111': 1, '11111111111011111111111111110101111': 1, '11111111111111110111111111111110110': 1, '11111110111111111111111011111111110': 1, '11111011111111111111111111111111100': 1, '11111111011111111111110111111111111': 1, '00000000000000000010111011111111101': 1, '00000000000000000000000100101111101': 1, '00000000000000000000011111111111111': 1, '00111111111111111111111111111111101': 1, '11111111101111110111111001111111111': 1, '10000000000000000000000010111111111': 1, '00000000000111110111111111111111111': 1, '11111111111111111111011111011111101': 1, '01111111111111011111111111111111110': 1, '11111111111111110111111111110011111': 1, '11111111001111111111111111111111111': 1, '11111110111111111111111111111111010': 1, '11111111111111110111111111111110100': 1, '00000000000000000000010011111111111': 1, '11111111110111111111111111111110110': 1, '00011111111111111111111111111111110': 1, '00000000111111111111111011111111111': 1, '11101111111111111111111110111111111': 1, '11111111111111111111111111111110011': 1, '11111111101111111111111111111101111': 1, '00000000000000000010000000000000111': 1, '11111111111111111110111111111110110': 1, '11111111011111111111011111111111111': 1, '00000001000000001111111111111111111': 1, '00000000000000000010000000000001111': 1, '11110111111111111111111110111111111': 1, '10111111111111111111111011111111101': 1, '11111111111111111111111110111111100': 1, '11111111111111110111111101111111101': 1, '00000000000000000000001000000000101': 1, '00000001110111111111111111101111111': 1, '11111111111111101111111111101111101': 1, '11111111111110111111111111111111100': 1, '00000000000000000000000000101101111': 1, '00000000000000000000000100000001000': 1, '11111111111111111110011111111111101': 1, '11110111111111111111111111011111101': 1, '00000000010111111111111111111111110': 1, '11111111111111111111011110111111111': 1, '00000000000000000000000111111111111': 1, '11111111111111111111111110110111101': 1, '00000000000000000000001011111111111': 1, '11111111111111010111111111111111101': 1, '11111111011111111111111111111111101': 1, '00000000000000000000000100000000001': 1, '11111111111011111111011111111111101': 1, '11111111111111101111111111111011101': 1, '11111111111111101111110111111111111': 1, '10101111111111111110111111111111111': 1, '11111111111111111110111011101111111': 1, '00000000000000000000000100111011101': 1, '11111111111011111111110111111111101': 1, '11111110111011110111111111111111101': 1, '11111111111111110010111111111111111': 1, '00000000010111111111111111101111111': 1, '11111111111111111111110111110111101': 1, '11111111111111111111011001111111111': 1, '11111111111111111111011111101111101': 1, '00000000010111111111111111111101111': 1, '11101111111111111111111111011111101': 1, '11111111111111111111111101111011101': 1, '11111111110111101111111111111011111': 1, '11111011101111111111111111111111111': 1, '00000000010111111111111111110111111': 1, '11111111011011111111111111111111101': 1, '11111110111011111110111111111111101': 1, '01111111111101111111111111111111101': 1, '11111111111111111111101110111111111': 1, '00000001000000000000000000000001101': 1, '00000000000000000000001000111111111': 1, '11101111111111111110111011111111111': 1, '11111111111111101111011111111111111': 1, '11111111111111111111111110101111101': 1, '11111111111111111110101111111111101': 1, '11111111111111111111111110111011101': 1, '10111111111011111111111111111111111': 1, '01111111111111111111111111111110111': 1, '01111110111111111111111110111111111': 1, '11111111111111111111111011011111110': 1, '01111111111111010111111111111111111': 1, '11111111111111111101111111111011111': 1, '01111111111111110111111110111111111': 1, '11111111111111111111101111101111101': 1, '11111111111111111101111110111111101': 1, '11111111111101111011111111111111111': 1, '11111111111111111111111111111100111': 1, '00000000000000000000000100000001100': 1, '00000001000000000000000000000001100': 1, '11011111111011111111111111111111101': 1, '11111111111111110111111111111101101': 1, '11111111111111111111111110011111111': 1, '11111111101111111111111111111101101': 1, '11111111111111111111101111111111100': 1, '11110111111111011111111111111111111': 1, '11111111111011111111111111111111011': 1, '00000000000000000000000000000000010': 1, '00000000000000000010000000000001100': 1, '11111110111111111110111011111111111': 1, '00011111111111111111111111111011111': 1, '11101111111111111111111111101111101': 1, '11011111111111111011111111111111111': 1, '11111101111111111111111111011111111': 1, '00000001000000000000000000000000011': 1, '11111111111111111101111111101111110': 1, '11111111111011111111111111111110111': 1, '11111011111111111111111111111111011': 1, '11111111111101111111110111111111111': 1}\n"
     ]
    }
   ],
   "source": [
    "# Get results for the first (and only) PUB\n",
    "pub_result = sampler_result[0]\n",
    "counts = pub_result.data.c.get_counts()\n",
    "\n",
    "print(f\"Counts for the meas output register: {counts}\")"
   ]
  },
  {
   "cell_type": "markdown",
   "id": "d920922e",
   "metadata": {},
   "source": [
    "**3. Plot the top bitstrings**\n",
    "\n",
    "Plot the bitstring with the highest counts to see if the hidden bitstring was the mode."
   ]
  },
  {
   "cell_type": "code",
   "execution_count": 15,
   "id": "cefa2234",
   "metadata": {},
   "outputs": [],
   "source": [
    "import matplotlib.pyplot as plt\n",
    "\n",
    "\n",
    "def plot_top_bitstrings(counts_dict, hidden_bitstring=None):\n",
    "    # Sort and take the top 100 bitstrings\n",
    "    top_100 = sorted(counts_dict.items(), key=lambda x: x[1], reverse=True)[\n",
    "        :100\n",
    "    ]\n",
    "    if not top_100:\n",
    "        print(\"No bitstrings found in the input dictionary.\")\n",
    "        return\n",
    "\n",
    "    # Unzip the bitstrings and their counts\n",
    "    bitstrings, counts = zip(*top_100)\n",
    "\n",
    "    # Assign colors: purple if the bitstring matches hidden_bitstring, otherwise gray\n",
    "    colors = [\n",
    "        \"#680CE9\" if bit == hidden_bitstring else \"gray\" for bit in bitstrings\n",
    "    ]\n",
    "\n",
    "    # Create the bar plot\n",
    "    plt.figure(figsize=(15, 8))\n",
    "    plt.bar(\n",
    "        range(len(bitstrings)), counts, tick_label=bitstrings, color=colors\n",
    "    )\n",
    "\n",
    "    # Rotate the bitstrings for better readability\n",
    "    plt.xticks(rotation=90, fontsize=8)\n",
    "    plt.xlabel(\"Bitstrings\")\n",
    "    plt.ylabel(\"Counts\")\n",
    "    plt.title(\"Top 100 Bitstrings by Counts\")\n",
    "\n",
    "    # Show the plot\n",
    "    plt.tight_layout()\n",
    "    plt.show()"
   ]
  },
  {
   "cell_type": "markdown",
   "id": "1d9d3b69",
   "metadata": {},
   "source": [
    "The hidden bitstring is highlighted in purple, and it should be the bitstring with the highest number of counts."
   ]
  },
  {
   "cell_type": "code",
   "execution_count": 16,
   "id": "8106d906",
   "metadata": {},
   "outputs": [
    {
     "data": {
      "text/plain": [
       "<Image src=\"/docs/images/guides/q-ctrl-performance-management/extracted-outputs/8106d906-0.svg\" alt=\"Output of the previous code cell\" />"
      ]
     },
     "metadata": {},
     "output_type": "display_data"
    }
   ],
   "source": [
    "plot_top_bitstrings(counts, hidden_bitstring)"
   ]
  },
  {
   "cell_type": "markdown",
   "id": "773466d6",
   "metadata": {},
   "source": [
    "### Sampler inputs\n",
    "<Admonition type=\"caution\">Fire Opal Performance Management accepts abstract circuits, in contrast to the native Qiskit Runtime primitives, which only accept circuits that are written in the target backend’s Instruction Set Architecture (ISA). For best results, do not transpile circuits before submitting via the Performance Management function. </Admonition>\n",
    "\n",
    "\n",
    "| Name       | Type            | Description | Required | Default | Example |\n",
    "|------------|---------------|------------------|----------|----------|--------------------|\n",
    "| pubs       | `QctrlSamplerPubLike` or `list[QctrlSamplerPubLike]`   | One or more tuples containing the inputs listed under `SamplerPubLike` components     | Yes      | N/A | `(circuit, parameter_values)`            |\n",
    "| backend_name| `str`  | The name of the backend | No  |  The least busy backend that your instance has access to | `\"ibm_fez\"` |\n",
    "| options| `dict`  | Input options; see Options section for more details | No  |  See the Options section for details | `{\"default_shots\": 2048}` |\n",
    "\n",
    "**`QctrlSamplerPubLike` components (derived from the [Qiskit Runtime PUB definition](/docs/guides/primitive-input-output#sampler-pub)):**\n",
    "- A single circuit defined as a `QuantumCircuit` or in OpenQASM 2.0 or 3.0 string format.\n",
    "- (Optional) A collection of parameter values to bind the circuit against.\n",
    "- (Optional) An integer representing the shot count, or a dictionary of runtime options containing the shot count. For example: `(circ, None, 123)` or `(circ, None, {\"shots\": 123})`.\n",
    "\n",
    "**Supported backends:**\n",
    "The following list of backends are currently supported. If your device is not listed, [reach out to Q-CTRL](https://form.typeform.com/to/iuujEAEI?typeform-source=q-ctrl.com) to add support.\n",
    "- ibm_brisbane\n",
    "- ibm_brussels\n",
    "- ibm_cleveland\n",
    "- ibm_fez\n",
    "- ibm_kawasaki\n",
    "- ibm_nazca\n",
    "- ibm_quebec\n",
    "- ibm_rensselaer\n",
    "- ibm_strasbourg\n",
    "- ibm_torino\n",
    "\n",
    "**Options:**\n",
    "| Name   | Type   | Description  | Default |\n",
    "|--------|----------|-----------------------|---------------------|\n",
    "| session_id | `str`  | An existing Qiskit Runtime session ID  | `\"cw4r3je6f0t010870y3g\"` |\n",
    "| default_shots | `int`  | The number of shots to use for each circuit  | `2048` |\n",
    "| job_tags | `list[str]` | The list of desired job tags | `[]` |\n",
    "\n",
    "### Sampler outputs\n",
    "| Name   | Type                                   | Description                                                                               | Example                         |\n",
    "|--------|----------------------------------------|-------------------------------------------------------------------------------------------|---------------------------------|\n",
    "| N/A | `PrimitiveResult`  | The [`PrimitiveResult`](/docs/api/qiskit/qiskit.primitives.PrimitiveResult) corresponding to the list of input PUBs | `PrimitiveResult([PubResult(data=DataBin(c=BitArray(<shape=(), num_shots=2048, num_bits=35>)), metadata={'shots': 2048})], metadata={})` |"
   ]
  },
  {
   "cell_type": "markdown",
   "id": "bb33258d",
   "metadata": {},
   "source": [
    "## Get support\n",
    "\n",
    "For any questions or issues, [contact Q-CTRL](https://form.typeform.com/to/iuujEAEI)."
   ]
  },
  {
   "cell_type": "markdown",
   "id": "2fe4a6ea",
   "metadata": {},
   "source": [
    "## Next steps\n",
    "\n",
    "<Admonition type=\"tip\" title=\"Recommendations\">\n",
    "\n",
    "- Request access to [Q-CTRL Performance Management](https://quantum.cloud.ibm.com/functions?id=q-ctrl-performance-management)\n",
    "\n",
    "</Admonition>"
   ]
  }
 ],
 "metadata": {
  "description": "Apply automated error suppression using Fire Opal Performance Management by Q-CTRL",
  "kernelspec": {
   "display_name": "Python 3",
   "language": "python",
   "name": "python3"
  },
  "language_info": {
   "codemirror_mode": {
    "name": "ipython",
    "version": 3
   },
   "file_extension": ".py",
   "mimetype": "text/x-python",
   "name": "python",
   "nbconvert_exporter": "python",
   "pygments_lexer": "ipython3",
   "version": "3"
  },
  "title": "Performance Management - A Qiskit Function by Q-CTRL Fire Opal"
 },
 "nbformat": 4,
 "nbformat_minor": 5
}
