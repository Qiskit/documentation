{
 "cells": [
  {
   "cell_type": "markdown",
   "id": "dde95705",
   "metadata": {},
   "source": [
    "# Performance Management: A Qiskit Function by Q-CTRL Fire Opal\n",
    "\n",
    "<Admonition type=\"note\">\n",
    "Qiskit Functions are an experimental feature available only to IBM Quantum&trade; Premium Plan users. They are in preview release status and subject to change.\n",
    "</Admonition>\n",
    "\n",
    "## Overview\n",
    "\n",
    "Fire Opal Performance Management makes it simple for anyone to achieve meaningful results from quantum computers at scale without needing to be quantum hardware experts. When running circuits with Fire Opal Performance Management, AI-driven error suppression techniques are automatically applied, enabling the scaling of larger problems with more gates and qubits. This approach reduces the number of shots required to reach the correct answer, with no added overhead — resulting in significant savings in both compute time and cost.\n",
    "\n",
    "Performance Management suppresses errors and increases the probability of getting the correct answer on noisy hardware. In other words, it increases the signal-to-noise ratio. The following image shows how increased accuracy enabled by Performance Management can reduce the need for additional shots in the case of a 10-qubit Quantum Fourier Transform algorithm. With only 30 shots, Q-CTRL reaches the 99% confidence threshold, whereas the default (`QiskitRuntime` Sampler, `optimization_level`=3 and `resilience_level`=1, `ibm_sherbrooke`) requires 170,000 shots. By getting the right answer faster, you save significant compute runtime.\n",
    "\n",
    "![Visualization of the improved runtime](/images/guides/qctrl-performance-management/achieve_more.svg)\n",
    "\n",
    "The Performance Management function can be used with any algorithm, and you can easily use it in place of the standard [Qiskit Runtime primitives](./primitives). Behind the scenes, multiple error suppression techniques work together to prevent errors from happening at runtime. All Fire Opal pipeline methods are pre-configured and algorithm-agnostic, meaning you always get the best performance out of the box.\n",
    "\n",
    "To get access to Performance Management, [contact Q-CTRL](https://form.typeform.com/to/uOAVDnGg?typeform-source=q-ctrl.com)."
   ]
  },
  {
   "cell_type": "markdown",
   "id": "5f761442",
   "metadata": {},
   "source": [
    "## Description\n",
    "\n",
    "Fire Opal Performance Management has two options for execution that are similar to the Qiskit Runtime primitives, so you can easily swap in the Q-CTRL Sampler and Estimator. The general workflow for using the Performance Management function is:\n",
    "1. Define your circuit (and operators in the case of the Estimator).\n",
    "2. Run the circuit.\n",
    "3. Retrieve the results.\n",
    "\n",
    "To reduce hardware noise, Fire Opal employs a range of AI-driven error suppression techniques depicted in the following image. With Fire Opal, the entire pipeline is completely automated with zero need for configuration.\n",
    "\n",
    "Fire Opal's pipeline eliminates the need for additional overhead, such as increased quantum runtime or extra physical qubits. Note that classical processing time remains a factor (refer to the [Benchmarks](#benchmarks) section for estimates, where \"Total time\" reflects both classical and quantum processing). In contrast to error mitigation, which requires overhead in the form of sampling, Fire Opal's error suppression works at both the gate and pulse levels to address various sources of noise and to prevent the likelihood of an error occurring. By preventing errors, the need for expensive post-processing is eliminated.\n",
    "\n",
    "The following image depicts the error suppression methods automated by Fire Opal Performance Management.\n",
    "\n",
    "![Visualization of the error suppression pipeline](/images/guides/qctrl-performance-management/error_suppression.svg)\n",
    "\n",
    "The function offers two primitives, Sampler and Estimator, and the inputs and outputs of both extend the implemented spec for [Qiskit Runtime V2 primitives](/guides/primitive-input-output)."
   ]
  },
  {
   "cell_type": "markdown",
   "id": "64534d1a",
   "metadata": {},
   "source": [
    "## Benchmarks\n",
    "\n",
    "[Published algorithmic benchmarking](https://journals.aps.org/prapplied/abstract/10.1103/PhysRevApplied.20.024034) results demonstrate significant performance improvement across various algorithms, including Bernstein-Vazirani, quantum Fourier transform, Grover’s search, quantum approximate optimization algorithm, and variational quantum eigensolver. The rest of this section provides more details about types of algorithms you can run, as well as the expected performance and runtimes.\n",
    "\n",
    "The following independent studies demonstrate how Q-CTRL's Performance Management enables algorithmic research at record-breaking scale:\n",
    "- [Parametrized Energy-Efficient Quantum Kernels for Network Service Fault Diagnosis](https://arxiv.org/abs/2405.09724v1) - up to 50-qubit quantum kernel learning\n",
    "- [Tensor-based quantum phase difference estimation for large-scale demonstration](https://arxiv.org/abs/2408.04946) - up to 33-qubit quantum phase estimation\n",
    "- [Hierarchical Learning for Quantum ML: Novel Training Technique for Large-Scale Variational Quantum Circuits](https://arxiv.org/abs/2311.12929) - up to 21-qubit quantum data loading\n",
    "\n",
    "The following table provides a rough guide on accuracy and runtimes from prior benchmarking runs on `ibm_fez`. Performance on other devices may vary. The usage time is based on an assumption of 10,000 shots per circuit. The \"Number of qubits\" indicated is not a hard limitation but represents rough thresholds where you can expect extremely consistent solution accuracy. Larger problem sizes have been successfully solved, and testing beyond these limits is encouraged.\n",
    "\n",
    "\n",
    "| Example    | Number of qubits | Accuracy | Measure of accuracy | Total time (s) | Runtime usage (s) | Primitive (Mode) |\n",
    "| ---------  | ---------------- | -------------------------- | -------- | ---------- | ------------- |------------- |\n",
    "| Bernstein–Vazirani  |  50Q    | 100%  | Success Rate (Percentage of runs where the correct answer is the highest count bitstring)     | 10    | 8         | Sampler |\n",
    "| Quantum Fourier Transform | 30Q              | 100% | Success Rate (Percentage of runs where the correct answer is the highest count bitstring)      | 10    | 8        | Sampler |\n",
    "| Quantum Phase Estimation  | 30Q   | 99.9998%  | Accuracy of the angle found: `1- abs(real_angle - angle_found)/pi`  | 10  | 8  | Sampler |\n",
    "| Quantum simulation: Ising model (15 steps) | 20Q  | 99.775%   |  $A$ (defined below)  |  60 (per step)  | 15 (per step)   | Estimator |\n",
    "| Quantum simulation 2: molecular dynamics (20 time points) | 34Q  |  96.78%  |  $A_{mean}$ (defined below)   | 10 (per time point)    | 6 (per time point)  | Estimator |\n",
    "\n",
    "Defining the accuracy of the measurement of an expectation value - the metric $A$ is defined as follows:\n",
    "$$\n",
    "A = 1 - \\frac{|\\epsilon^{ideal} - \\epsilon^{meas}|}{\\epsilon^{ideal}_{max} - \\epsilon^{ideal}_{min}},\n",
    "$$\n",
    "where $ \\epsilon^{ideal} $ = ideal expectation value,  $ \\epsilon^{meas} $ = measured expectation value, $\\epsilon^{ideal}_{max} $ = ideal maximum value, and $\\epsilon^{ideal}_{min}$ = ideal minimum value. $A_{mean}$ is simply the average of the value of $A$ across multiple measurements.\n",
    "\n",
    "This metric is used because it is invariant to global shifts and scaling in the range of attainable values. In other words, regardless of whether you shift the range of possible expectation values higher or lower or increase the spread, the value of $A$ should remain consistent."
   ]
  },
  {
   "cell_type": "markdown",
   "id": "870af0fe",
   "metadata": {},
   "source": [
    "## Get started\n",
    "\n",
    "Authenticate using your [IBM Quantum Platform API token](http://quantum.ibm.com/), and select the Qiskit Function as follows:"
   ]
  },
  {
   "cell_type": "code",
   "execution_count": null,
   "id": "11af8fb4",
   "metadata": {},
   "outputs": [],
   "source": [
    "from qiskit_ibm_catalog import QiskitFunctionsCatalog\n",
    "\n",
    "# If you have not previously saved your credentials, follow instructions at\n",
    "# https://docs.quantum.ibm.com/guides/functions\n",
    "# to authenticate with your API token.\n",
    "catalog = QiskitFunctionsCatalog()\n",
    "\n",
    "# Access Function\n",
    "perf_mgmt = catalog.load(\"q-ctrl/performance-management\")"
   ]
  },
  {
   "cell_type": "markdown",
   "id": "2947b5c3",
   "metadata": {},
   "source": [
    "## Estimator primitive"
   ]
  },
  {
   "cell_type": "markdown",
   "id": "df2788d5",
   "metadata": {},
   "source": [
    "### Estimator example\n",
    "\n",
    "Use Fire Opal Performance Management's Estimator primitive to determine the expectation value of a single circuit-observable pair."
   ]
  },
  {
   "cell_type": "markdown",
   "id": "82932760",
   "metadata": {},
   "source": [
    "In addition to the `qiskit-ibm-catalog` and `qiskit` packages, you will also use the `numpy` package to run this example. You can install this package by uncommenting the following cell if you are running this example in a notebook using the IPython kernel."
   ]
  },
  {
   "cell_type": "code",
   "execution_count": null,
   "id": "70bb93ef",
   "metadata": {},
   "outputs": [],
   "source": [
    "# %pip install numpy"
   ]
  },
  {
   "cell_type": "markdown",
   "id": "02b2a79a",
   "metadata": {},
   "source": [
    "**1. Create the circuit**\n",
    "\n",
    "As an example, generate a random Hermitian operator and an observable to input to the Performance Management function."
   ]
  },
  {
   "cell_type": "code",
   "execution_count": 28,
   "id": "32037218",
   "metadata": {},
   "outputs": [],
   "source": [
    "import numpy as np\n",
    "from qiskit.circuit.library import IQP\n",
    "from qiskit.quantum_info import random_hermitian, SparsePauliOp\n",
    "\n",
    "n_qubits = 50\n",
    "\n",
    "# Generate a random circuit\n",
    "mat = np.real(random_hermitian(n_qubits, seed=1234))\n",
    "circuit = IQP(mat)\n",
    "circuit.measure_all()\n",
    "\n",
    "# Define observables as a string\n",
    "observable = SparsePauliOp(\"Z\" * n_qubits)"
   ]
  },
  {
   "cell_type": "code",
   "execution_count": 29,
   "id": "476fae6a",
   "metadata": {},
   "outputs": [],
   "source": [
    "# Create PUB tuple\n",
    "estimator_pubs = [(circuit, observable)]"
   ]
  },
  {
   "cell_type": "markdown",
   "id": "09e64cd7",
   "metadata": {},
   "source": [
    "**2. Run the circuit**\n",
    "\n",
    "Run the circuit and optionally define the backend and number of shots."
   ]
  },
  {
   "cell_type": "code",
   "execution_count": null,
   "id": "2b892956",
   "metadata": {
    "tags": [
     "remove-cell"
    ]
   },
   "outputs": [],
   "source": [
    "# This cell is hidden from users\n",
    "from qiskit_ibm_runtime import QiskitRuntimeService\n",
    "\n",
    "service = QiskitRuntimeService()\n",
    "instance = service.active_account()[\"instance\"]\n",
    "backend_name = service.least_busy().name"
   ]
  },
  {
   "cell_type": "code",
   "execution_count": null,
   "id": "26952e1f",
   "metadata": {},
   "outputs": [],
   "source": [
    "# Run the circuit using the estimator\n",
    "qctrl_estimator_job = perf_mgmt.run(\n",
    "    primitive=\"estimator\",\n",
    "    pubs=estimator_pubs,\n",
    "    instance=instance,  # E.g. \"ibm-q/open/main\"\n",
    "    backend_name=backend_name,  # E.g. \"ibm_kyiv\", or omit to default to the least busy device\n",
    ")"
   ]
  },
  {
   "cell_type": "markdown",
   "id": "c07af9d0",
   "metadata": {},
   "source": [
    "You can use the familiar [Qiskit Serverless APIs](./serverless) to check your Qiskit Function workload's status:"
   ]
  },
  {
   "cell_type": "code",
   "execution_count": 41,
   "id": "2b309861",
   "metadata": {},
   "outputs": [
    {
     "data": {
      "text/plain": [
       "'DONE'"
      ]
     },
     "execution_count": 41,
     "metadata": {},
     "output_type": "execute_result"
    }
   ],
   "source": [
    "qctrl_estimator_job.status()"
   ]
  },
  {
   "cell_type": "markdown",
   "id": "23556c8e",
   "metadata": {},
   "source": [
    "**3. Retrieve the result**"
   ]
  },
  {
   "cell_type": "code",
   "execution_count": 42,
   "id": "8be67088",
   "metadata": {},
   "outputs": [],
   "source": [
    "# Retrieve the counts from the result list\n",
    "result = qctrl_estimator_job.result()"
   ]
  },
  {
   "cell_type": "markdown",
   "id": "7375fcad",
   "metadata": {},
   "source": [
    "The results have the same format as an [Estimator result](/guides/primitive-input-output#estimator-output):"
   ]
  },
  {
   "cell_type": "code",
   "execution_count": 44,
   "id": "ef85a036",
   "metadata": {},
   "outputs": [
    {
     "name": "stdout",
     "output_type": "stream",
     "text": [
      "The result of the submitted job had 1 PUB and has a value:\n",
      " PrimitiveResult([PubResult(data=DataBin(evs=np.ndarray(<shape=(1,), dtype=float64>), stds=np.ndarray(<shape=(1,), dtype=float64>)), metadata={'precision': None})], metadata={})\n",
      "\n",
      "The associated PubResult of this job has the following DataBins:\n",
      " DataBin(evs=np.ndarray(<shape=(1,), dtype=float64>), stds=np.ndarray(<shape=(1,), dtype=float64>))\n",
      "\n",
      "And this DataBin has attributes: dict_keys(['evs', 'stds'])\n",
      "The expectation values measured from this PUB are: \n",
      "[-0.01464844]\n"
     ]
    }
   ],
   "source": [
    "print(\n",
    "    f\"The result of the submitted job had {len(result)} PUB and has a value:\\n {result}\\n\"\n",
    ")\n",
    "print(\n",
    "    f\"The associated PubResult of this job has the following DataBins:\\n {result[0].data}\\n\"\n",
    ")\n",
    "print(f\"And this DataBin has attributes: {result[0].data.keys()}\")\n",
    "print(\n",
    "    f\"The expectation values measured from this PUB are: \\n{result[0].data.evs}\"\n",
    ")"
   ]
  },
  {
   "cell_type": "markdown",
   "id": "20cb6ab1",
   "metadata": {},
   "source": [
    "### Estimator inputs\n",
    "<Admonition type=\"caution\">Fire Opal Performance Management accepts abstract circuits, in contrast to the native Qiskit Runtime primitives, which only accept circuits that are written in the target backend’s Instruction Set Architecture (ISA). For best results, do not transpile circuits before submitting via the Performance Management function. </Admonition>\n",
    "\n",
    "| Name  | Type  | Description | Required | Default  | Example |\n",
    "|------|------|----------|----------|-----------|-----------|\n",
    "| pubs       | `QctrlEstimatorPubLike` or `list[QctrlEstimatorPubLike]` | One or more tuples containing the inputs listed under `EstimatorPubLike` components   | Yes   | N/A   | `(circuit, observables, parameter_values)`   |\n",
    "| instance   | `str`   | The hub/group/project to use in that format  | No  | A Premium access instance is randomly chosen if your account has access to multiple instances | `\"hub1/group1/project1\"`     |\n",
    "| backend_name| `str`  | The name of the backend | No  |  The least busy backend that your instance has access to | `\"ibm_fez\"` |\n",
    "| options| `dict`  | Input options; see Options section for more details | No  |  See the Options section for details | `{\"default_shots\": 2048}` |\n",
    "\n",
    "**`QctrlEstimatorPubLike` components (derived from the [Qiskit Runtime PUB definition](/guides/primitive-input-output#estimator-pub)):**\n",
    "- A single circuit defined as a `QuantumCircuit` or in OpenQASM 2.0 or 3.0 string format.\n",
    "- One or more observables that specify the expectation values to estimate, in any of the formats denoted in the list \"Supported observables formats\".\n",
    "- (Optional) A collection of parameter values to bind the circuit against, which follow the same [array broadcasting rules](./primitive-input-output#broadcasting-rules) as the `QiskitRuntime` primitives.\n",
    "- (Optional) A target precision for expectation values to estimate.\n",
    "- (Optional) A real number representing the precision, or a dictionary of run options containing the shot count. For example: `{\"shots\": <int>}`.\n",
    "\n",
    "**Supported observables formats:**\n",
    "- Any one of the `ObservablesArrayLike` formats, such as `Pauli`, `SparsePauliOp`, `PauliList`, or `str`\n",
    "- A Pauli string: `\"XY\"`\n",
    "- A dictionary - Pauli strings with coefficients: `{\"XY\": 0.5, \"YZ\": 0.3}`\n",
    "- A list of Pauli strings: `[\"XY\", \"YZ\", \"ZX\"]`\n",
    "- A list of Pauli strings with coefficients: `[(\"XY\", 0.5), (\"YZ\", 0.3)]`\n",
    "- A nested list of Pauli strings: `[[\"XY\", \"YZ\"], [\"ZX\", \"XX\"]]`\n",
    "- A nested list of Pauli strings with coefficients: `[[(\"XY\", 0.1), (\"YZ\", 0.2)], [(\"ZX\", 0.3), (\"XX\", 0.4)]]`\n",
    "\n",
    "**Supported backends:**\n",
    "The following list of backends are currently supported. If your device is not listed, [reach out to Q-CTRL](https://form.typeform.com/to/iuujEAEI?typeform-source=q-ctrl.com) to add support.\n",
    "- ibm_brisbane\n",
    "- ibm_brussels\n",
    "- ibm_cleveland\n",
    "- ibm_fez\n",
    "- ibm_kawasaki\n",
    "- ibm_kyiv\n",
    "- ibm_nazca\n",
    "- ibm_quebec\n",
    "- ibm_rensselaer\n",
    "- ibm_sherbrooke\n",
    "- ibm_strasbourg\n",
    "- ibm_torino\n",
    "\n",
    "**Options:**\n",
    "| Name   | Type   | Description  | Default |\n",
    "|--------|----------|-----------------------|---------------------|\n",
    "| session_id | `str`  | An existing Qiskit Runtime session ID  | `\"cw4r3je6f0t010870y3g\"` |\n",
    "| default_shots | `int`  | The number of shots to use for each circuit  | `2048` |\n",
    "| default_precision | `float`  | The target precision for expectation values to estimate for each circuit  | `0.015625` |\n",
    "| job_tags | `list[str]` | A list of job tags | `[]`|\n",
    "\n",
    "### Estimator outputs\n",
    "| Name   | Type   | Description  | Example |\n",
    "|--------|---------------------------------|------------------------------------|---------------------|\n",
    "| N/A | `PrimitiveResult`  | The [`PrimitiveResult`](/api/qiskit/qiskit.primitives.PrimitiveResult) corresponding to the list of input PUBs | `PubResult(data=DataBin(evs=[0.1234], stds=[0.1]))` |"
   ]
  },
  {
   "cell_type": "markdown",
   "id": "a78ce8bd",
   "metadata": {},
   "source": [
    "## Sampler primitive"
   ]
  },
  {
   "cell_type": "markdown",
   "id": "b1300f06",
   "metadata": {},
   "source": [
    "### Sampler example\n",
    "\n",
    "Use Fire Opal Performance Management's Sampler primitive to run a Bernstein–Vazirani circuit. This algorithm, used to find a hidden string from the outputs of a black box function, is a common benchmarking algorithm because there is a single correct answer."
   ]
  },
  {
   "cell_type": "markdown",
   "id": "144e48f3",
   "metadata": {},
   "source": [
    "**1. Create the circuit**\n",
    "\n",
    "Define the correct answer to the algorithm, the hidden bitstring, and the Bernstein–Vazirani circuit. You can adjust the width of the circuit by simply changing the `circuit_width`."
   ]
  },
  {
   "cell_type": "code",
   "execution_count": null,
   "id": "2cd807b1",
   "metadata": {},
   "outputs": [],
   "source": [
    "import qiskit\n",
    "\n",
    "circuit_width = 35\n",
    "hidden_bitstring = \"1\" * circuit_width\n",
    "\n",
    "# Create circuit, reserving one qubit for BV oracle\n",
    "bv_circuit = qiskit.QuantumCircuit(circuit_width + 1, circuit_width)\n",
    "bv_circuit.x(circuit_width)\n",
    "bv_circuit.h(range(circuit_width + 1))\n",
    "for input_qubit, bit in enumerate(reversed(hidden_bitstring)):\n",
    "    if bit == \"1\":\n",
    "        bv_circuit.cx(input_qubit, circuit_width)\n",
    "bv_circuit.barrier()\n",
    "bv_circuit.h(range(circuit_width + 1))\n",
    "bv_circuit.barrier()\n",
    "for input_qubit in range(circuit_width):\n",
    "    bv_circuit.measure(input_qubit, input_qubit)\n",
    "\n",
    "# Create PUB tuple\n",
    "sampler_pubs = [(bv_circuit,)]"
   ]
  },
  {
   "cell_type": "markdown",
   "id": "85d3c00b",
   "metadata": {},
   "source": [
    "**2. Run the circuit**\n",
    "\n",
    "Run the circuit and optionally define the backend and number of shots."
   ]
  },
  {
   "cell_type": "code",
   "execution_count": null,
   "id": "2595df84",
   "metadata": {},
   "outputs": [],
   "source": [
    "# Run the circuit using the sampler\n",
    "qctrl_sampler_job = perf_mgmt.run(\n",
    "    primitive=\"sampler\",\n",
    "    pubs=sampler_pubs,\n",
    "    instance=instance,  # E.g. \"ibm-q/open/main\"\n",
    "    backend_name=backend_name,  # E.g. \"ibm_kyiv\", or omit to default to the least busy device\n",
    ")"
   ]
  },
  {
   "cell_type": "markdown",
   "id": "3c49fbba",
   "metadata": {},
   "source": [
    "Check your Qiskit Function workload's [status](/guides/functions#check-job-status) or return [results](/guides/functions#retrieve-results) as follows:"
   ]
  },
  {
   "cell_type": "code",
   "execution_count": null,
   "id": "b7acbb7f",
   "metadata": {},
   "outputs": [
    {
     "name": "stdout",
     "output_type": "stream",
     "text": [
      "DONE\n"
     ]
    }
   ],
   "source": [
    "qctrl_sampler_job.status()"
   ]
  },
  {
   "cell_type": "markdown",
   "id": "35921605",
   "metadata": {},
   "source": [
    "**3. Retrieve the result**"
   ]
  },
  {
   "cell_type": "code",
   "execution_count": null,
   "id": "2d4f5f7d",
   "metadata": {},
   "outputs": [],
   "source": [
    "# Retrieve the job results\n",
    "sampler_result = qctrl_sampler_job.result()"
   ]
  },
  {
   "cell_type": "code",
   "execution_count": null,
   "id": "302032d7",
   "metadata": {},
   "outputs": [
    {
     "name": "stdout",
     "output_type": "stream",
     "text": [
      "Counts for the meas output register: {'00000000000000000000000000000000001': 3, '00000001111111111111111111111111111': 6, '00111111111111111111111111111111111': 2, '01110111111111111111111111111111111': 1, '01111111111111111111111101111111111': 39, '01111111111111111111111111111110111': 1, '01111111111111111111111111111111111': 73, '10111111111111111111111111111111111': 18, '11101111101111111111111111111110111': 2, '11110111111111111111111111111111111': 37, '11111101011111111111111111111111111': 16, '11111101111111111111111111111111111': 15, '11111111011111111111101111111111111': 6, '11111111011111111111111111011111111': 19, '11111111110111111111111101111111111': 2, '11111111110111111111111111111111111': 24, '11111111111110111111111111111111111': 42, '11111111111111011111111111111111111': 10, '11111111111111110111111111111111111': 15, '11111111111111111011111111111111111': 12, '11111111111111111101111111111101111': 13, '11111111111111111101111111111110111': 7, '11111111111111111101111111111111111': 8, '11111111111111111110111111111111111': 28, '11111111111111111111011111111111111': 36, '11111111111111111111101101110111111': 2, '11111111111111111111110101111111111': 17, '11111111111111111111110111111111111': 39, '11111111111111111111111011111110111': 19, '11111111111111111111111011111111111': 1, '11111111111111111111111100111111111': 6, '11111111111111111111111101011111111': 1, '11111111111111111111111101101111111': 11, '11111111111111111111111101111011111': 5, '11111111111111111111111101111110111': 47, '11111111111111111111111101111111011': 26, '11111111111111111111111101111111111': 244, '11111111111111111111111110111111111': 15, '11111111111111111111111111011111111': 42, '11111111111111111111111111101111111': 2, '11111111111111111111111111110111111': 23, '11111111111111111111111111111011111': 37, '11111111111111111111111111111101111': 22, '11111111111111111111111111111110111': 188, '11111111111111111111111111111111011': 2, '11111111111111111111111111111111101': 24, '11111111111111111111111111111111110': 34, '11111111111111111111111111111111111': 806}\n"
     ]
    }
   ],
   "source": [
    "# Get results for the first (and only) PUB\n",
    "pub_result = sampler_result[0]\n",
    "counts = pub_result.data.c.get_counts()\n",
    "\n",
    "print(f\"Counts for the meas output register: {counts}\")"
   ]
  },
  {
   "cell_type": "markdown",
   "id": "d920922e",
   "metadata": {},
   "source": [
    "**3. Plot the top bitstrings**\n",
    "\n",
    "Plot the bitstring with the highest counts to see if the hidden bitstring was the mode."
   ]
  },
  {
   "cell_type": "code",
   "execution_count": null,
   "id": "cefa2234",
   "metadata": {},
   "outputs": [],
   "source": [
    "import matplotlib.pyplot as plt\n",
    "\n",
    "\n",
    "def plot_top_bitstrings(counts_dict, hidden_bitstring=None):\n",
    "    # Sort and take the top 100 bitstrings\n",
    "    top_100 = sorted(counts_dict.items(), key=lambda x: x[1], reverse=True)[\n",
    "        :100\n",
    "    ]\n",
    "    if not top_100:\n",
    "        print(\"No bitstrings found in the input dictionary.\")\n",
    "        return\n",
    "\n",
    "    # Unzip the bitstrings and their counts\n",
    "    bitstrings, counts = zip(*top_100)\n",
    "\n",
    "    # Assign colors: purple if the bitstring matches hidden_bitstring, otherwise gray\n",
    "    colors = [\n",
    "        \"#680CE9\" if bit == hidden_bitstring else \"gray\" for bit in bitstrings\n",
    "    ]\n",
    "\n",
    "    # Create the bar plot\n",
    "    plt.figure(figsize=(15, 8))\n",
    "    plt.bar(\n",
    "        range(len(bitstrings)), counts, tick_label=bitstrings, color=colors\n",
    "    )\n",
    "\n",
    "    # Rotate the bitstrings for better readability\n",
    "    plt.xticks(rotation=90, fontsize=8)\n",
    "    plt.xlabel(\"Bitstrings\")\n",
    "    plt.ylabel(\"Counts\")\n",
    "    plt.title(\"Top 100 Bitstrings by Counts\")\n",
    "\n",
    "    # Show the plot\n",
    "    plt.tight_layout()\n",
    "    plt.show()"
   ]
  },
  {
   "cell_type": "markdown",
   "id": "1d9d3b69",
   "metadata": {},
   "source": [
    "The hidden bitstring is highlighted in purple, and it should be the bitstring with the highest number of counts."
   ]
  },
  {
   "cell_type": "code",
   "execution_count": null,
   "id": "0f463b7e",
   "metadata": {},
   "outputs": [
    {
     "data": {
      "image/png": "[encoded data removed]",
      "text/plain": [
       "<Figure size 1500x800 with 1 Axes>"
      ]
     },
     "metadata": {},
     "output_type": "display_data"
    }
   ],
   "source": [
    "plot_top_bitstrings(counts, hidden_bitstring)"
   ]
  },
  {
   "cell_type": "markdown",
   "id": "773466d6",
   "metadata": {},
   "source": [
    "### Sampler inputs\n",
    "<Admonition type=\"caution\">Fire Opal Performance Management accepts abstract circuits, in contrast to the native Qiskit Runtime primitives, which only accept circuits that are written in the target backend’s Instruction Set Architecture (ISA). For best results, do not transpile circuits before submitting via the Performance Management function. </Admonition>\n",
    "\n",
    "| Name       | Type            | Description | Required | Default | Example |\n",
    "|------------|---------------|------------------|----------|----------|--------------------|\n",
    "| pubs       | `QctrlSamplerPubLike` or `list[QctrlSamplerPubLike]`   | One or more tuples containing the inputs listed under `SamplerPubLike` components     | Yes      | N/A | `(circuit, parameter_values)`            |\n",
    "| instance   | `str`     | The hub/group/project to use in that format        | No | A Premium access instance is randomly chosen if your account has access to multiple instances     | `\"hub1/group1/project1\"`   |\n",
    "| backend_name| `str`  | The name of the backend | No  |  The least busy backend that your instance has access to | `\"ibm_fez\"` |\n",
    "| options| `dict`  | Input options; see Options section for more details | No  |  See the Options section for details | `{\"default_shots\": 2048}` |\n",
    "\n",
    "**`QctrlSamplerPubLike` components (derived from the [Qiskit Runtime PUB definition](/guides/primitive-input-output#sampler-pub)):**\n",
    "- A single circuit defined as a `QuantumCircuit` or in OpenQASM 2.0 or 3.0 string format.\n",
    "- (Optional) A collection of parameter values to bind the circuit against.\n",
    "- (Optional) An integer representing the shot count, or a dictionary of runtime options containing the shot count. For example: `(circ, None, 123)` or `(circ, None, {\"shots\": 123})`.\n",
    "\n",
    "**Supported backends:**\n",
    "The following list of backends are currently supported. If your device is not listed, [reach out to Q-CTRL](https://form.typeform.com/to/iuujEAEI?typeform-source=q-ctrl.com) to add support.\n",
    "- ibm_brisbane\n",
    "- ibm_brussels\n",
    "- ibm_cleveland\n",
    "- ibm_fez\n",
    "- ibm_kawasaki\n",
    "- ibm_kyiv\n",
    "- ibm_nazca\n",
    "- ibm_quebec\n",
    "- ibm_rensselaer\n",
    "- ibm_sherbrooke\n",
    "- ibm_strasbourg\n",
    "- ibm_torino\n",
    "\n",
    "**Options:**\n",
    "| Name   | Type   | Description  | Default |\n",
    "|--------|----------|-----------------------|---------------------|\n",
    "| session_id | `str`  | An existing Qiskit Runtime session ID  | `\"cw4r3je6f0t010870y3g\"` |\n",
    "| default_shots | `int`  | The number of shots to use for each circuit  | `2048` |\n",
    "| job_tags | `list[str]` | The list of desired job tags | `[]` |\n",
    "\n",
    "### Sampler outputs\n",
    "| Name   | Type                                   | Description                                                                               | Example                         |\n",
    "|--------|----------------------------------------|-------------------------------------------------------------------------------------------|---------------------------------|\n",
    "| N/A | `PrimitiveResult`  | The [`PrimitiveResult`](/api/qiskit/qiskit.primitives.PrimitiveResult) corresponding to the list of input PUBs | `PrimitiveResult([PubResult(data=DataBin(c=BitArray(<shape=(), num_shots=2048, num_bits=35>)), metadata={'shots': 2048})], metadata={})` |"
   ]
  },
  {
   "cell_type": "markdown",
   "id": "bb33258d",
   "metadata": {},
   "source": [
    "## Get support\n",
    "\n",
    "For any questions or issues, [contact Q-CTRL](https://form.typeform.com/to/iuujEAEI)."
   ]
  },
  {
   "cell_type": "markdown",
   "id": "2fe4a6ea",
   "metadata": {},
   "source": [
    "## Next steps\n",
    "\n",
    "<Admonition type=\"tip\" title=\"Recommendations\">\n",
    "\n",
    "- Request access to [Q-CTRL Performance Management](https://quantum.ibm.com/functions?id=c750648c-ba44-4137-8c34-4140a3aaa7a9)\n",
    "\n",
    "</Admonition>"
   ]
  }
 ],
 "metadata": {
  "description": "Apply automated error suppression using Fire Opal Performance Management by Q-CTRL",
  "kernelspec": {
   "display_name": "Python 3",
   "language": "python",
   "name": "python3"
  },
  "language_info": {
   "codemirror_mode": {
    "name": "ipython",
    "version": 3
   },
   "file_extension": ".py",
   "mimetype": "text/x-python",
   "name": "python",
   "nbconvert_exporter": "python",
   "pygments_lexer": "ipython3",
   "version": "3"
  },
  "title": "Performance Management - A Qiskit Function by Q-CTRL Fire Opal"
 },
 "nbformat": 4,
 "nbformat_minor": 5
}
