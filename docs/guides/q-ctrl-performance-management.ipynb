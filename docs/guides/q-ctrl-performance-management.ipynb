{
 "cells": [
  {
   "cell_type": "markdown",
   "id": "dde95705",
   "metadata": {},
   "source": [
    "# Performance Management: A Qiskit Function by Q-CTRL Fire Opal\n",
    "\n",
    "## Overview\n",
    "\n",
    "Fire Opal Performance Management makes it simple for anyone to achieve meaningful results from quantum computers at scale without needing to be quantum hardware experts. When running circuits with Fire Opal Performance Management, the function automatically applies AI-driven error suppression techniques for successfully scaling to larger problems, using more gates and qubits on the device. At the same time, reaching the correct answer takes fewer shots and requires no overhead, meaning that you save on compute time and cost.\n",
    "\n",
    "Performance Management suppresses errors and increases the probability of getting the correct answer on noisy hardware. In other words, it increases the signal-to-noise ratio. The following image shows how increased accuracy enabled by Performance Management can reduce the need for additional shots in the case of a 10-qubit Quantum Fourier Transform algorithm. With only 30 shots, Q-CTRL reaches the 99% confidence threshold, whereas the default (`QiskitRuntime` Sampler, `optimization_level`=3 and `resilience_level`=1, `ibm_sherbrooke`) requires 170,000 shots. By getting the right answer faster, you save significant compute runtime.\n",
    "\n",
    "![Visualization of the improved runtime](/images/guides/qctrl-performance-management/achieve_more.svg)\n",
    "\n",
    "The Performance Management function can be used in place of the standard [Qiskit Runtime primitives](./primitives). Behind the scenes, multiple error suppression techniques work together to prevent errors from happening at runtime. All Fire Opal pipeline methods are pre-configured and algorithm-agnostic, meaning you always get the best performance out of the box.\n",
    "\n",
    "To get access to Performance Management, [contact Q-CTRL](https://form.typeform.com/to/JKHcaxlv?typeform-source=q-ctrl.com#product=Fire%20Opal)."
   ]
  },
  {
   "cell_type": "markdown",
   "id": "5f761442",
   "metadata": {},
   "source": [
    "## Function description\n",
    "\n",
    "Fire Opal Performance Management has two options for execution that are similar to the Qiskit Runtime primitives, so you can easily swap in the Q-CTRL Sampler and Estimator. The general workflow for using the Performance Management function is:\n",
    "1. Define your circuit (and operators in the case of the Estimator).\n",
    "2. Run the circuit.\n",
    "3. Retrieve the results.\n",
    "\n",
    "To reduce hardware noise, Fire Opal employs a range of AI-driven error suppression techniques depicted in the following image. Error suppression works at both the gate and pulse levels to address various sources of noise and to prevent the likelihood of an error occurring. With Fire Opal, the entire pipeline is completely automated with zero need for configuration. By preventing errors, the need for expensive post-processing is eliminated.\n",
    "\n",
    "The following image depicts the error suppression methods automated by Fire Opal Performance Management.\n",
    "\n",
    "![Visualization of the error suppression pipeline](/images/guides/qctrl-performance-management/error_suppression.svg)"
   ]
  },
  {
   "cell_type": "markdown",
   "id": "b364970b",
   "metadata": {},
   "source": [
    "## Inputs and outputs\n",
    "The Sampler and Estimator inputs are meant to closely follow the implemented spec for [Qiskit Runtime V2 primitives](../migration-guides/v2-primitives). The Q-CTRL primitives accept inputs in the form of Primitive Unified Blocs (PUBs), which are tuples containing circuits and their relevant execution data. For more information on the PUB data structure, refer to the [IBM Quantum Documentation](./primitive-input-output). The main difference is that the Q-CTRL primitives accept PUBs containing basic types - for example, QASM strings, dictionaries, and so on.\n",
    "\n",
    "<Admonition type=\"caution\">Fire Opal Performance Management accepts abstract circuits, in contrast to the native Qiskit Runtime primitives, which only accept circuits that are written in the target backend’s Instruction Set Architecture (ISA). For best results, do not transpile circuits before submitting via the Performance Management function. </Admonition>\n",
    "\n",
    "\n",
    "### Sampler inputs\n",
    "| Name       | Type                                          | Description                                                                                                 | Required | Example                                                                                                             |\n",
    "|------------|-----------------------------------------------|-------------------------------------------------------------------------------------------------------------|----------|---------------------------------------------------------------------------------------------------------------------|\n",
    "| pubs       | `SamplerPubLike` or `list[SamplerPubLike]`   | One or more tuples containing the inputs listed under `SamplerPubLike` components.                          | Yes      | `(circuit, parameter_values)`                                                                                |\n",
    "| instance   | str                                           | The hub/group/project to use in that format.                                                               | Yes      | `\"hub1/group1/project1\"`                                                                                           |\n",
    "| run_options| dict                                          | Input options which includes the following: (Optional) `backend_name`: str, `shots`: int. Defaults to least busy backend and 4000 shots. | No       | `{\"backend_name\": backend_name, \"shots\": 2048}`                                                                   |\n",
    "\n",
    "**`SamplerPubLike` components:**\n",
    "- A single circuit in the OpenQASM 2.0 or 3.0 string format.\n",
    "- (Optional) A collection of parameter values to bind the circuit against.\n",
    "- (Optional) A dictionary of run options, such as the shot count.\n",
    "\n",
    "### Sampler outputs\n",
    "| Name   | Type                                   | Description                                                                               | Example                         |\n",
    "|--------|----------------------------------------|-------------------------------------------------------------------------------------------|---------------------------------|\n",
    "| result | `list[ArrayLike[dict[str, int]]]`      | The resultant list of counts dictionaries corresponding to the list of input PUBs.       | `[{'000001': 100, '000011': 2}]` |\n",
    "\n",
    "\n",
    "### Estimator inputs\n",
    "| Name       | Type                                          | Description                                                                                                 | Required | Example                                                                                                             |\n",
    "|------------|-----------------------------------------------|-------------------------------------------------------------------------------------------------------------|----------|---------------------------------------------------------------------------------------------------------------------|\n",
    "| pubs       | `EstimatorPubLike` or `list[EstimatorPubLike]` | One or more tuples containing the inputs listed under `EstimatorPubLike` components.                          | Yes      | `(circuit, observables, parameter_values)`                                                                                  |\n",
    "| instance   | str                                           | The hub/group/project to use in that format.                                                               | Yes      | `\"hub1/group1/project1\"`                                                                                           |\n",
    "| run_options| dict                                          | Input options which includes the following: (Optional) `backend_name`: str, `shots`: int. Defaults to least busy backend and 4000 shots. | No       | `{\"backend_name\": backend_name, \"shots\": 2048}`                                                                   |\n",
    "\n",
    "**`EstimatorPubLike` components:**\n",
    "- A single circuit in the OpenQASM 2.0 or 3.0 string format.\n",
    "- One or more observables that specify the expectation values to estimate, in any of the formats denoted in the list \"Accepted observables formats\".\n",
    "- (Optional) A collection of parameter values to bind the circuit against.\n",
    "- (Optional) A dictionary of run options, such as the shot count.\n",
    "\n",
    "**Accepted observables formats:**\n",
    "- A Pauli string: `\"XY\"`\n",
    "- A dictionary - Pauli strings with coefficients: `{\"XY\": 0.5, \"YZ\": 0.3}`\n",
    "- A list of Pauli strings: `[\"XY\", \"YZ\", \"ZX\"]`\n",
    "- A list of Pauli strings with coefficients: `[(\"XY\", 0.5), (\"YZ\", 0.3)]`\n",
    "- A nested list of Pauli strings: `[[\"XY\", \"YZ\"], [\"ZX\", \"XX\"]]`\n",
    "- A nested list of Pauli strings with coefficients: `[[(\"XY\", 0.1), (\"YZ\", 0.2)], [(\"ZX\", 0.3), (\"XX\", 0.4)]]`\n",
    "\n",
    "### Estimator outputs\n",
    "| Name   | Type                            | Description                                                                                      | Example             |\n",
    "|--------|---------------------------------|--------------------------------------------------------------------------------------------------|---------------------|\n",
    "| values | `valueslist[ArrayLike[float]]`  | The resultant list of expectation values corresponding to the list of input PUBs.               | `[0.43046065915270004]` |\n",
    "\n",
    "### Parameter formats\n",
    "The Sampler and Estimator both accept parameters, which follow the same [array broadcasting rules](./primitive-input-output#broadcasting-rules) as the `QiskitRuntime` primitives. The following parameter formats are accepted:\n",
    "\n",
    "| Format                                      | Example                                                                                           |\n",
    "|---------------------------------------------|---------------------------------------------------------------------------------------------------|\n",
    "| 0-d array (single binding)                  | `{\"a\": 4, (\"b\", \"c\"): [5, 6]}`                                                                    |\n",
    "| Single array (last index for parameters)    | `{\"a[0]\", \"a[1]\", \"a[2]\": [0.1, 0.2, 0.3]}`                                                     |\n",
    "| Multiple arrays (last index for parameters, flexible dimensions) | `{\"c\": np.ones((10, 10, 2)).tolist(), \"b\": np.zeros((10, 10)).tolist()}`                       |"
   ]
  },
  {
   "cell_type": "markdown",
   "id": "895db40f",
   "metadata": {},
   "source": [
    "## Benchmarks\n",
    "\n",
    "[Published algorithmic benchmarking](https://journals.aps.org/prapplied/abstract/10.1103/PhysRevApplied.20.024034) results demonstrate significant performance improvement across various algorithms, including Bernstein-Vazirani, quantum Fourier transform, Grover’s search, quantum approximate optimization algorithm, and variational quantum eigensolver. The rest of this section provides more details about types of algorithms you can run, as well as the expected performance and runtimes.\n",
    "\n",
    "The following independent studies demonstrate how Q-CTRL's Performance Management enables algorithmic research at record-breaking scale:\n",
    "- [Parametrized Energy-Efficient Quantum Kernels for Network Service Fault Diagnosis](https://arxiv.org/abs/2405.09724v1) - up to 50-qubit quantum kernel learning\n",
    "- [Tensor-based quantum phase difference estimation for large-scale demonstration](https://arxiv.org/abs/2408.04946) - up to 33-qubit quantum phase estimation\n",
    "- [Hierarchical Learning for Quantum ML: Novel Training Technique for Large-Scale Variational Quantum Circuits](https://arxiv.org/abs/2311.12929) - up to 21-qubit quantum data loading\n",
    "\n",
    "The following table provides a rough guide on accuracy and runtimes from prior benchmarking runs on `ibm_fez`. Performance on other devices may vary. The usage time is based on an assumption of 10,000 shots per circuit. The \"Number of qubits\" indicated is not a hard limitation but represents rough thresholds where you can expect extremely consistent solution accuracy. Larger problem sizes have been successfully solved, and testing beyond these limits is encouraged.\n",
    "\n",
    "\n",
    "| Example    | Number of qubits | Accuracy | Measure of accuracy | Total time (s) | Runtime usage (s) | Primitive (Mode) |\n",
    "| ---------  | ---------------- | -------------------------- | -------- | ---------- | ------------- |------------- |\n",
    "| Bernstein–Vazirani  |  50Q    | 100%  | Success Rate (Percentage of runs where the correct answer is the highest count bitstring)     | 10    | 8         | Sampler |\n",
    "| Quantum Fourier Transform | 30Q              | 100% | Success Rate (Percentage of runs where the correct answer is the highest count bitstring)      | 10    | 8        | Sampler |\n",
    "| Quantum Phase Estimation  | 30Q   | 99.9998%  | Accuracy of the angle found: `1- abs(real_angle - angle_found)/pi`  | 10  | 8  | Sampler |\n",
    "| Quantum simulation: Ising model (15 steps) | 20Q  | 99.775%   |  $A$ (defined below)  |  60 (per step)  | 15 (per step)   | Estimator |\n",
    "| Quantum simulation 2: molecular dynamics (20 time points) | 34Q  |  96.78%  |  $A_{mean}$ (defined below)   | 10 (per time point)    | 6 (per time point)  | Estimator |\n",
    "\n",
    "Defining the accuracy of the measurement of an expectation value - the metric $A$ is defined as follows:\n",
    "$$\n",
    "A = 1 - \\frac{|\\epsilon^{ideal} - \\epsilon^{meas}|}{\\epsilon^{ideal}_{max} - \\epsilon^{ideal}_{min}},\n",
    "$$\n",
    "where $ \\epsilon^{ideal} $ = ideal expectation value,  $ \\epsilon^{meas} $ = measured expectation value, $\\epsilon^{ideal}_{max} $ = ideal maximum value, and $\\epsilon^{ideal}_{min}$ = ideal minimum value. $A_{mean}$ is simply the average of the value of $A$ across multiple measurements.\n",
    "\n",
    "This metric is used because it is invariant to global shifts and scaling in the range of attainable values. In other words, regardless of whether you shift the range of possible expectation values higher or lower or increase the spread, the value of $A$ should remain consistent."
   ]
  },
  {
   "cell_type": "markdown",
   "id": "73390a19",
   "metadata": {},
   "source": [
    "## Get started\n",
    "\n",
    "Authenticate using your [IBM Quantum&trade; Platform API token](http://quantum.ibm.com/), and select the Qiskit Function as follows:"
   ]
  },
  {
   "cell_type": "code",
   "execution_count": null,
   "id": "95a715d2",
   "metadata": {},
   "outputs": [],
   "source": [
    "from qiskit_ibm_catalog import QiskitFunctionsCatalog\n",
    "\n",
    "# Credentials\n",
    "token = \"<YOUR_IQP_API_TOKEN>\"\n",
    "hub = \"<YOUR_IQP_HUB>\"\n",
    "group = \"<YOUR_IQP_GROUP>\"\n",
    "project = \"<YOUR_IQP_PROJECT>\"\n",
    "\n",
    "# Authentication\n",
    "catalog = QiskitFunctionsCatalog(token=token)\n",
    "\n",
    "# Access Function\n",
    "perf_mgmt = catalog.get(\"q-ctrl/performance_management\")"
   ]
  },
  {
   "cell_type": "markdown",
   "id": "e8837f5f",
   "metadata": {},
   "source": [
    "## Example: Sampler\n",
    "\n",
    "Use the Sampler mode of Fire Opal Performance Management to run a Bernstein–Vazirani circuit. This algorithm, used to find a hidden string from the outputs of a black box function, is a common benchmarking algorithm because there is a single correct answer."
   ]
  },
  {
   "cell_type": "markdown",
   "id": "39819cbd",
   "metadata": {},
   "source": [
    "### 1. Create the circuit\n",
    "Define the correct answer to the algorithm, the hidden bitstring, and the Bernstein–Vazirani circuit. You can adjust the width of the circuit by simply changing the `circuit_width`."
   ]
  },
  {
   "cell_type": "code",
   "execution_count": 2,
   "id": "278c5298",
   "metadata": {},
   "outputs": [],
   "source": [
    "import qiskit\n",
    "\n",
    "circuit_width = 35\n",
    "hidden_bitstring = \"1\" * circuit_width\n",
    "\n",
    "# Create circuit, reserving one qubit for BV oracle\n",
    "bv_circuit = qiskit.QuantumCircuit(circuit_width + 1, circuit_width)\n",
    "bv_circuit.x(circuit_width)\n",
    "bv_circuit.h(range(circuit_width + 1))\n",
    "for input_qubit, bit in enumerate(reversed(hidden_bitstring)):\n",
    "    if bit == \"1\":\n",
    "        bv_circuit.cx(input_qubit, circuit_width)\n",
    "bv_circuit.barrier()\n",
    "bv_circuit.h(range(circuit_width + 1))\n",
    "bv_circuit.barrier()\n",
    "for input_qubit in range(circuit_width):\n",
    "    bv_circuit.measure(input_qubit, input_qubit)\n",
    "\n",
    "# Create PUB tuple\n",
    "pubs = [(bv_circuit,)]"
   ]
  },
  {
   "cell_type": "markdown",
   "id": "86d47228",
   "metadata": {},
   "source": [
    "### 2. Run the circuit\n",
    "Run the circuit and optionally define the backend and number of shots."
   ]
  },
  {
   "cell_type": "code",
   "execution_count": null,
   "id": "2ad187e0",
   "metadata": {},
   "outputs": [],
   "source": [
    "# Choose a backend or remove this option to default to the least busy device\n",
    "backend_name = \"<CHOOSE_A_BACKEND>\"\n",
    "\n",
    "# Run the circuit using the sampler\n",
    "qctrl_sampler_job = perf_mgmt.run(\n",
    "    runner_function =\"sampler\",\n",
    "    pubs = pubs,\n",
    "    instance = hub + \"/\" + group + \"/\" + project,\n",
    "    run_options = {\"backend_name\": backend_name},\n",
    ")"
   ]
  },
  {
   "cell_type": "markdown",
   "id": "a6bfaf53",
   "metadata": {},
   "source": [
    "You can use the familiar [Qiskit Serverless APIs](./serverless) to check your Qiskit Function workload's status:"
   ]
  },
  {
   "cell_type": "code",
   "execution_count": null,
   "id": "e408b89e",
   "metadata": {},
   "outputs": [],
   "source": [
    "print(qctrl_sampler_job.status())"
   ]
  },
  {
   "cell_type": "markdown",
   "id": "1a371424",
   "metadata": {},
   "source": [
    "### 3. Retrieve the result"
   ]
  },
  {
   "cell_type": "code",
   "execution_count": null,
   "id": "b4ac097c",
   "metadata": {},
   "outputs": [],
   "source": [
    "# Retrieve the counts from the result list\n",
    "counts = qctrl_sampler_job.result()[0]"
   ]
  },
  {
   "cell_type": "markdown",
   "id": "8ba9fd35",
   "metadata": {},
   "source": [
    "In case you need to retrieve results later, you can run the following cell to save your job ID and use it to retrieve your job."
   ]
  },
  {
   "cell_type": "code",
   "execution_count": null,
   "id": "bc4df554",
   "metadata": {},
   "outputs": [],
   "source": [
    "qctrl_sampler_job_id = qctrl_sampler_job.job_id\n",
    "print(qctrl_sampler_job_id)"
   ]
  },
  {
   "cell_type": "markdown",
   "id": "71a7e415",
   "metadata": {},
   "source": [
    "You can use the job ID to retrieve your job object, which can be used to get the status or results."
   ]
  },
  {
   "cell_type": "code",
   "execution_count": null,
   "id": "6951d866",
   "metadata": {},
   "outputs": [],
   "source": [
    "qctrl_sampler_job = catalog.get_job_by_id(qctrl_sampler_job_id)"
   ]
  },
  {
   "cell_type": "markdown",
   "id": "df2788d5",
   "metadata": {},
   "source": [
    "## Example: Estimator\n",
    "\n",
    "Use the Sampler mode of Fire Opal Performance Management to run a Bernstein–Vazirani circuit. This algorithm, used to find a hidden string from the outputs of a black box function, is a common benchmarking algorithm because there is a single correct answer."
   ]
  },
  {
   "cell_type": "markdown",
   "id": "82932760",
   "metadata": {},
   "source": [
    "In addition to the `qiskit-ibm-catalog` and `qiskit` package, you will also use the `NumPy` package to run this example. You can install this package by uncommenting the following cell if you are running this example in a notebook using the IPython kernel."
   ]
  },
  {
   "cell_type": "code",
   "execution_count": null,
   "id": "70bb93ef",
   "metadata": {},
   "outputs": [],
   "source": [
    "# %pip install numpy"
   ]
  },
  {
   "cell_type": "markdown",
   "id": "02b2a79a",
   "metadata": {},
   "source": [
    "### 1. Create the circuit\n",
    "As an example, generate a random Hermitian operator and an observable to input to the Performance Management function."
   ]
  },
  {
   "cell_type": "code",
   "execution_count": 4,
   "id": "32037218",
   "metadata": {},
   "outputs": [],
   "source": [
    "import numpy as np\n",
    "from qiskit.circuit.library import IQP\n",
    "from qiskit.quantum_info import random_hermitian\n",
    "\n",
    "n_qubits = 50\n",
    "\n",
    "# Generate a random circuit\n",
    "mat = np.real(random_hermitian(n_qubits, seed=1234))\n",
    "circuit = IQP(mat)\n",
    "circuit.measure_all()\n",
    "\n",
    "# Define observables as a string\n",
    "observable = \"Z\" * n_qubits"
   ]
  },
  {
   "cell_type": "code",
   "execution_count": 5,
   "id": "476fae6a",
   "metadata": {},
   "outputs": [],
   "source": [
    "# Create PUB tuple\n",
    "pubs = [(circuit, observable)]"
   ]
  },
  {
   "cell_type": "markdown",
   "id": "09e64cd7",
   "metadata": {},
   "source": [
    "### 2. Run the circuit\n",
    "Run the circuit and optionally define the backend and number of shots."
   ]
  },
  {
   "cell_type": "code",
   "execution_count": 8,
   "id": "720c6919",
   "metadata": {},
   "outputs": [],
   "source": [
    "# Choose a backend or remove this option to default to the least busy device\n",
    "backend_name = \"<CHOOSE_A_BACKEND>\"\n",
    "\n",
    "qctrl_estimator_job = perf_mgmt.run(\n",
    "    runner_function = \"estimator\",\n",
    "    pubs = pubs,\n",
    "    instance = hub + \"/\" + group + \"/\" + project,\n",
    "    run_options = {\"backend_name\": backend_name},\n",
    ")"
   ]
  },
  {
   "cell_type": "markdown",
   "id": "c07af9d0",
   "metadata": {},
   "source": [
    "You can use the familiar [Qiskit Serverless APIs](./serverless) to check your Qiskit Function workload's status:"
   ]
  },
  {
   "cell_type": "code",
   "execution_count": null,
   "id": "7e2fab85",
   "metadata": {},
   "outputs": [],
   "source": [
    "print(qctrl_estimator_job.status())"
   ]
  },
  {
   "cell_type": "markdown",
   "id": "23556c8e",
   "metadata": {},
   "source": [
    "### 3. Retrieve the result"
   ]
  },
  {
   "cell_type": "code",
   "execution_count": null,
   "id": "8be67088",
   "metadata": {},
   "outputs": [],
   "source": [
    "# Retrieve the counts from the result list\n",
    "expectation_value = qctrl_estimator_job.result()[0]\n",
    "\n",
    "print(f\"Expectation value: {expectation_value}\")"
   ]
  },
  {
   "cell_type": "markdown",
   "id": "4a56975a",
   "metadata": {},
   "source": [
    "In case you need to retrieve results later, you can run the following cell to save your job ID."
   ]
  },
  {
   "cell_type": "code",
   "execution_count": null,
   "id": "0a5baa05",
   "metadata": {},
   "outputs": [],
   "source": [
    "qctrl_estimator_job_id = qctrl_estimator_job.job_id\n",
    "print(qctrl_estimator_job_id)"
   ]
  },
  {
   "cell_type": "markdown",
   "id": "438469d9",
   "metadata": {},
   "source": [
    "You can use the job ID to retrieve your job object, which can be used to get the status or results."
   ]
  },
  {
   "cell_type": "code",
   "execution_count": null,
   "id": "0324580e",
   "metadata": {},
   "outputs": [],
   "source": [
    "qctrl_estimator_job = catalog.get_job_by_id(qctrl_estimator_job_id)"
   ]
  },
  {
   "cell_type": "markdown",
   "id": "bb33258d",
   "metadata": {},
   "source": [
    "## Get support\n",
    "\n",
    "For any questions or issues, [contact Q-CTRL](https://form.typeform.com/to/iuujEAEI)."
   ]
  },
  {
   "cell_type": "markdown",
   "id": "2fe4a6ea",
   "metadata": {},
   "source": [
    "## Next steps\n",
    "\n",
    "<Admonition type=\"tip\" title=\"Recommendations\">\n",
    "\n",
    "- Request access to [Q-CTRL Performance Management](https://quantum.ibm.com/functions?id=c750648c-ba44-4137-8c34-4140a3aaa7a9)\n",
    "- Try the [Q-CTRL Performance Management on variational quantum algorithms](https://learning.quantum.ibm.com/tutorial/q-ctrl-performance-management-on-variational-quantum-algorithms) tutorial.\n",
    "\n",
    "</Admonition>"
   ]
  }
 ],
 "metadata": {
  "description": "Apply automated error suppression using Fire Opal Performance Management by Q-CTRL",
  "kernelspec": {
   "display_name": "Python 3",
   "language": "python",
   "name": "python3"
  },
  "language_info": {
   "codemirror_mode": {
    "name": "ipython",
    "version": 3
   },
   "file_extension": ".py",
   "mimetype": "text/x-python",
   "name": "python",
   "nbconvert_exporter": "python",
   "pygments_lexer": "ipython3",
   "version": "3"
  },
  "title": "Performance Management - A Qiskit Function by Q-CTRL Fire Opal"
 },
 "nbformat": 4,
 "nbformat_minor": 5
}
