{
 "cells": [
  {
   "cell_type": "markdown",
   "id": "dde95705",
   "metadata": {},
   "source": [
    "# Performance Management: A Qiskit Function by Q-CTRL Fire Opal\n",
    "\n",
    "\n",
    "<Admonition type=\"note\" title=\"Note\">\n",
    "Qiskit Functions are an experimental feature available only to IBM Quantum&reg; Premium Plan, Flex Plan, and On-Prem (via IBM Quantum Platform API) Plan users. They are in preview release status and subject to change.\n",
    "</Admonition>"
   ]
  },
  {
   "cell_type": "markdown",
   "id": "ace2ed13",
   "metadata": {
    "tags": [
     "version-info"
    ]
   },
   "source": [
    "<details>\n",
    "<summary><b>Package versions</b></summary>\n",
    "\n",
    "The code on this page was developed using the following requirements.\n",
    "We recommend using these versions or newer.\n",
    "\n",
    "```\n",
    "qiskit[all]~=2.1.1\n",
    "qiskit-ibm-runtime~=0.40.1\n",
    "qiskit-ibm-catalog~=0.9.0\n",
    "```\n",
    "</details>"
   ]
  },
  {
   "cell_type": "markdown",
   "id": "c1732b45",
   "metadata": {},
   "source": [
    "## Overview\n",
    "\n",
    "Fire Opal Performance Management makes it simple for anyone to achieve meaningful results from quantum computers at scale without needing to be quantum hardware experts. When running circuits with Fire Opal Performance Management, AI-driven error suppression techniques are automatically applied, enabling the scaling of larger problems with more gates and qubits. This approach reduces the number of shots required to reach the correct answer, with no added overhead — resulting in significant savings in both compute time and cost.\n",
    "\n",
    "Performance Management suppresses errors and increases the probability of getting the correct answer on noisy hardware. In other words, it increases the signal-to-noise ratio. The following image shows how increased accuracy enabled by Performance Management can reduce the need for additional shots in the case of a 10-qubit Quantum Fourier Transform algorithm. With only 30 shots, Q-CTRL reaches the 99% confidence threshold, whereas the default (`QiskitRuntime` Sampler, `optimization_level`=3 and `resilience_level`=1, `ibm_sherbrooke`) requires 170,000 shots. By getting the right answer faster, you save significant compute runtime.\n",
    "\n",
    "![Visualization of the improved runtime](/docs/images/guides/qctrl-performance-management/achieve_more.svg)\n",
    "\n",
    "The Performance Management function can be used with any algorithm, and you can easily use it in place of the standard [Qiskit Runtime primitives](./primitives). Behind the scenes, multiple error suppression techniques work together to prevent errors from happening at runtime. All Fire Opal pipeline methods are pre-configured and algorithm-agnostic, meaning you always get the best performance out of the box.\n",
    "\n",
    "To get access to Performance Management, [contact Q-CTRL](https://form.typeform.com/to/uOAVDnGg?typeform-source=q-ctrl.com)."
   ]
  },
  {
   "cell_type": "markdown",
   "id": "5f761442",
   "metadata": {},
   "source": [
    "## Description\n",
    "\n",
    "Fire Opal Performance Management has two options for execution that are similar to the Qiskit Runtime primitives, so you can easily swap in the Q-CTRL Sampler and Estimator. The general workflow for using the Performance Management function is:\n",
    "1. Define your circuit (and operators in the case of the Estimator).\n",
    "2. Run the circuit.\n",
    "3. Retrieve the results.\n",
    "\n",
    "To reduce hardware noise, Fire Opal employs a range of AI-driven error suppression techniques depicted in the following image. With Fire Opal, the entire pipeline is completely automated with zero need for configuration.\n",
    "\n",
    "Fire Opal's pipeline eliminates the need for additional overhead, such as increased quantum runtime or extra physical qubits. Note that classical processing time remains a factor (refer to the [Benchmarks](#benchmarks) section for estimates, where \"Total time\" reflects both classical and quantum processing). In contrast to error mitigation, which requires overhead in the form of sampling, Fire Opal's error suppression works at both the gate and pulse levels to address various sources of noise and to prevent the likelihood of an error occurring. By preventing errors, the need for expensive post-processing is eliminated.\n",
    "\n",
    "The following image depicts the error suppression methods automated by Fire Opal Performance Management.\n",
    "\n",
    "![Visualization of the error suppression pipeline](/docs/images/guides/qctrl-performance-management/error_suppression.svg)\n",
    "\n",
    "The function offers two primitives, Sampler and Estimator, and the inputs and outputs of both extend the implemented spec for [Qiskit Runtime V2 primitives](/docs/guides/primitive-input-output)."
   ]
  },
  {
   "cell_type": "markdown",
   "id": "64534d1a",
   "metadata": {},
   "source": [
    "## Benchmarks\n",
    "\n",
    "[Published algorithmic benchmarking](https://journals.aps.org/prapplied/abstract/10.1103/PhysRevApplied.20.024034) results demonstrate significant performance improvement across various algorithms, including Bernstein-Vazirani, quantum Fourier transform, Grover’s search, quantum approximate optimization algorithm, and variational quantum eigensolver. The rest of this section provides more details about types of algorithms you can run, as well as the expected performance and runtimes.\n",
    "\n",
    "The following independent studies demonstrate how Q-CTRL's Performance Management enables algorithmic research at record-breaking scale:\n",
    "- [Parametrized Energy-Efficient Quantum Kernels for Network Service Fault Diagnosis](https://arxiv.org/abs/2405.09724v1) - up to 50-qubit quantum kernel learning\n",
    "- [Tensor-based quantum phase difference estimation for large-scale demonstration](https://arxiv.org/abs/2408.04946) - up to 33-qubit quantum phase estimation\n",
    "- [Hierarchical Learning for Quantum ML: Novel Training Technique for Large-Scale Variational Quantum Circuits](https://arxiv.org/abs/2311.12929) - up to 21-qubit quantum data loading\n",
    "\n",
    "The following table provides a rough guide on accuracy and runtimes from prior benchmarking runs on `ibm_fez`. Performance on other devices may vary. The usage time is based on an assumption of 10,000 shots per circuit. The \"Number of qubits\" indicated is not a hard limitation but represents rough thresholds where you can expect extremely consistent solution accuracy. Larger problem sizes have been successfully solved, and testing beyond these limits is encouraged.\n",
    "\n",
    "\n",
    "| Example    | Number of qubits | Accuracy | Measure of accuracy | Total time (s) | Runtime usage (s) | Primitive (Mode) |\n",
    "| ---------  | ---------------- | -------------------------- | -------- | ---------- | ------------- |------------- |\n",
    "| Bernstein–Vazirani  |  50Q    | 100%  | Success Rate (Percentage of runs where the correct answer is the highest count bitstring)     | 10    | 8         | Sampler |\n",
    "| Quantum Fourier Transform | 30Q              | 100% | Success Rate (Percentage of runs where the correct answer is the highest count bitstring)      | 10    | 8        | Sampler |\n",
    "| Quantum Phase Estimation  | 30Q   | 99.9998%  | Accuracy of the angle found: `1- abs(real_angle - angle_found)/pi`  | 10  | 8  | Sampler |\n",
    "| Quantum simulation: Ising model (15 steps) | 20Q  | 99.775%   |  $A$ (defined below)  |  60 (per step)  | 15 (per step)   | Estimator |\n",
    "| Quantum simulation 2: molecular dynamics (20 time points) | 34Q  |  96.78%  |  $A_{mean}$ (defined below)   | 10 (per time point)    | 6 (per time point)  | Estimator |\n",
    "\n",
    "Defining the accuracy of the measurement of an expectation value - the metric $A$ is defined as follows:\n",
    "$$\n",
    "A = 1 - \\frac{|\\epsilon^{ideal} - \\epsilon^{meas}|}{\\epsilon^{ideal}_{max} - \\epsilon^{ideal}_{min}},\n",
    "$$\n",
    "where $ \\epsilon^{ideal} $ = ideal expectation value,  $ \\epsilon^{meas} $ = measured expectation value, $\\epsilon^{ideal}_{max} $ = ideal maximum value, and $\\epsilon^{ideal}_{min}$ = ideal minimum value. $A_{mean}$ is simply the average of the value of $A$ across multiple measurements.\n",
    "\n",
    "This metric is used because it is invariant to global shifts and scaling in the range of attainable values. In other words, regardless of whether you shift the range of possible expectation values higher or lower or increase the spread, the value of $A$ should remain consistent."
   ]
  },
  {
   "cell_type": "markdown",
   "id": "870af0fe",
   "metadata": {},
   "source": [
    "## Get started\n",
    "\n",
    "Fire Opal Performance Management uses Qiskit v`2.0.0`, which is the recommended version. Supported versions are Qiskit v`2.0.0` - `2.0.2`.\n",
    "Authenticate using your [IBM Quantum Platform API key](http://quantum.cloud.ibm.com/), and select the Qiskit Function as follows. (This snippet assumes you've already [saved your account](/docs/guides/functions#install-qiskit-functions-catalog-client) to your local environment.)"
   ]
  },
  {
   "cell_type": "code",
   "execution_count": 1,
   "id": "11af8fb4",
   "metadata": {},
   "outputs": [],
   "source": [
    "from qiskit_ibm_catalog import QiskitFunctionsCatalog\n",
    "\n",
    "catalog = QiskitFunctionsCatalog(channel=\"ibm_quantum_platform\")\n",
    "\n",
    "# Access Function\n",
    "perf_mgmt = catalog.load(\"q-ctrl/performance-management\")"
   ]
  },
  {
   "cell_type": "markdown",
   "id": "2947b5c3",
   "metadata": {},
   "source": [
    "## Estimator primitive"
   ]
  },
  {
   "cell_type": "markdown",
   "id": "df2788d5",
   "metadata": {},
   "source": [
    "### Estimator example\n",
    "\n",
    "Use Fire Opal Performance Management's Estimator primitive to determine the expectation value of a single circuit-observable pair."
   ]
  },
  {
   "cell_type": "markdown",
   "id": "82932760",
   "metadata": {},
   "source": [
    "In addition to the `qiskit-ibm-catalog` and `qiskit` packages, you will also use the `numpy` package to run this example. You can install this package by uncommenting the following cell if you are running this example in a notebook using the IPython kernel."
   ]
  },
  {
   "cell_type": "code",
   "execution_count": 2,
   "id": "70bb93ef",
   "metadata": {},
   "outputs": [],
   "source": [
    "# %pip install numpy"
   ]
  },
  {
   "cell_type": "markdown",
   "id": "02b2a79a",
   "metadata": {},
   "source": [
    "**1. Create the circuit**\n",
    "\n",
    "As an example, generate a random Hermitian operator and an observable to input to the Performance Management function."
   ]
  },
  {
   "cell_type": "code",
   "execution_count": 3,
   "id": "32037218",
   "metadata": {},
   "outputs": [],
   "source": [
    "import numpy as np\n",
    "from qiskit.circuit.library import iqp\n",
    "from qiskit.quantum_info import random_hermitian, SparsePauliOp\n",
    "\n",
    "n_qubits = 50\n",
    "\n",
    "# Generate a random circuit\n",
    "mat = np.real(random_hermitian(n_qubits, seed=1234))\n",
    "circuit = iqp(mat)\n",
    "circuit.measure_all()\n",
    "\n",
    "# Define observables as a string\n",
    "observable = SparsePauliOp(\"Z\" * n_qubits)"
   ]
  },
  {
   "cell_type": "code",
   "execution_count": 4,
   "id": "476fae6a",
   "metadata": {},
   "outputs": [],
   "source": [
    "# Create PUB tuple\n",
    "estimator_pubs = [(circuit, observable)]"
   ]
  },
  {
   "cell_type": "markdown",
   "id": "09e64cd7",
   "metadata": {},
   "source": [
    "**2. Run the circuit**\n",
    "\n",
    "Run the circuit and optionally define the backend and number of shots."
   ]
  },
  {
   "cell_type": "code",
   "execution_count": 5,
   "id": "2b892956",
   "metadata": {
    "tags": [
     "remove-cell"
    ]
   },
   "outputs": [],
   "source": [
    "# This cell is hidden from users\n",
    "from qiskit_ibm_runtime import QiskitRuntimeService\n",
    "\n",
    "service = QiskitRuntimeService()\n",
    "backend_name = service.least_busy().name"
   ]
  },
  {
   "cell_type": "code",
   "execution_count": 6,
   "id": "26952e1f",
   "metadata": {},
   "outputs": [],
   "source": [
    "# Run the circuit using the estimator\n",
    "qctrl_estimator_job = perf_mgmt.run(\n",
    "    primitive=\"estimator\",\n",
    "    pubs=estimator_pubs,\n",
    "    backend_name=backend_name,\n",
    ")"
   ]
  },
  {
   "cell_type": "markdown",
   "id": "c07af9d0",
   "metadata": {},
   "source": [
    "You can use the familiar [Qiskit Serverless APIs](./serverless) to check your Qiskit Function workload's status:"
   ]
  },
  {
   "cell_type": "code",
   "execution_count": 7,
   "id": "2b309861",
   "metadata": {},
   "outputs": [
    {
     "data": {
      "text/plain": [
       "'QUEUED'"
      ]
     },
     "execution_count": 7,
     "metadata": {},
     "output_type": "execute_result"
    }
   ],
   "source": [
    "qctrl_estimator_job.status()"
   ]
  },
  {
   "cell_type": "markdown",
   "id": "23556c8e",
   "metadata": {},
   "source": [
    "**3. Retrieve the result**"
   ]
  },
  {
   "cell_type": "code",
   "execution_count": 8,
   "id": "8be67088",
   "metadata": {},
   "outputs": [],
   "source": [
    "# Retrieve the counts from the result list\n",
    "result = qctrl_estimator_job.result()"
   ]
  },
  {
   "cell_type": "markdown",
   "id": "7375fcad",
   "metadata": {},
   "source": [
    "The results have the same format as an [Estimator result](/docs/guides/primitive-input-output#estimator-output):"
   ]
  },
  {
   "cell_type": "code",
   "execution_count": 9,
   "id": "ef85a036",
   "metadata": {},
   "outputs": [
    {
     "name": "stdout",
     "output_type": "stream",
     "text": [
      "The result of the submitted job had 1 PUB and has a value:\n",
      " PrimitiveResult([PubResult(data=DataBin(evs=0.001, stds=0.999999499999875), metadata={'precision': None})], metadata={})\n",
      "\n",
      "The associated PubResult of this job has the following DataBins:\n",
      " DataBin(evs=0.001, stds=0.999999499999875)\n",
      "\n",
      "And this DataBin has attributes: dict_keys(['evs', 'stds'])\n",
      "The expectation values measured from this PUB are: \n",
      "0.001\n"
     ]
    }
   ],
   "source": [
    "print(\n",
    "    f\"The result of the submitted job had {len(result)} PUB and has a value:\\n {result}\\n\"\n",
    ")\n",
    "print(\n",
    "    f\"The associated PubResult of this job has the following DataBins:\\n {result[0].data}\\n\"\n",
    ")\n",
    "print(f\"And this DataBin has attributes: {result[0].data.keys()}\")\n",
    "print(\n",
    "    f\"The expectation values measured from this PUB are: \\n{result[0].data.evs}\"\n",
    ")"
   ]
  },
  {
   "cell_type": "markdown",
   "id": "20cb6ab1",
   "metadata": {},
   "source": [
    "### Estimator inputs\n",
    "<Admonition type=\"caution\">Fire Opal Performance Management accepts abstract circuits, in contrast to the native Qiskit Runtime primitives, which only accept circuits that are written in the target backend’s Instruction Set Architecture (ISA). For best results, do not transpile circuits before submitting via the Performance Management function. </Admonition>\n",
    "\n",
    "| Name  | Type  | Description | Required | Default  | Example |\n",
    "|------|------|----------|----------|-----------|-----------|\n",
    "| pubs       | `QctrlEstimatorPubLike` or `list[QctrlEstimatorPubLike]` | One or more tuples containing the inputs listed under `EstimatorPubLike` components   | Yes   | N/A   | `(circuit, observables, parameter_values)`   |\n",
    "| backend_name| `str`  | The name of the backend | No  |  The least busy backend that your instance has access to | `\"ibm_fez\"` |\n",
    "| options| `dict`  | Input options; see Options section for more details | No  |  See the Options section for details | `{\"default_shots\": 2048}` |\n",
    "\n",
    "**`QctrlEstimatorPubLike` components (derived from the [Qiskit Runtime PUB definition](/docs/guides/primitive-input-output#estimator-pub)):**\n",
    "- A single circuit defined as a `QuantumCircuit` or in OpenQASM 2.0 or 3.0 string format.\n",
    "- One or more observables that specify the expectation values to estimate, in any of the formats denoted in the list \"Supported observables formats\".\n",
    "- (Optional) A collection of parameter values to bind the circuit against, which follow the same [array broadcasting rules](./primitive-input-output#broadcasting-rules) as the `QiskitRuntime` primitives.\n",
    "- (Optional) A target precision for expectation values to estimate.\n",
    "- (Optional) A real number representing the precision, or a dictionary of run options containing the shot count. For example: `{\"shots\": <int>}`.\n",
    "\n",
    "**Supported observables formats:**\n",
    "- Any one of the `ObservablesArrayLike` formats, such as `Pauli`, `SparsePauliOp`, `PauliList`, or `str`\n",
    "- A Pauli string: `\"XY\"`\n",
    "- A dictionary - Pauli strings with coefficients: `{\"XY\": 0.5, \"YZ\": 0.3}`\n",
    "- A list of Pauli strings: `[\"XY\", \"YZ\", \"ZX\"]`\n",
    "- A list of Pauli strings with coefficients: `[(\"XY\", 0.5), (\"YZ\", 0.3)]`\n",
    "- A nested list of Pauli strings: `[[\"XY\", \"YZ\"], [\"ZX\", \"XX\"]]`\n",
    "- A nested list of Pauli strings with coefficients: `[[(\"XY\", 0.1), (\"YZ\", 0.2)], [(\"ZX\", 0.3), (\"XX\", 0.4)]]`\n",
    "\n",
    "**Supported backends:**\n",
    "The following list of backends are currently supported. If your device is not listed, [reach out to Q-CTRL](https://form.typeform.com/to/iuujEAEI?typeform-source=q-ctrl.com) to add support.\n",
    "- ibm_brisbane\n",
    "- ibm_brussels\n",
    "- ibm_cleveland\n",
    "- ibm_fez\n",
    "- ibm_kawasaki\n",
    "- ibm_nazca\n",
    "- ibm_quebec\n",
    "- ibm_rensselaer\n",
    "- ibm_strasbourg\n",
    "- ibm_torino\n",
    "\n",
    "**Options:**\n",
    "| Name   | Type   | Description  | Default |\n",
    "|--------|----------|-----------------------|---------------------|\n",
    "| session_id | `str`  | An existing Qiskit Runtime session ID  | `\"cw4r3je6f0t010870y3g\"` |\n",
    "| default_shots | `int`  | The number of shots to use for each circuit  | `2048` |\n",
    "| default_precision | `float`  | The target precision for expectation values to estimate for each circuit  | `0.015625` |\n",
    "| job_tags | `list[str]` | A list of job tags | `[]`|\n",
    "\n",
    "### Estimator outputs\n",
    "| Name   | Type   | Description  | Example |\n",
    "|--------|---------------------------------|------------------------------------|---------------------|\n",
    "| N/A | `PrimitiveResult`  | The [`PrimitiveResult`](/docs/api/qiskit/qiskit.primitives.PrimitiveResult) corresponding to the list of input PUBs | `PubResult(data=DataBin(evs=[0.1234], stds=[0.1]))` |"
   ]
  },
  {
   "cell_type": "markdown",
   "id": "a78ce8bd",
   "metadata": {},
   "source": [
    "## Sampler primitive"
   ]
  },
  {
   "cell_type": "markdown",
   "id": "b1300f06",
   "metadata": {},
   "source": [
    "### Sampler example\n",
    "\n",
    "Use Fire Opal Performance Management's Sampler primitive to run a Bernstein–Vazirani circuit. This algorithm, used to find a hidden string from the outputs of a black box function, is a common benchmarking algorithm because there is a single correct answer."
   ]
  },
  {
   "cell_type": "markdown",
   "id": "144e48f3",
   "metadata": {},
   "source": [
    "**1. Create the circuit**\n",
    "\n",
    "Define the correct answer to the algorithm, the hidden bitstring, and the Bernstein–Vazirani circuit. You can adjust the width of the circuit by simply changing the `circuit_width`."
   ]
  },
  {
   "cell_type": "code",
   "execution_count": 10,
   "id": "2cd807b1",
   "metadata": {},
   "outputs": [],
   "source": [
    "import qiskit\n",
    "\n",
    "circuit_width = 35\n",
    "hidden_bitstring = \"1\" * circuit_width\n",
    "\n",
    "# Create circuit, reserving one qubit for BV oracle\n",
    "bv_circuit = qiskit.QuantumCircuit(circuit_width + 1, circuit_width)\n",
    "bv_circuit.x(circuit_width)\n",
    "bv_circuit.h(range(circuit_width + 1))\n",
    "for input_qubit, bit in enumerate(reversed(hidden_bitstring)):\n",
    "    if bit == \"1\":\n",
    "        bv_circuit.cx(input_qubit, circuit_width)\n",
    "bv_circuit.barrier()\n",
    "bv_circuit.h(range(circuit_width + 1))\n",
    "bv_circuit.barrier()\n",
    "for input_qubit in range(circuit_width):\n",
    "    bv_circuit.measure(input_qubit, input_qubit)\n",
    "\n",
    "# Create PUB tuple\n",
    "sampler_pubs = [(bv_circuit,)]"
   ]
  },
  {
   "cell_type": "markdown",
   "id": "85d3c00b",
   "metadata": {},
   "source": [
    "**2. Run the circuit**\n",
    "\n",
    "Run the circuit and optionally define the backend and number of shots."
   ]
  },
  {
   "cell_type": "code",
   "execution_count": 11,
   "id": "2595df84",
   "metadata": {},
   "outputs": [],
   "source": [
    "# Run the circuit using the sampler\n",
    "qctrl_sampler_job = perf_mgmt.run(\n",
    "    primitive=\"sampler\",\n",
    "    pubs=sampler_pubs,\n",
    "    backend_name=backend_name,\n",
    ")"
   ]
  },
  {
   "cell_type": "markdown",
   "id": "3c49fbba",
   "metadata": {},
   "source": [
    "Check your Qiskit Function workload's [status](/docs/guides/functions#check-job-status) or return [results](/docs/guides/functions#retrieve-results) as follows:"
   ]
  },
  {
   "cell_type": "code",
   "execution_count": 12,
   "id": "b7acbb7f",
   "metadata": {},
   "outputs": [
    {
     "data": {
      "text/plain": [
       "'QUEUED'"
      ]
     },
     "execution_count": 12,
     "metadata": {},
     "output_type": "execute_result"
    }
   ],
   "source": [
    "qctrl_sampler_job.status()"
   ]
  },
  {
   "cell_type": "markdown",
   "id": "35921605",
   "metadata": {},
   "source": [
    "**3. Retrieve the result**"
   ]
  },
  {
   "cell_type": "code",
   "execution_count": 13,
   "id": "2d4f5f7d",
   "metadata": {},
   "outputs": [],
   "source": [
    "# Retrieve the job results\n",
    "sampler_result = qctrl_sampler_job.result()"
   ]
  },
  {
   "cell_type": "code",
   "execution_count": 14,
   "id": "7a359d99",
   "metadata": {},
   "outputs": [
    {
     "name": "stdout",
     "output_type": "stream",
     "text": [
      "Counts for the meas output register: {'11111111111111111111111111111111111': 460, '11111111111111111111111111101111111': 76, '11111111111111110111111111111111111': 61, '11111111111011111111111111111111111': 32, '11111111111111111110111111111111111': 32, '11111111111111111111111111011111111': 22, '01111111111111111111111111111111111': 21, '11111111111111111111101111111111111': 17, '11111111111111111111111111111111110': 16, '00000000000000000000000000111111111': 14, '11111111111111111111111111111111101': 14, '11111111111111111111111111001111111': 14, '11111111111110111111111111111111111': 13, '11111111111111111111111110111111111': 11, '00000000000111111111111111111111111': 11, '00000000000000000000000000101111111': 11, '11111111111111111111111111111011111': 11, '11111111111111111111111111111111011': 10, '11111111111111111111111101111111111': 10, '11111111111111111111111111111110111': 10, '11111110111111111111111111111111111': 10, '11111101111111111111111111111111111': 9, '11111111111111111111001111111111111': 9, '11111111111111111111111111101111101': 8, '11111111111111111111111111101111110': 8, '11111111111111101111111111111111111': 7, '00111111111111111111111111111111111': 7, '11111111111111111110111111101111111': 7, '00000000000000000001001111111111111': 7, '11111111111111111111101111101111111': 6, '11111111011111111111111111111111111': 6, '00000000000000000000000000000101111': 6, '00000000000000000000000010111111111': 6, '00000000000000000000000000000001011': 6, '11111111111011111111111111101111111': 6, '11111111111111111110111111111111110': 5, '11111111111111111111111010111111111': 5, '11111111111111110111011111111111111': 5, '11111111111111111111110111111111111': 5, '00000000000000000000000000000001111': 5, '11111111111111111111111111111110110': 5, '00000000000000000000000000001111111': 5, '11111111111011111111111111111111110': 5, '11111111111111011011111111111111111': 5, '11111111111111111111111011111111011': 4, '00011111111111111111111111111111111': 4, '00000000000000000000000000000000001': 4, '00000000010011111111111111111111111': 4, '00000000000000000000000111111111111': 4, '11111111111111111111111111111001111': 4, '11111111111111111111111111101111011': 4, '01111111111111111111111111001111111': 4, '11111111111001111111111111111111111': 4, '11111111111111111111111001111111111': 4, '11111111111111110011111111111111111': 4, '11111111111111111111111111111111010': 3, '11111111111111111110111111111101111': 3, '00000111111111111111111111111111111': 3, '10001111111111111111111111111111111': 3, '11111111101111111111111111101111111': 3, '00000000010111111111111111111111111': 3, '00000000000000000000000000000000111': 3, '11111111111111111111011111111111111': 3, '11110111111111111111111111111111111': 3, '00000000000000001000000000101111111': 3, '00000000000000000000000000010000000': 3, '00000000000000000000000000010111111': 3, '11111111100111111111111111111111111': 3, '11111111111111101111111111101111111': 3, '00000000001000001111111111111111111': 3, '00000000000001111101111111111111111': 3, '00000000000000000000000000000001100': 3, '11111111111101111111111111110111111': 3, '00000111111111111111111111101111111': 3, '11111111111111111111000111111111111': 3, '00010000000000000000000000000111111': 3, '00000000000011111111111111111111111': 3, '00000000000000000111111111101111111': 3, '00000000000000000000011111111111111': 3, '11111111111111111111111111111110101': 3, '11111111111111111110111111111011111': 3, '11111111111111111111111101111111110': 3, '11111111111111111111111011111111110': 3, '11101111111111111111111111111111110': 3, '11111111111111011111111111111111111': 3, '11111111111111111111111111111101110': 3, '11111111111111111111111111101110111': 3, '01111111011111111111111111111111111': 3, '11111111111111111111111110111111101': 3, '11111111111111111111111110111011111': 3, '11111111111111110111111111011111111': 3, '11110111111111111111111011111111111': 3, '11111111111111111110111111111110111': 2, '00000000000000000000000100111111111': 2, '00000000011111111111111111111111111': 2, '11111110111111111111111111111101111': 2, '11111111111111111111111111101101111': 2, '11111111111111111111101111111111110': 2, '01111111111111110111111111111111111': 2, '10111111111111111111111111111111111': 2, '00000000000000000000000110101111111': 2, '00000000000000001111111111111111111': 2, '11011111111111111111111111111111111': 2, '00000001111111111111111111111111111': 2, '11111111111111111111111110101111111': 2, '11111111111111111111111001001111111': 2, '00000000000000000000000000010011111': 2, '10101111111111111111111111111111111': 2, '00000000000000000000000000011111110': 2, '11111111111111111111111111001110111': 2, '11111111111111111111111011010111111': 2, '01111111111111111111111111111110110': 2, '11111111111111111111011111101111110': 2, '11111110101111111111111111111111110': 2, '00000000000000000000000100100111111': 2, '00000000000000000000000000000000010': 2, '00000000000000000000000101101111111': 2, '11001111111111111111111111111111111': 2, '00000000000000000000000000010000010': 2, '00000000000000000000000100111111110': 2, '00000000000000000000000010100111111': 2, '00000000000000000000000101111111111': 2, '00000000000000000000000000000000100': 2, '00000000001111111111111111111111110': 2, '10011111111111111111111011111111111': 2, '00000000000000000000000000000000011': 2, '00000000000000000000001001111111111': 2, '00000000000000000000001111111111111': 2, '00000000000000000000000001001111111': 2, '00000000000000000000000001111111111': 2, '10011111111111111111111110111111111': 2, '00000000001000000000000000001111111': 2, '11111111111111111011111011111111111': 2, '11111111011111110111111111111111011': 2, '00000000000000000000000000011111111': 2, '00000000000000000000000010101111110': 2, '11111111111110111111111011101111110': 2, '00000001110111111110111111111111111': 2, '00001111111011111111111111111111111': 2, '11111111111111111101111111111111110': 2, '11111111111111111101111111101101111': 2, '00000000000000000000000000000111110': 2, '10011110111111111111111111111111111': 2, '00001011111111111111111111111111111': 2, '11111111111111111111111111100110111': 2, '11111111111001111111111111111110111': 2, '01000000000000000111111111111111111': 2, '10011111111111111111111101101111111': 2, '00001011111111111111111111001111111': 2, '11111111110111111111111111110110111': 2, '00000000100000000000000000101111011': 2, '11101111111111111111111011111111111': 2, '11111111111111110111111110101111111': 2, '00000000000000000000000000000100001': 2, '11111111111111111111111101110010111': 2, '00000000000000000000000000111111101': 2, '00000000000000000101001111111111111': 2, '10000000000000000000000000000101111': 2, '11011111111111111111111111101111111': 2, '00000000111111111111111111110111111': 2, '11111111111111011111111111100111111': 2, '00000010000000000000000000101111111': 2, '00000000000000000000000000001111011': 2, '00000001011111111111111111111111111': 2, '11111111111011110011111111111111111': 2, '11111101111111111111111111101111011': 2, '11111111011111111111111111111001111': 2, '11011111111111011111111111111111111': 2, '00000111111111111111111111111101111': 2, '11111111110101111111111111111111111': 2, '00101111111111111111111111111111111': 2, '11111111111111111110111111111101101': 2, '11111111111111011101111111111111111': 2, '11111111111111110111111111111110110': 2, '11111111110011111111111111110111111': 2, '01111111111111111110111111111111111': 2, '11111111110111111111111111111110110': 2, '11111111111011111111011111111111111': 2, '11111111111111111111011111101011111': 2, '00000000000000000000000000000001110': 2, '00000000000000001000000000111111111': 2, '11111111111111110111111111101101111': 2, '11111111111111111101111111101111011': 2, '11111111111110111111111111111110111': 2, '11111111111111010011111111111111111': 2, '11111111111101111111111111101111110': 2, '00000000010111110111111111111111111': 2, '11111111111111111111111011110111110': 2, '11111111110111111111111111101101111': 2, '00000000000000000000000000000011111': 2, '11111111111111111111011111111011111': 2, '11101101111111111111111111111111111': 2, '11111111111011111101111111111111110': 2, '11111111111111111111111111111101010': 2, '11111011111111111111111111011111111': 2, '00000000000000000001001111111011111': 2, '00011111111111111111111111110111111': 2, '11111111011111111111111111111101111': 2, '11111111111111111111111111101111001': 2, '11111111111111110111111111101111011': 2, '11111111111011111111111111011111111': 2, '11111111111111111111111111011111011': 2, '00000000000000000000000011111111111': 2, '11111111111111111111111001101111111': 2, '11111111111111111111111111100111011': 2, '01111111111111111111111111011111111': 2, '00111111111111110111111111111111111': 2, '01101111111111111111111111111111111': 1, '11111111111111111111111111001101111': 1, '01111111111111111111011111111111111': 1, '01111111111111111111111111111111101': 1, '11011111111111111111111110111111111': 1, '01011111111111111111111111111111111': 1, '00000000000000000000000000110111111': 1, '11111110111101111111111111111111111': 1, '11111111111111111111110111111011111': 1, '11111111111111110111011011111111111': 1, '11111111111011111111111111111111101': 1, '00000000000000000000000000000111111': 1, '11111111110111111111111111111111101': 1, '11111111011111111101111111111111111': 1, '11111111110110111111111111111111111': 1, '11111111111111111111101111111111011': 1, '11111111111111111111111111111101011': 1, '11111111111111111110011111111111111': 1, '11111111111111111111101111111101111': 1, '11111111110111111101111111111111111': 1, '11111111111111111111111110110111111': 1, '11111111111111111111111011111110111': 1, '11111111111111111111001111101111111': 1, '00000000000000000000000000100111111': 1, '11111111111111111101111111001111111': 1, '11111111110111111111111111111111110': 1, '11111111110111111111111011111111111': 1, '01111111111011111111111111111111111': 1, '11111011111111110111111111111111111': 1, '11111111111111111111111111100111111': 1, '11111111111111111111111111110111101': 1, '11111111111111111111111111010111111': 1, '11111111111111111110111111011111111': 1, '11111110011111111111111111111111111': 1, '11111011111111111111111111101111111': 1, '11011111111111110111111111111111111': 1, '11111110101111111111111111111111111': 1, '11111111011111111111111111101111111': 1, '11111111111111111111111011110111111': 1, '11111111111011111111111111111101111': 1, '11111111110011111111111111111111111': 1, '11111110111111110110111111111111111': 1, '01111111111111111111111111110111111': 1, '11111111111111110101111011111111111': 1, '11111111111011110111111111111111111': 1, '11111111111111110111111011110111111': 1, '01111111111111111101111011111111111': 1, '11111110111111111111111011111011111': 1, '11111111111111111110101111111111111': 1, '11111111011111110111111011111111111': 1, '11111111111110111111111011101111111': 1, '01111111101111111111111011111111111': 1, '00000000000000000000000100010001111': 1, '00000000000000000000000000111111010': 1, '00000000000000000001111111111111111': 1, '11011111111111111101111111111111011': 1, '11111111111111101100111111111111111': 1, '11111110101111110111111111111111111': 1, '11111111111111111110111111111111101': 1, '11111111111111111011111111111111001': 1, '11111111111111110101111111111110111': 1, '00001111111111111110111111111111111': 1, '11111111111111111111111111111010011': 1, '00000111111011111111111011111111111': 1, '11111111111111111111110011011111111': 1, '00000000000000000000000000010101110': 1, '00000000001000000000000000111101111': 1, '11111111111111111101111011100111111': 1, '00000000000000101111111111111111111': 1, '00000000000000010001111111111111111': 1, '11110111111111110101111111111111111': 1, '00100000000100000000000001111111111': 1, '01111111111111111101111111101111111': 1, '01111111111011111111111111111110111': 1, '00000000000000000000000000000100110': 1, '11111111111111110111101110111111111': 1, '01000000000000000000000000010001111': 1, '11111111111111111111111111010001000': 1, '01110000000000000000000000111111111': 1, '00000000000000001001001111111011011': 1, '01111111011111111111111100111111111': 1, '00000000000000001000000000010001101': 1, '00000000000000000001000010101111111': 1, '00000000000100000000000000011111111': 1, '01111111111111110110111111111101111': 1, '10011111111111110111111111111111111': 1, '11111111110111111110111111110111111': 1, '11111110111111101111111011111111111': 1, '00000000000000001000000000000000010': 1, '00000000010000000111111111111111111': 1, '00000000000000000000000000010001001': 1, '00000000000000000000000010001111111': 1, '00000000000000001000000000000101011': 1, '00000000000000001000000000001101111': 1, '00000000000000000000000000001000100': 1, '11101111111111110110111111111111111': 1, '11111111110111111111111011011111111': 1, '11111111111111111111111111100101110': 1, '00000000000110000000000000010001001': 1, '00000000000000000010000000010001011': 1, '11101111111011111111111111001111111': 1, '00000000001000001000000000101111111': 1, '11011111111111111101111111111011111': 1, '00000001000000000001000000111111111': 1, '11111111111111111101110011111111111': 1, '11111111111101101101111111111111111': 1, '11111111111111111101111110111111010': 1, '11011111111111111101111111111111101': 1, '11111101111111111111110111111101111': 1, '10111111111111111111110111101111111': 1, '00000000000000000000000100010000100': 1, '11111111111111111110111011111001111': 1, '11111110111111111111111111111100111': 1, '00000000000000001000000000000001001': 1, '00010000000000000111111111111111111': 1, '00000000000000001011111111111111111': 1, '11111110111111111111111101001111111': 1, '00000000001000000000000000010000010': 1, '11111110111111111111111111111111100': 1, '11111111111111110111111110111111011': 1, '11111111111111110111001111110111111': 1, '11111011111111110111111110101111011': 1, '11111111110111111111111110111110111': 1, '11111101110000101111111111111111111': 1, '00000000000000000000000000000010000': 1, '11111111101111110111111111110111111': 1, '00000000010011110111111111011111111': 1, '00000000000000001000000100000001101': 1, '00000000000000000001000000000101011': 1, '00000000000000000000000010010001111': 1, '10011111111111111111111111110111111': 1, '11111110111111111111111111110001111': 1, '11111111111111111111111101101011011': 1, '11111110100111111111111111011111111': 1, '11111111111111111110111111001111011': 1, '11111111111011111100111111111111111': 1, '00000000010000000001111111111111111': 1, '11111111110111111111111111001111011': 1, '11111111111111111111001110111111101': 1, '00000000000000010000000000000101000': 1, '11101111111111111111111111110110111': 1, '11111101111111111111111011011111111': 1, '00000000000000000000001100000001001': 1, '00000000000000110011111111111111111': 1, '00001101111111111111111111111111111': 1, '11111111111111111101111110111111110': 1, '00000000000000000000010000010001101': 1, '11111101111111111111111111110111011': 1, '00000000000000000111111011110111111': 1, '11111111111111111111000000000101111': 1, '00000001110111111111111110101111111': 1, '00001111111111111110111110101111111': 1, '01111111110111111111111110111111111': 1, '00000001101011111111111110111111111': 1, '11110111111111111111111110111100111': 1, '11101111111011111111111110111111111': 1, '11111110111111111110111110111111111': 1, '01111111101111111111111110111111111': 1, '00000000000000000001110111101111111': 1, '11111111111111111011111101111110111': 1, '11111111111111111101111111100001110': 1, '11111111111110111011111111101111111': 1, '11110111111111111101111111111110111': 1, '11111111111111111111111101011110111': 1, '11111111111001111111110101111111111': 1, '11111111111111111111111101111010111': 1, '11111111011111111111110111111011011': 1, '11111111111111111110110011111111011': 1, '11111111111111111111110111101110100': 1, '11111111111100111111110111111111111': 1, '11011111111111111111111111101110110': 1, '11111111111111111111111111010000100': 1, '11111110111111110110111111100111111': 1, '11111110111111111111111000111111111': 1, '11111001111111111111111111111101111': 1, '01111111111111111011111111111111110': 1, '00000000000000000001000111101111111': 1, '01111111111111111111111111110110111': 1, '00000000100000000000111111101111111': 1, '11111111111101110111111111111101110': 1, '11111110111111111111111101111111101': 1, '01111010111111111111111111111111111': 1, '11101111111111110111111111001111111': 1, '11111100111110111111111111111111111': 1, '00100000000000000010000000000001011': 1, '11111111101111111001111111111111111': 1, '00000000111111111111111111111111111': 1, '11101111111001111111111111111111111': 1, '10000000000000000001000000000001110': 1, '00000010000000000011000000000001100': 1, '11111111111111110001111111111110110': 1, '11011110111111111111111001111111111': 1, '00001111111111111111111111111111101': 1, '00000000000000000000000000111110011': 1, '10000000010111111111111111101111111': 1, '11111111111111111111010101111111111': 1, '11111110111111110001111111011111111': 1, '10000111111111111111111111110111111': 1, '11110111111111111111111111101110011': 1, '00000000000001000000001011111111111': 1, '10011111111111111111111111111111101': 1, '00000000000000000000000000111100111': 1, '00000000000000111111111011111110110': 1, '00000000001000000000000000100010101': 1, '11111111111101110111111111101110111': 1, '11111111111111111111011110111110111': 1, '00000000000000000000111111011110111': 1, '00000000000110000000000000010000001': 1, '11111011111111111101111111111110110': 1, '00001111111111111110111111111110111': 1, '11111111111111110110111111100110111': 1, '11111111111001111111111111011111011': 1, '10000000000000100000000000101111111': 1, '11111111111111111101111110111101111': 1, '00000001110111111111111111111110111': 1, '11011111111111111111111011111011111': 1, '11010000000000000000000000000001110': 1, '00000000000100000000000000000001101': 1, '10111111101111111111111011111111111': 1, '11111111111111111101101111111110111': 1, '11011111111111111111111111001101011': 1, '10000000000000000111111111101110111': 1, '00000000000000000010000000000000101': 1, '11111011111111110111111111111110111': 1, '00000000000100111111111111111111111': 1, '00000000000110000000000000001001111': 1, '11111111111111011000111111101111111': 1, '00100000000000000000000100101111111': 1, '11111111111111111111111101100111111': 1, '00000011110111111111111111101111111': 1, '00000000100000000010000000000001011': 1, '00000000000100000000000000010000100': 1, '00000000000000000010100000000000001': 1, '00000000010010111111110111111111111': 1, '00000000000100000010111111111111111': 1, '00000010000000001111111111011111111': 1, '10001111111111111111111110111111101': 1, '00000001110111111101111111111111111': 1, '11111111111101110011101111101111111': 1, '11101110111111111111111111111111101': 1, '11111111111111111111101111010111111': 1, '00000000000000000001001111000111111': 1, '11111111111111111111111110011111110': 1, '11111111111111111111111111000001111': 1, '00000000000011000000000001111111111': 1, '11111111111111111111111111011100111': 1, '11111111111111111111111111010001101': 1, '00000000001000000000000000000011101': 1, '00000001010111111111111111110111111': 1, '11111111111111111101101111011111111': 1, '00000000001000000000000010111111111': 1, '11111111111011111111111101111111101': 1, '00000000000000010000000000000001101': 1, '11111111111111111001111110111111110': 1, '11111111110111111111111110111111110': 1, '00000000000000000011101111111111111': 1, '11111111111110111110111111101111110': 1, '00000000000000000001100111101111111': 1, '11111111111111110001111111011111111': 1, '11101111111111110111111111111111011': 1, '00000000000000000001000000000001101': 1, '00001111111101111110111111111111111': 1, '11111111111111111011111111111101111': 1, '11111101101111111111111111011111111': 1, '00000001110101111111111111111111111': 1, '00001111111111111111111111111111011': 1, '00000000010000010000000000000000010': 1, '00000000000000010000000000110000001': 1, '00000011111111111111111111111110011': 1, '11111111011111111110111111111111011': 1, '11011111111010111111111111111111111': 1, '00010111111111110111111111101111111': 1, '00010000000000000000000011111111110': 1, '00000000000000000000000110101110111': 1, '11111011101111111111111111111110111': 1, '00000000000000100010000000000000011': 1, '00000000100000000000000000000001001': 1, '00110000000111111111111111111111111': 1, '11111111111111111011111111100111111': 1, '00000000000001100000000000001111111': 1, '00010000111111111111111111111111111': 1, '11111111111111110111111111111110011': 1, '00000000010111111111111111101111110': 1, '11111111111111111111001111001111111': 1, '11111111111111111010111111001111111': 1, '11111110101111111111111110111111111': 1, '00000010000000000000000000000001110': 1, '11111111011111110111111111111101110': 1, '00000100000000000010000000000000001': 1, '11111111111111111111011111011110111': 1, '00000001101011111111111111111111111': 1, '00000000000000000000000000011110111': 1, '00000000000100000000000000100000011': 1, '00000000100000000000001111101111111': 1, '11111111101111111111111111111110011': 1, '00000000000001000000000101101111111': 1, '11101111111111110111111111111110111': 1, '00111111111111111111111111001111111': 1, '11111111111111111111111111111000111': 1, '00000001110111111111111111111111111': 1, '00000000000000001000000010000001101': 1, '10111011111111111111111111101111111': 1, '00000000000000000000000010000100010': 1, '11111101111111111111111101111101111': 1, '00000000000100000000000011111111111': 1, '00000000000000000000000000100001101': 1, '11111111111111111111111011101100110': 1, '00000100000000000000000000000001101': 1, '11111111111111111111111111100001111': 1, '01111111111111111111111111101011111': 1, '11111111111110111111011111101111111': 1, '00000000000010000000010001111111111': 1, '10111111111111010001111111111111110': 1, '00000000000000000000010010000000100': 1, '00000000011111111111111110111111111': 1, '00000000010111010000111111111111111': 1, '11111111111111111111111111011101010': 1, '10101111111111110111111111111110111': 1, '11111101111111111111111111011111110': 1, '01011111101111111111111111101111111': 1, '11111111110011111111111110111111111': 1, '11111111111111111111111111110010111': 1, '11111111011111111111111111001110110': 1, '00000000000001000000001001111111111': 1, '11111111111111111011101111111111011': 1, '00100100000000000000000000010111111': 1, '11011111100000000000000000000001001': 1, '11011111111111111011111110111111111': 1, '11111100111111111111111111111101111': 1, '11111111111111111111110111111101011': 1, '00100000000000101111011111111111111': 1, '11111111101111110110111111101111111': 1, '00000001000000000000000000000000110': 1, '11111111110101111111111111011111111': 1, '00001001111011111111111111111111111': 1, '11111111101110111101001011101100110': 1, '11110111101011111111111101101110110': 1, '11111011110111111111111010100111111': 1, '00000000000000000001001111101000111': 1, '00000000010100100100000000110111111': 1, '00011110111111011111111111001111111': 1, '11111111111111111101101111001111011': 1, '11111000000000000000001111101111111': 1, '00110111101011101010000000100111101': 1, '00000000001110011000111111101111111': 1, '11011111110110000001000011110111111': 1, '11111111101111111111001110111010110': 1, '01100000000000000001010111111110110': 1, '00001100010000000000011011001111010': 1, '11111111110001111110111011111111111': 1, '00000000000000001000000010010001011': 1, '11111111101110000000000000010111111': 1, '01111111111111011111011101101011111': 1, '10111111111111111111100000010001001': 1, '01111111011110111111111111101111111': 1, '01000000000000100111110111101111111': 1, '11111101110001101110010010010001001': 1, '11011111100111010010000000110001111': 1, '11110110111111111111101111101110111': 1, '00000000011111111110111011101111111': 1, '00000000110010001001111111111111111': 1, '00000000111001111111111111111111111': 1, '10000000000010010000000000001111111': 1, '00000011111111111101111111110111111': 1, '00000001000001100000000100000001010': 1, '00000111111111111000111111001111111': 1, '11011110111001111111111010101111111': 1, '10000000000000000000000100101110101': 1, '00000000001111011001111111101110111': 1, '00000000000110000000000000010100100': 1, '00000000000000000000011111101111101': 1, '00000000000011100011111111101111111': 1, '01111111111111111111101111001101111': 1, '00000011101111111101111011001101110': 1, '00011111111110111101111111111111110': 1, '00000000010000000100000000010000010': 1, '00000000000001000000100000000001011': 1, '10101111111110111111111011111111111': 1, '00000000000000000001000000110110111': 1, '11111111010110010111110111101111111': 1, '11111111111111111101000000011111111': 1, '11111111111101110011111011101111111': 1, '00000000100000010000000010000001010': 1, '00011111111011111111111101101111111': 1, '11001111111011110110111110101111111': 1, '00000000000000000000010011100000001': 1, '10100000000000010001111111101111111': 1, '00000000000000001111110111111011110': 1, '01010000000000000000000000001011111': 1, '11111111100111111111111101111111010': 1, '00001011111111111111111111101111110': 1, '11111111101110000000010011111111111': 1, '00000000100000000001010000100111101': 1, '00000001100000010000000011001111111': 1, '11111111101001111111111110111011110': 1, '11101111111011101001000000010001011': 1, '10101111111111101111111111001111011': 1, '11110110000011000000000000010101111': 1, '11111111100000000001000010011111111': 1, '00000000000011111111111111000111111': 1, '00000000000000000010000100001110110': 1, '11001101111011111111111111100111011': 1, '00100000111111111110011111101111110': 1, '11111111101111111111111111101111010': 1, '01110100000000000001001111110111111': 1, '00010000000000000000000001111001110': 1, '11101111111111001000000001010001011': 1, '01101000000000001000000100110111111': 1, '01011111111110000000000000000000101': 1, '11010111111101111111111111111111110': 1, '11100000011001111111111111111111111': 1, '00000000011001110011111111110111111': 1, '00000000010101111101111111111011101': 1, '10000000000000000000000100000001100': 1, '00000010111111011011101111101011101': 1, '11011111111001111111111111111111001': 1, '11111110111000000100000001000000101': 1, '11111111100011011111111111101111101': 1, '11111111111111111110111101110001010': 1, '00000000010000000000000011111111101': 1, '11111111110111110111101111001111111': 1, '01100001000100100000000011101111111': 1, '00000000111111110110111011110111111': 1, '00000000000100000001000000000110111': 1, '00000000100000000000000000011111101': 1, '00000000010001111111111101111111111': 1, '00000000011111111110111111111101101': 1, '00000000000000001000001000010111110': 1, '00000001010000000010010101000001101': 1, '10000001000000000111111111111111101': 1, '00000000010000000001001011101111111': 1, '00000000010000001111000000000000111': 1, '01100000111111010110011101100111010': 1, '11111111111111111110001111111111110': 1, '00000000100100000000000001111110111': 1, '11111011110111111111111111011011110': 1, '00000010001000000001011011011111111': 1, '11101111001000000000000000110000101': 1, '00000001100111111110110011111111101': 1, '00000000000000010000000010000001100': 1, '00000000100000100011111111111111111': 1, '00101111111111111111111011000111111': 1, '11111111111110010111110101101111101': 1, '10000000110110000000000001111111111': 1, '01111110010111111111111101101111101': 1, '11111111111001111111111000111111111': 1, '00000000100010000000000001101111111': 1, '11111111111111110111111101111110000': 1, '11110111111110111111111111111111001': 1, '00000000000000000010000001001010101': 1, '11111111001111110110110111101111111': 1, '11111111110011111011111111000111111': 1, '00001100000001000000011111101010111': 1, '01010000010100000000000011100111111': 1, '10010000000000001100000110101111011': 1, '00000000000000001000000001011111011': 1, '11111111111011111111111111001111000': 1, '11111111101111110110111110111001111': 1, '00000000000000001100000000010000100': 1, '00100001000001000010000001100000111': 1, '11111111111111110111100011111111111': 1, '00000000000000000000000001010100000': 1, '00001100000000010001011111100011111': 1, '11000000000000000000000100111111110': 1, '00001111011110111101101111101011111': 1, '00000000000111111111111111000011111': 1, '00100000000010000001000000011111111': 1, '00001100000000000001110011101111111': 1, '11111011111111110110111010101110111': 1, '01111111111111110111111111101100101': 1, '11111111101111111111101001101100001': 1, '11111111111111111111111011110100111': 1, '11111111111001110111111111111110110': 1, '01111011111111111111111111101101111': 1, '11111111111011111000000000100111111': 1, '11111110000000000011000000011110010': 1, '11110111111111111111111110100101011': 1, '00000000000000101101111111111111110': 1, '00000000010111011111111111111110010': 1, '11111111111100000000000010000011011': 1, '01101111111111111111111011110111111': 1, '11111111100110110111011111111111111': 1, '00000000101011000000000000001001111': 1, '11111111111111011111111000100011011': 1, '00000000000000000111111001101111111': 1, '00000000000000001000000000001111101': 1, '00000000000000000000100000000001010': 1, '01000110100111111111111111101111001': 1, '00000010010110111111111111111111111': 1, '00000000000000000010000001111011011': 1, '11111111111110110111111111110101011': 1, '11111111111111111000000000000000101': 1, '01111111110101011111101111111111111': 1, '11111111111111010010000100001001011': 1, '00000000000100000100001111010111111': 1, '00111111111011111111011111110001011': 1, '00000000000000000011000000011001001': 1, '11111111111111110111111111100011110': 1, '00000000000000001001110111111110111': 1, '11110000000000000010001000000101111': 1, '01111110110111111111111110101111111': 1, '01111111111111111111110011111111101': 1, '11111111010111111101111111101111110': 1, '00000001000000000011101011111111110': 1, '11101111111111111011111101111101111': 1, '11111111101110000000000000111110111': 1, '00000000010100100101000010001001111': 1, '11111110111111111110101111101011111': 1, '00000000000010011111111111101010010': 1, '00000001110011110110011111111111111': 1, '00000000000000000100000000010000111': 1, '11111111111010110111111111001111011': 1, '11111111111011000010000000100001001': 1, '01111100111111010111111111111111111': 1, '11111111110111011110111111110011011': 1, '01111111111111111110001111101111010': 1, '10011011111111110111110111111111111': 1, '00001111110111110111110111101111110': 1, '11111100000000110011111111101111111': 1, '10010000000000001111011111101111110': 1, '11111111111101111110111111000110001': 1, '00010000110000000000000001110110111': 1, '11111111110111111111110000101111111': 1, '11111111111111100101010111110111111': 1, '01000000000000000011001101001111111': 1, '11111110000000000101111111101111011': 1, '11110000010011111111111111101111111': 1, '00000000001000101111011111111011110': 1, '11011111111111111110111011011111110': 1, '11111111110111111111111010110110111': 1, '00001111111111110111001011011111111': 1, '11111111101111101111110111111101111': 1, '01110011111111111111111011100111111': 1, '10001111111011101111110101001111011': 1, '11110011111111101111111111111111111': 1, '10111110111111110111111111111111101': 1, '11111111111111110111111110011101011': 1, '10000000000000000010000001101011111': 1, '00110000010000000000001011010000111': 1, '00011111111110001000000000011111011': 1, '00101111111111010111111111011111111': 1, '11111111000000000000000000000111101': 1, '00000000101001000000000000000100000': 1, '11110001100000010001001111111111111': 1, '00000010000000100101000000000000001': 1, '10011111111111101111111011111111110': 1, '11001111111011111111110111111101111': 1, '10010001000000000000000000000101110': 1, '11111110110101111011111111111111111': 1, '11101101111111111110111111111111101': 1, '11111111111111101101011111101111111': 1, '00000000000001000000000000110001110': 1, '00100000000011011111111111111111111': 1, '11011111110111110000000000001111111': 1, '11111111101000111111111101101111111': 1, '11111111111111111000001011111111111': 1, '00000000000000101000000000000000001': 1, '01100000000000000001000000000001010': 1, '11111101111111111110111110000111111': 1, '11111110100111111111001111110111111': 1, '11111111111011111111110110001101011': 1, '01111111111111111111111100000101111': 1, '11111111111110111111111101011101111': 1, '11111100000000000000001000000001011': 1, '10101101100011111111111111111111111': 1, '11111111111100000111111111011111111': 1, '10101111111010011011111111111111111': 1, '00000000010110000000000101111111111': 1, '10001111001011110111111111111101111': 1, '00110001000011111011111111010111111': 1, '01111101111111111111111000111101111': 1, '11110111111111011101011111111011111': 1, '11111111111111111111001111100000101': 1, '11111110111111010010111111111000110': 1, '00011111111111110111101011111111111': 1, '00101111111111111111000111101111111': 1, '10101111111011111101101111111111111': 1, '00000000111111110111101011111111110': 1, '01110000001000100100000111011111011': 1, '00000001001001111110111111011111111': 1, '00010001111111111100001010001111111': 1, '01111111111111111011111111111110111': 1, '00010000000000000011000100101011111': 1, '00000000000110000001000000000001011': 1, '00001100010111111101111111101111111': 1, '01011111110111111111111110111111011': 1, '10011110111111111111111100001111111': 1, '10110110111111111111111111101011111': 1, '10111111111111101110011001101111111': 1, '11111111111101010011000111111111111': 1, '11111111111011111111101110011111111': 1, '11111111111101111111111110011111011': 1, '00111100011111111111101111111011111': 1, '00000001101011011111111111011111111': 1, '11000000010111111111011111111110111': 1, '00000000010110000000000000111111111': 1, '11101111111101111111111111001111111': 1, '11111111111101111111101101101111011': 1, '11001000000000101111111111101111110': 1, '00000000000000000000011110111011111': 1, '11111111111110111111001101111101111': 1, '00000000000100000001000001101111111': 1, '11110110010000010000111111011101111': 1, '11111111111110000000000000000000100': 1, '00000000100011000011001011111101111': 1, '11000111110111111111011111101111111': 1, '11111111111101111111111011101101011': 1, '11111111101000001000000011111111011': 1, '01111111111111010011001111111111111': 1, '11110010000000000010000000000000111': 1, '00100000000010000000000000000000011': 1, '00000000001001000000000000000001001': 1, '11110111111111110011111101101111111': 1, '01110011111111111110111101010000110': 1, '00000000000000000000000011100111010': 1, '01111111111111111101110000010001001': 1, '00000000010011000010001011101110100': 1, '00000000000000001000000100010000010': 1, '00000000000000100011000000000001111': 1, '00000000000000000000000110000000101': 1, '11111111001100001111111111011110111': 1, '00000010000000000100011101111110101': 1, '11111111111111000000000000111101011': 1, '11111111111101111111111111111001110': 1, '00000000101110100111111111111111111': 1, '11111101101100111111011111101011111': 1, '11111011111111111010001111101111111': 1, '11111111111010000011101111101111111': 1, '00000000000000111101111111110111101': 1, '00011111011111110101111110111111111': 1, '10001111100111111111111111001011011': 1, '11010000010011110111111111111111111': 1, '01111100000000000000000000101111111': 1, '11111100001000000001001011111111111': 1, '00001001111111111111111111101111101': 1, '00010000000000000001000000011110011': 1, '10010000000000000000000000111111100': 1, '10111111111110111111111111001101111': 1, '00000000001000000011000000110101111': 1, '11110100110111110111111111111011111': 1, '00011111111111110111111011111110111': 1, '00000000000000100000000111111011101': 1, '01101011111111111111101111111111110': 1, '11111111011111111111111000000011111': 1, '00000000010001111111111111100111110': 1, '10111111111000001000000000001011111': 1, '11001111111011111111111111111111011': 1, '01010000010011111111101010111111111': 1, '01010000000000000000000010011111110': 1, '11110100000000000000000000010101111': 1, '11111111111100001111111111111111111': 1, '11111111100111111111111011111100110': 1, '01111111111110101111111111100111111': 1, '10001110000000000000000010111111111': 1, '11110000000000000000000010101011111': 1, '10110111111111111111111111101111011': 1, '10101111110111111110111111010111111': 1, '00000000000000000000000001011010011': 1, '11111111011011111111111111101011011': 1, '10111111111111111110101101001111111': 1, '00001101111111101111111111101111111': 1, '00000000010111011011101111111111111': 1, '11111111111101010000111111110101111': 1, '01111111011111111000011001111111111': 1, '00001001110111111111111011110111011': 1, '00100000000000000000000101001001011': 1, '11111111111110110111011111101101111': 1, '11111111111111010111111011101111110': 1, '11111110111111010011111111101111010': 1, '11111111111011010011111100101111111': 1, '00000100011011111111011101101111100': 1, '01111101111111110111011111111111111': 1, '00000001001101111110111111111111110': 1, '11110000000011111111111111111111111': 1, '00000000000000110100000111111111111': 1, '10011111011111110101111111101111111': 1, '11111000000000001101110011111011111': 1, '10001000000000000011110011101111111': 1, '00111111111111111111111111111011100': 1, '00111111111000000000010011111110000': 1, '01110011111111111111111111111111111': 1, '00111111111110111111101111110111111': 1, '11111111110111110111111011011011111': 1, '00000000000000000001000011111110101': 1, '00000001001000000000001111101111111': 1, '11111111101111111111101111111111101': 1, '00100000010101110111111111111111101': 1, '01111111101111111010111011111111111': 1, '11111111111011000000000001000000000': 1, '00000001110000110111111111111111111': 1, '11111111101110101111111111111010011': 1, '00000001100001000000000110101111111': 1, '00000000010100111100111111111111111': 1, '00111111111001011011111001101111111': 1, '00000000000000000000000100110000111': 1, '00110000010101111111111111111111111': 1, '00000000000010101011111111101111111': 1, '01111111111010111101111111111111111': 1, '00000001000101111111111111111111111': 1, '00000001000101011011111111111011111': 1, '11111111111000011111111111101111111': 1, '00000000101000101111111111111101111': 1, '00000000110000000000111111010111101': 1, '11111111101111111111110001111111101': 1, '11111011111111011111111111001111111': 1, '10101111111111111111111111001101101': 1, '00000000010000000011101111001111011': 1, '00001111110111110011111111110111111': 1, '01101111111111011011111111101111111': 1, '00000000000000111110110101101111111': 1, '11111111011111010001111111001111110': 1, '00000000000000000001001111101101100': 1, '01001111111111011111111100101111111': 1, '00101111011111111101111111100111111': 1, '10010000000000000000000011111101111': 1, '11111011011111111111111111111010110': 1, '00001001111111111101110111100101011': 1, '10101111111111110111111011111001101': 1, '01101110111111111111111111101111111': 1, '11111111011111111111110101001111111': 1, '10000000100000010000000001000001111': 1, '10111111111111011111101111101111111': 1, '10111000000000100000000010000000010': 1, '00000001000000000000000100000101111': 1, '00100000000001111100011111110011111': 1, '00111111111111110111101111101111111': 1, '01001111111110111111111011111101110': 1, '11111110111111111110111111011010111': 1, '01110111111010001111111111111111111': 1, '00001011111011111111111111111111101': 1, '11111111110010000000000000010001111': 1, '00000000000000000001000000010010110': 1, '00000000000000001111111011111010111': 1, '11111111111111011111111111001011111': 1, '00000000000000000111111111110110110': 1, '11111111111111111111111111100110001': 1, '11111110000000000000000000100111111': 1, '11111011111111111111111111001111011': 1, '00000001111111111111111111001111111': 1, '11111111111110111101111111101011111': 1, '00100000000000001000000000010000111': 1, '00101111110111111111111111100111111': 1, '10001110011111111111111111110110011': 1, '00000000000111111101110111101111111': 1, '11110111111111111111111011101110001': 1, '11111111111111010011111101101110110': 1, '00001100110111110111111011111111111': 1, '01100000110111111111111111101111111': 1, '00000001111111111111111111010111111': 1, '00000001110111010111101111111111111': 1, '00000000010000000000111111101111111': 1, '11111111111111101111111110111011110': 1, '10000000010110000010000000001101111': 1, '11111111101110000001111111011111111': 1, '10000111111111111111111111101111101': 1, '00000000000000001011000000010101111': 1, '00000000000000000001001111111110101': 1, '00100000000000000011001111101110111': 1, '01111111011111111110111111101100111': 1, '00000000000000101010111111111101111': 1, '00001111111111110111111101111111011': 1, '11111011111011111110111111011111111': 1, '00000001110111111110001111101111111': 1, '01111101111111111111111111111101110': 1, '00000000010111101111111100111101111': 1, '11111110101101110010000010001111111': 1, '00000000101001111111111110001111111': 1, '11110111111001111110111111110111111': 1, '00000001001000000011111111111111011': 1, '11101111111111011011111111101111011': 1, '00000000101111111111111001010000111': 1, '11111111111110111111111010111010011': 1, '00000000001010000000011111111110111': 1, '10110111111111111111111111111110100': 1, '00001011111111101110111111111111101': 1, '11111111111111011011110111101111111': 1, '11111111111111111110111000101111111': 1, '00000000000000001100110111011111111': 1, '11111110111110111111111111111111011': 1, '00000000010111111111111111111110110': 1, '11111111111111000000000000010011111': 1, '01000000001111111110111111111111111': 1, '00011010111111110111111111111111111': 1, '11111111111110111101001111011111000': 1, '00000000001000000000010111101111011': 1, '00000000001000001111111111101110111': 1, '00000000000001111111111101111011111': 1, '11111111110111111111111011111110101': 1, '00000000000010000001000000001111111': 1, '11111100100111111110101111111000111': 1, '00000001000111111111111111111101111': 1, '00001111111111110100111111111111001': 1, '00100000000000011111111100101111111': 1, '11011111111111110111101111111110101': 1, '10000000001000111111111110111101111': 1, '11110101000010000001001111110111101': 1, '11111111110101111111110000111110101': 1, '11111111101111111110000011101111111': 1, '11111110110111111110111111101011111': 1, '00000000101000000001001111110110111': 1, '00000000000000100000000110111011111': 1, '10000000000001000000000010011111111': 1, '11111110101111110111111111101111110': 1, '00000000000000000001000100000001010': 1, '11111111111101111110111011101111001': 1, '11101111111111010011111111101111111': 1, '11111111101100110011111111111011111': 1, '10000000000110101111111111001111011': 1, '11111111100111111111111011111111101': 1, '00000000000000000000000000100101001': 1, '00000000000000100101000010110110111': 1, '00111011111011110111100111111111111': 1, '11111111111111101101111111101111110': 1, '00000001111111111110111111101101110': 1, '00000000010001111111111111011110111': 1, '11111111111111110000000001011011111': 1, '00000000110111111111111011101110111': 1, '11011011111011111110111111101111111': 1, '11111111111111111111101111101011101': 1, '00000000000000011011111111101100111': 1, '00000001010111110110111110011111101': 1, '11000000000000101011111111111111111': 1, '00000000000000000001001001101011111': 1, '00000000011001110011111111111110111': 1, '01111111111101111111111111111101110': 1, '11111111111111111111100000010111111': 1, '11111111111111111111111110101001111': 1, '10101111111111110111110011111111101': 1, '00000010000000001100000000010001011': 1, '00000000010111111110110111111111110': 1, '11111101111110111100111111001101111': 1, '00000000000000010010111111101011111': 1, '10000000000000000000110000010001101': 1, '00111111111111111111111100110110110': 1, '00000000100010011011111001101111011': 1, '00000001100000000000000010000001011': 1, '00011110111001111111111111111111111': 1, '11111101011111111111101111101111111': 1, '00000000010100000010000000101111111': 1, '00000001111111110110111011001111111': 1, '11111111101111110111001111111111111': 1, '01011111111110111111111111101111111': 1, '10110000000000101111111111111111111': 1, '01111111110011111101111111101110011': 1, '11111000000000000000000000000010111': 1, '00000000011011111111111100111111101': 1, '00001111111110111011111111101111100': 1, '11111110111111101111111111011110110': 1, '00000001001100000000000000100010110': 1, '00000001110000101111111111101011011': 1, '10000000011111101111111111101111110': 1, '11111101101011111111111111111101111': 1, '11111110111011111111111111111110110': 1, '00000000001001110011111111011111111': 1, '00000000000110110111111111010111111': 1, '11111111101100111111111101111111111': 1, '00000010000000000000010001101011111': 1, '10010111000000010000000001111111110': 1, '00100000000000000000000000010000101': 1, '01110000011111111111011111011001111': 1, '11111111111111011111011111011111101': 1, '00000000100000101111111111100101110': 1, '00000000000011101111111111111111011': 1, '00000000001000100101111111111111111': 1, '00000001000000010000000110111111110': 1, '00000000000000000011011111111101110': 1, '10111111011111111110111111111111111': 1, '10011111111111110111111011011011111': 1, '00101111111111111111111111100101111': 1, '11111111111101100000000010111111111': 1, '01111111111111011111110111111111111': 1, '11111111101010111111110111001101101': 1, '00000000010100101000000000101111111': 1, '00111111110111111110111101111101011': 1, '00000101101111111111111111011110111': 1, '01110111111111000010000001101011111': 1, '11101100000000000000000000011001111': 1, '11000100000000000000000000000001101': 1, '10000000000000001111011000000001101': 1, '00000000000000000000000100100000001': 1, '00010000000000000010000011111111111': 1, '10000000000000000111111111101101111': 1, '11100100000000000000000010010101000': 1, '00000000011000001000000000011111111': 1, '00000000000010100100000000101111111': 1, '10111111111110111000000001110001111': 1, '00010000000100001000000000101101111': 1, '10010011101000000000000001111111111': 1, '10011110111111111111100110111111010': 1, '00000010011000001000001011111111110': 1, '00001100000000000000000100000011111': 1, '00000000000000001111100101110111111': 1, '10001111111111100101111111111111111': 1, '00000001010111111110000001100111111': 1, '00000000000000100101111011111111111': 1, '11111111111011111111110111011111010': 1, '00001101111001111110111111001111111': 1, '11111111111101111110111111010111110': 1, '00000000000010001001000110111111111': 1, '11111111111111100111111101100011111': 1, '11111111111011010001111101111111111': 1, '01111110000000000000011111101111111': 1, '00001000000000101111111011101111011': 1, '00010000000011111111111111101111111': 1, '01111111111111111111110101001111111': 1, '11111111111111101111001001000001110': 1, '10011111111111011001111111111111110': 1, '01000011010111110111111101101111011': 1, '01111111111011111111111001101111101': 1, '11111101110100001100000110111111101': 1, '00000000000000100000111111101111111': 1, '00000000110111111101111111111110111': 1, '11111111111111111111111001110001111': 1, '00000000000000000001111101110101001': 1, '11111111111011111111000000000111110': 1, '11111111110110000000000000001111011': 1, '00000000001000000011111111000101101': 1, '11111110000011111110111001111101111': 1, '11111101111111111111001111011111111': 1, '10011111111111111011101111111111110': 1, '11111111011100001000000000101111111': 1, '11110111111111111101111101101111111': 1, '00010001000000011110111111101111111': 1, '11111111101111111111110100101111111': 1, '00000000010111110001011011111001100': 1, '01101111111111111111010000000000101': 1, '00000000000101111111111011110111111': 1, '00000010011011111111111111101111110': 1, '11111111100001111111111111111111011': 1, '11111100101101111110111111111111111': 1, '00000000000000001001001111111111001': 1, '00000000000000000001010000100000110': 1, '11111111111011111101001011101111111': 1, '11001111111011011111111111101111111': 1, '00000001000000011101111111101111100': 1, '00000000000000001100001011011111111': 1, '00000000000000000000000010110011111': 1, '11111011111111111111111011010011111': 1, '10111111101111111111111111110011111': 1, '00000000000000000000000100100101101': 1, '11111111111110001000000000010111111': 1, '10011111111111000001000000000000100': 1, '01110000000000000000000000010001111': 1, '00111111111011110111100000010000101': 1, '01110000000000011000111111111111111': 1, '00000000000000101011111011111111111': 1, '11111111111111100111111011101101111': 1, '00100000000000100001111011100111111': 1, '10011101111011111111111111101111111': 1, '00000000000100001111110111111111110': 1, '00111111111111110101111111101110111': 1, '01111011111111010001111111111111111': 1, '11111110010001000000010011111111111': 1, '11111111101111101111111011111110110': 1, '00100100000100000000000000001011111': 1, '00000000000000000000000101010001000': 1, '11011010010110111111111111111111111': 1, '11011111101101101111111111111011111': 1, '10001111001000000000000100111111111': 1, '00010000000000000010000000010001100': 1, '00000001100000000000000100111111111': 1, '11111111111111111101000000000100101': 1, '01110000000001001000000110111110111': 1, '11111111111011110000000000111111111': 1, '11111111111111101110100101001111111': 1, '00001100000000000000000001101111111': 1, '00000000000100000100010011111101111': 1, '11111111111111111111111011000001101': 1, '00000000010110000001100001111011111': 1, '11001111011111110111111110010111111': 1, '00000000000000010000001100111011111': 1, '11101111111001110011101111111110111': 1, '10000000000000000000000000010001000': 1, '10011111111111111111101111111111111': 1, '11100001000000000000000000000101110': 1, '11111111101111111000000010101111110': 1, '11111101110011111111111001101110111': 1, '10001100100000000010000000101111111': 1, '11100101111111111111111111101111111': 1, '00000000011000000000000011101111111': 1, '00000001101000001001000011101111111': 1, '00000001000011111111111111111111110': 1, '00111101111111111111111111101111110': 1, '00000000000000000011111111110111100': 1, '11111111111111111110001111110001000': 1, '00000000010111111110110000000000010': 1, '11101111110111111110111111111111111': 1, '11110000000000100000000000111111101': 1, '10101111111111111001011111111111110': 1, '10001110001000000001000111101011111': 1, '01110100000000000000000000000001110': 1, '11111111011111110011101111111011101': 1, '11111100111111111111111110111011111': 1, '11111111111001111010111111111011111': 1, '11101101111111111111111111110001111': 1, '11001111111110111111111110111110100': 1, '11111011111100110111111111111111111': 1, '00001000011111110111111110111111100': 1, '00000000010010000100000110110101110': 1, '11111011111011111110110001111011111': 1, '11100111111111110111111110111111111': 1, '00000000100000000001000011101100111': 1, '11110000000000000000000000111001111': 1, '00000000000000000000100000101101011': 1, '01000000010000000011101111111111111': 1, '00000000000001000000000000101110100': 1, '00000001000000001111111111111111011': 1, '00000000010011011001111111001111011': 1, '11111111101000111111011111111111111': 1, '11111111110111111110001111111111111': 1, '11111101111111011111111111111010111': 1, '01111111101011111111111111111110110': 1, '11111111011111111111110000000000101': 1, '00000001100000000000001000000001010': 1, '11111111111111111001110110000000000': 1, '10100000000000001111111111101111111': 1, '00011111111111111101111001101011101': 1, '00000000000100001101111111111101011': 1, '00000010000000100100000000000000101': 1, '01111111111111011111111111101111101': 1, '10001110111111111111111111111011111': 1, '10101111111111110110111111111111110': 1, '11011011111111111101111111111111111': 1, '11111111101010101100000011111011011': 1, '10011111110111110011111111101111111': 1, '00000000000100000000000001100001011': 1, '00000000010111111111111011101110110': 1, '11111111100111111111011000110111111': 1, '11111111111100000000000000000001111': 1, '11111111111011111111111101000111111': 1, '00000000010101111111111111000000001': 1, '01011111101011111110111111111101111': 1, '00000000110000000000000100000000101': 1, '11110101011111111111111111111110110': 1, '11111111011111110111111101111110010': 1, '00111111111111111111111111010111111': 1, '00000000011011111111011111101111011': 1, '01110000000001000000000000000011010': 1, '00000000000000000000110001000001001': 1, '00000010000000001100000110111101111': 1, '00000000000000010000010111111110111': 1, '11111111110111111101111111101110111': 1, '00010000000000000000100001101111111': 1, '00000001000000000000000001111101111': 1, '00000000000000000000000000011000111': 1, '11111111011101111111111111111111101': 1, '11111101111111111111001000000000001': 1, '11111110111111111110000011111110110': 1, '11111101111111111101001101111111111': 1, '01001111110111111111111111101110111': 1, '10001111111111011101111111111111111': 1, '10000000110011111110000111111111111': 1, '00000000001000001000000110111111111': 1, '11101101111111110111111111111101111': 1, '10000100000110110111111111111111111': 1, '00000000100000001011011101000000001': 1, '00000000000000000111110011111011111': 1, '00000000000000010000000111111011011': 1, '11111111111111111111111110111110011': 1, '11111111111111111100101110011001010': 1, '11111111111111111011111000110101111': 1, '10010111101001111111111111111101011': 1, '01011111111111111111000000100100000': 1, '01100011010111110111110111111111011': 1, '01000000000010000000011111010111111': 1, '11111111111110111110111111111010111': 1, '11111011111111111111111001010001111': 1, '01011111111101111111111101101110111': 1, '10000100000001000000100000000001011': 1, '00000001111111110111111111111111110': 1, '01000000010110111111111111111111111': 1, '10010000000000011010000001100001101': 1, '00101111111111110111111111101110111': 1, '11111101110011111011111111111111111': 1, '11111111111000000001001111111111111': 1, '01100000001100001000000000111111111': 1, '11110011111111011011111111111111111': 1, '10000000010111111101111111110111111': 1, '11101111111111111101101011101110100': 1, '01111110110111111111110111101111111': 1, '10000000000000011000000000100000111': 1, '11111111111111111111111110001001110': 1, '00000000000000001011111111110111011': 1, '11111111110111111111001111011101100': 1, '11111111111111111110001111011111011': 1, '00001111101101111011111110101111011': 1, '00000000010010110111111000111111111': 1, '00000000011001111111011111111111111': 1, '10000000010000000001101110111111001': 1, '11111111100010000000000000111111111': 1, '11111111101110000000000001111111011': 1, '11111111101110010000000000100101111': 1, '10011111101111111101111111111111111': 1, '11111111111111010010000010000000001': 1, '11111111111111010010111001111111011': 1, '00100000100000000000000000000001011': 1, '00000010000000000000001011111101011': 1, '01111111111111010111111111111111110': 1, '00001111111111110011111111111111010': 1, '11111111111011011111001111100011101': 1, '11111111111010011111111011111111111': 1, '00000000001111111111110111111011111': 1, '01110000000000010000000001100001111': 1, '00000000000000000111111100111111111': 1, '00001011111110111111111011111111111': 1, '00001000010011111101111001111111111': 1, '00000000010011111111111100111111111': 1, '11111111011011111111111111011101111': 1, '00000000010000000001011110111111111': 1, '11111111111111011110101010111111111': 1, '11011111111111111111110111011111111': 1, '01101000000000000010000000000100011': 1, '01110000000000000000000000000000011': 1, '01111101111011111111111111111010000': 1, '10110111111111111111111111000001101': 1, '11100111111101110110111011111011111': 1, '11111111111111111111110000111011011': 1, '11111111111111111101111111111110001': 1, '11111111111111110111111011101100111': 1, '11111110100000011000100000111111101': 1, '01100001000000100000000000000101101': 1, '00000000000000100100000000000001010': 1, '00111111111111111111011111110110110': 1, '00000010111001111111111101101111011': 1, '00000000000110000000001111110011111': 1, '11111111111110111111111011110001101': 1, '00000000000100000000001000001001111': 1, '11111111111011111110101111111110111': 1, '00000000000010000000010000001111111': 1, '11111111110000000000000001110111101': 1, '11111111111111111101111101101111110': 1, '00000000001000011111111100101111001': 1, '11111111110011111111011000000011010': 1, '00000000101000000000100000000000111': 1, '11100001111111111111111011111101110': 1, '00000001010010101111111111011100010': 1, '01001111100111110111111111100111111': 1, '11111111110111111110110111111111111': 1, '11111111111111111111111010000001000': 1, '11111111111101111000111101111101111': 1, '01111101111011111111111111110111001': 1, '11111111111111111110000000000100011': 1, '01000000010101110111111111111111110': 1, '01111110101111111111001011111100000': 1, '11111110111111111101011111111111111': 1, '11111101111111111100111111101011111': 1, '00000000010111111111111111111101011': 1, '11111011111011111111101111111111011': 1, '00000010011001111111111111011111111': 1, '00000000000100111111111111111101101': 1, '00000000000001000111111011111101111': 1, '00000000110101001000110000100111011': 1, '11111111111111111110111111001110010': 1, '00000000000000001000010101110001110': 1, '11111111110101011110111111101111110': 1, '11101000000000100000010001111111111': 1, '00001111111110111110111111011101111': 1, '11110100001000000000000001111111111': 1, '11111111111100000001011111101110110': 1, '11011111010111011111101111111111111': 1, '00000010011110001100111111111111111': 1, '00000011111110111111111111011111111': 1, '10000000010111111111101111111111111': 1, '10000000000110111111111011111101111': 1, '00000000001000011111111111101111110': 1, '10000000000000000001001001111111111': 1, '11111111111111111001000000000000111': 1, '01000000010111110111111110101101111': 1, '11111111111110111101011111111111110': 1, '10000000000000001111111110111101111': 1, '10000000000000000100000000000000110': 1, '11111111000010000000000000000000100': 1, '00100000100000111110111111111111110': 1, '11111111101110110111111111111111101': 1, '00000000011111110111111111111111101': 1, '11110011111111111101111001111111111': 1, '00000001111111111110101111110111111': 1, '01111111111111111110001111111111111': 1, '00000001100000000001010111111111111': 1, '11111100100001000111111111111111111': 1, '10010000000100001110111111011111111': 1, '00000101110011111111111111111111011': 1, '00000100000000100011111111111111111': 1, '00000001111111111111101111111101111': 1, '00000000100111111111111111111010110': 1, '11111111101101011111111111101110111': 1, '00000000000010000001000111111111101': 1, '11101111110110111111101111111111111': 1, '11111111000000000000001111111111111': 1, '10000000000000001000000000001110101': 1, '11111111110111101111111101111101111': 1, '10000010000000000100100000100001001': 1, '11111110111011111110111111110110111': 1, '01101101000100000000001000000000110': 1, '11110000000100101111111111111110111': 1, '00000000000010001000000000110000011': 1, '11111110111111111111111001111011101': 1, '01111111111100000000000000101101111': 1, '10001111110111110110111111111111111': 1, '00000000110101101111111111101111111': 1, '00000000001010111111111111111111011': 1, '00000000000100000000000001000001001': 1, '00000001111111111110111111111110110': 1, '11111111110000000000000000000001101': 1, '11111111111111111110101110101111111': 1, '00101111111111101111111110111011111': 1, '00000000000000111101111111111110111': 1, '11111111111111111111101110000010010': 1, '00000000000000000101001111101111110': 1, '11111000001000000000000000101111111': 1, '00000000000000001000000001111011111': 1, '11111111111100000000000101111111110': 1, '11010100000000010101111011111110111': 1, '11111111111111111111010000000011011': 1, '00000010000111000000000001111100110': 1, '10111100110000000010000001111111111': 1, '11111101111111111111111110000100111': 1, '11111111111010111111111111111011011': 1, '00000000000000000000000111111011110': 1, '00000010000000000000000000001001001': 1, '11111110111110111111111111101110111': 1, '11111101111011111111110111111110111': 1, '01000000001000000000000000000000010': 1, '11111111111111011100111111101011111': 1, '00000000000000010000000100111110110': 1, '00000000000000000111011011011111111': 1, '11111111111010111101111111101110110': 1, '11111101100110111111000111111011111': 1, '01110000000000000000001111111111000': 1, '11110001101000000001001111111111111': 1, '11110000011000001001001011110111111': 1, '11111011111111111111011111101111101': 1, '11101111111111111111101111000001001': 1, '11111111111110101111111111111011111': 1, '00000111111001111111111111111011111': 1, '01100000000000000000000010001001110': 1, '11111111111111101111111001111111011': 1, '11010110000000000110000111111111011': 1, '00000000000000001000000110111100111': 1, '11111111111110111111111110011001111': 1, '11111111111011111111101011111101111': 1, '00111111111111110110111111111111110': 1, '00000000010101101101111111111110111': 1, '11111010100000101111111111110111110': 1, '11111000000000000001110111111111110': 1, '00111111111101111110110111111111111': 1, '01100000000000000010000010000010101': 1, '11111111111111111100110001000001111': 1, '00000000000000011111111111101111111': 1, '11111111101111111011110111111111111': 1, '11111111111111111110111110111111011': 1, '00000010001100000111111011111111111': 1, '11111110111111001100000000111101011': 1, '00000000000000000000001000000100111': 1, '10000000000000000000000110111111111': 1, '11111111111111111111011111010111100': 1, '00000000001101111110111011111111111': 1, '10001000000000000111111110111111111': 1, '11100011111111111110110111111111111': 1, '10111110111111011111111110111110111': 1, '00100000000100000000000000111110011': 1, '11010011111111110111111111111101111': 1, '11000000000000000000000000000001011': 1, '11111111111110111111000111111111011': 1, '11111111101110110111111011111111110': 1, '00000000111111111011111111110011111': 1, '00000110000000000000001001111111110': 1, '00010111111111111110111011111111111': 1, '11111111101000101111111110001111111': 1, '00011111110111111111111111011111101': 1, '11111111111011111111111100111011011': 1, '00000000000001000001100000000101100': 1, '01111111111111111011111110111111101': 1, '11100000000000101000001111111111111': 1, '11101111110111100100111111111110111': 1, '00000000000000100001111011111111101': 1, '00000001000100000000010001010000110': 1, '00000000000001101101000000000101111': 1, '10101111111110111111111111111101111': 1, '01000000000000000111111111110111011': 1, '01000000000100000010000000000001111': 1, '11111111111011111111111111111001110': 1, '11111111110111111011111111110111011': 1, '11111111111111111000000000000001100': 1, '11111111101111010011111111111101111': 1, '00000000000000000000000010011101111': 1, '00000000000000000000000000001010001': 1, '10100000000110000000000000000001111': 1, '00100100000000000000000000001001111': 1, '11111111111111111111110000001111111': 1, '01110001111111111110111101111101110': 1, '01011000000000101110000000101111111': 1, '11111111111111000011111111011111111': 1, '10000000001100000000011111111111111': 1, '00000000010110111111111101111111110': 1, '01101111111111110111111111101111111': 1, '11100000000000001111101111111111110': 1, '01001111111111111111111011010111101': 1, '11011111111111111111111011111110011': 1, '10100000100000001001001011111111111': 1, '01111011110111111111011111101111111': 1, '00000000000000100010011111111111010': 1, '11111111101110111111111100111011110': 1, '00000111110100000111111100111111111': 1, '00000010000000000000001000000001100': 1, '00000001000011111011111010001101011': 1, '10011111011011111111111110111111111': 1, '01011111111111111111111110011101111': 1, '00001110000000001101111111101101111': 1, '00000001000100001110111111101111111': 1, '11111111111011110111111110010111111': 1, '01100000011111011011111111111111110': 1, '00000000000000100011101111111110111': 1, '01110111101010101111111111111111111': 1, '11101111111011111000000000000000001': 1, '11100000110111111011111111101111111': 1, '11101111010111111111111101001101101': 1, '00000000000011110111111111101110100': 1, '11111111111100000000000000011011111': 1, '11111111111110100010000000001011011': 1, '11111111111111011111110011111011111': 1, '10111111101011111111111111111011101': 1, '00000001101000000111111111110111110': 1, '10000000011111111111011111111011111': 1, '10111111111101111011111111111111111': 1, '01110000000100000001001111101111111': 1, '00000000100000001000000000010011111': 1, '00000000000111111111111110111010111': 1, '00000110011111011010111111111111111': 1, '00000000000000011011111111111111011': 1, '00000000000000000001001010111111001': 1, '00001111101111111111111001111111101': 1, '10000100000000000000000000011110110': 1, '00000000000000000001101111111101110': 1, '11111111111111111100001111100010011': 1, '00000000111111111100001110111111111': 1, '00000000000000000001000000001001111': 1, '11111111111111111111000101111111110': 1, '00000000010100000010000011111111110': 1, '11011111111111011110111111111110110': 1, '00001101111101111110111111101111110': 1, '11111100010011011011111111101111111': 1, '00111111101000000000000000101111011': 1, '01111111100000000001111111111111101': 1, '11111111111011111111111111110100111': 1, '11110111111111111111100000001110111': 1, '11000000000000000000000000010111111': 1, '10110111101111111111101111111111111': 1, '00001111111110111110101110010111111': 1, '01111111111111110111111111100001010': 1, '11111111111111111111111011110001110': 1, '10111111000000001000001000101111111': 1, '00000000000001000000010111010001111': 1, '10101111111111111111111111111111001': 1, '11111111101111110111101011111011111': 1, '11111111110011111011111111111111101': 1, '00000000000000000011000010100111111': 1, '00000000000000001001001111101001111': 1, '11111111111111111001000110111111111': 1, '00000000000011010110111111101011110': 1, '11101111111011110110011111111111101': 1, '11011111111111111111111110110110110': 1, '11011110000010000001001111111111101': 1, '10000000001000000000000000000001111': 1, '11111110111111111110111011011111111': 1, '11111101111111111100111111111110110': 1, '00000000010111111001111111111111110': 1, '11000100110111111111100111111111111': 1, '11001111101111111111101111110111111': 1, '00000000000000010000111111111111110': 1, '10000000111111111111011111111101011': 1, '00000000000100000001100011111101111': 1, '10000000000001000010000000000000011': 1, '11001011110111111110111111111111111': 1, '11010111011111111110111111111111111': 1, '01111101111111111110111101110111111': 1, '00000010000000000000100100000011111': 1, '11101111011111111101111111110011110': 1, '01111111111111110111111011001111111': 1, '00000001010110111111110111011101111': 1, '00000000111101111111111110111111111': 1, '11111101111111111101111111110011111': 1, '10000000001010000000000000001111111': 1, '10001100000000000001011000000001101': 1, '00000001100000000111111111111101110': 1, '11111111111110111100000000000001001': 1, '11111111110110000000011111111111111': 1, '00000010000000100100001110010000111': 1, '00000000010110000000000001111111101': 1, '10001111111110111111111111111111011': 1, '00000000000000000000000000100010001': 1, '11110000000000000000000000111110110': 1, '00000000000100000001000000000011100': 1, '11111111111111011110111011111111110': 1, '00000000011000000100100000001111111': 1, '11111111110111110110111111101001111': 1, '11111111111011111110111011111110111': 1, '01111000111111111111111011111111111': 1, '00000000000011010011111111101111111': 1, '11111111100111111101101111111111111': 1, '00000001001001111111101111111111111': 1, '00000000010101111111110111111011111': 1, '01110111111111110111111100111011111': 1, '11111111111111110000000011111110001': 1, '00000000000000000000101100111111111': 1, '00001111111111111100000000101111111': 1, '11111111111111111111111111010000001': 1, '10111111111111111110111111010111111': 1, '00100000010011101111111111111111111': 1, '11111101110111111111101111111111101': 1, '00100100000000101000000000001001011': 1, '00000000001010000000000000001000010': 1, '01110011111011110111001011111111111': 1, '11111100001000010000000111111111011': 1, '11110100000000000000000000111111111': 1, '11110110000000000001000000000001110': 1, '00000001100011010000100000101000010': 1, '00000000010111111011111111111111011': 1, '00000000000000000000100000001000011': 1, '00000011111011101111111111111100111': 1, '11111111111010111111111100110111111': 1, '11111111110011111101111111111001111': 1, '11000000000000000000000000000001000': 1, '01111111111111111111111111001111000': 1, '00000001000000000001101111110011101': 1, '00000000000000000001111110000000010': 1, '00000000000000000000000001001001110': 1, '00000000001000010010110000000011001': 1, '11111011111011110111100000001001011': 1, '00000001111001110111111111111111111': 1, '00001111111111011111001101101111111': 1, '00111111111111111111111111010000001': 1, '01111110111111111010111011111111111': 1, '01001000000111111111111111110111111': 1, '00011111111011111111111110001101111': 1, '11101111111111111110111111111111010': 1, '11111110000011111101111111000011111': 1, '11111111011111111000000000001001000': 1, '11110000000000000000001000000111011': 1, '11111111110110111111101110111111110': 1, '11111111111000000000000010111101011': 1, '11111111111111110111111111011010110': 1, '00000001001000000000000000000001101': 1, '00000000000000000000010100001000101': 1, '11111111111111111010110111111110111': 1, '01011111111111111110000111101100111': 1, '11111111111001111111000110111111111': 1, '00100000001011101100111111101101111': 1, '00000000001100101101111111100101111': 1, '00000010000010101111011111111101111': 1, '11111111111110111101011110111111111': 1, '01111101111111111111000111111111111': 1, '11111011101110111101111101011111111': 1, '11111111110011010011111111101111111': 1, '11111111111111111110111111110011011': 1, '11110000000000000000101111111111111': 1, '11111011100111111110111111111101111': 1, '11111111111111111000000001111111111': 1, '11111111101001011110111111111111111': 1, '00000000000000000100111010101111111': 1, '00011111111111111110111111101111110': 1, '00000000000110000000000001001111111': 1, '11111111011110111111011111111111111': 1, '11111111111111110011111111111111010': 1, '10001000011000001100000000000001111': 1, '11111100101011111110111111111111111': 1, '10011111111111111111111111111100110': 1, '11011111111111111101111011011111101': 1, '11101111110111010111111111111110111': 1, '00000000000000000001001000111110111': 1, '11111111110011011110001111111111111': 1, '00101100001000000001011111111111110': 1, '00000000110011111111110011111111111': 1, '01111111111011111101111111110111111': 1, '01111111111111111111111011111100111': 1, '11101111011011110011111111011111111': 1, '11111111111111110011001011111101111': 1, '01100000000000000000100000100000101': 1, '11011111111111111111101111111001111': 1, '11101111110111111111111101010011011': 1, '00000000000000000000010001101101111': 1, '11111111111111111111111111111100001': 1, '00000000010000100000000000000001011': 1, '00110000010011111111111111111111111': 1, '11110010000000000001111111111111111': 1, '11100111111011111110111111111111111': 1, '00000000000011111111111111101101111': 1, '10101100111111111110111111111111111': 1, '01010000001000100010000000000001000': 1, '10100000000000000001111111111111110': 1, '10011101111111111111111111111111111': 1, '11111111111111111111110001000000001': 1, '11111111111111010011111111111001011': 1, '01111111111111111111111111011110010': 1, '11111110111111111100111101111111111': 1, '11111111111111111111110011000001001': 1, '00000000010000000001100000000001100': 1, '11111101111111111011110111111101011': 1, '00000001010010000100000000000000000': 1, '11111111111111110111101011111101111': 1, '00000000010100111111111111101111111': 1, '11110000100000010000000000000000010': 1, '00000000000000000000000000110101011': 1, '01111111111111111111111101111111010': 1, '00000100000000000010000000101111111': 1, '00110001111111111111111111111111111': 1, '11101111111011110111111110111011111': 1, '00000000101010101001011111111001111': 1, '11111111111111111111111111110101100': 1, '00000000010100000000000000000001110': 1, '01111111111111111111001110111111111': 1, '00100001110111111111111011111111110': 1, '00000000001000000001001111110111111': 1, '11111111111111101100001111111011110': 1, '11111111111111111110001101111111111': 1, '11111111111111001101000111111111111': 1, '11011111101001111111110111111111011': 1, '00000000011011000000000100111111111': 1, '11111111001000000000000000001101101': 1, '00000000010010000000000000000100001': 1, '11111101111001111111111111011111111': 1, '10000000001111010111111111101111111': 1, '11111110111111011111001000001100011': 1, '00000000000010000001111111101100011': 1, '11111111111111000001111101110101111': 1, '11100000000000000000000000000100010': 1, '00000000000000000000010011101111110': 1, '11111111111111000010111111111111111': 1, '11111111111111111111011110110010111': 1, '11111111111101111111111111001111011': 1, '11111111110110111101111011111111111': 1, '00000000000000101000100100101111111': 1, '11111110000000000010000000000000111': 1, '11111111111111111101111111111010110': 1, '00000001110111111111111001110111111': 1, '11111000011111111110111000000111101': 1, '11111111111110111101111111111110110': 1, '11101110010111110111111111110111111': 1, '01100000000000001000000000111111011': 1, '11111011111111101111100000111111111': 1, '10110000000000000000000110111111110': 1, '01111111100010000000111111110111111': 1, '00000011101111111111101111100011110': 1, '11110000000000100100000000000111111': 1, '00000000000100011110111111111111111': 1, '11111111110111111110111111101110001': 1, '00000000000000101011001111111110110': 1, '11111101111101111111111011111111111': 1, '00000010000000000000000000001100111': 1, '10011111011111111111111110101111111': 1, '01111111111111111111101111111111000': 1, '00000000000000010000000000101001111': 1, '00000000000000111101100100001111111': 1, '01101101111111111111111111110111111': 1, '10010000000100001110111011111111111': 1, '01110000010111111111101001001111111': 1, '00000000101000001000000100000001101': 1, '11111111011111111111111011111111101': 1, '11100000000000000000000100110111111': 1, '11111111111011111111111110111001111': 1, '00100001000000000001111101011101111': 1, '11101111101111011011111011111111110': 1, '11011101111111111111111111101111101': 1, '11101111111011111111001111011110111': 1, '00001101111111011111011111111111111': 1, '11111111100111011110001111111111101': 1, '00000000001100101111001111111111110': 1, '00000001111111111100001111111111101': 1, '11111111111110001011110111111111111': 1, '11100000000000000000000000100001100': 1, '00000000000000011111110110111111111': 1, '00000000001000000100000000000111111': 1, '11111111111001111110111001101111111': 1, '01111111001010111011111111101111111': 1, '01111101111111111111110111111110111': 1, '11100000011001111111111111101011111': 1, '11111111101011111111001111111111111': 1, '00000001000110000000000000111111110': 1, '10000000000001000000001011111110001': 1, '00011110111111111111111111111111011': 1, '11111111101000000000000000000100000': 1, '10000000000000000010000000111111101': 1, '11110111111111110111111111110111001': 1, '01100000000000000011111011111111111': 1, '11111111010111101011111111111111111': 1, '11111111111111111011011101110111110': 1, '00000011011111110111111111111111111': 1, '00000000000000000000000001010001110': 1, '10000000001000000000000100000001001': 1, '00000000010100111110111111111011111': 1, '11100000000000000000000100101111111': 1, '01000000000000000000001000000011111': 1, '00000000010011000001111111111111111': 1, '11111110111011111111011111111110111': 1, '00000000000000001011111111100111101': 1, '11111111111111111111111100000001101': 1, '00000000010111110111111010100000001': 1, '11110111111011111110111111111110111': 1, '00000000000111111011111011111011111': 1, '11100111111111111110111010100110011': 1, '00000000000000101000010111101111110': 1, '10000000000000000000110111111111111': 1, '11111111011111111111111001110011111': 1, '00000000000000000000001010011111011': 1, '00000001000000000001000110111111101': 1, '01111110101111111111011111001111111': 1, '00000100000011110110111111111111111': 1, '11111111111111111101111111110001011': 1, '11111111111111011101111011111101111': 1, '00000000000000000000001100111111101': 1, '11111111111111110110000000011111111': 1, '01111110111000101000000010000011100': 1, '01011111110111111110111001111111111': 1, '11111111111111111110001111111101111': 1, '01110000000000000010000000000101111': 1, '10011011111111111110101111111111111': 1, '11111111111111001000000000000000001': 1, '11111111101111111111110011111111111': 1, '11011111111111111111111000010001111': 1, '01111111110111111111111101111101011': 1, '11111111111011111101001111111111111': 1, '11111111101101111110111111111010111': 1, '00000000000000010000000101001000001': 1, '00000001000000011011110111101111101': 1, '00000000010111010001111111100111111': 1, '00000001111111111111100000010001001': 1, '11111111111111000001101111111111111': 1, '00111111101011111111110010001111111': 1, '10001000000000000000000000000001011': 1, '00001111110111111110111111111111110': 1, '11111110110111110111111111110111111': 1, '00000000000100001000010010101111111': 1, '00111111111111011110111101111111111': 1, '10010000000000000010000001000001010': 1, '00100001100111111011111111111111110': 1, '11110111101100001001000110101111111': 1, '01100000000000000000010000111111101': 1, '11110000010000000011000000001111111': 1, '00000000101111111101111111111111111': 1, '01111011111011111111000000000001101': 1, '11111111111111111110111111010111010': 1, '11111111111111111111000010111111110': 1, '11111101111111110111001111111111111': 1, '11111111111001101111111111111101111': 1, '11111111111111111110000111101110010': 1, '00000000000000000001110100010000010': 1, '00000010111111110111111111111111111': 1, '01110000110011111110111111111111111': 1, '00000000001001111111111011110110011': 1, '10000000010111111111111110111111111': 1, '00000000000010010010000000000001011': 1, '00000000000011111110111111111101110': 1, '11111111111111111101001111111111110': 1, '00111111111111111111111111111111010': 1, '11111101111111111111111111111011011': 1, '01001111111111010000110101110111011': 1, '10001111111111111111010111100110111': 1, '00001100000011111111111111111110111': 1, '11111111111111001111111111101101111': 1, '00000011111110111101111111111101111': 1, '11111111001000000011000000111111111': 1, '00000000000100000010000001101110111': 1, '11111100000100000010000010000000100': 1, '11111111111101111111111011101111101': 1, '00001101111111111011111111111101111': 1, '00000100000100000000001000000000011': 1, '10010111111111111111111111110111011': 1, '00000000010001111111111111101011111': 1, '00111111011111000100000111111111111': 1, '11111110111101111111111111011111101': 1, '11110000010000000000000000101111111': 1, '10011011111111111111111111111110110': 1, '00000000000000101001001111111001011': 1, '00000010000000000110000000011110110': 1, '11111111111111110111011111110011110': 1, '11010001101010000010000111111101111': 1, '11111111111111111110111011010110111': 1, '11111111111111110101000000001001101': 1, '11111110111011011101111111111111111': 1, '00000001000000011111111111111111111': 1, '00111111111111111111111011110111111': 1, '11011111010111111111111111010001101': 1, '00000000000000001010100000000000010': 1, '00000001000000001000000000010011111': 1, '00000000000000110100000100111111111': 1, '00000000000110000111111111001111111': 1, '00000001011111111111001001111111111': 1, '11111011111101111111111011111101110': 1, '00000000000100001010000000101001111': 1, '00100000010000001000000000000000001': 1, '01111111111001111011111111011011111': 1, '11111111110010111111111111111001111': 1, '01100000000000000000000000000000100': 1, '00000000000000111111111111110010111': 1, '11111111111111111100010000000100110': 1, '00001111111111110111111111101100111': 1, '00000000000001110011011111111111111': 1, '11111111100011111111111111111011111': 1, '11111101111111111111111111111110011': 1, '00001100000000000001001111110111111': 1, '11110111111111110111111011111111001': 1, '11111111011111111111011011111011111': 1, '11111110111111111111111111010011111': 1, '11111111111101111111111111010110101': 1, '11111000000100000000001100111011011': 1, '00000000010011110011111111111111111': 1, '00011111110001111111011001100111111': 1, '00000000000000000001010011111111111': 1, '10000000001000000000111110011111110': 1, '10000001100101111111111111110110110': 1, '00000000001001111111111000000100001': 1, '00100000001010000000000000000111111': 1, '10110111111111111111111111001111111': 1, '01111110010111101111111111110111111': 1, '11101111111011111111000111111011111': 1, '00001100000000100100000000100111111': 1, '00001000000010000000000000001011011': 1, '00000000000000000001001000010000001': 1, '01000000000000000011001111111110111': 1, '11111111011111111111000000001111011': 1, '00000000001000000001101111111111111': 1, '11111111111111101111000111100111111': 1, '10011111111111111110111111111101101': 1, '11011011111011111111111111111011010': 1, '01011011111111111110111111111110111': 1, '00110111111111111111111110011111111': 1, '11110111101111111111111111111011110': 1, '11111111110111111111111111011101001': 1, '11101111111111111110111111101101110': 1, '11111111111111011100111011111111111': 1, '11100111101001111111011111110111111': 1, '01001111111111111111111111101111110': 1, '11111111111010000000000000001111011': 1, '11011111111111110111111101101111011': 1, '00011111111111111111101101111111111': 1, '01110000100010100100000001001011111': 1, '11111111101010111111111111011111111': 1, '01100000001000000000000000001111111': 1, '00000000000000000000000001110000011': 1, '00000000010011111111111111100100001': 1, '01111111111111111111111011100111110': 1, '11100001110111111110111110101111111': 1, '01100000000111010111111111101111111': 1, '00010000000000000000001000000111011': 1, '11111111101111110110111111111111101': 1, '00000000000000010000110011111111111': 1, '00000000100000001111111111111111011': 1, '10011110111111111111111110111110011': 1, '10001111110111111111101111111101111': 1, '00001001111111111111111111111011011': 1, '01011111111111110111111110111111101': 1, '11111111111111011111111111110111000': 1, '10101111111111111110111101111111111': 1, '01110111101111101111000000001111111': 1, '11011111111111111110111111101011101': 1, '10000001100100000001001000100001111': 1, '11111111111110111111111011110101111': 1, '11111111111110110110010101111101111': 1, '00001111111111111111111111100000000': 1, '00000000100001010000000100000111111': 1, '11111111011111111110000000110111111': 1, '11111111111111111111111110101010111': 1, '11111111111111011111111110010001111': 1, '11111011111111111111010111111111110': 1, '00000000000000001000000010111101111': 1, '10001111110111111111111111111110111': 1, '00000000001000000000000000101111011': 1, '01111111010111110111111111101111111': 1, '11111111110111111111111111101101100': 1, '11110000000000100101001111111111011': 1, '11111111111110011111101111101111111': 1, '11111111101111111110000000000101010': 1, '00000000000000001000000011111011110': 1, '00000000000000000001000111110111111': 1, '11111111011111111111111110111111110': 1, '11111111111111010010000000000001111': 1, '00000000011001111111111000111111111': 1, '00000000010010000000000001101111111': 1, '11001110111111111111111111110110011': 1, '01110000100000010000011111111101111': 1, '10000000010000000000000000000011101': 1, '11111111110111101111101110110111111': 1, '11111111101000000010000000000000000': 1, '00000001110111110111111101111101111': 1, '01111111111111111110000111011111111': 1, '11111110111011111111101111111111101': 1, '00000000001100000000000100101111111': 1, '00000010000000000000000100000101000': 1, '00000000010000000000000010010111111': 1, '00011000101110111111100000111111110': 1, '11110111111101010111111111111111011': 1, '11000000000000001000000000011001100': 1, '01100000000000000000001000000001011': 1, '10101111111111111011110111111111011': 1, '00010000100000000000000011000001111': 1, '10101111101111101111111101111111111': 1, '11111101111110111111111111101001111': 1, '11111111111011000010000000000001011': 1, '10011111110011110111111111111011111': 1, '00100000000000000010000101101111111': 1, '11001111111111111111111110110110111': 1, '00000001000000000010000000100111111': 1, '00000000001011111111111111111101111': 1, '11111111101111111111111100111111110': 1, '10000001011111110111111101111111111': 1, '00000000000100000000100000111110111': 1, '00001101111011110001111110111100111': 1, '00100001010011010000010000101011111': 1, '11111111111111110011011111111111110': 1, '00000000000000100010000001101111111': 1, '11111111111011111111000111010011111': 1, '11111110111111110111000111111101101': 1, '00010000000000000010000000111110011': 1, '11111101111111111101111111101110111': 1, '00000000000000001110000000100000010': 1, '00000000011100000001001111010111111': 1, '11111111111111111111110110111011110': 1, '11111011111111111111011111111101110': 1, '00011111101111111110111111111101111': 1, '10000001000000001111111111111111111': 1, '11111111111111100111111011111001011': 1, '11111111111111110111111111101101010': 1, '00000000010100010000000000000111111': 1, '01111111111110110111110111111111011': 1, '11111111111111011011111111111110010': 1, '11111111111011110110111111111110110': 1, '10001111111001111111111110111101011': 1, '00000000111111011111111111111100111': 1, '00000000000000000000001100010001010': 1, '00000000001000000000100000101111101': 1, '00000000010111111101011110101110111': 1, '00000001000000000000000111011111111': 1, '00000010000011111101011111011111110': 1, '00111111111000110111111111111111111': 1, '01010111111111111111111001111111111': 1, '00000000011001101101111111111100111': 1, '00000000100000000000001100000001101': 1, '01111111111111111111111101000001011': 1, '11111111111111011111110111011111111': 1, '11011111111101011011111111110110111': 1, '00111101111111111111111100110011111': 1, '00001111111111011011111111111101110': 1, '00000000000001010000000000000011110': 1, '11100000000100000000000000001111111': 1, '00000000000000010111111111011111111': 1, '00001011100000001111111111111111111': 1, '11111011101111110110111111111111111': 1, '11110001000000100100110100101111111': 1, '10000000000100000010000100000001110': 1, '11111101101111111111111111100011111': 1, '00000000000000000010000000100011011': 1, '11111111111111111110101111111011110': 1, '01101111111111111110111111110111111': 1, '10000000100000000000000100111001011': 1, '11111111111111111111111100100111110': 1, '11100000000000000001000111100111111': 1, '01111111100000000001001111111011111': 1, '11111111001011011111111111111011111': 1, '11111111111010111110111111111001011': 1, '00000110001000111111101111111111111': 1, '11111111111111111111111010111011011': 1, '00000000011000000010000100111011111': 1, '11111111111111111100000111111111010': 1, '11111111111011011111111111110111110': 1, '10110010000001000000000000001001011': 1, '11111111110111111111111101110011110': 1, '00001100010001111111101111111111111': 1, '11111011111111111110111111111110110': 1, '11110000000000100010000000000001011': 1, '00000000000000101110101111111111111': 1, '11111111111111110011101111101111111': 1, '00000000000000000000100000011111111': 1, '11110111111111111111111111011111011': 1, '11111111111110111111111111001111110': 1, '11011111000000000000000000000001001': 1, '00000000000100000000000010101111110': 1, '11111111011111111111111011101100110': 1, '00000000000000000001000000000000101': 1, '11111110000111111111111111011111111': 1, '10011111111111111111111111101111111': 1, '01111111111011111110111111101111111': 1, '00000001110111111111111111111111101': 1, '11111011111111111111101110101111111': 1, '11111111111111111111010111110111111': 1, '11111110011111110110111111111111111': 1, '01001111111111111111111111111101011': 1, '11111111110111111111101110101111111': 1, '11111111111111111111101011101100110': 1, '00000000010111010000101111111111111': 1, '11111111111111111111111111001110100': 1, '11101111111111111111101110111111111': 1, '11111111111011111110101111111111101': 1, '11111111111111110111101111110111111': 1, '00001101111111111111101111111111111': 1, '10001111111111111111111101011111111': 1, '11111101111111111111111001011111111': 1, '00000000000000000000000100101110111': 1, '00000000000100000000000000000000111': 1, '11111111111011111111111011101110111': 1, '11111111111011101111111101111111111': 1, '00000000110111111111111111111111111': 1, '00000000000100000000000000000000011': 1, '00000000000000000000111111011111111': 1, '00000000000000000001011111101111111': 1, '01110111111111111111111011111111111': 1, '10000000000000000000000000000000011': 1, '11111111111111111111101111111110110': 1, '00000001110111111111101111111111111': 1, '11111011111011111111111111111101111': 1, '00000000000001011111111111111111111': 1, '11111111111111111111110111110111110': 1, '11111110111111111111011111111111101': 1, '00000000000000000000001000111011111': 1, '10000000000000000000000000011111110': 1, '00000000111111111111111111101111111': 1, '11111111111111011111111101011111111': 1, '00000000000000000000010000100111111': 1, '11111111111111011111011111111011110': 1, '11111101111111111110111111011111111': 1, '11111111111111111111111101101011111': 1, '00000000000000000000000010000000011': 1, '00010000000000000101001111111111111': 1, '00000000000000001000000000101110111': 1, '10101111111111111011111111111111111': 1, '00000001000000000000000001100111111': 1, '00000000000000000010000000010001111': 1, '01110111111111111111111111101111111': 1, '11111111111111011111111101111110111': 1, '10011111111011110111111111111111111': 1, '11111111011111011111111111001111111': 1, '11111111011011011111111111111111111': 1, '10001111111011110111111111111111111': 1, '01001111111111111111111111001101011': 1, '11111111101111111111111111011101111': 1, '00010000000000000000001111111111111': 1, '11101111111111111111111101100111111': 1, '00000000000000000000010010111111111': 1, '11001111111111111111111111101110110': 1, '00000000000000000111111111101110111': 1, '01011111111111111111111111001101011': 1, '11110111111111111111111111111100111': 1, '01111110111111111110111111111111111': 1, '00000000000001100111111111111111111': 1, '00000000000000000000000000001001100': 1, '11111111111111111111010111001111111': 1, '00000000000000000001111111111011111': 1, '00000000000000000000000010000000100': 1, '11111111110111101110111111111011111': 1, '00000011111111101111111111111110011': 1, '00000000000000000000000000110000001': 1, '10111101111111111111111111110111111': 1, '11111111111111111011111111011111110': 1, '00000001111111111111011111111111111': 1, '11111111101111111111111011111011111': 1, '11111111111110111111111111110111110': 1, '00000000110111111111111111111011111': 1, '00001111111111101111111111111111111': 1, '01111111111111111101111111101111110': 1, '11111111111110111111111101100111111': 1, '11111111111111111111111111110000100': 1, '00000001010110111111111111110111111': 1, '11101011111110111111111111111111111': 1, '10001111111111111111111111011111111': 1, '11111111111110111111111111010000100': 1, '00111111110110111111111111111111111': 1, '11111111111111111111011101111110110': 1, '00111111111111111111011101111111111': 1, '11111101111111111111110111101111010': 1, '11111101111010110111111111111111111': 1, '00000000000000000000000000000100010': 1, '11111111101111111111111111111011011': 1, '11111111101111111111011111011111111': 1, '11111011111111111111111101101111111': 1, '01111101111011111110111111101111111': 1, '00111111101111111111111011111111111': 1, '01111111111111011111111111111101110': 1, '00000000000000000111011111101110111': 1, '00000000000100000010011111111111111': 1, '00000000010010000111111111111111111': 1, '11111111011111111111111101111111011': 1, '01111111111111111111111101011111111': 1, '11111111110111110111111111111101111': 1, '00001111111110111111111111111111111': 1, '11111111111011101111111111001111111': 1, '01000000000000000000000000001111011': 1, '11111101110111111110111111110111111': 1, '11111111111111111011111111001111011': 1, '11111011111111111111111110111111011': 1, '11111111111111111111111101001111011': 1, '00000000000110000000000000001001011': 1, '10011111111111110111111111111111011': 1, '11111101111111111110111111011111011': 1, '00100000000000000000000000000001010': 1, '11111110101111110111111111111111011': 1, '11101111111111111111111111111011011': 1, '11111111111011111110111111111111001': 1, '00100000000000000000000100101111011': 1, '00000000000100111111111111111111011': 1, '11111111111111011000111111101111011': 1, '11111110111111111110111111111111011': 1, '00000000000011110111111111011111011': 1, '11111111111111111100111111111111011': 1, '11111111111111111111111101110111011': 1, '00001000000001000000000000111111111': 1, '01111111111110111111111101111111111': 1, '01111111111111110001111111011111111': 1, '01010000000000000000000000000001110': 1, '00000000000000000001001111101111011': 1, '11111110111111111111111101111111011': 1, '00000000000001110111111111111111111': 1, '01110111111111111110111111111111111': 1, '00000000000000101111011111111111111': 1, '00000000000000001111111111011111111': 1, '00001111111111111110011111111111111': 1, '00001001110111111111111111111111101': 1, '11111111111111110111111111111111100': 1, '00000000111111111110111111101111111': 1, '00000000000000001000000000000001010': 1, '00000000000000111111111011111111110': 1, '00000100000000000000000001001111111': 1, '11111110111111101111111111111011111': 1, '10111111111011111111111111111111101': 1, '11111111111111111111111100101111011': 1, '11111111111111110111101111111111101': 1, '00000000000000000001001111101111101': 1, '11111111111111111111111111011101101': 1, '00000000001000001000000000101111101': 1, '11111111111111111110111011101111101': 1, '00111111111111111111111111001111101': 1, '11111001111111111111111111111101101': 1, '00000000000100000000000000100000001': 1, '10101111111111111111110111111111111': 1, '11111111111011111111111111101101101': 1, '11111111111111010111111110111111111': 1, '11111111111111111111111101111110111': 1, '11111111100111111111111111011111110': 1, '11111111111111010111111111101111011': 1, '00000000000000000000001000100101111': 1, '00000000000000010011111111101111111': 1, '10111111111111111111111111110101111': 1, '11111101110111111111111111111101111': 1, '01111111111011111111110111111111111': 1, '11111111111101110111111111101111111': 1, '00111111110111111110111111111111111': 1, '00000010000000000010000000000001100': 1, '11111111111111110000111111111110110': 1, '00000000000000000000001001001111011': 1, '11111101111111111111111011110111111': 1, '11111111111011101111111111111011111': 1, '01111111111111111110111111110110111': 1, '11111111111111010111111111111110110': 1, '00000001000000110011111111111111111': 1, '00000100000000000000000111111111111': 1, '01111111101110111111111111111111111': 1, '10000000000000000000000000000001110': 1, '11111111111111111111011111110111101': 1, '00000000000000000000000001000000110': 1, '01111111110111111111111111011111111': 1, '11111101111111111111111111100111111': 1, '10111111111111111111111111111111100': 1, '00000000000000101111111111101111111': 1, '01111111111111011111111111011111111': 1, '00000000000000000000000110101111101': 1, '11111111111111110110101111111111111': 1, '11111111111111011010111111111111011': 1, '11111111111011110111101111111111111': 1, '00000000100000000010111111101111111': 1, '00000000000001000000000000001111111': 1, '00000000000000110111111111111111111': 1, '00000000000011110111111111011111111': 1, '11111111111011111111111111001111101': 1, '00000000000000000010000001111101111': 1, '10011111111111111111111111110101111': 1, '11111111111111111111011101111111101': 1, '11111111111111111111110111111010111': 1, '11111111110011011111111111111111111': 1, '10111111111111111111111111101011111': 1, '10011111111111110111111111111101111': 1, '11101111111111110111111011111111111': 1, '00000000000010000010000000111111111': 1, '11111111110111111111111111110101111': 1, '11111111111110110111111111101111111': 1, '11111111111111111111110111111111010': 1, '00100000000000000000000000000001110': 1, '11111110111111111111001111101111111': 1, '11011111111111110111111101111111111': 1, '01000000000011111111111111111111111': 1, '00000000001000000000000000100011101': 1, '11111111010111111111111111101101111': 1, '10111111111001111111111111111111111': 1, '11111111111111111111111111110001101': 1, '11111111111011111111111111001111110': 1, '10111111110111111111111111101111111': 1, '00000000000000000000000001100001101': 1, '00000000100000000000000000001111011': 1, '11111111111110111101111111111101111': 1, '00000000000100000000000000001111111': 1, '11011111110101111111111111111111111': 1, '00000000000000001000000001000000010': 1, '11111111111011111111111001111111101': 1, '11111111111111011111111111101011110': 1, '11111110111111110111111111011111110': 1, '00000000000000000111111111111111110': 1, '11111111111111101111110111111111110': 1, '11111111101111111111111111101011110': 1, '00000000000000001111111111110111110': 1, '11111111111111110110101111111111110': 1, '11111111111011111111111111101101110': 1, '00000000001000000000000000111101110': 1, '11111101111111111111111111110111010': 1, '00000000000000000000010000010001100': 1, '00000000000000000000000010010001110': 1, '00001101111111111111111111111111110': 1, '00000001110111111111111111111111110': 1, '10101111110111111111111111111111110': 1, '00000000000000000111111011110111110': 1, '11111110111111111111111111101011110': 1, '00000111111011111111111011111111110': 1, '11111111111111111111111111111000110': 1, '11111111111111111111000000000101110': 1, '00011111111111111111111011111111110': 1, '00000000010000000000000000011111110': 1, '11111111111111111011111111111011001': 1, '01111111111111011101111111111111111': 1, '11011111101111111111111011111111111': 1, '00010000000000000111111011111111111': 1, '11111111111011110110111011111111111': 1, '00000001111111111111011011111111111': 1, '11111111111111111110000011111111111': 1, '00000000000000010000000000000001000': 1, '11111111111111111111111000111011111': 1, '11111011111111111101111111111111110': 1, '11111111111111010001111111111111110': 1, '11111111111111101111111111110111101': 1, '11111111111011111111111111001011111': 1, '10001111111111111111111110111111111': 1, '00000100000000000000000000010111111': 1, '00000000000000000011111111111111111': 1, '00000000000000000000000000100000010': 1, '00000100010111111111111111111111111': 1, '01111111111111111111101111111110110': 1, '00001111111111111111111111111101011': 1, '00000000000000000000000001101111110': 1, '00010000000000000000000000001111111': 1, '00000000000000000000000010101111101': 1, '11111111111111111111111111101110100': 1, '11111111111111100111111110111111111': 1, '11111111111111111111101111111110101': 1, '01111111110111111110111111101111111': 1, '11111111111111111111111110111110110': 1, '00000000000000000100001011111111111': 1, '00000000010000000000000000000000010': 1, '00000001011011111111111111111111111': 1, '11111111101111111111111101111110111': 1, '11111011101111110111111110101111011': 1, '11111101100000101111111111111111111': 1, '11111111100111111111111110111110111': 1, '11101111111111111111111111110010111': 1, '11111111110111111111111111111011110': 1, '11111111111111111101111111001111110': 1, '11111110111111111111111111101011111': 1, '00001111111111111110111011111111111': 1, '00000000000000000100000000000000100': 1, '00000000000000010001111111101111111': 1, '11111011111111111111111111111111010': 1, '01111111111111110111111110111111111': 1, '11111101111111111111111111101101111': 1, '00000100000000000000000011111111111': 1, '00001111111111111110111111111101111': 1, '11111111111011111110111111111101111': 1, '10001111111111111111111111111111100': 1, '11111111111111111111111100110111111': 1, '00000000000000001000000000000001101': 1, '00000000000100000000000000000111111': 1, '11111111111111110111111111100110110': 1, '11111110111111110111011011111111111': 1, '00000000000111111111111111101111110': 1, '11111111111111110111111101111110111': 1, '00000000000000000000001000000001001': 1, '11111111110111110111111111111011110': 1, '11111111111111111110111111011111101': 1, '00000000000000000000000000000101010': 1, '10000000010011111111111111111111111': 1, '11111111110111111111111111100001111': 1, '00000001100011111111111111111111111': 1, '00001111110111111111111111111111101': 1, '00000001110111111111111011111111111': 1, '11111111111101111111111111101111100': 1, '11111111011111111111111111111011011': 1, '11111111111001111111111110111111111': 1, '11111111111111110111111101101011011': 1, '00001101111011111111111111111111111': 1, '00000000000000000000000000000111101': 1, '11111111110111110101111111111110111': 1, '11101111100111111111111111111111111': 1, '11111111111010110111111111111111111': 1, '11011111110111111111111011111111111': 1, '00000000000000000000111111111111111': 1, '11111111111111111111111110111111010': 1, '11111101111111110111111111011111111': 1, '00000001110111111111111111111011111': 1, '01111111111111111111111110101111111': 1, '00000000000000000000010000000000001': 1, '11111111100111111111111111011111111': 1, '11111111111111111111110111101111010': 1, '11011111111111110101111111111111011': 1, '01111111111111111111111011101111111': 1, '00001111111111111111111111111101111': 1, '11111111111111111111011111101111111': 1, '00000000000000010000000000000000001': 1, '11111111111111111111111111111010010': 1, '00000000000000000001000001001111111': 1, '11111111111111100111110111111111111': 1, '11111110111111111111111001101111111': 1, '00000000000000000011111111111011111': 1, '11111111111111110110111111111101110': 1, '00000000000000100111111111101111111': 1, '11111111111111110111111111111001110': 1, '00000000000000000000000000101111010': 1, '00000000000000000000010010101111111': 1, '01111111111111111110110111111111111': 1, '11111111111111111110001111101111111': 1, '00000000000000000001000000000000010': 1, '00000000000001000000000000111111111': 1, '11110111111111110111111011111111111': 1, '11111111110111111111111011111111010': 1, '00111111111111111111111101111111111': 1, '11101011111111111111111111111111111': 1, '01111111111111111111111111101110111': 1, '00000000000000000000000010101111011': 1, '11111111111111011111111111111101110': 1, '11111111011111111111110111110111111': 1, '11111111111111111111111101111110110': 1, '11111111111011111110111111101101111': 1, '11111111111111010111111111111101111': 1, '11111111111111110111101110101111111': 1, '11111111110011101111111111111111111': 1, '11111111111101110111111111011111111': 1, '00000111111111111111110111111111111': 1, '11111111111111110111110111111111011': 1, '11111111101110111111111111101111111': 1, '11111111111111101111111111110111011': 1, '11101111111011110111111111001111111': 1, '11101111111111111110111111111101111': 1, '00011011111111111111111111111111111': 1, '00000000000100000001001111111111111': 1, '01111111111011111111111111101110111': 1, '11111111111111111111011111111110101': 1, '11111111111111111110111011101001111': 1, '11111111111111111101111110101111110': 1, '00000000000110000000000000000001001': 1, '11111111111111111111101101101111111': 1, '11111111110111111110111111001111011': 1, '01110000000000000000000000101111111': 1, '11111111111111110111001111100111111': 1, '11111111111111111111111111000001000': 1, '01111111111111111111111101101111111': 1, '01111111011111111111111100101111111': 1, '11101111111001111111111111101111111': 1, '00000000000000001001001111101011011': 1, '11111111111001111111111101111111111': 1, '11111111111111111011111111101101111': 1, '11111111111111110111101111111110110': 1, '11101111111111111111111111111111100': 1, '11111111111111110111111111001111011': 1, '11111111111111010001111111111111111': 1, '00000111111011111111111011101111111': 1, '11111111111111111011111111101111001': 1, '01111110111111110110111111111111111': 1, '00000000000000000000000000110111010': 1, '00100000000100000000000001110111111': 1, '01111111110111111111111111010111111': 1, '01111111111111110110111111110101111': 1, '11111111111111111111111100101111111': 1, '11111111111011111011111111101111111': 1, '00000000000000000000000000010001010': 1, '00000000000100000000000000000101111': 1, '11011111111011111111111111101111110': 1, '11111111111111110011110111111111111': 1, '00000000010111111111011111111111111': 1, '00000000000000000000000010000111111': 1, '01101111011111111111111111111111111': 1, '11111111111111111101111011111111111': 1, '11111111111011111110111111111111101': 1, '11111011111111111111111110101111111': 1, '11111111111111111111111111100110110': 1, '10001111111111111111111111111111101': 1, '11111111111111111111111111101010011': 1, '00000000000111111111111111111110111': 1, '00000000010011111111110111111111111': 1, '10101111110111111111111111111111111': 1, '11111111111111111101011111111011111': 1, '11111111111111110111111111011111101': 1, '11111111111111110111111111100101110': 1, '11111111110111111111110111111011111': 1, '11011111111111111111111111111101110': 1, '11111111111110111111111111111110101': 1, '10011111111111111111111011111111011': 1, '11111110111111111111111111110111011': 1, '11111111111111011101111111111111011': 1, '11111111111111111110011111111111011': 1, '00000000000000100000000000101111111': 1, '11111011111111011111111111111111111': 1, '01111111111111110111111101111111111': 1, '00000000000000000001001110111111111': 1, '00000000000000000001001111100111111': 1, '00000000010111111111111111101011111': 1, '01011111111111111111111111111111110': 1, '11111111111111111110111101101111111': 1, '11111111111111110111111111110111101': 1, '11111111111111111111111111100001110': 1, '11111111111111111111111111001110110': 1, '11011111111111111111111111111110101': 1, '01000000000000000000000000111111111': 1, '01111111111011111111111111111011111': 1, '01011111111111111111111111111111101': 1, '11111111111111111111111100111111111': 1, '00000000000000000001111111101111111': 1, '11111011110111111111111111101111111': 1, '00000000000000010001001111111111111': 1, '11111111111111111111111111100100111': 1, '00000000000000000000000000000010111': 1, '00000000110111111111111111101111111': 1, '11111101111111111111111111111110110': 1, '11111011111111111111111111101011111': 1, '01111111100111111111111111111111111': 1, '11111111110111111011111111111111111': 1, '00000000010010111111111111111111111': 1, '11011111111111011111111111111101111': 1, '11111101111111111111111010111111111': 1, '11111111011111111111111111111101011': 1, '00000000011111111111111111111101111': 1, '11111111111111111111111001001101111': 1, '00000000000000001111111111111011111': 1, '11111111111111111111111111001010111': 1, '11111111101111111111111111011111011': 1, '01111111111111111111111111100111111': 1, '00000000000000000000000001001011111': 1, '11111111111011111111111111011111011': 1, '11101111111111011111111111111111111': 1, '10111111111111111111111111111110111': 1, '00000000000000000000000011111111011': 1, '11111111111111111111111111001101110': 1, '01111111111111111111111111111001111': 1, '11111111111111101011111111111111111': 1, '01011111111111111111111111111101111': 1, '00011111111011111111111111111111111': 1, '00000000000000000010000000110111111': 1, '11111111110111111111111111111011101': 1, '00000000000000000000100000101111111': 1, '11111111111011110110111111111111111': 1, '01011111111111111111111111111011111': 1, '01000000000000000000000000000001111': 1, '11111111110111111111111110101111111': 1, '00000000000000000100001111111111111': 1, '11111011111111111111111110111111111': 1, '11111111111111111111111000111111111': 1, '11101111101111111111111011111111111': 1, '11111111111111111111111111101111000': 1, '11111111111111110111111011010111111': 1, '00000000010101111111111111111111111': 1, '11111111111111110110111111100111111': 1, '01111111111011111111011111111111111': 1, '00000000000000000000000000100001111': 1, '01111111111111111111111001111111111': 1, '11111111111011111110011111111111111': 1, '00000000000000001110111111111111111': 1, '00000000000000000001000000000000111': 1, '00000000000000000000001111111111110': 1, '00000000010111111111111111111011111': 1, '01111111111011111111111111111101111': 1, '00000000000010000000000001111111111': 1, '00000000000000000000000011111111110': 1, '11111111111111111111011111111011110': 1, '00001111111111111110111111101111111': 1, '00000000000000001101111111111111111': 1, '11111111111111111110111111011111110': 1, '11111111111111101111111111111110110': 1, '00000001101111111111111111111111111': 1, '00000001110111111111111111101111111': 1, '11011111111011111111111111111111110': 1, '11111111111111111111111111110111110': 1, '00000000000000000010000001111111111': 1, '11111111111011111111111010111111111': 1, '00001111111111111111111111111111111': 1, '11111111111011101111111111111111110': 1, '11111111111111111011111110111111111': 1, '00000000000000000000000001001111011': 1, '01111111111111111110111111011111111': 1, '11111111111111110111011111011111111': 1, '00000000000000001001001111111111111': 1, '00000000000000000010000000000000011': 1, '11111111111001111111111111111111101': 1, '11111111110111111110111111111011111': 1, '00001111111111111111111111101111111': 1, '11111111111111011111111111101111110': 1, '11011111111111111111111001111111111': 1, '11111111111111111011111101111111111': 1, '11111111110110111111111111111111110': 1, '11111111111111111110111111111110011': 1, '00000000000000001111111111110111111': 1, '11111111111111110101111111101111111': 1, '00000000000000000000000100000000010': 1, '11111101111111111011111111111111111': 1, '11111110111111110111111111011111111': 1, '00000000000000000000000000100011111': 1, '01111111110111111111111111111110110': 1, '11111111111111111110101111111111011': 1, '11111111111111111111111111101110011': 1, '00000000000000000010000000010011111': 1, '01111111101111111111111111101111111': 1, '11111111111111111011111111011111111': 1, '11111111111111110111111111100101111': 1, '11111111111111011111111110111111111': 1, '11111111111111111111111111011110111': 1, '11111111111111111011111111111111011': 1, '11111111111111110111011111101111110': 1, '00000000000000000000000000010000100': 1, '11111111110111111111111111111111100': 1, '11011111111111110110111111111111111': 1, '11111111111111111110000111111111111': 1, '11011110111111111111111111101111111': 1, '10111111111111101111111111111111111': 1, '11111111111111111111111110101111011': 1, '00000111111111111110111111101111111': 1, '11111111111011111111011111110111111': 1, '11101111111111111111011111111111111': 1, '00000000000000000000000001110111111': 1, '00000000011111111111111111101111111': 1, '11111111111111011111111111111101111': 1, '00000000000011111111111111111011111': 1, '01111111111111111111101111101111111': 1, '01111111111111110111111111111110110': 1, '00000000000000000000000001100111111': 1, '00000000000000000000000000100101111': 1, '11111111111111110111111111011101111': 1, '11101111111111111111111011101111111': 1, '00010000000000000000000000000011111': 1, '11111111111111111111000111111101111': 1, '00000000001000001111111111111101111': 1, '11111111111111110111111111011111011': 1, '11111111111111111111111101011111111': 1, '10001111111111111111111111111101111': 1, '11111111111111111111111101111011110': 1, '11111111111011110111111111111111101': 1, '00000100000000000000000000111111111': 1, '00001000000000000000000000000101111': 1, '11111111111111111111111111111110010': 1, '01000000000000000000000000101111111': 1, '11111111100111111111111111111101111': 1, '11111110111111111111111111110111111': 1, '00000000000000000000000000010001011': 1, '10001111111111111111111111111111110': 1, '10111111111111111111111111111111101': 1, '10101111111111111111111111101111111': 1, '11101111111111111111111111111101111': 1, '11111111111111111011111111001111111': 1, '11111111111111001111111111111111111': 1, '11111111111001111111111111111011111': 1, '10111111111111111111111110111111111': 1, '11001111111111111111111111111111110': 1, '11111111110111111111111111101011111': 1, '11111111110111111111111111101111111': 1, '01011111111111111110111111111111111': 1, '00000000000000000000000010111111011': 1, '11111111111111111111111011110011111': 1, '11111111111111111111111111010111011': 1, '11111111111111011011111111111111011': 1, '00000000000000000000001111101111111': 1, '01111111001111111111111111111111111': 1, '00000000010011111111111111111111011': 1, '00000111111111110111111111101111111': 1, '11111111110111111111111111111101110': 1, '11111111110111111111111111111111010': 1, '11011111111111111110111111111111111': 1, '01111111111111111111111111110111101': 1, '01111111111111110111111111011111111': 1, '11111111111111110101111111011111111': 1, '01111111111111111111111111101111110': 1, '11111111111111111011111111111011111': 1, '01111111111111110111111111111111101': 1, '11111111111111111111011011101111110': 1, '11111111111111101111111111111110111': 1, '11001111111111111111111111101111111': 1, '11111111111011111111110111101111111': 1, '11111101111111011111111111111111111': 1, '00000000001111111111111111111111111': 1, '11111111111111111111001111111111101': 1, '11111111111111111111110111111110111': 1, '11111111011111111101111011111111111': 1, '01111111101111110111111111111111111': 1, '00000000000000001000000000100111111': 1, '00000001000000000000000000000001100': 1, '00000000000000000000001101111111111': 1, '11111111111111110110111111111101111': 1, '11111111111111011111111111111111101': 1, '11111111111011111111011011111111111': 1, '00000000000000000000000000000000110': 1, '00000000000000000111111111111111111': 1, '11111111111001111101111111111111111': 1, '11110111111111111111110111111111111': 1, '00000000000011111111111111110111111': 1, '00000000011111111111111011111111111': 1, '00000000000000000000000000000001101': 1, '01111111011111110111111111111111111': 1, '11111111111111110010111111111111111': 1, '01111111111111111111111111001111110': 1, '01011111111111110111111111111111111': 1, '11111111110111111111111011111111011': 1, '11111111111111111111011101111111111': 1, '00000111111111111111111111110111111': 1, '00000000010011111110111111111111111': 1, '11111111111111011010111111111111111': 1, '11111111111011111111111011110111111': 1, '11111111111111111111111111110001111': 1, '11111111101001111111111111111111111': 1, '11111110100111111111111111111111111': 1, '11111111111111101111110111111111111': 1, '11111111111111111111110111001111111': 1, '11111111111111100111111111111111111': 1, '00000000000010000000000010111111111': 1, '00000000000010000000000000000001011': 1, '00000000000000000000000000010001111': 1, '11111111111111101111111111001111111': 1, '11111111111111110111110111111111111': 1, '11111111011111111110111111101111111': 1, '00111111110111111111111111111111111': 1, '00000000000000001010000000101111111': 1, '11111111100111111111111111111111110': 1, '11111111111111110111111111111001111': 1, '11111111111111110111111111111101110': 1, '11110101111111111111111111111111111': 1, '11111011111111111111111111111111111': 1, '11111111111111111111110101111111111': 1, '11111111111111111111111110110011111': 1, '11111111111111101111111111101111011': 1, '10111111111111111111111111110111111': 1, '11111111011111111111111111111110111': 1, '00000000010111111111111111101111111': 1, '11111111111111110111111111101011111': 1, '00000000000000000000000110100111111': 1, '11111111111111101111111110111111111': 1, '00000000000000000001001111111101111': 1, '11111111111111111111111110011111111': 1, '11111111111111111110111011111111011': 1, '11111111101111111101111111101111111': 1, '11111111110111111111111111101111011': 1, '11111111111011111111111011111111111': 1, '11111111101111111111111111101011111': 1, '11111111111111111111111111101011011': 1, '11111111111111111111011110111111111': 1, '00000000000000000000000000000001001': 1, '11111111011111111111111101111111111': 1, '00000000000000000000001011111111111': 1, '11111111011111111111110111111111111': 1, '11111111111111111111111111001111101': 1, '01111111111111111111111101111111111': 1, '00000000000000000001001111111111110': 1, '11111111011111111111111111001111111': 1, '11111101111111111111011111111111111': 1, '11111111111111111111111111100101111': 1, '11111111111111011011111111110111111': 1, '01111111111011111111111111101111111': 1, '11111111111111111111111101111111101': 1, '00000000000001111111111111111111111': 1, '11111111111111111111111101001111111': 1, '11111111111111011111111111111011111': 1, '11111111110111111111011111111111111': 1, '11111111111111111111101110111111111': 1, '00000000000000000000000100110111111': 1, '00111111111111111111111111111101111': 1, '11111111111111011111111111111111110': 1, '00000000000000000000000000001101111': 1, '11111111111111111101111111111111010': 1, '11111111111111111101111010111111111': 1, '11111111111101111111111011110111111': 1, '00000001000000000000000000000001111': 1, '11111111111111111111011111011111111': 1, '11111111111111101111111111111101111': 1, '11111111111101111111111111111110111': 1, '11111111111111110111111111111111110': 1, '11101111111111111111111111111011111': 1, '11110111111111111111111111101111111': 1, '11110111101111111111111111111111111': 1, '11011111111111111111111111111110111': 1, '11111111111111111110011111101111111': 1, '00100000000111111111111111111111111': 1, '11110111111111111111111111011111111': 1, '11111111111111111010111111111111111': 1, '11111101111111110111111111111111111': 1, '11111111111111111111111011101011111': 1, '11111111101111111111011111111111111': 1, '11111111111111111110111011111011111': 1, '00000000000000000000000000001111110': 1, '11111111011111101111111111111111111': 1, '00000000000000000000000000101111101': 1}\n"
     ]
    }
   ],
   "source": [
    "# Get results for the first (and only) PUB\n",
    "pub_result = sampler_result[0]\n",
    "counts = pub_result.data.c.get_counts()\n",
    "\n",
    "print(f\"Counts for the meas output register: {counts}\")"
   ]
  },
  {
   "cell_type": "markdown",
   "id": "d920922e",
   "metadata": {},
   "source": [
    "**3. Plot the top bitstrings**\n",
    "\n",
    "Plot the bitstring with the highest counts to see if the hidden bitstring was the mode."
   ]
  },
  {
   "cell_type": "code",
   "execution_count": 15,
   "id": "cefa2234",
   "metadata": {},
   "outputs": [],
   "source": [
    "import matplotlib.pyplot as plt\n",
    "\n",
    "\n",
    "def plot_top_bitstrings(counts_dict, hidden_bitstring=None):\n",
    "    # Sort and take the top 100 bitstrings\n",
    "    top_100 = sorted(counts_dict.items(), key=lambda x: x[1], reverse=True)[\n",
    "        :100\n",
    "    ]\n",
    "    if not top_100:\n",
    "        print(\"No bitstrings found in the input dictionary.\")\n",
    "        return\n",
    "\n",
    "    # Unzip the bitstrings and their counts\n",
    "    bitstrings, counts = zip(*top_100)\n",
    "\n",
    "    # Assign colors: purple if the bitstring matches hidden_bitstring, otherwise gray\n",
    "    colors = [\n",
    "        \"#680CE9\" if bit == hidden_bitstring else \"gray\" for bit in bitstrings\n",
    "    ]\n",
    "\n",
    "    # Create the bar plot\n",
    "    plt.figure(figsize=(15, 8))\n",
    "    plt.bar(\n",
    "        range(len(bitstrings)), counts, tick_label=bitstrings, color=colors\n",
    "    )\n",
    "\n",
    "    # Rotate the bitstrings for better readability\n",
    "    plt.xticks(rotation=90, fontsize=8)\n",
    "    plt.xlabel(\"Bitstrings\")\n",
    "    plt.ylabel(\"Counts\")\n",
    "    plt.title(\"Top 100 Bitstrings by Counts\")\n",
    "\n",
    "    # Show the plot\n",
    "    plt.tight_layout()\n",
    "    plt.show()"
   ]
  },
  {
   "cell_type": "markdown",
   "id": "1d9d3b69",
   "metadata": {},
   "source": [
    "The hidden bitstring is highlighted in purple, and it should be the bitstring with the highest number of counts."
   ]
  },
  {
   "cell_type": "code",
   "execution_count": 16,
   "id": "8106d906",
   "metadata": {},
   "outputs": [
    {
     "data": {
      "text/plain": [
       "<Image src=\"/docs/images/guides/q-ctrl-performance-management/extracted-outputs/8106d906-0.svg\" alt=\"Output of the previous code cell\" />"
      ]
     },
     "metadata": {},
     "output_type": "display_data"
    }
   ],
   "source": [
    "plot_top_bitstrings(counts, hidden_bitstring)"
   ]
  },
  {
   "cell_type": "markdown",
   "id": "773466d6",
   "metadata": {},
   "source": [
    "### Sampler inputs\n",
    "<Admonition type=\"caution\">Fire Opal Performance Management accepts abstract circuits, in contrast to the native Qiskit Runtime primitives, which only accept circuits that are written in the target backend’s Instruction Set Architecture (ISA). For best results, do not transpile circuits before submitting via the Performance Management function. </Admonition>\n",
    "\n",
    "\n",
    "| Name       | Type            | Description | Required | Default | Example |\n",
    "|------------|---------------|------------------|----------|----------|--------------------|\n",
    "| pubs       | `QctrlSamplerPubLike` or `list[QctrlSamplerPubLike]`   | One or more tuples containing the inputs listed under `SamplerPubLike` components     | Yes      | N/A | `(circuit, parameter_values)`            |\n",
    "| backend_name| `str`  | The name of the backend | No  |  The least busy backend that your instance has access to | `\"ibm_fez\"` |\n",
    "| options| `dict`  | Input options; see Options section for more details | No  |  See the Options section for details | `{\"default_shots\": 2048}` |\n",
    "\n",
    "**`QctrlSamplerPubLike` components (derived from the [Qiskit Runtime PUB definition](/docs/guides/primitive-input-output#sampler-pub)):**\n",
    "- A single circuit defined as a `QuantumCircuit` or in OpenQASM 2.0 or 3.0 string format.\n",
    "- (Optional) A collection of parameter values to bind the circuit against.\n",
    "- (Optional) An integer representing the shot count, or a dictionary of runtime options containing the shot count. For example: `(circ, None, 123)` or `(circ, None, {\"shots\": 123})`.\n",
    "\n",
    "**Supported backends:**\n",
    "The following list of backends are currently supported. If your device is not listed, [reach out to Q-CTRL](https://form.typeform.com/to/iuujEAEI?typeform-source=q-ctrl.com) to add support.\n",
    "- ibm_brisbane\n",
    "- ibm_brussels\n",
    "- ibm_cleveland\n",
    "- ibm_fez\n",
    "- ibm_kawasaki\n",
    "- ibm_nazca\n",
    "- ibm_quebec\n",
    "- ibm_rensselaer\n",
    "- ibm_strasbourg\n",
    "- ibm_torino\n",
    "\n",
    "**Options:**\n",
    "| Name   | Type   | Description  | Default |\n",
    "|--------|----------|-----------------------|---------------------|\n",
    "| session_id | `str`  | An existing Qiskit Runtime session ID  | `\"cw4r3je6f0t010870y3g\"` |\n",
    "| default_shots | `int`  | The number of shots to use for each circuit  | `2048` |\n",
    "| job_tags | `list[str]` | The list of desired job tags | `[]` |\n",
    "\n",
    "### Sampler outputs\n",
    "| Name   | Type                                   | Description                                                                               | Example                         |\n",
    "|--------|----------------------------------------|-------------------------------------------------------------------------------------------|---------------------------------|\n",
    "| N/A | `PrimitiveResult`  | The [`PrimitiveResult`](/docs/api/qiskit/qiskit.primitives.PrimitiveResult) corresponding to the list of input PUBs | `PrimitiveResult([PubResult(data=DataBin(c=BitArray(<shape=(), num_shots=2048, num_bits=35>)), metadata={'shots': 2048})], metadata={})` |"
   ]
  },
  {
   "cell_type": "markdown",
   "id": "bb33258d",
   "metadata": {},
   "source": [
    "## Get support\n",
    "\n",
    "For any questions or issues, [contact Q-CTRL](https://form.typeform.com/to/iuujEAEI)."
   ]
  },
  {
   "cell_type": "markdown",
   "id": "2fe4a6ea",
   "metadata": {},
   "source": [
    "## Next steps\n",
    "\n",
    "<Admonition type=\"tip\" title=\"Recommendations\">\n",
    "\n",
    "- Request access to [Q-CTRL Performance Management](https://quantum.cloud.ibm.com/functions?id=q-ctrl-performance-management)\n",
    "\n",
    "</Admonition>"
   ]
  }
 ],
 "metadata": {
  "description": "Apply automated error suppression using Fire Opal Performance Management by Q-CTRL",
  "kernelspec": {
   "display_name": "Python 3",
   "language": "python",
   "name": "python3"
  },
  "language_info": {
   "codemirror_mode": {
    "name": "ipython",
    "version": 3
   },
   "file_extension": ".py",
   "mimetype": "text/x-python",
   "name": "python",
   "nbconvert_exporter": "python",
   "pygments_lexer": "ipython3",
   "version": "3"
  },
  "title": "Performance Management - A Qiskit Function by Q-CTRL Fire Opal"
 },
 "nbformat": 4,
 "nbformat_minor": 5
}
