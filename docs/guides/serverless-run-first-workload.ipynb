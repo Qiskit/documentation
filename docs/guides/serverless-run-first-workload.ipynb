{
 "cells": [
  {
   "cell_type": "markdown",
   "id": "6ec2a7ce-6d72-401c-aecd-59f2f519153a",
   "metadata": {},
   "source": [
    "# Run your first Qiskit Serverless workload remotely"
   ]
  },
  {
   "cell_type": "markdown",
   "id": "1ffb4bbc-6702-4424-bc38-226eb3194a07",
   "metadata": {
    "tags": [
     "version-info"
    ]
   },
   "source": [
    "<details>\n",
    "<summary><b>Package versions</b></summary>\n",
    "\n",
    "The code on this page was developed using the following requirements.\n",
    "We recommend using these versions or newer.\n",
    "\n",
    "```\n",
    "qiskit[all]~=1.2.4\n",
    "qiskit-ibm-runtime~=0.33.2\n",
    "qiskit-aer~=0.15.1\n",
    "qiskit-serverless~=0.18.0\n",
    "qiskit-ibm-catalog~=0.2\n",
    "qiskit-addon-sqd~=0.8.0\n",
    "qiskit-addon-utils~=0.1.0\n",
    "qiskit-addon-aqc-tensor~=0.1.2\n",
    "qiskit-addon-obp~=0.1.0\n",
    "scipy~=1.14.1\n",
    "pyscf~=2.7.0\n",
    "```\n",
    "</details>"
   ]
  },
  {
   "cell_type": "markdown",
   "id": "33bc7389-22b7-4ddd-ae7d-1c4fd603d793",
   "metadata": {},
   "source": [
    "This section explores how to use `qiskit-ibm-catalog` to list programs available in Qiskit Serverless, pass inputs into these programs, run them remotely, check their status, and retrieve results and logs.\n",
    "\n",
    "Be sure you have authenticated to Qiskit Serverless with your [IBM Quantum account](https://quantum.ibm.com/account) (see [Deploy to IBM Quantum Platform](./serverless-first-program#deploy-to-ibm-quantum-platform) for instructions)."
   ]
  },
  {
   "cell_type": "markdown",
   "id": "ec693d85-baaf-487e-aaff-3867512a4790",
   "metadata": {},
   "source": [
    "## List programs available\n",
    "\n",
    "You can use `QiskitServerless.list()` to fetch a list of the available programs to run with Qiskit Serverless. This includes the previously uploaded [`transpile_remote_serverless`](./serverless-first-program)."
   ]
  },
  {
   "cell_type": "code",
   "execution_count": 1,
   "id": "4eaad0dc-9b42-48fa-ad08-4e0f9c4d90bc",
   "metadata": {},
   "outputs": [
    {
     "data": {
      "text/plain": [
       "QiskitFunction(transpile_remote_serverless)"
      ]
     },
     "execution_count": 1,
     "metadata": {},
     "output_type": "execute_result"
    }
   ],
   "source": [
    "from qiskit_ibm_catalog import QiskitServerless\n",
    "\n",
    "serverless = QiskitServerless()\n",
    "next(\n",
    "    program\n",
    "    for program in serverless.list()\n",
    "    if program.title == \"transpile_remote_serverless\"\n",
    ")"
   ]
  },
  {
   "cell_type": "markdown",
   "id": "e1a5d0f7-e4d9-4289-ac87-ca25e76f968d",
   "metadata": {},
   "source": [
    "## Run an uploaded program and pass inputs\n",
    "\n",
    "First, set up your inputs. Your program has three inputs: `circuits`, `backend`, and `optimization_level`. You can use `random_circuit` to create 30 random circuits:"
   ]
  },
  {
   "cell_type": "code",
   "execution_count": 2,
   "id": "46108a95-11f8-4ecf-83bb-131c3e7ea4c2",
   "metadata": {},
   "outputs": [
    {
     "data": {
      "image/svg+xml": [
       "<?xml version=\"1.0\" encoding=\"UTF-8\"?><!DOCTYPE svg  PUBLIC '-//W3C//DTD SVG 1.1//EN'  'http://www.w3.org/Graphics/SVG/1.1/DTD/svg11.dtd'><svg width=\"590.97pt\" height=\"264.71pt\" version=\"1.1\" viewBox=\"0 0 590.97 264.71\" xmlns=\"http://www.w3.org/2000/svg\" xmlns:xlink=\"http://www.w3.org/1999/xlink\"><defs><style type=\"text/css\">*{stroke-linejoin: round; stroke-linecap: butt}</style></defs><path d=\"m0 264.71h590.97v-264.71h-590.97z\" fill=\"#ffffff\"/><path d=\"m64.609 44.283h514.53\" clip-path=\"url(#09b99c31b18)\" fill=\"none\" stroke=\"#000000\" stroke-linecap=\"square\" stroke-width=\"2\"/><path d=\"m64.609 90.637h514.53\" clip-path=\"url(#09b99c31b18)\" fill=\"none\" stroke=\"#000000\" stroke-linecap=\"square\" stroke-width=\"2\"/><path d=\"m64.609 136.99h514.53\" clip-path=\"url(#09b99c31b18)\" fill=\"none\" stroke=\"#000000\" stroke-linecap=\"square\" stroke-width=\"2\"/><path d=\"m64.609 183.35h514.53\" clip-path=\"url(#09b99c31b18)\" fill=\"none\" stroke=\"#000000\" stroke-linecap=\"square\" stroke-width=\"2\"/><path d=\"m73.88 234.33 4.6354-9.2708\" clip-path=\"url(#09b99c31b18)\" fill=\"none\" stroke=\"#778899\" stroke-linecap=\"square\"/><path d=\"m64.609 228.19h514.53\" clip-path=\"url(#09b99c31b18)\" fill=\"none\" stroke=\"#778899\" stroke-linecap=\"square\" stroke-width=\"2\"/><path d=\"m64.609 231.21h514.53\" clip-path=\"url(#09b99c31b18)\" fill=\"none\" stroke=\"#778899\" stroke-linecap=\"square\" stroke-width=\"2\"/><path d=\"m408.09 219.15h12.052l-6.026 8.6914z\" clip-path=\"url(#09b99c31b18)\" fill=\"#778899\"/><path d=\"m454.45 219.15h12.052l-6.026 8.6914z\" clip-path=\"url(#09b99c31b18)\" fill=\"#778899\"/><path d=\"m500.8 219.15h12.052l-6.026 8.6914z\" clip-path=\"url(#09b99c31b18)\" fill=\"#778899\"/><path d=\"m547.15 219.15h12.052l-6.026 8.6914z\" clip-path=\"url(#09b99c31b18)\" fill=\"#778899\"/><path d=\"m59.974 21.106h-1158.8v278.12h1158.8z\" clip-path=\"url(#09b99c31b18)\" fill=\"#ffffff\" stroke=\"#ffffff\" stroke-width=\"1.5\"/><path d=\"m89.64 90.637v-46.354\" clip-path=\"url(#09b99c31b18)\" fill=\"none\" stroke=\"#9f1853\" stroke-linecap=\"square\" stroke-width=\"2\"/><path d=\"m415.62 44.283v174.87\" clip-path=\"url(#09b99c31b18)\" fill=\"none\" stroke=\"#778899\" stroke-linecap=\"square\" stroke-width=\"2\"/><path d=\"m412.61 44.283v174.87\" clip-path=\"url(#09b99c31b18)\" fill=\"none\" stroke=\"#778899\" stroke-linecap=\"square\" stroke-width=\"2\"/><path d=\"m461.98 90.637v128.52\" clip-path=\"url(#09b99c31b18)\" fill=\"none\" stroke=\"#778899\" stroke-linecap=\"square\" stroke-width=\"2\"/><path d=\"m458.97 90.637v128.52\" clip-path=\"url(#09b99c31b18)\" fill=\"none\" stroke=\"#778899\" stroke-linecap=\"square\" stroke-width=\"2\"/><path d=\"m508.33 136.99v82.162\" clip-path=\"url(#09b99c31b18)\" fill=\"none\" stroke=\"#778899\" stroke-linecap=\"square\" stroke-width=\"2\"/><path d=\"m505.32 136.99v82.162\" clip-path=\"url(#09b99c31b18)\" fill=\"none\" stroke=\"#778899\" stroke-linecap=\"square\" stroke-width=\"2\"/><path d=\"m554.69 183.35v35.808\" clip-path=\"url(#09b99c31b18)\" fill=\"none\" stroke=\"#778899\" stroke-linecap=\"square\" stroke-width=\"2\"/><path d=\"m551.67 183.35v35.808\" clip-path=\"url(#09b99c31b18)\" fill=\"none\" stroke=\"#778899\" stroke-linecap=\"square\" stroke-width=\"2\"/><path d=\"m70.434 198.41h38.414v-76.484h-38.414z\" clip-path=\"url(#09b99c31b18)\" fill=\"#9f1853\" stroke=\"#9f1853\" stroke-width=\"1.5\"/><path d=\"m89.64 48.803c1.1986 0 2.3482-0.4762 3.1958-1.3237 0.84753-0.84753 1.3237-1.9972 1.3237-3.1958 0-1.1986-0.4762-2.3482-1.3237-3.1958-0.84753-0.84753-1.9972-1.3237-3.1958-1.3237-1.1986 0-2.3482 0.4762-3.1958 1.3237-0.84753 0.84753-1.3237 1.9972-1.3237 3.1958 0 1.1986 0.4762 2.3482 1.3237 3.1958 0.84753 0.84753 1.9972 1.3237 3.1958 1.3237z\" clip-path=\"url(#09b99c31b18)\" fill=\"#9f1853\" stroke=\"#9f1853\" stroke-width=\"1.5\"/><path d=\"m74.575 105.7h30.13v-30.13h-30.13z\" clip-path=\"url(#09b99c31b18)\" fill=\"#9f1853\" stroke=\"#9f1853\" stroke-width=\"1.5\"/><path d=\"m144.11 105.7h30.13v-30.13h-30.13z\" clip-path=\"url(#09b99c31b18)\" fill=\"#002d9c\" stroke=\"#002d9c\" stroke-width=\"1.5\"/><path d=\"m125.05 198.41h68.252v-76.484h-68.252z\" clip-path=\"url(#09b99c31b18)\" fill=\"#9f1853\" stroke=\"#9f1853\" stroke-width=\"1.5\"/><path d=\"m144.11 59.348h30.13v-30.13h-30.13z\" clip-path=\"url(#09b99c31b18)\" fill=\"#9f1853\" stroke=\"#9f1853\" stroke-width=\"1.5\"/><path d=\"m210.56 198.41h36.291v-169.19h-36.291z\" clip-path=\"url(#09b99c31b18)\" fill=\"#002d9c\" stroke=\"#002d9c\" stroke-width=\"1.5\"/><path d=\"m259.99 152.06h30.13v-30.13h-30.13z\" clip-path=\"url(#09b99c31b18)\" fill=\"#9f1853\" stroke=\"#9f1853\" stroke-width=\"1.5\"/><path d=\"m259.99 105.7h30.13v-30.13h-30.13z\" clip-path=\"url(#09b99c31b18)\" fill=\"#33b1ff\" stroke=\"#33b1ff\" stroke-width=\"1.5\"/><path d=\"m259.99 59.348h30.13v-30.13h-30.13z\" clip-path=\"url(#09b99c31b18)\" fill=\"#33b1ff\" stroke=\"#33b1ff\" stroke-width=\"1.5\"/><path d=\"m323.16 198.41h42.859v-122.84h-42.859z\" clip-path=\"url(#09b99c31b18)\" fill=\"#9f1853\" stroke=\"#9f1853\" stroke-width=\"1.5\"/><path d=\"m399.05 59.348h30.13v-30.13h-30.13z\" clip-path=\"url(#09b99c31b18)\" fill=\"#a8a8a8\" stroke=\"#a8a8a8\" stroke-width=\"1.5\"/><path d=\"m424.66 48.803c0-2.7958-1.1118-5.4799-3.0887-7.4568s-4.661-3.0887-7.4568-3.0887-5.4799 1.1118-7.4568 3.0887-3.0887 4.661-3.0887 7.4568\" clip-path=\"url(#09b99c31b18)\" fill=\"none\" stroke=\"#000000\" stroke-width=\"2\"/><path d=\"m414.12 48.803 10.546-10.546\" clip-path=\"url(#09b99c31b18)\" fill=\"none\" stroke=\"#000000\" stroke-linecap=\"square\" stroke-width=\"2\"/><path d=\"m445.41 105.7h30.13v-30.13h-30.13z\" clip-path=\"url(#09b99c31b18)\" fill=\"#a8a8a8\" stroke=\"#a8a8a8\" stroke-width=\"1.5\"/><path d=\"m471.02 95.157c0-2.7958-1.1118-5.4799-3.0887-7.4568s-4.661-3.0887-7.4568-3.0887-5.4799 1.1118-7.4568 3.0887-3.0887 4.661-3.0887 7.4568\" clip-path=\"url(#09b99c31b18)\" fill=\"none\" stroke=\"#000000\" stroke-width=\"2\"/><path d=\"m460.47 95.157 10.546-10.546\" clip-path=\"url(#09b99c31b18)\" fill=\"none\" stroke=\"#000000\" stroke-linecap=\"square\" stroke-width=\"2\"/><path d=\"m491.76 152.06h30.13v-30.13h-30.13z\" clip-path=\"url(#09b99c31b18)\" fill=\"#a8a8a8\" stroke=\"#a8a8a8\" stroke-width=\"1.5\"/><path d=\"m517.37 141.51c0-2.7958-1.1118-5.4799-3.0887-7.4568s-4.661-3.0887-7.4568-3.0887-5.4799 1.1118-7.4568 3.0887-3.0887 4.661-3.0887 7.4568\" clip-path=\"url(#09b99c31b18)\" fill=\"none\" stroke=\"#000000\" stroke-width=\"2\"/><path d=\"m506.83 141.51 10.546-10.546\" clip-path=\"url(#09b99c31b18)\" fill=\"none\" stroke=\"#000000\" stroke-linecap=\"square\" stroke-width=\"2\"/><path d=\"m538.12 198.41h30.13v-30.13h-30.13z\" clip-path=\"url(#09b99c31b18)\" fill=\"#a8a8a8\" stroke=\"#a8a8a8\" stroke-width=\"1.5\"/><path d=\"m563.73 187.86c0-2.7958-1.1118-5.4799-3.0887-7.4568s-4.661-3.0887-7.4568-3.0887-5.4799 1.1118-7.4568 3.0887-3.0887 4.661-3.0887 7.4568\" clip-path=\"url(#09b99c31b18)\" fill=\"none\" stroke=\"#000000\" stroke-width=\"2\"/><path d=\"m553.18 187.86 10.546-10.546\" clip-path=\"url(#09b99c31b18)\" fill=\"none\" stroke=\"#000000\" stroke-linecap=\"square\" stroke-width=\"2\"/><g clip-path=\"url(#09b99c31b18)\"><g transform=\"translate(37.301 48.734) scale(.1625 -.1625)\"><defs><path id=\"DejaVuSans-Oblique-71\" transform=\"scale(.015625)\" d=\"m2669 525q-231-303-546-460-314-156-695-156-531 0-833 358-301 358-301 986 0 506 186 978t533 847q225 244 517 375t614 131q387 0 637-153t363-462l100 525h578l-934-4813h-579l360 1844zm-1778 813q0-463 193-705 194-242 560-242 544 0 928 520t384 1264q0 450-199 689-198 239-569 239-272 0-504-127-231-126-403-370-181-256-286-600-104-343-104-668z\"/><path id=\"DejaVuSans-30\" transform=\"scale(.015625)\" d=\"m2034 4250q-487 0-733-480-245-479-245-1442 0-959 245-1439 246-480 733-480 491 0 736 480 246 480 246 1439 0 963-246 1442-245 480-736 480zm0 500q785 0 1199-621 414-620 414-1801 0-1178-414-1799-414-620-1199-620-784 0-1198 620-414 621-414 1799 0 1181 414 1801 414 621 1198 621z\"/></defs><use xlink:href=\"#DejaVuSans-Oblique-71\"/><use transform=\"translate(63.477 -16.406) scale(.7)\" xlink:href=\"#DejaVuSans-30\"/></g></g><g clip-path=\"url(#09b99c31b18)\"><g transform=\"translate(37.301 95.088) scale(.1625 -.1625)\"><defs><path id=\"DejaVuSans-31\" transform=\"scale(.015625)\" d=\"m794 531h1031v3560l-1122-225v575l1116 225h631v-4135h1031v-531h-2687v531z\"/></defs><use xlink:href=\"#DejaVuSans-Oblique-71\"/><use transform=\"translate(63.477 -16.406) scale(.7)\" xlink:href=\"#DejaVuSans-31\"/></g></g><g clip-path=\"url(#09b99c31b18)\"><g transform=\"translate(37.301 141.44) scale(.1625 -.1625)\"><defs><path id=\"DejaVuSans-32\" transform=\"scale(.015625)\" d=\"m1228 531h2203v-531h-2962v531q359 372 979 998 621 627 780 809 303 340 423 576 121 236 121 464 0 372-261 606-261 235-680 235-297 0-627-103-329-103-704-313v638q381 153 712 231 332 78 607 78 725 0 1156-363 431-362 431-968 0-288-108-546-107-257-392-607-78-91-497-524-418-433-1181-1211z\"/></defs><use xlink:href=\"#DejaVuSans-Oblique-71\"/><use transform=\"translate(63.477 -16.406) scale(.7)\" xlink:href=\"#DejaVuSans-32\"/></g></g><g clip-path=\"url(#09b99c31b18)\"><g transform=\"translate(37.301 187.8) scale(.1625 -.1625)\"><defs><path id=\"DejaVuSans-33\" transform=\"scale(.015625)\" d=\"m2597 2516q453-97 707-404 255-306 255-756 0-690-475-1069-475-378-1350-378-293 0-604 58t-642 174v609q262-153 574-231 313-78 654-78 593 0 904 234t311 681q0 413-289 645-289 233-804 233h-544v519h569q465 0 712 186t247 536q0 359-255 551-254 193-729 193-260 0-557-57-297-56-653-174v562q360 100 674 150t592 50q719 0 1137-327 419-326 419-882 0-388-222-655t-631-370z\"/></defs><use xlink:href=\"#DejaVuSans-Oblique-71\"/><use transform=\"translate(63.477 -16.406) scale(.7)\" xlink:href=\"#DejaVuSans-33\"/></g></g><g clip-path=\"url(#09b99c31b18)\"><g transform=\"translate(69.245 222.9) scale(.104 -.104)\"><defs><path id=\"DejaVuSans-34\" transform=\"scale(.015625)\" d=\"m2419 4116-1594-2491h1594v2491zm-166 550h794v-3041h666v-525h-666v-1100h-628v1100h-2106v609l1940 2957z\"/></defs><use xlink:href=\"#DejaVuSans-34\"/></g></g><g clip-path=\"url(#09b99c31b18)\"><g transform=\"translate(46.403 234.18) scale(.1625 -.1625)\"><defs><path id=\"DejaVuSans-63\" transform=\"scale(.015625)\" d=\"m3122 3366v-538q-244 135-489 202t-495 67q-560 0-870-355-309-354-309-995t309-996q310-354 870-354 250 0 495 67t489 202v-532q-241-112-499-168-257-57-548-57-791 0-1257 497-465 497-465 1341 0 856 470 1346 471 491 1290 491 265 0 518-55 253-54 491-163z\"/></defs><use xlink:href=\"#DejaVuSans-63\"/></g></g><g clip-path=\"url(#09b99c31b18)\"><g transform=\"translate(73.678 140.58) scale(.13 -.13)\" fill=\"#ffffff\"><use xlink:href=\"#DejaVuSans-30\"/></g></g><g clip-path=\"url(#09b99c31b18)\"><g transform=\"translate(73.678 186.93) scale(.13 -.13)\" fill=\"#ffffff\"><use xlink:href=\"#DejaVuSans-31\"/></g></g><g clip-path=\"url(#09b99c31b18)\"><g transform=\"translate(85.833 170.26) scale(.08 -.08)\" fill=\"#ffffff\"><defs><path id=\"DejaVuSans-2e\" transform=\"scale(.015625)\" d=\"m684 794h660v-794h-660v794z\"/></defs><use xlink:href=\"#DejaVuSans-33\"/><use x=\"63.623047\" xlink:href=\"#DejaVuSans-2e\"/><use x=\"95.410156\" xlink:href=\"#DejaVuSans-34\"/><use x=\"159.033203\" xlink:href=\"#DejaVuSans-32\"/></g></g><g clip-path=\"url(#09b99c31b18)\"><g transform=\"translate(83.689 156.34) scale(.13 -.13)\" fill=\"#ffffff\"><defs><path id=\"DejaVuSans-52\" transform=\"scale(.015625)\" d=\"m2841 2188q203-69 395-294t386-619l641-1275h-679l-596 1197q-232 469-449 622t-592 153h-688v-1972h-631v4666h1425q800 0 1194-335 394-334 394-1009 0-441-205-732-205-290-595-402zm-1582 1959v-1656h794q456 0 689 211t233 620-233 617-689 208h-794z\"/><path id=\"DejaVuSans-5a\" transform=\"scale(.015625)\" d=\"m359 4666h3666v-482l-2950-3653h3022v-531h-3809v481l2950 3653h-2879v532z\"/><path id=\"DejaVuSans-58\" transform=\"scale(.015625)\" d=\"m403 4666h678l1160-1735 1165 1735h678l-1500-2241 1600-2425h-678l-1312 1984-1322-1984h-681l1665 2491-1453 2175z\"/></defs><use transform=\"translate(0 .09375)\" xlink:href=\"#DejaVuSans-52\"/><use transform=\"translate(70.439 -16.312) scale(.7)\" xlink:href=\"#DejaVuSans-5a\"/><use transform=\"translate(118.39 -16.312) scale(.7)\" xlink:href=\"#DejaVuSans-58\"/></g></g><g clip-path=\"url(#09b99c31b18)\"><g transform=\"translate(85.514 94.224) scale(.13 -.13)\" fill=\"#ffffff\"><defs><path id=\"DejaVuSans-53\" transform=\"scale(.015625)\" d=\"m3425 4513v-616q-359 172-678 256-319 85-616 85-515 0-795-200t-280-569q0-310 186-468 186-157 705-254l381-78q706-135 1042-474t336-907q0-679-455-1029-454-350-1332-350-331 0-705 75-373 75-773 222v650q384-215 753-325 369-109 725-109 540 0 834 212 294 213 294 607 0 343-211 537t-692 291l-385 75q-706 140-1022 440-315 300-315 835 0 619 436 975t1201 356q329 0 669-60 341-59 697-177z\"/></defs><use xlink:href=\"#DejaVuSans-53\"/></g></g><g clip-path=\"url(#09b99c31b18)\"><g transform=\"translate(157.22 94.224) scale(.13 -.13)\" fill=\"#ffffff\"><defs><path id=\"DejaVuSans-49\" transform=\"scale(.015625)\" d=\"m628 4666h631v-4666h-631v4666z\"/></defs><use transform=\"translate(0 .09375)\" xlink:href=\"#DejaVuSans-49\"/></g></g><g clip-path=\"url(#09b99c31b18)\"><g transform=\"translate(128.29 140.58) scale(.13 -.13)\" fill=\"#ffffff\"><use xlink:href=\"#DejaVuSans-30\"/></g></g><g clip-path=\"url(#09b99c31b18)\"><g transform=\"translate(128.29 186.93) scale(.13 -.13)\" fill=\"#ffffff\"><use xlink:href=\"#DejaVuSans-31\"/></g></g><g clip-path=\"url(#09b99c31b18)\"><g transform=\"translate(146.46 170.26) scale(.08 -.08)\" fill=\"#ffffff\"><defs><path id=\"DejaVuSans-2c\" transform=\"scale(.015625)\" d=\"m750 794h659v-538l-512-1e3h-403l256 1e3v538z\"/><path id=\"DejaVuSans-35\" transform=\"scale(.015625)\" d=\"m691 4666h2478v-532h-1900v-1143q137 47 274 70 138 23 276 23 781 0 1237-428 457-428 457-1159 0-753-469-1171-469-417-1322-417-294 0-599 50-304 50-629 150v635q281-153 581-228t634-75q541 0 856 284 316 284 316 772 0 487-316 771-315 285-856 285-253 0-505-56-251-56-513-175v2344z\"/></defs><use xlink:href=\"#DejaVuSans-31\"/><use x=\"63.623047\" xlink:href=\"#DejaVuSans-2e\"/><use x=\"95.410156\" xlink:href=\"#DejaVuSans-31\"/><use x=\"159.033203\" xlink:href=\"#DejaVuSans-2c\"/><use x=\"190.820312\" xlink:href=\"#DejaVuSans-20\"/><use x=\"222.607422\" xlink:href=\"#DejaVuSans-35\"/><use x=\"286.230469\" xlink:href=\"#DejaVuSans-2e\"/><use x=\"318.017578\" xlink:href=\"#DejaVuSans-34\"/><use x=\"381.640625\" xlink:href=\"#DejaVuSans-32\"/></g></g><g clip-path=\"url(#09b99c31b18)\"><g transform=\"translate(136.91 156.34) scale(.13 -.13)\" fill=\"#ffffff\"><defs><path id=\"DejaVuSans-28\" transform=\"scale(.015625)\" d=\"m1984 4856q-418-718-622-1422-203-703-203-1425 0-721 205-1429t620-1424h-500q-468 735-701 1444t-233 1409q0 697 231 1403 232 707 703 1444h500z\"/><path id=\"DejaVuSans-2b\" transform=\"scale(.015625)\" d=\"m2944 4013v-1741h1740v-531h-1740v-1741h-525v1741h-1741v531h1741v1741h525z\"/><path id=\"DejaVuSans-59\" transform=\"scale(.015625)\" d=\"m-13 4666h679l1293-1919 1285 1919h678l-1650-2444v-2222h-634v2222l-1651 2444z\"/><path id=\"DejaVuSans-29\" transform=\"scale(.015625)\" d=\"m513 4856h500q468-737 701-1444 233-706 233-1403 0-700-233-1409t-701-1444h-500q415 716 620 1424t205 1429q0 722-205 1425-205 704-620 1422z\"/></defs><use xlink:href=\"#DejaVuSans-28\"/><use x=\"39.013672\" xlink:href=\"#DejaVuSans-58\"/><use x=\"107.519531\" xlink:href=\"#DejaVuSans-58\"/><use x=\"176.025391\" xlink:href=\"#DejaVuSans-2b\"/><use x=\"259.814453\" xlink:href=\"#DejaVuSans-59\"/><use x=\"320.898438\" xlink:href=\"#DejaVuSans-59\"/><use x=\"381.982422\" xlink:href=\"#DejaVuSans-29\"/></g></g><g clip-path=\"url(#09b99c31b18)\"><g transform=\"translate(149.16 48.73) scale(.13 -.13)\" fill=\"#ffffff\"><defs><path id=\"STIXSizeOneSym-Regular-221a\" transform=\"scale(.015625)\" d=\"m6970 9933-3597-11821h-269l-1478 4806q-71 231-161 333-89 103-236 103-218 0-435-173l-77 128 1049 806h160l1453-4717h26l3200 10535h365z\"/></defs><use transform=\"translate(0 17.094) scale(.56391)\" xlink:href=\"#STIXSizeOneSym-Regular-221a\"/><use transform=\"translate(72.088 .84375)\" xlink:href=\"#DejaVuSans-58\"/><path d=\"m59.588 97.5v6.25h93.506v-6.25h-93.506z\"/></g></g><g clip-path=\"url(#09b99c31b18)\"><g transform=\"translate(213.8 186.93) scale(.13 -.13)\" fill=\"#ffffff\"><use xlink:href=\"#DejaVuSans-30\"/></g></g><g clip-path=\"url(#09b99c31b18)\"><g transform=\"translate(213.8 47.87) scale(.13 -.13)\" fill=\"#ffffff\"><use xlink:href=\"#DejaVuSans-31\"/></g></g><g clip-path=\"url(#09b99c31b18)\"><g transform=\"translate(221.38 117.4) scale(.13 -.13)\" fill=\"#ffffff\"><defs><path id=\"DejaVuSans-44\" transform=\"scale(.015625)\" d=\"m1259 4147v-3628h763q966 0 1414 437 448 438 448 1382 0 937-448 1373t-1414 436h-763zm-631 519h1297q1356 0 1990-564 635-564 635-1764 0-1207-638-1773-637-565-1987-565h-1297v4666z\"/><path id=\"DejaVuSans-78\" transform=\"scale(.015625)\" d=\"m3513 3500-1266-1703 1331-1797h-678l-1019 1375-1018-1375h-679l1360 1831-1244 1669h678l928-1247 928 1247h679z\"/></defs><use xlink:href=\"#DejaVuSans-44\"/><use x=\"77.001953\" xlink:href=\"#DejaVuSans-63\"/><use x=\"131.982422\" xlink:href=\"#DejaVuSans-78\"/></g></g><g clip-path=\"url(#09b99c31b18)\"><g transform=\"translate(265.05 141.44) scale(.13 -.13)\" fill=\"#ffffff\"><use transform=\"translate(0 17.094) scale(.56391)\" xlink:href=\"#STIXSizeOneSym-Regular-221a\"/><use transform=\"translate(72.088 .84375)\" xlink:href=\"#DejaVuSans-58\"/><path d=\"m59.588 97.5v6.25h93.506v-6.25h-93.506z\"/></g></g><g clip-path=\"url(#09b99c31b18)\"><g transform=\"translate(266.15 101.88) scale(.08 -.08)\"><defs><path id=\"DejaVuSans-37\" transform=\"scale(.015625)\" d=\"m525 4666h3e3v-269l-1694-4397h-659l1594 4134h-2241v532z\"/></defs><use xlink:href=\"#DejaVuSans-34\"/><use x=\"63.623047\" xlink:href=\"#DejaVuSans-2e\"/><use x=\"95.410156\" xlink:href=\"#DejaVuSans-30\"/><use x=\"159.033203\" xlink:href=\"#DejaVuSans-37\"/></g></g><g clip-path=\"url(#09b99c31b18)\"><g transform=\"translate(271.14 89.705) scale(.13 -.13)\"><defs><path id=\"DejaVuSans-50\" transform=\"scale(.015625)\" d=\"m1259 4147v-1753h794q441 0 681 228 241 228 241 650 0 419-241 647-240 228-681 228h-794zm-631 519h1425q785 0 1186-355 402-355 402-1039 0-691-402-1044-401-353-1186-353h-794v-1875h-631v4666z\"/></defs><use xlink:href=\"#DejaVuSans-50\"/></g></g><g clip-path=\"url(#09b99c31b18)\"><g transform=\"translate(270.6 47.87) scale(.13 -.13)\"><use xlink:href=\"#DejaVuSans-5a\"/></g></g><g clip-path=\"url(#09b99c31b18)\"><g transform=\"translate(326.4 186.93) scale(.13 -.13)\" fill=\"#ffffff\"><use xlink:href=\"#DejaVuSans-30\"/></g></g><g clip-path=\"url(#09b99c31b18)\"><g transform=\"translate(326.4 94.224) scale(.13 -.13)\" fill=\"#ffffff\"><use xlink:href=\"#DejaVuSans-31\"/></g></g><g clip-path=\"url(#09b99c31b18)\"><g transform=\"translate(326.4 140.58) scale(.13 -.13)\" fill=\"#ffffff\"><use xlink:href=\"#DejaVuSans-32\"/></g></g><g clip-path=\"url(#09b99c31b18)\"><g transform=\"translate(334.17 140.58) scale(.13 -.13)\" fill=\"#ffffff\"><use xlink:href=\"#DejaVuSans-52\"/><use x=\"69.482422\" xlink:href=\"#DejaVuSans-63\"/><use x=\"124.462891\" xlink:href=\"#DejaVuSans-63\"/><use x=\"179.443359\" xlink:href=\"#DejaVuSans-78\"/></g></g><g clip-path=\"url(#09b99c31b18)\"><g transform=\"translate(425.71 222.9) scale(.104 -.104)\"><use xlink:href=\"#DejaVuSans-30\"/></g></g><g clip-path=\"url(#09b99c31b18)\"><g transform=\"translate(472.06 222.9) scale(.104 -.104)\"><use xlink:href=\"#DejaVuSans-31\"/></g></g><g clip-path=\"url(#09b99c31b18)\"><g transform=\"translate(518.41 222.9) scale(.104 -.104)\"><use xlink:href=\"#DejaVuSans-32\"/></g></g><g clip-path=\"url(#09b99c31b18)\"><g transform=\"translate(564.77 222.9) scale(.104 -.104)\"><use xlink:href=\"#DejaVuSans-33\"/></g></g><defs><clipPath id=\"09b99c31b18\"><rect x=\"7.2\" y=\"7.2\" width=\"576.57\" height=\"250.31\"/></clipPath></defs></svg>"
      ],
      "text/plain": [
       "<Figure size 1040x451.5 with 1 Axes>"
      ]
     },
     "execution_count": 2,
     "metadata": {},
     "output_type": "execute_result"
    }
   ],
   "source": [
    "from qiskit.circuit.random import random_circuit\n",
    "\n",
    "qc_random = [(random_circuit(4, 4, measure=True, seed=i)) for i in range(10)]\n",
    "qc_random[0].draw(output=\"mpl\", idle_wires=False)"
   ]
  },
  {
   "cell_type": "markdown",
   "id": "61c17ded-b832-4db1-ba9a-60772362daea",
   "metadata": {},
   "source": [
    "Next, use `QiskitRuntimeService` and `least_busy` to select a `backend`:"
   ]
  },
  {
   "cell_type": "code",
   "execution_count": null,
   "id": "ebefb5ac-c8a8-4350-b16f-0677f0e412e5",
   "metadata": {},
   "outputs": [
    {
     "name": "stdout",
     "output_type": "stream",
     "text": [
      "ibm_sherbrooke\n"
     ]
    }
   ],
   "source": [
    "from qiskit_ibm_runtime import QiskitRuntimeService\n",
    "\n",
    "# If you have not previously saved your credentials, follow instructions at\n",
    "# https://docs.quantum.ibm.com/guides/setup-channel#iqp\n",
    "# to authenticate with your API token.\n",
    "service = QiskitRuntimeService()\n",
    "backend = service.least_busy(operational=True, simulator=False)\n",
    "print(backend.name)"
   ]
  },
  {
   "cell_type": "markdown",
   "id": "6a6ba35b-b98b-41b1-8dd4-c7cf2fc8b637",
   "metadata": {},
   "source": [
    "Set your optimization level:"
   ]
  },
  {
   "cell_type": "code",
   "execution_count": 4,
   "id": "cab2773b-f72a-49fe-a274-169a10e89c5e",
   "metadata": {},
   "outputs": [],
   "source": [
    "optimization_level = 3"
   ]
  },
  {
   "cell_type": "markdown",
   "id": "f522b54f-93e5-45e9-9dc7-a2287eb4c707",
   "metadata": {},
   "source": [
    "Select your program with `serverless.load('PROGRAM_NAME')`:"
   ]
  },
  {
   "cell_type": "code",
   "execution_count": 5,
   "id": "e9b7e7c1-07b1-4777-bb08-1522433901c6",
   "metadata": {},
   "outputs": [],
   "source": [
    "transpile_remote_serverless = serverless.load(\"transpile_remote_serverless\")"
   ]
  },
  {
   "cell_type": "markdown",
   "id": "8e256a2a-6b14-4194-8fee-df986c7ebc6c",
   "metadata": {},
   "source": [
    "Next, pass your inputs and run it in a pythonic fashion as follows:"
   ]
  },
  {
   "cell_type": "code",
   "execution_count": 6,
   "id": "85b1aace-e7d7-4e2e-bb77-44fb514d0236",
   "metadata": {},
   "outputs": [],
   "source": [
    "job = transpile_remote_serverless.run(\n",
    "    circuits=qc_random,\n",
    "    backend=backend.name,\n",
    "    optimization_level=optimization_level,\n",
    ")"
   ]
  },
  {
   "cell_type": "code",
   "execution_count": 7,
   "id": "2e8b4ec2-b7e3-4218-8742-b67f2a1d82e0",
   "metadata": {},
   "outputs": [
    {
     "data": {
      "text/plain": [
       "'ecee85e7-ef3b-4545-90fb-8dcf48405560'"
      ]
     },
     "execution_count": 7,
     "metadata": {},
     "output_type": "execute_result"
    }
   ],
   "source": [
    "job.job_id"
   ]
  },
  {
   "cell_type": "markdown",
   "id": "87dbb375-cd24-4d0f-a2fc-c653db8345e3",
   "metadata": {},
   "source": [
    "## Check job status\n",
    "\n",
    "With your Qiskit Serverless `job_id`, you can check the status of running jobs. This includes the following statuses:\n",
    "\n",
    "- **`QUEUED`**: The remote program is in the Qiskit Serverless queue. The queue priority is currently based on how much you've used Qiskit Serverless\n",
    "- **`INITIALIZING`**: The remote program is starting; this includes setting up the remote environment and installing dependencies\n",
    "- **`RUNNING`**: The program is running. At this stage, if you have `print()` outputs in your program, you can retrieve logs using `job.logs()`\n",
    "- **`DONE`**: The program is complete, and you can retrieve data stored in `save_result()` with `job.results()`"
   ]
  },
  {
   "cell_type": "code",
   "execution_count": 8,
   "id": "f4877d45-c350-4855-b1ca-868a6ad8cfa4",
   "metadata": {},
   "outputs": [
    {
     "data": {
      "text/plain": [
       "'QUEUED'"
      ]
     },
     "execution_count": 8,
     "metadata": {},
     "output_type": "execute_result"
    }
   ],
   "source": [
    "job.status()"
   ]
  },
  {
   "cell_type": "code",
   "execution_count": 9,
   "id": "07eceda5-7180-4c6e-9c3e-01e8e25ea6dd",
   "metadata": {
    "tags": [
     "remove-cell"
    ]
   },
   "outputs": [],
   "source": [
    "# This cell is hidden from users, it checks the job status\n",
    "assert _ in [\"QUEUED\", \"INITIALIZING\", \"RUNNING\", \"DONE\"]  # noqa: F821"
   ]
  },
  {
   "cell_type": "markdown",
   "id": "3fa9c01e-18a4-482c-bad6-69dee5acece4",
   "metadata": {},
   "source": [
    "<Admonition type=\"tip\">\n",
    "Currently, the IBM Quantum workloads table only reflects Qiskit Runtime workloads. Use `job.status()` to see your Qiskit Serverless workload's current status.\n",
    "</Admonition>\n",
    "\n",
    "You've successfully run your first Qiskit Serverless program!"
   ]
  },
  {
   "cell_type": "markdown",
   "id": "65566f2c-8d5b-4493-819b-4389155c3d69",
   "metadata": {},
   "source": [
    "## Retrieve logs and results\n",
    "\n",
    "As mentioned before, once a program is `RUNNING`, you can use `job.logs()` to fetch logs created from `print()` outputs:"
   ]
  },
  {
   "cell_type": "code",
   "execution_count": 10,
   "id": "cbf12a1b-bfff-4eb2-82f1-298de1e9c114",
   "metadata": {},
   "outputs": [
    {
     "name": "stdout",
     "output_type": "stream",
     "text": [
      "No logs yet.\n"
     ]
    }
   ],
   "source": [
    "logs = job.logs()\n",
    "print(logs)"
   ]
  },
  {
   "cell_type": "markdown",
   "id": "bff87452-bf98-4c7a-85c8-d280d89a7970",
   "metadata": {},
   "source": [
    "At any time, you can also cancel a job:"
   ]
  },
  {
   "cell_type": "code",
   "execution_count": 11,
   "id": "bc4fbe20-456c-4ce4-bf26-dfdb8b68e89f",
   "metadata": {},
   "outputs": [
    {
     "data": {
      "text/plain": [
       "'Job has been stopped.'"
      ]
     },
     "execution_count": 11,
     "metadata": {},
     "output_type": "execute_result"
    }
   ],
   "source": [
    "job.stop()"
   ]
  },
  {
   "cell_type": "markdown",
   "id": "925a8d81-e85b-4e26-a9e1-3a01e8e0785b",
   "metadata": {},
   "source": [
    "Once a program is `DONE`, you can use `job.results()` to fetch the result stored in `save_result()`:"
   ]
  },
  {
   "cell_type": "code",
   "execution_count": 12,
   "id": "c0d999d9-af9e-4312-b5bb-f60f714257ba",
   "metadata": {},
   "outputs": [
    {
     "data": {
      "text/plain": [
       "{'transpiled_circuits': [<qiskit.circuit.quantumcircuit.QuantumCircuit at 0x12f0d7d10>,\n",
       "  <qiskit.circuit.quantumcircuit.QuantumCircuit at 0x12f8c0490>,\n",
       "  <qiskit.circuit.quantumcircuit.QuantumCircuit at 0x12f8d87d0>,\n",
       "  <qiskit.circuit.quantumcircuit.QuantumCircuit at 0x12e81a4d0>,\n",
       "  <qiskit.circuit.quantumcircuit.QuantumCircuit at 0x12f49e990>,\n",
       "  <qiskit.circuit.quantumcircuit.QuantumCircuit at 0x12f341b90>,\n",
       "  <qiskit.circuit.quantumcircuit.QuantumCircuit at 0x12f86a650>,\n",
       "  <qiskit.circuit.quantumcircuit.QuantumCircuit at 0x12f802890>,\n",
       "  <qiskit.circuit.quantumcircuit.QuantumCircuit at 0x12f718710>,\n",
       "  <qiskit.circuit.quantumcircuit.QuantumCircuit at 0x12f82ae90>]}"
      ]
     },
     "execution_count": 12,
     "metadata": {},
     "output_type": "execute_result"
    }
   ],
   "source": [
    "# We can't get results from a cancelled job, so we'll fetch a completed one instead\n",
    "completed_job = next(\n",
    "    job for job in serverless.jobs() if job.status() == \"DONE\"\n",
    ")\n",
    "completed_job.result()"
   ]
  },
  {
   "cell_type": "markdown",
   "id": "ca9791df-60c2-49d8-8541-741078ea63c6",
   "metadata": {},
   "source": [
    "## List previously run jobs run with Qiskit Serverless\n",
    "\n",
    "You can use `jobs()` to list all jobs submitted to Qiskit Serverless:"
   ]
  },
  {
   "cell_type": "code",
   "execution_count": 13,
   "id": "ba9365c4-b07d-4dc6-9594-edc07c44bc63",
   "metadata": {},
   "outputs": [
    {
     "data": {
      "text/plain": [
       "[<Job | ecee85e7-ef3b-4545-90fb-8dcf48405560>,\n",
       " <Job | 552ec541-8044-41a8-9a97-cde9ca316535>,\n",
       " <Job | 8c67f847-99eb-4510-8a39-3758813b1e87>,\n",
       " <Job | 56784784-e900-4915-bf08-9a63cbd57c95>,\n",
       " <Job | fa906659-18a8-4292-bbee-30624d81f566>,\n",
       " <Job | 82dbf9b5-55fd-4741-9561-920701b03367>,\n",
       " <Job | cbe95388-4b51-43ab-9558-c040700e2192>,\n",
       " <Job | ed883c41-9c09-48ff-a169-f48156cfe221>,\n",
       " <Job | 6d6ae253-44b8-4a6d-84a9-7f58b94aa478>,\n",
       " <Job | cdeff010-f128-433c-b056-ec9aa02c6d9f>]"
      ]
     },
     "execution_count": 13,
     "metadata": {},
     "output_type": "execute_result"
    }
   ],
   "source": [
    "old_jobs = serverless.jobs()\n",
    "old_jobs"
   ]
  },
  {
   "cell_type": "markdown",
   "id": "fd3415a0-0e55-4991-8764-c9fe66eb2664",
   "metadata": {},
   "source": [
    "## Next steps\n",
    "\n",
    "<Admonition type=\"info\" title=\"Recommendations\">\n",
    "\n",
    "- Explore [compute and data management tools](./serverless-manage-resources) available to your program, including parallelization.\n",
    "\n",
    "</Admonition>"
   ]
  }
 ],
 "metadata": {
  "description": "How to list programs available in Serverless, pass inputs into these programs, run them remotely, check status, and retrieve results and logs.",
  "kernelspec": {
   "display_name": "Python 3",
   "language": "python",
   "name": "python3"
  },
  "language_info": {
   "codemirror_mode": {
    "name": "ipython",
    "version": 3
   },
   "file_extension": ".py",
   "mimetype": "text/x-python",
   "name": "python",
   "nbconvert_exporter": "python",
   "pygments_lexer": "ipython3",
   "version": "3"
  },
  "title": "Run your first Qiskit Serverless workload remotely"
 },
 "nbformat": 4,
 "nbformat_minor": 2
}
