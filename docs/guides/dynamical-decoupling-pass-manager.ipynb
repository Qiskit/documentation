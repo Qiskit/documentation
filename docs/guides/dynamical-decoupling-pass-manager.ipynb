{
 "cells": [
  {
   "cell_type": "markdown",
   "id": "e8de8e81-3fc5-4d06-addf-3eebab23de68",
   "metadata": {},
   "source": [
    "# Create a pass manager for dynamical decoupling"
   ]
  },
  {
   "cell_type": "markdown",
   "id": "ac05cea1-fc14-4ef3-bdc2-a2faf7b6bc4a",
   "metadata": {
    "tags": [
     "version-info"
    ]
   },
   "source": [
    "<details>\n",
    "<summary><b>Package versions</b></summary>\n",
    "\n",
    "The code on this page was developed using the following requirements.\n",
    "We recommend using these versions or newer.\n",
    "\n",
    "```\n",
    "qiskit[all]~=2.0.0\n",
    "qiskit-ibm-runtime~=0.37.0\n",
    "```\n",
    "</details>"
   ]
  },
  {
   "cell_type": "markdown",
   "id": "d47fe79d-30f0-48ef-bfd2-4167fa7570b0",
   "metadata": {},
   "source": [
    "This page demonstrates how to use the [`PadDynamicalDecoupling`](/docs/api/qiskit/qiskit.transpiler.passes.PadDynamicalDecoupling) pass to add an error suppression technique called _dynamical decoupling_ to the circuit.\n",
    "\n",
    "Dynamical decoupling works by adding pulse sequences (known as _dynamical decoupling sequences_) to idle qubits to flip them around the Bloch sphere, which cancels the effect of noise channels, thereby suppressing decoherence. These pulse sequences are similar to refocusing pulses used in nuclear magnetic resonance. For a full description, see [A Quantum Engineer's Guide to Superconducting Qubits](https://arxiv.org/abs/1904.06560).\n",
    "\n",
    "Because the `PadDynamicalDecoupling` pass only operates on scheduled circuits and involves gates that are not necessarily basis gates of our target, you will need the [`ALAPScheduleAnalysis`](/docs/api/qiskit/qiskit.transpiler.passes.ALAPScheduleAnalysis) and [`BasisTranslator`](/docs/api/qiskit/qiskit.transpiler.passes.BasisTranslator) passes as well.\n",
    "\n",
    "This example uses `ibm_brisbane`, which was initialized previously. Get the `target` information from the `backend` and save the operation names as `basis_gates` because the `target` will need to be modified to add timing information for the gates used in dynamical decoupling."
   ]
  },
  {
   "cell_type": "code",
   "execution_count": 1,
   "id": "368cab01-8eb0-4feb-a5d1-269d225af7af",
   "metadata": {},
   "outputs": [],
   "source": [
    "from qiskit_ibm_runtime import QiskitRuntimeService\n",
    "\n",
    "service = QiskitRuntimeService()\n",
    "backend = service.backend(\"ibm_brisbane\")\n",
    "\n",
    "target = backend.target\n",
    "basis_gates = list(target.operation_names)"
   ]
  },
  {
   "cell_type": "markdown",
   "id": "0606fde9-d0d9-4ab5-a941-7ab96de50cc5",
   "metadata": {},
   "source": [
    "Create an `efficient_su2` circuit as an example. First, transpile the circuit to the backend because dynamical decoupling pulses need to be added after the circuit has been transpiled and scheduled. Dynamical decoupling often works best when there is a lot of idle time in the quantum circuits - that is, there are qubits that are not being used while others are active. This is the case in this circuit because the two-qubit `ecr` gates are applied sequentially in this ansatz."
   ]
  },
  {
   "cell_type": "code",
   "execution_count": 2,
   "id": "8228f889-806a-4873-b1da-27c9795d5f5c",
   "metadata": {},
   "outputs": [
    {
     "data": {
      "text/plain": [
       "<Image src=\"/docs/images/guides/dynamical-decoupling-pass-manager/extracted-outputs/8228f889-806a-4873-b1da-27c9795d5f5c-0.svg\" alt=\"Output of the previous code cell\" />"
      ]
     },
     "execution_count": 2,
     "metadata": {},
     "output_type": "execute_result"
    }
   ],
   "source": [
    "from qiskit.transpiler import generate_preset_pass_manager\n",
    "from qiskit.circuit.library import efficient_su2\n",
    "\n",
    "qc = efficient_su2(12, entanglement=\"circular\", reps=1)\n",
    "pm = generate_preset_pass_manager(1, target=target, seed_transpiler=12345)\n",
    "qc_t = pm.run(qc)\n",
    "qc_t.draw(\"mpl\", fold=-1, idle_wires=False)"
   ]
  },
  {
   "cell_type": "markdown",
   "id": "0a433db8-51f4-4254-9217-bc8b7bf6030e",
   "metadata": {},
   "source": [
    "A dynamical decoupling sequence is a series of gates that compose to the identity and are spaced regularly in time. For example, start by creating a simple sequence called XY4 consisting of four gates."
   ]
  },
  {
   "cell_type": "code",
   "execution_count": 3,
   "id": "c1697d63-aa1e-4fcc-999e-12588ecba8a4",
   "metadata": {},
   "outputs": [],
   "source": [
    "from qiskit.circuit.library import XGate, YGate\n",
    "\n",
    "X = XGate()\n",
    "Y = YGate()\n",
    "\n",
    "dd_sequence = [X, Y, X, Y]"
   ]
  },
  {
   "cell_type": "markdown",
   "id": "9d735702-4b06-4979-a0c1-2004a3c95d28",
   "metadata": {},
   "source": [
    "Because of the regular timing of dynamical decoupling sequences, information about the `YGate` must be added to the `target` because it is *not* a basis gate, whereas the `XGate` is. We know *a priori* that the `YGate` has the same duration and error as the `XGate`, however, so we can just retrieve those properties from the `target` and add them back for the `YGate`s. This is also why the `basis_gates` were saved separately, since we are adding the `YGate` instruction to the `target` although it is not an actual basis gate of `ibm_brisbane`."
   ]
  },
  {
   "cell_type": "code",
   "execution_count": 4,
   "id": "6ecd2f07-e626-43ac-bbb8-bca0cdc571a6",
   "metadata": {},
   "outputs": [],
   "source": [
    "from qiskit.transpiler import InstructionProperties\n",
    "\n",
    "y_gate_properties = {}\n",
    "for qubit in range(target.num_qubits):\n",
    "    y_gate_properties.update(\n",
    "        {\n",
    "            (qubit,): InstructionProperties(\n",
    "                duration=target[\"x\"][(qubit,)].duration,\n",
    "                error=target[\"x\"][(qubit,)].error,\n",
    "            )\n",
    "        }\n",
    "    )\n",
    "\n",
    "target.add_instruction(YGate(), y_gate_properties)"
   ]
  },
  {
   "cell_type": "markdown",
   "id": "d3fef37d-1c01-4303-be85-1ff90be760ae",
   "metadata": {},
   "source": [
    "Ansatz circuits such as `efficient_su2` are parameterized, so they must have value bound to them before being sent to the backend. Here, assign random parameters."
   ]
  },
  {
   "cell_type": "code",
   "execution_count": 5,
   "id": "23da3765-7893-4886-899c-d74491f514fc",
   "metadata": {},
   "outputs": [],
   "source": [
    "import numpy as np\n",
    "\n",
    "rng = np.random.default_rng(1234)\n",
    "qc_t.assign_parameters(\n",
    "    rng.uniform(-np.pi, np.pi, qc_t.num_parameters), inplace=True\n",
    ")"
   ]
  },
  {
   "cell_type": "markdown",
   "id": "399cdf3b-43e1-40a2-a2e1-9b4a944ed324",
   "metadata": {},
   "source": [
    "Next, execute the custom passes. Instantiate the `PassManager` with `ALAPScheduleAnalysis` and `PadDynamicalDecoupling`.  Run `ALAPScheduleAnalysis` first to add timing information about the quantum circuit before the regularly-spaced dynamical decoupling sequences can be added. These passes are run on the circuit with `.run()`."
   ]
  },
  {
   "cell_type": "code",
   "execution_count": 6,
   "id": "a43029d6-01eb-4873-a9ac-9bcb0a823ec8",
   "metadata": {},
   "outputs": [],
   "source": [
    "from qiskit.transpiler import PassManager\n",
    "from qiskit.transpiler.passes.scheduling import (\n",
    "    ALAPScheduleAnalysis,\n",
    "    PadDynamicalDecoupling,\n",
    ")\n",
    "\n",
    "dd_pm = PassManager(\n",
    "    [\n",
    "        ALAPScheduleAnalysis(target=target),\n",
    "        PadDynamicalDecoupling(target=target, dd_sequence=dd_sequence),\n",
    "    ]\n",
    ")\n",
    "qc_dd = dd_pm.run(qc_t)"
   ]
  },
  {
   "cell_type": "markdown",
   "id": "5d418164-acbd-4694-8864-8c3100886157",
   "metadata": {},
   "source": [
    "Use the visualization tool [`timeline_drawer`](/docs/api/qiskit/qiskit.visualization.timeline_drawer) to see the circuit's timing and confirm that a regularly-spaced sequence of `XGate`s and `YGate`s appear in the circuit."
   ]
  },
  {
   "cell_type": "code",
   "execution_count": 7,
   "id": "cb73e2c4-ab05-4f15-91ae-2fab64028d6e",
   "metadata": {},
   "outputs": [
    {
     "data": {
      "text/plain": [
       "<Image src=\"/docs/images/guides/dynamical-decoupling-pass-manager/extracted-outputs/cb73e2c4-ab05-4f15-91ae-2fab64028d6e-0.svg\" alt=\"Output of the previous code cell\" />"
      ]
     },
     "execution_count": 7,
     "metadata": {},
     "output_type": "execute_result"
    }
   ],
   "source": [
    "from qiskit.visualization import timeline_drawer\n",
    "\n",
    "timeline_drawer(qc_dd, idle_wires=False, target=target)"
   ]
  },
  {
   "cell_type": "markdown",
   "id": "2d231392-41f0-414f-b5ed-05acc4980e9c",
   "metadata": {},
   "source": [
    "Lastly, because the `YGate` is not an actual basis gate of our backend, manually apply the `BasisTranslator` pass (this is a default pass, but it is executed before scheduling, so it needs to be applied again). The session equivalence library is a library of circuit equivalences that allows the transpiler to decompose circuits into basis gates, as also specified as an argument."
   ]
  },
  {
   "cell_type": "code",
   "execution_count": 8,
   "id": "aaa27ee4-1965-41bf-abd2-1d9176af6dc4",
   "metadata": {},
   "outputs": [
    {
     "data": {
      "text/plain": [
       "<Image src=\"/docs/images/guides/dynamical-decoupling-pass-manager/extracted-outputs/aaa27ee4-1965-41bf-abd2-1d9176af6dc4-0.svg\" alt=\"Output of the previous code cell\" />"
      ]
     },
     "execution_count": 8,
     "metadata": {},
     "output_type": "execute_result"
    }
   ],
   "source": [
    "from qiskit.circuit.equivalence_library import (\n",
    "    SessionEquivalenceLibrary as sel,\n",
    ")\n",
    "from qiskit.transpiler.passes import BasisTranslator\n",
    "\n",
    "qc_dd = BasisTranslator(sel, basis_gates)(qc_dd)\n",
    "qc_dd.draw(\"mpl\", fold=-1, idle_wires=False)"
   ]
  },
  {
   "cell_type": "markdown",
   "id": "69c77b6c-1f38-4adc-9249-0039ecd2c3c1",
   "metadata": {},
   "source": [
    "Now, `YGate`s are absent from our circuit, and there is explicit timing information in the form of `Delay` gates. This transpiled circuit with dynamical decoupling is now ready to be sent to the backend."
   ]
  },
  {
   "cell_type": "markdown",
   "id": "1ebd817d-bc48-4137-82f0-bd31d7eb267c",
   "metadata": {},
   "source": [
    "## Next steps\n",
    "\n",
    "<Admonition type=\"tip\" title=\"Recommendations\">\n",
    "    - To learn how to use the `generate_preset_passmanager` function instead of writing your own passes, start with the [Transpilation default settings and configuration options](defaults-and-configuration-options) topic.\n",
    "    - Try the [Submit transpiled circuits](https://learning.quantum.ibm.com/tutorial/submit-transpiled-circuits) tutorial.\n",
    "    - See the [Transpile API documentation.](https://docs.quantum-computing.ibm.com/api/qiskit/transpiler)\n",
    "</Admonition>"
   ]
  }
 ],
 "metadata": {
  "description": "How to create a pass manager for dynamical decoupling in Qiskit.",
  "kernelspec": {
   "display_name": "Python 3",
   "language": "python",
   "name": "python3"
  },
  "language_info": {
   "codemirror_mode": {
    "name": "ipython",
    "version": 3
   },
   "file_extension": ".py",
   "mimetype": "text/x-python",
   "name": "python",
   "nbconvert_exporter": "python",
   "pygments_lexer": "ipython3",
   "version": "3"
  },
  "title": "Create a pass manager for dynamical decoupling"
 },
 "nbformat": 4,
 "nbformat_minor": 4
}
