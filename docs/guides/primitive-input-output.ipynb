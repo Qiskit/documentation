{
 "cells": [
  {
   "cell_type": "markdown",
   "id": "e8a8a4b1-2ed2-4b82-8d02-98174a6da903",
   "metadata": {},
   "source": [
    "# Primitive inputs and outputs"
   ]
  },
  {
   "cell_type": "markdown",
   "id": "2494c928-0821-4d9d-ae52-b69940071632",
   "metadata": {
    "tags": [
     "version-info"
    ]
   },
   "source": [
    "<details>\n",
    "<summary><b>Package versions</b></summary>\n",
    "\n",
    "The code on this page was developed using the following requirements.\n",
    "We recommend using these versions or newer.\n",
    "\n",
    "```\n",
    "qiskit[all]==2.0.0rc1\n",
    "```\n",
    "</details>"
   ]
  },
  {
   "cell_type": "markdown",
   "id": "09501afd-ae49-4274-bf4c-512a1187201a",
   "metadata": {},
   "source": [
    "This page gives an overview of the inputs and outputs of the Qiskit Runtime primitives that execute workloads on IBM Quantum&reg; compute resources. These primitives provide you with the ability to efficiently define vectorized workloads by using a data structure known as a **Primitive Unified Bloc (PUB)**. These PUBs are the fundamental unit of work a QPU needs to execute these workloads. They are used as inputs to the [`run()`](../api/qiskit-ibm-runtime/estimator-v2#run) method for the Sampler and Estimator primitives, which execute the defined workload as a job. Then, after the job has completed, the results are returned in a format that is dependent on both the PUBs used as well as the runtime options specified from the Sampler or Estimator primitives."
   ]
  },
  {
   "cell_type": "markdown",
   "id": "04b9204f-f058-433b-89f9-05df14645e27",
   "metadata": {},
   "source": [
    "<span id=\"pubs\"></span>\n",
    "## Overview of PUBs\n",
    "\n",
    "When invoking a primitive's [`run()`](../api/qiskit-ibm-runtime/estimator-v2#run) method, the main argument that is required is a `list` of one or more tuples -- one for each circuit being executed by the primitive. Each of these tuples is considered a PUB, and the required elements of each tuple in the list depends on the primitive used. The data provided to these tuples can also be arranged in a variety of shapes to provide flexibility in a workload through broadcasting -- the rules of which are described in a [following section](#broadcasting-rules).\n",
    "\n",
    "### Estimator PUB\n",
    "For the Estimator primitive, the format of the PUB should contain at most four values:\n",
    "- A single `QuantumCircuit`, which may contain one or more [`Parameter`](../api/qiskit/qiskit.circuit.Parameter) objects\n",
    "- A list of one or more observables, which specify the expectation values to estimate, arranged into an array (for example, a single observable represented as a 0-d array, a list of observables as a 1-d array, and so on). The data can be in any one of the `ObservablesArrayLike` format such as `Pauli`, `SparsePauliOp`, `PauliList`, or `str`.\n",
    "- A collection of parameter values to bind the circuit against. This can be specified as a single array-like object where the last index is over circuit `Parameter` objects, or omitted (or equivalently, set to `None`) if the circuit has no `Parameter` objects.\n",
    "- (Optionally) a target precision for expectation values to estimate\n",
    "\n",
    "### Sampler PUB\n",
    "For the Sampler primitive, the format of the PUB tuple contains at most three values:\n",
    "- A single `QuantumCircuit`, which may contain one or more [`Parameter`](../api/qiskit/qiskit.circuit.Parameter) objects\n",
    "   *Note: These circuits should also include measurement instructions for each of the qubits to be sampled.*\n",
    "- A collection of parameter values to bind the circuit against $\\theta_k$ (only needed if any `Parameter` objects are used that must be bound at runtime)\n",
    "- (Optionally) a number of shots to measure the circuit with"
   ]
  },
  {
   "cell_type": "markdown",
   "id": "85d9c1b7-c3f4-419c-b854-e72ed08d1e85",
   "metadata": {},
   "source": [
    "---\n",
    "\n",
    "The following code demonstrates an example set of vectorized inputs to the `Estimator` primitive and executes them on an IBM&reg; backend as a single `RuntimeJobV2 ` object."
   ]
  },
  {
   "cell_type": "code",
   "execution_count": 1,
   "id": "068f9b56-b449-48c9-b01e-6de49f05758d",
   "metadata": {},
   "outputs": [],
   "source": [
    "from qiskit_ibm_runtime import QiskitRuntimeService\n",
    "from qiskit.circuit import Parameter, QuantumCircuit\n",
    "from qiskit_ibm_runtime import (\n",
    "    EstimatorV2 as Estimator,\n",
    "    SamplerV2 as Sampler,\n",
    ")\n",
    "from qiskit.transpiler.preset_passmanagers import generate_preset_pass_manager\n",
    "from qiskit.quantum_info import SparsePauliOp\n",
    "import numpy as np\n",
    "\n",
    "# Instantiate runtime service and get\n",
    "# the least busy backend\n",
    "service = QiskitRuntimeService()\n",
    "backend = service.least_busy(operational=True, simulator=False)\n",
    "\n",
    "# Define a circuit with two parameters.\n",
    "circuit = QuantumCircuit(2)\n",
    "circuit.h(0)\n",
    "circuit.cx(0, 1)\n",
    "circuit.ry(Parameter(\"a\"), 0)\n",
    "circuit.rz(Parameter(\"b\"), 0)\n",
    "circuit.cx(0, 1)\n",
    "circuit.h(0)\n",
    "\n",
    "# Transpile the circuit\n",
    "pm = generate_preset_pass_manager(optimization_level=1, backend=backend)\n",
    "transpiled_circuit = pm.run(circuit)\n",
    "layout = transpiled_circuit.layout\n",
    "\n",
    "\n",
    "# Now define a sweep over parameter values, the last axis of dimension 2 is\n",
    "# for the two parameters \"a\" and \"b\"\n",
    "params = np.vstack(\n",
    "    [\n",
    "        np.linspace(-np.pi, np.pi, 100),\n",
    "        np.linspace(-4 * np.pi, 4 * np.pi, 100),\n",
    "    ]\n",
    ").T\n",
    "\n",
    "# Define three observables. The inner length-1 lists cause this array of\n",
    "# observables to have shape (3, 1), rather than shape (3,) if they were\n",
    "# omitted.\n",
    "observables = [\n",
    "    [SparsePauliOp([\"XX\", \"IY\"], [0.5, 0.5])],\n",
    "    [SparsePauliOp(\"XX\")],\n",
    "    [SparsePauliOp(\"IY\")],\n",
    "]\n",
    "# Apply the same layout as the transpiled circuit.\n",
    "observables = [\n",
    "    [observable.apply_layout(layout) for observable in observable_set]\n",
    "    for observable_set in observables\n",
    "]\n",
    "\n",
    "# Estimate the expectation value for all 300 combinations of observables\n",
    "# and parameter values, where the pub result will have shape (3, 100).\n",
    "#\n",
    "# This shape is due to our array of parameter bindings having shape\n",
    "# (100, 2), combined with our array of observables having shape (3, 1).\n",
    "estimator_pub = (transpiled_circuit, observables, params)\n",
    "\n",
    "# Instantiate the new estimator object, then run the transpiled circuit\n",
    "# using the set of parameters and observables.\n",
    "estimator = Estimator(mode=backend)\n",
    "job = estimator.run([estimator_pub])\n",
    "result = job.result()"
   ]
  },
  {
   "cell_type": "markdown",
   "id": "a3412e49-ca9b-4b04-b982-ea812658ca4e",
   "metadata": {},
   "source": [
    "### Broadcasting rules\n",
    "\n",
    "The PUBs aggregate elements from multiple arrays (observables and parameter values) by following the same broadcasting rules as NumPy. This section briefly summarizes those rules.  For a detailed explanation, see the [NumPy broadcasting rules documentation](https://numpy.org/doc/stable/user/basics.broadcasting.html).\n",
    "\n",
    "Rules:\n",
    "\n",
    "* Input arrays do not need to have the same number of dimensions.\n",
    "  * The resulting array will have the same number of dimensions as the input array with the largest dimension.\n",
    "  * The size of each dimension is the largest size of the corresponding dimension.\n",
    "  * Missing dimensions are assumed to have size one.\n",
    "* Shape comparisons start with the rightmost dimension and continue to the left.\n",
    "* Two dimensions are compatible if their sizes are equal or if one of them is 1.\n",
    "\n",
    "Examples of array pairs that broadcast:\n",
    "\n",
    "```text\n",
    "A1     (1d array):      1\n",
    "A2     (2d array):  3 x 5\n",
    "Result (2d array):  3 x 5\n",
    "\n",
    "\n",
    "A1     (3d array):  11 x 2 x 7\n",
    "A2     (3d array):  11 x 1 x 7\n",
    "Result (3d array):  11 x 2 x 7\n",
    "```\n",
    "\n",
    "Examples of array pairs that do not broadcast:\n",
    "\n",
    "```text\n",
    "A1     (1d array):  5\n",
    "A2     (1d array):  3\n",
    "\n",
    "A1     (2d array):      2 x 1\n",
    "A2     (3d array):  6 x 5 x 4 # This would work if the middle dimension were 2, but it is 5.\n",
    "```\n",
    "\n",
    "`EstimatorV2` returns one expectation value estimate for each element of the broadcasted shape.\n",
    "\n",
    "Here are some examples of common patterns expressed in terms of array broadcasting.  Their accompanying visual representation is shown in the figure that follows:\n",
    "\n",
    "\n",
    "Parameter value sets are represented by n x m arrays, and observable arrays are represented by one or more single-column arrays. For each example in the previous code, the parameter value sets are combined with their observable array to create the resulting expectation value estimates.  Example 1 (broadcast single observable) has a parameter value set that is a 5x1 array and a 1x1 observables array.  The one item in the observables array is combined with each item in the parameter value set to create a single 5x1 array where each item is a combination of the original item in the parameter value set with the item in the observables array.  Example 2 (zip) has a 5x1 parameter value set and a 5x1 observables array.  The output is a 5x1 array where each item is a combination of the nth item in the parameter value set with the nth item in the observables array.  Example 3 (outer/product) has a 1x6 parameter value set and a 4x1 observables array.  Their combination results in a 4x6 array that is created by combining each item in the parameter value set with *every* item in the observables array, and thus each parameter value becomes an entire column in the output.  Example 4 (Standard nd generalization) has a 3x6 parameter value set array and two 3x1 observables array.  These combine to create two 3x6 output arrays in a similar manner to the previous example.\n",
    "\n",
    "![This image illustrates several visual representations of array broadcasting](/images/guides/broadcasting.svg \"Visual representation of broadcasting\")"
   ]
  },
  {
   "cell_type": "code",
   "execution_count": 2,
   "id": "fcfaaab7-83f3-494a-8dee-67012435ab54",
   "metadata": {},
   "outputs": [],
   "source": [
    "# Broadcast single observable\n",
    "\n",
    "\n",
    "parameter_values = np.random.uniform(size=(5,))  # shape (5,)\n",
    "observables = SparsePauliOp(\"ZZZ\")  # shape ()\n",
    "# >> pub result has shape (5,)\n",
    "\n",
    "# Zip\n",
    "parameter_values = np.random.uniform(size=(5,))  # shape (5,)\n",
    "observables = [\n",
    "    SparsePauliOp(pauli) for pauli in [\"III\", \"XXX\", \"YYY\", \"ZZZ\", \"XYZ\"]\n",
    "]  # shape (5,)\n",
    "# >> pub result has shape (5,)\n",
    "\n",
    "# Outer/Product\n",
    "parameter_values = np.random.uniform(size=(1, 6))  # shape (1, 6)\n",
    "observables = [\n",
    "    [SparsePauliOp(pauli)] for pauli in [\"III\", \"XXX\", \"YYY\", \"ZZZ\"]\n",
    "]  # shape (4, 1)\n",
    "# >> pub result has shape (4, 6)\n",
    "\n",
    "# Standard nd generalization\n",
    "parameter_values = np.random.uniform(size=(3, 6))  # shape (3, 6)\n",
    "observables = [\n",
    "    [\n",
    "        [SparsePauliOp([\"XII\"])],\n",
    "        [SparsePauliOp([\"IXI\"])],\n",
    "        [SparsePauliOp([\"IIX\"])],\n",
    "    ],\n",
    "    [\n",
    "        [SparsePauliOp([\"ZII\"])],\n",
    "        [SparsePauliOp([\"IZI\"])],\n",
    "        [SparsePauliOp([\"IIZ\"])],\n",
    "    ],\n",
    "]  # shape (2, 3, 1)"
   ]
  },
  {
   "cell_type": "markdown",
   "id": "174975cf-c2b2-4bd3-bb71-4dbcb62f77a1",
   "metadata": {},
   "source": [
    "<Admonition type=\"tip\" title=\"SparsePauliOp\">\n",
    "Each `SparsePauliOp` counts as a single element in this context, regardless of the number of Paulis contained in the `SparsePauliOp`. Thus, for the purpose of these broadcasting rules, all of the following elements have the same shape:\n",
    "\n",
    "```text\n",
    "a = SparsePauliOp(\"Z\") # shape ()\n",
    "b = SparsePauliOp(\"IIIIZXYIZ\") # shape ()\n",
    "c = SparsePauliOp.from_list([\"XX\", \"XY\", \"IZ\"]) # shape ()\n",
    "```\n",
    "\n",
    "The following lists of operators, while equivalent in terms of information contained, have different shapes:\n",
    "\n",
    "```text\n",
    "list1 = SparsePauliOp.from_list([\"XX\", \"XY\", \"IZ\"]) # shape ()\n",
    "list2 = [SparsePauliOp(\"XX\"), SparsePauliOp(\"XY\"), SparsePauliOp(\"IZ\")] # shape (3, )\n",
    "```\n",
    "</Admonition>"
   ]
  },
  {
   "cell_type": "markdown",
   "id": "dfbaa52f-be7a-406d-b1d7-950daf90fd7f",
   "metadata": {},
   "source": [
    "## Overview of primitive results\n",
    "\n",
    "Once one or more PUBs are sent to a QPU for execution and a job successfully completes, the data is returned as a [`PrimitiveResult`](../api/qiskit/qiskit.primitives.PrimitiveResult) container object accessed by calling the `RuntimeJobV2.result()` method. The `PrimitiveResult` contains an iterable list of [`PubResult`](../api/qiskit/qiskit.primitives.PubResult) objects that contain the execution results for each PUB. Depending on the primitive used, these data will be either expectation values and their error bars in the case of the Estimator, or samples of the circuit output in the case of the Sampler.\n",
    "\n",
    "Each element of this list corresponds to each PUB submitted to the primitive's `run()` method (for example, a job submitted with 20 PUBs will return a `PrimitiveResult` object that contains a list of 20 `PubResults`, one corresponding to each PUB).\n",
    "\n",
    "Each of these `PubResult` objects possess both a `data` and a `metadata` attribute. The `data` attribute is a customized [`DataBin`](../api/qiskit/qiskit.primitives.DataBin) that contains the actual measurement values, standard deviations, and so forth. This `DataBin` has various attributes depending on the shape or structure of the associated PUB as well as the error mitigation options specified by the primitive used to submit the job (for example, [ZNE](./error-mitigation-and-suppression-techniques#zero-noise-extrapolation-zne) or [PEC](./error-mitigation-and-suppression-techniques#probabilistic-error-cancellation-pec)). Meanwhile, the `metadata` attribute contains information about the runtime and error mitigation options used (explained later in the [Result metadata](#result-metadata) section of this page).\n",
    "\n",
    "Put simply, a single job returns a `PrimitiveResult` object and contains a list of one or more `PubResults`. These `PubResults` are where the measurement data is stored for each of the PUBs that were submitted to the job.\n",
    "\n",
    "### Estimator output\n",
    "\n",
    "Each `PubResult` for the Estimator primitive contains at least an array of expectation values (`PubResult.data.evs`) and associated standard deviations (either `PubResult.data.stds` or `PubResult.data.ensemble_standard_error` depending on the `resilience_level` used), but can contain more data depending on the error mitigation options that were specified.\n",
    "\n",
    "The below code snippet describes the `PrimitiveResult` (and associated `PubResult`) format for the job created above."
   ]
  },
  {
   "cell_type": "code",
   "execution_count": 3,
   "id": "8a4a1929-6191-4061-9fb2-916d2580d1ae",
   "metadata": {},
   "outputs": [
    {
     "name": "stdout",
     "output_type": "stream",
     "text": [
      "The result of the submitted job had 1 PUB and has a value:\n",
      " PrimitiveResult([PubResult(data=DataBin(evs=np.ndarray(<shape=(3, 100), dtype=float64>), stds=np.ndarray(<shape=(3, 100), dtype=float64>), ensemble_standard_error=np.ndarray(<shape=(3, 100), dtype=float64>), shape=(3, 100)), metadata={'shots': 4096, 'target_precision': 0.015625, 'circuit_metadata': {}, 'resilience': {}, 'num_randomizations': 32})], metadata={'dynamical_decoupling': {'enable': False, 'sequence_type': 'XX', 'extra_slack_distribution': 'middle', 'scheduling_method': 'alap'}, 'twirling': {'enable_gates': False, 'enable_measure': True, 'num_randomizations': 'auto', 'shots_per_randomization': 'auto', 'interleave_randomizations': True, 'strategy': 'active-accum'}, 'resilience': {'measure_mitigation': True, 'zne_mitigation': False, 'pec_mitigation': False}, 'version': 2})\n",
      "\n",
      "The associated PubResult of this job has the following DataBins:\n",
      " DataBin(evs=np.ndarray(<shape=(3, 100), dtype=float64>), stds=np.ndarray(<shape=(3, 100), dtype=float64>), ensemble_standard_error=np.ndarray(<shape=(3, 100), dtype=float64>), shape=(3, 100))\n",
      "\n",
      "And this DataBin has attributes: dict_keys(['evs', 'stds', 'ensemble_standard_error'])\n",
      "Recall that this shape is due to our array of parameter binding sets having shape (100,), combined with \n",
      "  our array of observables having shape (3, 1), where 2 is the number of parameters in the circuit.\n",
      "\n",
      "The expectation values measured from this PUB are: \n",
      "[[-0.00718387  0.19000944  0.32471693  0.4309921   0.56580075  0.61247036\n",
      "   0.66660402  0.66887111  0.65306997  0.59611925  0.53832512  0.46751707\n",
      "   0.37644002  0.34009313  0.25836919  0.23639998  0.24013532  0.25539803\n",
      "   0.2632415   0.31880855  0.36742036  0.41985863  0.44738112  0.48621058\n",
      "   0.48494946  0.50401701  0.47546706  0.44459207  0.39547979  0.34637414\n",
      "   0.2926184   0.2612131   0.20365743  0.20831575  0.21515325  0.22393787\n",
      "   0.27651857  0.3345746   0.41219534  0.49548528  0.5528784   0.60997155\n",
      "   0.65815412  0.63685583  0.62134289  0.56886976  0.48293813  0.34959281\n",
      "   0.2198867   0.06557472 -0.08388997 -0.24600232 -0.39521187 -0.4982804\n",
      "  -0.59519091 -0.65133468 -0.65963724 -0.64211921 -0.61733615 -0.57749592\n",
      "  -0.51172572 -0.41774359 -0.33219823 -0.30537019 -0.26100414 -0.23751032\n",
      "  -0.23700493 -0.25668899 -0.29328954 -0.33634155 -0.37867429 -0.43354528\n",
      "  -0.4531995  -0.50876484 -0.51851073 -0.49901564 -0.47920401 -0.4239999\n",
      "  -0.38921729 -0.32868864 -0.2680291  -0.22466227 -0.21290285 -0.21193666\n",
      "  -0.21348277 -0.24844428 -0.31451776 -0.34959691 -0.43423747 -0.52340044\n",
      "  -0.57561488 -0.64203142 -0.65301179 -0.63603883 -0.61229798 -0.53424456\n",
      "  -0.42244263 -0.26911993 -0.14962874  0.01573174]\n",
      " [ 0.01115619  0.12728195  0.17799189  0.20486815  0.30933063  0.32860041\n",
      "   0.4178499   0.45841785  0.52941176  0.54513185  0.62322515  0.6627789\n",
      "   0.70233266  0.76926978  0.78498986  0.8311359   0.86663286  0.90466531\n",
      "   0.9178499   0.95841785  0.96855984  0.98985801  0.98935091  0.9959432\n",
      "   0.99442191  1.0020284   0.9984787   0.98377282  0.97363083  0.96450304\n",
      "   0.93306288  0.9137931   0.87525355  0.86054767  0.8346856   0.76217039\n",
      "   0.72870183  0.69066937  0.65973631  0.61561866  0.55273834  0.48225152\n",
      "   0.46501014  0.34584178  0.30780933  0.24290061  0.18914807  0.11713996\n",
      "   0.06592292  0.0020284  -0.04766734 -0.11815416 -0.20537525 -0.23935091\n",
      "  -0.32657201 -0.37880325 -0.42393509 -0.46196755 -0.53701826 -0.60547667\n",
      "  -0.65010142 -0.6663286  -0.70993915 -0.77839757 -0.80527383 -0.84787018\n",
      "  -0.88539554 -0.91075051 -0.92089249 -0.96095335 -0.96754564 -0.97819473\n",
      "  -0.9989858  -1.0010142  -0.9989858  -1.0025355  -0.9959432  -0.97261663\n",
      "  -0.97261663 -0.93864097 -0.92292089 -0.91125761 -0.87322515 -0.84026369\n",
      "  -0.80882353 -0.75963489 -0.72312373 -0.65365112 -0.62474645 -0.56034483\n",
      "  -0.50912779 -0.48681542 -0.40567951 -0.3356998  -0.30223124 -0.22870183\n",
      "  -0.16024341 -0.05628803 -0.03651116  0.07150101]\n",
      " [-0.02552393  0.25273694  0.47144198  0.65711605  0.82227088  0.89634032\n",
      "   0.91535815  0.87932437  0.77672818  0.64710666  0.45342509  0.27225524\n",
      "   0.05054739 -0.08908352 -0.26825149 -0.35833594 -0.38636221 -0.39386925\n",
      "  -0.39136691 -0.32080075 -0.23371911 -0.15014076 -0.09458868 -0.02352205\n",
      "  -0.02452299  0.00600563 -0.04754457 -0.09458868 -0.18267125 -0.27175477\n",
      "  -0.34782609 -0.39136691 -0.46793869 -0.44391617 -0.40437911 -0.31429465\n",
      "  -0.17566469 -0.02152018  0.16465436  0.37535189  0.55301845  0.73769159\n",
      "   0.85129809  0.92786988  0.93487645  0.89483891  0.77672818  0.58204567\n",
      "   0.37385048  0.12912105 -0.12011261 -0.37385048 -0.58504848 -0.75720988\n",
      "  -0.86380982 -0.92386612 -0.89533938 -0.82227088 -0.69765405 -0.54951517\n",
      "  -0.37335002 -0.16915859  0.0455427   0.16765718  0.28326556  0.37284955\n",
      "   0.41138567  0.39737254  0.33431342  0.28827025  0.21019706  0.11110416\n",
      "   0.0925868  -0.01651548 -0.03803566  0.00450422  0.03753519  0.12461683\n",
      "   0.19418205  0.28126368  0.38686268  0.46193306  0.44741946  0.41639037\n",
      "   0.38185799  0.26274632  0.09408821 -0.0455427  -0.2437285  -0.48645605\n",
      "  -0.64210197 -0.79724742 -0.90034407 -0.93637785 -0.92236472 -0.8397873\n",
      "  -0.68464185 -0.48195183 -0.26274632 -0.04003754]]\n"
     ]
    }
   ],
   "source": [
    "print(\n",
    "    f\"The result of the submitted job had {len(result)} PUB and has a value:\\n {result}\\n\"\n",
    ")\n",
    "print(\n",
    "    f\"The associated PubResult of this job has the following DataBins:\\n {result[0].data}\\n\"\n",
    ")\n",
    "print(f\"And this DataBin has attributes: {result[0].data.keys()}\")\n",
    "print(\n",
    "    \"Recall that this shape is due to our array of parameter binding sets having shape (100,), combined with \\n\\\n",
    "  our array of observables having shape (3, 1), where 2 is the number of parameters in the circuit.\\n\"\n",
    ")\n",
    "print(\n",
    "    f\"The expectation values measured from this PUB are: \\n{result[0].data.evs}\"\n",
    ")"
   ]
  },
  {
   "cell_type": "markdown",
   "id": "40a9f976-fffa-48fb-a81a-26446d5a65a4",
   "metadata": {},
   "source": [
    "#### How the Estimator calculates error\n",
    "\n",
    "In addition to the estimate of the mean of the observables passed in the input PUBs (the `evs` field of the `DataBin`), the Estimator also attempts to deliver an estimate of the error associated with those expectation values. All estimator queries will populate the `stds` field with a quantity like the standard error of the mean for each expectation value, but some error mitigation options produce additional information, such as `ensemble_standard_error`.\n",
    "\n",
    "Consider a single observable $\\mathcal{O}$. In the absence of [ZNE](/guides/error-mitigation-and-suppression-techniques#zero-noise-extrapolation-zne), you can think of each shot of the Estimator execution as providing a point estimate of the expectation value $\\langle \\mathcal{O} \\rangle$. If the pointwise estimates are in a vector `Os`, then the value returned in `ensemble_standard_error` is equivalent to the following (in which $\\sigma_{\\mathcal{O}}$ is the standard deviation of the expectation value estimate and $N_{shots}$ is the number of shots):\n",
    "\n",
    "$$\\frac{ \\sigma_{\\mathcal{O}} }{ \\sqrt{N_{shots}} },$$\n",
    "\n",
    "which treats all shots as part of a single ensemble. If you requested gate [twirling](/guides/error-mitigation-and-suppression-techniques#pauli-twirling) (`twirling.enable_gates = True`), you can sort the pointwise estimates of $\\langle \\mathcal{O} \\rangle$ into sets that share a common twirl. Call these sets of estimates `O_twirls`, and there are `num_randomizations` (number of twirls) of them. Then `stds` is the standard error of the mean of `O_twirls`, as in\n",
    "\n",
    "$$\\frac{ \\sigma_{\\mathcal{O}} }{ \\sqrt{N_{twirls}} },$$\n",
    "\n",
    "where $\\sigma_{\\mathcal{O}}$ is the standard deviation of `O_twirls` and $N_{twirls}$ is the number of twirls. When you do not enable twirling, `stds` and `ensemble_standard_error` are equal.\n",
    "\n",
    "If you enable ZNE, then the `stds` described above become weights in a non-linear regression to an extrapolator model. What finally gets returned in the `stds` in this case is the uncertainty of the fit model evaluated at a noise factor of zero. When there is a poor fit, or large uncertainty in the fit, the reported `stds` can become very large. When ZNE is enabled, `pub_result.data.evs_noise_factors` and `pub_result.data.stds_noise_factors` are also populated, so that you can do your own extrapolation."
   ]
  },
  {
   "cell_type": "markdown",
   "id": "5b585649-065c-4e19-a4f4-3f1637143890",
   "metadata": {},
   "source": [
    "### Sampler output\n",
    "\n",
    "\n",
    "The Sampler primitive outputs job results in a similar format, with the exception that each `DataBin` will contain one or more `BitArray` objects which store the samples of the circuit attached to a particular `ClassicalRegister`, typically one bitstring per shot. The attribute label for each bit array object depends on the `ClassicalRegisters` defined in the circuit being executed. The measurement data from these `BitArrays` can then be processed into a dictionary with key-value pairs corresponding to each bitstring measured (for example, '1011001') and the number of times (or counts) it was measured.\n",
    "\n",
    "For example, a circuit that has measurement instructions added by the [`QuantumCircuit.measure_all()`](../api/qiskit/qiskit.circuit.QuantumCircuit#measure_all) function possesses a classical register with the label *'meas'*. After execution, a count data dictionary can be created by executing:"
   ]
  },
  {
   "cell_type": "code",
   "execution_count": 4,
   "id": "a2316ece-c1ef-49b9-ae07-860decb0747d",
   "metadata": {},
   "outputs": [],
   "source": [
    "# Add measurement instructions to the example circuit\n",
    "circuit.measure_all()\n",
    "\n",
    "# Transpile the circuit\n",
    "pm = generate_preset_pass_manager(optimization_level=1, backend=backend)\n",
    "transpiled_circuit = pm.run(circuit)\n",
    "\n",
    "# Create a PUB for the Sampler primitive using the same parameters defined earlier\n",
    "sampler_pub = (transpiled_circuit, params)\n",
    "\n",
    "\n",
    "sampler = Sampler(mode=backend)\n",
    "job = sampler.run([sampler_pub])\n",
    "result = job.result()"
   ]
  },
  {
   "cell_type": "code",
   "execution_count": 5,
   "id": "f459cd09-3243-487c-9fc4-a8e7a5589e4e",
   "metadata": {},
   "outputs": [
    {
     "name": "stdout",
     "output_type": "stream",
     "text": [
      "The result of the submitted job had 1 PUB and has a value:\n",
      " PrimitiveResult([SamplerPubResult(data=DataBin(meas=BitArray(<shape=(100,), num_shots=4096, num_bits=2>), shape=(100,)), metadata={'circuit_metadata': {}})], metadata={'execution': {'execution_spans': ExecutionSpans([DoubleSliceSpan(<start='2025-03-13 17:37:03', stop='2025-03-13 17:38:48', size=409600>)])}, 'version': 2})\n",
      "\n",
      "The associated PubResult of this Sampler job has the following DataBins:\n",
      " DataBin(meas=BitArray(<shape=(100,), num_shots=4096, num_bits=2>), shape=(100,))\n",
      "\n",
      "It has a key-value pair dict: \n",
      "dict_items([('meas', BitArray(<shape=(100,), num_shots=4096, num_bits=2>))])\n",
      "\n"
     ]
    },
    {
     "name": "stdout",
     "output_type": "stream",
     "text": [
      "And the raw data can be converted to a bitstring-count format: \n",
      "{'11': 106114, '10': 101385, '01': 100670, '00': 101431}\n"
     ]
    }
   ],
   "source": [
    "print(\n",
    "    f\"The result of the submitted job had {len(result)} PUB and has a value:\\n {result}\\n\"\n",
    ")\n",
    "print(\n",
    "    f\"The associated PubResult of this Sampler job has the following DataBins:\\n {result[0].data}\\n\"\n",
    ")\n",
    "print(f\"It has a key-value pair dict: \\n{result[0].data.items()}\\n\")\n",
    "print(\n",
    "    f\"And the raw data can be converted to a bitstring-count format: \\n{result[0].data.meas.get_counts()}\"\n",
    ")"
   ]
  },
  {
   "cell_type": "markdown",
   "id": "c5c93b0f-724f-44b8-9d9d-bb93daf1950b",
   "metadata": {},
   "source": [
    "## Result metadata\n",
    "\n",
    "In addition to the execution results, both the `PrimitiveResult` and `PubResult` objects contain a metadata attribute about the job that was submitted. The metadata containing information for all submitted PUBs (such as the various [runtime options](../api/qiskit-ibm-runtime/options) available) can be found in the `PrimitiveResult.metatada`, while the metadata specific to each PUB is found in `PubResult.metadata`."
   ]
  },
  {
   "cell_type": "code",
   "execution_count": 6,
   "id": "48a17180-4f85-413e-82dc-3a0389c11975",
   "metadata": {},
   "outputs": [
    {
     "name": "stdout",
     "output_type": "stream",
     "text": [
      "The metadata of the PrimitiveResult is:\n",
      "'execution' : {'execution_spans': ExecutionSpans([DoubleSliceSpan(<start='2025-03-13 17:37:03', stop='2025-03-13 17:38:48', size=409600>)])},\n",
      "'version' : 2,\n",
      "\n",
      "The metadata of the PubResult result is:\n",
      "'circuit_metadata' : {},\n"
     ]
    }
   ],
   "source": [
    "# Print out the results metadata\n",
    "print(\"The metadata of the PrimitiveResult is:\")\n",
    "for key, val in result.metadata.items():\n",
    "    print(f\"'{key}' : {val},\")\n",
    "\n",
    "print(\"\\nThe metadata of the PubResult result is:\")\n",
    "for key, val in result[0].metadata.items():\n",
    "    print(f\"'{key}' : {val},\")"
   ]
  },
  {
   "cell_type": "markdown",
   "id": "12c8acfd-d189-45b7-a372-10c48bb13687",
   "metadata": {},
   "source": [
    "For Sampler jobs, you can also review the result metadata to understand when certain data was run; this is called the [_execution span._](monitor-job#execution-spans)"
   ]
  }
 ],
 "metadata": {
  "celltoolbar": "Raw Cell Format",
  "description": "Understand the input and output format (including Primitive Unified Blocs or PUBs) of the primitives",
  "kernelspec": {
   "display_name": "Python 3",
   "language": "python",
   "name": "python3"
  },
  "language_info": {
   "codemirror_mode": {
    "name": "ipython",
    "version": 3
   },
   "file_extension": ".py",
   "mimetype": "text/x-python",
   "name": "python",
   "nbconvert_exporter": "python",
   "pygments_lexer": "ipython3",
   "version": "3"
  },
  "title": "Primitive inputs and outputs"
 },
 "nbformat": 4,
 "nbformat_minor": 2
}
