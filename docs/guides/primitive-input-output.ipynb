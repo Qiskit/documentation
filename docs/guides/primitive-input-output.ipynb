{
 "cells": [
  {
   "cell_type": "markdown",
   "id": "e8a8a4b1-2ed2-4b82-8d02-98174a6da903",
   "metadata": {},
   "source": [
    "# Primitive inputs and outputs"
   ]
  },
  {
   "cell_type": "markdown",
   "id": "2494c928-0821-4d9d-ae52-b69940071632",
   "metadata": {
    "tags": [
     "version-info"
    ]
   },
   "source": [
    "<details>\n",
    "<summary><b>Package versions</b></summary>\n",
    "\n",
    "The code on this page was developed using the following requirements.\n",
    "We recommend using these versions or newer.\n",
    "\n",
    "```\n",
    "qiskit[all]~=1.4.0\n",
    "qiskit-ibm-runtime~=0.36.1\n",
    "```\n",
    "</details>"
   ]
  },
  {
   "cell_type": "markdown",
   "id": "09501afd-ae49-4274-bf4c-512a1187201a",
   "metadata": {},
   "source": [
    "This page gives an overview of the inputs and outputs of the Qiskit Runtime primitives that execute workloads on IBM Quantum&reg; compute resources. These primitives provide you with the ability to efficiently define vectorized workloads by using a data structure known as a **Primitive Unified Bloc (PUB)**. These PUBs are the fundamental unit of work a QPU needs to execute these workloads. They are used as inputs to the [`run()`](../api/qiskit-ibm-runtime/estimator-v2#run) method for the Sampler and Estimator primitives, which execute the defined workload as a job. Then, after the job has completed, the results are returned in a format that is dependent on both the PUBs used as well as the runtime options specified from the Sampler or Estimator primitives."
   ]
  },
  {
   "cell_type": "markdown",
   "id": "04b9204f-f058-433b-89f9-05df14645e27",
   "metadata": {},
   "source": [
    "<span id=\"pubs\"></span>\n",
    "## Overview of PUBs\n",
    "\n",
    "When invoking a primitive's [`run()`](../api/qiskit-ibm-runtime/estimator-v2#run) method, the main argument that is required is a `list` of one or more tuples -- one for each circuit being executed by the primitive. Each of these tuples is considered a PUB, and the required elements of each tuple in the list depends on the primitive used. The data provided to these tuples can also be arranged in a variety of shapes to provide flexibility in a workload through broadcasting -- the rules of which are described in a [following section](#broadcasting-rules).\n",
    "\n",
    "### Estimator PUB\n",
    "For the Estimator primitive, the format of the PUB should contain at most four values:\n",
    "- A single `QuantumCircuit`, which may contain one or more [`Parameter`](../api/qiskit/qiskit.circuit.Parameter) objects\n",
    "- A list of one or more observables, which specify the expectation values to estimate, arranged into an array (for example, a single observable represented as a 0-d array, a list of observables as a 1-d array, and so on). The data can be in any one of the `ObservablesArrayLike` format such as `Pauli`, `SparsePauliOp`, `PauliList`, or `str`.\n",
    "- A collection of parameter values to bind the circuit against. This can be specified as a single array-like object where the last index is over circuit `Parameter` objects, or omitted (or equivalently, set to `None`) if the circuit has no `Parameter` objects.\n",
    "- (Optionally) a target precision for expectation values to estimate\n",
    "\n",
    "### Sampler PUB\n",
    "For the Sampler primitive, the format of the PUB tuple contains at most three values:\n",
    "- A single `QuantumCircuit`, which may contain one or more [`Parameter`](../api/qiskit/qiskit.circuit.Parameter) objects\n",
    "   *Note: These circuits should also include measurement instructions for each of the qubits to be sampled.*\n",
    "- A collection of parameter values to bind the circuit against $\\theta_k$ (only needed if any `Parameter` objects are used that must be bound at runtime)\n",
    "- (Optionally) a number of shots to measure the circuit with"
   ]
  },
  {
   "cell_type": "markdown",
   "id": "85d9c1b7-c3f4-419c-b854-e72ed08d1e85",
   "metadata": {},
   "source": [
    "---\n",
    "\n",
    "The following code demonstrates an example set of vectorized inputs to the `Estimator` primitive and executes them on an IBM&reg; backend as a single `RuntimeJobV2 ` object."
   ]
  },
  {
   "cell_type": "code",
   "execution_count": 1,
   "id": "068f9b56-b449-48c9-b01e-6de49f05758d",
   "metadata": {},
   "outputs": [],
   "source": [
    "from qiskit_ibm_runtime import QiskitRuntimeService\n",
    "from qiskit.circuit import Parameter, QuantumCircuit\n",
    "from qiskit_ibm_runtime import (\n",
    "    EstimatorV2 as Estimator,\n",
    "    SamplerV2 as Sampler,\n",
    ")\n",
    "from qiskit.transpiler import generate_preset_pass_manager\n",
    "from qiskit.quantum_info import SparsePauliOp\n",
    "import numpy as np\n",
    "\n",
    "# Instantiate runtime service and get\n",
    "# the least busy backend\n",
    "service = QiskitRuntimeService()\n",
    "backend = service.least_busy(operational=True, simulator=False)\n",
    "\n",
    "# Define a circuit with two parameters.\n",
    "circuit = QuantumCircuit(2)\n",
    "circuit.h(0)\n",
    "circuit.cx(0, 1)\n",
    "circuit.ry(Parameter(\"a\"), 0)\n",
    "circuit.rz(Parameter(\"b\"), 0)\n",
    "circuit.cx(0, 1)\n",
    "circuit.h(0)\n",
    "\n",
    "# Transpile the circuit\n",
    "pm = generate_preset_pass_manager(optimization_level=1, backend=backend)\n",
    "transpiled_circuit = pm.run(circuit)\n",
    "layout = transpiled_circuit.layout\n",
    "\n",
    "\n",
    "# Now define a sweep over parameter values, the last axis of dimension 2 is\n",
    "# for the two parameters \"a\" and \"b\"\n",
    "params = np.vstack(\n",
    "    [\n",
    "        np.linspace(-np.pi, np.pi, 100),\n",
    "        np.linspace(-4 * np.pi, 4 * np.pi, 100),\n",
    "    ]\n",
    ").T\n",
    "\n",
    "# Define three observables. The inner length-1 lists cause this array of\n",
    "# observables to have shape (3, 1), rather than shape (3,) if they were\n",
    "# omitted.\n",
    "observables = [\n",
    "    [SparsePauliOp([\"XX\", \"IY\"], [0.5, 0.5])],\n",
    "    [SparsePauliOp(\"XX\")],\n",
    "    [SparsePauliOp(\"IY\")],\n",
    "]\n",
    "# Apply the same layout as the transpiled circuit.\n",
    "observables = [\n",
    "    [observable.apply_layout(layout) for observable in observable_set]\n",
    "    for observable_set in observables\n",
    "]\n",
    "\n",
    "# Estimate the expectation value for all 300 combinations of observables\n",
    "# and parameter values, where the pub result will have shape (3, 100).\n",
    "#\n",
    "# This shape is due to our array of parameter bindings having shape\n",
    "# (100, 2), combined with our array of observables having shape (3, 1).\n",
    "estimator_pub = (transpiled_circuit, observables, params)\n",
    "\n",
    "# Instantiate the new estimator object, then run the transpiled circuit\n",
    "# using the set of parameters and observables.\n",
    "estimator = Estimator(mode=backend)\n",
    "job = estimator.run([estimator_pub])\n",
    "result = job.result()"
   ]
  },
  {
   "cell_type": "markdown",
   "id": "a3412e49-ca9b-4b04-b982-ea812658ca4e",
   "metadata": {},
   "source": [
    "### Broadcasting rules\n",
    "\n",
    "The PUBs aggregate elements from multiple arrays (observables and parameter values) by following the same broadcasting rules as NumPy. This section briefly summarizes those rules.  For a detailed explanation, see the [NumPy broadcasting rules documentation](https://numpy.org/doc/stable/user/basics.broadcasting.html).\n",
    "\n",
    "Rules:\n",
    "\n",
    "* Input arrays do not need to have the same number of dimensions.\n",
    "  * The resulting array will have the same number of dimensions as the input array with the largest dimension.\n",
    "  * The size of each dimension is the largest size of the corresponding dimension.\n",
    "  * Missing dimensions are assumed to have size one.\n",
    "* Shape comparisons start with the rightmost dimension and continue to the left.\n",
    "* Two dimensions are compatible if their sizes are equal or if one of them is 1.\n",
    "\n",
    "Examples of array pairs that broadcast:\n",
    "\n",
    "```text\n",
    "A1     (1d array):      1\n",
    "A2     (2d array):  3 x 5\n",
    "Result (2d array):  3 x 5\n",
    "\n",
    "\n",
    "A1     (3d array):  11 x 2 x 7\n",
    "A2     (3d array):  11 x 1 x 7\n",
    "Result (3d array):  11 x 2 x 7\n",
    "```\n",
    "\n",
    "Examples of array pairs that do not broadcast:\n",
    "\n",
    "```text\n",
    "A1     (1d array):  5\n",
    "A2     (1d array):  3\n",
    "\n",
    "A1     (2d array):      2 x 1\n",
    "A2     (3d array):  6 x 5 x 4 # This would work if the middle dimension were 2, but it is 5.\n",
    "```\n",
    "\n",
    "`EstimatorV2` returns one expectation value estimate for each element of the broadcasted shape.\n",
    "\n",
    "Here are some examples of common patterns expressed in terms of array broadcasting.  Their accompanying visual representation is shown in the figure that follows:\n",
    "\n",
    "\n",
    "Parameter value sets are represented by n x m arrays, and observable arrays are represented by one or more single-column arrays. For each example in the previous code, the parameter value sets are combined with their observable array to create the resulting expectation value estimates.  Example 1 (broadcast single observable) has a parameter value set that is a 5x1 array and a 1x1 observables array.  The one item in the observables array is combined with each item in the parameter value set to create a single 5x1 array where each item is a combination of the original item in the parameter value set with the item in the observables array.  Example 2 (zip) has a 5x1 parameter value set and a 5x1 observables array.  The output is a 5x1 array where each item is a combination of the nth item in the parameter value set with the nth item in the observables array.  Example 3 (outer/product) has a 1x6 parameter value set and a 4x1 observables array.  Their combination results in a 4x6 array that is created by combining each item in the parameter value set with *every* item in the observables array, and thus each parameter value becomes an entire column in the output.  Example 4 (Standard nd generalization) has a 3x6 parameter value set array and two 3x1 observables array.  These combine to create two 3x6 output arrays in a similar manner to the previous example.\n",
    "\n",
    "![This image illustrates several visual representations of array broadcasting](/images/guides/primitive-input-output/broadcasting.svg \"Visual representation of broadcasting\")"
   ]
  },
  {
   "cell_type": "code",
   "execution_count": 2,
   "id": "fcfaaab7-83f3-494a-8dee-67012435ab54",
   "metadata": {},
   "outputs": [],
   "source": [
    "# Broadcast single observable\n",
    "\n",
    "\n",
    "parameter_values = np.random.uniform(size=(5,))  # shape (5,)\n",
    "observables = SparsePauliOp(\"ZZZ\")  # shape ()\n",
    "# >> pub result has shape (5,)\n",
    "\n",
    "# Zip\n",
    "parameter_values = np.random.uniform(size=(5,))  # shape (5,)\n",
    "observables = [\n",
    "    SparsePauliOp(pauli) for pauli in [\"III\", \"XXX\", \"YYY\", \"ZZZ\", \"XYZ\"]\n",
    "]  # shape (5,)\n",
    "# >> pub result has shape (5,)\n",
    "\n",
    "# Outer/Product\n",
    "parameter_values = np.random.uniform(size=(1, 6))  # shape (1, 6)\n",
    "observables = [\n",
    "    [SparsePauliOp(pauli)] for pauli in [\"III\", \"XXX\", \"YYY\", \"ZZZ\"]\n",
    "]  # shape (4, 1)\n",
    "# >> pub result has shape (4, 6)\n",
    "\n",
    "# Standard nd generalization\n",
    "parameter_values = np.random.uniform(size=(3, 6))  # shape (3, 6)\n",
    "observables = [\n",
    "    [\n",
    "        [SparsePauliOp([\"XII\"])],\n",
    "        [SparsePauliOp([\"IXI\"])],\n",
    "        [SparsePauliOp([\"IIX\"])],\n",
    "    ],\n",
    "    [\n",
    "        [SparsePauliOp([\"ZII\"])],\n",
    "        [SparsePauliOp([\"IZI\"])],\n",
    "        [SparsePauliOp([\"IIZ\"])],\n",
    "    ],\n",
    "]  # shape (2, 3, 1)"
   ]
  },
  {
   "cell_type": "markdown",
   "id": "174975cf-c2b2-4bd3-bb71-4dbcb62f77a1",
   "metadata": {},
   "source": [
    "<Admonition type=\"tip\" title=\"SparsePauliOp\">\n",
    "Each `SparsePauliOp` counts as a single element in this context, regardless of the number of Paulis contained in the `SparsePauliOp`. Thus, for the purpose of these broadcasting rules, all of the following elements have the same shape:\n",
    "\n",
    "```text\n",
    "a = SparsePauliOp(\"Z\") # shape ()\n",
    "b = SparsePauliOp(\"IIIIZXYIZ\") # shape ()\n",
    "c = SparsePauliOp.from_list([\"XX\", \"XY\", \"IZ\"]) # shape ()\n",
    "```\n",
    "\n",
    "The following lists of operators, while equivalent in terms of information contained, have different shapes:\n",
    "\n",
    "```text\n",
    "list1 = SparsePauliOp.from_list([\"XX\", \"XY\", \"IZ\"]) # shape ()\n",
    "list2 = [SparsePauliOp(\"XX\"), SparsePauliOp(\"XY\"), SparsePauliOp(\"IZ\")] # shape (3, )\n",
    "```\n",
    "</Admonition>"
   ]
  },
  {
   "cell_type": "markdown",
   "id": "dfbaa52f-be7a-406d-b1d7-950daf90fd7f",
   "metadata": {},
   "source": [
    "## Overview of primitive results\n",
    "\n",
    "Once one or more PUBs are sent to a QPU for execution and a job successfully completes, the data is returned as a [`PrimitiveResult`](../api/qiskit/qiskit.primitives.PrimitiveResult) container object accessed by calling the `RuntimeJobV2.result()` method. The `PrimitiveResult` contains an iterable list of [`PubResult`](../api/qiskit/qiskit.primitives.PubResult) objects that contain the execution results for each PUB. Depending on the primitive used, these data will be either expectation values and their error bars in the case of the Estimator, or samples of the circuit output in the case of the Sampler.\n",
    "\n",
    "Each element of this list corresponds to each PUB submitted to the primitive's `run()` method (for example, a job submitted with 20 PUBs will return a `PrimitiveResult` object that contains a list of 20 `PubResults`, one corresponding to each PUB).\n",
    "\n",
    "Each of these `PubResult` objects possess both a `data` and a `metadata` attribute. The `data` attribute is a customized [`DataBin`](../api/qiskit/qiskit.primitives.DataBin) that contains the actual measurement values, standard deviations, and so forth. This `DataBin` has various attributes depending on the shape or structure of the associated PUB as well as the error mitigation options specified by the primitive used to submit the job (for example, [ZNE](./error-mitigation-and-suppression-techniques#zero-noise-extrapolation-zne) or [PEC](./error-mitigation-and-suppression-techniques#probabilistic-error-cancellation-pec)). Meanwhile, the `metadata` attribute contains information about the runtime and error mitigation options used (explained later in the [Result metadata](#result-metadata) section of this page).\n",
    "\n",
    "Put simply, a single job returns a `PrimitiveResult` object and contains a list of one or more `PubResults`. These `PubResults` are where the measurement data is stored for each of the PUBs that were submitted to the job.\n",
    "\n",
    "### Estimator output\n",
    "\n",
    "Each `PubResult` for the Estimator primitive contains at least an array of expectation values (`PubResult.data.evs`) and associated standard deviations (either `PubResult.data.stds` or `PubResult.data.ensemble_standard_error` depending on the `resilience_level` used), but can contain more data depending on the error mitigation options that were specified.\n",
    "\n",
    "The below code snippet describes the `PrimitiveResult` (and associated `PubResult`) format for the job created above."
   ]
  },
  {
   "cell_type": "code",
   "execution_count": 3,
   "id": "8a4a1929-6191-4061-9fb2-916d2580d1ae",
   "metadata": {},
   "outputs": [
    {
     "name": "stdout",
     "output_type": "stream",
     "text": [
      "The result of the submitted job had 1 PUB and has a value:\n",
      " PrimitiveResult([PubResult(data=DataBin(evs=np.ndarray(<shape=(3, 100), dtype=float64>), stds=np.ndarray(<shape=(3, 100), dtype=float64>), ensemble_standard_error=np.ndarray(<shape=(3, 100), dtype=float64>), shape=(3, 100)), metadata={'shots': 4096, 'target_precision': 0.015625, 'circuit_metadata': {}, 'resilience': {}, 'num_randomizations': 32})], metadata={'dynamical_decoupling': {'enable': False, 'sequence_type': 'XX', 'extra_slack_distribution': 'middle', 'scheduling_method': 'alap'}, 'twirling': {'enable_gates': False, 'enable_measure': True, 'num_randomizations': 'auto', 'shots_per_randomization': 'auto', 'interleave_randomizations': True, 'strategy': 'active-accum'}, 'resilience': {'measure_mitigation': True, 'zne_mitigation': False, 'pec_mitigation': False}, 'version': 2})\n",
      "\n",
      "The associated PubResult of this job has the following DataBins:\n",
      " DataBin(evs=np.ndarray(<shape=(3, 100), dtype=float64>), stds=np.ndarray(<shape=(3, 100), dtype=float64>), ensemble_standard_error=np.ndarray(<shape=(3, 100), dtype=float64>), shape=(3, 100))\n",
      "\n",
      "And this DataBin has attributes: dict_keys(['evs', 'stds', 'ensemble_standard_error'])\n",
      "Recall that this shape is due to our array of parameter binding sets having shape (100,), combined with \n",
      "  our array of observables having shape (3, 1), where 2 is the number of parameters in the circuit.\n",
      "\n",
      "The expectation values measured from this PUB are: \n",
      "[[-0.0014035   0.15223396  0.30803108  0.44672305  0.5214615   0.61422117\n",
      "   0.64364691  0.66312691  0.64774245  0.59679237  0.52601022  0.43787315\n",
      "   0.38032942  0.3346206   0.29032091  0.24223577  0.23568204  0.23956799\n",
      "   0.26290527  0.30230304  0.3511801   0.39553212  0.44657858  0.46665214\n",
      "   0.49544736  0.49509826  0.47437054  0.43510519  0.39648986  0.34270822\n",
      "   0.27799975  0.25232754  0.22140991  0.2143374   0.20591814  0.23167193\n",
      "   0.26902474  0.34205492  0.40835755  0.47894371  0.54922629  0.61589872\n",
      "   0.62401764  0.65460419  0.61450554  0.5679442   0.47345941  0.34952525\n",
      "   0.22763338  0.06767008 -0.09508101 -0.23715404 -0.38168203 -0.49197901\n",
      "  -0.57698866 -0.63532283 -0.65882417 -0.65108627 -0.63235651 -0.54505864\n",
      "  -0.46607095 -0.40928899 -0.33952666 -0.28178429 -0.27033692 -0.2264954\n",
      "  -0.23624634 -0.26571908 -0.29049296 -0.3304441  -0.38860032 -0.42395341\n",
      "  -0.47308438 -0.50966007 -0.51208754 -0.50307885 -0.46787622 -0.42200896\n",
      "  -0.37172839 -0.33113137 -0.26519468 -0.25588242 -0.21134416 -0.20261156\n",
      "  -0.20716704 -0.24367119 -0.28789373 -0.36028216 -0.45520059 -0.5087147\n",
      "  -0.57997571 -0.62188815 -0.63213213 -0.62763074 -0.58236531 -0.51094318\n",
      "  -0.42980707 -0.31844061 -0.13893908 -0.01294725]\n",
      " [ 0.01168031  0.07566813  0.15946169  0.2285279   0.23512982  0.33822129\n",
      "   0.39357583  0.4545166   0.49768298  0.55963943  0.60940773  0.64444868\n",
      "   0.69421697  0.75566559  0.77547134  0.82117692  0.84453755  0.89227449\n",
      "   0.90547832  0.92782327  0.9486447   0.96591125  0.97708373  0.98825621\n",
      "   0.99688948  0.98470133  0.98520917  0.97911509  0.96083286  0.9511839\n",
      "   0.91868216  0.89481369  0.87094522  0.86129626  0.80898876  0.78156542\n",
      "   0.73687552  0.68710722  0.63937028  0.5962039   0.5464356   0.51342601\n",
      "   0.40627182  0.38951311  0.31181362  0.26864724  0.19907319  0.13254618\n",
      "   0.1020758  -0.0025392  -0.05078398 -0.10563067 -0.18586936 -0.23411414\n",
      "  -0.30571955 -0.35294864 -0.41693646 -0.47889291 -0.57131975 -0.55608456\n",
      "  -0.61042341 -0.66171523 -0.71402273 -0.73941471 -0.80594173 -0.82066908\n",
      "  -0.88313337 -0.91360376 -0.91919    -0.94813686 -0.97352885 -0.95930934\n",
      "  -0.98063861 -0.99384244 -0.98520917 -0.98317781 -0.98520917 -0.96591125\n",
      "  -0.95677014 -0.94051927 -0.91055672 -0.90192344 -0.8618041  -0.83234939\n",
      "  -0.80898876 -0.75211071 -0.69218562 -0.65562115 -0.62515076 -0.57131975\n",
      "  -0.51901225 -0.45146956 -0.39052879 -0.32857234 -0.26052181 -0.20110455\n",
      "  -0.17571256 -0.11883451 -0.03808798  0.0050784 ]\n",
      " [-0.01448732  0.2287998   0.45660047  0.6649182   0.80779318  0.89022106\n",
      "   0.893718    0.87173723  0.79780192  0.6339453   0.44261271  0.23129761\n",
      "   0.06644186 -0.08642438 -0.19482952 -0.33670538 -0.37317347 -0.4131385\n",
      "  -0.37966779 -0.32321718 -0.2462845  -0.17484701 -0.08392656 -0.05495192\n",
      "  -0.00599475  0.00549519 -0.03646809 -0.10890471 -0.16785313 -0.26576745\n",
      "  -0.36268265 -0.39015861 -0.42812539 -0.43262146 -0.39715249 -0.31822156\n",
      "  -0.19882603 -0.00299738  0.17734482  0.36168353  0.55201699  0.71837143\n",
      "   0.84176346  0.91969527  0.91719745  0.86724116  0.74784564  0.56650431\n",
      "   0.35319096  0.13787936 -0.13937804 -0.36867741 -0.57749469 -0.74984389\n",
      "  -0.84825777 -0.91769702 -0.90071188 -0.82327963 -0.69339328 -0.53403272\n",
      "  -0.3217185  -0.15686275  0.0349694   0.17584613  0.26526789  0.36767828\n",
      "   0.41064069  0.38216561  0.33820407  0.28724866  0.19632821  0.11140252\n",
      "   0.03446984 -0.02547771 -0.0389659  -0.02297989  0.04945673  0.12189334\n",
      "   0.21331335  0.27825653  0.38016735  0.39015861  0.43911577  0.42712626\n",
      "   0.39465468  0.26476833  0.11639815 -0.06494317 -0.28525041 -0.44610965\n",
      "  -0.64093918 -0.79230673 -0.87373548 -0.92668915 -0.90420882 -0.82078182\n",
      "  -0.68390159 -0.51804671 -0.23979018 -0.0309729 ]]\n"
     ]
    }
   ],
   "source": [
    "print(\n",
    "    f\"The result of the submitted job had {len(result)} PUB and has a value:\\n {result}\\n\"\n",
    ")\n",
    "print(\n",
    "    f\"The associated PubResult of this job has the following DataBins:\\n {result[0].data}\\n\"\n",
    ")\n",
    "print(f\"And this DataBin has attributes: {result[0].data.keys()}\")\n",
    "print(\n",
    "    \"Recall that this shape is due to our array of parameter binding sets having shape (100,), combined with \\n\\\n",
    "  our array of observables having shape (3, 1), where 2 is the number of parameters in the circuit.\\n\"\n",
    ")\n",
    "print(\n",
    "    f\"The expectation values measured from this PUB are: \\n{result[0].data.evs}\"\n",
    ")"
   ]
  },
  {
   "cell_type": "markdown",
   "id": "40a9f976-fffa-48fb-a81a-26446d5a65a4",
   "metadata": {},
   "source": [
    "#### How the Estimator calculates error\n",
    "\n",
    "In addition to the estimate of the mean of the observables passed in the input PUBs (the `evs` field of the `DataBin`), the Estimator also attempts to deliver an estimate of the error associated with those expectation values. All estimator queries will populate the `stds` field with a quantity like the standard error of the mean for each expectation value, but some error mitigation options produce additional information, such as `ensemble_standard_error`.\n",
    "\n",
    "Consider a single observable $\\mathcal{O}$. In the absence of [ZNE](/guides/error-mitigation-and-suppression-techniques#zero-noise-extrapolation-zne), you can think of each shot of the Estimator execution as providing a point estimate of the expectation value $\\langle \\mathcal{O} \\rangle$. If the pointwise estimates are in a vector `Os`, then the value returned in `ensemble_standard_error` is equivalent to the following (in which $\\sigma_{\\mathcal{O}}$ is the standard deviation of the expectation value estimate and $N_{shots}$ is the number of shots):\n",
    "\n",
    "$$\\frac{ \\sigma_{\\mathcal{O}} }{ \\sqrt{N_{shots}} },$$\n",
    "\n",
    "which treats all shots as part of a single ensemble. If you requested gate [twirling](/guides/error-mitigation-and-suppression-techniques#pauli-twirling) (`twirling.enable_gates = True`), you can sort the pointwise estimates of $\\langle \\mathcal{O} \\rangle$ into sets that share a common twirl. Call these sets of estimates `O_twirls`, and there are `num_randomizations` (number of twirls) of them. Then `stds` is the standard error of the mean of `O_twirls`, as in\n",
    "\n",
    "$$\\frac{ \\sigma_{\\mathcal{O}} }{ \\sqrt{N_{twirls}} },$$\n",
    "\n",
    "where $\\sigma_{\\mathcal{O}}$ is the standard deviation of `O_twirls` and $N_{twirls}$ is the number of twirls. When you do not enable twirling, `stds` and `ensemble_standard_error` are equal.\n",
    "\n",
    "If you enable ZNE, then the `stds` described above become weights in a non-linear regression to an extrapolator model. What finally gets returned in the `stds` in this case is the uncertainty of the fit model evaluated at a noise factor of zero. When there is a poor fit, or large uncertainty in the fit, the reported `stds` can become very large. When ZNE is enabled, `pub_result.data.evs_noise_factors` and `pub_result.data.stds_noise_factors` are also populated, so that you can do your own extrapolation."
   ]
  },
  {
   "cell_type": "markdown",
   "id": "5b585649-065c-4e19-a4f4-3f1637143890",
   "metadata": {},
   "source": [
    "### Sampler output\n",
    "\n",
    "\n",
    "The Sampler primitive outputs job results in a similar format, with the exception that each `DataBin` will contain one or more `BitArray` objects which store the samples of the circuit attached to a particular `ClassicalRegister`, typically one bitstring per shot. The attribute label for each bit array object depends on the `ClassicalRegisters` defined in the circuit being executed. The measurement data from these `BitArrays` can then be processed into a dictionary with key-value pairs corresponding to each bitstring measured (for example, '1011001') and the number of times (or counts) it was measured.\n",
    "\n",
    "For example, a circuit that has measurement instructions added by the [`QuantumCircuit.measure_all()`](../api/qiskit/qiskit.circuit.QuantumCircuit#measure_all) function possesses a classical register with the label *'meas'*. After execution, a count data dictionary can be created by executing:"
   ]
  },
  {
   "cell_type": "code",
   "execution_count": 4,
   "id": "a2316ece-c1ef-49b9-ae07-860decb0747d",
   "metadata": {},
   "outputs": [],
   "source": [
    "# Add measurement instructions to the example circuit\n",
    "circuit.measure_all()\n",
    "\n",
    "# Transpile the circuit\n",
    "pm = generate_preset_pass_manager(optimization_level=1, backend=backend)\n",
    "transpiled_circuit = pm.run(circuit)\n",
    "\n",
    "# Create a PUB for the Sampler primitive using the same parameters defined earlier\n",
    "sampler_pub = (transpiled_circuit, params)\n",
    "\n",
    "\n",
    "sampler = Sampler(mode=backend)\n",
    "job = sampler.run([sampler_pub])\n",
    "result = job.result()"
   ]
  },
  {
   "cell_type": "code",
   "execution_count": 5,
   "id": "f459cd09-3243-487c-9fc4-a8e7a5589e4e",
   "metadata": {},
   "outputs": [
    {
     "name": "stdout",
     "output_type": "stream",
     "text": [
      "The result of the submitted job had 1 PUB and has a value:\n",
      " PrimitiveResult([SamplerPubResult(data=DataBin(meas=BitArray(<shape=(100,), num_shots=4096, num_bits=2>), shape=(100,)), metadata={'circuit_metadata': {}})], metadata={'execution': {'execution_spans': ExecutionSpans([DoubleSliceSpan(<start='2025-03-01 09:16:09', stop='2025-03-01 09:17:57', size=409600>)])}, 'version': 2})\n",
      "\n",
      "The associated PubResult of this Sampler job has the following DataBins:\n",
      " DataBin(meas=BitArray(<shape=(100,), num_shots=4096, num_bits=2>), shape=(100,))\n",
      "\n",
      "It has a key-value pair dict: \n",
      "dict_items([('meas', BitArray(<shape=(100,), num_shots=4096, num_bits=2>))])\n",
      "\n"
     ]
    },
    {
     "name": "stdout",
     "output_type": "stream",
     "text": [
      "And the raw data can be converted to a bitstring-count format: \n",
      "{'11': 107172, '10': 101645, '01': 100212, '00': 100571}\n"
     ]
    }
   ],
   "source": [
    "print(\n",
    "    f\"The result of the submitted job had {len(result)} PUB and has a value:\\n {result}\\n\"\n",
    ")\n",
    "print(\n",
    "    f\"The associated PubResult of this Sampler job has the following DataBins:\\n {result[0].data}\\n\"\n",
    ")\n",
    "print(f\"It has a key-value pair dict: \\n{result[0].data.items()}\\n\")\n",
    "print(\n",
    "    f\"And the raw data can be converted to a bitstring-count format: \\n{result[0].data.meas.get_counts()}\"\n",
    ")"
   ]
  },
  {
   "cell_type": "markdown",
   "id": "c5c93b0f-724f-44b8-9d9d-bb93daf1950b",
   "metadata": {},
   "source": [
    "## Result metadata\n",
    "\n",
    "In addition to the execution results, both the `PrimitiveResult` and `PubResult` objects contain a metadata attribute about the job that was submitted. The metadata containing information for all submitted PUBs (such as the various [runtime options](../api/qiskit-ibm-runtime/options) available) can be found in the `PrimitiveResult.metatada`, while the metadata specific to each PUB is found in `PubResult.metadata`."
   ]
  },
  {
   "cell_type": "code",
   "execution_count": 6,
   "id": "48a17180-4f85-413e-82dc-3a0389c11975",
   "metadata": {},
   "outputs": [
    {
     "name": "stdout",
     "output_type": "stream",
     "text": [
      "The metadata of the PrimitiveResult is:\n",
      "'execution' : {'execution_spans': ExecutionSpans([DoubleSliceSpan(<start='2025-03-01 09:16:09', stop='2025-03-01 09:17:57', size=409600>)])},\n",
      "'version' : 2,\n",
      "\n",
      "The metadata of the PubResult result is:\n",
      "'circuit_metadata' : {},\n"
     ]
    }
   ],
   "source": [
    "# Print out the results metadata\n",
    "print(\"The metadata of the PrimitiveResult is:\")\n",
    "for key, val in result.metadata.items():\n",
    "    print(f\"'{key}' : {val},\")\n",
    "\n",
    "print(\"\\nThe metadata of the PubResult result is:\")\n",
    "for key, val in result[0].metadata.items():\n",
    "    print(f\"'{key}' : {val},\")"
   ]
  },
  {
   "cell_type": "markdown",
   "id": "12c8acfd-d189-45b7-a372-10c48bb13687",
   "metadata": {},
   "source": [
    "For Sampler jobs, you can also review the result metadata to understand when certain data was run; this is called the [_execution span._](monitor-job#execution-spans)"
   ]
  }
 ],
 "metadata": {
  "celltoolbar": "Raw Cell Format",
  "description": "Understand the input and output format (including Primitive Unified Blocs or PUBs) of the primitives",
  "kernelspec": {
   "display_name": "Python 3",
   "language": "python",
   "name": "python3"
  },
  "language_info": {
   "codemirror_mode": {
    "name": "ipython",
    "version": 3
   },
   "file_extension": ".py",
   "mimetype": "text/x-python",
   "name": "python",
   "nbconvert_exporter": "python",
   "pygments_lexer": "ipython3",
   "version": "3"
  },
  "title": "Primitive inputs and outputs"
 },
 "nbformat": 4,
 "nbformat_minor": 2
}
