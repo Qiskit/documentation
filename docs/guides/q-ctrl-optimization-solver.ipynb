{
 "cells": [
  {
   "cell_type": "markdown",
   "id": "dde95705",
   "metadata": {},
   "source": [
    "# Optimization Solver: A Qiskit Function by Q-CTRL Fire Opal\n",
    "\n",
    "<LegacyContent>\n",
    "<Admonition type=\"note\">\n",
    "This documentation is relevant to IBM Quantum&reg; Platform Classic. If you need the newer version, go to the new [IBM Quantum Platform documentation.](https://quantum.cloud.ibm.com/docs/guides/q-ctrl-optimization-solver)\n",
    "</Admonition>\n",
    "</LegacyContent>\n",
    "<CloudContent>\n",
    "<Admonition type=\"note\">\n",
    "This documentation is relevant to the new IBM Quantum&reg; Platform. If you need the previous version, return to the [IBM Quantum Platform Classic documentation.](https://docs.quantum.ibm.com/guides/q-ctrl-optimization-solver)\n",
    "</Admonition>\n",
    "</CloudContent>\n",
    "\n",
    "<Admonition type=\"note\">\n",
    "Qiskit Functions are an experimental feature available only to IBM Quantum&reg; Premium Plan users. They are in preview release status and subject to change.\n",
    "</Admonition>"
   ]
  },
  {
   "cell_type": "markdown",
   "id": "40c2085c",
   "metadata": {
    "tags": [
     "version-info"
    ]
   },
   "source": []
  },
  {
   "cell_type": "markdown",
   "id": "e30c7881",
   "metadata": {},
   "source": [
    "## Overview\n",
    "\n",
    "With the Fire Opal Optimization Solver, you can solve utility-scale optimization problems on quantum hardware without requiring quantum expertise. Simply input the high-level problem definition, and the Solver takes care of the rest. The entire workflow is noise-aware and leverages [Fire Opal's Performance Management](/docs/guides/q-ctrl-performance-management) under the hood. The Solver consistently delivers accurate solutions to classically challenging problems, even at full-device scale on the largest IBM&reg; QPUs.\n",
    "\n",
    "The Solver is flexible and can be used to solve combinatorial optimization problems defined as objective functions or arbitrary graphs. Problems do not have to be mapped to device topology. Both unconstrained and constrained problems are solvable, given that constraints can be formulated as penalty terms. The examples included in this guide demonstrate how to solve an unconstrained and a constrained utility-scale optimization problem using different Solver input types. The first example involves a Max-Cut problem defined on a 156-node, 3-Regular graph, while the second example tackles a 50-node Minimum Vertex Cover problem defined by a cost function.\n",
    "\n",
    "To get access to the Optimization Solver, [contact Q-CTRL](https://form.typeform.com/to/uOAVDnGg?typeform-source=q-ctrl.com)."
   ]
  },
  {
   "cell_type": "markdown",
   "id": "5f761442",
   "metadata": {},
   "source": [
    "## Function description\n",
    "\n",
    "The Solver fully optimizes and automates the entire algorithm, from error suppression at the hardware level to efficient problem mapping and closed-loop classical optimization. Behind the scenes, the Solver's pipeline reduces errors at every stage, enabling the enhanced performance required to meaningfully scale. The underlying workflow is inspired by the Quantum Approximate Optimization Algorithm (QAOA), which is a hybrid quantum-classical algorithm. For a detailed summary of the full Optimization Solver workflow, refer to [the published manuscript](https://arxiv.org/abs/2406.01743).\n",
    "\n",
    "\n",
    "![Visualization of the Optimization Solver workflow](/docs/images/guides/qctrl-optimization/solver_workflow.svg)\n",
    "\n",
    "To solve a generic problem with the Optimization Solver:\n",
    "1. Define your problem as an objective function, a graph, or `SparsePauliOp` spin chain.\n",
    "2. Connect to the function through the Qiskit Functions Catalog.\n",
    "3. Run the problem with the Solver and retrieve results."
   ]
  },
  {
   "cell_type": "markdown",
   "id": "d20af236",
   "metadata": {},
   "source": [
    "## Inputs and outputs\n",
    "### Inputs\n",
    "<LegacyContent>\n",
    "| Name    | Type                    | Description                                                                                                                                                                                         | Required | Default | Example |\n",
    "| ---------  |-------------------------|-----------------------------------------------------------------------------------------------------------------------------------------------------------------------------------------------------| -------- | ---------- | ---------- |\n",
    "| problem  | `str` or `SparsePauliOp` | One of the representations listed under \"Accepted problem formats\"                                                                                                                                  | Yes | N/A   |`Poly(2.0*n[0]*n[1] + 2.0*n[0]*n[2] - 3.13520241298341*n[0] + 2.0*n[1]*n[2] - 3.14469748506794*n[1] - 3.18897660121566*n[2] + 6.0, n[0], n[1], n[2], domain='RR')` |\n",
    "| problem_type  | `str`                   | Name of the problem class; only used for graph  and spin chain problem definitions, which are limited to \"maxcut\" or \"spin_chain\"; not required for arbitrary objective function problem definitions | No      | `None`| `\"maxcut\"`      |\n",
    "| backend_name  | `str`                   | Name of the backend to use                                                                                                                                                                          | No  | Least busy backend that your instance has access to    | `\"ibm_fez\"`      |\n",
    "| instance  | `str`                   | The hub/group/project to use                                                                                                                                                                        | No   | A Premium access instance is randomly chosen if your account has access to multiple instances   | `\"hub/group/project\"`      |\n",
    "| options  | `dict`                  | Input options, including the following: (Optional) `session_id`: `str`; default behavior creates a new Session                                                                                      | No | `None`    | `{\"session_id\": \"cw2q70c79ws0008z6g4g\"}`     |\n",
    "</LegacyContent>\n",
    "<CloudContent>\n",
    "| Name    | Type                    | Description                                                                                                                                                                                         | Required | Default | Example |\n",
    "| ---------  |-------------------------|-----------------------------------------------------------------------------------------------------------------------------------------------------------------------------------------------------| -------- | ---------- | ---------- |\n",
    "| problem  | `str` or `SparsePauliOp` | One of the representations listed under \"Accepted problem formats\"                                                                                                                                  | Yes | N/A   |`Poly(2.0*n[0]*n[1] + 2.0*n[0]*n[2] - 3.13520241298341*n[0] + 2.0*n[1]*n[2] - 3.14469748506794*n[1] - 3.18897660121566*n[2] + 6.0, n[0], n[1], n[2], domain='RR')` |\n",
    "| problem_type  | `str`                   | Name of the problem class; only used for graph  and spin chain problem definitions, which are limited to \"maxcut\" or \"spin_chain\"; not required for arbitrary objective function problem definitions | No      | `None`| `\"maxcut\"`      |\n",
    "| backend_name  | `str`                   | Name of the backend to use                                                                                                                                                                          | No  | Least busy backend that your instance has access to    | `\"ibm_fez\"`      |\n",
    "| instance  | `str`                   | The cloud resource name of the instance to use                                                                                                                                                                        | No   | A Premium access instance is randomly chosen if your account has access to multiple instances   | `\"CRN\"`      |\n",
    "| options  | `dict`                  | Input options, including the following: (Optional) `session_id`: `str`; default behavior creates a new Session                                                                                      | No | `None`    | `{\"session_id\": \"cw2q70c79ws0008z6g4g\"}`     |\n",
    "</CloudContent>\n",
    "**Accepted problem formats:**\n",
    "- Polynomial expression representation of an objective function. Ideally created in Python with an existing SymPy Poly object and formatted into a string using [sympy.srepr](https://docs.sympy.org/latest/tutorials/intro-tutorial/printing.html#srepr).\n",
    "- Graph representation of a specific problem type. The graph should be created using the networkx library in Python. It should then converted to a string by using the networkx function `[nx.readwrite.json_graph.adjacency_data](http://nx.readwrite.json_graph.adjacency_data.)`.\n",
    "- Spin chain representation of a specific problem. The spin chain should be represented as a `SparsePauliOp` object; see the [documentation](/docs/api/qiskit/qiskit.quantum_info.SparsePauliOp) for more details.\n",
    "\n",
    "**Supported backends:**\n",
    "The following list of backends are currently supported. If your device is not listed, [reach out to Q-CTRL](https://form.typeform.com/to/iuujEAEI?typeform-source=q-ctrl.com) to add support.\n",
    "- ibm_brisbane\n",
    "- ibm_brussels\n",
    "- ibm_cleveland\n",
    "- ibm_fez\n",
    "- ibm_kawasaki\n",
    "- ibm_nazca\n",
    "- ibm_quebec\n",
    "- ibm_rensselaer\n",
    "- ibm_sherbrooke\n",
    "- ibm_strasbourg\n",
    "- ibm_torino\n",
    "\n",
    "**Options:**\n",
    "| Name   | Type   | Description  | Default |\n",
    "|--------|----------|-----------------------|---------------------|\n",
    "| session_id | `str`  | An existing Qiskit Runtime session ID  | `\"cw4r3je6f0t010870y3g\"` |\n",
    "| job_tags | `list[str]` | A list of job tags | `[]`|\n",
    "\n",
    "### Outputs\n",
    "| Name    | Type | Description | Example |\n",
    "| ---------  | ---------------- | -------------------------- | -------- |\n",
    "| result  | `dict[str, Any]`              | Solution and metadata listed under \"Result dictionary contents\"         | `{'solution_bitstring_cost': 3.0, ‘final_bitstring_distribution’: {‘000001’: 100, ‘000011’: 2}, ‘iteration_count’: 3, 'solution_bitstring': ‘000001’,  'variables_to_bitstring_index_map': {n[1]': 5, 'n[2]': 4, 'n[3]': 3, 'n[4]': 2, 'n[5]': 1}, 'best_parameters': [0.19628831763697097, -1.047052334523102], 'warnings': []}`     |\n",
    "\n",
    "\n",
    "**Result dictionary contents:**\n",
    "| Name    | Type | Description |\n",
    "| ---------  | ---------------- | -------------------------- |\n",
    "| solution_bitstring_cost  | `float`              | The best minimum cost across all iterations        |\n",
    "| final_bitstring_distribution  | `CountsDict`              | The bitstring counts dictionary associated with the minimum cost        |\n",
    "| solution_bitstring | `str`              | Bitstring with the best cost in the final distribution         |\n",
    "| iteration_count  | `int`              | The total number of QAOA iterations performed by the Solver        |\n",
    "| variables_to_bitstring_index_map  | `float`              | The mapping from the variables to the equivalent bit in the bitstring       |\n",
    "| best_parameters  | `list[float]`            | The optimized beta and gamma parameters across all iterations  |\n",
    "| warnings  |`list[str]`              | The warnings produced while compiling or running QAOA (defaults to None)   |"
   ]
  },
  {
   "cell_type": "markdown",
   "id": "1165f4f0",
   "metadata": {},
   "source": [
    "## Benchmarks\n",
    "\n",
    "[Published benchmarking results](https://arxiv.org/abs/2406.01743) show that the Solver successfully solves problems with over 120 qubits, even outperforming previously published results on quantum annealing and trapped-ion devices. The following benchmark metrics provide a rough indication of the accuracy and scaling of problem types based on a few examples. Actual metrics may differ based on various problem features, such as the number of terms in the objective function (density) and their locality, number of variables, and polynomial order.\n",
    "\n",
    "The \"Number of qubits\" indicated is not a hard limitation but represents rough thresholds where you can expect extremely consistent solution accuracy. Larger problem sizes have been successfully solved, and testing beyond these limits is encouraged.\n",
    "\n",
    "Arbitrary qubit connectivity is supported across all problem types.\n",
    "\n",
    "| Problem type    | Number of qubits | Example | Accuracy | Total time (s) | Runtime usage (s) | Number of iterations\n",
    "| ---------  | ---------------- | -------------------------- | -------- | ---------- | ------------- |---- |\n",
    "| Sparsely-connected quadratic problems  | 156 | 3-regular Max-Cut| 100%     | 1764     | 293          | 16 |\n",
    "| Higher-order binary optimization | 156 | Ising spin-glass model | 100%      | 1461     | 272          | 16 |\n",
    "| Densely-connected quadratic problems | 50 | Fully-connected Max-Cut| 100%      |  1758    | 268  | 12 |\n",
    "| Constrained problem with penalty terms | 50 | Weighted Minimum Vertex Cover with 8% edge density | 100%      | 1074     | 215 | 10 |"
   ]
  },
  {
   "cell_type": "markdown",
   "id": "73390a19",
   "metadata": {},
   "source": [
    "## Get started\n",
    "<LegacyContent>\n",
    "First, authenticate using your [IBM Quantum API token](http://quantum.ibm.com/). Then, select the Qiskit Function as follows:\n",
    "</LegacyContent>\n",
    "<CloudContent>\n",
    "First, authenticate using your [IBM Quantum API key](http://quantum.cloud.ibm.com/). Then, select the Qiskit Function as follows:\n",
    "\n",
    "</CloudContent>"
   ]
  },
  {
   "cell_type": "code",
   "execution_count": 6,
   "id": "95a715d2",
   "metadata": {},
   "outputs": [],
   "source": [
    "from qiskit_ibm_catalog import QiskitFunctionsCatalog\n",
    "\n",
    "catalog = QiskitFunctionsCatalog()\n",
    "\n",
    "# Access Function\n",
    "solver = catalog.load(\"q-ctrl/optimization-solver\")"
   ]
  },
  {
   "cell_type": "markdown",
   "id": "e8837f5f",
   "metadata": {},
   "source": [
    "## Example: Unconstrained optimization\n",
    "Run the [maximum cut](https://en.wikipedia.org/wiki/Maximum_cut) (Max-Cut) problem. The following example demonstrates the Solver's capabilities on a 156-node, 3-regular unweighted graph Max-Cut problem, but you can also solve weighted graph problems."
   ]
  },
  {
   "cell_type": "markdown",
   "id": "a699235b",
   "metadata": {},
   "source": [
    "In addition to `qiskit-ibm-catalog`, you will also use the following packages to run this example: `networkx` and `numpy`. You can install these packages by uncommenting the following cell if you are running this example in a notebook using the IPython kernel."
   ]
  },
  {
   "cell_type": "code",
   "execution_count": 7,
   "id": "a74fe6a9",
   "metadata": {},
   "outputs": [],
   "source": [
    "# %pip install networkx numpy"
   ]
  },
  {
   "cell_type": "markdown",
   "id": "a41c4a0d",
   "metadata": {},
   "source": [
    "### 1. Define the problem\n",
    "You can run a Max-Cut problem by defining a graph problem and specifying `problem_type='maxcut'`."
   ]
  },
  {
   "cell_type": "code",
   "execution_count": 8,
   "id": "d56e1440",
   "metadata": {},
   "outputs": [],
   "source": [
    "import networkx as nx\n",
    "import numpy as np\n",
    "\n",
    "# Generate a random graph with 156 nodes\n",
    "maxcut_graph = nx.random_regular_graph(d=3, n=116, seed=8)"
   ]
  },
  {
   "cell_type": "code",
   "execution_count": 9,
   "id": "0a7255e1",
   "metadata": {},
   "outputs": [
    {
     "data": {
      "text/plain": [
       "<Image src=\"/docs/images/guides/q-ctrl-optimization-solver/extracted-outputs/0a7255e1-0.avif\" alt=\"Output of the previous code cell\" />"
      ]
     },
     "metadata": {},
     "output_type": "display_data"
    }
   ],
   "source": [
    "# Optionally, visualize the graph\n",
    "nx.draw(maxcut_graph, nx.kamada_kawai_layout(maxcut_graph), node_size=100)"
   ]
  },
  {
   "cell_type": "markdown",
   "id": "e42a8d55",
   "metadata": {},
   "source": [
    "The Solver accepts a string as the problem definition input."
   ]
  },
  {
   "cell_type": "code",
   "execution_count": 10,
   "id": "2546e3e5",
   "metadata": {},
   "outputs": [],
   "source": [
    "# Convert graph to string\n",
    "problem_as_str = nx.readwrite.json_graph.adjacency_data(maxcut_graph)"
   ]
  },
  {
   "cell_type": "markdown",
   "id": "0ab6f24f",
   "metadata": {},
   "source": [
    "### 2. Run the problem\n",
    "When using the graph-based input method, specify the problem type."
   ]
  },
  {
   "cell_type": "code",
   "execution_count": 11,
   "id": "cf53550c",
   "metadata": {
    "tags": [
     "remove-cell"
    ]
   },
   "outputs": [],
   "source": [
    "# This cell is hidden from users\n",
    "from qiskit_ibm_runtime import QiskitRuntimeService\n",
    "\n",
    "service = QiskitRuntimeService()\n",
    "instance = service.active_account()[\"instance\"]\n",
    "backend_name = service.least_busy().name"
   ]
  },
  {
   "cell_type": "code",
   "execution_count": null,
   "id": "16c66d64",
   "metadata": {},
   "outputs": [],
   "source": [
    "# Solve the problem\n",
    "maxcut_job = solver.run(\n",
    "    problem=problem_as_str,\n",
    "    problem_type=\"maxcut\",\n",
    "    instance=instance,\n",
    "    backend_name=backend_name,  # E.g. \"ibm_fez\"\n",
    ")"
   ]
  },
  {
   "cell_type": "markdown",
   "id": "48069093",
   "metadata": {},
   "source": [
    "Check your Qiskit Function workload's [status](/docs/guides/functions#check-job-status) or return [results](/docs/guides/functions#retrieve-results) as follows:"
   ]
  },
  {
   "cell_type": "code",
   "execution_count": 15,
   "id": "856fe992",
   "metadata": {},
   "outputs": [
    {
     "name": "stdout",
     "output_type": "stream",
     "text": [
      "DONE\n"
     ]
    }
   ],
   "source": [
    "# Get job status\n",
    "print(maxcut_job.status())"
   ]
  },
  {
   "cell_type": "markdown",
   "id": "74f48eab",
   "metadata": {},
   "source": [
    "### 3. Retrieve the result\n",
    "Retrieve the optimal cut value from the results dictionary.\n",
    "\n",
    "<Admonition type=\"note\">The mapping of the variables to the bitstring may have changed. The output dictionary contains a `variables_to_bitstring_index_map` sub-dictionary, which helps to verify the ordering.</Admonition>"
   ]
  },
  {
   "cell_type": "code",
   "execution_count": 16,
   "id": "6b571411",
   "metadata": {},
   "outputs": [
    {
     "name": "stdout",
     "output_type": "stream",
     "text": [
      "Optimal cut value: 157.0\n"
     ]
    }
   ],
   "source": [
    "# Poll for results\n",
    "maxcut_result = maxcut_job.result()\n",
    "\n",
    "# Take the absolute value of the solution since the cost function is minimized\n",
    "qctrl_maxcut = abs(maxcut_result[\"solution_bitstring_cost\"])\n",
    "\n",
    "# Print the optimal cut value found by the Optimization Solver\n",
    "print(f\"Optimal cut value: {qctrl_maxcut}\")"
   ]
  },
  {
   "cell_type": "markdown",
   "id": "508e29b0",
   "metadata": {},
   "source": [
    "You can verify the accuracy of the result by solving the problem classically with open-source solvers like [PuLP](https://coin-or.github.io/pulp/) if the graph is not densely connected. High density problems may require advanced classical solvers to validate the solution."
   ]
  },
  {
   "cell_type": "markdown",
   "id": "e2817b13",
   "metadata": {},
   "source": [
    "## Example: Constrained optimization\n",
    "The prior Max-Cut example is a common quadratic unconstrained binary optimization problem. Q-CTRL's Optimization Solver can be used for various problem types, including constrained optimization. You can solve arbitrary problem types by inputting the problem definition represented as a polynomial where constraints are modeled as penalty terms.\n",
    "\n",
    "The following example demonstrates how to construct a cost function for a constrained optimization problem, [minimum vertex cover](https://en.wikipedia.org/wiki/Vertex_cover) (MVC)."
   ]
  },
  {
   "cell_type": "markdown",
   "id": "a9fbc0e9",
   "metadata": {},
   "source": [
    "In addition to the `qiskit-ibm-catalog` and `qiskit` packages, you will also use the following packages to run this example: `numpy`, `networkx`, and `sympy`. You can install these packages by uncommenting the following cell if you are running this example in a notebook using the IPython kernel."
   ]
  },
  {
   "cell_type": "code",
   "execution_count": null,
   "id": "c6428fd0",
   "metadata": {},
   "outputs": [],
   "source": [
    "# %pip install numpy networkx sympy"
   ]
  },
  {
   "cell_type": "markdown",
   "id": "98d3bfd3",
   "metadata": {},
   "source": [
    "### 1. Define the problem\n",
    "Define a random MVC problem by generating a graph with randomly weighted nodes."
   ]
  },
  {
   "cell_type": "code",
   "execution_count": 17,
   "id": "c2ce65e3",
   "metadata": {},
   "outputs": [
    {
     "data": {
      "text/plain": [
       "<Image src=\"/docs/images/guides/q-ctrl-optimization-solver/extracted-outputs/c2ce65e3-0.avif\" alt=\"Output of the previous code cell\" />"
      ]
     },
     "metadata": {},
     "output_type": "display_data"
    }
   ],
   "source": [
    "import networkx as nx\n",
    "from sympy import symbols, Poly, srepr\n",
    "\n",
    "# To change the weights, change the seed to any integer.\n",
    "rng_seed = 18\n",
    "_rng = np.random.default_rng(rng_seed)\n",
    "node_count = 50\n",
    "edge_probability = 0.08\n",
    "mvc_graph = nx.erdos_renyi_graph(\n",
    "    node_count, edge_probability, seed=rng_seed, directed=False\n",
    ")\n",
    "\n",
    "# add node weights\n",
    "for i in mvc_graph.nodes:\n",
    "    mvc_graph.add_node(i, weight=_rng.random())\n",
    "\n",
    "# Optionally, visualize the graph\n",
    "nx.draw(mvc_graph, nx.kamada_kawai_layout(mvc_graph), node_size=200)"
   ]
  },
  {
   "cell_type": "markdown",
   "id": "89c91472",
   "metadata": {},
   "source": [
    "A standard optimization model for weighted MVC can be formulated as follows. First, a penalty must be added for any case where an edge is not connected to a vertex in the subset. Therefore, let $n_i = 1$ if vertex $i$ is in the cover (i.e., in the subset) and $n_i = 0$ otherwise. Second, the goal is to minimize the total number of vertices in the subset, which can be represented by the following function:\n",
    "\n",
    "$$\\textbf{Minimize}\\qquad y = \\sum_{i\\in V} \\omega_i n_i$$"
   ]
  },
  {
   "cell_type": "code",
   "execution_count": null,
   "id": "91586ee9",
   "metadata": {},
   "outputs": [],
   "source": [
    "# Construct the cost function.\n",
    "variables = symbols([f\"n[{i}]\" for i in range(node_count)])\n",
    "cost_function = Poly(0, variables)\n",
    "\n",
    "for i in mvc_graph.nodes():\n",
    "    weight = mvc_graph.nodes[i].get(\"weight\", 0)\n",
    "    cost_function += variables[i] * weight"
   ]
  },
  {
   "cell_type": "markdown",
   "id": "9d01684b",
   "metadata": {},
   "source": [
    "Now every edge in the graph should include at least one end point from the cover, which can be expressed as the inequality:\n",
    "\n",
    "$$n_i + n_j \\ge 1 \\texttt{ for all } (i,j)\\in E$$\n",
    "\n",
    "Any case where an edge is not connected to the vertex of cover must be penalized. This can be represented in the cost function by adding a penalty of the form $P(1-n_i-n_j+n_i n_j)$ where $P$ is a positive penalty constant. Thus, an unconstrained alternative to the constrained inequality for weighted MVC is:\n",
    "\n",
    "$$\\textbf{Minimize}\\qquad y = \\sum_{i\\in V}\\omega_i n_i + P(\\sum_{(i,j)\\in E}(1 - n_i - n_j + n_i n_j))$$"
   ]
  },
  {
   "cell_type": "code",
   "execution_count": null,
   "id": "1ff1ffcc",
   "metadata": {},
   "outputs": [],
   "source": [
    "# Add penalty term.\n",
    "penalty_constant = 2\n",
    "for i, j in mvc_graph.edges():\n",
    "    cost_function += penalty_constant * (\n",
    "        1 - variables[i] - variables[j] + variables[i] * variables[j]\n",
    "    )"
   ]
  },
  {
   "cell_type": "markdown",
   "id": "9fd0ba9e",
   "metadata": {},
   "source": [
    "### 2. Run the problem"
   ]
  },
  {
   "cell_type": "code",
   "execution_count": null,
   "id": "f380b56d",
   "metadata": {},
   "outputs": [],
   "source": [
    "# Solve the problem\n",
    "mvc_job = solver.run(\n",
    "    problem=srepr(cost_function),\n",
    "    instance=instance,\n",
    "    backend_name=backend_name,  # E.g. \"ibm_fez\"\n",
    ")"
   ]
  },
  {
   "cell_type": "markdown",
   "id": "d154c226",
   "metadata": {},
   "source": [
    "Check your Qiskit Function workload's [status](/docs/guides/functions#check-job-status) or return [results](/docs/guides/functions#retrieve-results) as follows:"
   ]
  },
  {
   "cell_type": "code",
   "execution_count": null,
   "id": "6de77b14",
   "metadata": {},
   "outputs": [],
   "source": [
    "print(mvc_job.status())"
   ]
  },
  {
   "cell_type": "markdown",
   "id": "8a95618e",
   "metadata": {},
   "source": [
    "### 3. Get the result\n",
    "Retrieve the solution and analyze the results. Because this problem has weighted nodes, the solution is not simply the minimum number of nodes covered. Instead, the solution cost represents the sum of the weights of the vertices that are included in the vertex cover. It represents the total \"cost\" or \"weight\" of covering all the edges in the graph using the selected vertices."
   ]
  },
  {
   "cell_type": "code",
   "execution_count": null,
   "id": "a924bf93",
   "metadata": {},
   "outputs": [
    {
     "name": "stdout",
     "output_type": "stream",
     "text": [
      "Solution cost: 10.248198273708624\n"
     ]
    }
   ],
   "source": [
    "mvc_result = mvc_job.result()\n",
    "qctrl_cost = mvc_result[\"solution_bitstring_cost\"]\n",
    "\n",
    "# Print results\n",
    "print(f\"Solution cost: {qctrl_cost}\")"
   ]
  },
  {
   "cell_type": "markdown",
   "id": "e9ec2e67",
   "metadata": {},
   "source": [
    "## Get support\n",
    "\n",
    "For any questions or issues, [reach out to Q-CTRL](https://form.typeform.com/to/iuujEAEI?typeform-source=q-ctrl.com)."
   ]
  },
  {
   "cell_type": "markdown",
   "id": "5a6a25c8",
   "metadata": {},
   "source": [
    "## Next steps\n",
    "\n",
    "<Admonition type=\"tip\" title=\"Recommendations\">\n",
    "\n",
    "- Request access to [Q-CTRL Optimization Solver.](https://quantum.ibm.com/functions?id=a8a2b0b6-486a-41b5-8ea4-ada3b108d6b6)\n",
    "- Try the [Solve higher-order binary optimization problems with Q-CTRL's Optimization Solver](https://learning.quantum.ibm.com/tutorial/solve-higher-order-binary-optimization-problems-with-q-ctrls-optimization-solver) tutorial.\n",
    "\n",
    "</Admonition>"
   ]
  }
 ],
 "metadata": {
  "description": "Start solving utility-scale optimization problems with the Fire Opal Optimization Solver by Q-CTRL",
  "kernelspec": {
   "display_name": "Python 3",
   "language": "python",
   "name": "python3"
  },
  "language_info": {
   "codemirror_mode": {
    "name": "ipython",
    "version": 3
   },
   "file_extension": ".py",
   "mimetype": "text/x-python",
   "name": "python",
   "nbconvert_exporter": "python",
   "pygments_lexer": "ipython3",
   "version": "3"
  },
  "title": "Optimization Solver - A Qiskit Function by Q-CTRL Fire Opal"
 },
 "nbformat": 4,
 "nbformat_minor": 5
}
