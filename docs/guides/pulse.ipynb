{
 "cells": [
  {
   "cell_type": "markdown",
   "id": "64c16b43-bb03-4fd0-8aaf-a1b1f9864a4f",
   "metadata": {},
   "source": [
    "# Pulse schedules"
   ]
  },
  {
   "cell_type": "markdown",
   "id": "cce2a0ff-152d-4462-a187-7741cb9ce87a",
   "metadata": {
    "tags": [
     "version-info"
    ]
   },
   "source": [
    "<details>\n",
    "<summary><b>Package versions</b></summary>\n",
    "\n",
    "The code on this page was developed using the following requirements.\n",
    "We recommend using these versions or newer.\n",
    "\n",
    "```\n",
    "qiskit[all]~=1.4.0\n",
    "qiskit-ibm-runtime~=0.36.1\n",
    "```\n",
    "</details>"
   ]
  },
  {
   "cell_type": "markdown",
   "id": "e315fbd1-f3a6-4eab-bb47-0ee1d52f3d84",
   "metadata": {},
   "source": [
    "<Admonition type=\"danger\" title='Removal of pulse support'>\n",
    "\n",
    " Pulse-level control on __all__ IBM Quantum&reg; processors has been removed and this tutorial will __not work correctly__ using these QPUs.\n",
    "\n",
    " If you were using pulse schedules to execute single and two-qubit rotations, use the new [fractional gates](/docs/guides/fractional-gates) feature. Alternatively, if you would like to simulate pulse schedules for you work, check out the [Qiskit Dynamics](https://qiskit-community.github.io/qiskit-dynamics/) package.\n",
    "\n",
    "Additionally, the `qiskit.pulse` module has been **removed** as of the Qiskit SDK v2.0.0 (but is still supported under the Qiskit SDK v1.4 until September of 2025). See the [pulse migration guide](../migration-guides/pulse-migration) for more information.\n",
    "\n",
    "</Admonition>"
   ]
  },
  {
   "cell_type": "markdown",
   "id": "de13a71a-8d34-4988-a24f-abaaf8bf123a",
   "metadata": {},
   "source": [
    "## Overview\n",
    "\n",
    "Most quantum algorithms can be described with circuit operations alone. When you need more control over the low-level program implementation, you can use _pulse gates_. Pulse gates remove the constraint of executing circuits with basis gates only and let you override the default implementation of any basis gate.\n",
    "\n",
    "Pulse gates let you map a logical circuit gate (for example, `X`) to a Qiskit Pulse program, called a `ScheduleBlock`. This mapping is referred to as a _calibration_. A high-fidelity calibration is one that faithfully implements the logical operation it is mapped from (for example, whether the `X` gate calibration drives $|0\\rangle$ to $|1\\rangle$).\n",
    "\n",
    "A schedule specifies the exact time dynamics of the input signals across all input _channels_ to the device. There are usually multiple channels per qubit, such as drive and measure. This interface is more powerful, and requires a deeper understanding of the underlying device physics.\n",
    "\n",
    "It's important to note that pulse programs operate on physical qubits. A drive pulse on qubit $a$ does not enact the same logical operation on the state of qubit $b$.  In other words, gate calibrations are not interchangeable across qubits. This is in contrast to the circuit level, where an `X` gate is defined independently of its qubit operand.\n",
    "\n",
    "This page shows you how to add a calibration to your circuit.\n",
    "\n",
    "**Note:** Not all QPUs support pulse gates. To see which QPUs have pulse gate support, filter your view (click the funnel icon) on the [Compute resources page](https://quantum.ibm.com/services/resources) by checking the _Pulse gates_ box."
   ]
  },
  {
   "cell_type": "markdown",
   "id": "69b0d6c1-49ac-4062-aefd-1673f5c6a62d",
   "metadata": {},
   "source": [
    "### Build your circuit\n",
    "\n",
    "Let's start with a very simple example, a Bell state circuit."
   ]
  },
  {
   "cell_type": "code",
   "execution_count": 1,
   "id": "90c68fb2-6ed5-41f3-a4f8-f73e92367c4c",
   "metadata": {
    "tags": [
     "ignore-warnings"
    ]
   },
   "outputs": [
    {
     "data": {
      "text/plain": [
       "<Image src=\"/docs/images/guides/pulse/extracted-outputs/90c68fb2-6ed5-41f3-a4f8-f73e92367c4c-0.svg\" alt=\"Output of the previous code cell\" />"
      ]
     },
     "execution_count": 1,
     "metadata": {},
     "output_type": "execute_result"
    }
   ],
   "source": [
    "from qiskit import QuantumCircuit\n",
    "\n",
    "circ = QuantumCircuit(2, 2)\n",
    "circ.h(0)\n",
    "circ.cx(0, 1)\n",
    "circ.measure(0, 0)\n",
    "circ.measure(1, 1)\n",
    "\n",
    "circ.draw(\"mpl\")"
   ]
  },
  {
   "cell_type": "markdown",
   "id": "2d87ee19-8ffb-40b1-b847-992eb6295375",
   "metadata": {},
   "source": [
    "### Build your calibrations\n",
    "\n",
    "Define a calibration for the Hadamard gate on qubit 0.\n",
    "\n",
    "In practice, the pulse shape and its parameters would be optimized through a series of calibration experiments. For this demonstration, the Hadamard will be a Gaussian pulse. You _play_ the pulse on the _drive_ channel of qubit 0.\n",
    "\n",
    "For more information about calibrations, see the [legacy Qiskit Experiments tutorial in GitHub.](https://github.com/qiskit-community/qiskit-experiments/blob/stable/0.8/docs/tutorials/calibrations.rst)"
   ]
  },
  {
   "cell_type": "code",
   "execution_count": 2,
   "id": "769fed93-24fe-4679-be2b-d03c82868548",
   "metadata": {
    "tags": [
     "ignore-warnings"
    ]
   },
   "outputs": [
    {
     "name": "stderr",
     "output_type": "stream",
     "text": [
      "/tmp/ipykernel_5320/889520912.py:7: DeprecationWarning: The function ``qiskit.pulse.builder.build()`` is deprecated as of Qiskit 1.3. It will be removed in Qiskit 2.0. The entire Qiskit Pulse package is being deprecated and will be moved to the Qiskit Dynamics repository: https://github.com/qiskit-community/qiskit-dynamics\n",
      "  with pulse.build(backend, name=\"hadamard\") as h_q0:\n"
     ]
    },
    {
     "name": "stderr",
     "output_type": "stream",
     "text": [
      "/tmp/ipykernel_5320/889520912.py:9: DeprecationWarning: The function ``qiskit.pulse.builder.drive_channel()`` is deprecated as of Qiskit 1.3. It will be removed in Qiskit 2.0. The entire Qiskit Pulse package is being deprecated and will be moved to the Qiskit Dynamics repository: https://github.com/qiskit-community/qiskit-dynamics\n",
      "  Gaussian(duration=128, amp=0.1, sigma=16), pulse.drive_channel(0)\n",
      "/tmp/ipykernel_5320/889520912.py:8: DeprecationWarning: The function ``qiskit.pulse.builder.play()`` is deprecated as of Qiskit 1.3. It will be removed in Qiskit 2.0. The entire Qiskit Pulse package is being deprecated and will be moved to the Qiskit Dynamics repository: https://github.com/qiskit-community/qiskit-dynamics\n",
      "  pulse.play(\n"
     ]
    }
   ],
   "source": [
    "from qiskit import pulse\n",
    "from qiskit.pulse.library import Gaussian\n",
    "from qiskit_ibm_runtime.fake_provider import FakeValenciaV2\n",
    "\n",
    "backend = FakeValenciaV2()\n",
    "\n",
    "with pulse.build(backend, name=\"hadamard\") as h_q0:\n",
    "    pulse.play(\n",
    "        Gaussian(duration=128, amp=0.1, sigma=16), pulse.drive_channel(0)\n",
    "    )"
   ]
  },
  {
   "cell_type": "markdown",
   "id": "b57b9ae0-a8a1-4cd9-a991-e8eded0f20fa",
   "metadata": {},
   "source": [
    "Let's draw the new schedule to see what we've built."
   ]
  },
  {
   "cell_type": "code",
   "execution_count": 3,
   "id": "61ebd003-c9e3-48ca-9df3-b1c676bbd94a",
   "metadata": {
    "tags": [
     "ignore-warnings"
    ]
   },
   "outputs": [
    {
     "data": {
      "text/plain": [
       "<Image src=\"/docs/images/guides/pulse/extracted-outputs/61ebd003-c9e3-48ca-9df3-b1c676bbd94a-0.svg\" alt=\"Output of the previous code cell\" />"
      ]
     },
     "execution_count": 3,
     "metadata": {},
     "output_type": "execute_result"
    }
   ],
   "source": [
    "h_q0.draw()"
   ]
  },
  {
   "cell_type": "markdown",
   "id": "6b7319f6-e47e-4f20-b0b2-783af5c0b277",
   "metadata": {},
   "source": [
    "### Link your calibration to your circuit\n",
    "\n",
    "All that remains is to complete the registration. The circuit method `add_calibration` needs information about the gate and a reference to the schedule to complete the mapping:\n",
    "\n",
    "`QuantumCircuit.add_calibration(gate, qubits, schedule, parameters)`\n",
    "\n",
    "The `gate` can be either a `circuit.Gate` object or the name of the gate. Usually, you'll need a different schedule for each unique set of `qubits` and `parameters`. Since the Hadamard gate doesn't have any parameters, there is no need to supply any."
   ]
  },
  {
   "cell_type": "code",
   "execution_count": 4,
   "id": "9d38fcf0-1196-4151-a19e-4ac9f2d49012",
   "metadata": {
    "tags": [
     "ignore-warnings"
    ]
   },
   "outputs": [
    {
     "name": "stderr",
     "output_type": "stream",
     "text": [
      "/tmp/ipykernel_5320/1015678639.py:1: DeprecationWarning: The method ``qiskit.circuit.quantumcircuit.QuantumCircuit.add_calibration()`` is deprecated as of Qiskit 1.3. It will be removed in Qiskit 2.0. The entire Qiskit Pulse package is being deprecated and will be moved to the Qiskit Dynamics repository: https://github.com/qiskit-community/qiskit-dynamics. Note that once removed, ``qiskit.circuit.quantumcircuit.QuantumCircuit.add_calibration()`` will have no alternative in Qiskit.\n",
      "  circ.add_calibration(\"h\", [0], h_q0)\n"
     ]
    }
   ],
   "source": [
    "circ.add_calibration(\"h\", [0], h_q0)"
   ]
  },
  {
   "cell_type": "markdown",
   "id": "955f4f18-c181-4cb4-86da-25cb76b285e2",
   "metadata": {},
   "source": [
    "Lastly, note that the transpiler will respect your calibrations. Use it as you normally would (our example is too simple for the transpiler to optimize, so the output is the same)."
   ]
  },
  {
   "cell_type": "code",
   "execution_count": 5,
   "id": "b28bb363-5b77-471e-9ec7-79e9c9394096",
   "metadata": {
    "tags": [
     "ignore-warnings"
    ]
   },
   "outputs": [
    {
     "name": "stdout",
     "output_type": "stream",
     "text": [
      "Instruction(name='cx', num_qubits=2, num_clbits=0, params=[]) (0, 1)\n",
      "Instruction(name='cx', num_qubits=2, num_clbits=0, params=[]) (1, 0)\n",
      "Instruction(name='id', num_qubits=1, num_clbits=0, params=[]) (0,)\n",
      "Instruction(name='id', num_qubits=1, num_clbits=0, params=[]) (1,)\n",
      "Delay(duration=t[unit=dt]) (0,)\n",
      "Delay(duration=t[unit=dt]) (1,)\n",
      "Instruction(name='measure', num_qubits=1, num_clbits=1, params=[]) (0,)\n",
      "Instruction(name='measure', num_qubits=1, num_clbits=1, params=[]) (1,)\n",
      "Instruction(name='rz', num_qubits=1, num_clbits=0, params=[Parameter(λ)]) (0,)\n",
      "Instruction(name='rz', num_qubits=1, num_clbits=0, params=[Parameter(λ)]) (1,)\n",
      "Instruction(name='sx', num_qubits=1, num_clbits=0, params=[]) (0,)\n",
      "Instruction(name='sx', num_qubits=1, num_clbits=0, params=[]) (1,)\n",
      "Instruction(name='reset', num_qubits=1, num_clbits=0, params=[]) (0,)\n",
      "Instruction(name='reset', num_qubits=1, num_clbits=0, params=[]) (1,)\n",
      "Instruction(name='x', num_qubits=1, num_clbits=0, params=[]) (0,)\n",
      "Instruction(name='x', num_qubits=1, num_clbits=0, params=[]) (1,)\n"
     ]
    },
    {
     "data": {
      "text/plain": [
       "<Image src=\"/docs/images/guides/pulse/extracted-outputs/b28bb363-5b77-471e-9ec7-79e9c9394096-1.svg\" alt=\"Output of the previous code cell\" />"
      ]
     },
     "execution_count": 5,
     "metadata": {},
     "output_type": "execute_result"
    }
   ],
   "source": [
    "from qiskit_ibm_runtime.fake_provider import FakeHanoiV2\n",
    "from qiskit.transpiler import generate_preset_pass_manager\n",
    "\n",
    "backend = FakeHanoiV2()\n",
    "passmanager = generate_preset_pass_manager(\n",
    "    optimization_level=1, backend=backend\n",
    ")\n",
    "circ = passmanager.run(circ)\n",
    "\n",
    "# Print instructions that only affect qubits 0 and 1\n",
    "for instruction, qubits in FakeHanoiV2().instructions:\n",
    "    if qubits and set(qubits).issubset({0, 1}):\n",
    "        print(instruction, qubits)\n",
    "circ.draw(\"mpl\", idle_wires=False)"
   ]
  },
  {
   "cell_type": "markdown",
   "id": "aa09ca2c-25cb-4220-859e-c03dc710c6ea",
   "metadata": {},
   "source": [
    "Notice that `h` is not a basis gate for the mock backend `FakeHanoiV2`. Since you added a calibration for it, the transpiler will treat the gate as a basis gate, _but only on the qubits for which it was defined_. A Hadamard applied to a different qubit would be unrolled to the basis gates.\n",
    "\n",
    "### Custom gates\n",
    "\n",
    "This demonstrates the same process for nonstandard, completely custom gates, including a gate with parameters."
   ]
  },
  {
   "cell_type": "code",
   "execution_count": 6,
   "id": "7b6f5f69-9e27-42fb-a37f-b62d76d0da40",
   "metadata": {
    "tags": [
     "ignore-warnings"
    ]
   },
   "outputs": [
    {
     "data": {
      "text/plain": [
       "<Image src=\"/docs/images/guides/pulse/extracted-outputs/7b6f5f69-9e27-42fb-a37f-b62d76d0da40-0.svg\" alt=\"Output of the previous code cell\" />"
      ]
     },
     "execution_count": 6,
     "metadata": {},
     "output_type": "execute_result"
    }
   ],
   "source": [
    "from qiskit import QuantumCircuit\n",
    "from qiskit.circuit import Gate\n",
    "\n",
    "circ = QuantumCircuit(1, 1)\n",
    "custom_gate = Gate(\"my_custom_gate\", 1, [3.14, 1])\n",
    "# 3.14 is an arbitrary parameter for demonstration\n",
    "circ.append(custom_gate, [0])\n",
    "circ.measure(0, 0)\n",
    "\n",
    "circ.draw(\"mpl\")"
   ]
  },
  {
   "cell_type": "code",
   "execution_count": 7,
   "id": "0b1b9bf4-c6f3-4d46-9be1-3ef53388a2b6",
   "metadata": {
    "tags": [
     "ignore-warnings"
    ]
   },
   "outputs": [
    {
     "name": "stderr",
     "output_type": "stream",
     "text": [
      "/tmp/ipykernel_5320/1758347651.py:1: DeprecationWarning: The function ``qiskit.pulse.builder.build()`` is deprecated as of Qiskit 1.3. It will be removed in Qiskit 2.0. The entire Qiskit Pulse package is being deprecated and will be moved to the Qiskit Dynamics repository: https://github.com/qiskit-community/qiskit-dynamics\n",
      "  with pulse.build(backend, name=\"custom\") as my_schedule:\n",
      "/tmp/ipykernel_5320/1758347651.py:3: DeprecationWarning: The function ``qiskit.pulse.builder.drive_channel()`` is deprecated as of Qiskit 1.3. It will be removed in Qiskit 2.0. The entire Qiskit Pulse package is being deprecated and will be moved to the Qiskit Dynamics repository: https://github.com/qiskit-community/qiskit-dynamics\n",
      "  Gaussian(duration=64, amp=0.2, sigma=8), pulse.drive_channel(0)\n",
      "/tmp/ipykernel_5320/1758347651.py:2: DeprecationWarning: The function ``qiskit.pulse.builder.play()`` is deprecated as of Qiskit 1.3. It will be removed in Qiskit 2.0. The entire Qiskit Pulse package is being deprecated and will be moved to the Qiskit Dynamics repository: https://github.com/qiskit-community/qiskit-dynamics\n",
      "  pulse.play(\n",
      "/tmp/ipykernel_5320/1758347651.py:6: DeprecationWarning: The method ``qiskit.circuit.quantumcircuit.QuantumCircuit.add_calibration()`` is deprecated as of Qiskit 1.3. It will be removed in Qiskit 2.0. The entire Qiskit Pulse package is being deprecated and will be moved to the Qiskit Dynamics repository: https://github.com/qiskit-community/qiskit-dynamics. Note that once removed, ``qiskit.circuit.quantumcircuit.QuantumCircuit.add_calibration()`` will have no alternative in Qiskit.\n",
      "  circ.add_calibration(\"my_custom_gate\", [0], my_schedule, [3.14, 1])\n"
     ]
    }
   ],
   "source": [
    "with pulse.build(backend, name=\"custom\") as my_schedule:\n",
    "    pulse.play(\n",
    "        Gaussian(duration=64, amp=0.2, sigma=8), pulse.drive_channel(0)\n",
    "    )\n",
    "\n",
    "circ.add_calibration(\"my_custom_gate\", [0], my_schedule, [3.14, 1])\n",
    "# Alternatively: circ.add_calibration(custom_gate, [0], my_schedule)"
   ]
  },
  {
   "cell_type": "markdown",
   "id": "88ed512f-5ec5-4e42-80ca-83a0cbe4dbfa",
   "metadata": {},
   "source": [
    "If you use the `Gate` instance variable `custom_gate` to add the calibration, the parameters are derived from that instance. Remember that the order of parameters is significant."
   ]
  },
  {
   "cell_type": "code",
   "execution_count": 8,
   "id": "a47b526c-957b-40f5-a556-302e936a4694",
   "metadata": {
    "tags": [
     "ignore-warnings"
    ]
   },
   "outputs": [
    {
     "data": {
      "text/plain": [
       "<Image src=\"/docs/images/guides/pulse/extracted-outputs/a47b526c-957b-40f5-a556-302e936a4694-0.svg\" alt=\"Output of the previous code cell\" />"
      ]
     },
     "execution_count": 8,
     "metadata": {},
     "output_type": "execute_result"
    }
   ],
   "source": [
    "circ = passmanager.run(circ)\n",
    "circ.draw(\"mpl\", idle_wires=False)"
   ]
  },
  {
   "cell_type": "markdown",
   "id": "dd042f04-288c-4f78-8f3a-14679750b035",
   "metadata": {},
   "source": [
    "Normally, if you tried to transpile `circ`, you would get an error. There was no functional definition provided for `\"my_custom_gate\"`, so the transpiler can't unroll it to the basis gate set of the target device. You can show this by trying to add `\"my_custom_gate\"` to another qubit that hasn't been calibrated."
   ]
  },
  {
   "cell_type": "code",
   "execution_count": 9,
   "id": "3d084f3f-0dcf-48be-9fc0-7af636633924",
   "metadata": {
    "tags": [
     "ignore-warnings"
    ]
   },
   "outputs": [
    {
     "name": "stdout",
     "output_type": "stream",
     "text": [
      "\"HighLevelSynthesis was unable to synthesize Instruction(name='my_custom_gate', num_qubits=1, num_clbits=0, params=[3.14, 1]).\"\n"
     ]
    }
   ],
   "source": [
    "from qiskit import QiskitError\n",
    "\n",
    "circ = QuantumCircuit(2, 2)\n",
    "circ.append(custom_gate, [1])\n",
    "\n",
    "try:\n",
    "    circ = passmanager.run(circ)\n",
    "except QiskitError as e:\n",
    "    print(e)"
   ]
  },
  {
   "cell_type": "markdown",
   "id": "0bc19b2c-9210-4aff-a6e7-7b5bf8d5060f",
   "metadata": {},
   "source": [
    "To link a custom gate to your circuits, you can also add to `Target` and transpile. A pass manager pass implicitly extracts calibration data from the target and calls `add_calibration`. This is convenient if you need to attach a calibration to multiple circuits or manage multiple calibrations."
   ]
  },
  {
   "cell_type": "code",
   "execution_count": 10,
   "id": "dc3ecb7f-895a-433e-8ca6-0bee059f3b3c",
   "metadata": {
    "tags": [
     "ignore-warnings"
    ]
   },
   "outputs": [
    {
     "name": "stderr",
     "output_type": "stream",
     "text": [
      "/tmp/ipykernel_5320/2463145812.py:13: DeprecationWarning: The function ``qiskit.pulse.builder.build()`` is deprecated as of Qiskit 1.3. It will be removed in Qiskit 2.0. The entire Qiskit Pulse package is being deprecated and will be moved to the Qiskit Dynamics repository: https://github.com/qiskit-community/qiskit-dynamics\n",
      "  with builder.build() as custom_sched_q0:\n",
      "/tmp/ipykernel_5320/2463145812.py:14: DeprecationWarning: The class ``qiskit.pulse.channels.Channel`` is deprecated as of Qiskit 1.3. It will be removed in Qiskit 2.0. The entire Qiskit Pulse package is being deprecated and will be moved to the Qiskit Dynamics repository: https://github.com/qiskit-community/qiskit-dynamics\n",
      "  builder.play([0.1] * 160, DriveChannel(0))\n",
      "/tmp/ipykernel_5320/2463145812.py:14: DeprecationWarning: The function ``qiskit.pulse.builder.play()`` is deprecated as of Qiskit 1.3. It will be removed in Qiskit 2.0. The entire Qiskit Pulse package is being deprecated and will be moved to the Qiskit Dynamics repository: https://github.com/qiskit-community/qiskit-dynamics\n",
      "  builder.play([0.1] * 160, DriveChannel(0))\n"
     ]
    },
    {
     "name": "stderr",
     "output_type": "stream",
     "text": [
      "/tmp/ipykernel_5320/2463145812.py:18: DeprecationWarning: ``qiskit.transpiler.target.InstructionProperties.__init__()``'s argument ``calibration`` is deprecated as of Qiskit 1.3. It will be removed in Qiskit 2.0. The entire Qiskit Pulse package is being deprecated and this argument uses a dependency on the package.\n",
      "  {(0,): InstructionProperties(calibration=custom_sched_q0)},\n"
     ]
    }
   ],
   "source": [
    "from qiskit_ibm_runtime.fake_provider import FakeKyoto\n",
    "from qiskit.circuit import QuantumCircuit, Gate\n",
    "from qiskit.pulse import builder, DriveChannel\n",
    "from qiskit.transpiler import InstructionProperties\n",
    "\n",
    "backend = FakeKyoto()\n",
    "\n",
    "custom_gate = Gate(\"my_gate\", 1, [])\n",
    "qc = QuantumCircuit(1, 1)\n",
    "qc.append(custom_gate, [0])\n",
    "qc.measure(0, 0)\n",
    "\n",
    "with builder.build() as custom_sched_q0:\n",
    "    builder.play([0.1] * 160, DriveChannel(0))\n",
    "\n",
    "backend.target.add_instruction(\n",
    "    custom_gate,\n",
    "    {(0,): InstructionProperties(calibration=custom_sched_q0)},\n",
    ")\n",
    "\n",
    "# Re-generate the passmanager with the new backend target\n",
    "passmanager = generate_preset_pass_manager(\n",
    "    optimization_level=1, backend=backend\n",
    ")\n",
    "qc = passmanager.run(qc)"
   ]
  },
  {
   "cell_type": "markdown",
   "id": "0884d58e-88ff-473b-8ff2-23b9ad4e655a",
   "metadata": {},
   "source": [
    "## Build pulse schedules\n",
    "\n",
    "Pulse gates define a low-level, exact representation for a circuit gate. A single operation can be implemented with a pulse program, which is comprised of multiple low-level instructions.  Regardless of how the program is used, the syntax for building the program is the same."
   ]
  },
  {
   "attachments": {},
   "cell_type": "markdown",
   "id": "606c12f4-5296-4d66-b082-edaf16a19b44",
   "metadata": {},
   "source": [
    "**Important:** For IBM&reg; devices, pulse programs are used as subroutines to describe gates. IBM devices do not accept full programs in this format."
   ]
  },
  {
   "cell_type": "markdown",
   "id": "d50ac149-6248-4e0d-b531-3ec86a32f869",
   "metadata": {},
   "source": [
    "A pulse program, which is called a `ScheduleBlock`, describes instruction sequences for the control electronics. Use the Pulse Builder to build a `ScheduleBlock`, then initialize a schedule:"
   ]
  },
  {
   "cell_type": "code",
   "execution_count": 11,
   "id": "15e6357b-d092-4035-90d9-cfafda151925",
   "metadata": {
    "tags": [
     "ignore-warnings"
    ]
   },
   "outputs": [
    {
     "name": "stderr",
     "output_type": "stream",
     "text": [
      "/tmp/ipykernel_5320/1973151745.py:3: DeprecationWarning: The function ``qiskit.pulse.builder.build()`` is deprecated as of Qiskit 1.3. It will be removed in Qiskit 2.0. The entire Qiskit Pulse package is being deprecated and will be moved to the Qiskit Dynamics repository: https://github.com/qiskit-community/qiskit-dynamics\n",
      "  with pulse.build(name=\"my_example\") as my_program:\n"
     ]
    },
    {
     "data": {
      "text/plain": [
       "ScheduleBlock(, name=\"my_example\", transform=AlignLeft())"
      ]
     },
     "execution_count": 11,
     "metadata": {},
     "output_type": "execute_result"
    }
   ],
   "source": [
    "from qiskit import pulse\n",
    "\n",
    "with pulse.build(name=\"my_example\") as my_program:\n",
    "    # Add instructions here\n",
    "    pass\n",
    "\n",
    "my_program"
   ]
  },
  {
   "attachments": {},
   "cell_type": "markdown",
   "id": "7f25ee3c-4e71-48a7-9538-2345148080c0",
   "metadata": {},
   "source": [
    "You can see that there are no instructions yet. The next section explains each of the instructions you might add to a schedule, and the last section will describe various _alignment contexts_, which determine how instructions are placed in time relative to one another."
   ]
  },
  {
   "attachments": {},
   "cell_type": "markdown",
   "id": "f4de5a32-8d42-4351-afb3-7be434ad7fab",
   "metadata": {},
   "source": [
    "### `ScheduleBlock` Instructions\n",
    "\n",
    " - [delay(duration, channel)](#delay)\n",
    " - [play(pulse, channel)](#play)\n",
    " - [set_frequency(frequency, channel)](#set_frequency)\n",
    " - [shift_phase(phase, channel)](#shift_phase)\n",
    " - [shift_frequency(frequency, channel)](#shift_frequency)\n",
    " - [set_phase(phase, channel)](#set_phase)\n",
    " - [acquire(duration, channel, mem_slot, reg_slot)](#acquire)\n",
    "\n",
    "Each instruction type has its own set of operands. As you can see above, they each include at least one `Channel` to specify where the instruction will be applied.\n",
    "\n",
    "**Channels** are labels for signal lines from the control hardware to the quantum chip.\n",
    "\n",
    " - A `DriveChannel` is typically used for _driving_ single-qubit rotations.\n",
    " - A `ControlChannel` is typically used for multi-qubit gates or additional drive lines for tunable qubits.\n",
    " - A `MeasureChannel` is specific to transmitting pulses that stimulate readout.\n",
    " - An `AcquireChannel` is used to trigger digitizers which collect readout signals.\n",
    "\n",
    "`DriveChannel`s, `ControlChannel`s, and `MeasureChannel`s are all `PulseChannel`s; this means that they support _transmitting_ pulses, whereas the `AcquireChannel` is a receive channel only and cannot play waveforms.\n",
    "\n",
    "In the following examples, you can create one `DriveChannel` instance for each `Instruction` that accepts a `PulseChannel`. Channels take one integer `index` argument. Except for `ControlChannel`s, the index maps trivially to the qubit label."
   ]
  },
  {
   "cell_type": "code",
   "execution_count": 12,
   "id": "87f0dda0-ab93-40f2-abc6-4fa13a9fb216",
   "metadata": {
    "tags": [
     "ignore-warnings"
    ]
   },
   "outputs": [
    {
     "name": "stderr",
     "output_type": "stream",
     "text": [
      "/tmp/ipykernel_5320/501434037.py:3: DeprecationWarning: The class ``qiskit.pulse.channels.Channel`` is deprecated as of Qiskit 1.3. It will be removed in Qiskit 2.0. The entire Qiskit Pulse package is being deprecated and will be moved to the Qiskit Dynamics repository: https://github.com/qiskit-community/qiskit-dynamics\n",
      "  channel = DriveChannel(0)\n"
     ]
    }
   ],
   "source": [
    "from qiskit.pulse import DriveChannel\n",
    "\n",
    "channel = DriveChannel(0)"
   ]
  },
  {
   "attachments": {},
   "cell_type": "markdown",
   "id": "4300cbd4-50ed-4d91-ab1b-25ab52476d00",
   "metadata": {},
   "source": [
    "The pulse `ScheduleBlock` is independent of the backend it runs on. However, you can build your program in a context that is aware of the target backend by supplying it to `pulse.build`. When possible you should supply a backend. By using the channel accessors `pulse.<type>_channel(<idx>)` you ensure you are only using available device resources."
   ]
  },
  {
   "cell_type": "code",
   "execution_count": 13,
   "id": "1a815f55-61ec-4603-abc1-ea766f7aac43",
   "metadata": {
    "tags": [
     "ignore-warnings"
    ]
   },
   "outputs": [
    {
     "name": "stdout",
     "output_type": "stream",
     "text": [
      "5\n"
     ]
    },
    {
     "name": "stderr",
     "output_type": "stream",
     "text": [
      "/tmp/ipykernel_5320/3624911394.py:5: DeprecationWarning: The function ``qiskit.pulse.builder.build()`` is deprecated as of Qiskit 1.3. It will be removed in Qiskit 2.0. The entire Qiskit Pulse package is being deprecated and will be moved to the Qiskit Dynamics repository: https://github.com/qiskit-community/qiskit-dynamics\n",
      "  with pulse.build(\n",
      "/tmp/ipykernel_5320/3624911394.py:8: DeprecationWarning: The function ``qiskit.pulse.builder.drive_channel()`` is deprecated as of Qiskit 1.3. It will be removed in Qiskit 2.0. The entire Qiskit Pulse package is being deprecated and will be moved to the Qiskit Dynamics repository: https://github.com/qiskit-community/qiskit-dynamics\n",
      "  channel = pulse.drive_channel(0)\n",
      "/tmp/ipykernel_5320/3624911394.py:9: DeprecationWarning: The function ``qiskit.pulse.builder.num_qubits()`` is deprecated as of Qiskit 1.3. It will be removed in Qiskit 2.0. The entire Qiskit Pulse package is being deprecated and will be moved to the Qiskit Dynamics repository: https://github.com/qiskit-community/qiskit-dynamics\n",
      "  print(pulse.num_qubits())\n"
     ]
    }
   ],
   "source": [
    "from qiskit_ibm_runtime.fake_provider import FakeValenciaV2\n",
    "\n",
    "backend = FakeValenciaV2()\n",
    "\n",
    "with pulse.build(\n",
    "    backend=backend, name=\"backend_aware\"\n",
    ") as backend_aware_program:\n",
    "    channel = pulse.drive_channel(0)\n",
    "    print(pulse.num_qubits())\n",
    "    # Raises an error as backend only has 5 qubits\n",
    "    # pulse.drive_channel(100)"
   ]
  },
  {
   "attachments": {},
   "cell_type": "markdown",
   "id": "3bed995b-c0f2-448a-8a19-3c5f6b7d0d0b",
   "metadata": {},
   "source": [
    "### `delay`\n",
    "\n",
    "One of the simplest instructions is `delay`. This is a blocking instruction that tells the control electronics to output no signal on the given channel for the duration specified. It is useful for controlling the timing of other instructions.\n",
    "\n",
    "The duration here and elsewhere is in terms of the backend's cycle time (1 / sample rate), `dt`. It must take an integer value.\n",
    "\n",
    "To add a `delay` instruction, pass a duration and a channel, where `channel` can be any kind of channel, including `AcquireChannel`. Use `pulse.build` to begin a Pulse Builder context. This automatically schedules the delay into the schedule `delay_5dt`."
   ]
  },
  {
   "cell_type": "code",
   "execution_count": 14,
   "id": "8caa502e-0e02-4e77-bbe1-e35891060bae",
   "metadata": {
    "tags": [
     "ignore-warnings"
    ]
   },
   "outputs": [
    {
     "name": "stderr",
     "output_type": "stream",
     "text": [
      "/tmp/ipykernel_5320/1337470939.py:1: DeprecationWarning: The function ``qiskit.pulse.builder.build()`` is deprecated as of Qiskit 1.3. It will be removed in Qiskit 2.0. The entire Qiskit Pulse package is being deprecated and will be moved to the Qiskit Dynamics repository: https://github.com/qiskit-community/qiskit-dynamics\n",
      "  with pulse.build(backend) as delay_5dt:\n",
      "/tmp/ipykernel_5320/1337470939.py:2: DeprecationWarning: The function ``qiskit.pulse.builder.delay()`` is deprecated as of Qiskit 1.3. It will be removed in Qiskit 2.0. The entire Qiskit Pulse package is being deprecated and will be moved to the Qiskit Dynamics repository: https://github.com/qiskit-community/qiskit-dynamics\n",
      "  pulse.delay(5, channel)\n"
     ]
    }
   ],
   "source": [
    "with pulse.build(backend) as delay_5dt:\n",
    "    pulse.delay(5, channel)"
   ]
  },
  {
   "attachments": {},
   "cell_type": "markdown",
   "id": "0662720c-dfbe-4f6e-92e5-d7a1990af0c0",
   "metadata": {},
   "source": [
    "Any instruction added after this delay on the same channel will execute five timesteps later than it would have without this delay.\n",
    "\n",
    "### `play`\n",
    "\n",
    "The `play` instruction is responsible for executing _pulses_. It's straightforward to add a play instruction:\n",
    "\n",
    "```\n",
    "with pulse.build() as sched:\n",
    "    pulse.play(pulse, channel)\n",
    "```\n",
    "\n",
    "Let's clarify what the `pulse` argument is and explore a few different ways to build one.\n",
    "\n",
    "#### Pulses\n",
    "\n",
    "A `Pulse` specifies an arbitrary pulse _envelope_. The modulation frequency and phase of the output waveform are controlled by the [`set_frequency`](#set_frequency) and [`shift_phase`](#shift_phase) instructions.\n",
    "\n",
    "There are many methods available for building pulses, such as those available in the Qiskit Pulse `library`.  Take for example a simple Gaussian pulse -- a pulse with its envelope described by a sampled Gaussian function. We arbitrarily choose an amplitude of 1, standard deviation $\\sigma$ of 10, and 128 sample points.\n",
    "\n",
    "**Note**: The amplitude norm is arbitrarily limited to `1.0`. Each backend may also impose further constraints.  For instance, a minimum pulse size of 64. Any additional constraints are provided through [Target.](../api/qiskit/qiskit.transpiler.Target)"
   ]
  },
  {
   "cell_type": "code",
   "execution_count": 15,
   "id": "9c96402f-ade7-41a6-810f-3d42f354c708",
   "metadata": {
    "tags": [
     "ignore-warnings"
    ]
   },
   "outputs": [],
   "source": [
    "from qiskit.pulse import library\n",
    "\n",
    "amp = 1\n",
    "sigma = 10\n",
    "num_samples = 128"
   ]
  },
  {
   "attachments": {},
   "cell_type": "markdown",
   "id": "fb403c63-cd57-4a12-8eee-ef3723ab8633",
   "metadata": {},
   "source": [
    "##### Parametric pulses\n",
    "You can build a Gaussian pulse by using the `Gaussian` parametric pulse. A parametric pulse sends the name of the function and its parameters to the backend, rather than every individual sample. Using parametric pulses makes the jobs much smaller to send. IBM Quantum backends limit the maximum job size that they accept, so parametric pulses might allow you to run larger programs.\n",
    "\n",
    "Other parametric pulses in the `library` include `GaussianSquare`, `Drag`, and `Constant`. See the [full list in the API reference](/docs/api/qiskit/1.4/pulse#parametric-pulse-representation).\n",
    "\n",
    "\n",
    "**Note**: The backend is responsible for deciding how to sample the parametric pulses. It is possible to draw parametric pulses, but the samples displayed are not guaranteed to be the same as those executed on the backend."
   ]
  },
  {
   "cell_type": "code",
   "execution_count": 16,
   "id": "5e83aa2b-a0f8-43b3-a8d5-4569c7b06c61",
   "metadata": {
    "tags": [
     "ignore-warnings"
    ]
   },
   "outputs": [
    {
     "data": {
      "text/plain": [
       "<Image src=\"/docs/images/guides/pulse/extracted-outputs/5e83aa2b-a0f8-43b3-a8d5-4569c7b06c61-0.svg\" alt=\"Output of the previous code cell\" />"
      ]
     },
     "execution_count": 16,
     "metadata": {},
     "output_type": "execute_result"
    }
   ],
   "source": [
    "gaussian = pulse.library.Gaussian(\n",
    "    num_samples, amp, sigma, name=\"Parametric Gaussian\"\n",
    ")\n",
    "gaussian.draw()"
   ]
  },
  {
   "attachments": {},
   "cell_type": "markdown",
   "id": "409d3c9f-ce3f-40ee-8632-37d5f9159a9b",
   "metadata": {},
   "source": [
    "##### Pulse waveforms described by samples\n",
    "\n",
    "A `Waveform` is a pulse signal specified as an array of time-ordered complex amplitudes, or _samples_. Each sample is played for one cycle, a timestep `dt`, determined by the backend. You must know the value of `dt` to determine a program's real-time dynamics. The (zero-indexed) $i^{th}$ sample plays from time `i*dt` up to `(i + 1)*dt`, modulated by the qubit frequency."
   ]
  },
  {
   "cell_type": "code",
   "execution_count": 17,
   "id": "493ddc1a-62f6-44c9-ae52-51c24a505ec8",
   "metadata": {
    "tags": [
     "ignore-warnings"
    ]
   },
   "outputs": [
    {
     "name": "stderr",
     "output_type": "stream",
     "text": [
      "/tmp/ipykernel_5320/1496865686.py:8: DeprecationWarning: The class ``qiskit.pulse.library.waveform.Waveform`` is deprecated as of Qiskit 1.3. It will be removed in Qiskit 2.0. The entire Qiskit Pulse package is being deprecated and will be moved to the Qiskit Dynamics repository: https://github.com/qiskit-community/qiskit-dynamics\n",
      "  gaussian = library.Waveform(gaussian_samples, name=\"WF Gaussian\")\n"
     ]
    },
    {
     "data": {
      "text/plain": [
       "<Image src=\"/docs/images/guides/pulse/extracted-outputs/493ddc1a-62f6-44c9-ae52-51c24a505ec8-1.svg\" alt=\"Output of the previous code cell\" />"
      ]
     },
     "execution_count": 17,
     "metadata": {},
     "output_type": "execute_result"
    }
   ],
   "source": [
    "import numpy as np\n",
    "\n",
    "times = np.arange(num_samples)\n",
    "gaussian_samples = np.exp(\n",
    "    -1 / 2 * ((times - num_samples / 2) ** 2 / sigma**2)\n",
    ")\n",
    "\n",
    "gaussian = library.Waveform(gaussian_samples, name=\"WF Gaussian\")\n",
    "gaussian.draw()"
   ]
  },
  {
   "attachments": {},
   "cell_type": "markdown",
   "id": "c6ac255a-c042-49de-ace0-f79e54cbb577",
   "metadata": {},
   "source": [
    "Regardless of which method you use to specify your `pulse`, `play` is added to your schedule the same way:"
   ]
  },
  {
   "cell_type": "code",
   "execution_count": 18,
   "id": "300f3be9-d358-441b-b860-689ce2583f45",
   "metadata": {
    "tags": [
     "ignore-warnings"
    ]
   },
   "outputs": [
    {
     "name": "stderr",
     "output_type": "stream",
     "text": [
      "/tmp/ipykernel_5320/1983464279.py:1: DeprecationWarning: The function ``qiskit.pulse.builder.build()`` is deprecated as of Qiskit 1.3. It will be removed in Qiskit 2.0. The entire Qiskit Pulse package is being deprecated and will be moved to the Qiskit Dynamics repository: https://github.com/qiskit-community/qiskit-dynamics\n",
      "  with pulse.build() as schedule:\n",
      "/tmp/ipykernel_5320/1983464279.py:2: DeprecationWarning: The function ``qiskit.pulse.builder.play()`` is deprecated as of Qiskit 1.3. It will be removed in Qiskit 2.0. The entire Qiskit Pulse package is being deprecated and will be moved to the Qiskit Dynamics repository: https://github.com/qiskit-community/qiskit-dynamics\n",
      "  pulse.play(gaussian, channel)\n"
     ]
    },
    {
     "data": {
      "text/plain": [
       "<Image src=\"/docs/images/guides/pulse/extracted-outputs/300f3be9-d358-441b-b860-689ce2583f45-1.svg\" alt=\"Output of the previous code cell\" />"
      ]
     },
     "execution_count": 18,
     "metadata": {},
     "output_type": "execute_result"
    }
   ],
   "source": [
    "with pulse.build() as schedule:\n",
    "    pulse.play(gaussian, channel)\n",
    "schedule.draw()"
   ]
  },
  {
   "attachments": {},
   "cell_type": "markdown",
   "id": "03c572ac-6114-46b9-8e6d-1682e336d084",
   "metadata": {},
   "source": [
    "You may also supply a complex list or array directly to `play`."
   ]
  },
  {
   "cell_type": "code",
   "execution_count": 19,
   "id": "3d503e04-806f-4cc5-af79-9a335856d735",
   "metadata": {
    "tags": [
     "ignore-warnings"
    ]
   },
   "outputs": [
    {
     "name": "stderr",
     "output_type": "stream",
     "text": [
      "/tmp/ipykernel_5320/165485598.py:1: DeprecationWarning: The function ``qiskit.pulse.builder.build()`` is deprecated as of Qiskit 1.3. It will be removed in Qiskit 2.0. The entire Qiskit Pulse package is being deprecated and will be moved to the Qiskit Dynamics repository: https://github.com/qiskit-community/qiskit-dynamics\n",
      "  with pulse.build() as schedule:\n",
      "/tmp/ipykernel_5320/165485598.py:2: DeprecationWarning: The function ``qiskit.pulse.builder.play()`` is deprecated as of Qiskit 1.3. It will be removed in Qiskit 2.0. The entire Qiskit Pulse package is being deprecated and will be moved to the Qiskit Dynamics repository: https://github.com/qiskit-community/qiskit-dynamics\n",
      "  pulse.play([0.001 * i for i in range(160)], channel)\n"
     ]
    },
    {
     "data": {
      "text/plain": [
       "<Image src=\"/docs/images/guides/pulse/extracted-outputs/3d503e04-806f-4cc5-af79-9a335856d735-1.svg\" alt=\"Output of the previous code cell\" />"
      ]
     },
     "execution_count": 19,
     "metadata": {},
     "output_type": "execute_result"
    }
   ],
   "source": [
    "with pulse.build() as schedule:\n",
    "    pulse.play([0.001 * i for i in range(160)], channel)\n",
    "schedule.draw()"
   ]
  },
  {
   "attachments": {},
   "cell_type": "markdown",
   "id": "840295bd-df21-4c66-9292-995532713416",
   "metadata": {},
   "source": [
    "The `play` instruction gets its duration from its `Pulse`: the duration of a parametrized pulse is an explicit argument, and the duration of a `Waveform` is the number of input samples.\n",
    "\n",
    "### `set_frequency`\n",
    "\n",
    "As explained previously, the output pulse waveform envelope is also modulated by a frequency and phase. Each channel has a default frequency listed in the `backend.defaults`.\n",
    "\n",
    "A channel's frequency can be updated at any time within a `ScheduleBlock` by the `set_frequency` instruction. It takes a float `frequency` and a `PulseChannel` `channel` as input. All pulses on a channel following a `set_frequency` instruction are modulated by the given frequency until another `set_frequency` instruction is encountered or until the program ends.\n",
    "\n",
    "The instruction has an implicit duration of `0`.\n",
    "\n",
    "**Note**: The frequencies that can be requested are limited by the total bandwidth and the instantaneous bandwidth of each hardware channel. In the future, these will be reported by the `backend`."
   ]
  },
  {
   "cell_type": "code",
   "execution_count": 20,
   "id": "e0f65474-a2ba-4c5e-a7e4-8714937e6d8a",
   "metadata": {
    "tags": [
     "ignore-warnings"
    ]
   },
   "outputs": [
    {
     "name": "stderr",
     "output_type": "stream",
     "text": [
      "/tmp/ipykernel_5320/3276186557.py:1: DeprecationWarning: The function ``qiskit.pulse.builder.build()`` is deprecated as of Qiskit 1.3. It will be removed in Qiskit 2.0. The entire Qiskit Pulse package is being deprecated and will be moved to the Qiskit Dynamics repository: https://github.com/qiskit-community/qiskit-dynamics\n",
      "  with pulse.build(backend) as schedule:\n",
      "/tmp/ipykernel_5320/3276186557.py:2: DeprecationWarning: The function ``qiskit.pulse.builder.set_frequency()`` is deprecated as of Qiskit 1.3. It will be removed in Qiskit 2.0. The entire Qiskit Pulse package is being deprecated and will be moved to the Qiskit Dynamics repository: https://github.com/qiskit-community/qiskit-dynamics\n",
      "  pulse.set_frequency(4.5e9, channel)\n"
     ]
    }
   ],
   "source": [
    "with pulse.build(backend) as schedule:\n",
    "    pulse.set_frequency(4.5e9, channel)"
   ]
  },
  {
   "cell_type": "markdown",
   "id": "b1f5b068-c59b-4db6-941e-4b3d3a9fb077",
   "metadata": {},
   "source": [
    "### `shift_frequency`\n",
    "\n",
    "The `shift_frequency` instruction shifts the `frequency` of a pulse `channel`."
   ]
  },
  {
   "cell_type": "code",
   "execution_count": 21,
   "id": "c2adf31b-1435-4321-b35f-b207ccdf3c91",
   "metadata": {
    "tags": [
     "ignore-warnings"
    ]
   },
   "outputs": [
    {
     "name": "stderr",
     "output_type": "stream",
     "text": [
      "/tmp/ipykernel_5320/327681344.py:1: DeprecationWarning: The class ``qiskit.pulse.channels.Channel`` is deprecated as of Qiskit 1.3. It will be removed in Qiskit 2.0. The entire Qiskit Pulse package is being deprecated and will be moved to the Qiskit Dynamics repository: https://github.com/qiskit-community/qiskit-dynamics\n",
      "  d0 = pulse.DriveChannel(0)\n",
      "/tmp/ipykernel_5320/327681344.py:3: DeprecationWarning: The function ``qiskit.pulse.builder.build()`` is deprecated as of Qiskit 1.3. It will be removed in Qiskit 2.0. The entire Qiskit Pulse package is being deprecated and will be moved to the Qiskit Dynamics repository: https://github.com/qiskit-community/qiskit-dynamics\n",
      "  with pulse.build() as pulse_prog:\n",
      "/tmp/ipykernel_5320/327681344.py:4: DeprecationWarning: The function ``qiskit.pulse.builder.shift_frequency()`` is deprecated as of Qiskit 1.3. It will be removed in Qiskit 2.0. The entire Qiskit Pulse package is being deprecated and will be moved to the Qiskit Dynamics repository: https://github.com/qiskit-community/qiskit-dynamics\n",
      "  pulse.shift_frequency(1e9, d0)\n"
     ]
    }
   ],
   "source": [
    "d0 = pulse.DriveChannel(0)\n",
    "\n",
    "with pulse.build() as pulse_prog:\n",
    "    pulse.shift_frequency(1e9, d0)"
   ]
  },
  {
   "cell_type": "markdown",
   "id": "e1adf50c-ec96-4c2b-b213-2b90fd5a70a6",
   "metadata": {},
   "source": [
    "<Admonition type=\"note\" title=\"Note\">\n",
    "The `shift_frequency` and `set_frequency` instructions change the frequency of following pulses and also change the channel's frame of reference. Because a qubit oscillates at its transition frequency, the controller needs to sync with its oscillation; otherwise, an unwanted Z drive is continuously applied. Usually, because the frame is matched with the drive's frequency, and drive matches with the transition's frequency, the Z drive is eliminated when the qubit frequency is calibrated properly. When you apply the `shift_frequency` instruction, it changes the drive frequency and impacts the frame. In other words, it accumulates the phase (Z) as a function of shifted frequency and duration of the program. Specifically, when you shift the frequency by `df` and spend `dt` on that frame, the qubit may experience a phase rotation of `df * dt`. The programmer needs to take this into account to control their qubits precisely.\n",
    "\n",
    "Note also that these instructions are localized in the pulse gate in IBM devices. This means that accumulated phase and frequency shifts are not carried over. Each pulse gate always starts from the hardware default setting. This behavior is backend-dependent.\n",
    "</Admonition>"
   ]
  },
  {
   "cell_type": "markdown",
   "id": "1ee4f053-0d46-44d4-9782-97666d35ca70",
   "metadata": {},
   "source": [
    "### `set_phase`\n",
    "\n",
    "The `set_phase` instruction sets the phase of a pulse channel."
   ]
  },
  {
   "cell_type": "code",
   "execution_count": 22,
   "id": "6815bb84-cef0-4c85-8023-cde8034ee225",
   "metadata": {
    "tags": [
     "ignore-warnings"
    ]
   },
   "outputs": [
    {
     "name": "stderr",
     "output_type": "stream",
     "text": [
      "/tmp/ipykernel_5320/4030167415.py:1: DeprecationWarning: The class ``qiskit.pulse.channels.Channel`` is deprecated as of Qiskit 1.3. It will be removed in Qiskit 2.0. The entire Qiskit Pulse package is being deprecated and will be moved to the Qiskit Dynamics repository: https://github.com/qiskit-community/qiskit-dynamics\n",
      "  d0 = pulse.DriveChannel(0)\n",
      "/tmp/ipykernel_5320/4030167415.py:3: DeprecationWarning: The function ``qiskit.pulse.builder.build()`` is deprecated as of Qiskit 1.3. It will be removed in Qiskit 2.0. The entire Qiskit Pulse package is being deprecated and will be moved to the Qiskit Dynamics repository: https://github.com/qiskit-community/qiskit-dynamics\n",
      "  with pulse.build() as pulse_prog:\n",
      "/tmp/ipykernel_5320/4030167415.py:4: DeprecationWarning: The function ``qiskit.pulse.builder.set_phase()`` is deprecated as of Qiskit 1.3. It will be removed in Qiskit 2.0. The entire Qiskit Pulse package is being deprecated and will be moved to the Qiskit Dynamics repository: https://github.com/qiskit-community/qiskit-dynamics\n",
      "  pulse.set_phase(np.pi, d0)\n"
     ]
    }
   ],
   "source": [
    "d0 = pulse.DriveChannel(0)\n",
    "\n",
    "with pulse.build() as pulse_prog:\n",
    "    pulse.set_phase(np.pi, d0)"
   ]
  },
  {
   "attachments": {},
   "cell_type": "markdown",
   "id": "8f3da67a-aefb-49b9-831a-fa187945db2c",
   "metadata": {},
   "source": [
    "### `shift_phase`\n",
    "\n",
    "The `shift_phase` instruction will increase the phase of the frequency modulation by `phase`. Like `set_frequency`, this phase shift will affect all following instructions on the same channel until the program ends. To undo the affect of a `shift_phase`, the negative `phase` can be passed to a new instruction.\n",
    "\n",
    "Like `set_frequency`, the instruction has an implicit duration of `0`."
   ]
  },
  {
   "cell_type": "code",
   "execution_count": 23,
   "id": "fcbee831-0ee0-4495-862f-889ddb6f1870",
   "metadata": {
    "tags": [
     "ignore-warnings"
    ]
   },
   "outputs": [
    {
     "name": "stderr",
     "output_type": "stream",
     "text": [
      "/tmp/ipykernel_5320/2840692844.py:1: DeprecationWarning: The function ``qiskit.pulse.builder.build()`` is deprecated as of Qiskit 1.3. It will be removed in Qiskit 2.0. The entire Qiskit Pulse package is being deprecated and will be moved to the Qiskit Dynamics repository: https://github.com/qiskit-community/qiskit-dynamics\n",
      "  with pulse.build(backend) as schedule:\n",
      "/tmp/ipykernel_5320/2840692844.py:2: DeprecationWarning: The function ``qiskit.pulse.builder.shift_phase()`` is deprecated as of Qiskit 1.3. It will be removed in Qiskit 2.0. The entire Qiskit Pulse package is being deprecated and will be moved to the Qiskit Dynamics repository: https://github.com/qiskit-community/qiskit-dynamics\n",
      "  pulse.shift_phase(np.pi, channel)\n"
     ]
    }
   ],
   "source": [
    "with pulse.build(backend) as schedule:\n",
    "    pulse.shift_phase(np.pi, channel)"
   ]
  },
  {
   "attachments": {},
   "cell_type": "markdown",
   "id": "a5c3ee82-ee4e-48af-9ece-c5b7243170a6",
   "metadata": {},
   "source": [
    "### `acquire`\n",
    "\n",
    "The `acquire` instruction triggers data acquisition for readout. It takes a duration, an `AcquireChannel`, which maps to the qubit being measured, and a `MemorySlot` or a `RegisterSlot`. The `MemorySlot` is classical memory where the readout result will be stored. The `RegisterSlot` maps to a register in the control electronics that stores the readout result for fast feedback.\n",
    "\n",
    "The `acquire` instruction can also take custom `Discriminator`s and `Kernel`s as keyword arguments. The `Kernel` subroutine integrates a time series of measurement responses and generates an IQ data point, which will be classified into a quantum state by the discriminator. This indicates that if you use a custom measurement stimulus, as in a measurement pulse, you might need to update the kernel setting to not deteriorate the measurement SNR."
   ]
  },
  {
   "cell_type": "code",
   "execution_count": 24,
   "id": "018c6d6a-fd57-4789-93be-0171733cb415",
   "metadata": {
    "tags": [
     "ignore-warnings"
    ]
   },
   "outputs": [
    {
     "name": "stderr",
     "output_type": "stream",
     "text": [
      "/tmp/ipykernel_5320/988163519.py:3: DeprecationWarning: The function ``qiskit.pulse.builder.build()`` is deprecated as of Qiskit 1.3. It will be removed in Qiskit 2.0. The entire Qiskit Pulse package is being deprecated and will be moved to the Qiskit Dynamics repository: https://github.com/qiskit-community/qiskit-dynamics\n",
      "  with pulse.build(backend) as schedule:\n",
      "/tmp/ipykernel_5320/988163519.py:4: DeprecationWarning: The function ``qiskit.pulse.builder.acquire_channel()`` is deprecated as of Qiskit 1.3. It will be removed in Qiskit 2.0. The entire Qiskit Pulse package is being deprecated and will be moved to the Qiskit Dynamics repository: https://github.com/qiskit-community/qiskit-dynamics\n",
      "  pulse.acquire(1200, pulse.acquire_channel(0), MemorySlot(0))\n",
      "/tmp/ipykernel_5320/988163519.py:4: DeprecationWarning: The class ``qiskit.pulse.channels.Channel`` is deprecated as of Qiskit 1.3. It will be removed in Qiskit 2.0. The entire Qiskit Pulse package is being deprecated and will be moved to the Qiskit Dynamics repository: https://github.com/qiskit-community/qiskit-dynamics\n",
      "  pulse.acquire(1200, pulse.acquire_channel(0), MemorySlot(0))\n",
      "/tmp/ipykernel_5320/988163519.py:4: DeprecationWarning: The function ``qiskit.pulse.builder.acquire()`` is deprecated as of Qiskit 1.3. It will be removed in Qiskit 2.0. The entire Qiskit Pulse package is being deprecated and will be moved to the Qiskit Dynamics repository: https://github.com/qiskit-community/qiskit-dynamics\n",
      "  pulse.acquire(1200, pulse.acquire_channel(0), MemorySlot(0))\n"
     ]
    }
   ],
   "source": [
    "from qiskit.pulse import MemorySlot\n",
    "\n",
    "with pulse.build(backend) as schedule:\n",
    "    pulse.acquire(1200, pulse.acquire_channel(0), MemorySlot(0))"
   ]
  },
  {
   "attachments": {},
   "cell_type": "markdown",
   "id": "f052f3c0-d1a6-4137-879a-c9459ca647e6",
   "metadata": {},
   "source": [
    "After adding `ScheduleBlock` instructions, you need to understand how to control when they're played.\n",
    "\n",
    "## Pulse Builder\n",
    "Below are the most important Pulse Builder features for learning how to build schedules. This is not an exhaustive list.  For more details about using the Pulse Builder, refer to the [Pulse API reference.](/docs/api/qiskit/1.4/pulse)\n",
    "\n",
    "### Alignment contexts\n",
    "The builder has alignment contexts that influence how a schedule is built. Contexts can also be nested. Try them out, and use `.draw()` to see how the pulses are aligned.\n",
    "\n",
    "Regardless of the alignment context, the duration of the resulting schedule is as short as it can be while including every instruction and following the alignment rules. This still allows some degrees of freedom for scheduling instructions off the \"longest path\". The examples below illustrate this.\n",
    "\n",
    "### `align_left`\n",
    "The builder has alignment contexts that influence how a schedule is built. The default is `align_left`."
   ]
  },
  {
   "cell_type": "code",
   "execution_count": 25,
   "id": "c08405d1-302d-41fa-a6a4-58becd557541",
   "metadata": {
    "tags": [
     "ignore-warnings"
    ]
   },
   "outputs": [
    {
     "name": "stderr",
     "output_type": "stream",
     "text": [
      "/tmp/ipykernel_5320/1095120153.py:1: DeprecationWarning: The function ``qiskit.pulse.builder.build()`` is deprecated as of Qiskit 1.3. It will be removed in Qiskit 2.0. The entire Qiskit Pulse package is being deprecated and will be moved to the Qiskit Dynamics repository: https://github.com/qiskit-community/qiskit-dynamics\n",
      "  with pulse.build(backend, name=\"Left align example\") as program:\n",
      "/tmp/ipykernel_5320/1095120153.py:4: DeprecationWarning: The function ``qiskit.pulse.builder.drive_channel()`` is deprecated as of Qiskit 1.3. It will be removed in Qiskit 2.0. The entire Qiskit Pulse package is being deprecated and will be moved to the Qiskit Dynamics repository: https://github.com/qiskit-community/qiskit-dynamics\n",
      "  pulse.play(gaussian_pulse, pulse.drive_channel(0))\n",
      "/tmp/ipykernel_5320/1095120153.py:4: DeprecationWarning: The function ``qiskit.pulse.builder.play()`` is deprecated as of Qiskit 1.3. It will be removed in Qiskit 2.0. The entire Qiskit Pulse package is being deprecated and will be moved to the Qiskit Dynamics repository: https://github.com/qiskit-community/qiskit-dynamics\n",
      "  pulse.play(gaussian_pulse, pulse.drive_channel(0))\n",
      "/tmp/ipykernel_5320/1095120153.py:5: DeprecationWarning: The function ``qiskit.pulse.builder.drive_channel()`` is deprecated as of Qiskit 1.3. It will be removed in Qiskit 2.0. The entire Qiskit Pulse package is being deprecated and will be moved to the Qiskit Dynamics repository: https://github.com/qiskit-community/qiskit-dynamics\n",
      "  pulse.play(gaussian_pulse, pulse.drive_channel(1))\n",
      "/tmp/ipykernel_5320/1095120153.py:5: DeprecationWarning: The function ``qiskit.pulse.builder.play()`` is deprecated as of Qiskit 1.3. It will be removed in Qiskit 2.0. The entire Qiskit Pulse package is being deprecated and will be moved to the Qiskit Dynamics repository: https://github.com/qiskit-community/qiskit-dynamics\n",
      "  pulse.play(gaussian_pulse, pulse.drive_channel(1))\n",
      "/tmp/ipykernel_5320/1095120153.py:6: DeprecationWarning: The function ``qiskit.pulse.builder.drive_channel()`` is deprecated as of Qiskit 1.3. It will be removed in Qiskit 2.0. The entire Qiskit Pulse package is being deprecated and will be moved to the Qiskit Dynamics repository: https://github.com/qiskit-community/qiskit-dynamics\n",
      "  pulse.play(gaussian_pulse, pulse.drive_channel(1))\n",
      "/tmp/ipykernel_5320/1095120153.py:6: DeprecationWarning: The function ``qiskit.pulse.builder.play()`` is deprecated as of Qiskit 1.3. It will be removed in Qiskit 2.0. The entire Qiskit Pulse package is being deprecated and will be moved to the Qiskit Dynamics repository: https://github.com/qiskit-community/qiskit-dynamics\n",
      "  pulse.play(gaussian_pulse, pulse.drive_channel(1))\n"
     ]
    },
    {
     "data": {
      "text/plain": [
       "<Image src=\"/docs/images/guides/pulse/extracted-outputs/c08405d1-302d-41fa-a6a4-58becd557541-1.svg\" alt=\"Output of the previous code cell\" />"
      ]
     },
     "execution_count": 25,
     "metadata": {},
     "output_type": "execute_result"
    }
   ],
   "source": [
    "with pulse.build(backend, name=\"Left align example\") as program:\n",
    "    with pulse.align_left():\n",
    "        gaussian_pulse = library.Gaussian(100, 0.5, 20)\n",
    "        pulse.play(gaussian_pulse, pulse.drive_channel(0))\n",
    "        pulse.play(gaussian_pulse, pulse.drive_channel(1))\n",
    "        pulse.play(gaussian_pulse, pulse.drive_channel(1))\n",
    "\n",
    "program.draw()"
   ]
  },
  {
   "attachments": {},
   "cell_type": "markdown",
   "id": "e686e6e2-b6da-45b0-b497-fe1a883dee3c",
   "metadata": {},
   "source": [
    "Notice how there is no scheduling freedom for the pulses on `D1`. The second waveform begins immediately after the first. The pulse on `D0` can start at any time between `t=0` and `t=100` without changing the duration of the overall schedule. The `align_left` context sets the start time of this pulse to `t=0`. You can think of this like left-justification of a text document.\n",
    "\n",
    "\n",
    "### `align_right`\n",
    "`align_right` does the opposite of `align_left`. It chooses `t=100` in the above example to begin the Gaussian pulse on `D0`. Left and right are also sometimes called \"as soon as possible\" and \"as late as possible\" scheduling, respectively."
   ]
  },
  {
   "cell_type": "code",
   "execution_count": 26,
   "id": "77762b02-af9d-4bd7-b2f5-71938e20b356",
   "metadata": {
    "tags": [
     "ignore-warnings"
    ]
   },
   "outputs": [
    {
     "name": "stderr",
     "output_type": "stream",
     "text": [
      "/tmp/ipykernel_5320/624025647.py:1: DeprecationWarning: The function ``qiskit.pulse.builder.build()`` is deprecated as of Qiskit 1.3. It will be removed in Qiskit 2.0. The entire Qiskit Pulse package is being deprecated and will be moved to the Qiskit Dynamics repository: https://github.com/qiskit-community/qiskit-dynamics\n",
      "  with pulse.build(backend, name=\"Right align example\") as program:\n",
      "/tmp/ipykernel_5320/624025647.py:4: DeprecationWarning: The function ``qiskit.pulse.builder.drive_channel()`` is deprecated as of Qiskit 1.3. It will be removed in Qiskit 2.0. The entire Qiskit Pulse package is being deprecated and will be moved to the Qiskit Dynamics repository: https://github.com/qiskit-community/qiskit-dynamics\n",
      "  pulse.play(gaussian_pulse, pulse.drive_channel(0))\n",
      "/tmp/ipykernel_5320/624025647.py:4: DeprecationWarning: The function ``qiskit.pulse.builder.play()`` is deprecated as of Qiskit 1.3. It will be removed in Qiskit 2.0. The entire Qiskit Pulse package is being deprecated and will be moved to the Qiskit Dynamics repository: https://github.com/qiskit-community/qiskit-dynamics\n",
      "  pulse.play(gaussian_pulse, pulse.drive_channel(0))\n",
      "/tmp/ipykernel_5320/624025647.py:5: DeprecationWarning: The function ``qiskit.pulse.builder.drive_channel()`` is deprecated as of Qiskit 1.3. It will be removed in Qiskit 2.0. The entire Qiskit Pulse package is being deprecated and will be moved to the Qiskit Dynamics repository: https://github.com/qiskit-community/qiskit-dynamics\n",
      "  pulse.play(gaussian_pulse, pulse.drive_channel(1))\n",
      "/tmp/ipykernel_5320/624025647.py:5: DeprecationWarning: The function ``qiskit.pulse.builder.play()`` is deprecated as of Qiskit 1.3. It will be removed in Qiskit 2.0. The entire Qiskit Pulse package is being deprecated and will be moved to the Qiskit Dynamics repository: https://github.com/qiskit-community/qiskit-dynamics\n",
      "  pulse.play(gaussian_pulse, pulse.drive_channel(1))\n",
      "/tmp/ipykernel_5320/624025647.py:6: DeprecationWarning: The function ``qiskit.pulse.builder.drive_channel()`` is deprecated as of Qiskit 1.3. It will be removed in Qiskit 2.0. The entire Qiskit Pulse package is being deprecated and will be moved to the Qiskit Dynamics repository: https://github.com/qiskit-community/qiskit-dynamics\n",
      "  pulse.play(gaussian_pulse, pulse.drive_channel(1))\n",
      "/tmp/ipykernel_5320/624025647.py:6: DeprecationWarning: The function ``qiskit.pulse.builder.play()`` is deprecated as of Qiskit 1.3. It will be removed in Qiskit 2.0. The entire Qiskit Pulse package is being deprecated and will be moved to the Qiskit Dynamics repository: https://github.com/qiskit-community/qiskit-dynamics\n",
      "  pulse.play(gaussian_pulse, pulse.drive_channel(1))\n"
     ]
    },
    {
     "data": {
      "text/plain": [
       "<Image src=\"/docs/images/guides/pulse/extracted-outputs/77762b02-af9d-4bd7-b2f5-71938e20b356-1.svg\" alt=\"Output of the previous code cell\" />"
      ]
     },
     "execution_count": 26,
     "metadata": {},
     "output_type": "execute_result"
    }
   ],
   "source": [
    "with pulse.build(backend, name=\"Right align example\") as program:\n",
    "    with pulse.align_right():\n",
    "        gaussian_pulse = library.Gaussian(100, 0.5, 20)\n",
    "        pulse.play(gaussian_pulse, pulse.drive_channel(0))\n",
    "        pulse.play(gaussian_pulse, pulse.drive_channel(1))\n",
    "        pulse.play(gaussian_pulse, pulse.drive_channel(1))\n",
    "\n",
    "program.draw()"
   ]
  },
  {
   "attachments": {},
   "cell_type": "markdown",
   "id": "ee9de5a2-8261-40e3-93df-6264cff8c19c",
   "metadata": {},
   "source": [
    "### `align_equispaced(duration)`\n",
    "\n",
    "If the duration of a particular block is known, you can also use `align_equispaced` to insert equal duration delays between each instruction."
   ]
  },
  {
   "cell_type": "code",
   "execution_count": 27,
   "id": "edb9c3d3-7ef6-4226-a58e-5406bed352a7",
   "metadata": {
    "tags": [
     "ignore-warnings"
    ]
   },
   "outputs": [
    {
     "name": "stderr",
     "output_type": "stream",
     "text": [
      "/tmp/ipykernel_5320/1975630487.py:1: DeprecationWarning: The function ``qiskit.pulse.builder.build()`` is deprecated as of Qiskit 1.3. It will be removed in Qiskit 2.0. The entire Qiskit Pulse package is being deprecated and will be moved to the Qiskit Dynamics repository: https://github.com/qiskit-community/qiskit-dynamics\n",
      "  with pulse.build(backend, name=\"example\") as program:\n",
      "/tmp/ipykernel_5320/1975630487.py:4: DeprecationWarning: The function ``qiskit.pulse.builder.drive_channel()`` is deprecated as of Qiskit 1.3. It will be removed in Qiskit 2.0. The entire Qiskit Pulse package is being deprecated and will be moved to the Qiskit Dynamics repository: https://github.com/qiskit-community/qiskit-dynamics\n",
      "  pulse.play(gaussian_pulse, pulse.drive_channel(0))\n",
      "/tmp/ipykernel_5320/1975630487.py:4: DeprecationWarning: The function ``qiskit.pulse.builder.play()`` is deprecated as of Qiskit 1.3. It will be removed in Qiskit 2.0. The entire Qiskit Pulse package is being deprecated and will be moved to the Qiskit Dynamics repository: https://github.com/qiskit-community/qiskit-dynamics\n",
      "  pulse.play(gaussian_pulse, pulse.drive_channel(0))\n",
      "/tmp/ipykernel_5320/1975630487.py:5: DeprecationWarning: The function ``qiskit.pulse.builder.drive_channel()`` is deprecated as of Qiskit 1.3. It will be removed in Qiskit 2.0. The entire Qiskit Pulse package is being deprecated and will be moved to the Qiskit Dynamics repository: https://github.com/qiskit-community/qiskit-dynamics\n",
      "  pulse.play(gaussian_pulse, pulse.drive_channel(1))\n",
      "/tmp/ipykernel_5320/1975630487.py:5: DeprecationWarning: The function ``qiskit.pulse.builder.play()`` is deprecated as of Qiskit 1.3. It will be removed in Qiskit 2.0. The entire Qiskit Pulse package is being deprecated and will be moved to the Qiskit Dynamics repository: https://github.com/qiskit-community/qiskit-dynamics\n",
      "  pulse.play(gaussian_pulse, pulse.drive_channel(1))\n",
      "/tmp/ipykernel_5320/1975630487.py:6: DeprecationWarning: The function ``qiskit.pulse.builder.drive_channel()`` is deprecated as of Qiskit 1.3. It will be removed in Qiskit 2.0. The entire Qiskit Pulse package is being deprecated and will be moved to the Qiskit Dynamics repository: https://github.com/qiskit-community/qiskit-dynamics\n",
      "  pulse.play(gaussian_pulse, pulse.drive_channel(1))\n",
      "/tmp/ipykernel_5320/1975630487.py:6: DeprecationWarning: The function ``qiskit.pulse.builder.play()`` is deprecated as of Qiskit 1.3. It will be removed in Qiskit 2.0. The entire Qiskit Pulse package is being deprecated and will be moved to the Qiskit Dynamics repository: https://github.com/qiskit-community/qiskit-dynamics\n",
      "  pulse.play(gaussian_pulse, pulse.drive_channel(1))\n"
     ]
    },
    {
     "data": {
      "text/plain": [
       "<Image src=\"/docs/images/guides/pulse/extracted-outputs/edb9c3d3-7ef6-4226-a58e-5406bed352a7-1.svg\" alt=\"Output of the previous code cell\" />"
      ]
     },
     "execution_count": 27,
     "metadata": {},
     "output_type": "execute_result"
    }
   ],
   "source": [
    "with pulse.build(backend, name=\"example\") as program:\n",
    "    gaussian_pulse = library.Gaussian(100, 0.5, 20)\n",
    "    with pulse.align_equispaced(2 * gaussian_pulse.duration):\n",
    "        pulse.play(gaussian_pulse, pulse.drive_channel(0))\n",
    "    pulse.play(gaussian_pulse, pulse.drive_channel(1))\n",
    "    pulse.play(gaussian_pulse, pulse.drive_channel(1))\n",
    "\n",
    "program.draw()"
   ]
  },
  {
   "attachments": {},
   "cell_type": "markdown",
   "id": "5137c890-e997-493a-b5c9-237e88b4f834",
   "metadata": {},
   "source": [
    "### `align_sequential`\n",
    "\n",
    "This alignment context does not schedule instructions in parallel. Each instruction will begin at the end of the previously added instruction."
   ]
  },
  {
   "cell_type": "code",
   "execution_count": 28,
   "id": "dbf45d14-a643-4616-bbe1-7ff83f2cfc70",
   "metadata": {
    "tags": [
     "ignore-warnings"
    ]
   },
   "outputs": [
    {
     "name": "stderr",
     "output_type": "stream",
     "text": [
      "/tmp/ipykernel_5320/1927066405.py:1: DeprecationWarning: The function ``qiskit.pulse.builder.build()`` is deprecated as of Qiskit 1.3. It will be removed in Qiskit 2.0. The entire Qiskit Pulse package is being deprecated and will be moved to the Qiskit Dynamics repository: https://github.com/qiskit-community/qiskit-dynamics\n",
      "  with pulse.build(backend, name=\"example\") as program:\n",
      "/tmp/ipykernel_5320/1927066405.py:4: DeprecationWarning: The function ``qiskit.pulse.builder.drive_channel()`` is deprecated as of Qiskit 1.3. It will be removed in Qiskit 2.0. The entire Qiskit Pulse package is being deprecated and will be moved to the Qiskit Dynamics repository: https://github.com/qiskit-community/qiskit-dynamics\n",
      "  pulse.play(gaussian_pulse, pulse.drive_channel(0))\n",
      "/tmp/ipykernel_5320/1927066405.py:4: DeprecationWarning: The function ``qiskit.pulse.builder.play()`` is deprecated as of Qiskit 1.3. It will be removed in Qiskit 2.0. The entire Qiskit Pulse package is being deprecated and will be moved to the Qiskit Dynamics repository: https://github.com/qiskit-community/qiskit-dynamics\n",
      "  pulse.play(gaussian_pulse, pulse.drive_channel(0))\n",
      "/tmp/ipykernel_5320/1927066405.py:5: DeprecationWarning: The function ``qiskit.pulse.builder.drive_channel()`` is deprecated as of Qiskit 1.3. It will be removed in Qiskit 2.0. The entire Qiskit Pulse package is being deprecated and will be moved to the Qiskit Dynamics repository: https://github.com/qiskit-community/qiskit-dynamics\n",
      "  pulse.play(gaussian_pulse, pulse.drive_channel(1))\n",
      "/tmp/ipykernel_5320/1927066405.py:5: DeprecationWarning: The function ``qiskit.pulse.builder.play()`` is deprecated as of Qiskit 1.3. It will be removed in Qiskit 2.0. The entire Qiskit Pulse package is being deprecated and will be moved to the Qiskit Dynamics repository: https://github.com/qiskit-community/qiskit-dynamics\n",
      "  pulse.play(gaussian_pulse, pulse.drive_channel(1))\n",
      "/tmp/ipykernel_5320/1927066405.py:6: DeprecationWarning: The function ``qiskit.pulse.builder.drive_channel()`` is deprecated as of Qiskit 1.3. It will be removed in Qiskit 2.0. The entire Qiskit Pulse package is being deprecated and will be moved to the Qiskit Dynamics repository: https://github.com/qiskit-community/qiskit-dynamics\n",
      "  pulse.play(gaussian_pulse, pulse.drive_channel(1))\n",
      "/tmp/ipykernel_5320/1927066405.py:6: DeprecationWarning: The function ``qiskit.pulse.builder.play()`` is deprecated as of Qiskit 1.3. It will be removed in Qiskit 2.0. The entire Qiskit Pulse package is being deprecated and will be moved to the Qiskit Dynamics repository: https://github.com/qiskit-community/qiskit-dynamics\n",
      "  pulse.play(gaussian_pulse, pulse.drive_channel(1))\n"
     ]
    },
    {
     "data": {
      "text/plain": [
       "<Image src=\"/docs/images/guides/pulse/extracted-outputs/dbf45d14-a643-4616-bbe1-7ff83f2cfc70-1.svg\" alt=\"Output of the previous code cell\" />"
      ]
     },
     "execution_count": 28,
     "metadata": {},
     "output_type": "execute_result"
    }
   ],
   "source": [
    "with pulse.build(backend, name=\"example\") as program:\n",
    "    with pulse.align_sequential():\n",
    "        gaussian_pulse = library.Gaussian(100, 0.5, 20)\n",
    "        pulse.play(gaussian_pulse, pulse.drive_channel(0))\n",
    "        pulse.play(gaussian_pulse, pulse.drive_channel(1))\n",
    "        pulse.play(gaussian_pulse, pulse.drive_channel(1))\n",
    "\n",
    "program.draw()"
   ]
  },
  {
   "attachments": {},
   "cell_type": "markdown",
   "id": "a673e1bc-b7e8-43df-b676-92cdcdac2af4",
   "metadata": {},
   "source": [
    "### Phase and frequency offsets\n",
    "\n",
    "The builder can help temporarily offset the frequency or phase of pulses on a channel."
   ]
  },
  {
   "cell_type": "code",
   "execution_count": 29,
   "id": "298055b0-d979-4527-af10-8fe3f211d9de",
   "metadata": {
    "tags": [
     "ignore-warnings"
    ]
   },
   "outputs": [
    {
     "name": "stderr",
     "output_type": "stream",
     "text": [
      "/tmp/ipykernel_5320/869399433.py:1: DeprecationWarning: The function ``qiskit.pulse.builder.build()`` is deprecated as of Qiskit 1.3. It will be removed in Qiskit 2.0. The entire Qiskit Pulse package is being deprecated and will be moved to the Qiskit Dynamics repository: https://github.com/qiskit-community/qiskit-dynamics\n",
      "  with pulse.build(backend, name=\"Offset example\") as program:\n",
      "/tmp/ipykernel_5320/869399433.py:2: DeprecationWarning: The function ``qiskit.pulse.builder.drive_channel()`` is deprecated as of Qiskit 1.3. It will be removed in Qiskit 2.0. The entire Qiskit Pulse package is being deprecated and will be moved to the Qiskit Dynamics repository: https://github.com/qiskit-community/qiskit-dynamics\n",
      "  with pulse.phase_offset(3.14, pulse.drive_channel(0)):\n",
      "/tmp/ipykernel_5320/869399433.py:3: DeprecationWarning: The function ``qiskit.pulse.builder.drive_channel()`` is deprecated as of Qiskit 1.3. It will be removed in Qiskit 2.0. The entire Qiskit Pulse package is being deprecated and will be moved to the Qiskit Dynamics repository: https://github.com/qiskit-community/qiskit-dynamics\n",
      "  pulse.play(gaussian_pulse, pulse.drive_channel(0))\n",
      "/tmp/ipykernel_5320/869399433.py:3: DeprecationWarning: The function ``qiskit.pulse.builder.play()`` is deprecated as of Qiskit 1.3. It will be removed in Qiskit 2.0. The entire Qiskit Pulse package is being deprecated and will be moved to the Qiskit Dynamics repository: https://github.com/qiskit-community/qiskit-dynamics\n",
      "  pulse.play(gaussian_pulse, pulse.drive_channel(0))\n",
      "/tmp/ipykernel_5320/869399433.py:4: DeprecationWarning: The function ``qiskit.pulse.builder.drive_channel()`` is deprecated as of Qiskit 1.3. It will be removed in Qiskit 2.0. The entire Qiskit Pulse package is being deprecated and will be moved to the Qiskit Dynamics repository: https://github.com/qiskit-community/qiskit-dynamics\n",
      "  with pulse.frequency_offset(10e6, pulse.drive_channel(0)):\n",
      "/tmp/ipykernel_5320/869399433.py:5: DeprecationWarning: The function ``qiskit.pulse.builder.drive_channel()`` is deprecated as of Qiskit 1.3. It will be removed in Qiskit 2.0. The entire Qiskit Pulse package is being deprecated and will be moved to the Qiskit Dynamics repository: https://github.com/qiskit-community/qiskit-dynamics\n",
      "  pulse.play(gaussian_pulse, pulse.drive_channel(0))\n",
      "/tmp/ipykernel_5320/869399433.py:5: DeprecationWarning: The function ``qiskit.pulse.builder.play()`` is deprecated as of Qiskit 1.3. It will be removed in Qiskit 2.0. The entire Qiskit Pulse package is being deprecated and will be moved to the Qiskit Dynamics repository: https://github.com/qiskit-community/qiskit-dynamics\n",
      "  pulse.play(gaussian_pulse, pulse.drive_channel(0))\n"
     ]
    },
    {
     "data": {
      "text/plain": [
       "<Image src=\"/docs/images/guides/pulse/extracted-outputs/298055b0-d979-4527-af10-8fe3f211d9de-1.svg\" alt=\"Output of the previous code cell\" />"
      ]
     },
     "execution_count": 29,
     "metadata": {},
     "output_type": "execute_result"
    }
   ],
   "source": [
    "with pulse.build(backend, name=\"Offset example\") as program:\n",
    "    with pulse.phase_offset(3.14, pulse.drive_channel(0)):\n",
    "        pulse.play(gaussian_pulse, pulse.drive_channel(0))\n",
    "        with pulse.frequency_offset(10e6, pulse.drive_channel(0)):\n",
    "            pulse.play(gaussian_pulse, pulse.drive_channel(0))\n",
    "\n",
    "program.draw()"
   ]
  },
  {
   "attachments": {},
   "cell_type": "markdown",
   "id": "8b04e0e7-ec54-4e2d-bfb5-43bb388ea6d1",
   "metadata": {},
   "source": [
    "## Next steps\n",
    "\n",
    "<Admonition type=\"tip\" title=\"Recommendations\">\n",
    "\n",
    "- Review the [Pulse API](/docs/api/qiskit/1.4/pulse) reference.\n",
    "- See the [Qiskit Experiments](https://qiskit.org/ecosystem/experiments/) documentation.\n",
    "</Admonition>"
   ]
  }
 ],
 "metadata": {
  "description": "Learn low-level pulse waveform programming using the Qiskit pulse module",
  "kernelspec": {
   "display_name": "Python 3",
   "language": "python",
   "name": "python3"
  },
  "language_info": {
   "codemirror_mode": {
    "name": "ipython",
    "version": 3
   },
   "file_extension": ".py",
   "mimetype": "text/x-python",
   "name": "python",
   "nbconvert_exporter": "python",
   "pygments_lexer": "ipython3",
   "version": "3"
  },
  "title": "Pulse schedules"
 },
 "nbformat": 4,
 "nbformat_minor": 4
}
