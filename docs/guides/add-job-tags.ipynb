{
 "cells": [
  {
   "cell_type": "markdown",
   "id": "f931abbe-019d-4198-bc62-facba2ea2ded",
   "metadata": {},
   "source": [
    "# HOW TO get and visualize the scheduler timing information of a Quantum Circuit\n",
    "\n",
    "In order to have the visualizer avialale in the notebook, please checkout the branch [RoyElkabetz:re-sched-vis](https://github.com/RoyElkabetz/qiskit-ibm-runtime/tree/re-sched-vis). Also notice that a special Primitives image is being set for execution. This new image should become part of main in the near future, and then the `image` key in the Sampler Options could be removed."
   ]
  },
  {
   "cell_type": "code",
   "execution_count": 1,
   "id": "7c8168ab-cb5c-48ed-b8dc-e9ab90182a17",
   "metadata": {},
   "outputs": [
    {
     "name": "stdout",
     "output_type": "stream",
     "text": [
      "qiskit: 2.1.2\n",
      "qiskit-ibm-runtime: 0.42.0.dev1970+g4b4641046.d20250828\n"
     ]
    }
   ],
   "source": [
    "from qiskit_ibm_runtime import QiskitRuntimeService, SamplerV2\n",
    "from qiskit.circuit import QuantumCircuit\n",
    "from qiskit import transpile\n",
    "\n",
    "import qiskit\n",
    "import qiskit_ibm_runtime\n",
    "\n",
    "print(f\"qiskit: {qiskit.__version__}\")\n",
    "print(f\"qiskit-ibm-runtime: {qiskit_ibm_runtime.__version__}\")"
   ]
  },
  {
   "cell_type": "code",
   "execution_count": 2,
   "id": "2fc1e904-c0d3-4426-acba-500608bae94b",
   "metadata": {},
   "outputs": [
    {
     "name": "stderr",
     "output_type": "stream",
     "text": [
      "management.get:WARNING:2025-09-30 10:58:40,247: Loading default saved account\n"
     ]
    }
   ],
   "source": [
    "# Connect to backend\n",
    "# backend_name = \"test_heron_pok_1\"\n",
    "# service = QiskitRuntimeService()\n",
    "backend_name = \"test_heron_pok_1\"\n",
    "service = QiskitRuntimeService()\n",
    "backend = service.backend(backend_name)"
   ]
  },
  {
   "cell_type": "code",
   "execution_count": 3,
   "id": "8158fa17-a23e-4174-b793-3f8a0c604971",
   "metadata": {},
   "outputs": [
    {
     "data": {
      "text/html": [
       "<pre style=\"word-wrap: normal;white-space: pre;background: #fff0;line-height: 1.1;font-family: &quot;Courier New&quot;,Courier,monospace\">        ┌───┐      ░ ┌─┐   \n",
       "   q_0: ┤ H ├──■───░─┤M├───\n",
       "        └───┘┌─┴─┐ ░ └╥┘┌─┐\n",
       "   q_1: ─────┤ X ├─░──╫─┤M├\n",
       "             └───┘ ░  ║ └╥┘\n",
       "meas: 2/══════════════╩══╩═\n",
       "                      0  1 </pre>"
      ],
      "text/plain": [
       "        ┌───┐      ░ ┌─┐   \n",
       "   q_0: ┤ H ├──■───░─┤M├───\n",
       "        └───┘┌─┴─┐ ░ └╥┘┌─┐\n",
       "   q_1: ─────┤ X ├─░──╫─┤M├\n",
       "             └───┘ ░  ║ └╥┘\n",
       "meas: 2/══════════════╩══╩═\n",
       "                      0  1 "
      ]
     },
     "execution_count": 3,
     "metadata": {},
     "output_type": "execute_result"
    }
   ],
   "source": [
    "# Create a Bell circuit\n",
    "qc = QuantumCircuit(2)\n",
    "qc.h(0)\n",
    "qc.cx(0, 1)\n",
    "qc.measure_all()\n",
    "\n",
    "qc.draw()"
   ]
  },
  {
   "cell_type": "code",
   "execution_count": 4,
   "id": "3c88a736-d7ab-45b2-b75e-2f2583278d6e",
   "metadata": {},
   "outputs": [],
   "source": [
    "# Transpiling the circuit for the given backend\n",
    "transpiled_circuits = []\n",
    "transpiled_circuit = transpile(qc, backend)\n",
    "transpiled_circuits.append(transpiled_circuit)"
   ]
  },
  {
   "cell_type": "code",
   "execution_count": null,
   "id": "b29f7628-966a-4ba8-94c9-a31ffa45b91e",
   "metadata": {},
   "outputs": [],
   "source": [
    "# Generating samplers for backend targets\n",
    "sampler = SamplerV2(backend)\n",
    "sampler.options.experimental = {\n",
    "    \"execution\": {\"scheduler_timing\": True},\n",
    "}"
   ]
  },
  {
   "cell_type": "code",
   "execution_count": 7,
   "id": "39822c25-45cf-4831-b668-b40821060f65",
   "metadata": {},
   "outputs": [],
   "source": [
    "# Submitting sampler jobs\n",
    "sampler_job = sampler.run(transpiled_circuits)"
   ]
  },
  {
   "cell_type": "code",
   "execution_count": 8,
   "id": "4f7ae24b-e163-4d6b-bc48-f4b5a4209c9a",
   "metadata": {},
   "outputs": [
    {
     "name": "stdout",
     "output_type": "stream",
     "text": [
      ">>>  Job ID:    d3dv096lahfs73d0fngg (QUEUED)\n"
     ]
    }
   ],
   "source": [
    "print(\n",
    "    f\">>> {' Job ID:':<10}  {sampler_job.job_id()} ({sampler_job.status()})\"\n",
    ")"
   ]
  },
  {
   "cell_type": "code",
   "execution_count": 9,
   "id": "007e274d-8acf-4c81-ac38-15a27c0cfed0",
   "metadata": {},
   "outputs": [
    {
     "name": "stdout",
     "output_type": "stream",
     "text": [
      ">>>  Job:      d3dv096lahfs73d0fngg finished with:\n",
      "PrimitiveResult([SamplerPubResult(data=DataBin(meas=BitArray(<shape=(), num_shots=4096, num_bits=2>)), metadata={'circuit_metadata': {}, 'compilation': {'scheduler_timing': {'timing': 'main,barrier,Qubit 2,0,0,barrier\\nmain,barrier,Qubit 3,0,0,barrier\\nmain,INIT_2,Qubit 2,10,2500,play\\nmain,INIT_2,Qubit 2,9,2500,play\\nmain,INIT_3,Qubit 3,10,2500,play\\nmain,INIT_3,Qubit 3,9,2500,play\\nmain,barrier,Qubit 2,2510,0,barrier\\nmain,barrier,Qubit 3,2510,0,barrier\\nmain,rz_2,Qubit 74,2510,0,shift_phase\\nmain,rz_2,Qubit 2,2510,0,shift_phase\\nmain,rz_2,Qubit 75,2510,0,shift_phase\\nmain,sx_2,Qubit 2,2510,256,play\\nmain,rz_2,Qubit 74,2766,0,shift_phase\\nmain,rz_2,Qubit 2,2766,0,shift_phase\\nmain,rz_2,Qubit 75,2766,0,shift_phase\\nmain,rz_3,Qubit 3,2510,0,shift_phase\\nmain,rz_3,Qubit 75,2510,0,shift_phase\\nmain,rz_3,Qubit 76,2510,0,shift_phase\\nmain,sx_3,Qubit 3,2510,256,play\\nmain,rz_3,Qubit 3,2766,0,shift_phase\\nmain,rz_3,Qubit 75,2766,0,shift_phase\\nmain,rz_3,Qubit 76,2766,0,shift_phase\\nmain,cz_3_2,Qubit 2,2766,21,play\\nmain,cz_3_2,Qubit 3,2766,21,play\\nmain,sx_2,Qubit 2,2787,256,play\\nmain,rz_2,Qubit 74,3043,0,shift_phase\\nmain,rz_2,Qubit 2,3043,0,shift_phase\\nmain,rz_2,Qubit 75,3043,0,shift_phase\\nmain,barrier,Qubit 3,3043,0,barrier\\nmain,barrier,Qubit 2,3043,0,barrier\\nmain,measure_3,Qubit 3,3043,64,play\\nmain,measure_3,Qubit 3,3107,91,play\\nmain,measure_3,AWGR0_3,3154,200,capture\\nmain,measure_3,Qubit 3,3198,64,play\\nmain,measure_3,Qubit 3,3262,64,play\\nmain,measure_3,Qubit 3,3326,64,play\\nmain,measure_3,Qubit 3,3390,64,play\\nmain,measure_3,Qubit 3,3454,64,play\\nmain,measure_2,Qubit 2,3043,64,play\\nmain,measure_2,Qubit 2,3107,91,play\\nmain,measure_2,AWGR0_2,3154,200,capture\\nmain,measure_2,Qubit 2,3198,64,play\\nmain,measure_2,Qubit 2,3262,64,play\\nmain,measure_2,Qubit 2,3326,64,play\\nmain,measure_2,Qubit 2,3390,64,play\\nmain,measure_2,Qubit 2,3454,64,play\\n'}, 'stretch_values': None}})], metadata={'execution': {'execution_spans': ExecutionSpans([DoubleSliceSpan(<start='2025-09-30 14:58:56', stop='2025-09-30 14:58:56', size=4096>)])}, 'version': 2})\n"
     ]
    }
   ],
   "source": [
    "result = sampler_job.result()\n",
    "print(f\">>> {' Job:':<10} {sampler_job.job_id()} finished with:\\n{result}\")"
   ]
  },
  {
   "cell_type": "code",
   "execution_count": 10,
   "id": "204e62e6-cd12-400a-adef-1f7b5d43ab6a",
   "metadata": {},
   "outputs": [
    {
     "data": {
      "text/plain": [
       "'main,barrier,Qubit 2,0,0,barrier\\nmain,barrier,Qubit 3,0,0,barrier\\nmain,INIT_2,Qubit 2,10,2500,play\\nmain,INIT_2,Qubit 2,9,2500,play\\nmain,INIT_3,Qubit 3,10,2500,play\\nmain,INIT_3,Qubit 3,9,2500,play\\nmain,barrier,Qubit 2,2510,0,barrier\\nmain,barrier,Qubit 3,2510,0,barrier\\nmain,rz_2,Qubit 74,2510,0,shift_phase\\nmain,rz_2,Qubit 2,2510,0,shift_phase\\nmain,rz_2,Qubit 75,2510,0,shift_phase\\nmain,sx_2,Qubit 2,2510,256,play\\nmain,rz_2,Qubit 74,2766,0,shift_phase\\nmain,rz_2,Qubit 2,2766,0,shift_phase\\nmain,rz_2,Qubit 75,2766,0,shift_phase\\nmain,rz_3,Qubit 3,2510,0,shift_phase\\nmain,rz_3,Qubit 75,2510,0,shift_phase\\nmain,rz_3,Qubit 76,2510,0,shift_phase\\nmain,sx_3,Qubit 3,2510,256,play\\nmain,rz_3,Qubit 3,2766,0,shift_phase\\nmain,rz_3,Qubit 75,2766,0,shift_phase\\nmain,rz_3,Qubit 76,2766,0,shift_phase\\nmain,cz_3_2,Qubit 2,2766,21,play\\nmain,cz_3_2,Qubit 3,2766,21,play\\nmain,sx_2,Qubit 2,2787,256,play\\nmain,rz_2,Qubit 74,3043,0,shift_phase\\nmain,rz_2,Qubit 2,3043,0,shift_phase\\nmain,rz_2,Qubit 75,3043,0,shift_phase\\nmain,barrier,Qubit 3,3043,0,barrier\\nmain,barrier,Qubit 2,3043,0,barrier\\nmain,measure_3,Qubit 3,3043,64,play\\nmain,measure_3,Qubit 3,3107,91,play\\nmain,measure_3,AWGR0_3,3154,200,capture\\nmain,measure_3,Qubit 3,3198,64,play\\nmain,measure_3,Qubit 3,3262,64,play\\nmain,measure_3,Qubit 3,3326,64,play\\nmain,measure_3,Qubit 3,3390,64,play\\nmain,measure_3,Qubit 3,3454,64,play\\nmain,measure_2,Qubit 2,3043,64,play\\nmain,measure_2,Qubit 2,3107,91,play\\nmain,measure_2,AWGR0_2,3154,200,capture\\nmain,measure_2,Qubit 2,3198,64,play\\nmain,measure_2,Qubit 2,3262,64,play\\nmain,measure_2,Qubit 2,3326,64,play\\nmain,measure_2,Qubit 2,3390,64,play\\nmain,measure_2,Qubit 2,3454,64,play\\n'"
      ]
     },
     "execution_count": 10,
     "metadata": {},
     "output_type": "execute_result"
    }
   ],
   "source": [
    "# getting the circuit schedule timing\n",
    "result[0].metadata[\"compilation\"][\"scheduler_timing\"][\"timing\"]"
   ]
  },
  {
   "cell_type": "markdown",
   "id": "58a2812a-5d00-4b88-8c98-cf46a67e4217",
   "metadata": {},
   "source": [
    "### Visualize and Save\n",
    "\n",
    "Checkout the [PR's](https://github.com/Qiskit/qiskit-ibm-runtime/pull/2361) docs to better understand the different input argument to `draw_circuit_schedule_timing()`."
   ]
  },
  {
   "cell_type": "code",
   "execution_count": 11,
   "id": "62676ffa-48e4-4d28-acc5-743fb5899dc7",
   "metadata": {},
   "outputs": [],
   "source": [
    "from qiskit_ibm_runtime.visualization import draw_circuit_schedule_timing\n",
    "\n",
    "circuit_schedule = (\n",
    "    result[0]\n",
    "    .metadata[\"compilation\"][\"scheduler_timing\"][\"timing\"]\n",
    "    .split(\"\\n\")\n",
    ")\n",
    "fig = draw_circuit_schedule_timing(\n",
    "    circuit_schedule=circuit_schedule,\n",
    "    included_channels=None,\n",
    "    filter_readout_channels=False,\n",
    "    filter_barriers=False,\n",
    "    width=1000,\n",
    ")"
   ]
  },
  {
   "cell_type": "markdown",
   "id": "ab0c93b3-18b7-4388-a050-97bbc74f4aa7",
   "metadata": {},
   "source": [
    "### AWGRX_Y definition\n",
    "AWGR stands for Arbitrary Wave Generator Readout (AWGR) and is used for readout channels communication for measuring qubits,\n",
    "as opposed to drive channels which are for driving the qubits. The `X` and `Y` arguments corresponds to the readout instrument id and the qubit number respectively."
   ]
  },
  {
   "cell_type": "code",
   "execution_count": 12,
   "id": "81b9c8a9-9f11-4761-8eba-38a62d9ee842",
   "metadata": {},
   "outputs": [
    {
     "data": {
      "application/vnd.plotly.v1+json": {
       "config": {
        "plotlyServerURL": "https://plot.ly"
       },
       "data": [
        {
         "fill": "toself",
         "fillcolor": "#AB63FA",
         "hoverinfo": "x+text",
         "legendgroup": "measure",
         "line": {
          "color": "black"
         },
         "marker": {
          "size": 0.01
         },
         "mode": "lines+markers",
         "name": "measure",
         "showlegend": true,
         "text": "Instruction: measure_2<br>Pulse: capture<br>Start: 3154<br>Finish: 3354<br>Duration: 200",
         "type": "scatter",
         "x": [
          3154,
          3254,
          3354,
          3354,
          3254,
          3154,
          3154,
          null
         ],
         "y": [
          -0.4,
          -0.4,
          -0.4,
          0.4,
          0.4,
          0.4,
          -0.4,
          null
         ]
        },
        {
         "fill": "toself",
         "fillcolor": "#AB63FA",
         "hoverinfo": "x+text",
         "legendgroup": "measure",
         "line": {
          "color": "black"
         },
         "marker": {
          "size": 0.01
         },
         "mode": "lines+markers",
         "name": "measure",
         "showlegend": false,
         "text": "Instruction: measure_3<br>Pulse: capture<br>Start: 3154<br>Finish: 3354<br>Duration: 200",
         "type": "scatter",
         "x": [
          3154,
          3254,
          3354,
          3354,
          3254,
          3154,
          3154,
          null
         ],
         "y": [
          0.6,
          0.6,
          0.6,
          1.4,
          1.4,
          1.4,
          0.6,
          null
         ]
        },
        {
         "fill": "toself",
         "fillcolor": "#EF553B",
         "hoverinfo": "x+text",
         "legendgroup": "barrier",
         "line": {
          "color": "black"
         },
         "marker": {
          "size": 0.01
         },
         "mode": "lines+markers",
         "name": "barrier",
         "showlegend": true,
         "text": "Instruction: barrier<br>Pulse: barrier<br>Start: 0<br>Finish: 0<br>Duration: 0",
         "type": "scatter",
         "x": [
          0,
          0,
          0,
          0,
          0,
          0,
          0,
          null
         ],
         "y": [
          1.6,
          1.6,
          1.6,
          2.4,
          2.4,
          2.4,
          1.6,
          null
         ]
        },
        {
         "fill": "toself",
         "fillcolor": "#AB63FA",
         "hoverinfo": "x+text",
         "legendgroup": "measure",
         "line": {
          "color": "black"
         },
         "marker": {
          "size": 0.01
         },
         "mode": "lines+markers",
         "name": "measure",
         "showlegend": false,
         "text": "Instruction: measure_2<br>Pulse: play<br>Start: 3326<br>Finish: 3390<br>Duration: 64",
         "type": "scatter",
         "x": [
          3326,
          3358,
          3390,
          3390,
          3358,
          3326,
          3326,
          null
         ],
         "y": [
          1.6,
          1.6,
          1.6,
          2.4,
          2.4,
          2.4,
          1.6,
          null
         ]
        },
        {
         "fill": "toself",
         "fillcolor": "#AB63FA",
         "hoverinfo": "x+text",
         "legendgroup": "measure",
         "line": {
          "color": "black"
         },
         "marker": {
          "size": 0.01
         },
         "mode": "lines+markers",
         "name": "measure",
         "showlegend": false,
         "text": "Instruction: measure_2<br>Pulse: play<br>Start: 3262<br>Finish: 3326<br>Duration: 64",
         "type": "scatter",
         "x": [
          3262,
          3294,
          3326,
          3326,
          3294,
          3262,
          3262,
          null
         ],
         "y": [
          1.6,
          1.6,
          1.6,
          2.4,
          2.4,
          2.4,
          1.6,
          null
         ]
        },
        {
         "fill": "toself",
         "fillcolor": "#AB63FA",
         "hoverinfo": "x+text",
         "legendgroup": "measure",
         "line": {
          "color": "black"
         },
         "marker": {
          "size": 0.01
         },
         "mode": "lines+markers",
         "name": "measure",
         "showlegend": false,
         "text": "Instruction: measure_2<br>Pulse: play<br>Start: 3198<br>Finish: 3262<br>Duration: 64",
         "type": "scatter",
         "x": [
          3198,
          3230,
          3262,
          3262,
          3230,
          3198,
          3198,
          null
         ],
         "y": [
          1.6,
          1.6,
          1.6,
          2.4,
          2.4,
          2.4,
          1.6,
          null
         ]
        },
        {
         "fill": "toself",
         "fillcolor": "#AB63FA",
         "hoverinfo": "x+text",
         "legendgroup": "measure",
         "line": {
          "color": "black"
         },
         "marker": {
          "size": 0.01
         },
         "mode": "lines+markers",
         "name": "measure",
         "showlegend": false,
         "text": "Instruction: measure_2<br>Pulse: play<br>Start: 3107<br>Finish: 3198<br>Duration: 91",
         "type": "scatter",
         "x": [
          3107,
          3152.5,
          3198,
          3198,
          3152.5,
          3107,
          3107,
          null
         ],
         "y": [
          1.6,
          1.6,
          1.6,
          2.4,
          2.4,
          2.4,
          1.6,
          null
         ]
        },
        {
         "fill": "toself",
         "fillcolor": "#AB63FA",
         "hoverinfo": "x+text",
         "legendgroup": "measure",
         "line": {
          "color": "black"
         },
         "marker": {
          "size": 0.01
         },
         "mode": "lines+markers",
         "name": "measure",
         "showlegend": false,
         "text": "Instruction: measure_2<br>Pulse: play<br>Start: 3043<br>Finish: 3107<br>Duration: 64",
         "type": "scatter",
         "x": [
          3043,
          3075,
          3107,
          3107,
          3075,
          3043,
          3043,
          null
         ],
         "y": [
          1.6,
          1.6,
          1.6,
          2.4,
          2.4,
          2.4,
          1.6,
          null
         ]
        },
        {
         "fill": "toself",
         "fillcolor": "#EF553B",
         "hoverinfo": "x+text",
         "legendgroup": "barrier",
         "line": {
          "color": "black"
         },
         "marker": {
          "size": 0.01
         },
         "mode": "lines+markers",
         "name": "barrier",
         "showlegend": false,
         "text": "Instruction: barrier<br>Pulse: barrier<br>Start: 3043<br>Finish: 3043<br>Duration: 0",
         "type": "scatter",
         "x": [
          3043,
          3043,
          3043,
          3043,
          3043,
          3043,
          3043,
          null
         ],
         "y": [
          1.6,
          1.6,
          1.6,
          2.4,
          2.4,
          2.4,
          1.6,
          null
         ]
        },
        {
         "fill": "toself",
         "fillcolor": "#19D3F3",
         "hoverinfo": "x+text",
         "legendgroup": "sx",
         "line": {
          "color": "black"
         },
         "marker": {
          "size": 0.01
         },
         "mode": "lines+markers",
         "name": "sx",
         "showlegend": true,
         "text": "Instruction: sx_2<br>Pulse: play<br>Start: 2787<br>Finish: 3043<br>Duration: 256",
         "type": "scatter",
         "x": [
          2787,
          2915,
          3043,
          3043,
          2915,
          2787,
          2787,
          null
         ],
         "y": [
          1.6,
          1.6,
          1.6,
          2.4,
          2.4,
          2.4,
          1.6,
          null
         ]
        },
        {
         "fill": "toself",
         "fillcolor": "#AB63FA",
         "hoverinfo": "x+text",
         "legendgroup": "measure",
         "line": {
          "color": "black"
         },
         "marker": {
          "size": 0.01
         },
         "mode": "lines+markers",
         "name": "measure",
         "showlegend": false,
         "text": "Instruction: measure_2<br>Pulse: play<br>Start: 3390<br>Finish: 3454<br>Duration: 64",
         "type": "scatter",
         "x": [
          3390,
          3422,
          3454,
          3454,
          3422,
          3390,
          3390,
          null
         ],
         "y": [
          1.6,
          1.6,
          1.6,
          2.4,
          2.4,
          2.4,
          1.6,
          null
         ]
        },
        {
         "fill": "toself",
         "fillcolor": "#00CC96",
         "hoverinfo": "x+text",
         "legendgroup": "cz",
         "line": {
          "color": "black"
         },
         "marker": {
          "size": 0.01
         },
         "mode": "lines+markers",
         "name": "cz",
         "showlegend": true,
         "text": "Instruction: cz_3_2<br>Pulse: play<br>Start: 2766<br>Finish: 2787<br>Duration: 21",
         "type": "scatter",
         "x": [
          2766,
          2776.5,
          2787,
          2787,
          2776.5,
          2766,
          2766,
          null
         ],
         "y": [
          1.6,
          1.6,
          1.6,
          2.4,
          2.4,
          2.4,
          1.6,
          null
         ]
        },
        {
         "fill": "toself",
         "fillcolor": "#AB63FA",
         "hoverinfo": "x+text",
         "legendgroup": "measure",
         "line": {
          "color": "black"
         },
         "marker": {
          "size": 0.01
         },
         "mode": "lines+markers",
         "name": "measure",
         "showlegend": false,
         "text": "Instruction: measure_2<br>Pulse: play<br>Start: 3454<br>Finish: 3518<br>Duration: 64",
         "type": "scatter",
         "x": [
          3454,
          3486,
          3518,
          3518,
          3486,
          3454,
          3454,
          null
         ],
         "y": [
          1.6,
          1.6,
          1.6,
          2.4,
          2.4,
          2.4,
          1.6,
          null
         ]
        },
        {
         "fill": "toself",
         "fillcolor": "#636EFA",
         "hoverinfo": "x+text",
         "legendgroup": "INIT",
         "line": {
          "color": "black"
         },
         "marker": {
          "size": 0.01
         },
         "mode": "lines+markers",
         "name": "INIT",
         "showlegend": true,
         "text": "Instruction: INIT_2<br>Pulse: play<br>Start: 10<br>Finish: 2510<br>Duration: 2500",
         "type": "scatter",
         "x": [
          10,
          1260,
          2510,
          2510,
          1260,
          10,
          10,
          null
         ],
         "y": [
          1.6,
          1.6,
          1.6,
          2.4,
          2.4,
          2.4,
          1.6,
          null
         ]
        },
        {
         "fill": "toself",
         "fillcolor": "#636EFA",
         "hoverinfo": "x+text",
         "legendgroup": "INIT",
         "line": {
          "color": "black"
         },
         "marker": {
          "size": 0.01
         },
         "mode": "lines+markers",
         "name": "INIT",
         "showlegend": false,
         "text": "Instruction: INIT_2<br>Pulse: play<br>Start: 9<br>Finish: 2509<br>Duration: 2500",
         "type": "scatter",
         "x": [
          9,
          1259,
          2509,
          2509,
          1259,
          9,
          9,
          null
         ],
         "y": [
          1.6,
          1.6,
          1.6,
          2.4,
          2.4,
          2.4,
          1.6,
          null
         ]
        },
        {
         "fill": "toself",
         "fillcolor": "#19D3F3",
         "hoverinfo": "x+text",
         "legendgroup": "sx",
         "line": {
          "color": "black"
         },
         "marker": {
          "size": 0.01
         },
         "mode": "lines+markers",
         "name": "sx",
         "showlegend": false,
         "text": "Instruction: sx_2<br>Pulse: play<br>Start: 2510<br>Finish: 2766<br>Duration: 256",
         "type": "scatter",
         "x": [
          2510,
          2638,
          2766,
          2766,
          2638,
          2510,
          2510,
          null
         ],
         "y": [
          1.6,
          1.6,
          1.6,
          2.4,
          2.4,
          2.4,
          1.6,
          null
         ]
        },
        {
         "fill": "toself",
         "fillcolor": "#EF553B",
         "hoverinfo": "x+text",
         "legendgroup": "barrier",
         "line": {
          "color": "black"
         },
         "marker": {
          "size": 0.01
         },
         "mode": "lines+markers",
         "name": "barrier",
         "showlegend": false,
         "text": "Instruction: barrier<br>Pulse: barrier<br>Start: 2510<br>Finish: 2510<br>Duration: 0",
         "type": "scatter",
         "x": [
          2510,
          2510,
          2510,
          2510,
          2510,
          2510,
          2510,
          null
         ],
         "y": [
          1.6,
          1.6,
          1.6,
          2.4,
          2.4,
          2.4,
          1.6,
          null
         ]
        },
        {
         "fill": "toself",
         "fillcolor": "#AB63FA",
         "hoverinfo": "x+text",
         "legendgroup": "measure",
         "line": {
          "color": "black"
         },
         "marker": {
          "size": 0.01
         },
         "mode": "lines+markers",
         "name": "measure",
         "showlegend": false,
         "text": "Instruction: measure_3<br>Pulse: play<br>Start: 3198<br>Finish: 3262<br>Duration: 64",
         "type": "scatter",
         "x": [
          3198,
          3230,
          3262,
          3262,
          3230,
          3198,
          3198,
          null
         ],
         "y": [
          2.6,
          2.6,
          2.6,
          3.4,
          3.4,
          3.4,
          2.6,
          null
         ]
        },
        {
         "fill": "toself",
         "fillcolor": "#EF553B",
         "hoverinfo": "x+text",
         "legendgroup": "barrier",
         "line": {
          "color": "black"
         },
         "marker": {
          "size": 0.01
         },
         "mode": "lines+markers",
         "name": "barrier",
         "showlegend": false,
         "text": "Instruction: barrier<br>Pulse: barrier<br>Start: 2510<br>Finish: 2510<br>Duration: 0",
         "type": "scatter",
         "x": [
          2510,
          2510,
          2510,
          2510,
          2510,
          2510,
          2510,
          null
         ],
         "y": [
          2.6,
          2.6,
          2.6,
          3.4,
          3.4,
          3.4,
          2.6,
          null
         ]
        },
        {
         "fill": "toself",
         "fillcolor": "#AB63FA",
         "hoverinfo": "x+text",
         "legendgroup": "measure",
         "line": {
          "color": "black"
         },
         "marker": {
          "size": 0.01
         },
         "mode": "lines+markers",
         "name": "measure",
         "showlegend": false,
         "text": "Instruction: measure_3<br>Pulse: play<br>Start: 3107<br>Finish: 3198<br>Duration: 91",
         "type": "scatter",
         "x": [
          3107,
          3152.5,
          3198,
          3198,
          3152.5,
          3107,
          3107,
          null
         ],
         "y": [
          2.6,
          2.6,
          2.6,
          3.4,
          3.4,
          3.4,
          2.6,
          null
         ]
        },
        {
         "fill": "toself",
         "fillcolor": "#AB63FA",
         "hoverinfo": "x+text",
         "legendgroup": "measure",
         "line": {
          "color": "black"
         },
         "marker": {
          "size": 0.01
         },
         "mode": "lines+markers",
         "name": "measure",
         "showlegend": false,
         "text": "Instruction: measure_3<br>Pulse: play<br>Start: 3043<br>Finish: 3107<br>Duration: 64",
         "type": "scatter",
         "x": [
          3043,
          3075,
          3107,
          3107,
          3075,
          3043,
          3043,
          null
         ],
         "y": [
          2.6,
          2.6,
          2.6,
          3.4,
          3.4,
          3.4,
          2.6,
          null
         ]
        },
        {
         "fill": "toself",
         "fillcolor": "#AB63FA",
         "hoverinfo": "x+text",
         "legendgroup": "measure",
         "line": {
          "color": "black"
         },
         "marker": {
          "size": 0.01
         },
         "mode": "lines+markers",
         "name": "measure",
         "showlegend": false,
         "text": "Instruction: measure_3<br>Pulse: play<br>Start: 3390<br>Finish: 3454<br>Duration: 64",
         "type": "scatter",
         "x": [
          3390,
          3422,
          3454,
          3454,
          3422,
          3390,
          3390,
          null
         ],
         "y": [
          2.6,
          2.6,
          2.6,
          3.4,
          3.4,
          3.4,
          2.6,
          null
         ]
        },
        {
         "fill": "toself",
         "fillcolor": "#EF553B",
         "hoverinfo": "x+text",
         "legendgroup": "barrier",
         "line": {
          "color": "black"
         },
         "marker": {
          "size": 0.01
         },
         "mode": "lines+markers",
         "name": "barrier",
         "showlegend": false,
         "text": "Instruction: barrier<br>Pulse: barrier<br>Start: 3043<br>Finish: 3043<br>Duration: 0",
         "type": "scatter",
         "x": [
          3043,
          3043,
          3043,
          3043,
          3043,
          3043,
          3043,
          null
         ],
         "y": [
          2.6,
          2.6,
          2.6,
          3.4,
          3.4,
          3.4,
          2.6,
          null
         ]
        },
        {
         "fill": "toself",
         "fillcolor": "#AB63FA",
         "hoverinfo": "x+text",
         "legendgroup": "measure",
         "line": {
          "color": "black"
         },
         "marker": {
          "size": 0.01
         },
         "mode": "lines+markers",
         "name": "measure",
         "showlegend": false,
         "text": "Instruction: measure_3<br>Pulse: play<br>Start: 3454<br>Finish: 3518<br>Duration: 64",
         "type": "scatter",
         "x": [
          3454,
          3486,
          3518,
          3518,
          3486,
          3454,
          3454,
          null
         ],
         "y": [
          2.6,
          2.6,
          2.6,
          3.4,
          3.4,
          3.4,
          2.6,
          null
         ]
        },
        {
         "fill": "toself",
         "fillcolor": "#636EFA",
         "hoverinfo": "x+text",
         "legendgroup": "INIT",
         "line": {
          "color": "black"
         },
         "marker": {
          "size": 0.01
         },
         "mode": "lines+markers",
         "name": "INIT",
         "showlegend": false,
         "text": "Instruction: INIT_3<br>Pulse: play<br>Start: 9<br>Finish: 2509<br>Duration: 2500",
         "type": "scatter",
         "x": [
          9,
          1259,
          2509,
          2509,
          1259,
          9,
          9,
          null
         ],
         "y": [
          2.6,
          2.6,
          2.6,
          3.4,
          3.4,
          3.4,
          2.6,
          null
         ]
        },
        {
         "fill": "toself",
         "fillcolor": "#00CC96",
         "hoverinfo": "x+text",
         "legendgroup": "cz",
         "line": {
          "color": "black"
         },
         "marker": {
          "size": 0.01
         },
         "mode": "lines+markers",
         "name": "cz",
         "showlegend": false,
         "text": "Instruction: cz_3_2<br>Pulse: play<br>Start: 2766<br>Finish: 2787<br>Duration: 21",
         "type": "scatter",
         "x": [
          2766,
          2776.5,
          2787,
          2787,
          2776.5,
          2766,
          2766,
          null
         ],
         "y": [
          2.6,
          2.6,
          2.6,
          3.4,
          3.4,
          3.4,
          2.6,
          null
         ]
        },
        {
         "fill": "toself",
         "fillcolor": "#636EFA",
         "hoverinfo": "x+text",
         "legendgroup": "INIT",
         "line": {
          "color": "black"
         },
         "marker": {
          "size": 0.01
         },
         "mode": "lines+markers",
         "name": "INIT",
         "showlegend": false,
         "text": "Instruction: INIT_3<br>Pulse: play<br>Start: 10<br>Finish: 2510<br>Duration: 2500",
         "type": "scatter",
         "x": [
          10,
          1260,
          2510,
          2510,
          1260,
          10,
          10,
          null
         ],
         "y": [
          2.6,
          2.6,
          2.6,
          3.4,
          3.4,
          3.4,
          2.6,
          null
         ]
        },
        {
         "fill": "toself",
         "fillcolor": "#19D3F3",
         "hoverinfo": "x+text",
         "legendgroup": "sx",
         "line": {
          "color": "black"
         },
         "marker": {
          "size": 0.01
         },
         "mode": "lines+markers",
         "name": "sx",
         "showlegend": false,
         "text": "Instruction: sx_3<br>Pulse: play<br>Start: 2510<br>Finish: 2766<br>Duration: 256",
         "type": "scatter",
         "x": [
          2510,
          2638,
          2766,
          2766,
          2638,
          2510,
          2510,
          null
         ],
         "y": [
          2.6,
          2.6,
          2.6,
          3.4,
          3.4,
          3.4,
          2.6,
          null
         ]
        },
        {
         "fill": "toself",
         "fillcolor": "#EF553B",
         "hoverinfo": "x+text",
         "legendgroup": "barrier",
         "line": {
          "color": "black"
         },
         "marker": {
          "size": 0.01
         },
         "mode": "lines+markers",
         "name": "barrier",
         "showlegend": false,
         "text": "Instruction: barrier<br>Pulse: barrier<br>Start: 0<br>Finish: 0<br>Duration: 0",
         "type": "scatter",
         "x": [
          0,
          0,
          0,
          0,
          0,
          0,
          0,
          null
         ],
         "y": [
          2.6,
          2.6,
          2.6,
          3.4,
          3.4,
          3.4,
          2.6,
          null
         ]
        },
        {
         "fill": "toself",
         "fillcolor": "#AB63FA",
         "hoverinfo": "x+text",
         "legendgroup": "measure",
         "line": {
          "color": "black"
         },
         "marker": {
          "size": 0.01
         },
         "mode": "lines+markers",
         "name": "measure",
         "showlegend": false,
         "text": "Instruction: measure_3<br>Pulse: play<br>Start: 3262<br>Finish: 3326<br>Duration: 64",
         "type": "scatter",
         "x": [
          3262,
          3294,
          3326,
          3326,
          3294,
          3262,
          3262,
          null
         ],
         "y": [
          2.6,
          2.6,
          2.6,
          3.4,
          3.4,
          3.4,
          2.6,
          null
         ]
        },
        {
         "fill": "toself",
         "fillcolor": "#AB63FA",
         "hoverinfo": "x+text",
         "legendgroup": "measure",
         "line": {
          "color": "black"
         },
         "marker": {
          "size": 0.01
         },
         "mode": "lines+markers",
         "name": "measure",
         "showlegend": false,
         "text": "Instruction: measure_3<br>Pulse: play<br>Start: 3326<br>Finish: 3390<br>Duration: 64",
         "type": "scatter",
         "x": [
          3326,
          3358,
          3390,
          3390,
          3358,
          3326,
          3326,
          null
         ],
         "y": [
          2.6,
          2.6,
          2.6,
          3.4,
          3.4,
          3.4,
          2.6,
          null
         ]
        },
        {
         "fill": "toself",
         "fillcolor": "#FFA15A",
         "hoverinfo": "x+text",
         "legendgroup": "rz",
         "line": {
          "color": "black"
         },
         "marker": {
          "size": 0.01
         },
         "mode": "lines+markers",
         "name": "rz",
         "showlegend": true,
         "text": "Instruction: rz_2<br>Pulse: shift_phase<br>Start: 3043<br>Finish: 3043<br>Duration: 0",
         "type": "scatter",
         "x": [
          3043,
          3044,
          3043,
          3042,
          3043,
          null
         ],
         "y": [
          1.8,
          2,
          2.2,
          2,
          1.8,
          null
         ]
        },
        {
         "fill": "toself",
         "fillcolor": "#FFA15A",
         "hoverinfo": "x+text",
         "legendgroup": "rz",
         "line": {
          "color": "black"
         },
         "marker": {
          "size": 0.01
         },
         "mode": "lines+markers",
         "name": "rz",
         "showlegend": false,
         "text": "Instruction: rz_2<br>Pulse: shift_phase<br>Start: 2766<br>Finish: 2766<br>Duration: 0",
         "type": "scatter",
         "x": [
          2766,
          2767,
          2766,
          2765,
          2766,
          null
         ],
         "y": [
          1.8,
          2,
          2.2,
          2,
          1.8,
          null
         ]
        },
        {
         "fill": "toself",
         "fillcolor": "#FFA15A",
         "hoverinfo": "x+text",
         "legendgroup": "rz",
         "line": {
          "color": "black"
         },
         "marker": {
          "size": 0.01
         },
         "mode": "lines+markers",
         "name": "rz",
         "showlegend": false,
         "text": "Instruction: rz_2<br>Pulse: shift_phase<br>Start: 2510<br>Finish: 2510<br>Duration: 0",
         "type": "scatter",
         "x": [
          2510,
          2511,
          2510,
          2509,
          2510,
          null
         ],
         "y": [
          1.8,
          2,
          2.2,
          2,
          1.8,
          null
         ]
        },
        {
         "fill": "toself",
         "fillcolor": "#FFA15A",
         "hoverinfo": "x+text",
         "legendgroup": "rz",
         "line": {
          "color": "black"
         },
         "marker": {
          "size": 0.01
         },
         "mode": "lines+markers",
         "name": "rz",
         "showlegend": false,
         "text": "Instruction: rz_3<br>Pulse: shift_phase<br>Start: 2766<br>Finish: 2766<br>Duration: 0",
         "type": "scatter",
         "x": [
          2766,
          2767,
          2766,
          2765,
          2766,
          null
         ],
         "y": [
          2.8,
          3,
          3.2,
          3,
          2.8,
          null
         ]
        },
        {
         "fill": "toself",
         "fillcolor": "#FFA15A",
         "hoverinfo": "x+text",
         "legendgroup": "rz",
         "line": {
          "color": "black"
         },
         "marker": {
          "size": 0.01
         },
         "mode": "lines+markers",
         "name": "rz",
         "showlegend": false,
         "text": "Instruction: rz_3<br>Pulse: shift_phase<br>Start: 2510<br>Finish: 2510<br>Duration: 0",
         "type": "scatter",
         "x": [
          2510,
          2511,
          2510,
          2509,
          2510,
          null
         ],
         "y": [
          2.8,
          3,
          3.2,
          3,
          2.8,
          null
         ]
        },
        {
         "fill": "toself",
         "fillcolor": "#FFA15A",
         "hoverinfo": "x+text",
         "legendgroup": "rz",
         "line": {
          "color": "black"
         },
         "marker": {
          "size": 0.01
         },
         "mode": "lines+markers",
         "name": "rz",
         "showlegend": false,
         "text": "Instruction: rz_2<br>Pulse: shift_phase<br>Start: 2510<br>Finish: 2510<br>Duration: 0",
         "type": "scatter",
         "x": [
          2510,
          2511,
          2510,
          2509,
          2510,
          null
         ],
         "y": [
          3.8,
          4,
          4.2,
          4,
          3.8,
          null
         ]
        },
        {
         "fill": "toself",
         "fillcolor": "#FFA15A",
         "hoverinfo": "x+text",
         "legendgroup": "rz",
         "line": {
          "color": "black"
         },
         "marker": {
          "size": 0.01
         },
         "mode": "lines+markers",
         "name": "rz",
         "showlegend": false,
         "text": "Instruction: rz_2<br>Pulse: shift_phase<br>Start: 3043<br>Finish: 3043<br>Duration: 0",
         "type": "scatter",
         "x": [
          3043,
          3044,
          3043,
          3042,
          3043,
          null
         ],
         "y": [
          3.8,
          4,
          4.2,
          4,
          3.8,
          null
         ]
        },
        {
         "fill": "toself",
         "fillcolor": "#FFA15A",
         "hoverinfo": "x+text",
         "legendgroup": "rz",
         "line": {
          "color": "black"
         },
         "marker": {
          "size": 0.01
         },
         "mode": "lines+markers",
         "name": "rz",
         "showlegend": false,
         "text": "Instruction: rz_2<br>Pulse: shift_phase<br>Start: 2766<br>Finish: 2766<br>Duration: 0",
         "type": "scatter",
         "x": [
          2766,
          2767,
          2766,
          2765,
          2766,
          null
         ],
         "y": [
          3.8,
          4,
          4.2,
          4,
          3.8,
          null
         ]
        },
        {
         "fill": "toself",
         "fillcolor": "#FFA15A",
         "hoverinfo": "x+text",
         "legendgroup": "rz",
         "line": {
          "color": "black"
         },
         "marker": {
          "size": 0.01
         },
         "mode": "lines+markers",
         "name": "rz",
         "showlegend": false,
         "text": "Instruction: rz_2<br>Pulse: shift_phase<br>Start: 3043<br>Finish: 3043<br>Duration: 0",
         "type": "scatter",
         "x": [
          3043,
          3044,
          3043,
          3042,
          3043,
          null
         ],
         "y": [
          4.8,
          5,
          5.2,
          5,
          4.8,
          null
         ]
        },
        {
         "fill": "toself",
         "fillcolor": "#FFA15A",
         "hoverinfo": "x+text",
         "legendgroup": "rz",
         "line": {
          "color": "black"
         },
         "marker": {
          "size": 0.01
         },
         "mode": "lines+markers",
         "name": "rz",
         "showlegend": false,
         "text": "Instruction: rz_2<br>Pulse: shift_phase<br>Start: 2510<br>Finish: 2510<br>Duration: 0",
         "type": "scatter",
         "x": [
          2510,
          2511,
          2510,
          2509,
          2510,
          null
         ],
         "y": [
          4.8,
          5,
          5.2,
          5,
          4.8,
          null
         ]
        },
        {
         "fill": "toself",
         "fillcolor": "#FFA15A",
         "hoverinfo": "x+text",
         "legendgroup": "rz",
         "line": {
          "color": "black"
         },
         "marker": {
          "size": 0.01
         },
         "mode": "lines+markers",
         "name": "rz",
         "showlegend": false,
         "text": "Instruction: rz_3<br>Pulse: shift_phase<br>Start: 2766<br>Finish: 2766<br>Duration: 0",
         "type": "scatter",
         "x": [
          2766,
          2767,
          2766,
          2765,
          2766,
          null
         ],
         "y": [
          4.8,
          5,
          5.2,
          5,
          4.8,
          null
         ]
        },
        {
         "fill": "toself",
         "fillcolor": "#FFA15A",
         "hoverinfo": "x+text",
         "legendgroup": "rz",
         "line": {
          "color": "black"
         },
         "marker": {
          "size": 0.01
         },
         "mode": "lines+markers",
         "name": "rz",
         "showlegend": false,
         "text": "Instruction: rz_3<br>Pulse: shift_phase<br>Start: 2510<br>Finish: 2510<br>Duration: 0",
         "type": "scatter",
         "x": [
          2510,
          2511,
          2510,
          2509,
          2510,
          null
         ],
         "y": [
          4.8,
          5,
          5.2,
          5,
          4.8,
          null
         ]
        },
        {
         "fill": "toself",
         "fillcolor": "#FFA15A",
         "hoverinfo": "x+text",
         "legendgroup": "rz",
         "line": {
          "color": "black"
         },
         "marker": {
          "size": 0.01
         },
         "mode": "lines+markers",
         "name": "rz",
         "showlegend": false,
         "text": "Instruction: rz_2<br>Pulse: shift_phase<br>Start: 2766<br>Finish: 2766<br>Duration: 0",
         "type": "scatter",
         "x": [
          2766,
          2767,
          2766,
          2765,
          2766,
          null
         ],
         "y": [
          4.8,
          5,
          5.2,
          5,
          4.8,
          null
         ]
        },
        {
         "fill": "toself",
         "fillcolor": "#FFA15A",
         "hoverinfo": "x+text",
         "legendgroup": "rz",
         "line": {
          "color": "black"
         },
         "marker": {
          "size": 0.01
         },
         "mode": "lines+markers",
         "name": "rz",
         "showlegend": false,
         "text": "Instruction: rz_3<br>Pulse: shift_phase<br>Start: 2766<br>Finish: 2766<br>Duration: 0",
         "type": "scatter",
         "x": [
          2766,
          2767,
          2766,
          2765,
          2766,
          null
         ],
         "y": [
          5.8,
          6,
          6.2,
          6,
          5.8,
          null
         ]
        },
        {
         "fill": "toself",
         "fillcolor": "#FFA15A",
         "hoverinfo": "x+text",
         "legendgroup": "rz",
         "line": {
          "color": "black"
         },
         "marker": {
          "size": 0.01
         },
         "mode": "lines+markers",
         "name": "rz",
         "showlegend": false,
         "text": "Instruction: rz_3<br>Pulse: shift_phase<br>Start: 2510<br>Finish: 2510<br>Duration: 0",
         "type": "scatter",
         "x": [
          2510,
          2511,
          2510,
          2509,
          2510,
          null
         ],
         "y": [
          5.8,
          6,
          6.2,
          6,
          5.8,
          null
         ]
        }
       ],
       "layout": {
        "annotations": [
         {
          "font": {
           "color": "black",
           "size": 10
          },
          "showarrow": false,
          "text": "measure_capture",
          "textangle": 0,
          "x": 3254,
          "y": 0
         },
         {
          "font": {
           "color": "black",
           "size": 10
          },
          "showarrow": false,
          "text": "measure_capture",
          "textangle": 0,
          "x": 3254,
          "y": 1
         },
         {
          "font": {
           "color": "black",
           "size": 10
          },
          "showarrow": false,
          "text": "",
          "textangle": 0,
          "x": 0,
          "y": 2
         },
         {
          "font": {
           "color": "black",
           "size": 10
          },
          "showarrow": false,
          "text": "measure_play",
          "textangle": 0,
          "x": 3358,
          "y": 2
         },
         {
          "font": {
           "color": "black",
           "size": 10
          },
          "showarrow": false,
          "text": "measure_play",
          "textangle": 0,
          "x": 3294,
          "y": 2
         },
         {
          "font": {
           "color": "black",
           "size": 10
          },
          "showarrow": false,
          "text": "measure_play",
          "textangle": 0,
          "x": 3230,
          "y": 2
         },
         {
          "font": {
           "color": "black",
           "size": 10
          },
          "showarrow": false,
          "text": "measure_play",
          "textangle": 0,
          "x": 3152.5,
          "y": 2
         },
         {
          "font": {
           "color": "black",
           "size": 10
          },
          "showarrow": false,
          "text": "measure_play",
          "textangle": 0,
          "x": 3075,
          "y": 2
         },
         {
          "font": {
           "color": "black",
           "size": 10
          },
          "showarrow": false,
          "text": "",
          "textangle": 0,
          "x": 3043,
          "y": 2
         },
         {
          "font": {
           "color": "black",
           "size": 10
          },
          "showarrow": false,
          "text": "sx_play",
          "textangle": 0,
          "x": 2915,
          "y": 2
         },
         {
          "font": {
           "color": "black",
           "size": 10
          },
          "showarrow": false,
          "text": "measure_play",
          "textangle": 0,
          "x": 3422,
          "y": 2
         },
         {
          "font": {
           "color": "black",
           "size": 10
          },
          "showarrow": false,
          "text": "cz_play",
          "textangle": 0,
          "x": 2776.5,
          "y": 2
         },
         {
          "font": {
           "color": "black",
           "size": 10
          },
          "showarrow": false,
          "text": "measure_play",
          "textangle": 0,
          "x": 3486,
          "y": 2
         },
         {
          "font": {
           "color": "black",
           "size": 10
          },
          "showarrow": false,
          "text": "INIT_play",
          "textangle": 0,
          "x": 1260,
          "y": 2
         },
         {
          "font": {
           "color": "black",
           "size": 10
          },
          "showarrow": false,
          "text": "INIT_play",
          "textangle": 0,
          "x": 1259,
          "y": 2
         },
         {
          "font": {
           "color": "black",
           "size": 10
          },
          "showarrow": false,
          "text": "sx_play",
          "textangle": 0,
          "x": 2638,
          "y": 2
         },
         {
          "font": {
           "color": "black",
           "size": 10
          },
          "showarrow": false,
          "text": "",
          "textangle": 0,
          "x": 2510,
          "y": 2
         },
         {
          "font": {
           "color": "black",
           "size": 10
          },
          "showarrow": false,
          "text": "measure_play",
          "textangle": 0,
          "x": 3230,
          "y": 3
         },
         {
          "font": {
           "color": "black",
           "size": 10
          },
          "showarrow": false,
          "text": "",
          "textangle": 0,
          "x": 2510,
          "y": 3
         },
         {
          "font": {
           "color": "black",
           "size": 10
          },
          "showarrow": false,
          "text": "measure_play",
          "textangle": 0,
          "x": 3152.5,
          "y": 3
         },
         {
          "font": {
           "color": "black",
           "size": 10
          },
          "showarrow": false,
          "text": "measure_play",
          "textangle": 0,
          "x": 3075,
          "y": 3
         },
         {
          "font": {
           "color": "black",
           "size": 10
          },
          "showarrow": false,
          "text": "measure_play",
          "textangle": 0,
          "x": 3422,
          "y": 3
         },
         {
          "font": {
           "color": "black",
           "size": 10
          },
          "showarrow": false,
          "text": "",
          "textangle": 0,
          "x": 3043,
          "y": 3
         },
         {
          "font": {
           "color": "black",
           "size": 10
          },
          "showarrow": false,
          "text": "measure_play",
          "textangle": 0,
          "x": 3486,
          "y": 3
         },
         {
          "font": {
           "color": "black",
           "size": 10
          },
          "showarrow": false,
          "text": "INIT_play",
          "textangle": 0,
          "x": 1259,
          "y": 3
         },
         {
          "font": {
           "color": "black",
           "size": 10
          },
          "showarrow": false,
          "text": "cz_play",
          "textangle": 0,
          "x": 2776.5,
          "y": 3
         },
         {
          "font": {
           "color": "black",
           "size": 10
          },
          "showarrow": false,
          "text": "INIT_play",
          "textangle": 0,
          "x": 1260,
          "y": 3
         },
         {
          "font": {
           "color": "black",
           "size": 10
          },
          "showarrow": false,
          "text": "sx_play",
          "textangle": 0,
          "x": 2638,
          "y": 3
         },
         {
          "font": {
           "color": "black",
           "size": 10
          },
          "showarrow": false,
          "text": "",
          "textangle": 0,
          "x": 0,
          "y": 3
         },
         {
          "font": {
           "color": "black",
           "size": 10
          },
          "showarrow": false,
          "text": "measure_play",
          "textangle": 0,
          "x": 3294,
          "y": 3
         },
         {
          "font": {
           "color": "black",
           "size": 10
          },
          "showarrow": false,
          "text": "measure_play",
          "textangle": 0,
          "x": 3358,
          "y": 3
         },
         {
          "font": {
           "color": "black",
           "size": 10
          },
          "showarrow": true,
          "text": "rz_shift_phase",
          "textangle": 0,
          "x": 3043,
          "y": 2
         },
         {
          "font": {
           "color": "black",
           "size": 10
          },
          "showarrow": true,
          "text": "rz_shift_phase",
          "textangle": 0,
          "x": 2766,
          "y": 2
         },
         {
          "font": {
           "color": "black",
           "size": 10
          },
          "showarrow": true,
          "text": "rz_shift_phase",
          "textangle": 0,
          "x": 2510,
          "y": 2
         },
         {
          "font": {
           "color": "black",
           "size": 10
          },
          "showarrow": true,
          "text": "rz_shift_phase",
          "textangle": 0,
          "x": 2766,
          "y": 3
         },
         {
          "font": {
           "color": "black",
           "size": 10
          },
          "showarrow": true,
          "text": "rz_shift_phase",
          "textangle": 0,
          "x": 2510,
          "y": 3
         },
         {
          "font": {
           "color": "black",
           "size": 10
          },
          "showarrow": true,
          "text": "rz_shift_phase",
          "textangle": 0,
          "x": 2510,
          "y": 4
         },
         {
          "font": {
           "color": "black",
           "size": 10
          },
          "showarrow": true,
          "text": "rz_shift_phase",
          "textangle": 0,
          "x": 3043,
          "y": 4
         },
         {
          "font": {
           "color": "black",
           "size": 10
          },
          "showarrow": true,
          "text": "rz_shift_phase",
          "textangle": 0,
          "x": 2766,
          "y": 4
         },
         {
          "font": {
           "color": "black",
           "size": 10
          },
          "showarrow": true,
          "text": "rz_shift_phase",
          "textangle": 0,
          "x": 3043,
          "y": 5
         },
         {
          "font": {
           "color": "black",
           "size": 10
          },
          "showarrow": true,
          "text": "rz_shift_phase",
          "textangle": 0,
          "x": 2510,
          "y": 5
         },
         {
          "font": {
           "color": "black",
           "size": 10
          },
          "showarrow": true,
          "text": "rz_shift_phase",
          "textangle": 0,
          "x": 2766,
          "y": 5
         },
         {
          "font": {
           "color": "black",
           "size": 10
          },
          "showarrow": true,
          "text": "rz_shift_phase",
          "textangle": 0,
          "x": 2510,
          "y": 5
         },
         {
          "font": {
           "color": "black",
           "size": 10
          },
          "showarrow": true,
          "text": "rz_shift_phase",
          "textangle": 0,
          "x": 2766,
          "y": 5
         },
         {
          "font": {
           "color": "black",
           "size": 10
          },
          "showarrow": true,
          "text": "rz_shift_phase",
          "textangle": 0,
          "x": 2766,
          "y": 6
         },
         {
          "font": {
           "color": "black",
           "size": 10
          },
          "showarrow": true,
          "text": "rz_shift_phase",
          "textangle": 0,
          "x": 2510,
          "y": 6
         }
        ],
        "height": 620,
        "paper_bgcolor": "rgba(255,255,255,1)",
        "plot_bgcolor": "rgba(255,255,255,1)",
        "template": {
         "data": {
          "bar": [
           {
            "error_x": {
             "color": "#2a3f5f"
            },
            "error_y": {
             "color": "#2a3f5f"
            },
            "marker": {
             "line": {
              "color": "#E5ECF6",
              "width": 0.5
             },
             "pattern": {
              "fillmode": "overlay",
              "size": 10,
              "solidity": 0.2
             }
            },
            "type": "bar"
           }
          ],
          "barpolar": [
           {
            "marker": {
             "line": {
              "color": "#E5ECF6",
              "width": 0.5
             },
             "pattern": {
              "fillmode": "overlay",
              "size": 10,
              "solidity": 0.2
             }
            },
            "type": "barpolar"
           }
          ],
          "carpet": [
           {
            "aaxis": {
             "endlinecolor": "#2a3f5f",
             "gridcolor": "white",
             "linecolor": "white",
             "minorgridcolor": "white",
             "startlinecolor": "#2a3f5f"
            },
            "baxis": {
             "endlinecolor": "#2a3f5f",
             "gridcolor": "white",
             "linecolor": "white",
             "minorgridcolor": "white",
             "startlinecolor": "#2a3f5f"
            },
            "type": "carpet"
           }
          ],
          "choropleth": [
           {
            "colorbar": {
             "outlinewidth": 0,
             "ticks": ""
            },
            "type": "choropleth"
           }
          ],
          "contour": [
           {
            "colorbar": {
             "outlinewidth": 0,
             "ticks": ""
            },
            "colorscale": [
             [
              0,
              "#0d0887"
             ],
             [
              0.1111111111111111,
              "#46039f"
             ],
             [
              0.2222222222222222,
              "#7201a8"
             ],
             [
              0.3333333333333333,
              "#9c179e"
             ],
             [
              0.4444444444444444,
              "#bd3786"
             ],
             [
              0.5555555555555556,
              "#d8576b"
             ],
             [
              0.6666666666666666,
              "#ed7953"
             ],
             [
              0.7777777777777778,
              "#fb9f3a"
             ],
             [
              0.8888888888888888,
              "#fdca26"
             ],
             [
              1,
              "#f0f921"
             ]
            ],
            "type": "contour"
           }
          ],
          "contourcarpet": [
           {
            "colorbar": {
             "outlinewidth": 0,
             "ticks": ""
            },
            "type": "contourcarpet"
           }
          ],
          "heatmap": [
           {
            "colorbar": {
             "outlinewidth": 0,
             "ticks": ""
            },
            "colorscale": [
             [
              0,
              "#0d0887"
             ],
             [
              0.1111111111111111,
              "#46039f"
             ],
             [
              0.2222222222222222,
              "#7201a8"
             ],
             [
              0.3333333333333333,
              "#9c179e"
             ],
             [
              0.4444444444444444,
              "#bd3786"
             ],
             [
              0.5555555555555556,
              "#d8576b"
             ],
             [
              0.6666666666666666,
              "#ed7953"
             ],
             [
              0.7777777777777778,
              "#fb9f3a"
             ],
             [
              0.8888888888888888,
              "#fdca26"
             ],
             [
              1,
              "#f0f921"
             ]
            ],
            "type": "heatmap"
           }
          ],
          "histogram": [
           {
            "marker": {
             "pattern": {
              "fillmode": "overlay",
              "size": 10,
              "solidity": 0.2
             }
            },
            "type": "histogram"
           }
          ],
          "histogram2d": [
           {
            "colorbar": {
             "outlinewidth": 0,
             "ticks": ""
            },
            "colorscale": [
             [
              0,
              "#0d0887"
             ],
             [
              0.1111111111111111,
              "#46039f"
             ],
             [
              0.2222222222222222,
              "#7201a8"
             ],
             [
              0.3333333333333333,
              "#9c179e"
             ],
             [
              0.4444444444444444,
              "#bd3786"
             ],
             [
              0.5555555555555556,
              "#d8576b"
             ],
             [
              0.6666666666666666,
              "#ed7953"
             ],
             [
              0.7777777777777778,
              "#fb9f3a"
             ],
             [
              0.8888888888888888,
              "#fdca26"
             ],
             [
              1,
              "#f0f921"
             ]
            ],
            "type": "histogram2d"
           }
          ],
          "histogram2dcontour": [
           {
            "colorbar": {
             "outlinewidth": 0,
             "ticks": ""
            },
            "colorscale": [
             [
              0,
              "#0d0887"
             ],
             [
              0.1111111111111111,
              "#46039f"
             ],
             [
              0.2222222222222222,
              "#7201a8"
             ],
             [
              0.3333333333333333,
              "#9c179e"
             ],
             [
              0.4444444444444444,
              "#bd3786"
             ],
             [
              0.5555555555555556,
              "#d8576b"
             ],
             [
              0.6666666666666666,
              "#ed7953"
             ],
             [
              0.7777777777777778,
              "#fb9f3a"
             ],
             [
              0.8888888888888888,
              "#fdca26"
             ],
             [
              1,
              "#f0f921"
             ]
            ],
            "type": "histogram2dcontour"
           }
          ],
          "mesh3d": [
           {
            "colorbar": {
             "outlinewidth": 0,
             "ticks": ""
            },
            "type": "mesh3d"
           }
          ],
          "parcoords": [
           {
            "line": {
             "colorbar": {
              "outlinewidth": 0,
              "ticks": ""
             }
            },
            "type": "parcoords"
           }
          ],
          "pie": [
           {
            "automargin": true,
            "type": "pie"
           }
          ],
          "scatter": [
           {
            "fillpattern": {
             "fillmode": "overlay",
             "size": 10,
             "solidity": 0.2
            },
            "type": "scatter"
           }
          ],
          "scatter3d": [
           {
            "line": {
             "colorbar": {
              "outlinewidth": 0,
              "ticks": ""
             }
            },
            "marker": {
             "colorbar": {
              "outlinewidth": 0,
              "ticks": ""
             }
            },
            "type": "scatter3d"
           }
          ],
          "scattercarpet": [
           {
            "marker": {
             "colorbar": {
              "outlinewidth": 0,
              "ticks": ""
             }
            },
            "type": "scattercarpet"
           }
          ],
          "scattergeo": [
           {
            "marker": {
             "colorbar": {
              "outlinewidth": 0,
              "ticks": ""
             }
            },
            "type": "scattergeo"
           }
          ],
          "scattergl": [
           {
            "marker": {
             "colorbar": {
              "outlinewidth": 0,
              "ticks": ""
             }
            },
            "type": "scattergl"
           }
          ],
          "scattermap": [
           {
            "marker": {
             "colorbar": {
              "outlinewidth": 0,
              "ticks": ""
             }
            },
            "type": "scattermap"
           }
          ],
          "scattermapbox": [
           {
            "marker": {
             "colorbar": {
              "outlinewidth": 0,
              "ticks": ""
             }
            },
            "type": "scattermapbox"
           }
          ],
          "scatterpolar": [
           {
            "marker": {
             "colorbar": {
              "outlinewidth": 0,
              "ticks": ""
             }
            },
            "type": "scatterpolar"
           }
          ],
          "scatterpolargl": [
           {
            "marker": {
             "colorbar": {
              "outlinewidth": 0,
              "ticks": ""
             }
            },
            "type": "scatterpolargl"
           }
          ],
          "scatterternary": [
           {
            "marker": {
             "colorbar": {
              "outlinewidth": 0,
              "ticks": ""
             }
            },
            "type": "scatterternary"
           }
          ],
          "surface": [
           {
            "colorbar": {
             "outlinewidth": 0,
             "ticks": ""
            },
            "colorscale": [
             [
              0,
              "#0d0887"
             ],
             [
              0.1111111111111111,
              "#46039f"
             ],
             [
              0.2222222222222222,
              "#7201a8"
             ],
             [
              0.3333333333333333,
              "#9c179e"
             ],
             [
              0.4444444444444444,
              "#bd3786"
             ],
             [
              0.5555555555555556,
              "#d8576b"
             ],
             [
              0.6666666666666666,
              "#ed7953"
             ],
             [
              0.7777777777777778,
              "#fb9f3a"
             ],
             [
              0.8888888888888888,
              "#fdca26"
             ],
             [
              1,
              "#f0f921"
             ]
            ],
            "type": "surface"
           }
          ],
          "table": [
           {
            "cells": {
             "fill": {
              "color": "#EBF0F8"
             },
             "line": {
              "color": "white"
             }
            },
            "header": {
             "fill": {
              "color": "#C8D4E3"
             },
             "line": {
              "color": "white"
             }
            },
            "type": "table"
           }
          ]
         },
         "layout": {
          "annotationdefaults": {
           "arrowcolor": "#2a3f5f",
           "arrowhead": 0,
           "arrowwidth": 1
          },
          "autotypenumbers": "strict",
          "coloraxis": {
           "colorbar": {
            "outlinewidth": 0,
            "ticks": ""
           }
          },
          "colorscale": {
           "diverging": [
            [
             0,
             "#8e0152"
            ],
            [
             0.1,
             "#c51b7d"
            ],
            [
             0.2,
             "#de77ae"
            ],
            [
             0.3,
             "#f1b6da"
            ],
            [
             0.4,
             "#fde0ef"
            ],
            [
             0.5,
             "#f7f7f7"
            ],
            [
             0.6,
             "#e6f5d0"
            ],
            [
             0.7,
             "#b8e186"
            ],
            [
             0.8,
             "#7fbc41"
            ],
            [
             0.9,
             "#4d9221"
            ],
            [
             1,
             "#276419"
            ]
           ],
           "sequential": [
            [
             0,
             "#0d0887"
            ],
            [
             0.1111111111111111,
             "#46039f"
            ],
            [
             0.2222222222222222,
             "#7201a8"
            ],
            [
             0.3333333333333333,
             "#9c179e"
            ],
            [
             0.4444444444444444,
             "#bd3786"
            ],
            [
             0.5555555555555556,
             "#d8576b"
            ],
            [
             0.6666666666666666,
             "#ed7953"
            ],
            [
             0.7777777777777778,
             "#fb9f3a"
            ],
            [
             0.8888888888888888,
             "#fdca26"
            ],
            [
             1,
             "#f0f921"
            ]
           ],
           "sequentialminus": [
            [
             0,
             "#0d0887"
            ],
            [
             0.1111111111111111,
             "#46039f"
            ],
            [
             0.2222222222222222,
             "#7201a8"
            ],
            [
             0.3333333333333333,
             "#9c179e"
            ],
            [
             0.4444444444444444,
             "#bd3786"
            ],
            [
             0.5555555555555556,
             "#d8576b"
            ],
            [
             0.6666666666666666,
             "#ed7953"
            ],
            [
             0.7777777777777778,
             "#fb9f3a"
            ],
            [
             0.8888888888888888,
             "#fdca26"
            ],
            [
             1,
             "#f0f921"
            ]
           ]
          },
          "colorway": [
           "#636efa",
           "#EF553B",
           "#00cc96",
           "#ab63fa",
           "#FFA15A",
           "#19d3f3",
           "#FF6692",
           "#B6E880",
           "#FF97FF",
           "#FECB52"
          ],
          "font": {
           "color": "#2a3f5f"
          },
          "geo": {
           "bgcolor": "white",
           "lakecolor": "white",
           "landcolor": "#E5ECF6",
           "showlakes": true,
           "showland": true,
           "subunitcolor": "white"
          },
          "hoverlabel": {
           "align": "left"
          },
          "hovermode": "closest",
          "mapbox": {
           "style": "light"
          },
          "paper_bgcolor": "white",
          "plot_bgcolor": "#E5ECF6",
          "polar": {
           "angularaxis": {
            "gridcolor": "white",
            "linecolor": "white",
            "ticks": ""
           },
           "bgcolor": "#E5ECF6",
           "radialaxis": {
            "gridcolor": "white",
            "linecolor": "white",
            "ticks": ""
           }
          },
          "scene": {
           "xaxis": {
            "backgroundcolor": "#E5ECF6",
            "gridcolor": "white",
            "gridwidth": 2,
            "linecolor": "white",
            "showbackground": true,
            "ticks": "",
            "zerolinecolor": "white"
           },
           "yaxis": {
            "backgroundcolor": "#E5ECF6",
            "gridcolor": "white",
            "gridwidth": 2,
            "linecolor": "white",
            "showbackground": true,
            "ticks": "",
            "zerolinecolor": "white"
           },
           "zaxis": {
            "backgroundcolor": "#E5ECF6",
            "gridcolor": "white",
            "gridwidth": 2,
            "linecolor": "white",
            "showbackground": true,
            "ticks": "",
            "zerolinecolor": "white"
           }
          },
          "shapedefaults": {
           "line": {
            "color": "#2a3f5f"
           }
          },
          "ternary": {
           "aaxis": {
            "gridcolor": "white",
            "linecolor": "white",
            "ticks": ""
           },
           "baxis": {
            "gridcolor": "white",
            "linecolor": "white",
            "ticks": ""
           },
           "bgcolor": "#E5ECF6",
           "caxis": {
            "gridcolor": "white",
            "linecolor": "white",
            "ticks": ""
           }
          },
          "title": {
           "x": 0.05
          },
          "xaxis": {
           "automargin": true,
           "gridcolor": "white",
           "linecolor": "white",
           "ticks": "",
           "title": {
            "standoff": 15
           },
           "zerolinecolor": "white",
           "zerolinewidth": 2
          },
          "yaxis": {
           "automargin": true,
           "gridcolor": "white",
           "linecolor": "white",
           "ticks": "",
           "title": {
            "standoff": 15
           },
           "zerolinecolor": "white",
           "zerolinewidth": 2
          }
         }
        },
        "title": {
         "font": {
          "size": 20
         },
         "text": "Payload Schedule",
         "x": 0.5
        },
        "updatemenus": [
         {
          "buttons": [
           {
            "args": [
             {
              "annotations": [
               {
                "font": {
                 "color": "black",
                 "size": 10
                },
                "showarrow": false,
                "text": "measure_capture",
                "textangle": 0,
                "x": 3254,
                "y": 0
               },
               {
                "font": {
                 "color": "black",
                 "size": 10
                },
                "showarrow": false,
                "text": "measure_capture",
                "textangle": 0,
                "x": 3254,
                "y": 1
               },
               {
                "font": {
                 "color": "black",
                 "size": 10
                },
                "showarrow": false,
                "text": "",
                "textangle": 0,
                "x": 0,
                "y": 2
               },
               {
                "font": {
                 "color": "black",
                 "size": 10
                },
                "showarrow": false,
                "text": "measure_play",
                "textangle": 0,
                "x": 3358,
                "y": 2
               },
               {
                "font": {
                 "color": "black",
                 "size": 10
                },
                "showarrow": false,
                "text": "measure_play",
                "textangle": 0,
                "x": 3294,
                "y": 2
               },
               {
                "font": {
                 "color": "black",
                 "size": 10
                },
                "showarrow": false,
                "text": "measure_play",
                "textangle": 0,
                "x": 3230,
                "y": 2
               },
               {
                "font": {
                 "color": "black",
                 "size": 10
                },
                "showarrow": false,
                "text": "measure_play",
                "textangle": 0,
                "x": 3152.5,
                "y": 2
               },
               {
                "font": {
                 "color": "black",
                 "size": 10
                },
                "showarrow": false,
                "text": "measure_play",
                "textangle": 0,
                "x": 3075,
                "y": 2
               },
               {
                "font": {
                 "color": "black",
                 "size": 10
                },
                "showarrow": false,
                "text": "",
                "textangle": 0,
                "x": 3043,
                "y": 2
               },
               {
                "font": {
                 "color": "black",
                 "size": 10
                },
                "showarrow": false,
                "text": "sx_play",
                "textangle": 0,
                "x": 2915,
                "y": 2
               },
               {
                "font": {
                 "color": "black",
                 "size": 10
                },
                "showarrow": false,
                "text": "measure_play",
                "textangle": 0,
                "x": 3422,
                "y": 2
               },
               {
                "font": {
                 "color": "black",
                 "size": 10
                },
                "showarrow": false,
                "text": "cz_play",
                "textangle": 0,
                "x": 2776.5,
                "y": 2
               },
               {
                "font": {
                 "color": "black",
                 "size": 10
                },
                "showarrow": false,
                "text": "measure_play",
                "textangle": 0,
                "x": 3486,
                "y": 2
               },
               {
                "font": {
                 "color": "black",
                 "size": 10
                },
                "showarrow": false,
                "text": "INIT_play",
                "textangle": 0,
                "x": 1260,
                "y": 2
               },
               {
                "font": {
                 "color": "black",
                 "size": 10
                },
                "showarrow": false,
                "text": "INIT_play",
                "textangle": 0,
                "x": 1259,
                "y": 2
               },
               {
                "font": {
                 "color": "black",
                 "size": 10
                },
                "showarrow": false,
                "text": "sx_play",
                "textangle": 0,
                "x": 2638,
                "y": 2
               },
               {
                "font": {
                 "color": "black",
                 "size": 10
                },
                "showarrow": false,
                "text": "",
                "textangle": 0,
                "x": 2510,
                "y": 2
               },
               {
                "font": {
                 "color": "black",
                 "size": 10
                },
                "showarrow": false,
                "text": "measure_play",
                "textangle": 0,
                "x": 3230,
                "y": 3
               },
               {
                "font": {
                 "color": "black",
                 "size": 10
                },
                "showarrow": false,
                "text": "",
                "textangle": 0,
                "x": 2510,
                "y": 3
               },
               {
                "font": {
                 "color": "black",
                 "size": 10
                },
                "showarrow": false,
                "text": "measure_play",
                "textangle": 0,
                "x": 3152.5,
                "y": 3
               },
               {
                "font": {
                 "color": "black",
                 "size": 10
                },
                "showarrow": false,
                "text": "measure_play",
                "textangle": 0,
                "x": 3075,
                "y": 3
               },
               {
                "font": {
                 "color": "black",
                 "size": 10
                },
                "showarrow": false,
                "text": "measure_play",
                "textangle": 0,
                "x": 3422,
                "y": 3
               },
               {
                "font": {
                 "color": "black",
                 "size": 10
                },
                "showarrow": false,
                "text": "",
                "textangle": 0,
                "x": 3043,
                "y": 3
               },
               {
                "font": {
                 "color": "black",
                 "size": 10
                },
                "showarrow": false,
                "text": "measure_play",
                "textangle": 0,
                "x": 3486,
                "y": 3
               },
               {
                "font": {
                 "color": "black",
                 "size": 10
                },
                "showarrow": false,
                "text": "INIT_play",
                "textangle": 0,
                "x": 1259,
                "y": 3
               },
               {
                "font": {
                 "color": "black",
                 "size": 10
                },
                "showarrow": false,
                "text": "cz_play",
                "textangle": 0,
                "x": 2776.5,
                "y": 3
               },
               {
                "font": {
                 "color": "black",
                 "size": 10
                },
                "showarrow": false,
                "text": "INIT_play",
                "textangle": 0,
                "x": 1260,
                "y": 3
               },
               {
                "font": {
                 "color": "black",
                 "size": 10
                },
                "showarrow": false,
                "text": "sx_play",
                "textangle": 0,
                "x": 2638,
                "y": 3
               },
               {
                "font": {
                 "color": "black",
                 "size": 10
                },
                "showarrow": false,
                "text": "",
                "textangle": 0,
                "x": 0,
                "y": 3
               },
               {
                "font": {
                 "color": "black",
                 "size": 10
                },
                "showarrow": false,
                "text": "measure_play",
                "textangle": 0,
                "x": 3294,
                "y": 3
               },
               {
                "font": {
                 "color": "black",
                 "size": 10
                },
                "showarrow": false,
                "text": "measure_play",
                "textangle": 0,
                "x": 3358,
                "y": 3
               },
               {
                "font": {
                 "color": "black",
                 "size": 10
                },
                "showarrow": true,
                "text": "rz_shift_phase",
                "textangle": 0,
                "x": 3043,
                "y": 2
               },
               {
                "font": {
                 "color": "black",
                 "size": 10
                },
                "showarrow": true,
                "text": "rz_shift_phase",
                "textangle": 0,
                "x": 2766,
                "y": 2
               },
               {
                "font": {
                 "color": "black",
                 "size": 10
                },
                "showarrow": true,
                "text": "rz_shift_phase",
                "textangle": 0,
                "x": 2510,
                "y": 2
               },
               {
                "font": {
                 "color": "black",
                 "size": 10
                },
                "showarrow": true,
                "text": "rz_shift_phase",
                "textangle": 0,
                "x": 2766,
                "y": 3
               },
               {
                "font": {
                 "color": "black",
                 "size": 10
                },
                "showarrow": true,
                "text": "rz_shift_phase",
                "textangle": 0,
                "x": 2510,
                "y": 3
               },
               {
                "font": {
                 "color": "black",
                 "size": 10
                },
                "showarrow": true,
                "text": "rz_shift_phase",
                "textangle": 0,
                "x": 2510,
                "y": 4
               },
               {
                "font": {
                 "color": "black",
                 "size": 10
                },
                "showarrow": true,
                "text": "rz_shift_phase",
                "textangle": 0,
                "x": 3043,
                "y": 4
               },
               {
                "font": {
                 "color": "black",
                 "size": 10
                },
                "showarrow": true,
                "text": "rz_shift_phase",
                "textangle": 0,
                "x": 2766,
                "y": 4
               },
               {
                "font": {
                 "color": "black",
                 "size": 10
                },
                "showarrow": true,
                "text": "rz_shift_phase",
                "textangle": 0,
                "x": 3043,
                "y": 5
               },
               {
                "font": {
                 "color": "black",
                 "size": 10
                },
                "showarrow": true,
                "text": "rz_shift_phase",
                "textangle": 0,
                "x": 2510,
                "y": 5
               },
               {
                "font": {
                 "color": "black",
                 "size": 10
                },
                "showarrow": true,
                "text": "rz_shift_phase",
                "textangle": 0,
                "x": 2766,
                "y": 5
               },
               {
                "font": {
                 "color": "black",
                 "size": 10
                },
                "showarrow": true,
                "text": "rz_shift_phase",
                "textangle": 0,
                "x": 2510,
                "y": 5
               },
               {
                "font": {
                 "color": "black",
                 "size": 10
                },
                "showarrow": true,
                "text": "rz_shift_phase",
                "textangle": 0,
                "x": 2766,
                "y": 5
               },
               {
                "font": {
                 "color": "black",
                 "size": 10
                },
                "showarrow": true,
                "text": "rz_shift_phase",
                "textangle": 0,
                "x": 2766,
                "y": 6
               },
               {
                "font": {
                 "color": "black",
                 "size": 10
                },
                "showarrow": true,
                "text": "rz_shift_phase",
                "textangle": 0,
                "x": 2510,
                "y": 6
               }
              ]
             }
            ],
            "label": "Show Annotations",
            "method": "relayout"
           },
           {
            "args": [
             {
              "annotations": []
             }
            ],
            "label": "Hide Annotations",
            "method": "relayout"
           }
          ],
          "direction": "down",
          "pad": {
           "r": 10,
           "t": 10
          },
          "showactive": true,
          "type": "dropdown",
          "x": 0,
          "xanchor": "left",
          "y": 1.1,
          "yanchor": "top"
         }
        ],
        "width": 1000,
        "xaxis": {
         "linecolor": "black",
         "linewidth": 1,
         "mirror": true,
         "range": [
          0,
          3519
         ],
         "rangeslider": {
          "visible": true
         },
         "showline": true,
         "title": {
          "text": "Cycles"
         },
         "type": "linear"
        },
        "yaxis": {
         "gridcolor": "rgba(38,38,38,0.15)",
         "linecolor": "black",
         "linewidth": 1,
         "mirror": true,
         "showline": true,
         "tickmode": "array",
         "ticktext": [
          "AWGR0_2",
          "AWGR0_3",
          "Qubit 2",
          "Qubit 3",
          "Qubit 74",
          "Qubit 75",
          "Qubit 76"
         ],
         "tickvals": [
          0,
          1,
          2,
          3,
          4,
          5,
          6
         ],
         "title": {
          "text": "Channels"
         }
        }
       }
      },
      "image/png": "[encoded data removed]"
     },
     "metadata": {},
     "output_type": "display_data"
    }
   ],
   "source": [
    "fig.show()"
   ]
  }
 ],
 "metadata": {
  "description": "Use Qiskit for classical feedforward and control flow, otherwise referred to as dynamic circuits",
  "kernelspec": {
   "display_name": "Python 3",
   "language": "python",
   "name": "python3"
  },
  "language_info": {
   "codemirror_mode": {
    "name": "ipython",
    "version": 3
   },
   "file_extension": ".py",
   "mimetype": "text/x-python",
   "name": "python",
   "nbconvert_exporter": "python",
   "pygments_lexer": "ipython3",
   "version": "3"
  },
  "title": "Classical feedforward and control flow (dynamic circuits)"
 },
 "nbformat": 4,
 "nbformat_minor": 5
}
