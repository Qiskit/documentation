{
 "cells": [
  {
   "cell_type": "markdown",
   "id": "ef283f37-0ad4-48c7-bb92-8a09baaae6e5",
   "metadata": {},
   "source": [
    "# Organize and search by job tags"
   ]
  },
  {
   "cell_type": "markdown",
   "id": "f4471d6b-dc12-486c-95de-22ac12e367d2",
   "metadata": {
    "tags": [
     "version-info"
    ]
   },
   "source": [
    "<details>\n",
    "<summary><b>Package versions</b></summary>\n",
    "\n",
    "The code on this page was developed using the following requirements.\n",
    "We recommend using these versions or newer.\n",
    "\n",
    "```\n",
    "qiskit[all]~=2.1.2\n",
    "qiskit-ibm-runtime~=0.40.1\n",
    "```\n",
    "</details>"
   ]
  },
  {
   "cell_type": "markdown",
   "id": "ec8277ad-1811-4318-8282-84d6d282bb17",
   "metadata": {},
   "source": [
    "This guide focuses on how to add and update job tags, as well as how to search by job tags, so that you can better organize, track, and understand your experiments."
   ]
  },
  {
   "cell_type": "markdown",
   "id": "59e38320-db15-4566-b262-40d4fcf19b82",
   "metadata": {},
   "source": [
    "## Assign tags\n",
    "\n",
    "You can assign one or more tags to your jobs when you run them so that you can filter by a tag later. You might want to use job tags to label particular error mitigation settings, circuit parameters, and so forth."
   ]
  },
  {
   "cell_type": "code",
   "execution_count": 1,
   "id": "74a7a1ea-f2ae-4b8c-9499-af52840c2e74",
   "metadata": {},
   "outputs": [
    {
     "name": "stdout",
     "output_type": "stream",
     "text": [
      "['experiment-2025', 'sampler-example']\n"
     ]
    }
   ],
   "source": [
    "from qiskit_ibm_runtime import QiskitRuntimeService, Sampler\n",
    "from qiskit import QuantumCircuit\n",
    "from qiskit.transpiler import generate_preset_pass_manager\n",
    "\n",
    "service = QiskitRuntimeService()\n",
    "backend = service.least_busy(simulator=False, operational=True)\n",
    "\n",
    "qc = QuantumCircuit(2)\n",
    "qc.h(0)\n",
    "qc.cx(0, 1)\n",
    "qc.measure_all()\n",
    "\n",
    "sampler = Sampler(backend)\n",
    "\n",
    "pm = generate_preset_pass_manager(backend=backend, optimization_level=1)\n",
    "isa_circuit = pm.run(qc)\n",
    "\n",
    "# Assign tags before executing\n",
    "sampler.options.environment.job_tags = [\"experiment-2025\", \"sampler-example\"]\n",
    "\n",
    "# Submit\n",
    "job = sampler.run([isa_circuit])\n",
    "\n",
    "print(service.job(job.job_id()).tags)"
   ]
  },
  {
   "cell_type": "markdown",
   "id": "2b29f9da-3fca-4ffc-b4b2-6f0d130b5b23",
   "metadata": {},
   "source": [
    "## Add and update tags\n",
    "\n",
    "You can add tags after you submit a job with the `update_tags()` method. This method overwrites current tags, so if you have already assigned tags to a job and you want to add additional tags, be sure to re-assign the original tags."
   ]
  },
  {
   "cell_type": "code",
   "execution_count": 2,
   "id": "205ceaf7-f79d-4452-b4b0-9688e39a4564",
   "metadata": {},
   "outputs": [
    {
     "name": "stdout",
     "output_type": "stream",
     "text": [
      "['sampler-example', 'experiment-2025', '127-qubit']\n"
     ]
    }
   ],
   "source": [
    "# Add a new tag while keeping the previously assigned tags\n",
    "job.update_tags([\"experiment-2025\", \"sampler-example\", \"127-qubit\"])\n",
    "\n",
    "# Confirm updated tags\n",
    "print(job.tags)"
   ]
  },
  {
   "cell_type": "markdown",
   "id": "9e2e8c4a-5fbb-4a15-ab75-ddb61e35b65e",
   "metadata": {},
   "source": [
    "## Retrieve jobs by tag\n",
    "\n",
    "Display a list of jobs with certain tags as follows:"
   ]
  },
  {
   "cell_type": "code",
   "execution_count": 3,
   "id": "b6db503e-46ef-406e-9420-ef73446df564",
   "metadata": {},
   "outputs": [
    {
     "data": {
      "text/plain": [
       "[<RuntimeJobV2('d3ed8g1b641c738j6vdg', 'sampler')>,\n",
       " <RuntimeJobV2('d38q4qcda4cs73aa79v0', 'sampler')>,\n",
       " <RuntimeJobV2('d38q14g0sqis739a0ing', 'sampler')>,\n",
       " <RuntimeJobV2('d38pumcgenls73cf8c4g', 'sampler')>,\n",
       " <RuntimeJobV2('d38pr3cgenls73cf88i0', 'sampler')>,\n",
       " <RuntimeJobV2('d38labsda4cs73aa16vg', 'sampler')>,\n",
       " <RuntimeJobV2('d38l9lg0sqis7399qmrg', 'sampler')>,\n",
       " <RuntimeJobV2('d38l6l4da4cs73aa13bg', 'sampler')>]"
      ]
     },
     "execution_count": 3,
     "metadata": {},
     "output_type": "execute_result"
    }
   ],
   "source": [
    "# List jobs with a specific tag or set of tags\n",
    "\n",
    "service.jobs(job_tags=[\"experiment-2025\", \"sampler-example\"])"
   ]
  }
 ],
 "metadata": {
  "description": "Assign job tags, add and update tags, and search by tag to better organize your experiments.",
  "kernelspec": {
   "display_name": "Python 3",
   "language": "python",
   "name": "python3"
  },
  "language_info": {
   "codemirror_mode": {
    "name": "ipython",
    "version": 3
   },
   "file_extension": ".py",
   "mimetype": "text/x-python",
   "name": "python",
   "nbconvert_exporter": "python",
   "pygments_lexer": "ipython3",
   "version": "3"
  },
  "title": "Organize and search by job tags"
 },
 "nbformat": 4,
 "nbformat_minor": 4
}
