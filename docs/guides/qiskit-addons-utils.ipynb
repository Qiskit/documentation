{
 "cells": [
  {
   "cell_type": "markdown",
   "id": "872b8998-8cfa-4991-9658-f99716a84784",
   "metadata": {},
   "source": [
    "# Qiskit addon utilities"
   ]
  },
  {
   "cell_type": "markdown",
   "id": "0bed855a",
   "metadata": {
    "tags": [
     "version-info"
    ]
   },
   "source": [
    "<details>\n",
    "<summary><b>Package versions</b></summary>\n",
    "\n",
    "The code on this page was developed using the following requirements.\n",
    "We recommend using these versions or newer.\n",
    "\n",
    "```\n",
    "qiskit[all]~=2.0.0\n",
    "qiskit-ibm-runtime~=0.37.0\n",
    "qiskit-addon-utils~=0.1.0\n",
    "```\n",
    "</details>"
   ]
  },
  {
   "cell_type": "markdown",
   "id": "babf0aa2",
   "metadata": {},
   "source": [
    "The Qiskit addon utilities package is a collection of functionalities to supplement workflows involving one or more Qiskit addons. For example, this package contains functions for creating Hamiltonians, generating Trotter time-evolution circuits, and slicing and combining quantum circuits.\n",
    "\n",
    "## Installation\n",
    "\n",
    "There are two ways to install the Qiskit addon utilities: PyPI and building from source. It is recommended to install these packages in a [virtual environment](https://docs.python.org/3.10/tutorial/venv.html) to ensure separation between package dependencies.\n",
    "\n",
    "### Install from PyPI\n",
    "\n",
    "The most straightforward way to install the Qiskit addon utilities package is via PyPI.\n",
    "\n",
    "```bash\n",
    "pip install 'qiskit-addon-utils'\n",
    "```\n",
    "\n",
    "### Install from source\n",
    "\n",
    "<details>\n",
    "<summary>\n",
    "Click here to read how to install this package manually.\n",
    "</summary>\n",
    "\n",
    "If you wish to contribute to this package or want to install it manually, first clone the repository:\n",
    "\n",
    "```bash\n",
    "git clone git@github.com:Qiskit/qiskit-addon-utils.git\n",
    "```\n",
    "\n",
    "and install the package via `pip`. If you plan to run the tutorials found in the package repository, install the notebook dependencies as well. If you plan to develop in the repository, install the `dev` dependencies.\n",
    "```bash\n",
    "pip install tox jupyterlab -e '.[notebook-dependencies,dev]'\n",
    "```\n",
    "</details>\n",
    "\n",
    "## Get started with utilities\n",
    "\n",
    "There are several modules within the `qiskit-addon-utils` package, including one for problem generation for simulating quantum systems, graph coloring to more efficiently place gates in a quantum circuit, and circuit slicing, which can help with [operator backpropagation](/docs/guides/qiskit-addons-obp). The following sections summarize each module. The package's [API documentation](/docs/api/qiskit-addon-utils) also contains helpful information.\n",
    "\n",
    "### Problem generation\n",
    "\n",
    "The contents of the [`qiskit_addon_utils.problem_generators`](../api/qiskit-addon-utils/problem-generators) module include:\n",
    "\n",
    "- A [`generate_xyz_hamiltonian()`](../api/qiskit-addon-utils/problem-generators#generate_xyz_hamiltonian) function, which generates a connectivity-aware `SparsePauliOp` representation of an Ising-type XYZ model:\n",
    "\n",
    "$$H = \\sum_{(j,k)\\in E} \\left(J_x X_jX_k + J_yY_jY_k + J_zZ_jZ_k\\right) + \\sum_{j\\in V} \\left(h_x X_j + h_y Y_j + h_z Z_j\\right) $$\n",
    "- A [`generate_time_evolution_circuit()`](../api/qiskit-addon-utils/problem-generators#generate_time_evolution_circuit) function, which constructs a circuit modeling the time evolution of a given operator.\n",
    "- Three different [`PauliOrderStrategy`s](../api/qiskit-addon-utils/problem-generators#pauliorderstrategy) for enumerating between different Pauli string orderings. This is mostly helpful when used alongside graph coloring and can be used as arguments in both the `generate_xyz_hamiltonian()` and `generate_time_evolution_circuit()` functions.\n",
    "\n",
    "\n",
    "\n",
    "### Graph coloring\n",
    "\n",
    "The [`qiskit_addon_utils.coloring`](../api/qiskit-addon-utils/coloring) module is used to color the edges in a coupling map and use this coloring to more efficiently place gates in a quantum circuit. The purpose of this edge-colored coupling map is to find a set of edge colors such that no two edges of the same color share a common node. For a QPU, this means that gates along like-colored edges (qubit connections) can be run simultaneously and the circuit will execute faster.\n",
    "\n",
    "As a quick example, you can use the [`auto_color_edges()`](../api/qiskit-addon-utils/coloring#auto_color_edges) function to generate an edge coloring for a naive circuit executing a `CZGate` along each qubit connection. The code snippet below uses the `FakeSherbrooke` backend's coupling map, creates this naive circuit, then uses the `auto_color_edges()` function to create a more efficient equivalent circuit."
   ]
  },
  {
   "cell_type": "code",
   "execution_count": 1,
   "id": "dc37116f-1d7f-4675-bc45-11798ef9cc77",
   "metadata": {},
   "outputs": [
    {
     "name": "stdout",
     "output_type": "stream",
     "text": [
      "The circuit without using edge coloring has depth: 37\n",
      "The circuit using edge coloring has depth: 3\n"
     ]
    }
   ],
   "source": [
    "from qiskit_ibm_runtime.fake_provider import FakeSherbrooke\n",
    "from qiskit import QuantumCircuit\n",
    "from qiskit_addon_utils.coloring import auto_color_edges\n",
    "from qiskit_addon_utils.slicing import combine_slices, slice_by_depth\n",
    "from collections import defaultdict\n",
    "\n",
    "backend = FakeSherbrooke()\n",
    "coupling_map = backend.coupling_map\n",
    "\n",
    "# Create naive circuit\n",
    "circuit = QuantumCircuit(backend.num_qubits)\n",
    "for edge in coupling_map.graph.edge_list():\n",
    "    circuit.cz(edge[0], edge[1])\n",
    "\n",
    "\n",
    "# Color the edges of the coupling map\n",
    "coloring = auto_color_edges(coupling_map)\n",
    "circuit_with_coloring = QuantumCircuit(backend.num_qubits)\n",
    "\n",
    "# Make a reverse coloring dict in order to make the circuit\n",
    "color_to_edge = defaultdict(list)\n",
    "for edge, color in coloring.items():\n",
    "    color_to_edge[color].append(edge)\n",
    "\n",
    "# Place edges in order of color\n",
    "for edges in color_to_edge.values():\n",
    "    for edge in edges:\n",
    "        circuit_with_coloring.cz(edge[0], edge[1])\n",
    "\n",
    "print(f\"The circuit without using edge coloring has depth: {circuit.depth()}\")\n",
    "print(\n",
    "    f\"The circuit using edge coloring has depth: {circuit_with_coloring.depth()}\"\n",
    ")"
   ]
  },
  {
   "cell_type": "markdown",
   "id": "0e4d5579-56dc-4e87-be52-b39d0d12773f",
   "metadata": {},
   "source": [
    "### Slicing\n",
    "\n",
    "Lastly, the [`qiskit-addon-utils.slicing`](../api/qiskit-addon-utils/slicing) module contains functions and transpiler passes to work with creating circuit \"slices\", time-like partitions of a [`QuantumCircuit`](../api/qiskit/qiskit.circuit.QuantumCircuit) spanning across all qubits. These slices are primarily used for [operator backpropagation](/docs/guides/qiskit-addons-obp-get-started). The main four ways a circuit can be sliced are by gate type, depth, coloring, or [`Barrier`](../api/qiskit/circuit#barrier) instructions. The output of these slicing functions returns a list of [`QuantumCircuit`s](../api/qiskit/qiskit.circuit.QuantumCircuit). Sliced circuits can also be recombined using the [`combine_slices()`](../api/qiskit-addon-utils/slicing#combine_slices) function. Read the module's [API reference](../api/qiskit-addon-utils/slicing) for more information.\n",
    "\n",
    "Below are a few examples of how to create these slices using the following circuit:"
   ]
  },
  {
   "cell_type": "code",
   "execution_count": 2,
   "id": "d5a5c53f-45d2-4cdc-86f3-221f179cdbea",
   "metadata": {},
   "outputs": [
    {
     "data": {
      "text/plain": [
       "<Image src=\"/docs/images/guides/qiskit-addons-utils/extracted-outputs/d5a5c53f-45d2-4cdc-86f3-221f179cdbea-0.svg\" alt=\"Output of the previous code cell\" />"
      ]
     },
     "execution_count": 2,
     "metadata": {},
     "output_type": "execute_result"
    }
   ],
   "source": [
    "import numpy as np\n",
    "from qiskit import QuantumCircuit\n",
    "\n",
    "num_qubits = 9\n",
    "qc = QuantumCircuit(num_qubits)\n",
    "qc.ry(np.pi / 4, range(num_qubits))\n",
    "qubits_1 = [i for i in range(num_qubits) if i % 2 == 0]\n",
    "qubits_2 = [i for i in range(num_qubits) if i % 2 == 1]\n",
    "qc.cx(qubits_1[:-1], qubits_2)\n",
    "qc.cx(qubits_2, qubits_1[1:])\n",
    "qc.cx(qubits_1[-1], qubits_1[0])\n",
    "qc.rx(np.pi / 4, range(num_qubits))\n",
    "qc.rz(np.pi / 4, range(num_qubits))\n",
    "qc.draw(\"mpl\", scale=0.6)"
   ]
  },
  {
   "cell_type": "markdown",
   "id": "44e2b81d-9c41-46c7-aaec-b8448cd8abaa",
   "metadata": {},
   "source": [
    "In the case where there is no clear way to exploit the structure of a circuit for operator backpropagation, you can partition the circuit into slices of a given depth."
   ]
  },
  {
   "cell_type": "code",
   "execution_count": 3,
   "id": "6d824d97-edc6-4c88-bcfa-428731393f83",
   "metadata": {},
   "outputs": [
    {
     "data": {
      "text/plain": [
       "<Image src=\"/docs/images/guides/qiskit-addons-utils/extracted-outputs/6d824d97-edc6-4c88-bcfa-428731393f83-0.svg\" alt=\"Output of the previous code cell\" />"
      ]
     },
     "execution_count": 3,
     "metadata": {},
     "output_type": "execute_result"
    }
   ],
   "source": [
    "# Slice circuit into partitions of depth 1\n",
    "slices = slice_by_depth(qc, 1)\n",
    "\n",
    "# Recombine slices in order to visualize the partitions together\n",
    "combined_slices = combine_slices(slices, include_barriers=True)\n",
    "combined_slices.draw(\"mpl\", scale=0.6)"
   ]
  },
  {
   "cell_type": "markdown",
   "id": "53a4346a-34fd-42e9-9cd5-0a8c28d8d384",
   "metadata": {},
   "source": [
    "In cases such as when executing Trotter circuits to model the dynamics of a quantum system, it may be advantageous to slice by gate type."
   ]
  },
  {
   "cell_type": "code",
   "execution_count": 4,
   "id": "d011c56e-d741-491a-8867-54952cb7b757",
   "metadata": {},
   "outputs": [
    {
     "data": {
      "text/plain": [
       "<Image src=\"/docs/images/guides/qiskit-addons-utils/extracted-outputs/d011c56e-d741-491a-8867-54952cb7b757-0.svg\" alt=\"Output of the previous code cell\" />"
      ]
     },
     "execution_count": 4,
     "metadata": {},
     "output_type": "execute_result"
    }
   ],
   "source": [
    "from qiskit_addon_utils.slicing import slice_by_gate_types\n",
    "\n",
    "slices = slice_by_gate_types(qc)\n",
    "\n",
    "# Recombine slices in order to visualize the partitions together\n",
    "combined_slices = combine_slices(slices, include_barriers=True)\n",
    "combined_slices.draw(\"mpl\", scale=0.6)"
   ]
  },
  {
   "cell_type": "markdown",
   "id": "57c844b5-cbe0-4369-80a6-57a2fc8840d9",
   "metadata": {},
   "source": [
    "If your workload is designed to exploit the physical qubit connectivity of the QPU it will be run on, you can create slices based on edge coloring. The code snippet below will assign a three-coloring to circuit edges and slice the circuit with respect to the edge coloring. (Note: this only affects non-local gates. Single-qubit gates will be sliced by gate type)."
   ]
  },
  {
   "cell_type": "code",
   "execution_count": 5,
   "id": "41290d70-e116-4bd2-b9e7-d90aeaa852aa",
   "metadata": {},
   "outputs": [
    {
     "data": {
      "text/plain": [
       "<Image src=\"/docs/images/guides/qiskit-addons-utils/extracted-outputs/41290d70-e116-4bd2-b9e7-d90aeaa852aa-0.svg\" alt=\"Output of the previous code cell\" />"
      ]
     },
     "execution_count": 5,
     "metadata": {},
     "output_type": "execute_result"
    }
   ],
   "source": [
    "from qiskit_addon_utils.slicing import slice_by_coloring\n",
    "\n",
    "# Assign a color to each set of connected qubits\n",
    "coloring = {}\n",
    "for i in range(num_qubits - 1):\n",
    "    coloring[(i, i + 1)] = i % 3\n",
    "coloring[(num_qubits - 1, 0)] = 2\n",
    "\n",
    "# Create a circuit with operations added in order of color\n",
    "qc = QuantumCircuit(num_qubits)\n",
    "qc.ry(np.pi / 4, range(num_qubits))\n",
    "edges = [\n",
    "    edge for color in range(3) for edge in coloring if coloring[edge] == color\n",
    "]\n",
    "for edge in edges:\n",
    "    qc.cx(edge[0], edge[1])\n",
    "qc.rx(np.pi / 4, range(num_qubits))\n",
    "qc.rz(np.pi / 4, range(num_qubits))\n",
    "\n",
    "# Create slices by edge color\n",
    "slices = slice_by_coloring(qc, coloring=coloring)\n",
    "\n",
    "# Recombine slices in order to visualize the partitions together\n",
    "combined_slices = combine_slices(slices, include_barriers=True)\n",
    "combined_slices.draw(\"mpl\", scale=0.6)"
   ]
  },
  {
   "cell_type": "markdown",
   "id": "7c84e437-3a45-4c3f-9c8e-706b302672d4",
   "metadata": {},
   "source": [
    "If you have a custom slicing strategy, you can instead place barriers in the circuit to delineate where it should be sliced and use the [`slice_by_barriers`](../api/qiskit-addon-utils/slicing#slice_by_barriers) function."
   ]
  },
  {
   "cell_type": "code",
   "execution_count": 6,
   "id": "5040a678-9d5f-4c8b-8a92-7de04c3fcfda",
   "metadata": {},
   "outputs": [
    {
     "data": {
      "text/plain": [
       "<Image src=\"/docs/images/guides/qiskit-addons-utils/extracted-outputs/5040a678-9d5f-4c8b-8a92-7de04c3fcfda-0.svg\" alt=\"Output of the previous code cell\" />"
      ]
     },
     "execution_count": 6,
     "metadata": {},
     "output_type": "execute_result"
    }
   ],
   "source": [
    "qc = QuantumCircuit(num_qubits)\n",
    "qc.ry(np.pi / 4, range(num_qubits))\n",
    "qc.barrier()\n",
    "qubits_1 = [i for i in range(num_qubits) if i % 2 == 0]\n",
    "qubits_2 = [i for i in range(num_qubits) if i % 2 == 1]\n",
    "qc.cx(qubits_1[:-1], qubits_2)\n",
    "qc.cx(qubits_2, qubits_1[1:])\n",
    "qc.cx(qubits_1[-1], qubits_1[0])\n",
    "qc.barrier()\n",
    "qc.rx(np.pi / 4, range(num_qubits))\n",
    "qc.rz(np.pi / 4, range(num_qubits))\n",
    "qc.draw(\"mpl\", scale=0.6)"
   ]
  },
  {
   "cell_type": "markdown",
   "id": "8a20a531-61dd-4461-b482-ee3223b6223d",
   "metadata": {},
   "source": [
    "Once the barriers are in place, you can examine each of the slices individually."
   ]
  },
  {
   "cell_type": "code",
   "execution_count": 7,
   "id": "b1106c2f-711c-4d30-b91a-ea05f47598d8",
   "metadata": {},
   "outputs": [
    {
     "data": {
      "text/plain": [
       "<Image src=\"/docs/images/guides/qiskit-addons-utils/extracted-outputs/b1106c2f-711c-4d30-b91a-ea05f47598d8-0.svg\" alt=\"Output of the previous code cell\" />"
      ]
     },
     "execution_count": 7,
     "metadata": {},
     "output_type": "execute_result"
    }
   ],
   "source": [
    "from qiskit_addon_utils.slicing import slice_by_barriers\n",
    "\n",
    "slices = slice_by_barriers(qc)\n",
    "slices[0].draw(\"mpl\", scale=0.6)"
   ]
  },
  {
   "cell_type": "code",
   "execution_count": 8,
   "id": "1afd2111-dd88-4e20-a137-f0c975e9d1bb",
   "metadata": {},
   "outputs": [
    {
     "data": {
      "text/plain": [
       "<Image src=\"/docs/images/guides/qiskit-addons-utils/extracted-outputs/1afd2111-dd88-4e20-a137-f0c975e9d1bb-0.svg\" alt=\"Output of the previous code cell\" />"
      ]
     },
     "execution_count": 8,
     "metadata": {},
     "output_type": "execute_result"
    }
   ],
   "source": [
    "slices[1].draw(\"mpl\", scale=0.6)"
   ]
  },
  {
   "cell_type": "code",
   "execution_count": 9,
   "id": "360ab773-df81-4975-bb19-cd5f34e69b29",
   "metadata": {},
   "outputs": [
    {
     "data": {
      "text/plain": [
       "<Image src=\"/docs/images/guides/qiskit-addons-utils/extracted-outputs/360ab773-df81-4975-bb19-cd5f34e69b29-0.svg\" alt=\"Output of the previous code cell\" />"
      ]
     },
     "execution_count": 9,
     "metadata": {},
     "output_type": "execute_result"
    }
   ],
   "source": [
    "slices[2].draw(\"mpl\", scale=0.6)"
   ]
  },
  {
   "cell_type": "markdown",
   "id": "81d9b18a-76ce-4660-a638-48c02723adde",
   "metadata": {},
   "source": [
    "## Next steps\n",
    "\n",
    "<Admonition type=\"tip\" title=\"Recommendations\">\n",
    "    - Read through the overview of the [OBP addon.](/docs/guides/qiskit-addons-obp)\n",
    "    - Understand how the [SQD addon](/docs/guides/qiskit-addons-sqd) works.\n",
    "    - Familiarize yourself with the [AQC-Tensor addon.](/docs/guides/qiskit-addons-aqc)\n",
    "</Admonition>"
   ]
  }
 ],
 "metadata": {
  "description": "Get started with the Qiskit addon utilities to supplement your addon workloads",
  "kernelspec": {
   "display_name": "Python 3",
   "language": "python",
   "name": "python3"
  },
  "language_info": {
   "codemirror_mode": {
    "name": "ipython",
    "version": 3
   },
   "file_extension": ".py",
   "mimetype": "text/x-python",
   "name": "python",
   "nbconvert_exporter": "python",
   "pygments_lexer": "ipython3",
   "version": "3"
  },
  "title": "Qiskit addon utilities"
 },
 "nbformat": 4,
 "nbformat_minor": 2
}
