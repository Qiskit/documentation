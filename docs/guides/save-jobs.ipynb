{
 "cells": [
  {
   "cell_type": "markdown",
   "id": "ef283f37-0ad4-48c7-bb92-8a09baaae6e5",
   "metadata": {},
   "source": [
    "# Retrieve and save job results"
   ]
  },
  {
   "cell_type": "markdown",
   "id": "f4471d6b-dc12-486c-95de-22ac12e367d2",
   "metadata": {
    "tags": [
     "version-info"
    ]
   },
   "source": [
    "<details>\n",
    "<summary><b>Package versions</b></summary>\n",
    "\n",
    "The code on this page was developed using the following requirements.\n",
    "We recommend using these versions or newer.\n",
    "\n",
    "```\n",
    "qiskit-ibm-runtime~=0.40.1\n",
    "```\n",
    "</details>"
   ]
  },
  {
   "cell_type": "markdown",
   "id": "ec8277ad-1811-4318-8282-84d6d282bb17",
   "metadata": {},
   "source": [
    "Quantum workflows often take a while to complete and can run over many sessions. Restarting your Python kernel means you'll lose any results stored in memory. To avoid loss of data, you can save results to file and retrieve results of past jobs from IBM Quantum&reg; so your next session can continue where you left off."
   ]
  },
  {
   "cell_type": "markdown",
   "id": "d32e82e4-331c-43ec-ac86-a657f29f1469",
   "metadata": {},
   "source": [
    "## Retrieve job results from IBM Quantum\n",
    "\n",
    "IBM Quantum automatically stores results from every job for you to retrieve at a later date. Use this feature to continue quantum programs across kernel restarts and review past results. You can get the ID of a job programmatically through its `job_id` method, or you can see all your submitted jobs and their IDs on the [Workloads page](https://quantum.cloud.ibm.com/workloads).\n",
    "\n",
    "To find a job programmatically, use the [`QiskitRuntimeService.jobs`](/docs/api/qiskit-ibm-runtime/qiskit-runtime-service#jobs) method. By default, this returns the most recently submitted jobs, but you can also filter jobs by backend name, creation date, and more. The following cell finds any jobs submitted in the last three months. The `created_after` argument must be a [`datetime.datetime`](https://docs.python.org/3.8/library/datetime.html#datetime.datetime) object."
   ]
  },
  {
   "cell_type": "code",
   "execution_count": 1,
   "id": "bd46b47b-e9ff-4da3-9ded-30dd3baee7c0",
   "metadata": {},
   "outputs": [
    {
     "data": {
      "text/plain": [
       "[<RuntimeJobV2('d3n8fqj4kkus739ef10g', 'sampler')>,\n",
       " <RuntimeJobV2('d3n8e2o3qtks738e3n40', 'sampler')>,\n",
       " <RuntimeJobV2('d3n8218dd19c7398mvng', 'sampler')>]"
      ]
     },
     "execution_count": 1,
     "metadata": {},
     "output_type": "execute_result"
    }
   ],
   "source": [
    "import datetime\n",
    "from qiskit_ibm_runtime import QiskitRuntimeService\n",
    "\n",
    "three_months_ago = datetime.datetime.now() - datetime.timedelta(days=90)\n",
    "\n",
    "service = QiskitRuntimeService()\n",
    "jobs_in_last_three_months = service.jobs(created_after=three_months_ago)\n",
    "jobs_in_last_three_months[:3]  # show first three jobs"
   ]
  },
  {
   "cell_type": "markdown",
   "id": "418755af-ddf1-4702-9c83-df23d29982f3",
   "metadata": {},
   "source": [
    "You can also select by backend, job state, session, and more. For more information, see [`QiskitRuntimeService.jobs`](/docs/api/qiskit-ibm-runtime/qiskit-runtime-service#jobs) in the API documentation.\n",
    "\n",
    "Once you have the job ID, use the [`QiskitRuntimeService.job`](/docs/api/qiskit-ibm-runtime/qiskit-runtime-service#job) method to retrieve it."
   ]
  },
  {
   "cell_type": "code",
   "execution_count": 2,
   "id": "bd1fc5a5-ad29-4805-91e5-fe70cdbc4540",
   "metadata": {
    "tags": [
     "ignore-warnings"
    ]
   },
   "outputs": [
    {
     "name": "stdout",
     "output_type": "stream",
     "text": [
      "d3n8fqj4kkus739ef10g\n"
     ]
    }
   ],
   "source": [
    "# Get ID of most recent successful job for demonstration.\n",
    "# This will not work if you've never successfully run a job.\n",
    "successful_job = next(\n",
    "    j for j in service.jobs(limit=1000) if j.status() == \"DONE\"\n",
    ")\n",
    "job_id = successful_job.job_id()\n",
    "print(job_id)"
   ]
  },
  {
   "cell_type": "code",
   "execution_count": 3,
   "id": "850780cc-4c91-4eec-9d46-2b2cbcd9157e",
   "metadata": {},
   "outputs": [
    {
     "data": {
      "text/plain": [
       "PrimitiveResult([SamplerPubResult(data=DataBin(meas=BitArray(<shape=(), num_shots=4096, num_bits=2>)), metadata={'circuit_metadata': {}, 'compilation': {'scheduler_timing': {'timing': 'main,barrier,Qubit 0,4,0,barrier\\nmain,barrier,Qubit 1,4,0,barrier\\nmain,INIT_0,Qubit 0,5,180,play\\nmain,INIT_0,AWGR0_0,116,205,capture\\nmain,INIT_0,Qubit 0,395,6,play\\nmain,INIT_0,Qubit 0,402,180,play\\nmain,INIT_0,AWGR0_0,513,205,capture\\nmain,INIT_0,Qubit 0,792,6,play\\nmain,INIT_1,Qubit 1,5,180,play\\nmain,INIT_1,AWGR0_1,116,205,capture\\nmain,INIT_1,Qubit 1,395,6,play\\nmain,INIT_1,Qubit 1,402,180,play\\nmain,INIT_1,AWGR0_1,513,205,capture\\nmain,INIT_1,Qubit 1,792,6,play\\nmain,barrier,Qubit 0,798,0,barrier\\nmain,barrier,Qubit 1,798,0,barrier\\nmain,rz_0,Qubit 0,798,0,shift_phase\\nmain,sx_0,Qubit 0,798,6,play\\nmain,sx_0,Qubit 0,804,0,shift_phase\\nmain,rz_0,Qubit 0,804,0,shift_phase\\nmain,rz_1,Qubit 1,798,0,shift_phase\\nmain,sx_1,Qubit 1,798,6,play\\nmain,sx_1,Qubit 1,804,0,shift_phase\\nmain,rz_1,Qubit 1,804,0,shift_phase\\nmain,cz_0_1,Qubit 0,804,17,play\\nmain,cz_0_1,Qubit 1,804,17,play\\nmain,cz_0_1,Qubit 0,821,0,shift_phase\\nmain,cz_0_1,Qubit 1,821,0,shift_phase\\nmain,rz_1,Qubit 1,821,0,shift_phase\\nmain,sx_1,Qubit 1,821,6,play\\nmain,sx_1,Qubit 1,827,0,shift_phase\\nmain,rz_1,Qubit 1,827,0,shift_phase\\nmain,barrier,Qubit 0,827,0,barrier\\nmain,barrier,Qubit 1,827,0,barrier\\nmain,measure_0,Qubit 0,828,180,play\\nmain,measure_0,AWGR0_0,939,205,capture\\nmain,measure_1,Qubit 1,828,180,play\\nmain,measure_1,AWGR0_1,939,205,capture\\n', 'circuit_duration': 1218}, 'stretch_values': None}})], metadata={'execution': {'execution_spans': {'__type__': 'ExecutionSpans', '__value__': {'spans': [DoubleSliceSpan(<start='2025-10-14 17:27:37', stop='2025-10-14 17:27:43', size=4096>)]}}}, 'version': 2})"
      ]
     },
     "execution_count": 3,
     "metadata": {},
     "output_type": "execute_result"
    }
   ],
   "source": [
    "retrieved_job = service.job(job_id)\n",
    "retrieved_job.result()"
   ]
  },
  {
   "cell_type": "markdown",
   "id": "1163070d-7f16-42dc-9951-4cbff79cabf6",
   "metadata": {},
   "source": [
    "<CodeAssistantAdmonition\n",
    "  tagLine=\"Always forgetting how to retrieve a job result? Try this prompt with Qiskit Code Assistant:\"\n",
    "  prompts={[\n",
    "    \"# Retrieve job JOB_ID from IBM Runtime and print the result\"\n",
    "  ]}\n",
    "/>"
   ]
  },
  {
   "cell_type": "markdown",
   "id": "f3bccdba-29c5-405b-96e2-65f4fe4ffadd",
   "metadata": {},
   "source": [
    "## Save results to disk\n",
    "\n",
    "You may also want to save results to disk. To do this, use Python's built-in JSON library with encoders from Qiskit Runtime."
   ]
  },
  {
   "cell_type": "code",
   "execution_count": 4,
   "id": "1892f8f7-ff0f-4ed2-bba9-a336c23315af",
   "metadata": {},
   "outputs": [],
   "source": [
    "import json\n",
    "from qiskit_ibm_runtime import RuntimeEncoder\n",
    "\n",
    "with open(\"result.json\", \"w\") as file:\n",
    "    json.dump(retrieved_job.result(), file, cls=RuntimeEncoder)"
   ]
  },
  {
   "cell_type": "markdown",
   "id": "8fdddde9-2c05-481b-84c8-d3b7fcf70120",
   "metadata": {},
   "source": [
    "You can then load this array from disk in a separate kernel."
   ]
  },
  {
   "cell_type": "code",
   "execution_count": 5,
   "id": "71d963dd-3b66-4226-be7b-c69bc89af28e",
   "metadata": {},
   "outputs": [
    {
     "data": {
      "text/plain": [
       "PrimitiveResult([SamplerPubResult(data=DataBin(meas=BitArray(<shape=(), num_shots=4096, num_bits=2>)), metadata={'circuit_metadata': {}, 'compilation': {'scheduler_timing': {'timing': 'main,barrier,Qubit 0,4,0,barrier\\nmain,barrier,Qubit 1,4,0,barrier\\nmain,INIT_0,Qubit 0,5,180,play\\nmain,INIT_0,AWGR0_0,116,205,capture\\nmain,INIT_0,Qubit 0,395,6,play\\nmain,INIT_0,Qubit 0,402,180,play\\nmain,INIT_0,AWGR0_0,513,205,capture\\nmain,INIT_0,Qubit 0,792,6,play\\nmain,INIT_1,Qubit 1,5,180,play\\nmain,INIT_1,AWGR0_1,116,205,capture\\nmain,INIT_1,Qubit 1,395,6,play\\nmain,INIT_1,Qubit 1,402,180,play\\nmain,INIT_1,AWGR0_1,513,205,capture\\nmain,INIT_1,Qubit 1,792,6,play\\nmain,barrier,Qubit 0,798,0,barrier\\nmain,barrier,Qubit 1,798,0,barrier\\nmain,rz_0,Qubit 0,798,0,shift_phase\\nmain,sx_0,Qubit 0,798,6,play\\nmain,sx_0,Qubit 0,804,0,shift_phase\\nmain,rz_0,Qubit 0,804,0,shift_phase\\nmain,rz_1,Qubit 1,798,0,shift_phase\\nmain,sx_1,Qubit 1,798,6,play\\nmain,sx_1,Qubit 1,804,0,shift_phase\\nmain,rz_1,Qubit 1,804,0,shift_phase\\nmain,cz_0_1,Qubit 0,804,17,play\\nmain,cz_0_1,Qubit 1,804,17,play\\nmain,cz_0_1,Qubit 0,821,0,shift_phase\\nmain,cz_0_1,Qubit 1,821,0,shift_phase\\nmain,rz_1,Qubit 1,821,0,shift_phase\\nmain,sx_1,Qubit 1,821,6,play\\nmain,sx_1,Qubit 1,827,0,shift_phase\\nmain,rz_1,Qubit 1,827,0,shift_phase\\nmain,barrier,Qubit 0,827,0,barrier\\nmain,barrier,Qubit 1,827,0,barrier\\nmain,measure_0,Qubit 0,828,180,play\\nmain,measure_0,AWGR0_0,939,205,capture\\nmain,measure_1,Qubit 1,828,180,play\\nmain,measure_1,AWGR0_1,939,205,capture\\n', 'circuit_duration': 1218}, 'stretch_values': None}})], metadata={'execution': {'execution_spans': {'__type__': 'ExecutionSpans', '__value__': {'spans': [DoubleSliceSpan(<start='2025-10-14 17:27:37', stop='2025-10-14 17:27:43', size=4096>)]}}}, 'version': 2})"
      ]
     },
     "execution_count": 5,
     "metadata": {},
     "output_type": "execute_result"
    }
   ],
   "source": [
    "from qiskit_ibm_runtime import RuntimeDecoder\n",
    "\n",
    "with open(\"result.json\", \"r\") as file:\n",
    "    result = json.load(file, cls=RuntimeDecoder)\n",
    "\n",
    "result"
   ]
  }
 ],
 "metadata": {
  "description": "How to use job_id to retrieve results, and how to save results to disk.",
  "kernelspec": {
   "display_name": "Python 3",
   "language": "python",
   "name": "python3"
  },
  "language_info": {
   "codemirror_mode": {
    "name": "ipython",
    "version": 3
   },
   "file_extension": ".py",
   "mimetype": "text/x-python",
   "name": "python",
   "nbconvert_exporter": "python",
   "pygments_lexer": "ipython3",
   "version": "3"
  },
  "title": "Retrieve and save job results"
 },
 "nbformat": 4,
 "nbformat_minor": 4
}
