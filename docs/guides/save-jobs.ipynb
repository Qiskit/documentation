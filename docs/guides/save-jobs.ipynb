{
 "cells": [
  {
   "cell_type": "markdown",
   "id": "539f98fa-9ccc-472a-99da-ebe6382243dc",
   "metadata": {},
   "source": [
    "# Save and retrieve jobs"
   ]
  },
  {
   "cell_type": "markdown",
   "id": "c4012cc3-8da9-4e81-afd9-42125f997d08",
   "metadata": {
    "tags": [
     "version-info"
    ]
   },
   "source": [
    "<details>\n",
    "<summary><b>Package versions</b></summary>\n",
    "\n",
    "The code on this page was developed using the following requirements.\n",
    "We recommend using these versions or newer.\n",
    "\n",
    "```\n",
    "qiskit[all]~=1.3.1\n",
    "qiskit-ibm-runtime~=0.34.0\n",
    "qiskit-aer~=0.15.1\n",
    "qiskit-serverless~=0.18.1\n",
    "qiskit-ibm-catalog~=0.2\n",
    "qiskit-addon-sqd~=0.8.1\n",
    "qiskit-addon-utils~=0.1.0\n",
    "qiskit-addon-mpf~=0.2.0\n",
    "scipy~=1.14.1\n",
    "qiskit-addon-aqc-tensor~=0.1.2\n",
    "qiskit-addon-obp~=0.1.0\n",
    "scipy~=1.14.1\n",
    "pyscf~=2.7.0\n",
    "```\n",
    "</details>"
   ]
  },
  {
   "cell_type": "markdown",
   "id": "923e6db4-89e1-4e1d-a526-a42454a4c238",
   "metadata": {},
   "source": [
    "Quantum workflows often take a while to complete and can run over many sessions. Restarting your Python kernel means you'll lose any results stored in memory. To avoid loss of data, you can save results to file and retrieve results of past jobs from IBM Quantum&trade; so your next session can continue where you left off."
   ]
  },
  {
   "cell_type": "markdown",
   "id": "73f23256-6519-47ae-b9e3-700f52a76711",
   "metadata": {},
   "source": [
    "## Retrieve jobs from IBM Quantum\n",
    "\n",
    "IBM Quantum automatically stores results from every job for you to retrieve at a later date. Use this feature to continue quantum programs across kernel restarts and review past results. You can get the ID of a job programmatically through its `job_id` method, or you can see all your submitted jobs and their IDs through the [Workloads dashboard](https://quantum.ibm.com/workloads).\n",
    "\n",
    "To find a job programatically, use the [`QiskitRuntimeService.jobs`](/api/qiskit-ibm-runtime/qiskit_ibm_runtime.QiskitRuntimeService#jobs) method. By default, this returns the most recent jobs, but you can also filter jobs by backend name, creation date, and more. The following cell finds any jobs submitted in the last three months. The `created_after` argument must be a [`datetime.datetime`](https://docs.python.org/3.8/library/datetime.html#datetime.datetime) object."
   ]
  },
  {
   "cell_type": "code",
   "execution_count": 1,
   "id": "da02c7ca-803a-4426-8dd0-bbe062c0e9e1",
   "metadata": {},
   "outputs": [
    {
     "data": {
      "text/plain": [
       "[<RuntimeJob('cxg030c6t010008cme5g', 'estimator')>,\n",
       " <RuntimeJob('cxg02zvvw7kg008s3vk0', 'estimator')>,\n",
       " <RuntimeJob('cxg02z36t010008cme50', 'estimator')>]"
      ]
     },
     "execution_count": 1,
     "metadata": {},
     "output_type": "execute_result"
    }
   ],
   "source": [
    "import datetime\n",
    "from qiskit_ibm_runtime import QiskitRuntimeService\n",
    "\n",
    "three_months_ago = datetime.datetime.now() - datetime.timedelta(days=90)\n",
    "\n",
    "service = QiskitRuntimeService()\n",
    "jobs_in_last_three_months = service.jobs(created_after=three_months_ago)\n",
    "jobs_in_last_three_months[:3]  # show first three jobs"
   ]
  },
  {
   "cell_type": "markdown",
   "id": "9aae5f5a-a543-493c-9bc5-5682ba846ab5",
   "metadata": {},
   "source": [
    "You can also select by backend, job state, session, and more. For more information, see [`QiskitRuntimeService.jobs`](/api/qiskit-ibm-runtime/qiskit_ibm_runtime.QiskitRuntimeService#jobs) in the API documentation.\n",
    "\n",
    "Once you have the job ID, use the [`QiskitRuntimeService.job`](/api/qiskit-ibm-runtime/qiskit_ibm_runtime.QiskitRuntimeService#job) method to retrieve it."
   ]
  },
  {
   "cell_type": "code",
   "execution_count": 2,
   "id": "43d0f06e-f97f-4c19-b242-02cb0bd420a9",
   "metadata": {
    "tags": [
     "ignore-warnings"
    ]
   },
   "outputs": [
    {
     "name": "stderr",
     "output_type": "stream",
     "text": [
      "/tmp/ipykernel_5348/3090032923.py:4: DeprecationWarning: In a future release of qiskit-ibm-runtime no sooner than 3 months after the release date of 0.30.0, RuntimeJob.status() will be returned as a string instead of an instance of `JobStatus`. To prepare for this change, you can use the idiom `status.name if isinstance(status, JobStatus) else status`.\n",
      "  j for j in service.jobs(limit=1000) if j.status().name == \"DONE\"\n"
     ]
    },
    {
     "name": "stdout",
     "output_type": "stream",
     "text": [
      "cxg030c6t010008cme5g\n"
     ]
    }
   ],
   "source": [
    "# Get ID of most recent successful job for demonstration.\n",
    "# This will not work if you've never successfully run a job.\n",
    "successful_job = next(\n",
    "    j for j in service.jobs(limit=1000) if j.status().name == \"DONE\"\n",
    ")\n",
    "job_id = successful_job.job_id()\n",
    "print(job_id)"
   ]
  },
  {
   "cell_type": "code",
   "execution_count": 3,
   "id": "90133394-3259-487f-96b2-3b50e0274064",
   "metadata": {},
   "outputs": [
    {
     "data": {
      "text/plain": [
       "PrimitiveResult([PubResult(data=DataBin(evs=np.ndarray(<shape=(6,), dtype=float64>), stds=np.ndarray(<shape=(6,), dtype=float64>), evs_noise_factors=np.ndarray(<shape=(6, 2), dtype=float64>), stds_noise_factors=np.ndarray(<shape=(6, 2), dtype=float64>), ensemble_stds_noise_factors=np.ndarray(<shape=(6, 2), dtype=float64>), evs_extrapolated=np.ndarray(<shape=(6, 2, 3), dtype=float64>), stds_extrapolated=np.ndarray(<shape=(6, 2, 3), dtype=float64>), shape=(6,)), metadata={'shots': 100000, 'target_precision': 0.003162277660168379, 'circuit_metadata': {}, 'resilience': {'zne': {'extrapolator': array(['exponential', 'exponential', 'exponential', 'exponential',\n",
       "       'exponential', 'exponential'], dtype='<U11')}, 'layer_noise': {'noise_overhead': 2.3541035574729365, 'total_mitigated_layers': 6, 'unique_mitigated_layers': 2, 'unique_mitigated_layers_noise_overhead': [1.1356441238948969, 1.1896748089636464]}}, 'num_randomizations': 1000})], metadata={'dynamical_decoupling': {'enable': False, 'sequence_type': 'XX', 'extra_slack_distribution': 'middle', 'scheduling_method': 'alap'}, 'twirling': {'enable_gates': True, 'enable_measure': True, 'num_randomizations': 'auto', 'shots_per_randomization': 100, 'interleave_randomizations': True, 'strategy': 'active-accum'}, 'resilience': {'measure_mitigation': True, 'zne_mitigation': True, 'pec_mitigation': False, 'zne': {'noise_factors': [1, 4], 'extrapolator': ['exponential', 'linear'], 'extrapolated_noise_factors': [0, 1, 4]}, 'layer_noise_model': [LayerError(circuit=<qiskit.circuit.quantumcircuit.QuantumCircuit object at 0x7fbb6b9ac850>, qubits=[0, 1, 2, 3, 4, 5], error=PauliLindbladError(generators=['IIIIIX', 'IIIIIY', 'IIIIIZ', 'IIIIXI', 'IIIIXX', 'IIIIXY', 'IIIIXZ',\n",
       " 'IIIIYI', 'IIIIYX', 'IIIIYY', 'IIIIYZ', 'IIIIZI', 'IIIIZX', 'IIIIZY',\n",
       " 'IIIIZZ', 'IIIXII', 'IIIXXI', 'IIIXYI', 'IIIXZI', 'IIIYII', 'IIIYXI',\n",
       " 'IIIYYI', 'IIIYZI', 'IIIZII', 'IIIZXI', 'IIIZYI', 'IIIZZI', 'IIXIII',\n",
       " 'IIXXII', 'IIXYII', 'IIXZII', 'IIYIII', 'IIYXII', 'IIYYII', 'IIYZII',\n",
       " 'IIZIII', 'IIZXII', 'IIZYII', 'IIZZII', 'IXIIII', 'IXXIII', 'IXYIII',\n",
       " 'IXZIII', 'IYIIII', 'IYXIII', 'IYYIII', 'IYZIII', 'IZIIII', 'IZXIII',\n",
       " 'IZYIII', 'IZZIII', 'XIIIII', 'XXIIII', 'XYIIII', 'XZIIII', 'YIIIII',\n",
       " 'YXIIII', 'YYIIII', 'YZIIII', 'ZIIIII', 'ZXIIII', 'ZYIIII', 'ZZIIII'], rates=[0.00155, 0.00046, 0.00069, 0.00014, 0.0005, 0.0, 0.00016, 0.00031, 0.00033, 0.00016, 6e-05, 8e-05, 0.00017, 0.00069, 0.00046, 0.00102, 0.0, 0.0, 2e-05, 0.00065, 8e-05, 0.00011, 0.00031, 0.00225, 0.00011, 8e-05, 0.00031, 0.00052, 0.0011, 0.0, 0.00014, 0.00066, 0.00096, 0.00012, 0.0, 0.00058, 0.00012, 0.00275, 0.00115, 0.00015, 0.00012, 5e-05, 0.00019, 0.00033, 5e-05, 0.00012, 0.00019, 0.00067, 0.00027, 0.00027, 0.00311, 0.00352, 0.00069, 0.00051, 7e-05, 0.00036, 0.00029, 0.0, 0.00073, 0.00073, 0.0, 0.00022, 0.00036]))), LayerError(circuit=<qiskit.circuit.quantumcircuit.QuantumCircuit object at 0x7fbb6b9af610>, qubits=[0, 1, 2, 3, 4, 5], error=PauliLindbladError(generators=['IIIIIX', 'IIIIIY', 'IIIIIZ', 'IIIIXI', 'IIIIXX', 'IIIIXY', 'IIIIXZ',\n",
       " 'IIIIYI', 'IIIIYX', 'IIIIYY', 'IIIIYZ', 'IIIIZI', 'IIIIZX', 'IIIIZY',\n",
       " 'IIIIZZ', 'IIIXII', 'IIIXXI', 'IIIXYI', 'IIIXZI', 'IIIYII', 'IIIYXI',\n",
       " 'IIIYYI', 'IIIYZI', 'IIIZII', 'IIIZXI', 'IIIZYI', 'IIIZZI', 'IIXIII',\n",
       " 'IIXXII', 'IIXYII', 'IIXZII', 'IIYIII', 'IIYXII', 'IIYYII', 'IIYZII',\n",
       " 'IIZIII', 'IIZXII', 'IIZYII', 'IIZZII', 'IXIIII', 'IXXIII', 'IXYIII',\n",
       " 'IXZIII', 'IYIIII', 'IYXIII', 'IYYIII', 'IYZIII', 'IZIIII', 'IZXIII',\n",
       " 'IZYIII', 'IZZIII', 'XIIIII', 'XXIIII', 'XYIIII', 'XZIIII', 'YIIIII',\n",
       " 'YXIIII', 'YYIIII', 'YZIIII', 'ZIIIII', 'ZXIIII', 'ZYIIII', 'ZZIIII'], rates=[0.00115, 0.00115, 0.00824, 0.00093, 0.0, 0.00021, 2e-05, 0.0, 0.00024, 0.00016, 0.0, 0.00037, 0.00025, 0.00017, 0.0, 0.00071, 0.00119, 0.00017, 0.00028, 0.00077, 0.00112, 6e-05, 0.00023, 0.00192, 0.00033, 0.00078, 0.0004, 0.00185, 8e-05, 8e-05, 0.00056, 0.00021, 0.00013, 0.00026, 0.00042, 0.0, 0.00021, 8e-05, 0.00037, 0.00216, 0.0009, 5e-05, 0.0, 0.00089, 0.00217, 0.00027, 0.00014, 0.00149, 0.00042, 0.00066, 0.00096, 0.00285, 0.0, 0.0, 0.0, 0.00234, 0.0, 0.0, 0.0, 0.00292, 1e-05, 1e-05, 8e-05])))]}, 'version': 2})"
      ]
     },
     "execution_count": 3,
     "metadata": {},
     "output_type": "execute_result"
    }
   ],
   "source": [
    "retrieved_job = service.job(job_id)\n",
    "retrieved_job.result()"
   ]
  },
  {
   "cell_type": "markdown",
   "id": "1f50a889-63b1-4458-a5e5-bd2ef47dd3eb",
   "metadata": {},
   "source": [
    "<CodeAssistantAdmonition\n",
    "  tagLine=\"Always forgetting how to retrieve a job? Try this prompt with Qiskit Code Assistant:\"\n",
    "  prompts={[\n",
    "    \"# Retrieve job JOB_ID from IBM Runtime and print the result\"\n",
    "  ]}\n",
    "/>"
   ]
  },
  {
   "cell_type": "markdown",
   "id": "211b8c15-5aa3-43f6-82ee-2bd1d49ae8fc",
   "metadata": {},
   "source": [
    "## Save results to disk\n",
    "\n",
    "You may also want to save results to disk. To do this, use Python's built-in JSON library with Qiskit Runtime's encoders."
   ]
  },
  {
   "cell_type": "code",
   "execution_count": 4,
   "id": "3a3ff817-01c1-47e8-94c6-1ecf2215ef7c",
   "metadata": {},
   "outputs": [],
   "source": [
    "import json\n",
    "from qiskit_ibm_runtime import RuntimeEncoder\n",
    "\n",
    "with open(\"result.json\", \"w\") as file:\n",
    "    json.dump(retrieved_job.result(), file, cls=RuntimeEncoder)"
   ]
  },
  {
   "cell_type": "markdown",
   "id": "40a9d8e5-c876-47a7-862e-d2ce535a6052",
   "metadata": {},
   "source": [
    "You can then load this array from disk in a separate kernel."
   ]
  },
  {
   "cell_type": "code",
   "execution_count": 5,
   "id": "316aa6f7-faee-4a05-a7b4-02d7bee4d58a",
   "metadata": {},
   "outputs": [
    {
     "data": {
      "text/plain": [
       "PrimitiveResult([PubResult(data=DataBin(evs=np.ndarray(<shape=(6,), dtype=float64>), stds=np.ndarray(<shape=(6,), dtype=float64>), evs_noise_factors=np.ndarray(<shape=(6, 2), dtype=float64>), stds_noise_factors=np.ndarray(<shape=(6, 2), dtype=float64>), ensemble_stds_noise_factors=np.ndarray(<shape=(6, 2), dtype=float64>), evs_extrapolated=np.ndarray(<shape=(6, 2, 3), dtype=float64>), stds_extrapolated=np.ndarray(<shape=(6, 2, 3), dtype=float64>), shape=(6,)), metadata={'shots': 100000, 'target_precision': 0.003162277660168379, 'circuit_metadata': {}, 'resilience': {'zne': {'extrapolator': array(['exponential', 'exponential', 'exponential', 'exponential',\n",
       "       'exponential', 'exponential'], dtype='<U11')}, 'layer_noise': {'noise_overhead': 2.3541035574729365, 'total_mitigated_layers': 6, 'unique_mitigated_layers': 2, 'unique_mitigated_layers_noise_overhead': [1.1356441238948969, 1.1896748089636464]}}, 'num_randomizations': 1000})], metadata={'dynamical_decoupling': {'enable': False, 'sequence_type': 'XX', 'extra_slack_distribution': 'middle', 'scheduling_method': 'alap'}, 'twirling': {'enable_gates': True, 'enable_measure': True, 'num_randomizations': 'auto', 'shots_per_randomization': 100, 'interleave_randomizations': True, 'strategy': 'active-accum'}, 'resilience': {'measure_mitigation': True, 'zne_mitigation': True, 'pec_mitigation': False, 'zne': {'noise_factors': [1, 4], 'extrapolator': ['exponential', 'linear'], 'extrapolated_noise_factors': [0, 1, 4]}, 'layer_noise_model': [LayerError(circuit=<qiskit.circuit.quantumcircuit.QuantumCircuit object at 0x7fbbc463b750>, qubits=[0, 1, 2, 3, 4, 5], error=PauliLindbladError(generators=['IIIIIX', 'IIIIIY', 'IIIIIZ', 'IIIIXI', 'IIIIXX', 'IIIIXY', 'IIIIXZ',\n",
       " 'IIIIYI', 'IIIIYX', 'IIIIYY', 'IIIIYZ', 'IIIIZI', 'IIIIZX', 'IIIIZY',\n",
       " 'IIIIZZ', 'IIIXII', 'IIIXXI', 'IIIXYI', 'IIIXZI', 'IIIYII', 'IIIYXI',\n",
       " 'IIIYYI', 'IIIYZI', 'IIIZII', 'IIIZXI', 'IIIZYI', 'IIIZZI', 'IIXIII',\n",
       " 'IIXXII', 'IIXYII', 'IIXZII', 'IIYIII', 'IIYXII', 'IIYYII', 'IIYZII',\n",
       " 'IIZIII', 'IIZXII', 'IIZYII', 'IIZZII', 'IXIIII', 'IXXIII', 'IXYIII',\n",
       " 'IXZIII', 'IYIIII', 'IYXIII', 'IYYIII', 'IYZIII', 'IZIIII', 'IZXIII',\n",
       " 'IZYIII', 'IZZIII', 'XIIIII', 'XXIIII', 'XYIIII', 'XZIIII', 'YIIIII',\n",
       " 'YXIIII', 'YYIIII', 'YZIIII', 'ZIIIII', 'ZXIIII', 'ZYIIII', 'ZZIIII'], rates=[0.00155, 0.00046, 0.00069, 0.00014, 0.0005, 0.0, 0.00016, 0.00031, 0.00033, 0.00016, 6e-05, 8e-05, 0.00017, 0.00069, 0.00046, 0.00102, 0.0, 0.0, 2e-05, 0.00065, 8e-05, 0.00011, 0.00031, 0.00225, 0.00011, 8e-05, 0.00031, 0.00052, 0.0011, 0.0, 0.00014, 0.00066, 0.00096, 0.00012, 0.0, 0.00058, 0.00012, 0.00275, 0.00115, 0.00015, 0.00012, 5e-05, 0.00019, 0.00033, 5e-05, 0.00012, 0.00019, 0.00067, 0.00027, 0.00027, 0.00311, 0.00352, 0.00069, 0.00051, 7e-05, 0.00036, 0.00029, 0.0, 0.00073, 0.00073, 0.0, 0.00022, 0.00036]))), LayerError(circuit=<qiskit.circuit.quantumcircuit.QuantumCircuit object at 0x7fbb6baf4390>, qubits=[0, 1, 2, 3, 4, 5], error=PauliLindbladError(generators=['IIIIIX', 'IIIIIY', 'IIIIIZ', 'IIIIXI', 'IIIIXX', 'IIIIXY', 'IIIIXZ',\n",
       " 'IIIIYI', 'IIIIYX', 'IIIIYY', 'IIIIYZ', 'IIIIZI', 'IIIIZX', 'IIIIZY',\n",
       " 'IIIIZZ', 'IIIXII', 'IIIXXI', 'IIIXYI', 'IIIXZI', 'IIIYII', 'IIIYXI',\n",
       " 'IIIYYI', 'IIIYZI', 'IIIZII', 'IIIZXI', 'IIIZYI', 'IIIZZI', 'IIXIII',\n",
       " 'IIXXII', 'IIXYII', 'IIXZII', 'IIYIII', 'IIYXII', 'IIYYII', 'IIYZII',\n",
       " 'IIZIII', 'IIZXII', 'IIZYII', 'IIZZII', 'IXIIII', 'IXXIII', 'IXYIII',\n",
       " 'IXZIII', 'IYIIII', 'IYXIII', 'IYYIII', 'IYZIII', 'IZIIII', 'IZXIII',\n",
       " 'IZYIII', 'IZZIII', 'XIIIII', 'XXIIII', 'XYIIII', 'XZIIII', 'YIIIII',\n",
       " 'YXIIII', 'YYIIII', 'YZIIII', 'ZIIIII', 'ZXIIII', 'ZYIIII', 'ZZIIII'], rates=[0.00115, 0.00115, 0.00824, 0.00093, 0.0, 0.00021, 2e-05, 0.0, 0.00024, 0.00016, 0.0, 0.00037, 0.00025, 0.00017, 0.0, 0.00071, 0.00119, 0.00017, 0.00028, 0.00077, 0.00112, 6e-05, 0.00023, 0.00192, 0.00033, 0.00078, 0.0004, 0.00185, 8e-05, 8e-05, 0.00056, 0.00021, 0.00013, 0.00026, 0.00042, 0.0, 0.00021, 8e-05, 0.00037, 0.00216, 0.0009, 5e-05, 0.0, 0.00089, 0.00217, 0.00027, 0.00014, 0.00149, 0.00042, 0.00066, 0.00096, 0.00285, 0.0, 0.0, 0.0, 0.00234, 0.0, 0.0, 0.0, 0.00292, 1e-05, 1e-05, 8e-05])))]}, 'version': 2})"
      ]
     },
     "execution_count": 5,
     "metadata": {},
     "output_type": "execute_result"
    }
   ],
   "source": [
    "from qiskit_ibm_runtime import RuntimeDecoder\n",
    "\n",
    "with open(\"result.json\", \"r\") as file:\n",
    "    result = json.load(file, cls=RuntimeDecoder)\n",
    "\n",
    "result"
   ]
  }
 ],
 "metadata": {
  "description": "Store Qiskit objects on disk or in the cloud so you can continue where you left off",
  "kernelspec": {
   "display_name": "Python 3",
   "language": "python",
   "name": "python3"
  },
  "language_info": {
   "codemirror_mode": {
    "name": "ipython",
    "version": 3
   },
   "file_extension": ".py",
   "mimetype": "text/x-python",
   "name": "python",
   "nbconvert_exporter": "python",
   "pygments_lexer": "ipython3",
   "version": "3"
  },
  "title": "Save and retrieve Qiskit objects"
 },
 "nbformat": 4,
 "nbformat_minor": 2
}
