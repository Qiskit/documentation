{
 "cells": [
  {
   "cell_type": "markdown",
   "id": "9e40af77-7f0f-4dd6-ab0a-420cf396050e",
   "metadata": {},
   "source": [
    "{/* cspell:ignore LUCJ CCSD ccsd hcore */}\n",
    "\n",
    "# Sample-based quantum diagonalization of a chemistry Hamiltonian\n",
    "*Usage estimate: under 1 minute on ibm_kingston (NOTE: This is an estimate only. Your runtime may vary.)*"
   ]
  },
  {
   "cell_type": "markdown",
   "id": "9701917b",
   "metadata": {},
   "source": [
    "## Background\n",
    "\n",
    "In this tutorial, we show how to post-process noisy quantum samples to find an approximation to the ground state of the nitrogen molecule $\\text{N}_2$ at equilibrium bond length, using the [sample-based quantum diagonalization (SQD) algorithm](https://arxiv.org/abs/2405.05068), for samples taken from a 36-qubit quantum circuit (32 system qubits + 4 ancilla qubits). A Qiskit-based implementation is available in the [SQD Qiskit addons](https://github.com/Qiskit/qiskit-addon-sqd), more details can be found in the corresponding [docs](/docs/guides/qiskit-addons-sqd) with a [simple example](/docs/guides/qiskit-addons-sqd-get-started) to get started.\n",
    "SQD is a technique for finding eigenvalues and eigenvectors of quantum operators, such as a quantum system Hamiltonian, using quantum and distributed classical computing together. Classical distributed computing is used to process samples obtained from a quantum processor, and to project and diagonalize a target Hamiltonian in a subspace spanned by them. This allows SQD to be robust to samples corrupted by quantum noise and deal with large Hamiltonians, such as chemistry Hamiltonians with millions of interaction terms, beyond the reach of any exact diagonalization methods. An SQD-based workflow has the following steps:\n",
    "\n",
    "1. Choose a circuit ansatz and apply it on a quantum computer to a reference state (in this case, the [Hartree-Fock](https://en.wikipedia.org/wiki/Hartree%E2%80%93Fock_method) state).\n",
    "2. Sample bitstrings from the resulting quantum state.\n",
    "3. Run the *self-consistent configuration recovery* procedure on the bitstrings to obtain the approximation to the ground state.\n",
    "\n",
    "SQD is known to work well when the target eigenstate is sparse: the wave function is supported in a set of basis states $\\mathcal{S} = \\{|x\\rangle \\}$ whose size does not increase exponentially with the size of the problem.\n",
    "\n",
    "### Quantum chemistry\n",
    "\n",
    "The properties of molecules are largely determined by the structure of the electrons within them. As fermionic particles, electrons can be described using a mathematical formalism called second quantization. The idea is that there are a number of *orbitals*, each of which can be either empty or occupied by a fermion. A system of $N$ orbitals is described by a set of fermionic annihilation operators $\\{\\hat{a}_p\\}_{p=1}^N$ that satisfy the fermionic anticommutation relations,\n",
    "\n",
    "$$\n",
    "\\begin{align*}\n",
    "\\hat{a}_p \\hat{a}_q + \\hat{a}_q \\hat{a}_p &= 0, \\\\\n",
    "\\hat{a}_p \\hat{a}_q^\\dagger + \\hat{a}_q^\\dagger \\hat{a}_p &= \\delta_{pq}.\n",
    "\\end{align*}\n",
    "$$\n",
    "\n",
    "The adjoint $\\hat{a}_p^\\dagger$ is called a creation operator.\n",
    "\n",
    "So far, our exposition has not accounted for spin, which is a fundamental property of fermions. When accounting for spin, the orbitals come in pairs called *spatial orbitals*. Each spatial orbital is composed of two *spin orbitals*, one that is labeled \"spin-$\\alpha$\" and one that is labeled \"spin-$\\beta$\". We then write $\\hat{a}_{p\\sigma}$ for the annihilation operator associated with the spin-orbital with spin $\\sigma$ ($\\sigma \\in \\{\\alpha, \\beta\\}$) in spatial orbital $p$. If we take $N$ to be the number of spatial orbitals, then there are a total of $2N$ spin-orbitals. The Hilbert space of this system is spanned by $2^{2N}$ orthonormal basis vectors labeled with two-part bitstrings $\\lvert z \\rangle = \\lvert z_\\beta z_\\alpha \\rangle = \\lvert z_{\\beta, N} \\cdots z_{\\beta, 1} z_{\\alpha, N} \\cdots z_{\\alpha, 1} \\rangle$.\n",
    "\n",
    "The Hamiltonian of a molecular system can be written as\n",
    "\n",
    "$$\n",
    "\\hat{H} = \\sum_{ \\substack{pr\\\\\\sigma} } h_{pr} \\, \\hat{a}^\\dagger_{p\\sigma} \\hat{a}_{r\\sigma}\n",
    "+ \\frac12\n",
    "\\sum_{ \\substack{prqs\\\\\\sigma\\tau} }\n",
    "h_{prqs} \\,\n",
    "\\hat{a}^\\dagger_{p\\sigma}\n",
    "\\hat{a}^\\dagger_{q\\tau}\n",
    "\\hat{a}_{s\\tau}\n",
    "\\hat{a}_{r\\sigma},\n",
    "$$\n",
    "\n",
    "where the $h_{pr}$ and $h_{prqs}$ are complex numbers called molecular integrals that can be calculated from the specification of the molecule using a computer program. In this tutorial, we compute the integrals using the [PySCF](https://pyscf.org/) software package.\n",
    "\n",
    "For details about how the molecular Hamiltonian is derived, consult a textbook on quantum chemistry (for example, *Modern Quantum Chemistry* by Szabo and Ostlund). For a high-level explanation of how quantum chemistry problems are mapped onto quantum computers, check out the lecture [*Mapping Problems to Qubits*](https://youtube.com/watch?v=TyFU6r8uEsE&t=900) from Qiskit Global Summer School 2024.\n",
    "\n",
    "### Local unitary cluster Jastrow (LUCJ) ansatz\n",
    "\n",
    "SQD requires a quantum circuit ansatz to draw samples from. In this tutorial, we'll use the [local unitary cluster Jastrow (LUCJ)](https://pubs.rsc.org/en/content/articlelanding/2023/sc/d3sc02516k) ansatz due to its combination of physical motivation and hardware-friendliness.\n",
    "\n",
    "The LUCJ ansatz is a specialized form of the general unitary cluster Jastrow (UCJ) ansatz, which has the form\n",
    "\n",
    "$$\n",
    "  \\lvert \\Psi \\rangle = \\prod_{\\mu=1}^L e^{\\hat{K}_\\mu} e^{i \\hat{J}_\\mu} e^{-\\hat{K}_\\mu} | \\Phi_0 \\rangle\n",
    "$$\n",
    "\n",
    "where $\\lvert \\Phi_0 \\rangle$ is a reference state, often taken to be the Hartree-Fock state, and the $\\hat{K}_\\mu$ and $\\hat{J}_\\mu$ have the form\n",
    "\n",
    "$$\n",
    "\\hat{K}_\\mu = \\sum_{pq, \\sigma} K_{pq}^\\mu \\, \\hat{a}^\\dagger_{p \\sigma} \\hat{a}^{\\phantom{\\dagger}}_{q \\sigma}\n",
    "\\;,\\;\n",
    "\\hat{J}_\\mu = \\sum_{pq, \\sigma\\tau} J_{pq,\\sigma\\tau}^\\mu \\, \\hat{n}_{p \\sigma} \\hat{n}_{q \\tau}\n",
    "\\;,\n",
    "$$\n",
    "\n",
    "where we have defined the number operator\n",
    "\n",
    "$$\n",
    "\\hat{n}_{p \\sigma} = \\hat{a}^\\dagger_{p \\sigma} \\hat{a}^{\\phantom{\\dagger}}_{p \\sigma}.\n",
    "$$\n",
    "\n",
    "The operator $e^{\\hat{K}_\\mu}$ is an orbital rotation, which can be implemented using known algorithms in linear depth and using linear connectivity.\n",
    "Implementing the $e^{i \\mathcal{J}_k}$ term of the UCJ ansatz requires either all-to-all connectivity or the use of a fermionic swap network, making it challenging for noisy pre-fault-tolerant quantum processors that have limited connectivity. The idea of the *local* UCJ ansatz is to impose sparsity constraints on the $\\mathbf{J}^{\\alpha\\alpha}$ and $\\mathbf{J}^{\\alpha\\beta}$ matrices which allow them to be implemented in constant depth on qubit topologies with limited connectivity. The constraints are specified by a list of indices indicating which matrix entries in the upper triangle are allowed to be nonzero (since the matrices are symmetric, only the upper triangle needs to be specified). These indices can be interpreted as pairs of orbitals that are allowed to interact.\n",
    "\n",
    "As an example, consider a square lattice qubit topology. We can place the $\\alpha$ and $\\beta$ orbitals in parallel lines on the lattice, with connections between these lines forming \"rungs\" of a ladder shape, like this:\n",
    "\n",
    "![Qubit mapping diagram for the LUCJ ansatz on a square lattice](/docs/images/tutorials/improving-energy-estimation-of-a-fermionic-hamiltonian-with-sqd/baad4e53-5bfd-4cb4-8027-2ec26d27ecdd.avif)\n",
    "\n",
    "With this setup, orbitals with the same spin are connected with a line topology, while orbitals with different spins are connected when they share the same spatial orbital. This yields the following index constraints on the $\\mathbf{J}$ matrices:\n",
    "\n",
    "$$\n",
    "\\begin{align*}\n",
    "\\mathbf{J}^{\\alpha\\alpha} &: \\set{(p, p+1) \\; , \\; p = 0, \\ldots, N-2} \\\\\n",
    "\\mathbf{J}^{\\alpha\\beta} &: \\set{(p, p) \\;, \\; p = 0, \\ldots, N-1}\n",
    "\\end{align*}\n",
    "$$\n",
    "\n",
    "In other words, if the $\\mathbf{J}$ matrices are nonzero only at the specified indices in the upper triangle, then the $e^{i \\mathcal{J}_k}$ term can be implemented on a square topology without using any swap gates, in constant depth. Of course, imposing such constraints on the ansatz makes it less expressive, so more ansatz repetitions may be required.\n",
    "\n",
    "The IBM hardware has a heavy-hex lattice qubit topology, in which case we can adopt a \"zig-zag\" pattern, depicted below. In this pattern, orbitals with the same spin are mapped to qubits with a line topology (red and blue circles), and a connection between orbitals of different spin is present at every 4th spatial orbital, with the connection being facilitated by an ancilla qubit (purple circles). In this case, the index constraints are\n",
    "\n",
    "\n",
    "$$\n",
    "\\begin{align*}\n",
    "\\mathbf{J}^{\\alpha\\alpha} &: \\set{(p, p+1) \\; , \\; p = 0, \\ldots, N-2} \\\\\n",
    "\\mathbf{J}^{\\alpha\\beta} &: \\set{(p, p) \\;, \\; p = 0, 4, 8, \\ldots (p \\leq N-1)}\n",
    "\\end{align*}\n",
    "$$\n",
    "\n",
    "![Qubit mapping diagram for the LUCJ ansatz on a heavy-hex lattice](/docs/images/tutorials/improving-energy-estimation-of-a-fermionic-hamiltonian-with-sqd/7e0ee7e1-2d24-417f-ac59-25c58db79aa9.avif)\n",
    "\n",
    "\n",
    "### Self-consistent configuration recovery\n",
    "\n",
    "The self-consistent configuration recovery procedure is designed to extract as much signal as possible from noisy quantum samples. Because the molecular Hamiltonian conserves particle number and spin Z, it makes sense to choose a circuit ansatz that also conserves these symmetries. When applied to the Hartree-Fock state, the resulting state has a fixed particle number and spin Z in the noiseless setting. Therefore, the spin-$\\alpha$ and spin-$\\beta$ halves of any bitstring sampled from this state should have the same [Hamming weight](https://en.wikipedia.org/wiki/Hamming_weight) as in the Hartree-Fock state. Due to the presence of noise in current quantum processors, some measured bitstrings will violate this property. A simple form of postselection would discard these bitstrings, but this is wasteful because those bitstrings might still contain some signal. The self-consistent recovery procedure attempts to recover some of that signal in post-processing. The procedure is iterative and requires as input an estimate of the average occupancies of each orbital in the ground state, which is first computed from the raw samples. The procedure is run in a loop, and each iteration has the following steps:\n",
    "\n",
    "1. For each bitstring that violates the specified symmetries, flip its bits with a probabilistic procedure designed to bring the bitstring closer to the current estimate of the average orbital occupancies, to obtain a new bitstring.\n",
    "2. Collect all of the old and new bitstrings that satisfy the symmetries, and subsample subsets of a fixed size, chosen in advance.\n",
    "3. For each subset of bitstrings, project the Hamiltonian into the subspace spanned by the corresponding basis vectors (see the [previous section](#quantum-chemistry) for a description of these basis vectors), and compute a ground state estimate of the projected Hamiltonian on a classical computer.\n",
    "4. Update the estimate of the average orbital occupancies with the ground state estimate with the lowest energy.\n",
    "\n",
    "### SQD workflow diagram\n",
    "\n",
    "The SQD workflow is depicted in the following diagram:\n",
    "\n",
    "![Workflow diagram of the SQD algorithm](/docs/images/tutorials/improving-energy-estimation-of-a-fermionic-hamiltonian-with-sqd/fd7e816f-4e2e-4dd7-a7da-f71afb9ca68d.avif)"
   ]
  },
  {
   "cell_type": "markdown",
   "id": "88422c4b",
   "metadata": {},
   "source": [
    "## Requirements\n",
    "\n",
    "Before starting this tutorial, ensure that you have the following installed:\n",
    "\n",
    "- Qiskit SDK 1.0 or later with visualization support (`pip install 'qiskit[visualization]'`)\n",
    "- Qiskit Runtime 0.22 or later (`pip install qiskit-ibm-runtime`)\n",
    "- SQD Qiskit addon 0.11 or later (`pip install qiskit-addon-sqd`)\n",
    "- ffsim (`pip install ffsim`)"
   ]
  },
  {
   "cell_type": "markdown",
   "id": "c6e44a31",
   "metadata": {},
   "source": [
    "## Setup"
   ]
  },
  {
   "cell_type": "code",
   "execution_count": 1,
   "id": "6e51c3d8",
   "metadata": {},
   "outputs": [],
   "source": [
    "import pyscf\n",
    "import pyscf.cc\n",
    "import pyscf.mcscf\n",
    "import ffsim\n",
    "import numpy as np\n",
    "import matplotlib.pyplot as plt\n",
    "\n",
    "from qiskit import QuantumCircuit, QuantumRegister\n",
    "from qiskit.transpiler.preset_passmanagers import generate_preset_pass_manager\n",
    "\n",
    "from qiskit_ibm_runtime import QiskitRuntimeService\n",
    "from qiskit_ibm_runtime import SamplerV2 as Sampler"
   ]
  },
  {
   "cell_type": "markdown",
   "id": "afeb054c",
   "metadata": {},
   "source": [
    "## Step 1: Map classical inputs to a quantum problem\n",
    "\n",
    "In this tutorial, we will find an approximation to the ground state of the molecule at equilibrium in the 6-31G basis set. First, we specify the molecule and its properties."
   ]
  },
  {
   "cell_type": "code",
   "execution_count": 2,
   "id": "b821e660",
   "metadata": {},
   "outputs": [
    {
     "name": "stdout",
     "output_type": "stream",
     "text": [
      "converged SCF energy = -108.835236570775\n",
      "CASCI E = -109.046671778080  E(CI) = -32.8155692383188  S^2 = 0.0000000\n"
     ]
    }
   ],
   "source": [
    "# Specify molecule properties\n",
    "open_shell = False\n",
    "spin_sq = 0\n",
    "\n",
    "# Build N2 molecule\n",
    "mol = pyscf.gto.Mole()\n",
    "mol.build(\n",
    "    atom=[[\"N\", (0, 0, 0)], [\"N\", (1.0, 0, 0)]],\n",
    "    basis=\"6-31g\",\n",
    "    symmetry=\"Dooh\",\n",
    ")\n",
    "\n",
    "# Define active space\n",
    "n_frozen = 2\n",
    "active_space = range(n_frozen, mol.nao_nr())\n",
    "\n",
    "# Get molecular integrals\n",
    "scf = pyscf.scf.RHF(mol).run()\n",
    "num_orbitals = len(active_space)\n",
    "n_electrons = int(sum(scf.mo_occ[active_space]))\n",
    "num_elec_a = (n_electrons + mol.spin) // 2\n",
    "num_elec_b = (n_electrons - mol.spin) // 2\n",
    "cas = pyscf.mcscf.CASCI(scf, num_orbitals, (num_elec_a, num_elec_b))\n",
    "mo = cas.sort_mo(active_space, base=0)\n",
    "hcore, nuclear_repulsion_energy = cas.get_h1cas(mo)\n",
    "eri = pyscf.ao2mo.restore(1, cas.get_h2cas(mo), num_orbitals)\n",
    "\n",
    "# Compute exact energy\n",
    "exact_energy = cas.run().e_tot"
   ]
  },
  {
   "cell_type": "markdown",
   "id": "96bfe018",
   "metadata": {},
   "source": [
    "Before constructing the LUCJ ansatz circuit, we first perform a CCSD calculation in the following code cell. The [$t_1$ and $t_2$ amplitudes](https://en.wikipedia.org/wiki/Coupled_cluster#Cluster_operator) from this calculation will be used to initialize the parameters of the ansatz."
   ]
  },
  {
   "cell_type": "code",
   "execution_count": 3,
   "id": "efe83d98",
   "metadata": {},
   "outputs": [
    {
     "name": "stdout",
     "output_type": "stream",
     "text": [
      "E(CCSD) = -109.0398256929734  E_corr = -0.2045891221988306\n"
     ]
    }
   ],
   "source": [
    "# Get CCSD t2 amplitudes for initializing the ansatz\n",
    "ccsd = pyscf.cc.CCSD(\n",
    "    scf, frozen=[i for i in range(mol.nao_nr()) if i not in active_space]\n",
    ").run()\n",
    "t1 = ccsd.t1\n",
    "t2 = ccsd.t2"
   ]
  },
  {
   "attachments": {},
   "cell_type": "markdown",
   "id": "f4d882fa",
   "metadata": {},
   "source": [
    "Now, we use [ffsim](https://github.com/qiskit-community/ffsim) to create the ansatz circuit. Since our molecule has a closed-shell Hartree-Fock state, we use the spin-balanced variant of the UCJ ansatz, [UCJOpSpinBalanced](https://qiskit-community.github.io/ffsim/api/ffsim.html#ffsim.UCJOpSpinBalanced). We pass interaction pairs appropriate for a heavy-hex lattice qubit topology (see the [background section on the LUCJ ansatz](#local-unitary-cluster-jastrow-lucj-ansatz))."
   ]
  },
  {
   "cell_type": "code",
   "execution_count": 4,
   "id": "dd69a86c",
   "metadata": {},
   "outputs": [],
   "source": [
    "n_reps = 1\n",
    "alpha_alpha_indices = [(p, p + 1) for p in range(num_orbitals - 1)]\n",
    "alpha_beta_indices = [(p, p) for p in range(0, num_orbitals, 4)]\n",
    "\n",
    "ucj_op = ffsim.UCJOpSpinBalanced.from_t_amplitudes(\n",
    "    t2=t2,\n",
    "    t1=t1,\n",
    "    n_reps=n_reps,\n",
    "    interaction_pairs=(alpha_alpha_indices, alpha_beta_indices),\n",
    ")\n",
    "\n",
    "nelec = (num_elec_a, num_elec_b)\n",
    "\n",
    "# create an empty quantum circuit\n",
    "qubits = QuantumRegister(2 * num_orbitals, name=\"q\")\n",
    "circuit = QuantumCircuit(qubits)\n",
    "\n",
    "# prepare Hartree-Fock state as the reference state and append it to the quantum circuit\n",
    "circuit.append(ffsim.qiskit.PrepareHartreeFockJW(num_orbitals, nelec), qubits)\n",
    "\n",
    "# apply the UCJ operator to the reference state\n",
    "circuit.append(ffsim.qiskit.UCJOpSpinBalancedJW(ucj_op), qubits)\n",
    "circuit.measure_all()"
   ]
  },
  {
   "cell_type": "markdown",
   "id": "db11bf6d",
   "metadata": {},
   "source": [
    "## Step 2: Optimize problem for quantum hardware execution"
   ]
  },
  {
   "cell_type": "markdown",
   "id": "0760b3f3",
   "metadata": {},
   "source": [
    "Next, we optimize the circuit for a target hardware. Here, we'll use the IBM Sherbrooke QPU. The choice of QPU affects the qubit mapping we use to achieve the \"zig-zag\" pattern described [previously](#local-unitary-cluster-jastrow-lucj-ansatz)."
   ]
  },
  {
   "cell_type": "code",
   "execution_count": 5,
   "id": "53a039d8",
   "metadata": {},
   "outputs": [],
   "source": [
    "service = QiskitRuntimeService()\n",
    "backend = service.backend(\"ibm_torino\")"
   ]
  },
  {
   "cell_type": "markdown",
   "id": "057ebbf6",
   "metadata": {},
   "source": [
    "We recommend the following steps to optimize the ansatz and make it hardware-compatible.\n",
    "\n",
    "- Select physical qubits (`initial_layout`) from the target hardware that adheres to the \"zig-zag\" pattern described previously. Laying out qubits in this pattern leads to an efficient hardware-compatible circuit with less gates.\n",
    "- Generate a staged pass manager using the [generate_preset_pass_manager](/docs/api/qiskit/qiskit.transpiler.generate_preset_pass_manager) function from qiskit with your choice of `backend` and `initial_layout`.\n",
    "- Set the `pre_init` stage of your staged pass manager to `ffsim.qiskit.PRE_INIT`. `ffsim.qiskit.PRE_INIT` includes qiskit transpiler passes that decompose gates into orbital rotations and then merges the orbital rotations, resulting in fewer gates in the final circuit.\n",
    "- Run the pass manager on your circuit."
   ]
  },
  {
   "cell_type": "code",
   "execution_count": 6,
   "id": "7d554aa5",
   "metadata": {},
   "outputs": [
    {
     "name": "stdout",
     "output_type": "stream",
     "text": [
      "Gate counts (w/o pre-init passes): OrderedDict({'sx': 3537, 'rz': 3443, 'cz': 1366, 'x': 196, 'measure': 32, 'barrier': 1})\n",
      "Gate counts (w/ pre-init passes): OrderedDict({'sx': 2188, 'rz': 2086, 'cz': 730, 'x': 61, 'measure': 32, 'barrier': 1})\n"
     ]
    }
   ],
   "source": [
    "spin_a_layout = [27, 26, 25, 35, 44, 43, 42, 54, 61, 60, 59, 72, 78, 77, 76, 91]\n",
    "spin_b_layout = [29, 36, 48, 47, 46, 55, 65, 64, 63, 73, 82, 81, 80, 92, 99, 98]\n",
    "initial_layout = spin_a_layout + spin_b_layout\n",
    "\n",
    "pass_manager = generate_preset_pass_manager(\n",
    "    optimization_level=3, backend=backend, initial_layout=initial_layout\n",
    ")\n",
    "\n",
    "# without PRE_INIT passes\n",
    "isa_circuit = pass_manager.run(circuit)\n",
    "print(f\"Gate counts (w/o pre-init passes): {isa_circuit.count_ops()}\")\n",
    "\n",
    "# with PRE_INIT passes\n",
    "# We will use the circuit generated by this pass manager for hardware execution\n",
    "pass_manager.pre_init = ffsim.qiskit.PRE_INIT\n",
    "isa_circuit = pass_manager.run(circuit)\n",
    "print(f\"Gate counts (w/ pre-init passes): {isa_circuit.count_ops()}\")"
   ]
  },
  {
   "cell_type": "markdown",
   "id": "0cc1edef",
   "metadata": {},
   "source": [
    "## Step 3: Execute using Qiskit primitives"
   ]
  },
  {
   "cell_type": "markdown",
   "id": "cbf7ef9f",
   "metadata": {},
   "source": [
    "After optimizing the circuit for hardware execution, we are ready to run it on the target hardware and collect samples for ground state energy estimation. As we only have one circuit, we will use Qiskit Runtime's [Job execution mode](/docs/guides/execution-modes) and execute our circuit."
   ]
  },
  {
   "cell_type": "code",
   "execution_count": 7,
   "id": "93c1cef3-298e-4deb-8512-769fe94cd5a5",
   "metadata": {},
   "outputs": [],
   "source": [
    "sampler = Sampler(mode=backend)\n",
    "job = sampler.run([isa_circuit], shots=100_000)"
   ]
  },
  {
   "cell_type": "code",
   "execution_count": 8,
   "id": "332ecab3-77e6-473f-b0e7-af30f983393a",
   "metadata": {},
   "outputs": [],
   "source": [
    "primitive_result = job.result()\n",
    "pub_result = primitive_result[0]"
   ]
  },
  {
   "cell_type": "markdown",
   "id": "6df05b6e",
   "metadata": {},
   "source": [
    "## Step 4: Post-process and return result in desired classical format"
   ]
  },
  {
   "cell_type": "markdown",
   "id": "eb704101-0fe8-4d12-b572-b1d844e35a90",
   "metadata": {},
   "source": [
    "Now, we estimate the ground state energy of the Hamiltonian using the `diagonalize_fermionic_hamiltonian` function. This function performs the self-consistent configuration recovery procedure to iteratively refine the noisy quantum samples to improve the energy estimate. We pass a callback function so that we can save the intermediate results for later analysis. See the [API documentation](https://quantum.cloud.ibm.com/docs/en/api/qiskit-addon-sqd/fermion#diagonalize_fermionic_hamiltonian) for explanations of the arguments to `diagonalize_fermionic_hamiltonian`."
   ]
  },
  {
   "cell_type": "code",
   "execution_count": 9,
   "id": "2f32a352",
   "metadata": {},
   "outputs": [
    {
     "name": "stdout",
     "output_type": "stream",
     "text": [
      "Iteration 1\n",
      "\tSubsample 0\n",
      "\t\tEnergy: -109.00151960389553\n",
      "\t\tSubspace dimension: 117649\n",
      "\tSubsample 1\n",
      "\t\tEnergy: -109.0011337319097\n",
      "\t\tSubspace dimension: 129600\n",
      "\tSubsample 2\n",
      "\t\tEnergy: -109.01452408241241\n",
      "\t\tSubspace dimension: 133956\n",
      "Iteration 2\n",
      "\tSubsample 0\n",
      "\t\tEnergy: -109.02430570497631\n",
      "\t\tSubspace dimension: 226576\n",
      "\tSubsample 1\n",
      "\t\tEnergy: -109.02300494098854\n",
      "\t\tSubspace dimension: 222784\n",
      "\tSubsample 2\n",
      "\t\tEnergy: -109.02674106047195\n",
      "\t\tSubspace dimension: 233289\n",
      "Iteration 3\n",
      "\tSubsample 0\n",
      "\t\tEnergy: -109.0312722884365\n",
      "\t\tSubspace dimension: 350464\n",
      "\tSubsample 1\n",
      "\t\tEnergy: -109.03089276237057\n",
      "\t\tSubspace dimension: 348100\n",
      "\tSubsample 2\n",
      "\t\tEnergy: -109.03173051398537\n",
      "\t\tSubspace dimension: 337561\n",
      "Iteration 4\n",
      "\tSubsample 0\n",
      "\t\tEnergy: -109.038094610896\n",
      "\t\tSubspace dimension: 436921\n",
      "\tSubsample 1\n",
      "\t\tEnergy: -109.0360993912322\n",
      "\t\tSubspace dimension: 458329\n",
      "\tSubsample 2\n",
      "\t\tEnergy: -109.0344986593493\n",
      "\t\tSubspace dimension: 426409\n",
      "Iteration 5\n",
      "\tSubsample 0\n",
      "\t\tEnergy: -109.04008503941915\n",
      "\t\tSubspace dimension: 550564\n",
      "\tSubsample 1\n",
      "\t\tEnergy: -109.04047851811104\n",
      "\t\tSubspace dimension: 564001\n",
      "\tSubsample 2\n",
      "\t\tEnergy: -109.04104458952085\n",
      "\t\tSubspace dimension: 555025\n"
     ]
    }
   ],
   "source": [
    "from functools import partial\n",
    "\n",
    "from qiskit_addon_sqd.fermion import (\n",
    "    SCIResult,\n",
    "    diagonalize_fermionic_hamiltonian,\n",
    "    solve_sci_batch,\n",
    ")\n",
    "\n",
    "# SQD options\n",
    "energy_tol = 1e-3\n",
    "occupancies_tol = 1e-3\n",
    "max_iterations = 5\n",
    "\n",
    "# Eigenstate solver options\n",
    "num_batches = 3\n",
    "samples_per_batch = 300\n",
    "symmetrize_spin = True\n",
    "carryover_threshold = 1e-4\n",
    "max_cycle = 200\n",
    "\n",
    "# Pass options to the built-in eigensolver. If you just want to use the defaults,\n",
    "# you can omit this step, in which case you would not specify the sci_solver argument\n",
    "# in the call to diagonalize_fermionic_hamiltonian below.\n",
    "sci_solver = partial(solve_sci_batch, spin_sq=0.0, max_cycle=max_cycle)\n",
    "\n",
    "# List to capture intermediate results\n",
    "result_history = []\n",
    "\n",
    "\n",
    "def callback(results: list[SCIResult]):\n",
    "    result_history.append(results)\n",
    "    iteration = len(result_history)\n",
    "    print(f\"Iteration {iteration}\")\n",
    "    for i, result in enumerate(results):\n",
    "        print(f\"\\tSubsample {i}\")\n",
    "        print(f\"\\t\\tEnergy: {result.energy + nuclear_repulsion_energy}\")\n",
    "        print(\n",
    "            f\"\\t\\tSubspace dimension: {np.prod(result.sci_state.amplitudes.shape)}\"\n",
    "        )\n",
    "\n",
    "\n",
    "result = diagonalize_fermionic_hamiltonian(\n",
    "    hcore,\n",
    "    eri,\n",
    "    pub_result.data.meas,\n",
    "    samples_per_batch=samples_per_batch,\n",
    "    norb=num_orbitals,\n",
    "    nelec=nelec,\n",
    "    num_batches=num_batches,\n",
    "    energy_tol=energy_tol,\n",
    "    occupancies_tol=occupancies_tol,\n",
    "    max_iterations=max_iterations,\n",
    "    sci_solver=sci_solver,\n",
    "    symmetrize_spin=symmetrize_spin,\n",
    "    carryover_threshold=carryover_threshold,\n",
    "    callback=callback,\n",
    "    seed=12345,\n",
    ")"
   ]
  },
  {
   "cell_type": "markdown",
   "id": "9d78906b-4759-4506-9c69-85d4e67766b3",
   "metadata": {},
   "source": [
    "### Visualize the results\n",
    "\n",
    "The first plot shows that after a couple of iterations we estimate the ground state energy within ``~6 mH`` (chemical accuracy is typically accepted to be ``1 kcal/mol`` $\\approx$ ``1.6 mH``). The energy can be improved by allowing more iterations of configuration recovery or increasing the number of samples per batch.\n",
    "\n",
    "The second plot shows the average occupancy of each spatial orbital after the final iteration. We can see that both the spin-up and spin-down electrons occupy the first five orbitals with high probability in our solutions."
   ]
  },
  {
   "cell_type": "code",
   "execution_count": 10,
   "id": "caffd888-e89c-4aa9-8bae-4d1bb723b35e",
   "metadata": {},
   "outputs": [
    {
     "data": {
      "image/png": "[encoded data removed]",
      "text/plain": [
       "<Figure size 1200x600 with 2 Axes>"
      ]
     },
     "metadata": {},
     "output_type": "display_data"
    }
   ],
   "source": [
    "# Data for energies plot\n",
    "x1 = range(len(result_history))\n",
    "min_e = [\n",
    "    min(result, key=lambda res: res.energy).energy + nuclear_repulsion_energy\n",
    "    for result in result_history\n",
    "]\n",
    "e_diff = [abs(e - exact_energy) for e in min_e]\n",
    "yt1 = [1.0, 1e-1, 1e-2, 1e-3, 1e-4]\n",
    "\n",
    "# Chemical accuracy (+/- 1 milli-Hartree)\n",
    "chem_accuracy = 0.001\n",
    "\n",
    "# Data for avg spatial orbital occupancy\n",
    "y2 = np.sum(result.orbital_occupancies, axis=0)\n",
    "x2 = range(len(y2))\n",
    "\n",
    "fig, axs = plt.subplots(1, 2, figsize=(12, 6))\n",
    "\n",
    "# Plot energies\n",
    "axs[0].plot(x1, e_diff, label=\"energy error\", marker=\"o\")\n",
    "axs[0].set_xticks(x1)\n",
    "axs[0].set_xticklabels(x1)\n",
    "axs[0].set_yticks(yt1)\n",
    "axs[0].set_yticklabels(yt1)\n",
    "axs[0].set_yscale(\"log\")\n",
    "axs[0].set_ylim(1e-4)\n",
    "axs[0].axhline(\n",
    "    y=chem_accuracy,\n",
    "    color=\"#BF5700\",\n",
    "    linestyle=\"--\",\n",
    "    label=\"chemical accuracy\",\n",
    ")\n",
    "axs[0].set_title(\"Approximated Ground State Energy Error vs SQD Iterations\")\n",
    "axs[0].set_xlabel(\"Iteration Index\", fontdict={\"fontsize\": 12})\n",
    "axs[0].set_ylabel(\"Energy Error (Ha)\", fontdict={\"fontsize\": 12})\n",
    "axs[0].legend()\n",
    "\n",
    "# Plot orbital occupancy\n",
    "axs[1].bar(x2, y2, width=0.8)\n",
    "axs[1].set_xticks(x2)\n",
    "axs[1].set_xticklabels(x2)\n",
    "axs[1].set_title(\"Avg Occupancy per Spatial Orbital\")\n",
    "axs[1].set_xlabel(\"Orbital Index\", fontdict={\"fontsize\": 12})\n",
    "axs[1].set_ylabel(\"Avg Occupancy\", fontdict={\"fontsize\": 12})\n",
    "\n",
    "plt.tight_layout()\n",
    "plt.show()"
   ]
  },
  {
   "cell_type": "markdown",
   "id": "4c3c04c1",
   "metadata": {},
   "source": [
    "## Tutorial survey\n",
    "\n",
    "Please take one minute to provide feedback on this tutorial. Your insights will help us improve our content offerings and user experience.\n",
    "\n",
    "[Link to survey](https://your.feedback.ibm.com/jfe/form/SV_8cECHVBBWBjt72S)"
   ]
  }
 ],
 "metadata": {
  "description": "Use the sample-based quantum diagonalization algorithm to simulate a nitrogen molecule using noisy quantum hardware.",
  "kernelspec": {
   "display_name": ".venv",
   "language": "python",
   "name": "python3"
  },
  "language_info": {
   "codemirror_mode": {
    "name": "ipython",
    "version": 3
   },
   "file_extension": ".py",
   "mimetype": "text/x-python",
   "name": "python",
   "nbconvert_exporter": "python",
   "pygments_lexer": "ipython3",
   "version": "3.13.3"
  },
  "platform": "cloud",
  "title": "Sample-based quantum diagonalization of a chemistry Hamiltonian\n"
 },
 "nbformat": 4,
 "nbformat_minor": 5
}
