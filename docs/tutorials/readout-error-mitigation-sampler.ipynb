{
 "cells": [
  {
   "cell_type": "markdown",
   "id": "2e8ed12a-7181-4f97-8c82-930d69c6d205",
   "metadata": {},
   "source": [
    "{/* cspell:ignore braket, Zgrm, newcommand, probs, quasis, topten */}\n",
    "# Readout error mitigation for the Sampler primitive using M3\n",
    "$$\n",
    "\\newcommand{\\Mm}{M}\n",
    "\\newcommand{\\pideal}{\\vec{p}}\n",
    "\\newcommand{\\pnoisy}{\\tilde{p}}\n",
    "$$\n",
    "\n",
    "*Estimated QPU usage: 1 minute (tested on IBM `ibm_kingston`)*\n",
    "\n",
    "## Background\n",
    "\n",
    "Unlike the Estimator primitive, the Sampler primitive does not have built-in support for error mitigation.\n",
    "Several of the methods supported by the Estimator are specifically designed for expectation values, and hence are not applicable to the Sampler primitive.\n",
    "However, readout error mitigation is a highly effective method that is also applicable to the Sampler primitive.\n",
    "This tutorial explains how to use the [M3 Qiskit addon](https://qiskit.github.io/qiskit-addon-mthree/) to mitigate readout error for the Sampler primitive.\n",
    "\n",
    "The M3 Qiskit addon implements an efficient method for readout error mitigation.\n",
    "\n",
    "### What is readout error?\n",
    "\n",
    "Immediately before measurement, the state of a qubit register is\n",
    "described by a superposition of computational basis states,\n",
    "or by a density matrix.\n",
    "Measurement of the qubit register into a classical bit register then proceeds in two steps.\n",
    "First the quantum measurement proper is performed.\n",
    "This means that the state of the qubit register\n",
    "is projected onto a single basis state that is characterized\n",
    "by a string of $1$s and $0$s.\n",
    "The second step consists of reading the bitstring characterizing this basis state\n",
    "and writing it into classical computer memory.\n",
    "We call this step *readout*.\n",
    "It turns out that readout error is more important than error due to to incorrectly collapsing the state.\n",
    "This makes sense when you recall that readout requires detecting a microscopic\n",
    "quantum state and amplifying it to the macroscopic realm. A readout resonator is coupled to\n",
    "the (transmon) qubit, thereby experiencing a very small frequency shift. A microwave pulse\n",
    "is then bounced off of the resonator, in turn experiencing small changes in its\n",
    "characteristics.  The reflected pulse is then amplified and analyzed.  This is a delicate\n",
    "process subject to a host of errors.\n",
    "\n",
    "The important point is that, while both quantum measurement and readout are subject to error, the\n",
    "latter incurs the dominant error, called readout error.\n",
    "In the following we be concerned only with readout error."
   ]
  },
  {
   "cell_type": "markdown",
   "id": "dbae7c4f-6b3d-44fa-94b0-21d82cbcbb75",
   "metadata": {},
   "source": [
    "## Requirements\n",
    "\n",
    "Before starting this tutorial, ensure that you have the following installed:\n",
    "\n",
    "- Qiskit SDK 2.1 or later with visualization support (`pip install 'qiskit[visualization]'`)\n",
    "- Qiskit Runtime 0.41 or later (`pip install qiskit-ibm-runtime`)\n",
    "- M3 Qiskit addon 3.0 (`pip install mthree`)"
   ]
  },
  {
   "cell_type": "markdown",
   "id": "ac289149-29d5-4366-89b0-671752adbfe1",
   "metadata": {},
   "source": [
    "## Setup"
   ]
  },
  {
   "cell_type": "code",
   "execution_count": null,
   "id": "02f51906-f2a6-48bc-850a-3ac8b381a6df",
   "metadata": {},
   "outputs": [],
   "source": [
    "from collections.abc import Iterator, Sequence\n",
    "from random import Random\n",
    "from qiskit.circuit import (\n",
    "    CircuitInstruction,\n",
    "    QuantumCircuit,\n",
    "    QuantumRegister,\n",
    "    Qubit,\n",
    ")\n",
    "from qiskit.circuit.library import CZGate, HGate, XGate\n",
    "from qiskit.transpiler.preset_passmanagers import generate_preset_pass_manager\n",
    "from qiskit_ibm_runtime import QiskitRuntimeService\n",
    "import timeit\n",
    "import matplotlib.pyplot as plt\n",
    "from qiskit_ibm_runtime import SamplerV2 as Sampler\n",
    "import mthree"
   ]
  },
  {
   "cell_type": "markdown",
   "id": "860c110b-553b-47ed-a48f-32903de3c6cc",
   "metadata": {},
   "source": [
    "## Step 1: Map classical inputs to a quantum problem"
   ]
  },
  {
   "cell_type": "markdown",
   "id": "dc6a9e24-ba5a-4eed-a0f8-b5cee8c9ff41",
   "metadata": {},
   "source": [
    "First, we write the functions to implement the hidden shift problem as a `QuantumCircuit`."
   ]
  },
  {
   "cell_type": "code",
   "execution_count": null,
   "id": "e56cf257-66f8-4c32-90e9-52239f4b4694",
   "metadata": {
    "editable": true,
    "scrolled": true,
    "slideshow": {
     "slide_type": ""
    },
    "tags": []
   },
   "outputs": [],
   "source": [
    "def apply_hadamards(qubits: Sequence[Qubit]) -> Iterator[CircuitInstruction]:\n",
    "    \"\"\"Apply a Hadamard gate to every qubit.\"\"\"\n",
    "    for q in qubits:\n",
    "        yield CircuitInstruction(HGate(), [q], [])\n",
    "\n",
    "\n",
    "def apply_shift(\n",
    "    qubits: Sequence[Qubit], shift: int\n",
    ") -> Iterator[CircuitInstruction]:\n",
    "    \"\"\"Apply X gates where the bits of the shift are equal to 1.\"\"\"\n",
    "    for i, q in zip(range(shift.bit_length()), qubits):\n",
    "        if shift >> i & 1:\n",
    "            yield CircuitInstruction(XGate(), [q], [])\n",
    "\n",
    "\n",
    "def oracle_f(qubits: Sequence[Qubit]) -> Iterator[CircuitInstruction]:\n",
    "    \"\"\"Apply the f oracle.\"\"\"\n",
    "    for i in range(0, len(qubits) - 1, 2):\n",
    "        yield CircuitInstruction(CZGate(), [qubits[i], qubits[i + 1]])\n",
    "\n",
    "\n",
    "def oracle_g(\n",
    "    qubits: Sequence[Qubit], shift: int\n",
    ") -> Iterator[CircuitInstruction]:\n",
    "    \"\"\"Apply the g oracle.\"\"\"\n",
    "    yield from apply_shift(qubits, shift)\n",
    "    yield from oracle_f(qubits)\n",
    "    yield from apply_shift(qubits, shift)\n",
    "\n",
    "\n",
    "def determine_hidden_shift(\n",
    "    qubits: Sequence[Qubit], shift: int\n",
    ") -> Iterator[CircuitInstruction]:\n",
    "    \"\"\"Determine the hidden shift.\"\"\"\n",
    "    yield from apply_hadamards(qubits)\n",
    "    yield from oracle_g(qubits, shift)\n",
    "    # We omit this layer in exchange for post processing\n",
    "    # yield from apply_hadamards(qubits)\n",
    "    yield from oracle_f(qubits)\n",
    "    yield from apply_hadamards(qubits)\n",
    "\n",
    "\n",
    "def run_hidden_shift_circuit(n_qubits, rng):\n",
    "    hidden_shift = rng.getrandbits(n_qubits)\n",
    "\n",
    "    qubits = QuantumRegister(n_qubits, name=\"q\")\n",
    "    circuit = QuantumCircuit.from_instructions(\n",
    "        determine_hidden_shift(qubits, hidden_shift), qubits=qubits\n",
    "    )\n",
    "    circuit.measure_all()\n",
    "    # Format the hidden shift as a string.\n",
    "    hidden_shift_string = format(hidden_shift, f\"0{n_qubits}b\")\n",
    "    return (circuit, hidden_shift, hidden_shift_string)\n",
    "\n",
    "\n",
    "def display_circuit(circuit):\n",
    "    return circuit.remove_final_measurements(inplace=False).draw(\n",
    "        \"mpl\", idle_wires=False, scale=0.5, fold=-1\n",
    "    )"
   ]
  },
  {
   "cell_type": "markdown",
   "id": "c012504a-5e17-4fd0-83f1-2b69326f0c94",
   "metadata": {},
   "source": [
    "We'll start with a fairly small example:"
   ]
  },
  {
   "cell_type": "code",
   "execution_count": 2,
   "id": "d5437d6f-4a15-4253-89f2-071bd4492456",
   "metadata": {},
   "outputs": [
    {
     "name": "stdout",
     "output_type": "stream",
     "text": [
      "Hidden shift string 011010\n"
     ]
    },
    {
     "data": {
      "text/plain": [
       "<Image src=\"/docs/images/tutorials/readout-error-mitigation-sampler/extracted-outputs/029ab8d8-ccb1-49b3-8d8e-3d30c6ce7da3-1.avif\" alt=\"Output of the previous code cell\" />"
      ]
     },
     "execution_count": 2,
     "metadata": {},
     "output_type": "execute_result"
    }
   ],
   "source": [
    "n_qubits = 6\n",
    "random_seed = 12345\n",
    "rng = Random(random_seed)\n",
    "circuit, hidden_shift, hidden_shift_string = run_hidden_shift_circuit(\n",
    "    n_qubits, rng\n",
    ")\n",
    "\n",
    "print(f\"Hidden shift string {hidden_shift_string}\")\n",
    "\n",
    "display_circuit(circuit)"
   ]
  },
  {
   "cell_type": "markdown",
   "id": "acf52c8e-68d9-42df-978b-51c3b9551818",
   "metadata": {
    "editable": true,
    "slideshow": {
     "slide_type": ""
    },
    "tags": []
   },
   "source": [
    "## Step 2: Optimize circuits for quantum hardware execution"
   ]
  },
  {
   "cell_type": "code",
   "execution_count": 3,
   "id": "e9798506-7361-4237-95c1-546a5f44b5b7",
   "metadata": {},
   "outputs": [
    {
     "data": {
      "text/plain": [
       "['shift 011010', 'n_qubits 6', 'seed = 12345']"
      ]
     },
     "execution_count": 3,
     "metadata": {},
     "output_type": "execute_result"
    }
   ],
   "source": [
    "job_tags = [\n",
    "    f\"shift {hidden_shift_string}\",\n",
    "    f\"n_qubits {n_qubits}\",\n",
    "    f\"seed = {random_seed}\",\n",
    "]\n",
    "job_tags"
   ]
  },
  {
   "cell_type": "code",
   "execution_count": null,
   "id": "355f319d-cbb5-4ff9-8b0c-1344c44c3e17",
   "metadata": {
    "editable": true,
    "scrolled": true,
    "slideshow": {
     "slide_type": ""
    },
    "tags": []
   },
   "outputs": [
    {
     "name": "stdout",
     "output_type": "stream",
     "text": [
      "Using backend ibm_kingston\n"
     ]
    },
    {
     "data": {
      "text/plain": [
       "<Image src=\"/docs/images/tutorials/readout-error-mitigation-sampler/extracted-outputs/91a9195c-d527-42c1-8942-330ee6591c4c-1.avif\" alt=\"Output of the previous code cell\" />"
      ]
     },
     "execution_count": 4,
     "metadata": {},
     "output_type": "execute_result"
    }
   ],
   "source": [
    "# Uncomment this to run the circuits on a quantum computer on IBMCloud.\n",
    "service = QiskitRuntimeService()\n",
    "backend = service.backend(\"ibm_kingston\")\n",
    "\n",
    "# from qiskit_ibm_runtime.fake_provider import FakeMelbourneV2\n",
    "# backend = FakeMelbourneV2()\n",
    "# backend.refresh(service)\n",
    "\n",
    "print(f\"Using backend {backend.name}\")\n",
    "\n",
    "\n",
    "def get_isa_circuit(circuit, backend):\n",
    "    pass_manager = generate_preset_pass_manager(\n",
    "        optimization_level=3, backend=backend, seed_transpiler=1234\n",
    "    )\n",
    "    isa_circuit = pass_manager.run(circuit)\n",
    "    return isa_circuit\n",
    "\n",
    "\n",
    "isa_circuit = get_isa_circuit(circuit, backend)\n",
    "display_circuit(isa_circuit)"
   ]
  },
  {
   "cell_type": "markdown",
   "id": "18e5b2cb-4128-4db7-a720-6455da7ed5fb",
   "metadata": {},
   "source": [
    "## Step 3: Execute circuits using Qiskit Primitives"
   ]
  },
  {
   "cell_type": "code",
   "execution_count": null,
   "id": "b0b08147-33e6-41ef-a0ef-8d9f326441c0",
   "metadata": {},
   "outputs": [],
   "source": [
    "# submit job for solving the hidden shift problem using the Sampler primitive\n",
    "NUM_SHOTS = 50_000\n",
    "\n",
    "\n",
    "def run_sampler(backend, isa_circuit, num_shots):\n",
    "    sampler = Sampler(mode=backend)\n",
    "    sampler.options.environment.job_tags\n",
    "    pubs = [(isa_circuit, None, NUM_SHOTS)]\n",
    "    job = sampler.run(pubs)\n",
    "    return job\n",
    "\n",
    "\n",
    "def setup_mthree_mitigation(isa_circuit, backend):\n",
    "    # retrieve the final qubit mapping so mthree knows which qubits to calibrate\n",
    "    qubit_mapping = mthree.utils.final_measurement_mapping(isa_circuit)\n",
    "\n",
    "    # submit jobs for readout error calibration\n",
    "    mit = mthree.M3Mitigation(backend)\n",
    "    mit.cals_from_system(qubit_mapping, rep_delay=None)\n",
    "\n",
    "    return mit, qubit_mapping"
   ]
  },
  {
   "cell_type": "code",
   "execution_count": 6,
   "id": "25347375-fd2f-4ac7-aed4-8338008968ff",
   "metadata": {},
   "outputs": [],
   "source": [
    "job = run_sampler(backend, isa_circuit, NUM_SHOTS)\n",
    "mit, qubit_mapping = setup_mthree_mitigation(isa_circuit, backend)"
   ]
  },
  {
   "cell_type": "markdown",
   "id": "dc289cb8-0139-4ea9-9ca8-b17f315289fb",
   "metadata": {},
   "source": [
    "## Step 4: Post-process and return results in classical format\n",
    "\n",
    "In the theoretical discussion above, we determined that for input $ab$, we expect output $ba$.\n",
    "An additional complication is that, in order to have a simpler (pre-transpiled) circuit, we inserted the required CZ gates between\n",
    "neighboring pairs of qubits. This amounts to interleaving the bitstrings $a$ and $b$ as $a1 b1 a2 b2 \\ldots$.\n",
    "The output string $ba$ will be interleaved in a similar way: $b1 a1 b2 a2 \\ldots$. The function `unscramble` below\n",
    "transforms the output string from $b1 a1 b2 a2 \\ldots$ to $a1 b1 a2 b2 \\ldots$ so that the input and output strings may be compared directly."
   ]
  },
  {
   "cell_type": "code",
   "execution_count": 7,
   "id": "0eca953b-22ea-4f74-a1c3-4dc2d51de2dd",
   "metadata": {},
   "outputs": [],
   "source": [
    "# retrieve bitstring counts\n",
    "def get_bitstring_counts(job):\n",
    "    result = job.result()\n",
    "    pub_result = result[0]\n",
    "    counts = pub_result.data.meas.get_counts()\n",
    "    return counts, pub_result"
   ]
  },
  {
   "cell_type": "code",
   "execution_count": 8,
   "id": "9e3986b4-e7ba-42aa-ace1-2dcdcdaf4fdb",
   "metadata": {},
   "outputs": [],
   "source": [
    "counts, pub_result = get_bitstring_counts(job)"
   ]
  },
  {
   "cell_type": "markdown",
   "id": "fb0393f6-b77e-4d8b-be1c-f24a914138de",
   "metadata": {},
   "source": [
    "The Hamming distance between two bit strings is the number of indices at which the bits differ."
   ]
  },
  {
   "cell_type": "code",
   "execution_count": 9,
   "id": "8c586d2b-c303-44b4-a89f-c1dfe56868b1",
   "metadata": {},
   "outputs": [],
   "source": [
    "def hamming_distance(s1, s2):\n",
    "    weight = 0\n",
    "    for c1, c2 in zip(s1, s2):\n",
    "        (c1, c2) = (int(c1), int(c2))\n",
    "        if (c1 == 1 and c2 == 1) or (c1 == 0 and c2 == 0):\n",
    "            weight += 1\n",
    "\n",
    "    return weight"
   ]
  },
  {
   "cell_type": "code",
   "execution_count": 10,
   "id": "cceaec67-f33f-4472-bdd9-c9a870635bb2",
   "metadata": {
    "scrolled": true
   },
   "outputs": [],
   "source": [
    "# Replace string of form a1b1a2b2... with b1a1b2a1...\n",
    "# That is, reverse order of successive pairs of bits.\n",
    "def unscramble(bitstring):\n",
    "    ps = [bitstring[i : i + 2][::-1] for i in range(0, len(bitstring), 2)]\n",
    "    return \"\".join(ps)\n",
    "\n",
    "\n",
    "def find_hidden_shift_bitstring(counts, hidden_shift_string):\n",
    "    # convert counts to probabilities\n",
    "    probs = {\n",
    "        unscramble(bitstring): count / NUM_SHOTS\n",
    "        for bitstring, count in counts.items()\n",
    "    }\n",
    "\n",
    "    # Retrieve the most probable bitstring.\n",
    "    most_probable = max(probs, key=lambda x: probs[x])\n",
    "\n",
    "    print(f\"Expected hidden shift string: {hidden_shift_string}\")\n",
    "    if most_probable == hidden_shift_string:\n",
    "        print(\"Most probable bitstring matches hidden shift 😊.\")\n",
    "    else:\n",
    "        print(\"Most probable bitstring didn't match hidden shift ☹️.\")\n",
    "    print(\"Top 10 bitstrings and their probabilities:\")\n",
    "    display(\n",
    "        {\n",
    "            k: (v, hamming_distance(hidden_shift_string, k))\n",
    "            for k, v in sorted(\n",
    "                probs.items(), key=lambda x: x[1], reverse=True\n",
    "            )[:10]\n",
    "        }\n",
    "    )\n",
    "\n",
    "    return probs, most_probable"
   ]
  },
  {
   "cell_type": "code",
   "execution_count": 11,
   "id": "8bea3db7-e51f-4830-83e8-9c89a52976de",
   "metadata": {},
   "outputs": [
    {
     "name": "stdout",
     "output_type": "stream",
     "text": [
      "Expected hidden shift string: 011010\n",
      "Most probable bitstring matches hidden shift 😊.\n",
      "Top 10 bitstrings and their probabilities:\n"
     ]
    },
    {
     "data": {
      "text/plain": [
       "{'011010': (0.9743, 6),\n",
       " '001010': (0.00812, 5),\n",
       " '010010': (0.0063, 5),\n",
       " '011000': (0.00554, 5),\n",
       " '011011': (0.00492, 5),\n",
       " '011110': (0.00044, 5),\n",
       " '001000': (0.00012, 4),\n",
       " '010000': (8e-05, 4),\n",
       " '001011': (6e-05, 4),\n",
       " '000010': (6e-05, 4)}"
      ]
     },
     "metadata": {},
     "output_type": "display_data"
    }
   ],
   "source": [
    "probs, most_probable = find_hidden_shift_bitstring(\n",
    "    counts, hidden_shift_string\n",
    ")"
   ]
  },
  {
   "cell_type": "markdown",
   "id": "27fc0c53-ce72-4ab4-9d10-9c96e9c0aaff",
   "metadata": {},
   "source": [
    "Let's record the probability of the most probable bitstring before applying readout error mitigation with M3."
   ]
  },
  {
   "cell_type": "code",
   "execution_count": 12,
   "id": "4982bc79-f6a9-4b6c-85e1-d6241b281433",
   "metadata": {},
   "outputs": [
    {
     "data": {
      "text/plain": [
       "0.9743"
      ]
     },
     "execution_count": 12,
     "metadata": {},
     "output_type": "execute_result"
    }
   ],
   "source": [
    "max_probability_before_M3 = probs[most_probable]\n",
    "max_probability_before_M3"
   ]
  },
  {
   "cell_type": "markdown",
   "id": "76f2fcb0-e12a-493a-97c6-542fdd76f710",
   "metadata": {},
   "source": [
    "Now we apply the readout correction learned by M3 to the counts.\n",
    "The function `apply_corrections` returns a quasi-probability distribution. This is a list of `float`s that sum to one. But some values might be negative."
   ]
  },
  {
   "cell_type": "code",
   "execution_count": 13,
   "id": "d8617169-c2a3-40a3-b658-0f00f958cca6",
   "metadata": {},
   "outputs": [],
   "source": [
    "def perform_mitigation(mit, counts, qubit_mapping):\n",
    "    # mitigate readout error\n",
    "    quasis = mit.apply_correction(counts, qubit_mapping)\n",
    "\n",
    "    # print results\n",
    "    most_probable_after_m3 = unscramble(max(quasis, key=lambda x: quasis[x]))\n",
    "\n",
    "    is_hidden_shift_identified = most_probable_after_m3 == hidden_shift_string\n",
    "    if is_hidden_shift_identified:\n",
    "        print(\"Most probable bitstring matches hidden shift 😊.\")\n",
    "    else:\n",
    "        print(\"Most probable bitstring didn't match hidden shift ☹️.\")\n",
    "    print(\"Top 10 bitstrings and their quasi-probabilities:\")\n",
    "    topten = {\n",
    "        unscramble(k): f\"{v:.2e}\"\n",
    "        for k, v in sorted(quasis.items(), key=lambda x: x[1], reverse=True)[\n",
    "            :10\n",
    "        ]\n",
    "    }\n",
    "    max_probability_after_M3 = float(topten[most_probable_after_m3])\n",
    "    display(topten)\n",
    "\n",
    "    return max_probability_after_M3, is_hidden_shift_identified"
   ]
  },
  {
   "cell_type": "code",
   "execution_count": 14,
   "id": "5139cf9e-be91-49fd-a817-939ed073e938",
   "metadata": {},
   "outputs": [
    {
     "name": "stdout",
     "output_type": "stream",
     "text": [
      "Expected hidden shift string: 011010\n",
      "Most probable bitstring matches hidden shift 😊.\n",
      "Top 10 bitstrings and their quasi-probabilities:\n"
     ]
    },
    {
     "data": {
      "text/plain": [
       "{'011010': '1.01e+00',\n",
       " '001010': '8.75e-04',\n",
       " '001000': '7.38e-05',\n",
       " '010000': '4.51e-05',\n",
       " '111000': '2.18e-05',\n",
       " '001011': '1.74e-05',\n",
       " '000010': '6.42e-06',\n",
       " '011001': '-7.18e-06',\n",
       " '011000': '-4.53e-04',\n",
       " '010010': '-1.28e-03'}"
      ]
     },
     "metadata": {},
     "output_type": "display_data"
    }
   ],
   "source": [
    "print(f\"Expected hidden shift string: {hidden_shift_string}\")\n",
    "max_probability_after_M3, is_hidden_shift_identified = perform_mitigation(\n",
    "    mit, counts, qubit_mapping\n",
    ")"
   ]
  },
  {
   "cell_type": "markdown",
   "id": "a6d9ab76-5a96-4654-8381-2b1540b31e1b",
   "metadata": {},
   "source": [
    "#### Comparing identifying the hidden shift string before and after applying M3 correction"
   ]
  },
  {
   "cell_type": "code",
   "execution_count": 15,
   "id": "1d7e1ca3-2c4d-4982-8f81-767b796ad110",
   "metadata": {},
   "outputs": [],
   "source": [
    "def compare_before_and_after_M3(\n",
    "    max_probability_before_M3,\n",
    "    max_probability_after_M3,\n",
    "    is_hidden_shift_identified,\n",
    "):\n",
    "    is_probability_improved = (\n",
    "        max_probability_after_M3 > max_probability_before_M3\n",
    "    )\n",
    "    print(f\"Most probable probability before M3: {max_probability_before_M3}\")\n",
    "    print(f\"Most probable probability after M3: {max_probability_after_M3}\")\n",
    "    if is_hidden_shift_identified and is_probability_improved:\n",
    "        print(\"Readout error mitigation effective! 😊\")\n",
    "    else:\n",
    "        print(\"Readout error mitigation not effective. ☹️\")"
   ]
  },
  {
   "cell_type": "code",
   "execution_count": 16,
   "id": "1cd627ee-c03a-4279-8409-3be53234f2bc",
   "metadata": {},
   "outputs": [
    {
     "name": "stdout",
     "output_type": "stream",
     "text": [
      "Most probable probability before M3: 0.9743\n",
      "Most probable probability after M3: 1.01\n",
      "Readout error mitigation effective! 😊\n"
     ]
    }
   ],
   "source": [
    "compare_before_and_after_M3(\n",
    "    max_probability_before_M3,\n",
    "    max_probability_after_M3,\n",
    "    is_hidden_shift_identified,\n",
    ")"
   ]
  },
  {
   "cell_type": "markdown",
   "id": "8565e2f3-1159-4f75-a95d-2b230d1c2fb6",
   "metadata": {},
   "source": [
    "### Plot how CPU time required by M3 scales with shots"
   ]
  },
  {
   "cell_type": "code",
   "execution_count": null,
   "id": "2c92b3ea-c6cd-463c-9d9f-0dc406c018e9",
   "metadata": {},
   "outputs": [
    {
     "name": "stdout",
     "output_type": "stream",
     "text": [
      "Applying M3 correction to 5000 shots...\n",
      "\tDone in 0.003321983851492405 seconds.\n",
      "Applying M3 correction to 7500 shots...\n",
      "\tDone in 0.004425413906574249 seconds.\n",
      "Applying M3 correction to 10000 shots...\n",
      "\tDone in 0.006366567220538855 seconds.\n",
      "Applying M3 correction to 12500 shots...\n",
      "\tDone in 0.0071477219462394714 seconds.\n",
      "Applying M3 correction to 15000 shots...\n",
      "\tDone in 0.00860048783943057 seconds.\n",
      "Applying M3 correction to 17500 shots...\n",
      "\tDone in 0.010026784148067236 seconds.\n",
      "Applying M3 correction to 20000 shots...\n",
      "\tDone in 0.011459112167358398 seconds.\n",
      "Applying M3 correction to 22500 shots...\n",
      "\tDone in 0.012727141845971346 seconds.\n",
      "Applying M3 correction to 25000 shots...\n",
      "\tDone in 0.01406092382967472 seconds.\n",
      "Applying M3 correction to 27500 shots...\n",
      "\tDone in 0.01546052098274231 seconds.\n",
      "Applying M3 correction to 30000 shots...\n",
      "\tDone in 0.016769016161561012 seconds.\n",
      "Applying M3 correction to 32500 shots...\n",
      "\tDone in 0.019537431187927723 seconds.\n",
      "Applying M3 correction to 35000 shots...\n",
      "\tDone in 0.019739801064133644 seconds.\n",
      "Applying M3 correction to 37500 shots...\n",
      "\tDone in 0.021093040239065886 seconds.\n",
      "Applying M3 correction to 40000 shots...\n",
      "\tDone in 0.022840639110654593 seconds.\n",
      "Applying M3 correction to 42500 shots...\n",
      "\tDone in 0.023974396288394928 seconds.\n",
      "Applying M3 correction to 45000 shots...\n",
      "\tDone in 0.026412792038172483 seconds.\n",
      "Applying M3 correction to 47500 shots...\n",
      "\tDone in 0.026364430785179138 seconds.\n",
      "Applying M3 correction to 50000 shots...\n",
      "\tDone in 0.02820305060595274 seconds.\n"
     ]
    },
    {
     "data": {
      "text/plain": [
       "Text(0.5, 1.0, 'Time to apply M3 correction')"
      ]
     },
     "execution_count": 17,
     "metadata": {},
     "output_type": "execute_result"
    },
    {
     "data": {
      "text/plain": [
       "<Image src=\"/docs/images/tutorials/readout-error-mitigation-sampler/extracted-outputs/6748157a-7b65-43de-8cfe-a5b1cc1d5b25-2.avif\" alt=\"Output of the previous code cell\" />"
      ]
     },
     "metadata": {},
     "output_type": "display_data"
    }
   ],
   "source": [
    "# Collect samples for numbers of shots varying from 5000 to 25000.\n",
    "shots_range = range(5000, NUM_SHOTS + 1, 2500)\n",
    "times = []\n",
    "for shots in shots_range:\n",
    "    print(f\"Applying M3 correction to {shots} shots...\")\n",
    "    t0 = timeit.default_timer()\n",
    "    _ = mit.apply_correction(\n",
    "        pub_result.data.meas.slice_shots(range(shots)).get_counts(),\n",
    "        qubit_mapping,\n",
    "    )\n",
    "    t1 = timeit.default_timer()\n",
    "    print(f\"\\tDone in {t1 - t0} seconds.\")\n",
    "    times.append(t1 - t0)\n",
    "\n",
    "fig, ax = plt.subplots()\n",
    "ax.plot(shots_range, times, \"o--\")\n",
    "ax.set_xlabel(\"Shots\")\n",
    "ax.set_ylabel(\"Time (s)\")\n",
    "ax.set_title(\"Time to apply M3 correction\")"
   ]
  },
  {
   "cell_type": "markdown",
   "id": "6e111e7d-5900-4241-87d8-47cfef17522e",
   "metadata": {},
   "source": [
    "#### Interpreting the plot\n",
    "\n",
    "The plot above shows that the time required to apply M3 correction scales linearly in the number of shots."
   ]
  },
  {
   "cell_type": "markdown",
   "id": "251e3d77-3a64-440e-9127-2413cf2266c6",
   "metadata": {},
   "source": [
    "# Scaling up!"
   ]
  },
  {
   "cell_type": "code",
   "execution_count": 18,
   "id": "0a679ebf-f757-4d1a-aa23-02f546e0c27d",
   "metadata": {
    "jp-MarkdownHeadingCollapsed": true
   },
   "outputs": [
    {
     "name": "stdout",
     "output_type": "stream",
     "text": [
      "Hidden shift string 00000010100110101011101110010001010000110011101001101010101001111001100110000111\n"
     ]
    }
   ],
   "source": [
    "n_qubits = 80\n",
    "rng = Random(12345)\n",
    "circuit, hidden_shift, hidden_shift_string = run_hidden_shift_circuit(\n",
    "    n_qubits, rng\n",
    ")\n",
    "\n",
    "print(f\"Hidden shift string {hidden_shift_string}\")"
   ]
  },
  {
   "cell_type": "code",
   "execution_count": 19,
   "id": "dd8b8a99-4ca6-4bed-bfa7-6fa73b5fc348",
   "metadata": {},
   "outputs": [],
   "source": [
    "isa_circuit = get_isa_circuit(circuit, backend)"
   ]
  },
  {
   "cell_type": "code",
   "execution_count": 20,
   "id": "26dca492-4aa4-4641-9e7d-09384b22f768",
   "metadata": {},
   "outputs": [],
   "source": [
    "job = run_sampler(backend, isa_circuit, NUM_SHOTS)\n",
    "mit, qubit_mapping = setup_mthree_mitigation(isa_circuit, backend)"
   ]
  },
  {
   "cell_type": "code",
   "execution_count": 21,
   "id": "bfbc1154-a3e8-4793-ad2b-20ad819127ad",
   "metadata": {},
   "outputs": [],
   "source": [
    "counts, pub_result = get_bitstring_counts(job)"
   ]
  },
  {
   "cell_type": "code",
   "execution_count": 22,
   "id": "517355e3-c7ab-47e0-a024-8b64f1ea6c1a",
   "metadata": {},
   "outputs": [
    {
     "name": "stdout",
     "output_type": "stream",
     "text": [
      "Expected hidden shift string: 00000010100110101011101110010001010000110011101001101010101001111001100110000111\n",
      "Most probable bitstring matches hidden shift 😊.\n",
      "Top 10 bitstrings and their probabilities:\n"
     ]
    },
    {
     "data": {
      "text/plain": [
       "{'00000010100110101011101110010001010000110011101001101010101001111001100110000111': (0.50402,\n",
       "  80),\n",
       " '00000010100110101011101110010001010000110011100001101010101001111001100110000111': (0.0396,\n",
       "  79),\n",
       " '00000010100110101011101110010001010000110011101001101010101001111001100100000111': (0.0323,\n",
       "  79),\n",
       " '00000010100110101011101110010001010000110011101001101010101001101001100110000111': (0.01936,\n",
       "  79),\n",
       " '00000010100110101011101110010011010000110011101001101010101001111001100110000111': (0.01432,\n",
       "  79),\n",
       " '00000010100110101011101110010001010000110011101001101010101001011001100110000111': (0.0101,\n",
       "  79),\n",
       " '00000010100110101011101110010001010000110011101001101010101001110001100110000111': (0.00924,\n",
       "  79),\n",
       " '00000010100110101011101110010001010000010011101001101010101001111001100110000111': (0.00908,\n",
       "  79),\n",
       " '00000010100110101011100110010001010000110011101001101010101001111001100110000111': (0.00888,\n",
       "  79),\n",
       " '00000010100110101011101110010001010000110011101001100010101001111001100110000111': (0.0082,\n",
       "  79)}"
      ]
     },
     "metadata": {},
     "output_type": "display_data"
    }
   ],
   "source": [
    "probs, most_probable = find_hidden_shift_bitstring(\n",
    "    counts, hidden_shift_string\n",
    ")"
   ]
  },
  {
   "cell_type": "markdown",
   "id": "01406a6d-d7f0-46f0-bfd8-e992879d3416",
   "metadata": {},
   "source": [
    "We see that the correct hidden shift string is found. Furthermore, the nine next-most-probably bitstrings are wrong in only one position."
   ]
  },
  {
   "cell_type": "markdown",
   "id": "760623bf-6f45-4065-b4cb-f53d9528ef46",
   "metadata": {},
   "source": [
    "Record the most probable probability"
   ]
  },
  {
   "cell_type": "code",
   "execution_count": 23,
   "id": "99b45fe5-b858-48d0-b1f8-2664f99d86a8",
   "metadata": {},
   "outputs": [
    {
     "data": {
      "text/plain": [
       "0.50402"
      ]
     },
     "execution_count": 23,
     "metadata": {},
     "output_type": "execute_result"
    }
   ],
   "source": [
    "max_probability_before_M3 = probs[most_probable]\n",
    "max_probability_before_M3"
   ]
  },
  {
   "cell_type": "code",
   "execution_count": 24,
   "id": "831f3d1a-75cf-4a5b-b302-e060fc8817cc",
   "metadata": {},
   "outputs": [
    {
     "name": "stdout",
     "output_type": "stream",
     "text": [
      "Expected hidden shift string: 00000010100110101011101110010001010000110011101001101010101001111001100110000111\n",
      "Most probable bitstring matches hidden shift 😊.\n",
      "Top 10 bitstrings and their quasi-probabilities:\n"
     ]
    },
    {
     "data": {
      "text/plain": [
       "{'00000010100110101011101110010001010000110011101001101010101001111001100110000111': '9.85e-01',\n",
       " '00000010100110101011101110010001010000110011100001101010101001111001100110000111': '6.84e-03',\n",
       " '00000010100110101011100110010001010000110011101001101010101001111001100110000111': '3.87e-03',\n",
       " '00000010100110101011101110010011010000110011101001101010101001111001100110000111': '3.42e-03',\n",
       " '00000010100110101011101110010001010000110011101001101010101001111001100100000111': '3.30e-03',\n",
       " '00000010100110101011101110010001010000110011101001101010101001110001100110000111': '3.28e-03',\n",
       " '00000010100010101011101110010001010000110011101001101010101001111001100110000111': '2.62e-03',\n",
       " '00000010100110101011101110010001010000110011101001101010101001101001100110000111': '2.43e-03',\n",
       " '00000010100110101011101110010000010000110011101001101010101001111001100110000111': '1.73e-03',\n",
       " '00000010100110101011101110010001010000110011101001101010101001111001000110000111': '1.63e-03'}"
      ]
     },
     "metadata": {},
     "output_type": "display_data"
    }
   ],
   "source": [
    "print(f\"Expected hidden shift string: {hidden_shift_string}\")\n",
    "max_probability_after_M3, is_hidden_shift_identified = perform_mitigation(\n",
    "    mit, counts, qubit_mapping\n",
    ")"
   ]
  },
  {
   "cell_type": "code",
   "execution_count": 24,
   "id": "cfb39cf5-2d89-4cf3-be2d-73a8e4416b8f",
   "metadata": {},
   "outputs": [
    {
     "name": "stdout",
     "output_type": "stream",
     "text": [
      "Most probable probability before M3: 0.54348\n",
      "Most probable probability after M3: 0.99\n",
      "Readout error mitigation effective! 😊\n"
     ]
    }
   ],
   "source": [
    "compare_before_and_after_M3(\n",
    "    max_probability_before_M3,\n",
    "    max_probability_after_M3,\n",
    "    is_hidden_shift_identified,\n",
    ")"
   ]
  },
  {
   "cell_type": "markdown",
   "id": "b105bcdb-2866-4c48-a656-13a0f6db6416",
   "metadata": {},
   "source": [
    "The results show that readout error was the dominant source of error and the M3 mitigation was effective."
   ]
  }
 ],
 "metadata": {
  "description": "Use the M3 readout mitigation addon with the Sampler primitive",
  "kernelspec": {
   "display_name": "Python 3",
   "language": "python",
   "name": "python3"
  },
  "language_info": {
   "codemirror_mode": {
    "name": "ipython",
    "version": 3
   },
   "file_extension": ".py",
   "mimetype": "text/x-python",
   "name": "python",
   "nbconvert_exporter": "python",
   "pygments_lexer": "ipython3",
   "version": "3"
  },
  "title": "Readout error mitigation for the Sampler primitive using M3",
  "toc": {
   "base_numbering": 0
  }
 },
 "nbformat": 4,
 "nbformat_minor": 4
}
