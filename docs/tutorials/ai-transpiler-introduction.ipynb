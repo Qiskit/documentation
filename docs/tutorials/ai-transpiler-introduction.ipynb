{
 "cells": [
  {
   "attachments": {},
   "cell_type": "markdown",
   "id": "f59032f0-f29a-4e52-9cab-855ed6f86b00",
   "metadata": {},
   "source": [
    "{/* cspell:ignore fontsize */}\n",
    "\n",
    "# Qiskit AI-powered transpiler service introduction\n",
    "*Estimated QPU usage: None (NOTE: no execution was done in this notebook as notebook is focused on the transpilation process)*\n",
    "\n",
    "## Background\n",
    "\n",
    "The **Qiskit AI-powered transpiler service (QTS)** introduces machine learning-based optimizations in both routing and synthesis passes. These AI modes have been designed to tackle the limitations of traditional transpilation, particularly for large-scale circuits and complex hardware topologies.\n",
    "\n",
    "### Key features of QTS\n",
    "\n",
    "- Routing passes: AI-powered routing can dynamically adjust qubit paths based on the specific circuit and backend, reducing the need for excessive SWAP gates.\n",
    "    - `AIRouting`: Layout selection and circuit routing\n",
    "\n",
    "- Synthesis passes: AI techniques optimize the decomposition of multi-qubit gates, minimizing the number of two-qubit gates, which are typically more error-prone.\n",
    "    - `AICliffordSynthesis`: Clifford gate synthesis\n",
    "    - `AILinearFunctionSynthesis`: Linear function circuit synthesis\n",
    "    - `AIPermutationSynthesis`: Permutation circuit synthesis\n",
    "    - `AIPauliNetworkSynthesis`: Pauli Network circuit synthesis (only available in the Qiskit Transpiler Service, not in local environment)\n",
    "\n",
    "- Comparison with traditional transpilation: The standard Qiskit transpiler is a robust tool that can handle a broad spectrum of quantum circuits effectively. However, when circuits grow larger in scale or hardware configurations become more complex, QTS can deliver additional optimization gains. By using learned models for routing and synthesis, QTS further refines circuit layouts and reduces overhead for challenging or large-scale quantum tasks.\n",
    "\n",
    "\n",
    "In this tutorial, we will evaluate the AI modes using both routing and synthesis passes, comparing the results to traditional transpilation to highlight where AI offers performance gains.\n",
    "\n",
    "For more details on QTS, please refer to the [documentation](/docs/guides/ai-transpiler-passes).\n",
    "\n",
    "\n",
    "### Why use AI for quantum circuit transpilation?\n",
    "\n",
    "As quantum circuits grow in size and complexity, traditional transpilation methods struggle to optimize layouts and reduce gate counts efficiently. Larger circuits, particularly those involving hundreds of qubits, impose significant challenges on routing and synthesis due to device constraints, limited connectivity, and qubit error rates.\n",
    "\n",
    "This is where AI-powered transpilation offers a potential solution. By leveraging machine learning techniques, the AI-powered transpiler in Qiskit can make smarter decisions about qubit routing and gate synthesis, leading to better optimization of large-scale quantum circuits.\n",
    "\n",
    "### Brief benchmarking results\n",
    "![Graph showing AI transpiler performance against Qiskit](/docs/images/tutorials/ai-transpiler-introduction/ai-transpiler-benchmarks.avif)\n",
    "\n",
    "\n",
    "In benchmarking tests, QTS consistently produced shallower, higher-quality circuits compared to the standard Qiskit transpiler. For these tests, we used Qiskit’s default pass manager strategy, configured with [`generate_preset_passmanager`](/docs/api/qiskit/transpiler_preset). While this default strategy is often effective, it can struggle with larger or more complex circuits. By contrast, QTS’s AI-powered passes achieved an average 24% reduction in two-qubit gate counts and a 36% reduction in circuit depth for large circuits (100+ qubits) when transpiling to the heavy-hex topology of IBM Quantum&reg; hardware. For more information on these benchmarks, please refer to the [blog.](https://www.ibm.com/quantum/blog/qiskit-performance)\n",
    "\n",
    "In this notebook, we will explore the key benefits of QTS and how it compares to traditional methods."
   ]
  },
  {
   "cell_type": "code",
   "execution_count": 3,
   "id": "2aa75e36-471f-49aa-8478-134f13e3630b",
   "metadata": {
    "tags": [
     "remove-cell"
    ]
   },
   "outputs": [],
   "source": [
    "# This cell is hidden from users;\n",
    "# it just disables a linting rule.\n",
    "# ruff: noqa: F811"
   ]
  },
  {
   "cell_type": "markdown",
   "id": "4a781d15-0953-4af6-b581-ea6cb3a74228",
   "metadata": {},
   "source": [
    "## Requirements\n",
    "\n",
    "Before starting this tutorial, ensure that you have the following installed:\n",
    "\n",
    "* Qiskit SDK v1.0 or later, with visualization support (`pip install 'qiskit[visualization]'`)\n",
    "* Qiskit Runtime (`pip install qiskit-ibm-runtime`) 0.22 or later\n",
    "* Qiskit IBM Transpiler (`pip install qiskit-ibm-transpiler`)\n",
    "* Qiskit IBM AI Local Transpiler (`pip install qiskit_ibm_ai_local_transpiler`)"
   ]
  },
  {
   "cell_type": "markdown",
   "id": "c7c26e24-329b-4283-9cc0-67a241807049",
   "metadata": {},
   "source": [
    "## Setup"
   ]
  },
  {
   "cell_type": "code",
   "execution_count": 4,
   "id": "2c462d48-ae45-4528-9b09-cebc869a6812",
   "metadata": {},
   "outputs": [],
   "source": [
    "from qiskit import QuantumCircuit\n",
    "from qiskit.circuit.library import EfficientSU2, QuantumVolume, QFT\n",
    "from qiskit.transpiler import PassManager\n",
    "from qiskit.circuit.random import random_circuit, random_clifford_circuit\n",
    "from qiskit.transpiler import generate_preset_pass_manager, CouplingMap\n",
    "from qiskit_ibm_transpiler.transpiler_service import TranspilerService\n",
    "from qiskit_ibm_transpiler.ai.collection import CollectPermutations\n",
    "from qiskit_ibm_transpiler.ai.synthesis import AIPermutationSynthesis\n",
    "from qiskit.circuit.library import Permutation\n",
    "from qiskit.synthesis.permutation import (\n",
    "    synth_permutation_acg,\n",
    "    synth_permutation_depth_lnn_kms,\n",
    "    synth_permutation_basic,\n",
    ")\n",
    "import matplotlib.pyplot as plt\n",
    "import pandas as pd\n",
    "import numpy as np\n",
    "import time\n",
    "\n",
    "\n",
    "# Used for generating permutation circuits in part 2 for comparison\n",
    "def generate_permutation_circuit(width, pattern):\n",
    "    circuit = QuantumCircuit(width)\n",
    "    circuit.append(\n",
    "        Permutation(num_qubits=width, pattern=pattern),\n",
    "        qargs=range(width),\n",
    "    )\n",
    "    return circuit\n",
    "\n",
    "\n",
    "def analyze_transpilation(\n",
    "    results, circuit, pattern, pattern_id, coupling_map\n",
    "):\n",
    "    # AI Pass Manager\n",
    "    pm_ai = PassManager(\n",
    "        [\n",
    "            CollectPermutations(\n",
    "                do_commutative_analysis=True, max_block_size=27\n",
    "            ),\n",
    "            AIPermutationSynthesis(coupling_map=coupling_map),\n",
    "        ]\n",
    "    )\n",
    "    start = time.time()\n",
    "    qc_ai = pm_ai.run(circuit).decompose(reps=3)\n",
    "    ai_time = time.time() - start\n",
    "    results.append(\n",
    "        {\n",
    "            \"Pattern\": pattern_id,\n",
    "            \"Method\": \"AI\",\n",
    "            \"Depth\": qc_ai.depth(),\n",
    "            \"Gates(2q)\": qc_ai.size(),\n",
    "            \"Time (s)\": ai_time,\n",
    "        }\n",
    "    )\n",
    "\n",
    "    # Non-AI Pass Manager\n",
    "    pm_no_ai = generate_preset_pass_manager(\n",
    "        coupling_map=coupling_map, optimization_level=1\n",
    "    )\n",
    "\n",
    "    # ACG Method\n",
    "    qc_acg = synth_permutation_acg(pattern)\n",
    "    start = time.time()\n",
    "    qc_acg = pm_no_ai.run(qc_acg).decompose(reps=3)\n",
    "    acg_time = time.time() - start\n",
    "    results.append(\n",
    "        {\n",
    "            \"Pattern\": pattern_id,\n",
    "            \"Method\": \"ACG\",\n",
    "            \"Depth\": qc_acg.depth(),\n",
    "            \"Gates(2q)\": qc_acg.size(),\n",
    "            \"Time (s)\": acg_time,\n",
    "        }\n",
    "    )\n",
    "\n",
    "    # Depth-LNN-KMS Method\n",
    "    qc_depth_lnn_kms = synth_permutation_depth_lnn_kms(pattern)\n",
    "    start = time.time()\n",
    "    qc_depth_lnn_kms = pm_no_ai.run(qc_depth_lnn_kms).decompose(reps=3)\n",
    "    depth_lnn_time = time.time() - start\n",
    "    results.append(\n",
    "        {\n",
    "            \"Pattern\": pattern_id,\n",
    "            \"Method\": \"Depth-LNN-KMS\",\n",
    "            \"Depth\": qc_depth_lnn_kms.depth(),\n",
    "            \"Gates(2q)\": qc_depth_lnn_kms.size(),\n",
    "            \"Time (s)\": depth_lnn_time,\n",
    "        }\n",
    "    )\n",
    "\n",
    "    # Basic Method\n",
    "    qc_basic = synth_permutation_basic(pattern)\n",
    "    start = time.time()\n",
    "    qc_basic = pm_no_ai.run(qc_basic).decompose(reps=3)\n",
    "    basic_time = time.time() - start\n",
    "    results.append(\n",
    "        {\n",
    "            \"Pattern\": pattern_id,\n",
    "            \"Method\": \"Basic\",\n",
    "            \"Depth\": qc_basic.depth(),\n",
    "            \"Gates(2q)\": qc_basic.size(),\n",
    "            \"Time (s)\": basic_time,\n",
    "        }\n",
    "    )\n",
    "\n",
    "\n",
    "# Used for benchmarking the circuits in part 3 for comparison\n",
    "def run_transpilation(qc, no_ai_service, ai_service):\n",
    "    # Standard transpilation\n",
    "    time_start = time.time()\n",
    "    qc_tr_no_ai = no_ai_service.run(qc)\n",
    "    time_end = time.time()\n",
    "\n",
    "    time_no_ai = time_end - time_start\n",
    "    depth_no_ai = qc_tr_no_ai.depth(lambda x: x.operation.num_qubits == 2)\n",
    "    gate_count_no_ai = qc_tr_no_ai.size()\n",
    "\n",
    "    # AI transpilation\n",
    "    time_start = time.time()\n",
    "    qc_tr_ai = ai_service.run(qc)\n",
    "    time_end = time.time()\n",
    "\n",
    "    time_ai = time_end - time_start\n",
    "    depth_ai = qc_tr_ai.depth(lambda x: x.operation.num_qubits == 2)\n",
    "    gate_count_ai = qc_tr_ai.size()\n",
    "\n",
    "    return {\n",
    "        \"depth_no_ai\": depth_no_ai,\n",
    "        \"gate_count_no_ai\": gate_count_no_ai,\n",
    "        \"time_no_ai\": time_no_ai,\n",
    "        \"depth_ai\": depth_ai,\n",
    "        \"gate_count_ai\": gate_count_ai,\n",
    "        \"time_ai\": time_ai,\n",
    "    }\n",
    "\n",
    "\n",
    "# Creates a Bernstein-Vazirani circuit given the number of qubits\n",
    "def create_bv_circuit(num_qubits):\n",
    "    qc = QuantumCircuit(num_qubits, num_qubits - 1)\n",
    "    qc.x(num_qubits - 1)\n",
    "    qc.h(qc.qubits)\n",
    "    for i in range(num_qubits - 1):\n",
    "        qc.cx(i, num_qubits - 1)\n",
    "    qc.h(qc.qubits[:-1])\n",
    "    return qc"
   ]
  },
  {
   "cell_type": "markdown",
   "id": "ba7568f8-50c9-47b4-acc0-33ea34f5fca0",
   "metadata": {},
   "source": [
    "# Part I. Qiskit patterns\n",
    "\n",
    "Let's now see how to use the AI transpiler service with a simple quantum circuit, using Qiskit patterns. The key is creating a `TranspilerService` instance and specifying the use of AI modes during transpilation."
   ]
  },
  {
   "cell_type": "markdown",
   "id": "5ba1bb22-272f-4f8f-ae78-7c3d1cdaacc6",
   "metadata": {},
   "source": [
    "## Step 1: Map classical inputs to a quantum problem\n",
    "\n",
    "In this section, we will test the AI transpiler on the `EfficientSU2` circuit, a widely used hardware-efficient ansatz. This circuit is particularly relevant for variational quantum algorithms (for example, VQE) and quantum machine-learning tasks, making it an ideal test case for assessing transpilation performance.\n",
    "\n",
    "The `EfficientSU2` circuit consists of alternating layers of single-qubit rotations and entangling gates like CNOTs. These layers enable flexible exploration of the quantum state space while keeping the gate depth manageable. By optimizing this circuit, we aim to reduce gate count, improve fidelity, and minimize noise. This makes it a strong candidate for testing the AI transpiler’s efficiency."
   ]
  },
  {
   "cell_type": "code",
   "execution_count": 5,
   "id": "c6e9c2c0-e02c-4276-bae8-d5692e60b6b8",
   "metadata": {},
   "outputs": [
    {
     "data": {
      "text/plain": [
       "<Image src=\"/docs/images/tutorials/ai-transpiler-introduction/extracted-outputs/c6e9c2c0-e02c-4276-bae8-d5692e60b6b8-0.avif\" alt=\"Output of the previous code cell\" />"
      ]
     },
     "execution_count": 5,
     "metadata": {},
     "output_type": "execute_result"
    }
   ],
   "source": [
    "# For our transpilation, we will use a large circuit of 101 qubits\n",
    "qc = EfficientSU2(101, entanglement=\"circular\", reps=1).decompose()\n",
    "\n",
    "# Draw a smaller version of the circuit to get a visual representation\n",
    "qc_small = EfficientSU2(5, entanglement=\"circular\", reps=1).decompose()\n",
    "qc_small.draw(output=\"mpl\")"
   ]
  },
  {
   "cell_type": "markdown",
   "id": "6c7c76f7-c376-47e9-bc9c-dbe32b2c89b7",
   "metadata": {},
   "source": [
    "## Step 2: Optimize problem for quantum hardware execution\n",
    "\n",
    "### Choose a backend\n",
    "\n",
    "For this example, we will use the `ibm_brisbane` backend. This backend features a heavy-hexagonal topology with 127 qubits, making it a suitable target for large-scale circuit demonstrations, especially when assessing performance on modern quantum hardware.\n",
    "\n",
    "### Create TranspilerService Instances\n",
    "\n",
    "To evaluate the effectiveness of the AI transpiler, we will perform two transpilation runs. First, we will transpile the circuit using the AI transpiler. Then, we will run a comparison by transpiling the same circuit without the AI transpiler, using traditional methods. Both transpilation processes will use the following configuration:\n",
    "\n",
    "`backend_name=\"ibm_brisbane\"`\n",
    "\n",
    "`optimization_level=3`\n",
    "\n",
    "By comparing the results from these two runs, we will be able to assess how much optimization is gained by using the AI transpiler in terms of circuit depth, gate count, and runtime efficiency.\n",
    "\n",
    "<Admonition type=\"note\">\n",
    "For the best results, you can use `ai=auto`, as it will run both the standard Qiskit heuristic passes and the AI-powered passes, and return the best result. For our example, we will run the AI-powered passes explicitly to show the difference in results.\n",
    "</Admonition>\n",
    "\n",
    "Similar to `generate_preset_passmanager`, the `generate_ai_passmanager` function can be used for a hybrid AI-powered transpilation, as demonstrated in the following example.\n",
    "\n",
    "```python\n",
    "    from qiskit.circuit.library import EfficientSU2\n",
    "    from qiskit_ibm_transpiler import generate_ai_pass_manager\n",
    "\n",
    "    su2_circuit = EfficientSU2(101, entanglement=\"circular\", reps=1).decompose()\n",
    "\n",
    "    ai_transpiler_pass_manager = generate_ai_pass_manager(\n",
    "        coupling_map=coupling_map,\n",
    "        ai_optimization_level=ai_optimization_level,\n",
    "        include_ai_synthesis=include_ai_synthesis,\n",
    "        optimization_level=optimization_level,\n",
    "        ai_layout_mode=ai_layout_mode,\n",
    "        qiskit_transpile_options=qiskit_transpile_options,\n",
    "    )\n",
    "    transpiled_circuit = ai_transpiler_pass_manager.run(su2_circuit)\n",
    "```"
   ]
  },
  {
   "cell_type": "code",
   "execution_count": 6,
   "id": "a1aa25dd-41a9-4416-a959-44f28af613c8",
   "metadata": {},
   "outputs": [],
   "source": [
    "ai_service = TranspilerService(\n",
    "    backend_name=\"ibm_brisbane\",\n",
    "    ai=\"true\",\n",
    "    optimization_level=3,\n",
    ")\n",
    "\n",
    "no_ai_service = TranspilerService(\n",
    "    backend_name=\"ibm_brisbane\",\n",
    "    ai=\"false\",\n",
    "    optimization_level=3,\n",
    ")"
   ]
  },
  {
   "cell_type": "markdown",
   "id": "a06d6144-3445-4446-a3e1-18ca78a1173c",
   "metadata": {},
   "source": [
    "Transpile the circuits and record the times."
   ]
  },
  {
   "cell_type": "code",
   "execution_count": 7,
   "id": "fb5167bd-35f0-432f-af6d-023c70783d20",
   "metadata": {},
   "outputs": [
    {
     "name": "stdout",
     "output_type": "stream",
     "text": [
      "Standard transpilation: 47.36643695831299 seconds\n",
      "AI transpilation      : 30.494643211364746 seconds\n"
     ]
    }
   ],
   "source": [
    "time_start = time.time()\n",
    "qc_tr_no_ai = no_ai_service.run(qc)\n",
    "time_end = time.time()\n",
    "time_no_ai = time_end - time_start\n",
    "print(f\"Standard transpilation: {time_no_ai} seconds\")\n",
    "\n",
    "time_start = time.time()\n",
    "qc_tr_ai = ai_service.run(qc)\n",
    "time_end = time.time()\n",
    "time_ai = time_end - time_start\n",
    "print(f\"AI transpilation      : {time_ai} seconds\")"
   ]
  },
  {
   "cell_type": "code",
   "execution_count": 8,
   "id": "db2e66df-917b-4eed-8993-41c845259aa1",
   "metadata": {},
   "outputs": [
    {
     "name": "stdout",
     "output_type": "stream",
     "text": [
      "Standard transpilation: Depth 221, Gate count 2519, Time 47.36643695831299\n",
      "AI transpilation      : Depth 134, Gate count 1903, Time 30.494643211364746\n"
     ]
    }
   ],
   "source": [
    "depth_no_ai = qc_tr_no_ai.depth(lambda x: x.operation.num_qubits == 2)\n",
    "depth_ai = qc_tr_ai.depth(lambda x: x.operation.num_qubits == 2)\n",
    "\n",
    "gate_count_no_ai = qc_tr_no_ai.size()\n",
    "gate_count_ai = qc_tr_ai.size()\n",
    "\n",
    "print(\n",
    "    f\"Standard transpilation: Depth {depth_no_ai}, Gate count {gate_count_no_ai}, Time {time_no_ai}\"\n",
    ")\n",
    "print(\n",
    "    f\"AI transpilation      : Depth {depth_ai}, Gate count {gate_count_ai}, Time {time_ai}\"\n",
    ")"
   ]
  },
  {
   "cell_type": "markdown",
   "id": "d934ebd2-e594-4076-8b21-822087df01ea",
   "metadata": {},
   "source": [
    "In this test, we compare the performance of the AI transpiler and the standard transpilation method on the EfficientSU2 circuit using the `ibm_brisbane` backend. The results show a significant improvement in the circuit's depth, gate count, and transpilation time when using the AI transpiler:\n",
    "\n",
    "- Circuit depth: This reduction in depth is substantial (over 50%), as it means the AI transpiler has found a more efficient arrangement of qubit interactions, which can directly impact the overall fidelity of the circuit on quantum hardware. A shallower circuit helps mitigate qubit decoherence and reduces the likelihood of noise affecting the outcome.\n",
    "\n",
    "- Gate count: The AI transpiler also reduced the gate count by nearly 50%. Since each gate has an associated error rate, fewer gates directly lower the overall chance of error, which is critical for maintaining coherence and improving the reliability of results in practical quantum computing tasks.\n",
    "\n",
    "\n",
    "- Transpilation time efficiency: While the time varies for the device, the time it took to transpile the circuit was drastically reduced, over a 50% improvement. This shows that the AI-powered transpiler not only optimizes the resulting circuit but also improves the efficiency of the transpilation process itself, making it faster to generate optimized circuits.\n",
    "\n",
    "It is important to note that these results are based on just one circuit. To obtain a comprehensive understanding of how the AI transpiler compares to traditional methods, it is necessary to test a variety of circuits. The performance of QTS can vary greatly depending on the type of circuit being optimized. For a broader comparison, refer to the benchmarks above or visit the [blog.](https://www.ibm.com/quantum/blog/qiskit-performance)"
   ]
  },
  {
   "cell_type": "markdown",
   "id": "c8a55587-abf6-4096-85fd-2702a077ae75",
   "metadata": {},
   "source": [
    "## Step 3: Execute using Qiskit primitives\n",
    "As this tutorial focuses on transpilation, no experiments will be executed on the quantum device. The goal is to leverage the optimizations from Step 2 to obtain a transpiled circuit with reduced depth or gate count."
   ]
  },
  {
   "cell_type": "markdown",
   "id": "8d0cfca9-be4e-40ab-ab98-d7899bb8b3fa",
   "metadata": {},
   "source": [
    "## Step 4: Post-process and return result in desired classical format\n",
    "Since there is no execution for this notebook, there are no results to post-process."
   ]
  },
  {
   "cell_type": "markdown",
   "id": "c82277b2-22e9-44fe-886e-e8ceb2178278",
   "metadata": {},
   "source": [
    "# Part II. Analyze and benchmark the transpiled circuits\n",
    "\n",
    "In this section, we will demonstrate how to analyze the transpiled circuit and benchmark it against the original version in more detail. We will focus on metrics such as circuit depth, gate count, and transpilation time to assess the effectiveness of the optimization. Additionally, we will discuss how the results may differ across various circuit types, offering insights into the broader performance of the transpiler across different scenarios."
   ]
  },
  {
   "cell_type": "code",
   "execution_count": 9,
   "id": "ee24725b-64c9-4d6a-aa97-5a3502b0982a",
   "metadata": {},
   "outputs": [
    {
     "name": "stdout",
     "output_type": "stream",
     "text": [
      "Completed transpilation for Random\n",
      "Completed transpilation for Clifford\n",
      "Completed transpilation for QFT\n",
      "Completed transpilation for BV\n",
      "Completed transpilation for QV\n",
      "    Circuit  Depth (No AI)  Gate Count (No AI)  Time (No AI)  Depth (AI)  \\\n",
      "0    Random            324                7756      8.575865         293   \n",
      "1  Clifford             92                2179      4.253957          72   \n",
      "2       QFT            351                4809      3.260779         241   \n",
      "3        BV            108                 821      1.898376         103   \n",
      "4        QV            183                5047      4.165533         168   \n",
      "\n",
      "   Gate Count (AI)  Time (AI)  \n",
      "0             8305  32.752996  \n",
      "1             2360  20.725153  \n",
      "2             5009  24.736278  \n",
      "3              723  21.294635  \n",
      "4             5220  24.647348  \n"
     ]
    }
   ],
   "source": [
    "# Circuits to benchmark\n",
    "seed = 42\n",
    "circuits = [\n",
    "    {\n",
    "        \"name\": \"Random\",\n",
    "        \"qc\": random_circuit(num_qubits=30, depth=10, seed=seed),\n",
    "    },\n",
    "    {\n",
    "        \"name\": \"Clifford\",\n",
    "        \"qc\": random_clifford_circuit(\n",
    "            num_qubits=40, num_gates=200, seed=seed\n",
    "        ),\n",
    "    },\n",
    "    {\"name\": \"QFT\", \"qc\": QFT(20, do_swaps=False).decompose()},\n",
    "    {\n",
    "        \"name\": \"BV\",\n",
    "        \"qc\": create_bv_circuit(40),\n",
    "    },  # Using the BV circuit function\n",
    "    {\"name\": \"QV\", \"qc\": QuantumVolume(num_qubits=20, depth=10, seed=seed)},\n",
    "]\n",
    "\n",
    "results = []\n",
    "\n",
    "# Run the transpilation for each circuit and store the results\n",
    "for circuit in circuits:\n",
    "    data = run_transpilation(circuit[\"qc\"], no_ai_service, ai_service)\n",
    "    print(\"Completed transpilation for\", circuit[\"name\"])\n",
    "    results.append(\n",
    "        {\n",
    "            \"Circuit\": circuit[\"name\"],\n",
    "            \"Depth (No AI)\": data[\"depth_no_ai\"],\n",
    "            \"Gate Count (No AI)\": data[\"gate_count_no_ai\"],\n",
    "            \"Time (No AI)\": data[\"time_no_ai\"],\n",
    "            \"Depth (AI)\": data[\"depth_ai\"],\n",
    "            \"Gate Count (AI)\": data[\"gate_count_ai\"],\n",
    "            \"Time (AI)\": data[\"time_ai\"],\n",
    "        }\n",
    "    )\n",
    "df = pd.DataFrame(results)\n",
    "print(df)"
   ]
  },
  {
   "cell_type": "markdown",
   "id": "061d85cf-3841-4ed3-bd0d-cd950564efb7",
   "metadata": {},
   "source": [
    "Average percentage reduction for each metric. Positive are improvements, negative are degradations."
   ]
  },
  {
   "cell_type": "code",
   "execution_count": 7,
   "id": "70cf9c05-62a3-4049-9712-319902107ba6",
   "metadata": {},
   "outputs": [
    {
     "name": "stdout",
     "output_type": "stream",
     "text": [
      "Average reduction in depth: 21.19%\n",
      "Average reduction in gate count: -3.56%\n",
      "Average reduction in transpilation time: -726.97%\n"
     ]
    }
   ],
   "source": [
    "# Average reduction from non-AI to AI transpilation as a percentage\n",
    "avg_reduction_depth = (\n",
    "    (df[\"Depth (No AI)\"] - df[\"Depth (AI)\"]).mean()\n",
    "    / df[\"Depth (No AI)\"].mean()\n",
    "    * 100\n",
    ")\n",
    "avg_reduction_gates = (\n",
    "    (df[\"Gate Count (No AI)\"] - df[\"Gate Count (AI)\"]).mean()\n",
    "    / df[\"Gate Count (No AI)\"].mean()\n",
    "    * 100\n",
    ")\n",
    "avg_reduction_time = (\n",
    "    (df[\"Time (No AI)\"] - df[\"Time (AI)\"]).mean()\n",
    "    / df[\"Time (No AI)\"].mean()\n",
    "    * 100\n",
    ")\n",
    "\n",
    "print(f\"Average reduction in depth: {avg_reduction_depth:.2f}%\")\n",
    "print(f\"Average reduction in gate count: {avg_reduction_gates:.2f}%\")\n",
    "print(f\"Average reduction in transpilation time: {avg_reduction_time:.2f}%\")"
   ]
  },
  {
   "cell_type": "code",
   "execution_count": 8,
   "id": "79b8d5d9-0f9d-42ca-9583-8bec17430014",
   "metadata": {},
   "outputs": [
    {
     "data": {
      "text/plain": [
       "<Image src=\"/docs/images/tutorials/ai-transpiler-introduction/extracted-outputs/79b8d5d9-0f9d-42ca-9583-8bec17430014-0.avif\" alt=\"Output of the previous code cell\" />"
      ]
     },
     "metadata": {},
     "output_type": "display_data"
    }
   ],
   "source": [
    "fig, axs = plt.subplots(1, 3, figsize=(21, 6))\n",
    "df.plot(x=\"Circuit\", y=[\"Depth (No AI)\", \"Depth (AI)\"], kind=\"bar\", ax=axs[0])\n",
    "axs[0].set_title(\"Circuit Depth Comparison\")\n",
    "axs[0].set_ylabel(\"Depth\")\n",
    "axs[0].set_xlabel(\"Circuit\")\n",
    "axs[0].tick_params(axis=\"x\", rotation=45)\n",
    "df.plot(\n",
    "    x=\"Circuit\",\n",
    "    y=[\"Gate Count (No AI)\", \"Gate Count (AI)\"],\n",
    "    kind=\"bar\",\n",
    "    ax=axs[1],\n",
    ")\n",
    "axs[1].set_title(\"Gate Count Comparison\")\n",
    "axs[1].set_ylabel(\"Gate Count\")\n",
    "axs[1].set_xlabel(\"Circuit\")\n",
    "axs[1].tick_params(axis=\"x\", rotation=45)\n",
    "df.plot(x=\"Circuit\", y=[\"Time (No AI)\", \"Time (AI)\"], kind=\"bar\", ax=axs[2])\n",
    "axs[2].set_title(\"Time Comparison\")\n",
    "axs[2].set_ylabel(\"Time (seconds)\")\n",
    "axs[2].set_xlabel(\"Circuit\")\n",
    "axs[2].tick_params(axis=\"x\", rotation=45)\n",
    "fig.suptitle(\n",
    "    \"Benchmarking AI transpilation vs Non-AI transpilation for various circuits\"\n",
    ")\n",
    "\n",
    "plt.tight_layout()\n",
    "plt.show()"
   ]
  },
  {
   "cell_type": "markdown",
   "id": "345022d3-e302-47e6-9453-9261136923a7",
   "metadata": {},
   "source": [
    "The AI transpiler's performance varies significantly based on the type of circuit being optimized. In some cases, it achieves notable reductions in circuit depth and gate count compared to the standard transpiler. However, these improvements often come with a substantial increase in runtime.\n",
    "\n",
    "For certain types of circuits, the AI transpiler may yield slightly better results in terms of circuit depth but may also lead to an increase in gate count and a significant runtime penalty. These observations suggest that the AI transpiler's benefits are not uniform across all circuit types. Instead, its effectiveness depends on the specific characteristics of the circuit, making it more suitable for some use cases than others."
   ]
  },
  {
   "cell_type": "markdown",
   "id": "9e496e7a-64a8-46fd-b240-c494e7825bd2",
   "metadata": {},
   "source": [
    "## When should users choose AI-powered transpilation?\n",
    "\n",
    "The AI-powered transpiler in Qiskit excels in scenarios where traditional transpilation methods struggle, particularly with large-scale and complex quantum circuits. For circuits involving hundreds of qubits or those targeting hardware with intricate coupling maps, the AI transpiler offers superior optimization in terms of circuit depth, gate count, and runtime efficiency. In benchmarking tests, it has consistently outperformed traditional methods, delivering significantly shallower circuits and reducing gate counts, which are critical for enhancing performance and mitigating noise on real quantum hardware.\n",
    "\n",
    "Users should consider AI-powered transpilation when working with:\n",
    "- Large circuits where traditional methods fail to efficiently handle the scale.\n",
    "- Complex hardware topologies where device connectivity and routing challenges arise.\n",
    "- Performance-sensitive applications where reducing circuit depth and improving fidelity are paramount.\n",
    "\n",
    "## Get the best results using `ai=\"auto\"`\n",
    "For optimal results, users can set `ai=\"auto\"` in QTS, which automatically selects the best AI-based optimizations based on the circuit and target hardware, ensuring that the transpiler delivers the highest performance without manual configuration. This mode is ideal for users who want the convenience of automatic optimization while still benefiting from the powerful AI-driven enhancements to circuit routing and synthesis."
   ]
  },
  {
   "cell_type": "markdown",
   "id": "c345cb54-a838-427f-898f-51fb607da493",
   "metadata": {},
   "source": [
    "# Part III. Explore AI-powered permutation network synthesis\n",
    "\n",
    "Permutation networks are foundational in quantum computing, particularly for systems constrained by restricted topologies. These networks facilitate long-range interactions by dynamically swapping qubits to mimic all-to-all connectivity on hardware with limited connectivity. Such transformations are essential for implementing complex quantum algorithms on near-term devices, where interactions often span beyond nearest neighbors.\n",
    "\n",
    "In this section, we highlight the synthesis of permutation networks as a compelling use case for the AI-powered transpiler in Qiskit. Specifically, the `AIPermutationSynthesis` pass leverages AI-driven optimization to generate efficient circuits for qubit permutation tasks. By contrast, generic synthesis approaches often struggle to balance gate count and circuit depth, especially in scenarios with dense qubit interactions or when attempting to achieve full connectivity.\n",
    "\n",
    "We will walk through a Qiskit patterns example showcasing the synthesis of a permutation network to achieve all-to-all connectivity for a set of qubits. We will compare the performance of `AIPermutationSynthesis` against the standard synthesis methods in Qiskit. This example will demonstrate how the AI transpiler optimizes for lower circuit depth and gate count, highlighting its advantages in practical quantum workflows.\n",
    "\n",
    "For more details about the AI-powered permutation synthesis in QTS, please refer to the [Qiskit API documentation](/docs/api/qiskit-ibm-transpiler/ai-ai-permutation-synthesis)."
   ]
  },
  {
   "cell_type": "markdown",
   "id": "76de0959-1eca-43d9-b8fe-f9aea9a122d8",
   "metadata": {},
   "source": [
    "## Step 1: Map classical inputs to a quantum problem\n",
    "\n",
    "To represent a classical permutation problem on a quantum computer, we start by defining the structure of the quantum circuits. For this example:\n",
    "\n",
    "1. Quantum circuit initialization:\n",
    "   We allocate 27 qubits to match the backend we will use, which has 27 qubits.\n",
    "\n",
    "2. Apply permutations:\n",
    "   We generate five random permutation patterns (`pattern_1` through `pattern_5`) using a fixed seed (42) for reproducibility. Each permutation pattern is applied to a separate quantum circuit (`qc_1` through `qc_5`).\n",
    "\n",
    "3. Circuit decomposition:\n",
    "   Each permutation operation is decomposed into native gate sets compatible with the target quantum hardware. We analyze the depth and the number of two-qubit gates (nonlocal gates) for each decomposed circuit.\n",
    "\n",
    "The results provide insight into the complexity of representing classical permutation problems on a quantum device, demonstrating the resource requirements for different permutation patterns."
   ]
  },
  {
   "cell_type": "code",
   "execution_count": 9,
   "id": "76a3e847-0808-4413-bd0c-c760cd2df3f4",
   "metadata": {},
   "outputs": [
    {
     "data": {
      "text/plain": [
       "<Image src=\"/docs/images/tutorials/ai-transpiler-introduction/extracted-outputs/76a3e847-0808-4413-bd0c-c760cd2df3f4-0.avif\" alt=\"Output of the previous code cell\" />"
      ]
     },
     "execution_count": 9,
     "metadata": {},
     "output_type": "execute_result"
    }
   ],
   "source": [
    "# Parameters\n",
    "width = 27\n",
    "num_circuits = 5\n",
    "seed = 42\n",
    "\n",
    "# Set random seed\n",
    "np.random.seed(seed)\n",
    "\n",
    "\n",
    "# Function to generate permutation circuit\n",
    "def generate_permutation_circuit(width, pattern):\n",
    "    circuit = QuantumCircuit(width)\n",
    "    circuit.append(\n",
    "        Permutation(num_qubits=width, pattern=pattern),\n",
    "        qargs=range(width),\n",
    "    )\n",
    "    return circuit\n",
    "\n",
    "\n",
    "# Generate random patterns and circuits\n",
    "patterns = [\n",
    "    np.random.permutation(width).tolist() for _ in range(num_circuits)\n",
    "]\n",
    "circuits = {\n",
    "    f\"qc_{i}\": generate_permutation_circuit(width, pattern)\n",
    "    for i, pattern in enumerate(patterns, start=1)\n",
    "}\n",
    "\n",
    "# Display one of the circuits\n",
    "circuits[\"qc_1\"].decompose(reps=3).draw(output=\"mpl\", fold=-1)"
   ]
  },
  {
   "cell_type": "markdown",
   "id": "a8b79798-fa80-44d8-8a52-2d2a50e0c280",
   "metadata": {},
   "source": [
    "## Step 2: Optimize problem for quantum hardware execution\n",
    "In this step, we proceed with optimization using the AI synthesis passes.\n",
    "\n",
    "For the AI synthesis passes, the `PassManager` requires only the coupling map of the backend. However, it is important to note that not all coupling maps are compatible; only those that the `AIPermutationSynthesis` pass has been trained on will work. Currently, the `AIPermutationSynthesis` pass supports blocks of sizes 65, 33, and 27 qubits. For this example we use a 27-qubit QPU.\n",
    "\n",
    "For comparison, we will evaluate the performance of AI synthesis against generic permutation synthesis methods in Qiskit, including:\n",
    "\n",
    "- `synth_permutation_depth_lnn_kms`: This method synthesizes a permutation circuit for a linear nearest-neighbor (LNN) architecture using the Kutin, Moulton, and Smithline (KMS) algorithm. It guarantees a circuit with a depth of at most $ n $ and a size of at most $ n(n-1)/2 $, where both depth and size are measured in terms of SWAP gates.\n",
    "\n",
    "- `synth_permutation_acg`: This method synthesizes a permutation circuit for a fully-connected architecture using the Alon, Chung, and Graham (ACG) algorithm. It produces a circuit with a depth of exactly 2 (in terms of the number of SWAP gates).\n",
    "\n",
    "- `synth_permutation_basic`: This is a straightforward implementation that synthesizes permutation circuits without imposing constraints on connectivity or optimization for specific architectures. It serves as a baseline for comparing performance with more advanced methods.\n",
    "\n",
    "Each of these methods represents a distinct approach to synthesizing permutation networks, providing a comprehensive benchmark against the AI-powered methods.\n",
    "\n",
    "For more details about synthesis methods in Qiskit, refer to the [Qiskit API documentation](/docs/api/qiskit/synthesis)."
   ]
  },
  {
   "cell_type": "markdown",
   "id": "b1733a10-c285-444e-af47-4a32329c5f7a",
   "metadata": {},
   "source": [
    "Define the coupling map representing the 27-qubit QPU."
   ]
  },
  {
   "cell_type": "code",
   "execution_count": 10,
   "id": "84dff2c2-a496-4828-bb8e-08d373816a36",
   "metadata": {},
   "outputs": [
    {
     "data": {
      "text/plain": [
       "<Image src=\"/docs/images/tutorials/ai-transpiler-introduction/extracted-outputs/84dff2c2-a496-4828-bb8e-08d373816a36-0.avif\" alt=\"Output of the previous code cell\" />"
      ]
     },
     "execution_count": 10,
     "metadata": {},
     "output_type": "execute_result"
    }
   ],
   "source": [
    "coupling_map = [\n",
    "    [1, 0],\n",
    "    [2, 1],\n",
    "    [3, 2],\n",
    "    [3, 5],\n",
    "    [4, 1],\n",
    "    [6, 7],\n",
    "    [7, 4],\n",
    "    [7, 10],\n",
    "    [8, 5],\n",
    "    [8, 9],\n",
    "    [8, 11],\n",
    "    [11, 14],\n",
    "    [12, 10],\n",
    "    [12, 13],\n",
    "    [12, 15],\n",
    "    [13, 14],\n",
    "    [16, 14],\n",
    "    [17, 18],\n",
    "    [18, 15],\n",
    "    [18, 21],\n",
    "    [19, 16],\n",
    "    [19, 22],\n",
    "    [20, 19],\n",
    "    [21, 23],\n",
    "    [23, 24],\n",
    "    [25, 22],\n",
    "    [25, 24],\n",
    "    [26, 25],\n",
    "]\n",
    "CouplingMap(coupling_map).draw()"
   ]
  },
  {
   "cell_type": "markdown",
   "id": "47bdb1f5-1fc6-46c4-8fc9-98d16a4d2529",
   "metadata": {},
   "source": [
    "Create the pass managers and transpile each of the permutation circuits using the AI synthesis passes and generic synthesis methods."
   ]
  },
  {
   "cell_type": "code",
   "execution_count": 11,
   "id": "128cc285-094a-4b07-a37d-8424a4003b2c",
   "metadata": {},
   "outputs": [],
   "source": [
    "results = []\n",
    "\n",
    "# Transpile and analyze all circuits\n",
    "for i, (qc_name, circuit) in enumerate(circuits.items(), start=1):\n",
    "    pattern = patterns[i - 1]\n",
    "    analyze_transpilation(results, circuit, pattern, qc_name, coupling_map)\n",
    "results_df = pd.DataFrame(results)"
   ]
  },
  {
   "cell_type": "markdown",
   "id": "42f80e32-60fd-46a8-a6b5-4bcadb15810a",
   "metadata": {},
   "source": [
    "Record the metrics (depth, gate count, time) for each circuit after transpilation."
   ]
  },
  {
   "cell_type": "code",
   "execution_count": 12,
   "id": "72ee8474-eea6-421a-9d7d-070587eaff71",
   "metadata": {},
   "outputs": [
    {
     "name": "stdout",
     "output_type": "stream",
     "text": [
      "\n",
      "=== Average Metrics ===\n",
      "               Depth  Gates(2q)  Time (s)\n",
      "Method                                   \n",
      "ACG             24.0      120.0      0.01\n",
      "AI              21.0       71.4      0.00\n",
      "Basic           33.6      108.0      0.00\n",
      "Depth-LNN-KMS  138.0      623.4      0.02\n",
      "\n",
      "Best Non-AI Method (based on least average depth): ACG\n",
      "\n",
      "=== Comparison of AI vs Best Non-AI Method ===\n",
      "      Metric    AI     ACG  Improvement (AI vs Best Non-AI)\n",
      "0      Depth  21.0   24.00                            -3.00\n",
      "1  Gates(2q)  71.4  120.00                           -48.60\n",
      "2   Time (s)   0.0    0.01                            -0.01\n"
     ]
    }
   ],
   "source": [
    "# Calculate averages for each metric\n",
    "average_metrics = results_df.groupby(\"Method\")[\n",
    "    [\"Depth\", \"Gates(2q)\", \"Time (s)\"]\n",
    "].mean()\n",
    "average_metrics = average_metrics.round(2)  # Round to 2 decimal places\n",
    "print(\"\\n=== Average Metrics ===\")\n",
    "print(average_metrics)\n",
    "\n",
    "# Identify the best non-AI method based on least average depth\n",
    "non_ai_methods = [\n",
    "    method for method in results_df[\"Method\"].unique() if method != \"AI\"\n",
    "]\n",
    "best_non_ai_method = average_metrics.loc[non_ai_methods][\"Depth\"].idxmin()\n",
    "print(\n",
    "    f\"\\nBest Non-AI Method (based on least average depth): {best_non_ai_method}\"\n",
    ")\n",
    "\n",
    "# Compare AI to the best non-AI method\n",
    "ai_metrics = average_metrics.loc[\"AI\"]\n",
    "best_non_ai_metrics = average_metrics.loc[best_non_ai_method]\n",
    "\n",
    "comparison = {\n",
    "    \"Metric\": [\"Depth\", \"Gates(2q)\", \"Time (s)\"],\n",
    "    \"AI\": [\n",
    "        round(ai_metrics[\"Depth\"], 2),\n",
    "        round(ai_metrics[\"Gates(2q)\"], 2),\n",
    "        round(ai_metrics[\"Time (s)\"], 2),\n",
    "    ],\n",
    "    best_non_ai_method: [\n",
    "        round(best_non_ai_metrics[\"Depth\"], 2),\n",
    "        round(best_non_ai_metrics[\"Gates(2q)\"], 2),\n",
    "        round(best_non_ai_metrics[\"Time (s)\"], 2),\n",
    "    ],\n",
    "    \"Improvement (AI vs Best Non-AI)\": [\n",
    "        round(ai_metrics[\"Depth\"] - best_non_ai_metrics[\"Depth\"], 2),\n",
    "        round(ai_metrics[\"Gates(2q)\"] - best_non_ai_metrics[\"Gates(2q)\"], 2),\n",
    "        round(ai_metrics[\"Time (s)\"] - best_non_ai_metrics[\"Time (s)\"], 2),\n",
    "    ],\n",
    "}\n",
    "\n",
    "comparison_df = pd.DataFrame(comparison)\n",
    "print(\"\\n=== Comparison of AI vs Best Non-AI Method ===\")\n",
    "print(comparison_df)"
   ]
  },
  {
   "cell_type": "markdown",
   "id": "e1ba3767-5ce1-4663-803b-73ccfc22f03b",
   "metadata": {},
   "source": [
    "The results demonstrate that the AI transpiler outperforms all other Qiskit synthesis methods for this set of random permutation circuits. Key findings include:\n",
    "\n",
    "1. Depth: The AI transpiler achieves the lowest average depth, indicating superior optimization of circuit layouts.\n",
    "2. Gate count: It significantly reduces the number of two-qubit gates compared to other methods, improving execution fidelity and efficiency.\n",
    "3. Transpilation time: All methods, including the AI transpiler, run very quickly at this scale, making them practical for use. However, the AI transpiler provides additional optimization benefits without added runtime cost.\n",
    "\n",
    "These results establish the AI transpiler as the most effective approach for this benchmark, particularly for depth and gate count optimization."
   ]
  },
  {
   "cell_type": "markdown",
   "id": "dbaab943-5fd7-4720-98bf-8602b2ab4473",
   "metadata": {},
   "source": [
    "Plot the results to compare the performance of the AI synthesis passes against the generic synthesis methods."
   ]
  },
  {
   "cell_type": "code",
   "execution_count": 13,
   "id": "a326f268-0115-442c-8563-968676b66670",
   "metadata": {},
   "outputs": [
    {
     "data": {
      "text/plain": [
       "<Image src=\"/docs/images/tutorials/ai-transpiler-introduction/extracted-outputs/a326f268-0115-442c-8563-968676b66670-0.avif\" alt=\"Output of the previous code cell\" />"
      ]
     },
     "metadata": {},
     "output_type": "display_data"
    }
   ],
   "source": [
    "methods = results_df[\"Method\"].unique()\n",
    "\n",
    "fig, axs = plt.subplots(1, 3, figsize=(18, 5))\n",
    "\n",
    "# Pivot the DataFrame and reorder columns to ensure AI is first\n",
    "pivot_depth = results_df.pivot(\n",
    "    index=\"Pattern\", columns=\"Method\", values=\"Depth\"\n",
    ")[[\"AI\", \"ACG\", \"Depth-LNN-KMS\", \"Basic\"]]\n",
    "pivot_gates = results_df.pivot(\n",
    "    index=\"Pattern\", columns=\"Method\", values=\"Gates(2q)\"\n",
    ")[[\"AI\", \"ACG\", \"Depth-LNN-KMS\", \"Basic\"]]\n",
    "pivot_time = results_df.pivot(\n",
    "    index=\"Pattern\", columns=\"Method\", values=\"Time (s)\"\n",
    ")[[\"AI\", \"ACG\", \"Depth-LNN-KMS\", \"Basic\"]]\n",
    "\n",
    "pivot_depth.plot(kind=\"bar\", ax=axs[0], legend=False)\n",
    "axs[0].set_title(\"Circuit Depth Comparison\")\n",
    "axs[0].set_ylabel(\"Depth\")\n",
    "axs[0].set_xlabel(\"Pattern\")\n",
    "axs[0].tick_params(axis=\"x\", rotation=45)\n",
    "pivot_gates.plot(kind=\"bar\", ax=axs[1], legend=False)\n",
    "axs[1].set_title(\"2Q Gate Count Comparison\")\n",
    "axs[1].set_ylabel(\"Number of 2Q Gates\")\n",
    "axs[1].set_xlabel(\"Pattern\")\n",
    "axs[1].tick_params(axis=\"x\", rotation=45)\n",
    "pivot_time.plot(\n",
    "    kind=\"bar\", ax=axs[2], legend=True, title=\"Legend\"\n",
    ")  # Show legend on the last plot\n",
    "axs[2].set_title(\"Time Comparison\")\n",
    "axs[2].set_ylabel(\"Time (seconds)\")\n",
    "axs[2].set_xlabel(\"Pattern\")\n",
    "axs[2].tick_params(axis=\"x\", rotation=45)\n",
    "fig.suptitle(\n",
    "    \"Benchmarking AI Synthesis Methods vs Non-AI Synthesis Methods For Random Permutations Circuits\",\n",
    "    fontsize=16,\n",
    "    y=1,\n",
    ")\n",
    "\n",
    "plt.tight_layout()\n",
    "plt.show()"
   ]
  },
  {
   "cell_type": "markdown",
   "id": "03a9af42-42a7-4344-b834-0d2b506d4d78",
   "metadata": {},
   "source": [
    "This graph highlights the individual results for each circuit (`qc_1` to `qc_5`) across different synthesis methods:\n",
    "\n",
    "1. Circuit depth:\n",
    "   The AI transpiler often achieves comparable or better depth optimizations than other methods, highlighting its ability to optimize depth efficiently for these permutation circuits.\n",
    "\n",
    "2. Two-qubit gate count:\n",
    "   The AI transpiler also shows a substantial reduction in the number of two-qubit gates compared to other methods, indicating more efficient resource usage and improved circuit quality.\n",
    "\n",
    "3. Transpilation time:\n",
    "   All methods, including the AI transpiler, run quickly at this scale. However, the AI method achieves its optimizations without introducing additional runtime overhead, making it highly practical.\n",
    "\n",
    "While these results underscore the AI transpiler’s effectiveness for permutation circuits, it is important to note its limitations. The AI synthesis method is currently only available for certain coupling maps, which may restrict its broader applicability. This constraint should be considered when evaluating its usage in different scenarios.\n",
    "\n",
    "Overall, the AI transpiler demonstrates promising improvements in depth and gate count optimization for these specific circuits while maintaining comparable transpilation times."
   ]
  },
  {
   "cell_type": "markdown",
   "id": "41b1405d-fa90-48b6-9ce2-933f05358778",
   "metadata": {},
   "source": [
    "## Step 3: Execute using Qiskit primitives\n",
    "As this tutorial focuses on transpilation, no experiments will be executed on the quantum device. The goal is to leverage the optimizations from Step 2 to obtain a transpiled circuit with reduced depth or gate count."
   ]
  },
  {
   "cell_type": "markdown",
   "id": "3d942ee4-e4d7-4e87-8c8a-17c662d5379f",
   "metadata": {},
   "source": [
    "## Step 4: Post-process and return result in desired classical format\n",
    "Since there is no execution for this notebook, there are no results to post-process."
   ]
  },
  {
   "cell_type": "markdown",
   "id": "3c165627-415b-44fd-87e6-b7117d4abc74",
   "metadata": {},
   "source": [
    "## Limitations of QTS\n",
    "\n",
    "While QTS can offer significant performance benefits for large and complex quantum circuits, there are several service-level constraints and AI pass–specific considerations to be aware of.\n",
    "\n",
    "- Maximum two-qubit gates per circuit\n",
    "  Each circuit can include up to one million two-qubit gates in any AI mode.\n",
    "- Transpilation run time\n",
    "  Each transpilation process can run for up to 30 minutes. If it exceeds this limit, the job will be canceled.\n",
    "- Retrieve results\n",
    "  You must retrieve the transpilation result within 20 minutes after the process finishes. After that, the result is discarded.\n",
    "- Job queue time\n",
    "  A set of circuits can remain in the internal queue for up to 120 minutes while waiting to be transpiled. If the process doesn’t start within this window, the job is canceled.\n",
    "- Qubit limit\n",
    "  Currently, there is no strictly defined maximum number of qubits. However, the service has been tested successfully with circuits of 900+ qubits.\n",
    "\n",
    "While QTS often delivers significant improvements in gate count and circuit depth, overall transpilation performance can vary based on circuit size, connectivity, and runtime constraints. Larger or more complex circuits may still incur additional transpilation time or require specialized configurations.\n",
    "\n",
    "For the latest and most detailed information about QTS constraints, please refer to the [QTS Limitations documentation](/docs/guides/qiskit-transpiler-service#limits-of-the-qiskit-transpiler-service)."
   ]
  },
  {
   "cell_type": "markdown",
   "id": "3b21bb06-7a2b-4181-af59-734c89435d45",
   "metadata": {},
   "source": [
    "## Tutorial survey\n",
    "\n",
    "Please take one minute to provide feedback on this tutorial. Your insights will help us improve our content offerings and user experience.\n",
    "\n",
    "[Link to survey](https://your.feedback.ibm.com/jfe/form/SV_0igXMtMCQfApgDI)"
   ]
  },
  {
   "cell_type": "markdown",
   "id": "a76ce81d-7d92-42be-a2fc-bf4ef98c1ac2",
   "metadata": {},
   "source": [
    "© IBM Corp. 2025"
   ]
  }
 ],
 "metadata": {
  "description": "In this notebook, we will explore the key benefits of Qiskit AI-powered transpiler service and how it compares to traditional methods.",
  "kernelspec": {
   "display_name": "Python 3",
   "language": "python",
   "name": "python3"
  },
  "language_info": {
   "codemirror_mode": {
    "name": "ipython",
    "version": 3
   },
   "file_extension": ".py",
   "mimetype": "text/x-python",
   "name": "python",
   "nbconvert_exporter": "python",
   "pygments_lexer": "ipython3",
   "version": "3"
  },
  "platform": "cloud",
  "title": "AI Transpiler Introduction"
 },
 "nbformat": 4,
 "nbformat_minor": 4
}
