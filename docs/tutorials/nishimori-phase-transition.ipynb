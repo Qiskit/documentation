{
 "cells": [
  {
   "cell_type": "markdown",
   "id": "a10c2a41-ab48-4da5-bbe1-a16fd47906fe",
   "metadata": {},
   "source": [
    "# Nishimori phase transition\n",
    "*Usage estimate: 3 minutes on IBM Torino (NOTE: This is an estimate only. Your runtime may vary.)*"
   ]
  },
  {
   "cell_type": "markdown",
   "id": "838ac5c7-0819-4482-8875-c57db88ba82a",
   "metadata": {},
   "source": [
    "## Background\n",
    "This tutorial demonstrates how to realize a Nishimori phase transition on an IBM quantum processor. This experiment was originally described in [*Realizing the Nishimori transition across the error threshold for constant-depth quantum circuits*](https://arxiv.org/abs/2309.02863).\n",
    "\n",
    "The Nishimori phase transition refers to the transition between short- and long-range ordered phases in the random-bond Ising model. On a quantum computer, the long-range ordered phase manifests as a state in which qubits are entangled across the entire device. This highly entangled state is prepared using the *generation of entanglement by measurement* (GEM) protocol. By utilizing mid-circuit measurements, the GEM protocol is able to entangle qubits across the entire device using circuits of only constant depth. This tutorial uses the implementation of the GEM protocol from the [GEM Suite](https://github.com/qiskit-community/gem-suite) software package."
   ]
  },
  {
   "cell_type": "markdown",
   "id": "4091005d-ecd5-40c9-b90f-263e49a4cc16",
   "metadata": {},
   "source": [
    "## Requirements\n",
    "Before starting this tutorial, be sure you have the following installed:\n",
    "\n",
    "- Qiskit SDK v1.0 or later, with visualization support ( `pip install 'qiskit[visualization]'` )\n",
    "- Qiskit Runtime 0.22 or later ( `pip install qiskit-ibm-runtime` )\n",
    "- GEM Suite ( `pip install gem-suite` )"
   ]
  },
  {
   "cell_type": "markdown",
   "id": "210b8730-ca3e-46d9-b8b0-64c36f13df8e",
   "metadata": {},
   "source": [
    "## Setup"
   ]
  },
  {
   "cell_type": "code",
   "execution_count": 2,
   "id": "4ad70734-54f8-400a-8399-188ee8a0f3ac",
   "metadata": {},
   "outputs": [],
   "source": [
    "import matplotlib.pyplot as plt\n",
    "\n",
    "from collections import defaultdict\n",
    "\n",
    "from qiskit_ibm_runtime import QiskitRuntimeService\n",
    "\n",
    "from qiskit.transpiler import generate_preset_pass_manager\n",
    "\n",
    "from gem_suite import PlaquetteLattice\n",
    "from gem_suite.experiments import GemExperiment"
   ]
  },
  {
   "cell_type": "markdown",
   "id": "39f59f3a-eb2a-4160-9da2-2bb83c58771c",
   "metadata": {},
   "source": [
    "## Step 1: Map classical inputs to a quantum problem\n",
    "\n",
    "The GEM protocol works on a quantum processor with qubit connectivity described by a lattice. Today's IBM quantum processors use the [heavy hex lattice](https://www.ibm.com/quantum/blog/heavy-hex-lattice). The qubits of the processor are grouped into *plaquettes* based on which unit cell of the lattice they occupy. Because a qubit might occur in more than one unit cell, the plaquettes are not disjoint. On the heavy hex lattice, a plaquette contains 12 qubits. The plaquettes themselves also form lattice, where two plaquettes are connected if they share any qubits. On the heavy hex lattice, neighboring plaquettes share 3 qubits.\n",
    "\n",
    "In the GEM Suite software package, the fundamental class for implementing the GEM protocol is `PlaquetteLattice`, which represents the lattice of plaquettes (which is distinct from the heavy hex lattice). A `PlaquetteLattice` can be initialized from a qubit coupling map. Currently, only heavy hex coupling maps are supported.\n",
    "\n",
    "The following code cell initializes a plaquette lattice from the coupling map of a IBM Quantum processor. The plaquette lattice does not always encompass the entire hardware. For example, `ibm_torino` has 133 total qubits, but the largest plaquette lattice that fits on the device uses only 125 of them, and comprises a total of 18 plaquettes. Similar can be observed for IBM Quantum devices with different qubit counts as well."
   ]
  },
  {
   "cell_type": "code",
   "execution_count": 6,
   "id": "553dbafe-1778-4971-83c3-0408605b701d",
   "metadata": {},
   "outputs": [
    {
     "name": "stdout",
     "output_type": "stream",
     "text": [
      "Number of qubits in backend: 133\n",
      "Number of qubits in plaquette lattice: 125\n",
      "Number of plaquettes: 18\n"
     ]
    }
   ],
   "source": [
    "# QiskitRuntimeService.save_account(channel=\"ibm_quantum\", token=\"<MY_IBM_QUANTUM_TOKEN>\", overwrite=True, set_as_default=True)\n",
    "service = QiskitRuntimeService()\n",
    "backend = service.least_busy(\n",
    "    operational=True, simulator=False, min_num_qubits=127\n",
    ")\n",
    "plaquette_lattice = PlaquetteLattice.from_coupling_map(backend.coupling_map)\n",
    "\n",
    "print(f\"Number of qubits in backend: {backend.num_qubits}\")\n",
    "print(\n",
    "    f\"Number of qubits in plaquette lattice: {len(list(plaquette_lattice.qubits()))}\"\n",
    ")\n",
    "print(f\"Number of plaquettes: {len(list(plaquette_lattice.plaquettes()))}\")"
   ]
  },
  {
   "cell_type": "markdown",
   "id": "0bf43539-d782-44a9-ba4e-a1b6c7510803",
   "metadata": {},
   "source": [
    "You can visualize the plaquette lattice by generating a diagram of its graph representation. In the diagram, the plaquettes are represented by labeled hexagons, and two plaquettes are connected by an edge if they share qubits."
   ]
  },
  {
   "cell_type": "code",
   "execution_count": 7,
   "id": "625882a4-faeb-4d96-b441-c989f43c4dea",
   "metadata": {},
   "outputs": [
    {
     "data": {
      "text/plain": [
       "<Image src=\"/docs/images/tutorials/nishimori-phase-transition/extracted-outputs/625882a4-faeb-4d96-b441-c989f43c4dea-0.avif\" alt=\"Output of the previous code cell\" />"
      ]
     },
     "execution_count": 7,
     "metadata": {},
     "output_type": "execute_result"
    }
   ],
   "source": [
    "plaquette_lattice.draw_plaquettes()"
   ]
  },
  {
   "cell_type": "markdown",
   "id": "2f0a6b73-d1d2-4117-80cf-6fe3adbb82c5",
   "metadata": {},
   "source": [
    "You can retrieve information about individual plaquettes, such as the qubits they contain, using the `plaquettes` method."
   ]
  },
  {
   "cell_type": "code",
   "execution_count": 8,
   "id": "e412a612-c7d5-4689-840a-2383dd538f06",
   "metadata": {},
   "outputs": [
    {
     "data": {
      "text/plain": [
       "PyPlaquette(index=0, qubits=[0, 1, 2, 3, 4, 15, 16, 19, 20, 21, 22, 23], neighbors=[3, 1])"
      ]
     },
     "execution_count": 8,
     "metadata": {},
     "output_type": "execute_result"
    }
   ],
   "source": [
    "# Get a list of the plaquettes\n",
    "plaquettes = list(plaquette_lattice.plaquettes())\n",
    "# Display information about plaquette 0\n",
    "plaquettes[0]"
   ]
  },
  {
   "cell_type": "markdown",
   "id": "75edf1b4-f95f-4ff7-9e3c-2e810711636f",
   "metadata": {},
   "source": [
    "You can also produce a diagram of the underlying qubits that form the plaquette lattice."
   ]
  },
  {
   "cell_type": "code",
   "execution_count": 9,
   "id": "a19d63ce-3572-4081-a008-c1332fbbe303",
   "metadata": {},
   "outputs": [
    {
     "data": {
      "text/plain": [
       "<Image src=\"/docs/images/tutorials/nishimori-phase-transition/extracted-outputs/a19d63ce-3572-4081-a008-c1332fbbe303-0.avif\" alt=\"Output of the previous code cell\" />"
      ]
     },
     "execution_count": 9,
     "metadata": {},
     "output_type": "execute_result"
    }
   ],
   "source": [
    "plaquette_lattice.draw_qubits()"
   ]
  },
  {
   "cell_type": "markdown",
   "id": "e7b0f54b-5bc2-42bb-b4d4-1346f0a902e3",
   "metadata": {},
   "source": [
    "In addition to the qubit labels and the edges indicating which qubits are connected, the diagram contains three additional pieces of information that are relevant to the GEM protocol:\n",
    "- Each qubit is either shaded (gray) or unshaded. The shaded qubits are \"site\" qubits that represent the sites of the Ising model, and the unshaded qubits are \"bond\" qubits used to mediate interactions between the site qubits.\n",
    "- Each site qubit is labeled either (A) or (B), indicating one of two roles a site qubit can play in the GEM protocol (the roles are explained later).\n",
    "- Each edge is colored using one of 6 colors, thus partitioning the edges into 6 groups. This partitioning determines how two-qubit gates can be parallelized, as well as different scheduling patterns that are likely to incur different amounts of error on a noisy quantum processor. Because edges in a group are disjoint, a layer of two-qubit gates can be applied on those edges simultaneously. In fact, it is possible to partition the 6 colors into 3 groups of 2 colors such that the union of each group of 2 colors is still disjoint. Therefore, only 3 layers of two-qubit gates are needed to activate every edge. There are 12 ways to so partition the 6 colors, and each such partition yields a different 3-layer gate schedule.\n",
    "\n",
    "Now that you have created a plaquette lattice, the next step is to initialize a `GemExperiment` object, passing both the plaquette lattice and the backend that you intend to run the experiment on. The `GemExperiment` class manages the actual implementation of the GEM protocol, including generating circuits, submitting jobs, and analyzing the data. The following code cell initializes the experiment class while restricting the plaquette lattice to only two of the plaquettes (21 qubits), reducing the size of the experiment to ensure that the noise in the hardware doesn't overwhelm the signal."
   ]
  },
  {
   "cell_type": "code",
   "execution_count": 16,
   "id": "02357c6e-5c83-4ac0-811d-22602d9f33d5",
   "metadata": {},
   "outputs": [
    {
     "data": {
      "text/plain": [
       "<Image src=\"/docs/images/tutorials/nishimori-phase-transition/extracted-outputs/02357c6e-5c83-4ac0-811d-22602d9f33d5-0.avif\" alt=\"Output of the previous code cell\" />"
      ]
     },
     "execution_count": 16,
     "metadata": {},
     "output_type": "execute_result"
    }
   ],
   "source": [
    "gem_exp = GemExperiment(plaquette_lattice.filter([9, 12]), backend=backend)\n",
    "\n",
    "# visualize the plaquette lattice after filtering\n",
    "plaquette_lattice.filter([9, 12]).draw_qubits()"
   ]
  },
  {
   "cell_type": "markdown",
   "id": "3234e018-a1a8-47b7-b10c-57d6f7f77ff1",
   "metadata": {},
   "source": [
    "A GEM protocol circuit is built using the following steps:\n",
    "1. Prepare the all-$|+\\rangle$ state by applying a Hadamard gate to every qubit.\n",
    "2. Apply an $R_{ZZ}$ gate between every pair of connected qubits. This can be achieved using 3 layers of gates. Each $R_{ZZ}$ gate acts on a site qubit and a bond qubit. If the site qubit is labeled (B), then the angle is fixed to $\\frac{\\pi}{2}$. If the site qubit is labeled (A), then the angle is allowed to vary, producing different circuits. By default, the range of angles is set to 21 equally spaced points between $0$ and $\\frac{\\pi}{2}$, inclusive.\n",
    "3. Measure each bond qubit in the Pauli $X$ basis. Since qubits are measured in the Pauli $Z$ basis, this can be accomplished by applying a Hadamard gate before measuring the qubit.\n",
    "\n",
    "Note that the paper cited in the introduction to this tutorial uses a different convention for the $R_{ZZ}$ angle, which differs from the convention used in this tutorial by a factor of 2.\n",
    "\n",
    "In step 3, only the bond qubits are measured. To understand what state the site qubits remain in, it is instructive to consider the case that the $R_{ZZ}$ angle applied to site qubits (A) in step 2 is equal to $\\frac{\\pi}{2}$. In this case, the site qubits are left in a highly entangled state similar to the GHZ state,\n",
    "\n",
    "$$\n",
    "\\lvert \\text{GHZ} \\rangle = \\lvert 00 \\cdots 00 \\rangle + \\lvert 11 \\cdots 11 \\rangle.\n",
    "$$\n",
    "\n",
    "Due to the randomness in the measurement outcomes, the actual state of the site qubits might be a different state with long-range order, for example, $\\lvert 00110 \\rangle + \\lvert 11001 \\rangle$. However, the GHZ state can be recovered by applying a decoding operation based on the measurement outcomes. When the $R_{ZZ}$ angle is tuned down from $\\frac{\\pi}{2}$, the long-range order can still be recovered up until a critical angle, which in the absence of noise, is approximately $0.3 \\pi$. Below this angle, the resulting state no longer exhibits long-range entanglement. This transition between the presence and absence of long-range order is the Nishimori phase transition.\n",
    "\n",
    "In the description above, the site qubits were left unmeasured, and the decoding operation can be performed by applying quantum gates. In the experiment as implemented in the GEM suite, which this tutorial follows, the site qubits are in fact measured, and the decoding operation is applied in a classical post-processing step.\n",
    "\n",
    "In the description above, the decoding operation can be performed by applying quantum gates to the site qubits to recover the quantum state. However, if the goal is to immediately measure the state, for example, for characterization purposes, then the site qubits are measured together with the bond qubits, and the decoding operation can be applied in a classical post-processing step. This is how the experiment is implemented in the GEM suite, which this tutorial follows.\n",
    "\n",
    "In addition to depending on the $R_{ZZ}$ angle in step 2, which by default sweeps across 21 values, the GEM protocol circuit also depends on the scheduling pattern used to implement the 3 layers of $R_{ZZ}$ gates. As discussed previously, there are 12 such scheduling patterns. Therefore, the total number of circuits in the experiment is $21 \\times 12 = 252$.\n",
    "\n",
    "The circuits of the experiment can be generated using the `circuits` method of the `GemExperiment` class."
   ]
  },
  {
   "cell_type": "code",
   "execution_count": 12,
   "id": "8e2ade62-9a57-42c3-9a85-3fe2dec3c426",
   "metadata": {},
   "outputs": [
    {
     "name": "stdout",
     "output_type": "stream",
     "text": [
      "Total number of circuits: 252\n"
     ]
    }
   ],
   "source": [
    "circuits = gem_exp.circuits()\n",
    "print(f\"Total number of circuits: {len(circuits)}\")"
   ]
  },
  {
   "cell_type": "markdown",
   "id": "56c3c656-dcfa-4ca0-9df9-2d97c187c685",
   "metadata": {},
   "source": [
    "For the purposes of this tutorial, it is enough to consider just a single scheduling pattern. The following code cell restricts the experiment to the first scheduling pattern. As a result, the experiment only has 21 circuits, one for each $R_{ZZ}$ angle swept over."
   ]
  },
  {
   "cell_type": "code",
   "execution_count": 13,
   "id": "4f8a2c73-752d-47b9-95d5-83439933fc08",
   "metadata": {},
   "outputs": [
    {
     "name": "stdout",
     "output_type": "stream",
     "text": [
      "Total number of circuits: 21\n",
      "RZZ angles:\n",
      "[0.         0.07853982 0.15707963 0.23561945 0.31415927 0.39269908\n",
      " 0.4712389  0.54977871 0.62831853 0.70685835 0.78539816 0.86393798\n",
      " 0.9424778  1.02101761 1.09955743 1.17809725 1.25663706 1.33517688\n",
      " 1.41371669 1.49225651 1.57079633]\n"
     ]
    }
   ],
   "source": [
    "# Restrict experiment to the first scheduling pattern\n",
    "gem_exp.set_experiment_options(schedule_idx=0)\n",
    "\n",
    "# There are less circuits now\n",
    "circuits = gem_exp.circuits()\n",
    "print(f\"Total number of circuits: {len(circuits)}\")\n",
    "\n",
    "# Print the RZZ angles swept over\n",
    "print(f\"RZZ angles:\\n{gem_exp.parameters()}\")"
   ]
  },
  {
   "cell_type": "markdown",
   "id": "7011dc79-8561-42ef-909b-00fd8be9ef34",
   "metadata": {},
   "source": [
    "The following code cell draws a diagram of the circuit at index 5. To reduce the size of the diagram, the measurement gates at the end of the circuit are removed."
   ]
  },
  {
   "cell_type": "code",
   "execution_count": 14,
   "id": "fd57d483-c70b-4ad5-b309-15750ad38bac",
   "metadata": {},
   "outputs": [
    {
     "data": {
      "text/plain": [
       "<Image src=\"/docs/images/tutorials/nishimori-phase-transition/extracted-outputs/fd57d483-c70b-4ad5-b309-15750ad38bac-0.avif\" alt=\"Output of the previous code cell\" />"
      ]
     },
     "execution_count": 14,
     "metadata": {},
     "output_type": "execute_result"
    }
   ],
   "source": [
    "# Get the circuit at index 5\n",
    "circuit = circuits[5]\n",
    "# Remove the final measurements to ease visualization\n",
    "circuit.remove_final_measurements()\n",
    "# Draw the circuit\n",
    "circuit.draw(\"mpl\", fold=-1, scale=0.5)"
   ]
  },
  {
   "cell_type": "markdown",
   "id": "a3aa063b-44cf-49f3-9e12-23b2f6a1c85b",
   "metadata": {},
   "source": [
    "## Step 2: Optimize problem for quantum hardware execution\n",
    "\n",
    "Transpiling quantum circuits for execution on hardware typically involves a [number of stages](/docs/guides/transpiler-stages). Typically, the stages that incur the most computational overhead are choosing the qubit layout, routing the two-qubit gates to conform to the qubit connectivity of the hardware, and optimizing the circuit to minimize its gate count and depth. In the GEM protocol, the layout and routing stages are unnecessary because the hardware connectivity is already incorporated into the design of the protocol. The circuits already have a qubit layout, and the two-qubit gates are already mapped onto native connections. Furthermore, in order to preserve the structure of the circuit as the $R_{ZZ}$ angle is varied, only very basic circuit optimization should be performed.\n",
    "\n",
    "The `GemExperiment` class transparently transpiles circuits when executing the experiment. The layout and routing stages are already overridden by default to do nothing, and circuit optimization is performed at a level that only optimizes single-qubit gates. However, you can override or pass additional options using the `set_transpile_options` method. For the sake of visualization, the following code cell manually transpiles the circuit displayed previously, and draws the transpiled circuit."
   ]
  },
  {
   "cell_type": "code",
   "execution_count": 15,
   "id": "e9b99d48-8d33-46b5-bff5-480ab1c1c1f2",
   "metadata": {},
   "outputs": [
    {
     "data": {
      "text/plain": [
       "<Image src=\"/docs/images/tutorials/nishimori-phase-transition/extracted-outputs/e9b99d48-8d33-46b5-bff5-480ab1c1c1f2-0.avif\" alt=\"Output of the previous code cell\" />"
      ]
     },
     "execution_count": 15,
     "metadata": {},
     "output_type": "execute_result"
    }
   ],
   "source": [
    "# Demonstrate setting transpile options\n",
    "gem_exp.set_transpile_options(\n",
    "    optimization_level=1  # This is the default optimization level\n",
    ")\n",
    "pass_manager = generate_preset_pass_manager(\n",
    "    backend=backend,\n",
    "    initial_layout=list(gem_exp.physical_qubits),\n",
    "    **dict(gem_exp.transpile_options),\n",
    ")\n",
    "transpiled = pass_manager.run(circuit)\n",
    "transpiled.draw(\"mpl\", idle_wires=False, fold=-1, scale=0.5)"
   ]
  },
  {
   "cell_type": "markdown",
   "id": "8d0dcd59-54ef-4af8-9213-0784ef94b838",
   "metadata": {},
   "source": [
    "## Step 3: Execute using Qiskit primitives\n",
    "\n",
    "To execute the GEM protocol circuits on the hardware, call the `run` method of the `GemExperiment` object. You can specify the number of shots you want to sample from each circuit. The `run` method returns an [ExperimentData](https://qiskit-community.github.io/qiskit-experiments/stubs/qiskit_experiments.framework.ExperimentData.html) object which you should save to a variable. Note that the `run` method only submits jobs without waiting for them to finish, so it is a non-blocking call."
   ]
  },
  {
   "cell_type": "code",
   "execution_count": 10,
   "id": "6171a383-dd58-4e3f-88aa-bbec7b5870df",
   "metadata": {},
   "outputs": [],
   "source": [
    "exp_data = gem_exp.run(shots=10_000)"
   ]
  },
  {
   "cell_type": "markdown",
   "id": "71e81552-0d33-4950-8d45-e6c0a8a056c9",
   "metadata": {},
   "source": [
    "To wait for the results, call the `block_for_results` method of the `ExperimentData` object. This call will cause the interpreter to hang until the jobs are finished."
   ]
  },
  {
   "cell_type": "code",
   "execution_count": 11,
   "id": "ed14a067-35ba-4ffc-8534-4ae5ec6bc4c9",
   "metadata": {},
   "outputs": [
    {
     "data": {
      "text/plain": [
       "ExperimentData(GemExperiment, d0d5880a-34c1-4aab-a7b6-c4f58516bc03, job_ids=['cwg12ptmptp00082khhg'], metadata=<5 items>, figure_names=['two_point_correlation.svg', 'normalized_variance.svg', 'plaquette_ops.svg', 'bond_ops.svg'])"
      ]
     },
     "execution_count": 11,
     "metadata": {},
     "output_type": "execute_result"
    }
   ],
   "source": [
    "exp_data.block_for_results()"
   ]
  },
  {
   "cell_type": "markdown",
   "id": "36e0570b-f091-45f2-bb83-143edbc3b433",
   "metadata": {},
   "source": [
    "## Step 4: Post-process and return result in desired classical format\n",
    "\n",
    "At an $R_{ZZ}$ angle of $\\frac{\\pi}{2}$, the decoded state would be the GHZ state in the absence of noise. The long-range order of the GHZ state can be visualized by plotting the magnetization of the measured bitstrings. The magnetization $M$ is defined as the sum of the single-qubit Pauli $Z$ operators,\n",
    "$$\n",
    "M = \\sum_{j=1}^N Z_j,\n",
    "$$\n",
    "where $N$ is the number of site qubits. Its value for a bitstring is equal to the difference between the number of zeros and the number of ones. Measuring the GHZ state yields the all zeros state or the all ones state with equal probability, so the magnetization would be $+N$ half of the time and $-N$ the other half of the time. In the presence of errors due to noise, other values would also appear, but if the noise is not too great, the distribution would still be peaked near $+N$ and $-N$.\n",
    "\n",
    "For the raw bitstrings before decoding, the distribution of the magnetization would be equivalent to that of uniformly random bitstrings, in the absence of noise.\n",
    "\n",
    "The following code cell plots the magnetization of the raw bitstrings and the decoded bitstrings at the $R_{ZZ}$ angle of $\\frac{\\pi}{2}$."
   ]
  },
  {
   "cell_type": "code",
   "execution_count": null,
   "id": "8ead3582-16df-4616-836c-bdce867ad6b8",
   "metadata": {},
   "outputs": [
    {
     "data": {
      "text/plain": [
       "Text(0.5, 1.0, 'Magnetization distribution with and without decoding')"
      ]
     },
     "execution_count": 12,
     "metadata": {},
     "output_type": "execute_result"
    },
    {
     "data": {
      "text/plain": [
       "<Image src=\"/docs/images/tutorials/nishimori-phase-transition/extracted-outputs/8ead3582-16df-4616-836c-bdce867ad6b8-1.avif\" alt=\"Output of the previous code cell\" />"
      ]
     },
     "metadata": {},
     "output_type": "display_data"
    }
   ],
   "source": [
    "def magnetization_distribution(\n",
    "    counts_dict: dict[str, int],\n",
    ") -> dict[str, float]:\n",
    "    \"\"\"Compute magnetization distribution from counts dictionary.\"\"\"\n",
    "    # Construct dictionary from magnetization to count\n",
    "    mag_dist = defaultdict(float)\n",
    "    for bitstring, count in counts_dict.items():\n",
    "        mag = bitstring.count(\"0\") - bitstring.count(\"1\")\n",
    "        mag_dist[mag] += count\n",
    "    # Normalize\n",
    "    shots = sum(counts_dict.values())\n",
    "    for mag in mag_dist:\n",
    "        mag_dist[mag] /= shots\n",
    "    return mag_dist\n",
    "\n",
    "\n",
    "# Get counts dictionaries with and without decoding\n",
    "data = exp_data.data()\n",
    "# Get the last data point, which is at the angle for the GHZ state\n",
    "raw_counts = data[-1][\"counts\"]\n",
    "# Without decoding\n",
    "site_indices = [\n",
    "    i for i, q in enumerate(gem_exp.plaquettes.qubits()) if q.role == \"Site\"\n",
    "]\n",
    "site_raw_counts = defaultdict(int)\n",
    "for key, val in raw_counts.items():\n",
    "    site_str = \"\".join(key[-1 - i] for i in site_indices)\n",
    "    site_raw_counts[site_str] += val\n",
    "# With decoding\n",
    "_, site_decoded_counts = gem_exp.plaquettes.decode_outcomes(\n",
    "    raw_counts, return_counts=True\n",
    ")\n",
    "\n",
    "# Compute magnetization distribution\n",
    "raw_magnetization = magnetization_distribution(site_raw_counts)\n",
    "decoded_magnetization = magnetization_distribution(site_decoded_counts)\n",
    "\n",
    "# Plot\n",
    "plt.bar(*zip(*raw_magnetization.items()), label=\"raw\")\n",
    "plt.bar(*zip(*decoded_magnetization.items()), label=\"decoded\", width=0.3)\n",
    "plt.legend()\n",
    "plt.xlabel(\"Magnetization\")\n",
    "plt.ylabel(\"Frequency\")\n",
    "plt.title(\"Magnetization distribution with and without decoding\")"
   ]
  },
  {
   "cell_type": "markdown",
   "id": "90a7ae7a-5175-421f-bda9-bc6b986bdf5f",
   "metadata": {},
   "source": [
    "To more rigorously characterize the long-range order, you can examine the average two-point correlation $f$, defined as\n",
    "$$\n",
    "f = \\frac{1}{N^2} \\left(\\langle M^2 \\rangle - \\langle M \\rangle ^2\\right).\n",
    "$$\n",
    "A higher value indicates a greater degree of entanglement. The `GemExperiment` class automatically computes this value for the decoded bitstrings as part of processing the experimental data. It stores a figure that is accessible via the `figure` method of the experiment data class. In this case, the name of the figure is `two_point_correlation`."
   ]
  },
  {
   "cell_type": "code",
   "execution_count": 13,
   "id": "4ecb25c8-e572-49af-a879-9943039db131",
   "metadata": {},
   "outputs": [
    {
     "data": {
      "text/plain": [
       "<Image src=\"/docs/images/tutorials/nishimori-phase-transition/extracted-outputs/4ecb25c8-e572-49af-a879-9943039db131-0.avif\" alt=\"Output of the previous code cell\" />"
      ]
     },
     "execution_count": 13,
     "metadata": {},
     "output_type": "execute_result"
    }
   ],
   "source": [
    "exp_data.figure(\"two_point_correlation\")"
   ]
  },
  {
   "cell_type": "markdown",
   "id": "f2f3e7e2-2a8b-4790-8ba7-b190c4ed1049",
   "metadata": {},
   "source": [
    "To determine the critical point of the Nishimori phase transition, you can look at the normalized variance of $M^2 / N$, defined as\n",
    "$$\n",
    "g = \\frac{1}{N^3} \\left(\\langle M^4 \\rangle - \\langle M^2 \\rangle^2\\right),\n",
    "$$\n",
    "which quantifies the amount of fluctuation in the squared magnetization. This value is maximized at the critical point of the Nishimori phase transition. In the absence of noise, the critical point occurs at approximately $0.3 \\pi$. In the presence of noise, the critical point is shifted higher, but the phase transition is still observed as long as the critical point occurs below $0.5 \\pi$."
   ]
  },
  {
   "cell_type": "code",
   "execution_count": 14,
   "id": "2b351d68-3924-445a-94ef-047b16214e8a",
   "metadata": {},
   "outputs": [
    {
     "data": {
      "text/plain": [
       "<Image src=\"/docs/images/tutorials/nishimori-phase-transition/extracted-outputs/2b351d68-3924-445a-94ef-047b16214e8a-0.avif\" alt=\"Output of the previous code cell\" />"
      ]
     },
     "execution_count": 14,
     "metadata": {},
     "output_type": "execute_result"
    }
   ],
   "source": [
    "exp_data.figure(\"normalized_variance\")"
   ]
  },
  {
   "cell_type": "markdown",
   "id": "a94e0cbe-8429-487c-b203-50a8b2eacee3",
   "metadata": {},
   "source": [
    "## Scale up the experiment\n",
    "\n",
    "The following code cells run the experiment for 6 plaquettes (49 qubits) and the full 12 plaquettes (125 qubits) and plot the normalized variance. As the experiment is scaled to larger sizes, the greater amount of noise shifts the critical point rightwards."
   ]
  },
  {
   "cell_type": "code",
   "execution_count": 15,
   "id": "08581c09-a6a5-4a56-9fc4-abf22b063c6a",
   "metadata": {},
   "outputs": [
    {
     "data": {
      "text/plain": [
       "<Image src=\"/docs/images/tutorials/nishimori-phase-transition/extracted-outputs/08581c09-a6a5-4a56-9fc4-abf22b063c6a-0.avif\" alt=\"Output of the previous code cell\" />"
      ]
     },
     "execution_count": 15,
     "metadata": {},
     "output_type": "execute_result"
    }
   ],
   "source": [
    "gem_exp = GemExperiment(\n",
    "    plaquette_lattice.filter(range(3, 9)), backend=backend\n",
    ")\n",
    "gem_exp.set_experiment_options(schedule_idx=0)\n",
    "exp_data = gem_exp.run(shots=10_000)\n",
    "exp_data.block_for_results()\n",
    "exp_data.figure(\"normalized_variance\")"
   ]
  },
  {
   "cell_type": "code",
   "execution_count": 16,
   "id": "37e9a4cd-6efb-4ade-ad09-8139db9d58e9",
   "metadata": {},
   "outputs": [
    {
     "data": {
      "text/plain": [
       "<Image src=\"/docs/images/tutorials/nishimori-phase-transition/extracted-outputs/37e9a4cd-6efb-4ade-ad09-8139db9d58e9-0.avif\" alt=\"Output of the previous code cell\" />"
      ]
     },
     "execution_count": 16,
     "metadata": {},
     "output_type": "execute_result"
    }
   ],
   "source": [
    "gem_exp = GemExperiment(plaquette_lattice, backend=backend)\n",
    "gem_exp.set_experiment_options(schedule_idx=0)\n",
    "exp_data = gem_exp.run(shots=10_000)\n",
    "exp_data.block_for_results()\n",
    "exp_data.figure(\"normalized_variance\")"
   ]
  },
  {
   "cell_type": "markdown",
   "id": "6abd9701-58e4-43a8-a1d7-279506570de4",
   "metadata": {},
   "source": [
    "## Conclusion\n",
    "\n",
    "In this tutorial, you realized a Nishimori phase transition on a quantum processor using the GEM protocol. The metrics that you examined during post-processing, in particular the two-point correlation and the normalized variance, serve as benchmarks of the device's ability to generate long-range entangled states. These benchmarks extend the utility of the GEM protocol beyond probing interesting physics. As part of the protocol, you entangled qubits across the entire device using circuits of only constant depth. This feat is only possible due to the protocol's use of mid-circuit measurements. In this experiment, the entangled state was immediately measured, but an interesting avenue to explore would be to continue using the state in additional quantum processing!"
   ]
  },
  {
   "cell_type": "markdown",
   "id": "b9562a76",
   "metadata": {},
   "source": [
    "## Tutorial survey\n",
    "\n",
    "Please take one minute to provide feedback on this tutorial. Your insights will help us improve our content offerings and user experience.\n",
    "\n",
    "[Link to survey](https://your.feedback.ibm.com/jfe/form/SV_bsCKQkgzuQUQ7ky)"
   ]
  },
  {
   "cell_type": "markdown",
   "id": "05abb317-6eba-4f78-9f82-ad05439448ee",
   "metadata": {},
   "source": [
    "© IBM Corp. 2024"
   ]
  }
 ],
 "metadata": {
  "description": "This tutorial demonstrates how to realize a Nishimori phase transition on an IBM quantum processor.",
  "kernelspec": {
   "display_name": "Python 3",
   "language": "python",
   "name": "python3"
  },
  "language_info": {
   "codemirror_mode": {
    "name": "ipython",
    "version": 3
   },
   "file_extension": ".py",
   "mimetype": "text/x-python",
   "name": "python",
   "nbconvert_exporter": "python",
   "pygments_lexer": "ipython3",
   "version": "3"
  },
  "platform": "cloud",
  "title": "Nishimori phase transition"
 },
 "nbformat": 4,
 "nbformat_minor": 4
}
