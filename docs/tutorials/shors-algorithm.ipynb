{
 "cells": [
  {
   "cell_type": "markdown",
   "id": "e72c9e73-98e1-49ae-bc3c-511954eeb15c",
   "metadata": {
    "tags": [
     "remove_cell"
    ]
   },
   "source": [
    "# Shor's algorithm\n",
    "[Shor's algorithm,](https://epubs.siam.org/doi/abs/10.1137/S0036144598347011) developed by Peter Shor in 1994, is a groundbreaking quantum algorithm for factoring integers in polynomial time. Its significance lies in its ability to factor large integers exponentially faster than any known classical algorithm, threatening the security of widely used cryptographic systems like RSA, which rely on the difficulty of factoring large numbers. By efficiently solving this problem on a sufficiently powerful quantum computer, Shor's algorithm could revolutionize fields such as cryptography, cybersecurity, and computational mathematics, underscoring the transformative power of quantum computation.\n",
    "\n",
    "\n",
    "This tutorial focuses on demonstrating Shor's algorithm by factoring 15 on a quantum computer.\n",
    "\n",
    "First, we define the order finding problem and construct corresponding circuits from the quantum phase estimation protocol. Next, we run the order finding circuits on real hardware using shortest-depth circuits we can transpile. The last section completes Shor's algorithm by connecting the order finding problem to integer factorization.\n",
    "\n",
    "We end the tutorial with a discussion on other demonstrations of Shor's algorithm on real hardware, focusing on both generic implementations and those tailored to factoring specific integers such as 15 and 21."
   ]
  },
  {
   "cell_type": "markdown",
   "id": "22f3a6f3-0ba5-4826-a4f3-9dcc62f51c70",
   "metadata": {},
   "source": [
    "Note: This tutorial focuses more on the implementation and demonstration of the circuits concerning Shor's algorithm. For an in-depth educational resource on the material, please refer to the [Fundamentals of quantum algorithms](/learning/courses/fundamentals-of-quantum-algorithms/phase-estimation-and-factoring/introduction) course by Dr. John Watrous, and papers in the [References](#references) section."
   ]
  },
  {
   "cell_type": "markdown",
   "id": "b41b8639-ff72-4cd5-8bd3-3c16c01bedc0",
   "metadata": {},
   "source": [
    "### Requirements\n",
    "Before starting this tutorial, ensure that you have the following installed:\n",
    "- Qiskit SDK v2.0 or later with visualization support (`pip install 'qiskit[visualization]'`)\n",
    "- Qiskit Runtime v0.40 or later (`pip install qiskit-ibm-runtime`)"
   ]
  },
  {
   "cell_type": "markdown",
   "id": "93dcb213-ddcd-4329-8bcb-7c61fa298ee5",
   "metadata": {},
   "source": [
    "### Setup"
   ]
  },
  {
   "cell_type": "code",
   "execution_count": null,
   "id": "0860914d-cf1f-4bee-907d-3c442cd92cc6",
   "metadata": {},
   "outputs": [],
   "source": [
    "import numpy as np\n",
    "import pandas as pd\n",
    "from fractions import Fraction\n",
    "from math import floor, gcd, log\n",
    "\n",
    "from qiskit import QuantumCircuit, QuantumRegister, ClassicalRegister\n",
    "from qiskit.circuit.library import QFT, UnitaryGate\n",
    "from qiskit.transpiler import CouplingMap, generate_preset_pass_manager\n",
    "from qiskit.visualization import plot_histogram\n",
    "\n",
    "from qiskit_ibm_runtime import QiskitRuntimeService\n",
    "from qiskit_ibm_runtime import SamplerV2 as Sampler"
   ]
  },
  {
   "cell_type": "markdown",
   "id": "a28eeaa5-2da0-4b6b-8877-547a86fbcd76",
   "metadata": {},
   "source": [
    "## Step 1: Map classical inputs to a quantum problem"
   ]
  },
  {
   "cell_type": "markdown",
   "id": "c09ec908-51ba-4ea3-bc84-142e8f8002bf",
   "metadata": {},
   "source": [
    "### Background\n",
    "\n",
    "Shor's algorithm for integer factorization utilizes an intermediary problem known as the *order finding* problem. In this section, we demonstrate how to solve the order finding problem using *quantum phase estimation*."
   ]
  },
  {
   "cell_type": "markdown",
   "id": "e1aa8e70-a760-43ca-bcf2-def23d49ba36",
   "metadata": {},
   "source": [
    "### Phase estimation problem\n",
    "\n",
    "In the phase estimation problem, we're given a quantum state $\\ket{\\psi}$ of $n$ qubits, along with a unitary quantum circuit that acts on $n$ qubits. We're promised that $\\ket{\\psi}$ is an eigenvector of the unitary matrix $U$ that describes the action of the circuit, and our goal is to compute or approximate the eigenvalue $\\lambda = e^{2 \\pi i \\theta}$ to which $\\ket{\\psi}$ corresponds. In other words, the circuit should output an approximation to the number $\\theta \\in [0, 1)$ satisfying $$U \\ket{\\psi}= e^{2 \\pi i \\theta} \\ket{\\psi}.$$\n",
    "The goal of the phase estimation circuit is to approximate $\\theta$ in $m$ bits. Mathematically speaking, we would like to find $y$ such that $\\theta \\approx y / 2^m$, where $y \\in {0, 1, 2, \\dots, 2^{m-1}}$. The following image shows the quantum circuit that estimates $y$ in $m$ bits by making a measurement on $m$ qubits."
   ]
  },
  {
   "cell_type": "markdown",
   "id": "7ae92a5f-55b4-4597-be58-fe47b450dc39",
   "metadata": {},
   "source": [
    "![Quantum phase estimation circuit](/learning/images/courses/fundamentals-of-quantum-algorithms/phase-estimation-and-factoring/phase-estimation-procedure.svg)"
   ]
  },
  {
   "cell_type": "markdown",
   "id": "c527ff28-8038-44fc-8d62-1c9dda2b600e",
   "metadata": {},
   "source": [
    "In the above circuit, top $m$ qubits are initiated in the $\\ket{0^m}$ state, and the bottom $n$ qubits are initiated in $\\ket{\\psi}$, which is promised to be an eigenvector of $U$. The first ingredient in the phase estimation circuit are the controlled-unitary operations that are responsible for performing a *phase kickback* to their corresponding control qubit. These controlled unitaries are exponentiated in accordance to the position of the control qubit, ranging from the least significant bit to the most significant bit. Since $\\ket{\\psi}$ is an eigenvector of $U$, the state of the bottom $n$ qubits is not affected by this operation, but the phase information of the eigenvalue propagates to the top $m$ qubits."
   ]
  },
  {
   "cell_type": "markdown",
   "id": "40b4a6e3-6f46-4971-8054-4a7ae9dd535e",
   "metadata": {},
   "source": [
    "It turns out that after the phase kickback operation via controlled-unitaries, all possible states of the top $m$ qubits are orthonormal to each other for each eigenvector $\\ket{\\psi}$ of the unitary $U$. Therefore, these states are perfectly distinguishable, and we can rotate the basis they form back to the computational basis to make a measurement. A mathematical analysis shows that this rotation matrix corresponds to the inverse quantum Fourier transform (QFT) in $2^m$-dimensional Hilbert space. The intuition behind this is that the periodic structure of the modular exponentiation operators is encoded in the quantum state, and the QFT converts this periodicity into measurable peaks in the frequency domain.\n",
    "\n",
    "For a more in-depth understanding of why the QFT circuit is employed in Shor's algorithm, we refer the reader to the [Fundamentals of quantum algorithms](/learning/courses/fundamentals-of-quantum-algorithms/phase-estimation-and-factoring/introduction) course."
   ]
  },
  {
   "cell_type": "markdown",
   "id": "acfa31d3-7980-42ad-b418-77a24d16513a",
   "metadata": {},
   "source": [
    "We are now ready to use the phase estimation circuit for order finding."
   ]
  },
  {
   "cell_type": "markdown",
   "id": "535674d6-cc8a-45f5-9fc7-f5fd3053f4c4",
   "metadata": {},
   "source": [
    "### Order finding problem\n",
    "\n",
    "To define the order finding problem, we begin with some number theory concepts. First, for any given positive integer $N$, define the set $\\mathbb{Z}_N$ as $$\\mathbb{Z}_N = \\{0, 1, 2, \\dots, N-1\\}.$$\n",
    "All arithmetic operations in $\\mathbb{Z}_N$ are performed modulo $N$. In particular, all elements $a \\in \\mathbb{Z}_n$ that are coprime with $N$ are special and constitute $\\mathbb{Z}^*_N$ as $$\\mathbb{Z}^*_N = \\{ a \\in \\mathbb{Z}_N : \\mathrm{gcd}(a, N)=1 \\}.$$\n",
    "For an element $a \\in \\mathbb{Z}^*_N$, the smallest positive integer $r$ such that $$a^r \\equiv 1 \\; (\\mathrm{mod} \\; N)$$ is defined as the *order* of $a$ modulo $N$. As we will see later, finding the order of an $a \\in \\mathbb{Z}^*_N$ will allow us factor $N$."
   ]
  },
  {
   "cell_type": "markdown",
   "id": "6de4cbed-6591-40da-a994-2ff139c9f064",
   "metadata": {},
   "source": [
    "To construct the order finding circuit from the phase estimation circuit, we need two considerations. First, we need to define the unitary $U$ that will allow us to find the order $r$, and second, we need to define an eigenvector $\\ket{\\psi}$ of $U$ to prepare the initial state of the phase estimation circuit.\n",
    "\n",
    "To connect the order finding problem to phase estimation, we consider the operation defined on a system whose classical states correspond to $\\mathbb{Z}_N$, where we multiply by a fixed element $a \\in \\mathbb{Z}^*_N$. In particular, we define this multiplication operator $M_a$ such that $$M_a \\ket{x} = \\ket{ax \\; (\\mathrm{mod} \\; N)}$$ for each $x \\in \\mathbb{Z}_N$. Note that it's implicit that we're taking the product modulo $N$ inside of the ket on the right-hand side of the equation. A mathematical analysis shows that $M_a$ is an unitary operator. Furthermore, it turns out that $M_a$ has eigenvector and eigenvalue pairs that allow us to connect the order $r$ of $a$ to the phase estimation problem. Specifically, for any choice of $j \\in \\{0, \\dots, r-1\\}$, we have that $$\\ket{\\psi_j} = \\frac{1}{\\sqrt{r}} \\sum^{r-1}_{k=0} \\omega^{-jk}_{r} \\ket{a^k}$$ is an eigenvector of $M_a$ whose corresponding eigenvalue is $\\omega^{j}_{r}$, where $$\\omega^{j}_{r} = e^{2 \\pi i \\frac{j}{r}}.$$"
   ]
  },
  {
   "cell_type": "markdown",
   "id": "57942d8d-b2fc-4863-bfdd-f99aa941e0c0",
   "metadata": {},
   "source": [
    "By observation, we see that a convenient eigenvector/eigenvalue pair is the state $\\ket{\\psi_1}$ with $\\omega^{1}_{r} = e^{2 \\pi i \\frac{1}{r}}$. Therefore, if we could find the eigenvector $\\ket{\\psi_1}$, we could estimate the phase $\\theta=1/r$ with our quantum circuit and therefore get an estimate of the order $r$. However, it's not easy to do so, and we need to consider an alternative.\n",
    "\n",
    "Let's consider what the circuit would result in if we prepare the computational state $\\ket{1}$ as the initial state. This is not an eigenstate of $M_a$, but it is the uniform superposition of the eigenstates we just described above. In other words, the following relation holds. $$ \\ket{1} = \\frac{1}{\\sqrt{r}} \\sum^{r-1}_{k=0} \\ket{\\psi_k} $$\n",
    "The implication of the above equation is that if we set the initial state to $\\ket{1}$, we will obtain precisely the same measurement result as if we had chosen $k \\in \\{ 0, \\dots, r-1\\}$ uniformly at random and used $\\ket{\\psi_k}$ as an eigenvector in the phase estimation circuit. In other words, a measurement of the top $m$ qubits yields an approximation $y / 2^m$ to the value $k / r$ where  $k \\in \\{ 0, \\dots, r-1\\}$ is chosen uniformly at random. This allows us to learn $r$ with a high degree of confidence after several independent runs, which was our goal."
   ]
  },
  {
   "cell_type": "markdown",
   "id": "c037fd9d-2ad6-4258-a11d-bd91944e7f01",
   "metadata": {},
   "source": [
    "### Modular exponentiation operators\n",
    "\n",
    "So far, we linked the phase estimation problem to the order finding problem by defining $U = M_a$ and $\\ket{\\psi} = \\ket{1}$ in our quantum circuit. Therefore, the last remaining ingredient is to find an efficient way to define modular exponentials of $M_a$ as $M_a^k$ for $k = 1, 2, 4, \\dots, 2^{m-1}$.\n",
    "To perform this computation, we find that for any power $k$ we choose, we can create a circuit for $M_a^k$ not by iterating $k$ times the circuit for $M_a$, but instead by computing $b = a^k \\; \\mathrm{mod} \\; N$ and then using the circuit for $M_b$. Since we only need the powers that are powers of 2 themselves, we can do this classically efficiently by using iterative squaring."
   ]
  },
  {
   "cell_type": "markdown",
   "id": "09d93ee7-ab42-43a8-a44f-ad303c9407c7",
   "metadata": {},
   "source": [
    "## Step 2: Optimize problem for quantum hardware execution"
   ]
  },
  {
   "cell_type": "markdown",
   "id": "80d39ec2-715f-4014-9dbc-37db001528b1",
   "metadata": {},
   "source": [
    "### Specific example with $N = 15$ and $a=2$\n",
    "\n",
    "We can pause here to discuss a specific example and construct the order finding circuit for $N=15$. Note that possible nontrivial $a \\in \\mathbb{Z}_N^*$ for $N=15$ are $a \\in \\{2, 4, 7, 8, 11, 13, 14 \\}$. For this example, we choose $a=2$. We will construct the $M_2$ operator and the modular exponentiation operators $M_2^k$."
   ]
  },
  {
   "cell_type": "markdown",
   "id": "5fcd0c79-0c62-42f1-b6fa-c0f4c58e1994",
   "metadata": {},
   "source": [
    "The action of $M_2$ on the computational basis states is as follows.\n",
    "$$M_2 \\ket{0} = \\ket{0} \\quad M_2 \\ket{5} = \\ket{10} \\quad M_2 \\ket{10} = \\ket{5}$$\n",
    "$$M_2 \\ket{1} = \\ket{2} \\quad M_2 \\ket{6} = \\ket{12} \\quad M_2 \\ket{11} = \\ket{7}$$\n",
    "$$M_2 \\ket{2} = \\ket{4} \\quad M_2 \\ket{7} = \\ket{14} \\quad M_2 \\ket{12} = \\ket{9}$$\n",
    "$$M_2 \\ket{3} = \\ket{6} \\quad M_2 \\ket{8} = \\ket{1} \\quad M_2 \\ket{13} = \\ket{11}$$\n",
    "$$M_2 \\ket{4} = \\ket{8} \\quad M_2 \\ket{9} = \\ket{3} \\quad M_2 \\ket{14} = \\ket{13}$$\n",
    "By observation, we can see that the basis states are shuffled, so we have a permutation matrix. We can construct this operation on four qubits with swap gates. Below, we construct the $M_2$ and the controlled-$M_2$ operations."
   ]
  },
  {
   "cell_type": "code",
   "execution_count": 2,
   "id": "ec5d416b-7fc9-43f3-b291-e0edc8ad195f",
   "metadata": {},
   "outputs": [],
   "source": [
    "def M2mod15():\n",
    "    \"\"\"\n",
    "    M2 (mod 15)\n",
    "    \"\"\"\n",
    "    b = 2\n",
    "    U = QuantumCircuit(4)\n",
    "\n",
    "    U.swap(2, 3)\n",
    "    U.swap(1, 2)\n",
    "    U.swap(0, 1)\n",
    "\n",
    "    U = U.to_gate()\n",
    "    U.name = f\"M_{b}\"\n",
    "\n",
    "    return U"
   ]
  },
  {
   "cell_type": "code",
   "execution_count": 3,
   "id": "0a8885f1-91d4-40bd-912d-dc5eea05f5bd",
   "metadata": {},
   "outputs": [
    {
     "data": {
      "text/plain": [
       "<Image src=\"/docs/images/tutorials/shors-algorithm/extracted-outputs/0a8885f1-91d4-40bd-912d-dc5eea05f5bd-0.avif\" alt=\"Output of the previous code cell\" />"
      ]
     },
     "execution_count": 3,
     "metadata": {},
     "output_type": "execute_result"
    }
   ],
   "source": [
    "# Get the M2 operator\n",
    "M2 = M2mod15()\n",
    "\n",
    "# Add it to a circuit and plot\n",
    "circ = QuantumCircuit(4)\n",
    "circ.compose(M2, inplace=True)\n",
    "circ.decompose(reps=2).draw(output=\"mpl\", fold=-1)"
   ]
  },
  {
   "cell_type": "code",
   "execution_count": 4,
   "id": "d0ae7456-053a-4389-8653-a1c9c8ff757c",
   "metadata": {},
   "outputs": [],
   "source": [
    "def controlled_M2mod15():\n",
    "    \"\"\"\n",
    "    Controlled M2 (mod 15)\n",
    "    \"\"\"\n",
    "    b = 2\n",
    "    U = QuantumCircuit(4)\n",
    "\n",
    "    U.swap(2, 3)\n",
    "    U.swap(1, 2)\n",
    "    U.swap(0, 1)\n",
    "\n",
    "    U = U.to_gate()\n",
    "    U.name = f\"M_{b}\"\n",
    "    c_U = U.control()\n",
    "\n",
    "    return c_U"
   ]
  },
  {
   "cell_type": "code",
   "execution_count": 5,
   "id": "ab7fe331-2f9e-47ca-ba3b-f5d67992062a",
   "metadata": {},
   "outputs": [
    {
     "data": {
      "text/plain": [
       "<Image src=\"/docs/images/tutorials/shors-algorithm/extracted-outputs/ab7fe331-2f9e-47ca-ba3b-f5d67992062a-0.avif\" alt=\"Output of the previous code cell\" />"
      ]
     },
     "execution_count": 5,
     "metadata": {},
     "output_type": "execute_result"
    }
   ],
   "source": [
    "# Get the controlled-M2 operator\n",
    "controlled_M2 = controlled_M2mod15()\n",
    "\n",
    "# Add it to a circuit and plot\n",
    "circ = QuantumCircuit(5)\n",
    "circ.compose(controlled_M2, inplace=True)\n",
    "circ.decompose(reps=1).draw(output=\"mpl\", fold=-1)"
   ]
  },
  {
   "cell_type": "markdown",
   "id": "139b6d31-33d0-49ea-82b1-5bb50b5b6c9e",
   "metadata": {},
   "source": [
    "Gates acting on more than two qubits will be further decomposed into two-qubit gates."
   ]
  },
  {
   "cell_type": "code",
   "execution_count": 6,
   "id": "13b4841d-a4ac-46bd-b4d0-d111b3017189",
   "metadata": {},
   "outputs": [
    {
     "data": {
      "text/plain": [
       "<Image src=\"/docs/images/tutorials/shors-algorithm/extracted-outputs/13b4841d-a4ac-46bd-b4d0-d111b3017189-0.avif\" alt=\"Output of the previous code cell\" />"
      ]
     },
     "execution_count": 6,
     "metadata": {},
     "output_type": "execute_result"
    }
   ],
   "source": [
    "circ.decompose(reps=2).draw(output=\"mpl\", fold=-1)"
   ]
  },
  {
   "cell_type": "markdown",
   "id": "e361cc09-e357-4ba7-950b-9fa83898fa88",
   "metadata": {},
   "source": [
    "Now we need to construct the modular exponentiation operators. To obtain enough precision in the phase estimation, we will use eight qubits for the estimation measurement. Therefore, we need to construct $M_b$ with $b = a^{2^k} \\; (\\mathrm{mod} \\; N)$ for each $k = 0, 1, \\dots, 7$."
   ]
  },
  {
   "cell_type": "code",
   "execution_count": 7,
   "id": "72d989c8-ef62-44d7-887c-5fa13db818e9",
   "metadata": {},
   "outputs": [],
   "source": [
    "def a2kmodN(a, k, N):\n",
    "    \"\"\"Compute a^{2^k} (mod N) by repeated squaring\"\"\"\n",
    "    for _ in range(k):\n",
    "        a = int(np.mod(a**2, N))\n",
    "    return a"
   ]
  },
  {
   "cell_type": "code",
   "execution_count": 8,
   "id": "69fa8c9f-4107-4339-96db-c6f950a71261",
   "metadata": {},
   "outputs": [
    {
     "name": "stdout",
     "output_type": "stream",
     "text": [
      "[2, 4, 1, 1, 1, 1, 1, 1]\n"
     ]
    }
   ],
   "source": [
    "k_list = range(8)\n",
    "b_list = [a2kmodN(2, k, 15) for k in k_list]\n",
    "\n",
    "print(b_list)"
   ]
  },
  {
   "cell_type": "markdown",
   "id": "e28ed7e5-f7ca-4b7b-b875-f14c5229588c",
   "metadata": {},
   "source": [
    "As we can see from the list of $b$ values, in addition to $M_2$ that we previously constructed, we also need to build $M_4$ and $M_1$. Note that $M_1$ acts trivially on the computational basis states, so it is simply the identity operator.\n",
    "\n",
    "$M_4$ acts on the computational basis states as follows.\n",
    "$$M_4 \\ket{0} = \\ket{0} \\quad M_4 \\ket{5} = \\ket{5} \\quad M_4 \\ket{10} = \\ket{10}$$\n",
    "$$M_4 \\ket{1} = \\ket{4} \\quad M_4 \\ket{6} = \\ket{9} \\quad M_4 \\ket{11} = \\ket{14}$$\n",
    "$$M_4 \\ket{2} = \\ket{8} \\quad M_4 \\ket{7} = \\ket{13} \\quad M_4 \\ket{12} = \\ket{3}$$\n",
    "$$M_4 \\ket{3} = \\ket{12} \\quad M_4 \\ket{8} = \\ket{2} \\quad M_4 \\ket{13} = \\ket{7}$$\n",
    "$$M_4 \\ket{4} = \\ket{1} \\quad M_4 \\ket{9} = \\ket{6} \\quad M_4 \\ket{14} = \\ket{11}$$\n",
    "\n",
    "Therefore, this permutation can be constructed with the following swap operation."
   ]
  },
  {
   "cell_type": "code",
   "execution_count": 9,
   "id": "4f3a5fe4-5449-4869-ae94-6fdefd6765f0",
   "metadata": {},
   "outputs": [],
   "source": [
    "def M4mod15():\n",
    "    \"\"\"\n",
    "    M4 (mod 15)\n",
    "    \"\"\"\n",
    "    b = 4\n",
    "    U = QuantumCircuit(4)\n",
    "\n",
    "    U.swap(1, 3)\n",
    "    U.swap(0, 2)\n",
    "\n",
    "    U = U.to_gate()\n",
    "    U.name = f\"M_{b}\"\n",
    "\n",
    "    return U"
   ]
  },
  {
   "cell_type": "code",
   "execution_count": 10,
   "id": "be041e3d-28b1-453e-983e-184c2366aeb9",
   "metadata": {},
   "outputs": [
    {
     "data": {
      "text/plain": [
       "<Image src=\"/docs/images/tutorials/shors-algorithm/extracted-outputs/be041e3d-28b1-453e-983e-184c2366aeb9-0.avif\" alt=\"Output of the previous code cell\" />"
      ]
     },
     "execution_count": 10,
     "metadata": {},
     "output_type": "execute_result"
    }
   ],
   "source": [
    "# Get the M4 operator\n",
    "M4 = M4mod15()\n",
    "\n",
    "# Add it to a circuit and plot\n",
    "circ = QuantumCircuit(4)\n",
    "circ.compose(M4, inplace=True)\n",
    "circ.decompose(reps=2).draw(output=\"mpl\", fold=-1)"
   ]
  },
  {
   "cell_type": "code",
   "execution_count": 11,
   "id": "0efb7000-7d13-4b73-95d4-f9f747ec5119",
   "metadata": {},
   "outputs": [],
   "source": [
    "def controlled_M4mod15():\n",
    "    \"\"\"\n",
    "    Controlled M4 (mod 15)\n",
    "    \"\"\"\n",
    "    b = 4\n",
    "    U = QuantumCircuit(4)\n",
    "\n",
    "    U.swap(1, 3)\n",
    "    U.swap(0, 2)\n",
    "\n",
    "    U = U.to_gate()\n",
    "    U.name = f\"M_{b}\"\n",
    "    c_U = U.control()\n",
    "\n",
    "    return c_U"
   ]
  },
  {
   "cell_type": "code",
   "execution_count": 12,
   "id": "8d943b00-a502-4157-8a0d-13fb1f55e705",
   "metadata": {},
   "outputs": [
    {
     "data": {
      "text/plain": [
       "<Image src=\"/docs/images/tutorials/shors-algorithm/extracted-outputs/8d943b00-a502-4157-8a0d-13fb1f55e705-0.avif\" alt=\"Output of the previous code cell\" />"
      ]
     },
     "execution_count": 12,
     "metadata": {},
     "output_type": "execute_result"
    }
   ],
   "source": [
    "# Get the controlled-M4 operator\n",
    "controlled_M4 = controlled_M4mod15()\n",
    "\n",
    "# Add it to a circuit and plot\n",
    "circ = QuantumCircuit(5)\n",
    "circ.compose(controlled_M4, inplace=True)\n",
    "circ.decompose(reps=1).draw(output=\"mpl\", fold=-1)"
   ]
  },
  {
   "cell_type": "markdown",
   "id": "7d2a4f30-afb1-49fc-abbb-b9070b58fe8d",
   "metadata": {},
   "source": [
    "Gates acting on more than two qubits will be further decomposed into two-qubit gates."
   ]
  },
  {
   "cell_type": "code",
   "execution_count": 13,
   "id": "68399eef-5e55-4c95-a8a4-c8efaebd34b9",
   "metadata": {},
   "outputs": [
    {
     "data": {
      "text/plain": [
       "<Image src=\"/docs/images/tutorials/shors-algorithm/extracted-outputs/68399eef-5e55-4c95-a8a4-c8efaebd34b9-0.avif\" alt=\"Output of the previous code cell\" />"
      ]
     },
     "execution_count": 13,
     "metadata": {},
     "output_type": "execute_result"
    }
   ],
   "source": [
    "circ.decompose(reps=2).draw(output=\"mpl\", fold=-1)"
   ]
  },
  {
   "cell_type": "markdown",
   "id": "1f12fb24-257b-4b12-b7c5-e01b975e3216",
   "metadata": {},
   "source": [
    "We saw that $M_b$ operators for a given $b \\in \\mathbb{Z}^*_N$ are permutation operations. Due to the relatively small size of the permutation problem that we have here, since $N=15$ requires only four qubits, we were able to synthesize these operations directly with ``SWAP`` gates by inspection. In general, this might not be a scalable approach. Instead, we might need to construct the permutation matrix explicitly, and use Qiskit's ``UnitaryGate`` class and transpilation methods to synthesize this permutation matrix. However, this can result in significantly deeper circuits. An example follows."
   ]
  },
  {
   "cell_type": "code",
   "execution_count": 14,
   "id": "33a328b8-11d8-4b0c-a277-5d76b2c07c5e",
   "metadata": {},
   "outputs": [],
   "source": [
    "def mod_mult_gate(b, N):\n",
    "    \"\"\"\n",
    "    Modular multiplication gate from permutation matrix.\n",
    "    \"\"\"\n",
    "    if gcd(b, N) > 1:\n",
    "        print(f\"Error: gcd({b},{N}) > 1\")\n",
    "    else:\n",
    "        n = floor(log(N - 1, 2)) + 1\n",
    "        U = np.full((2**n, 2**n), 0)\n",
    "        for x in range(N):\n",
    "            U[b * x % N][x] = 1\n",
    "        for x in range(N, 2**n):\n",
    "            U[x][x] = 1\n",
    "        G = UnitaryGate(U)\n",
    "        G.name = f\"M_{b}\"\n",
    "        return G"
   ]
  },
  {
   "cell_type": "code",
   "execution_count": 15,
   "id": "c184f6dd-9f80-4487-ac0b-0dd94170b0f0",
   "metadata": {},
   "outputs": [
    {
     "name": "stdout",
     "output_type": "stream",
     "text": [
      "qubits: 4\n",
      "2q-depth: 94\n",
      "2q-size: 96\n",
      "Operator counts: OrderedDict({'cx': 45, 'swap': 32, 'u': 24, 'u1': 7, 'u3': 4, 'unitary': 3, 'circuit-335': 1, 'circuit-338': 1, 'circuit-341': 1, 'circuit-344': 1, 'circuit-347': 1, 'circuit-350': 1, 'circuit-353': 1, 'circuit-356': 1, 'circuit-359': 1, 'circuit-362': 1, 'circuit-365': 1, 'circuit-368': 1, 'circuit-371': 1, 'circuit-374': 1, 'circuit-377': 1, 'circuit-380': 1})\n"
     ]
    },
    {
     "data": {
      "text/plain": [
       "<Image src=\"/docs/images/tutorials/shors-algorithm/extracted-outputs/c184f6dd-9f80-4487-ac0b-0dd94170b0f0-1.avif\" alt=\"Output of the previous code cell\" />"
      ]
     },
     "execution_count": 15,
     "metadata": {},
     "output_type": "execute_result"
    }
   ],
   "source": [
    "# Let's build M2 using the permutation matrix definition\n",
    "M2_other = mod_mult_gate(2, 15)\n",
    "\n",
    "# Add it to a circuit\n",
    "circ = QuantumCircuit(4)\n",
    "circ.compose(M2_other, inplace=True)\n",
    "circ = circ.decompose()\n",
    "\n",
    "# Transpile the circuit and get the depth\n",
    "coupling_map = CouplingMap.from_line(4)\n",
    "pm = generate_preset_pass_manager(coupling_map=coupling_map)\n",
    "transpiled_circ = pm.run(circ)\n",
    "\n",
    "print(f\"qubits: {circ.num_qubits}\")\n",
    "print(\n",
    "    f\"2q-depth: {transpiled_circ.depth(lambda x: x.operation.num_qubits==2)}\"\n",
    ")\n",
    "print(f\"2q-size: {transpiled_circ.size(lambda x: x.operation.num_qubits==2)}\")\n",
    "print(f\"Operator counts: {transpiled_circ.count_ops()}\")\n",
    "transpiled_circ.decompose().draw(\n",
    "    output=\"mpl\", fold=-1, style=\"clifford\", idle_wires=False\n",
    ")"
   ]
  },
  {
   "cell_type": "markdown",
   "id": "fe8caaf6-4bb6-4d27-8177-71f1b530556d",
   "metadata": {},
   "source": [
    "Let's compare these counts with the compiled circuit depth of our manual implementation of the $M_2$ gate."
   ]
  },
  {
   "cell_type": "code",
   "execution_count": 16,
   "id": "0235c931-0adb-4972-9fce-32a0341822bf",
   "metadata": {},
   "outputs": [
    {
     "name": "stdout",
     "output_type": "stream",
     "text": [
      "qubits: 4\n",
      "2q-depth: 9\n",
      "2q-size: 9\n",
      "Operator counts: OrderedDict({'cx': 9})\n"
     ]
    },
    {
     "data": {
      "text/plain": [
       "<Image src=\"/docs/images/tutorials/shors-algorithm/extracted-outputs/0235c931-0adb-4972-9fce-32a0341822bf-1.avif\" alt=\"Output of the previous code cell\" />"
      ]
     },
     "execution_count": 16,
     "metadata": {},
     "output_type": "execute_result"
    }
   ],
   "source": [
    "# Get the M2 operator from our manual construction\n",
    "M2 = M2mod15()\n",
    "\n",
    "# Add it to a circuit\n",
    "circ = QuantumCircuit(4)\n",
    "circ.compose(M2, inplace=True)\n",
    "circ = circ.decompose(reps=3)\n",
    "\n",
    "# Transpile the circuit and get the depth\n",
    "coupling_map = CouplingMap.from_line(4)\n",
    "pm = generate_preset_pass_manager(coupling_map=coupling_map)\n",
    "transpiled_circ = pm.run(circ)\n",
    "\n",
    "print(f\"qubits: {circ.num_qubits}\")\n",
    "print(\n",
    "    f\"2q-depth: {transpiled_circ.depth(lambda x: x.operation.num_qubits==2)}\"\n",
    ")\n",
    "print(f\"2q-size: {transpiled_circ.size(lambda x: x.operation.num_qubits==2)}\")\n",
    "print(f\"Operator counts: {transpiled_circ.count_ops()}\")\n",
    "transpiled_circ.draw(\n",
    "    output=\"mpl\", fold=-1, style=\"clifford\", idle_wires=False\n",
    ")"
   ]
  },
  {
   "cell_type": "markdown",
   "id": "c3f0f349-a26c-4176-aa9d-407e17184b91",
   "metadata": {},
   "source": [
    "As we can see, the permutation matrix approach resulted in a significantly deep circuit even for a single $M_2$ gate compared to our manual implementation of it. Therefore, we will continue with our previous implementation of the $M_b$ operations."
   ]
  },
  {
   "cell_type": "markdown",
   "id": "0dafd632-797b-402c-a88a-821a62c7265a",
   "metadata": {},
   "source": [
    "Now, we are ready to construct the full order finding circuit using our previously defined controlled modular exponentiation operators. In the following code, we also import the [QFT circuit](/docs/api/qiskit/qiskit.circuit.library.QFT) from the Qiskit Circuit library, which uses Hadamard gates on each qubit, a series of controlled-U1 (or Z, depending on the phase) gates, and a layer of swap gates."
   ]
  },
  {
   "cell_type": "code",
   "execution_count": 17,
   "id": "0e854aed-c11b-494c-8c80-adeb8eb0e8fe",
   "metadata": {},
   "outputs": [
    {
     "data": {
      "text/plain": [
       "<Image src=\"/docs/images/tutorials/shors-algorithm/extracted-outputs/0e854aed-c11b-494c-8c80-adeb8eb0e8fe-0.avif\" alt=\"Output of the previous code cell\" />"
      ]
     },
     "execution_count": 17,
     "metadata": {},
     "output_type": "execute_result"
    }
   ],
   "source": [
    "# Order finding problem for N = 15 with a = 2\n",
    "N = 15\n",
    "a = 2\n",
    "\n",
    "# Number of qubits\n",
    "num_target = floor(log(N - 1, 2)) + 1  # for modular exponentiation operators\n",
    "num_control = 2 * num_target  # for enough precision of estimation\n",
    "\n",
    "# List of M_b operators in order\n",
    "k_list = range(num_control)\n",
    "b_list = [a2kmodN(2, k, 15) for k in k_list]\n",
    "\n",
    "# Initialize the circuit\n",
    "control = QuantumRegister(num_control, name=\"C\")\n",
    "target = QuantumRegister(num_target, name=\"T\")\n",
    "output = ClassicalRegister(num_control, name=\"out\")\n",
    "circuit = QuantumCircuit(control, target, output)\n",
    "\n",
    "# Initialize the target register to the state |1>\n",
    "circuit.x(num_control)\n",
    "\n",
    "# Add the Hadamard gates and controlled versions of the\n",
    "# multiplication gates\n",
    "for k, qubit in enumerate(control):\n",
    "    circuit.h(k)\n",
    "    b = b_list[k]\n",
    "    if b == 2:\n",
    "        circuit.compose(\n",
    "            M2mod15().control(), qubits=[qubit] + list(target), inplace=True\n",
    "        )\n",
    "    elif b == 4:\n",
    "        circuit.compose(\n",
    "            M4mod15().control(), qubits=[qubit] + list(target), inplace=True\n",
    "        )\n",
    "    else:\n",
    "        continue  # M1 is the identity operator\n",
    "\n",
    "# Apply the inverse QFT to the control register\n",
    "circuit.compose(QFT(num_control, inverse=True), qubits=control, inplace=True)\n",
    "\n",
    "# Measure the control register\n",
    "circuit.measure(control, output)\n",
    "\n",
    "circuit.draw(\"mpl\", fold=-1)"
   ]
  },
  {
   "cell_type": "markdown",
   "id": "78cf31ef-b2e7-4256-996a-5f89500efb52",
   "metadata": {},
   "source": [
    "Note that we omitted the controlled modular exponentiation operations from the remaining control qubits because $M_1$ is the identity operator."
   ]
  },
  {
   "cell_type": "markdown",
   "id": "792a5cb7-2ac0-4964-b747-2780193a0401",
   "metadata": {},
   "source": [
    "Note that later in this tutorial, we will run this circuit on the `ibm_marrakesh` backend. To do this, we transpile the circuit according to this specific backend and report the circuit depth and gate counts."
   ]
  },
  {
   "cell_type": "code",
   "execution_count": null,
   "id": "95925dd5-7ba9-4746-b96e-ba50400fa5ac",
   "metadata": {},
   "outputs": [
    {
     "name": "stdout",
     "output_type": "stream",
     "text": [
      "2q-depth: 187\n",
      "2q-size: 260\n",
      "Operator counts: OrderedDict({'sx': 521, 'rz': 354, 'cz': 260, 'measure': 8, 'x': 4})\n"
     ]
    },
    {
     "data": {
      "text/plain": [
       "<Image src=\"/docs/images/tutorials/shors-algorithm/extracted-outputs/95925dd5-7ba9-4746-b96e-ba50400fa5ac-1.avif\" alt=\"Output of the previous code cell\" />"
      ]
     },
     "execution_count": 18,
     "metadata": {},
     "output_type": "execute_result"
    }
   ],
   "source": [
    "service = QiskitRuntimeService()\n",
    "backend = service.backend(\"ibm_marrakesh\")\n",
    "pm = generate_preset_pass_manager(optimization_level=2, backend=backend)\n",
    "\n",
    "transpiled_circuit = pm.run(circuit)\n",
    "\n",
    "print(\n",
    "    f\"2q-depth: {transpiled_circuit.depth(lambda x: x.operation.num_qubits==2)}\"\n",
    ")\n",
    "print(\n",
    "    f\"2q-size: {transpiled_circuit.size(lambda x: x.operation.num_qubits==2)}\"\n",
    ")\n",
    "print(f\"Operator counts: {transpiled_circuit.count_ops()}\")\n",
    "transpiled_circuit.draw(\n",
    "    output=\"mpl\", fold=-1, style=\"clifford\", idle_wires=False\n",
    ")"
   ]
  },
  {
   "cell_type": "markdown",
   "id": "f96a2a7e-0363-49d6-bc21-f0f207a84610",
   "metadata": {},
   "source": [
    "## Step 3: Execute using Qiskit primitives"
   ]
  },
  {
   "cell_type": "markdown",
   "id": "a3fd5248-11f2-40b6-857a-6efc25e31bdb",
   "metadata": {},
   "source": [
    "First, we discuss what we would theoretically obtain if we ran this circuit on an ideal simulator. Below, we have a set of simulation results of the above circuit using 1024 shots. As we can see, we get an approximately uniform distribution over four bitstrings over the control qubits."
   ]
  },
  {
   "cell_type": "code",
   "execution_count": 19,
   "id": "c8720362-684f-4114-8abb-83d71d21c0df",
   "metadata": {},
   "outputs": [],
   "source": [
    "# Obtained from the simulator\n",
    "counts = {\"00000000\": 264, \"01000000\": 268, \"10000000\": 249, \"11000000\": 243}"
   ]
  },
  {
   "cell_type": "code",
   "execution_count": 20,
   "id": "0d6d2702-02e4-47de-8f7e-0b256657ef0f",
   "metadata": {},
   "outputs": [
    {
     "data": {
      "text/plain": [
       "<Image src=\"/docs/images/tutorials/shors-algorithm/extracted-outputs/0d6d2702-02e4-47de-8f7e-0b256657ef0f-0.avif\" alt=\"Output of the previous code cell\" />"
      ]
     },
     "execution_count": 20,
     "metadata": {},
     "output_type": "execute_result"
    }
   ],
   "source": [
    "plot_histogram(counts)"
   ]
  },
  {
   "cell_type": "markdown",
   "id": "5ddd6952-fb4d-447c-8781-968ca5bb88a3",
   "metadata": {},
   "source": [
    "By measuring the control qubits, we obtain an eight-bit phase estimation of the $M_a$ operator. We can convert this binary representation to decimal to find the measured phase. As we can see from the above histogram, four different bitstrings were measured, and each of them corresponds to a phase value as follows."
   ]
  },
  {
   "cell_type": "code",
   "execution_count": 21,
   "id": "59ae21fc-e3d0-48e3-8cc6-dbce59c747ca",
   "metadata": {},
   "outputs": [
    {
     "name": "stdout",
     "output_type": "stream",
     "text": [
      "            Register Output           Phase\n",
      "0  00000000(bin) =   0(dec)    0/256 = 0.00\n",
      "1  01000000(bin) =  64(dec)   64/256 = 0.25\n",
      "2  10000000(bin) = 128(dec)  128/256 = 0.50\n",
      "3  11000000(bin) = 192(dec)  192/256 = 0.75\n"
     ]
    }
   ],
   "source": [
    "# Rows to be displayed in table\n",
    "rows = []\n",
    "# Corresponding phase of each bitstring\n",
    "measured_phases = []\n",
    "\n",
    "for output in counts:\n",
    "    decimal = int(output, 2)  # Convert bitstring to decimal\n",
    "    phase = decimal / (2**num_control)  # Find corresponding eigenvalue\n",
    "    measured_phases.append(phase)\n",
    "    # Add these values to the rows in our table:\n",
    "    rows.append(\n",
    "        [\n",
    "            f\"{output}(bin) = {decimal:>3}(dec)\",\n",
    "            f\"{decimal}/{2 ** num_control} = {phase:.2f}\",\n",
    "        ]\n",
    "    )\n",
    "\n",
    "# Print the rows in a table\n",
    "headers = [\"Register Output\", \"Phase\"]\n",
    "df = pd.DataFrame(rows, columns=headers)\n",
    "print(df)"
   ]
  },
  {
   "cell_type": "markdown",
   "id": "f0ca65bb-abb4-4f4b-bc32-4749f36e5780",
   "metadata": {},
   "source": [
    "Recall that the any measured phase corresponds to $\\theta = k / r$ where $k$ is sampled uniformly at random from $\\{0, 1, \\dots, r-1 \\}$. Therefore, we can use the continued fractions algorithm to attempt to find $k$ and the order $r$. Python has this functionality built in. We can use the `fractions` module to turn a float into a `Fraction` object, for example:"
   ]
  },
  {
   "cell_type": "code",
   "execution_count": 22,
   "id": "999f04bc-f912-465f-9cba-90d08bda3758",
   "metadata": {},
   "outputs": [
    {
     "data": {
      "text/plain": [
       "Fraction(5998794703657501, 9007199254740992)"
      ]
     },
     "execution_count": 22,
     "metadata": {},
     "output_type": "execute_result"
    }
   ],
   "source": [
    "Fraction(0.666)"
   ]
  },
  {
   "cell_type": "markdown",
   "id": "c5452b79-967f-4fe9-86d7-f9797987a8b5",
   "metadata": {},
   "source": [
    "Because this gives fractions that return the result exactly (in this case, `0.6660000...`), this can give gnarly results like the one above. We can use the `.limit_denominator()` method to get the fraction that most closely resembles our float, with a denominator below a certain value:"
   ]
  },
  {
   "cell_type": "code",
   "execution_count": 23,
   "id": "1352aa9e-7c98-4862-8ac6-8d17fce61f3d",
   "metadata": {},
   "outputs": [
    {
     "data": {
      "text/plain": [
       "Fraction(2, 3)"
      ]
     },
     "execution_count": 23,
     "metadata": {},
     "output_type": "execute_result"
    }
   ],
   "source": [
    "# Get fraction that most closely resembles 0.666\n",
    "# with denominator < 15\n",
    "Fraction(0.666).limit_denominator(15)"
   ]
  },
  {
   "cell_type": "markdown",
   "id": "ab1ce9d5-7a24-4717-a94b-576f8c940ec2",
   "metadata": {},
   "source": [
    "This is much nicer. The order (r) must be less than N, so we will set the maximum denominator to be `15`:"
   ]
  },
  {
   "cell_type": "code",
   "execution_count": 24,
   "id": "6c20bff2-29b7-45ea-b1ed-e802e0d1a0f9",
   "metadata": {},
   "outputs": [
    {
     "name": "stdout",
     "output_type": "stream",
     "text": [
      "   Phase Fraction  Guess for r\n",
      "0   0.00      0/1            1\n",
      "1   0.25      1/4            4\n",
      "2   0.50      1/2            2\n",
      "3   0.75      3/4            4\n"
     ]
    }
   ],
   "source": [
    "# Rows to be displayed in a table\n",
    "rows = []\n",
    "\n",
    "for phase in measured_phases:\n",
    "    frac = Fraction(phase).limit_denominator(15)\n",
    "    rows.append(\n",
    "        [phase, f\"{frac.numerator}/{frac.denominator}\", frac.denominator]\n",
    "    )\n",
    "\n",
    "# Print the rows in a table\n",
    "headers = [\"Phase\", \"Fraction\", \"Guess for r\"]\n",
    "df = pd.DataFrame(rows, columns=headers)\n",
    "print(df)"
   ]
  },
  {
   "cell_type": "markdown",
   "id": "7590599a-bb21-4d9c-8a78-2ff406acc4af",
   "metadata": {},
   "source": [
    "We can see that two of the measured eigenvalues provided us with the correct result: $r=4$, and we can see that Shor’s algorithm for order finding has a chance of failing. These bad results are because $k = 0$, or because $k$ and $r$ are not coprime - and instead of $r$, we are given a factor of $r$. The easiest solution to this is to simply repeat the experiment until we get a satisfying result for $r$."
   ]
  },
  {
   "cell_type": "markdown",
   "id": "174b446c-ca09-4816-8983-33f61eaecfa6",
   "metadata": {},
   "source": [
    "So far, we implemented the order finding problem for $N=15$ with $a=2$ using the phase estimation circuit on a simulator. The last step of Shor's algorithm will be to relate the order finding problem to the integer factorization problem. This last part of the algorithm is purely classical and can be solved on a classical computer after the phase measurements have been obtained from a quantum computer. Therefore, we defer the last part of the algorithm until after we demonstrate how we can run the order finding circuit on real hardware."
   ]
  },
  {
   "cell_type": "markdown",
   "id": "7c826de7-0caa-4337-826e-3e81024ce125",
   "metadata": {},
   "source": [
    "### Hardware runs"
   ]
  },
  {
   "cell_type": "markdown",
   "id": "a8d6d6a9-9494-4733-89a2-790ac8adf929",
   "metadata": {},
   "source": [
    "Now we can run the order finding circuit that we previously transpiled for `ibm_marrakesh`. Here we turn to [dynamical decoupling](/docs/guides/error-mitigation-and-suppression-techniques#dynamical-decoupling) (DD) for error suppression, and [gate twirling](/docs/guides/error-mitigation-and-suppression-techniques#pauli-twirling) for error mitigation purposes. DD involves applying sequences of precisely timed control pulses to a quantum device, effectively averaging out unwanted environmental interactions and decoherence. Gate twirling, on the other hand, randomizes specific quantum gates to transform coherent errors into Pauli errors, which accumulate linearly rather than quadratically. Both techniques are often combined to enhance the coherence and fidelity of quantum computations."
   ]
  },
  {
   "cell_type": "code",
   "execution_count": null,
   "id": "af61f1de-be24-4fc6-b2bb-af6845163c3c",
   "metadata": {},
   "outputs": [],
   "source": [
    "# Sampler primitive to obtain the probability distribution\n",
    "sampler = Sampler(backend)\n",
    "\n",
    "# Turn on dynamical decoupling with sequence XpXm\n",
    "sampler.options.dynamical_decoupling.enable = True\n",
    "sampler.options.dynamical_decoupling.sequence_type = \"XpXm\"\n",
    "# Enable gate twirling\n",
    "sampler.options.twirling.enable_gates = True\n",
    "\n",
    "pub = transpiled_circuit\n",
    "job = sampler.run([pub], shots=1024)"
   ]
  },
  {
   "cell_type": "code",
   "execution_count": 25,
   "id": "e5f53a20-40a4-440f-a6ea-349c20efbc95",
   "metadata": {},
   "outputs": [],
   "source": [
    "result = job.result()[0]\n",
    "counts = result.data[\"out\"].get_counts()"
   ]
  },
  {
   "cell_type": "code",
   "execution_count": 26,
   "id": "559d7030-1f67-44e8-afa7-6afc7a334677",
   "metadata": {},
   "outputs": [
    {
     "data": {
      "text/plain": [
       "<Image src=\"/docs/images/tutorials/shors-algorithm/extracted-outputs/559d7030-1f67-44e8-afa7-6afc7a334677-0.avif\" alt=\"Output of the previous code cell\" />"
      ]
     },
     "execution_count": 26,
     "metadata": {},
     "output_type": "execute_result"
    }
   ],
   "source": [
    "plot_histogram(counts, figsize=(35, 5))"
   ]
  },
  {
   "cell_type": "markdown",
   "id": "3614aa7e-0410-4e9e-b33a-3caf407e086a",
   "metadata": {},
   "source": [
    "As we can see, we obtained the same bitstrings with highest counts. Since quantum hardware has noise, there is some leakage to other bitstrings, which we can filter out statistically."
   ]
  },
  {
   "cell_type": "code",
   "execution_count": 27,
   "id": "f9cf9a07-5251-47bc-9713-c802f8f1a37c",
   "metadata": {},
   "outputs": [
    {
     "name": "stdout",
     "output_type": "stream",
     "text": [
      "{'00000000': 58, '01000000': 41, '11000000': 42, '10000000': 40}\n"
     ]
    }
   ],
   "source": [
    "# Dictionary of bitstrings and their counts to keep\n",
    "counts_keep = {}\n",
    "# Threshold to filter\n",
    "threshold = np.max(list(counts.values())) / 2\n",
    "\n",
    "for key, value in counts.items():\n",
    "    if value > threshold:\n",
    "        counts_keep[key] = value\n",
    "\n",
    "print(counts_keep)"
   ]
  },
  {
   "cell_type": "markdown",
   "id": "c32cca67-9c9d-4373-9a0a-3174e884dd91",
   "metadata": {},
   "source": [
    "## Step 4: Post-process and return result in desired classical format"
   ]
  },
  {
   "cell_type": "markdown",
   "id": "5a7b116b-02d0-47dc-8cab-e792ba36d868",
   "metadata": {},
   "source": [
    "### Integer Factorization"
   ]
  },
  {
   "cell_type": "markdown",
   "id": "691df180-6ac3-49ac-ad4d-2d78348ceea7",
   "metadata": {},
   "source": [
    "So far, we discussed how we can implement the order finding problem using a phase estimation circuit. Now, we connect the order finding problem to integer factorization, which completes Shor's algorithm. Note that this part of the algorithm is classical."
   ]
  },
  {
   "cell_type": "markdown",
   "id": "fe3472a3-f8cd-4db9-8178-c025ccf2ec55",
   "metadata": {},
   "source": [
    "We now demonstrate this using our example of $N = 15$ and $a = 2$. Recall that the phase we measured is $k / r$, where $$a^r \\; (\\textrm{mod} \\; N) = 1$$ and $k$ is a random integer between $0$ and $r - 1$. From this equation, we have $$(a^r - 1) \\; (\\textrm{mod} \\; N) = 0,$$ which means $N$ must divide $a^r-1$. If $r$ is also even, then we can write $$a^r -1 = (a^{r/2}-1)(a^{r/2}+1).$$ If $r$ is not even, we cannot go further and must try again with a different value for $a$; otherwise, there is a high probability that the greatest common divisor of $N$ and either $a^{r/2}-1$, or $a^{r/2}+1$ is a proper factor of $N$.\n",
    "\n",
    "Since some runs of the algorithm will statistically fail, we will repeat this algorithm until at least one factor of $N$ is found."
   ]
  },
  {
   "cell_type": "markdown",
   "id": "dda4ad11-ef2b-4bfb-ba3c-5cb1f5810871",
   "metadata": {},
   "source": [
    "The cell below repeats the algorithm until at least one factor of $N=15$ is found. We will use the results of the hardware run above to guess the phase and the corresponding factor in each iteration."
   ]
  },
  {
   "cell_type": "code",
   "execution_count": 28,
   "id": "5d67cd71-8651-4a10-a913-a5bdaa6d6b38",
   "metadata": {},
   "outputs": [
    {
     "name": "stdout",
     "output_type": "stream",
     "text": [
      "\n",
      "ATTEMPT 0:\n",
      "Phase: theta = 0.0\n",
      "Order of 2 modulo 15 estimated as: r = 1\n",
      "\n",
      "ATTEMPT 1:\n",
      "Phase: theta = 0.25\n",
      "Order of 2 modulo 15 estimated as: r = 4\n",
      "*** Non-trivial factor found: 3 ***\n"
     ]
    }
   ],
   "source": [
    "a = 2\n",
    "N = 15\n",
    "\n",
    "FACTOR_FOUND = False\n",
    "num_attempt = 0\n",
    "\n",
    "while not FACTOR_FOUND:\n",
    "    print(f\"\\nATTEMPT {num_attempt}:\")\n",
    "    # Here, we get the bitstring by iterating over outcomes\n",
    "    # of a previous hardware run with multiple shots.\n",
    "    # Instead, we can also perform a single-shot measurement\n",
    "    # here in the loop.\n",
    "    bitstring = list(counts_keep.keys())[num_attempt]\n",
    "    num_attempt += 1\n",
    "    # Find the phase from measurement\n",
    "    decimal = int(bitstring, 2)\n",
    "    phase = decimal / (2**num_control)  # phase = k / r\n",
    "    print(f\"Phase: theta = {phase}\")\n",
    "\n",
    "    # Guess the order from phase\n",
    "    frac = Fraction(phase).limit_denominator(N)\n",
    "    r = frac.denominator  # order = r\n",
    "    print(f\"Order of {a} modulo {N} estimated as: r = {r}\")\n",
    "\n",
    "    if phase != 0:\n",
    "        # Guesses for factors are gcd(a^{r / 2} ± 1, 15)\n",
    "        if r % 2 == 0:\n",
    "            x = pow(a, r // 2, N) - 1\n",
    "            d = gcd(x, N)\n",
    "            if d > 1:\n",
    "                FACTOR_FOUND = True\n",
    "                print(f\"*** Non-trivial factor found: {x} ***\")"
   ]
  },
  {
   "cell_type": "markdown",
   "id": "00f31b56-e1a9-479e-8a82-bb708263f1a3",
   "metadata": {},
   "source": [
    "## Discussion"
   ]
  },
  {
   "cell_type": "markdown",
   "id": "69189c94-6e78-410d-a365-8649d4c69163",
   "metadata": {},
   "source": [
    "### Related work\n",
    "In this section, we discuss other milestone work that has demonstrated Shor's algorithm on real hardware.\n",
    "\n",
    "The seminal work [[3]](#references) from IBM&reg; demonstrated Shor's algorithm for the first time, factoring the number 15 into its prime factors 3 and 5 using a seven-qubit nuclear magnetic resonance (NMR) quantum computer. Another experiment [[4]](#references) factored 15 using photonic qubits. By employing a single qubit recycled multiple times and encoding the work register in higher-dimensional states, the researchers reduced the required number of qubits to one-third of that in the standard protocol, utilizing a two-photon compiled algorithm. A significant paper in the demonstration of Shor's algorithm is [[5]](#references), which uses Kitaev's iterative phase estimation [[8]](#references) technique to reduce the qubit requirement of the algorithm. Authors used seven control qubits and four cache qubits, together with the implementation of modular multipliers. This implementation, however, requires mid-circuit measurements with feed-forward operations and qubit recycling with reset operations. This demonstration was done on an ion-trap quantum computer.\n",
    "\n",
    "More recent work [[6]](#references) focused on factoring 15, 21, and 35 on IBM Quantum&reg; hardware. Similar to previous work, researchers used a compiled version of the algorithm that employed a semi-classical quantum Fourier transform as proposed by Kitaev to minimize the number of physical qubits and gates. A most recent work [[7]](#references) also performed a proof-of-concept demonstration for factoring the integer 21. This demonstration also involved the use of a compiled version of the quantum phase estimation routine, and built upon the previous demonstration by [[4]](#references). Authors went beyond this work by using a configuration of approximate Toffoli gates with residual phase shifts. The algorithm was implemented on IBM quantum processors using only five qubits, and the presence of entanglement between the control and register qubits was verified successfully."
   ]
  },
  {
   "cell_type": "markdown",
   "id": "2dab9ac1-d3e4-4b4e-babe-472d69b026ab",
   "metadata": {},
   "source": [
    "### Scaling of the algorithm\n",
    "\n",
    "We note that RSA encryption typically involves key sizes on the order of 2048 to 4096 bits. Attempting to factor a 2048-bit number with Shor's algorithm will result in a quantum circuit with millions of qubits, including the error correction overhead and a circuit depth on the order of a billion, which is beyond the limits of current quantum hardware to execute. Therefore, Shor's algorithm will require either optimized circuit construction methods or robust quantum error correction to be practically viable for breaking modern cryptographic systems. We refer you to [[9]](#references) for a more detailed discussion on resource estimation for Shor's algorithm."
   ]
  },
  {
   "cell_type": "markdown",
   "id": "cb53f62c-e560-43cf-a614-d31f266a569c",
   "metadata": {},
   "source": [
    "## Challenge\n",
    "\n",
    "Congratulations for finishing the tutorial! Now is a great time to test your understanding. Could you try to construct the circuit for factoring 21? You can select an $a$ of your own choice. You will need to decide on the bit accuracy of the algorithm to choose the number of qubits, and you will need to design the modular exponentiation operators $M_a$. We encourage you to try this out yourself, and then read about the methodologies shown in Fig. 9 of [[6]](#references) and Fig. 2 of [[7]](#references)."
   ]
  },
  {
   "cell_type": "code",
   "execution_count": null,
   "id": "09d347b8-51a4-4eb5-8422-76508f7ba1ad",
   "metadata": {},
   "outputs": [],
   "source": [
    "def M_a_mod21():\n",
    "    \"\"\"\n",
    "    M_a (mod 21)\n",
    "    \"\"\"\n",
    "\n",
    "    # Your code here\n",
    "    pass"
   ]
  },
  {
   "cell_type": "markdown",
   "id": "dc16f509-7441-4221-8113-e09b118397a0",
   "metadata": {},
   "source": [
    "## References\n",
    "1. Shor, Peter W. \"[Polynomial-time algorithms for prime factorization and discrete logarithms on a quantum computer](https://epubs.siam.org/doi/abs/10.1137/S0036144598347011).\" SIAM review 41.2 (1999): 303-332.\n",
    "2. IBM Quantum [Fundamentals of Quantum Algorithms](https://learning.quantum.ibm.com/course/fundamentals-of-quantum-algorithms/phase-estimation-and-factoring) course by Dr. John Watrous.\n",
    "3. Vandersypen, Lieven MK, et al. \"[Experimental realization of Shor's quantum factoring algorithm using nuclear magnetic resonance](https://www.nature.com/articles/414883a).\" Nature 414.6866 (2001): 883-887.\n",
    "4. Martin-Lopez, Enrique, et al. \"[Experimental realization of Shor's quantum factoring algorithm using qubit recycling](https://www.nature.com/articles/nphoton.2012.259).\" Nature photonics 6.11 (2012): 773-776.\n",
    "5. Monz, Thomas, et al. \"[Realization of a scalable Shor algorithm](https://www.science.org/doi/full/10.1126/science.aad9480).\" Science 351.6277 (2016): 1068-1070.\n",
    "6. Amico, Mirko, Zain H. Saleem, and Muir Kumph. \"[Experimental study of Shor's factoring algorithm using the IBM Q Experience](https://journals.aps.org/pra/abstract/10.1103/PhysRevA.100.012305).\" Physical Review A 100.1 (2019): 012305.\n",
    "7. Skosana, Unathi, and Mark Tame. \"[Demonstration of Shor’s factoring algorithm for N=21 on IBM quantum processors](https://www.nature.com/articles/s41598-021-95973-w).\" Scientific reports 11.1 (2021): 16599.\n",
    "8. Kitaev, A. Yu. \"[Quantum measurements and the Abelian stabilizer problem](https://arxiv.org/abs/quant-ph/9511026).\" arXiv preprint quant-ph/9511026 (1995).\n",
    "9. Gidney, Craig, and Martin Ekerå. \"[How to factor 2048 bit RSA integers in 8 hours using 20 million noisy qubits](https://doi.org/10.22331/q-2021-04-15-433).\" Quantum 5 (2021): 433."
   ]
  }
 ],
 "metadata": {
  "description": "This tutorial focuses on demonstrating Shor's algorithm by factoring 15 on a quantum computer.",
  "kernelspec": {
   "display_name": "Python 3",
   "language": "python",
   "name": "python3"
  },
  "language_info": {
   "codemirror_mode": {
    "name": "ipython",
    "version": 3
   },
   "file_extension": ".py",
   "mimetype": "text/x-python",
   "name": "python",
   "nbconvert_exporter": "python",
   "pygments_lexer": "ipython3",
   "version": "3"
  },
    "title": "Shor's algorithm\n"
 },
 "nbformat": 4,
 "nbformat_minor": 4
}
