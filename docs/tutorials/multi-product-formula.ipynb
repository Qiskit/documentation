{
 "cells": [
  {
   "cell_type": "markdown",
   "id": "9857bace",
   "metadata": {},
   "source": [
    "{/* cspell:ignore Layerwise */}\n",
    "{/* cspell:ignore markersize */}\n",
    "# Multi-product formulas to reduce Trotter error"
   ]
  },
  {
   "cell_type": "markdown",
   "id": "d08a5e51",
   "metadata": {},
   "source": [
    "*Estimated QPU usage:Four minutes on ibm_marrakesh (NOTE: This is an estimate only. Your runtime might vary.)*\n",
    "\n",
    "## Background\n",
    "This tutorial demonstrates how to use a Multi-Product Formula (MPF) to achieve a lower Trotter error on our observable compared to the one incurred by the deepest Trotter circuit that we will actually execute.\n",
    "MPFs reduce the Trotter error of Hamiltonian dynamics through a weighted combination of several circuit executions. Consider the task of finding observable expectation values for the quantum state\n",
    "$\\rho(t)=e^{-i H t} \\rho(0) e^{i H t}$ with the Hamiltonian $H$. One can use Product Formulas (PFs) to approximate the time-evolution $e^{-i H t}$ by doing the following:\n",
    "\n",
    "- Write the Hamiltonian $H$ as $H=\\sum_{a=1}^d F_a,$ where $F_a$ are Hermitian operators such that each corresponding unitary can be efficiently implemented on a quantum device.\n",
    "- Approximate the terms $F_a$ that do not commute with each other.\n",
    "\n",
    "Then, the first-order PF (Lie-Trotter formula) is:\n",
    "\n",
    "$$S_1(t):=\\prod_{a=1}^d e^{-i F_a t},$$\n",
    "\n",
    "which has a quadratic error term $S_1(t)=e^{-i H t}+\\mathcal{O}\\left(t^{2}\\right)$. One can also use higher-order PFs (Lie-Trotter-Suzuki formulas), which converge faster, and are defined recursively as:\n",
    "\n",
    "$$S_2(t):=\\prod_{a=1}^d e^{-i F_a t/2}\\prod_{a=1}^d e^{-i F_a t/2}$$\n",
    "\n",
    "$$S_{2 \\chi}(t):= S_{2 \\chi -2}(s_{\\chi}t)^2 S_{2 \\chi -2}((1-4s_{\\chi})t)S_{2 \\chi -2}(s_{\\chi}t)^2,$$\n",
    "\n",
    "where $\\chi$ is the order of the symmetric PF and $s_p = \\left( 4 - 4^{1/(2p-1)} \\right)^{-1}$. For long time-evolutions, one can split the time interval $t$ into $k$ intervals, called Trotter steps, of duration $t/k$ and approximate the time-evolution in each interval with a $\\chi$ order product formula $S_{\\chi}$. Thus, the PF of order $\\chi$ for time-evolution operator over $k$ Trotter steps is:\n",
    "\n",
    "$$ S_{\\chi}^{k}(t) = \\left[ S_{\\chi} \\left( \\frac{t}{k} \\right)\\right]^k = e^{-i H t}+O\\left(t \\left( \\frac{t}{k} \\right)^{\\chi} \\right)$$\n",
    "\n",
    "where the error term decreases with the number of Trotter steps $k$ and the order $\\chi$ of the PF.\n",
    "\n",
    "Given an integer $k \\geq 1$ and a product formula $S_{\\chi}(t)$, the approximate time-evolved state $\\rho_k(t)$ can be obtained from $\\rho_0$ by applying $k$ iterations of the product formula $S_{\\chi}\\left(\\frac{t}{k}\\right)$.\n",
    "\n",
    "$$\n",
    "\\rho_k(t)=S_{\\chi}\\left(\\frac{t}{k}\\right)^k \\rho_0 S_{\\chi}\\left(\\frac{t}{k}\\right)^{-k}\n",
    "$$\n",
    "\n",
    "$\\rho_k(t)$ is an approximation for $\\rho(t)$ with the Trotter approximation error ||$\\rho_k(t)-\\rho(t) ||$. If we consider a linear combination of Trotter approximations of $\\rho(t)$:\n",
    "\n",
    "\n",
    "$$\n",
    "\\mu(t) = \\sum_{j}^{l} x_j \\rho^{k_j}_{j}\\left(\\frac{t}{k_j}\\right) + \\text{some remaining Trotter error} \\, ,\n",
    "$$\n",
    "\n",
    "where $x_j$ are our weighting coefficients, $\\rho^{k_j}_j$ is the density matrix corresponding to the pure state obtained by evolving the initial state with the product formula, $S^{k_j}_{\\chi}$, involving $k_j$ Trotter steps, and $j \\in {1, ..., l}$ indexes the number of PFs that make up the MPF. All the terms in $\\mu(t)$ use the same product formula $S_{\\chi}(t)$ as its base.\n",
    "The goal is to improve upon ||$\\rho_k(t)-\\rho(t) \\|$ by finding $\\mu(t)$ with even lower $\\|\\mu(t)-\\rho(t)\\|$.\n",
    "\n",
    "* $\\mu(t)$ needs not be a physical state as $x_i$ need not be positive. The goal here is to minimize the error in the expectation value of the observables and not to find a physical replacement for $\\rho(t)$.\n",
    "* $k_j$ determines both the circuit depth and level of Trotter approximation. Smaller values of $k_j$ lead to shorter circuits, which incur fewer circuit errors but will be a less accurate approximation to the desired state.\n",
    "\n",
    "\n",
    "The key here is that the remaining Trotter error given by $\\mu(t)$ is smaller than the Trotter error that one would obtain by simply using the largest $k_j$ value.\n",
    "\n",
    "You can view the usefulness of this from two perspectives:\n",
    "\n",
    "1. For a fixed budget of Trotter steps that you can execute, you can obtain results with a Trotter error that is smaller in total.\n",
    "2. Given some target number of Trotter steps that is too large to execute, you can use the MPF to find a collection of lower-depth circuits to run that results in a similar Trotter error."
   ]
  },
  {
   "cell_type": "markdown",
   "id": "152c479f",
   "metadata": {},
   "source": [
    "## Requirements\n",
    "\n",
    "Before starting this tutorial, ensure that you have the following installed:\n",
    "\n",
    "* Qiskit SDK v1.0 or later, with visualization support (`pip install 'qiskit[visualization]'`)\n",
    "* Qiskit Runtime v0.22 or later (`pip install qiskit-ibm-runtime`)\n",
    "* MPF Qiskit addons (`pip install qiskit_addon_mpf`)\n",
    "* Qiskit addons utils (`pip install qiskit_addon_utils`)\n",
    "* Quimb library (`pip install quimb`)\n",
    "* Qiskit Quimb library (`pip install qiskit-quimb`)\n",
    "* Numpy v0.21 for compatibility across packages (`pip install numpy==0.21`)"
   ]
  },
  {
   "cell_type": "markdown",
   "id": "32f44dc0",
   "metadata": {},
   "source": [
    "## Part I. Small-scale example"
   ]
  },
  {
   "cell_type": "markdown",
   "id": "717dc6b6",
   "metadata": {},
   "source": [
    "### Explore the stability of MPF\n",
    "\n",
    "There is no obvious restriction on the choice of number of Trotter steps $k_j$ that make up the MPF state $\\mu(t)$. However, these must be picked carefully to avoid instabilities in the resulting expectation values calculated from $\\mu(t)$. A good general rule is to set the smallest Trotter step $k_{\\text{min}}$ so that $t/k_{\\text{min}} \\lt 1$. If you want to learn more about this and how to choose your other $k_j$ values, refer to the [How to choose the Trotter steps for an MPF](https://qiskit.github.io/qiskit-addon-mpf/how_tos/choose_trotter_steps.html) guide.\n",
    "\n",
    "In the example below we explore the stability of the MPF solution by calculating the expectation value of the magnetization for a range of times using different time-evolved states. Specifically, we compare the expectation values calculated from each of the approximate time-evolutions implemented with the corresponding Trotter steps and the various MPF models (static and dynamic coefficients) with the exact values of the time-evolved observable. First, let's define the parameters for the Trotter formulas and the evolution times"
   ]
  },
  {
   "cell_type": "code",
   "execution_count": 1,
   "id": "bcf32912",
   "metadata": {},
   "outputs": [],
   "source": [
    "import numpy as np\n",
    "\n",
    "mpf_trotter_steps = [1, 2, 4]\n",
    "order = 2\n",
    "symmetric = False\n",
    "\n",
    "trotter_times = np.arange(0.5, 1.55, 0.1)\n",
    "exact_evolution_times = np.arange(trotter_times[0], 1.55, 0.05)"
   ]
  },
  {
   "cell_type": "markdown",
   "id": "095fa6cb",
   "metadata": {},
   "source": [
    "For this example we will use the Neel state as the initial state $\\vert \\text{Neel} \\rangle = \\vert 0101...01 \\rangle$ and the Heisenberg model on a line of 10 sites for the Hamiltonian governing the time-evolution\n",
    "\n",
    "$$\n",
    "\\hat{\\mathcal{H}}_{Heis} = J \\sum_{i=1}^{L-1} \\left(X_i X_{(i+1)}+Y_i Y_{(i+1)}+ Z_i Z_{(i+1)} \\right) \\, ,\n",
    "$$\n",
    "\n",
    "where $J$ is the coupling strength for nearest-neighbor edges."
   ]
  },
  {
   "cell_type": "code",
   "execution_count": 2,
   "id": "3a20e08d",
   "metadata": {},
   "outputs": [
    {
     "name": "stdout",
     "output_type": "stream",
     "text": [
      "SparsePauliOp(['IIIIIIIXXI', 'IIIIIIIYYI', 'IIIIIIIZZI', 'IIIIIXXIII', 'IIIIIYYIII', 'IIIIIZZIII', 'IIIXXIIIII', 'IIIYYIIIII', 'IIIZZIIIII', 'IXXIIIIIII', 'IYYIIIIIII', 'IZZIIIIIII', 'IIIIIIIIXX', 'IIIIIIIIYY', 'IIIIIIIIZZ', 'IIIIIIXXII', 'IIIIIIYYII', 'IIIIIIZZII', 'IIIIXXIIII', 'IIIIYYIIII', 'IIIIZZIIII', 'IIXXIIIIII', 'IIYYIIIIII', 'IIZZIIIIII', 'XXIIIIIIII', 'YYIIIIIIII', 'ZZIIIIIIII'],\n",
      "              coeffs=[1.+0.j, 1.+0.j, 1.+0.j, 1.+0.j, 1.+0.j, 1.+0.j, 1.+0.j, 1.+0.j, 1.+0.j,\n",
      " 1.+0.j, 1.+0.j, 1.+0.j, 1.+0.j, 1.+0.j, 1.+0.j, 1.+0.j, 1.+0.j, 1.+0.j,\n",
      " 1.+0.j, 1.+0.j, 1.+0.j, 1.+0.j, 1.+0.j, 1.+0.j, 1.+0.j, 1.+0.j, 1.+0.j])\n"
     ]
    }
   ],
   "source": [
    "from qiskit.transpiler import CouplingMap\n",
    "from rustworkx.visualization import graphviz_draw\n",
    "from qiskit_addon_utils.problem_generators import generate_xyz_hamiltonian\n",
    "import numpy as np\n",
    "\n",
    "\n",
    "L = 10\n",
    "\n",
    "# Generate some coupling map to use for this example\n",
    "coupling_map = CouplingMap.from_line(L, bidirectional=False)\n",
    "graphviz_draw(coupling_map.graph, method=\"circo\")\n",
    "\n",
    "# Get a qubit operator describing the Heisenberg field model\n",
    "hamiltonian = generate_xyz_hamiltonian(\n",
    "    coupling_map,\n",
    "    coupling_constants=(1.0, 1.0, 1.0),\n",
    "    ext_magnetic_field=(0.0, 0.0, 0.0),\n",
    ")\n",
    "\n",
    "\n",
    "print(hamiltonian)"
   ]
  },
  {
   "cell_type": "markdown",
   "id": "69438c8c",
   "metadata": {},
   "source": [
    "The observable that we will be measuring is magnetization on a pair of qubits in the middle of the chain."
   ]
  },
  {
   "cell_type": "code",
   "execution_count": null,
   "id": "41fc0bd1",
   "metadata": {},
   "outputs": [
    {
     "name": "stdout",
     "output_type": "stream",
     "text": [
      "SparsePauliOp(['IIIIZZIIII'],\n",
      "              coeffs=[1.+0.j])\n"
     ]
    }
   ],
   "source": [
    "from qiskit.quantum_info import SparsePauliOp\n",
    "\n",
    "observable = SparsePauliOp.from_sparse_list(\n",
    "    [(\"ZZ\", (L // 2 - 1, L // 2), 1.0)], num_qubits=L\n",
    ")\n",
    "print(observable)"
   ]
  },
  {
   "cell_type": "markdown",
   "id": "13c67498",
   "metadata": {},
   "source": [
    "We define a transpiler pass to collect the XX and YY rotations in the circuit as a single XX+YY gate. This will allow us to leverage TeNPy's spin conservation properties during the MPO computation, significantly speeding up the calculation."
   ]
  },
  {
   "cell_type": "code",
   "execution_count": 4,
   "id": "b0eec735",
   "metadata": {},
   "outputs": [],
   "source": [
    "from qiskit.circuit.library import XXPlusYYGate\n",
    "from qiskit.transpiler import PassManager\n",
    "from qiskit.transpiler.passes.optimization.collect_and_collapse import (\n",
    "    CollectAndCollapse,\n",
    "    collect_using_filter_function,\n",
    "    collapse_to_operation,\n",
    ")\n",
    "from functools import partial\n",
    "\n",
    "\n",
    "def filter_function(node):\n",
    "    return node.op.name in {\"rxx\", \"ryy\"}\n",
    "\n",
    "\n",
    "collect_function = partial(\n",
    "    collect_using_filter_function,\n",
    "    filter_function=filter_function,\n",
    "    split_blocks=True,\n",
    "    min_block_size=1,\n",
    ")\n",
    "\n",
    "\n",
    "def collapse_to_xx_plus_yy(block):\n",
    "    param = 0.0\n",
    "    for node in block.data:\n",
    "        param += node.operation.params[0]\n",
    "    return XXPlusYYGate(param)\n",
    "\n",
    "\n",
    "collapse_function = partial(\n",
    "    collapse_to_operation,\n",
    "    collapse_function=collapse_to_xx_plus_yy,\n",
    ")\n",
    "\n",
    "pm = PassManager()\n",
    "pm.append(CollectAndCollapse(collect_function, collapse_function))"
   ]
  },
  {
   "cell_type": "markdown",
   "id": "46470a22",
   "metadata": {},
   "source": [
    "Then we create the circuits implementing the approximate Trotter time-evolutions."
   ]
  },
  {
   "cell_type": "code",
   "execution_count": 5,
   "id": "8d7b9367",
   "metadata": {},
   "outputs": [],
   "source": [
    "from qiskit.synthesis import SuzukiTrotter\n",
    "from qiskit_addon_utils.problem_generators import (\n",
    "    generate_time_evolution_circuit,\n",
    ")\n",
    "from qiskit import QuantumCircuit\n",
    "\n",
    "\n",
    "# Initial Neel state preparation\n",
    "initial_state_circ = QuantumCircuit(L)\n",
    "initial_state_circ.x([i for i in range(L) if i % 2 != 0])\n",
    "\n",
    "\n",
    "all_circs = []\n",
    "for total_time in trotter_times:\n",
    "    mpf_trotter_circs = [\n",
    "        generate_time_evolution_circuit(\n",
    "            hamiltonian,\n",
    "            time=total_time,\n",
    "            synthesis=SuzukiTrotter(reps=num_steps, order=order),\n",
    "        )\n",
    "        for num_steps in mpf_trotter_steps\n",
    "    ]\n",
    "\n",
    "    mpf_trotter_circs = pm.run(\n",
    "        mpf_trotter_circs\n",
    "    )  # Collect XX and YY into XX + YY\n",
    "\n",
    "    mpf_circuits = [\n",
    "        initial_state_circ.compose(circuit) for circuit in mpf_trotter_circs\n",
    "    ]\n",
    "    all_circs.append(mpf_circuits)"
   ]
  },
  {
   "cell_type": "code",
   "execution_count": 6,
   "id": "92dc20a7",
   "metadata": {},
   "outputs": [
    {
     "data": {
      "text/plain": [
       "<Image src=\"/docs/images/tutorials/multi-product-formula/extracted-outputs/92dc20a7-0.avif\" alt=\"Output of the previous code cell\" />"
      ]
     },
     "execution_count": 6,
     "metadata": {},
     "output_type": "execute_result"
    }
   ],
   "source": [
    "mpf_circuits[-1].draw(\"mpl\", fold=-1)"
   ]
  },
  {
   "cell_type": "markdown",
   "id": "aa95b6c8",
   "metadata": {},
   "source": [
    "Next, we calculate the time-evolved expectation values from the Trotter circuits."
   ]
  },
  {
   "cell_type": "code",
   "execution_count": 24,
   "id": "69f60701",
   "metadata": {},
   "outputs": [],
   "source": [
    "from copy import deepcopy\n",
    "from qiskit_aer import AerSimulator\n",
    "from qiskit_ibm_runtime import EstimatorV2 as Estimator\n",
    "from qiskit.transpiler.preset_passmanagers import generate_preset_pass_manager\n",
    "\n",
    "\n",
    "aer_sim = AerSimulator()\n",
    "estimator = Estimator(mode=aer_sim)\n",
    "\n",
    "mpf_expvals_all_times, mpf_stds_all_times = [], []\n",
    "for t, mpf_circuits in zip(trotter_times, all_circs):\n",
    "    mpf_expvals = []\n",
    "    circuits = [deepcopy(circuit) for circuit in mpf_circuits]\n",
    "    pm_sim = generate_preset_pass_manager(\n",
    "        backend=aer_sim, optimization_level=3\n",
    "    )\n",
    "    isa_circuits = pm_sim.run(circuits)\n",
    "    result = estimator.run(\n",
    "        [(circuit, observable) for circuit in isa_circuits], precision=0.005\n",
    "    ).result()\n",
    "    mpf_expvals = [res.data.evs for res in result]\n",
    "    mpf_stds = [res.data.stds for res in result]\n",
    "    mpf_expvals_all_times.append(mpf_expvals)\n",
    "    mpf_stds_all_times.append(mpf_stds)"
   ]
  },
  {
   "cell_type": "markdown",
   "id": "b84e4000",
   "metadata": {},
   "source": [
    "We also calculate the exact expectation values for comparison."
   ]
  },
  {
   "cell_type": "code",
   "execution_count": null,
   "id": "32ecef77",
   "metadata": {},
   "outputs": [],
   "source": [
    "from scipy import expm\n",
    "from qiskit.quantum_info import Statevector\n",
    "\n",
    "exact_expvals = []\n",
    "for t in exact_evolution_times:\n",
    "    # Exact expectation values\n",
    "    exp_H = expm(-1j * t * hamiltonian.to_matrix())\n",
    "    initial_state = Statevector(initial_state_circ).data\n",
    "    time_evolved_state = exp_H @ initial_state\n",
    "\n",
    "    exact_obs = (\n",
    "        time_evolved_state.conj()\n",
    "        @ observable.to_matrix()\n",
    "        @ time_evolved_state\n",
    "    ).real\n",
    "    exact_expvals.append(exact_obs)"
   ]
  },
  {
   "cell_type": "markdown",
   "id": "949130d1",
   "metadata": {},
   "source": [
    "#### Static MPF coefficients\n",
    "\n",
    "Static MPFs are those where the $x_j$ values do not depend on the evolution time, $t$. Let's consider the order $\\chi = 1$ PF with $k_j$ Trotter steps, this can be written as:\n",
    "\n",
    "$$ S_1^{k_j}\\left( \\frac{t}{k_j} \\right)=e^{-i H t}+ \\sum_{n=1}^{\\infty} A_n \\frac{t^{n+1}}{k_j^n}  $$\n",
    "\n",
    "where $A_n$ are matrices which depend on the commutators of $F_a$ terms in the decomposition of the Hamiltonian. It is important to note that $A_n$ themselves are independent of time and the number of Trotter steps $k_j$. Therefore, it is possible to cancel out lower-order error terms contributing to $\\mu(t)$ with a careful choice of the weights $x_j$ of the linear combination. To cancel the Trotter error for the first $l-1$ terms (these will give the largest contributions as they correspond to the lower number of Trotter steps) in the expression for $\\mu(t)$, the coefficients $x_j$ must satisfy the following equations:\n",
    "\n",
    "$$ \\sum_{j=1}^l x_j = 1 $$\n",
    "$$ \\sum_{j=1}^{l-1} \\frac{x_j}{k_j^{n}} = 0 $$\n",
    "\n",
    "with $n=0, ... l-2$. The first equation guarantees that there is no bias in the constructed state $\\mu(t)$, while the second equation ensures the cancellation of the Trotter errors. For higher-order PF, the second equation becomes $ \\sum_{j=1}^{l-1} \\frac{x_j}{k_j^{\\eta}} = 0 $ where $\\eta = \\chi + 2n$ for symmetric PFs and $\\eta = \\chi + n$ otherwise, with $n=0, ..., l-2$. The resulting error  (Refs. [\\[1\\]](#references),[\\[2\\]](#references)) is then\n",
    "\n",
    "$$ \\epsilon = \\mathcal{O} \\left( \\frac{t^{l+1}}{k_1^l} \\right).$$\n",
    "\n",
    "\n",
    "Determining the static MPF coefficients for a given set of $k_j$ values amounts to solving the linear system of equations defined by the two equations above for the variables $x_j$: $Ax=b$. Where $x$ are our coefficients of interest, $A$ is a matrix which depends on $k_j$ and the type of PF we use ($S$), and $b$ is a vector of constraints. Specifically:\n",
    "\n",
    "$$A_{0,j} = 1 $$\n",
    "$$A_{i>0,j} = k_{j}^{-(\\chi + s(i-1))}$$\n",
    "$$b_0 = 1$$\n",
    "$$b_{i>0} = 0 $$\n",
    "\n",
    "\n",
    "where $\\chi$ is the ``order``, $s$ is $2$ if ``symmetric`` is ``True`` and $1$ otherwise, $k_{j}$ are the ``trotter_steps``, and $x$ are the variables to solve for. The indices $i$ and $j$ start at $0$. We can also visualize this in matrix form:\n",
    "\n",
    "$$\n",
    "A =\n",
    "\\begin{bmatrix}\n",
    "A_{0,0} & A_{0,1} & A_{0,2} & ... \\\\\n",
    "A_{1,0} & A_{1,1} & A_{1,2} & ...  \\\\\n",
    "A_{2,0} & A_{2,1} & A_{2,2} & ...  \\\\\n",
    "... & ... & ... & ...\n",
    "\\end{bmatrix} =\n",
    "\\begin{bmatrix}\n",
    "1 & 1 & 1 & ... \\\\\n",
    "k_{0}^{-(\\chi + s(1-1))} & k_{1}^{-(\\chi + s(1-1))} & k_{2}^{-(\\chi + s(1-1))} & ... \\\\\n",
    "k_{0}^{-(\\chi + s(2-1))} & k_{1}^{-(\\chi + s(2-1))} & k_{2}^{-(\\chi + s(2-1))} & ... \\\\\n",
    "... & ... & ... & ...\n",
    "\\end{bmatrix}\n",
    "$$\n",
    "\n",
    "and\n",
    "\n",
    "$$\n",
    "b =\n",
    "\\begin{bmatrix}\n",
    "b_{0} \\\\\n",
    "b_{1} \\\\\n",
    "b_{2}  \\\\\n",
    "...\n",
    "\\end{bmatrix} =\n",
    "\\begin{bmatrix}\n",
    "1 \\\\\n",
    "0 \\\\\n",
    "0  \\\\\n",
    "...\n",
    "\\end{bmatrix}\n",
    "$$\n",
    "\n",
    "\n",
    "\n",
    "For more details, refer to the documentation of the Linear System of Equations ([LSE](https://qiskit.github.io/qiskit-addon-mpf/stubs/qiskit_addon_mpf.static.LSE.html)).\n",
    "\n",
    "We can find a solution for $x$ analytically as $x = A^{-1}b$; see for example Refs. [\\[1\\]](#references) or [\\[2\\]](#references).\n",
    "However, this exact solution can be \"ill-conditioned\", resulting in very large L1-norms of our coefficients, $x$, which can lead to bad performance of the MPF.\n",
    "Instead, one can also obtain an approximate solution that minimizes the L1-norm of $x$ in order to attempt to optimize the MPF behavior."
   ]
  },
  {
   "cell_type": "markdown",
   "id": "f16ac209",
   "metadata": {},
   "source": [
    "##### Set up the LSE\n",
    "\n",
    "Now that we have chosen our $k_j$ values, we must first construct the LSE, $Ax=b$ as explained above.\n",
    "The matrix $A$ depends not only on $k_j$ but also our choice of PF, in particular its _order_.\n",
    "Additionally, you might take into account whether the PF is symmetric or not (see [\\[1\\]](#references)) by setting `symmetric=True/False`.\n",
    "However, this is not required, as shown by Ref. [\\[2\\]](#references)."
   ]
  },
  {
   "cell_type": "code",
   "execution_count": 9,
   "id": "509bee67",
   "metadata": {},
   "outputs": [],
   "source": [
    "from qiskit_addon_mpf.static import setup_static_lse\n",
    "\n",
    "lse = setup_static_lse(mpf_trotter_steps, order=order, symmetric=symmetric)"
   ]
  },
  {
   "cell_type": "markdown",
   "id": "d6f76196",
   "metadata": {},
   "source": [
    "Let's work through the values chosen above to construct the $A$ matrix and the $b$ vector. With $j=0,1, 2$ Trotter steps $k_j = [1, 2, 4]$, order $\\chi = 2$ and choice of non-symmetric Trotter steps ($s=1$), we have that the matrix elements of $A$ below the first row are determined by the expression $A_{i>0,j} = k_{j}^{-(2 + 1(i-1))}$, specifically:\n",
    "\n",
    "$$ A_{0,0} = A_{0,1} = A_{0,2} =  1 $$\n",
    "$$ A_{1,j} = k_{j}^{-1}  \\rightarrow A_{1,0} = \\frac{1}{1^2}, \\;, A_{1,1} = \\frac{1}{2^2}, \\;, A_{1,2} = \\frac{1}{4^2}$$\n",
    "$$ A_{2,j} = k_{j}^{-2}  \\rightarrow A_{2,0} = \\frac{1}{1^3}, \\;, A_{2,1} = \\frac{1}{2^3}, \\;, A_{2,2} = \\frac{1}{4^3}$$\n",
    "\n",
    "or in matrix form:\n",
    "\n",
    "$$\n",
    "A =\n",
    "\\begin{bmatrix}\n",
    "1 & 1 & 1\\\\\n",
    "1 & \\frac{1}{2^2} & \\frac{1}{4^2}  \\\\\n",
    "1 & \\frac{1}{2^3} & \\frac{1}{4^3}  \\\\\n",
    "\\end{bmatrix}\n",
    "$$\n",
    "\n",
    "This is possible to see by inspecting the `lse` object:"
   ]
  },
  {
   "cell_type": "code",
   "execution_count": 10,
   "id": "4982ce27",
   "metadata": {},
   "outputs": [
    {
     "data": {
      "text/plain": [
       "array([[1.      , 1.      , 1.      ],\n",
       "       [1.      , 0.25    , 0.0625  ],\n",
       "       [1.      , 0.125   , 0.015625]])"
      ]
     },
     "execution_count": 10,
     "metadata": {},
     "output_type": "execute_result"
    }
   ],
   "source": [
    "lse.A"
   ]
  },
  {
   "cell_type": "markdown",
   "id": "c6f54a8f",
   "metadata": {},
   "source": [
    "While the vector of constraints $b$ has the following elements:\n",
    "$$ b_{0} = 1 $$\n",
    "$$ b_1 = b_2 = 0 $$\n",
    "\n",
    "Thus,\n",
    "\n",
    "$$\n",
    "b =\n",
    "\\begin{bmatrix}\n",
    "1 \\\\\n",
    "0 \\\\\n",
    "0\n",
    "\\end{bmatrix}\n",
    "$$\n",
    "\n",
    "\n",
    "And similarly in `lse`:"
   ]
  },
  {
   "cell_type": "code",
   "execution_count": 11,
   "id": "c5b4f202",
   "metadata": {},
   "outputs": [
    {
     "data": {
      "text/plain": [
       "array([1., 0., 0.])"
      ]
     },
     "execution_count": 11,
     "metadata": {},
     "output_type": "execute_result"
    }
   ],
   "source": [
    "lse.b"
   ]
  },
  {
   "cell_type": "markdown",
   "id": "fc47c29f",
   "metadata": {},
   "source": [
    "The `lse` object has methods for finding the static coefficients $x_j$ satisfying the system of equations."
   ]
  },
  {
   "cell_type": "code",
   "execution_count": 12,
   "id": "4459394c",
   "metadata": {},
   "outputs": [
    {
     "name": "stdout",
     "output_type": "stream",
     "text": [
      "The static coefficients associated with the ansatze are: [ 0.04761905 -0.57142857  1.52380952]\n"
     ]
    }
   ],
   "source": [
    "mpf_coeffs = lse.solve()\n",
    "print(\n",
    "    f\"The static coefficients associated with the ansatze are: {mpf_coeffs}\"\n",
    ")"
   ]
  },
  {
   "cell_type": "markdown",
   "id": "6b228e6f",
   "metadata": {},
   "source": [
    "##### Optimize for $x$ using an exact model\n",
    "\n",
    "Alternatively to computing $x=A^{-1}b$, you can also use [setup_exact_model](https://qiskit.github.io/qiskit-addon-mpf/stubs/qiskit_addon_mpf.static.setup_exact_model.html) to construct a [cvxpy.Problem](https://www.cvxpy.org/api_reference/cvxpy.problems.html#cvxpy.Problem) instance that uses the LSE as constraints and whose optimal solution will yield $x$.\n",
    "\n",
    "In the next section, it will be clear why this interface exists."
   ]
  },
  {
   "cell_type": "code",
   "execution_count": 13,
   "id": "238ad3fe",
   "metadata": {},
   "outputs": [
    {
     "name": "stdout",
     "output_type": "stream",
     "text": [
      "[ 0.04761905 -0.57142857  1.52380952]\n"
     ]
    }
   ],
   "source": [
    "from qiskit_addon_mpf.costs import setup_exact_problem\n",
    "\n",
    "model_exact, coeffs_exact = setup_exact_problem(lse)\n",
    "model_exact.solve()\n",
    "print(coeffs_exact.value)"
   ]
  },
  {
   "cell_type": "markdown",
   "id": "31799d19",
   "metadata": {},
   "source": [
    "As an indicator whether an MPF constructed with these coefficients will yield good results, we can use the L1-norm (see also Ref. [\\[1\\]](#references))."
   ]
  },
  {
   "cell_type": "code",
   "execution_count": 14,
   "id": "ee706bcd",
   "metadata": {},
   "outputs": [
    {
     "name": "stdout",
     "output_type": "stream",
     "text": [
      "L1 norm of the exact coefficients: 2.1428571428556378\n"
     ]
    }
   ],
   "source": [
    "print(\n",
    "    \"L1 norm of the exact coefficients:\",\n",
    "    np.linalg.norm(coeffs_exact.value, ord=1),\n",
    ")  # ord specifies the norm. ord=1 is for L1"
   ]
  },
  {
   "cell_type": "markdown",
   "id": "577dc339",
   "metadata": {},
   "source": [
    "##### Optimize for $x$ using an approximate model\n",
    "\n",
    "It might happen that the L1 norm for the chosen set of $k_j$ values is deemed too high.\n",
    "If that is the case and you cannot choose a different set of $k_j$ values, you can use an approximate solution to the LSE instead of an exact one.\n",
    "\n",
    "To do so, simply use [setup_approximate_model](https://qiskit.github.io/qiskit-addon-mpf/stubs/qiskit_addon_mpf.static.setup_approximate_model.html) to construct a different [cvxpy.Problem](https://www.cvxpy.org/api_reference/cvxpy.problems.html#cvxpy.Problem) instance, which constrains the L1-norm to a chosen threshold while minimizing the difference of $Ax$ and $b$."
   ]
  },
  {
   "cell_type": "code",
   "execution_count": 16,
   "id": "3e06be50",
   "metadata": {},
   "outputs": [
    {
     "name": "stdout",
     "output_type": "stream",
     "text": [
      "[-1.10294118e-03 -2.48897059e-01  1.25000000e+00]\n",
      "L1 norm of the approximate coefficients: 1.5\n"
     ]
    }
   ],
   "source": [
    "from qiskit_addon_mpf.costs import setup_sum_of_squares_problem\n",
    "\n",
    "model_approx, coeffs_approx = setup_sum_of_squares_problem(\n",
    "    lse, max_l1_norm=1.5\n",
    ")\n",
    "model_approx.solve()\n",
    "print(coeffs_approx.value)\n",
    "print(\n",
    "    \"L1 norm of the approximate coefficients:\",\n",
    "    np.linalg.norm(coeffs_approx.value, ord=1),\n",
    ")"
   ]
  },
  {
   "cell_type": "markdown",
   "id": "214239bb",
   "metadata": {},
   "source": [
    "Note that you have complete freedom over how to solve this optimization problem, which means that you can change the optimization solver, its convergence thresholds, and so on.\n",
    "Check out the respective guide on [How to use the approximate model.](https://qiskit.github.io/qiskit-addon-mpf/how_tos/using_approximate_model.html)"
   ]
  },
  {
   "cell_type": "markdown",
   "id": "a3fca123",
   "metadata": {},
   "source": [
    "#### Dynamic MPF coefficients\n",
    "\n",
    "In the previous section, we introduced a static MPF that improves on the standard Trotter approximation. However, this static version does not necessarily minimize the approximation error. Concretely, the static MPF, denoted $\\mu^S(t)$, is not the optimal projection of $\\rho(t)$ onto the subspace spanned by the product-formula states $\\{\\rho_{k_i}(t)\\}_{i=1}^r$.\n",
    "\n",
    "To address this, we consider a dynamic MPF (introduced in Ref. [\\[2\\]](#references) and experimentally demonstrated in Ref. [\\[3\\]](#references)) that does minimize the approximation error in the Frobenius norm. Formally, we focus on minimizing\n",
    "\n",
    "$$\n",
    "\\|\\rho(t) - \\mu^D(t)\\|_F^2 \\;=\\; \\mathrm{Tr}\\bigl[ \\left( \\rho(t) - \\mu^D(t)\\right)^2 \\bigr],\n",
    "$$\n",
    "\n",
    "with respect to some coefficients $x_i(t)$ at each time $t$. The *optimal* projector in the Frobenius norm is then $\\mu^D(t) \\;=\\; \\sum_{i=1}^r x_i(t)\\,\\rho_{k_i}(t)$, and we call $\\mu^D(t)$ the *dynamic* MPF. Plugging in the definitions above:\n",
    "\n",
    "\n",
    "\n",
    "$$\n",
    "\\|\\rho(t) - \\mu^D(t)\\|_F^2\n",
    "\\;=\\; \\\\\n",
    "= \\mathrm{Tr}\\bigl[ \\left( \\rho(t) - \\mu^D(t)\\right)^2 \\bigr]\n",
    "\\;=\\; \\\\\n",
    "= \\mathrm{Tr}\\bigl[ \\left( \\rho(t) - \\sum_{i=1}^r x_i(t)\\,\\rho_{k_i}(t) \\right) \\left(  \\rho(t) - \\sum_{j=1}^r x_j(t)\\,\\rho_{k_j}(t) \\right) \\bigr]\n",
    "\\;=\\; \\\\\n",
    "= 1 \\;+\\; \\sum_{i,j=1}^r M_{i,j}(t)\\,x_i(t)\\,x_j(t)\n",
    "\\;-\\;\n",
    "2 \\sum_{i=1}^r L_i^{\\mathrm{exact}}(t)\\,x_i(t),\n",
    "$$\n",
    "\n",
    "where $M_{i,j}(t)$ is the *Gram matrix*, defined by\n",
    "\n",
    "$$\n",
    "M_{i,j}(t) \\;=\\; \\mathrm{Tr}\\bigl[\\rho_{k_i}(t)\\,\\rho_{k_j}(t)\\bigr]\n",
    "\\;=\\;\n",
    "\\bigl|\\langle \\psi_{\\mathrm{in}} \\!\\mid S\\bigl(t/k_i\\bigr)^{-k_i}\\,S\\bigl(t/k_j\\bigr)^{k_j} \\!\\mid \\psi_{\\mathrm{in}} \\rangle \\bigr|^2.\n",
    "$$\n",
    "\n",
    "\n",
    "and\n",
    "\n",
    "$$\n",
    "L_i^{\\mathrm{exact}}(t) = \\mathrm{Tr}[\\rho(t)\\,\\rho_{k_i}(t)]\n",
    "$$\n",
    "\n",
    "represents the overlap between the exact state $\\rho(t)$ and each product-formula approximation $\\rho_{k_i}(t)$. In practical scenarios, these overlaps may only be measured approximately due to noise or partial access to $\\rho(t)$.\n",
    "\n",
    "Here, $\\lvert\\psi_{\\mathrm{in}}\\rangle$ is the initial state, and $S(\\cdot)$ is the operation applied in the product formula. By choosing the coefficients $x_i(t)$ that minimize this expression (and handling approximate overlap data when $\\rho(t)$ is not fully known), we obtain the “best” (in a Frobenius-norm sense) dynamic approximation of $\\rho(t)$ within the MPF subspace. The quantities $L_i(t)$ and $M_{i,j}(t)$ can be calculated efficiently using tensor network methods [\\[3\\]](#references). The MPF Qiskit addon provides several \"backends\" to carry out the calculation. The example below shows the most flexible way to do so, and the [TeNPy layer-based backend](https://qiskit.github.io/qiskit-addon-mpf/apidocs/qiskit_addon_mpf.backends.tenpy_layers.html#module-qiskit_addon_mpf.backends.tenpy_layers) docs also explain in great detail. To use this method, start from the circuit implementing the desired time-evolution and create models that represent these operations from the layers of the corresponding circuit. Finally, an `Evolver` object is created that can be used to generate the time-evolved quantities $M_{i,j}(t)$ and $L_i(t)$. We start by creating the  `Evolver` object corresponding to the approximate time-evolution ([`ApproxEvolverFactory`](https://qiskit.github.io/qiskit-addon-mpf/apidocs/qiskit_addon_mpf.dynamic.html#qiskit_addon_mpf.dynamic.ApproxEvolverFactory)) implemented by the circuits. In particular, pay extra attention to the `order` variable so that they match. Note that in generating the circuits corresponding to the approximate time-evolution, we use placeholder values for the `time = 1.0` and the number of Trotter steps (`reps=1`). The correct approximating circuits are then produced by the dynamic problem solver in `setup_dynamic_lse`."
   ]
  },
  {
   "cell_type": "code",
   "execution_count": 17,
   "id": "87323ed2",
   "metadata": {},
   "outputs": [],
   "source": [
    "from qiskit_addon_utils.slicing import slice_by_depth\n",
    "from qiskit_addon_mpf.backends.tenpy_layers import LayerModel\n",
    "from qiskit_addon_mpf.backends.tenpy_layers import LayerwiseEvolver\n",
    "from functools import partial\n",
    "\n",
    "# Create approximate time-evolution circuits\n",
    "single_2nd_order_circ = generate_time_evolution_circuit(\n",
    "    hamiltonian, time=1.0, synthesis=SuzukiTrotter(reps=1, order=order)\n",
    ")\n",
    "single_2nd_order_circ = pm.run(single_2nd_order_circ)  # collect XX and YY\n",
    "\n",
    "# Find layers in the circuit\n",
    "layers = slice_by_depth(single_2nd_order_circ, max_slice_depth=1)\n",
    "\n",
    "# Create tensor network models\n",
    "models = [\n",
    "    LayerModel.from_quantum_circuit(layer, conserve=\"Sz\") for layer in layers\n",
    "]\n",
    "\n",
    "# Create the time-evolution object\n",
    "approx_factory = partial(\n",
    "    LayerwiseEvolver,\n",
    "    layers=models,\n",
    "    options={\n",
    "        \"preserve_norm\": False,\n",
    "        \"trunc_params\": {\n",
    "            \"chi_max\": 64,\n",
    "            \"svd_min\": 1e-8,\n",
    "            \"trunc_cut\": None,\n",
    "        },\n",
    "        \"max_delta_t\": 2,\n",
    "    },\n",
    ")"
   ]
  },
  {
   "cell_type": "markdown",
   "id": "fd39f15a",
   "metadata": {},
   "source": [
    "<Admonition type=\"warning\">\n",
    "The options of `LayerwiseEvolver` that determine the details of the tensor network simulation must be chosen carefully to avoid setting up an ill-defined optimization problem.\n",
    "</Admonition>"
   ]
  },
  {
   "cell_type": "markdown",
   "id": "d6b611e3",
   "metadata": {},
   "source": [
    "We then set up the exact evolver (for example, [`ExactEvolverFactory`](https://qiskit.github.io/qiskit-addon-mpf/apidocs/qiskit_addon_mpf.dynamic.html#qiskit_addon_mpf.dynamic.ExactEvolverFactory)), which returns an [`Evolver`](https://qiskit.github.io/qiskit-addon-mpf/apidocs/qiskit_addon_mpf.backends.html#qiskit_addon_mpf.backends.Evolver) object computing the true or “reference” time-evolution. Realistically, we would approximate the exact evolution by using a higher-order Suzuki–Trotter formula or another reliable method with a small time step. Below, we approximate the exact time-evolved state with a fourth-order Suzuki-Trotter formula using a small time step `dt=0.1`, which means the number of Trotter steps used at time $t$ is $k=t/dt$. We also specify some TeNPy-specific truncation options to bound the maximum bond dimension of the underlying tensor network, as well as the minimum singular values of the split tensor network bonds. These parameters can affect the accuracy of the expectation value calculated with the dynamic MPF coefficients, so it is important to explore a range of values to find the optimal balance between computational time and accuracy. Note that the calculation of the MPF coefficients does not rely of the expectation value of the PF obtained from hardware execution, and therefore it can be tuned in post-processing."
   ]
  },
  {
   "cell_type": "code",
   "execution_count": 20,
   "id": "10ca6c85",
   "metadata": {},
   "outputs": [],
   "source": [
    "single_4th_order_circ = generate_time_evolution_circuit(\n",
    "    hamiltonian, time=1.0, synthesis=SuzukiTrotter(reps=1, order=4)\n",
    ")\n",
    "single_4th_order_circ = pm.run(single_4th_order_circ)\n",
    "exact_model_layers = [\n",
    "    LayerModel.from_quantum_circuit(layer, conserve=\"Sz\")\n",
    "    for layer in slice_by_depth(single_4th_order_circ, max_slice_depth=1)\n",
    "]\n",
    "\n",
    "exact_factory = partial(\n",
    "    LayerwiseEvolver,\n",
    "    layers=exact_model_layers,\n",
    "    dt=0.1,\n",
    "    options={\n",
    "        \"preserve_norm\": False,\n",
    "        \"trunc_params\": {\n",
    "            \"chi_max\": 64,\n",
    "            \"svd_min\": 1e-8,\n",
    "            \"trunc_cut\": None,\n",
    "        },\n",
    "        \"max_delta_t\": 2,\n",
    "    },\n",
    ")"
   ]
  },
  {
   "cell_type": "markdown",
   "id": "1eb4d98c",
   "metadata": {},
   "source": [
    "Next, create your system’s initial state in a format compatible with TeNPy (for example, an `MPS_neel_state`=$\\vert 0101...01 \\rangle$). This sets up the many-body wavefunction you’ll evolve in time $\\lvert\\psi_{\\mathrm{in}}\\rangle$ as a tensor."
   ]
  },
  {
   "cell_type": "code",
   "execution_count": null,
   "id": "69758099",
   "metadata": {},
   "outputs": [],
   "source": [
    "from qiskit_addon_mpf.backends.tenpy_tebd import MPOState\n",
    "from qiskit_addon_mpf.backends.tenpy_tebd import MPS_neel_state\n",
    "\n",
    "\n",
    "def identity_factory():\n",
    "    return MPOState.initialize_from_lattice(models[0].lat, conserve=True)\n",
    "\n",
    "\n",
    "mps_initial_state = MPS_neel_state(models[0].lat)"
   ]
  },
  {
   "cell_type": "markdown",
   "id": "057d479e",
   "metadata": {},
   "source": [
    "For each time step $t$ we set up the dynamic linear system of equations with the [`setup_dynamic_lse`](https://qiskit.github.io/qiskit-addon-mpf/apidocs/qiskit_addon_mpf.dynamic.html) method. The corresponding object contains the information about the dynamic MPF problem: `lse.A` gives the Gram matrix $M$ while `lse.b` gives the overlap $L$. We can then solve the LSE (when not ill-defined) to find the dynamic coefficients using the `setup_frobenius_problem`. It is important to note the difference with the static coefficients, which only depend on the details of the product formula used and are independent of the details of the time-evolution (Hamiltonian and initial state)."
   ]
  },
  {
   "cell_type": "code",
   "execution_count": 22,
   "id": "bed976ac",
   "metadata": {},
   "outputs": [
    {
     "name": "stdout",
     "output_type": "stream",
     "text": [
      "Computing dynamic coefficients for time=0.5\n",
      "\n",
      "Computing dynamic coefficients for time=0.6\n",
      "\n",
      "Computing dynamic coefficients for time=0.7\n",
      "\n",
      "Computing dynamic coefficients for time=0.7999999999999999\n",
      "\n",
      "Computing dynamic coefficients for time=0.8999999999999999\n",
      "\n",
      "Computing dynamic coefficients for time=0.9999999999999999\n",
      "\n",
      "Computing dynamic coefficients for time=1.0999999999999999\n",
      "\n",
      "Computing dynamic coefficients for time=1.1999999999999997\n",
      "\n",
      "Computing dynamic coefficients for time=1.2999999999999998\n",
      "\n",
      "Computing dynamic coefficients for time=1.4\n",
      "\n",
      "Computing dynamic coefficients for time=1.4999999999999998\n",
      "\n"
     ]
    }
   ],
   "source": [
    "from qiskit_addon_mpf.dynamic import setup_dynamic_lse\n",
    "from qiskit_addon_mpf.costs import setup_frobenius_problem\n",
    "\n",
    "mpf_dynamic_coeffs_list = []\n",
    "for t in trotter_times:\n",
    "    print(f\"Computing dynamic coefficients for time={t}\")\n",
    "    lse = setup_dynamic_lse(\n",
    "        mpf_trotter_steps,\n",
    "        t,\n",
    "        identity_factory,\n",
    "        exact_factory,\n",
    "        approx_factory,\n",
    "        mps_initial_state,\n",
    "    )\n",
    "    problem, coeffs = setup_frobenius_problem(lse)\n",
    "    try:\n",
    "        problem.solve()\n",
    "        mpf_dynamic_coeffs_list.append(coeffs.value)\n",
    "    except Exception as error:\n",
    "        mpf_dynamic_coeffs_list.append(np.zeros(len(mpf_trotter_steps)))\n",
    "        print(error, \"Calculation Failed for time\", t)\n",
    "    print(\"\")"
   ]
  },
  {
   "cell_type": "markdown",
   "id": "bf4a82e0",
   "metadata": {},
   "source": [
    "Finally, plot these expectation values throughout the evolution time."
   ]
  },
  {
   "cell_type": "code",
   "execution_count": null,
   "id": "2da9c948",
   "metadata": {},
   "outputs": [
    {
     "data": {
      "text/plain": [
       "<Image src=\"/docs/images/tutorials/multi-product-formula/extracted-outputs/2da9c948-0.avif\" alt=\"Output of the previous code cell\" />"
      ]
     },
     "metadata": {},
     "output_type": "display_data"
    }
   ],
   "source": [
    "import matplotlib.pyplot as plt\n",
    "\n",
    "sym = {1: \"^\", 2: \"s\", 4: \"p\"}\n",
    "# Get expectation values at all times for each Trotter step\n",
    "for k, step in enumerate(mpf_trotter_steps):\n",
    "    trotter_curve, trotter_curve_error = [], []\n",
    "    for trotter_expvals, trotter_stds in zip(\n",
    "        mpf_expvals_all_times, mpf_stds_all_times\n",
    "    ):\n",
    "        trotter_curve.append(trotter_expvals[k])\n",
    "        trotter_curve_error.append(trotter_stds[k])\n",
    "\n",
    "    plt.errorbar(\n",
    "        trotter_times,\n",
    "        trotter_curve,\n",
    "        yerr=trotter_curve_error,\n",
    "        alpha=0.5,\n",
    "        markersize=4,\n",
    "        marker=sym[step],\n",
    "        color=\"grey\",\n",
    "        label=f\"{mpf_trotter_steps[k]} Trotter steps\",\n",
    "    )  # , , )\n",
    "\n",
    "# Get expectation values at all times for the static MPF with exact coeffs\n",
    "exact_mpf_curve, exact_mpf_curve_error = [], []\n",
    "for trotter_expvals, trotter_stds in zip(\n",
    "    mpf_expvals_all_times, mpf_stds_all_times\n",
    "):\n",
    "    mpf_std = np.sqrt(\n",
    "        sum(\n",
    "            [\n",
    "                (coeff**2) * (std**2)\n",
    "                for coeff, std in zip(coeffs_exact.value, trotter_stds)\n",
    "            ]\n",
    "        )\n",
    "    )\n",
    "    exact_mpf_curve_error.append(mpf_std)\n",
    "    exact_mpf_curve.append(trotter_expvals @ coeffs_exact.value)\n",
    "\n",
    "plt.errorbar(\n",
    "    trotter_times,\n",
    "    exact_mpf_curve,\n",
    "    yerr=exact_mpf_curve_error,\n",
    "    markersize=4,\n",
    "    marker=\"o\",\n",
    "    label=\"Static MPF - Exact\",\n",
    "    color=\"purple\",\n",
    ")\n",
    "\n",
    "\n",
    "# Get expectation values at all times for the static MPF with approximate\n",
    "approx_mpf_curve, approx_mpf_curve_error = [], []\n",
    "for trotter_expvals, trotter_stds in zip(\n",
    "    mpf_expvals_all_times, mpf_stds_all_times\n",
    "):\n",
    "    mpf_std = np.sqrt(\n",
    "        sum(\n",
    "            [\n",
    "                (coeff**2) * (std**2)\n",
    "                for coeff, std in zip(coeffs_approx.value, trotter_stds)\n",
    "            ]\n",
    "        )\n",
    "    )\n",
    "    approx_mpf_curve_error.append(mpf_std)\n",
    "    approx_mpf_curve.append(trotter_expvals @ coeffs_approx.value)\n",
    "\n",
    "plt.errorbar(\n",
    "    trotter_times,\n",
    "    approx_mpf_curve,\n",
    "    yerr=approx_mpf_curve_error,\n",
    "    markersize=4,\n",
    "    marker=\"o\",\n",
    "    color=\"orange\",\n",
    "    label=\"Static MPF - Approximate\",\n",
    ")\n",
    "\n",
    "# # Get expectation values at all times for the dynamic MPF\n",
    "dynamic_mpf_curve, dynamic_mpf_curve_error = [], []\n",
    "for trotter_expvals, trotter_stds, dynamic_coeffs in zip(\n",
    "    mpf_expvals_all_times, mpf_stds_all_times, mpf_dynamic_coeffs_list\n",
    "):\n",
    "    mpf_std = np.sqrt(\n",
    "        sum(\n",
    "            [\n",
    "                (coeff**2) * (std**2)\n",
    "                for coeff, std in zip(dynamic_coeffs, trotter_stds)\n",
    "            ]\n",
    "        )\n",
    "    )\n",
    "    dynamic_mpf_curve_error.append(mpf_std)\n",
    "    dynamic_mpf_curve.append(trotter_expvals @ dynamic_coeffs)\n",
    "\n",
    "plt.errorbar(\n",
    "    trotter_times,\n",
    "    dynamic_mpf_curve,\n",
    "    yerr=dynamic_mpf_curve_error,\n",
    "    markersize=4,\n",
    "    marker=\"o\",\n",
    "    color=\"pink\",\n",
    "    label=\"Dynamic MPF\",\n",
    ")\n",
    "\n",
    "\n",
    "plt.plot(\n",
    "    exact_evolution_times,\n",
    "    exact_expvals,\n",
    "    lw=3,\n",
    "    color=\"red\",\n",
    "    label=\"Exact time-evolution\",\n",
    ")\n",
    "\n",
    "\n",
    "plt.title(\n",
    "    f\"Expectation values for (ZZ,{(L//2-1, L//2)}) as a function of time\"\n",
    ")\n",
    "plt.xlabel(\"Time\")\n",
    "plt.ylabel(\"Expectation Value\")\n",
    "plt.legend()\n",
    "plt.grid()"
   ]
  },
  {
   "cell_type": "markdown",
   "id": "3a4c6912",
   "metadata": {},
   "source": [
    "In the cases like the example above, where the $k=1$ PF behaves poorly at all times, the quality of the dynamic MPF results is also heavily affected. In such situations, it is useful to investigate the possibility of using individual PFs with higher number of Trotter steps to improve the overall quality of the results. In these simulations, we see the interplay of different types of errors: error from finite sampling, and Trotter error from the product formulas. MPF helps to reduce the Trotter error due to the product formulas but incur in higher sampling error compared to the product formulas. This can be advantageous, as product formulas can reduce the sampling error with increased sampling, but the systematic error due to the Trotter approximation remains untouched.\n",
    "\n",
    "Another interesting behavior that we can observe from the plot is that the expectation value for the PF for $k=1$ starts to behave erratically (on top of not being a good approximation for the exact one) at times for which $t/k > 1 $, as explained in the [guide](https://qiskit.github.io/qiskit-addon-mpf/how_tos/choose_trotter_steps.html) on how to choose the number of Trotter steps."
   ]
  },
  {
   "cell_type": "markdown",
   "id": "2a16f346",
   "metadata": {},
   "source": [
    "### Step 1: Map classical inputs to a quantum problem\n",
    "Let's now consider a single time $t=1.0$ and calculate the expectation value of the magnetization with the various methods using one QPU. The particular choice of $t$ was done so to maximize the difference between the various methods and observe their relative efficacy. To determine the window of time for which dynamic MPF is guaranteed to produce observables with lower error than any of the individual Trotter formulas within the multi-product, we can implement the “MPF test” - see equation (17) and surrounding text in [\\[3\\]](#references)."
   ]
  },
  {
   "cell_type": "markdown",
   "id": "623cc755",
   "metadata": {},
   "source": [
    "#### Set up the Trotter circuits\n",
    "\n",
    "At this point, we have found our expansion coefficients, $x$, and all that is left to do is to generate the Trotterized quantum circuits.\n",
    "Once again, the [qiskit_addon_utils.problem_generators](https://qiskit.github.io/qiskit-addon-utils/stubs/qiskit_addon_utils.problem_generators.html) module comes to the rescue with a useful function to do this:"
   ]
  },
  {
   "cell_type": "code",
   "execution_count": 26,
   "id": "3dc0dcf2",
   "metadata": {},
   "outputs": [],
   "source": [
    "from qiskit.synthesis import SuzukiTrotter\n",
    "from qiskit_addon_utils.problem_generators import (\n",
    "    generate_time_evolution_circuit,\n",
    ")\n",
    "from qiskit import QuantumCircuit\n",
    "\n",
    "\n",
    "total_time = 1.0\n",
    "mpf_circuits = []\n",
    "for k in mpf_trotter_steps:\n",
    "    # Initial Neel state preparation\n",
    "    circuit = QuantumCircuit(L)\n",
    "    circuit.x([i for i in range(L) if i % 2 != 0])\n",
    "\n",
    "    trotter_circ = generate_time_evolution_circuit(\n",
    "        hamiltonian,\n",
    "        synthesis=SuzukiTrotter(order=order, reps=k),\n",
    "        time=total_time,\n",
    "    )\n",
    "\n",
    "    circuit.compose(trotter_circ, inplace=True)\n",
    "\n",
    "    mpf_circuits.append(pm.run(circuit))"
   ]
  },
  {
   "cell_type": "code",
   "execution_count": 27,
   "id": "87d2ac0c",
   "metadata": {},
   "outputs": [
    {
     "data": {
      "text/plain": [
       "<Image src=\"/docs/images/tutorials/multi-product-formula/extracted-outputs/87d2ac0c-0.avif\" alt=\"Output of the previous code cell\" />"
      ]
     },
     "execution_count": 27,
     "metadata": {},
     "output_type": "execute_result"
    }
   ],
   "source": [
    "mpf_circuits[-1].draw(\"mpl\", fold=-1, scale=0.4)"
   ]
  },
  {
   "cell_type": "markdown",
   "id": "97eb3019",
   "metadata": {},
   "source": [
    "### Step 2: Optimize problem for quantum hardware execution\n",
    "Let's return to the calculation of the expectation value for a single time point. We'll pick a backend for executing the experiment on hardware."
   ]
  },
  {
   "cell_type": "code",
   "execution_count": null,
   "id": "c9a3020e",
   "metadata": {},
   "outputs": [],
   "source": [
    "from qiskit_ibm_runtime import QiskitRuntimeService\n",
    "\n",
    "\n",
    "service = QiskitRuntimeService()\n",
    "backend = service.least_busy(min_num_qubits=127)\n",
    "print(backend)\n",
    "\n",
    "qubits = list(range(backend.num_qubits))"
   ]
  },
  {
   "cell_type": "markdown",
   "id": "6eeaac1b",
   "metadata": {},
   "source": [
    "Then we remove outlier qubits from the coupling map to ensure that the layout stage of the transpiler doesn't include them. Below we use the reported backend properties stored in the `target` object and remove qubits that either have measurement error or a two-qubit gate above a certain threshold (`max_meas_err`, `max_twoq_err`) or $T_2$ time (which determines the loss of coherence) below a certain threshold (`min_t2`)."
   ]
  },
  {
   "cell_type": "code",
   "execution_count": null,
   "id": "8bb2c619",
   "metadata": {},
   "outputs": [
    {
     "name": "stdout",
     "output_type": "stream",
     "text": [
      "size of largest component 10\n"
     ]
    }
   ],
   "source": [
    "import copy\n",
    "from qiskit.transpiler import Target, CouplingMap\n",
    "\n",
    "target = backend.target\n",
    "instruction_2q = \"cz\"\n",
    "\n",
    "cmap = target.build_coupling_map(filter_idle_qubits=True)\n",
    "cmap_list = list(cmap.get_edges())\n",
    "\n",
    "max_meas_err = 0.012\n",
    "min_t2 = 40\n",
    "max_twoq_err = 0.005\n",
    "\n",
    "# Remove qubits with bad measurement or t2\n",
    "cust_cmap_list = copy.deepcopy(cmap_list)\n",
    "for q in range(target.num_qubits):\n",
    "    meas_err = target[\"measure\"][(q,)].error\n",
    "    if target.qubit_properties[q].t2 is not None:\n",
    "        t2 = target.qubit_properties[q].t2 * 1e6\n",
    "    else:\n",
    "        t2 = 0\n",
    "    if meas_err > max_meas_err or t2 < min_t2:\n",
    "        # print(q)\n",
    "        for q_pair in cmap_list:\n",
    "            if q in q_pair:\n",
    "                try:\n",
    "                    cust_cmap_list.remove(q_pair)\n",
    "                except ValueError:\n",
    "                    continue\n",
    "\n",
    "# Remove qubits with bad 2q gate or t2\n",
    "for q in cmap_list:\n",
    "    twoq_gate_err = target[instruction_2q][q].error\n",
    "    if twoq_gate_err > max_twoq_err:\n",
    "        # print(q)\n",
    "        for q_pair in cmap_list:\n",
    "            if q == q_pair:\n",
    "                try:\n",
    "                    cust_cmap_list.remove(q_pair)\n",
    "                except ValueError:\n",
    "                    continue\n",
    "\n",
    "\n",
    "cust_cmap = CouplingMap(cust_cmap_list)\n",
    "\n",
    "cust_target = Target.from_configuration(\n",
    "    basis_gates=backend.configuration().basis_gates\n",
    "    + [\"measure\"],  # or whatever new set of gates\n",
    "    coupling_map=cust_cmap,\n",
    ")\n",
    "\n",
    "sorted_components = sorted(\n",
    "    [list(comp.physical_qubits) for comp in cust_cmap.connected_components()],\n",
    "    reverse=True,\n",
    ")\n",
    "print(\"size of largest component\", len(sorted_components[0]))"
   ]
  },
  {
   "cell_type": "markdown",
   "id": "2aba48dd",
   "metadata": {},
   "source": [
    "We want to set `max_meas_err`,  `min_t2`, and `max_twoq_err` such that we find a large enough subset of qubits that supports the circuit to run. In our case it's enough to find a 10-qubit 1D chain."
   ]
  },
  {
   "cell_type": "code",
   "execution_count": 34,
   "id": "c5d8e90b",
   "metadata": {},
   "outputs": [
    {
     "data": {
      "text/plain": [
       "<Image src=\"/docs/images/tutorials/multi-product-formula/extracted-outputs/c5d8e90b-0.avif\" alt=\"Output of the previous code cell\" />"
      ]
     },
     "execution_count": 34,
     "metadata": {},
     "output_type": "execute_result"
    }
   ],
   "source": [
    "cust_cmap.draw()"
   ]
  },
  {
   "cell_type": "markdown",
   "id": "4d11a75a",
   "metadata": {},
   "source": [
    "We can then map the circuit and observable onto physical qubits of the device."
   ]
  },
  {
   "cell_type": "code",
   "execution_count": 72,
   "id": "bbbec0ec",
   "metadata": {},
   "outputs": [],
   "source": [
    "from qiskit.transpiler.preset_passmanagers import generate_preset_pass_manager\n",
    "\n",
    "transpiler = generate_preset_pass_manager(\n",
    "    optimization_level=3, target=cust_target\n",
    ")\n",
    "\n",
    "transpiled_circuits = [transpiler.run(circ) for circ in mpf_circuits]\n",
    "\n",
    "qubits_layouts = [\n",
    "    [\n",
    "        idx\n",
    "        for idx, qb in circuit.layout.initial_layout.get_physical_bits().items()\n",
    "        if qb._register.name != \"ancilla\"\n",
    "    ]\n",
    "    for circuit in transpiled_circuits\n",
    "]\n",
    "\n",
    "transpiled_circuits = []\n",
    "for circuit, layout in zip(mpf_circuits, qubits_layouts):\n",
    "    transpiler = generate_preset_pass_manager(\n",
    "        optimization_level=3, backend=backend, initial_layout=layout\n",
    "    )\n",
    "    transpiled_circuit = transpiler.run(circuit)\n",
    "    transpiled_circuits.append(transpiled_circuit)\n",
    "\n",
    "\n",
    "# transform the observable defined on virtual qubits to\n",
    "# an observable defined on all physical qubits\n",
    "isa_observables = [\n",
    "    observable.apply_layout(circ.layout) for circ in transpiled_circuits\n",
    "]"
   ]
  },
  {
   "cell_type": "code",
   "execution_count": 73,
   "id": "25ce07a6",
   "metadata": {},
   "outputs": [
    {
     "name": "stdout",
     "output_type": "stream",
     "text": [
      "51\n",
      "OrderedDict([('sx', 310), ('rz', 232), ('cz', 132), ('x', 19)])\n"
     ]
    },
    {
     "data": {
      "text/plain": [
       "<Image src=\"/docs/images/tutorials/multi-product-formula/extracted-outputs/25ce07a6-1.avif\" alt=\"Output of the previous code cell\" />"
      ]
     },
     "execution_count": 73,
     "metadata": {},
     "output_type": "execute_result"
    }
   ],
   "source": [
    "print(transpiled_circuits[-1].depth(lambda x: x.operation.num_qubits == 2))\n",
    "print(transpiled_circuits[-1].count_ops())\n",
    "transpiled_circuits[-1].draw(\"mpl\", idle_wires=False, fold=False)"
   ]
  },
  {
   "attachments": {},
   "cell_type": "markdown",
   "id": "c5edec73",
   "metadata": {},
   "source": [
    "### Step 3: Execute using Qiskit primitives\n",
    "With the Estimator primitive we can obtain the estimation of expectation value from the QPU. We execute the optimized AQC circuits with additional error mitigation and suppression techniques."
   ]
  },
  {
   "cell_type": "code",
   "execution_count": null,
   "id": "f91a669f",
   "metadata": {},
   "outputs": [],
   "source": [
    "from qiskit_ibm_runtime import EstimatorV2 as Estimator\n",
    "\n",
    "\n",
    "estimator = Estimator(mode=backend)\n",
    "estimator.options.default_shots = 30000\n",
    "\n",
    "# Set simple error suppression/mitigation options\n",
    "estimator.options.dynamical_decoupling.enable = True\n",
    "estimator.options.twirling.enable_gates = True\n",
    "estimator.options.twirling.enable_measure = True\n",
    "estimator.options.twirling.num_randomizations = \"auto\"\n",
    "estimator.options.twirling.strategy = \"active-accum\"\n",
    "estimator.options.resilience.measure_mitigation = True\n",
    "estimator.options.experimental.execution_path = \"gen3-turbo\"\n",
    "\n",
    "estimator.options.resilience.zne_mitigation = True\n",
    "estimator.options.resilience.zne.noise_factors = (1, 3, 5)\n",
    "estimator.options.resilience.zne.extrapolator = (\"exponential\", \"linear\")\n",
    "\n",
    "estimator.options.environment.job_tags = [\"mpf small\"]\n",
    "\n",
    "\n",
    "job = estimator.run(\n",
    "    [\n",
    "        (circ, observable)\n",
    "        for circ, observable in zip(transpiled_circuits, isa_observables)\n",
    "    ]\n",
    ")"
   ]
  },
  {
   "cell_type": "markdown",
   "id": "87484abf",
   "metadata": {},
   "source": [
    "### Step 4: Post-process and return result in desired classical format\n",
    "\n",
    "\n",
    "The only post-processing step is to combine the expectation value obtained from the Qiskit Runtime primitives at different Trotter steps using the respective MPF coefficients. For an observable $A$ we have:\n",
    "\n",
    "$$ \\langle A \\rangle_{\\text{mpf}}  = \\text{Tr} [A \\mu(t)] = \\sum_{j} x_j  \\text{Tr} [A \\rho_{k_j}] = \\sum_{j} x_j \\langle A \\rangle_j$$\n",
    "\n",
    "First, we extract the individual expectation values obtained for each of the Trotter circuits:"
   ]
  },
  {
   "cell_type": "code",
   "execution_count": 39,
   "id": "a5ef9913",
   "metadata": {},
   "outputs": [
    {
     "name": "stdout",
     "output_type": "stream",
     "text": [
      "[array(-0.06361607), array(-0.23820448), array(-0.50271805)]\n"
     ]
    }
   ],
   "source": [
    "result_exp = job.result()\n",
    "evs_exp = [res.data.evs for res in result_exp]\n",
    "evs_std = [res.data.stds for res in result_exp]\n",
    "\n",
    "print(evs_exp)"
   ]
  },
  {
   "cell_type": "markdown",
   "id": "446ab041",
   "metadata": {},
   "source": [
    "Next, we simply recombine them with our MPF coefficients to yield the total expectation values of the MPF. Below, we do so for each of the different ways by which we have computed $x$."
   ]
  },
  {
   "cell_type": "code",
   "execution_count": 29,
   "id": "3ee35ecb",
   "metadata": {},
   "outputs": [
    {
     "name": "stdout",
     "output_type": "stream",
     "text": [
      "Exact static MPF expectation value:  -0.6329590442738475 +- 0.012798249760406036\n",
      "Approximate static MPF expectation value:  -0.5690390035339492 +- 0.010459559917168473\n",
      "Dynamic MPF expectation value:  -0.4655579758795695 +- 0.007639139186720507\n"
     ]
    }
   ],
   "source": [
    "exact_mpf_std = np.sqrt(\n",
    "    sum(\n",
    "        [\n",
    "            (coeff**2) * (std**2)\n",
    "            for coeff, std in zip(coeffs_exact.value, evs_std)\n",
    "        ]\n",
    "    )\n",
    ")\n",
    "print(\n",
    "    \"Exact static MPF expectation value: \",\n",
    "    evs_exp @ coeffs_exact.value,\n",
    "    \"+-\",\n",
    "    exact_mpf_std,\n",
    ")\n",
    "approx_mpf_std = np.sqrt(\n",
    "    sum(\n",
    "        [\n",
    "            (coeff**2) * (std**2)\n",
    "            for coeff, std in zip(coeffs_approx.value, evs_std)\n",
    "        ]\n",
    "    )\n",
    ")\n",
    "print(\n",
    "    \"Approximate static MPF expectation value: \",\n",
    "    evs_exp @ coeffs_approx.value,\n",
    "    \"+-\",\n",
    "    approx_mpf_std,\n",
    ")\n",
    "dynamic_mpf_std = np.sqrt(\n",
    "    sum(\n",
    "        [\n",
    "            (coeff**2) * (std**2)\n",
    "            for coeff, std in zip(mpf_dynamic_coeffs_list[7], evs_std)\n",
    "        ]\n",
    "    )\n",
    ")\n",
    "print(\n",
    "    \"Dynamic MPF expectation value: \",\n",
    "    evs_exp @ mpf_dynamic_coeffs_list[7],\n",
    "    \"+-\",\n",
    "    dynamic_mpf_std,\n",
    ")"
   ]
  },
  {
   "cell_type": "markdown",
   "id": "8a99f6b2",
   "metadata": {},
   "source": [
    "Finally, for this small problem we can compute the exact reference value using [scipy.linalg.expm](https://docs.scipy.org/doc/scipy/reference/generated/scipy.linalg.expm.html) as follows:"
   ]
  },
  {
   "cell_type": "code",
   "execution_count": 30,
   "id": "4a7dd8fc",
   "metadata": {},
   "outputs": [
    {
     "name": "stdout",
     "output_type": "stream",
     "text": [
      "Exact expectation value  -0.39909900734489434\n"
     ]
    }
   ],
   "source": [
    "from scipy.linalg import expm\n",
    "from qiskit.quantum_info import Statevector\n",
    "\n",
    "exp_H = expm(-1j * total_time * hamiltonian.to_matrix())\n",
    "\n",
    "initial_state_circuit = QuantumCircuit(L)\n",
    "initial_state_circuit.x([i for i in range(L) if i % 2 != 0])\n",
    "initial_state = Statevector(initial_state_circuit).data\n",
    "\n",
    "time_evolved_state = exp_H @ initial_state\n",
    "\n",
    "exact_obs = (\n",
    "    time_evolved_state.conj() @ observable.to_matrix() @ time_evolved_state\n",
    ")\n",
    "print(\"Exact expectation value \", exact_obs.real)"
   ]
  },
  {
   "cell_type": "code",
   "execution_count": 31,
   "id": "a3eefe73",
   "metadata": {},
   "outputs": [
    {
     "data": {
      "text/plain": [
       "<Image src=\"/docs/images/tutorials/multi-product-formula/extracted-outputs/a3eefe73-0.avif\" alt=\"Output of the previous code cell\" />"
      ]
     },
     "metadata": {},
     "output_type": "display_data"
    }
   ],
   "source": [
    "sym = {1: \"^\", 2: \"s\", 4: \"p\"}\n",
    "# Get expectation values at all times for each Trotter step\n",
    "for k, step in enumerate(mpf_trotter_steps):\n",
    "    plt.errorbar(\n",
    "        k,\n",
    "        evs_exp[k],\n",
    "        yerr=evs_std[k],\n",
    "        alpha=0.5,\n",
    "        markersize=4,\n",
    "        marker=sym[step],\n",
    "        color=\"grey\",\n",
    "        label=f\"{mpf_trotter_steps[k]} Trotter steps\",\n",
    "    )  # , , )\n",
    "\n",
    "\n",
    "plt.errorbar(\n",
    "    3,\n",
    "    evs_exp @ coeffs_exact.value,\n",
    "    yerr=exact_mpf_std,\n",
    "    markersize=4,\n",
    "    marker=\"o\",\n",
    "    color=\"purple\",\n",
    "    label=\"Static MPF\",\n",
    ")\n",
    "\n",
    "plt.errorbar(\n",
    "    4,\n",
    "    evs_exp @ coeffs_approx.value,\n",
    "    yerr=approx_mpf_std,\n",
    "    markersize=4,\n",
    "    marker=\"o\",\n",
    "    color=\"orange\",\n",
    "    label=\"Approximate static MPF\",\n",
    ")\n",
    "\n",
    "plt.errorbar(\n",
    "    5,\n",
    "    evs_exp @ mpf_dynamic_coeffs_list[7],\n",
    "    yerr=dynamic_mpf_std,\n",
    "    markersize=4,\n",
    "    marker=\"o\",\n",
    "    color=\"pink\",\n",
    "    label=\"Dynamic MPF\",\n",
    ")\n",
    "\n",
    "plt.axhline(\n",
    "    y=exact_obs.real,\n",
    "    linestyle=\"--\",\n",
    "    color=\"red\",\n",
    "    label=\"Exact time-evolution\",\n",
    ")\n",
    "\n",
    "\n",
    "plt.title(\n",
    "    f\"Expectation values for (ZZ,{(L//2-1, L//2)}) at time {total_time} for the different methods \"\n",
    ")\n",
    "plt.xlabel(\"Method\")\n",
    "plt.ylabel(\"Expectation Value\")\n",
    "plt.legend(loc=\"upper center\", bbox_to_anchor=(0.5, -0.2), ncol=2)\n",
    "plt.grid(alpha=0.1)\n",
    "plt.tight_layout()\n",
    "plt.show()"
   ]
  },
  {
   "cell_type": "markdown",
   "id": "921fb0c1",
   "metadata": {},
   "source": [
    "In the example above, the dynamic MPF method performs best in terms of expectation value, improving over what we would have obtained by using the highest number of Trotter steps alone. Even though the various MPF techniques are not always achieving an improved expectation value compared to the highest number of Trotter steps (like the exact and the approximate model in the plot above), the standard deviation of these values captures well the increased variance incurred when using the MPF technique. This highlights uncertainty around the obtained expectation value, which always includes the expectation value we would expect from an exact time-evolution of the system. On the other hand, the expectation values calculated with the lower number of Trotter steps fails to capture the exact expectation value within their uncertainty, thus confidently returning the wrong result."
   ]
  },
  {
   "cell_type": "code",
   "execution_count": 32,
   "id": "7d639f4a",
   "metadata": {},
   "outputs": [
    {
     "name": "stdout",
     "output_type": "stream",
     "text": [
      "relative error for each trotter steps [0.33548293650112293, 0.16089452939226306, 0.10361904247828346]\n",
      "relative error with MPF exact coeffs 0.2338600369291003\n",
      "relative error with MPF approx coeffs 0.16993999618905486\n",
      "relative error with MPF dynamic coeffs 0.06645896853467514\n"
     ]
    }
   ],
   "source": [
    "def relative_error(ev, exact_ev):\n",
    "    return abs(ev - exact_ev)\n",
    "\n",
    "\n",
    "relative_error_k = [relative_error(ev, exact_obs.real) for ev in evs_exp]\n",
    "relative_error_mpf = relative_error(evs_exp @ mpf_coeffs, exact_obs.real)\n",
    "relative_error_approx_mpf = relative_error(\n",
    "    evs_exp @ coeffs_approx.value, exact_obs.real\n",
    ")\n",
    "relative_error_dynamic_mpf = relative_error(\n",
    "    evs_exp @ mpf_dynamic_coeffs_list[7], exact_obs.real\n",
    ")\n",
    "\n",
    "print(\"relative error for each trotter steps\", relative_error_k)\n",
    "print(\"relative error with MPF exact coeffs\", relative_error_mpf)\n",
    "print(\"relative error with MPF approx coeffs\", relative_error_approx_mpf)\n",
    "print(\"relative error with MPF dynamic coeffs\", relative_error_dynamic_mpf)"
   ]
  },
  {
   "cell_type": "markdown",
   "id": "0130299b",
   "metadata": {},
   "source": [
    "## Part II: scale it up\n",
    "\n",
    "Let's scale the problem up beyond what is possible to simulate exactly. In this section we will focus on reproducing some of the results shown in Ref. [\\[3\\]](#references)."
   ]
  },
  {
   "cell_type": "markdown",
   "id": "85a5e83a",
   "metadata": {},
   "source": [
    "### Step 1: Map classical inputs to a quantum problem"
   ]
  },
  {
   "cell_type": "markdown",
   "id": "951205d9",
   "metadata": {},
   "source": [
    "#### Hamiltonian\n",
    "\n",
    "For the large-scale example, we use the XXZ model on a line of 50 sites:\n",
    "\n",
    "$$\n",
    "\\hat{\\mathcal{H}}_{XXZ} = \\sum_{i=1}^{L-1} J_{i,(i+1)}\\left(X_i X_{(i+1)}+Y_i Y_{(i+1)}+ 2\\cdot Z_i Z_{(i+1)} \\right) \\, ,\n",
    "$$\n",
    "\n",
    "where $J_{i,(i+1)}$ is a random coefficient corresponding to edge $(i, i+1)$. This is the Hamiltonian considered in the demonstration presented in Ref. [\\[3\\]](#references)."
   ]
  },
  {
   "cell_type": "code",
   "execution_count": 33,
   "id": "34bf68ac",
   "metadata": {},
   "outputs": [
    {
     "data": {
      "text/plain": [
       "<Image src=\"/docs/images/tutorials/multi-product-formula/extracted-outputs/34bf68ac-0.avif\" alt=\"Output of the previous code cell\" />"
      ]
     },
     "execution_count": 33,
     "metadata": {},
     "output_type": "execute_result"
    }
   ],
   "source": [
    "L = 50\n",
    "# Generate some coupling map to use for this example\n",
    "coupling_map = CouplingMap.from_line(L, bidirectional=False)\n",
    "graphviz_draw(coupling_map.graph, method=\"circo\")"
   ]
  },
  {
   "cell_type": "code",
   "execution_count": null,
   "id": "06e49110",
   "metadata": {},
   "outputs": [
    {
     "name": "stdout",
     "output_type": "stream",
     "text": [
      "SparsePauliOp(['IIIIIIIIIIIIIIIIIIIIIIIIIIIIIIIIIIIIIIIIIIIIIIIIII', 'IIIIIIIIIIIIIIIIIIIIIIIIIIIIIIIIIIIIIIIIIIIIIIIIXX', 'IIIIIIIIIIIIIIIIIIIIIIIIIIIIIIIIIIIIIIIIIIIIIIIIYY', 'IIIIIIIIIIIIIIIIIIIIIIIIIIIIIIIIIIIIIIIIIIIIIIIIZZ', 'IIIIIIIIIIIIIIIIIIIIIIIIIIIIIIIIIIIIIIIIIIIIIIXXII', 'IIIIIIIIIIIIIIIIIIIIIIIIIIIIIIIIIIIIIIIIIIIIIIYYII', 'IIIIIIIIIIIIIIIIIIIIIIIIIIIIIIIIIIIIIIIIIIIIIIZZII', 'IIIIIIIIIIIIIIIIIIIIIIIIIIIIIIIIIIIIIIIIIIIIXXIIII', 'IIIIIIIIIIIIIIIIIIIIIIIIIIIIIIIIIIIIIIIIIIIIYYIIII', 'IIIIIIIIIIIIIIIIIIIIIIIIIIIIIIIIIIIIIIIIIIIIZZIIII', 'IIIIIIIIIIIIIIIIIIIIIIIIIIIIIIIIIIIIIIIIIIXXIIIIII', 'IIIIIIIIIIIIIIIIIIIIIIIIIIIIIIIIIIIIIIIIIIYYIIIIII', 'IIIIIIIIIIIIIIIIIIIIIIIIIIIIIIIIIIIIIIIIIIZZIIIIII', 'IIIIIIIIIIIIIIIIIIIIIIIIIIIIIIIIIIIIIIIIXXIIIIIIII', 'IIIIIIIIIIIIIIIIIIIIIIIIIIIIIIIIIIIIIIIIYYIIIIIIII', 'IIIIIIIIIIIIIIIIIIIIIIIIIIIIIIIIIIIIIIIIZZIIIIIIII', 'IIIIIIIIIIIIIIIIIIIIIIIIIIIIIIIIIIIIIIXXIIIIIIIIII', 'IIIIIIIIIIIIIIIIIIIIIIIIIIIIIIIIIIIIIIYYIIIIIIIIII', 'IIIIIIIIIIIIIIIIIIIIIIIIIIIIIIIIIIIIIIZZIIIIIIIIII', 'IIIIIIIIIIIIIIIIIIIIIIIIIIIIIIIIIIIIXXIIIIIIIIIIII', 'IIIIIIIIIIIIIIIIIIIIIIIIIIIIIIIIIIIIYYIIIIIIIIIIII', 'IIIIIIIIIIIIIIIIIIIIIIIIIIIIIIIIIIIIZZIIIIIIIIIIII', 'IIIIIIIIIIIIIIIIIIIIIIIIIIIIIIIIIIXXIIIIIIIIIIIIII', 'IIIIIIIIIIIIIIIIIIIIIIIIIIIIIIIIIIYYIIIIIIIIIIIIII', 'IIIIIIIIIIIIIIIIIIIIIIIIIIIIIIIIIIZZIIIIIIIIIIIIII', 'IIIIIIIIIIIIIIIIIIIIIIIIIIIIIIIIXXIIIIIIIIIIIIIIII', 'IIIIIIIIIIIIIIIIIIIIIIIIIIIIIIIIYYIIIIIIIIIIIIIIII', 'IIIIIIIIIIIIIIIIIIIIIIIIIIIIIIIIZZIIIIIIIIIIIIIIII', 'IIIIIIIIIIIIIIIIIIIIIIIIIIIIIIXXIIIIIIIIIIIIIIIIII', 'IIIIIIIIIIIIIIIIIIIIIIIIIIIIIIYYIIIIIIIIIIIIIIIIII', 'IIIIIIIIIIIIIIIIIIIIIIIIIIIIIIZZIIIIIIIIIIIIIIIIII', 'IIIIIIIIIIIIIIIIIIIIIIIIIIIIXXIIIIIIIIIIIIIIIIIIII', 'IIIIIIIIIIIIIIIIIIIIIIIIIIIIYYIIIIIIIIIIIIIIIIIIII', 'IIIIIIIIIIIIIIIIIIIIIIIIIIIIZZIIIIIIIIIIIIIIIIIIII', 'IIIIIIIIIIIIIIIIIIIIIIIIIIXXIIIIIIIIIIIIIIIIIIIIII', 'IIIIIIIIIIIIIIIIIIIIIIIIIIYYIIIIIIIIIIIIIIIIIIIIII', 'IIIIIIIIIIIIIIIIIIIIIIIIIIZZIIIIIIIIIIIIIIIIIIIIII', 'IIIIIIIIIIIIIIIIIIIIIIIIXXIIIIIIIIIIIIIIIIIIIIIIII', 'IIIIIIIIIIIIIIIIIIIIIIIIYYIIIIIIIIIIIIIIIIIIIIIIII', 'IIIIIIIIIIIIIIIIIIIIIIIIZZIIIIIIIIIIIIIIIIIIIIIIII', 'IIIIIIIIIIIIIIIIIIIIIIXXIIIIIIIIIIIIIIIIIIIIIIIIII', 'IIIIIIIIIIIIIIIIIIIIIIYYIIIIIIIIIIIIIIIIIIIIIIIIII', 'IIIIIIIIIIIIIIIIIIIIIIZZIIIIIIIIIIIIIIIIIIIIIIIIII', 'IIIIIIIIIIIIIIIIIIIIXXIIIIIIIIIIIIIIIIIIIIIIIIIIII', 'IIIIIIIIIIIIIIIIIIIIYYIIIIIIIIIIIIIIIIIIIIIIIIIIII', 'IIIIIIIIIIIIIIIIIIIIZZIIIIIIIIIIIIIIIIIIIIIIIIIIII', 'IIIIIIIIIIIIIIIIIIXXIIIIIIIIIIIIIIIIIIIIIIIIIIIIII', 'IIIIIIIIIIIIIIIIIIYYIIIIIIIIIIIIIIIIIIIIIIIIIIIIII', 'IIIIIIIIIIIIIIIIIIZZIIIIIIIIIIIIIIIIIIIIIIIIIIIIII', 'IIIIIIIIIIIIIIIIXXIIIIIIIIIIIIIIIIIIIIIIIIIIIIIIII', 'IIIIIIIIIIIIIIIIYYIIIIIIIIIIIIIIIIIIIIIIIIIIIIIIII', 'IIIIIIIIIIIIIIIIZZIIIIIIIIIIIIIIIIIIIIIIIIIIIIIIII', 'IIIIIIIIIIIIIIXXIIIIIIIIIIIIIIIIIIIIIIIIIIIIIIIIII', 'IIIIIIIIIIIIIIYYIIIIIIIIIIIIIIIIIIIIIIIIIIIIIIIIII', 'IIIIIIIIIIIIIIZZIIIIIIIIIIIIIIIIIIIIIIIIIIIIIIIIII', 'IIIIIIIIIIIIXXIIIIIIIIIIIIIIIIIIIIIIIIIIIIIIIIIIII', 'IIIIIIIIIIIIYYIIIIIIIIIIIIIIIIIIIIIIIIIIIIIIIIIIII', 'IIIIIIIIIIIIZZIIIIIIIIIIIIIIIIIIIIIIIIIIIIIIIIIIII', 'IIIIIIIIIIXXIIIIIIIIIIIIIIIIIIIIIIIIIIIIIIIIIIIIII', 'IIIIIIIIIIYYIIIIIIIIIIIIIIIIIIIIIIIIIIIIIIIIIIIIII', 'IIIIIIIIIIZZIIIIIIIIIIIIIIIIIIIIIIIIIIIIIIIIIIIIII', 'IIIIIIIIXXIIIIIIIIIIIIIIIIIIIIIIIIIIIIIIIIIIIIIIII', 'IIIIIIIIYYIIIIIIIIIIIIIIIIIIIIIIIIIIIIIIIIIIIIIIII', 'IIIIIIIIZZIIIIIIIIIIIIIIIIIIIIIIIIIIIIIIIIIIIIIIII', 'IIIIIIXXIIIIIIIIIIIIIIIIIIIIIIIIIIIIIIIIIIIIIIIIII', 'IIIIIIYYIIIIIIIIIIIIIIIIIIIIIIIIIIIIIIIIIIIIIIIIII', 'IIIIIIZZIIIIIIIIIIIIIIIIIIIIIIIIIIIIIIIIIIIIIIIIII', 'IIIIXXIIIIIIIIIIIIIIIIIIIIIIIIIIIIIIIIIIIIIIIIIIII', 'IIIIYYIIIIIIIIIIIIIIIIIIIIIIIIIIIIIIIIIIIIIIIIIIII', 'IIIIZZIIIIIIIIIIIIIIIIIIIIIIIIIIIIIIIIIIIIIIIIIIII', 'IIXXIIIIIIIIIIIIIIIIIIIIIIIIIIIIIIIIIIIIIIIIIIIIII', 'IIYYIIIIIIIIIIIIIIIIIIIIIIIIIIIIIIIIIIIIIIIIIIIIII', 'IIZZIIIIIIIIIIIIIIIIIIIIIIIIIIIIIIIIIIIIIIIIIIIIII', 'XXIIIIIIIIIIIIIIIIIIIIIIIIIIIIIIIIIIIIIIIIIIIIIIII', 'YYIIIIIIIIIIIIIIIIIIIIIIIIIIIIIIIIIIIIIIIIIIIIIIII', 'ZZIIIIIIIIIIIIIIIIIIIIIIIIIIIIIIIIIIIIIIIIIIIIIIII', 'IIIIIIIIIIIIIIIIIIIIIIIIIIIIIIIIIIIIIIIIIIIIIIIXXI', 'IIIIIIIIIIIIIIIIIIIIIIIIIIIIIIIIIIIIIIIIIIIIIIIYYI', 'IIIIIIIIIIIIIIIIIIIIIIIIIIIIIIIIIIIIIIIIIIIIIIIZZI', 'IIIIIIIIIIIIIIIIIIIIIIIIIIIIIIIIIIIIIIIIIIIIIXXIII', 'IIIIIIIIIIIIIIIIIIIIIIIIIIIIIIIIIIIIIIIIIIIIIYYIII', 'IIIIIIIIIIIIIIIIIIIIIIIIIIIIIIIIIIIIIIIIIIIIIZZIII', 'IIIIIIIIIIIIIIIIIIIIIIIIIIIIIIIIIIIIIIIIIIIXXIIIII', 'IIIIIIIIIIIIIIIIIIIIIIIIIIIIIIIIIIIIIIIIIIIYYIIIII', 'IIIIIIIIIIIIIIIIIIIIIIIIIIIIIIIIIIIIIIIIIIIZZIIIII', 'IIIIIIIIIIIIIIIIIIIIIIIIIIIIIIIIIIIIIIIIIXXIIIIIII', 'IIIIIIIIIIIIIIIIIIIIIIIIIIIIIIIIIIIIIIIIIYYIIIIIII', 'IIIIIIIIIIIIIIIIIIIIIIIIIIIIIIIIIIIIIIIIIZZIIIIIII', 'IIIIIIIIIIIIIIIIIIIIIIIIIIIIIIIIIIIIIIIXXIIIIIIIII', 'IIIIIIIIIIIIIIIIIIIIIIIIIIIIIIIIIIIIIIIYYIIIIIIIII', 'IIIIIIIIIIIIIIIIIIIIIIIIIIIIIIIIIIIIIIIZZIIIIIIIII', 'IIIIIIIIIIIIIIIIIIIIIIIIIIIIIIIIIIIIIXXIIIIIIIIIII', 'IIIIIIIIIIIIIIIIIIIIIIIIIIIIIIIIIIIIIYYIIIIIIIIIII', 'IIIIIIIIIIIIIIIIIIIIIIIIIIIIIIIIIIIIIZZIIIIIIIIIII', 'IIIIIIIIIIIIIIIIIIIIIIIIIIIIIIIIIIIXXIIIIIIIIIIIII', 'IIIIIIIIIIIIIIIIIIIIIIIIIIIIIIIIIIIYYIIIIIIIIIIIII', 'IIIIIIIIIIIIIIIIIIIIIIIIIIIIIIIIIIIZZIIIIIIIIIIIII', 'IIIIIIIIIIIIIIIIIIIIIIIIIIIIIIIIIXXIIIIIIIIIIIIIII', 'IIIIIIIIIIIIIIIIIIIIIIIIIIIIIIIIIYYIIIIIIIIIIIIIII', 'IIIIIIIIIIIIIIIIIIIIIIIIIIIIIIIIIZZIIIIIIIIIIIIIII', 'IIIIIIIIIIIIIIIIIIIIIIIIIIIIIIIXXIIIIIIIIIIIIIIIII', 'IIIIIIIIIIIIIIIIIIIIIIIIIIIIIIIYYIIIIIIIIIIIIIIIII', 'IIIIIIIIIIIIIIIIIIIIIIIIIIIIIIIZZIIIIIIIIIIIIIIIII', 'IIIIIIIIIIIIIIIIIIIIIIIIIIIIIXXIIIIIIIIIIIIIIIIIII', 'IIIIIIIIIIIIIIIIIIIIIIIIIIIIIYYIIIIIIIIIIIIIIIIIII', 'IIIIIIIIIIIIIIIIIIIIIIIIIIIIIZZIIIIIIIIIIIIIIIIIII', 'IIIIIIIIIIIIIIIIIIIIIIIIIIIXXIIIIIIIIIIIIIIIIIIIII', 'IIIIIIIIIIIIIIIIIIIIIIIIIIIYYIIIIIIIIIIIIIIIIIIIII', 'IIIIIIIIIIIIIIIIIIIIIIIIIIIZZIIIIIIIIIIIIIIIIIIIII', 'IIIIIIIIIIIIIIIIIIIIIIIIIXXIIIIIIIIIIIIIIIIIIIIIII', 'IIIIIIIIIIIIIIIIIIIIIIIIIYYIIIIIIIIIIIIIIIIIIIIIII', 'IIIIIIIIIIIIIIIIIIIIIIIIIZZIIIIIIIIIIIIIIIIIIIIIII', 'IIIIIIIIIIIIIIIIIIIIIIIXXIIIIIIIIIIIIIIIIIIIIIIIII', 'IIIIIIIIIIIIIIIIIIIIIIIYYIIIIIIIIIIIIIIIIIIIIIIIII', 'IIIIIIIIIIIIIIIIIIIIIIIZZIIIIIIIIIIIIIIIIIIIIIIIII', 'IIIIIIIIIIIIIIIIIIIIIXXIIIIIIIIIIIIIIIIIIIIIIIIIII', 'IIIIIIIIIIIIIIIIIIIIIYYIIIIIIIIIIIIIIIIIIIIIIIIIII', 'IIIIIIIIIIIIIIIIIIIIIZZIIIIIIIIIIIIIIIIIIIIIIIIIII', 'IIIIIIIIIIIIIIIIIIIXXIIIIIIIIIIIIIIIIIIIIIIIIIIIII', 'IIIIIIIIIIIIIIIIIIIYYIIIIIIIIIIIIIIIIIIIIIIIIIIIII', 'IIIIIIIIIIIIIIIIIIIZZIIIIIIIIIIIIIIIIIIIIIIIIIIIII', 'IIIIIIIIIIIIIIIIIXXIIIIIIIIIIIIIIIIIIIIIIIIIIIIIII', 'IIIIIIIIIIIIIIIIIYYIIIIIIIIIIIIIIIIIIIIIIIIIIIIIII', 'IIIIIIIIIIIIIIIIIZZIIIIIIIIIIIIIIIIIIIIIIIIIIIIIII', 'IIIIIIIIIIIIIIIXXIIIIIIIIIIIIIIIIIIIIIIIIIIIIIIIII', 'IIIIIIIIIIIIIIIYYIIIIIIIIIIIIIIIIIIIIIIIIIIIIIIIII', 'IIIIIIIIIIIIIIIZZIIIIIIIIIIIIIIIIIIIIIIIIIIIIIIIII', 'IIIIIIIIIIIIIXXIIIIIIIIIIIIIIIIIIIIIIIIIIIIIIIIIII', 'IIIIIIIIIIIIIYYIIIIIIIIIIIIIIIIIIIIIIIIIIIIIIIIIII', 'IIIIIIIIIIIIIZZIIIIIIIIIIIIIIIIIIIIIIIIIIIIIIIIIII', 'IIIIIIIIIIIXXIIIIIIIIIIIIIIIIIIIIIIIIIIIIIIIIIIIII', 'IIIIIIIIIIIYYIIIIIIIIIIIIIIIIIIIIIIIIIIIIIIIIIIIII', 'IIIIIIIIIIIZZIIIIIIIIIIIIIIIIIIIIIIIIIIIIIIIIIIIII', 'IIIIIIIIIXXIIIIIIIIIIIIIIIIIIIIIIIIIIIIIIIIIIIIIII', 'IIIIIIIIIYYIIIIIIIIIIIIIIIIIIIIIIIIIIIIIIIIIIIIIII', 'IIIIIIIIIZZIIIIIIIIIIIIIIIIIIIIIIIIIIIIIIIIIIIIIII', 'IIIIIIIXXIIIIIIIIIIIIIIIIIIIIIIIIIIIIIIIIIIIIIIIII', 'IIIIIIIYYIIIIIIIIIIIIIIIIIIIIIIIIIIIIIIIIIIIIIIIII', 'IIIIIIIZZIIIIIIIIIIIIIIIIIIIIIIIIIIIIIIIIIIIIIIIII', 'IIIIIXXIIIIIIIIIIIIIIIIIIIIIIIIIIIIIIIIIIIIIIIIIII', 'IIIIIYYIIIIIIIIIIIIIIIIIIIIIIIIIIIIIIIIIIIIIIIIIII', 'IIIIIZZIIIIIIIIIIIIIIIIIIIIIIIIIIIIIIIIIIIIIIIIIII', 'IIIXXIIIIIIIIIIIIIIIIIIIIIIIIIIIIIIIIIIIIIIIIIIIII', 'IIIYYIIIIIIIIIIIIIIIIIIIIIIIIIIIIIIIIIIIIIIIIIIIII', 'IIIZZIIIIIIIIIIIIIIIIIIIIIIIIIIIIIIIIIIIIIIIIIIIII', 'IXXIIIIIIIIIIIIIIIIIIIIIIIIIIIIIIIIIIIIIIIIIIIIIII', 'IYYIIIIIIIIIIIIIIIIIIIIIIIIIIIIIIIIIIIIIIIIIIIIIII', 'IZZIIIIIIIIIIIIIIIIIIIIIIIIIIIIIIIIIIIIIIIIIIIIIII'],\n",
      "              coeffs=[1.        +0.j, 2.09762701+0.j, 2.09762701+0.j, 4.19525402+0.j,\n",
      " 2.43037873+0.j, 2.43037873+0.j, 4.86075747+0.j, 2.20552675+0.j,\n",
      " 2.20552675+0.j, 4.4110535 +0.j, 2.08976637+0.j, 2.08976637+0.j,\n",
      " 4.17953273+0.j, 1.8473096 +0.j, 1.8473096 +0.j, 3.6946192 +0.j,\n",
      " 2.29178823+0.j, 2.29178823+0.j, 4.58357645+0.j, 1.87517442+0.j,\n",
      " 1.87517442+0.j, 3.75034885+0.j, 2.783546  +0.j, 2.783546  +0.j,\n",
      " 5.567092  +0.j, 2.92732552+0.j, 2.92732552+0.j, 5.85465104+0.j,\n",
      " 1.76688304+0.j, 1.76688304+0.j, 3.53376608+0.j, 2.58345008+0.j,\n",
      " 2.58345008+0.j, 5.16690015+0.j, 2.05778984+0.j, 2.05778984+0.j,\n",
      " 4.11557968+0.j, 2.13608912+0.j, 2.13608912+0.j, 4.27217824+0.j,\n",
      " 2.85119328+0.j, 2.85119328+0.j, 5.70238655+0.j, 1.14207212+0.j,\n",
      " 1.14207212+0.j, 2.28414423+0.j, 1.1742586 +0.j, 1.1742586 +0.j,\n",
      " 2.3485172 +0.j, 1.04043679+0.j, 1.04043679+0.j, 2.08087359+0.j,\n",
      " 2.66523969+0.j, 2.66523969+0.j, 5.33047938+0.j, 2.5563135 +0.j,\n",
      " 2.5563135 +0.j, 5.112627  +0.j, 2.7400243 +0.j, 2.7400243 +0.j,\n",
      " 5.48004859+0.j, 2.95723668+0.j, 2.95723668+0.j, 5.91447337+0.j,\n",
      " 2.59831713+0.j, 2.59831713+0.j, 5.19663426+0.j, 1.92295872+0.j,\n",
      " 1.92295872+0.j, 3.84591745+0.j, 2.56105835+0.j, 2.56105835+0.j,\n",
      " 5.12211671+0.j, 1.23654885+0.j, 1.23654885+0.j, 2.4730977 +0.j,\n",
      " 2.27984204+0.j, 2.27984204+0.j, 4.55968409+0.j, 1.28670657+0.j,\n",
      " 1.28670657+0.j, 2.57341315+0.j, 2.88933783+0.j, 2.88933783+0.j,\n",
      " 5.77867567+0.j, 2.04369664+0.j, 2.04369664+0.j, 4.08739329+0.j,\n",
      " 1.82932388+0.j, 1.82932388+0.j, 3.65864776+0.j, 1.52911122+0.j,\n",
      " 1.52911122+0.j, 3.05822245+0.j, 2.54846738+0.j, 2.54846738+0.j,\n",
      " 5.09693476+0.j, 1.91230066+0.j, 1.91230066+0.j, 3.82460133+0.j,\n",
      " 2.1368679 +0.j, 2.1368679 +0.j, 4.2737358 +0.j, 1.0375796 +0.j,\n",
      " 1.0375796 +0.j, 2.0751592 +0.j, 2.23527099+0.j, 2.23527099+0.j,\n",
      " 4.47054199+0.j, 2.22419145+0.j, 2.22419145+0.j, 4.44838289+0.j,\n",
      " 2.23386799+0.j, 2.23386799+0.j, 4.46773599+0.j, 2.88749616+0.j,\n",
      " 2.88749616+0.j, 5.77499231+0.j, 2.3636406 +0.j, 2.3636406 +0.j,\n",
      " 4.7272812 +0.j, 1.7190158 +0.j, 1.7190158 +0.j, 3.4380316 +0.j,\n",
      " 1.87406391+0.j, 1.87406391+0.j, 3.74812782+0.j, 2.39526239+0.j,\n",
      " 2.39526239+0.j, 4.79052478+0.j, 1.12045094+0.j, 1.12045094+0.j,\n",
      " 2.24090189+0.j, 2.33353343+0.j, 2.33353343+0.j, 4.66706686+0.j,\n",
      " 2.34127574+0.j, 2.34127574+0.j, 4.68255148+0.j, 1.42076512+0.j,\n",
      " 1.42076512+0.j, 2.84153024+0.j, 1.2578526 +0.j, 1.2578526 +0.j,\n",
      " 2.51570519+0.j, 1.6308567 +0.j, 1.6308567 +0.j, 3.2617134 +0.j])\n"
     ]
    }
   ],
   "source": [
    "import numpy as np\n",
    "from qiskit.quantum_info import SparsePauliOp, Pauli\n",
    "\n",
    "\n",
    "# Generate random coefficients for our XXZ Hamiltonian\n",
    "np.random.seed(0)\n",
    "even_edges = list(coupling_map.get_edges())[::2]\n",
    "odd_edges = list(coupling_map.get_edges())[1::2]\n",
    "\n",
    "Js = np.random.uniform(0.5, 1.5, size=L)\n",
    "hamiltonian = SparsePauliOp(Pauli(\"I\" * L))\n",
    "for i, edge in enumerate(even_edges + odd_edges):\n",
    "    hamiltonian += SparsePauliOp.from_sparse_list(\n",
    "        [\n",
    "            (\"XX\", (edge), 2 * Js[i]),\n",
    "            (\"YY\", (edge), 2 * Js[i]),\n",
    "            (\"ZZ\", (edge), 4 * Js[i]),\n",
    "        ],\n",
    "        num_qubits=L,\n",
    "    )\n",
    "\n",
    "print(hamiltonian)"
   ]
  },
  {
   "cell_type": "markdown",
   "id": "5f87dc5d",
   "metadata": {},
   "source": [
    "For an observable we choose $Z_{24}Z_{25}$, as seen in the lower panel Fig. 5 of Ref. [\\[3\\]](#references)."
   ]
  },
  {
   "cell_type": "code",
   "execution_count": 35,
   "id": "3bb3c684",
   "metadata": {},
   "outputs": [
    {
     "name": "stdout",
     "output_type": "stream",
     "text": [
      "SparsePauliOp(['IIIIIIIIIIIIIIIIIIIIIIIIZZIIIIIIIIIIIIIIIIIIIIIIII'],\n",
      "              coeffs=[1.+0.j])\n"
     ]
    }
   ],
   "source": [
    "observable = SparsePauliOp.from_sparse_list(\n",
    "    [(\"ZZ\", (L // 2 - 1, L // 2), 1.0)], num_qubits=L\n",
    ")\n",
    "print(observable)"
   ]
  },
  {
   "cell_type": "markdown",
   "id": "8a0fb376",
   "metadata": {},
   "source": [
    "#### Choose Trotter steps\n",
    "The experiment showcased in Fig. 4 of Ref. [\\[3\\]](#references) uses $k_j = [2, 3, 4]$ symmetric Trotter steps of order $2$. We focus on the results for time $t=3$, where the MPF and a PF with a higher number of Trotter steps (6 in this case) have the same Trotter error. However, the MPF expectation value is calculated from circuits corresponding to the lower number of Trotter steps and thus shallower. In practice, even if the MPF and the deeper Trotter steps circuit have the same Trotter error, we expect the experimental expectation value calculated from the MPF circuits to be closer to the theory one, as it entails running shallower circuits less exposed to hardware noise compared to the circuit corresponding to the higher Trotter step PF."
   ]
  },
  {
   "cell_type": "code",
   "execution_count": 36,
   "id": "06e08219",
   "metadata": {},
   "outputs": [],
   "source": [
    "total_time = 3\n",
    "mpf_trotter_steps = [2, 3, 4]\n",
    "order = 2\n",
    "symmetric = True"
   ]
  },
  {
   "cell_type": "markdown",
   "id": "85ea15da",
   "metadata": {},
   "source": [
    "#### Set up the LSE\n",
    "Here we look at the static MPF coefficients for this problem."
   ]
  },
  {
   "cell_type": "code",
   "execution_count": 37,
   "id": "7fee3d13",
   "metadata": {},
   "outputs": [
    {
     "name": "stdout",
     "output_type": "stream",
     "text": [
      "The static coefficients associated with the ansatze are: [ 0.26666667 -2.31428571  3.04761905]\n",
      "L1 norm: 5.628571428571431\n"
     ]
    }
   ],
   "source": [
    "lse = setup_static_lse(mpf_trotter_steps, order=order, symmetric=symmetric)\n",
    "mpf_coeffs = lse.solve()\n",
    "print(\n",
    "    f\"The static coefficients associated with the ansatze are: {mpf_coeffs}\"\n",
    ")\n",
    "print(\"L1 norm:\", np.linalg.norm(mpf_coeffs, ord=1))"
   ]
  },
  {
   "cell_type": "code",
   "execution_count": 38,
   "id": "7ee6bdf3",
   "metadata": {},
   "outputs": [
    {
     "name": "stdout",
     "output_type": "stream",
     "text": [
      "[-0.24255546 -0.25744454  1.5       ]\n",
      "L1 norm of the approximate coefficients: 2.0\n"
     ]
    }
   ],
   "source": [
    "model_approx, coeffs_approx = setup_sum_of_squares_problem(\n",
    "    lse, max_l1_norm=2.0\n",
    ")\n",
    "model_approx.solve()\n",
    "print(coeffs_approx.value)\n",
    "print(\n",
    "    \"L1 norm of the approximate coefficients:\",\n",
    "    np.linalg.norm(coeffs_approx.value, ord=1),\n",
    ")"
   ]
  },
  {
   "cell_type": "markdown",
   "id": "87262bc4",
   "metadata": {},
   "source": [
    "#### Dynamic coefficients"
   ]
  },
  {
   "cell_type": "code",
   "execution_count": null,
   "id": "b2fec4a5",
   "metadata": {},
   "outputs": [
    {
     "name": "stdout",
     "output_type": "stream",
     "text": [
      "\n"
     ]
    }
   ],
   "source": [
    "# Create approximate time-evolution circuits\n",
    "single_2nd_order_circ = generate_time_evolution_circuit(\n",
    "    hamiltonian, time=1.0, synthesis=SuzukiTrotter(reps=1, order=order)\n",
    ")\n",
    "single_2nd_order_circ = pm.run(single_2nd_order_circ)  # collect XX and YY\n",
    "\n",
    "# Find layers in the circuit\n",
    "layers = slice_by_depth(single_2nd_order_circ, max_slice_depth=1)\n",
    "\n",
    "# Create tensor network models\n",
    "models = [\n",
    "    LayerModel.from_quantum_circuit(layer, conserve=\"Sz\") for layer in layers\n",
    "]\n",
    "\n",
    "# Create the time-evolution object\n",
    "approx_factory = partial(\n",
    "    LayerwiseEvolver,\n",
    "    layers=models,\n",
    "    options={\n",
    "        \"preserve_norm\": False,\n",
    "        \"trunc_params\": {\n",
    "            \"chi_max\": 64,\n",
    "            \"svd_min\": 1e-8,\n",
    "            \"trunc_cut\": None,\n",
    "        },\n",
    "        \"max_delta_t\": 4,\n",
    "    },\n",
    ")\n",
    "\n",
    "# Create exact time-evolution circuits\n",
    "single_4th_order_circ = generate_time_evolution_circuit(\n",
    "    hamiltonian, time=1.0, synthesis=SuzukiTrotter(reps=1, order=4)\n",
    ")\n",
    "single_4th_order_circ = pm.run(single_4th_order_circ)\n",
    "exact_model_layers = [\n",
    "    LayerModel.from_quantum_circuit(layer, conserve=\"Sz\")\n",
    "    for layer in slice_by_depth(single_4th_order_circ, max_slice_depth=1)\n",
    "]\n",
    "\n",
    "# Create the time-evolution object\n",
    "exact_factory = partial(\n",
    "    LayerwiseEvolver,\n",
    "    layers=exact_model_layers,\n",
    "    dt=0.1,\n",
    "    options={\n",
    "        \"preserve_norm\": False,\n",
    "        \"trunc_params\": {\n",
    "            \"chi_max\": 64,\n",
    "            \"svd_min\": 1e-8,\n",
    "            \"trunc_cut\": None,\n",
    "        },\n",
    "        \"max_delta_t\": 3,\n",
    "    },\n",
    ")\n",
    "\n",
    "\n",
    "def identity_factory():\n",
    "    return MPOState.initialize_from_lattice(models[0].lat, conserve=True)\n",
    "\n",
    "\n",
    "mps_initial_state = MPS_neel_state(models[0].lat)\n",
    "\n",
    "\n",
    "lse = setup_dynamic_lse(\n",
    "    mpf_trotter_steps,\n",
    "    total_time,\n",
    "    identity_factory,\n",
    "    exact_factory,\n",
    "    approx_factory,\n",
    "    mps_initial_state,\n",
    ")\n",
    "problem, coeffs = setup_frobenius_problem(lse)\n",
    "try:\n",
    "    problem.solve()\n",
    "    mpf_dynamic_coeffs = coeffs.value\n",
    "except Exception as error:\n",
    "    print(error, \"Calculation Failed for time\", total_time)\n",
    "print(\"\")"
   ]
  },
  {
   "cell_type": "markdown",
   "id": "43829572",
   "metadata": {},
   "source": [
    "#### Construct each of the Trotter circuits in our MPF decomposition"
   ]
  },
  {
   "cell_type": "code",
   "execution_count": 41,
   "id": "b79c5547",
   "metadata": {},
   "outputs": [],
   "source": [
    "from qiskit.synthesis import SuzukiTrotter\n",
    "from qiskit_addon_utils.problem_generators import (\n",
    "    generate_time_evolution_circuit,\n",
    ")\n",
    "from qiskit import QuantumCircuit\n",
    "\n",
    "\n",
    "mpf_circuits = []\n",
    "for k in mpf_trotter_steps:\n",
    "    # Initial state preparation |1010..>\n",
    "    circuit = QuantumCircuit(L)\n",
    "    circuit.x([i for i in range(L) if i % 2])\n",
    "\n",
    "    trotter_circ = generate_time_evolution_circuit(\n",
    "        hamiltonian,\n",
    "        synthesis=SuzukiTrotter(reps=k, order=order),\n",
    "        time=total_time,\n",
    "    )\n",
    "\n",
    "    circuit.compose(trotter_circ, qubits=range(L), inplace=True)\n",
    "\n",
    "    mpf_circuits.append(circuit)"
   ]
  },
  {
   "cell_type": "markdown",
   "id": "ffd915d7",
   "metadata": {},
   "source": [
    "#### Construct Trotter circuit with comparable Trotter error to MPF"
   ]
  },
  {
   "cell_type": "code",
   "execution_count": 42,
   "id": "b22143ff",
   "metadata": {},
   "outputs": [],
   "source": [
    "k = 6\n",
    "\n",
    "# Initial state preparation |1010..>\n",
    "comp_circuit = QuantumCircuit(L)\n",
    "comp_circuit.x([i for i in range(L) if i % 2])\n",
    "\n",
    "\n",
    "trotter_circ = generate_time_evolution_circuit(\n",
    "    hamiltonian,\n",
    "    synthesis=SuzukiTrotter(reps=k, order=order),\n",
    "    time=total_time,\n",
    ")\n",
    "\n",
    "comp_circuit.compose(trotter_circ, qubits=range(L), inplace=True)\n",
    "\n",
    "\n",
    "mpf_circuits.append(comp_circuit)"
   ]
  },
  {
   "cell_type": "markdown",
   "id": "25f03e39",
   "metadata": {},
   "source": [
    "### Step 2: Optimize problem for quantum hardware execution"
   ]
  },
  {
   "cell_type": "code",
   "execution_count": null,
   "id": "00b29fa6",
   "metadata": {},
   "outputs": [
    {
     "name": "stdout",
     "output_type": "stream",
     "text": [
      "size of largest component 73\n"
     ]
    }
   ],
   "source": [
    "import copy\n",
    "from qiskit.transpiler import Target, CouplingMap\n",
    "\n",
    "target = backend.target\n",
    "instruction_2q = \"cz\"\n",
    "\n",
    "cmap = target.build_coupling_map(filter_idle_qubits=True)\n",
    "cmap_list = list(cmap.get_edges())\n",
    "\n",
    "max_meas_err = 0.055\n",
    "min_t2 = 30\n",
    "max_twoq_err = 0.01\n",
    "\n",
    "# Remove qubits with bad measurement or t2\n",
    "cust_cmap_list = copy.deepcopy(cmap_list)\n",
    "for q in range(target.num_qubits):\n",
    "    meas_err = target[\"measure\"][(q,)].error\n",
    "    if target.qubit_properties[q].t2 is not None:\n",
    "        t2 = target.qubit_properties[q].t2 * 1e6\n",
    "    else:\n",
    "        t2 = 0\n",
    "    if meas_err > max_meas_err or t2 < min_t2:\n",
    "        # print(q)\n",
    "        for q_pair in cmap_list:\n",
    "            if q in q_pair:\n",
    "                try:\n",
    "                    cust_cmap_list.remove(q_pair)\n",
    "                except ValueError:\n",
    "                    continue\n",
    "\n",
    "# Remove qubits with bad 2q gate or t2\n",
    "for q in cmap_list:\n",
    "    twoq_gate_err = target[instruction_2q][q].error\n",
    "    if twoq_gate_err > max_twoq_err:\n",
    "        # print(q)\n",
    "        for q_pair in cmap_list:\n",
    "            if q == q_pair:\n",
    "                try:\n",
    "                    cust_cmap_list.remove(q_pair)\n",
    "                except ValueError:\n",
    "                    continue\n",
    "\n",
    "\n",
    "cust_cmap = CouplingMap(cust_cmap_list)\n",
    "\n",
    "cust_target = Target.from_configuration(\n",
    "    basis_gates=backend.configuration().basis_gates\n",
    "    + [\"measure\"],  # or whatever new set of gates\n",
    "    coupling_map=cust_cmap,\n",
    ")\n",
    "\n",
    "sorted_components = sorted(\n",
    "    [list(comp.physical_qubits) for comp in cust_cmap.connected_components()],\n",
    "    reverse=True,\n",
    ")\n",
    "print(\"size of largest component\", len(sorted_components[0]))"
   ]
  },
  {
   "cell_type": "code",
   "execution_count": 104,
   "id": "3caa3939",
   "metadata": {},
   "outputs": [],
   "source": [
    "from qiskit.transpiler.preset_passmanagers import generate_preset_pass_manager\n",
    "\n",
    "transpiler = generate_preset_pass_manager(\n",
    "    optimization_level=3, target=cust_target\n",
    ")\n",
    "\n",
    "transpiled_circuits = [transpiler.run(circ) for circ in mpf_circuits]\n",
    "\n",
    "qubits_layouts = [\n",
    "    [\n",
    "        idx\n",
    "        for idx, qb in circuit.layout.initial_layout.get_physical_bits().items()\n",
    "        if qb._register.name != \"ancilla\"\n",
    "    ]\n",
    "    for circuit in transpiled_circuits\n",
    "]\n",
    "\n",
    "transpiled_circuits = []\n",
    "for circuit, layout in zip(mpf_circuits, qubits_layouts):\n",
    "    transpiler = generate_preset_pass_manager(\n",
    "        optimization_level=3, backend=backend, initial_layout=layout\n",
    "    )\n",
    "    transpiled_circuit = transpiler.run(circuit)\n",
    "    transpiled_circuits.append(transpiled_circuit)\n",
    "\n",
    "\n",
    "# transform the observable defined on virtual qubits to\n",
    "# an observable defined on all physical qubits\n",
    "isa_observables = [\n",
    "    observable.apply_layout(circ.layout) for circ in transpiled_circuits\n",
    "]"
   ]
  },
  {
   "cell_type": "markdown",
   "id": "1a983973",
   "metadata": {},
   "source": [
    "### Step 3: Execute using Qiskit primitives"
   ]
  },
  {
   "cell_type": "code",
   "execution_count": null,
   "id": "83883725",
   "metadata": {},
   "outputs": [],
   "source": [
    "from qiskit_ibm_runtime import EstimatorV2 as Estimator\n",
    "\n",
    "estimator = Estimator(mode=backend)\n",
    "estimator.options.default_shots = 30000\n",
    "\n",
    "# Set simple error suppression/mitigation options\n",
    "estimator.options.dynamical_decoupling.enable = True\n",
    "estimator.options.twirling.enable_gates = True\n",
    "estimator.options.twirling.enable_measure = True\n",
    "estimator.options.twirling.num_randomizations = \"auto\"\n",
    "estimator.options.twirling.strategy = \"active-accum\"\n",
    "estimator.options.resilience.measure_mitigation = True\n",
    "estimator.options.experimental.execution_path = \"gen3-turbo\"\n",
    "\n",
    "estimator.options.resilience.zne_mitigation = True\n",
    "estimator.options.resilience.zne.noise_factors = (1, 1.2, 1.4)\n",
    "estimator.options.resilience.zne.extrapolator = \"linear\"\n",
    "\n",
    "estimator.options.environment.job_tags = [\"mpf large\"]\n",
    "\n",
    "job_50 = estimator.run(\n",
    "    [\n",
    "        (circ, observable)\n",
    "        for circ, observable in zip(transpiled_circuits, isa_observables)\n",
    "    ]\n",
    ")"
   ]
  },
  {
   "cell_type": "markdown",
   "id": "0fee3da4",
   "metadata": {},
   "source": [
    "### Step 4: Post-process and return result in desired classical format"
   ]
  },
  {
   "cell_type": "code",
   "execution_count": 46,
   "id": "5d2fc41c",
   "metadata": {},
   "outputs": [
    {
     "name": "stdout",
     "output_type": "stream",
     "text": [
      "[array(-0.08034071), array(-0.00605026), array(-0.15345759), array(-0.18127293)]\n",
      "[array(0.04482517), array(0.03438413), array(0.21540776), array(0.21520829)]\n"
     ]
    }
   ],
   "source": [
    "result = job_50.result()\n",
    "evs = [res.data.evs for res in result]\n",
    "std = [res.data.stds for res in result]\n",
    "\n",
    "print(evs)\n",
    "print(std)"
   ]
  },
  {
   "cell_type": "code",
   "execution_count": 52,
   "id": "bff48c28",
   "metadata": {},
   "outputs": [
    {
     "name": "stdout",
     "output_type": "stream",
     "text": [
      "Exact static MPF expectation value:  -0.47510243192011536 +- 0.6613940032465087\n",
      "Approximate static MPF expectation value:  -0.20914170384216998 +- 0.32341567460419135\n",
      "Dynamic MPF expectation value:  -0.07994951978722761 +- 0.07423091963310202\n"
     ]
    }
   ],
   "source": [
    "exact_mpf_std = np.sqrt(\n",
    "    sum([(coeff**2) * (std**2) for coeff, std in zip(mpf_coeffs, std[:3])])\n",
    ")\n",
    "print(\n",
    "    \"Exact static MPF expectation value: \",\n",
    "    evs[:3] @ mpf_coeffs,\n",
    "    \"+-\",\n",
    "    exact_mpf_std,\n",
    ")\n",
    "approx_mpf_std = np.sqrt(\n",
    "    sum(\n",
    "        [\n",
    "            (coeff**2) * (std**2)\n",
    "            for coeff, std in zip(coeffs_approx.value, std[:3])\n",
    "        ]\n",
    "    )\n",
    ")\n",
    "print(\n",
    "    \"Approximate static MPF expectation value: \",\n",
    "    evs[:3] @ coeffs_approx.value,\n",
    "    \"+-\",\n",
    "    approx_mpf_std,\n",
    ")\n",
    "dynamic_mpf_std = np.sqrt(\n",
    "    sum(\n",
    "        [\n",
    "            (coeff**2) * (std**2)\n",
    "            for coeff, std in zip(mpf_dynamic_coeffs, std[:3])\n",
    "        ]\n",
    "    )\n",
    ")\n",
    "print(\n",
    "    \"Dynamic MPF expectation value: \",\n",
    "    evs[:3] @ mpf_dynamic_coeffs,\n",
    "    \"+-\",\n",
    "    dynamic_mpf_std,\n",
    ")"
   ]
  },
  {
   "cell_type": "code",
   "execution_count": null,
   "id": "d751af7c",
   "metadata": {},
   "outputs": [
    {
     "data": {
      "text/plain": [
       "<Image src=\"/docs/images/tutorials/multi-product-formula/extracted-outputs/d751af7c-0.avif\" alt=\"Output of the previous code cell\" />"
      ]
     },
     "metadata": {},
     "output_type": "display_data"
    }
   ],
   "source": [
    "sym = {2: \"^\", 3: \"s\", 4: \"p\"}\n",
    "# Get expectation values at all times for each Trotter step\n",
    "for k, step in enumerate(mpf_trotter_steps):\n",
    "    plt.errorbar(\n",
    "        k,\n",
    "        evs[k],\n",
    "        yerr=std[k],\n",
    "        alpha=0.5,\n",
    "        markersize=4,\n",
    "        marker=sym[step],\n",
    "        color=\"grey\",\n",
    "        label=f\"{mpf_trotter_steps[k]} Trotter steps\",\n",
    "    )\n",
    "\n",
    "\n",
    "plt.errorbar(\n",
    "    3,\n",
    "    evs[-1],\n",
    "    yerr=std[-1],\n",
    "    alpha=0.5,\n",
    "    markersize=8,\n",
    "    marker=\"x\",\n",
    "    color=\"blue\",\n",
    "    label=\"6 Trotter steps\",\n",
    ")\n",
    "\n",
    "\n",
    "plt.errorbar(\n",
    "    4,\n",
    "    evs[:3] @ mpf_coeffs,\n",
    "    yerr=exact_mpf_std,\n",
    "    markersize=4,\n",
    "    marker=\"o\",\n",
    "    color=\"purple\",\n",
    "    label=\"Static MPF\",\n",
    ")\n",
    "\n",
    "plt.errorbar(\n",
    "    5,\n",
    "    evs[:3] @ coeffs_approx.value,\n",
    "    yerr=approx_mpf_std,\n",
    "    markersize=4,\n",
    "    marker=\"o\",\n",
    "    color=\"orange\",\n",
    "    label=\"Approximate static MPF\",\n",
    ")\n",
    "\n",
    "plt.errorbar(\n",
    "    6,\n",
    "    evs[:3] @ mpf_dynamic_coeffs,\n",
    "    yerr=dynamic_mpf_std,\n",
    "    markersize=4,\n",
    "    marker=\"o\",\n",
    "    color=\"pink\",\n",
    "    label=\"Dynamic MPF\",\n",
    ")\n",
    "\n",
    "exact_obs = -0.24384471447172074  # Calculated via Tensor Network calculation\n",
    "plt.axhline(\n",
    "    y=exact_obs, linestyle=\"--\", color=\"red\", label=\"Exact time-evolution\"\n",
    ")\n",
    "\n",
    "\n",
    "plt.title(\n",
    "    f\"Expectation values for (ZZ,{(L//2-1, L//2)}) at time {total_time} for the different methods \"\n",
    ")\n",
    "plt.xlabel(\"Method\")\n",
    "plt.ylabel(\"Expectation Value\")\n",
    "plt.legend(loc=\"upper center\", bbox_to_anchor=(0.5, -0.2), ncol=2)\n",
    "plt.grid(alpha=0.1)\n",
    "plt.tight_layout()\n",
    "plt.show()"
   ]
  },
  {
   "cell_type": "markdown",
   "id": "04200168",
   "metadata": {},
   "source": [
    "When executing circuits on hardware, we might encounter additional challenges in obtaining accurate expectation values due to the presence of hardware noise. This is not accounted for in the MPF formalism and could play against the MPF solution. For example, this could be the reason for the failure of the dynamic coefficients to provide a better estimate of the expectation value compared to the approximate static coefficient in the plot. That is, the approximate evolver, which simulates the approximate circuit, does not accurately reflect the results obtained by executing the approximate circuits in the presence of hardware noise. For these reasons, it is recommended to combine different error mitigation techniques in order to get results as close as possible to the ideal values for each of the product formulas. This will show consistent benefits from the MPF approach.\n",
    "\n",
    "Overall, the approximate static coefficients still give a more accurate solution than the product formula with higher number of Trotter steps with the same amount of Trotter error in the noiseless setting.\n",
    "\n",
    "It is also important to note that in the example that reproduces the experiment in Ref. [\\[3\\]](#references), the time point $t=3$ is beyond the limit at which it is expected that the PF with $k=2$ behaves well, which is $t/k>1$ as discussed in this [guide.](https://qiskit.github.io/qiskit-addon-mpf/how_tos/choose_trotter_steps.html)"
   ]
  },
  {
   "cell_type": "markdown",
   "id": "78e91ddc",
   "metadata": {},
   "source": [
    "## References\n",
    "\n",
    "[1] [Vazquez, A. C., Egger, D. J., Ochsner, D., & Woerner, S. (2023). Well-conditioned multi-product formulas for hardware-friendly Hamiltonian simulation. Quantum, 7, 1067.](https://quantum-journal.org/papers/q-2023-07-25-1067/)\n",
    "\n",
    "[2] [Zhuk, S., Robertson, N. F., & Bravyi, S. (2024). Trotter error bounds and dynamic multi-product formulas for Hamiltonian simulation. Physical Review Research, 6(3), 033309.](https://journals.aps.org/prresearch/abstract/10.1103/PhysRevResearch.6.033309)\n",
    "\n",
    "[3] [Robertson, N. F., et al. (2024). Tensor network enhanced dynamic multiproduct formulas. arXiv preprint arXiv:2407.17405.](https://arxiv.org/abs/2407.17405)"
   ]
  }
 ],
 "metadata": {
  "description": "Multi-product formulas can be used in observable estimation to reduce Trotter error or to implement time-evolution with fixed Trotter error in lower depth.",
  "kernelspec": {
   "display_name": "Python 3",
   "language": "python",
   "name": "python3"
  },
  "language_info": {
   "codemirror_mode": {
    "name": "ipython",
    "version": 3
   },
   "file_extension": ".py",
   "mimetype": "text/x-python",
   "name": "python",
   "nbconvert_exporter": "python",
   "pygments_lexer": "ipython3",
   "version": "3"
  },
  "title": "Multi-product formulas to reduce Trotter error"
 },
 "nbformat": 4,
 "nbformat_minor": 5
}
