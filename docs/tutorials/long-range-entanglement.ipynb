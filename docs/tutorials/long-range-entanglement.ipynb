{
 "cells": [
  {
   "cell_type": "markdown",
   "id": "ba4719fa",
   "metadata": {
    "heading_collapsed": true,
    "slideshow": {
     "slide_type": "slide"
    }
   },
   "source": [
    "{/* cspell:ignore XIXI, IZIZ, XZXZ, YZYI, ZZZI, YIYZ, ZIZZ, IXXX, XYIY, IYXY, ZYYX, YYZX, ZXYY, YXZY, quasidistillation */}\n",
    "\n",
    "# Long-range entanglement with dynamic circuits\n",
    "*Usage estimate: 16 seconds on ibm_pittsburgh (NOTE: This is an estimate only. Your runtime might vary.)*"
   ]
  },
  {
   "cell_type": "markdown",
   "id": "619fd9f9",
   "metadata": {},
   "source": [
    "## Background\n",
    "Long-range entanglement between distant qubits on a quantum processor can be a challenging task for devices with limited qubit connectivity. This tutorial shows three different ways that can be used to generate long-range entanglement between qubits on a line, at varying distances between each other:\n",
    "- a unitary-based implementation, which uses SWAP operations to reduce the distance between distant qubits and entangle them directly,\n",
    "- a measurement-based implementation with dynamic circuits, which uses measurement and feedforward of information during the quantum computation to entangle the qubits.\n",
    "In particular, the results show the effectiveness of dynamic circuits in generating long-range entanglement between two unconnected qubits at utility scales.\n",
    "The tutorial uses the ideas and results from [1] by Elisa Bäumer et al."
   ]
  },
  {
   "cell_type": "markdown",
   "id": "1f0b8be3",
   "metadata": {},
   "source": [
    "## Requirements\n",
    "\n",
    "Before starting this tutorial, ensure that you have the following installed:\n",
    "\n",
    "- Qiskit SDK 2.0 or later, with visualization support ( `pip install 'qiskit[visualization]'` )\n",
    "- Qiskit Runtime ( `pip install qiskit-ibm-runtime` ) 0.37 or later"
   ]
  },
  {
   "cell_type": "markdown",
   "id": "6f0c85a6-8b59-4543-8e9f-788eaeef886a",
   "metadata": {
    "hidden": true
   },
   "source": [
    "## Setup"
   ]
  },
  {
   "cell_type": "code",
   "execution_count": 1,
   "id": "9d02f8a1-3069-4507-91ed-73b7f6610f39",
   "metadata": {
    "hidden": true
   },
   "outputs": [],
   "source": [
    "import random\n",
    "from typing import List, Optional\n",
    "\n",
    "import matplotlib.pyplot as plt\n",
    "import numpy as np\n",
    "\n",
    "from qiskit import QuantumCircuit, QuantumRegister, ClassicalRegister\n",
    "from qiskit.circuit import IfElseOp\n",
    "from qiskit.circuit.classical import expr\n",
    "from qiskit.primitives import BitArray\n",
    "from qiskit.transpiler import CouplingMap\n",
    "from qiskit.transpiler.preset_passmanagers import generate_preset_pass_manager\n",
    "from qiskit_ibm_runtime import SamplerV2 as Sampler\n",
    "from qiskit_ibm_runtime import QiskitRuntimeService\n",
    "from qiskit_ibm_runtime.transpiler.passes.scheduling import (\n",
    "    DynamicCircuitInstructionDurations,\n",
    ")"
   ]
  },
  {
   "cell_type": "markdown",
   "id": "c75dbecb-c273-4955-991e-557f9b5a41df",
   "metadata": {
    "hidden": true
   },
   "source": [
    "## Step 1: Map classical inputs to a quantum problem\n",
    "\n",
    "In this tutorial you will run a gate teleportation circuit in three different setups, where you always assume a line of n qubits (for varying n with n-2 empty ancillas in the middle and a CNOT to apply between the two ends):\n",
    "\n",
    "- Unitary-based implementation swapping the qubits to the middle\n",
    "- Measurement-based implementation with dynamic circuits\n",
    "\n",
    "For each implementation you measure the average state fidelity of the Bell pair prepared on the qubits at the edge of the chain to compare among the different implementations."
   ]
  },
  {
   "attachments": {},
   "cell_type": "markdown",
   "id": "28f3fa83-e6da-4a76-ab86-09142557bc1b",
   "metadata": {},
   "source": [
    "### Experimental setup\n",
    "\n",
    "The experiments in this tutorial use a 1-D line of qubits with a coupling map that ensures that no shortcuts can be taken."
   ]
  },
  {
   "attachments": {},
   "cell_type": "markdown",
   "id": "e0025777",
   "metadata": {
    "heading_collapsed": true
   },
   "source": [
    "#### Define 1-D line\n",
    "\n",
    "First, set up a line of qubits through the machine that you intend to use such that you avoid broken qubits or areas with high readout errors. To do this, examine the calibration data (which can be found online or via the command `plot_error_map(backend)`)."
   ]
  },
  {
   "cell_type": "markdown",
   "id": "b00af850-c30b-44c8-b40c-e0c6642ceb24",
   "metadata": {},
   "source": [
    "We will describe the line as a simple list of integer indices. In this tutorial, we will choose a random qubit line by using the following function."
   ]
  },
  {
   "cell_type": "code",
   "execution_count": 2,
   "id": "3e1790a5-eea3-4e8e-9fd9-a7cba6f1bedf",
   "metadata": {},
   "outputs": [],
   "source": [
    "def get_1d_qubit_line(\n",
    "    coupling_map: CouplingMap, start_qubit: int = 0\n",
    ") -> List[int]:\n",
    "    \"\"\"\n",
    "    Use random search to find a 1D line, repeating until we find a line of sufficient length.\n",
    "    This is very inefficient, but it's fine for this demo.\n",
    "    \"\"\"\n",
    "\n",
    "    def get_random_line(\n",
    "        coupling_map: CouplingMap, start_qubit: int\n",
    "    ) -> List[int]:\n",
    "        \"\"\"\n",
    "        Do a random, self-avoiding walk on the coupling map to get a 1D line.\n",
    "        \"\"\"\n",
    "        edge_list = list(coupling_map.get_edges())\n",
    "        path = [start_qubit]\n",
    "        while True:\n",
    "            # Get edges connected to the current qubit that don't connect to a qubit we've already visited\n",
    "            current_qubit = path[-1]\n",
    "            previously_visited_qubits = path[:-1]\n",
    "            candidate_edges = [\n",
    "                edge\n",
    "                for edge in edge_list\n",
    "                if current_qubit in edge\n",
    "                and not any(\n",
    "                    qubit in previously_visited_qubits for qubit in edge\n",
    "                )\n",
    "            ]\n",
    "            if candidate_edges == []:\n",
    "                return path\n",
    "            next_edge = random.choice(candidate_edges)\n",
    "            edge_list.remove(next_edge)\n",
    "            next_qubit = next(\n",
    "                qubit for qubit in next_edge if qubit != path[-1]\n",
    "            )\n",
    "            path.append(next_qubit)\n",
    "\n",
    "    # Now repeat the random walk many times to find a long line\n",
    "    return max(\n",
    "        [get_random_line(coupling_map, start_qubit) for _ in range(1000)],\n",
    "        key=lambda x: len(x),\n",
    "    )"
   ]
  },
  {
   "cell_type": "markdown",
   "id": "11e35681-d7d0-4d5d-8764-5517181d91d0",
   "metadata": {},
   "source": [
    "#### Set primary parameters\n",
    "\n",
    "In this section are definitions for some common parameters that you will use later. You'll need to specify these parameters for a particular backend. In order to do so, you will need an account on [IBM Quantum&reg; Platform](https://quantum.cloud.ibm.com/). More details on how to initialize your account can be found in the [documentation](/docs/guides/cloud-setup)."
   ]
  },
  {
   "cell_type": "code",
   "execution_count": null,
   "id": "4fc13eba-bc50-4607-88f9-8ada04b69794",
   "metadata": {},
   "outputs": [],
   "source": [
    "def coupling_map_from_qubit_line(\n",
    "    coupling_map: CouplingMap, qubit_line: List[List[int]]\n",
    ") -> CouplingMap:\n",
    "    \"\"\"\n",
    "    Modify the full coupling map to force linearity in the qubit layout\n",
    "    \"\"\"\n",
    "    new_coupling_map = []\n",
    "    # Iterate the line pair-wise and append edges that contain both qubits\n",
    "    for qubit, next_qubit in zip(qubit_line, qubit_line[1:]):\n",
    "        edge = next(\n",
    "            edge\n",
    "            for edge in coupling_map.get_edges()\n",
    "            if qubit in edge and next_qubit in edge\n",
    "        )\n",
    "        new_coupling_map.append(edge)\n",
    "    return CouplingMap(new_coupling_map)\n",
    "\n",
    "\n",
    "# Set up access to IBM Quantum devices\n",
    "service = QiskitRuntimeService()\n",
    "backend = service.least_busy(\n",
    "    operational=True, simulator=False, dynamic_circuits=True\n",
    ")\n",
    "if \"if_else\" not in backend.target.operation_names:\n",
    "    backend.target.add_instruction(IfElseOp, name=\"if_else\")\n",
    "\n",
    "# Set qubit line and coupling map\n",
    "QUBIT_LINE = get_1d_qubit_line(backend.coupling_map)\n",
    "COUPLING_MAP_1D = coupling_map_from_qubit_line(\n",
    "    backend.coupling_map, QUBIT_LINE\n",
    ")\n",
    "MAX_POSSIBLE_QUBITS_BTW_CNOT = len(QUBIT_LINE) - 2\n",
    "\n",
    "# Use this duration class to get appropriate durations for dynamic\n",
    "# circuit backend scheduling\n",
    "DURATIONS = DynamicCircuitInstructionDurations.from_backend(backend)\n",
    "\n",
    "print(f\"Backend is: {backend.name}\")\n",
    "print(f\"Found line of length {len(QUBIT_LINE)}.\")\n",
    "print(\"Using coupling map:\\n\", COUPLING_MAP_1D)\n",
    "print(\n",
    "    f\"Maximum number of qubits between CNOT for {backend.name} is {MAX_POSSIBLE_QUBITS_BTW_CNOT} with the given qubit line.\"\n",
    ")"
   ]
  },
  {
   "cell_type": "markdown",
   "id": "56d793dc-19d4-4197-9f34-118683d95486",
   "metadata": {},
   "source": [
    "Next, set the global scope of the experiment. These variables can be used in each circuit type or can be set individually in each experiment that will override these globals."
   ]
  },
  {
   "cell_type": "code",
   "execution_count": null,
   "id": "c7718980-3efe-4810-afb0-29f8d252a2ed",
   "metadata": {},
   "outputs": [],
   "source": [
    "# Level of optimizations the transpiler uses: There are four optimization levels ranging from 0 to 3,\n",
    "# where higher optimization levels take more time and computational effort but may yield a more\n",
    "# optimal circuit. level 0 does no explicit optimization, it will just try to make a circuit\n",
    "# runnable by transforming it to match a topology and basis gate set, if necessary.\n",
    "# Levels 1, 2, and 3 do light, medium, and heavy optimization, using a combination of passes, and by\n",
    "# configuring the passes to search for better solutions.\n",
    "OPTIMIZATION_LEVEL = 0\n",
    "\n",
    "# Set the number of repetitions of each circuit, for sampling.\n",
    "# The number of qubits between the control and target are grouped into blocks\n",
    "# of length 4. The provided min and max number of qubits will be modified to\n",
    "# align with these block sizes.\n",
    "SHOTS = 1000\n",
    "\n",
    "# Set the number of times the experimental counts are resampled.\n",
    "# This is used to calculate mean and standard deviations of results.\n",
    "BOOTSTRAP_SAMPLES = 10\n",
    "\n",
    "# The min number of qubits between the control and target qubits on line\n",
    "MIN_NUMBER_QUBITS = 0\n",
    "\n",
    "# The max number of qubits between the control and target qubits on line\n",
    "# The max for MIN_NUMBER_QUBITS is len(QUBIT_LINE) - 2\n",
    "# max_number_qubits must satisfy MAX_NUMBER_QUBITS - MIN_NUMBER_QUBITS = 3 (mod 4)\n",
    "# at this point. This is just to make things easier to break jobs up. Not a real limitation.\n",
    "MAX_NUMBER_QUBITS = 15\n",
    "assert (\n",
    "    (MAX_NUMBER_QUBITS - MIN_NUMBER_QUBITS) % 4 == 3\n",
    "), \"MAX_NUMBER_QUBITS must satisfy MAX_NUMBER_QUBITS - MIN_NUMBER_QUBITS = 3 (mod 4)\"\n",
    "assert (MAX_NUMBER_QUBITS + 2) <= len(\n",
    "    QUBIT_LINE\n",
    "), \"MAX_NUMBER_QUBITS must satisfy MAX_NUMBER_QUBITS + 2 <= len(QUBIT_LINE)\""
   ]
  },
  {
   "attachments": {},
   "cell_type": "markdown",
   "id": "d892de47-78f4-46b7-b425-da5ce4b9c6b8",
   "metadata": {
    "hidden": true,
    "scrolled": true
   },
   "source": [
    "#### Unitary-based implementation swapping the qubits to the middle\n",
    "\n",
    "First, examine the case where a long-range CNOT gate is implemented using nearest-neighbor connections and unitary gates. In the following figure, on the left is a circuit for a long-range CNOT gate spanning a 1D chain of n-qubits subject to nearest-neighbor connections only. On the right is an equivalent unitary decomposition implementable with local CNOT gates, circuit depth O(n).\n",
    "\n",
    "![Two circuit diagrams, one showing a CNOT acting on non-neighbor qubits, and the other showing a sequence of neighbor-only CNOTs that achieve the same behaviour.](/docs/images/tutorials/long-range-entanglement-with-limited-qubit-connectivity/swap-map-illustration.avif)\n",
    "\n",
    "The circuit on the right can be implemented as follows:"
   ]
  },
  {
   "cell_type": "code",
   "execution_count": 10,
   "id": "d54f7f67-ae85-45a6-86aa-9d0151d572bc",
   "metadata": {},
   "outputs": [],
   "source": [
    "def CNOT_unitary(\n",
    "    qc: QuantumCircuit, control_qubit: int, target_qubit: int\n",
    ") -> QuantumCircuit:\n",
    "    \"\"\"Generate a CNOT gate between data qubit control_qubit and data qubit target_qubit using local CNOTs\n",
    "\n",
    "    Assumes that the long-range CNOT gate will be spanning a 1D chain of n-qubits subject to nearest-neighbor\n",
    "    connections only with the chain starting at the control qubit and finishing at the target qubit.\n",
    "\n",
    "    Assumes that control_qubit < target_qubit (as integers) and that the provided circuit qc has |0> set\n",
    "    qubits control_qubit+1, ..., target_qubit-1\n",
    "\n",
    "    Args:\n",
    "        qc (QuantumCicruit) : A Quantum Circuit to add the long range localized unitary CNOT\n",
    "        control_qubit (int) : The qubit used as the control.\n",
    "        target_qubi (int) : The qubit targeted by the gate.\n",
    "\n",
    "    Example:\n",
    "\n",
    "        qc = QuantumCircuit(8,2)\n",
    "        qc = CNOT_unitary(qc, 0, 7)\n",
    "\n",
    "    Returns:\n",
    "        QuantumCircuit\n",
    "\n",
    "    \"\"\"\n",
    "    assert target_qubit > control_qubit\n",
    "    n = target_qubit - control_qubit - 1\n",
    "    k = int(n / 2)\n",
    "    qc.barrier()\n",
    "    for i in range(control_qubit, control_qubit + k):\n",
    "        qc.cx(i, i + 1)\n",
    "        qc.cx(i + 1, i)\n",
    "        qc.cx(-i - 1, -i - 2)\n",
    "        qc.cx(-i - 2, -i - 1)\n",
    "    if n % 2 == 1:\n",
    "        qc.cx(k + 2, k + 1)\n",
    "        qc.cx(k + 1, k + 2)\n",
    "    qc.barrier()\n",
    "    qc.cx(k, k + 1)\n",
    "    for i in range(control_qubit, control_qubit + k):\n",
    "        qc.cx(k - i, k - 1 - i)\n",
    "        qc.cx(k - 1 - i, k - i)\n",
    "        qc.cx(k + i + 1, k + i + 2)\n",
    "        qc.cx(k + i + 2, k + i + 1)\n",
    "    if n % 2 == 1:\n",
    "        qc.cx(-2, -1)\n",
    "        qc.cx(-1, -2)\n",
    "    qc.barrier()\n",
    "    return qc"
   ]
  },
  {
   "cell_type": "markdown",
   "id": "7c6b8e59-c90b-4276-873e-a94ac2d375d3",
   "metadata": {
    "code_folding": [],
    "hidden": true
   },
   "source": [
    "The `build_circuits_uni` method therefore builds a list of circuits to run with different number of qubits in the chain."
   ]
  },
  {
   "cell_type": "code",
   "execution_count": 11,
   "id": "8df7c4a6",
   "metadata": {},
   "outputs": [],
   "source": [
    "def build_circuits_uni(n: int) -> List[QuantumCircuit]:\n",
    "    \"\"\"Builds the unitary circuits needed to estimate the average gate fidelity\n",
    "\n",
    "    Args:\n",
    "        n (int): Number of qubits between the control and target of the CNOT\n",
    "    \"\"\"\n",
    "    assert n >= 0, \"Error: n needs to be a non-negative integer\"\n",
    "    circuits = []\n",
    "    for i in range(n):\n",
    "        circuit = QuantumCircuit(i + 2, 2)\n",
    "        circuit.h(0)\n",
    "        circuit = CNOT_unitary(circuit, 0, i + 1)  # Add long range CNOT\n",
    "        circuit.measure([0, i + 1], [0, 1])  # Prepare circuits to measure\n",
    "        circuits.append(circuit)\n",
    "    return circuits"
   ]
  },
  {
   "cell_type": "markdown",
   "id": "c6d143e2",
   "metadata": {},
   "source": [
    "Now build all unitary circuits"
   ]
  },
  {
   "cell_type": "code",
   "execution_count": 12,
   "id": "e051a86c",
   "metadata": {},
   "outputs": [],
   "source": [
    "circuits_uni = build_circuits_uni(MAX_NUMBER_QUBITS)"
   ]
  },
  {
   "cell_type": "code",
   "execution_count": 13,
   "id": "f80209e2",
   "metadata": {},
   "outputs": [
    {
     "data": {
      "text/plain": [
       "<Image src=\"/docs/images/tutorials/long-range-entanglement/extracted-outputs/f80209e2-0.avif\" alt=\"Output of the previous code cell\" />"
      ]
     },
     "execution_count": 13,
     "metadata": {},
     "output_type": "execute_result"
    }
   ],
   "source": [
    "circuits_uni[-1].draw(\"mpl\", fold=-1)"
   ]
  },
  {
   "attachments": {},
   "cell_type": "markdown",
   "id": "1439e5e6-af49-4b7a-95ba-ac7cc75a31e7",
   "metadata": {
    "heading_collapsed": true
   },
   "source": [
    "#### Long-range measurement-based CNOT with feedforward\n",
    "\n",
    "Then, examine the case where a long-range CNOT gate is implemented using measurement-based CNOT with feedforward (dynamic circuits). In the following figure, on the left is a circuit for a long-range CNOT gate spanning a 1D chain of n-qubits subject to nearest-neighbor connections only. On the right is an equivalent implementable with local CNOT gates, measurement-based CNOT with feedforward (dynamic circuits).\n",
    "\n",
    "![Two equivalent circuits, one using feedforward](/docs/images/tutorials/long-range-entanglement-with-limited-qubit-connectivity/feedforward-illustration.avif)\n",
    "\n",
    "The circuit on the right can be implemented as follows:"
   ]
  },
  {
   "cell_type": "code",
   "execution_count": 18,
   "id": "5c864fcf-0b77-44df-9750-0cd510640305",
   "metadata": {
    "hidden": true
   },
   "outputs": [],
   "source": [
    "def CNOT_dyn(\n",
    "    qc: QuantumCircuit,\n",
    "    control_qubit: int,\n",
    "    target_qubit: int,\n",
    "    c1: Optional[ClassicalRegister] = None,\n",
    "    c2: Optional[ClassicalRegister] = None,\n",
    "    add_barriers: Optional[bool] = True,\n",
    ") -> QuantumCircuit:\n",
    "    \"\"\"Generate a CNOT gate between data qubit control_qubit and data qubit target_qubit using Bell Pairs.\n",
    "\n",
    "    Post processing is used to enable the CNOT gate via the provided classical registers c1 and c2\n",
    "\n",
    "    Assumes that the long-range CNOT gate will be spanning a 1D chain of n-qubits subject to nearest-neighbor\n",
    "    connections only with the chain starting at the control qubit and finishing at the target qubit.\n",
    "\n",
    "    Assumes that control_qubit < target_qubit (as integers) and that the provided circuit qc has |0> set\n",
    "    qubits control_qubit+1, ..., target_qubit-1\n",
    "\n",
    "    n = target_qubit - control_qubit - 1 : Number of qubits between the target and control qubits\n",
    "    k = int(n/2) : Number of Bell pairs created\n",
    "\n",
    "    Args:\n",
    "        qc (QuantumCicruit) : A Quantum Circuit to add the long range localized unitary CNOT\n",
    "        control_qubit (int) : The qubit used as the control.\n",
    "        target_qubi (int) : The qubit targeted by the gate.\n",
    "\n",
    "    Optional Args:\n",
    "        c1 (ClassicalRegister) : Default = None. Required if n > 1. Register requires k bits\n",
    "        c2 (ClassicalRegister) : Default = None. Required if n > 0. Register requires n - k bits\n",
    "        add_barriers (bool) : Default = True. Include barriers before and after long range CNOT\n",
    "\n",
    "    Note: This approach uses two if_test statements. A better (more performant) approach is\n",
    "    to have the parity values combined into a single classical register and then use a switch\n",
    "    statement. This was done in the associated paper my modifying the qasm file directly. The ability\n",
    "    to use a switch statement via Qiskit in this way is a future release capability.\n",
    "\n",
    "    Returns:\n",
    "        QuantumCircuit\n",
    "    \"\"\"\n",
    "    assert target_qubit > control_qubit\n",
    "    n = target_qubit - control_qubit - 1\n",
    "    t = int(n / 2)\n",
    "\n",
    "    if add_barriers is True:\n",
    "        qc.barrier()\n",
    "\n",
    "    # Determine where to start the bell pairs and\n",
    "    # add an extra CNOT when n is odd\n",
    "    if n % 2 == 0:\n",
    "        x0 = 1\n",
    "    else:\n",
    "        x0 = 2\n",
    "        qc.cx(0, 1)\n",
    "\n",
    "    # Create t Bell pairs\n",
    "    for i in range(t):\n",
    "        qc.h(x0 + 2 * i)\n",
    "        qc.cx(x0 + 2 * i, x0 + 2 * i + 1)\n",
    "\n",
    "    # Entangle Bell pairs and data qubits and measure\n",
    "    for i in range(t + 1):\n",
    "        qc.cx(x0 - 1 + 2 * i, x0 + 2 * i)\n",
    "\n",
    "    for i in range(1, t + x0):\n",
    "        if i == 1:\n",
    "            qc.h(2 * i + 1 - x0)\n",
    "            qc.measure(2 * i + 1 - x0, c2[i - 1])\n",
    "            parity_control = expr.lift(c2[i - 1])\n",
    "        else:\n",
    "            qc.h(2 * i + 1 - x0)\n",
    "            qc.measure(2 * i + 1 - x0, c2[i - 1])\n",
    "            parity_control = expr.bit_xor(c2[i - 1], parity_control)\n",
    "\n",
    "    for i in range(t):\n",
    "        if i == 0:\n",
    "            qc.measure(2 * i + x0, c1[i])\n",
    "            parity_target = expr.lift(c1[i])\n",
    "        else:\n",
    "            qc.measure(2 * i + x0, c1[i])\n",
    "            parity_target = expr.bit_xor(c1[i], parity_target)\n",
    "\n",
    "    if n > 0:\n",
    "        with qc.if_test(parity_control):\n",
    "            qc.z(control_qubit)\n",
    "\n",
    "    if n > 1:\n",
    "        with qc.if_test(parity_target):\n",
    "            qc.x(target_qubit)\n",
    "\n",
    "    if add_barriers is True:\n",
    "        qc.barrier()\n",
    "    return qc"
   ]
  },
  {
   "cell_type": "markdown",
   "id": "d278d6c6-b46b-4be7-8419-942f92f9a63d",
   "metadata": {
    "hidden": true
   },
   "source": [
    "Put it together with to create circuit for a chain of qubits of varying length"
   ]
  },
  {
   "cell_type": "code",
   "execution_count": 19,
   "id": "4486c01c-c3ca-47e2-a11f-58134d86806b",
   "metadata": {
    "hidden": true
   },
   "outputs": [],
   "source": [
    "def build_circuits_dyn(n: int) -> List[QuantumCircuit]:\n",
    "    \"\"\" \"\"\"\n",
    "    assert n >= 0, \"Error: n needs to be a non-negative integer\"\n",
    "    circuits = []\n",
    "\n",
    "    qr = QuantumRegister(\n",
    "        n + 2, name=\"q\"\n",
    "    )  # Circuit with n qubits between control and target\n",
    "    cr = ClassicalRegister(\n",
    "        2, name=\"cr\"\n",
    "    )  # Classical register for measuring long range CNOT\n",
    "\n",
    "    k = int(n / 2)  # Number of Bell States to be used\n",
    "    c1 = ClassicalRegister(\n",
    "        k, name=\"c1\"\n",
    "    )  # Classical register needed for post processing\n",
    "    c2 = ClassicalRegister(\n",
    "        n - k, name=\"c2\"\n",
    "    )  # Classical register needed for post processing\n",
    "\n",
    "    for i in range(n):\n",
    "        if n > 1:\n",
    "            circuit = QuantumCircuit(qr, cr, c1, c2, name=\"CNOT\")\n",
    "        elif n == 1:\n",
    "            circuit = QuantumCircuit(qr, cr, c2, name=\"CNOT\")\n",
    "        elif n == 0:\n",
    "            circuit = QuantumCircuit(qr, cr, name=\"CNOT\")\n",
    "\n",
    "        circuit.h(0)\n",
    "        circuit = CNOT_dyn(\n",
    "            qc=circuit, control_qubit=0, target_qubit=i + 1, c1=c1, c2=c2\n",
    "        )\n",
    "\n",
    "        circuit.measure(0, cr[0])\n",
    "        circuit.measure(i + 1, cr[1])\n",
    "\n",
    "        circuits.append(circuit)\n",
    "    return circuits"
   ]
  },
  {
   "cell_type": "markdown",
   "id": "ae97fd46",
   "metadata": {},
   "source": [
    "Collecting all the dynamic circuits"
   ]
  },
  {
   "cell_type": "code",
   "execution_count": null,
   "id": "f9277469-cc4e-464c-b803-e11f6ad3603a",
   "metadata": {
    "hidden": true
   },
   "outputs": [
    {
     "data": {
      "text/plain": [
       "<Image src=\"/docs/images/tutorials/long-range-entanglement/extracted-outputs/f9277469-cc4e-464c-b803-e11f6ad3603a-0.avif\" alt=\"Output of the previous code cell\" />"
      ]
     },
     "execution_count": 20,
     "metadata": {},
     "output_type": "execute_result"
    }
   ],
   "source": [
    "circuits_dyn = build_circuits_dyn(MAX_NUMBER_QUBITS)\n",
    "circuits_dyn[-1].draw(\"mpl\", fold=-1)"
   ]
  },
  {
   "cell_type": "markdown",
   "id": "66325a1a-5b3b-41fd-b4d0-e1e1702d89a0",
   "metadata": {},
   "source": [
    "## Step 2: Optimize problem for quantum hardware execution"
   ]
  },
  {
   "cell_type": "markdown",
   "id": "aa55c1a8-3f16-4483-a90c-1eae1a40e90e",
   "metadata": {},
   "source": [
    "Because you have already specified the physical qubit layout and built the circuits with a line topology in mind, there is no need to further optimize the circuits; we only need to make sure that the circuits are fully compatible with the chosen backend."
   ]
  },
  {
   "cell_type": "code",
   "execution_count": null,
   "id": "e3350582",
   "metadata": {},
   "outputs": [],
   "source": [
    "# Generate the ordered list of physical qubits in the chain\n",
    "full_layout = set()\n",
    "for edge in list(COUPLING_MAP_1D.get_edges()):\n",
    "    full_layout.update(set(edge))\n",
    "full_layout = list(full_layout)\n",
    "\n",
    "isa_circuits_uni, isa_circuits_postproc, isa_circuits_dyn = [], [], []\n",
    "for circuit_uni, circuit_dyn in zip(circuits_uni, circuits_dyn):\n",
    "    # Generate the main Qiskit transpile passes.\n",
    "    pm_uni = generate_preset_pass_manager(\n",
    "        coupling_map=COUPLING_MAP_1D,\n",
    "        initial_layout=full_layout[: circuit_uni.num_qubits],\n",
    "        optimization_level=OPTIMIZATION_LEVEL,\n",
    "        backend=backend,\n",
    "    )\n",
    "\n",
    "    pm_dyn = generate_preset_pass_manager(\n",
    "        coupling_map=COUPLING_MAP_1D,\n",
    "        initial_layout=full_layout[: circuit_dyn.num_qubits],\n",
    "        optimization_level=OPTIMIZATION_LEVEL,\n",
    "        backend=backend,\n",
    "    )\n",
    "\n",
    "    isa_circuits_uni.append(pm_uni.run(circuit_uni))\n",
    "    isa_circuits_dyn.append(pm_dyn.run(circuit_dyn))"
   ]
  },
  {
   "cell_type": "code",
   "execution_count": 32,
   "id": "03ab7ed7",
   "metadata": {},
   "outputs": [
    {
     "data": {
      "text/plain": [
       "<Image src=\"/docs/images/tutorials/long-range-entanglement/extracted-outputs/03ab7ed7-0.avif\" alt=\"Output of the previous code cell\" />"
      ]
     },
     "execution_count": 32,
     "metadata": {},
     "output_type": "execute_result"
    }
   ],
   "source": [
    "isa_circuits_dyn[4].draw(\"mpl\", fold=-1, idle_wires=False)"
   ]
  },
  {
   "cell_type": "markdown",
   "id": "210a251f-a4b0-43f1-b081-67da215719bb",
   "metadata": {},
   "source": [
    "## Step 3: Execute using Qiskit primitives\n",
    "In this step you execute the experiment on the specified backend. The `gen3-experimental` path needs to be specified to access the latest dynamic circuit capability"
   ]
  },
  {
   "cell_type": "code",
   "execution_count": null,
   "id": "41f19a39",
   "metadata": {},
   "outputs": [],
   "source": [
    "sampler = Sampler(mode=backend)\n",
    "\n",
    "sampler.options.experimental = {\n",
    "    \"execution_path\": \"gen3-experimental\",\n",
    "}\n",
    "\n",
    "job_uni = sampler.run(isa_circuits_uni, shots=SHOTS)\n",
    "job_dyn = sampler.run(isa_circuits_dyn, shots=SHOTS)"
   ]
  },
  {
   "cell_type": "markdown",
   "id": "db31a1df",
   "metadata": {},
   "source": [
    "## Step 4: Post-process and return result in desired classical format\n",
    "\n",
    "After the experiments have successfully executed, proceed to post-process the resulting counts to gain insight on the final results. You can take advantage of resampling techniques (also known as [bootstrapping](https://en.wikipedia.org/wiki/Bootstrapping_(statistics))) to calculate average fidelities and deviations from the experimental counts."
   ]
  },
  {
   "cell_type": "code",
   "execution_count": 34,
   "id": "ef8cdc72",
   "metadata": {},
   "outputs": [],
   "source": [
    "from qiskit.quantum_info import hellinger_fidelity\n",
    "\n",
    "BELL_DIST = {\"00\": 0.5, \"11\": 0.5}\n",
    "\n",
    "\n",
    "def get_counts_from_bitarray(instance):\n",
    "    \"\"\"\n",
    "    Extract counts from result data\n",
    "    \"\"\"\n",
    "    for field, value in instance.__dict__.items():\n",
    "        if isinstance(value, BitArray):\n",
    "            return value.get_counts()\n",
    "    return None\n",
    "\n",
    "\n",
    "def resample_single_dictionary(d):\n",
    "    \"\"\"Resample a single dictionary based on its weights.\"\"\"\n",
    "    keys = list(d.keys())\n",
    "    weights = list(d.values())\n",
    "    sum_weights = sum(weights)\n",
    "\n",
    "    if sum_weights == 0:\n",
    "        return d\n",
    "\n",
    "    resampled_keys = random.choices(keys, weights=weights, k=sum_weights)\n",
    "\n",
    "    # Count the occurrences of each key in the resampled keys\n",
    "    resampled_counts = {}\n",
    "    for key in resampled_keys:\n",
    "        resampled_counts[key] = resampled_counts.get(key, 0) + 1\n",
    "\n",
    "    return resampled_counts\n",
    "\n",
    "\n",
    "def resample_dict_list(dict_list, n_samples):\n",
    "    \"\"\"Resample the entire list of dictionaries n_samples times.\"\"\"\n",
    "    resampled_lists = []\n",
    "\n",
    "    for _ in range(n_samples):\n",
    "        new_version = [resample_single_dictionary(d) for d in dict_list]\n",
    "        resampled_lists.append(new_version)\n",
    "\n",
    "    return resampled_lists"
   ]
  },
  {
   "cell_type": "code",
   "execution_count": null,
   "id": "89992740",
   "metadata": {},
   "outputs": [
    {
     "name": "stdout",
     "output_type": "stream",
     "text": [
      "State fidelities:\n",
      "['0.968', '0.964', '0.933', '0.941', '0.847', '0.831', '0.738', '0.791', '0.631', '0.687', '0.621', '0.639', '0.545', '0.583', '0.510']\n",
      "State fidelities std:\n",
      "['0.003', '0.007', '0.008', '0.009', '0.008', '0.010', '0.011', '0.012', '0.010', '0.019', '0.010', '0.012', '0.011', '0.012', '0.016']\n"
     ]
    }
   ],
   "source": [
    "result_uni = job_uni.result()\n",
    "\n",
    "uni_state_fid_mean, uni_state_fid_std = [], []\n",
    "for i in range(len(result_uni)):\n",
    "    counts = get_counts_from_bitarray(result_uni[i].data)\n",
    "\n",
    "    state_fid_temp = []\n",
    "    for _ in range(BOOTSTRAP_SAMPLES):\n",
    "        resampled_counts = resample_single_dictionary(counts)\n",
    "        fid = hellinger_fidelity(resampled_counts, BELL_DIST)\n",
    "        state_fid_temp.append(fid)\n",
    "\n",
    "    mean, std = (\n",
    "        np.mean(np.array(state_fid_temp)),\n",
    "        np.std(np.array(state_fid_temp)),\n",
    "    )\n",
    "    uni_state_fid_mean.append(mean)\n",
    "    uni_state_fid_std.append(std)\n",
    "\n",
    "\n",
    "print(\"State fidelities:\")\n",
    "print([\"{0:0.3f}\".format(i) for i in uni_state_fid_mean])\n",
    "print(\"State fidelities std:\")\n",
    "print([\"{0:0.3f}\".format(i) for i in uni_state_fid_std])"
   ]
  },
  {
   "cell_type": "code",
   "execution_count": 37,
   "id": "4f97c7cb",
   "metadata": {},
   "outputs": [
    {
     "name": "stdout",
     "output_type": "stream",
     "text": [
      "State fidelities:\n",
      "['0.974', '0.911', '0.888', '0.888', '0.878', '0.858', '0.855', '0.855', '0.681', '0.804', '0.764', '0.806', '0.770', '0.775', '0.750']\n",
      "State fidelities std:\n",
      "['0.005', '0.007', '0.010', '0.009', '0.010', '0.008', '0.007', '0.007', '0.012', '0.013', '0.008', '0.011', '0.013', '0.014', '0.017']\n"
     ]
    }
   ],
   "source": [
    "result_dyn = job_dyn.result()\n",
    "\n",
    "dyn_state_fid_mean, dyn_state_fid_std = [], []\n",
    "for i in range(len(result_dyn)):\n",
    "    counts = get_counts_from_bitarray(result_dyn[i].data)\n",
    "\n",
    "    state_fid_temp = []\n",
    "    for _ in range(BOOTSTRAP_SAMPLES):\n",
    "        resampled_counts = resample_single_dictionary(counts)\n",
    "        fid = hellinger_fidelity(resampled_counts, BELL_DIST)\n",
    "        state_fid_temp.append(fid)\n",
    "\n",
    "    mean, std = (\n",
    "        np.mean(np.array(state_fid_temp)),\n",
    "        np.std(np.array(state_fid_temp)),\n",
    "    )\n",
    "    dyn_state_fid_mean.append(mean)\n",
    "    dyn_state_fid_std.append(std)\n",
    "\n",
    "\n",
    "print(\"State fidelities:\")\n",
    "print([\"{0:0.3f}\".format(i) for i in dyn_state_fid_mean])\n",
    "print(\"State fidelities std:\")\n",
    "print([\"{0:0.3f}\".format(i) for i in dyn_state_fid_std])"
   ]
  },
  {
   "cell_type": "markdown",
   "id": "982f8e1b-5cd8-440f-af89-8b81eed1a15d",
   "metadata": {},
   "source": [
    "### Plot the results\n",
    "To appreciate the results visually, the cell below plots the estimated gate fidelities measured at varying distance between entangled qubits for the three different methods. In general, the fidelity will decrease with increasing distance. The results show that although the unitary method (using SWAPs to implement a long-range entangling interaction) performs better at short distances, there is a cross-over to a regime where dynamic circuits become a better option."
   ]
  },
  {
   "cell_type": "code",
   "execution_count": null,
   "id": "0400e350",
   "metadata": {},
   "outputs": [
    {
     "data": {
      "text/plain": [
       "<Image src=\"/docs/images/tutorials/long-range-entanglement/extracted-outputs/0400e350-0.avif\" alt=\"Output of the previous code cell\" />"
      ]
     },
     "metadata": {},
     "output_type": "display_data"
    }
   ],
   "source": [
    "fig, ax = plt.subplots()\n",
    "\n",
    "ax.errorbar(\n",
    "    range(MIN_NUMBER_QUBITS, MAX_NUMBER_QUBITS),\n",
    "    uni_state_fid_mean,\n",
    "    uni_state_fid_std,\n",
    "    fmt=\"o-.\",\n",
    "    color=\"c\",\n",
    "    label=\"Unitary\",\n",
    ")\n",
    "\n",
    "ax.errorbar(\n",
    "    range(MIN_NUMBER_QUBITS, MAX_NUMBER_QUBITS),\n",
    "    dyn_state_fid_mean,\n",
    "    dyn_state_fid_std,\n",
    "    fmt=\"o-.\",\n",
    "    color=\"m\",\n",
    "    label=\"Dynamic\",\n",
    ")\n",
    "ax.axhline(y=1 / 4, color=\"g\", linestyle=\"--\", label=\"Random gate\")\n",
    "legend = ax.legend(frameon=True)\n",
    "for text in legend.get_texts():\n",
    "    text.set_color(\"black\")  # Set the legend text color to black\n",
    "legend.get_frame().set_facecolor(\n",
    "    \"white\"\n",
    ")  # Set the legend background color to white\n",
    "legend.get_frame().set_edgecolor(\n",
    "    \"black\"\n",
    ")  # Optional: set the legend border color to black\n",
    "ax.set_xlabel(\"Number of qubits between control and target\", color=\"black\")\n",
    "ax.set_ylabel(\"Bell state fidelity\", color=\"black\")\n",
    "ax.grid(linestyle=\":\", linewidth=0.6, alpha=0.4, color=\"gray\")\n",
    "ax.set_ylim((0.2, 1))\n",
    "ax.set_facecolor(\"white\")  # Set the background color of the axes\n",
    "fig.patch.set_facecolor(\"white\")  # Set the background color of the figure\n",
    "\n",
    "# Ensure the axis lines and ticks are visible\n",
    "for spine in ax.spines.values():\n",
    "    spine.set_visible(True)\n",
    "    spine.set_color(\"black\")  # Set the color of the axis lines to black\n",
    "ax.tick_params(axis=\"x\", colors=\"black\")\n",
    "ax.tick_params(axis=\"y\", colors=\"black\")\n",
    "\n",
    "plt.show()"
   ]
  },
  {
   "cell_type": "markdown",
   "id": "f3809ec3-742c-4388-b0c1-7fec552c248b",
   "metadata": {},
   "source": [
    "## References\n",
    "\n",
    "[1] Efficient Long-Range Entanglement using Dynamic Circuits, by\n",
    "*Elisa Bäumer, Vinay Tripathi, Derek S. Wang, Patrick Rall, Edward H. Chen, Swarnadeep Majumder, Alireza Seif, Zlatko K. Minev*. IBM Quantum, (2023).\n",
    "https://arxiv.org/abs/2308.13065"
   ]
  },
  {
   "cell_type": "markdown",
   "id": "bf40bed3",
   "metadata": {},
   "source": [
    "## Tutorial survey\n",
    "\n",
    "Please take this short survey to provide feedback on this tutorial. Your insights will help us improve our content offerings and user experience.\n",
    "\n",
    "[Link to survey](https://your.feedback.ibm.com/jfe/form/SV_5nJZASV7wzDVLF4)"
   ]
  }
 ],
 "metadata": {
  "description": "This tutorial shows three different ways that can be used to generate long-range entanglement between qubits on a line, at varying distances between each other.",
  "kernelspec": {
   "display_name": "Python 3",
   "language": "python",
   "name": "python3"
  },
  "language_info": {
   "codemirror_mode": {
    "name": "ipython",
    "version": 3
   },
   "file_extension": ".py",
   "mimetype": "text/x-python",
   "name": "python",
   "nbconvert_exporter": "python",
   "pygments_lexer": "ipython3",
   "version": "3"
  },
  "title": "Long-range entanglement with dynamic circuits"
 },
 "nbformat": 4,
 "nbformat_minor": 5
}
