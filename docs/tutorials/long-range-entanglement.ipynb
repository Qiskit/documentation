{
 "cells": [
  {
   "cell_type": "markdown",
   "id": "44d97249",
   "metadata": {},
   "source": [
    "{/* cspell:ignore hcords, ycords, xcords, ecolor, elinewidth, allcr, braket */}\n",
    "# Long-range CNOT with parallel Bell pairs\n",
    "*Usage estimate: 4 minutes on a Heron r2 processor. (NOTE: This is an estimate only. Your runtime may vary.)*"
   ]
  },
  {
   "cell_type": "markdown",
   "id": "b05b669f",
   "metadata": {},
   "source": [
    "## Background\n",
    "\n",
    "Long-range entanglement between distant qubits is challenging on devices with limited connectivity. This tutorial shows how dynamic circuits can generate such entanglement by implementing a long-range controlled-X (LRCX) gate using a measurement-based protocol.\n",
    "\n",
    "Following the approach by Elisa Bäumer et al. in [1](#ref-1), the method uses mid-circuit measurement and feedforward to achieve constant-depth gates regardless of qubit separation. It creates intermediate Bell pairs, measures one qubit from each pair, and applies classically conditioned gates to propagate entanglement across the device. This avoids long SWAP chains, reducing both circuit depth and exposure to two-qubit gate errors.\n",
    "\n",
    "In this notebook, we adapt the protocol for IBM Quantum&reg; hardware and extend it to run multiple LRCX operations in parallel, allowing us to explore how performance scales with the number of simultaneous conditional operations."
   ]
  },
  {
   "cell_type": "markdown",
   "id": "c6cd3174",
   "metadata": {},
   "source": [
    "## Requirements\n",
    "\n",
    "Before starting this tutorial, ensure that you have the following installed:\n",
    "\n",
    "- Qiskit SDK v2.0 or later, with visualization support ( `pip install 'qiskit[visualization]'` )\n",
    "- Qiskit Runtime ( `pip install qiskit-ibm-runtime` ) v0.37 or later"
   ]
  },
  {
   "cell_type": "markdown",
   "id": "39e4440a",
   "metadata": {},
   "source": [
    "## Setup"
   ]
  },
  {
   "cell_type": "code",
   "execution_count": 1,
   "id": "5b0aa550",
   "metadata": {},
   "outputs": [],
   "source": [
    "from qiskit import QuantumCircuit, QuantumRegister, ClassicalRegister\n",
    "from qiskit.circuit.classical import expr\n",
    "from qiskit.transpiler import generate_preset_pass_manager\n",
    "from qiskit.visualization import plot_circuit_layout\n",
    "from qiskit_ibm_runtime import (\n",
    "    QiskitRuntimeService,\n",
    "    Batch,\n",
    "    SamplerV2 as Sampler,\n",
    ")\n",
    "import matplotlib.pyplot as plt\n",
    "import numpy as np"
   ]
  },
  {
   "cell_type": "markdown",
   "id": "28145093",
   "metadata": {},
   "source": [
    "## Step 1: Map classical inputs to a quantum problem\n",
    "\n",
    "We now implement a long-range CNOT gate between two distant qubits, following the dynamic-circuit construction shown below (adapted from Fig. 1a in Ref. [1](#ref-1)). The key idea is to use a “bus” of ancilla qubits, initialized to $|0\\rangle$, to mediate long-range gate teleportation.\n",
    "\n",
    "![Long-range CNOT circuit](/docs/images/tutorials/long-range-entanglement-with-limited-qubit-connectivity/dynamic_vs_unitary_long_range_illustration.avif)\n",
    "\n",
    "As illustrated in the figure, the process works as follows:\n",
    "1. Prepare a chain of Bell pairs connecting the control and target qubits via intermediate ancillas.\n",
    "2. Perform Bell measurements between non-entangled neighboring qubits, swapping entanglement step-by-step until the control and target share a Bell pair.\n",
    "3. Use this Bell pair for gate teleportation, turning a local CNOT into a deterministic long-range CNOT in constant depth.\n",
    "\n",
    "This approach replaces long SWAP chains with a constant-depth protocol, reducing exposure to two-qubit gate errors and making the operation scalable with device size.\n",
    "\n",
    "In what follows, we will first walk through the dynamic-circuit implementation of the LRCX circuit. At the end, we will also provide a unitary-based implementation for comparison, to highlight the advantages of dynamic circuits in this setting."
   ]
  },
  {
   "cell_type": "markdown",
   "id": "89597fcf",
   "metadata": {},
   "source": [
    "### (i) Initialize circuit\n",
    "\n",
    "We begin with a simple quantum problem that will serve as the basis for comparison. Specifically, we initialize a circuit with a control qubit at index 0 and apply a Hadamard gate to it. This produces a superposition state that, when followed by a controlled-X operation, generates a Bell state  $(|00\\rangle + |11\\rangle)/\\sqrt{2}$ between the control and target qubits.\n",
    "\n",
    "At this stage, we are not yet constructing the long-range controlled-X (LRCX) itself. Instead, our goal is to define a clear and minimal initial circuit that highlights the role of the LRCX. In Step 2, we will show how the LRCX can be implemented as an optimization using dynamic circuits, and compare its performance against a unitary equivalent. Importantly, the LRCX protocol can be applied to any initial circuit. Here we use this simple Hadamard setup for clarity of demonstration."
   ]
  },
  {
   "cell_type": "code",
   "execution_count": 2,
   "id": "0446b8e8",
   "metadata": {},
   "outputs": [
    {
     "data": {
      "text/plain": [
       "<Image src=\"/docs/images/tutorials/lrcx-with-parallel-bell-pairs/extracted-outputs/0446b8e8-0.avif\" alt=\"Output of the previous code cell\" />"
      ]
     },
     "execution_count": 2,
     "metadata": {},
     "output_type": "execute_result"
    }
   ],
   "source": [
    "distance = 6  # The distance of the CNOT gate, with the convention that a distance of zero is a nearest-neighbor CNOT.\n",
    "\n",
    "\n",
    "def initialize_circuit(distance):\n",
    "    assert distance >= 0\n",
    "    control = 0  # control qubit\n",
    "    n = distance  # number of qubits between target and control\n",
    "\n",
    "    qr = QuantumRegister(\n",
    "        n + 2, name=\"q\"\n",
    "    )  # Circuit with n qubits between control and target\n",
    "    cr = ClassicalRegister(\n",
    "        2, name=\"cr\"\n",
    "    )  # Classical register for measuring control and target qubits\n",
    "\n",
    "    k = int(n / 2)  # Number of Bell States to be used\n",
    "\n",
    "    allcr = [cr]\n",
    "    if (\n",
    "        distance > 1\n",
    "    ):  # This classical register will be used to store ZZ measurements. It is only used for long-range CX gates with distance > 1\n",
    "        c1 = ClassicalRegister(\n",
    "            k, name=\"c1\"\n",
    "        )  # Classical register needed for post processing\n",
    "        allcr.append(c1)\n",
    "    if (\n",
    "        distance > 0\n",
    "    ):  # This classical register will be used to store XX measurements. It is only used if distance > 0\n",
    "        c2 = ClassicalRegister(\n",
    "            n - k, name=\"c2\"\n",
    "        )  # Classical register needed for post processing\n",
    "        allcr.append(c2)\n",
    "\n",
    "    qc = QuantumCircuit(qr, *allcr, name=\"CNOT\")\n",
    "\n",
    "    # Apply a Hadamard gate to the control qubit such that the long-range CNOT gate will prepare a Bell state (|00> + |11>)/sqrt(2)\n",
    "    qc.h(control)\n",
    "\n",
    "    return qc\n",
    "\n",
    "\n",
    "qc = initialize_circuit(distance)\n",
    "qc.draw(fold=-1, output=\"mpl\", scale=0.5)"
   ]
  },
  {
   "cell_type": "markdown",
   "id": "e761cfc1",
   "metadata": {},
   "source": [
    "## Step 2: Optimize problem for quantum hardware execution\n",
    "In this step, we show how to construct the LRCX circuit using dynamic circuits. The goal is to optimize the circuit for execution on hardware by reducing depth compared to a purely unitary implementation. To illustrate the benefits, we will display both the dynamic LRCX construction and its unitary equivalent, and later compare their performance after transpilation. Importantly, while here we apply the LRCX to a simple Hadamard-initialized problem, the protocol can be applied to any circuit where a long-range CNOT is required.\n",
    "\n",
    "### (ii) Prepare Bell pairs\n",
    "We begin by creating a chain of Bell pairs along the path between the control and target qubits. If the distance is odd, we first apply a CNOT from the control to its neighbor, which is the CNOT that will be teleported. For an even distance, this CNOT will be applied after the Bell pair preparation step. The Bell pair chain then entangles successive pairs of qubits, establishing the resource needed to carry the control information across the device."
   ]
  },
  {
   "cell_type": "code",
   "execution_count": null,
   "id": "4df8ebba",
   "metadata": {},
   "outputs": [
    {
     "data": {
      "text/plain": [
       "<Image src=\"/docs/images/tutorials/lrcx-with-parallel-bell-pairs/extracted-outputs/4df8ebba-0.avif\" alt=\"Output of the previous code cell\" />"
      ]
     },
     "execution_count": 3,
     "metadata": {},
     "output_type": "execute_result"
    }
   ],
   "source": [
    "# Determine where to start the Bell pair chain and add an extra CNOT when n is odd\n",
    "def check_even(n: int) -> int:\n",
    "    \"\"\"Return 1 if n is even, else 2.\"\"\"\n",
    "    return 1 if n % 2 == 0 else 2\n",
    "\n",
    "\n",
    "def prepare_bell_pairs(qc, add_barriers=True):\n",
    "    n = qc.num_qubits - 2  # number of qubits between target and control\n",
    "    k = int(n / 2)\n",
    "\n",
    "    if add_barriers:\n",
    "        qc.barrier()\n",
    "\n",
    "    x0 = check_even(n)\n",
    "    if n % 2 != 0:\n",
    "        qc.cx(0, 1)\n",
    "\n",
    "    # Create k Bell pairs\n",
    "    for i in range(k):\n",
    "        qc.h(x0 + 2 * i)\n",
    "        qc.cx(x0 + 2 * i, x0 + 2 * i + 1)\n",
    "    return qc\n",
    "\n",
    "\n",
    "qc = prepare_bell_pairs(qc)\n",
    "qc.draw(output=\"mpl\", fold=-1, scale=0.5)"
   ]
  },
  {
   "cell_type": "markdown",
   "id": "b80ea657",
   "metadata": {},
   "source": [
    "### (iii) Measure neighboring qubit pairs in the Bell basis\n",
    "Next, we measure *unentangled* neighboring qubits in the Bell basis (two-qubit measurements of $XX$ and $ZZ$). This creates a long-range Bell pair between the target qubit, and the qubit adjacent to the control (up to Pauli corrections, which will be implemented via feedforward in the next step). In parallel, we implement the entangling measurement that teleports the CNOT gate to act on the intended target qubit."
   ]
  },
  {
   "cell_type": "code",
   "execution_count": 4,
   "id": "8eed9e57",
   "metadata": {},
   "outputs": [
    {
     "data": {
      "text/plain": [
       "<Image src=\"/docs/images/tutorials/lrcx-with-parallel-bell-pairs/extracted-outputs/8eed9e57-0.avif\" alt=\"Output of the previous code cell\" />"
      ]
     },
     "execution_count": 4,
     "metadata": {},
     "output_type": "execute_result"
    }
   ],
   "source": [
    "def measure_bell_basis(qc, add_barriers=True):\n",
    "    n = qc.num_qubits - 2  # number of qubits between target and control\n",
    "    k = int(n / 2)\n",
    "\n",
    "    if n > 1:\n",
    "        _, c1, c2 = qc.cregs\n",
    "    elif n > 0:\n",
    "        _, c2 = qc.cregs\n",
    "\n",
    "    # Determine where to start the Bell pair chain and add an extra CNOT when n is odd\n",
    "    x0 = 1 if n % 2 == 0 else 2\n",
    "\n",
    "    # Entangling layer that implements the Bell measurement (and additionally adds the CNOT to be teleported, if n is even)\n",
    "    for i in range(k + 1):\n",
    "        qc.cx(x0 - 1 + 2 * i, x0 + 2 * i)\n",
    "\n",
    "    for i in range(1, k + x0):\n",
    "        if i == 1:\n",
    "            qc.h(2 * i + 1 - x0)\n",
    "        else:\n",
    "            qc.h(2 * i + 1 - x0)\n",
    "\n",
    "    if add_barriers:\n",
    "        qc.barrier()\n",
    "\n",
    "    # Map the ZZ measurements onto classical register c1\n",
    "    for i in range(k):\n",
    "        if i == 0:\n",
    "            qc.measure(2 * i + x0, c1[i])\n",
    "        else:\n",
    "            qc.measure(2 * i + x0, c1[i])\n",
    "\n",
    "    # Map the XX measurements onto classical register c2\n",
    "    for i in range(1, k + x0):\n",
    "        if i == 1:\n",
    "            qc.measure(2 * i + 1 - x0, c2[i - 1])\n",
    "        else:\n",
    "            qc.measure(2 * i + 1 - x0, c2[i - 1])\n",
    "    return qc\n",
    "\n",
    "\n",
    "qc = measure_bell_basis(qc)\n",
    "qc.draw(output=\"mpl\", fold=-1, scale=0.5)"
   ]
  },
  {
   "cell_type": "markdown",
   "id": "f0d7059b",
   "metadata": {},
   "source": [
    "### (iv) Next, apply feedforward corrections to correct Pauli byproduct operators\n",
    "\n",
    "The Bell-basis measurements introduce Pauli byproducts that must be corrected using the recorded outcomes. This is done in two steps. First, we need to compute the parity of all $ZZ$ measurements, which is then used to conditionally apply an $X$ gate to the target qubit. Likewise, the parity of the $XX$ measurements is computed and used to conditionally apply a $Z$ gate to the control qubit.\n",
    "\n",
    "With the new classical expression framework in Qiskit, these parities can be computed directly in the classical processing layer of the circuit. Instead of applying a sequence of individual conditional gates for each measurement bit, we can build a single classical expression that represents the XOR (parity) of all relevant measurement outcomes. This expression is then used as the condition in a single `if_test` block, allowing the correction gates to be applied in constant depth. This approach both simplifies the circuit and ensures that the feedforward corrections do not introduce unnecessary additional latency."
   ]
  },
  {
   "cell_type": "code",
   "execution_count": 5,
   "id": "4915791a",
   "metadata": {},
   "outputs": [
    {
     "data": {
      "text/plain": [
       "<Image src=\"/docs/images/tutorials/lrcx-with-parallel-bell-pairs/extracted-outputs/4915791a-0.avif\" alt=\"Output of the previous code cell\" />"
      ]
     },
     "execution_count": 5,
     "metadata": {},
     "output_type": "execute_result"
    }
   ],
   "source": [
    "def apply_ffwd_corrections(qc):\n",
    "    control = 0  # control qubit\n",
    "    target = qc.num_qubits - 1  # target qubit\n",
    "    n = qc.num_qubits - 2  # number of qubits between target and control\n",
    "\n",
    "    k = int(n / 2)\n",
    "    x0 = check_even(n)\n",
    "\n",
    "    if n > 1:\n",
    "        _, c1, c2 = qc.cregs\n",
    "    elif n > 0:\n",
    "        _, c2 = qc.cregs\n",
    "\n",
    "    # First, let's compute the parity of all ZZ measurements\n",
    "    for i in range(k):\n",
    "        if i == 0:\n",
    "            parity_ZZ = expr.lift(\n",
    "                c1[i]\n",
    "            )  # Store the value of the first ZZ measurement in parity_ZZ\n",
    "        else:\n",
    "            parity_ZZ = expr.bit_xor(\n",
    "                c1[i], parity_ZZ\n",
    "            )  # Successively compute the parity via XOR operations\n",
    "\n",
    "    for i in range(1, k + x0):\n",
    "        if i == 1:\n",
    "            parity_XX = expr.lift(\n",
    "                c2[i - 1]\n",
    "            )  # Store the value of the first XX measurement in parity_XX\n",
    "        else:\n",
    "            parity_XX = expr.bit_xor(\n",
    "                c2[i - 1], parity_XX\n",
    "            )  # Successively compute the parity via XOR operations\n",
    "\n",
    "    if n > 0:\n",
    "        with qc.if_test(parity_XX):\n",
    "            qc.z(control)\n",
    "\n",
    "    if n > 1:\n",
    "        with qc.if_test(parity_ZZ):\n",
    "            qc.x(target)\n",
    "    return qc\n",
    "\n",
    "\n",
    "qc = apply_ffwd_corrections(qc)\n",
    "qc.draw(output=\"mpl\", fold=-1, scale=0.5)"
   ]
  },
  {
   "cell_type": "markdown",
   "id": "6d22740b",
   "metadata": {},
   "source": [
    "### (v) Finally, measure control and target qubits\n",
    "We define a helper function that enables measurement of the control and target qubits in the $XX$, $YY$, or $ZZ$ bases. For verifying the Bell state $(|00\\rangle + |11\\rangle)/\\sqrt{2}$, the expectation values of $XX$ and $ZZ$ should both be $+1$, since they are stabilizers of the state. The $YY$ measurement is also supported here and will be used below when computing the fidelity."
   ]
  },
  {
   "cell_type": "code",
   "execution_count": 6,
   "id": "d087d7c1",
   "metadata": {},
   "outputs": [
    {
     "data": {
      "text/plain": [
       "<Image src=\"/docs/images/tutorials/lrcx-with-parallel-bell-pairs/extracted-outputs/d087d7c1-0.avif\" alt=\"Output of the previous code cell\" />"
      ]
     },
     "metadata": {},
     "output_type": "display_data"
    }
   ],
   "source": [
    "def measure_in_basis(qc, basis=\"XX\", add_barrier=True):\n",
    "    control = 0  # control qubit\n",
    "    target = qc.num_qubits - 1  # target qubit\n",
    "\n",
    "    assert basis in [\"XX\", \"YY\", \"ZZ\"]\n",
    "\n",
    "    qc = (\n",
    "        qc.copy()\n",
    "    )  # We copy the circuit because we want to measure in different bases\n",
    "    cr = qc.cregs[0]\n",
    "\n",
    "    if add_barrier:\n",
    "        qc.barrier()\n",
    "\n",
    "    if basis == \"XX\":\n",
    "        qc.h(control)\n",
    "        qc.h(target)\n",
    "    elif basis == \"YY\":\n",
    "        qc.sdg(control)\n",
    "        qc.sdg(target)\n",
    "        qc.h(control)\n",
    "        qc.h(target)\n",
    "\n",
    "    qc.measure(control, cr[0])\n",
    "    qc.measure(target, cr[1])\n",
    "    return qc\n",
    "\n",
    "\n",
    "qc_YY = measure_in_basis(qc.copy(), basis=\"YY\")\n",
    "display(\n",
    "    qc_YY.draw(output=\"mpl\", fold=-1, scale=0.5)\n",
    ")  # Circuit for measuring in the YY basis"
   ]
  },
  {
   "cell_type": "markdown",
   "id": "072f8605",
   "metadata": {},
   "source": [
    "### Put it all together\n",
    "We combine the various steps defined above to create a long-range CX gate on two ends of an 1D line. The steps include\n",
    "- Initializing the control qubit in $\\\\ket{+}$\n",
    "- Preparing Bell pairs\n",
    "- Measuring neighboring qubit pairs\n",
    "- Applying feedforward corrections dependent on the MCMs"
   ]
  },
  {
   "cell_type": "code",
   "execution_count": 7,
   "id": "11fc8adc",
   "metadata": {},
   "outputs": [
    {
     "data": {
      "text/plain": [
       "<Image src=\"/docs/images/tutorials/lrcx-with-parallel-bell-pairs/extracted-outputs/11fc8adc-0.avif\" alt=\"Output of the previous code cell\" />"
      ]
     },
     "metadata": {},
     "output_type": "display_data"
    }
   ],
   "source": [
    "def lrcx(distance, prep_barrier=True, pre_measure_barrier=True):\n",
    "    qc = initialize_circuit(distance)\n",
    "    qc = prepare_bell_pairs(qc, prep_barrier)\n",
    "    qc = measure_bell_basis(qc, pre_measure_barrier)\n",
    "    qc = apply_ffwd_corrections(qc)\n",
    "    return qc\n",
    "\n",
    "\n",
    "qc = lrcx(distance)\n",
    "# Apply the measurement in the XX, YY, and ZZ bases\n",
    "qc_XX, qc_YY, qc_ZZ = [\n",
    "    measure_in_basis(qc, basis=basis) for basis in [\"XX\", \"YY\", \"ZZ\"]\n",
    "]\n",
    "\n",
    "display(\n",
    "    qc_YY.draw(output=\"mpl\", fold=-1, scale=0.5)\n",
    ")  # Circuit for measuring in the YY basis"
   ]
  },
  {
   "cell_type": "markdown",
   "id": "ad4224f2",
   "metadata": {},
   "source": [
    "### Generate circuits for different distances\n",
    "\n",
    "We now generate long-range CX circuits for a range of qubit separations. For each distance, we build circuits that measure in the $XX$, $YY$, and $ZZ$ bases, which will later be used to compute fidelities.\n",
    "\n",
    "The list of distances includes both short- and long-range separations, with `distance = 0` corresponding to a nearest-neighbor CX. These same distances will also be used to generate the corresponding unitary circuits later for comparison."
   ]
  },
  {
   "cell_type": "code",
   "execution_count": 8,
   "id": "72c70b11",
   "metadata": {},
   "outputs": [
    {
     "name": "stdout",
     "output_type": "stream",
     "text": [
      "Number of circuits: 39\n"
     ]
    },
    {
     "data": {
      "text/plain": [
       "<Image src=\"/docs/images/tutorials/lrcx-with-parallel-bell-pairs/extracted-outputs/72c70b11-1.avif\" alt=\"Output of the previous code cell\" />"
      ]
     },
     "execution_count": 8,
     "metadata": {},
     "output_type": "execute_result"
    }
   ],
   "source": [
    "distances = [\n",
    "    0,\n",
    "    1,\n",
    "    2,\n",
    "    3,\n",
    "    6,\n",
    "    11,\n",
    "    16,\n",
    "    21,\n",
    "    28,\n",
    "    35,\n",
    "    44,\n",
    "    55,\n",
    "    60,\n",
    "]  # Distances for long range CX. distance of 0 is a nearest-neighbor CX\n",
    "distances.sort()\n",
    "assert (\n",
    "    min(distances) >= 0\n",
    ")  # Only works for distance larger than 2 because classical register cannot be empty\n",
    "basis_list = [\"XX\", \"YY\", \"ZZ\"]\n",
    "\n",
    "circuits_dyn = []\n",
    "for distance in distances:\n",
    "    for basis in basis_list:\n",
    "        circuits_dyn.append(\n",
    "            measure_in_basis(lrcx(distance, prep_barrier=False), basis=basis)\n",
    "        )\n",
    "print(f\"Number of circuits: {len(circuits_dyn)}\")\n",
    "circuits_dyn[14].draw(fold=-1, output=\"mpl\", idle_wires=False)"
   ]
  },
  {
   "cell_type": "markdown",
   "id": "2b1f3f70",
   "metadata": {},
   "source": [
    "#### Unitary-based implementation swapping the qubits to the middle\n",
    "\n",
    "For comparison, we first examine the case where a long-range CNOT gate is implemented using nearest-neighbor connections and unitary gates. In the following figure, on the left is a circuit for a long-range CNOT gate spanning a 1D chain of n-qubits subject to nearest-neighbor connections only. On the middle is an equivalent unitary decomposition implementable with local CNOT gates, circuit depth $O(n)$.\n",
    "\n",
    "![Long-range CNOT circuit](/docs/images/tutorials/long-range-entanglement-with-limited-qubit-connectivity/dynamic_vs_unitary_long_range_illustration.avif)\n",
    "\n",
    "The circuit on the middle can be implemented as follows:"
   ]
  },
  {
   "cell_type": "code",
   "execution_count": 9,
   "id": "3f816591",
   "metadata": {},
   "outputs": [],
   "source": [
    "def cnot_unitary(distance):\n",
    "    \"\"\"Generate a long range CNOT gate using local CNOTs on a 1D chain of qubits subject to n\n",
    "    nearest-neighbor connections only.\n",
    "\n",
    "\n",
    "    Args:\n",
    "        distance (int) : The distance of the CNOT gate, with the convention that a distance of 0 is a nearest-neighbor CNOT.\n",
    "\n",
    "    Returns:\n",
    "        QuantumCircuit: A Quantum Circuit implementing a long-range CNOT gate between qubit 0 and qubit distance+1\n",
    "    \"\"\"\n",
    "    assert distance >= 0\n",
    "    n = distance  # number of qubits between target and control\n",
    "\n",
    "    qr = QuantumRegister(\n",
    "        n + 2, name=\"q\"\n",
    "    )  # Circuit with n qubits between control and target\n",
    "    cr = ClassicalRegister(\n",
    "        2, name=\"cr\"\n",
    "    )  # Classical register for measuring control and target qubits\n",
    "\n",
    "    qc = QuantumCircuit(qr, cr, name=\"CNOT_unitary\")\n",
    "\n",
    "    control_qubit = 0\n",
    "\n",
    "    qc.h(control_qubit)  # Prepare the control qubit in the |+> state\n",
    "\n",
    "    k = int(n / 2)\n",
    "    qc.barrier()\n",
    "    for i in range(control_qubit, control_qubit + k):\n",
    "        qc.cx(i, i + 1)\n",
    "        qc.cx(i + 1, i)\n",
    "        qc.cx(-i - 1, -i - 2)\n",
    "        qc.cx(-i - 2, -i - 1)\n",
    "    if n % 2 == 1:\n",
    "        qc.cx(k + 2, k + 1)\n",
    "        qc.cx(k + 1, k + 2)\n",
    "    qc.barrier()\n",
    "    qc.cx(k, k + 1)\n",
    "    for i in range(control_qubit, control_qubit + k):\n",
    "        qc.cx(k - i, k - 1 - i)\n",
    "        qc.cx(k - 1 - i, k - i)\n",
    "        qc.cx(k + i + 1, k + i + 2)\n",
    "        qc.cx(k + i + 2, k + i + 1)\n",
    "    if n % 2 == 1:\n",
    "        qc.cx(-2, -1)\n",
    "        qc.cx(-1, -2)\n",
    "\n",
    "    return qc"
   ]
  },
  {
   "cell_type": "markdown",
   "id": "33968c37",
   "metadata": {},
   "source": [
    "Now build all unitary circuits, and build the circuits that measure in the $XX$, $YY$, and $ZZ$ bases, just like we did for the dynamic circuits above."
   ]
  },
  {
   "cell_type": "code",
   "execution_count": 10,
   "id": "d6154b1c",
   "metadata": {},
   "outputs": [
    {
     "name": "stdout",
     "output_type": "stream",
     "text": [
      "Number of circuits: 39\n"
     ]
    },
    {
     "data": {
      "text/plain": [
       "<Image src=\"/docs/images/tutorials/lrcx-with-parallel-bell-pairs/extracted-outputs/d6154b1c-1.avif\" alt=\"Output of the previous code cell\" />"
      ]
     },
     "execution_count": 10,
     "metadata": {},
     "output_type": "execute_result"
    }
   ],
   "source": [
    "circuits_uni = []\n",
    "for distance in distances:\n",
    "    for basis in basis_list:\n",
    "        circuits_uni.append(\n",
    "            measure_in_basis(cnot_unitary(distance), basis=basis)\n",
    "        )\n",
    "\n",
    "print(f\"Number of circuits: {len(circuits_uni)}\")\n",
    "circuits_uni[14].draw(fold=-1, output=\"mpl\", idle_wires=False)"
   ]
  },
  {
   "cell_type": "markdown",
   "id": "698132a5",
   "metadata": {},
   "source": [
    "Now that we have both dynamic and unitary circuits for a range of distances, we are ready for transpilation. We first need to select a backend device."
   ]
  },
  {
   "cell_type": "code",
   "execution_count": null,
   "id": "e0476bef",
   "metadata": {},
   "outputs": [],
   "source": [
    "# Set up access to IBM Quantum devices\n",
    "from qiskit.circuit import IfElseOp\n",
    "\n",
    "service = QiskitRuntimeService()\n",
    "backend_name = \"ibm_kingston\"\n",
    "backend = service.backend(backend_name)"
   ]
  },
  {
   "cell_type": "markdown",
   "id": "dad36db5",
   "metadata": {},
   "source": [
    "The following step ensures that the backend supports the `if_else` instruction, which is required for the newer version of dynamic circuits. Since this feature is still in early access, we explicitly add the `IfElseOp` to the backend target if it is not already available."
   ]
  },
  {
   "cell_type": "code",
   "execution_count": 12,
   "id": "66805cb4",
   "metadata": {},
   "outputs": [],
   "source": [
    "if \"if_else\" not in backend.target.operation_names:\n",
    "    backend.target.add_instruction(IfElseOp, name=\"if_else\")"
   ]
  },
  {
   "cell_type": "markdown",
   "id": "f15cf5e8",
   "metadata": {},
   "source": [
    "#### Use Layer Fidelity string for selecting 1D chain\n",
    "Since we want to compare the performance of dynamic and unitary circuits on a 1D chain, we use the Layer Fidelity string to select a linear topology of the best chain of qubits from the device. This ensures that both types of circuits are transpiled under the same connectivity constraints, allowing for a fair comparison of their performance."
   ]
  },
  {
   "cell_type": "code",
   "execution_count": 13,
   "id": "258e3fa1",
   "metadata": {},
   "outputs": [
    {
     "name": "stdout",
     "output_type": "stream",
     "text": [
      "[10, 11, 12, 13, 14, 15, 19, 35, 34, 33, 39, 53, 54, 55, 59, 75, 74, 73, 72, 71, 58, 51, 50, 49, 48, 47, 46, 45, 44, 43, 56, 63, 62, 61, 76, 81, 82, 83, 84, 85, 77, 65, 66, 67, 68, 69, 78, 89, 90, 91, 98, 111, 110, 109, 108, 107, 106, 105, 104, 103, 102, 101]\n"
     ]
    }
   ],
   "source": [
    "# This selects best qubits for longest distance and uses the same control for all lengths\n",
    "lf_qubits = backend.properties().to_dict()[\n",
    "    \"general_qlists\"\n",
    "]  # best linear chain qubits\n",
    "chosen_layouts = {\n",
    "    distance: [\n",
    "        val[\"qubits\"]\n",
    "        for val in lf_qubits\n",
    "        if val[\"name\"] == f\"lf_{distances[-1] + 2}\"\n",
    "    ][0][: distance + 2]\n",
    "    for distance in distances\n",
    "}\n",
    "print(chosen_layouts[max(distances)])  # best qubits at each distance"
   ]
  },
  {
   "cell_type": "code",
   "execution_count": 14,
   "id": "5886f5c9",
   "metadata": {},
   "outputs": [],
   "source": [
    "isa_circuits_dyn = []\n",
    "isa_circuits_uni = []\n",
    "\n",
    "# Using the same initial layouts for both circuits for better apples to apples comparison\n",
    "for qc in circuits_dyn:\n",
    "    pm = generate_preset_pass_manager(\n",
    "        optimization_level=1,\n",
    "        backend=backend,\n",
    "        initial_layout=chosen_layouts[qc.num_qubits - 2],\n",
    "    )\n",
    "    isa_circuits_dyn.append(pm.run(qc))\n",
    "\n",
    "for qc in circuits_uni:\n",
    "    pm = generate_preset_pass_manager(\n",
    "        optimization_level=1,\n",
    "        backend=backend,\n",
    "        initial_layout=chosen_layouts[qc.num_qubits - 2],\n",
    "    )\n",
    "    isa_circuits_uni.append(pm.run(qc))"
   ]
  },
  {
   "cell_type": "code",
   "execution_count": 15,
   "id": "c77c3fd3",
   "metadata": {},
   "outputs": [
    {
     "name": "stdout",
     "output_type": "stream",
     "text": [
      "2Q depth: 2\n"
     ]
    },
    {
     "data": {
      "text/plain": [
       "<Image src=\"/docs/images/tutorials/lrcx-with-parallel-bell-pairs/extracted-outputs/c77c3fd3-1.avif\" alt=\"Output of the previous code cell\" />"
      ]
     },
     "execution_count": 15,
     "metadata": {},
     "output_type": "execute_result"
    }
   ],
   "source": [
    "print(\n",
    "    f\"2Q depth: {isa_circuits_dyn[14].depth(lambda x: x.operation.num_qubits == 2)}\"\n",
    ")\n",
    "isa_circuits_dyn[14].draw(\"mpl\", fold=-1, idle_wires=0)"
   ]
  },
  {
   "cell_type": "code",
   "execution_count": 16,
   "id": "7e5fc240",
   "metadata": {},
   "outputs": [
    {
     "name": "stdout",
     "output_type": "stream",
     "text": [
      "2Q depth: 13\n"
     ]
    },
    {
     "data": {
      "text/plain": [
       "<Image src=\"/docs/images/tutorials/lrcx-with-parallel-bell-pairs/extracted-outputs/7e5fc240-1.avif\" alt=\"Output of the previous code cell\" />"
      ]
     },
     "execution_count": 16,
     "metadata": {},
     "output_type": "execute_result"
    }
   ],
   "source": [
    "print(\n",
    "    f\"2Q depth: {isa_circuits_uni[14].depth(lambda x: x.operation.num_qubits == 2)}\"\n",
    ")\n",
    "isa_circuits_uni[14].draw(\"mpl\", fold=-1, idle_wires=False)"
   ]
  },
  {
   "cell_type": "markdown",
   "id": "b6995ce7",
   "metadata": {},
   "source": [
    "### Visualize qubits used for the LRCX circuit\n",
    "\n",
    "In this section, we examine how the LRCX circuit is mapped onto hardware. We start by visualizing the physical qubits used in the circuit and then study how the control–target distance in the layout impacts the number of operations."
   ]
  },
  {
   "cell_type": "code",
   "execution_count": 17,
   "id": "2d090f8a",
   "metadata": {},
   "outputs": [
    {
     "data": {
      "text/plain": [
       "<Image src=\"/docs/images/tutorials/lrcx-with-parallel-bell-pairs/extracted-outputs/2d090f8a-0.avif\" alt=\"Output of the previous code cell\" />"
      ]
     },
     "execution_count": 17,
     "metadata": {},
     "output_type": "execute_result"
    }
   ],
   "source": [
    "# Note: the qubit coordinates must be hard-coded.\n",
    "# The backend API does not currently provide this information directly.\n",
    "# If using a different backend, you will need to adjust the coordinates accordingly,\n",
    "# or set the qubit_coordinates = None to use the default layout coordinates.\n",
    "\n",
    "\n",
    "def _heron_coords_r2():\n",
    "    \"\"\"Generate coordinates for the Heron layout in R2. Note\"\"\"\n",
    "    cord_map = np.array(\n",
    "        [\n",
    "            [\n",
    "                0,\n",
    "                1,\n",
    "                2,\n",
    "                3,\n",
    "                4,\n",
    "                5,\n",
    "                6,\n",
    "                7,\n",
    "                8,\n",
    "                9,\n",
    "                10,\n",
    "                11,\n",
    "                12,\n",
    "                13,\n",
    "                14,\n",
    "                15,\n",
    "                3,\n",
    "                7,\n",
    "                11,\n",
    "                15,\n",
    "                0,\n",
    "                1,\n",
    "                2,\n",
    "                3,\n",
    "                4,\n",
    "                5,\n",
    "                6,\n",
    "                7,\n",
    "                8,\n",
    "                9,\n",
    "                10,\n",
    "                11,\n",
    "                12,\n",
    "                13,\n",
    "                14,\n",
    "                15,\n",
    "                1,\n",
    "                5,\n",
    "                9,\n",
    "                13,\n",
    "                0,\n",
    "                1,\n",
    "                2,\n",
    "                3,\n",
    "                4,\n",
    "                5,\n",
    "                6,\n",
    "                7,\n",
    "                8,\n",
    "                9,\n",
    "                10,\n",
    "                11,\n",
    "                12,\n",
    "                13,\n",
    "                14,\n",
    "                15,\n",
    "                3,\n",
    "                7,\n",
    "                11,\n",
    "                15,\n",
    "                0,\n",
    "                1,\n",
    "                2,\n",
    "                3,\n",
    "                4,\n",
    "                5,\n",
    "                6,\n",
    "                7,\n",
    "                8,\n",
    "                9,\n",
    "                10,\n",
    "                11,\n",
    "                12,\n",
    "                13,\n",
    "                14,\n",
    "                15,\n",
    "                1,\n",
    "                5,\n",
    "                9,\n",
    "                13,\n",
    "                0,\n",
    "                1,\n",
    "                2,\n",
    "                3,\n",
    "                4,\n",
    "                5,\n",
    "                6,\n",
    "                7,\n",
    "                8,\n",
    "                9,\n",
    "                10,\n",
    "                11,\n",
    "                12,\n",
    "                13,\n",
    "                14,\n",
    "                15,\n",
    "                3,\n",
    "                7,\n",
    "                11,\n",
    "                15,\n",
    "                0,\n",
    "                1,\n",
    "                2,\n",
    "                3,\n",
    "                4,\n",
    "                5,\n",
    "                6,\n",
    "                7,\n",
    "                8,\n",
    "                9,\n",
    "                10,\n",
    "                11,\n",
    "                12,\n",
    "                13,\n",
    "                14,\n",
    "                15,\n",
    "                1,\n",
    "                5,\n",
    "                9,\n",
    "                13,\n",
    "                0,\n",
    "                1,\n",
    "                2,\n",
    "                3,\n",
    "                4,\n",
    "                5,\n",
    "                6,\n",
    "                7,\n",
    "                8,\n",
    "                9,\n",
    "                10,\n",
    "                11,\n",
    "                12,\n",
    "                13,\n",
    "                14,\n",
    "                15,\n",
    "                3,\n",
    "                7,\n",
    "                11,\n",
    "                15,\n",
    "                0,\n",
    "                1,\n",
    "                2,\n",
    "                3,\n",
    "                4,\n",
    "                5,\n",
    "                6,\n",
    "                7,\n",
    "                8,\n",
    "                9,\n",
    "                10,\n",
    "                11,\n",
    "                12,\n",
    "                13,\n",
    "                14,\n",
    "                15,\n",
    "            ],\n",
    "            -1\n",
    "            * np.array([j for i in range(15) for j in [i] * [16, 4][i % 2]]),\n",
    "        ],\n",
    "        dtype=int,\n",
    "    )\n",
    "\n",
    "    hcords = []\n",
    "    ycords = cord_map[0]\n",
    "    xcords = cord_map[1]\n",
    "    for i in range(156):\n",
    "        hcords.append([xcords[i] + 1, np.abs(ycords[i]) + 1])\n",
    "\n",
    "    return hcords\n",
    "\n",
    "\n",
    "# Visualize the active qubits in the circuit layout\n",
    "plot_circuit_layout(\n",
    "    circuit=isa_circuits_uni[-1],\n",
    "    backend=backend,\n",
    "    view=\"physical\",\n",
    "    qubit_coordinates=_heron_coords_r2(),\n",
    ")"
   ]
  },
  {
   "cell_type": "markdown",
   "id": "4d75038a",
   "metadata": {},
   "source": [
    "## Step 3: Execute using Qiskit primitives\n",
    "\n",
    "In this step, we execute the experiment on the specified backend. To access the latest dynamic circuit capabilities, the `gen3-experimental` execution path must be specified. We also make use of batching to efficiently run the experiment across multiple trials. Running repeated trials allows us to compute averages for a more accurate comparison between the unitary and dynamic methods, as well as to quantify their variability by comparing the deviations across runs."
   ]
  },
  {
   "cell_type": "code",
   "execution_count": 18,
   "id": "af2efae1",
   "metadata": {},
   "outputs": [
    {
     "name": "stdout",
     "output_type": "stream",
     "text": [
      "ibm_kingston\n"
     ]
    }
   ],
   "source": [
    "print(backend.name)"
   ]
  },
  {
   "cell_type": "markdown",
   "id": "1acff2ee",
   "metadata": {},
   "source": [
    "Select number of trials and perform batch execution."
   ]
  },
  {
   "cell_type": "code",
   "execution_count": 19,
   "id": "e6f7811d",
   "metadata": {},
   "outputs": [],
   "source": [
    "num_trials = 10\n",
    "jobs_uni = []\n",
    "jobs_dyn = []\n",
    "with Batch(backend=backend) as batch:\n",
    "    sampler = Sampler(mode=batch)\n",
    "    sampler.options.experimental = {\"execution_path\": \"gen3-experimental\"}\n",
    "    for _ in range(num_trials):\n",
    "        jobs_uni.append(sampler.run(isa_circuits_uni, shots=1024))\n",
    "        jobs_dyn.append(sampler.run(isa_circuits_dyn, shots=1024))"
   ]
  },
  {
   "cell_type": "markdown",
   "id": "5287f612",
   "metadata": {},
   "source": [
    "## Step 4: Post-process and return result in desired classical format\n",
    "After the experiments have successfully executed, we now post-process the measurement counts to extract meaningful metrics.\n",
    "In this step, we:\n",
    "\n",
    "- Define quality metrics for evaluating the performance of the long-range CX.\n",
    "- Compute expectation values of Pauli operators from raw measurement outcomes.\n",
    "- Use these to calculate the fidelity of the generated Bell state.\n",
    "\n",
    "This analysis provides a clear picture of how well the dynamic circuits perform relative to the unitary baseline implementation."
   ]
  },
  {
   "cell_type": "markdown",
   "id": "4ba303da",
   "metadata": {},
   "source": [
    "### Quality metrics\n",
    "\n",
    "To evaluate the success of the long-range CX protocol, we measure how close the output state is to the ideal Bell state. A convenient way to quantify this is by computing the state fidelity using expectation values of Pauli operators. Fidelity for a Bell state on the control and target state can be computed after knowing the $\\braket{XX}$, $\\braket{YY}$, and $\\braket{ZZ}$. In particular,\n",
    "\n",
    "$$ F = \\frac{1}{4} (1 + \\braket{XX} - \\braket{YY} + \\braket{ZZ})$$\n",
    "\n",
    "To compute these expectation values from raw measurement data, we define a set of helper functions:\n",
    "\n",
    "- **`compute_ZZ_expectation`**: Given measurement counts, computes the expectation value of a two-qubit Pauli operator in the $Z$ basis.\n",
    "- **`compute_fidelity`**: Combines the expectation values of $XX$, $YY$, and $ZZ$ into the fidelity expression above.\n",
    "- **`get_counts_from_bitarray`**: Utility to extract counts from backend result objects."
   ]
  },
  {
   "cell_type": "code",
   "execution_count": 20,
   "id": "5645a9be",
   "metadata": {},
   "outputs": [],
   "source": [
    "def compute_ZZ_expectation(counts):\n",
    "    total = sum(counts.values())\n",
    "    expectation = 0\n",
    "    for bitstring, count in counts.items():\n",
    "        # Ensure bitstring is 2 bits\n",
    "        z1 = (-1) ** (int(bitstring[-1]))\n",
    "        z2 = (-1) ** (int(bitstring[-2]))\n",
    "        expectation += z1 * z2 * count\n",
    "    return expectation / total\n",
    "\n",
    "\n",
    "def compute_fidelity(counts_xx, counts_yy, counts_zz):\n",
    "    xx, yy, zz = [\n",
    "        compute_ZZ_expectation(c) for c in [counts_xx, counts_yy, counts_zz]\n",
    "    ]\n",
    "    return 1 / 4 * (1 + xx - yy + zz)"
   ]
  },
  {
   "cell_type": "markdown",
   "id": "388b6a87",
   "metadata": {},
   "source": [
    "We compute the fidelity for the dynamic long-range CX circuits.  For each distance, we extract measurement outcomes in the $\\braket{XX}$, $\\braket{YY}$, and $\\braket{ZZ}$ bases. These results are combined using the previously defined helper functions to calculate the fidelity according to  $F = \\tfrac{1}{4} \\big( 1 + \\langle XX \\rangle - \\langle YY \\rangle + \\langle ZZ \\rangle \\big)$. This provides the observed fidelity of the dynamically executed protocol at each distance."
   ]
  },
  {
   "cell_type": "code",
   "execution_count": 21,
   "id": "10245513",
   "metadata": {},
   "outputs": [],
   "source": [
    "fidelities_dyn = []\n",
    "\n",
    "# loop over trials\n",
    "for job in jobs_dyn:\n",
    "    result_dyn = job.result()\n",
    "    trial_fidelities = []\n",
    "    # loop over all distances\n",
    "    for ind, dist in enumerate(distances):\n",
    "        counts_xx = result_dyn[ind * 3].data.cr.get_counts()\n",
    "        counts_yy = result_dyn[ind * 3 + 1].data.cr.get_counts()\n",
    "        counts_zz = result_dyn[ind * 3 + 2].data.cr.get_counts()\n",
    "        trial_fidelities.append(\n",
    "            compute_fidelity(counts_xx, counts_yy, counts_zz)\n",
    "        )\n",
    "    fidelities_dyn.append(trial_fidelities)\n",
    "# average over trials for each distance\n",
    "avg_fidelities_dyn = np.mean(fidelities_dyn, axis=0)\n",
    "std_fidelities_dyn = np.std(fidelities_dyn, axis=0)"
   ]
  },
  {
   "cell_type": "markdown",
   "id": "dabcde16",
   "metadata": {},
   "source": [
    "Now we compute the fidelity for the unitary long-range CX circuits, and we do it the same way as we did for the dynamic circuits above."
   ]
  },
  {
   "cell_type": "code",
   "execution_count": 22,
   "id": "decaf83a",
   "metadata": {},
   "outputs": [],
   "source": [
    "fidelities_uni = []\n",
    "\n",
    "# loop over trials\n",
    "for job in jobs_uni:\n",
    "    result_uni = job.result()\n",
    "    trial_fidelities = []\n",
    "    # loop over all distances\n",
    "    for ind, dist in enumerate(distances):\n",
    "        counts_xx = result_uni[ind * 3].data.cr.get_counts()\n",
    "        counts_yy = result_uni[ind * 3 + 1].data.cr.get_counts()\n",
    "        counts_zz = result_uni[ind * 3 + 2].data.cr.get_counts()\n",
    "        trial_fidelities.append(\n",
    "            compute_fidelity(counts_xx, counts_yy, counts_zz)\n",
    "        )\n",
    "    fidelities_uni.append(trial_fidelities)\n",
    "# average over trials for each distance\n",
    "avg_fidelities_uni = np.mean(fidelities_uni, axis=0)\n",
    "std_fidelities_uni = np.std(fidelities_uni, axis=0)"
   ]
  },
  {
   "cell_type": "markdown",
   "id": "a9dadc4e",
   "metadata": {},
   "source": [
    "### Plot the results\n",
    "To appreciate the results visually, the cell below plots the estimated gate fidelities measured at varying distance between entangled qubits for the methods."
   ]
  },
  {
   "cell_type": "code",
   "execution_count": 23,
   "id": "724da22d",
   "metadata": {},
   "outputs": [
    {
     "data": {
      "text/plain": [
       "<Image src=\"/docs/images/tutorials/lrcx-with-parallel-bell-pairs/extracted-outputs/724da22d-0.avif\" alt=\"Output of the previous code cell\" />"
      ]
     },
     "metadata": {},
     "output_type": "display_data"
    }
   ],
   "source": [
    "fig, ax = plt.subplots()\n",
    "\n",
    "# Unitary with error bars\n",
    "ax.errorbar(\n",
    "    distances,\n",
    "    avg_fidelities_uni,\n",
    "    yerr=std_fidelities_uni,\n",
    "    fmt=\"o-.\",\n",
    "    color=\"c\",\n",
    "    ecolor=\"c\",\n",
    "    elinewidth=1,\n",
    "    capsize=4,\n",
    "    label=\"Unitary\",\n",
    ")\n",
    "# Dynamic with error bars\n",
    "ax.errorbar(\n",
    "    distances,\n",
    "    avg_fidelities_dyn,\n",
    "    yerr=std_fidelities_dyn,\n",
    "    fmt=\"o-.\",\n",
    "    color=\"m\",\n",
    "    ecolor=\"m\",\n",
    "    elinewidth=1,\n",
    "    capsize=4,\n",
    "    label=\"Dynamic\",\n",
    ")\n",
    "# Random gate baseline\n",
    "ax.axhline(y=1 / 4, linestyle=\"--\", color=\"gray\", label=\"Random gate\")\n",
    "\n",
    "legend = ax.legend(frameon=True)\n",
    "for text in legend.get_texts():\n",
    "    text.set_color(\"black\")\n",
    "legend.get_frame().set_facecolor(\"white\")\n",
    "legend.get_frame().set_edgecolor(\"black\")\n",
    "ax.set_title(\n",
    "    \"Bell State Fidelity vs Control–Target Separation\", color=\"black\"\n",
    ")\n",
    "ax.set_xlabel(\"Distance\", color=\"black\")\n",
    "ax.set_ylabel(\"Bell state fidelity\", color=\"black\")\n",
    "ax.grid(linestyle=\":\", linewidth=0.6, alpha=0.4, color=\"gray\")\n",
    "ax.set_ylim((0.2, 1))\n",
    "ax.set_facecolor(\"white\")\n",
    "fig.patch.set_facecolor(\"white\")\n",
    "for spine in ax.spines.values():\n",
    "    spine.set_visible(True)\n",
    "    spine.set_color(\"black\")\n",
    "ax.tick_params(axis=\"x\", colors=\"black\")\n",
    "ax.tick_params(axis=\"y\", colors=\"black\")\n",
    "plt.show()"
   ]
  },
  {
   "cell_type": "markdown",
   "id": "bb2545e7",
   "metadata": {},
   "source": [
    "From the fidelity plot above, the LRCX did not consistently outperform the direct unitary implementation. In fact, for short control–target separations, the unitary circuit achieved higher fidelity. However, at larger separations, the dynamic circuit begins to achieve better fidelity than the unitary implementation. This behavior is not unexpected on current hardware: while dynamic circuits reduce circuit depth by avoiding long SWAP chains, they introduce additional circuit time from mid-circuit measurements, classical feedforward, and control-path delays. The added latency increases decoherence and readout errors, which can outweigh the depth savings at short distances.\n",
    "\n",
    "Nevertheless, we observe a crossover point where the dynamic approach surpasses the unitary one. This is a direct result of the different scaling: the depth of the unitary circuit grows linearly with the distance between qubits, while the depth of the dynamic circuit remains constant.\n",
    "\n",
    "**Key points:**\n",
    "- **Immediate benefit of dynamic circuits:** The main present-day motivation is reduced *two-qubit depth*, not necessarily improved fidelity.\n",
    "- **Why fidelity can be worse today:** Increased circuit time from measurement and classical operations often dominates, especially when the control–target separation is small.\n",
    "- **Looking forward:** As hardware improves, specifically faster readout, shorter classical control latency, and reduced mid-circuit overhead, we should expect these depth and duration reductions to translate into measurable fidelity gains."
   ]
  },
  {
   "cell_type": "code",
   "execution_count": 24,
   "id": "3dcff343",
   "metadata": {},
   "outputs": [
    {
     "data": {
      "text/plain": [
       "<Image src=\"/docs/images/tutorials/lrcx-with-parallel-bell-pairs/extracted-outputs/3dcff343-0.avif\" alt=\"Output of the previous code cell\" />"
      ]
     },
     "metadata": {},
     "output_type": "display_data"
    }
   ],
   "source": [
    "# Compute metrics for each distance, skipping the basis circuits since they are identical for each distance\n",
    "depths_2q_dyn = [\n",
    "    c.depth(lambda x: x.operation.num_qubits == 2)\n",
    "    for c in isa_circuits_dyn[::3]\n",
    "]\n",
    "meas_dyn = [\n",
    "    sum(1 for instr in c.data if instr.operation.name == \"measure\")\n",
    "    for c in isa_circuits_dyn[::3]\n",
    "]\n",
    "\n",
    "depths_2q_uni = [\n",
    "    c.depth(lambda x: x.operation.num_qubits == 2)\n",
    "    for c in isa_circuits_uni[::3]\n",
    "]\n",
    "meas_uni = [\n",
    "    sum(1 for instr in c.data if instr.operation.name == \"measure\")\n",
    "    for c in isa_circuits_uni[::3]\n",
    "]\n",
    "\n",
    "fig, axes = plt.subplots(1, 2, figsize=(12, 5))\n",
    "\n",
    "axes[0].plot(\n",
    "    distances, depths_2q_uni, \"o-.\", color=\"c\", label=\"Unitary (2Q depth)\"\n",
    ")\n",
    "axes[0].plot(\n",
    "    distances, depths_2q_dyn, \"o-.\", color=\"m\", label=\"Dynamic (2Q depth)\"\n",
    ")\n",
    "axes[0].set_xlabel(\"Number of qubits between control and target\")\n",
    "axes[0].set_ylabel(\"Two-qubit depth\")\n",
    "axes[0].grid(True, linestyle=\":\", linewidth=0.6, alpha=0.4)\n",
    "axes[0].legend()\n",
    "\n",
    "axes[1].plot(\n",
    "    distances, meas_uni, \"o-.\", color=\"c\", label=\"Unitary (# measurements)\"\n",
    ")\n",
    "axes[1].plot(\n",
    "    distances, meas_dyn, \"o-.\", color=\"m\", label=\"Dynamic (# measurements)\"\n",
    ")\n",
    "axes[1].set_xlabel(\"Number of qubits between control and target\")\n",
    "axes[1].set_ylabel(\"Number of measurements\")\n",
    "axes[1].grid(True, linestyle=\":\", linewidth=0.6, alpha=0.4)\n",
    "axes[1].legend()\n",
    "\n",
    "fig.suptitle(\"Scaling of Unitary vs Dynamic LRCX with Distance\", fontsize=12)\n",
    "\n",
    "plt.tight_layout()\n",
    "plt.show()"
   ]
  },
  {
   "cell_type": "markdown",
   "id": "55326bf8",
   "metadata": {},
   "source": [
    "This two-qubit depth plot highlights the primary advantage of the LRCX implemented with dynamic circuits: performance remains essentially constant as the separation between control and target qubits increases. In contrast, the unitary implementation grows linearly with distance due to the required SWAP chains. Depth captures the logical scaling of two-qubit operations, while the measurement count reflects the additional overhead for dynamic circuits. These measurements are efficient, since they are performed in parallel, but they still introduce a fixed cost on today’s hardware.\n",
    "\n",
    "Why fidelity can be worse today: Increased circuit time from measurement and classical operations often dominates, especially when the control-target separation is small. For example, the average readout length on ibm_kingston is 2,280 ns, whereas its 2Q gate length is only 68 ns.\n",
    "\n",
    "As measurement and classical latencies improve, we expect the constant-depth and constant-measurement scaling of dynamic circuits to yield clear fidelity and runtime advantages on larger circuits."
   ]
  },
  {
   "cell_type": "markdown",
   "id": "cc5af2f9",
   "metadata": {},
   "source": [
    "## References\n",
    "\n",
    "<a id=\"ref-1\"></a>\n",
    "[1] Efficient Long-Range Entanglement using Dynamic Circuits, by\n",
    "*Elisa Bäumer, Vinay Tripathi, Derek S. Wang, Patrick Rall, Edward H. Chen, Swarnadeep Majumder, Alireza Seif, Zlatko K. Minev*. IBM Quantum, (2023).\n",
    "https://arxiv.org/abs/2308.13065"
   ]
  }
 ],
 "metadata": {
  "description": "This tutorial implements a long-range CNOT using dynamic circuits with Bell pairs, measurement, and feedforward, and compare it to a direct unitary approach.",
  "kernelspec": {
   "display_name": "Python 3",
   "language": "python",
   "name": "python3"
  },
  "language_info": {
   "codemirror_mode": {
    "name": "ipython",
    "version": 3
   },
   "file_extension": ".py",
   "mimetype": "text/x-python",
   "name": "python",
   "nbconvert_exporter": "python",
   "pygments_lexer": "ipython3",
   "version": "3"
  },
  "title": "Long-range CNOT with parallel Bell pairs"
 },
 "nbformat": 4,
 "nbformat_minor": 5
}
