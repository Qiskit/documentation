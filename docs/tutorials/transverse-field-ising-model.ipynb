{
 "cells": [
  {
   "cell_type": "markdown",
   "id": "b6d1e3ec",
   "metadata": {},
   "source": [
    "{/* cspell:ignore rmse RMSE boxstyle fontsize */}\n",
    "\n",
    "# Transverse-Field Ising Model Simulation: Demonstrating better performance with Q-CTRL's Qiskit Functions"
   ]
  },
  {
   "attachments": {},
   "cell_type": "markdown",
   "id": "a6f69b77",
   "metadata": {},
   "source": [
    "*Usage estimate: 2 minutes on a Heron r2 processor. (NOTE: This is an estimate only. Your runtime may vary.)*"
   ]
  },
  {
   "cell_type": "markdown",
   "id": "8bf80006",
   "metadata": {},
   "source": [
    "## Background\n",
    "The Transverse-Field Ising Model (TFIM) is important for studying quantum magnetism and phase transitions. It describes a set of spins arranged on a lattice, where each spin interacts with its neighbors while also being influenced by an external magnetic field that drives quantum fluctuations.\n",
    "\n",
    "A common approach to simulate this model, is to use Trotter decomposition to approximate the time evolution operator, constructing circuits that alternate between single-qubit rotations and entangling two-qubit interactions. However, this simulation on real hardware is challenging due to noise and decoherence, leading to deviations from the true dynamics. To overcome this, we use Q-CTRL’s Fire Opal error suppression and performance management tools, offered as a Qiskit Function [\\[1\\]](#references). Fire Opal automatically optimizes circuit execution by applying error suppression, dynamical decoupling, advanced layout and routing, all aimed at reducing noise. With these improvements, the hardware results align more closely with noiseless simulations, letting us study TFIM magnetization dynamics with higher fidelity.\n",
    "\n",
    " In this tutorial we will:\n",
    "\n",
    "* Build the TFIM Hamiltonian on a graph of connected spin triangles,\n",
    "* Simulate time evolution with Trotterized circuits at different depths,\n",
    "* Compute and visualize single-qubit magnetizations $\\langle Z_i \\rangle$ over time,\n",
    "* Compare baseline simulations with results from hardware runs using Q-CTRL’s Fire Opal performance management.\n",
    "\n",
    "\n",
    "### Overview\n",
    "\n",
    "The Transverse-field Ising Model (TFIM) is a quantum spin model that captures essential features of quantum phase transitions. The Hamiltonian is defined as:\n",
    "\n",
    "$$\n",
    "H = -J \\sum_{i} Z_i Z_{i+1} - h \\sum_{i} X_i\n",
    "$$\n",
    "\n",
    "where $Z_i$ and $X_i$ are Pauli operators acting on qubit $i$, $J$ is the coupling strength between neighboring spins, and $h$ is the strength of the transverse magnetic field. The first term represents classical ferromagnetic interactions, while the second introduces quantum fluctuations through the transverse field. To simulate TFIM dynamics, you use a Trotter decomposition of the unitary evolution operator $e^{-iHt}$, implemented through layers of RX and RZZ gates based on a custom graph of connected spin triangles. The simulation explores how magnetization $\\langle Z \\rangle$ evolves with increasing Trotter steps.\n",
    "\n",
    "TFIM implementation performance is obtained by comparing noiseless simulations with noisy backends. Fire Opal’s enhanced execution and error suppression features are used to mitigate the effect of noise in real hardware, yielding more reliable estimates of spin observables like $\\langle Z_i \\rangle$ and correlators $\\langle Z_i Z_j \\rangle$."
   ]
  },
  {
   "cell_type": "markdown",
   "id": "55b94021",
   "metadata": {},
   "source": [
    "## Requirements\n",
    "\n",
    "Before starting this tutorial, be sure you have the following installed:\n",
    "- Qiskit SDK v1.4 or later, with visualization support ( `pip install 'qiskit[visualization]'` )\n",
    "- Qiskit Runtime v0.40 or later (`pip install qiskit-ibm-runtime`)\n",
    "- Qiskit Functions Catalog v0.9.0 (`pip install qiskit-ibm-catalog`)\n",
    "- Fire Opal SDK v9.0.2 or later (`pip install fire-opal`)\n",
    "- Q-CTRL Visualizer v8.0.2 or later (`pip install qctrl-visualizer`)"
   ]
  },
  {
   "attachments": {},
   "cell_type": "markdown",
   "id": "7db2e559",
   "metadata": {},
   "source": [
    "## Setup"
   ]
  },
  {
   "cell_type": "code",
   "execution_count": 1,
   "id": "bc380c46",
   "metadata": {},
   "outputs": [],
   "source": [
    "from qiskit.transpiler.preset_passmanagers import generate_preset_pass_manager\n",
    "from qiskit import QuantumCircuit\n",
    "from qiskit_ibm_catalog import QiskitFunctionsCatalog\n",
    "from qiskit_ibm_runtime import QiskitRuntimeService\n",
    "from qiskit_ibm_runtime import SamplerV2 as Sampler\n",
    "from qiskit.quantum_info import SparsePauliOp\n",
    "from qiskit_aer import AerSimulator\n",
    "\n",
    "import numpy as np\n",
    "import networkx as nx\n",
    "import matplotlib.pyplot as plt\n",
    "import qctrlvisualizer as qv"
   ]
  },
  {
   "cell_type": "code",
   "execution_count": null,
   "id": "e9d916b6",
   "metadata": {},
   "outputs": [],
   "source": [
    "# Set credentials.\n",
    "token = \"YOUR_IBM_CLOUD_API_KEY\"\n",
    "instance = \"YOUR_IBM_CRN\"\n",
    "\n",
    "catalog = QiskitFunctionsCatalog(\n",
    "    channel=\"ibm_quantum_platform\", instance=instance, token=token\n",
    ")\n",
    "\n",
    "# Access Function\n",
    "perf_mgmt = catalog.load(\"q-ctrl/performance-management\")"
   ]
  },
  {
   "attachments": {},
   "cell_type": "markdown",
   "id": "988ee237",
   "metadata": {},
   "source": [
    "## Step 1: Map classical inputs to a quantum problem\n",
    "\n",
    "### Generate TFIM Graph\n",
    "We begin by defining the lattice of spins and the couplings between them. In this tutorial, the lattice is constructed from connected triangles arranged in a linear chain. Each triangle consists of three nodes connected in a closed loop, and the chain is formed by linking one node of each triangle to the previous triangle.\n",
    "\n",
    "The helper function `connected_triangles_adj_matrix` builds the adjacency matrix for this structure. For a chain of $n$ triangles, the resulting graph contains $2n+1$ nodes."
   ]
  },
  {
   "cell_type": "code",
   "execution_count": 3,
   "id": "829f1b6d",
   "metadata": {},
   "outputs": [],
   "source": [
    "def connected_triangles_adj_matrix(n):\n",
    "    \"\"\"\n",
    "    Generate the adjacency matrix for 'n' connected triangles in a chain.\n",
    "    \"\"\"\n",
    "    num_nodes = 2 * n + 1\n",
    "    adj_matrix = np.zeros((num_nodes, num_nodes), dtype=int)\n",
    "\n",
    "    for i in range(n):\n",
    "        a, b, c = i * 2, i * 2 + 1, i * 2 + 2  # Nodes of the current triangle\n",
    "\n",
    "        # Connect the three nodes in a triangle\n",
    "        adj_matrix[a, b] = adj_matrix[b, a] = 1\n",
    "        adj_matrix[b, c] = adj_matrix[c, b] = 1\n",
    "        adj_matrix[a, c] = adj_matrix[c, a] = 1\n",
    "\n",
    "        # If not the first triangle, connect to the previous triangle\n",
    "        if i > 0:\n",
    "            adj_matrix[a, a - 1] = adj_matrix[a - 1, a] = 1\n",
    "\n",
    "    return adj_matrix"
   ]
  },
  {
   "cell_type": "markdown",
   "id": "53869b13",
   "metadata": {},
   "source": [
    "To visualize the lattice we just defined, we can plot the chain of connected triangles and label each node. The function below builds the graph for a chosen number of triangles and displays it."
   ]
  },
  {
   "cell_type": "code",
   "execution_count": 4,
   "id": "2fc293aa",
   "metadata": {},
   "outputs": [],
   "source": [
    "def plot_triangle_chain(n, side=1.0):\n",
    "    \"\"\"\n",
    "    Plot a horizontal chain of n equilateral triangles.\n",
    "    Baseline: even nodes (0,2,4,...,2n) on y=0\n",
    "    Apexes: odd nodes (1,3,5,...,2n-1) above the midpoint.\n",
    "    \"\"\"\n",
    "    # Build graph\n",
    "    A = connected_triangles_adj_matrix(n)\n",
    "    G = nx.from_numpy_array(A)\n",
    "\n",
    "    h = np.sqrt(3) / 2 * side\n",
    "    pos = {}\n",
    "\n",
    "    # Place baseline nodes\n",
    "    for k in range(n + 1):\n",
    "        pos[2 * k] = (k * side, 0.0)\n",
    "\n",
    "    # Place apex nodes\n",
    "    for k in range(n):\n",
    "        x_left = pos[2 * k][0]\n",
    "        x_right = pos[2 * k + 2][0]\n",
    "        pos[2 * k + 1] = ((x_left + x_right) / 2, h)\n",
    "\n",
    "    # Draw\n",
    "    fig, ax = plt.subplots(figsize=(1.5 * n, 2.5))\n",
    "    nx.draw(\n",
    "        G,\n",
    "        pos,\n",
    "        ax=ax,\n",
    "        with_labels=True,\n",
    "        font_size=10,\n",
    "        font_color=\"white\",\n",
    "        node_size=600,\n",
    "        node_color=qv.QCTRL_STYLE_COLORS[0],\n",
    "        edge_color=\"black\",\n",
    "        width=2,\n",
    "    )\n",
    "    ax.set_aspect(\"equal\")\n",
    "    ax.margins(0.2)\n",
    "    plt.show()\n",
    "\n",
    "    return G, pos"
   ]
  },
  {
   "cell_type": "markdown",
   "id": "8abc0622",
   "metadata": {},
   "source": [
    "For this tutorial we will use a chain of 20 triangles"
   ]
  },
  {
   "cell_type": "code",
   "execution_count": null,
   "id": "861ab6e3",
   "metadata": {},
   "outputs": [
    {
     "data": {
      "text/plain": [
       "<Image src=\"/docs/images/tutorials/transverse-field-ising-model/extracted-outputs/861ab6e3-0.avif\" alt=\"Output of the previous code cell\" />"
      ]
     },
     "metadata": {},
     "output_type": "display_data"
    }
   ],
   "source": [
    "n_triangles = 20\n",
    "n_qubits = 2 * n_triangles + 1\n",
    "plot_triangle_chain(n_triangles, side=1.0)\n",
    "plt.show()"
   ]
  },
  {
   "cell_type": "markdown",
   "id": "ac6f36e3",
   "metadata": {},
   "source": [
    "### Coloring Graph Edges\n",
    "To implement the spin–spin coupling, it is useful to group edges that do not overlap. This allows us to apply two-qubit gates in parallel. We can do this with a simple edge-coloring procedure [\\[2\\]](#references), which assigns a color to each edge so that edges meeting at the same node are placed in different groups."
   ]
  },
  {
   "cell_type": "code",
   "execution_count": 6,
   "id": "c893b88f",
   "metadata": {},
   "outputs": [],
   "source": [
    "def edge_coloring(graph):\n",
    "    \"\"\"\n",
    "    Takes a NetworkX graph and returns a list of lists where each inner list contains\n",
    "    the edges assigned the same color.\n",
    "    \"\"\"\n",
    "    line_graph = nx.line_graph(graph)\n",
    "    edge_colors = nx.coloring.greedy_color(line_graph)\n",
    "\n",
    "    color_groups = {}\n",
    "    for edge, color in edge_colors.items():\n",
    "        if color not in color_groups:\n",
    "            color_groups[color] = []\n",
    "        color_groups[color].append(edge)\n",
    "\n",
    "    return list(color_groups.values())"
   ]
  },
  {
   "attachments": {},
   "cell_type": "markdown",
   "id": "b4d480b3",
   "metadata": {},
   "source": [
    "## Step 2: Optimize problem for quantum hardware execution\n",
    "### Generate Trotterized circuits on spin graphs\n",
    "To simulate the dynamics of the Transverse-Field Ising Model, we construct circuits that approximate the time evolution operator\n",
    "\n",
    "$$\n",
    "U(t) = e^{-i H t}, \\quad \\text{where} \\quad H = -J \\sum_{\\langle i,j \\rangle} Z_i Z_j - h \\sum_i X_i .\n",
    "$$\n",
    "\n",
    "We use a second-order Trotter decomposition:\n",
    "\n",
    "$$\n",
    "e^{-i H \\Delta t} \\approx e^{-i H_X \\Delta t / 2}\\, e^{-i H_Z \\Delta t}\\, e^{-i H_X \\Delta t / 2},\n",
    "$$\n",
    "\n",
    "where $H_X = -h \\sum_i X_i$ and $H_Z = -J \\sum_{\\langle i,j \\rangle} Z_i Z_j$.\n",
    "\n",
    "* The $H_X$ term is implemented with layers of `RX` rotations.\n",
    "* The $H_Z$ term is implemented with layers of `RZZ` gates along the edges of the interaction graph.\n",
    "\n",
    "The angles of these gates are determined by the transverse field $h$, the coupling constant $J$, and the time step $\\Delta t$. By stacking multiple Trotter steps, we generate circuits of increasing depth that approximate the system’s dynamics. The functions `generate_tfim_circ_custom_graph` and `trotter_circuits` construct a Trotterized quantum circuit from an arbitrary spin interaction graph."
   ]
  },
  {
   "cell_type": "code",
   "execution_count": 7,
   "id": "ebe5c712",
   "metadata": {},
   "outputs": [],
   "source": [
    "def generate_tfim_circ_custom_graph(\n",
    "    steps, h, J, dt, psi0, graph: nx.graph.Graph, meas_basis=\"Z\", mirror=False\n",
    "):\n",
    "    \"\"\"\n",
    "    Generate a second order trotter of the form e^(a+b) ~ e^(b/2) e^a e^(b/2) for simulating a transverse field ising model:\n",
    "    e^{-i H t} where the Hamiltonian H = -J \\\\sum_i Z_i Z_{i+1} + h \\\\sum_i X_i.\n",
    "\n",
    "    steps: Number of trotter steps\n",
    "    theta_x: Angle for layer of X rotations\n",
    "    theta_zz: Angle for layer of ZZ rotations\n",
    "    theta_x: Angle for second layer of X rotations\n",
    "    J: Coupling between nearest neighbor spins\n",
    "    h: The transverse magnetic field strength\n",
    "    dt: t/total_steps\n",
    "    psi0: initial state (assumed to be prepared in the computational basis).\n",
    "    meas_basis: basis to measure all correlators in\n",
    "\n",
    "    This is a second order trotter of the form e^(a+b) ~ e^(b/2) e^a e^(b/2)\n",
    "    \"\"\"\n",
    "    theta_x = h * dt\n",
    "    theta_zz = -2 * J * dt\n",
    "    nq = graph.number_of_nodes()\n",
    "    color_edges = edge_coloring(graph)\n",
    "    circ = QuantumCircuit(nq, nq)\n",
    "    # Initial state, for typical cases in the computational basis\n",
    "    for i, b in enumerate(psi0):\n",
    "        if b == \"1\":\n",
    "            circ.x(i)\n",
    "    # Trotter steps\n",
    "    for step in range(steps):\n",
    "        for i in range(nq):\n",
    "            circ.rx(theta_x, i)\n",
    "        if mirror:\n",
    "            color_edges = [sublist[::-1] for sublist in color_edges[::-1]]\n",
    "        for edge_list in color_edges:\n",
    "            for edge in edge_list:\n",
    "                circ.rzz(theta_zz, edge[0], edge[1])\n",
    "        for i in range(nq):\n",
    "            circ.rx(theta_x, i)\n",
    "\n",
    "    # some typically used basis rotations\n",
    "    if meas_basis == \"X\":\n",
    "        for b in range(nq):\n",
    "            circ.h(b)\n",
    "    elif meas_basis == \"Y\":\n",
    "        for b in range(nq):\n",
    "            circ.sdg(b)\n",
    "            circ.h(b)\n",
    "\n",
    "    for i in range(nq):\n",
    "        circ.measure(i, i)\n",
    "\n",
    "    return circ\n",
    "\n",
    "\n",
    "def trotter_circuits(G, d_ind_tot, J, h, dt, meas_basis, mirror=True):\n",
    "    \"\"\"\n",
    "    Generates a sequence of Trotterized circuits, each with increasing depth.\n",
    "    Given a spin interaction graph and Hamiltonian parameters, it constructs\n",
    "    a list of circuits with 1 to d_ind_tot Trotter steps\n",
    "\n",
    "    G: Graph defining spin interactions (edges = ZZ couplings)\n",
    "    d_ind_tot: Number of Trotter steps (maximum depth)\n",
    "    J: Coupling between nearest neighboring spins\n",
    "    h: Transverse magnetic field strength\n",
    "    dt: (t / total_steps\n",
    "    meas_basis: Basis to measure all correlators in\n",
    "    mirror: If True, mirror the Trotter layers\n",
    "    \"\"\"\n",
    "    qubit_count = len(G)\n",
    "    circuits = []\n",
    "    psi0 = \"0\" * qubit_count\n",
    "\n",
    "    for steps in range(1, d_ind_tot + 1):\n",
    "        circuits.append(\n",
    "            generate_tfim_circ_custom_graph(\n",
    "                steps, h, J, dt, psi0, G, meas_basis, mirror\n",
    "            )\n",
    "        )\n",
    "    return circuits"
   ]
  },
  {
   "cell_type": "markdown",
   "id": "50b94af2",
   "metadata": {},
   "source": [
    "### Estimate Single-Qubit Magnetizations $\\langle Z_i \\rangle$\n",
    "To study the dynamics of the model, we want to measure the magnetization of each qubit, defined by the expectation value $\\langle Z_i \\rangle = \\langle \\psi | Z_i | \\psi \\rangle$\n",
    "\n",
    "In simulations, we can compute this directly from the measurement outcomes. The function `z_expectation` processes the bitstring counts and returns the value of $\\langle Z_i \\rangle$ for a chosen qubit index. On real hardware, we evaluate the same quantity by specifying the Pauli operator using the function `generate_z_observables` and letting the backend compute the expectation value."
   ]
  },
  {
   "cell_type": "code",
   "execution_count": 8,
   "id": "3fc929e0",
   "metadata": {},
   "outputs": [],
   "source": [
    "def z_expectation(counts, index):\n",
    "    \"\"\"\n",
    "    counts: Dict of mitigated bitstrings.\n",
    "    index: Index i in the single operator expectation value < II...Z_i...I > to be calculated.\n",
    "    return:  < Z_i >\n",
    "    \"\"\"\n",
    "    z_exp = 0\n",
    "    tot = 0\n",
    "    for bitstring, value in counts.items():\n",
    "        bit = int(bitstring[index])\n",
    "        sign = 1\n",
    "        if bit % 2 == 1:\n",
    "            sign = -1\n",
    "        z_exp += sign * value\n",
    "        tot += value\n",
    "\n",
    "    return z_exp / tot"
   ]
  },
  {
   "cell_type": "code",
   "execution_count": 9,
   "id": "c9e79716",
   "metadata": {},
   "outputs": [],
   "source": [
    "def generate_z_observables(nq):\n",
    "    observables = []\n",
    "    for i in range(nq):\n",
    "        pauli_string = \"\".join([\"Z\" if j == i else \"I\" for j in range(nq)])\n",
    "        observables.append(SparsePauliOp(pauli_string))\n",
    "    return observables"
   ]
  },
  {
   "cell_type": "code",
   "execution_count": 10,
   "id": "598d11cf",
   "metadata": {},
   "outputs": [],
   "source": [
    "observables = generate_z_observables(n_qubits)"
   ]
  },
  {
   "cell_type": "markdown",
   "id": "397d9b05",
   "metadata": {},
   "source": [
    "We now define the parameters for generating the Trotterized circuits. In this tutorial, the lattice is a chain of 20 connected triangles, which corresponds to a 40-qubit system."
   ]
  },
  {
   "cell_type": "code",
   "execution_count": 11,
   "id": "2853d21b",
   "metadata": {},
   "outputs": [],
   "source": [
    "all_circs_mirror = []\n",
    "for num_triangles in [n_triangles]:\n",
    "    for meas_basis in [\"Z\"]:\n",
    "        A = connected_triangles_adj_matrix(num_triangles)\n",
    "        G = nx.from_numpy_array(A)\n",
    "        nq = len(G)\n",
    "        d_ind_tot = 22\n",
    "        dt = 2 * np.pi * 1 / 30 * 0.25\n",
    "        J = 1\n",
    "        h = -7\n",
    "        all_circs_mirror.extend(\n",
    "            trotter_circuits(G, d_ind_tot, J, h, dt, meas_basis, True)\n",
    "        )\n",
    "circs = all_circs_mirror"
   ]
  },
  {
   "cell_type": "markdown",
   "id": "a4b0476d",
   "metadata": {},
   "source": [
    "## Step 3: Execute using Qiskit primitives\n",
    "### Run MPS simulation\n",
    "The list of Trotterized circuits is executed using the `matrix_product_state` simulator with an arbitrary choice of $4096$ shots. The MPS method provides an efficient approximation of the circuit dynamics, with accuracy determined by the chosen bond dimension. For the system sizes considered here, the default bond dimension is sufficient to capture the magnetization dynamics with high fidelity. The raw counts are normalized, and from these we compute the single-qubit expectation values $\\langle Z_i \\rangle$ at each Trotter step. Finally, we calculate the average over all qubits to obtain a single curve that shows how the magnetization changes over time."
   ]
  },
  {
   "cell_type": "code",
   "execution_count": 12,
   "id": "3709531f",
   "metadata": {},
   "outputs": [],
   "source": [
    "backend_sim = AerSimulator(method=\"matrix_product_state\")\n",
    "\n",
    "\n",
    "def normalize_counts(counts_list, shots):\n",
    "    new_counts_list = []\n",
    "    for counts in counts_list:\n",
    "        a = {k: v / shots for k, v in counts.items()}\n",
    "        new_counts_list.append(a)\n",
    "    return new_counts_list\n",
    "\n",
    "\n",
    "def run_sim(circ_list):\n",
    "    shots = 4096\n",
    "    res = backend_sim.run(circ_list, shots=shots)\n",
    "    normed = normalize_counts(res.result().get_counts(), shots)\n",
    "    return normed\n",
    "\n",
    "\n",
    "sim_counts = run_sim(circs)"
   ]
  },
  {
   "cell_type": "markdown",
   "id": "5895aa46",
   "metadata": {},
   "source": [
    "### Run on hardware"
   ]
  },
  {
   "cell_type": "code",
   "execution_count": 14,
   "id": "4b5a2f87",
   "metadata": {},
   "outputs": [],
   "source": [
    "service = QiskitRuntimeService()\n",
    "backend = service.backend(\"ibm_marrakesh\")\n",
    "\n",
    "\n",
    "def run_qiskit(circ_list):\n",
    "    shots = 4096\n",
    "    pm = generate_preset_pass_manager(backend=backend)\n",
    "    isa_circuits = [pm.run(qc) for qc in circ_list]\n",
    "    sampler = Sampler(mode=backend)\n",
    "    res = sampler.run(isa_circuits, shots=shots)\n",
    "    res = [r.data.c.get_counts() for r in res.result()]\n",
    "    normed = normalize_counts(res, shots)\n",
    "    return normed\n",
    "\n",
    "\n",
    "qiskit_counts = run_qiskit(circs)"
   ]
  },
  {
   "cell_type": "markdown",
   "id": "d30269ee",
   "metadata": {},
   "source": [
    "### Run on hardware with Fire Opal\n",
    "We evaluate the magnetization dynamics on real quantum hardware. Fire Opal provides a Qiskit function that extends the standard Qiskit Runtime Estimator primitive with automated error suppression and performance management. This allows us to submit the Trotterized circuits directly to an IBM backend while letting Fire Opal handle noise-aware execution.\n",
    "\n",
    "We prepare a list of `pubs`, where each item contains a circuit and the corresponding Pauli-Z observables. These are passed to Fire Opal’s estimator function, which returns the expectation values $\\langle Z_i \\rangle$ for each qubit at each Trotter step. The results can then be averaged over qubits to obtain the magnetization curve from hardware."
   ]
  },
  {
   "cell_type": "code",
   "execution_count": null,
   "id": "ca8348c9",
   "metadata": {},
   "outputs": [],
   "source": [
    "backend_name = \"ibm_marrakesh\"\n",
    "estimator_pubs = [(qc, observables) for qc in all_circs_mirror[:]]\n",
    "\n",
    "# Run the circuit using the estimator\n",
    "qctrl_estimator_job = perf_mgmt.run(\n",
    "    primitive=\"estimator\",\n",
    "    pubs=estimator_pubs,\n",
    "    backend_name=backend_name,\n",
    "    options={\"default_shots\": 4096},\n",
    ")\n",
    "\n",
    "result_qctrl = qctrl_estimator_job.result()"
   ]
  },
  {
   "cell_type": "markdown",
   "id": "aa081308",
   "metadata": {},
   "source": [
    "## Step 4: Post-process and return result in desired classical format\n",
    "\n",
    "Finally, we compare the magnetization curve from the simulator with the results obtained on real hardware. Plotting both side by side shows how closely the hardware execution with Fire Opal matches the noiseless baseline across Trotter steps."
   ]
  },
  {
   "cell_type": "code",
   "execution_count": 102,
   "id": "91dd23a5",
   "metadata": {},
   "outputs": [],
   "source": [
    "def make_correlators(test_counts, nq, d_ind_tot):\n",
    "    mz = np.empty((nq, d_ind_tot))\n",
    "    for d_ind in range(d_ind_tot):\n",
    "        counts = test_counts[d_ind]\n",
    "        for i in range(nq):\n",
    "            mz[i, d_ind] = z_expectation(counts, i)\n",
    "    average_z = np.mean(mz, axis=0)\n",
    "    return np.concatenate((np.array([1]), average_z), axis=0)\n",
    "\n",
    "\n",
    "sim_exp = make_correlators(sim_counts[0:22], nq=nq, d_ind_tot=22)\n",
    "qiskit_exp = make_correlators(qiskit_counts[0:22], nq=nq, d_ind_tot=22)"
   ]
  },
  {
   "cell_type": "code",
   "execution_count": 103,
   "id": "1581f9f0",
   "metadata": {},
   "outputs": [],
   "source": [
    "qctrl_exp = [ev.data.evs for ev in result_qctrl[:]]\n",
    "qctrl_exp_mean = np.concatenate(\n",
    "    (np.array([1]), np.mean(qctrl_exp, axis=1)), axis=0\n",
    ")"
   ]
  },
  {
   "cell_type": "code",
   "execution_count": 104,
   "id": "d1f90811",
   "metadata": {},
   "outputs": [],
   "source": [
    "def make_expectations_plot(\n",
    "    sim_z,\n",
    "    depths,\n",
    "    exp_qctrl=None,\n",
    "    exp_qctrl_error=None,\n",
    "    exp_qiskit=None,\n",
    "    exp_qiskit_error=None,\n",
    "    plot_from=0,\n",
    "    plot_upto=21,\n",
    "):\n",
    "    import numpy as np\n",
    "    import matplotlib.pyplot as plt\n",
    "\n",
    "    depth_ticks = [0, 2, 4, 6, 8, 10, 12, 14, 16, 18, 20]\n",
    "\n",
    "    d = np.asarray(depths)[plot_from:plot_upto]\n",
    "    sim = np.asarray(sim_z)[plot_from:plot_upto]\n",
    "\n",
    "    qk = (\n",
    "        None\n",
    "        if exp_qiskit is None\n",
    "        else np.asarray(exp_qiskit)[plot_from:plot_upto]\n",
    "    )\n",
    "    qc = (\n",
    "        None\n",
    "        if exp_qctrl is None\n",
    "        else np.asarray(exp_qctrl)[plot_from:plot_upto]\n",
    "    )\n",
    "\n",
    "    qk_err = (\n",
    "        None\n",
    "        if exp_qiskit_error is None\n",
    "        else np.asarray(exp_qiskit_error)[plot_from:plot_upto]\n",
    "    )\n",
    "    qc_err = (\n",
    "        None\n",
    "        if exp_qctrl_error is None\n",
    "        else np.asarray(exp_qctrl_error)[plot_from:plot_upto]\n",
    "    )\n",
    "\n",
    "    # ---- helper(s) ----\n",
    "    def rmse(a, b):\n",
    "        if a is None or b is None:\n",
    "            return None\n",
    "        a = np.asarray(a, dtype=float)\n",
    "        b = np.asarray(b, dtype=float)\n",
    "        mask = np.isfinite(a) & np.isfinite(b)\n",
    "        if not np.any(mask):\n",
    "            return None\n",
    "        diff = a[mask] - b[mask]\n",
    "        return float(np.sqrt(np.mean(diff**2)))\n",
    "\n",
    "    def plot_panel(ax, method_y, method_err, color, label, band_color=None):\n",
    "        # Noiseless reference\n",
    "        ax.plot(d, sim, color=\"grey\", label=\"Noiseless simulation\")\n",
    "\n",
    "        # Method line + band\n",
    "        if method_y is not None:\n",
    "            ax.plot(d, method_y, color=color, label=label)\n",
    "            if method_err is not None:\n",
    "                lo = np.clip(method_y - method_err, -1.05, 1.05)\n",
    "                hi = np.clip(method_y + method_err, -1.05, 1.05)\n",
    "                ax.fill_between(\n",
    "                    d,\n",
    "                    lo,\n",
    "                    hi,\n",
    "                    alpha=0.18,\n",
    "                    color=band_color if band_color else color,\n",
    "                    label=f\"{label} ± error\",\n",
    "                )\n",
    "        else:\n",
    "            ax.text(\n",
    "                0.5,\n",
    "                0.5,\n",
    "                \"No data\",\n",
    "                transform=ax.transAxes,\n",
    "                ha=\"center\",\n",
    "                va=\"center\",\n",
    "                fontsize=10,\n",
    "                color=\"0.4\",\n",
    "            )\n",
    "\n",
    "        # RMSE box (vs sim)\n",
    "        r = rmse(method_y, sim)\n",
    "        if r is not None:\n",
    "            ax.text(\n",
    "                0.98,\n",
    "                0.02,\n",
    "                f\"RMSE: {r:.4f}\",\n",
    "                transform=ax.transAxes,\n",
    "                va=\"bottom\",\n",
    "                ha=\"right\",\n",
    "                fontsize=8,\n",
    "                bbox=dict(\n",
    "                    boxstyle=\"round,pad=0.35\", fc=\"white\", ec=\"0.7\", alpha=0.9\n",
    "                ),\n",
    "            )\n",
    "        # Axes\n",
    "        ax.set_xticks(depth_ticks)\n",
    "        ax.set_ylim(-1.05, 1.05)\n",
    "        ax.grid(True, which=\"both\", linewidth=0.4, alpha=0.4)\n",
    "        ax.set_axisbelow(True)\n",
    "        ax.legend(prop={\"size\": 8}, loc=\"best\")\n",
    "\n",
    "    fig, axes = plt.subplots(1, 2, figsize=(10, 4), dpi=300, sharey=True)\n",
    "\n",
    "    axes[0].set_title(\"Fire Opal (Q-CTRL)\", fontsize=10)\n",
    "    plot_panel(\n",
    "        axes[0],\n",
    "        qc,\n",
    "        qc_err,\n",
    "        color=\"#680CE9\",\n",
    "        label=\"Fire Opal\",\n",
    "        band_color=\"#680CE9\",\n",
    "    )\n",
    "    axes[0].set_xlabel(\"Trotter step\")\n",
    "    axes[0].set_ylabel(r\"$\\langle Z \\rangle$\")\n",
    "    axes[1].set_title(\"Qiskit\", fontsize=10)\n",
    "    plot_panel(\n",
    "        axes[1], qk, qk_err, color=\"blue\", label=\"Qiskit\", band_color=\"blue\"\n",
    "    )\n",
    "    axes[1].set_xlabel(\"Trotter step\")\n",
    "\n",
    "    plt.tight_layout()\n",
    "    plt.show()"
   ]
  },
  {
   "cell_type": "code",
   "execution_count": 105,
   "id": "415760ad",
   "metadata": {},
   "outputs": [],
   "source": [
    "depths = list(range(d_ind_tot + 1))\n",
    "errors = np.abs(np.array(qctrl_exp_mean) - np.array(sim_exp))\n",
    "\n",
    "errors_qiskit = np.abs(np.array(qiskit_exp) - np.array(sim_exp))"
   ]
  },
  {
   "cell_type": "code",
   "execution_count": 106,
   "id": "d4902d14",
   "metadata": {},
   "outputs": [
    {
     "data": {
      "text/plain": [
       "<Image src=\"/docs/images/tutorials/transverse-field-ising-model/extracted-outputs/d4902d14-0.avif\" alt=\"Output of the previous code cell\" />"
      ]
     },
     "metadata": {},
     "output_type": "display_data"
    }
   ],
   "source": [
    "make_expectations_plot(\n",
    "    sim_exp,\n",
    "    depths,\n",
    "    exp_qctrl=qctrl_exp_mean,\n",
    "    exp_qctrl_error=errors,\n",
    "    exp_qiskit=qiskit_exp,\n",
    "    exp_qiskit_error=errors_qiskit,\n",
    ")"
   ]
  },
  {
   "cell_type": "markdown",
   "id": "ee41a301",
   "metadata": {},
   "source": [
    "## References\n",
    "[\\[1\\]](#Reference1) IBM Quantum. (2025). Performance Management: A Qiskit Function by Q-CTRL Fire Opal. IBM Quantum Documentation. https://quantum.cloud.ibm.com/docs/en/guides/q-ctrl-performance-management\n",
    "\n",
    "[\\[2\\]](#Reference2) Graph coloring. In Wikipedia. Retrieved September 15, 2025, from https://en.wikipedia.org/wiki/Graph_coloring"
   ]
  },
  {
   "cell_type": "markdown",
   "id": "2cb5785c",
   "metadata": {},
   "source": [
    "## Tutorial survey\n",
    "\n",
    "Please take a minute to provide feedback on this tutorial. Your insights will help us improve our content offerings and user experience.\n",
    "\n",
    "[Link to survey](https://your.feedback.ibm.com/jfe/form/SV_3BLFkNVEuh0QBWm)"
   ]
  }
 ],
 "metadata": {
  "description": "Build and solve the transverse-field Ising model using Fire Opal and Qiskit",
  "kernelspec": {
   "display_name": "Python 3",
   "language": "python",
   "name": "python3"
  },
  "language_info": {
   "codemirror_mode": {
    "name": "ipython",
    "version": 3
   },
   "file_extension": ".py",
   "mimetype": "text/x-python",
   "name": "python",
   "nbconvert_exporter": "python",
   "pygments_lexer": "ipython3",
   "version": "3"
  },
  "title": "Transverse-Field Ising Model Simulation"
 },
 "nbformat": 4,
 "nbformat_minor": 5
}
