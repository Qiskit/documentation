{
 "cells": [
  {
   "cell_type": "markdown",
   "id": "24576595",
   "metadata": {},
   "source": [
    "# Introduction to fractional gates\n",
    "\n",
    "*Usage estimate: under 30 seconds on a Heron r2 processor (NOTE: This is an estimate only. Your runtime may vary.)*"
   ]
  },
  {
   "cell_type": "markdown",
   "id": "155eab76",
   "metadata": {},
   "source": [
    "## Background\n",
    "\n",
    "### Fractional gates on IBM QPUs\n",
    "\n",
    "Fractional gates are parameterized quantum gates that enable direct execution of arbitrary-angle rotations (within specific bounds),\n",
    "eliminating the need to decompose them into multiple basis gates.\n",
    "By leveraging the native interactions between physical qubits, users can implement certain unitaries more efficiently on hardware.\n",
    "\n",
    "IBM Quantum&reg; Heron QPUs support the following fractional gates:\n",
    "- $R_{ZZ}(\\theta)$ for $0 < \\theta < \\pi / 2$\n",
    "- $R_X(\\theta)$ for any real value $\\theta$\n",
    "\n",
    "These gates can significantly reduce both the depth and duration of quantum circuits.\n",
    "They are particularly advantageous in applications that rely heavily on $R_{ZZ}$ and $R_X$,\n",
    "such as Hamiltonian simulation, the Quantum Approximate Optimization Algorithm (QAOA), and quantum kernel methods.\n",
    "In this tutorial, we focus on the quantum kernel as a practical example."
   ]
  },
  {
   "cell_type": "markdown",
   "id": "fe5675f3",
   "metadata": {},
   "source": [
    "### Limitations\n",
    "\n",
    "Fractional gates are currently an experimental feature and come with a few constraints:\n",
    "- $R_{ZZ}$ is limited to angles in the range $0 < \\theta < \\pi / 2$.\n",
    "- Using fractional gates is not supported for [dynamic circuits](/docs/guides/classical-feedforward-and-control-flow), [Pauli twirling](/docs/guides/error-mitigation-and-suppression-techniques#pauli-twirling), [probabilistic error cancellation](/docs/guides/error-mitigation-and-suppression-techniques#probabilistic-error-cancellation-pec) (PEC), and [zero-noise extrapolation](/docs/guides/error-mitigation-and-suppression-techniques#zero-noise-extrapolation-zne) (ZNE) (using [probabilistic error amplification](/docs/guides/error-mitigation-and-suppression-techniques#probabilistic-error-amplification-pea) (PEA)).\n",
    "\n",
    "Fractional gates require a different workflow compared to the standard approach.\n",
    "This tutorial explains how to work with fractional gates through a practical application.\n",
    "\n",
    "See the following for more details on fractional gates.\n",
    "- [Fractional gates](/docs/guides/fractional-gates)\n",
    "- [When *not* to use fractional gates](/docs/guides/fractional-gates#when-*not*-to-use-fractional-gates)"
   ]
  },
  {
   "cell_type": "markdown",
   "id": "a4bdab87",
   "metadata": {},
   "source": [
    "## Overview"
   ]
  },
  {
   "cell_type": "markdown",
   "id": "db213506",
   "metadata": {},
   "source": [
    "The workflow for using the fractional gates generally follows the [Qiskit patterns](/docs/guides/intro-to-patterns) workflow.\n",
    "The key difference is that all RZZ angles must satisfy the constraint $0 < \\theta \\leq \\pi/2$.\n",
    "There are two approaches to ensure this condition is met.\n",
    "This tutorial focuses on and recommends the second approach."
   ]
  },
  {
   "cell_type": "markdown",
   "id": "5797ed7e",
   "metadata": {},
   "source": [
    "### 1. Generate parameter values that satisfy the RZZ angle constraint\n",
    "\n",
    "If you are confident that all RZZ angles fall within the valid range, you can follow the standard Qiskit patterns workflow.\n",
    "In this case, you simply submit the parameter values as part of a PUB. The workflow proceeds as follows.\n",
    "\n",
    "```python\n",
    "pm = generate_preset_pass_manager(backend=backend, ...)\n",
    "t_circuit = pm.run(circuit)\n",
    "t_observable = observable.apply_layout(t_circuit.layout)\n",
    "sampler.run([(t_circuit, parameter_values)])\n",
    "estimator.run([(t_circuit, t_observable, parameter_values)])\n",
    "```\n",
    "\n",
    "If you attempt to submit a PUB that includes an RZZ gate with an angle outside the valid range, you will encounter an error message such as:\n",
    "```\n",
    "'The instruction rzz is supported only for angles in the range [0, pi/2], but an angle (20.0) outside of this range has been requested; via parameter value(s) γ[0]=10.0, substituted in parameter expression 2.0*γ[0].'\n",
    "```\n",
    "To avoid this error, you should consider the second approach described below."
   ]
  },
  {
   "cell_type": "markdown",
   "id": "d3e00f37",
   "metadata": {},
   "source": [
    "### 2. Assign parameter values to circuits before transpilation\n",
    "\n",
    "The `qiskit-ibm-runtime` package provides a specialized transpiler pass called [`FoldRzzAngle`](/docs/api/qiskit-ibm-runtime/transpiler-passes-fold-rzz-angle).\n",
    "This pass transforms quantum circuits so that all RZZ angles comply with the RZZ angle constraint.\n",
    "If you provide the backend to `generate_preset_pass_manager` or `transpile`, Qiskit automatically applies `FoldRzzAngle` to the quantum circuits.\n",
    "This asks you to assign parameter values to quantum circuits before transpilation.\n",
    "The workflow proceeds as follows.\n",
    "\n",
    "```python\n",
    "pm = generate_preset_pass_manager(backend=backend, ...)\n",
    "b_circuit = circuit.assign_parameters(parameter_values)\n",
    "t_circuit = pm.run(b_circuit)\n",
    "t_observable = observable.apply_layout(t_circuit.layout)\n",
    "sampler.run([(t_circuit,)])\n",
    "estimator.run([(t_circuit, t_observable)])\n",
    "```\n",
    "\n",
    "Note that this workflow incurs a higher computational cost than the first approach, as it involves assigning parameter values to quantum circuits and storing the parameter-bound circuits locally.\n",
    "Additionally, there is a known issue in Qiskit where the transformation of RZZ gates may fail in certain scenarios. For a workaround, please refer to the [Troubleshooting](#troubleshooting) section."
   ]
  },
  {
   "cell_type": "markdown",
   "id": "c6a2ecb9",
   "metadata": {},
   "source": [
    "This tutorial demonstrates how to use fractional gates via the second approach through an example inspired by the quantum kernel method.\n",
    "To better understand where quantum kernels are likely to be useful, we recommend reading [Liu, Arunachalam & Temme (2021).](https://www.nature.com/articles/s41567-021-01287-z)\n",
    "\n",
    "You can also work through the [Quantum kernel training](/docs/tutorials/quantum-kernel-training) tutorial and the [Quantum kernels](/learning/courses/quantum-machine-learning/quantum-kernel-methods) lesson in the Quantum machine learning course on IBM Quantum Learning."
   ]
  },
  {
   "cell_type": "markdown",
   "id": "aaa153e7",
   "metadata": {},
   "source": [
    "### Requirements\n",
    "\n",
    "Before starting this tutorial, be sure you have the following installed:\n",
    "- Qiskit SDK v2.0 or later ( `pip install 'qiskit[visualization]'`)\n",
    "- Qiskit Runtime v0.37 or later (`pip install qiskit-ibm-runtime`)"
   ]
  },
  {
   "cell_type": "markdown",
   "id": "5f43ce5d",
   "metadata": {},
   "source": [
    "### Setup"
   ]
  },
  {
   "cell_type": "code",
   "execution_count": 1,
   "id": "a6a15694",
   "metadata": {},
   "outputs": [],
   "source": [
    "import matplotlib.pyplot as plt\n",
    "import numpy as np\n",
    "from qiskit import QuantumCircuit, generate_preset_pass_manager\n",
    "from qiskit.circuit import ParameterVector\n",
    "from qiskit.circuit.library import unitary_overlap\n",
    "from qiskit_ibm_runtime import QiskitRuntimeService, SamplerV2"
   ]
  },
  {
   "cell_type": "markdown",
   "id": "3e94382d",
   "metadata": {},
   "source": [
    "### Enable fractional gates and check basis gates\n",
    "\n",
    "To use fractional gates, you can obtain a backend that supports them by setting the `use_fractional_gates=True` option.\n",
    "If the backend supports fractional gates, you will see `rzz` and `rx` listed among its basis gates."
   ]
  },
  {
   "cell_type": "code",
   "execution_count": 2,
   "id": "fd577102",
   "metadata": {},
   "outputs": [
    {
     "name": "stdout",
     "output_type": "stream",
     "text": [
      "Backend: ibm_fez\n"
     ]
    },
    {
     "name": "stdout",
     "output_type": "stream",
     "text": [
      "No fractional gates: ['cz', 'id', 'rz', 'sx', 'x']\n"
     ]
    },
    {
     "name": "stdout",
     "output_type": "stream",
     "text": [
      "With fractional gates: ['cz', 'id', 'rx', 'rz', 'rzz', 'sx', 'x']\n"
     ]
    }
   ],
   "source": [
    "service = QiskitRuntimeService(name=\"demo-premium\")\n",
    "backend_name = \"ibm_fez\"\n",
    "backend_c = service.backend(backend_name)  # w/o fractional gates\n",
    "backend_f = service.backend(\n",
    "    backend_name, use_fractional_gates=True\n",
    ")  # w/ fractional gates\n",
    "print(f\"Backend: {backend_name}\")\n",
    "print(f\"No fractional gates: {backend_c.basis_gates}\")\n",
    "print(f\"With fractional gates: {backend_f.basis_gates}\")\n",
    "if \"rzz\" not in backend_f.basis_gates:\n",
    "    print(f\"Backend {backend_name} does not support fractional gates\")"
   ]
  },
  {
   "cell_type": "markdown",
   "id": "3f11c5a3",
   "metadata": {},
   "source": [
    "## Workflow with fractional gates"
   ]
  },
  {
   "cell_type": "markdown",
   "id": "7bfd6a97",
   "metadata": {},
   "source": [
    "### Step 1: Map classical inputs to quantum problem\n",
    "\n",
    "#### Quantum kernel circuit\n",
    "In this section, we explore the quantum kernel circuit using RZZ gates to introduce the workflow for fractional gates.\n",
    "\n",
    "We begin by constructing a quantum circuit to compute individual entries of the kernel matrix.\n",
    "This is done by combining ZZ feature map circuits with a unitary overlap.\n",
    "The kernel function takes vectors in the feature-mapped space and returns their inner product as an entry of the kernel matrix:\n",
    "$$K(x, y) = \\langle \\Phi(x) | \\Phi(y) \\rangle,$$\n",
    "where $|\\Phi(x)\\rangle$ represents the feature-mapped quantum state.\n",
    "\n",
    "We manually construct a ZZ feature map circuit using RZZ gates.\n",
    "Although Qiskit provides a built-in `zz_feature_map`, it does not currently support RZZ gates as of Qiskit v2.0.2 ([see issue](https://github.com/Qiskit/qiskit/issues/14469)).\n",
    "\n",
    "Next, we compute the kernel function for identical inputs - for example, $K(x, x) = 1$.\n",
    "On noisy quantum computers, this value may be less than 1 due to noise.\n",
    "A result closer to 1 indicates lower noise in the execution.\n",
    "In this tutorial, we refer to this value as the *fidelity*, defined as\n",
    "$$\\text{fidelity} = K(x, x).$$"
   ]
  },
  {
   "cell_type": "code",
   "execution_count": 3,
   "id": "e7d5b52a",
   "metadata": {},
   "outputs": [],
   "source": [
    "optimization_level = 2\n",
    "shots = 2000\n",
    "reps = 3\n",
    "rng = np.random.default_rng(seed=123)"
   ]
  },
  {
   "cell_type": "code",
   "execution_count": 4,
   "id": "2e9ab33d",
   "metadata": {},
   "outputs": [],
   "source": [
    "def my_zz_feature_map(num_qubits: int, reps: int = 1) -> QuantumCircuit:\n",
    "    x = ParameterVector(\"x\", num_qubits * reps)\n",
    "    qc = QuantumCircuit(num_qubits)\n",
    "    qc.h(range(num_qubits))\n",
    "    for k in range(reps):\n",
    "        K = k * num_qubits\n",
    "        for i in range(num_qubits):\n",
    "            qc.rz(x[i + K], i)\n",
    "        pairs = [(i, i + 1) for i in range(num_qubits - 1)]\n",
    "        for i, j in pairs[0::2] + pairs[1::2]:\n",
    "            qc.rzz((np.pi - x[i + K]) * (np.pi - x[j + K]), i, j)\n",
    "    return qc\n",
    "\n",
    "\n",
    "def quantum_kernel(num_qubits: int, reps: int = 1) -> QuantumCircuit:\n",
    "    qc = my_zz_feature_map(num_qubits, reps=reps)\n",
    "    inner_product = unitary_overlap(qc, qc, \"x\", \"y\", insert_barrier=True)\n",
    "    inner_product.measure_all()\n",
    "    return inner_product\n",
    "\n",
    "\n",
    "def random_parameters(inner_product: QuantumCircuit) -> np.ndarray:\n",
    "    return np.tile(rng.random(inner_product.num_parameters // 2), 2)\n",
    "\n",
    "\n",
    "def fidelity(result) -> float:\n",
    "    ba = result.data.meas\n",
    "    return ba.get_int_counts().get(0, 0) / ba.num_shots"
   ]
  },
  {
   "cell_type": "markdown",
   "id": "f676ff81",
   "metadata": {},
   "source": [
    "Quantum kernel circuits and their corresponding parameter values are generated for systems with 4 to 40 qubits, and their fidelities are subsequently evaluated."
   ]
  },
  {
   "cell_type": "code",
   "execution_count": 5,
   "id": "24116973",
   "metadata": {},
   "outputs": [],
   "source": [
    "qubits = list(range(4, 44, 4))\n",
    "circuits = [quantum_kernel(i, reps=reps) for i in qubits]\n",
    "params = [random_parameters(circ) for circ in circuits]"
   ]
  },
  {
   "cell_type": "markdown",
   "id": "30a7c442",
   "metadata": {},
   "source": [
    "The four-qubit circuit is visualized below."
   ]
  },
  {
   "cell_type": "code",
   "execution_count": 6,
   "id": "b3d6341a",
   "metadata": {},
   "outputs": [
    {
     "data": {
      "text/plain": [
       "<Image src=\"/docs/images/tutorials/fractional-gates/extracted-outputs/b3d6341a-0.avif\" alt=\"Output of the previous code cell\" />"
      ]
     },
     "execution_count": 6,
     "metadata": {},
     "output_type": "execute_result"
    }
   ],
   "source": [
    "circuits[0].draw(\"mpl\", fold=-1)"
   ]
  },
  {
   "cell_type": "markdown",
   "id": "07f31cbe",
   "metadata": {},
   "source": [
    "In the standard Qiskit patterns workflow, parameter values are typically passed to the Sampler or Estimator primitive as part of a PUB.\n",
    "However, when using a backend that supports fractional gates, these parameter values must be explicitly assigned to the quantum circuit prior to transpilation."
   ]
  },
  {
   "cell_type": "code",
   "execution_count": 7,
   "id": "6c9c1977",
   "metadata": {},
   "outputs": [
    {
     "data": {
      "text/plain": [
       "<Image src=\"/docs/images/tutorials/fractional-gates/extracted-outputs/6c9c1977-0.avif\" alt=\"Output of the previous code cell\" />"
      ]
     },
     "execution_count": 7,
     "metadata": {},
     "output_type": "execute_result"
    }
   ],
   "source": [
    "b_qc = [\n",
    "    circ.assign_parameters(param) for circ, param in zip(circuits, params)\n",
    "]\n",
    "b_qc[0].draw(\"mpl\", fold=-1)"
   ]
  },
  {
   "cell_type": "markdown",
   "id": "7513072b",
   "metadata": {},
   "source": [
    "### Step 2: Optimize problem for quantum hardware execution"
   ]
  },
  {
   "cell_type": "markdown",
   "id": "804ba317",
   "metadata": {},
   "source": [
    "We then transpile the circuit using the pass manager following the standard Qiskit pattern.\n",
    "By providing a backend that supports fractional gates to `generate_preset_pass_manager`, a specialized pass called `FoldRzzAngle` is automatically included.\n",
    "This pass modifies the circuit to comply with the RZZ angle constraints.\n",
    "As a result, RZZ gates with negative values in the previous figure are transformed into positive values, and some additional X gates are added."
   ]
  },
  {
   "cell_type": "code",
   "execution_count": 8,
   "id": "6054bdea",
   "metadata": {},
   "outputs": [],
   "source": [
    "backend_f = service.backend(name=backend_name, use_fractional_gates=True)\n",
    "# pm_f includes `FoldRzzAngle` pass\n",
    "pm_f = generate_preset_pass_manager(\n",
    "    optimization_level=optimization_level, backend=backend_f\n",
    ")"
   ]
  },
  {
   "cell_type": "code",
   "execution_count": 9,
   "id": "a18e5c70",
   "metadata": {},
   "outputs": [
    {
     "name": "stdout",
     "output_type": "stream",
     "text": [
      "OrderedDict({'rz': 35, 'rzz': 18, 'x': 13, 'rx': 9, 'measure': 4, 'barrier': 2})\n"
     ]
    },
    {
     "data": {
      "text/plain": [
       "<Image src=\"/docs/images/tutorials/fractional-gates/extracted-outputs/a18e5c70-1.avif\" alt=\"Output of the previous code cell\" />"
      ]
     },
     "execution_count": 9,
     "metadata": {},
     "output_type": "execute_result"
    }
   ],
   "source": [
    "t_qc_f = pm_f.run(b_qc)\n",
    "print(t_qc_f[0].count_ops())\n",
    "t_qc_f[0].draw(\"mpl\", fold=-1)"
   ]
  },
  {
   "cell_type": "markdown",
   "id": "a4cd07d1",
   "metadata": {},
   "source": [
    "To assess the impact of fractional gates, we evaluate the number of non-local gates (CZ and RZZ for this backend),\n",
    "along with circuit depths and durations, and compare these metrics to those from a standard workflow later."
   ]
  },
  {
   "cell_type": "code",
   "execution_count": 10,
   "id": "b5bcf9ad",
   "metadata": {},
   "outputs": [],
   "source": [
    "nnl_f = [qc.num_nonlocal_gates() for qc in t_qc_f]\n",
    "depth_f = [qc.depth() for qc in t_qc_f]\n",
    "duration_f = [\n",
    "    qc.estimate_duration(backend_f.target, unit=\"u\") for qc in t_qc_f\n",
    "]"
   ]
  },
  {
   "cell_type": "markdown",
   "id": "629406cc",
   "metadata": {},
   "source": [
    "### Step 3: Execute using Qiskit primitives"
   ]
  },
  {
   "cell_type": "markdown",
   "id": "87926539",
   "metadata": {},
   "source": [
    "We run the transpiled circuit with the backend that supports fractional gates."
   ]
  },
  {
   "cell_type": "code",
   "execution_count": 11,
   "id": "4804bb49",
   "metadata": {},
   "outputs": [],
   "source": [
    "sampler_f = SamplerV2(mode=backend_f)\n",
    "sampler_f.options.dynamical_decoupling.enable = True\n",
    "sampler_f.options.dynamical_decoupling.sequence_type = \"XY4\"\n",
    "sampler_f.options.dynamical_decoupling.skip_reset_qubits = True"
   ]
  },
  {
   "cell_type": "code",
   "execution_count": 12,
   "id": "a703b939",
   "metadata": {},
   "outputs": [
    {
     "name": "stdout",
     "output_type": "stream",
     "text": [
      "d1obougt0npc73flhiag\n"
     ]
    }
   ],
   "source": [
    "job = sampler_f.run(t_qc_f, shots=shots)\n",
    "print(job.job_id())"
   ]
  },
  {
   "cell_type": "markdown",
   "id": "6c9fd10d",
   "metadata": {},
   "source": [
    "### Step 4: Post-process and return result in desired classical format"
   ]
  },
  {
   "cell_type": "markdown",
   "id": "7a865036",
   "metadata": {},
   "source": [
    "You can obtain the kernel function value $K(x, x)$ by measuring the probability of the all-zero bitstring `00...00` in the output."
   ]
  },
  {
   "cell_type": "code",
   "execution_count": 13,
   "id": "1f0d9c51",
   "metadata": {},
   "outputs": [
    {
     "name": "stdout",
     "output_type": "stream",
     "text": [
      "[0.889, 0.69, 0.497, 0.3735, 0.301, 0.2225, 0.167, 0.011, 0.0265, 0.0155]\n"
     ]
    }
   ],
   "source": [
    "# job = service.job(\"d1obougt0npc73flhiag\")\n",
    "result = job.result()\n",
    "fidelity_f = [fidelity(result=res) for res in result]\n",
    "print(fidelity_f)\n",
    "usage_f = job.usage()"
   ]
  },
  {
   "cell_type": "markdown",
   "id": "a5bcd1a8",
   "metadata": {},
   "source": [
    "## Comparison of workflow and circuit without fractional gates\n",
    "\n",
    "In this section, we present the the standard Qiskit patterns workflow using a backend that does not support fractional gates.\n",
    "By comparing the transpiled circuits, you will notice that the version using fractional gates (from the previous section) is more compact than the one without fractional gates."
   ]
  },
  {
   "cell_type": "code",
   "execution_count": 14,
   "id": "e97fd0d5",
   "metadata": {},
   "outputs": [],
   "source": [
    "# step 1: map classical inputs to quantum problem\n",
    "# `circuits` and `params` from the previous section are reused here"
   ]
  },
  {
   "cell_type": "code",
   "execution_count": 15,
   "id": "a10f2d95",
   "metadata": {},
   "outputs": [
    {
     "name": "stdout",
     "output_type": "stream",
     "text": [
      "OrderedDict({'rz': 130, 'sx': 80, 'cz': 36, 'measure': 4, 'barrier': 2})\n"
     ]
    },
    {
     "data": {
      "text/plain": [
       "<Image src=\"/docs/images/tutorials/fractional-gates/extracted-outputs/a10f2d95-1.avif\" alt=\"Output of the previous code cell\" />"
      ]
     },
     "execution_count": 15,
     "metadata": {},
     "output_type": "execute_result"
    }
   ],
   "source": [
    "# step 2: optimize circuits\n",
    "backend_c = service.backend(backend_name)  # w/o fractional gates\n",
    "pm_c = generate_preset_pass_manager(\n",
    "    optimization_level=optimization_level, backend=backend_c\n",
    ")\n",
    "t_qc_c = pm_c.run(circuits)\n",
    "print(t_qc_c[0].count_ops())\n",
    "t_qc_c[0].draw(\"mpl\", fold=-1)"
   ]
  },
  {
   "cell_type": "code",
   "execution_count": 16,
   "id": "bb3475df",
   "metadata": {},
   "outputs": [],
   "source": [
    "nnl_c = [qc.num_nonlocal_gates() for qc in t_qc_c]\n",
    "depth_c = [qc.depth() for qc in t_qc_c]\n",
    "duration_c = [\n",
    "    qc.estimate_duration(backend_c.target, unit=\"u\") for qc in t_qc_c\n",
    "]"
   ]
  },
  {
   "cell_type": "code",
   "execution_count": 17,
   "id": "eb427584",
   "metadata": {},
   "outputs": [],
   "source": [
    "# step 3: execute\n",
    "sampler_c = SamplerV2(backend_c)\n",
    "sampler_c.options.dynamical_decoupling.enable = True\n",
    "sampler_c.options.dynamical_decoupling.sequence_type = \"XY4\"\n",
    "sampler_c.options.dynamical_decoupling.skip_reset_qubits = True"
   ]
  },
  {
   "cell_type": "code",
   "execution_count": 18,
   "id": "983dd26f",
   "metadata": {},
   "outputs": [
    {
     "name": "stdout",
     "output_type": "stream",
     "text": [
      "d1obp8j3rr0s73bg4810\n"
     ]
    }
   ],
   "source": [
    "job = sampler_c.run(pubs=zip(t_qc_c, params), shots=shots)\n",
    "print(job.job_id())"
   ]
  },
  {
   "cell_type": "code",
   "execution_count": 19,
   "id": "a6a6fa77",
   "metadata": {},
   "outputs": [
    {
     "name": "stdout",
     "output_type": "stream",
     "text": [
      "[0.765, 0.3685, 0.241, 0.1695, 0.076, 0.0815, 0.054, 0.002, 0.006, 0.011]\n"
     ]
    }
   ],
   "source": [
    "# step 4: post-processing\n",
    "# job = service.job(\"d1obp8j3rr0s73bg4810\")\n",
    "result = job.result()\n",
    "fidelity_c = [fidelity(res) for res in result]\n",
    "print(fidelity_c)\n",
    "usage_c = job.usage()"
   ]
  },
  {
   "cell_type": "markdown",
   "id": "765a7980",
   "metadata": {},
   "source": [
    "## Comparison of depths and fidelities\n",
    "\n",
    "In this section, we compare the number of non-local gates and the fidelities between circuits with and without fractional gates.\n",
    "This highlights the potential benefits of using fractional gates in terms of execution efficiency and quality."
   ]
  },
  {
   "cell_type": "code",
   "execution_count": 20,
   "id": "ef343a53",
   "metadata": {},
   "outputs": [
    {
     "data": {
      "text/plain": [
       "<matplotlib.legend.Legend at 0x7f634f340920>"
      ]
     },
     "execution_count": 20,
     "metadata": {},
     "output_type": "execute_result"
    },
    {
     "data": {
      "text/plain": [
       "<Image src=\"/docs/images/tutorials/fractional-gates/extracted-outputs/ef343a53-1.avif\" alt=\"Output of the previous code cell\" />"
      ]
     },
     "metadata": {},
     "output_type": "display_data"
    }
   ],
   "source": [
    "plt.plot(qubits, depth_c, \"-o\", label=\"no fractional gates\")\n",
    "plt.plot(qubits, depth_f, \"-o\", label=\"with fractional gates\")\n",
    "plt.xlabel(\"number of qubits\")\n",
    "plt.ylabel(\"depth\")\n",
    "plt.title(\"Comparison of depths\")\n",
    "plt.grid()\n",
    "plt.legend()"
   ]
  },
  {
   "cell_type": "code",
   "execution_count": 21,
   "id": "98bb2cd0",
   "metadata": {},
   "outputs": [
    {
     "data": {
      "text/plain": [
       "<matplotlib.legend.Legend at 0x7f634d460ce0>"
      ]
     },
     "execution_count": 21,
     "metadata": {},
     "output_type": "execute_result"
    },
    {
     "data": {
      "text/plain": [
       "<Image src=\"/docs/images/tutorials/fractional-gates/extracted-outputs/98bb2cd0-1.avif\" alt=\"Output of the previous code cell\" />"
      ]
     },
     "metadata": {},
     "output_type": "display_data"
    }
   ],
   "source": [
    "plt.plot(qubits, duration_c, \"-o\", label=\"no fractional gates\")\n",
    "plt.plot(qubits, duration_f, \"-o\", label=\"with fractional gates\")\n",
    "plt.xlabel(\"number of qubits\")\n",
    "plt.ylabel(\"duration (µs)\")\n",
    "plt.title(\"Comparison of durations\")\n",
    "plt.grid()\n",
    "plt.legend()"
   ]
  },
  {
   "cell_type": "code",
   "execution_count": 22,
   "id": "1383b242",
   "metadata": {},
   "outputs": [
    {
     "data": {
      "text/plain": [
       "<matplotlib.legend.Legend at 0x7f634d4b5b20>"
      ]
     },
     "execution_count": 22,
     "metadata": {},
     "output_type": "execute_result"
    },
    {
     "data": {
      "text/plain": [
       "<Image src=\"/docs/images/tutorials/fractional-gates/extracted-outputs/1383b242-1.avif\" alt=\"Output of the previous code cell\" />"
      ]
     },
     "metadata": {},
     "output_type": "display_data"
    }
   ],
   "source": [
    "plt.plot(qubits, nnl_c, \"-o\", label=\"no fractional gates\")\n",
    "plt.plot(qubits, nnl_f, \"-o\", label=\"with fractional gates\")\n",
    "plt.xlabel(\"number of qubits\")\n",
    "plt.ylabel(\"number of non-local gates\")\n",
    "plt.title(\"Comparison of numbers of non-local gates\")\n",
    "plt.grid()\n",
    "plt.legend()"
   ]
  },
  {
   "cell_type": "code",
   "execution_count": 23,
   "id": "8b4594f5",
   "metadata": {},
   "outputs": [
    {
     "data": {
      "text/plain": [
       "<matplotlib.legend.Legend at 0x7f634c307a40>"
      ]
     },
     "execution_count": 23,
     "metadata": {},
     "output_type": "execute_result"
    },
    {
     "data": {
      "text/plain": [
       "<Image src=\"/docs/images/tutorials/fractional-gates/extracted-outputs/8b4594f5-1.avif\" alt=\"Output of the previous code cell\" />"
      ]
     },
     "metadata": {},
     "output_type": "display_data"
    }
   ],
   "source": [
    "plt.plot(qubits, fidelity_c, \"-o\", label=\"no fractional gates\")\n",
    "plt.plot(qubits, fidelity_f, \"-o\", label=\"with fractional gates\")\n",
    "plt.xlabel(\"number of qubits\")\n",
    "plt.ylabel(\"fidelity\")\n",
    "plt.title(\"Comparison of fidelities\")\n",
    "plt.grid()\n",
    "plt.legend()"
   ]
  },
  {
   "cell_type": "markdown",
   "id": "d38b9fe1",
   "metadata": {},
   "source": [
    "We compare the QPU usage time with and without fractional gates. The results in the following cell show that the QPU usage times are almost identical."
   ]
  },
  {
   "cell_type": "code",
   "execution_count": 24,
   "id": "793326ca",
   "metadata": {},
   "outputs": [
    {
     "name": "stdout",
     "output_type": "stream",
     "text": [
      "no fractional gates: 11 seconds\n",
      "fractional gates: 11 seconds\n"
     ]
    }
   ],
   "source": [
    "print(f\"no fractional gates: {usage_c} seconds\")\n",
    "print(f\"fractional gates: {usage_f} seconds\")"
   ]
  },
  {
   "cell_type": "markdown",
   "id": "efe18f80",
   "metadata": {},
   "source": [
    "## Advanced topic: Using only fractional RX gates\n",
    "\n",
    "The need for the modified workflow when using fractional gates primarily stems from the restriction on RZZ gate angles.\n",
    "However, if you use only the fractional RX gates and exclude the fractional RZZ gates, you can continue to follow the standard Qiskit patterns workflow.\n",
    "This approach can still offer meaningful benefits, particularly in circuits that involve a large number of RX gates and U gates, by reducing the overall gate count and potentially improving performance.\n",
    "In this section, we demonstrate how to optimize your circuits using only fractional RX gates, while omitting RZZ gates.\n",
    "\n",
    "To support this, we provide a utility function that allows you to disable a specific basis gate in a Target object.\n",
    "Here, we use it to disable RZZ gates."
   ]
  },
  {
   "cell_type": "code",
   "execution_count": 25,
   "id": "e8ef2603",
   "metadata": {},
   "outputs": [],
   "source": [
    "from qiskit.circuit.library import n_local\n",
    "from qiskit.transpiler import Target"
   ]
  },
  {
   "cell_type": "code",
   "execution_count": 26,
   "id": "ab43ba23",
   "metadata": {},
   "outputs": [],
   "source": [
    "def remove_instruction_from_target(target: Target, gate_name: str) -> Target:\n",
    "    new_target = Target(\n",
    "        description=target.description,\n",
    "        num_qubits=target.num_qubits,\n",
    "        dt=target.dt,\n",
    "        granularity=target.granularity,\n",
    "        min_length=target.min_length,\n",
    "        pulse_alignment=target.pulse_alignment,\n",
    "        acquire_alignment=target.acquire_alignment,\n",
    "        qubit_properties=target.qubit_properties,\n",
    "        concurrent_measurements=target.concurrent_measurements,\n",
    "    )\n",
    "\n",
    "    for name, qarg_map in target.items():\n",
    "        if name == gate_name:\n",
    "            continue\n",
    "        instruction = target.operation_from_name(name)\n",
    "        new_target.add_instruction(instruction, qarg_map, name=name)\n",
    "    return new_target"
   ]
  },
  {
   "cell_type": "markdown",
   "id": "7f689a02",
   "metadata": {},
   "source": [
    "We use a circuit consisting of U, CZ, and RZZ gates as an example."
   ]
  },
  {
   "cell_type": "code",
   "execution_count": 27,
   "id": "6b812497",
   "metadata": {},
   "outputs": [
    {
     "data": {
      "text/plain": [
       "<Image src=\"/docs/images/tutorials/fractional-gates/extracted-outputs/6b812497-0.avif\" alt=\"Output of the previous code cell\" />"
      ]
     },
     "execution_count": 27,
     "metadata": {},
     "output_type": "execute_result"
    }
   ],
   "source": [
    "qc = n_local(3, \"u\", \"cz\", \"linear\", reps=1)\n",
    "qc.rzz(1.1, 0, 1)\n",
    "qc.draw(\"mpl\")"
   ]
  },
  {
   "cell_type": "markdown",
   "id": "fa9dc1c4",
   "metadata": {},
   "source": [
    "We first transpile the circuit for a backend that does not support fractional gates."
   ]
  },
  {
   "cell_type": "code",
   "execution_count": 28,
   "id": "9e8e0709",
   "metadata": {},
   "outputs": [
    {
     "name": "stdout",
     "output_type": "stream",
     "text": [
      "OrderedDict({'rz': 23, 'sx': 16, 'cz': 4})\n"
     ]
    },
    {
     "data": {
      "text/plain": [
       "<Image src=\"/docs/images/tutorials/fractional-gates/extracted-outputs/9e8e0709-1.avif\" alt=\"Output of the previous code cell\" />"
      ]
     },
     "execution_count": 28,
     "metadata": {},
     "output_type": "execute_result"
    }
   ],
   "source": [
    "pm_c = generate_preset_pass_manager(\n",
    "    optimization_level=optimization_level, backend=backend_c\n",
    ")\n",
    "t_qc = pm_c.run(qc)\n",
    "print(t_qc.count_ops())\n",
    "t_qc.draw(\"mpl\")"
   ]
  },
  {
   "cell_type": "markdown",
   "id": "bd0e24da",
   "metadata": {},
   "source": [
    "Then, we transpile the same circuit using fractional RX gates, while excluding RZZ gates.\n",
    "This results in a slight reduction in the total gate count, thanks to the more efficient implementation of the RX gates."
   ]
  },
  {
   "cell_type": "code",
   "execution_count": 29,
   "id": "db45feb0",
   "metadata": {},
   "outputs": [
    {
     "name": "stdout",
     "output_type": "stream",
     "text": [
      "OrderedDict({'rz': 22, 'sx': 14, 'cz': 4, 'rx': 1})\n"
     ]
    },
    {
     "data": {
      "text/plain": [
       "<Image src=\"/docs/images/tutorials/fractional-gates/extracted-outputs/db45feb0-1.avif\" alt=\"Output of the previous code cell\" />"
      ]
     },
     "execution_count": 29,
     "metadata": {},
     "output_type": "execute_result"
    }
   ],
   "source": [
    "backend_f = service.backend(backend_name, use_fractional_gates=True)\n",
    "target = remove_instruction_from_target(backend_f.target, \"rzz\")\n",
    "pm_f = generate_preset_pass_manager(\n",
    "    optimization_level=optimization_level,\n",
    "    target=target,\n",
    ")\n",
    "t_qc = pm_f.run(qc)\n",
    "print(t_qc.count_ops())\n",
    "t_qc.draw(\"mpl\")"
   ]
  },
  {
   "cell_type": "markdown",
   "id": "15140636",
   "metadata": {},
   "source": [
    "### Optimize U gates with fractional RX gates\n",
    "\n",
    "In this section, we demonstrate how to optimize U gates using fractional RX gates, building on the same circuit introduced in the previous section.\n",
    "\n",
    "You will need to install the `qiskit-basis-constructor` [package](https://github.com/Qiskit/qiskit-basis-constructor) for this section.\n",
    "This is a beta version of a new transpilation plugin for Qiskit, which might be integrated into Qiskit in the future."
   ]
  },
  {
   "cell_type": "code",
   "execution_count": 30,
   "id": "fc4ccb1f",
   "metadata": {},
   "outputs": [],
   "source": [
    "# %pip install qiskit-basis-constructor"
   ]
  },
  {
   "cell_type": "code",
   "execution_count": 31,
   "id": "ab3c9771",
   "metadata": {},
   "outputs": [],
   "source": [
    "from qiskit.circuit.library import UGate\n",
    "from qiskit_basis_constructor import DEFAULT_EQUIVALENCE_LIBRARY"
   ]
  },
  {
   "cell_type": "markdown",
   "id": "3f73cbda",
   "metadata": {},
   "source": [
    "We transpile the circuit using only fractional RX gates, excluding RZZ gates.\n",
    "By introducing a custom decomposition rule, as shown in the following,\n",
    "we can reduce the number of single-qubit gates required to implement a U gate.\n",
    "\n",
    "This feature is currently under discussion in this [GitHub issue.](https://github.com/Qiskit/qiskit/issues/13455)"
   ]
  },
  {
   "cell_type": "code",
   "execution_count": 32,
   "id": "0f0c6d87",
   "metadata": {},
   "outputs": [],
   "source": [
    "# special decomposition rule for UGate\n",
    "x = ParameterVector(\"x\", 3)\n",
    "zxz = QuantumCircuit(1)\n",
    "zxz.rz(x[2] - np.pi / 2, 0)\n",
    "zxz.rx(x[0], 0)\n",
    "zxz.rz(x[1] + np.pi / 2, 0)\n",
    "DEFAULT_EQUIVALENCE_LIBRARY.add_equivalence(UGate(x[0], x[1], x[2]), zxz)"
   ]
  },
  {
   "cell_type": "markdown",
   "id": "91c824d8",
   "metadata": {},
   "source": [
    "Next, we apply the transpiler using `constructor-beta` translation provided by `qiskit-basis-constructor` package.\n",
    "As a result, the total number of gates is reduced compare to the previous transpilation."
   ]
  },
  {
   "cell_type": "code",
   "execution_count": 33,
   "id": "b19aae7c",
   "metadata": {},
   "outputs": [
    {
     "name": "stdout",
     "output_type": "stream",
     "text": [
      "OrderedDict({'rz': 16, 'rx': 9, 'cz': 4})\n"
     ]
    },
    {
     "data": {
      "text/plain": [
       "<Image src=\"/docs/images/tutorials/fractional-gates/extracted-outputs/b19aae7c-1.avif\" alt=\"Output of the previous code cell\" />"
      ]
     },
     "execution_count": 33,
     "metadata": {},
     "output_type": "execute_result"
    }
   ],
   "source": [
    "pm_f = generate_preset_pass_manager(\n",
    "    optimization_level=optimization_level,\n",
    "    target=target,\n",
    "    translation_method=\"constructor-beta\",\n",
    ")\n",
    "t_qc = pm_f.run(qc)\n",
    "print(t_qc.count_ops())\n",
    "t_qc.draw(\"mpl\")"
   ]
  },
  {
   "cell_type": "markdown",
   "id": "9aac2d84",
   "metadata": {},
   "source": [
    "## Troubleshooting"
   ]
  },
  {
   "cell_type": "markdown",
   "id": "dbf2b738",
   "metadata": {},
   "source": [
    "### Issue: Invalid RZZ angles might remain after transpilation\n",
    "\n",
    "As of Qiskit v2.0.3, there are known issues where RZZ gates with invalid angles may remain in the circuits even after transpilation.\n",
    "The issue typically arises under the following conditions."
   ]
  },
  {
   "cell_type": "markdown",
   "id": "0bb37cb1",
   "metadata": {},
   "source": [
    "#### Failure when using `target` option with `generate_preset_pass_manager` or `transpiler`\n",
    "\n",
    "When the `target` option is used with `generate_preset_pass_manager` or `transpiler`, the specialized transpiler pass `FoldRzzAngle` is not invoked.\n",
    "To ensure proper handling of RZZ angles for fractional gates, we recommend always using the `backend` option instead.\n",
    "See [this issue](https://github.com/Qiskit/qiskit/issues/14318) for more details."
   ]
  },
  {
   "cell_type": "markdown",
   "id": "ac27c7cb",
   "metadata": {},
   "source": [
    "#### Failure when circuits contain certain gates\n",
    "\n",
    "If your circuit includes certain gates such as `XXPlusYYGate`, the Qiskit transpiler may generate RZZ gates with invalid angles.\n",
    "If you encounter this issue, see this [GitHub issue](https://github.com/Qiskit/qiskit-ibm-runtime/issues/2256#issuecomment-2889487152) for a workaround."
   ]
  },
  {
   "cell_type": "markdown",
   "id": "23ad4615",
   "metadata": {},
   "source": [
    "## Tutorial survey\n",
    "\n",
    "Please take this short survey to provide feedback on this tutorial. Your insights will help us improve our content offerings and user experience.\n",
    "\n",
    "[Link to survey](https://your.feedback.ibm.com/jfe/form/SV_cCNiGkGX5xZMzoG)"
   ]
  }
 ],
 "metadata": {
  "description": "Fractional gates, parameterized quantum gates that enable direct execution of arbitrary-angle rotations, can reduce depth and duration of quantum circuits.",
  "kernelspec": {
   "display_name": "Python 3",
   "language": "python",
   "name": "python3"
  },
  "language_info": {
   "codemirror_mode": {
    "name": "ipython",
    "version": 3
   },
   "file_extension": ".py",
   "mimetype": "text/x-python",
   "name": "python",
   "nbconvert_exporter": "python",
   "pygments_lexer": "ipython3",
   "version": "3"
  },
  "title": "Introduction to fractional gates\n"
 },
 "nbformat": 4,
 "nbformat_minor": 5
}
