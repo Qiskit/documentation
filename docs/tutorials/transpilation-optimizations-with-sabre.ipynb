{
 "cells": [
  {
   "cell_type": "markdown",
   "id": "e241deb2-2048-4da8-b0bd-3727a25f4b82",
   "metadata": {},
   "source": [
    "{/* cspell:ignore edgecolor */}\n",
    "\n",
    "# Transpilation Optimizations with SABRE\n",
    "*Usage estimate: under 1 minute on IBM Sherbrooke (NOTE: This is an estimate only. Your runtime may vary.)*"
   ]
  },
  {
   "cell_type": "markdown",
   "id": "bfe71302-3cf7-4c24-be7b-4444c143ec12",
   "metadata": {},
   "source": [
    "## Background\n",
    "Transpilation is a critical step in Qiskit that converts quantum circuits into forms compatible with specific quantum hardware. It involves two key stages: **qubit layout** (mapping logical qubits to physical qubits on the device) and **gate routing** (ensuring multi-qubit gates respect device connectivity by inserting SWAP gates as needed).\n",
    "\n",
    "SABRE (*SWAP-Based Bidirectional heuristic search algorithm*) is a powerful optimization tool for both layout and routing. It is especially effective for **large-scale circuits** (100+ qubits) and devices with complex coupling maps, like the **IBM Heron**, where the exponential growth in possible qubit mappings demands efficient solutions.\n",
    "\n",
    "### Why use SABRE?\n",
    "\n",
    "SABRE minimizes the number of SWAP gates and reduces circuit depth, improving circuit performance on real hardware. Its heuristic-based approach makes it ideal for advanced hardware and large, complex circuits. Recent improvements introduced in the [LightSABRE](https://arxiv.org/abs/2409.08368) algorithm further optimize SABRE’s performance, offering faster runtimes and fewer SWAP gates. These enhancements make it even more effective for large-scale circuits.\n",
    "\n",
    "### What you’ll learn\n",
    "\n",
    "This tutorial is divided into two parts:\n",
    "1. Learn to use SABRE with **Qiskit Patterns** for advanced optimization of large circuits.\n",
    "2. Leverage **qiskit_serverless** to maximize SABRE’s potential for scalable and efficient transpilation.\n",
    "\n",
    "You will:\n",
    "- Optimize SABRE for circuits with 100+ qubits, surpassing default transpilation settings like `optimization_level=3`.\n",
    "- Explore **LightSABRE enhancements** that improve runtime and reduce gate counts.\n",
    "- Customize key SABRE parameters (`swap_trials`, `layout_trials`, `max_iterations`, `heuristic`) to balance **circuit quality** and **transpilation runtime**."
   ]
  },
  {
   "cell_type": "markdown",
   "id": "a995fee0-be51-4494-9117-469ce2f43fe1",
   "metadata": {},
   "source": [
    "## Requirements\n",
    "\n",
    "Before starting this tutorial, be sure you have the following installed:\n",
    "- Qiskit SDK v1.0 or later, with visualization support ( `pip install 'qiskit[visualization]'` )\n",
    "- Qiskit Runtime 0.28 or later (`pip install qiskit-ibm-runtime`)\n",
    "- Rustworkx graph library (`pip install rustworkx`)\n",
    "- Serverless (`pip install qiskit-ibm-catalog qiskit_serverless`)"
   ]
  },
  {
   "cell_type": "markdown",
   "id": "9fbfa675-11f4-4a63-b49a-21eae9c52347",
   "metadata": {},
   "source": [
    "## Setup"
   ]
  },
  {
   "cell_type": "code",
   "execution_count": 1,
   "id": "00795f4b-9851-46e5-b9bf-d462a34172c7",
   "metadata": {},
   "outputs": [],
   "source": [
    "from qiskit import QuantumCircuit\n",
    "from qiskit.quantum_info import SparsePauliOp\n",
    "from qiskit_ibm_catalog import QiskitServerless, QiskitFunction\n",
    "from qiskit_ibm_runtime import QiskitRuntimeService\n",
    "from qiskit_ibm_runtime import EstimatorOptions\n",
    "from qiskit_ibm_runtime import EstimatorV2 as Estimator\n",
    "from qiskit.transpiler import CouplingMap\n",
    "from qiskit.transpiler.passes import SabreLayout, SabreSwap\n",
    "from qiskit.transpiler.preset_passmanagers import generate_preset_pass_manager\n",
    "import matplotlib.pyplot as plt\n",
    "import numpy as np\n",
    "import time"
   ]
  },
  {
   "cell_type": "markdown",
   "id": "1d34d6e4-8497-4ed2-9ee7-2f0beed587d6",
   "metadata": {},
   "source": [
    "## Part I. Using SABRE with Qiskit Patterns\n",
    "\n",
    "SABRE can be used in Qiskit to optimize quantum circuits by handling both the qubit layout and gate routing stages. In this section, we’ll guide you through the **minimal example** of using SABRE with Qiskit patterns, with the primary focus on step 2 of optimization.\n",
    "\n",
    "To run SABRE, you need:\n",
    "- A **DAG** (Directed Acyclic Graph) representation of your quantum circuit.\n",
    "- The **coupling map** from the backend, which specifies how qubits are physically connected.\n",
    "- The **SABRE pass**, which applies the algorithm to optimize the layout and routing.\n",
    "\n",
    "For this part, we’ll focus on the **SabreLayout** pass. It performs both layout and routing trials, working to find the most efficient initial layout while minimizing the number of SWAP gates needed. Importantly, `SabreLayout`, just by itself, internally optimizes both the layout and routing by storing the solution that adds the least number of SWAP gates. Note that when using just **SabreLayout**, we cannot change the heuristic of SABRE, but we are able to customize the number of `layout_trials`."
   ]
  },
  {
   "attachments": {},
   "cell_type": "markdown",
   "id": "14ab26cb-7c9e-49b7-ad17-221a93d38080",
   "metadata": {},
   "source": [
    "### Step 1: Map classical inputs to a quantum problem\n",
    "\n",
    "A **GHZ (Greenberger-Horne-Zeilinger)** circuit is a quantum circuit that prepares an entangled state where all qubits are either in the `|0...0⟩` or `|1...1⟩` state. The GHZ state for $n$ qubits is mathematically represented as:\n",
    "$$ |\\text{GHZ}\\rangle = \\frac{1}{\\sqrt{2}} \\left( |0\\rangle^{\\otimes n} + |1\\rangle^{\\otimes n} \\right) $$\n",
    "\n",
    "It is constructed by applying:\n",
    "1. A Hadamard gate to the first qubit to create superposition.\n",
    "2. A series of CNOT gates to entangle the remaining qubits with the first.\n",
    "\n",
    "For this example, we intentionally construct a **star-topology GHZ circuit** instead of a linear-topology one. In the star topology, the first qubit acts as the \"hub,\" and all other qubits are entangled directly with it using CNOT gates. This choice is deliberate because, while the **linear topology GHZ state** can theoretically be implemented in $ O(N) $ depth on a linear coupling map without any SWAP gates, SABRE would trivially find an optimal solution by mapping a 100-qubit GHZ circuit to a subgraph of the backend's heavy-hex coupling map.\n",
    "\n",
    "The **star topology GHZ circuit** poses a significantly more challenging problem. Although it can still theoretically be executed in $ O(N) $ depth without SWAP gates, finding this solution requires identifying an optimal initial layout, which is much harder due to the non-linear connectivity of the circuit. This topology serves as a better test case for evaluating SABRE, as it demonstrates how configuration parameters impact layout and routing performance under more complex conditions.\n",
    "\n",
    "![ghz_star_topology.png](/docs/images/tutorials/transpilation-optimizations-with-sabre/ghz_star_topology.avif)\n",
    "\n",
    "Notably:\n",
    "- The **HighLevelSynthesis** tool can produce the optimal $ O(N) $ depth solution for the star topology GHZ circuit without introducing SWAP gates, like shown in the image above.\n",
    "- Alternatively, the **StarPrerouting** pass can reduce the depth further by guiding SABRE's routing decisions, though it may still introduce some SWAP gates. However, StarPrerouting increases runtime and requires integration into the initial transpilation process.\n",
    "\n",
    "For the purposes of this notebook, we exclude both HighLevelSynthesis and StarPrerouting to isolate and highlight the direct impact of SABRE configuration on runtime and circuit depth. By measuring the expectation value $ \\langle Z_0 Z_i \\rangle $ for each qubit pair, we analyze:\n",
    "- How well SABRE reduces SWAP gates and circuit depth.\n",
    "- The effect of these optimizations on the fidelity of the executed circuit, where deviations from $ \\langle Z_0 Z_i \\rangle = 1 $ indicate loss of entanglement.!"
   ]
  },
  {
   "cell_type": "code",
   "execution_count": 2,
   "id": "24ad7e06-9605-415e-92b3-a283f24b6a01",
   "metadata": {},
   "outputs": [],
   "source": [
    "# set seed for reproducibility\n",
    "seed = 42\n",
    "num_qubits = 100\n",
    "\n",
    "# Create GHZ circuit\n",
    "qc = QuantumCircuit(num_qubits)\n",
    "qc.h(0)\n",
    "for i in range(1, num_qubits):\n",
    "    qc.cx(0, i)\n",
    "\n",
    "qc.measure_all()"
   ]
  },
  {
   "cell_type": "markdown",
   "id": "dc511a0d-2ea0-416b-8bae-60ed903c6756",
   "metadata": {},
   "source": [
    "Next, we will map the operators of interest to evaluate the behavior of the system. Specifically, we will use `ZZ` operators between qubits to examine how the entanglement degrades as the qubits become farther apart. This analysis is critical because inaccuracies in the expectation values  $\\langle Z_0 Z_i \\rangle$ for distant qubits can reveal the impact of noise and errors in the circuit execution. By studying these deviations, we gain insight into how well the circuit preserves entanglement under different SABRE configurations and how effectively SABRE minimizes the impact of hardware constraints."
   ]
  },
  {
   "cell_type": "code",
   "execution_count": 3,
   "id": "6fb02808-12d8-4698-8c5c-8f9a9e09ca0d",
   "metadata": {},
   "outputs": [
    {
     "name": "stdout",
     "output_type": "stream",
     "text": [
      "['ZZIIIIIIIIIIIIIIIIIIIIIIIIIIIIIIIIIIIIIIIIIIIIIIIIIIIIIIIIIIIIIIIIIIIIIIIIIIIIIIIIIIIIIIIIIIIIIIIIII', 'ZIZIIIIIIIIIIIIIIIIIIIIIIIIIIIIIIIIIIIIIIIIIIIIIIIIIIIIIIIIIIIIIIIIIIIIIIIIIIIIIIIIIIIIIIIIIIIIIIIII', 'ZIIZIIIIIIIIIIIIIIIIIIIIIIIIIIIIIIIIIIIIIIIIIIIIIIIIIIIIIIIIIIIIIIIIIIIIIIIIIIIIIIIIIIIIIIIIIIIIIIII', 'ZIIIZIIIIIIIIIIIIIIIIIIIIIIIIIIIIIIIIIIIIIIIIIIIIIIIIIIIIIIIIIIIIIIIIIIIIIIIIIIIIIIIIIIIIIIIIIIIIIII', 'ZIIIIZIIIIIIIIIIIIIIIIIIIIIIIIIIIIIIIIIIIIIIIIIIIIIIIIIIIIIIIIIIIIIIIIIIIIIIIIIIIIIIIIIIIIIIIIIIIIII', 'ZIIIIIZIIIIIIIIIIIIIIIIIIIIIIIIIIIIIIIIIIIIIIIIIIIIIIIIIIIIIIIIIIIIIIIIIIIIIIIIIIIIIIIIIIIIIIIIIIIII', 'ZIIIIIIZIIIIIIIIIIIIIIIIIIIIIIIIIIIIIIIIIIIIIIIIIIIIIIIIIIIIIIIIIIIIIIIIIIIIIIIIIIIIIIIIIIIIIIIIIIII', 'ZIIIIIIIZIIIIIIIIIIIIIIIIIIIIIIIIIIIIIIIIIIIIIIIIIIIIIIIIIIIIIIIIIIIIIIIIIIIIIIIIIIIIIIIIIIIIIIIIIII', 'ZIIIIIIIIZIIIIIIIIIIIIIIIIIIIIIIIIIIIIIIIIIIIIIIIIIIIIIIIIIIIIIIIIIIIIIIIIIIIIIIIIIIIIIIIIIIIIIIIIII', 'ZIIIIIIIIIZIIIIIIIIIIIIIIIIIIIIIIIIIIIIIIIIIIIIIIIIIIIIIIIIIIIIIIIIIIIIIIIIIIIIIIIIIIIIIIIIIIIIIIIII', 'ZIIIIIIIIIIZIIIIIIIIIIIIIIIIIIIIIIIIIIIIIIIIIIIIIIIIIIIIIIIIIIIIIIIIIIIIIIIIIIIIIIIIIIIIIIIIIIIIIIII', 'ZIIIIIIIIIIIZIIIIIIIIIIIIIIIIIIIIIIIIIIIIIIIIIIIIIIIIIIIIIIIIIIIIIIIIIIIIIIIIIIIIIIIIIIIIIIIIIIIIIII', 'ZIIIIIIIIIIIIZIIIIIIIIIIIIIIIIIIIIIIIIIIIIIIIIIIIIIIIIIIIIIIIIIIIIIIIIIIIIIIIIIIIIIIIIIIIIIIIIIIIIII', 'ZIIIIIIIIIIIIIZIIIIIIIIIIIIIIIIIIIIIIIIIIIIIIIIIIIIIIIIIIIIIIIIIIIIIIIIIIIIIIIIIIIIIIIIIIIIIIIIIIIII', 'ZIIIIIIIIIIIIIIZIIIIIIIIIIIIIIIIIIIIIIIIIIIIIIIIIIIIIIIIIIIIIIIIIIIIIIIIIIIIIIIIIIIIIIIIIIIIIIIIIIII', 'ZIIIIIIIIIIIIIIIZIIIIIIIIIIIIIIIIIIIIIIIIIIIIIIIIIIIIIIIIIIIIIIIIIIIIIIIIIIIIIIIIIIIIIIIIIIIIIIIIIII', 'ZIIIIIIIIIIIIIIIIZIIIIIIIIIIIIIIIIIIIIIIIIIIIIIIIIIIIIIIIIIIIIIIIIIIIIIIIIIIIIIIIIIIIIIIIIIIIIIIIIII', 'ZIIIIIIIIIIIIIIIIIZIIIIIIIIIIIIIIIIIIIIIIIIIIIIIIIIIIIIIIIIIIIIIIIIIIIIIIIIIIIIIIIIIIIIIIIIIIIIIIIII', 'ZIIIIIIIIIIIIIIIIIIZIIIIIIIIIIIIIIIIIIIIIIIIIIIIIIIIIIIIIIIIIIIIIIIIIIIIIIIIIIIIIIIIIIIIIIIIIIIIIIII', 'ZIIIIIIIIIIIIIIIIIIIZIIIIIIIIIIIIIIIIIIIIIIIIIIIIIIIIIIIIIIIIIIIIIIIIIIIIIIIIIIIIIIIIIIIIIIIIIIIIIII', 'ZIIIIIIIIIIIIIIIIIIIIZIIIIIIIIIIIIIIIIIIIIIIIIIIIIIIIIIIIIIIIIIIIIIIIIIIIIIIIIIIIIIIIIIIIIIIIIIIIIII', 'ZIIIIIIIIIIIIIIIIIIIIIZIIIIIIIIIIIIIIIIIIIIIIIIIIIIIIIIIIIIIIIIIIIIIIIIIIIIIIIIIIIIIIIIIIIIIIIIIIIII', 'ZIIIIIIIIIIIIIIIIIIIIIIZIIIIIIIIIIIIIIIIIIIIIIIIIIIIIIIIIIIIIIIIIIIIIIIIIIIIIIIIIIIIIIIIIIIIIIIIIIII', 'ZIIIIIIIIIIIIIIIIIIIIIIIZIIIIIIIIIIIIIIIIIIIIIIIIIIIIIIIIIIIIIIIIIIIIIIIIIIIIIIIIIIIIIIIIIIIIIIIIIII', 'ZIIIIIIIIIIIIIIIIIIIIIIIIZIIIIIIIIIIIIIIIIIIIIIIIIIIIIIIIIIIIIIIIIIIIIIIIIIIIIIIIIIIIIIIIIIIIIIIIIII', 'ZIIIIIIIIIIIIIIIIIIIIIIIIIZIIIIIIIIIIIIIIIIIIIIIIIIIIIIIIIIIIIIIIIIIIIIIIIIIIIIIIIIIIIIIIIIIIIIIIIII', 'ZIIIIIIIIIIIIIIIIIIIIIIIIIIZIIIIIIIIIIIIIIIIIIIIIIIIIIIIIIIIIIIIIIIIIIIIIIIIIIIIIIIIIIIIIIIIIIIIIIII', 'ZIIIIIIIIIIIIIIIIIIIIIIIIIIIZIIIIIIIIIIIIIIIIIIIIIIIIIIIIIIIIIIIIIIIIIIIIIIIIIIIIIIIIIIIIIIIIIIIIIII', 'ZIIIIIIIIIIIIIIIIIIIIIIIIIIIIZIIIIIIIIIIIIIIIIIIIIIIIIIIIIIIIIIIIIIIIIIIIIIIIIIIIIIIIIIIIIIIIIIIIIII', 'ZIIIIIIIIIIIIIIIIIIIIIIIIIIIIIZIIIIIIIIIIIIIIIIIIIIIIIIIIIIIIIIIIIIIIIIIIIIIIIIIIIIIIIIIIIIIIIIIIIII', 'ZIIIIIIIIIIIIIIIIIIIIIIIIIIIIIIZIIIIIIIIIIIIIIIIIIIIIIIIIIIIIIIIIIIIIIIIIIIIIIIIIIIIIIIIIIIIIIIIIIII', 'ZIIIIIIIIIIIIIIIIIIIIIIIIIIIIIIIZIIIIIIIIIIIIIIIIIIIIIIIIIIIIIIIIIIIIIIIIIIIIIIIIIIIIIIIIIIIIIIIIIII', 'ZIIIIIIIIIIIIIIIIIIIIIIIIIIIIIIIIZIIIIIIIIIIIIIIIIIIIIIIIIIIIIIIIIIIIIIIIIIIIIIIIIIIIIIIIIIIIIIIIIII', 'ZIIIIIIIIIIIIIIIIIIIIIIIIIIIIIIIIIZIIIIIIIIIIIIIIIIIIIIIIIIIIIIIIIIIIIIIIIIIIIIIIIIIIIIIIIIIIIIIIIII', 'ZIIIIIIIIIIIIIIIIIIIIIIIIIIIIIIIIIIZIIIIIIIIIIIIIIIIIIIIIIIIIIIIIIIIIIIIIIIIIIIIIIIIIIIIIIIIIIIIIIII', 'ZIIIIIIIIIIIIIIIIIIIIIIIIIIIIIIIIIIIZIIIIIIIIIIIIIIIIIIIIIIIIIIIIIIIIIIIIIIIIIIIIIIIIIIIIIIIIIIIIIII', 'ZIIIIIIIIIIIIIIIIIIIIIIIIIIIIIIIIIIIIZIIIIIIIIIIIIIIIIIIIIIIIIIIIIIIIIIIIIIIIIIIIIIIIIIIIIIIIIIIIIII', 'ZIIIIIIIIIIIIIIIIIIIIIIIIIIIIIIIIIIIIIZIIIIIIIIIIIIIIIIIIIIIIIIIIIIIIIIIIIIIIIIIIIIIIIIIIIIIIIIIIIII', 'ZIIIIIIIIIIIIIIIIIIIIIIIIIIIIIIIIIIIIIIZIIIIIIIIIIIIIIIIIIIIIIIIIIIIIIIIIIIIIIIIIIIIIIIIIIIIIIIIIIII', 'ZIIIIIIIIIIIIIIIIIIIIIIIIIIIIIIIIIIIIIIIZIIIIIIIIIIIIIIIIIIIIIIIIIIIIIIIIIIIIIIIIIIIIIIIIIIIIIIIIIII', 'ZIIIIIIIIIIIIIIIIIIIIIIIIIIIIIIIIIIIIIIIIZIIIIIIIIIIIIIIIIIIIIIIIIIIIIIIIIIIIIIIIIIIIIIIIIIIIIIIIIII', 'ZIIIIIIIIIIIIIIIIIIIIIIIIIIIIIIIIIIIIIIIIIZIIIIIIIIIIIIIIIIIIIIIIIIIIIIIIIIIIIIIIIIIIIIIIIIIIIIIIIII', 'ZIIIIIIIIIIIIIIIIIIIIIIIIIIIIIIIIIIIIIIIIIIZIIIIIIIIIIIIIIIIIIIIIIIIIIIIIIIIIIIIIIIIIIIIIIIIIIIIIIII', 'ZIIIIIIIIIIIIIIIIIIIIIIIIIIIIIIIIIIIIIIIIIIIZIIIIIIIIIIIIIIIIIIIIIIIIIIIIIIIIIIIIIIIIIIIIIIIIIIIIIII', 'ZIIIIIIIIIIIIIIIIIIIIIIIIIIIIIIIIIIIIIIIIIIIIZIIIIIIIIIIIIIIIIIIIIIIIIIIIIIIIIIIIIIIIIIIIIIIIIIIIIII', 'ZIIIIIIIIIIIIIIIIIIIIIIIIIIIIIIIIIIIIIIIIIIIIIZIIIIIIIIIIIIIIIIIIIIIIIIIIIIIIIIIIIIIIIIIIIIIIIIIIIII', 'ZIIIIIIIIIIIIIIIIIIIIIIIIIIIIIIIIIIIIIIIIIIIIIIZIIIIIIIIIIIIIIIIIIIIIIIIIIIIIIIIIIIIIIIIIIIIIIIIIIII', 'ZIIIIIIIIIIIIIIIIIIIIIIIIIIIIIIIIIIIIIIIIIIIIIIIZIIIIIIIIIIIIIIIIIIIIIIIIIIIIIIIIIIIIIIIIIIIIIIIIIII', 'ZIIIIIIIIIIIIIIIIIIIIIIIIIIIIIIIIIIIIIIIIIIIIIIIIZIIIIIIIIIIIIIIIIIIIIIIIIIIIIIIIIIIIIIIIIIIIIIIIIII', 'ZIIIIIIIIIIIIIIIIIIIIIIIIIIIIIIIIIIIIIIIIIIIIIIIIIZIIIIIIIIIIIIIIIIIIIIIIIIIIIIIIIIIIIIIIIIIIIIIIIII', 'ZIIIIIIIIIIIIIIIIIIIIIIIIIIIIIIIIIIIIIIIIIIIIIIIIIIZIIIIIIIIIIIIIIIIIIIIIIIIIIIIIIIIIIIIIIIIIIIIIIII', 'ZIIIIIIIIIIIIIIIIIIIIIIIIIIIIIIIIIIIIIIIIIIIIIIIIIIIZIIIIIIIIIIIIIIIIIIIIIIIIIIIIIIIIIIIIIIIIIIIIIII', 'ZIIIIIIIIIIIIIIIIIIIIIIIIIIIIIIIIIIIIIIIIIIIIIIIIIIIIZIIIIIIIIIIIIIIIIIIIIIIIIIIIIIIIIIIIIIIIIIIIIII', 'ZIIIIIIIIIIIIIIIIIIIIIIIIIIIIIIIIIIIIIIIIIIIIIIIIIIIIIZIIIIIIIIIIIIIIIIIIIIIIIIIIIIIIIIIIIIIIIIIIIII', 'ZIIIIIIIIIIIIIIIIIIIIIIIIIIIIIIIIIIIIIIIIIIIIIIIIIIIIIIZIIIIIIIIIIIIIIIIIIIIIIIIIIIIIIIIIIIIIIIIIIII', 'ZIIIIIIIIIIIIIIIIIIIIIIIIIIIIIIIIIIIIIIIIIIIIIIIIIIIIIIIZIIIIIIIIIIIIIIIIIIIIIIIIIIIIIIIIIIIIIIIIIII', 'ZIIIIIIIIIIIIIIIIIIIIIIIIIIIIIIIIIIIIIIIIIIIIIIIIIIIIIIIIZIIIIIIIIIIIIIIIIIIIIIIIIIIIIIIIIIIIIIIIIII', 'ZIIIIIIIIIIIIIIIIIIIIIIIIIIIIIIIIIIIIIIIIIIIIIIIIIIIIIIIIIZIIIIIIIIIIIIIIIIIIIIIIIIIIIIIIIIIIIIIIIII', 'ZIIIIIIIIIIIIIIIIIIIIIIIIIIIIIIIIIIIIIIIIIIIIIIIIIIIIIIIIIIZIIIIIIIIIIIIIIIIIIIIIIIIIIIIIIIIIIIIIIII', 'ZIIIIIIIIIIIIIIIIIIIIIIIIIIIIIIIIIIIIIIIIIIIIIIIIIIIIIIIIIIIZIIIIIIIIIIIIIIIIIIIIIIIIIIIIIIIIIIIIIII', 'ZIIIIIIIIIIIIIIIIIIIIIIIIIIIIIIIIIIIIIIIIIIIIIIIIIIIIIIIIIIIIZIIIIIIIIIIIIIIIIIIIIIIIIIIIIIIIIIIIIII', 'ZIIIIIIIIIIIIIIIIIIIIIIIIIIIIIIIIIIIIIIIIIIIIIIIIIIIIIIIIIIIIIZIIIIIIIIIIIIIIIIIIIIIIIIIIIIIIIIIIIII', 'ZIIIIIIIIIIIIIIIIIIIIIIIIIIIIIIIIIIIIIIIIIIIIIIIIIIIIIIIIIIIIIIZIIIIIIIIIIIIIIIIIIIIIIIIIIIIIIIIIIII', 'ZIIIIIIIIIIIIIIIIIIIIIIIIIIIIIIIIIIIIIIIIIIIIIIIIIIIIIIIIIIIIIIIZIIIIIIIIIIIIIIIIIIIIIIIIIIIIIIIIIII', 'ZIIIIIIIIIIIIIIIIIIIIIIIIIIIIIIIIIIIIIIIIIIIIIIIIIIIIIIIIIIIIIIIIZIIIIIIIIIIIIIIIIIIIIIIIIIIIIIIIIII', 'ZIIIIIIIIIIIIIIIIIIIIIIIIIIIIIIIIIIIIIIIIIIIIIIIIIIIIIIIIIIIIIIIIIZIIIIIIIIIIIIIIIIIIIIIIIIIIIIIIIII', 'ZIIIIIIIIIIIIIIIIIIIIIIIIIIIIIIIIIIIIIIIIIIIIIIIIIIIIIIIIIIIIIIIIIIZIIIIIIIIIIIIIIIIIIIIIIIIIIIIIIII', 'ZIIIIIIIIIIIIIIIIIIIIIIIIIIIIIIIIIIIIIIIIIIIIIIIIIIIIIIIIIIIIIIIIIIIZIIIIIIIIIIIIIIIIIIIIIIIIIIIIIII', 'ZIIIIIIIIIIIIIIIIIIIIIIIIIIIIIIIIIIIIIIIIIIIIIIIIIIIIIIIIIIIIIIIIIIIIZIIIIIIIIIIIIIIIIIIIIIIIIIIIIII', 'ZIIIIIIIIIIIIIIIIIIIIIIIIIIIIIIIIIIIIIIIIIIIIIIIIIIIIIIIIIIIIIIIIIIIIIZIIIIIIIIIIIIIIIIIIIIIIIIIIIII', 'ZIIIIIIIIIIIIIIIIIIIIIIIIIIIIIIIIIIIIIIIIIIIIIIIIIIIIIIIIIIIIIIIIIIIIIIZIIIIIIIIIIIIIIIIIIIIIIIIIIII', 'ZIIIIIIIIIIIIIIIIIIIIIIIIIIIIIIIIIIIIIIIIIIIIIIIIIIIIIIIIIIIIIIIIIIIIIIIZIIIIIIIIIIIIIIIIIIIIIIIIIII', 'ZIIIIIIIIIIIIIIIIIIIIIIIIIIIIIIIIIIIIIIIIIIIIIIIIIIIIIIIIIIIIIIIIIIIIIIIIZIIIIIIIIIIIIIIIIIIIIIIIIII', 'ZIIIIIIIIIIIIIIIIIIIIIIIIIIIIIIIIIIIIIIIIIIIIIIIIIIIIIIIIIIIIIIIIIIIIIIIIIZIIIIIIIIIIIIIIIIIIIIIIIII', 'ZIIIIIIIIIIIIIIIIIIIIIIIIIIIIIIIIIIIIIIIIIIIIIIIIIIIIIIIIIIIIIIIIIIIIIIIIIIZIIIIIIIIIIIIIIIIIIIIIIII', 'ZIIIIIIIIIIIIIIIIIIIIIIIIIIIIIIIIIIIIIIIIIIIIIIIIIIIIIIIIIIIIIIIIIIIIIIIIIIIZIIIIIIIIIIIIIIIIIIIIIII', 'ZIIIIIIIIIIIIIIIIIIIIIIIIIIIIIIIIIIIIIIIIIIIIIIIIIIIIIIIIIIIIIIIIIIIIIIIIIIIIZIIIIIIIIIIIIIIIIIIIIII', 'ZIIIIIIIIIIIIIIIIIIIIIIIIIIIIIIIIIIIIIIIIIIIIIIIIIIIIIIIIIIIIIIIIIIIIIIIIIIIIIZIIIIIIIIIIIIIIIIIIIII', 'ZIIIIIIIIIIIIIIIIIIIIIIIIIIIIIIIIIIIIIIIIIIIIIIIIIIIIIIIIIIIIIIIIIIIIIIIIIIIIIIZIIIIIIIIIIIIIIIIIIII', 'ZIIIIIIIIIIIIIIIIIIIIIIIIIIIIIIIIIIIIIIIIIIIIIIIIIIIIIIIIIIIIIIIIIIIIIIIIIIIIIIIZIIIIIIIIIIIIIIIIIII', 'ZIIIIIIIIIIIIIIIIIIIIIIIIIIIIIIIIIIIIIIIIIIIIIIIIIIIIIIIIIIIIIIIIIIIIIIIIIIIIIIIIZIIIIIIIIIIIIIIIIII', 'ZIIIIIIIIIIIIIIIIIIIIIIIIIIIIIIIIIIIIIIIIIIIIIIIIIIIIIIIIIIIIIIIIIIIIIIIIIIIIIIIIIZIIIIIIIIIIIIIIIII', 'ZIIIIIIIIIIIIIIIIIIIIIIIIIIIIIIIIIIIIIIIIIIIIIIIIIIIIIIIIIIIIIIIIIIIIIIIIIIIIIIIIIIZIIIIIIIIIIIIIIII', 'ZIIIIIIIIIIIIIIIIIIIIIIIIIIIIIIIIIIIIIIIIIIIIIIIIIIIIIIIIIIIIIIIIIIIIIIIIIIIIIIIIIIIZIIIIIIIIIIIIIII', 'ZIIIIIIIIIIIIIIIIIIIIIIIIIIIIIIIIIIIIIIIIIIIIIIIIIIIIIIIIIIIIIIIIIIIIIIIIIIIIIIIIIIIIZIIIIIIIIIIIIII', 'ZIIIIIIIIIIIIIIIIIIIIIIIIIIIIIIIIIIIIIIIIIIIIIIIIIIIIIIIIIIIIIIIIIIIIIIIIIIIIIIIIIIIIIZIIIIIIIIIIIII', 'ZIIIIIIIIIIIIIIIIIIIIIIIIIIIIIIIIIIIIIIIIIIIIIIIIIIIIIIIIIIIIIIIIIIIIIIIIIIIIIIIIIIIIIIZIIIIIIIIIIII', 'ZIIIIIIIIIIIIIIIIIIIIIIIIIIIIIIIIIIIIIIIIIIIIIIIIIIIIIIIIIIIIIIIIIIIIIIIIIIIIIIIIIIIIIIIZIIIIIIIIIII', 'ZIIIIIIIIIIIIIIIIIIIIIIIIIIIIIIIIIIIIIIIIIIIIIIIIIIIIIIIIIIIIIIIIIIIIIIIIIIIIIIIIIIIIIIIIZIIIIIIIIII', 'ZIIIIIIIIIIIIIIIIIIIIIIIIIIIIIIIIIIIIIIIIIIIIIIIIIIIIIIIIIIIIIIIIIIIIIIIIIIIIIIIIIIIIIIIIIZIIIIIIIII', 'ZIIIIIIIIIIIIIIIIIIIIIIIIIIIIIIIIIIIIIIIIIIIIIIIIIIIIIIIIIIIIIIIIIIIIIIIIIIIIIIIIIIIIIIIIIIZIIIIIIII', 'ZIIIIIIIIIIIIIIIIIIIIIIIIIIIIIIIIIIIIIIIIIIIIIIIIIIIIIIIIIIIIIIIIIIIIIIIIIIIIIIIIIIIIIIIIIIIZIIIIIII', 'ZIIIIIIIIIIIIIIIIIIIIIIIIIIIIIIIIIIIIIIIIIIIIIIIIIIIIIIIIIIIIIIIIIIIIIIIIIIIIIIIIIIIIIIIIIIIIZIIIIII', 'ZIIIIIIIIIIIIIIIIIIIIIIIIIIIIIIIIIIIIIIIIIIIIIIIIIIIIIIIIIIIIIIIIIIIIIIIIIIIIIIIIIIIIIIIIIIIIIZIIIII', 'ZIIIIIIIIIIIIIIIIIIIIIIIIIIIIIIIIIIIIIIIIIIIIIIIIIIIIIIIIIIIIIIIIIIIIIIIIIIIIIIIIIIIIIIIIIIIIIIZIIII', 'ZIIIIIIIIIIIIIIIIIIIIIIIIIIIIIIIIIIIIIIIIIIIIIIIIIIIIIIIIIIIIIIIIIIIIIIIIIIIIIIIIIIIIIIIIIIIIIIIZIII', 'ZIIIIIIIIIIIIIIIIIIIIIIIIIIIIIIIIIIIIIIIIIIIIIIIIIIIIIIIIIIIIIIIIIIIIIIIIIIIIIIIIIIIIIIIIIIIIIIIIZII', 'ZIIIIIIIIIIIIIIIIIIIIIIIIIIIIIIIIIIIIIIIIIIIIIIIIIIIIIIIIIIIIIIIIIIIIIIIIIIIIIIIIIIIIIIIIIIIIIIIIIZI', 'ZIIIIIIIIIIIIIIIIIIIIIIIIIIIIIIIIIIIIIIIIIIIIIIIIIIIIIIIIIIIIIIIIIIIIIIIIIIIIIIIIIIIIIIIIIIIIIIIIIIZ']\n",
      "99\n"
     ]
    }
   ],
   "source": [
    "# ZZII...II, ZIZI...II, ... , ZIII...IZ\n",
    "operator_strings = [\n",
    "    \"Z\" + \"I\" * i + \"Z\" + \"I\" * (num_qubits - 2 - i)\n",
    "    for i in range(num_qubits - 1)\n",
    "]\n",
    "print(operator_strings)\n",
    "print(len(operator_strings))\n",
    "\n",
    "operators = [SparsePauliOp(operator) for operator in operator_strings]"
   ]
  },
  {
   "cell_type": "markdown",
   "id": "daf0689f-fd02-4d3d-b7e7-aac9fdf10032",
   "metadata": {},
   "source": [
    "### Step 2: Optimize problem for quantum hardware execution\n",
    "\n",
    "In this step, we focus on optimizing the circuit layout for execution on a specific quantum hardware device with 127 qubits. This is the main focus of the notebook, as we perform **SABRE optimizations and transpilation** to achieve the best circuit performance. Using the `SabreLayout` pass, we determine an initial qubit mapping that minimizes the need for SWAP gates during routing. By passing the `coupling_map` of the target backend, `SabreLayout` adapts the layout to the device's connectivity constraints.\n",
    "\n",
    "We will use `generate_preset_pass_manager` with `optimization_level=3` for the transpilation process and customize the `SabreLayout` pass with different configurations. The goal is to find a setup that produces a transpiled circuit with the **lowest size and/or depth**, demonstrating the impact of SABRE optimizations.\n",
    "\n",
    "#### Why Are Circuit Size and Depth Important?\n",
    "\n",
    "- **Lower size (gate count):** Reduces the number of operations, minimizing opportunities for errors to accumulate.\n",
    "- **Lower depth:** Shortens the overall execution time, which is critical for avoiding decoherence and maintaining quantum state fidelity.\n",
    "\n",
    "By optimizing these metrics, we improve the circuit’s reliability and execution accuracy on noisy quantum hardware."
   ]
  },
  {
   "cell_type": "markdown",
   "id": "908ff593-9573-4d49-b2ac-8b3516f33414",
   "metadata": {},
   "source": [
    "Select the backend."
   ]
  },
  {
   "cell_type": "code",
   "execution_count": null,
   "id": "c426faa1-6656-4ac4-8c41-b37720f7bdc4",
   "metadata": {},
   "outputs": [
    {
     "name": "stdout",
     "output_type": "stream",
     "text": [
      "Using backend: <IBMBackend('ibm_kyiv')>\n"
     ]
    }
   ],
   "source": [
    "service = QiskitRuntimeService()\n",
    "backend = service.least_busy(\n",
    "    operational=True, simulator=False, min_num_qubits=127\n",
    ")\n",
    "print(f\"Using backend: {backend}\")"
   ]
  },
  {
   "cell_type": "markdown",
   "id": "75f5d55c-6f88-46c5-9fe7-fc9e4f6490da",
   "metadata": {},
   "source": [
    "To evaluate the impact of different configurations on circuit optimization, we will create three pass managers, each with unique settings for the `SabreLayout` pass. These configurations enable us to analyze the trade-off between circuit quality and transpilation time.\n",
    "\n",
    "#### Key parameters\n",
    "- **`max_iterations`**: The number of forward-backward routing iterations to refine the layout and reduce routing costs.\n",
    "- **`layout_trials`**: The number of random initial layouts tested, selecting the one that minimizes SWAP gates.\n",
    "- **`swap_trials`**: The number of routing trials for each layout, refining gate placement for better routing.\n",
    "\n",
    "Increasing `layout_trials` and `swap_trials` enables more thorough optimization but increases transpilation time.\n",
    "\n",
    "#### Configurations in this notebook\n",
    "1. **`pm_1`**: Default settings with `optimization_level=3`.\n",
    "   - `max_iterations=4`\n",
    "   - `layout_trials=20`\n",
    "   - `swap_trials=20`\n",
    "\n",
    "2. **`pm_2`**: Increases the number of trials for better exploration.\n",
    "   - `max_iterations=4`\n",
    "   - `layout_trials=200`\n",
    "   - `swap_trials=200`\n",
    "\n",
    "3. **`pm_3`**: Extends `pm_2` by increasing the number of iterations for further refinement.\n",
    "   - `max_iterations=8`\n",
    "   - `layout_trials=200`\n",
    "   - `swap_trials=200`\n",
    "\n",
    "By comparing the results of these configurations, we aim to determine which achieves the best balance between circuit quality (e.g., size and depth) and computational cost."
   ]
  },
  {
   "cell_type": "code",
   "execution_count": 5,
   "id": "967e8795-8fe4-4baa-9d99-04fccd5b8680",
   "metadata": {},
   "outputs": [],
   "source": [
    "# Get the coupling map from the backend\n",
    "cmap = CouplingMap(backend().configuration().coupling_map)\n",
    "\n",
    "# Create the SabreLayout passes for the custom configurations\n",
    "sl_2 = SabreLayout(\n",
    "    coupling_map=cmap,\n",
    "    seed=seed,\n",
    "    max_iterations=4,\n",
    "    layout_trials=200,\n",
    "    swap_trials=200,\n",
    ")\n",
    "sl_3 = SabreLayout(\n",
    "    coupling_map=cmap,\n",
    "    seed=seed,\n",
    "    max_iterations=8,\n",
    "    layout_trials=200,\n",
    "    swap_trials=200,\n",
    ")\n",
    "\n",
    "# Create the pass managers, need to first create then configure the SabreLayout passes\n",
    "pm_1 = generate_preset_pass_manager(\n",
    "    optimization_level=3, backend=backend, seed_transpiler=seed\n",
    ")\n",
    "pm_2 = generate_preset_pass_manager(\n",
    "    optimization_level=3, backend=backend, seed_transpiler=seed\n",
    ")\n",
    "pm_3 = generate_preset_pass_manager(\n",
    "    optimization_level=3, backend=backend, seed_transpiler=seed\n",
    ")"
   ]
  },
  {
   "cell_type": "markdown",
   "id": "33cc2403-bcd6-44dc-8fda-9501afeb3f91",
   "metadata": {},
   "source": [
    "Now we can configure the `SabreLayout` pass in the custom pass managers. To do this we know that for the default `generate_preset_pass_manager` on `optimization_level=3`, the `SabreLayout` pass is at index 2, as `SabreLayout` occurs after `SetLayout` and `VF2Laout` passes. We can access this pass and modify its parameters."
   ]
  },
  {
   "cell_type": "code",
   "execution_count": 6,
   "id": "911e77c8-163d-46f6-b381-743fb9a4163f",
   "metadata": {},
   "outputs": [],
   "source": [
    "pm_2.layout.replace(index=2, passes=sl_2)\n",
    "pm_3.layout.replace(index=2, passes=sl_3)"
   ]
  },
  {
   "cell_type": "markdown",
   "id": "b0f81a90-191a-4f2f-b18b-f1b26fdf28fc",
   "metadata": {},
   "source": [
    "With each pass manager configured, we will now execute the transpilation process for each. To compare results, we will track key metrics, including the transpilation time, the depth of the circuit (measured as the two-qubit gate depth), and the total number of gates in the transpiled circuits"
   ]
  },
  {
   "cell_type": "code",
   "execution_count": 7,
   "id": "1c1b41d7-8972-4789-93a1-31cc67620e2a",
   "metadata": {},
   "outputs": [
    {
     "name": "stdout",
     "output_type": "stream",
     "text": [
      "Pass manager 1 (4,20,20)  : Depth 356, Size 2961, Time 1.0793 s\n",
      "Pass manager 2 (4,200,200): Depth 346, Size 2842, Time 3.6232 s\n",
      "  - Depth improvement: 2.81%\n",
      "  - Size improvement: 4.02%\n",
      "  - Time increase: 235.68%\n",
      "Pass manager 3 (8,200,200): Depth 346, Size 2670, Time 3.0103 s\n",
      "  - Depth improvement: 2.81%\n",
      "  - Size improvement: 9.83%\n",
      "  - Time increase: 178.90%\n"
     ]
    }
   ],
   "source": [
    "# Transpile the circuit with each pass manager and measure the time\n",
    "t0 = time.time()\n",
    "tqc_1 = pm_1.run(qc)\n",
    "t1 = time.time() - t0\n",
    "t0 = time.time()\n",
    "tqc_2 = pm_2.run(qc)\n",
    "t2 = time.time() - t0\n",
    "t0 = time.time()\n",
    "tqc_3 = pm_3.run(qc)\n",
    "t3 = time.time() - t0\n",
    "\n",
    "# Obtain the depths and the total number of gates (circuit size)\n",
    "depth_1 = tqc_1.depth(lambda x: x.operation.num_qubits == 2)\n",
    "depth_2 = tqc_2.depth(lambda x: x.operation.num_qubits == 2)\n",
    "depth_3 = tqc_3.depth(lambda x: x.operation.num_qubits == 2)\n",
    "size_1 = tqc_1.size()\n",
    "size_2 = tqc_2.size()\n",
    "size_3 = tqc_3.size()\n",
    "\n",
    "# Transform the observables to match the backend's ISA\n",
    "operators_list_1 = [op.apply_layout(tqc_1.layout) for op in operators]\n",
    "operators_list_2 = [op.apply_layout(tqc_2.layout) for op in operators]\n",
    "operators_list_3 = [op.apply_layout(tqc_3.layout) for op in operators]\n",
    "\n",
    "# Compute improvements compared to pass manager 1 (default)\n",
    "depth_improvement_2 = ((depth_1 - depth_2) / depth_1) * 100\n",
    "depth_improvement_3 = ((depth_1 - depth_3) / depth_1) * 100\n",
    "size_improvement_2 = ((size_1 - size_2) / size_1) * 100\n",
    "size_improvement_3 = ((size_1 - size_3) / size_1) * 100\n",
    "time_increase_2 = ((t2 - t1) / t1) * 100\n",
    "time_increase_3 = ((t3 - t1) / t1) * 100\n",
    "\n",
    "print(\n",
    "    f\"Pass manager 1 (4,20,20)  : Depth {depth_1}, Size {size_1}, Time {t1:.4f} s\"\n",
    ")\n",
    "print(\n",
    "    f\"Pass manager 2 (4,200,200): Depth {depth_2}, Size {size_2}, Time {t2:.4f} s\"\n",
    ")\n",
    "print(f\"  - Depth improvement: {depth_improvement_2:.2f}%\")\n",
    "print(f\"  - Size improvement: {size_improvement_2:.2f}%\")\n",
    "print(f\"  - Time increase: {time_increase_2:.2f}%\")\n",
    "print(\n",
    "    f\"Pass manager 3 (8,200,200): Depth {depth_3}, Size {size_3}, Time {t3:.4f} s\"\n",
    ")\n",
    "print(f\"  - Depth improvement: {depth_improvement_3:.2f}%\")\n",
    "print(f\"  - Size improvement: {size_improvement_3:.2f}%\")\n",
    "print(f\"  - Time increase: {time_increase_3:.2f}%\")"
   ]
  },
  {
   "cell_type": "markdown",
   "id": "7575463a-773d-4939-9241-05499caf2807",
   "metadata": {},
   "source": [
    "The results demonstrate that increasing the number of trials (`layout_trials` and `swap_trials`) can significantly improve circuit quality by reducing both depth and size. However, this improvement often comes at the cost of increased runtime due to the additional computation required to explore more potential layouts and routing paths.\n",
    "\n",
    "Increasing the `max_iterations` can further enhance optimization by refining the layout through more forward-backward routing cycles. In this case, increasing `max_iterations` resulted in the most significant reduction in circuit depth and size, even reducing runtime compared to `pm_2`, likely by streamlining subsequent optimization stages.  It’s important to note, however, that the effectiveness of increasing `max_iterations` can vary significantly depending on the circuit. While more iterations may yield better layout and routing choices, they provide no guarantees and depend heavily on the circuit’s structure and the complexity of the connectivity constraints"
   ]
  },
  {
   "cell_type": "code",
   "execution_count": 8,
   "id": "3f39d3c4-a091-4004-b230-b8fc1aec85f6",
   "metadata": {},
   "outputs": [
    {
     "data": {
      "text/plain": [
       "<Image src=\"/docs/images/tutorials/transpilation-optimizations-with-sabre/extracted-outputs/3f39d3c4-a091-4004-b230-b8fc1aec85f6-0.avif\" alt=\"Output of the previous code cell\" />"
      ]
     },
     "metadata": {},
     "output_type": "display_data"
    }
   ],
   "source": [
    "# Plot the results of the metrics\n",
    "times = [t1, t2, t3]\n",
    "depths = [depth_1, depth_2, depth_3]\n",
    "sizes = [size_1, size_2, size_3]\n",
    "pm_names = [\n",
    "    \"pm_1 (4 iter, 20 trials)\",\n",
    "    \"pm_2 (4 iter, 200 trials)\",\n",
    "    \"pm_3 (8 iter, 200 trials)\",\n",
    "]\n",
    "colors = plt.cm.viridis(np.linspace(0.2, 0.8, len(pm_names)))\n",
    "\n",
    "# Create a figure with three subplots\n",
    "fig, axs = plt.subplots(3, 1, figsize=(6, 9), sharex=True)\n",
    "axs[0].bar(pm_names, times, color=colors)\n",
    "axs[0].set_ylabel(\"Time (s)\", fontsize=12)\n",
    "axs[0].set_title(\"Transpilation Time\", fontsize=14)\n",
    "axs[0].grid(axis=\"y\", linestyle=\"--\", alpha=0.7)\n",
    "axs[1].bar(pm_names, depths, color=colors)\n",
    "axs[1].set_ylabel(\"Depth\", fontsize=12)\n",
    "axs[1].set_title(\"Circuit Depth\", fontsize=14)\n",
    "axs[1].grid(axis=\"y\", linestyle=\"--\", alpha=0.7)\n",
    "axs[2].bar(pm_names, sizes, color=colors)\n",
    "axs[2].set_ylabel(\"Size\", fontsize=12)\n",
    "axs[2].set_title(\"Circuit Size\", fontsize=14)\n",
    "axs[2].set_xticks(range(len(pm_names)))\n",
    "axs[2].set_xticklabels(pm_names, fontsize=10, rotation=15)\n",
    "axs[2].grid(axis=\"y\", linestyle=\"--\", alpha=0.7)\n",
    "\n",
    "# Add some spacing between subplots\n",
    "plt.tight_layout()\n",
    "plt.show()"
   ]
  },
  {
   "cell_type": "markdown",
   "id": "2dbaa723-b6a5-48de-a407-e3225b5026e0",
   "metadata": {},
   "source": [
    "### Step 3: Execute using Qiskit primitives\n",
    "\n",
    "In this step, we use the `Estimator` primitive to calculate the expectation values $\\langle Z_0 Z_i \\rangle$ for the `ZZ` operators, evaluating the entanglement and execution quality of the transpiled circuits. To align with typical user workflows, we submit the job for execution and apply error suppression using **dynamical decoupling**, a technique that mitigates decoherence by inserting gate sequences to preserve qubit states. Additionally, we specify a resilience level to counteract noise, with higher levels providing more accurate results at the cost of increased processing time. This approach allows us to assess the performance of each pass manager configuration under realistic execution conditions."
   ]
  },
  {
   "cell_type": "code",
   "execution_count": 9,
   "id": "48763105-5beb-4ce2-bd92-f46c53e0e265",
   "metadata": {},
   "outputs": [],
   "source": [
    "options = EstimatorOptions()\n",
    "options.resilience_level = 1\n",
    "options.dynamical_decoupling.enable = True\n",
    "options.dynamical_decoupling.sequence_type = \"XY4\"\n",
    "\n",
    "# Create an Estimator object\n",
    "estimator = Estimator(backend, options=options)"
   ]
  },
  {
   "cell_type": "code",
   "execution_count": 10,
   "id": "623a630a-f9ac-4f45-b09e-9aec852687e3",
   "metadata": {},
   "outputs": [
    {
     "name": "stdout",
     "output_type": "stream",
     "text": [
      "czyv7v76rr3g008mhjv0\n",
      "czyv7vqkzhn0008dart0\n",
      "czyv7vzkzhn0008dartg\n"
     ]
    }
   ],
   "source": [
    "# Submit the circuit to Estimator\n",
    "job_1 = estimator.run([(tqc_1, operators_list_1)])\n",
    "job_1_id = job_1.job_id()\n",
    "print(job_1_id)\n",
    "\n",
    "job_2 = estimator.run([(tqc_2, operators_list_2)])\n",
    "job_2_id = job_2.job_id()\n",
    "print(job_2_id)\n",
    "\n",
    "job_3 = estimator.run([(tqc_3, operators_list_3)])\n",
    "job_3_id = job_3.job_id()\n",
    "print(job_3_id)"
   ]
  },
  {
   "cell_type": "code",
   "execution_count": 11,
   "id": "4fe47039-17d5-4588-8f6f-eef9fb131808",
   "metadata": {},
   "outputs": [
    {
     "name": "stdout",
     "output_type": "stream",
     "text": [
      "Job 1 done\n",
      "Job 2 done\n",
      "Job 3 done\n"
     ]
    }
   ],
   "source": [
    "# Run the jobs\n",
    "result_1 = job_1.result()[0]\n",
    "print(\"Job 1 done\")\n",
    "result_2 = job_2.result()[0]\n",
    "print(\"Job 2 done\")\n",
    "result_3 = job_3.result()[0]\n",
    "print(\"Job 3 done\")"
   ]
  },
  {
   "cell_type": "markdown",
   "id": "5e69e69b-2d29-430e-ad6b-053f11db5b54",
   "metadata": {},
   "source": [
    "### Step 4: Post-process and return result in desired classical format\n",
    "\n",
    "Once the job completes, we analyze the results by plotting the expectation values  $\\langle Z_0 Z_i \\rangle$ for each qubit. In an ideal simulation, all  $\\langle Z_0 Z_i \\rangle$ values should be 1, reflecting perfect entanglement across the qubits. However, due to noise and hardware constraints, the expectation values typically decrease as `i` increases, revealing how entanglement degrades over distance.\n",
    "\n",
    "In this step, we compare the results from each pass manager configuration to the ideal simulation. By examining the deviation of $\\langle Z_0 Z_i \\rangle$ from 1 for each configuration, we can quantify how well each pass manager preserves entanglement and mitigates the effects of noise. This analysis allows us to directly assess the impact of the SABRE optimizations on execution fidelity, providing insights into which configuration achieves the best balance between optimization quality and execution performance.\n",
    "\n",
    "The results will be visualized to highlight differences across pass managers, showcasing how improvements in layout and routing influence the final circuit execution on noisy quantum hardware."
   ]
  },
  {
   "cell_type": "code",
   "execution_count": 12,
   "id": "6cef357f-10a4-48ec-a197-c50a37cdf353",
   "metadata": {},
   "outputs": [
    {
     "data": {
      "text/plain": [
       "<Image src=\"/docs/images/tutorials/transpilation-optimizations-with-sabre/extracted-outputs/6cef357f-10a4-48ec-a197-c50a37cdf353-0.avif\" alt=\"Output of the previous code cell\" />"
      ]
     },
     "metadata": {},
     "output_type": "display_data"
    }
   ],
   "source": [
    "data = list(range(1, len(operators) + 1))  # Distance between the Z operators\n",
    "\n",
    "# Normalize and process expectation values for each result\n",
    "values_1 = [v / result_1.data.evs[0] for v in result_1.data.evs]\n",
    "values_2 = [v / result_2.data.evs[0] for v in result_2.data.evs]\n",
    "values_3 = [v / result_3.data.evs[0] for v in result_3.data.evs]\n",
    "\n",
    "plt.plot(\n",
    "    data,\n",
    "    values_1,\n",
    "    marker=\"o\",\n",
    "    label=\"pm_1 (iters=4, swap_trials=20, layout_trials=20)\",\n",
    ")\n",
    "plt.plot(\n",
    "    data,\n",
    "    values_2,\n",
    "    marker=\"s\",\n",
    "    label=\"pm_2 (iters=4, swap_trials=200, layout_trials=200)\",\n",
    ")\n",
    "plt.plot(\n",
    "    data,\n",
    "    values_3,\n",
    "    marker=\"^\",\n",
    "    label=\"pm_3 (iters=8, swap_trials=200, layout_trials=200)\",\n",
    ")\n",
    "plt.xlabel(\"Distance between qubits $i$\")\n",
    "plt.ylabel(r\"$\\langle Z_i Z_0 \\rangle / \\langle Z_1 Z_0 \\rangle $\")\n",
    "plt.legend()\n",
    "plt.show()"
   ]
  },
  {
   "cell_type": "markdown",
   "id": "5f81e102-2ee3-4d1b-ab30-82120ad75c7b",
   "metadata": {},
   "source": [
    "### Analysis of Results\n",
    "\n",
    "The plot shows how the normalized expectation values $\\langle Z_0 Z_i \\rangle$  vary across qubits for the three pass managers. Ideally, all values should remain close to 1, reflecting strong entanglement. However, noise and hardware errors introduce deviations, influenced by circuit size and depth.\n",
    "\n",
    "With the largest circuit size and depth, `pm_1` exhibits significant variations in $\\langle Z_0 Z_i \\rangle$ , particularly for qubits farther apart, indicating poorer preservation of entanglement due to accumulated noise. In comparison, `pm_2` shows slightly improved results, with fewer deviations, reflecting its modest reductions in circuit size and depth (1–10% better than `pm_1`). These smaller improvements lead to slightly better fidelity but do not fully address the noise issues.\n",
    "\n",
    "`pm_3`, with the most significant reductions in size and depth (11–20% better than `pm_1`), delivers the best results, with values much closer to 1 and fewer deviations. This highlights the critical role of minimizing circuit size and depth in reducing noise and error propagation, which significantly improves execution fidelity."
   ]
  },
  {
   "cell_type": "markdown",
   "id": "95b6b6df-9954-4b89-86b6-7123293f72de",
   "metadata": {},
   "source": [
    "## Part II. Configuring the heuristic in SABRE and using Serverless\n",
    "\n",
    "In addition to adjusting trial numbers, SABRE allows customization of the routing heuristic used during transpilation. By default, `SabreLayout` employs the decay heuristic, which dynamically weights qubits based on their likelihood of being swapped. To use a different heuristic (such as the `lookahead` heuristic), you can create a custom `SabreSwap` pass and connect it to `SabreLayout` by running a `PassManager` with `FullAncillaAllocation`, `EnlargeWithAncilla`, and `ApplyLayout`. When using `SabreSwap` as a parameter for `SabreLayout`, only one layout trial is performed by default. To efficiently run multiple layout trials, we leverage the serverless runtime for parallelization. For more about serverless, see the [Serverless documentation](/docs/guides/serverless).\n",
    "\n",
    "### How to Change the Routing Heuristic\n",
    "1. Create a custom `SabreSwap` pass with the desired heuristic.\n",
    "2. Use this custom `SabreSwap` as the routing method for the `SabreLayout` pass.\n",
    "\n",
    "While it is possible to run multiple layout trials using a loop, serverless runtime is the better choice for large-scale and more vigorous experiments. Serverless allows for parallel execution of layout trials, significantly speeding up the process when optimizing larger circuits or conducting numerous experiments. This makes it especially valuable when working with resource-intensive tasks or when time efficiency is critical.\n",
    "\n",
    "This section focuses solely on step 2 of optimization: minimizing circuit size and depth to achieve the best possible transpiled circuit. Building on the earlier results, we now explore how heuristic customization and serverless parallelization can further enhance optimization performance, making it suitable for large-scale quantum circuit transpilation."
   ]
  },
  {
   "cell_type": "markdown",
   "id": "cc1226e3-f599-4048-9cd2-b736d134695c",
   "metadata": {},
   "source": [
    "### Results without serverless runtime (1 layout trial):"
   ]
  },
  {
   "cell_type": "code",
   "execution_count": 13,
   "id": "93349450-0479-4a2d-a667-1f7d38c06740",
   "metadata": {},
   "outputs": [
    {
     "name": "stdout",
     "output_type": "stream",
     "text": [
      "Default (heuristic='decay')    : Depth 364, Size 3193, Time 0.6306140422821045\n",
      "Custom  (heuristic='lookahead'): Depth 391, Size 3051, Time 0.3047943115234375\n"
     ]
    }
   ],
   "source": [
    "swap_trials = 200\n",
    "\n",
    "# Default PassManager with `SabreLayout` and `SabreSwap`, using heuristic \"decay\"\n",
    "sr_default = SabreSwap(\n",
    "    coupling_map=cmap, heuristic=\"decay\", trials=swap_trials, seed=seed\n",
    ")\n",
    "sl_default = SabreLayout(\n",
    "    coupling_map=cmap, routing_pass=sr_default, seed=seed\n",
    ")\n",
    "pm_default = generate_preset_pass_manager(\n",
    "    optimization_level=3, backend=backend, seed_transpiler=seed\n",
    ")\n",
    "pm_default.layout.replace(index=2, passes=sl_default)\n",
    "pm_default.routing.replace(index=1, passes=sr_default)\n",
    "\n",
    "t0 = time.time()\n",
    "tqc_default = pm_default.run(qc)\n",
    "t_default = time.time() - t0\n",
    "size_default = tqc_default.size()\n",
    "depth_default = tqc_default.depth(lambda x: x.operation.num_qubits == 2)\n",
    "\n",
    "\n",
    "# Custom PassManager with `SabreLayout` and `SabreSwap`, using heuristic \"lookahead\"\n",
    "sr_custom = SabreSwap(\n",
    "    coupling_map=cmap, heuristic=\"lookahead\", trials=swap_trials, seed=seed\n",
    ")\n",
    "sl_custom = SabreLayout(coupling_map=cmap, routing_pass=sr_custom, seed=seed)\n",
    "pm_custom = generate_preset_pass_manager(\n",
    "    optimization_level=3, backend=backend, seed_transpiler=seed\n",
    ")\n",
    "pm_custom.layout.replace(index=2, passes=sl_custom)\n",
    "pm_custom.routing.replace(index=1, passes=sr_custom)\n",
    "\n",
    "t0 = time.time()\n",
    "tqc_custom = pm_custom.run(qc)\n",
    "t_custom = time.time() - t0\n",
    "size_custom = tqc_custom.size()\n",
    "depth_custom = tqc_custom.depth(lambda x: x.operation.num_qubits == 2)\n",
    "\n",
    "print(\n",
    "    f\"Default (heuristic='decay')    : Depth {depth_default}, Size {size_default}, Time {t_default}\"\n",
    ")\n",
    "print(\n",
    "    f\"Custom  (heuristic='lookahead'): Depth {depth_custom}, Size {size_custom}, Time {t_custom}\"\n",
    ")"
   ]
  },
  {
   "cell_type": "markdown",
   "id": "341c692f-4442-44ee-8e35-b8165fa6c737",
   "metadata": {},
   "source": [
    "Here we see that the `lookahead` heuristic performs better than the `decay` heuristic in terms of circuit depth, size, and time. This improvements highlights how we can improve SABRE beyond just trials and iterations for your specific circuit and hardware constraints. Note that these results are based on a single layout trial. To achieve more accurate results, we recommend running multiple layout trials, which can be done efficiently using the serverless runtime."
   ]
  },
  {
   "cell_type": "markdown",
   "id": "2bfa197e-9b7d-48f3-a1bb-edbbb392157c",
   "metadata": {},
   "source": [
    "### Results with serverless runtime (multiple layout trials)"
   ]
  },
  {
   "cell_type": "markdown",
   "id": "de59e51f-004b-4eb6-8aa9-4a1427856ee3",
   "metadata": {},
   "source": [
    "Qiskit Serverless requires setting up your workload’s `.py` files into a dedicated directory. The following code cell is a Python file in the `source_files` directory named `transpile_remote.py`. This file contains the function that runs the transpilation process."
   ]
  },
  {
   "cell_type": "code",
   "execution_count": null,
   "id": "0acdd652-154d-4feb-a4ab-f1f7f7f9d82b",
   "metadata": {
    "tags": [
     "remove-cell"
    ]
   },
   "outputs": [],
   "source": [
    "# This cell is hidden from users, it makes sure the `source_files` directory exists\n",
    "from pathlib import Path\n",
    "\n",
    "Path(\"source_files\").mkdir(exist_ok=True)"
   ]
  },
  {
   "cell_type": "code",
   "execution_count": null,
   "id": "fbd1cae7-cec2-41c5-8903-c65a73f278e8",
   "metadata": {},
   "outputs": [],
   "source": [
    "%%writefile source_files/transpile_remote.py\n",
    "import time\n",
    "from qiskit.transpiler.preset_passmanagers import generate_preset_pass_manager\n",
    "from qiskit.transpiler.passes import SabreLayout, SabreSwap\n",
    "from qiskit.transpiler import CouplingMap\n",
    "from qiskit_serverless import get_arguments, save_result, distribute_task, get\n",
    "from qiskit_ibm_runtime import QiskitRuntimeService\n",
    "\n",
    "service = QiskitRuntimeService()\n",
    "\n",
    "@distribute_task(target={\n",
    "    \"cpu\": 1,\n",
    "    \"mem\": 1024 * 1024 * 1024\n",
    "})\n",
    "def transpile_remote(qc, optimization_level, backend, seed, swap_trials, heuristic):\n",
    "    \"\"\"Transpiles an abstract circuit into an ISA circuit for a given backend.\"\"\"\n",
    "    pm = generate_preset_pass_manager(\n",
    "        optimization_level=optimization_level,\n",
    "        backend=backend,\n",
    "        seed_transpiler=seed\n",
    "    )\n",
    "    # Changing the `SabreLayout` and `SabreSwap` passes to use the custom configurations\n",
    "    cmap = CouplingMap(backend().configuration().coupling_map)\n",
    "    sr = SabreSwap(coupling_map=cmap, heuristic=heuristic, trials=swap_trials, seed=42)\n",
    "    sl = SabreLayout(coupling_map=cmap, routing_pass=sr, seed=seed)\n",
    "    pm.layout.replace(index=2, passes=sl)\n",
    "    pm.routing.replace(index=1, passes=sr)\n",
    "\n",
    "    # Measure the transpile time\n",
    "    start_time = time.time()  # Start timer\n",
    "    tqc = pm.run(qc)  # Transpile the circuit\n",
    "    end_time = time.time()  # End timer\n",
    "\n",
    "    transpile_time = end_time - start_time  # Calculate the elapsed time\n",
    "    return tqc, transpile_time  # Return both the transpiled circuit and the transpile time\n",
    "\n",
    "# Get program arguments\n",
    "arguments = get_arguments()\n",
    "circuit = arguments.get(\"circuit\")\n",
    "backend_name = arguments.get(\"backend_name\")\n",
    "optimization_level = arguments.get(\"optimization_level\")\n",
    "seed_list = arguments.get(\"seed_list\")\n",
    "swap_trials = arguments.get(\"swap_trials\")\n",
    "heuristic = arguments.get(\"heuristic\")\n",
    "\n",
    "# Get the backend\n",
    "service = QiskitRuntimeService()\n",
    "backend = service.backend(backend_name)\n",
    "print(backend)\n",
    "\n",
    "# Transpile the circuits\n",
    "transpile_worker_references = [\n",
    "    transpile_remote(circuit, optimization_level, backend, seed, swap_trials, heuristic)\n",
    "    for seed in arguments.get(\"seed_list\")\n",
    "]\n",
    "\n",
    "results_with_times = get(transpile_worker_references)\n",
    "\n",
    "# Separate the transpiled circuits and their transpile times\n",
    "transpiled_circuits = [result[0] for result in results_with_times]\n",
    "transpile_times = [result[1] for result in results_with_times]\n",
    "\n",
    "# Save both results and transpile times\n",
    "save_result({\"transpiled_circuits\": transpiled_circuits, \"transpile_times\": transpile_times})"
   ]
  },
  {
   "cell_type": "markdown",
   "id": "ccfafbd2-c01d-407c-ac00-5326c5e70dbc",
   "metadata": {},
   "source": [
    "The following cell uploads the `transpile_remote.py` file as a Qiskit Serverless program under the name `transpile_remote_serverless`."
   ]
  },
  {
   "cell_type": "code",
   "execution_count": null,
   "id": "068395ed-1c05-47ec-9bfe-06f1bf348641",
   "metadata": {},
   "outputs": [],
   "source": [
    "serverless = QiskitServerless()\n",
    "\n",
    "transpile_remote_demo = QiskitFunction(\n",
    "    title=\"transpile_remote_serverless\",\n",
    "    entrypoint=\"transpile_remote.py\",\n",
    "    working_dir=\"./source_files/\",\n",
    ")\n",
    "serverless.upload(transpile_remote_demo)\n",
    "transpile_remote_serverless = serverless.load(\"transpile_remote_serverless\")"
   ]
  },
  {
   "cell_type": "markdown",
   "id": "be2872bf-ffc0-4194-8957-e17b2c70267c",
   "metadata": {},
   "source": [
    "Generate 20 different seeds to represent 20 different layout trials."
   ]
  },
  {
   "cell_type": "code",
   "execution_count": null,
   "id": "240ab42d-1a31-4453-a39d-cad4f99aa500",
   "metadata": {},
   "outputs": [],
   "source": [
    "seed = 42\n",
    "num_seeds = 200  # represents the different layout trials\n",
    "seed_list = [seed + i for i in range(num_seeds)]"
   ]
  },
  {
   "cell_type": "markdown",
   "id": "a947f246-e9e9-43bd-92ed-dab4a5063fe9",
   "metadata": {},
   "source": [
    "Run the uploaded program and pass inputs for lookahead heuristic."
   ]
  },
  {
   "cell_type": "code",
   "execution_count": null,
   "id": "7264ec95-3e8d-48d5-9859-6c04a986450b",
   "metadata": {},
   "outputs": [],
   "source": [
    "job_lookahead = transpile_remote_serverless.run(\n",
    "    circuit=qc,\n",
    "    backend_name=\"ibm_brisbane\",\n",
    "    optimization_level=3,\n",
    "    seed_list=seed_list,\n",
    "    swap_trials=swap_trials,\n",
    "    heuristic=\"lookahead\",\n",
    ")"
   ]
  },
  {
   "cell_type": "code",
   "execution_count": null,
   "id": "b8a0ee4a-2c3c-4f48-be58-43fd5c87ed2f",
   "metadata": {},
   "outputs": [
    {
     "data": {
      "text/plain": [
       "'f5475545-dd80-47fe-8a3d-3ef5d3f478fe'"
      ]
     },
     "execution_count": 17,
     "metadata": {},
     "output_type": "execute_result"
    }
   ],
   "source": [
    "job_lookahead.job_id"
   ]
  },
  {
   "cell_type": "code",
   "execution_count": null,
   "id": "16a777a8-6e42-4b35-9297-42cf9d737ea0",
   "metadata": {},
   "outputs": [
    {
     "data": {
      "text/plain": [
       "'QUEUED'"
      ]
     },
     "execution_count": 18,
     "metadata": {},
     "output_type": "execute_result"
    }
   ],
   "source": [
    "job_lookahead.status()"
   ]
  },
  {
   "cell_type": "markdown",
   "id": "8a87c46f-3f58-46a9-b691-2baff40931fc",
   "metadata": {},
   "source": [
    "Receive the logs and results from the serverless runtime."
   ]
  },
  {
   "cell_type": "code",
   "execution_count": null,
   "id": "f4cf419b-0a96-494b-9425-257bb23bed89",
   "metadata": {},
   "outputs": [
    {
     "name": "stdout",
     "output_type": "stream",
     "text": [
      "No logs yet.\n"
     ]
    }
   ],
   "source": [
    "logs_lookahead = job_lookahead.logs()\n",
    "print(logs_lookahead)"
   ]
  },
  {
   "cell_type": "markdown",
   "id": "60cb83f2-7c9c-4e81-a029-31b0503f28a3",
   "metadata": {},
   "source": [
    "Once a program is `DONE`, you can use `job.results()` to fetch the result stored in `save_result()`."
   ]
  },
  {
   "cell_type": "code",
   "execution_count": null,
   "id": "7c7f553a-df24-4dde-9ff0-366eb30d7e12",
   "metadata": {},
   "outputs": [],
   "source": [
    "# Run the job with lookahead heuristic\n",
    "start_time = time.time()\n",
    "results_lookahead = job_lookahead.result()\n",
    "end_time = time.time()\n",
    "\n",
    "job_lookahead_time = end_time - start_time"
   ]
  },
  {
   "cell_type": "markdown",
   "id": "8ab9f9cf-a15c-4f51-8cdc-08543e7e426c",
   "metadata": {},
   "source": [
    "Now perform the same for decay heuristic."
   ]
  },
  {
   "cell_type": "code",
   "execution_count": null,
   "id": "a6d3623a-97f3-423c-b52f-8bd77c2939df",
   "metadata": {},
   "outputs": [],
   "source": [
    "job_decay = transpile_remote_serverless.run(\n",
    "    circuit=qc,\n",
    "    backend_name=\"ibm_brisbane\",\n",
    "    optimization_level=3,\n",
    "    seed_list=seed_list,\n",
    "    swap_trials=swap_trials,\n",
    "    heuristic=\"decay\",\n",
    ")"
   ]
  },
  {
   "cell_type": "code",
   "execution_count": null,
   "id": "d56b0a7b-0898-48fd-b73a-5ca6d3f01a09",
   "metadata": {},
   "outputs": [
    {
     "data": {
      "text/plain": [
       "'084be271-68d0-49a3-a25d-3f5077e264ac'"
      ]
     },
     "execution_count": 22,
     "metadata": {},
     "output_type": "execute_result"
    }
   ],
   "source": [
    "job_decay.job_id"
   ]
  },
  {
   "cell_type": "code",
   "execution_count": null,
   "id": "b390e6df-38c7-4dca-9e95-7fb0ea9ce822",
   "metadata": {},
   "outputs": [
    {
     "name": "stdout",
     "output_type": "stream",
     "text": [
      "No logs yet.\n"
     ]
    }
   ],
   "source": [
    "logs_decay = job_decay.logs()\n",
    "print(logs_decay)"
   ]
  },
  {
   "cell_type": "code",
   "execution_count": null,
   "id": "e5936de9-6b7d-408c-8dcc-16cfa8021f23",
   "metadata": {},
   "outputs": [],
   "source": [
    "# Run the job with the decay heuristic\n",
    "start_time = time.time()\n",
    "results_decay = job_decay.result()\n",
    "end_time = time.time()\n",
    "\n",
    "job_decay_time = end_time - start_time"
   ]
  },
  {
   "cell_type": "code",
   "execution_count": null,
   "id": "f56f6557-e410-4843-8892-10fd5c44487e",
   "metadata": {},
   "outputs": [
    {
     "name": "stdout",
     "output_type": "stream",
     "text": [
      "=== Total Transpilation Time (Serial Execution) ===\n",
      "Decay Heuristic    : 462.49 seconds\n",
      "Lookahead Heuristic: 439.38 seconds\n",
      "\n",
      "=== Serverless Job Time (Parallel Execution) ===\n",
      "Decay Heuristic    : 172.37 seconds\n",
      "Lookahead Heuristic: 159.30 seconds\n",
      "\n",
      "=== Average Time Per Transpilation ===\n",
      "Decay Heuristic (Serial)    : 2.31 seconds\n",
      "Decay Heuristic (Serverless): 0.86 seconds\n",
      "Lookahead Heuristic (Serial)    : 2.20 seconds\n",
      "Lookahead Heuristic (Serverless): 0.80 seconds\n",
      "\n",
      "=== Serverless Improvement ===\n",
      "Decay Heuristic    : 62.73%\n",
      "Lookahead Heuristic: 63.74%\n"
     ]
    }
   ],
   "source": [
    "# Extract transpilation times\n",
    "transpile_times_decay = results_decay[\"transpile_times\"]\n",
    "transpile_times_lookahead = results_lookahead[\"transpile_times\"]\n",
    "\n",
    "# Calculate total transpilation time for serial execution\n",
    "total_transpile_time_decay = sum(transpile_times_decay)\n",
    "total_transpile_time_lookahead = sum(transpile_times_lookahead)\n",
    "\n",
    "# Print total transpilation time\n",
    "print(\"=== Total Transpilation Time (Serial Execution) ===\")\n",
    "print(f\"Decay Heuristic    : {total_transpile_time_decay:.2f} seconds\")\n",
    "print(f\"Lookahead Heuristic: {total_transpile_time_lookahead:.2f} seconds\")\n",
    "\n",
    "# Print serverless job time (parallel execution)\n",
    "print(\"\\n=== Serverless Job Time (Parallel Execution) ===\")\n",
    "print(f\"Decay Heuristic    : {job_decay_time:.2f} seconds\")\n",
    "print(f\"Lookahead Heuristic: {job_lookahead_time:.2f} seconds\")\n",
    "\n",
    "# Calculate and print average runtime per transpilation\n",
    "avg_transpile_time_decay = total_transpile_time_decay / num_seeds\n",
    "avg_transpile_time_lookahead = total_transpile_time_lookahead / num_seeds\n",
    "avg_job_time_decay = job_decay_time / num_seeds\n",
    "avg_job_time_lookahead = job_lookahead_time / num_seeds\n",
    "\n",
    "print(\"\\n=== Average Time Per Transpilation ===\")\n",
    "print(f\"Decay Heuristic (Serial)    : {avg_transpile_time_decay:.2f} seconds\")\n",
    "print(f\"Decay Heuristic (Serverless): {avg_job_time_decay:.2f} seconds\")\n",
    "print(\n",
    "    f\"Lookahead Heuristic (Serial)    : {avg_transpile_time_lookahead:.2f} seconds\"\n",
    ")\n",
    "print(\n",
    "    f\"Lookahead Heuristic (Serverless): {avg_job_time_lookahead:.2f} seconds\"\n",
    ")\n",
    "\n",
    "# Calculate and print serverless improvement percentage\n",
    "decay_improvement_percentage = (\n",
    "    (total_transpile_time_decay - job_decay_time) / total_transpile_time_decay\n",
    ") * 100\n",
    "lookahead_improvement_percentage = (\n",
    "    (total_transpile_time_lookahead - job_lookahead_time)\n",
    "    / total_transpile_time_lookahead\n",
    ") * 100\n",
    "\n",
    "print(\"\\n=== Serverless Improvement ===\")\n",
    "print(f\"Decay Heuristic    : {decay_improvement_percentage:.2f}%\")\n",
    "print(f\"Lookahead Heuristic: {lookahead_improvement_percentage:.2f}%\")"
   ]
  },
  {
   "cell_type": "markdown",
   "id": "a9e0ec1e-5a2f-4f7e-9fdf-d3c655e1f1b7",
   "metadata": {},
   "source": [
    "These results demonstrate the significant efficiency of serverless execution in quantum circuit transpilation. For 200 layout trials, serverless reduced the runtime by over 60% for both the `decay` and `lookahead` heuristics compared to serial execution. The total transpilation time for `decay` (443.29 s) and `lookahead` (400.65 s) highlights the computational effort required for serial execution, while the serverless job times (157.97 s and 158.12 s, respectively) showcase the dramatic runtime reduction achieved through parallelization. These findings emphasize that serverless execution can effectively scale to larger problems, offering substantial time savings and enabling broader exploration of optimization trials with minimal overhead."
   ]
  },
  {
   "cell_type": "markdown",
   "id": "c72c1959-61e3-4613-8a1f-fcdea1e87234",
   "metadata": {},
   "source": [
    "Obtain the results from the serverless runtime and compare the results of the lookahead and decay heuristics. We will compare the sizes and depths."
   ]
  },
  {
   "cell_type": "code",
   "execution_count": null,
   "id": "b2190bc7-c6df-4a34-bb12-f563033d8960",
   "metadata": {},
   "outputs": [
    {
     "data": {
      "text/plain": [
       "<Image src=\"/docs/images/tutorials/transpilation-optimizations-with-sabre/extracted-outputs/b2190bc7-c6df-4a34-bb12-f563033d8960-0.avif\" alt=\"Output of the previous code cell\" />"
      ]
     },
     "metadata": {},
     "output_type": "display_data"
    },
    {
     "data": {
      "text/plain": [
       "<Image src=\"/docs/images/tutorials/transpilation-optimizations-with-sabre/extracted-outputs/b2190bc7-c6df-4a34-bb12-f563033d8960-1.avif\" alt=\"Output of the previous code cell\" />"
      ]
     },
     "metadata": {},
     "output_type": "display_data"
    }
   ],
   "source": [
    "# Extract sizes and depths\n",
    "sizes_lookahead = [\n",
    "    circuit.size() for circuit in results_lookahead[\"transpiled_circuits\"]\n",
    "]\n",
    "depths_lookahead = [\n",
    "    circuit.depth(lambda x: x.operation.num_qubits == 2)\n",
    "    for circuit in results_lookahead[\"transpiled_circuits\"]\n",
    "]\n",
    "sizes_decay = [\n",
    "    circuit.size() for circuit in results_decay[\"transpiled_circuits\"]\n",
    "]\n",
    "depths_decay = [\n",
    "    circuit.depth(lambda x: x.operation.num_qubits == 2)\n",
    "    for circuit in results_decay[\"transpiled_circuits\"]\n",
    "]\n",
    "\n",
    "\n",
    "def create_scatterplot(x, y1, y2, xlabel, ylabel, title, labels, colors):\n",
    "    plt.figure(figsize=(8, 5))\n",
    "    plt.scatter(\n",
    "        x, y1, label=labels[0], color=colors[0], alpha=0.8, edgecolor=\"k\"\n",
    "    )\n",
    "    plt.scatter(\n",
    "        x, y2, label=labels[1], color=colors[1], alpha=0.8, edgecolor=\"k\"\n",
    "    )\n",
    "    plt.xlabel(xlabel, fontsize=12)\n",
    "    plt.ylabel(ylabel, fontsize=12)\n",
    "    plt.title(title, fontsize=14)\n",
    "    plt.legend(fontsize=10)\n",
    "    plt.grid(axis=\"y\", linestyle=\"--\", alpha=0.7)\n",
    "    plt.tight_layout()\n",
    "    plt.show()\n",
    "\n",
    "\n",
    "create_scatterplot(\n",
    "    seed_list,\n",
    "    sizes_lookahead,\n",
    "    sizes_decay,\n",
    "    \"Seed\",\n",
    "    \"Size\",\n",
    "    \"Circuit Size\",\n",
    "    [\"lookahead\", \"Decay\"],\n",
    "    [\"blue\", \"red\"],\n",
    ")\n",
    "create_scatterplot(\n",
    "    seed_list,\n",
    "    depths_lookahead,\n",
    "    depths_decay,\n",
    "    \"Seed\",\n",
    "    \"Depth\",\n",
    "    \"Circuit Depth\",\n",
    "    [\"lookahead\", \"Decay\"],\n",
    "    [\"blue\", \"red\"],\n",
    ")"
   ]
  },
  {
   "cell_type": "markdown",
   "id": "91c419bd-a7f3-42ac-94c6-5be75d7f4e40",
   "metadata": {},
   "source": [
    "Each point in the scatter plots above represents a layout trial, with the x-axis indicating the circuit depth and the y-axis indicating the circuit size. The results reveal that the lookahead heuristic generally outperforms the decay heuristic in minimizing circuit depth and circuit size. In practical applications, the goal is to identify the optimal layout trial for your chosen heuristic, whether prioritizing depth or size. This can be achieved by selecting the trial with the lowest value for the desired metric. Importantly, increasing the number of layout trials improves the chances of achieving a better result in terms of size or depth, but it comes at the cost of higher computational overhead."
   ]
  },
  {
   "cell_type": "code",
   "execution_count": null,
   "id": "44d7bc1f-8ebf-4969-a917-c27a7caa10ad",
   "metadata": {},
   "outputs": [
    {
     "name": "stdout",
     "output_type": "stream",
     "text": [
      "Lookahead: Min Depth 314 Min Size 2829\n",
      "Decay:     Min Depth 355 Min Size 3221\n"
     ]
    }
   ],
   "source": [
    "min_depth_lookahead = min(depths_lookahead)\n",
    "min_depth_decay = min(depths_decay)\n",
    "min_size_lookahead = min(sizes_lookahead)\n",
    "min_size_decay = min(sizes_decay)\n",
    "print(\n",
    "    \"Lookahead: Min Depth\",\n",
    "    min_depth_lookahead,\n",
    "    \"Min Size\",\n",
    "    min_size_lookahead,\n",
    ")\n",
    "print(\"Decay:     Min Depth\", min_depth_decay, \"Min Size\", min_size_decay)"
   ]
  },
  {
   "cell_type": "markdown",
   "id": "02d50345-90ca-4db4-8de4-f4c8061d61ee",
   "metadata": {},
   "source": [
    "In our initial comparison of heuristics using a single layout trial, the lookahead heuristic yielded the best result with a depth of 389 and size of 3384. By leveraging multiple trials through `QiskitServerless`, we explored various layout options for each heuristic, enabling a more comprehensive evaluation. Interestingly, the `decay` heuristic outperformed the `lookahead` heuristic in some cases, achieving a minimum depth of 355 and a minimum size of 3221 across the trials. However, the lookahead heuristic ultimately delivered the best overall results, with a minimum depth of 314 and a minimum size of 2829. This represents a significant improvement over its single-trial performance, highlighting the advantages of using serverless runtime for multi-trial optimization.\n",
    "\n",
    "These findings underscore the importance of experimenting with different heuristics and tailoring them to specific scenarios. By systematically comparing performance across multiple trials, we can identify the heuristic that delivers the optimal trade-off between depth and size for a given problem. This approach ensures more robust and efficient quantum circuit transpilation."
   ]
  },
  {
   "cell_type": "code",
   "execution_count": null,
   "id": "41124313-26d7-4318-96b6-a940d84867ea",
   "metadata": {
    "tags": [
     "remove-cell"
    ]
   },
   "outputs": [],
   "source": [
    "# This cell is hidden from users, it cleans up the `source_files` directory\n",
    "from pathlib import Path\n",
    "\n",
    "Path(\"source_files/transpile_remote.py\").unlink()\n",
    "Path(\"source_files\").rmdir()"
   ]
  },
  {
   "cell_type": "markdown",
   "id": "a3a50ea5-2f2b-4020-878b-d9b546483e48",
   "metadata": {},
   "source": [
    "## Conclusion\n",
    "\n",
    "In this tutorial, we explored how to optimize large circuits using SABRE in Qiskit. We demonstrated how to configure the `SabreLayout` pass with different parameters to balance circuit quality and transpilation runtime. We also showed how to customize the routing heuristic in SABRE and use the `QiskitServerless`runtime to parallelize layout trials efficiently for when `SabreSwap` is involved. By adjusting these parameters and heuristics, you can optimize the layout and routing of large circuits, ensuring they are executed efficiently on quantum hardware."
   ]
  },
  {
   "cell_type": "markdown",
   "id": "d9c06642-5577-4776-bda4-f55f805c067c",
   "metadata": {},
   "source": [
    "## Tutorial survey\n",
    "\n",
    "Please take one minute to provide feedback on this tutorial. Your insights will help us improve our content offerings and user experience.\n",
    "\n",
    "[Link to survey](https://your.feedback.ibm.com/jfe/form/SV_d9YWUSQIAvU9HXE)"
   ]
  },
  {
   "cell_type": "markdown",
   "id": "9b63ce19-8074-470b-a3c8-e64bd0b430ee",
   "metadata": {},
   "source": [
    "© IBM Corp. 2024"
   ]
  }
 ],
 "metadata": {
  "description": "SABRE is an optimization tool for layout and routing. It is especially effective with large-scale circuits and complex coupling maps,",
  "kernelspec": {
   "display_name": "Python 3",
   "language": "python",
   "name": "python3"
  },
  "language_info": {
   "codemirror_mode": {
    "name": "ipython",
    "version": 3
   },
   "file_extension": ".py",
   "mimetype": "text/x-python",
   "name": "python",
   "nbconvert_exporter": "python",
   "pygments_lexer": "ipython3",
   "version": "3"
  },
  "platform": "cloud",
  "title": "Transpilation Optimizations with SABRE"
 },
 "nbformat": 4,
 "nbformat_minor": 2
}
