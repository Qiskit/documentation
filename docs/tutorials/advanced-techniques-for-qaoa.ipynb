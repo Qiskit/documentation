{
 "cells": [
  {
   "cell_type": "markdown",
   "id": "9f81f6b2-d7f3-4cc2-b09b-cf3a627c7b0f",
   "metadata": {
    "tags": [
     "remove-cell"
    ]
   },
   "source": [
    "{/* cspell:ignore elist, rarr, qidx, cidx, rbrack, cvar, setminus */}"
   ]
  },
  {
   "cell_type": "markdown",
   "id": "1a869c2d-ae51-47d3-8a41-bfcf5e505f59",
   "metadata": {},
   "source": [
    "# Advanced Techniques for QAOA\n",
    "*Usage estimate: 25 minutes on IBM Sherbrooke (NOTE: This is an estimate only. Your runtime may vary.)*"
   ]
  },
  {
   "cell_type": "markdown",
   "id": "ea97567d-810f-4cca-8edf-a47d70ea870a",
   "metadata": {},
   "source": [
    "## Background\n",
    "\n",
    "This notebook introduces advanced techniques to improve the performance of the **Quantum Approximate Optimization Algorithm (QAOA)** with a large number of qubits.\n",
    "Please see [Solve utility-scale quantum optimization problems](/docs/tutorials/quantum-approximate-optimization-algorithm) for an introduction to QAOA.\n",
    "\n",
    "The advanced techniques in this notebook include:\n",
    "\n",
    "- **SWAP strategy with SAT initial mapping**: This is a specifically designed transpiler pass for QAOA that uses a SWAP strategy and a SAT solver together to improve the selection of which physical qubits on the QPU to use. The SWAP strategy exploits the commutativity of the QAOA operators to reorder gates so that layers of SWAP gates can be simultaneously executed, thus reducing the depth of the circuit [\\[1\\]](#references). The SAT solver is used to find an initial mapping that minimizes the number of SWAP operations needed to map the qubits in the circuit to the physical qubits on the device [\\[2\\]](#references) .\n",
    "- **CVaR cost function**: Typically the expected value of the cost Hamiltonian is used as the cost function for QAOA, but as was shown in [\\[3\\]](#references) , focusing on the tail of the distribution, rather than the expected value, can improve the performance of QAOA for combinatorial optimization problems. The CVaR accomplishes this. For a given set of shots with corresponding objective values of the considered optimization problem, the Conditional Value at Risk (CVaR) with confidence level $\\alpha \\in [0, 1]$ is defined as the average of the $\\alpha$ best shots [\\[3\\]](#references).\n",
    "Thus, $\\alpha = 1$ corresponds to the standard expected value, while $\\alpha=0$ corresponds to the minimum of the given shots, and $\\alpha \\in (0, 1)$ is a tradeoff between focusing on better shots, while still applying some averaging to smooth out the optimization landscape. Additionally, the CVaR can be used as an error mitigation technique to improve the quality of the objective value estimation [\\[4\\]](#references)."
   ]
  },
  {
   "cell_type": "markdown",
   "id": "40fb546e-85e0-450b-a5ea-5d08950d129f",
   "metadata": {},
   "source": [
    "## Requirements\n",
    "\n",
    "Before starting this tutorial, be sure you have the following installed:\n",
    "- Qiskit SDK v1.0 or later, with visualization support ( `pip install 'qiskit[visualization]'` )\n",
    "- Qiskit Runtime v0.22 or later (`pip install qiskit-ibm-runtime`)\n",
    "- Rustworkx graph library (`pip install rustworkx`)\n",
    "- Python SAT (`pip install python-sat`)"
   ]
  },
  {
   "cell_type": "markdown",
   "id": "50285e5f-1a7b-471c-a223-1ae0af19d9ed",
   "metadata": {},
   "source": [
    "## Setup"
   ]
  },
  {
   "cell_type": "code",
   "execution_count": null,
   "id": "d019ea68-61e0-4341-84c7-e612ca10dde7",
   "metadata": {},
   "outputs": [],
   "source": [
    "from __future__ import annotations\n",
    "\n",
    "import numpy as np\n",
    "import rustworkx as rx\n",
    "import matplotlib.pyplot as plt\n",
    "from dataclasses import dataclass\n",
    "from itertools import combinations\n",
    "from threading import Timer\n",
    "from collections.abc import Callable, Iterable\n",
    "from typing import Sequence\n",
    "from pysat.formula import CNF, IDPool\n",
    "from pysat.solvers import Solver\n",
    "from scipy.optimize import minimize\n",
    "from rustworkx.visualization import mpl_draw as draw_graph\n",
    "\n",
    "from qiskit.quantum_info import SparsePauliOp\n",
    "from qiskit.circuit.library import QAOAAnsatz\n",
    "from qiskit.circuit import QuantumCircuit, ParameterVector\n",
    "from qiskit.transpiler import CouplingMap, PassManager\n",
    "from qiskit.transpiler.preset_passmanagers import generate_preset_pass_manager\n",
    "from qiskit.transpiler.passes.routing.commuting_2q_gate_routing import (\n",
    "    SwapStrategy,\n",
    "    FindCommutingPauliEvolutions,\n",
    "    Commuting2qGateRouter,\n",
    ")\n",
    "\n",
    "from qiskit_ibm_runtime import QiskitRuntimeService, Session\n",
    "from qiskit_ibm_runtime import SamplerV2 as Sampler"
   ]
  },
  {
   "cell_type": "markdown",
   "id": "8b77b0c9-f5a6-476e-86b8-069ba14f9ab3",
   "metadata": {},
   "source": [
    "## Step 1: Map classical inputs to a quantum problem\n",
    "\n",
    "### Max-Cut Problem\n",
    "Let's consider solving the **Max-Cut** problem on a graph with 100 nodes using QAOA.\n",
    "The Max-Cut problem is a combinatorial optimization problem that is defined on a graph $G = (V, E)$, where $V$ is the set of vertices and $E$ is the set of edges. The goal is to partition the vertices into two sets, $S$ and $V \\setminus S$, such that the number of edges between the two sets is maximized.\n",
    "In this example, we use a graph with 100 nodes that is based on a hardware coupling map.\n",
    "\n",
    "\n",
    "### Graph &rarr; Hamiltonian\n",
    "\n",
    "First, convert the graph into a Hamiltonian that is suited for the QAOA. Details on this process can be found in the [introductory QAOA tutorial.](/docs/tutorials/quantum-approximate-optimization-algorithm)"
   ]
  },
  {
   "cell_type": "code",
   "execution_count": null,
   "id": "d19a5086-a858-45e1-b60b-f31db350e9d9",
   "metadata": {
    "collapsed": true,
    "jupyter": {
     "outputs_hidden": true
    }
   },
   "outputs": [],
   "source": [
    "service = QiskitRuntimeService()\n",
    "backend = service.least_busy(operational=True, simulator=False)\n",
    "print(backend)"
   ]
  },
  {
   "cell_type": "code",
   "execution_count": null,
   "id": "c989c08a-1e79-4059-b9d7-12651909b3bb",
   "metadata": {},
   "outputs": [
    {
     "data": {
      "text/plain": [
       "<Image src=\"/docs/images/tutorials/advanced-techniques-for-qaoa/extracted-outputs/c989c08a-1e79-4059-b9d7-12651909b3bb-0.avif\" alt=\"Output of the previous code cell\" />"
      ]
     },
     "metadata": {},
     "output_type": "display_data"
    }
   ],
   "source": [
    "n = 100  # Number of nodes in graph\n",
    "graph_100 = rx.PyGraph()\n",
    "graph_100.add_nodes_from(np.arange(0, n, 1))\n",
    "elist = []\n",
    "for edge in backend.coupling_map:\n",
    "    if edge[0] < n and edge[1] < n:\n",
    "        elist.append((edge[0], edge[1], 1.0))\n",
    "graph_100.add_edges_from(elist)\n",
    "draw_graph(graph_100, node_size=200, with_labels=True, width=1)"
   ]
  },
  {
   "cell_type": "code",
   "execution_count": null,
   "id": "e39c4e42-ce97-4a04-8879-da4d33a684bc",
   "metadata": {},
   "outputs": [
    {
     "name": "stdout",
     "output_type": "stream",
     "text": [
      "Cost Function Hamiltonian: SparsePauliOp(['IIIIIIIIIIIIIIIIIIIIIIIIIIIIIIIIIIIIIIIIIIIIIIIIIIIIIIIIIIIIIIIIIIIIIIIIIIIIIIIIIIIIIIIIIIIIIIIIIIZZ', 'IIIIIIIIIIIIIIIIIIIIIIIIIIIIIIIIIIIIIIIIIIIIIIIIIIIIIIIIIIIIIIIIIIIIIIIIIIIIIIIIIIIIIZIIIIIIIIIIIIIZ', 'IIIIIIIIIIIIIIIIIIIIIIIIIIIIIIIIIIIIIIIIIIIIIIIIIIIIIIIIIIIIIIIIIIIIIIIIIIIIIIIIIIIIIIIIIIIIIIIIIZZI', 'IIIIIIIIIIIIIIIIIIIIIIIIIIIIIIIIIIIIIIIIIIIIIIIIIIIIIIIIIIIIIIIIIIIIIIIIIIIIIIIIIIIIIIIIIIIIIIIIZZII', 'IIIIIIIIIIIIIIIIIIIIIIIIIIIIIIIIIIIIIIIIIIIIIIIIIIIIIIIIIIIIIIIIIIIIIIIIIIIIIIIIIIIIIIIIIIIIIIIZZIII', 'IIIIIIIIIIIIIIIIIIIIIIIIIIIIIIIIIIIIIIIIIIIIIIIIIIIIIIIIIIIIIIIIIIIIIIIIIIIIIIIIIIIIZIIIIIIIIIIZIIII', 'IIIIIIIIIIIIIIIIIIIIIIIIIIIIIIIIIIIIIIIIIIIIIIIIIIIIIIIIIIIIIIIIIIIIIIIIIIIIIIIIIIIIIIIIIIIIIIZZIIII', 'IIIIIIIIIIIIIIIIIIIIIIIIIIIIIIIIIIIIIIIIIIIIIIIIIIIIIIIIIIIIIIIIIIIIIIIIIIIIIIIIIIIIIIIIIIIIIZZIIIII', 'IIIIIIIIIIIIIIIIIIIIIIIIIIIIIIIIIIIIIIIIIIIIIIIIIIIIIIIIIIIIIIIIIIIIIIIIIIIIIIIIIIIIIIIIIIIIZZIIIIII', 'IIIIIIIIIIIIIIIIIIIIIIIIIIIIIIIIIIIIIIIIIIIIIIIIIIIIIIIIIIIIIIIIIIIIIIIIIIIIIIIIIIIIIIIIIIIZZIIIIIII', 'IIIIIIIIIIIIIIIIIIIIIIIIIIIIIIIIIIIIIIIIIIIIIIIIIIIIIIIIIIIIIIIIIIIIIIIIIIIIIIIIIIIIIIIIIIZZIIIIIIII', 'IIIIIIIIIIIIIIIIIIIIIIIIIIIIIIIIIIIIIIIIIIIIIIIIIIIIIIIIIIIIIIIIIIIIIIIIIIIIIIIIIIIIIIIIIZZIIIIIIIII', 'IIIIIIIIIIIIIIIIIIIIIIIIIIIIIIIIIIIIIIIIIIIIIIIIIIIIIIIIIIIIIIIIIIIIIIIIIIIIIIIIIIIIIIIIZZIIIIIIIIII', 'IIIIIIIIIIIIIIIIIIIIIIIIIIIIIIIIIIIIIIIIIIIIIIIIIIIIIIIIIIIIIIIIIIIIIIIIIIIIIIIIIIIIIIIZZIIIIIIIIIII', 'IIIIIIIIIIIIIIIIIIIIIIIIIIIIIIIIIIIIIIIIIIIIIIIIIIIIIIIIIIIIIIIIIIIIIIIIIIIIIIIIIIIIIIZZIIIIIIIIIIII', 'IIIIIIIIIIIIIIIIIIIIIIIIIIIIIIIIIIIIIIIIIIIIIIIIIIIIIIIIIIIIIIIIIIIIIIIIIIIIIIIIIZIIIZIIIIIIIIIIIIII', 'IIIIIIIIIIIIIIIIIIIIIIIIIIIIIIIIIIIIIIIIIIIIIIIIIIIIIIIIIIIIIIIIIIIIIIIIIIIIIIIIIIIZIIIIIIIZIIIIIIII', 'IIIIIIIIIIIIIIIIIIIIIIIIIIIIIIIIIIIIIIIIIIIIIIIIIIIIIIIIIIIIIIIIIIIIIIIIIIIIIIIIIIZIIIIZIIIIIIIIIIII', 'IIIIIIIIIIIIIIIIIIIIIIIIIIIIIIIIIIIIIIIIIIIIIIIIIIIIIIIIIIIIIIIIIIIIIZIIIIIIIIIIIIZIIIIIIIIIIIIIIIII', 'IIIIIIIIIIIIIIIIIIIIIIIIIIIIIIIIIIIIIIIIIIIIIIIIIIIIIIIIIIIIIIIIIIIIIIIIIIIIIIIIZZIIIIIIIIIIIIIIIIII', 'IIIIIIIIIIIIIIIIIIIIIIIIIIIIIIIIIIIIIIIIIIIIIIIIIIIIIIIIIIIIIIIIIIIIIIIIIIIIIIIZZIIIIIIIIIIIIIIIIIII', 'IIIIIIIIIIIIIIIIIIIIIIIIIIIIIIIIIIIIIIIIIIIIIIIIIIIIIIIIIIIIIIIIIIIIIIIIIIIIIIZZIIIIIIIIIIIIIIIIIIII', 'IIIIIIIIIIIIIIIIIIIIIIIIIIIIIIIIIIIIIIIIIIIIIIIIIIIIIIIIIIIIIIIIIIIIIIIIIIIIIZZIIIIIIIIIIIIIIIIIIIII', 'IIIIIIIIIIIIIIIIIIIIIIIIIIIIIIIIIIIIIIIIIIIIIIIIIIIIIIIIIIIIIIIIIIIIIIIIIIIIIZIIIIIIZIIIIIIIIIIIIIII', 'IIIIIIIIIIIIIIIIIIIIIIIIIIIIIIIIIIIIIIIIIIIIIIIIIIIIIIIIIIIIIIIIIIIIIIIIIIIIZZIIIIIIIIIIIIIIIIIIIIII', 'IIIIIIIIIIIIIIIIIIIIIIIIIIIIIIIIIIIIIIIIIIIIIIIIIIIIIIIIIIIIIIIIIIIIIIIIIIIZZIIIIIIIIIIIIIIIIIIIIIII', 'IIIIIIIIIIIIIIIIIIIIIIIIIIIIIIIIIIIIIIIIIIIIIIIIIIIIIIIIIIIIIIIIIIIIIIIIIIZZIIIIIIIIIIIIIIIIIIIIIIII', 'IIIIIIIIIIIIIIIIIIIIIIIIIIIIIIIIIIIIIIIIIIIIIIIIIIIIIIIIIIIIIIIIIIIIIIIIIZIIIIIIIIIZIIIIIIIIIIIIIIII', 'IIIIIIIIIIIIIIIIIIIIIIIIIIIIIIIIIIIIIIIIIIIIIIIIIIIIIIIIIIIIIIIIIIIIIIIIIZZIIIIIIIIIIIIIIIIIIIIIIIII', 'IIIIIIIIIIIIIIIIIIIIIIIIIIIIIIIIIIIIIIIIIIIIIIIIIIIIIIIIIIIIIIIIIIIIIIIIZZIIIIIIIIIIIIIIIIIIIIIIIIII', 'IIIIIIIIIIIIIIIIIIIIIIIIIIIIIIIIIIIIIIIIIIIIIIIIIIIIIIIIIIIIIIIIIIIIIIIZZIIIIIIIIIIIIIIIIIIIIIIIIIII', 'IIIIIIIIIIIIIIIIIIIIIIIIIIIIIIIIIIIIIIIIIIIIIIIIIIIIIIIIIIIIIIIIIIIIIIZZIIIIIIIIIIIIIIIIIIIIIIIIIIII', 'IIIIIIIIIIIIIIIIIIIIIIIIIIIIIIIIIIIIIIIIIIIIIIIIIIIIIIIIIIIIIIIIIIIIIZZIIIIIIIIIIIIIIIIIIIIIIIIIIIII', 'IIIIIIIIIIIIIIIIIIIIIIIIIIIIIIIIIIIIIIIIIIIIIIIIIIIIIIIIIIIIIIIIIIIIZZIIIIIIIIIIIIIIIIIIIIIIIIIIIIII', 'IIIIIIIIIIIIIIIIIIIIIIIIIIIIIIIIIIIIIIIIIIIIIIIIIIIIIIIIIIIIIIIIIIIZZIIIIIIIIIIIIIIIIIIIIIIIIIIIIIII', 'IIIIIIIIIIIIIIIIIIIIIIIIIIIIIIIIIIIIIIIIIIIIIIIIIIIIIIIIIIIIIIIIIIZIIIIIIIIIIIIZIIIIIIIIIIIIIIIIIIII', 'IIIIIIIIIIIIIIIIIIIIIIIIIIIIIIIIIIIIIIIIIIIIIIIIIIIIIIIIIIIIZIIIIIZIIIIIIIIIIIIIIIIIIIIIIIIIIIIIIIII', 'IIIIIIIIIIIIIIIIIIIIIIIIIIIIIIIIIIIIIIIIIIIIIIIIIIIIIIIIIIIIIIIIIZIIIIIIIIIZIIIIIIIIIIIIIIIIIIIIIIII', 'IIIIIIIIIIIIIIIIIIIIIIIIIIIIIIIIIIIIIIIIIIIIIIIIIIIIIIIIIIIIIIIIZIIIIIIZIIIIIIIIIIIIIIIIIIIIIIIIIIII', 'IIIIIIIIIIIIIIIIIIIIIIIIIIIIIIIIIIIIIIIIIIIIIIIIIIIIZIIIIIIIIIIIZIIIIIIIIIIIIIIIIIIIIIIIIIIIIIIIIIII', 'IIIIIIIIIIIIIIIIIIIIIIIIIIIIIIIIIIIIIIIIIIIIIIIIIIIIIIIIIIIIIIIZIIIZIIIIIIIIIIIIIIIIIIIIIIIIIIIIIIII', 'IIIIIIIIIIIIIIIIIIIIIIIIIIIIIIIIIIIIIIIIIIIIIIIIZIIIIIIIIIIIIIIZIIIIIIIIIIIIIIIIIIIIIIIIIIIIIIIIIIII', 'IIIIIIIIIIIIIIIIIIIIIIIIIIIIIIIIIIIIIIIIIIIIIIIIIIIIIIIIIIIIIZZIIIIIIIIIIIIIIIIIIIIIIIIIIIIIIIIIIIII', 'IIIIIIIIIIIIIIIIIIIIIIIIIIIIIIIIIIIIIIIIIIIIIIIZIIIIIIIIIIIIIIZIIIIIIIIIIIIIIIIIIIIIIIIIIIIIIIIIIIII', 'IIIIIIIIIIIIIIIIIIIIIIIIIIIIIIIIIIIIIIIIIIIIIIIIIIIIIIIIIIIIZZIIIIIIIIIIIIIIIIIIIIIIIIIIIIIIIIIIIIII', 'IIIIIIIIIIIIIIIIIIIIIIIIIIIIIIIIIIIIIIIIIIIIIIIIIIIIIIIIIIIZZIIIIIIIIIIIIIIIIIIIIIIIIIIIIIIIIIIIIIII', 'IIIIIIIIIIIIIIIIIIIIIIIIIIIIIIIIIIIIIIIIIIIIIIIIIIIIIIIIIIZZIIIIIIIIIIIIIIIIIIIIIIIIIIIIIIIIIIIIIIII', 'IIIIIIIIIIIIIIIIIIIIIIIIIIIIIIIIIIIIIIIIIIIIIIIIIIIIIIIIIZZIIIIIIIIIIIIIIIIIIIIIIIIIIIIIIIIIIIIIIIII', 'IIIIIIIIIIIIIIIIIIIIIIIIIIIIIIIIIIIIIIIIIIIIIIIIIIIIIIIIZZIIIIIIIIIIIIIIIIIIIIIIIIIIIIIIIIIIIIIIIIII', 'IIIIIIIIIIIIIIIIIIIIIIIIIIIIIIIIIIIIIIIIIIIIIIIIIIIIIIIIZIIIIIIIIZIIIIIIIIIIIIIIIIIIIIIIIIIIIIIIIIII', 'IIIIIIIIIIIIIIIIIIIIIIIIIIIIIIIIIIIIIIIIIIIIIIIIIIIIIIIZZIIIIIIIIIIIIIIIIIIIIIIIIIIIIIIIIIIIIIIIIIII', 'IIIIIIIIIIIIIIIIIIIIIIIIIIIIIIIIIIIIIIIIIIIIIIIIIIIIIIZZIIIIIIIIIIIIIIIIIIIIIIIIIIIIIIIIIIIIIIIIIIII', 'IIIIIIIIIIIIIIIIIIIIIIIIIIIIIIIIIIIIIIIIIIIIIIIIIIIIIZZIIIIIIIIIIIIIIIIIIIIIIIIIIIIIIIIIIIIIIIIIIIII', 'IIIIIIIIIIIIIIIIIIIIIIIIIIIIIIIIIIIIIIIIIIIIIIIIIIIIZZIIIIIIIIIIIIIIIIIIIIIIIIIIIIIIIIIIIIIIIIIIIIII', 'IIIIIIIIIIIIIIIIIIIIIIIIIIIIIIIIIIIIIIIIIIIIIIIIIIIZZIIIIIIIIIIIIIIIIIIIIIIIIIIIIIIIIIIIIIIIIIIIIIII', 'IIIIIIIIIIIIIIIIIIIIIIIIIIIIIIIIIIIIIIIIIIIIIIIIIIZZIIIIIIIIIIIIIIIIIIIIIIIIIIIIIIIIIIIIIIIIIIIIIIII', 'IIIIIIIIIIIIIIIIIIIIIIIIIIIIIIIIIIIIIIIIIIIIIIIIIZZIIIIIIIIIIIIIIIIIIIIIIIIIIIIIIIIIIIIIIIIIIIIIIIII', 'IIIIIIIIIIIIIIIIIIIIIIIIIIIIIIIIIIIIIIIIIIIIIIIIZZIIIIIIIIIIIIIIIIIIIIIIIIIIIIIIIIIIIIIIIIIIIIIIIIII', 'IIIIIIIIIIIIIIIIIIIIIIIIIIIIIIIIIIIIIIIIIIIIIIZIIIIIIIIIIIZIIIIIIIIIIIIIIIIIIIIIIIIIIIIIIIIIIIIIIIII', 'IIIIIIIIIIIIIIIIIIIIIIIIIIIIIIIIIIIIIIIZIIIIIIZIIIIIIIIIIIIIIIIIIIIIIIIIIIIIIIIIIIIIIIIIIIIIIIIIIIII', 'IIIIIIIIIIIIIIIIIIIIIIIIIIIIIIIIIIIIIIIIIIIIIZIIIIIIIIZIIIIIIIIIIIIIIIIIIIIIIIIIIIIIIIIIIIIIIIIIIIII', 'IIIIIIIIIIIIIIIIIIIIIIIIIIIIIIIIIIIZIIIIIIIIIZIIIIIIIIIIIIIIIIIIIIIIIIIIIIIIIIIIIIIIIIIIIIIIIIIIIIII', 'IIIIIIIIIIIIIIIIIIIIIIIIIIIIIIIIIIIIIIIIIIIIZIIIIIZIIIIIIIIIIIIIIIIIIIIIIIIIIIIIIIIIIIIIIIIIIIIIIIII', 'IIIIIIIIIIIIIIIIIIIIIIIIIIIIIIIIIIIIIIIIIIIZIIIZIIIIIIIIIIIIIIIIIIIIIIIIIIIIIIIIIIIIIIIIIIIIIIIIIIII', 'IIIIIIIIIIIIIIIIIIIIIIIIIIIIIIIIIIIIIIIIIIZZIIIIIIIIIIIIIIIIIIIIIIIIIIIIIIIIIIIIIIIIIIIIIIIIIIIIIIII', 'IIIIIIIIIIIIIIIIIIIIIIIIIIIIIIIIIIIIIIIIIZZIIIIIIIIIIIIIIIIIIIIIIIIIIIIIIIIIIIIIIIIIIIIIIIIIIIIIIIII', 'IIIIIIIIIIIIIIIIIIIIIIIIIIIIIIIIIIIIIIIIZZIIIIIIIIIIIIIIIIIIIIIIIIIIIIIIIIIIIIIIIIIIIIIIIIIIIIIIIIII', 'IIIIIIIIIIIIIIIIIIIIIIIIIIIIZIIIIIIIIIIIIZIIIIIIIIIIIIIIIIIIIIIIIIIIIIIIIIIIIIIIIIIIIIIIIIIIIIIIIIII', 'IIIIIIIIIIIIIIIIIIIIIIIIIIIIIIIIIIIIIIIZZIIIIIIIIIIIIIIIIIIIIIIIIIIIIIIIIIIIIIIIIIIIIIIIIIIIIIIIIIII', 'IIIIIIIIIIIIIIIIIIIIIIIIIIIIIIIIIIIIIIZZIIIIIIIIIIIIIIIIIIIIIIIIIIIIIIIIIIIIIIIIIIIIIIIIIIIIIIIIIIII', 'IIIIIIIIIIIIIIIIIIIIIIIIIIIIIIIIIIIIIZZIIIIIIIIIIIIIIIIIIIIIIIIIIIIIIIIIIIIIIIIIIIIIIIIIIIIIIIIIIIII', 'IIIIIIIIIIIIIIIIIIIIIIIIIIIIIIIIIIIIZZIIIIIIIIIIIIIIIIIIIIIIIIIIIIIIIIIIIIIIIIIIIIIIIIIIIIIIIIIIIIII', 'IIIIIIIIIIIIIIIIIIIIIIIIIIIIIIIIIIIZZIIIIIIIIIIIIIIIIIIIIIIIIIIIIIIIIIIIIIIIIIIIIIIIIIIIIIIIIIIIIIII', 'IIIIIIIIIIIIIIIIIIIIIIIIIIIIIIIIIIZZIIIIIIIIIIIIIIIIIIIIIIIIIIIIIIIIIIIIIIIIIIIIIIIIIIIIIIIIIIIIIIII', 'IIIIIIIIIIIIIIIIIIIIIIIIIIIIIIIIIZZIIIIIIIIIIIIIIIIIIIIIIIIIIIIIIIIIIIIIIIIIIIIIIIIIIIIIIIIIIIIIIIII', 'IIIIIIIIIIIIIIIIIIIIIIIIIIIIIIIIZZIIIIIIIIIIIIIIIIIIIIIIIIIIIIIIIIIIIIIIIIIIIIIIIIIIIIIIIIIIIIIIIIII', 'IIIIIIIIIIIIIIIIIIIIIIIIIIIIIIIZZIIIIIIIIIIIIIIIIIIIIIIIIIIIIIIIIIIIIIIIIIIIIIIIIIIIIIIIIIIIIIIIIIII', 'IIIIIIIIIIIIIIIIIIIIIIIIIIIIIIIZIIIIIIIIIIIIZIIIIIIIIIIIIIIIIIIIIIIIIIIIIIIIIIIIIIIIIIIIIIIIIIIIIIII', 'IIIIIIIIIIIIIIIIIIIIIIIIIIIIIIZZIIIIIIIIIIIIIIIIIIIIIIIIIIIIIIIIIIIIIIIIIIIIIIIIIIIIIIIIIIIIIIIIIIII', 'IIIIIIIIIIIIIIIIIIIIIIIIIIIIIZZIIIIIIIIIIIIIIIIIIIIIIIIIIIIIIIIIIIIIIIIIIIIIIIIIIIIIIIIIIIIIIIIIIIII', 'IIIIIIIIIIIIIIIIIIIIIIIIIZIIIZIIIIIIIIIIIIIIIIIIIIIIIIIIIIIIIIIIIIIIIIIIIIIIIIIIIIIIIIIIIIIIIIIIIIII', 'IIIIIIIIIIIIIIIIIIIIIIIIIIIZIIIIIIIIIZIIIIIIIIIIIIIIIIIIIIIIIIIIIIIIIIIIIIIIIIIIIIIIIIIIIIIIIIIIIIII', 'IIIIIIIIIIIIIIIIIIZIIIIIIIIZIIIIIIIIIIIIIIIIIIIIIIIIIIIIIIIIIIIIIIIIIIIIIIIIIIIIIIIIIIIIIIIIIIIIIIII', 'IIIIIIIIIIIIIIIIIIIIIIIIIIZIIIIIIZIIIIIIIIIIIIIIIIIIIIIIIIIIIIIIIIIIIIIIIIIIIIIIIIIIIIIIIIIIIIIIIIII', 'IIIIIIIIIIIIIIZIIIIIIIIIIIZIIIIIIIIIIIIIIIIIIIIIIIIIIIIIIIIIIIIIIIIIIIIIIIIIIIIIIIIIIIIIIIIIIIIIIIII', 'IIIIIIIIIIIIIIIIIIIIIIIZZIIIIIIIIIIIIIIIIIIIIIIIIIIIIIIIIIIIIIIIIIIIIIIIIIIIIIIIIIIIIIIIIIIIIIIIIIII', 'IIIIIIIIIZIIIIIIIIIIIIIIZIIIIIIIIIIIIIIIIIIIIIIIIIIIIIIIIIIIIIIIIIIIIIIIIIIIIIIIIIIIIIIIIIIIIIIIIIII', 'IIIIIIIIIIIIIIIIIIIIIIZZIIIIIIIIIIIIIIIIIIIIIIIIIIIIIIIIIIIIIIIIIIIIIIIIIIIIIIIIIIIIIIIIIIIIIIIIIIII', 'IIIIIIIIIIIIIIIIIIIIIIZIIIIIZIIIIIIIIIIIIIIIIIIIIIIIIIIIIIIIIIIIIIIIIIIIIIIIIIIIIIIIIIIIIIIIIIIIIIII', 'IIIIIIIIIIIIIIIIIIIIIZZIIIIIIIIIIIIIIIIIIIIIIIIIIIIIIIIIIIIIIIIIIIIIIIIIIIIIIIIIIIIIIIIIIIIIIIIIIIII', 'IIIIIIIIIIIIIIIIIIIIZZIIIIIIIIIIIIIIIIIIIIIIIIIIIIIIIIIIIIIIIIIIIIIIIIIIIIIIIIIIIIIIIIIIIIIIIIIIIIII', 'IIIIIIIIIIIIIIIIIIIZZIIIIIIIIIIIIIIIIIIIIIIIIIIIIIIIIIIIIIIIIIIIIIIIIIIIIIIIIIIIIIIIIIIIIIIIIIIIIIII', 'IIIIIIIIIIIIIIIIIIZZIIIIIIIIIIIIIIIIIIIIIIIIIIIIIIIIIIIIIIIIIIIIIIIIIIIIIIIIIIIIIIIIIIIIIIIIIIIIIIII', 'IIIIIIIIIIIIIIIIIZZIIIIIIIIIIIIIIIIIIIIIIIIIIIIIIIIIIIIIIIIIIIIIIIIIIIIIIIIIIIIIIIIIIIIIIIIIIIIIIIII', 'IIIIIIIIIIIIIIIIZZIIIIIIIIIIIIIIIIIIIIIIIIIIIIIIIIIIIIIIIIIIIIIIIIIIIIIIIIIIIIIIIIIIIIIIIIIIIIIIIIII', 'IIIIIIIIIIIIIIIZZIIIIIIIIIIIIIIIIIIIIIIIIIIIIIIIIIIIIIIIIIIIIIIIIIIIIIIIIIIIIIIIIIIIIIIIIIIIIIIIIIII', 'IIIIIIIIIIIIIIZZIIIIIIIIIIIIIIIIIIIIIIIIIIIIIIIIIIIIIIIIIIIIIIIIIIIIIIIIIIIIIIIIIIIIIIIIIIIIIIIIIIII', 'IIIIIIIIIIIIIZZIIIIIIIIIIIIIIIIIIIIIIIIIIIIIIIIIIIIIIIIIIIIIIIIIIIIIIIIIIIIIIIIIIIIIIIIIIIIIIIIIIIII', 'IIIIIIIIIIIIZZIIIIIIIIIIIIIIIIIIIIIIIIIIIIIIIIIIIIIIIIIIIIIIIIIIIIIIIIIIIIIIIIIIIIIIIIIIIIIIIIIIIIII', 'IIIIIIZIIIIIZIIIIIIIIIIIIIIIIIIIIIIIIIIIIIIIIIIIIIIIIIIIIIIIIIIIIIIIIIIIIIIIIIIIIIIIIIIIIIIIIIIIIIII', 'IIIIIIIIIIIZZIIIIIIIIIIIIIIIIIIIIIIIIIIIIIIIIIIIIIIIIIIIIIIIIIIIIIIIIIIIIIIIIIIIIIIIIIIIIIIIIIIIIIII', 'IIIIIIIIIIZZIIIIIIIIIIIIIIIIIIIIIIIIIIIIIIIIIIIIIIIIIIIIIIIIIIIIIIIIIIIIIIIIIIIIIIIIIIIIIIIIIIIIIIII', 'IIIIIIIIIIZIIIIIIIIIIIIIIZIIIIIIIIIIIIIIIIIIIIIIIIIIIIIIIIIIIIIIIIIIIIIIIIIIIIIIIIIIIIIIIIIIIIIIIIII', 'IIIIIIIIZIIIIIIIIIIIZIIIIIIIIIIIIIIIIIIIIIIIIIIIIIIIIIIIIIIIIIIIIIIIIIIIIIIIIIIIIIIIIIIIIIIIIIIIIIII', 'IZIIIIIIZIIIIIIIIIIIIIIIIIIIIIIIIIIIIIIIIIIIIIIIIIIIIIIIIIIIIIIIIIIIIIIIIIIIIIIIIIIIIIIIIIIIIIIIIIII', 'IIIIIIIZIIIIIIIIZIIIIIIIIIIIIIIIIIIIIIIIIIIIIIIIIIIIIIIIIIIIIIIIIIIIIIIIIIIIIIIIIIIIIIIIIIIIIIIIIIII', 'IIIIIZIIIZIIIIIIIIIIIIIIIIIIIIIIIIIIIIIIIIIIIIIIIIIIIIIIIIIIIIIIIIIIIIIIIIIIIIIIIIIIIIIIIIIIIIIIIIII', 'IIIIZZIIIIIIIIIIIIIIIIIIIIIIIIIIIIIIIIIIIIIIIIIIIIIIIIIIIIIIIIIIIIIIIIIIIIIIIIIIIIIIIIIIIIIIIIIIIIII', 'IIIZZIIIIIIIIIIIIIIIIIIIIIIIIIIIIIIIIIIIIIIIIIIIIIIIIIIIIIIIIIIIIIIIIIIIIIIIIIIIIIIIIIIIIIIIIIIIIIII', 'IIZZIIIIIIIIIIIIIIIIIIIIIIIIIIIIIIIIIIIIIIIIIIIIIIIIIIIIIIIIIIIIIIIIIIIIIIIIIIIIIIIIIIIIIIIIIIIIIIII', 'IZZIIIIIIIIIIIIIIIIIIIIIIIIIIIIIIIIIIIIIIIIIIIIIIIIIIIIIIIIIIIIIIIIIIIIIIIIIIIIIIIIIIIIIIIIIIIIIIIII', 'ZZIIIIIIIIIIIIIIIIIIIIIIIIIIIIIIIIIIIIIIIIIIIIIIIIIIIIIIIIIIIIIIIIIIIIIIIIIIIIIIIIIIIIIIIIIIIIIIIIII'],\n",
      "              coeffs=[1.+0.j, 1.+0.j, 1.+0.j, 1.+0.j, 1.+0.j, 1.+0.j, 1.+0.j, 1.+0.j, 1.+0.j,\n",
      " 1.+0.j, 1.+0.j, 1.+0.j, 1.+0.j, 1.+0.j, 1.+0.j, 1.+0.j, 1.+0.j, 1.+0.j,\n",
      " 1.+0.j, 1.+0.j, 1.+0.j, 1.+0.j, 1.+0.j, 1.+0.j, 1.+0.j, 1.+0.j, 1.+0.j,\n",
      " 1.+0.j, 1.+0.j, 1.+0.j, 1.+0.j, 1.+0.j, 1.+0.j, 1.+0.j, 1.+0.j, 1.+0.j,\n",
      " 1.+0.j, 1.+0.j, 1.+0.j, 1.+0.j, 1.+0.j, 1.+0.j, 1.+0.j, 1.+0.j, 1.+0.j,\n",
      " 1.+0.j, 1.+0.j, 1.+0.j, 1.+0.j, 1.+0.j, 1.+0.j, 1.+0.j, 1.+0.j, 1.+0.j,\n",
      " 1.+0.j, 1.+0.j, 1.+0.j, 1.+0.j, 1.+0.j, 1.+0.j, 1.+0.j, 1.+0.j, 1.+0.j,\n",
      " 1.+0.j, 1.+0.j, 1.+0.j, 1.+0.j, 1.+0.j, 1.+0.j, 1.+0.j, 1.+0.j, 1.+0.j,\n",
      " 1.+0.j, 1.+0.j, 1.+0.j, 1.+0.j, 1.+0.j, 1.+0.j, 1.+0.j, 1.+0.j, 1.+0.j,\n",
      " 1.+0.j, 1.+0.j, 1.+0.j, 1.+0.j, 1.+0.j, 1.+0.j, 1.+0.j, 1.+0.j, 1.+0.j,\n",
      " 1.+0.j, 1.+0.j, 1.+0.j, 1.+0.j, 1.+0.j, 1.+0.j, 1.+0.j, 1.+0.j, 1.+0.j,\n",
      " 1.+0.j, 1.+0.j, 1.+0.j, 1.+0.j, 1.+0.j, 1.+0.j, 1.+0.j, 1.+0.j, 1.+0.j,\n",
      " 1.+0.j, 1.+0.j, 1.+0.j, 1.+0.j])\n"
     ]
    }
   ],
   "source": [
    "def build_max_cut_paulis(graph: rx.PyGraph) -> list[tuple[str, float]]:\n",
    "    \"\"\"Convert the graph to Pauli list.\n",
    "\n",
    "    This function does the inverse of `build_max_cut_graph`\n",
    "    \"\"\"\n",
    "    pauli_list = []\n",
    "    for edge in list(graph.edge_list()):\n",
    "        paulis = [\"I\"] * len(graph)\n",
    "        paulis[edge[0]], paulis[edge[1]] = \"Z\", \"Z\"\n",
    "\n",
    "        weight = graph.get_edge_data(edge[0], edge[1])\n",
    "\n",
    "        pauli_list.append((\"\".join(paulis)[::-1], weight))\n",
    "\n",
    "    return pauli_list\n",
    "\n",
    "\n",
    "max_cut_paulis = build_max_cut_paulis(graph_100)\n",
    "\n",
    "cost_hamiltonian = SparsePauliOp.from_list(max_cut_paulis)\n",
    "print(\"Cost Function Hamiltonian:\", cost_hamiltonian)"
   ]
  },
  {
   "cell_type": "markdown",
   "id": "cf94748d-25b2-47bc-8e65-8504dee843b6",
   "metadata": {},
   "source": [
    "### Hamiltonian &rarr; quantum circuit"
   ]
  },
  {
   "cell_type": "code",
   "execution_count": null,
   "id": "8ff1859a-7487-4113-b8d7-1342cd6bf527",
   "metadata": {},
   "outputs": [
    {
     "data": {
      "text/plain": [
       "<Image src=\"/docs/images/tutorials/advanced-techniques-for-qaoa/extracted-outputs/8ff1859a-7487-4113-b8d7-1342cd6bf527-0.avif\" alt=\"Output of the previous code cell\" />"
      ]
     },
     "execution_count": 4,
     "metadata": {},
     "output_type": "execute_result"
    }
   ],
   "source": [
    "circuit_100 = QAOAAnsatz(cost_operator=cost_hamiltonian, reps=1)\n",
    "circuit_100.measure_all()\n",
    "\n",
    "circuit_100.draw(\"mpl\", fold=False, scale=0.2, idle_wires=False)"
   ]
  },
  {
   "cell_type": "markdown",
   "id": "4e576068-53e7-4a06-a83b-87e95de141e9",
   "metadata": {},
   "source": [
    "## Step 2: Optimize problem for quantum hardware execution\n",
    "### SWAP strategy with the SAT initial mapping\n",
    "We will demonstrate how to build and optimize QAOA circuits using the **SWAP strategy with SAT initial mapping**, a specifically designed transpiler pass for QAOA applied to quadratic problems.\n",
    "\n",
    "In this example, we choose a SWAP insertion strategy for blocks of commuting two-qubit gates, which applies layers of SWAP gates that are simultaneously executable on the coupling map. This strategy is presented in [\\[1\\]](#references) and is exposed as a standardized Qiskit transpiler pass (see [`Commuting2qGateRouter`](/docs/api/qiskit/qiskit.transpiler.passes.Commuting2qGateRouter)), where we can choose different qubit configurations. We use a line swap strategy in this example."
   ]
  },
  {
   "cell_type": "code",
   "execution_count": null,
   "id": "7c54402a-7696-4b0e-826a-6e0ac4c54395",
   "metadata": {},
   "outputs": [],
   "source": [
    "nodes = rx.longest_simple_path(graph_100)\n",
    "# even edges and odd edges\n",
    "even_edges = [\n",
    "    (nodes[i], nodes[i + 1])\n",
    "    if nodes[i] < nodes[i + 1]\n",
    "    else (nodes[i + 1], nodes[i])\n",
    "    for i in range(0, len(nodes) - 1, 2)\n",
    "]\n",
    "odd_edges = [\n",
    "    (nodes[i], nodes[i + 1])\n",
    "    if nodes[i] < nodes[i + 1]\n",
    "    else (nodes[i + 1], nodes[i])\n",
    "    for i in range(1, len(nodes) - 1, 2)\n",
    "]\n",
    "edge_list = [\n",
    "    (edge[0], edge[1]) if edge[0] < edge[1] else (edge[1], edge[0])\n",
    "    for edge in graph_100.edge_list()\n",
    "]\n",
    "\n",
    "swap_strategy = SwapStrategy(CouplingMap(edge_list), (even_edges, odd_edges))"
   ]
  },
  {
   "cell_type": "markdown",
   "id": "ba53fd1d-0d68-43e3-9102-4c6e64f04de7",
   "metadata": {},
   "source": [
    "#### Remap the graph using a SAT mapper\n",
    "\n",
    "Even when a circuit consists of commuting gates (this is the case for the QAOA circuit, but also for Trotterized simulations of Ising Hamiltonians), finding a good initial mapping is a challenging task. The SAT-based approach presented in [\\[2\\]](#references) enables the discovery of effective initial mappings for circuits with commuting gates, resulting in a significant reduction in the number of required SWAP layers. This approach has been demonstrated to scale to up to *500 qubits*, as illustrated in the paper.\n",
    "\n",
    "The following code demonstrates how to use the `SATMapper` from Matsuo et al. to remap the graph. This process allows the problem to be mapped to a more optimal initial state for a specified SWAP strategy, resulting in a significant reduction in the number of SWAP layers required to execute the circuit.\n",
    "\n",
    "In `SATMapper`, the problem of finding a good initial mapping is formulated as a SAT problem. A SAT solver is used to find such an initial mapping for the QAOA circuit. `python-sat` (`pysat` for short) is a Python library for a SAT solver, and we will use it to solve the SAT problem in this example."
   ]
  },
  {
   "cell_type": "code",
   "execution_count": null,
   "id": "df9d861a-64e8-49ee-aed1-c41f437fa743",
   "metadata": {},
   "outputs": [],
   "source": [
    "\"\"\"A class to solve the SWAP gate insertion initial mapping problem\n",
    "using the SAT approach from https://arxiv.org/abs/2212.05666.\n",
    "\"\"\"\n",
    "\n",
    "\n",
    "@dataclass\n",
    "class SATResult:\n",
    "    \"\"\"A data class to hold the result of a SAT solver.\"\"\"\n",
    "\n",
    "    satisfiable: bool  # Satisfiable is True if the SAT model could be solved\n",
    "    # in a given time.\n",
    "    solution: dict  # The solution to the SAT problem if it is satisfiable.\n",
    "    mapping: list  # The mapping of nodes in the pattern graph to nodes in the\n",
    "    # target graph.\n",
    "    elapsed_time: float  # The time it took to solve the SAT model.\n",
    "\n",
    "\n",
    "class SATMapper:\n",
    "    r\"\"\"A class to introduce a SAT-approach to solve\n",
    "    the initial mapping problem in SWAP gate insertion for commuting gates.\n",
    "\n",
    "    When this pass is run on a DAG it will look for the first instance of\n",
    "    :class:`.Commuting2qBlock` and use the program graph :math:`P` of this block\n",
    "    of gates to find a layout for a given swap strategy. This layout is found\n",
    "    with a binary search over the layers :math:`l` of the swap strategy. At each\n",
    "    considered layer a subgraph isomorphism problem formulated as a SAT is solved\n",
    "    by a SAT solver. Each instance is whether it is possible to embed the program\n",
    "    graph :math:`P` into the effective connectivity graph :math:`C_l` that is\n",
    "    achieved by applying :math:`l` layers of the swap strategy to the coupling map\n",
    "    :math:`C_0` of the backend. Since solving SAT problems can be hard, a\n",
    "    ``time_out`` fixes the maximum time allotted to the SAT solver for each\n",
    "    instance. If this time is exceeded the considered problem is deemed\n",
    "    unsatisfiable and the binary search proceeds to the next number of swap\n",
    "    layers :math:``l``.\n",
    "    \"\"\"\n",
    "\n",
    "    def __init__(self, timeout: int = 60):\n",
    "        \"\"\"Initialize the SATMapping.\n",
    "\n",
    "        Args:\n",
    "            timeout: The allowed time in seconds for each iteration of the SAT\n",
    "                solver. This variable defaults to 60 seconds.\n",
    "        \"\"\"\n",
    "        self.timeout = timeout\n",
    "\n",
    "    def find_initial_mappings(\n",
    "        self,\n",
    "        program_graph: rx.Graph,\n",
    "        swap_strategy: SwapStrategy,\n",
    "        min_layers: int | None = None,\n",
    "        max_layers: int | None = None,\n",
    "    ) -> dict[int, SATResult]:\n",
    "        r\"\"\"Find an initial mapping for a given swap strategy. Perform a\n",
    "        binary search over the number of swap layers, and for each number\n",
    "        of swap layers solve a subgraph isomorphism problem formulated as\n",
    "        a SAT problem.\n",
    "\n",
    "        Args:\n",
    "            program_graph (rx.Graph): The program graph with commuting gates, where\n",
    "                                        each edge represents a two-qubit gate.\n",
    "            swap_strategy (SwapStrategy): The swap strategy to use to find the\n",
    "                                        initial mapping.\n",
    "            min_layers (int): The minimum number of swap layers to consider.\n",
    "                                        Defaults to the maximum degree of the\n",
    "                                        program graph - 2.\n",
    "            max_layers (int): The maximum number of swap layers to consider.\n",
    "                                        Defaults to the number of qubits in the\n",
    "                                        swap strategy - 2.\n",
    "\n",
    "        Returns:\n",
    "            dict[int, SATResult]: A dictionary containing the results of the SAT\n",
    "                                    solver for each number of swap layers.\n",
    "        \"\"\"\n",
    "        num_nodes_g1 = len(program_graph.nodes())\n",
    "        num_nodes_g2 = swap_strategy.distance_matrix.shape[0]\n",
    "        if num_nodes_g1 > num_nodes_g2:\n",
    "            return SATResult(False, [], [], 0)\n",
    "        if min_layers is None:\n",
    "            # use the maximum degree of the program graph - 2\n",
    "            # as the lower bound.\n",
    "            min_layers = max((d for _, d in program_graph.degree)) - 2\n",
    "        if max_layers is None:\n",
    "            max_layers = num_nodes_g2 - 1\n",
    "\n",
    "        variable_pool = IDPool(start_from=1)\n",
    "        variables = np.array(\n",
    "            [\n",
    "                [variable_pool.id(f\"v_{i}_{j}\") for j in range(num_nodes_g2)]\n",
    "                for i in range(num_nodes_g1)\n",
    "            ],\n",
    "            dtype=int,\n",
    "        )\n",
    "        vid2mapping = {v: idx for idx, v in np.ndenumerate(variables)}\n",
    "        binary_search_results = {}\n",
    "\n",
    "        def interrupt(solver):\n",
    "            # This function is called to interrupt the solver when the\n",
    "            # timeout is reached.\n",
    "            solver.interrupt()\n",
    "\n",
    "        # Make a cnf (conjunctive normal form) for the one-to-one\n",
    "        # mapping constraint\n",
    "        cnf1 = []\n",
    "        for i in range(num_nodes_g1):\n",
    "            clause = variables[i, :].tolist()\n",
    "            cnf1.append(clause)\n",
    "            for k, m in combinations(clause, 2):\n",
    "                cnf1.append([-1 * k, -1 * m])\n",
    "        for j in range(num_nodes_g2):\n",
    "            clause = variables[:, j].tolist()\n",
    "            for k, m in combinations(clause, 2):\n",
    "                cnf1.append([-1 * k, -1 * m])\n",
    "\n",
    "        # Perform a binary search over the number of swap layers to find the\n",
    "        # minimum number of swap layers that satisfies the subgraph isomorphism\n",
    "        # problem.\n",
    "        while min_layers < max_layers:\n",
    "            num_layers = (min_layers + max_layers) // 2\n",
    "\n",
    "            # Create the connectivity matrix. Note that if the swap strategy\n",
    "            # cannot reach full connectivity then its distance matrix will have\n",
    "            # entries with -1. These entries must be treated as False.\n",
    "            d_matrix = swap_strategy.distance_matrix\n",
    "            connectivity_matrix = (\n",
    "                (-1 < d_matrix) & (d_matrix <= num_layers)\n",
    "            ).astype(int)\n",
    "            # Make a cnf for the adjacency constraint\n",
    "            cnf2 = []\n",
    "            for e_0, e_1 in list(program_graph.edge_list()):\n",
    "                clause_matrix = np.multiply(\n",
    "                    connectivity_matrix, variables[e_1, :]\n",
    "                )\n",
    "                clause = np.concatenate(\n",
    "                    (\n",
    "                        [[-variables[e_0, i]] for i in range(num_nodes_g2)],\n",
    "                        clause_matrix,\n",
    "                    ),\n",
    "                    axis=1,\n",
    "                )\n",
    "                # Remove 0s from each clause\n",
    "                cnf2.extend([c[c != 0].tolist() for c in clause])\n",
    "\n",
    "            cnf = CNF(from_clauses=cnf1 + cnf2)\n",
    "\n",
    "            with Solver(bootstrap_with=cnf, use_timer=True) as solver:\n",
    "                # Solve the SAT problem with a timeout.\n",
    "                # Timer is used to interrupt the solver when the\n",
    "                # timeout is reached.\n",
    "                timer = Timer(self.timeout, interrupt, [solver])\n",
    "                timer.start()\n",
    "                status = solver.solve_limited(expect_interrupt=True)\n",
    "                timer.cancel()\n",
    "                # Get the solution and the elapsed time.\n",
    "                sol = solver.get_model()\n",
    "                e_time = solver.time()\n",
    "\n",
    "                print(\n",
    "                    f\"Layers: {num_layers}, Status: {status}, Time: {e_time}\"\n",
    "                )\n",
    "                if status:\n",
    "                    # If the SAT problem is satisfiable, convert the solution\n",
    "                    # to a mapping.\n",
    "                    mapping = [vid2mapping[idx] for idx in sol if idx > 0]\n",
    "                    binary_search_results[num_layers] = SATResult(\n",
    "                        status, sol, mapping, e_time\n",
    "                    )\n",
    "                    max_layers = num_layers\n",
    "                else:\n",
    "                    # If the SAT problem is unsatisfiable, return the last\n",
    "                    # satisfiable solution.\n",
    "                    binary_search_results[num_layers] = SATResult(\n",
    "                        status, sol, [], e_time\n",
    "                    )\n",
    "                    min_layers = num_layers + 1\n",
    "\n",
    "        return binary_search_results\n",
    "\n",
    "    def remap_graph_with_sat(\n",
    "        self, graph: rx.Graph, swap_strategy, max_layers\n",
    "    ):\n",
    "        \"\"\"Applies the SAT mapping.\n",
    "\n",
    "        Args:\n",
    "            graph (nx.Graph): The graph to remap.\n",
    "            swap_strategy (SwapStrategy): The swap strategy to use\n",
    "                                            to find the initial mapping.\n",
    "\n",
    "        Returns:\n",
    "            tuple: A tuple containing the remapped graph, the edge map, and the\n",
    "            number of layers of the swap strategy that was used to find the\n",
    "            initial mapping. If no solution is found then the tuple contains\n",
    "            None for each element. Note the returned edge map `{k: v}` means that\n",
    "            node `k` in the original graph gets mapped to node `v` in the\n",
    "            Pauli strings.\n",
    "        \"\"\"\n",
    "        num_nodes = len(graph.nodes())\n",
    "        results = self.find_initial_mappings(\n",
    "            graph, swap_strategy, 0, max_layers\n",
    "        )\n",
    "        solutions = [k for k, v in results.items() if v.satisfiable]\n",
    "\n",
    "        if len(solutions):\n",
    "            min_k = min(solutions)\n",
    "            edge_map = dict(results[min_k].mapping)\n",
    "            # Create the remapped graph\n",
    "            remapped_graph = rx.PyGraph()\n",
    "            remapped_graph.add_nodes_from(range(num_nodes))\n",
    "            mapping = dict(results[min_k].mapping)\n",
    "            for i, graph_edge in enumerate(list(graph.edge_list())):\n",
    "                remapped_edge = tuple(mapping[node] for node in graph_edge)\n",
    "                remapped_graph.add_edge(*remapped_edge, graph.edges()[i])\n",
    "            return remapped_graph, edge_map, min_k\n",
    "        else:\n",
    "            return None, None, None"
   ]
  },
  {
   "cell_type": "code",
   "execution_count": 7,
   "id": "e689e09e-6ca7-4154-8602-d1d954ebe80b",
   "metadata": {},
   "outputs": [
    {
     "name": "stdout",
     "output_type": "stream",
     "text": [
      "Layers: 0, Status: True, Time: 0.00903300000000229\n",
      "Map from old to new nodes:  {0: 0, 1: 1, 2: 2, 3: 3, 4: 4, 5: 5, 6: 6, 7: 7, 8: 8, 9: 9, 10: 10, 11: 11, 12: 12, 13: 13, 14: 14, 15: 15, 16: 16, 17: 17, 18: 18, 19: 19, 20: 20, 21: 21, 22: 22, 23: 23, 24: 24, 25: 25, 26: 26, 27: 27, 28: 28, 29: 29, 30: 30, 31: 31, 32: 32, 33: 33, 34: 34, 35: 35, 36: 36, 37: 37, 38: 38, 39: 39, 40: 40, 41: 41, 42: 42, 43: 43, 44: 44, 45: 45, 46: 46, 47: 47, 48: 48, 49: 49, 50: 50, 51: 51, 52: 52, 53: 53, 54: 54, 55: 55, 56: 56, 57: 57, 58: 58, 59: 59, 60: 60, 61: 61, 62: 62, 63: 63, 64: 64, 65: 65, 66: 66, 67: 67, 68: 68, 69: 69, 70: 70, 71: 71, 72: 72, 73: 73, 74: 74, 75: 75, 76: 76, 77: 77, 78: 78, 79: 79, 80: 80, 81: 81, 82: 82, 83: 83, 84: 84, 85: 85, 86: 86, 87: 87, 88: 88, 89: 89, 90: 90, 91: 91, 92: 92, 93: 93, 94: 94, 95: 95, 96: 96, 97: 97, 98: 98, 99: 99}\n",
      "Min SWAP layers: 0\n"
     ]
    },
    {
     "data": {
      "text/plain": [
       "<Image src=\"/docs/images/tutorials/advanced-techniques-for-qaoa/extracted-outputs/e689e09e-6ca7-4154-8602-d1d954ebe80b-1.avif\" alt=\"Output of the previous code cell\" />"
      ]
     },
     "metadata": {},
     "output_type": "display_data"
    }
   ],
   "source": [
    "sm = SATMapper(timeout=10)\n",
    "remapped_graph, edge_map, min_swap_layers = sm.remap_graph_with_sat(\n",
    "    graph=graph_100, swap_strategy=swap_strategy, max_layers=1\n",
    ")\n",
    "print(\"Map from old to new nodes: \", edge_map)\n",
    "print(\"Min SWAP layers:\", min_swap_layers)\n",
    "draw_graph(remapped_graph, node_size=200, with_labels=True, width=1)"
   ]
  },
  {
   "cell_type": "code",
   "execution_count": 8,
   "id": "ecf6e8c3-65c2-4430-8dd3-d67b8842045d",
   "metadata": {},
   "outputs": [
    {
     "name": "stdout",
     "output_type": "stream",
     "text": [
      "SparsePauliOp(['IIIIIIIIIIIIIIIIIIIIIIIIIIIIIIIIIIIIIIIIIIIIIIIIIIIIIIIIIIIIIIIIIIIIIIIIIIIIIIIIIIIIIIIIIIIIIIIIIIZZ', 'IIIIIIIIIIIIIIIIIIIIIIIIIIIIIIIIIIIIIIIIIIIIIIIIIIIIIIIIIIIIIIIIIIIIIIIIIIIIIIIIIIIIIZIIIIIIIIIIIIIZ', 'IIIIIIIIIIIIIIIIIIIIIIIIIIIIIIIIIIIIIIIIIIIIIIIIIIIIIIIIIIIIIIIIIIIIIIIIIIIIIIIIIIIIIIIIIIIIIIIIIZZI', 'IIIIIIIIIIIIIIIIIIIIIIIIIIIIIIIIIIIIIIIIIIIIIIIIIIIIIIIIIIIIIIIIIIIIIIIIIIIIIIIIIIIIIIIIIIIIIIIIZZII', 'IIIIIIIIIIIIIIIIIIIIIIIIIIIIIIIIIIIIIIIIIIIIIIIIIIIIIIIIIIIIIIIIIIIIIIIIIIIIIIIIIIIIIIIIIIIIIIIZZIII', 'IIIIIIIIIIIIIIIIIIIIIIIIIIIIIIIIIIIIIIIIIIIIIIIIIIIIIIIIIIIIIIIIIIIIIIIIIIIIIIIIIIIIZIIIIIIIIIIZIIII', 'IIIIIIIIIIIIIIIIIIIIIIIIIIIIIIIIIIIIIIIIIIIIIIIIIIIIIIIIIIIIIIIIIIIIIIIIIIIIIIIIIIIIIIIIIIIIIIZZIIII', 'IIIIIIIIIIIIIIIIIIIIIIIIIIIIIIIIIIIIIIIIIIIIIIIIIIIIIIIIIIIIIIIIIIIIIIIIIIIIIIIIIIIIIIIIIIIIIZZIIIII', 'IIIIIIIIIIIIIIIIIIIIIIIIIIIIIIIIIIIIIIIIIIIIIIIIIIIIIIIIIIIIIIIIIIIIIIIIIIIIIIIIIIIIIIIIIIIIZZIIIIII', 'IIIIIIIIIIIIIIIIIIIIIIIIIIIIIIIIIIIIIIIIIIIIIIIIIIIIIIIIIIIIIIIIIIIIIIIIIIIIIIIIIIIIIIIIIIIZZIIIIIII', 'IIIIIIIIIIIIIIIIIIIIIIIIIIIIIIIIIIIIIIIIIIIIIIIIIIIIIIIIIIIIIIIIIIIIIIIIIIIIIIIIIIIIIIIIIIZZIIIIIIII', 'IIIIIIIIIIIIIIIIIIIIIIIIIIIIIIIIIIIIIIIIIIIIIIIIIIIIIIIIIIIIIIIIIIIIIIIIIIIIIIIIIIIIIIIIIZZIIIIIIIII', 'IIIIIIIIIIIIIIIIIIIIIIIIIIIIIIIIIIIIIIIIIIIIIIIIIIIIIIIIIIIIIIIIIIIIIIIIIIIIIIIIIIIIIIIIZZIIIIIIIIII', 'IIIIIIIIIIIIIIIIIIIIIIIIIIIIIIIIIIIIIIIIIIIIIIIIIIIIIIIIIIIIIIIIIIIIIIIIIIIIIIIIIIIIIIIZZIIIIIIIIIII', 'IIIIIIIIIIIIIIIIIIIIIIIIIIIIIIIIIIIIIIIIIIIIIIIIIIIIIIIIIIIIIIIIIIIIIIIIIIIIIIIIIIIIIIZZIIIIIIIIIIII', 'IIIIIIIIIIIIIIIIIIIIIIIIIIIIIIIIIIIIIIIIIIIIIIIIIIIIIIIIIIIIIIIIIIIIIIIIIIIIIIIIIZIIIZIIIIIIIIIIIIII', 'IIIIIIIIIIIIIIIIIIIIIIIIIIIIIIIIIIIIIIIIIIIIIIIIIIIIIIIIIIIIIIIIIIIIIIIIIIIIIIIIIIIZIIIIIIIZIIIIIIII', 'IIIIIIIIIIIIIIIIIIIIIIIIIIIIIIIIIIIIIIIIIIIIIIIIIIIIIIIIIIIIIIIIIIIIIIIIIIIIIIIIIIZIIIIZIIIIIIIIIIII', 'IIIIIIIIIIIIIIIIIIIIIIIIIIIIIIIIIIIIIIIIIIIIIIIIIIIIIIIIIIIIIIIIIIIIIZIIIIIIIIIIIIZIIIIIIIIIIIIIIIII', 'IIIIIIIIIIIIIIIIIIIIIIIIIIIIIIIIIIIIIIIIIIIIIIIIIIIIIIIIIIIIIIIIIIIIIIIIIIIIIIIIZZIIIIIIIIIIIIIIIIII', 'IIIIIIIIIIIIIIIIIIIIIIIIIIIIIIIIIIIIIIIIIIIIIIIIIIIIIIIIIIIIIIIIIIIIIIIIIIIIIIIZZIIIIIIIIIIIIIIIIIII', 'IIIIIIIIIIIIIIIIIIIIIIIIIIIIIIIIIIIIIIIIIIIIIIIIIIIIIIIIIIIIIIIIIIIIIIIIIIIIIIZZIIIIIIIIIIIIIIIIIIII', 'IIIIIIIIIIIIIIIIIIIIIIIIIIIIIIIIIIIIIIIIIIIIIIIIIIIIIIIIIIIIIIIIIIIIIIIIIIIIIZZIIIIIIIIIIIIIIIIIIIII', 'IIIIIIIIIIIIIIIIIIIIIIIIIIIIIIIIIIIIIIIIIIIIIIIIIIIIIIIIIIIIIIIIIIIIIIIIIIIIIZIIIIIIZIIIIIIIIIIIIIII', 'IIIIIIIIIIIIIIIIIIIIIIIIIIIIIIIIIIIIIIIIIIIIIIIIIIIIIIIIIIIIIIIIIIIIIIIIIIIIZZIIIIIIIIIIIIIIIIIIIIII', 'IIIIIIIIIIIIIIIIIIIIIIIIIIIIIIIIIIIIIIIIIIIIIIIIIIIIIIIIIIIIIIIIIIIIIIIIIIIZZIIIIIIIIIIIIIIIIIIIIIII', 'IIIIIIIIIIIIIIIIIIIIIIIIIIIIIIIIIIIIIIIIIIIIIIIIIIIIIIIIIIIIIIIIIIIIIIIIIIZZIIIIIIIIIIIIIIIIIIIIIIII', 'IIIIIIIIIIIIIIIIIIIIIIIIIIIIIIIIIIIIIIIIIIIIIIIIIIIIIIIIIIIIIIIIIIIIIIIIIZIIIIIIIIIZIIIIIIIIIIIIIIII', 'IIIIIIIIIIIIIIIIIIIIIIIIIIIIIIIIIIIIIIIIIIIIIIIIIIIIIIIIIIIIIIIIIIIIIIIIIZZIIIIIIIIIIIIIIIIIIIIIIIII', 'IIIIIIIIIIIIIIIIIIIIIIIIIIIIIIIIIIIIIIIIIIIIIIIIIIIIIIIIIIIIIIIIIIIIIIIIZZIIIIIIIIIIIIIIIIIIIIIIIIII', 'IIIIIIIIIIIIIIIIIIIIIIIIIIIIIIIIIIIIIIIIIIIIIIIIIIIIIIIIIIIIIIIIIIIIIIIZZIIIIIIIIIIIIIIIIIIIIIIIIIII', 'IIIIIIIIIIIIIIIIIIIIIIIIIIIIIIIIIIIIIIIIIIIIIIIIIIIIIIIIIIIIIIIIIIIIIIZZIIIIIIIIIIIIIIIIIIIIIIIIIIII', 'IIIIIIIIIIIIIIIIIIIIIIIIIIIIIIIIIIIIIIIIIIIIIIIIIIIIIIIIIIIIIIIIIIIIIZZIIIIIIIIIIIIIIIIIIIIIIIIIIIII', 'IIIIIIIIIIIIIIIIIIIIIIIIIIIIIIIIIIIIIIIIIIIIIIIIIIIIIIIIIIIIIIIIIIIIZZIIIIIIIIIIIIIIIIIIIIIIIIIIIIII', 'IIIIIIIIIIIIIIIIIIIIIIIIIIIIIIIIIIIIIIIIIIIIIIIIIIIIIIIIIIIIIIIIIIIZZIIIIIIIIIIIIIIIIIIIIIIIIIIIIIII', 'IIIIIIIIIIIIIIIIIIIIIIIIIIIIIIIIIIIIIIIIIIIIIIIIIIIIIIIIIIIIIIIIIIZIIIIIIIIIIIIZIIIIIIIIIIIIIIIIIIII', 'IIIIIIIIIIIIIIIIIIIIIIIIIIIIIIIIIIIIIIIIIIIIIIIIIIIIIIIIIIIIZIIIIIZIIIIIIIIIIIIIIIIIIIIIIIIIIIIIIIII', 'IIIIIIIIIIIIIIIIIIIIIIIIIIIIIIIIIIIIIIIIIIIIIIIIIIIIIIIIIIIIIIIIIZIIIIIIIIIZIIIIIIIIIIIIIIIIIIIIIIII', 'IIIIIIIIIIIIIIIIIIIIIIIIIIIIIIIIIIIIIIIIIIIIIIIIIIIIIIIIIIIIIIIIZIIIIIIZIIIIIIIIIIIIIIIIIIIIIIIIIIII', 'IIIIIIIIIIIIIIIIIIIIIIIIIIIIIIIIIIIIIIIIIIIIIIIIIIIIZIIIIIIIIIIIZIIIIIIIIIIIIIIIIIIIIIIIIIIIIIIIIIII', 'IIIIIIIIIIIIIIIIIIIIIIIIIIIIIIIIIIIIIIIIIIIIIIIIIIIIIIIIIIIIIIIZIIIZIIIIIIIIIIIIIIIIIIIIIIIIIIIIIIII', 'IIIIIIIIIIIIIIIIIIIIIIIIIIIIIIIIIIIIIIIIIIIIIIIIZIIIIIIIIIIIIIIZIIIIIIIIIIIIIIIIIIIIIIIIIIIIIIIIIIII', 'IIIIIIIIIIIIIIIIIIIIIIIIIIIIIIIIIIIIIIIIIIIIIIIIIIIIIIIIIIIIIZZIIIIIIIIIIIIIIIIIIIIIIIIIIIIIIIIIIIII', 'IIIIIIIIIIIIIIIIIIIIIIIIIIIIIIIIIIIIIIIIIIIIIIIZIIIIIIIIIIIIIIZIIIIIIIIIIIIIIIIIIIIIIIIIIIIIIIIIIIII', 'IIIIIIIIIIIIIIIIIIIIIIIIIIIIIIIIIIIIIIIIIIIIIIIIIIIIIIIIIIIIZZIIIIIIIIIIIIIIIIIIIIIIIIIIIIIIIIIIIIII', 'IIIIIIIIIIIIIIIIIIIIIIIIIIIIIIIIIIIIIIIIIIIIIIIIIIIIIIIIIIIZZIIIIIIIIIIIIIIIIIIIIIIIIIIIIIIIIIIIIIII', 'IIIIIIIIIIIIIIIIIIIIIIIIIIIIIIIIIIIIIIIIIIIIIIIIIIIIIIIIIIZZIIIIIIIIIIIIIIIIIIIIIIIIIIIIIIIIIIIIIIII', 'IIIIIIIIIIIIIIIIIIIIIIIIIIIIIIIIIIIIIIIIIIIIIIIIIIIIIIIIIZZIIIIIIIIIIIIIIIIIIIIIIIIIIIIIIIIIIIIIIIII', 'IIIIIIIIIIIIIIIIIIIIIIIIIIIIIIIIIIIIIIIIIIIIIIIIIIIIIIIIZZIIIIIIIIIIIIIIIIIIIIIIIIIIIIIIIIIIIIIIIIII', 'IIIIIIIIIIIIIIIIIIIIIIIIIIIIIIIIIIIIIIIIIIIIIIIIIIIIIIIIZIIIIIIIIZIIIIIIIIIIIIIIIIIIIIIIIIIIIIIIIIII', 'IIIIIIIIIIIIIIIIIIIIIIIIIIIIIIIIIIIIIIIIIIIIIIIIIIIIIIIZZIIIIIIIIIIIIIIIIIIIIIIIIIIIIIIIIIIIIIIIIIII', 'IIIIIIIIIIIIIIIIIIIIIIIIIIIIIIIIIIIIIIIIIIIIIIIIIIIIIIZZIIIIIIIIIIIIIIIIIIIIIIIIIIIIIIIIIIIIIIIIIIII', 'IIIIIIIIIIIIIIIIIIIIIIIIIIIIIIIIIIIIIIIIIIIIIIIIIIIIIZZIIIIIIIIIIIIIIIIIIIIIIIIIIIIIIIIIIIIIIIIIIIII', 'IIIIIIIIIIIIIIIIIIIIIIIIIIIIIIIIIIIIIIIIIIIIIIIIIIIIZZIIIIIIIIIIIIIIIIIIIIIIIIIIIIIIIIIIIIIIIIIIIIII', 'IIIIIIIIIIIIIIIIIIIIIIIIIIIIIIIIIIIIIIIIIIIIIIIIIIIZZIIIIIIIIIIIIIIIIIIIIIIIIIIIIIIIIIIIIIIIIIIIIIII', 'IIIIIIIIIIIIIIIIIIIIIIIIIIIIIIIIIIIIIIIIIIIIIIIIIIZZIIIIIIIIIIIIIIIIIIIIIIIIIIIIIIIIIIIIIIIIIIIIIIII', 'IIIIIIIIIIIIIIIIIIIIIIIIIIIIIIIIIIIIIIIIIIIIIIIIIZZIIIIIIIIIIIIIIIIIIIIIIIIIIIIIIIIIIIIIIIIIIIIIIIII', 'IIIIIIIIIIIIIIIIIIIIIIIIIIIIIIIIIIIIIIIIIIIIIIIIZZIIIIIIIIIIIIIIIIIIIIIIIIIIIIIIIIIIIIIIIIIIIIIIIIII', 'IIIIIIIIIIIIIIIIIIIIIIIIIIIIIIIIIIIIIIIIIIIIIIZIIIIIIIIIIIZIIIIIIIIIIIIIIIIIIIIIIIIIIIIIIIIIIIIIIIII', 'IIIIIIIIIIIIIIIIIIIIIIIIIIIIIIIIIIIIIIIZIIIIIIZIIIIIIIIIIIIIIIIIIIIIIIIIIIIIIIIIIIIIIIIIIIIIIIIIIIII', 'IIIIIIIIIIIIIIIIIIIIIIIIIIIIIIIIIIIIIIIIIIIIIZIIIIIIIIZIIIIIIIIIIIIIIIIIIIIIIIIIIIIIIIIIIIIIIIIIIIII', 'IIIIIIIIIIIIIIIIIIIIIIIIIIIIIIIIIIIZIIIIIIIIIZIIIIIIIIIIIIIIIIIIIIIIIIIIIIIIIIIIIIIIIIIIIIIIIIIIIIII', 'IIIIIIIIIIIIIIIIIIIIIIIIIIIIIIIIIIIIIIIIIIIIZIIIIIZIIIIIIIIIIIIIIIIIIIIIIIIIIIIIIIIIIIIIIIIIIIIIIIII', 'IIIIIIIIIIIIIIIIIIIIIIIIIIIIIIIIIIIIIIIIIIIZIIIZIIIIIIIIIIIIIIIIIIIIIIIIIIIIIIIIIIIIIIIIIIIIIIIIIIII', 'IIIIIIIIIIIIIIIIIIIIIIIIIIIIIIIIIIIIIIIIIIZZIIIIIIIIIIIIIIIIIIIIIIIIIIIIIIIIIIIIIIIIIIIIIIIIIIIIIIII', 'IIIIIIIIIIIIIIIIIIIIIIIIIIIIIIIIIIIIIIIIIZZIIIIIIIIIIIIIIIIIIIIIIIIIIIIIIIIIIIIIIIIIIIIIIIIIIIIIIIII', 'IIIIIIIIIIIIIIIIIIIIIIIIIIIIIIIIIIIIIIIIZZIIIIIIIIIIIIIIIIIIIIIIIIIIIIIIIIIIIIIIIIIIIIIIIIIIIIIIIIII', 'IIIIIIIIIIIIIIIIIIIIIIIIIIIIZIIIIIIIIIIIIZIIIIIIIIIIIIIIIIIIIIIIIIIIIIIIIIIIIIIIIIIIIIIIIIIIIIIIIIII', 'IIIIIIIIIIIIIIIIIIIIIIIIIIIIIIIIIIIIIIIZZIIIIIIIIIIIIIIIIIIIIIIIIIIIIIIIIIIIIIIIIIIIIIIIIIIIIIIIIIII', 'IIIIIIIIIIIIIIIIIIIIIIIIIIIIIIIIIIIIIIZZIIIIIIIIIIIIIIIIIIIIIIIIIIIIIIIIIIIIIIIIIIIIIIIIIIIIIIIIIIII', 'IIIIIIIIIIIIIIIIIIIIIIIIIIIIIIIIIIIIIZZIIIIIIIIIIIIIIIIIIIIIIIIIIIIIIIIIIIIIIIIIIIIIIIIIIIIIIIIIIIII', 'IIIIIIIIIIIIIIIIIIIIIIIIIIIIIIIIIIIIZZIIIIIIIIIIIIIIIIIIIIIIIIIIIIIIIIIIIIIIIIIIIIIIIIIIIIIIIIIIIIII', 'IIIIIIIIIIIIIIIIIIIIIIIIIIIIIIIIIIIZZIIIIIIIIIIIIIIIIIIIIIIIIIIIIIIIIIIIIIIIIIIIIIIIIIIIIIIIIIIIIIII', 'IIIIIIIIIIIIIIIIIIIIIIIIIIIIIIIIIIZZIIIIIIIIIIIIIIIIIIIIIIIIIIIIIIIIIIIIIIIIIIIIIIIIIIIIIIIIIIIIIIII', 'IIIIIIIIIIIIIIIIIIIIIIIIIIIIIIIIIZZIIIIIIIIIIIIIIIIIIIIIIIIIIIIIIIIIIIIIIIIIIIIIIIIIIIIIIIIIIIIIIIII', 'IIIIIIIIIIIIIIIIIIIIIIIIIIIIIIIIZZIIIIIIIIIIIIIIIIIIIIIIIIIIIIIIIIIIIIIIIIIIIIIIIIIIIIIIIIIIIIIIIIII', 'IIIIIIIIIIIIIIIIIIIIIIIIIIIIIIIZZIIIIIIIIIIIIIIIIIIIIIIIIIIIIIIIIIIIIIIIIIIIIIIIIIIIIIIIIIIIIIIIIIII', 'IIIIIIIIIIIIIIIIIIIIIIIIIIIIIIIZIIIIIIIIIIIIZIIIIIIIIIIIIIIIIIIIIIIIIIIIIIIIIIIIIIIIIIIIIIIIIIIIIIII', 'IIIIIIIIIIIIIIIIIIIIIIIIIIIIIIZZIIIIIIIIIIIIIIIIIIIIIIIIIIIIIIIIIIIIIIIIIIIIIIIIIIIIIIIIIIIIIIIIIIII', 'IIIIIIIIIIIIIIIIIIIIIIIIIIIIIZZIIIIIIIIIIIIIIIIIIIIIIIIIIIIIIIIIIIIIIIIIIIIIIIIIIIIIIIIIIIIIIIIIIIII', 'IIIIIIIIIIIIIIIIIIIIIIIIIZIIIZIIIIIIIIIIIIIIIIIIIIIIIIIIIIIIIIIIIIIIIIIIIIIIIIIIIIIIIIIIIIIIIIIIIIII', 'IIIIIIIIIIIIIIIIIIIIIIIIIIIZIIIIIIIIIZIIIIIIIIIIIIIIIIIIIIIIIIIIIIIIIIIIIIIIIIIIIIIIIIIIIIIIIIIIIIII', 'IIIIIIIIIIIIIIIIIIZIIIIIIIIZIIIIIIIIIIIIIIIIIIIIIIIIIIIIIIIIIIIIIIIIIIIIIIIIIIIIIIIIIIIIIIIIIIIIIIII', 'IIIIIIIIIIIIIIIIIIIIIIIIIIZIIIIIIZIIIIIIIIIIIIIIIIIIIIIIIIIIIIIIIIIIIIIIIIIIIIIIIIIIIIIIIIIIIIIIIIII', 'IIIIIIIIIIIIIIZIIIIIIIIIIIZIIIIIIIIIIIIIIIIIIIIIIIIIIIIIIIIIIIIIIIIIIIIIIIIIIIIIIIIIIIIIIIIIIIIIIIII', 'IIIIIIIIIIIIIIIIIIIIIIIZZIIIIIIIIIIIIIIIIIIIIIIIIIIIIIIIIIIIIIIIIIIIIIIIIIIIIIIIIIIIIIIIIIIIIIIIIIII', 'IIIIIIIIIZIIIIIIIIIIIIIIZIIIIIIIIIIIIIIIIIIIIIIIIIIIIIIIIIIIIIIIIIIIIIIIIIIIIIIIIIIIIIIIIIIIIIIIIIII', 'IIIIIIIIIIIIIIIIIIIIIIZZIIIIIIIIIIIIIIIIIIIIIIIIIIIIIIIIIIIIIIIIIIIIIIIIIIIIIIIIIIIIIIIIIIIIIIIIIIII', 'IIIIIIIIIIIIIIIIIIIIIIZIIIIIZIIIIIIIIIIIIIIIIIIIIIIIIIIIIIIIIIIIIIIIIIIIIIIIIIIIIIIIIIIIIIIIIIIIIIII', 'IIIIIIIIIIIIIIIIIIIIIZZIIIIIIIIIIIIIIIIIIIIIIIIIIIIIIIIIIIIIIIIIIIIIIIIIIIIIIIIIIIIIIIIIIIIIIIIIIIII', 'IIIIIIIIIIIIIIIIIIIIZZIIIIIIIIIIIIIIIIIIIIIIIIIIIIIIIIIIIIIIIIIIIIIIIIIIIIIIIIIIIIIIIIIIIIIIIIIIIIII', 'IIIIIIIIIIIIIIIIIIIZZIIIIIIIIIIIIIIIIIIIIIIIIIIIIIIIIIIIIIIIIIIIIIIIIIIIIIIIIIIIIIIIIIIIIIIIIIIIIIII', 'IIIIIIIIIIIIIIIIIIZZIIIIIIIIIIIIIIIIIIIIIIIIIIIIIIIIIIIIIIIIIIIIIIIIIIIIIIIIIIIIIIIIIIIIIIIIIIIIIIII', 'IIIIIIIIIIIIIIIIIZZIIIIIIIIIIIIIIIIIIIIIIIIIIIIIIIIIIIIIIIIIIIIIIIIIIIIIIIIIIIIIIIIIIIIIIIIIIIIIIIII', 'IIIIIIIIIIIIIIIIZZIIIIIIIIIIIIIIIIIIIIIIIIIIIIIIIIIIIIIIIIIIIIIIIIIIIIIIIIIIIIIIIIIIIIIIIIIIIIIIIIII', 'IIIIIIIIIIIIIIIZZIIIIIIIIIIIIIIIIIIIIIIIIIIIIIIIIIIIIIIIIIIIIIIIIIIIIIIIIIIIIIIIIIIIIIIIIIIIIIIIIIII', 'IIIIIIIIIIIIIIZZIIIIIIIIIIIIIIIIIIIIIIIIIIIIIIIIIIIIIIIIIIIIIIIIIIIIIIIIIIIIIIIIIIIIIIIIIIIIIIIIIIII', 'IIIIIIIIIIIIIZZIIIIIIIIIIIIIIIIIIIIIIIIIIIIIIIIIIIIIIIIIIIIIIIIIIIIIIIIIIIIIIIIIIIIIIIIIIIIIIIIIIIII', 'IIIIIIIIIIIIZZIIIIIIIIIIIIIIIIIIIIIIIIIIIIIIIIIIIIIIIIIIIIIIIIIIIIIIIIIIIIIIIIIIIIIIIIIIIIIIIIIIIIII', 'IIIIIIZIIIIIZIIIIIIIIIIIIIIIIIIIIIIIIIIIIIIIIIIIIIIIIIIIIIIIIIIIIIIIIIIIIIIIIIIIIIIIIIIIIIIIIIIIIIII', 'IIIIIIIIIIIZZIIIIIIIIIIIIIIIIIIIIIIIIIIIIIIIIIIIIIIIIIIIIIIIIIIIIIIIIIIIIIIIIIIIIIIIIIIIIIIIIIIIIIII', 'IIIIIIIIIIZZIIIIIIIIIIIIIIIIIIIIIIIIIIIIIIIIIIIIIIIIIIIIIIIIIIIIIIIIIIIIIIIIIIIIIIIIIIIIIIIIIIIIIIII', 'IIIIIIIIIIZIIIIIIIIIIIIIIZIIIIIIIIIIIIIIIIIIIIIIIIIIIIIIIIIIIIIIIIIIIIIIIIIIIIIIIIIIIIIIIIIIIIIIIIII', 'IIIIIIIIZIIIIIIIIIIIZIIIIIIIIIIIIIIIIIIIIIIIIIIIIIIIIIIIIIIIIIIIIIIIIIIIIIIIIIIIIIIIIIIIIIIIIIIIIIII', 'IZIIIIIIZIIIIIIIIIIIIIIIIIIIIIIIIIIIIIIIIIIIIIIIIIIIIIIIIIIIIIIIIIIIIIIIIIIIIIIIIIIIIIIIIIIIIIIIIIII', 'IIIIIIIZIIIIIIIIZIIIIIIIIIIIIIIIIIIIIIIIIIIIIIIIIIIIIIIIIIIIIIIIIIIIIIIIIIIIIIIIIIIIIIIIIIIIIIIIIIII', 'IIIIIZIIIZIIIIIIIIIIIIIIIIIIIIIIIIIIIIIIIIIIIIIIIIIIIIIIIIIIIIIIIIIIIIIIIIIIIIIIIIIIIIIIIIIIIIIIIIII', 'IIIIZZIIIIIIIIIIIIIIIIIIIIIIIIIIIIIIIIIIIIIIIIIIIIIIIIIIIIIIIIIIIIIIIIIIIIIIIIIIIIIIIIIIIIIIIIIIIIII', 'IIIZZIIIIIIIIIIIIIIIIIIIIIIIIIIIIIIIIIIIIIIIIIIIIIIIIIIIIIIIIIIIIIIIIIIIIIIIIIIIIIIIIIIIIIIIIIIIIIII', 'IIZZIIIIIIIIIIIIIIIIIIIIIIIIIIIIIIIIIIIIIIIIIIIIIIIIIIIIIIIIIIIIIIIIIIIIIIIIIIIIIIIIIIIIIIIIIIIIIIII', 'IZZIIIIIIIIIIIIIIIIIIIIIIIIIIIIIIIIIIIIIIIIIIIIIIIIIIIIIIIIIIIIIIIIIIIIIIIIIIIIIIIIIIIIIIIIIIIIIIIII', 'ZZIIIIIIIIIIIIIIIIIIIIIIIIIIIIIIIIIIIIIIIIIIIIIIIIIIIIIIIIIIIIIIIIIIIIIIIIIIIIIIIIIIIIIIIIIIIIIIIIII'],\n",
      "              coeffs=[1.+0.j, 1.+0.j, 1.+0.j, 1.+0.j, 1.+0.j, 1.+0.j, 1.+0.j, 1.+0.j, 1.+0.j,\n",
      " 1.+0.j, 1.+0.j, 1.+0.j, 1.+0.j, 1.+0.j, 1.+0.j, 1.+0.j, 1.+0.j, 1.+0.j,\n",
      " 1.+0.j, 1.+0.j, 1.+0.j, 1.+0.j, 1.+0.j, 1.+0.j, 1.+0.j, 1.+0.j, 1.+0.j,\n",
      " 1.+0.j, 1.+0.j, 1.+0.j, 1.+0.j, 1.+0.j, 1.+0.j, 1.+0.j, 1.+0.j, 1.+0.j,\n",
      " 1.+0.j, 1.+0.j, 1.+0.j, 1.+0.j, 1.+0.j, 1.+0.j, 1.+0.j, 1.+0.j, 1.+0.j,\n",
      " 1.+0.j, 1.+0.j, 1.+0.j, 1.+0.j, 1.+0.j, 1.+0.j, 1.+0.j, 1.+0.j, 1.+0.j,\n",
      " 1.+0.j, 1.+0.j, 1.+0.j, 1.+0.j, 1.+0.j, 1.+0.j, 1.+0.j, 1.+0.j, 1.+0.j,\n",
      " 1.+0.j, 1.+0.j, 1.+0.j, 1.+0.j, 1.+0.j, 1.+0.j, 1.+0.j, 1.+0.j, 1.+0.j,\n",
      " 1.+0.j, 1.+0.j, 1.+0.j, 1.+0.j, 1.+0.j, 1.+0.j, 1.+0.j, 1.+0.j, 1.+0.j,\n",
      " 1.+0.j, 1.+0.j, 1.+0.j, 1.+0.j, 1.+0.j, 1.+0.j, 1.+0.j, 1.+0.j, 1.+0.j,\n",
      " 1.+0.j, 1.+0.j, 1.+0.j, 1.+0.j, 1.+0.j, 1.+0.j, 1.+0.j, 1.+0.j, 1.+0.j,\n",
      " 1.+0.j, 1.+0.j, 1.+0.j, 1.+0.j, 1.+0.j, 1.+0.j, 1.+0.j, 1.+0.j, 1.+0.j,\n",
      " 1.+0.j, 1.+0.j, 1.+0.j, 1.+0.j])\n"
     ]
    }
   ],
   "source": [
    "remapped_max_cut_paulis = build_max_cut_paulis(remapped_graph)\n",
    "# define a qiskit SparsePauliOp from the list of paulis\n",
    "remapped_cost_operator = SparsePauliOp.from_list(remapped_max_cut_paulis)\n",
    "print(remapped_cost_operator)"
   ]
  },
  {
   "cell_type": "markdown",
   "id": "5ae531be-80eb-4acd-b84a-7d466fd872e7",
   "metadata": {},
   "source": [
    "#### Build a QAOA circuit with the SWAP strategy and the SAT mapping\n",
    "We only want to apply the SWAP strategies to the cost operator layer, so we start by creating the isolated block that we will later transform and append to the final QAOA circuit.\n",
    "\n",
    "For this, we can use the [`QAOAAnsatz`](/docs/api/qiskit/qiskit.circuit.library.QAOAAnsatz) class from Qiskit. We input an empty circuit to the `initial_state` and `mixer_operator` fields to make sure we are building an isolated cost operator layer.\n",
    "We also define the edge_coloring map so that RZZ gates are positioned next to SWAP gates. This strategic placement allows us to exploit CX cancellations, optimizing the circuit for better performance.\n",
    "This process is executed within the `create_qaoa_swap_circuit` function."
   ]
  },
  {
   "cell_type": "code",
   "execution_count": null,
   "id": "57d5eb53-9cda-4c38-a00b-26ed4b533bcd",
   "metadata": {},
   "outputs": [],
   "source": [
    "def make_meas_map(circuit: QuantumCircuit) -> dict:\n",
    "    \"\"\"Return a mapping from qubit index (the key) to classical bit (the value).\n",
    "\n",
    "    This allows us to account for the swapping order introduced by the SWAP strategy.\n",
    "    \"\"\"\n",
    "    creg = circuit.cregs[0]\n",
    "    qreg = circuit.qregs[0]\n",
    "\n",
    "    meas_map = {}\n",
    "    for inst in circuit.data:\n",
    "        if inst.operation.name == \"measure\":\n",
    "            meas_map[qreg.index(inst.qubits[0])] = creg.index(inst.clbits[0])\n",
    "\n",
    "    return meas_map\n",
    "\n",
    "\n",
    "def apply_swap_strategy(\n",
    "    circuit: QuantumCircuit,\n",
    "    swap_strategy: SwapStrategy,\n",
    "    edge_coloring: dict[tuple[int, int], int] | None = None,\n",
    ") -> QuantumCircuit:\n",
    "    \"\"\"Transpile with a SWAP strategy.\n",
    "\n",
    "    Returns:\n",
    "        A quantum circuit transpiled with the given swap strategy.\n",
    "    \"\"\"\n",
    "\n",
    "    pm_pre = PassManager(\n",
    "        [\n",
    "            FindCommutingPauliEvolutions(),\n",
    "            Commuting2qGateRouter(\n",
    "                swap_strategy,\n",
    "                edge_coloring,\n",
    "            ),\n",
    "        ]\n",
    "    )\n",
    "    return pm_pre.run(circuit)\n",
    "\n",
    "\n",
    "def apply_qaoa_layers(\n",
    "    cost_layer: QuantumCircuit,\n",
    "    meas_map: dict,\n",
    "    num_layers: int,\n",
    "    gamma: list[float] | ParameterVector = None,\n",
    "    beta: list[float] | ParameterVector = None,\n",
    "    initial_state: QuantumCircuit = None,\n",
    "    mixer: QuantumCircuit = None,\n",
    "):\n",
    "    \"\"\"Applies QAOA layers to construct circuit.\n",
    "\n",
    "    First, the initial state is applied. If `initial_state` is None, we begin in the\n",
    "    initial superposition state. Next, we alternate between layers of the cost operator\n",
    "    and the mixer. The cost operator is alternatively applied in order and in reverse\n",
    "    instruction order. This allows us to apply the swap strategy on odd `p` layers\n",
    "    and undo the swap strategy on even `p` layers.\n",
    "    \"\"\"\n",
    "\n",
    "    num_qubits = cost_layer.num_qubits\n",
    "    new_circuit = QuantumCircuit(num_qubits, num_qubits)\n",
    "\n",
    "    if initial_state is not None:\n",
    "        new_circuit.append(initial_state, range(num_qubits))\n",
    "    else:\n",
    "        # all h state by default\n",
    "        new_circuit.h(range(num_qubits))\n",
    "\n",
    "    if gamma is None or beta is None:\n",
    "        gamma = ParameterVector(\"γ'\", num_layers)\n",
    "        if mixer is None or mixer.num_parameters == 0:\n",
    "            beta = ParameterVector(\"β'\", num_layers)\n",
    "        else:\n",
    "            beta = ParameterVector(\"β'\", num_layers * mixer.num_parameters)\n",
    "\n",
    "    if mixer is not None:\n",
    "        mixer_layer = mixer\n",
    "    else:\n",
    "        mixer_layer = QuantumCircuit(num_qubits)\n",
    "        mixer_layer.rx(-2 * beta[0], range(num_qubits))\n",
    "\n",
    "    for layer in range(num_layers):\n",
    "        bind_dict = {cost_layer.parameters[0]: gamma[layer]}\n",
    "        cost_layer_ = cost_layer.assign_parameters(bind_dict)\n",
    "        bind_dict = {\n",
    "            mixer_layer.parameters[i]: beta[layer + i]\n",
    "            for i in range(mixer_layer.num_parameters)\n",
    "        }\n",
    "        layer_mixer = mixer_layer.assign_parameters(bind_dict)\n",
    "\n",
    "        if layer % 2 == 0:\n",
    "            new_circuit.append(cost_layer_, range(num_qubits))\n",
    "        else:\n",
    "            new_circuit.append(cost_layer_.reverse_ops(), range(num_qubits))\n",
    "\n",
    "        new_circuit.append(layer_mixer, range(num_qubits))\n",
    "\n",
    "    for qidx, cidx in meas_map.items():\n",
    "        new_circuit.measure(qidx, cidx)\n",
    "\n",
    "    return new_circuit\n",
    "\n",
    "\n",
    "def create_qaoa_swap_circuit(\n",
    "    cost_operator: SparsePauliOp,\n",
    "    swap_strategy: SwapStrategy,\n",
    "    edge_coloring: dict = None,\n",
    "    theta: list[float] = None,\n",
    "    qaoa_layers: int = 1,\n",
    "    initial_state: QuantumCircuit = None,\n",
    "    mixer: QuantumCircuit = None,\n",
    "):\n",
    "    \"\"\"Create the circuit for QAOA.\n",
    "\n",
    "    Notes: This circuit construction for QAOA works for quadratic terms in `Z` and will be\n",
    "    extended to first-order terms in `Z`. Higher-orders are not supported.\n",
    "\n",
    "    Args:\n",
    "        cost_operator: the cost operator.\n",
    "        swap_strategy: selected swap strategy\n",
    "        edge_coloring: A coloring of edges that should correspond to the coupling\n",
    "            map of the hardware. It defines the order in which we apply the Rzz\n",
    "            gates. This allows us to choose an ordering such that `Rzz` gates will\n",
    "            immediately precede SWAP gates to leverage CNOT cancellation.\n",
    "        theta: The QAOA angles.\n",
    "        qaoa_layers: The number of layers of the cost operator and the mixer operator.\n",
    "        initial_state: The initial state on which we apply layers of cost operator\n",
    "            and mixer.\n",
    "        mixer: The QAOA mixer. It will be applied as is onto the QAOA circuit. Therefore,\n",
    "            its output must have the same ordering of qubits as its input.\n",
    "    \"\"\"\n",
    "\n",
    "    num_qubits = cost_operator.num_qubits\n",
    "\n",
    "    if theta is not None:\n",
    "        gamma = theta[: len(theta) // 2]\n",
    "        beta = theta[len(theta) // 2 :]\n",
    "        qaoa_layers = len(theta) // 2\n",
    "    else:\n",
    "        gamma = beta = None\n",
    "\n",
    "    # First, create the ansatz of 1 layer of QAOA without mixer\n",
    "    cost_layer = QAOAAnsatz(\n",
    "        cost_operator,\n",
    "        reps=1,\n",
    "        initial_state=QuantumCircuit(num_qubits),\n",
    "        mixer_operator=QuantumCircuit(num_qubits),\n",
    "    ).decompose()\n",
    "\n",
    "    # This will allow us to recover the permutation of the measurements that the swap introduce.\n",
    "    cost_layer.measure_all()\n",
    "\n",
    "    # Now, apply the swap strategy for commuting Pauli evolution gates\n",
    "    cost_layer = apply_swap_strategy(cost_layer, swap_strategy, edge_coloring)\n",
    "\n",
    "    # Compute the measurement map (qubit to classical bit).\n",
    "    # We will apply this for qaoa_layers % 2 == 1.\n",
    "    if qaoa_layers % 2 == 1:\n",
    "        meas_map = make_meas_map(cost_layer)\n",
    "    else:\n",
    "        meas_map = {idx: idx for idx in range(num_qubits)}\n",
    "\n",
    "    cost_layer.remove_final_measurements()\n",
    "\n",
    "    # Finally, introduce the mixer circuit and add measurements following measurement map\n",
    "    circuit = apply_qaoa_layers(\n",
    "        cost_layer, meas_map, qaoa_layers, gamma, beta, initial_state, mixer\n",
    "    )\n",
    "\n",
    "    return circuit"
   ]
  },
  {
   "cell_type": "code",
   "execution_count": 10,
   "id": "25db3ad8-0666-42f9-8569-544f89d99391",
   "metadata": {},
   "outputs": [
    {
     "data": {
      "text/plain": [
       "<Image src=\"/docs/images/tutorials/advanced-techniques-for-qaoa/extracted-outputs/25db3ad8-0666-42f9-8569-544f89d99391-0.avif\" alt=\"Output of the previous code cell\" />"
      ]
     },
     "metadata": {},
     "output_type": "display_data"
    }
   ],
   "source": [
    "draw_graph(remapped_graph, node_size=200, with_labels=True, width=1)"
   ]
  },
  {
   "cell_type": "code",
   "execution_count": null,
   "id": "7793ef92-ce59-4fd7-b43f-48d4e3427e3a",
   "metadata": {},
   "outputs": [],
   "source": [
    "# We can define the edge_coloring map so that RZZ gates are positioned next to SWAP gates to exploit CX cancellations\n",
    "# We use greedy edge coloring to color the edges of the graph in the rustworkx. This coloring is used to order the RZZ gates in the circuit.\n",
    "\n",
    "edge_coloring_idx = rx.graph_greedy_edge_color(graph_100)\n",
    "edge_coloring = {\n",
    "    edge: edge_coloring_idx[idx]\n",
    "    for idx, edge in enumerate(list(graph_100.edge_list()))\n",
    "}\n",
    "edge_coloring = {tuple(sorted(k)): v for k, v in edge_coloring.items()}"
   ]
  },
  {
   "cell_type": "code",
   "execution_count": 12,
   "id": "82ae28b3-85eb-4487-8100-1e622e93cccf",
   "metadata": {},
   "outputs": [
    {
     "data": {
      "text/plain": [
       "<Image src=\"/docs/images/tutorials/advanced-techniques-for-qaoa/extracted-outputs/82ae28b3-85eb-4487-8100-1e622e93cccf-0.avif\" alt=\"Output of the previous code cell\" />"
      ]
     },
     "execution_count": 12,
     "metadata": {},
     "output_type": "execute_result"
    }
   ],
   "source": [
    "qaoa_circ = create_qaoa_swap_circuit(\n",
    "    remapped_cost_operator,\n",
    "    swap_strategy,\n",
    "    edge_coloring=edge_coloring,\n",
    "    qaoa_layers=1,\n",
    ")\n",
    "qaoa_circ.draw(output=\"mpl\", fold=False)"
   ]
  },
  {
   "cell_type": "markdown",
   "id": "e2afd1a7-0980-433b-a3a8-303d7e7718b1",
   "metadata": {},
   "source": [
    "## Step 3: Execute using Qiskit primitives\n",
    "### Define a CVaR cost function\n",
    "This example shows how to use the Conditional Value at Risk (CVaR) cost function introduced in [\\[3\\]](#references) within the variational quantum optimization algorithms.\n",
    "\n",
    "The CVaR of a random variable $X$ for a confidence level $α ∈ (0, 1]$ is defined as\n",
    "$$ CVaR_{\\alpha}(X) = \\mathbb{E} \\lbrack X | X \\leq F_X^{-1}(\\alpha) \\rbrack $$\n",
    "where $F_X^{-1}(p)$ is the inverse cumulative distribution function of $X$. In other words, CVaR is the expected value of the lower $\\alpha$-tail of the distribution of $X$."
   ]
  },
  {
   "cell_type": "code",
   "execution_count": null,
   "id": "5e4745d4-df78-4ec6-b390-549ee91bba20",
   "metadata": {},
   "outputs": [],
   "source": [
    "pass_manager = generate_preset_pass_manager(\n",
    "    backend=backend,\n",
    "    optimization_level=3,\n",
    ")\n",
    "\n",
    "transpiled_qaoa_circ = pass_manager.run(qaoa_circ)"
   ]
  },
  {
   "cell_type": "code",
   "execution_count": 14,
   "id": "e6794cf3-7fbe-46a5-bdc0-5faad1235365",
   "metadata": {},
   "outputs": [],
   "source": [
    "# Utility functions for the evaluation of the expectation value of a measured state\n",
    "# In this code, for optimization, the measured state is converted into a bit string,\n",
    "# and the sign of the value is determined by taking the exclusive OR of the bits\n",
    "# corresponding to Pauli Z.\n",
    "\n",
    "_PARITY = np.array(\n",
    "    [-1 if bin(i).count(\"1\") % 2 else 1 for i in range(256)],\n",
    "    dtype=np.complex128,\n",
    ")\n",
    "\n",
    "\n",
    "def evaluate_sparse_pauli(state: int, observable: SparsePauliOp) -> complex:\n",
    "    \"\"\"Utility for the evaluation of the expectation value of a measured state.\n",
    "\n",
    "    Args:\n",
    "        state (int): The measured state.\n",
    "        observable (SparsePauliOp): The observable to evaluate the expectation value for.\n",
    "\n",
    "    Returns:\n",
    "        complex: The expectation value of the measured state.\n",
    "    \"\"\"\n",
    "    packed_uint8 = np.packbits(observable.paulis.z, axis=1, bitorder=\"little\")\n",
    "    state_bytes = np.frombuffer(\n",
    "        state.to_bytes(packed_uint8.shape[1], \"little\"), dtype=np.uint8\n",
    "    )\n",
    "    reduced = np.bitwise_xor.reduce(packed_uint8 & state_bytes, axis=1)\n",
    "    return np.sum(observable.coeffs * _PARITY[reduced])"
   ]
  },
  {
   "cell_type": "code",
   "execution_count": null,
   "id": "c5e5f7a4-01f6-4a02-9114-3bb0e24be1a2",
   "metadata": {},
   "outputs": [],
   "source": [
    "def qaoa_sampler_cost_fun(\n",
    "    params, ansatz, hamiltonian, sampler, aggregation=None\n",
    "):\n",
    "    \"\"\"Standard sampler-based QAOA cost function to be plugged into optimizer routines.\n",
    "\n",
    "    Args:\n",
    "        params (np.ndarray): Parameters for the ansatz.\n",
    "        ansatz (QuantumCircuit): Ansatz circuit.\n",
    "        hamiltonian (SparsePauliOp): Hamiltonian to be minimized.\n",
    "        sampler (QAOASampler): Sampler to be used.\n",
    "        aggregation (Callable | float | None): Aggregation function to be applied to\n",
    "            the sampled results. If None, the sum of the expectation values is returned.\n",
    "            If float, the CVaR with the given alpha is used.\n",
    "    \"\"\"\n",
    "    # Run the circuit\n",
    "    job = sampler.run([(ansatz, params)])\n",
    "    sampler_result = job.result()\n",
    "    sampled_int_counts = sampler_result[0].data.c.get_int_counts()\n",
    "    shots = sum(sampled_int_counts.values())\n",
    "    int_count_distribution = {\n",
    "        key: val / shots for key, val in sampled_int_counts.items()\n",
    "    }\n",
    "\n",
    "    # a dictionary containing: {state: (measurement probability, value)}\n",
    "    evaluated = {\n",
    "        state: (\n",
    "            probability,\n",
    "            np.real(evaluate_sparse_pauli(state, hamiltonian)),\n",
    "        )\n",
    "        for state, probability in int_count_distribution.items()\n",
    "    }\n",
    "\n",
    "    # If aggregation is None, return the sum of the expectation values.\n",
    "    # If aggregation is a float, return the CVaR with the given alpha.\n",
    "    # Otherwise, use the aggregation function.\n",
    "    if aggregation is None:\n",
    "        result = sum(\n",
    "            probability * value for probability, value in evaluated.values()\n",
    "        )\n",
    "    elif isinstance(aggregation, float):\n",
    "        cvar_aggregation = _get_cvar_aggregation(aggregation)\n",
    "        result = cvar_aggregation(evaluated.values())\n",
    "    else:\n",
    "        result = aggregation(evaluated.values())\n",
    "\n",
    "    global iter_counts, result_dict\n",
    "    iter_counts += 1\n",
    "    temp_dict = {}\n",
    "    temp_dict[\"params\"] = params.tolist()\n",
    "    temp_dict[\"cvar_fval\"] = result\n",
    "    temp_dict[\"fval\"] = sum(\n",
    "        probability * value for probability, value in evaluated.values()\n",
    "    )\n",
    "    temp_dict[\"distribution\"] = sampled_int_counts\n",
    "    temp_dict[\"evaluated\"] = evaluated\n",
    "    result_dict[iter_counts] = temp_dict\n",
    "    print(f\"Iteration {iter_counts}: {result}\")\n",
    "\n",
    "    return result\n",
    "\n",
    "\n",
    "def _get_cvar_aggregation(alpha: float | None) -> Callable:\n",
    "    \"\"\"Return the CVaR aggregation function with the given alpha.\n",
    "\n",
    "    Args:\n",
    "        alpha (float | None): Alpha value for the CVaR aggregation. If None, 1 is used\n",
    "            by default.\n",
    "    Raises:\n",
    "        ValueError: If alpha is not in [0, 1].\n",
    "    \"\"\"\n",
    "    if alpha is None:\n",
    "        alpha = 1\n",
    "    elif not 0 <= alpha <= 1:\n",
    "        raise ValueError(f\"alpha must be in [0, 1], but {alpha} was given.\")\n",
    "\n",
    "    def cvar_aggregation(\n",
    "        objective_dict: Iterable[tuple[float, float]],\n",
    "    ) -> float:\n",
    "        \"\"\"Return the CVaR of the given measurements.\n",
    "        Args:\n",
    "            objective_dict (Iterable[tuple[float, float]]): An iterable of tuples containing\n",
    "                the measured bit string and the objective value based on the bit string.\n",
    "\n",
    "        \"\"\"\n",
    "        sorted_measurements = sorted(objective_dict, key=lambda x: x[1])\n",
    "        # accumulate the probabilities until alpha is reached\n",
    "        accumulated_percent = 0.0\n",
    "        cvar = 0.0\n",
    "        for probability, value in sorted_measurements:\n",
    "            cvar += value * min(probability, alpha - accumulated_percent)\n",
    "            accumulated_percent += probability\n",
    "            if accumulated_percent >= alpha:\n",
    "                break\n",
    "        return cvar / alpha\n",
    "\n",
    "    return cvar_aggregation"
   ]
  },
  {
   "cell_type": "markdown",
   "id": "63fa2ab4-5354-4022-ab46-e9bbf73870de",
   "metadata": {},
   "source": [
    "The CVaR can be used as an error mitigation technique as previously discussed [\\[4\\]](#references). In this example, we determine $\\alpha$ and the number of shots according to the circuit's error rate."
   ]
  },
  {
   "cell_type": "code",
   "execution_count": 16,
   "id": "032bf312-4bf4-40f4-81f0-2ae8a719b98b",
   "metadata": {},
   "outputs": [
    {
     "name": "stdout",
     "output_type": "stream",
     "text": [
      "layer fidelity 0.18178076404510374\n",
      "\n",
      "The corresponding CVaR aggregation value is:  0.06567448516285564\n",
      "To mitigate the twirled noise, increase shots by  15.226613463664926\n"
     ]
    }
   ],
   "source": [
    "num_2q_ops = transpiled_qaoa_circ.count_ops()[\"ecr\"]\n",
    "\n",
    "for el in backend.properties().general:\n",
    "    if el.name[:2] == \"lf\" and el.name[3:] == str(n):\n",
    "        lf = el.value  # layer fidelity\n",
    "        print(\"layer fidelity\", lf)\n",
    "        eplg = 1 - lf ** (1 / (n - 1))  # error per layered gate (EPLG)\n",
    "        fid_cx = 1 - eplg\n",
    "        gamma_cx = 1 / fid_cx**2\n",
    "        gamma_circ = gamma_cx * num_2q_ops\n",
    "\n",
    "cvar_aggregation = 1 / np.sqrt(gamma_circ)\n",
    "print(\"\")\n",
    "print(\"The corresponding CVaR aggregation value is: \", cvar_aggregation)\n",
    "print(\n",
    "    \"To mitigate the twirled noise, increase shots by \", np.sqrt(gamma_circ)\n",
    ")"
   ]
  },
  {
   "cell_type": "code",
   "execution_count": null,
   "id": "4e608d54-60ee-4a63-91f7-aace7c036694",
   "metadata": {},
   "outputs": [
    {
     "name": "stdout",
     "output_type": "stream",
     "text": [
      "Iteration 1: -20.770192185845673\n",
      "Iteration 2: -20.662187834467975\n",
      "Iteration 3: -20.530182516117474\n",
      "Iteration 4: -6.094164949444625\n",
      "Iteration 5: -31.42021837469251\n",
      "Iteration 6: -5.8402352967163145\n",
      "Iteration 7: -27.110205884627188\n",
      "Iteration 8: -24.666187995630317\n",
      "Iteration 9: -34.10016519118837\n",
      "Iteration 10: -32.97620048569601\n",
      "Iteration 11: -34.346175102659636\n",
      "Iteration 12: -32.58618477238797\n",
      "Iteration 13: -34.51018171030716\n",
      "Iteration 14: -34.72819049364342\n",
      "Iteration 15: -34.62218622284688\n",
      "Iteration 16: -35.13220677101896\n",
      "Iteration 17: -34.990201049763236\n",
      "Iteration 18: -34.732190654805564\n",
      "Iteration 19: -34.37817639195668\n",
      "Iteration 20: -34.85019540908861\n",
      " message: Optimization terminated successfully.\n",
      " success: True\n",
      "  status: 1\n",
      "     fun: -34.85019540908861\n",
      "       x: [ 2.739e+00  1.124e+00]\n",
      "    nfev: 20\n",
      "   maxcv: 0.0\n"
     ]
    }
   ],
   "source": [
    "iter_counts = 0\n",
    "result_dict = {}\n",
    "init_params = [np.pi, np.pi / 2]\n",
    "\n",
    "\n",
    "with Session(backend=backend) as session:\n",
    "    sampler = Sampler(mode=session)\n",
    "\n",
    "    shots = 1000\n",
    "    sampler.options.default_shots = int(shots * np.sqrt(gamma_circ))\n",
    "\n",
    "    # Set error mitigation options\n",
    "    sampler.options.dynamical_decoupling.enable = True\n",
    "    sampler.options.dynamical_decoupling.sequence_type = \"XY4\"\n",
    "    sampler.options.twirling.enable_gates = True\n",
    "    sampler.options.twirling.num_randomizations = \"auto\"\n",
    "    sampler.options.twirling.enable_measure = True\n",
    "\n",
    "    # Run optimization loop\n",
    "    result = minimize(\n",
    "        qaoa_sampler_cost_fun,\n",
    "        init_params,\n",
    "        args=(\n",
    "            transpiled_qaoa_circ,\n",
    "            remapped_cost_operator,\n",
    "            sampler,\n",
    "            cvar_aggregation,\n",
    "        ),\n",
    "        method=\"COBYLA\",\n",
    "        tol=1e-2,\n",
    "    )\n",
    "print(result)"
   ]
  },
  {
   "cell_type": "markdown",
   "id": "1d190fa4-3bbe-412a-b296-6dddd3ad2b12",
   "metadata": {},
   "source": [
    "## Step 4: Post-process and return result in desired classical format"
   ]
  },
  {
   "cell_type": "code",
   "execution_count": null,
   "id": "761821cb-9a0c-4efb-806b-75513302d34a",
   "metadata": {},
   "outputs": [
    {
     "data": {
      "text/plain": [
       "<Image src=\"/docs/images/tutorials/advanced-techniques-for-qaoa/extracted-outputs/761821cb-9a0c-4efb-806b-75513302d34a-0.avif\" alt=\"Output of the previous code cell\" />"
      ]
     },
     "metadata": {},
     "output_type": "display_data"
    }
   ],
   "source": [
    "plt.figure(figsize=(12, 6))\n",
    "plt.plot(\n",
    "    [result_dict[i][\"cvar_fval\"] for i in range(1, iter_counts + 1)],\n",
    "    label=\"CVaR\",\n",
    ")\n",
    "plt.plot(\n",
    "    [result_dict[i][\"fval\"] for i in range(1, iter_counts + 1)],\n",
    "    label=\"Standard\",\n",
    ")\n",
    "plt.legend()\n",
    "plt.xlabel(\"Iteration\")\n",
    "plt.ylabel(\"Cost\")\n",
    "plt.show()"
   ]
  },
  {
   "cell_type": "markdown",
   "id": "38aadfcb-aec9-4dbb-a9d3-319239eae196",
   "metadata": {},
   "source": [
    "The following cost is the result of the standard expectation value."
   ]
  },
  {
   "cell_type": "code",
   "execution_count": 36,
   "id": "7e8af29e-c99b-41f2-b6dd-2be471e1af21",
   "metadata": {},
   "outputs": [
    {
     "name": "stdout",
     "output_type": "stream",
     "text": [
      "bitstring (int): 426224160272806387142248724306, probability: 6.567713122290818e-05, objective value: -54.0\n"
     ]
    }
   ],
   "source": [
    "# sort the result_dict[iter_counts]['evaluated] by the CVaR value\n",
    "sorted_result_dict = [\n",
    "    (k, v)\n",
    "    for k, v in sorted(\n",
    "        result_dict[iter_counts][\"evaluated\"].items(),\n",
    "        key=lambda item: item[1][1],\n",
    "    )\n",
    "]\n",
    "print(\n",
    "    f\"bitstring (int): {sorted_result_dict[0][0]}, probability: {sorted_result_dict[0][1][0]}, objective value: {sorted_result_dict[0][1][1]}\"\n",
    ")"
   ]
  },
  {
   "cell_type": "code",
   "execution_count": null,
   "id": "5ea9e6aa-4297-4687-b484-1695d415bad5",
   "metadata": {},
   "outputs": [
    {
     "name": "stdout",
     "output_type": "stream",
     "text": [
      "Result bitstring (binary) : [0, 1, 0, 0, 1, 0, 1, 0, 1, 1, 1, 0, 1, 1, 1, 0, 1, 0, 1, 1, 0, 1, 1, 0, 1, 1, 0, 1, 0, 0, 1, 0, 1, 0, 0, 1, 0, 1, 0, 1, 0, 0, 1, 1, 0, 0, 1, 0, 0, 0, 0, 1, 0, 1, 1, 1, 1, 0, 1, 1, 0, 1, 0, 1, 0, 1, 0, 1, 0, 1, 0, 1, 0, 0, 1, 1, 1, 0, 1, 0, 0, 0, 1, 0, 1, 1, 0, 0, 1, 0, 0, 0, 0, 1, 1, 0, 1, 0, 1, 0]\n",
      "The value of the cut is: 83\n"
     ]
    }
   ],
   "source": [
    "def to_bitstring(integer, num_bits):\n",
    "    result = np.binary_repr(integer, width=num_bits)\n",
    "    return [int(digit) for digit in result]\n",
    "\n",
    "\n",
    "def evaluate_sample(x: Sequence[int], graph: rx.PyGraph) -> float:\n",
    "    assert len(x) == len(\n",
    "        list(graph.nodes())\n",
    "    ), \"The length of x must coincide with the number of nodes in the graph.\"\n",
    "    return sum(\n",
    "        x[u] * (1 - x[v]) + x[v] * (1 - x[u])\n",
    "        for u, v in list(graph.edge_list())\n",
    "    )\n",
    "\n",
    "\n",
    "bitstring = to_bitstring(\n",
    "    sorted_result_dict[0][0], len(list(remapped_graph.nodes()))\n",
    ")\n",
    "bitstring = bitstring[::-1]\n",
    "print(f\"Result bitstring (binary) : {bitstring}\")\n",
    "\n",
    "cut_value = evaluate_sample(bitstring, remapped_graph)\n",
    "print(f\"The value of the cut is: {cut_value}\")"
   ]
  },
  {
   "cell_type": "markdown",
   "id": "c5879546-35ab-4876-bed9-262b85f130cc",
   "metadata": {},
   "source": [
    "Finally, let's draw a graph based on the CVaR result.\n",
    "We split the graph nodes into two sets based on the CVaR result.\n",
    "The nodes in the first set are colored in gray, and the nodes in the second set are colored in purple.\n",
    "The edges between the two sets are the edges that are cut by the partitioning."
   ]
  },
  {
   "cell_type": "code",
   "execution_count": 46,
   "id": "852dfeed-2871-4ca1-9754-15c95293198e",
   "metadata": {},
   "outputs": [
    {
     "data": {
      "text/plain": [
       "<Image src=\"/docs/images/tutorials/advanced-techniques-for-qaoa/extracted-outputs/852dfeed-2871-4ca1-9754-15c95293198e-0.avif\" alt=\"Output of the previous code cell\" />"
      ]
     },
     "metadata": {},
     "output_type": "display_data"
    }
   ],
   "source": [
    "def plot_result(G, x):\n",
    "    colors = [\"tab:grey\" if i == 0 else \"tab:purple\" for i in x]\n",
    "    pos, _default_axes = rx.spring_layout(G), plt.axes(frameon=True)\n",
    "    rx.visualization.mpl_draw(\n",
    "        G, node_color=colors, node_size=100, alpha=0.8, pos=pos\n",
    "    )\n",
    "\n",
    "\n",
    "plot_result(graph_100, to_bitstring(sorted_result_dict[0][0], 100))"
   ]
  },
  {
   "cell_type": "markdown",
   "id": "82f5c13b-a141-4657-adfd-bb18e88ad9f2",
   "metadata": {},
   "source": [
    "## References\n",
    "\n",
    "[1] Weidenfeller, J., Valor, L. C., Gacon, J., Tornow, C., Bello, L., Woerner, S., & Egger, D. J. (2022). Scaling of the quantum approximate optimization algorithm on superconducting qubit based hardware. Quantum, 6, 870.\n",
    "\n",
    "[2] Matsuo, A., Yamashita, S., & Egger, D. J. (2023). A SAT approach to the initial mapping problem in SWAP gate insertion for commuting gates. IEICE Transactions on Fundamentals of Electronics, Communications and Computer Sciences, 106(11), 1424-1431.\n",
    "\n",
    "[3] Barkoutsos, P. K., Nannicini, G., Robert, A., Tavernelli, I., & Woerner, S. (2020). Improving variational quantum optimization using CVaR. Quantum, 4, 256.\n",
    "\n",
    "[4] Barron, S. V., Egger, D. J., Pelofske, E., Bärtschi, A., Eidenbenz, S., Lehmkuehler, M., & Woerner, S. (2023). Provable bounds for noise-free expectation values computed from noisy samples. arXiv preprint arXiv:2312.00733."
   ]
  },
  {
   "cell_type": "markdown",
   "id": "c048cd84-d6e8-4b8a-926e-a7f7724a86e2",
   "metadata": {},
   "source": [
    "## Tutorial survey\n",
    "\n",
    "Please take one minute to provide feedback on this tutorial. Your insights will help us improve our content offerings and user experience.\n",
    "\n",
    "[Link to survey](https://your.feedback.ibm.com/jfe/form/SV_cZwpScxyXVDpIeq)"
   ]
  },
  {
   "cell_type": "markdown",
   "id": "d325feb7-b9c5-4e6a-b1ee-93e5f96213cb",
   "metadata": {},
   "source": [
    "© IBM Corp. 2025"
   ]
  }
 ],
 "metadata": {
  "description": "This notebook introduces advanced techniques to improve the performance of the Quantum Approximate Optimization Algorithm (QAOA) with a large number of qubits.",
  "kernelspec": {
   "display_name": "Python 3",
   "language": "python",
   "name": "python3"
  },
  "language_info": {
   "codemirror_mode": {
    "name": "ipython",
    "version": 3
   },
   "file_extension": ".py",
   "mimetype": "text/x-python",
   "name": "python",
   "nbconvert_exporter": "python",
   "pygments_lexer": "ipython3",
   "version": "3"
  },
  "platform": "cloud",
  "title": "Advanced Techniques for QAOA"
 },
 "nbformat": 4,
 "nbformat_minor": 4
}
