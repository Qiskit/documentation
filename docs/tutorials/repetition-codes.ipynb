{
 "cells": [
  {
   "attachments": {},
   "cell_type": "markdown",
   "id": "f5d21946",
   "metadata": {
    "slideshow": {
     "slide_type": "-"
    }
   },
   "source": [
    "# Repetition codes\n",
    "*Estimated QPU usage: 4 seconds (tested on IBM Sherbrooke)*\n",
    "\n",
    "## Background\n",
    "\n",
    "To enable real-time quantum error correction (QEC), you need to be able to dynamically control quantum program flow during execution so that quantum gates can be conditioned on measurement results. This tutorial runs the bit-flip code, which is a very simple form of QEC. It demonstrates a dynamic quantum circuit that can protect an encoded qubit from a single bit-flip error, and then evaluates the bit-flip code performance.\n",
    "\n",
    "You can exploit additional ancilla qubits and entanglement to measure *stabilizers* that do not transform encoded quantum information, while still informing you of some classes of errors that might have occurred. A quantum stabilizer code encodes $k$ logical qubits into $n$ physical qubits. Stabilizer codes critically focus on correcting a discrete error set with support from the Pauli group $\\Pi^n$.\n",
    "\n",
    "For more information about QEC, refer to [Quantum Error Correction for Beginners.](https://arxiv.org/abs/0905.2794)"
   ]
  },
  {
   "cell_type": "markdown",
   "id": "88672bd6",
   "metadata": {},
   "source": [
    "## Requirements\n",
    "\n",
    "Before starting this tutorial, ensure that you have the following installed:\n",
    "\n",
    "- Qiskit SDK 1.0 or later with visualization support (`pip install qiskit[visualization]`)\n",
    "- Qiskit Runtime 0.22 or later (`pip install qiskit-ibm-runtime`)"
   ]
  },
  {
   "cell_type": "markdown",
   "id": "14c29e8b",
   "metadata": {},
   "source": [
    "## Setup"
   ]
  },
  {
   "cell_type": "code",
   "execution_count": 1,
   "id": "1b9fd8ad",
   "metadata": {
    "slideshow": {
     "slide_type": "-"
    }
   },
   "outputs": [],
   "source": [
    "# Qiskit imports\n",
    "from qiskit import (\n",
    "    QuantumCircuit,\n",
    "    QuantumRegister,\n",
    "    ClassicalRegister,\n",
    ")\n",
    "\n",
    "# Qiskit Runtime\n",
    "from qiskit_ibm_runtime import QiskitRuntimeService, SamplerV2 as Sampler\n",
    "\n",
    "service = QiskitRuntimeService()"
   ]
  },
  {
   "cell_type": "markdown",
   "id": "4d01e8d3",
   "metadata": {},
   "source": [
    "## Step 1. Map classical inputs to a quantum problem"
   ]
  },
  {
   "cell_type": "markdown",
   "id": "cdee0b18",
   "metadata": {},
   "source": [
    "### Build a bit-flip stabilizer circuit\n",
    "\n",
    "The bit-flip code is among the simplest examples of a stabilizer code. It protects the state against a single bit-flip (X) error on any of the encoding qubits. Consider the action of bit-flip error $X$, which maps $|0\\rangle \\rightarrow |1\\rangle$ and $|1\\rangle \\rightarrow |0\\rangle$ on any of our qubits, then we have $\\epsilon = \\{E_0, E_1, E_2 \\} = \\{IIX, IXI, XII\\}$. The code requires five qubits: three are used to encode the protected state, and the remaining two are used as stabilizer measurement ancillas."
   ]
  },
  {
   "cell_type": "code",
   "execution_count": 12,
   "id": "b588703a",
   "metadata": {},
   "outputs": [
    {
     "data": {
      "text/plain": [
       "<IBMBackend('ibm_kingston')>"
      ]
     },
     "execution_count": 12,
     "metadata": {},
     "output_type": "execute_result"
    }
   ],
   "source": [
    "num_qubits = 5\n",
    "backend = service.least_busy(\n",
    "    operational=True, simulator=False, min_num_qubits=num_qubits, dynamic_circuits=True\n",
    ")\n",
    "backend"
   ]
  },
  {
   "cell_type": "code",
   "execution_count": 8,
   "id": "606dff18",
   "metadata": {},
   "outputs": [],
   "source": [
    "qreg_data = QuantumRegister(3)\n",
    "qreg_measure = QuantumRegister(2)\n",
    "creg_data = ClassicalRegister(3, name=\"data\")\n",
    "creg_syndrome = ClassicalRegister(2, name=\"syndrome\")\n",
    "state_data = qreg_data[0]\n",
    "ancillas_data = qreg_data[1:]\n",
    "\n",
    "\n",
    "def build_qc():\n",
    "    \"\"\"Build a typical error correction circuit\"\"\"\n",
    "    return QuantumCircuit(qreg_data, qreg_measure, creg_data, creg_syndrome)\n",
    "\n",
    "\n",
    "def initialize_qubits(circuit: QuantumCircuit):\n",
    "    \"\"\"Initialize qubit to |1>\"\"\"\n",
    "    circuit.x(qreg_data[0])\n",
    "    circuit.barrier(qreg_data)\n",
    "    return circuit\n",
    "\n",
    "\n",
    "def encode_bit_flip(circuit, state, ancillas) -> QuantumCircuit:\n",
    "    \"\"\"Encode bit-flip. This is done by simply adding a cx\"\"\"\n",
    "    for ancilla in ancillas:\n",
    "        circuit.cx(state, ancilla)\n",
    "    circuit.barrier(state, *ancillas)\n",
    "    return circuit\n",
    "\n",
    "\n",
    "def measure_syndrome_bit(circuit, qreg_data, qreg_measure, creg_measure):\n",
    "    \"\"\"\n",
    "    Measure the syndrome by measuring the parity.\n",
    "    We reset our ancilla qubits after measuring the stabilizer\n",
    "    so we can reuse them for repeated stabilizer measurements.\n",
    "    Because we have already observed the state of the qubit,\n",
    "    we can write the conditional reset protocol directly to\n",
    "    avoid another round of qubit measurement if we used\n",
    "    the `reset` instruction.\n",
    "    \"\"\"\n",
    "    circuit.cx(qreg_data[0], qreg_measure[0])\n",
    "    circuit.cx(qreg_data[1], qreg_measure[0])\n",
    "    circuit.cx(qreg_data[0], qreg_measure[1])\n",
    "    circuit.cx(qreg_data[2], qreg_measure[1])\n",
    "    circuit.barrier(*qreg_data, *qreg_measure)\n",
    "    circuit.measure(qreg_measure, creg_measure)\n",
    "    with circuit.if_test((creg_syndrome[0], 1)):\n",
    "        circuit.x(qreg_measure[0])\n",
    "    with circuit.if_test((creg_syndrome[1], 1)):\n",
    "        circuit.x(qreg_measure[1])\n",
    "    circuit.barrier(*qreg_data, *qreg_measure)\n",
    "    return circuit\n",
    "\n",
    "\n",
    "def apply_correction_bit(circuit, qreg_data, creg_syndrome):\n",
    "    \"\"\"We can detect where an error occurred and correct our state\"\"\"\n",
    "    with circuit.if_test((creg_syndrome, 3)):\n",
    "        circuit.x(qreg_data[0])\n",
    "    with circuit.if_test((creg_syndrome, 1)):\n",
    "        circuit.x(qreg_data[1])\n",
    "    with circuit.if_test((creg_syndrome, 2)):\n",
    "        circuit.x(qreg_data[2])\n",
    "    circuit.barrier(qreg_data)\n",
    "    return circuit\n",
    "\n",
    "\n",
    "def apply_final_readout(circuit, qreg_data, creg_data):\n",
    "    \"\"\"Read out the final measurements\"\"\"\n",
    "    circuit.barrier(qreg_data)\n",
    "    circuit.measure(qreg_data, creg_data)\n",
    "    return circuit"
   ]
  },
  {
   "cell_type": "code",
   "execution_count": 9,
   "id": "dbe02949",
   "metadata": {},
   "outputs": [
    {
     "data": {
      "text/plain": [
       "<Image src=\"/docs/images/tutorials/repetition-codes/extracted-outputs/dbe02949-0.avif\" alt=\"Output of the previous code cell\" />"
      ]
     },
     "execution_count": 9,
     "metadata": {},
     "output_type": "execute_result"
    }
   ],
   "source": [
    "def build_error_correction_sequence(apply_correction: bool) -> QuantumCircuit:\n",
    "    circuit = build_qc()\n",
    "    circuit = initialize_qubits(circuit)\n",
    "    circuit = encode_bit_flip(circuit, state_data, ancillas_data)\n",
    "    circuit = measure_syndrome_bit(\n",
    "        circuit, qreg_data, qreg_measure, creg_syndrome\n",
    "    )\n",
    "\n",
    "    if apply_correction:\n",
    "        circuit = apply_correction_bit(circuit, qreg_data, creg_syndrome)\n",
    "\n",
    "    circuit = apply_final_readout(circuit, qreg_data, creg_data)\n",
    "    return circuit\n",
    "\n",
    "\n",
    "circuit = build_error_correction_sequence(apply_correction=True)\n",
    "circuit.draw(output=\"mpl\", style=\"iqp\")"
   ]
  },
  {
   "cell_type": "markdown",
   "id": "609c0c47",
   "metadata": {},
   "source": [
    "## Step 2. Optimize the problem for quantum execution\n",
    "\n",
    "To reduce the total job execution time, Qiskit primitives only accept circuits and observables that conforms to the instructions and connectivity supported by the target system (referred to as instruction set architecture (ISA) circuits and observables).  [Learn more about transpilation.](/docs/guides/transpile)"
   ]
  },
  {
   "attachments": {},
   "cell_type": "markdown",
   "id": "c8ea2716",
   "metadata": {
    "slideshow": {
     "slide_type": "-"
    }
   },
   "source": [
    "### Generate ISA circuits"
   ]
  },
  {
   "cell_type": "code",
   "execution_count": 10,
   "id": "67b55eef",
   "metadata": {
    "slideshow": {
     "slide_type": "-"
    }
   },
   "outputs": [
    {
     "ename": "TranspilerError",
     "evalue": "\"The control-flow construct 'if_else' is not supported by the backend.\"",
     "output_type": "error",
     "traceback": [
      "\u001b[0;31m---------------------------------------------------------------------------\u001b[0m",
      "\u001b[0;31mTranspilerError\u001b[0m                           Traceback (most recent call last)",
      "Cell \u001b[0;32mIn[10], line 4\u001b[0m\n\u001b[1;32m      1\u001b[0m \u001b[38;5;28;01mfrom\u001b[39;00m\u001b[38;5;250m \u001b[39m\u001b[38;5;21;01mqiskit\u001b[39;00m\u001b[38;5;21;01m.\u001b[39;00m\u001b[38;5;21;01mtranspiler\u001b[39;00m\u001b[38;5;21;01m.\u001b[39;00m\u001b[38;5;21;01mpreset_passmanagers\u001b[39;00m\u001b[38;5;250m \u001b[39m\u001b[38;5;28;01mimport\u001b[39;00m generate_preset_pass_manager\n\u001b[1;32m      3\u001b[0m pm \u001b[38;5;241m=\u001b[39m generate_preset_pass_manager(backend\u001b[38;5;241m=\u001b[39mbackend, optimization_level\u001b[38;5;241m=\u001b[39m\u001b[38;5;241m1\u001b[39m)\n\u001b[0;32m----> 4\u001b[0m isa_circuit \u001b[38;5;241m=\u001b[39m \u001b[43mpm\u001b[49m\u001b[38;5;241;43m.\u001b[39;49m\u001b[43mrun\u001b[49m\u001b[43m(\u001b[49m\u001b[43mcircuit\u001b[49m\u001b[43m)\u001b[49m\n\u001b[1;32m      6\u001b[0m isa_circuit\u001b[38;5;241m.\u001b[39mdraw(\u001b[38;5;124m\"\u001b[39m\u001b[38;5;124mmpl\u001b[39m\u001b[38;5;124m\"\u001b[39m, style\u001b[38;5;241m=\u001b[39m\u001b[38;5;124m\"\u001b[39m\u001b[38;5;124miqp\u001b[39m\u001b[38;5;124m\"\u001b[39m, idle_wires\u001b[38;5;241m=\u001b[39m\u001b[38;5;28;01mFalse\u001b[39;00m)\n",
      "File \u001b[0;32m~/new-virtual-environment/lib/python3.11/site-packages/qiskit/transpiler/passmanager.py:451\u001b[0m, in \u001b[0;36mStagedPassManager.run\u001b[0;34m(self, circuits, output_name, callback, num_processes, property_set)\u001b[0m\n\u001b[1;32m    441\u001b[0m \u001b[38;5;28;01mdef\u001b[39;00m\u001b[38;5;250m \u001b[39m\u001b[38;5;21mrun\u001b[39m(\n\u001b[1;32m    442\u001b[0m     \u001b[38;5;28mself\u001b[39m,\n\u001b[1;32m    443\u001b[0m     circuits: _CircuitsT,\n\u001b[0;32m   (...)\u001b[0m\n\u001b[1;32m    448\u001b[0m     property_set: \u001b[38;5;28mdict\u001b[39m[\u001b[38;5;28mstr\u001b[39m, \u001b[38;5;28mobject\u001b[39m] \u001b[38;5;241m|\u001b[39m \u001b[38;5;28;01mNone\u001b[39;00m \u001b[38;5;241m=\u001b[39m \u001b[38;5;28;01mNone\u001b[39;00m,\n\u001b[1;32m    449\u001b[0m ) \u001b[38;5;241m-\u001b[39m\u001b[38;5;241m>\u001b[39m _CircuitsT:\n\u001b[1;32m    450\u001b[0m     \u001b[38;5;28mself\u001b[39m\u001b[38;5;241m.\u001b[39m_update_passmanager()\n\u001b[0;32m--> 451\u001b[0m     \u001b[38;5;28;01mreturn\u001b[39;00m \u001b[38;5;28;43msuper\u001b[39;49m\u001b[43m(\u001b[49m\u001b[43m)\u001b[49m\u001b[38;5;241;43m.\u001b[39;49m\u001b[43mrun\u001b[49m\u001b[43m(\u001b[49m\u001b[43mcircuits\u001b[49m\u001b[43m,\u001b[49m\u001b[43m \u001b[49m\u001b[43moutput_name\u001b[49m\u001b[43m,\u001b[49m\u001b[43m \u001b[49m\u001b[43mcallback\u001b[49m\u001b[43m,\u001b[49m\u001b[43m \u001b[49m\u001b[43mnum_processes\u001b[49m\u001b[38;5;241;43m=\u001b[39;49m\u001b[43mnum_processes\u001b[49m\u001b[43m)\u001b[49m\n",
      "File \u001b[0;32m~/new-virtual-environment/lib/python3.11/site-packages/qiskit/transpiler/passmanager.py:474\u001b[0m, in \u001b[0;36m_replace_error.<locals>.wrapper\u001b[0;34m(*meth_args, **meth_kwargs)\u001b[0m\n\u001b[1;32m    471\u001b[0m \u001b[38;5;129m@wraps\u001b[39m(meth)\n\u001b[1;32m    472\u001b[0m \u001b[38;5;28;01mdef\u001b[39;00m\u001b[38;5;250m \u001b[39m\u001b[38;5;21mwrapper\u001b[39m(\u001b[38;5;241m*\u001b[39mmeth_args, \u001b[38;5;241m*\u001b[39m\u001b[38;5;241m*\u001b[39mmeth_kwargs):\n\u001b[1;32m    473\u001b[0m     \u001b[38;5;28;01mtry\u001b[39;00m:\n\u001b[0;32m--> 474\u001b[0m         \u001b[38;5;28;01mreturn\u001b[39;00m \u001b[43mmeth\u001b[49m\u001b[43m(\u001b[49m\u001b[38;5;241;43m*\u001b[39;49m\u001b[43mmeth_args\u001b[49m\u001b[43m,\u001b[49m\u001b[43m \u001b[49m\u001b[38;5;241;43m*\u001b[39;49m\u001b[38;5;241;43m*\u001b[39;49m\u001b[43mmeth_kwargs\u001b[49m\u001b[43m)\u001b[49m\n\u001b[1;32m    475\u001b[0m     \u001b[38;5;28;01mexcept\u001b[39;00m TranspilerError:\n\u001b[1;32m    476\u001b[0m         \u001b[38;5;66;03m# If it's already a `TranspilerError` subclass, don't erase the extra information.\u001b[39;00m\n\u001b[1;32m    477\u001b[0m         \u001b[38;5;28;01mraise\u001b[39;00m\n",
      "File \u001b[0;32m~/new-virtual-environment/lib/python3.11/site-packages/qiskit/transpiler/passmanager.py:233\u001b[0m, in \u001b[0;36mPassManager.run\u001b[0;34m(self, circuits, output_name, callback, num_processes, property_set)\u001b[0m\n\u001b[1;32m    230\u001b[0m \u001b[38;5;28;01mif\u001b[39;00m callback \u001b[38;5;129;01mis\u001b[39;00m \u001b[38;5;129;01mnot\u001b[39;00m \u001b[38;5;28;01mNone\u001b[39;00m:\n\u001b[1;32m    231\u001b[0m     callback \u001b[38;5;241m=\u001b[39m _legacy_style_callback(callback)\n\u001b[0;32m--> 233\u001b[0m \u001b[38;5;28;01mreturn\u001b[39;00m \u001b[38;5;28;43msuper\u001b[39;49m\u001b[43m(\u001b[49m\u001b[43m)\u001b[49m\u001b[38;5;241;43m.\u001b[39;49m\u001b[43mrun\u001b[49m\u001b[43m(\u001b[49m\n\u001b[1;32m    234\u001b[0m \u001b[43m    \u001b[49m\u001b[43min_programs\u001b[49m\u001b[38;5;241;43m=\u001b[39;49m\u001b[43mcircuits\u001b[49m\u001b[43m,\u001b[49m\n\u001b[1;32m    235\u001b[0m \u001b[43m    \u001b[49m\u001b[43mcallback\u001b[49m\u001b[38;5;241;43m=\u001b[39;49m\u001b[43mcallback\u001b[49m\u001b[43m,\u001b[49m\n\u001b[1;32m    236\u001b[0m \u001b[43m    \u001b[49m\u001b[43moutput_name\u001b[49m\u001b[38;5;241;43m=\u001b[39;49m\u001b[43moutput_name\u001b[49m\u001b[43m,\u001b[49m\n\u001b[1;32m    237\u001b[0m \u001b[43m    \u001b[49m\u001b[43mnum_processes\u001b[49m\u001b[38;5;241;43m=\u001b[39;49m\u001b[43mnum_processes\u001b[49m\u001b[43m,\u001b[49m\n\u001b[1;32m    238\u001b[0m \u001b[43m    \u001b[49m\u001b[43mproperty_set\u001b[49m\u001b[38;5;241;43m=\u001b[39;49m\u001b[43mproperty_set\u001b[49m\u001b[43m,\u001b[49m\n\u001b[1;32m    239\u001b[0m \u001b[43m\u001b[49m\u001b[43m)\u001b[49m\n",
      "File \u001b[0;32m~/new-virtual-environment/lib/python3.11/site-packages/qiskit/passmanager/passmanager.py:237\u001b[0m, in \u001b[0;36mBasePassManager.run\u001b[0;34m(self, in_programs, callback, num_processes, property_set, **kwargs)\u001b[0m\n\u001b[1;32m    234\u001b[0m \u001b[38;5;66;03m# If we're not going to run in parallel, we want to avoid spending time `dill` serializing\u001b[39;00m\n\u001b[1;32m    235\u001b[0m \u001b[38;5;66;03m# ourselves, since that can be quite expensive.\u001b[39;00m\n\u001b[1;32m    236\u001b[0m \u001b[38;5;28;01mif\u001b[39;00m \u001b[38;5;28mlen\u001b[39m(in_programs) \u001b[38;5;241m==\u001b[39m \u001b[38;5;241m1\u001b[39m \u001b[38;5;129;01mor\u001b[39;00m \u001b[38;5;129;01mnot\u001b[39;00m should_run_in_parallel(num_processes):\n\u001b[0;32m--> 237\u001b[0m     out \u001b[38;5;241m=\u001b[39m \u001b[43m[\u001b[49m\n\u001b[1;32m    238\u001b[0m \u001b[43m        \u001b[49m\u001b[43m_run_workflow\u001b[49m\u001b[43m(\u001b[49m\n\u001b[1;32m    239\u001b[0m \u001b[43m            \u001b[49m\u001b[43mprogram\u001b[49m\u001b[38;5;241;43m=\u001b[39;49m\u001b[43mprogram\u001b[49m\u001b[43m,\u001b[49m\n\u001b[1;32m    240\u001b[0m \u001b[43m            \u001b[49m\u001b[43mpass_manager\u001b[49m\u001b[38;5;241;43m=\u001b[39;49m\u001b[38;5;28;43mself\u001b[39;49m\u001b[43m,\u001b[49m\n\u001b[1;32m    241\u001b[0m \u001b[43m            \u001b[49m\u001b[43mcallback\u001b[49m\u001b[38;5;241;43m=\u001b[39;49m\u001b[43mcallback\u001b[49m\u001b[43m,\u001b[49m\n\u001b[1;32m    242\u001b[0m \u001b[43m            \u001b[49m\u001b[43minitial_property_set\u001b[49m\u001b[38;5;241;43m=\u001b[39;49m\u001b[43mproperty_set\u001b[49m\u001b[43m,\u001b[49m\n\u001b[1;32m    243\u001b[0m \u001b[43m            \u001b[49m\u001b[38;5;241;43m*\u001b[39;49m\u001b[38;5;241;43m*\u001b[39;49m\u001b[43mkwargs\u001b[49m\u001b[43m,\u001b[49m\n\u001b[1;32m    244\u001b[0m \u001b[43m        \u001b[49m\u001b[43m)\u001b[49m\n\u001b[1;32m    245\u001b[0m \u001b[43m        \u001b[49m\u001b[38;5;28;43;01mfor\u001b[39;49;00m\u001b[43m \u001b[49m\u001b[43mprogram\u001b[49m\u001b[43m \u001b[49m\u001b[38;5;129;43;01min\u001b[39;49;00m\u001b[43m \u001b[49m\u001b[43min_programs\u001b[49m\n\u001b[1;32m    246\u001b[0m \u001b[43m    \u001b[49m\u001b[43m]\u001b[49m\n\u001b[1;32m    247\u001b[0m     \u001b[38;5;28;01mif\u001b[39;00m \u001b[38;5;28mlen\u001b[39m(in_programs) \u001b[38;5;241m==\u001b[39m \u001b[38;5;241m1\u001b[39m \u001b[38;5;129;01mand\u001b[39;00m \u001b[38;5;129;01mnot\u001b[39;00m is_list:\n\u001b[1;32m    248\u001b[0m         \u001b[38;5;28;01mreturn\u001b[39;00m out[\u001b[38;5;241m0\u001b[39m]\n",
      "File \u001b[0;32m~/new-virtual-environment/lib/python3.11/site-packages/qiskit/passmanager/passmanager.py:238\u001b[0m, in \u001b[0;36m<listcomp>\u001b[0;34m(.0)\u001b[0m\n\u001b[1;32m    234\u001b[0m \u001b[38;5;66;03m# If we're not going to run in parallel, we want to avoid spending time `dill` serializing\u001b[39;00m\n\u001b[1;32m    235\u001b[0m \u001b[38;5;66;03m# ourselves, since that can be quite expensive.\u001b[39;00m\n\u001b[1;32m    236\u001b[0m \u001b[38;5;28;01mif\u001b[39;00m \u001b[38;5;28mlen\u001b[39m(in_programs) \u001b[38;5;241m==\u001b[39m \u001b[38;5;241m1\u001b[39m \u001b[38;5;129;01mor\u001b[39;00m \u001b[38;5;129;01mnot\u001b[39;00m should_run_in_parallel(num_processes):\n\u001b[1;32m    237\u001b[0m     out \u001b[38;5;241m=\u001b[39m [\n\u001b[0;32m--> 238\u001b[0m         \u001b[43m_run_workflow\u001b[49m\u001b[43m(\u001b[49m\n\u001b[1;32m    239\u001b[0m \u001b[43m            \u001b[49m\u001b[43mprogram\u001b[49m\u001b[38;5;241;43m=\u001b[39;49m\u001b[43mprogram\u001b[49m\u001b[43m,\u001b[49m\n\u001b[1;32m    240\u001b[0m \u001b[43m            \u001b[49m\u001b[43mpass_manager\u001b[49m\u001b[38;5;241;43m=\u001b[39;49m\u001b[38;5;28;43mself\u001b[39;49m\u001b[43m,\u001b[49m\n\u001b[1;32m    241\u001b[0m \u001b[43m            \u001b[49m\u001b[43mcallback\u001b[49m\u001b[38;5;241;43m=\u001b[39;49m\u001b[43mcallback\u001b[49m\u001b[43m,\u001b[49m\n\u001b[1;32m    242\u001b[0m \u001b[43m            \u001b[49m\u001b[43minitial_property_set\u001b[49m\u001b[38;5;241;43m=\u001b[39;49m\u001b[43mproperty_set\u001b[49m\u001b[43m,\u001b[49m\n\u001b[1;32m    243\u001b[0m \u001b[43m            \u001b[49m\u001b[38;5;241;43m*\u001b[39;49m\u001b[38;5;241;43m*\u001b[39;49m\u001b[43mkwargs\u001b[49m\u001b[43m,\u001b[49m\n\u001b[1;32m    244\u001b[0m \u001b[43m        \u001b[49m\u001b[43m)\u001b[49m\n\u001b[1;32m    245\u001b[0m         \u001b[38;5;28;01mfor\u001b[39;00m program \u001b[38;5;129;01min\u001b[39;00m in_programs\n\u001b[1;32m    246\u001b[0m     ]\n\u001b[1;32m    247\u001b[0m     \u001b[38;5;28;01mif\u001b[39;00m \u001b[38;5;28mlen\u001b[39m(in_programs) \u001b[38;5;241m==\u001b[39m \u001b[38;5;241m1\u001b[39m \u001b[38;5;129;01mand\u001b[39;00m \u001b[38;5;129;01mnot\u001b[39;00m is_list:\n\u001b[1;32m    248\u001b[0m         \u001b[38;5;28;01mreturn\u001b[39;00m out[\u001b[38;5;241m0\u001b[39m]\n",
      "File \u001b[0;32m~/new-virtual-environment/lib/python3.11/site-packages/qiskit/passmanager/passmanager.py:312\u001b[0m, in \u001b[0;36m_run_workflow\u001b[0;34m(program, pass_manager, initial_property_set, **kwargs)\u001b[0m\n\u001b[1;32m    305\u001b[0m passmanager_ir \u001b[38;5;241m=\u001b[39m pass_manager\u001b[38;5;241m.\u001b[39m_passmanager_frontend(\n\u001b[1;32m    306\u001b[0m     input_program\u001b[38;5;241m=\u001b[39mprogram,\n\u001b[1;32m    307\u001b[0m     \u001b[38;5;241m*\u001b[39m\u001b[38;5;241m*\u001b[39mkwargs,\n\u001b[1;32m    308\u001b[0m )\n\u001b[1;32m    309\u001b[0m property_set \u001b[38;5;241m=\u001b[39m (\n\u001b[1;32m    310\u001b[0m     PropertySet() \u001b[38;5;28;01mif\u001b[39;00m initial_property_set \u001b[38;5;129;01mis\u001b[39;00m \u001b[38;5;28;01mNone\u001b[39;00m \u001b[38;5;28;01melse\u001b[39;00m PropertySet(initial_property_set)\n\u001b[1;32m    311\u001b[0m )\n\u001b[0;32m--> 312\u001b[0m passmanager_ir, final_state \u001b[38;5;241m=\u001b[39m \u001b[43mflow_controller\u001b[49m\u001b[38;5;241;43m.\u001b[39;49m\u001b[43mexecute\u001b[49m\u001b[43m(\u001b[49m\n\u001b[1;32m    313\u001b[0m \u001b[43m    \u001b[49m\u001b[43mpassmanager_ir\u001b[49m\u001b[38;5;241;43m=\u001b[39;49m\u001b[43mpassmanager_ir\u001b[49m\u001b[43m,\u001b[49m\n\u001b[1;32m    314\u001b[0m \u001b[43m    \u001b[49m\u001b[43mstate\u001b[49m\u001b[38;5;241;43m=\u001b[39;49m\u001b[43mPassManagerState\u001b[49m\u001b[43m(\u001b[49m\u001b[43mworkflow_status\u001b[49m\u001b[38;5;241;43m=\u001b[39;49m\u001b[43minitial_status\u001b[49m\u001b[43m,\u001b[49m\u001b[43m \u001b[49m\u001b[43mproperty_set\u001b[49m\u001b[38;5;241;43m=\u001b[39;49m\u001b[43mproperty_set\u001b[49m\u001b[43m)\u001b[49m\u001b[43m,\u001b[49m\n\u001b[1;32m    315\u001b[0m \u001b[43m    \u001b[49m\u001b[43mcallback\u001b[49m\u001b[38;5;241;43m=\u001b[39;49m\u001b[43mkwargs\u001b[49m\u001b[38;5;241;43m.\u001b[39;49m\u001b[43mget\u001b[49m\u001b[43m(\u001b[49m\u001b[38;5;124;43m\"\u001b[39;49m\u001b[38;5;124;43mcallback\u001b[39;49m\u001b[38;5;124;43m\"\u001b[39;49m\u001b[43m,\u001b[49m\u001b[43m \u001b[49m\u001b[38;5;28;43;01mNone\u001b[39;49;00m\u001b[43m)\u001b[49m\u001b[43m,\u001b[49m\n\u001b[1;32m    316\u001b[0m \u001b[43m\u001b[49m\u001b[43m)\u001b[49m\n\u001b[1;32m    317\u001b[0m \u001b[38;5;66;03m# The `property_set` has historically been returned as a mutable attribute on `PassManager`\u001b[39;00m\n\u001b[1;32m    318\u001b[0m \u001b[38;5;66;03m# This makes us non-reentrant (though `PassManager` would be dependent on its internal tasks to\u001b[39;00m\n\u001b[1;32m    319\u001b[0m \u001b[38;5;66;03m# be re-entrant if that was required), but is consistent with previous interfaces.  We're still\u001b[39;00m\n\u001b[1;32m    320\u001b[0m \u001b[38;5;66;03m# safe to be called in a serial loop, again assuming internal tasks are re-runnable.  The\u001b[39;00m\n\u001b[1;32m    321\u001b[0m \u001b[38;5;66;03m# conversion to the backend language is also allowed to use the property set, so it must be set\u001b[39;00m\n\u001b[1;32m    322\u001b[0m \u001b[38;5;66;03m# before calling it.\u001b[39;00m\n\u001b[1;32m    323\u001b[0m pass_manager\u001b[38;5;241m.\u001b[39mproperty_set \u001b[38;5;241m=\u001b[39m final_state\u001b[38;5;241m.\u001b[39mproperty_set\n",
      "File \u001b[0;32m~/new-virtual-environment/lib/python3.11/site-packages/qiskit/passmanager/base_tasks.py:218\u001b[0m, in \u001b[0;36mBaseController.execute\u001b[0;34m(self, passmanager_ir, state, callback)\u001b[0m\n\u001b[1;32m    216\u001b[0m     \u001b[38;5;28;01mreturn\u001b[39;00m passmanager_ir, state\n\u001b[1;32m    217\u001b[0m \u001b[38;5;28;01mwhile\u001b[39;00m \u001b[38;5;28;01mTrue\u001b[39;00m:\n\u001b[0;32m--> 218\u001b[0m     passmanager_ir, state \u001b[38;5;241m=\u001b[39m \u001b[43mnext_task\u001b[49m\u001b[38;5;241;43m.\u001b[39;49m\u001b[43mexecute\u001b[49m\u001b[43m(\u001b[49m\n\u001b[1;32m    219\u001b[0m \u001b[43m        \u001b[49m\u001b[43mpassmanager_ir\u001b[49m\u001b[38;5;241;43m=\u001b[39;49m\u001b[43mpassmanager_ir\u001b[49m\u001b[43m,\u001b[49m\n\u001b[1;32m    220\u001b[0m \u001b[43m        \u001b[49m\u001b[43mstate\u001b[49m\u001b[38;5;241;43m=\u001b[39;49m\u001b[43mstate\u001b[49m\u001b[43m,\u001b[49m\n\u001b[1;32m    221\u001b[0m \u001b[43m        \u001b[49m\u001b[43mcallback\u001b[49m\u001b[38;5;241;43m=\u001b[39;49m\u001b[43mcallback\u001b[49m\u001b[43m,\u001b[49m\n\u001b[1;32m    222\u001b[0m \u001b[43m    \u001b[49m\u001b[43m)\u001b[49m\n\u001b[1;32m    223\u001b[0m     \u001b[38;5;28;01mtry\u001b[39;00m:\n\u001b[1;32m    224\u001b[0m         \u001b[38;5;66;03m# Sending the object through the generator implies the custom controllers\u001b[39;00m\n\u001b[1;32m    225\u001b[0m         \u001b[38;5;66;03m# can always rely on the latest data to choose the next task to run.\u001b[39;00m\n\u001b[1;32m    226\u001b[0m         next_task \u001b[38;5;241m=\u001b[39m task_generator\u001b[38;5;241m.\u001b[39msend(state)\n",
      "File \u001b[0;32m~/new-virtual-environment/lib/python3.11/site-packages/qiskit/passmanager/base_tasks.py:218\u001b[0m, in \u001b[0;36mBaseController.execute\u001b[0;34m(self, passmanager_ir, state, callback)\u001b[0m\n\u001b[1;32m    216\u001b[0m     \u001b[38;5;28;01mreturn\u001b[39;00m passmanager_ir, state\n\u001b[1;32m    217\u001b[0m \u001b[38;5;28;01mwhile\u001b[39;00m \u001b[38;5;28;01mTrue\u001b[39;00m:\n\u001b[0;32m--> 218\u001b[0m     passmanager_ir, state \u001b[38;5;241m=\u001b[39m \u001b[43mnext_task\u001b[49m\u001b[38;5;241;43m.\u001b[39;49m\u001b[43mexecute\u001b[49m\u001b[43m(\u001b[49m\n\u001b[1;32m    219\u001b[0m \u001b[43m        \u001b[49m\u001b[43mpassmanager_ir\u001b[49m\u001b[38;5;241;43m=\u001b[39;49m\u001b[43mpassmanager_ir\u001b[49m\u001b[43m,\u001b[49m\n\u001b[1;32m    220\u001b[0m \u001b[43m        \u001b[49m\u001b[43mstate\u001b[49m\u001b[38;5;241;43m=\u001b[39;49m\u001b[43mstate\u001b[49m\u001b[43m,\u001b[49m\n\u001b[1;32m    221\u001b[0m \u001b[43m        \u001b[49m\u001b[43mcallback\u001b[49m\u001b[38;5;241;43m=\u001b[39;49m\u001b[43mcallback\u001b[49m\u001b[43m,\u001b[49m\n\u001b[1;32m    222\u001b[0m \u001b[43m    \u001b[49m\u001b[43m)\u001b[49m\n\u001b[1;32m    223\u001b[0m     \u001b[38;5;28;01mtry\u001b[39;00m:\n\u001b[1;32m    224\u001b[0m         \u001b[38;5;66;03m# Sending the object through the generator implies the custom controllers\u001b[39;00m\n\u001b[1;32m    225\u001b[0m         \u001b[38;5;66;03m# can always rely on the latest data to choose the next task to run.\u001b[39;00m\n\u001b[1;32m    226\u001b[0m         next_task \u001b[38;5;241m=\u001b[39m task_generator\u001b[38;5;241m.\u001b[39msend(state)\n",
      "File \u001b[0;32m~/new-virtual-environment/lib/python3.11/site-packages/qiskit/passmanager/base_tasks.py:98\u001b[0m, in \u001b[0;36mGenericPass.execute\u001b[0;34m(self, passmanager_ir, state, callback)\u001b[0m\n\u001b[1;32m     96\u001b[0m \u001b[38;5;28;01mtry\u001b[39;00m:\n\u001b[1;32m     97\u001b[0m     \u001b[38;5;28;01mif\u001b[39;00m \u001b[38;5;28mself\u001b[39m \u001b[38;5;129;01mnot\u001b[39;00m \u001b[38;5;129;01min\u001b[39;00m state\u001b[38;5;241m.\u001b[39mworkflow_status\u001b[38;5;241m.\u001b[39mcompleted_passes:\n\u001b[0;32m---> 98\u001b[0m         ret \u001b[38;5;241m=\u001b[39m \u001b[38;5;28;43mself\u001b[39;49m\u001b[38;5;241;43m.\u001b[39;49m\u001b[43mrun\u001b[49m\u001b[43m(\u001b[49m\u001b[43mpassmanager_ir\u001b[49m\u001b[43m)\u001b[49m\n\u001b[1;32m     99\u001b[0m         run_state \u001b[38;5;241m=\u001b[39m RunState\u001b[38;5;241m.\u001b[39mSUCCESS\n\u001b[1;32m    100\u001b[0m     \u001b[38;5;28;01melse\u001b[39;00m:\n",
      "File \u001b[0;32m~/new-virtual-environment/lib/python3.11/site-packages/qiskit/transpiler/passes/utils/error.py:62\u001b[0m, in \u001b[0;36mError.run\u001b[0;34m(self, _)\u001b[0m\n\u001b[1;32m     59\u001b[0m     msg \u001b[38;5;241m=\u001b[39m \u001b[38;5;28mself\u001b[39m\u001b[38;5;241m.\u001b[39mmsg(\u001b[38;5;28mself\u001b[39m\u001b[38;5;241m.\u001b[39mproperty_set)\n\u001b[1;32m     61\u001b[0m \u001b[38;5;28;01mif\u001b[39;00m \u001b[38;5;28mself\u001b[39m\u001b[38;5;241m.\u001b[39maction \u001b[38;5;241m==\u001b[39m \u001b[38;5;124m\"\u001b[39m\u001b[38;5;124mraise\u001b[39m\u001b[38;5;124m\"\u001b[39m:\n\u001b[0;32m---> 62\u001b[0m     \u001b[38;5;28;01mraise\u001b[39;00m TranspilerError(msg)\n\u001b[1;32m     63\u001b[0m \u001b[38;5;28;01mif\u001b[39;00m \u001b[38;5;28mself\u001b[39m\u001b[38;5;241m.\u001b[39maction \u001b[38;5;241m==\u001b[39m \u001b[38;5;124m\"\u001b[39m\u001b[38;5;124mwarn\u001b[39m\u001b[38;5;124m\"\u001b[39m:\n\u001b[1;32m     64\u001b[0m     warnings\u001b[38;5;241m.\u001b[39mwarn(msg, \u001b[38;5;167;01mWarning\u001b[39;00m)\n",
      "\u001b[0;31mTranspilerError\u001b[0m: \"The control-flow construct 'if_else' is not supported by the backend.\""
     ]
    }
   ],
   "source": [
    "from qiskit.transpiler.preset_passmanagers import generate_preset_pass_manager\n",
    "\n",
    "pm = generate_preset_pass_manager(backend=backend, optimization_level=1)\n",
    "isa_circuit = pm.run(circuit)\n",
    "\n",
    "isa_circuit.draw(\"mpl\", style=\"iqp\", idle_wires=False)"
   ]
  },
  {
   "cell_type": "code",
   "execution_count": 26,
   "id": "67acea4f",
   "metadata": {},
   "outputs": [],
   "source": [
    "no_correction_circuit = build_error_correction_sequence(\n",
    "    apply_correction=False\n",
    ")\n",
    "\n",
    "isa_no_correction_circuit = pm.run(no_correction_circuit)"
   ]
  },
  {
   "cell_type": "markdown",
   "id": "bcd61a1f",
   "metadata": {},
   "source": [
    "## Step 3. Execute using Qiskit primitives"
   ]
  },
  {
   "cell_type": "markdown",
   "id": "e68d10d2",
   "metadata": {},
   "source": [
    "Run the version with correction applied and one without correction."
   ]
  },
  {
   "cell_type": "code",
   "execution_count": 27,
   "id": "d53319ba",
   "metadata": {},
   "outputs": [],
   "source": [
    "sampler_no_correction = Sampler(backend)\n",
    "job_no_correction = sampler_no_correction.run(\n",
    "    [isa_no_correction_circuit], shots=1000\n",
    ")\n",
    "result_no_correction = job_no_correction.result()[0]"
   ]
  },
  {
   "cell_type": "code",
   "execution_count": 28,
   "id": "df7421d0",
   "metadata": {
    "slideshow": {
     "slide_type": "-"
    }
   },
   "outputs": [],
   "source": [
    "sampler_with_correction = Sampler(backend)\n",
    "job_with_correction = sampler_with_correction.run([isa_circuit], shots=1000)\n",
    "result_with_correction = job_with_correction.result()[0]"
   ]
  },
  {
   "cell_type": "code",
   "execution_count": 29,
   "id": "1cba37f5",
   "metadata": {},
   "outputs": [
    {
     "name": "stdout",
     "output_type": "stream",
     "text": [
      "Data (no correction):\n",
      "{'101': 70, '111': 840, '110': 45, '011': 27, '010': 10, '001': 4, '000': 4}\n",
      "Syndrome (no correction):\n",
      "{'00': 771, '01': 168, '10': 45, '11': 16}\n"
     ]
    }
   ],
   "source": [
    "print(f\"Data (no correction):\\n{result_no_correction.data.data.get_counts()}\")\n",
    "print(\n",
    "    f\"Syndrome (no correction):\\n{result_no_correction.data.syndrome.get_counts()}\"\n",
    ")"
   ]
  },
  {
   "cell_type": "code",
   "execution_count": 30,
   "id": "7b7697f2",
   "metadata": {},
   "outputs": [
    {
     "name": "stdout",
     "output_type": "stream",
     "text": [
      "Data (corrected):\n",
      "{'011': 52, '111': 723, '101': 162, '001': 6, '110': 23, '000': 18, '100': 9, '010': 7}\n",
      "Syndrome (corrected):\n",
      "{'00': 699, '01': 229, '10': 54, '11': 18}\n"
     ]
    }
   ],
   "source": [
    "print(f\"Data (corrected):\\n{result_with_correction.data.data.get_counts()}\")\n",
    "print(\n",
    "    f\"Syndrome (corrected):\\n{result_with_correction.data.syndrome.get_counts()}\"\n",
    ")"
   ]
  },
  {
   "cell_type": "markdown",
   "id": "1b652319",
   "metadata": {},
   "source": [
    "## Step 4. Post-process, return result in classical format\n",
    "\n",
    "You can see that the bit flip code detected and corrected many errors; resulting in fewer errors overall."
   ]
  },
  {
   "cell_type": "code",
   "execution_count": 31,
   "id": "fa59fb42",
   "metadata": {
    "slideshow": {
     "slide_type": "-"
    }
   },
   "outputs": [],
   "source": [
    "def decode_result(data_counts, syndrome_counts):\n",
    "    shots = sum(data_counts.values())\n",
    "    success_trials = data_counts.get(\"000\", 0) + data_counts.get(\"111\", 0)\n",
    "    failed_trials = shots - success_trials\n",
    "    error_correction_events = shots - syndrome_counts.get(\"00\", 0)\n",
    "    print(\n",
    "        f\"Bit flip errors were detected/corrected on {error_correction_events}/{shots} trials.\"\n",
    "    )\n",
    "    print(\n",
    "        f\"A final parity error was detected on {failed_trials}/{shots} trials.\"\n",
    "    )"
   ]
  },
  {
   "cell_type": "code",
   "execution_count": 32,
   "id": "5b1ff3a3",
   "metadata": {},
   "outputs": [
    {
     "name": "stdout",
     "output_type": "stream",
     "text": [
      "Completed bit code experiment data measurement counts (no correction): {'101': 70, '111': 840, '110': 45, '011': 27, '010': 10, '001': 4, '000': 4}\n",
      "Completed bit code experiment syndrome measurement counts (no correction): {'00': 771, '01': 168, '10': 45, '11': 16}\n",
      "Bit flip errors were detected/corrected on 229/1000 trials.\n",
      "A final parity error was detected on 156/1000 trials.\n"
     ]
    }
   ],
   "source": [
    "# non-corrected marginalized results\n",
    "data_result = result_no_correction.data.data.get_counts()\n",
    "marginalized_syndrome_result = result_no_correction.data.syndrome.get_counts()\n",
    "\n",
    "print(\n",
    "    f\"Completed bit code experiment data measurement counts (no correction): {data_result}\"\n",
    ")\n",
    "print(\n",
    "    f\"Completed bit code experiment syndrome measurement counts (no correction): {marginalized_syndrome_result}\"\n",
    ")\n",
    "decode_result(data_result, marginalized_syndrome_result)"
   ]
  },
  {
   "cell_type": "code",
   "execution_count": 33,
   "id": "7f1c2d48",
   "metadata": {},
   "outputs": [
    {
     "name": "stdout",
     "output_type": "stream",
     "text": [
      "Completed bit code experiment data measurement counts (corrected): {'011': 52, '111': 723, '101': 162, '001': 6, '110': 23, '000': 18, '100': 9, '010': 7}\n",
      "Completed bit code experiment syndrome measurement counts (corrected): {'00': 699, '01': 229, '10': 54, '11': 18}\n",
      "Bit flip errors were detected/corrected on 301/1000 trials.\n",
      "A final parity error was detected on 259/1000 trials.\n"
     ]
    }
   ],
   "source": [
    "# corrected marginalized results\n",
    "corrected_data_result = result_with_correction.data.data.get_counts()\n",
    "corrected_syndrome_result = result_with_correction.data.syndrome.get_counts()\n",
    "\n",
    "print(\n",
    "    f\"Completed bit code experiment data measurement counts (corrected): {corrected_data_result}\"\n",
    ")\n",
    "print(\n",
    "    f\"Completed bit code experiment syndrome measurement counts (corrected): {corrected_syndrome_result}\"\n",
    ")\n",
    "decode_result(corrected_data_result, corrected_syndrome_result)"
   ]
  },
  {
   "cell_type": "markdown",
   "id": "b66026c4",
   "metadata": {},
   "source": [
    "## Tutorial survey\n",
    "\n",
    "Please take one minute to provide feedback on this tutorial. Your insights will help us improve our content offerings and user experience.\n",
    "\n",
    "[Link to survey](https://your.feedback.ibm.com/jfe/form/SV_5onAlfA2Y7ac1FA)"
   ]
  }
 ],
 "metadata": {
  "celltoolbar": "Slideshow",
  "description": "This tutorial demonstrates how to build basic repetition codes using IBM dynamic circuits, an example of basic quantum error correction (QEC).",
  "kernelspec": {
   "display_name": "Python 3",
   "language": "python",
   "name": "python3"
  },
  "language_info": {
   "codemirror_mode": {
    "name": "ipython",
    "version": 3
   },
   "file_extension": ".py",
   "mimetype": "text/x-python",
   "name": "python",
   "nbconvert_exporter": "python",
   "pygments_lexer": "ipython3",
   "version": "3"
  },
  "platform": "cloud",
  "title": "Repetition codes"
 },
 "nbformat": 4,
 "nbformat_minor": 5
}
