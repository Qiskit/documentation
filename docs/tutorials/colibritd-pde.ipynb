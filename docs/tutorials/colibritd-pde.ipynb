{
 "cells": [
  {
   "cell_type": "markdown",
   "id": "b6d1e3ec",
   "metadata": {},
   "source": [
    "# Model a flowing non-viscous fluid using QUICK-PDE\n",
    "\n",
    "{/* cspell:ignore edgecolor, royalblue, rstride, cstride, Navier */}"
   ]
  },
  {
   "attachments": {},
   "cell_type": "markdown",
   "id": "a6f69b77",
   "metadata": {},
   "source": [
    "*Usage estimate: 50 minutes on `ibm_kingston`. (NOTE: This is an estimate only. Your runtime may vary.)*\n",
    "\n",
    "Note that the execution time of this function is generally greater than 20 minutes,\n",
    "so you might want to split this tutorial in two sections: the first one, in which\n",
    "you read through it and launch the jobs, and the second one a few hours later\n",
    "(giving ample time for the jobs to complete), to work with the results of the jobs."
   ]
  },
  {
   "cell_type": "markdown",
   "id": "8bf80006",
   "metadata": {},
   "source": [
    "## Background\n",
    "\n",
    "This tutorial seeks to teach on an introductory level how to use the QUICK-PDE\n",
    "function to solve complex multi-physics problems on 156Q Heron R2 QPUs by using\n",
    "ColibriTD's H-DES (Hybrid Differential Equation Solver).\n",
    "The underlying algorithm is described in [the H-DES paper.](https://arxiv.org/abs/2410.01130)\n",
    "Note that this solver can also solve non-linear equations.\n",
    "\n",
    "Multi-physics problems - including fluids dynamics, heat diffusion, and material\n",
    "deformation, to name a few - can be ubiquitously described by Partial\n",
    "Differential Equations (PDEs).\n",
    "\n",
    "Such problems are highly relevant for various industries and constitute an\n",
    "important branch of applied mathematics. However, solving non-linear\n",
    "multivariate coupled PDEs with classical tools remains challenging due to the\n",
    "requirement of an exponentially large amount of resources.\n",
    "\n",
    "This function is appropriate for equations with increasing complexity and\n",
    "variables, and is the first step to unlock possibilities that were once\n",
    "considered intractable. To fully describe a problem modeled by PDEs, it is\n",
    "necessary to know the initial and boundary conditions. These can strongly\n",
    "change the solution of the PDE and the path to find their solution.\n",
    "\n",
    "In this tutorial, you will learn how to:\n",
    "\n",
    "1. Define the parameters of the initial condition function.\n",
    "2. Adjust the qubit number (used to encode the function of the differential equation), depth, and shot number.\n",
    "3. Run QUICK-PDE to solve the underlying differential equation."
   ]
  },
  {
   "cell_type": "markdown",
   "id": "55b94021",
   "metadata": {},
   "source": [
    "## Requirements\n",
    "\n",
    "Before starting this tutorial, be sure you have the following installed:\n",
    "\n",
    "* Qiskit SDK v2.0 or later (`pip install qiskit` )\n",
    "* Qiskit Functions Catalog (`pip install qiskit-ibm-catalog`)\n",
    "* Access to the QUICK-PDE function. Fill out the [form to request access.](https://forms.office.com/e/kJzViZNVa4)"
   ]
  },
  {
   "cell_type": "markdown",
   "id": "5486cc33",
   "metadata": {},
   "source": [
    "## Setup\n",
    "\n",
    "Authenticate using your [API key](http://quantum.cloud.ibm.com/) and select the function as follows:"
   ]
  },
  {
   "cell_type": "code",
   "execution_count": null,
   "id": "61d78897",
   "metadata": {},
   "outputs": [],
   "source": [
    "import numpy as np\n",
    "import matplotlib.pyplot as plt\n",
    "from qiskit_ibm_catalog import QiskitFunctionsCatalog\n",
    "\n",
    "catalog = QiskitFunctionsCatalog(\n",
    "    channel=\"ibm_cloud / ibm_quantum / ibm_quantum_platform\",\n",
    "    instance=\"USER_CRN / HGP\",\n",
    "    token=\"USER_API_KEY / IQP_API_TOKEN\",\n",
    ")\n",
    "\n",
    "quick = catalog.load(\"colibritd/quick-pde\")"
   ]
  },
  {
   "cell_type": "markdown",
   "id": "642a4fb3",
   "metadata": {},
   "source": [
    "## Step 1: Set properties of the problem to solve\n",
    "\n",
    "This tutorial covers the user experience from two perspectives: the\n",
    "physical problem determined by the initial conditions, and the algorithmic\n",
    "component in solving a fluid dynamics example on a quantum computer.\n",
    "\n",
    "Computational Fluid Dynamics (CFD) has a broad range of applications, and thus it is\n",
    "important to study and solve the underlying PDEs. An important family of PDEs\n",
    "are the Navier-Stokes equations, which are a system of nonlinear partial\n",
    "differential equations describing the motion of fluids. They are highly relevant\n",
    "for scientific problems and engineering applications.\n",
    "\n",
    "Under certain conditions, the Navier-Stokes equations reduce to Burgers'\n",
    "equation, a convection–diffusion equation describing phenomena occurring in\n",
    "fluid dynamics, gas dynamics, and nonlinear acoustics, to name a few, by modeling\n",
    "dissipative systems.\n",
    "\n",
    "The one-dimensional version of the equation depends on two variables:\n",
    "$t \\in \\mathbb{R}_{\\geq 0}$ modeling the temporal dimension, $x \\in \\mathbb{R}$\n",
    "representing the spatial dimension. The general form of the equation is called\n",
    "the viscous Burgers' equation and reads:\n",
    "\n",
    "$$\\frac{\\partial u}{\\partial t} + u \\frac{\\partial u}{\\partial x} = \\nu \\frac{\\partial^2 u}{\\partial^2 x},$$\n",
    "\n",
    "where $u(x,t)$ is the fluid speed field at a given position $x$ and time $t$, and $\\nu$\n",
    "is the viscosity of the fluid. Viscosity is an important property of a fluid\n",
    "that measures its rate-dependent resistance to motion or deformation, and thus it\n",
    "plays a crucial role in the determination of the dynamics of a fluid. When the\n",
    "viscosity of the fluid is null ($\\nu$ = 0), the equation becomes a conservation\n",
    "equation that can develop discontinuities (shock waves), due to the lack of its\n",
    "internal resistance. In this case, the equation is called the inviscid Burgers'\n",
    "equation and is a special case of nonlinear wave equation.\n",
    "\n",
    "Strictly speaking, inviscid flows do not occur in nature, but when modeling\n",
    "aerodynamic flow, due to the infinitesimal effect of transport, using an\n",
    "inviscid description of the problem can be useful. Surprisingly, more than\n",
    "70% of aerodynamic theory deals with inviscid flows.\n",
    "\n",
    "In this tutorial we offer the inviscid Burgers' equation as a CFD example to solve\n",
    "on IBM&reg; QPUs using QUICK-PDE, given by the equation:\n",
    "$$\\frac{\\partial u}{\\partial t} + u\\frac{\\partial u}{\\partial x} = 0, $$\n",
    "\n",
    "The initial condition for this problem is set to a linear function:\n",
    "$$u(t=0,x) = ax + b,\\text{ with }a,b\\in\\mathbb{R}$$\n",
    "where $a$ and $b$ are arbitrary constants influencing the shape of the\n",
    "solution. You can adjust $a$ and $b$ and see how they influence the\n",
    "solving process and the solution."
   ]
  },
  {
   "cell_type": "code",
   "execution_count": null,
   "id": "286ae259",
   "metadata": {},
   "outputs": [],
   "source": [
    "job = quick.run(\n",
    "    use_case=\"cfd\",\n",
    "    physical_parameters={\"a\": 1.0, \"b\": 1.0},\n",
    ")"
   ]
  },
  {
   "cell_type": "code",
   "execution_count": null,
   "id": "2957db80",
   "metadata": {},
   "outputs": [],
   "source": [
    "print(job.result())"
   ]
  },
  {
   "cell_type": "markdown",
   "id": "ac6f36e3",
   "metadata": {},
   "source": [
    "## Step 2 (if needed): Optimize problem for quantum hardware execution\n",
    "\n",
    "By default, the solver uses physically-informed parameters, which are initial circuit parameters for a given qubit number and depth from which our solver will start.\n",
    "\n",
    "The shots are also part of the parameters with a default value, since fine-tuning them is important.\n",
    "\n",
    "Depending on the configuration you're trying to solve, the algorithm's\n",
    "parameters to achieve satisfactory solutions might need to be adapted; for example, it\n",
    "can require more or fewer qubits per variable $t$ and $x$, depending on $a$ and\n",
    "$b$. The following adjusts the number of qubits per function per\n",
    "variable, the depth per function, and the number of shots.\n",
    "\n",
    "You can also see how to specify the backend and the execution mode.\n",
    "\n",
    "In addition, physically-informed parameters might steer the optimization process\n",
    "in a wrong direction; in that case, you can disable it by setting the\n",
    "`initialization` strategy to `\"RANDOM\"`."
   ]
  },
  {
   "cell_type": "code",
   "execution_count": null,
   "id": "a6be6c17",
   "metadata": {},
   "outputs": [],
   "source": [
    "job_2 = quick.run(\n",
    "    use_case=\"cfd\",\n",
    "    physical_parameters={\"a\": 0.5, \"b\": 0.25},\n",
    "    nb_qubits={\"u\": {\"t\": 2, \"x\": 1}},\n",
    "    depth={\"u\": 3},\n",
    "    nb_shots=[500, 2500, 5000, 10000],\n",
    "    initialization=\"RANDOM\",\n",
    "    backend=\"ibm_kingston\",\n",
    "    mode=\"session\",\n",
    ")"
   ]
  },
  {
   "cell_type": "code",
   "execution_count": null,
   "id": "808793e8",
   "metadata": {},
   "outputs": [],
   "source": [
    "print(job_2.result())"
   ]
  },
  {
   "cell_type": "markdown",
   "id": "50b94af2",
   "metadata": {},
   "source": [
    "## Step 3: Use the result\n",
    "\n",
    "With your solution, you can now choose what to do with it. The following demonstrates how to plot the result."
   ]
  },
  {
   "cell_type": "code",
   "execution_count": null,
   "id": "fe0a7d02",
   "metadata": {},
   "outputs": [],
   "source": [
    "solution = job.result()\n",
    "\n",
    "# Plot the solution of the second simulation job_2\n",
    "_ = plt.figure()\n",
    "ax = plt.axes(projection=\"3d\")\n",
    "\n",
    "# plot the solution using the 3d plotting capabilities of pyplot\n",
    "t, x = np.meshgrid(solution[\"samples\"][\"t\"], solution[\"samples\"][\"x\"])\n",
    "ax.plot_surface(\n",
    "    t,\n",
    "    x,\n",
    "    solution[\"functions\"][\"u\"],\n",
    "    edgecolor=\"royalblue\",\n",
    "    lw=0.25,\n",
    "    rstride=26,\n",
    "    cstride=26,\n",
    "    alpha=0.3,\n",
    ")\n",
    "ax.scatter(t, x, solution, marker=\".\")\n",
    "ax.set(xlabel=\"t\", ylabel=\"x\", zlabel=\"u(t,x)\")\n",
    "\n",
    "plt.show()"
   ]
  },
  {
   "cell_type": "markdown",
   "id": "058ab2d8",
   "metadata": {},
   "source": [
    "Notice the difference of initial condition for the second run and its effect on\n",
    "the result:"
   ]
  },
  {
   "cell_type": "code",
   "execution_count": null,
   "id": "6dab21c9",
   "metadata": {},
   "outputs": [],
   "source": [
    "solution_2 = job_2.result()\n",
    "\n",
    "# Plot the solution of the second simulation job_2\n",
    "_ = plt.figure()\n",
    "ax = plt.axes(projection=\"3d\")\n",
    "\n",
    "# plot the solution using the 3d plotting capabilities of pyplot\n",
    "t, x = np.meshgrid(solution_2[\"samples\"][\"t\"], solution_2[\"samples\"][\"x\"])\n",
    "ax.plot_surface(\n",
    "    t,\n",
    "    x,\n",
    "    solution_2[\"functions\"][\"u\"],\n",
    "    edgecolor=\"royalblue\",\n",
    "    lw=0.25,\n",
    "    rstride=26,\n",
    "    cstride=26,\n",
    "    alpha=0.3,\n",
    ")\n",
    "ax.scatter(t, x, solution_2, marker=\".\")\n",
    "ax.set(xlabel=\"t\", ylabel=\"x\", zlabel=\"u(t,x)\")\n",
    "\n",
    "plt.show()"
   ]
  },
  {
   "cell_type": "markdown",
   "id": "2cb5785c",
   "metadata": {},
   "source": [
    "## Tutorial survey\n",
    "\n",
    "Please take a minute to provide feedback on this tutorial. Your insights will help us improve our content offerings and user experience:\n",
    "\n",
    "[Link to survey](https://your.feedback.ibm.com/jfe/form/SV_3BLFkNVEuh0QBWm)"
   ]
  }
 ],
 "metadata": {
  "description": "Use the QUICK-PDE function to model a flowing non-viscous fluid.",
  "kernelspec": {
   "display_name": "Python 3",
   "language": "python",
   "name": "python3"
  },
  "language_info": {
   "codemirror_mode": {
    "name": "ipython",
    "version": 3
   },
   "file_extension": ".py",
   "mimetype": "text/x-python",
   "name": "python",
   "nbconvert_exporter": "python",
   "pygments_lexer": "ipython3",
   "version": "3"
  },
  "title": "Model a flowing non-viscous fluid using QUICK-PDE"
 },
 "nbformat": 4,
 "nbformat_minor": 5
}
