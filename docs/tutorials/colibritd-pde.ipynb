{
 "cells": [
  {
   "cell_type": "markdown",
   "id": "b6d1e3ec",
   "metadata": {},
   "source": [
    "# Model a flowing non-viscous fluid using QUICK-PDE\n",
    "\n",
    "{/* cspell:ignore edgecolor, royalblue, rstride, cstride, Navier */}"
   ]
  },
  {
   "attachments": {},
   "cell_type": "markdown",
   "id": "a6f69b77",
   "metadata": {},
   "source": [
    "*Usage estimate: 50 minutes on `ibm_kingston`. (NOTE: This is an estimate only. Your runtime may vary.)*\n",
    "\n",
    "Note that the execution time of this function is generally greater than 20 minutes,\n",
    "so you might want to split this tutorial in two sections: the first one, in which\n",
    "you read through it and launch the jobs, and the second one a few hours later\n",
    "(giving ample time for the jobs to complete), to work with the results of the jobs."
   ]
  },
  {
   "cell_type": "markdown",
   "id": "8bf80006",
   "metadata": {},
   "source": [
    "## Background\n",
    "\n",
    "This tutorial seeks to teach on an introductory level how to use the QUICK-PDE\n",
    "function to solve complex multi-physics problems on 156Q Heron R2 QPUs by using\n",
    "ColibriTD's H-DES (Hybrid Differential Equation Solver).\n",
    "The underlying algorithm is described in [the H-DES paper.](https://arxiv.org/abs/2410.01130)\n",
    "Note that this solver can also solve non-linear equations.\n",
    "\n",
    "Multi-physics problems - including fluids dynamics, heat diffusion, and material\n",
    "deformation, to name a few - can be ubiquitously described by Partial\n",
    "Differential Equations (PDEs).\n",
    "\n",
    "Such problems are highly relevant for various industries and constitute an\n",
    "important branch of applied mathematics. However, solving non-linear\n",
    "multivariate coupled PDEs with classical tools remains challenging due to the\n",
    "requirement of an exponentially large amount of resources.\n",
    "\n",
    "This function is appropriate for equations with increasing complexity and\n",
    "variables, and is the first step to unlock possibilities that were once\n",
    "considered intractable. To fully describe a problem modeled by PDEs, it is\n",
    "necessary to know the initial and boundary conditions. These can strongly\n",
    "change the solution of the PDE and the path to find their solution.\n",
    "\n",
    "In this tutorial, you will learn how to:\n",
    "\n",
    "1. Define the parameters of the initial condition function.\n",
    "2. Adjust the qubit number (used to encode the function of the differential equation), depth, and shot number.\n",
    "3. Run QUICK-PDE to solve the underlying differential equation."
   ]
  },
  {
   "cell_type": "markdown",
   "id": "55b94021",
   "metadata": {},
   "source": [
    "## Requirements\n",
    "\n",
    "Before starting this tutorial, be sure you have the following installed:\n",
    "\n",
    "* Qiskit SDK v2.0 or later (`pip install qiskit`)\n",
    "* Qiskit Functions Catalog (`pip install qiskit-ibm-catalog`)\n",
    "* Matplotlib (`pip install matplotlib`)\n",
    "* Access to the QUICK-PDE function. Fill out the [form to request access.](https://forms.office.com/e/kJzViZNVa4)"
   ]
  },
  {
   "cell_type": "markdown",
   "id": "5486cc33",
   "metadata": {},
   "source": [
    "## Setup\n",
    "\n",
    "Authenticate using your [API key](http://quantum.cloud.ibm.com/) and select the function as follows:"
   ]
  },
  {
   "cell_type": "code",
   "execution_count": null,
   "id": "61d78897",
   "metadata": {},
   "outputs": [],
   "source": [
    "import numpy as np\n",
    "import matplotlib.pyplot as plt\n",
    "from qiskit_ibm_catalog import QiskitFunctionsCatalog\n",
    "\n",
    "catalog = QiskitFunctionsCatalog(\n",
    "    channel=\"ibm_cloud / ibm_quantum / ibm_quantum_platform\",\n",
    "    instance=\"USER_CRN / HGP\",\n",
    "    token=\"USER_API_KEY / IQP_API_TOKEN\",\n",
    ")\n",
    "\n",
    "quick = catalog.load(\"colibritd/quick-pde\")"
   ]
  },
  {
   "cell_type": "markdown",
   "id": "642a4fb3",
   "metadata": {},
   "source": [
    "## Step 1: Set properties of the problem to solve\n",
    "\n",
    "This tutorial covers the user experience from two perspectives: the\n",
    "physical problem determined by the initial conditions, and the algorithmic\n",
    "component in solving a fluid dynamics example on a quantum computer.\n",
    "\n",
    "Computational Fluid Dynamics (CFD) has a broad range of applications, and thus it is\n",
    "important to study and solve the underlying PDEs. An important family of PDEs\n",
    "are the Navier-Stokes equations, which are a system of nonlinear partial\n",
    "differential equations describing the motion of fluids. They are highly relevant\n",
    "for scientific problems and engineering applications.\n",
    "\n",
    "Under certain conditions, the Navier-Stokes equations reduce to Burgers'\n",
    "equation, a convection–diffusion equation describing phenomena occurring in\n",
    "fluid dynamics, gas dynamics, and nonlinear acoustics, to name a few, by modeling\n",
    "dissipative systems.\n",
    "\n",
    "The one-dimensional version of the equation depends on two variables:\n",
    "$t \\in \\mathbb{R}_{\\geq 0}$ modeling the temporal dimension, $x \\in \\mathbb{R}$\n",
    "representing the spatial dimension. The general form of the equation is called\n",
    "the viscous Burgers' equation and reads:\n",
    "\n",
    "$$\\frac{\\partial u}{\\partial t} + u \\frac{\\partial u}{\\partial x} = \\nu \\frac{\\partial^2 u}{\\partial^2 x},$$\n",
    "\n",
    "where $u(x,t)$ is the fluid speed field at a given position $x$ and time $t$, and $\\nu$\n",
    "is the viscosity of the fluid. Viscosity is an important property of a fluid\n",
    "that measures its rate-dependent resistance to motion or deformation, and thus it\n",
    "plays a crucial role in the determination of the dynamics of a fluid. When the\n",
    "viscosity of the fluid is null ($\\nu$ = 0), the equation becomes a conservation\n",
    "equation that can develop discontinuities (shock waves), due to the lack of its\n",
    "internal resistance. In this case, the equation is called the inviscid Burgers'\n",
    "equation and is a special case of nonlinear wave equation.\n",
    "\n",
    "Strictly speaking, inviscid flows do not occur in nature, but when modeling\n",
    "aerodynamic flow, due to the infinitesimal effect of transport, using an\n",
    "inviscid description of the problem can be useful. Surprisingly, more than\n",
    "70% of aerodynamic theory deals with inviscid flows.\n",
    "\n",
    "In this tutorial we offer the inviscid Burgers' equation as a CFD example to solve\n",
    "on IBM&reg; QPUs using QUICK-PDE, given by the equation:\n",
    "$$\\frac{\\partial u}{\\partial t} + u\\frac{\\partial u}{\\partial x} = 0, $$\n",
    "\n",
    "The initial condition for this problem is set to a linear function:\n",
    "$$u(t=0,x) = ax + b,\\text{ with }a,b\\in\\mathbb{R}$$\n",
    "where $a$ and $b$ are arbitrary constants influencing the shape of the\n",
    "solution. You can adjust $a$ and $b$ and see how they influence the\n",
    "solving process and the solution."
   ]
  },
  {
   "cell_type": "code",
   "execution_count": null,
   "id": "286ae259",
   "metadata": {},
   "outputs": [],
   "source": [
    "job = quick.run(\n",
    "    use_case=\"cfd\",\n",
    "    physical_parameters={\"a\": 1.0, \"b\": 1.0},\n",
    ")"
   ]
  },
  {
   "cell_type": "code",
   "execution_count": null,
   "id": "2957db80",
   "metadata": {},
   "outputs": [
    {
     "name": "stdout",
     "output_type": "stream",
     "text": [
      "{'functions': {'u': array([[1.        , 0.96112378, 0.9230742 , 0.88616096, 0.85058445,\n",
      "        0.81644741, 0.78376878, 0.75249908, 0.72253689, 0.69374562,\n",
      "        0.66597013, 0.63905258, 0.61284684, 0.58723093, 0.56211691,\n",
      "        0.53745752, 0.51324915, 0.48953036, 0.46637547, 0.44388257,\n",
      "        0.4221554 , 0.40127848, 0.38128488, 0.36211604, 0.34357308,\n",
      "        0.32525895, 0.30651089, 0.28632252, 0.26325504, 0.23533692],\n",
      "       [1.2375    , 1.19267729, 1.14850734, 1.10544526, 1.06382155,\n",
      "        1.02385326, 0.98565757, 0.94926734, 0.91464784, 0.88171402,\n",
      "        0.85034771, 0.82041411, 0.79177677, 0.76431068, 0.73791248,\n",
      "        0.71250742, 0.68805224, 0.66453346, 0.64196021, 0.62035121,\n",
      "        0.59971506, 0.5800232 , 0.56117499, 0.54295419, 0.52497612,\n",
      "        0.50662498, 0.48698059, 0.4647339 , 0.43809065, 0.40466247],\n",
      "       [1.475     , 1.4242308 , 1.37394048, 1.32472956, 1.27705866,\n",
      "        1.23125911, 1.18754636, 1.1460356 , 1.10675879, 1.06968242,\n",
      "        1.03472529, 1.00177563, 0.9707067 , 0.94139043, 0.91370806,\n",
      "        0.88755732, 0.86285533, 0.83953655, 0.81754494, 0.79681986,\n",
      "        0.77727473, 0.75876792, 0.74106511, 0.72379234, 0.70637915,\n",
      "        0.687991  , 0.66745028, 0.64314527, 0.61292625, 0.57398802],\n",
      "       [1.7125    , 1.65578431, 1.59937362, 1.54401386, 1.49029576,\n",
      "        1.43866495, 1.38943515, 1.34280386, 1.29886974, 1.25765082,\n",
      "        1.21910288, 1.18313715, 1.14963664, 1.11847019, 1.08950364,\n",
      "        1.06260722, 1.03765842, 1.01453964, 0.99312968, 0.97328851,\n",
      "        0.95483439, 0.93751264, 0.92095522, 0.90463049, 0.88778219,\n",
      "        0.86935702, 0.84791997, 0.82155665, 0.78776186, 0.74331358],\n",
      "       [1.95      , 1.88733782, 1.82480676, 1.76329816, 1.70353287,\n",
      "        1.6460708 , 1.59132394, 1.53957212, 1.49098069, 1.44561922,\n",
      "        1.40348046, 1.36449867, 1.32856657, 1.29554994, 1.26529921,\n",
      "        1.23765712, 1.21246152, 1.18954273, 1.16871442, 1.14975716,\n",
      "        1.13239406, 1.11625736, 1.10084533, 1.08546864, 1.06918523,\n",
      "        1.05072304, 1.02838966, 0.99996803, 0.96259746, 0.91263913]])}, 'samples': {'t': array([0.        , 0.03275862, 0.06551724, 0.09827586, 0.13103448,\n",
      "       0.1637931 , 0.19655172, 0.22931034, 0.26206897, 0.29482759,\n",
      "       0.32758621, 0.36034483, 0.39310345, 0.42586207, 0.45862069,\n",
      "       0.49137931, 0.52413793, 0.55689655, 0.58965517, 0.62241379,\n",
      "       0.65517241, 0.68793103, 0.72068966, 0.75344828, 0.7862069 ,\n",
      "       0.81896552, 0.85172414, 0.88448276, 0.91724138, 0.95      ]), 'x': array([0.    , 0.2375, 0.475 , 0.7125, 0.95  ])}}\n"
     ]
    }
   ],
   "source": [
    "print(job.result())"
   ]
  },
  {
   "cell_type": "markdown",
   "id": "ac6f36e3",
   "metadata": {},
   "source": [
    "## Step 2 (if needed): Optimize problem for quantum hardware execution\n",
    "\n",
    "By default, the solver uses physically-informed parameters, which are initial circuit parameters for a given qubit number and depth from which our solver will start.\n",
    "\n",
    "The shots are also part of the parameters with a default value, since fine-tuning them is important.\n",
    "\n",
    "Depending on the configuration you're trying to solve, the algorithm's\n",
    "parameters to achieve satisfactory solutions might need to be adapted; for example, it\n",
    "can require more or fewer qubits per variable $t$ and $x$, depending on $a$ and\n",
    "$b$. The following adjusts the number of qubits per function per\n",
    "variable, the depth per function, and the number of shots.\n",
    "\n",
    "You can also see how to specify the backend and the execution mode.\n",
    "\n",
    "In addition, physically-informed parameters might steer the optimization process\n",
    "in a wrong direction; in that case, you can disable it by setting the\n",
    "`initialization` strategy to `\"RANDOM\"`."
   ]
  },
  {
   "cell_type": "code",
   "execution_count": null,
   "id": "a6be6c17",
   "metadata": {},
   "outputs": [],
   "source": [
    "job_2 = quick.run(\n",
    "    use_case=\"cfd\",\n",
    "    physical_parameters={\"a\": 0.5, \"b\": 0.25},\n",
    "    nb_qubits={\"u\": {\"t\": 2, \"x\": 1}},\n",
    "    depth={\"u\": 3},\n",
    "    shots=[500, 2500, 5000, 10000],\n",
    "    initialization=\"RANDOM\",\n",
    "    backend=\"ibm_kingston\",\n",
    "    mode=\"session\",\n",
    ")"
   ]
  },
  {
   "cell_type": "code",
   "execution_count": null,
   "id": "808793e8",
   "metadata": {},
   "outputs": [
    {
     "name": "stdout",
     "output_type": "stream",
     "text": [
      "{'functions': {'u': array([[0.25      , 0.24856543, 0.24687708, 0.2449444 , 0.24277686,\n",
      "        0.24038389, 0.23777496, 0.23495952, 0.23194702, 0.22874691,\n",
      "        0.22536866, 0.22182171, 0.21811551, 0.21425952, 0.2102632 ,\n",
      "        0.20613599, 0.20188736, 0.19752675, 0.19306361, 0.18850741,\n",
      "        0.18386759, 0.1791536 , 0.17437491, 0.16954096, 0.16466122,\n",
      "        0.15974512, 0.15480213, 0.1498417 , 0.14487328, 0.13990632],\n",
      "       [0.36875   , 0.36681313, 0.36457201, 0.36203594, 0.35921422,\n",
      "        0.35611615, 0.35275103, 0.34912817, 0.34525687, 0.34114643,\n",
      "        0.33680614, 0.33224532, 0.32747327, 0.32249928, 0.31733266,\n",
      "        0.31198271, 0.30645873, 0.30077002, 0.29492589, 0.28893564,\n",
      "        0.28280857, 0.27655397, 0.27018116, 0.26369944, 0.2571181 ,\n",
      "        0.25044645, 0.24369378, 0.23686941, 0.22998264, 0.22304275],\n",
      "       [0.4875    , 0.48506084, 0.48226695, 0.47912748, 0.47565158,\n",
      "        0.47184841, 0.46772711, 0.46329683, 0.45856672, 0.45354594,\n",
      "        0.44824363, 0.44266894, 0.43683103, 0.43073904, 0.42440212,\n",
      "        0.41782942, 0.4110301 , 0.4040133 , 0.39678818, 0.38936388,\n",
      "        0.38174955, 0.37395435, 0.36598742, 0.35785791, 0.34957498,\n",
      "        0.34114777, 0.33258544, 0.32389713, 0.315092  , 0.30617919],\n",
      "       [0.60625   , 0.60330854, 0.59996188, 0.59621902, 0.59208895,\n",
      "        0.58758067, 0.58270318, 0.57746549, 0.57187658, 0.56594545,\n",
      "        0.55968112, 0.55309256, 0.54618879, 0.53897879, 0.53147158,\n",
      "        0.52367614, 0.51560147, 0.50725658, 0.49865046, 0.48979211,\n",
      "        0.48069053, 0.47135472, 0.46179367, 0.45201638, 0.44203186,\n",
      "        0.4318491 , 0.42147709, 0.41092485, 0.40020136, 0.38931562],\n",
      "       [0.725     , 0.72155625, 0.71765682, 0.71331056, 0.70852631,\n",
      "        0.70331293, 0.69767926, 0.69163414, 0.68518643, 0.67834497,\n",
      "        0.6711186 , 0.66351618, 0.65554655, 0.64721855, 0.63854104,\n",
      "        0.62952285, 0.62017284, 0.61049986, 0.60051274, 0.59022035,\n",
      "        0.57963151, 0.56875509, 0.55759992, 0.54617486, 0.53448874,\n",
      "        0.52255042, 0.51036875, 0.49795257, 0.48531072, 0.47245205]])}, 'samples': {'t': array([0.        , 0.03275862, 0.06551724, 0.09827586, 0.13103448,\n",
      "       0.1637931 , 0.19655172, 0.22931034, 0.26206897, 0.29482759,\n",
      "       0.32758621, 0.36034483, 0.39310345, 0.42586207, 0.45862069,\n",
      "       0.49137931, 0.52413793, 0.55689655, 0.58965517, 0.62241379,\n",
      "       0.65517241, 0.68793103, 0.72068966, 0.75344828, 0.7862069 ,\n",
      "       0.81896552, 0.85172414, 0.88448276, 0.91724138, 0.95      ]), 'x': array([0.    , 0.2375, 0.475 , 0.7125, 0.95  ])}}\n"
     ]
    }
   ],
   "source": [
    "print(job_2.result())"
   ]
  },
  {
   "cell_type": "markdown",
   "id": "50b94af2",
   "metadata": {},
   "source": [
    "## Step 3: Use the result\n",
    "\n",
    "With your solution, you can now choose what to do with it. The following demonstrates how to plot the result."
   ]
  },
  {
   "cell_type": "code",
   "execution_count": null,
   "id": "fe0a7d02",
   "metadata": {},
   "outputs": [
    {
     "data": {
      "text/plain": [
       "<Image src=\"/docs/images/tutorials/colibritd-pde/extracted-outputs/fe0a7d02-0.avif\" alt=\"Output of the previous code cell\" />"
      ]
     },
     "metadata": {},
     "output_type": "display_data"
    }
   ],
   "source": [
    "solution = job.result()\n",
    "\n",
    "# Plot the solution of the second simulation job_2\n",
    "_ = plt.figure()\n",
    "ax = plt.axes(projection=\"3d\")\n",
    "\n",
    "# plot the solution using the 3d plotting capabilities of pyplot\n",
    "t, x = np.meshgrid(solution[\"samples\"][\"t\"], solution[\"samples\"][\"x\"])\n",
    "ax.plot_surface(\n",
    "    t,\n",
    "    x,\n",
    "    solution[\"functions\"][\"u\"],\n",
    "    edgecolor=\"royalblue\",\n",
    "    lw=0.25,\n",
    "    rstride=26,\n",
    "    cstride=26,\n",
    "    alpha=0.3,\n",
    ")\n",
    "ax.scatter(t, x, solution, marker=\".\")\n",
    "ax.set(xlabel=\"t\", ylabel=\"x\", zlabel=\"u(t,x)\")\n",
    "\n",
    "plt.show()"
   ]
  },
  {
   "cell_type": "markdown",
   "id": "058ab2d8",
   "metadata": {},
   "source": [
    "Notice the difference of initial condition for the second run and its effect on\n",
    "the result:"
   ]
  },
  {
   "cell_type": "code",
   "execution_count": null,
   "id": "6dab21c9",
   "metadata": {},
   "outputs": [
    {
     "data": {
      "text/plain": [
       "<Image src=\"/docs/images/tutorials/colibritd-pde/extracted-outputs/6dab21c9-0.avif\" alt=\"Output of the previous code cell\" />"
      ]
     },
     "metadata": {},
     "output_type": "display_data"
    }
   ],
   "source": [
    "solution_2 = job_2.result()\n",
    "\n",
    "# Plot the solution of the second simulation job_2\n",
    "_ = plt.figure()\n",
    "ax = plt.axes(projection=\"3d\")\n",
    "\n",
    "# plot the solution using the 3d plotting capabilities of pyplot\n",
    "t, x = np.meshgrid(solution_2[\"samples\"][\"t\"], solution_2[\"samples\"][\"x\"])\n",
    "ax.plot_surface(\n",
    "    t,\n",
    "    x,\n",
    "    solution_2[\"functions\"][\"u\"],\n",
    "    edgecolor=\"royalblue\",\n",
    "    lw=0.25,\n",
    "    rstride=26,\n",
    "    cstride=26,\n",
    "    alpha=0.3,\n",
    ")\n",
    "ax.scatter(t, x, solution_2, marker=\".\")\n",
    "ax.set(xlabel=\"t\", ylabel=\"x\", zlabel=\"u(t,x)\")\n",
    "\n",
    "plt.show()"
   ]
  },
  {
   "cell_type": "markdown",
   "id": "2cb5785c",
   "metadata": {},
   "source": [
    "## Tutorial survey\n",
    "\n",
    "Please take a minute to provide feedback on this tutorial. Your insights will help us improve our content offerings and user experience:\n",
    "\n",
    "[Link to survey](https://your.feedback.ibm.com/jfe/form/SV_3BLFkNVEuh0QBWm)"
   ]
  }
 ],
 "metadata": {
  "description": "Use the QUICK-PDE function to model a flowing non-viscous fluid.",
  "kernelspec": {
   "display_name": "Python 3",
   "language": "python",
   "name": "python3"
  },
  "language_info": {
   "codemirror_mode": {
    "name": "ipython",
    "version": 3
   },
   "file_extension": ".py",
   "mimetype": "text/x-python",
   "name": "python",
   "nbconvert_exporter": "python",
   "pygments_lexer": "ipython3",
   "version": "3"
  },
  "title": "Model a flowing non-viscous fluid using QUICK-PDE"
 },
 "nbformat": 4,
 "nbformat_minor": 5
}
