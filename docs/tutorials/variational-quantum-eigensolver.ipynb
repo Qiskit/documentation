{
 "cells": [
  {
   "attachments": {},
   "cell_type": "markdown",
   "id": "a6f69b77",
   "metadata": {},
   "source": [
    "{/* cspell:ignore nfev */}\n",
    "\n",
    "# Variational quantum eigensolver\n",
    "*Usage estimate: 73 minutes on IBM Kyiv (NOTE: This is an estimate only. Your runtime may vary.)*"
   ]
  },
  {
   "cell_type": "markdown",
   "id": "916447f8",
   "metadata": {},
   "source": [
    "## Background\n",
    "\n",
    "[Variational quantum algorithms](https://arxiv.org/abs/2012.09265) are promising candidate hybrid-algorithms for observing quantum computation utility on noisy near-term devices. Variational algorithms are characterized by the use of a classical optimization algorithm to iteratively update a parameterized trial solution, or \"ansatz\". Chief among these methods is the Variational Quantum Eigensolver (VQE) that aims to solve for the ground state of a given Hamiltonian represented as a linear combination of Pauli terms, with an ansatz circuit where the number of parameters to optimize over is polynomial in the number of qubits.  Given that the size of the full solution vector is exponential in the number of qubits, successful minimization using VQE requires, in general, additional problem-specific information to define the structure of the ansatz circuit.\n",
    "\n",
    "\n",
    "Executing a VQE algorithm requires the following components:\n",
    "\n",
    "   1. Hamiltonian and ansatz (problem specification)\n",
    "   2. Qiskit Runtime estimator\n",
    "   3. Classical optimizer\n",
    "\n",
    "Although the Hamiltonian and ansatz require domain-specific knowledge to construct, these details are immaterial to the Runtime, and we can execute a wide class of VQE problems in the same manner."
   ]
  },
  {
   "cell_type": "markdown",
   "id": "55b94021",
   "metadata": {},
   "source": [
    "## Requirements\n",
    "\n",
    "Before starting this tutorial, ensure that you have the following installed:\n",
    "\n",
    "- Qiskit SDK 1.0 or later, with visualization support (`pip install 'qiskit[visualization]'`)\n",
    "- Qiskit Runtime 0.22 or later(`pip install qiskit-ibm-runtime`)"
   ]
  },
  {
   "attachments": {},
   "cell_type": "markdown",
   "id": "7db2e559",
   "metadata": {},
   "source": [
    "## Setup"
   ]
  },
  {
   "cell_type": "code",
   "execution_count": null,
   "id": "a0a48442",
   "metadata": {},
   "outputs": [],
   "source": [
    "import matplotlib.pyplot as plt\n",
    "import numpy as np\n",
    "from scipy.optimize import minimize\n",
    "\n",
    "from qiskit.circuit.library import efficient_su2\n",
    "from qiskit.quantum_info import SparsePauliOp\n",
    "from qiskit.transpiler.preset_passmanagers import generate_preset_pass_manager\n",
    "\n",
    "from qiskit_ibm_runtime import QiskitRuntimeService, Session\n",
    "from qiskit_ibm_runtime import EstimatorV2 as Estimator"
   ]
  },
  {
   "attachments": {},
   "cell_type": "markdown",
   "id": "988ee237",
   "metadata": {},
   "source": [
    "## Step 1: Map classical inputs to a quantum problem\n",
    "\n",
    "Although the problem instance in question for the VQE algorithm can come from a variety of domains, the form for execution through Qiskit Runtime is the same. Qiskit provides a convenience class for expressing Hamiltonians in Pauli form, and a collection of widely used ansatz circuits in the [`qiskit.circuit.library`](https://docs.quantum-computing.ibm.com/api/qiskit/circuit_library).\n",
    "\n",
    "This example Hamiltonian is derived from a quantum chemistry problem."
   ]
  },
  {
   "cell_type": "code",
   "execution_count": null,
   "id": "bc380c46",
   "metadata": {},
   "outputs": [],
   "source": [
    "# To run on hardware, select the backend with the fewest number of jobs in the queue\n",
    "service = QiskitRuntimeService()\n",
    "backend = service.least_busy(\n",
    "    operational=True, simulator=False, min_num_qubits=127\n",
    ")"
   ]
  },
  {
   "cell_type": "code",
   "execution_count": 3,
   "id": "0ad66539",
   "metadata": {},
   "outputs": [],
   "source": [
    "hamiltonian = SparsePauliOp.from_list(\n",
    "    [(\"YZ\", 0.3980), (\"ZI\", -0.3980), (\"ZZ\", -0.0113), (\"XX\", 0.1810)]\n",
    ")"
   ]
  },
  {
   "attachments": {},
   "cell_type": "markdown",
   "id": "acb83d48",
   "metadata": {},
   "source": [
    "Our choice of ansatz is the `efficient_su2` that, by default, linearly entangles qubits, making it ideal for quantum hardware with limited connectivity."
   ]
  },
  {
   "cell_type": "code",
   "execution_count": null,
   "id": "59bffe5e",
   "metadata": {},
   "outputs": [
    {
     "data": {
      "text/plain": [
       "<Image src=\"/docs/images/tutorials/variational-quantum-eigensolver/extracted-outputs/59bffe5e-0.avif\" alt=\"Output of the previous code cell\" />"
      ]
     },
     "execution_count": 4,
     "metadata": {},
     "output_type": "execute_result"
    }
   ],
   "source": [
    "ansatz = efficient_su2(hamiltonian.num_qubits)\n",
    "ansatz.decompose().draw(\"mpl\", style=\"iqp\")"
   ]
  },
  {
   "attachments": {},
   "cell_type": "markdown",
   "id": "5bd1f7da",
   "metadata": {},
   "source": [
    "From the previous figure we see that our ansatz circuit is defined by a vector of parameters, $\\theta_{i}$, with the total number given by:"
   ]
  },
  {
   "cell_type": "code",
   "execution_count": 5,
   "id": "aa325696",
   "metadata": {},
   "outputs": [
    {
     "data": {
      "text/plain": [
       "16"
      ]
     },
     "execution_count": 5,
     "metadata": {},
     "output_type": "execute_result"
    }
   ],
   "source": [
    "num_params = ansatz.num_parameters\n",
    "num_params"
   ]
  },
  {
   "cell_type": "markdown",
   "id": "ac6f36e3",
   "metadata": {},
   "source": [
    "## Step 2: Optimize problem for quantum hardware execution"
   ]
  },
  {
   "cell_type": "markdown",
   "id": "ed01c675-6506-4779-bf71-74f0de9212fb",
   "metadata": {},
   "source": [
    "To reduce the total job execution time, Qiskit primitives only accept circuits (ansatz) and observables (Hamiltonian) that conform to the instructions and connectivity supported by the target QPU (referred to as instruction set architecture (ISA) circuits and observables)."
   ]
  },
  {
   "cell_type": "markdown",
   "id": "3390069d-572c-472c-abb5-9cde12fd82a2",
   "metadata": {},
   "source": [
    "### ISA circuit"
   ]
  },
  {
   "cell_type": "markdown",
   "id": "ad6ddd99-b680-4ac4-b2d8-c0ac6266e6e8",
   "metadata": {},
   "source": [
    "Schedule a series of [`qiskit.transpiler`](https://docs.quantum-computing.ibm.com/api/qiskit/transpiler) passes to optimize the circuit for a selected backend and make it compatible with the backend's ISA. This can be easily done with a preset pass manager from `qiskit.transpiler` and its `optimization_level` parameter.\n",
    "\n",
    "The lowest optimization level does the minimum needed to get the circuit running on the device; it maps the circuit qubits to the device qubits and adds swap gates to allow all two-qubit operations. The highest optimization level is much smarter and uses lots of tricks to reduce the overall gate count. Since multi-qubit gates have high error rates and qubits decohere over time, the shorter circuits should give better results."
   ]
  },
  {
   "cell_type": "code",
   "execution_count": null,
   "id": "1834cb22",
   "metadata": {},
   "outputs": [],
   "source": [
    "target = backend.target\n",
    "pm = generate_preset_pass_manager(target=target, optimization_level=3)\n",
    "\n",
    "ansatz_isa = pm.run(ansatz)"
   ]
  },
  {
   "cell_type": "code",
   "execution_count": 7,
   "id": "20d9923c",
   "metadata": {},
   "outputs": [
    {
     "data": {
      "text/plain": [
       "<Image src=\"/docs/images/tutorials/variational-quantum-eigensolver/extracted-outputs/20d9923c-0.avif\" alt=\"Output of the previous code cell\" />"
      ]
     },
     "execution_count": 7,
     "metadata": {},
     "output_type": "execute_result"
    }
   ],
   "source": [
    "ansatz_isa.draw(output=\"mpl\", idle_wires=False, style=\"iqp\")"
   ]
  },
  {
   "cell_type": "markdown",
   "id": "aab9e309-d643-496f-ad4b-c90173102ad6",
   "metadata": {},
   "source": [
    "### ISA observable"
   ]
  },
  {
   "cell_type": "markdown",
   "id": "6c9e5dcd",
   "metadata": {},
   "source": [
    "Transform the Hamiltonian to make it backend-compatible before running jobs with [`Runtime Estimator V2`](/docs/api/qiskit-ibm-runtime/estimator-v2#run). Perform the transformation by using the `apply_layout` method of `SparsePauliOp` object."
   ]
  },
  {
   "cell_type": "code",
   "execution_count": 8,
   "id": "3451901c",
   "metadata": {},
   "outputs": [],
   "source": [
    "hamiltonian_isa = hamiltonian.apply_layout(layout=ansatz_isa.layout)"
   ]
  },
  {
   "attachments": {},
   "cell_type": "markdown",
   "id": "b4d480b3",
   "metadata": {},
   "source": [
    "## Step 3: Execute using Qiskit primitives\n",
    "\n",
    "Like many classical optimization problems, the solution to a VQE problem can be formulated as minimization of a scalar cost function.  By definition, VQE looks to find the ground state solution to a Hamiltonian by optimizing the ansatz circuit parameters to minimize the expectation value (energy) of the Hamiltonian.  With the Qiskit Runtime [`Estimator`](/docs/api/qiskit-ibm-runtime/estimator-v2) directly taking a Hamiltonian and parameterized ansatz, and returning the necessary energy, the cost function for a VQE instance is quite simple.\n",
    "\n",
    "Note that the `run()` method of [Qiskit Runtime `EstimatorV2`](/docs/api/qiskit-ibm-runtime/estimator-v2)  takes an iterable of `primitive unified blocs (PUBs)`. Each PUB is an iterable in the format `(circuit, observables, parameter_values: Optional, precision: Optional)`."
   ]
  },
  {
   "cell_type": "code",
   "execution_count": 9,
   "id": "b22a1b00",
   "metadata": {},
   "outputs": [],
   "source": [
    "def cost_func(params, ansatz, hamiltonian, estimator):\n",
    "    \"\"\"Return estimate of energy from estimator\n",
    "\n",
    "    Parameters:\n",
    "        params (ndarray): Array of ansatz parameters\n",
    "        ansatz (QuantumCircuit): Parameterized ansatz circuit\n",
    "        hamiltonian (SparsePauliOp): Operator representation of Hamiltonian\n",
    "        estimator (EstimatorV2): Estimator primitive instance\n",
    "        cost_history_dict: Dictionary for storing intermediate results\n",
    "\n",
    "    Returns:\n",
    "        float: Energy estimate\n",
    "    \"\"\"\n",
    "    pub = (ansatz, [hamiltonian], [params])\n",
    "    result = estimator.run(pubs=[pub]).result()\n",
    "    energy = result[0].data.evs[0]\n",
    "\n",
    "    cost_history_dict[\"iters\"] += 1\n",
    "    cost_history_dict[\"prev_vector\"] = params\n",
    "    cost_history_dict[\"cost_history\"].append(energy)\n",
    "    print(\n",
    "        f\"Iters. done: {cost_history_dict['iters']} [Current cost: {energy}]\"\n",
    "    )\n",
    "\n",
    "    return energy"
   ]
  },
  {
   "attachments": {},
   "cell_type": "markdown",
   "id": "179ba2c4",
   "metadata": {},
   "source": [
    "Note that, in addition to the array of optimization parameters that must be the first argument, we use additional arguments to pass the terms needed in the cost function. We also access a global variable called `cost_history_dict` within this function. This dictionary stores the current vector at each iteration, for example in case you need to restart the routine due to failure, and also returns the current iteration number and average time per iteration."
   ]
  },
  {
   "cell_type": "code",
   "execution_count": 10,
   "id": "a6bc1ade",
   "metadata": {},
   "outputs": [],
   "source": [
    "cost_history_dict = {\n",
    "    \"prev_vector\": None,\n",
    "    \"iters\": 0,\n",
    "    \"cost_history\": [],\n",
    "}"
   ]
  },
  {
   "cell_type": "markdown",
   "id": "e80ff7d9",
   "metadata": {},
   "source": [
    "We can now use a classical optimizer of our choice to minimize the cost function. Here, we use the [COBYLA routine from SciPy through the `minimize` function](https://docs.scipy.org/doc/scipy/reference/generated/scipy.optimize.minimize.html). Note that when running on real quantum hardware, the choice of optimizer is important, as not all optimizers handle noisy cost function landscapes equally well.\n",
    "\n",
    "To begin the routine, specify a random initial set of parameters:"
   ]
  },
  {
   "cell_type": "code",
   "execution_count": 11,
   "id": "d6b90cca",
   "metadata": {},
   "outputs": [],
   "source": [
    "x0 = 2 * np.pi * np.random.random(num_params)"
   ]
  },
  {
   "cell_type": "code",
   "execution_count": 12,
   "id": "d4587c1d-5d59-47aa-b36c-b6d07b5f84e4",
   "metadata": {},
   "outputs": [
    {
     "data": {
      "text/plain": [
       "array([2.51632747, 0.41779892, 5.85800259, 4.83749838, 3.20828874,\n",
       "       5.23058321, 0.23909191, 5.93347588, 0.98307886, 5.8564212 ,\n",
       "       3.41519817, 2.07444879, 0.7790487 , 0.72421971, 1.09848722,\n",
       "       3.31663941])"
      ]
     },
     "execution_count": 12,
     "metadata": {},
     "output_type": "execute_result"
    }
   ],
   "source": [
    "x0"
   ]
  },
  {
   "cell_type": "markdown",
   "id": "67d09ca9",
   "metadata": {},
   "source": [
    "Because we are sending a large number of jobs that we would like to execute iteratively, we use a [`Session`](https://docs.quantum-computing.ibm.com/api/qiskit-ibm-runtime/qiskit_ibm_runtime.Session) to execute all the generated circuits in one block.  Here `args` is the standard SciPy way to supply the additional parameters needed by the cost function."
   ]
  },
  {
   "cell_type": "code",
   "execution_count": 13,
   "id": "61a802d2-5c58-4495-a617-f15fabef367e",
   "metadata": {},
   "outputs": [
    {
     "name": "stdout",
     "output_type": "stream",
     "text": [
      "Iters. done: 1 [Current cost: -0.41297466987766457]\n",
      "Iters. done: 2 [Current cost: -0.4074417945791059]\n",
      "Iters. done: 3 [Current cost: -0.3547606824167446]\n",
      "Iters. done: 4 [Current cost: -0.28168907720107683]\n",
      "Iters. done: 5 [Current cost: -0.4578159863650208]\n",
      "Iters. done: 6 [Current cost: -0.3086594190935841]\n",
      "Iters. done: 7 [Current cost: -0.15483382641187454]\n",
      "Iters. done: 8 [Current cost: -0.5349854031388536]\n",
      "Iters. done: 9 [Current cost: -0.3895567829431972]\n",
      "Iters. done: 10 [Current cost: -0.4820250378135054]\n",
      "Iters. done: 11 [Current cost: -0.18395917730188865]\n",
      "Iters. done: 12 [Current cost: -0.5311791591751455]\n",
      "Iters. done: 13 [Current cost: -0.49602925858832053]\n",
      "Iters. done: 14 [Current cost: -0.3482916173440449]\n",
      "Iters. done: 15 [Current cost: -0.5668230348151325]\n",
      "Iters. done: 16 [Current cost: -0.521882967057639]\n",
      "Iters. done: 17 [Current cost: -0.26976382760304113]\n",
      "Iters. done: 18 [Current cost: -0.051127606468041646]\n",
      "Iters. done: 19 [Current cost: -0.5213490424900524]\n",
      "Iters. done: 20 [Current cost: -0.5519837695254404]\n",
      "Iters. done: 21 [Current cost: -0.5729754281424254]\n",
      "Iters. done: 22 [Current cost: -0.5369152381529558]\n",
      "Iters. done: 23 [Current cost: -0.54862310847568]\n",
      "Iters. done: 24 [Current cost: -0.5843821664926876]\n",
      "Iters. done: 25 [Current cost: -0.58018047409157]\n",
      "Iters. done: 26 [Current cost: -0.5153040139793709]\n",
      "Iters. done: 27 [Current cost: -0.5950601168931274]\n",
      "Iters. done: 28 [Current cost: -0.5919884877771185]\n",
      "Iters. done: 29 [Current cost: -0.6295788565552562]\n",
      "Iters. done: 30 [Current cost: -0.5909207781822071]\n",
      "Iters. done: 31 [Current cost: -0.6029330648206948]\n",
      "Iters. done: 32 [Current cost: -0.5731453720567535]\n",
      "Iters. done: 33 [Current cost: -0.6017005875653386]\n",
      "Iters. done: 34 [Current cost: -0.6061613567553928]\n",
      "Iters. done: 35 [Current cost: -0.5527009036762591]\n",
      "Iters. done: 36 [Current cost: -0.6174016810951264]\n",
      "Iters. done: 37 [Current cost: -0.5331013786620393]\n",
      "Iters. done: 38 [Current cost: -0.6174716771227629]\n",
      "Iters. done: 39 [Current cost: -0.5256692009209388]\n",
      "Iters. done: 40 [Current cost: -0.5936376314600634]\n",
      "Iters. done: 41 [Current cost: -0.6174496293908639]\n",
      "Iters. done: 42 [Current cost: -0.6415583284028612]\n",
      "Iters. done: 43 [Current cost: -0.6568655223778936]\n",
      "Iters. done: 44 [Current cost: -0.6252111792327242]\n",
      "Iters. done: 45 [Current cost: -0.6588010261150293]\n",
      "Iters. done: 46 [Current cost: -0.6031535817582718]\n",
      "Iters. done: 47 [Current cost: -0.6448573357168782]\n",
      "Iters. done: 48 [Current cost: -0.6314357577602281]\n",
      "Iters. done: 49 [Current cost: -0.6310360137350473]\n",
      "Iters. done: 50 [Current cost: -0.6311716934542182]\n",
      "Iters. done: 51 [Current cost: -0.6195122556941205]\n",
      "Iters. done: 52 [Current cost: -0.6052709851652176]\n",
      "Iters. done: 53 [Current cost: -0.6353235502797585]\n",
      "Iters. done: 54 [Current cost: -0.6172917549286481]\n",
      "Iters. done: 55 [Current cost: -0.6157291352122161]\n",
      "Iters. done: 56 [Current cost: -0.6250258800660834]\n",
      "Iters. done: 57 [Current cost: -0.6238737928804968]\n",
      "Iters. done: 58 [Current cost: -0.6331336376123765]\n",
      "Iters. done: 59 [Current cost: -0.6174795053010914]\n",
      "Iters. done: 60 [Current cost: -0.6286114171740883]\n",
      "Iters. done: 61 [Current cost: -0.6289541704111539]\n",
      "Iters. done: 62 [Current cost: -0.6214988287789815]\n",
      "Iters. done: 63 [Current cost: -0.6349088785327752]\n",
      "Iters. done: 64 [Current cost: -0.6434368257074341]\n",
      "Iters. done: 65 [Current cost: -0.6435758714276368]\n",
      "Iters. done: 66 [Current cost: -0.6392426194852974]\n",
      "Iters. done: 67 [Current cost: -0.6395388664428873]\n",
      "Iters. done: 68 [Current cost: -0.6288383465181286]\n",
      "Iters. done: 69 [Current cost: -0.6396744408945687]\n",
      "Iters. done: 70 [Current cost: -0.6313800275882947]\n",
      "Iters. done: 71 [Current cost: -0.6253344175379661]\n",
      "Iters. done: 72 [Current cost: -0.6157835899181318]\n",
      "Iters. done: 73 [Current cost: -0.6335140148162095]\n",
      "Iters. done: 74 [Current cost: -0.6314904503216308]\n",
      "Iters. done: 75 [Current cost: -0.6400032416620431]\n",
      "Iters. done: 76 [Current cost: -0.6467193690082172]\n",
      "Iters. done: 77 [Current cost: -0.6274062557744253]\n",
      "Iters. done: 78 [Current cost: -0.6382220718392321]\n",
      "Iters. done: 79 [Current cost: -0.6353720791573834]\n",
      "Iters. done: 80 [Current cost: -0.6559597232796966]\n",
      "Iters. done: 81 [Current cost: -0.6483482402979868]\n",
      "Iters. done: 82 [Current cost: -0.6362917844251428]\n",
      "Iters. done: 83 [Current cost: -0.638689906716738]\n",
      "Iters. done: 84 [Current cost: -0.6398683206762882]\n",
      "Iters. done: 85 [Current cost: -0.6411425890703265]\n",
      "Iters. done: 86 [Current cost: -0.6420124690404581]\n",
      "Iters. done: 87 [Current cost: -0.6361424203927645]\n",
      "Iters. done: 88 [Current cost: -0.6304230811374153]\n",
      "Iters. done: 89 [Current cost: -0.6460686380415002]\n",
      "Iters. done: 90 [Current cost: -0.6393627867774831]\n",
      "Iters. done: 91 [Current cost: -0.6353801863066766]\n",
      "Iters. done: 92 [Current cost: -0.6370827028067767]\n",
      "Iters. done: 93 [Current cost: -0.6367252584729324]\n",
      "Iters. done: 94 [Current cost: -0.6369091807759274]\n",
      "Iters. done: 95 [Current cost: -0.6358923615709814]\n",
      "Iters. done: 96 [Current cost: -0.6374055046408706]\n",
      "Iters. done: 97 [Current cost: -0.6449879432951772]\n",
      "Iters. done: 98 [Current cost: -0.646341931913156]\n",
      "Iters. done: 99 [Current cost: -0.6329474251488447]\n",
      "Iters. done: 100 [Current cost: -0.640483532296447]\n",
      "Iters. done: 101 [Current cost: -0.6387821271169515]\n",
      "Iters. done: 102 [Current cost: -0.6444401199777418]\n",
      "Iters. done: 103 [Current cost: -0.624905121027599]\n",
      "Iters. done: 104 [Current cost: -0.6254651227936383]\n",
      "Iters. done: 105 [Current cost: -0.6350106349636292]\n",
      "Iters. done: 106 [Current cost: -0.6452221411408458]\n",
      "Iters. done: 107 [Current cost: -0.6510959797011343]\n",
      "Iters. done: 108 [Current cost: -0.6335108244050601]\n",
      "Iters. done: 109 [Current cost: -0.6463731459675923]\n",
      "Iters. done: 110 [Current cost: -0.6453116341043271]\n",
      "Iters. done: 111 [Current cost: -0.6500434300085539]\n",
      "Iters. done: 112 [Current cost: -0.6498155030176934]\n",
      "Iters. done: 113 [Current cost: -0.6165876514864352]\n",
      "Iters. done: 114 [Current cost: -0.6379032301303812]\n",
      "Iters. done: 115 [Current cost: -0.6238652143915986]\n",
      "Iters. done: 116 [Current cost: -0.6303015369454892]\n",
      "Iters. done: 117 [Current cost: -0.6387276591694434]\n",
      "Iters. done: 118 [Current cost: -0.6216154977895596]\n",
      "Iters. done: 119 [Current cost: -0.6254429094384901]\n",
      "Iters. done: 120 [Current cost: -0.6244723070534346]\n",
      "Iters. done: 121 [Current cost: -0.6331274845209857]\n",
      "Iters. done: 122 [Current cost: -0.6320092007865726]\n",
      "Iters. done: 123 [Current cost: -0.6280195555442015]\n",
      "Iters. done: 124 [Current cost: -0.633118817842713]\n",
      "Iters. done: 125 [Current cost: -0.6545316861761059]\n",
      "Iters. done: 126 [Current cost: -0.6109521608105805]\n",
      "Iters. done: 127 [Current cost: -0.6413687240373942]\n",
      "Iters. done: 128 [Current cost: -0.6329171488537345]\n",
      "Iters. done: 129 [Current cost: -0.6508873536148351]\n",
      "Iters. done: 130 [Current cost: -0.6343396180590694]\n",
      "Iters. done: 131 [Current cost: -0.6453833725535618]\n",
      "Iters. done: 132 [Current cost: -0.6142726913357903]\n",
      "Iters. done: 133 [Current cost: -0.6209357951339112]\n",
      "Iters. done: 134 [Current cost: -0.6316232515088392]\n",
      "Iters. done: 135 [Current cost: -0.6534320416334607]\n",
      "Iters. done: 136 [Current cost: -0.6403781274445913]\n",
      "Iters. done: 137 [Current cost: -0.6472281981296323]\n",
      "Iters. done: 138 [Current cost: -0.6560563807840072]\n",
      "Iters. done: 139 [Current cost: -0.6381191598219642]\n",
      "Iters. done: 140 [Current cost: -0.635047673191689]\n",
      "Iters. done: 141 [Current cost: -0.6346354679202391]\n",
      "Iters. done: 142 [Current cost: -0.6426649674647372]\n",
      "Iters. done: 143 [Current cost: -0.643370774702743]\n",
      "Iters. done: 144 [Current cost: -0.6429365799217991]\n",
      "Iters. done: 145 [Current cost: -0.641164172799006]\n",
      "Iters. done: 146 [Current cost: -0.634701203143904]\n"
     ]
    }
   ],
   "source": [
    "with Session(backend=backend) as session:\n",
    "    estimator = Estimator(mode=session)\n",
    "    estimator.options.default_shots = 10000\n",
    "\n",
    "    res = minimize(\n",
    "        cost_func,\n",
    "        x0,\n",
    "        args=(ansatz_isa, hamiltonian_isa, estimator),\n",
    "        method=\"cobyla\",\n",
    "    )"
   ]
  },
  {
   "cell_type": "markdown",
   "id": "937f5a6e",
   "metadata": {},
   "source": [
    "At the terminus of this routine we have a result in the standard SciPy `OptimizeResult` format.  From this we see that it took `nfev` number of cost function evaluations to obtain the solution vector of parameter angles (`x`) that, when plugged into the ansatz circuit, yield the approximate ground state solution we were looking for."
   ]
  },
  {
   "cell_type": "code",
   "execution_count": 14,
   "id": "4e76845a-3fa0-4d12-86b5-de5b2bdee86c",
   "metadata": {},
   "outputs": [
    {
     "data": {
      "text/plain": [
       " message: Optimization terminated successfully.\n",
       " success: True\n",
       "  status: 1\n",
       "     fun: -0.634701203143904\n",
       "       x: [ 2.581e+00  4.153e-01 ...  1.070e+00  3.123e+00]\n",
       "    nfev: 146\n",
       "   maxcv: 0.0"
      ]
     },
     "execution_count": 14,
     "metadata": {},
     "output_type": "execute_result"
    }
   ],
   "source": [
    "res"
   ]
  },
  {
   "cell_type": "markdown",
   "id": "50b94af2",
   "metadata": {},
   "source": [
    "## Step 4: Post-process and return result in desired classical format"
   ]
  },
  {
   "attachments": {},
   "cell_type": "markdown",
   "id": "733431ad",
   "metadata": {},
   "source": [
    "If the procedure terminates correctly, then the `prev_vector` and `iters` values in our `cost_history_dict` dictionary should be equal to the solution vector and total number of function evaluations, respectively.  This is easy to verify:"
   ]
  },
  {
   "cell_type": "code",
   "execution_count": 15,
   "id": "31dc35ea-6554-4ca7-9c3b-0b5394c46e4e",
   "metadata": {},
   "outputs": [
    {
     "data": {
      "text/plain": [
       "True"
      ]
     },
     "execution_count": 15,
     "metadata": {},
     "output_type": "execute_result"
    }
   ],
   "source": [
    "all(cost_history_dict[\"prev_vector\"] == res.x)"
   ]
  },
  {
   "cell_type": "code",
   "execution_count": 16,
   "id": "a90d1664-1728-4a8a-bb11-03f15e3f5639",
   "metadata": {},
   "outputs": [
    {
     "data": {
      "text/plain": [
       "False"
      ]
     },
     "execution_count": 16,
     "metadata": {},
     "output_type": "execute_result"
    }
   ],
   "source": [
    "cost_history_dict[\"iters\"] == res.nfev"
   ]
  },
  {
   "attachments": {},
   "cell_type": "markdown",
   "id": "19459b48",
   "metadata": {},
   "source": [
    "We can also now view the progress toward convergence as monitored by the cost history at each iteration:"
   ]
  },
  {
   "cell_type": "code",
   "execution_count": 17,
   "id": "8501d609",
   "metadata": {},
   "outputs": [
    {
     "data": {
      "text/plain": [
       "<Image src=\"/docs/images/tutorials/variational-quantum-eigensolver/extracted-outputs/8501d609-0.avif\" alt=\"Output of the previous code cell\" />"
      ]
     },
     "metadata": {},
     "output_type": "display_data"
    }
   ],
   "source": [
    "fig, ax = plt.subplots()\n",
    "ax.plot(range(cost_history_dict[\"iters\"]), cost_history_dict[\"cost_history\"])\n",
    "ax.set_xlabel(\"Iterations\")\n",
    "ax.set_ylabel(\"Cost\")\n",
    "plt.draw()"
   ]
  },
  {
   "cell_type": "markdown",
   "id": "d2958e37",
   "metadata": {},
   "source": [
    "## Tutorial survey\n",
    "\n",
    "Please take one minute to provide feedback on this tutorial. Your insights will help us improve our content offerings and user experience.\n",
    "\n",
    "[Link to survey](https://your.feedback.ibm.com/jfe/form/SV_9AizRyKFHEGzVs2)"
   ]
  },
  {
   "cell_type": "markdown",
   "id": "0376aa88",
   "metadata": {},
   "source": [
    "© IBM Corp., 2024, 2025"
   ]
  }
 ],
 "metadata": {
  "description": "Variational quantum algorithms are hybrid-algorithms for observing the utility of quantum computation on noisy, near-term IBM Quantum systems.",
  "kernelspec": {
   "display_name": "Python 3",
   "language": "python",
   "name": "python3"
  },
  "language_info": {
   "codemirror_mode": {
    "name": "ipython",
    "version": 3
   },
   "file_extension": ".py",
   "mimetype": "text/x-python",
   "name": "python",
   "nbconvert_exporter": "python",
   "pygments_lexer": "ipython3",
   "version": "3"
  },
  "platform": "cloud",
  "title": "Variational quantum eigensolver"
 },
 "nbformat": 4,
 "nbformat_minor": 5
}
