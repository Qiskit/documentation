{
 "cells": [
  {
   "cell_type": "markdown",
   "id": "2abbf9e4",
   "metadata": {},
   "source": [
    "{/* cspell:ignore eigenphase topk ylab boxstyle fontsize */}\n",
    "\n",
    "# Quantum Phase Estimation with Q-CTRL's Qiskit Functions"
   ]
  },
  {
   "cell_type": "markdown",
   "id": "4170a8f8",
   "metadata": {},
   "source": [
    "*Usage estimate: 40 seconds on a Heron r2 processor. (NOTE: This is an estimate only. Your runtime may vary.)*"
   ]
  },
  {
   "cell_type": "markdown",
   "id": "b2f4a24e",
   "metadata": {},
   "source": [
    "## Background\n",
    "Quantum Phase Estimation (QPE) is a foundational algorithm in quantum computing that forms the basis of many important applications such as Shor’s algorithm, quantum chemistry ground-state energy estimation, and eigenvalue problems.  QPE estimates the phase $\\varphi$ associated with an eigenstate of a unitary operator, encoded in the relation\n",
    "\n",
    "$$ U \\lvert \\varphi \\rangle = e^{2\\pi i \\varphi} \\lvert \\varphi \\rangle, $$\n",
    "\n",
    "and determines it to a precision of $\\epsilon = O(1/2^m)$ using $m$ counting qubits. By preparing these qubits in superposition, applying controlled powers of $U$, and then using the inverse Quantum Fourier Transform (QFT) to extract the phase into binary-encoded measurement outcomes, QPE produces a probability distribution peaked at bitstrings whose binary fractions approximate $\\varphi$. In the ideal case, the most likely measurement outcome directly corresponds to the binary expansion of the phase, while the probability of other outcomes decreases rapidly with the number of counting qubits. However, running deep QPE circuits on hardware presents challenges: the large number of qubits and entangling operations make the algorithm highly sensitive to decoherence and gate errors. This results in broadened and shifted distributions of bitstrings, masking the true eigenphase. As a consequence, the bitstring with the highest probability may no longer correspond to the correct binary expansion of  $\\varphi$.\n",
    "\n",
    "In this tutorial, we present an implementation of the QPE algorithm using Q-CTRL's Fire Opal error suppression and performance management tools, offered as a Qiskit Function (see the [Fire Opal documentation](/docs/guides/q-ctrl-performance-management)). Fire Opal automatically applies advanced optimizations, including dynamical decoupling, qubit layout improvements, and error suppression techniques, resulting in higher-fidelity outcomes. These improvements bring hardware bitstring distributions closer to those obtained in noiseless simulations, so that you can reliably identify the correct eigenphase even under the effects of noise."
   ]
  },
  {
   "cell_type": "markdown",
   "id": "5019f20e",
   "metadata": {},
   "source": [
    "## Requirements\n",
    "\n",
    "Before starting this tutorial, be sure you have the following installed:\n",
    "- Qiskit SDK v1.4 or later, with visualization support ( `pip install 'qiskit[visualization]'` )\n",
    "- Qiskit Runtime v0.40 or later (`pip install qiskit-ibm-runtime`)\n",
    "- Qiskit Functions Catalog v0.9.0 (`pip install qiskit-ibm-catalog`)\n",
    "- Fire Opal SDK v9.0.2 or later (`pip install fire-opal`)\n",
    "- Q-CTRL Visualizer v8.0.2 or later (`pip install qctrl-visualizer`)"
   ]
  },
  {
   "cell_type": "markdown",
   "id": "360f9871",
   "metadata": {},
   "source": [
    "## Setup"
   ]
  },
  {
   "cell_type": "markdown",
   "id": "46eddb0f",
   "metadata": {},
   "source": [
    "First, authenticate using your [IBM Quantum API key](http://quantum.cloud.ibm.com/). Then, select the Qiskit Function as follows. (This code assumes you've already [saved your account](/docs/guides/functions#install-qiskit-functions-catalog-client) to your local environment.)"
   ]
  },
  {
   "cell_type": "code",
   "execution_count": 5,
   "id": "39896f05",
   "metadata": {},
   "outputs": [],
   "source": [
    "from qiskit import QuantumCircuit\n",
    "\n",
    "import numpy as np\n",
    "import matplotlib.pyplot as plt\n",
    "import qiskit\n",
    "from qiskit import qasm2\n",
    "from qiskit_aer import AerSimulator\n",
    "from qiskit_ibm_runtime import QiskitRuntimeService\n",
    "from qiskit_ibm_runtime import SamplerV2 as Sampler\n",
    "from qiskit.transpiler.preset_passmanagers import generate_preset_pass_manager\n",
    "import qctrlvisualizer as qv\n",
    "from qiskit_ibm_catalog import QiskitFunctionsCatalog\n",
    "\n",
    "plt.style.use(qv.get_qctrl_style())"
   ]
  },
  {
   "cell_type": "code",
   "execution_count": null,
   "id": "9abf8775",
   "metadata": {},
   "outputs": [],
   "source": [
    "catalog = QiskitFunctionsCatalog(channel=\"ibm_quantum_platform\")\n",
    "\n",
    "# Access Function\n",
    "perf_mgmt = catalog.load(\"q-ctrl/performance-management\")"
   ]
  },
  {
   "cell_type": "markdown",
   "id": "6337a6c2",
   "metadata": {},
   "source": [
    "## Step 1: Map classical inputs to a quantum problem\n",
    "\n",
    "We begin by defining the building blocks QPE needed to implement Quantum Phase Estimation. These include the Quantum Fourier Transform (QFT) and its inverse, which translate phase information into measurable bitstrings, along with utility functions to convert between decimal and binary fractions of the target eigenphase. Additional helpers are provided to normalize raw counts into probabilities and reformat distributions, enabling direct comparison between simulation and hardware results."
   ]
  },
  {
   "cell_type": "code",
   "execution_count": 7,
   "id": "4c5cd3d4",
   "metadata": {},
   "outputs": [],
   "source": [
    "def inverse_quantum_fourier_transform(quantum_circuit, number_of_qubits):\n",
    "    \"\"\"\n",
    "    Apply an inverse Quantum Fourier Transform the first `number_of_qubits` qubits in the\n",
    "    `quantum_circuit`.\n",
    "    \"\"\"\n",
    "    for qubit in range(number_of_qubits // 2):\n",
    "        quantum_circuit.swap(qubit, number_of_qubits - qubit - 1)\n",
    "    for j in range(number_of_qubits):\n",
    "        for m in range(j):\n",
    "            quantum_circuit.cp(-np.pi / float(2 ** (j - m)), m, j)\n",
    "        quantum_circuit.h(j)\n",
    "    return quantum_circuit"
   ]
  },
  {
   "cell_type": "code",
   "execution_count": 8,
   "id": "6d56f133",
   "metadata": {},
   "outputs": [],
   "source": [
    "def bitstring_count_to_probabilities(data, shot_count):\n",
    "    \"\"\"\n",
    "    This function turns an unsorted dictionary of bitstring counts into a sorted dictionary\n",
    "    of probabilities.\n",
    "    \"\"\"\n",
    "    # Turn the bitstring counts into probabilities.\n",
    "    probabilities = {\n",
    "        bitstring: bitstring_count / shot_count\n",
    "        for bitstring, bitstring_count in data.items()\n",
    "    }\n",
    "\n",
    "    sorted_probabilities = dict(\n",
    "        sorted(probabilities.items(), key=lambda x: x[1], reverse=True)\n",
    "    )\n",
    "\n",
    "    return sorted_probabilities"
   ]
  },
  {
   "cell_type": "markdown",
   "id": "d33b21fd",
   "metadata": {},
   "source": [
    "## Step 2: Optimize problem for quantum hardware execution\n",
    "\n",
    "We build the QPE circuit by preparing the counting qubits in superposition, applying controlled phase rotations to encode the target eigenphase, and finishing with an inverse QFT before measurement."
   ]
  },
  {
   "cell_type": "code",
   "execution_count": 9,
   "id": "79d62a79",
   "metadata": {},
   "outputs": [],
   "source": [
    "def quantum_phase_estimation_benchmark_circuit(\n",
    "    number_of_counting_qubits, phase\n",
    "):\n",
    "    \"\"\"\n",
    "    Create the circuit for quantum phase estimation.\n",
    "\n",
    "    Parameters\n",
    "    ----------\n",
    "    number_of_counting_qubits : The number of qubits in the circuit.\n",
    "    phase : The desired phase.\n",
    "\n",
    "    Returns\n",
    "    -------\n",
    "    QuantumCircuit\n",
    "        The quantum phase estimation circuit for `number_of_counting_qubits` qubits.\n",
    "    \"\"\"\n",
    "    qc = QuantumCircuit(\n",
    "        number_of_counting_qubits + 1, number_of_counting_qubits\n",
    "    )\n",
    "    target = number_of_counting_qubits\n",
    "\n",
    "    # |1> eigenstate for the single-qubit phase gate\n",
    "    qc.x(target)\n",
    "\n",
    "    # Hadamards on counting register\n",
    "    for q in range(number_of_counting_qubits):\n",
    "        qc.h(q)\n",
    "\n",
    "    # ONE controlled phase per counting qubit: cp(phase * 2**k)\n",
    "    for k in range(number_of_counting_qubits):\n",
    "        qc.cp(phase * (1 << k), k, target)\n",
    "\n",
    "    qc.barrier()\n",
    "\n",
    "    # Inverse QFT on counting register\n",
    "    inverse_quantum_fourier_transform(qc, number_of_counting_qubits)\n",
    "\n",
    "    qc.barrier()\n",
    "    for q in range(number_of_counting_qubits):\n",
    "        qc.measure(q, q)\n",
    "    return qc"
   ]
  },
  {
   "cell_type": "markdown",
   "id": "0e550ad5",
   "metadata": {},
   "source": [
    "## Step 3: Execute using Qiskit primitives\n",
    "\n",
    "We set the number of shots and qubits for the experiment, and encode the target phase $\\varphi = 1/6$ using $m$ binary digits. With these parameters, we build the QPE circuit that will be executed on simulation, default hardware, and Fire Opal–enhanced backends."
   ]
  },
  {
   "cell_type": "code",
   "execution_count": 10,
   "id": "19e6dd45",
   "metadata": {},
   "outputs": [],
   "source": [
    "shot_count = 10000\n",
    "num_qubits = 35\n",
    "phase = (1 / 6) * 2 * np.pi\n",
    "circuits_quantum_phase_estimation = (\n",
    "    quantum_phase_estimation_benchmark_circuit(\n",
    "        number_of_counting_qubits=num_qubits, phase=phase\n",
    "    )\n",
    ")"
   ]
  },
  {
   "cell_type": "markdown",
   "id": "6c53f759",
   "metadata": {},
   "source": [
    "### Run MPS simulation\n",
    "First, we generate a reference distribution using the `matrix_product_state` simulator and convert the counts into normalized probabilities for later comparison with hardware results."
   ]
  },
  {
   "cell_type": "code",
   "execution_count": 11,
   "id": "1fabc3a2",
   "metadata": {},
   "outputs": [],
   "source": [
    "# Run the algorithm on the IBM Aer simulator.\n",
    "aer_simulator = AerSimulator(method=\"matrix_product_state\")\n",
    "\n",
    "# Transpile the circuits for the simulator.\n",
    "transpiled_circuits = qiskit.transpile(\n",
    "    circuits_quantum_phase_estimation, aer_simulator\n",
    ")"
   ]
  },
  {
   "cell_type": "code",
   "execution_count": 12,
   "id": "99eca1f1",
   "metadata": {},
   "outputs": [],
   "source": [
    "simulated_result = (\n",
    "    aer_simulator.run(transpiled_circuits, shots=shot_count)\n",
    "    .result()\n",
    "    .get_counts()\n",
    ")"
   ]
  },
  {
   "cell_type": "code",
   "execution_count": 13,
   "id": "263624e9",
   "metadata": {},
   "outputs": [],
   "source": [
    "simulated_result_probabilities = []\n",
    "\n",
    "simulated_result_probabilities.append(\n",
    "    bitstring_count_to_probabilities(\n",
    "        simulated_result,\n",
    "        shot_count=shot_count,\n",
    "    )\n",
    ")"
   ]
  },
  {
   "cell_type": "markdown",
   "id": "df203619",
   "metadata": {},
   "source": [
    "### Run on hardware"
   ]
  },
  {
   "cell_type": "code",
   "execution_count": null,
   "id": "41bf548b",
   "metadata": {},
   "outputs": [],
   "source": [
    "service = QiskitRuntimeService()\n",
    "backend = service.backend(\"ibm_kingston\")\n",
    "\n",
    "pm = generate_preset_pass_manager(backend=backend, optimization_level=3)\n",
    "isa_circuits = pm.run(circuits_quantum_phase_estimation)"
   ]
  },
  {
   "cell_type": "code",
   "execution_count": 15,
   "id": "b2bdb8b8",
   "metadata": {},
   "outputs": [],
   "source": [
    "# Run the algorithm with IBM default.\n",
    "sampler = Sampler(backend)\n",
    "\n",
    "# Run all circuits using Qiskit Runtime.\n",
    "ibm_default_job = sampler.run([isa_circuits], shots=shot_count)"
   ]
  },
  {
   "cell_type": "markdown",
   "id": "945967d0",
   "metadata": {},
   "source": [
    "### Run on hardware with Fire Opal"
   ]
  },
  {
   "cell_type": "code",
   "execution_count": 17,
   "id": "ca892a3c",
   "metadata": {},
   "outputs": [],
   "source": [
    "# Run the circuit using the sampler\n",
    "fire_opal_job = perf_mgmt.run(\n",
    "    primitive=\"sampler\",\n",
    "    pubs=[qasm2.dumps(circuits_quantum_phase_estimation)],\n",
    "    backend_name=\"ibm_kingston\",\n",
    "    options={\"default_shots\": shot_count},\n",
    ")"
   ]
  },
  {
   "cell_type": "markdown",
   "id": "000a119c",
   "metadata": {},
   "source": [
    "## Step 4: Post-process and return result in desired classical format"
   ]
  },
  {
   "cell_type": "code",
   "execution_count": null,
   "id": "dff71917",
   "metadata": {},
   "outputs": [],
   "source": [
    "# Retrieve results.\n",
    "ibm_default_result = ibm_default_job.result()\n",
    "ibm_default_probabilities = []\n",
    "\n",
    "for idx, pub_result in enumerate(ibm_default_result):\n",
    "    ibm_default_probabilities.append(\n",
    "        bitstring_count_to_probabilities(\n",
    "            pub_result.data.c0.get_counts(),\n",
    "            shot_count=shot_count,\n",
    "        )\n",
    "    )"
   ]
  },
  {
   "cell_type": "code",
   "execution_count": null,
   "id": "be4e50e5",
   "metadata": {},
   "outputs": [],
   "source": [
    "fire_opal_result = fire_opal_job.result()\n",
    "\n",
    "fire_opal_probabilities = []\n",
    "for idx, pub_result in enumerate(fire_opal_result):\n",
    "    fire_opal_probabilities.append(\n",
    "        bitstring_count_to_probabilities(\n",
    "            pub_result.data.c0.get_counts(),\n",
    "            shot_count=shot_count,\n",
    "        )\n",
    "    )"
   ]
  },
  {
   "cell_type": "code",
   "execution_count": 16,
   "id": "c0134366",
   "metadata": {},
   "outputs": [],
   "source": [
    "data = {\n",
    "    \"simulation\": simulated_result_probabilities,\n",
    "    \"default\": ibm_default_probabilities,\n",
    "    \"fire_opal\": fire_opal_probabilities,\n",
    "}"
   ]
  },
  {
   "cell_type": "code",
   "execution_count": 21,
   "id": "a6dc6744",
   "metadata": {},
   "outputs": [],
   "source": [
    "def plot_distributions(\n",
    "    data,\n",
    "    number_of_counting_qubits,\n",
    "    top_k=None,\n",
    "    by=\"prob\",\n",
    "    shot_count=None,\n",
    "):\n",
    "    def nrm(d):\n",
    "        s = sum(d.values())\n",
    "        return {k: (v / s if s else 0.0) for k, v in d.items()}\n",
    "\n",
    "    def as_float(d):\n",
    "        return {k: float(v) for k, v in d.items()}\n",
    "\n",
    "    def to_space(d):\n",
    "        if by == \"prob\":\n",
    "            return nrm(as_float(d))\n",
    "        else:\n",
    "            if shot_count and 0.99 <= sum(d.values()) <= 1.01:\n",
    "                return {\n",
    "                    k: v * float(shot_count) for k, v in as_float(d).items()\n",
    "                }\n",
    "            else:\n",
    "                return as_float(d)\n",
    "\n",
    "    def topk(d, k):\n",
    "        items = sorted(d.items(), key=lambda kv: kv[1], reverse=True)\n",
    "        return items[: (k or len(d))]\n",
    "\n",
    "    phase = \"1/6\"\n",
    "\n",
    "    sim = to_space(data[\"simulation\"])\n",
    "    dft = to_space(data[\"default\"])\n",
    "    qct = to_space(data[\"fire_opal\"])\n",
    "\n",
    "    correct = max(sim, key=sim.get) if sim else None\n",
    "    print(\"Correct result:\", correct)\n",
    "\n",
    "    sim_items = topk(sim, top_k)\n",
    "    dft_items = topk(dft, top_k)\n",
    "    qct_items = topk(qct, top_k)\n",
    "\n",
    "    sim_keys, y_sim = zip(*sim_items) if sim_items else ([], [])\n",
    "    dft_keys, y_dft = zip(*dft_items) if dft_items else ([], [])\n",
    "    qct_keys, y_qct = zip(*qct_items) if qct_items else ([], [])\n",
    "\n",
    "    fig, axes = plt.subplots(3, 1, layout=\"constrained\")\n",
    "    ylab = \"Probabilities\"\n",
    "\n",
    "    def panel(ax, keys, ys, title, color):\n",
    "        x = np.arange(len(keys))\n",
    "        bars = ax.bar(x, ys, color=color)\n",
    "        ax.set_title(title)\n",
    "        ax.set_ylabel(ylab)\n",
    "        ax.set_xticks(x)\n",
    "        ax.set_xticklabels(keys, rotation=90)\n",
    "        ax.set_xlabel(\"Bitstrings\")\n",
    "        if correct in keys:\n",
    "            i = keys.index(correct)\n",
    "            bars[i].set_edgecolor(\"black\")\n",
    "            bars[i].set_linewidth(2)\n",
    "        return max(ys, default=0.0)\n",
    "\n",
    "    c_sim, c_dft, c_qct = (\n",
    "        qv.QCTRL_STYLE_COLORS[5],\n",
    "        qv.QCTRL_STYLE_COLORS[1],\n",
    "        qv.QCTRL_STYLE_COLORS[0],\n",
    "    )\n",
    "    m1 = panel(axes[0], list(sim_keys), list(y_sim), \"Simulation\", c_sim)\n",
    "    m2 = panel(axes[1], list(dft_keys), list(y_dft), \"Default\", c_dft)\n",
    "    m3 = panel(axes[2], list(qct_keys), list(y_qct), \"Q-CTRL\", c_qct)\n",
    "\n",
    "    for ax, m in zip(axes, (m1, m2, m3)):\n",
    "        ax.set_ylim(0, 1.05 * (m or 1.0))\n",
    "\n",
    "    for ax in axes:\n",
    "        ax.label_outer()\n",
    "    fig.suptitle(\n",
    "        rf\"{number_of_counting_qubits} counting qubits, $2\\pi\\varphi$={phase}\"\n",
    "    )\n",
    "    fig.set_size_inches(20, 10)\n",
    "    plt.show()"
   ]
  },
  {
   "cell_type": "code",
   "execution_count": 22,
   "id": "593334d2",
   "metadata": {},
   "outputs": [
    {
     "name": "stdout",
     "output_type": "stream",
     "text": [
      "Correct result: 00101010101010101010101010101010101\n"
     ]
    },
    {
     "data": {
      "text/plain": [
       "<Image src=\"/docs/images/tutorials/quantum-phase-estimation-qctrl/extracted-outputs/593334d2-1.avif\" alt=\"Output of the previous code cell\" />"
      ]
     },
     "metadata": {},
     "output_type": "display_data"
    }
   ],
   "source": [
    "experiment_index = 0\n",
    "phase_index = 0\n",
    "\n",
    "distributions = {\n",
    "    \"simulation\": data[\"simulation\"][phase_index],\n",
    "    \"default\": data[\"default\"][phase_index],\n",
    "    \"fire_opal\": data[\"fire_opal\"][phase_index],\n",
    "}\n",
    "\n",
    "plot_distributions(\n",
    "    distributions, num_qubits, top_k=100, by=\"prob\", shot_count=shot_count\n",
    ")"
   ]
  },
  {
   "cell_type": "markdown",
   "id": "4760c8b9",
   "metadata": {},
   "source": [
    "## Tutorial survey\n",
    "\n",
    "Please take a minute to provide feedback on this tutorial. Your insights will help us improve our content offerings and user experience.\n",
    "\n",
    "[Link to survey](https://your.feedback.ibm.com/jfe/form/SV_3BLFkNVEuh0QBWm)"
   ]
  }
 ],
 "metadata": {
  "description": "Implement Quantum Phase Estimation algorithm on 35 qubits using Q-CTRL Qiskit function",
  "kernelspec": {
   "display_name": "Python 3",
   "language": "python",
   "name": "python3"
  },
  "language_info": {
   "codemirror_mode": {
    "name": "ipython",
    "version": 3
   },
   "file_extension": ".py",
   "mimetype": "text/x-python",
   "name": "python",
   "nbconvert_exporter": "python",
   "pygments_lexer": "ipython3",
   "version": "3"
  },
  "title": "Quantum Phase Estimation with Q-CTRL's Qiskit Functions"
 },
 "nbformat": 4,
 "nbformat_minor": 5
}
