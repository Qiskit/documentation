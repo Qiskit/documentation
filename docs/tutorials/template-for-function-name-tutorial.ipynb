{
 "cells": [
  {
   "cell_type": "markdown",
   "id": "b6d1e3ec",
   "metadata": {},
   "source": [
    "# Title\n",
    "> Replace the word 'Title' with the actual tutorial title. Create a brief title. The naming should be related to the *workflow* only and not the tools."
   ]
  },
  {
   "attachments": {},
   "cell_type": "markdown",
   "id": "a6f69b77",
   "metadata": {},
   "source": [
    "*Usage estimate: \"x\" minutes on processor_name. (NOTE: This is an estimate only. Your runtime may vary.)*\n",
    "> Replace the \"x\" minutes with the actual minute it took to run the code\n",
    "> Replace processor_name with the processor type of the QPU you used (bird name) to run the tutorial."
   ]
  },
  {
   "cell_type": "markdown",
   "id": "8bf80006",
   "metadata": {},
   "source": [
    "## Background\n",
    "> Provide a short descriptive introduction (three to four sentences) to the tutorial. Give as many details as possible to introduce users to the topic (with accompanying references). The introduction should do the following:\n",
    "> * Explain clearly what the rationale for this tutorial is, what will this enable users to do, and how.\n",
    "> * Describe the technology, algorithms, and/or functions the tutorial will cover."
   ]
  },
  {
   "cell_type": "markdown",
   "id": "55b94021",
   "metadata": {},
   "source": [
    "## Requirements\n",
    "> List the technology/tools required to be able to run the tutorial, as well as Python code instructions to install the package or tool.\n",
    "> Example:\n",
    "> \"Before starting this tutorial, be sure you have the following installed:\n",
    ">- Qiskit SDK v1.0 or later, with visualization support ( `pip install 'qiskit[visualization]'` )\""
   ]
  },
  {
   "attachments": {},
   "cell_type": "markdown",
   "id": "7db2e559",
   "metadata": {},
   "source": [
    "## Setup\n",
    "Share the code instructions to import the tools/functions required to run the tutorial."
   ]
  },
  {
   "cell_type": "code",
   "execution_count": null,
   "id": "bc380c46",
   "metadata": {},
   "outputs": [],
   "source": [
    "import qiskit\n",
    "from qiskit_ibm_runtime import QiskitRuntimeService\n",
    "\n",
    "\n",
    "def function(argument):\n",
    "    \"\"\"Define your functions in this cell\"\"\"\n",
    "    qc = qiskit.QuantumCircuit(argument)\n",
    "    return qc\n",
    "\n",
    "\n",
    "backend = QiskitRuntimeService.least_busy()"
   ]
  },
  {
   "attachments": {},
   "cell_type": "markdown",
   "id": "988ee237",
   "metadata": {},
   "source": [
    "## Step 1: Map classical inputs to a quantum problem"
   ]
  },
  {
   "cell_type": "markdown",
   "id": "ac6f36e3",
   "metadata": {},
   "source": [
    "## Step 2: Optimize problem for quantum hardware execution"
   ]
  },
  {
   "attachments": {},
   "cell_type": "markdown",
   "id": "b4d480b3",
   "metadata": {},
   "source": [
    "## Step 3: Execute using Qiskit primitives"
   ]
  },
  {
   "cell_type": "markdown",
   "id": "50b94af2",
   "metadata": {},
   "source": [
    "## Step 4: Post-process and return result in desired classical format"
   ]
  },
  {
   "cell_type": "markdown",
   "id": "66aa2387",
   "metadata": {},
   "source": [
    "## Appendix: appendix name if any"
   ]
  },
  {
   "cell_type": "markdown",
   "id": "56da023c",
   "metadata": {},
   "source": [
    "> Add any theoretical details that are needed to understand the material"
   ]
  },
  {
   "cell_type": "markdown",
   "id": "ee41a301",
   "metadata": {},
   "source": [
    "## References\n",
    "> For the References code to work as a link on the platform and include the bracket symbols, it needs to be written as follows in the notebooks:\n",
    ">[\\[1\\]](#references)\n",
    ">Otherwise, if coded as '[x]', it will be displayed as 'x' and unlinked on the learning platform.\n",
    "\n",
    "\n",
    "[\\[1\\]](#Reference1)\n",
    "\n",
    "[\\[2\\]](#Reference2)"
   ]
  },
  {
   "cell_type": "markdown",
   "id": "2cb5785c",
   "metadata": {},
   "source": [
    "## Tutorial survey\n",
    "\n",
    "Please take a minute to provide feedback on this tutorial. Your insights will help us improve our content offerings and user experience.\n",
    "\n",
    "[Link to survey](https://your.feedback.ibm.com/jfe/form/SV_3BLFkNVEuh0QBWm)"
   ]
  }
 ],
 "metadata": {
  "description": "TODO - description for SEO between 50 and 160 characters",
  "kernelspec": {
   "display_name": "Python 3",
   "language": "python",
   "name": "python3"
  },
  "language_info": {
   "codemirror_mode": {
    "name": "ipython",
    "version": 3
   },
   "file_extension": ".py",
   "mimetype": "text/x-python",
   "name": "python",
   "nbconvert_exporter": "python",
   "pygments_lexer": "ipython3",
   "version": "3"
  },
  "title": "TODO - The title of your tutorial"
 },
 "nbformat": 4,
 "nbformat_minor": 5
}
