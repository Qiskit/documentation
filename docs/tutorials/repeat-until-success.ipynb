{
 "cells": [
  {
   "attachments": {},
   "cell_type": "markdown",
   "id": "9c61ddc9-40fd-483b-ae77-5b7fa16a443d",
   "metadata": {
    "tags": []
   },
   "source": [
    "# Repeat until success\n",
    "*Usage estimate: under 1 minute on IBM Canberra (NOTE: This is an estimate only. Your runtime may vary.)*"
   ]
  },
  {
   "cell_type": "markdown",
   "id": "40eee790",
   "metadata": {},
   "source": [
    "## Background\n",
    "\n",
    "This tutorial demonstrates how certain IBM Quantum&trade; systems (those that support dynamic circuits) use mid-circuit measurements to produce a circuit that repeatedly attempts its setup until a syndrome measurement reveals that it has been successful.\n",
    "\n",
    "Build an abstract circuit that uses the non-parameterized gate set $\\{H,\\,X,\\,S,\\,\\text{Toffoli}\\}$ to construct a heralded $R_X(\\theta)$ gate on a target qubit, where $\\theta$ satisfies $\\cos\\theta = \\frac35$. Each iteration of the circuit has a finite chance of success, but because successes are heralded, dynamic circuit capabilities are used to repeat the setup until it succeeds."
   ]
  },
  {
   "cell_type": "markdown",
   "id": "647d3926",
   "metadata": {},
   "source": [
    "## Requirements\n",
    "\n",
    "Before starting this tutorial, ensure that you have the following installed:\n",
    "\n",
    "- Qiskit SDK v1.0 or later, with visualization support ( `pip install 'qiskit[visualization]'` )\n",
    "- Qiskit Runtime 0.22 or later (`pip install qiskit-ibm-runtime`)"
   ]
  },
  {
   "cell_type": "markdown",
   "id": "55385186",
   "metadata": {},
   "source": [
    "## Setup"
   ]
  },
  {
   "cell_type": "code",
   "execution_count": null,
   "id": "6c16e3f5",
   "metadata": {},
   "outputs": [],
   "source": [
    "from collections import defaultdict\n",
    "\n",
    "# Qiskit imports\n",
    "from qiskit import QuantumCircuit, QuantumRegister, ClassicalRegister\n",
    "from qiskit.transpiler.preset_passmanagers import generate_preset_pass_manager\n",
    "\n",
    "# Qiskit Runtime\n",
    "from qiskit_ibm_runtime import SamplerV2 as Sampler\n",
    "from qiskit_ibm_runtime import QiskitRuntimeService"
   ]
  },
  {
   "cell_type": "markdown",
   "id": "d485fdad",
   "metadata": {},
   "source": [
    "## Step 1: Map classical inputs to a quantum problem"
   ]
  },
  {
   "attachments": {},
   "cell_type": "markdown",
   "id": "8d35680a-6538-4932-baf7-6f3ca6de91e7",
   "metadata": {},
   "source": [
    "A single trial of the probabilistic gate has the following form:"
   ]
  },
  {
   "cell_type": "code",
   "execution_count": 2,
   "id": "a86e5455",
   "metadata": {},
   "outputs": [],
   "source": [
    "controls = QuantumRegister(2, name=\"control\")\n",
    "target = QuantumRegister(1, name=\"target\")\n",
    "\n",
    "mid_measure = ClassicalRegister(2, name=\"mid\")\n",
    "final_measure = ClassicalRegister(1, name=\"final\")\n",
    "\n",
    "circuit = QuantumCircuit(controls, target, mid_measure, final_measure)"
   ]
  },
  {
   "cell_type": "code",
   "execution_count": 3,
   "id": "c40b6af4-ae9c-49c1-b03a-78ef374c7280",
   "metadata": {},
   "outputs": [
    {
     "data": {
      "text/plain": [
       "<Image src=\"/docs/images/tutorials/repeat-until-success/extracted-outputs/c40b6af4-ae9c-49c1-b03a-78ef374c7280-0.svg\" alt=\"Output of the previous code cell\" />"
      ]
     },
     "execution_count": 3,
     "metadata": {},
     "output_type": "execute_result"
    }
   ],
   "source": [
    "def trial(circuit, target, controls, measures):\n",
    "    \"\"\"Probabilistically perform an Rx gate for an\n",
    "    angle that is an irrational multiple of pi.\"\"\"\n",
    "    circuit.h(target)\n",
    "    circuit.h(controls)\n",
    "    circuit.ccx(*controls, target)\n",
    "    circuit.s(target)\n",
    "    circuit.ccx(*controls, target)\n",
    "    circuit.h(controls)\n",
    "    circuit.h(target)\n",
    "    circuit.measure(controls, measures)\n",
    "\n",
    "\n",
    "trial(circuit, target, controls, mid_measure)\n",
    "circuit.draw(output=\"mpl\", style=\"iqp\", cregbundle=False)"
   ]
  },
  {
   "attachments": {},
   "cell_type": "markdown",
   "id": "87e96cf7-68b9-4822-a559-85cfa01eef90",
   "metadata": {},
   "source": [
    "If _both_ control bit measurements return $0$, the gate $R_X(\\theta)$ with $\\cos\\theta = \\frac35$ is applied.  If any of the measurements are $1$, gate $X$ is applied, which is a failure.  This is the heralding; you can tell from the measurement whether the correct gate was applied, without disturbing the coherence of the target qubit.  Without fully reproducing the mathematics, the success probability of this gate is:\n",
    "$$\n",
    "P_{\\text{success}} = \\frac{\n",
    "{|3 + i|}^2\n",
    "}\n",
    "{\n",
    "{|3 + i|}^2 + 3{|1 - i|}^2\n",
    "}\n",
    "= \\frac58\n",
    "$$\n",
    "\n",
    "If there is a failure, reset the \"dirty\" state and start again.  Because you know what is applied in the case of a failure, you can use this knowledge to perform the reset efficiently without using a general hardware reset.  For the two auxiliary qubits, this is an $X$ gate conditioned on its respective measurement being $1$.  IBM&reg; hardware has a special fast path for when qubits are conditioned on the result of their own measurement, so this is more efficient than most control flows."
   ]
  },
  {
   "cell_type": "code",
   "execution_count": 4,
   "id": "4d5ec413-0c18-4684-b29e-d2f60ee941be",
   "metadata": {},
   "outputs": [],
   "source": [
    "def reset_controls(circuit, controls, measures):\n",
    "    \"\"\"Reset the controlling qubits if they are in |1>.\"\"\"\n",
    "    with circuit.if_test((measures[0], True)):\n",
    "        circuit.x(controls[0])\n",
    "    with circuit.if_test((measures[1], True)):\n",
    "        circuit.x(controls[1])"
   ]
  },
  {
   "attachments": {},
   "cell_type": "markdown",
   "id": "4f6d46fe-5eb7-4e57-83c0-a8c13ab4d67a",
   "metadata": {},
   "source": [
    "Qiskit cannot directly represent an inequality condition, which is required for this exercise. You only need to repeat if the mid-circuit measurement result was not the bitstring `\"00\"`.  Instead, you can use an `if` statement with the condition `mid_measure == \"00\"`, pass an empty block, and then use the `else` branch to perform the necessary logic."
   ]
  },
  {
   "cell_type": "code",
   "execution_count": 5,
   "id": "bf4a7dd4-f24b-4612-915e-771ac02b37cb",
   "metadata": {},
   "outputs": [
    {
     "data": {
      "text/plain": [
       "<Image src=\"/docs/images/tutorials/repeat-until-success/extracted-outputs/bf4a7dd4-f24b-4612-915e-771ac02b37cb-0.svg\" alt=\"Output of the previous code cell\" />"
      ]
     },
     "execution_count": 5,
     "metadata": {},
     "output_type": "execute_result"
    }
   ],
   "source": [
    "max_trials = 2\n",
    "\n",
    "# Manually add the rest of the trials.  In the future, you can\n",
    "# use a dynamic `while` loop to do this, but for now,\n",
    "# statically add each loop iteration with a manual condition check\n",
    "# on each one.  This involves more classical synchronizations than\n",
    "# the while loop, but will suffice for now.\n",
    "for _ in range(max_trials - 1):\n",
    "    reset_controls(circuit, controls, mid_measure)\n",
    "    with circuit.if_test((mid_measure, 0b00)) as else_:\n",
    "        # This is the success path, but Qiskit can't directly\n",
    "        # represent a negative condition yet, so we have an\n",
    "        # empty `true` block in order to use the `else` branch.\n",
    "        pass\n",
    "    with else_:\n",
    "        # First reset the target.\n",
    "        circuit.x(target)\n",
    "        # Then repeat the trial.\n",
    "        trial(circuit, target, controls, mid_measure)\n",
    "\n",
    "# Measure the control qubits again to ensure you\n",
    "# get their final results; this is a hardware limitation.\n",
    "circuit.measure(controls, mid_measure)\n",
    "\n",
    "# Finally, measure the target, to check that you're\n",
    "# getting the desired rotation.\n",
    "circuit.measure(target, final_measure)\n",
    "\n",
    "circuit.draw(output=\"mpl\", style=\"iqp\", cregbundle=False)"
   ]
  },
  {
   "cell_type": "markdown",
   "id": "fe4b2b3b",
   "metadata": {},
   "source": [
    "## Step 2: Optimize problem for quantum hardware execution\n",
    "\n",
    "To reduce the total job execution time, V2 primitives only accept circuits and observables that conform to the instructions and connectivity supported by the target system (referred to as instruction set architecture (ISA) circuits and observables)."
   ]
  },
  {
   "cell_type": "markdown",
   "id": "47d3c339",
   "metadata": {},
   "source": [
    "### Convert to ISA input"
   ]
  },
  {
   "cell_type": "code",
   "execution_count": 9,
   "id": "b8ad7e40-fd87-49e8-9c21-6ef285adea79",
   "metadata": {},
   "outputs": [
    {
     "name": "stdout",
     "output_type": "stream",
     "text": [
      ">>> Connected to ibm_cairo backend.\n"
     ]
    }
   ],
   "source": [
    "# To run on hardware, select the backend with the fewest number of jobs in the queue\n",
    "\n",
    "service = QiskitRuntimeService()\n",
    "backend = service.least_busy(operational=True, simulator=False)\n",
    "print(f\">>> Connected to {backend.name} backend.\")"
   ]
  },
  {
   "cell_type": "code",
   "execution_count": null,
   "id": "15956b9b",
   "metadata": {},
   "outputs": [
    {
     "data": {
      "text/plain": [
       "<Image src=\"/docs/images/tutorials/repeat-until-success/extracted-outputs/15956b9b-0.svg\" alt=\"Output of the previous code cell\" />"
      ]
     },
     "execution_count": 10,
     "metadata": {},
     "output_type": "execute_result"
    }
   ],
   "source": [
    "# Circuits must obey the ISA of a particular backend.\n",
    "pm = generate_preset_pass_manager(backend=backend, optimization_level=1)\n",
    "isa_circuit = pm.run(circuit)\n",
    "\n",
    "isa_circuit.draw(\n",
    "    output=\"mpl\", style=\"iqp\", idle_wires=False, cregbundle=False\n",
    ")"
   ]
  },
  {
   "cell_type": "markdown",
   "id": "296e450e",
   "metadata": {},
   "source": [
    "## Step 3: Execute using Qiskit primitives"
   ]
  },
  {
   "cell_type": "code",
   "execution_count": 11,
   "id": "5217697f",
   "metadata": {},
   "outputs": [
    {
     "data": {
      "text/plain": [
       "'cs29tes965y000852sb0'"
      ]
     },
     "execution_count": 11,
     "metadata": {},
     "output_type": "execute_result"
    }
   ],
   "source": [
    "sampler = Sampler(backend)\n",
    "job = sampler.run([isa_circuit])\n",
    "job.job_id()"
   ]
  },
  {
   "cell_type": "code",
   "execution_count": 12,
   "id": "313c7ef1-75b6-4ee5-8cc0-fd760c177329",
   "metadata": {
    "tags": []
   },
   "outputs": [
    {
     "name": "stdout",
     "output_type": "stream",
     "text": [
      ">>> Hardware counts for mid: {'10': 480, '00': 2852, '11': 313, '01': 451}\n",
      ">>> Hardware counts for final: {'1': 1590, '0': 2506}\n"
     ]
    }
   ],
   "source": [
    "hardware_counts = job.result()[0]\n",
    "\n",
    "data_mid = job.result()[0].data.mid\n",
    "data_final = job.result()[0].data.final\n",
    "\n",
    "print(f\">>> Hardware counts for mid: {data_mid.get_counts()}\")\n",
    "print(f\">>> Hardware counts for final: {data_final.get_counts()}\")"
   ]
  },
  {
   "cell_type": "code",
   "execution_count": null,
   "id": "0529dc0b",
   "metadata": {},
   "outputs": [
    {
     "name": "stdout",
     "output_type": "stream",
     "text": [
      ">>> Hardware merged data: {'10-1': 224, '00-1': 971, '10-0': 256, '11-1': 198, '00-0': 1881, '11-0': 115, '01-0': 254, '01-1': 197}\n"
     ]
    }
   ],
   "source": [
    "merged_data = defaultdict(int)\n",
    "for bs1, bs2 in zip(data_mid.get_bitstrings(), data_final.get_bitstrings()):\n",
    "    merged_data[f\"{bs1}-{bs2}\"] += 1\n",
    "\n",
    "print(f\">>> Hardware merged data: {dict(merged_data)}\")"
   ]
  },
  {
   "cell_type": "markdown",
   "id": "cedfc099",
   "metadata": {},
   "source": [
    "## Step 4: Post-process and return result in desired classical format"
   ]
  },
  {
   "attachments": {},
   "cell_type": "markdown",
   "id": "f63d48c1-6f79-4491-bb45-36e57595b967",
   "metadata": {},
   "source": [
    "A successful result is one in which the measurements on the two controls end in the `00` state.  You can filter those and count how many successes occurred.  This is a type of post-selection.  In the complete repeat-until-success circuit with a dynamic `while` loop, this would not be necessary, as you would be guaranteed a success.  However, in the interim, you can use the probabilities to examine the quality of the output and verify that the probabilities are as expected."
   ]
  },
  {
   "cell_type": "code",
   "execution_count": 14,
   "id": "4df57085-ccfe-4b4a-89fc-e8ceabb3e304",
   "metadata": {},
   "outputs": [],
   "source": [
    "def marginalize_successes(counts):\n",
    "    \"\"\"Split the full output `counts` dictionary\n",
    "    into two separate dictionaries, marginalizing\n",
    "    the results to leave only the target qubit's\n",
    "    state.\"\"\"\n",
    "    successes = defaultdict(int)\n",
    "    failures = defaultdict(int)\n",
    "\n",
    "    for key, value in counts.items():\n",
    "        if key.startswith(\"00\"):\n",
    "            successes[key[-1]] += value\n",
    "        else:\n",
    "            failures[key[-1]] += value\n",
    "\n",
    "    return successes, failures"
   ]
  },
  {
   "cell_type": "code",
   "execution_count": 15,
   "id": "ea866662-c967-4ed6-a10b-952ec0f1b09d",
   "metadata": {},
   "outputs": [
    {
     "name": "stdout",
     "output_type": "stream",
     "text": [
      "Expected success rate 0.859.  Actual rate 0.696.\n"
     ]
    }
   ],
   "source": [
    "hw_successes, hw_failures = marginalize_successes(merged_data)\n",
    "\n",
    "expected_successes = 1 - (1 - 5 / 8) ** max_trials\n",
    "actual_successes = sum(hw_successes.values()) / sum(merged_data.values())\n",
    "print(\n",
    "    f\"Expected success rate {expected_successes:5.3f}.  Actual rate {actual_successes:5.3f}.\"\n",
    ")"
   ]
  },
  {
   "attachments": {},
   "cell_type": "markdown",
   "id": "b343b72b-7ffb-4ec3-9125-c1995516b688",
   "metadata": {},
   "source": [
    "We can also test the post-selected output state:"
   ]
  },
  {
   "cell_type": "code",
   "execution_count": 16,
   "id": "ab1bfa7d-3574-4f77-8720-17ef009efabd",
   "metadata": {},
   "outputs": [
    {
     "name": "stdout",
     "output_type": "stream",
     "text": [
      "Expected |1> probability: 0.2.  Actual probability 0.340.\n"
     ]
    }
   ],
   "source": [
    "actual_probability = hw_successes[\"1\"] / sum(hw_successes.values())\n",
    "print(\n",
    "    f\"Expected |1> probability: 0.2.  Actual probability {actual_probability:5.3f}.\"\n",
    ")"
   ]
  },
  {
   "cell_type": "markdown",
   "id": "ea9d05eb",
   "metadata": {},
   "source": [
    "## Tutorial survey\n",
    "\n",
    "Please take one minute to provide feedback on this tutorial. Your insights will help us improve our content offerings and user experience.\n",
    "\n",
    "[Link to survey](https://your.feedback.ibm.com/jfe/form/SV_ey6R0YeJKXV9JZk)"
   ]
  },
  {
   "cell_type": "markdown",
   "id": "525a0935",
   "metadata": {},
   "source": [
    "© IBM Corp. 2024"
   ]
  }
 ],
 "metadata": {
  "description": "This tutorial demonstrates IBM dynamic-circuits to use mid-circuit measurements to produce a circuit that repeats until a successful syndrome measurement.",
  "kernelspec": {
   "display_name": "Python 3",
   "language": "python",
   "name": "python3"
  },
  "language_info": {
   "codemirror_mode": {
    "name": "ipython",
    "version": 3
   },
   "file_extension": ".py",
   "mimetype": "text/x-python",
   "name": "python",
   "nbconvert_exporter": "python",
   "pygments_lexer": "ipython3",
   "version": "3"
  },
  "platform": "cloud",
  "title": "Repeat until success",
  "vscode": {
   "interpreter": {
    "hash": "31f2aee4e71d21fbe5cf8b01ff0e069b9275f58929596ceb00d14d90e3e16cd6"
   }
  }
 },
 "nbformat": 4,
 "nbformat_minor": 5
}
