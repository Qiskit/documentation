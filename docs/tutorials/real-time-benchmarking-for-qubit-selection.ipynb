{
 "cells": [
  {
   "cell_type": "markdown",
   "id": "f69d5853-e815-4754-894d-833017217572",
   "metadata": {},
   "source": [
    "# Real-time benchmarking for qubit selection\n",
    "*Usage estimate: 4 minutes on IBM Cusco (NOTE: This is an estimate only. Your runtime may vary.)*"
   ]
  },
  {
   "cell_type": "code",
   "execution_count": null,
   "id": "2797ee64-644f-40c9-8327-094867333a69",
   "metadata": {
    "tags": [
     "remove-cell"
    ]
   },
   "outputs": [],
   "source": [
    "# This cell is hidden from users – it disables some lint rules\n",
    "# ruff: noqa: E722"
   ]
  },
  {
   "cell_type": "markdown",
   "id": "500dc8c9-a5d8-4ef1-932f-30e400d6bdde",
   "metadata": {},
   "source": [
    "## Background\n",
    "This tutorial shows how to run real-time characterization experiments and update backend properties to improve qubit selection when mapping a circuit to the physical qubits on a QPU. You will learn the basic characterization experiments that are used to determine properties of the QPU, how to do them in Qiskit, and how to update the properties saved in the backend object representing the QPU based on these experiments.\n",
    "\n",
    "The QPU-reported properties are updated once a day, but the system may drift faster than the time between updates. This can affect the reliability of the qubit selection routines in the `Layout` stage of the pass manager, as they'd be using reported properties that don't represent the present state of the QPU. For this reason, it may be worth devoting some QPU time to characterization experiments, which can then be used to update the QPU properties used by the `Layout` routine."
   ]
  },
  {
   "cell_type": "markdown",
   "id": "0babd413-d91f-4fd7-a0f5-bb46ae0bbf5b",
   "metadata": {},
   "source": [
    "## Requirements\n",
    "Before starting this tutorial, be sure you have the following installed:\n",
    "\n",
    "- Qiskit SDK v1.0 or later, with visualization support ( `pip install 'qiskit[visualization]'` )\n",
    "- Qiskit Runtime 0.29 or later ( `pip install qiskit-ibm-runtime` )\n",
    "- Qiskit Experiments 0.7 or later ( `pip install qiskit-experiments` )\n",
    "- Rustworkx graph library (`pip install rustworkx`)"
   ]
  },
  {
   "cell_type": "markdown",
   "id": "3df52d5f-806a-4846-849e-633706a96d0b",
   "metadata": {},
   "source": [
    "## Setup"
   ]
  },
  {
   "cell_type": "code",
   "execution_count": 1,
   "id": "4766c18a-ba45-456b-8b78-6b6f1d214586",
   "metadata": {},
   "outputs": [],
   "source": [
    "from qiskit_ibm_runtime import SamplerV2\n",
    "from qiskit.transpiler import generate_preset_pass_manager\n",
    "from qiskit.quantum_info import hellinger_fidelity\n",
    "from qiskit.transpiler import InstructionProperties\n",
    "\n",
    "\n",
    "from qiskit_experiments.library import (\n",
    "    T1,\n",
    "    T2Hahn,\n",
    "    LocalReadoutError,\n",
    "    StandardRB,\n",
    ")\n",
    "from qiskit_experiments.framework import BatchExperiment, ParallelExperiment\n",
    "\n",
    "from qiskit_ibm_runtime import QiskitRuntimeService\n",
    "from qiskit_ibm_runtime import Session\n",
    "\n",
    "from datetime import datetime\n",
    "from collections import defaultdict\n",
    "import numpy as np\n",
    "import rustworkx\n",
    "import matplotlib.pyplot as plt\n",
    "import copy"
   ]
  },
  {
   "cell_type": "markdown",
   "id": "65d49ed2-0581-486e-9031-a08fa9bace92",
   "metadata": {},
   "source": [
    "## Step 1: Map classical inputs to a quantum problem\n",
    "\n",
    "To benchmark the difference in performance, we consider a circuit that prepares a Bell state across a linear chain of varying length. The fidelity of the Bell state at the ends of the chain is measured."
   ]
  },
  {
   "cell_type": "markdown",
   "id": "16948f21-a39b-4444-bf02-5f81331825c4",
   "metadata": {},
   "source": [
    "### Setting up backend and coupling map"
   ]
  },
  {
   "cell_type": "code",
   "execution_count": null,
   "id": "f968acca-9131-4f5d-aa74-70befcdda4f5",
   "metadata": {},
   "outputs": [],
   "source": [
    "# To run on hardware, select the backend with the fewest number of jobs in the queue\n",
    "service = QiskitRuntimeService()\n",
    "backend = service.least_busy(\n",
    "    operational=True, simulator=False, min_num_qubits=127\n",
    ")\n",
    "\n",
    "qubits = list(range(backend.num_qubits))"
   ]
  },
  {
   "cell_type": "code",
   "execution_count": 3,
   "id": "62b36ded-ab4e-414e-b146-ff522786a871",
   "metadata": {},
   "outputs": [],
   "source": [
    "coupling_graph = backend.coupling_map.graph.to_undirected(multigraph=False)\n",
    "\n",
    "# Get unidirectional coupling map\n",
    "one_dir_coupling_map = coupling_graph.edge_list()\n",
    "\n",
    "# Get layered coupling map\n",
    "edge_coloring = rustworkx.graph_bipartite_edge_color(coupling_graph)\n",
    "layered_coupling_map = defaultdict(list)\n",
    "for edge_idx, color in edge_coloring.items():\n",
    "    layered_coupling_map[color].append(\n",
    "        coupling_graph.get_edge_endpoints_by_index(edge_idx)\n",
    "    )\n",
    "layered_coupling_map = [\n",
    "    sorted(layered_coupling_map[i])\n",
    "    for i in sorted(layered_coupling_map.keys())\n",
    "]\n",
    "\n",
    "flattened_layered_coupling_map = []\n",
    "for layer in layered_coupling_map:\n",
    "    flattened_layered_coupling_map += layer"
   ]
  },
  {
   "cell_type": "markdown",
   "id": "875117af-8a2c-4aea-92d9-ffeee7ff37d5",
   "metadata": {},
   "source": [
    "### Characterization experiments\n",
    "\n",
    "A series of experiments is used to characterize the main properties of the qubits in a QPU. These are $T_1$, $T_2$, readout error, and single-qubit and two-qubit gate error. We'll briefly summarize what these properties are and refer to experiments in the [`qiskit-experiments`](https://qiskit-community.github.io/qiskit-experiments/index.html) package that are used to characterize them.\n",
    "\n",
    "#### T1\n",
    "$T_1$ is the characteristic time it takes for an excited qubit to fall to the ground state due to amplitude-damping decoherence processes. In a [$T_1$ experiment](https://qiskit-community.github.io/qiskit-experiments/manuals/characterization/t1.html), we measure an excited qubit after a delay. The larger the delay time is, the more\n",
    "likely is the qubit to fall to the ground state. The goal of the\n",
    "experiment is to characterize the decay rate of the qubit towards the\n",
    "ground state.\n",
    "\n",
    "#### T2\n",
    "$T_2$ represents the amount of time required for a single qubit's Bloch\n",
    "vector projection on the XY plane to fall to approximately 37% ($\\frac{1}{e}$) of\n",
    "its initial amplitude due to dephasing decoherence processes. In a [$T_2$ Hahn Echo experiment](https://qiskit-community.github.io/qiskit-experiments/manuals/characterization/t2hahn.html), we can estimate the rate of this decay.\n",
    "\n",
    "#### State preparation and measurement (SPAM) error characterization\n",
    "In a [SPAM-error characterization experiment](https://qiskit-community.github.io/qiskit-experiments/manuals/measurement/readout_mitigation.html) qubit are prepared in a certain state ($\\vert 0 \\rangle$ or $\\vert 1 \\rangle$) and measured. The probability of measuring a state different than the one prepared then gives the probability of the error.\n",
    "\n",
    "#### Single-qubit and two-qubit randomized benchmarking\n",
    "[Randomized benchmarking](https://qiskit-community.github.io/qiskit-experiments/manuals/verification/randomized_benchmarking.html) is a popular protocol for characterizing the error rate of\n",
    "quantum processors. An RB experiment consists of the generation of random Clifford\n",
    "circuits on the given qubits such that the unitary computed by the circuits is the\n",
    "identity. After running the circuits, the number of shots resulting in an error (i.e. an output different from the ground state) are counted, and from this data one can infer error estimates for the quantum device, by calculating the Error Per Clifford."
   ]
  },
  {
   "cell_type": "code",
   "execution_count": 4,
   "id": "9d57c42d-7a91-4e79-bc6c-6e579da929f8",
   "metadata": {},
   "outputs": [],
   "source": [
    "# Create T1 experiments on all qubit in parallel\n",
    "t1_exp = ParallelExperiment(\n",
    "    [\n",
    "        T1(\n",
    "            physical_qubits=[qubit],\n",
    "            delays=np.linspace(\n",
    "                1e-6, 2 * backend.properties().t1(qubit), 5, endpoint=True\n",
    "            ),\n",
    "        )\n",
    "        for qubit in qubits\n",
    "    ],\n",
    "    backend,\n",
    "    analysis=None,\n",
    ")\n",
    "\n",
    "# Create T2-Hahn experiments on all qubit in parallel\n",
    "t2_exp = ParallelExperiment(\n",
    "    [\n",
    "        T2Hahn(\n",
    "            physical_qubits=[qubit],\n",
    "            delays=np.linspace(\n",
    "                1e-6, 2 * backend.properties().t2(qubit), 5, endpoint=True\n",
    "            ),\n",
    "        )\n",
    "        for qubit in qubits\n",
    "    ],\n",
    "    backend,\n",
    "    analysis=None,\n",
    ")\n",
    "\n",
    "# Create readout experiments on all qubit in parallel\n",
    "readout_exp = LocalReadoutError(qubits)\n",
    "\n",
    "# Create single-qubit RB experiments on all qubit in parallel\n",
    "singleq_rb_exp = ParallelExperiment(\n",
    "    [\n",
    "        StandardRB(\n",
    "            physical_qubits=[qubit], lengths=[10, 100, 500], num_samples=10\n",
    "        )\n",
    "        for qubit in qubits\n",
    "    ],\n",
    "    backend,\n",
    "    analysis=None,\n",
    ")\n",
    "\n",
    "# Create two-qubit RB experiments on the three layers of disjoint edges of the heavy-hex\n",
    "twoq_rb_exp_batched = BatchExperiment(\n",
    "    [\n",
    "        ParallelExperiment(\n",
    "            [\n",
    "                StandardRB(\n",
    "                    physical_qubits=pair,\n",
    "                    lengths=[10, 50, 100],\n",
    "                    num_samples=10,\n",
    "                )\n",
    "                for pair in layer\n",
    "            ],\n",
    "            backend,\n",
    "            analysis=None,\n",
    "        )\n",
    "        for layer in layered_coupling_map\n",
    "    ],\n",
    "    backend,\n",
    "    flatten_results=True,\n",
    "    analysis=None,\n",
    ")"
   ]
  },
  {
   "cell_type": "markdown",
   "id": "cad4f8d3-c2d5-4bb5-92be-432a4573e14a",
   "metadata": {},
   "source": [
    "### QPU properties over time\n",
    "Looking at the reported QPU properties over time (we'll consider a single week below), we see how these can fluctuate on a scale of a single day. Small fluctuations can happen even within a day. In this scenario, the reported properties (updated once per day) will not accurately capture the current status of the QPU. Moreover, if a job is transpiled locally (using current reported properties) and submitted but executed only at a later time (minutes or days), it may run the risk of having used outdated properties for qubit selection in the transpilation step. This highlights the importance of having updated information about the QPU at execution time. First, let's retrieve the properties over a certain time range."
   ]
  },
  {
   "cell_type": "code",
   "execution_count": 4,
   "id": "af1b6722-e77b-436a-bbcd-f272b95bb28c",
   "metadata": {},
   "outputs": [],
   "source": [
    "errors_list = []\n",
    "for day_idx in range(10, 17):\n",
    "    calibrations_time = datetime(\n",
    "        year=2024, month=10, day=day_idx, hour=0, minute=0, second=0\n",
    "    )\n",
    "    targer_hist = backend.target_history(datetime=calibrations_time)\n",
    "\n",
    "    t1_dict, t2_dict = {}, {}\n",
    "    for qubit in range(targer_hist.num_qubits):\n",
    "        t1_dict[qubit] = targer_hist.qubit_properties[qubit].t1\n",
    "        t2_dict[qubit] = targer_hist.qubit_properties[qubit].t2\n",
    "\n",
    "    errors_dict = {\n",
    "        \"1q\": targer_hist[\"sx\"],\n",
    "        \"2q\": targer_hist[\"ecr\"],\n",
    "        \"spam\": targer_hist[\"measure\"],\n",
    "        \"t1\": t1_dict,\n",
    "        \"t2\": t2_dict,\n",
    "    }\n",
    "\n",
    "    errors_list.append(errors_dict)"
   ]
  },
  {
   "cell_type": "markdown",
   "id": "ac75df1b-f689-475c-94a2-d70d85b1f8ca",
   "metadata": {},
   "source": [
    "Then, let's plot the values"
   ]
  },
  {
   "cell_type": "code",
   "execution_count": 6,
   "id": "e0ba509d-e0e0-438b-aedf-5e01919c7d4f",
   "metadata": {},
   "outputs": [
    {
     "data": {
      "text/plain": [
       "<Image src=\"/docs/images/tutorials/real-time-benchmarking-for-qubit-selection/extracted-outputs/e0ba509d-e0e0-438b-aedf-5e01919c7d4f-0.avif\" alt=\"Output of the previous code cell\" />"
      ]
     },
     "metadata": {},
     "output_type": "display_data"
    }
   ],
   "source": [
    "fig, axs = plt.subplots(5, 1, figsize=(10, 20), sharex=False)\n",
    "\n",
    "\n",
    "# Plot for T1 values\n",
    "for qubit in range(targer_hist.num_qubits):\n",
    "    t1s = []\n",
    "    for errors_dict in errors_list:\n",
    "        t1_dict = errors_dict[\"t1\"]\n",
    "        t1s.append(t1_dict[qubit] / 1e-6)\n",
    "\n",
    "    axs[0].plot(t1s)\n",
    "\n",
    "axs[0].set_title(\"T1\")\n",
    "axs[0].set_ylabel(r\"Time ($\\mu s$)\")\n",
    "axs[0].set_xlabel(\"Days\")\n",
    "\n",
    "# Plot for T2 values\n",
    "for qubit in range(targer_hist.num_qubits):\n",
    "    t2s = []\n",
    "    for errors_dict in errors_list:\n",
    "        t2_dict = errors_dict[\"t2\"]\n",
    "        t2s.append(t2_dict[qubit] / 1e-6)\n",
    "\n",
    "    axs[1].plot(t2s)\n",
    "\n",
    "axs[1].set_title(\"T2\")\n",
    "axs[1].set_ylabel(r\"Time ($\\mu s$)\")\n",
    "axs[1].set_xlabel(\"Days\")\n",
    "\n",
    "# Plot SPAM values\n",
    "for qubit in range(targer_hist.num_qubits):\n",
    "    spams = []\n",
    "    for errors_dict in errors_list:\n",
    "        spam_dict = errors_dict[\"spam\"]\n",
    "        spams.append(spam_dict[tuple([qubit])].error)\n",
    "\n",
    "    axs[2].plot(spams)\n",
    "\n",
    "axs[2].set_title(\"SPAM Errors\")\n",
    "axs[2].set_ylabel(\"Error Rate\")\n",
    "axs[2].set_xlabel(\"Days\")\n",
    "\n",
    "# Plot 1Q Gate Errors\n",
    "for qubit in range(targer_hist.num_qubits):\n",
    "    oneq_gates = []\n",
    "    for errors_dict in errors_list:\n",
    "        oneq_gate_dict = errors_dict[\"1q\"]\n",
    "        oneq_gates.append(oneq_gate_dict[tuple([qubit])].error)\n",
    "\n",
    "    axs[3].plot(oneq_gates)\n",
    "\n",
    "axs[3].set_title(\"1Q Gate Errors\")\n",
    "axs[3].set_ylabel(\"Error Rate\")\n",
    "axs[3].set_xlabel(\"Days\")\n",
    "\n",
    "# Plot 2Q Gate Errors\n",
    "for pair in one_dir_coupling_map:\n",
    "    twoq_gates = []\n",
    "    for errors_dict in errors_list:\n",
    "        twoq_gate_dict = errors_dict[\"2q\"]\n",
    "        twoq_gates.append(twoq_gate_dict[pair].error)\n",
    "\n",
    "    axs[4].plot(twoq_gates)\n",
    "\n",
    "axs[4].set_title(\"2Q Gate Errors\")\n",
    "axs[4].set_ylabel(\"Error Rate\")\n",
    "axs[4].set_xlabel(\"Days\")\n",
    "\n",
    "plt.subplots_adjust(hspace=0.5)\n",
    "plt.show()"
   ]
  },
  {
   "cell_type": "markdown",
   "id": "a3343934-9273-457c-900b-2004b3aa9d0c",
   "metadata": {},
   "source": [
    "You can see that over several days some of the qubit properties can change considerably. This highlights the importance of having fresh information of the QPU status, to be able to select the best performing qubits for an experiment."
   ]
  },
  {
   "cell_type": "code",
   "execution_count": 5,
   "id": "95571eca-02ba-4452-816a-c04822675be8",
   "metadata": {},
   "outputs": [
    {
     "data": {
      "text/plain": [
       "<Image src=\"/docs/images/tutorials/real-time-benchmarking-for-qubit-selection/extracted-outputs/95571eca-02ba-4452-816a-c04822675be8-0.avif\" alt=\"Output of the previous code cell\" />"
      ]
     },
     "execution_count": 5,
     "metadata": {},
     "output_type": "execute_result"
    }
   ],
   "source": [
    "from qiskit import QuantumCircuit\n",
    "\n",
    "ideal_dist = {\"00\": 0.5, \"11\": 0.5}\n",
    "\n",
    "num_qubits_list = [10, 20, 30, 40, 50, 60, 70, 80, 90, 100, 110, 120, 127]\n",
    "circuits = []\n",
    "for num_qubits in num_qubits_list:\n",
    "    circuit = QuantumCircuit(num_qubits, 2)\n",
    "    circuit.h(0)\n",
    "    for i in range(num_qubits - 1):\n",
    "        circuit.cx(i, i + 1)\n",
    "    circuit.barrier()\n",
    "    circuit.measure(0, 0)\n",
    "    circuit.measure(num_qubits - 1, 1)\n",
    "    circuits.append(circuit)\n",
    "\n",
    "circuits[-1].draw(output=\"mpl\", style=\"clifford\", fold=-1)"
   ]
  },
  {
   "cell_type": "markdown",
   "id": "0e53f0a5-7713-4915-ae47-c1aa0a4f17cd",
   "metadata": {},
   "source": [
    "## Step 2: Optimize problem for quantum hardware execution\n",
    "In this tutorial we won't do any optimization of the circuits and operators"
   ]
  },
  {
   "cell_type": "markdown",
   "id": "862789c2-d17e-43ed-8e1b-2f37d7628ed2",
   "metadata": {},
   "source": [
    "## Step 3: Execute using Qiskit primitives"
   ]
  },
  {
   "cell_type": "markdown",
   "id": "d88f925f-3ffd-43de-ac1f-2c5ba3b8cd96",
   "metadata": {},
   "source": [
    "###  Execute a quantum circuit with default qubit selection\n",
    "As a reference result of performance, we'll take a look at an example of executing a quantum circuit on a QPU by using the default qubits, that is the qubits selected with the reported backend properties."
   ]
  },
  {
   "cell_type": "code",
   "execution_count": 6,
   "id": "5c0d09ad-2e6a-4067-8034-8df92a475ff1",
   "metadata": {},
   "outputs": [],
   "source": [
    "pm = generate_preset_pass_manager(target=backend.target, optimization_level=0)\n",
    "isa_circuits = pm.run(circuits)\n",
    "initial_qubits = [\n",
    "    [\n",
    "        idx\n",
    "        for idx, qb in circuit.layout.initial_layout.get_physical_bits().items()\n",
    "        if qb._register.name != \"ancilla\"\n",
    "    ]\n",
    "    for circuit in isa_circuits\n",
    "]"
   ]
  },
  {
   "cell_type": "markdown",
   "id": "6d4fb04c-a5cf-48e8-a759-dde64fd751ac",
   "metadata": {},
   "source": [
    "### Execute a quantum circuit with real-time qubit selection\n",
    "\n",
    "In this section, we'll investigate the importance of having updated information on qubit properties of the QPU for optimal results. First, we'll carry out a full suite of QPU characterization experiments ($T_1$, $T_2$, SPAM, single-qubit RB and two-qubit RB), which we can then use to update the backend properties. This allows the pass manager to select qubits for the execution based on fresh information about the QPU, possibly improving execution performances. Second, we execute the Bell pair circuit and we compare the fidelity obtained after selecting the qubits with update QPU properties to the fidelity we obtained before when we use the default reported properties for qubit selection."
   ]
  },
  {
   "cell_type": "code",
   "execution_count": 9,
   "id": "a8266467-9d60-411f-89dd-8cad6558f588",
   "metadata": {},
   "outputs": [],
   "source": [
    "# Prepare characterization experiments\n",
    "batches = [t1_exp, t2_exp, readout_exp, singleq_rb_exp, twoq_rb_exp_batched]\n",
    "batches_exp = BatchExperiment(batches, backend)  # , analysis=None)\n",
    "run_options = {\"shots\": 1e3, \"dynamic\": False}\n",
    "\n",
    "with Session(backend=backend) as session:\n",
    "    sampler = SamplerV2(mode=session)\n",
    "\n",
    "    # Run characterization experiments\n",
    "    batches_exp_data = batches_exp.run(\n",
    "        sampler=sampler, **run_options\n",
    "    ).block_for_results()\n",
    "\n",
    "    EPG_sx_result_list = batches_exp_data.analysis_results(\"EPG_sx\")\n",
    "    EPG_sx_result_q_indices = [\n",
    "        result.device_components.index for result in EPG_sx_result_list\n",
    "    ]\n",
    "    EPG_x_result_list = batches_exp_data.analysis_results(\"EPG_x\")\n",
    "    EPG_x_result_q_indices = [\n",
    "        result.device_components.index for result in EPG_x_result_list\n",
    "    ]\n",
    "    T1_result_list = batches_exp_data.analysis_results(\"T1\")\n",
    "    T1_result_q_indices = [\n",
    "        result.device_components.index for result in T1_result_list\n",
    "    ]\n",
    "\n",
    "    T2_result_list = batches_exp_data.analysis_results(\"T2\")\n",
    "    T2_result_q_indices = [\n",
    "        result.device_components.index for result in T2_result_list\n",
    "    ]\n",
    "\n",
    "    Readout_result_list = batches_exp_data.analysis_results(\n",
    "        \"Local Readout Mitigator\"\n",
    "    )\n",
    "\n",
    "    EPG_ecr_result_list = batches_exp_data.analysis_results(\"EPG_ecr\")\n",
    "\n",
    "    # Update target properties\n",
    "    target = copy.deepcopy(backend.target)\n",
    "    for i in range(target.num_qubits - 1):\n",
    "        qarg = (i,)\n",
    "\n",
    "        if qarg in EPG_sx_result_q_indices:\n",
    "            target.update_instruction_properties(\n",
    "                instruction=\"sx\",\n",
    "                qargs=qarg,\n",
    "                properties=InstructionProperties(\n",
    "                    error=EPG_sx_result_list[i].value.nominal_value\n",
    "                ),\n",
    "            )\n",
    "        if qarg in EPG_x_result_q_indices:\n",
    "            target.update_instruction_properties(\n",
    "                instruction=\"x\",\n",
    "                qargs=qarg,\n",
    "                properties=InstructionProperties(\n",
    "                    error=EPG_x_result_list[i].value.nominal_value\n",
    "                ),\n",
    "            )\n",
    "\n",
    "        err_mat = Readout_result_list.value.assignment_matrix(i)\n",
    "        readout_assignment_error = (\n",
    "            err_mat[0, 1] + err_mat[1, 0]\n",
    "        ) / 2  # average readout error\n",
    "        target.update_instruction_properties(\n",
    "            instruction=\"measure\",\n",
    "            qargs=qarg,\n",
    "            properties=InstructionProperties(error=readout_assignment_error),\n",
    "        )\n",
    "\n",
    "        if qarg in T1_result_q_indices:\n",
    "            target.qubit_properties[i].t1 = T1_result_list[\n",
    "                i\n",
    "            ].value.nominal_value\n",
    "        if qarg in T2_result_q_indices:\n",
    "            target.qubit_properties[i].t2 = T2_result_list[\n",
    "                i\n",
    "            ].value.nominal_value\n",
    "\n",
    "    for pair_idx, pair in enumerate(flattened_layered_coupling_map):\n",
    "        qarg = tuple(pair)\n",
    "        try:\n",
    "            target.update_instruction_properties(\n",
    "                instruction=\"ecr\",\n",
    "                qargs=qarg,\n",
    "                properties=InstructionProperties(\n",
    "                    error=EPG_ecr_result_list[pair_idx].value.nominal_value\n",
    "                ),\n",
    "            )\n",
    "        except:\n",
    "            target.update_instruction_properties(\n",
    "                instruction=\"ecr\",\n",
    "                qargs=qarg[::-1],\n",
    "                properties=InstructionProperties(\n",
    "                    error=EPG_ecr_result_list[pair_idx].value.nominal_value\n",
    "                ),\n",
    "            )\n",
    "\n",
    "    # transpile circuits to updated target\n",
    "    pm = generate_preset_pass_manager(target=target, optimization_level=0)\n",
    "    isa_circuit_updated = pm.run(circuits)\n",
    "    updated_qubits = [\n",
    "        [\n",
    "            idx\n",
    "            for idx, qb in circuit.layout.initial_layout.get_physical_bits().items()\n",
    "            if qb._register.name != \"ancilla\"\n",
    "        ]\n",
    "        for circuit in isa_circuit_updated\n",
    "    ]\n",
    "\n",
    "    n_trials = 3  # run multiple trials to see variations\n",
    "\n",
    "    # interleave circuits\n",
    "    interleaved_circuits = []\n",
    "    for original_circuit, updated_circuit in zip(\n",
    "        isa_circuits, isa_circuit_updated\n",
    "    ):\n",
    "        interleaved_circuits.append(original_circuit)\n",
    "        interleaved_circuits.append(updated_circuit)\n",
    "\n",
    "    # Run circuits\n",
    "    # Set simple error suppression/mitigation options\n",
    "    sampler.options.dynamical_decoupling.enable = True\n",
    "    sampler.options.dynamical_decoupling.sequence_type = \"XY4\"\n",
    "\n",
    "    job_interleaved = sampler.run(interleaved_circuits * n_trials)"
   ]
  },
  {
   "cell_type": "markdown",
   "id": "d72e021a-3ea6-4ed2-829f-e59ce8017ef4",
   "metadata": {},
   "source": [
    "## Step 4: Post-process and return result in desired classical format\n",
    "\n",
    "Finally, let's compare the fidelity of the Bell state obtained in the two different settings:\n",
    "- `original`, that is with the default qubits chosen by the transpiler based on reported properties of the backend.\n",
    "- `updated`, that is with the qubits chosen based on updated properties of the backend after characterization experiments have run."
   ]
  },
  {
   "cell_type": "code",
   "execution_count": 13,
   "id": "5a19a5d1-5daf-4d65-9785-8f8724853821",
   "metadata": {},
   "outputs": [],
   "source": [
    "results = job_interleaved.result()\n",
    "all_fidelity_list, all_fidelity_updated_list = [], []\n",
    "for exp_idx in range(n_trials):\n",
    "    fidelity_list, fidelity_updated_list = [], []\n",
    "\n",
    "    for idx, num_qubits in enumerate(num_qubits_list):\n",
    "        pub_result_original = results[\n",
    "            2 * exp_idx * len(num_qubits_list) + 2 * idx\n",
    "        ]\n",
    "        pub_result_updated = results[\n",
    "            2 * exp_idx * len(num_qubits_list) + 2 * idx + 1\n",
    "        ]\n",
    "\n",
    "        fid = hellinger_fidelity(\n",
    "            ideal_dist, pub_result_original.data.c.get_counts()\n",
    "        )\n",
    "        fidelity_list.append(fid)\n",
    "\n",
    "        fid_up = hellinger_fidelity(\n",
    "            ideal_dist, pub_result_updated.data.c.get_counts()\n",
    "        )\n",
    "        fidelity_updated_list.append(fid_up)\n",
    "    all_fidelity_list.append(fidelity_list)\n",
    "    all_fidelity_updated_list.append(fidelity_updated_list)"
   ]
  },
  {
   "cell_type": "code",
   "execution_count": 14,
   "id": "656ec97a-3fd9-4635-9a98-1c5589761689",
   "metadata": {},
   "outputs": [
    {
     "data": {
      "text/plain": [
       "<Image src=\"/docs/images/tutorials/real-time-benchmarking-for-qubit-selection/extracted-outputs/656ec97a-3fd9-4635-9a98-1c5589761689-0.avif\" alt=\"Output of the previous code cell\" />"
      ]
     },
     "metadata": {},
     "output_type": "display_data"
    }
   ],
   "source": [
    "plt.figure(figsize=(8, 6))\n",
    "plt.errorbar(\n",
    "    num_qubits_list,\n",
    "    np.mean(all_fidelity_list, axis=0),\n",
    "    yerr=np.std(all_fidelity_list, axis=0),\n",
    "    fmt=\"o-.\",\n",
    "    label=\"original\",\n",
    "    color=\"b\",\n",
    ")\n",
    "# plt.plot(num_qubits_list, fidelity_list, '-.')\n",
    "plt.errorbar(\n",
    "    num_qubits_list,\n",
    "    np.mean(all_fidelity_updated_list, axis=0),\n",
    "    yerr=np.std(all_fidelity_updated_list, axis=0),\n",
    "    fmt=\"o-.\",\n",
    "    label=\"updated\",\n",
    "    color=\"r\",\n",
    ")\n",
    "# plt.plot(num_qubits_list, fidelity_updated_list, '-.')\n",
    "plt.xlabel(\"Chain length\")\n",
    "plt.xticks(num_qubits_list)\n",
    "plt.ylabel(\"Fidelity\")\n",
    "plt.title(\"Bell pair fidelity at the edge of N-qubits chain\")\n",
    "plt.legend()\n",
    "plt.grid(\n",
    "    alpha=0.2,\n",
    "    linestyle=\"-.\",\n",
    ")\n",
    "plt.show()"
   ]
  },
  {
   "cell_type": "markdown",
   "id": "3705d85c-e11d-4a8f-bfae-20bd501124d8",
   "metadata": {},
   "source": [
    "With increasing chain length, and thus less freedom to choose physical qubits, the fact that we have updated information about qubit properties becomes less substantial, with there being no difference when all of the qubits are used."
   ]
  },
  {
   "cell_type": "markdown",
   "id": "cd81b208-b13b-4988-854e-1741408f36f3",
   "metadata": {},
   "source": [
    "<div class=\"alert alert-block alert-success\">\n",
    "<b>Call to Action:</b> Try to apply this method to your executions and determine how much of a benefit you get! You can also try and see how much improvements you get from different backends.\n",
    "</div>"
   ]
  },
  {
   "cell_type": "markdown",
   "id": "b94755c1-1c19-434a-96b9-b83922b5d63c",
   "metadata": {},
   "source": [
    "## Tutorial survey\n",
    "\n",
    "Please take one minute to provide feedback on this tutorial. Your insights will help us improve our content offerings and user experience.\n",
    "\n",
    "[Link to survey](https://your.feedback.ibm.com/jfe/form/SV_0w6FZ9QrWkKfTQq)"
   ]
  }
 ],
 "metadata": {
  "description": "Run real-time characterization experiments and update backend properties to improve qubit selection when mapping a circuit to the physical qubits on a QPU.",
  "kernelspec": {
   "display_name": "Python 3",
   "language": "python",
   "name": "python3"
  },
  "language_info": {
   "codemirror_mode": {
    "name": "ipython",
    "version": 3
   },
   "file_extension": ".py",
   "mimetype": "text/x-python",
   "name": "python",
   "nbconvert_exporter": "python",
   "pygments_lexer": "ipython3",
   "version": "3"
  },
  "platform": "cloud",
  "title": "Real-time benchmarking for qubit selection\n"
 },
 "nbformat": 4,
 "nbformat_minor": 4
}
