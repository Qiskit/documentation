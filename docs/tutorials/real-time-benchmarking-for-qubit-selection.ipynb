{
 "cells": [
  {
   "cell_type": "markdown",
   "id": "c60285b4-72df-4a5d-9ee1-41efc0123fce",
   "metadata": {},
   "source": [
    "# Real-time benchmarking for qubit selection\n",
    "*Usage estimate: 4 minutes on ibm_brisbane (NOTE: This is an estimate only. Your runtime might vary.)*"
   ]
  },
  {
   "cell_type": "code",
   "execution_count": 1,
   "id": "643fe0b3-d024-4d94-9603-6cdf680d297c",
   "metadata": {
    "tags": [
     "remove-cell"
    ]
   },
   "outputs": [],
   "source": [
    "# This cell is hidden from users – it disables some lint rules\n",
    "# ruff: noqa: E722"
   ]
  },
  {
   "cell_type": "markdown",
   "id": "cda4fc0d-a40e-4fcd-bad1-9f373aef8395",
   "metadata": {},
   "source": [
    "## Background\n",
    "This tutorial shows how to run real-time characterization experiments and update backend properties to improve qubit selection when mapping a circuit to the physical qubits on a QPU. You will learn the basic characterization experiments that are used to determine properties of the QPU, how to do them in Qiskit, and how to update the properties saved in the backend object representing the QPU based on these experiments.\n",
    "\n",
    "The QPU-reported properties are updated once a day, but the system may drift faster than the time between updates. This can affect the reliability of the qubit selection routines in the `Layout` stage of the pass manager, as they'd be using reported properties that don't represent the present state of the QPU. For this reason, it may be worth devoting some QPU time to characterization experiments, which can then be used to update the QPU properties used by the `Layout` routine."
   ]
  },
  {
   "cell_type": "markdown",
   "id": "0d2ab297-142e-4919-9a17-519b407c8019",
   "metadata": {},
   "source": [
    "## Requirements\n",
    "Before starting this tutorial, be sure you have the following installed:\n",
    "\n",
    "- Qiskit SDK v1.0 or later, with visualization support ( `pip install 'qiskit[visualization]'` )\n",
    "- Qiskit Runtime 0.29 or later ( `pip install qiskit-ibm-runtime` )\n",
    "- Qiskit Experiments 0.7 or later ( `pip install qiskit-experiments` )"
   ]
  },
  {
   "cell_type": "markdown",
   "id": "af357ab3-1992-402f-869c-47302bd228ef",
   "metadata": {},
   "source": [
    "## Setup"
   ]
  },
  {
   "cell_type": "code",
   "execution_count": 2,
   "id": "0d86f001-2679-4ce9-98e8-1d9a687f5c79",
   "metadata": {},
   "outputs": [],
   "source": [
    "from qiskit_ibm_runtime import SamplerV2\n",
    "from qiskit.transpiler import generate_preset_pass_manager\n",
    "from qiskit.quantum_info import hellinger_fidelity\n",
    "from qiskit.transpiler import InstructionProperties\n",
    "\n",
    "\n",
    "from qiskit_experiments.library import (\n",
    "    T1,\n",
    "    T2Hahn,\n",
    "    LocalReadoutError,\n",
    "    StandardRB,\n",
    ")\n",
    "from qiskit_experiments.framework import BatchExperiment, ParallelExperiment\n",
    "\n",
    "from qiskit_ibm_runtime import QiskitRuntimeService\n",
    "from qiskit_ibm_runtime import Session\n",
    "\n",
    "from datetime import datetime\n",
    "from collections import defaultdict\n",
    "import numpy as np\n",
    "import rustworkx\n",
    "import matplotlib.pyplot as plt\n",
    "import copy"
   ]
  },
  {
   "cell_type": "markdown",
   "id": "9bb8631d-d401-4ee6-aae6-02e6bd0585f6",
   "metadata": {},
   "source": [
    "## Step 1: Map classical inputs to a quantum problem\n",
    "\n",
    "To benchmark the difference in performance, we consider a circuit that prepares a Bell state across a linear chain of varying length. The fidelity of the Bell state at the ends of the chain is measured."
   ]
  },
  {
   "cell_type": "code",
   "execution_count": null,
   "id": "64c25da9-a728-4ae4-a377-3078a1dc618d",
   "metadata": {},
   "outputs": [
    {
     "data": {
      "text/plain": [
       "<Image src=\"/docs/images/tutorials/real-time-benchmarking-for-qubit-selection/extracted-outputs/95571eca-02ba-4452-816a-c04822675be8-0.avif\" alt=\"Output of the previous code cell\" />"
      ]
     },
     "metadata": {},
     "output_type": "display_data"
    }
   ],
   "source": [
    "from qiskit import QuantumCircuit\n",
    "\n",
    "ideal_dist = {\"00\": 0.5, \"11\": 0.5}\n",
    "\n",
    "num_qubits_list = [10, 20, 30, 40, 50, 60, 70, 80, 90, 100, 110, 120, 127]\n",
    "circuits = []\n",
    "for num_qubits in num_qubits_list:\n",
    "    circuit = QuantumCircuit(num_qubits, 2)\n",
    "    circuit.h(0)\n",
    "    for i in range(num_qubits - 1):\n",
    "        circuit.cx(i, i + 1)\n",
    "    circuit.barrier()\n",
    "    circuit.measure(0, 0)\n",
    "    circuit.measure(num_qubits - 1, 1)\n",
    "    circuits.append(circuit)\n",
    "\n",
    "circuits[-1].draw(output=\"mpl\", style=\"clifford\", fold=-1)"
   ]
  },
  {
   "cell_type": "markdown",
   "id": "45f6acb2-11b6-44de-b578-911312869b96",
   "metadata": {},
   "source": [
    "### Setting up backend and coupling map"
   ]
  },
  {
   "cell_type": "code",
   "execution_count": 3,
   "id": "c24b5540-f94e-4fa8-96cb-a626573510ef",
   "metadata": {},
   "outputs": [
    {
     "data": {
      "text/plain": [
       "[<IBMBackend('ibm_brisbane')>]"
      ]
     },
     "execution_count": 3,
     "metadata": {},
     "output_type": "execute_result"
    }
   ],
   "source": [
    "service = QiskitRuntimeService(\n",
    "    instance=\"crn:v1:bluemix:public:quantum-computing:us-east:a/26b15df5f5684154b2c791c32e07e69b:08dcfec2-410b-45a4-8185-10fd26ce26f6::\"\n",
    ")\n",
    "\n",
    "# To run on hardware, select a backend that supports the ecr gate\n",
    "service.backends(filters=lambda x: (\"ecr\" in x.basis_gates))"
   ]
  },
  {
   "cell_type": "code",
   "execution_count": 4,
   "id": "d14e123a-df7f-4fa9-9c8c-cf5a57e9f0b7",
   "metadata": {},
   "outputs": [],
   "source": [
    "backend = service.backend(\"ibm_brisbane\")\n",
    "\n",
    "qubits = list(range(backend.num_qubits))"
   ]
  },
  {
   "cell_type": "code",
   "execution_count": 5,
   "id": "406fd2a9-ef54-4f81-861c-b90e4d7434f0",
   "metadata": {},
   "outputs": [],
   "source": [
    "coupling_graph = backend.coupling_map.graph.to_undirected(multigraph=False)\n",
    "\n",
    "# Get unidirectional coupling map\n",
    "one_dir_coupling_map = coupling_graph.edge_list()\n",
    "\n",
    "# Get layered coupling map\n",
    "edge_coloring = rustworkx.graph_bipartite_edge_color(coupling_graph)\n",
    "layered_coupling_map = defaultdict(list)\n",
    "for edge_idx, color in edge_coloring.items():\n",
    "    layered_coupling_map[color].append(\n",
    "        coupling_graph.get_edge_endpoints_by_index(edge_idx)\n",
    "    )\n",
    "layered_coupling_map = [\n",
    "    sorted(layered_coupling_map[i])\n",
    "    for i in sorted(layered_coupling_map.keys())\n",
    "]\n",
    "\n",
    "flattened_layered_coupling_map = []\n",
    "for layer in layered_coupling_map:\n",
    "    flattened_layered_coupling_map += layer"
   ]
  },
  {
   "cell_type": "markdown",
   "id": "8ff27f9d-dbf4-43b8-ad73-3ee464a9d4d5",
   "metadata": {},
   "source": [
    "### Characterization experiments\n",
    "\n",
    "A series of experiments is used to characterize the main properties of the qubits in a QPU. These are $T_1$, $T_2$, readout error, and single-qubit and two-qubit gate error. We'll briefly summarize what these properties are and refer to experiments in the [`qiskit-experiments`](https://qiskit-community.github.io/qiskit-experiments/index.html) package that are used to characterize them.\n",
    "\n",
    "#### T1\n",
    "$T_1$ is the characteristic time it takes for an excited qubit to fall to the ground state due to amplitude-damping decoherence processes. In a [$T_1$ experiment](https://qiskit-community.github.io/qiskit-experiments/manuals/characterization/t1.html), we measure an excited qubit after a delay. The larger the delay time is, the more\n",
    "likely is the qubit to fall to the ground state. The goal of the\n",
    "experiment is to characterize the decay rate of the qubit towards the\n",
    "ground state.\n",
    "\n",
    "#### T2\n",
    "$T_2$ represents the amount of time required for a single qubit's Bloch\n",
    "vector projection on the XY plane to fall to approximately 37% ($\\frac{1}{e}$) of\n",
    "its initial amplitude due to dephasing decoherence processes. In a [$T_2$ Hahn Echo experiment](https://qiskit-community.github.io/qiskit-experiments/manuals/characterization/t2hahn.html), we can estimate the rate of this decay.\n",
    "\n",
    "#### State preparation and measurement (SPAM) error characterization\n",
    "In a [SPAM-error characterization experiment](https://qiskit-community.github.io/qiskit-experiments/manuals/measurement/readout_mitigation.html) qubit are prepared in a certain state ($\\vert 0 \\rangle$ or $\\vert 1 \\rangle$) and measured. The probability of measuring a state different than the one prepared then gives the probability of the error.\n",
    "\n",
    "#### Single-qubit and two-qubit randomized benchmarking\n",
    "[Randomized benchmarking](https://qiskit-community.github.io/qiskit-experiments/manuals/verification/randomized_benchmarking.html) is a popular protocol for characterizing the error rate of\n",
    "quantum processors. An RB experiment consists of the generation of random Clifford\n",
    "circuits on the given qubits such that the unitary computed by the circuits is the\n",
    "identity. After running the circuits, the number of shots resulting in an error (that is, an output different from the ground state) are counted, and from this data one can infer error estimates for the quantum device, by calculating the Error Per Clifford."
   ]
  },
  {
   "cell_type": "code",
   "execution_count": 6,
   "id": "d7cb8ad7-ea83-49ed-bde2-ef6953fdc128",
   "metadata": {},
   "outputs": [],
   "source": [
    "# Create T1 experiments on all qubit in parallel\n",
    "t1_exp = ParallelExperiment(\n",
    "    [\n",
    "        T1(\n",
    "            physical_qubits=[qubit],\n",
    "            delays=np.linspace(\n",
    "                1e-6, 2 * backend.properties().t1(qubit), 5, endpoint=True\n",
    "            ),\n",
    "        )\n",
    "        for qubit in qubits\n",
    "    ],\n",
    "    backend,\n",
    "    analysis=None,\n",
    ")\n",
    "\n",
    "# Create T2-Hahn experiments on all qubit in parallel\n",
    "t2_exp = ParallelExperiment(\n",
    "    [\n",
    "        T2Hahn(\n",
    "            physical_qubits=[qubit],\n",
    "            delays=np.linspace(\n",
    "                1e-6, 2 * backend.properties().t2(qubit), 5, endpoint=True\n",
    "            ),\n",
    "        )\n",
    "        for qubit in qubits\n",
    "    ],\n",
    "    backend,\n",
    "    analysis=None,\n",
    ")\n",
    "\n",
    "# Create readout experiments on all qubit in parallel\n",
    "readout_exp = LocalReadoutError(qubits)\n",
    "\n",
    "# Create single-qubit RB experiments on all qubit in parallel\n",
    "singleq_rb_exp = ParallelExperiment(\n",
    "    [\n",
    "        StandardRB(\n",
    "            physical_qubits=[qubit], lengths=[10, 100, 500], num_samples=10\n",
    "        )\n",
    "        for qubit in qubits\n",
    "    ],\n",
    "    backend,\n",
    "    analysis=None,\n",
    ")\n",
    "\n",
    "# Create two-qubit RB experiments on the three layers of disjoint edges of the heavy-hex\n",
    "twoq_rb_exp_batched = BatchExperiment(\n",
    "    [\n",
    "        ParallelExperiment(\n",
    "            [\n",
    "                StandardRB(\n",
    "                    physical_qubits=pair,\n",
    "                    lengths=[10, 50, 100],\n",
    "                    num_samples=10,\n",
    "                )\n",
    "                for pair in layer\n",
    "            ],\n",
    "            backend,\n",
    "            analysis=None,\n",
    "        )\n",
    "        for layer in layered_coupling_map\n",
    "    ],\n",
    "    backend,\n",
    "    flatten_results=True,\n",
    "    analysis=None,\n",
    ")"
   ]
  },
  {
   "cell_type": "markdown",
   "id": "39d1b87e-54c2-44fe-bd2d-0159467475a9",
   "metadata": {},
   "source": [
    "### QPU properties over time\n",
    "Looking at the reported QPU properties over time (we'll consider a single week below), we see how these can fluctuate on a scale of a single day. Small fluctuations can happen even within a day. In this scenario, the reported properties (updated once per day) will not accurately capture the current status of the QPU. Moreover, if a job is transpiled locally (using current reported properties) and submitted but executed only at a later time (minutes or days), it may run the risk of having used outdated properties for qubit selection in the transpilation step. This highlights the importance of having updated information about the QPU at execution time. First, let's retrieve the properties over a certain time range."
   ]
  },
  {
   "cell_type": "code",
   "execution_count": 7,
   "id": "8bbb0de5-f450-4d8d-9508-3a979f25c994",
   "metadata": {},
   "outputs": [],
   "source": [
    "errors_list = []\n",
    "for day_idx in range(10, 17):\n",
    "    calibrations_time = datetime(\n",
    "        year=2024, month=10, day=day_idx, hour=0, minute=0, second=0\n",
    "    )\n",
    "    targer_hist = backend.target_history(datetime=calibrations_time)\n",
    "\n",
    "    t1_dict, t2_dict = {}, {}\n",
    "    for qubit in range(targer_hist.num_qubits):\n",
    "        t1_dict[qubit] = targer_hist.qubit_properties[qubit].t1\n",
    "        t2_dict[qubit] = targer_hist.qubit_properties[qubit].t2\n",
    "\n",
    "    errors_dict = {\n",
    "        \"1q\": targer_hist[\"sx\"],\n",
    "        \"2q\": targer_hist[\"ecr\"],\n",
    "        \"spam\": targer_hist[\"measure\"],\n",
    "        \"t1\": t1_dict,\n",
    "        \"t2\": t2_dict,\n",
    "    }\n",
    "\n",
    "    errors_list.append(errors_dict)"
   ]
  },
  {
   "cell_type": "markdown",
   "id": "0e1bdb14-dca9-4256-9ae5-e1f6acc93c42",
   "metadata": {},
   "source": [
    "Then, let's plot the values"
   ]
  },
  {
   "cell_type": "code",
   "execution_count": 8,
   "id": "b1914005-8f5c-4e72-91f8-304eefe77018",
   "metadata": {},
   "outputs": [
    {
     "data": {
      "text/plain": [
       "<Image src=\"/docs/images/tutorials/real-time-benchmarking-for-qubit-selection/extracted-outputs/b1914005-8f5c-4e72-91f8-304eefe77018-0.avif\" alt=\"Output of the previous code cell\" />"
      ]
     },
     "metadata": {},
     "output_type": "display_data"
    }
   ],
   "source": [
    "fig, axs = plt.subplots(5, 1, figsize=(10, 20), sharex=False)\n",
    "\n",
    "\n",
    "# Plot for T1 values\n",
    "for qubit in range(targer_hist.num_qubits):\n",
    "    t1s = []\n",
    "    for errors_dict in errors_list:\n",
    "        t1_dict = errors_dict[\"t1\"]\n",
    "        t1s.append(t1_dict[qubit] / 1e-6)\n",
    "\n",
    "    axs[0].plot(t1s)\n",
    "\n",
    "axs[0].set_title(\"T1\")\n",
    "axs[0].set_ylabel(r\"Time ($\\mu s$)\")\n",
    "axs[0].set_xlabel(\"Days\")\n",
    "\n",
    "# Plot for T2 values\n",
    "for qubit in range(targer_hist.num_qubits):\n",
    "    t2s = []\n",
    "    for errors_dict in errors_list:\n",
    "        t2_dict = errors_dict[\"t2\"]\n",
    "        t2s.append(t2_dict[qubit] / 1e-6)\n",
    "\n",
    "    axs[1].plot(t2s)\n",
    "\n",
    "axs[1].set_title(\"T2\")\n",
    "axs[1].set_ylabel(r\"Time ($\\mu s$)\")\n",
    "axs[1].set_xlabel(\"Days\")\n",
    "\n",
    "# Plot SPAM values\n",
    "for qubit in range(targer_hist.num_qubits):\n",
    "    spams = []\n",
    "    for errors_dict in errors_list:\n",
    "        spam_dict = errors_dict[\"spam\"]\n",
    "        spams.append(spam_dict[tuple([qubit])].error)\n",
    "\n",
    "    axs[2].plot(spams)\n",
    "\n",
    "axs[2].set_title(\"SPAM Errors\")\n",
    "axs[2].set_ylabel(\"Error Rate\")\n",
    "axs[2].set_xlabel(\"Days\")\n",
    "\n",
    "# Plot 1Q Gate Errors\n",
    "for qubit in range(targer_hist.num_qubits):\n",
    "    oneq_gates = []\n",
    "    for errors_dict in errors_list:\n",
    "        oneq_gate_dict = errors_dict[\"1q\"]\n",
    "        oneq_gates.append(oneq_gate_dict[tuple([qubit])].error)\n",
    "\n",
    "    axs[3].plot(oneq_gates)\n",
    "\n",
    "axs[3].set_title(\"1Q Gate Errors\")\n",
    "axs[3].set_ylabel(\"Error Rate\")\n",
    "axs[3].set_xlabel(\"Days\")\n",
    "\n",
    "# Plot 2Q Gate Errors\n",
    "for pair in one_dir_coupling_map:\n",
    "    twoq_gates = []\n",
    "    for errors_dict in errors_list:\n",
    "        twoq_gate_dict = errors_dict[\"2q\"]\n",
    "        twoq_gates.append(twoq_gate_dict[pair].error)\n",
    "\n",
    "    axs[4].plot(twoq_gates)\n",
    "\n",
    "axs[4].set_title(\"2Q Gate Errors\")\n",
    "axs[4].set_ylabel(\"Error Rate\")\n",
    "axs[4].set_xlabel(\"Days\")\n",
    "\n",
    "plt.subplots_adjust(hspace=0.5)\n",
    "plt.show()"
   ]
  },
  {
   "cell_type": "markdown",
   "id": "fb1d269a-349a-4b73-9f5f-abfa5ed6b71e",
   "metadata": {},
   "source": [
    "You can see that over several days some of the qubit properties can change considerably. This highlights the importance of having fresh information of the QPU status, to be able to select the best performing qubits for an experiment."
   ]
  },
  {
   "cell_type": "markdown",
   "id": "779527fd-02bc-41bd-88e3-70a17d99acb4",
   "metadata": {},
   "source": [
    "## Step 2: Optimize problem for quantum hardware execution\n",
    "No optimization of the circuits or operators is done in this tutorial."
   ]
  },
  {
   "cell_type": "markdown",
   "id": "8cc1a29c-b5b4-4b6c-8cc9-5b7e90e51871",
   "metadata": {},
   "source": [
    "## Step 3: Execute using Qiskit primitives"
   ]
  },
  {
   "cell_type": "markdown",
   "id": "e7bb078c-9dca-4215-aa93-55ec5761e81a",
   "metadata": {},
   "source": [
    "###  Execute a quantum circuit with default qubit selection\n",
    "As a reference result of performance, we'll execute a quantum circuit on a QPU by using the default qubits, which are the qubits selected with the requested backend properties. We will use `optimization_level = 3`.  This setting includes the most advanced transpilation optimization, and uses target properties (like operation errors) to select the best performing qubits for execution."
   ]
  },
  {
   "cell_type": "code",
   "execution_count": 10,
   "id": "4250450d-6596-4473-973a-211fd4578289",
   "metadata": {},
   "outputs": [],
   "source": [
    "pm = generate_preset_pass_manager(target=backend.target, optimization_level=3)\n",
    "isa_circuits = pm.run(circuits)\n",
    "initial_qubits = [\n",
    "    [\n",
    "        idx\n",
    "        for idx, qb in circuit.layout.initial_layout.get_physical_bits().items()\n",
    "        if qb._register.name != \"ancilla\"\n",
    "    ]\n",
    "    for circuit in isa_circuits\n",
    "]"
   ]
  },
  {
   "cell_type": "markdown",
   "id": "0eb66644-5588-4724-8de2-e1d8af0f0b6c",
   "metadata": {},
   "source": [
    "### Execute a quantum circuit with real-time qubit selection\n",
    "\n",
    "In this section, we'll investigate the importance of having updated information on qubit properties of the QPU for optimal results. First, we'll carry out a full suite of QPU characterization experiments ($T_1$, $T_2$, SPAM, single-qubit RB and two-qubit RB), which we can then use to update the backend properties. This allows the pass manager to select qubits for the execution based on fresh information about the QPU, possibly improving execution performances. Second, we execute the Bell pair circuit and we compare the fidelity obtained after selecting the qubits with update QPU properties to the fidelity we obtained before when we use the default reported properties for qubit selection."
   ]
  },
  {
   "cell_type": "code",
   "execution_count": 12,
   "id": "a260f4ee-8307-431c-bc9b-8cf333a42b91",
   "metadata": {},
   "outputs": [
    {
     "ename": "RequestsApiError",
     "evalue": "\"('Connection aborted.', RemoteDisconnected('Remote end closed connection without response'))\"",
     "output_type": "error",
     "traceback": [
      "\u001b[31m---------------------------------------------------------------------------\u001b[39m",
      "\u001b[31mRemoteDisconnected\u001b[39m                        Traceback (most recent call last)",
      "\u001b[36mFile \u001b[39m\u001b[32mc:\\1docs\\.venv\\Lib\\site-packages\\urllib3\\connectionpool.py:787\u001b[39m, in \u001b[36mHTTPConnectionPool.urlopen\u001b[39m\u001b[34m(self, method, url, body, headers, retries, redirect, assert_same_host, timeout, pool_timeout, release_conn, chunked, body_pos, preload_content, decode_content, **response_kw)\u001b[39m\n\u001b[32m    786\u001b[39m \u001b[38;5;66;03m# Make the request on the HTTPConnection object\u001b[39;00m\n\u001b[32m--> \u001b[39m\u001b[32m787\u001b[39m response = \u001b[38;5;28;43mself\u001b[39;49m\u001b[43m.\u001b[49m\u001b[43m_make_request\u001b[49m\u001b[43m(\u001b[49m\n\u001b[32m    788\u001b[39m \u001b[43m    \u001b[49m\u001b[43mconn\u001b[49m\u001b[43m,\u001b[49m\n\u001b[32m    789\u001b[39m \u001b[43m    \u001b[49m\u001b[43mmethod\u001b[49m\u001b[43m,\u001b[49m\n\u001b[32m    790\u001b[39m \u001b[43m    \u001b[49m\u001b[43murl\u001b[49m\u001b[43m,\u001b[49m\n\u001b[32m    791\u001b[39m \u001b[43m    \u001b[49m\u001b[43mtimeout\u001b[49m\u001b[43m=\u001b[49m\u001b[43mtimeout_obj\u001b[49m\u001b[43m,\u001b[49m\n\u001b[32m    792\u001b[39m \u001b[43m    \u001b[49m\u001b[43mbody\u001b[49m\u001b[43m=\u001b[49m\u001b[43mbody\u001b[49m\u001b[43m,\u001b[49m\n\u001b[32m    793\u001b[39m \u001b[43m    \u001b[49m\u001b[43mheaders\u001b[49m\u001b[43m=\u001b[49m\u001b[43mheaders\u001b[49m\u001b[43m,\u001b[49m\n\u001b[32m    794\u001b[39m \u001b[43m    \u001b[49m\u001b[43mchunked\u001b[49m\u001b[43m=\u001b[49m\u001b[43mchunked\u001b[49m\u001b[43m,\u001b[49m\n\u001b[32m    795\u001b[39m \u001b[43m    \u001b[49m\u001b[43mretries\u001b[49m\u001b[43m=\u001b[49m\u001b[43mretries\u001b[49m\u001b[43m,\u001b[49m\n\u001b[32m    796\u001b[39m \u001b[43m    \u001b[49m\u001b[43mresponse_conn\u001b[49m\u001b[43m=\u001b[49m\u001b[43mresponse_conn\u001b[49m\u001b[43m,\u001b[49m\n\u001b[32m    797\u001b[39m \u001b[43m    \u001b[49m\u001b[43mpreload_content\u001b[49m\u001b[43m=\u001b[49m\u001b[43mpreload_content\u001b[49m\u001b[43m,\u001b[49m\n\u001b[32m    798\u001b[39m \u001b[43m    \u001b[49m\u001b[43mdecode_content\u001b[49m\u001b[43m=\u001b[49m\u001b[43mdecode_content\u001b[49m\u001b[43m,\u001b[49m\n\u001b[32m    799\u001b[39m \u001b[43m    \u001b[49m\u001b[43m*\u001b[49m\u001b[43m*\u001b[49m\u001b[43mresponse_kw\u001b[49m\u001b[43m,\u001b[49m\n\u001b[32m    800\u001b[39m \u001b[43m\u001b[49m\u001b[43m)\u001b[49m\n\u001b[32m    802\u001b[39m \u001b[38;5;66;03m# Everything went great!\u001b[39;00m\n",
      "\u001b[36mFile \u001b[39m\u001b[32mc:\\1docs\\.venv\\Lib\\site-packages\\urllib3\\connectionpool.py:534\u001b[39m, in \u001b[36mHTTPConnectionPool._make_request\u001b[39m\u001b[34m(self, conn, method, url, body, headers, retries, timeout, chunked, response_conn, preload_content, decode_content, enforce_content_length)\u001b[39m\n\u001b[32m    533\u001b[39m \u001b[38;5;28;01mtry\u001b[39;00m:\n\u001b[32m--> \u001b[39m\u001b[32m534\u001b[39m     response = \u001b[43mconn\u001b[49m\u001b[43m.\u001b[49m\u001b[43mgetresponse\u001b[49m\u001b[43m(\u001b[49m\u001b[43m)\u001b[49m\n\u001b[32m    535\u001b[39m \u001b[38;5;28;01mexcept\u001b[39;00m (BaseSSLError, \u001b[38;5;167;01mOSError\u001b[39;00m) \u001b[38;5;28;01mas\u001b[39;00m e:\n",
      "\u001b[36mFile \u001b[39m\u001b[32mc:\\1docs\\.venv\\Lib\\site-packages\\urllib3\\connection.py:565\u001b[39m, in \u001b[36mHTTPConnection.getresponse\u001b[39m\u001b[34m(self)\u001b[39m\n\u001b[32m    564\u001b[39m \u001b[38;5;66;03m# Get the response from http.client.HTTPConnection\u001b[39;00m\n\u001b[32m--> \u001b[39m\u001b[32m565\u001b[39m httplib_response = \u001b[38;5;28;43msuper\u001b[39;49m\u001b[43m(\u001b[49m\u001b[43m)\u001b[49m\u001b[43m.\u001b[49m\u001b[43mgetresponse\u001b[49m\u001b[43m(\u001b[49m\u001b[43m)\u001b[49m\n\u001b[32m    567\u001b[39m \u001b[38;5;28;01mtry\u001b[39;00m:\n",
      "\u001b[36mFile \u001b[39m\u001b[32mC:\\Python312\\Lib\\http\\client.py:1423\u001b[39m, in \u001b[36mHTTPConnection.getresponse\u001b[39m\u001b[34m(self)\u001b[39m\n\u001b[32m   1422\u001b[39m \u001b[38;5;28;01mtry\u001b[39;00m:\n\u001b[32m-> \u001b[39m\u001b[32m1423\u001b[39m     \u001b[43mresponse\u001b[49m\u001b[43m.\u001b[49m\u001b[43mbegin\u001b[49m\u001b[43m(\u001b[49m\u001b[43m)\u001b[49m\n\u001b[32m   1424\u001b[39m \u001b[38;5;28;01mexcept\u001b[39;00m \u001b[38;5;167;01mConnectionError\u001b[39;00m:\n",
      "\u001b[36mFile \u001b[39m\u001b[32mC:\\Python312\\Lib\\http\\client.py:331\u001b[39m, in \u001b[36mHTTPResponse.begin\u001b[39m\u001b[34m(self)\u001b[39m\n\u001b[32m    330\u001b[39m \u001b[38;5;28;01mwhile\u001b[39;00m \u001b[38;5;28;01mTrue\u001b[39;00m:\n\u001b[32m--> \u001b[39m\u001b[32m331\u001b[39m     version, status, reason = \u001b[38;5;28;43mself\u001b[39;49m\u001b[43m.\u001b[49m\u001b[43m_read_status\u001b[49m\u001b[43m(\u001b[49m\u001b[43m)\u001b[49m\n\u001b[32m    332\u001b[39m     \u001b[38;5;28;01mif\u001b[39;00m status != CONTINUE:\n",
      "\u001b[36mFile \u001b[39m\u001b[32mC:\\Python312\\Lib\\http\\client.py:300\u001b[39m, in \u001b[36mHTTPResponse._read_status\u001b[39m\u001b[34m(self)\u001b[39m\n\u001b[32m    297\u001b[39m \u001b[38;5;28;01mif\u001b[39;00m \u001b[38;5;129;01mnot\u001b[39;00m line:\n\u001b[32m    298\u001b[39m     \u001b[38;5;66;03m# Presumably, the server closed the connection before\u001b[39;00m\n\u001b[32m    299\u001b[39m     \u001b[38;5;66;03m# sending a valid response.\u001b[39;00m\n\u001b[32m--> \u001b[39m\u001b[32m300\u001b[39m     \u001b[38;5;28;01mraise\u001b[39;00m RemoteDisconnected(\u001b[33m\"\u001b[39m\u001b[33mRemote end closed connection without\u001b[39m\u001b[33m\"\u001b[39m\n\u001b[32m    301\u001b[39m                              \u001b[33m\"\u001b[39m\u001b[33m response\u001b[39m\u001b[33m\"\u001b[39m)\n\u001b[32m    302\u001b[39m \u001b[38;5;28;01mtry\u001b[39;00m:\n",
      "\u001b[31mRemoteDisconnected\u001b[39m: Remote end closed connection without response",
      "\nDuring handling of the above exception, another exception occurred:\n",
      "\u001b[31mProtocolError\u001b[39m                             Traceback (most recent call last)",
      "\u001b[36mFile \u001b[39m\u001b[32mc:\\1docs\\.venv\\Lib\\site-packages\\requests\\adapters.py:667\u001b[39m, in \u001b[36mHTTPAdapter.send\u001b[39m\u001b[34m(self, request, stream, timeout, verify, cert, proxies)\u001b[39m\n\u001b[32m    666\u001b[39m \u001b[38;5;28;01mtry\u001b[39;00m:\n\u001b[32m--> \u001b[39m\u001b[32m667\u001b[39m     resp = \u001b[43mconn\u001b[49m\u001b[43m.\u001b[49m\u001b[43murlopen\u001b[49m\u001b[43m(\u001b[49m\n\u001b[32m    668\u001b[39m \u001b[43m        \u001b[49m\u001b[43mmethod\u001b[49m\u001b[43m=\u001b[49m\u001b[43mrequest\u001b[49m\u001b[43m.\u001b[49m\u001b[43mmethod\u001b[49m\u001b[43m,\u001b[49m\n\u001b[32m    669\u001b[39m \u001b[43m        \u001b[49m\u001b[43murl\u001b[49m\u001b[43m=\u001b[49m\u001b[43murl\u001b[49m\u001b[43m,\u001b[49m\n\u001b[32m    670\u001b[39m \u001b[43m        \u001b[49m\u001b[43mbody\u001b[49m\u001b[43m=\u001b[49m\u001b[43mrequest\u001b[49m\u001b[43m.\u001b[49m\u001b[43mbody\u001b[49m\u001b[43m,\u001b[49m\n\u001b[32m    671\u001b[39m \u001b[43m        \u001b[49m\u001b[43mheaders\u001b[49m\u001b[43m=\u001b[49m\u001b[43mrequest\u001b[49m\u001b[43m.\u001b[49m\u001b[43mheaders\u001b[49m\u001b[43m,\u001b[49m\n\u001b[32m    672\u001b[39m \u001b[43m        \u001b[49m\u001b[43mredirect\u001b[49m\u001b[43m=\u001b[49m\u001b[38;5;28;43;01mFalse\u001b[39;49;00m\u001b[43m,\u001b[49m\n\u001b[32m    673\u001b[39m \u001b[43m        \u001b[49m\u001b[43massert_same_host\u001b[49m\u001b[43m=\u001b[49m\u001b[38;5;28;43;01mFalse\u001b[39;49;00m\u001b[43m,\u001b[49m\n\u001b[32m    674\u001b[39m \u001b[43m        \u001b[49m\u001b[43mpreload_content\u001b[49m\u001b[43m=\u001b[49m\u001b[38;5;28;43;01mFalse\u001b[39;49;00m\u001b[43m,\u001b[49m\n\u001b[32m    675\u001b[39m \u001b[43m        \u001b[49m\u001b[43mdecode_content\u001b[49m\u001b[43m=\u001b[49m\u001b[38;5;28;43;01mFalse\u001b[39;49;00m\u001b[43m,\u001b[49m\n\u001b[32m    676\u001b[39m \u001b[43m        \u001b[49m\u001b[43mretries\u001b[49m\u001b[43m=\u001b[49m\u001b[38;5;28;43mself\u001b[39;49m\u001b[43m.\u001b[49m\u001b[43mmax_retries\u001b[49m\u001b[43m,\u001b[49m\n\u001b[32m    677\u001b[39m \u001b[43m        \u001b[49m\u001b[43mtimeout\u001b[49m\u001b[43m=\u001b[49m\u001b[43mtimeout\u001b[49m\u001b[43m,\u001b[49m\n\u001b[32m    678\u001b[39m \u001b[43m        \u001b[49m\u001b[43mchunked\u001b[49m\u001b[43m=\u001b[49m\u001b[43mchunked\u001b[49m\u001b[43m,\u001b[49m\n\u001b[32m    679\u001b[39m \u001b[43m    \u001b[49m\u001b[43m)\u001b[49m\n\u001b[32m    681\u001b[39m \u001b[38;5;28;01mexcept\u001b[39;00m (ProtocolError, \u001b[38;5;167;01mOSError\u001b[39;00m) \u001b[38;5;28;01mas\u001b[39;00m err:\n",
      "\u001b[36mFile \u001b[39m\u001b[32mc:\\1docs\\.venv\\Lib\\site-packages\\urllib3\\connectionpool.py:841\u001b[39m, in \u001b[36mHTTPConnectionPool.urlopen\u001b[39m\u001b[34m(self, method, url, body, headers, retries, redirect, assert_same_host, timeout, pool_timeout, release_conn, chunked, body_pos, preload_content, decode_content, **response_kw)\u001b[39m\n\u001b[32m    839\u001b[39m     new_e = ProtocolError(\u001b[33m\"\u001b[39m\u001b[33mConnection aborted.\u001b[39m\u001b[33m\"\u001b[39m, new_e)\n\u001b[32m--> \u001b[39m\u001b[32m841\u001b[39m retries = \u001b[43mretries\u001b[49m\u001b[43m.\u001b[49m\u001b[43mincrement\u001b[49m\u001b[43m(\u001b[49m\n\u001b[32m    842\u001b[39m \u001b[43m    \u001b[49m\u001b[43mmethod\u001b[49m\u001b[43m,\u001b[49m\u001b[43m \u001b[49m\u001b[43murl\u001b[49m\u001b[43m,\u001b[49m\u001b[43m \u001b[49m\u001b[43merror\u001b[49m\u001b[43m=\u001b[49m\u001b[43mnew_e\u001b[49m\u001b[43m,\u001b[49m\u001b[43m \u001b[49m\u001b[43m_pool\u001b[49m\u001b[43m=\u001b[49m\u001b[38;5;28;43mself\u001b[39;49m\u001b[43m,\u001b[49m\u001b[43m \u001b[49m\u001b[43m_stacktrace\u001b[49m\u001b[43m=\u001b[49m\u001b[43msys\u001b[49m\u001b[43m.\u001b[49m\u001b[43mexc_info\u001b[49m\u001b[43m(\u001b[49m\u001b[43m)\u001b[49m\u001b[43m[\u001b[49m\u001b[32;43m2\u001b[39;49m\u001b[43m]\u001b[49m\n\u001b[32m    843\u001b[39m \u001b[43m\u001b[49m\u001b[43m)\u001b[49m\n\u001b[32m    844\u001b[39m retries.sleep()\n",
      "\u001b[36mFile \u001b[39m\u001b[32mc:\\1docs\\.venv\\Lib\\site-packages\\qiskit_ibm_runtime\\api\\session.py:125\u001b[39m, in \u001b[36mPostForcelistRetry.increment\u001b[39m\u001b[34m(self, method, url, response, error, _pool, _stacktrace)\u001b[39m\n\u001b[32m    116\u001b[39m     logger.debug(\n\u001b[32m    117\u001b[39m         \u001b[33m\"\u001b[39m\u001b[33mRetrying method=\u001b[39m\u001b[38;5;132;01m%s\u001b[39;00m\u001b[33m, url=\u001b[39m\u001b[38;5;132;01m%s\u001b[39;00m\u001b[33m, status=\u001b[39m\u001b[38;5;132;01m%s\u001b[39;00m\u001b[33m, error=\u001b[39m\u001b[38;5;132;01m%s\u001b[39;00m\u001b[33m, data=\u001b[39m\u001b[38;5;132;01m%s\u001b[39;00m\u001b[33m, headers=\u001b[39m\u001b[38;5;132;01m%s\u001b[39;00m\u001b[33m\"\u001b[39m,\n\u001b[32m    118\u001b[39m         method,\n\u001b[32m   (...)\u001b[39m\u001b[32m    123\u001b[39m         headers,\n\u001b[32m    124\u001b[39m     )\n\u001b[32m--> \u001b[39m\u001b[32m125\u001b[39m \u001b[38;5;28;01mreturn\u001b[39;00m \u001b[38;5;28;43msuper\u001b[39;49m\u001b[43m(\u001b[49m\u001b[43m)\u001b[49m\u001b[43m.\u001b[49m\u001b[43mincrement\u001b[49m\u001b[43m(\u001b[49m\n\u001b[32m    126\u001b[39m \u001b[43m    \u001b[49m\u001b[43mmethod\u001b[49m\u001b[43m=\u001b[49m\u001b[43mmethod\u001b[49m\u001b[43m,\u001b[49m\n\u001b[32m    127\u001b[39m \u001b[43m    \u001b[49m\u001b[43murl\u001b[49m\u001b[43m=\u001b[49m\u001b[43murl\u001b[49m\u001b[43m,\u001b[49m\n\u001b[32m    128\u001b[39m \u001b[43m    \u001b[49m\u001b[43mresponse\u001b[49m\u001b[43m=\u001b[49m\u001b[43mresponse\u001b[49m\u001b[43m,\u001b[49m\n\u001b[32m    129\u001b[39m \u001b[43m    \u001b[49m\u001b[43merror\u001b[49m\u001b[43m=\u001b[49m\u001b[43merror\u001b[49m\u001b[43m,\u001b[49m\n\u001b[32m    130\u001b[39m \u001b[43m    \u001b[49m\u001b[43m_pool\u001b[49m\u001b[43m=\u001b[49m\u001b[43m_pool\u001b[49m\u001b[43m,\u001b[49m\n\u001b[32m    131\u001b[39m \u001b[43m    \u001b[49m\u001b[43m_stacktrace\u001b[49m\u001b[43m=\u001b[49m\u001b[43m_stacktrace\u001b[49m\u001b[43m,\u001b[49m\n\u001b[32m    132\u001b[39m \u001b[43m\u001b[49m\u001b[43m)\u001b[49m\n",
      "\u001b[36mFile \u001b[39m\u001b[32mc:\\1docs\\.venv\\Lib\\site-packages\\urllib3\\util\\retry.py:474\u001b[39m, in \u001b[36mRetry.increment\u001b[39m\u001b[34m(self, method, url, response, error, _pool, _stacktrace)\u001b[39m\n\u001b[32m    473\u001b[39m \u001b[38;5;28;01mif\u001b[39;00m read \u001b[38;5;129;01mis\u001b[39;00m \u001b[38;5;28;01mFalse\u001b[39;00m \u001b[38;5;129;01mor\u001b[39;00m method \u001b[38;5;129;01mis\u001b[39;00m \u001b[38;5;28;01mNone\u001b[39;00m \u001b[38;5;129;01mor\u001b[39;00m \u001b[38;5;129;01mnot\u001b[39;00m \u001b[38;5;28mself\u001b[39m._is_method_retryable(method):\n\u001b[32m--> \u001b[39m\u001b[32m474\u001b[39m     \u001b[38;5;28;01mraise\u001b[39;00m \u001b[43mreraise\u001b[49m\u001b[43m(\u001b[49m\u001b[38;5;28;43mtype\u001b[39;49m\u001b[43m(\u001b[49m\u001b[43merror\u001b[49m\u001b[43m)\u001b[49m\u001b[43m,\u001b[49m\u001b[43m \u001b[49m\u001b[43merror\u001b[49m\u001b[43m,\u001b[49m\u001b[43m \u001b[49m\u001b[43m_stacktrace\u001b[49m\u001b[43m)\u001b[49m\n\u001b[32m    475\u001b[39m \u001b[38;5;28;01melif\u001b[39;00m read \u001b[38;5;129;01mis\u001b[39;00m \u001b[38;5;129;01mnot\u001b[39;00m \u001b[38;5;28;01mNone\u001b[39;00m:\n",
      "\u001b[36mFile \u001b[39m\u001b[32mc:\\1docs\\.venv\\Lib\\site-packages\\urllib3\\util\\util.py:38\u001b[39m, in \u001b[36mreraise\u001b[39m\u001b[34m(tp, value, tb)\u001b[39m\n\u001b[32m     37\u001b[39m \u001b[38;5;28;01mif\u001b[39;00m value.__traceback__ \u001b[38;5;129;01mis\u001b[39;00m \u001b[38;5;129;01mnot\u001b[39;00m tb:\n\u001b[32m---> \u001b[39m\u001b[32m38\u001b[39m     \u001b[38;5;28;01mraise\u001b[39;00m value.with_traceback(tb)\n\u001b[32m     39\u001b[39m \u001b[38;5;28;01mraise\u001b[39;00m value\n",
      "\u001b[36mFile \u001b[39m\u001b[32mc:\\1docs\\.venv\\Lib\\site-packages\\urllib3\\connectionpool.py:787\u001b[39m, in \u001b[36mHTTPConnectionPool.urlopen\u001b[39m\u001b[34m(self, method, url, body, headers, retries, redirect, assert_same_host, timeout, pool_timeout, release_conn, chunked, body_pos, preload_content, decode_content, **response_kw)\u001b[39m\n\u001b[32m    786\u001b[39m \u001b[38;5;66;03m# Make the request on the HTTPConnection object\u001b[39;00m\n\u001b[32m--> \u001b[39m\u001b[32m787\u001b[39m response = \u001b[38;5;28;43mself\u001b[39;49m\u001b[43m.\u001b[49m\u001b[43m_make_request\u001b[49m\u001b[43m(\u001b[49m\n\u001b[32m    788\u001b[39m \u001b[43m    \u001b[49m\u001b[43mconn\u001b[49m\u001b[43m,\u001b[49m\n\u001b[32m    789\u001b[39m \u001b[43m    \u001b[49m\u001b[43mmethod\u001b[49m\u001b[43m,\u001b[49m\n\u001b[32m    790\u001b[39m \u001b[43m    \u001b[49m\u001b[43murl\u001b[49m\u001b[43m,\u001b[49m\n\u001b[32m    791\u001b[39m \u001b[43m    \u001b[49m\u001b[43mtimeout\u001b[49m\u001b[43m=\u001b[49m\u001b[43mtimeout_obj\u001b[49m\u001b[43m,\u001b[49m\n\u001b[32m    792\u001b[39m \u001b[43m    \u001b[49m\u001b[43mbody\u001b[49m\u001b[43m=\u001b[49m\u001b[43mbody\u001b[49m\u001b[43m,\u001b[49m\n\u001b[32m    793\u001b[39m \u001b[43m    \u001b[49m\u001b[43mheaders\u001b[49m\u001b[43m=\u001b[49m\u001b[43mheaders\u001b[49m\u001b[43m,\u001b[49m\n\u001b[32m    794\u001b[39m \u001b[43m    \u001b[49m\u001b[43mchunked\u001b[49m\u001b[43m=\u001b[49m\u001b[43mchunked\u001b[49m\u001b[43m,\u001b[49m\n\u001b[32m    795\u001b[39m \u001b[43m    \u001b[49m\u001b[43mretries\u001b[49m\u001b[43m=\u001b[49m\u001b[43mretries\u001b[49m\u001b[43m,\u001b[49m\n\u001b[32m    796\u001b[39m \u001b[43m    \u001b[49m\u001b[43mresponse_conn\u001b[49m\u001b[43m=\u001b[49m\u001b[43mresponse_conn\u001b[49m\u001b[43m,\u001b[49m\n\u001b[32m    797\u001b[39m \u001b[43m    \u001b[49m\u001b[43mpreload_content\u001b[49m\u001b[43m=\u001b[49m\u001b[43mpreload_content\u001b[49m\u001b[43m,\u001b[49m\n\u001b[32m    798\u001b[39m \u001b[43m    \u001b[49m\u001b[43mdecode_content\u001b[49m\u001b[43m=\u001b[49m\u001b[43mdecode_content\u001b[49m\u001b[43m,\u001b[49m\n\u001b[32m    799\u001b[39m \u001b[43m    \u001b[49m\u001b[43m*\u001b[49m\u001b[43m*\u001b[49m\u001b[43mresponse_kw\u001b[49m\u001b[43m,\u001b[49m\n\u001b[32m    800\u001b[39m \u001b[43m\u001b[49m\u001b[43m)\u001b[49m\n\u001b[32m    802\u001b[39m \u001b[38;5;66;03m# Everything went great!\u001b[39;00m\n",
      "\u001b[36mFile \u001b[39m\u001b[32mc:\\1docs\\.venv\\Lib\\site-packages\\urllib3\\connectionpool.py:534\u001b[39m, in \u001b[36mHTTPConnectionPool._make_request\u001b[39m\u001b[34m(self, conn, method, url, body, headers, retries, timeout, chunked, response_conn, preload_content, decode_content, enforce_content_length)\u001b[39m\n\u001b[32m    533\u001b[39m \u001b[38;5;28;01mtry\u001b[39;00m:\n\u001b[32m--> \u001b[39m\u001b[32m534\u001b[39m     response = \u001b[43mconn\u001b[49m\u001b[43m.\u001b[49m\u001b[43mgetresponse\u001b[49m\u001b[43m(\u001b[49m\u001b[43m)\u001b[49m\n\u001b[32m    535\u001b[39m \u001b[38;5;28;01mexcept\u001b[39;00m (BaseSSLError, \u001b[38;5;167;01mOSError\u001b[39;00m) \u001b[38;5;28;01mas\u001b[39;00m e:\n",
      "\u001b[36mFile \u001b[39m\u001b[32mc:\\1docs\\.venv\\Lib\\site-packages\\urllib3\\connection.py:565\u001b[39m, in \u001b[36mHTTPConnection.getresponse\u001b[39m\u001b[34m(self)\u001b[39m\n\u001b[32m    564\u001b[39m \u001b[38;5;66;03m# Get the response from http.client.HTTPConnection\u001b[39;00m\n\u001b[32m--> \u001b[39m\u001b[32m565\u001b[39m httplib_response = \u001b[38;5;28;43msuper\u001b[39;49m\u001b[43m(\u001b[49m\u001b[43m)\u001b[49m\u001b[43m.\u001b[49m\u001b[43mgetresponse\u001b[49m\u001b[43m(\u001b[49m\u001b[43m)\u001b[49m\n\u001b[32m    567\u001b[39m \u001b[38;5;28;01mtry\u001b[39;00m:\n",
      "\u001b[36mFile \u001b[39m\u001b[32mC:\\Python312\\Lib\\http\\client.py:1423\u001b[39m, in \u001b[36mHTTPConnection.getresponse\u001b[39m\u001b[34m(self)\u001b[39m\n\u001b[32m   1422\u001b[39m \u001b[38;5;28;01mtry\u001b[39;00m:\n\u001b[32m-> \u001b[39m\u001b[32m1423\u001b[39m     \u001b[43mresponse\u001b[49m\u001b[43m.\u001b[49m\u001b[43mbegin\u001b[49m\u001b[43m(\u001b[49m\u001b[43m)\u001b[49m\n\u001b[32m   1424\u001b[39m \u001b[38;5;28;01mexcept\u001b[39;00m \u001b[38;5;167;01mConnectionError\u001b[39;00m:\n",
      "\u001b[36mFile \u001b[39m\u001b[32mC:\\Python312\\Lib\\http\\client.py:331\u001b[39m, in \u001b[36mHTTPResponse.begin\u001b[39m\u001b[34m(self)\u001b[39m\n\u001b[32m    330\u001b[39m \u001b[38;5;28;01mwhile\u001b[39;00m \u001b[38;5;28;01mTrue\u001b[39;00m:\n\u001b[32m--> \u001b[39m\u001b[32m331\u001b[39m     version, status, reason = \u001b[38;5;28;43mself\u001b[39;49m\u001b[43m.\u001b[49m\u001b[43m_read_status\u001b[49m\u001b[43m(\u001b[49m\u001b[43m)\u001b[49m\n\u001b[32m    332\u001b[39m     \u001b[38;5;28;01mif\u001b[39;00m status != CONTINUE:\n",
      "\u001b[36mFile \u001b[39m\u001b[32mC:\\Python312\\Lib\\http\\client.py:300\u001b[39m, in \u001b[36mHTTPResponse._read_status\u001b[39m\u001b[34m(self)\u001b[39m\n\u001b[32m    297\u001b[39m \u001b[38;5;28;01mif\u001b[39;00m \u001b[38;5;129;01mnot\u001b[39;00m line:\n\u001b[32m    298\u001b[39m     \u001b[38;5;66;03m# Presumably, the server closed the connection before\u001b[39;00m\n\u001b[32m    299\u001b[39m     \u001b[38;5;66;03m# sending a valid response.\u001b[39;00m\n\u001b[32m--> \u001b[39m\u001b[32m300\u001b[39m     \u001b[38;5;28;01mraise\u001b[39;00m RemoteDisconnected(\u001b[33m\"\u001b[39m\u001b[33mRemote end closed connection without\u001b[39m\u001b[33m\"\u001b[39m\n\u001b[32m    301\u001b[39m                              \u001b[33m\"\u001b[39m\u001b[33m response\u001b[39m\u001b[33m\"\u001b[39m)\n\u001b[32m    302\u001b[39m \u001b[38;5;28;01mtry\u001b[39;00m:\n",
      "\u001b[31mProtocolError\u001b[39m: ('Connection aborted.', RemoteDisconnected('Remote end closed connection without response'))",
      "\nDuring handling of the above exception, another exception occurred:\n",
      "\u001b[31mConnectionError\u001b[39m                           Traceback (most recent call last)",
      "\u001b[36mFile \u001b[39m\u001b[32mc:\\1docs\\.venv\\Lib\\site-packages\\qiskit_ibm_runtime\\api\\session.py:327\u001b[39m, in \u001b[36mRetrySession.request\u001b[39m\u001b[34m(self, method, url, bare, **kwargs)\u001b[39m\n\u001b[32m    326\u001b[39m \u001b[38;5;28mself\u001b[39m._log_request_info(final_url, method, kwargs)\n\u001b[32m--> \u001b[39m\u001b[32m327\u001b[39m response = \u001b[38;5;28;43msuper\u001b[39;49m\u001b[43m(\u001b[49m\u001b[43m)\u001b[49m\u001b[43m.\u001b[49m\u001b[43mrequest\u001b[49m\u001b[43m(\u001b[49m\u001b[43mmethod\u001b[49m\u001b[43m,\u001b[49m\u001b[43m \u001b[49m\u001b[43mfinal_url\u001b[49m\u001b[43m,\u001b[49m\u001b[43m \u001b[49m\u001b[43mheaders\u001b[49m\u001b[43m=\u001b[49m\u001b[43mheaders\u001b[49m\u001b[43m,\u001b[49m\u001b[43m \u001b[49m\u001b[43m*\u001b[49m\u001b[43m*\u001b[49m\u001b[43mkwargs\u001b[49m\u001b[43m)\u001b[49m\n\u001b[32m    328\u001b[39m response.raise_for_status()\n",
      "\u001b[36mFile \u001b[39m\u001b[32mc:\\1docs\\.venv\\Lib\\site-packages\\requests\\sessions.py:589\u001b[39m, in \u001b[36mSession.request\u001b[39m\u001b[34m(self, method, url, params, data, headers, cookies, files, auth, timeout, allow_redirects, proxies, hooks, stream, verify, cert, json)\u001b[39m\n\u001b[32m    588\u001b[39m send_kwargs.update(settings)\n\u001b[32m--> \u001b[39m\u001b[32m589\u001b[39m resp = \u001b[38;5;28;43mself\u001b[39;49m\u001b[43m.\u001b[49m\u001b[43msend\u001b[49m\u001b[43m(\u001b[49m\u001b[43mprep\u001b[49m\u001b[43m,\u001b[49m\u001b[43m \u001b[49m\u001b[43m*\u001b[49m\u001b[43m*\u001b[49m\u001b[43msend_kwargs\u001b[49m\u001b[43m)\u001b[49m\n\u001b[32m    591\u001b[39m \u001b[38;5;28;01mreturn\u001b[39;00m resp\n",
      "\u001b[36mFile \u001b[39m\u001b[32mc:\\1docs\\.venv\\Lib\\site-packages\\requests\\sessions.py:703\u001b[39m, in \u001b[36mSession.send\u001b[39m\u001b[34m(self, request, **kwargs)\u001b[39m\n\u001b[32m    702\u001b[39m \u001b[38;5;66;03m# Send the request\u001b[39;00m\n\u001b[32m--> \u001b[39m\u001b[32m703\u001b[39m r = \u001b[43madapter\u001b[49m\u001b[43m.\u001b[49m\u001b[43msend\u001b[49m\u001b[43m(\u001b[49m\u001b[43mrequest\u001b[49m\u001b[43m,\u001b[49m\u001b[43m \u001b[49m\u001b[43m*\u001b[49m\u001b[43m*\u001b[49m\u001b[43mkwargs\u001b[49m\u001b[43m)\u001b[49m\n\u001b[32m    705\u001b[39m \u001b[38;5;66;03m# Total elapsed time of the request (approximately)\u001b[39;00m\n",
      "\u001b[36mFile \u001b[39m\u001b[32mc:\\1docs\\.venv\\Lib\\site-packages\\requests\\adapters.py:682\u001b[39m, in \u001b[36mHTTPAdapter.send\u001b[39m\u001b[34m(self, request, stream, timeout, verify, cert, proxies)\u001b[39m\n\u001b[32m    681\u001b[39m \u001b[38;5;28;01mexcept\u001b[39;00m (ProtocolError, \u001b[38;5;167;01mOSError\u001b[39;00m) \u001b[38;5;28;01mas\u001b[39;00m err:\n\u001b[32m--> \u001b[39m\u001b[32m682\u001b[39m     \u001b[38;5;28;01mraise\u001b[39;00m \u001b[38;5;167;01mConnectionError\u001b[39;00m(err, request=request)\n\u001b[32m    684\u001b[39m \u001b[38;5;28;01mexcept\u001b[39;00m MaxRetryError \u001b[38;5;28;01mas\u001b[39;00m e:\n",
      "\u001b[31mConnectionError\u001b[39m: ('Connection aborted.', RemoteDisconnected('Remote end closed connection without response'))",
      "\nThe above exception was the direct cause of the following exception:\n",
      "\u001b[31mRequestsApiError\u001b[39m                          Traceback (most recent call last)",
      "\u001b[36mCell\u001b[39m\u001b[36m \u001b[39m\u001b[32mIn[12]\u001b[39m\u001b[32m, line 6\u001b[39m\n\u001b[32m      3\u001b[39m batches_exp = BatchExperiment(batches, backend)  \u001b[38;5;66;03m# , analysis=None)\u001b[39;00m\n\u001b[32m      4\u001b[39m run_options = {\u001b[33m\"\u001b[39m\u001b[33mshots\u001b[39m\u001b[33m\"\u001b[39m: \u001b[32m1e3\u001b[39m, \u001b[33m\"\u001b[39m\u001b[33mdynamic\u001b[39m\u001b[33m\"\u001b[39m: \u001b[38;5;28;01mFalse\u001b[39;00m}\n\u001b[32m----> \u001b[39m\u001b[32m6\u001b[39m \u001b[38;5;28;01mwith\u001b[39;00m \u001b[43mSession\u001b[49m\u001b[43m(\u001b[49m\u001b[43mbackend\u001b[49m\u001b[43m=\u001b[49m\u001b[43mbackend\u001b[49m\u001b[43m)\u001b[49m \u001b[38;5;28;01mas\u001b[39;00m session:\n\u001b[32m      7\u001b[39m     sampler = SamplerV2(mode=session)\n\u001b[32m      9\u001b[39m     \u001b[38;5;66;03m# Run characterization experiments\u001b[39;00m\n",
      "\u001b[36mFile \u001b[39m\u001b[32mc:\\1docs\\.venv\\Lib\\site-packages\\qiskit_ibm_runtime\\session.py:132\u001b[39m, in \u001b[36mSession.__init__\u001b[39m\u001b[34m(self, backend, max_time, create_new)\u001b[39m\n\u001b[32m    130\u001b[39m \u001b[38;5;28mself\u001b[39m._instance = \u001b[38;5;28mself\u001b[39m._backend._instance\n\u001b[32m    131\u001b[39m \u001b[38;5;28;01mif\u001b[39;00m \u001b[38;5;129;01mnot\u001b[39;00m \u001b[38;5;28mself\u001b[39m._backend.configuration().simulator:\n\u001b[32m--> \u001b[39m\u001b[32m132\u001b[39m     \u001b[38;5;28mself\u001b[39m._session_id = \u001b[38;5;28;43mself\u001b[39;49m\u001b[43m.\u001b[49m\u001b[43m_create_session\u001b[49m\u001b[43m(\u001b[49m\u001b[43mcreate_new\u001b[49m\u001b[43m=\u001b[49m\u001b[43mcreate_new\u001b[49m\u001b[43m)\u001b[49m\n",
      "\u001b[36mFile \u001b[39m\u001b[32mc:\\1docs\\.venv\\Lib\\site-packages\\qiskit_ibm_runtime\\session.py:137\u001b[39m, in \u001b[36mSession._create_session\u001b[39m\u001b[34m(self, create_new)\u001b[39m\n\u001b[32m    135\u001b[39m \u001b[38;5;250m\u001b[39m\u001b[33;03m\"\"\"Create a session.\"\"\"\u001b[39;00m\n\u001b[32m    136\u001b[39m \u001b[38;5;28;01mif\u001b[39;00m \u001b[38;5;28misinstance\u001b[39m(\u001b[38;5;28mself\u001b[39m._service, QiskitRuntimeService) \u001b[38;5;129;01mand\u001b[39;00m create_new:\n\u001b[32m--> \u001b[39m\u001b[32m137\u001b[39m     session = \u001b[38;5;28;43mself\u001b[39;49m\u001b[43m.\u001b[49m\u001b[43m_service\u001b[49m\u001b[43m.\u001b[49m\u001b[43m_get_api_client\u001b[49m\u001b[43m(\u001b[49m\u001b[38;5;28;43mself\u001b[39;49m\u001b[43m.\u001b[49m\u001b[43m_instance\u001b[49m\u001b[43m)\u001b[49m\u001b[43m.\u001b[49m\u001b[43mcreate_session\u001b[49m\u001b[43m(\u001b[49m\n\u001b[32m    138\u001b[39m \u001b[43m        \u001b[49m\u001b[38;5;28;43mself\u001b[39;49m\u001b[43m.\u001b[49m\u001b[43mbackend\u001b[49m\u001b[43m(\u001b[49m\u001b[43m)\u001b[49m\u001b[43m,\u001b[49m\u001b[43m \u001b[49m\u001b[38;5;28;43mself\u001b[39;49m\u001b[43m.\u001b[49m\u001b[43m_instance\u001b[49m\u001b[43m,\u001b[49m\u001b[43m \u001b[49m\u001b[38;5;28;43mself\u001b[39;49m\u001b[43m.\u001b[49m\u001b[43m_max_time\u001b[49m\u001b[43m,\u001b[49m\u001b[43m \u001b[49m\u001b[38;5;28;43mself\u001b[39;49m\u001b[43m.\u001b[49m\u001b[43m_service\u001b[49m\u001b[43m.\u001b[49m\u001b[43mchannel\u001b[49m\u001b[43m,\u001b[49m\u001b[43m \u001b[49m\u001b[33;43m\"\u001b[39;49m\u001b[33;43mdedicated\u001b[39;49m\u001b[33;43m\"\u001b[39;49m\n\u001b[32m    139\u001b[39m \u001b[43m    \u001b[49m\u001b[43m)\u001b[49m\n\u001b[32m    140\u001b[39m     \u001b[38;5;28;01mreturn\u001b[39;00m session.get(\u001b[33m\"\u001b[39m\u001b[33mid\u001b[39m\u001b[33m\"\u001b[39m)\n\u001b[32m    141\u001b[39m \u001b[38;5;28;01mreturn\u001b[39;00m \u001b[38;5;28;01mNone\u001b[39;00m\n",
      "\u001b[36mFile \u001b[39m\u001b[32mc:\\1docs\\.venv\\Lib\\site-packages\\qiskit_ibm_runtime\\api\\clients\\runtime.py:237\u001b[39m, in \u001b[36mRuntimeClient.create_session\u001b[39m\u001b[34m(self, backend, instance, max_time, channel, mode)\u001b[39m\n\u001b[32m    224\u001b[39m \u001b[38;5;28;01mdef\u001b[39;00m\u001b[38;5;250m \u001b[39m\u001b[34mcreate_session\u001b[39m(\n\u001b[32m    225\u001b[39m     \u001b[38;5;28mself\u001b[39m,\n\u001b[32m    226\u001b[39m     backend: Optional[\u001b[38;5;28mstr\u001b[39m] = \u001b[38;5;28;01mNone\u001b[39;00m,\n\u001b[32m   (...)\u001b[39m\u001b[32m    230\u001b[39m     mode: Optional[\u001b[38;5;28mstr\u001b[39m] = \u001b[38;5;28;01mNone\u001b[39;00m,\n\u001b[32m    231\u001b[39m ) -> Dict[\u001b[38;5;28mstr\u001b[39m, Any]:\n\u001b[32m    232\u001b[39m \u001b[38;5;250m    \u001b[39m\u001b[33;03m\"\"\"Create a session.\u001b[39;00m\n\u001b[32m    233\u001b[39m \n\u001b[32m    234\u001b[39m \u001b[33;03m    Args:\u001b[39;00m\n\u001b[32m    235\u001b[39m \u001b[33;03m        mode: Execution mode.\u001b[39;00m\n\u001b[32m    236\u001b[39m \u001b[33;03m    \"\"\"\u001b[39;00m\n\u001b[32m--> \u001b[39m\u001b[32m237\u001b[39m     \u001b[38;5;28;01mreturn\u001b[39;00m \u001b[38;5;28;43mself\u001b[39;49m\u001b[43m.\u001b[49m\u001b[43m_api\u001b[49m\u001b[43m.\u001b[49m\u001b[43mruntime_session\u001b[49m\u001b[43m(\u001b[49m\u001b[43msession_id\u001b[49m\u001b[43m=\u001b[49m\u001b[38;5;28;43;01mNone\u001b[39;49;00m\u001b[43m)\u001b[49m\u001b[43m.\u001b[49m\u001b[43mcreate\u001b[49m\u001b[43m(\u001b[49m\n\u001b[32m    238\u001b[39m \u001b[43m        \u001b[49m\u001b[43mbackend\u001b[49m\u001b[43m,\u001b[49m\u001b[43m \u001b[49m\u001b[43minstance\u001b[49m\u001b[43m,\u001b[49m\u001b[43m \u001b[49m\u001b[43mmax_time\u001b[49m\u001b[43m,\u001b[49m\u001b[43m \u001b[49m\u001b[43mchannel\u001b[49m\u001b[43m,\u001b[49m\u001b[43m \u001b[49m\u001b[43mmode\u001b[49m\n\u001b[32m    239\u001b[39m \u001b[43m    \u001b[49m\u001b[43m)\u001b[49m\n",
      "\u001b[36mFile \u001b[39m\u001b[32mc:\\1docs\\.venv\\Lib\\site-packages\\qiskit_ibm_runtime\\api\\rest\\runtime_session.py:65\u001b[39m, in \u001b[36mRuntimeSession.create\u001b[39m\u001b[34m(self, backend, instance, max_time, channel, mode)\u001b[39m\n\u001b[32m     63\u001b[39m     \u001b[38;5;28;01melse\u001b[39;00m:\n\u001b[32m     64\u001b[39m         payload[\u001b[33m\"\u001b[39m\u001b[33mmax_ttl\u001b[39m\u001b[33m\"\u001b[39m] = max_time  \u001b[38;5;66;03m# type: ignore[assignment]\u001b[39;00m\n\u001b[32m---> \u001b[39m\u001b[32m65\u001b[39m \u001b[38;5;28;01mreturn\u001b[39;00m \u001b[38;5;28;43mself\u001b[39;49m\u001b[43m.\u001b[49m\u001b[43msession\u001b[49m\u001b[43m.\u001b[49m\u001b[43mpost\u001b[49m\u001b[43m(\u001b[49m\u001b[43murl\u001b[49m\u001b[43m,\u001b[49m\u001b[43m \u001b[49m\u001b[43mjson\u001b[49m\u001b[43m=\u001b[49m\u001b[43mpayload\u001b[49m\u001b[43m,\u001b[49m\u001b[43m \u001b[49m\u001b[43mheaders\u001b[49m\u001b[43m=\u001b[49m\u001b[38;5;28;43mself\u001b[39;49m\u001b[43m.\u001b[49m\u001b[43m_HEADER_JSON_CONTENT\u001b[49m\u001b[43m)\u001b[49m.json()\n",
      "\u001b[36mFile \u001b[39m\u001b[32mc:\\1docs\\.venv\\Lib\\site-packages\\requests\\sessions.py:637\u001b[39m, in \u001b[36mSession.post\u001b[39m\u001b[34m(self, url, data, json, **kwargs)\u001b[39m\n\u001b[32m    626\u001b[39m \u001b[38;5;28;01mdef\u001b[39;00m\u001b[38;5;250m \u001b[39m\u001b[34mpost\u001b[39m(\u001b[38;5;28mself\u001b[39m, url, data=\u001b[38;5;28;01mNone\u001b[39;00m, json=\u001b[38;5;28;01mNone\u001b[39;00m, **kwargs):\n\u001b[32m    627\u001b[39m \u001b[38;5;250m    \u001b[39m\u001b[33mr\u001b[39m\u001b[33;03m\"\"\"Sends a POST request. Returns :class:`Response` object.\u001b[39;00m\n\u001b[32m    628\u001b[39m \n\u001b[32m    629\u001b[39m \u001b[33;03m    :param url: URL for the new :class:`Request` object.\u001b[39;00m\n\u001b[32m   (...)\u001b[39m\u001b[32m    634\u001b[39m \u001b[33;03m    :rtype: requests.Response\u001b[39;00m\n\u001b[32m    635\u001b[39m \u001b[33;03m    \"\"\"\u001b[39;00m\n\u001b[32m--> \u001b[39m\u001b[32m637\u001b[39m     \u001b[38;5;28;01mreturn\u001b[39;00m \u001b[38;5;28;43mself\u001b[39;49m\u001b[43m.\u001b[49m\u001b[43mrequest\u001b[49m\u001b[43m(\u001b[49m\u001b[33;43m\"\u001b[39;49m\u001b[33;43mPOST\u001b[39;49m\u001b[33;43m\"\u001b[39;49m\u001b[43m,\u001b[49m\u001b[43m \u001b[49m\u001b[43murl\u001b[49m\u001b[43m,\u001b[49m\u001b[43m \u001b[49m\u001b[43mdata\u001b[49m\u001b[43m=\u001b[49m\u001b[43mdata\u001b[49m\u001b[43m,\u001b[49m\u001b[43m \u001b[49m\u001b[43mjson\u001b[49m\u001b[43m=\u001b[49m\u001b[43mjson\u001b[49m\u001b[43m,\u001b[49m\u001b[43m \u001b[49m\u001b[43m*\u001b[49m\u001b[43m*\u001b[49m\u001b[43mkwargs\u001b[49m\u001b[43m)\u001b[49m\n",
      "\u001b[36mFile \u001b[39m\u001b[32mc:\\1docs\\.venv\\Lib\\site-packages\\qiskit_ibm_runtime\\api\\session.py:356\u001b[39m, in \u001b[36mRetrySession.request\u001b[39m\u001b[34m(self, method, url, bare, **kwargs)\u001b[39m\n\u001b[32m    350\u001b[39m     \u001b[38;5;28;01mif\u001b[39;00m status_code == \u001b[32m503\u001b[39m:  \u001b[38;5;66;03m# Planned maintenance outage\u001b[39;00m\n\u001b[32m    351\u001b[39m         \u001b[38;5;28;01mraise\u001b[39;00m RequestsApiError(\n\u001b[32m    352\u001b[39m             \u001b[33m\"\u001b[39m\u001b[33mUnexpected response received from server. Please check if the service \u001b[39m\u001b[33m\"\u001b[39m\n\u001b[32m    353\u001b[39m             \u001b[33m\"\u001b[39m\u001b[33mis in maintenance mode \u001b[39m\u001b[33m\"\u001b[39m\n\u001b[32m    354\u001b[39m             \u001b[33mf\u001b[39m\u001b[33m\"\u001b[39m\u001b[33mhttps://docs.quantum.ibm.com/announcements/service-alerts \u001b[39m\u001b[38;5;132;01m{\u001b[39;00mmessage\u001b[38;5;132;01m}\u001b[39;00m\u001b[33m\"\u001b[39m\n\u001b[32m    355\u001b[39m         )\n\u001b[32m--> \u001b[39m\u001b[32m356\u001b[39m     \u001b[38;5;28;01mraise\u001b[39;00m RequestsApiError(message, status_code) \u001b[38;5;28;01mfrom\u001b[39;00m\u001b[38;5;250m \u001b[39m\u001b[34;01mex\u001b[39;00m\n\u001b[32m    358\u001b[39m \u001b[38;5;28;01mreturn\u001b[39;00m response\n",
      "\u001b[31mRequestsApiError\u001b[39m: \"('Connection aborted.', RemoteDisconnected('Remote end closed connection without response'))\""
     ]
    }
   ],
   "source": [
    "# Prepare characterization experiments\n",
    "batches = [t1_exp, t2_exp, readout_exp, singleq_rb_exp, twoq_rb_exp_batched]\n",
    "batches_exp = BatchExperiment(batches, backend)  # , analysis=None)\n",
    "run_options = {\"shots\": 1e3, \"dynamic\": False}\n",
    "\n",
    "with Session(backend=backend) as session:\n",
    "    sampler = SamplerV2(mode=session)\n",
    "\n",
    "    # Run characterization experiments\n",
    "    batches_exp_data = batches_exp.run(\n",
    "        sampler=sampler, **run_options\n",
    "    ).block_for_results()\n",
    "\n",
    "    EPG_sx_result_list = batches_exp_data.analysis_results(\"EPG_sx\")\n",
    "    EPG_sx_result_q_indices = [\n",
    "        result.device_components.index for result in EPG_sx_result_list\n",
    "    ]\n",
    "    EPG_x_result_list = batches_exp_data.analysis_results(\"EPG_x\")\n",
    "    EPG_x_result_q_indices = [\n",
    "        result.device_components.index for result in EPG_x_result_list\n",
    "    ]\n",
    "    T1_result_list = batches_exp_data.analysis_results(\"T1\")\n",
    "    T1_result_q_indices = [\n",
    "        result.device_components.index for result in T1_result_list\n",
    "    ]\n",
    "\n",
    "    T2_result_list = batches_exp_data.analysis_results(\"T2\")\n",
    "    T2_result_q_indices = [\n",
    "        result.device_components.index for result in T2_result_list\n",
    "    ]\n",
    "\n",
    "    Readout_result_list = batches_exp_data.analysis_results(\n",
    "        \"Local Readout Mitigator\"\n",
    "    )\n",
    "\n",
    "    EPG_ecr_result_list = batches_exp_data.analysis_results(\"EPG_ecr\")\n",
    "\n",
    "    # Update target properties\n",
    "    target = copy.deepcopy(backend.target)\n",
    "    for i in range(target.num_qubits - 1):\n",
    "        qarg = (i,)\n",
    "\n",
    "        if qarg in EPG_sx_result_q_indices:\n",
    "            target.update_instruction_properties(\n",
    "                instruction=\"sx\",\n",
    "                qargs=qarg,\n",
    "                properties=InstructionProperties(\n",
    "                    error=EPG_sx_result_list[i].value.nominal_value\n",
    "                ),\n",
    "            )\n",
    "        if qarg in EPG_x_result_q_indices:\n",
    "            target.update_instruction_properties(\n",
    "                instruction=\"x\",\n",
    "                qargs=qarg,\n",
    "                properties=InstructionProperties(\n",
    "                    error=EPG_x_result_list[i].value.nominal_value\n",
    "                ),\n",
    "            )\n",
    "\n",
    "        err_mat = Readout_result_list.value.assignment_matrix(i)\n",
    "        readout_assignment_error = (\n",
    "            err_mat[0, 1] + err_mat[1, 0]\n",
    "        ) / 2  # average readout error\n",
    "        target.update_instruction_properties(\n",
    "            instruction=\"measure\",\n",
    "            qargs=qarg,\n",
    "            properties=InstructionProperties(error=readout_assignment_error),\n",
    "        )\n",
    "\n",
    "        if qarg in T1_result_q_indices:\n",
    "            target.qubit_properties[i].t1 = T1_result_list[\n",
    "                i\n",
    "            ].value.nominal_value\n",
    "        if qarg in T2_result_q_indices:\n",
    "            target.qubit_properties[i].t2 = T2_result_list[\n",
    "                i\n",
    "            ].value.nominal_value\n",
    "\n",
    "    for pair_idx, pair in enumerate(flattened_layered_coupling_map):\n",
    "        qarg = tuple(pair)\n",
    "        try:\n",
    "            target.update_instruction_properties(\n",
    "                instruction=\"ecr\",\n",
    "                qargs=qarg,\n",
    "                properties=InstructionProperties(\n",
    "                    error=EPG_ecr_result_list[pair_idx].value.nominal_value\n",
    "                ),\n",
    "            )\n",
    "        except:\n",
    "            target.update_instruction_properties(\n",
    "                instruction=\"ecr\",\n",
    "                qargs=qarg[::-1],\n",
    "                properties=InstructionProperties(\n",
    "                    error=EPG_ecr_result_list[pair_idx].value.nominal_value\n",
    "                ),\n",
    "            )\n",
    "\n",
    "    # transpile circuits to updated target\n",
    "    pm = generate_preset_pass_manager(target=target, optimization_level=3)\n",
    "    isa_circuit_updated = pm.run(circuits)\n",
    "    updated_qubits = [\n",
    "        [\n",
    "            idx\n",
    "            for idx, qb in circuit.layout.initial_layout.get_physical_bits().items()\n",
    "            if qb._register.name != \"ancilla\"\n",
    "        ]\n",
    "        for circuit in isa_circuit_updated\n",
    "    ]\n",
    "\n",
    "    n_trials = 3  # run multiple trials to see variations\n",
    "\n",
    "    # interleave circuits\n",
    "    interleaved_circuits = []\n",
    "    for original_circuit, updated_circuit in zip(\n",
    "        isa_circuits, isa_circuit_updated\n",
    "    ):\n",
    "        interleaved_circuits.append(original_circuit)\n",
    "        interleaved_circuits.append(updated_circuit)\n",
    "\n",
    "    # Run circuits\n",
    "    # Set simple error suppression/mitigation options\n",
    "    sampler.options.dynamical_decoupling.enable = True\n",
    "    sampler.options.dynamical_decoupling.sequence_type = \"XY4\"\n",
    "\n",
    "    job_interleaved = sampler.run(interleaved_circuits * n_trials)"
   ]
  },
  {
   "cell_type": "markdown",
   "id": "f1691250-bf7c-4b88-ad98-3fc2c891923b",
   "metadata": {},
   "source": [
    "## Step 4: Post-process and return result in desired classical format\n",
    "\n",
    "Finally, let's compare the fidelity of the Bell state obtained in the two different settings:\n",
    "- `original`, that is with the default qubits chosen by the transpiler based on reported properties of the backend.\n",
    "- `updated`, that is with the qubits chosen based on updated properties of the backend after characterization experiments have run."
   ]
  },
  {
   "cell_type": "code",
   "execution_count": null,
   "id": "a670d0f2-3908-4e69-9945-8128db30c36b",
   "metadata": {},
   "outputs": [],
   "source": [
    "results = job_interleaved.result()\n",
    "all_fidelity_list, all_fidelity_updated_list = [], []\n",
    "for exp_idx in range(n_trials):\n",
    "    fidelity_list, fidelity_updated_list = [], []\n",
    "\n",
    "    for idx, num_qubits in enumerate(num_qubits_list):\n",
    "        pub_result_original = results[\n",
    "            2 * exp_idx * len(num_qubits_list) + 2 * idx\n",
    "        ]\n",
    "        pub_result_updated = results[\n",
    "            2 * exp_idx * len(num_qubits_list) + 2 * idx + 1\n",
    "        ]\n",
    "\n",
    "        fid = hellinger_fidelity(\n",
    "            ideal_dist, pub_result_original.data.c.get_counts()\n",
    "        )\n",
    "        fidelity_list.append(fid)\n",
    "\n",
    "        fid_up = hellinger_fidelity(\n",
    "            ideal_dist, pub_result_updated.data.c.get_counts()\n",
    "        )\n",
    "        fidelity_updated_list.append(fid_up)\n",
    "    all_fidelity_list.append(fidelity_list)\n",
    "    all_fidelity_updated_list.append(fidelity_updated_list)"
   ]
  },
  {
   "cell_type": "code",
   "execution_count": null,
   "id": "2537f016-484d-4273-8f32-e5ee63598b77",
   "metadata": {},
   "outputs": [],
   "source": [
    "plt.figure(figsize=(8, 6))\n",
    "plt.errorbar(\n",
    "    num_qubits_list,\n",
    "    np.mean(all_fidelity_list, axis=0),\n",
    "    yerr=np.std(all_fidelity_list, axis=0),\n",
    "    fmt=\"o-.\",\n",
    "    label=\"original\",\n",
    "    color=\"b\",\n",
    ")\n",
    "# plt.plot(num_qubits_list, fidelity_list, '-.')\n",
    "plt.errorbar(\n",
    "    num_qubits_list,\n",
    "    np.mean(all_fidelity_updated_list, axis=0),\n",
    "    yerr=np.std(all_fidelity_updated_list, axis=0),\n",
    "    fmt=\"o-.\",\n",
    "    label=\"updated\",\n",
    "    color=\"r\",\n",
    ")\n",
    "# plt.plot(num_qubits_list, fidelity_updated_list, '-.')\n",
    "plt.xlabel(\"Chain length\")\n",
    "plt.xticks(num_qubits_list)\n",
    "plt.ylabel(\"Fidelity\")\n",
    "plt.title(\"Bell pair fidelity at the edge of N-qubits chain\")\n",
    "plt.legend()\n",
    "plt.grid(\n",
    "    alpha=0.2,\n",
    "    linestyle=\"-.\",\n",
    ")\n",
    "plt.show()"
   ]
  },
  {
   "cell_type": "markdown",
   "id": "9a7e3b2b-026d-46ae-9f5c-62e97769c1c0",
   "metadata": {},
   "source": [
    "With increasing chain length, and thus less freedom to choose physical qubits, the fact that we have updated information about qubit properties becomes less substantial, with there being no difference when all of the qubits are used."
   ]
  },
  {
   "cell_type": "markdown",
   "id": "b8c3bc0f-9cbe-4842-ac9a-eded8edfdf74",
   "metadata": {},
   "source": [
    "<div class=\"alert alert-block alert-success\">\n",
    "<b>Call to Action:</b> Try to apply this method to your executions and determine how much of a benefit you get! You can also try and see how much improvements you get from different backends.\n",
    "</div>"
   ]
  },
  {
   "cell_type": "markdown",
   "id": "bf568284-ae97-4c19-8408-714e7d97b0c3",
   "metadata": {},
   "source": [
    "## Tutorial survey\n",
    "\n",
    "Please take this short survey to provide feedback on this tutorial. Your insights will help us improve our content offerings and user experience.\n",
    "\n",
    "[Link to survey](https://your.feedback.ibm.com/jfe/form/SV_0w6FZ9QrWkKfTQq)"
   ]
  }
 ],
 "metadata": {
  "description": "Run real-time characterization experiments and update backend properties to improve qubit selection when mapping a circuit to the physical qubits on a QPU.",
  "kernelspec": {
   "display_name": "Python 3",
   "language": "python",
   "name": "python3"
  },
  "language_info": {
   "codemirror_mode": {
    "name": "ipython",
    "version": 3
   },
   "file_extension": ".py",
   "mimetype": "text/x-python",
   "name": "python",
   "nbconvert_exporter": "python",
   "pygments_lexer": "ipython3",
   "version": "3"
  },
  "title": "Real-time benchmarking for qubit selection\n"
 },
 "nbformat": 4,
 "nbformat_minor": 4
}
