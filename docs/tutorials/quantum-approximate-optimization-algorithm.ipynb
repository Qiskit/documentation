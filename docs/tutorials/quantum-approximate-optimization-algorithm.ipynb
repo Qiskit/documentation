{
 "cells": [
  {
   "cell_type": "markdown",
   "id": "5d52815f",
   "metadata": {
    "tags": [
     "remove-cell"
    ]
   },
   "source": [
    "{/* cspell:ignore rarr, QUBO, elist, fval */}"
   ]
  },
  {
   "cell_type": "markdown",
   "id": "bc51e7bf-e582-49ba-93f8-035624d56ccf",
   "metadata": {},
   "source": [
    "# Quantum approximate optimization algorithm\n",
    "*Usage estimate: Eight minutes on an Eagle processor (NOTE: This is an estimate only. Your runtime might vary.)*"
   ]
  },
  {
   "cell_type": "markdown",
   "id": "de201dbb",
   "metadata": {},
   "source": [
    "## Background\n",
    "This tutorial demonstrates how to implement the **Quantum Approximate Optimization Algorithm (QAOA)** – a hybrid (quantum-classical) iterative method – within the context of Qiskit patterns. You will first solve the **Maximum-Cut** (or **Max-Cut**) problem for a small graph and then learn how to execute it at utility scale. All the hardware executions in the tutorial should run within the time limit for the freely-accessible Open Plan.\n",
    "\n",
    "\n",
    "The Max-Cut problem is an optimization problem that is hard to solve (more specifically, it is an *NP-hard* problem) with a number of different applications in clustering, network science, and statistical physics. This tutorial considers a graph of nodes connected by edges, and aims to partition it into separate graphs such that they are both as large as possible. Put another way, the goal of this problem is to partition the nodes of a graph into two sets such that the number of edges traversed by this cut is maximized.\n",
    "\n",
    "![Illustration of a max-cut problem](/docs/images/tutorials/quantum-approximate-optimization-algorithm/maxcut-illustration.avif)"
   ]
  },
  {
   "cell_type": "markdown",
   "id": "381800e5",
   "metadata": {},
   "source": [
    "## Requirements\n",
    "\n",
    "Before starting this tutorial, be sure you have the following installed:\n",
    "- Qiskit SDK v1.0 or later, with visualization support ( `pip install 'qiskit[visualization]'` )\n",
    "- Qiskit Runtime 0.22 or later (`pip install qiskit-ibm-runtime`)"
   ]
  },
  {
   "cell_type": "markdown",
   "id": "f5307376",
   "metadata": {},
   "source": [
    "## Setup"
   ]
  },
  {
   "cell_type": "code",
   "execution_count": 7,
   "id": "37b3acfc",
   "metadata": {},
   "outputs": [],
   "source": [
    "import matplotlib\n",
    "import matplotlib.pyplot as plt\n",
    "import rustworkx as rx\n",
    "from rustworkx.visualization import mpl_draw as draw_graph\n",
    "import numpy as np\n",
    "from scipy.optimize import minimize\n",
    "from collections import defaultdict\n",
    "from typing import Sequence\n",
    "\n",
    "\n",
    "from qiskit.quantum_info import SparsePauliOp\n",
    "from qiskit.circuit.library import QAOAAnsatz\n",
    "from qiskit.transpiler.preset_passmanagers import generate_preset_pass_manager\n",
    "\n",
    "from qiskit_ibm_runtime import QiskitRuntimeService\n",
    "from qiskit_ibm_runtime import Session, EstimatorV2 as Estimator\n",
    "from qiskit_ibm_runtime import SamplerV2 as Sampler"
   ]
  },
  {
   "cell_type": "markdown",
   "id": "68fd0b4f-baa4-45dc-9f4c-d9cdff01a651",
   "metadata": {},
   "source": [
    "## Part I. Small-scale QAOA\n",
    "The first part of this tutorial uses a small-scale Max-Cut problem to illustrate the steps to solve an optimization problem using a quantum computer.\n",
    "\n",
    "To give some context before mapping this problem to a quantum algorithm, you can better understand how the Max-Cut problem becomes a classical combinatorial optimization problem by first considering the minimization of a function $f(x)$\n",
    "\n",
    "$$\n",
    "\\min_{x\\in \\{0, 1\\}^n}f(x),\n",
    "$$\n",
    "\n",
    "where the input $x$ is a vector whose components correspond to each node of a graph.  Then, constrain each of these components to be either $0$ or $1$ (which represent being included or not included in the cut). This small-scale example case uses a graph with $n=5$ nodes.\n",
    "\n",
    "You could write a function of a pair of nodes $i,j$ which indicates whether the corresponding edge $(i,j)$ is in the cut. For example, the function $x_i + x_j - 2 x_i x_j$ is 1 only if one of either $x_i$ or $x_j$ are 1 (which means that the edge is in the cut) and zero otherwise. The problem of maximizing the edges in the cut can be formulated as\n",
    "\n",
    "$$\n",
    "\\max_{x\\in \\{0, 1\\}^n} \\sum_{(i,j)} x_i + x_j - 2 x_i x_j,\n",
    "$$\n",
    "\n",
    "which can be rewritten as a minimization of the form\n",
    "\n",
    "$$\n",
    "\\min_{x\\in \\{0, 1\\}^n} \\sum_{(i,j)}  2 x_i x_j - x_i - x_j.\n",
    "$$\n",
    "\n",
    "The minimum of $f(x)$ in this case is when the number of edges traversed by the cut is maximal. As you can see, there is nothing relating to quantum computing yet. You need to reformulate this problem into something that a quantum computer can understand."
   ]
  },
  {
   "cell_type": "markdown",
   "id": "0cbca6cb",
   "metadata": {},
   "source": [
    "Initialize your problem by creating a graph with $n=5$ nodes."
   ]
  },
  {
   "cell_type": "code",
   "execution_count": 8,
   "id": "6ced6bea",
   "metadata": {},
   "outputs": [
    {
     "data": {
      "image/png": "[encoded data removed]",
      "text/plain": [
       "<Figure size 640x480 with 1 Axes>"
      ]
     },
     "metadata": {},
     "output_type": "display_data"
    }
   ],
   "source": [
    "n = 5\n",
    "\n",
    "graph = rx.PyGraph()\n",
    "graph.add_nodes_from(np.arange(0, n, 1))\n",
    "edge_list = [\n",
    "    (0, 1, 1.0),\n",
    "    (0, 2, 1.0),\n",
    "    (0, 4, 1.0),\n",
    "    (1, 2, 1.0),\n",
    "    (2, 3, 1.0),\n",
    "    (3, 4, 1.0),\n",
    "]\n",
    "graph.add_edges_from(edge_list)\n",
    "draw_graph(graph, node_size=600, with_labels=True)"
   ]
  },
  {
   "cell_type": "markdown",
   "id": "a06e4386-d7bd-4914-9baa-36a5cc60e3ab",
   "metadata": {},
   "source": [
    "### Step 1: Map classical inputs to a quantum problem\n",
    "\n",
    "The first step of the pattern is to map the classical problem (graph) into quantum **circuits** and **operators**. To do this, there are three main steps to take:\n",
    "\n",
    "1. Utilize a series of mathematical reformulations, to represent this problem using the Quadratic Unconstrained Binary Optimization (QUBO) problems notation.\n",
    "2. Rewrite the optimization problem as a Hamiltonian for which the ground state corresponds to the solution which minimizes the cost function.\n",
    "3. Create a quantum circuit which will prepare the ground state of this Hamiltonian via a process similar to quantum annealing.\n",
    "\n",
    "\n",
    "\n",
    "**Note:** In the QAOA methodology, you ultimately want to have an operator (**Hamiltonian**) that represents the **cost function** of our hybrid algorithm, as well as a parametrized circuit (**Ansatz**) that represents quantum states with candidate solutions to the problem. You can sample from these candidate states and then evaluate them using the cost function.\n",
    "\n",
    "\n",
    "#### Graph &rarr; optimization problem\n",
    "\n",
    "The first step of the mapping is a notation change, The following expresses the problem in QUBO notation:\n",
    "\n",
    "$$\n",
    "\\min_{x\\in \\{0, 1\\}^n}x^T Q x,\n",
    "$$\n",
    "\n",
    "where $Q$ is a $n\\times n$ matrix of real numbers, $n$ corresponds to the number of nodes in your graph, $x$ is the vector of binary variables introduced above, and $x^T$ indicates the transpose of the vector $x$.\n",
    "\n",
    "```\n",
    "Maximize\n",
    " -2*x_0*x_1 - 2*x_0*x_2 - 2*x_0*x_4 - 2*x_1*x_2 - 2*x_2*x_3 - 2*x_3*x_4 + 3*x_0\n",
    " + 2*x_1 + 3*x_2 + 2*x_3 + 2*x_4\n",
    "\n",
    "Subject to\n",
    "  No constraints\n",
    "\n",
    "  Binary variables (5)\n",
    "    x_0 x_1 x_2 x_3 x_4\n",
    "```"
   ]
  },
  {
   "cell_type": "markdown",
   "id": "a5b9e551-38a1-4543-b9f1-caaefb0ef3a9",
   "metadata": {},
   "source": [
    "### Optimization problem &rarr; Hamiltonian\n",
    "\n",
    "You can then reformulate the QUBO problem as a **Hamiltonian** (here, a matrix that represents the energy of a system):\n",
    "\n",
    "$$\n",
    "H_C=\\sum_{ij}Q_{ij}Z_iZ_j + \\sum_i b_iZ_i.\n",
    "$$\n",
    "\n",
    "> **Reformulation steps from the QAOA problem to the Hamiltonian**\n",
    "\n",
    "> To demonstrate how the QAOA problem can be rewritten in this way, first replace the binary variables $x_i$ to a new set of variables $z_i\\in\\{-1, 1\\}$ via\n",
    ">\n",
    "> $$\n",
    "> x_i = \\frac{1-z_i}{2}.\n",
    "> $$\n",
    ">\n",
    "> Here you can see that if $x_i$ is $0$, then $z_i$ must be $1$. When the $x_i$'s are substituted for the $z_i$'s in the optimization problem ($x^TQx$), an equivalent formulation can be obtained.\n",
    ">\n",
    "> $$\n",
    "> x^TQx=\\sum_{ij}Q_{ij}x_ix_j \\\\ =\\frac{1}{4}\\sum_{ij}Q_{ij}(1-z_i)(1-z_j) \\\\=\\frac{1}{4}\\sum_{ij}Q_{ij}z_iz_j-\\frac{1}{4}\\sum_{ij}(Q_{ij}+Q_{ji})z_i + \\frac{n^2}{4}.\n",
    "> $$\n",
    ">\n",
    "> Now if we define $b_i=-\\sum_{j}(Q_{ij}+Q_{ji})$, remove the prefactor, and the constant $n^2$ term, we arrive at the two equivalent formulations of the same optimization problem.\n",
    ">\n",
    "> $$\n",
    "> \\min_{x\\in\\{0,1\\}^n} x^TQx\\Longleftrightarrow \\min_{z\\in\\{-1,1\\}^n}z^TQz + b^Tz\n",
    "> $$\n",
    ">\n",
    "> Here, $b$ depends on $Q$. Note that to obtain $z^TQz + b^Tz$ we dropped the factor of 1/4 and a constant offset of $n^2$ which do not play a role in the optimization.\n",
    ">\n",
    ">\n",
    "> Now, to obtain a quantum formulation of the problem, promote the $z_i$ variables to a Pauli $Z$ matrix, such as a $2\\times 2$ matrix of the form\n",
    ">\n",
    "> $$\n",
    "> Z_i = \\begin{pmatrix}1 & 0 \\\\ 0 & -1\\end{pmatrix}.\n",
    "> $$\n",
    ">\n",
    "> When you substitute these matrices in the optimization problem above, you obtain the following Hamiltonian\n",
    ">\n",
    "> $$\n",
    "> H_C=\\sum_{ij}Q_{ij}Z_iZ_j + \\sum_i b_iZ_i.\n",
    "> $$\n",
    ">\n",
    "> *Also recall that the $Z$ matrices are embedded in the quantum computer's computational space, that is, a Hilbert space of size $2^n\\times 2^n$. Therefore, you should understand terms such as $Z_iZ_j$ as the tensor product $Z_i\\otimes Z_j$ embedded in the $2^n\\times 2^n$ Hilbert space. For example, in a problem with five decision variables the term $Z_1Z_3$ is understood to mean $I\\otimes Z_3\\otimes I\\otimes Z_1\\otimes I$ where $I$ is the $2\\times 2$ identity matrix.*\n",
    "\n",
    "\n",
    "This Hamiltonian is called the **cost function Hamiltonian**. It has the property that its ground state corresponds to the solution that **minimizes the cost function $f(x)$**.\n",
    "Therefore, to solve your optimization problem you now need to prepare the ground state of $H_C$ (or a state with a high overlap with it) on the quantum computer. Then, sampling from this state will, with a high probability, yield the solution to $min~f(x)$."
   ]
  },
  {
   "cell_type": "markdown",
   "id": "183f3603-1e5d-4839-a23c-31d17f5489a0",
   "metadata": {},
   "source": [
    "Now let us consider the Hamiltonian $H_C$ for the **Max-Cut** problem. Let each vertex of the graph be associated with a qubit in state $|0\\rangle$ or $|1\\rangle$, where the value denotes the set the vertex is in. The goal of the problem is to maximize the number of edges $(v_1, v_2)$ for which $v_1 = |0\\rangle$ and $v_2 = |1\\rangle$, or vice-versa. If we associate the $Z$ operator with each qubit, where\n",
    "\n",
    "$$\n",
    "    Z|0\\rangle = |0\\rangle \\qquad Z|1\\rangle = -|1\\rangle\n",
    "$$\n",
    "\n",
    "then an edge $(v_1, v_2)$ belongs to the cut if the eigenvalue of $(Z_1|v_1\\rangle) \\cdot (Z_2|v_2\\rangle) = -1$; in other words, the qubits associated with $v_1$ and $v_2$ are different. Similarly, $(v_1, v_2)$ does not belong to the cut if the eigenvalue of $(Z_1|v_1\\rangle) \\cdot (Z_2|v_2\\rangle) = 1$. Note that, we do not care about the exact qubit state associated with each vertex, rather we care only whether they are same or not across an edge. The Max-Cut problem requires us to find an assignment of the qubits on the vertices such that the eigenvalue of the following Hamiltonian is minimized\n",
    "$$\n",
    "    H_C = \\sum_{(i,j) \\in e} Q_{ij} \\cdot Z_i Z_j.\n",
    "$$\n",
    "\n",
    "In other words, $b_i = 0$ for all $i$ in the Max-Cut problem. The value of $Q_{ij}$ denotes the weight of the edge. In this tutorial we consider an unweighted graph, that is, $Q_{ij} = 1.0$ for all $i, j$."
   ]
  },
  {
   "cell_type": "code",
   "execution_count": 9,
   "id": "52d1ba92",
   "metadata": {},
   "outputs": [
    {
     "name": "stdout",
     "output_type": "stream",
     "text": [
      "Cost Function Hamiltonian: SparsePauliOp(['IIIZZ', 'IIZIZ', 'ZIIIZ', 'IIZZI', 'IZZII', 'ZZIII'],\n",
      "              coeffs=[1.+0.j, 1.+0.j, 1.+0.j, 1.+0.j, 1.+0.j, 1.+0.j])\n"
     ]
    }
   ],
   "source": [
    "def build_max_cut_paulis(graph: rx.PyGraph) -> list[tuple[str, float]]:\n",
    "    \"\"\"Convert the graph to Pauli list.\n",
    "\n",
    "    This function does the inverse of `build_max_cut_graph`\n",
    "    \"\"\"\n",
    "    pauli_list = []\n",
    "    for edge in list(graph.edge_list()):\n",
    "        weight = graph.get_edge_data(edge[0], edge[1])\n",
    "        pauli_list.append((\"ZZ\", [edge[0], edge[1]], weight))\n",
    "    return pauli_list\n",
    "\n",
    "\n",
    "max_cut_paulis = build_max_cut_paulis(graph)\n",
    "cost_hamiltonian = SparsePauliOp.from_sparse_list(max_cut_paulis, n)\n",
    "print(\"Cost Function Hamiltonian:\", cost_hamiltonian)"
   ]
  },
  {
   "cell_type": "markdown",
   "id": "33f71b0d-4a2a-4082-8c1a-ce9d2b769048",
   "metadata": {},
   "source": [
    "#### Hamiltonian &rarr; quantum circuit"
   ]
  },
  {
   "cell_type": "markdown",
   "id": "00431c46-30c2-40f9-99df-40baf8da98f6",
   "metadata": {},
   "source": [
    "The Hamiltonian $H_C$ contains the quantum definition of your problem. Now you can create a quantum circuit that will help *sample* good solutions from the quantum computer. The QAOA is inspired by quantum annealing and applies alternating layers of operators in the quantum circuit.\n",
    "\n",
    "The general idea is to start in the ground state of a known system, $H^{\\otimes n}|0\\rangle$ above, and then steer the system into the ground state of the cost operator that you are interested in. This is done by applying the operators $\\exp\\{-i\\gamma_k H_C\\}$ and $\\exp\\{-i\\beta_k H_m\\}$ with angles $\\gamma_1,...,\\gamma_p$ and $\\beta_1,...,\\beta_p~$.\n",
    "\n",
    "\n",
    "The quantum circuit that you generate is **parametrized** by $\\gamma_i$ and $\\beta_i$, so you can try out different values of $\\gamma_i$ and $\\beta_i$ and sample from the resulting state.\n",
    "\n",
    "![Circuit diagram with QAOA layers](/docs/images/tutorials/quantum-approximate-optimization-algorithm/circuit-diagram.avif)\n",
    "\n",
    "\n",
    "In this case, you will try an example with one QAOA layer that contains two parameters: $\\gamma_1$ and $\\beta_1$."
   ]
  },
  {
   "cell_type": "code",
   "execution_count": 10,
   "id": "7bd8c6d4-f40f-4a11-a440-0b26d9021b53",
   "metadata": {},
   "outputs": [
    {
     "data": {
      "image/png": "[encoded data removed]",
      "text/plain": [
       "<Figure size 831.22x535.111 with 1 Axes>"
      ]
     },
     "execution_count": 10,
     "metadata": {},
     "output_type": "execute_result"
    }
   ],
   "source": [
    "circuit = QAOAAnsatz(cost_operator=cost_hamiltonian, reps=2)\n",
    "circuit.measure_all()\n",
    "\n",
    "circuit.draw(\"mpl\")"
   ]
  },
  {
   "cell_type": "code",
   "execution_count": 11,
   "id": "315c495a",
   "metadata": {},
   "outputs": [
    {
     "data": {
      "text/plain": [
       "ParameterView([ParameterVectorElement(β[0]), ParameterVectorElement(β[1]), ParameterVectorElement(γ[0]), ParameterVectorElement(γ[1])])"
      ]
     },
     "execution_count": 11,
     "metadata": {},
     "output_type": "execute_result"
    }
   ],
   "source": [
    "circuit.parameters"
   ]
  },
  {
   "cell_type": "markdown",
   "id": "82f70daa-ff68-447a-8064-8b7df7a646cf",
   "metadata": {},
   "source": [
    "### Step 2: Optimize problem for quantum hardware execution"
   ]
  },
  {
   "cell_type": "markdown",
   "id": "c08be444-e3ed-4178-a10b-414069b1b411",
   "metadata": {},
   "source": [
    "The circuit above contains a series of abstractions useful to think about quantum algorithms, but not possible to run on the hardware. To be able to run on a QPU, the circuit needs to undergo a series of operations that make up the **transpilation** or **circuit optimization** step of the pattern.\n",
    "\n",
    "The Qiskit library offers a series of **transpilation passes** that cater to a wide range of circuit transformations. You need to make sure that your circuit is **optimized** for your purpose.\n",
    "\n",
    "Transpilation may involves several steps, such as:\n",
    "\n",
    "* **Initial mapping** of the qubits in the circuit (such as decision variables) to physical qubits on the device.\n",
    "* **Unrolling** of the instructions in the quantum circuit to the hardware-native instructions that the backend understands.\n",
    "* **Routing** of any qubits in the circuit that interact to physical qubits that are adjacent with one another.\n",
    "* **Error suppression** by adding single-qubit gates to suppress noise with dynamical decoupling.\n",
    "\n",
    "\n",
    "More information about transpilation is available in our [documentation](/docs/guides/transpile).\n",
    "\n",
    "The following code transforms and optimizes the abstract circuit into a format that is ready for execution on one of devices accessible through the cloud using the **Qiskit IBM Runtime service**."
   ]
  },
  {
   "cell_type": "code",
   "execution_count": 13,
   "id": "3f28a422-805c-4d3d-b5f6-62539e9133bd",
   "metadata": {},
   "outputs": [
    {
     "name": "stdout",
     "output_type": "stream",
     "text": [
      "<IBMBackend('ibm_kingston')>\n"
     ]
    },
    {
     "data": {
      "image/png": "[encoded data removed]",
      "text/plain": [
       "<Figure size 10995x535.111 with 1 Axes>"
      ]
     },
     "execution_count": 13,
     "metadata": {},
     "output_type": "execute_result"
    }
   ],
   "source": [
    "service = QiskitRuntimeService()\n",
    "backend = service.least_busy(\n",
    "    operational=True, simulator=False, min_num_qubits=127\n",
    ")\n",
    "print(backend)\n",
    "\n",
    "# Create pass manager for transpilation\n",
    "pm = generate_preset_pass_manager(optimization_level=3, backend=backend)\n",
    "\n",
    "candidate_circuit = pm.run(circuit)\n",
    "candidate_circuit.draw(\"mpl\", fold=False, idle_wires=False)"
   ]
  },
  {
   "cell_type": "markdown",
   "id": "4e75cad7-f599-4937-b5fe-f4d01f53423c",
   "metadata": {},
   "source": [
    "### Step 3: Execute using Qiskit primitives"
   ]
  },
  {
   "cell_type": "markdown",
   "id": "9b99ce67-f121-4244-b62a-536be38fea86",
   "metadata": {},
   "source": [
    "In the QAOA workflow, the optimal QAOA parameters are found in an iterative optimization loop, which runs a series of circuit evaluations and uses a classical optimizer to find the optimal $\\beta_k$ and $\\gamma_k$ parameters. This execution loop is executed via the following steps:\n",
    "\n",
    "1. Define the initial parameters\n",
    "2. Instantiate a new `Session` containing the optimization loop and the primitive used to sample the circuit\n",
    "3. Once an optimal set of parameters is found, execute the circuit a final time to obtain a final distribution which will be used in the post-process step."
   ]
  },
  {
   "cell_type": "markdown",
   "id": "00b2b0f1-9bad-4ad3-b93e-5cbf40395dbf",
   "metadata": {},
   "source": [
    "#### Define circuit with initial parameters\n",
    "We start with arbitrary chosen parameters."
   ]
  },
  {
   "cell_type": "code",
   "execution_count": 14,
   "id": "afa5747f-44dc-4e41-a875-7b6f896f13e2",
   "metadata": {},
   "outputs": [],
   "source": [
    "initial_gamma = np.pi\n",
    "initial_beta = np.pi / 2\n",
    "init_params = [initial_beta, initial_beta, initial_gamma, initial_gamma]"
   ]
  },
  {
   "cell_type": "markdown",
   "id": "b867f1b0-7196-4d34-9b28-e3fb1de8221c",
   "metadata": {},
   "source": [
    "#### Define backend and execution primitive\n",
    "Use the **Qiskit Runtime primitives** to interact with IBM&reg; backends. The two primitives are Sampler and Estimator, and the choice of primitive depends on what type of measurement you want to run on the quantum computer. For the minimization of $H_C$, use the Estimator since the measurement of the cost function is simply the expectation value of $\\langle H_C \\rangle$."
   ]
  },
  {
   "cell_type": "markdown",
   "id": "ebe288e7-ce87-4b6d-949c-041db09c7c47",
   "metadata": {},
   "source": [
    "#### Run\n",
    "\n",
    "The primitives offer a variety of [execution modes](/docs/guides/execution-modes) to schedule workloads on quantum devices, and a QAOA workflow runs iteratively in a session.\n",
    "\n",
    "![Illustration showing the behavior of Single job, Batch, and Session runtime modes.](/docs/images/tutorials/quantum-approximate-optimization-algorithm/runtime-modes.avif)\n",
    "\n",
    "You can plug the sampler-based cost function into the SciPy minimizing routine to find the optimal parameters."
   ]
  },
  {
   "cell_type": "code",
   "execution_count": 15,
   "id": "3e64a862",
   "metadata": {},
   "outputs": [],
   "source": [
    "def cost_func_estimator(params, ansatz, hamiltonian, estimator):\n",
    "    # transform the observable defined on virtual qubits to\n",
    "    # an observable defined on all physical qubits\n",
    "    isa_hamiltonian = hamiltonian.apply_layout(ansatz.layout)\n",
    "\n",
    "    pub = (ansatz, isa_hamiltonian, params)\n",
    "    job = estimator.run([pub])\n",
    "\n",
    "    results = job.result()[0]\n",
    "    cost = results.data.evs\n",
    "\n",
    "    objective_func_vals.append(cost)\n",
    "\n",
    "    return cost"
   ]
  },
  {
   "cell_type": "code",
   "execution_count": null,
   "id": "2df241a9",
   "metadata": {},
   "outputs": [],
   "source": [
    "objective_func_vals = []  # Global variable\n",
    "with Session(backend=backend) as session:\n",
    "    # If using qiskit-ibm-runtime<0.24.0, change `mode=` to `session=`\n",
    "    estimator = Estimator(mode=session)\n",
    "    estimator.options.default_shots = 1000\n",
    "\n",
    "    # Set simple error suppression/mitigation options\n",
    "    estimator.options.dynamical_decoupling.enable = True\n",
    "    estimator.options.dynamical_decoupling.sequence_type = \"XY4\"\n",
    "    estimator.options.twirling.enable_gates = True\n",
    "    estimator.options.twirling.num_randomizations = \"auto\"\n",
    "\n",
    "    result = minimize(\n",
    "        cost_func_estimator,\n",
    "        init_params,\n",
    "        args=(candidate_circuit, cost_hamiltonian, estimator),\n",
    "        method=\"COBYLA\",\n",
    "        tol=1e-2,\n",
    "    )\n",
    "    print(result)"
   ]
  },
  {
   "cell_type": "markdown",
   "id": "01d6b81c",
   "metadata": {},
   "source": [
    "The optimizer was able to reduce the cost and find better parameters for the circuit."
   ]
  },
  {
   "cell_type": "code",
   "execution_count": null,
   "id": "e14ecc92",
   "metadata": {},
   "outputs": [],
   "source": [
    "plt.figure(figsize=(12, 6))\n",
    "plt.plot(objective_func_vals)\n",
    "plt.xlabel(\"Iteration\")\n",
    "plt.ylabel(\"Cost\")\n",
    "plt.show()"
   ]
  },
  {
   "cell_type": "markdown",
   "id": "1f9c8a9c",
   "metadata": {},
   "source": [
    "Once you have found the optimal parameters for the circuit, you can assign these parameters and sample the final distribution obtained with the optimized parameters. Here is where the *Sampler* primitive should be used since it is the probability distribution of bitstring measurements which correspond to the optimal cut of the graph.\n",
    "\n",
    "**Note:** This means preparing a quantum state $\\psi$ in the computer and then measuring it. A measurement will collapse the state into a single computational basis state - for example, `010101110000...` - which corresponds to a candidate solution $x$ to our initial optimization problem ($\\max f(x)$ or $\\min f(x)$ depending on the task)."
   ]
  },
  {
   "cell_type": "code",
   "execution_count": null,
   "id": "2989e76e-4296-4dd8-b065-2b8fced064cf",
   "metadata": {},
   "outputs": [],
   "source": [
    "optimized_circuit = candidate_circuit.assign_parameters(result.x)\n",
    "optimized_circuit.draw(\"mpl\", fold=False, idle_wires=False)"
   ]
  },
  {
   "cell_type": "code",
   "execution_count": null,
   "id": "d8f0e302",
   "metadata": {},
   "outputs": [],
   "source": [
    "# If using qiskit-ibm-runtime<0.24.0, change `mode=` to `backend=`\n",
    "sampler = Sampler(mode=backend)\n",
    "sampler.options.default_shots = 10000\n",
    "\n",
    "# Set simple error suppression/mitigation options\n",
    "sampler.options.dynamical_decoupling.enable = True\n",
    "sampler.options.dynamical_decoupling.sequence_type = \"XY4\"\n",
    "sampler.options.twirling.enable_gates = True\n",
    "sampler.options.twirling.num_randomizations = \"auto\"\n",
    "\n",
    "pub = (optimized_circuit,)\n",
    "job = sampler.run([pub], shots=int(1e4))\n",
    "counts_int = job.result()[0].data.meas.get_int_counts()\n",
    "counts_bin = job.result()[0].data.meas.get_counts()\n",
    "shots = sum(counts_int.values())\n",
    "final_distribution_int = {key: val / shots for key, val in counts_int.items()}\n",
    "final_distribution_bin = {key: val / shots for key, val in counts_bin.items()}\n",
    "print(final_distribution_int)"
   ]
  },
  {
   "cell_type": "markdown",
   "id": "dace5fed-5555-4f1c-9109-7f5a31832d04",
   "metadata": {},
   "source": [
    "### Step 4: Post-process and return result in desired classical format\n",
    "\n",
    "The post-processing step interprets the sampling output to return a solution for your original problem. In this case, you are interested in the bitstring with the highest probability as this determines the optimal cut. The symmetries in the problem allow for four possible solutions, and the sampling process will return one of them with a slightly higher probability, but you can see in the plotted distribution below that four of the bitstrings are distinctively more likely than the rest."
   ]
  },
  {
   "cell_type": "code",
   "execution_count": null,
   "id": "d4f7fc70-883f-4b6b-8e92-2fc4afbbea46",
   "metadata": {},
   "outputs": [],
   "source": [
    "# auxiliary functions to sample most likely bitstring\n",
    "def to_bitstring(integer, num_bits):\n",
    "    result = np.binary_repr(integer, width=num_bits)\n",
    "    return [int(digit) for digit in result]\n",
    "\n",
    "\n",
    "keys = list(final_distribution_int.keys())\n",
    "values = list(final_distribution_int.values())\n",
    "most_likely = keys[np.argmax(np.abs(values))]\n",
    "most_likely_bitstring = to_bitstring(most_likely, len(graph))\n",
    "most_likely_bitstring.reverse()\n",
    "\n",
    "print(\"Result bitstring:\", most_likely_bitstring)"
   ]
  },
  {
   "cell_type": "code",
   "execution_count": null,
   "id": "650875e9-adbc-43bd-9505-556be2566278",
   "metadata": {},
   "outputs": [],
   "source": [
    "matplotlib.rcParams.update({\"font.size\": 10})\n",
    "final_bits = final_distribution_bin\n",
    "values = np.abs(list(final_bits.values()))\n",
    "top_4_values = sorted(values, reverse=True)[:4]\n",
    "positions = []\n",
    "for value in top_4_values:\n",
    "    positions.append(np.where(values == value)[0])\n",
    "fig = plt.figure(figsize=(11, 6))\n",
    "ax = fig.add_subplot(1, 1, 1)\n",
    "plt.xticks(rotation=45)\n",
    "plt.title(\"Result Distribution\")\n",
    "plt.xlabel(\"Bitstrings (reversed)\")\n",
    "plt.ylabel(\"Probability\")\n",
    "ax.bar(list(final_bits.keys()), list(final_bits.values()), color=\"tab:grey\")\n",
    "for p in positions:\n",
    "    ax.get_children()[int(p)].set_color(\"tab:purple\")\n",
    "plt.show()"
   ]
  },
  {
   "cell_type": "markdown",
   "id": "207443f2-34d9-424a-a6d7-44707ef1488b",
   "metadata": {},
   "source": [
    "#### Visualize best cut\n",
    "\n",
    "From the optimal bit string, you can then visualize this cut on the original graph."
   ]
  },
  {
   "cell_type": "code",
   "execution_count": null,
   "id": "33135970-8bc4-4fb2-ab87-08726a432ce4",
   "metadata": {},
   "outputs": [],
   "source": [
    "# auxiliary function to plot graphs\n",
    "def plot_result(G, x):\n",
    "    colors = [\"tab:grey\" if i == 0 else \"tab:purple\" for i in x]\n",
    "    pos, _default_axes = rx.spring_layout(G), plt.axes(frameon=True)\n",
    "    rx.visualization.mpl_draw(\n",
    "        G, node_color=colors, node_size=100, alpha=0.8, pos=pos\n",
    "    )\n",
    "\n",
    "\n",
    "plot_result(graph, most_likely_bitstring)"
   ]
  },
  {
   "cell_type": "markdown",
   "id": "2119575f-f3cf-45bc-ae2b-93c046391eb6",
   "metadata": {},
   "source": [
    "And calculate the value of the cut"
   ]
  },
  {
   "cell_type": "code",
   "execution_count": null,
   "id": "2f6a73c4-f5ae-4647-a0dd-d77a13f66388",
   "metadata": {},
   "outputs": [],
   "source": [
    "def evaluate_sample(x: Sequence[int], graph: rx.PyGraph) -> float:\n",
    "    assert len(x) == len(\n",
    "        list(graph.nodes())\n",
    "    ), \"The length of x must coincide with the number of nodes in the graph.\"\n",
    "    return sum(\n",
    "        x[u] * (1 - x[v]) + x[v] * (1 - x[u])\n",
    "        for u, v in list(graph.edge_list())\n",
    "    )\n",
    "\n",
    "\n",
    "cut_value = evaluate_sample(most_likely_bitstring, graph)\n",
    "print(\"The value of the cut is:\", cut_value)"
   ]
  },
  {
   "cell_type": "markdown",
   "id": "2e2a89de-cef3-46ea-b201-cf931b65dfea",
   "metadata": {},
   "source": [
    "## Part II. scale it up!\n",
    "\n",
    "You have access to many devices with over 100 qubits on IBM Quantum&reg; Platform. Select one on which to solve Max-Cut on a 100-node weighted graph. This is a \"utility-scale\" problem. The steps to build the workflow are followed the same as above, but with a much larger graph."
   ]
  },
  {
   "cell_type": "code",
   "execution_count": null,
   "id": "590fe2ce",
   "metadata": {},
   "outputs": [],
   "source": [
    "n = 100  # Number of nodes in graph\n",
    "graph_100 = rx.PyGraph()\n",
    "graph_100.add_nodes_from(np.arange(0, n, 1))\n",
    "elist = []\n",
    "for edge in backend.coupling_map:\n",
    "    if edge[0] < n and edge[1] < n:\n",
    "        elist.append((edge[0], edge[1], 1.0))\n",
    "graph_100.add_edges_from(elist)\n",
    "draw_graph(graph_100, node_size=200, with_labels=True, width=1)"
   ]
  },
  {
   "cell_type": "markdown",
   "id": "31bb3bc1-f19e-4553-9e93-a89e92ea5469",
   "metadata": {},
   "source": [
    "### Step 1: Map classical inputs to a quantum problem"
   ]
  },
  {
   "cell_type": "markdown",
   "id": "3dacef1f",
   "metadata": {},
   "source": [
    "#### Graph &rarr; Hamiltonian\n",
    "First, convert the graph you want to solve directly into a Hamiltonian that is suited for QAOA."
   ]
  },
  {
   "cell_type": "code",
   "execution_count": null,
   "id": "a6bdceed",
   "metadata": {},
   "outputs": [],
   "source": [
    "max_cut_paulis_100 = build_max_cut_paulis(graph_100)\n",
    "\n",
    "cost_hamiltonian_100 = SparsePauliOp.from_list(max_cut_paulis_100)\n",
    "print(\"Cost Function Hamiltonian:\", cost_hamiltonian_100)"
   ]
  },
  {
   "cell_type": "markdown",
   "id": "ba1796e6",
   "metadata": {},
   "source": [
    "#### Hamiltonian &rarr; quantum circuit"
   ]
  },
  {
   "cell_type": "code",
   "execution_count": null,
   "id": "9693adfc",
   "metadata": {},
   "outputs": [],
   "source": [
    "circuit_100 = QAOAAnsatz(cost_operator=cost_hamiltonian_100, reps=1)\n",
    "circuit_100.measure_all()\n",
    "\n",
    "circuit_100.draw(\"mpl\", fold=False, scale=0.2, idle_wires=False)"
   ]
  },
  {
   "cell_type": "markdown",
   "id": "cf31d488-d672-4c91-8a80-867273502396",
   "metadata": {},
   "source": [
    "### Step 2: Optimize problem for quantum execution\n",
    "To scale the circuit optimization step to utility-scale problems, you can take advantage of the high performance transpilation strategies introduced in Qiskit SDK v1.0. Other tools include the new transpiler service with [AI enhanced transpiler passes](/docs/guides/ai-transpiler-passes)."
   ]
  },
  {
   "cell_type": "code",
   "execution_count": null,
   "id": "3a14e7ad",
   "metadata": {},
   "outputs": [],
   "source": [
    "pm = generate_preset_pass_manager(optimization_level=3, backend=backend)\n",
    "\n",
    "candidate_circuit_100 = pm.run(circuit_100)\n",
    "candidate_circuit_100.draw(\"mpl\", fold=False, scale=0.1, idle_wires=False)"
   ]
  },
  {
   "cell_type": "markdown",
   "id": "8a8e65f0-9089-4237-b833-6f99da859ce2",
   "metadata": {},
   "source": [
    "### Step 3: Execute using Qiskit primitives\n",
    "\n",
    "To run QAOA, you must know the optimal parameters $\\gamma_k$ and $\\beta_k$ to put in the variational circuit. Optimize these parameters by running an optimization loop on the device. The cell submits jobs until the cost function value has converged and the optimal parameters for $\\gamma_k$ and $\\beta_k$ are determined."
   ]
  },
  {
   "cell_type": "markdown",
   "id": "5e11ce39-a046-4f65-a8e6-bc9ca123eb9a",
   "metadata": {},
   "source": [
    "#### Find candidate solution by running the optimization on the device"
   ]
  },
  {
   "cell_type": "markdown",
   "id": "7ac4b5df",
   "metadata": {},
   "source": [
    "First, run the optimization loop for the circuit parameters on a device."
   ]
  },
  {
   "cell_type": "code",
   "execution_count": null,
   "id": "9521a963",
   "metadata": {},
   "outputs": [],
   "source": [
    "initial_gamma = np.pi\n",
    "initial_beta = np.pi / 2\n",
    "init_params = [initial_beta, initial_gamma]\n",
    "\n",
    "objective_func_vals = []  # Global variable\n",
    "with Session(backend=backend) as session:\n",
    "    # If using qiskit-ibm-runtime<0.24.0, change `mode=` to `session=`\n",
    "    estimator = Estimator(mode=session)\n",
    "\n",
    "    estimator.options.default_shots = 1000\n",
    "\n",
    "    # Set simple error suppression/mitigation options\n",
    "    estimator.options.dynamical_decoupling.enable = True\n",
    "    estimator.options.dynamical_decoupling.sequence_type = \"XY4\"\n",
    "    estimator.options.twirling.enable_gates = True\n",
    "    estimator.options.twirling.num_randomizations = \"auto\"\n",
    "\n",
    "    result = minimize(\n",
    "        cost_func_estimator,\n",
    "        init_params,\n",
    "        args=(candidate_circuit_100, cost_hamiltonian_100, estimator),\n",
    "        method=\"COBYLA\",\n",
    "    )\n",
    "    print(result)"
   ]
  },
  {
   "cell_type": "markdown",
   "id": "1ec8bdc0-48ed-42e2-a8f2-55d41432b383",
   "metadata": {},
   "source": [
    "Once the optimal parameters from running QAOA on the device have been found, assign the parameters to the circuit"
   ]
  },
  {
   "cell_type": "code",
   "execution_count": null,
   "id": "1c432c2e",
   "metadata": {},
   "outputs": [],
   "source": [
    "optimized_circuit_100 = candidate_circuit_100.assign_parameters(result.x)\n",
    "optimized_circuit_100.draw(\"mpl\", fold=False, idle_wires=False)"
   ]
  },
  {
   "cell_type": "markdown",
   "id": "f3a9a3be-60db-41f0-9058-451c1f41a8a7",
   "metadata": {},
   "source": [
    "Finally, execute the circuit with the optimal parameters to sample from the corresponding distribution."
   ]
  },
  {
   "cell_type": "code",
   "execution_count": null,
   "id": "a5cc531b",
   "metadata": {},
   "outputs": [],
   "source": [
    "# If using qiskit-ibm-runtime<0.24.0, change `mode=` to `backend=`\n",
    "sampler = Sampler(mode=backend)\n",
    "sampler.options.default_shots = 10000\n",
    "\n",
    "# Set simple error suppression/mitigation options\n",
    "sampler.options.dynamical_decoupling.enable = True\n",
    "sampler.options.dynamical_decoupling.sequence_type = \"XY4\"\n",
    "sampler.options.twirling.enable_gates = True\n",
    "sampler.options.twirling.num_randomizations = \"auto\"\n",
    "\n",
    "\n",
    "pub = (optimized_circuit_100,)\n",
    "job = sampler.run([pub], shots=int(1e4))\n",
    "\n",
    "counts_int = job.result()[0].data.meas.get_int_counts()\n",
    "counts_bin = job.result()[0].data.meas.get_counts()\n",
    "shots = sum(counts_int.values())\n",
    "final_distribution_100_int = {\n",
    "    key: val / shots for key, val in counts_int.items()\n",
    "}"
   ]
  },
  {
   "cell_type": "markdown",
   "id": "7a8f4463",
   "metadata": {},
   "source": [
    "Check that the cost minimized in the optimization loop has converged to a certain value."
   ]
  },
  {
   "cell_type": "code",
   "execution_count": null,
   "id": "0fda3611",
   "metadata": {},
   "outputs": [],
   "source": [
    "plt.figure(figsize=(12, 6))\n",
    "plt.plot(objective_func_vals)\n",
    "plt.xlabel(\"Iteration\")\n",
    "plt.ylabel(\"Cost\")\n",
    "plt.show()"
   ]
  },
  {
   "cell_type": "markdown",
   "id": "c6b01763",
   "metadata": {},
   "source": [
    "### Step 4: Post-process and return result in desired classical format"
   ]
  },
  {
   "cell_type": "markdown",
   "id": "da37beca",
   "metadata": {},
   "source": [
    "Given that the likelihood of each solution is low, extract the solution that corresponds to the lowest cost."
   ]
  },
  {
   "cell_type": "code",
   "execution_count": null,
   "id": "080e93a9",
   "metadata": {},
   "outputs": [],
   "source": [
    "_PARITY = np.array(\n",
    "    [-1 if bin(i).count(\"1\") % 2 else 1 for i in range(256)],\n",
    "    dtype=np.complex128,\n",
    ")\n",
    "\n",
    "\n",
    "def evaluate_sparse_pauli(state: int, observable: SparsePauliOp) -> complex:\n",
    "    \"\"\"Utility for the evaluation of the expectation value of a measured state.\"\"\"\n",
    "    packed_uint8 = np.packbits(observable.paulis.z, axis=1, bitorder=\"little\")\n",
    "    state_bytes = np.frombuffer(\n",
    "        state.to_bytes(packed_uint8.shape[1], \"little\"), dtype=np.uint8\n",
    "    )\n",
    "    reduced = np.bitwise_xor.reduce(packed_uint8 & state_bytes, axis=1)\n",
    "    return np.sum(observable.coeffs * _PARITY[reduced])\n",
    "\n",
    "\n",
    "def best_solution(samples, hamiltonian):\n",
    "    \"\"\"Find solution with lowest cost\"\"\"\n",
    "    min_cost = 1000\n",
    "    min_sol = None\n",
    "    for bit_str in samples.keys():\n",
    "        # Qiskit use little endian hence the [::-1]\n",
    "        candidate_sol = int(bit_str)\n",
    "        # fval = qp.objective.evaluate(candidate_sol)\n",
    "        fval = evaluate_sparse_pauli(candidate_sol, hamiltonian).real\n",
    "        if fval <= min_cost:\n",
    "            min_sol = candidate_sol\n",
    "\n",
    "    return min_sol\n",
    "\n",
    "\n",
    "best_sol_100 = best_solution(final_distribution_100_int, cost_hamiltonian_100)\n",
    "best_sol_bitstring_100 = to_bitstring(int(best_sol_100), len(graph_100))\n",
    "best_sol_bitstring_100.reverse()\n",
    "\n",
    "print(\"Result bitstring:\", best_sol_bitstring_100)"
   ]
  },
  {
   "cell_type": "markdown",
   "id": "7d0cac91",
   "metadata": {},
   "source": [
    "Next, visualize the cut. Nodes of the same color belong to the same group."
   ]
  },
  {
   "cell_type": "code",
   "execution_count": null,
   "id": "b4a25e28",
   "metadata": {},
   "outputs": [],
   "source": [
    "plot_result(graph_100, best_sol_bitstring_100)"
   ]
  },
  {
   "cell_type": "markdown",
   "id": "95507cce-16ec-433c-956b-c77f70d7a3ab",
   "metadata": {},
   "source": [
    "And calculate the the value of the cut"
   ]
  },
  {
   "cell_type": "code",
   "execution_count": null,
   "id": "dd015e77-c1b9-4d06-9163-3ef56cc810f7",
   "metadata": {},
   "outputs": [],
   "source": [
    "cut_value_100 = evaluate_sample(best_sol_bitstring_100, graph_100)\n",
    "print(\"The value of the cut is:\", cut_value_100)"
   ]
  },
  {
   "cell_type": "markdown",
   "id": "be09c8ea",
   "metadata": {},
   "source": [
    "Now you need to compute the objective value of each sample that you measured on the quantum computer. The sample with the lowest objective value is the solution returned by the quantum computer."
   ]
  },
  {
   "cell_type": "code",
   "execution_count": null,
   "id": "27db70eb",
   "metadata": {},
   "outputs": [],
   "source": [
    "# auxiliary function to help plot cumulative distribution functions\n",
    "def _plot_cdf(objective_values: dict, ax, color):\n",
    "    x_vals = sorted(objective_values.keys(), reverse=True)\n",
    "    y_vals = np.cumsum([objective_values[x] for x in x_vals])\n",
    "    ax.plot(x_vals, y_vals, color=color)\n",
    "\n",
    "\n",
    "def plot_cdf(dist, ax, title):\n",
    "    _plot_cdf(\n",
    "        dist,\n",
    "        ax,\n",
    "        \"C1\",\n",
    "    )\n",
    "    ax.vlines(min(list(dist.keys())), 0, 1, \"C1\", linestyle=\"--\")\n",
    "\n",
    "    ax.set_title(title)\n",
    "    ax.set_xlabel(\"Objective function value\")\n",
    "    ax.set_ylabel(\"Cumulative distribution function\")\n",
    "    ax.grid(alpha=0.3)\n",
    "\n",
    "\n",
    "# auxiliary function to convert bit-strings to objective values\n",
    "def samples_to_objective_values(samples, hamiltonian):\n",
    "    \"\"\"Convert the samples to values of the objective function.\"\"\"\n",
    "\n",
    "    objective_values = defaultdict(float)\n",
    "    for bit_str, prob in samples.items():\n",
    "        candidate_sol = int(bit_str)\n",
    "        fval = evaluate_sparse_pauli(candidate_sol, hamiltonian).real\n",
    "        objective_values[fval] += prob\n",
    "\n",
    "    return objective_values"
   ]
  },
  {
   "cell_type": "code",
   "execution_count": null,
   "id": "33f0580d",
   "metadata": {},
   "outputs": [],
   "source": [
    "result_dist = samples_to_objective_values(\n",
    "    final_distribution_100_int, cost_hamiltonian_100\n",
    ")"
   ]
  },
  {
   "cell_type": "markdown",
   "id": "20b3480e",
   "metadata": {},
   "source": [
    "Finally, you can plot the cumulative distribution function to visualize how each sample contributes to the total probability distribution and the corresponding objective value. The horizontal spread shows the range of objective values of the samples in the final distribution. Ideally, you would see that the cumulative distribution function has \"jumps\" at the lower end of the objective function value axis. This would mean that few solutions with low cost have high probability of being sampled. A smooth, wide curve indicates that each sample is similarly likely, and they can have very different objective values, low or high."
   ]
  },
  {
   "cell_type": "code",
   "execution_count": null,
   "id": "4381a2b3",
   "metadata": {},
   "outputs": [],
   "source": [
    "fig, ax = plt.subplots(1, 1, figsize=(8, 6))\n",
    "plot_cdf(result_dist, ax, \"Eagle device\")"
   ]
  },
  {
   "cell_type": "markdown",
   "id": "69ebc85b-6a29-4671-8d16-1ac97f089607",
   "metadata": {},
   "source": [
    "## Conclusion\n",
    "\n",
    "This tutorial demonstrated how to solve an optimization problem with a quantum computer using the Qiskit patterns framework. The demonstration included a utility-scale example, with circuit sizes that cannot be exactly simulated classically. Currently, quantum computers do not outperform classical computers for combinatorial optimization because of noise. However, the hardware is steadily improving, and new algorithms for quantum computers are continually being developed. Indeed, much of the research working on quantum heuristics for combinatorial optimization is tested with classical simulations that only allow for a small number of qubits, typically around 20 qubits. Now, with larger qubit counts and devices with less noise, researchers will be able to start benchmarking these quantum heuristics at large problem sizes on quantum hardware."
   ]
  },
  {
   "cell_type": "markdown",
   "id": "b4a9cf43",
   "metadata": {},
   "source": [
    "## Tutorial survey\n",
    "\n",
    "Please take this short survey to provide feedback on this tutorial. Your insights will help us improve our content offerings and user experience.\n",
    "\n",
    "[Link to survey](https://your.feedback.ibm.com/jfe/form/SV_cNHi0H1YIagQZ9Q)"
   ]
  }
 ],
 "metadata": {
  "description": "Learn the basics of quantum computing, and how to use IBM Quantum services and systems to solve real-world problems.",
  "kernelspec": {
   "display_name": "Python 3",
   "language": "python",
   "name": "python3"
  },
  "language_info": {
   "codemirror_mode": {
    "name": "ipython",
    "version": 3
   },
   "file_extension": ".py",
   "mimetype": "text/x-python",
   "name": "python",
   "nbconvert_exporter": "python",
   "pygments_lexer": "ipython3",
   "version": "3"
  },
  "title": "Quantum approximate optimization algorithm"
 },
 "nbformat": 4,
 "nbformat_minor": 5
}
